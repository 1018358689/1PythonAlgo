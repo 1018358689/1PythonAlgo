{
 "cells": [
  {
   "cell_type": "markdown",
   "metadata": {},
   "source": [
    "# 1.Python的数据类型和基础函数"
   ]
  },
  {
   "cell_type": "markdown",
   "metadata": {},
   "source": [
    "可变(不可哈希)：列表、字典、集合\n",
    "不可变(可哈希)：数字、字符串、元组\n",
    "\n",
    "有序：列表、元组、字符串\n",
    "无序：集合、字典\n"
   ]
  },
  {
   "cell_type": "markdown",
   "metadata": {},
   "source": [
    "## 1.1 元组\n",
    "元组（turple）是一个固定长度，不可改变的Python序列对象。创建元组只需要用()包括值即可，或者直接使用逗号分隔。与list最大的不同在于，元组属于不可变数据类型，我们不能修改元组"
   ]
  },
  {
   "cell_type": "code",
   "execution_count": 1,
   "metadata": {},
   "outputs": [
    {
     "data": {
      "text/plain": [
       "tuple"
      ]
     },
     "execution_count": 1,
     "metadata": {},
     "output_type": "execute_result"
    }
   ],
   "source": [
    "tu = (1, 2)\n",
    "tu2 = (1, )\n",
    "tu3 = 1, 2, 3, 4\n",
    "type(tu3)"
   ]
  },
  {
   "cell_type": "code",
   "execution_count": 5,
   "metadata": {},
   "outputs": [
    {
     "data": {
      "text/plain": [
       "1"
      ]
     },
     "execution_count": 5,
     "metadata": {},
     "output_type": "execute_result"
    }
   ],
   "source": [
    "#选择元组的元素\n",
    "tu3[0]"
   ]
  },
  {
   "cell_type": "code",
   "execution_count": 3,
   "metadata": {},
   "outputs": [
    {
     "data": {
      "text/plain": [
       "('foo', [1, 2, 3], True)"
      ]
     },
     "execution_count": 3,
     "metadata": {},
     "output_type": "execute_result"
    }
   ],
   "source": [
    "#元组是不可变的对象，但如果元组中的某个对象是可变的，比如列表，可以进行修改\n",
    "tup = tuple(['foo', [1, 2], True])\n",
    "tup[1].append(3)\n",
    "tup"
   ]
  },
  {
   "cell_type": "code",
   "execution_count": 8,
   "metadata": {},
   "outputs": [
    {
     "data": {
      "text/plain": [
       "((4, None, 'foo', 6, 0, 'bar'),\n",
       " ('foo', 'bar', 'foo', 'bar', 'foo', 'bar', 'foo', 'bar', 'foo', 'bar'))"
      ]
     },
     "execution_count": 8,
     "metadata": {},
     "output_type": "execute_result"
    }
   ],
   "source": [
    "#可以用加法和乘法串联\n",
    "tup1 = (4, None, 'foo') + (6, 0) + ('bar', )\n",
    "tup2 = ('foo', 'bar') * 5\n",
    "tup1, tup2\n"
   ]
  },
  {
   "cell_type": "code",
   "execution_count": 78,
   "metadata": {},
   "outputs": [
    {
     "data": {
      "text/plain": [
       "('s', 't', 'r', 'i', 'n', 'g')"
      ]
     },
     "execution_count": 78,
     "metadata": {},
     "output_type": "execute_result"
    }
   ],
   "source": [
    "#用tuple可以将任意序列或迭代器转换成元组\n",
    "tup = tuple('string')\n",
    "tup"
   ]
  },
  {
   "cell_type": "code",
   "execution_count": 90,
   "metadata": {},
   "outputs": [
    {
     "data": {
      "text/plain": [
       "4"
      ]
     },
     "execution_count": 90,
     "metadata": {},
     "output_type": "execute_result"
    }
   ],
   "source": [
    "#count（也适用于列表），它可以统计某个值得出现频率\n",
    "a = (1, 2, 2, 2, 3, 4, 2)\n",
    "a.count(2)"
   ]
  },
  {
   "cell_type": "markdown",
   "metadata": {},
   "source": [
    "## 1.2 列表\n",
    "与元组对比，列表的长度可变、内容可以被修改。列表属于可变的数据类型，因此可以添执行加、删除，或者是搜索列表中的项目。列表可以嵌套"
   ]
  },
  {
   "cell_type": "code",
   "execution_count": 9,
   "metadata": {},
   "outputs": [
    {
     "data": {
      "text/plain": [
       "([1, 2, 3, 4], ['a', 'b', 'c', 'd'], [1, 2, 'a', 'b'])"
      ]
     },
     "execution_count": 9,
     "metadata": {},
     "output_type": "execute_result"
    }
   ],
   "source": [
    "li = [1, 2, 3, 4]\n",
    "li2 = ['a', 'b', 'c', 'd']\n",
    "li3 = [1, 2, 'a', 'b']\n",
    "li, li2, li3"
   ]
  },
  {
   "cell_type": "code",
   "execution_count": 15,
   "metadata": {},
   "outputs": [
    {
     "data": {
      "text/plain": [
       "1"
      ]
     },
     "execution_count": 15,
     "metadata": {},
     "output_type": "execute_result"
    }
   ],
   "source": [
    "#列表的常用操作1（turple也有同样的操作）\n",
    "li = [1, 2, 3, 4]\n",
    "li2 = [5, 6, 7, 8]\n",
    "1 in li  ##返回布尔值，1是否在li中\n",
    "1 not in li  ##返回布尔值，1是否不在li中\n",
    "li + li2  ##li和li2的拼接，可以+=\n",
    "li[2]  ##返回li索引为2的元素，从0开始\n",
    "li[0:2]  ##返回0到（2-1）的元素\n",
    "li[:2]  #同上\n",
    "li[1:]\n",
    "len(li)  ##li元素个数\n",
    "min(li)  ##最小元素\n",
    "max(li)  ##最大元素\n",
    "li.count(1)  ##统计li中为1的个数\n"
   ]
  },
  {
   "cell_type": "code",
   "execution_count": 22,
   "metadata": {},
   "outputs": [],
   "source": [
    "#列表的常用操作2（turple没有）\n",
    "##list的操作\n",
    "li = [1, 2, 3, 4]\n",
    "li[3] = 8  ##赋值\n",
    "li.append(5)  ##尾部赋值,等价于li.insert(len(li),5)\n",
    "li.insert(1, 10)  ##在索引为2的位置插入10，不是赋值\n",
    "#li.clear()##清空\n",
    "li.extend(li2)  ##插入一组数值，等于+=\n",
    "li.remove(3)  ##删除第一个等于3的元素，如果要删除所有，则需要使用循环\n",
    "li.reverse()  ##列表反向\n",
    "li.sort()  #排序，字母顺序，大写在小写前面，sort的排序是永久的，即sort后，原序列就改变了\n",
    "li.sort(reverse=True)  #排序，反过来进行\n",
    "li2 = sorted(li)  #和sort相反，sorted排序是临时的，不会影响原序列\n",
    "li.sort(reverse=True)  #临时排序，反过来进行\n"
   ]
  },
  {
   "cell_type": "code",
   "execution_count": 111,
   "metadata": {},
   "outputs": [
    {
     "data": {
      "text/plain": [
       "3"
      ]
     },
     "execution_count": 111,
     "metadata": {},
     "output_type": "execute_result"
    }
   ],
   "source": [
    "li.pop(2)  #pop移除并返回指定位置的元素\n"
   ]
  },
  {
   "cell_type": "code",
   "execution_count": 24,
   "metadata": {},
   "outputs": [
    {
     "name": "stdout",
     "output_type": "stream",
     "text": [
      "[1, 2, 3, 1, 2, 3, 1, 2, 3]\n",
      "[1, 2]\n",
      "1\n",
      "0\n"
     ]
    }
   ],
   "source": [
    "## list的操作\n",
    "li = [1, 2, 3]\n",
    "print(li * 3)  #列表的复制\n",
    "del li[2]  #删除索引为2的元素（3）\n",
    "print(li)\n",
    "li = [1, 2, 3, 1]\n",
    "print(li.index(2))  #查找元素的索引 1\n",
    "print(li.index(1))  #如果元素出现多次，则显示第一个 0\n"
   ]
  },
  {
   "cell_type": "markdown",
   "metadata": {},
   "source": [
    "### 列表的赋值，引用和复制\n",
    "对于变量来说，赋值是复制值。但是对于列表来说，赋值其实只是赋值引用"
   ]
  },
  {
   "cell_type": "code",
   "execution_count": 1,
   "metadata": {},
   "outputs": [
    {
     "name": "stdout",
     "output_type": "stream",
     "text": [
      "100 42\n"
     ]
    }
   ],
   "source": [
    "spam = 42\n",
    "cheese = spam\n",
    "spam = 100\n",
    "print(spam, cheese)\n"
   ]
  },
  {
   "cell_type": "code",
   "execution_count": 2,
   "metadata": {},
   "outputs": [
    {
     "name": "stdout",
     "output_type": "stream",
     "text": [
      "['hello', 1, 2, 3, 4, 5] ['hello', 1, 2, 3, 4, 5]\n"
     ]
    }
   ],
   "source": [
    "#对于列表来说，赋值是两个一起改变，不管是修改源列表还是目标列表\n",
    "spam = [0, 1, 2, 3, 4, 5]\n",
    "cheese = spam\n",
    "cheese[0] = 'hello'\n",
    "print(spam, cheese)\n"
   ]
  },
  {
   "cell_type": "code",
   "execution_count": 3,
   "metadata": {},
   "outputs": [
    {
     "name": "stdout",
     "output_type": "stream",
     "text": [
      "['A', 'B', 'C', 'D'] ['A', 42, 'C', 'D']\n"
     ]
    }
   ],
   "source": [
    "#如果不想单纯引用，可以使用copy()\n",
    "import copy\n",
    "\n",
    "spam = ['A', 'B', 'C', 'D']\n",
    "cheese = copy.copy(spam)\n",
    "cheese[1] = 42\n",
    "print(spam, cheese)\n"
   ]
  },
  {
   "cell_type": "code",
   "execution_count": 9,
   "metadata": {},
   "outputs": [
    {
     "name": "stdout",
     "output_type": "stream",
     "text": [
      "['A', 'B', 'C', 'D'] ['A', 42, 'C', 'D']\n"
     ]
    }
   ],
   "source": [
    "#或者把元素复制\n",
    "spam = ['A', 'B', 'C', 'D']\n",
    "cheese = spam[:]\n",
    "cheese[1] = 42\n",
    "print(spam, cheese)\n"
   ]
  },
  {
   "cell_type": "markdown",
   "metadata": {},
   "source": [
    "## 1.3 字典\n",
    "字典是一种“键-值”(key-value)映射结构，字典使用花括号{}包括，键和值之间用冒号：分割，每对键-值”用逗号，分割，键必须唯一。"
   ]
  },
  {
   "cell_type": "markdown",
   "metadata": {},
   "source": [
    "### 1.3.1 字典的基本操作"
   ]
  },
  {
   "cell_type": "code",
   "execution_count": 1,
   "metadata": {},
   "outputs": [
    {
     "data": {
      "text/plain": [
       "{'a': 'some value', 'b': [1, 2, 3, 4]}"
      ]
     },
     "execution_count": 1,
     "metadata": {},
     "output_type": "execute_result"
    }
   ],
   "source": [
    "#创建字典的方法之一是使用尖括号，用冒号分隔键和值：\n",
    "#创建空字典\n",
    "empty_dict = {}\n",
    "#创建一个字典\n",
    "d1 = {'a': 'some value', 'b': [1, 2, 3, 4]}\n",
    "d1"
   ]
  },
  {
   "cell_type": "code",
   "execution_count": 2,
   "metadata": {},
   "outputs": [
    {
     "data": {
      "text/plain": [
       "'some value'"
      ]
     },
     "execution_count": 2,
     "metadata": {},
     "output_type": "execute_result"
    }
   ],
   "source": [
    "#字典元素的访问，但是如果访问字典中不存在的键则会报错\n",
    "d1['a']"
   ]
  },
  {
   "cell_type": "code",
   "execution_count": 3,
   "metadata": {},
   "outputs": [
    {
     "data": {
      "text/plain": [
       "'None'"
      ]
     },
     "execution_count": 3,
     "metadata": {},
     "output_type": "execute_result"
    }
   ],
   "source": [
    "#为了处理报错，可以使用get()提取元素，键不存在时，返回默认\n",
    "#get(键，默认值)它有两个参数：要取得其值的键，以及如果该键不存在时，返回的备用值。\n",
    "spam = {'color': 'red', 'age': 42}\n",
    "spam.get('name', 'None')\n"
   ]
  },
  {
   "cell_type": "code",
   "execution_count": 4,
   "metadata": {},
   "outputs": [
    {
     "data": {
      "text/plain": [
       "{'a': 'some value', 'b': [1, 2, 3, 4], 7: 'an integer'}"
      ]
     },
     "execution_count": 4,
     "metadata": {},
     "output_type": "execute_result"
    }
   ],
   "source": [
    "#插入元素\n",
    "d1[7] = 'an integer'  #插入字典中的元素，7为key，'an integer'为value\n",
    "d1"
   ]
  },
  {
   "cell_type": "code",
   "execution_count": 31,
   "metadata": {},
   "outputs": [
    {
     "data": {
      "text/plain": [
       "{'a': 'some value', 'b': 'foo', 'c': 12, 7: 'an integer'}"
      ]
     },
     "execution_count": 31,
     "metadata": {},
     "output_type": "execute_result"
    }
   ],
   "source": [
    "#update方法可以插入多个元素\n",
    "d1.update({'b': 'foo', 'c': 12})\n",
    "d1"
   ]
  },
  {
   "cell_type": "code",
   "execution_count": 20,
   "metadata": {},
   "outputs": [
    {
     "name": "stdout",
     "output_type": "stream",
     "text": [
      "{'a': 'some value', 'b': [1, 2, 3, 4], 'dummy': 'another value'}\n"
     ]
    }
   ],
   "source": [
    "#删除元素\n",
    "#del关键字或pop方法（返回值的同时删除键）删除值\n",
    "del d1[7]\n",
    "print(d1)"
   ]
  },
  {
   "cell_type": "code",
   "execution_count": 21,
   "metadata": {},
   "outputs": [
    {
     "data": {
      "text/plain": [
       "('another value', {'a': 'some value', 'b': [1, 2, 3, 4]})"
      ]
     },
     "execution_count": 21,
     "metadata": {},
     "output_type": "execute_result"
    }
   ],
   "source": [
    "#pop方法\n",
    "d1['dummy'] = 'another value'\n",
    "ret = d1.pop('dummy')\n",
    "ret, d1\n"
   ]
  },
  {
   "cell_type": "markdown",
   "metadata": {},
   "source": [
    "### 1.3.2 字典的遍历"
   ]
  },
  {
   "cell_type": "code",
   "execution_count": 25,
   "metadata": {},
   "outputs": [
    {
     "name": "stdout",
     "output_type": "stream",
     "text": [
      "('color', 'red')\n",
      "('age', 42)\n"
     ]
    }
   ],
   "source": [
    "#keys()返回键,values()返回值，items()方法返回键值对\n",
    "spam = {'color': 'red', 'age': 42}\n",
    "spam.values()\n",
    "for i in spam.items():\n",
    "    print(i)"
   ]
  },
  {
   "cell_type": "code",
   "execution_count": 26,
   "metadata": {},
   "outputs": [
    {
     "data": {
      "text/plain": [
       "(['a', 'b'], ['some value', [1, 2, 3, 4]])"
      ]
     },
     "execution_count": 26,
     "metadata": {},
     "output_type": "execute_result"
    }
   ],
   "source": [
    "#keys和values是字典的键和值的迭代器方法。虽然键值对没有顺序，这两个方法可以用相同的顺序输出键和值\n",
    "list(d1.keys()), list(d1.values())\n"
   ]
  },
  {
   "cell_type": "code",
   "execution_count": 28,
   "metadata": {},
   "outputs": [
    {
     "name": "stdout",
     "output_type": "stream",
     "text": [
      "遍历key值:\n",
      "a:1\n",
      "b:2\n",
      "c:3\n"
     ]
    }
   ],
   "source": [
    "#遍历key值 在使用上，for key in a和 for key in a.keys():完全等价\n",
    "#字典记录键和值之间的关联关系，但获取字典的元素时，获取顺序是不可预测的\n",
    "#所以除了使用items还可以使用这个方法保证关联\n",
    "a = {'a': '1', 'b': '2', 'c': '3'}\n",
    "print(\"遍历key值:\")\n",
    "for key in a:\n",
    "    print(key + ':' + a[key])\n"
   ]
  },
  {
   "cell_type": "markdown",
   "metadata": {},
   "source": [
    "##  1.4 集合\n",
    "集合是无序的不可重复的元素的集合。你可以把它当做字典，但是只有键没有值。所以可以利用集合方法去重"
   ]
  },
  {
   "cell_type": "code",
   "execution_count": 16,
   "metadata": {},
   "outputs": [
    {
     "data": {
      "text/plain": [
       "({1, 2, 3}, {1, 2, 3})"
      ]
     },
     "execution_count": 16,
     "metadata": {},
     "output_type": "execute_result"
    }
   ],
   "source": [
    "#两种方式创建集合：通过set函数或使用尖括号set语句\n",
    "set([2, 2, 2, 1, 3, 3]), {2, 2, 2, 1, 3, 3}\n"
   ]
  },
  {
   "cell_type": "markdown",
   "metadata": {},
   "source": [
    "\n",
    "| 函数      | 替代语法  | 说明    |\n",
    "| ----------- |-----------| ------------------------- |\n",
    "| a.union(b)   | a\\|b |并集，不改变a和b，将并集返回|\n",
    "| a.update(b)  |a\\|=b |并集，改变a，不改变b       |\n",
    "| a.intersection(b) |a&b |a和b中交叉的元素    |\n",
    "| a.intersection_update(b) |a&=b |a和b中交叉的元素,改变a|\n",
    "| a.difference(b)   |a-b |存在于a但不存在于b的元素 |\n",
    "|a.difference_update(b)|a-=b |存在于a但不存在于b的元素，改变a|\n",
    "|a.symmetric_difference(b)|a^b |只在a或只在b的元素          |\n",
    "|a.symmetric_difference_update(b) |a^=b |只在a或只在b的元素，改变a|\n"
   ]
  },
  {
   "cell_type": "code",
   "execution_count": 3,
   "metadata": {},
   "outputs": [
    {
     "data": {
      "text/plain": [
       "({1, 2, 3, 4, 5, 6, 7, 8}, {1, 2, 3, 4, 5})"
      ]
     },
     "execution_count": 3,
     "metadata": {},
     "output_type": "execute_result"
    }
   ],
   "source": [
    "a = {1, 2, 3, 4, 5}\n",
    "b = {3, 4, 5, 6, 7, 8}\n",
    "a.union(b),a"
   ]
  },
  {
   "cell_type": "markdown",
   "metadata": {},
   "source": [
    "## 1.5常用序列函数"
   ]
  },
  {
   "cell_type": "markdown",
   "metadata": {},
   "source": [
    "### 1.5.1 enumerate函数\n",
    "enumerate() 函数用于将一个可遍历的数据对象(如列表、元组或字符串)组合为一个索引序列，同时列出数据和数据下标，一般用在 for 循环当中。   \n",
    "enumerate(sequence, [start=0])\n",
    "- sequence  一个序列、迭代器或其他支持迭代对象。\n",
    "- start  下标起始位置。"
   ]
  },
  {
   "cell_type": "code",
   "execution_count": 124,
   "metadata": {},
   "outputs": [
    {
     "name": "stdout",
     "output_type": "stream",
     "text": [
      "0 Spring\n",
      "1 Summer\n",
      "2 Fall\n",
      "3 Winter\n"
     ]
    }
   ],
   "source": [
    "seasons = ['Spring', 'Summer', 'Fall', 'Winter']\n",
    "for i, ele in enumerate(seasons):\n",
    "    print(i, ele)\n"
   ]
  },
  {
   "cell_type": "markdown",
   "metadata": {},
   "source": [
    "### 1.5.2 zip函数\n",
    "zip可以将多个列表、元组或其它序列成对组合成一个元组列表.zip可以处理任意多的序列，元素的个数取决于最短的序列"
   ]
  },
  {
   "cell_type": "code",
   "execution_count": 12,
   "metadata": {},
   "outputs": [
    {
     "data": {
      "text/plain": [
       "[('foo', 'one'), ('bar', 'two'), ('baz', 'three')]"
      ]
     },
     "execution_count": 12,
     "metadata": {},
     "output_type": "execute_result"
    }
   ],
   "source": [
    "seq1 = ('foo', 'bar', 'baz')\n",
    "seq2 = ('one', 'two', 'three')\n",
    "zipped = zip(seq1, seq2)\n",
    "#zip后的zipped是一个迭代器，迭代器可以通过for输出，也可以使用list\n",
    "list(zipped)"
   ]
  },
  {
   "cell_type": "code",
   "execution_count": 32,
   "metadata": {},
   "outputs": [
    {
     "data": {
      "text/plain": [
       "[('foo', 'bar', 'baz'), ('one', 'two', 'three')]"
      ]
     },
     "execution_count": 32,
     "metadata": {},
     "output_type": "execute_result"
    }
   ],
   "source": [
    "#zip(*)可以理解为解压\n",
    "zipped = zip(seq1, seq2)\n",
    "unlist = zip(*zipped)\n",
    "list(unlist)"
   ]
  },
  {
   "cell_type": "code",
   "execution_count": 20,
   "metadata": {},
   "outputs": [
    {
     "data": {
      "text/plain": [
       "[('foo', 'one', False), ('bar', 'two', True)]"
      ]
     },
     "execution_count": 20,
     "metadata": {},
     "output_type": "execute_result"
    }
   ],
   "source": [
    "#.zip可以处理任意多的序列，元素的个数取决于最短的序列\n",
    "seq1 = ['foo', 'bar', 'baz']\n",
    "seq2 = ['one', 'two', 'three']\n",
    "seq3 = [False, True]\n",
    "list(zip(seq1, seq2, seq3))"
   ]
  },
  {
   "cell_type": "code",
   "execution_count": 13,
   "metadata": {},
   "outputs": [
    {
     "name": "stdout",
     "output_type": "stream",
     "text": [
      "for循环(1, 2)\n",
      "for循环(2, 3)\n",
      "for循环(3, 4)\n",
      "for循环(4, 5)\n",
      "----\n"
     ]
    }
   ],
   "source": [
    "#注意迭代器有一个特别的性质，一次迭代后则耗尽内容\n",
    "#可以看到这个对象第一次迭代有结果，但是没有第二次的迭代结果\n",
    "l1 = [1, 2, 3, 4]\n",
    "l2 = [2, 3, 4, 5]\n",
    "l3 = zip(l1, l2)\n",
    "\n",
    "for x in l3:\n",
    "    print('for循环{}'.format(x))\n",
    "print('----')\n",
    "for i in l3:\n",
    "    print('for循环{}'.format(i))"
   ]
  },
  {
   "cell_type": "code",
   "execution_count": 15,
   "metadata": {},
   "outputs": [
    {
     "name": "stdout",
     "output_type": "stream",
     "text": [
      "0: foo, one\n",
      "1: bar, two\n",
      "2: baz, three\n"
     ]
    }
   ],
   "source": [
    "#zip的常见用法之一是同时迭代多个序列，可能结合enumerate使用\n",
    "for i, (a, b) in enumerate(zip(seq1, seq2)):\n",
    "    print('{0}: {1}, {2}'.format(i, a, b))"
   ]
  },
  {
   "cell_type": "markdown",
   "metadata": {},
   "source": [
    "### 1.5.3 sorted与reversed函数\n",
    "sorted函数可以从任意序列的元素返回一个新的排好序的列表"
   ]
  },
  {
   "cell_type": "code",
   "execution_count": 126,
   "metadata": {},
   "outputs": [
    {
     "data": {
      "text/plain": [
       "([0, 1, 2, 2, 3, 6, 7], [' ', 'a', 'c', 'e', 'e', 'h', 'o', 'r', 'r', 's'])"
      ]
     },
     "execution_count": 126,
     "metadata": {},
     "output_type": "execute_result"
    }
   ],
   "source": [
    "sorted([7, 1, 2, 6, 0, 3, 2]), sorted('horse race')\n"
   ]
  },
  {
   "cell_type": "markdown",
   "metadata": {},
   "source": [
    "### reversed函数"
   ]
  },
  {
   "cell_type": "code",
   "execution_count": 4,
   "metadata": {},
   "outputs": [
    {
     "data": {
      "text/plain": [
       "[9, 8, 7, 6, 5, 4, 3, 2, 1, 0]"
      ]
     },
     "execution_count": 4,
     "metadata": {},
     "output_type": "execute_result"
    }
   ],
   "source": [
    "list(reversed(range(10)))  #reversed可以从后向前迭代一个序列\n"
   ]
  },
  {
   "cell_type": "markdown",
   "metadata": {},
   "source": [
    "## 1.6 变量"
   ]
  },
  {
   "cell_type": "markdown",
   "metadata": {},
   "source": [
    "### 1.6.1 动态变量"
   ]
  },
  {
   "cell_type": "code",
   "execution_count": 18,
   "metadata": {},
   "outputs": [
    {
     "name": "stdout",
     "output_type": "stream",
     "text": [
      "1\n",
      "2\n",
      "3\n"
     ]
    }
   ],
   "source": [
    "#创建动态变量\n",
    "createVar = locals()\n",
    "for i in ['1', '2', '3']:\n",
    "    createVar['li' + i] = int(i)\n",
    "    print(createVar['li' + i])"
   ]
  },
  {
   "cell_type": "code",
   "execution_count": null,
   "metadata": {},
   "outputs": [],
   "source": []
  }
 ],
 "metadata": {
  "interpreter": {
   "hash": "af407973ba12897262deda9d8992946cc1a9873fff2de40f1acc89cdf9010052"
  },
  "kernelspec": {
   "display_name": "Python 3.8.11 64-bit",
   "name": "python3"
  },
  "language_info": {
   "codemirror_mode": {
    "name": "ipython",
    "version": 3
   },
   "file_extension": ".py",
   "mimetype": "text/x-python",
   "name": "python",
   "nbconvert_exporter": "python",
   "pygments_lexer": "ipython3",
   "version": "3.8.10"
  },
  "toc": {
   "base_numbering": 1,
   "nav_menu": {},
   "number_sections": true,
   "sideBar": true,
   "skip_h1_title": false,
   "title_cell": "Table of Contents",
   "title_sidebar": "Contents",
   "toc_cell": false,
   "toc_position": {
    "height": "calc(100% - 180px)",
    "left": "10px",
    "top": "150px",
    "width": "166.391px"
   },
   "toc_section_display": true,
   "toc_window_display": true
  },
  "varInspector": {
   "cols": {
    "lenName": 16,
    "lenType": 16,
    "lenVar": 40
   },
   "kernels_config": {
    "python": {
     "delete_cmd_postfix": "",
     "delete_cmd_prefix": "del ",
     "library": "var_list.py",
     "varRefreshCmd": "print(var_dic_list())"
    },
    "r": {
     "delete_cmd_postfix": ") ",
     "delete_cmd_prefix": "rm(",
     "library": "var_list.r",
     "varRefreshCmd": "cat(var_dic_list()) "
    }
   },
   "types_to_exclude": [
    "module",
    "function",
    "builtin_function_or_method",
    "instance",
    "_Feature"
   ],
   "window_display": true
  }
 },
 "nbformat": 4,
 "nbformat_minor": 4
}
