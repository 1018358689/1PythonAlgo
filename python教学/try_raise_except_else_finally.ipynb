{
 "cells": [
  {
   "cell_type": "code",
   "execution_count": 8,
   "source": [
    "l=[1,2]\n",
    "print('错误前')\n",
    "l[100]=10\n",
    "print('错误后')\n",
    "print(l)"
   ],
   "outputs": [
    {
     "output_type": "stream",
     "name": "stdout",
     "text": [
      "错误前\n"
     ]
    },
    {
     "output_type": "error",
     "ename": "IndexError",
     "evalue": "list assignment index out of range",
     "traceback": [
      "\u001b[0;31m---------------------------------------------------------------------------\u001b[0m",
      "\u001b[0;31mIndexError\u001b[0m                                Traceback (most recent call last)",
      "\u001b[0;32m<ipython-input-8-1f4c9ef82f92>\u001b[0m in \u001b[0;36m<module>\u001b[0;34m\u001b[0m\n\u001b[1;32m      1\u001b[0m \u001b[0ml\u001b[0m\u001b[0;34m=\u001b[0m\u001b[0;34m[\u001b[0m\u001b[0;36m1\u001b[0m\u001b[0;34m,\u001b[0m\u001b[0;36m2\u001b[0m\u001b[0;34m]\u001b[0m\u001b[0;34m\u001b[0m\u001b[0;34m\u001b[0m\u001b[0m\n\u001b[1;32m      2\u001b[0m \u001b[0mprint\u001b[0m\u001b[0;34m(\u001b[0m\u001b[0;34m'错误前'\u001b[0m\u001b[0;34m)\u001b[0m\u001b[0;34m\u001b[0m\u001b[0;34m\u001b[0m\u001b[0m\n\u001b[0;32m----> 3\u001b[0;31m \u001b[0ml\u001b[0m\u001b[0;34m[\u001b[0m\u001b[0;36m100\u001b[0m\u001b[0;34m]\u001b[0m\u001b[0;34m=\u001b[0m\u001b[0;36m10\u001b[0m\u001b[0;34m\u001b[0m\u001b[0;34m\u001b[0m\u001b[0m\n\u001b[0m\u001b[1;32m      4\u001b[0m \u001b[0mprint\u001b[0m\u001b[0;34m(\u001b[0m\u001b[0;34m'错误后'\u001b[0m\u001b[0;34m)\u001b[0m\u001b[0;34m\u001b[0m\u001b[0;34m\u001b[0m\u001b[0m\n\u001b[1;32m      5\u001b[0m \u001b[0mprint\u001b[0m\u001b[0;34m(\u001b[0m\u001b[0ml\u001b[0m\u001b[0;34m)\u001b[0m\u001b[0;34m\u001b[0m\u001b[0;34m\u001b[0m\u001b[0m\n",
      "\u001b[0;31mIndexError\u001b[0m: list assignment index out of range"
     ]
    }
   ],
   "metadata": {}
  },
  {
   "cell_type": "code",
   "execution_count": 9,
   "source": [
    "# try...except...\n",
    "# try 捕获程序在执行时遇到的异常情况，即一些报错。\n",
    "# 因为程序在发现某个错误时，往往会中断不再向下执行，利用except就可以执行。\n",
    "# 先执行try block， 直到发现了错误，不再执行异常之后的代码。\n",
    "try:\n",
    "    l=[1,2]\n",
    "    print('错误前')\n",
    "    l[100]=10\n",
    "    print('错误后')\n",
    "    print(l)\n",
    "except:\n",
    "    print('错误')\n",
    "print('最后一句，继续往下执行。')"
   ],
   "outputs": [
    {
     "output_type": "stream",
     "name": "stdout",
     "text": [
      "错误前\n",
      "错误\n",
      "最后一句，继续往下执行。\n"
     ]
    }
   ],
   "metadata": {}
  },
  {
   "cell_type": "code",
   "execution_count": 11,
   "source": [
    "# 匹配except对应正确的错误。\n",
    "try:\n",
    "    l=[1,2]\n",
    "    print('错误前')\n",
    "    l[100]=10\n",
    "    print('错误后')\n",
    "    print(l)\n",
    "except NameError:\n",
    "    print('命名错误')\n",
    "except IndexError:\n",
    "    print('索引错误')\n",
    "print('最后一句，继续往下执行。')"
   ],
   "outputs": [
    {
     "output_type": "stream",
     "name": "stdout",
     "text": [
      "错误前\n",
      "索引错误\n",
      "最后一句，继续往下执行。\n"
     ]
    }
   ],
   "metadata": {}
  },
  {
   "cell_type": "code",
   "execution_count": 14,
   "source": [
    "# 如果匹配except没有对应正确的错误。说明这样的try/except等于是废的，程序中断。\n",
    "# 为了避免 加一句第13和14行except：匹配任何情况\n",
    "try:\n",
    "    l=[1,2]\n",
    "    print('错误前')\n",
    "    l[100]=10\n",
    "    print('错误后')\n",
    "    print(l)\n",
    "except NameError:\n",
    "    print('命名错误')\n",
    "except TypeError:\n",
    "    print('类型错误')\n",
    "# except:\n",
    "#     print('有错误，但我说不出')\n",
    "print('最后一句，继续往下执行。')"
   ],
   "outputs": [
    {
     "output_type": "stream",
     "name": "stdout",
     "text": [
      "错误前\n"
     ]
    },
    {
     "output_type": "error",
     "ename": "IndexError",
     "evalue": "list assignment index out of range",
     "traceback": [
      "\u001b[0;31m---------------------------------------------------------------------------\u001b[0m",
      "\u001b[0;31mIndexError\u001b[0m                                Traceback (most recent call last)",
      "\u001b[0;32m<ipython-input-14-3271aa24a40f>\u001b[0m in \u001b[0;36m<module>\u001b[0;34m\u001b[0m\n\u001b[1;32m      4\u001b[0m     \u001b[0ml\u001b[0m\u001b[0;34m=\u001b[0m\u001b[0;34m[\u001b[0m\u001b[0;36m1\u001b[0m\u001b[0;34m,\u001b[0m\u001b[0;36m2\u001b[0m\u001b[0;34m]\u001b[0m\u001b[0;34m\u001b[0m\u001b[0;34m\u001b[0m\u001b[0m\n\u001b[1;32m      5\u001b[0m     \u001b[0mprint\u001b[0m\u001b[0;34m(\u001b[0m\u001b[0;34m'错误前'\u001b[0m\u001b[0;34m)\u001b[0m\u001b[0;34m\u001b[0m\u001b[0;34m\u001b[0m\u001b[0m\n\u001b[0;32m----> 6\u001b[0;31m     \u001b[0ml\u001b[0m\u001b[0;34m[\u001b[0m\u001b[0;36m100\u001b[0m\u001b[0;34m]\u001b[0m\u001b[0;34m=\u001b[0m\u001b[0;36m10\u001b[0m\u001b[0;34m\u001b[0m\u001b[0;34m\u001b[0m\u001b[0m\n\u001b[0m\u001b[1;32m      7\u001b[0m     \u001b[0mprint\u001b[0m\u001b[0;34m(\u001b[0m\u001b[0;34m'错误后'\u001b[0m\u001b[0;34m)\u001b[0m\u001b[0;34m\u001b[0m\u001b[0;34m\u001b[0m\u001b[0m\n\u001b[1;32m      8\u001b[0m     \u001b[0mprint\u001b[0m\u001b[0;34m(\u001b[0m\u001b[0ml\u001b[0m\u001b[0;34m)\u001b[0m\u001b[0;34m\u001b[0m\u001b[0;34m\u001b[0m\u001b[0m\n",
      "\u001b[0;31mIndexError\u001b[0m: list assignment index out of range"
     ]
    }
   ],
   "metadata": {}
  },
  {
   "cell_type": "code",
   "execution_count": 15,
   "source": [
    "# try-except-else\n",
    "# 有异常时，else block不执行的。\n",
    "try:\n",
    "    l=[1,2]\n",
    "    print('错误前')\n",
    "    l[100]=10\n",
    "    print('错误后')\n",
    "    print(l)\n",
    "except NameError:\n",
    "    print('命名错误')\n",
    "except TypeError:\n",
    "    print('类型错误')\n",
    "except:\n",
    "    print('有错误，但我说不出')\n",
    "else:\n",
    "    print('else块输出')\n",
    "print('最后一句，继续往下执行。')"
   ],
   "outputs": [
    {
     "output_type": "stream",
     "name": "stdout",
     "text": [
      "错误前\n",
      "有错误，但我说不出\n",
      "最后一句，继续往下执行。\n"
     ]
    }
   ],
   "metadata": {}
  },
  {
   "cell_type": "code",
   "execution_count": 16,
   "source": [
    "# 无异常时，else block执行的。（除非try里有return跳出了）\n",
    "try:\n",
    "    l=[1,2]\n",
    "    print(l)\n",
    "except NameError:\n",
    "    print('命名错误')\n",
    "except TypeError:\n",
    "    print('类型错误')\n",
    "except:\n",
    "    print('有错误，但我说不出')\n",
    "else:\n",
    "    print('else块输出')\n",
    "print('最后一句，继续往下执行。')"
   ],
   "outputs": [
    {
     "output_type": "stream",
     "name": "stdout",
     "text": [
      "[1, 2]\n",
      "else块输出\n",
      "最后一句，继续往下执行。\n"
     ]
    }
   ],
   "metadata": {}
  },
  {
   "cell_type": "code",
   "execution_count": 20,
   "source": [
    "# try-finally\n",
    "# 无论如何 finally都执行\n",
    "try:\n",
    "    l=[1,2]\n",
    "    print(l[100])\n",
    "except NameError:\n",
    "    print('命名错误')\n",
    "except TypeError:\n",
    "    print('类型错误')\n",
    "except:\n",
    "    print('有错误，但我说不出') \n",
    "else:\n",
    "    print('else块输出')\n",
    "finally:\n",
    "    print('finally块总是输出，哪怕没有匹配到except的错误。')\n",
    "print('最后一句，继续往下执行。')"
   ],
   "outputs": [
    {
     "output_type": "stream",
     "name": "stdout",
     "text": [
      "有错误，但我说不出\n",
      "finally块总是输出，哪怕没有匹配到except的错误。\n",
      "最后一句，继续往下执行。\n"
     ]
    }
   ],
   "metadata": {}
  },
  {
   "cell_type": "code",
   "execution_count": 21,
   "source": [
    "try:\n",
    "    l=[1,2]\n",
    "    print(l[100])\n",
    "except NameError:\n",
    "    print('命名错误')\n",
    "except TypeError:\n",
    "    print('类型错误')\n",
    "else:\n",
    "    print('else块输出')\n",
    "finally:\n",
    "    # 错是有的，先执行完finally block, 然后回到try block报错。\n",
    "    print('finally块总是输出，哪怕没有匹配到except的错误。')\n",
    "print('最后一句，继续往下执行。')"
   ],
   "outputs": [
    {
     "output_type": "stream",
     "name": "stdout",
     "text": [
      "finally块总是输出，哪怕没有匹配到except的错误。\n"
     ]
    },
    {
     "output_type": "error",
     "ename": "IndexError",
     "evalue": "list index out of range",
     "traceback": [
      "\u001b[0;31m---------------------------------------------------------------------------\u001b[0m",
      "\u001b[0;31mIndexError\u001b[0m                                Traceback (most recent call last)",
      "\u001b[0;32m<ipython-input-21-2f31aa562627>\u001b[0m in \u001b[0;36m<module>\u001b[0;34m\u001b[0m\n\u001b[1;32m      1\u001b[0m \u001b[0;32mtry\u001b[0m\u001b[0;34m:\u001b[0m\u001b[0;34m\u001b[0m\u001b[0;34m\u001b[0m\u001b[0m\n\u001b[1;32m      2\u001b[0m     \u001b[0ml\u001b[0m\u001b[0;34m=\u001b[0m\u001b[0;34m[\u001b[0m\u001b[0;36m1\u001b[0m\u001b[0;34m,\u001b[0m\u001b[0;36m2\u001b[0m\u001b[0;34m]\u001b[0m\u001b[0;34m\u001b[0m\u001b[0;34m\u001b[0m\u001b[0m\n\u001b[0;32m----> 3\u001b[0;31m     \u001b[0mprint\u001b[0m\u001b[0;34m(\u001b[0m\u001b[0ml\u001b[0m\u001b[0;34m[\u001b[0m\u001b[0;36m100\u001b[0m\u001b[0;34m]\u001b[0m\u001b[0;34m)\u001b[0m\u001b[0;34m\u001b[0m\u001b[0;34m\u001b[0m\u001b[0m\n\u001b[0m\u001b[1;32m      4\u001b[0m \u001b[0;32mexcept\u001b[0m \u001b[0mNameError\u001b[0m\u001b[0;34m:\u001b[0m\u001b[0;34m\u001b[0m\u001b[0;34m\u001b[0m\u001b[0m\n\u001b[1;32m      5\u001b[0m     \u001b[0mprint\u001b[0m\u001b[0;34m(\u001b[0m\u001b[0;34m'命名错误'\u001b[0m\u001b[0;34m)\u001b[0m\u001b[0;34m\u001b[0m\u001b[0;34m\u001b[0m\u001b[0m\n",
      "\u001b[0;31mIndexError\u001b[0m: list index out of range"
     ]
    }
   ],
   "metadata": {}
  },
  {
   "cell_type": "code",
   "execution_count": null,
   "source": [],
   "outputs": [],
   "metadata": {}
  }
 ],
 "metadata": {
  "orig_nbformat": 4,
  "language_info": {
   "name": "python",
   "version": "3.8.11",
   "mimetype": "text/x-python",
   "codemirror_mode": {
    "name": "ipython",
    "version": 3
   },
   "pygments_lexer": "ipython3",
   "nbconvert_exporter": "python",
   "file_extension": ".py"
  },
  "kernelspec": {
   "name": "python3",
   "display_name": "Python 3.8.11 64-bit ('pytorch': conda)"
  },
  "interpreter": {
   "hash": "37fe0b70dd3799dca135db0590ef8349d44252de73bba3428efc8b27978c460c"
  }
 },
 "nbformat": 4,
 "nbformat_minor": 2
}