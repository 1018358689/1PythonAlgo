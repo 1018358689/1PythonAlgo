{
 "cells": [
  {
   "cell_type": "markdown",
   "source": [
    "# Hello, world!"
   ],
   "metadata": {}
  },
  {
   "cell_type": "code",
   "execution_count": 1,
   "source": [
    "print('Hello, World!')"
   ],
   "outputs": [
    {
     "output_type": "stream",
     "name": "stdout",
     "text": [
      "Hello, World!\n"
     ]
    }
   ],
   "metadata": {}
  },
  {
   "cell_type": "markdown",
   "source": [
    "# 数据类型"
   ],
   "metadata": {}
  },
  {
   "cell_type": "markdown",
   "source": [
    "Python3 中有六个标准的数据类型：\r\n",
    "\r\n",
    "* Number（数字）\r\n",
    "* String（字符串）\r\n",
    "* List（列表）\r\n",
    "* Tuple（元组）\r\n",
    "* Set（集合）\r\n",
    "* Dictionary（字典）\r\n",
    "\r\n",
    "Python3 的六个标准数据类型中：\r\n",
    "\r\n",
    "* 不可变数据（3 个）：Number（数字）、String（字符串）、Tuple（元组）；\r\n",
    "* 可变数据（3 个）：List（列表）、Dictionary（字典）、Set（集合）。 "
   ],
   "metadata": {}
  },
  {
   "cell_type": "markdown",
   "source": [
    "## Number（数字）"
   ],
   "metadata": {}
  },
  {
   "cell_type": "code",
   "execution_count": 3,
   "source": [
    "# Python的数字类型中又分为两类，整型int和浮点型float。\n",
    "print(type(1))\n",
    "print(type(1.1))\n",
    "print(int(1.1))"
   ],
   "outputs": [
    {
     "output_type": "stream",
     "name": "stdout",
     "text": [
      "<class 'int'>\n",
      "<class 'float'>\n",
      "1\n"
     ]
    }
   ],
   "metadata": {}
  },
  {
   "cell_type": "code",
   "execution_count": 7,
   "source": [
    "# 在Python中常用的数字运算表达方法。\n",
    "print(1+1) # 加\n",
    "print(1-1) # 减\n",
    "print(1*2) # 乘\n",
    "print(1/2) # 除  输出float\n",
    "print(10//3) # 整除 向下取整 等同 int(10/3)\n",
    "print(10%3) # 取余\n",
    "print(2e2) # 10的倍数 输出float\n",
    "print(2**3) # 次方"
   ],
   "outputs": [
    {
     "output_type": "stream",
     "name": "stdout",
     "text": [
      "2\n",
      "0\n",
      "2\n",
      "0.5\n",
      "3\n",
      "1\n",
      "200.0\n",
      "8\n"
     ]
    }
   ],
   "metadata": {}
  },
  {
   "cell_type": "code",
   "execution_count": 9,
   "source": [
    "# 多进制\n",
    "0b10100101 # ob 二进制\n",
    "0o1237252 # 0o 八进制\n",
    "0x2a7d7f # 0x 十六进制 "
   ],
   "outputs": [
    {
     "output_type": "execute_result",
     "data": {
      "text/plain": [
       "2784639"
      ]
     },
     "metadata": {},
     "execution_count": 9
    }
   ],
   "metadata": {}
  },
  {
   "cell_type": "markdown",
   "source": [
    "## String（字符串）"
   ],
   "metadata": {}
  },
  {
   "cell_type": "markdown",
   "source": [
    "## List（列表）"
   ],
   "metadata": {}
  },
  {
   "cell_type": "code",
   "execution_count": 39,
   "source": [
    "# 列表的长度可变、内容可以被修改。列表属于可变的数据类型，因此可以添执行加、删除，或者是搜索列表中的项目。列表可以嵌套\n",
    "l1 = [1, 2, 3, 4]\n",
    "l2 = ['a', 'b', 'c', 'd']\n",
    "l3 = [1, 2, 'c', 'd']\n",
    "l1, l2, l3\n"
   ],
   "outputs": [
    {
     "output_type": "execute_result",
     "data": {
      "text/plain": [
       "([1, 2, 3, 4], ['a', 'b', 'c', 'd'], [1, 2, 'c', 'd'])"
      ]
     },
     "metadata": {},
     "execution_count": 39
    }
   ],
   "metadata": {}
  },
  {
   "cell_type": "code",
   "execution_count": 57,
   "source": [
    "# 列表的常用操作1（turple也有同样的操作）\n",
    "l1 = [1, 2, 3, 4, 5, 6, 'a']\n",
    "l2 = ['b', ['q', 'w']]\n",
    "1 in l1, 1 not in l1"
   ],
   "outputs": [
    {
     "output_type": "execute_result",
     "data": {
      "text/plain": [
       "(True, False)"
      ]
     },
     "metadata": {},
     "execution_count": 57
    }
   ],
   "metadata": {}
  },
  {
   "cell_type": "code",
   "execution_count": 58,
   "source": [
    "# 列表拼接\n",
    "l1 = [1, 2, 3, 4, 5, 6, 'a']\n",
    "l2 = ['b', ['q', 'w']]\n",
    "l1+l2"
   ],
   "outputs": [
    {
     "output_type": "execute_result",
     "data": {
      "text/plain": [
       "[1, 2, 3, 4, 5, 6, 'a', 'b', ['q', 'w']]"
      ]
     },
     "metadata": {},
     "execution_count": 58
    }
   ],
   "metadata": {}
  },
  {
   "cell_type": "code",
   "execution_count": 59,
   "source": [
    "l1 = [1, 2, 3, 4, 5, 6, 'a']\n",
    "l2 = ['b', ['q', 'w']]\n",
    "l1+=l2\n",
    "l1"
   ],
   "outputs": [
    {
     "output_type": "execute_result",
     "data": {
      "text/plain": [
       "[1, 2, 3, 4, 5, 6, 'a', 'b', ['q', 'w']]"
      ]
     },
     "metadata": {},
     "execution_count": 59
    }
   ],
   "metadata": {}
  },
  {
   "cell_type": "code",
   "execution_count": 61,
   "source": [
    "l1 = [1, 2, 3, 4, 5, 6, 'a']\n",
    "l2 = ['b', ['q', 'w']]\n",
    "l1.extend(l2)\n",
    "l1"
   ],
   "outputs": [
    {
     "output_type": "execute_result",
     "data": {
      "text/plain": [
       "[1, 2, 3, 4, 5, 6, 'a', 'b', ['q', 'w']]"
      ]
     },
     "metadata": {},
     "execution_count": 61
    }
   ],
   "metadata": {}
  },
  {
   "cell_type": "code",
   "execution_count": 62,
   "source": [
    "l1 = [1, 2, 3, 4, 5, 6, 'a']\n",
    "l1 += [7]\n",
    "l1"
   ],
   "outputs": [
    {
     "output_type": "execute_result",
     "data": {
      "text/plain": [
       "[1, 2, 3, 4, 5, 6, 'a', 7]"
      ]
     },
     "metadata": {},
     "execution_count": 62
    }
   ],
   "metadata": {}
  },
  {
   "cell_type": "code",
   "execution_count": 63,
   "source": [
    "l1 = [1, 2, 3, 4, 5, 6, 'a']\n",
    "l1.append(7) # 尾部赋值 元祖没有\n",
    "l1"
   ],
   "outputs": [
    {
     "output_type": "execute_result",
     "data": {
      "text/plain": [
       "[1, 2, 3, 4, 5, 6, 'a', 7]"
      ]
     },
     "metadata": {},
     "execution_count": 63
    }
   ],
   "metadata": {}
  },
  {
   "cell_type": "code",
   "execution_count": 78,
   "source": [
    "l1 = [0, 1, 2, 3, 4, 5, 6, 'a']\n",
    "l1[1:5:2], l1[5:1:-1]"
   ],
   "outputs": [
    {
     "output_type": "execute_result",
     "data": {
      "text/plain": [
       "([1, 3], [5, 4, 3, 2])"
      ]
     },
     "metadata": {},
     "execution_count": 78
    }
   ],
   "metadata": {}
  },
  {
   "cell_type": "code",
   "execution_count": 80,
   "source": [
    "l1 = [0, 1, 2, 3, 4, 5, 6]\n",
    "max(l1), min(l1)"
   ],
   "outputs": [
    {
     "output_type": "execute_result",
     "data": {
      "text/plain": [
       "(6, 0)"
      ]
     },
     "metadata": {},
     "execution_count": 80
    }
   ],
   "metadata": {}
  },
  {
   "cell_type": "code",
   "execution_count": 81,
   "source": [
    "l1 = [0, 1, 2, 3, 4, 5, 6, 6, 7, 7, 7]\n",
    "l1.count(7)"
   ],
   "outputs": [
    {
     "output_type": "execute_result",
     "data": {
      "text/plain": [
       "3"
      ]
     },
     "metadata": {},
     "execution_count": 81
    }
   ],
   "metadata": {}
  },
  {
   "cell_type": "code",
   "execution_count": 85,
   "source": [
    "# 列表的常用操作2（turple没有）\n",
    "l = [1, 2, 3, 4]\n",
    "l.append(5)\n",
    "l.insert(len(l), 6)\n",
    "l.insert(1,1.5)\n",
    "l"
   ],
   "outputs": [
    {
     "output_type": "execute_result",
     "data": {
      "text/plain": [
       "[1, 1.5, 2, 3, 4, 5, 6]"
      ]
     },
     "metadata": {},
     "execution_count": 85
    }
   ],
   "metadata": {}
  },
  {
   "cell_type": "code",
   "execution_count": 86,
   "source": [
    "l = [1, 2, 3, 4]\r\n",
    "l.clear()\r\n",
    "l"
   ],
   "outputs": [
    {
     "output_type": "execute_result",
     "data": {
      "text/plain": [
       "[]"
      ]
     },
     "metadata": {},
     "execution_count": 86
    }
   ],
   "metadata": {}
  },
  {
   "cell_type": "code",
   "execution_count": 88,
   "source": [
    "l = [1, 2, 3, 4,'a']\r\n",
    "l.remove('a') # 输入元素值 而不是索引  pop del 是输入索引值\r\n",
    "l"
   ],
   "outputs": [
    {
     "output_type": "execute_result",
     "data": {
      "text/plain": [
       "[1, 2, 3, 4]"
      ]
     },
     "metadata": {},
     "execution_count": 88
    }
   ],
   "metadata": {}
  },
  {
   "cell_type": "code",
   "execution_count": 92,
   "source": [
    "l1 = [1, 2, 3, 4, 'a']\r\n",
    "l2 = [1, 2]\r\n",
    "l1.reverse()\r\n",
    "l3 = list(reversed(l2))\r\n",
    "l1, l2, l3"
   ],
   "outputs": [
    {
     "output_type": "execute_result",
     "data": {
      "text/plain": [
       "(['a', 4, 3, 2, 1], [1, 2], [2, 1])"
      ]
     },
     "metadata": {},
     "execution_count": 92
    }
   ],
   "metadata": {}
  },
  {
   "cell_type": "code",
   "execution_count": 103,
   "source": [
    "l1 = [1, 2, 3, 4, 3, 2]\r\n",
    "l1.sort(reverse=True), l1  # 默认从小到大 转置后 从大到小  sort是改变原数据\r\n"
   ],
   "outputs": [
    {
     "output_type": "execute_result",
     "data": {
      "text/plain": [
       "(None, [4, 3, 3, 2, 2, 1])"
      ]
     },
     "metadata": {},
     "execution_count": 103
    }
   ],
   "metadata": {}
  },
  {
   "cell_type": "code",
   "execution_count": 102,
   "source": [
    "l1 = [1, 2, 3, 4, 3, 2]\r\n",
    "sorted(l1, reverse=False), l1  # sorted是临时的，不影响原数据"
   ],
   "outputs": [
    {
     "output_type": "execute_result",
     "data": {
      "text/plain": [
       "([1, 2, 2, 3, 3, 4], [1, 2, 3, 4, 3, 2])"
      ]
     },
     "metadata": {},
     "execution_count": 102
    }
   ],
   "metadata": {}
  },
  {
   "cell_type": "code",
   "execution_count": 105,
   "source": [
    "l1 = [1, 2, 3, 4, 3, 2]\r\n",
    "l1.pop(1), l1  # 移除并返回指定位置元素"
   ],
   "outputs": [
    {
     "output_type": "execute_result",
     "data": {
      "text/plain": [
       "(2, [1, 3, 4, 3, 2])"
      ]
     },
     "metadata": {},
     "execution_count": 105
    }
   ],
   "metadata": {}
  },
  {
   "cell_type": "code",
   "execution_count": 108,
   "source": [
    "l1 = [1, 2, 3, 4, 3, 2]\r\n",
    "del l1[0] # 一操作 不返回任何值\r\n",
    "l1"
   ],
   "outputs": [
    {
     "output_type": "execute_result",
     "data": {
      "text/plain": [
       "[2, 3, 4, 3, 2]"
      ]
     },
     "metadata": {},
     "execution_count": 108
    }
   ],
   "metadata": {}
  },
  {
   "cell_type": "code",
   "execution_count": 111,
   "source": [
    "l1 = [1, 2, 3, 4, 'a', 3, 2, 'a']\n",
    "l1.index('a')  # 查找元素的索引  输入时元素不是索引值 元素出现多次 则显示第一个"
   ],
   "outputs": [
    {
     "output_type": "execute_result",
     "data": {
      "text/plain": [
       "4"
      ]
     },
     "metadata": {},
     "execution_count": 111
    }
   ],
   "metadata": {}
  },
  {
   "cell_type": "code",
   "execution_count": 112,
   "source": [
    "# 对于变量来说，赋值是复制值。但是对于列表来说，赋值其实只是赋值引用\n",
    "spam = 42\n",
    "cheese = spam\n",
    "spam = 100\n",
    "print(spam, cheese)"
   ],
   "outputs": [
    {
     "output_type": "stream",
     "name": "stdout",
     "text": [
      "100 42\n"
     ]
    }
   ],
   "metadata": {}
  },
  {
   "cell_type": "code",
   "execution_count": 113,
   "source": [
    "#对于列表来说，赋值是两个一起改变，不管是修改源列表还是目标列表\n",
    "spam = [0, 1, 2, 3, 4, 5]\n",
    "cheese = spam\n",
    "cheese[0] = 'hello'\n",
    "print(spam, cheese)"
   ],
   "outputs": [
    {
     "output_type": "stream",
     "name": "stdout",
     "text": [
      "['hello', 1, 2, 3, 4, 5] ['hello', 1, 2, 3, 4, 5]\n"
     ]
    }
   ],
   "metadata": {}
  },
  {
   "cell_type": "code",
   "execution_count": 115,
   "source": [
    "# 如果不想单纯引用，可以使用copy()\n",
    "spam = [0, 1, 2, 3, 4, 5]\n",
    "cheese = spam.copy()\n",
    "cheese[0] = 'hello'\n",
    "print(spam, cheese)"
   ],
   "outputs": [
    {
     "output_type": "stream",
     "name": "stdout",
     "text": [
      "[0, 1, 2, 3, 4, 5] ['hello', 1, 2, 3, 4, 5]\n"
     ]
    }
   ],
   "metadata": {}
  },
  {
   "cell_type": "code",
   "execution_count": 116,
   "source": [
    "# 或者把元素复制\n",
    "spam = [0, 1, 2, 3, 4, 5]\n",
    "cheese = spam[:]  # spam是一个对象 spam[:]表示值\n",
    "cheese[0] = 'hello'\n",
    "print(spam, cheese)"
   ],
   "outputs": [
    {
     "output_type": "stream",
     "name": "stdout",
     "text": [
      "[0, 1, 2, 3, 4, 5] ['hello', 1, 2, 3, 4, 5]\n"
     ]
    }
   ],
   "metadata": {}
  },
  {
   "cell_type": "markdown",
   "source": [
    "## Tuple（元祖）"
   ],
   "metadata": {}
  },
  {
   "cell_type": "code",
   "execution_count": 15,
   "source": [
    "tu = (1, 2)\r\n",
    "tu2 = (1, )\r\n",
    "tu3 = 1, 2, 3, 4\r\n",
    "type(tu3)"
   ],
   "outputs": [
    {
     "output_type": "execute_result",
     "data": {
      "text/plain": [
       "tuple"
      ]
     },
     "metadata": {},
     "execution_count": 15
    }
   ],
   "metadata": {}
  },
  {
   "cell_type": "code",
   "execution_count": 17,
   "source": [
    "tu[0]"
   ],
   "outputs": [
    {
     "output_type": "execute_result",
     "data": {
      "text/plain": [
       "1"
      ]
     },
     "metadata": {},
     "execution_count": 17
    }
   ],
   "metadata": {}
  },
  {
   "cell_type": "code",
   "execution_count": 18,
   "source": [
    "tu[0]=3"
   ],
   "outputs": [
    {
     "output_type": "error",
     "ename": "TypeError",
     "evalue": "'tuple' object does not support item assignment",
     "traceback": [
      "\u001b[1;31m---------------------------------------------------------------------------\u001b[0m",
      "\u001b[1;31mTypeError\u001b[0m                                 Traceback (most recent call last)",
      "\u001b[1;32m<ipython-input-18-8a41273470ae>\u001b[0m in \u001b[0;36m<module>\u001b[1;34m\u001b[0m\n\u001b[1;32m----> 1\u001b[1;33m \u001b[0mtu\u001b[0m\u001b[1;33m[\u001b[0m\u001b[1;36m0\u001b[0m\u001b[1;33m]\u001b[0m\u001b[1;33m=\u001b[0m\u001b[1;36m3\u001b[0m\u001b[1;33m\u001b[0m\u001b[1;33m\u001b[0m\u001b[0m\n\u001b[0m",
      "\u001b[1;31mTypeError\u001b[0m: 'tuple' object does not support item assignment"
     ]
    }
   ],
   "metadata": {}
  },
  {
   "cell_type": "code",
   "execution_count": 30,
   "source": [
    "# 元组是不可变的对象，但如果元组中的某个对象是可变的，比如列表，可以进行修改\r\n",
    "tu4 = (1, [1, 2, 3], 's', True)\r\n",
    "tu4[1].append(4)\r\n",
    "tu4"
   ],
   "outputs": [
    {
     "output_type": "execute_result",
     "data": {
      "text/plain": [
       "(1, [1, 2, 3, 4], 's', True)"
      ]
     },
     "metadata": {},
     "execution_count": 30
    }
   ],
   "metadata": {}
  },
  {
   "cell_type": "code",
   "execution_count": 31,
   "source": [
    "tu1 = (1,2,3)+(4,5,6)\r\n",
    "tu2 = (1,2)*3\r\n",
    "tu1,tu2"
   ],
   "outputs": [
    {
     "output_type": "execute_result",
     "data": {
      "text/plain": [
       "((1, 2, 3, 4, 5, 6), (1, 2, 1, 2, 1, 2))"
      ]
     },
     "metadata": {},
     "execution_count": 31
    }
   ],
   "metadata": {}
  },
  {
   "cell_type": "code",
   "execution_count": 33,
   "source": [
    "tuple('123')"
   ],
   "outputs": [
    {
     "output_type": "execute_result",
     "data": {
      "text/plain": [
       "('1', '2', '3')"
      ]
     },
     "metadata": {},
     "execution_count": 33
    }
   ],
   "metadata": {}
  },
  {
   "cell_type": "code",
   "execution_count": 38,
   "source": [
    "# count（也适用于列表），它可以统计某个值得出现频率\n",
    "tu = (1, 2, 3, 4, 5, 6, 6, 6, 7, (7, 8))\n",
    "tu.count(7), tu.count(6), tu.count((7, 8)) # 输入时元素值 不是索引\n"
   ],
   "outputs": [
    {
     "output_type": "execute_result",
     "data": {
      "text/plain": [
       "(1, 3, 1)"
      ]
     },
     "metadata": {},
     "execution_count": 38
    }
   ],
   "metadata": {}
  },
  {
   "cell_type": "markdown",
   "source": [
    "## Set（集合）"
   ],
   "metadata": {}
  },
  {
   "cell_type": "code",
   "execution_count": 142,
   "source": [
    "# 集合是无序的不可重复的元素的集合。你可以把它当做字典，但是只有键没有值。所以可以利用集合方法去重\n",
    "set([1,2,3,4])"
   ],
   "outputs": [
    {
     "output_type": "execute_result",
     "data": {
      "text/plain": [
       "{1, 2, 3, 4}"
      ]
     },
     "metadata": {},
     "execution_count": 142
    }
   ],
   "metadata": {}
  },
  {
   "cell_type": "code",
   "execution_count": 144,
   "source": [
    "{1,2,3,4,4,5,5}"
   ],
   "outputs": [
    {
     "output_type": "execute_result",
     "data": {
      "text/plain": [
       "{1, 2, 3, 4, 5}"
      ]
     },
     "metadata": {},
     "execution_count": 144
    }
   ],
   "metadata": {}
  },
  {
   "cell_type": "code",
   "execution_count": 149,
   "source": [
    "a = {1, 2, 3, 4}\n",
    "b = {3, 4, 5, 6}\n",
    "a.union(b), a"
   ],
   "outputs": [
    {
     "output_type": "execute_result",
     "data": {
      "text/plain": [
       "({1, 2, 3, 4, 5, 6}, {1, 2, 3, 4})"
      ]
     },
     "metadata": {},
     "execution_count": 149
    }
   ],
   "metadata": {}
  },
  {
   "cell_type": "code",
   "execution_count": 176,
   "source": [
    "a = {1, 2, 3, 4}\n",
    "b = {3, 4, 5, 6}\n",
    "a.update(b)\n",
    "a"
   ],
   "outputs": [
    {
     "output_type": "execute_result",
     "data": {
      "text/plain": [
       "{1, 2, 3, 4, 5, 6}"
      ]
     },
     "metadata": {},
     "execution_count": 176
    }
   ],
   "metadata": {}
  },
  {
   "cell_type": "code",
   "execution_count": 151,
   "source": [
    "a = {1, 2, 3, 4}\n",
    "a.add(5)\n",
    "a"
   ],
   "outputs": [
    {
     "output_type": "execute_result",
     "data": {
      "text/plain": [
       "{1, 2, 3, 4, 5}"
      ]
     },
     "metadata": {},
     "execution_count": 151
    }
   ],
   "metadata": {}
  },
  {
   "cell_type": "code",
   "execution_count": 152,
   "source": [
    "a = {1, 2, 3, 4}\n",
    "a.clear()\n",
    "a"
   ],
   "outputs": [
    {
     "output_type": "execute_result",
     "data": {
      "text/plain": [
       "set()"
      ]
     },
     "metadata": {},
     "execution_count": 152
    }
   ],
   "metadata": {}
  },
  {
   "cell_type": "code",
   "execution_count": 171,
   "source": [
    "a = {1, 2, 3, 4}\r\n",
    "b = {3, 4, 5, 6}\r\n",
    "a.difference(b), a"
   ],
   "outputs": [
    {
     "output_type": "execute_result",
     "data": {
      "text/plain": [
       "({1, 2}, {1, 2, 3, 4})"
      ]
     },
     "metadata": {},
     "execution_count": 171
    }
   ],
   "metadata": {}
  },
  {
   "cell_type": "code",
   "execution_count": 157,
   "source": [
    "a = {1, 2, 3, 4}\r\n",
    "b = {3, 4, 5, 6}\r\n",
    "a.difference_update(b) # 改变原数据\r\n",
    "a"
   ],
   "outputs": [
    {
     "output_type": "execute_result",
     "data": {
      "text/plain": [
       "{1, 2}"
      ]
     },
     "metadata": {},
     "execution_count": 157
    }
   ],
   "metadata": {}
  },
  {
   "cell_type": "code",
   "execution_count": 168,
   "source": [
    "a = {1, 2, 3, 4}\n",
    "a.remove(3)\n",
    "a"
   ],
   "outputs": [
    {
     "output_type": "execute_result",
     "data": {
      "text/plain": [
       "{1, 2, 4}"
      ]
     },
     "metadata": {},
     "execution_count": 168
    }
   ],
   "metadata": {}
  },
  {
   "cell_type": "code",
   "execution_count": 167,
   "source": [
    "a = {1, 2, 3, 4}\n",
    "a.remove(5)\n",
    "a"
   ],
   "outputs": [
    {
     "output_type": "error",
     "ename": "KeyError",
     "evalue": "5",
     "traceback": [
      "\u001b[1;31m---------------------------------------------------------------------------\u001b[0m",
      "\u001b[1;31mKeyError\u001b[0m                                  Traceback (most recent call last)",
      "\u001b[1;32m<ipython-input-167-8ee0774d90eb>\u001b[0m in \u001b[0;36m<module>\u001b[1;34m\u001b[0m\n\u001b[0;32m      1\u001b[0m \u001b[0ma\u001b[0m \u001b[1;33m=\u001b[0m \u001b[1;33m{\u001b[0m\u001b[1;36m1\u001b[0m\u001b[1;33m,\u001b[0m \u001b[1;36m2\u001b[0m\u001b[1;33m,\u001b[0m \u001b[1;36m3\u001b[0m\u001b[1;33m,\u001b[0m \u001b[1;36m4\u001b[0m\u001b[1;33m}\u001b[0m\u001b[1;33m\u001b[0m\u001b[1;33m\u001b[0m\u001b[0m\n\u001b[1;32m----> 2\u001b[1;33m \u001b[0ma\u001b[0m\u001b[1;33m.\u001b[0m\u001b[0mremove\u001b[0m\u001b[1;33m(\u001b[0m\u001b[1;36m5\u001b[0m\u001b[1;33m)\u001b[0m\u001b[1;33m\u001b[0m\u001b[1;33m\u001b[0m\u001b[0m\n\u001b[0m\u001b[0;32m      3\u001b[0m \u001b[0ma\u001b[0m\u001b[1;33m\u001b[0m\u001b[1;33m\u001b[0m\u001b[0m\n",
      "\u001b[1;31mKeyError\u001b[0m: 5"
     ]
    }
   ],
   "metadata": {}
  },
  {
   "cell_type": "code",
   "execution_count": 169,
   "source": [
    "a = {1, 2, 3, 4}\n",
    "a.discard(3)\n",
    "a"
   ],
   "outputs": [
    {
     "output_type": "execute_result",
     "data": {
      "text/plain": [
       "{1, 2, 3, 4}"
      ]
     },
     "metadata": {},
     "execution_count": 169
    }
   ],
   "metadata": {}
  },
  {
   "cell_type": "code",
   "execution_count": 165,
   "source": [
    "a = {1, 2, 3, 4}\n",
    "a.discard(5)\n",
    "a"
   ],
   "outputs": [
    {
     "output_type": "execute_result",
     "data": {
      "text/plain": [
       "{1, 2, 3, 4}"
      ]
     },
     "metadata": {},
     "execution_count": 165
    }
   ],
   "metadata": {}
  },
  {
   "cell_type": "code",
   "execution_count": 172,
   "source": [
    "a = {1, 2, 3, 4}\n",
    "b = {3, 4, 5, 6}\n",
    "a.symmetric_difference(b), a"
   ],
   "outputs": [
    {
     "output_type": "execute_result",
     "data": {
      "text/plain": [
       "({1, 2, 5, 6}, {1, 2, 3, 4})"
      ]
     },
     "metadata": {},
     "execution_count": 172
    }
   ],
   "metadata": {}
  },
  {
   "cell_type": "code",
   "execution_count": 174,
   "source": [
    "a = {1, 2, 3, 4}\n",
    "a.symmetric_difference_update(b)\n",
    "a"
   ],
   "outputs": [
    {
     "output_type": "execute_result",
     "data": {
      "text/plain": [
       "{1, 2, 5, 6}"
      ]
     },
     "metadata": {},
     "execution_count": 174
    }
   ],
   "metadata": {}
  },
  {
   "cell_type": "code",
   "execution_count": null,
   "source": [],
   "outputs": [],
   "metadata": {}
  },
  {
   "cell_type": "markdown",
   "source": [
    "## Dictionary（字典）"
   ],
   "metadata": {}
  },
  {
   "cell_type": "code",
   "execution_count": 122,
   "source": [
    "# 键必须唯一\r\n",
    "d1 = {1:'a',2:'b',3:'z',4:'x'}\r\n",
    "d2 = {1:'a',2:'b',2:'z',1:'x'} # 如果键不唯一 重复键的值取最后一个\r\n",
    "d1,d2"
   ],
   "outputs": [
    {
     "output_type": "execute_result",
     "data": {
      "text/plain": [
       "({1: 'a', 2: 'b', 3: 'z', 4: 'x'}, {1: 'x', 2: 'z'})"
      ]
     },
     "metadata": {},
     "execution_count": 122
    }
   ],
   "metadata": {}
  },
  {
   "cell_type": "code",
   "execution_count": 124,
   "source": [
    "d1 = {1:'a',2:'b',3:'z',4:'x','c':23}\r\n",
    "d1['c']"
   ],
   "outputs": [
    {
     "output_type": "execute_result",
     "data": {
      "text/plain": [
       "23"
      ]
     },
     "metadata": {},
     "execution_count": 124
    }
   ],
   "metadata": {}
  },
  {
   "cell_type": "code",
   "execution_count": 125,
   "source": [
    "d1 = {1:'a',2:'b',3:'z',4:'x','c':23}\r\n",
    "d1[41]"
   ],
   "outputs": [
    {
     "output_type": "error",
     "ename": "KeyError",
     "evalue": "41",
     "traceback": [
      "\u001b[1;31m---------------------------------------------------------------------------\u001b[0m",
      "\u001b[1;31mKeyError\u001b[0m                                  Traceback (most recent call last)",
      "\u001b[1;32m<ipython-input-125-b2f6f4868c74>\u001b[0m in \u001b[0;36m<module>\u001b[1;34m\u001b[0m\n\u001b[0;32m      1\u001b[0m \u001b[0md1\u001b[0m \u001b[1;33m=\u001b[0m \u001b[1;33m{\u001b[0m\u001b[1;36m1\u001b[0m\u001b[1;33m:\u001b[0m\u001b[1;34m'a'\u001b[0m\u001b[1;33m,\u001b[0m\u001b[1;36m2\u001b[0m\u001b[1;33m:\u001b[0m\u001b[1;34m'b'\u001b[0m\u001b[1;33m,\u001b[0m\u001b[1;36m3\u001b[0m\u001b[1;33m:\u001b[0m\u001b[1;34m'z'\u001b[0m\u001b[1;33m,\u001b[0m\u001b[1;36m4\u001b[0m\u001b[1;33m:\u001b[0m\u001b[1;34m'x'\u001b[0m\u001b[1;33m,\u001b[0m\u001b[1;34m'c'\u001b[0m\u001b[1;33m:\u001b[0m\u001b[1;36m23\u001b[0m\u001b[1;33m}\u001b[0m\u001b[1;33m\u001b[0m\u001b[1;33m\u001b[0m\u001b[0m\n\u001b[1;32m----> 2\u001b[1;33m \u001b[0md1\u001b[0m\u001b[1;33m[\u001b[0m\u001b[1;36m41\u001b[0m\u001b[1;33m]\u001b[0m\u001b[1;33m\u001b[0m\u001b[1;33m\u001b[0m\u001b[0m\n\u001b[0m",
      "\u001b[1;31mKeyError\u001b[0m: 41"
     ]
    }
   ],
   "metadata": {}
  },
  {
   "cell_type": "code",
   "execution_count": 130,
   "source": [
    "d1 = {1: 'a', 2: 'b', 3: 'z', 4: 'x', 'c': 23}\r\n",
    "d1.get(1), d1.get(41, '我是默认值')"
   ],
   "outputs": [
    {
     "output_type": "execute_result",
     "data": {
      "text/plain": [
       "('a', '我是默认值')"
      ]
     },
     "metadata": {},
     "execution_count": 130
    }
   ],
   "metadata": {}
  },
  {
   "cell_type": "code",
   "execution_count": 131,
   "source": [
    "d1 = {1: 'a', 2: 'b', 3: 'z', 4: 'x', 'c': 23}\n",
    "d1['d'] = 'abc'\n",
    "d1"
   ],
   "outputs": [
    {
     "output_type": "execute_result",
     "data": {
      "text/plain": [
       "{1: 'a', 2: 'b', 3: 'z', 4: 'x', 'c': 23, 'd': 'abc'}"
      ]
     },
     "metadata": {},
     "execution_count": 131
    }
   ],
   "metadata": {}
  },
  {
   "cell_type": "code",
   "execution_count": 132,
   "source": [
    "d1 = {1: 'a', 2: 'b', 3: 'z', 4: 'x', 'c': 23}\n",
    "d1.update({'a':12,'b':13})\n",
    "d1"
   ],
   "outputs": [
    {
     "output_type": "execute_result",
     "data": {
      "text/plain": [
       "{1: 'a', 2: 'b', 3: 'z', 4: 'x', 'c': 23, 'a': 12, 'b': 13}"
      ]
     },
     "metadata": {},
     "execution_count": 132
    }
   ],
   "metadata": {}
  },
  {
   "cell_type": "code",
   "execution_count": 133,
   "source": [
    "d1 = {1: 'a', 2: 'b', 3: 'z', 4: 'x', 'c': 23}\n",
    "del d1['c']\n",
    "d1"
   ],
   "outputs": [
    {
     "output_type": "execute_result",
     "data": {
      "text/plain": [
       "{1: 'a', 2: 'b', 3: 'z', 4: 'x'}"
      ]
     },
     "metadata": {},
     "execution_count": 133
    }
   ],
   "metadata": {}
  },
  {
   "cell_type": "code",
   "execution_count": 135,
   "source": [
    "d1 = {1: 'a', 2: 'b', 3: 'z', 4: 'x', 'c': 23}\n",
    "d1.pop('c'), d1  # 字典没有remove方法"
   ],
   "outputs": [
    {
     "output_type": "execute_result",
     "data": {
      "text/plain": [
       "(23, {1: 'a', 2: 'b', 3: 'z', 4: 'x'})"
      ]
     },
     "metadata": {},
     "execution_count": 135
    }
   ],
   "metadata": {}
  },
  {
   "cell_type": "code",
   "execution_count": 137,
   "source": [
    "# keys()返回键,values()返回值，items()方法返回键值对\n",
    "d1 = {1: 'a', 2: 'b', 3: 'z', 4: 'x', 'c': 23}\n",
    "d1.items(), d1.keys(), d1.values()\n"
   ],
   "outputs": [
    {
     "output_type": "execute_result",
     "data": {
      "text/plain": [
       "(dict_items([(1, 'a'), (2, 'b'), (3, 'z'), (4, 'x'), ('c', 23)]),\n",
       " dict_keys([1, 2, 3, 4, 'c']),\n",
       " dict_values(['a', 'b', 'z', 'x', 23]))"
      ]
     },
     "metadata": {},
     "execution_count": 137
    }
   ],
   "metadata": {}
  },
  {
   "cell_type": "code",
   "execution_count": 141,
   "source": [
    "for i in d1:\n",
    "    print(i)\n",
    "for i in d1.keys():\n",
    "    print(i)"
   ],
   "outputs": [
    {
     "output_type": "stream",
     "name": "stdout",
     "text": [
      "1\n",
      "2\n",
      "3\n",
      "4\n",
      "c\n",
      "1\n",
      "2\n",
      "3\n",
      "4\n",
      "c\n"
     ]
    }
   ],
   "metadata": {}
  },
  {
   "cell_type": "markdown",
   "source": [
    "# 常用序列函数"
   ],
   "metadata": {}
  },
  {
   "cell_type": "markdown",
   "source": [
    "## enumerate函数"
   ],
   "metadata": {}
  },
  {
   "cell_type": "markdown",
   "source": [
    "enumerate() 函数用于将一个可遍历的数据对象(如列表、元组或字符串)组合为一个索引序列，同时列出数据和数据下标，一般用在 for 循环当中。\n",
    "enumerate(sequence, [start=0])\n",
    "\n",
    "sequence 一个序列、迭代器或其他支持迭代对象。start 下标起始位置。"
   ],
   "metadata": {}
  },
  {
   "cell_type": "code",
   "execution_count": 177,
   "source": [
    "s = 'abcd'\n",
    "list(enumerate(s,start=2))"
   ],
   "outputs": [
    {
     "output_type": "execute_result",
     "data": {
      "text/plain": [
       "[(2, 'a'), (3, 'b'), (4, 'c'), (5, 'd')]"
      ]
     },
     "metadata": {},
     "execution_count": 177
    }
   ],
   "metadata": {}
  },
  {
   "cell_type": "markdown",
   "source": [
    "## zip函数"
   ],
   "metadata": {}
  },
  {
   "cell_type": "markdown",
   "source": [
    "zip可以将多个列表、元组或其它序列成对组合成一个元组列表.zip可以处理任意多的序列，元素的个数取决于最短的序列\r\n",
    "zip(*) 解压"
   ],
   "metadata": {}
  },
  {
   "cell_type": "code",
   "execution_count": 198,
   "source": [
    "l1 = [1, 2, 3, 4, 5]\n",
    "l2 = [7, 8, 9]\n",
    "l3 = range(1, 5)\n",
    "zipped = zip(l1, l2, l3)  # zip后的zipped是一个迭代器，迭代器可以通过for输出，也可以使用list\n",
    "list(zipped)"
   ],
   "outputs": [
    {
     "output_type": "execute_result",
     "data": {
      "text/plain": [
       "[(1, 7, 1), (2, 8, 2), (3, 9, 3)]"
      ]
     },
     "metadata": {},
     "execution_count": 198
    }
   ],
   "metadata": {}
  },
  {
   "cell_type": "code",
   "execution_count": 199,
   "source": [
    "l1 = [1, 2, 3, 4, 5]\n",
    "l2 = [7, 8, 9]\n",
    "l3 = range(1, 5)\n",
    "zipped = zip(l1, l2, l3) \n",
    "unlist = zip(*zipped)\n",
    "list(unlist)"
   ],
   "outputs": [
    {
     "output_type": "execute_result",
     "data": {
      "text/plain": [
       "[(1, 2, 3), (7, 8, 9), (1, 2, 3)]"
      ]
     },
     "metadata": {},
     "execution_count": 199
    }
   ],
   "metadata": {}
  },
  {
   "cell_type": "code",
   "execution_count": 3,
   "source": [
    "l1 = [1, 2, 3, 4, 5]\n",
    "l2 = [7, 8, 9]\n",
    "l3 = range(1, 5)\n",
    "zipped = zip(l1, l2, l3) \n",
    "list(zipped) # 耗尽内容\n",
    "unlist = zip(*zipped)\n",
    "list(unlist)"
   ],
   "outputs": [
    {
     "output_type": "stream",
     "name": "stdout",
     "text": [
      "<zip object at 0x7faa1aa7d680>\n"
     ]
    },
    {
     "output_type": "execute_result",
     "data": {
      "text/plain": [
       "[]"
      ]
     },
     "metadata": {},
     "execution_count": 3
    }
   ],
   "metadata": {}
  },
  {
   "cell_type": "code",
   "execution_count": 2,
   "source": [
    "# 重要\n",
    "#注意迭代器有一个特别的性质，一次迭代后则耗尽内容\n",
    "#可以看到这个对象第一次迭代有结果，但是没有第二次的迭代结果\n",
    "l1 = [1, 2, 3, 4]\n",
    "l2 = [2, 3, 4, 5]\n",
    "l3 = zip(l1, l2)\n",
    "\n",
    "for x in l3:\n",
    "    print('for循环{}'.format(x))\n",
    "print('----')\n",
    "for i in l3:\n",
    "    print('for循环{}'.format(i))"
   ],
   "outputs": [
    {
     "output_type": "stream",
     "name": "stdout",
     "text": [
      "for循环(1, 2)\n",
      "for循环(2, 3)\n",
      "for循环(3, 4)\n",
      "for循环(4, 5)\n",
      "----\n"
     ]
    }
   ],
   "metadata": {}
  },
  {
   "cell_type": "markdown",
   "source": [
    "## sorted与reversed"
   ],
   "metadata": {}
  },
  {
   "cell_type": "markdown",
   "source": [
    "sorted函数可以从任意序列的元素返回一个新的排好序的列表"
   ],
   "metadata": {}
  },
  {
   "cell_type": "code",
   "execution_count": 3,
   "source": [
    "sorted([7, 1, 2, 6, 0, 3, 2]), sorted([7, 1, 2, 6, 0, 3, 2],reverse=True), sorted('horse race')"
   ],
   "outputs": [
    {
     "output_type": "execute_result",
     "data": {
      "text/plain": [
       "([0, 1, 2, 2, 3, 6, 7],\n",
       " [7, 6, 3, 2, 2, 1, 0],\n",
       " [' ', 'a', 'c', 'e', 'e', 'h', 'o', 'r', 'r', 's'])"
      ]
     },
     "metadata": {},
     "execution_count": 3
    }
   ],
   "metadata": {}
  },
  {
   "cell_type": "markdown",
   "source": [
    "list(reversed(range(10)))#reversed可以从后向前迭代一个序列"
   ],
   "metadata": {}
  },
  {
   "cell_type": "code",
   "execution_count": 8,
   "source": [
    "l = 'abcd'\n",
    "list(reversed(l)),l"
   ],
   "outputs": [
    {
     "output_type": "execute_result",
     "data": {
      "text/plain": [
       "(['d', 'c', 'b', 'a'], 'abcd')"
      ]
     },
     "metadata": {},
     "execution_count": 8
    }
   ],
   "metadata": {}
  },
  {
   "cell_type": "code",
   "execution_count": 5,
   "source": [
    "l = 'abcd'\n",
    "l[::-1], l"
   ],
   "outputs": [
    {
     "output_type": "execute_result",
     "data": {
      "text/plain": [
       "('dcba', 'abcd')"
      ]
     },
     "metadata": {},
     "execution_count": 5
    }
   ],
   "metadata": {}
  },
  {
   "cell_type": "markdown",
   "source": [
    "# 动态变量"
   ],
   "metadata": {}
  },
  {
   "cell_type": "code",
   "execution_count": 10,
   "source": [
    "#创建动态变量\n",
    "createVar = locals()\n",
    "for i in ['1','2','3']:\n",
    "    createVar['li'+i]= int(i)\n",
    "    print(createVar['li'+i])\n",
    "createVar"
   ],
   "outputs": [
    {
     "output_type": "stream",
     "name": "stdout",
     "text": [
      "1\n",
      "2\n",
      "3\n"
     ]
    },
    {
     "output_type": "execute_result",
     "data": {
      "text/plain": [
       "{'__name__': '__main__',\n",
       " '__doc__': 'Automatically created module for IPython interactive environment',\n",
       " '__package__': None,\n",
       " '__loader__': None,\n",
       " '__spec__': None,\n",
       " '__builtin__': <module 'builtins' (built-in)>,\n",
       " '__builtins__': <module 'builtins' (built-in)>,\n",
       " '_ih': ['',\n",
       "  \"sorted([7, 1, 2, 6, 0, 3, 2],reverse=True),sorted('horse race')\",\n",
       "  \"sorted([7, 1, 2, 6, 0, 3, 2]), \\r\\nsorted([7, 1, 2, 6, 0, 3, 2],reverse=True),\\r\\nsorted('horse race')\\r\",\n",
       "  \"sorted([7, 1, 2, 6, 0, 3, 2]), sorted([7, 1, 2, 6, 0, 3, 2],reverse=True), sorted('horse race')\",\n",
       "  \"l = 'abcd'\\r\\nl[::-1]\",\n",
       "  \"l = 'abcd'\\r\\nl[::-1],l\",\n",
       "  \"l = 'abcd'\\r\\nreversed(l)\",\n",
       "  \"l = 'abcd'\\r\\nlist(reversed(l))\",\n",
       "  \"l = 'abcd'\\r\\nlist(reversed(l)),l\",\n",
       "  \"#创建动态变量\\r\\ncreateVar = locals()\\r\\nfor i in ['1','2','3']:\\r\\n    createVar['li'+i]= int(i)\\r\\n    print(createVar['li'+i])\",\n",
       "  \"#创建动态变量\\r\\ncreateVar = locals()\\r\\nfor i in ['1','2','3']:\\r\\n    createVar['li'+i]= int(i)\\r\\n    print(createVar['li'+i])\\r\\ncreateVar\"],\n",
       " '_oh': {1: ([7, 6, 3, 2, 2, 1, 0],\n",
       "   [' ', 'a', 'c', 'e', 'e', 'h', 'o', 'r', 'r', 's']),\n",
       "  2: [' ', 'a', 'c', 'e', 'e', 'h', 'o', 'r', 'r', 's'],\n",
       "  3: ([0, 1, 2, 2, 3, 6, 7],\n",
       "   [7, 6, 3, 2, 2, 1, 0],\n",
       "   [' ', 'a', 'c', 'e', 'e', 'h', 'o', 'r', 'r', 's']),\n",
       "  4: 'dcba',\n",
       "  5: ('dcba', 'abcd'),\n",
       "  6: <reversed at 0x21d46eaf0d0>,\n",
       "  7: ['d', 'c', 'b', 'a'],\n",
       "  8: (['d', 'c', 'b', 'a'], 'abcd')},\n",
       " '_dh': ['d:\\\\OneDrive\\\\PythonProject\\\\DeepLizard-pytorch\\\\test'],\n",
       " 'In': ['',\n",
       "  \"sorted([7, 1, 2, 6, 0, 3, 2],reverse=True),sorted('horse race')\",\n",
       "  \"sorted([7, 1, 2, 6, 0, 3, 2]), \\r\\nsorted([7, 1, 2, 6, 0, 3, 2],reverse=True),\\r\\nsorted('horse race')\\r\",\n",
       "  \"sorted([7, 1, 2, 6, 0, 3, 2]), sorted([7, 1, 2, 6, 0, 3, 2],reverse=True), sorted('horse race')\",\n",
       "  \"l = 'abcd'\\r\\nl[::-1]\",\n",
       "  \"l = 'abcd'\\r\\nl[::-1],l\",\n",
       "  \"l = 'abcd'\\r\\nreversed(l)\",\n",
       "  \"l = 'abcd'\\r\\nlist(reversed(l))\",\n",
       "  \"l = 'abcd'\\r\\nlist(reversed(l)),l\",\n",
       "  \"#创建动态变量\\r\\ncreateVar = locals()\\r\\nfor i in ['1','2','3']:\\r\\n    createVar['li'+i]= int(i)\\r\\n    print(createVar['li'+i])\",\n",
       "  \"#创建动态变量\\r\\ncreateVar = locals()\\r\\nfor i in ['1','2','3']:\\r\\n    createVar['li'+i]= int(i)\\r\\n    print(createVar['li'+i])\\r\\ncreateVar\"],\n",
       " 'Out': {1: ([7, 6, 3, 2, 2, 1, 0],\n",
       "   [' ', 'a', 'c', 'e', 'e', 'h', 'o', 'r', 'r', 's']),\n",
       "  2: [' ', 'a', 'c', 'e', 'e', 'h', 'o', 'r', 'r', 's'],\n",
       "  3: ([0, 1, 2, 2, 3, 6, 7],\n",
       "   [7, 6, 3, 2, 2, 1, 0],\n",
       "   [' ', 'a', 'c', 'e', 'e', 'h', 'o', 'r', 'r', 's']),\n",
       "  4: 'dcba',\n",
       "  5: ('dcba', 'abcd'),\n",
       "  6: <reversed at 0x21d46eaf0d0>,\n",
       "  7: ['d', 'c', 'b', 'a'],\n",
       "  8: (['d', 'c', 'b', 'a'], 'abcd')},\n",
       " 'get_ipython': <bound method InteractiveShell.get_ipython of <ipykernel.zmqshell.ZMQInteractiveShell object at 0x0000021D46EBBFA0>>,\n",
       " 'exit': <IPython.core.autocall.ZMQExitAutocall at 0x21d46f59910>,\n",
       " 'quit': <IPython.core.autocall.ZMQExitAutocall at 0x21d46f59910>,\n",
       " '_': (['d', 'c', 'b', 'a'], 'abcd'),\n",
       " '__': ['d', 'c', 'b', 'a'],\n",
       " '___': <reversed at 0x21d46eaf0d0>,\n",
       " 'os': <module 'os' from 'C:\\\\ProgramData\\\\Anaconda3\\\\envs\\\\pytorch\\\\lib\\\\os.py'>,\n",
       " 'sys': <module 'sys' (built-in)>,\n",
       " '_i': \"#创建动态变量\\r\\ncreateVar = locals()\\r\\nfor i in ['1','2','3']:\\r\\n    createVar['li'+i]= int(i)\\r\\n    print(createVar['li'+i])\",\n",
       " '_ii': \"l = 'abcd'\\r\\nlist(reversed(l)),l\",\n",
       " '_iii': \"l = 'abcd'\\r\\nlist(reversed(l))\",\n",
       " '_i1': \"sorted([7, 1, 2, 6, 0, 3, 2],reverse=True),sorted('horse race')\",\n",
       " '_1': ([7, 6, 3, 2, 2, 1, 0],\n",
       "  [' ', 'a', 'c', 'e', 'e', 'h', 'o', 'r', 'r', 's']),\n",
       " '_i2': \"sorted([7, 1, 2, 6, 0, 3, 2]), \\r\\nsorted([7, 1, 2, 6, 0, 3, 2],reverse=True),\\r\\nsorted('horse race')\\r\",\n",
       " '_2': [' ', 'a', 'c', 'e', 'e', 'h', 'o', 'r', 'r', 's'],\n",
       " '_i3': \"sorted([7, 1, 2, 6, 0, 3, 2]), sorted([7, 1, 2, 6, 0, 3, 2],reverse=True), sorted('horse race')\",\n",
       " '_3': ([0, 1, 2, 2, 3, 6, 7],\n",
       "  [7, 6, 3, 2, 2, 1, 0],\n",
       "  [' ', 'a', 'c', 'e', 'e', 'h', 'o', 'r', 'r', 's']),\n",
       " '_i4': \"l = 'abcd'\\r\\nl[::-1]\",\n",
       " 'l': 'abcd',\n",
       " '_4': 'dcba',\n",
       " '_i5': \"l = 'abcd'\\r\\nl[::-1],l\",\n",
       " '_5': ('dcba', 'abcd'),\n",
       " '_i6': \"l = 'abcd'\\r\\nreversed(l)\",\n",
       " '_6': <reversed at 0x21d46eaf0d0>,\n",
       " '_i7': \"l = 'abcd'\\r\\nlist(reversed(l))\",\n",
       " '_7': ['d', 'c', 'b', 'a'],\n",
       " '_i8': \"l = 'abcd'\\r\\nlist(reversed(l)),l\",\n",
       " '_8': (['d', 'c', 'b', 'a'], 'abcd'),\n",
       " '_i9': \"#创建动态变量\\r\\ncreateVar = locals()\\r\\nfor i in ['1','2','3']:\\r\\n    createVar['li'+i]= int(i)\\r\\n    print(createVar['li'+i])\",\n",
       " 'createVar': {...},\n",
       " 'i': '3',\n",
       " 'li1': 1,\n",
       " 'li2': 2,\n",
       " 'li3': 3,\n",
       " '_i10': \"#创建动态变量\\r\\ncreateVar = locals()\\r\\nfor i in ['1','2','3']:\\r\\n    createVar['li'+i]= int(i)\\r\\n    print(createVar['li'+i])\\r\\ncreateVar\"}"
      ]
     },
     "metadata": {},
     "execution_count": 10
    }
   ],
   "metadata": {}
  },
  {
   "cell_type": "code",
   "execution_count": null,
   "source": [],
   "outputs": [],
   "metadata": {}
  }
 ],
 "metadata": {
  "orig_nbformat": 4,
  "language_info": {
   "name": "python",
   "version": "3.8.11",
   "mimetype": "text/x-python",
   "codemirror_mode": {
    "name": "ipython",
    "version": 3
   },
   "pygments_lexer": "ipython3",
   "nbconvert_exporter": "python",
   "file_extension": ".py"
  },
  "kernelspec": {
   "name": "python3",
   "display_name": "Python 3.8.11 64-bit ('pytorch': conda)"
  },
  "interpreter": {
   "hash": "37fe0b70dd3799dca135db0590ef8349d44252de73bba3428efc8b27978c460c"
  }
 },
 "nbformat": 4,
 "nbformat_minor": 2
}