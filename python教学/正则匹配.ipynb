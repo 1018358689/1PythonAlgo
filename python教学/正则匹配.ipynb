{
 "cells": [
  {
   "cell_type": "code",
   "execution_count": 31,
   "source": [
    "import re\r\n",
    "string = '2abc3f i;k 13aav1sa2AFd_aa21fff4 s1FB23 b112 a5das'\r\n",
    "string"
   ],
   "outputs": [
    {
     "output_type": "execute_result",
     "data": {
      "text/plain": [
       "'2abc3f i;k 13aav1sa2AFd_aa21fff4 s1FB23 b112 a5das'"
      ]
     },
     "metadata": {},
     "execution_count": 31
    }
   ],
   "metadata": {}
  },
  {
   "cell_type": "code",
   "execution_count": 35,
   "source": [
    "res1 = re.findall('\\d+',string)  # \\d：数字 +：一个或多个 *：零个或多个 ？：零个或一个   \\d等价[0-9]\r\n",
    "res2 = re.findall('\\w+',string)  # \\w：包括下划线的任何字符 等价[A-Za-z0-9_]\r\n",
    "res3 = re.findall('[a-d]+',string) # [a-d]：匹配a-d字符\r\n",
    "res4 = re.findall('[a-zA-Z]+',string) # [a-zA-Z]：匹配全部英文字符\r\n",
    "res5 = re.findall('[^a-z][a-z]{3}[0-9][a-z]{2}[^a-z]',string) # [^a-z]：非a-z {3}：重复3次\r\n",
    "res6 = re.findall('^[0-9]',string) # ^[0-9]：数字开头 每行匹配\r\n",
    "res7 = re.findall('[a-z]$',string) # [a-z]$：a-z结尾 每行匹配\r\n",
    "print(res1)\r\n",
    "print(res2)\r\n",
    "print(res3)\r\n",
    "print(res4)\r\n",
    "print(res5)\r\n",
    "print(res6)\r\n",
    "print(res7)"
   ],
   "outputs": [
    {
     "output_type": "stream",
     "name": "stdout",
     "text": [
      "['2', '3', '13', '1', '2', '21', '4', '1', '23', '112', '5']\n",
      "['2abc3f', 'i', 'k', '13aav1sa2AFd_aa21fff4', 's1FB23', 'b112', 'a5das']\n",
      "['abc', 'aa', 'a', 'd', 'aa', 'b', 'a', 'da']\n",
      "['abc', 'f', 'i', 'k', 'aav', 'sa', 'AFd', 'aa', 'fff', 's', 'FB', 'b', 'a', 'das']\n",
      "['3aav1sa2']\n",
      "['2']\n",
      "['s']\n"
     ]
    }
   ],
   "metadata": {}
  },
  {
   "cell_type": "code",
   "execution_count": null,
   "source": [],
   "outputs": [],
   "metadata": {}
  }
 ],
 "metadata": {
  "orig_nbformat": 4,
  "language_info": {
   "name": "python",
   "version": "3.8.11",
   "mimetype": "text/x-python",
   "codemirror_mode": {
    "name": "ipython",
    "version": 3
   },
   "pygments_lexer": "ipython3",
   "nbconvert_exporter": "python",
   "file_extension": ".py"
  },
  "kernelspec": {
   "name": "python3",
   "display_name": "Python 3.8.11 64-bit ('pytorch': conda)"
  },
  "interpreter": {
   "hash": "af407973ba12897262deda9d8992946cc1a9873fff2de40f1acc89cdf9010052"
  }
 },
 "nbformat": 4,
 "nbformat_minor": 2
}