{
 "cells": [
  {
   "cell_type": "markdown",
   "metadata": {},
   "source": [
    "三数排序\n",
    "**题目：**将三个整数x,y,z由小到大排序输出。"
   ]
  },
  {
   "cell_type": "code",
   "execution_count": 6,
   "metadata": {},
   "outputs": [
    {
     "name": "stdout",
     "output_type": "stream",
     "text": [
      "[1, 2, 3, 4]\n"
     ]
    }
   ],
   "source": [
    "raw = [2,1,4,3]\n",
    "for i in range(len(raw)):\n",
    "    for j in range(i+1, len(raw)):\n",
    "        if raw[i] > raw[j]:\n",
    "            raw[i], raw[j] = raw[j], raw[i]\n",
    "print(raw)"
   ]
  },
  {
   "cell_type": "markdown",
   "metadata": {},
   "source": [
    "数字组合\n",
    "**题目：**有四个数字：1、2、3、4，能组成多少个互不相同且无重复数字的三位数？各是多少？\n",
    "**程序分析：**遍历全部可能，把有重复的剃掉。"
   ]
  },
  {
   "cell_type": "code",
   "execution_count": null,
   "metadata": {},
   "outputs": [],
   "source": [
    "total=0\n",
    "for i in range(1,5):\n",
    "    for j in range(1,5):\n",
    "        for k in range(1,5):\n",
    "            if ((i!=j)and(j!=k)and(k!=i)):\n",
    "                print(i,j,k)\n",
    "                total+=1\n",
    "print(total)"
   ]
  },
  {
   "cell_type": "code",
   "execution_count": null,
   "metadata": {},
   "outputs": [],
   "source": [
    "import itertools\n",
    "sum2=0\n",
    "a=[1,2,3,4]\n",
    "for i in itertools.permutations(a,3):\n",
    "    print(i)\n",
    "    sum2+=1\n",
    "print(sum2)"
   ]
  },
  {
   "cell_type": "code",
   "execution_count": 3,
   "metadata": {},
   "outputs": [
    {
     "name": "stdout",
     "output_type": "stream",
     "text": [
      "[1, 2, [5]]\n"
     ]
    }
   ],
   "source": [
    "m = [1, 2, [3]]\n",
    "n = m[:]\n",
    "n[1] = 4\n",
    "n[2][0] = 5\n",
    "print(m)"
   ]
  },
  {
   "cell_type": "markdown",
   "metadata": {},
   "source": [
    "copy\n",
    "**题目：**将一个列表1[1,2,[3,4]]的数据复制到另一个列表2中。\n",
    "****\n",
    "m = [1, 2, [3]]\n",
    "n = m[:]\n",
    "n[1] = 4\n",
    "n[2][0] = 5\n",
    "print(m)\n",
    "\n",
    "A.[1,2,[3]]  B.[1,4,[3]]  C.[1,2,[5]]  D.[1,4,[5]]\n",
    "****\n",
    "\n",
    "# =\n",
    "# [:]\n",
    "# copy\n",
    "# deepcopy\n",
    "# 赋值操作并不是往一个容器里装数据，而是往一个数据上贴标签\n",
    "# list 中的元素保存的其实是一个索引(地址)，当你copy时，只是复制了一份索引，指向的内容还是同一份。"
   ]
  },
  {
   "cell_type": "markdown",
   "metadata": {},
   "source": [
    "九九乘法表\n",
    "**题目：**输出 9*9 乘法口诀表。\n",
    "**程序分析：**分行与列考虑，共9行9列，i控制行，j控制列。"
   ]
  },
  {
   "cell_type": "code",
   "execution_count": 4,
   "metadata": {},
   "outputs": [
    {
     "name": "stdout",
     "output_type": "stream",
     "text": [
      "1*1= 1 \n",
      "2*1= 2 2*2= 4 \n",
      "3*1= 3 3*2= 6 3*3= 9 \n",
      "4*1= 4 4*2= 8 4*3=12 4*4=16 \n",
      "5*1= 5 5*2=10 5*3=15 5*4=20 5*5=25 \n",
      "6*1= 6 6*2=12 6*3=18 6*4=24 6*5=30 6*6=36 \n",
      "7*1= 7 7*2=14 7*3=21 7*4=28 7*5=35 7*6=42 7*7=49 \n",
      "8*1= 8 8*2=16 8*3=24 8*4=32 8*5=40 8*6=48 8*7=56 8*8=64 \n",
      "9*1= 9 9*2=18 9*3=27 9*4=36 9*5=45 9*6=54 9*7=63 9*8=72 9*9=81 \n"
     ]
    }
   ],
   "source": [
    "for i in range(1, 10):\n",
    "    for j in range(1, i + 1):\n",
    "        print('{}*{}={:>2} '.format(i, j, i * j), end='')\n",
    "    print()"
   ]
  },
  {
   "cell_type": "markdown",
   "metadata": {},
   "source": [
    "拼接和排序\n",
    "**题目：**有列表1[2,6,8]和列表2[7,0,4],请将列表1后拼接列表2，再将列表1排序输出\n",
    "# list.sort()\n",
    "# sorted(list)\n",
    "# +=\n",
    "# l1.extend(l2)"
   ]
  },
  {
   "cell_type": "markdown",
   "metadata": {},
   "source": [
    "求和\n",
    "**题目：**统计 1 到 100 之和。\n",
    "# sum"
   ]
  },
  {
   "cell_type": "markdown",
   "metadata": {},
   "source": [
    "分解序列成多个单独变量\n",
    "**题目：** data = ['Jack', 'Man', (2012, 12, 31)] -> name, sex, birthday"
   ]
  },
  {
   "cell_type": "markdown",
   "metadata": {},
   "source": [
    "查电话号码(电话号码数量不一定,可能没有)\n",
    "**题目：** record = ('Jack', 'Jack@example.com', '010-12345678', '010-87654321')\n",
    "-> 用phone_numers存储"
   ]
  },
  {
   "cell_type": "markdown",
   "metadata": {},
   "source": [
    "字典键值反转\n",
    "**题目：** 字典{'a':1,'b':2,'c':3} -> {1:'a',2:'b',3:'c'}\n",
    "# zip()\n",
    "# dict()\n",
    "keys(),values(),items()"
   ]
  },
  {
   "cell_type": "markdown",
   "metadata": {},
   "source": [
    "去除重复元素\n",
    "**题目：** 去除序列中的重复元素。\n",
    "(1,2,1) -> (1,2)\n",
    "\n",
    "[(1,2),(4,6),(1,2)] -> [(1,2),(4,6)]\n",
    "[[1,2],[4,6],[1,2]] -> [[1,2],[4,6]]"
   ]
  },
  {
   "cell_type": "markdown",
   "metadata": {},
   "source": [
    "交换位置\n",
    "**题目：**列表[1,2,0,5,6,4],将最大的与第一个元素交换，最小的与最后一个元素交换，输出数组。\n",
    "[1,2,0,5,6,4] -> [6,2,4,5,1,0]\n",
    "# x1,x2=x2,x1\n",
    "# list.index(content)\n",
    "# max(list)\n",
    "# min(list)"
   ]
  },
  {
   "cell_type": "code",
   "execution_count": 20,
   "metadata": {},
   "outputs": [
    {
     "data": {
      "text/plain": [
       "[1, 2, 4, 5, 6, 0]"
      ]
     },
     "execution_count": 20,
     "metadata": {},
     "output_type": "execute_result"
    }
   ],
   "source": [
    "# error\n",
    "# x1,x2=x2,x1 原理： a=x2, b=x1, x1=a, x2=b\n",
    "li = [1,2,0,5,6,4]\n",
    "li[-1],li[li.index(min(li))]=li[li.index(min(li))],li[-1]\n",
    "li[0],li[li.index(max(li))]=li[li.index(max(li))],li[0]\n",
    "li"
   ]
  },
  {
   "cell_type": "code",
   "execution_count": 22,
   "metadata": {},
   "outputs": [
    {
     "data": {
      "text/plain": [
       "[1, 2, 4, 5, 6, 0]"
      ]
     },
     "execution_count": 22,
     "metadata": {},
     "output_type": "execute_result"
    }
   ],
   "source": [
    "li = [1, 2, 0, 5, 6, 4]\n",
    "a = li[li.index(min(li))] # a=0\n",
    "b = li[-1] # b=4\n",
    "li[-1] = a # li[-1]=0\n",
    "li[li.index(min(li))] = b # li[2]=4\n",
    "li"
   ]
  },
  {
   "cell_type": "code",
   "execution_count": 23,
   "metadata": {},
   "outputs": [
    {
     "data": {
      "text/plain": [
       "[1, 2, 0, 5, 6, 4]"
      ]
     },
     "execution_count": 23,
     "metadata": {},
     "output_type": "execute_result"
    }
   ],
   "source": [
    "li = [1, 2, 0, 5, 6, 4]\n",
    "a = li[li.index(max(li))]  # a=6\n",
    "b = li[0]  # b=1\n",
    "li[0] = a  # li[0]=6\n",
    "li[li.index(max(li))] = b  # li[0]=1\n",
    "li\n",
    "li"
   ]
  },
  {
   "cell_type": "code",
   "execution_count": null,
   "metadata": {},
   "outputs": [],
   "source": []
  }
 ],
 "metadata": {
  "interpreter": {
   "hash": "004de6046f1b3d314f33fdb43a2dc798b2646e5600efd8df5066c8b63a00ff6d"
  },
  "kernelspec": {
   "display_name": "Python 3.8.10 64-bit",
   "language": "python",
   "name": "python3"
  },
  "language_info": {
   "codemirror_mode": {
    "name": "ipython",
    "version": 3
   },
   "file_extension": ".py",
   "mimetype": "text/x-python",
   "name": "python",
   "nbconvert_exporter": "python",
   "pygments_lexer": "ipython3",
   "version": "3.10.1"
  },
  "orig_nbformat": 4
 },
 "nbformat": 4,
 "nbformat_minor": 2
}
