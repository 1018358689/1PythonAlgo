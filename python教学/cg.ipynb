{
 "cells": [
  {
   "cell_type": "code",
   "execution_count": 2,
   "metadata": {},
   "outputs": [
    {
     "data": {
      "text/plain": [
       "[2,\n",
       " 4,\n",
       " 6,\n",
       " 8,\n",
       " 10,\n",
       " 12,\n",
       " 14,\n",
       " 16,\n",
       " 18,\n",
       " 20,\n",
       " 22,\n",
       " 24,\n",
       " 26,\n",
       " 28,\n",
       " 30,\n",
       " 32,\n",
       " 34,\n",
       " 36,\n",
       " 38,\n",
       " 40,\n",
       " 42,\n",
       " 44,\n",
       " 46,\n",
       " 48,\n",
       " 50,\n",
       " 52,\n",
       " 54,\n",
       " 56,\n",
       " 58,\n",
       " 60,\n",
       " 62,\n",
       " 64,\n",
       " 66,\n",
       " 68,\n",
       " 70,\n",
       " 72,\n",
       " 74,\n",
       " 76,\n",
       " 78,\n",
       " 80,\n",
       " 82,\n",
       " 84,\n",
       " 86,\n",
       " 88,\n",
       " 90,\n",
       " 92,\n",
       " 94,\n",
       " 96,\n",
       " 98,\n",
       " 100]"
      ]
     },
     "execution_count": 2,
     "metadata": {},
     "output_type": "execute_result"
    }
   ],
   "source": [
    "[i for i in range(1, 101) if not i % 2]"
   ]
  },
  {
   "cell_type": "code",
   "execution_count": 3,
   "metadata": {},
   "outputs": [
    {
     "data": {
      "text/plain": [
       "[153, 370, 371, 407]"
      ]
     },
     "execution_count": 3,
     "metadata": {},
     "output_type": "execute_result"
    }
   ],
   "source": [
    "[i for i in range(100, 1000) if sum((int(str(i)[0])**3, int(str(i)[1])**3, int(str(i)[2])**3)) == i]\n"
   ]
  },
  {
   "cell_type": "code",
   "execution_count": 7,
   "metadata": {},
   "outputs": [
    {
     "name": "stdout",
     "output_type": "stream",
     "text": [
      "4 18 78\n",
      "8 11 81\n",
      "12 4 84\n"
     ]
    }
   ],
   "source": [
    "for i in range(1,99):\n",
    "    for j in range(1,100-i):\n",
    "        z = 100-i-j\n",
    "        if 5*i+3*j+z/3 == 100:\n",
    "            print(i,j,z)"
   ]
  },
  {
   "cell_type": "code",
   "execution_count": 8,
   "metadata": {},
   "outputs": [
    {
     "name": "stdout",
     "output_type": "stream",
     "text": [
      "4 18 78\n",
      "8 11 81\n",
      "12 4 84\n"
     ]
    }
   ],
   "source": [
    "for i in range(1, 99):\n",
    "    for j in range(1, 99):\n",
    "        for z in range(1, 99):\n",
    "            if 5 * i + 3 * j + z / 3 == 100 and i + j + z == 100:\n",
    "                print(i, j, z)\n"
   ]
  },
  {
   "cell_type": "code",
   "execution_count": 9,
   "metadata": {},
   "outputs": [
    {
     "name": "stdout",
     "output_type": "stream",
     "text": [
      "[0, 2, 3, 3, 5, 6, 7, 7, 9, 10]\n"
     ]
    }
   ],
   "source": [
    "# 计数排序\n",
    "a = [0, 2, 5, 3, 7, 9, 10, 3, 7, 6]\n",
    "maxn = max(a) + 1\n",
    "c, count = [], [0] * maxn\n",
    "for i in a:\n",
    "    count[i] += 1\n",
    "for i in range(maxn):\n",
    "    while count[i] != 0:\n",
    "        c.append(i)\n",
    "        count[i] -= 1\n",
    "print(c)"
   ]
  },
  {
   "cell_type": "code",
   "execution_count": 13,
   "metadata": {},
   "outputs": [
    {
     "name": "stdout",
     "output_type": "stream",
     "text": [
      "[10, 9, 7, 7, 6, 5, 3, 3, 2, 0]\n"
     ]
    }
   ],
   "source": [
    "# 计数排序\n",
    "a = [0, 2, 5, 3, 7, 9, 10, 3, 7, 6]\n",
    "maxn = max(a) + 1\n",
    "c, count = [], [0] * maxn\n",
    "for i in a:\n",
    "    count[i] += 1\n",
    "for i in range(maxn - 1, -1, -1):\n",
    "    c += [i] * count[i]\n",
    "print(c)"
   ]
  },
  {
   "cell_type": "code",
   "execution_count": 14,
   "metadata": {},
   "outputs": [
    {
     "name": "stdout",
     "output_type": "stream",
     "text": [
      "[0, 2, 3, 3, 5, 6, 7, 7, 9, 10]\n"
     ]
    }
   ],
   "source": [
    "# 计数排序\n",
    "a = [0, 2, 5, 3, 7, 9, 10, 3, 7, 6]\n",
    "maxn = max(a) + 1\n",
    "c, count = [], [0] * maxn\n",
    "for i in a:\n",
    "    count[i] += 1\n",
    "for i in range(maxn):\n",
    "    c += [i] * count[i]\n",
    "print(c)"
   ]
  },
  {
   "cell_type": "code",
   "execution_count": 16,
   "metadata": {},
   "outputs": [
    {
     "name": "stdout",
     "output_type": "stream",
     "text": [
      "[101, 102, 103, 107, 108, 109, 110]\n"
     ]
    }
   ],
   "source": [
    "# 计数排序\n",
    "a = [101, 109, 108, 102, 110, 107, 103]\n",
    "maxn = max(a) - min(a) + 1\n",
    "c, count = [], [0] * maxn\n",
    "for i in a:\n",
    "    count[i - min(a)] += 1\n",
    "for i in range(maxn):\n",
    "    c += [i + min(a)] * count[i]\n",
    "print(c)"
   ]
  },
  {
   "cell_type": "code",
   "execution_count": 17,
   "metadata": {},
   "outputs": [
    {
     "name": "stdout",
     "output_type": "stream",
     "text": [
      "[-7, -5, -3, 1, 5, 7, 8]\n"
     ]
    }
   ],
   "source": [
    "a = [-5,-7,8,5,1,7,-3]\n",
    "maxn = max(a) - min(a) + 1\n",
    "c, count = [], [0] * maxn\n",
    "for i in a:\n",
    "    count[i - min(a)] += 1\n",
    "for i in range(maxn):\n",
    "    c += [i + min(a)] * count[i]\n",
    "print(c)"
   ]
  },
  {
   "cell_type": "code",
   "execution_count": 19,
   "metadata": {},
   "outputs": [
    {
     "data": {
      "text/plain": [
       "[1, 2, 3, 4]"
      ]
     },
     "execution_count": 19,
     "metadata": {},
     "output_type": "execute_result"
    }
   ],
   "source": [
    "a = '1 2 3 4'\n",
    "[int(i) for i in a.split()]"
   ]
  },
  {
   "cell_type": "code",
   "execution_count": 26,
   "metadata": {},
   "outputs": [
    {
     "data": {
      "text/plain": [
       "[7, 3, 1, 2, 4, 6, 8, 10]"
      ]
     },
     "execution_count": 26,
     "metadata": {},
     "output_type": "execute_result"
    }
   ],
   "source": [
    "l = [7, 8, 1, 2, 4, 6, 10, 3]\n",
    "j = sorted((i for i in l if i % 2), reverse=True)\n",
    "o = sorted(i for i in l if not i % 2)\n",
    "# ' '.join(str(i) for i in j+o)\n",
    "j+o"
   ]
  },
  {
   "cell_type": "code",
   "execution_count": 30,
   "metadata": {},
   "outputs": [
    {
     "data": {
      "text/plain": [
       "(10, [66, 221, 234, 235, 521, 566, 650, 793, 821, 863])"
      ]
     },
     "execution_count": 30,
     "metadata": {},
     "output_type": "execute_result"
    }
   ],
   "source": [
    "import random\n",
    "\n",
    "N = 10\n",
    "a = [random.randint(1, 1000) for _ in range(10)]\n",
    "len(a), sorted(list(set(a)))\n"
   ]
  },
  {
   "cell_type": "code",
   "execution_count": 46,
   "metadata": {},
   "outputs": [
    {
     "data": {
      "text/plain": [
       "['1.70', '1.72', '1.78', '1.70', '1.61', '1.56']"
      ]
     },
     "execution_count": 46,
     "metadata": {},
     "output_type": "execute_result"
    }
   ],
   "source": [
    "# ('male',1.72),('male',1.78),('female',1.61)\n",
    "\n",
    "\n",
    "l = [('male', 1.72), ('male', 1.78), ('female', 1.61), ('male', 1.70), ('female', 1.70), ('female', 1.56)]\n",
    "j = sorted('{:.2f}'.format(i[1]) for i in l if i[0] == 'male')\n",
    "o = sorted(('{:.2f}'.format(i[1]) for i in l if i[0] == 'female'), reverse=True)\n",
    "j + o\n"
   ]
  },
  {
   "cell_type": "code",
   "execution_count": 40,
   "metadata": {},
   "outputs": [
    {
     "data": {
      "text/plain": [
       "1.74"
      ]
     },
     "execution_count": 40,
     "metadata": {},
     "output_type": "execute_result"
    }
   ],
   "source": [
    "n = 6\n",
    "m = 3\n",
    "record = [(1000,90),(3239,88),(2390,95),(7231,84),(1005,95),(1001,88)]\n"
   ]
  },
  {
   "cell_type": "code",
   "execution_count": null,
   "metadata": {},
   "outputs": [],
   "source": [
    "l = [[301.0, 1.0, '30101XX', 89.0], [301.0, 2.0, '30102XX', 99.0], [302.0, 3.0, '30103XX', 97.0],\n",
    "     [302.0, 4.0, '30104XX', 97.0]]\n"
   ]
  },
  {
   "cell_type": "code",
   "execution_count": 2,
   "metadata": {},
   "outputs": [
    {
     "data": {
      "text/plain": [
       "'abc'"
      ]
     },
     "execution_count": 2,
     "metadata": {},
     "output_type": "execute_result"
    }
   ],
   "source": [
    "lst = [[{'src': 1, 'tgt': 'a'}, {'src': 2, 'tgt': 'b'}, {'src': 3, 'tgt': 'c'}]]\n",
    "s = ''.join(i['tgt'] for i in lst[0])\n",
    "s"
   ]
  },
  {
   "cell_type": "code",
   "execution_count": 80,
   "metadata": {},
   "outputs": [
    {
     "data": {
      "text/plain": [
       "(3, 0, 2, 1, 3)"
      ]
     },
     "execution_count": 80,
     "metadata": {},
     "output_type": "execute_result"
    }
   ],
   "source": [
    "def f(s):\n",
    "    \"\"\"\n",
    "    :type s: str\n",
    "    :rtype: int\n",
    "    \"\"\"\n",
    "    if not s: return 0\n",
    "    L = R = 0\n",
    "    window = []\n",
    "    maxlength = 1\n",
    "    for R in range(len(s)):\n",
    "        # print(L,R)\n",
    "        if s[R] not in window:\n",
    "            window.append(s[R])\n",
    "        else:\n",
    "            window.append(s[R])\n",
    "            maxlength = max((maxlength, R - L))\n",
    "            while s[L] != s[R]:\n",
    "                L += 1\n",
    "                window.pop(0)\n",
    "                # print(L,R)\n",
    "            window.pop(0)\n",
    "            L += 1\n",
    "            # print(L,R)\n",
    "    maxlength = max((maxlength, R - L + 1))\n",
    "    return maxlength\n",
    "\n",
    "\n",
    "f('abcbcbb'), f(''), f('abb'), f('a'), f('dvdf')\n",
    "# f('tmmzuxt'),f('baabaab!bb')"
   ]
  },
  {
   "cell_type": "code",
   "execution_count": 1,
   "metadata": {},
   "outputs": [
    {
     "data": {
      "text/plain": [
       "set()"
      ]
     },
     "execution_count": 1,
     "metadata": {},
     "output_type": "execute_result"
    }
   ],
   "source": [
    "s = {1,2,3}\n",
    "s.clear()\n",
    "s"
   ]
  },
  {
   "cell_type": "code",
   "execution_count": null,
   "metadata": {},
   "outputs": [],
   "source": []
  }
 ],
 "metadata": {
  "interpreter": {
   "hash": "004de6046f1b3d314f33fdb43a2dc798b2646e5600efd8df5066c8b63a00ff6d"
  },
  "kernelspec": {
   "display_name": "Python 3.8.10 64-bit",
   "language": "python",
   "name": "python3"
  },
  "language_info": {
   "codemirror_mode": {
    "name": "ipython",
    "version": 3
   },
   "file_extension": ".py",
   "mimetype": "text/x-python",
   "name": "python",
   "nbconvert_exporter": "python",
   "pygments_lexer": "ipython3",
   "version": "3.8.10"
  },
  "orig_nbformat": 4
 },
 "nbformat": 4,
 "nbformat_minor": 2
}
