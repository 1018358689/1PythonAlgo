{
 "cells": [
  {
   "cell_type": "markdown",
   "source": [
    "enumerate() 函数用于将一个可遍历的数据对象(如列表、元组或字符串)组合为一个索引序列，同时列出数据和数据下标，一般用在 for 循环当中。\r\n",
    "enumerate(sequence, [start=0])\r\n",
    "\r\n",
    "sequence 一个序列、迭代器或其他支持迭代对象。start 下标起始位置。"
   ],
   "metadata": {}
  },
  {
   "cell_type": "code",
   "execution_count": 5,
   "source": [
    "l2 = ['a', 'b', 'c']\r\n",
    "list(enumerate(l2,start=2)) # 索引序列 列出下标和数据"
   ],
   "outputs": [
    {
     "output_type": "execute_result",
     "data": {
      "text/plain": [
       "[(2, 'a'), (3, 'b'), (4, 'c')]"
      ]
     },
     "metadata": {},
     "execution_count": 5
    }
   ],
   "metadata": {}
  },
  {
   "cell_type": "markdown",
   "source": [
    "zip可以将多个列表、元组或其它序列成对组合成一个元组列表.zip可以处理任意多的序列，元素的个数取决于最短的序列\r\n",
    "zip(*) 解压"
   ],
   "metadata": {}
  },
  {
   "cell_type": "code",
   "execution_count": 2,
   "source": [
    "l1 = [6, 42, 4]\r\n",
    "l2 = ['a', 'b', 'c', 'd']\r\n",
    "list(zip(l1, l2, range(3, 100)))  # zip后的zipped是一个迭代器，迭代器可以通过for输出，也可以使用list"
   ],
   "outputs": [
    {
     "output_type": "execute_result",
     "data": {
      "text/plain": [
       "[(6, 'a', 3), (42, 'b', 4), (4, 'c', 5)]"
      ]
     },
     "metadata": {},
     "execution_count": 2
    }
   ],
   "metadata": {}
  },
  {
   "cell_type": "code",
   "execution_count": 4,
   "source": [
    "l1 = [1, 2, 3, 4, 5]\r\n",
    "l2 = [7, 8, 9]\r\n",
    "l3 = range(1, 5)\r\n",
    "zipped = zip(l1, l2, l3) \r\n",
    "unlist = zip(*zipped)    # 解压\r\n",
    "list(unlist)"
   ],
   "outputs": [
    {
     "output_type": "execute_result",
     "data": {
      "text/plain": [
       "[(1, 2, 3), (7, 8, 9), (1, 2, 3)]"
      ]
     },
     "metadata": {},
     "execution_count": 4
    }
   ],
   "metadata": {}
  },
  {
   "cell_type": "code",
   "execution_count": null,
   "source": [
    "l1 = [1, 2, 3, 4, 5]\r\n",
    "l2 = [7, 8, 9]\r\n",
    "l3 = range(1, 5)\r\n",
    "zipped = zip(l1, l2, l3) \r\n",
    "list(zipped) # 耗尽内容\r\n",
    "unlist = zip(*zipped)\r\n",
    "list(unlist)"
   ],
   "outputs": [
    {
     "data": {
      "text/plain": [
       "[]"
      ]
     },
     "metadata": {},
     "output_type": "display_data"
    }
   ],
   "metadata": {}
  },
  {
   "cell_type": "code",
   "execution_count": null,
   "source": [
    "# 重要\r\n",
    "#注意迭代器有一个特别的性质，一次迭代后则耗尽内容\r\n",
    "#可以看到这个对象第一次迭代有结果，但是没有第二次的迭代结果\r\n",
    "l1 = [1, 2, 3, 4]\r\n",
    "l2 = [2, 3, 4, 5]\r\n",
    "l3 = zip(l1, l2)\r\n",
    "\r\n",
    "for x in l3:\r\n",
    "    print('for循环{}'.format(x))\r\n",
    "print('----')\r\n",
    "for i in l3:\r\n",
    "    print('for循环{}'.format(i))"
   ],
   "outputs": [
    {
     "output_type": "stream",
     "name": "stdout",
     "text": [
      "for循环(1, 2)\n",
      "for循环(2, 3)\n",
      "for循环(3, 4)\n",
      "for循环(4, 5)\n",
      "----\n"
     ]
    }
   ],
   "metadata": {}
  }
 ],
 "metadata": {
  "orig_nbformat": 4,
  "language_info": {
   "name": "python",
   "version": "3.8.11",
   "mimetype": "text/x-python",
   "codemirror_mode": {
    "name": "ipython",
    "version": 3
   },
   "pygments_lexer": "ipython3",
   "nbconvert_exporter": "python",
   "file_extension": ".py"
  },
  "kernelspec": {
   "name": "python3",
   "display_name": "Python 3.8.11 64-bit ('pytorch': conda)"
  },
  "interpreter": {
   "hash": "af407973ba12897262deda9d8992946cc1a9873fff2de40f1acc89cdf9010052"
  }
 },
 "nbformat": 4,
 "nbformat_minor": 2
}