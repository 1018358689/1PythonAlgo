{
 "cells": [
  {
   "cell_type": "markdown",
   "metadata": {},
   "source": [
    "#  第5章 python正则表达式\n",
    "正则表达式是一个特殊的字符序列，它能帮助你方便的检查一个字符串是否与某种模式匹配。 Python 自1.5版本起增加了re 模块，它提供 Perl 风格的正则表达式模式。\n",
    "   就其本质而言，正则表达式（或 RE）是一种小型的、高度专业化的编程语言， （在Python中）它内嵌在Python中，并通过 re 模块实现。正则表达式模式被 编译成一系列的字节码，然后由用 C 编写的匹配引擎执行。\n",
    "   re 模块使 Python 语言拥有全部的正则表达式功能。 compile 函数根据一个模式字符串和可选的标志参数生成一个正则表达式对象。该对象拥有一系列方法用于正则表达式匹配和替换。 re 模块也提供了与这些方法功能完全一致的函数，这些函数使用一个模式字符串做为它们的第一个参数。"
   ]
  },
  {
   "cell_type": "markdown",
   "metadata": {},
   "source": [
    "本文主要从以下方面来介绍Python正则表达式的使用：\n",
    "\n",
    "一、 基本规则\n",
    "* 功能字符\n",
    "* 规则分解符\n",
    "* 预定义转义字符集\n",
    "* 及其他功能字符的介绍\n",
    "\n",
    "二、 组的用法\n",
    "* 无命名组\n",
    "* 命名组\n",
    "\n",
    "三. 基本函数\n",
    "\n",
    "findall/compile/match、search/finditer/sub、subn/split"
   ]
  },
  {
   "cell_type": "markdown",
   "metadata": {},
   "source": [
    "## 1. 基本规则"
   ]
  },
  {
   "cell_type": "markdown",
   "metadata": {},
   "source": [
    "#### 1.1 功能字符\n",
    "'.'、 '*' 、'+'、 '|'、 '?' 、'^' 、'$' 、'\\'等，它们有特殊的功能含义。特别是'\\'字符，它是转义引导符号，跟在它后面的字符一般有特殊的含义。"
   ]
  },
  {
   "cell_type": "code",
   "execution_count": 2,
   "metadata": {},
   "outputs": [
    {
     "name": "stdout",
     "output_type": "stream",
     "text": [
      "['123', '456', '789']\n",
      "['123\\n456\\n789']\n"
     ]
    }
   ],
   "source": [
    "\"\"\" . 匹配所有字符 \"\"\"\n",
    "# 匹配除换行符'\\n'外的所有字符\n",
    "\n",
    "import re\n",
    "s = '123\\n456\\n789'\n",
    "print(re.findall(r'.+',s))\n",
    "print(re.findall(r'.+',s,re.S)) # 如果使用'S'选项，匹配包括'\\n'的所有字符"
   ]
  },
  {
   "cell_type": "code",
   "execution_count": 13,
   "metadata": {},
   "outputs": [
    {
     "name": "stdout",
     "output_type": "stream",
     "text": [
      "['12', '56', '100']\n",
      "['12']\n",
      "['34', '78', '100']\n",
      "['100']\n"
     ]
    }
   ],
   "source": [
    "\"\"\" ^ 匹配字符串的开头 \"\"\"\n",
    "\"\"\" $ 匹配字符串的末尾 \"\"\"\n",
    "s = '12 34\\n56 78\\n100'\n",
    "print(re.findall(r'^\\d+',s,re.M)) # 匹配位于行首的数字\n",
    "print(re.findall(r'\\A\\d+',s,re.M)) # 匹配位于字符串开头的数字\n",
    "print(re.findall(r'\\d+$',s,re.M)) # 匹配位于行尾的数字\n",
    "print(re.findall(r'\\d+\\Z',s,re.M)) # 匹配位于字符串尾的数字"
   ]
  },
  {
   "cell_type": "code",
   "execution_count": 3,
   "metadata": {},
   "outputs": [
    {
     "name": "stdout",
     "output_type": "stream",
     "text": [
      "['I have a dog', 'I have a cat']\n",
      "['I have a dog', 'cat']\n"
     ]
    }
   ],
   "source": [
    "\"\"\" | \"\"\"\n",
    "# 将两个规则并列起来，以‘ | ’连接，表示只要满足其中之一就可以匹配。\n",
    "# 比如[a-zA-Z]|[0-9] 表示满足数字或字母就可以匹配，这个规则等价于 [a-zA-Z0-9]\n",
    "# 不过使用的时候需要注意两点：\n",
    "# 1、它在 ’[‘ ‘]’ 之中不再表示或，而表示他本身的字符。如果要在 ’[‘ ‘]’ 外面表示一个 ’|’ 字符，必须用反斜杠引导，即 ’/|’ ;\n",
    "# 2、它的有效范围是它两边的整条规则，比如‘ dog|cat’ 匹配的是‘ dog’ 和 ’cat’ ，而不是 ’g’ 和 ’c’ 。如果想限定它的有效范围，必需使用一个无捕获组 ‘(?: )’ 包起来。\n",
    "\n",
    "# [a-zA-Z]|[0-9] 表示满足数字或字母就可以匹配，这个规则等价于 [a-zA-Z0-9]\n",
    "s = 'I have a dog, I have a cat'\n",
    "print(re.findall(r'I have a (?:dog|cat)',s))\n",
    "print(re.findall(r'I have a dog|cat',s))"
   ]
  },
  {
   "cell_type": "code",
   "execution_count": 4,
   "metadata": {},
   "outputs": [
    {
     "name": "stdout",
     "output_type": "stream",
     "text": [
      "['aaa', 'bbb111']\n"
     ]
    }
   ],
   "source": [
    "\"\"\" * 表示匹配前面的规则0次或多次 \"\"\"\n",
    "\"\"\" + 表示匹配前面的规则1次或多次\"\"\"\n",
    "s = 'aaa bbb111 cc22cc 33dd'\n",
    "print(re.findall(r'\\b[a-z]+\\d*\\b',s))"
   ]
  },
  {
   "cell_type": "code",
   "execution_count": 6,
   "metadata": {},
   "outputs": [
    {
     "data": {
      "text/plain": [
       "['123', '10e3']"
      ]
     },
     "execution_count": 6,
     "metadata": {},
     "output_type": "execute_result"
    }
   ],
   "source": [
    "\"\"\" ? 只匹配前面的规则0次或1次 \"\"\"\n",
    "s = '123 10e3 20e4e4 30ee5'\n",
    "re.findall(r'\\b\\d+[e]?\\d+\\b',s)"
   ]
  },
  {
   "cell_type": "code",
   "execution_count": 6,
   "metadata": {},
   "outputs": [
    {
     "name": "stdout",
     "output_type": "stream",
     "text": [
      "['/*part 1*/code/*part 2*/']\n",
      "['/*part 1*/', '/*part 2*/']\n"
     ]
    }
   ],
   "source": [
    "#'*'、'+'、'?'通常都是尽可能多的匹配字符。\n",
    "s = r'/*part 1*/code/*part 2*/'\n",
    "print(re.findall(r'//*.*/*/',s))\n",
    "# 如果在*后面加上?，则尽可能少的匹配\n",
    "# '*?'、'+?'、'??'最小匹配\n",
    "print(re.findall(r'//*.*?/*/',s))"
   ]
  },
  {
   "cell_type": "markdown",
   "metadata": {},
   "source": [
    "#### 1.2规则分解符\n",
    "'[ ]'、'( )'、'{ }'等"
   ]
  },
  {
   "cell_type": "code",
   "execution_count": 10,
   "metadata": {},
   "outputs": [
    {
     "name": "stdout",
     "output_type": "stream",
     "text": [
      "['hello', 'o', 'l']\n",
      "[' w', 'r', 'd']\n"
     ]
    }
   ],
   "source": [
    "\"\"\"[  ]的使用\"\"\"\n",
    "# [...] 用来表示一组字符，单独列出:[amk]匹配'a','m','k'\n",
    "# [^...]匹配不在[]中的字符：[^abc]匹配除了a,b,c之外的字符\n",
    "\n",
    "s = 'hello world'\n",
    "print(re.findall(r'[helo]+',s))\n",
    "print(re.findall(r'[^helo]+',s))"
   ]
  },
  {
   "cell_type": "code",
   "execution_count": 7,
   "metadata": {},
   "outputs": [
    {
     "name": "stdout",
     "output_type": "stream",
     "text": [
      "['333']\n",
      "['22', '333', '4444']\n",
      "['55555', '666666']\n",
      "['1', '22', '333', '4444']\n"
     ]
    }
   ],
   "source": [
    "\"\"\"精确匹配和最小匹配\"\"\"\n",
    "# '{m}'精确匹配m次\n",
    "# '{m,n}'匹配最少m次，最多n次 (n>m)\n",
    "s = '1 22 333 4444 55555 666666'\n",
    "print(re.findall(r'\\b\\d{3}\\b',s)) # 匹配3位数\n",
    "print(re.findall(r'\\b\\d{2,4}\\b',s)) # 匹配2位数到4位数\n",
    "print(re.findall(r'\\b\\d{5,}\\b',s)) # 匹配5位数以上的数\n",
    "print(re.findall(r'\\b\\d{1,4}\\b',s)) # 匹配4位数以下的数"
   ]
  },
  {
   "cell_type": "code",
   "execution_count": 8,
   "metadata": {},
   "outputs": [
    {
     "name": "stdout",
     "output_type": "stream",
     "text": [
      "['111']\n"
     ]
    }
   ],
   "source": [
    "\"\"\"前向界定与后向界定\"\"\"\n",
    "# '(?<=...)'前向界定\n",
    "# 括号中'...'代表你希望匹配的字符串的前面应该出现的字符串\n",
    "# '(?=...)'后向界定\n",
    "# 括号中的'...'代表你希望匹配的字符串后面应该出现的字符串\n",
    "s = r'aaa111aaa,bbb222,333ccc'\n",
    "print(re.findall(r'(?<=aaa)\\d+(?=[a-z]+)',s))"
   ]
  },
  {
   "cell_type": "code",
   "execution_count": 19,
   "metadata": {
    "collapsed": true
   },
   "outputs": [],
   "source": [
    "# 注意：在前向界定括号中的表达式必须是常值，也就是不可以在前向界定的括号里写正则式"
   ]
  },
  {
   "cell_type": "code",
   "execution_count": 9,
   "metadata": {},
   "outputs": [
    {
     "name": "stdout",
     "output_type": "stream",
     "text": [
      "['222']\n"
     ]
    }
   ],
   "source": [
    "\"\"\"前向非界定与后向非界定\"\"\"\n",
    "# '(?<!...)'前向非界定\n",
    "# 只有当你希望的字符串前面不是'...'的内容时才匹配\n",
    "# '(?!...)'后向非界定\n",
    "# 只有当你希望的字符串后面不是'...'时才匹配\n",
    "print(re.findall(r'\\d+(?!\\w+)',s))"
   ]
  },
  {
   "attachments": {
    "image.png": {
     "image/png": "[encoded data removed]"
    }
   },
   "cell_type": "markdown",
   "metadata": {},
   "source": [
    "#### 1.3 预定义转义字符集\n",
    "\"\\d\"、\"\\w\"、\"\\s\"等等，它们是以字符'\\'开头，后面接一个特定字符的形式，用来指示一个预定好的含义。\n",
    "![image.png](attachment:image.png)"
   ]
  },
  {
   "cell_type": "code",
   "execution_count": 15,
   "metadata": {},
   "outputs": [
    {
     "data": {
      "text/plain": [
       "['aa', '_12a']"
      ]
     },
     "execution_count": 15,
     "metadata": {},
     "output_type": "execute_result"
    }
   ],
   "source": [
    "\"\"\"\\w 匹配任何字母数字及下划线\"\"\"\n",
    "re.findall('\\w+','aa._12a$$')"
   ]
  },
  {
   "cell_type": "code",
   "execution_count": 16,
   "metadata": {},
   "outputs": [
    {
     "data": {
      "text/plain": [
       "['.', '$$']"
      ]
     },
     "execution_count": 16,
     "metadata": {},
     "output_type": "execute_result"
    }
   ],
   "source": [
    "\"\"\"\\W 匹配任意非字母数字字符\"\"\"\n",
    "re.findall('\\W+','aa._12a$$')"
   ]
  },
  {
   "cell_type": "code",
   "execution_count": 13,
   "metadata": {},
   "outputs": [
    {
     "data": {
      "text/plain": [
       "[' ']"
      ]
     },
     "execution_count": 13,
     "metadata": {},
     "output_type": "execute_result"
    }
   ],
   "source": [
    "\"\"\"\\s 匹配任意空白字符\"\"\"\n",
    "re.findall('\\s','aa bbb123.')"
   ]
  },
  {
   "cell_type": "code",
   "execution_count": 14,
   "metadata": {},
   "outputs": [
    {
     "data": {
      "text/plain": [
       "['aa', 'bbb123.']"
      ]
     },
     "execution_count": 14,
     "metadata": {},
     "output_type": "execute_result"
    }
   ],
   "source": [
    "\"\"\"\\S 匹配任意非空字符\"\"\"\n",
    "re.findall('\\S+','aa bbb123.')"
   ]
  },
  {
   "cell_type": "code",
   "execution_count": 11,
   "metadata": {},
   "outputs": [
    {
     "name": "stdout",
     "output_type": "stream",
     "text": [
      "['1', '1', '1', '2', '2', '2', '4']\n",
      "['aaazz1112224']\n"
     ]
    }
   ],
   "source": [
    "\"\"\"\\d 匹配任何数字; 相当于[0-9]\"\"\"\n",
    "print(re.findall('\\d','aaazz1112224ccc'))\n",
    "print(re.findall('\\w+\\d+','aaazz1112224ccc'))"
   ]
  },
  {
   "cell_type": "code",
   "execution_count": 12,
   "metadata": {},
   "outputs": [
    {
     "data": {
      "text/plain": [
       "['aa', 'bbb']"
      ]
     },
     "execution_count": 12,
     "metadata": {},
     "output_type": "execute_result"
    }
   ],
   "source": [
    "\"\"\"\\D 匹配任意非数字  相当于[^0-9]\"\"\"\n",
    "re.findall('\\D+','aa111bbb')"
   ]
  },
  {
   "cell_type": "code",
   "execution_count": 22,
   "metadata": {},
   "outputs": [
    {
     "name": "stdout",
     "output_type": "stream",
     "text": [
      "['12']\n",
      "['100']\n",
      "['12', '56', '100']\n",
      "['34', '78', '100']\n"
     ]
    }
   ],
   "source": [
    "\"\"\"\\A 匹配字符串开头\"\"\"\n",
    "s = '12 34\\n56 78\\n100'\n",
    "print(re.findall(r'\\A\\d+',s,re.M))  # 匹配位于字符串开头的数字\n",
    "\"\"\"\\Z 匹配字符串结尾\"\"\"\n",
    "print(re.findall(r'\\d+\\Z',s,re.M))  # 匹配位于字符串结尾的数字\n",
    "# 与^、$比较\n",
    "print(re.findall(r'^\\d+',s,re.M))  # 匹配位于行首的数字\n",
    "print(re.findall(r'\\d+$',s,re.M))  # 匹配位于行尾的数字"
   ]
  },
  {
   "cell_type": "code",
   "execution_count": 24,
   "metadata": {},
   "outputs": [
    {
     "name": "stdout",
     "output_type": "stream",
     "text": [
      "['bc']\n",
      "['bcde']\n"
     ]
    }
   ],
   "source": [
    "\"\"\"\\b 匹配单词边界\"\"\"\n",
    "s = 'abc abcde bc bcd'\n",
    "print(re.findall(r'\\bbc\\b',s))  # 匹配一个单独的单词'bc'\n",
    "\"\"\"\\B 匹配非单词边界\"\"\"\n",
    "print(re.findall(r'\\Bbc\\w+',s)) # 匹配了'abcde'中的'bcde'"
   ]
  },
  {
   "cell_type": "markdown",
   "metadata": {},
   "source": [
    "#### 1.4 其他功能字符\n",
    "'#'、'!'、':'、'-'等，它们只在特定的情况下表示特殊的含义，比如(?#...)就表示一个注释，里面的内容会被忽略。"
   ]
  },
  {
   "cell_type": "code",
   "execution_count": 26,
   "metadata": {},
   "outputs": [
    {
     "name": "stdout",
     "output_type": "stream",
     "text": [
      "['ababab']\n"
     ]
    }
   ],
   "source": [
    "\"\"\"无捕获组\"\"\"\n",
    "# '(?:)'无捕获组\n",
    "s = 'ababab abbabb aabaab'\n",
    "print(re.findall(r'\\b(?:ab)+\\b',s)) # 匹配字符中重复的'ab'"
   ]
  },
  {
   "cell_type": "code",
   "execution_count": 27,
   "metadata": {},
   "outputs": [
    {
     "data": {
      "text/plain": [
       "['112']"
      ]
     },
     "execution_count": 27,
     "metadata": {},
     "output_type": "execute_result"
    }
   ],
   "source": [
    "\"\"\"注释\"\"\"\n",
    "re.findall(r'\\d+(?#匹配数字)','aa112bb')"
   ]
  },
  {
   "cell_type": "markdown",
   "metadata": {},
   "source": [
    "## 2. 组的用法"
   ]
  },
  {
   "cell_type": "markdown",
   "metadata": {},
   "source": [
    "#### 2.1 无命名组\n",
    "最基本的组，由一对圆括号括起来的正则式。"
   ]
  },
  {
   "cell_type": "code",
   "execution_count": 23,
   "metadata": {},
   "outputs": [
    {
     "name": "stdout",
     "output_type": "stream",
     "text": [
      "['aaa111aaa']\n",
      "['111']\n"
     ]
    }
   ],
   "source": [
    "# '('')'无命名组\n",
    "# 下面以匹配包夹在字母中间的数字为例\n",
    "s = 'aaa111aaa,bbb222,333ccc'\n",
    "print(re.findall(r'[a-z]+\\d+[a-z]+',s))\n",
    "print(re.findall(r'[a-z]+(\\d+)[a-z]+',s))\n",
    "# 可以看到findall函数只返回了包含在'()'中的内容"
   ]
  },
  {
   "cell_type": "markdown",
   "metadata": {},
   "source": [
    "#### 2.2 命名组\n",
    "命名组形式为：'(?P< name >...)'"
   ]
  },
  {
   "cell_type": "markdown",
   "metadata": {},
   "source": [
    "'(?P’ 代表这是一个 Python 的语法扩展, ’<…>’ 里面是你给这个组起的名字，比如你可以给一个全部由数字组成的组叫做 ’num’ ，它的形式就是 ’(?P<num>/d+)’。\n",
    "起了名字之后，我们就可以在后面的正则式中通过名字调用这个组，它的形式如下：\n",
    "'(?P=name)'调用已匹配的命名组"
   ]
  },
  {
   "cell_type": "code",
   "execution_count": 28,
   "metadata": {},
   "outputs": [
    {
     "name": "stdout",
     "output_type": "stream",
     "text": [
      "[('aaa', 'aaa'), ('fff', 'ggg')]\n",
      "['aaa']\n"
     ]
    }
   ],
   "source": [
    "s = 'aaa111aaa,bbb222,333ccc,444ddd444,555eee666,fff777ggg'\n",
    "print(re.findall(r'([a-z]+)\\d+([a-z]+)',s)) # 找出中间夹有数字的字母\n",
    "print(re.findall(r'(?P<g1>[a-z]+)\\d+(?P=g1)',s)) # 找出被中间夹有数字的前后同样的字母\n",
    "\n",
    "# 从上面的例子看出，调用已被匹配的组是已被匹配的组，也就是说它里面的内容是和前面命名组里的内容是一样的"
   ]
  },
  {
   "cell_type": "markdown",
   "metadata": {},
   "source": [
    "'\\number' 通过序号调用已匹配的组"
   ]
  },
  {
   "cell_type": "code",
   "execution_count": 29,
   "metadata": {},
   "outputs": [
    {
     "data": {
      "text/plain": [
       "['aaa']"
      ]
     },
     "execution_count": 29,
     "metadata": {},
     "output_type": "execute_result"
    }
   ],
   "source": [
    "# 正则式中的每个组都有一个序号，序号是按组从左到右，从1开始的数字\n",
    "# 可以通过下面形式来调用已匹配的组\n",
    "re.findall(r'([a-z]+)\\d+\\1',s)"
   ]
  },
  {
   "cell_type": "markdown",
   "metadata": {},
   "source": [
    "'(?(id/name)yes-pattern|no-pattern)'判断指定组是否已匹配，执行相应的规则"
   ]
  },
  {
   "cell_type": "code",
   "execution_count": 30,
   "metadata": {},
   "outputs": [
    {
     "data": {
      "text/plain": [
       "[('<', 'usr1@mail1'), ('', 'usr2@mail2')]"
      ]
     },
     "execution_count": 30,
     "metadata": {},
     "output_type": "execute_result"
    }
   ],
   "source": [
    "# 如果id/name指定的组在前面匹配成功了，则执行yes-pattern的正则式，否则执行no-pattern的正则式\n",
    "# 比如要匹配一些形如usr@mail的邮箱地址，不过有的写出<usr@mail>，要匹配这两种情况，可以这样写\n",
    "s = '<usr1@mail1> usr2@mail2'\n",
    "re.findall(r'(<)?\\s*(\\w+@\\w+)\\s*(?(1)>)',s)"
   ]
  },
  {
   "cell_type": "markdown",
   "metadata": {},
   "source": [
    "## 3. 基本函数"
   ]
  },
  {
   "cell_type": "markdown",
   "metadata": {},
   "source": [
    "### 3.1 findall\n",
    "findall就是在目标字符串中查找符合规则的字符串。\n",
    "#### findall(rule,target[,flag])\n",
    "- 第一个参数是规则，第二个参数是目标字符串，后面还可以跟一个规则选项。\n",
    "- 返回的结果是一个列表，中间存放的是符合规则的字符串。如果没有符合规则的字符串被找到，就返回一个空列表。"
   ]
  },
  {
   "cell_type": "code",
   "execution_count": 31,
   "metadata": {},
   "outputs": [
    {
     "data": {
      "text/plain": [
       "['Python', 'Python']"
      ]
     },
     "execution_count": 31,
     "metadata": {},
     "output_type": "execute_result"
    }
   ],
   "source": [
    "s = '123Python456Python789'\n",
    "re.findall(r'Python',s)"
   ]
  },
  {
   "cell_type": "markdown",
   "metadata": {},
   "source": [
    "### 3.2 compile\n",
    "compile 函数根据一个模式字符串和可选的标志参数生成一个正则表达式对象。该对象拥有一系列方法用于正则表达式匹配和替换。"
   ]
  },
  {
   "cell_type": "code",
   "execution_count": 37,
   "metadata": {},
   "outputs": [
    {
     "data": {
      "text/plain": [
       "['111', '222']"
      ]
     },
     "execution_count": 37,
     "metadata": {},
     "output_type": "execute_result"
    }
   ],
   "source": [
    "# 如果要多次使用统一规则来进行匹配的话，可以使用re.compile函数来将规则预编译\n",
    "# compile(rule[,flag)\n",
    "# 将正则规则编译成一个Pattern对象。\n",
    "# 第一个参数是规则式，第二个选项为规则选项\n",
    "# 返回一个Pattern对象\n",
    "s = '111,222,aaa,bbb,ccc333,444ddd'\n",
    "rule = r'\\b\\d+\\b'\n",
    "compile_rule = re.compile(rule)\n",
    "compile_rule.findall(s)"
   ]
  },
  {
   "attachments": {
    "image.png": {
     "image/png": "[encoded data removed]"
    }
   },
   "cell_type": "markdown",
   "metadata": {},
   "source": [
    "compile函数还可以指定一些规则标志，来指定一些特殊选项。多个选项之间用‘|’连接起来,具体规则标志如下：\n",
    "![image.png](attachment:image.png)"
   ]
  },
  {
   "cell_type": "code",
   "execution_count": 39,
   "metadata": {},
   "outputs": [
    {
     "name": "stdout",
     "output_type": "stream",
     "text": [
      "['123']\n",
      "['123', '789', '888']\n",
      "['233']\n",
      "['456', '666', '233']\n"
     ]
    }
   ],
   "source": [
    "s = '123 456\\n789 666\\n888 233'\n",
    "rc = re.compile(r'^\\d+') # 匹配一个位于开头的数字，没有使用M选项\n",
    "print(rc.findall(s))\n",
    "rcm = re.compile(r'^\\d+',re.M) # 使用M选项\n",
    "print(rcm.findall(s))\n",
    "\n",
    "rc = re.compile(r'\\d+$')\n",
    "print(rc.findall(s))\n",
    "rcm = re.compile(r'\\d+$',re.M)\n",
    "print(rcm.findall(s))"
   ]
  },
  {
   "cell_type": "markdown",
   "metadata": {},
   "source": [
    "对于compile函数编译生成的Pattern对象，它同样有findall,match,search,finditer,sub,subn,split这些函数，不过这几个函数的参数有所变化（可以指定查找开始位置和结束位置），具体变化如下：\n",
    "- findall(targetString[,startPos[,endPos]])\n",
    "- finditer(targetString[,startPos[,endPos]])\n",
    "- match(targetString[,startPos[,endPos]])\n",
    "- search(targetString[,startPos[,endPos]])"
   ]
  },
  {
   "cell_type": "markdown",
   "metadata": {},
   "source": [
    "除了有和re模块的函数同样的函数外，Pattern对象还多了以下属性：\n",
    "- flags 查询编译时的选项\n",
    "- pattern 查询编译时的规则\n",
    "- groupindex 规则里的组"
   ]
  },
  {
   "cell_type": "code",
   "execution_count": 65,
   "metadata": {},
   "outputs": [
    {
     "name": "stdout",
     "output_type": "stream",
     "text": [
      "34\n",
      "(?P<word>/b[a-z]+/b)|(?P<num>/b/d+/b)|(?P<id>/b[a-z_]+/w*/b)\n",
      "{'word': 1, 'num': 2, 'id': 3}\n"
     ]
    }
   ],
   "source": [
    "p = re.compile(r'(?P<word>/b[a-z]+/b)|(?P<num>/b/d+/b)|(?P<id>/b[a-z_]+/w*/b)',re.I)\n",
    "print(p.flags)  # re.I对应为34\n",
    "print(p.pattern) # 查看规则\n",
    "print(p.groupindex)  # 以字典形式返回每个组名和组的序号"
   ]
  },
  {
   "cell_type": "markdown",
   "metadata": {},
   "source": [
    "### 3.3 match与search\n",
    "match函数的作用是尝试从字符串string的起始位置开始匹配一个模式pattern，如果匹配成功返回一个匹配成功后的Match对象，否则返回None。\n",
    "search函数扫描整个字符串并返回第一次成功的匹配对象，如果匹配失败，则返回None。\n",
    "- match(rule,targetString[,flag])\n",
    "- search(rule,targetString[,flag])"
   ]
  },
  {
   "cell_type": "markdown",
   "metadata": {},
   "source": [
    "第一个参数是正则规则，第二个是目标字符串，第三个是选项。若匹配成功则返回一个MAtch对象，失败无返回"
   ]
  },
  {
   "cell_type": "code",
   "execution_count": 73,
   "metadata": {},
   "outputs": [
    {
     "name": "stdout",
     "output_type": "stream",
     "text": [
      "<_sre.SRE_Match object; span=(0, 3), match='www'>\n",
      "None\n",
      "<_sre.SRE_Match object; span=(0, 3), match='www'>\n",
      "<_sre.SRE_Match object; span=(11, 14), match='com'>\n",
      "Cats are smarter than dogs\n",
      "Cats\n",
      "smarter\n"
     ]
    }
   ],
   "source": [
    "# match与search唯一的区别是：\n",
    "# match从字符串的开头开始匹配，如果开头位置没有匹配成功，则匹配失败\n",
    "# 而search匹配整个字符串，直到找到一个匹配。\n",
    "\n",
    "s = 'www.abcdef.com'\n",
    "print(re.match('www',s)) # 在起始位置匹配\n",
    "print(re.match('com',s))  # 不在起始位置匹配\n",
    "\n",
    "print(re.search('www',s)) # 在起始位置匹配\n",
    "print(re.search('com',s)) # 不在起始位置匹配\n",
    "\n",
    "# 注意,如果匹配不成功，它们则返回一个NoneType。所以在对匹配完的结果进行操作之前，需要先判断一下是否匹配成功了\n",
    "\n",
    "lines = 'Cats are smarter than dogs'\n",
    "matchObj = re.match(r'(.*) are (.*?) .*',lines, re.M|re.I)\n",
    "if matchObj:\n",
    "    print(matchObj.group())\n",
    "    print(matchObj.group(1))\n",
    "    print(matchObj.group(2))\n",
    "else:\n",
    "    print(\"No match!\")"
   ]
  },
  {
   "cell_type": "code",
   "execution_count": 3,
   "metadata": {},
   "outputs": [
    {
     "name": "stdout",
     "output_type": "stream",
     "text": [
      "('Tom', '24', '66666')\n",
      "Tom\n",
      "Tom\n",
      "Tom 24 66666 <=\n",
      "Tom 24 66666 <=\n"
     ]
    }
   ],
   "source": [
    "# 组的名字与序号\n",
    "# 正则式中的每个组都有一个序号，它是按定义时从左到右的顺序从 1 开始编号的。其实， re 的正则式还有一个 0 号组，它就是整个正则式本身。\n",
    "s = 'Tom 24 66666 <='\n",
    "p = re.compile( r'(?P<name>[a-z]+)\\s+(?P<age>\\d+)\\s+(?P<tel>\\d+).*' , re.I )\n",
    "m = p.search(s)\n",
    "print(m.groups()) # 查看匹配的各组的情况\n",
    "print(m.group('name')) # 使用组名获取匹配的字符串\n",
    "print(m.group(1)) # 使用组序号获取匹配的字符串，同使用组名的效果一样\n",
    "print(m.group(0)) # 等同于m.group()\n",
    "print(m.group())"
   ]
  },
  {
   "cell_type": "markdown",
   "metadata": {},
   "source": [
    "Match对象的方法\n",
    "- group([index|id])：获取匹配的组，缺省返回组0，也就是全部值\n",
    "- groups()：返回全部的组\n",
    "- groupdict()：返回以组名为key，匹配的内容为values的字典"
   ]
  },
  {
   "cell_type": "code",
   "execution_count": 4,
   "metadata": {},
   "outputs": [
    {
     "name": "stdout",
     "output_type": "stream",
     "text": [
      "{'name': 'Tom', 'age': '24', 'tel': '66666'}\n",
      "0\n",
      "3\n",
      "(0, 3)\n",
      "name is Tom,age is 24,tel is 66666\n"
     ]
    }
   ],
   "source": [
    "print(m.groupdict())  # 查看匹配的内容\n",
    "\n",
    "# start([group]) 获取匹配的组的开始位置\n",
    "# end([group]) 获取匹配的组的结束位置\n",
    "# span([group]) 获取匹配的组的（开始，结束）位置\n",
    "\n",
    "print(m.start('name'))\n",
    "print(m.end('name'))\n",
    "print(m.span('name'))\n",
    "\n",
    "# expand(template) 根据一个模板用找到的内容替换模板里的相应位置\n",
    "print(m.expand(r'name is \\g<1>,age is \\g<age>,tel is \\3'))"
   ]
  },
  {
   "cell_type": "markdown",
   "metadata": {},
   "source": [
    "Match除了以上这些函数外，Match对象还有这些属性\n",
    "- pos 搜索开始的位置参数\n",
    "- endpos 搜索结束的位置参数\n",
    "- lastindex 最后匹配的组的序号\n",
    "- lastgroup 最后匹配的组名"
   ]
  },
  {
   "cell_type": "code",
   "execution_count": 5,
   "metadata": {},
   "outputs": [
    {
     "name": "stdout",
     "output_type": "stream",
     "text": [
      "0\n",
      "15\n",
      "3\n",
      "tel\n"
     ]
    }
   ],
   "source": [
    "print(m.pos)  # 查看开始位置参数\n",
    "print(m.endpos)  # 查询搜索结束的位置参数\n",
    "print(m.lastindex) # 最后匹配的组的序号\n",
    "print(m.lastgroup) # 最后匹配的组名"
   ]
  },
  {
   "cell_type": "markdown",
   "metadata": {},
   "source": [
    "### 3.4 finditer\n",
    "finditer函数跟findall函数类似，但返回的是一个迭代器， 而不是一个像findall函数那样的存有所有结果的list。\n",
    "- finditer(rule,target[,flag])"
   ]
  },
  {
   "cell_type": "markdown",
   "metadata": {},
   "source": [
    "finditer函数和findall函数的区别：\n",
    "- findall返回所有匹配的字符串，并存在一个列表中\n",
    "- finditer则并不直接返回这些字符串，而是返回一个迭代器"
   ]
  },
  {
   "cell_type": "code",
   "execution_count": 45,
   "metadata": {},
   "outputs": [
    {
     "name": "stdout",
     "output_type": "stream",
     "text": [
      "111 (0, 3)\n",
      "222 (4, 7)\n",
      "333 (8, 11)\n",
      "444 (12, 15)\n"
     ]
    }
   ],
   "source": [
    "s = '111 222 333 444'\n",
    "for i in re.finditer(r'\\d+',s):\n",
    "    print(i.group(),i.span())  # 打印每次得到的字符串和起始结束位置"
   ]
  },
  {
   "cell_type": "markdown",
   "metadata": {},
   "source": [
    "### 3.5 sub 与 subn\n",
    "re模块还提供了对字符串的替换和修改函数。sub和subn函数都用于替换字符串中的匹配项。\n",
    "- sub(rule,replace,target[,count])\n",
    "- subn(rule,replace,target[,count])"
   ]
  },
  {
   "cell_type": "markdown",
   "metadata": {},
   "source": [
    "第一个参数为正则规则，第二个参数指定用来替换的字符串，第三个参数是目标字符串，第四个参数是最多替换次数"
   ]
  },
  {
   "cell_type": "markdown",
   "metadata": {},
   "source": [
    "sub和subn的区别：\n",
    "- sub返回一个被替换的字符串\n",
    "- subn返回一个元组，第一个元素是被替换的字符串，第二个元素是一个数字，表明产生了多少次替换"
   ]
  },
  {
   "cell_type": "code",
   "execution_count": 51,
   "metadata": {},
   "outputs": [
    {
     "name": "stdout",
     "output_type": "stream",
     "text": [
      "Python c Python c++ Python\n",
      "Python c Python c++ java\n",
      "('Python c Python c++ Python', 3)\n"
     ]
    }
   ],
   "source": [
    "s = 'java c java c++ java'\n",
    "print(re.sub(r'java','Python',s)) # 将所有java替换成Python\n",
    "print(re.sub(r'java','Python',s,2)) # 只替换前两个\n",
    "print(re.subn(r'java','Python',s)) # 可以查看发生了多少次替换"
   ]
  },
  {
   "cell_type": "markdown",
   "metadata": {},
   "source": [
    "### 3.6 split\n",
    "split方法能够将字符串分割后返回列表。split为切片函数，使用指定的正则规则在目标字符串中查找匹配的字符串，用它们作为分界，把字符串切片。"
   ]
  },
  {
   "cell_type": "markdown",
   "metadata": {},
   "source": [
    "split(rule,target[,maxsplit])\n",
    "- 第一个参数是正则规则，第二个参数是目标字符串，第三个参数是最多切片次数\n",
    "- 返回一个被切完的子字符串的列表"
   ]
  },
  {
   "cell_type": "code",
   "execution_count": 53,
   "metadata": {},
   "outputs": [
    {
     "data": {
      "text/plain": [
       "['aaa', 'bbb', 'ccc']"
      ]
     },
     "execution_count": 53,
     "metadata": {},
     "output_type": "execute_result"
    }
   ],
   "source": [
    "s = 'aaa , bbb , ccc'\n",
    "re.split(r'\\s*,\\s*',s)  # 以','分隔开，同时去掉逗号前后的空格"
   ]
  },
  {
   "cell_type": "code",
   "execution_count": null,
   "metadata": {
    "collapsed": true
   },
   "outputs": [],
   "source": []
  }
 ],
 "metadata": {
  "kernelspec": {
   "display_name": "Python 3",
   "language": "python",
   "name": "python3"
  },
  "language_info": {
   "codemirror_mode": {
    "name": "ipython",
    "version": 3
   },
   "file_extension": ".py",
   "mimetype": "text/x-python",
   "name": "python",
   "nbconvert_exporter": "python",
   "pygments_lexer": "ipython3",
   "version": "3.6.1"
  },
  "varInspector": {
   "cols": {
    "lenName": 16,
    "lenType": 16,
    "lenVar": 40
   },
   "kernels_config": {
    "python": {
     "delete_cmd_postfix": "",
     "delete_cmd_prefix": "del ",
     "library": "var_list.py",
     "varRefreshCmd": "print(var_dic_list())"
    },
    "r": {
     "delete_cmd_postfix": ") ",
     "delete_cmd_prefix": "rm(",
     "library": "var_list.r",
     "varRefreshCmd": "cat(var_dic_list()) "
    }
   },
   "types_to_exclude": [
    "module",
    "function",
    "builtin_function_or_method",
    "instance",
    "_Feature"
   ],
   "window_display": false
  }
 },
 "nbformat": 4,
 "nbformat_minor": 2
}
