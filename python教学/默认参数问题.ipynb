{
 "cells": [
  {
   "cell_type": "code",
   "execution_count": 12,
   "metadata": {},
   "outputs": [],
   "source": [
    "# https://blog.csdn.net/sinat_38682860/article/details/103123489?ops_request_misc=&request_id=&biz_id=102&utm_term=%E9%BB%98%E8%AE%A4%E5%8F%82%E6%95%B0%E4%B8%8D%E4%BC%9A%E5%9C%A8%E6%AF%8F%E6%AC%A1%E8%B0%83%E7%94%A8&utm_medium=distribute.pc_search_result.none-task-blog-2~blog~sobaiduweb~default-3-103123489.pc_v2_rank_blog_default&spm=1018.2226.3001.4450"
   ]
  },
  {
   "cell_type": "markdown",
   "metadata": {},
   "source": [
    "默认参数如果是可变数据类型(列表、字典、集合),如果没有显性传参，那么这个默认参数是共享的。比如向默认参数append内容，那么他会在第二次调用函数体现"
   ]
  },
  {
   "cell_type": "code",
   "execution_count": 13,
   "metadata": {},
   "outputs": [
    {
     "name": "stdout",
     "output_type": "stream",
     "text": [
      "address of a_list: 2418032941824\n",
      "['1']\n",
      "address of a_list: 2418032941824\n",
      "['1', '2']\n"
     ]
    }
   ],
   "source": [
    "def bad_append(new_item, a_list=[]):\n",
    "    print('address of a_list:', id(a_list))\n",
    "    a_list.append(new_item)\n",
    "    return a_list\n",
    "\n",
    "\n",
    "print(bad_append('1'))\n",
    "print(bad_append('2'))"
   ]
  },
  {
   "cell_type": "code",
   "execution_count": 14,
   "metadata": {},
   "outputs": [
    {
     "name": "stdout",
     "output_type": "stream",
     "text": [
      "befor address of a_list: 140727400044672\n",
      "address of a_list: 2418044152384\n",
      "['1']\n",
      "befor address of a_list: 140727400044672\n",
      "address of a_list: 2418033211328\n",
      "['2']\n"
     ]
    }
   ],
   "source": [
    "def bad_append(new_item, a_list=None):\n",
    "    print('befor address of a_list:', id(a_list))\n",
    "    if a_list is None:\n",
    "        a_list = [] # 这个a_list和默认参数a_list不是一个对象 id不同 新建了一个对象\n",
    "    print('address of a_list:', id(a_list))\n",
    "    a_list.append(new_item)\n",
    "    return a_list\n",
    "\n",
    "\n",
    "print(bad_append('1'))\n",
    "print(bad_append('2'))"
   ]
  },
  {
   "cell_type": "code",
   "execution_count": 15,
   "metadata": {},
   "outputs": [
    {
     "name": "stdout",
     "output_type": "stream",
     "text": [
      "befor address of a_list: 2418032920256\n",
      "address of a_list: 2418044154112\n",
      "['1']\n",
      "befor address of a_list: 2418032920256\n",
      "address of a_list: 2418033211072\n",
      "['2']\n"
     ]
    }
   ],
   "source": [
    "def bad_append(new_item, a_list=[]):\n",
    "    print('befor address of a_list:', id(a_list))\n",
    "    if a_list == []:\n",
    "        a_list = []\n",
    "    print('address of a_list:', id(a_list))\n",
    "    a_list.append(new_item)\n",
    "    return a_list\n",
    "\n",
    "\n",
    "print(bad_append('1'))\n",
    "print(bad_append('2'))"
   ]
  },
  {
   "cell_type": "code",
   "execution_count": 19,
   "metadata": {},
   "outputs": [
    {
     "name": "stdout",
     "output_type": "stream",
     "text": [
      "2418032939968\n",
      "2418032939968\n",
      "2418033209792\n"
     ]
    }
   ],
   "source": [
    "a_list = []\n",
    "print(id(a_list))\n",
    "a_list.append(1)\n",
    "print(id(a_list))\n",
    "\n",
    "a_list = []\n",
    "print(id(a_list))"
   ]
  },
  {
   "cell_type": "code",
   "execution_count": 21,
   "metadata": {},
   "outputs": [
    {
     "name": "stdout",
     "output_type": "stream",
     "text": [
      "before address of i: 140727400273680\n",
      "address of i: 140727400273712\n",
      "2\n",
      "before address of i: 140727400273680\n",
      "address of i: 140727400273712\n",
      "2\n"
     ]
    }
   ],
   "source": [
    "def bad_append(i=1):\n",
    "    print('before address of i:', id(i))\n",
    "    i += 1\n",
    "    print('address of i:', id(i))\n",
    "    return i\n",
    "\n",
    "'''\n",
    "很明显，第二次调用时默认参数i的值不会受第一次调用的影响。因为i指向的是不可变对象，\n",
    "对i的操作会造成内存重新分配，对象重新创建，那么函数中i += 1之后名字i指向了另外的地址；\n",
    "根据默认参数的规则，下次调用时，i指向的地址还是函数定义时赋予的地址，这个地址的值1并没有被改变。\n",
    "'''\n",
    "print(bad_append())\n",
    "print(bad_append())"
   ]
  },
  {
   "cell_type": "code",
   "execution_count": null,
   "metadata": {},
   "outputs": [],
   "source": []
  }
 ],
 "metadata": {
  "interpreter": {
   "hash": "004de6046f1b3d314f33fdb43a2dc798b2646e5600efd8df5066c8b63a00ff6d"
  },
  "kernelspec": {
   "display_name": "Python 3.8.10 64-bit",
   "language": "python",
   "name": "python3"
  },
  "language_info": {
   "codemirror_mode": {
    "name": "ipython",
    "version": 3
   },
   "file_extension": ".py",
   "mimetype": "text/x-python",
   "name": "python",
   "nbconvert_exporter": "python",
   "pygments_lexer": "ipython3",
   "version": "3.8.10"
  },
  "orig_nbformat": 4
 },
 "nbformat": 4,
 "nbformat_minor": 2
}
