{
 "cells": [
  {
   "cell_type": "markdown",
   "metadata": {},
   "source": [
    "## 求任意两个正整数的最大公约数和最小公倍数"
   ]
  },
  {
   "cell_type": "markdown",
   "metadata": {},
   "source": [
    "* 最大公约数  公约数集合的最大值  \n",
    "* 最大公约数  辗转相除法 大数除以小数.....直到余数为0\n",
    "* 最小公倍数  两数乘积除以最大公约数\n",
    "* max min 针对集合\n",
    "* 递归就把函数套进去"
   ]
  },
  {
   "cell_type": "code",
   "execution_count": 33,
   "metadata": {},
   "outputs": [
    {
     "name": "stdout",
     "output_type": "stream",
     "text": [
      "28和36\n",
      "最大公约数：4\n",
      "最小公倍数：252\n"
     ]
    }
   ],
   "source": [
    "def common(num1, num2):\n",
    "    cd = [i for i in range(1, min(num1,num2)+1) if num1%i==0 and num2%i==0 ]\n",
    "    return '{}和{}\\n最大公约数：{}\\n最小公倍数：{}'.format(num1, num2, max(cd), int(num1*num2/max(cd)))\n",
    "print(common(28,36))"
   ]
  },
  {
   "cell_type": "code",
   "execution_count": 32,
   "metadata": {},
   "outputs": [
    {
     "name": "stdout",
     "output_type": "stream",
     "text": [
      "4\n",
      "252\n"
     ]
    }
   ],
   "source": [
    "def gcd(num1, num2):\n",
    "    if num1 > num2:\n",
    "        if num1 % num2:\n",
    "            return gcd(num2, num1 % num2)\n",
    "        else:\n",
    "            return num2\n",
    "    else:\n",
    "        return gcd(num2, num1)\n",
    "\n",
    "def lcm(num1, num2):\n",
    "    return int(num1 * num2 / gcd(num1, num2))\n",
    "\n",
    "print(gcd(28, 36))\n",
    "print(lcm(28, 36))\n"
   ]
  },
  {
   "cell_type": "code",
   "execution_count": 12,
   "metadata": {},
   "outputs": [
    {
     "name": "stdout",
     "output_type": "stream",
     "text": [
      "8\n",
      "48\n"
     ]
    }
   ],
   "source": [
    "def gcm(num1,num2):\n",
    "    l=[]\n",
    "    for i in range(1,min(num1,num2)+1):\n",
    "        if num1%i==0 and num2%i==0:\n",
    "            l.append(i)\n",
    "    return max(l)\n",
    "def lcm(num1,num2):\n",
    "    return int(num1*num2/gcm(num1,num2))\n",
    "\n",
    "print(gcm(16,24))\n",
    "print(lcm(16,24))\n"
   ]
  },
  {
   "cell_type": "code",
   "execution_count": 18,
   "metadata": {},
   "outputs": [
    {
     "name": "stdout",
     "output_type": "stream",
     "text": [
      "8\n",
      "48\n"
     ]
    }
   ],
   "source": [
    "def gcd(num1,num2):\n",
    "    cd = [i for i in range(1,min(num1,num2)+1) if num1%i==0 and num2%i==0 ]\n",
    "    return max(cd)\n",
    "def lcm(num1,num2):\n",
    "    return int(num1*num2/gcd(num1,num2))\n",
    "    \n",
    "print(gcd(16,24))\n",
    "print(lcm(16,24))"
   ]
  },
  {
   "cell_type": "code",
   "execution_count": 4,
   "metadata": {},
   "outputs": [
    {
     "name": "stdout",
     "output_type": "stream",
     "text": [
      "4\n",
      "4\n",
      "2\n",
      "1\n",
      "1\n",
      "1\n",
      "1\n",
      "1\n",
      "1\n",
      "1\n",
      "1\n",
      "1\n",
      "1\n",
      "1\n",
      "1\n",
      "1\n",
      "1\n",
      "1\n",
      "1\n",
      "1\n"
     ]
    }
   ],
   "source": [
    "from math import gcd\n",
    "a = [4,32,42,53,34,252,42,4,53,6,6,3,5,54,2,4,24,2,42,342]\n",
    "g = gcd(a[0],a[1])\n",
    "print(g)\n",
    "for i in range(1, len(a)):\n",
    "    g = gcd(g,a[i])\n",
    "    print(g)"
   ]
  },
  {
   "cell_type": "code",
   "execution_count": 6,
   "metadata": {},
   "outputs": [
    {
     "data": {
      "text/plain": [
       "7"
      ]
     },
     "execution_count": 6,
     "metadata": {},
     "output_type": "execute_result"
    }
   ],
   "source": [
    "b=[1,2,3,4,7,3]\n",
    "max(b)"
   ]
  },
  {
   "cell_type": "code",
   "execution_count": null,
   "metadata": {},
   "outputs": [],
   "source": []
  }
 ],
 "metadata": {
  "interpreter": {
   "hash": "af407973ba12897262deda9d8992946cc1a9873fff2de40f1acc89cdf9010052"
  },
  "kernelspec": {
   "display_name": "Python 3",
   "language": "python",
   "name": "python3"
  },
  "language_info": {
   "codemirror_mode": {
    "name": "ipython",
    "version": 3
   },
   "file_extension": ".py",
   "mimetype": "text/x-python",
   "name": "python",
   "nbconvert_exporter": "python",
   "pygments_lexer": "ipython3",
   "version": "3.11.1"
  },
  "toc": {
   "base_numbering": 1,
   "nav_menu": {},
   "number_sections": true,
   "sideBar": true,
   "skip_h1_title": false,
   "title_cell": "Table of Contents",
   "title_sidebar": "Contents",
   "toc_cell": false,
   "toc_position": {},
   "toc_section_display": true,
   "toc_window_display": false
  },
  "varInspector": {
   "cols": {
    "lenName": 16,
    "lenType": 16,
    "lenVar": 40
   },
   "kernels_config": {
    "python": {
     "delete_cmd_postfix": "",
     "delete_cmd_prefix": "del ",
     "library": "var_list.py",
     "varRefreshCmd": "print(var_dic_list())"
    },
    "r": {
     "delete_cmd_postfix": ") ",
     "delete_cmd_prefix": "rm(",
     "library": "var_list.r",
     "varRefreshCmd": "cat(var_dic_list()) "
    }
   },
   "types_to_exclude": [
    "module",
    "function",
    "builtin_function_or_method",
    "instance",
    "_Feature"
   ],
   "window_display": true
  }
 },
 "nbformat": 4,
 "nbformat_minor": 2
}
