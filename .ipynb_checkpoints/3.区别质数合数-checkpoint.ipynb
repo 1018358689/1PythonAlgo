{
 "cells": [
  {
   "cell_type": "markdown",
   "metadata": {},
   "source": [
    "## 对于任意给定的正整数序列，区分出其中的质数与合数。"
   ]
  },
  {
   "cell_type": "markdown",
   "metadata": {},
   "source": [
    "* 质数：在大于1的自然数中,除了1和它本身以外不再有其他因数。\n",
    "* 合数：在大于1的自然数中,除了1和它本身以外还能被其他数（0除外）整除的数。\n",
    "* 判断质数合数，只要判断 2到这个数的算术平方根内的数 有没有质因数 可以整除 余数为0，没有即质，有即合。\n",
    "* for...else... 是针对for里有break，当for触发break则不执行else内容。"
   ]
  },
  {
   "cell_type": "code",
   "execution_count": 56,
   "metadata": {},
   "outputs": [
    {
     "data": {
      "text/plain": [
       "['1', '质', '质', '合', '质', '质', '合', '合', '合', '合', '合']"
      ]
     },
     "execution_count": 56,
     "metadata": {},
     "output_type": "execute_result"
    }
   ],
   "source": [
    "def find(list):\n",
    "    l = []\n",
    "    for i in list:\n",
    "        if i < 2:\n",
    "            l.append(str(i))\n",
    "        else:\n",
    "            for j in range(2, int(i**.5) + 1):\n",
    "                if i % j == 0:\n",
    "                    l.append('合')\n",
    "                    break\n",
    "            else:\n",
    "                l.append('质')\n",
    "    return l\n",
    "\n",
    "find([1, 2, 83, 4, 5, 97, 10, 20, 56, 80, 90])"
   ]
  },
  {
   "cell_type": "code",
   "execution_count": 44,
   "metadata": {},
   "outputs": [
    {
     "data": {
      "text/plain": [
       "[1,\n",
       " '质',\n",
       " '质',\n",
       " '合',\n",
       " '合',\n",
       " '合',\n",
       " '合',\n",
       " '合',\n",
       " '合',\n",
       " '合',\n",
       " '合',\n",
       " '合',\n",
       " '合',\n",
       " '合',\n",
       " '合',\n",
       " '合',\n",
       " '合',\n",
       " '合',\n",
       " '合',\n",
       " '合',\n",
       " '合',\n",
       " '合',\n",
       " '合',\n",
       " '合',\n",
       " '合',\n",
       " '合',\n",
       " '合',\n",
       " '合',\n",
       " '合',\n",
       " '合',\n",
       " '合',\n",
       " '合',\n",
       " '合',\n",
       " '合',\n",
       " '合',\n",
       " '合',\n",
       " '合',\n",
       " '合',\n",
       " '合',\n",
       " '合',\n",
       " '合',\n",
       " '合',\n",
       " '合',\n",
       " '合',\n",
       " '合',\n",
       " '合',\n",
       " '合',\n",
       " '合',\n",
       " '合',\n",
       " '合',\n",
       " '合',\n",
       " '合',\n",
       " '合',\n",
       " '合',\n",
       " '合',\n",
       " '合',\n",
       " '合',\n",
       " '合',\n",
       " '合',\n",
       " '合',\n",
       " '合',\n",
       " '合',\n",
       " '合',\n",
       " '合',\n",
       " '合',\n",
       " '合',\n",
       " '合',\n",
       " '合',\n",
       " '合',\n",
       " '合',\n",
       " '合',\n",
       " '合',\n",
       " '合',\n",
       " '合',\n",
       " '合',\n",
       " '合',\n",
       " '合',\n",
       " '合',\n",
       " '合',\n",
       " '合',\n",
       " '合',\n",
       " '合',\n",
       " '合',\n",
       " '合',\n",
       " '合',\n",
       " '合',\n",
       " '合',\n",
       " '合',\n",
       " '合',\n",
       " '合',\n",
       " '合',\n",
       " '合',\n",
       " '合',\n",
       " '合',\n",
       " '合',\n",
       " '合',\n",
       " '合',\n",
       " '合',\n",
       " '合',\n",
       " '合']"
      ]
     },
     "execution_count": 44,
     "metadata": {},
     "output_type": "execute_result"
    }
   ],
   "source": [
    "import random\n",
    "l = range(1,101)\n",
    "find(l)"
   ]
  },
  {
   "cell_type": "code",
   "execution_count": 2,
   "metadata": {},
   "outputs": [],
   "source": [
    "l =[]\n",
    "#l+2"
   ]
  },
  {
   "cell_type": "code",
   "execution_count": 1,
   "metadata": {},
   "outputs": [
    {
     "data": {
      "text/plain": [
       "25"
      ]
     },
     "execution_count": 1,
     "metadata": {},
     "output_type": "execute_result"
    }
   ],
   "source": [
    "def countPrimes3(n):\n",
    "    if n <= 2:\n",
    "        return 0\n",
    "    else:\n",
    "        res = []\n",
    "        for i in range(2, n):\n",
    "            flag = 0\n",
    "            for j in res:\n",
    "                if i % j == 0:\n",
    "                    flag = 1\n",
    "\n",
    "            if flag == 0:\n",
    "                res.append(i)\n",
    "        return len(res)\n",
    "countPrimes3(100)"
   ]
  },
  {
   "cell_type": "code",
   "execution_count": null,
   "metadata": {},
   "outputs": [],
   "source": []
  }
 ],
 "metadata": {
  "interpreter": {
   "hash": "af407973ba12897262deda9d8992946cc1a9873fff2de40f1acc89cdf9010052"
  },
  "kernelspec": {
   "display_name": "Python 3",
   "language": "python",
   "name": "python3"
  },
  "language_info": {
   "codemirror_mode": {
    "name": "ipython",
    "version": 3
   },
   "file_extension": ".py",
   "mimetype": "text/x-python",
   "name": "python",
   "nbconvert_exporter": "python",
   "pygments_lexer": "ipython3",
   "version": "3.8.11"
  },
  "toc": {
   "base_numbering": 1,
   "nav_menu": {},
   "number_sections": true,
   "sideBar": true,
   "skip_h1_title": false,
   "title_cell": "Table of Contents",
   "title_sidebar": "Contents",
   "toc_cell": false,
   "toc_position": {},
   "toc_section_display": true,
   "toc_window_display": false
  },
  "varInspector": {
   "cols": {
    "lenName": 16,
    "lenType": 16,
    "lenVar": 40
   },
   "kernels_config": {
    "python": {
     "delete_cmd_postfix": "",
     "delete_cmd_prefix": "del ",
     "library": "var_list.py",
     "varRefreshCmd": "print(var_dic_list())"
    },
    "r": {
     "delete_cmd_postfix": ") ",
     "delete_cmd_prefix": "rm(",
     "library": "var_list.r",
     "varRefreshCmd": "cat(var_dic_list()) "
    }
   },
   "types_to_exclude": [
    "module",
    "function",
    "builtin_function_or_method",
    "instance",
    "_Feature"
   ],
   "window_display": true
  }
 },
 "nbformat": 4,
 "nbformat_minor": 2
}
