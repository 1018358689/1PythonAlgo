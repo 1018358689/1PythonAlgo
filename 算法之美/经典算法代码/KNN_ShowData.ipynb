{
 "cells": [
  {
   "cell_type": "code",
   "execution_count": 12,
   "metadata": {},
   "outputs": [
    {
     "name": "stdout",
     "output_type": "stream",
     "text": [
      "[[1.0, '小蝌蚪'], [1.0, '小蝌蚪'], [2.8284271247461903, '小蝌蚪']]\n",
      "输入测试值属于小蝌蚪类,判断准确率百分之100\n"
     ]
    }
   ],
   "source": [
    "import numpy as np\n",
    "trainData=np.array([[23,8],[26,9],[21,7],[23,9],[19,11],[18,9],[20,10]])  #训练集数据（长，宽）\n",
    "labels=['小鲫鱼','小鲫鱼','小鲫鱼','小鲫鱼','小蝌蚪','小蝌蚪','小蝌蚪']   #训练集数据对应的分类\n",
    "K=3                                                                       #最临近值取3\n",
    "testData=[20,11]                                                          #测试数据\n",
    "def SolveStance(tData,Labels,testData):                                 #求所有训练集数据到测试数据的距离\n",
    "    rData=[]                                                              #存放所求距离和分类值\n",
    "    i=0\n",
    "    for DotValue in tData:\n",
    "        ed=np.sqrt((DotValue[0]-testData[0])**2+(DotValue[1]-testData[1])**2)#欧式公式求距离\n",
    "        rData.append([ed,Labels[i]])                                      #所求距离和分类进行保存\n",
    "        i+=1\n",
    "    return rData                                                          #返回所求距离和分类\n",
    "def SortSolve(rData):\n",
    "    return sorted(rData)                                                  #从小到大排序\n",
    "def GetKValues(sData,k):                                                  #得到K值和分类结果\n",
    "    kData=sData[:k]                                                      #取前面K个最邻近值\n",
    "    print(kData)\n",
    "    ClassCount={}                                                        #分类统计存储\n",
    "    for item in kData:\n",
    "        ClassCount[item[1]]=ClassCount.get(item[1],0)+1                  #统计各自分类的次数\n",
    "    rEnds=sorted(ClassCount.items())                                     \n",
    "    return rEnds[-1:]                                                    #返回最后结果\n",
    "\n",
    "StanceData=SolveStance(trainData,labels,testData)                         #获得距离列表\n",
    "ss=SortSolve(StanceData)                                                   #对距离列表从小到大排序\n",
    "sKind,rate=GetKValues(ss,K)[0]                                                     #求K值及最终判断值分类\n",
    "print('输入测试值属于%s类,判断准确率百分之%d'%(sKind,100*(rate/K)))   #输出结果            "
   ]
  },
  {
   "cell_type": "code",
   "execution_count": 23,
   "metadata": {},
   "outputs": [
    {
     "data": {
      "image/png": "[encoded data removed]",
      "text/plain": [
       "<Figure size 432x288 with 1 Axes>"
      ]
     },
     "metadata": {
      "needs_background": "light"
     },
     "output_type": "display_data"
    }
   ],
   "source": [
    "import matplotlib.pyplot as plt\n",
    "plt.xlabel(\"长度（毫米）\",fontproperties=\"STCAIYUN\",fontsize=20)  #华文彩云\n",
    "plt.ylabel(\"宽度（毫米）\", fontproperties=\"STCAIYUN\",fontsize=20) \n",
    "plt.scatter(trainData[:,0],trainData[:,1],marker='o')  #训练集数据\n",
    "plt.plot(testData[0],testData[1],marker='v',color='r')           #测试数据\n",
    "plt.show()"
   ]
  },
  {
   "cell_type": "code",
   "execution_count": 24,
   "metadata": {},
   "outputs": [
    {
     "data": {
      "text/plain": [
       "'C:\\\\Users\\\\111'"
      ]
     },
     "execution_count": 24,
     "metadata": {},
     "output_type": "execute_result"
    }
   ],
   "source": [
    "%pwd"
   ]
  },
  {
   "cell_type": "code",
   "execution_count": null,
   "metadata": {},
   "outputs": [],
   "source": []
  }
 ],
 "metadata": {
  "kernelspec": {
   "display_name": "Python 3",
   "language": "python",
   "name": "python3"
  },
  "language_info": {
   "codemirror_mode": {
    "name": "ipython",
    "version": 3
   },
   "file_extension": ".py",
   "mimetype": "text/x-python",
   "name": "python",
   "nbconvert_exporter": "python",
   "pygments_lexer": "ipython3",
   "version": "3.7.3"
  }
 },
 "nbformat": 4,
 "nbformat_minor": 2
}
