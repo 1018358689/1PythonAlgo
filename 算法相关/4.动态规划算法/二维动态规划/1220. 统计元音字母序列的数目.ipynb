{
 "cells": [
  {
   "cell_type": "code",
   "execution_count": 20,
   "metadata": {},
   "outputs": [],
   "source": [
    "l = [[0]*5 for _ in range(3)]\n",
    "\n",
    "# l[0]=[1]*5\n"
   ]
  },
  {
   "cell_type": "code",
   "execution_count": 21,
   "metadata": {},
   "outputs": [
    {
     "data": {
      "text/plain": [
       "(5, 10, 68)"
      ]
     },
     "execution_count": 21,
     "metadata": {},
     "output_type": "execute_result"
    }
   ],
   "source": [
    "# dp[n][s]:长度n以s结尾的字符串个数 aeiou用01234表示\n",
    "# a e i o u\n",
    "# 0 1 2 3 4\n",
    "# BaseCase dp[1][0-4]=1\n",
    "# a的前面是e,i,u; e:a,i; i:e,o; o:i; u:i,o\n",
    "# dp[n][0] = (dp[n-1][1]+dp[n-1][2]+dp[n-1][4])%m\n",
    "# dp[n][1] = (dp[n-1][0]+dp[n-1][2])%m\n",
    "# dp[n][2] = (dp[n-1][1]+dp[n-1][3])%m\n",
    "# dp[n][3] = (dp[n-1][2])%m\n",
    "# dp[n][4] = (dp[n-1][2]+dp[n-1][3])%m\n",
    "# target dp[n][0-4]求和\n",
    "\n",
    "\n",
    "def f(n):\n",
    "    m = 10**9 + 7\n",
    "    dp = [[0] * 5 for _ in range(n + 1)]\n",
    "    dp[1] = [1] * 5\n",
    "    for i in range(2, n + 1):\n",
    "        dp[i][0] = (dp[i - 1][1] + dp[i - 1][2] + dp[i - 1][4]) % m\n",
    "        dp[i][1] = (dp[i - 1][0] + dp[i - 1][2]) % m\n",
    "        dp[i][2] = (dp[i - 1][1] + dp[i - 1][3]) % m\n",
    "        dp[i][3] = (dp[i - 1][2]) % m\n",
    "        dp[i][4] = (dp[i - 1][2] + dp[i - 1][3]) % m\n",
    "    return sum(dp[n]) % m\n",
    "\n",
    "\n",
    "f(1), f(2), f(5)\n"
   ]
  },
  {
   "cell_type": "code",
   "execution_count": null,
   "metadata": {},
   "outputs": [],
   "source": []
  }
 ],
 "metadata": {
  "interpreter": {
   "hash": "004de6046f1b3d314f33fdb43a2dc798b2646e5600efd8df5066c8b63a00ff6d"
  },
  "kernelspec": {
   "display_name": "Python 3.8.10 64-bit",
   "language": "python",
   "name": "python3"
  },
  "language_info": {
   "codemirror_mode": {
    "name": "ipython",
    "version": 3
   },
   "file_extension": ".py",
   "mimetype": "text/x-python",
   "name": "python",
   "nbconvert_exporter": "python",
   "pygments_lexer": "ipython3",
   "version": "3.8.10"
  },
  "orig_nbformat": 4
 },
 "nbformat": 4,
 "nbformat_minor": 2
}
