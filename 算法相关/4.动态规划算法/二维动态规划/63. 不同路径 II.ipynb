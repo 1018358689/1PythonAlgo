{
 "cells": [
  {
   "cell_type": "code",
   "execution_count": 2,
   "metadata": {},
   "outputs": [
    {
     "data": {
      "text/plain": [
       "2"
      ]
     },
     "execution_count": 2,
     "metadata": {},
     "output_type": "execute_result"
    }
   ],
   "source": [
    "def f(obstacleGrid: list) -> int:\n",
    "    # dp[i][j] 机器人到坐标（i，j）的方法数\n",
    "    # dp[i][j] = dp[i-1][j]+dp[i][j-1]\n",
    "    if obstacleGrid[0][0] == 1: return 0\n",
    "    rows, cols = len(obstacleGrid), len(obstacleGrid[0])\n",
    "    dp = [[-1] * cols for _ in range(rows)]  # -1表示无法达到\n",
    "    dp[0][0] = 1\n",
    "    # basecase 第一行和第一列 有一个障碍物 后面全-1\n",
    "    for c in range(1, cols):\n",
    "        if obstacleGrid[0][c] == 0:\n",
    "            dp[0][c] = dp[0][c - 1]\n",
    "\n",
    "    for r in range(1, rows):\n",
    "        if obstacleGrid[r][0] == 0:\n",
    "            dp[r][0] = dp[r - 1][0]\n",
    "\n",
    "    for i in range(1, rows):\n",
    "        for j in range(1, cols):\n",
    "            if obstacleGrid[i][j] == 1: # 障碍物跳过 默认-1\n",
    "                continue\n",
    "            if dp[i - 1][j] > 0 or dp[i][j - 1] > 0: # 前上 前左 至少有一个不是障碍物\n",
    "                dp[i][j] = (dp[i - 1][j] if dp[i - 1][j] > 0 else 0) + (dp[i][j - 1] if dp[i][j - 1] > 0 else 0)\n",
    "            else: # 都是障碍物 无法到达 -1\n",
    "                dp[i][j] = -1\n",
    "    return max(0, dp[-1][-1])\n",
    "\n",
    "\n",
    "f([[0, 0, 0], [0, 1, 0], [0, 0, 0]])\n"
   ]
  },
  {
   "cell_type": "code",
   "execution_count": null,
   "metadata": {},
   "outputs": [],
   "source": []
  }
 ],
 "metadata": {
  "interpreter": {
   "hash": "a5f34674cfcc9b13426a2d112c686bc132e4ef443f1487e707e7c3787d6bcf89"
  },
  "kernelspec": {
   "display_name": "Python 3.10.3 64-bit (windows store)",
   "language": "python",
   "name": "python3"
  },
  "language_info": {
   "codemirror_mode": {
    "name": "ipython",
    "version": 3
   },
   "file_extension": ".py",
   "mimetype": "text/x-python",
   "name": "python",
   "nbconvert_exporter": "python",
   "pygments_lexer": "ipython3",
   "version": "3.10.3"
  },
  "orig_nbformat": 4
 },
 "nbformat": 4,
 "nbformat_minor": 2
}
