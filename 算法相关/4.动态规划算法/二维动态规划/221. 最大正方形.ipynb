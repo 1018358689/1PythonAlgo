{
 "cells": [
  {
   "cell_type": "code",
   "execution_count": 5,
   "metadata": {},
   "outputs": [
    {
     "data": {
      "text/plain": [
       "4"
      ]
     },
     "execution_count": 5,
     "metadata": {},
     "output_type": "execute_result"
    }
   ],
   "source": [
    "def f(matrix: list):\n",
    "    # dp[r][c] 最大边长\n",
    "    # dp[r][c]=min(dp[r-1][c-1],dp[r][c-1],dp[r-1][c])+1\n",
    "    # basecase dp[0][c]=matrix[0][c] dp[r][0]=matrix[r][0]\n",
    "    rows, cols = len(matrix), len(matrix[0])\n",
    "    dp = [[int(matrix[r][c]) for c in range(cols)] for r in range(rows)]\n",
    "    for r in range(1, rows):\n",
    "        for c in range(1, cols):\n",
    "            if matrix[r][c] == '1':\n",
    "                dp[r][c] = min(dp[r - 1][c - 1], dp[r][c - 1], dp[r - 1][c]) + 1\n",
    "            else:\n",
    "                dp[r][c] = 0\n",
    "    return max(max(dp[r]) for r in range(rows))**2\n",
    "\n",
    "\n",
    "f([[\"1\", \"0\", \"1\", \"0\", \"0\"], [\"1\", \"0\", \"1\", \"1\", \"1\"], [\"1\", \"1\", \"1\", \"1\", \"1\"], [\"1\", \"0\", \"0\", \"1\", \"0\"]])\n"
   ]
  },
  {
   "cell_type": "code",
   "execution_count": null,
   "metadata": {},
   "outputs": [],
   "source": []
  }
 ],
 "metadata": {
  "interpreter": {
   "hash": "a5f34674cfcc9b13426a2d112c686bc132e4ef443f1487e707e7c3787d6bcf89"
  },
  "kernelspec": {
   "display_name": "Python 3.10.3 64-bit (windows store)",
   "language": "python",
   "name": "python3"
  },
  "language_info": {
   "codemirror_mode": {
    "name": "ipython",
    "version": 3
   },
   "file_extension": ".py",
   "mimetype": "text/x-python",
   "name": "python",
   "nbconvert_exporter": "python",
   "pygments_lexer": "ipython3",
   "version": "3.10.3"
  },
  "orig_nbformat": 4
 },
 "nbformat": 4,
 "nbformat_minor": 2
}
