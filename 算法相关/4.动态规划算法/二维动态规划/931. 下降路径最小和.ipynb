{
 "cells": [
  {
   "cell_type": "code",
   "execution_count": 9,
   "metadata": {},
   "outputs": [
    {
     "data": {
      "text/plain": [
       "13"
      ]
     },
     "execution_count": 9,
     "metadata": {},
     "output_type": "execute_result"
    }
   ],
   "source": [
    "from functools import lru_cache\n",
    "def f(matrix):\n",
    "    rows, cols = len(matrix), len(matrix[0])\n",
    "    @lru_cache(None)\n",
    "    def dfs(r, c):  # 到[r,c]的最小路径和\n",
    "        if r == 0:\n",
    "            return matrix[0][c]\n",
    "        res = float('inf')\n",
    "        for nc in (c - 1, c, c + 1):\n",
    "            if 0 <= nc < cols:\n",
    "                res = min(res, matrix[r][c] + dfs(r - 1, nc))\n",
    "        return res\n",
    "\n",
    "    res = float('inf')\n",
    "    for c in range(cols):\n",
    "        res = min(res, dfs(rows - 1, c))\n",
    "    return res\n",
    "\n",
    "\n",
    "f([[2, 1, 3], [6, 5, 4], [7, 8, 9]])\n"
   ]
  },
  {
   "cell_type": "code",
   "execution_count": 8,
   "metadata": {},
   "outputs": [
    {
     "data": {
      "text/plain": [
       "13"
      ]
     },
     "execution_count": 8,
     "metadata": {},
     "output_type": "execute_result"
    }
   ],
   "source": [
    "def f(matrix):\n",
    "    rows, cols = len(matrix), len(matrix[0])\n",
    "    mem = {}\n",
    "    def dfs(r, c):  # 到[r,c]的最小路径和\n",
    "        if (r,c) in mem:\n",
    "            return mem[(r,c)]\n",
    "        if r == 0:\n",
    "            return matrix[0][c]\n",
    "        mem[(r,c)] = float('inf')\n",
    "        for nc in (c - 1, c, c + 1):\n",
    "            if 0 <= nc < cols:\n",
    "                mem[(r,c)] = min(mem[(r,c)], matrix[r][c] + dfs(r - 1, nc))\n",
    "        return mem[(r,c)]\n",
    "\n",
    "    res = float('inf')\n",
    "    for c in range(cols):\n",
    "        res = min(res, dfs(rows - 1, c))\n",
    "    return res\n",
    "\n",
    "\n",
    "f([[2, 1, 3], [6, 5, 4], [7, 8, 9]])\n"
   ]
  },
  {
   "cell_type": "code",
   "execution_count": 10,
   "metadata": {},
   "outputs": [
    {
     "data": {
      "text/plain": [
       "13"
      ]
     },
     "execution_count": 10,
     "metadata": {},
     "output_type": "execute_result"
    }
   ],
   "source": [
    "# dp[r][c] 到[r,c]的最小路径和 ->min dp[-1][c]\n",
    "# dp[r][c] = min (dp[r-1][c-1],dp[r-1][c])\n",
    "# dp[0][c] = matrix[0][c]\n",
    "def f(matrix):\n",
    "    rows, cols = len(matrix), len(matrix[0])\n",
    "    dp = [[float('inf')] * cols for _ in range(rows)]\n",
    "    for c in range(cols):\n",
    "        dp[0][c] = matrix[0][c]\n",
    "    for r in range(1, rows):\n",
    "        for c in range(cols):\n",
    "            for nc in (c - 1, c, c + 1):\n",
    "                if 0 <= nc < cols:\n",
    "                    dp[r][c] = min(dp[r][c], dp[r - 1][nc] + matrix[r][c])\n",
    "    return min(dp[-1])\n",
    "\n",
    "\n",
    "f([[2, 1, 3], [6, 5, 4], [7, 8, 9]])\n"
   ]
  },
  {
   "cell_type": "code",
   "execution_count": 6,
   "metadata": {},
   "outputs": [
    {
     "name": "stdout",
     "output_type": "stream",
     "text": [
      "{(0, 0): 2, (0, 1): 1, (0, 2): 3, (1, 0): 7, (1, 1): 6, (1, 2): 5, (2, 0): 13, (2, 1): 13, (2, 2): 14}\n"
     ]
    },
    {
     "data": {
      "text/plain": [
       "13"
      ]
     },
     "execution_count": 6,
     "metadata": {},
     "output_type": "execute_result"
    }
   ],
   "source": [
    "def f(matrix):\n",
    "    # dp[i][j] 下降到matri[i][j]的路径最小和 [0,rows-1] [0,cols-1]\n",
    "    # dp[i][j] = min(dp[i-1][j-1],dp[i-1][j],dp[i-1][j+1])+matrix[i][j]\n",
    "    # basecase dp[0][j] = matrix[0][j]\n",
    "    rows, cols = len(matrix), len(matrix[0])\n",
    "    dp = {}\n",
    "    for c in range(cols):\n",
    "        dp[(0, c)] = matrix[0][c]\n",
    "    for r in range(1, rows):\n",
    "        for c in range(cols):\n",
    "            dp[(r, c)] = min(dp.get((r - 1, c - 1), float('inf')), dp.get((r - 1, c), float('inf')), dp.get((r - 1, c + 1), float('inf'))) + matrix[r][c]\n",
    "    return min(dp[(rows - 1, c)] for c in range(cols))\n",
    "\n",
    "\n",
    "f([[2, 1, 3], [6, 5, 4], [7, 8, 9]])\n"
   ]
  },
  {
   "cell_type": "code",
   "execution_count": 9,
   "metadata": {},
   "outputs": [
    {
     "data": {
      "text/plain": [
       "-48"
      ]
     },
     "execution_count": 9,
     "metadata": {},
     "output_type": "execute_result"
    }
   ],
   "source": [
    "def f(matrix):\n",
    "    # dp[i][j] 下降到matri[i][j]的路径最小和 [0,rows-1] [0,cols-1]\n",
    "    # dp[i][j] = min(dp[i-1][j-1],dp[i-1][j],dp[i-1][j+1])+matrix[i][j]\n",
    "    # basecase dp[0][j] = matrix[0][j]\n",
    "    rows, cols = len(matrix), len(matrix[0])\n",
    "    if rows == 1:\n",
    "        return min(matrix[0])\n",
    "    dp = {}\n",
    "    ans = float('inf')\n",
    "    for c in range(cols):\n",
    "        dp[(0, c)] = matrix[0][c]\n",
    "    for r in range(1, rows):\n",
    "        for c in range(cols):\n",
    "            dp[(r, c)] = min(dp.get((r - 1, c - 1), float('inf')), dp.get((r - 1, c), float('inf')), dp.get((r - 1, c + 1), float('inf'))) + matrix[r][c]\n",
    "            if r == rows - 1:\n",
    "                ans = min(ans, dp[(r, c)])\n",
    "    return ans\n",
    "\n",
    "\n",
    "f([[2, 1, 3], [6, 5, 4], [7, 8, 9]])\n",
    "f([[-48]])"
   ]
  },
  {
   "cell_type": "code",
   "execution_count": null,
   "metadata": {},
   "outputs": [],
   "source": []
  }
 ],
 "metadata": {
  "interpreter": {
   "hash": "004de6046f1b3d314f33fdb43a2dc798b2646e5600efd8df5066c8b63a00ff6d"
  },
  "kernelspec": {
   "display_name": "Python 3.8.10 64-bit",
   "language": "python",
   "name": "python3"
  },
  "language_info": {
   "codemirror_mode": {
    "name": "ipython",
    "version": 3
   },
   "file_extension": ".py",
   "mimetype": "text/x-python",
   "name": "python",
   "nbconvert_exporter": "python",
   "pygments_lexer": "ipython3",
   "version": "3.10.1"
  },
  "orig_nbformat": 4
 },
 "nbformat": 4,
 "nbformat_minor": 2
}
