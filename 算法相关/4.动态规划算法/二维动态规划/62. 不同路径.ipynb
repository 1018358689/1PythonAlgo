{
 "cells": [
  {
   "cell_type": "code",
   "execution_count": null,
   "metadata": {},
   "outputs": [],
   "source": [
    "# dp[m][n] 到第三行第七列总共的路径数\n",
    "# dp[m][n]=dp[m-1][n]+dp[m][n-1]\n",
    "# basecase dp[1][x]=1 dp[x][1]=1\n",
    "class Solution:\n",
    "    def uniquePaths(self, m: int, n: int) -> int:\n",
    "        dp = [[1]* n for r in range(m)]\n",
    "        for r in range(1,m):\n",
    "            for c in range(1,n):\n",
    "                dp[r][c]=dp[r-1][c]+dp[r][c-1]\n",
    "        return dp[-1][-1]\n",
    "        "
   ]
  }
 ],
 "metadata": {
  "language_info": {
   "name": "python"
  },
  "orig_nbformat": 4
 },
 "nbformat": 4,
 "nbformat_minor": 2
}
