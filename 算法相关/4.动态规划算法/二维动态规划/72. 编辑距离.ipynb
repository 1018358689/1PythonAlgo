{
 "cells": [
  {
   "cell_type": "code",
   "execution_count": 2,
   "metadata": {},
   "outputs": [
    {
     "data": {
      "text/plain": [
       "3"
      ]
     },
     "execution_count": 2,
     "metadata": {},
     "output_type": "execute_result"
    }
   ],
   "source": [
    "# dp[i][j] s1[:i]和s2[:j]所需的最少操作次数->dp[len(s1)][len(s2)]\n",
    "from functools import lru_cache\n",
    "\n",
    "\n",
    "def f(s1, s2):\n",
    "\n",
    "    @lru_cache(None)\n",
    "    def dp(i, j):\n",
    "        if i == 0:\n",
    "            return j\n",
    "        if j == 0:\n",
    "            return i\n",
    "        if s1[i - 1] == s2[j - 1]:\n",
    "            return dp(i - 1, j - 1)\n",
    "        else:\n",
    "            return min(dp(i, j - 1) + 1, dp(i - 1, j) + 1, dp(i - 1, j - 1) + 1)  # 对应s1结尾插入 删除 替换操作\n",
    "\n",
    "    return dp(len(s1), len(s2))\n",
    "\n",
    "\n",
    "f('horse', 'ros')\n"
   ]
  },
  {
   "cell_type": "code",
   "execution_count": 3,
   "metadata": {},
   "outputs": [
    {
     "data": {
      "text/plain": [
       "3"
      ]
     },
     "execution_count": 3,
     "metadata": {},
     "output_type": "execute_result"
    }
   ],
   "source": [
    "# dp[i][j] s1[:i]和s2[:j]所需的最少操作次数->dp[len(s1)][len(s2)]\n",
    "from functools import lru_cache\n",
    "\n",
    "\n",
    "def f(s1, s2):\n",
    "\n",
    "    mem = {}\n",
    "\n",
    "    def dp(i, j):\n",
    "        if (i, j) in mem:\n",
    "            return mem[(i, j)]\n",
    "        if i == 0:\n",
    "            return j\n",
    "        if j == 0:\n",
    "            return i\n",
    "        if s1[i - 1] == s2[j - 1]:\n",
    "            mem[(i, j)] = dp(i - 1, j - 1)\n",
    "        else:\n",
    "            mem[(i, j)] = min(dp(i, j - 1) + 1, dp(i - 1, j) + 1, dp(i - 1, j - 1) + 1)  # 对应s1结尾插入 删除 替换操作\n",
    "        return mem[(i, j)]\n",
    "\n",
    "    return dp(len(s1), len(s2))\n",
    "\n",
    "\n",
    "f('horse', 'ros')\n"
   ]
  },
  {
   "cell_type": "code",
   "execution_count": 4,
   "metadata": {},
   "outputs": [
    {
     "data": {
      "text/plain": [
       "3"
      ]
     },
     "execution_count": 4,
     "metadata": {},
     "output_type": "execute_result"
    }
   ],
   "source": [
    "# dp[i][j] s1[:i]和s2[:j]所需的最少操作次数->dp[len(s1)][len(s2)]\n",
    "\n",
    "\n",
    "def f(s1, s2):\n",
    "    dp = [[0] * (len(s2) + 1) for _ in range(len(s1) + 1)]\n",
    "    for i in range(len(s1) + 1):\n",
    "        dp[i][0] = i\n",
    "    for j in range(len(s2) + 1):\n",
    "        dp[0][j] = j\n",
    "    for i in range(1, len(s1) + 1):\n",
    "        for j in range(1, len(s2) + 1):\n",
    "            if s1[i - 1] == s2[j - 1]:\n",
    "                dp[i][j] = dp[i - 1][j - 1]\n",
    "            else:\n",
    "                dp[i][j] = min(dp[i][j - 1] + 1, dp[i - 1][j] + 1, dp[i - 1][j - 1] + 1)\n",
    "    return dp[-1][-1]\n",
    "\n",
    "\n",
    "f('horse', 'ros')\n"
   ]
  },
  {
   "cell_type": "code",
   "execution_count": null,
   "metadata": {},
   "outputs": [],
   "source": []
  }
 ],
 "metadata": {
  "interpreter": {
   "hash": "a5f34674cfcc9b13426a2d112c686bc132e4ef443f1487e707e7c3787d6bcf89"
  },
  "kernelspec": {
   "display_name": "Python 3.10.2 64-bit (windows store)",
   "language": "python",
   "name": "python3"
  },
  "language_info": {
   "codemirror_mode": {
    "name": "ipython",
    "version": 3
   },
   "file_extension": ".py",
   "mimetype": "text/x-python",
   "name": "python",
   "nbconvert_exporter": "python",
   "pygments_lexer": "ipython3",
   "version": "3.10.3"
  },
  "orig_nbformat": 4
 },
 "nbformat": 4,
 "nbformat_minor": 2
}
