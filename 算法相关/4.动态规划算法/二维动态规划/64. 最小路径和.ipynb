{
 "cells": [
  {
   "cell_type": "code",
   "execution_count": 2,
   "metadata": {},
   "outputs": [
    {
     "data": {
      "text/plain": [
       "7"
      ]
     },
     "execution_count": 2,
     "metadata": {},
     "output_type": "execute_result"
    }
   ],
   "source": [
    "def f(grid: list):\n",
    "    # dp[i][j] 到 grid[r][c]最小路径和\n",
    "    # i:[0,rows-1] j:[0,cols-1]\n",
    "    # dp[i][j] = min(dp[i-1][j]+grid[i][j],dp[i][j-1]+grid[i][j])\n",
    "    # dp[0][j] = preSum[0][j]\n",
    "    # dp[i][0] = preSum[i][0]\n",
    "    rows, cols = len(grid), len(grid[0])\n",
    "    dp = [[0] * cols for _ in range(rows)]\n",
    "    dp[0][0] = grid[0][0]\n",
    "    for i in range(1, rows):\n",
    "        dp[i][0] = dp[i - 1][0] + grid[i][0]\n",
    "    for j in range(1, cols):\n",
    "        dp[0][j] = dp[0][j - 1] + grid[0][j]\n",
    "    for i in range(1, rows):\n",
    "        for j in range(1, cols):\n",
    "            dp[i][j] = min(dp[i - 1][j] + grid[i][j], dp[i][j - 1] + grid[i][j])\n",
    "    return dp[-1][-1]\n",
    "\n",
    "\n",
    "f([[1, 3, 1], [1, 5, 1], [4, 2, 1]])\n"
   ]
  },
  {
   "cell_type": "code",
   "execution_count": null,
   "metadata": {},
   "outputs": [],
   "source": []
  }
 ],
 "metadata": {
  "interpreter": {
   "hash": "aee8b7b246df8f9039afb4144a1f6fd8d2ca17a180786b69acc140d282b71a49"
  },
  "kernelspec": {
   "display_name": "Python 3.10.1 64-bit",
   "language": "python",
   "name": "python3"
  },
  "language_info": {
   "codemirror_mode": {
    "name": "ipython",
    "version": 3
   },
   "file_extension": ".py",
   "mimetype": "text/x-python",
   "name": "python",
   "nbconvert_exporter": "python",
   "pygments_lexer": "ipython3",
   "version": "3.10.1"
  },
  "orig_nbformat": 4
 },
 "nbformat": 4,
 "nbformat_minor": 2
}
