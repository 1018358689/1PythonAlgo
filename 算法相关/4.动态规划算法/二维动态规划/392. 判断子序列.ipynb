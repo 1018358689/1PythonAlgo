{
 "cells": [
  {
   "cell_type": "code",
   "execution_count": 3,
   "metadata": {},
   "outputs": [
    {
     "data": {
      "text/plain": [
       "(True, False)"
      ]
     },
     "execution_count": 3,
     "metadata": {},
     "output_type": "execute_result"
    }
   ],
   "source": [
    "def f(s: str, t: str):\n",
    "    p1 = p2 = 0\n",
    "    while p1 < len(s) and p2 < len(t):\n",
    "        if s[p1] == t[p2]:\n",
    "            p1 += 1\n",
    "        p2 += 1\n",
    "    return p1 == len(s)\n",
    "\n",
    "\n",
    "f('abc', 'ahbgdc'), f('axc', 'ahbgdc')\n"
   ]
  },
  {
   "cell_type": "code",
   "execution_count": 6,
   "metadata": {},
   "outputs": [
    {
     "data": {
      "text/plain": [
       "(True, False)"
      ]
     },
     "execution_count": 6,
     "metadata": {},
     "output_type": "execute_result"
    }
   ],
   "source": [
    "def f(s: str, t: str):\n",
    "    # 类似最小编辑距离的简化版\n",
    "    # dp[i][j] s中i个字母 与 t中j个字母的最长公共子序列长度\n",
    "    # i:[0,len] j:[0,len]\n",
    "    # if s[i-1]==s[j-1]: dp[i][j] = dp[i-1][j-1]+1\n",
    "    # if s[i-1]!=s[j-1]: dp[i][j] = dp[i][j-1]\n",
    "    # basecase dp[0][...]=0 dp[...][0]=0\n",
    "    dp = [[0] * (len(t) + 1) for _ in range(len(s) + 1)]\n",
    "    for i in range(1, len(s) + 1):\n",
    "        for j in range(1, len(t) + 1):\n",
    "            if s[i - 1] == t[j - 1]:\n",
    "                dp[i][j] = dp[i - 1][j - 1] + 1\n",
    "            else:\n",
    "                dp[i][j] = dp[i][j - 1]\n",
    "    return dp[-1][-1] == len(s)\n",
    "\n",
    "\n",
    "f('abc', 'ahbgdc'), f('axc', 'ahbgdc')\n"
   ]
  },
  {
   "cell_type": "code",
   "execution_count": null,
   "metadata": {},
   "outputs": [],
   "source": []
  }
 ],
 "metadata": {
  "interpreter": {
   "hash": "a5f34674cfcc9b13426a2d112c686bc132e4ef443f1487e707e7c3787d6bcf89"
  },
  "kernelspec": {
   "display_name": "Python 3.10.3 64-bit (windows store)",
   "language": "python",
   "name": "python3"
  },
  "language_info": {
   "codemirror_mode": {
    "name": "ipython",
    "version": 3
   },
   "file_extension": ".py",
   "mimetype": "text/x-python",
   "name": "python",
   "nbconvert_exporter": "python",
   "pygments_lexer": "ipython3",
   "version": "3.10.4"
  },
  "orig_nbformat": 4
 },
 "nbformat": 4,
 "nbformat_minor": 2
}
