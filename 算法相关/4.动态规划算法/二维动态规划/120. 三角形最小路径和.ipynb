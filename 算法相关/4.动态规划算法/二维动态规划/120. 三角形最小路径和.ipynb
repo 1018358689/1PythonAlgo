{
 "cells": [
  {
   "cell_type": "code",
   "execution_count": 18,
   "metadata": {},
   "outputs": [
    {
     "name": "stdout",
     "output_type": "stream",
     "text": [
      "0 [2]\n"
     ]
    },
    {
     "data": {
      "text/plain": [
       "2"
      ]
     },
     "execution_count": 18,
     "metadata": {},
     "output_type": "execute_result"
    }
   ],
   "source": [
    "# 回溯超时\n",
    "def f(triangle: list):\n",
    "    res = float('inf')\n",
    "\n",
    "    def dfs(path: list, index: int, deepth: int):\n",
    "        nonlocal res\n",
    "        # print(deepth,path)\n",
    "        if deepth == len(triangle) - 1:\n",
    "            res = min(res, sum(path))\n",
    "            return\n",
    "        for i in (index, index + 1):\n",
    "            dfs(path + [triangle[deepth + 1][i]], i, deepth + 1)\n",
    "\n",
    "    dfs(triangle[0], 0, 0)\n",
    "    return res\n",
    "\n",
    "\n",
    "# f([[2],[3,4],[6,5,7],[4,1,8,3]])\n",
    "f([[2]])"
   ]
  },
  {
   "cell_type": "code",
   "execution_count": 22,
   "metadata": {},
   "outputs": [
    {
     "data": {
      "text/plain": [
       "(11, -10)"
      ]
     },
     "execution_count": 22,
     "metadata": {},
     "output_type": "execute_result"
    }
   ],
   "source": [
    "# dp[i][j] 以第索引为i行的 索引为j的数字结尾的最小路径和  0<=j<=i\n",
    "# dp[i][j] = min(dp[i-1][j]+triangle[i][j],dp[i-1][j-1]+triangle[i][j]) i>=1\n",
    "# if j==0 dp[i][j]=dp[i-1][0]+triangle[i][j] elif j==i dp[i][j]=dp[i-1][i-1]+triangle[i][j]\n",
    "# BaseCase dp[0][0] = triangle[0][0]\n",
    "def f(triangle: list):\n",
    "    dp = [[0] * (i + 1) for i in range(len(triangle))]\n",
    "    dp[0][0] = triangle[0][0]\n",
    "    for i in range(1, len(triangle)):\n",
    "        for j in range(i + 1):\n",
    "            if j == 0:\n",
    "                dp[i][j] = dp[i - 1][0] + triangle[i][j]\n",
    "            elif j == i:\n",
    "                dp[i][j] = dp[i - 1][i - 1] + triangle[i][j]\n",
    "            else:\n",
    "                dp[i][j] = min(dp[i - 1][j] + triangle[i][j], dp[i - 1][j - 1] + triangle[i][j])\n",
    "    return min(dp[-1])\n",
    "\n",
    "\n",
    "f([[2], [3, 4], [6, 5, 7], [4, 1, 8, 3]]), f([[-10]])\n"
   ]
  },
  {
   "cell_type": "code",
   "execution_count": null,
   "metadata": {},
   "outputs": [],
   "source": []
  }
 ],
 "metadata": {
  "interpreter": {
   "hash": "aee8b7b246df8f9039afb4144a1f6fd8d2ca17a180786b69acc140d282b71a49"
  },
  "kernelspec": {
   "display_name": "Python 3.10.1 64-bit",
   "language": "python",
   "name": "python3"
  },
  "language_info": {
   "codemirror_mode": {
    "name": "ipython",
    "version": 3
   },
   "file_extension": ".py",
   "mimetype": "text/x-python",
   "name": "python",
   "nbconvert_exporter": "python",
   "pygments_lexer": "ipython3",
   "version": "3.10.1"
  },
  "orig_nbformat": 4
 },
 "nbformat": 4,
 "nbformat_minor": 2
}
