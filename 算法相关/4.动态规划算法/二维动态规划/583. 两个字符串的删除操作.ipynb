{
 "cells": [
  {
   "cell_type": "code",
   "execution_count": 11,
   "metadata": {},
   "outputs": [
    {
     "data": {
      "text/plain": [
       "4"
      ]
     },
     "execution_count": 11,
     "metadata": {},
     "output_type": "execute_result"
    }
   ],
   "source": [
    "# 超时\n",
    "import collections\n",
    "\n",
    "\n",
    "def minDistance(word1: str, word2: str) -> int:\n",
    "    q = collections.deque([(0, word1, word2)])\n",
    "    vis = set()\n",
    "    while q:\n",
    "        step, w1, w2 = q.popleft()\n",
    "        if w1 == w2:\n",
    "            return step\n",
    "        if (w1, w2) not in vis:\n",
    "            vis.add((w1, w2))\n",
    "            for i in range(len(w1)):\n",
    "                q.append((step + 1, w1[:i] + w1[i + 1:], w2))\n",
    "            for i in range(len(w2)):\n",
    "                q.append((step + 1, w1, w2[:i] + w2[i + 1:]))\n",
    "\n",
    "\n",
    "minDistance('sea', 'eat')\n",
    "minDistance('leetcode', 'etco')\n"
   ]
  },
  {
   "cell_type": "code",
   "execution_count": 13,
   "metadata": {},
   "outputs": [
    {
     "data": {
      "text/plain": [
       "4"
      ]
     },
     "execution_count": 13,
     "metadata": {},
     "output_type": "execute_result"
    }
   ],
   "source": [
    "# 其实就是len(word1)+len(word2)-最长公共子序列 #1143\n",
    "# dp[i][j] word1[:i]和word[:j]的最长公共子序列\n",
    "def minDistance(word1: str, word2: str) -> int:\n",
    "    sz1, sz2 = len(word1), len(word2)\n",
    "    dp = [[0] * (sz2 + 1) for _ in range(sz1 + 1)]\n",
    "    for i in range(1, sz1 + 1):\n",
    "        for j in range(1, sz2 + 1):\n",
    "            if word1[i - 1] == word2[j - 1]:\n",
    "                dp[i][j] = dp[i - 1][j - 1] + 1\n",
    "            else:\n",
    "                dp[i][j] = max(dp[i][j - 1], dp[i - 1][j])\n",
    "    return sz1 + sz2 - dp[-1][-1] * 2\n",
    "\n",
    "\n",
    "minDistance('sea', 'eat')\n",
    "minDistance('leetcode', 'etco')"
   ]
  },
  {
   "cell_type": "code",
   "execution_count": 2,
   "metadata": {},
   "outputs": [
    {
     "data": {
      "text/plain": [
       "4"
      ]
     },
     "execution_count": 2,
     "metadata": {},
     "output_type": "execute_result"
    }
   ],
   "source": [
    "# dp[i][j] s1[:i]和s2[:j]最少删除字符数可以变成相同 ->dp[sz1][sz2] 0<=i,j<=sz1,sz2\n",
    "# dp[i][j]=dp[i-1][j-1] if s1[i-1]==s2[j-1] else min(dp[i][j-1]+1,dp[i-1][j]+1) i,j>=1\n",
    "# dp[0][n]=n dp[n][0]=n\n",
    "def minDistance(word1: str, word2: str) -> int:\n",
    "    sz1, sz2 = len(word1), len(word2)\n",
    "    dp = [[0] * (sz2 + 1) for _ in range(sz1 + 1)]\n",
    "    for j in range(sz2 + 1):\n",
    "        dp[0][j] = j\n",
    "    for i in range(sz1 + 1):\n",
    "        dp[i][0] = i\n",
    "    for i in range(1, sz1 + 1):\n",
    "        for j in range(1, sz2 + 1):\n",
    "            dp[i][j] = dp[i - 1][j - 1] if word1[i - 1] == word2[j - 1] else min(dp[i][j - 1] + 1, dp[i - 1][j] + 1)\n",
    "    return dp[-1][-1]\n",
    "\n",
    "\n",
    "minDistance('sea', 'eat')\n",
    "minDistance('leetcode', 'etco')"
   ]
  },
  {
   "cell_type": "code",
   "execution_count": 2,
   "metadata": {},
   "outputs": [
    {
     "data": {
      "text/plain": [
       "4"
      ]
     },
     "execution_count": 2,
     "metadata": {},
     "output_type": "execute_result"
    }
   ],
   "source": [
    "# dp[i][j] s1[:i]和s2[:j]最少删除字符数可以变成相同 ->dp[sz1][sz2] 0<=i,j<=sz1,sz2\n",
    "# dp[i][j]=dp[i-1][j-1] if s1[i-1]==s2[j-1] else min(dp[i][j-1]+1,dp[i-1][j]+1) i,j>=1\n",
    "# dp[0][n]=n dp[n][0]=n\n",
    "from functools import lru_cache\n",
    "\n",
    "\n",
    "def minDistance(word1: str, word2: str) -> int:\n",
    "    sz1, sz2 = len(word1), len(word2)\n",
    "\n",
    "    @lru_cache(None)\n",
    "    def dp(i, j):\n",
    "        if i == 0:\n",
    "            return j\n",
    "        if j == 0:\n",
    "            return i\n",
    "        if word1[i - 1] == word2[j - 1]:\n",
    "            return dp(i - 1, j - 1)\n",
    "        else:\n",
    "            return min(dp(i - 1, j) + 1, dp(i, j - 1) + 1)\n",
    "\n",
    "    return dp(sz1, sz2)\n",
    "\n",
    "\n",
    "minDistance('sea', 'eat')\n",
    "minDistance('leetcode', 'etco')"
   ]
  },
  {
   "cell_type": "code",
   "execution_count": 3,
   "metadata": {},
   "outputs": [
    {
     "data": {
      "text/plain": [
       "4"
      ]
     },
     "execution_count": 3,
     "metadata": {},
     "output_type": "execute_result"
    }
   ],
   "source": [
    "# dp[i][j] s1[:i]和s2[:j]最少删除字符数可以变成相同 ->dp[sz1][sz2] 0<=i,j<=sz1,sz2\n",
    "# dp[i][j]=dp[i-1][j-1] if s1[i-1]==s2[j-1] else min(dp[i][j-1]+1,dp[i-1][j]+1) i,j>=1\n",
    "# dp[0][n]=n dp[n][0]=n\n",
    "from functools import lru_cache\n",
    "\n",
    "\n",
    "def minDistance(word1: str, word2: str) -> int:\n",
    "    sz1, sz2 = len(word1), len(word2)\n",
    "\n",
    "    mem = {}\n",
    "\n",
    "    def dp(i, j):\n",
    "        if (i, j) in mem:\n",
    "            return mem[(i, j)]\n",
    "        if i == 0:\n",
    "            return j\n",
    "        if j == 0:\n",
    "            return i\n",
    "        if word1[i - 1] == word2[j - 1]:\n",
    "            mem[(i, j)] = dp(i - 1, j - 1)\n",
    "        else:\n",
    "            mem[(i, j)] = min(dp(i - 1, j) + 1, dp(i, j - 1) + 1)\n",
    "        return mem[(i, j)]\n",
    "\n",
    "    return dp(sz1, sz2)\n",
    "\n",
    "\n",
    "minDistance('sea', 'eat')\n",
    "minDistance('leetcode', 'etco')"
   ]
  },
  {
   "cell_type": "code",
   "execution_count": null,
   "metadata": {},
   "outputs": [],
   "source": []
  }
 ],
 "metadata": {
  "interpreter": {
   "hash": "aee8b7b246df8f9039afb4144a1f6fd8d2ca17a180786b69acc140d282b71a49"
  },
  "kernelspec": {
   "display_name": "Python 3.10.1 64-bit",
   "language": "python",
   "name": "python3"
  },
  "language_info": {
   "codemirror_mode": {
    "name": "ipython",
    "version": 3
   },
   "file_extension": ".py",
   "mimetype": "text/x-python",
   "name": "python",
   "nbconvert_exporter": "python",
   "pygments_lexer": "ipython3",
   "version": "3.10.1"
  },
  "orig_nbformat": 4
 },
 "nbformat": 4,
 "nbformat_minor": 2
}
