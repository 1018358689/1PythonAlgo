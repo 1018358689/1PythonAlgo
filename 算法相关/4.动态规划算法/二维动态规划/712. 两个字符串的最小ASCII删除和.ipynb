{
 "cells": [
  {
   "cell_type": "code",
   "execution_count": null,
   "metadata": {},
   "outputs": [],
   "source": []
  },
  {
   "cell_type": "code",
   "execution_count": 2,
   "metadata": {},
   "outputs": [
    {
     "data": {
      "text/plain": [
       "231"
      ]
     },
     "execution_count": 2,
     "metadata": {},
     "output_type": "execute_result"
    }
   ],
   "source": [
    "def f(s1, s2):\n",
    "    # dp[i][j] s1[:i]和s2[:j]使相等所需的最小删除ascii值 -> dp[sz1][sz2] 0<=i,j<=sz1,sz2\n",
    "    # dp[i][j] = dp[i-1][j-1] if s1[i-1]==s2[j-1] else min(dp[i-1][j]+ord(s1[i-1]),dp[i][j-1]+ord(s2[j-1])) i,j>=1\n",
    "    # dp[0][j]= sum(ord(s2[0:j])) dp[i][0] = sum(ord(s1[0:i]))\n",
    "    sz1, sz2 = len(s1), len(s2)\n",
    "    dp = [[0] * (sz2 + 1) for _ in range(sz1 + 1)]\n",
    "    ord1 = 0\n",
    "    for i in range(sz1):\n",
    "        ord1 += ord(s1[i])\n",
    "        dp[i + 1][0] = ord1\n",
    "    ord2 = 0\n",
    "    for j in range(sz2):\n",
    "        ord2 += ord(s2[j])\n",
    "        dp[0][j + 1] = ord2\n",
    "    for i in range(1, sz1 + 1):\n",
    "        for j in range(1, sz2 + 1):\n",
    "            dp[i][j] = dp[i - 1][j - 1] if s1[i - 1] == s2[j - 1] else min(dp[i - 1][j] + ord(s1[i - 1]), dp[i][j - 1] + ord(s2[j - 1]))\n",
    "    return dp[-1][-1]\n",
    "\n",
    "\n",
    "f('sea', 'eat')\n"
   ]
  },
  {
   "cell_type": "code",
   "execution_count": null,
   "metadata": {},
   "outputs": [],
   "source": []
  }
 ],
 "metadata": {
  "interpreter": {
   "hash": "aee8b7b246df8f9039afb4144a1f6fd8d2ca17a180786b69acc140d282b71a49"
  },
  "kernelspec": {
   "display_name": "Python 3.10.1 64-bit",
   "language": "python",
   "name": "python3"
  },
  "language_info": {
   "codemirror_mode": {
    "name": "ipython",
    "version": 3
   },
   "file_extension": ".py",
   "mimetype": "text/x-python",
   "name": "python",
   "nbconvert_exporter": "python",
   "pygments_lexer": "ipython3",
   "version": "3.10.1"
  },
  "orig_nbformat": 4
 },
 "nbformat": 4,
 "nbformat_minor": 2
}
