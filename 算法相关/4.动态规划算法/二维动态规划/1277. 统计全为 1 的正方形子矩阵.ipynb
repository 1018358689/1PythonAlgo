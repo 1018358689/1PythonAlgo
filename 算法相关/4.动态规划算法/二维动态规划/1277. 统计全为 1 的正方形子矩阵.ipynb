{
 "cells": [
  {
   "cell_type": "code",
   "execution_count": 4,
   "metadata": {},
   "outputs": [
    {
     "data": {
      "text/plain": [
       "15"
      ]
     },
     "execution_count": 4,
     "metadata": {},
     "output_type": "execute_result"
    }
   ],
   "source": [
    "def f(matrix: list):\n",
    "    # dp[r][c] 以matrix[r][c]作为右下角的最大边长\n",
    "    # 最大边长也是子正方形个数 例如最大边长3 那么子矩形中 边长1有1个 边长2有1个 边长3有1个 共3个\n",
    "    # dp[r][c] = min(dp[r-1][c-1],dp[r-1][c],dp[r][c-1])+1\n",
    "    # basecase 第一行第一列是本身\n",
    "    rows, cols = len(matrix), len(matrix[0])\n",
    "    dp = matrix\n",
    "    for r in range(1, rows):\n",
    "        for c in range(1, cols):\n",
    "            if matrix[r][c] == 1:\n",
    "                dp[r][c] = min(dp[r - 1][c - 1], dp[r - 1][c], dp[r][c - 1]) + 1\n",
    "            else:\n",
    "                dp[r][c] = 0\n",
    "    return sum(sum(matrix[r]) for r in range(rows))\n",
    "\n",
    "\n",
    "f([[0, 1, 1, 1], [1, 1, 1, 1], [0, 1, 1, 1]])\n"
   ]
  }
 ],
 "metadata": {
  "interpreter": {
   "hash": "a5f34674cfcc9b13426a2d112c686bc132e4ef443f1487e707e7c3787d6bcf89"
  },
  "kernelspec": {
   "display_name": "Python 3.10.3 64-bit (windows store)",
   "language": "python",
   "name": "python3"
  },
  "language_info": {
   "codemirror_mode": {
    "name": "ipython",
    "version": 3
   },
   "file_extension": ".py",
   "mimetype": "text/x-python",
   "name": "python",
   "nbconvert_exporter": "python",
   "pygments_lexer": "ipython3",
   "version": "3.10.3"
  },
  "orig_nbformat": 4
 },
 "nbformat": 4,
 "nbformat_minor": 2
}
