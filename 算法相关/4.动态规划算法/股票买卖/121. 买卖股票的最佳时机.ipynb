{
 "cells": [
  {
   "cell_type": "code",
   "execution_count": null,
   "metadata": {},
   "outputs": [],
   "source": [
    "# https://mp.weixin.qq.com/s?__biz=MzAxODQxMDM0Mw==&mid=2247494095&idx=4&sn=7aed55b22e93c0e43b83172923b51acc&scene=21#wechat_redirect\n",
    "# 状态：第索引几天 最大交易次数 是否持有股票 \n",
    "# 选择：买入 卖出 无操作\n",
    "\n",
    "# dp[i][k][0/1] 第i天 最大交易次数限制下 未持有/持有 股票 时所得最大利润 [0,len-1] -> dp[len(nums-1)][0]\n",
    "# dp[i][k][0] = max(dp[i-1][k][0],dp[i-1][k][1]+prices[i])\n",
    "# 第i天 最大交易次数限制k 未持有股票 = max(今天选择无操作,今天买入)\n",
    "# dp[i][k][1] = max(dp[i-1][k][1],dp[i-1][k-1][0]-prices[i])\n",
    "# 第i天 最大交易次数限制k 持有股票 = max(今天选择无操作,今天卖出)\n",
    "\n",
    "# dp[...][0][0] = 0 不给交易 就不该持有股票 利润为0\n",
    "# dp[...][0][1] = -inf 不给交易 还持有股票 利润负无穷 方便后面取max\n",
    "# dp[0][...][0] = 0 只有一天 不该持有股票 利润0\n",
    "# dp[0][...][1] = -prices[0] 只有一天 还持有股票 亏那只股票"
   ]
  },
  {
   "cell_type": "code",
   "execution_count": 15,
   "metadata": {},
   "outputs": [
    {
     "data": {
      "text/plain": [
       "(5, 0, 0)"
      ]
     },
     "execution_count": 15,
     "metadata": {},
     "output_type": "execute_result"
    }
   ],
   "source": [
    "def f(prices: list):\n",
    "    dp = [[[0]*2 for _ in range(2)] for _ in range(len(prices))]\n",
    "    for i in range(len(prices)):\n",
    "        dp[i][0][0] = 0\n",
    "        dp[i][0][1] = float('-inf')\n",
    "    for k in {0, 1}:\n",
    "        dp[0][k][0] = 0\n",
    "        dp[0][k][1] = -prices[0]\n",
    "    for i in range(1, len(prices)):\n",
    "        dp[i][1][0] = max(dp[i - 1][1][0], dp[i - 1][1][1] + prices[i])\n",
    "        dp[i][1][1] = max(dp[i - 1][1][1], dp[i - 1][0][0] - prices[i])\n",
    "    return dp[-1][1][0]\n",
    "\n",
    "\n",
    "f([7, 1, 5, 3, 6, 4]), f([7, 6, 4, 3, 1]), f([2])\n",
    "# f([1,2])\n"
   ]
  },
  {
   "cell_type": "code",
   "execution_count": 14,
   "metadata": {},
   "outputs": [
    {
     "data": {
      "text/plain": [
       "1"
      ]
     },
     "execution_count": 14,
     "metadata": {},
     "output_type": "execute_result"
    }
   ],
   "source": [
    "def f(prices: list):\n",
    "    leftMin = float('inf')\n",
    "    res = float('-inf')\n",
    "    for price in prices:\n",
    "        res = max(res, price - leftMin)\n",
    "        leftMin = min(leftMin, price)\n",
    "    return max(res, 0)\n",
    "\n",
    "\n",
    "f([7, 1, 5, 3, 6, 4]), f([7, 6, 4, 3, 1]), f([2])\n",
    "f([1, 2])\n"
   ]
  },
  {
   "cell_type": "code",
   "execution_count": null,
   "metadata": {},
   "outputs": [],
   "source": [
    "from math import inf\n",
    "from typing import List\n",
    "\n",
    "\n",
    "class Solution:\n",
    "\n",
    "    def maxProfit(self, prices: List[int]) -> int:\n",
    "        n = len(prices)\n",
    "        f0, f1 = 0, -inf\n",
    "        for x in prices:\n",
    "            f0, f1 = max(f0, f1 + x), max(f1, f0 - x)\n",
    "        return f0\n",
    "        # f = [[0] * 2 for _ in range(n + 1)]\n",
    "        # f[0][1] = -inf\n",
    "        # for i in range(n):\n",
    "        #     f[i + 1][1] = max(f[i][1], f[i][0] - prices[i])\n",
    "        #     f[i + 1][0] = max(f[i][0], f[i][1] + prices[i])\n",
    "        # return f[n][0]\n",
    "\n",
    "        # @lru_cache(None)\n",
    "        # def dfs(i, hold): # 前i天持有/不持有股票的最大利润\n",
    "        #     if i < 0:\n",
    "        #         return -inf if hold == 1 else 0\n",
    "        #     if hold == 1:\n",
    "        #         return max(dfs(i - 1, 1), dfs(i - 1, 0) - prices[i])\n",
    "        #     return max(dfs(i -1, 0), dfs(i - 1, 1) + prices[i])\n",
    "        # return dfs(n - 1, 0)"
   ]
  }
 ],
 "metadata": {
  "interpreter": {
   "hash": "aee8b7b246df8f9039afb4144a1f6fd8d2ca17a180786b69acc140d282b71a49"
  },
  "kernelspec": {
   "display_name": "Python 3.10.1 64-bit",
   "language": "python",
   "name": "python3"
  },
  "language_info": {
   "codemirror_mode": {
    "name": "ipython",
    "version": 3
   },
   "file_extension": ".py",
   "mimetype": "text/x-python",
   "name": "python",
   "nbconvert_exporter": "python",
   "pygments_lexer": "ipython3",
   "version": "3.10.1"
  },
  "orig_nbformat": 4
 },
 "nbformat": 4,
 "nbformat_minor": 2
}
