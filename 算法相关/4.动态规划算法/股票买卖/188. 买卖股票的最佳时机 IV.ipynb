{
 "cells": [
  {
   "cell_type": "code",
   "execution_count": 11,
   "metadata": {},
   "outputs": [
    {
     "data": {
      "text/plain": [
       "6"
      ]
     },
     "execution_count": 11,
     "metadata": {},
     "output_type": "execute_result"
    }
   ],
   "source": [
    "# dp[i][k][0/1] 在第i天 最大限制交易次数k 未持有/持有股票 状态下,所能获得的最大利润\n",
    "# i:[0,len-1] k:[0,k]\n",
    "# dp[i][k][0] = max(dp[i-1][k][0],dp[i-1][k][1]+prices[i])\n",
    "# dp[i][k][1] = max(dp[i-1][k][1],dp[i-1][k-1][0]-prices[i])\n",
    "# dp[-1][...][0] = 0\n",
    "# dp[-1][...][1] = float('-inf)\n",
    "# dp[...][0][0] = 0\n",
    "# dp[...][0][1] = float('-inf)\n",
    "def f(prices: list, k: int):\n",
    "    if not prices:\n",
    "        return 0\n",
    "    dp = [[[0] * 2 for _ in range(k + 1)] for _ in range(len(prices))]\n",
    "    for j in range(k + 1):\n",
    "        dp[0][j][0] = 0\n",
    "        dp[0][j][1] = -prices[0]\n",
    "    for i in range(len(prices)):\n",
    "        dp[i][0][0] = 0\n",
    "        dp[i][0][1] = float('-inf')\n",
    "    for i in range(1, len(prices)):\n",
    "        for j in range(1, k + 1):\n",
    "            dp[i][j][0] = max(dp[i - 1][j][0], dp[i - 1][j][1] + prices[i])\n",
    "            dp[i][j][1] = max(dp[i - 1][j][1], dp[i - 1][j - 1][0] - prices[i])\n",
    "    return dp[-1][-1][0]\n",
    "\n",
    "\n",
    "# f([3, 2, 6, 5, 0, 3], 2)\n",
    "# f([], 2)\n",
    "f([3, 3, 5, 0, 0, 3, 1, 4], 2)\n"
   ]
  },
  {
   "cell_type": "code",
   "execution_count": null,
   "metadata": {},
   "outputs": [],
   "source": []
  }
 ],
 "metadata": {
  "interpreter": {
   "hash": "aee8b7b246df8f9039afb4144a1f6fd8d2ca17a180786b69acc140d282b71a49"
  },
  "kernelspec": {
   "display_name": "Python 3.10.2 64-bit",
   "language": "python",
   "name": "python3"
  },
  "language_info": {
   "codemirror_mode": {
    "name": "ipython",
    "version": 3
   },
   "file_extension": ".py",
   "mimetype": "text/x-python",
   "name": "python",
   "nbconvert_exporter": "python",
   "pygments_lexer": "ipython3",
   "version": "3.10.2"
  },
  "orig_nbformat": 4
 },
 "nbformat": 4,
 "nbformat_minor": 2
}
