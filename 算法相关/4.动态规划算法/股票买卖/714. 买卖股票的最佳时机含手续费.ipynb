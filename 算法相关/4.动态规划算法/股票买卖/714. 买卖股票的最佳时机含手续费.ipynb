{
 "cells": [
  {
   "cell_type": "markdown",
   "metadata": {},
   "source": [
    "给定一个整数数组 prices，其中 prices[i]表示第 i 天的股票价格 ；整数 fee 代表了交易股票的手续费用。\n",
    "你可以无限次地完成交易，但是你每笔交易都需要付手续费。如果你已经购买了一个股票，在卖出它之前你就不能再继续购买股票了。\n",
    "返回获得利润的最大值。\n",
    "\n",
    "注意：这里的一笔交易指买入持有并卖出股票的整个过程，每笔交易你只需要为支付一次手续费。\n",
    "\n",
    "示例 1：\n",
    "输入：prices = [1, 3, 2, 8, 4, 9], fee = 2\n",
    "输出：8\n",
    "解释：能够达到的最大利润:  \n",
    "在此处买入 prices[0] = 1\n",
    "在此处卖出 prices[3] = 8\n",
    "在此处买入 prices[4] = 4\n",
    "在此处卖出 prices[5] = 9\n",
    "总利润: ((8 - 1) - 2) + ((9 - 4) - 2) = 8\n",
    "\n",
    "示例 2：\n",
    "输入：prices = [1,3,7,5,10,3], fee = 3\n",
    "输出：6"
   ]
  },
  {
   "cell_type": "code",
   "execution_count": 7,
   "metadata": {},
   "outputs": [
    {
     "data": {
      "text/plain": [
       "8"
      ]
     },
     "execution_count": 7,
     "metadata": {},
     "output_type": "execute_result"
    }
   ],
   "source": [
    "# dp[i][0/1] 第i天 未持有/持有 股票所得的最大利润\n",
    "# i:[0,len-1]\n",
    "# dp[i][0] = max(dp[i-1][0],dp[i-1][1]+prices[i]-fee)\n",
    "# dp[i][1] = max(dp[i-1][1],dp[i-1][0]-prices[i])\n",
    "# dp[0][0] = 0\n",
    "# dp[0][1] = -prices[i]\n",
    "def f(prices: list, fee: int):\n",
    "    dp = [[0] * 2 for _ in range(len(prices))]\n",
    "    dp[0][0] = 0\n",
    "    dp[0][1] = -prices[0]\n",
    "    for i in range(1, len(prices)):\n",
    "        dp[i][0] = max(dp[i - 1][0], dp[i - 1][1] + prices[i] - fee)\n",
    "        dp[i][1] = max(dp[i - 1][1], dp[i - 1][0] - prices[i])\n",
    "    return dp[-1][0]\n",
    "\n",
    "\n",
    "f([1, 3, 2, 8, 4, 9], 2)\n"
   ]
  },
  {
   "cell_type": "code",
   "execution_count": 8,
   "metadata": {},
   "outputs": [
    {
     "data": {
      "text/plain": [
       "['a', 'b', 'c']"
      ]
     },
     "execution_count": 8,
     "metadata": {},
     "output_type": "execute_result"
    }
   ],
   "source": [
    "'a b c'.split()"
   ]
  },
  {
   "cell_type": "code",
   "execution_count": null,
   "metadata": {},
   "outputs": [],
   "source": []
  }
 ],
 "metadata": {
  "interpreter": {
   "hash": "a5f34674cfcc9b13426a2d112c686bc132e4ef443f1487e707e7c3787d6bcf89"
  },
  "kernelspec": {
   "display_name": "Python 3.10.2 64-bit (windows store)",
   "language": "python",
   "name": "python3"
  },
  "language_info": {
   "codemirror_mode": {
    "name": "ipython",
    "version": 3
   },
   "file_extension": ".py",
   "mimetype": "text/x-python",
   "name": "python",
   "nbconvert_exporter": "python",
   "pygments_lexer": "ipython3",
   "version": "3.10.2"
  },
  "orig_nbformat": 4
 },
 "nbformat": 4,
 "nbformat_minor": 2
}
