{
 "cells": [
  {
   "cell_type": "code",
   "execution_count": 1,
   "metadata": {},
   "outputs": [],
   "source": [
    "# 注意 k 的限制，在选择 buy 的时候相当于开启了一次交易，那么对于昨天来说，交易次数的上限 k 应该减小 1。\n",
    "# https://mp.weixin.qq.com/s?__biz=MzAxODQxMDM0Mw==&mid=2247494095&idx=4&sn=7aed55b22e93c0e43b83172923b51acc&scene=21#wechat_redirect\n",
    "# 状态：第索引几天 最大交易次数 是否持有股票 \n",
    "# 选择：买入 卖出 无操作\n",
    "\n",
    "# dp[i][k][0/1] 第i天 最大交易次数限制下 未持有/持有 股票 时所得最大利润 [0,len-1] -> dp[len(nums-1)][0]\n",
    "# dp[i][k][0] = max(dp[i-1][k][0],dp[i-1][k][1]+prices[i])\n",
    "# 第i天 最大交易次数限制k 未持有股票 = max(今天选择无操作,今天卖出)\n",
    "# dp[i][k][1] = max(dp[i-1][k][1],dp[i-1][k-1][0]-prices[i])\n",
    "# 第i天 最大交易次数限制k 持有股票 = max(今天选择无操作,今天买入)\n",
    "\n",
    "# dp[...][0][0] = 0 不给交易 就不该持有股票 利润为0\n",
    "# dp[...][0][1] = -inf 不给交易 还持有股票 利润负无穷 方便后面取max\n",
    "# dp[0][...][0] = 0 只有一天 不该持有股票 利润0\n",
    "# dp[0][...][1] = -prices[0] 只有一天 还持有股票 亏那只股票"
   ]
  },
  {
   "cell_type": "code",
   "execution_count": 3,
   "metadata": {},
   "outputs": [
    {
     "data": {
      "text/plain": [
       "7"
      ]
     },
     "execution_count": 3,
     "metadata": {},
     "output_type": "execute_result"
    }
   ],
   "source": [
    "def f(prices: list):\n",
    "    # dp[i][0/1] 在第i天 未持有/持有 股票 状态下能得到最大利润\n",
    "    # dp[i][0] = max(dp[i - 1][0], dp[i - 1][1] + prices[i]) \n",
    "    # 当天未持有=max(昨天未持有且今日无操作,昨日持有且今日卖出)\n",
    "    # dp[i][1] = max(dp[i - 1][1], dp[i - 1][0] - prices[i])    \n",
    "    # 当天持有=max(昨天持有且今日无操作,昨日未持有且今日买入)\n",
    "    # basecase 第一天未持有=利润0   第一天持有=利润负\n",
    "    dp = [[0] * 2 for _ in range(len(prices))]\n",
    "    dp[0][0] = 0\n",
    "    dp[0][1] = -prices[0]\n",
    "    for i in range(1, len(prices)):\n",
    "        dp[i][0] = max(dp[i - 1][0], dp[i - 1][1] + prices[i])\n",
    "        dp[i][1] = max(dp[i - 1][1], dp[i - 1][0] - prices[i])\n",
    "    return dp[-1][0]\n",
    "\n",
    "\n",
    "f([7, 1, 5, 3, 6, 4])\n"
   ]
  },
  {
   "cell_type": "code",
   "execution_count": 1,
   "metadata": {},
   "outputs": [
    {
     "data": {
      "text/plain": [
       "7"
      ]
     },
     "execution_count": 1,
     "metadata": {},
     "output_type": "execute_result"
    }
   ],
   "source": [
    "def f(prices: list):\n",
    "    # 预知未来股价有赚就卖\n",
    "    ans = 0\n",
    "    for i in range(1, len(prices)):\n",
    "        # 后一天有赚则操作买卖 没有赚则不买\n",
    "        ans += max(prices[i] - prices[i - 1], 0)\n",
    "    return ans\n",
    "\n",
    "\n",
    "f([7, 1, 5, 3, 6, 4])\n"
   ]
  },
  {
   "cell_type": "code",
   "execution_count": null,
   "metadata": {},
   "outputs": [],
   "source": []
  }
 ],
 "metadata": {
  "interpreter": {
   "hash": "aee8b7b246df8f9039afb4144a1f6fd8d2ca17a180786b69acc140d282b71a49"
  },
  "kernelspec": {
   "display_name": "Python 3.10.1 64-bit",
   "language": "python",
   "name": "python3"
  },
  "language_info": {
   "codemirror_mode": {
    "name": "ipython",
    "version": 3
   },
   "file_extension": ".py",
   "mimetype": "text/x-python",
   "name": "python",
   "nbconvert_exporter": "python",
   "pygments_lexer": "ipython3",
   "version": "3.10.1"
  },
  "orig_nbformat": 4
 },
 "nbformat": 4,
 "nbformat_minor": 2
}
