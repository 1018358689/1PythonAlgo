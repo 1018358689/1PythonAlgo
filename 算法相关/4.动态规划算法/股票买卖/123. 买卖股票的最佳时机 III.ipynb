{
 "cells": [
  {
   "cell_type": "code",
   "execution_count": 2,
   "metadata": {},
   "outputs": [
    {
     "data": {
      "text/plain": [
       "6"
      ]
     },
     "execution_count": 2,
     "metadata": {},
     "output_type": "execute_result"
    }
   ],
   "source": [
    "# dp[i][k][0/1] 在第i天 最高限制k笔 未持有/持有 所得最大利润\n",
    "# dp[i][k][0] = max(dp[i-1][k][0],dp[i-1][k][1]+prices[i])\n",
    "# dp[i][k][1] = max(dp[i-1][k][1],dp[i-1][k-1][0]-prices[i])\n",
    "# basecase\n",
    "# dp[0][...][0] = 0\n",
    "# dp[0][...][1] = -prices[0]\n",
    "# dp[...][0][0] = 0\n",
    "# dp[...][0][1] = float('-inf)\n",
    "\n",
    "\n",
    "def f(prices: list):\n",
    "    dp = [[[0]*2 for _ in range(2 + 1)] for _ in range(len(prices))]\n",
    "    for k in range(3):\n",
    "        dp[0][k][0] = 0\n",
    "        dp[0][k][1] = -prices[0]\n",
    "    for i in range(len(prices)):\n",
    "        dp[i][0][0] = 0\n",
    "        dp[i][0][1] = float('-inf')\n",
    "    for i in range(1, len(prices)):\n",
    "        for k in range(1, 3):\n",
    "            dp[i][k][0] = max(dp[i - 1][k][0], dp[i - 1][k][1] + prices[i])\n",
    "            dp[i][k][1] = max(dp[i - 1][k][1], dp[i - 1][k - 1][0] - prices[i])\n",
    "    return dp[-1][2][0]\n",
    "\n",
    "\n",
    "f([3, 3, 5, 0, 0, 3, 1, 4])\n"
   ]
  },
  {
   "cell_type": "code",
   "execution_count": 1,
   "metadata": {},
   "outputs": [],
   "source": [
    "from typing import List\n",
    "from collections import defaultdict\n",
    "\n",
    "\n",
    "class Solution:\n",
    "\n",
    "    def maxProfit(self, prices: List[int]) -> int:\n",
    "        # dp[i][k][0/1] 第i天 限制交易k笔 不持有/持有 股票的状态下所得的最大利润\n",
    "        # dp[i][k][0] = max(dp[i-1][k][0],dp[i-1][k][1]+prices[i])\n",
    "        # dp[i][k][1] = max(dp[i-1][k-1][0]-prices[i],dp[i-1][k][1])\n",
    "        # dp[0][k][0] = 0\n",
    "        # dp[0][k][1] = -prices[0]\n",
    "        # dp[i][0][0] = 0\n",
    "        # dp[i][0][1] = float('-inf')\n",
    "        dp = defaultdict(lambda: defaultdict(lambda: defaultdict(lambda: float('-inf'))))\n",
    "        for k in range(3):\n",
    "            dp[0][k][0] = 0\n",
    "            dp[0][k][1] = -prices[0]\n",
    "        for i in range(len(prices)):\n",
    "            dp[i][0][0] = 0\n",
    "            dp[i][0][1] = float('-inf')\n",
    "        for i in range(1, len(prices)):\n",
    "            for k in range(1, 3):\n",
    "                dp[i][k][0] = max(dp[i - 1][k][0], dp[i - 1][k][1] + prices[i])\n",
    "                dp[i][k][1] = max(dp[i - 1][k - 1][0] - prices[i], dp[i - 1][k][1])\n",
    "        # print(dp[len(prices)-1][2])\n",
    "        return dp[len(prices) - 1][2][0]\n"
   ]
  },
  {
   "cell_type": "code",
   "execution_count": null,
   "metadata": {},
   "outputs": [],
   "source": [
    "import itertools\n",
    "for i, j, z in itertools.product(range(5), range(4), range(7)):\n",
    "    print(i,j,z)"
   ]
  },
  {
   "cell_type": "code",
   "execution_count": null,
   "metadata": {},
   "outputs": [],
   "source": []
  }
 ],
 "metadata": {
  "kernelspec": {
   "display_name": "Python 3.10.5 64-bit",
   "language": "python",
   "name": "python3"
  },
  "language_info": {
   "codemirror_mode": {
    "name": "ipython",
    "version": 3
   },
   "file_extension": ".py",
   "mimetype": "text/x-python",
   "name": "python",
   "nbconvert_exporter": "python",
   "pygments_lexer": "ipython3",
   "version": "3.10.5"
  },
  "orig_nbformat": 4,
  "vscode": {
   "interpreter": {
    "hash": "3196968d684371006099b3d55edeef8ed90365227a30deaef86e5d4aa8519be0"
   }
  }
 },
 "nbformat": 4,
 "nbformat_minor": 2
}
