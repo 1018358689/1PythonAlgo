{
 "cells": [
  {
   "cell_type": "code",
   "execution_count": 2,
   "metadata": {},
   "outputs": [
    {
     "data": {
      "text/plain": [
       "6"
      ]
     },
     "execution_count": 2,
     "metadata": {},
     "output_type": "execute_result"
    }
   ],
   "source": [
    "# dp[i][k][0/1] 在第i天 最高限制k笔 未持有/持有 所得最大利润\n",
    "# dp[i][k][0] = max(dp[i-1][k][0],dp[i-1][k][1]+prices[i])\n",
    "# dp[i][k][1] = max(dp[i-1][k][1],dp[i-1][k-1][0]-prices[i])\n",
    "# basecase\n",
    "# dp[0][...][0] = 0\n",
    "# dp[0][...][1] = -prices[0]\n",
    "# dp[...][0][0] = 0\n",
    "# dp[...][0][1] = float('-inf)\n",
    "\n",
    "\n",
    "def f(prices: list):\n",
    "    dp = [[[0]*2 for _ in range(2 + 1)] for _ in range(len(prices))]\n",
    "    for k in range(3):\n",
    "        dp[0][k][0] = 0\n",
    "        dp[0][k][1] = -prices[0]\n",
    "    for i in range(len(prices)):\n",
    "        dp[i][0][0] = 0\n",
    "        dp[i][0][1] = float('-inf')\n",
    "    for i in range(1, len(prices)):\n",
    "        for k in range(1, 3):\n",
    "            dp[i][k][0] = max(dp[i - 1][k][0], dp[i - 1][k][1] + prices[i])\n",
    "            dp[i][k][1] = max(dp[i - 1][k][1], dp[i - 1][k - 1][0] - prices[i])\n",
    "    return dp[-1][2][0]\n",
    "\n",
    "\n",
    "f([3, 3, 5, 0, 0, 3, 1, 4])\n"
   ]
  },
  {
   "cell_type": "code",
   "execution_count": null,
   "metadata": {},
   "outputs": [],
   "source": []
  }
 ],
 "metadata": {
  "interpreter": {
   "hash": "aee8b7b246df8f9039afb4144a1f6fd8d2ca17a180786b69acc140d282b71a49"
  },
  "kernelspec": {
   "display_name": "Python 3.10.1 64-bit",
   "language": "python",
   "name": "python3"
  },
  "language_info": {
   "codemirror_mode": {
    "name": "ipython",
    "version": 3
   },
   "file_extension": ".py",
   "mimetype": "text/x-python",
   "name": "python",
   "nbconvert_exporter": "python",
   "pygments_lexer": "ipython3",
   "version": "3.10.1"
  },
  "orig_nbformat": 4
 },
 "nbformat": 4,
 "nbformat_minor": 2
}
