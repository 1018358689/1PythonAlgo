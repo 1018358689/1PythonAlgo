{
 "cells": [
  {
   "cell_type": "markdown",
   "metadata": {},
   "source": [
    "给定一个整数数组prices，其中第  prices[i] 表示第 i 天的股票价格 。​\n",
    "\n",
    "设计一个算法计算出最大利润。在满足以下约束条件下，你可以尽可能地完成更多的交易（多次买卖一支股票）:\n",
    "\n",
    "卖出股票后，你无法在第二天买入股票 (即冷冻期为 1 天)。\n",
    "注意：你不能同时参与多笔交易（你必须在再次购买前出售掉之前的股票）。\n",
    "\n",
    "示例 1:\n",
    "输入: prices = [1,2,3,1,1,0,2]\n",
    "输出: 4\n",
    "解释: 对应的选择为: [买入, 无操, 卖出, 冷冻, 无操, 买入, 卖出]\n",
    "            状态: [  00,  00,  01,   02,  02,  00,  01]\n",
    "                     \n",
    "示例 2:\n",
    "输入: prices = [1]\n",
    "输出: 0\n",
    "\n",
    "来源：力扣（LeetCode）\n",
    "链接：https://leetcode-cn.com/problems/best-time-to-buy-and-sell-stock-with-cooldown\n",
    "著作权归领扣网络所有。商业转载请联系官方授权，非商业转载请注明出处。"
   ]
  },
  {
   "cell_type": "code",
   "execution_count": null,
   "metadata": {},
   "outputs": [],
   "source": [
    "from functools import lru_cache\n",
    "from typing import List\n",
    "\n",
    "\n",
    "class Solution:\n",
    "    def maxProfit(self, prices: List[int]) -> int:\n",
    "        n = len(prices)\n",
    "        @lru_cache(None)\n",
    "        def dfs(i, hold): # 前i天持有/不持有股票的最大利润\n",
    "            if i < 0:\n",
    "                return -inf if hold == 1 else 0\n",
    "            if hold == 1:\n",
    "                return max(dfs(i - 1, 1), dfs(i - 2, 0) - prices[i])\n",
    "            return max(dfs(i -1, 0), dfs(i - 1, 1) + prices[i])\n",
    "        return dfs(n - 1, 0)"
   ]
  },
  {
   "cell_type": "code",
   "execution_count": 2,
   "metadata": {},
   "outputs": [
    {
     "data": {
      "text/plain": [
       "3"
      ]
     },
     "execution_count": 2,
     "metadata": {},
     "output_type": "execute_result"
    }
   ],
   "source": [
    "# dp[i][0/1/2] 在第i天 持有/未持有且当天卖/未持有且当天没卖 状态下 最高可的利润\n",
    "# i:[0,len-1]\n",
    "# dp[i][0] = max(dp[i-1][0],dp[i-1][2]-prices[i]) # 持有:max(继承昨天,昨天未持有且当天没卖)\n",
    "# dp[i][1] = dp[i-1][0]+prices[i] # 未持有且当天卖了:昨天持有今天卖\n",
    "# dp[i][2] = max(dp[i-1][2],dp[i-1][1]) # 未持有且当天没有卖:max(继承昨天未持有)\n",
    "# dp[0][0] = -prices[0]\n",
    "# dp[0][1] = float('-inf')\n",
    "# dp[0][2] = 0\n",
    "def f(prices: list):\n",
    "    dp = [[0] * 3 for _ in range(len(prices))]\n",
    "    dp[0][0] = -prices[0]\n",
    "    dp[0][1] = float('-inf')\n",
    "    dp[0][2] = 0\n",
    "    for i in range(1, len(prices)):\n",
    "        dp[i][0] = max(dp[i - 1][0], dp[i - 1][2] - prices[i])\n",
    "        dp[i][1] = dp[i - 1][0] + prices[i]\n",
    "        dp[i][2] = max(dp[i - 1][2], dp[i - 1][1])\n",
    "    return max(dp[-1])\n",
    "\n",
    "\n",
    "f([1, 2, 3, 0, 2])\n"
   ]
  },
  {
   "cell_type": "code",
   "execution_count": 7,
   "metadata": {},
   "outputs": [
    {
     "data": {
      "text/plain": [
       "3"
      ]
     },
     "execution_count": 7,
     "metadata": {},
     "output_type": "execute_result"
    }
   ],
   "source": [
    "# dp[i][0/1] 第i天未持有/持有股票的最大利润\n",
    "# i:[0,len-1]\n",
    "# 每次 sell 之后要等一天才能继续交易\n",
    "# dp[i][0] = max(dp[i-1][0],dp[i-1][1]+prices[i]) # 当天未持有股票 = max(继承,昨天持有股票今天卖)\n",
    "# dp[i][1] = max(dp[i-1][1],dp[i-2][0]-prices[i]) # 当天持有股票 = max(继承,前天未持有股票今天买)\n",
    "# dp[0][0] = 0\n",
    "# dp[0][1] = -prices[0]\n",
    "# dp[1][0] = max(0,prices[1]-prices[0])\n",
    "# dp[1][1] = max(-prices[1], -prices[0])\n",
    "def f(prices: list):\n",
    "    dp = [[0] * 2 for _ in range(len(prices))]\n",
    "    if len(prices) == 1:\n",
    "        return 0\n",
    "    dp[0][0] = 0\n",
    "    dp[0][1] = -prices[0]\n",
    "    dp[1][0] = max(0, prices[1] - prices[0])\n",
    "    dp[1][1] = max(-prices[1], -prices[0])\n",
    "    for i in range(2, len(prices)):\n",
    "        dp[i][0] = max(dp[i - 1][0], dp[i - 1][1] + prices[i])  # 当天未持有股票 = max(继承,昨天持有股票今天卖)\n",
    "        dp[i][1] = max(dp[i - 1][1], dp[i - 2][0] - prices[i])  # 当天持有股票 = max(继承,前天未持有股票今天买)\n",
    "    return max(dp[-1])\n",
    "\n",
    "\n",
    "f([1, 2, 3, 0, 2])\n"
   ]
  },
  {
   "cell_type": "code",
   "execution_count": 6,
   "metadata": {},
   "outputs": [
    {
     "data": {
      "text/plain": [
       "3"
      ]
     },
     "execution_count": 6,
     "metadata": {},
     "output_type": "execute_result"
    }
   ],
   "source": [
    "# dp[i][0/1/2] 第i天未 持有股票/未持有股票且冷冻/未持有股票未冷冻 的最大利润 (其中冷冻指当天交易结束后处于冷冻期)\n",
    "# i:[0,len-1]\n",
    "# 每次 sell 之后要等一天冷冻期才能继续交易\n",
    "# dp[i][0] = max(dp[i-1][0],dp[i-1][2]-prices[i])\n",
    "# dp[i][1] = dp[i-1][0]+prices[i]\n",
    "# dp[i][2] = max(dp[i-1][2],dp[i-1][1])\n",
    "# dp[0][0] = -prices[0]\n",
    "# dp[0][1] = float('-inf')\n",
    "# dp[0][2] = 0\n",
    "\n",
    "\n",
    "def f(prices: list):\n",
    "    if len(prices) == 1: return 0\n",
    "    dp = [[0] * 3 for _ in range(len(prices))]\n",
    "    dp[0][0] = -prices[0]\n",
    "    dp[0][1] = float('-inf')\n",
    "    dp[0][2] = 0\n",
    "    for i in range(1, len(prices)):\n",
    "        dp[i][0] = max(dp[i - 1][0], dp[i - 1][2] - prices[i])\n",
    "        dp[i][1] = dp[i - 1][0] + prices[i]\n",
    "        dp[i][2] = max(dp[i - 1][2], dp[i - 1][1])\n",
    "    return max(dp[-1])\n",
    "\n",
    "\n",
    "f([1, 2, 3, 0, 2])\n"
   ]
  },
  {
   "cell_type": "code",
   "execution_count": null,
   "metadata": {},
   "outputs": [],
   "source": []
  }
 ],
 "metadata": {
  "interpreter": {
   "hash": "a5f34674cfcc9b13426a2d112c686bc132e4ef443f1487e707e7c3787d6bcf89"
  },
  "kernelspec": {
   "display_name": "Python 3.10.2 64-bit (windows store)",
   "language": "python",
   "name": "python3"
  },
  "language_info": {
   "codemirror_mode": {
    "name": "ipython",
    "version": 3
   },
   "file_extension": ".py",
   "mimetype": "text/x-python",
   "name": "python",
   "nbconvert_exporter": "python",
   "pygments_lexer": "ipython3",
   "version": "3.10.2"
  },
  "orig_nbformat": 4
 },
 "nbformat": 4,
 "nbformat_minor": 2
}
