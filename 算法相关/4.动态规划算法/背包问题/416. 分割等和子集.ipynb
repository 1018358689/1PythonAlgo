{
 "cells": [
  {
   "cell_type": "code",
   "execution_count": 3,
   "metadata": {},
   "outputs": [
    {
     "data": {
      "text/plain": [
       "0"
      ]
     },
     "execution_count": 3,
     "metadata": {},
     "output_type": "execute_result"
    }
   ],
   "source": [
    "l = []\n",
    "sum(l)"
   ]
  },
  {
   "cell_type": "code",
   "execution_count": 1,
   "metadata": {},
   "outputs": [
    {
     "data": {
      "text/plain": [
       "False"
      ]
     },
     "execution_count": 1,
     "metadata": {},
     "output_type": "execute_result"
    }
   ],
   "source": [
    "def f(nums):\n",
    "    if sum(nums) % 2:\n",
    "        return False\n",
    "    bagsize = sum(nums) // 2\n",
    "    # dp[i][j] 对i个数中是否存在和为j [0:len] [0,bagsize]\n",
    "    # dp[0][j]=False dp[i][0]=True\n",
    "    dp = [[0] * (bagsize + 1) for _ in range(len(nums) + 1)]\n",
    "    for j in range(bagsize + 1):\n",
    "        dp[0][j] = False\n",
    "    for i in range(len(nums) + 1):\n",
    "        dp[i][0] = True\n",
    "    for i in range(1, len(nums) + 1):\n",
    "        curW = nums[i - 1]\n",
    "        for j in range(1, bagsize + 1):\n",
    "            if curW > j:\n",
    "                dp[i][j] = dp[i - 1][j]\n",
    "            else:\n",
    "                dp[i][j] = dp[i - 1][j] | dp[i - 1][j - curW]\n",
    "        if dp[i][-1]: # 当发现右可以凑出bagsize 可以提前退出\n",
    "            return True\n",
    "    return dp[-1][-1]\n",
    "\n",
    "\n",
    "f([1, 5, 11, 5])\n",
    "f([1, 2, 3, 5])\n"
   ]
  },
  {
   "cell_type": "code",
   "execution_count": 5,
   "metadata": {},
   "outputs": [
    {
     "data": {
      "text/plain": [
       "0"
      ]
     },
     "execution_count": 5,
     "metadata": {},
     "output_type": "execute_result"
    }
   ],
   "source": [
    "from collections import Counter\n",
    "Counter([1,1,2])[6]"
   ]
  },
  {
   "cell_type": "code",
   "execution_count": null,
   "metadata": {},
   "outputs": [],
   "source": []
  }
 ],
 "metadata": {
  "kernelspec": {
   "display_name": "Python 3.8.10 64-bit",
   "language": "python",
   "name": "python3"
  },
  "language_info": {
   "codemirror_mode": {
    "name": "ipython",
    "version": 3
   },
   "file_extension": ".py",
   "mimetype": "text/x-python",
   "name": "python",
   "nbconvert_exporter": "python",
   "pygments_lexer": "ipython3",
   "version": "3.8.10"
  },
  "orig_nbformat": 4,
  "vscode": {
   "interpreter": {
    "hash": "570feb405e2e27c949193ac68f46852414290d515b0ba6e5d90d076ed2284471"
   }
  }
 },
 "nbformat": 4,
 "nbformat_minor": 2
}
