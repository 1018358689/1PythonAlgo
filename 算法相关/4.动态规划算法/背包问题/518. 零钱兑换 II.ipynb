{
 "cells": [
  {
   "cell_type": "code",
   "execution_count": 3,
   "metadata": {},
   "outputs": [
    {
     "data": {
      "text/plain": [
       "1"
      ]
     },
     "execution_count": 3,
     "metadata": {},
     "output_type": "execute_result"
    }
   ],
   "source": [
    "# 完全背包组合数问题最好还是二维解决\n",
    "# 因为这是个组合问题，我们不关心硬币使用的顺序，而是硬币有没有被用到。\n",
    "# 是否使用第k个硬币受到之前情况的影响。\n",
    "def f(amount, coins):\n",
    "    # dp[i][j]用i个硬币 凑出j金额的组合数 [0,len(coins)] [0,amount]\n",
    "    # 子问题:对于第i个硬币有取或不取 两种情况 的组合数\n",
    "    # dp[0][n]=0 dp[n][0]=1\n",
    "    dp = [[0] * (amount + 1) for _ in range(len(coins) + 1)]\n",
    "    for j in range(amount + 1):\n",
    "        dp[0][j] = 0\n",
    "    for i in range(len(coins) + 1):\n",
    "        dp[i][0] = 1\n",
    "    for i in range(1, len(coins) + 1):\n",
    "        curCoin = coins[i - 1]\n",
    "        for j in range(1, amount + 1):\n",
    "            if curCoin > amount:\n",
    "                dp[i][j] = dp[i - 1][j]\n",
    "            else:\n",
    "                dp[i][j] = dp[i - 1][j] + dp[i][j - curCoin]\n",
    "    return dp[-1][-1]\n",
    "\n",
    "\n",
    "f(5, [1, 2, 5])\n",
    "f(3, [2])\n",
    "f(10, [10])\n"
   ]
  },
  {
   "cell_type": "markdown",
   "metadata": {},
   "source": [
    "正确的子问题定义应该是，k个硬币凑金额i的组合数 problem(k,i) = problem(k-1, i) + problem(k, i-coins[k])\n",
    "\n",
    "即前k个硬币凑齐金额i的组合数等于前k-1个硬币凑齐金额i的组合数加上在原来i-k的基础上使用硬币的组合数。\n",
    "说的更加直白一点，那就是用前k的硬币凑齐金额i，要分为两种情况计算，\n",
    "一种是没有用第K个硬币就凑齐了，一种是前面已经凑到了i-coins[k]，现在就差第k个硬币了。"
   ]
  },
  {
   "cell_type": "code",
   "execution_count": 2,
   "metadata": {},
   "outputs": [
    {
     "name": "stdout",
     "output_type": "stream",
     "text": [
      "[1, 1, 2, 3, 5, 9]\n"
     ]
    },
    {
     "data": {
      "text/plain": [
       "9"
      ]
     },
     "execution_count": 2,
     "metadata": {},
     "output_type": "execute_result"
    }
   ],
   "source": [
    "def f(amount, coins):\n",
    "    # dp[i] 凑i金额的方法数\n",
    "    # dp[i] = sum dp[i-c]  # 不能由i-c转移过来 因为可能是同一种组合\n",
    "    # dp[0] = 1\n",
    "    dp = [0] * (amount + 1)\n",
    "    dp[0] = 1\n",
    "    for i in range(1, amount + 1):\n",
    "        for c in coins:\n",
    "            if i - c >= 0:\n",
    "                dp[i] += dp[i - c] # 子问题是dp[i-c]即凑i-c的方法数之和\n",
    "                # 即1,1,2 和1,2,1是不同的方法 是排列的结果 与本题求组合相违背\n",
    "    print(dp)\n",
    "    return dp[-1]\n",
    "f(5, [1, 2, 5])\n"
   ]
  },
  {
   "cell_type": "code",
   "execution_count": 4,
   "metadata": {},
   "outputs": [
    {
     "name": "stdout",
     "output_type": "stream",
     "text": [
      "[1, 1, 2, 2, 3, 4]\n"
     ]
    },
    {
     "data": {
      "text/plain": [
       "4"
      ]
     },
     "execution_count": 4,
     "metadata": {},
     "output_type": "execute_result"
    }
   ],
   "source": [
    "def f(amount, coins):\n",
    "    # dp[i] 凑i金额的方法数\n",
    "    # dp[i] = sum dp[i-c]\n",
    "    # dp[0] = 1\n",
    "    dp = [0] * (amount + 1)\n",
    "    dp[0] = 1\n",
    "    for c in coins:  # 把coin放外循环保证 硬币顺序固定 是二维的降维的写法\n",
    "        for i in range(c, amount + 1):\n",
    "            dp[i] = dp[i] + dp[i - c] # 取与不取\n",
    "    print(dp)\n",
    "    return dp[-1]\n",
    "\n",
    "\n",
    "f(5, [1, 2, 5])\n"
   ]
  },
  {
   "cell_type": "code",
   "execution_count": null,
   "metadata": {},
   "outputs": [],
   "source": []
  }
 ],
 "metadata": {
  "interpreter": {
   "hash": "aee8b7b246df8f9039afb4144a1f6fd8d2ca17a180786b69acc140d282b71a49"
  },
  "kernelspec": {
   "display_name": "Python 3.10.2 64-bit",
   "language": "python",
   "name": "python3"
  },
  "language_info": {
   "codemirror_mode": {
    "name": "ipython",
    "version": 3
   },
   "file_extension": ".py",
   "mimetype": "text/x-python",
   "name": "python",
   "nbconvert_exporter": "python",
   "pygments_lexer": "ipython3",
   "version": "3.10.1"
  },
  "orig_nbformat": 4
 },
 "nbformat": 4,
 "nbformat_minor": 2
}
