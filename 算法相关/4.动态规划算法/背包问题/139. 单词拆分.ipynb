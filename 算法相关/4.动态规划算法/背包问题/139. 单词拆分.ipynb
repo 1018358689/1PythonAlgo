{
 "cells": [
  {
   "cell_type": "code",
   "execution_count": 6,
   "metadata": {},
   "outputs": [
    {
     "data": {
      "text/plain": [
       "True"
      ]
     },
     "execution_count": 6,
     "metadata": {},
     "output_type": "execute_result"
    }
   ],
   "source": [
    "# 是有序的完全背包问题 这个解法错误\n",
    "def f(s: str, wordDict: list):\n",
    "    # 完全背包\n",
    "    # dp[i][j] 是否可以用i个单词凑出s[0:j] i:[0,len] j:[0,len]\n",
    "    # basecase dp[0][j]=False dp[i][0]=True\n",
    "    dp = [[False] * (len(s) + 1) for _ in range(len(wordDict) + 1)]\n",
    "    for j in range(len(s) + 1):\n",
    "        dp[0][j] = False\n",
    "    for i in range(len(wordDict) + 1):\n",
    "        dp[i][0] = True\n",
    "    for i in range(1, len(wordDict) + 1):\n",
    "        curWord = wordDict[i - 1]\n",
    "        for j in range(1, len(s) + 1):\n",
    "            if len(curWord) > len(s):\n",
    "                dp[i][j] = dp[i - 1][j]  # 不使用\n",
    "            else:\n",
    "                dp[i][j] = dp[i - 1][j] or dp[i][j - len(curWord)]\n",
    "    return dp[-1][-1]\n",
    "\n",
    "\n",
    "# f('leetcode', ['leet', 'code'])\n",
    "f(\"catsandog\",[\"cats\",\"dog\",\"sand\",\"and\",\"cat\"])"
   ]
  },
  {
   "cell_type": "code",
   "execution_count": 9,
   "metadata": {},
   "outputs": [
    {
     "data": {
      "text/plain": [
       "False"
      ]
     },
     "execution_count": 9,
     "metadata": {},
     "output_type": "execute_result"
    }
   ],
   "source": [
    "# 排列形的完全背包\n",
    "def f(s: str, wordDict: list):\n",
    "    # dp[i]是否可以拼凑出s[:i] i:[0,len]\n",
    "    # dp[0] = True\n",
    "    dp = [False] * (len(s) + 1)\n",
    "    dp[0] = True\n",
    "    for i in range(1, len(s) + 1):\n",
    "        for word in wordDict:\n",
    "            if (sz := len(word)) == i:\n",
    "                dp[i] |= word == s[:i]\n",
    "            elif sz < i:\n",
    "                dp[i] |= dp[i - sz] and s[i - sz:i] == word  # 某几个word能平凑出后面word都True\n",
    "    return dp[-1]\n",
    "\n",
    "\n",
    "f(\"catsandog\", [\"cats\", \"dog\", \"sand\", \"and\", \"cat\"])\n"
   ]
  },
  {
   "cell_type": "code",
   "execution_count": null,
   "metadata": {},
   "outputs": [],
   "source": []
  }
 ],
 "metadata": {
  "interpreter": {
   "hash": "a5f34674cfcc9b13426a2d112c686bc132e4ef443f1487e707e7c3787d6bcf89"
  },
  "kernelspec": {
   "display_name": "Python 3.10.4 64-bit (windows store)",
   "language": "python",
   "name": "python3"
  },
  "language_info": {
   "codemirror_mode": {
    "name": "ipython",
    "version": 3
   },
   "file_extension": ".py",
   "mimetype": "text/x-python",
   "name": "python",
   "nbconvert_exporter": "python",
   "pygments_lexer": "ipython3",
   "version": "3.10.4"
  },
  "orig_nbformat": 4
 },
 "nbformat": 4,
 "nbformat_minor": 2
}
