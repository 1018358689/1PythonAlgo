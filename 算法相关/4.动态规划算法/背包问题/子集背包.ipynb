{
 "cells": [
  {
   "cell_type": "markdown",
   "metadata": {},
   "source": [
    "给一个可装载重量为sum/2的背包和N个物品，每个物品的重量为nums[i]。现在让你装物品，是否存在一种装法，能够恰好将背包装满？\n",
    "\n",
    "举个简单的例子，输入如下：\n",
    "\n",
    "nums = [1,5,11,5]\n",
    "算法返回 True\n",
    "[1,5,5],[11]"
   ]
  },
  {
   "cell_type": "code",
   "execution_count": 2,
   "metadata": {},
   "outputs": [
    {
     "data": {
      "text/plain": [
       "True"
      ]
     },
     "execution_count": 2,
     "metadata": {},
     "output_type": "execute_result"
    }
   ],
   "source": [
    "# dp[i][j] 使用i个中几个物品是否可以恰好装满j i[0,N] j[0,sum/2]\n",
    "# basecase 0个物品没法装满j 所以dp[0][n]=False 背包容量为0可以直接装满 所以dp[n][0]=True\n",
    "def f(nums):\n",
    "    if len(nums) % 2: return False\n",
    "    target = sum(nums) // 2\n",
    "    dp = [[0] * (target + 1) for _ in range(len(nums) + 1)]\n",
    "    # basecase\n",
    "    for j in range(target + 1):\n",
    "        dp[0][j] = False\n",
    "    for i in range(len(nums) + 1):\n",
    "        dp[i][0] = True\n",
    "    # dp = dp[i - 1][j] or dp[i - 1][j - curW]\n",
    "    for i in range(1, len(nums) + 1):\n",
    "        curW = nums[i - 1]\n",
    "        for j in range(1, target + 1):\n",
    "            if curW > j:  # 当前物品比包还大 只能选择不装 那么dp[i][j]取决于i-1个物品能不能装满j\n",
    "                dp[i][j] = dp[i - 1][j]\n",
    "            else:  # 不装或装 有一个成功就行  本质还是01背包 每个物品只能选一次\n",
    "                dp[i][j] = dp[i - 1][j] or dp[i - 1][j - curW] # 后者选择装 那么取决于前i-1个物品能不能装满j-curW\n",
    "    return dp[-1][-1]\n",
    "\n",
    "\n",
    "f([1, 5, 11, 5])\n"
   ]
  },
  {
   "cell_type": "code",
   "execution_count": null,
   "metadata": {},
   "outputs": [],
   "source": []
  }
 ],
 "metadata": {
  "interpreter": {
   "hash": "aee8b7b246df8f9039afb4144a1f6fd8d2ca17a180786b69acc140d282b71a49"
  },
  "kernelspec": {
   "display_name": "Python 3.10.2 64-bit",
   "language": "python",
   "name": "python3"
  },
  "language_info": {
   "codemirror_mode": {
    "name": "ipython",
    "version": 3
   },
   "file_extension": ".py",
   "mimetype": "text/x-python",
   "name": "python",
   "nbconvert_exporter": "python",
   "pygments_lexer": "ipython3",
   "version": "3.10.2"
  },
  "orig_nbformat": 4
 },
 "nbformat": 4,
 "nbformat_minor": 2
}
