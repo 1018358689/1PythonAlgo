{
 "cells": [
  {
   "cell_type": "markdown",
   "metadata": {},
   "source": [
    "给你一个可装载重量为W的背包和N个物品，每个物品有重量和价值两个属性。其中第i个物品的重量为wt[i]，价值为val[i]，现在让你用这个背包装物品，最多能装的价值是多少？\n",
    "\n",
    "举个简单的例子，输入如下：\n",
    "\n",
    "N = 3, W = 4\n",
    "wt = [2, 1, 3]\n",
    "val = [4, 2, 3]\n",
    "算法返回 6，选择前两件物品装进背包，总重量 3 小于W，可以获得最大价值 6。"
   ]
  },
  {
   "cell_type": "code",
   "execution_count": 1,
   "metadata": {},
   "outputs": [
    {
     "data": {
      "text/plain": [
       "9"
      ]
     },
     "execution_count": 1,
     "metadata": {},
     "output_type": "execute_result"
    }
   ],
   "source": [
    "# dp[i][j] 有i个物品当背包重量为j所能装下最大价值 0<=i<=N 0<=j<=W ->dp[i][j]\n",
    "def f(N, W, wt, val):\n",
    "    dp = [[-1] * (W + 1) for _ in range(N + 1)]\n",
    "    # basecase 0个物品或背包0重量 最大价值就是0\n",
    "    for i in range(N + 1):\n",
    "        dp[i][0] = 0\n",
    "    for j in range(W + 1):\n",
    "        dp[0][j] = 0\n",
    "    # dp = max(dp[i - 1][j], dp[i - 1][j - curW] + curV)\n",
    "    for i in range(1, N + 1):\n",
    "        curW, curV = wt[i - 1], val[i - 1]\n",
    "        for j in range(1, W + 1):\n",
    "            if curW > j:  # 当前硬币比背包还大 只能不使用它 就等于上一个状态 i-1个硬币的最大价值\n",
    "                dp[i][j] = dp[i - 1][j]  # max(dp[i-1][:j+1]) # 相同数量物品 肯定背包越大能装下价值越高 所以直接取[j]\n",
    "            else:  # 放得下最后一个 那么可以放也可以不放\n",
    "                dp[i][j] = max(dp[i - 1][j], dp[i - 1][j - curW] + curV)  # max(max(dp[i - 1][:j+1]), max(dp[i - 1][:j - curW+1]) + curV)\n",
    "    return dp[-1][-1]\n",
    "\n",
    "\n",
    "f(4, 7, [1, 3, 4, 5], [1, 4, 5, 7])\n"
   ]
  },
  {
   "cell_type": "markdown",
   "metadata": {},
   "source": [
    "https://leetcode-cn.com/problems/combination-sum-iv/solution/xi-wang-yong-yi-chong-gui-lu-gao-ding-bei-bao-wen-/"
   ]
  },
  {
   "cell_type": "markdown",
   "metadata": {},
   "source": [
    "组合问题公式\n",
    "dp[i] += dp[i-num]\n",
    "\n",
    "True、False问题公式\n",
    "dp[i] = dp[i] or dp[i-num]\n",
    "\n",
    "最大最小问题公式\n",
    "dp[i] = min(dp[i], dp[i-num]+1)或者dp[i] = max(dp[i], dp[i-num]+1)\n",
    "\n",
    "以上三组公式是解决对应问题的核心公式。\n",
    "\n",
    "当然拿到问题后，需要做到以下几个步骤：\n",
    "1.分析是否为背包问题。\n",
    "2.是以上三种背包问题中的哪一种。\n",
    "3.是0-1背包问题还是完全背包问题。也就是题目给的nums数组中的元素是否可以重复使用。\n",
    "4.如果是组合问题，是否需要考虑元素之间的顺序。需要考虑顺序有顺序的解法，不需要考虑顺序又有对应的解法。\n",
    "\n",
    "接下来讲一下背包问题的判定\n",
    "背包问题具备的特征：给定一个target，target可以是数字也可以是字符串，再给定一个数组nums，nums中装的可能是数字，也可能是字符串，问：能否使用nums中的元素做各种排列组合得到target。\n",
    "\n",
    "背包问题技巧：\n",
    "1.如果是0-1背包，即数组中的元素不可重复使用，nums放在外循环，target在内循环，且内循环倒序；\n",
    "for num in nums:\n",
    "    for i in range(target, nums-1, -1):\n",
    "\n",
    "2.如果是完全背包，即数组中的元素可重复使用，nums放在外循环，target在内循环。且内循环正序。\n",
    "for num in nums:\n",
    "    for i in range(nums, target+1):\n",
    "\n",
    "3.如果组合问题需考虑元素之间的顺序，需将target放在外循环，将nums放在内循环。\n",
    "for i in range(1, target+1):\n",
    "    for num in nums:"
   ]
  }
 ],
 "metadata": {
  "interpreter": {
   "hash": "a5f34674cfcc9b13426a2d112c686bc132e4ef443f1487e707e7c3787d6bcf89"
  },
  "kernelspec": {
   "display_name": "Python 3.10.2 64-bit (windows store)",
   "language": "python",
   "name": "python3"
  },
  "language_info": {
   "codemirror_mode": {
    "name": "ipython",
    "version": 3
   },
   "file_extension": ".py",
   "mimetype": "text/x-python",
   "name": "python",
   "nbconvert_exporter": "python",
   "pygments_lexer": "ipython3",
   "version": "3.10.4"
  },
  "orig_nbformat": 4
 },
 "nbformat": 4,
 "nbformat_minor": 2
}
