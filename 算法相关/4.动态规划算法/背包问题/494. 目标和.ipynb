{
 "cells": [
  {
   "cell_type": "markdown",
   "metadata": {},
   "source": [
    "给你一个整数数组 nums 和一个整数 target 。\n",
    "\n",
    "向数组中的每个整数前添加 '+' 或 '-' ，然后串联起所有整数，可以构造一个 表达式 ：\n",
    "\n",
    "例如，nums = [2, 1] ，可以在 2 之前添加 '+' ，在 1 之前添加 '-' ，然后串联起来得到表达式 \"+2-1\" 。\n",
    "返回可以通过上述方法构造的、运算结果等于 target 的不同 表达式 的数目。\n",
    "\n",
    " \n",
    "\n",
    "示例 1：\n",
    "\n",
    "输入：nums = [1,1,1,1,1], target = 3\n",
    "输出：5\n",
    "解释：一共有 5 种方法让最终目标和为 3 。\n",
    "-1 + 1 + 1 + 1 + 1 = 3\n",
    "+1 - 1 + 1 + 1 + 1 = 3\n",
    "+1 + 1 - 1 + 1 + 1 = 3\n",
    "+1 + 1 + 1 - 1 + 1 = 3\n",
    "+1 + 1 + 1 + 1 - 1 = 3\n",
    "\n",
    "来源：力扣（LeetCode）\n",
    "链接：https://leetcode-cn.com/problems/target-sum\n",
    "著作权归领扣网络所有。商业转载请联系官方授权，非商业转载请注明出处。"
   ]
  },
  {
   "cell_type": "code",
   "execution_count": 19,
   "metadata": {},
   "outputs": [
    {
     "data": {
      "text/plain": [
       "0"
      ]
     },
     "execution_count": 19,
     "metadata": {},
     "output_type": "execute_result"
    }
   ],
   "source": [
    "# dp[i][j]用前i个数凑j的方法数 [0,len(nums)] [-s,s]->[0,2s]\n",
    "# dp[i][j]=dp[i-1][j-curNum]+dp[i-1][j+curNum]\n",
    "# dp[0][n]=0 dp[0][s]=1\n",
    "def f(nums, target):\n",
    "    s = sum(nums)\n",
    "    if abs(target) > s:\n",
    "        return 0\n",
    "    dp = [[-1] * (2 * s + 1) for _ in range(len(nums) + 1)] # 向右偏移s\n",
    "    # basecase 0个数凑不出 除非0个数凑出0(偏移后s) 无为而治一个方法\n",
    "    for j in range(2 * s + 1):\n",
    "        dp[0][j] = 0\n",
    "    dp[0][s] = 1\n",
    "    for i in range(1, len(nums) + 1):\n",
    "        curNum = nums[i - 1]\n",
    "        for j in range(2 * s + 1):\n",
    "            tmp1 = dp[i - 1][j - curNum] if j - curNum >= 0 else 0 # 加当前数 需要加之前大于最小值-s 偏移后0 否则会出界\n",
    "            tmp2 = dp[i - 1][j + curNum] if j + curNum <= 2 * s else 0 # 减去当前数 需要减之前小于最大值s 偏移后 2s 否则会出界\n",
    "            dp[i][j] = tmp1 + tmp2\n",
    "    return dp[len(nums)][target + s]\n",
    "\n",
    "\n",
    "f([1, 1, 1, 1, 1], 3)\n",
    "f([1], 2)\n"
   ]
  },
  {
   "cell_type": "code",
   "execution_count": 1,
   "metadata": {},
   "outputs": [
    {
     "data": {
      "text/plain": [
       "5"
      ]
     },
     "execution_count": 1,
     "metadata": {},
     "output_type": "execute_result"
    }
   ],
   "source": [
    "from functools import lru_cache\n",
    "\n",
    "\n",
    "def f(nums, target):\n",
    "\n",
    "    @lru_cache(None)\n",
    "    def dfs(i, s):\n",
    "        if i > len(nums) - 1:\n",
    "            if s == target:\n",
    "                return 1\n",
    "            else:\n",
    "                return 0\n",
    "        return dfs(i + 1, s + nums[i]) + dfs(i + 1, s - nums[i])\n",
    "\n",
    "    return dfs(0, 0)\n",
    "\n",
    "\n",
    "f([1, 1, 1, 1, 1], 3)\n"
   ]
  },
  {
   "cell_type": "code",
   "execution_count": 18,
   "metadata": {},
   "outputs": [
    {
     "data": {
      "text/plain": [
       "5"
      ]
     },
     "execution_count": 18,
     "metadata": {},
     "output_type": "execute_result"
    }
   ],
   "source": [
    "from functools import lru_cache\n",
    "\n",
    "\n",
    "def f(nums, target):\n",
    "\n",
    "    mem = {}\n",
    "\n",
    "    def dfs(i, s):\n",
    "        if (i, s) in mem:\n",
    "            return mem[(i, s)]\n",
    "        if i > len(nums) - 1:\n",
    "            if s == target:\n",
    "                return 1\n",
    "            else:\n",
    "                return 0\n",
    "        mem[(i, s)] = dfs(i + 1, s + nums[i]) + dfs(i + 1, s - nums[i])\n",
    "        return mem[(i, s)]\n",
    "\n",
    "    return dfs(0, 0)\n",
    "\n",
    "\n",
    "f([1, 1, 1, 1, 1], 3)\n"
   ]
  },
  {
   "cell_type": "code",
   "execution_count": 28,
   "metadata": {},
   "outputs": [
    {
     "data": {
      "text/plain": [
       "0"
      ]
     },
     "execution_count": 28,
     "metadata": {},
     "output_type": "execute_result"
    }
   ],
   "source": [
    "# S有正子集S1 负子集S2\n",
    "# 所以有sum(S)=sum(S1)+sum(S2)\n",
    "# sum(S1)-sum(S2)=target\n",
    "# sum(S1)-(sum(S)-sum(S1))=target\n",
    "# sum(S1)=(sum(S)+target)/2\n",
    "# -> 在nums中找到和为(sum(S)+target)/2 = T 的组合个数 01背包\n",
    "# dp[i][j] 在前i个数中找到和为j的组合数 [0,len(nums)] [0,T]\n",
    "# dp[0][j]=0 dp[0][0]=1\n",
    "def f(nums, target):\n",
    "    s = sum(nums)\n",
    "    if abs(target) > s or (s + target) % 2 == 1:\n",
    "        return 0\n",
    "    T = (s + target) // 2\n",
    "    dp = [[-1] * (T + 1) for _ in range(len(nums) + 1)]\n",
    "    for j in range(T + 1):\n",
    "        dp[0][j] = 0\n",
    "    dp[0][0] = 1\n",
    "    for i in range(1, len(nums) + 1):\n",
    "        curNum = nums[i - 1]\n",
    "        for j in range(T + 1):\n",
    "            if curNum > j:\n",
    "                dp[i][j] = dp[i - 1][j]\n",
    "            else:\n",
    "                dp[i][j] = dp[i - 1][j] + dp[i - 1][j - curNum]\n",
    "    return dp[-1][-1]\n",
    "\n",
    "\n",
    "f([1, 1, 1, 1, 1], 3)\n",
    "f([0, 0, 0, 0, 0, 0, 0, 0, 1], 1)\n"
   ]
  },
  {
   "cell_type": "code",
   "execution_count": null,
   "metadata": {},
   "outputs": [],
   "source": [
    "# S有正子集S1 负子集S2\n",
    "# 所以有sum(S)=sum(S1)+sum(S2)\n",
    "# sum(S1)-sum(S2)=target\n",
    "# sum(S1)-(sum(S)-sum(S1))=target\n",
    "# sum(S1)=(sum(S)+target)/2\n",
    "# -> 在nums中找到和为(sum(S)+target)/2 = T 的组合个数 01背包\n",
    "# dp[i][j] 在前i个数中找到和为j的组合数 [0,len(nums)] [0,T]\n",
    "# dp[0][j]=0 dp[0][0]=1\n",
    "def f(nums, target):\n",
    "    Sum = sum(nums)\n",
    "    if abs(target) > Sum or (Sum + target) % 2 == 1:\n",
    "        return 0\n",
    "    t = (Sum + target) // 2\n",
    "    # dp[i] 凑t的方法数\n",
    "    dp = [0] * (t + 1)\n",
    "    dp[0] = 1\n",
    "    for c in nums:\n",
    "        for i in range(t, c - 1, -1):\n",
    "            dp[i] += dp[i - c]\n",
    "    return dp[-1]"
   ]
  }
 ],
 "metadata": {
  "interpreter": {
   "hash": "aee8b7b246df8f9039afb4144a1f6fd8d2ca17a180786b69acc140d282b71a49"
  },
  "kernelspec": {
   "display_name": "Python 3.10.2 64-bit",
   "language": "python",
   "name": "python3"
  },
  "language_info": {
   "codemirror_mode": {
    "name": "ipython",
    "version": 3
   },
   "file_extension": ".py",
   "mimetype": "text/x-python",
   "name": "python",
   "nbconvert_exporter": "python",
   "pygments_lexer": "ipython3",
   "version": "3.10.2"
  },
  "orig_nbformat": 4
 },
 "nbformat": 4,
 "nbformat_minor": 2
}
