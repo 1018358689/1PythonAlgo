{
 "cells": [
  {
   "cell_type": "code",
   "execution_count": 8,
   "metadata": {},
   "outputs": [
    {
     "data": {
      "text/plain": [
       "1978261657756160653623774456"
      ]
     },
     "execution_count": 8,
     "metadata": {},
     "output_type": "execute_result"
    }
   ],
   "source": [
    "from functools import lru_cache\n",
    "\n",
    "\n",
    "def f(n: int):\n",
    "\n",
    "    @lru_cache(None)\n",
    "    def dfs(l, r):  # [l,r]区间内共有二叉搜索树种类\n",
    "        if l > r:\n",
    "            return 1\n",
    "        res = 0\n",
    "        for m in range(l, r + 1):\n",
    "            left = dfs(l, m - 1)\n",
    "            right = dfs(m + 1, r)\n",
    "            res += left * right\n",
    "        return res\n",
    "\n",
    "    return dfs(1, n)\n",
    "\n",
    "\n",
    "f(50)"
   ]
  },
  {
   "cell_type": "code",
   "execution_count": 10,
   "metadata": {},
   "outputs": [
    {
     "data": {
      "text/plain": [
       "5"
      ]
     },
     "execution_count": 10,
     "metadata": {},
     "output_type": "execute_result"
    }
   ],
   "source": [
    "def f(n: int):\n",
    "    # dp[i] i个连续节点的不同二叉搜索树个数 dp[n]\n",
    "    dp = [0] * (n + 1)\n",
    "    dp[0], dp[1] = 1, 1\n",
    "    for i in range(2, n + 1):  # 节点总数\n",
    "        for l in range(i):  # 左边节点数\n",
    "            r = i - l - 1  # 右边节点数 = 节点总数-左边节点数-根节点\n",
    "            dp[i] += dp[l] * dp[r]\n",
    "    return dp[-1]\n",
    "\n",
    "\n",
    "f(3)"
   ]
  },
  {
   "cell_type": "code",
   "execution_count": null,
   "metadata": {},
   "outputs": [],
   "source": []
  }
 ],
 "metadata": {
  "interpreter": {
   "hash": "aee8b7b246df8f9039afb4144a1f6fd8d2ca17a180786b69acc140d282b71a49"
  },
  "kernelspec": {
   "display_name": "Python 3.10.1 64-bit",
   "language": "python",
   "name": "python3"
  },
  "language_info": {
   "codemirror_mode": {
    "name": "ipython",
    "version": 3
   },
   "file_extension": ".py",
   "mimetype": "text/x-python",
   "name": "python",
   "nbconvert_exporter": "python",
   "pygments_lexer": "ipython3",
   "version": "3.10.1"
  },
  "orig_nbformat": 4
 },
 "nbformat": 4,
 "nbformat_minor": 2
}
