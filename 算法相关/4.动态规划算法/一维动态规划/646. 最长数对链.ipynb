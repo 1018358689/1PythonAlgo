{
 "cells": [
  {
   "cell_type": "code",
   "execution_count": null,
   "metadata": {},
   "outputs": [],
   "source": [
    "def f(pairs: list):\n",
    "    # 最长不重叠区间 -> 最长递增子序列\n",
    "    # dp[i] 以pairs[i]结尾的最长不重叠区间 [0,len-1]\n",
    "    # dp[i] = dp[j]+1 i前存在j使得pairs[i][0]>pairs[j][1] else 1\n",
    "    # dp[0] = 1\n",
    "    pairs.sort(key=lambda x: x[0])\n",
    "    dp = [1] * (len(pairs))\n",
    "    for i in range(1, len(pairs)):\n",
    "        for j in range(i - 1, -1, -1):\n",
    "            if pairs[i][0] > pairs[j][1]:\n",
    "                dp[i] = dp[j] + 1\n",
    "                break\n",
    "    return max(dp)"
   ]
  }
 ],
 "metadata": {
  "language_info": {
   "name": "python"
  },
  "orig_nbformat": 4
 },
 "nbformat": 4,
 "nbformat_minor": 2
}
