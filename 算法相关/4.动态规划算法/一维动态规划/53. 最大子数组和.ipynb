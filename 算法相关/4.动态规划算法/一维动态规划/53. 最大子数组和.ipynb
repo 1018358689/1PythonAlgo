{
 "cells": [
  {
   "cell_type": "code",
   "execution_count": 4,
   "metadata": {},
   "outputs": [
    {
     "data": {
      "text/plain": [
       "(6, 1, 23)"
      ]
     },
     "execution_count": 4,
     "metadata": {},
     "output_type": "execute_result"
    }
   ],
   "source": [
    "# dp[i] 以索引i结尾的最大连续子数组和\n",
    "# dp[i]=max(dp[i-1]+nums[i],nums[i])\n",
    "# dp[0]=nums[0]\n",
    "def f(nums: list):\n",
    "    dp = [0] * len(nums)\n",
    "    dp[0] = nums[0]\n",
    "    for i in range(1, len(nums)):\n",
    "        dp[i] = max(dp[i - 1] + nums[i], nums[i])\n",
    "    return max(dp)\n",
    "\n",
    "\n",
    "f([-2, 1, -3, 4, -1, 2, 1, -5, 4]), f([1]), f([5, 4, -1, 7, 8])\n"
   ]
  },
  {
   "cell_type": "code",
   "execution_count": 7,
   "metadata": {},
   "outputs": [
    {
     "data": {
      "text/plain": [
       "6"
      ]
     },
     "execution_count": 7,
     "metadata": {},
     "output_type": "execute_result"
    }
   ],
   "source": [
    "def f(nums: list):\n",
    "    mem = {0: nums[0]}\n",
    "\n",
    "    def dfs(i):\n",
    "        if i in mem:\n",
    "            return mem[i]\n",
    "        mem[i] = max(dfs(i - 1) + nums[i], nums[i])\n",
    "        return mem[i]\n",
    "\n",
    "    dfs(len(nums) - 1)\n",
    "    return max(mem.values())\n",
    "\n",
    "\n",
    "f([-2, 1, -3, 4, -1, 2, 1, -5, 4])\n"
   ]
  },
  {
   "cell_type": "code",
   "execution_count": 1,
   "metadata": {},
   "outputs": [
    {
     "data": {
      "text/plain": [
       "6"
      ]
     },
     "execution_count": 1,
     "metadata": {},
     "output_type": "execute_result"
    }
   ],
   "source": [
    "# 前缀和法 记录最小前缀和\n",
    "def f(nums: list):\n",
    "    minPreSum = 0 # 注意当前缀和大于0就不需要减去\n",
    "    res = float('-inf')\n",
    "    curSum = 0\n",
    "    for n in nums:\n",
    "        curSum += n\n",
    "        res = max(res, curSum - minPreSum)\n",
    "        minPreSum = min(minPreSum, curSum)\n",
    "    return res\n",
    "\n",
    "\n",
    "f([-2, 1, -3, 4, -1, 2, 1, -5, 4])\n"
   ]
  },
  {
   "cell_type": "code",
   "execution_count": null,
   "metadata": {},
   "outputs": [],
   "source": []
  }
 ],
 "metadata": {
  "interpreter": {
   "hash": "aee8b7b246df8f9039afb4144a1f6fd8d2ca17a180786b69acc140d282b71a49"
  },
  "kernelspec": {
   "display_name": "Python 3.10.1 64-bit",
   "language": "python",
   "name": "python3"
  },
  "language_info": {
   "codemirror_mode": {
    "name": "ipython",
    "version": 3
   },
   "file_extension": ".py",
   "mimetype": "text/x-python",
   "name": "python",
   "nbconvert_exporter": "python",
   "pygments_lexer": "ipython3",
   "version": "3.10.1"
  },
  "orig_nbformat": 4
 },
 "nbformat": 4,
 "nbformat_minor": 2
}
