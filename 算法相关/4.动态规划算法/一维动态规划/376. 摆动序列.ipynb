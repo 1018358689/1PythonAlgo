{
 "cells": [
  {
   "cell_type": "code",
   "execution_count": 8,
   "metadata": {},
   "outputs": [
    {
     "data": {
      "text/plain": [
       "(6, 7)"
      ]
     },
     "execution_count": 8,
     "metadata": {},
     "output_type": "execute_result"
    }
   ],
   "source": [
    "def f(nums: list):\n",
    "    # dp[i][2/0/1] 以nums[i]结尾的最长摆动序列长度 j表示num[i]是由前一个增加还是减少来\n",
    "    # i:num[i]结尾 j: 0起始数 1增加来 2减少来\n",
    "    # dp[i][2] = max(dp[i][2], dp[j][1] + 1, dp[j][0] + 1) j:[0,i-1]&nums[i]<nums[j]\n",
    "    # dp[i][0] = 1\n",
    "    # dp[i][1] = max(dp[i][1], dp[j][2] + 1, dp[j][0] + 1) j:[0,i-1]&nums[i]>nums[j]\n",
    "    # basecase dp[0][...] = 1\n",
    "    dp = [[1] * 3 for _ in range(len(nums))]\n",
    "    ans = 1\n",
    "    for i in range(1, len(nums)):\n",
    "        for j in range(i):\n",
    "            if nums[i] < nums[j]:\n",
    "                dp[i][2] = max(dp[i][2], dp[j][1] + 1, dp[j][0] + 1)\n",
    "            elif nums[i] > nums[j]:\n",
    "                dp[i][1] = max(dp[i][1], dp[j][2] + 1, dp[j][0] + 1)\n",
    "        ans = max(ans, max(dp[i]))\n",
    "    return ans\n",
    "\n",
    "\n",
    "f([1, 7, 4, 9, 2, 5]), f([1, 17, 5, 10, 13, 15, 10, 5, 16, 8])\n",
    "# f([1]), f([1, 2])\n"
   ]
  },
  {
   "cell_type": "code",
   "execution_count": null,
   "metadata": {},
   "outputs": [],
   "source": []
  }
 ],
 "metadata": {
  "interpreter": {
   "hash": "a5f34674cfcc9b13426a2d112c686bc132e4ef443f1487e707e7c3787d6bcf89"
  },
  "kernelspec": {
   "display_name": "Python 3.10.3 64-bit (windows store)",
   "language": "python",
   "name": "python3"
  },
  "language_info": {
   "codemirror_mode": {
    "name": "ipython",
    "version": 3
   },
   "file_extension": ".py",
   "mimetype": "text/x-python",
   "name": "python",
   "nbconvert_exporter": "python",
   "pygments_lexer": "ipython3",
   "version": "3.10.4"
  },
  "orig_nbformat": 4
 },
 "nbformat": 4,
 "nbformat_minor": 2
}
