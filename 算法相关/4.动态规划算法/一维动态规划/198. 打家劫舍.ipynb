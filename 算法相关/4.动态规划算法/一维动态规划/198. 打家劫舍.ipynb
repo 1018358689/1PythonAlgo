{
 "cells": [
  {
   "cell_type": "code",
   "execution_count": 5,
   "metadata": {},
   "outputs": [
    {
     "data": {
      "text/plain": [
       "(4, 12, 0, 1)"
      ]
     },
     "execution_count": 5,
     "metadata": {},
     "output_type": "execute_result"
    }
   ],
   "source": [
    "# dp[i] 到索引i为止房子最多能偷的金额\n",
    "# dp[i] = max(dp[i-2]+nums[i],dp[i-1])\n",
    "# BaseCase dp[0]=nums[0] dp[1]=max(nums[0],nums[1])\n",
    "def f(nums: list):\n",
    "    if len(nums) == 1:\n",
    "        return nums[0]\n",
    "    dp = [0] * len(nums)\n",
    "    dp[0] = nums[0]\n",
    "    dp[1] = max(nums[0], nums[1])\n",
    "    for i in range(2, len(nums)):\n",
    "        dp[i] = max(dp[i - 2] + nums[i], dp[i - 1])\n",
    "    return dp[-1]\n",
    "\n",
    "\n",
    "f([1, 2, 3, 1]), f([2, 7, 9, 3, 1]), f([0]), f([1, 1])\n"
   ]
  },
  {
   "cell_type": "code",
   "execution_count": 2,
   "metadata": {},
   "outputs": [
    {
     "data": {
      "text/plain": [
       "(4, 12, 0, 1)"
      ]
     },
     "execution_count": 2,
     "metadata": {},
     "output_type": "execute_result"
    }
   ],
   "source": [
    "from functools import lru_cache\n",
    "\n",
    "\n",
    "def f(nums: list):\n",
    "\n",
    "    # @lru_cache(None) # 没必要\n",
    "    def dfs(i):  # 到nums[i]房子偷和不偷所能拿到的最多钱\n",
    "        if i == 0:\n",
    "            return nums[0], 0\n",
    "        leftRob, leftNoRob = dfs(i - 1)\n",
    "        rob = nums[i] + leftNoRob\n",
    "        NoRob = max(leftRob, leftNoRob)\n",
    "        return rob, NoRob\n",
    "\n",
    "    return max(dfs(len(nums) - 1))\n",
    "\n",
    "\n",
    "f([1, 2, 3, 1]), f([2, 7, 9, 3, 1]), f([0]), f([1, 1])"
   ]
  },
  {
   "cell_type": "code",
   "execution_count": null,
   "metadata": {},
   "outputs": [],
   "source": []
  }
 ],
 "metadata": {
  "interpreter": {
   "hash": "aee8b7b246df8f9039afb4144a1f6fd8d2ca17a180786b69acc140d282b71a49"
  },
  "kernelspec": {
   "display_name": "Python 3.10.1 64-bit",
   "language": "python",
   "name": "python3"
  },
  "language_info": {
   "codemirror_mode": {
    "name": "ipython",
    "version": 3
   },
   "file_extension": ".py",
   "mimetype": "text/x-python",
   "name": "python",
   "nbconvert_exporter": "python",
   "pygments_lexer": "ipython3",
   "version": "3.10.2"
  },
  "orig_nbformat": 4
 },
 "nbformat": 4,
 "nbformat_minor": 2
}
