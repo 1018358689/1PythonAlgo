{
 "cells": [
  {
   "cell_type": "code",
   "execution_count": null,
   "metadata": {},
   "outputs": [],
   "source": [
    "from functools import lru_cache\n",
    "\n",
    "\n",
    "def numDecodings(s: str) -> int:\n",
    "    num = set(map(str, range(1, 27)))\n",
    "\n",
    "    @lru_cache(None)\n",
    "    def dfs(s):\n",
    "        if not s:\n",
    "            return 1\n",
    "        res = 0\n",
    "        if s[0] in num:\n",
    "            res += dfs(s[1:])\n",
    "        if len(s) > 1 and s[:2] in num:\n",
    "            res += dfs(s[2:])\n",
    "        return res\n",
    "\n",
    "    return dfs(s)"
   ]
  },
  {
   "cell_type": "code",
   "execution_count": 25,
   "metadata": {},
   "outputs": [
    {
     "data": {
      "text/plain": [
       "0"
      ]
     },
     "execution_count": 25,
     "metadata": {},
     "output_type": "execute_result"
    }
   ],
   "source": [
    "# dp[i] 以索引i结尾的数字包含解码方法数\n",
    "# dp[i]=dp[i-1] if s[i] in num else 0  +  dp[i-2] if s[i-1:i+1] in num else 0 i>=2\n",
    "# dp[0]=1 if s[i] in num else 0\n",
    "# dp[1]=dp[0] if s[i] in num else 0  +  1 if s[i-1:i+1] in num else 0\n",
    "def numDecodings(s: str) -> int:\n",
    "    num = set(map(str, range(1, 27)))\n",
    "    dp = [-1] * len(s)\n",
    "    dp[0] = 1 if s[0] in num else 0\n",
    "    if len(s) == 1:\n",
    "        return dp[-1]\n",
    "    dp[1] = (dp[0] if s[1] in num else 0) + (1 if s[:2] in num else 0)\n",
    "    for i in range(2, len(s)):\n",
    "        dp[i] = (dp[i - 1] if s[i] in num else 0) + (dp[i - 2] if s[i - 1:i + 1] in num else 0)\n",
    "    print(dp)\n",
    "    return dp[-1]\n",
    "\n",
    "\n",
    "# numDecodings('06')\n",
    "# numDecodings('12')\n",
    "numDecodings('0')"
   ]
  },
  {
   "cell_type": "code",
   "execution_count": 6,
   "metadata": {},
   "outputs": [
    {
     "data": {
      "text/plain": [
       "[4, 3, 2, 1]"
      ]
     },
     "execution_count": 6,
     "metadata": {},
     "output_type": "execute_result"
    }
   ],
   "source": [
    "l = [1,2,3,4]\n",
    "l.reverse()\n",
    "l"
   ]
  },
  {
   "cell_type": "code",
   "execution_count": null,
   "metadata": {},
   "outputs": [],
   "source": []
  }
 ],
 "metadata": {
  "interpreter": {
   "hash": "004de6046f1b3d314f33fdb43a2dc798b2646e5600efd8df5066c8b63a00ff6d"
  },
  "kernelspec": {
   "display_name": "Python 3.8.10 64-bit",
   "language": "python",
   "name": "python3"
  },
  "language_info": {
   "codemirror_mode": {
    "name": "ipython",
    "version": 3
   },
   "file_extension": ".py",
   "mimetype": "text/x-python",
   "name": "python",
   "nbconvert_exporter": "python",
   "pygments_lexer": "ipython3",
   "version": "3.8.10"
  },
  "orig_nbformat": 4
 },
 "nbformat": 4,
 "nbformat_minor": 2
}
