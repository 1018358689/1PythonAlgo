{
 "cells": [
  {
   "cell_type": "code",
   "execution_count": 12,
   "metadata": {},
   "outputs": [
    {
     "data": {
      "text/plain": [
       "13"
      ]
     },
     "execution_count": 12,
     "metadata": {},
     "output_type": "execute_result"
    }
   ],
   "source": [
    "import collections\n",
    "\n",
    "\n",
    "def f(nums: list):\n",
    "    if len(nums) == 1:\n",
    "        return 0\n",
    "    cnt = 1\n",
    "    q = collections.deque([(0, nums[0])]) # 位置 跳远能力\n",
    "    maxlength = 0 # 全局最远距离\n",
    "    while q:\n",
    "        sz = len(q)\n",
    "        for _ in range(sz):\n",
    "            pos, step = q.popleft()\n",
    "            curmaxlength = pos + step # 当前最远距离\n",
    "            if curmaxlength > maxlength: # 更新全局最远距离 如果比全局最远距离短 就不考虑了\n",
    "                maxlength = curmaxlength\n",
    "                if maxlength >= len(nums) - 1:\n",
    "                    return cnt\n",
    "                for s in range(step, 0, -1):\n",
    "                    npos = pos + s\n",
    "                    nstep = nums[npos]\n",
    "                    q.append((npos, nstep))\n",
    "        cnt += 1\n",
    "\n",
    "\n",
    "f([2, 3, 1, 1, 4]), f([2, 3, 0, 1, 4]), f([2, 1]), f([0]), f([1])\n",
    "# f([1, 2, 3])\n"
   ]
  },
  {
   "cell_type": "code",
   "execution_count": 2,
   "metadata": {},
   "outputs": [
    {
     "data": {
      "text/plain": [
       "(2, 2, 1, 0, 0)"
      ]
     },
     "execution_count": 2,
     "metadata": {},
     "output_type": "execute_result"
    }
   ],
   "source": [
    "def f(nums: list):\n",
    "    # dp[i] 最少多少步可以跳到nums[i]\n",
    "    # dp[i] = dp[j]+1 if nums[j]+j>=i\n",
    "    # dp[0] = 0\n",
    "    dp = [float('inf')] * len(nums)\n",
    "    dp[0] = 0\n",
    "    for i in range(1, len(nums)):\n",
    "        for j in range(i):\n",
    "            if j + nums[j] >= i:\n",
    "                dp[i] = min(dp[i], dp[j] + 1)\n",
    "                if dp[i] == dp[i - 1]:\n",
    "                    break\n",
    "    return dp[-1]\n",
    "\n",
    "\n",
    "f([2, 3, 1, 1, 4]), f([2, 3, 0, 1, 4]), f([2, 1]), f([0]), f([1])\n"
   ]
  },
  {
   "cell_type": "code",
   "execution_count": 3,
   "metadata": {},
   "outputs": [
    {
     "data": {
      "text/plain": [
       "(2, 2, 1, 0, 0)"
      ]
     },
     "execution_count": 3,
     "metadata": {},
     "output_type": "execute_result"
    }
   ],
   "source": [
    "def f(nums: list):\n",
    "    if len(nums) == 1:\n",
    "        return 0\n",
    "    end = farthest = 0 # end 可以选择的跳跃步数 farthest 所有选择\n",
    "    jumps = 0# 跳跃次数\n",
    "    for i in range(len(nums) - 1):\n",
    "        farthest = max(farthest, nums[i] + i)\n",
    "        if i == end:\n",
    "            jumps += 1\n",
    "            end = farthest\n",
    "    return jumps\n",
    "\n",
    "\n",
    "f([2, 3, 1, 1, 4]), f([2, 3, 0, 1, 4]), f([2, 1]), f([0]), f([1])\n"
   ]
  },
  {
   "cell_type": "code",
   "execution_count": 10,
   "metadata": {},
   "outputs": [
    {
     "data": {
      "text/plain": [
       "2"
      ]
     },
     "execution_count": 10,
     "metadata": {},
     "output_type": "execute_result"
    }
   ],
   "source": [
    "import collections\n",
    "properties = [[5,5],[6,3],[3,6],[6,10]]\n",
    "d = collections.defaultdict(list)\n",
    "for i,j in properties:\n",
    "    d[i].append(j)\n",
    "cnt=0\n",
    "keys = sorted(d)\n",
    "for k1 in range(len(keys)-1):\n",
    "    for i in d[keys[k1]]:\n",
    "        for k2 in range(k1+1,len(keys)):\n",
    "            for j in d[keys[k2]]:\n",
    "                if j>i:\n",
    "                    cnt+=1\n",
    "cnt\n",
    "        "
   ]
  },
  {
   "cell_type": "code",
   "execution_count": 12,
   "metadata": {},
   "outputs": [
    {
     "data": {
      "text/plain": [
       "2"
      ]
     },
     "execution_count": 12,
     "metadata": {},
     "output_type": "execute_result"
    }
   ],
   "source": [
    "properties = [[5, 5], [6, 3], [3, 6], [6, 10]]\n",
    "\n",
    "\n",
    "def f(properties: list):\n",
    "    properties.sort(key=lambda x: (-x[0], x[1]))\n",
    "    cnt = 0\n",
    "    max_d = float('-inf')\n",
    "    for a, d in properties:\n",
    "        if d < max_d: cnt += 1\n",
    "        max_d = max(max_d, d)\n",
    "    return cnt"
   ]
  },
  {
   "cell_type": "code",
   "execution_count": null,
   "metadata": {},
   "outputs": [],
   "source": []
  }
 ],
 "metadata": {
  "interpreter": {
   "hash": "aee8b7b246df8f9039afb4144a1f6fd8d2ca17a180786b69acc140d282b71a49"
  },
  "kernelspec": {
   "display_name": "Python 3.8.10 64-bit",
   "language": "python",
   "name": "python3"
  },
  "language_info": {
   "codemirror_mode": {
    "name": "ipython",
    "version": 3
   },
   "file_extension": ".py",
   "mimetype": "text/x-python",
   "name": "python",
   "nbconvert_exporter": "python",
   "pygments_lexer": "ipython3",
   "version": "3.10.2"
  },
  "orig_nbformat": 4
 },
 "nbformat": 4,
 "nbformat_minor": 2
}
