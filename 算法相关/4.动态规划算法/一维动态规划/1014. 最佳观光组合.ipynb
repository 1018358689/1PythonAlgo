{
 "cells": [
  {
   "cell_type": "code",
   "execution_count": null,
   "metadata": {},
   "outputs": [],
   "source": [
    "class Solution:\n",
    "    def maxScoreSightseeingPair(self, values: List[int]) -> int:\n",
    "        # dp1[i] 到values[i]的最大values[m]+m i:[0,len-1]\n",
    "        # dp2[i] 以values[i]结尾的最大得分\n",
    "        # dp1[i] = max(dp[i-1],values[i]+i)\n",
    "        # dp2[i] = values[i]-j+dp1[i-1]\n",
    "        # dp1[0] = values[0]\n",
    "        # dp2[0] = -float('inf')\n",
    "        dp1 = [0]*len(values)\n",
    "        dp2 = [0]*len(values)\n",
    "        dp1[0] = values[0]\n",
    "        dp2[0] = -float('inf')   \n",
    "        for i in range(1,len(values)):\n",
    "            dp1[i] = max(dp1[i-1],values[i]+i)\n",
    "            dp2[i] = values[i]-i+dp1[i-1]\n",
    "        return max(dp2)"
   ]
  },
  {
   "cell_type": "code",
   "execution_count": null,
   "metadata": {},
   "outputs": [],
   "source": [
    "class Solution:\n",
    "    def maxScoreSightseeingPair(self, values: List[int]) -> int:\n",
    "        preMax = 0\n",
    "        ans = 0\n",
    "        for i,v in enumerate(values):\n",
    "            ans = max(ans,v-i+preMax)\n",
    "            preMax = max(preMax,v+i)\n",
    "        return ans"
   ]
  }
 ],
 "metadata": {
  "language_info": {
   "name": "python"
  },
  "orig_nbformat": 4
 },
 "nbformat": 4,
 "nbformat_minor": 2
}
