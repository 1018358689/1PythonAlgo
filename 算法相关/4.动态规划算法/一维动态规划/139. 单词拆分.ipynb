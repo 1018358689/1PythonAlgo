{
 "cells": [
  {
   "cell_type": "code",
   "execution_count": 2,
   "metadata": {},
   "outputs": [
    {
     "data": {
      "text/plain": [
       "True"
      ]
     },
     "execution_count": 2,
     "metadata": {},
     "output_type": "execute_result"
    }
   ],
   "source": [
    "from functools import lru_cache\n",
    "\n",
    "\n",
    "def f(s: str, wordDict: list):\n",
    "\n",
    "    @lru_cache(None)\n",
    "    def dfs(s):\n",
    "        if not s:\n",
    "            return True\n",
    "        for i in range(len(s)):\n",
    "            if s[:i + 1] in wordDict:\n",
    "                if dfs(s[i + 1:]):\n",
    "                    return True\n",
    "        return False\n",
    "\n",
    "    return dfs(s)\n",
    "\n",
    "\n",
    "f('leetcode', [\"leet\", \"code\"])\n"
   ]
  },
  {
   "cell_type": "code",
   "execution_count": 8,
   "metadata": {},
   "outputs": [
    {
     "name": "stdout",
     "output_type": "stream",
     "text": [
      "[False, False, False, True, False, False, False, True]\n"
     ]
    },
    {
     "data": {
      "text/plain": [
       "True"
      ]
     },
     "execution_count": 8,
     "metadata": {},
     "output_type": "execute_result"
    }
   ],
   "source": [
    "# dp[i] 以缩影i结尾的单词s[:i+1]是否可以拼接成功\n",
    "# 遍历wordDice的word sz=len(word) if i+1>=sz dp[i]=True if dp[i-sz] and s[i-sz+1:i+1]==word else False # 一次True后面word都是True\n",
    "# basecase\n",
    "def f(s: str, wordDict: list):\n",
    "    dp = [False] * len(s)\n",
    "    for i in range(len(s)):\n",
    "        for word in wordDict:\n",
    "            sz = len(word)\n",
    "            if i + 1 == sz:  # 第一个word长度 避免索引越界\n",
    "                dp[i] = dp[i] or s[:i + 1] == word\n",
    "            elif i + 1 > sz:\n",
    "                dp[i] = dp[i] or (dp[i - sz] and s[i - sz + 1:i + 1] == word)\n",
    "    # print(dp)\n",
    "    return dp[-1]\n",
    "\n",
    "\n",
    "f('leetcode', [\"leet\", \"code\"])\n"
   ]
  },
  {
   "cell_type": "code",
   "execution_count": 9,
   "metadata": {},
   "outputs": [
    {
     "data": {
      "text/plain": [
       "True"
      ]
     },
     "execution_count": 9,
     "metadata": {},
     "output_type": "execute_result"
    }
   ],
   "source": [
    "# dp[i] i个字母的单词s[:i]是否可以拼接成功 写法错误\n",
    "def f(s: str, wordDict: list):\n",
    "    dp = [True] + [False] * len(s)\n",
    "    for i in range(1, len(s) + 1):\n",
    "        for word in wordDict:\n",
    "            dp[i] |= dp[i - len(word)] and s[i - len(word):i] == word\n",
    "    return dp[-1]\n",
    "\n",
    "\n",
    "f('leetcode', [\"leet\", \"code\"])\n"
   ]
  },
  {
   "cell_type": "code",
   "execution_count": 2,
   "metadata": {},
   "outputs": [
    {
     "name": "stdout",
     "output_type": "stream",
     "text": [
      "[False, False, False, True, False, False, False, True]\n"
     ]
    },
    {
     "data": {
      "text/plain": [
       "True"
      ]
     },
     "execution_count": 2,
     "metadata": {},
     "output_type": "execute_result"
    }
   ],
   "source": [
    "def f(s: str, wordDict: list):\n",
    "    # dp[i] 以s[i]结尾的字符串是否可以被拼接\n",
    "    # i:[0,len-1]\n",
    "    # dp[i] = dp[i-len(w)]是否可以被拼接决定\n",
    "    dp = [False] * len(s)\n",
    "    for i in range(len(s)):\n",
    "        for w in wordDict:\n",
    "            sz = len(w)\n",
    "            if i + 1 == sz:\n",
    "                dp[i] |= s[:i + 1] == w\n",
    "            if i + 1 > sz:\n",
    "                dp[i] |= dp[i - sz] and s[i + 1 - sz:i + 1] == w\n",
    "    # print(dp)\n",
    "    return dp[-1]\n",
    "\n",
    "\n",
    "f('leetcode', [\"leet\", \"code\"])\n"
   ]
  },
  {
   "cell_type": "code",
   "execution_count": null,
   "metadata": {},
   "outputs": [],
   "source": []
  }
 ],
 "metadata": {
  "interpreter": {
   "hash": "aee8b7b246df8f9039afb4144a1f6fd8d2ca17a180786b69acc140d282b71a49"
  },
  "kernelspec": {
   "display_name": "Python 3.10.1 64-bit",
   "language": "python",
   "name": "python3"
  },
  "language_info": {
   "codemirror_mode": {
    "name": "ipython",
    "version": 3
   },
   "file_extension": ".py",
   "mimetype": "text/x-python",
   "name": "python",
   "nbconvert_exporter": "python",
   "pygments_lexer": "ipython3",
   "version": "3.10.4"
  },
  "orig_nbformat": 4
 },
 "nbformat": 4,
 "nbformat_minor": 2
}
