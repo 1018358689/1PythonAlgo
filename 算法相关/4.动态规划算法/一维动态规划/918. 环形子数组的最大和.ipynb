{
 "cells": [
  {
   "cell_type": "code",
   "execution_count": 17,
   "metadata": {},
   "outputs": [
    {
     "data": {
      "text/plain": [
       "-2"
      ]
     },
     "execution_count": 17,
     "metadata": {},
     "output_type": "execute_result"
    }
   ],
   "source": [
    "def f(nums: list):\n",
    "    # dpMax[i] 以nums[i]结尾的子数组最大和\n",
    "    # dpMax[i] = max(dpMax[i-1]+nums[i],dpMax[i])\n",
    "    # dpMax[0] = nums[0]\n",
    "    # dpMin[i] 以nums[i]结尾的子数组最小和\n",
    "    # dpMin[i] = min(dpMin[i-1]+nums[i],dpMin[i])\n",
    "    # dpMin[0] = nums[0]\n",
    "    dpMax = [0] * len(nums)\n",
    "    dpMax[0] = nums[0]\n",
    "    dpMin = [0] * len(nums)\n",
    "    dpMin[0] = nums[0]\n",
    "    for i in range(1, len(nums)):\n",
    "        dpMax[i] = max(dpMax[i - 1] + nums[i], nums[i])\n",
    "        dpMin[i] = min(dpMin[i - 1] + nums[i], nums[i])\n",
    "    dpMin[:] = dpMin[:-1] + [0]\n",
    "    return max(max(dpMax), sum(nums) - min(dpMin))\n",
    "\n",
    "\n",
    "f([-3, -2, -3])\n"
   ]
  },
  {
   "cell_type": "code",
   "execution_count": 19,
   "metadata": {},
   "outputs": [
    {
     "data": {
      "text/plain": [
       "[1, 2, 3, 1, 2, 3]"
      ]
     },
     "execution_count": 19,
     "metadata": {},
     "output_type": "execute_result"
    }
   ],
   "source": [
    "l =[ 1,2,3]\n",
    "l*2"
   ]
  },
  {
   "cell_type": "code",
   "execution_count": null,
   "metadata": {},
   "outputs": [],
   "source": []
  }
 ],
 "metadata": {
  "interpreter": {
   "hash": "aee8b7b246df8f9039afb4144a1f6fd8d2ca17a180786b69acc140d282b71a49"
  },
  "kernelspec": {
   "display_name": "Python 3.10.1 64-bit",
   "language": "python",
   "name": "python3"
  },
  "language_info": {
   "codemirror_mode": {
    "name": "ipython",
    "version": 3
   },
   "file_extension": ".py",
   "mimetype": "text/x-python",
   "name": "python",
   "nbconvert_exporter": "python",
   "pygments_lexer": "ipython3",
   "version": "3.10.1"
  },
  "orig_nbformat": 4
 },
 "nbformat": 4,
 "nbformat_minor": 2
}
