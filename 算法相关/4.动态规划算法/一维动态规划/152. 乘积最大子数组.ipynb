{
 "cells": [
  {
   "cell_type": "code",
   "execution_count": 8,
   "metadata": {},
   "outputs": [
    {
     "name": "stdout",
     "output_type": "stream",
     "text": [
      "[-1, 2, 18, 108] [-1, -2, -18, -108]\n"
     ]
    },
    {
     "data": {
      "text/plain": [
       "108"
      ]
     },
     "execution_count": 8,
     "metadata": {},
     "output_type": "execute_result"
    }
   ],
   "source": [
    "def f(nums: list):\n",
    "    # 因为涉及负号 以nums[i]结尾的子数组最大乘积dpMax[i] 由 dpMax[i - 1] * nums[i], nums[i], dpMin[i - 1] * nums[i] 几个决定 同理最小乘积\n",
    "    # dpMax[i] 以nums[i]结尾的子数组的最大乘积\n",
    "    # dpMax[i] = max(dpMax[i-1]*nums[i],nums[i])\n",
    "    # dpMax[0] = nums[0]\n",
    "    dpMax = [0] * len(nums)\n",
    "    dpMax[0] = nums[0]\n",
    "    dpMin = [0] * len(nums)\n",
    "    dpMin[0] = nums[0]\n",
    "    for i in range(1, len(nums)):\n",
    "        dpMin[i] = min(dpMin[i - 1] * nums[i], nums[i], dpMax[i - 1] * nums[i])\n",
    "        dpMax[i] = max(dpMax[i - 1] * nums[i], nums[i], dpMin[i - 1] * nums[i])\n",
    "    return max(dpMax)\n",
    "\n",
    "\n",
    "# f([-2, 0, -1]), f([2, 3, -2, 4])\n",
    "# f([-2, 3, -4])\n",
    "f([-1, -2, -9, -6])\n"
   ]
  },
  {
   "cell_type": "code",
   "execution_count": null,
   "metadata": {},
   "outputs": [],
   "source": []
  }
 ],
 "metadata": {
  "interpreter": {
   "hash": "aee8b7b246df8f9039afb4144a1f6fd8d2ca17a180786b69acc140d282b71a49"
  },
  "kernelspec": {
   "display_name": "Python 3.10.1 64-bit",
   "language": "python",
   "name": "python3"
  },
  "language_info": {
   "codemirror_mode": {
    "name": "ipython",
    "version": 3
   },
   "file_extension": ".py",
   "mimetype": "text/x-python",
   "name": "python",
   "nbconvert_exporter": "python",
   "pygments_lexer": "ipython3",
   "version": "3.10.1"
  },
  "orig_nbformat": 4
 },
 "nbformat": 4,
 "nbformat_minor": 2
}
