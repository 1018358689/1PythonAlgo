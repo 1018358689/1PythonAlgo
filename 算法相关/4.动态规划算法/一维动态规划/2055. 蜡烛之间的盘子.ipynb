{
 "cells": [
  {
   "cell_type": "code",
   "execution_count": 14,
   "metadata": {},
   "outputs": [
    {
     "name": "stdout",
     "output_type": "stream",
     "text": [
      "[-1, -1, 2, 2, 2, 5, 5, 5, 5, 9] [2, 2, 2, 5, 5, 5, 9, 9, 9, 9]\n"
     ]
    },
    {
     "data": {
      "text/plain": [
       "[2, 3]"
      ]
     },
     "execution_count": 14,
     "metadata": {},
     "output_type": "execute_result"
    }
   ],
   "source": [
    "def f(s, queries):\n",
    "    preSum = [0] * (len(s) + 1)  # 前缀和\n",
    "    left, right = [-1] * len(s), [len(s)] * len(s)  # 保存每个点左边和右边第一根蜡烛\n",
    "    Sum, l, r = 0, -1, len(s)\n",
    "    for i in range(len(s)):\n",
    "        if s[i] == '*':\n",
    "            Sum += 1\n",
    "        else:\n",
    "            l = i\n",
    "        if s[len(s) - 1 - i] == '|':\n",
    "            r = len(s) - 1 - i\n",
    "        preSum[i + 1] = Sum\n",
    "        left[i] = l\n",
    "        right[len(s) - 1 - i] = r\n",
    "    # [i,j):preSum[j]-pre[i]\n",
    "\n",
    "    res = [0] * len(queries)\n",
    "    for i, (l, r) in enumerate(queries):\n",
    "        lq = right[l]  # 区间内左蜡烛\n",
    "        rq = left[r]  # 区间内右蜡烛\n",
    "        if lq < rq:\n",
    "            res[i] = preSum[rq + 1] - preSum[lq]\n",
    "    return res\n",
    "\n",
    "\n",
    "f('**|**|***|', [[2, 5], [5, 9]])\n",
    "# f('***|**|*****|**||**|*', [[1, 17], [4, 5], [14, 17], [5, 11], [15, 16]])\n"
   ]
  },
  {
   "cell_type": "code",
   "execution_count": null,
   "metadata": {},
   "outputs": [],
   "source": []
  }
 ],
 "metadata": {
  "interpreter": {
   "hash": "aee8b7b246df8f9039afb4144a1f6fd8d2ca17a180786b69acc140d282b71a49"
  },
  "kernelspec": {
   "display_name": "Python 3.10.1 64-bit",
   "language": "python",
   "name": "python3"
  },
  "language_info": {
   "codemirror_mode": {
    "name": "ipython",
    "version": 3
   },
   "file_extension": ".py",
   "mimetype": "text/x-python",
   "name": "python",
   "nbconvert_exporter": "python",
   "pygments_lexer": "ipython3",
   "version": "3.10.1"
  },
  "orig_nbformat": 4
 },
 "nbformat": 4,
 "nbformat_minor": 2
}
