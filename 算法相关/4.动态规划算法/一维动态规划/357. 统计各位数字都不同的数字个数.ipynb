{
 "cells": [
  {
   "cell_type": "code",
   "execution_count": 8,
   "metadata": {},
   "outputs": [
    {
     "data": {
      "text/plain": [
       "(91, 739)"
      ]
     },
     "execution_count": 8,
     "metadata": {},
     "output_type": "execute_result"
    }
   ],
   "source": [
    "def f(n: int):\n",
    "    # dp[i] [0,10^i]各位数不同数字个数\n",
    "    # dp[0] = 1 dp[1]=dp[0]+9 dp[2]=dp[1]+10*9-9=dp[1]+9*9\n",
    "    # n:[2,8]\n",
    "    # 如n=3 中三位数答案有 C(9,1)*A(9,2) 表示第一位数不能0 所以从[1,9]取一个\n",
    "    # 第2，3位 则是从[0,9]去除刚刚第一位再取3位的排列\n",
    "    # 那么 dp[n] = dp[n-1] + C(9,1)*A(9,(n-1))\n",
    "    if n == 0:\n",
    "        return 1\n",
    "    dp = [0] * (n + 1)\n",
    "    dp[0] = 1\n",
    "    dp[1] = 10\n",
    "    for i in range(2, n + 1):\n",
    "        a = 1\n",
    "        x = 9\n",
    "        for _ in range(i - 1):\n",
    "            a *= x\n",
    "            x -= 1\n",
    "        dp[i] = dp[i - 1] + 9 * a\n",
    "    return dp[-1]\n",
    "\n",
    "\n",
    "f(2), f(3)\n"
   ]
  },
  {
   "cell_type": "code",
   "execution_count": null,
   "metadata": {},
   "outputs": [],
   "source": []
  }
 ],
 "metadata": {
  "interpreter": {
   "hash": "aee8b7b246df8f9039afb4144a1f6fd8d2ca17a180786b69acc140d282b71a49"
  },
  "kernelspec": {
   "display_name": "Python 3.10.1 64-bit",
   "language": "python",
   "name": "python3"
  },
  "language_info": {
   "codemirror_mode": {
    "name": "ipython",
    "version": 3
   },
   "file_extension": ".py",
   "mimetype": "text/x-python",
   "name": "python",
   "nbconvert_exporter": "python",
   "pygments_lexer": "ipython3",
   "version": "3.10.1"
  },
  "orig_nbformat": 4
 },
 "nbformat": 4,
 "nbformat_minor": 2
}
