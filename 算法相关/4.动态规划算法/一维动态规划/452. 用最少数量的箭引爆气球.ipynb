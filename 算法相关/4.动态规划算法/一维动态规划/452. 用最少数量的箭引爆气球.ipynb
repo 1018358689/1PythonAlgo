{
 "cells": [
  {
   "cell_type": "code",
   "execution_count": 1,
   "metadata": {},
   "outputs": [],
   "source": [
    "def f(points: list):\n",
    "    # 最长不重叠区间->最长递增子序列\n",
    "    # dp[i] 以points[i]结尾的气球的最长不重叠区间长度 [0,len-1]\n",
    "    # dp[i] = dp[j]+1 寻找i前有没有points[i][0]>points[j][1] else 1\n",
    "    # dp[0] = 1\n",
    "    points.sort(key=lambda x: x[0])\n",
    "    dp = [1] * (len(points))\n",
    "    for i in range(1, len(points)):\n",
    "        for j in range(i - 1, -1, -1):\n",
    "            if points[i][0] > points[j][1]:\n",
    "                dp[i] = dp[j] + 1\n",
    "                break\n",
    "    return max(dp)"
   ]
  },
  {
   "cell_type": "code",
   "execution_count": 3,
   "metadata": {},
   "outputs": [],
   "source": [
    "def f(points: list):\n",
    "    # 最长不重叠区间->最长递增子序列\n",
    "    # dp[i] 以points[i]结尾的气球的最长不重叠区间长度 [0,len-1]\n",
    "    # dp[i] = dp[j]+1 寻找i前有没有points[i][0]>points[j][1] else 1\n",
    "    # dp[0] = 1\n",
    "    points.sort(key=lambda x: x[0])\n",
    "    dp = [1] * (len(points))\n",
    "    ans = 1\n",
    "    for i in range(1, len(points)):\n",
    "        for j in range(i - 1, -1, -1):\n",
    "            if points[i][0] > points[j][1]:\n",
    "                dp[i] = dp[j] + 1\n",
    "                ans = max(ans, dp[i])\n",
    "                break\n",
    "    return ans"
   ]
  },
  {
   "cell_type": "code",
   "execution_count": null,
   "metadata": {},
   "outputs": [],
   "source": []
  }
 ],
 "metadata": {
  "interpreter": {
   "hash": "aee8b7b246df8f9039afb4144a1f6fd8d2ca17a180786b69acc140d282b71a49"
  },
  "kernelspec": {
   "display_name": "Python 3.10.1 64-bit",
   "language": "python",
   "name": "python3"
  },
  "language_info": {
   "codemirror_mode": {
    "name": "ipython",
    "version": 3
   },
   "file_extension": ".py",
   "mimetype": "text/x-python",
   "name": "python",
   "nbconvert_exporter": "python",
   "pygments_lexer": "ipython3",
   "version": "3.10.1"
  },
  "orig_nbformat": 4
 },
 "nbformat": 4,
 "nbformat_minor": 2
}
