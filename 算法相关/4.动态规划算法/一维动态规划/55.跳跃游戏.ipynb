{
 "cells": [
  {
   "cell_type": "code",
   "execution_count": 13,
   "metadata": {},
   "outputs": [
    {
     "name": "stdout",
     "output_type": "stream",
     "text": [
      "0\n",
      "1\n"
     ]
    },
    {
     "data": {
      "text/plain": [
       "True"
      ]
     },
     "execution_count": 13,
     "metadata": {},
     "output_type": "execute_result"
    }
   ],
   "source": [
    "# 回溯超时\n",
    "def f(nums: list):\n",
    "    def dfs(index: int):\n",
    "        if index >= len(nums) - 1:\n",
    "            return True\n",
    "        if nums[index] == 0:\n",
    "            return False\n",
    "        for step in range(nums[index], 0, -1):\n",
    "            if dfs(index + step):\n",
    "                return True\n",
    "        return False\n",
    "\n",
    "    return dfs(0)\n",
    "\n",
    "\n",
    "# f([2, 3, 1, 1, 4]), f([3, 2, 1, 0, 4]), f([0]), f([0, 1])\n",
    "# f([2,0,6,9,8,4,5,0,8,9,1,2,9,6,8,8,0,6,3,1,2,2,1,2,6,5,3,1,2,2,6,4,2,4,3,0,0,0,3,8,2,4,0,1,2,0,1,4,6,5,8,0,7,9,3,4,6,6,5,8,9,3,4,3,7,0,4,9,0,9,8,4,3,0,7,7,1,9,1,9,4,9,0,1,9,5,7,7,1,5,8,2,8,2,6,8,2,2,7,5,1,7,9,6])\n",
    "f([2, 5, 0, 0])\n"
   ]
  },
  {
   "cell_type": "code",
   "execution_count": 17,
   "metadata": {},
   "outputs": [
    {
     "data": {
      "text/plain": [
       "(True, False, True, False)"
      ]
     },
     "execution_count": 17,
     "metadata": {},
     "output_type": "execute_result"
    }
   ],
   "source": [
    "# 贪心算法\n",
    "def f(nums: list):\n",
    "    #jy: 记录至今能走到的最远位置(位置均用列表下标表示, 初始化为第一个位置下标 0);\n",
    "    end = 0\n",
    "    n = len(nums)\n",
    "    #jy: 遍历列表位置下标 i, 结合该位置 i 以及从该位置能往后跳的步数 nums[i], 更新当\n",
    "    #    前能跳到的最远距离 end; 如果遍历到当前位置 i 时, 上一步能跳到的最远距离 end\n",
    "    #    (还没结合当前能跳的最远距离进行更新) 小于当前位置 i, 则说明之前能跳到的最远\n",
    "    #    距离不能到当前位置 i, 则后续的位置都将无法跳到, 直接返回 False;\n",
    "    #jy: 遍历时实际上只需要遍历到倒数第二个位置即可, 因为如果能跳到倒数第二个位置(即\n",
    "    #    下标为 n-2, 只要 nums[n-2] 不为 0, 则就可以往后跳, 此时最后一轮的 end 会更新\n",
    "    #    为大于或等于 n-1 的值; 最极短的情况下的上一轮只能跳到 n-2 位置, 且 nums[n-2]\n",
    "    #    的值为 0, 表明从该位置之后不能再继续往后跳了, 此时更新后的 end 也仍然保持在\n",
    "    #    n-2, 最终返回的也是 False); 当然直接循环到最后一个位置也是可以的, 因为如果能\n",
    "    #    跳到最后一个位置, 则 end 值会基于最后位置 n-1 的基础上结合最后的 nums[n-1] 进\n",
    "    #    行更新, 尽管后面没有其它位置可跳, 但 end 能执行到该更新逻辑也表明其能到达最后\n",
    "    #    一个位置了, 否则会在更新 end 之前就返回 False 了;\n",
    "    for i in range(n - 1):\n",
    "        step = nums[i]\n",
    "\n",
    "        if i > end:\n",
    "            return False\n",
    "        #jy: 基于当前能走的最大步数更新至今能走到的最远位置;\n",
    "        end = max(end, i + step)\n",
    "\n",
    "    return end >= n - 1\n",
    "\n",
    "\n",
    "f([2, 3, 1, 1, 4]), f([3, 2, 1, 0, 4]), f([0]), f([0, 1])\n",
    "# f([2,0,6,9,8,4,5,0,8,9,1,2,9,6,8,8,0,6,3,1,2,2,1,2,6,5,3,1,2,2,6,4,2,4,3,0,0,0,3,8,2,4,0,1,2,0,1,4,6,5,8,0,7,9,3,4,6,6,5,8,9,3,4,3,7,0,4,9,0,9,8,4,3,0,7,7,1,9,1,9,4,9,0,1,9,5,7,7,1,5,8,2,8,2,6,8,2,2,7,5,1,7,9,6])\n",
    "# f([2, 5, 0, 0])"
   ]
  },
  {
   "cell_type": "code",
   "execution_count": 32,
   "metadata": {},
   "outputs": [
    {
     "data": {
      "text/plain": [
       "(True, True)"
      ]
     },
     "execution_count": 32,
     "metadata": {},
     "output_type": "execute_result"
    }
   ],
   "source": [
    "# 贪心算法\n",
    "def f(nums: list):\n",
    "    maxi = 0  # 记录最远能跳到哪\n",
    "    for idx, jump in enumerate(nums[:-1]):  # 忽略最后一个位置\n",
    "        maxi = max(maxi, idx + jump)  # 当前位置上，最远能跳到哪\n",
    "        # 如果最远都只能在原地，那后面就没法跳了\n",
    "        if maxi == idx:\n",
    "            return False\n",
    "    return True\n",
    "\n",
    "\n",
    "# f([2, 3, 1, 1, 4]), f([3, 2, 1, 0, 4]), f([0]), f([0, 1])\n",
    "# f([2, 5, 0, 0])\n",
    "f([2, 3, 1, 1, 4]), f([0])"
   ]
  },
  {
   "cell_type": "code",
   "execution_count": 31,
   "metadata": {},
   "outputs": [
    {
     "data": {
      "text/plain": [
       "(True, True)"
      ]
     },
     "execution_count": 31,
     "metadata": {},
     "output_type": "execute_result"
    }
   ],
   "source": [
    "# 贪心算法\n",
    "def f(nums: list):\n",
    "    if len(nums) == 1:\n",
    "        return True\n",
    "    maxi = 0  # 记录最远能跳到哪\n",
    "    for idx, jump in enumerate(nums[:-1]):  # 忽略最后一个位置\n",
    "        if jump == 0 and maxi <= idx:  # jump=0时候 上一个最远距离也最多到idx 后面就跳不动了\n",
    "            return False\n",
    "        maxi = max(maxi, idx + jump)  # 当前位置上，最远能跳到哪\n",
    "        if maxi >= len(nums) - 1:  # 能直接跳到最后 直接完成任务\n",
    "            return True\n",
    "\n",
    "\n",
    "# f([2, 3, 1, 1, 4]), f([3, 2, 1, 0, 4]), f([0]), f([0, 1])\n",
    "# f([2, 5, 0, 0])\n",
    "f([2, 3, 1, 1, 4]), f([0])\n"
   ]
  },
  {
   "cell_type": "code",
   "execution_count": 39,
   "metadata": {},
   "outputs": [
    {
     "data": {
      "text/plain": [
       "(True, False, True, False)"
      ]
     },
     "execution_count": 39,
     "metadata": {},
     "output_type": "execute_result"
    }
   ],
   "source": [
    "# 贪心算法\n",
    "def f(nums: list):\n",
    "    if len(nums) == 1:\n",
    "        return True\n",
    "    maxi = 0  # 记录最远能跳到哪\n",
    "    for idx, jump in enumerate(nums[:-1]):  # 忽略最后一个位置\n",
    "        if maxi < idx:  # 上一个最远距离也到不了idx 后面就跳不动了\n",
    "            return False\n",
    "        if jump == 0 and maxi == idx:  # jump=0时候 上一个最远距离也刚好到idx 后面就跳不动了\n",
    "            return False\n",
    "        maxi = max(maxi, idx + jump)  # 当前位置上，最远能跳到哪\n",
    "        if maxi >= len(nums) - 1:  # 能直接跳到最后 直接完成任务\n",
    "            return True\n",
    "\n",
    "\n",
    "f([2, 3, 1, 1, 4]), f([3, 2, 1, 0, 4]), f([0]), f([0, 1])\n",
    "# f([2, 5, 0, 0])\n",
    "# f([2, 3, 1, 1, 4]), f([0])\n"
   ]
  },
  {
   "cell_type": "code",
   "execution_count": 5,
   "metadata": {},
   "outputs": [
    {
     "name": "stdout",
     "output_type": "stream",
     "text": [
      "[True, True, True, True, True]\n",
      "[True, True, True, True, False]\n",
      "[True]\n",
      "[True, False]\n"
     ]
    },
    {
     "data": {
      "text/plain": [
       "(True, False, True, False)"
      ]
     },
     "execution_count": 5,
     "metadata": {},
     "output_type": "execute_result"
    }
   ],
   "source": [
    "# 超时\n",
    "# dp[i] 索引i是否可以跳到\n",
    "# dp[i] j:0-i-1 dp[j]True j+nums[j]>=i 存在一个即可\n",
    "# dp[0]=True\n",
    "def f(nums: list):\n",
    "    dp = [False] * len(nums)\n",
    "    dp[0] = True\n",
    "    for i in range(1, len(nums)):\n",
    "        for j in range(i):\n",
    "            if dp[j] and j + nums[j] >= i:\n",
    "                dp[i] = True\n",
    "                break\n",
    "    print(dp)\n",
    "    return dp[-1]\n",
    "\n",
    "\n",
    "f([2, 3, 1, 1, 4]), f([3, 2, 1, 0, 4]), f([0]), f([0, 1])\n"
   ]
  },
  {
   "cell_type": "code",
   "execution_count": 6,
   "metadata": {},
   "outputs": [
    {
     "data": {
      "text/plain": [
       "(True, False, True, False)"
      ]
     },
     "execution_count": 6,
     "metadata": {},
     "output_type": "execute_result"
    }
   ],
   "source": [
    "# 还是超时\n",
    "# dp[i] 索引i是否可以跳到 一旦发现有一个位置跳不到 就提前退出\n",
    "# dp[i] j:0-i-1 dp[j]True j+nums[j]>=i 存在一个即可\n",
    "# dp[0]=True\n",
    "def f(nums: list):\n",
    "    dp = [False] * len(nums)\n",
    "    dp[0] = True\n",
    "    for i in range(1, len(nums)):\n",
    "        for j in range(i):\n",
    "            if dp[j] and j + nums[j] >= i:\n",
    "                dp[i] = True\n",
    "                break\n",
    "        if dp[i]==False:\n",
    "            return False\n",
    "    return dp[-1]\n",
    "\n",
    "\n",
    "f([2, 3, 1, 1, 4]), f([3, 2, 1, 0, 4]), f([0]), f([0, 1])\n"
   ]
  },
  {
   "cell_type": "code",
   "execution_count": 1,
   "metadata": {},
   "outputs": [
    {
     "data": {
      "text/plain": [
       "(True, False, True, False)"
      ]
     },
     "execution_count": 1,
     "metadata": {},
     "output_type": "execute_result"
    }
   ],
   "source": [
    "# maxdis 至今可以跳到最远位置\n",
    "# 如果停留原地则退出\n",
    "def f(nums:list):\n",
    "    maxdis = 0\n",
    "    for i in range(len(nums)-1):\n",
    "        maxdis = max(maxdis,i+nums[i])\n",
    "        if maxdis==i:\n",
    "            return False\n",
    "    return True\n",
    "f([2, 3, 1, 1, 4]), f([3, 2, 1, 0, 4]), f([0]), f([0, 1])\n"
   ]
  },
  {
   "cell_type": "code",
   "execution_count": null,
   "metadata": {},
   "outputs": [],
   "source": [
    "def f(nums: list):\n",
    "    maxLength = 0 # 当前能跳最远距离\n",
    "    for pos, jump in enumerate(nums):\n",
    "        if maxLength < pos: # 无法到达当前位置\n",
    "            return False\n",
    "        maxLength = max(maxLength, pos + jump)\n",
    "        if maxLength >= len(nums) - 1: # 跳到最后了\n",
    "            return True\n"
   ]
  }
 ],
 "metadata": {
  "interpreter": {
   "hash": "004de6046f1b3d314f33fdb43a2dc798b2646e5600efd8df5066c8b63a00ff6d"
  },
  "kernelspec": {
   "display_name": "Python 3.8.10 64-bit",
   "language": "python",
   "name": "python3"
  },
  "language_info": {
   "codemirror_mode": {
    "name": "ipython",
    "version": 3
   },
   "file_extension": ".py",
   "mimetype": "text/x-python",
   "name": "python",
   "nbconvert_exporter": "python",
   "pygments_lexer": "ipython3",
   "version": "3.8.10"
  },
  "orig_nbformat": 4
 },
 "nbformat": 4,
 "nbformat_minor": 2
}
