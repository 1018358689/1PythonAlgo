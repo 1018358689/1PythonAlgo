{
 "cells": [
  {
   "cell_type": "code",
   "execution_count": 18,
   "metadata": {},
   "outputs": [
    {
     "data": {
      "text/plain": [
       "4"
      ]
     },
     "execution_count": 18,
     "metadata": {},
     "output_type": "execute_result"
    }
   ],
   "source": [
    "def f(nums: list):\n",
    "    # 如果前面一个dp是0,那么后面的数是正数则dpPos为1 dpNeg为0,如果后面的数是负数则dpPos为0 dpNeg为1\n",
    "    # dpPos[i] 以nums[i]结尾的乘积为正数的最长子数组长度\n",
    "    # dpNeg[i] 以nums[i]结尾的乘积为负数的最长子数组长度\n",
    "    # dpPos[i] = dpPos[i-1]+1 if nums[i]>0\n",
    "    # dpPos[i] = dpNeg[i-1]+1 if nums[i]<0\n",
    "    # dpPos[i] = 0 if nums[i]==0\n",
    "    # dpPos[0] = 0 if nums[0]<=0 else 1\n",
    "    # dpNeg[0] = 0 if nums[0]>=0 else 1\n",
    "    dpPos, dpNeg = [0] * len(nums), [0] * len(nums)\n",
    "    dpPos[0] = 0 if nums[0] <= 0 else 1\n",
    "    dpNeg[0] = 0 if nums[0] >= 0 else 1\n",
    "    for i in range(1, len(nums)):\n",
    "        if nums[i] == 0:\n",
    "            dpPos[i] = 0\n",
    "            dpNeg[i] = 0\n",
    "        elif nums[i] > 0:\n",
    "            dpPos[i] = dpPos[i - 1] + 1 if dpPos[i - 1] != 0 else 1\n",
    "            dpNeg[i] = dpNeg[i - 1] + 1 if dpNeg[i - 1] != 0 else 0\n",
    "        elif nums[i] < 0:\n",
    "            dpPos[i] = dpNeg[i - 1] + 1 if dpNeg[i - 1] != 0 else 0\n",
    "            dpNeg[i] = dpPos[i - 1] + 1 if dpPos[i - 1] != 0 else 1\n",
    "    return max(dpPos)\n",
    "\n",
    "\n",
    "# f([1, -2, -3, 4])\n",
    "f([0, 1, -2, -3, -4])\n",
    "f([1, 2, 3, 5, -6, 4, 0, 10])\n"
   ]
  },
  {
   "cell_type": "code",
   "execution_count": null,
   "metadata": {},
   "outputs": [],
   "source": []
  }
 ],
 "metadata": {
  "interpreter": {
   "hash": "aee8b7b246df8f9039afb4144a1f6fd8d2ca17a180786b69acc140d282b71a49"
  },
  "kernelspec": {
   "display_name": "Python 3.10.1 64-bit",
   "language": "python",
   "name": "python3"
  },
  "language_info": {
   "codemirror_mode": {
    "name": "ipython",
    "version": 3
   },
   "file_extension": ".py",
   "mimetype": "text/x-python",
   "name": "python",
   "nbconvert_exporter": "python",
   "pygments_lexer": "ipython3",
   "version": "3.10.1"
  },
  "orig_nbformat": 4
 },
 "nbformat": 4,
 "nbformat_minor": 2
}
