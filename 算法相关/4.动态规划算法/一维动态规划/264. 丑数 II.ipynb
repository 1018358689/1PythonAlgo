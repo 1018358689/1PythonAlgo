{
 "cells": [
  {
   "cell_type": "code",
   "execution_count": 5,
   "metadata": {},
   "outputs": [
    {
     "data": {
      "text/plain": [
       "set"
      ]
     },
     "execution_count": 5,
     "metadata": {},
     "output_type": "execute_result"
    }
   ],
   "source": [
    "a = {1}\n",
    "type(a)"
   ]
  },
  {
   "cell_type": "code",
   "execution_count": 5,
   "metadata": {},
   "outputs": [
    {
     "data": {
      "text/plain": [
       "12"
      ]
     },
     "execution_count": 5,
     "metadata": {},
     "output_type": "execute_result"
    }
   ],
   "source": [
    "import heapq\n",
    "\n",
    "\n",
    "def f(n: int):\n",
    "    pq = [1]\n",
    "    vis = {1}\n",
    "    basic = {2, 3, 5}\n",
    "    for i in range(1, n + 1):\n",
    "        x = heapq.heappop(pq)\n",
    "        if i == n:\n",
    "            return x\n",
    "        for b in basic:\n",
    "            if (newNum := x * b) not in vis:\n",
    "                vis.add(newNum)\n",
    "                heapq.heappush(pq, newNum)\n",
    "\n",
    "\n",
    "f(10)\n"
   ]
  },
  {
   "cell_type": "code",
   "execution_count": 7,
   "metadata": {},
   "outputs": [
    {
     "data": {
      "text/plain": [
       "12"
      ]
     },
     "execution_count": 7,
     "metadata": {},
     "output_type": "execute_result"
    }
   ],
   "source": [
    "# 多路归并 构造dp\n",
    "def f(n: int):\n",
    "    dp = [0] * (n + 1)\n",
    "    dp[1] = 1\n",
    "    i2 = i3 = i5 = 1\n",
    "    for idx in range(2, n + 1):\n",
    "        a, b, c = dp[i2] * 2, dp[i3] * 3, dp[i5] * 5 # 有三路丑数生成器\n",
    "        m = min(a, b, c) # 只有最小的前进 有可能存在多个最小的\n",
    "        if m == a:\n",
    "            i2 += 1\n",
    "        if m == b:\n",
    "            i3 += 1\n",
    "        if m == c:\n",
    "            i5 += 1\n",
    "        dp[idx] = m\n",
    "    return dp[-1]\n",
    "\n",
    "\n",
    "f(10)"
   ]
  },
  {
   "cell_type": "code",
   "execution_count": 9,
   "metadata": {},
   "outputs": [
    {
     "data": {
      "text/plain": [
       "12"
      ]
     },
     "execution_count": 9,
     "metadata": {},
     "output_type": "execute_result"
    }
   ],
   "source": [
    "# 多路归并 构造dp\n",
    "def f(n: int):\n",
    "    dp = [1]\n",
    "    i2 = i3 = i5 = 0\n",
    "    for _ in range(n - 1):\n",
    "        dp.append(min(dp[i2] * 2, dp[i3] * 3, dp[i5] * 5))  # 有三路\n",
    "        if dp[-1] == dp[i2] * 2:\n",
    "            i2 += 1\n",
    "        if dp[-1] == dp[i3] * 3:\n",
    "            i3 += 1\n",
    "        if dp[-1] == dp[i5] * 5:\n",
    "            i5 += 1\n",
    "    return dp[-1]\n",
    "\n",
    "\n",
    "f(10)"
   ]
  },
  {
   "cell_type": "code",
   "execution_count": null,
   "metadata": {},
   "outputs": [],
   "source": []
  }
 ],
 "metadata": {
  "interpreter": {
   "hash": "aee8b7b246df8f9039afb4144a1f6fd8d2ca17a180786b69acc140d282b71a49"
  },
  "kernelspec": {
   "display_name": "Python 3.10.1 64-bit",
   "language": "python",
   "name": "python3"
  },
  "language_info": {
   "codemirror_mode": {
    "name": "ipython",
    "version": 3
   },
   "file_extension": ".py",
   "mimetype": "text/x-python",
   "name": "python",
   "nbconvert_exporter": "python",
   "pygments_lexer": "ipython3",
   "version": "3.10.4"
  },
  "orig_nbformat": 4
 },
 "nbformat": 4,
 "nbformat_minor": 2
}
