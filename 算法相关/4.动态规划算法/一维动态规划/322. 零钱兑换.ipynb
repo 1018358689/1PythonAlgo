{
 "cells": [
  {
   "cell_type": "code",
   "execution_count": null,
   "metadata": {},
   "outputs": [],
   "source": [
    "def f(coins: list, amount: list):\n",
    "    # dp[i] 凑成i的最少硬币数 i:[0,amount]\n",
    "    # 状态i 可以由 i-coins 转移\n",
    "    # basecase dp[0] = 0\n",
    "    dp = [float('inf')] * (amount + 1)\n",
    "    dp[0] = 0\n",
    "    for i in range(1, amount + 1):\n",
    "        for c in coins:\n",
    "            if i - c >= 0:\n",
    "                dp[i] = min(dp[i], dp[i - c] + 1)\n",
    "    return dp[-1] if dp[-1] != float('inf') else -1\n"
   ]
  },
  {
   "cell_type": "code",
   "execution_count": 7,
   "metadata": {},
   "outputs": [
    {
     "data": {
      "text/plain": [
       "-1"
      ]
     },
     "execution_count": 7,
     "metadata": {},
     "output_type": "execute_result"
    }
   ],
   "source": [
    "import collections\n",
    "def f(coins: list, amount: list):\n",
    "    coins.sort(reverse=True)\n",
    "    q = collections.deque([amount])\n",
    "    visited = set()\n",
    "    visited.add(amount)  # visited出现过 说明肯定在上面层出现，意味着已经可以用更少钱实现 参考([1,4,5],11)余额6在下层会重复出现\n",
    "    cnt = 0\n",
    "    while q:\n",
    "        sz = len(q)\n",
    "        for _ in range(sz):\n",
    "            amount = q.popleft()\n",
    "            if amount == 0:\n",
    "                return cnt\n",
    "            for c in coins:\n",
    "                tmp = amount - c\n",
    "                if tmp < 0 or tmp in visited:\n",
    "                    continue\n",
    "                visited.add(tmp)\n",
    "                q.append(tmp)\n",
    "        cnt += 1\n",
    "    return -1\n",
    "\n",
    "f([2], 3)\n"
   ]
  },
  {
   "cell_type": "code",
   "execution_count": 6,
   "metadata": {},
   "outputs": [
    {
     "data": {
      "text/plain": [
       "20"
      ]
     },
     "execution_count": 6,
     "metadata": {},
     "output_type": "execute_result"
    }
   ],
   "source": [
    "# A*算法\n",
    "import heapq\n",
    "\n",
    "\n",
    "def f(coins: list, amount: list):\n",
    "    pq = [(0, 0, amount)]  # priority , step, curAmount\n",
    "    costs = {amount: 0}\n",
    "    best = set()\n",
    "\n",
    "    def h(amount):\n",
    "        return (amount - 0)//max(coins)\n",
    "\n",
    "    while pq:\n",
    "        _, step, cur = heapq.heappop(pq)\n",
    "        if cur == 0:\n",
    "            return step\n",
    "        best.add(cur)\n",
    "        for c in coins:\n",
    "            nei = cur - c\n",
    "            if nei >= 0 and nei not in best:\n",
    "                if nei not in costs or step + 1 < costs[nei]:\n",
    "                    costs[nei] = step + 1\n",
    "                    priority = step + 1 + h(nei)\n",
    "                    heapq.heappush(pq, (priority, step + 1, nei))\n",
    "    return -1\n",
    "\n",
    "\n",
    "f([186, 419, 83, 408], 6249)\n"
   ]
  },
  {
   "cell_type": "code",
   "execution_count": 10,
   "metadata": {},
   "outputs": [
    {
     "data": {
      "text/plain": [
       "-1"
      ]
     },
     "execution_count": 10,
     "metadata": {},
     "output_type": "execute_result"
    }
   ],
   "source": [
    "def f(coins: list, amount: list):\n",
    "    mem = {0: 0}\n",
    "\n",
    "    def dp(amount: int):\n",
    "        if amount in mem:\n",
    "            return mem[amount]\n",
    "        res = float('inf')\n",
    "        for c in coins:\n",
    "            if amount - c >= 0:\n",
    "                res = min(res, dp(amount - c) + 1)\n",
    "        mem[amount] = res\n",
    "        return mem[amount]\n",
    "\n",
    "    return dp(amount) if dp(amount) != float('inf') else -1\n",
    "\n",
    "\n",
    "f([2], 3)\n"
   ]
  },
  {
   "cell_type": "code",
   "execution_count": 8,
   "metadata": {},
   "outputs": [
    {
     "data": {
      "text/plain": [
       "-1"
      ]
     },
     "execution_count": 8,
     "metadata": {},
     "output_type": "execute_result"
    }
   ],
   "source": [
    "def f(coins: list, amount: list):\n",
    "    mem = {}\n",
    "\n",
    "    def dp(amount: int):\n",
    "        if amount in mem:\n",
    "            return mem[amount]\n",
    "        if amount == 0: return 0\n",
    "        if amount < 0: return -1\n",
    "        res = float('inf')\n",
    "        for c in coins:\n",
    "            sub = dp(amount - c)\n",
    "            if sub != -1:\n",
    "                res = min(res, sub + 1)\n",
    "        mem[amount] = res if res != float('inf') else -1\n",
    "        return mem[amount]\n",
    "\n",
    "    return dp(amount)\n",
    "\n",
    "\n",
    "f([2], 3)\n"
   ]
  },
  {
   "cell_type": "code",
   "execution_count": null,
   "metadata": {},
   "outputs": [],
   "source": []
  }
 ],
 "metadata": {
  "interpreter": {
   "hash": "aee8b7b246df8f9039afb4144a1f6fd8d2ca17a180786b69acc140d282b71a49"
  },
  "kernelspec": {
   "display_name": "Python 3.10.1 64-bit",
   "language": "python",
   "name": "python3"
  },
  "language_info": {
   "codemirror_mode": {
    "name": "ipython",
    "version": 3
   },
   "file_extension": ".py",
   "mimetype": "text/x-python",
   "name": "python",
   "nbconvert_exporter": "python",
   "pygments_lexer": "ipython3",
   "version": "3.10.4"
  },
  "orig_nbformat": 4
 },
 "nbformat": 4,
 "nbformat_minor": 2
}
