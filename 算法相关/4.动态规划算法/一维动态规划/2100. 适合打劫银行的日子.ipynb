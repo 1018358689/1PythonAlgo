{
 "cells": [
  {
   "cell_type": "code",
   "execution_count": null,
   "metadata": {},
   "outputs": [],
   "source": [
    "def f(security, time):\n",
    "    left = [0] * len(security)  # 索引i天左边 非严格递减天数\n",
    "    right = [0] * len(security)  # 索引i天右边 非严格递增天数\n",
    "    for i in range(1, len(security)):\n",
    "        if security[i] <= security[i - 1]:\n",
    "            left[i] = left[i - 1] + 1\n",
    "    for i in range(len(security) - 2, -1, -1):\n",
    "        if security[i] <= security[i + 1]:\n",
    "            right[i] = right[i + 1] + 1\n",
    "    res = []\n",
    "    for i in range(len(security)):\n",
    "        if left[i] >= time and right[i] >= time:\n",
    "            res.append(i)\n",
    "    return res"
   ]
  }
 ],
 "metadata": {
  "language_info": {
   "name": "python"
  },
  "orig_nbformat": 4
 },
 "nbformat": 4,
 "nbformat_minor": 2
}
