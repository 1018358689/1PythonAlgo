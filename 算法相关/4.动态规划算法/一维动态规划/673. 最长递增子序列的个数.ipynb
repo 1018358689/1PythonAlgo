{
 "cells": [
  {
   "cell_type": "code",
   "execution_count": 7,
   "metadata": {},
   "outputs": [
    {
     "data": {
      "text/plain": [
       "2"
      ]
     },
     "execution_count": 7,
     "metadata": {},
     "output_type": "execute_result"
    }
   ],
   "source": [
    "# dp[i] 以nums[i]结尾的 最长递增子序列长度\n",
    "# cnt[i] 以nums[i]结尾的 最长递增子序列个数\n",
    "# https://leetcode-cn.com/problems/number-of-longest-increasing-subsequence/solution/673-zui-chang-di-zeng-zi-xu-lie-de-ge-sh-g7a0/\n",
    "def f(nums: list):\n",
    "    dp = [1] * len(nums)\n",
    "    cnt = [1] * len(nums)\n",
    "    maxlength = 0\n",
    "    for i in range(len(nums)):\n",
    "        for j in range(i):\n",
    "            if nums[j] < nums[i]:\n",
    "                if dp[i] < dp[j] + 1:\n",
    "                    dp[i] = dp[j] + 1\n",
    "                    cnt[i] = cnt[j]\n",
    "                elif dp[i] == dp[j] + 1:\n",
    "                    cnt[i] += cnt[j]\n",
    "        maxlength = max(maxlength, dp[i])\n",
    "    res = 0\n",
    "    for i, n in enumerate(dp):\n",
    "        if n == maxlength:\n",
    "            res += cnt[i]\n",
    "    return res\n",
    "\n",
    "\n",
    "f([1, 3, 5, 4, 7])\n",
    "# f([2, 2, 2, 2, 2])\n"
   ]
  },
  {
   "cell_type": "code",
   "execution_count": 3,
   "metadata": {},
   "outputs": [
    {
     "data": {
      "text/plain": [
       "2"
      ]
     },
     "execution_count": 3,
     "metadata": {},
     "output_type": "execute_result"
    }
   ],
   "source": [
    "def f(nums: list):\n",
    "    # dp[i] 以nums[i]结尾的最长递增子序列长度 [0,len-1]\n",
    "    # cnt[i] 以nums[i]结尾的最长递增子序列的个数\n",
    "    # dp[i] =  遍历j取最大 dp[j]+1 找i前面的j存在nums[i]>nums[j] else 1\n",
    "    # cnt[i] = cnt[j]找i前面的j存在nums[i]>nums[j] 且 dp[i]<dp[j]+1 elif dp[i]==dp[j]+1: +=cnt[j]\n",
    "    # basecase dp[0]=1 cnt[0]=1\n",
    "    dp = [1] * len(nums)\n",
    "    cnt = [1] * len(nums)\n",
    "    for i in range(1, len(nums)):\n",
    "        for j in range(i):\n",
    "            if nums[i] > nums[j]:\n",
    "                if dp[i] < dp[j] + 1:\n",
    "                    dp[i] = dp[j] + 1\n",
    "                    cnt[i] = cnt[j]\n",
    "                elif dp[i] == dp[j] + 1:\n",
    "                    cnt[i] += cnt[j]\n",
    "    maxLength = max(dp)\n",
    "    return sum(cnt[i] for i, n in enumerate(dp) if n == maxLength)\n",
    "\n",
    "\n",
    "f([1, 3, 5, 4, 7])\n"
   ]
  },
  {
   "cell_type": "code",
   "execution_count": null,
   "metadata": {},
   "outputs": [],
   "source": []
  }
 ],
 "metadata": {
  "interpreter": {
   "hash": "aee8b7b246df8f9039afb4144a1f6fd8d2ca17a180786b69acc140d282b71a49"
  },
  "kernelspec": {
   "display_name": "Python 3.10.1 64-bit",
   "language": "python",
   "name": "python3"
  },
  "language_info": {
   "codemirror_mode": {
    "name": "ipython",
    "version": 3
   },
   "file_extension": ".py",
   "mimetype": "text/x-python",
   "name": "python",
   "nbconvert_exporter": "python",
   "pygments_lexer": "ipython3",
   "version": "3.10.1"
  },
  "orig_nbformat": 4
 },
 "nbformat": 4,
 "nbformat_minor": 2
}
