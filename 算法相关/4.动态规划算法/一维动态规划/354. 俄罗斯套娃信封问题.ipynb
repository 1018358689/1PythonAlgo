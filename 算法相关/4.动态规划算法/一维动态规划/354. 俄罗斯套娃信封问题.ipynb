{
 "cells": [
  {
   "cell_type": "code",
   "execution_count": 3,
   "metadata": {},
   "outputs": [
    {
     "data": {
      "text/plain": [
       "[3, 4, 3, 7, 4]"
      ]
     },
     "execution_count": 3,
     "metadata": {},
     "output_type": "execute_result"
    }
   ],
   "source": [
    "envelopes = [[5, 4], [6, 4], [5, 3], [6, 7], [2, 3]]\n",
    "envelopes.sort(key=lambda x: (x[0], -x[1]))\n",
    "heights = [h for w, h in envelopes]\n",
    "heights"
   ]
  },
  {
   "cell_type": "code",
   "execution_count": 8,
   "metadata": {},
   "outputs": [
    {
     "data": {
      "text/plain": [
       "3"
      ]
     },
     "execution_count": 8,
     "metadata": {},
     "output_type": "execute_result"
    }
   ],
   "source": [
    "# dp[i] 以索引i结尾的信封最多可以构成的“俄罗斯套娃”数量\n",
    "# 转换对高度求最长递增子序列\n",
    "# dp[i] 以索引i结尾的最长递增子序列长度 可以不连续\n",
    "# dp[i] = j:0->i-1的dp 取最大值+1 前提nums[i]>nums[j] 找不到就1\n",
    "# dp[0]=1\n",
    "def f(envelopes: list):\n",
    "    envelopes.sort(key=lambda x: (x[0], -x[1]))\n",
    "    heights = [h for w, h in envelopes]\n",
    "    dp = [1] * len(heights)\n",
    "    dp[0] = 1\n",
    "    for i in range(1, len(heights)):\n",
    "        for j in range(i):\n",
    "            if heights[i] > heights[j]:\n",
    "                dp[i] = max(dp[i], dp[j] + 1)\n",
    "    return max(dp)\n",
    "\n",
    "\n",
    "f([[5, 4], [6, 4], [6, 7], [2, 3]])\n"
   ]
  },
  {
   "cell_type": "code",
   "execution_count": 9,
   "metadata": {},
   "outputs": [
    {
     "data": {
      "text/plain": [
       "3"
      ]
     },
     "execution_count": 9,
     "metadata": {},
     "output_type": "execute_result"
    }
   ],
   "source": [
    "# dp[i] 以索引i结尾的信封最多可以构成的“俄罗斯套娃”数量\n",
    "# 转换对高度求最长递增子序列\n",
    "# dp[i] 以索引i结尾的最长递增子序列长度 可以不连续\n",
    "# dp[i] = j:0->i-1的dp 取最大值+1 前提nums[i]>nums[j] 找不到就1\n",
    "# dp[0]=1\n",
    "def f(envelopes: list):\n",
    "    envelopes.sort(key=lambda x: (x[0], -x[1]))\n",
    "    heights = [h for w, h in envelopes]\n",
    "    dp = [float('-inf')] * len(heights)\n",
    "    dp[0] = 1\n",
    "    for i in range(1, len(heights)):\n",
    "        signal = True\n",
    "        for j in range(i):\n",
    "            if heights[i] > heights[j]:\n",
    "                signal = False\n",
    "                dp[i] = max(dp[i], dp[j] + 1)\n",
    "        if signal:\n",
    "            dp[i] = 1\n",
    "    return max(dp)\n",
    "\n",
    "\n",
    "f([[5, 4], [6, 4], [6, 7], [2, 3]])\n"
   ]
  },
  {
   "cell_type": "code",
   "execution_count": null,
   "metadata": {},
   "outputs": [],
   "source": []
  }
 ],
 "metadata": {
  "interpreter": {
   "hash": "aee8b7b246df8f9039afb4144a1f6fd8d2ca17a180786b69acc140d282b71a49"
  },
  "kernelspec": {
   "display_name": "Python 3.10.1 64-bit",
   "language": "python",
   "name": "python3"
  },
  "language_info": {
   "codemirror_mode": {
    "name": "ipython",
    "version": 3
   },
   "file_extension": ".py",
   "mimetype": "text/x-python",
   "name": "python",
   "nbconvert_exporter": "python",
   "pygments_lexer": "ipython3",
   "version": "3.10.1"
  },
  "orig_nbformat": 4
 },
 "nbformat": 4,
 "nbformat_minor": 2
}
