{
 "cells": [
  {
   "cell_type": "code",
   "execution_count": null,
   "metadata": {},
   "outputs": [],
   "source": [
    "# Definition for a binary tree node.\n",
    "class TreeNode:\n",
    "\n",
    "    def __init__(self, val=0, left=None, right=None):\n",
    "        self.val = val\n",
    "        self.left = left\n",
    "        self.right = right\n",
    "\n",
    "\n",
    "class Solution:\n",
    "\n",
    "    def rob(self, root: TreeNode) -> int:\n",
    "\n",
    "        def dfs(node):  # 返回节点偷和不偷所能得到最大金额\n",
    "            if not node:\n",
    "                return 0, 0\n",
    "            leftRob, leftNoRob = dfs(node.left)\n",
    "            rightRob, rightNoRob = dfs(node.right)\n",
    "            curRob = node.val + leftNoRob + rightNoRob\n",
    "            curNoRob = max(leftRob, leftNoRob) + max(rightRob, rightNoRob)\n",
    "            return curRob, curNoRob\n",
    "\n",
    "        return max(dfs(root))"
   ]
  }
 ],
 "metadata": {
  "language_info": {
   "name": "python"
  },
  "orig_nbformat": 4
 },
 "nbformat": 4,
 "nbformat_minor": 2
}
