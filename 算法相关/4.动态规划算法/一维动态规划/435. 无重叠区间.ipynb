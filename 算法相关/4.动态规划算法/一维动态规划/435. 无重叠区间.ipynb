{
 "cells": [
  {
   "cell_type": "code",
   "execution_count": 12,
   "metadata": {},
   "outputs": [
    {
     "data": {
      "text/plain": [
       "2"
      ]
     },
     "execution_count": 12,
     "metadata": {},
     "output_type": "execute_result"
    }
   ],
   "source": [
    "def f(intervals: list):\n",
    "    intervals.sort(key=lambda x: x[0])\n",
    "    # dp[i] 以intervals[i]结尾的最长递增子序长度 [0,len-1]\n",
    "    # basecase dp[0]=1\n",
    "    # dp[i] = dp[j]+1 找前面有没有第二位比intervals[i][0]小的 else 1\n",
    "    sz = len(intervals)\n",
    "    dp = [1] * sz\n",
    "    for i in range(1, sz):\n",
    "        for j in range(i - 1, -1, -1):\n",
    "            if intervals[i][0] >= intervals[j][1]:\n",
    "                dp[i] = dp[j] + 1\n",
    "                break\n",
    "    return sz - max(dp)\n",
    "\n",
    "\n",
    "f([[1, 2], [2, 3], [3, 4], [1, 3]])\n",
    "f([[1, 2], [1, 2], [1, 2]])\n",
    "f([[1, 2], [2, 3]])\n",
    "f([[1, 100], [11, 22], [1, 11], [2, 12]])"
   ]
  },
  {
   "cell_type": "code",
   "execution_count": null,
   "metadata": {},
   "outputs": [],
   "source": []
  }
 ],
 "metadata": {
  "interpreter": {
   "hash": "aee8b7b246df8f9039afb4144a1f6fd8d2ca17a180786b69acc140d282b71a49"
  },
  "kernelspec": {
   "display_name": "Python 3.10.1 64-bit",
   "language": "python",
   "name": "python3"
  },
  "language_info": {
   "codemirror_mode": {
    "name": "ipython",
    "version": 3
   },
   "file_extension": ".py",
   "mimetype": "text/x-python",
   "name": "python",
   "nbconvert_exporter": "python",
   "pygments_lexer": "ipython3",
   "version": "3.10.1"
  },
  "orig_nbformat": 4
 },
 "nbformat": 4,
 "nbformat_minor": 2
}
