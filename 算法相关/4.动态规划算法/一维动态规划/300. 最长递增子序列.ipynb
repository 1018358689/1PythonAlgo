{
 "cells": [
  {
   "cell_type": "code",
   "execution_count": 8,
   "metadata": {},
   "outputs": [
    {
     "name": "stdout",
     "output_type": "stream",
     "text": [
      "[1, 1, 1, 2, 2, 3, 4, 1]\n",
      "[1, 2, 1, 3, 3, 4]\n",
      "[1, 1, 1, 1, 1, 1, 1]\n"
     ]
    },
    {
     "data": {
      "text/plain": [
       "(4, 4, 1)"
      ]
     },
     "execution_count": 8,
     "metadata": {},
     "output_type": "execute_result"
    }
   ],
   "source": [
    "# dp[i]以索引i结尾的最长递增子序列的长度\n",
    "# dp[i]= j:0->i-1 nums[j]<nums[i]->dp[j]+1 取最大\n",
    "# dp[0]=1\n",
    "def f(nums: list):\n",
    "    dp = [1] * len(nums)\n",
    "    dp[0] = 1\n",
    "    for i in range(1, len(nums)):\n",
    "        for j in range(i):\n",
    "            if nums[j] < nums[i]:\n",
    "                dp[i] = max(dp[i], dp[j] + 1)\n",
    "    print(dp)\n",
    "    return max(dp)\n",
    "\n",
    "\n",
    "f([10, 9, 2, 5, 3, 7, 101, 1]), f([0, 1, 0, 3, 2, 3]), f([7, 7, 7, 7, 7, 7, 7])"
   ]
  }
 ],
 "metadata": {
  "interpreter": {
   "hash": "aee8b7b246df8f9039afb4144a1f6fd8d2ca17a180786b69acc140d282b71a49"
  },
  "kernelspec": {
   "display_name": "Python 3.10.1 64-bit",
   "language": "python",
   "name": "python3"
  },
  "language_info": {
   "codemirror_mode": {
    "name": "ipython",
    "version": 3
   },
   "file_extension": ".py",
   "mimetype": "text/x-python",
   "name": "python",
   "nbconvert_exporter": "python",
   "pygments_lexer": "ipython3",
   "version": "3.10.1"
  },
  "orig_nbformat": 4
 },
 "nbformat": 4,
 "nbformat_minor": 2
}
