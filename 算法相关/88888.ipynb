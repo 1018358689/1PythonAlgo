{
 "cells": [
  {
   "cell_type": "code",
   "execution_count": 1,
   "metadata": {},
   "outputs": [
    {
     "data": {
      "text/plain": [
       "'1[.]1[.]1[.]1'"
      ]
     },
     "execution_count": 1,
     "metadata": {},
     "output_type": "execute_result"
    }
   ],
   "source": [
    "address = \"1.1.1.1\"\n",
    "address.replace('.','[.]')"
   ]
  },
  {
   "cell_type": "code",
   "execution_count": 1,
   "metadata": {},
   "outputs": [
    {
     "data": {
      "text/plain": [
       "(True, False, False)"
      ]
     },
     "execution_count": 1,
     "metadata": {},
     "output_type": "execute_result"
    }
   ],
   "source": [
    "def check(s: str):\n",
    "    ha = {'(': ')', '[': ']', '{': '}'}\n",
    "    stack = []  # 栈\n",
    "    for n in s:\n",
    "        if n in ha:  # 左括号入栈\n",
    "            stack.append(n)\n",
    "        else:  # 遇到右括号则 检查栈顶是否是匹配的左括号 是则出栈 否则提前退出\n",
    "            if stack and ha[stack[-1]] == n:\n",
    "                stack.pop()\n",
    "            else:\n",
    "                return False\n",
    "    return not stack  # 检查是否全部左括号匹配完\n",
    "\n",
    "\n",
    "check('({})[{}([]())]'), check('{([])]}'), check('((){}[){}]')\n"
   ]
  },
  {
   "cell_type": "code",
   "execution_count": 10,
   "metadata": {},
   "outputs": [
    {
     "ename": "IndexError",
     "evalue": "栈空",
     "output_type": "error",
     "traceback": [
      "\u001b[1;31m---------------------------------------------------------------------------\u001b[0m",
      "\u001b[1;31mIndexError\u001b[0m                                Traceback (most recent call last)",
      "\u001b[1;32md:\\OneDrive\\PythonProject\\1PythonAlgo\\算法相关\\9999.ipynb Cell 5'\u001b[0m in \u001b[0;36m<cell line: 30>\u001b[1;34m()\u001b[0m\n\u001b[0;32m     <a href='vscode-notebook-cell:/d%3A/OneDrive/PythonProject/1PythonAlgo/%E7%AE%97%E6%B3%95%E7%9B%B8%E5%85%B3/9999.ipynb#ch0000004?line=25'>26</a>\u001b[0m         \u001b[39mreturn\u001b[39;00m \u001b[39mself\u001b[39m\u001b[39m.\u001b[39mminStack[\u001b[39m-\u001b[39m\u001b[39m1\u001b[39m]\n\u001b[0;32m     <a href='vscode-notebook-cell:/d%3A/OneDrive/PythonProject/1PythonAlgo/%E7%AE%97%E6%B3%95%E7%9B%B8%E5%85%B3/9999.ipynb#ch0000004?line=28'>29</a>\u001b[0m s \u001b[39m=\u001b[39m MinStack()\n\u001b[1;32m---> <a href='vscode-notebook-cell:/d%3A/OneDrive/PythonProject/1PythonAlgo/%E7%AE%97%E6%B3%95%E7%9B%B8%E5%85%B3/9999.ipynb#ch0000004?line=29'>30</a>\u001b[0m s\u001b[39m.\u001b[39;49mpop()\n",
      "\u001b[1;32md:\\OneDrive\\PythonProject\\1PythonAlgo\\算法相关\\9999.ipynb Cell 5'\u001b[0m in \u001b[0;36mMinStack.pop\u001b[1;34m(self)\u001b[0m\n\u001b[0;32m     <a href='vscode-notebook-cell:/d%3A/OneDrive/PythonProject/1PythonAlgo/%E7%AE%97%E6%B3%95%E7%9B%B8%E5%85%B3/9999.ipynb#ch0000004?line=11'>12</a>\u001b[0m \u001b[39mdef\u001b[39;00m \u001b[39mpop\u001b[39m(\u001b[39mself\u001b[39m):\n\u001b[0;32m     <a href='vscode-notebook-cell:/d%3A/OneDrive/PythonProject/1PythonAlgo/%E7%AE%97%E6%B3%95%E7%9B%B8%E5%85%B3/9999.ipynb#ch0000004?line=12'>13</a>\u001b[0m     \u001b[39mif\u001b[39;00m \u001b[39mnot\u001b[39;00m \u001b[39mself\u001b[39m\u001b[39m.\u001b[39mstack:\n\u001b[1;32m---> <a href='vscode-notebook-cell:/d%3A/OneDrive/PythonProject/1PythonAlgo/%E7%AE%97%E6%B3%95%E7%9B%B8%E5%85%B3/9999.ipynb#ch0000004?line=13'>14</a>\u001b[0m         \u001b[39mraise\u001b[39;00m \u001b[39mIndexError\u001b[39;00m(\u001b[39m'\u001b[39m\u001b[39m栈空\u001b[39m\u001b[39m'\u001b[39m)\n\u001b[0;32m     <a href='vscode-notebook-cell:/d%3A/OneDrive/PythonProject/1PythonAlgo/%E7%AE%97%E6%B3%95%E7%9B%B8%E5%85%B3/9999.ipynb#ch0000004?line=14'>15</a>\u001b[0m     \u001b[39mif\u001b[39;00m \u001b[39mself\u001b[39m\u001b[39m.\u001b[39mstack\u001b[39m.\u001b[39mpop() \u001b[39m==\u001b[39m \u001b[39mself\u001b[39m\u001b[39m.\u001b[39mminStack[\u001b[39m-\u001b[39m\u001b[39m1\u001b[39m]:\n\u001b[0;32m     <a href='vscode-notebook-cell:/d%3A/OneDrive/PythonProject/1PythonAlgo/%E7%AE%97%E6%B3%95%E7%9B%B8%E5%85%B3/9999.ipynb#ch0000004?line=15'>16</a>\u001b[0m         \u001b[39mself\u001b[39m\u001b[39m.\u001b[39mminStack\u001b[39m.\u001b[39mpop()\n",
      "\u001b[1;31mIndexError\u001b[0m: 栈空"
     ]
    }
   ],
   "source": [
    "class MinStack:\n",
    "\n",
    "    def __init__(self):\n",
    "        self.stack = []\n",
    "        self.minStack = [] # 存当前最小值 递减栈 非单调\n",
    "\n",
    "    def push(self, val):\n",
    "        self.stack.append(val)\n",
    "        if not self.minStack or self.minStack[-1] >= val:\n",
    "            self.minStack.append(val)\n",
    "\n",
    "    def pop(self):\n",
    "        if not self.stack:\n",
    "            raise IndexError('栈空')\n",
    "        if self.stack.pop() == self.minStack[-1]:\n",
    "            self.minStack.pop()\n",
    "\n",
    "    def top(self):\n",
    "        if not self.stack:\n",
    "            raise IndexError('栈空')\n",
    "        return self.stack[-1]\n",
    "\n",
    "    def getMin(self):\n",
    "        if not self.stack:\n",
    "            raise IndexError('栈空')\n",
    "        return self.minStack[-1]\n",
    "\n",
    "\n",
    "s = MinStack()\n",
    "s.pop()"
   ]
  },
  {
   "cell_type": "code",
   "execution_count": 1,
   "metadata": {},
   "outputs": [
    {
     "data": {
      "text/plain": [
       "([2, -1, 2], [-1, 4, 4, 5, 5])"
      ]
     },
     "execution_count": 1,
     "metadata": {},
     "output_type": "execute_result"
    }
   ],
   "source": [
    "def theNextLargerElements(arr: list):\n",
    "    lgh = len(arr)\n",
    "    stack = []  # 单调递减栈\n",
    "    ans = [-1] * lgh  # 存结果\n",
    "    for i in range(2 * lgh, -1, -1):  # 倒序遍历循环数组\n",
    "        cur = arr[i % lgh]\n",
    "        while stack and stack[-1] <= cur:  # 维持单调性\n",
    "            stack.pop()\n",
    "        if stack:  # 栈顶即下一个更大元素\n",
    "            ans[i % lgh] = stack[-1]\n",
    "        stack.append(cur)\n",
    "    return ans\n",
    "\n",
    "\n",
    "theNextLargerElements([1, 2, 1]), theNextLargerElements([5, 3, 2, 4, 1])"
   ]
  },
  {
   "cell_type": "code",
   "execution_count": 3,
   "metadata": {},
   "outputs": [
    {
     "data": {
      "text/plain": [
       "[(6, 9), (5, 8), (4, 7)]"
      ]
     },
     "execution_count": 3,
     "metadata": {},
     "output_type": "execute_result"
    }
   ],
   "source": [
    "q = [[4,5,6],[7,8,9]]\n",
    "list(zip(*q))[::-1]"
   ]
  },
  {
   "cell_type": "code",
   "execution_count": 3,
   "metadata": {},
   "outputs": [
    {
     "data": {
      "text/plain": [
       "[-1, 1, -1, 3, -1, 5, -1, 7, -1, 9]"
      ]
     },
     "execution_count": 3,
     "metadata": {},
     "output_type": "execute_result"
    }
   ],
   "source": [
    "[i if i & 1 == 1 else -1 for i in range(10)]\n"
   ]
  },
  {
   "cell_type": "code",
   "execution_count": 13,
   "metadata": {},
   "outputs": [
    {
     "data": {
      "text/plain": [
       "True"
      ]
     },
     "execution_count": 13,
     "metadata": {},
     "output_type": "execute_result"
    }
   ],
   "source": [
    "from typing import List\n",
    "\n",
    "\n",
    "class Solution:\n",
    "    def canMakeArithmeticProgression(self, arr: List[int]) -> bool:\n",
    "        if len(arr) <= 2: return True\n",
    "        arr.sort()\n",
    "        d = arr[1] - arr[0]\n",
    "        return all(arr[i] - arr[i - 1] == d for i in range(2, len(arr)))\n",
    "\n",
    "\n",
    "s = Solution()\n",
    "s.canMakeArithmeticProgression([1])\n"
   ]
  },
  {
   "cell_type": "code",
   "execution_count": 8,
   "metadata": {},
   "outputs": [
    {
     "data": {
      "text/plain": [
       "False"
      ]
     },
     "execution_count": 8,
     "metadata": {},
     "output_type": "execute_result"
    }
   ],
   "source": [
    "from typing import List\n",
    "\n",
    "\n",
    "class Solution:\n",
    "    def canMakeArithmeticProgression(self, arr: List[int]) -> bool:\n",
    "        arr.sort()\n",
    "        return all(arr[i] * 2 == arr[i - 1] + arr[i + 1] for i in range(1, len(arr) - 1))\n",
    "\n",
    "\n",
    "s = Solution()\n",
    "s.canMakeArithmeticProgression([1, 3, 6])\n"
   ]
  },
  {
   "cell_type": "code",
   "execution_count": 15,
   "metadata": {},
   "outputs": [
    {
     "data": {
      "text/plain": [
       "(False, 48, 49)"
      ]
     },
     "execution_count": 15,
     "metadata": {},
     "output_type": "execute_result"
    }
   ],
   "source": [
    "'.,'.isalpha(),ord('0'),ord('1')"
   ]
  },
  {
   "cell_type": "code",
   "execution_count": 17,
   "metadata": {},
   "outputs": [
    {
     "data": {
      "text/plain": [
       "'EFBCD##$%^&*89067'"
      ]
     },
     "execution_count": 17,
     "metadata": {},
     "output_type": "execute_result"
    }
   ],
   "source": [
    "def coding(s: str):\n",
    "    # s只包含大写字母 符号 数字\n",
    "    # 英文字母往后移动4位 数字往前移动2位\n",
    "    ans = ''\n",
    "    for n in s:\n",
    "        if n.isalpha():\n",
    "            ans += chr((ord(n) - ord('A') + 4) % 26 + ord('A'))\n",
    "        elif n.isdigit():\n",
    "            ans += chr((ord(n) - ord('0') - 2) % 10 + ord('0'))\n",
    "        else:\n",
    "            ans += n\n",
    "    return ans\n",
    "\n",
    "\n",
    "coding('ABXYZ##$%^&*01289')"
   ]
  },
  {
   "cell_type": "code",
   "execution_count": 20,
   "metadata": {},
   "outputs": [
    {
     "data": {
      "text/plain": [
       "'EFBCD##$%^&*89067'"
      ]
     },
     "execution_count": 20,
     "metadata": {},
     "output_type": "execute_result"
    }
   ],
   "source": [
    "def coding(s: str):\n",
    "    # s只包含大写字母 符号 数字\n",
    "    # 英文字母往后移动4位 数字往前移动2位\n",
    "    def conv(n):\n",
    "        if ord('A') <= ord(n) <= ord('Z'):\n",
    "            return chr((ord(n) - ord('A') + 4) % 26 + ord('A'))\n",
    "        elif ord('0') <= ord(n) <= ord('9'):\n",
    "            return chr((ord(n) - ord('0') - 2) % 10 + ord('0'))\n",
    "        else:\n",
    "            return n\n",
    "\n",
    "    return ''.join(map(conv, s))\n",
    "\n",
    "\n",
    "coding('ABXYZ##$%^&*01289')"
   ]
  },
  {
   "cell_type": "code",
   "execution_count": 1,
   "metadata": {},
   "outputs": [],
   "source": [
    "# Definition for singly-linked list.\n",
    "from typing import Optional\n",
    "\n",
    "\n",
    "class ListNode:\n",
    "\n",
    "    def __init__(self, val=0, next=None):\n",
    "        self.val = val\n",
    "        self.next = next\n",
    "\n",
    "\n",
    "class Solution:\n",
    "\n",
    "    def reverseList(self, head: Optional[ListNode]) -> Optional[ListNode]:\n",
    "        if not head or not head.next:\n",
    "            return head\n",
    "        sub = self.reverseList(head.next)\n",
    "        head.next.next = head\n",
    "        head.next = None\n",
    "        return sub"
   ]
  },
  {
   "cell_type": "code",
   "execution_count": 5,
   "metadata": {},
   "outputs": [
    {
     "data": {
      "text/plain": [
       "3"
      ]
     },
     "execution_count": 5,
     "metadata": {},
     "output_type": "execute_result"
    }
   ],
   "source": [
    "from typing import List\n",
    "\n",
    "\n",
    "class Solution:\n",
    "\n",
    "    def coinChange(self, coins: List[int], amount: int) -> int:\n",
    "        # dp[i][j] 用i个硬币凑出j的最少硬币数\n",
    "        # i:[0,len] j:[0,amount]\n",
    "        # dp[i][j] = dp[i-1][j] if coins[i-1]>j else min(dp[i-1][j],dp[i][j-coins[i-1]]+1)\n",
    "        # dp[0][j]=-1 dp[i][0]=0\n",
    "        dp = [[float('inf')] * (amount + 1) for _ in range(len(coins) + 1)]\n",
    "        for i in range(len(coins) + 1):\n",
    "            dp[i][0] = 0\n",
    "        for i in range(1, len(coins) + 1):\n",
    "            for j in range(1, amount + 1):\n",
    "                dp[i][j] = dp[i - 1][j] if coins[i - 1] > j else min(dp[i - 1][j], dp[i][j - coins[i - 1]] + 1)\n",
    "        return dp[-1][-1] if dp[-1][-1] != float('inf') else -1\n",
    "\n",
    "\n",
    "s = Solution()\n",
    "s.coinChange([1, 2, 5], 11)\n"
   ]
  },
  {
   "cell_type": "code",
   "execution_count": 1,
   "metadata": {},
   "outputs": [],
   "source": [
    "class Solution:\n",
    "\n",
    "    def compareVersion(self, version1: str, version2: str) -> int:\n",
    "        v1 = list(map(int, version1.split('.')))\n",
    "        v2 = list(map(int, version2.split('.')))\n",
    "        lgh1, lgh2 = len(v1), len(v2)\n",
    "\n",
    "        def get(i, v):\n",
    "            lgh = len(v)\n",
    "            return v[i] if i < lgh else 0\n",
    "\n",
    "        for i in range(max(lgh1, lgh2)):\n",
    "            n1, n2 = get(i, v1), get(i, v2)\n",
    "            if n1 > n2:\n",
    "                return 1\n",
    "            elif n1 < n2:\n",
    "                return -1\n",
    "        return 0"
   ]
  },
  {
   "cell_type": "code",
   "execution_count": 10,
   "metadata": {},
   "outputs": [
    {
     "data": {
      "text/plain": [
       "([3, 5, 8, 12], [3, 3, 3, 4], [3, 6, 18, 72])"
      ]
     },
     "execution_count": 10,
     "metadata": {},
     "output_type": "execute_result"
    }
   ],
   "source": [
    "from itertools import accumulate\n",
    "from operator import mul\n",
    "list(accumulate([3,2,3,4])),list(accumulate([3,2,3,4],max)),list(accumulate([3,2,3,4],mul))"
   ]
  },
  {
   "cell_type": "code",
   "execution_count": 1,
   "metadata": {},
   "outputs": [],
   "source": [
    "class Solution:\n",
    "\n",
    "    def strStr(self, haystack: str, needle: str) -> int:\n",
    "        target = 0\n",
    "        for n in needle:\n",
    "            target = 256 * target + ord(n)\n",
    "        l, lgh = 0, len(needle)\n",
    "        window = 0\n",
    "        for r in range(len(haystack)):\n",
    "            window = 256 * window + ord(haystack[r])\n",
    "            while r - l + 1 > lgh:\n",
    "                window -= ord(haystack[l]) * (256**lgh)\n",
    "                l += 1\n",
    "            if r - l + 1 == lgh and window == target:\n",
    "                return l\n",
    "        return -1"
   ]
  },
  {
   "cell_type": "code",
   "execution_count": 4,
   "metadata": {},
   "outputs": [
    {
     "name": "stdout",
     "output_type": "stream",
     "text": [
      "20\n"
     ]
    }
   ],
   "source": [
    "dp = [1] * 101\n",
    "pre = [1] * 101\n",
    "for i in range(2, 101):\n",
    "    dp[i] = dp[i - 1] + i\n",
    "    pre[i] = pre[i - 1] + dp[i]\n",
    "n = int(input('第几层：'))\n",
    "print(pre[n])"
   ]
  },
  {
   "cell_type": "code",
   "execution_count": 5,
   "metadata": {},
   "outputs": [
    {
     "data": {
      "text/plain": [
       "[1, 2, 2, 3, 4, 4, 5, 6]"
      ]
     },
     "execution_count": 5,
     "metadata": {},
     "output_type": "execute_result"
    }
   ],
   "source": [
    "def f(A, B):\n",
    "    ans = []\n",
    "    i = j = 0\n",
    "    while i < len(A) and j < len(B):\n",
    "        if A[i] < B[j]:\n",
    "            ans.append(A[i])\n",
    "            i += 1\n",
    "        else:\n",
    "            ans.append(B[j])\n",
    "            j += 1\n",
    "    ans += A[i:] + B[j:]\n",
    "    return ans\n",
    "\n",
    "\n",
    "f([1, 2, 3, 4], [2, 4, 5, 6])\n"
   ]
  },
  {
   "cell_type": "code",
   "execution_count": 2,
   "metadata": {},
   "outputs": [
    {
     "ename": "NameError",
     "evalue": "name 'List' is not defined",
     "output_type": "error",
     "traceback": [
      "\u001b[1;31m---------------------------------------------------------------------------\u001b[0m",
      "\u001b[1;31mNameError\u001b[0m                                 Traceback (most recent call last)",
      "\u001b[1;32mc:\\Users\\Administrator\\OneDrive\\PythonProject\\1PythonAlgo\\算法相关\\88888.ipynb Cell 19\u001b[0m in \u001b[0;36m<cell line: 1>\u001b[1;34m()\u001b[0m\n\u001b[1;32m----> <a href='vscode-notebook-cell:/c%3A/Users/Administrator/OneDrive/PythonProject/1PythonAlgo/%E7%AE%97%E6%B3%95%E7%9B%B8%E5%85%B3/88888.ipynb#X24sZmlsZQ%3D%3D?line=0'>1</a>\u001b[0m \u001b[39mclass\u001b[39;00m \u001b[39mSolution\u001b[39;00m:\n\u001b[0;32m      <a href='vscode-notebook-cell:/c%3A/Users/Administrator/OneDrive/PythonProject/1PythonAlgo/%E7%AE%97%E6%B3%95%E7%9B%B8%E5%85%B3/88888.ipynb#X24sZmlsZQ%3D%3D?line=1'>2</a>\u001b[0m     \u001b[39mdef\u001b[39;00m \u001b[39mcheckArithmeticSubarrays\u001b[39m(\u001b[39mself\u001b[39m, nums: List[\u001b[39mint\u001b[39m], L: List[\u001b[39mint\u001b[39m], R: List[\u001b[39mint\u001b[39m]) \u001b[39m-\u001b[39m\u001b[39m>\u001b[39m List[\u001b[39mbool\u001b[39m]:\n\u001b[0;32m      <a href='vscode-notebook-cell:/c%3A/Users/Administrator/OneDrive/PythonProject/1PythonAlgo/%E7%AE%97%E6%B3%95%E7%9B%B8%E5%85%B3/88888.ipynb#X24sZmlsZQ%3D%3D?line=2'>3</a>\u001b[0m         \u001b[39mdef\u001b[39;00m \u001b[39mcheck\u001b[39m(l, r):\n",
      "\u001b[1;32mc:\\Users\\Administrator\\OneDrive\\PythonProject\\1PythonAlgo\\算法相关\\88888.ipynb Cell 19\u001b[0m in \u001b[0;36mSolution\u001b[1;34m()\u001b[0m\n\u001b[0;32m      <a href='vscode-notebook-cell:/c%3A/Users/Administrator/OneDrive/PythonProject/1PythonAlgo/%E7%AE%97%E6%B3%95%E7%9B%B8%E5%85%B3/88888.ipynb#X24sZmlsZQ%3D%3D?line=0'>1</a>\u001b[0m \u001b[39mclass\u001b[39;00m \u001b[39mSolution\u001b[39;00m:\n\u001b[1;32m----> <a href='vscode-notebook-cell:/c%3A/Users/Administrator/OneDrive/PythonProject/1PythonAlgo/%E7%AE%97%E6%B3%95%E7%9B%B8%E5%85%B3/88888.ipynb#X24sZmlsZQ%3D%3D?line=1'>2</a>\u001b[0m     \u001b[39mdef\u001b[39;00m \u001b[39mcheckArithmeticSubarrays\u001b[39m(\u001b[39mself\u001b[39m, nums: List[\u001b[39mint\u001b[39m], L: List[\u001b[39mint\u001b[39m], R: List[\u001b[39mint\u001b[39m]) \u001b[39m-\u001b[39m\u001b[39m>\u001b[39m List[\u001b[39mbool\u001b[39m]:\n\u001b[0;32m      <a href='vscode-notebook-cell:/c%3A/Users/Administrator/OneDrive/PythonProject/1PythonAlgo/%E7%AE%97%E6%B3%95%E7%9B%B8%E5%85%B3/88888.ipynb#X24sZmlsZQ%3D%3D?line=2'>3</a>\u001b[0m         \u001b[39mdef\u001b[39;00m \u001b[39mcheck\u001b[39m(l, r):\n\u001b[0;32m      <a href='vscode-notebook-cell:/c%3A/Users/Administrator/OneDrive/PythonProject/1PythonAlgo/%E7%AE%97%E6%B3%95%E7%9B%B8%E5%85%B3/88888.ipynb#X24sZmlsZQ%3D%3D?line=3'>4</a>\u001b[0m             \u001b[39mif\u001b[39;00m r \u001b[39m-\u001b[39m l \u001b[39m==\u001b[39m \u001b[39m1\u001b[39m:\n",
      "\u001b[1;31mNameError\u001b[0m: name 'List' is not defined"
     ]
    }
   ],
   "source": [
    "class Solution:\n",
    "    def checkArithmeticSubarrays(self, nums: List[int], L: List[int], R: List[int]) -> List[bool]:\n",
    "        def check(l, r):\n",
    "            if r - l == 1:\n",
    "                return True\n",
    "            A = nums[l : r + 1]\n",
    "            m = min(A)\n",
    "            D = []\n",
    "            for e in A:\n",
    "                if e != m:\n",
    "                    D.append(e - m)\n",
    "            if not D:\n",
    "                return True\n",
    "            if len(D) != len(A) - 1:\n",
    "                return False\n",
    "            d = min(D)\n",
    "            vis = [False] * len(D)\n",
    "            for e in D:\n",
    "                if e % d:\n",
    "                    return False\n",
    "                tmp = e // d - 1\n",
    "                if tmp < 0 or tmp >= len(D) or vis[tmp]:\n",
    "                    return False\n",
    "                else:\n",
    "                    vis[tmp] = True\n",
    "            return True\n",
    "\n",
    "\n",
    "        return [check(l, r) for l, r in zip(L, R)]\n",
    "\n"
   ]
  },
  {
   "cell_type": "code",
   "execution_count": 6,
   "metadata": {},
   "outputs": [
    {
     "name": "stdout",
     "output_type": "stream",
     "text": [
      "**天气提醒**:   \n",
      " \n",
      "杭州 暴雨 17℃~27℃ 东北风(小于3级)   \n",
      " \n",
      "来源: 国家气象局 \n",
      "\n"
     ]
    }
   ],
   "source": [
    "import requests\n",
    "import json\n",
    "import logging as log\n",
    "\n",
    "\n",
    "def get_weather_wind(url):\n",
    "    r = requests.get(url)\n",
    "    if r.status_code != 200:\n",
    "        log.error(\"Can't get weather data!\")\n",
    "    info = json.loads(r.content.decode())\n",
    "\n",
    "    # get wind data\n",
    "    data = info['weatherinfo']\n",
    "    WD = data['WD']\n",
    "    WS = data['WS']\n",
    "    return f\"{WD}({WS})\"\n",
    "\n",
    "\n",
    "def get_weather_city(url):\n",
    "    # open url and get return data\n",
    "    r = requests.get(url)\n",
    "    if r.status_code != 200:\n",
    "        log.error(\"Can't get weather data!\")\n",
    "\n",
    "    # convert string to json\n",
    "    info = json.loads(r.content.decode())\n",
    "\n",
    "    # get useful data\n",
    "    data = info['weatherinfo']\n",
    "    city = data['city']\n",
    "    temp1 = data['temp1']\n",
    "    temp2 = data['temp2']\n",
    "    weather = data['weather']\n",
    "    return f\"{city} {weather} {temp1}~{temp2}\"\n",
    "\n",
    "\n",
    "if __name__ == '__main__':\n",
    "    msg = \"\"\"**天气提醒**:   \n",
    " \n",
    "{} {}   \n",
    " \n",
    "来源: 国家气象局 \n",
    "\"\"\".format(get_weather_city('http://www.weather.com.cn/data/cityinfo/101210101.html'), get_weather_wind('http://www.weather.com.cn/data/sk/101210101.html'))\n",
    "    print(msg)\n"
   ]
  },
  {
   "cell_type": "code",
   "execution_count": 7,
   "metadata": {},
   "outputs": [
    {
     "ename": "URLError",
     "evalue": "<urlopen error [Errno 11004] getaddrinfo failed>",
     "output_type": "error",
     "traceback": [
      "\u001b[1;31m---------------------------------------------------------------------------\u001b[0m",
      "\u001b[1;31mgaierror\u001b[0m                                  Traceback (most recent call last)",
      "File \u001b[1;32mc:\\Users\\Administrator\\AppData\\Local\\Programs\\Python\\Python310\\lib\\urllib\\request.py:1348\u001b[0m, in \u001b[0;36mAbstractHTTPHandler.do_open\u001b[1;34m(self, http_class, req, **http_conn_args)\u001b[0m\n\u001b[0;32m   1347\u001b[0m \u001b[39mtry\u001b[39;00m:\n\u001b[1;32m-> 1348\u001b[0m     h\u001b[39m.\u001b[39;49mrequest(req\u001b[39m.\u001b[39;49mget_method(), req\u001b[39m.\u001b[39;49mselector, req\u001b[39m.\u001b[39;49mdata, headers,\n\u001b[0;32m   1349\u001b[0m               encode_chunked\u001b[39m=\u001b[39;49mreq\u001b[39m.\u001b[39;49mhas_header(\u001b[39m'\u001b[39;49m\u001b[39mTransfer-encoding\u001b[39;49m\u001b[39m'\u001b[39;49m))\n\u001b[0;32m   1350\u001b[0m \u001b[39mexcept\u001b[39;00m \u001b[39mOSError\u001b[39;00m \u001b[39mas\u001b[39;00m err: \u001b[39m# timeout error\u001b[39;00m\n",
      "File \u001b[1;32mc:\\Users\\Administrator\\AppData\\Local\\Programs\\Python\\Python310\\lib\\http\\client.py:1282\u001b[0m, in \u001b[0;36mHTTPConnection.request\u001b[1;34m(self, method, url, body, headers, encode_chunked)\u001b[0m\n\u001b[0;32m   1281\u001b[0m \u001b[39m\"\"\"Send a complete request to the server.\"\"\"\u001b[39;00m\n\u001b[1;32m-> 1282\u001b[0m \u001b[39mself\u001b[39;49m\u001b[39m.\u001b[39;49m_send_request(method, url, body, headers, encode_chunked)\n",
      "File \u001b[1;32mc:\\Users\\Administrator\\AppData\\Local\\Programs\\Python\\Python310\\lib\\http\\client.py:1328\u001b[0m, in \u001b[0;36mHTTPConnection._send_request\u001b[1;34m(self, method, url, body, headers, encode_chunked)\u001b[0m\n\u001b[0;32m   1327\u001b[0m     body \u001b[39m=\u001b[39m _encode(body, \u001b[39m'\u001b[39m\u001b[39mbody\u001b[39m\u001b[39m'\u001b[39m)\n\u001b[1;32m-> 1328\u001b[0m \u001b[39mself\u001b[39;49m\u001b[39m.\u001b[39;49mendheaders(body, encode_chunked\u001b[39m=\u001b[39;49mencode_chunked)\n",
      "File \u001b[1;32mc:\\Users\\Administrator\\AppData\\Local\\Programs\\Python\\Python310\\lib\\http\\client.py:1277\u001b[0m, in \u001b[0;36mHTTPConnection.endheaders\u001b[1;34m(self, message_body, encode_chunked)\u001b[0m\n\u001b[0;32m   1276\u001b[0m     \u001b[39mraise\u001b[39;00m CannotSendHeader()\n\u001b[1;32m-> 1277\u001b[0m \u001b[39mself\u001b[39;49m\u001b[39m.\u001b[39;49m_send_output(message_body, encode_chunked\u001b[39m=\u001b[39;49mencode_chunked)\n",
      "File \u001b[1;32mc:\\Users\\Administrator\\AppData\\Local\\Programs\\Python\\Python310\\lib\\http\\client.py:1037\u001b[0m, in \u001b[0;36mHTTPConnection._send_output\u001b[1;34m(self, message_body, encode_chunked)\u001b[0m\n\u001b[0;32m   1036\u001b[0m \u001b[39mdel\u001b[39;00m \u001b[39mself\u001b[39m\u001b[39m.\u001b[39m_buffer[:]\n\u001b[1;32m-> 1037\u001b[0m \u001b[39mself\u001b[39;49m\u001b[39m.\u001b[39;49msend(msg)\n\u001b[0;32m   1039\u001b[0m \u001b[39mif\u001b[39;00m message_body \u001b[39mis\u001b[39;00m \u001b[39mnot\u001b[39;00m \u001b[39mNone\u001b[39;00m:\n\u001b[0;32m   1040\u001b[0m \n\u001b[0;32m   1041\u001b[0m     \u001b[39m# create a consistent interface to message_body\u001b[39;00m\n",
      "File \u001b[1;32mc:\\Users\\Administrator\\AppData\\Local\\Programs\\Python\\Python310\\lib\\http\\client.py:975\u001b[0m, in \u001b[0;36mHTTPConnection.send\u001b[1;34m(self, data)\u001b[0m\n\u001b[0;32m    974\u001b[0m \u001b[39mif\u001b[39;00m \u001b[39mself\u001b[39m\u001b[39m.\u001b[39mauto_open:\n\u001b[1;32m--> 975\u001b[0m     \u001b[39mself\u001b[39;49m\u001b[39m.\u001b[39;49mconnect()\n\u001b[0;32m    976\u001b[0m \u001b[39melse\u001b[39;00m:\n",
      "File \u001b[1;32mc:\\Users\\Administrator\\AppData\\Local\\Programs\\Python\\Python310\\lib\\http\\client.py:941\u001b[0m, in \u001b[0;36mHTTPConnection.connect\u001b[1;34m(self)\u001b[0m\n\u001b[0;32m    940\u001b[0m sys\u001b[39m.\u001b[39maudit(\u001b[39m\"\u001b[39m\u001b[39mhttp.client.connect\u001b[39m\u001b[39m\"\u001b[39m, \u001b[39mself\u001b[39m, \u001b[39mself\u001b[39m\u001b[39m.\u001b[39mhost, \u001b[39mself\u001b[39m\u001b[39m.\u001b[39mport)\n\u001b[1;32m--> 941\u001b[0m \u001b[39mself\u001b[39m\u001b[39m.\u001b[39msock \u001b[39m=\u001b[39m \u001b[39mself\u001b[39;49m\u001b[39m.\u001b[39;49m_create_connection(\n\u001b[0;32m    942\u001b[0m     (\u001b[39mself\u001b[39;49m\u001b[39m.\u001b[39;49mhost,\u001b[39mself\u001b[39;49m\u001b[39m.\u001b[39;49mport), \u001b[39mself\u001b[39;49m\u001b[39m.\u001b[39;49mtimeout, \u001b[39mself\u001b[39;49m\u001b[39m.\u001b[39;49msource_address)\n\u001b[0;32m    943\u001b[0m \u001b[39m# Might fail in OSs that don't implement TCP_NODELAY\u001b[39;00m\n",
      "File \u001b[1;32mc:\\Users\\Administrator\\AppData\\Local\\Programs\\Python\\Python310\\lib\\socket.py:824\u001b[0m, in \u001b[0;36mcreate_connection\u001b[1;34m(address, timeout, source_address)\u001b[0m\n\u001b[0;32m    823\u001b[0m err \u001b[39m=\u001b[39m \u001b[39mNone\u001b[39;00m\n\u001b[1;32m--> 824\u001b[0m \u001b[39mfor\u001b[39;00m res \u001b[39min\u001b[39;00m getaddrinfo(host, port, \u001b[39m0\u001b[39;49m, SOCK_STREAM):\n\u001b[0;32m    825\u001b[0m     af, socktype, proto, canonname, sa \u001b[39m=\u001b[39m res\n",
      "File \u001b[1;32mc:\\Users\\Administrator\\AppData\\Local\\Programs\\Python\\Python310\\lib\\socket.py:955\u001b[0m, in \u001b[0;36mgetaddrinfo\u001b[1;34m(host, port, family, type, proto, flags)\u001b[0m\n\u001b[0;32m    954\u001b[0m addrlist \u001b[39m=\u001b[39m []\n\u001b[1;32m--> 955\u001b[0m \u001b[39mfor\u001b[39;00m res \u001b[39min\u001b[39;00m _socket\u001b[39m.\u001b[39;49mgetaddrinfo(host, port, family, \u001b[39mtype\u001b[39;49m, proto, flags):\n\u001b[0;32m    956\u001b[0m     af, socktype, proto, canonname, sa \u001b[39m=\u001b[39m res\n",
      "\u001b[1;31mgaierror\u001b[0m: [Errno 11004] getaddrinfo failed",
      "\nDuring handling of the above exception, another exception occurred:\n",
      "\u001b[1;31mURLError\u001b[0m                                  Traceback (most recent call last)",
      "\u001b[1;32mc:\\Users\\Administrator\\OneDrive\\PythonProject\\1PythonAlgo\\算法相关\\88888.ipynb Cell 21\u001b[0m in \u001b[0;36m<cell line: 18>\u001b[1;34m()\u001b[0m\n\u001b[0;32m     <a href='vscode-notebook-cell:/c%3A/Users/Administrator/OneDrive/PythonProject/1PythonAlgo/%E7%AE%97%E6%B3%95%E7%9B%B8%E5%85%B3/88888.ipynb#X26sZmlsZQ%3D%3D?line=14'>15</a>\u001b[0m         \u001b[39mprint\u001b[39m(tinyurl)\n\u001b[0;32m     <a href='vscode-notebook-cell:/c%3A/Users/Administrator/OneDrive/PythonProject/1PythonAlgo/%E7%AE%97%E6%B3%95%E7%9B%B8%E5%85%B3/88888.ipynb#X26sZmlsZQ%3D%3D?line=17'>18</a>\u001b[0m \u001b[39mif\u001b[39;00m \u001b[39m__name__\u001b[39m \u001b[39m==\u001b[39m \u001b[39m'\u001b[39m\u001b[39m__main__\u001b[39m\u001b[39m'\u001b[39m:\n\u001b[1;32m---> <a href='vscode-notebook-cell:/c%3A/Users/Administrator/OneDrive/PythonProject/1PythonAlgo/%E7%AE%97%E6%B3%95%E7%9B%B8%E5%85%B3/88888.ipynb#X26sZmlsZQ%3D%3D?line=18'>19</a>\u001b[0m     main()\n",
      "\u001b[1;32mc:\\Users\\Administrator\\OneDrive\\PythonProject\\1PythonAlgo\\算法相关\\88888.ipynb Cell 21\u001b[0m in \u001b[0;36mmain\u001b[1;34m()\u001b[0m\n\u001b[0;32m     <a href='vscode-notebook-cell:/c%3A/Users/Administrator/OneDrive/PythonProject/1PythonAlgo/%E7%AE%97%E6%B3%95%E7%9B%B8%E5%85%B3/88888.ipynb#X26sZmlsZQ%3D%3D?line=12'>13</a>\u001b[0m \u001b[39mdef\u001b[39;00m \u001b[39mmain\u001b[39m():\n\u001b[1;32m---> <a href='vscode-notebook-cell:/c%3A/Users/Administrator/OneDrive/PythonProject/1PythonAlgo/%E7%AE%97%E6%B3%95%E7%9B%B8%E5%85%B3/88888.ipynb#X26sZmlsZQ%3D%3D?line=13'>14</a>\u001b[0m     \u001b[39mfor\u001b[39;00m tinyurl \u001b[39min\u001b[39;00m \u001b[39mmap\u001b[39m(make_tiny, sys\u001b[39m.\u001b[39margv[\u001b[39m1\u001b[39m:]):\n\u001b[0;32m     <a href='vscode-notebook-cell:/c%3A/Users/Administrator/OneDrive/PythonProject/1PythonAlgo/%E7%AE%97%E6%B3%95%E7%9B%B8%E5%85%B3/88888.ipynb#X26sZmlsZQ%3D%3D?line=14'>15</a>\u001b[0m         \u001b[39mprint\u001b[39m(tinyurl)\n",
      "\u001b[1;32mc:\\Users\\Administrator\\OneDrive\\PythonProject\\1PythonAlgo\\算法相关\\88888.ipynb Cell 21\u001b[0m in \u001b[0;36mmake_tiny\u001b[1;34m(url)\u001b[0m\n\u001b[0;32m      <a href='vscode-notebook-cell:/c%3A/Users/Administrator/OneDrive/PythonProject/1PythonAlgo/%E7%AE%97%E6%B3%95%E7%9B%B8%E5%85%B3/88888.ipynb#X26sZmlsZQ%3D%3D?line=6'>7</a>\u001b[0m \u001b[39mdef\u001b[39;00m \u001b[39mmake_tiny\u001b[39m(url):\n\u001b[0;32m      <a href='vscode-notebook-cell:/c%3A/Users/Administrator/OneDrive/PythonProject/1PythonAlgo/%E7%AE%97%E6%B3%95%E7%9B%B8%E5%85%B3/88888.ipynb#X26sZmlsZQ%3D%3D?line=7'>8</a>\u001b[0m     request_url \u001b[39m=\u001b[39m (\u001b[39m'\u001b[39m\u001b[39mhttp://tinyurl.com/api-create.php?\u001b[39m\u001b[39m'\u001b[39m \u001b[39m+\u001b[39m urlencode({\u001b[39m'\u001b[39m\u001b[39murl\u001b[39m\u001b[39m'\u001b[39m: url}))\n\u001b[1;32m----> <a href='vscode-notebook-cell:/c%3A/Users/Administrator/OneDrive/PythonProject/1PythonAlgo/%E7%AE%97%E6%B3%95%E7%9B%B8%E5%85%B3/88888.ipynb#X26sZmlsZQ%3D%3D?line=8'>9</a>\u001b[0m     \u001b[39mwith\u001b[39;00m contextlib\u001b[39m.\u001b[39mclosing(urlopen(request_url)) \u001b[39mas\u001b[39;00m response:\n\u001b[0;32m     <a href='vscode-notebook-cell:/c%3A/Users/Administrator/OneDrive/PythonProject/1PythonAlgo/%E7%AE%97%E6%B3%95%E7%9B%B8%E5%85%B3/88888.ipynb#X26sZmlsZQ%3D%3D?line=9'>10</a>\u001b[0m         \u001b[39mreturn\u001b[39;00m response\u001b[39m.\u001b[39mread()\u001b[39m.\u001b[39mdecode(\u001b[39m'\u001b[39m\u001b[39mutf-8\u001b[39m\u001b[39m'\u001b[39m)\n",
      "File \u001b[1;32mc:\\Users\\Administrator\\AppData\\Local\\Programs\\Python\\Python310\\lib\\urllib\\request.py:216\u001b[0m, in \u001b[0;36murlopen\u001b[1;34m(url, data, timeout, cafile, capath, cadefault, context)\u001b[0m\n\u001b[0;32m    214\u001b[0m \u001b[39melse\u001b[39;00m:\n\u001b[0;32m    215\u001b[0m     opener \u001b[39m=\u001b[39m _opener\n\u001b[1;32m--> 216\u001b[0m \u001b[39mreturn\u001b[39;00m opener\u001b[39m.\u001b[39;49mopen(url, data, timeout)\n",
      "File \u001b[1;32mc:\\Users\\Administrator\\AppData\\Local\\Programs\\Python\\Python310\\lib\\urllib\\request.py:519\u001b[0m, in \u001b[0;36mOpenerDirector.open\u001b[1;34m(self, fullurl, data, timeout)\u001b[0m\n\u001b[0;32m    516\u001b[0m     req \u001b[39m=\u001b[39m meth(req)\n\u001b[0;32m    518\u001b[0m sys\u001b[39m.\u001b[39maudit(\u001b[39m'\u001b[39m\u001b[39murllib.Request\u001b[39m\u001b[39m'\u001b[39m, req\u001b[39m.\u001b[39mfull_url, req\u001b[39m.\u001b[39mdata, req\u001b[39m.\u001b[39mheaders, req\u001b[39m.\u001b[39mget_method())\n\u001b[1;32m--> 519\u001b[0m response \u001b[39m=\u001b[39m \u001b[39mself\u001b[39;49m\u001b[39m.\u001b[39;49m_open(req, data)\n\u001b[0;32m    521\u001b[0m \u001b[39m# post-process response\u001b[39;00m\n\u001b[0;32m    522\u001b[0m meth_name \u001b[39m=\u001b[39m protocol\u001b[39m+\u001b[39m\u001b[39m\"\u001b[39m\u001b[39m_response\u001b[39m\u001b[39m\"\u001b[39m\n",
      "File \u001b[1;32mc:\\Users\\Administrator\\AppData\\Local\\Programs\\Python\\Python310\\lib\\urllib\\request.py:536\u001b[0m, in \u001b[0;36mOpenerDirector._open\u001b[1;34m(self, req, data)\u001b[0m\n\u001b[0;32m    533\u001b[0m     \u001b[39mreturn\u001b[39;00m result\n\u001b[0;32m    535\u001b[0m protocol \u001b[39m=\u001b[39m req\u001b[39m.\u001b[39mtype\n\u001b[1;32m--> 536\u001b[0m result \u001b[39m=\u001b[39m \u001b[39mself\u001b[39;49m\u001b[39m.\u001b[39;49m_call_chain(\u001b[39mself\u001b[39;49m\u001b[39m.\u001b[39;49mhandle_open, protocol, protocol \u001b[39m+\u001b[39;49m\n\u001b[0;32m    537\u001b[0m                           \u001b[39m'\u001b[39;49m\u001b[39m_open\u001b[39;49m\u001b[39m'\u001b[39;49m, req)\n\u001b[0;32m    538\u001b[0m \u001b[39mif\u001b[39;00m result:\n\u001b[0;32m    539\u001b[0m     \u001b[39mreturn\u001b[39;00m result\n",
      "File \u001b[1;32mc:\\Users\\Administrator\\AppData\\Local\\Programs\\Python\\Python310\\lib\\urllib\\request.py:496\u001b[0m, in \u001b[0;36mOpenerDirector._call_chain\u001b[1;34m(self, chain, kind, meth_name, *args)\u001b[0m\n\u001b[0;32m    494\u001b[0m \u001b[39mfor\u001b[39;00m handler \u001b[39min\u001b[39;00m handlers:\n\u001b[0;32m    495\u001b[0m     func \u001b[39m=\u001b[39m \u001b[39mgetattr\u001b[39m(handler, meth_name)\n\u001b[1;32m--> 496\u001b[0m     result \u001b[39m=\u001b[39m func(\u001b[39m*\u001b[39;49margs)\n\u001b[0;32m    497\u001b[0m     \u001b[39mif\u001b[39;00m result \u001b[39mis\u001b[39;00m \u001b[39mnot\u001b[39;00m \u001b[39mNone\u001b[39;00m:\n\u001b[0;32m    498\u001b[0m         \u001b[39mreturn\u001b[39;00m result\n",
      "File \u001b[1;32mc:\\Users\\Administrator\\AppData\\Local\\Programs\\Python\\Python310\\lib\\urllib\\request.py:1377\u001b[0m, in \u001b[0;36mHTTPHandler.http_open\u001b[1;34m(self, req)\u001b[0m\n\u001b[0;32m   1376\u001b[0m \u001b[39mdef\u001b[39;00m \u001b[39mhttp_open\u001b[39m(\u001b[39mself\u001b[39m, req):\n\u001b[1;32m-> 1377\u001b[0m     \u001b[39mreturn\u001b[39;00m \u001b[39mself\u001b[39;49m\u001b[39m.\u001b[39;49mdo_open(http\u001b[39m.\u001b[39;49mclient\u001b[39m.\u001b[39;49mHTTPConnection, req)\n",
      "File \u001b[1;32mc:\\Users\\Administrator\\AppData\\Local\\Programs\\Python\\Python310\\lib\\urllib\\request.py:1351\u001b[0m, in \u001b[0;36mAbstractHTTPHandler.do_open\u001b[1;34m(self, http_class, req, **http_conn_args)\u001b[0m\n\u001b[0;32m   1348\u001b[0m         h\u001b[39m.\u001b[39mrequest(req\u001b[39m.\u001b[39mget_method(), req\u001b[39m.\u001b[39mselector, req\u001b[39m.\u001b[39mdata, headers,\n\u001b[0;32m   1349\u001b[0m                   encode_chunked\u001b[39m=\u001b[39mreq\u001b[39m.\u001b[39mhas_header(\u001b[39m'\u001b[39m\u001b[39mTransfer-encoding\u001b[39m\u001b[39m'\u001b[39m))\n\u001b[0;32m   1350\u001b[0m     \u001b[39mexcept\u001b[39;00m \u001b[39mOSError\u001b[39;00m \u001b[39mas\u001b[39;00m err: \u001b[39m# timeout error\u001b[39;00m\n\u001b[1;32m-> 1351\u001b[0m         \u001b[39mraise\u001b[39;00m URLError(err)\n\u001b[0;32m   1352\u001b[0m     r \u001b[39m=\u001b[39m h\u001b[39m.\u001b[39mgetresponse()\n\u001b[0;32m   1353\u001b[0m \u001b[39mexcept\u001b[39;00m:\n",
      "\u001b[1;31mURLError\u001b[0m: <urlopen error [Errno 11004] getaddrinfo failed>"
     ]
    }
   ],
   "source": [
    "import contextlib\n",
    "from urllib.parse import urlencode\n",
    "from urllib.request import urlopen\n",
    "import sys\n",
    "\n",
    "\n",
    "def make_tiny(url):\n",
    "    request_url = ('http://tinyurl.com/api-create.php?' + urlencode({'url': url}))\n",
    "    with contextlib.closing(urlopen(request_url)) as response:\n",
    "        return response.read().decode('utf-8')\n",
    "\n",
    "\n",
    "def main():\n",
    "    for tinyurl in map(make_tiny, sys.argv[1:]):\n",
    "        print(tinyurl)\n",
    "\n",
    "\n",
    "if __name__ == '__main__':\n",
    "    main()\n"
   ]
  },
  {
   "cell_type": "code",
   "execution_count": 1,
   "metadata": {},
   "outputs": [
    {
     "data": {
      "text/plain": [
       "0.010101010101010102"
      ]
     },
     "execution_count": 1,
     "metadata": {},
     "output_type": "execute_result"
    }
   ],
   "source": [
    "1/99"
   ]
  },
  {
   "cell_type": "code",
   "execution_count": 1,
   "metadata": {},
   "outputs": [
    {
     "data": {
      "text/plain": [
       "-1"
      ]
     },
     "execution_count": 1,
     "metadata": {},
     "output_type": "execute_result"
    }
   ],
   "source": [
    "def f(A, B):\n",
    "    return -1 if len(A) != len(B) else sum(i * j for i, j in zip(A, B))\n",
    "\n",
    "\n",
    "f([1, 1, 1], [2, 2])\n"
   ]
  },
  {
   "cell_type": "code",
   "execution_count": null,
   "metadata": {},
   "outputs": [],
   "source": []
  }
 ],
 "metadata": {
  "kernelspec": {
   "display_name": "Python 3.10.6 64-bit",
   "language": "python",
   "name": "python3"
  },
  "language_info": {
   "codemirror_mode": {
    "name": "ipython",
    "version": 3
   },
   "file_extension": ".py",
   "mimetype": "text/x-python",
   "name": "python",
   "nbconvert_exporter": "python",
   "pygments_lexer": "ipython3",
   "version": "3.10.6"
  },
  "orig_nbformat": 4,
  "vscode": {
   "interpreter": {
    "hash": "916dbcbb3f70747c44a77c7bcd40155683ae19c65e1c03b4aa3499c5328201f1"
   }
  }
 },
 "nbformat": 4,
 "nbformat_minor": 2
}
