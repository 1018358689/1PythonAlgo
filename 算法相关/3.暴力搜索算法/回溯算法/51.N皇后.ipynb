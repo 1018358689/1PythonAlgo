{
 "cells": [
  {
   "cell_type": "markdown",
   "metadata": {},
   "source": [
    "n 皇后问题 研究的是如何将 n 个皇后放置在 n×n 的棋盘上，并且使皇后彼此之间不能相互攻击。\n",
    "\n",
    "给你一个整数 n ，返回所有不同的 n 皇后问题 的解决方案。\n",
    "\n",
    "每一种解法包含一个不同的 n 皇后问题 的棋子放置方案，该方案中 'Q' 和 '.' 分别代表了皇后和空位。\n",
    "\n",
    " \n",
    "\n",
    "示例 1：\n",
    "输入：n = 4\n",
    "输出：[[\".Q..\",\"...Q\",\"Q...\",\"..Q.\"],[\"..Q.\",\"Q...\",\"...Q\",\".Q..\"]]\n",
    "解释：如上图所示，4 皇后问题存在两个不同的解法。\n",
    "\n",
    "示例 2：\n",
    "输入：n = 1\n",
    "输出：[[\"Q\"]]\n",
    " \n",
    "提示：\n",
    "\n",
    "1 <= n <= 9\n",
    "\n",
    "来源：力扣（LeetCode）\n",
    "链接：https://leetcode-cn.com/problems/n-queens\n",
    "著作权归领扣网络所有。商业转载请联系官方授权，非商业转载请注明出处。"
   ]
  },
  {
   "cell_type": "code",
   "execution_count": 14,
   "metadata": {},
   "outputs": [
    {
     "data": {
      "text/plain": [
       "[['.Q..', '...Q', 'Q...', '..Q.'], ['..Q.', 'Q...', '...Q', '.Q..']]"
      ]
     },
     "execution_count": 14,
     "metadata": {},
     "output_type": "execute_result"
    }
   ],
   "source": [
    "def f(n: int):\n",
    "    res = []\n",
    "\n",
    "    def check(board: list, row: int, col: int):\n",
    "        # 检查所在列\n",
    "        for r in range(row):\n",
    "            if board[r][col] == 'Q':\n",
    "                return False\n",
    "        # 检查右上角方向\n",
    "        r = row - 1\n",
    "        c = col + 1\n",
    "        while r >= 0 and c < len(board):\n",
    "            if board[r][c] == 'Q':\n",
    "                return False\n",
    "            r -= 1\n",
    "            c += 1\n",
    "        # 检查左上角方向\n",
    "        r = row - 1\n",
    "        c = col - 1\n",
    "        while r >= 0 and c >= 0:\n",
    "            if board[r][c] == 'Q':\n",
    "                return False\n",
    "            r -= 1\n",
    "            c -= 1\n",
    "        return True\n",
    "\n",
    "    def helper(board: list, row: int):\n",
    "        if row == n:\n",
    "            res.append([''.join(b) for b in board])\n",
    "            return\n",
    "        for c in range(n):\n",
    "            if check(board, row, c) == False:\n",
    "                continue\n",
    "            board[row][c] = 'Q'\n",
    "            helper(board, row + 1)\n",
    "            board[row][c] = '.'\n",
    "\n",
    "    board = [['.'] * n for _ in range(n)]\n",
    "    helper(board, 0)\n",
    "    return res\n",
    "\n",
    "\n",
    "f(4)"
   ]
  },
  {
   "cell_type": "code",
   "execution_count": 3,
   "metadata": {},
   "outputs": [
    {
     "data": {
      "text/plain": [
       "['x', 'x', 'x', 'x']"
      ]
     },
     "execution_count": 3,
     "metadata": {},
     "output_type": "execute_result"
    }
   ],
   "source": [
    "['x']*4"
   ]
  }
 ],
 "metadata": {
  "interpreter": {
   "hash": "004de6046f1b3d314f33fdb43a2dc798b2646e5600efd8df5066c8b63a00ff6d"
  },
  "kernelspec": {
   "display_name": "Python 3.8.10 64-bit",
   "language": "python",
   "name": "python3"
  },
  "language_info": {
   "codemirror_mode": {
    "name": "ipython",
    "version": 3
   },
   "file_extension": ".py",
   "mimetype": "text/x-python",
   "name": "python",
   "nbconvert_exporter": "python",
   "pygments_lexer": "ipython3",
   "version": "3.8.10"
  },
  "orig_nbformat": 4
 },
 "nbformat": 4,
 "nbformat_minor": 2
}
