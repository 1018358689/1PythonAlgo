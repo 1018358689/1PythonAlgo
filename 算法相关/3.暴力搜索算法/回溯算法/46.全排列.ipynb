{
 "cells": [
  {
   "cell_type": "markdown",
   "metadata": {},
   "source": [
    "给定一个不含重复数字的数组 nums ，返回其 所有可能的全排列 。你可以 按任意顺序 返回答案。\n",
    "\n",
    "示例 1：\n",
    "输入：nums = [1,2,3]\n",
    "输出：[[1,2,3],[1,3,2],[2,1,3],[2,3,1],[3,1,2],[3,2,1]]\n",
    "\n",
    "示例 2：\n",
    "输入：nums = [0,1]\n",
    "输出：[[0,1],[1,0]]\n",
    "\n",
    "示例 3：\n",
    "输入：nums = [1]\n",
    "输出：[[1]]\n",
    " \n",
    "提示：\n",
    "\n",
    "1 <= nums.length <= 6\n",
    "-10 <= nums[i] <= 10\n",
    "nums 中的所有整数 互不相同\n",
    "\n",
    "来源：力扣（LeetCode）\n",
    "链接：https://leetcode-cn.com/problems/permutations\n",
    "著作权归领扣网络所有。商业转载请联系官方授权，非商业转载请注明出处。"
   ]
  },
  {
   "cell_type": "code",
   "execution_count": 3,
   "metadata": {},
   "outputs": [
    {
     "data": {
      "text/plain": [
       "[[1, 2, 3], [1, 3, 2], [2, 1, 3], [2, 3, 1], [3, 1, 2], [3, 2, 1]]"
      ]
     },
     "execution_count": 3,
     "metadata": {},
     "output_type": "execute_result"
    }
   ],
   "source": [
    "# 回溯\n",
    "def f(nums: list):\n",
    "    used = [False] * len(nums)\n",
    "    path = []\n",
    "    res = []\n",
    "\n",
    "    def dfs():\n",
    "        if len(path) == len(nums):\n",
    "            res.append(path[:])\n",
    "            return\n",
    "        for i in range(len(nums)):\n",
    "            if used[i]:\n",
    "                continue\n",
    "            used[i] = True\n",
    "            path.append(nums[i])\n",
    "            dfs()\n",
    "            used[i] = False\n",
    "            path.pop()\n",
    "\n",
    "    dfs()\n",
    "    return res\n",
    "\n",
    "\n",
    "f([1, 2, 3])\n"
   ]
  },
  {
   "cell_type": "code",
   "execution_count": 6,
   "metadata": {},
   "outputs": [
    {
     "data": {
      "text/plain": [
       "[[1, 2, 3], [1, 3, 2], [2, 1, 3], [2, 3, 1], [3, 1, 2], [3, 2, 1]]"
      ]
     },
     "execution_count": 6,
     "metadata": {},
     "output_type": "execute_result"
    }
   ],
   "source": [
    "# dfs递归\n",
    "def f(nums: list):\n",
    "    tmp = []\n",
    "    res = []\n",
    "\n",
    "    def dfs(nums, tmp):\n",
    "        if nums == []:\n",
    "            res.append(tmp)\n",
    "            return\n",
    "        for i in range(len(nums)):\n",
    "            dfs(nums[:i] + nums[i + 1:], tmp + [nums[i]])\n",
    "\n",
    "    dfs(nums, tmp)\n",
    "    return res\n",
    "\n",
    "\n",
    "f([1, 2, 3])\n"
   ]
  },
  {
   "cell_type": "code",
   "execution_count": 1,
   "metadata": {},
   "outputs": [
    {
     "data": {
      "text/plain": [
       "[[1, 2, 3], [1, 3, 2], [2, 1, 3], [2, 3, 1], [3, 1, 2], [3, 2, 1]]"
      ]
     },
     "execution_count": 1,
     "metadata": {},
     "output_type": "execute_result"
    }
   ],
   "source": [
    "def f(nums: list):\n",
    "    sz = len(nums)\n",
    "    res = []\n",
    "\n",
    "    def dfs(path: list, deepth: int):\n",
    "        if deepth == sz:\n",
    "            res.append(path[:])\n",
    "        for i in nums:\n",
    "            if i not in path:\n",
    "                dfs(path + [i], deepth + 1)\n",
    "\n",
    "    dfs([], 0)\n",
    "    return res\n",
    "\n",
    "f([1, 2, 3])\n"
   ]
  },
  {
   "cell_type": "code",
   "execution_count": null,
   "metadata": {},
   "outputs": [],
   "source": []
  }
 ],
 "metadata": {
  "interpreter": {
   "hash": "004de6046f1b3d314f33fdb43a2dc798b2646e5600efd8df5066c8b63a00ff6d"
  },
  "kernelspec": {
   "display_name": "Python 3.8.10 64-bit",
   "language": "python",
   "name": "python3"
  },
  "language_info": {
   "codemirror_mode": {
    "name": "ipython",
    "version": 3
   },
   "file_extension": ".py",
   "mimetype": "text/x-python",
   "name": "python",
   "nbconvert_exporter": "python",
   "pygments_lexer": "ipython3",
   "version": "3.10.1"
  },
  "orig_nbformat": 4
 },
 "nbformat": 4,
 "nbformat_minor": 2
}
