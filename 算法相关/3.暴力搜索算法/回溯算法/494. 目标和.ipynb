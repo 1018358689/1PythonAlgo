{
 "cells": [
  {
   "cell_type": "markdown",
   "metadata": {},
   "source": [
    "给你一个整数数组 nums 和一个整数 target 。\n",
    "\n",
    "向数组中的每个整数前添加 '+' 或 '-' ，然后串联起所有整数，可以构造一个 表达式 ：\n",
    "\n",
    "例如，nums = [2, 1] ，可以在 2 之前添加 '+' ，在 1 之前添加 '-' ，然后串联起来得到表达式 \"+2-1\" 。\n",
    "返回可以通过上述方法构造的、运算结果等于 target 的不同 表达式 的数目。\n",
    "\n",
    "\n",
    "示例 1：\n",
    "输入：nums = [1,1,1,1,1], target = 3\n",
    "输出：5\n",
    "解释：一共有 5 种方法让最终目标和为 3 。\n",
    "-1 + 1 + 1 + 1 + 1 = 3\n",
    "+1 - 1 + 1 + 1 + 1 = 3\n",
    "+1 + 1 - 1 + 1 + 1 = 3\n",
    "+1 + 1 + 1 - 1 + 1 = 3\n",
    "+1 + 1 + 1 + 1 - 1 = 3\n",
    "\n",
    "示例 2：\n",
    "输入：nums = [1], target = 1\n",
    "输出：1\n",
    " \n",
    "\n",
    "提示：\n",
    "\n",
    "1 <= nums.length <= 20\n",
    "0 <= nums[i] <= 1000\n",
    "0 <= sum(nums[i]) <= 1000\n",
    "-1000 <= target <= 1000\n",
    "\n",
    "来源：力扣（LeetCode）\n",
    "链接：https://leetcode-cn.com/problems/target-sum\n",
    "著作权归领扣网络所有。商业转载请联系官方授权，非商业转载请注明出处。"
   ]
  },
  {
   "cell_type": "code",
   "execution_count": 1,
   "metadata": {},
   "outputs": [
    {
     "data": {
      "text/plain": [
       "6316"
      ]
     },
     "execution_count": 1,
     "metadata": {},
     "output_type": "execute_result"
    }
   ],
   "source": [
    "# 力扣超时\n",
    "def f(nums: list, target: int):\n",
    "    Sum = 0\n",
    "    cnt = 0\n",
    "    \n",
    "    def helper(path: list, i: int):\n",
    "        nonlocal Sum, cnt\n",
    "        if i == len(nums):\n",
    "            if Sum == target:\n",
    "                cnt += 1\n",
    "            return\n",
    "        for k in [1, -1]:\n",
    "            path.append(k)\n",
    "            Sum += k * nums[i]\n",
    "            helper(path, i + 1)\n",
    "            path.pop()\n",
    "            Sum -= k * nums[i]\n",
    "\n",
    "    helper([], 0)\n",
    "    return cnt\n",
    "\n",
    "\n",
    "f([1, 1, 1, 1, 1], 3), f([1], 1)\n",
    "f([38, 21, 23, 36, 1, 36, 18, 3, 37, 27, 29, 29, 35, 47, 16, 0, 2, 42, 46, 6], 14)\n"
   ]
  },
  {
   "cell_type": "code",
   "execution_count": 17,
   "metadata": {},
   "outputs": [
    {
     "data": {
      "text/plain": [
       "1"
      ]
     },
     "execution_count": 17,
     "metadata": {},
     "output_type": "execute_result"
    }
   ],
   "source": [
    "# 力扣超时 python回溯超时 java没事\n",
    "def f(nums: list, target: int):\n",
    "    cnt = 0\n",
    "\n",
    "    def helper(Sum: int, i: int):\n",
    "        nonlocal cnt\n",
    "        if i == len(nums):\n",
    "            if Sum == target:\n",
    "                cnt += 1\n",
    "            return\n",
    "        for k in [1, -1]:\n",
    "            helper(Sum + k * nums[i], i + 1)\n",
    "\n",
    "    helper(0, 0)\n",
    "    return cnt\n",
    "\n",
    "\n",
    "f([1, 1, 1, 1, 1], 3), f([1], 1)\n",
    "f([38, 21, 23, 36, 1, 36, 18, 3, 37, 27, 29, 29, 35, 47, 16, 0, 2, 42, 46, 6], 14)\n"
   ]
  },
  {
   "cell_type": "code",
   "execution_count": null,
   "metadata": {},
   "outputs": [],
   "source": []
  }
 ],
 "metadata": {
  "interpreter": {
   "hash": "aee8b7b246df8f9039afb4144a1f6fd8d2ca17a180786b69acc140d282b71a49"
  },
  "kernelspec": {
   "display_name": "Python 3.10.2 64-bit",
   "language": "python",
   "name": "python3"
  },
  "language_info": {
   "codemirror_mode": {
    "name": "ipython",
    "version": 3
   },
   "file_extension": ".py",
   "mimetype": "text/x-python",
   "name": "python",
   "nbconvert_exporter": "python",
   "pygments_lexer": "ipython3",
   "version": "3.10.2"
  },
  "orig_nbformat": 4
 },
 "nbformat": 4,
 "nbformat_minor": 2
}
