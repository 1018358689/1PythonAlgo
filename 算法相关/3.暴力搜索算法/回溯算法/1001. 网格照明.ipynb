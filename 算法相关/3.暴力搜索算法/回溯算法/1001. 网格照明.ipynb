{
 "cells": [
  {
   "cell_type": "code",
   "execution_count": null,
   "metadata": {},
   "outputs": [],
   "source": [
    "# 本题不是回溯 是简单模拟"
   ]
  },
  {
   "cell_type": "code",
   "execution_count": 17,
   "metadata": {},
   "outputs": [
    {
     "data": {
      "text/plain": [
       "{(4, 4)}"
      ]
     },
     "execution_count": 17,
     "metadata": {},
     "output_type": "execute_result"
    }
   ],
   "source": [
    "lamps = [[0, 0], [4, 4], [0, 0]]\n",
    "lamps = set(map(tuple,lamps))\n",
    "lamps.remove((0,0))\n",
    "lamps"
   ]
  },
  {
   "cell_type": "code",
   "execution_count": 21,
   "metadata": {},
   "outputs": [
    {
     "name": "stdout",
     "output_type": "stream",
     "text": [
      "[[(0, 0), (0, 1), (0, 2), (0, 3), (0, 4)],\n",
      " [(1, 0), (1, 1), (1, 2), (1, 3), (1, 4)],\n",
      " [(2, 0), (2, 1), (2, 2), (2, 3), (2, 4)],\n",
      " [(3, 0), (3, 1), (3, 2), (3, 3), (3, 4)],\n",
      " [(4, 0), (4, 1), (4, 2), (4, 3), (4, 4)]]\n"
     ]
    }
   ],
   "source": [
    "from pprint import pprint\n",
    "\n",
    "grid = [[0] * 5 for __ in range(5)]\n",
    "for r in range(5):\n",
    "    for c in range(5):\n",
    "        grid[r][c] = (r, c)\n",
    "pprint(grid)\n"
   ]
  },
  {
   "cell_type": "code",
   "execution_count": 19,
   "metadata": {},
   "outputs": [
    {
     "data": {
      "text/plain": [
       "[1, 0]"
      ]
     },
     "execution_count": 19,
     "metadata": {},
     "output_type": "execute_result"
    }
   ],
   "source": [
    "from pprint import pprint\n",
    "\n",
    "# 模拟超时\n",
    "def f(n: int, lamps: list, queries: list):\n",
    "    lamps = set(map(tuple, lamps))\n",
    "    res = []\n",
    "\n",
    "    def open_lamps(lamps: set):\n",
    "        for lamp in lamps:\n",
    "            row, col = lamp\n",
    "            for r in range(n):\n",
    "                grid[r][col] = 1\n",
    "            for c in range(n):\n",
    "                grid[row][c] = 1\n",
    "            r, c = row - 1, col - 1\n",
    "            while r >= 0 and c >= 0:\n",
    "                grid[r][c] = 1\n",
    "                r -= 1\n",
    "                c -= 1\n",
    "            r, c = row - 1, col + 1\n",
    "            while r >= 0 and c <= n - 1:\n",
    "                grid[r][c] = 1\n",
    "                r -= 1\n",
    "                c += 1\n",
    "            r, c = row + 1, col - 1\n",
    "            while r <= n - 1 and c >= 0:\n",
    "                grid[r][c] = 1\n",
    "                r += 1\n",
    "                c -= 1\n",
    "            r, c = row + 1, col + 1\n",
    "            while r <= n - 1 and c <= n - 1:\n",
    "                grid[r][c] = 1\n",
    "                r += 1\n",
    "                c += 1\n",
    "\n",
    "    def neis(row: int, col: int):\n",
    "        nei = []\n",
    "        for r, c in ((row, col), (row, col + 1), (row, col - 1), (row - 1, col), (row + 1, col),\n",
    "                     (row - 1, col - 1), (row - 1, col + 1), (row + 1, col - 1), (row + 1, col + 1)):\n",
    "            if 0 <= r < n and 0 <= c < n:\n",
    "                nei.append((r, c))\n",
    "        return nei\n",
    "\n",
    "    for r, c in queries:\n",
    "        grid = [[0] * n for _ in range(n)]\n",
    "        open_lamps(lamps)\n",
    "        if grid[r][c] == 1:\n",
    "            res.append(1)\n",
    "        else:\n",
    "            res.append(0)\n",
    "        for nei in neis(r, c):\n",
    "            if nei in lamps:\n",
    "                lamps.remove(nei)\n",
    "\n",
    "    return res\n",
    "\n",
    "\n",
    "# f(5, [[0, 0], [4, 4]], [[1, 1], [1, 0]])\n",
    "# f(5, [[0, 0], [0, 4]], [[0, 4], [0, 1], [1, 4]])\n",
    "f(6, [[2, 5], [4, 2], [0, 3], [0, 5], [1, 4], [4, 2], [3, 3], [1, 0]], [[4, 3], [3, 1]])\n"
   ]
  },
  {
   "cell_type": "code",
   "execution_count": 37,
   "metadata": {},
   "outputs": [
    {
     "data": {
      "text/plain": [
       "[1, 0]"
      ]
     },
     "execution_count": 37,
     "metadata": {},
     "output_type": "execute_result"
    }
   ],
   "source": [
    "from pprint import pprint\n",
    "from collections import defaultdict\n",
    "\n",
    "\n",
    "# 计数模拟\n",
    "def f(n: int, lamps: list, queries: list):\n",
    "    lamps = set(map(tuple, lamps))  # 去重\n",
    "    res = []\n",
    "    # 被点亮的行、列、对角线、反对角线 的计数\n",
    "    r_cnt, c_cnt, lr_cnt, rl_cnt = defaultdict(int), defaultdict(int), defaultdict(int), defaultdict(int)\n",
    "    for r, c in lamps:\n",
    "        r_cnt[r] += 1  # 该行点亮计数+1\n",
    "        c_cnt[c] += 1  # 该列点亮计数+1\n",
    "        lr_cnt[r - c] += 1  # 左上到右下点亮计数+1\n",
    "        rl_cnt[r + c] += 1  # 右上到左下点亮计数+1\n",
    "    for r, c in queries:\n",
    "        # 通过计数大于0来确定亮灯 否则灭灯\n",
    "        if r_cnt[r] > 0 or c_cnt[c] > 0 or lr_cnt[r - c] > 0 or rl_cnt[r + c] > 0:\n",
    "            res.append(1)\n",
    "        else:\n",
    "            res.append(0)\n",
    "        # 将周围九宫格内关灯\n",
    "        for nei in ((r - 1, c - 1), (r - 1, c), (r - 1, c + 1), (r, c - 1), (r, c), (r, c + 1), (r + 1, c - 1),\n",
    "                    (r + 1, c), (r + 1, c + 1)):\n",
    "            if nei in lamps:\n",
    "                lamps.remove(nei)\n",
    "                nr, nc = nei\n",
    "                r_cnt[nr] -= 1\n",
    "                c_cnt[nc] -= 1\n",
    "                lr_cnt[nr - nc] -= 1\n",
    "                rl_cnt[nr + nc] -= 1\n",
    "    return res\n",
    "\n",
    "\n",
    "# f(6, [[2, 5], [4, 2], [0, 3], [0, 5], [1, 4], [4, 2], [3, 3], [1, 0]], [[4, 3], [3, 1]])\n",
    "f(4, [[2, 0], [1, 2]], [[2, 3], [0, 3]])\n"
   ]
  },
  {
   "cell_type": "code",
   "execution_count": 36,
   "metadata": {},
   "outputs": [
    {
     "name": "stdout",
     "output_type": "stream",
     "text": [
      "True\n"
     ]
    }
   ],
   "source": [
    "x = defaultdict(int)\n",
    "x[2]-=1\n",
    "if x[2]:\n",
    "    print(True)\n",
    "else:\n",
    "    print(False)"
   ]
  },
  {
   "cell_type": "code",
   "execution_count": null,
   "metadata": {},
   "outputs": [],
   "source": []
  }
 ],
 "metadata": {
  "interpreter": {
   "hash": "aee8b7b246df8f9039afb4144a1f6fd8d2ca17a180786b69acc140d282b71a49"
  },
  "kernelspec": {
   "display_name": "Python 3.10.1 64-bit",
   "language": "python",
   "name": "python3"
  },
  "language_info": {
   "codemirror_mode": {
    "name": "ipython",
    "version": 3
   },
   "file_extension": ".py",
   "mimetype": "text/x-python",
   "name": "python",
   "nbconvert_exporter": "python",
   "pygments_lexer": "ipython3",
   "version": "3.10.1"
  },
  "orig_nbformat": 4
 },
 "nbformat": 4,
 "nbformat_minor": 2
}
