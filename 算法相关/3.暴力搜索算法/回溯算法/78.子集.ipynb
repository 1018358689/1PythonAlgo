{
 "cells": [
  {
   "cell_type": "markdown",
   "metadata": {},
   "source": [
    "给你一个整数数组 nums ，数组中的元素 互不相同 。返回该数组所有可能的子集（幂集）。\n",
    "\n",
    "解集 不能 包含重复的子集。你可以按 任意顺序 返回解集。\n",
    "\n",
    "\n",
    "示例 1：\n",
    "输入：nums = [1,2,3]\n",
    "输出：[[],[1],[2],[1,2],[3],[1,3],[2,3],[1,2,3]]\n",
    "\n",
    "示例 2：\n",
    "输入：nums = [0]\n",
    "输出：[[],[0]]\n",
    " \n",
    "提示：\n",
    "\n",
    "1 <= nums.length <= 10\n",
    "-10 <= nums[i] <= 10\n",
    "nums 中的所有元素 互不相同\n",
    "\n",
    "来源：力扣（LeetCode）\n",
    "链接：https://leetcode-cn.com/problems/subsets\n",
    "著作权归领扣网络所有。商业转载请联系官方授权，非商业转载请注明出处。"
   ]
  },
  {
   "cell_type": "code",
   "execution_count": 2,
   "metadata": {},
   "outputs": [
    {
     "data": {
      "text/plain": [
       "([[], [1], [1, 2], [1, 2, 3], [1, 3], [2], [2, 3], [3]], [[], [0]])"
      ]
     },
     "execution_count": 2,
     "metadata": {},
     "output_type": "execute_result"
    }
   ],
   "source": [
    "def f(nums: list):\n",
    "    path = []\n",
    "    res = [[]]\n",
    "\n",
    "    def dfs(path: list, si: int):\n",
    "        for i in range(si, len(nums)):\n",
    "            path.append(nums[i])\n",
    "            res.append(path[:])\n",
    "            dfs(path, i + 1)\n",
    "            path.pop()\n",
    "\n",
    "    dfs(path, 0)\n",
    "    return res\n",
    "\n",
    "\n",
    "f([1, 2, 3]), f([0])\n"
   ]
  },
  {
   "cell_type": "code",
   "execution_count": 6,
   "metadata": {},
   "outputs": [
    {
     "data": {
      "text/plain": [
       "([[], [1], [1, 2], [1, 2, 3], [1, 3], [2], [2, 3], [3]], [[], [0]])"
      ]
     },
     "execution_count": 6,
     "metadata": {},
     "output_type": "execute_result"
    }
   ],
   "source": [
    "def f(nums: list):\n",
    "    path = []\n",
    "    res = []\n",
    "\n",
    "    def dfs(path: list, si: int):\n",
    "        res.append(path[:])\n",
    "        for i in range(si, len(nums)):\n",
    "            path.append(nums[i])\n",
    "            dfs(path, i + 1)\n",
    "            path.pop()\n",
    "\n",
    "    dfs(path, 0)\n",
    "    return res\n",
    "\n",
    "\n",
    "f([1, 2, 3]), f([0])\n"
   ]
  },
  {
   "cell_type": "code",
   "execution_count": null,
   "metadata": {},
   "outputs": [],
   "source": []
  }
 ],
 "metadata": {
  "interpreter": {
   "hash": "004de6046f1b3d314f33fdb43a2dc798b2646e5600efd8df5066c8b63a00ff6d"
  },
  "kernelspec": {
   "display_name": "Python 3.8.10 64-bit",
   "language": "python",
   "name": "python3"
  },
  "language_info": {
   "codemirror_mode": {
    "name": "ipython",
    "version": 3
   },
   "file_extension": ".py",
   "mimetype": "text/x-python",
   "name": "python",
   "nbconvert_exporter": "python",
   "pygments_lexer": "ipython3",
   "version": "3.8.10"
  },
  "orig_nbformat": 4
 },
 "nbformat": 4,
 "nbformat_minor": 2
}
