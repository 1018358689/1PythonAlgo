{
 "cells": [
  {
   "cell_type": "markdown",
   "metadata": {},
   "source": [
    "给定一个仅包含数字 2-9 的字符串，返回所有它能表示的字母组合。答案可以按 任意顺序 返回。\n",
    "\n",
    "给出数字到字母的映射如下（与电话按键相同）。注意 1 不对应任何字母。\n",
    "\n",
    "\n",
    "示例 1：\n",
    "输入：digits = \"23\"\n",
    "输出：[\"ad\",\"ae\",\"af\",\"bd\",\"be\",\"bf\",\"cd\",\"ce\",\"cf\"]\n",
    "\n",
    "示例 2：\n",
    "输入：digits = \"\"\n",
    "输出：[]\n",
    "\n",
    "示例 3：\n",
    "输入：digits = \"2\"\n",
    "输出：[\"a\",\"b\",\"c\"]\n",
    " \n",
    "提示：\n",
    "\n",
    "0 <= digits.length <= 4\n",
    "digits[i] 是范围 ['2', '9'] 的一个数字。\n",
    "\n",
    "来源：力扣（LeetCode）\n",
    "链接：https://leetcode-cn.com/problems/letter-combinations-of-a-phone-number\n",
    "著作权归领扣网络所有。商业转载请联系官方授权，非商业转载请注明出处。"
   ]
  },
  {
   "cell_type": "code",
   "execution_count": 6,
   "metadata": {},
   "outputs": [
    {
     "data": {
      "text/plain": [
       "['ad', 'ae', 'af', 'bd', 'be', 'bf', 'cd', 'ce', 'cf']"
      ]
     },
     "execution_count": 6,
     "metadata": {},
     "output_type": "execute_result"
    }
   ],
   "source": [
    "def f(digits: str):\n",
    "    if not digits: return []\n",
    "    hash_map = {\n",
    "        '2': 'abc',\n",
    "        '3': 'def',\n",
    "        '4': 'ghi',\n",
    "        '5': 'jkl',\n",
    "        '6': 'mno',\n",
    "        '7': 'pqrs',\n",
    "        '8': 'tuv',\n",
    "        '9': 'wxyz'\n",
    "    }\n",
    "    res = []\n",
    "    nums = list(digits)\n",
    "\n",
    "    def dfs(path: list, k: int):\n",
    "        if k > len(digits) - 1:\n",
    "            res.append(''.join(path))\n",
    "            return\n",
    "        for c in hash_map[nums[k]]:\n",
    "            path.append(c)\n",
    "            k += 1\n",
    "            dfs(path, k)\n",
    "            path.pop()\n",
    "            k -= 1\n",
    "\n",
    "    dfs([], 0)\n",
    "    return res\n",
    "\n",
    "\n",
    "f('23')"
   ]
  },
  {
   "cell_type": "code",
   "execution_count": 4,
   "metadata": {},
   "outputs": [
    {
     "data": {
      "text/plain": [
       "['2', '3']"
      ]
     },
     "execution_count": 4,
     "metadata": {},
     "output_type": "execute_result"
    }
   ],
   "source": [
    "s = '23'\n",
    "list(s)"
   ]
  },
  {
   "cell_type": "code",
   "execution_count": 7,
   "metadata": {},
   "outputs": [
    {
     "data": {
      "text/plain": [
       "['ad', 'ae', 'af', 'bd', 'be', 'bf', 'cd', 'ce', 'cf']"
      ]
     },
     "execution_count": 7,
     "metadata": {},
     "output_type": "execute_result"
    }
   ],
   "source": [
    "def f(digits: str):\n",
    "    if not digits: return []\n",
    "    hash_map = {\n",
    "        '2': 'abc',\n",
    "        '3': 'def',\n",
    "        '4': 'ghi',\n",
    "        '5': 'jkl',\n",
    "        '6': 'mno',\n",
    "        '7': 'pqrs',\n",
    "        '8': 'tuv',\n",
    "        '9': 'wxyz'\n",
    "    }\n",
    "    res = []\n",
    "    nums = list(digits)\n",
    "\n",
    "    def dfs(path: list, k: int):\n",
    "        if k > len(digits) - 1:\n",
    "            res.append(''.join(path))\n",
    "            return\n",
    "        for c in hash_map[nums[k]]:\n",
    "            path.append(c)\n",
    "            dfs(path, k + 1)\n",
    "            path.pop()\n",
    "\n",
    "    dfs([], 0)\n",
    "    return res\n",
    "\n",
    "\n",
    "f('23')"
   ]
  },
  {
   "cell_type": "code",
   "execution_count": 8,
   "metadata": {},
   "outputs": [
    {
     "data": {
      "text/plain": [
       "['ad', 'ae', 'af', 'bd', 'be', 'bf', 'cd', 'ce', 'cf']"
      ]
     },
     "execution_count": 8,
     "metadata": {},
     "output_type": "execute_result"
    }
   ],
   "source": [
    "def f(digits: str):\n",
    "    if not digits: return []\n",
    "    hash_map = {\n",
    "        '2': 'abc',\n",
    "        '3': 'def',\n",
    "        '4': 'ghi',\n",
    "        '5': 'jkl',\n",
    "        '6': 'mno',\n",
    "        '7': 'pqrs',\n",
    "        '8': 'tuv',\n",
    "        '9': 'wxyz'\n",
    "    }\n",
    "    res = []\n",
    "    nums = list(digits)\n",
    "\n",
    "    def dfs(path: list, k: int):\n",
    "        if k > len(digits) - 1:\n",
    "            res.append(''.join(path))\n",
    "            return\n",
    "        for c in hash_map[nums[k]]:\n",
    "            dfs(path + [c], k + 1)\n",
    "\n",
    "    dfs([], 0)\n",
    "    return res\n",
    "\n",
    "\n",
    "f('23')"
   ]
  },
  {
   "cell_type": "code",
   "execution_count": null,
   "metadata": {},
   "outputs": [],
   "source": []
  }
 ],
 "metadata": {
  "interpreter": {
   "hash": "004de6046f1b3d314f33fdb43a2dc798b2646e5600efd8df5066c8b63a00ff6d"
  },
  "kernelspec": {
   "display_name": "Python 3.8.10 64-bit",
   "language": "python",
   "name": "python3"
  },
  "language_info": {
   "codemirror_mode": {
    "name": "ipython",
    "version": 3
   },
   "file_extension": ".py",
   "mimetype": "text/x-python",
   "name": "python",
   "nbconvert_exporter": "python",
   "pygments_lexer": "ipython3",
   "version": "3.8.10"
  },
  "orig_nbformat": 4
 },
 "nbformat": 4,
 "nbformat_minor": 2
}
