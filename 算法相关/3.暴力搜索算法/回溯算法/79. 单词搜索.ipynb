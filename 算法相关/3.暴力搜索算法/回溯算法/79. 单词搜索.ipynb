{
 "cells": [
  {
   "cell_type": "code",
   "execution_count": 10,
   "metadata": {},
   "outputs": [
    {
     "data": {
      "text/plain": [
       "False"
      ]
     },
     "execution_count": 10,
     "metadata": {},
     "output_type": "execute_result"
    }
   ],
   "source": [
    "def f(board: list, word: list):\n",
    "    word = list(word)\n",
    "    rows, cols = len(board), len(board[0])\n",
    "\n",
    "    def dfs(r, c, vis, index):  # index:当前要找的索引\n",
    "        if index > len(word) - 1:  # 找完所有字母 提前退出\n",
    "            return True\n",
    "        if board[r][c] != word[index]:  # 不是目标字母 回溯\n",
    "            return\n",
    "        for nr, nc in ((r - 1, c), (r + 1, c), (r, c - 1), (r, c + 1)):\n",
    "            if 0 <= nr < rows and 0 <= nc < cols and (nr, nc) not in vis:\n",
    "                vis.add((nr, nc))  # 防止回头路\n",
    "                if dfs(nr, nc, vis, index + 1):\n",
    "                    return True\n",
    "                vis.remove((nr, nc))\n",
    "\n",
    "    for r in range(rows):\n",
    "        for c in range(cols):\n",
    "            if board[r][c] == word[0]:\n",
    "                vis = set()\n",
    "                vis.add((r, c))\n",
    "                if dfs(r, c, vis, 0):\n",
    "                    return True\n",
    "                break\n",
    "    return False\n",
    "\n",
    "\n",
    "f([[\"A\", \"B\", \"C\", \"E\"], [\"S\", \"F\", \"C\", \"S\"], [\"A\", \"D\", \"E\", \"E\"]], \"ABCCED\")\n",
    "f([[\"A\", \"B\", \"C\", \"E\"], [\"S\", \"F\", \"C\", \"S\"], [\"A\", \"D\", \"E\", \"E\"]], \"ABCB\")\n"
   ]
  },
  {
   "cell_type": "code",
   "execution_count": 15,
   "metadata": {},
   "outputs": [
    {
     "name": "stdout",
     "output_type": "stream",
     "text": [
      "1 0\n",
      "1 3\n",
      "0 3\n",
      "2 3\n",
      "2 2\n"
     ]
    },
    {
     "data": {
      "text/plain": [
       "True"
      ]
     },
     "execution_count": 15,
     "metadata": {},
     "output_type": "execute_result"
    }
   ],
   "source": [
    "def f(board: list, word: list):\n",
    "    word = list(word)\n",
    "    rows, cols = len(board), len(board[0])\n",
    "\n",
    "    def dfs(r, c, vis, index):  # index:当前要找的索引\n",
    "        if index > len(word) - 1:  # 找完所有字母 提前退出\n",
    "            return True\n",
    "        if r < 0 or r > rows - 1 or c < 0 or c > cols - 1 or (r, c) in vis: # 出界或回头路回溯\n",
    "            return\n",
    "        if board[r][c] != word[index]:  # 不是目标字母 回溯\n",
    "            return\n",
    "        vis.add((r, c))\n",
    "        for nr, nc in ((r - 1, c), (r + 1, c), (r, c - 1), (r, c + 1)):\n",
    "            if dfs(nr, nc, vis, index + 1):\n",
    "                return True\n",
    "        vis.remove((r, c))\n",
    "\n",
    "    for r in range(rows):\n",
    "        for c in range(cols):\n",
    "            if board[r][c] == word[0]:\n",
    "                if dfs(r, c, set(), 0):\n",
    "                    return True\n",
    "    return False\n",
    "\n",
    "\n",
    "# f([[\"A\", \"B\", \"C\", \"E\"], [\"S\", \"F\", \"C\", \"S\"], [\"A\", \"D\", \"E\", \"E\"]], \"ABCCED\")\n",
    "# f([[\"A\", \"B\", \"C\", \"E\"], [\"S\", \"F\", \"C\", \"S\"], [\"A\", \"D\", \"E\", \"E\"]], \"ABCB\")\n",
    "f([[\"A\", \"B\", \"C\", \"E\"], [\"S\", \"F\", \"C\", \"S\"], [\"A\", \"D\", \"E\", \"E\"]], \"SEE\")\n"
   ]
  },
  {
   "cell_type": "code",
   "execution_count": null,
   "metadata": {},
   "outputs": [],
   "source": []
  }
 ],
 "metadata": {
  "interpreter": {
   "hash": "004de6046f1b3d314f33fdb43a2dc798b2646e5600efd8df5066c8b63a00ff6d"
  },
  "kernelspec": {
   "display_name": "Python 3.8.10 64-bit",
   "language": "python",
   "name": "python3"
  },
  "language_info": {
   "codemirror_mode": {
    "name": "ipython",
    "version": 3
   },
   "file_extension": ".py",
   "mimetype": "text/x-python",
   "name": "python",
   "nbconvert_exporter": "python",
   "pygments_lexer": "ipython3",
   "version": "3.8.10"
  },
  "orig_nbformat": 4
 },
 "nbformat": 4,
 "nbformat_minor": 2
}
