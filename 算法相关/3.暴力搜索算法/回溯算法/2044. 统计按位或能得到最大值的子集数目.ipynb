{
 "cells": [
  {
   "cell_type": "code",
   "execution_count": 7,
   "metadata": {},
   "outputs": [
    {
     "data": {
      "text/plain": [
       "(7, 3)"
      ]
     },
     "execution_count": 7,
     "metadata": {},
     "output_type": "execute_result"
    }
   ],
   "source": [
    "5 | 3, 0|3"
   ]
  },
  {
   "cell_type": "code",
   "execution_count": 1,
   "metadata": {},
   "outputs": [
    {
     "data": {
      "text/plain": [
       "6"
      ]
     },
     "execution_count": 1,
     "metadata": {},
     "output_type": "execute_result"
    }
   ],
   "source": [
    "def f(nums: list):\n",
    "    maxOr = 0\n",
    "    cnt = 1\n",
    "\n",
    "    def dfs(i, resOr):\n",
    "        nonlocal maxOr, cnt\n",
    "        if i == len(nums):\n",
    "            if resOr > maxOr:\n",
    "                maxOr = resOr\n",
    "                cnt = 1\n",
    "            elif resOr == maxOr:\n",
    "                cnt += 1\n",
    "            return\n",
    "        dfs(i + 1, resOr)\n",
    "        dfs(i + 1, resOr | nums[i])\n",
    "\n",
    "    dfs(0, 0)\n",
    "    return cnt\n",
    "\n",
    "\n",
    "f([3, 2, 1, 5])\n"
   ]
  },
  {
   "cell_type": "code",
   "execution_count": 3,
   "metadata": {},
   "outputs": [
    {
     "data": {
      "text/plain": [
       "6"
      ]
     },
     "execution_count": 3,
     "metadata": {},
     "output_type": "execute_result"
    }
   ],
   "source": [
    "def f(nums: list):\n",
    "    maxOr = 0\n",
    "    cnt = 1\n",
    "\n",
    "    def dfs(si, resOr):\n",
    "        nonlocal maxOr, cnt\n",
    "        if resOr > maxOr:\n",
    "            maxOr = resOr\n",
    "            cnt = 1\n",
    "        elif resOr == maxOr:\n",
    "            cnt += 1\n",
    "        for i in range(si, len(nums)):\n",
    "            dfs(i + 1, resOr | nums[i])\n",
    "\n",
    "    dfs(0, 0)\n",
    "    return cnt\n",
    "\n",
    "\n",
    "f([3, 2, 1, 5])\n"
   ]
  },
  {
   "cell_type": "code",
   "execution_count": null,
   "metadata": {},
   "outputs": [],
   "source": []
  }
 ],
 "metadata": {
  "interpreter": {
   "hash": "a5f34674cfcc9b13426a2d112c686bc132e4ef443f1487e707e7c3787d6bcf89"
  },
  "kernelspec": {
   "display_name": "Python 3.10.2 64-bit (windows store)",
   "language": "python",
   "name": "python3"
  },
  "language_info": {
   "codemirror_mode": {
    "name": "ipython",
    "version": 3
   },
   "file_extension": ".py",
   "mimetype": "text/x-python",
   "name": "python",
   "nbconvert_exporter": "python",
   "pygments_lexer": "ipython3",
   "version": "3.10.3"
  },
  "orig_nbformat": 4
 },
 "nbformat": 4,
 "nbformat_minor": 2
}
