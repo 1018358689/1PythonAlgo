{
 "cells": [
  {
   "cell_type": "markdown",
   "metadata": {},
   "source": [
    "你写下了若干 正整数 ，并将它们连接成了一个字符串 num 。但是你忘记给这些数字之间加逗号了。你只记得这一列数字是 非递减 的且 没有 任何数字有前导 0 。\n",
    "\n",
    "请你返回有多少种可能的 正整数数组 可以得到字符串 num 。由于答案可能很大，将结果对 109 + 7 取余 后返回。\n",
    "\n",
    "\n",
    "示例 1：\n",
    "输入：num = \"327\"\n",
    "输出：2\n",
    "解释：以下为可能的方案：\n",
    "3, 27\n",
    "327\n",
    "\n",
    "示例 2：\n",
    "输入：num = \"094\"\n",
    "输出：0\n",
    "解释：不能有数字有前导 0 ，且所有数字均为正数。\n",
    "\n",
    "示例 3：\n",
    "输入：num = \"0\"\n",
    "输出：0\n",
    "解释：不能有数字有前导 0 ，且所有数字均为正数。\n",
    "\n",
    "示例 4：\n",
    "输入：num = \"9999999999999\"\n",
    "输出：101\n",
    " \n",
    "提示：\n",
    "\n",
    "1 <= num.length <= 3500\n",
    "num 只含有数字 '0' 到 '9' 。"
   ]
  },
  {
   "cell_type": "code",
   "execution_count": 10,
   "metadata": {},
   "outputs": [
    {
     "name": "stdout",
     "output_type": "stream",
     "text": [
      "[]\n"
     ]
    }
   ],
   "source": [
    "def f(num:str):\n",
    "    res = []\n",
    "    def dfs(path:list,si:int,num_cnt:int):\n",
    "        if len(path)>1 and path[-1]<path[-2]:\n",
    "            return\n",
    "        if num_cnt==len(num):\n",
    "            res.append(path[:])\n",
    "        for i in range(si,len(num)):\n",
    "            if num[i]=='0':\n",
    "                break\n",
    "            cur = int(num[si:i+1])\n",
    "            path.append(cur)\n",
    "            dfs(path,i+1,num_cnt+i+1-si)\n",
    "            path.pop()\n",
    "            \n",
    "    path = []\n",
    "    dfs(path,0,0)\n",
    "    return res\n",
    "# f('327')\n",
    "f('0')\n",
    "    "
   ]
  },
  {
   "cell_type": "code",
   "execution_count": 10,
   "metadata": {},
   "outputs": [
    {
     "data": {
      "text/plain": [
       "774124"
      ]
     },
     "execution_count": 10,
     "metadata": {},
     "output_type": "execute_result"
    }
   ],
   "source": [
    "def f(num: str):\n",
    "    res = 0\n",
    "\n",
    "    def dfs(path: list, si: int, num_cnt: int):\n",
    "        nonlocal res\n",
    "        if len(path) > 1 and path[-1] < path[-2]:\n",
    "            return\n",
    "        if num_cnt == len(num):\n",
    "            res += 1\n",
    "        for i in range(si, len(num)):\n",
    "            if num[i] == '0' and i == si:\n",
    "                break\n",
    "            cur = int(num[si:i + 1])\n",
    "            path.append(cur)\n",
    "            dfs(path, i + 1, num_cnt + i + 1 - si)\n",
    "            path.pop()\n",
    "\n",
    "    path = []\n",
    "    dfs(path, 0, 0)\n",
    "    return res % (10**9 + 7)\n",
    "\n",
    "\n",
    "# f('327')\n",
    "# f('0')\n",
    "f('181599706296201533688444310698720506149731032417146774186256527047743490211586938068687937416089')"
   ]
  },
  {
   "cell_type": "code",
   "execution_count": 9,
   "metadata": {},
   "outputs": [
    {
     "data": {
      "text/plain": [
       "774124"
      ]
     },
     "execution_count": 9,
     "metadata": {},
     "output_type": "execute_result"
    }
   ],
   "source": [
    "def f(num: str):\n",
    "    res = 0\n",
    "\n",
    "    def dfs(path: list, si: int, num_cnt: int):\n",
    "        nonlocal res\n",
    "        if len(path) > 1 and path[-1] < path[-2]:\n",
    "            return\n",
    "        if num_cnt == len(num):\n",
    "            res += 1\n",
    "        for i in range(si, len(num)):\n",
    "            if num[i] == '0' and i == si:\n",
    "                break\n",
    "            # if len(path)>0 and i+1-si>len(str(path[-1])):\n",
    "            #     res+=len(num)-num_cnt-(i+1-si)+1\n",
    "            #     break\n",
    "            if len(path) > 0 and i + 1 - si < len(str(path[-1])):\n",
    "                continue\n",
    "            cur = int(num[si:i + 1])\n",
    "            dfs(path + [cur], i + 1, num_cnt + i + 1 - si)\n",
    "\n",
    "    path = []\n",
    "    dfs(path, 0, 0)\n",
    "    return res % (10**9 + 7)\n",
    "\n",
    "\n",
    "f('327')\n",
    "# f('0')\n",
    "f('181599706296201533688444310698720506149731032417146774186256527047743490211586938068687937416089')"
   ]
  },
  {
   "cell_type": "code",
   "execution_count": 31,
   "metadata": {},
   "outputs": [
    {
     "data": {
      "text/plain": [
       "320881"
      ]
     },
     "execution_count": 31,
     "metadata": {},
     "output_type": "execute_result"
    }
   ],
   "source": [
    "def f(num: str):\n",
    "    mod = 10**9 + 7\n",
    "\n",
    "    if num[0] == \"0\":\n",
    "        return 0\n",
    "\n",
    "    n = len(num)\n",
    "\n",
    "    # 预处理 lcp\n",
    "    lcp = [[0] * n for _ in range(n)]\n",
    "    for i in range(n - 1, -1, -1):\n",
    "        lcp[i][n - 1] = int(num[i] == num[n - 1])\n",
    "        for j in range(i + 1, n - 1):\n",
    "            lcp[i][j] = (lcp[i + 1][j + 1] + 1 if num[i] == num[j] else 0)\n",
    "\n",
    "    # 动态规划\n",
    "    f = [[0] * n for _ in range(n)]\n",
    "    # 边界 f[0][..] = 1\n",
    "    for i in range(n):\n",
    "        f[0][i] = 1\n",
    "\n",
    "    for i in range(1, n):\n",
    "        # 有前导零，无需转移\n",
    "        if num[i] == \"0\":\n",
    "            continue\n",
    "\n",
    "        # 前缀和\n",
    "        presum = 0\n",
    "        for j in range(i, n):\n",
    "            length = j - i + 1\n",
    "            f[i][j] = presum % mod\n",
    "            if i - length >= 0:\n",
    "                # 使用 lcp 比较 num(2i-j-1,i-1) 与 num(i,j) 的大小关系\n",
    "                if lcp[i - length][i] >= length or num[i - length +\n",
    "                                                       lcp[i - length][i]] < num[i + lcp[i - length][i]]:\n",
    "                    f[i][j] = (f[i][j] + f[i - length][i - 1]) % mod\n",
    "                # 更新前缀和\n",
    "                presum += f[i - length][i - 1]\n",
    "\n",
    "    # 最终答案即为所有 f[..][n-1] 的和\n",
    "    ans = sum(f[i][n - 1] for i in range(n)) % mod\n",
    "    return ans\n",
    "\n",
    "\n",
    "# f('181599706296201533688444310698720506149731032417146774186256527047743490211586938068687937416089')\n",
    "f('83003354216894210447898562575326033230982150648909010016761847230461849926189141173934835642087375')"
   ]
  },
  {
   "cell_type": "code",
   "execution_count": 30,
   "metadata": {},
   "outputs": [
    {
     "data": {
      "text/plain": [
       "320881"
      ]
     },
     "execution_count": 30,
     "metadata": {},
     "output_type": "execute_result"
    }
   ],
   "source": [
    "def f(num: str):\n",
    "    res = 0\n",
    "\n",
    "    def dfs(path: list, si: int, num_cnt: int):\n",
    "        nonlocal res\n",
    "        # if len(path) > 1 and path[-1] < path[-2]:\n",
    "        #     return\n",
    "        if num_cnt == len(num):\n",
    "            res += 1\n",
    "        for i in range(si, len(num)):\n",
    "            if num[i] == '0' and i == si:\n",
    "                break\n",
    "            if len(path) > 0 and i + 1 - si < len(str(path[-1])):\n",
    "                continue\n",
    "            cur = int(num[si:i + 1])\n",
    "            if len(path) > 0 and cur < path[-1]:\n",
    "                continue\n",
    "            dfs(path + [cur], i + 1, num_cnt + i + 1 - si)\n",
    "\n",
    "    path = []\n",
    "    dfs(path, 0, 0)\n",
    "    return res % (10**9 + 7)\n",
    "\n",
    "\n",
    "# f('327')\n",
    "# f('0')\n",
    "# f('181599706296201533688444310698720506149731032417146774186256527047743490211586938068687937416089')\n",
    "f('83003354216894210447898562575326033230982150648909010016761847230461849926189141173934835642087375')"
   ]
  },
  {
   "cell_type": "code",
   "execution_count": 48,
   "metadata": {},
   "outputs": [
    {
     "data": {
      "text/plain": [
       "626529"
      ]
     },
     "execution_count": 48,
     "metadata": {},
     "output_type": "execute_result"
    }
   ],
   "source": [
    "from functools import lru_cache\n",
    "def f(num: str):\n",
    "    res = 0\n",
    "    @lru_cache(maxsize=128,typed=False)\n",
    "    def dfs(path: tuple, si: int, num_cnt: int, ii: int):  # si:第一个位置索引 num_cnt:已使用num长度 ii:正确起始位置\n",
    "        nonlocal res\n",
    "        # if len(path) > 1 and path[-1] < path[-2]:\n",
    "        #     return\n",
    "        path = list(path)\n",
    "        if num_cnt == len(num):\n",
    "            res %= (10**9 + 7)\n",
    "            res += 1\n",
    "        for i in range(ii, len(num)):\n",
    "            cur_sz = i + 1 - si\n",
    "            if num[si] == '0':\n",
    "                break\n",
    "            cur = int(num[si:i + 1])\n",
    "            if len(path) > 0 and cur < path[-1]:\n",
    "                continue\n",
    "            path.append(cur)\n",
    "            path = tuple(path)\n",
    "            dfs(path, i + 1, num_cnt + cur_sz, num_cnt + 2 * cur_sz - 1)\n",
    "            path = list(path)\n",
    "            path.pop()\n",
    "\n",
    "    dfs((), 0, 0, 0)\n",
    "    return res % (10**9 + 7)\n",
    "\n",
    "\n",
    "# f('327')\n",
    "# f('0')\n",
    "# f('181599706296201533688444310698720506149731032417146774186256527047743490211586938068687937416089')\n",
    "# f('83003354216894210447898562575326033230982150648909010016761847230461849926189141173934835642087375')\n",
    "f('277167014508993588916375628900287721753540838663177971775170166088019948837550375899757113055')"
   ]
  },
  {
   "cell_type": "code",
   "execution_count": 57,
   "metadata": {},
   "outputs": [
    {
     "data": {
      "text/plain": [
       "46420"
      ]
     },
     "execution_count": 57,
     "metadata": {},
     "output_type": "execute_result"
    }
   ],
   "source": [
    "def f(num: str) -> int:\n",
    "    res = 0\n",
    "\n",
    "    def dfs(path: list, si: int, num_cnt: int, ei: int):  # si:第一个字母索引 num_cnt:已使用num长度 ei:切片结束位置\n",
    "        nonlocal res\n",
    "        # if len(path) > 1 and path[-1] < path[-2]:\n",
    "        #     return\n",
    "        if num_cnt == len(num):\n",
    "            res += 1\n",
    "        for i in range(ei, len(num)):\n",
    "            if num[si] == '0':\n",
    "                break\n",
    "            cur = int(num[si:i + 1])\n",
    "            if len(path) > 0 and cur < path[-1]:\n",
    "                continue\n",
    "            cur_sz = i + 1 - si\n",
    "            # path.append(cur)\n",
    "            dfs(path + [cur], i + 1, num_cnt + cur_sz, num_cnt + 2 * cur_sz - 1)\n",
    "            # path.pop()\n",
    "\n",
    "    dfs([], 0, 0, 0)\n",
    "    return res % (10**9 + 7)\n",
    "\n",
    "\n",
    "# f('277167014508993588916375628900287721753540838663177971775170166088019948837550375899757113055')\n",
    "f('4655494717099917381684602235697252175250074329271296666760083505')"
   ]
  },
  {
   "cell_type": "code",
   "execution_count": null,
   "metadata": {},
   "outputs": [],
   "source": []
  }
 ],
 "metadata": {
  "interpreter": {
   "hash": "004de6046f1b3d314f33fdb43a2dc798b2646e5600efd8df5066c8b63a00ff6d"
  },
  "kernelspec": {
   "display_name": "Python 3.8.10 64-bit",
   "language": "python",
   "name": "python3"
  },
  "language_info": {
   "codemirror_mode": {
    "name": "ipython",
    "version": 3
   },
   "file_extension": ".py",
   "mimetype": "text/x-python",
   "name": "python",
   "nbconvert_exporter": "python",
   "pygments_lexer": "ipython3",
   "version": "3.8.10"
  },
  "orig_nbformat": 4
 },
 "nbformat": 4,
 "nbformat_minor": 2
}
