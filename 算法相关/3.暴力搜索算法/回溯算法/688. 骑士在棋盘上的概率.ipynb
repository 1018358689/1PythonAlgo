{
 "cells": [
  {
   "cell_type": "code",
   "execution_count": 11,
   "metadata": {},
   "outputs": [
    {
     "data": {
      "text/plain": [
       "0.0625"
      ]
     },
     "execution_count": 11,
     "metadata": {},
     "output_type": "execute_result"
    }
   ],
   "source": [
    "# 直接回溯会超时\n",
    "def f(n: int, k: int, row: int, column: int):\n",
    "    dir = ((-2, -1), (-2, 1), (-1, -2), (-1, 2), (1, -2), (1, 2), (2, -1), (2, 1))\n",
    "    in_grid = 0\n",
    "\n",
    "    def backtrack(r, c, step):\n",
    "        nonlocal in_grid\n",
    "        if r < 0 or r > n - 1 or c < 0 or c > n - 1:\n",
    "            return\n",
    "        if step == k:\n",
    "            in_grid += 1\n",
    "            return\n",
    "        for i, j in dir:\n",
    "            nr, nc = r + i, c + j\n",
    "            backtrack(nr, nc, step + 1)\n",
    "\n",
    "    backtrack(row, column, 0)\n",
    "    return in_grid / (8**k)\n",
    "\n",
    "\n",
    "f(3, 2, 0, 0)\n"
   ]
  },
  {
   "cell_type": "code",
   "execution_count": 15,
   "metadata": {},
   "outputs": [
    {
     "data": {
      "text/plain": [
       "0.0625"
      ]
     },
     "execution_count": 15,
     "metadata": {},
     "output_type": "execute_result"
    }
   ],
   "source": [
    "# 魔法方法\n",
    "import functools\n",
    "\n",
    "\n",
    "def f(n: int, k: int, row: int, column: int):\n",
    "    dir = ((-2, -1), (-2, 1), (-1, -2), (-1, 2), (1, -2), (1, 2), (2, -1), (2, 1))\n",
    "\n",
    "    @functools.lru_cache(None)\n",
    "    def backtrack(r, c, step):\n",
    "        if r < 0 or r > n - 1 or c < 0 or c > n - 1:\n",
    "            return 0\n",
    "        if step == k:\n",
    "            return 1\n",
    "        in_grid = 0\n",
    "        for i, j in dir:\n",
    "            nr, nc = r + i, c + j\n",
    "            in_grid += backtrack(nr, nc, step + 1)\n",
    "        return in_grid\n",
    "\n",
    "    return backtrack(row, column, 0) / (8**k)\n",
    "\n",
    "\n",
    "f(3, 2, 0, 0)\n"
   ]
  },
  {
   "cell_type": "code",
   "execution_count": 13,
   "metadata": {},
   "outputs": [
    {
     "data": {
      "text/plain": [
       "0.0625"
      ]
     },
     "execution_count": 13,
     "metadata": {},
     "output_type": "execute_result"
    }
   ],
   "source": [
    "def f(n: int, k: int, row: int, column: int):\n",
    "    dir = ((-2, -1), (-2, 1), (-1, -2), (-1, 2), (1, -2), (1, 2), (2, -1), (2, 1))\n",
    "\n",
    "    @functools.lru_cache(None)\n",
    "    def backtrack(r, c, step):\n",
    "        if r < 0 or r > n - 1 or c < 0 or c > n - 1:\n",
    "            return 0\n",
    "        if step == k:\n",
    "            return 1\n",
    "        res = 0\n",
    "        for i, j in dir:\n",
    "            nr, nc = r + i, c + j\n",
    "            res += backtrack(nr, nc, step + 1)\n",
    "        return res / 8\n",
    "\n",
    "    return backtrack(row, column, 0)\n",
    "\n",
    "\n",
    "f(3, 2, 0, 0)\n"
   ]
  },
  {
   "cell_type": "code",
   "execution_count": 16,
   "metadata": {},
   "outputs": [
    {
     "data": {
      "text/plain": [
       "0.0625"
      ]
     },
     "execution_count": 16,
     "metadata": {},
     "output_type": "execute_result"
    }
   ],
   "source": [
    "# 记忆化\n",
    "def f(n: int, k: int, row: int, column: int):\n",
    "    dir = ((-2, -1), (-2, 1), (-1, -2), (-1, 2), (1, -2), (1, 2), (2, -1), (2, 1))\n",
    "    mem = {}\n",
    "\n",
    "    def backtrack(r, c, step):\n",
    "        if (r, c, step) in mem:\n",
    "            return mem[(r, c, step)]\n",
    "        if r < 0 or r > n - 1 or c < 0 or c > n - 1:\n",
    "            return 0\n",
    "        if step == k:\n",
    "            return 1\n",
    "        res = 0\n",
    "        for i, j in dir:\n",
    "            nr, nc = r + i, c + j\n",
    "            res += backtrack(nr, nc, step + 1)\n",
    "        mem[(r, c, step)] = res / 8\n",
    "        return mem[(r, c, step)]\n",
    "\n",
    "    return backtrack(row, column, 0)\n",
    "\n",
    "\n",
    "f(3, 2, 0, 0)\n"
   ]
  },
  {
   "cell_type": "code",
   "execution_count": 17,
   "metadata": {},
   "outputs": [
    {
     "data": {
      "text/plain": [
       "0.0625"
      ]
     },
     "execution_count": 17,
     "metadata": {},
     "output_type": "execute_result"
    }
   ],
   "source": [
    "# 记忆化\n",
    "def f(n: int, k: int, row: int, column: int):\n",
    "    dir = ((-2, -1), (-2, 1), (-1, -2), (-1, 2), (1, -2), (1, 2), (2, -1), (2, 1))\n",
    "    mem = {}\n",
    "\n",
    "    def backtrack(r, c, step):\n",
    "        if (r, c, step) in mem:\n",
    "            return mem[(r, c, step)]\n",
    "        if r < 0 or r > n - 1 or c < 0 or c > n - 1:\n",
    "            return 0\n",
    "        if step == k:\n",
    "            return 1\n",
    "        ingrid = 0\n",
    "        for i, j in dir:\n",
    "            nr, nc = r + i, c + j\n",
    "            ingrid += backtrack(nr, nc, step + 1)\n",
    "        mem[(r, c, step)] = ingrid\n",
    "        return mem[(r, c, step)]\n",
    "\n",
    "    return backtrack(row, column, 0) / (8**k)\n",
    "\n",
    "\n",
    "f(3, 2, 0, 0)\n"
   ]
  },
  {
   "cell_type": "code",
   "execution_count": null,
   "metadata": {},
   "outputs": [],
   "source": []
  }
 ],
 "metadata": {
  "interpreter": {
   "hash": "004de6046f1b3d314f33fdb43a2dc798b2646e5600efd8df5066c8b63a00ff6d"
  },
  "kernelspec": {
   "display_name": "Python 3.8.10 64-bit",
   "language": "python",
   "name": "python3"
  },
  "language_info": {
   "codemirror_mode": {
    "name": "ipython",
    "version": 3
   },
   "file_extension": ".py",
   "mimetype": "text/x-python",
   "name": "python",
   "nbconvert_exporter": "python",
   "pygments_lexer": "ipython3",
   "version": "3.8.10"
  },
  "orig_nbformat": 4
 },
 "nbformat": 4,
 "nbformat_minor": 2
}
