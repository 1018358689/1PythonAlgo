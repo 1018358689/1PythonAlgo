{
 "cells": [
  {
   "cell_type": "code",
   "execution_count": 1,
   "metadata": {},
   "outputs": [
    {
     "data": {
      "text/plain": [
       "4"
      ]
     },
     "execution_count": 1,
     "metadata": {},
     "output_type": "execute_result"
    }
   ],
   "source": [
    "def f(arr: list):\n",
    "    res = 0\n",
    "\n",
    "    def back(si: int, path: str):\n",
    "        nonlocal res\n",
    "        if (x := len(set(path))) == len(path):\n",
    "            res = max(res, x)\n",
    "        for i in range(si, len(arr)):\n",
    "            back(i + 1, path + arr[i])\n",
    "\n",
    "    back(0, '')\n",
    "    return res\n",
    "\n",
    "\n",
    "f([\"un\", \"iq\", \"ue\"])\n"
   ]
  },
  {
   "cell_type": "code",
   "execution_count": 5,
   "metadata": {},
   "outputs": [
    {
     "data": {
      "text/plain": [
       "4"
      ]
     },
     "execution_count": 5,
     "metadata": {},
     "output_type": "execute_result"
    }
   ],
   "source": [
    "def f(arr: list):\n",
    "    res = 0\n",
    "\n",
    "    def back(i: int, path: str):\n",
    "        nonlocal res\n",
    "        if i == len(arr):\n",
    "            if (x := len(set(path))) == len(path):\n",
    "                res = max(res, x)\n",
    "            return\n",
    "        back(i + 1, path)\n",
    "        back(i + 1, path + arr[i])\n",
    "\n",
    "    back(0, '')\n",
    "    return res\n",
    "\n",
    "\n",
    "f([\"un\", \"iq\", \"ue\"])\n"
   ]
  },
  {
   "cell_type": "code",
   "execution_count": 8,
   "metadata": {},
   "outputs": [
    {
     "data": {
      "text/plain": [
       "'0b100'"
      ]
     },
     "execution_count": 8,
     "metadata": {},
     "output_type": "execute_result"
    }
   ],
   "source": [
    "bin((1<<2)&(1<<3|1<<2))"
   ]
  },
  {
   "cell_type": "code",
   "execution_count": 11,
   "metadata": {},
   "outputs": [
    {
     "data": {
      "text/plain": [
       "4"
      ]
     },
     "execution_count": 11,
     "metadata": {},
     "output_type": "execute_result"
    }
   ],
   "source": [
    "def f(arr: list):\n",
    "\n",
    "    masks = []\n",
    "    for s in arr:\n",
    "        mask = 0\n",
    "        for ch in s:\n",
    "            idx = ord(ch) - ord('a')\n",
    "            if (mask >> idx) & 1:\n",
    "                break\n",
    "            mask |= 1 << idx\n",
    "        else:\n",
    "            masks.append(mask)\n",
    "    res = 0\n",
    "\n",
    "    def back(i, mask):\n",
    "        if i == len(masks):\n",
    "            nonlocal res\n",
    "            res = max(res, bin(mask).count('1'))\n",
    "            return\n",
    "        if (masks[i] & mask) == 0:\n",
    "            back(i + 1, mask | masks[i])\n",
    "        back(i + 1, mask)\n",
    "\n",
    "    back(0, 0)\n",
    "    return res\n",
    "\n",
    "\n",
    "f([\"un\", \"iq\", \"ue\"])\n"
   ]
  },
  {
   "cell_type": "code",
   "execution_count": 12,
   "metadata": {},
   "outputs": [
    {
     "data": {
      "text/plain": [
       "4"
      ]
     },
     "execution_count": 12,
     "metadata": {},
     "output_type": "execute_result"
    }
   ],
   "source": [
    "def f(arr: list):\n",
    "\n",
    "    masks = []\n",
    "    for s in arr:\n",
    "        mask = 0\n",
    "        for ch in s:\n",
    "            idx = ord(ch) - ord('a')\n",
    "            if (mask >> idx) & 1:\n",
    "                break\n",
    "            mask |= 1 << idx\n",
    "        else:\n",
    "            masks.append(mask)\n",
    "    res = 0\n",
    "\n",
    "    def back(si, mask):\n",
    "        nonlocal res\n",
    "        res = max(res, bin(mask).count('1'))\n",
    "        for i in range(si, len(masks)):\n",
    "            if masks[i] & mask == 0:\n",
    "                back(i + 1, mask | masks[i])\n",
    "\n",
    "    back(0, 0)\n",
    "    return res\n",
    "\n",
    "\n",
    "f([\"un\", \"iq\", \"ue\"])\n"
   ]
  },
  {
   "cell_type": "code",
   "execution_count": null,
   "metadata": {},
   "outputs": [],
   "source": []
  }
 ],
 "metadata": {
  "interpreter": {
   "hash": "a5f34674cfcc9b13426a2d112c686bc132e4ef443f1487e707e7c3787d6bcf89"
  },
  "kernelspec": {
   "display_name": "Python 3.10.2 64-bit (windows store)",
   "language": "python",
   "name": "python3"
  },
  "language_info": {
   "codemirror_mode": {
    "name": "ipython",
    "version": 3
   },
   "file_extension": ".py",
   "mimetype": "text/x-python",
   "name": "python",
   "nbconvert_exporter": "python",
   "pygments_lexer": "ipython3",
   "version": "3.10.2"
  },
  "orig_nbformat": 4
 },
 "nbformat": 4,
 "nbformat_minor": 2
}
