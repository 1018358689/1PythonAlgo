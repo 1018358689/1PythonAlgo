{
 "cells": [
  {
   "cell_type": "markdown",
   "metadata": {},
   "source": [
    "给你一个 无重复元素 的整数数组 candidates 和一个目标整数 target ，找出 candidates 中可以使数字和为目标数 target 的 所有不同组合 ，并以列表形式返回。你可以按 任意顺序 返回这些组合。\n",
    "\n",
    "candidates 中的 同一个 数字可以 无限制重复被选取 。如果至少一个数字的被选数量不同，则两种组合是不同的。 \n",
    "\n",
    "对于给定的输入，保证和为 target 的不同组合数少于 150 个。\n",
    "\n",
    "\n",
    "示例 1：\n",
    "输入：candidates = [2,3,6,7], target = 7\n",
    "输出：[[2,2,3],[7]]\n",
    "解释：\n",
    "2 和 3 可以形成一组候选，2 + 2 + 3 = 7 。注意 2 可以使用多次。\n",
    "7 也是一个候选， 7 = 7 。\n",
    "仅有这两种组合。\n",
    "\n",
    "示例 2：\n",
    "输入: candidates = [2,3,5], target = 8\n",
    "输出: [[2,2,2,2],[2,3,3],[3,5]]\n",
    "\n",
    "示例 3：\n",
    "输入: candidates = [2], target = 1\n",
    "输出: []\n",
    "\n",
    "示例 4：\n",
    "输入: candidates = [1], target = 1\n",
    "输出: [[1]]\n",
    "\n",
    "示例 5：\n",
    "输入: candidates = [1], target = 2\n",
    "输出: [[1,1]]\n",
    " \n",
    "\n",
    "提示：\n",
    "\n",
    "1 <= candidates.length <= 30\n",
    "1 <= candidates[i] <= 200\n",
    "candidate 中的每个元素都 互不相同\n",
    "1 <= target <= 500\n",
    "\n",
    "来源：力扣（LeetCode）\n",
    "链接：https://leetcode-cn.com/problems/combination-sum\n",
    "著作权归领扣网络所有。商业转载请联系官方授权，非商业转载请注明出处。"
   ]
  },
  {
   "cell_type": "code",
   "execution_count": null,
   "metadata": {},
   "outputs": [],
   "source": [
    "def f(candidates: list, target: int):\n",
    "    path = []\n",
    "    si = 0\n",
    "    Sum = 0\n",
    "    res = []\n",
    "\n",
    "    def dfs(path: list, si: int, Sum: int):\n",
    "        if Sum == target:\n",
    "            res.append(path[:])\n",
    "            return\n",
    "        if Sum > target:\n",
    "            return\n",
    "        for i in range(si, len(candidates)):\n",
    "            path.append(candidates[i])\n",
    "            Sum += candidates[i]\n",
    "            dfs(path, i, Sum)\n",
    "            path.pop()\n",
    "            Sum -= candidates[i]\n",
    "\n",
    "    dfs(path, si, Sum)\n",
    "    return res"
   ]
  }
 ],
 "metadata": {
  "interpreter": {
   "hash": "004de6046f1b3d314f33fdb43a2dc798b2646e5600efd8df5066c8b63a00ff6d"
  },
  "kernelspec": {
   "display_name": "Python 3.8.10 64-bit",
   "language": "python",
   "name": "python3"
  },
  "language_info": {
   "codemirror_mode": {
    "name": "ipython",
    "version": 3
   },
   "file_extension": ".py",
   "mimetype": "text/x-python",
   "name": "python",
   "nbconvert_exporter": "python",
   "pygments_lexer": "ipython3",
   "version": "3.8.10"
  },
  "orig_nbformat": 4
 },
 "nbformat": 4,
 "nbformat_minor": 2
}
