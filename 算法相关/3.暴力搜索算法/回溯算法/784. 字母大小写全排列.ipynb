{
 "cells": [
  {
   "cell_type": "code",
   "execution_count": 12,
   "metadata": {},
   "outputs": [
    {
     "data": {
      "text/plain": [
       "(97, 122, 65, 90)"
      ]
     },
     "execution_count": 12,
     "metadata": {},
     "output_type": "execute_result"
    }
   ],
   "source": [
    "chr(ord('a')-32)\n",
    "'A'.lower()\n",
    "ord('a'),ord('z'),ord('A'),ord('Z')"
   ]
  },
  {
   "cell_type": "code",
   "execution_count": 16,
   "metadata": {},
   "outputs": [
    {
     "data": {
      "text/plain": [
       "('S', 's')"
      ]
     },
     "execution_count": 16,
     "metadata": {},
     "output_type": "execute_result"
    }
   ],
   "source": [
    "def switch(s: str):\n",
    "    o = ord(s)\n",
    "    x =  chr(o - 32) if 97 <= o <= 122 else chr(o + 32)\n",
    "    return (s,x)\n",
    "\n",
    "switch('S')"
   ]
  },
  {
   "cell_type": "code",
   "execution_count": 29,
   "metadata": {},
   "outputs": [
    {
     "data": {
      "text/plain": [
       "(['a1b2', 'a1B2', 'A1b2', 'A1B2'], ['3z4', '3Z4'], ['12345'])"
      ]
     },
     "execution_count": 29,
     "metadata": {},
     "output_type": "execute_result"
    }
   ],
   "source": [
    "def f(S: str):\n",
    "    S = list(S)\n",
    "    def switch(s: str):\n",
    "        o = ord(s)\n",
    "        x =  chr(o - 32) if 97 <= o <= 122 else chr(o + 32)\n",
    "        return (s,x)    \n",
    "    need_change = [(i, s) for i, s in enumerate(S) if s.isalpha()]\n",
    "    # print(need_change)\n",
    "    sz = len(need_change)\n",
    "    ress = []\n",
    "    res = []\n",
    "\n",
    "    def dfs(path: list, deepth: int):\n",
    "        if deepth == sz:\n",
    "            res.append(path[:])\n",
    "            return\n",
    "        _, s = need_change[deepth]\n",
    "        for son in switch(s):\n",
    "            path.append(son)\n",
    "            dfs(path, deepth + 1)\n",
    "            path.pop()\n",
    "\n",
    "    dfs([], 0)\n",
    "    for r in res:\n",
    "        for i, change in zip(need_change, r):\n",
    "            S[i[0]] = change\n",
    "        ress.append(''.join(S))\n",
    "    return ress\n",
    "\n",
    "\n",
    "f('a1b2'), f('3z4'), f('12345')\n"
   ]
  },
  {
   "cell_type": "code",
   "execution_count": 31,
   "metadata": {},
   "outputs": [
    {
     "data": {
      "text/plain": [
       "(['a1b2', 'A1b2', 'A1B2', 'a1B2'], ['3z4', '3Z4'], ['12345'])"
      ]
     },
     "execution_count": 31,
     "metadata": {},
     "output_type": "execute_result"
    }
   ],
   "source": [
    "def f(S: str):\n",
    "    res = []\n",
    "    S = list(S)\n",
    "\n",
    "    def dfs(S: list, si):\n",
    "        res.append(''.join(S))\n",
    "        for i in range(si, len(S)):\n",
    "            cur = S[i]\n",
    "            if 97 <= ord(cur) <= 122:\n",
    "                S[i] = chr(ord(cur) - 32)\n",
    "                dfs(S, i + 1)\n",
    "                S[i] = cur\n",
    "            elif 65 <= ord(cur) <= 90:\n",
    "                S[i] = chr(ord(cur) + 32)\n",
    "                dfs(S, i + 1)\n",
    "                S[i] = cur\n",
    "\n",
    "    dfs(S, 0)\n",
    "    return res\n",
    "\n",
    "\n",
    "f('a1b2'), f('3z4'), f('12345')\n"
   ]
  },
  {
   "cell_type": "code",
   "execution_count": null,
   "metadata": {},
   "outputs": [],
   "source": []
  }
 ],
 "metadata": {
  "interpreter": {
   "hash": "aee8b7b246df8f9039afb4144a1f6fd8d2ca17a180786b69acc140d282b71a49"
  },
  "kernelspec": {
   "display_name": "Python 3.10.1 64-bit",
   "language": "python",
   "name": "python3"
  },
  "language_info": {
   "codemirror_mode": {
    "name": "ipython",
    "version": 3
   },
   "file_extension": ".py",
   "mimetype": "text/x-python",
   "name": "python",
   "nbconvert_exporter": "python",
   "pygments_lexer": "ipython3",
   "version": "3.10.1"
  },
  "orig_nbformat": 4
 },
 "nbformat": 4,
 "nbformat_minor": 2
}
