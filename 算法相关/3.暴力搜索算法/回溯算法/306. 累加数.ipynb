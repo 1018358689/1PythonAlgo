{
 "cells": [
  {
   "cell_type": "markdown",
   "metadata": {},
   "source": [
    "累加数 是一个字符串，组成它的数字可以形成累加序列。\n",
    "一个有效的 累加序列 必须 至少 包含 3 个数。除了最开始的两个数以外，字符串中的其他数都等于它之前两个数相加的和。\n",
    "给你一个只包含数字 '0'-'9' 的字符串，编写一个算法来判断给定输入是否是 累加数 。如果是，返回 true ；否则，返回 false 。\n",
    "说明：累加序列里的数 不会 以 0 开头，所以不会出现 1, 2, 03 或者 1, 02, 3 的情况。\n",
    "\n",
    "示例 1：\n",
    "输入：\"112358\"\n",
    "输出：true \n",
    "解释：累加序列为: 1, 1, 2, 3, 5, 8 。1 + 1 = 2, 1 + 2 = 3, 2 + 3 = 5, 3 + 5 = 8\n",
    "\n",
    "示例 2：\n",
    "输入：\"199100199\"\n",
    "输出：true \n",
    "解释：累加序列为: 1, 99, 100, 199。1 + 99 = 100, 99 + 100 = 199\n",
    "\n",
    "提示：\n",
    "1 <= num.length <= 35\n",
    "num 仅由数字（0 - 9）组成\n",
    " \n",
    "进阶：你计划如何处理由过大的整数输入导致的溢出?"
   ]
  },
  {
   "cell_type": "code",
   "execution_count": 5,
   "metadata": {},
   "outputs": [
    {
     "data": {
      "text/plain": [
       "True"
      ]
     },
     "execution_count": 5,
     "metadata": {},
     "output_type": "execute_result"
    }
   ],
   "source": [
    "def check(nums:list):\n",
    "    for i in range(len(nums)-2):\n",
    "        if nums[i]+nums[i+1]!=nums[i+2]:\n",
    "            return False\n",
    "    return True\n",
    "check([1,1,2,3])"
   ]
  },
  {
   "cell_type": "code",
   "execution_count": 6,
   "metadata": {},
   "outputs": [
    {
     "data": {
      "text/plain": [
       "2"
      ]
     },
     "execution_count": 6,
     "metadata": {},
     "output_type": "execute_result"
    }
   ],
   "source": [
    "int('02')"
   ]
  },
  {
   "cell_type": "code",
   "execution_count": 41,
   "metadata": {},
   "outputs": [
    {
     "name": "stdout",
     "output_type": "stream",
     "text": [
      "[0, 10, 10, 20]\n"
     ]
    },
    {
     "data": {
      "text/plain": [
       "True"
      ]
     },
     "execution_count": 41,
     "metadata": {},
     "output_type": "execute_result"
    }
   ],
   "source": [
    "def f(nums: list):\n",
    "    if len(nums) < 3:\n",
    "        return False\n",
    "\n",
    "    def check(nums: list):\n",
    "        for i in range(len(nums) - 2):\n",
    "            if nums[i] + nums[i + 1] != nums[i + 2]:\n",
    "                return False\n",
    "        return True\n",
    "\n",
    "    def dfs(path: list, si: int, res_num: str):\n",
    "        if len(path) > 2 and len(res_num) == 0: # nums中所有数字都用上 且path长度大于等于3\n",
    "            if check(path) == True: # 找到一个就退出\n",
    "                print(path)\n",
    "                return True\n",
    "\n",
    "        for i in range(si, len(nums)):\n",
    "            if nums[si] == '0' and i > si: # 0开头数字排除\n",
    "                continue\n",
    "            cur = int(nums[si:i + 1]) # 添加当前数字\n",
    "            path.append(cur)\n",
    "            if dfs(path, i + 1, nums[i + 1:]):\n",
    "                return True\n",
    "            path.pop()\n",
    "        return False\n",
    "\n",
    "    return dfs([], 0, nums)\n",
    "\n",
    "\n",
    "f('0101020')"
   ]
  },
  {
   "cell_type": "code",
   "execution_count": 62,
   "metadata": {},
   "outputs": [
    {
     "name": "stdout",
     "output_type": "stream",
     "text": [
      "[]\n",
      "[0]\n",
      "[0, 1]\n",
      "[0, 1, 0]\n",
      "[0, 10]\n",
      "[0, 10, 0]\n",
      "[0, 100]\n"
     ]
    },
    {
     "data": {
      "text/plain": [
       "False"
      ]
     },
     "execution_count": 62,
     "metadata": {},
     "output_type": "execute_result"
    }
   ],
   "source": [
    "def f(nums: list):\n",
    "    if len(nums) < 3:\n",
    "        return False\n",
    "\n",
    "    def check(nums: list):  # 用来判断是否可以构成累加序列\n",
    "        for i in range(len(nums) - 2):\n",
    "            if nums[i] + nums[i + 1] != nums[i + 2]:\n",
    "                return False\n",
    "        return True\n",
    "\n",
    "    def dfs(path: list, si: int, res_num: str):\n",
    "        print(path)\n",
    "        if len(path) > 2:\n",
    "            if check(path) == False:  # 半路遇到不符合就回溯\n",
    "                return\n",
    "        if len(path) > 2 and len(res_num) == 0:  # nums中所有数字都用上 且path长度大于等于3\n",
    "            if check(path) == True:  # 找到一个就退出\n",
    "                print(path)\n",
    "                return True\n",
    "\n",
    "        for i in range(si, len(nums)):\n",
    "            if nums[si] == '0' and i > si:  # 0开头数字排除\n",
    "                break\n",
    "            cur = int(nums[si:i + 1])  # 添加当前数字\n",
    "            path.append(cur)\n",
    "            if dfs(path, i + 1, nums[i + 1:]):\n",
    "                return True\n",
    "            path.pop()\n",
    "        return False\n",
    "\n",
    "    return dfs([], 0, nums)\n",
    "\n",
    "\n",
    "f('0100')"
   ]
  },
  {
   "cell_type": "code",
   "execution_count": 63,
   "metadata": {},
   "outputs": [
    {
     "name": "stdout",
     "output_type": "stream",
     "text": [
      "[]\n",
      "[0]\n",
      "[0, 1]\n",
      "[0, 1, 0]\n",
      "[0, 10]\n",
      "[0, 10, 0]\n",
      "[0, 100]\n"
     ]
    },
    {
     "data": {
      "text/plain": [
       "False"
      ]
     },
     "execution_count": 63,
     "metadata": {},
     "output_type": "execute_result"
    }
   ],
   "source": [
    "def f(nums: list):\n",
    "    if len(nums) < 3:\n",
    "        return False\n",
    "\n",
    "    def check(nums: list):  # 用来判断是否可以构成累加序列\n",
    "        for i in range(len(nums) - 2):\n",
    "            if nums[i] + nums[i + 1] != nums[i + 2]:\n",
    "                return False\n",
    "        return True\n",
    "\n",
    "    def dfs(path: list, si: int, res_num: str):\n",
    "        print(path)\n",
    "        if len(path) > 2:\n",
    "            if check(path) == False:  # 半路遇到不符合就回溯\n",
    "                return\n",
    "        if len(path) > 2 and len(res_num) == 0:  # nums中所有数字都用上 且path长度大于等于3\n",
    "            if check(path) == True:  # 找到一个就退出\n",
    "                print(path)\n",
    "                return True\n",
    "\n",
    "        for i in range(si, len(nums)):\n",
    "            if nums[si] == '0' and i > si:  # 0开头数字排除\n",
    "                break\n",
    "            cur = int(nums[si:i + 1])  # 添加当前数字\n",
    "            if dfs(path+[cur], i + 1, nums[i + 1:]):\n",
    "                return True\n",
    "        return False\n",
    "\n",
    "    return dfs([], 0, nums)\n",
    "\n",
    "\n",
    "f('0100')"
   ]
  },
  {
   "cell_type": "code",
   "execution_count": 64,
   "metadata": {},
   "outputs": [
    {
     "name": "stdout",
     "output_type": "stream",
     "text": [
      "[]\n",
      "[0]\n",
      "[0, 1]\n",
      "[0, 1, 0]\n",
      "[0, 10]\n",
      "[0, 10, 0]\n",
      "[0, 100]\n"
     ]
    },
    {
     "data": {
      "text/plain": [
       "False"
      ]
     },
     "execution_count": 64,
     "metadata": {},
     "output_type": "execute_result"
    }
   ],
   "source": [
    "def f(nums: list):\n",
    "    if len(nums) < 3:\n",
    "        return False\n",
    "\n",
    "    def dfs(path: list, si: int, res_num: str):\n",
    "        # print(path)\n",
    "        if len(path) > 2:\n",
    "            if path[-3] + path[-2] != path[-1]:  # 半路遇到不符合就回溯\n",
    "                return\n",
    "        if len(path) > 2 and len(res_num) == 0:  # nums中所有数字都用上 且path长度大于等于3\n",
    "            if path[-3] + path[-2] == path[-1]:  # 找到一个就退出\n",
    "                print(path)\n",
    "                return True\n",
    "\n",
    "        for i in range(si, len(nums)):\n",
    "            if nums[si] == '0' and i > si:  # 0开头数字排除\n",
    "                break\n",
    "            cur = int(nums[si:i + 1])  # 添加当前数字\n",
    "            if dfs(path + [cur], i + 1, nums[i + 1:]):\n",
    "                return True\n",
    "        return False\n",
    "\n",
    "    return dfs([], 0, nums)\n",
    "\n",
    "\n",
    "f('0100')"
   ]
  },
  {
   "cell_type": "code",
   "execution_count": 86,
   "metadata": {},
   "outputs": [
    {
     "name": "stdout",
     "output_type": "stream",
     "text": [
      "19\n",
      "1910\n",
      "191019\n",
      "19101929\n",
      "199\n",
      "199100\n"
     ]
    },
    {
     "data": {
      "text/plain": [
       "True"
      ]
     },
     "execution_count": 86,
     "metadata": {},
     "output_type": "execute_result"
    }
   ],
   "source": [
    "def f(nums: list):\n",
    "    # 其实本题就是枚举前两个数字所有的可能，并依据前两个数字生成长度大于等于num的序列，\n",
    "    # 最后比较一下生成的序列与num是否相等。\n",
    "    # 官方的Python题解写的太长了，一方面Python3在目前的测试样例下没有触发大整数加法的问题；\n",
    "    # 另一方面也不需要每往前走一步就校验一次。因为加法毕竟很快，直接把整个序列推导完再比较整个序列就好了。\n",
    "\n",
    "    for i in range(1, len(nums) - 1):\n",
    "        if nums[0] == '0' and i > 1:\n",
    "            break\n",
    "        num_1 = int(nums[:i])\n",
    "        for j in range(i + 1, len(nums)):\n",
    "            if nums[i] == '0' and j > i + 1:\n",
    "                break\n",
    "            num_2 = int(nums[i:j])\n",
    "            res = f'{num_1}{num_2}'\n",
    "            _num_1 = num_1 # 为什么做一个tmp没明白\n",
    "            while len(res) < len(nums):\n",
    "                num_3 = _num_1 + num_2\n",
    "                res += str(num_3)\n",
    "                _num_1 = num_2\n",
    "                num_2 = num_3\n",
    "            if res == nums:\n",
    "                return True\n",
    "    return False\n",
    "\n",
    "\n",
    "f('199100199')"
   ]
  },
  {
   "cell_type": "code",
   "execution_count": null,
   "metadata": {},
   "outputs": [],
   "source": []
  }
 ],
 "metadata": {
  "interpreter": {
   "hash": "004de6046f1b3d314f33fdb43a2dc798b2646e5600efd8df5066c8b63a00ff6d"
  },
  "kernelspec": {
   "display_name": "Python 3.8.10 64-bit",
   "language": "python",
   "name": "python3"
  },
  "language_info": {
   "codemirror_mode": {
    "name": "ipython",
    "version": 3
   },
   "file_extension": ".py",
   "mimetype": "text/x-python",
   "name": "python",
   "nbconvert_exporter": "python",
   "pygments_lexer": "ipython3",
   "version": "3.8.10"
  },
  "orig_nbformat": 4
 },
 "nbformat": 4,
 "nbformat_minor": 2
}
