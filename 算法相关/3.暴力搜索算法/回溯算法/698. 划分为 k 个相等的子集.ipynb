{
 "cells": [
  {
   "cell_type": "markdown",
   "metadata": {},
   "source": [
    "给定一个整数数组  nums 和一个正整数 k，找出是否有可能把这个数组分成 k 个非空子集，其总和都相等。\n",
    "\n",
    "示例 1：\n",
    "输入： nums = [4, 3, 2, 3, 5, 2, 1], k = 4\n",
    "输出： True\n",
    "说明： 有可能将其分成 4 个子集（5），（1,4），（2,3），（2,3）等于总和。\n",
    " \n",
    "提示：\n",
    "\n",
    "1 <= k <= len(nums) <= 16\n",
    "0 < nums[i] < 10000\n",
    "\n",
    "来源：力扣（LeetCode）\n",
    "链接：https://leetcode-cn.com/problems/partition-to-k-equal-sum-subsets\n",
    "著作权归领扣网络所有。商业转载请联系官方授权，非商业转载请注明出处。"
   ]
  },
  {
   "cell_type": "code",
   "execution_count": 1,
   "metadata": {},
   "outputs": [
    {
     "data": {
      "text/plain": [
       "[0, 0, 0, 0, 0]"
      ]
     },
     "execution_count": 1,
     "metadata": {},
     "output_type": "execute_result"
    }
   ],
   "source": [
    "[0]*5"
   ]
  },
  {
   "cell_type": "code",
   "execution_count": 5,
   "metadata": {},
   "outputs": [
    {
     "data": {
      "text/plain": [
       "True"
      ]
     },
     "execution_count": 5,
     "metadata": {},
     "output_type": "execute_result"
    }
   ],
   "source": [
    "def f(nums: list, k: int):\n",
    "    if sum(nums) % k != 0: return False\n",
    "    target = sum(nums) // k\n",
    "    sums = [0] * k\n",
    "\n",
    "    def backtrace(i: int):\n",
    "        if i == len(nums):\n",
    "            return True\n",
    "        for j in range(k):\n",
    "            if sums[j] >= target or sums[j] + nums[i] > target:\n",
    "                continue\n",
    "            sums[j] += nums[i]\n",
    "            if backtrace(i + 1) == True:\n",
    "                return True\n",
    "            sums[j] -= nums[i]\n",
    "        return False\n",
    "\n",
    "    return backtrace(0)\n",
    "\n",
    "\n",
    "f([4, 3, 2, 3, 5, 2, 1], 4)\n"
   ]
  },
  {
   "cell_type": "code",
   "execution_count": 25,
   "metadata": {},
   "outputs": [
    {
     "data": {
      "text/plain": [
       "True"
      ]
     },
     "execution_count": 25,
     "metadata": {},
     "output_type": "execute_result"
    }
   ],
   "source": [
    "def f(nums: list, k: int):\n",
    "    if sum(nums) % k != 0: return False\n",
    "    target = sum(nums) // k\n",
    "    used = [0] * len(nums)\n",
    "    nums.sort()\n",
    "\n",
    "    def backtrace(Sum: int, b: int):\n",
    "        if b == k:\n",
    "            return True\n",
    "        if Sum == target:\n",
    "            return backtrace(0, b + 1)\n",
    "        for i in range(0, len(nums)):  # cur为0也可以 但是会重复判断很多 会超时\n",
    "            if used[i]:\n",
    "                continue\n",
    "            if Sum + nums[i] > target:\n",
    "                continue\n",
    "            used[i] = 1\n",
    "            if backtrace(Sum + nums[i], b):\n",
    "                return True\n",
    "            used[i] = 0\n",
    "        return False\n",
    "\n",
    "    return backtrace(0, 0)\n",
    "\n",
    "\n",
    "# f([4, 3, 2, 3, 5, 2, 1], 4)\n",
    "# f([1, 1, 1, 1, 2, 2, 2, 2], 4)\n",
    "f([114, 96, 18, 190, 207, 111, 73, 471, 99, 20, 1037, 700, 295, 101, 39, 649], 4)\n"
   ]
  },
  {
   "cell_type": "code",
   "execution_count": 24,
   "metadata": {},
   "outputs": [
    {
     "data": {
      "text/plain": [
       "True"
      ]
     },
     "execution_count": 24,
     "metadata": {},
     "output_type": "execute_result"
    }
   ],
   "source": [
    "# 以桶的视角进行穷举，每个桶需要遍历nums中的所有数字，决定是否把当前数字装进桶中；\n",
    "# 当装满一个桶之后，还要装下一个桶，直到所有桶都装满为止。\n",
    "def f(nums: list, k: int):\n",
    "    if sum(nums) % k != 0: return False\n",
    "    target = sum(nums) // k\n",
    "    used = [0] * len(nums)\n",
    "    nums.sort(reverse=True)\n",
    "\n",
    "    def backtrace(cur: int, Sum: int, b: int):\n",
    "        if b == k:\n",
    "            return True\n",
    "        if Sum == target:\n",
    "            return backtrace(0, 0, b + 1)\n",
    "        for i in range(cur, len(nums)): # cur为0也可以 但是会重复判断很多 会超时\n",
    "            if used[i]:\n",
    "                continue\n",
    "            if Sum + nums[i] > target:\n",
    "                continue\n",
    "            used[i] = 1\n",
    "            if backtrace(i + 1, Sum + nums[i], b):\n",
    "                return True\n",
    "            used[i] = 0\n",
    "        return False\n",
    "\n",
    "    return backtrace(0, 0, 0)\n",
    "\n",
    "\n",
    "# f([4, 3, 2, 3, 5, 2, 1], 4)\n",
    "f([1, 1, 1, 1, 2, 2, 2, 2], 4)\n",
    "f([114, 96, 18, 190, 207, 111, 73, 471, 99, 20, 1037, 700, 295, 101, 39, 649], 4)\n"
   ]
  },
  {
   "cell_type": "code",
   "execution_count": 19,
   "metadata": {},
   "outputs": [
    {
     "data": {
      "text/plain": [
       "True"
      ]
     },
     "execution_count": 19,
     "metadata": {},
     "output_type": "execute_result"
    }
   ],
   "source": [
    "def f(nums: list, k: int):\n",
    "    if sum(nums) % k != 0: return False\n",
    "    target = sum(nums) // k\n",
    "    used = [0] * len(nums)\n",
    "    nums.sort(reverse=True)\n",
    "    sums = [0] * k\n",
    "\n",
    "    def backtrace(cur: int, sums: list, b: int):\n",
    "        if b == k:\n",
    "            return True\n",
    "        if sums[b] == target:\n",
    "            return backtrace(0, sums, b + 1)\n",
    "        for i in range(cur, len(nums)):\n",
    "            if used[i]:\n",
    "                continue\n",
    "            if sums[b] + nums[i] > target:\n",
    "                continue\n",
    "            sums[b:b + 1] = [sums[b] + nums[i]]\n",
    "            used[i] = 1\n",
    "            if backtrace(i + 1, sums, b):\n",
    "                return True\n",
    "            used[i] = 0\n",
    "            sums[b:b + 1] = [sums[b] - nums[i]]\n",
    "        return False\n",
    "\n",
    "    return backtrace(0, sums, 0)\n",
    "\n",
    "\n",
    "# f([4, 3, 2, 3, 5, 2, 1], 4)\n",
    "f([1, 1, 1, 1, 2, 2, 2, 2], 4)\n"
   ]
  },
  {
   "cell_type": "code",
   "execution_count": 28,
   "metadata": {},
   "outputs": [
    {
     "data": {
      "text/plain": [
       "[1, 4, 3]"
      ]
     },
     "execution_count": 28,
     "metadata": {},
     "output_type": "execute_result"
    }
   ],
   "source": [
    "l = [2,2,3]\n",
    "l[0:1]=[l[0]-1]\n",
    "l[0:1],l\n",
    "\n",
    "x = [1,2,3]\n",
    "x[1]+=2\n",
    "x"
   ]
  },
  {
   "cell_type": "code",
   "execution_count": 43,
   "metadata": {},
   "outputs": [
    {
     "data": {
      "text/plain": [
       "True"
      ]
     },
     "execution_count": 43,
     "metadata": {},
     "output_type": "execute_result"
    }
   ],
   "source": [
    "# 如果我们切换到这n个数字的视角，每个数字都要选择进入到k个桶中的某一个。\n",
    "def f(nums: list, k: int):\n",
    "    if sum(nums) % k != 0: return False\n",
    "    target = sum(nums) // k\n",
    "    nums.sort()\n",
    "    sums = [0] * k\n",
    "\n",
    "    def backtrace():\n",
    "        if not nums:  # 数字都放完了\n",
    "            # for s in sums:  # 检查所有桶是不是都是target  网上说不用检查 直接return True\n",
    "            #     if s != target:\n",
    "            #         return False\n",
    "            # return True\n",
    "            # return not any(map(lambda x: x - target, sums))  # 本质上讲，any()实现了或(OR)运算，而all()实现了与(AND)运算。\n",
    "            return all(map(lambda x: x == target, sums))\n",
    "        cur = nums.pop()\n",
    "        for b in range(k):\n",
    "            if sums[b] + cur > target:\n",
    "                continue\n",
    "            sums[b] += cur\n",
    "            if backtrace():\n",
    "                return True\n",
    "            sums[b] -= cur\n",
    "        nums.append(cur)\n",
    "        return False\n",
    "\n",
    "    return backtrace()\n",
    "\n",
    "\n",
    "f([1, 1, 1, 1, 2, 2, 2, 2], 4)\n",
    "f([114, 96, 18, 190, 207, 111, 73, 471, 99, 20, 1037, 700, 295, 101, 39, 649], 4)\n"
   ]
  },
  {
   "cell_type": "code",
   "execution_count": null,
   "metadata": {},
   "outputs": [],
   "source": []
  }
 ],
 "metadata": {
  "interpreter": {
   "hash": "004de6046f1b3d314f33fdb43a2dc798b2646e5600efd8df5066c8b63a00ff6d"
  },
  "kernelspec": {
   "display_name": "Python 3.8.10 64-bit",
   "language": "python",
   "name": "python3"
  },
  "language_info": {
   "codemirror_mode": {
    "name": "ipython",
    "version": 3
   },
   "file_extension": ".py",
   "mimetype": "text/x-python",
   "name": "python",
   "nbconvert_exporter": "python",
   "pygments_lexer": "ipython3",
   "version": "3.8.10"
  },
  "orig_nbformat": 4
 },
 "nbformat": 4,
 "nbformat_minor": 2
}
