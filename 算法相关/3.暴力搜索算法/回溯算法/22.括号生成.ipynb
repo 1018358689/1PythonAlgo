{
 "cells": [
  {
   "cell_type": "markdown",
   "metadata": {},
   "source": [
    "数字 n 代表生成括号的对数，请你设计一个函数，用于能够生成所有可能的并且 有效的 括号组合。\n",
    "\n",
    "\n",
    "示例 1：\n",
    "\n",
    "输入：n = 3\n",
    "输出：[\"((()))\",\"(()())\",\"(())()\",\"()(())\",\"()()()\"]\n",
    "\n",
    "示例 2：\n",
    "输入：n = 1\n",
    "输出：[\"()\"]\n",
    " \n",
    "\n",
    "提示：\n",
    "\n",
    "1 <= n <= 8\n",
    "\n",
    "来源：力扣（LeetCode）\n",
    "链接：https://leetcode-cn.com/problems/generate-parentheses\n",
    "著作权归领扣网络所有。商业转载请联系官方授权，非商业转载请注明出处。"
   ]
  },
  {
   "cell_type": "code",
   "execution_count": 11,
   "metadata": {},
   "outputs": [
    {
     "data": {
      "text/plain": [
       "['((()))', '(()())', '(())()', '()(())', '()()()']"
      ]
     },
     "execution_count": 11,
     "metadata": {},
     "output_type": "execute_result"
    }
   ],
   "source": [
    "# 1、一个「合法」括号组合的左括号数量一定等于右括号数量，这个很好理解。\n",
    "# 2、对于一个「合法」的括号字符串组合p，必然对于任何0 <= i < len(p)都有：子串p[0..i]中左括号的数量都大于或等于右括号的数量。\n",
    "def f(n: int):\n",
    "    res = []\n",
    "\n",
    "    def helper(path: list, left: int, right: int):\n",
    "        if left > n or right > n or right > left:\n",
    "            return\n",
    "        if len(path) == 2 * n:\n",
    "            res.append(''.join(path))\n",
    "            return\n",
    "        for i in ['(', ')']:\n",
    "            path.append(i)\n",
    "            if i == '(':\n",
    "                helper(path, left + 1, right)\n",
    "            else:\n",
    "                helper(path, left, right + 1)\n",
    "            path.pop()\n",
    "\n",
    "    helper([], 0, 0)\n",
    "    return res\n",
    "\n",
    "\n",
    "f(3)"
   ]
  },
  {
   "cell_type": "code",
   "execution_count": 10,
   "metadata": {},
   "outputs": [
    {
     "data": {
      "text/plain": [
       "['((()))', '(()())', '(())()', '()(())', '()()()']"
      ]
     },
     "execution_count": 10,
     "metadata": {},
     "output_type": "execute_result"
    }
   ],
   "source": [
    "def f(n: int):\n",
    "    def check(l: list):\n",
    "        stack = []\n",
    "        for i in l:\n",
    "            if i == '(':\n",
    "                stack.append(i)\n",
    "            else:\n",
    "                if stack and stack[-1] == '(':\n",
    "                    stack.pop()\n",
    "                else:\n",
    "                    return False\n",
    "        return not stack\n",
    "\n",
    "    res = []\n",
    "\n",
    "    def helper(path: list, left: int, right: int):\n",
    "        if left > n or right > n:\n",
    "            return\n",
    "        if left == n and right == n:\n",
    "            if check(path):\n",
    "                res.append(''.join(path))\n",
    "            return\n",
    "        for i in ['(', ')']:\n",
    "            path.append(i)\n",
    "            if i == '(':\n",
    "                helper(path, left + 1, right)\n",
    "            else:\n",
    "                helper(path, left, right + 1)\n",
    "            path.pop()\n",
    "\n",
    "    helper([], 0, 0)\n",
    "    return res\n",
    "\n",
    "\n",
    "f(3)"
   ]
  },
  {
   "cell_type": "code",
   "execution_count": null,
   "metadata": {},
   "outputs": [],
   "source": []
  }
 ],
 "metadata": {
  "interpreter": {
   "hash": "004de6046f1b3d314f33fdb43a2dc798b2646e5600efd8df5066c8b63a00ff6d"
  },
  "kernelspec": {
   "display_name": "Python 3.8.10 64-bit",
   "language": "python",
   "name": "python3"
  },
  "language_info": {
   "codemirror_mode": {
    "name": "ipython",
    "version": 3
   },
   "file_extension": ".py",
   "mimetype": "text/x-python",
   "name": "python",
   "nbconvert_exporter": "python",
   "pygments_lexer": "ipython3",
   "version": "3.8.10"
  },
  "orig_nbformat": 4
 },
 "nbformat": 4,
 "nbformat_minor": 2
}
