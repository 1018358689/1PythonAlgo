{
 "cells": [
  {
   "cell_type": "code",
   "execution_count": 2,
   "metadata": {},
   "outputs": [
    {
     "data": {
      "text/plain": [
       "5"
      ]
     },
     "execution_count": 2,
     "metadata": {},
     "output_type": "execute_result"
    }
   ],
   "source": [
    "import itertools\n",
    "# 满足请求数量从大到小去模拟，每次组合出相应数量请求进入房子入度出度操作，一旦全部入度出度后都为0，那么输出方案数。\n",
    "\n",
    "def f(n: int, requests: list):\n",
    "    for cnt in range(len(requests), 0, -1): # 数量从大到小 去组合请求\n",
    "        for plan in itertools.combinations(requests, cnt):\n",
    "            degree = [0] * n # 入度出度辅助表\n",
    "            for cur, nei in plan:\n",
    "                degree[cur] -= 1\n",
    "                degree[nei] += 1\n",
    "            if all(not (i) for i in degree):  # 请求入度出度后 变化量仍为0\n",
    "                return cnt\n",
    "    return 0\n",
    "\n",
    "\n",
    "f(5, [[0, 1], [1, 0], [0, 1], [1, 2], [2, 0], [3, 4]])\n"
   ]
  },
  {
   "cell_type": "code",
   "execution_count": 6,
   "metadata": {},
   "outputs": [
    {
     "data": {
      "text/plain": [
       "2"
      ]
     },
     "execution_count": 6,
     "metadata": {},
     "output_type": "execute_result"
    }
   ],
   "source": [
    "bin(3).count('1')"
   ]
  },
  {
   "cell_type": "code",
   "execution_count": 8,
   "metadata": {},
   "outputs": [
    {
     "data": {
      "text/plain": [
       "5"
      ]
     },
     "execution_count": 8,
     "metadata": {},
     "output_type": "execute_result"
    }
   ],
   "source": [
    "# 状态压缩\n",
    "import itertools\n",
    "\n",
    "\n",
    "def f(n: int, requests: list):\n",
    "    ans = 0\n",
    "    for plan in range(1 << len(requests)):  # 遍历所有方案\n",
    "        cnt = bin(plan).count('1')  # 交换人数\n",
    "        if cnt > ans:  # 题目求最大，所以交换人数比之前小就不考虑了\n",
    "            degree = [0] * n  # 入度出度辅助表\n",
    "            for index, (cur, nei) in enumerate(requests):\n",
    "                if (1 << index) & plan:  # 该方案请求交换的进行交换\n",
    "                    degree[cur] -= 1\n",
    "                    degree[nei] += 1\n",
    "            if all(not (i) for i in degree):  # 判断交换后净变化是否为0\n",
    "                ans = cnt\n",
    "    return ans\n",
    "\n",
    "\n",
    "f(5, [[0, 1], [1, 0], [0, 1], [1, 2], [2, 0], [3, 4]])\n"
   ]
  },
  {
   "cell_type": "code",
   "execution_count": 5,
   "metadata": {},
   "outputs": [
    {
     "data": {
      "text/plain": [
       "5"
      ]
     },
     "execution_count": 5,
     "metadata": {},
     "output_type": "execute_result"
    }
   ],
   "source": [
    "# 回溯\n",
    "import itertools\n",
    "\n",
    "\n",
    "def f(n: int, requests: list):\n",
    "    res = 0\n",
    "\n",
    "    def dfs(house: list, cnt: int, plan: int): # 房子状态；选择请求的数量；当前面临选择的方案\n",
    "        nonlocal res\n",
    "        if plan > len(requests) - 1: # 方案选择完毕\n",
    "            if all(not (h) for h in house): # 判断当前房子状态净变化是否全0\n",
    "                res = max(res, cnt)\n",
    "            return\n",
    "        # 不选\n",
    "        dfs(house, cnt, plan + 1)\n",
    "        # 选\n",
    "        cur, nei = requests[plan]\n",
    "        house[cur] -= 1\n",
    "        house[nei] += 1\n",
    "        dfs(house, cnt + 1, plan + 1)\n",
    "        house[cur] += 1\n",
    "        house[nei] -= 1\n",
    "\n",
    "    dfs([0] * n, 0, 0)\n",
    "    return res\n",
    "\n",
    "\n",
    "f(5, [[0, 1], [1, 0], [0, 1], [1, 2], [2, 0], [3, 4]])\n"
   ]
  }
 ],
 "metadata": {
  "interpreter": {
   "hash": "004de6046f1b3d314f33fdb43a2dc798b2646e5600efd8df5066c8b63a00ff6d"
  },
  "kernelspec": {
   "display_name": "Python 3.8.10 64-bit",
   "language": "python",
   "name": "python3"
  },
  "language_info": {
   "codemirror_mode": {
    "name": "ipython",
    "version": 3
   },
   "file_extension": ".py",
   "mimetype": "text/x-python",
   "name": "python",
   "nbconvert_exporter": "python",
   "pygments_lexer": "ipython3",
   "version": "3.8.10"
  },
  "orig_nbformat": 4
 },
 "nbformat": 4,
 "nbformat_minor": 2
}
