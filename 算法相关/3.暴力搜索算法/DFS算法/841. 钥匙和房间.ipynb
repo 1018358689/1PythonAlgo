{
 "cells": [
  {
   "cell_type": "code",
   "execution_count": 1,
   "metadata": {},
   "outputs": [
    {
     "data": {
      "text/plain": [
       "True"
      ]
     },
     "execution_count": 1,
     "metadata": {},
     "output_type": "execute_result"
    }
   ],
   "source": [
    "def f(rooms: list):\n",
    "    room = [False] * len(rooms)\n",
    "    room[0] = True\n",
    "\n",
    "    def dfs(r):\n",
    "        for nei in rooms[r]:\n",
    "            if room[nei]:\n",
    "                continue\n",
    "            room[nei] = True\n",
    "            dfs(nei)\n",
    "\n",
    "    dfs(0)\n",
    "    return all(room)\n",
    "\n",
    "\n",
    "f([[1], [2], [3], []])\n"
   ]
  },
  {
   "cell_type": "code",
   "execution_count": 2,
   "metadata": {},
   "outputs": [
    {
     "data": {
      "text/plain": [
       "True"
      ]
     },
     "execution_count": 2,
     "metadata": {},
     "output_type": "execute_result"
    }
   ],
   "source": [
    "import collections\n",
    "\n",
    "\n",
    "def f(rooms: list):\n",
    "    room = [False] * len(rooms)\n",
    "    room[0] = True\n",
    "\n",
    "    q = collections.deque([0])\n",
    "    while q:\n",
    "        r = q.popleft()\n",
    "        for nei in rooms[r]:\n",
    "            if not room[nei]:\n",
    "                room[nei] = True\n",
    "                q.append(nei)\n",
    "    return all(room)\n",
    "\n",
    "f([[1], [2], [3], []])\n"
   ]
  },
  {
   "cell_type": "code",
   "execution_count": null,
   "metadata": {},
   "outputs": [],
   "source": []
  }
 ],
 "metadata": {
  "interpreter": {
   "hash": "004de6046f1b3d314f33fdb43a2dc798b2646e5600efd8df5066c8b63a00ff6d"
  },
  "kernelspec": {
   "display_name": "Python 3.8.10 64-bit",
   "language": "python",
   "name": "python3"
  },
  "language_info": {
   "codemirror_mode": {
    "name": "ipython",
    "version": 3
   },
   "file_extension": ".py",
   "mimetype": "text/x-python",
   "name": "python",
   "nbconvert_exporter": "python",
   "pygments_lexer": "ipython3",
   "version": "3.8.10"
  },
  "orig_nbformat": 4
 },
 "nbformat": 4,
 "nbformat_minor": 2
}
