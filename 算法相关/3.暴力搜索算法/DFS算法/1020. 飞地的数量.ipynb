{
 "cells": [
  {
   "cell_type": "markdown",
   "metadata": {},
   "source": [
    "给出一个二维数组 A，每个单元格为 0（代表海）或 1（代表陆地）。\n",
    "\n",
    "移动是指在陆地上从一个地方走到另一个地方（朝四个方向之一）或离开网格的边界。\n",
    "\n",
    "返回网格中无法在任意次数的移动中离开网格边界的陆地单元格的数量。\n",
    "\n",
    "示例 1：\n",
    "输入：[[0,0,0,0],[1,0,1,0],[0,1,1,0],[0,0,0,0]]\n",
    "输出：3\n",
    "解释： \n",
    "有三个 1 被 0 包围。一个 1 没有被包围，因为它在边界上。\n",
    "\n",
    "示例 2：\n",
    "输入：[[0,1,1,0],[0,0,1,0],[0,0,1,0],[0,0,0,0]]\n",
    "输出：0\n",
    "解释：\n",
    "所有 1 都在边界上或可以到达边界。\n",
    " \n",
    "提示：\n",
    "\n",
    "1 <= A.length <= 500\n",
    "1 <= A[i].length <= 500\n",
    "0 <= A[i][j] <= 1\n",
    "所有行的大小都相同"
   ]
  },
  {
   "cell_type": "code",
   "execution_count": 2,
   "metadata": {},
   "outputs": [
    {
     "data": {
      "text/plain": [
       "3"
      ]
     },
     "execution_count": 2,
     "metadata": {},
     "output_type": "execute_result"
    }
   ],
   "source": [
    "def f(grid: list):\n",
    "    rows = len(grid)\n",
    "    cols = len(grid[0])\n",
    "    cnt = 0\n",
    "\n",
    "    def dfs(grid: list, r: int, c: int):\n",
    "        nonlocal cnt\n",
    "        if r < 0 or r > rows - 1 or c < 0 or c > cols - 1 or grid[r][c] == 0:\n",
    "            return\n",
    "        grid[r][c] = 0\n",
    "        cnt += 1\n",
    "        dfs(grid, r - 1, c)\n",
    "        dfs(grid, r + 1, c)\n",
    "        dfs(grid, r, c - 1)\n",
    "        dfs(grid, r, c + 1)\n",
    "\n",
    "    for c in range(cols):\n",
    "        for r in (0, rows - 1):\n",
    "            if grid[r][c] == 1:\n",
    "                dfs(grid, r, c)\n",
    "    for r in range(rows):\n",
    "        for c in (0, cols - 1):\n",
    "            if grid[r][c] == 1:\n",
    "                dfs(grid, r, c)\n",
    "    cnt = 0\n",
    "    for r in range(rows):\n",
    "        for c in range(cols):\n",
    "            if grid[r][c] == 1:\n",
    "                dfs(grid, r, c)\n",
    "    return cnt\n",
    "\n",
    "\n",
    "f([[0, 0, 0, 0], [1, 0, 1, 0], [0, 1, 1, 0], [0, 0, 0, 0]])\n"
   ]
  },
  {
   "cell_type": "code",
   "execution_count": 7,
   "metadata": {},
   "outputs": [
    {
     "name": "stdout",
     "output_type": "stream",
     "text": [
      "[(1, 0)]\n",
      "[[0, 0, 0, 0], [0, 0, 1, 0], [0, 1, 1, 0], [0, 0, 0, 0]]\n"
     ]
    },
    {
     "data": {
      "text/plain": [
       "3"
      ]
     },
     "execution_count": 7,
     "metadata": {},
     "output_type": "execute_result"
    }
   ],
   "source": [
    "import collections\n",
    "\n",
    "\n",
    "def f(grid: list):\n",
    "    rows = len(grid)\n",
    "    cols = len(grid[0])\n",
    "    cnt = 0\n",
    "\n",
    "    def bfs(grid: list, path_set: list):\n",
    "        nonlocal cnt\n",
    "        q = collections.deque(path_set)\n",
    "        while q:\n",
    "            sz = len(q)\n",
    "            for _ in range(sz):\n",
    "                r, c = q.popleft()\n",
    "                if r < 0 or r > rows - 1 or c < 0 or c > cols - 1 or grid[r][c] == 0:\n",
    "                    continue\n",
    "                grid[r][c] = 0\n",
    "                cnt += 1\n",
    "                for nr, nc in ((r - 1, c), (r + 1, c), (r, c - 1), (r, c + 1)):\n",
    "                    q.append((nr, nc))\n",
    "\n",
    "    path_set = []\n",
    "    for c in range(cols):\n",
    "        for r in (0, rows - 1):\n",
    "            if grid[r][c] == 1:\n",
    "                path_set.append((r, c))\n",
    "    for r in range(rows):\n",
    "        for c in (0, cols - 1):\n",
    "            if grid[r][c] == 1:\n",
    "                path_set.append((r, c))\n",
    "    print(path_set)\n",
    "    bfs(grid, path_set)\n",
    "    print(grid)\n",
    "    cnt = 0\n",
    "    for r in range(rows):\n",
    "        for c in range(cols):\n",
    "            if grid[r][c] == 1:\n",
    "                bfs(grid, [(r, c)])\n",
    "    return cnt\n",
    "\n",
    "\n",
    "f([[0, 0, 0, 0], [1, 0, 1, 0], [0, 1, 1, 0], [0, 0, 0, 0]])\n"
   ]
  },
  {
   "cell_type": "code",
   "execution_count": 8,
   "metadata": {},
   "outputs": [
    {
     "data": {
      "text/plain": [
       "3"
      ]
     },
     "execution_count": 8,
     "metadata": {},
     "output_type": "execute_result"
    }
   ],
   "source": [
    "import collections\n",
    "\n",
    "\n",
    "def f(grid: list):\n",
    "    rows = len(grid)\n",
    "    cols = len(grid[0])\n",
    "\n",
    "    def bfs(grid: list, path_set: list):\n",
    "        q = collections.deque(path_set)\n",
    "        while q:\n",
    "            sz = len(q)\n",
    "            for _ in range(sz):\n",
    "                r, c = q.popleft()\n",
    "                if r < 0 or r > rows - 1 or c < 0 or c > cols - 1 or grid[r][c] == 0:\n",
    "                    continue\n",
    "                grid[r][c] = 0\n",
    "                for nr, nc in ((r - 1, c), (r + 1, c), (r, c - 1), (r, c + 1)):\n",
    "                    q.append((nr, nc))\n",
    "\n",
    "    path_set = []\n",
    "    for c in range(cols):\n",
    "        for r in (0, rows - 1):\n",
    "            if grid[r][c] == 1:\n",
    "                path_set.append((r, c))\n",
    "    for r in range(rows):\n",
    "        for c in (0, cols - 1):\n",
    "            if grid[r][c] == 1:\n",
    "                path_set.append((r, c))\n",
    "    bfs(grid, path_set)\n",
    "    cnt = 0\n",
    "    for r in range(rows):\n",
    "        for c in range(cols):\n",
    "            if grid[r][c] == 1:\n",
    "                cnt += 1\n",
    "    return cnt\n",
    "\n",
    "\n",
    "f([[0, 0, 0, 0], [1, 0, 1, 0], [0, 1, 1, 0], [0, 0, 0, 0]])\n"
   ]
  },
  {
   "cell_type": "code",
   "execution_count": 9,
   "metadata": {},
   "outputs": [
    {
     "data": {
      "text/plain": [
       "3"
      ]
     },
     "execution_count": 9,
     "metadata": {},
     "output_type": "execute_result"
    }
   ],
   "source": [
    "def f(grid: list):\n",
    "    rows = len(grid)\n",
    "    cols = len(grid[0])\n",
    "\n",
    "    def dfs(grid: list, r: int, c: int):\n",
    "        if r < 0 or r > rows - 1 or c < 0 or c > cols - 1 or grid[r][c] == 0:\n",
    "            return\n",
    "        grid[r][c] = 0\n",
    "        dfs(grid, r - 1, c)\n",
    "        dfs(grid, r + 1, c)\n",
    "        dfs(grid, r, c - 1)\n",
    "        dfs(grid, r, c + 1)\n",
    "\n",
    "    for c in range(cols):\n",
    "        for r in (0, rows - 1):\n",
    "            if grid[r][c] == 1:\n",
    "                dfs(grid, r, c)\n",
    "    for r in range(rows):\n",
    "        for c in (0, cols - 1):\n",
    "            if grid[r][c] == 1:\n",
    "                dfs(grid, r, c)\n",
    "    cnt = 0\n",
    "    for r in range(rows):\n",
    "        for c in range(cols):\n",
    "            if grid[r][c] == 1:\n",
    "                cnt += 1\n",
    "    return cnt\n",
    "\n",
    "\n",
    "f([[0, 0, 0, 0], [1, 0, 1, 0], [0, 1, 1, 0], [0, 0, 0, 0]])\n"
   ]
  },
  {
   "cell_type": "code",
   "execution_count": null,
   "metadata": {},
   "outputs": [],
   "source": [
    "class Solution:\n",
    "    def numEnclaves(self, grid: List[List[int]]) -> int:\n",
    "        rows,cols = len(grid), len(grid[0])\n",
    "        count = rows*cols+1\n",
    "        root = list(range(count))\n",
    "        rank = [1]*count\n",
    "        def find(x):\n",
    "            if root[x]==x:\n",
    "                return root[x]\n",
    "            else:\n",
    "                root[x]=find(root[x])\n",
    "                return root[x]\n",
    "        def union(x,y):\n",
    "            rx = find(x)\n",
    "            ry = find(y)\n",
    "            if rx!=ry:\n",
    "                if rank[rx]<rank[ry]:\n",
    "                    root[rx]=ry\n",
    "                elif rank[rx]>rank[ry]:\n",
    "                    root[ry]=rx\n",
    "                else:\n",
    "                    root[rx]=ry\n",
    "                    rank[ry]+=1\n",
    "        def connected(x,y):\n",
    "            return find(x)==find(y)\n",
    "        \n",
    "        for r in range(rows):\n",
    "            for c in range(cols):\n",
    "                if grid[r][c]==1:\n",
    "                    if r==0 or r==rows-1 or c==0 or c==cols-1:\n",
    "                        union(r*cols+c,rows*cols)\n",
    "                    else:\n",
    "                        for nr,nc in ((r-1,c),(r+1,c),(r,c-1),(r,c+1)):\n",
    "                            if grid[nr][nc]==1:\n",
    "                                union(nr*cols+nc,r*cols+c)\n",
    "        cnt = 0\n",
    "        for r in range(rows):\n",
    "            for c in range(cols):\n",
    "                if grid[r][c]==1 and not connected(r*cols+c, rows*cols):\n",
    "                    cnt+=1\n",
    "        return cnt\n"
   ]
  },
  {
   "cell_type": "code",
   "execution_count": 3,
   "metadata": {},
   "outputs": [],
   "source": [
    "s = {1,2,3}\n",
    "s.remove(3)"
   ]
  },
  {
   "cell_type": "code",
   "execution_count": null,
   "metadata": {},
   "outputs": [],
   "source": []
  }
 ],
 "metadata": {
  "interpreter": {
   "hash": "aee8b7b246df8f9039afb4144a1f6fd8d2ca17a180786b69acc140d282b71a49"
  },
  "kernelspec": {
   "display_name": "Python 3.8.10 64-bit",
   "language": "python",
   "name": "python3"
  },
  "language_info": {
   "codemirror_mode": {
    "name": "ipython",
    "version": 3
   },
   "file_extension": ".py",
   "mimetype": "text/x-python",
   "name": "python",
   "nbconvert_exporter": "python",
   "pygments_lexer": "ipython3",
   "version": "3.8.10"
  },
  "orig_nbformat": 4
 },
 "nbformat": 4,
 "nbformat_minor": 2
}
