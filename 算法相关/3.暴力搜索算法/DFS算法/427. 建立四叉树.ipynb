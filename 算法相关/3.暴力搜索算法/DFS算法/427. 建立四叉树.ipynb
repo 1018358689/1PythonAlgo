{
 "cells": [
  {
   "cell_type": "markdown",
   "metadata": {},
   "source": [
    "给你一个 n*n 的矩阵（也就是一个方阵），要用四叉树来表示这个矩阵。\n",
    "\n",
    "如果矩阵内元素全部相同，则该节点是叶子结点，val代表矩阵内的唯一元素，此时 isLeaf = True 或 isLeaf = 1 ， topLeft, topRight, bottomLeft, bottomRight 四棵子树都为空。\n",
    "若矩阵元素不完全相同，则把矩阵平均分成左上，右上，左下，右下四个子矩阵，递归构建四棵子树，此时 isLeaf = False 或 isLeaf = 0 ，val 可以为任意值（我取了左上角的值）。\n",
    "\n"
   ]
  },
  {
   "cell_type": "code",
   "execution_count": null,
   "metadata": {},
   "outputs": [],
   "source": [
    "from typing import List\n",
    "\n",
    "\n",
    "# Definition for a QuadTree node.\n",
    "class Node:\n",
    "\n",
    "    def __init__(self, val, isLeaf, topLeft, topRight, bottomLeft, bottomRight):\n",
    "        self.val = val\n",
    "        self.isLeaf = isLeaf\n",
    "        self.topLeft = topLeft\n",
    "        self.topRight = topRight\n",
    "        self.bottomLeft = bottomLeft\n",
    "        self.bottomRight = bottomRight\n",
    "\n",
    "\n",
    "class Solution:\n",
    "\n",
    "    def construct(self, grid: List[List[int]]) -> 'Node':\n",
    "        rows, cols = len(grid), len(grid[0])\n",
    "        preSum = [[0] * (cols + 1) for _ in range(rows + 1)]\n",
    "        for r in range(rows):\n",
    "            for c in range(cols):\n",
    "                preSum[r + 1][c + 1] = preSum[r + 1][c] + preSum[r][c + 1] - preSum[r][c] + grid[r][c]\n",
    "\n",
    "        def dfs(x1, y1, x2, y2):\n",
    "            if not (diff := preSum[x2 + 1][y2 + 1] - (preSum[x1][y2 + 1] + preSum[x2 + 1][y1] - preSum[x1][y1])):\n",
    "                return Node(0, 1, None, None, None, None)\n",
    "            elif diff == (x2 - x1 + 1) * (y2 - y1 + 1):\n",
    "                return Node(1, 1, None, None, None, None)\n",
    "            else:\n",
    "                return Node(1, 0, dfs(x1, y1, m1 := (x1 + x2) // 2, m2 := (y1 + y2) // 2), dfs(x1, m2 + 1, m1, y2), dfs(m1 + 1, y1, x2, m2), dfs(m1 + 1, m2 + 1, x2, y2))\n",
    "\n",
    "        return dfs(0, 0, rows - 1, cols - 1)\n"
   ]
  }
 ],
 "metadata": {
  "language_info": {
   "name": "python"
  },
  "orig_nbformat": 4
 },
 "nbformat": 4,
 "nbformat_minor": 2
}
