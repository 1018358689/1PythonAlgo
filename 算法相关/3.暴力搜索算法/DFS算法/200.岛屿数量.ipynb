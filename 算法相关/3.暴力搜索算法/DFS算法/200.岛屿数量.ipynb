{
 "cells": [
  {
   "cell_type": "markdown",
   "metadata": {},
   "source": [
    "给你一个由 '1'（陆地）和 '0'（水）组成的的二维网格，请你计算网格中岛屿的数量。\n",
    "岛屿总是被水包围，并且每座岛屿只能由水平方向和/或竖直方向上相邻的陆地连接形成。\n",
    "此外，你可以假设该网格的四条边均被水包围。\n",
    "\n",
    "示例 1：\n",
    "输入：grid = [\n",
    "  [\"1\",\"1\",\"1\",\"1\",\"0\"],\n",
    "  [\"1\",\"1\",\"0\",\"1\",\"0\"],\n",
    "  [\"1\",\"1\",\"0\",\"0\",\"0\"],\n",
    "  [\"0\",\"0\",\"0\",\"0\",\"0\"]\n",
    "]\n",
    "输出：1\n",
    "\n",
    "示例 2：\n",
    "输入：grid = [\n",
    "  [\"1\",\"1\",\"0\",\"0\",\"0\"],\n",
    "  [\"1\",\"1\",\"0\",\"0\",\"0\"],\n",
    "  [\"0\",\"0\",\"1\",\"0\",\"0\"],\n",
    "  [\"0\",\"0\",\"0\",\"1\",\"1\"]\n",
    "]\n",
    "输出：3\n",
    " \n",
    "提示：\n",
    "m == grid.length\n",
    "n == grid[i].length\n",
    "1 <= m, n <= 300\n",
    "grid[i][j] 的值为 '0' 或 '1'"
   ]
  },
  {
   "cell_type": "code",
   "execution_count": 3,
   "metadata": {},
   "outputs": [
    {
     "data": {
      "text/plain": [
       "3"
      ]
     },
     "execution_count": 3,
     "metadata": {},
     "output_type": "execute_result"
    }
   ],
   "source": [
    "def f(grid: list):\n",
    "    row = len(grid)\n",
    "    col = len(grid[0])\n",
    "    res = 0\n",
    "\n",
    "    def dfs(grid, r, c):\n",
    "        if r < 0 or r > row - 1 or c < 0 or c > col - 1 or grid[r][c] == '0':\n",
    "            return\n",
    "        grid[r][c] = '0'\n",
    "        dfs(grid, r - 1, c)\n",
    "        dfs(grid, r + 1, c)\n",
    "        dfs(grid, r, c - 1)\n",
    "        dfs(grid, r, c + 1)\n",
    "\n",
    "    for r in range(row):\n",
    "        for c in range(col):\n",
    "            if grid[r][c] == '1':\n",
    "                res += 1\n",
    "                dfs(grid, r, c)\n",
    "    return res\n",
    "\n",
    "\n",
    "f([[\"1\", \"1\", \"1\", \"1\", \"0\"], [\"1\", \"1\", \"0\", \"1\", \"0\"], [\"1\", \"1\", \"0\", \"0\", \"0\"], [\"0\", \"0\", \"0\", \"0\", \"0\"]])\n",
    "f([[\"1\", \"1\", \"0\", \"0\", \"0\"], [\"1\", \"1\", \"0\", \"0\", \"0\"], [\"0\", \"0\", \"1\", \"0\", \"0\"], [\"0\", \"0\", \"0\", \"1\", \"1\"]])\n"
   ]
  },
  {
   "cell_type": "code",
   "execution_count": 5,
   "metadata": {},
   "outputs": [
    {
     "data": {
      "text/plain": [
       "3"
      ]
     },
     "execution_count": 5,
     "metadata": {},
     "output_type": "execute_result"
    }
   ],
   "source": [
    "def f(grid: list):\n",
    "    row = len(grid)\n",
    "    col = len(grid[0])\n",
    "    res = 0\n",
    "\n",
    "    def bfs(grid, r, c):\n",
    "        deque = [(r, c)]\n",
    "        while deque:\n",
    "            sz = len(deque)\n",
    "            for _ in range(sz):\n",
    "                r, c = deque.pop(0)\n",
    "                if r < 0 or r > row - 1 or c < 0 or c > col - 1 or grid[r][c] == '0':\n",
    "                    continue\n",
    "                grid[r][c] = '0'\n",
    "                deque.append((r - 1, c))\n",
    "                deque.append((r + 1, c))\n",
    "                deque.append((r, c - 1))\n",
    "                deque.append((r, c + 1))\n",
    "\n",
    "    for r in range(row):\n",
    "        for c in range(col):\n",
    "            if grid[r][c] == '1':\n",
    "                res += 1\n",
    "                bfs(grid, r, c)\n",
    "    return res\n",
    "\n",
    "\n",
    "f([[\"1\", \"1\", \"1\", \"1\", \"0\"], [\"1\", \"1\", \"0\", \"1\", \"0\"], [\"1\", \"1\", \"0\", \"0\", \"0\"], [\"0\", \"0\", \"0\", \"0\", \"0\"]])\n",
    "f([[\"1\", \"1\", \"0\", \"0\", \"0\"], [\"1\", \"1\", \"0\", \"0\", \"0\"], [\"0\", \"0\", \"1\", \"0\", \"0\"], [\"0\", \"0\", \"0\", \"1\", \"1\"]])\n"
   ]
  },
  {
   "cell_type": "code",
   "execution_count": 2,
   "metadata": {},
   "outputs": [
    {
     "data": {
      "text/plain": [
       "3"
      ]
     },
     "execution_count": 2,
     "metadata": {},
     "output_type": "execute_result"
    }
   ],
   "source": [
    "from collections import deque\n",
    "\n",
    "\n",
    "def f(grid: list):\n",
    "    rows, cols = len(grid), len(grid[0])\n",
    "    count = rows * cols\n",
    "    root = list(range(count))\n",
    "    rank = [1] * count\n",
    "\n",
    "    def find(x):\n",
    "        if root[x] != x:\n",
    "            root[x] = find(root[x])\n",
    "        return root[x]\n",
    "\n",
    "    cnt = sum(sum([int(grid[r][c]) for c in range(cols)]) for r in range(rows))\n",
    "\n",
    "    def union(x, y):\n",
    "        nonlocal cnt\n",
    "        rx, ry = find(x), find(y)\n",
    "        if rx != ry:\n",
    "            if rank[rx] < rank[ry]:\n",
    "                root[rx] = ry\n",
    "            elif rank[ry] < rank[rx]:\n",
    "                root[ry] = rx\n",
    "            else:\n",
    "                root[rx] = ry\n",
    "                rank[ry] += 1\n",
    "            cnt -= 1\n",
    "\n",
    "    for r in range(rows):\n",
    "        for c in range(cols):\n",
    "            if grid[r][c] == '1':\n",
    "                for nr, nc in ((r + 1, c), (r, c + 1)):\n",
    "                    if nr < rows and nc < cols and grid[nr][nc] == '1':\n",
    "                        union(r * cols + c, nr * cols + nc)\n",
    "    return cnt\n",
    "\n",
    "\n",
    "f([[\"1\", \"1\", \"1\", \"1\", \"0\"], [\"1\", \"1\", \"0\", \"1\", \"0\"], [\"1\", \"1\", \"0\", \"0\", \"0\"], [\"0\", \"0\", \"0\", \"0\", \"0\"]])\n",
    "f([[\"1\", \"1\", \"0\", \"0\", \"0\"], [\"1\", \"1\", \"0\", \"0\", \"0\"], [\"0\", \"0\", \"1\", \"0\", \"0\"], [\"0\", \"0\", \"0\", \"1\", \"1\"]])\n"
   ]
  },
  {
   "cell_type": "code",
   "execution_count": 4,
   "metadata": {},
   "outputs": [
    {
     "data": {
      "text/plain": [
       "3"
      ]
     },
     "execution_count": 4,
     "metadata": {},
     "output_type": "execute_result"
    }
   ],
   "source": [
    "def f(grid: list):\n",
    "    row = len(grid)\n",
    "    col = len(grid[0])\n",
    "    res = 0\n",
    "\n",
    "    def bfs(grid, r, c):\n",
    "        deque = [(r, c)]\n",
    "        while deque:\n",
    "            sz = len(deque)\n",
    "            for _ in range(sz):\n",
    "                r, c = deque.pop(0)\n",
    "                if r < 0 or r > row - 1 or c < 0 or c > col - 1 or grid[r][c] == '0':\n",
    "                    continue\n",
    "                grid[r][c] = '0'\n",
    "                deque.append((r - 1, c))\n",
    "                deque.append((r + 1, c))\n",
    "                deque.append((r, c - 1))\n",
    "                deque.append((r, c + 1))\n",
    "\n",
    "    for r in range(row):\n",
    "        for c in range(col):\n",
    "            if grid[r][c] == '1':\n",
    "                res += 1\n",
    "                bfs(grid, r, c)\n",
    "    return res\n",
    "\n",
    "\n",
    "f([[\"1\", \"1\", \"1\", \"1\", \"0\"], [\"1\", \"1\", \"0\", \"1\", \"0\"], [\"1\", \"1\", \"0\", \"0\", \"0\"], [\"0\", \"0\", \"0\", \"0\", \"0\"]])\n",
    "f([[\"1\", \"1\", \"0\", \"0\", \"0\"], [\"1\", \"1\", \"0\", \"0\", \"0\"], [\"0\", \"0\", \"1\", \"0\", \"0\"], [\"0\", \"0\", \"0\", \"1\", \"1\"]])\n"
   ]
  },
  {
   "cell_type": "code",
   "execution_count": null,
   "metadata": {},
   "outputs": [],
   "source": []
  }
 ],
 "metadata": {
  "interpreter": {
   "hash": "004de6046f1b3d314f33fdb43a2dc798b2646e5600efd8df5066c8b63a00ff6d"
  },
  "kernelspec": {
   "display_name": "Python 3.8.10 64-bit",
   "language": "python",
   "name": "python3"
  },
  "language_info": {
   "codemirror_mode": {
    "name": "ipython",
    "version": 3
   },
   "file_extension": ".py",
   "mimetype": "text/x-python",
   "name": "python",
   "nbconvert_exporter": "python",
   "pygments_lexer": "ipython3",
   "version": "3.8.10"
  },
  "orig_nbformat": 4
 },
 "nbformat": 4,
 "nbformat_minor": 2
}
