{
 "cells": [
  {
   "cell_type": "code",
   "execution_count": 1,
   "metadata": {},
   "outputs": [
    {
     "data": {
      "text/plain": [
       "Counter({2: 2, 3: 1})"
      ]
     },
     "execution_count": 1,
     "metadata": {},
     "output_type": "execute_result"
    }
   ],
   "source": [
    "from collections import Counter\n",
    "Counter([2,3,2])"
   ]
  },
  {
   "cell_type": "code",
   "execution_count": 3,
   "metadata": {},
   "outputs": [
    {
     "name": "stdout",
     "output_type": "stream",
     "text": [
      "[3, 4, 2, 4, 4]\n"
     ]
    },
    {
     "data": {
      "text/plain": [
       "3"
      ]
     },
     "execution_count": 3,
     "metadata": {},
     "output_type": "execute_result"
    }
   ],
   "source": [
    "from collections import Counter\n",
    "\n",
    "\n",
    "def f(parents):\n",
    "    sz = len(parents)\n",
    "    neis = [[] for _ in range(sz)]\n",
    "    for c, p in enumerate(parents):\n",
    "        if p != -1:\n",
    "            neis[p].append(c)\n",
    "    res = [0] * sz  # 各节点分数\n",
    "\n",
    "    # 返回子节点个数 含根节点\n",
    "    def dfs(node):\n",
    "        cnt = 0  # 子节点数不含根节点\n",
    "        score = 1\n",
    "        for nei in neis[node]:\n",
    "            nei_sz = dfs(nei)\n",
    "            cnt += nei_sz  # 某孩子节点的节点数\n",
    "            score *= nei_sz\n",
    "        if node != 0:\n",
    "            score *= sz - 1 - cnt # 除了删除根节点 其他节点还要加上往上剩下的节点\n",
    "        res[node] = score\n",
    "        return cnt + 1\n",
    "\n",
    "    dfs(0)\n",
    "    # print(res)\n",
    "    return sorted(Counter(res).items(), reverse=True)[0][1]\n",
    "\n",
    "\n",
    "f([-1, 2, 0, 2, 0])\n",
    "# f([-1,0])"
   ]
  },
  {
   "cell_type": "code",
   "execution_count": 7,
   "metadata": {},
   "outputs": [
    {
     "data": {
      "text/plain": [
       "3"
      ]
     },
     "execution_count": 7,
     "metadata": {},
     "output_type": "execute_result"
    }
   ],
   "source": [
    "from collections import Counter\n",
    "from functools import lru_cache\n",
    "\n",
    "\n",
    "def f(parents):\n",
    "    sz = len(parents)\n",
    "    neis = [[] for _ in range(sz)]\n",
    "    for c, p in enumerate(parents):\n",
    "        if p != -1:\n",
    "            neis[p].append(c)\n",
    "    max_score, ans = 0, 0  # 最高分及出现个数\n",
    "\n",
    "    # 返回子节点个数 含根节点\n",
    "    def dfs(node):\n",
    "        cnt = 0  # 子节点数不含根节点\n",
    "        score = 1\n",
    "        for nei in neis[node]:\n",
    "            nei_sz = dfs(nei)  # 某孩子节点的节点数\n",
    "            cnt += nei_sz\n",
    "            score *= nei_sz  # 孩子节点累乘\n",
    "        if node != 0:\n",
    "            score *= sz - 1 - cnt  # 除了删除根节点 其他节点还要加上往上剩下的节点\n",
    "        nonlocal max_score, ans\n",
    "        if score > max_score:\n",
    "            max_score = score\n",
    "            ans = 1\n",
    "        elif score == max_score:\n",
    "            ans += 1\n",
    "        return cnt + 1\n",
    "\n",
    "    dfs(0)\n",
    "    return ans\n",
    "\n",
    "\n",
    "f([-1, 2, 0, 2, 0])\n",
    "# f([-1,0])"
   ]
  },
  {
   "cell_type": "code",
   "execution_count": null,
   "metadata": {},
   "outputs": [],
   "source": []
  }
 ],
 "metadata": {
  "interpreter": {
   "hash": "a5f34674cfcc9b13426a2d112c686bc132e4ef443f1487e707e7c3787d6bcf89"
  },
  "kernelspec": {
   "display_name": "Python 3.10.2 64-bit (windows store)",
   "language": "python",
   "name": "python3"
  },
  "language_info": {
   "codemirror_mode": {
    "name": "ipython",
    "version": 3
   },
   "file_extension": ".py",
   "mimetype": "text/x-python",
   "name": "python",
   "nbconvert_exporter": "python",
   "pygments_lexer": "ipython3",
   "version": "3.10.2"
  },
  "orig_nbformat": 4
 },
 "nbformat": 4,
 "nbformat_minor": 2
}
