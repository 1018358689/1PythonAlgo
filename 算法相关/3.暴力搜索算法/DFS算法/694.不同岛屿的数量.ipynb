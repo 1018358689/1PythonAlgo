{
 "cells": [
  {
   "cell_type": "markdown",
   "metadata": {},
   "source": [
    "给定一个非空01二维数组表示的网格，一个岛屿由四连通（上、下、左、右四个方向）的 1 组成，你可以认为网格的四周被海水包围。\n",
    "\n",
    "请你计算这个网格中共有多少个形状不同的岛屿。两个岛屿被认为是相同的，当且仅当一个岛屿可以通过平移变换（不可以旋转、翻转）和另一个岛屿重合。\n",
    "\n",
    "\n",
    "样例 1:\n",
    "11000\n",
    "11000\n",
    "00011\n",
    "00011\n",
    "给定上图，返回结果 1\n",
    "\n",
    "\n",
    "样例 2:\n",
    "11011\n",
    "10000\n",
    "00001\n",
    "11011\n",
    "给定上图，返回结果 3\n",
    "\n",
    "注意:\n",
    "\n",
    "11\n",
    "1\n",
    "和\n",
    "\n",
    " 1\n",
    "11\n",
    "是不同的岛屿，因为我们不考虑旋转、翻转操作。\n",
    "\n",
    " \n",
    "\n",
    "来源：力扣（LeetCode）\n",
    "链接：https://leetcode-cn.com/problems/number-of-distinct-islands\n",
    "著作权归领扣网络所有。商业转载请联系官方授权，非商业转载请注明出处。\n",
    "\n",
    "https://mp.weixin.qq.com/s?__biz=MzAxODQxMDM0Mw==&mid=2247492234&idx=1&sn=fef28b1ca7639e056104374ddc9fbf0b&scene=21#wechat_redirect"
   ]
  },
  {
   "cell_type": "code",
   "execution_count": 9,
   "metadata": {},
   "outputs": [
    {
     "name": "stdout",
     "output_type": "stream",
     "text": [
      "'start,right,down,right,unright,undown,unright,unstart,'\n",
      "'start,right,down,undown,right,unright,unright,unstart,'\n"
     ]
    },
    {
     "data": {
      "text/plain": [
       "2"
      ]
     },
     "execution_count": 9,
     "metadata": {},
     "output_type": "execute_result"
    }
   ],
   "source": [
    "from pprint import pprint\n",
    "\n",
    "\n",
    "# dfs相对位置\n",
    "def f(grid: list):\n",
    "    row = len(grid)\n",
    "    col = len(grid[0])\n",
    "    mem = set()\n",
    "\n",
    "    def dfs(grid, r, c, signal):\n",
    "        nonlocal seq\n",
    "        if 0 <= r < row and 0 <= c < col and grid[r][c] == 1:\n",
    "            seq += signal + ','\n",
    "            grid[r][c] = 0\n",
    "            dfs(grid, r - 1, c, 'up')\n",
    "            dfs(grid, r + 1, c, 'down')\n",
    "            dfs(grid, r, c - 1, 'left')\n",
    "            dfs(grid, r, c + 1, 'right')\n",
    "            seq += 'un' + signal + ','  # 不回溯 像这个例子会出错[1,1,0],[0,1,1],[0,0,0],[1,1,1],[0,1,0]]\n",
    "\n",
    "    for r in range(row):\n",
    "        for c in range(col):\n",
    "            if grid[r][c] == 1:\n",
    "                seq = ''\n",
    "                dfs(grid, r, c, 'start')\n",
    "                pprint(seq)\n",
    "                mem.add(seq)\n",
    "    return len(mem)\n",
    "\n",
    "\n",
    "grid1 = [[1, 1, 0, 1, 1], [1, 0, 0, 0, 0], [0, 0, 0, 0, 1], [1, 1, 0, 1, 1]]\n",
    "\n",
    "# f(grid1)\n",
    "f([[1, 1, 0], [0, 1, 1], [0, 0, 0], [1, 1, 1], [0, 1, 0]])\n"
   ]
  },
  {
   "cell_type": "code",
   "execution_count": 15,
   "metadata": {},
   "outputs": [
    {
     "name": "stdout",
     "output_type": "stream",
     "text": [
      "'start,right,down,right,'\n",
      "'start,right,down,right,'\n"
     ]
    },
    {
     "data": {
      "text/plain": [
       "1"
      ]
     },
     "execution_count": 15,
     "metadata": {},
     "output_type": "execute_result"
    }
   ],
   "source": [
    "from pprint import pprint\n",
    "from collections import deque\n",
    "\n",
    "# bfs序列化  错误 无法解决回溯问题 例如 [1,1,0],[0,1,1],[0,0,0],[1,1,1],[0,1,0]]\n",
    "def f(grid: list):\n",
    "    row = len(grid)\n",
    "    col = len(grid[0])\n",
    "    mem = set()\n",
    "\n",
    "    def bfs(grid, r, c, signal):\n",
    "        nonlocal seq\n",
    "        queue = deque([(r, c, signal)])\n",
    "        while queue:\n",
    "            sz = len(queue)\n",
    "            for _ in range(sz):\n",
    "                r, c, signal = queue.popleft()\n",
    "                if 0 <= r < row and 0 <= c < col and grid[r][c] == 1:\n",
    "                    grid[r][c] = 0\n",
    "                    seq += signal + ','\n",
    "                    queue.append((r - 1, c, 'up'))\n",
    "                    queue.append((r + 1, c, 'down'))\n",
    "                    queue.append((r, c - 1, 'left'))\n",
    "                    queue.append((r, c + 1, 'right'))\n",
    "    for r in range(row):\n",
    "        for c in range(col):\n",
    "            if grid[r][c] == 1:\n",
    "                seq = ''\n",
    "                bfs(grid, r, c, 'start')\n",
    "                pprint(seq)\n",
    "                mem.add(seq)\n",
    "    return len(mem)\n",
    "\n",
    "\n",
    "grid1 = [[1, 1, 0, 1, 1], [1, 0, 0, 0, 0], [0, 0, 0, 0, 1], [1, 1, 0, 1, 1]]\n",
    "\n",
    "# f(grid1)\n",
    "f([[1,1,0],[0,1,1],[0,0,0],[1,1,1],[0,1,0]])"
   ]
  },
  {
   "cell_type": "code",
   "execution_count": 21,
   "metadata": {},
   "outputs": [
    {
     "data": {
      "text/plain": [
       "(None, deque([(1, 2, 's')]))"
      ]
     },
     "execution_count": 21,
     "metadata": {},
     "output_type": "execute_result"
    }
   ],
   "source": [
    "a = deque([(1,2,'s')])\n",
    "a.append((1,2,'s')),a"
   ]
  },
  {
   "cell_type": "code",
   "execution_count": 17,
   "metadata": {},
   "outputs": [
    {
     "name": "stdout",
     "output_type": "stream",
     "text": [
      "[(0, 0), (0, 1), (1, 1), (1, 2)]\n",
      "[(0, 0), (0, 1), (1, 1), (0, 2)]\n"
     ]
    },
    {
     "data": {
      "text/plain": [
       "2"
      ]
     },
     "execution_count": 17,
     "metadata": {},
     "output_type": "execute_result"
    }
   ],
   "source": [
    "from pprint import pprint\n",
    "\n",
    "# dfs相对位置\n",
    "def f(grid: list):\n",
    "    row = len(grid)\n",
    "    col = len(grid[0])\n",
    "    mem = set()\n",
    "\n",
    "    def dfs(grid, r, c, start_r, start_c, pos):\n",
    "        if 0 <= r < row and 0 <= c < col and grid[r][c] == 1:\n",
    "            pos.append((r - start_r, c - start_c))\n",
    "            grid[r][c] = 0\n",
    "            dfs(grid, r - 1, c, start_r, start_c, pos)\n",
    "            dfs(grid, r + 1, c, start_r, start_c, pos)\n",
    "            dfs(grid, r, c - 1, start_r, start_c, pos)\n",
    "            dfs(grid, r, c + 1, start_r, start_c, pos)\n",
    "\n",
    "    for r in range(row):\n",
    "        for c in range(col):\n",
    "            if grid[r][c] == 1:\n",
    "                pos = []\n",
    "                dfs(grid, r, c, r, c, pos)\n",
    "                pprint(pos)\n",
    "                mem.add(tuple(pos))\n",
    "    return len(mem)\n",
    "\n",
    "\n",
    "grid1 = [[1, 1, 0, 1, 1], [1, 0, 0, 0, 0], [0, 0, 0, 0, 1], [1, 1, 0, 1, 1]]\n",
    "\n",
    "# f(grid1)\n",
    "f([[1, 1, 0], [0, 1, 1], [0, 0, 0], [1, 1, 1], [0, 1, 0]])"
   ]
  },
  {
   "cell_type": "code",
   "execution_count": 18,
   "metadata": {},
   "outputs": [
    {
     "name": "stdout",
     "output_type": "stream",
     "text": [
      "[(0, 0), (0, 1), (1, 1), (1, 2)]\n",
      "[(0, 0), (0, 1), (1, 1), (0, 2)]\n"
     ]
    },
    {
     "data": {
      "text/plain": [
       "2"
      ]
     },
     "execution_count": 18,
     "metadata": {},
     "output_type": "execute_result"
    }
   ],
   "source": [
    "from pprint import pprint\n",
    "\n",
    "\n",
    "# dfs 相对位置\n",
    "def f(grid: list):\n",
    "    row = len(grid)\n",
    "    col = len(grid[0])\n",
    "    mem = set()\n",
    "\n",
    "    def dfs(grid, r, c):\n",
    "        if 0 <= r < row and 0 <= c < col and grid[r][c] == 1:\n",
    "            pos.append((r - start_r, c - start_c))\n",
    "            grid[r][c] = 0\n",
    "            dfs(grid, r - 1, c)\n",
    "            dfs(grid, r + 1, c)\n",
    "            dfs(grid, r, c - 1)\n",
    "            dfs(grid, r, c + 1)\n",
    "\n",
    "    for r in range(row):\n",
    "        for c in range(col):\n",
    "            if grid[r][c] == 1:\n",
    "                pos = []\n",
    "                start_r, start_c = r, c\n",
    "                dfs(grid, r, c)\n",
    "                pprint(pos)\n",
    "                mem.add(tuple(pos))\n",
    "    return len(mem)\n",
    "\n",
    "\n",
    "grid1 = [[1, 1, 0, 1, 1], [1, 0, 0, 0, 0], [0, 0, 0, 0, 1], [1, 1, 0, 1, 1]]\n",
    "\n",
    "# f(grid1)\n",
    "f([[1, 1, 0], [0, 1, 1], [0, 0, 0], [1, 1, 1], [0, 1, 0]])"
   ]
  },
  {
   "cell_type": "code",
   "execution_count": 19,
   "metadata": {},
   "outputs": [
    {
     "name": "stdout",
     "output_type": "stream",
     "text": [
      "[(0, 0), (0, 1), (1, 1), (1, 2)]\n",
      "[(0, 0), (0, 1), (1, 1), (0, 2)]\n"
     ]
    },
    {
     "data": {
      "text/plain": [
       "2"
      ]
     },
     "execution_count": 19,
     "metadata": {},
     "output_type": "execute_result"
    }
   ],
   "source": [
    "from pprint import pprint\n",
    "from collections import deque\n",
    "\n",
    "\n",
    "# bfs 相对位置\n",
    "def f(grid: list):\n",
    "    row = len(grid)\n",
    "    col = len(grid[0])\n",
    "    mem = set()\n",
    "\n",
    "    def bfs(grid, r, c):\n",
    "        queue = deque([(r, c)])\n",
    "        while queue:\n",
    "            sz = len(queue)\n",
    "            for _ in range(sz): # 不同判断长度也可以\n",
    "                r, c = queue.popleft()\n",
    "                if 0 <= r < row and 0 <= c < col and grid[r][c] == 1:\n",
    "                    grid[r][c] = 0\n",
    "                    pos.append((r - start_r, c - start_c))\n",
    "                    queue.append((r - 1, c))\n",
    "                    queue.append((r + 1, c))\n",
    "                    queue.append((r, c - 1))\n",
    "                    queue.append((r, c + 1))\n",
    "\n",
    "    for r in range(row):\n",
    "        for c in range(col):\n",
    "            if grid[r][c] == 1:\n",
    "                pos = []\n",
    "                start_r, start_c = r, c\n",
    "                bfs(grid, r, c)\n",
    "                pprint(pos)\n",
    "                mem.add(tuple(pos))\n",
    "    return len(mem)\n",
    "\n",
    "\n",
    "grid = [\n",
    "    [0,0,1,0,0,0,0,1,0,0,0,0,0],\n",
    "    [0,0,0,0,0,0,0,1,1,1,0,0,0],\n",
    "    [0,1,1,0,1,0,0,0,0,0,0,0,0],\n",
    "    [0,1,0,0,1,1,0,0,1,0,1,0,0],\n",
    "    [0,1,0,0,1,1,0,0,1,1,1,0,0],\n",
    "    [0,0,0,0,0,0,0,0,0,0,1,0,0],\n",
    "    [0,0,0,0,0,0,0,1,1,1,0,0,0],\n",
    "    [0,0,0,0,0,0,0,1,1,0,0,0,0]]\n",
    "\n",
    "# f(grid)\n",
    "f([[1, 1, 0], [0, 1, 1], [0, 0, 0], [1, 1, 1], [0, 1, 0]])"
   ]
  },
  {
   "cell_type": "code",
   "execution_count": 20,
   "metadata": {},
   "outputs": [
    {
     "name": "stdout",
     "output_type": "stream",
     "text": [
      "[(0, 0), (0, 1), (1, 1), (1, 2)]\n",
      "[(0, 0), (0, 1), (1, 1), (0, 2)]\n"
     ]
    },
    {
     "data": {
      "text/plain": [
       "2"
      ]
     },
     "execution_count": 20,
     "metadata": {},
     "output_type": "execute_result"
    }
   ],
   "source": [
    "from pprint import pprint\n",
    "from collections import deque\n",
    "\n",
    "\n",
    "# bfs 相对位置\n",
    "def f(grid: list):\n",
    "    row = len(grid)\n",
    "    col = len(grid[0])\n",
    "    mem = set()\n",
    "\n",
    "    def bfs(grid, r, c):\n",
    "        queue = deque([(r, c)])\n",
    "        while queue:\n",
    "            r, c = queue.popleft()\n",
    "            if 0 <= r < row and 0 <= c < col and grid[r][c] == 1:\n",
    "                grid[r][c] = 0\n",
    "                pos.append((r - start_r, c - start_c))\n",
    "                queue.append((r - 1, c))\n",
    "                queue.append((r + 1, c))\n",
    "                queue.append((r, c - 1))\n",
    "                queue.append((r, c + 1))\n",
    "\n",
    "    for r in range(row):\n",
    "        for c in range(col):\n",
    "            if grid[r][c] == 1:\n",
    "                pos = []\n",
    "                start_r, start_c = r, c\n",
    "                bfs(grid, r, c)\n",
    "                pprint(pos)\n",
    "                mem.add(tuple(pos))\n",
    "    return len(mem)\n",
    "\n",
    "\n",
    "grid = [\n",
    "    [0,0,1,0,0,0,0,1,0,0,0,0,0],\n",
    "    [0,0,0,0,0,0,0,1,1,1,0,0,0],\n",
    "    [0,1,1,0,1,0,0,0,0,0,0,0,0],\n",
    "    [0,1,0,0,1,1,0,0,1,0,1,0,0],\n",
    "    [0,1,0,0,1,1,0,0,1,1,1,0,0],\n",
    "    [0,0,0,0,0,0,0,0,0,0,1,0,0],\n",
    "    [0,0,0,0,0,0,0,1,1,1,0,0,0],\n",
    "    [0,0,0,0,0,0,0,1,1,0,0,0,0]]\n",
    "\n",
    "# f(grid)\n",
    "f([[1, 1, 0], [0, 1, 1], [0, 0, 0], [1, 1, 1], [0, 1, 0]])"
   ]
  },
  {
   "cell_type": "code",
   "execution_count": null,
   "metadata": {},
   "outputs": [],
   "source": []
  }
 ],
 "metadata": {
  "interpreter": {
   "hash": "004de6046f1b3d314f33fdb43a2dc798b2646e5600efd8df5066c8b63a00ff6d"
  },
  "kernelspec": {
   "display_name": "Python 3.8.10 64-bit",
   "language": "python",
   "name": "python3"
  },
  "language_info": {
   "codemirror_mode": {
    "name": "ipython",
    "version": 3
   },
   "file_extension": ".py",
   "mimetype": "text/x-python",
   "name": "python",
   "nbconvert_exporter": "python",
   "pygments_lexer": "ipython3",
   "version": "3.8.10"
  },
  "orig_nbformat": 4
 },
 "nbformat": 4,
 "nbformat_minor": 2
}
