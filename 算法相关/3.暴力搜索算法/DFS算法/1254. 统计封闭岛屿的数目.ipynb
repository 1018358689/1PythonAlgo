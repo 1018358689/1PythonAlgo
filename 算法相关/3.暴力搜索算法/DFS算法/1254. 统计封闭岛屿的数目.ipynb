{
 "cells": [
  {
   "cell_type": "markdown",
   "metadata": {},
   "source": [
    "有一个二维矩阵 grid ，每个位置要么是陆地（记号为 0 ）要么是水域（记号为 1 ）。\n",
    "我们从一块陆地出发，每次可以往上下左右 4 个方向相邻区域走，能走到的所有陆地区域，我们将其称为一座「岛屿」。\n",
    "如果一座岛屿 完全 由水域包围，即陆地边缘上下左右所有相邻区域都是水域，那么我们将其称为 「封闭岛屿」。\n",
    "请返回封闭岛屿的数目。\n",
    "\n",
    "示例 1：\n",
    "输入：grid = [\n",
    "[1,1,1,1,1,1,1,0],\n",
    "[1,0,0,0,0,1,1,0],\n",
    "[1,0,1,0,1,1,1,0],\n",
    "[1,0,0,0,0,1,0,1],\n",
    "[1,1,1,1,1,1,1,0]]\n",
    "输出：2\n",
    "解释：\n",
    "灰色区域的岛屿是封闭岛屿，因为这座岛屿完全被水域包围（即被 1 区域包围）。\n",
    "\n",
    "示例 2：\n",
    "输入：grid = [\n",
    "[0,0,1,0,0],\n",
    "[0,1,0,1,0],\n",
    "[0,1,1,1,0]]\n",
    "输出：1\n",
    "\n",
    "示例 3：\n",
    "输入：grid = [\n",
    "[1,1,1,1,1,1,1],\n",
    "[1,0,0,0,0,0,1],\n",
    "[1,0,1,1,1,0,1],\n",
    "[1,0,1,0,1,0,1],\n",
    "[1,0,1,1,1,0,1],\n",
    "[1,0,0,0,0,0,1],\n",
    "[1,1,1,1,1,1,1]]\n",
    "输出：2\n",
    " \n",
    "提示：\n",
    "1 <= grid.length, grid[0].length <= 100\n",
    "0 <= grid[i][j] <=1"
   ]
  },
  {
   "cell_type": "code",
   "execution_count": 17,
   "metadata": {},
   "outputs": [
    {
     "data": {
      "text/plain": [
       "2"
      ]
     },
     "execution_count": 17,
     "metadata": {},
     "output_type": "execute_result"
    }
   ],
   "source": [
    "from pprint import pprint\n",
    "\n",
    "\n",
    "def f(grid: list):\n",
    "    row = len(grid)\n",
    "    col = len(grid[0])\n",
    "    res = 0\n",
    "\n",
    "    def dfs(grid, r, c):\n",
    "        if r < 0 or r > row - 1 or c < 0 or c > col - 1 or grid[r][c] == 1:\n",
    "            return\n",
    "        grid[r][c] = 1\n",
    "        dfs(grid, r - 1, c)\n",
    "        dfs(grid, r + 1, c)\n",
    "        dfs(grid, r, c - 1)\n",
    "        dfs(grid, r, c + 1)\n",
    "\n",
    "    for r in range(row):\n",
    "        if grid[r][0] == 0:\n",
    "            dfs(grid, r, 0)\n",
    "        if grid[r][col - 1] == 0:\n",
    "            dfs(grid, r, col - 1)\n",
    "    for c in range(col):\n",
    "        if grid[0][c] == 0:\n",
    "            dfs(grid, 0, c)\n",
    "        if grid[row - 1][c] == 0:\n",
    "            dfs(grid, row - 1, c)\n",
    "    # pprint(grid)\n",
    "    for r in range(row):\n",
    "        for c in range(col):\n",
    "            if grid[r][c] == 0:\n",
    "                res += 1\n",
    "                dfs(grid, r, c)\n",
    "\n",
    "    return res\n",
    "\n",
    "\n",
    "f([[1, 1, 1, 1, 1, 1, 1, 0], [1, 0, 0, 0, 0, 1, 1, 0], [1, 0, 1, 0, 1, 1, 1, 0], [1, 0, 0, 0, 0, 1, 0, 1],\n",
    "   [1, 1, 1, 1, 1, 1, 1, 0]])\n"
   ]
  },
  {
   "cell_type": "code",
   "execution_count": 18,
   "metadata": {},
   "outputs": [
    {
     "data": {
      "text/plain": [
       "2"
      ]
     },
     "execution_count": 18,
     "metadata": {},
     "output_type": "execute_result"
    }
   ],
   "source": [
    "from pprint import pprint\n",
    "\n",
    "\n",
    "def f(grid: list):\n",
    "    row = len(grid)\n",
    "    col = len(grid[0])\n",
    "    if row == 1 or col == 1:\n",
    "        return 0\n",
    "    res = 0\n",
    "\n",
    "    def dfs(grid, r, c):\n",
    "        if r < 0 or r > row - 1 or c < 0 or c > col - 1 or grid[r][c] == 1:\n",
    "            return\n",
    "        grid[r][c] = 1\n",
    "        dfs(grid, r - 1, c)\n",
    "        dfs(grid, r + 1, c)\n",
    "        dfs(grid, r, c - 1)\n",
    "        dfs(grid, r, c + 1)\n",
    "\n",
    "    for r in range(row):\n",
    "        if grid[r][0] == 0:\n",
    "            dfs(grid, r, 0)\n",
    "        if grid[r][col - 1] == 0:\n",
    "            dfs(grid, r, col - 1)\n",
    "    for c in range(col):\n",
    "        if grid[0][c] == 0:\n",
    "            dfs(grid, 0, c)\n",
    "        if grid[row - 1][c] == 0:\n",
    "            dfs(grid, row - 1, c)\n",
    "\n",
    "    def dfs2(grid, r, c):\n",
    "        if grid[r][c] == 1:\n",
    "            return\n",
    "        grid[r][c] = 1\n",
    "        dfs2(grid, r - 1, c)\n",
    "        dfs2(grid, r + 1, c)\n",
    "        dfs2(grid, r, c - 1)\n",
    "        dfs2(grid, r, c + 1)\n",
    "\n",
    "    for r in range(1, row - 1):\n",
    "        for c in range(1, col - 1):\n",
    "            if grid[r][c] == 0:\n",
    "                res += 1\n",
    "                dfs2(grid, r, c)\n",
    "\n",
    "    return res\n",
    "\n",
    "\n",
    "f([[1, 1, 1, 1, 1, 1, 1, 0], [1, 0, 0, 0, 0, 1, 1, 0], [1, 0, 1, 0, 1, 1, 1, 0], [1, 0, 0, 0, 0, 1, 0, 1],\n",
    "   [1, 1, 1, 1, 1, 1, 1, 0]])\n"
   ]
  },
  {
   "cell_type": "code",
   "execution_count": 19,
   "metadata": {},
   "outputs": [
    {
     "data": {
      "text/plain": [
       "2"
      ]
     },
     "execution_count": 19,
     "metadata": {},
     "output_type": "execute_result"
    }
   ],
   "source": [
    "def f(grid: list):\n",
    "    row = len(grid)\n",
    "    col = len(grid[0])\n",
    "    res = 0\n",
    "\n",
    "    def bfs(grid: list, r: int, c: int):\n",
    "        deque = [(r, c)]\n",
    "        while deque:\n",
    "            sz = len(deque)\n",
    "            for _ in range(sz):\n",
    "                r, c = deque.pop(0)\n",
    "                if r < 0 or r > row - 1 or c < 0 or c > col - 1 or grid[r][c] == 1:\n",
    "                    continue\n",
    "                grid[r][c] = 1\n",
    "                deque.append((r - 1, c))\n",
    "                deque.append((r + 1, c))\n",
    "                deque.append((r, c - 1))\n",
    "                deque.append((r, c + 1))\n",
    "\n",
    "    for r in range(row):\n",
    "        if grid[r][0] == 0:\n",
    "            bfs(grid, r, 0)\n",
    "        if grid[r][col - 1] == 0:\n",
    "            bfs(grid, r, col - 1)\n",
    "\n",
    "    for c in range(col):\n",
    "        if grid[0][c] == 0:\n",
    "            bfs(grid, 0, c)\n",
    "        if grid[row - 1][c] == 0:\n",
    "            bfs(grid, row - 1, c)\n",
    "\n",
    "    for r in range(row):\n",
    "        for c in range(col):\n",
    "            if grid[r][c] == 0:\n",
    "                res += 1\n",
    "                bfs(grid, r, c)\n",
    "\n",
    "    return res\n",
    "\n",
    "\n",
    "f([[1, 1, 1, 1, 1, 1, 1, 0], [1, 0, 0, 0, 0, 1, 1, 0], [1, 0, 1, 0, 1, 1, 1, 0], [1, 0, 0, 0, 0, 1, 0, 1],\n",
    "   [1, 1, 1, 1, 1, 1, 1, 0]])"
   ]
  },
  {
   "cell_type": "code",
   "execution_count": null,
   "metadata": {},
   "outputs": [],
   "source": [
    "from collections import deque\n",
    "\n",
    "\n",
    "def f(grid: list):\n",
    "    row = len(grid)\n",
    "    col = len(grid[0])\n",
    "    res = 0\n",
    "\n",
    "    def bfs(grid: list, r: int, c: int):\n",
    "        queue = deque([(r, c)])\n",
    "        while queue:\n",
    "            sz = len(queue)\n",
    "            for _ in range(sz):\n",
    "                r, c = queue.pop(0)\n",
    "                if r < 0 or r > row - 1 or c < 0 or c > col - 1 or grid[r][c] == 1:\n",
    "                    continue\n",
    "                grid[r][c] = 1\n",
    "                queue.append((r - 1, c))\n",
    "                queue.append((r + 1, c))\n",
    "                queue.append((r, c - 1))\n",
    "                queue.append((r, c + 1))\n",
    "\n",
    "    for r in range(row):\n",
    "        if grid[r][0] == 0:\n",
    "            bfs(grid, r, 0)\n",
    "        if grid[r][col - 1] == 0:\n",
    "            bfs(grid, r, col - 1)\n",
    "\n",
    "    for c in range(col):\n",
    "        if grid[0][c] == 0:\n",
    "            bfs(grid, 0, c)\n",
    "        if grid[row - 1][c] == 0:\n",
    "            bfs(grid, row - 1, c)\n",
    "\n",
    "    for r in range(row):\n",
    "        for c in range(col):\n",
    "            if grid[r][c] == 0:\n",
    "                res += 1\n",
    "                bfs(grid, r, c)\n",
    "\n",
    "    return res\n",
    "\n",
    "\n",
    "f([[1, 1, 1, 1, 1, 1, 1, 0], [1, 0, 0, 0, 0, 1, 1, 0], [1, 0, 1, 0, 1, 1, 1, 0], [1, 0, 0, 0, 0, 1, 0, 1],\n",
    "   [1, 1, 1, 1, 1, 1, 1, 0]])"
   ]
  },
  {
   "cell_type": "code",
   "execution_count": 1,
   "metadata": {},
   "outputs": [
    {
     "name": "stdout",
     "output_type": "stream",
     "text": [
      "[[0, 1, 0, 1, 0, 0, 0, 1, 1, 0, 1, 1, 0, 0, 1, 1, 1, 0, 1, 1],\n",
      " [0, 1, 1, 0, 0, 0, 0, 1, 1, 1, 0, 1, 0, 1, 1, 0, 0, 1, 0, 1],\n",
      " [1, 1, 0, 1, 0, 0, 1, 1, 1, 0, 0, 0, 1, 0, 0, 1, 0, 1, 0, 0],\n",
      " [0, 1, 1, 1, 0, 0, 0, 0, 0, 0, 1, 1, 1, 0, 0, 0, 1, 1, 1, 0],\n",
      " [1, 1, 0, 0, 1, 0, 0, 1, 1, 0, 1, 1, 0, 1, 1, 1, 0, 0, 1, 1],\n",
      " [1, 1, 0, 0, 0, 0, 0, 1, 0, 1, 1, 1, 0, 1, 0, 0, 0, 0, 0, 1],\n",
      " [1, 0, 1, 1, 0, 1, 0, 1, 0, 0, 1, 0, 1, 1, 1, 1, 1, 0, 1, 0],\n",
      " [1, 0, 0, 1, 1, 0, 0, 1, 0, 1, 0, 0, 0, 0, 0, 0, 0, 0, 0, 1],\n",
      " [0, 0, 0, 1, 1, 1, 0, 1, 1, 1, 0, 1, 0, 1, 1, 0, 1, 0, 0, 0],\n",
      " [1, 1, 0, 0, 0, 0, 1, 1, 0, 0, 0, 1, 0, 0, 1, 0, 1, 0, 1, 1],\n",
      " [1, 0, 0, 1, 1, 1, 1, 0, 1, 0, 1, 1, 1, 0, 0, 0, 0, 1, 1, 0],\n",
      " [1, 1, 0, 0, 0, 0, 0, 0, 1, 1, 1, 1, 0, 1, 0, 1, 0, 1, 1, 1],\n",
      " [0, 1, 1, 0, 0, 1, 1, 0, 0, 1, 0, 1, 1, 1, 1, 1, 1, 0, 0, 0],\n",
      " [1, 0, 0, 0, 1, 1, 0, 1, 1, 1, 0, 0, 1, 0, 1, 1, 0, 1, 0, 1]]\n"
     ]
    }
   ],
   "source": [
    "class Solution:\n",
    "    def closedIsland(self, grid: List[List[int]]) -> int:\n",
    "        rows,cols = len(grid),len(grid[0])\n",
    "        count = rows*cols+1\n",
    "        root = list(range(count))\n",
    "        rank = [1]*count\n",
    "        def find(x):\n",
    "            if root[x]==x:\n",
    "                return root[x]\n",
    "            else:\n",
    "                root[x]=find(root[x])\n",
    "                return root[x]\n",
    "        cnt = count - sum(sum(grid[r]) for r in range(rows)) # 树棵树\n",
    "        def union(x,y):\n",
    "            nonlocal cnt\n",
    "            rx = find(x)\n",
    "            ry = find(y)\n",
    "            if rx!=ry:\n",
    "                if rank[rx]<rank[ry]:\n",
    "                    root[rx]=ry\n",
    "                elif rank[rx]>rank[ry]:\n",
    "                    root[ry]=rx\n",
    "                else:\n",
    "                    root[rx]=ry\n",
    "                    rank[ry]+=1\n",
    "                cnt-=1\n",
    "        for r in range(rows):\n",
    "            for c in range(cols):\n",
    "                if grid[r][c]==0:\n",
    "                    if r==0 or r==rows-1 or c==0 or c==cols-1:\n",
    "                        union(r*cols+c,rows*cols) # 边界点和最后一个虚拟点union\n",
    "                    else:\n",
    "                        for nr,nc in ((r-1,c),(r+1,c),(r,c-1),(r,c+1)):\n",
    "                            if grid[nr][nc]==0:\n",
    "                                union(r*cols+c,nr*cols+nc)\n",
    "        return cnt-1 # 数棵树要减去虚拟点"
   ]
  },
  {
   "cell_type": "code",
   "execution_count": 1,
   "metadata": {},
   "outputs": [
    {
     "data": {
      "text/plain": [
       "[(0, 0), (0, 1), (1, 0), (1, 1), (2, 0), (2, 1)]"
      ]
     },
     "execution_count": 1,
     "metadata": {},
     "output_type": "execute_result"
    }
   ],
   "source": [
    "l = []\n",
    "for i in range(3):\n",
    "    for j in range(2):\n",
    "        l.append((i,j))\n",
    "l"
   ]
  },
  {
   "cell_type": "code",
   "execution_count": 7,
   "metadata": {},
   "outputs": [
    {
     "data": {
      "text/plain": [
       "[(1, 0), (1, 1)]"
      ]
     },
     "execution_count": 7,
     "metadata": {},
     "output_type": "execute_result"
    }
   ],
   "source": [
    "[(i,j) for i in range(3) for j in range(2) if i==1]"
   ]
  },
  {
   "cell_type": "code",
   "execution_count": null,
   "metadata": {},
   "outputs": [],
   "source": []
  }
 ],
 "metadata": {
  "interpreter": {
   "hash": "004de6046f1b3d314f33fdb43a2dc798b2646e5600efd8df5066c8b63a00ff6d"
  },
  "kernelspec": {
   "display_name": "Python 3.8.10 64-bit",
   "language": "python",
   "name": "python3"
  },
  "language_info": {
   "codemirror_mode": {
    "name": "ipython",
    "version": 3
   },
   "file_extension": ".py",
   "mimetype": "text/x-python",
   "name": "python",
   "nbconvert_exporter": "python",
   "pygments_lexer": "ipython3",
   "version": "3.10.1"
  },
  "orig_nbformat": 4
 },
 "nbformat": 4,
 "nbformat_minor": 2
}
