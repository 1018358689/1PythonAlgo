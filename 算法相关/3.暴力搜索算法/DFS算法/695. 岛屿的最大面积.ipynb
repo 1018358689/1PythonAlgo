{
 "cells": [
  {
   "cell_type": "markdown",
   "metadata": {},
   "source": [
    "给你一个大小为 m x n 的二进制矩阵 grid 。\n",
    "岛屿 是由一些相邻的 1 (代表土地) 构成的组合，这里的「相邻」要求两个 1 必须在 水平或者竖直的四个方向上 相邻。你可以假设 grid 的四个边缘都被 0（代表水）包围着。\n",
    "岛屿的面积是岛上值为 1 的单元格的数目。\n",
    "计算并返回 grid 中最大的岛屿面积。如果没有岛屿，则返回面积为 0 。\n",
    "\n",
    "示例 1：\n",
    "输入：grid = [\n",
    "    [0,0,1,0,0,0,0,1,0,0,0,0,0],\n",
    "    [0,0,0,0,0,0,0,1,1,1,0,0,0],\n",
    "    [0,1,1,0,1,0,0,0,0,0,0,0,0],\n",
    "    [0,1,0,0,1,1,0,0,1,0,1,0,0],\n",
    "    [0,1,0,0,1,1,0,0,1,1,1,0,0],\n",
    "    [0,0,0,0,0,0,0,0,0,0,1,0,0],\n",
    "    [0,0,0,0,0,0,0,1,1,1,0,0,0],\n",
    "    [0,0,0,0,0,0,0,1,1,0,0,0,0]]\n",
    "输出：6\n",
    "解释：答案不应该是 11 ，因为岛屿只能包含水平或垂直这四个方向上的 1 。\n",
    "\n",
    "示例 2：\n",
    "输入：grid = [[0,0,0,0,0,0,0,0]]\n",
    "输出：0\n",
    "\n",
    "提示：\n",
    "m == grid.length\n",
    "n == grid[i].length\n",
    "1 <= m, n <= 50\n",
    "grid[i][j] 为 0 或 1"
   ]
  },
  {
   "cell_type": "code",
   "execution_count": 18,
   "metadata": {},
   "outputs": [
    {
     "data": {
      "text/plain": [
       "4"
      ]
     },
     "execution_count": 18,
     "metadata": {},
     "output_type": "execute_result"
    }
   ],
   "source": [
    "from collections import deque\n",
    "\n",
    "\n",
    "def f(grid: list):\n",
    "    row = len(grid)\n",
    "    col = len(grid[0])\n",
    "    res = 0\n",
    "    cnt = 0\n",
    "\n",
    "    def bfs(grid, r, c):\n",
    "        nonlocal cnt\n",
    "        queue = deque([(r, c)])\n",
    "        while queue:\n",
    "            sz = len(queue)\n",
    "            for _ in range(sz):\n",
    "                r, c = queue.popleft()\n",
    "                if r < 0 or r > row - 1 or c < 0 or c > col - 1 or grid[r][c] == 0:\n",
    "                    continue\n",
    "                cnt += 1\n",
    "                grid[r][c] = 0\n",
    "                queue.append((r - 1, c))\n",
    "                queue.append((r + 1, c))\n",
    "                queue.append((r, c - 1))\n",
    "                queue.append((r, c + 1))\n",
    "\n",
    "    for r in range(row):\n",
    "        for c in range(col):\n",
    "            if grid[r][c] == 1:\n",
    "                cnt = 0\n",
    "                bfs(grid, r, c)\n",
    "                res = max(res, cnt)\n",
    "\n",
    "    return res\n",
    "\n",
    "\n",
    "f([[0, 0, 1, 0, 0, 0, 0, 1, 0, 0, 0, 0, 0], [0, 0, 0, 0, 0, 0, 0, 1, 1, 1, 0, 0, 0],\n",
    "   [0, 1, 1, 0, 1, 0, 0, 0, 0, 0, 0, 0, 0], [0, 1, 0, 0, 1, 1, 0, 0, 1, 0, 1, 0, 0],\n",
    "   [0, 1, 0, 0, 1, 1, 0, 0, 1, 1, 1, 0, 0], [0, 0, 0, 0, 0, 0, 0, 0, 0, 0, 1, 0, 0],\n",
    "   [0, 0, 0, 0, 0, 0, 0, 1, 1, 1, 0, 0, 0], [0, 0, 0, 0, 0, 0, 0, 1, 1, 0, 0, 0, 0]])\n",
    "f([[1, 1, 0, 0, 0], [1, 1, 0, 0, 0], [0, 0, 0, 1, 1], [0, 0, 0, 1, 1]])"
   ]
  },
  {
   "cell_type": "code",
   "execution_count": 15,
   "metadata": {},
   "outputs": [
    {
     "data": {
      "text/plain": [
       "4"
      ]
     },
     "execution_count": 15,
     "metadata": {},
     "output_type": "execute_result"
    }
   ],
   "source": [
    "from pprint import pprint\n",
    "\n",
    "\n",
    "def f(grid: list):\n",
    "    row = len(grid)\n",
    "    col = len(grid[0])\n",
    "    res = 0\n",
    "\n",
    "    def dfs(grid, r, c):\n",
    "        if r < 0 or r > row - 1 or c < 0 or c > col - 1 or grid[r][c] == 0:\n",
    "            return 0\n",
    "        grid[r][c] = 0\n",
    "        return dfs(grid, r - 1, c) + dfs(grid, r + 1, c) + dfs(grid, r, c - 1) + dfs(grid, r, c + 1) + 1\n",
    "\n",
    "    for r in range(row):\n",
    "        for c in range(col):\n",
    "            if grid[r][c] == 1:\n",
    "                res = max(res, dfs(grid, r, c))\n",
    "\n",
    "    return res\n",
    "\n",
    "\n",
    "f([[0, 0, 1, 0, 0, 0, 0, 1, 0, 0, 0, 0, 0], [0, 0, 0, 0, 0, 0, 0, 1, 1, 1, 0, 0, 0],\n",
    "   [0, 1, 1, 0, 1, 0, 0, 0, 0, 0, 0, 0, 0], [0, 1, 0, 0, 1, 1, 0, 0, 1, 0, 1, 0, 0],\n",
    "   [0, 1, 0, 0, 1, 1, 0, 0, 1, 1, 1, 0, 0], [0, 0, 0, 0, 0, 0, 0, 0, 0, 0, 1, 0, 0],\n",
    "   [0, 0, 0, 0, 0, 0, 0, 1, 1, 1, 0, 0, 0], [0, 0, 0, 0, 0, 0, 0, 1, 1, 0, 0, 0, 0]])\n",
    "f([[1, 1, 0, 0, 0], [1, 1, 0, 0, 0], [0, 0, 0, 1, 1], [0, 0, 0, 1, 1]])"
   ]
  },
  {
   "cell_type": "code",
   "execution_count": 19,
   "metadata": {},
   "outputs": [
    {
     "data": {
      "text/plain": [
       "4"
      ]
     },
     "execution_count": 19,
     "metadata": {},
     "output_type": "execute_result"
    }
   ],
   "source": [
    "def f(grid: list):\n",
    "    row = len(grid)\n",
    "    col = len(grid[0])\n",
    "    res = 0\n",
    "    cnt = 0\n",
    "\n",
    "    def dfs(grid, r, c):\n",
    "        nonlocal cnt\n",
    "        if r < 0 or r > row - 1 or c < 0 or c > col - 1 or grid[r][c] == 0:\n",
    "            return\n",
    "        cnt += 1\n",
    "        grid[r][c] = 0\n",
    "        dfs(grid, r - 1, c)\n",
    "        dfs(grid, r + 1, c)\n",
    "        dfs(grid, r, c - 1)\n",
    "        dfs(grid, r, c + 1)\n",
    "\n",
    "    for r in range(row):\n",
    "        for c in range(col):\n",
    "            if grid[r][c] == 1:\n",
    "                cnt = 0\n",
    "                dfs(grid, r, c)\n",
    "                res = max(res, cnt)\n",
    "\n",
    "    return res\n",
    "\n",
    "\n",
    "f([[0, 0, 1, 0, 0, 0, 0, 1, 0, 0, 0, 0, 0], [0, 0, 0, 0, 0, 0, 0, 1, 1, 1, 0, 0, 0],\n",
    "   [0, 1, 1, 0, 1, 0, 0, 0, 0, 0, 0, 0, 0], [0, 1, 0, 0, 1, 1, 0, 0, 1, 0, 1, 0, 0],\n",
    "   [0, 1, 0, 0, 1, 1, 0, 0, 1, 1, 1, 0, 0], [0, 0, 0, 0, 0, 0, 0, 0, 0, 0, 1, 0, 0],\n",
    "   [0, 0, 0, 0, 0, 0, 0, 1, 1, 1, 0, 0, 0], [0, 0, 0, 0, 0, 0, 0, 1, 1, 0, 0, 0, 0]])\n",
    "f([[1, 1, 0, 0, 0], [1, 1, 0, 0, 0], [0, 0, 0, 1, 1], [0, 0, 0, 1, 1]])"
   ]
  },
  {
   "cell_type": "code",
   "execution_count": null,
   "metadata": {},
   "outputs": [],
   "source": []
  }
 ],
 "metadata": {
  "interpreter": {
   "hash": "004de6046f1b3d314f33fdb43a2dc798b2646e5600efd8df5066c8b63a00ff6d"
  },
  "kernelspec": {
   "display_name": "Python 3.8.10 64-bit",
   "language": "python",
   "name": "python3"
  },
  "language_info": {
   "codemirror_mode": {
    "name": "ipython",
    "version": 3
   },
   "file_extension": ".py",
   "mimetype": "text/x-python",
   "name": "python",
   "nbconvert_exporter": "python",
   "pygments_lexer": "ipython3",
   "version": "3.8.10"
  },
  "orig_nbformat": 4
 },
 "nbformat": 4,
 "nbformat_minor": 2
}
