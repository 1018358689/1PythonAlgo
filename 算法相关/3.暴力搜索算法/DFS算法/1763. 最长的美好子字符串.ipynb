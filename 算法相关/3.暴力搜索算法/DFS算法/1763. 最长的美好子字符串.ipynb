{
 "cells": [
  {
   "cell_type": "code",
   "execution_count": 3,
   "metadata": {},
   "outputs": [
    {
     "data": {
      "text/plain": [
       "'abc'"
      ]
     },
     "execution_count": 3,
     "metadata": {},
     "output_type": "execute_result"
    }
   ],
   "source": [
    "max('abc','ab',key=len)"
   ]
  },
  {
   "cell_type": "code",
   "execution_count": null,
   "metadata": {},
   "outputs": [],
   "source": [
    "def f(s: str):\n",
    "    # 返回最长的美好子字符串 优先左边\n",
    "    def dfs(s: str):\n",
    "        if len(s) < 2:\n",
    "            return ''\n",
    "        for i, n in enumerate(s):\n",
    "            if (n.islower() and n.upper() not in s) or (n.isupper() and n.lower() not in s):\n",
    "                sub_problem = max(dfs(s[:i]), dfs(s[i + 1:]), key=len)\n",
    "                return sub_problem\n",
    "        return s\n",
    "\n",
    "    return dfs(s)"
   ]
  }
 ],
 "metadata": {
  "interpreter": {
   "hash": "aee8b7b246df8f9039afb4144a1f6fd8d2ca17a180786b69acc140d282b71a49"
  },
  "kernelspec": {
   "display_name": "Python 3.8.10 64-bit",
   "language": "python",
   "name": "python3"
  },
  "language_info": {
   "codemirror_mode": {
    "name": "ipython",
    "version": 3
   },
   "file_extension": ".py",
   "mimetype": "text/x-python",
   "name": "python",
   "nbconvert_exporter": "python",
   "pygments_lexer": "ipython3",
   "version": "3.8.10"
  },
  "orig_nbformat": 4
 },
 "nbformat": 4,
 "nbformat_minor": 2
}
