{
 "cells": [
  {
   "cell_type": "code",
   "execution_count": 3,
   "metadata": {},
   "outputs": [
    {
     "data": {
      "text/plain": [
       "True"
      ]
     },
     "execution_count": 3,
     "metadata": {},
     "output_type": "execute_result"
    }
   ],
   "source": [
    "import collections\n",
    "\n",
    "\n",
    "def f(arr: list, start: int):\n",
    "    sz = len(arr)\n",
    "    q = collections.deque([start])\n",
    "    vis = set()\n",
    "    while q:\n",
    "        cur = q.popleft()\n",
    "        content = arr[cur]\n",
    "        if content == 0:\n",
    "            return True\n",
    "        vis.add(cur)\n",
    "        for nei in (cur + content, cur - content):\n",
    "            if 0 <= nei < sz and nei not in vis:\n",
    "                q.append(nei)\n",
    "    return False\n",
    "\n",
    "\n",
    "f([4, 2, 3, 0, 3, 1, 2], 5)\n"
   ]
  }
 ],
 "metadata": {
  "interpreter": {
   "hash": "aee8b7b246df8f9039afb4144a1f6fd8d2ca17a180786b69acc140d282b71a49"
  },
  "kernelspec": {
   "display_name": "Python 3.10.1 64-bit",
   "language": "python",
   "name": "python3"
  },
  "language_info": {
   "codemirror_mode": {
    "name": "ipython",
    "version": 3
   },
   "file_extension": ".py",
   "mimetype": "text/x-python",
   "name": "python",
   "nbconvert_exporter": "python",
   "pygments_lexer": "ipython3",
   "version": "3.10.1"
  },
  "orig_nbformat": 4
 },
 "nbformat": 4,
 "nbformat_minor": 2
}
