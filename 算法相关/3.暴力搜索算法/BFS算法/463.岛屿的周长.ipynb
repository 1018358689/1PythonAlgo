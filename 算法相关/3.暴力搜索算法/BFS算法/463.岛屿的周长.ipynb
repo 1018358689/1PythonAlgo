{
 "cells": [
  {
   "cell_type": "code",
   "execution_count": 4,
   "metadata": {},
   "outputs": [
    {
     "data": {
      "text/plain": [
       "16"
      ]
     },
     "execution_count": 4,
     "metadata": {},
     "output_type": "execute_result"
    }
   ],
   "source": [
    "import collections\n",
    "\n",
    "\n",
    "def f(grid: list):\n",
    "    rows, cols = len(grid), len(grid[0])\n",
    "    res = 0\n",
    "\n",
    "    def bfs(grid, r, c):\n",
    "        nonlocal res\n",
    "        q = collections.deque([(r, c)])\n",
    "        while q:\n",
    "            sz = len(q)\n",
    "            for _ in range(sz):\n",
    "                r, c = q.popleft()\n",
    "                if r < 0 or r > rows - 1 or c < 0 or c > cols - 1 or grid[r][c] == 0:\n",
    "                    res += 1\n",
    "                    continue\n",
    "                if grid[r][c] == 2:\n",
    "                    continue\n",
    "                grid[r][c] = 2\n",
    "                for nr, nc in ((r - 1, c), (r + 1, c), (r, c - 1), (r, c + 1)):\n",
    "                    q.append((nr, nc))\n",
    "\n",
    "    for r in range(rows):\n",
    "        for c in range(cols):\n",
    "            if grid[r][c] == 1:\n",
    "                bfs(grid, r, c)\n",
    "                break\n",
    "    return res\n",
    "\n",
    "\n",
    "f([[0, 1, 0, 0], [1, 1, 1, 0], [0, 1, 0, 0], [1, 1, 0, 0]])\n"
   ]
  },
  {
   "cell_type": "code",
   "execution_count": null,
   "metadata": {},
   "outputs": [],
   "source": []
  }
 ],
 "metadata": {
  "interpreter": {
   "hash": "aee8b7b246df8f9039afb4144a1f6fd8d2ca17a180786b69acc140d282b71a49"
  },
  "kernelspec": {
   "display_name": "Python 3.10.1 64-bit",
   "language": "python",
   "name": "python3"
  },
  "language_info": {
   "codemirror_mode": {
    "name": "ipython",
    "version": 3
   },
   "file_extension": ".py",
   "mimetype": "text/x-python",
   "name": "python",
   "nbconvert_exporter": "python",
   "pygments_lexer": "ipython3",
   "version": "3.10.1"
  },
  "orig_nbformat": 4
 },
 "nbformat": 4,
 "nbformat_minor": 2
}
