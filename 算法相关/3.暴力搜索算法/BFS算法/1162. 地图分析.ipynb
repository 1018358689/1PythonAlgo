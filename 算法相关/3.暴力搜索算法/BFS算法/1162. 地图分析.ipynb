{
 "cells": [
  {
   "cell_type": "markdown",
   "metadata": {},
   "source": [
    "你现在手里有一份大小为 N x N 的 网格 grid，上面的每个 单元格 都用 0 和 1 标记好了。其中 0 代表海洋，1 代表陆地，请你找出一个海洋单元格，这个海洋单元格到离它最近的陆地单元格的距离是最大的。\n",
    "\n",
    "我们这里说的距离是「曼哈顿距离」（ Manhattan Distance）：(x0, y0) 和 (x1, y1) 这两个单元格之间的距离是 |x0 - x1| + |y0 - y1| 。\n",
    "\n",
    "如果网格上只有陆地或者海洋，请返回 -1。\n",
    "\n",
    "示例 1：\n",
    "输入：[[1,0,1],[0,0,0],[1,0,1]]\n",
    "输出：2\n",
    "解释： \n",
    "海洋单元格 (1, 1) 和所有陆地单元格之间的距离都达到最大，最大距离为 2。\n",
    "\n",
    "示例 2：\n",
    "输入：[[1,0,0],[0,0,0],[0,0,0]]\n",
    "输出：4\n",
    "解释： \n",
    "海洋单元格 (2, 2) 和所有陆地单元格之间的距离都达到最大，最大距离为 4。\n",
    " \n",
    "\n",
    "提示：\n",
    "\n",
    "1 <= grid.length == grid[0].length <= 100\n",
    "grid[i][j] 不是 0 就是 1"
   ]
  },
  {
   "cell_type": "code",
   "execution_count": 21,
   "metadata": {},
   "outputs": [
    {
     "data": {
      "text/plain": [
       "(2, 4)"
      ]
     },
     "execution_count": 21,
     "metadata": {},
     "output_type": "execute_result"
    }
   ],
   "source": [
    "import collections\n",
    "\n",
    "\n",
    "def f(grid: list):\n",
    "    rows = len(grid)\n",
    "    cols = len(grid[0])\n",
    "    tmp = grid[:]\n",
    "    for r in range(len(tmp) - 1, -1, -1):\n",
    "        tmp[r:r + 1] = tmp[r]\n",
    "    if not any(tmp) or all(tmp):\n",
    "        return -1\n",
    "\n",
    "    q = collections.deque([])\n",
    "    for r in range(rows):\n",
    "        for c in range(cols):\n",
    "            if grid[r][c] == 1:\n",
    "                q.append((r, c))\n",
    "\n",
    "    res = 0\n",
    "    visited = set(q)\n",
    "    while q:\n",
    "        sz = len(q)\n",
    "        for _ in range(sz):\n",
    "            r, c = q.popleft()\n",
    "            for nr, nc in ((r - 1, c), (r + 1, c), (r, c - 1), (r, c + 1)):\n",
    "                if nr < 0 or nr > rows - 1 or nc < 0 or nc > cols - 1:\n",
    "                    continue\n",
    "                if (nr, nc) in visited:\n",
    "                    continue\n",
    "                visited.add((nr, nc))\n",
    "                q.append((nr, nc))\n",
    "        res += 1\n",
    "    return res - 1\n",
    "\n",
    "\n",
    "f([[1, 0, 1], [0, 0, 0], [1, 0, 1]]), f([[1, 0, 0], [0, 0, 0], [0, 0, 0]])\n"
   ]
  },
  {
   "cell_type": "code",
   "execution_count": 3,
   "metadata": {},
   "outputs": [
    {
     "data": {
      "text/plain": [
       "(2, 4)"
      ]
     },
     "execution_count": 3,
     "metadata": {},
     "output_type": "execute_result"
    }
   ],
   "source": [
    "import collections\n",
    "\n",
    "\n",
    "def f(grid: list):\n",
    "    rows = len(grid)\n",
    "    cols = len(grid[0])\n",
    "\n",
    "    q = collections.deque([])\n",
    "    for r in range(rows):\n",
    "        for c in range(cols):\n",
    "            if grid[r][c] == 1:\n",
    "                q.append((r, c))\n",
    "    if len(q) == 0 or len(q) == rows * cols:\n",
    "        return -1\n",
    "    res = 0\n",
    "    visited = set(q)\n",
    "    while q:\n",
    "        sz = len(q)\n",
    "        for _ in range(sz):\n",
    "            r, c = q.popleft()\n",
    "            for nr, nc in ((r - 1, c), (r + 1, c), (r, c - 1), (r, c + 1)):\n",
    "                if nr < 0 or nr > rows - 1 or nc < 0 or nc > cols - 1:\n",
    "                    continue\n",
    "                if (nr, nc) in visited:\n",
    "                    continue\n",
    "                visited.add((nr, nc))\n",
    "                q.append((nr, nc))\n",
    "        res += 1\n",
    "    return res - 1\n",
    "\n",
    "\n",
    "f([[1, 0, 1], [0, 0, 0], [1, 0, 1]]), f([[1, 0, 0], [0, 0, 0], [0, 0, 0]])\n"
   ]
  },
  {
   "cell_type": "code",
   "execution_count": null,
   "metadata": {},
   "outputs": [],
   "source": [
    "class Solution:\n",
    "    def maxDistance(self, grid: List[List[int]]) -> int:\n",
    "        rows = len(grid)\n",
    "        cols = len(grid[0])\n",
    "        q = collections.deque([])\n",
    "        for r in range(rows):\n",
    "            for c in range(cols):\n",
    "                if grid[r][c]==1:\n",
    "                    q.append((r,c))\n",
    "        if len(q)==0 or len(q)==rows*cols:\n",
    "            return -1\n",
    "        md = 0\n",
    "        while q:\n",
    "            sz = len(q)\n",
    "            for _ in range(sz):\n",
    "                r,c=q.popleft()\n",
    "                for nr,nc in ((r-1,c),(r+1,c),(r,c-1),(r,c+1)):\n",
    "                    if 0<=nr<rows and 0<=nc<cols and grid[nr][nc]==0:\n",
    "                        grid[nr][nc]=1\n",
    "                        q.append((nr,nc))\n",
    "            md+=1\n",
    "        return md-1"
   ]
  },
  {
   "cell_type": "code",
   "execution_count": null,
   "metadata": {},
   "outputs": [],
   "source": [
    "class Solution:\n",
    "    def maxDistance(self, grid: List[List[int]]) -> int:\n",
    "        rows = len(grid)\n",
    "        cols = len(grid[0])\n",
    "        q = collections.deque([])\n",
    "        for r in range(rows):\n",
    "            for c in range(cols):\n",
    "                if grid[r][c]==1:\n",
    "                    grid[r][c]=0\n",
    "                    q.append((r,c))\n",
    "        if len(q)==0 or len(q)==rows*cols:\n",
    "            return -1\n",
    "        md = -1\n",
    "        while q:\n",
    "            sz = len(q)\n",
    "            for _ in range(sz):\n",
    "                r,c=q.popleft()\n",
    "                if 0<=r<rows and 0<=c<cols and grid[r][c]==0:\n",
    "                    grid[r][c]=1\n",
    "                    for nr,nc in ((r-1,c),(r+1,c),(r,c-1),(r,c+1)):\n",
    "                        q.append((nr,nc))\n",
    "            md+=1\n",
    "        return md-1"
   ]
  }
 ],
 "metadata": {
  "interpreter": {
   "hash": "004de6046f1b3d314f33fdb43a2dc798b2646e5600efd8df5066c8b63a00ff6d"
  },
  "kernelspec": {
   "display_name": "Python 3.8.10 64-bit",
   "language": "python",
   "name": "python3"
  },
  "language_info": {
   "codemirror_mode": {
    "name": "ipython",
    "version": 3
   },
   "file_extension": ".py",
   "mimetype": "text/x-python",
   "name": "python",
   "nbconvert_exporter": "python",
   "pygments_lexer": "ipython3",
   "version": "3.8.10"
  },
  "orig_nbformat": 4
 },
 "nbformat": 4,
 "nbformat_minor": 2
}
