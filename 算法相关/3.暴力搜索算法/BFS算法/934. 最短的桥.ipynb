{
 "cells": [
  {
   "cell_type": "code",
   "execution_count": 5,
   "metadata": {},
   "outputs": [
    {
     "data": {
      "text/plain": [
       "1"
      ]
     },
     "execution_count": 5,
     "metadata": {},
     "output_type": "execute_result"
    }
   ],
   "source": [
    "import collections\n",
    "from pprint import pprint\n",
    "\n",
    "\n",
    "def f(grid: list):\n",
    "    rows, cols = len(grid), len(grid[0])\n",
    "    q = collections.deque([])\n",
    "\n",
    "    def dfs(r: int, c: int):\n",
    "        if r < 0 or r > rows - 1 or c < 0 or c > cols - 1 or grid[r][c] == 0 or grid[r][c] == 2:\n",
    "            return\n",
    "        grid[r][c] = 2\n",
    "        q.append((r, c))\n",
    "        dfs(r - 1, c)\n",
    "        dfs(r + 1, c)\n",
    "        dfs(r, c - 1)\n",
    "        dfs(r, c + 1)\n",
    "\n",
    "    for r in range(rows):\n",
    "        for c in range(cols):\n",
    "            if grid[r][c] == 1: # 发现第一个1 就dfs把周边1全变2\n",
    "                dfs(r, c)\n",
    "                break\n",
    "        else:\n",
    "            continue\n",
    "        break\n",
    "\n",
    "    # print(q)\n",
    "    # pprint(grid)\n",
    "    step = 0\n",
    "    while q:\n",
    "        sz = len(q)\n",
    "        for _ in range(sz):\n",
    "            r, c = q.popleft()\n",
    "            # 启动bfs\n",
    "            for nr, nc in ((r - 1, c), (r + 1, c), (r, c - 1), (r, c + 1)):\n",
    "                if nr < 0 or nr > rows - 1 or nc < 0 or nc > cols - 1 or grid[nr][nc] == 2:\n",
    "                    continue\n",
    "                if grid[nr][nc] == 1:\n",
    "                    return step\n",
    "                grid[nr][nc] = 2\n",
    "                q.append((nr, nc))\n",
    "        step += 1\n",
    "    return step\n",
    "\n",
    "\n",
    "# f([[0,1],[1,0]])\n",
    "# f([[0,1,0],[0,0,0],[0,0,1]])\n",
    "f([[1, 1, 1, 1, 1], [1, 0, 0, 0, 1], [1, 0, 1, 0, 1], [1, 0, 0, 0, 1], [1, 1, 1, 1, 1]])\n"
   ]
  },
  {
   "cell_type": "code",
   "execution_count": 20,
   "metadata": {},
   "outputs": [
    {
     "data": {
      "text/plain": [
       "2"
      ]
     },
     "execution_count": 20,
     "metadata": {},
     "output_type": "execute_result"
    }
   ],
   "source": [
    "import collections\n",
    "from pprint import pprint\n",
    "# 并查集找第一个岛 最后超时\n",
    "\n",
    "def f(grid: list):\n",
    "    rows, cols = len(grid), len(grid[0])\n",
    "    count = rows * cols\n",
    "    root = list(range(count))\n",
    "    rank = [1] * count\n",
    "\n",
    "    def find(x):\n",
    "        if root[x] == x:\n",
    "            return root[x]\n",
    "        else:\n",
    "            root[x] = find(root[x])\n",
    "            return root[x]\n",
    "\n",
    "    def union(x, y):\n",
    "        rx, ry = find(x), find(y)\n",
    "        if rx != ry:\n",
    "            if rank[rx] < rank[ry]:\n",
    "                root[rx] = ry\n",
    "            elif rank[ry] < rank[rx]:\n",
    "                root[ry] = rx\n",
    "            else:\n",
    "                root[rx] = ry\n",
    "                rank[ry] += 1\n",
    "\n",
    "    for r in range(rows):\n",
    "        for c in range(cols):\n",
    "            if grid[r][c] == 1:\n",
    "                for nr, nc in ((r - 1, c), (r + 1, c), (r, c - 1), (r, c + 1)):\n",
    "                    if 0 <= nr < rows and 0 <= nc < cols and grid[nr][nc] == 1:\n",
    "                        union(nr * cols + nc, r * cols + c)\n",
    "    q = collections.deque([])\n",
    "    for r in range(rows):\n",
    "        for c in range(cols):\n",
    "            if grid[r][c] == 1:\n",
    "                tmp = r * cols + c\n",
    "                break\n",
    "        else:\n",
    "            continue\n",
    "        break\n",
    "\n",
    "    for r in range(rows):\n",
    "        for c in range(cols):\n",
    "            if find(r * cols + c) == find(tmp):\n",
    "                q.append((r, c))\n",
    "    step = 0\n",
    "    visited = set(q)\n",
    "    while q:\n",
    "        sz = len(q)\n",
    "        for _ in range(sz):\n",
    "            r, c = q.popleft()\n",
    "            for nr, nc in ((r - 1, c), (r + 1, c), (r, c - 1), (r, c + 1)):\n",
    "                if 0 <= nr < rows and 0 <= nc < cols and (nr, nc) not in visited:\n",
    "                    if grid[nr][nc] == 0:\n",
    "                        q.append((nr, nc))\n",
    "                    elif grid[nr][nc] == 1:\n",
    "                        return step\n",
    "        step += 1\n",
    "\n",
    "\n",
    "f([[0, 1, 0], [0, 0, 0], [0, 0, 1]])\n",
    "# f([[1,1,1,1,1],[1,0,0,0,1],[1,0,1,0,1],[1,0,0,0,1],[1,1,1,1,1]])"
   ]
  },
  {
   "cell_type": "code",
   "execution_count": 7,
   "metadata": {},
   "outputs": [
    {
     "name": "stdout",
     "output_type": "stream",
     "text": [
      "[0, 36, 8, 8, 8, 36, 36, 8, 8, 8, 36, 36, 8, 8, 8, 36, 36, 36, 36, 8, 36, 36, 36, 36, 36, 36, 36, 36, 36, 36, 36, 36, 36, 36, 36, 36, 36]\n",
      "{0, 8, 36}\n",
      "(0, 8)\n"
     ]
    },
    {
     "data": {
      "text/plain": [
       "1"
      ]
     },
     "execution_count": 7,
     "metadata": {},
     "output_type": "execute_result"
    }
   ],
   "source": [
    "import collections\n",
    "from pprint import pprint\n",
    "# 并查集找第一个岛 最后超时\n",
    "\n",
    "\n",
    "def f(grid: list):\n",
    "    rows, cols = len(grid), len(grid[0])\n",
    "    count = rows * cols + 1\n",
    "    root = list(range(count))\n",
    "    rank = [1] * count\n",
    "\n",
    "    def find(x):\n",
    "        if root[x] == x:\n",
    "            return root[x]\n",
    "        else:\n",
    "            root[x] = find(root[x])\n",
    "            return root[x]\n",
    "\n",
    "    def union(x, y):\n",
    "        rx, ry = find(x), find(y)\n",
    "        if rx != ry:\n",
    "            if rank[rx] < rank[ry]:\n",
    "                root[rx] = ry\n",
    "            elif rank[ry] < rank[rx]:\n",
    "                root[ry] = rx\n",
    "            else:\n",
    "                root[rx] = ry\n",
    "                rank[ry] += 1\n",
    "\n",
    "    # pprint(grid)\n",
    "    for r in range(rows):\n",
    "        for c in range(cols):\n",
    "            if grid[r][c] == 1:\n",
    "                for nr, nc in ((r + 1, c), (r, c + 1)):  # 下上左右\n",
    "                    if 0 <= nr < rows and 0 <= nc < cols and grid[nr][nc] == 1:\n",
    "                        union(r * cols + c, nr * cols + nc)\n",
    "            else:\n",
    "                union(r * cols + c, rows * cols)\n",
    "    for r in range(rows):\n",
    "        for c in range(cols):\n",
    "            find(r * cols + c) # 保证指向根\n",
    "    print(root)\n",
    "    print(set(root))\n",
    "    rtmp = tuple(set(root) - {rows * cols})\n",
    "    print(rtmp)\n",
    "    q1, q2 = [], []\n",
    "    for r in range(rows):\n",
    "        for c in range(cols):\n",
    "            cur_root = find(r * cols + c)\n",
    "            if cur_root == rtmp[0]:\n",
    "                q1.append((r, c))\n",
    "            elif cur_root == rtmp[1]:\n",
    "                q2.append((r, c))\n",
    "    # print(q1, q2)\n",
    "    res = float('inf')\n",
    "    for r1, c1 in q1:\n",
    "        for r2, c2 in q2:\n",
    "            md = abs(r1 - r2) + abs(c1 - c2)\n",
    "            res = min(res, md)\n",
    "    return res - 1\n",
    "\n",
    "\n",
    "# f([[0, 1, 0], [0, 0, 0], [0, 0, 1]])\n",
    "# f([[1, 1, 1, 1, 1], [1, 0, 0, 0, 1], [1, 0, 1, 0, 1], [1, 0, 0, 0, 1], [1, 1, 1, 1, 1]])\n",
    "f([[1, 0, 1, 1, 1, 0], [0, 1, 1, 1, 0, 0], [1, 1, 1, 0, 0, 0], [0, 1, 0, 0, 0, 0], [0, 0, 0, 0, 0, 0],\n",
    "   [0, 0, 0, 0, 0, 0]])\n",
    "# f([[0, 0, 0, 1, 0, 0, 0, 1], [0, 0, 0, 1, 1, 0, 1, 1], [0, 1, 1, 1, 0, 0, 1, 1], [0, 0, 0, 0, 0, 0, 0, 0],\n",
    "#    [0, 0, 0, 0, 0, 0, 0, 0], [0, 0, 0, 0, 0, 0, 0, 0], [0, 0, 0, 0, 0, 0, 0, 0], [0, 0, 0, 0, 0, 0, 0, 0]])\n"
   ]
  },
  {
   "cell_type": "code",
   "execution_count": 21,
   "metadata": {},
   "outputs": [
    {
     "name": "stdout",
     "output_type": "stream",
     "text": [
      "[[1, 0, 1, 1, 1, 0],\n",
      " [0, 1, 1, 1, 0, 0],\n",
      " [1, 1, 1, 0, 0, 0],\n",
      " [0, 1, 0, 0, 0, 0],\n",
      " [0, 0, 0, 0, 0, 0],\n",
      " [0, 0, 0, 0, 0, 0]]\n"
     ]
    }
   ],
   "source": [
    "pprint([[1,0,1,1,1,0],[0,1,1,1,0,0],[1,1,1,0,0,0],[0,1,0,0,0,0],[0,0,0,0,0,0],[0,0,0,0,0,0]])"
   ]
  },
  {
   "cell_type": "code",
   "execution_count": 47,
   "metadata": {},
   "outputs": [
    {
     "name": "stdout",
     "output_type": "stream",
     "text": [
      "[[0, 0, 0, 1, 0, 0, 0, 1],\n",
      " [0, 0, 0, 1, 1, 0, 1, 1],\n",
      " [0, 1, 1, 1, 0, 0, 1, 1],\n",
      " [0, 0, 0, 0, 0, 0, 0, 0],\n",
      " [0, 0, 0, 0, 0, 0, 0, 0],\n",
      " [0, 0, 0, 0, 0, 0, 0, 0],\n",
      " [0, 0, 0, 0, 0, 0, 0, 0],\n",
      " [0, 0, 0, 0, 0, 0, 0, 0]]\n"
     ]
    }
   ],
   "source": [
    "pprint([[0,0,0,1,0,0,0,1],[0,0,0,1,1,0,1,1],[0,1,1,1,0,0,1,1],[0,0,0,0,0,0,0,0],[0,0,0,0,0,0,0,0],[0,0,0,0,0,0,0,0],[0,0,0,0,0,0,0,0],[0,0,0,0,0,0,0,0]])"
   ]
  },
  {
   "cell_type": "code",
   "execution_count": null,
   "metadata": {},
   "outputs": [],
   "source": []
  }
 ],
 "metadata": {
  "interpreter": {
   "hash": "aee8b7b246df8f9039afb4144a1f6fd8d2ca17a180786b69acc140d282b71a49"
  },
  "kernelspec": {
   "display_name": "Python 3.10.1 64-bit",
   "language": "python",
   "name": "python3"
  },
  "language_info": {
   "codemirror_mode": {
    "name": "ipython",
    "version": 3
   },
   "file_extension": ".py",
   "mimetype": "text/x-python",
   "name": "python",
   "nbconvert_exporter": "python",
   "pygments_lexer": "ipython3",
   "version": "3.8.10"
  },
  "orig_nbformat": 4
 },
 "nbformat": 4,
 "nbformat_minor": 2
}
