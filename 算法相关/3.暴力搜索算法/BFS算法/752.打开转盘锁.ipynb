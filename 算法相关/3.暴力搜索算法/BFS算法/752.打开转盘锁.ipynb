{
 "cells": [
  {
   "cell_type": "markdown",
   "metadata": {},
   "source": [
    "你有一个带有四个圆形拨轮的转盘锁。每个拨轮都有10个数字： '0', '1', '2', '3', '4', '5', '6', '7', '8', '9' 。每个拨轮可以自由旋转：例如把 '9' 变为 '0'，'0' 变为 '9' 。每次旋转都只能旋转一个拨轮的一位数字。\n",
    "锁的初始数字为 '0000' ，一个代表四个拨轮的数字的字符串。\n",
    "列表 deadends 包含了一组死亡数字，一旦拨轮的数字和列表里的任何一个元素相同，这个锁将会被永久锁定，无法再被旋转。\n",
    "字符串 target 代表可以解锁的数字，你需要给出解锁需要的最小旋转次数，如果无论如何不能解锁，返回 -1 。\n",
    "\n",
    "\n",
    "示例 1:\n",
    "输入：deadends = [\"0201\",\"0101\",\"0102\",\"1212\",\"2002\"], target = \"0202\"\n",
    "输出：6\n",
    "解释：\n",
    "可能的移动序列为 \"0000\" -> \"1000\" -> \"1100\" -> \"1200\" -> \"1201\" -> \"1202\" -> \"0202\"。\n",
    "注意 \"0000\" -> \"0001\" -> \"0002\" -> \"0102\" -> \"0202\" 这样的序列是不能解锁的，\n",
    "因为当拨动到 \"0102\" 时这个锁就会被锁定。\n",
    "\n",
    "示例 2:\n",
    "输入: deadends = [\"8888\"], target = \"0009\"\n",
    "输出：1\n",
    "解释：\n",
    "把最后一位反向旋转一次即可 \"0000\" -> \"0009\"。\n",
    "\n",
    "示例 3:\n",
    "输入: deadends = [\"8887\",\"8889\",\"8878\",\"8898\",\"8788\",\"8988\",\"7888\",\"9888\"], target = \"8888\"\n",
    "输出：-1\n",
    "解释：\n",
    "无法旋转到目标数字且不被锁定。\n",
    "\n",
    "示例 4:\n",
    "输入: deadends = [\"0000\"], target = \"8888\"\n",
    "输出：-1\n",
    " \n",
    "提示：\n",
    "\n",
    "1 <= deadends.length <= 500\n",
    "deadends[i].length == 4\n",
    "target.length == 4\n",
    "target 不在 deadends 之中\n",
    "target 和 deadends[i] 仅由若干位数字组成"
   ]
  },
  {
   "cell_type": "code",
   "execution_count": 4,
   "metadata": {},
   "outputs": [
    {
     "data": {
      "text/plain": [
       "'1134'"
      ]
     },
     "execution_count": 4,
     "metadata": {},
     "output_type": "execute_result"
    }
   ],
   "source": [
    "def up(s: str, i: int):\n",
    "    s = list(map(int, s))\n",
    "    if s[i] == 9:\n",
    "        s[i] = 0\n",
    "    else:\n",
    "        s[i] += 1\n",
    "    return ''.join(map(str, s))\n",
    "\n",
    "\n",
    "s = '1034'\n",
    "up(s, 1)\n"
   ]
  },
  {
   "cell_type": "code",
   "execution_count": 17,
   "metadata": {},
   "outputs": [
    {
     "data": {
      "text/plain": [
       "6"
      ]
     },
     "execution_count": 17,
     "metadata": {},
     "output_type": "execute_result"
    }
   ],
   "source": [
    "from collections import deque\n",
    "\n",
    "\n",
    "def f(deadends: list, target: str):\n",
    "    def up(s: str, i: int):\n",
    "        s = list(map(int, s))\n",
    "        if s[i] == 9:\n",
    "            s[i] = 0\n",
    "        else:\n",
    "            s[i] += 1\n",
    "        return ''.join(map(str, s))\n",
    "\n",
    "    def down(s: str, i: int):\n",
    "        s = list(map(int, s))\n",
    "        if s[i] == 0:\n",
    "            s[i] = 9\n",
    "        else:\n",
    "            s[i] -= 1\n",
    "        return ''.join(map(str, s))\n",
    "\n",
    "    visited = set(deadends)\n",
    "    visited.add('0000')\n",
    "    queue = deque(['0000'])\n",
    "    res = 0\n",
    "    while queue:\n",
    "        sz = len(queue)\n",
    "        # 将当前队列中的所有节点向周围扩散\n",
    "        for _ in range(sz):\n",
    "            cur = queue.popleft()\n",
    "            if cur in deadends:  # 拨轮如果是死亡数字就跳过 \n",
    "                continue\n",
    "            if cur == target: # 把0000是目标值考虑到了 把0000是死亡数字也考虑到了\n",
    "                return res\n",
    "            for i in range(4): # 将一个节点的未遍历相邻节点加入队列\n",
    "                up_num = up(cur, i)\n",
    "                if up_num not in visited:  # 拨轮保证不重复\n",
    "                    visited.add(up_num)\n",
    "                    queue.append(up_num)\n",
    "            for i in range(4):\n",
    "                down_num = down(cur, i)\n",
    "                if down_num not in visited:\n",
    "                    visited.add(down_num)\n",
    "                    queue.append(down_num)\n",
    "        res += 1\n",
    "    return -1\n",
    "\n",
    "\n",
    "f([\"0201\", \"0101\", \"0102\", \"1212\", \"2002\"], '0202')\n"
   ]
  },
  {
   "cell_type": "code",
   "execution_count": 16,
   "metadata": {},
   "outputs": [
    {
     "data": {
      "text/plain": [
       "6"
      ]
     },
     "execution_count": 16,
     "metadata": {},
     "output_type": "execute_result"
    }
   ],
   "source": [
    "from collections import deque\n",
    "\n",
    "\n",
    "def f(deadends: list, target: str):\n",
    "    def up(s: str, i: int):\n",
    "        s = list(map(int, s))\n",
    "        if s[i] == 9:\n",
    "            s[i] = 0\n",
    "        else:\n",
    "            s[i] += 1\n",
    "        return ''.join(map(str, s))\n",
    "\n",
    "    def down(s: str, i: int):\n",
    "        s = list(map(int, s))\n",
    "        if s[i] == 0:\n",
    "            s[i] = 9\n",
    "        else:\n",
    "            s[i] -= 1\n",
    "        return ''.join(map(str, s))\n",
    "\n",
    "    if '0000' in deadends:  # 提前判断 因为拨轮时候才判断死亡数字 就会把起始的0000忽略\n",
    "        return -1\n",
    "    deadends = set(deadends)\n",
    "    visited = set()\n",
    "    visited.add('0000')\n",
    "    queue = deque(['0000'])\n",
    "    res = 0\n",
    "    while queue:\n",
    "        sz = len(queue)\n",
    "        for _ in range(sz):\n",
    "            cur = queue.popleft()\n",
    "            if cur == target:  # 检查当前轮子的值 返回当前轮子的拨次\n",
    "                return res\n",
    "            for i in range(4):  # 开始拨轮\n",
    "                up_num = up(cur, i)\n",
    "                if up_num not in visited and up_num not in deadends:  # 拨轮保证不重复和不出现死亡数字\n",
    "                    visited.add(up_num)\n",
    "                    queue.append(up_num)\n",
    "            for i in range(4):\n",
    "                down_num = down(cur, i)\n",
    "                if down_num not in visited and down_num not in deadends:\n",
    "                    visited.add(down_num)\n",
    "                    queue.append(down_num)\n",
    "        res += 1  # 转好其中一个拨轮\n",
    "    return -1\n",
    "\n",
    "\n",
    "f([\"0201\", \"0101\", \"0102\", \"1212\", \"2002\"], '0202')\n"
   ]
  },
  {
   "cell_type": "code",
   "execution_count": 20,
   "metadata": {},
   "outputs": [
    {
     "data": {
      "text/plain": [
       "6"
      ]
     },
     "execution_count": 20,
     "metadata": {},
     "output_type": "execute_result"
    }
   ],
   "source": [
    "from collections import deque\n",
    "\n",
    "\n",
    "def f(deadends: list, target: str):\n",
    "    def up(s: str, i: int):\n",
    "        s = list(map(int, s))\n",
    "        if s[i] == 9:\n",
    "            s[i] = 0\n",
    "        else:\n",
    "            s[i] += 1\n",
    "        return ''.join(map(str, s))\n",
    "\n",
    "    def down(s: str, i: int):\n",
    "        s = list(map(int, s))\n",
    "        if s[i] == 0:\n",
    "            s[i] = 9\n",
    "        else:\n",
    "            s[i] -= 1\n",
    "        return ''.join(map(str, s))\n",
    "\n",
    "    if target == '0000':  # 提前判断 因为0000判断不到\n",
    "        return 0\n",
    "    visited = set(deadends)\n",
    "    visited.add('0000')\n",
    "    queue = deque(['0000'])\n",
    "    res = 0\n",
    "    while queue:\n",
    "        sz = len(queue)\n",
    "        res += 1\n",
    "        for _ in range(sz):\n",
    "            cur = queue.popleft()\n",
    "            if cur in deadends:  # 拨轮如果是死亡数字就跳过\n",
    "                continue\n",
    "            for i in range(4):\n",
    "                up_num = up(cur, i)\n",
    "                if up_num not in visited:  # 拨轮保证不重复\n",
    "                    if up_num == target:  # 边拨轮变判断\n",
    "                        return res\n",
    "                    visited.add(up_num)\n",
    "                    queue.append(up_num)\n",
    "            for i in range(4):\n",
    "                down_num = down(cur, i)\n",
    "                if down_num not in visited:\n",
    "                    if down_num == target:\n",
    "                        return res\n",
    "                    visited.add(down_num)\n",
    "                    queue.append(down_num)\n",
    "\n",
    "    return -1\n",
    "\n",
    "\n",
    "f([\"0201\", \"0101\", \"0102\", \"1212\", \"2002\"], '0202')\n"
   ]
  },
  {
   "cell_type": "code",
   "execution_count": 5,
   "metadata": {},
   "outputs": [
    {
     "data": {
      "text/plain": [
       "[[0, 2, 0, 1], [0, 1, 0, 1], [0, 1, 0, 2], [1, 2, 1, 2], [2, 0, 0, 2]]"
      ]
     },
     "execution_count": 5,
     "metadata": {},
     "output_type": "execute_result"
    }
   ],
   "source": [
    "deadends = [\"0201\", \"0101\", \"0102\", \"1212\", \"2002\"]\n",
    "s = \"0201\"\n",
    "[[int(j) for j in i] for i in deadends]"
   ]
  },
  {
   "cell_type": "code",
   "execution_count": 41,
   "metadata": {},
   "outputs": [
    {
     "data": {
      "text/plain": [
       "-1"
      ]
     },
     "execution_count": 41,
     "metadata": {},
     "output_type": "execute_result"
    }
   ],
   "source": [
    "# 两点最短距离 这题显然可以用A*算法 用距离目标最短距离+已走距离 作为cost\n",
    "# 用堆模拟优先队列\n",
    "import heapq\n",
    "\n",
    "\n",
    "def f(deadends: list, target: str):\n",
    "    if '0000' in deadends: return -1\n",
    "\n",
    "    deadends = [[int(j) for j in i] for i in deadends]\n",
    "    target = [int(i) for i in target]\n",
    "\n",
    "    def up(s: list, i: int):\n",
    "        s[i] = 0 if (x := s[i] + 1) == 10 else x\n",
    "        return s\n",
    "\n",
    "    def down(s: list, i: int):\n",
    "        s[i] = 9 if (x := s[i] - 1) == -1 else x\n",
    "        return s\n",
    "\n",
    "    def distance(s: list):\n",
    "        res = 0\n",
    "        for i, j in zip(s, target):\n",
    "            d = abs(i - j)\n",
    "            res += min(d, 10 - d)\n",
    "        return res\n",
    "\n",
    "    pq = []  # cost,step,state\n",
    "    heapq.heappush(pq, (0, 0, [0, 0, 0, 0]))\n",
    "    vis = set()\n",
    "    while pq:\n",
    "        cost, step, cur = heapq.heappop(pq)\n",
    "        if cur == target:\n",
    "            return step\n",
    "        vis.add(tuple(cur))\n",
    "        for i in range(4):\n",
    "            for nei in (up(cur[:], i), down(cur[:], i)):\n",
    "                if tuple(nei) not in vis and nei not in deadends:\n",
    "                    newcost = step + 1 + distance(nei)\n",
    "                    vis.add(tuple(nei))\n",
    "                    heapq.heappush(pq, (newcost, step + 1, nei))\n",
    "    return -1\n",
    "\n",
    "\n",
    "f([\"0201\", \"0101\", \"0102\", \"1212\", \"2002\"], '0202')\n",
    "f([\"0000\"], '0009')\n",
    "# f([\"8887\", \"8889\", \"8878\", \"8898\", \"8788\", \"8988\", \"7888\", \"9888\"], '8888')\n"
   ]
  },
  {
   "cell_type": "code",
   "execution_count": 45,
   "metadata": {},
   "outputs": [
    {
     "data": {
      "text/plain": [
       "6"
      ]
     },
     "execution_count": 45,
     "metadata": {},
     "output_type": "execute_result"
    }
   ],
   "source": [
    "# A*标准模板\n",
    "# 两点最短距离 这题显然可以用A*算法 用距离目标最短距离+已走距离 作为cost\n",
    "# 用堆模拟优先队列\n",
    "import heapq\n",
    "\n",
    "\n",
    "def f(deadends: list, target: str):\n",
    "    if '0000' in deadends: return -1\n",
    "\n",
    "    deadends = [[int(j) for j in i] for i in deadends]\n",
    "    target = [int(i) for i in target]\n",
    "\n",
    "    def up(s: list, i: int):\n",
    "        s[i] = 0 if (x := s[i] + 1) == 10 else x\n",
    "        return s\n",
    "\n",
    "    def down(s: list, i: int):\n",
    "        s[i] = 9 if (x := s[i] - 1) == -1 else x\n",
    "        return s\n",
    "\n",
    "    def distance(s: list):\n",
    "        res = 0\n",
    "        for i, j in zip(s, target):\n",
    "            d = abs(i - j)\n",
    "            res += min(d, 10 - d)\n",
    "        return res\n",
    "\n",
    "    pq = []  # pri,step,state\n",
    "    heapq.heappush(pq, (0, 0, [0, 0, 0, 0]))\n",
    "    best = set()\n",
    "    costs = {(0, 0, 0, 0): 0}\n",
    "    while pq:\n",
    "        pri, step, cur = heapq.heappop(pq)\n",
    "        if cur == target:\n",
    "            return step\n",
    "        best.add(tuple(cur))\n",
    "        for i in range(4):\n",
    "            for nei in (up(cur[:], i), down(cur[:], i)):\n",
    "                if tuple(nei) not in best and nei not in deadends:\n",
    "                    if tuple(nei) not in costs or step + 1 < costs[tuple(nei)]:\n",
    "                        costs[tuple(nei)] = step + 1\n",
    "                        priority = step + 1 + distance(nei)\n",
    "                        heapq.heappush(pq, (priority, step + 1, nei))\n",
    "    return -1\n",
    "\n",
    "\n",
    "f([\"0201\", \"0101\", \"0102\", \"1212\", \"2002\"], '0202')\n",
    "# f([\"0000\"], '0009')\n",
    "# f([\"8887\", \"8889\", \"8878\", \"8898\", \"8788\", \"8988\", \"7888\", \"9888\"], '8888')\n"
   ]
  },
  {
   "cell_type": "code",
   "execution_count": 46,
   "metadata": {},
   "outputs": [
    {
     "data": {
      "text/plain": [
       "6"
      ]
     },
     "execution_count": 46,
     "metadata": {},
     "output_type": "execute_result"
    }
   ],
   "source": [
    "# A*标准模板 不设置最优点\n",
    "# 两点最短距离 这题显然可以用A*算法 用距离目标最短距离+已走距离 作为cost\n",
    "# 用堆模拟优先队列\n",
    "import heapq\n",
    "\n",
    "\n",
    "def f(deadends: list, target: str):\n",
    "    if '0000' in deadends: return -1\n",
    "\n",
    "    deadends = [[int(j) for j in i] for i in deadends]\n",
    "    target = [int(i) for i in target]\n",
    "\n",
    "    def up(s: list, i: int):\n",
    "        s[i] = 0 if (x := s[i] + 1) == 10 else x\n",
    "        return s\n",
    "\n",
    "    def down(s: list, i: int):\n",
    "        s[i] = 9 if (x := s[i] - 1) == -1 else x\n",
    "        return s\n",
    "\n",
    "    def distance(s: list):\n",
    "        res = 0\n",
    "        for i, j in zip(s, target):\n",
    "            d = abs(i - j)\n",
    "            res += min(d, 10 - d)\n",
    "        return res\n",
    "\n",
    "    pq = []  # pri,step,state\n",
    "    heapq.heappush(pq, (0, 0, [0, 0, 0, 0]))\n",
    "    costs = {(0, 0, 0, 0): 0}\n",
    "    while pq:\n",
    "        pri, step, cur = heapq.heappop(pq)\n",
    "        if cur == target:\n",
    "            return step\n",
    "        for i in range(4):\n",
    "            for nei in (up(cur[:], i), down(cur[:], i)):\n",
    "                if nei not in deadends:\n",
    "                    if tuple(nei) not in costs or step + 1 < costs[tuple(nei)]:\n",
    "                        costs[tuple(nei)] = step + 1\n",
    "                        priority = step + 1 + distance(nei)\n",
    "                        heapq.heappush(pq, (priority, step + 1, nei))\n",
    "    return -1\n",
    "\n",
    "\n",
    "f([\"0201\", \"0101\", \"0102\", \"1212\", \"2002\"], '0202')\n",
    "# f([\"0000\"], '0009')\n",
    "# f([\"8887\", \"8889\", \"8878\", \"8898\", \"8788\", \"8988\", \"7888\", \"9888\"], '8888')\n"
   ]
  },
  {
   "cell_type": "code",
   "execution_count": null,
   "metadata": {},
   "outputs": [],
   "source": []
  }
 ],
 "metadata": {
  "interpreter": {
   "hash": "004de6046f1b3d314f33fdb43a2dc798b2646e5600efd8df5066c8b63a00ff6d"
  },
  "kernelspec": {
   "display_name": "Python 3.8.10 64-bit",
   "language": "python",
   "name": "python3"
  },
  "language_info": {
   "codemirror_mode": {
    "name": "ipython",
    "version": 3
   },
   "file_extension": ".py",
   "mimetype": "text/x-python",
   "name": "python",
   "nbconvert_exporter": "python",
   "pygments_lexer": "ipython3",
   "version": "3.8.10"
  },
  "orig_nbformat": 4
 },
 "nbformat": 4,
 "nbformat_minor": 2
}
