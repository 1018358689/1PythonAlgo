{
 "cells": [
  {
   "cell_type": "code",
   "execution_count": 7,
   "metadata": {},
   "outputs": [
    {
     "data": {
      "text/plain": [
       "True"
      ]
     },
     "execution_count": 7,
     "metadata": {},
     "output_type": "execute_result"
    }
   ],
   "source": [
    "import collections\n",
    "\n",
    "\n",
    "def f(jug1Capacity: int, jug2Capacity: int, targetCapacity: int):\n",
    "    q = collections.deque([(0, 0)])\n",
    "    vis = set()\n",
    "    while q:\n",
    "        for _ in range(len(q)):\n",
    "            j1, j2 = q.popleft()\n",
    "            if j1 == targetCapacity or j2 == targetCapacity or j1 + j2 == targetCapacity:\n",
    "                return True\n",
    "            vis.add((j1, j2))\n",
    "            for nj1, nj2 in ((0, j2), (j1, 0), (jug1Capacity, j2), (j1, jug2Capacity),\n",
    "                             (0 if j1 + j2 < jug2Capacity else j1 + j2 - jug2Capacity, min(j1 + j2,jug2Capacity)), \n",
    "                              (min(j1 + j2, jug1Capacity), 0 if j1 + j2 < jug1Capacity else j1 + j2 - jug1Capacity)):\n",
    "                if (nj1, nj2) not in vis:\n",
    "                    q.append((nj1, nj2))\n",
    "    return False\n",
    "\n",
    "\n",
    "f(3, 5, 4)\n",
    "# f(2, 6, 5)\n"
   ]
  },
  {
   "cell_type": "code",
   "execution_count": 8,
   "metadata": {},
   "outputs": [
    {
     "data": {
      "text/plain": [
       "True"
      ]
     },
     "execution_count": 8,
     "metadata": {},
     "output_type": "execute_result"
    }
   ],
   "source": [
    "import collections\n",
    "\n",
    "\n",
    "def f(jug1Capacity: int, jug2Capacity: int, targetCapacity: int):\n",
    "    q = collections.deque([(0, 0)])\n",
    "    vis = set()\n",
    "    while q:\n",
    "        for _ in range(len(q)):\n",
    "            j1, j2 = q.popleft()\n",
    "            if (j1,j2) not in vis:\n",
    "                if j1 == targetCapacity or j2 == targetCapacity or j1 + j2 == targetCapacity:\n",
    "                    return True\n",
    "                vis.add((j1, j2))\n",
    "                for nj1, nj2 in ((0, j2), (j1, 0), (jug1Capacity, j2), (j1, jug2Capacity),\n",
    "                                (0 if j1 + j2 < jug2Capacity else j1 + j2 - jug2Capacity, min(j1 + j2,jug2Capacity)), \n",
    "                                (min(j1 + j2, jug1Capacity), 0 if j1 + j2 < jug1Capacity else j1 + j2 - jug1Capacity)):\n",
    "                    q.append((nj1, nj2))\n",
    "    return False\n",
    "\n",
    "\n",
    "f(3, 5, 4)\n",
    "# f(2, 6, 5)\n"
   ]
  },
  {
   "cell_type": "code",
   "execution_count": 9,
   "metadata": {},
   "outputs": [
    {
     "data": {
      "text/plain": [
       "True"
      ]
     },
     "execution_count": 9,
     "metadata": {},
     "output_type": "execute_result"
    }
   ],
   "source": [
    "import collections\n",
    "\n",
    "\n",
    "def f(jug1Capacity: int, jug2Capacity: int, targetCapacity: int):\n",
    "    q = collections.deque([(0, 0)])\n",
    "    vis = set()\n",
    "    vis.add((0,0))\n",
    "    while q:\n",
    "        for _ in range(len(q)):\n",
    "            j1, j2 = q.popleft()\n",
    "            if j1 == targetCapacity or j2 == targetCapacity or j1 + j2 == targetCapacity:\n",
    "                return True\n",
    "            for nj1, nj2 in ((0, j2), (j1, 0), (jug1Capacity, j2), (j1, jug2Capacity),\n",
    "                            (0 if j1 + j2 < jug2Capacity else j1 + j2 - jug2Capacity, min(j1 + j2,jug2Capacity)), \n",
    "                            (min(j1 + j2, jug1Capacity), 0 if j1 + j2 < jug1Capacity else j1 + j2 - jug1Capacity)):\n",
    "                if (nj1,nj2) not in vis:\n",
    "                    q.append((nj1, nj2))\n",
    "                    vis.add((nj1, nj2))\n",
    "    return False\n",
    "\n",
    "\n",
    "f(3, 5, 4)\n",
    "# f(2, 6, 5)\n"
   ]
  },
  {
   "cell_type": "code",
   "execution_count": null,
   "metadata": {},
   "outputs": [],
   "source": []
  }
 ],
 "metadata": {
  "interpreter": {
   "hash": "aee8b7b246df8f9039afb4144a1f6fd8d2ca17a180786b69acc140d282b71a49"
  },
  "kernelspec": {
   "display_name": "Python 3.10.1 64-bit",
   "language": "python",
   "name": "python3"
  },
  "language_info": {
   "codemirror_mode": {
    "name": "ipython",
    "version": 3
   },
   "file_extension": ".py",
   "mimetype": "text/x-python",
   "name": "python",
   "nbconvert_exporter": "python",
   "pygments_lexer": "ipython3",
   "version": "3.10.1"
  },
  "orig_nbformat": 4
 },
 "nbformat": 4,
 "nbformat_minor": 2
}
