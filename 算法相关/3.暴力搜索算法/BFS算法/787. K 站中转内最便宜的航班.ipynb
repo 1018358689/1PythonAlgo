{
 "cells": [
  {
   "cell_type": "code",
   "execution_count": 9,
   "metadata": {},
   "outputs": [
    {
     "data": {
      "text/plain": [
       "500"
      ]
     },
     "execution_count": 9,
     "metadata": {},
     "output_type": "execute_result"
    }
   ],
   "source": [
    "# 错误\n",
    "import heapq\n",
    "\n",
    "\n",
    "def f(n: int, edges: list, src: int, dst: int, k: int):\n",
    "    neis = [[] for _ in range(n)]\n",
    "    for cur, nei, cost in edges:\n",
    "        neis[cur].append((nei, cost))\n",
    "    pq = []\n",
    "    heapq.heappush(pq, (0, 0, 0))  # cost step cur\n",
    "    while pq:\n",
    "        cost, step, cur = heapq.heappop(pq)\n",
    "        if step > k + 1:\n",
    "            continue\n",
    "        if cur == dst:\n",
    "            return cost\n",
    "        for n, c in neis[cur]:\n",
    "            heapq.heappush(pq, (cost + c, step + 1, n))\n",
    "    return -1\n",
    "\n",
    "\n",
    "f(3, [[0, 1, 100], [1, 2, 100], [0, 2, 500]], 0, 2, 1)\n",
    "f(3, [[0, 1, 100], [1, 2, 100], [0, 2, 500]], 0, 2, 0)\n"
   ]
  },
  {
   "cell_type": "code",
   "execution_count": null,
   "metadata": {},
   "outputs": [],
   "source": [
    "from collections import Counter\n",
    "def majorityElement(nums) -> int:\n",
    "    cnt = Counter(nums)\n",
    "    return max(cnt.keys() key=lambda x:cnt[x])"
   ]
  }
 ],
 "metadata": {
  "interpreter": {
   "hash": "004de6046f1b3d314f33fdb43a2dc798b2646e5600efd8df5066c8b63a00ff6d"
  },
  "kernelspec": {
   "display_name": "Python 3.8.10 64-bit",
   "language": "python",
   "name": "python3"
  },
  "language_info": {
   "codemirror_mode": {
    "name": "ipython",
    "version": 3
   },
   "file_extension": ".py",
   "mimetype": "text/x-python",
   "name": "python",
   "nbconvert_exporter": "python",
   "pygments_lexer": "ipython3",
   "version": "3.8.10"
  },
  "orig_nbformat": 4
 },
 "nbformat": 4,
 "nbformat_minor": 2
}
