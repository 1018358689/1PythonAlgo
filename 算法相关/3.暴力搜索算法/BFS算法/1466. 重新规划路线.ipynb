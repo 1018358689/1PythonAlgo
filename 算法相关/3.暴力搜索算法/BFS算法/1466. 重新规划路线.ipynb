{
 "cells": [
  {
   "cell_type": "code",
   "execution_count": 21,
   "metadata": {},
   "outputs": [],
   "source": [
    "import collections\n",
    "\n",
    "\n",
    "def f(n: int, connections: list):\n",
    "    neis_in = [[] for _ in range(n)]  # 入度\n",
    "    neis_out = [[] for _ in range(n)]  # 出度\n",
    "    for cur, nei in connections:\n",
    "        neis_in[nei].append(cur)\n",
    "        neis_out[cur].append(nei)\n",
    "    q = collections.deque([0])\n",
    "    vis = set()\n",
    "    res = 0\n",
    "    while q:\n",
    "        for _ in range(len(q)):\n",
    "            cur = q.popleft()\n",
    "            if cur not in vis:\n",
    "                for n_out in neis_out[cur]:  # 出度\n",
    "                    if n_out not in vis:\n",
    "                        # print(cur)\n",
    "                        q.append(n_out)\n",
    "                        res += 1\n",
    "                for n_in in neis_in[cur]:  # 入度\n",
    "                    q.append(n_in)\n",
    "                vis.add(cur)\n",
    "    return res\n"
   ]
  },
  {
   "cell_type": "code",
   "execution_count": 20,
   "metadata": {},
   "outputs": [
    {
     "data": {
      "text/plain": [
       "3"
      ]
     },
     "execution_count": 20,
     "metadata": {},
     "output_type": "execute_result"
    }
   ],
   "source": [
    "import collections\n",
    "\n",
    "\n",
    "def f(n: int, connections: list):\n",
    "    neis_in = [[] for _ in range(n)]  # 入度节点\n",
    "    neis_out = [[] for _ in range(n)]  # 出度节点\n",
    "    for cur, nei in connections:\n",
    "        neis_in[nei].append(cur)\n",
    "        neis_out[cur].append(nei)\n",
    "    q = collections.deque([0])\n",
    "    vis = set()\n",
    "    vis.add(0)\n",
    "    res = 0\n",
    "    while q:\n",
    "        for _ in range(len(q)):\n",
    "            cur = q.popleft()\n",
    "            for n_out in neis_out[cur]:  # 出度\n",
    "                if n_out not in vis:\n",
    "                    # print(cur)\n",
    "                    vis.add(n_out)\n",
    "                    q.append(n_out)\n",
    "                    res += 1\n",
    "            for n_in in neis_in[cur]:  # 入度\n",
    "                if n_in not in vis:\n",
    "                    vis.add(n_in)\n",
    "                    q.append(n_in)\n",
    "                q.append(n_in)\n",
    "\n",
    "    return res\n",
    "\n",
    "\n",
    "f(6, [[0, 1], [1, 3], [2, 3], [4, 0], [4, 5]])\n",
    "# f(5, [[1, 0], [1, 2], [3, 2], [3, 4]])\n",
    "# f(3, [[1, 0], [2, 0]])\n"
   ]
  },
  {
   "cell_type": "code",
   "execution_count": 17,
   "metadata": {},
   "outputs": [
    {
     "data": {
      "text/plain": [
       "3"
      ]
     },
     "execution_count": 17,
     "metadata": {},
     "output_type": "execute_result"
    }
   ],
   "source": [
    "import collections\n",
    "\n",
    "\n",
    "def f(n: int, connections: list):\n",
    "    neis = [[] for _ in range(n)]\n",
    "    for cur, nei in connections:\n",
    "        neis[nei].append((cur, 0)) # 入度\n",
    "        neis[cur].append((nei, 1)) # 出度\n",
    "    q = collections.deque([(0)])\n",
    "    vis = set()\n",
    "    vis.add(0)\n",
    "    res = 0\n",
    "    while q:\n",
    "        for _ in range(len(q)):\n",
    "            cur = q.popleft()\n",
    "            for n, d in neis[cur]:\n",
    "                if n not in vis:\n",
    "                    vis.add(n)\n",
    "                    # print(cur)\n",
    "                    q.append((n))\n",
    "                    res += d # 出度则+1\n",
    "\n",
    "    return res\n",
    "\n",
    "\n",
    "f(6, [[0, 1], [1, 3], [2, 3], [4, 0], [4, 5]])\n",
    "# f(5, [[1, 0], [1, 2], [3, 2], [3, 4]])\n",
    "# f(3, [[1, 0], [2, 0]])\n"
   ]
  },
  {
   "cell_type": "code",
   "execution_count": 23,
   "metadata": {},
   "outputs": [
    {
     "data": {
      "text/plain": [
       "0"
      ]
     },
     "execution_count": 23,
     "metadata": {},
     "output_type": "execute_result"
    }
   ],
   "source": [
    "import collections\n",
    "\n",
    "\n",
    "def f(n: int, connections: list):\n",
    "    dirs = set() # 存现在节点间方向\n",
    "    neis = [[] for _ in range(n)] # 双向邻接点 以便外扩BFS\n",
    "    for cur, nei in connections:\n",
    "        neis[cur].append(nei)\n",
    "        neis[nei].append(cur)\n",
    "        dirs.add((cur, nei))\n",
    "    q = collections.deque([0])\n",
    "    vis = set()\n",
    "    vis.add(0)\n",
    "    res = 0\n",
    "    # 启动BFS\n",
    "    while q:\n",
    "        for _ in range(len(q)):\n",
    "            cur = q.popleft()\n",
    "            for nei in neis[cur]:\n",
    "                if nei not in vis:\n",
    "                    vis.add(nei)\n",
    "                    q.append(nei)\n",
    "                    dir = (nei, cur)\n",
    "                    if dir not in dirs: # 判断是不是指向0方向\n",
    "                        res += 1\n",
    "    return res\n",
    "\n",
    "\n",
    "f(6, [[0, 1], [1, 3], [2, 3], [4, 0], [4, 5]])\n",
    "# f(5, [[1, 0], [1, 2], [3, 2], [3, 4]])\n",
    "# f(3, [[1, 0], [2, 0]])\n"
   ]
  },
  {
   "cell_type": "code",
   "execution_count": null,
   "metadata": {},
   "outputs": [],
   "source": []
  }
 ],
 "metadata": {
  "interpreter": {
   "hash": "004de6046f1b3d314f33fdb43a2dc798b2646e5600efd8df5066c8b63a00ff6d"
  },
  "kernelspec": {
   "display_name": "Python 3.8.10 64-bit",
   "language": "python",
   "name": "python3"
  },
  "language_info": {
   "codemirror_mode": {
    "name": "ipython",
    "version": 3
   },
   "file_extension": ".py",
   "mimetype": "text/x-python",
   "name": "python",
   "nbconvert_exporter": "python",
   "pygments_lexer": "ipython3",
   "version": "3.8.10"
  },
  "orig_nbformat": 4
 },
 "nbformat": 4,
 "nbformat_minor": 2
}
