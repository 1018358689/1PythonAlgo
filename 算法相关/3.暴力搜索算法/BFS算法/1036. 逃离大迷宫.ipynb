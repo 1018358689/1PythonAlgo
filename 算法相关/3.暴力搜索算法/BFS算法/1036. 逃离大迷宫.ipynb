{
 "cells": [
  {
   "cell_type": "markdown",
   "metadata": {},
   "source": [
    "在一个 106 x 106 的网格中，每个网格上方格的坐标为 (x, y) 。\n",
    "\n",
    "现在从源方格 source = [sx, sy] 开始出发，意图赶往目标方格 target = [tx, ty] 。数组 blocked 是封锁的方格列表，其中每个 blocked[i] = [xi, yi] 表示坐标为 (xi, yi) 的方格是禁止通行的。\n",
    "\n",
    "每次移动，都可以走到网格中在四个方向上相邻的方格，只要该方格 不 在给出的封锁列表 blocked 上。同时，不允许走出网格。\n",
    "\n",
    "只有在可以通过一系列的移动从源方格 source 到达目标方格 target 时才返回 true。否则，返回 false。\n",
    "\n",
    "\n",
    "示例 1：\n",
    "\n",
    "输入：blocked = [[0,1],[1,0]], source = [0,0], target = [0,2]\n",
    "输出：false\n",
    "解释：\n",
    "从源方格无法到达目标方格，因为我们无法在网格中移动。\n",
    "无法向北或者向东移动是因为方格禁止通行。\n",
    "无法向南或者向西移动是因为不能走出网格。\n",
    "\n",
    "示例 2：\n",
    "输入：blocked = [], source = [0,0], target = [999999,999999]\n",
    "输出：true\n",
    "解释：\n",
    "因为没有方格被封锁，所以一定可以到达目标方格。\n",
    "\n",
    "\n",
    "提示：\n",
    "\n",
    "0 <= blocked.length <= 200\n",
    "blocked[i].length == 2\n",
    "0 <= xi, yi < 106\n",
    "source.length == target.length == 2\n",
    "0 <= sx, sy, tx, ty < 106\n",
    "source != target\n",
    "题目数据保证 source 和 target 不在封锁列表内"
   ]
  },
  {
   "cell_type": "code",
   "execution_count": null,
   "metadata": {},
   "outputs": [],
   "source": [
    "from collections import deque\n",
    "\n",
    "\n",
    "def f(blocked: list, source: list, target: list):\n",
    "    blocked = set(map(tuple, blocked))\n",
    "    blockThr = (len(blocked) - 1) * len(blocked) // 2 # 不包含blocked边界\n",
    "\n",
    "    def bfs(r, c, target):\n",
    "        q = deque([(r, c)])\n",
    "        vis = set(q)\n",
    "        while q:\n",
    "            r, c = q.popleft()\n",
    "            for nr, nc in ((r - 1, c), (r + 1, c), (r, c - 1), (r, c + 1)):\n",
    "                if 0 <= nr < 10**6 and 0 <= nc < 10**6 and (nei := (nr, nc)) not in vis and nei not in blocked:\n",
    "                    if nei == tuple(target):\n",
    "                        return True\n",
    "                    vis.add(nei)\n",
    "                    if len(vis) > blockThr:\n",
    "                        return True\n",
    "                    q.append(nei)\n",
    "        return False\n",
    "\n",
    "    return bfs(*source, target) and bfs(*target, source)\n",
    "\n",
    "\n",
    "f([], [0, 1], [20, 9])\n",
    "# f([[0, 1], [1, 0]], [0, 0], [0, 2])\n",
    "f([[10, 9], [9, 10], [10, 11], [11, 10]], [0, 0], [10, 10])\n"
   ]
  },
  {
   "cell_type": "code",
   "execution_count": 35,
   "metadata": {},
   "outputs": [
    {
     "data": {
      "text/plain": [
       "False"
      ]
     },
     "execution_count": 35,
     "metadata": {},
     "output_type": "execute_result"
    }
   ],
   "source": [
    "from collections import deque\n",
    "\n",
    "\n",
    "def f(blocked: list, source: list, target: list):\n",
    "    blockThr = (len(blocked) + 1) * len(blocked) // 2 # 包含blocked边界\n",
    "\n",
    "    def bfs(r, c, target):\n",
    "        q = deque([(r, c)])\n",
    "        vis = set(map(tuple, blocked + [[r, c]]))\n",
    "        while q:\n",
    "            r, c = q.popleft()\n",
    "            for nr, nc in ((r - 1, c), (r + 1, c), (r, c - 1), (r, c + 1)):\n",
    "                if 0 <= nr < 10**6 and 0 <= nc < 10**6 and (nei := (nr, nc)) not in vis:\n",
    "                    if nei == tuple(target):\n",
    "                        return True\n",
    "                    vis.add(nei)\n",
    "                    if len(vis) > blockThr:\n",
    "                        return True\n",
    "                    q.append(nei)\n",
    "        return False\n",
    "\n",
    "    return bfs(*source, target) and bfs(*target, source)\n",
    "\n",
    "\n",
    "f([], [0, 1], [20, 9])\n",
    "# f([[0, 1], [1, 0]], [0, 0], [0, 2])\n",
    "f([[10, 9], [9, 10], [10, 11], [11, 10]], [0, 0], [10, 10])\n"
   ]
  },
  {
   "cell_type": "code",
   "execution_count": 13,
   "metadata": {},
   "outputs": [
    {
     "data": {
      "text/plain": [
       "False"
      ]
     },
     "execution_count": 13,
     "metadata": {},
     "output_type": "execute_result"
    }
   ],
   "source": [
    "from collections import deque\n",
    "from pprint import pprint\n",
    "\n",
    "\n",
    "def f(blocked: list, source: list, target: list):\n",
    "    if len(blocked) < 2:  # 1或0个阻碍很容易突破\n",
    "        return True\n",
    "    # 离散化 将图缩小\n",
    "    rows = sorted(set(i[0] for i in blocked + [source] + [target]))  # 排序且去重\n",
    "    cols = sorted(set(i[1] for i in blocked + [source] + [target]))\n",
    "    r_map, c_map = {}, {}  # 创建原值和离散后的映射，以便将原值映射到新图\n",
    "    # 对横坐标离散化\n",
    "    r = 0 if rows[0] == 0 else 1  # r表示索引 初始状态，如果初始贴边，离散也贴边，初始不贴边，离散就在离边最近的1位置\n",
    "    r_map[rows[0]] = r\n",
    "    for i in range(1, len(rows)):\n",
    "        step = 1 if rows[i] == rows[i - 1] + 1 else 2  # 和前面比较，相同的已经去重去过了，如果隔壁(差1)那就离散也隔壁(差1)，否则差2\n",
    "        r += step  # 往前走步数\n",
    "        r_map[rows[i]] = r\n",
    "    sz_row = r + 1 if rows[-1] == 10**6 - 1 else r + 2  # 新图大小，如果最大值贴边(索引10**6 - 1)，那么新图也和离散最大值贴边，那么新图大小r+1，否则r+2\n",
    "    # 同理对纵坐标离散化\n",
    "    c = 0 if cols[0] == 0 else 1\n",
    "    c_map[cols[0]] = c\n",
    "    for i in range(1, len(cols)):\n",
    "        step = 1 if cols[i] == cols[i - 1] + 1 else 2\n",
    "        c += step\n",
    "        c_map[cols[i]] = c\n",
    "    sz_col = c + 1 if cols[-1] == 10**6 - 1 else c + 2\n",
    "\n",
    "    grid = [[0] * sz_col for _ in range(sz_row)]  # 创建新图\n",
    "    for r, c in blocked + [source]:  # 初始化不能走的位置\n",
    "        grid[r_map[r]][c_map[c]] = 1\n",
    "    # pprint(grid)\n",
    "    sr, sc = r_map[source[0]], c_map[source[1]]  # 初始位置\n",
    "    er, ec = r_map[target[0]], c_map[target[1]]  # 结束位置\n",
    "    # 启动广度优先遍历\n",
    "    queue = deque([(sr, sc)])\n",
    "    while queue:\n",
    "        sz = len(queue)\n",
    "        for _ in range(sz):\n",
    "            r, c = queue.popleft()\n",
    "            for nr, nc in ((r - 1, c), (r + 1, c), (r, c - 1), (r, c + 1)):\n",
    "                if 0 <= nr < sz_row and 0 <= nc < sz_col and grid[nr][nc] != 1:\n",
    "                    if nr == er and nc == ec:  # 一旦找到就推出\n",
    "                        return True\n",
    "                    grid[nr][nc] = 1\n",
    "                    queue.append((nr, nc))\n",
    "    return False  # 无法走出包围圈\n",
    "\n",
    "\n",
    "# f([[0,1],[0,2],[1,1],[4,3]],[0,0],[2,2])\n",
    "f([[0, 999991], [0, 999993], [0, 999996], [1, 999996], [1, 999997], [1, 999998], [1, 999999]], [0, 999997],\n",
    "  [0, 2])\n"
   ]
  },
  {
   "cell_type": "code",
   "execution_count": 15,
   "metadata": {},
   "outputs": [
    {
     "data": {
      "text/plain": [
       "False"
      ]
     },
     "execution_count": 15,
     "metadata": {},
     "output_type": "execute_result"
    }
   ],
   "source": [
    "from collections import deque\n",
    "from pprint import pprint\n",
    "\n",
    "\n",
    "def f(blocked: list, source: list, target: list):\n",
    "    if len(blocked) < 2:\n",
    "        return True\n",
    "    Max = (len(blocked) + 1) * len(blocked) // 2\n",
    "    # 离散化\n",
    "    exist = blocked + [source] + [target]\n",
    "    rows = sorted(set(i[0] for i in exist))\n",
    "    cols = sorted(set(i[1] for i in exist))\n",
    "    r_map, c_map = {}, {}\n",
    "    r = 0 if rows[0] == 0 else 1\n",
    "    r_map[rows[0]] = r\n",
    "    for i in range(1, len(rows)):\n",
    "        step = 1 if rows[i] == rows[i - 1] + 1 else 2\n",
    "        r += step\n",
    "        r_map[rows[i]] = r\n",
    "    sz_row = r + 1 if rows[-1] == 10**6 - 1 else r + 2\n",
    "\n",
    "    c = 0 if cols[0] == 0 else 1\n",
    "    c_map[cols[0]] = c\n",
    "    for i in range(1, len(cols)):\n",
    "        step = 1 if cols[i] == cols[i - 1] + 1 else 2\n",
    "        c += step\n",
    "        c_map[cols[i]] = c\n",
    "    sz_col = c + 1 if cols[-1] == 10**6 - 1 else c + 2\n",
    "\n",
    "    visited = set()\n",
    "    for r, c in blocked + [source]:\n",
    "        visited.add((r_map[r], c_map[c]))\n",
    "    sr, sc = r_map[source[0]], c_map[source[1]]\n",
    "    er, ec = r_map[target[0]], c_map[target[1]]\n",
    "    # 广度优先遍历\n",
    "    queue = deque([(sr, sc)])\n",
    "    while queue:\n",
    "        sz = len(queue)\n",
    "        for _ in range(sz):\n",
    "            r, c = queue.popleft()\n",
    "            for nr, nc in ((r - 1, c), (r + 1, c), (r, c - 1), (r, c + 1)):\n",
    "                if 0 <= nr < sz_row and 0 <= nc < sz_col and (nr, nc) not in visited:\n",
    "                    if nr == er and nc == ec:\n",
    "                        return True\n",
    "                    visited.add((nr, nc))\n",
    "                    queue.append((nr, nc))\n",
    "    return False\n",
    "\n",
    "\n",
    "# f([[0,1],[0,2],[1,1],[4,3]],[0,0],[2,2])\n",
    "f([[0, 999991], [0, 999993], [0, 999996], [1, 999996], [1, 999997], [1, 999998], [1, 999999]], [0, 999997],\n",
    "  [0, 2])\n"
   ]
  },
  {
   "cell_type": "code",
   "execution_count": 22,
   "metadata": {},
   "outputs": [
    {
     "name": "stdout",
     "output_type": "stream",
     "text": [
      "True\n"
     ]
    }
   ],
   "source": [
    "x = set([(1,2)])\n",
    "tuple([1,2])\n",
    "if (x:=(1,2)):\n",
    "    print(x==tuple([1,2]))"
   ]
  },
  {
   "cell_type": "code",
   "execution_count": null,
   "metadata": {},
   "outputs": [],
   "source": []
  }
 ],
 "metadata": {
  "interpreter": {
   "hash": "004de6046f1b3d314f33fdb43a2dc798b2646e5600efd8df5066c8b63a00ff6d"
  },
  "kernelspec": {
   "display_name": "Python 3.8.10 64-bit",
   "language": "python",
   "name": "python3"
  },
  "language_info": {
   "codemirror_mode": {
    "name": "ipython",
    "version": 3
   },
   "file_extension": ".py",
   "mimetype": "text/x-python",
   "name": "python",
   "nbconvert_exporter": "python",
   "pygments_lexer": "ipython3",
   "version": "3.10.1"
  },
  "orig_nbformat": 4
 },
 "nbformat": 4,
 "nbformat_minor": 2
}
