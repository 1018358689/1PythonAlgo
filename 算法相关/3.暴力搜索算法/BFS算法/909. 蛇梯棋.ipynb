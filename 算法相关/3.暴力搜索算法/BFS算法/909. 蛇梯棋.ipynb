{
 "cells": [
  {
   "cell_type": "code",
   "execution_count": 4,
   "metadata": {},
   "outputs": [
    {
     "data": {
      "text/plain": [
       "(4, 1)"
      ]
     },
     "execution_count": 4,
     "metadata": {},
     "output_type": "execute_result"
    }
   ],
   "source": [
    "from collections import deque\n",
    "\n",
    "board = [[-1, -1, -1, -1, -1, -1], [-1, -1, -1, -1, -1, -1], [-1, -1, -1, -1, -1, -1], [-1, 35, -1, -1, 13, -1], [-1, -1, -1, -1, -1, -1], [-1, 15, -1, -1, -1, -1]]\n",
    "\n",
    "\n",
    "def f(board):\n",
    "    rows, cols = len(board), len(board[0])\n",
    "    pos2Num = {}\n",
    "    num2Pos = {}\n",
    "    if rows % 2 == 0:\n",
    "        # target = (0,0)\n",
    "        for r in range(rows):\n",
    "            que, rem = divmod(r, 2)\n",
    "            for c in range(cols):\n",
    "                if rem == 0:\n",
    "                    pos2Num[(r, c)] = rows * cols - que * cols * 2 - c\n",
    "                    num2Pos[rows * cols - que * cols * 2 - c] = (r, c)\n",
    "                else:\n",
    "                    pos2Num[(r, c)] = rows * cols - (que + 1) * cols * 2 + 1 + c\n",
    "                    num2Pos[rows * cols - (que + 1) * cols * 2 + 1 + c] = (r, c)\n",
    "    else:\n",
    "        # target = (0,cols-1)\n",
    "        for r in range(rows):\n",
    "            que, rem = divmod(r, 2)\n",
    "            for c in range(cols):\n",
    "                if rem == 0:\n",
    "                    pos2Num[(r, c)] = rows * cols - que * cols * 2 + c - (cols - 1)\n",
    "                    num2Pos[rows * cols - que * cols * 2 + c - (cols - 1)] = (r, c)\n",
    "                else:\n",
    "                    pos2Num[(r, c)] = rows * cols - (que + 1) * cols * 2 + 1 - c + (cols - 1)\n",
    "                    num2Pos[rows * cols - (que + 1) * cols * 2 + 1 - c + (cols - 1)] = (r, c)\n",
    "    start = (rows - 1, 0)\n",
    "    q = deque([(start, 0)])\n",
    "    vis = set()\n",
    "    vis.add(1)\n",
    "    while q:\n",
    "        for _ in range(len(q)):\n",
    "            (r, c), step = q.popleft()\n",
    "            curNum = pos2Num[(r, c)]\n",
    "            for neiNum in range(curNum + 1, min(curNum + 6, rows * cols) + 1):\n",
    "                nr, nc = num2Pos[neiNum]\n",
    "                if board[nr][nc] != -1:\n",
    "                    neiNum = board[nr][nc]\n",
    "                neiPos = num2Pos[neiNum]\n",
    "                if neiNum not in vis:\n",
    "                    if neiNum == rows * cols:\n",
    "                        return step + 1\n",
    "                    vis.add(neiNum)\n",
    "                    q.append((neiPos, step + 1))\n",
    "    return -1\n",
    "\n",
    "\n",
    "f(board),f([[-1,-1],[-1,3]])"
   ]
  },
  {
   "cell_type": "code",
   "execution_count": 7,
   "metadata": {},
   "outputs": [
    {
     "data": {
      "text/plain": [
       "(4, 1)"
      ]
     },
     "execution_count": 7,
     "metadata": {},
     "output_type": "execute_result"
    }
   ],
   "source": [
    "from collections import deque\n",
    "\n",
    "board = [[-1, -1, -1, -1, -1, -1], [-1, -1, -1, -1, -1, -1], [-1, -1, -1, -1, -1, -1], [-1, 35, -1, -1, 13, -1], [-1, -1, -1, -1, -1, -1], [-1, 15, -1, -1, -1, -1]]\n",
    "\n",
    "\n",
    "def f(board):\n",
    "    rows, cols = len(board), len(board[0])\n",
    "    num2Pos = {}\n",
    "    if rows % 2 == 0:\n",
    "        # target = (0,0)\n",
    "        for r in range(rows):\n",
    "            que, rem = divmod(r, 2)\n",
    "            for c in range(cols):\n",
    "                if rem == 0:\n",
    "                    num2Pos[rows * cols - que * cols * 2 - c] = (r, c)\n",
    "                else:\n",
    "                    num2Pos[rows * cols - (que + 1) * cols * 2 + 1 + c] = (r, c)\n",
    "    else:\n",
    "        # target = (0,cols-1)\n",
    "        for r in range(rows):\n",
    "            que, rem = divmod(r, 2)\n",
    "            for c in range(cols):\n",
    "                if rem == 0:\n",
    "                    num2Pos[rows * cols - que * cols * 2 + c - (cols - 1)] = (r, c)\n",
    "                else:\n",
    "                    num2Pos[rows * cols - (que + 1) * cols * 2 + 1 - c + (cols - 1)] = (r, c)\n",
    "    q = deque([(1, 0)])\n",
    "    vis = set()\n",
    "    vis.add(1)\n",
    "    while q:\n",
    "        for _ in range(len(q)):\n",
    "            cur, step = q.popleft()\n",
    "            for neiNum in range(cur + 1, min(cur + 6, rows * cols) + 1):\n",
    "                nr, nc = num2Pos[neiNum]\n",
    "                if board[nr][nc] != -1:\n",
    "                    neiNum = board[nr][nc]\n",
    "                if neiNum not in vis:\n",
    "                    if neiNum == rows * cols:\n",
    "                        return step + 1\n",
    "                    vis.add(neiNum)\n",
    "                    q.append((neiNum, step + 1))\n",
    "    return -1\n",
    "\n",
    "\n",
    "f(board), f([[-1, -1], [-1, 3]])\n"
   ]
  },
  {
   "cell_type": "code",
   "execution_count": 8,
   "metadata": {},
   "outputs": [
    {
     "data": {
      "text/plain": [
       "(4, 1)"
      ]
     },
     "execution_count": 8,
     "metadata": {},
     "output_type": "execute_result"
    }
   ],
   "source": [
    "def f(board):\n",
    "    rows, cols = len(board), len(board[0])\n",
    "    road = [0] # 索引即编号1-36  值即蛇梯\n",
    "    for i, r in enumerate(board[::-1]):\n",
    "        if i % 2 == 0:\n",
    "            road += r\n",
    "        else:\n",
    "            road += r[::-1]\n",
    "    q = deque([(1, 0)])\n",
    "    vis = set()\n",
    "    vis.add(1)\n",
    "    while q:\n",
    "        for _ in range(len(q)):\n",
    "            cur, step = q.popleft()\n",
    "            for neiNum in range(cur + 1, min(cur + 6, rows * cols) + 1):\n",
    "                if road[neiNum] != -1:\n",
    "                    neiNum = road[neiNum]\n",
    "                if neiNum not in vis:\n",
    "                    if neiNum == rows * cols:\n",
    "                        return step + 1\n",
    "                    vis.add(neiNum)\n",
    "                    q.append((neiNum, step + 1))\n",
    "    return -1\n",
    "\n",
    "\n",
    "f(board), f([[-1, -1], [-1, 3]])\n"
   ]
  },
  {
   "cell_type": "code",
   "execution_count": 10,
   "metadata": {},
   "outputs": [
    {
     "data": {
      "text/plain": [
       "(4, 1)"
      ]
     },
     "execution_count": 10,
     "metadata": {},
     "output_type": "execute_result"
    }
   ],
   "source": [
    "import heapq\n",
    "# 不能A*算法\n",
    "\n",
    "def f(board):\n",
    "    target = len(board) * len(board[0])\n",
    "    road = [0]  # 索引即编号1-36  值即蛇梯\n",
    "    for i, r in enumerate(board[::-1]):\n",
    "        if i % 2 == 0:\n",
    "            road += r\n",
    "        else:\n",
    "            road += r[::-1]\n",
    "\n",
    "    def distance(x):\n",
    "        return (target - x) // 6\n",
    "\n",
    "    pq = []\n",
    "    heapq.heappush(pq, (distance(1), 0, 1))\n",
    "    costs = {1: 0}\n",
    "    best = set()\n",
    "    while pq:\n",
    "        _, step, cur = heapq.heappop(pq)\n",
    "        if cur == target:\n",
    "            return step\n",
    "        best.add(cur)\n",
    "        for nei in range(cur + 1, min(cur + 6, target) + 1):\n",
    "            if road[nei] != -1:\n",
    "                nei = road[nei]\n",
    "            if nei not in best:\n",
    "                if nei not in costs or step + 1 < costs[nei]:\n",
    "                    costs[nei] = step + 1\n",
    "                    priority = step + 1 + distance(nei)\n",
    "                    heapq.heappush(pq, (priority, step + 1, nei))\n",
    "    return -1\n",
    "\n",
    "\n",
    "f(board), f([[-1, -1], [-1, 3]])\n"
   ]
  },
  {
   "cell_type": "code",
   "execution_count": null,
   "metadata": {},
   "outputs": [],
   "source": []
  }
 ],
 "metadata": {
  "interpreter": {
   "hash": "aee8b7b246df8f9039afb4144a1f6fd8d2ca17a180786b69acc140d282b71a49"
  },
  "kernelspec": {
   "display_name": "Python 3.10.1 64-bit",
   "language": "python",
   "name": "python3"
  },
  "language_info": {
   "codemirror_mode": {
    "name": "ipython",
    "version": 3
   },
   "file_extension": ".py",
   "mimetype": "text/x-python",
   "name": "python",
   "nbconvert_exporter": "python",
   "pygments_lexer": "ipython3",
   "version": "3.10.1"
  },
  "orig_nbformat": 4
 },
 "nbformat": 4,
 "nbformat_minor": 2
}
