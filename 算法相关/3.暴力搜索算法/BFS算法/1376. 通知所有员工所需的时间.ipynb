{
 "cells": [
  {
   "cell_type": "code",
   "execution_count": 3,
   "metadata": {},
   "outputs": [
    {
     "data": {
      "text/plain": [
       "2560"
      ]
     },
     "execution_count": 3,
     "metadata": {},
     "output_type": "execute_result"
    }
   ],
   "source": [
    "# bfs\n",
    "import collections\n",
    "\n",
    "\n",
    "def f(n: int, headID: int, manager: list, informTime: list):\n",
    "    neis = [[] for _ in range(n)]\n",
    "    for cur, parent in enumerate(manager):\n",
    "        if parent != -1:\n",
    "            neis[parent].append(cur)\n",
    "    q = collections.deque([(headID, 0)])\n",
    "    total_time = [0] * n\n",
    "    while q:\n",
    "        sz = len(q)\n",
    "        for _ in range(sz):\n",
    "            cur, time = q.popleft()\n",
    "            for nei in neis[cur]:\n",
    "                total_time[nei] = time + informTime[cur]\n",
    "                q.append((nei, total_time[nei]))\n",
    "    return max(total_time)\n",
    "\n",
    "\n",
    "f(11, 4, [5, 9, 6, 10, -1, 8, 9, 1, 9, 3, 4], [0, 213, 0, 253, 686, 170, 975, 0, 261, 309, 337])\n"
   ]
  },
  {
   "cell_type": "code",
   "execution_count": 5,
   "metadata": {},
   "outputs": [
    {
     "data": {
      "text/plain": [
       "2560"
      ]
     },
     "execution_count": 5,
     "metadata": {},
     "output_type": "execute_result"
    }
   ],
   "source": [
    "# bfs\n",
    "import collections\n",
    "\n",
    "\n",
    "def f(n: int, headID: int, manager: list, informTime: list):\n",
    "    neis = [[] for _ in range(n)]\n",
    "    for cur, parent in enumerate(manager):\n",
    "        if parent != -1:\n",
    "            neis[parent].append(cur)\n",
    "    q = collections.deque([(headID, 0)])\n",
    "    total_time = 0\n",
    "    while q:\n",
    "        sz = len(q)\n",
    "        for _ in range(sz):\n",
    "            cur, cur_time = q.popleft()\n",
    "            for nei in neis[cur]:\n",
    "                nei_time = cur_time + informTime[cur]\n",
    "                total_time = max(total_time, nei_time)\n",
    "                q.append((nei, nei_time))\n",
    "    return total_time\n",
    "\n",
    "\n",
    "f(11, 4, [5, 9, 6, 10, -1, 8, 9, 1, 9, 3, 4], [0, 213, 0, 253, 686, 170, 975, 0, 261, 309, 337])\n"
   ]
  },
  {
   "cell_type": "code",
   "execution_count": 6,
   "metadata": {},
   "outputs": [
    {
     "data": {
      "text/plain": [
       "2560"
      ]
     },
     "execution_count": 6,
     "metadata": {},
     "output_type": "execute_result"
    }
   ],
   "source": [
    "# dfs 回溯\n",
    "import collections\n",
    "\n",
    "\n",
    "def f(n: int, headID: int, manager: list, informTime: list):\n",
    "    neis = [[] for _ in range(n)]\n",
    "    for cur, parent in enumerate(manager):\n",
    "        if parent != -1:\n",
    "            neis[parent].append(cur)\n",
    "    total_time = 0\n",
    "\n",
    "    def dfs(node, time):\n",
    "        nonlocal total_time\n",
    "        for nei in neis[node]:\n",
    "            nei_time = time + informTime[node]\n",
    "            total_time = max(total_time, nei_time)\n",
    "            dfs(nei, nei_time)\n",
    "\n",
    "    dfs(headID, 0)\n",
    "    return total_time\n",
    "\n",
    "f(11, 4, [5, 9, 6, 10, -1, 8, 9, 1, 9, 3, 4], [0, 213, 0, 253, 686, 170, 975, 0, 261, 309, 337])\n"
   ]
  },
  {
   "cell_type": "code",
   "execution_count": null,
   "metadata": {},
   "outputs": [],
   "source": []
  }
 ],
 "metadata": {
  "interpreter": {
   "hash": "004de6046f1b3d314f33fdb43a2dc798b2646e5600efd8df5066c8b63a00ff6d"
  },
  "kernelspec": {
   "display_name": "Python 3.8.10 64-bit",
   "language": "python",
   "name": "python3"
  },
  "language_info": {
   "codemirror_mode": {
    "name": "ipython",
    "version": 3
   },
   "file_extension": ".py",
   "mimetype": "text/x-python",
   "name": "python",
   "nbconvert_exporter": "python",
   "pygments_lexer": "ipython3",
   "version": "3.8.10"
  },
  "orig_nbformat": 4
 },
 "nbformat": 4,
 "nbformat_minor": 2
}
