{
 "cells": [
  {
   "cell_type": "markdown",
   "metadata": {},
   "source": [
    "在一个 2 x 3 的板上（board）有 5 块砖瓦，用数字 1~5 来表示, 以及一块空缺用 0 来表示.\n",
    "\n",
    "一次移动定义为选择 0 与一个相邻的数字（上下左右）进行交换.\n",
    "\n",
    "最终当板 board 的结果是 [[1,2,3],[4,5,0]] 谜板被解开。\n",
    "\n",
    "给出一个谜板的初始状态，返回最少可以通过多少次移动解开谜板，如果不能解开谜板，则返回 -1 。\n",
    "\n",
    "示例：\n",
    "\n",
    "输入：board = [[1,2,3],[4,0,5]]\n",
    "输出：1\n",
    "解释：交换 0 和 5 ，1 步完成\n",
    "\n",
    "输入：board = [[1,2,3],[5,4,0]]\n",
    "输出：-1\n",
    "解释：没有办法完成谜板\n",
    "\n",
    "输入：board = [[4,1,2],[5,0,3]]\n",
    "输出：5\n",
    "解释：\n",
    "最少完成谜板的最少移动次数是 5 ，\n",
    "一种移动路径:\n",
    "尚未移动: [[4,1,2],[5,0,3]]\n",
    "移动 1 次: [[4,1,2],[0,5,3]]\n",
    "移动 2 次: [[0,1,2],[4,5,3]]\n",
    "移动 3 次: [[1,0,2],[4,5,3]]\n",
    "移动 4 次: [[1,2,0],[4,5,3]]\n",
    "移动 5 次: [[1,2,3],[4,5,0]]\n",
    "\n",
    "输入：board = [[3,2,4],[1,5,0]]\n",
    "输出：14\n",
    "提示：\n",
    "\n",
    "board 是一个如上所述的 2 x 3 的数组.\n",
    "board[i][j] 是一个 [0, 1, 2, 3, 4, 5] 的排列."
   ]
  },
  {
   "cell_type": "code",
   "execution_count": 2,
   "metadata": {},
   "outputs": [
    {
     "data": {
      "text/plain": [
       "[1, 2, 3]"
      ]
     },
     "execution_count": 2,
     "metadata": {},
     "output_type": "execute_result"
    }
   ],
   "source": [
    "l=[1,2,3]\n",
    "tuple(l)\n",
    "l"
   ]
  },
  {
   "cell_type": "code",
   "execution_count": 9,
   "metadata": {},
   "outputs": [
    {
     "data": {
      "text/plain": [
       "(-1, 5)"
      ]
     },
     "execution_count": 9,
     "metadata": {},
     "output_type": "execute_result"
    }
   ],
   "source": [
    "from collections import deque\n",
    "\n",
    "\n",
    "def f(board: list):\n",
    "    start = board[0] + board[1]\n",
    "    index_neighbor = {0: (1, 3), 1: (0, 2, 4), 2: (1, 5), 3: (0, 4), 4: (1, 3, 5), 5: (2, 4)}\n",
    "    target = [1, 2, 3, 4, 5, 0]\n",
    "    visited = set()\n",
    "    visited.add(tuple(start))\n",
    "    queue = deque([start])\n",
    "    res = 0\n",
    "    while queue:\n",
    "        sz = len(queue)\n",
    "        # 将该层进行扩散\n",
    "        for _ in range(sz):\n",
    "            cur = queue.popleft()\n",
    "            if cur == target:\n",
    "                return res\n",
    "            zero = cur.index(0)\n",
    "            for neighbor in index_neighbor[zero]:\n",
    "                tmp = cur[:]\n",
    "                tmp[zero], tmp[neighbor] = tmp[neighbor], tmp[zero]\n",
    "                if tuple(tmp) not in visited:\n",
    "                    visited.add(tuple(tmp))\n",
    "                    queue.append(tmp)\n",
    "        res += 1 # 扩散完 次数+1\n",
    "    return -1\n",
    "\n",
    "\n",
    "f([[1, 2, 3], [5, 4, 0]]), f([[4, 1, 2], [5, 0, 3]])\n"
   ]
  },
  {
   "cell_type": "code",
   "execution_count": 11,
   "metadata": {},
   "outputs": [
    {
     "data": {
      "text/plain": [
       "[[1, 4, 3], [5, 2, 0]]"
      ]
     },
     "execution_count": 11,
     "metadata": {},
     "output_type": "execute_result"
    }
   ],
   "source": [
    "l = [[1, 2, 3], [5, 4, 0]]\n",
    "l[0][1], l[1][1] = l[1][1], l[0][1]\n",
    "l"
   ]
  },
  {
   "cell_type": "code",
   "execution_count": 5,
   "metadata": {},
   "outputs": [
    {
     "data": {
      "text/plain": [
       "12"
      ]
     },
     "execution_count": 5,
     "metadata": {},
     "output_type": "execute_result"
    }
   ],
   "source": [
    "from pprint import pprint\n",
    "import copy\n",
    "\n",
    "# 直接矩阵dfs 错误 等厉害了再改\n",
    "def f(board: list):\n",
    "    row = 2\n",
    "    col = 3\n",
    "    target = [[1, 2, 3], [4, 5, 0]]\n",
    "    res = float('inf')\n",
    "    cnt = 0\n",
    "    visited = []\n",
    "\n",
    "    def dfs(board: list, sr: int, sc: int, r: int, c: int):\n",
    "        nonlocal res, cnt\n",
    "        if r < 0 or r > row - 1 or c < 0 or c > col - 1:\n",
    "            return\n",
    "        if board == target:\n",
    "            res = min(res, cnt)\n",
    "            return\n",
    "        # if 0<=r<row and 0<=c<=col:\n",
    "        _board = copy.deepcopy(board)\n",
    "        _board[sr][sc], _board[r][c] = _board[r][c], _board[sr][sc]\n",
    "        if _board not in visited:\n",
    "            # pprint(_board)\n",
    "            visited.append(_board[:])\n",
    "            cnt += 1\n",
    "            dfs(_board, r, c, r - 1, c)\n",
    "            dfs(_board, r, c, r + 1, c)\n",
    "            dfs(_board, r, c, r, c - 1)\n",
    "            dfs(_board, r, c, r, c + 1)\n",
    "            cnt -= 1\n",
    "\n",
    "    for r in range(row):\n",
    "        for c in range(col):\n",
    "            if board[r][c] == 0:\n",
    "                dfs(board, r, c, r, c)\n",
    "                break\n",
    "    return res\n",
    "\n",
    "\n",
    "f([[4, 1, 2], [5, 0, 3]])"
   ]
  },
  {
   "cell_type": "code",
   "execution_count": 5,
   "metadata": {},
   "outputs": [
    {
     "data": {
      "text/plain": [
       "2"
      ]
     },
     "execution_count": 5,
     "metadata": {},
     "output_type": "execute_result"
    }
   ],
   "source": [
    "t = ((1, 2), 2, 3)\n",
    "target = [1, 2, 3, 4, 5, 0]\n",
    "def different(board):\n",
    "    return sum(not i == j for i, j in zip(board, target))\n",
    "different([1,2,3,5,4,0])"
   ]
  },
  {
   "cell_type": "code",
   "execution_count": 2,
   "metadata": {},
   "outputs": [
    {
     "data": {
      "text/plain": [
       "(-1, 5)"
      ]
     },
     "execution_count": 2,
     "metadata": {},
     "output_type": "execute_result"
    }
   ],
   "source": [
    "# https://leetcode-cn.com/problems/sliding-puzzle/solution/python-a-star-by-qubenhao-5tda/\n",
    "from collections import deque\n",
    "import heapq\n",
    "\n",
    "\n",
    "def f(board: list):\n",
    "    start = board[0] + board[1]\n",
    "    # n*m puzzle中，m为奇数时,逆序数对奇偶性要和最终奇偶性相同，否则无解\n",
    "    if sum(1 for i in range(6) for j in range(i + 1, 6) if start[j] and start[i] > start[j]) % 2 == 1:\n",
    "        return -1\n",
    "    target = [1, 2, 3, 4, 5, 0]\n",
    "    index_neighbor = {0: (1, 3), 1: (0, 2, 4), 2: (1, 5), 3: (0, 4), 4: (1, 3, 5), 5: (2, 4)}\n",
    "\n",
    "    def different(board):\n",
    "        return sum(not i == j for i, j in zip(board, target))\n",
    "\n",
    "    pq = []\n",
    "    priority = different(start)\n",
    "    heapq.heappush(pq, (priority, 0, start))\n",
    "    costs = {tuple(start): 0}\n",
    "    best = set()\n",
    "    while pq:\n",
    "        _, step, cur = heapq.heappop(pq)\n",
    "        if cur == target:\n",
    "            return step\n",
    "        best.add(tuple(cur))\n",
    "        zero = cur.index(0)\n",
    "        for indexNei in index_neighbor[zero]:\n",
    "            nei = cur[:]\n",
    "            nei[zero], nei[indexNei] = nei[indexNei], nei[zero]\n",
    "            if tuple(nei) not in best:\n",
    "                if tuple(nei) not in costs or step + 1 < costs[tuple(nei)]:\n",
    "                    costs[tuple(nei)] = step + 1\n",
    "                    priority = step + 1 + different(nei)\n",
    "                    heapq.heappush(pq, (priority, step + 1, nei))\n",
    "    return -1\n",
    "\n",
    "\n",
    "f([[1, 2, 3], [5, 4, 0]]), f([[4, 1, 2], [5, 0, 3]])\n"
   ]
  },
  {
   "cell_type": "code",
   "execution_count": null,
   "metadata": {},
   "outputs": [],
   "source": []
  }
 ],
 "metadata": {
  "interpreter": {
   "hash": "004de6046f1b3d314f33fdb43a2dc798b2646e5600efd8df5066c8b63a00ff6d"
  },
  "kernelspec": {
   "display_name": "Python 3.8.10 64-bit",
   "language": "python",
   "name": "python3"
  },
  "language_info": {
   "codemirror_mode": {
    "name": "ipython",
    "version": 3
   },
   "file_extension": ".py",
   "mimetype": "text/x-python",
   "name": "python",
   "nbconvert_exporter": "python",
   "pygments_lexer": "ipython3",
   "version": "3.10.2"
  },
  "orig_nbformat": 4
 },
 "nbformat": 4,
 "nbformat_minor": 2
}
