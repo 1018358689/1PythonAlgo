{
 "cells": [
  {
   "cell_type": "code",
   "execution_count": 27,
   "metadata": {},
   "outputs": [
    {
     "data": {
      "text/plain": [
       "'WBBBW'"
      ]
     },
     "execution_count": 27,
     "metadata": {},
     "output_type": "execute_result"
    }
   ],
   "source": [
    "from itertools import groupby\n",
    "def helper(s):\n",
    "    return ''.join(i * v for i, k in groupby(s) if (v := len(list(k))) <= 2)\n"
   ]
  },
  {
   "cell_type": "code",
   "execution_count": 8,
   "metadata": {},
   "outputs": [
    {
     "data": {
      "text/plain": [
       "'WW'"
      ]
     },
     "execution_count": 8,
     "metadata": {},
     "output_type": "execute_result"
    }
   ],
   "source": [
    "import re\n",
    "s = \"WBRRRBBW\"\n",
    "n=1\n",
    "while n:\n",
    "    s,n = re.subn(r'(.)\\1{2,}','',s)\n",
    "s"
   ]
  },
  {
   "cell_type": "code",
   "execution_count": 31,
   "metadata": {},
   "outputs": [
    {
     "data": {
      "text/plain": [
       "[('W', 1), ('B', 1), ('R', 3), ('B', 2), ('W', 1)]"
      ]
     },
     "execution_count": 31,
     "metadata": {},
     "output_type": "execute_result"
    }
   ],
   "source": [
    "from itertools import groupby\n",
    "[(i,len(list(k)))for i, k in groupby(\"WBRRRBBW\")]"
   ]
  },
  {
   "cell_type": "code",
   "execution_count": 40,
   "metadata": {},
   "outputs": [
    {
     "data": {
      "text/plain": [
       "-1"
      ]
     },
     "execution_count": 40,
     "metadata": {},
     "output_type": "execute_result"
    }
   ],
   "source": [
    "from collections import deque\n",
    "\n",
    "\n",
    "def f(board: str, hand: str):\n",
    "\n",
    "    def clean(board):\n",
    "        n = 1\n",
    "        while n:\n",
    "            board, n = re.subn(r'(.)\\1{2,}', '', board)\n",
    "        return board\n",
    "\n",
    "    q = deque([(board, hand, 0)])\n",
    "    vis = set()\n",
    "    vis.add((board, hand))\n",
    "    while q:\n",
    "        for _ in range(len(q)):\n",
    "            curBoard, curHand, step = q.popleft()\n",
    "            for i in range(len(curBoard) + 1):\n",
    "                for j in range(len(curHand)):\n",
    "                    # 第 1 个剪枝条件: 当前球的颜色和上一个球的颜色相同\n",
    "                    if j > 0 and curHand[j] == curHand[j - 1]:\n",
    "                        continue\n",
    "                    # 第 2 个剪枝条件: 只在连续相同颜色的球的开头位置插入新球\n",
    "                    if i > 0 and curBoard[i - 1] == curHand[j]:\n",
    "                        continue\n",
    "                    # 第 3 个剪枝条件: 只在以下两种情况放置新球\n",
    "                    choose = False\n",
    "                    #  - 第 1 种情况 : 当前球颜色与后面的球的颜色相同\n",
    "                    if i < len(curBoard) and curBoard[i] == curHand[j]:\n",
    "                        choose = True\n",
    "                    #  - 第 2 种情况 : 当前后颜色相同且与当前颜色不同时候放置球\n",
    "                    if 0 < i < len(curBoard) and curBoard[i - 1] == curBoard[i] and curBoard[i] != curHand[j]:\n",
    "                        choose = True\n",
    "                    if choose:\n",
    "                        neiBoard = curBoard[:i] + curHand[j] + curBoard[i:]\n",
    "                        neiBoard = clean(neiBoard)\n",
    "                        neiHand = curHand[:j] + curHand[j + 1:]\n",
    "                        if not neiBoard:\n",
    "                            return step + 1\n",
    "                        if (neiBoard, neiHand) not in vis:\n",
    "                            vis.add((neiBoard, neiHand))\n",
    "                            q.append((neiBoard, neiHand, step + 1))\n",
    "    return -1\n",
    "\n",
    "\n",
    "f('WRRBBW', 'RB')\n",
    "f('WWRRBBWW', 'WRBRW')\n",
    "f(\"RRGGBBYYWWRRGGBB\",\"RGBYW\")"
   ]
  },
  {
   "cell_type": "code",
   "execution_count": 21,
   "metadata": {},
   "outputs": [
    {
     "data": {
      "text/plain": [
       "{'a', 'b'}"
      ]
     },
     "execution_count": 21,
     "metadata": {},
     "output_type": "execute_result"
    }
   ],
   "source": [
    "set('aab')"
   ]
  },
  {
   "cell_type": "code",
   "execution_count": 41,
   "metadata": {},
   "outputs": [
    {
     "data": {
      "text/plain": [
       "-1"
      ]
     },
     "execution_count": 41,
     "metadata": {},
     "output_type": "execute_result"
    }
   ],
   "source": [
    "import heapq\n",
    "from collections import Counter\n",
    "# A*算法\n",
    "\n",
    "def f(board: str, hand: str):\n",
    "\n",
    "    cnt = Counter(board + hand)\n",
    "    for b in set(board):\n",
    "        if cnt[b] < 3:\n",
    "            return -1\n",
    "\n",
    "    def clean(board):\n",
    "        n = 1\n",
    "        while n:\n",
    "            board, n = re.subn(r'(.)\\1{2,}', '', board)\n",
    "        return board\n",
    "\n",
    "    def distance(board):\n",
    "        cntHand = Counter(hand)\n",
    "        res = 0\n",
    "        for b, cnt in Counter(board).items():\n",
    "            if cnt < 3:\n",
    "                if cnt + cntHand[b] < 3:\n",
    "                    return float('inf')\n",
    "                res += 3 - cnt\n",
    "        return res\n",
    "\n",
    "    pq = []\n",
    "    heapq.heappush(pq, (distance(board), 0, board, hand))\n",
    "    best = set()\n",
    "    costs = {(board, hand): 0}\n",
    "    while pq:\n",
    "        _, step, curBoard, curHand = heapq.heappop(pq)\n",
    "        if not curBoard:\n",
    "            return step\n",
    "        best.add((curBoard, curHand))\n",
    "        for i in range(len(curBoard) + 1):\n",
    "            for j in range(len(curHand)):\n",
    "                # # 第 1 个剪枝条件: 当前球的颜色和上一个球的颜色相同\n",
    "                # if j > 0 and curHand[j] == curHand[j - 1]:\n",
    "                #     continue\n",
    "                # # 第 2 个剪枝条件: 只在连续相同颜色的球的开头位置插入新球\n",
    "                # if i > 0 and curBoard[i - 1] == curHand[j]:\n",
    "                #     continue\n",
    "                # # 第 3 个剪枝条件: 只在以下两种情况放置新球\n",
    "                choose = False\n",
    "                #  - 第 1 种情况 : 当前球颜色与后面的球的颜色相同\n",
    "                if i < len(curBoard) and curBoard[i] == curHand[j]:\n",
    "                    choose = True\n",
    "                #  - 第 2 种情况 : 当前后颜色相同且与当前颜色不同时候放置球\n",
    "                if 0 < i < len(curBoard) and curBoard[i - 1] == curBoard[i] and curBoard[i] != curHand[j]:\n",
    "                    choose = True\n",
    "                if choose:\n",
    "                    neiBoard = curBoard[:i] + curHand[j] + curBoard[i:]\n",
    "                    neiBoard = clean(neiBoard)\n",
    "                    neiHand = curHand[:j] + curHand[j + 1:]\n",
    "                    neiState = (neiBoard, neiHand)\n",
    "                    if neiState not in best:\n",
    "                        if neiState not in costs or step + 1 < costs[neiState]:\n",
    "                            costs[neiState] = step + 1\n",
    "                            d = distance(neiBoard)\n",
    "                            if d == float('inf'):\n",
    "                                continue\n",
    "                            priority = step + 1 + d\n",
    "                            heapq.heappush(pq, (priority, step + 1, neiBoard, neiHand))\n",
    "    return -1\n",
    "\n",
    "\n",
    "f('WRRBBW', 'RB')\n",
    "# f('WWRRBBWW', 'WRBRW')\n",
    "f(\"WRRBBW\", \"RB\")\n",
    "f(\"RRGGBBYYWWRRGGBB\", \"RGBYW\")\n"
   ]
  },
  {
   "cell_type": "code",
   "execution_count": null,
   "metadata": {},
   "outputs": [],
   "source": []
  }
 ],
 "metadata": {
  "interpreter": {
   "hash": "aee8b7b246df8f9039afb4144a1f6fd8d2ca17a180786b69acc140d282b71a49"
  },
  "kernelspec": {
   "display_name": "Python 3.10.1 64-bit",
   "language": "python",
   "name": "python3"
  },
  "language_info": {
   "codemirror_mode": {
    "name": "ipython",
    "version": 3
   },
   "file_extension": ".py",
   "mimetype": "text/x-python",
   "name": "python",
   "nbconvert_exporter": "python",
   "pygments_lexer": "ipython3",
   "version": "3.10.1"
  },
  "orig_nbformat": 4
 },
 "nbformat": 4,
 "nbformat_minor": 2
}
