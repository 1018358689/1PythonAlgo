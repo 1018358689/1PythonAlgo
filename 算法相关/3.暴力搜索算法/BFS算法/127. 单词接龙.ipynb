{
 "cells": [
  {
   "cell_type": "code",
   "execution_count": 16,
   "metadata": {},
   "outputs": [
    {
     "data": {
      "text/plain": [
       "1"
      ]
     },
     "execution_count": 16,
     "metadata": {},
     "output_type": "execute_result"
    }
   ],
   "source": [
    "from collections import Counter\n",
    "\n",
    "sum((Counter('hhahc') & Counter('hsbhc')).values())\n",
    "res = 0\n",
    "for i,j in zip('hit','hot'):\n",
    "    if i!=j:\n",
    "        res+=1\n",
    "res\n",
    "sum(i!=j for i,j in zip('hit','hot'))"
   ]
  },
  {
   "cell_type": "code",
   "execution_count": 32,
   "metadata": {},
   "outputs": [
    {
     "data": {
      "text/plain": [
       "5"
      ]
     },
     "execution_count": 32,
     "metadata": {},
     "output_type": "execute_result"
    }
   ],
   "source": [
    "import collections\n",
    "# 其他方法均超时\n",
    "\n",
    "\n",
    "def f(beginWord: str, endWord: str, wordList: list):\n",
    "    if endWord not in wordList:\n",
    "        return 0\n",
    "\n",
    "    def check(s1, s2):\n",
    "        diff = 0\n",
    "        for c1, c2 in zip(s1, s2):\n",
    "            if c1 != c2:\n",
    "                diff += 1\n",
    "                if diff > 1:\n",
    "                    return False\n",
    "        return True\n",
    "\n",
    "    q = collections.deque([beginWord])\n",
    "    vis = set()\n",
    "    step = 1\n",
    "    while q:\n",
    "        for _ in range(len(q)):\n",
    "            cur = q.popleft()\n",
    "            for nei in wordList:\n",
    "                if nei not in vis and check(cur, nei):  # 注意顺序 要先判断是否访问过 再检查是否只差1位\n",
    "                    if nei == endWord:\n",
    "                        return step + 1\n",
    "                    q.append(nei)\n",
    "                    vis.add(nei)\n",
    "        step += 1\n",
    "    return 0\n",
    "\n",
    "\n",
    "f('hit', 'cog', [\"hot\", \"dot\", \"dog\", \"lot\", \"log\", \"cog\"])\n"
   ]
  },
  {
   "cell_type": "code",
   "execution_count": 40,
   "metadata": {},
   "outputs": [
    {
     "data": {
      "text/plain": [
       "5"
      ]
     },
     "execution_count": 40,
     "metadata": {},
     "output_type": "execute_result"
    }
   ],
   "source": [
    "import heapq\n",
    "# A* 可以通过 标准写法\n",
    "\n",
    "\n",
    "def f(beginWord: str, endWord: str, wordList: list):\n",
    "    if endWord not in wordList:\n",
    "        return 0\n",
    "\n",
    "    def check(s1, s2):\n",
    "        diff = 0\n",
    "        for c1, c2 in zip(s1, s2):\n",
    "            if c1 != c2:\n",
    "                diff += 1\n",
    "                if diff > 1:\n",
    "                    return False\n",
    "        return True\n",
    "\n",
    "    def difference(s):\n",
    "        return sum(i != j for i, j in zip(s, endWord))\n",
    "\n",
    "    wordList = set(wordList)\n",
    "    pq = []\n",
    "    heapq.heappush(pq, (difference(beginWord), 1, beginWord))\n",
    "    best = set()\n",
    "    costs = {beginWord: 1}\n",
    "    while pq:\n",
    "        pri, step, cur = heapq.heappop(pq)\n",
    "        if cur == endWord:\n",
    "            return step\n",
    "        best.add(cur)\n",
    "        for nei in wordList:\n",
    "            if nei not in best and check(cur, nei):\n",
    "                if nei not in costs or step + 1 < costs[nei]:\n",
    "                    costs[nei] = step + 1\n",
    "                    priority = step + 1 + difference(nei)\n",
    "                    heapq.heappush(pq, (priority, step + 1, nei))\n",
    "    return 0\n",
    "\n",
    "\n",
    "f('hit', 'cog', [\"hot\", \"dot\", \"dog\", \"lot\", \"log\", \"cog\"])\n"
   ]
  },
  {
   "cell_type": "code",
   "execution_count": 43,
   "metadata": {},
   "outputs": [
    {
     "data": {
      "text/plain": [
       "5"
      ]
     },
     "execution_count": 43,
     "metadata": {},
     "output_type": "execute_result"
    }
   ],
   "source": [
    "import heapq\n",
    "# A* 可以通过\n",
    "\n",
    "\n",
    "def f(beginWord: str, endWord: str, wordList: list):\n",
    "    if endWord not in wordList:\n",
    "        return 0\n",
    "\n",
    "    def check(s1, s2):\n",
    "        diff = 0\n",
    "        for c1, c2 in zip(s1, s2):\n",
    "            if c1 != c2:\n",
    "                diff += 1\n",
    "                if diff > 1:\n",
    "                    return False\n",
    "        return True\n",
    "\n",
    "    def difference(s):\n",
    "        return sum(i != j for i, j in zip(s, endWord))\n",
    "\n",
    "    wordList = set(wordList)\n",
    "    pq = []\n",
    "    heapq.heappush(pq, (difference(beginWord), 1, beginWord))\n",
    "    vis = set()\n",
    "    vis.add(beginWord)\n",
    "    while pq:\n",
    "        pri, step, cur = heapq.heappop(pq)\n",
    "        if cur == endWord:\n",
    "            return step\n",
    "        for nei in wordList:\n",
    "            if nei not in vis and check(cur, nei):\n",
    "                priority = step + 1 + difference(nei)\n",
    "                vis.add(nei)\n",
    "                heapq.heappush(pq, (priority, step + 1, nei))\n",
    "    return 0\n",
    "\n",
    "\n",
    "f('hit', 'cog', [\"hot\", \"dot\", \"dog\", \"lot\", \"log\", \"cog\"])\n"
   ]
  },
  {
   "cell_type": "code",
   "execution_count": 41,
   "metadata": {},
   "outputs": [
    {
     "data": {
      "text/plain": [
       "5"
      ]
     },
     "execution_count": 41,
     "metadata": {},
     "output_type": "execute_result"
    }
   ],
   "source": [
    "import heapq\n",
    "# A* 通过\n",
    "\n",
    "\n",
    "def f(beginWord: str, endWord: str, wordList: list):\n",
    "    if endWord not in wordList:\n",
    "        return 0\n",
    "\n",
    "    def difference(s):\n",
    "        return sum(i != j for i, j in zip(s, endWord))\n",
    "\n",
    "    wordList = set(wordList)\n",
    "    pq = []\n",
    "    heapq.heappush(pq, (difference(beginWord), 1, beginWord))\n",
    "    vis = set()\n",
    "    vis.add(beginWord)\n",
    "    while pq:\n",
    "        pri, step, cur = heapq.heappop(pq)\n",
    "        if cur == endWord:\n",
    "            return step\n",
    "        # vis.add(cur)\n",
    "        for i in range(len(beginWord)):\n",
    "            for o in range(ord('a'), ord('z') + 1):\n",
    "                nei = cur[0:i] + chr(o) + cur[i + 1:]\n",
    "                if nei not in vis and nei in wordList:\n",
    "                    priority = step + 1 + difference(nei)\n",
    "                    vis.add(nei)\n",
    "                    heapq.heappush(pq, (priority, step + 1, nei))\n",
    "    return 0\n",
    "\n",
    "\n",
    "f('hit', 'cog', [\"hot\", \"dot\", \"dog\", \"lot\", \"log\", \"cog\"])\n"
   ]
  },
  {
   "cell_type": "code",
   "execution_count": 23,
   "metadata": {},
   "outputs": [
    {
     "data": {
      "text/plain": [
       "5"
      ]
     },
     "execution_count": 23,
     "metadata": {},
     "output_type": "execute_result"
    }
   ],
   "source": [
    "import collections\n",
    "\n",
    "\n",
    "def f(beginWord: str, endWord: str, wordList: list):\n",
    "    if endWord not in wordList:\n",
    "        return 0\n",
    "        \n",
    "    sz = len(beginWord)\n",
    "    q = collections.deque([beginWord])\n",
    "    step = 0\n",
    "    while q:\n",
    "        for _ in range(len(q)):\n",
    "            cur = q.popleft()\n",
    "            if cur == endWord:\n",
    "                return step + 1\n",
    "            for i in range(sz):\n",
    "                for o in range(ord('a'), ord('z') + 1):\n",
    "                    if chr(o) != cur[i]:\n",
    "                        nei = cur[0:i] + chr(o) + cur[i + 1:]\n",
    "                        if nei in wordList:\n",
    "                            q.append(nei)\n",
    "                            wordList.remove(nei)\n",
    "        step += 1\n",
    "    return 0\n",
    "\n",
    "\n",
    "f('hit', 'cog', [\"hot\", \"dot\", \"dog\", \"lot\", \"log\", \"cog\"])\n"
   ]
  },
  {
   "cell_type": "code",
   "execution_count": null,
   "metadata": {},
   "outputs": [],
   "source": []
  }
 ],
 "metadata": {
  "interpreter": {
   "hash": "004de6046f1b3d314f33fdb43a2dc798b2646e5600efd8df5066c8b63a00ff6d"
  },
  "kernelspec": {
   "display_name": "Python 3.8.10 64-bit",
   "language": "python",
   "name": "python3"
  },
  "language_info": {
   "codemirror_mode": {
    "name": "ipython",
    "version": 3
   },
   "file_extension": ".py",
   "mimetype": "text/x-python",
   "name": "python",
   "nbconvert_exporter": "python",
   "pygments_lexer": "ipython3",
   "version": "3.8.10"
  },
  "orig_nbformat": 4
 },
 "nbformat": 4,
 "nbformat_minor": 2
}
