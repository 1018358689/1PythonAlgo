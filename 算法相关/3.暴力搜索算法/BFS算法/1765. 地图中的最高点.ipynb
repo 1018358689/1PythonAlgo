{
 "cells": [
  {
   "cell_type": "code",
   "execution_count": 3,
   "metadata": {},
   "outputs": [
    {
     "name": "stdout",
     "output_type": "stream",
     "text": [
      "[[-1, -1, 0], [0, -1, -1], [-1, -1, -1]]\n"
     ]
    },
    {
     "data": {
      "text/plain": [
       "[[1, 1, 0], [0, 1, 1], [1, 2, 2]]"
      ]
     },
     "execution_count": 3,
     "metadata": {},
     "output_type": "execute_result"
    }
   ],
   "source": [
    "from pprint import pprint\n",
    "import collections\n",
    "\n",
    "isWater = [[0, 0, 1], [1, 0, 0], [0, 0, 0]]\n",
    "rows = len(isWater)\n",
    "cols = len(isWater[0])\n",
    "q = collections.deque([])\n",
    "for i in range(rows):\n",
    "    for j in range(cols):\n",
    "        if isWater[i][j] == 1:\n",
    "            isWater[i][j] = 0\n",
    "            q.append((i, j))\n",
    "        else:\n",
    "            isWater[i][j] = -1\n",
    "pprint(isWater)\n",
    "step = 1\n",
    "while q:\n",
    "    sz = len(q)\n",
    "    for _ in range(sz):\n",
    "        r, c = q.popleft()\n",
    "        for nr, nc in ((r - 1, c), (r + 1, c), (r, c - 1), (r, c + 1)):\n",
    "            if 0 <= nr < rows and 0 <= nc < cols and isWater[nr][nc] == -1:\n",
    "                isWater[nr][nc] = step\n",
    "                q.append((nr, nc))\n",
    "    step += 1\n",
    "isWater"
   ]
  },
  {
   "cell_type": "code",
   "execution_count": 4,
   "metadata": {},
   "outputs": [
    {
     "data": {
      "text/plain": [
       "[[1, 1], [0, 0], [0, 1]]"
      ]
     },
     "execution_count": 4,
     "metadata": {},
     "output_type": "execute_result"
    }
   ],
   "source": [
    "import collections\n",
    "\n",
    "isWater = [[0, 0, 1], [1, 0, 0], [0, 0, 0]]\n",
    "\n",
    "\n",
    "def f(isWater: list):\n",
    "    rows = len(isWater)\n",
    "    cols = len(isWater[0])\n",
    "    q = collections.deque([])\n",
    "    for i in range(rows):\n",
    "        for j in range(cols):\n",
    "            if isWater[i][j] == 1:\n",
    "                isWater[i][j] = 0\n",
    "                q.append((i, j))\n",
    "            else:\n",
    "                isWater[i][j] = -1\n",
    "    step = 1\n",
    "    while q:\n",
    "        sz = len(q)\n",
    "        for _ in range(sz):\n",
    "            r, c = q.popleft()\n",
    "            for nr, nc in ((r - 1, c), (r + 1, c), (r, c - 1), (r, c + 1)):\n",
    "                if 0 <= nr < rows and 0 <= nc < cols and isWater[nr][nc] == -1:\n",
    "                    isWater[nr][nc] = step\n",
    "                    q.append((nr, nc))\n",
    "        step += 1\n",
    "    return isWater\n",
    "\n",
    "\n",
    "f([[0, 0], [1, 1], [1, 0]])\n"
   ]
  }
 ],
 "metadata": {
  "interpreter": {
   "hash": "aee8b7b246df8f9039afb4144a1f6fd8d2ca17a180786b69acc140d282b71a49"
  },
  "kernelspec": {
   "display_name": "Python 3.8.10 64-bit",
   "language": "python",
   "name": "python3"
  },
  "language_info": {
   "codemirror_mode": {
    "name": "ipython",
    "version": 3
   },
   "file_extension": ".py",
   "mimetype": "text/x-python",
   "name": "python",
   "nbconvert_exporter": "python",
   "pygments_lexer": "ipython3",
   "version": "3.8.10"
  },
  "orig_nbformat": 4
 },
 "nbformat": 4,
 "nbformat_minor": 2
}
