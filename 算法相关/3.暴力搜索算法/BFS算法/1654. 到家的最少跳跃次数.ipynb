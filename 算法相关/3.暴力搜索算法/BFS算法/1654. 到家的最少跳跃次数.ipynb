{
 "cells": [
  {
   "cell_type": "code",
   "execution_count": 13,
   "metadata": {},
   "outputs": [
    {
     "data": {
      "text/plain": [
       "-1"
      ]
     },
     "execution_count": 13,
     "metadata": {},
     "output_type": "execute_result"
    }
   ],
   "source": [
    "import collections\n",
    "# 前进去过的地方，后退就没必要再去了，\n",
    "# 因为前进去过的地方，既可以前进又可以后退。\n",
    "# 但是后退去过的地方因为只能前进，所以前进还得再去搜索一下，\n",
    "# 看后退符不符合条件。 \n",
    "\n",
    "def f(forbidden: list, a: int, b: int, x: int):\n",
    "    q = collections.deque([(0, a), (0, -b)])  # a 右 b 左\n",
    "    step = 0\n",
    "    vis = set(forbidden)\n",
    "    while q:\n",
    "        for _ in range(len(q)):\n",
    "            cur, dir = q.popleft()\n",
    "            if cur == x:\n",
    "                return step\n",
    "            # 向右跳 需要记录vis\n",
    "            if (nei := cur + a) < 6000 and nei not in vis:\n",
    "                q.append((nei, a))\n",
    "                vis.add(nei)\n",
    "            if dir==a and 0 < (nei := cur -b) and nei not in vis:\n",
    "                q.append((nei, -b))\n",
    "        step += 1\n",
    "    return -1\n",
    "\n",
    "\n",
    "# f([14, 4, 18, 1, 15], 3, 15, 9)\n",
    "f([8, 3, 16, 6, 12, 20], 15, 13, 11)\n"
   ]
  },
  {
   "cell_type": "code",
   "execution_count": null,
   "metadata": {},
   "outputs": [],
   "source": []
  }
 ],
 "metadata": {
  "interpreter": {
   "hash": "aee8b7b246df8f9039afb4144a1f6fd8d2ca17a180786b69acc140d282b71a49"
  },
  "kernelspec": {
   "display_name": "Python 3.10.1 64-bit",
   "language": "python",
   "name": "python3"
  },
  "language_info": {
   "codemirror_mode": {
    "name": "ipython",
    "version": 3
   },
   "file_extension": ".py",
   "mimetype": "text/x-python",
   "name": "python",
   "nbconvert_exporter": "python",
   "pygments_lexer": "ipython3",
   "version": "3.10.1"
  },
  "orig_nbformat": 4
 },
 "nbformat": 4,
 "nbformat_minor": 2
}
