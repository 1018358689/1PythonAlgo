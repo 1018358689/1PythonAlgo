{
 "cells": [
  {
   "cell_type": "code",
   "execution_count": 8,
   "metadata": {},
   "outputs": [
    {
     "data": {
      "text/plain": [
       "1"
      ]
     },
     "execution_count": 8,
     "metadata": {},
     "output_type": "execute_result"
    }
   ],
   "source": [
    "import collections\n",
    "\n",
    "\n",
    "def f(start: str, end: str, bank: list):\n",
    "    chrs = {'A', 'C', 'G', 'T'}\n",
    "    q = collections.deque([start])\n",
    "    vis = set()\n",
    "    step = 0\n",
    "    while q:\n",
    "        for _ in range(len(q)):\n",
    "            cur = q.popleft()\n",
    "            if step == 0 or cur in bank and cur not in vis:\n",
    "                if cur == end:\n",
    "                    return step\n",
    "                vis.add(cur)\n",
    "                for i, n in enumerate(cur):\n",
    "                    tmp = list(cur)\n",
    "                    for change in chrs:\n",
    "                        if n != change:\n",
    "                            tmp[i] = change\n",
    "                            nei = ''.join(tmp)\n",
    "                            q.append(nei)\n",
    "        step += 1\n",
    "    return -1\n",
    "\n",
    "\n",
    "f(\"AACCGGTT\", \"AACCGGTA\", [\"AACCGGTA\"])\n",
    "# f(\"AACCGGTT\", \"AACCGGTA\", [])\n"
   ]
  },
  {
   "cell_type": "code",
   "execution_count": 15,
   "metadata": {},
   "outputs": [
    {
     "data": {
      "text/plain": [
       "-1"
      ]
     },
     "execution_count": 15,
     "metadata": {},
     "output_type": "execute_result"
    }
   ],
   "source": [
    "import collections\n",
    "\n",
    "\n",
    "def f(start: str, end: str, bank: list):\n",
    "    chrs = {'A', 'C', 'G', 'T'}\n",
    "    q = collections.deque([start])\n",
    "    vis = set()\n",
    "    step = 0\n",
    "    while q:\n",
    "        for _ in range(len(q)):\n",
    "            cur = q.popleft()\n",
    "            if cur == end:\n",
    "                return step\n",
    "            vis.add(cur)\n",
    "            for i, n in enumerate(cur):\n",
    "                tmp = list(cur)\n",
    "                for change in chrs:\n",
    "                    if n != change:\n",
    "                        tmp[i] = change\n",
    "                        nei = ''.join(tmp)\n",
    "                        if nei in bank and nei not in vis:\n",
    "                            q.append(nei)\n",
    "        step += 1\n",
    "    return -1\n",
    "\n",
    "\n",
    "f(\"AACCGGTT\", \"AACCGGTA\", [\"AACCGGTA\"])\n",
    "f(\"AACCGGTT\", \"AACCGGTA\", [])\n"
   ]
  },
  {
   "cell_type": "code",
   "execution_count": null,
   "metadata": {},
   "outputs": [],
   "source": []
  }
 ],
 "metadata": {
  "interpreter": {
   "hash": "aee8b7b246df8f9039afb4144a1f6fd8d2ca17a180786b69acc140d282b71a49"
  },
  "kernelspec": {
   "display_name": "Python 3.10.1 64-bit",
   "language": "python",
   "name": "python3"
  },
  "language_info": {
   "codemirror_mode": {
    "name": "ipython",
    "version": 3
   },
   "file_extension": ".py",
   "mimetype": "text/x-python",
   "name": "python",
   "nbconvert_exporter": "python",
   "pygments_lexer": "ipython3",
   "version": "3.10.1"
  },
  "orig_nbformat": 4
 },
 "nbformat": 4,
 "nbformat_minor": 2
}
