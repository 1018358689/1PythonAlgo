{
 "cells": [
  {
   "cell_type": "code",
   "execution_count": 40,
   "metadata": {},
   "outputs": [
    {
     "name": "stdout",
     "output_type": "stream",
     "text": [
      "defaultdict(<class 'list'>, {100: [0, 4, 9], -23: [1, 2], 404: [3, 10], 23: [5, 7], 3: [8]})\n"
     ]
    }
   ],
   "source": [
    "arr = [100, -23, -23, 404, 100, 23, 23, 23, 3, 100, 404]\n",
    "import collections\n",
    "\n",
    "ha = collections.defaultdict(list)\n",
    "for i, n in enumerate(arr):\n",
    "    if i > 0 and len(ha[n]) == 2 and n == arr[i - 1]:\n",
    "        ha[n][-1] = i\n",
    "    else:\n",
    "        ha[n].append(i)\n",
    "print(ha)"
   ]
  },
  {
   "cell_type": "code",
   "execution_count": 8,
   "metadata": {},
   "outputs": [
    {
     "data": {
      "text/plain": [
       "3"
      ]
     },
     "execution_count": 8,
     "metadata": {},
     "output_type": "execute_result"
    }
   ],
   "source": [
    "import collections\n",
    "# 精髓就是每个数字只能跳一次，因为后面跳的话步数必然更多，第一次跳到了所有点就行\n",
    "\n",
    "\n",
    "def f(arr: list):\n",
    "    if len(arr) == 1:\n",
    "        return 0\n",
    "    ha = {}\n",
    "    for i, n in enumerate(arr):\n",
    "        if n not in ha:\n",
    "            ha[n] = []\n",
    "        ha[n].append(i)\n",
    "    target = len(arr) - 1\n",
    "    q = collections.deque([(0, arr[0])])\n",
    "    step = 1\n",
    "    visited = set()\n",
    "    visited.add(0)\n",
    "    while q:\n",
    "        sz = len(q)\n",
    "        for _ in range(sz):\n",
    "            index, num = q.popleft()\n",
    "            for nei in [index + 1] + [index - 1] + ha.get(num, []):\n",
    "                if nei < 0 or nei in visited:\n",
    "                    continue\n",
    "                if nei == target:\n",
    "                    return step\n",
    "                visited.add(nei)\n",
    "                q.append((nei, arr[nei]))\n",
    "            ha[num] = []  # ha.pop(num, None) 没有这句话会 第二次再次进入判断是否在visited，删除ha[key]就不会进入稠密子图判断\n",
    "        step += 1\n",
    "\n",
    "\n",
    "f([100, -23, -23, 404, 100, 23, 23, 23, 3, 404])\n",
    "# f([7]), f([7, 6, 9, 6, 9, 6, 9, 7]), f([11, 22, 7, 7, 7, 7, 7, 7, 7, 22, 13])\n"
   ]
  },
  {
   "cell_type": "code",
   "execution_count": null,
   "metadata": {},
   "outputs": [],
   "source": [
    "import collections\n",
    "# 精髓就是每个数字只能跳一次，因为后面跳的话步数必然更多，第一次跳到了所有点就行\n",
    "\n",
    "\n",
    "def f(arr: list):\n",
    "    if len(arr) == 1:\n",
    "        return 0\n",
    "    ha = collections.defaultdict(list)\n",
    "    for i, n in enumerate(arr):\n",
    "        if i > 0 and len(ha[n]) == 2 and n == arr[i - 1]:\n",
    "            ha[n][-1] = i\n",
    "        else:\n",
    "            ha[n].append(i)\n",
    "    target = len(arr) - 1\n",
    "    q = collections.deque([(0, arr[0])])\n",
    "    step = 1\n",
    "    visited = set()\n",
    "    visited.add(0)\n",
    "    while q:\n",
    "        sz = len(q)\n",
    "        for _ in range(sz):\n",
    "            index, num = q.popleft()\n",
    "            for nei in [index + 1] + [index - 1] + ha.get(num, []):\n",
    "                if nei < 0 or nei in visited:\n",
    "                    continue\n",
    "                if nei == target:\n",
    "                    return step\n",
    "                visited.add(nei)\n",
    "                q.append((nei, arr[nei]))\n",
    "            ha[num] = []  # ha.pop(num, None) 没有这句话会 第二次再次进入判断是否在visited，删除ha[key]就不会进入稠密子图判断\n",
    "        step += 1\n",
    "\n",
    "\n",
    "f([100, -23, -23, 404, 100, 23, 23, 23, 3, 404])\n",
    "# f([7]), f([7, 6, 9, 6, 9, 6, 9, 7]), f([11, 22, 7, 7, 7, 7, 7, 7, 7, 22, 13])\n"
   ]
  },
  {
   "cell_type": "code",
   "execution_count": 42,
   "metadata": {},
   "outputs": [
    {
     "data": {
      "text/plain": [
       "(0, 1, 3)"
      ]
     },
     "execution_count": 42,
     "metadata": {},
     "output_type": "execute_result"
    }
   ],
   "source": [
    "import collections\n",
    "\n",
    "\n",
    "def f(arr: list):\n",
    "    ha = collections.defaultdict(list)\n",
    "    for i, n in enumerate(arr):\n",
    "        if i > 0 and len(ha[n]) == 2 and n == arr[i - 1]:\n",
    "            ha[n][-1] = i\n",
    "        else:\n",
    "            ha[n].append(i)\n",
    "    target = len(arr) - 1\n",
    "    q = collections.deque([(0, arr[0])])\n",
    "    step = 0\n",
    "    visited = set()\n",
    "    while q:\n",
    "        sz = len(q)\n",
    "        for _ in range(sz):\n",
    "            index, num = q.popleft()\n",
    "            if index < 0 or index in visited:\n",
    "                continue\n",
    "            if index == target:\n",
    "                return step\n",
    "            visited.add(index)\n",
    "            for nei in [index + 1] + [index - 1] + ha[num]:\n",
    "                q.append((nei, arr[nei]))\n",
    "        step += 1\n",
    "\n",
    "\n",
    "f([100, -23, -23, 404, 100, 23, 23, 23, 3, 404])\n",
    "f([7]), f([7, 6, 9, 6, 9, 6, 9, 7]), f([11, 22, 7, 7, 7, 7, 7, 7, 7, 22, 13])\n"
   ]
  }
 ],
 "metadata": {
  "interpreter": {
   "hash": "aee8b7b246df8f9039afb4144a1f6fd8d2ca17a180786b69acc140d282b71a49"
  },
  "kernelspec": {
   "display_name": "Python 3.10.1 64-bit",
   "language": "python",
   "name": "python3"
  },
  "language_info": {
   "codemirror_mode": {
    "name": "ipython",
    "version": 3
   },
   "file_extension": ".py",
   "mimetype": "text/x-python",
   "name": "python",
   "nbconvert_exporter": "python",
   "pygments_lexer": "ipython3",
   "version": "3.10.1"
  },
  "orig_nbformat": 4
 },
 "nbformat": 4,
 "nbformat_minor": 2
}
