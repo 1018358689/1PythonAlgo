{
 "cells": [
  {
   "cell_type": "markdown",
   "metadata": {},
   "source": [
    "给定一个由 0 和 1 组成的矩阵 mat ，请输出一个大小相同的矩阵，其中每一个格子是 mat 中对应位置元素到最近的 0 的距离。\n",
    "\n",
    "两个相邻元素间的距离为 1 。\n",
    "\n",
    "示例 1：\n",
    "输入：mat = [[0,0,0],[0,1,0],[0,0,0]]\n",
    "输出：[[0,0,0],[0,1,0],[0,0,0]]\n",
    "\n",
    "示例 2：\n",
    "输入：mat = [[0,0,0],[0,1,0],[1,1,1]]\n",
    "输出：[[0,0,0],[0,1,0],[1,2,1]]\n",
    " \n",
    "提示：\n",
    "\n",
    "m == mat.length\n",
    "n == mat[i].length\n",
    "1 <= m, n <= 104\n",
    "1 <= m * n <= 104\n",
    "mat[i][j] is either 0 or 1.\n",
    "mat 中至少有一个 0 "
   ]
  },
  {
   "cell_type": "code",
   "execution_count": 3,
   "metadata": {},
   "outputs": [
    {
     "data": {
      "text/plain": [
       "[[0, 0, 0], [0, 1, 0], [1, 2, 1]]"
      ]
     },
     "execution_count": 3,
     "metadata": {},
     "output_type": "execute_result"
    }
   ],
   "source": [
    "import collections\n",
    "\n",
    "\n",
    "def f(mat: list):\n",
    "    sz_row = len(mat)\n",
    "    sz_col = len(mat[0])\n",
    "    res = [[0] * sz_col for _ in range(sz_row)]\n",
    "\n",
    "    def bfs(grid: list, r: int, c: int):\n",
    "        visited = set()\n",
    "        cnt = 0\n",
    "        q = collections.deque([(r, c)])\n",
    "        while q:\n",
    "            sz = len(q)\n",
    "            for _ in range(sz):\n",
    "                r, c = q.popleft()\n",
    "                if r < 0 or r > sz_row - 1 or c < 0 or c > sz_col - 1:\n",
    "                    continue\n",
    "                if grid[r][c] == 0:\n",
    "                    return cnt\n",
    "                visited.add((r, c))\n",
    "                for nr, nc in ((r - 1, c), (r + 1, c), (r, c - 1), (r, c + 1)):\n",
    "                    if (nr, nc) in visited:\n",
    "                        continue\n",
    "                    q.append((nr, nc))\n",
    "            cnt += 1\n",
    "\n",
    "    for r in range(sz_row):\n",
    "        for c in range(sz_col):\n",
    "            if mat[r][c] == 1:\n",
    "                tmp = bfs(mat, r, c)\n",
    "                res[r][c] = tmp\n",
    "    return res\n",
    "\n",
    "\n",
    "f([[0, 0, 0], [0, 1, 0], [1, 1, 1]])\n"
   ]
  },
  {
   "cell_type": "code",
   "execution_count": 7,
   "metadata": {},
   "outputs": [
    {
     "data": {
      "text/plain": [
       "[[0, 0, 0], [0, 1, 0], [1, 2, 1]]"
      ]
     },
     "execution_count": 7,
     "metadata": {},
     "output_type": "execute_result"
    }
   ],
   "source": [
    "import collections\n",
    "\n",
    "\n",
    "def f(mat: list):\n",
    "    sz_row = len(mat)\n",
    "    sz_col = len(mat[0])\n",
    "    q = collections.deque([])\n",
    "    res = [[0] * sz_col for _ in range(sz_row)]\n",
    "    for r in range(sz_row):\n",
    "        for c in range(sz_col):\n",
    "            if mat[r][c] == 0:\n",
    "                q.append((r, c))\n",
    "    step = 0\n",
    "    visited = set(q)\n",
    "    while q:\n",
    "        sz = len(q)\n",
    "        for _ in range(sz):\n",
    "            r, c = q.popleft()\n",
    "\n",
    "            if mat[r][c] == 1:\n",
    "                res[r][c] = step\n",
    "\n",
    "            for nr, nc in ((r - 1, c), (r + 1, c), (r, c - 1), (r, c + 1)):\n",
    "                if nr < 0 or nr > sz_row - 1 or nc < 0 or nc > sz_col-1:\n",
    "                    continue\n",
    "                if (nr, nc) in visited:\n",
    "                    continue\n",
    "                visited.add((nr, nc))\n",
    "                q.append((nr, nc))\n",
    "        step += 1\n",
    "    return res\n",
    "f([[0, 0, 0], [0, 1, 0], [1, 1, 1]])\n"
   ]
  },
  {
   "cell_type": "code",
   "execution_count": null,
   "metadata": {},
   "outputs": [],
   "source": []
  }
 ],
 "metadata": {
  "interpreter": {
   "hash": "004de6046f1b3d314f33fdb43a2dc798b2646e5600efd8df5066c8b63a00ff6d"
  },
  "kernelspec": {
   "display_name": "Python 3.8.10 64-bit",
   "language": "python",
   "name": "python3"
  },
  "language_info": {
   "codemirror_mode": {
    "name": "ipython",
    "version": 3
   },
   "file_extension": ".py",
   "mimetype": "text/x-python",
   "name": "python",
   "nbconvert_exporter": "python",
   "pygments_lexer": "ipython3",
   "version": "3.8.10"
  },
  "orig_nbformat": 4
 },
 "nbformat": 4,
 "nbformat_minor": 2
}
