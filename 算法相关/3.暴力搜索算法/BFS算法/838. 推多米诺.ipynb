{
 "cells": [
  {
   "cell_type": "code",
   "execution_count": 14,
   "metadata": {},
   "outputs": [
    {
     "data": {
      "text/plain": [
       "'LL.RR.LLRRLL..'"
      ]
     },
     "execution_count": 14,
     "metadata": {},
     "output_type": "execute_result"
    }
   ],
   "source": [
    "# BFS\n",
    "import collections\n",
    "\n",
    "\n",
    "def f(dominoes: str):\n",
    "    dominoes = list(dominoes)\n",
    "    sz = len(dominoes)\n",
    "    q = collections.deque([(i, n) for i, n in enumerate(dominoes) if n != '.'])\n",
    "    times = [0] * sz  # 记录每张牌被推倒时间\n",
    "    while q:\n",
    "        for _ in range(len(q)):\n",
    "            cur, n = q.popleft()\n",
    "            time = times[cur]\n",
    "            nei = cur + 1 if n == 'R' else cur - 1  # 下一张牌位置\n",
    "            if 0 <= nei < sz:\n",
    "                nei_n = dominoes[nei]\n",
    "                if nei_n == '.':  # 如果下一张牌是竖立 就推倒 且标记时间 且入队\n",
    "                    dominoes[nei] = n\n",
    "                    times[nei] = time + 1\n",
    "                    q.append((nei, n))\n",
    "                # 如果下一张牌是相反的牌 则判断是什么时候推倒的 如果是同一时间 就把他推回竖立 否则不管他\n",
    "                elif nei_n == ('R' if n == 'L' else 'L') and times[nei] == time + 1:\n",
    "                    dominoes[nei] = '.'\n",
    "    return ''.join(dominoes)\n",
    "\n",
    "\n",
    "f(\".L.R...LR..L..\")"
   ]
  },
  {
   "cell_type": "code",
   "execution_count": 15,
   "metadata": {},
   "outputs": [
    {
     "data": {
      "text/plain": [
       "'...'"
      ]
     },
     "execution_count": 15,
     "metadata": {},
     "output_type": "execute_result"
    }
   ],
   "source": [
    "'.'*3"
   ]
  },
  {
   "cell_type": "code",
   "execution_count": 19,
   "metadata": {},
   "outputs": [
    {
     "data": {
      "text/plain": [
       "'LL.RR.LLRRLL..'"
      ]
     },
     "execution_count": 19,
     "metadata": {},
     "output_type": "execute_result"
    }
   ],
   "source": [
    "# 双指针\n",
    "def f(dominoes: str):\n",
    "    dominoes = 'L' + dominoes + 'R'\n",
    "    l = 0\n",
    "    res = []\n",
    "    for r in range(len(dominoes)):\n",
    "        if dominoes[r] == '.':\n",
    "            continue\n",
    "        if l != 0:  # 首位不用添加到结果\n",
    "            res.append(dominoes[l])\n",
    "        mid_sz = r - l - 1  # 中间长度\n",
    "        if dominoes[l] == dominoes[r]:  # 左右方向相同 中间全该方向\n",
    "            res.append(dominoes[r] * mid_sz)\n",
    "        elif dominoes[l] == 'L' and dominoes[r] == 'R':  # 左右往外 中间全竖\n",
    "            res.append('.' * mid_sz)\n",
    "        elif dominoes[l] == 'R' and dominoes[r] == 'L':  # 左右往内 看中间长度决定最中间要不要倒\n",
    "            res.append('R' * (mid_sz // 2) + '.' * (mid_sz % 2) + 'L' * (mid_sz // 2))\n",
    "        l = r\n",
    "    return ''.join(res)\n",
    "\n",
    "\n",
    "f(\".L.R...LR..L..\")"
   ]
  },
  {
   "cell_type": "code",
   "execution_count": null,
   "metadata": {},
   "outputs": [],
   "source": []
  }
 ],
 "metadata": {
  "interpreter": {
   "hash": "004de6046f1b3d314f33fdb43a2dc798b2646e5600efd8df5066c8b63a00ff6d"
  },
  "kernelspec": {
   "display_name": "Python 3.8.10 64-bit",
   "language": "python",
   "name": "python3"
  },
  "language_info": {
   "codemirror_mode": {
    "name": "ipython",
    "version": 3
   },
   "file_extension": ".py",
   "mimetype": "text/x-python",
   "name": "python",
   "nbconvert_exporter": "python",
   "pygments_lexer": "ipython3",
   "version": "3.8.10"
  },
  "orig_nbformat": 4
 },
 "nbformat": 4,
 "nbformat_minor": 2
}
