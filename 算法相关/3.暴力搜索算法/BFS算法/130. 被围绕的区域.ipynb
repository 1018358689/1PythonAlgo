{
 "cells": [
  {
   "cell_type": "markdown",
   "metadata": {},
   "source": [
    "给你一个 m x n 的矩阵 board ，由若干字符 'X' 和 'O' ，找到所有被 'X' 围绕的区域，并将这些区域里所有的 'O' 用 'X' 填充。\n",
    "\n",
    "示例 1：\n",
    "输入：board = [[\"X\",\"X\",\"X\",\"X\"],[\"X\",\"O\",\"O\",\"X\"],[\"X\",\"X\",\"O\",\"X\"],[\"X\",\"O\",\"X\",\"X\"]]\n",
    "输出：[[\"X\",\"X\",\"X\",\"X\"],[\"X\",\"X\",\"X\",\"X\"],[\"X\",\"X\",\"X\",\"X\"],[\"X\",\"O\",\"X\",\"X\"]]\n",
    "解释：被围绕的区间不会存在于边界上，换句话说，任何边界上的 'O' 都不会被填充为 'X'。 任何不在边界上，或不与边界上的 'O' 相连的 'O' 最终都会被填充为 'X'。如果两个元素在水平或垂直方向相邻，则称它们是“相连”的。\n",
    "\n",
    "示例 2：\n",
    "输入：board = [[\"X\"]]\n",
    "输出：[[\"X\"]]\n",
    " \n",
    "提示：\n",
    "\n",
    "m == board.length\n",
    "n == board[i].length\n",
    "1 <= m, n <= 200\n",
    "board[i][j] 为 'X' 或 'O'"
   ]
  },
  {
   "cell_type": "code",
   "execution_count": 1,
   "metadata": {},
   "outputs": [
    {
     "data": {
      "text/plain": [
       "[['X']]"
      ]
     },
     "execution_count": 1,
     "metadata": {},
     "output_type": "execute_result"
    }
   ],
   "source": [
    "import collections\n",
    "\n",
    "\n",
    "def f(board: list):\n",
    "    rows = len(board)\n",
    "    cols = len(board[0])\n",
    "    q = collections.deque([])\n",
    "    for c in range(cols):\n",
    "        if board[0][c] == 'O': q.append((0, c))\n",
    "        if board[rows - 1][c] == 'O': q.append((rows - 1, c))\n",
    "    for r in range(rows):\n",
    "        if board[r][0] == 'O': q.append((r, 0))\n",
    "        if board[r][cols - 1] == 'O': q.append((r, cols - 1))\n",
    "    while q:\n",
    "        sz = len(q)\n",
    "        for _ in range(sz):\n",
    "            r, c = q.popleft()\n",
    "            if r < 0 or r > rows - 1 or c < 0 or c > cols - 1 or board[r][c] == 'X' or board[r][c] == 'T':\n",
    "                continue\n",
    "            board[r][c] = 'T'\n",
    "            for nr, nc in ((r - 1, c), (r + 1, c), (r, c - 1), (r, c + 1)):\n",
    "                q.append((nr, nc))\n",
    "    for r in range(rows):\n",
    "        for c in range(cols):\n",
    "            if board[r][c] == 'O':\n",
    "                board[r][c] = 'X'\n",
    "            if board[r][c] == 'T':\n",
    "                board[r][c] = 'O'\n",
    "    return board\n",
    "\n",
    "\n",
    "f([[\"X\", \"X\", \"X\", \"X\"], [\"X\", \"O\", \"O\", \"X\"], [\"X\", \"X\", \"O\", \"X\"], [\"X\", \"O\", \"X\", \"X\"]])\n",
    "f([['X']])"
   ]
  },
  {
   "cell_type": "code",
   "execution_count": 3,
   "metadata": {},
   "outputs": [
    {
     "data": {
      "text/plain": [
       "[['X']]"
      ]
     },
     "execution_count": 3,
     "metadata": {},
     "output_type": "execute_result"
    }
   ],
   "source": [
    "import collections\n",
    "\n",
    "\n",
    "def f(board: list):\n",
    "    rows = len(board)\n",
    "    cols = len(board[0])\n",
    "\n",
    "    def bfs(board, r, c):\n",
    "        q = collections.deque([(r, c)])\n",
    "        while q:\n",
    "            sz = len(q)\n",
    "            for _ in range(sz):\n",
    "                r, c = q.popleft()\n",
    "                if r < 0 or r > rows - 1 or c < 0 or c > cols - 1 or board[r][c] == 'X' or board[r][c] == 'T':\n",
    "                    continue\n",
    "                board[r][c] = 'T'\n",
    "                for nr, nc in ((r - 1, c), (r + 1, c), (r, c - 1), (r, c + 1)):\n",
    "                    q.append((nr, nc))\n",
    "\n",
    "    for c in range(cols):\n",
    "        if board[0][c] == 'O': bfs(board, 0, c)\n",
    "        if board[rows - 1][c] == 'O': bfs(board, rows - 1, c)\n",
    "    for r in range(rows):\n",
    "        if board[r][0] == 'O': bfs(board, r, 0)\n",
    "        if board[r][cols - 1] == 'O': bfs(board, r, cols - 1)\n",
    "\n",
    "    for r in range(rows):\n",
    "        for c in range(cols):\n",
    "            if board[r][c] == 'O':\n",
    "                board[r][c] = 'X'\n",
    "            if board[r][c] == 'T':\n",
    "                board[r][c] = 'O'\n",
    "    return board\n",
    "\n",
    "\n",
    "f([[\"X\", \"X\", \"X\", \"X\"], [\"X\", \"O\", \"O\", \"X\"], [\"X\", \"X\", \"O\", \"X\"], [\"X\", \"O\", \"X\", \"X\"]])\n",
    "f([['X']])"
   ]
  },
  {
   "cell_type": "code",
   "execution_count": null,
   "metadata": {},
   "outputs": [],
   "source": []
  }
 ],
 "metadata": {
  "interpreter": {
   "hash": "31f2aee4e71d21fbe5cf8b01ff0e069b9275f58929596ceb00d14d90e3e16cd6"
  },
  "kernelspec": {
   "display_name": "Python 3.8.9 64-bit",
   "language": "python",
   "name": "python3"
  },
  "language_info": {
   "codemirror_mode": {
    "name": "ipython",
    "version": 3
   },
   "file_extension": ".py",
   "mimetype": "text/x-python",
   "name": "python",
   "nbconvert_exporter": "python",
   "pygments_lexer": "ipython3",
   "version": "3.8.9"
  },
  "orig_nbformat": 4
 },
 "nbformat": 4,
 "nbformat_minor": 2
}
