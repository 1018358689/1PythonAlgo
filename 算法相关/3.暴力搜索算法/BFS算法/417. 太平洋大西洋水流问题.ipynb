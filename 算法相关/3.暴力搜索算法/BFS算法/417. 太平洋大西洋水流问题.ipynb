{
 "cells": [
  {
   "cell_type": "code",
   "execution_count": 45,
   "metadata": {},
   "outputs": [
    {
     "data": {
      "text/plain": [
       "[[0, 4], [1, 3], [1, 4], [2, 2], [3, 0], [3, 1], [4, 0]]"
      ]
     },
     "execution_count": 45,
     "metadata": {},
     "output_type": "execute_result"
    }
   ],
   "source": [
    "from collections import deque\n",
    "from pprint import pprint\n",
    "\n",
    "\n",
    "def f(heights: list):\n",
    "    rows, cols = len(heights), len(heights[0])\n",
    "    res = [[[False, False] for _ in range(cols)] for __ in range(rows)]\n",
    "\n",
    "    def bfs(q: deque, sea: int, visited: set):\n",
    "        while q:\n",
    "            sz = len(q)\n",
    "            for _ in range(sz):\n",
    "                r, c, h = q.popleft()\n",
    "                for nr, nc in ((r - 1, c), (r + 1, c), (r, c - 1), (r, c + 1)):\n",
    "                    if 0 <= nr < rows and 0 <= nc < cols and (nr, nc) not in visited:\n",
    "                        nh = heights[nr][nc]\n",
    "                        if nh >= h:\n",
    "                            res[nr][nc][sea] = True\n",
    "                            visited.add((nr, nc))\n",
    "                            q.append((nr, nc, nh))\n",
    "\n",
    "    q1 = deque([])\n",
    "    q2 = deque([])\n",
    "    for r in range(rows):\n",
    "        q1.append((r, 0, heights[r][0]))\n",
    "        res[r][0][0] = True\n",
    "        q2.append((r, cols - 1, heights[r][cols - 1]))\n",
    "        res[r][cols - 1][1] = True\n",
    "    for c in range(cols):\n",
    "        q1.append((0, c, heights[0][c]))\n",
    "        res[0][c][0] = True\n",
    "        q2.append((rows - 1, c, heights[rows - 1][c]))\n",
    "        res[rows - 1][c][1] = True\n",
    "    bfs(q1, 0, set(q1))\n",
    "    bfs(q2, 1, set(q2))\n",
    "    result = []\n",
    "    for r in range(rows):\n",
    "        for c in range(cols):\n",
    "            if res[r][c] == [True, True]:\n",
    "                result.append([r, c])\n",
    "    return result\n",
    "\n",
    "\n",
    "f([[1, 2, 2, 3, 5], [3, 2, 3, 4, 4], [2, 4, 5, 3, 1], [6, 7, 1, 4, 5], [5, 1, 1, 2, 4]])\n"
   ]
  },
  {
   "cell_type": "code",
   "execution_count": 19,
   "metadata": {},
   "outputs": [
    {
     "data": {
      "text/plain": [
       "[[[False, False], [False, False]],\n",
       " [[False, False], [False, False]],\n",
       " [[False, False], [False, False]]]"
      ]
     },
     "execution_count": 19,
     "metadata": {},
     "output_type": "execute_result"
    }
   ],
   "source": [
    "l = [[[False,False]] * 2 for _ in range(3)] # 会出现引用问题\n",
    "l = [[[False, False] for _ in range(2)] for __ in range(3)]"
   ]
  },
  {
   "cell_type": "code",
   "execution_count": 46,
   "metadata": {},
   "outputs": [
    {
     "data": {
      "text/plain": [
       "[[0, 4], [1, 3], [1, 4], [2, 2], [3, 0], [3, 1], [4, 0]]"
      ]
     },
     "execution_count": 46,
     "metadata": {},
     "output_type": "execute_result"
    }
   ],
   "source": [
    "from collections import deque\n",
    "from pprint import pprint\n",
    "\n",
    "\n",
    "def f(heights: list):\n",
    "    rows, cols = len(heights), len(heights[0])\n",
    "    res = [[[False, False] for _ in range(cols)] for __ in range(rows)]\n",
    "\n",
    "    def bfs(q: deque, sea: int):\n",
    "        visited = set()\n",
    "        while q:\n",
    "            sz = len(q)\n",
    "            for _ in range(sz):\n",
    "                r, c, h = q.popleft()\n",
    "                if 0 <= r < rows and 0 <= c < cols and (r, c) not in visited:\n",
    "                    ch = heights[r][c]\n",
    "                    if ch >= h:\n",
    "                        res[r][c][sea] = True\n",
    "                        visited.add((r, c))\n",
    "                        for nr, nc in ((r - 1, c), (r + 1, c), (r, c - 1), (r, c + 1)):\n",
    "                            q.append((nr, nc, ch))\n",
    "\n",
    "    q1 = deque([])\n",
    "    q2 = deque([])\n",
    "    for r in range(rows):\n",
    "        q1.append((r, 0, -1))\n",
    "        res[r][0][0] = True\n",
    "        q2.append((r, cols - 1, -1))\n",
    "        res[r][cols - 1][1] = True\n",
    "    for c in range(cols):\n",
    "        q1.append((0, c, -1))\n",
    "        res[0][c][0] = True\n",
    "        q2.append((rows - 1, c, -1))\n",
    "        res[rows - 1][c][1] = True\n",
    "    bfs(q1, 0)\n",
    "    bfs(q2, 1)\n",
    "    result = []\n",
    "    for r in range(rows):\n",
    "        for c in range(cols):\n",
    "            if res[r][c] == [True, True]:\n",
    "                result.append([r, c])\n",
    "    return result\n",
    "\n",
    "\n",
    "f([[1, 2, 2, 3, 5], [3, 2, 3, 4, 4], [2, 4, 5, 3, 1], [6, 7, 1, 4, 5], [5, 1, 1, 2, 4]])\n"
   ]
  },
  {
   "cell_type": "code",
   "execution_count": 22,
   "metadata": {},
   "outputs": [
    {
     "name": "stdout",
     "output_type": "stream",
     "text": [
      "(2, 1) 4 2\n",
      "(3, 1) 7 6\n",
      "(1, 1) 2 2\n",
      "(1, 2) 3 2\n",
      "(1, 3) 4 3\n",
      "(2, 2) 5 4\n",
      "(1, 4) 4 4\n",
      "(1, 3) 4 4\n",
      "(2, 3) 3 1\n",
      "(3, 0) 6 5\n",
      "(3, 1) 7 1\n",
      "(3, 2) 1 1\n",
      "(3, 3) 4 2\n",
      "(2, 2) 5 3\n"
     ]
    },
    {
     "data": {
      "text/plain": [
       "[(4, 0), (0, 4), (3, 1), (1, 4), (3, 0), (2, 2), (1, 3)]"
      ]
     },
     "execution_count": 22,
     "metadata": {},
     "output_type": "execute_result"
    }
   ],
   "source": [
    "import collections\n",
    "\n",
    "\n",
    "def f(heights: list):\n",
    "    rows, cols = len(heights), len(heights[0])\n",
    "\n",
    "    def bfs(q, oceran):\n",
    "        while q:\n",
    "            sz = len(q)\n",
    "            for _ in range(sz):\n",
    "                r, c = q.popleft()\n",
    "                for nr, nc in ((r - 1, c), (r + 1, c), (r, c - 1), (r, c + 1)):\n",
    "                    if 0 <= nr < rows and 0 <= nc < cols and heights[nr][nc] >= heights[r][c] and (nr, nc) not in oceran:\n",
    "                        oceran.add((nr, nc))\n",
    "                        q.append((nr, nc))\n",
    "\n",
    "    pq = collections.deque([])\n",
    "    aq = collections.deque([])\n",
    "    for r in range(rows):\n",
    "        pq.append((r, 0))\n",
    "        aq.append((r, cols - 1))\n",
    "    for c in range(cols):\n",
    "        pq.append((0, c))\n",
    "        aq.append((rows - 1, c))\n",
    "    po = set(pq)  # 存p洋到a洋\n",
    "    ao = set(aq)  # 存a洋到p洋\n",
    "    bfs(pq, po)\n",
    "    bfs(aq, ao)\n",
    "    return list(ao & po)  # 取路径交集\n",
    "\n",
    "\n",
    "f([[1, 2, 2, 3, 5], [3, 2, 3, 4, 4], [2, 4, 5, 3, 1], [6, 7, 1, 4, 5], [5, 1, 1, 2, 4]])\n"
   ]
  },
  {
   "cell_type": "code",
   "execution_count": 1,
   "metadata": {},
   "outputs": [],
   "source": [
    "def f(heights: list):\n",
    "    rows, cols = len(heights), len(heights[0])\n",
    "    pvis, avis = set(), set()\n",
    "\n",
    "    def dfs(r, c, vis):\n",
    "        if (r, c) not in vis:\n",
    "            vis.add((r, c))\n",
    "        for nr, nc in ((r - 1, c), (r + 1, c), (r, c - 1), (r, c + 1)):\n",
    "            if 0 <= nr < rows and 0 <= nc < cols and (nr, nc) not in vis and heights[nr][nc] >= heights[r][c]:\n",
    "                dfs(nr, nc, vis)\n",
    "                vis.add((nr, nc))\n",
    "\n",
    "    for r in range(rows):\n",
    "        dfs(r, 0, pvis)\n",
    "        dfs(r, cols - 1, avis)\n",
    "    for c in range(cols):\n",
    "        dfs(0, c, pvis)\n",
    "        dfs(rows - 1, c, avis)\n",
    "    return list(map(list, pvis & avis))\n"
   ]
  },
  {
   "cell_type": "code",
   "execution_count": 4,
   "metadata": {},
   "outputs": [
    {
     "data": {
      "text/plain": [
       "([(1, 2)], [[1, 2]])"
      ]
     },
     "execution_count": 4,
     "metadata": {},
     "output_type": "execute_result"
    }
   ],
   "source": [
    "a = {(1, 2), (1, 3), (1, 4)}\n",
    "b = {(1, 2), (4, 5)}\n",
    "list(a & b), list(map(list, a & b))\n"
   ]
  },
  {
   "cell_type": "code",
   "execution_count": null,
   "metadata": {},
   "outputs": [],
   "source": []
  }
 ],
 "metadata": {
  "interpreter": {
   "hash": "aee8b7b246df8f9039afb4144a1f6fd8d2ca17a180786b69acc140d282b71a49"
  },
  "kernelspec": {
   "display_name": "Python 3.8.10 64-bit",
   "language": "python",
   "name": "python3"
  },
  "language_info": {
   "codemirror_mode": {
    "name": "ipython",
    "version": 3
   },
   "file_extension": ".py",
   "mimetype": "text/x-python",
   "name": "python",
   "nbconvert_exporter": "python",
   "pygments_lexer": "ipython3",
   "version": "3.10.1"
  },
  "orig_nbformat": 4
 },
 "nbformat": 4,
 "nbformat_minor": 2
}
