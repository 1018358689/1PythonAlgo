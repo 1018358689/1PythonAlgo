{
 "cells": [
  {
   "cell_type": "markdown",
   "metadata": {},
   "source": [
    "给定一个二叉树，找出其最小深度。\n",
    "最小深度是从根节点到最近叶子节点的最短路径上的节点数量。\n",
    "说明：叶子节点是指没有子节点的节点。\n",
    "\n",
    "示例 1：\n",
    "输入：root = [3,9,20,null,null,15,7]\n",
    "输出：2\n",
    "\n",
    "示例 2：\n",
    "输入：root = [2,null,3,null,4,null,5,null,6]\n",
    "输出：5\n",
    " \n",
    "提示：\n",
    "\n",
    "树中节点数的范围在 [0, 105] 内\n",
    "-1000 <= Node.val <= 1000\n",
    "\n",
    "来源：力扣（LeetCode）\n",
    "链接：https://leetcode-cn.com/problems/minimum-depth-of-binary-tree\n",
    "著作权归领扣网络所有。商业转载请联系官方授权，非商业转载请注明出处。"
   ]
  },
  {
   "cell_type": "code",
   "execution_count": 1,
   "metadata": {},
   "outputs": [],
   "source": [
    "# Definition for a binary tree node.\n",
    "class TreeNode:\n",
    "    def __init__(self, val=0, left=None, right=None):\n",
    "        self.val = val\n",
    "        self.left = left\n",
    "        self.right = right\n",
    "\n",
    "\n",
    "from collections import deque\n",
    "\n",
    "\n",
    "class Solution:\n",
    "    def minDepth(self, root: TreeNode) -> int:\n",
    "        if not root:\n",
    "            return 0\n",
    "        deepth = 0\n",
    "        queue = deque([root])\n",
    "        while queue:\n",
    "            deepth += 1\n",
    "            sz = len(queue)\n",
    "            for _ in range(sz):\n",
    "                cur = queue.popleft()\n",
    "                if cur.left is None and cur.right is None:\n",
    "                    return deepth\n",
    "                if cur.left: queue.append(cur.left)\n",
    "                if cur.right: queue.append(cur.right)\n"
   ]
  },
  {
   "cell_type": "code",
   "execution_count": null,
   "metadata": {},
   "outputs": [],
   "source": [
    "class Solution:\n",
    "    def minDepth(self, root: TreeNode) -> int:\n",
    "        if not root: return 0\n",
    "        res = float('inf')\n",
    "\n",
    "        def dfs(node, height):\n",
    "            nonlocal res\n",
    "            if node.left == None and node.right == None:\n",
    "                res = min(res, height)\n",
    "                return\n",
    "            if node.left: dfs(node.left, height + 1)\n",
    "            if node.right: dfs(node.right, height + 1)\n",
    "\n",
    "        dfs(root, 1)\n",
    "        return res"
   ]
  }
 ],
 "metadata": {
  "interpreter": {
   "hash": "004de6046f1b3d314f33fdb43a2dc798b2646e5600efd8df5066c8b63a00ff6d"
  },
  "kernelspec": {
   "display_name": "Python 3.8.10 64-bit",
   "language": "python",
   "name": "python3"
  },
  "language_info": {
   "codemirror_mode": {
    "name": "ipython",
    "version": 3
   },
   "file_extension": ".py",
   "mimetype": "text/x-python",
   "name": "python",
   "nbconvert_exporter": "python",
   "pygments_lexer": "ipython3",
   "version": "3.8.10"
  },
  "orig_nbformat": 4
 },
 "nbformat": 4,
 "nbformat_minor": 2
}
