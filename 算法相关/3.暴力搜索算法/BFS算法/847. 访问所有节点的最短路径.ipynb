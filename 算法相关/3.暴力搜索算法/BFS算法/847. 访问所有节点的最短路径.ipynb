{
 "cells": [
  {
   "cell_type": "code",
   "execution_count": 7,
   "metadata": {},
   "outputs": [
    {
     "data": {
      "text/plain": [
       "4"
      ]
     },
     "execution_count": 7,
     "metadata": {},
     "output_type": "execute_result"
    }
   ],
   "source": [
    "import collections\n",
    "\n",
    "\n",
    "def f(graph: list):\n",
    "    n = len(graph)\n",
    "    q = collections.deque([])\n",
    "    on_path = [0] * n\n",
    "    for i in range(n):\n",
    "        on_path[i] = 1\n",
    "        q.append((i, tuple(on_path)))  # 节点 及 到该节点经过的节点\n",
    "        on_path[i] = 0\n",
    "    vis = set()  # 状态:节点 及 到该节点经过的节点\n",
    "    step = 0\n",
    "    while q:\n",
    "        for _ in range(len(q)):\n",
    "            cur, on_path = q.popleft()\n",
    "            state = (cur, on_path)  # 当前状态\n",
    "            if state not in vis:  # 当前状态未访问过 防止重复走过\n",
    "                if on_path == tuple([1] * n):  # 如果全部节点已经走过则返回\n",
    "                    return step\n",
    "                vis.add(state)\n",
    "                for nei in graph[cur]:\n",
    "                    tmp = list(on_path)\n",
    "                    tmp[nei] = 1\n",
    "                    q.append((nei, tuple(tmp)))  # 邻节点 及新状态加上走到该邻节点\n",
    "        step += 1\n",
    "    return -1\n",
    "\n",
    "\n",
    "# f([[0]])\n",
    "f([[1], [0, 2, 4], [1, 3, 4], [2], [1, 2]])\n",
    "# f([[1, 2, 3], [0], [0], [0]])\n"
   ]
  },
  {
   "cell_type": "code",
   "execution_count": 3,
   "metadata": {},
   "outputs": [
    {
     "data": {
      "text/plain": [
       "4"
      ]
     },
     "execution_count": 3,
     "metadata": {},
     "output_type": "execute_result"
    }
   ],
   "source": [
    "import collections\n",
    "\n",
    "\n",
    "def f(graph: list):\n",
    "    n = len(graph)\n",
    "    q = collections.deque([])\n",
    "    on_path = [0] * n\n",
    "    for i in range(n):\n",
    "        on_path[i] = 1\n",
    "        q.append((i, tuple(on_path)))  # 节点 及 到该节点经过的节点\n",
    "        on_path[i] = 0\n",
    "    vis = set(q)  # 状态:节点 及 到该节点经过的节点\n",
    "    step = 0\n",
    "    while q:\n",
    "        for _ in range(len(q)):\n",
    "            cur, on_path = q.popleft()\n",
    "            if on_path == tuple([1] * n):  # 如果全部节点已经走过则返回\n",
    "                return step\n",
    "            for nei in graph[cur]:\n",
    "                tmp = list(on_path)\n",
    "                tmp[nei] = 1\n",
    "                nei_path = tuple(tmp)\n",
    "                nei_state = (nei, nei_path)  # 邻节点状态:邻节点 及新状态加上走到该邻节点\n",
    "                if nei_state not in vis:  # 当前状态未访问过 防止重复走过\n",
    "                    vis.add(nei_state)\n",
    "                    q.append(nei_state)\n",
    "        step += 1\n",
    "    return step\n",
    "\n",
    "\n",
    "# f([[0]])\n",
    "f([[1], [0, 2, 4], [1, 3, 4], [2], [1, 2]])\n",
    "# f([[1, 2, 3], [0], [0], [0]])"
   ]
  },
  {
   "cell_type": "code",
   "execution_count": 23,
   "metadata": {},
   "outputs": [
    {
     "data": {
      "text/plain": [
       "3"
      ]
     },
     "execution_count": 23,
     "metadata": {},
     "output_type": "execute_result"
    }
   ],
   "source": [
    "bin(1 << 2 | 1 << 3)\n",
    "bin((1 << 6) - 1)\n",
    "bin(1 << 2 | 1 << 3).count('0')\n"
   ]
  },
  {
   "cell_type": "code",
   "execution_count": 39,
   "metadata": {},
   "outputs": [
    {
     "data": {
      "text/plain": [
       "4"
      ]
     },
     "execution_count": 39,
     "metadata": {},
     "output_type": "execute_result"
    }
   ],
   "source": [
    "import collections\n",
    "\n",
    "\n",
    "def f(graph: list):\n",
    "    n = len(graph)\n",
    "    q = collections.deque([])\n",
    "    for cur in range(n):\n",
    "        q.append((cur, 1<<cur))\n",
    "    vis = set(q)\n",
    "    target = 2**n-1 # 全1\n",
    "    step = 0\n",
    "    while q:\n",
    "        for _ in range(len(q)):\n",
    "            cur, state = q.popleft()\n",
    "            if state == target:\n",
    "                return step\n",
    "            for nei in graph[cur]:\n",
    "                nei_state = state | (1<<nei)\n",
    "                if (nei, nei_state) not in vis:\n",
    "                    vis.add((nei, nei_state))\n",
    "                    q.append((nei, nei_state))\n",
    "        step += 1\n",
    "    return -1\n",
    "\n",
    "\n",
    "# f([[1], [0, 2, 4], [1, 3, 4], [2], [1, 2]])\n",
    "f([[1, 2, 3], [0], [0], [0]])"
   ]
  },
  {
   "cell_type": "code",
   "execution_count": 6,
   "metadata": {},
   "outputs": [
    {
     "data": {
      "text/plain": [
       "4"
      ]
     },
     "execution_count": 6,
     "metadata": {},
     "output_type": "execute_result"
    }
   ],
   "source": [
    "import collections\n",
    "\n",
    "\n",
    "def f(graph: list):\n",
    "    n = len(graph)\n",
    "    q = collections.deque([])\n",
    "    for cur in range(n):\n",
    "        q.append((cur, 1 << cur))  # 000001 的 1往左移几步 (做标记)\n",
    "    vis = set()  # 走到某个点的状态 (node,state) 相当于 走到node的经过state有没有走过\n",
    "    target = (1 << n) - 1  # 2**n - 1 全1\n",
    "    step = 0\n",
    "    while q:\n",
    "        for _ in range(len(q)):\n",
    "            cur, state = q.popleft()\n",
    "            if (cur, state) not in vis:\n",
    "                if state == target:\n",
    "                    return step\n",
    "                vis.add((cur, state))\n",
    "                for nei in graph[cur]:\n",
    "                    q.append((nei, state | (1 << nei)))  # 并集 相当于标记路线1<<nei\n",
    "        step += 1\n",
    "    return -1\n",
    "\n",
    "\n",
    "# f([[1], [0, 2, 4], [1, 3, 4], [2], [1, 2]])\n",
    "f([[1, 2, 3], [0], [0], [0]])\n"
   ]
  },
  {
   "cell_type": "code",
   "execution_count": null,
   "metadata": {},
   "outputs": [],
   "source": [
    "t = (1,[2,3])\n",
    "set(t)"
   ]
  },
  {
   "cell_type": "code",
   "execution_count": 16,
   "metadata": {},
   "outputs": [
    {
     "data": {
      "text/plain": [
       "(['a', 'b', 'c', 'd'], ['a', 'b', 'c', 'd'])"
      ]
     },
     "execution_count": 16,
     "metadata": {},
     "output_type": "execute_result"
    }
   ],
   "source": [
    "import collections\n",
    "s1='abcd'\n",
    "s2='abcde'\n",
    "d = {'a':1,'b':2}\n",
    "a = collections.Counter(s1)\n",
    "list(a),list(a)"
   ]
  },
  {
   "cell_type": "code",
   "execution_count": 20,
   "metadata": {},
   "outputs": [
    {
     "data": {
      "text/plain": [
       "4"
      ]
     },
     "execution_count": 20,
     "metadata": {},
     "output_type": "execute_result"
    }
   ],
   "source": [
    "import heapq\n",
    "# 启发式A*算法\n",
    "\n",
    "def f(graph: list):\n",
    "    sz = len(graph)\n",
    "    pq = []\n",
    "    best = set()\n",
    "    costs = {}\n",
    "    target = (1 << sz) - 1\n",
    "    for i in range(sz):\n",
    "        heapq.heappush(pq, (sz - 1, 0, i, 1 << i))\n",
    "        costs[(i, 1 << i)] = 0\n",
    "\n",
    "    def distance(state):\n",
    "        return sz - bin(state).count('1')\n",
    "\n",
    "    while pq:\n",
    "        _, step, cur, state = heapq.heappop(pq)\n",
    "        if state == target:\n",
    "            return step\n",
    "        best.add((cur, state))\n",
    "        for nei in graph[cur]:\n",
    "            if nei not in best:\n",
    "                neiState = state | (1 << nei)\n",
    "                if (nei, neiState) not in costs or step + 1 < costs[(nei, neiState)]:\n",
    "                    costs[(nei, neiState)] = step + 1\n",
    "                    priority = step + 1 + distance(neiState)\n",
    "                    heapq.heappush(pq, (priority, step + 1, nei, neiState))\n",
    "\n",
    "f([[1], [0, 2, 4], [1, 3, 4], [2], [1, 2]])\n",
    "# f([[1, 2, 3], [0], [0], [0]])"
   ]
  },
  {
   "cell_type": "code",
   "execution_count": null,
   "metadata": {},
   "outputs": [],
   "source": []
  }
 ],
 "metadata": {
  "interpreter": {
   "hash": "004de6046f1b3d314f33fdb43a2dc798b2646e5600efd8df5066c8b63a00ff6d"
  },
  "kernelspec": {
   "display_name": "Python 3.8.10 64-bit",
   "language": "python",
   "name": "python3"
  },
  "language_info": {
   "codemirror_mode": {
    "name": "ipython",
    "version": 3
   },
   "file_extension": ".py",
   "mimetype": "text/x-python",
   "name": "python",
   "nbconvert_exporter": "python",
   "pygments_lexer": "ipython3",
   "version": "3.10.1"
  },
  "orig_nbformat": 4
 },
 "nbformat": 4,
 "nbformat_minor": 2
}
