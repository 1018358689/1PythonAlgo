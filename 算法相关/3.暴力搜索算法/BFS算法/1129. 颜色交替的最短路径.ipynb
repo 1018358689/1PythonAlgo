{
 "cells": [
  {
   "cell_type": "code",
   "execution_count": 10,
   "metadata": {},
   "outputs": [
    {
     "name": "stdout",
     "output_type": "stream",
     "text": [
      "[[(1, -1)], [(2, -1), (2, 1)], [(3, -1), (3, 1)], [(4, -1), (1, 1)], []]\n"
     ]
    },
    {
     "data": {
      "text/plain": [
       "[0, 1, 2, 3, -1]"
      ]
     },
     "execution_count": 10,
     "metadata": {},
     "output_type": "execute_result"
    }
   ],
   "source": [
    "# 平行边出错\n",
    "import collections\n",
    "\n",
    "\n",
    "def f(n: int, red_edges: list, blue_edges: list):\n",
    "    neis = [[] for _ in range(n)]\n",
    "    for cur, nei in red_edges:\n",
    "        neis[cur].append((nei, -1))\n",
    "    for cur, nei in blue_edges:\n",
    "        neis[cur].append((nei, 1))\n",
    "    print(neis)\n",
    "    q = collections.deque([(0, 99)])\n",
    "    res = [-1] * n\n",
    "    res[0] = 0\n",
    "    vis = set()\n",
    "    vis.add(0)\n",
    "    step = 1\n",
    "    while q:\n",
    "        sz = len(q)\n",
    "        for _ in range(sz):\n",
    "            cur, color = q.popleft()\n",
    "            for nei, nei_color in neis[cur]:\n",
    "                if step == 1 or (nei not in vis and nei_color == -color):\n",
    "                    res[nei] = step\n",
    "                    vis.add(nei)\n",
    "                    q.append((nei, nei_color))\n",
    "        step += 1\n",
    "    return res\n",
    "\n",
    "\n",
    "# f(3, [[0, 1], [1, 2]], [])\n",
    "# f(3, [[0, 1]], [[1, 2]])\n",
    "# f(3, [[0, 1], [0, 2]], [[1, 0]])\n",
    "f(5, [[0, 1], [1, 2], [2, 3], [3, 4]], [[1, 2], [2, 3], [3, 1]])\n"
   ]
  },
  {
   "cell_type": "code",
   "execution_count": 16,
   "metadata": {},
   "outputs": [
    {
     "data": {
      "text/plain": [
       "[0, 1, -1]"
      ]
     },
     "execution_count": 16,
     "metadata": {},
     "output_type": "execute_result"
    }
   ],
   "source": [
    "import collections\n",
    "\n",
    "\n",
    "def f(n: int, red_edges: list, blue_edges: list):\n",
    "    neis_red = collections.defaultdict(list)\n",
    "    neis_blue = collections.defaultdict(list)\n",
    "    for cur, nei in red_edges:\n",
    "        neis_red[cur].append(nei)\n",
    "    for cur, nei in blue_edges:\n",
    "        neis_blue[cur].append(nei)\n",
    "    q = collections.deque([(0, -1)])  # 位置 颜色-1:红色，1:蓝色\n",
    "    vis_red = set()\n",
    "    vis_blue = set()\n",
    "    vis_red.add(0)\n",
    "    vis_blue.add(0)\n",
    "    step = 1\n",
    "    res = [float('inf')] * n\n",
    "    res[0] = 0\n",
    "    while q:\n",
    "        sz = len(q)\n",
    "        for _ in range(sz):\n",
    "            po, color = q.popleft()\n",
    "            if step == 1 or color == -1:  # 红色\n",
    "                for nei in neis_blue[po]:\n",
    "                    if nei not in vis_blue:\n",
    "                        vis_blue.add(nei)\n",
    "                        res[nei] = min(res[nei], step)\n",
    "                        q.append((nei, 1))\n",
    "            if step == 1 or color == 1:\n",
    "                for nei in neis_red[po]:\n",
    "                    if nei not in vis_red:\n",
    "                        vis_red.add(nei)\n",
    "                        res[nei] = min(res[nei], step)\n",
    "                        q.append((nei, -1))\n",
    "        step += 1\n",
    "    return [i if i != float('inf') else -1 for i in res]\n",
    "\n",
    "f(3, [[0, 1], [1, 2]], [])\n",
    "# f(3, [[0, 1]], [[1, 2]])\n",
    "# f(3, [[0, 1], [0, 2]], [[1, 0]])\n",
    "# f(5, [[0, 1], [1, 2], [2, 3], [3, 4]], [[1, 2], [2, 3], [3, 1]])\n"
   ]
  },
  {
   "cell_type": "code",
   "execution_count": 20,
   "metadata": {},
   "outputs": [
    {
     "data": {
      "text/plain": [
       "[0, 1, 2, 3, 7]"
      ]
     },
     "execution_count": 20,
     "metadata": {},
     "output_type": "execute_result"
    }
   ],
   "source": [
    "import collections\n",
    "\n",
    "\n",
    "def f(n: int, red_edges: list, blue_edges: list):\n",
    "    neis_red = collections.defaultdict(list)\n",
    "    neis_blue = collections.defaultdict(list)\n",
    "    for cur, nei in red_edges:\n",
    "        neis_red[cur].append(nei)\n",
    "    for cur, nei in blue_edges:\n",
    "        neis_blue[cur].append(nei)\n",
    "    q = collections.deque([(0, -1), (0, 1)])  # 位置 颜色-1:红色，1:蓝色\n",
    "    res = [float('inf')] * n\n",
    "    step = 0\n",
    "    while q:\n",
    "        sz = len(q)\n",
    "        for _ in range(sz):\n",
    "            cur, color = q.popleft()\n",
    "            res[cur] = min(res[cur], step)\n",
    "            neis = neis_blue if color == -1 else neis_red\n",
    "            for nei in neis[cur]:\n",
    "                q.append((nei, -color))\n",
    "            neis[cur] = []\n",
    "        step += 1\n",
    "    return [i if i != float('inf') else -1 for i in res]\n",
    "\n",
    "\n",
    "# f(3, [[0, 1], [1, 2]], [])\n",
    "# f(3, [[0, 1]], [[1, 2]])\n",
    "# f(3, [[0, 1], [0, 2]], [[1, 0]])\n",
    "f(5, [[0, 1], [1, 2], [2, 3], [3, 4]], [[1, 2], [2, 3], [3, 1]])\n"
   ]
  }
 ],
 "metadata": {
  "interpreter": {
   "hash": "004de6046f1b3d314f33fdb43a2dc798b2646e5600efd8df5066c8b63a00ff6d"
  },
  "kernelspec": {
   "display_name": "Python 3.8.10 64-bit",
   "language": "python",
   "name": "python3"
  },
  "language_info": {
   "codemirror_mode": {
    "name": "ipython",
    "version": 3
   },
   "file_extension": ".py",
   "mimetype": "text/x-python",
   "name": "python",
   "nbconvert_exporter": "python",
   "pygments_lexer": "ipython3",
   "version": "3.8.10"
  },
  "orig_nbformat": 4
 },
 "nbformat": 4,
 "nbformat_minor": 2
}
