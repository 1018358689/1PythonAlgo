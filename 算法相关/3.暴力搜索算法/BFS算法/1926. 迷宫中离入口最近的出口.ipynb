{
 "cells": [
  {
   "cell_type": "code",
   "execution_count": 34,
   "metadata": {},
   "outputs": [
    {
     "data": {
      "text/plain": [
       "-1"
      ]
     },
     "execution_count": 34,
     "metadata": {},
     "output_type": "execute_result"
    }
   ],
   "source": [
    "import collections\n",
    "\n",
    "\n",
    "def f(maze: list, entrance: list):\n",
    "    rows, cols = len(maze), len(maze[0])\n",
    "    q = collections.deque([entrance])\n",
    "    maze[entrance[0]][entrance[1]] = '+'\n",
    "    step = 0\n",
    "    while q:\n",
    "        for _ in range(len(q)):\n",
    "            r, c = q.popleft()\n",
    "            for nr, nc in ((r - 1, c), (r + 1, c), (r, c - 1), (r, c + 1)):\n",
    "                if 0 <= nr < rows and 0 <= nc < cols and maze[nr][nc] == '.':\n",
    "                    if nr == 0 or nr == rows - 1 or nc == 0 or nc == cols - 1:\n",
    "                        return step + 1\n",
    "                    maze[nr][nc] = '+'\n",
    "                    q.append((nr, nc))\n",
    "        step += 1\n",
    "    return -1\n",
    "\n",
    "\n",
    "# f([[\"+\", \"+\", \".\", \"+\"], [\".\", \".\", \".\", \"+\"], [\"+\", \"+\", \"+\", \".\"]], [1, 2])\n",
    "# f([[\"+\", \"+\", \"+\"], [\".\", \".\", \".\"], [\"+\", \"+\", \"+\"]], [1, 0])\n",
    "f([[\".\", \"+\"]], [0, 0])"
   ]
  },
  {
   "cell_type": "code",
   "execution_count": 20,
   "metadata": {},
   "outputs": [
    {
     "name": "stdout",
     "output_type": "stream",
     "text": [
      "{(-1, 0), (1, 0), (0, -1), (0, 0)}\n"
     ]
    },
    {
     "data": {
      "text/plain": [
       "-1"
      ]
     },
     "execution_count": 20,
     "metadata": {},
     "output_type": "execute_result"
    }
   ],
   "source": [
    "import collections\n",
    "\n",
    "\n",
    "def f(maze: list, entrance: list):\n",
    "    rows, cols = len(maze), len(maze[0])\n",
    "    q = collections.deque([entrance])\n",
    "    visited = set()\n",
    "    sr, sc = entrance\n",
    "    visited.add((sr, sc))\n",
    "    # 把边界起点四周出界点加入 已访问\n",
    "    if sr == 0:\n",
    "        visited.add((-1, sc))\n",
    "    if sr == rows - 1:\n",
    "        visited.add((rows, sc))\n",
    "    if sc == 0:\n",
    "        visited.add((sr, -1))\n",
    "    if sc == cols - 1:\n",
    "        visited.add((sr, cols))\n",
    "    step = 0\n",
    "    print(visited)\n",
    "    while q:\n",
    "        sz = len(q)\n",
    "        for _ in range(sz):\n",
    "            r, c = q.popleft()\n",
    "            for nr, nc in ((r - 1, c), (r + 1, c), (r, c - 1), (r, c + 1)):\n",
    "                # 开始出界点或已访问 就跳过 避免重复\n",
    "                if (nr, nc) in visited:\n",
    "                    continue\n",
    "                # 过程中出界则得出答案\n",
    "                if nr < 0 or nr > rows - 1 or nc < 0 or nc > cols - 1:\n",
    "                    return step\n",
    "                # 不出界 入队\n",
    "                if maze[nr][nc] == '.':\n",
    "                    visited.add((nr, nc))\n",
    "                    q.append((nr, nc))\n",
    "        step += 1\n",
    "    return -1\n",
    "\n",
    "\n",
    "# f([[\"+\", \"+\", \".\", \"+\"], [\".\", \".\", \".\", \"+\"], [\"+\", \"+\", \"+\", \".\"]], [1, 2])\n",
    "# f([[\"+\", \"+\", \"+\"], [\".\", \".\", \".\"], [\"+\", \"+\", \"+\"]], [1, 0])\n",
    "f([[\".\", \"+\"]], [0, 0])\n"
   ]
  },
  {
   "cell_type": "code",
   "execution_count": 21,
   "metadata": {},
   "outputs": [
    {
     "data": {
      "text/plain": [
       "-1"
      ]
     },
     "execution_count": 21,
     "metadata": {},
     "output_type": "execute_result"
    }
   ],
   "source": [
    "import collections\n",
    "\n",
    "\n",
    "def f(maze: list, entrance: list):\n",
    "    rows, cols = len(maze), len(maze[0])\n",
    "    q = collections.deque([entrance])\n",
    "    visited = set()\n",
    "    sr, sc = entrance\n",
    "    visited.add((sr, sc))\n",
    "\n",
    "    out = set()  # 把边界起点四周出界点 集合\n",
    "    if sr == 0:\n",
    "        out.add((-1, sc))\n",
    "    if sr == rows - 1:\n",
    "        out.add((rows, sc))\n",
    "    if sc == 0:\n",
    "        out.add((sr, -1))\n",
    "    if sc == cols - 1:\n",
    "        out.add((sr, cols))\n",
    "    step = 0\n",
    "    while q:\n",
    "        sz = len(q)\n",
    "        for _ in range(sz):\n",
    "            r, c = q.popleft()\n",
    "            for nr, nc in ((r - 1, c), (r + 1, c), (r, c - 1), (r, c + 1)):\n",
    "                # 开始出界点 就跳过 避免重复\n",
    "                if (nr, nc) in out:\n",
    "                    continue\n",
    "                # 过程中出界则得出答案\n",
    "                if nr < 0 or nr > rows - 1 or nc < 0 or nc > cols - 1:\n",
    "                    return step\n",
    "                # 不出界 未访问 入队\n",
    "                if maze[nr][nc] == '.' and (nr, nc) not in visited:\n",
    "                    visited.add((nr, nc))\n",
    "                    q.append((nr, nc))\n",
    "        step += 1\n",
    "    return -1\n",
    "\n",
    "\n",
    "# f([[\"+\", \"+\", \".\", \"+\"], [\".\", \".\", \".\", \"+\"], [\"+\", \"+\", \"+\", \".\"]], [1, 2])\n",
    "# f([[\"+\", \"+\", \"+\"], [\".\", \".\", \".\"], [\"+\", \"+\", \"+\"]], [1, 0])\n",
    "f([[\".\", \"+\"]], [0, 0])\n"
   ]
  },
  {
   "cell_type": "code",
   "execution_count": 28,
   "metadata": {},
   "outputs": [
    {
     "name": "stdout",
     "output_type": "stream",
     "text": [
      "{(1, 2)}\n"
     ]
    },
    {
     "data": {
      "text/plain": [
       "1"
      ]
     },
     "execution_count": 28,
     "metadata": {},
     "output_type": "execute_result"
    }
   ],
   "source": [
    "import collections\n",
    "\n",
    "\n",
    "def f(maze: list, entrance: list):\n",
    "    rows, cols = len(maze), len(maze[0])\n",
    "    q = collections.deque([entrance])\n",
    "    visited = set()\n",
    "    sr, sc = entrance\n",
    "    visited.add((sr, sc))\n",
    "    # 把边界起点四周出界点加入 已访问\n",
    "    visited |= {(-1, sc)} if sr == 0 else set()\n",
    "    visited |= {(rows, sc)} if sr == rows - 1 else set()\n",
    "    visited |= {(sr, -1)} if sc == 0 else set()\n",
    "    visited |= {(sr, cols)} if sc == cols - 1 else set()\n",
    "\n",
    "    step = 0\n",
    "    print(visited)\n",
    "    while q:\n",
    "        sz = len(q)\n",
    "        for _ in range(sz):\n",
    "            r, c = q.popleft()\n",
    "            for nr, nc in ((r - 1, c), (r + 1, c), (r, c - 1), (r, c + 1)):\n",
    "                # 注意顺序 要先判断 visited 再判断 是否出界\n",
    "                # 开始出界点 就跳过 避免重复\n",
    "                if (nr, nc) in visited:\n",
    "                    continue\n",
    "                # 过程中出界则得出答案\n",
    "                if nr < 0 or nr > rows - 1 or nc < 0 or nc > cols - 1:\n",
    "                    return step\n",
    "                # 不出界 未访问 入队\n",
    "                if maze[nr][nc] == '.':\n",
    "                    visited.add((nr, nc))\n",
    "                    q.append((nr, nc))\n",
    "        step += 1\n",
    "    return -1\n",
    "\n",
    "\n",
    "f([[\"+\", \"+\", \".\", \"+\"], [\".\", \".\", \".\", \"+\"], [\"+\", \"+\", \"+\", \".\"]], [1, 2])\n",
    "# f([[\"+\", \"+\", \"+\"], [\".\", \".\", \".\"], [\"+\", \"+\", \"+\"]], [1, 0])\n",
    "# f([[\".\", \"+\"]], [0, 0])\n"
   ]
  },
  {
   "cell_type": "code",
   "execution_count": 30,
   "metadata": {},
   "outputs": [
    {
     "name": "stdout",
     "output_type": "stream",
     "text": [
      "{(1, 2)}\n"
     ]
    },
    {
     "data": {
      "text/plain": [
       "1"
      ]
     },
     "execution_count": 30,
     "metadata": {},
     "output_type": "execute_result"
    }
   ],
   "source": [
    "import collections\n",
    "\n",
    "\n",
    "def f(maze: list, entrance: list):\n",
    "    rows, cols = len(maze), len(maze[0])\n",
    "    q = collections.deque([entrance])\n",
    "    visited = set()\n",
    "    sr, sc = entrance\n",
    "    visited.add((sr, sc))\n",
    "    # 把边界起点四周出界点加入 已访问\n",
    "    for nr, nc in ((sr - 1, sc), (sr + 1, sc), (sr, sc - 1), (sr, sc + 1)):\n",
    "        if nr < 0 or nr > rows - 1 or nc < 0 or nc > cols - 1:\n",
    "            visited.add((nr, nc))\n",
    "\n",
    "    step = 0\n",
    "    print(visited)\n",
    "    while q:\n",
    "        sz = len(q)\n",
    "        for _ in range(sz):\n",
    "            r, c = q.popleft()\n",
    "            for nr, nc in ((r - 1, c), (r + 1, c), (r, c - 1), (r, c + 1)):\n",
    "                # 注意顺序 要先判断 visited 再判断 是否出界\n",
    "                # 开始出界点 就跳过 避免重复\n",
    "                if (nr, nc) in visited:\n",
    "                    continue\n",
    "                # 过程中出界则得出答案\n",
    "                if nr < 0 or nr > rows - 1 or nc < 0 or nc > cols - 1:\n",
    "                    return step\n",
    "                # 不出界 未访问 入队\n",
    "                if maze[nr][nc] == '.':\n",
    "                    visited.add((nr, nc))\n",
    "                    q.append((nr, nc))\n",
    "        step += 1\n",
    "    return -1\n",
    "\n",
    "\n",
    "f([[\"+\", \"+\", \".\", \"+\"], [\".\", \".\", \".\", \"+\"], [\"+\", \"+\", \"+\", \".\"]], [1, 2])\n",
    "# f([[\"+\", \"+\", \"+\"], [\".\", \".\", \".\"], [\"+\", \"+\", \"+\"]], [1, 0])\n",
    "# f([[\".\", \"+\"]], [0, 0])\n"
   ]
  },
  {
   "cell_type": "code",
   "execution_count": null,
   "metadata": {},
   "outputs": [],
   "source": []
  }
 ],
 "metadata": {
  "interpreter": {
   "hash": "004de6046f1b3d314f33fdb43a2dc798b2646e5600efd8df5066c8b63a00ff6d"
  },
  "kernelspec": {
   "display_name": "Python 3.8.10 64-bit",
   "language": "python",
   "name": "python3"
  },
  "language_info": {
   "codemirror_mode": {
    "name": "ipython",
    "version": 3
   },
   "file_extension": ".py",
   "mimetype": "text/x-python",
   "name": "python",
   "nbconvert_exporter": "python",
   "pygments_lexer": "ipython3",
   "version": "3.8.10"
  },
  "orig_nbformat": 4
 },
 "nbformat": 4,
 "nbformat_minor": 2
}
