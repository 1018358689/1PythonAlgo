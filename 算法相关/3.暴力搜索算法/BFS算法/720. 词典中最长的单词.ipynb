{
 "cells": [
  {
   "cell_type": "code",
   "execution_count": 11,
   "metadata": {},
   "outputs": [
    {
     "data": {
      "text/plain": [
       "(None, {''})"
      ]
     },
     "execution_count": 11,
     "metadata": {},
     "output_type": "execute_result"
    }
   ],
   "source": [
    "[chr(i) for i in range(ord('a'),ord('a')+26)]\n",
    "ha = set()\n",
    "ha.add(''),ha"
   ]
  },
  {
   "cell_type": "code",
   "execution_count": 10,
   "metadata": {},
   "outputs": [
    {
     "data": {
      "text/plain": [
       "'a'"
      ]
     },
     "execution_count": 10,
     "metadata": {},
     "output_type": "execute_result"
    }
   ],
   "source": [
    "from collections import deque\n",
    "\n",
    "\n",
    "def f(words: list):\n",
    "    w = [chr(i) for i in range(ord('a'), ord('a') + 26)]\n",
    "    q = deque(sorted(w for w in words if len(w) == 1))\n",
    "    ha = set(words) # 提高查询效率\n",
    "    ans = ''\n",
    "    while q:\n",
    "        for _ in range(len(q)):\n",
    "            cur = q.popleft()\n",
    "            ans = max((ans, cur), key=len)\n",
    "            for addWord in w:\n",
    "                neiWord = cur + addWord\n",
    "                if neiWord in ha:\n",
    "                    q.append(neiWord)\n",
    "    return ans\n",
    "\n",
    "\n",
    "f([\"w\", \"wo\", \"wor\", \"worl\", \"world\"])\n",
    "f([\"a\", \"banana\", \"app\", \"appl\", \"ap\", \"apply\", \"apple\"])\n",
    "f([\"a\"])"
   ]
  },
  {
   "cell_type": "code",
   "execution_count": 14,
   "metadata": {},
   "outputs": [
    {
     "data": {
      "text/plain": [
       "'a'"
      ]
     },
     "execution_count": 14,
     "metadata": {},
     "output_type": "execute_result"
    }
   ],
   "source": [
    "def f(words: list):\n",
    "    words.sort(key=lambda x: (len(x), x))\n",
    "    ha = set()\n",
    "    ha.add('')\n",
    "    ans = ''\n",
    "    for w in words:\n",
    "        if w[:-1] in ha:\n",
    "            ha.add(w)\n",
    "            ans = max((ans, w), key=len)\n",
    "    return ans\n",
    "\n",
    "\n",
    "f([\"w\", \"wo\", \"wor\", \"worl\", \"world\"])\n",
    "f([\"a\", \"banana\", \"app\", \"appl\", \"ap\", \"apply\", \"apple\"])\n",
    "f([\"a\"])"
   ]
  },
  {
   "cell_type": "code",
   "execution_count": 19,
   "metadata": {},
   "outputs": [
    {
     "data": {
      "text/plain": [
       "'world'"
      ]
     },
     "execution_count": 19,
     "metadata": {},
     "output_type": "execute_result"
    }
   ],
   "source": [
    "def f(words: list):\n",
    "    words.sort(key=lambda x: (-len(x), x))\n",
    "    ha = set(words)\n",
    "    for w in words:\n",
    "        for i in range(1, len(w)):\n",
    "            if w[:i] not in ha:\n",
    "                break\n",
    "        else:\n",
    "            return w\n",
    "    return ''\n",
    "\n",
    "\n",
    "f([\"w\", \"wo\", \"wor\", \"worl\", \"world\"])\n",
    "# f([\"a\", \"banana\", \"app\", \"appl\", \"ap\", \"apply\", \"apple\"])\n",
    "# f([\"a\"])\n"
   ]
  },
  {
   "cell_type": "code",
   "execution_count": null,
   "metadata": {},
   "outputs": [],
   "source": []
  }
 ],
 "metadata": {
  "interpreter": {
   "hash": "a5f34674cfcc9b13426a2d112c686bc132e4ef443f1487e707e7c3787d6bcf89"
  },
  "kernelspec": {
   "display_name": "Python 3.10.2 64-bit (windows store)",
   "language": "python",
   "name": "python3"
  },
  "language_info": {
   "codemirror_mode": {
    "name": "ipython",
    "version": 3
   },
   "file_extension": ".py",
   "mimetype": "text/x-python",
   "name": "python",
   "nbconvert_exporter": "python",
   "pygments_lexer": "ipython3",
   "version": "3.10.3"
  },
  "orig_nbformat": 4
 },
 "nbformat": 4,
 "nbformat_minor": 2
}
