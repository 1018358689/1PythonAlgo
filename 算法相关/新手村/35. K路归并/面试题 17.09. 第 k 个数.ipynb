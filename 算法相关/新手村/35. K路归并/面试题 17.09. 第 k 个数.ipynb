{
 "cells": [
  {
   "cell_type": "code",
   "execution_count": null,
   "metadata": {},
   "outputs": [],
   "source": [
    "class Solution:\n",
    "\n",
    "    def getKthMagicNumber(self, k: int) -> int:\n",
    "        ans = [1]\n",
    "        p3, p5, p7 = 0, 0, 0\n",
    "        for _ in range(k - 1):\n",
    "            cur = min(ans[p3] * 3, ans[p5] * 5, ans[p7] * 7)\n",
    "            if cur == ans[p3] * 3:\n",
    "                p3 += 1\n",
    "            if cur == ans[p5] * 5:\n",
    "                p5 += 1\n",
    "            if cur == ans[p7] * 7:\n",
    "                p7 += 1\n",
    "            ans.append(cur)\n",
    "        return ans[-1]\n"
   ]
  }
 ],
 "metadata": {
  "kernelspec": {
   "display_name": "Python 3.10.5 64-bit",
   "language": "python",
   "name": "python3"
  },
  "language_info": {
   "name": "python",
   "version": "3.10.5"
  },
  "orig_nbformat": 4,
  "vscode": {
   "interpreter": {
    "hash": "3196968d684371006099b3d55edeef8ed90365227a30deaef86e5d4aa8519be0"
   }
  }
 },
 "nbformat": 4,
 "nbformat_minor": 2
}
