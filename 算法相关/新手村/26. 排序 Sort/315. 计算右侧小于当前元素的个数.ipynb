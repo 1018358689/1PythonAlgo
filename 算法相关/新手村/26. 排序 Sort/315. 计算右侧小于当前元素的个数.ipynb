{
 "cells": [
  {
   "cell_type": "code",
   "execution_count": 4,
   "metadata": {},
   "outputs": [
    {
     "name": "stdout",
     "output_type": "stream",
     "text": [
      "0 0 1 [0, 0, 0, 0]\n",
      "[1, 0, 0, 0]\n",
      "2 2 3 [1, 0, 0, 0]\n",
      "[1, 0, 1, 0]\n",
      "0 1 3 [1, 0, 1, 0]\n",
      "[1, 1, 1, 0]\n"
     ]
    },
    {
     "data": {
      "text/plain": [
       "[1, 1, 1, 0]"
      ]
     },
     "execution_count": 4,
     "metadata": {},
     "output_type": "execute_result"
    }
   ],
   "source": [
    "from typing import List\n",
    "# error\n",
    "\n",
    "\n",
    "class Solution:\n",
    "\n",
    "    def countSmaller(self, nums: List[int]) -> List[int]:\n",
    "        ans = [0] * len(nums)\n",
    "        nums = [(n, i) for i, n in enumerate(nums)]\n",
    "\n",
    "        def merge(si, mi, ei):  # [si,mi] [mi+1,ei]\n",
    "            print(si, mi, ei, ans)\n",
    "            tmp = []\n",
    "            p1, p2 = si, mi + 1\n",
    "            while p1 <= mi and p2 <= ei:\n",
    "                if nums[p1][0] > nums[p2][0]:\n",
    "                    tmp.append(nums[p2])\n",
    "                    ans[nums[p1][1]] += p2 - mi  # p2-(mi+1)+1 # 错误点:[2,5][1,6] 2会统计1 然后1走了 5就统计不到1了\n",
    "                    p2 += 1\n",
    "                else:\n",
    "                    tmp.append(nums[p1])\n",
    "                    p1 += 1\n",
    "            tmp += nums[p1:mi + 1] + nums[p2:ei + 1]\n",
    "            nums[si:ei + 1] = tmp\n",
    "            print(ans)\n",
    "\n",
    "        def dc(si, ei):\n",
    "            if si >= ei:\n",
    "                return\n",
    "            mi = si + ei >> 1\n",
    "            dc(si, mi)\n",
    "            dc(mi + 1, ei)\n",
    "            merge(si, mi, ei)\n",
    "\n",
    "        dc(0, len(nums) - 1)\n",
    "        return ans\n",
    "\n",
    "\n",
    "s = Solution()\n",
    "s.countSmaller([5, 2, 6, 1])\n"
   ]
  },
  {
   "cell_type": "code",
   "execution_count": 9,
   "metadata": {},
   "outputs": [
    {
     "data": {
      "text/plain": [
       "[2, 1, 1, 0]"
      ]
     },
     "execution_count": 9,
     "metadata": {},
     "output_type": "execute_result"
    }
   ],
   "source": [
    "from typing import List\n",
    "\n",
    "\n",
    "class Solution:\n",
    "\n",
    "    def countSmaller(self, nums: List[int]) -> List[int]:\n",
    "        ans = [0] * len(nums)\n",
    "        nums = [(n, i) for i, n in enumerate(nums)]\n",
    "\n",
    "        def merge(si, mi, ei):  # [si,mi] [mi+1,ei]\n",
    "            tmp = []\n",
    "            p1, p2 = si, mi + 1\n",
    "            while p1 <= mi and p2 <= ei:\n",
    "                if nums[p1][0] <= nums[p2][0]:\n",
    "                    tmp.append(nums[p1])\n",
    "                    ans[nums[p1][1]] += p2 - mi - 1  # 意味着p2左边都小于p1\n",
    "                    p1 += 1\n",
    "                else:\n",
    "                    tmp.append(nums[p2])\n",
    "                    p2 += 1\n",
    "            tmp += nums[p1:mi + 1] + nums[p2:ei + 1]\n",
    "            for i in range(p1, mi + 1): # nums[i]全大于 [mi+1,ei]\n",
    "                ans[nums[i][1]] += ei - mi\n",
    "            nums[si:ei + 1] = tmp\n",
    "\n",
    "        def dc(si, ei):\n",
    "            if si >= ei:\n",
    "                return\n",
    "            mi = si + ei >> 1\n",
    "            dc(si, mi)\n",
    "            dc(mi + 1, ei)\n",
    "            merge(si, mi, ei)\n",
    "\n",
    "        dc(0, len(nums) - 1)\n",
    "        return ans\n",
    "\n",
    "\n",
    "s = Solution()\n",
    "s.countSmaller([5, 2, 6, 1])\n"
   ]
  },
  {
   "cell_type": "code",
   "execution_count": 14,
   "metadata": {},
   "outputs": [
    {
     "data": {
      "text/plain": [
       "[2, 1, 1, 0]"
      ]
     },
     "execution_count": 14,
     "metadata": {},
     "output_type": "execute_result"
    }
   ],
   "source": [
    "from typing import List\n",
    "from sortedcontainers import SortedList\n",
    "\n",
    "\n",
    "class Solution:\n",
    "\n",
    "    def countSmaller(self, nums: List[int]) -> List[int]:\n",
    "\n",
    "        def search(nums, target):  # <target\n",
    "            l, r = 0, len(nums) - 1\n",
    "            while l <= r:\n",
    "                m = l + r >> 1\n",
    "                if nums[m] < target:\n",
    "                    l = m + 1\n",
    "                else:\n",
    "                    r = m - 1\n",
    "            return r + 1\n",
    "\n",
    "        sl = SortedList()\n",
    "        ans = [0] * len(nums)\n",
    "        for i in range(len(nums) - 1, -1, -1):\n",
    "            ans[i] = search(sl, nums[i])\n",
    "            sl.add(nums[i])\n",
    "        return ans\n",
    "\n",
    "\n",
    "s = Solution()\n",
    "s.countSmaller([5, 2, 6, 1])"
   ]
  },
  {
   "cell_type": "code",
   "execution_count": null,
   "metadata": {},
   "outputs": [],
   "source": []
  }
 ],
 "metadata": {
  "interpreter": {
   "hash": "97367d2de1780ea7c502b529f25888c1b53c0430a7611816b6c7cf19d8435228"
  },
  "kernelspec": {
   "display_name": "Python 3.10.4 64-bit (windows store)",
   "language": "python",
   "name": "python3"
  },
  "language_info": {
   "codemirror_mode": {
    "name": "ipython",
    "version": 3
   },
   "file_extension": ".py",
   "mimetype": "text/x-python",
   "name": "python",
   "nbconvert_exporter": "python",
   "pygments_lexer": "ipython3",
   "version": "3.10.5"
  },
  "orig_nbformat": 4
 },
 "nbformat": 4,
 "nbformat_minor": 2
}
