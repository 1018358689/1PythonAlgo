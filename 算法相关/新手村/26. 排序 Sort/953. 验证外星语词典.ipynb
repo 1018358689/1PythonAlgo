{
 "cells": [
  {
   "cell_type": "code",
   "execution_count": 5,
   "metadata": {},
   "outputs": [
    {
     "data": {
      "text/plain": [
       "False"
      ]
     },
     "execution_count": 5,
     "metadata": {},
     "output_type": "execute_result"
    }
   ],
   "source": [
    "from typing import List\n",
    "\n",
    "\n",
    "class Solution:\n",
    "\n",
    "    def isAlienSorted(self, words: List[str], order: str) -> bool:\n",
    "        start = words[:]\n",
    "        ha = {}\n",
    "        for i, n in enumerate(order):\n",
    "            ha[n] = i + 1\n",
    "\n",
    "        def getOrder(s: str, i: int):\n",
    "            if i > len(s) - 1:\n",
    "                return 0\n",
    "            return ha[s[i]]\n",
    "\n",
    "        last = len(max(words, key=len)) - 1\n",
    "        for i in range(last, -1, -1):\n",
    "            localMaxOrder = getOrder(max(words, key=lambda x: getOrder(x, i)), i)\n",
    "            localMinOrder = getOrder(min(words, key=lambda x: getOrder(x, i)), i)  # 基准\n",
    "            d = localMaxOrder - localMinOrder\n",
    "            countArr = [0] * (d + 1)\n",
    "            for w in words:\n",
    "                od = getOrder(w, i)\n",
    "                countArr[od - localMinOrder] += 1\n",
    "            for j in range(1, d + 1):\n",
    "                countArr[j] += countArr[j - 1]\n",
    "            tl = [0] * len(words)\n",
    "            for w in words[::-1]:\n",
    "                od = getOrder(w, i)\n",
    "                tl[countArr[od - localMinOrder] - 1] = w\n",
    "                countArr[od - localMinOrder] -= 1\n",
    "            words[:] = tl\n",
    "        return words == start\n",
    "\n",
    "\n",
    "s = Solution()\n",
    "s.isAlienSorted([\"hello\", \"leetcode\"], \"hlabcdefgijkmnopqrstuvwxyz\")\n",
    "s.isAlienSorted([\"word\", \"world\", \"row\"], \"worldabcefghijkmnpqstuvxyz\")\n"
   ]
  },
  {
   "cell_type": "code",
   "execution_count": null,
   "metadata": {},
   "outputs": [],
   "source": []
  }
 ],
 "metadata": {
  "interpreter": {
   "hash": "97367d2de1780ea7c502b529f25888c1b53c0430a7611816b6c7cf19d8435228"
  },
  "kernelspec": {
   "display_name": "Python 3.10.4 64-bit (windows store)",
   "language": "python",
   "name": "python3"
  },
  "language_info": {
   "codemirror_mode": {
    "name": "ipython",
    "version": 3
   },
   "file_extension": ".py",
   "mimetype": "text/x-python",
   "name": "python",
   "nbconvert_exporter": "python",
   "pygments_lexer": "ipython3",
   "version": "3.10.4"
  },
  "orig_nbformat": 4
 },
 "nbformat": 4,
 "nbformat_minor": 2
}
