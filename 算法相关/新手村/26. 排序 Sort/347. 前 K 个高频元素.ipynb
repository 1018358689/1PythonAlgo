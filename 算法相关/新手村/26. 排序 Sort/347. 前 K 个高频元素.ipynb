{
 "cells": [
  {
   "cell_type": "code",
   "execution_count": null,
   "metadata": {},
   "outputs": [],
   "source": [
    "from typing import List\n",
    "from collections import Counter\n",
    "from random import randint\n",
    "\n",
    "\n",
    "class Solution:\n",
    "\n",
    "    def topKFrequent(self, nums: List[int], k: int) -> List[int]:\n",
    "        arr = [(c, n) for n, c in Counter(nums).items()]\n",
    "\n",
    "        def swap(i, j):\n",
    "            arr[i], arr[j] = arr[j], arr[i]\n",
    "\n",
    "        def gp(si, ei):  # 获得[si,ei]的一个基准\n",
    "            p = randint(si, ei)\n",
    "            swap(si, p)\n",
    "            pivot = arr[si]\n",
    "            mark = si\n",
    "            for i in range(si + 1, ei + 1):\n",
    "                if arr[i] > pivot:\n",
    "                    mark += 1\n",
    "                    swap(mark, i)\n",
    "            swap(mark, si)\n",
    "            return mark\n",
    "\n",
    "        target = k - 1\n",
    "\n",
    "        def dc(si, ei):\n",
    "            p = gp(si, ei)\n",
    "            if p < target:\n",
    "                return dc(p + 1, ei)\n",
    "            elif p > target:\n",
    "                return dc(si, p - 1)\n",
    "            else:\n",
    "                return [arr[i][1] for i in range(p + 1)]\n",
    "\n",
    "        return dc(0, len(arr) - 1)\n"
   ]
  }
 ],
 "metadata": {
  "language_info": {
   "name": "python"
  },
  "orig_nbformat": 4
 },
 "nbformat": 4,
 "nbformat_minor": 2
}
