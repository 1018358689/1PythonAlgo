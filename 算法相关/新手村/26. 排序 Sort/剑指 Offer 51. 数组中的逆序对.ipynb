{
 "cells": [
  {
   "cell_type": "code",
   "execution_count": 7,
   "metadata": {},
   "outputs": [
    {
     "data": {
      "text/plain": [
       "5"
      ]
     },
     "execution_count": 7,
     "metadata": {},
     "output_type": "execute_result"
    }
   ],
   "source": [
    "from typing import List\n",
    "from sortedcontainers import SortedList\n",
    "\n",
    "\n",
    "class Solution:\n",
    "\n",
    "    def reversePairs(self, nums: List[int]) -> int:\n",
    "\n",
    "        sl = SortedList()\n",
    "        cnt = 0\n",
    "        for i in range(len(nums) - 1, -1, -1):\n",
    "            index = sl.bisect_left(nums[i])\n",
    "            cnt += index\n",
    "            sl.add(nums[i])\n",
    "        return cnt\n",
    "\n",
    "\n",
    "s = Solution()\n",
    "s.reversePairs([7, 5, 6, 4])\n"
   ]
  },
  {
   "cell_type": "code",
   "execution_count": 14,
   "metadata": {},
   "outputs": [
    {
     "data": {
      "text/plain": [
       "30"
      ]
     },
     "execution_count": 14,
     "metadata": {},
     "output_type": "execute_result"
    }
   ],
   "source": [
    "from typing import List\n",
    "\n",
    "\n",
    "class Solution:\n",
    "\n",
    "    def reversePairs(self, nums: List[int]) -> int:\n",
    "\n",
    "        def search(nums, si, ei, target):\n",
    "            l, r = si, ei\n",
    "            while l <= r:\n",
    "                m = l + r >> 1\n",
    "                if nums[m] < target:\n",
    "                    l = m + 1\n",
    "                else:\n",
    "                    r = m - 1\n",
    "            return r\n",
    "\n",
    "        sl = []\n",
    "        cnt = 0\n",
    "        for i in range(len(nums) - 1, -1, -1):\n",
    "            index = search(sl, 0, len(sl) - 1, nums[i])\n",
    "            cnt += index+1\n",
    "            sl.insert(index + 1, nums[i])\n",
    "        return cnt\n",
    "\n",
    "\n",
    "s = Solution()\n",
    "s.reversePairs([7,5,6,5,89,21,3,12,7745,2,4])\n"
   ]
  },
  {
   "cell_type": "code",
   "execution_count": 19,
   "metadata": {},
   "outputs": [
    {
     "data": {
      "text/plain": [
       "30"
      ]
     },
     "execution_count": 19,
     "metadata": {},
     "output_type": "execute_result"
    }
   ],
   "source": [
    "class Solution:\n",
    "\n",
    "    def reversePairs(self, nums: List[int]) -> int:\n",
    "        cnt = 0\n",
    "\n",
    "        def dc(si, ei):\n",
    "            if si >= ei:\n",
    "                return\n",
    "            mi = si + ei >> 1\n",
    "            dc(si, mi)\n",
    "            dc(mi + 1, ei)\n",
    "            merge(si, mi, ei)\n",
    "\n",
    "        def merge(si, mi, ei):\n",
    "            nonlocal cnt\n",
    "            p1, p2 = si, mi + 1\n",
    "            tl = []\n",
    "            while p1 < mi + 1 and p2 < ei + 1:\n",
    "                if nums[p1] <= nums[p2]:\n",
    "                    tl.append(nums[p1])\n",
    "                    p1 += 1\n",
    "                else:\n",
    "                    tl.append(nums[p2])\n",
    "                    p2 += 1\n",
    "                    cnt += mi + 1 - p1  # 归并同时进行记录逆序对\n",
    "            tl += nums[p1:mi + 1] + nums[p2:ei + 1]\n",
    "            nums[si:ei + 1] = tl\n",
    "\n",
    "        dc(0, len(nums) - 1)\n",
    "        return cnt\n",
    "\n",
    "\n",
    "s = Solution()\n",
    "s.reversePairs([7, 5, 6, 5, 89, 21, 3, 12, 7745, 2, 4])\n"
   ]
  },
  {
   "cell_type": "code",
   "execution_count": null,
   "metadata": {},
   "outputs": [],
   "source": []
  }
 ],
 "metadata": {
  "interpreter": {
   "hash": "97367d2de1780ea7c502b529f25888c1b53c0430a7611816b6c7cf19d8435228"
  },
  "kernelspec": {
   "display_name": "Python 3.10.4 64-bit (windows store)",
   "language": "python",
   "name": "python3"
  },
  "language_info": {
   "codemirror_mode": {
    "name": "ipython",
    "version": 3
   },
   "file_extension": ".py",
   "mimetype": "text/x-python",
   "name": "python",
   "nbconvert_exporter": "python",
   "pygments_lexer": "ipython3",
   "version": "3.10.4"
  },
  "orig_nbformat": 4
 },
 "nbformat": 4,
 "nbformat_minor": 2
}
