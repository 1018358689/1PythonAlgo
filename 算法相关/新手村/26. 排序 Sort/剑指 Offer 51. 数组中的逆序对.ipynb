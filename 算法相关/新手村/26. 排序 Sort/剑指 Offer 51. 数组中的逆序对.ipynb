{
 "cells": [
  {
   "cell_type": "code",
   "execution_count": 7,
   "metadata": {},
   "outputs": [
    {
     "data": {
      "text/plain": [
       "5"
      ]
     },
     "execution_count": 7,
     "metadata": {},
     "output_type": "execute_result"
    }
   ],
   "source": [
    "from typing import List\n",
    "from sortedcontainers import SortedList\n",
    "\n",
    "\n",
    "class Solution:\n",
    "\n",
    "    def reversePairs(self, nums: List[int]) -> int:\n",
    "\n",
    "        sl = SortedList()\n",
    "        cnt = 0\n",
    "        for i in range(len(nums) - 1, -1, -1):\n",
    "            index = sl.bisect_left(nums[i])\n",
    "            cnt += index\n",
    "            sl.add(nums[i])\n",
    "        return cnt\n",
    "\n",
    "\n",
    "s = Solution()\n",
    "s.reversePairs([7, 5, 6, 4])\n"
   ]
  },
  {
   "cell_type": "code",
   "execution_count": 14,
   "metadata": {},
   "outputs": [
    {
     "data": {
      "text/plain": [
       "30"
      ]
     },
     "execution_count": 14,
     "metadata": {},
     "output_type": "execute_result"
    }
   ],
   "source": [
    "from typing import List\n",
    "\n",
    "\n",
    "class Solution:\n",
    "\n",
    "    def reversePairs(self, nums: List[int]) -> int:\n",
    "\n",
    "        def search(nums, si, ei, target):\n",
    "            l, r = si, ei\n",
    "            while l <= r:\n",
    "                m = l + r >> 1\n",
    "                if nums[m] < target:\n",
    "                    l = m + 1\n",
    "                else:\n",
    "                    r = m - 1\n",
    "            return r\n",
    "\n",
    "        sl = []\n",
    "        cnt = 0\n",
    "        for i in range(len(nums) - 1, -1, -1):\n",
    "            index = search(sl, 0, len(sl) - 1, nums[i])\n",
    "            cnt += index+1\n",
    "            sl.insert(index + 1, nums[i])\n",
    "        return cnt\n",
    "\n",
    "\n",
    "s = Solution()\n",
    "s.reversePairs([7,5,6,5,89,21,3,12,7745,2,4])\n"
   ]
  },
  {
   "cell_type": "code",
   "execution_count": 2,
   "metadata": {},
   "outputs": [
    {
     "data": {
      "text/plain": [
       "4"
      ]
     },
     "execution_count": 2,
     "metadata": {},
     "output_type": "execute_result"
    }
   ],
   "source": [
    "# 某个元素左边比他大的个数 累计\n",
    "from typing import List\n",
    "class Solution:\n",
    "\n",
    "    def reversePairs(self, nums: List[int]) -> int:\n",
    "        cnt = 0\n",
    "\n",
    "        def dc(si, ei):\n",
    "            if si >= ei:\n",
    "                return\n",
    "            mi = si + ei >> 1\n",
    "            dc(si, mi)\n",
    "            dc(mi + 1, ei)\n",
    "            merge(si, mi, ei)\n",
    "\n",
    "        def merge(si, mi, ei):\n",
    "            nonlocal cnt\n",
    "            p1, p2 = si, mi + 1\n",
    "            tl = []\n",
    "            while p1 < mi + 1 and p2 < ei + 1:\n",
    "                if nums[p1] <= nums[p2]:\n",
    "                    tl.append(nums[p1])\n",
    "                    p1 += 1\n",
    "                else:  # nums[p1]>nums[p2] 意味着[p1:mi]都大于nums[p2] 因为[si:mi]已经升序\n",
    "                    tl.append(nums[p2])\n",
    "                    p2 += 1\n",
    "                    cnt += mi + 1 - p1  # 归并同时进行记录逆序对\n",
    "            tl += nums[p1:mi + 1] + nums[p2:ei + 1]\n",
    "            nums[si:ei + 1] = tl\n",
    "\n",
    "        dc(0, len(nums) - 1)\n",
    "        return cnt\n",
    "\n",
    "\n",
    "s = Solution()\n",
    "s.reversePairs([7, 5, 6, 5, 89, 21, 3, 12, 7745, 2, 4])\n",
    "s.reversePairs([5, 2, 6, 1])"
   ]
  },
  {
   "cell_type": "code",
   "execution_count": 3,
   "metadata": {},
   "outputs": [
    {
     "data": {
      "text/plain": [
       "4"
      ]
     },
     "execution_count": 3,
     "metadata": {},
     "output_type": "execute_result"
    }
   ],
   "source": [
    "# 某个元素右边比他小的个数 累计\n",
    "from typing import List\n",
    "\n",
    "\n",
    "class Solution:\n",
    "\n",
    "    def reversePairs(self, nums: List[int]) -> int:\n",
    "        cnt = 0\n",
    "\n",
    "        def dc(si, ei):\n",
    "            if si >= ei:\n",
    "                return\n",
    "            mi = si + ei >> 1\n",
    "            dc(si, mi)\n",
    "            dc(mi + 1, ei)\n",
    "            merge(si, mi, ei)\n",
    "\n",
    "        def merge(si, mi, ei):\n",
    "            nonlocal cnt\n",
    "            p1, p2 = si, mi + 1\n",
    "            tl = []\n",
    "            while p1 < mi + 1 and p2 < ei + 1:\n",
    "                if nums[p1] <= nums[p2]:  # nums[p1]<=nums[p2] 意味着[mi+1:p2-1]都小于nums[p1] 因为[mi+1:p2]已经升序\n",
    "                    tl.append(nums[p1])\n",
    "                    p1 += 1\n",
    "                    cnt += p2 - mi - 1  # 归并同时进行记录逆序对\n",
    "                else:\n",
    "                    tl.append(nums[p2])\n",
    "                    p2 += 1\n",
    "\n",
    "            tl += nums[p1:mi + 1] + nums[p2:ei + 1]\n",
    "            # 剩下p1:mi都是大的\n",
    "            for _ in range(p1, mi + 1):\n",
    "                cnt += ei - mi\n",
    "            nums[si:ei + 1] = tl\n",
    "\n",
    "        dc(0, len(nums) - 1)\n",
    "        return cnt\n",
    "\n",
    "\n",
    "s = Solution()\n",
    "s.reversePairs([7, 5, 6, 5, 89, 21, 3, 12, 7745, 2, 4])\n",
    "s.reversePairs([5, 2, 6, 1])"
   ]
  },
  {
   "cell_type": "code",
   "execution_count": null,
   "metadata": {},
   "outputs": [],
   "source": []
  }
 ],
 "metadata": {
  "kernelspec": {
   "display_name": "Python 3.10.6 64-bit",
   "language": "python",
   "name": "python3"
  },
  "language_info": {
   "codemirror_mode": {
    "name": "ipython",
    "version": 3
   },
   "file_extension": ".py",
   "mimetype": "text/x-python",
   "name": "python",
   "nbconvert_exporter": "python",
   "pygments_lexer": "ipython3",
   "version": "3.10.6"
  },
  "orig_nbformat": 4,
  "vscode": {
   "interpreter": {
    "hash": "dfbf064e0f2c8839bc658dd75dfc0b8f09a0440078cae3024109b27659b69d06"
   }
  }
 },
 "nbformat": 4,
 "nbformat_minor": 2
}
