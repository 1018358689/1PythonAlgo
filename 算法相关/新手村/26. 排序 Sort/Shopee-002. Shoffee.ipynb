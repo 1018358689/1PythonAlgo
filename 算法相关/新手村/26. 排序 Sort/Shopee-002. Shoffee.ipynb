{
 "cells": [
  {
   "cell_type": "code",
   "execution_count": 1,
   "metadata": {},
   "outputs": [
    {
     "data": {
      "text/plain": [
       "(3, 10)"
      ]
     },
     "execution_count": 1,
     "metadata": {},
     "output_type": "execute_result"
    }
   ],
   "source": [
    "def f(N: int, arr: list, K: int):\n",
    "    preSum = [0] * (N + 1)\n",
    "    for i in range(N):\n",
    "        preSum[i + 1] = preSum[i] + arr[i]\n",
    "    cnt = 0\n",
    "    for i in range(len(preSum) - 1):\n",
    "        for j in range(i + 1, len(preSum)):\n",
    "            localSum = preSum[j] - preSum[i]\n",
    "            d = j - i\n",
    "            if localSum / d >= K:\n",
    "                cnt += 1\n",
    "    return cnt\n",
    "\n",
    "\n",
    "f(3, [1, 3, 4], 3), f(6, [1, 1, 4, 5, 1, 4], 3)\n"
   ]
  },
  {
   "cell_type": "code",
   "execution_count": 2,
   "metadata": {},
   "outputs": [
    {
     "data": {
      "text/plain": [
       "(3, 10)"
      ]
     },
     "execution_count": 2,
     "metadata": {},
     "output_type": "execute_result"
    }
   ],
   "source": [
    "def f(N: int, arr: list, K: int):\n",
    "    preSumKi = [0] * (N + 1)\n",
    "    for i in range(N):\n",
    "        preSumKi[i + 1] = preSumKi[i] + arr[i] - K\n",
    "    cnt = 0\n",
    "\n",
    "    def dc(arr, si, ei):\n",
    "        if si >= ei:\n",
    "            return\n",
    "        mi = si + ei >> 1\n",
    "        dc(arr, si, mi)\n",
    "        dc(arr, mi + 1, ei)\n",
    "        merge(arr, si, mi, ei)\n",
    "\n",
    "    def merge(arr, si, mi, ei):\n",
    "        nonlocal cnt\n",
    "        tmp = []\n",
    "        p1, p2 = si, mi + 1\n",
    "        while p1 <= mi and p2 <= ei:\n",
    "            if arr[p1] <= arr[p2]:\n",
    "                tmp.append(arr[p1])\n",
    "                p1 += 1\n",
    "                cnt += ei - p2 + 1\n",
    "            else:\n",
    "                tmp.append(arr[p2])\n",
    "                p2 += 1\n",
    "        tmp += arr[p1:mi + 1] + arr[p2:ei + 1]\n",
    "        arr[si:ei + 1] = tmp\n",
    "\n",
    "    dc(preSumKi, 0, N)\n",
    "    return cnt\n",
    "\n",
    "\n",
    "f(3, [1, 3, 4], 3), f(6, [1, 1, 4, 5, 1, 4], 3)\n"
   ]
  },
  {
   "cell_type": "code",
   "execution_count": 3,
   "metadata": {},
   "outputs": [
    {
     "name": "stdout",
     "output_type": "stream",
     "text": [
      "3\n"
     ]
    },
    {
     "data": {
      "text/plain": [
       "(3, 10)"
      ]
     },
     "execution_count": 3,
     "metadata": {},
     "output_type": "execute_result"
    }
   ],
   "source": [
    "def f(N: int, arr: list, K: int):\n",
    "    preSumKi = [0] * (N + 1)\n",
    "    for i in range(N):\n",
    "        preSumKi[i + 1] = preSumKi[i] + arr[i] - K\n",
    "    cnt = 0\n",
    "\n",
    "    def dc(arr, si, ei):\n",
    "        if si >= ei:\n",
    "            return\n",
    "        mi = si + ei >> 1\n",
    "        dc(arr, si, mi)\n",
    "        dc(arr, mi + 1, ei)\n",
    "        merge(arr, si, mi, ei)\n",
    "\n",
    "    def merge(arr, si, mi, ei):\n",
    "        nonlocal cnt\n",
    "        tmp = []\n",
    "        p1, p2 = si, mi + 1\n",
    "        while p1 <= mi and p2 <= ei:\n",
    "            if arr[p1] <= arr[p2]:\n",
    "                tmp.append(arr[p1])\n",
    "                p1 += 1\n",
    "                cnt += ei - p2 + 1\n",
    "            else:\n",
    "                tmp.append(arr[p2])\n",
    "                p2 += 1\n",
    "        tmp += arr[p1:mi + 1] + arr[p2:ei + 1]\n",
    "        arr[si:ei + 1] = tmp\n",
    "\n",
    "    dc(preSumKi, 0, N)\n",
    "    return cnt\n",
    "\n",
    "\n",
    "N, K = map(int, input().split())\n",
    "arr = list(map(int, input().split()))\n",
    "print(f(N, arr, K))\n",
    "f(3, [1, 3, 4], 3), f(6, [1, 1, 4, 5, 1, 4], 3)\n"
   ]
  },
  {
   "cell_type": "code",
   "execution_count": null,
   "metadata": {},
   "outputs": [],
   "source": []
  }
 ],
 "metadata": {
  "interpreter": {
   "hash": "97367d2de1780ea7c502b529f25888c1b53c0430a7611816b6c7cf19d8435228"
  },
  "kernelspec": {
   "display_name": "Python 3.10.4 64-bit (windows store)",
   "language": "python",
   "name": "python3"
  },
  "language_info": {
   "codemirror_mode": {
    "name": "ipython",
    "version": 3
   },
   "file_extension": ".py",
   "mimetype": "text/x-python",
   "name": "python",
   "nbconvert_exporter": "python",
   "pygments_lexer": "ipython3",
   "version": "3.10.4"
  },
  "orig_nbformat": 4
 },
 "nbformat": 4,
 "nbformat_minor": 2
}
