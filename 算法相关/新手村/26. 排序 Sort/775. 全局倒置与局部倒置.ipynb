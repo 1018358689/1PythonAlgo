{
 "cells": [
  {
   "cell_type": "code",
   "execution_count": 3,
   "metadata": {},
   "outputs": [
    {
     "name": "stdout",
     "output_type": "stream",
     "text": [
      "1 1\n"
     ]
    },
    {
     "data": {
      "text/plain": [
       "True"
      ]
     },
     "execution_count": 3,
     "metadata": {},
     "output_type": "execute_result"
    }
   ],
   "source": [
    "from typing import List\n",
    "\n",
    "\n",
    "class Solution:\n",
    "\n",
    "    def isIdealPermutation(self, nums: List[int]) -> bool:\n",
    "        c1 = c2 = 0\n",
    "        for i in range(len(nums) - 1):\n",
    "            if nums[i] > nums[i + 1]:\n",
    "                c2 += 1\n",
    "\n",
    "        def merge(si, mi, ei):\n",
    "            nonlocal c1\n",
    "            p1, p2 = si, mi + 1\n",
    "            tl = []\n",
    "            while p1 <= mi and p2 <= ei:\n",
    "                if nums[p1] <= nums[p2]:\n",
    "                    tl.append(nums[p1])\n",
    "                    p1 += 1\n",
    "                else:\n",
    "                    tl.append(nums[p2])\n",
    "                    c1 += mi - p1 + 1\n",
    "                    p2 += 1\n",
    "            tl += nums[p1:mi + 1] + nums[p2:ei + 1]\n",
    "            nums[si:ei + 1] = tl\n",
    "\n",
    "        def dc(si, ei):\n",
    "            if si >= ei:\n",
    "                return\n",
    "            mi = si + ei >> 1\n",
    "            dc(si, mi)\n",
    "            dc(mi + 1, ei)\n",
    "            merge(si, mi, ei)\n",
    "\n",
    "        dc(0, len(nums) - 1)\n",
    "        return c1 == c2\n",
    "\n",
    "\n",
    "s = Solution()\n",
    "s.isIdealPermutation([1, 0, 2])\n"
   ]
  },
  {
   "cell_type": "code",
   "execution_count": null,
   "metadata": {},
   "outputs": [],
   "source": []
  }
 ],
 "metadata": {
  "kernelspec": {
   "display_name": "Python 3.10.6 64-bit",
   "language": "python",
   "name": "python3"
  },
  "language_info": {
   "codemirror_mode": {
    "name": "ipython",
    "version": 3
   },
   "file_extension": ".py",
   "mimetype": "text/x-python",
   "name": "python",
   "nbconvert_exporter": "python",
   "pygments_lexer": "ipython3",
   "version": "3.10.6"
  },
  "orig_nbformat": 4,
  "vscode": {
   "interpreter": {
    "hash": "dfbf064e0f2c8839bc658dd75dfc0b8f09a0440078cae3024109b27659b69d06"
   }
  }
 },
 "nbformat": 4,
 "nbformat_minor": 2
}
