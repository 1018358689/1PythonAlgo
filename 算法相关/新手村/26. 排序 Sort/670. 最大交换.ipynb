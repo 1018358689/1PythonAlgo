{
 "cells": [
  {
   "cell_type": "code",
   "execution_count": 6,
   "metadata": {},
   "outputs": [
    {
     "data": {
      "text/plain": [
       "(7236, 9916, 98863)"
      ]
     },
     "execution_count": 6,
     "metadata": {},
     "output_type": "execute_result"
    }
   ],
   "source": [
    "class Solution:\n",
    "    def maximumSwap(self, num: int) -> int:\n",
    "        num = list(str(num))\n",
    "        for i in range(len(num) - 1):\n",
    "            maxIdx = i\n",
    "            for j in range(i + 1, len(num)):\n",
    "                if num[j] >= num[maxIdx] and num[j] != num[i]:\n",
    "                    maxIdx = j\n",
    "            if maxIdx != i:\n",
    "                num[maxIdx], num[i] = num[i], num[maxIdx]\n",
    "                break\n",
    "        return int(''.join(num))\n",
    "\n",
    "\n",
    "s = Solution()\n",
    "s.maximumSwap(2736),s.maximumSwap(1996), s.maximumSwap(98368)\n"
   ]
  },
  {
   "cell_type": "code",
   "execution_count": null,
   "metadata": {},
   "outputs": [],
   "source": []
  }
 ],
 "metadata": {
  "kernelspec": {
   "display_name": "Python 3.10.6 64-bit",
   "language": "python",
   "name": "python3"
  },
  "language_info": {
   "codemirror_mode": {
    "name": "ipython",
    "version": 3
   },
   "file_extension": ".py",
   "mimetype": "text/x-python",
   "name": "python",
   "nbconvert_exporter": "python",
   "pygments_lexer": "ipython3",
   "version": "3.10.6"
  },
  "orig_nbformat": 4,
  "vscode": {
   "interpreter": {
    "hash": "dfbf064e0f2c8839bc658dd75dfc0b8f09a0440078cae3024109b27659b69d06"
   }
  }
 },
 "nbformat": 4,
 "nbformat_minor": 2
}
