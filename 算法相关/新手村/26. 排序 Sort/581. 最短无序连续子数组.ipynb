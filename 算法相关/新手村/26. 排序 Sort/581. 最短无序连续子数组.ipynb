{
 "cells": [
  {
   "cell_type": "code",
   "execution_count": 1,
   "metadata": {},
   "outputs": [],
   "source": [
    "from typing import List\n",
    "\n",
    "\n",
    "class Solution:\n",
    "\n",
    "    def findUnsortedSubarray(self, nums: List[int]) -> int:\n",
    "        sortedNum = sorted(nums)\n",
    "        l = 0\n",
    "        while l < len(nums) and nums[l] == sortedNum[l]:\n",
    "            l += 1\n",
    "        if l == len(nums):\n",
    "            return 0\n",
    "        r = len(nums) - 1\n",
    "        while nums[r] == sortedNum[r]:\n",
    "            r -= 1\n",
    "        return r - l + 1\n"
   ]
  },
  {
   "cell_type": "code",
   "execution_count": null,
   "metadata": {},
   "outputs": [],
   "source": [
    "from typing import List\n",
    "\n",
    "# ABC三段 目标找B的边界\n",
    "class Solution:\n",
    "\n",
    "    def findUnsortedSubarray(self, nums: List[int]) -> int:\n",
    "        tmax, tmin = float('-inf'), float('inf')\n",
    "        l = r = 0\n",
    "        for i in range(len(nums)): # AB均小于C 记录最后一个小于max的值 就是右边界\n",
    "            if nums[i] >= tmax:\n",
    "                tmax = nums[i]\n",
    "            else:\n",
    "                r = i\n",
    "        if r == 0:\n",
    "            return 0\n",
    "        for i in range(len(nums) - 1, -1, -1):\n",
    "            if nums[i] <= tmin:\n",
    "                tmin = nums[i]\n",
    "            else:\n",
    "                l = i\n",
    "        return r - l + 1\n",
    "\n",
    "\n",
    "s = Solution()\n",
    "s.findUnsortedSubarray([2, 6, 4, 8, 10, 9, 15])\n"
   ]
  }
 ],
 "metadata": {
  "kernelspec": {
   "display_name": "Python 3.10.5 64-bit",
   "language": "python",
   "name": "python3"
  },
  "language_info": {
   "codemirror_mode": {
    "name": "ipython",
    "version": 3
   },
   "file_extension": ".py",
   "mimetype": "text/x-python",
   "name": "python",
   "nbconvert_exporter": "python",
   "pygments_lexer": "ipython3",
   "version": "3.10.5"
  },
  "orig_nbformat": 4,
  "vscode": {
   "interpreter": {
    "hash": "3196968d684371006099b3d55edeef8ed90365227a30deaef86e5d4aa8519be0"
   }
  }
 },
 "nbformat": 4,
 "nbformat_minor": 2
}
