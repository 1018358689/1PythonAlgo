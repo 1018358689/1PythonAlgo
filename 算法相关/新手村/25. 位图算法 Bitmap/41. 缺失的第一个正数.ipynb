{
 "cells": [
  {
   "cell_type": "code",
   "execution_count": null,
   "metadata": {},
   "outputs": [],
   "source": [
    "class Solution:\n",
    "\n",
    "    def firstMissingPositive(self, nums: List[int]) -> int:\n",
    "        cnt = sum(n > 0 for n in nums)\n",
    "        ha = [0] * (cnt + 2)\n",
    "        for n in nums:\n",
    "            if 0 < n <= cnt:\n",
    "                ha[n] = 1\n",
    "        for i in range(1, cnt + 2):\n",
    "            if ha[i] == 0:\n",
    "                return i\n",
    "\n",
    "\n",
    "s = Solution()\n",
    "s.firstMissingPositive([3, 4, -1, 1]), s.firstMissingPositive([7, 8, 9, 11, 12])\n",
    "# s.firstMissingPositive([2147483647, 2147483646, 2147483645, 3, 2, 1, -1, 0, -2147483648])\n",
    "s.firstMissingPositive([1,2,0])\n"
   ]
  },
  {
   "cell_type": "code",
   "execution_count": 18,
   "metadata": {},
   "outputs": [
    {
     "data": {
      "text/plain": [
       "3"
      ]
     },
     "execution_count": 18,
     "metadata": {},
     "output_type": "execute_result"
    }
   ],
   "source": [
    "from typing import List\n",
    "\n",
    "\n",
    "class BitMap:\n",
    "\n",
    "    def __init__(self, size: int):\n",
    "        self.map = [0] * (self.getGroup(size - 1) + 1)\n",
    "\n",
    "    def getGroup(self, id: int):\n",
    "        return id >> 6\n",
    "\n",
    "    def getPos(self, id: int):\n",
    "        return id & ((1 << 6) - 1)\n",
    "\n",
    "    def setBit(self, id: int):\n",
    "        g, p = self.getGroup(id), self.getPos(id)\n",
    "        self.map[g] |= (1 << p)\n",
    "\n",
    "    def findBit(self, id: int):\n",
    "        g, p = self.getGroup(id), self.getPos(id)\n",
    "        return self.map[g] & (1 << p)\n",
    "\n",
    "\n",
    "class Solution:\n",
    "\n",
    "    def firstMissingPositive(self, nums: List[int]) -> int:\n",
    "        cnt = sum(n > 0 for n in nums)\n",
    "        bitmap = BitMap(cnt + 2)\n",
    "        for n in nums:\n",
    "            if 0 < n <= cnt:\n",
    "                bitmap.setBit(n - 1)\n",
    "        for i in range(1, cnt + 2):\n",
    "            if bitmap.findBit(i - 1) == 0:\n",
    "                return i\n",
    "\n",
    "\n",
    "s = Solution()\n",
    "s.firstMissingPositive([3, 4, -1, 1]), s.firstMissingPositive([7, 8, 9, 11, 12])\n",
    "# s.firstMissingPositive([2147483647,2147483646,2147483645,3,2,1,-1,0,-2147483648])\n",
    "s.firstMissingPositive([1, 2, 0])\n"
   ]
  },
  {
   "cell_type": "code",
   "execution_count": 7,
   "metadata": {},
   "outputs": [
    {
     "data": {
      "text/plain": [
       "(-1, 62)"
      ]
     },
     "execution_count": 7,
     "metadata": {},
     "output_type": "execute_result"
    }
   ],
   "source": [
    "x = -2\n",
    "x>>6,x & ((1 << 6) - 1)"
   ]
  },
  {
   "cell_type": "code",
   "execution_count": null,
   "metadata": {},
   "outputs": [],
   "source": []
  }
 ],
 "metadata": {
  "interpreter": {
   "hash": "97367d2de1780ea7c502b529f25888c1b53c0430a7611816b6c7cf19d8435228"
  },
  "kernelspec": {
   "display_name": "Python 3.10.4 64-bit (windows store)",
   "language": "python",
   "name": "python3"
  },
  "language_info": {
   "codemirror_mode": {
    "name": "ipython",
    "version": 3
   },
   "file_extension": ".py",
   "mimetype": "text/x-python",
   "name": "python",
   "nbconvert_exporter": "python",
   "pygments_lexer": "ipython3",
   "version": "3.10.4"
  },
  "orig_nbformat": 4
 },
 "nbformat": 4,
 "nbformat_minor": 2
}
