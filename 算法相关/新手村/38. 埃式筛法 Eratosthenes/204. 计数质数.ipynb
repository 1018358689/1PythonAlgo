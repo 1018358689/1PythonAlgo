{
 "cells": [
  {
   "cell_type": "code",
   "execution_count": null,
   "metadata": {},
   "outputs": [],
   "source": [
    "N = 5 * 10**6\n",
    "is_prime = [1] * (N + 1)\n",
    "is_prime[0] = is_prime[1] = 0\n",
    "for x in range(2, int(N**.5) + 1):\n",
    "    if is_prime[x]:\n",
    "        for y in range(x * x, N + 1, x):\n",
    "            is_prime[y] = 0\n",
    "ps = list(accumulate(is_prime, initial=0))\n",
    "\n",
    "\n",
    "class Solution:\n",
    "\n",
    "    def countPrimes(self, n: int) -> int:\n",
    "        return ps[n]"
   ]
  }
 ],
 "metadata": {
  "language_info": {
   "name": "python"
  },
  "orig_nbformat": 4
 },
 "nbformat": 4,
 "nbformat_minor": 2
}
