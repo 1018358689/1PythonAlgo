{
 "cells": [
  {
   "cell_type": "code",
   "execution_count": null,
   "metadata": {},
   "outputs": [],
   "source": [
    "N = 10**6\n",
    "is_prime = [1] * (N + 1)\n",
    "for x in range(2, int(N**.5) + 1):\n",
    "    if is_prime[x]:\n",
    "        for y in range(x * x, N + 1, x):\n",
    "            is_prime[y] = 0\n",
    "prime = [x for x in range(2, N + 1) if is_prime[x]]\n",
    "\n",
    "\n",
    "class Solution:\n",
    "\n",
    "    def closestPrimes(self, left: int, right: int) -> List[int]:\n",
    "        l = bisect_left(prime, left)  # >=\n",
    "        r = bisect_right(prime, right) - 1  # <=\n",
    "        a, b, d = -1, -1, inf\n",
    "        for i in range(l, r):\n",
    "            a2, b2 = prime[i], prime[i + 1]\n",
    "            if b2 - a2 < d:\n",
    "                d = b2 - a2\n",
    "                a, b = a2, b2\n",
    "        return [a, b]"
   ]
  },
  {
   "cell_type": "code",
   "execution_count": 1,
   "metadata": {},
   "outputs": [
    {
     "data": {
      "text/plain": [
       "5000000"
      ]
     },
     "execution_count": 1,
     "metadata": {},
     "output_type": "execute_result"
    }
   ],
   "source": [
    "5 * 10 ** 6"
   ]
  },
  {
   "cell_type": "code",
   "execution_count": null,
   "metadata": {},
   "outputs": [],
   "source": []
  }
 ],
 "metadata": {
  "kernelspec": {
   "display_name": "Python 3",
   "language": "python",
   "name": "python3"
  },
  "language_info": {
   "codemirror_mode": {
    "name": "ipython",
    "version": 3
   },
   "file_extension": ".py",
   "mimetype": "text/x-python",
   "name": "python",
   "nbconvert_exporter": "python",
   "pygments_lexer": "ipython3",
   "version": "3.11.3"
  },
  "orig_nbformat": 4
 },
 "nbformat": 4,
 "nbformat_minor": 2
}
