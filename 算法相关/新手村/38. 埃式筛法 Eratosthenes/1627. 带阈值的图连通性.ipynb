{
 "cells": [
  {
   "cell_type": "code",
   "execution_count": null,
   "metadata": {},
   "outputs": [],
   "source": [
    "class Solution:\n",
    "\n",
    "    def areConnected(self, n: int, threshold: int, queries: List[List[int]]) -> List[bool]:\n",
    "        roots = list(range(n + 1))\n",
    "\n",
    "        def find(x):\n",
    "            if roots[x] != x:\n",
    "                roots[x] = find(roots[x])\n",
    "            return roots[x]\n",
    "\n",
    "        def union(x, y):\n",
    "            rx, ry = find(x), find(y)\n",
    "            if rx != ry:\n",
    "                roots[rx] = ry  # rx -> ry\n",
    "\n",
    "        for x in range(threshold + 1, n + 1):\n",
    "            for y in range(x * 2, n + 1, x):  # x是y的>=threshold的最小质因数 如 4 和 8 12 16都连上 \n",
    "                union(x, y)\n",
    "        return [find(x) == find(y) for x, y in queries]\n"
   ]
  }
 ],
 "metadata": {
  "language_info": {
   "name": "python"
  },
  "orig_nbformat": 4
 },
 "nbformat": 4,
 "nbformat_minor": 2
}
