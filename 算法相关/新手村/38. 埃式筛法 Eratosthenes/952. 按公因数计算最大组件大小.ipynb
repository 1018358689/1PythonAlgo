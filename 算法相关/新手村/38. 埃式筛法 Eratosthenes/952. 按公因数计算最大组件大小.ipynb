{
 "cells": [
  {
   "cell_type": "code",
   "execution_count": 6,
   "metadata": {},
   "outputs": [
    {
     "name": "stdout",
     "output_type": "stream",
     "text": [
      "defaultdict(<class 'set'>, {3: {0}, 2: {0}})\n"
     ]
    },
    {
     "data": {
      "text/plain": [
       "1"
      ]
     },
     "execution_count": 6,
     "metadata": {},
     "output_type": "execute_result"
    }
   ],
   "source": [
    "from collections import defaultdict\n",
    "from itertools import pairwise\n",
    "from typing import List\n",
    "\n",
    "N = 10**5\n",
    "lpf = list(range(N + 1))\n",
    "for x in range(2, int(N**.5) + 1):\n",
    "    if lpf[x] == x:  # 质数\n",
    "        for y in range(x * x, N + 1, x):\n",
    "            lpf[y] = x  # 合数的最小质因数\n",
    "\n",
    "\n",
    "class Solution:\n",
    "\n",
    "    def largestComponentSize(self, nums: List[int]) -> int:\n",
    "        n = len(nums)\n",
    "        roots = list(range(n))\n",
    "        sz = [1] * n\n",
    "\n",
    "        def find(x):\n",
    "            if roots[x] != x:\n",
    "                roots[x] = find(roots[x])\n",
    "            return roots[x]\n",
    "\n",
    "        def union(x, y):\n",
    "            rx, ry = find(x), find(y)\n",
    "            if rx != ry:\n",
    "                roots[rx] = ry\n",
    "                sz[ry] += sz[rx]\n",
    "\n",
    "        adj = defaultdict(set)\n",
    "        for i, x in enumerate(nums):\n",
    "            while x > 1:\n",
    "                p = lpf[x]\n",
    "                adj[p].add(i)\n",
    "                x //= p\n",
    "        for vals in adj.values():\n",
    "            for x, y in pairwise(vals):\n",
    "                union(x, y)\n",
    "        return max(sz)\n",
    "\n",
    "\n",
    "s = Solution()\n",
    "s.largestComponentSize([12])\n"
   ]
  },
  {
   "cell_type": "code",
   "execution_count": null,
   "metadata": {},
   "outputs": [],
   "source": [
    "N = 10 ** 5\n",
    "fac = [[] for _ in range(N + 1)]\n",
    "for num in range(2, N + 1):\n",
    "    x = num\n",
    "    p = 2\n",
    "    ans = []\n",
    "    while p ** 2 <= x:\n",
    "        if x % p == 0:\n",
    "            while x % p == 0:\n",
    "                x //= p\n",
    "            fac[num].append(p)\n",
    "        p += 1\n",
    "    if x > 1:\n",
    "        fac[num].append(x)\n",
    "class Solution:\n",
    "    def largestComponentSize(self, nums: List[int]) -> int:\n",
    "        n = len(nums)\n",
    "        roots = list(range(n))\n",
    "        sz = [1] * n\n",
    "        def find(x):\n",
    "            if roots[x] != x:\n",
    "                roots[x] = find(roots[x])\n",
    "            return roots[x]\n",
    "        def union(x, y):\n",
    "            rx, ry = find(x), find(y)\n",
    "            if rx != ry:\n",
    "                roots[rx] = ry\n",
    "                sz[ry] += sz[rx]\n",
    "        adj = defaultdict(list)\n",
    "        for i, x in enumerate(nums):\n",
    "            for y in fac[x]:\n",
    "                adj[y].append(i)\n",
    "        for vals in adj.values():\n",
    "            for x, y in pairwise(vals):\n",
    "                union(x, y)\n",
    "        return max(sz)\n",
    "        "
   ]
  },
  {
   "cell_type": "code",
   "execution_count": null,
   "metadata": {},
   "outputs": [],
   "source": [
    "class Solution:\n",
    "    def largestComponentSize(self, nums: List[int]) -> int:\n",
    "        # gcd(x,y)>1就联通\n",
    "        def fac(nums):\n",
    "            x = nums\n",
    "            p = 2\n",
    "            while p ** 2 <= x:\n",
    "                if x % p == 0:\n",
    "                    while x % p == 0:\n",
    "                        x //= p\n",
    "                    yield p\n",
    "                p += 1\n",
    "            if x > 1:\n",
    "                yield x\n",
    "        n = len(nums)\n",
    "        roots = list(range(n))\n",
    "        sz = [1] * n\n",
    "        def find(x):\n",
    "            if roots[x] != x:\n",
    "                roots[x] = find(roots[x])\n",
    "            return roots[x]\n",
    "        def union(x, y):\n",
    "            rx, ry = find(x), find(y)\n",
    "            if rx != ry:\n",
    "                roots[rx] = ry\n",
    "                sz[ry] += sz[rx]\n",
    "        adj = defaultdict(list)\n",
    "        for i, x in enumerate(nums):\n",
    "            for y in fac(x):\n",
    "                adj[y].append(i)\n",
    "        for vals in adj.values():\n",
    "            for x, y in pairwise(vals):\n",
    "                union(x, y)\n",
    "        return max(sz)\n",
    "        "
   ]
  },
  {
   "cell_type": "code",
   "execution_count": null,
   "metadata": {},
   "outputs": [],
   "source": [
    "# 埃式筛找质数 超时\n",
    "N = 10**5\n",
    "is_prime = [True] * (N + 1)\n",
    "for x in range(2, int(N**.5) + 1):\n",
    "    if is_prime[x]:\n",
    "        for y in range(x * x, N + 1, x):\n",
    "            is_prime[y] = False\n",
    "prime = [x for x in range(2, N + 1) if is_prime[x]]\n",
    "\n",
    "\n",
    "class Solution:\n",
    "\n",
    "    def largestComponentSize(self, nums: List[int]) -> int:\n",
    "        n = len(nums)\n",
    "        roots = list(range(n))\n",
    "        sz = [1] * n\n",
    "\n",
    "        def find(x):\n",
    "            if roots[x] != x:\n",
    "                roots[x] = find(roots[x])\n",
    "            return roots[x]\n",
    "\n",
    "        def union(x, y):\n",
    "            rx, ry = find(x), find(y)\n",
    "            if rx != ry:\n",
    "                roots[rx] = ry\n",
    "                sz[ry] += sz[rx]\n",
    "\n",
    "        adj = defaultdict(list)\n",
    "        for i, x in enumerate(nums):\n",
    "            for y in prime:\n",
    "                if x % y == 0:\n",
    "                    adj[y].append(i)\n",
    "        for vals in adj.values():\n",
    "            for x, y in pairwise(vals):\n",
    "                union(x, y)\n",
    "        return max(sz)\n"
   ]
  },
  {
   "cell_type": "code",
   "execution_count": 1,
   "metadata": {},
   "outputs": [
    {
     "name": "stdout",
     "output_type": "stream",
     "text": [
      "[2, 3]\n"
     ]
    }
   ],
   "source": [
    "N = 10 ** 5\n",
    "fac = [[] for _ in range(N + 1)]\n",
    "for num in range(2, N + 1):\n",
    "    x = num\n",
    "    p = 2\n",
    "    ans = []\n",
    "    while p ** 2 <= x:\n",
    "        if x % p == 0:\n",
    "            while x % p == 0:\n",
    "                x //= p\n",
    "            fac[num].append(p)\n",
    "        p += 1\n",
    "    if x > 1:\n",
    "        fac[num].append(x)\n",
    "print(fac[12])"
   ]
  },
  {
   "cell_type": "code",
   "execution_count": null,
   "metadata": {},
   "outputs": [],
   "source": []
  }
 ],
 "metadata": {
  "kernelspec": {
   "display_name": "Python 3",
   "language": "python",
   "name": "python3"
  },
  "language_info": {
   "codemirror_mode": {
    "name": "ipython",
    "version": 3
   },
   "file_extension": ".py",
   "mimetype": "text/x-python",
   "name": "python",
   "nbconvert_exporter": "python",
   "pygments_lexer": "ipython3",
   "version": "3.10.5"
  },
  "orig_nbformat": 4
 },
 "nbformat": 4,
 "nbformat_minor": 2
}
