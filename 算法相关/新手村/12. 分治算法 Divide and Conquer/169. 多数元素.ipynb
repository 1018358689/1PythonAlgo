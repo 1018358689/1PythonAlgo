{
 "cells": [
  {
   "cell_type": "code",
   "execution_count": 2,
   "metadata": {},
   "outputs": [
    {
     "data": {
      "text/plain": [
       "(3, 2)"
      ]
     },
     "execution_count": 2,
     "metadata": {},
     "output_type": "execute_result"
    }
   ],
   "source": [
    "from collections import Counter\n",
    "\n",
    "\n",
    "def f(nums: list):\n",
    "    cnt = Counter(nums)\n",
    "    return max(cnt, key=lambda x: cnt[x])\n",
    "\n",
    "\n",
    "f([3, 2, 3]), f([2, 2, 1, 1, 1, 2, 2])\n"
   ]
  },
  {
   "cell_type": "markdown",
   "metadata": {},
   "source": [
    "如果数 a 是数组 nums 的众数，如果我们将 nums 分成两部分，那么 a 必定是至少一部分的众数。\n",
    "\n",
    "我们可以使用反证法来证明这个结论。假设 a 既不是左半部分的众数，也不是右半部分的众数，那么 a 出现的次数少于 l / 2 + r / 2 次，其中 l 和 r 分别是左半部分和右半部分的长度。由于 l / 2 + r / 2 <= (l + r) / 2，说明 a 也不是数组 nums 的众数，因此出现了矛盾。所以这个结论是正确的。\n",
    "\n",
    "这样以来，我们就可以使用分治法解决这个问题：将数组分成左右两部分，分别求出左半部分的众数 a1 以及右半部分的众数 a2，随后在 a1 和 a2 中选出正确的众数。"
   ]
  },
  {
   "cell_type": "code",
   "execution_count": 3,
   "metadata": {},
   "outputs": [],
   "source": [
    "def f(nums: list):\n",
    "    # 分治\n",
    "    def sub(l, r):  # l,r区间的众数 [l,r]\n",
    "        # basecase\n",
    "        if l == r:\n",
    "            return nums[l]\n",
    "        # 分两半的子问题解\n",
    "        m = (l + r) // 2\n",
    "        left = sub(l, m)\n",
    "        right = sub(m + 1, r)\n",
    "        # 子问题众数一致作为大问题众数\n",
    "        if left == right:\n",
    "            return left\n",
    "        # 不一致 则寻找哪个出现次数多作为大问题众数\n",
    "        leftCnt = sum(nums[i] == left for i in range(l, m + 1))\n",
    "        rightCnt = sum(nums[i] == right for i in range(m + 1, r + 1))\n",
    "        return left if leftCnt > rightCnt else right\n",
    "\n",
    "    return sub(0, len(nums) - 1)\n"
   ]
  },
  {
   "cell_type": "code",
   "execution_count": null,
   "metadata": {},
   "outputs": [],
   "source": [
    "# 投票算法证明：\n",
    "# 假如maj是超过半票的众数 那么\n",
    "# 如果候选人不是maj 则maj会和其他非候选人一起反对 会反对候选人,所以候选人一定会下台(maj==0时发生换届选举)\n",
    "# 如果候选人是maj , 则maj会支持自己，其他候选人会反对，同样因为maj票数超过一半，所以maj一定会成功当选\n",
    "# 投票法，众数个数至少比非众数多一，把cnt加减当作一个众数抵消掉一个非众数，剩下的一定是众数\n",
    "def f(nums: list):\n",
    "    cnt = 0 # 投票数 +-0票时候换届 相当于分治\n",
    "    maj = None # 候选人\n",
    "    for n in nums:\n",
    "        if cnt == 0: # 每次下台 都是因为当前反对者和候选人持平 只有众数才能经历一次次下台最终当选\n",
    "            maj = n\n",
    "        cnt += (1 if n == maj else -1)\n",
    "    return maj"
   ]
  }
 ],
 "metadata": {
  "interpreter": {
   "hash": "a5f34674cfcc9b13426a2d112c686bc132e4ef443f1487e707e7c3787d6bcf89"
  },
  "kernelspec": {
   "display_name": "Python 3.10.4 64-bit (windows store)",
   "language": "python",
   "name": "python3"
  },
  "language_info": {
   "codemirror_mode": {
    "name": "ipython",
    "version": 3
   },
   "file_extension": ".py",
   "mimetype": "text/x-python",
   "name": "python",
   "nbconvert_exporter": "python",
   "pygments_lexer": "ipython3",
   "version": "3.10.4"
  },
  "orig_nbformat": 4
 },
 "nbformat": 4,
 "nbformat_minor": 2
}
