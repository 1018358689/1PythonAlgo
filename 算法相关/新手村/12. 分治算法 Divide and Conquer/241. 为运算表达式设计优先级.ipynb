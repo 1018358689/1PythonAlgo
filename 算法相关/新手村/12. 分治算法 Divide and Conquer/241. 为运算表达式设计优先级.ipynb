{
 "cells": [
  {
   "cell_type": "code",
   "execution_count": 8,
   "metadata": {},
   "outputs": [
    {
     "data": {
      "text/plain": [
       "[11]"
      ]
     },
     "execution_count": 8,
     "metadata": {},
     "output_type": "execute_result"
    }
   ],
   "source": [
    "from functools import lru_cache\n",
    "\n",
    "\n",
    "def f(expression: str):\n",
    "\n",
    "    @lru_cache(None)\n",
    "    def dfs(l, r):  # expression [l,r] 的所有可能结果\n",
    "        if expression[l:r + 1].isdigit():\n",
    "            return [int(expression[l:r + 1])]\n",
    "        res = []\n",
    "        for i, op in enumerate(expression):\n",
    "            if l <= i < r:\n",
    "                if op in {'+', '-', '*'}:\n",
    "                    leftRes = dfs(l, i - 1)\n",
    "                    rightRes = dfs(i + 1, r)\n",
    "                    # print(leftRes, rightRes)\n",
    "                    for left in leftRes:\n",
    "                        for right in rightRes:\n",
    "                            res.append(eval(f'{left}{op}{right}'))\n",
    "        return res\n",
    "\n",
    "    return dfs(0, len(expression) - 1)\n",
    "\n",
    "\n",
    "f('2-1-1')\n",
    "f('11')\n"
   ]
  },
  {
   "cell_type": "code",
   "execution_count": 6,
   "metadata": {},
   "outputs": [
    {
     "data": {
      "text/plain": [
       "[2, 0]"
      ]
     },
     "execution_count": 6,
     "metadata": {},
     "output_type": "execute_result"
    }
   ],
   "source": [
    "from functools import lru_cache\n",
    "\n",
    "\n",
    "def f(expression: str):\n",
    "\n",
    "    @lru_cache(None)\n",
    "    def dfs(s: str):\n",
    "        if s.isdigit():\n",
    "            return [int(s)]\n",
    "        res = []\n",
    "        for i, op in enumerate(s):\n",
    "            if op in {'+', '-', '*'}:\n",
    "                left = dfs(s[:i])\n",
    "                right = dfs(s[i + 1:])\n",
    "                for l in left:\n",
    "                    for r in right:\n",
    "                        res.append(eval(f'{l}{op}{r}'))\n",
    "        return res\n",
    "\n",
    "    return dfs(expression)\n",
    "\n",
    "\n",
    "f('2-1-1')"
   ]
  },
  {
   "cell_type": "code",
   "execution_count": null,
   "metadata": {},
   "outputs": [],
   "source": []
  }
 ],
 "metadata": {
  "interpreter": {
   "hash": "a5f34674cfcc9b13426a2d112c686bc132e4ef443f1487e707e7c3787d6bcf89"
  },
  "kernelspec": {
   "display_name": "Python 3.10.4 64-bit (windows store)",
   "language": "python",
   "name": "python3"
  },
  "language_info": {
   "codemirror_mode": {
    "name": "ipython",
    "version": 3
   },
   "file_extension": ".py",
   "mimetype": "text/x-python",
   "name": "python",
   "nbconvert_exporter": "python",
   "pygments_lexer": "ipython3",
   "version": "3.10.4"
  },
  "orig_nbformat": 4
 },
 "nbformat": 4,
 "nbformat_minor": 2
}
