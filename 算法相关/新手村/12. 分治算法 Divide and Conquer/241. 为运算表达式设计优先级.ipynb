{
 "cells": [
  {
   "cell_type": "code",
   "execution_count": 6,
   "metadata": {},
   "outputs": [
    {
     "data": {
      "text/plain": [
       "[2, 0]"
      ]
     },
     "execution_count": 6,
     "metadata": {},
     "output_type": "execute_result"
    }
   ],
   "source": [
    "from functools import lru_cache\n",
    "\n",
    "\n",
    "def f(expression: str):\n",
    "\n",
    "    @lru_cache(None)\n",
    "    def dfs(s: str):\n",
    "        if s.isdigit():\n",
    "            return [int(s)]\n",
    "        res = []\n",
    "        for i, op in enumerate(s):\n",
    "            if op in {'+', '-', '*'}:\n",
    "                left = dfs(s[:i])\n",
    "                right = dfs(s[i + 1:])\n",
    "                for l in left:\n",
    "                    for r in right:\n",
    "                        res.append(eval(f'{l}{op}{r}'))\n",
    "        return res\n",
    "\n",
    "    return dfs(expression)\n",
    "\n",
    "\n",
    "f('2-1-1')"
   ]
  },
  {
   "cell_type": "code",
   "execution_count": 7,
   "metadata": {},
   "outputs": [
    {
     "data": {
      "text/plain": [
       "[2, 0]"
      ]
     },
     "execution_count": 7,
     "metadata": {},
     "output_type": "execute_result"
    }
   ],
   "source": [
    "from typing import List\n",
    "from functools import lru_cache\n",
    "\n",
    "\n",
    "class Solution:\n",
    "\n",
    "    def diffWaysToCompute(self, expression: str) -> List[int]:\n",
    "\n",
    "        @lru_cache(None)\n",
    "        def dfs(l, r):  # 求[l,r]范围内不同计算值\n",
    "            if expression[l:r + 1].isdigit():\n",
    "                return [int(expression[l:r + 1])]\n",
    "            ans = []\n",
    "            for i in range(l, r + 1):\n",
    "                op = expression[i]\n",
    "                if op in '+-*':\n",
    "                    leftSub = dfs(l, i - 1)\n",
    "                    rightSub = dfs(i + 1, r)\n",
    "                    for left in leftSub:\n",
    "                        for right in rightSub:\n",
    "                            ans.append(eval(f'{left}{op}{right}'))\n",
    "            return ans\n",
    "\n",
    "        return dfs(0, len(expression) - 1)\n",
    "\n",
    "\n",
    "s = Solution()\n",
    "s.diffWaysToCompute('2-1-1')"
   ]
  },
  {
   "cell_type": "code",
   "execution_count": 8,
   "metadata": {},
   "outputs": [],
   "source": [
    "from typing import List\n",
    "from functools import lru_cache\n",
    "\n",
    "\n",
    "class Solution:\n",
    "\n",
    "    def diffWaysToCompute(self, expression: str) -> List[int]:\n",
    "\n",
    "        @lru_cache(None)\n",
    "        def dfs(l, r):  # 求[l,r]范围内不同计算值\n",
    "            if expression[l:r + 1].isdigit():\n",
    "                return [int(expression[l:r + 1])]\n",
    "            ans = []\n",
    "            for i in range(l, r + 1):\n",
    "                if (op:=expression[i]) in '+-*':\n",
    "                    for left in dfs(l, i - 1):\n",
    "                        for right in dfs(i + 1, r):\n",
    "                            ans.append(eval(f'{left}{op}{right}'))\n",
    "            return ans\n",
    "\n",
    "        return dfs(0, len(expression) - 1)"
   ]
  },
  {
   "cell_type": "code",
   "execution_count": 11,
   "metadata": {},
   "outputs": [
    {
     "name": "stdout",
     "output_type": "stream",
     "text": [
      "['2', '-', '1', '-', '1']\n"
     ]
    },
    {
     "data": {
      "text/plain": [
       "[2, 0]"
      ]
     },
     "execution_count": 11,
     "metadata": {},
     "output_type": "execute_result"
    }
   ],
   "source": [
    "import re\n",
    "import operator\n",
    "\n",
    "OP_MAP = {\"+\": operator.add, \"-\": operator.sub, \"*\": operator.mul}\n",
    "\n",
    "\n",
    "class Solution:\n",
    "\n",
    "    def diffWaysToCompute(self, expression: str) -> List[int]:\n",
    "\n",
    "        @lru_cache(None)\n",
    "        def dfs(left: int, right: int) -> List[int]:\n",
    "            if left == right:\n",
    "                return [int(sp[left])]\n",
    "            res = []\n",
    "            # 找区间里的符号, 按符号分割左右（我们认为最后计算这个符号）\n",
    "            for i in range(left + 1, right, 2):\n",
    "                for left_set in dfs(left, i - 1):\n",
    "                    for right_set in dfs(i + 1, right):\n",
    "                        res.append(OP_MAP[sp[i]](left_set, right_set))\n",
    "            return res\n",
    "\n",
    "        sp = re.split(r\"(\\D)\", expression)\n",
    "        # print(sp)\n",
    "        return dfs(0, len(sp) - 1)\n",
    "\n",
    "\n",
    "s = Solution()\n",
    "s.diffWaysToCompute('2-1-1')"
   ]
  },
  {
   "cell_type": "code",
   "execution_count": null,
   "metadata": {},
   "outputs": [],
   "source": []
  }
 ],
 "metadata": {
  "kernelspec": {
   "display_name": "Python 3.10.5 64-bit (windows store)",
   "language": "python",
   "name": "python3"
  },
  "language_info": {
   "codemirror_mode": {
    "name": "ipython",
    "version": 3
   },
   "file_extension": ".py",
   "mimetype": "text/x-python",
   "name": "python",
   "nbconvert_exporter": "python",
   "pygments_lexer": "ipython3",
   "version": "3.10.5"
  },
  "orig_nbformat": 4,
  "vscode": {
   "interpreter": {
    "hash": "97367d2de1780ea7c502b529f25888c1b53c0430a7611816b6c7cf19d8435228"
   }
  }
 },
 "nbformat": 4,
 "nbformat_minor": 2
}
