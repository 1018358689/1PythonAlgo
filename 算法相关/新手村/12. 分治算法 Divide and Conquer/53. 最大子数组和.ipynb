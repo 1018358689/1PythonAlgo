{
 "cells": [
  {
   "cell_type": "code",
   "execution_count": 2,
   "metadata": {},
   "outputs": [
    {
     "data": {
      "text/plain": [
       "6"
      ]
     },
     "execution_count": 2,
     "metadata": {},
     "output_type": "execute_result"
    }
   ],
   "source": [
    "# 动态规划\n",
    "def f(nums: list):\n",
    "    # dp[i] 以nums[i]结尾的最大子数组和\n",
    "    # dp[i] = max(dp[i-1]+nums[i],nums[i])\n",
    "    # dp[0] = nums[0]\n",
    "    dp = [0] * len(nums)\n",
    "    dp[0] = nums[0]\n",
    "    for i in range(1, len(nums)):\n",
    "        dp[i] = max(dp[i - 1] + nums[i], nums[i])\n",
    "    return max(dp)\n",
    "\n",
    "\n",
    "f([-2, 1, -3, 4, -1, 2, 1, -5, 4])\n"
   ]
  },
  {
   "cell_type": "code",
   "execution_count": 6,
   "metadata": {},
   "outputs": [
    {
     "data": {
      "text/plain": [
       "6"
      ]
     },
     "execution_count": 6,
     "metadata": {},
     "output_type": "execute_result"
    }
   ],
   "source": [
    "# 分治\n",
    "def f(nums: list):\n",
    "\n",
    "    def sub(l, r):  # 区间[l,r] 的lSum,rSum,mSum,nSum\n",
    "        # lSum 以l开始的最大子串和\n",
    "        # rSum 以r结尾的最大子串和\n",
    "        # mSum [l,r]的最大子串和\n",
    "        # nSum [l,r]的和\n",
    "        if l == r:\n",
    "            return nums[l], nums[l], nums[l], nums[l]\n",
    "        m = (l + r) // 2\n",
    "        lSum1, rSum1, mSum1, nSum1 = sub(l, m)\n",
    "        lSum2, rSum2, mSum2, nSum2 = sub(m + 1, r)\n",
    "        lSum = max(lSum1, nSum1 + lSum2)\n",
    "        rSum = max(rSum2, nSum2 + rSum1)\n",
    "        mSum = max(mSum1, mSum2, rSum1 + lSum2)\n",
    "        nSum = nSum1 + nSum2\n",
    "        return lSum, rSum, mSum, nSum\n",
    "\n",
    "    return sub(0, len(nums) - 1)[2]\n",
    "\n",
    "\n",
    "f([-2, 1, -3, 4, -1, 2, 1, -5, 4])\n"
   ]
  },
  {
   "cell_type": "code",
   "execution_count": null,
   "metadata": {},
   "outputs": [],
   "source": []
  }
 ],
 "metadata": {
  "interpreter": {
   "hash": "a5f34674cfcc9b13426a2d112c686bc132e4ef443f1487e707e7c3787d6bcf89"
  },
  "kernelspec": {
   "display_name": "Python 3.10.4 64-bit (windows store)",
   "language": "python",
   "name": "python3"
  },
  "language_info": {
   "codemirror_mode": {
    "name": "ipython",
    "version": 3
   },
   "file_extension": ".py",
   "mimetype": "text/x-python",
   "name": "python",
   "nbconvert_exporter": "python",
   "pygments_lexer": "ipython3",
   "version": "3.10.4"
  },
  "orig_nbformat": 4
 },
 "nbformat": 4,
 "nbformat_minor": 2
}
