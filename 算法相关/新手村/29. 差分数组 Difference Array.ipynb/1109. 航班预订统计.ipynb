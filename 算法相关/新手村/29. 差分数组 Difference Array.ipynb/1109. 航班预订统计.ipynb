{
 "cells": [
  {
   "cell_type": "code",
   "execution_count": null,
   "metadata": {},
   "outputs": [],
   "source": [
    "from typing import List\n",
    "\n",
    "\n",
    "class Difference:\n",
    "\n",
    "    def __init__(self, arr):\n",
    "        self.diff = [0] * len(arr)\n",
    "        self.diff[0] = arr[0]\n",
    "        for i in range(1, len(arr)):\n",
    "            self.diff[i] = arr[i] - arr[i - 1]\n",
    "\n",
    "    def increase(self, l, r, val):\n",
    "        self.diff[l] += val\n",
    "        if r + 1 < len(self.diff):\n",
    "            self.diff[r + 1] -= val\n",
    "\n",
    "    def result(self):\n",
    "        res = [0] * len(self.diff)\n",
    "        res[0] = self.diff[0]\n",
    "        for i in range(1, len(self.diff)):\n",
    "            res[i] = self.diff[i] + res[i - 1]\n",
    "        return res\n",
    "\n",
    "\n",
    "class Solution:\n",
    "\n",
    "    def corpFlightBookings(self, bookings: List[List[int]], n: int) -> List[int]:\n",
    "        diff = Difference([0] * n)\n",
    "        for i, j, s in bookings:\n",
    "            diff.increase(i - 1, j - 1, s)\n",
    "        return diff.result()"
   ]
  },
  {
   "cell_type": "code",
   "execution_count": null,
   "metadata": {},
   "outputs": [],
   "source": [
    "from typing import List\n",
    "\n",
    "\n",
    "class Solution:\n",
    "\n",
    "    def corpFlightBookings(self, bookings: List[List[int]], n: int) -> List[int]:\n",
    "        diff = [0] * n\n",
    "        for i, j, s in bookings:\n",
    "            diff[i - 1] += s\n",
    "            if j < n:\n",
    "                diff[j] -= s\n",
    "        res = [0] * n\n",
    "        res[0] = diff[0]\n",
    "        for i in range(1, n):\n",
    "            res[i] = diff[i] + res[i - 1]\n",
    "        return res"
   ]
  }
 ],
 "metadata": {
  "language_info": {
   "name": "python"
  },
  "orig_nbformat": 4
 },
 "nbformat": 4,
 "nbformat_minor": 2
}
