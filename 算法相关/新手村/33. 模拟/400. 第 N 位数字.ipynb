{
 "cells": [
  {
   "cell_type": "code",
   "execution_count": 18,
   "metadata": {},
   "outputs": [
    {
     "data": {
      "text/plain": [
       "1"
      ]
     },
     "execution_count": 18,
     "metadata": {},
     "output_type": "execute_result"
    }
   ],
   "source": [
    "class Solution:\n",
    "\n",
    "    def findNthDigit(self, n: int) -> int:\n",
    "        k = 0  # 在几位数中\n",
    "        s = 0\n",
    "        pre = 0\n",
    "        while s < n:\n",
    "            pre = s\n",
    "            s += 9 * (10**k) * (k + 1)\n",
    "            k += 1\n",
    "        i, j = divmod(n - pre - 1, k)  # 第几个数字及第几位数字\n",
    "        num = 10**(k - 1) + i  # 数字\n",
    "        return num // (10**(k - j - 1)) % 10  # 具体一位\n",
    "\n",
    "\n",
    "s = Solution()\n",
    "s.findNthDigit(190)\n"
   ]
  },
  {
   "cell_type": "code",
   "execution_count": null,
   "metadata": {},
   "outputs": [],
   "source": []
  }
 ],
 "metadata": {
  "kernelspec": {
   "display_name": "Python 3.10.6 64-bit",
   "language": "python",
   "name": "python3"
  },
  "language_info": {
   "codemirror_mode": {
    "name": "ipython",
    "version": 3
   },
   "file_extension": ".py",
   "mimetype": "text/x-python",
   "name": "python",
   "nbconvert_exporter": "python",
   "pygments_lexer": "ipython3",
   "version": "3.10.6"
  },
  "orig_nbformat": 4,
  "vscode": {
   "interpreter": {
    "hash": "dfbf064e0f2c8839bc658dd75dfc0b8f09a0440078cae3024109b27659b69d06"
   }
  }
 },
 "nbformat": 4,
 "nbformat_minor": 2
}
