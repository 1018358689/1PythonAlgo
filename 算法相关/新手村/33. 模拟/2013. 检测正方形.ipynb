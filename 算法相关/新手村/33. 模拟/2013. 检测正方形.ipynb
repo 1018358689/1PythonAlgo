{
 "cells": [
  {
   "cell_type": "code",
   "execution_count": null,
   "metadata": {},
   "outputs": [],
   "source": [
    "from typing import List\n",
    "from collections import defaultdict\n",
    "\n",
    "\n",
    "class DetectSquares:\n",
    "\n",
    "    def __init__(self):\n",
    "        self.cnt = defaultdict(int)\n",
    "\n",
    "    def add(self, point: List[int]) -> None:\n",
    "        self.cnt[tuple(point)] += 1\n",
    "\n",
    "    def count(self, point: List[int]) -> int:\n",
    "        ans = 0\n",
    "        x2, y2 = point\n",
    "        for x1, y1 in set(self.cnt):\n",
    "            if x1 == x2 or y1 == y2: # 找对角线点 共线跳过\n",
    "                continue\n",
    "            if abs(x1 - x2) == abs(y1 - y2):\n",
    "                ans += self.cnt[(x1, y1)] * self.cnt[(x1, y2)] * self.cnt[(x2, y1)]\n",
    "        return ans\n",
    "\n",
    "\n",
    "# Your DetectSquares object will be instantiated and called as such:\n",
    "# obj = DetectSquares()\n",
    "# obj.add(point)\n",
    "# param_2 = obj.count(point)"
   ]
  }
 ],
 "metadata": {
  "language_info": {
   "name": "python"
  },
  "orig_nbformat": 4
 },
 "nbformat": 4,
 "nbformat_minor": 2
}
