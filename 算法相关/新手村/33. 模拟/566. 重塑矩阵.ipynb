{
 "cells": [
  {
   "cell_type": "code",
   "execution_count": 5,
   "metadata": {},
   "outputs": [
    {
     "data": {
      "text/plain": [
       "[[1, 2, 3, 4]]"
      ]
     },
     "execution_count": 5,
     "metadata": {},
     "output_type": "execute_result"
    }
   ],
   "source": [
    "from typing import List\n",
    "\n",
    "\n",
    "class Solution:\n",
    "\n",
    "    def matrixReshape(self, mat: List[List[int]], r: int, c: int) -> List[List[int]]:\n",
    "        rows, cols = len(mat), len(mat[0])\n",
    "        if rows * cols != r * c:\n",
    "            return mat\n",
    "        ans = [[0] * c for _ in range(r)]\n",
    "\n",
    "        def get_item(mat):\n",
    "            for r in range(rows):\n",
    "                for c in range(cols):\n",
    "                    yield mat[r][c]\n",
    "\n",
    "        g = get_item(mat)\n",
    "        for i in range(r):\n",
    "            for j in range(c):\n",
    "                ans[i][j] = next(g)\n",
    "        return ans\n",
    "\n",
    "\n",
    "s = Solution()\n",
    "s.matrixReshape([[1, 2], [3, 4]], 1, 4)\n"
   ]
  },
  {
   "cell_type": "code",
   "execution_count": null,
   "metadata": {},
   "outputs": [],
   "source": [
    "from typing import List\n",
    "\n",
    "\n",
    "class Solution:\n",
    "\n",
    "    def matrixReshape(self, mat: List[List[int]], r: int, c: int) -> List[List[int]]:\n",
    "        rows, cols = len(mat), len(mat[0])\n",
    "        if rows * cols != r * c:\n",
    "            return mat\n",
    "        ans = [[0] * c for _ in range(r)]\n",
    "\n",
    "        for sr in range(rows):\n",
    "            for sc in range(cols):\n",
    "                tr, tc = divmod(sr * cols + sc, c)  # 第几个数对应 新矩阵坐标\n",
    "                ans[tr][tc] = mat[sr][sc]\n",
    "        return ans"
   ]
  }
 ],
 "metadata": {
  "kernelspec": {
   "display_name": "Python 3.10.5 64-bit",
   "language": "python",
   "name": "python3"
  },
  "language_info": {
   "codemirror_mode": {
    "name": "ipython",
    "version": 3
   },
   "file_extension": ".py",
   "mimetype": "text/x-python",
   "name": "python",
   "nbconvert_exporter": "python",
   "pygments_lexer": "ipython3",
   "version": "3.10.5"
  },
  "orig_nbformat": 4,
  "vscode": {
   "interpreter": {
    "hash": "3196968d684371006099b3d55edeef8ed90365227a30deaef86e5d4aa8519be0"
   }
  }
 },
 "nbformat": 4,
 "nbformat_minor": 2
}
