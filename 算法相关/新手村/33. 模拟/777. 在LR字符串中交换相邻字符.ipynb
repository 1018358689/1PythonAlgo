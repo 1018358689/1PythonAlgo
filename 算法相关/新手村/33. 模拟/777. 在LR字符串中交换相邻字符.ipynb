{
 "cells": [
  {
   "cell_type": "code",
   "execution_count": 1,
   "metadata": {},
   "outputs": [
    {
     "data": {
      "text/plain": [
       "'AC'"
      ]
     },
     "execution_count": 1,
     "metadata": {},
     "output_type": "execute_result"
    }
   ],
   "source": [
    "'AXXC'.replace('X','')"
   ]
  },
  {
   "cell_type": "markdown",
   "metadata": {},
   "source": [
    "思路分析： 题目的意思是说 ‘R’只能向右移动，并且只能移向’X’，‘L’只能向左移动，并且只能移向’X’。\n",
    "\n",
    "第一：如果将start、end中的‘X’全部去掉得到的newStart 和 newEnd相等才有可能转换成功。\n",
    "第二：如果start中'R'的左边'X'的个数超过在end中对应位置的'R'的左边'X'的个数，则不能转换成功，因为start中的'R'只能向右移动，右边的'X'只能增加不能减少\n",
    "第三：如果end中'L'的左边'X'的个数超过在start中对应位置的'L'的左边'X'的个数，则不能转换成功，因为start中的'L'只能向左移动，左边的'X'只能减少不能增加"
   ]
  },
  {
   "cell_type": "code",
   "execution_count": 4,
   "metadata": {},
   "outputs": [
    {
     "data": {
      "text/plain": [
       "True"
      ]
     },
     "execution_count": 4,
     "metadata": {},
     "output_type": "execute_result"
    }
   ],
   "source": [
    "class Solution:\n",
    "\n",
    "    def canTransform(self, start: str, end: str) -> bool:\n",
    "        if start.replace('X', '') != end.replace('X', ''):\n",
    "            return False\n",
    "        r1, r2 = [], []\n",
    "        l1, l2 = [], []\n",
    "        cnt = 0\n",
    "        for n in start:\n",
    "            if n == 'R':\n",
    "                r1.append(cnt)\n",
    "            elif n == 'L':\n",
    "                l1.append(cnt)\n",
    "            elif n == 'X':\n",
    "                cnt += 1\n",
    "\n",
    "        cnt = 0\n",
    "        for n in end:\n",
    "            if n == 'R':\n",
    "                r2.append(cnt)\n",
    "            elif n == 'L':\n",
    "                l2.append(cnt)\n",
    "            elif n == 'X':\n",
    "                cnt += 1\n",
    "        return all(i <= j for i, j in zip(r1, r2)) and all(cnt - i <= cnt - j for i, j in zip(l1, l2))\n",
    "\n",
    "\n",
    "s = Solution()\n",
    "s.canTransform(\"RXXLRXRXL\", \"XRLXXRRLX\")"
   ]
  },
  {
   "cell_type": "code",
   "execution_count": null,
   "metadata": {},
   "outputs": [],
   "source": []
  }
 ],
 "metadata": {
  "kernelspec": {
   "display_name": "Python 3.10.5 64-bit",
   "language": "python",
   "name": "python3"
  },
  "language_info": {
   "codemirror_mode": {
    "name": "ipython",
    "version": 3
   },
   "file_extension": ".py",
   "mimetype": "text/x-python",
   "name": "python",
   "nbconvert_exporter": "python",
   "pygments_lexer": "ipython3",
   "version": "3.10.5"
  },
  "orig_nbformat": 4,
  "vscode": {
   "interpreter": {
    "hash": "3196968d684371006099b3d55edeef8ed90365227a30deaef86e5d4aa8519be0"
   }
  }
 },
 "nbformat": 4,
 "nbformat_minor": 2
}
