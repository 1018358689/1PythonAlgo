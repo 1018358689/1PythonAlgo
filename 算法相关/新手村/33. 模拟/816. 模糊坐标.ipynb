{
 "cells": [
  {
   "cell_type": "markdown",
   "metadata": {},
   "source": [
    "枚举分隔线，分别计算左右字符串能生成的所有数字，然后从这两个集合中各取一个元素组合成一个坐标（笛卡尔积）。\n",
    "\n",
    "如何获得一个字符串可以生成的所有合法数字？\n",
    "\n",
    "首先字符串本身是一个数字，然后同样是枚举分隔位置，加小数点。但是有以下几种特殊情况：\n",
    "\n",
    "如果只有一个数，则不能加小数点，返回它本身。\n",
    "如果字符串第一个数和最后一个数都是 0，则它必不合法。\n",
    "如果字符串第一个数不是 0 但最后一个数是 0，则它不能加小数点，因为会产生多余的 0。\n",
    "如果字符串有前导 0，则它只能以 0. 开头。"
   ]
  },
  {
   "cell_type": "code",
   "execution_count": null,
   "metadata": {},
   "outputs": [],
   "source": [
    "from typing import List\n",
    "\n",
    "\n",
    "class Solution:\n",
    "\n",
    "    def split(self, s: str):\n",
    "        ans = []\n",
    "        # 对每一部分逐位加入小数点\n",
    "        for i in range(1, len(s)):\n",
    "            if (s[0] == '0' and i > 1) or s[-1] == '0': # 00. 和 .xxx0 舍弃\n",
    "                break\n",
    "            ans.append(s[:i] + \".\" + s[i:])\n",
    "        # startswith() 方法用于检查字符串是否以指定字符串开头\n",
    "        # 对整数的处理\n",
    "        if s == '0' or not s.startswith('0'): # 0或非0开头\n",
    "            ans.append(s)\n",
    "        return ans\n",
    "\n",
    "    def ambiguousCoordinates(self, s: str) -> List[str]:\n",
    "        s = s[1:-1]\n",
    "        t = []\n",
    "        for i in range(1, len(s)):\n",
    "            # 先将字符串分成两部分\n",
    "            x = self.split(s[:i])\n",
    "            y = self.split(s[i:])\n",
    "            for j in x:\n",
    "                for k in y:\n",
    "                    t.append('(' + j + ', ' + k + ')')\n",
    "        return t"
   ]
  },
  {
   "cell_type": "code",
   "execution_count": 2,
   "metadata": {},
   "outputs": [
    {
     "data": {
      "text/plain": [
       "'bc'"
      ]
     },
     "execution_count": 2,
     "metadata": {},
     "output_type": "execute_result"
    }
   ],
   "source": [
    "s= 'abcd'\n",
    "s[1:-1]"
   ]
  },
  {
   "cell_type": "code",
   "execution_count": null,
   "metadata": {},
   "outputs": [],
   "source": []
  }
 ],
 "metadata": {
  "kernelspec": {
   "display_name": "Python 3.10.6 64-bit",
   "language": "python",
   "name": "python3"
  },
  "language_info": {
   "codemirror_mode": {
    "name": "ipython",
    "version": 3
   },
   "file_extension": ".py",
   "mimetype": "text/x-python",
   "name": "python",
   "nbconvert_exporter": "python",
   "pygments_lexer": "ipython3",
   "version": "3.10.6"
  },
  "orig_nbformat": 4,
  "vscode": {
   "interpreter": {
    "hash": "dfbf064e0f2c8839bc658dd75dfc0b8f09a0440078cae3024109b27659b69d06"
   }
  }
 },
 "nbformat": 4,
 "nbformat_minor": 2
}
