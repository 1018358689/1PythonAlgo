{
 "cells": [
  {
   "cell_type": "code",
   "execution_count": 1,
   "metadata": {},
   "outputs": [],
   "source": [
    "from typing import List\n",
    "\n",
    "\n",
    "class Solution:\n",
    "\n",
    "    def nextGreaterElements(self, nums: List[int]) -> List[int]:\n",
    "        lgh = len(nums)\n",
    "        ans = [-1] * lgh\n",
    "        nums *= 2\n",
    "        stack = []\n",
    "        for i in range(2 * lgh - 1, -1, -1):\n",
    "            cur = nums[i]\n",
    "            while stack and stack[-1] <= cur:\n",
    "                stack.pop()\n",
    "            if stack and i < lgh:\n",
    "                ans[i] = stack[-1]\n",
    "            stack.append(cur)\n",
    "        return ans"
   ]
  },
  {
   "cell_type": "code",
   "execution_count": 4,
   "metadata": {},
   "outputs": [
    {
     "data": {
      "text/plain": [
       "[2, 3, 4, -1, 4]"
      ]
     },
     "execution_count": 4,
     "metadata": {},
     "output_type": "execute_result"
    }
   ],
   "source": [
    "from typing import List\n",
    "\n",
    "\n",
    "class Solution:\n",
    "\n",
    "    def nextGreaterElements(self, nums: List[int]) -> List[int]:\n",
    "        lgh = len(nums)\n",
    "        ans = [-1] * lgh\n",
    "        stack = []\n",
    "        for i in range(2 * lgh - 1, -1, -1):\n",
    "            cur = nums[i % lgh]\n",
    "            while stack and stack[-1] <= cur:\n",
    "                stack.pop()\n",
    "            if stack:\n",
    "                ans[i % lgh] = stack[-1]\n",
    "            stack.append(cur)\n",
    "        return ans\n",
    "s = Solution()\n",
    "s.nextGreaterElements([1,2,3,4,3])"
   ]
  },
  {
   "cell_type": "code",
   "execution_count": 8,
   "metadata": {},
   "outputs": [
    {
     "data": {
      "text/plain": [
       "[2, 3, 4, -1, 4]"
      ]
     },
     "execution_count": 8,
     "metadata": {},
     "output_type": "execute_result"
    }
   ],
   "source": [
    "from typing import List\n",
    "\n",
    "\n",
    "class Solution:\n",
    "\n",
    "    def nextGreaterElements(self, nums: List[int]) -> List[int]:\n",
    "        lgh = len(nums)\n",
    "        ans = [-1] * lgh\n",
    "        stack = []\n",
    "        for i in range(2 * lgh):\n",
    "            cur = nums[i % lgh]\n",
    "            while stack and nums[stack[-1] % lgh] < cur:\n",
    "                ans[stack.pop() % lgh] = cur\n",
    "            stack.append(i)\n",
    "        return ans\n",
    "\n",
    "\n",
    "s = Solution()\n",
    "s.nextGreaterElements([1, 2, 3, 4, 3])\n"
   ]
  },
  {
   "cell_type": "code",
   "execution_count": null,
   "metadata": {},
   "outputs": [],
   "source": []
  }
 ],
 "metadata": {
  "kernelspec": {
   "display_name": "Python 3.10.1 64-bit",
   "language": "python",
   "name": "python3"
  },
  "language_info": {
   "codemirror_mode": {
    "name": "ipython",
    "version": 3
   },
   "file_extension": ".py",
   "mimetype": "text/x-python",
   "name": "python",
   "nbconvert_exporter": "python",
   "pygments_lexer": "ipython3",
   "version": "3.10.1"
  },
  "orig_nbformat": 4,
  "vscode": {
   "interpreter": {
    "hash": "aee8b7b246df8f9039afb4144a1f6fd8d2ca17a180786b69acc140d282b71a49"
   }
  }
 },
 "nbformat": 4,
 "nbformat_minor": 2
}
