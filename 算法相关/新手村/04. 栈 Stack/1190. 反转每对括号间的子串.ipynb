{
 "cells": [
  {
   "cell_type": "code",
   "execution_count": null,
   "metadata": {},
   "outputs": [],
   "source": [
    "class Solution:\n",
    "\n",
    "    def reverseParentheses(self, s: str) -> str:\n",
    "        stack = []\n",
    "        for n in s:\n",
    "            if n != ')':\n",
    "                stack.append(n)\n",
    "            else:\n",
    "                tmp = []\n",
    "                while stack[-1] != '(':\n",
    "                    tmp.append(stack.pop())\n",
    "                stack.pop()\n",
    "                stack += tmp\n",
    "        return ''.join(stack)"
   ]
  }
 ],
 "metadata": {
  "language_info": {
   "name": "python"
  },
  "orig_nbformat": 4
 },
 "nbformat": 4,
 "nbformat_minor": 2
}
