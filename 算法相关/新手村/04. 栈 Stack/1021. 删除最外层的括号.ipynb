{
 "cells": [
  {
   "cell_type": "code",
   "execution_count": 9,
   "metadata": {},
   "outputs": [
    {
     "data": {
      "text/plain": [
       "'()()()()(())'"
      ]
     },
     "execution_count": 9,
     "metadata": {},
     "output_type": "execute_result"
    }
   ],
   "source": [
    "class Solution:\n",
    "\n",
    "    def removeOuterParentheses(self, s: str) -> str:\n",
    "        ans = ''\n",
    "        stack = []\n",
    "        for n in s:\n",
    "            if n == ')':\n",
    "                stack.pop()\n",
    "                if stack:  # 还不是最外层右括号\n",
    "                    ans += n\n",
    "            else:\n",
    "                stack.append(n)\n",
    "                if len(stack) > 1:  # 不是最外层左括号\n",
    "                    ans += n\n",
    "        return ans\n",
    "\n",
    "\n",
    "s = Solution()\n",
    "s.removeOuterParentheses('(()())(())')\n",
    "s.removeOuterParentheses('(()())(())(()(()))')"
   ]
  },
  {
   "cell_type": "code",
   "execution_count": 10,
   "metadata": {},
   "outputs": [
    {
     "data": {
      "text/plain": [
       "'()()()()(())'"
      ]
     },
     "execution_count": 10,
     "metadata": {},
     "output_type": "execute_result"
    }
   ],
   "source": [
    "class Solution:\n",
    "\n",
    "    def removeOuterParentheses(self, s: str) -> str:\n",
    "        ans = ''\n",
    "        stack = []\n",
    "        for i, n in enumerate(s):\n",
    "            if n == '(':\n",
    "                stack.append(i)\n",
    "            else:\n",
    "                left = stack.pop()\n",
    "                if not stack:\n",
    "                    ans += s[left + 1:i]\n",
    "        return ans\n",
    "\n",
    "\n",
    "s = Solution()\n",
    "s.removeOuterParentheses('(()())(())')\n",
    "s.removeOuterParentheses('(()())(())(()(()))')"
   ]
  },
  {
   "cell_type": "code",
   "execution_count": null,
   "metadata": {},
   "outputs": [],
   "source": []
  }
 ],
 "metadata": {
  "interpreter": {
   "hash": "aee8b7b246df8f9039afb4144a1f6fd8d2ca17a180786b69acc140d282b71a49"
  },
  "kernelspec": {
   "display_name": "Python 3.10.2 64-bit",
   "language": "python",
   "name": "python3"
  },
  "language_info": {
   "codemirror_mode": {
    "name": "ipython",
    "version": 3
   },
   "file_extension": ".py",
   "mimetype": "text/x-python",
   "name": "python",
   "nbconvert_exporter": "python",
   "pygments_lexer": "ipython3",
   "version": "3.10.2"
  },
  "orig_nbformat": 4
 },
 "nbformat": 4,
 "nbformat_minor": 2
}
