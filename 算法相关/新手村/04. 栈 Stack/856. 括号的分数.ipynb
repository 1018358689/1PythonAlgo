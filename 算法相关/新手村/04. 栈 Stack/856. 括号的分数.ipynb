{
 "cells": [
  {
   "cell_type": "code",
   "execution_count": 1,
   "metadata": {},
   "outputs": [],
   "source": [
    "class Solution:\n",
    "\n",
    "    def scoreOfParentheses(self, s: str) -> int:\n",
    "        stack = [0]\n",
    "        for i in range(len(s)):\n",
    "            if s[i] == '(':\n",
    "                stack.append(0)\n",
    "            else:\n",
    "                top = stack.pop()\n",
    "                if s[i - 1] == '(':\n",
    "                    top += 1\n",
    "                else:\n",
    "                    top *= 2\n",
    "                stack[-1] += top\n",
    "        return stack.pop()"
   ]
  },
  {
   "cell_type": "code",
   "execution_count": 1,
   "metadata": {},
   "outputs": [],
   "source": [
    "class Solution:\n",
    "\n",
    "    def scoreOfParentheses(self, s: str) -> int:\n",
    "        lgh = len(s)\n",
    "        if lgh == 2:\n",
    "            return 1\n",
    "        stk = 0\n",
    "        mid = 0\n",
    "        for i in range(lgh):\n",
    "            stk += (1 if s[i] == '(' else -1)\n",
    "            if stk == 0:\n",
    "                mid = i\n",
    "                break\n",
    "        if mid == lgh - 1:\n",
    "            return 2 * self.scoreOfParentheses(s[1:-1])\n",
    "        else:\n",
    "            return self.scoreOfParentheses(s[:mid + 1]) + self.scoreOfParentheses(s[mid + 1:])\n"
   ]
  },
  {
   "cell_type": "code",
   "execution_count": null,
   "metadata": {},
   "outputs": [],
   "source": [
    "class Solution:\n",
    "\n",
    "    def scoreOfParentheses(self, s: str) -> int:\n",
    "\n",
    "        def dfs(s, l, r):  # [l,r]的s\n",
    "            if r - l + 1 == 2:\n",
    "                return 1\n",
    "            stk = 0\n",
    "            mid = 0\n",
    "            for i in range(l, r + 1):\n",
    "                stk += (1 if s[i] == '(' else -1)\n",
    "                if stk == 0:\n",
    "                    mid = i\n",
    "                    break\n",
    "            if mid == r:\n",
    "                return 2 * dfs(s, l + 1, r - 1)\n",
    "            else:\n",
    "                return dfs(s, l, mid) + dfs(s, mid + 1, r)\n",
    "\n",
    "        return dfs(s, 0, len(s) - 1)\n"
   ]
  }
 ],
 "metadata": {
  "kernelspec": {
   "display_name": "Python 3.10.5 64-bit",
   "language": "python",
   "name": "python3"
  },
  "language_info": {
   "codemirror_mode": {
    "name": "ipython",
    "version": 3
   },
   "file_extension": ".py",
   "mimetype": "text/x-python",
   "name": "python",
   "nbconvert_exporter": "python",
   "pygments_lexer": "ipython3",
   "version": "3.10.5"
  },
  "orig_nbformat": 4,
  "vscode": {
   "interpreter": {
    "hash": "3196968d684371006099b3d55edeef8ed90365227a30deaef86e5d4aa8519be0"
   }
  }
 },
 "nbformat": 4,
 "nbformat_minor": 2
}
