{
 "cells": [
  {
   "cell_type": "code",
   "execution_count": 2,
   "metadata": {},
   "outputs": [],
   "source": [
    "from typing import List\n",
    "\n",
    "\n",
    "class Solution:\n",
    "\n",
    "    def maxChunksToSorted(self, arr: List[int]) -> int:\n",
    "        s1, s2 = set(), set()\n",
    "        ans = 0\n",
    "        for i, n in enumerate(arr):\n",
    "            s1.add(i)\n",
    "            s2.add(n)\n",
    "            if s1 == s2:\n",
    "                ans += 1\n",
    "                s1, s2 = set(), set()\n",
    "        return ans"
   ]
  },
  {
   "cell_type": "code",
   "execution_count": 1,
   "metadata": {},
   "outputs": [],
   "source": [
    "from typing import List\n",
    "\n",
    "\n",
    "class Solution:\n",
    "\n",
    "    def maxChunksToSorted(self, arr: List[int]) -> int:\n",
    "        stk = []  # 递增栈\n",
    "        for n in arr:\n",
    "            while stk and n <= stk[-1]:\n",
    "                continue\n",
    "            stk.append(n)\n",
    "        return len(stk)"
   ]
  },
  {
   "cell_type": "code",
   "execution_count": null,
   "metadata": {},
   "outputs": [],
   "source": []
  }
 ],
 "metadata": {
  "kernelspec": {
   "display_name": "Python 3.10.5 64-bit",
   "language": "python",
   "name": "python3"
  },
  "language_info": {
   "codemirror_mode": {
    "name": "ipython",
    "version": 3
   },
   "file_extension": ".py",
   "mimetype": "text/x-python",
   "name": "python",
   "nbconvert_exporter": "python",
   "pygments_lexer": "ipython3",
   "version": "3.10.5"
  },
  "orig_nbformat": 4,
  "vscode": {
   "interpreter": {
    "hash": "3196968d684371006099b3d55edeef8ed90365227a30deaef86e5d4aa8519be0"
   }
  }
 },
 "nbformat": 4,
 "nbformat_minor": 2
}
