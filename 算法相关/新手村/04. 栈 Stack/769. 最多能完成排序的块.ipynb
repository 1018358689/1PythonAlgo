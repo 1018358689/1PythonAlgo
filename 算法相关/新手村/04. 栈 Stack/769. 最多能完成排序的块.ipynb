{
 "cells": [
  {
   "cell_type": "code",
   "execution_count": 2,
   "metadata": {},
   "outputs": [],
   "source": [
    "from typing import List\n",
    "\n",
    "\n",
    "class Solution:\n",
    "\n",
    "    def maxChunksToSorted(self, arr: List[int]) -> int:\n",
    "        s1, s2 = set(), set()\n",
    "        ans = 0\n",
    "        for i, n in enumerate(arr):\n",
    "            s1.add(i)\n",
    "            s2.add(n)\n",
    "            if s1 == s2:\n",
    "                ans += 1\n",
    "                s1, s2 = set(), set()\n",
    "        return ans"
   ]
  },
  {
   "cell_type": "code",
   "execution_count": null,
   "metadata": {},
   "outputs": [],
   "source": [
    "from typing import List\n",
    "\n",
    "\n",
    "class Solution:\n",
    "\n",
    "    def maxChunksToSorted(self, arr: List[int]) -> int:\n",
    "        stk = []  # 递增栈\n",
    "        for n in arr:\n",
    "            while stk and n <= stk[-1]:\n",
    "                continue\n",
    "            stk.append(n)\n",
    "        return len(stk)"
   ]
  }
 ],
 "metadata": {
  "kernelspec": {
   "display_name": "Python 3.10.6 64-bit",
   "language": "python",
   "name": "python3"
  },
  "language_info": {
   "codemirror_mode": {
    "name": "ipython",
    "version": 3
   },
   "file_extension": ".py",
   "mimetype": "text/x-python",
   "name": "python",
   "nbconvert_exporter": "python",
   "pygments_lexer": "ipython3",
   "version": "3.10.6"
  },
  "orig_nbformat": 4,
  "vscode": {
   "interpreter": {
    "hash": "dfbf064e0f2c8839bc658dd75dfc0b8f09a0440078cae3024109b27659b69d06"
   }
  }
 },
 "nbformat": 4,
 "nbformat_minor": 2
}
