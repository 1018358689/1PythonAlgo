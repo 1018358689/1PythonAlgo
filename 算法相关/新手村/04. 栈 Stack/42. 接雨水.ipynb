{
 "cells": [
  {
   "cell_type": "markdown",
   "metadata": {},
   "source": [
    "本质:找该凹点左右最大值 该点水位高度木桶原理找最短木头"
   ]
  },
  {
   "cell_type": "code",
   "execution_count": 3,
   "metadata": {},
   "outputs": [
    {
     "data": {
      "text/plain": [
       "6"
      ]
     },
     "execution_count": 3,
     "metadata": {},
     "output_type": "execute_result"
    }
   ],
   "source": [
    "# 单调栈\n",
    "from typing import List\n",
    "\n",
    "\n",
    "class Solution:\n",
    "\n",
    "    def trap(self, height: List[int]) -> int:\n",
    "        stack = []  # 非严格和严格递减栈都可以\n",
    "        ans = 0\n",
    "        for i in range(len(height)):\n",
    "            cur = height[i]\n",
    "            while stack and height[stack[-1]] <= cur:  # 遇到反弹点 有没有等于都可以\n",
    "                top = stack.pop()  # 凹地凹点\n",
    "                if stack:  # 如果左边没有木板没法接水直接退出\n",
    "                    left = stack[-1]  # 左边木板位置\n",
    "                    d = i - left - 1  # 距离\n",
    "                    dh = min(height[left], cur) - height[top]  # 相对凹地高度\n",
    "                    ans += d * dh  # 凹地接水\n",
    "            stack.append(i)\n",
    "        return ans\n",
    "\n",
    "\n",
    "s = Solution()\n",
    "s.trap([0, 1, 0, 2, 1, 0, 1, 3, 2, 1, 2, 1])\n"
   ]
  },
  {
   "cell_type": "code",
   "execution_count": 5,
   "metadata": {},
   "outputs": [
    {
     "data": {
      "text/plain": [
       "6"
      ]
     },
     "execution_count": 5,
     "metadata": {},
     "output_type": "execute_result"
    }
   ],
   "source": [
    "# 动态规划 记录左边右边最大值\n",
    "from typing import List\n",
    "\n",
    "\n",
    "class Solution:\n",
    "\n",
    "    def trap(self, height: List[int]) -> int:\n",
    "        leftMax = [0] * len(height)\n",
    "        rightMax = [0] * len(height)\n",
    "        for i in range(1, len(height)):\n",
    "            leftMax[i] = max(leftMax[i - 1], height[i - 1])\n",
    "        for i in range(len(height) - 2, -1, -1):\n",
    "            rightMax[i] = max(rightMax[i + 1], height[i + 1])\n",
    "\n",
    "        ans = 0\n",
    "        for i in range(len(height)):\n",
    "            cur = height[i]\n",
    "            dh = min(leftMax[i], rightMax[i]) - cur\n",
    "            ans += dh if dh > 0 else 0\n",
    "        return ans\n",
    "\n",
    "\n",
    "s = Solution()\n",
    "s.trap([0, 1, 0, 2, 1, 0, 1, 3, 2, 1, 2, 1])\n"
   ]
  },
  {
   "cell_type": "code",
   "execution_count": 6,
   "metadata": {},
   "outputs": [
    {
     "data": {
      "text/plain": [
       "6"
      ]
     },
     "execution_count": 6,
     "metadata": {},
     "output_type": "execute_result"
    }
   ],
   "source": [
    "# Dijkstra 木桶原理\n",
    "from typing import List\n",
    "import heapq\n",
    "\n",
    "\n",
    "class Solution:\n",
    "\n",
    "    def trap(self, height: List[int]) -> int:\n",
    "        sz = len(height)\n",
    "        pq = [(height[0], 0), (height[sz - 1], sz - 1)]\n",
    "        heapq.heapify(pq)\n",
    "        vis = {0, sz - 1}\n",
    "        ans = 0\n",
    "        while pq:\n",
    "            h, cur = heapq.heappop(pq)\n",
    "            for nei in {cur - 1, cur + 1}:\n",
    "                if 0 <= nei < sz and nei not in vis:\n",
    "                    vis.add(nei)\n",
    "                    ans += max(0, h - height[nei]) # 内部比最短板还低则可以接水 否则不能接水\n",
    "                    heapq.heappush(pq, (max(h, height[nei]), nei)) # 新木板\n",
    "        return ans\n",
    "\n",
    "\n",
    "s = Solution()\n",
    "s.trap([0, 1, 0, 2, 1, 0, 1, 3, 2, 1, 2, 1])"
   ]
  },
  {
   "cell_type": "code",
   "execution_count": 7,
   "metadata": {},
   "outputs": [
    {
     "data": {
      "text/plain": [
       "6"
      ]
     },
     "execution_count": 7,
     "metadata": {},
     "output_type": "execute_result"
    }
   ],
   "source": [
    "# 双指针 本质和上面一样\n",
    "from typing import List\n",
    "\n",
    "\n",
    "class Solution:\n",
    "\n",
    "    def trap(self, height: List[int]) -> int:\n",
    "        sz = len(height)\n",
    "        l, r = 0, sz - 1\n",
    "        ans = 0\n",
    "        while l < r:\n",
    "            if height[l] < height[r]:\n",
    "                ans += max(0, height[l] - height[l + 1])\n",
    "                height[l + 1] = max(height[l], height[l + 1])\n",
    "                l += 1\n",
    "            else:\n",
    "                ans += max(0, height[r] - height[r - 1])\n",
    "                height[r - 1] = max(height[r], height[r - 1])\n",
    "                r -= 1\n",
    "        return ans\n",
    "\n",
    "\n",
    "s = Solution()\n",
    "s.trap([0, 1, 0, 2, 1, 0, 1, 3, 2, 1, 2, 1])"
   ]
  },
  {
   "cell_type": "code",
   "execution_count": null,
   "metadata": {},
   "outputs": [],
   "source": []
  }
 ],
 "metadata": {
  "interpreter": {
   "hash": "97367d2de1780ea7c502b529f25888c1b53c0430a7611816b6c7cf19d8435228"
  },
  "kernelspec": {
   "display_name": "Python 3.10.4 64-bit (windows store)",
   "language": "python",
   "name": "python3"
  },
  "language_info": {
   "codemirror_mode": {
    "name": "ipython",
    "version": 3
   },
   "file_extension": ".py",
   "mimetype": "text/x-python",
   "name": "python",
   "nbconvert_exporter": "python",
   "pygments_lexer": "ipython3",
   "version": "3.10.4"
  },
  "orig_nbformat": 4
 },
 "nbformat": 4,
 "nbformat_minor": 2
}
