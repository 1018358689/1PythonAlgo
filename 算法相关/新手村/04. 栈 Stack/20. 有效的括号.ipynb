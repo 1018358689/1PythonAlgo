{
 "cells": [
  {
   "cell_type": "code",
   "execution_count": null,
   "metadata": {},
   "outputs": [],
   "source": [
    "class Solution:\n",
    "\n",
    "    def isValid(self, s: str) -> bool:\n",
    "        ha = {'(': ')', '[': ']', '{': '}'}\n",
    "        stack = []\n",
    "        for n in s:\n",
    "            if n in ha:\n",
    "                stack.append(n)\n",
    "            else:\n",
    "                if stack and ha[stack[-1]] == n:\n",
    "                    stack.pop()\n",
    "                else:\n",
    "                    return False\n",
    "        return not stack"
   ]
  }
 ],
 "metadata": {
  "kernelspec": {
   "display_name": "Python 3.10.6 64-bit",
   "language": "python",
   "name": "python3"
  },
  "language_info": {
   "name": "python",
   "version": "3.10.6"
  },
  "orig_nbformat": 4,
  "vscode": {
   "interpreter": {
    "hash": "dfbf064e0f2c8839bc658dd75dfc0b8f09a0440078cae3024109b27659b69d06"
   }
  }
 },
 "nbformat": 4,
 "nbformat_minor": 2
}
