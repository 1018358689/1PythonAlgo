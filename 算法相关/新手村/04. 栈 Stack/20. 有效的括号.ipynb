{
 "cells": [
  {
   "cell_type": "code",
   "execution_count": null,
   "metadata": {},
   "outputs": [],
   "source": [
    "def f(s: str):\n",
    "    ha = {')': '(', '}': '{', ']': '['}\n",
    "    stack = []\n",
    "    for n in s:\n",
    "        if n not in ha:\n",
    "            stack.append(n)\n",
    "        else:\n",
    "            if stack and ha[n] == stack[-1]:\n",
    "                stack.pop()\n",
    "            else:\n",
    "                return False\n",
    "    return len(stack) == 0\n"
   ]
  }
 ],
 "metadata": {
  "language_info": {
   "name": "python"
  },
  "orig_nbformat": 4
 },
 "nbformat": 4,
 "nbformat_minor": 2
}
