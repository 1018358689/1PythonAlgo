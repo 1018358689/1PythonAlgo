{
 "cells": [
  {
   "cell_type": "code",
   "execution_count": 2,
   "metadata": {},
   "outputs": [
    {
     "data": {
      "text/plain": [
       "[-1, 3, -1]"
      ]
     },
     "execution_count": 2,
     "metadata": {},
     "output_type": "execute_result"
    }
   ],
   "source": [
    "def f(nums1: list, nums2: list):\n",
    "    stack = []\n",
    "    ha = {}\n",
    "    for i in range(len(nums2) - 1, -1, -1):\n",
    "        while stack and nums2[stack[-1]] <= nums2[i]:\n",
    "            stack.pop()\n",
    "        ha[nums2[i]] = nums2[stack[-1]] if stack else -1\n",
    "        stack.append(i)\n",
    "    for i in range(len(nums1)):\n",
    "        nums1[i] = ha[nums1[i]]\n",
    "    return nums1\n",
    "\n",
    "\n",
    "f([4, 1, 2], [1, 3, 4, 2])\n"
   ]
  },
  {
   "cell_type": "code",
   "execution_count": null,
   "metadata": {},
   "outputs": [],
   "source": []
  }
 ],
 "metadata": {
  "interpreter": {
   "hash": "aee8b7b246df8f9039afb4144a1f6fd8d2ca17a180786b69acc140d282b71a49"
  },
  "kernelspec": {
   "display_name": "Python 3.10.2 64-bit",
   "language": "python",
   "name": "python3"
  },
  "language_info": {
   "codemirror_mode": {
    "name": "ipython",
    "version": 3
   },
   "file_extension": ".py",
   "mimetype": "text/x-python",
   "name": "python",
   "nbconvert_exporter": "python",
   "pygments_lexer": "ipython3",
   "version": "3.10.2"
  },
  "orig_nbformat": 4
 },
 "nbformat": 4,
 "nbformat_minor": 2
}
