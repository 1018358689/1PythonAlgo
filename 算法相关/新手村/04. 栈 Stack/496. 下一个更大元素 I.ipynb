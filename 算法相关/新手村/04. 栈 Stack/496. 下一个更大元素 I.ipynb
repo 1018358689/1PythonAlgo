{
 "cells": [
  {
   "cell_type": "code",
   "execution_count": 2,
   "metadata": {},
   "outputs": [
    {
     "data": {
      "text/plain": [
       "[-1, 3, -1]"
      ]
     },
     "execution_count": 2,
     "metadata": {},
     "output_type": "execute_result"
    }
   ],
   "source": [
    "from typing import List\n",
    "from collections import defaultdict\n",
    "# 右往左\n",
    "\n",
    "class Solution:\n",
    "\n",
    "    def nextGreaterElement(self, nums1: List[int], nums2: List[int]) -> List[int]:\n",
    "        ha = defaultdict(lambda: -1)\n",
    "        stk = []\n",
    "        for c in reversed(nums2):\n",
    "            while stk and c >= stk[-1]:\n",
    "                stk.pop()\n",
    "            if stk:\n",
    "                ha[c] = stk[-1]\n",
    "            stk.append(c)\n",
    "        return [ha[c] for c in nums1]"
   ]
  },
  {
   "cell_type": "code",
   "execution_count": 1,
   "metadata": {},
   "outputs": [],
   "source": [
    "from typing import List\n",
    "from collections import defaultdict\n",
    "# 左往右\n",
    "\n",
    "class Solution:\n",
    "\n",
    "    def nextGreaterElement(self, nums1: List[int], nums2: List[int]) -> List[int]:\n",
    "        ha = defaultdict(lambda: -1)\n",
    "        stk = []\n",
    "        for c in nums2:\n",
    "            while stk and c > stk[-1]:\n",
    "                ha[stk.pop()] = c\n",
    "            stk.append(c)\n",
    "        return [ha[c] for c in nums1]"
   ]
  },
  {
   "cell_type": "code",
   "execution_count": 7,
   "metadata": {},
   "outputs": [
    {
     "data": {
      "text/plain": [
       "[-1, 3, -1]"
      ]
     },
     "execution_count": 7,
     "metadata": {},
     "output_type": "execute_result"
    }
   ],
   "source": [
    "from typing import List\n",
    "from collections import defaultdict\n",
    "from sortedcontainers import SortedList\n",
    "# 上往下\n",
    "\n",
    "\n",
    "class Solution:\n",
    "\n",
    "    def nextGreaterElement(self, nums1: List[int], nums2: List[int]) -> List[int]:\n",
    "        ha = defaultdict(lambda: -1)\n",
    "        sl = SortedList()\n",
    "        for c, i in sorted((-c, i) for i, c in enumerate(nums2)):\n",
    "            idx = sl.bisect_right(i)  # 大于他的最近索引\n",
    "            if idx < len(sl):\n",
    "                ha[-c] = nums2[sl[idx]]  # 大于他的最近索引对应的值\n",
    "            sl.add(i)\n",
    "        return [ha[c] for c in nums1]\n",
    "\n",
    "\n",
    "s = Solution()\n",
    "s.nextGreaterElement([4, 1, 2], [1, 3, 4, 2])\n"
   ]
  },
  {
   "cell_type": "code",
   "execution_count": null,
   "metadata": {},
   "outputs": [],
   "source": []
  }
 ],
 "metadata": {
  "kernelspec": {
   "display_name": "Python 3",
   "language": "python",
   "name": "python3"
  },
  "language_info": {
   "codemirror_mode": {
    "name": "ipython",
    "version": 3
   },
   "file_extension": ".py",
   "mimetype": "text/x-python",
   "name": "python",
   "nbconvert_exporter": "python",
   "pygments_lexer": "ipython3",
   "version": "3.11.1"
  },
  "orig_nbformat": 4,
  "vscode": {
   "interpreter": {
    "hash": "ff4b1fca65a764b45acb559e482afe389d289dd599b9f8c5fd12ff5c2ea46a65"
   }
  }
 },
 "nbformat": 4,
 "nbformat_minor": 2
}
