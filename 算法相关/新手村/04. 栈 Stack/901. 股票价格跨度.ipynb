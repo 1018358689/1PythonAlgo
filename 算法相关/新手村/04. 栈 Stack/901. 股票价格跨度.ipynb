{
 "cells": [
  {
   "cell_type": "code",
   "execution_count": null,
   "metadata": {},
   "outputs": [],
   "source": [
    "class StockSpanner:\n",
    "\n",
    "    def __init__(self):\n",
    "        self.stk = []\n",
    "        self.idx = 0\n",
    "\n",
    "    def next(self, price: int) -> int:\n",
    "        while self.stk and self.stk[-1][0] <= price:\n",
    "            self.stk.pop()\n",
    "        tmp = self.stk[-1][1] if self.stk else -1\n",
    "        self.stk.append((price, self.idx))\n",
    "        self.idx += 1\n",
    "        return self.idx - tmp - 1\n",
    "\n",
    "\n",
    "# Your StockSpanner object will be instantiated and called as such:\n",
    "# obj = StockSpanner()\n",
    "# param_1 = obj.next(price)"
   ]
  }
 ],
 "metadata": {
  "kernelspec": {
   "display_name": "Python 3.10.6 64-bit",
   "language": "python",
   "name": "python3"
  },
  "language_info": {
   "name": "python",
   "version": "3.10.6"
  },
  "orig_nbformat": 4,
  "vscode": {
   "interpreter": {
    "hash": "dfbf064e0f2c8839bc658dd75dfc0b8f09a0440078cae3024109b27659b69d06"
   }
  }
 },
 "nbformat": 4,
 "nbformat_minor": 2
}
