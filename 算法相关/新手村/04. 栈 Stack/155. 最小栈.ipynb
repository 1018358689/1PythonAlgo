{
 "cells": [
  {
   "cell_type": "code",
   "execution_count": null,
   "metadata": {},
   "outputs": [],
   "source": [
    "class MinStack:\n",
    "\n",
    "    def __init__(self):\n",
    "        self.stk = []\n",
    "        self.smin = []\n",
    "\n",
    "    def push(self, val: int) -> None:\n",
    "        self.stk.append(val)\n",
    "        self.smin.append(val if not self.smin else min(self.smin[-1], val))\n",
    "\n",
    "    def pop(self) -> None:\n",
    "        self.stk.pop()\n",
    "        self.smin.pop()\n",
    "\n",
    "    def top(self) -> int:\n",
    "        return self.stk[-1]\n",
    "\n",
    "    def getMin(self) -> int:\n",
    "        return self.smin[-1]\n",
    "\n",
    "\n",
    "# Your MinStack object will be instantiated and called as such:\n",
    "# obj = MinStack()\n",
    "# obj.push(val)\n",
    "# obj.pop()\n",
    "# param_3 = obj.top()\n",
    "# param_4 = obj.getMin()"
   ]
  }
 ],
 "metadata": {
  "language_info": {
   "name": "python"
  },
  "orig_nbformat": 4
 },
 "nbformat": 4,
 "nbformat_minor": 2
}
