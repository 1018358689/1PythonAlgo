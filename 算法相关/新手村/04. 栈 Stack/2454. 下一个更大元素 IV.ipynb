{
 "cells": [
  {
   "cell_type": "code",
   "execution_count": 6,
   "metadata": {},
   "outputs": [
    {
     "data": {
      "text/plain": [
       "[9, 6, 6, -1, -1]"
      ]
     },
     "execution_count": 6,
     "metadata": {},
     "output_type": "execute_result"
    }
   ],
   "source": [
    "# 从上往下看\n",
    "from sortedcontainers import SortedList\n",
    "from typing import List\n",
    "\n",
    "\n",
    "class Solution:\n",
    "\n",
    "    def secondGreaterElement(self, nums: List[int], k=2) -> List[int]:\n",
    "        sl = SortedList()\n",
    "        n = len(nums)\n",
    "        ans = [-1] * n\n",
    "        for _, j in sorted((-x, i) for i, x in enumerate(nums)):\n",
    "            idx = sl.bisect_right(j) - 1 + k # >j的idx-1+k\n",
    "            if idx < len(sl):\n",
    "                ans[j] = nums[sl[idx]]\n",
    "            sl.add(j)\n",
    "        return ans\n",
    "\n",
    "\n",
    "s = Solution()\n",
    "s.secondGreaterElement([2, 4, 0, 9, 6])\n"
   ]
  },
  {
   "cell_type": "code",
   "execution_count": 7,
   "metadata": {},
   "outputs": [
    {
     "data": {
      "text/plain": [
       "[9, 6, 6, -1, -1]"
      ]
     },
     "execution_count": 7,
     "metadata": {},
     "output_type": "execute_result"
    }
   ],
   "source": [
    "# 从左往右\n",
    "from typing import List\n",
    "from heapq import heappush, heappop\n",
    "\n",
    "\n",
    "class Solution:\n",
    "\n",
    "    def secondGreaterElement(self, nums: List[int]) -> List[int]:\n",
    "        pq = []\n",
    "        stk = []\n",
    "        ans = [-1] * len(nums)\n",
    "        for i, c in enumerate(nums):\n",
    "            while pq and pq[0][0] < c:  # 2.c比堆顶里元素大 说明c是他的第二大元素\n",
    "                ans[heappop(pq)[1]] = c\n",
    "            while stk and c > nums[stk[-1]]:  # 1.元素小于c 入堆 说明该元素有一个比他大的c了\n",
    "                idx = stk.pop()\n",
    "                heappush(pq, (nums[idx], idx))\n",
    "            stk.append(i)\n",
    "        return ans\n",
    "\n",
    "\n",
    "s = Solution()\n",
    "s.secondGreaterElement([2, 4, 0, 9, 6])"
   ]
  },
  {
   "cell_type": "code",
   "execution_count": null,
   "metadata": {},
   "outputs": [],
   "source": []
  }
 ],
 "metadata": {
  "kernelspec": {
   "display_name": "Python 3.10.5 64-bit",
   "language": "python",
   "name": "python3"
  },
  "language_info": {
   "codemirror_mode": {
    "name": "ipython",
    "version": 3
   },
   "file_extension": ".py",
   "mimetype": "text/x-python",
   "name": "python",
   "nbconvert_exporter": "python",
   "pygments_lexer": "ipython3",
   "version": "3.10.5"
  },
  "orig_nbformat": 4,
  "vscode": {
   "interpreter": {
    "hash": "3196968d684371006099b3d55edeef8ed90365227a30deaef86e5d4aa8519be0"
   }
  }
 },
 "nbformat": 4,
 "nbformat_minor": 2
}
