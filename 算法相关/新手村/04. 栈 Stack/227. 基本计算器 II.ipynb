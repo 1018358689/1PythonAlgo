{
 "cells": [
  {
   "cell_type": "code",
   "execution_count": 1,
   "metadata": {},
   "outputs": [
    {
     "data": {
      "text/plain": [
       "-9"
      ]
     },
     "execution_count": 1,
     "metadata": {},
     "output_type": "execute_result"
    }
   ],
   "source": [
    "int('-9')"
   ]
  },
  {
   "cell_type": "code",
   "execution_count": 18,
   "metadata": {},
   "outputs": [
    {
     "data": {
      "text/plain": [
       "7"
      ]
     },
     "execution_count": 18,
     "metadata": {},
     "output_type": "execute_result"
    }
   ],
   "source": [
    "class Solution:\n",
    "    def calculate(self, s: str) -> int:\n",
    "        stack = []\n",
    "        num = 0\n",
    "        sig = '+'\n",
    "        for i in range(len(s)):\n",
    "            cur = s[i]\n",
    "            if cur.isdigit():  # 累计数字\n",
    "                num = 10*num+int(cur)\n",
    "            if cur in '+-*/' or i == len(s)-1:  # 触发计算\n",
    "                if sig == '+':\n",
    "                    stack.append(num)\n",
    "                elif sig == '-':\n",
    "                    stack.append(-num)\n",
    "                elif sig == '*':\n",
    "                    pre = stack.pop()\n",
    "                    stack.append(pre*num)\n",
    "                elif sig == '/':\n",
    "                    pre = stack.pop()\n",
    "                    stack.append(int(pre/num))\n",
    "                sig = cur\n",
    "                num = 0\n",
    "        return sum(stack)\n",
    "\n",
    "\n",
    "s = Solution()\n",
    "s.calculate(\"3+2*2\")\n"
   ]
  },
  {
   "cell_type": "code",
   "execution_count": null,
   "metadata": {},
   "outputs": [],
   "source": []
  }
 ],
 "metadata": {
  "kernelspec": {
   "display_name": "Python 3.10.5 64-bit",
   "language": "python",
   "name": "python3"
  },
  "language_info": {
   "codemirror_mode": {
    "name": "ipython",
    "version": 3
   },
   "file_extension": ".py",
   "mimetype": "text/x-python",
   "name": "python",
   "nbconvert_exporter": "python",
   "pygments_lexer": "ipython3",
   "version": "3.10.5"
  },
  "orig_nbformat": 4,
  "vscode": {
   "interpreter": {
    "hash": "3196968d684371006099b3d55edeef8ed90365227a30deaef86e5d4aa8519be0"
   }
  }
 },
 "nbformat": 4,
 "nbformat_minor": 2
}
