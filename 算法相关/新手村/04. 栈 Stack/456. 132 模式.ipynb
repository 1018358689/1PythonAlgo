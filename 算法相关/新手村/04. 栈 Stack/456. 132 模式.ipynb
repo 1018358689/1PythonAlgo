{
 "cells": [
  {
   "cell_type": "code",
   "execution_count": 1,
   "metadata": {},
   "outputs": [],
   "source": [
    "from typing import List\n",
    "\n",
    "\n",
    "class Solution:\n",
    "\n",
    "    def find132pattern(self, nums: List[int]) -> bool:\n",
    "        stk = []\n",
    "        k = float('-inf')\n",
    "        for i in range(len(nums) - 1, -1, -1):\n",
    "            if nums[i] < k:  # 此处nums[i]为i\n",
    "                return True\n",
    "            while stk and stk[-1] < nums[i]:  # 此处nums[i]为上一轮i 即为j\n",
    "                k = stk.pop()\n",
    "            stk.append(nums[i])\n",
    "        return False"
   ]
  },
  {
   "cell_type": "code",
   "execution_count": null,
   "metadata": {},
   "outputs": [],
   "source": [
    "# 更直观\n",
    "from typing import List\n",
    "\n",
    "\n",
    "class Solution:\n",
    "\n",
    "    def find132pattern(self, nums: List[int]) -> bool:\n",
    "        leftMin = [float('inf')] * len(nums)  # 索引i左边的最小值\n",
    "        for i in range(1, len(nums)):\n",
    "            leftMin[i] = min(leftMin[i - 1], nums[i - 1])\n",
    "        stk = []\n",
    "        k = float('-inf')\n",
    "        for i in range(len(nums) - 1, -1, -1):\n",
    "            j = nums[i]  # j值\n",
    "            while stk and stk[-1] < j:  # 保证j>k且k是满足条件的最大\n",
    "                k = stk.pop()\n",
    "            if leftMin[i] < k:  # i值能否小于k\n",
    "                return True\n",
    "            stk.append(j)\n",
    "        return False"
   ]
  }
 ],
 "metadata": {
  "kernelspec": {
   "display_name": "Python 3.10.5 64-bit",
   "language": "python",
   "name": "python3"
  },
  "language_info": {
   "codemirror_mode": {
    "name": "ipython",
    "version": 3
   },
   "file_extension": ".py",
   "mimetype": "text/x-python",
   "name": "python",
   "nbconvert_exporter": "python",
   "pygments_lexer": "ipython3",
   "version": "3.10.5"
  },
  "orig_nbformat": 4,
  "vscode": {
   "interpreter": {
    "hash": "3196968d684371006099b3d55edeef8ed90365227a30deaef86e5d4aa8519be0"
   }
  }
 },
 "nbformat": 4,
 "nbformat_minor": 2
}
