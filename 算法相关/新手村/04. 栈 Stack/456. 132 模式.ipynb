{
 "cells": [
  {
   "cell_type": "code",
   "execution_count": 1,
   "metadata": {},
   "outputs": [],
   "source": [
    "from typing import List\n",
    "\n",
    "\n",
    "class Solution:\n",
    "\n",
    "    def find132pattern(self, nums: List[int]) -> bool:\n",
    "        stk = []\n",
    "        k = float('-inf')\n",
    "        for i in range(len(nums) - 1, -1, -1):\n",
    "            if nums[i] < k:  # 此处nums[i]为i\n",
    "                return True\n",
    "            while stk and stk[-1] < nums[i]:  # 此处nums[i]为上一轮i 即为j\n",
    "                k = stk.pop()\n",
    "            stk.append(nums[i])\n",
    "        return False"
   ]
  },
  {
   "cell_type": "code",
   "execution_count": null,
   "metadata": {},
   "outputs": [],
   "source": [
    "from typing import List\n",
    "from math import inf\n",
    "\n",
    "\n",
    "class Solution:\n",
    "\n",
    "    def find132pattern(self, nums: List[int]) -> bool:\n",
    "        n = len(nums)\n",
    "        lmn = [inf] * n  # 索引i左边的最小值\n",
    "        for i in range(1, n):\n",
    "            lmn[i] = min(lmn[i - 1], nums[i - 1])\n",
    "        stk = []\n",
    "        for i in range(n - 1, -1, -1):\n",
    "            mid = nums[i]\n",
    "            left = lmn[i]\n",
    "            while stk and mid > stk[-1]:\n",
    "                right = stk.pop()\n",
    "                if left < right:\n",
    "                    return True\n",
    "            stk.append(mid)\n",
    "        return False"
   ]
  }
 ],
 "metadata": {
  "kernelspec": {
   "display_name": "Python 3.10.5 64-bit",
   "language": "python",
   "name": "python3"
  },
  "language_info": {
   "codemirror_mode": {
    "name": "ipython",
    "version": 3
   },
   "file_extension": ".py",
   "mimetype": "text/x-python",
   "name": "python",
   "nbconvert_exporter": "python",
   "pygments_lexer": "ipython3",
   "version": "3.10.5"
  },
  "orig_nbformat": 4,
  "vscode": {
   "interpreter": {
    "hash": "3196968d684371006099b3d55edeef8ed90365227a30deaef86e5d4aa8519be0"
   }
  }
 },
 "nbformat": 4,
 "nbformat_minor": 2
}
