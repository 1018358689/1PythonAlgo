{
 "cells": [
  {
   "cell_type": "code",
   "execution_count": null,
   "metadata": {},
   "outputs": [],
   "source": [
    "# https://leetcode.cn/problems/number-of-atoms/solution/yuan-zi-de-shu-liang-by-leetcode-solutio-54lv/"
   ]
  },
  {
   "cell_type": "code",
   "execution_count": 15,
   "metadata": {},
   "outputs": [
    {
     "data": {
      "text/plain": [
       "'Be32'"
      ]
     },
     "execution_count": 15,
     "metadata": {},
     "output_type": "execute_result"
    }
   ],
   "source": [
    "from collections import defaultdict\n",
    "\n",
    "\n",
    "class Solution:\n",
    "\n",
    "    def countOfAtoms(self, formula: str) -> str:\n",
    "        stack = []\n",
    "        stack.append(defaultdict(int))\n",
    "        i = 0\n",
    "        while i < len(formula):\n",
    "            n = formula[i]\n",
    "            if n == '(':\n",
    "                stack.append(defaultdict(int))\n",
    "            elif n.isupper():\n",
    "                while i + 1 < len(formula) and formula[i + 1].islower():\n",
    "                    i += 1\n",
    "                    n += formula[i]\n",
    "                num = ''\n",
    "                while i + 1 < len(formula) and formula[i + 1].isdigit():\n",
    "                    i += 1\n",
    "                    num += formula[i]\n",
    "                num = 1 if not num else int(num)\n",
    "                stack[-1][n] += num\n",
    "            else:\n",
    "                num = ''\n",
    "                while i + 1 < len(formula) and formula[i + 1].isdigit():\n",
    "                    i += 1\n",
    "                    num += formula[i]\n",
    "                num = 1 if not num else int(num)\n",
    "                top = stack.pop()\n",
    "                for atom in top:\n",
    "                    top[atom] *= num\n",
    "                    stack[-1][atom] += top[atom]\n",
    "            i += 1\n",
    "        ans = ''\n",
    "        for atom in sorted(stack[-1]):\n",
    "            ans += atom\n",
    "            if (num := stack[-1][atom]) != 1:\n",
    "                ans += str(num)\n",
    "        return ans\n",
    "\n",
    "\n",
    "s = Solution()\n",
    "s.countOfAtoms('K4(ON(SO3)2)2')\n",
    "# s.countOfAtoms('H2O')\n",
    "s.countOfAtoms('Be32')"
   ]
  },
  {
   "cell_type": "code",
   "execution_count": null,
   "metadata": {},
   "outputs": [],
   "source": []
  }
 ],
 "metadata": {
  "interpreter": {
   "hash": "97367d2de1780ea7c502b529f25888c1b53c0430a7611816b6c7cf19d8435228"
  },
  "kernelspec": {
   "display_name": "Python 3.10.4 64-bit (windows store)",
   "language": "python",
   "name": "python3"
  },
  "language_info": {
   "codemirror_mode": {
    "name": "ipython",
    "version": 3
   },
   "file_extension": ".py",
   "mimetype": "text/x-python",
   "name": "python",
   "nbconvert_exporter": "python",
   "pygments_lexer": "ipython3",
   "version": "3.10.4"
  },
  "orig_nbformat": 4
 },
 "nbformat": 4,
 "nbformat_minor": 2
}
