{
 "cells": [
  {
   "cell_type": "code",
   "execution_count": 1,
   "metadata": {},
   "outputs": [],
   "source": [
    "from typing import List\n",
    "\n",
    "\n",
    "class Solution:\n",
    "\n",
    "    def maxWidthRamp(self, nums: List[int]) -> int:\n",
    "        stk = []\n",
    "        n = len(nums)\n",
    "        for l, num in enumerate(nums):\n",
    "            if not stk or num <= nums[stk[-1]]:\n",
    "                stk.append(l)\n",
    "        ans = 0\n",
    "        for r in range(n - 1, 0, -1):\n",
    "            while stk and nums[r] >= nums[stk[-1]]:\n",
    "                ans = max(ans, r - stk.pop())\n",
    "        return ans"
   ]
  },
  {
   "cell_type": "code",
   "execution_count": null,
   "metadata": {},
   "outputs": [],
   "source": [
    "class Solution:\n",
    "\n",
    "    def maxWidthRamp(self, nums: List[int]) -> int:\n",
    "        n = len(nums)\n",
    "        lst = []\n",
    "        ans = 0\n",
    "        for l in sorted(range(n), key=lambda x: (-nums[x], -x)):\n",
    "            if lst:\n",
    "                ans = max(ans, lst[0] - l)\n",
    "            while lst and l > lst[-1]:\n",
    "                lst.pop()\n",
    "            lst.append(l)\n",
    "        return ans"
   ]
  }
 ],
 "metadata": {
  "kernelspec": {
   "display_name": "Python 3",
   "language": "python",
   "name": "python3"
  },
  "language_info": {
   "codemirror_mode": {
    "name": "ipython",
    "version": 3
   },
   "file_extension": ".py",
   "mimetype": "text/x-python",
   "name": "python",
   "nbconvert_exporter": "python",
   "pygments_lexer": "ipython3",
   "version": "3.10.5"
  },
  "orig_nbformat": 4,
  "vscode": {
   "interpreter": {
    "hash": "3196968d684371006099b3d55edeef8ed90365227a30deaef86e5d4aa8519be0"
   }
  }
 },
 "nbformat": 4,
 "nbformat_minor": 2
}
