{
 "cells": [
  {
   "cell_type": "code",
   "execution_count": null,
   "metadata": {},
   "outputs": [],
   "source": [
    "class Solution:\n",
    "\n",
    "    def minRemoveToMakeValid(self, s: str) -> str:\n",
    "        removeSet = set()\n",
    "        stk = []\n",
    "        for i, n in enumerate(s):\n",
    "            if n == '(':\n",
    "                stk.append(i)\n",
    "            elif n == ')':\n",
    "                if not stk: # 无效右括号\n",
    "                    removeSet.add(i)\n",
    "                else:\n",
    "                    stk.pop()\n",
    "        removeSet |= set(stk) # 无效左括号\n",
    "        return ''.join(n for i, n in enumerate(s) if i not in removeSet)\n"
   ]
  }
 ],
 "metadata": {
  "language_info": {
   "name": "python"
  },
  "orig_nbformat": 4
 },
 "nbformat": 4,
 "nbformat_minor": 2
}
