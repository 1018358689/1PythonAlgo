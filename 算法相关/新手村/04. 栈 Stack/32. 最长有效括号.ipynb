{
 "cells": [
  {
   "cell_type": "code",
   "execution_count": 2,
   "metadata": {},
   "outputs": [
    {
     "data": {
      "text/plain": [
       "[]"
      ]
     },
     "execution_count": 2,
     "metadata": {},
     "output_type": "execute_result"
    }
   ],
   "source": [
    "[1]*0"
   ]
  },
  {
   "cell_type": "code",
   "execution_count": 3,
   "metadata": {},
   "outputs": [
    {
     "data": {
      "text/plain": [
       "2"
      ]
     },
     "execution_count": 3,
     "metadata": {},
     "output_type": "execute_result"
    }
   ],
   "source": [
    "class Solution:\n",
    "\n",
    "    def longestValidParentheses(self, s: str) -> int:\n",
    "        # dp[i] 以s[i]结尾的最长有效括号长度\n",
    "        if not s:\n",
    "            return 0\n",
    "        dp = [0] * len(s)\n",
    "        stack = []  # 存左括号索引\n",
    "        for i, n in enumerate(s):\n",
    "            if n == '(':\n",
    "                stack.append(i)\n",
    "                dp[i] = 0\n",
    "            else:\n",
    "                if stack:\n",
    "                    leftIdx = stack.pop()\n",
    "                    dp[i] = i - leftIdx + 1 + dp[leftIdx - 1]\n",
    "                else:\n",
    "                    dp[i] = 0\n",
    "        return max(dp)\n",
    "\n",
    "\n",
    "s = Solution()\n",
    "s.longestValidParentheses('(()')"
   ]
  },
  {
   "cell_type": "code",
   "execution_count": null,
   "metadata": {},
   "outputs": [],
   "source": []
  }
 ],
 "metadata": {
  "kernelspec": {
   "display_name": "Python 3.10.5 64-bit",
   "language": "python",
   "name": "python3"
  },
  "language_info": {
   "codemirror_mode": {
    "name": "ipython",
    "version": 3
   },
   "file_extension": ".py",
   "mimetype": "text/x-python",
   "name": "python",
   "nbconvert_exporter": "python",
   "pygments_lexer": "ipython3",
   "version": "3.10.5"
  },
  "orig_nbformat": 4,
  "vscode": {
   "interpreter": {
    "hash": "3196968d684371006099b3d55edeef8ed90365227a30deaef86e5d4aa8519be0"
   }
  }
 },
 "nbformat": 4,
 "nbformat_minor": 2
}
