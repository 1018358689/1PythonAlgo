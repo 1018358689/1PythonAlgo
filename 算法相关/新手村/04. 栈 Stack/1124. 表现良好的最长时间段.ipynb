{
 "cells": [
  {
   "cell_type": "code",
   "execution_count": 1,
   "metadata": {},
   "outputs": [],
   "source": [
    "from typing import List\n",
    "\n",
    "\n",
    "class Solution:\n",
    "\n",
    "    def longestWPI(self, hours: List[int]) -> int:\n",
    "        hours = [(-1, 1)[x > 8] for x in hours]\n",
    "        n = len(hours)\n",
    "        psum = [0] * (n + 1)\n",
    "        for i in range(n):\n",
    "            psum[i + 1] = psum[i] + hours[i]\n",
    "        stk = []  # 递减栈   左端点\n",
    "        for i in range(n + 1):\n",
    "            if not stk or psum[i] <= psum[stk[-1]]:\n",
    "                stk.append(i)\n",
    "        ans = 0\n",
    "        for i in range(n, -1, -1): # 右端点\n",
    "            while stk and psum[stk[-1]] < psum[i]:\n",
    "                ans = max(ans, i - stk.pop())\n",
    "        return ans"
   ]
  },
  {
   "cell_type": "code",
   "execution_count": 2,
   "metadata": {},
   "outputs": [],
   "source": [
    "class Solution:\n",
    "\n",
    "    def longestWPI(self, hours: List[int]) -> int:\n",
    "        hours = [(-1, 1)[x > 8] for x in hours]\n",
    "        n = len(hours)\n",
    "        psum = [0] * (n + 1)\n",
    "        for i in range(n):\n",
    "            psum[i + 1] = psum[i] + hours[i]\n",
    "        lst = []\n",
    "        ans = 0\n",
    "        for l in sorted(range(n + 1), key=lambda x: (-psum[x], x)):\n",
    "            if lst:\n",
    "                ans = max(ans, lst[0] - l)\n",
    "            while lst and l > lst[-1]:\n",
    "                lst.pop()\n",
    "            lst.append(l)\n",
    "        return ans"
   ]
  },
  {
   "cell_type": "code",
   "execution_count": null,
   "metadata": {},
   "outputs": [],
   "source": [
    "from math import inf\n",
    "\n",
    "\n",
    "class Mylove:\n",
    "\n",
    "    @property\n",
    "    def belong(self):\n",
    "        return 'you'\n",
    "\n",
    "    def __call__(self):\n",
    "        return inf"
   ]
  }
 ],
 "metadata": {
  "kernelspec": {
   "display_name": "Python 3",
   "language": "python",
   "name": "python3"
  },
  "language_info": {
   "codemirror_mode": {
    "name": "ipython",
    "version": 3
   },
   "file_extension": ".py",
   "mimetype": "text/x-python",
   "name": "python",
   "nbconvert_exporter": "python",
   "pygments_lexer": "ipython3",
   "version": "3.10.5"
  },
  "orig_nbformat": 4,
  "vscode": {
   "interpreter": {
    "hash": "3196968d684371006099b3d55edeef8ed90365227a30deaef86e5d4aa8519be0"
   }
  }
 },
 "nbformat": 4,
 "nbformat_minor": 2
}
