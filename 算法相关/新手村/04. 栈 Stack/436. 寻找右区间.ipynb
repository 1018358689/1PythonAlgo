{
 "cells": [
  {
   "cell_type": "code",
   "execution_count": 10,
   "metadata": {},
   "outputs": [
    {
     "name": "stdout",
     "output_type": "stream",
     "text": [
      "1\n",
      "2\n",
      "-1\n",
      "-1\n",
      "2\n",
      "-1\n"
     ]
    },
    {
     "data": {
      "text/plain": [
       "([-1, 0, 1], [-1, 2, -1])"
      ]
     },
     "execution_count": 10,
     "metadata": {},
     "output_type": "execute_result"
    }
   ],
   "source": [
    "from typing import List\n",
    "\n",
    "\n",
    "class Solution:\n",
    "\n",
    "    def findRightInterval(self, intervals: List[List[int]]) -> List[int]:\n",
    "        ha = {}\n",
    "        for i, n in enumerate(intervals):\n",
    "            ha[tuple(n)] = i\n",
    "        intervals.sort(key=lambda x: x[0])\n",
    "        def search(l, r, target):\n",
    "            while l <= r:\n",
    "                m = l + r >> 1\n",
    "                if intervals[m][0] >= target:\n",
    "                    r = m - 1\n",
    "                else:\n",
    "                    l = m + 1\n",
    "            return l if l < len(intervals) else -1\n",
    "\n",
    "        ans = [-1] * len(intervals)\n",
    "        for i, (si, ei) in enumerate(intervals):\n",
    "            index = search(i, len(intervals) - 1, ei)\n",
    "            if index != -1:\n",
    "                ans[ha[(si, ei)]] = ha[tuple(intervals[index])]\n",
    "        return ans\n",
    "\n",
    "\n",
    "s = Solution()\n",
    "s.findRightInterval([[3, 4], [2, 3], [1, 2]]), s.findRightInterval([[1, 4], [2, 3], [3, 4]])\n",
    "# s.findRightInterval([[1, 1], [3, 4]])\n"
   ]
  },
  {
   "cell_type": "code",
   "execution_count": null,
   "metadata": {},
   "outputs": [],
   "source": []
  }
 ],
 "metadata": {
  "interpreter": {
   "hash": "97367d2de1780ea7c502b529f25888c1b53c0430a7611816b6c7cf19d8435228"
  },
  "kernelspec": {
   "display_name": "Python 3.10.4 64-bit (windows store)",
   "language": "python",
   "name": "python3"
  },
  "language_info": {
   "codemirror_mode": {
    "name": "ipython",
    "version": 3
   },
   "file_extension": ".py",
   "mimetype": "text/x-python",
   "name": "python",
   "nbconvert_exporter": "python",
   "pygments_lexer": "ipython3",
   "version": "3.10.4"
  },
  "orig_nbformat": 4
 },
 "nbformat": 4,
 "nbformat_minor": 2
}
