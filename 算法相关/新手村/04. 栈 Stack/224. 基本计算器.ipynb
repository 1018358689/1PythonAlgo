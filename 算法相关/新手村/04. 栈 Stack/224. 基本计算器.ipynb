{
 "cells": [
  {
   "cell_type": "code",
   "execution_count": 14,
   "metadata": {},
   "outputs": [
    {
     "data": {
      "text/plain": [
       "5"
      ]
     },
     "execution_count": 14,
     "metadata": {},
     "output_type": "execute_result"
    }
   ],
   "source": [
    "from collections import deque\n",
    "\n",
    "\n",
    "class Solution:\n",
    "    def calculate(self, s: str) -> int:\n",
    "        s = deque(s)\n",
    "        # print(s)\n",
    "\n",
    "        def cal(s):  # 计算s\n",
    "            num = 0\n",
    "            sig = '+'\n",
    "            stack = []\n",
    "            i = 0\n",
    "            while s:\n",
    "                cur = s.popleft()\n",
    "                if cur.isdigit():\n",
    "                    num = num*10+int(cur)\n",
    "                if cur == '(':\n",
    "                    num = cal(s)\n",
    "                if cur in '+-*/' or not s or cur == ')':\n",
    "                    if sig == '+':\n",
    "                        stack.append(num)\n",
    "                    elif sig == '-':\n",
    "                        stack.append(-num)\n",
    "                    elif sig == '*':\n",
    "                        pre = stack.pop()\n",
    "                        stack.append(pre*num)\n",
    "                    elif sig == '/':\n",
    "                        pre = stack.pop()\n",
    "                        stack.append(int(pre/num))\n",
    "                    sig = cur\n",
    "                    num = 0\n",
    "                if cur == ')':\n",
    "                    break\n",
    "            return sum(stack)\n",
    "        return cal(s)\n",
    "\n",
    "\n",
    "s = Solution()\n",
    "s.calculate('1+(2*3+2)/2')\n"
   ]
  },
  {
   "cell_type": "code",
   "execution_count": null,
   "metadata": {},
   "outputs": [],
   "source": []
  },
  {
   "cell_type": "code",
   "execution_count": null,
   "metadata": {},
   "outputs": [],
   "source": []
  }
 ],
 "metadata": {
  "kernelspec": {
   "display_name": "Python 3.10.5 64-bit",
   "language": "python",
   "name": "python3"
  },
  "language_info": {
   "codemirror_mode": {
    "name": "ipython",
    "version": 3
   },
   "file_extension": ".py",
   "mimetype": "text/x-python",
   "name": "python",
   "nbconvert_exporter": "python",
   "pygments_lexer": "ipython3",
   "version": "3.10.5"
  },
  "orig_nbformat": 4,
  "vscode": {
   "interpreter": {
    "hash": "3196968d684371006099b3d55edeef8ed90365227a30deaef86e5d4aa8519be0"
   }
  }
 },
 "nbformat": 4,
 "nbformat_minor": 2
}
