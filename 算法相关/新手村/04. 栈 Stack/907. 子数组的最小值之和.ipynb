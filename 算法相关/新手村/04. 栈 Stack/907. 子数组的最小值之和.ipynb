{
 "cells": [
  {
   "cell_type": "code",
   "execution_count": null,
   "metadata": {},
   "outputs": [],
   "source": [
    "# 计算每个数字的贡献值\n",
    "# 比如[1,2,4,5,3,6,2]\n",
    "# 对于3 他可以作为[4,5,3,6],[5,3,6],[3,6],[4,5,3],[5,3],[3]\n",
    "from typing import List\n",
    "\n",
    "\n",
    "class Solution:\n",
    "\n",
    "    def sumSubarrayMins(self, arr: List[int]) -> int:\n",
    "        tmp = 10**9 + 7\n",
    "        leftMin, rightMin = [-1] * len(arr), [len(arr)] * len(arr)  # 左边<cur的值\n",
    "        stack = []\n",
    "        for i, cur in enumerate(arr):\n",
    "            while stack and arr[stack[-1]] > cur:\n",
    "                stack.pop()\n",
    "            if stack:\n",
    "                leftMin[i] = stack[-1]\n",
    "            stack.append(i)\n",
    "        stack = []\n",
    "        for i in range(len(arr) - 1, -1, -1):\n",
    "            cur = arr[i]\n",
    "            while stack and arr[stack[-1]] >= cur:\n",
    "                stack.pop()\n",
    "            if stack:\n",
    "                rightMin[i] = stack[-1]\n",
    "            stack.append(i)\n",
    "        ans = 0\n",
    "        for i, cur in enumerate(arr):\n",
    "            ans += (i - leftMin[i]) * (rightMin[i] - i) * cur\n",
    "            ans %= tmp\n",
    "        return ans\n"
   ]
  }
 ],
 "metadata": {
  "language_info": {
   "name": "python"
  },
  "orig_nbformat": 4
 },
 "nbformat": 4,
 "nbformat_minor": 2
}
