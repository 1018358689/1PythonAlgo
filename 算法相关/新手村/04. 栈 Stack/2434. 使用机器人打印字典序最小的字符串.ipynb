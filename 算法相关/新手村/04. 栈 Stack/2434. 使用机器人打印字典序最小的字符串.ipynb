{
 "cells": [
  {
   "cell_type": "code",
   "execution_count": 10,
   "metadata": {},
   "outputs": [
    {
     "data": {
      "text/plain": [
       "'a'"
      ]
     },
     "execution_count": 10,
     "metadata": {},
     "output_type": "execute_result"
    }
   ],
   "source": [
    "min('z','a')"
   ]
  },
  {
   "cell_type": "code",
   "execution_count": 25,
   "metadata": {},
   "outputs": [
    {
     "name": "stdout",
     "output_type": "stream",
     "text": [
      "['a', 'a', 'z', 'z']\n"
     ]
    },
    {
     "data": {
      "text/plain": [
       "'abc'"
      ]
     },
     "execution_count": 25,
     "metadata": {},
     "output_type": "execute_result"
    }
   ],
   "source": [
    "class Solution:\n",
    "\n",
    "    def robotWithString(self, s: str) -> str:\n",
    "        # 'badba'\n",
    "        # 遍历s 当前c放入t 如果栈顶<=后面最小的 则弹出栈顶\n",
    "        # dp[i] s[i]后面的最小字母\n",
    "        # dp[i] = min(dp[i+1],s[i+1])\n",
    "        n = len(s)\n",
    "        dp = [0]*n       \n",
    "        dp[-1] = chr(ord('z')+1)\n",
    "        for i in range(n-2,-1,-1):\n",
    "            dp[i] = min(dp[i+1],s[i+1])\n",
    "        ans = ''\n",
    "        stk = []\n",
    "        for i,c in enumerate(s):\n",
    "            stk.append(c)\n",
    "            while stk and stk[-1]<=dp[i]:\n",
    "                ans+=stk.pop()\n",
    "        return ans"
   ]
  },
  {
   "cell_type": "code",
   "execution_count": null,
   "metadata": {},
   "outputs": [],
   "source": []
  }
 ],
 "metadata": {
  "kernelspec": {
   "display_name": "Python 3.10.5 64-bit",
   "language": "python",
   "name": "python3"
  },
  "language_info": {
   "codemirror_mode": {
    "name": "ipython",
    "version": 3
   },
   "file_extension": ".py",
   "mimetype": "text/x-python",
   "name": "python",
   "nbconvert_exporter": "python",
   "pygments_lexer": "ipython3",
   "version": "3.10.5"
  },
  "orig_nbformat": 4,
  "vscode": {
   "interpreter": {
    "hash": "3196968d684371006099b3d55edeef8ed90365227a30deaef86e5d4aa8519be0"
   }
  }
 },
 "nbformat": 4,
 "nbformat_minor": 2
}
