{
 "cells": [
  {
   "cell_type": "code",
   "execution_count": 1,
   "metadata": {},
   "outputs": [],
   "source": [
    "# 割点"
   ]
  },
  {
   "attachments": {},
   "cell_type": "markdown",
   "metadata": {},
   "source": [
    " ![](2023-05-17-18-41-28.png)"
   ]
  },
  {
   "cell_type": "code",
   "execution_count": null,
   "metadata": {},
   "outputs": [],
   "source": [
    "class Solution:\n",
    "\n",
    "    def minDays(self, grid: List[List[int]]) -> int:\n",
    "        # dfs三种情况\n",
    "        # 1) 全是水或岛屿个数大于1: 0天\n",
    "        # 2) 去除掉一个陆地后岛屿个数大于1或为0: 1天\n",
    "        # 3) 总能找到一个岛屿的角或是连接处将其分离: 2天\n",
    "\n",
    "        rows, cols = len(grid), len(grid[0])\n",
    "        n = rows * cols\n",
    "        roots = list(range(n))\n",
    "        count = n\n",
    "\n",
    "        def find(x):\n",
    "            if roots[x] != x:\n",
    "                roots[x] = find(roots[x])\n",
    "            return roots[x]\n",
    "\n",
    "        def union(x, y):\n",
    "            rx, ry = find(x), find(y)\n",
    "            if rx != ry:\n",
    "                roots[rx] = ry\n",
    "                nonlocal count\n",
    "                count -= 1\n",
    "\n",
    "        zero = 0\n",
    "        for r in range(rows):\n",
    "            for c in range(cols):\n",
    "                if grid[r][c] == 0:\n",
    "                    zero += 1\n",
    "                else:\n",
    "                    for nr, nc in (r + 1, c), (r, c + 1):\n",
    "                        if nr < rows and nc < cols and grid[nr][nc] == 1:\n",
    "                            union(r * cols + c, nr * cols + nc)\n",
    "        if count - zero != 1: return 0  # 不存在岛屿或大于1个岛屿\n",
    "        if count == n: return 1  # 只有一个1\n",
    "\n",
    "        sr, sc = next((r, c) for r in range(rows) for c in range(cols) if grid[r][c])\n",
    "        dfn = defaultdict(int)  # 时间戳\n",
    "        low = defaultdict(int)  # 该节点能访问到最小时间戳\n",
    "        time = 0\n",
    "\n",
    "        def train(r, c, fa):\n",
    "            nonlocal time\n",
    "            time += 1\n",
    "            dfn[(r, c)] = low[(r, c)] = time\n",
    "            chils = 0\n",
    "            for nr, nc in (r + 1, c), (r - 1, c), (r, c + 1), (r, c - 1):\n",
    "                if rows > nr >= 0 <= nc < cols and grid[nr][nc] == 1 and (nr, nc) != fa:\n",
    "                    if not dfn[(nr, nc)]:  # 未访问过\n",
    "                        if train(nr, nc, (r, c)): return True\n",
    "                        low[(r, c)] = min(low[(r, c)], low[(nr, nc)])\n",
    "                        if dfn[(r, c)] <= low[(nr, nc)]: \n",
    "                            # 反向想 dfn[(r, c)] > low[(nr, nc)] 说明 y可以到达x的祖先节点 所以x在环内\n",
    "                            # 反过来 x 就在环顶(或环外了)\n",
    "                            chils += 1 # 可以分割出的子树数\n",
    "                            if (r, c) != (sr, sc) or chils >= 2:  # 非根节点 或 根节点且子节点>=2\n",
    "                                return True\n",
    "                    else:  # 访问过 :(nr,nc)是祖先节点\n",
    "                        low[(r, c)] = min(low[(r, c)], dfn[(nr, nc)])\n",
    "            return False\n",
    "\n",
    "        # print(sr, sc, dfn, low)\n",
    "        return 1 if train(sr, sc, (-1, -1)) else 2"
   ]
  },
  {
   "cell_type": "code",
   "execution_count": 1,
   "metadata": {},
   "outputs": [
    {
     "name": "stdout",
     "output_type": "stream",
     "text": [
      "\n"
     ]
    }
   ],
   "source": [
    "ans = []\n",
    "print(' '.join(map(str, (i + 1 for i, x in enumerate(ans) if x))))"
   ]
  },
  {
   "cell_type": "code",
   "execution_count": null,
   "metadata": {},
   "outputs": [],
   "source": []
  }
 ],
 "metadata": {
  "kernelspec": {
   "display_name": "Python 3",
   "language": "python",
   "name": "python3"
  },
  "language_info": {
   "codemirror_mode": {
    "name": "ipython",
    "version": 3
   },
   "file_extension": ".py",
   "mimetype": "text/x-python",
   "name": "python",
   "nbconvert_exporter": "python",
   "pygments_lexer": "ipython3",
   "version": "3.10.5"
  },
  "orig_nbformat": 4
 },
 "nbformat": 4,
 "nbformat_minor": 2
}
