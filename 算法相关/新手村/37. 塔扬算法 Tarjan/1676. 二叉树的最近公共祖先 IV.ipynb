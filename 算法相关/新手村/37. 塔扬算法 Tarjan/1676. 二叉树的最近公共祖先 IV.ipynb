{
 "cells": [
  {
   "cell_type": "code",
   "execution_count": null,
   "metadata": {},
   "outputs": [],
   "source": [
    "# Definition for a binary tree node.\n",
    "# class TreeNode:\n",
    "#     def __init__(self, x):\n",
    "#         self.val = x\n",
    "#         self.left = None\n",
    "#         self.right = None\n",
    "\n",
    "class Solution:\n",
    "    def lowestCommonAncestor(self, root: 'TreeNode', nodes: 'List[TreeNode]') -> 'TreeNode':\n",
    "        ha = set(nodes) | {None}\n",
    "        def dfs(root):\n",
    "            if root in ha:\n",
    "                return root\n",
    "            l, r = dfs(root.left), dfs(root.right)\n",
    "            if l and r:\n",
    "                return root\n",
    "            return l if l else r\n",
    "        return dfs(root)"
   ]
  }
 ],
 "metadata": {
  "language_info": {
   "name": "python"
  },
  "orig_nbformat": 4
 },
 "nbformat": 4,
 "nbformat_minor": 2
}
