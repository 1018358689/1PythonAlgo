{
 "cells": [
  {
   "attachments": {},
   "cell_type": "markdown",
   "metadata": {},
   "source": [
    "![](2023-05-17-18-10-42.png)"
   ]
  },
  {
   "attachments": {},
   "cell_type": "markdown",
   "metadata": {},
   "source": [
    "![](2023-05-17-18-25-35.png)"
   ]
  },
  {
   "attachments": {},
   "cell_type": "markdown",
   "metadata": {},
   "source": [
    "![](2023-05-17-18-41-49.png)"
   ]
  },
  {
   "attachments": {},
   "cell_type": "markdown",
   "metadata": {},
   "source": [
    "![](2023-04-22-19-43-48.png)"
   ]
  },
  {
   "attachments": {},
   "cell_type": "markdown",
   "metadata": {},
   "source": [
    "![](2023-04-22-19-44-05.png)"
   ]
  },
  {
   "attachments": {},
   "cell_type": "markdown",
   "metadata": {},
   "source": [
    "![](2023-04-22-19-44-44.png)"
   ]
  },
  {
   "attachments": {},
   "cell_type": "markdown",
   "metadata": {},
   "source": [
    "![](2023-04-22-19-44-56.png)"
   ]
  },
  {
   "attachments": {},
   "cell_type": "markdown",
   "metadata": {},
   "source": [
    "![](2023-04-22-19-45-07.png)"
   ]
  },
  {
   "cell_type": "code",
   "execution_count": null,
   "metadata": {},
   "outputs": [],
   "source": [
    "# 板子\n",
    "class Solution:\n",
    "\n",
    "    def criticalConnections(self, n: int, connections: List[List[int]]) -> List[List[int]]:\n",
    "\n",
    "        def check_graph(edge, n):\n",
    "            # edge: 边连接关系 [[],..] n:节点数\n",
    "\n",
    "            # 访问序号与根节点序号\n",
    "            visit = [0] * n\n",
    "            root = [0] * n\n",
    "            # 割点\n",
    "            cut_node = []\n",
    "            # 割边\n",
    "            cut_edge = []\n",
    "            # 强连通分量子树\n",
    "            sub_group = []\n",
    "\n",
    "            # 中间变量\n",
    "            stack = []\n",
    "            index = 1\n",
    "            in_stack = [0] * n\n",
    "\n",
    "            def tarjan(i, father):\n",
    "                nonlocal index\n",
    "                visit[i] = root[i] = index\n",
    "                index += 1\n",
    "                stack.append(i)\n",
    "\n",
    "                in_stack[i] = 1\n",
    "                child = 0\n",
    "                for j in edge[i]:\n",
    "                    if j != father:\n",
    "                        if not visit[j]:\n",
    "                            child += 1\n",
    "                            tarjan(j, i)\n",
    "                            x, y = root[i], root[j]\n",
    "                            root[i] = x if x < y else y\n",
    "                            # 割边 low[i] < dfn[i]\n",
    "                            if visit[i] < root[j]:\n",
    "                                cut_edge.append(sorted([i, j]))\n",
    "                            # 两种情况下才为割点 low[i] <= dfn[i]\n",
    "                            if father != -1 and visit[i] <= root[j]:\n",
    "                                cut_node.append(i)\n",
    "                            elif father == -1 and child >= 2:\n",
    "                                cut_node.append(i)\n",
    "                        elif in_stack[j]:\n",
    "                            x, y = root[i], visit[j]\n",
    "                            root[i] = x if x < y else y\n",
    "\n",
    "                if root[i] == visit[i]:\n",
    "                    lst = []\n",
    "                    while stack[-1] != i:\n",
    "                        lst.append(stack.pop())\n",
    "                        in_stack[lst[-1]] = 0\n",
    "                    lst.append(stack.pop())\n",
    "                    in_stack[lst[-1]] = 0\n",
    "                    r = min(root[ls] for ls in lst)\n",
    "                    for ls in lst:\n",
    "                        root[ls] = r\n",
    "                    lst.sort()\n",
    "                    sub_group.append(lst[:])\n",
    "                return\n",
    "\n",
    "            for k in range(n):\n",
    "                if not visit[k]:\n",
    "                    tarjan(k, -1)\n",
    "            cut_edge.sort()\n",
    "            cut_node.sort()\n",
    "            sub_group.sort()\n",
    "            return cut_edge, cut_node, sub_group\n",
    "\n",
    "        edges = [[] for _ in range(n)]\n",
    "        for a, b in connections:\n",
    "            edges[a].append(b)\n",
    "            edges[b].append(a)\n",
    "        cut_edge, cut_node, sub_group = check_graph(edges, n)\n",
    "        return cut_edge\n",
    "\n",
    "\n",
    "# 作者：liupengsay\n",
    "# 链接：https://leetcode.cn/problems/critical-connections-in-a-network/solutions/1767372/by-liupengsay-dlc2/\n",
    "# 来源：力扣（LeetCode）\n",
    "# 著作权归作者所有。商业转载请联系作者获得授权，非商业转载请注明出处。"
   ]
  }
 ],
 "metadata": {
  "language_info": {
   "name": "python"
  },
  "orig_nbformat": 4
 },
 "nbformat": 4,
 "nbformat_minor": 2
}
