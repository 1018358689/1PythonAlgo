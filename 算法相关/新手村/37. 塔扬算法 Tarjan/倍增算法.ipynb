{
 "cells": [
  {
   "attachments": {},
   "cell_type": "markdown",
   "metadata": {},
   "source": [
    "![](2023-06-12-09-43-11.png)"
   ]
  },
  {
   "cell_type": "code",
   "execution_count": 1,
   "metadata": {},
   "outputs": [
    {
     "data": {
      "text/plain": [
       "'0b11111'"
      ]
     },
     "execution_count": 1,
     "metadata": {},
     "output_type": "execute_result"
    }
   ],
   "source": [
    "class TreeAncestor:\n",
    "\n",
    "    def __init__(self, n: int, parent: List[int]):\n",
    "        # m = n.bit_length()  # 一条链 至多跳 2**(m-1)步 绰绰有余\n",
    "        m = ceil(log(n, 2))\n",
    "        adj = [[] for _ in range(n)]\n",
    "        for x, p in enumerate(parent):\n",
    "            if p == -1: continue\n",
    "            adj[p].append(x)\n",
    "        pa = [[-1] * m for _ in range(n)]  # pa[x][i]: x节点的第2**i个祖先节点\n",
    "        dep = [0] * n\n",
    "\n",
    "        def dfs(x, fa):\n",
    "            pa[x][0] = fa\n",
    "            dep[x] = dep[fa] + 1\n",
    "            for i in range(1, m):\n",
    "                if (p := pa[x][i - 1]) == -1: break\n",
    "                pa[x][i] = pa[p][i - 1]\n",
    "            for y in adj[x]:\n",
    "                dfs(y, x)\n",
    "\n",
    "        dfs(0, -1)\n",
    "        self.pa = pa\n",
    "        self.dep = dep\n",
    "        self.m = m\n",
    "\n",
    "    def getKthAncestor(self, node: int, k: int) -> int:\n",
    "        for i in range(k.bit_length()):\n",
    "            if k >> i & 1:  # 第i位是否为1 是则跳过去\n",
    "                node = self.pa[node][i]\n",
    "                if node < 0: break\n",
    "        return node\n",
    "\n",
    "    def getKthAncestor2(self, node: int, k: int) -> int:\n",
    "        while node != -1 and k:\n",
    "            lb = k & -k\n",
    "            node = self.pa[node][lb.bit_length() - 1]\n",
    "            k ^= lb\n",
    "        return node\n",
    "\n",
    "    def get_lca(self, x, y):\n",
    "        if self.dep[x] < self.dep[y]:  # 保证x深度在y下面\n",
    "            x, y = y, x\n",
    "        d = self.dep[x] - self.dep[y]\n",
    "        # x到y同一深度\n",
    "        x = self.getKthAncestor(x, d)\n",
    "        if x == y: return x\n",
    "        for i in range(self.m - 1, -1, -1):\n",
    "            if self.pa[x][i] != self.pa[y][i]:\n",
    "                x = self.pa[x][i]\n",
    "                y = self.pa[y][i]\n",
    "        return self.pa[x][0]\n",
    "\n",
    "\n",
    "# Your TreeAncestor object will be instantiated and called as such:\n",
    "# obj = TreeAncestor(n, parent)\n",
    "# param_1 = obj.getKthAncestor(node,k)"
   ]
  },
  {
   "cell_type": "code",
   "execution_count": 3,
   "metadata": {},
   "outputs": [
    {
     "data": {
      "text/plain": [
       "42"
      ]
     },
     "execution_count": 3,
     "metadata": {},
     "output_type": "execute_result"
    }
   ],
   "source": [
    "int('0b101010',2)"
   ]
  },
  {
   "cell_type": "code",
   "execution_count": 5,
   "metadata": {},
   "outputs": [
    {
     "data": {
      "text/plain": [
       "3.0"
      ]
     },
     "execution_count": 5,
     "metadata": {},
     "output_type": "execute_result"
    }
   ],
   "source": [
    "from math import log\n",
    "\n",
    "\n",
    "log(8, 2)"
   ]
  },
  {
   "cell_type": "code",
   "execution_count": null,
   "metadata": {},
   "outputs": [],
   "source": []
  }
 ],
 "metadata": {
  "kernelspec": {
   "display_name": "Python 3",
   "language": "python",
   "name": "python3"
  },
  "language_info": {
   "codemirror_mode": {
    "name": "ipython",
    "version": 3
   },
   "file_extension": ".py",
   "mimetype": "text/x-python",
   "name": "python",
   "nbconvert_exporter": "python",
   "pygments_lexer": "ipython3",
   "version": "3.10.5"
  },
  "orig_nbformat": 4
 },
 "nbformat": 4,
 "nbformat_minor": 2
}
