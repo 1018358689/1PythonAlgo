{
 "cells": [
  {
   "cell_type": "code",
   "execution_count": 8,
   "metadata": {},
   "outputs": [
    {
     "data": {
      "text/plain": [
       "561"
      ]
     },
     "execution_count": 8,
     "metadata": {},
     "output_type": "execute_result"
    }
   ],
   "source": [
    "from typing import List\n",
    "\n",
    "\n",
    "class Solution:\n",
    "\n",
    "    def maxRotateFunction(self, nums: List[int]) -> int:\n",
    "        if len(nums) == 1: return 0\n",
    "        sz = len(nums)\n",
    "        nums *= 2\n",
    "        s1 = sum(nums[:sz - 1])\n",
    "        s2 = 0\n",
    "        for i in range(sz - 1):\n",
    "            s2 += (i + 1) * nums[i]\n",
    "        ans = s2\n",
    "        l = 0\n",
    "        for r in range(sz - 1, sz + sz - 2):\n",
    "            last = s1\n",
    "            s1 += nums[r]\n",
    "            s2 += (sz - 1) * nums[r]\n",
    "            while r - l + 1 > sz - 1:\n",
    "                s2 -= last\n",
    "                s1 -= nums[l]\n",
    "                l += 1\n",
    "            ans = max(ans, s2)\n",
    "        return ans\n",
    "\n",
    "\n",
    "s = Solution()\n",
    "s.maxRotateFunction([4, 3, 2, 6])\n",
    "s.maxRotateFunction([100])\n",
    "s.maxRotateFunction([-68, 20, 65, -40, -42, -14, -18, -97, 35, 11, -87, 71, -55, -73, 89, -89, 5, -28, 85, -18, 85, -94, 83, -44, 76, -69, 48, 16, -78])\n"
   ]
  },
  {
   "cell_type": "code",
   "execution_count": 2,
   "metadata": {},
   "outputs": [
    {
     "data": {
      "text/plain": [
       "0"
      ]
     },
     "execution_count": 2,
     "metadata": {},
     "output_type": "execute_result"
    }
   ],
   "source": [
    "from typing import List\n",
    "\n",
    "\n",
    "class Solution:\n",
    "\n",
    "    def maxRotateFunction(self, nums: List[int]) -> int:\n",
    "        sz = len(nums)\n",
    "        Sum = sum(nums)\n",
    "        s = 0\n",
    "        for i, n in enumerate(nums):\n",
    "            s += i * n\n",
    "        ans = s\n",
    "        for i in range(sz - 1):\n",
    "            s -= Sum\n",
    "            s += sz * nums[i]\n",
    "            ans = max(ans, s)\n",
    "        return ans\n",
    "\n",
    "\n",
    "s = Solution()\n",
    "s.maxRotateFunction([4, 3, 2, 6])\n",
    "s.maxRotateFunction([100])\n",
    "# s.maxRotateFunction([-68, 20, 65, -40, -42, -14, -18, -97, 35, 11, -87, 71, -55, -73, 89, -89, 5, -28, 85, -18, 85, -94, 83, -44, 76, -69, 48, 16, -78])\n"
   ]
  },
  {
   "cell_type": "code",
   "execution_count": null,
   "metadata": {},
   "outputs": [],
   "source": []
  }
 ],
 "metadata": {
  "interpreter": {
   "hash": "97367d2de1780ea7c502b529f25888c1b53c0430a7611816b6c7cf19d8435228"
  },
  "kernelspec": {
   "display_name": "Python 3.10.4 64-bit (windows store)",
   "language": "python",
   "name": "python3"
  },
  "language_info": {
   "codemirror_mode": {
    "name": "ipython",
    "version": 3
   },
   "file_extension": ".py",
   "mimetype": "text/x-python",
   "name": "python",
   "nbconvert_exporter": "python",
   "pygments_lexer": "ipython3",
   "version": "3.10.4"
  },
  "orig_nbformat": 4
 },
 "nbformat": 4,
 "nbformat_minor": 2
}
