{
 "cells": [
  {
   "cell_type": "code",
   "execution_count": null,
   "metadata": {},
   "outputs": [],
   "source": [
    "class Solution:\n",
    "\n",
    "    def longestSemiRepetitiveSubstring(self, s: str) -> int:\n",
    "        n = len(s)\n",
    "        l, ans = 0, 1\n",
    "        w = 0\n",
    "        for r in range(1, n):\n",
    "            w += s[r - 1] == s[r]  # 相当于加入 r - 1\n",
    "            while w > 1:\n",
    "                w -= s[l] == s[l + 1]  # 相当于 l 和 l + 1相等\n",
    "                l += 1\n",
    "            ans = max(ans, r - l + 1)\n",
    "        return ans\n"
   ]
  },
  {
   "cell_type": "code",
   "execution_count": null,
   "metadata": {},
   "outputs": [],
   "source": [
    "class Solution:\n",
    "\n",
    "    def longestSemiRepetitiveSubstring(self, s: str) -> int:\n",
    "        n = len(s)\n",
    "        l = 0  # 相邻相同字符开始坐标\n",
    "        w = set()\n",
    "        ans = 0\n",
    "        for r in range(n):\n",
    "            if r > 0 and s[r] == s[r - 1]:\n",
    "                w.add(r - 1)\n",
    "            while len(w) > 1:\n",
    "                if l in w: w.remove(l)\n",
    "                l += 1\n",
    "            ans = max(ans, r - l + 1)\n",
    "        return ans"
   ]
  }
 ],
 "metadata": {
  "language_info": {
   "name": "python"
  },
  "orig_nbformat": 4
 },
 "nbformat": 4,
 "nbformat_minor": 2
}
