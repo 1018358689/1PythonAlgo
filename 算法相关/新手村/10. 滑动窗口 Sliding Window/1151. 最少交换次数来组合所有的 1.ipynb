{
 "cells": [
  {
   "cell_type": "code",
   "execution_count": null,
   "metadata": {},
   "outputs": [],
   "source": [
    "from typing import List\n",
    "\n",
    "\n",
    "class Solution:\n",
    "\n",
    "    def minSwaps(self, data: List[int]) -> int:\n",
    "        n = len(data)\n",
    "        k = sum(data)  # 1的个数 也是窗口大小\n",
    "        ans = w = k - sum(data[:k])  # 窗口0的个数\n",
    "        l = 0\n",
    "        for r in range(k, n):\n",
    "            w += data[r] == 0\n",
    "            w -= data[l] == 0\n",
    "            l += 1\n",
    "            ans = min(ans, w)\n",
    "        return ans"
   ]
  },
  {
   "cell_type": "code",
   "execution_count": null,
   "metadata": {},
   "outputs": [],
   "source": [
    "from typing import List\n",
    "\n",
    "\n",
    "class Solution:\n",
    "\n",
    "    def minSwaps(self, data: List[int]) -> int:\n",
    "        n = len(data)\n",
    "        k = sum(data)  # 1的个数 也是窗口大小\n",
    "        ans = w = k - sum(data[:k])  # 窗口0的个数\n",
    "        for l, r in enumerate(range(k, n)):\n",
    "            w += data[r] == 0\n",
    "            w -= data[l] == 0\n",
    "            ans = min(ans, w)\n",
    "        return ans"
   ]
  }
 ],
 "metadata": {
  "language_info": {
   "name": "python"
  },
  "orig_nbformat": 4
 },
 "nbformat": 4,
 "nbformat_minor": 2
}
