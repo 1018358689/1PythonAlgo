{
 "cells": [
  {
   "cell_type": "code",
   "execution_count": 6,
   "metadata": {},
   "outputs": [
    {
     "data": {
      "text/plain": [
       "2"
      ]
     },
     "execution_count": 6,
     "metadata": {},
     "output_type": "execute_result"
    }
   ],
   "source": [
    "from typing import List\n",
    "from functools import lru_cache\n",
    "# 超时\n",
    "\n",
    "\n",
    "class Solution:\n",
    "    def minOperations(self, nums: List[int], x: int) -> int:\n",
    "        # dp[i][j][x] [i,j]变成x的最少操作数\n",
    "        # dp[i][j][x]=min(dp[i+1][j][x-nums[i]],dp[i][j-1][x-nums[j]])+1\n",
    "        @lru_cache(None)\n",
    "        def dfs(i, j, x):\n",
    "            if x == 0:\n",
    "                return 0\n",
    "            if i > j:\n",
    "                return -1\n",
    "            if x <= 0:\n",
    "                return -1\n",
    "            sub1 = dfs(i + 1, j, x - nums[i])\n",
    "            sub2 = dfs(i, j - 1, x - nums[j])\n",
    "            if sub1 != -1 and sub2 != -1:\n",
    "                return min(sub1, sub2) + 1\n",
    "            elif sub1 != -1:\n",
    "                return sub1 + 1\n",
    "            elif sub2 != -1:\n",
    "                return sub2 + 1\n",
    "            else:\n",
    "                return -1\n",
    "\n",
    "        return dfs(0, len(nums) - 1, x)\n",
    "\n",
    "\n",
    "s = Solution()\n",
    "s.minOperations([1, 1, 4, 2, 3], 5)\n"
   ]
  },
  {
   "cell_type": "code",
   "execution_count": 5,
   "metadata": {},
   "outputs": [
    {
     "data": {
      "text/plain": [
       "2"
      ]
     },
     "execution_count": 5,
     "metadata": {},
     "output_type": "execute_result"
    }
   ],
   "source": [
    "from typing import List\n",
    "\n",
    "\n",
    "class Solution:\n",
    "    def minOperations(self, nums: List[int], x: int) -> int:\n",
    "        target = sum(nums) - x\n",
    "        if target < 0:\n",
    "            return -1\n",
    "        ans = -1\n",
    "        l = 0\n",
    "        s = 0\n",
    "        for r in range(len(nums)):\n",
    "            s += nums[r]\n",
    "            while s > target: # 缩小窗口\n",
    "                s -= nums[l]\n",
    "                l += 1\n",
    "            if s == target:\n",
    "                ans = max(ans, r - l + 1)\n",
    "        return len(nums) - ans if ans != -1 else -1\n",
    "\n",
    "\n",
    "s = Solution()\n",
    "s.minOperations([1, 1, 4, 2, 3], 5)\n",
    "# s.minOperations([1, 1], 3)\n"
   ]
  },
  {
   "cell_type": "code",
   "execution_count": 7,
   "metadata": {},
   "outputs": [
    {
     "data": {
      "text/plain": [
       "2"
      ]
     },
     "execution_count": 7,
     "metadata": {},
     "output_type": "execute_result"
    }
   ],
   "source": [
    "from typing import List\n",
    "from functools import lru_cache\n",
    "# 超时\n",
    "\n",
    "\n",
    "class Solution:\n",
    "    def minOperations(self, nums: List[int], x: int) -> int:\n",
    "        # dp[i][j][x] [i,j]变成x的最少操作数\n",
    "        # dp[i][j][x]=min(dp[i+1][j][x-nums[i]],dp[i][j-1][x-nums[j]])+1\n",
    "        preSum = [0] * (len(nums) + 1)\n",
    "        sufSum = [0] * (len(nums) + 1)\n",
    "        for i in range(len(nums)):\n",
    "            preSum[i + 1] = preSum[i] + nums[i]\n",
    "            sufSum[len(nums) - 2 - i] = preSum[len(nums) - 1 - i] + nums[len(nums) - 1 - i]\n",
    "\n",
    "        @lru_cache(None)\n",
    "        def dfs(i, j, x):\n",
    "            if x == 0:\n",
    "                return 0\n",
    "            if i > j:\n",
    "                return -1\n",
    "            if x <= 0:\n",
    "                return -1\n",
    "            if preSum[-1] - preSum[i] - sufSum[j] < x:\n",
    "                return -1\n",
    "            sub1 = dfs(i + 1, j, x - nums[i])\n",
    "            sub2 = dfs(i, j - 1, x - nums[j])\n",
    "            if sub1 != -1 and sub2 != -1:\n",
    "                return min(sub1, sub2) + 1\n",
    "            elif sub1 != -1:\n",
    "                return sub1 + 1\n",
    "            elif sub2 != -1:\n",
    "                return sub2 + 1\n",
    "            else:\n",
    "                return -1\n",
    "\n",
    "        return dfs(0, len(nums) - 1, x)\n",
    "\n",
    "\n",
    "s = Solution()\n",
    "s.minOperations([1, 1, 4, 2, 3], 5)\n"
   ]
  },
  {
   "cell_type": "code",
   "execution_count": null,
   "metadata": {},
   "outputs": [],
   "source": []
  }
 ],
 "metadata": {
  "interpreter": {
   "hash": "de72d97932d649c6d75aa79b73261cc3e8a1ae5e7cab8a9115f0bbb1518a7af2"
  },
  "kernelspec": {
   "display_name": "Python 3.8.10 64-bit",
   "language": "python",
   "name": "python3"
  },
  "language_info": {
   "codemirror_mode": {
    "name": "ipython",
    "version": 3
   },
   "file_extension": ".py",
   "mimetype": "text/x-python",
   "name": "python",
   "nbconvert_exporter": "python",
   "pygments_lexer": "ipython3",
   "version": "3.8.10"
  },
  "orig_nbformat": 4
 },
 "nbformat": 4,
 "nbformat_minor": 2
}
