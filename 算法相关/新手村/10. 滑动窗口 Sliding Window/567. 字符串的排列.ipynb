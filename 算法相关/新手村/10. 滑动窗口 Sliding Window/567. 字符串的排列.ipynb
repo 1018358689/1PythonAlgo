{
 "cells": [
  {
   "cell_type": "code",
   "execution_count": null,
   "metadata": {},
   "outputs": [],
   "source": [
    "class Solution:\n",
    "\n",
    "    def checkInclusion(self, s1: str, s2: str) -> bool:\n",
    "        taget = [0] * 26\n",
    "        for n in s1:\n",
    "            taget[ord(n) - ord('a')] += 1\n",
    "        l, w = 0, [0] * 26\n",
    "        for r in range(len(s2)):\n",
    "            w[ord(s2[r]) - ord('a')] += 1\n",
    "            while r - l + 1 > len(s1):\n",
    "                w[ord(s2[l]) - ord('a')] -= 1\n",
    "                l += 1\n",
    "            if r - l + 1 == len(s1) and w == taget:\n",
    "                return True\n",
    "        return False"
   ]
  }
 ],
 "metadata": {
  "language_info": {
   "name": "python"
  },
  "orig_nbformat": 4
 },
 "nbformat": 4,
 "nbformat_minor": 2
}
