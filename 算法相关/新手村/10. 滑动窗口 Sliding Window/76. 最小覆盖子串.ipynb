{
 "cells": [
  {
   "cell_type": "code",
   "execution_count": 9,
   "metadata": {},
   "outputs": [
    {
     "data": {
      "text/plain": [
       "'cwae'"
      ]
     },
     "execution_count": 9,
     "metadata": {},
     "output_type": "execute_result"
    }
   ],
   "source": [
    "from collections import Counter\n",
    "\n",
    "\n",
    "class Solution:\n",
    "    def minWindow(self, s: str, t: str) -> str:\n",
    "        target = Counter(t)\n",
    "        w = Counter()\n",
    "        l = 0\n",
    "        si, ei = 0, float('inf')\n",
    "        for r in range(len(s)):\n",
    "            w[s[r]] += 1\n",
    "            while not target - w:  # 包含t则缩小窗口\n",
    "                if r - l + 1 < ei - si + 1:\n",
    "                    si, ei = l, r\n",
    "                w[s[l]] -= 1\n",
    "                l += 1\n",
    "        return s[si:ei + 1] if ei != float('inf') else ''\n",
    "\n",
    "\n",
    "s = Solution()\n",
    "s.minWindow('ADOBECODEBANC', 'ABC')\n",
    "s.minWindow(\"bba\", \"ab\")\n",
    "s.minWindow(\"cabwefgewcwaefgcf\", \"cae\")\n"
   ]
  },
  {
   "cell_type": "code",
   "execution_count": 10,
   "metadata": {},
   "outputs": [
    {
     "data": {
      "text/plain": [
       "'cwae'"
      ]
     },
     "execution_count": 10,
     "metadata": {},
     "output_type": "execute_result"
    }
   ],
   "source": [
    "from collections import Counter\n",
    "\n",
    "\n",
    "class Solution:\n",
    "    def minWindow(self, s: str, t: str) -> str:\n",
    "        cnt = Counter(t)\n",
    "        w = Counter()  # 窗口大小\n",
    "        valid = 0  # 有效单词种数\n",
    "        target = len(cnt)  # 目标单词种数\n",
    "        l = 0\n",
    "        si, ei = 0, float('inf')\n",
    "        for r in range(len(s)):\n",
    "            cur = s[r]  # 即将加入窗口字母\n",
    "            if cnt[cur] > 0:  # 是目标t的字母\n",
    "                w[cur] += 1  #加入\n",
    "                if w[cur] == cnt[cur]:  # 达到数量\n",
    "                    valid += 1  # 有效+1\n",
    "            while valid == target:  # 符合目标单词种数\n",
    "                if r - l + 1 < ei - si + 1:  # 更新最短\n",
    "                    si, ei = l, r\n",
    "                de = s[l]  # 删除窗口左端\n",
    "                if cnt[de] > 0:  # 是目标t的字母\n",
    "                    if w[de] == cnt[de]:  # 已经达到数量\n",
    "                        valid -= 1  # 有效-1\n",
    "                    w[de] -= 1  # 移除\n",
    "                l += 1\n",
    "        return s[si:ei + 1] if ei != float('inf') else ''\n",
    "\n",
    "\n",
    "s = Solution()\n",
    "s.minWindow('ADOBECODEBANC', 'ABC')\n",
    "s.minWindow(\"bba\", \"ab\")\n",
    "s.minWindow(\"cabwefgewcwaefgcf\", \"cae\")\n"
   ]
  },
  {
   "cell_type": "code",
   "execution_count": null,
   "metadata": {},
   "outputs": [],
   "source": []
  }
 ],
 "metadata": {
  "kernelspec": {
   "display_name": "Python 3.8.10 64-bit",
   "language": "python",
   "name": "python3"
  },
  "language_info": {
   "codemirror_mode": {
    "name": "ipython",
    "version": 3
   },
   "file_extension": ".py",
   "mimetype": "text/x-python",
   "name": "python",
   "nbconvert_exporter": "python",
   "pygments_lexer": "ipython3",
   "version": "3.8.10"
  },
  "orig_nbformat": 4,
  "vscode": {
   "interpreter": {
    "hash": "570feb405e2e27c949193ac68f46852414290d515b0ba6e5d90d076ed2284471"
   }
  }
 },
 "nbformat": 4,
 "nbformat_minor": 2
}
