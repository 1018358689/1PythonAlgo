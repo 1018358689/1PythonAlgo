{
 "cells": [
  {
   "cell_type": "code",
   "execution_count": 9,
   "metadata": {},
   "outputs": [
    {
     "data": {
      "text/plain": [
       "'cwae'"
      ]
     },
     "execution_count": 9,
     "metadata": {},
     "output_type": "execute_result"
    }
   ],
   "source": [
    "from collections import Counter\n",
    "\n",
    "\n",
    "class Solution:\n",
    "    def minWindow(self, s: str, t: str) -> str:\n",
    "        target = Counter(t)\n",
    "        w = Counter()\n",
    "        l = 0\n",
    "        si, ei = 0, float('inf')\n",
    "        for r in range(len(s)):\n",
    "            w[s[r]] += 1\n",
    "            while not target - w:  # 包含t则缩小窗口\n",
    "                if r - l + 1 < ei - si + 1:\n",
    "                    si, ei = l, r\n",
    "                w[s[l]] -= 1\n",
    "                l += 1\n",
    "        return s[si:ei + 1] if ei != float('inf') else ''\n",
    "\n",
    "\n",
    "s = Solution()\n",
    "s.minWindow('ADOBECODEBANC', 'ABC')\n",
    "s.minWindow(\"bba\", \"ab\")\n",
    "s.minWindow(\"cabwefgewcwaefgcf\", \"cae\")\n"
   ]
  },
  {
   "cell_type": "code",
   "execution_count": 10,
   "metadata": {},
   "outputs": [
    {
     "data": {
      "text/plain": [
       "'cwae'"
      ]
     },
     "execution_count": 10,
     "metadata": {},
     "output_type": "execute_result"
    }
   ],
   "source": [
    "from collections import Counter\n",
    "\n",
    "\n",
    "class Solution:\n",
    "    def minWindow(self, s: str, t: str) -> str:\n",
    "        cnt = Counter(t)\n",
    "        w = Counter()  # 窗口大小\n",
    "        valid = 0  # 有效单词种数\n",
    "        target = len(cnt)  # 目标单词种数\n",
    "        l = 0\n",
    "        si, ei = 0, float('inf')\n",
    "        for r in range(len(s)):\n",
    "            cur = s[r]  # 即将加入窗口字母\n",
    "            if cnt[cur] > 0:  # 是目标t的字母\n",
    "                w[cur] += 1  #加入\n",
    "                if w[cur] == cnt[cur]:  # 达到数量\n",
    "                    valid += 1  # 有效+1\n",
    "            while valid == target:  # 符合目标单词种数\n",
    "                if r - l + 1 < ei - si + 1:  # 更新最短\n",
    "                    si, ei = l, r\n",
    "                de = s[l]  # 删除窗口左端\n",
    "                if cnt[de] > 0:  # 是目标t的字母\n",
    "                    if w[de] == cnt[de]:  # 已经达到数量\n",
    "                        valid -= 1  # 有效-1\n",
    "                    w[de] -= 1  # 移除\n",
    "                l += 1\n",
    "        return s[si:ei + 1] if ei != float('inf') else ''\n",
    "\n",
    "\n",
    "s = Solution()\n",
    "s.minWindow('ADOBECODEBANC', 'ABC')\n",
    "s.minWindow(\"bba\", \"ab\")\n",
    "s.minWindow(\"cabwefgewcwaefgcf\", \"cae\")\n"
   ]
  },
  {
   "cell_type": "code",
   "execution_count": 2,
   "metadata": {},
   "outputs": [
    {
     "ename": "TypeError",
     "evalue": "'set' object is not subscriptable",
     "output_type": "error",
     "traceback": [
      "\u001b[0;31m---------------------------------------------------------------------------\u001b[0m",
      "\u001b[0;31mTypeError\u001b[0m                                 Traceback (most recent call last)",
      "Cell \u001b[0;32mIn[2], line 2\u001b[0m\n\u001b[1;32m      1\u001b[0m \u001b[39mimport\u001b[39;00m \u001b[39mrandom\u001b[39;00m\n\u001b[0;32m----> 2\u001b[0m random\u001b[39m.\u001b[39;49mchoice({\u001b[39m1\u001b[39;49m,\u001b[39m2\u001b[39;49m,\u001b[39m3\u001b[39;49m})\n",
      "File \u001b[0;32m/Library/Frameworks/Python.framework/Versions/3.11/lib/python3.11/random.py:371\u001b[0m, in \u001b[0;36mRandom.choice\u001b[0;34m(self, seq)\u001b[0m\n\u001b[1;32m    369\u001b[0m \u001b[39mif\u001b[39;00m \u001b[39mnot\u001b[39;00m seq:\n\u001b[1;32m    370\u001b[0m     \u001b[39mraise\u001b[39;00m \u001b[39mIndexError\u001b[39;00m(\u001b[39m'\u001b[39m\u001b[39mCannot choose from an empty sequence\u001b[39m\u001b[39m'\u001b[39m)\n\u001b[0;32m--> 371\u001b[0m \u001b[39mreturn\u001b[39;00m seq[\u001b[39mself\u001b[39;49m\u001b[39m.\u001b[39;49m_randbelow(\u001b[39mlen\u001b[39;49m(seq))]\n",
      "\u001b[0;31mTypeError\u001b[0m: 'set' object is not subscriptable"
     ]
    }
   ],
   "source": [
    "import random\n",
    "random.choice({1,2,3})"
   ]
  },
  {
   "cell_type": "code",
   "execution_count": null,
   "metadata": {},
   "outputs": [],
   "source": []
  }
 ],
 "metadata": {
  "kernelspec": {
   "display_name": "Python 3",
   "language": "python",
   "name": "python3"
  },
  "language_info": {
   "codemirror_mode": {
    "name": "ipython",
    "version": 3
   },
   "file_extension": ".py",
   "mimetype": "text/x-python",
   "name": "python",
   "nbconvert_exporter": "python",
   "pygments_lexer": "ipython3",
   "version": "3.11.1"
  },
  "orig_nbformat": 4,
  "vscode": {
   "interpreter": {
    "hash": "aee8b7b246df8f9039afb4144a1f6fd8d2ca17a180786b69acc140d282b71a49"
   }
  }
 },
 "nbformat": 4,
 "nbformat_minor": 2
}
