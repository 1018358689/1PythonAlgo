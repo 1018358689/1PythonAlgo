{
 "cells": [
  {
   "cell_type": "code",
   "execution_count": null,
   "metadata": {},
   "outputs": [],
   "source": [
    "class Solution:\n",
    "\n",
    "    def countServers(self, n: int, logs: List[List[int]], d: int, queries: List[int]) -> List[int]:\n",
    "        nl, nq = len(logs), len(queries)\n",
    "        logs.sort(key=lambda x: x[1])\n",
    "        ans = [-1] * nq\n",
    "        l = r = 0  #窗口\n",
    "        cnt = [0] * (n + 1)  # 窗口内各数数量\n",
    "        m = 0  # 窗口内容数\n",
    "        for i, x in sorted(enumerate(queries), key=lambda x: x[0]):\n",
    "            while r < nl and logs[r][1] <= x:\n",
    "                if cnt[logs[r][0]] == 0: m += 1\n",
    "                cnt[logs[r][0]] += 1\n",
    "                r += 1\n",
    "            while l < nl and logs[l][1] < x - d:\n",
    "                cnt[logs[l][0]] -= 1\n",
    "                if cnt[logs[l][0]] == 0: m -= 1\n",
    "                l += 1\n",
    "            ans[i] = n - m\n",
    "        return ans\n"
   ]
  }
 ],
 "metadata": {
  "language_info": {
   "name": "python"
  },
  "orig_nbformat": 4
 },
 "nbformat": 4,
 "nbformat_minor": 2
}
