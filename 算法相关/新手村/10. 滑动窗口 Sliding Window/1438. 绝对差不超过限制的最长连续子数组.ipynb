{
 "cells": [
  {
   "cell_type": "code",
   "execution_count": 2,
   "metadata": {},
   "outputs": [
    {
     "data": {
      "text/plain": [
       "2"
      ]
     },
     "execution_count": 2,
     "metadata": {},
     "output_type": "execute_result"
    }
   ],
   "source": [
    "from typing import List\n",
    "from sortedcontainers import SortedList\n",
    "\n",
    "class Solution:\n",
    "\n",
    "    def longestSubarray(self, nums: List[int], limit: int) -> int:\n",
    "        ans = l = 0\n",
    "        sl = SortedList()\n",
    "        for r in range(len(nums)):\n",
    "            sl.add(nums[r])\n",
    "            while l < r and sl[-1]-sl[0] > limit:\n",
    "                sl.remove(nums[l])\n",
    "                l += 1\n",
    "            ans = max(ans, r - l + 1)\n",
    "        return ans\n",
    "\n",
    "\n",
    "s = Solution()\n",
    "s.longestSubarray([8, 2, 4, 7], 4)\n"
   ]
  },
  {
   "cell_type": "code",
   "execution_count": null,
   "metadata": {},
   "outputs": [],
   "source": []
  }
 ],
 "metadata": {
  "interpreter": {
   "hash": "aee8b7b246df8f9039afb4144a1f6fd8d2ca17a180786b69acc140d282b71a49"
  },
  "kernelspec": {
   "display_name": "Python 3.10.2 64-bit",
   "language": "python",
   "name": "python3"
  },
  "language_info": {
   "codemirror_mode": {
    "name": "ipython",
    "version": 3
   },
   "file_extension": ".py",
   "mimetype": "text/x-python",
   "name": "python",
   "nbconvert_exporter": "python",
   "pygments_lexer": "ipython3",
   "version": "3.10.2"
  },
  "orig_nbformat": 4
 },
 "nbformat": 4,
 "nbformat_minor": 2
}
