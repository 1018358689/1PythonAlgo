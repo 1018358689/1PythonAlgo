{
 "cells": [
  {
   "cell_type": "code",
   "execution_count": 1,
   "metadata": {},
   "outputs": [],
   "source": [
    "from typing import List\n",
    "\n",
    "\n",
    "class Solution:\n",
    "\n",
    "    def numSubarrayBoundedMax(self, nums: List[int], left: int, right: int) -> int:\n",
    "\n",
    "        def atMostK(nums, k):\n",
    "            res = local = 0\n",
    "            for i in range(len(nums)):\n",
    "                if nums[i] <= k:\n",
    "                    local += 1\n",
    "                else:\n",
    "                    local = 0\n",
    "                res += local\n",
    "            return res\n",
    "\n",
    "        return atMostK(nums, right) - atMostK(nums, left - 1)\n"
   ]
  },
  {
   "cell_type": "code",
   "execution_count": 34,
   "metadata": {},
   "outputs": [
    {
     "data": {
      "text/plain": [
       "3"
      ]
     },
     "execution_count": 34,
     "metadata": {},
     "output_type": "execute_result"
    }
   ],
   "source": [
    "from typing import List\n",
    "from sortedcontainers import SortedList\n",
    "\n",
    "\n",
    "class Solution:\n",
    "\n",
    "    def numSubarrayBoundedMax(self, nums: List[int], left: int, right: int) -> int:\n",
    "\n",
    "        def atMostK(nums, k):\n",
    "            l = 0\n",
    "            ans = 0\n",
    "            sl = SortedList()\n",
    "            for r in range(len(nums)):\n",
    "                sl.add(nums[r])\n",
    "                while l < r and sl[-1] > k:\n",
    "                    sl.remove(nums[l])\n",
    "                    l += 1\n",
    "                if l == r and nums[l] > k:\n",
    "                    continue\n",
    "                ans += r - l + 1\n",
    "            return ans\n",
    "\n",
    "        return atMostK(nums, right) - atMostK(nums, left - 1)\n",
    "\n",
    "\n",
    "s = Solution()\n",
    "s.numSubarrayBoundedMax([2, 1, 4, 3], 2, 3)\n",
    "# s.numSubarrayBoundedMax([2,9,2,5,6],2,8)"
   ]
  },
  {
   "cell_type": "code",
   "execution_count": null,
   "metadata": {},
   "outputs": [],
   "source": []
  }
 ],
 "metadata": {
  "interpreter": {
   "hash": "aee8b7b246df8f9039afb4144a1f6fd8d2ca17a180786b69acc140d282b71a49"
  },
  "kernelspec": {
   "display_name": "Python 3.10.2 64-bit",
   "language": "python",
   "name": "python3"
  },
  "language_info": {
   "codemirror_mode": {
    "name": "ipython",
    "version": 3
   },
   "file_extension": ".py",
   "mimetype": "text/x-python",
   "name": "python",
   "nbconvert_exporter": "python",
   "pygments_lexer": "ipython3",
   "version": "3.10.2"
  },
  "orig_nbformat": 4
 },
 "nbformat": 4,
 "nbformat_minor": 2
}
