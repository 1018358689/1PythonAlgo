{
 "cells": [
  {
   "cell_type": "code",
   "execution_count": 5,
   "metadata": {},
   "outputs": [
    {
     "data": {
      "text/plain": [
       "12.75"
      ]
     },
     "execution_count": 5,
     "metadata": {},
     "output_type": "execute_result"
    }
   ],
   "source": [
    "from typing import List\n",
    "\n",
    "class Solution:\n",
    "\n",
    "    def findMaxAverage(self, nums: List[int], k: int) -> float:\n",
    "        ans = float('-inf')\n",
    "        localSum = sum(nums[:k])\n",
    "        ans = localSum / k\n",
    "        for i in range(1, len(nums) - k + 1):\n",
    "            localSum += nums[i + k - 1] - nums[i - 1]\n",
    "            ans = max(ans, localSum / k)\n",
    "        return ans\n",
    "\n",
    "\n",
    "s = Solution()\n",
    "s.findMaxAverage([1, 12, -5, -6, 50, 3], 4)\n"
   ]
  },
  {
   "cell_type": "code",
   "execution_count": 7,
   "metadata": {},
   "outputs": [
    {
     "data": {
      "text/plain": [
       "12.75"
      ]
     },
     "execution_count": 7,
     "metadata": {},
     "output_type": "execute_result"
    }
   ],
   "source": [
    "from typing import List\n",
    "\n",
    "\n",
    "class Solution:\n",
    "\n",
    "    def findMaxAverage(self, nums: List[int], k: int) -> float:\n",
    "        ans = float('-inf')\n",
    "        l = 0\n",
    "        sum = 0\n",
    "        for r in range(len(nums)):\n",
    "            sum += nums[r]\n",
    "            while r - l + 1 > k:\n",
    "                sum -= nums[l]\n",
    "                l += 1\n",
    "            if r - l + 1 == k:\n",
    "                ans = max(ans, sum / k)\n",
    "        return ans\n",
    "\n",
    "\n",
    "s = Solution()\n",
    "s.findMaxAverage([1, 12, -5, -6, 50, 3], 4)\n"
   ]
  },
  {
   "cell_type": "code",
   "execution_count": null,
   "metadata": {},
   "outputs": [],
   "source": []
  }
 ],
 "metadata": {
  "interpreter": {
   "hash": "97367d2de1780ea7c502b529f25888c1b53c0430a7611816b6c7cf19d8435228"
  },
  "kernelspec": {
   "display_name": "Python 3.10.4 64-bit (windows store)",
   "language": "python",
   "name": "python3"
  },
  "language_info": {
   "codemirror_mode": {
    "name": "ipython",
    "version": 3
   },
   "file_extension": ".py",
   "mimetype": "text/x-python",
   "name": "python",
   "nbconvert_exporter": "python",
   "pygments_lexer": "ipython3",
   "version": "3.10.4"
  },
  "orig_nbformat": 4
 },
 "nbformat": 4,
 "nbformat_minor": 2
}
