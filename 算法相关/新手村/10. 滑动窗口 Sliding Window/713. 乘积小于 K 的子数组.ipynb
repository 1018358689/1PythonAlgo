{
 "cells": [
  {
   "cell_type": "code",
   "execution_count": 7,
   "metadata": {},
   "outputs": [
    {
     "data": {
      "text/plain": [
       "0"
      ]
     },
     "execution_count": 7,
     "metadata": {},
     "output_type": "execute_result"
    }
   ],
   "source": [
    "def f(nums: list, k: int):\n",
    "    if k <= 1: return 0\n",
    "    product = 1  # 窗口:累计乘积\n",
    "    l = r = 0  # 闭区间[l,r]\n",
    "    ans = 0\n",
    "    while r < len(nums):\n",
    "        product *= nums[r]  # 窗口乘右指针\n",
    "        while product >= k:  # 不符合题意就出窗口\n",
    "            product //= nums[l]\n",
    "            l += 1  # 最后退出while l是符合窗口\n",
    "        ans += r - l + 1  # 仅统计右指针的左指针范围是因为其他子数组已经在前面计算过了。\n",
    "        r += 1  # 移动右指针 探索新区域\n",
    "    return ans\n",
    "\n",
    "\n",
    "f([10, 5, 2, 6], 100)\n",
    "f([1, 2, 3], 0)\n"
   ]
  },
  {
   "cell_type": "code",
   "execution_count": null,
   "metadata": {},
   "outputs": [],
   "source": []
  }
 ],
 "metadata": {
  "interpreter": {
   "hash": "a5f34674cfcc9b13426a2d112c686bc132e4ef443f1487e707e7c3787d6bcf89"
  },
  "kernelspec": {
   "display_name": "Python 3.10.4 64-bit (windows store)",
   "language": "python",
   "name": "python3"
  },
  "language_info": {
   "codemirror_mode": {
    "name": "ipython",
    "version": 3
   },
   "file_extension": ".py",
   "mimetype": "text/x-python",
   "name": "python",
   "nbconvert_exporter": "python",
   "pygments_lexer": "ipython3",
   "version": "3.10.4"
  },
  "orig_nbformat": 4
 },
 "nbformat": 4,
 "nbformat_minor": 2
}
