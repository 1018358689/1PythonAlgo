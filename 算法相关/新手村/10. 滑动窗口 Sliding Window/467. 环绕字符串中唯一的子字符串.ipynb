{
 "cells": [
  {
   "cell_type": "code",
   "execution_count": null,
   "metadata": {},
   "outputs": [],
   "source": [
    "# https://leetcode.cn/problems/unique-substrings-in-wraparound-string/solution/xi-fa-dai-ni-xue-suan-fa-yi-ci-gao-ding-qian-zhui-/"
   ]
  },
  {
   "cell_type": "code",
   "execution_count": null,
   "metadata": {},
   "outputs": [],
   "source": [
    "from collections import defaultdict\n",
    "\n",
    "\n",
    "class Solution:\n",
    "\n",
    "    def findSubstringInWraproundString(self, p: str) -> int:\n",
    "        p = '^' + p\n",
    "        w = 1\n",
    "        ha = defaultdict(lambda: 0)\n",
    "        for i in range(1, len(p)):\n",
    "            if ord(p[i]) - ord(p[i - 1]) in {1, -25}:\n",
    "                w += 1\n",
    "            else:\n",
    "                w = 1\n",
    "            ha[p[i]] = max(ha[p[i]], w)\n",
    "        return sum(ha.values())"
   ]
  },
  {
   "cell_type": "code",
   "execution_count": 14,
   "metadata": {},
   "outputs": [
    {
     "data": {
      "text/plain": [
       "1"
      ]
     },
     "execution_count": 14,
     "metadata": {},
     "output_type": "execute_result"
    }
   ],
   "source": [
    "from collections import defaultdict\n",
    "\n",
    "\n",
    "class Solution:\n",
    "\n",
    "    def findSubstringInWraproundString(self, p: str) -> int:\n",
    "        cnt = defaultdict(int)\n",
    "        l = 0\n",
    "        for r in range(len(p)):\n",
    "            while r > 0 and l < r and ord(p[r]) - ord(p[r - 1]) not in {1, -25}:  # 保证连续 或 长度为1\n",
    "                l += 1\n",
    "            cnt[p[r]] = max(cnt[p[r]], r - l + 1)\n",
    "        return sum(cnt.values())\n",
    "\n",
    "\n",
    "s = Solution()\n",
    "s.findSubstringInWraproundString('a')"
   ]
  },
  {
   "cell_type": "code",
   "execution_count": null,
   "metadata": {},
   "outputs": [],
   "source": []
  }
 ],
 "metadata": {
  "interpreter": {
   "hash": "aee8b7b246df8f9039afb4144a1f6fd8d2ca17a180786b69acc140d282b71a49"
  },
  "kernelspec": {
   "display_name": "Python 3.10.2 64-bit",
   "language": "python",
   "name": "python3"
  },
  "language_info": {
   "codemirror_mode": {
    "name": "ipython",
    "version": 3
   },
   "file_extension": ".py",
   "mimetype": "text/x-python",
   "name": "python",
   "nbconvert_exporter": "python",
   "pygments_lexer": "ipython3",
   "version": "3.10.2"
  },
  "orig_nbformat": 4
 },
 "nbformat": 4,
 "nbformat_minor": 2
}
