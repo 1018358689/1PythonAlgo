{
 "cells": [
  {
   "cell_type": "code",
   "execution_count": 1,
   "metadata": {},
   "outputs": [
    {
     "data": {
      "text/plain": [
       "15"
      ]
     },
     "execution_count": 1,
     "metadata": {},
     "output_type": "execute_result"
    }
   ],
   "source": [
    "from typing import List\n",
    "from collections import Counter\n",
    "\n",
    "\n",
    "class Solution:\n",
    "\n",
    "    def maximumSubarraySum(self, nums: List[int], k: int) -> int:\n",
    "        w = Counter()\n",
    "        l = s = ans = 0\n",
    "        for r in range(len(nums)):\n",
    "            w[nums[r]] += 1\n",
    "            s += nums[r]\n",
    "            while r - l + 1 > k:\n",
    "                w[nums[l]] -= 1\n",
    "                s -= nums[l]\n",
    "                if w[nums[l]] == 0:\n",
    "                    w.pop(nums[l])\n",
    "                l += 1\n",
    "            if r - l + 1 == k and len(w) == k and s > ans:\n",
    "                ans = s\n",
    "        return ans\n",
    "\n",
    "\n",
    "s = Solution()\n",
    "s.maximumSubarraySum([1, 5, 4, 2, 9, 9, 9], 3)\n"
   ]
  },
  {
   "cell_type": "code",
   "execution_count": null,
   "metadata": {},
   "outputs": [],
   "source": []
  }
 ],
 "metadata": {
  "kernelspec": {
   "display_name": "Python 3.10.5 64-bit",
   "language": "python",
   "name": "python3"
  },
  "language_info": {
   "codemirror_mode": {
    "name": "ipython",
    "version": 3
   },
   "file_extension": ".py",
   "mimetype": "text/x-python",
   "name": "python",
   "nbconvert_exporter": "python",
   "pygments_lexer": "ipython3",
   "version": "3.10.5"
  },
  "orig_nbformat": 4,
  "vscode": {
   "interpreter": {
    "hash": "3196968d684371006099b3d55edeef8ed90365227a30deaef86e5d4aa8519be0"
   }
  }
 },
 "nbformat": 4,
 "nbformat_minor": 2
}
