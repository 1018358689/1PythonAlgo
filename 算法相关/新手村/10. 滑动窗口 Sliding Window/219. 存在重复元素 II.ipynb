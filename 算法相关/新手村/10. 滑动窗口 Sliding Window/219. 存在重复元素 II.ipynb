{
 "cells": [
  {
   "cell_type": "code",
   "execution_count": 12,
   "metadata": {},
   "outputs": [
    {
     "data": {
      "text/plain": [
       "False"
      ]
     },
     "execution_count": 12,
     "metadata": {},
     "output_type": "execute_result"
    }
   ],
   "source": [
    "from typing import List\n",
    "\n",
    "\n",
    "class Solution:\n",
    "    def containsNearbyDuplicate(self, nums: List[int], k: int) -> bool:\n",
    "        ha = set()\n",
    "        l = 0\n",
    "        for r in range(len(nums)):\n",
    "            while r - l + 1 > k + 1:\n",
    "                ha.remove(nums[l])\n",
    "                l += 1\n",
    "            if nums[r] in ha:\n",
    "                return True\n",
    "            ha.add(nums[r])\n",
    "        return False\n",
    "\n",
    "\n",
    "s = Solution()\n",
    "s.containsNearbyDuplicate([1, 2, 3, 1], 3)\n",
    "s.containsNearbyDuplicate([1, 2, 1], 0)\n"
   ]
  },
  {
   "cell_type": "code",
   "execution_count": null,
   "metadata": {},
   "outputs": [],
   "source": []
  }
 ],
 "metadata": {
  "interpreter": {
   "hash": "de72d97932d649c6d75aa79b73261cc3e8a1ae5e7cab8a9115f0bbb1518a7af2"
  },
  "kernelspec": {
   "display_name": "Python 3.8.10 64-bit",
   "language": "python",
   "name": "python3"
  },
  "language_info": {
   "codemirror_mode": {
    "name": "ipython",
    "version": 3
   },
   "file_extension": ".py",
   "mimetype": "text/x-python",
   "name": "python",
   "nbconvert_exporter": "python",
   "pygments_lexer": "ipython3",
   "version": "3.8.10"
  },
  "orig_nbformat": 4
 },
 "nbformat": 4,
 "nbformat_minor": 2
}
