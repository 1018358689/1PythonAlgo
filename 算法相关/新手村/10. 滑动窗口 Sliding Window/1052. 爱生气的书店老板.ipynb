{
 "cells": [
  {
   "cell_type": "code",
   "execution_count": 1,
   "metadata": {},
   "outputs": [
    {
     "data": {
      "text/plain": [
       "18"
      ]
     },
     "execution_count": 1,
     "metadata": {},
     "output_type": "execute_result"
    }
   ],
   "source": [
    "# 滑动窗口和前缀和\n",
    "from typing import List\n",
    "\n",
    "\n",
    "class Solution:\n",
    "\n",
    "    def maxSatisfied(self, customers: List[int], grumpy: List[int], minutes: int) -> int:\n",
    "        sz = len(customers)\n",
    "        preSum = [0] * (sz + 1)\n",
    "        for i in range(sz):  # 醉了 题目1表示生气 0表示不生气\n",
    "            preSum[i + 1] = preSum[i] + (not grumpy[i]) * customers[i]\n",
    "        l = w = 0\n",
    "        ans = 0\n",
    "        for r in range(sz):\n",
    "            w += customers[r]\n",
    "            while r - l + 1 > minutes:\n",
    "                w -= customers[l]\n",
    "                l += 1\n",
    "            elseSum = preSum[-1] - (preSum[r + 1] - preSum[l])\n",
    "            ans = max(ans, w + elseSum)\n",
    "        return ans\n",
    "\n",
    "\n",
    "s = Solution()\n",
    "# s.maxSatisfied([1, 0, 1, 2, 1, 1, 7, 5], [0, 1, 0, 1, 0, 1, 0, 1], 3)\n",
    "s.maxSatisfied([10, 1, 7], [0, 0, 0], 2)\n"
   ]
  },
  {
   "cell_type": "code",
   "execution_count": 8,
   "metadata": {},
   "outputs": [
    {
     "data": {
      "text/plain": [
       "True"
      ]
     },
     "execution_count": 8,
     "metadata": {},
     "output_type": "execute_result"
    }
   ],
   "source": [
    "not 0"
   ]
  },
  {
   "cell_type": "code",
   "execution_count": null,
   "metadata": {},
   "outputs": [],
   "source": []
  }
 ],
 "metadata": {
  "interpreter": {
   "hash": "97367d2de1780ea7c502b529f25888c1b53c0430a7611816b6c7cf19d8435228"
  },
  "kernelspec": {
   "display_name": "Python 3.10.4 64-bit (windows store)",
   "language": "python",
   "name": "python3"
  },
  "language_info": {
   "codemirror_mode": {
    "name": "ipython",
    "version": 3
   },
   "file_extension": ".py",
   "mimetype": "text/x-python",
   "name": "python",
   "nbconvert_exporter": "python",
   "pygments_lexer": "ipython3",
   "version": "3.10.4"
  },
  "orig_nbformat": 4
 },
 "nbformat": 4,
 "nbformat_minor": 2
}
