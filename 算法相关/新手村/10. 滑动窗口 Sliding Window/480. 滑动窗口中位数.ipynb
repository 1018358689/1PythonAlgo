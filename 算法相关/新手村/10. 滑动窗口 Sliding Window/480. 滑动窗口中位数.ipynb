{
 "cells": [
  {
   "cell_type": "code",
   "execution_count": 1,
   "metadata": {},
   "outputs": [
    {
     "data": {
      "text/plain": [
       "[1.0, -1.0, -1.0, 3.0, 5.0, 6.0]"
      ]
     },
     "execution_count": 1,
     "metadata": {},
     "output_type": "execute_result"
    }
   ],
   "source": [
    "from typing import List\n",
    "from sortedcontainers import SortedList\n",
    "\n",
    "\n",
    "class Solution:\n",
    "\n",
    "    def medianSlidingWindow(self, nums: List[int], k: int) -> List[float]:\n",
    "        i1, i2 = (k - 1) // 2, (k - 1) // 2 + (k - 1) % 2\n",
    "        sl = SortedList(nums[:k])\n",
    "        ans = [(sl[i1] + sl[i2]) / 2]\n",
    "        l = 0\n",
    "        for r in range(k, len(nums)):\n",
    "            sl.add(nums[r])\n",
    "            sl.remove(nums[l])\n",
    "            l += 1\n",
    "            ans.append((sl[i1] + sl[i2]) / 2)\n",
    "        return ans\n",
    "\n",
    "\n",
    "s = Solution()\n",
    "s.medianSlidingWindow([1, 3, -1, -3, 5, 3, 6, 7], 3)\n"
   ]
  },
  {
   "cell_type": "code",
   "execution_count": null,
   "metadata": {},
   "outputs": [],
   "source": []
  }
 ],
 "metadata": {
  "interpreter": {
   "hash": "97367d2de1780ea7c502b529f25888c1b53c0430a7611816b6c7cf19d8435228"
  },
  "kernelspec": {
   "display_name": "Python 3.10.4 64-bit (windows store)",
   "language": "python",
   "name": "python3"
  },
  "language_info": {
   "codemirror_mode": {
    "name": "ipython",
    "version": 3
   },
   "file_extension": ".py",
   "mimetype": "text/x-python",
   "name": "python",
   "nbconvert_exporter": "python",
   "pygments_lexer": "ipython3",
   "version": "3.10.4"
  },
  "orig_nbformat": 4
 },
 "nbformat": 4,
 "nbformat_minor": 2
}
