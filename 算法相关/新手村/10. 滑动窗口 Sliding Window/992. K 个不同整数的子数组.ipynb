{
 "cells": [
  {
   "cell_type": "code",
   "execution_count": 2,
   "metadata": {},
   "outputs": [
    {
     "data": {
      "text/plain": [
       "7"
      ]
     },
     "execution_count": 2,
     "metadata": {},
     "output_type": "execute_result"
    }
   ],
   "source": [
    "from typing import List\n",
    "from collections import defaultdict\n",
    "\n",
    "\n",
    "class Solution:\n",
    "\n",
    "    def subarraysWithKDistinct(self, nums: List[int], k: int) -> int:\n",
    "\n",
    "        def atMostK(k):\n",
    "            ans = l = 0\n",
    "            cnt = defaultdict(int)\n",
    "            for r in range(len(nums)):\n",
    "                cnt[nums[r]] += 1\n",
    "                while l <= r and len(cnt) > k:\n",
    "                    cnt[nums[l]] -= 1\n",
    "                    if cnt[nums[l]] == 0:\n",
    "                        cnt.pop(nums[l])\n",
    "                    l += 1\n",
    "                ans += r - l + 1\n",
    "            return ans\n",
    "\n",
    "        return atMostK(k) - atMostK(k - 1)\n",
    "\n",
    "\n",
    "s = Solution()\n",
    "s.subarraysWithKDistinct([1, 2, 1, 2, 3], 2)\n"
   ]
  },
  {
   "cell_type": "code",
   "execution_count": 4,
   "metadata": {},
   "outputs": [
    {
     "data": {
      "text/plain": [
       "7"
      ]
     },
     "execution_count": 4,
     "metadata": {},
     "output_type": "execute_result"
    }
   ],
   "source": [
    "from typing import List\n",
    "from collections import Counter\n",
    "\n",
    "\n",
    "class Solution:\n",
    "\n",
    "    def subarraysWithKDistinct(self, nums: List[int], k: int) -> int:\n",
    "\n",
    "        def atMostK(k):\n",
    "            ans = l = 0\n",
    "            cnt = Counter()\n",
    "            for r in range(len(nums)):\n",
    "                cnt[nums[r]] += 1\n",
    "                while l <= r and len(cnt) > k:\n",
    "                    cnt[nums[l]] -= 1\n",
    "                    if cnt[nums[l]] == 0:\n",
    "                        cnt.pop(nums[l])\n",
    "                    l += 1\n",
    "                ans += r - l + 1\n",
    "            return ans\n",
    "\n",
    "        return atMostK(k) - atMostK(k - 1)\n",
    "\n",
    "\n",
    "s = Solution()\n",
    "s.subarraysWithKDistinct([1, 2, 1, 2, 3], 2)\n"
   ]
  },
  {
   "cell_type": "code",
   "execution_count": null,
   "metadata": {},
   "outputs": [],
   "source": []
  }
 ],
 "metadata": {
  "interpreter": {
   "hash": "aee8b7b246df8f9039afb4144a1f6fd8d2ca17a180786b69acc140d282b71a49"
  },
  "kernelspec": {
   "display_name": "Python 3.10.2 64-bit",
   "language": "python",
   "name": "python3"
  },
  "language_info": {
   "codemirror_mode": {
    "name": "ipython",
    "version": 3
   },
   "file_extension": ".py",
   "mimetype": "text/x-python",
   "name": "python",
   "nbconvert_exporter": "python",
   "pygments_lexer": "ipython3",
   "version": "3.10.2"
  },
  "orig_nbformat": 4
 },
 "nbformat": 4,
 "nbformat_minor": 2
}
