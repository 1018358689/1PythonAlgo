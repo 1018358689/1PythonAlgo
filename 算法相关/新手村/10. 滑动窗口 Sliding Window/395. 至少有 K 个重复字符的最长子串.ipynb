{
 "cells": [
  {
   "cell_type": "code",
   "execution_count": 1,
   "metadata": {},
   "outputs": [
    {
     "data": {
      "text/plain": [
       "{'a', 'b', 'c'}"
      ]
     },
     "execution_count": 1,
     "metadata": {},
     "output_type": "execute_result"
    }
   ],
   "source": [
    "set('aabc')"
   ]
  },
  {
   "cell_type": "code",
   "execution_count": 2,
   "metadata": {},
   "outputs": [
    {
     "data": {
      "text/plain": [
       "3"
      ]
     },
     "execution_count": 2,
     "metadata": {},
     "output_type": "execute_result"
    }
   ],
   "source": [
    "from collections import Counter\n",
    "\n",
    "\n",
    "class Solution:\n",
    "\n",
    "    def longestSubstring(self, s: str, k: int) -> int:\n",
    "        ans = 0\n",
    "        for targetK in range(1, sum(v >= k for v in Counter(s).values()) + 1):  # 字符种类枚举（窗口大小）\n",
    "            l = 0\n",
    "            w = Counter()\n",
    "            for r in range(len(s)):\n",
    "                w[s[r]] += 1\n",
    "                while len(w) > targetK:  # 超过目标数量 缩窗\n",
    "                    w[s[l]] -= 1\n",
    "                    if w[s[l]] == 0:\n",
    "                        w.pop(s[l])\n",
    "                    l += 1\n",
    "                if sum(v >= k for v in w.values()) == targetK:  # 该窗符合字符都>=k\n",
    "                    ans = max(ans, r - l + 1)\n",
    "        return ans\n",
    "\n",
    "\n",
    "s = Solution()\n",
    "s.longestSubstring('aaabb', 3)\n"
   ]
  },
  {
   "cell_type": "code",
   "execution_count": null,
   "metadata": {},
   "outputs": [],
   "source": []
  }
 ],
 "metadata": {
  "kernelspec": {
   "display_name": "Python 3.10.5 64-bit",
   "language": "python",
   "name": "python3"
  },
  "language_info": {
   "codemirror_mode": {
    "name": "ipython",
    "version": 3
   },
   "file_extension": ".py",
   "mimetype": "text/x-python",
   "name": "python",
   "nbconvert_exporter": "python",
   "pygments_lexer": "ipython3",
   "version": "3.10.5"
  },
  "orig_nbformat": 4,
  "vscode": {
   "interpreter": {
    "hash": "3196968d684371006099b3d55edeef8ed90365227a30deaef86e5d4aa8519be0"
   }
  }
 },
 "nbformat": 4,
 "nbformat_minor": 2
}
