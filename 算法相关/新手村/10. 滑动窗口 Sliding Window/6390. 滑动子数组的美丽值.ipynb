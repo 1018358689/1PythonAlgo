{
 "cells": [
  {
   "cell_type": "code",
   "execution_count": null,
   "metadata": {},
   "outputs": [],
   "source": [
    "# 什么是第 x 小的数？\n",
    "# 设它是 num，那么 <num 的数有 <x 个，≤num 有 ≥x 个，就说明 num 是第 x 小的数。(第一个 数量>=x 的数)\n",
    "class Solution:\n",
    "\n",
    "    def getSubarrayBeauty(self, nums: List[int], k: int, m: int) -> List[int]:\n",
    "        n = len(nums)\n",
    "        cnt = [0] * 101  # 偏移50\n",
    "        minm = lambda: next(i - 50 for i, x in enumerate(accumulate(cnt)) if x >= m)\n",
    "        for x in nums[:k]:\n",
    "            cnt[x + 50] += 1\n",
    "        ans = [min(0, minm())]\n",
    "        for l, r in zip(range(n), range(k, n)):\n",
    "            cnt[nums[l] + 50] -= 1\n",
    "            cnt[nums[r] + 50] += 1\n",
    "            ans.append(min(0, minm()))\n",
    "        return ans"
   ]
  },
  {
   "cell_type": "code",
   "execution_count": null,
   "metadata": {},
   "outputs": [],
   "source": [
    "from sortedcontainers import SortedList\n",
    "\n",
    "\n",
    "class Solution:\n",
    "\n",
    "    def getSubarrayBeauty(self, nums: List[int], k: int, x: int) -> List[int]:\n",
    "        n = len(nums)\n",
    "        sl = SortedList(nums[:k])\n",
    "        ans = [min(0, sl[x - 1])]\n",
    "        for l, r in zip(range(n), range(k, n)):\n",
    "            sl.discard(nums[l])\n",
    "            sl.add(nums[r])\n",
    "            ans.append(min(0, sl[x - 1]))\n",
    "        return ans"
   ]
  },
  {
   "cell_type": "code",
   "execution_count": null,
   "metadata": {},
   "outputs": [],
   "source": [
    "# 超时\n",
    "class Solution:\n",
    "\n",
    "    def getSubarrayBeauty(self, nums: List[int], k: int, m: int) -> List[int]:\n",
    "        n = len(nums)\n",
    "\n",
    "        def topK(arr, m):\n",
    "            cnt = lambda d: sum(x <= d for x in arr)  # <=d的个数\n",
    "            l, r = min(nums), max(nums)\n",
    "            while l <= r:\n",
    "                mid = l + r >> 1\n",
    "                if cnt(mid) >= m:\n",
    "                    r = mid - 1  # 最左边\n",
    "                else:\n",
    "                    l = mid + 1\n",
    "            return l\n",
    "\n",
    "        arr = deque(nums[:k])\n",
    "        ans = [min(0, topK(arr, m))]\n",
    "        for l, r in zip(range(n), range(k, n)):\n",
    "            arr.append(nums[r])\n",
    "            arr.popleft()\n",
    "            ans.append(min(0, topK(arr, m)))\n",
    "        return ans"
   ]
  }
 ],
 "metadata": {
  "language_info": {
   "name": "python"
  },
  "orig_nbformat": 4
 },
 "nbformat": 4,
 "nbformat_minor": 2
}
