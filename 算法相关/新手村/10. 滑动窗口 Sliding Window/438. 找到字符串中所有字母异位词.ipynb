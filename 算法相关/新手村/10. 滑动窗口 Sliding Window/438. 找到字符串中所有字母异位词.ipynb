{
 "cells": [
  {
   "cell_type": "code",
   "execution_count": null,
   "metadata": {},
   "outputs": [],
   "source": [
    "from typing import List\n",
    "\n",
    "\n",
    "class Solution:\n",
    "\n",
    "    def findAnagrams(self, s: str, p: str) -> List[int]:\n",
    "        target = [0] * 26\n",
    "        for w in p:\n",
    "            target[ord(w) - ord('a')] += 1\n",
    "        countArr = [0] * 26\n",
    "        lgh = len(p)\n",
    "        ans = []\n",
    "        l = 0\n",
    "        for r in range(len(s)):\n",
    "            countArr[ord(s[r]) - ord('a')] += 1\n",
    "            while r - l + 1 > lgh:\n",
    "                countArr[ord(s[l]) - ord('a')] -= 1\n",
    "                l += 1\n",
    "            if countArr == target:\n",
    "                ans.append(l)\n",
    "        return ans\n"
   ]
  }
 ],
 "metadata": {
  "language_info": {
   "name": "python"
  },
  "orig_nbformat": 4
 },
 "nbformat": 4,
 "nbformat_minor": 2
}
