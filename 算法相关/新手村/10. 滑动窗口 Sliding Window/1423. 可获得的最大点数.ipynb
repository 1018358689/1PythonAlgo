{
 "cells": [
  {
   "cell_type": "code",
   "execution_count": 13,
   "metadata": {},
   "outputs": [
    {
     "data": {
      "text/plain": [
       "55"
      ]
     },
     "execution_count": 13,
     "metadata": {},
     "output_type": "execute_result"
    }
   ],
   "source": [
    "from typing import List\n",
    "\n",
    "\n",
    "class Solution:\n",
    "\n",
    "    def maxScore(self, cardPoints: List[int], k: int) -> int:\n",
    "        sz = len(cardPoints) - k\n",
    "        s = sum(cardPoints[:sz])\n",
    "        ans = s\n",
    "        for i in range(len(cardPoints) - sz):\n",
    "            s += cardPoints[i + sz] - cardPoints[i]\n",
    "            ans = min(ans, s)\n",
    "        return sum(cardPoints) - ans\n",
    "\n",
    "\n",
    "s = Solution()\n",
    "s.maxScore([1, 2, 3, 4, 5, 6, 1], 3)\n",
    "s.maxScore([9, 7, 7, 9, 7, 7, 9], 7)\n"
   ]
  },
  {
   "cell_type": "code",
   "execution_count": 17,
   "metadata": {},
   "outputs": [
    {
     "data": {
      "text/plain": [
       "55"
      ]
     },
     "execution_count": 17,
     "metadata": {},
     "output_type": "execute_result"
    }
   ],
   "source": [
    "from typing import List\n",
    "\n",
    "\n",
    "class Solution:\n",
    "\n",
    "    def maxScore(self, cardPoints: List[int], k: int) -> int:\n",
    "        sz = len(cardPoints) - k\n",
    "        l = 0\n",
    "        s = 0\n",
    "        ans = float('inf')\n",
    "        for r in range(len(cardPoints)):\n",
    "            s += cardPoints[r]\n",
    "            while r - l + 1 > sz:\n",
    "                s -= cardPoints[l]\n",
    "                l += 1\n",
    "            if r - l + 1 == sz:  # r >= sz - 1:\n",
    "                ans = min(ans, s)\n",
    "        return sum(cardPoints) - ans\n",
    "\n",
    "\n",
    "s = Solution()\n",
    "s.maxScore([1, 2, 3, 4, 5, 6, 1], 3)\n",
    "s.maxScore([9, 7, 7, 9, 7, 7, 9], 7)"
   ]
  },
  {
   "cell_type": "code",
   "execution_count": 2,
   "metadata": {},
   "outputs": [
    {
     "data": {
      "text/plain": [
       "55"
      ]
     },
     "execution_count": 2,
     "metadata": {},
     "output_type": "execute_result"
    }
   ],
   "source": [
    "from typing import List\n",
    "# 这样速度能快点\n",
    "\n",
    "class Solution:\n",
    "\n",
    "    def maxScore(self, cardPoints: List[int], k: int) -> int:\n",
    "        sz = len(cardPoints) - k\n",
    "        l = 0\n",
    "        s = sum(cardPoints[:sz])\n",
    "        ans = s\n",
    "        for r in range(sz, len(cardPoints)):\n",
    "            s += cardPoints[r]\n",
    "            while r - l + 1 > sz:\n",
    "                s -= cardPoints[l]\n",
    "                l += 1\n",
    "            ans = min(ans, s)\n",
    "        return sum(cardPoints) - ans\n",
    "\n",
    "\n",
    "s = Solution()\n",
    "s.maxScore([1, 2, 3, 4, 5, 6, 1], 3)\n",
    "s.maxScore([9, 7, 7, 9, 7, 7, 9], 7)"
   ]
  },
  {
   "cell_type": "code",
   "execution_count": null,
   "metadata": {},
   "outputs": [],
   "source": []
  }
 ],
 "metadata": {
  "interpreter": {
   "hash": "97367d2de1780ea7c502b529f25888c1b53c0430a7611816b6c7cf19d8435228"
  },
  "kernelspec": {
   "display_name": "Python 3.10.4 64-bit (windows store)",
   "language": "python",
   "name": "python3"
  },
  "language_info": {
   "codemirror_mode": {
    "name": "ipython",
    "version": 3
   },
   "file_extension": ".py",
   "mimetype": "text/x-python",
   "name": "python",
   "nbconvert_exporter": "python",
   "pygments_lexer": "ipython3",
   "version": "3.10.4"
  },
  "orig_nbformat": 4
 },
 "nbformat": 4,
 "nbformat_minor": 2
}
