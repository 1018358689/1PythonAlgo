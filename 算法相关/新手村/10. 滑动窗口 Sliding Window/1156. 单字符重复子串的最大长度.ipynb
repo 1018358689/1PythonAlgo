{
 "cells": [
  {
   "cell_type": "code",
   "execution_count": null,
   "metadata": {},
   "outputs": [],
   "source": [
    "class Solution:\n",
    "\n",
    "    def maxRepOpt1(self, text: str) -> int:\n",
    "        cnts = Counter(text)\n",
    "        n = len(text)\n",
    "        w = Counter()\n",
    "        ans = l = 0\n",
    "        for r in range(n):\n",
    "            w[text[r]] += 1\n",
    "            c, fre = w.most_common(1)[0]\n",
    "            # 全部换成c 如果窗口外的不够替换，或者替换次数超过1，则缩小窗口\n",
    "            while r - l + 1 > cnts[c] or r - l + 1 - fre > 1:\n",
    "                w[text[l]] -= 1\n",
    "                l += 1\n",
    "                c, fre = w.most_common(1)[0]\n",
    "            ans = max(ans, r - l + 1)\n",
    "        return ans"
   ]
  },
  {
   "cell_type": "code",
   "execution_count": null,
   "metadata": {},
   "outputs": [],
   "source": [
    "class Solution:\n",
    "\n",
    "    def maxRepOpt1(self, text: str) -> int:\n",
    "        # 思路：找 aaabaaa 样式  后面前面还有 a 再 + 1 = 6 + 1 = 7\n",
    "        # 找不到则 aaabbc 样式 后面前面还有 a 再 + 1 = 3 + 1 = 4\n",
    "        gs = [(x, len(list(g))) for x, g in groupby(text)]\n",
    "        ngs = len(gs)\n",
    "        cnts = Counter(text)\n",
    "        ans = 1\n",
    "        for i, (x, lgh) in enumerate(gs):\n",
    "            if i < ngs - 2 and gs[i + 1][1] == 1 and gs[i + 2][0] == x:\n",
    "                lgh += gs[i + 2][1]\n",
    "            lgh += cnts[x] > lgh\n",
    "            ans = max(ans, lgh)\n",
    "        return ans"
   ]
  }
 ],
 "metadata": {
  "language_info": {
   "name": "python"
  },
  "orig_nbformat": 4
 },
 "nbformat": 4,
 "nbformat_minor": 2
}
