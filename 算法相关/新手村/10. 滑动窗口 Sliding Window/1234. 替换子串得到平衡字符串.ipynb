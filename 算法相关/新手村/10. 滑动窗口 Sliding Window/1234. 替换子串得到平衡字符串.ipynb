{
 "cells": [
  {
   "cell_type": "code",
   "execution_count": null,
   "metadata": {},
   "outputs": [],
   "source": [
    "from collections import Counter\n",
    "from math import inf\n",
    "\n",
    "\n",
    "class Solution:\n",
    "\n",
    "    def balancedString(self, s: str) -> int:\n",
    "        cnts = Counter(s)  # 窗外\n",
    "        n = len(s)\n",
    "        m = n // 4\n",
    "        l = 0\n",
    "        ans = inf\n",
    "        if all(x == m for x in cnts.values()):\n",
    "            return 0\n",
    "        for r in range(n):\n",
    "            cnts[s[r]] -= 1\n",
    "            while all(x <= m for x in cnts.values()):  # 窗外要不大于m\n",
    "                ans = min(ans, r - l + 1)\n",
    "                cnts[s[l]] += 1\n",
    "                l += 1\n",
    "        return ans"
   ]
  },
  {
   "cell_type": "code",
   "execution_count": 1,
   "metadata": {},
   "outputs": [],
   "source": [
    "from collections import Counter\n",
    "from math import inf\n",
    "\n",
    "\n",
    "class Solution:\n",
    "\n",
    "    def balancedString(self, s: str) -> int:\n",
    "        cnts = Counter(s)  # 窗外\n",
    "        n = len(s)\n",
    "        m = n // 4\n",
    "        l = 0\n",
    "        ans = inf\n",
    "        def lgh2bool(lgh): # 待换子串长度 -> 能否能到平衡子串\n",
    "            w = Counter()\n",
    "            l = 0\n",
    "            for r in range(n):\n",
    "                w[s[r]] += 1\n",
    "                "
   ]
  }
 ],
 "metadata": {
  "kernelspec": {
   "display_name": "Python 3",
   "language": "python",
   "name": "python3"
  },
  "language_info": {
   "codemirror_mode": {
    "name": "ipython",
    "version": 3
   },
   "file_extension": ".py",
   "mimetype": "text/x-python",
   "name": "python",
   "nbconvert_exporter": "python",
   "pygments_lexer": "ipython3",
   "version": "3.10.5"
  },
  "orig_nbformat": 4,
  "vscode": {
   "interpreter": {
    "hash": "3196968d684371006099b3d55edeef8ed90365227a30deaef86e5d4aa8519be0"
   }
  }
 },
 "nbformat": 4,
 "nbformat_minor": 2
}
