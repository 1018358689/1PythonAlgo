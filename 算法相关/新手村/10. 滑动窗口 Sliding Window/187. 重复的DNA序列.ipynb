{
 "cells": [
  {
   "cell_type": "code",
   "execution_count": 3,
   "metadata": {},
   "outputs": [
    {
     "data": {
      "text/plain": [
       "['AAAAAAAAAA']"
      ]
     },
     "execution_count": 3,
     "metadata": {},
     "output_type": "execute_result"
    }
   ],
   "source": [
    "from typing import List\n",
    "from collections import defaultdict\n",
    "\n",
    "\n",
    "class Solution:\n",
    "\n",
    "    def findRepeatedDnaSequences(self, s: str) -> List[str]:\n",
    "        if len(s) < 10:\n",
    "            return []\n",
    "        cnt = defaultdict(int)\n",
    "        ans = []\n",
    "        l = 0\n",
    "        for r in range(9, len(s)):\n",
    "            while r - l + 1 > 10:\n",
    "                l += 1\n",
    "            cnt[s[l:r + 1]] += 1\n",
    "        for k, v in cnt.items():\n",
    "            if v > 1:\n",
    "                ans.append(k)\n",
    "        return ans\n",
    "\n",
    "\n",
    "s = Solution()\n",
    "s.findRepeatedDnaSequences('AAAAACCCCCAAAAACCCCCCAAAAAGGGTTT')\n",
    "s.findRepeatedDnaSequences('AAAAAAAAAAAAA')"
   ]
  },
  {
   "cell_type": "code",
   "execution_count": 6,
   "metadata": {},
   "outputs": [
    {
     "data": {
      "text/plain": [
       "['AAAAACCCCC', 'CCCCCAAAAA']"
      ]
     },
     "execution_count": 6,
     "metadata": {},
     "output_type": "execute_result"
    }
   ],
   "source": [
    "from typing import List\n",
    "from collections import defaultdict\n",
    "\n",
    "\n",
    "class Solution:\n",
    "\n",
    "    def findRepeatedDnaSequences(self, s: str) -> List[str]:\n",
    "        if len(s) < 10:\n",
    "            return []\n",
    "        ha = {'A': 0, 'C': 1, 'G': 2, 'T': 3}  # 00 01 10 11\n",
    "        cnt = defaultdict(int)\n",
    "        ans = []\n",
    "        l = 0\n",
    "        x = 0\n",
    "        # 先准备第一个元素 前 9 个字符对应的二进制\n",
    "        for i in s[:9]:\n",
    "            x = (x << 2) | ha[i]\n",
    "        for r in range(9, len(s)):\n",
    "            while r - l + 1 > 10:\n",
    "                l += 1\n",
    "            # 左移2位，‘或’上新增加的字符的二进制值\n",
    "            x = (x << 2) | ha[s[r]]\n",
    "            # 把高于 20 位的二进制 置零\n",
    "            x = x & ((1 << 20) - 1)\n",
    "            cnt[x] += 1\n",
    "            if cnt[x] == 2:\n",
    "                ans.append(s[l:r + 1])\n",
    "        return ans\n",
    "\n",
    "\n",
    "s = Solution()\n",
    "s.findRepeatedDnaSequences('AAAAACCCCCAAAAACCCCCCAAAAAGGGTTT')\n",
    "# s.findRepeatedDnaSequences('AAAAAAAAAAAAA')"
   ]
  },
  {
   "cell_type": "code",
   "execution_count": null,
   "metadata": {},
   "outputs": [],
   "source": [
    "from typing import List\n",
    "class Solution:\n",
    "    def findRepeatedDnaSequences(self, s: str) -> List[str]:\n",
    "        "
   ]
  }
 ],
 "metadata": {
  "interpreter": {
   "hash": "97367d2de1780ea7c502b529f25888c1b53c0430a7611816b6c7cf19d8435228"
  },
  "kernelspec": {
   "display_name": "Python 3.10.4 64-bit (windows store)",
   "language": "python",
   "name": "python3"
  },
  "language_info": {
   "codemirror_mode": {
    "name": "ipython",
    "version": 3
   },
   "file_extension": ".py",
   "mimetype": "text/x-python",
   "name": "python",
   "nbconvert_exporter": "python",
   "pygments_lexer": "ipython3",
   "version": "3.10.4"
  },
  "orig_nbformat": 4
 },
 "nbformat": 4,
 "nbformat_minor": 2
}
