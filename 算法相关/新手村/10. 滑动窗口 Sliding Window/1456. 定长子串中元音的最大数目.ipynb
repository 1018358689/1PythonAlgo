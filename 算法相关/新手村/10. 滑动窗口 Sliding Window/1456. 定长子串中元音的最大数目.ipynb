{
 "cells": [
  {
   "cell_type": "code",
   "execution_count": 4,
   "metadata": {},
   "outputs": [
    {
     "data": {
      "text/plain": [
       "(3, 5)"
      ]
     },
     "execution_count": 4,
     "metadata": {},
     "output_type": "execute_result"
    }
   ],
   "source": [
    "# 看错题目\n",
    "# 求最大的连续元音字母个数\n",
    "def f(s: str):\n",
    "    ha = {'a', 'e', 'i', 'o', 'u'}\n",
    "    cnt = {}  # 存非元音字母的个数\n",
    "    l = r = 0\n",
    "    ans = 0\n",
    "    while r < len(s):\n",
    "        if s[r] not in ha:\n",
    "            cnt[s[r]] = cnt.get(s[r], 0) + 1\n",
    "        while cnt:\n",
    "            if s[l] not in ha:\n",
    "                cnt[s[l]] -= 1\n",
    "                if cnt[s[l]] == 0:\n",
    "                    cnt.pop(s[l])\n",
    "            l += 1\n",
    "        ans = max(ans, r - l + 1)\n",
    "        r += 1\n",
    "    return ans\n",
    "\n",
    "\n",
    "f('abciiidef', 3),f('aeiou',2)\n"
   ]
  },
  {
   "cell_type": "code",
   "execution_count": 12,
   "metadata": {},
   "outputs": [
    {
     "data": {
      "text/plain": [
       "1"
      ]
     },
     "execution_count": 12,
     "metadata": {},
     "output_type": "execute_result"
    }
   ],
   "source": [
    "def f(s: str, k: int):\n",
    "    ha = {'a', 'e', 'i', 'o', 'u'}\n",
    "    l, r = 0, 0\n",
    "    cnt = 0\n",
    "    ans = 0\n",
    "    while r < len(s):\n",
    "        if s[r] in ha:\n",
    "            cnt += 1\n",
    "        while r - l + 1 > k:\n",
    "            if s[l] in ha:\n",
    "                cnt -= 1\n",
    "            l += 1\n",
    "        # if r - l + 1 == k:\n",
    "        ans = max(ans, cnt)\n",
    "        r += 1\n",
    "    return ans\n",
    "\n",
    "\n",
    "# f('abciiidef', 3)\n",
    "f('aeiou', 2)\n",
    "f('axsx', 2)\n"
   ]
  },
  {
   "cell_type": "code",
   "execution_count": 13,
   "metadata": {},
   "outputs": [
    {
     "name": "stdout",
     "output_type": "stream",
     "text": [
      "[('a', 3000), ('bob', 750)]\n"
     ]
    }
   ],
   "source": [
    "def by_name(t):\n",
    "    return t[0]\n",
    "\n",
    "\n",
    "l = [('bob', 750), ('a', 3000)]\n",
    "l2 = sorted(l, key=by_name)\n",
    "print(list(l2))"
   ]
  },
  {
   "cell_type": "code",
   "execution_count": null,
   "metadata": {},
   "outputs": [],
   "source": []
  }
 ],
 "metadata": {
  "interpreter": {
   "hash": "a5f34674cfcc9b13426a2d112c686bc132e4ef443f1487e707e7c3787d6bcf89"
  },
  "kernelspec": {
   "display_name": "Python 3.10.4 64-bit (windows store)",
   "language": "python",
   "name": "python3"
  },
  "language_info": {
   "codemirror_mode": {
    "name": "ipython",
    "version": 3
   },
   "file_extension": ".py",
   "mimetype": "text/x-python",
   "name": "python",
   "nbconvert_exporter": "python",
   "pygments_lexer": "ipython3",
   "version": "3.10.4"
  },
  "orig_nbformat": 4
 },
 "nbformat": 4,
 "nbformat_minor": 2
}
