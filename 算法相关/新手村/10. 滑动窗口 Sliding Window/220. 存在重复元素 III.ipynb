{
 "cells": [
  {
   "cell_type": "code",
   "execution_count": 16,
   "metadata": {},
   "outputs": [
    {
     "data": {
      "text/plain": [
       "True"
      ]
     },
     "execution_count": 16,
     "metadata": {},
     "output_type": "execute_result"
    }
   ],
   "source": [
    "from typing import List\n",
    "from sortedcontainers import SortedList\n",
    "\n",
    "\n",
    "class Solution:\n",
    "    def search(self, nums, left, right):  # 是否存在[left,right]范围内数字\n",
    "        l, r = 0, len(nums) - 1\n",
    "        while l <= r:\n",
    "            m = l + r >> 1\n",
    "            if nums[m] >= left:\n",
    "                r = m - 1\n",
    "            else:\n",
    "                l = m + 1\n",
    "        if l < len(nums) and nums[l] <= right:\n",
    "            return True\n",
    "        return False\n",
    "\n",
    "    def containsNearbyAlmostDuplicate(self, nums: List[int], k: int, t: int) -> bool:\n",
    "        l = 0\n",
    "        sl = SortedList()\n",
    "        for r in range(len(nums)):\n",
    "            while r - l + 1 > k + 1:\n",
    "                sl.remove(nums[l])\n",
    "                l += 1\n",
    "            if self.search(sl, nums[r] - t, nums[r] + t):\n",
    "                return True\n",
    "            sl.add(nums[r])\n",
    "        return False\n",
    "\n",
    "\n",
    "s = Solution()\n",
    "# s.containsNearbyAlmostDuplicate([1, 2, 3, 1], 3, 0)\n",
    "# s.containsNearbyAlmostDuplicate([1, 5, 9, 1, 5, 9], 2, 3)\n",
    "s.containsNearbyAlmostDuplicate([1,0,1,1],1,2)"
   ]
  },
  {
   "cell_type": "code",
   "execution_count": 8,
   "metadata": {},
   "outputs": [
    {
     "data": {
      "text/plain": [
       "SortedList([1, 1])"
      ]
     },
     "execution_count": 8,
     "metadata": {},
     "output_type": "execute_result"
    }
   ],
   "source": [
    "sl = SortedList()\n",
    "sl.add(1)\n",
    "sl.add(1)\n",
    "sl"
   ]
  },
  {
   "cell_type": "code",
   "execution_count": null,
   "metadata": {},
   "outputs": [],
   "source": []
  }
 ],
 "metadata": {
  "interpreter": {
   "hash": "de72d97932d649c6d75aa79b73261cc3e8a1ae5e7cab8a9115f0bbb1518a7af2"
  },
  "kernelspec": {
   "display_name": "Python 3.8.10 64-bit",
   "language": "python",
   "name": "python3"
  },
  "language_info": {
   "codemirror_mode": {
    "name": "ipython",
    "version": 3
   },
   "file_extension": ".py",
   "mimetype": "text/x-python",
   "name": "python",
   "nbconvert_exporter": "python",
   "pygments_lexer": "ipython3",
   "version": "3.8.10"
  },
  "orig_nbformat": 4
 },
 "nbformat": 4,
 "nbformat_minor": 2
}
