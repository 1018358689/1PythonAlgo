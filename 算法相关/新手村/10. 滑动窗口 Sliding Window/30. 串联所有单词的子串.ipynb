{
 "cells": [
  {
   "cell_type": "code",
   "execution_count": 1,
   "metadata": {},
   "outputs": [
    {
     "data": {
      "text/plain": [
       "'ad'"
      ]
     },
     "execution_count": 1,
     "metadata": {},
     "output_type": "execute_result"
    }
   ],
   "source": [
    "s = 'abcdef'\n",
    "s[::3]"
   ]
  },
  {
   "cell_type": "code",
   "execution_count": 3,
   "metadata": {},
   "outputs": [
    {
     "data": {
      "text/plain": [
       "Counter({'a': 1, 'c': 1})"
      ]
     },
     "execution_count": 3,
     "metadata": {},
     "output_type": "execute_result"
    }
   ],
   "source": [
    "from typing import List\n",
    "from collections import Counter\n",
    "Counter(['abc','abc','d'])\n",
    "Counter('abcd'[::2])"
   ]
  },
  {
   "cell_type": "code",
   "execution_count": 1,
   "metadata": {},
   "outputs": [],
   "source": [
    "from typing import List\n",
    "from collections import Counter\n",
    "\n",
    "\n",
    "class Solution:\n",
    "\n",
    "    def findSubstring(self, s: str, words: List[str]) -> List[int]:\n",
    "        step = len(words[0])\n",
    "        length = len(words) * step\n",
    "        target = Counter(words)\n",
    "        res = []\n",
    "        for i in range(len(s) - length + 1):\n",
    "            localCnt = Counter()\n",
    "            j = i\n",
    "            while j <= i + length - step:\n",
    "                if (ns := s[j:j + step]) not in target or localCnt[ns] == target[ns]:\n",
    "                    break\n",
    "                localCnt[ns] += 1\n",
    "                j += step\n",
    "            if localCnt == target:\n",
    "                res.append(i)\n",
    "        return res"
   ]
  },
  {
   "cell_type": "code",
   "execution_count": null,
   "metadata": {},
   "outputs": [],
   "source": [
    "from typing import List\n",
    "from collections import Counter\n",
    "\n",
    "\n",
    "class Solution:\n",
    "\n",
    "    def findSubstring(self, s: str, words: List[str]) -> List[int]:\n",
    "        step = len(words[0])\n",
    "        length = len(words) * step\n",
    "        target = Counter(words)\n",
    "        ans = []\n",
    "        for i in range(len(s) - length + 1):\n",
    "            localCnt = Counter()\n",
    "            j = i\n",
    "            while j + step - i <= length:\n",
    "                cur = s[j:j + step]\n",
    "                if cur not in target or localCnt[cur] == target[cur]:\n",
    "                    break\n",
    "                localCnt[cur] += 1\n",
    "                j += step\n",
    "            if j - i == length:  # localCnt == target:\n",
    "                ans.append(i)\n",
    "        return ans\n"
   ]
  }
 ],
 "metadata": {
  "interpreter": {
   "hash": "97367d2de1780ea7c502b529f25888c1b53c0430a7611816b6c7cf19d8435228"
  },
  "kernelspec": {
   "display_name": "Python 3.10.4 64-bit (windows store)",
   "language": "python",
   "name": "python3"
  },
  "language_info": {
   "codemirror_mode": {
    "name": "ipython",
    "version": 3
   },
   "file_extension": ".py",
   "mimetype": "text/x-python",
   "name": "python",
   "nbconvert_exporter": "python",
   "pygments_lexer": "ipython3",
   "version": "3.10.5"
  },
  "orig_nbformat": 4
 },
 "nbformat": 4,
 "nbformat_minor": 2
}
