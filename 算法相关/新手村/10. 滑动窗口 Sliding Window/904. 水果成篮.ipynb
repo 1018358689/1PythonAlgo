{
 "cells": [
  {
   "cell_type": "code",
   "execution_count": 11,
   "metadata": {},
   "outputs": [
    {
     "data": {
      "text/plain": [
       "3"
      ]
     },
     "execution_count": 11,
     "metadata": {},
     "output_type": "execute_result"
    }
   ],
   "source": [
    "def f(fruits: list):\n",
    "    l, r = 0, 0\n",
    "    ans = 0\n",
    "    cnt = {}\n",
    "    while r < len(fruits):\n",
    "        cnt[fruits[r]] = cnt.get(fruits[r], 0) + 1\n",
    "        while len(cnt) > 2:\n",
    "            cnt[fruits[l]] -= 1\n",
    "            # if cnt[fruits[l]] == 0:\n",
    "            #     cnt.pop(fruits[l])\n",
    "            l += 1\n",
    "        ans = max(ans, r - l + 1)\n",
    "        r += 1\n",
    "    return ans\n",
    "\n",
    "\n",
    "f([1, 2, 1])\n"
   ]
  },
  {
   "cell_type": "code",
   "execution_count": 10,
   "metadata": {},
   "outputs": [
    {
     "data": {
      "text/plain": [
       "3"
      ]
     },
     "execution_count": 10,
     "metadata": {},
     "output_type": "execute_result"
    }
   ],
   "source": [
    "from collections import defaultdict\n",
    "\n",
    "\n",
    "def f(fruits: list):\n",
    "    l, r = 0, 0\n",
    "    ans = 0\n",
    "    cnt = defaultdict(int)\n",
    "    while r < len(fruits):\n",
    "        cnt[fruits[r]] += 1\n",
    "        while len(cnt) > 2:\n",
    "            cnt[fruits[l]] -= 1\n",
    "            if cnt[fruits[l]] == 0:\n",
    "                cnt.pop(fruits[l])\n",
    "            l += 1\n",
    "        ans = max(ans, r - l + 1)\n",
    "        r += 1\n",
    "    return ans\n",
    "\n",
    "\n",
    "f([1, 2, 1])\n"
   ]
  },
  {
   "cell_type": "code",
   "execution_count": null,
   "metadata": {},
   "outputs": [],
   "source": [
    "from typing import List\n",
    "from collections import defaultdict\n",
    "\n",
    "\n",
    "class Solution:\n",
    "\n",
    "    def totalFruit(self, fruits: List[int]) -> int:\n",
    "        cnt = defaultdict(int)\n",
    "        i = 0\n",
    "        ans = 0\n",
    "        for j in range(len(fruits)):\n",
    "            cnt[fruits[j]] += 1\n",
    "            while i <= j and len(cnt) > 2:\n",
    "                cnt[fruits[i]] -= 1\n",
    "                if cnt[fruits[i]] == 0:\n",
    "                    cnt.pop(fruits[i])\n",
    "                i += 1\n",
    "            ans = max(ans, j - i + 1)\n",
    "        return ans"
   ]
  }
 ],
 "metadata": {
  "interpreter": {
   "hash": "a5f34674cfcc9b13426a2d112c686bc132e4ef443f1487e707e7c3787d6bcf89"
  },
  "kernelspec": {
   "display_name": "Python 3.10.4 64-bit (windows store)",
   "language": "python",
   "name": "python3"
  },
  "language_info": {
   "codemirror_mode": {
    "name": "ipython",
    "version": 3
   },
   "file_extension": ".py",
   "mimetype": "text/x-python",
   "name": "python",
   "nbconvert_exporter": "python",
   "pygments_lexer": "ipython3",
   "version": "3.10.4"
  },
  "orig_nbformat": 4
 },
 "nbformat": 4,
 "nbformat_minor": 2
}
