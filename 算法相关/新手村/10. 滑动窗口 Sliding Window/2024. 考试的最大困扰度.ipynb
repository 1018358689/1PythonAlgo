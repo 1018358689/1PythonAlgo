{
 "cells": [
  {
   "cell_type": "code",
   "execution_count": 1,
   "metadata": {},
   "outputs": [
    {
     "data": {
      "text/plain": [
       "4"
      ]
     },
     "execution_count": 1,
     "metadata": {},
     "output_type": "execute_result"
    }
   ],
   "source": [
    "class Solution:\n",
    "\n",
    "    def maxConsecutiveAnswers(self, answerKey: str, k: int) -> int:\n",
    "        # 滑动窗口 窗口第二多元素 <= k\n",
    "        n = len(answerKey)\n",
    "        w = Counter()\n",
    "        l = 0\n",
    "        ans = 0\n",
    "        for r in range(n):\n",
    "            w[answerKey[r]] += 1\n",
    "            while w['T'] > k and w['F'] > k:\n",
    "                w[answerKey[l]] -= 1\n",
    "                l += 1\n",
    "            ans = max(ans, r - l + 1)\n",
    "        return ans"
   ]
  },
  {
   "cell_type": "code",
   "execution_count": 2,
   "metadata": {},
   "outputs": [
    {
     "data": {
      "text/plain": [
       "4"
      ]
     },
     "execution_count": 2,
     "metadata": {},
     "output_type": "execute_result"
    }
   ],
   "source": [
    "class Solution:\n",
    "\n",
    "    def maxConsecutiveAnswers(self, answerKey: str, k: int) -> int:\n",
    "        # 滑动窗口 窗口第二多元素 <= k\n",
    "        n = len(answerKey)\n",
    "        w = Counter()\n",
    "        l = 0\n",
    "        ans = 0\n",
    "        for r in range(n):\n",
    "            w[answerKey[r]] += 1\n",
    "            while r - l + 1 - w.most_common(1)[0][1] > k:\n",
    "                w[answerKey[l]] -= 1\n",
    "                l += 1\n",
    "            ans = max(ans, r - l + 1)\n",
    "        return ans"
   ]
  },
  {
   "cell_type": "code",
   "execution_count": null,
   "metadata": {},
   "outputs": [],
   "source": [
    "class Solution:\n",
    "\n",
    "    def maxConsecutiveAnswers(self, answerKey: str, k: int) -> int:\n",
    "        # 滑动窗口 窗口第二多元素 <= k\n",
    "        n = len(answerKey)\n",
    "        w = Counter()\n",
    "        l = 0\n",
    "        ans = 0\n",
    "        for r in range(n):\n",
    "            w[answerKey[r]] += 1\n",
    "            top2 = w.most_common(2)\n",
    "            while len(top2) == 2 and top2[1][1] > k:\n",
    "                w[answerKey[l]] -= 1\n",
    "                l += 1\n",
    "                top2 = w.most_common(2)\n",
    "            ans = max(ans, r - l + 1)\n",
    "        return ans"
   ]
  }
 ],
 "metadata": {
  "interpreter": {
   "hash": "97367d2de1780ea7c502b529f25888c1b53c0430a7611816b6c7cf19d8435228"
  },
  "kernelspec": {
   "display_name": "Python 3.10.4 64-bit (windows store)",
   "language": "python",
   "name": "python3"
  },
  "language_info": {
   "codemirror_mode": {
    "name": "ipython",
    "version": 3
   },
   "file_extension": ".py",
   "mimetype": "text/x-python",
   "name": "python",
   "nbconvert_exporter": "python",
   "pygments_lexer": "ipython3",
   "version": "3.10.4"
  },
  "orig_nbformat": 4
 },
 "nbformat": 4,
 "nbformat_minor": 2
}
