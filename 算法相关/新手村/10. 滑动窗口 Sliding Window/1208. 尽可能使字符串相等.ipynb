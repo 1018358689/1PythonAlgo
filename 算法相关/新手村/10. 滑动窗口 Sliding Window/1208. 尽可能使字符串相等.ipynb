{
 "cells": [
  {
   "cell_type": "code",
   "execution_count": null,
   "metadata": {},
   "outputs": [],
   "source": [
    "class Solution:\n",
    "\n",
    "    def equalSubstring(self, s: str, t: str, maxCost: int) -> int:\n",
    "        nums = [abs(ord(i) - ord(j)) for i, j in zip(s, t)]\n",
    "        w = l = 0\n",
    "        ans = 0\n",
    "        for r in range(len(nums)):\n",
    "            w += nums[r]\n",
    "            if w > maxCost:\n",
    "                w -= nums[l]\n",
    "                l += 1\n",
    "            ans = max(ans, r - l + 1)\n",
    "        return ans"
   ]
  }
 ],
 "metadata": {
  "language_info": {
   "name": "python"
  },
  "orig_nbformat": 4
 },
 "nbformat": 4,
 "nbformat_minor": 2
}
