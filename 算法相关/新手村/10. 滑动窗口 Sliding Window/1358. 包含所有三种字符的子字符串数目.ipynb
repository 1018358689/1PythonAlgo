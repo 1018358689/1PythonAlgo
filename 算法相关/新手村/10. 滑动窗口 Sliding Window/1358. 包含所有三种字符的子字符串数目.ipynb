{
 "cells": [
  {
   "cell_type": "code",
   "execution_count": null,
   "metadata": {},
   "outputs": [],
   "source": [
    "class Solution:\n",
    "\n",
    "    def numberOfSubstrings(self, s: str) -> int:\n",
    "        n = len(s)\n",
    "        ans = l = 0\n",
    "        w = Counter()\n",
    "        for r in range(n):\n",
    "            w[s[r]] += 1\n",
    "            while len(w) == 3:  # 窗口含有3种字符 进行计算 n - r 也就是和后面元素组成子串 并且收缩\n",
    "                ans += n - r\n",
    "                w[s[l]] -= 1\n",
    "                if w[s[l]] == 0:\n",
    "                    w.pop(s[l])\n",
    "                l += 1\n",
    "        return ans"
   ]
  }
 ],
 "metadata": {
  "language_info": {
   "name": "python"
  },
  "orig_nbformat": 4
 },
 "nbformat": 4,
 "nbformat_minor": 2
}
