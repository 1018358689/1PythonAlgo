{
 "cells": [
  {
   "cell_type": "code",
   "execution_count": null,
   "metadata": {},
   "outputs": [],
   "source": [
    "class Solution:\n",
    "\n",
    "    def kSmallestPairs(self, nums1: List[int], nums2: List[int], k: int) -> List[List[int]]:\n",
    "        # 多路归并\n",
    "        # 由于 nums1和 nums2均已按升序排序，因此每个 nums1[i]参与构成的点序列也为升序排序，这引导我们使用「多路归并」来进行求解。\n",
    "        m, n = len(nums1), len(nums2)\n",
    "        ans = []\n",
    "        pq = [(nums1[i] + nums2[0], i, 0) for i in range(min(m, k))]\n",
    "        while pq and len(ans) < k:\n",
    "            _, i, j = heappop(pq)\n",
    "            ans.append((nums1[i], nums2[j]))\n",
    "            j += 1\n",
    "            if j < n:\n",
    "                heappush(pq, (nums1[i] + nums2[j], i, j))\n",
    "        return ans"
   ]
  }
 ],
 "metadata": {
  "language_info": {
   "name": "python"
  },
  "orig_nbformat": 4
 },
 "nbformat": 4,
 "nbformat_minor": 2
}
