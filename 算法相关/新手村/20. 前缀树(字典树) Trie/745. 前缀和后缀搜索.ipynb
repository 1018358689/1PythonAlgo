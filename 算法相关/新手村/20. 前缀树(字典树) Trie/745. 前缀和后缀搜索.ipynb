{
 "cells": [
  {
   "cell_type": "code",
   "execution_count": 2,
   "metadata": {},
   "outputs": [
    {
     "name": "stdout",
     "output_type": "stream",
     "text": [
      "abba#abba 0 1\n",
      "abbba#abbba 1 0\n"
     ]
    },
    {
     "data": {
      "text/plain": [
       "1"
      ]
     },
     "execution_count": 2,
     "metadata": {},
     "output_type": "execute_result"
    }
   ],
   "source": [
    "# 超时\n",
    "class Node:\n",
    "    def __init__(self):\n",
    "        self.id = -1\n",
    "        self.children = {}\n",
    "\n",
    "\n",
    "class Trie:\n",
    "    def __init__(self):\n",
    "        self.root = Node()\n",
    "\n",
    "    def add(self, word, id):\n",
    "        cur = self.root\n",
    "        for w in word:\n",
    "            if w not in cur.children:\n",
    "                cur.children[w] = Node()\n",
    "            cur = cur.children[w]\n",
    "            cur.id = id\n",
    "\n",
    "    def _dfs(self, pre, word, i):  # pre前驱指针 i待匹配的索引\n",
    "        if i == len(word):\n",
    "            return pre.id\n",
    "        for nei in pre.children:\n",
    "            if word[i] == nei:\n",
    "                sub = self._dfs(pre.children[nei], word, i + 1)\n",
    "            elif word[0] == nei:\n",
    "                sub = self._dfs(pre.children[nei], word, 1)\n",
    "            else:\n",
    "                sub = self._dfs(pre.children[nei], word, 0)\n",
    "            if sub > -1:\n",
    "                return sub\n",
    "        return -1\n",
    "\n",
    "    def search(self, word):\n",
    "        return self._dfs(self.root, word, 0)\n",
    "\n",
    "\n",
    "from typing import List\n",
    "\n",
    "\n",
    "class WordFilter:\n",
    "    def __init__(self, words: List[str]):\n",
    "        self.trie = Trie()\n",
    "        for i, word in enumerate(words[::-1]):\n",
    "            word = f'{word}#{word}'\n",
    "            print(word, i, len(words) - 1 - i)\n",
    "            self.trie.add(word, len(words) - 1 - i)\n",
    "\n",
    "    def f(self, pref: str, suff: str) -> int:\n",
    "        return self.trie.search(f'{suff}#{pref}')\n",
    "\n",
    "\n",
    "# Your WordFilter object will be instantiated and called as such:\n",
    "obj = WordFilter(['abbba', 'abba'])\n",
    "obj.f('ab', 'ba')\n"
   ]
  },
  {
   "cell_type": "code",
   "execution_count": 4,
   "metadata": {},
   "outputs": [
    {
     "data": {
      "text/plain": [
       "1"
      ]
     },
     "execution_count": 4,
     "metadata": {},
     "output_type": "execute_result"
    }
   ],
   "source": [
    "class Node:\n",
    "\n",
    "    def __init__(self):\n",
    "        self.id = -1\n",
    "        self.children = {}\n",
    "\n",
    "\n",
    "class Trie:\n",
    "\n",
    "    def __init__(self):\n",
    "        self.root = Node()\n",
    "\n",
    "    def add(self, word, id):\n",
    "        cur = self.root\n",
    "        for w in word:\n",
    "            if w not in cur.children:\n",
    "                cur.children[w] = Node()\n",
    "            cur = cur.children[w]\n",
    "            cur.id = id\n",
    "\n",
    "    def search(self, word):  # 查询前缀\n",
    "        cur = self.root\n",
    "        for w in word:\n",
    "            if w not in cur.children:\n",
    "                return -1\n",
    "            cur = cur.children[w]\n",
    "        return cur.id\n",
    "\n",
    "\n",
    "from typing import List\n",
    "\n",
    "\n",
    "class WordFilter:\n",
    "\n",
    "    def __init__(self, words: List[str]):\n",
    "        self.trie = Trie()\n",
    "        for id, word in enumerate(words):\n",
    "            lgh = len(word)\n",
    "            word = f'{word}#{word}'\n",
    "            for i in range(lgh):\n",
    "                self.trie.add(word[i:], id)\n",
    "\n",
    "    def f(self, pref: str, suff: str) -> int:\n",
    "        return self.trie.search(f'{suff}#{pref}')\n",
    "\n",
    "\n",
    "# Your WordFilter object will be instantiated and called as such:\n",
    "obj = WordFilter(['abbba', 'abba'])\n",
    "obj.f('ab', 'ba')\n"
   ]
  }
 ],
 "metadata": {
  "kernelspec": {
   "display_name": "Python 3.8.10 64-bit",
   "language": "python",
   "name": "python3"
  },
  "language_info": {
   "codemirror_mode": {
    "name": "ipython",
    "version": 3
   },
   "file_extension": ".py",
   "mimetype": "text/x-python",
   "name": "python",
   "nbconvert_exporter": "python",
   "pygments_lexer": "ipython3",
   "version": "3.8.10"
  },
  "orig_nbformat": 4,
  "vscode": {
   "interpreter": {
    "hash": "570feb405e2e27c949193ac68f46852414290d515b0ba6e5d90d076ed2284471"
   }
  }
 },
 "nbformat": 4,
 "nbformat_minor": 2
}
