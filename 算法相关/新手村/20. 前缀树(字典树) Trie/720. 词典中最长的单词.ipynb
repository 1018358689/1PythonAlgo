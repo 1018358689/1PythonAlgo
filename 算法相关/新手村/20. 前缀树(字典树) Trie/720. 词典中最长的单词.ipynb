{
 "cells": [
  {
   "cell_type": "code",
   "execution_count": 3,
   "metadata": {},
   "outputs": [
    {
     "data": {
      "text/plain": [
       "'apple'"
      ]
     },
     "execution_count": 3,
     "metadata": {},
     "output_type": "execute_result"
    }
   ],
   "source": [
    "class TrieNode:\n",
    "\n",
    "    def __init__(self):\n",
    "        self.isWord = False\n",
    "        self.children = {}\n",
    "\n",
    "\n",
    "class Trie:\n",
    "\n",
    "    def __init__(self):\n",
    "        self.root = TrieNode()\n",
    "\n",
    "    def insert(self, word):\n",
    "        cur = self.root\n",
    "        for w in word:\n",
    "            if w not in cur.children:\n",
    "                cur.children[w] = TrieNode()\n",
    "            cur = cur.children[w]\n",
    "        cur.isWord = True\n",
    "\n",
    "    # def search(self, word):\n",
    "    #     cur = self.root\n",
    "    #     for w in word:\n",
    "    #         if w not in cur.children:\n",
    "    #             return False\n",
    "    #         cur = cur.children[w]\n",
    "    #     return cur.isWord\n",
    "\n",
    "    def search2(self, word):\n",
    "        cur = self.root\n",
    "        for w in word:\n",
    "            if w not in cur.children:\n",
    "                return False\n",
    "            cur = cur.children[w]\n",
    "            if not cur.isWord:\n",
    "                return False\n",
    "        return True\n",
    "\n",
    "    # def preSearch(self, pre):\n",
    "    #     cur = self.root\n",
    "    #     for w in pre:\n",
    "    #         if w not in cur.children:\n",
    "    #             return False\n",
    "    #         cur = cur.children[w]\n",
    "    #     return True\n",
    "\n",
    "\n",
    "def f(words: list):\n",
    "    words.sort(key=lambda x: (-len(x), x))\n",
    "    trie = Trie()\n",
    "    for word in words:\n",
    "        trie.insert(word)\n",
    "    for word in words:\n",
    "        if trie.search2(word):\n",
    "            return word\n",
    "    return ''\n",
    "\n",
    "\n",
    "f([\"a\", \"banana\", \"app\", \"appl\", \"ap\", \"apply\", \"apple\"])"
   ]
  },
  {
   "cell_type": "code",
   "execution_count": null,
   "metadata": {},
   "outputs": [],
   "source": []
  }
 ],
 "metadata": {
  "kernelspec": {
   "display_name": "Python 3.8.10 64-bit",
   "language": "python",
   "name": "python3"
  },
  "language_info": {
   "codemirror_mode": {
    "name": "ipython",
    "version": 3
   },
   "file_extension": ".py",
   "mimetype": "text/x-python",
   "name": "python",
   "nbconvert_exporter": "python",
   "pygments_lexer": "ipython3",
   "version": "3.8.10"
  },
  "orig_nbformat": 4,
  "vscode": {
   "interpreter": {
    "hash": "570feb405e2e27c949193ac68f46852414290d515b0ba6e5d90d076ed2284471"
   }
  }
 },
 "nbformat": 4,
 "nbformat_minor": 2
}
