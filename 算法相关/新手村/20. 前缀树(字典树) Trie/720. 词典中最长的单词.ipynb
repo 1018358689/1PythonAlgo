{
 "cells": [
  {
   "cell_type": "code",
   "execution_count": 3,
   "metadata": {},
   "outputs": [
    {
     "data": {
      "text/plain": [
       "'apple'"
      ]
     },
     "execution_count": 3,
     "metadata": {},
     "output_type": "execute_result"
    }
   ],
   "source": [
    "class TrieNode:\n",
    "\n",
    "    def __init__(self):\n",
    "        self.isWord = False\n",
    "        self.children = {}\n",
    "\n",
    "\n",
    "class Trie:\n",
    "\n",
    "    def __init__(self):\n",
    "        self.root = TrieNode()\n",
    "\n",
    "    def insert(self, word):\n",
    "        cur = self.root\n",
    "        for w in word:\n",
    "            if w not in cur.children:\n",
    "                cur.children[w] = TrieNode()\n",
    "            cur = cur.children[w]\n",
    "        cur.isWord = True\n",
    "\n",
    "    # def search(self, word):\n",
    "    #     cur = self.root\n",
    "    #     for w in word:\n",
    "    #         if w not in cur.children:\n",
    "    #             return False\n",
    "    #         cur = cur.children[w]\n",
    "    #     return cur.isWord\n",
    "\n",
    "    def search2(self, word):\n",
    "        cur = self.root\n",
    "        for w in word:\n",
    "            if w not in cur.children:\n",
    "                return False\n",
    "            cur = cur.children[w]\n",
    "            if not cur.isWord:\n",
    "                return False\n",
    "        return True\n",
    "\n",
    "    # def preSearch(self, pre):\n",
    "    #     cur = self.root\n",
    "    #     for w in pre:\n",
    "    #         if w not in cur.children:\n",
    "    #             return False\n",
    "    #         cur = cur.children[w]\n",
    "    #     return True\n",
    "\n",
    "\n",
    "def f(words: list):\n",
    "    words.sort(key=lambda x: (-len(x), x))\n",
    "    trie = Trie()\n",
    "    for word in words:\n",
    "        trie.insert(word)\n",
    "    for word in words:\n",
    "        if trie.search2(word):\n",
    "            return word\n",
    "    return ''\n",
    "\n",
    "\n",
    "f([\"a\", \"banana\", \"app\", \"appl\", \"ap\", \"apply\", \"apple\"])"
   ]
  },
  {
   "cell_type": "code",
   "execution_count": 6,
   "metadata": {},
   "outputs": [
    {
     "data": {
      "text/plain": [
       "'apple'"
      ]
     },
     "execution_count": 6,
     "metadata": {},
     "output_type": "execute_result"
    }
   ],
   "source": [
    "from typing import List\n",
    "\n",
    "\n",
    "class Node:\n",
    "\n",
    "    def __init__(self) -> None:\n",
    "        self.children = {}\n",
    "        self.end = False\n",
    "\n",
    "\n",
    "class Trie:\n",
    "\n",
    "    def __init__(self) -> None:\n",
    "        self.root = Node()\n",
    "\n",
    "    def insert(self, word: str):\n",
    "        cur = self.root\n",
    "        for w in word:\n",
    "            if w not in cur.children:\n",
    "                cur.children[w] = Node()\n",
    "            cur = cur.children[w]\n",
    "        cur.end = True\n",
    "\n",
    "    def query(self, word: str):\n",
    "        cur = self.root\n",
    "        for w in word:\n",
    "            if w not in cur.children or not cur.children[w].end:\n",
    "                return False\n",
    "            cur = cur.children[w]\n",
    "        return True\n",
    "\n",
    "\n",
    "class Solution:\n",
    "\n",
    "    def longestWord(self, words: List[str]) -> str:\n",
    "        trie = Trie()\n",
    "        for word in words:\n",
    "            trie.insert(word)\n",
    "        words.sort(key=lambda x: (-len(x), x))\n",
    "        for word in words:\n",
    "            if trie.query(word):\n",
    "                return word\n",
    "        return ''\n",
    "\n",
    "\n",
    "s = Solution()\n",
    "s.longestWord([\"a\", \"banana\", \"app\", \"appl\", \"ap\", \"apply\", \"apple\"])\n"
   ]
  },
  {
   "cell_type": "code",
   "execution_count": 13,
   "metadata": {},
   "outputs": [
    {
     "data": {
      "text/plain": [
       "'apple'"
      ]
     },
     "execution_count": 13,
     "metadata": {},
     "output_type": "execute_result"
    }
   ],
   "source": [
    "from typing import List\n",
    "from collections import deque\n",
    "\n",
    "\n",
    "class Solution:\n",
    "\n",
    "    def longestWord(self, words: List[str]) -> str:\n",
    "        neis = [chr(i) for i in range(ord('a'), ord('z') + 1)]\n",
    "        q = deque([word for word in words if len(word) == 1])\n",
    "        words = set(words)\n",
    "        ans = ''\n",
    "        while q:\n",
    "            cur = q.popleft()\n",
    "            ans = min(ans, cur, key=lambda x: (-len(x), x))\n",
    "            for w in neis:\n",
    "                nei = cur + w\n",
    "                if nei in words:\n",
    "                    q.append(nei)\n",
    "        return ans\n",
    "\n",
    "\n",
    "s = Solution()\n",
    "s.longestWord([\"a\", \"banana\", \"app\", \"appl\", \"ap\", \"apply\", \"apple\"])\n"
   ]
  },
  {
   "cell_type": "code",
   "execution_count": null,
   "metadata": {},
   "outputs": [],
   "source": []
  }
 ],
 "metadata": {
  "kernelspec": {
   "display_name": "Python 3.10.6 64-bit",
   "language": "python",
   "name": "python3"
  },
  "language_info": {
   "codemirror_mode": {
    "name": "ipython",
    "version": 3
   },
   "file_extension": ".py",
   "mimetype": "text/x-python",
   "name": "python",
   "nbconvert_exporter": "python",
   "pygments_lexer": "ipython3",
   "version": "3.10.6"
  },
  "orig_nbformat": 4,
  "vscode": {
   "interpreter": {
    "hash": "dfbf064e0f2c8839bc658dd75dfc0b8f09a0440078cae3024109b27659b69d06"
   }
  }
 },
 "nbformat": 4,
 "nbformat_minor": 2
}
