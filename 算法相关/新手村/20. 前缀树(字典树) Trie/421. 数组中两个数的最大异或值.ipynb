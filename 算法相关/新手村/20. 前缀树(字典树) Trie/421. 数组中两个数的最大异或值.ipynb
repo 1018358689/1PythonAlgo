{
 "cells": [
  {
   "cell_type": "code",
   "execution_count": 12,
   "metadata": {},
   "outputs": [
    {
     "data": {
      "text/plain": [
       "28"
      ]
     },
     "execution_count": 12,
     "metadata": {},
     "output_type": "execute_result"
    }
   ],
   "source": [
    "from typing import List\n",
    "\n",
    "\n",
    "class Node:\n",
    "\n",
    "    def __init__(self) -> None:\n",
    "        self.children = {}\n",
    "\n",
    "\n",
    "class Trie:\n",
    "\n",
    "    def __init__(self) -> None:\n",
    "        self.root = Node()\n",
    "\n",
    "    def add(self, num):  # 从32位向0位依次加入字典树\n",
    "        cur = self.root\n",
    "        for i in range(31, -1, -1):\n",
    "            v = (num >> i) & 1\n",
    "            if v not in cur.children:\n",
    "                cur.children[v] = Node()\n",
    "            cur = cur.children[v]\n",
    "\n",
    "    def query(self, num):  # num异或字典树后的最大值\n",
    "        cur = self.root\n",
    "        ans = 0\n",
    "        for i in range(31, -1, -1):\n",
    "            v = (num >> i) & 1\n",
    "            ans <<= 1\n",
    "            if 1 - v in cur.children:  # 异值存在则走那条路\n",
    "                ans |= 1\n",
    "                cur = cur.children[1 - v]\n",
    "            else:\n",
    "                cur = cur.children[v]\n",
    "        return ans\n",
    "\n",
    "\n",
    "class Solution:\n",
    "\n",
    "    def findMaximumXOR(self, nums: List[int]) -> int:\n",
    "        trie = Trie()\n",
    "        for n in nums:\n",
    "            trie.add(n)\n",
    "        ans = 0\n",
    "        for n in nums:\n",
    "            ans = max(ans, trie.query(n))\n",
    "        return ans\n",
    "\n",
    "\n",
    "s = Solution()\n",
    "s.findMaximumXOR([3, 10, 5, 25, 2, 8])\n"
   ]
  },
  {
   "cell_type": "code",
   "execution_count": 13,
   "metadata": {},
   "outputs": [
    {
     "data": {
      "text/plain": [
       "'0b1001'"
      ]
     },
     "execution_count": 13,
     "metadata": {},
     "output_type": "execute_result"
    }
   ],
   "source": [
    "bin(9)"
   ]
  },
  {
   "cell_type": "code",
   "execution_count": 1,
   "metadata": {},
   "outputs": [
    {
     "data": {
      "text/plain": [
       "28"
      ]
     },
     "execution_count": 1,
     "metadata": {},
     "output_type": "execute_result"
    }
   ],
   "source": [
    "from typing import List\n",
    "\n",
    "\n",
    "class Node:\n",
    "\n",
    "    def __init__(self) -> None:\n",
    "        self.children = {}\n",
    "\n",
    "\n",
    "class Trie:\n",
    "\n",
    "    def __init__(self, L) -> None:\n",
    "        self.root = Node()\n",
    "        self.L = L\n",
    "\n",
    "    def add(self, num):  # 从高位向低位依次加入字典树\n",
    "        cur = self.root\n",
    "        for i in range(self.L - 1, -1, -1):\n",
    "            v = (num >> i) & 1\n",
    "            if v not in cur.children:\n",
    "                cur.children[v] = Node()\n",
    "            cur = cur.children[v]\n",
    "\n",
    "    def query(self, num):  # num异或字典树后的最大值\n",
    "        cur = self.root\n",
    "        ans = 0\n",
    "        for i in range(self.L - 1, -1, -1):\n",
    "            v = (num >> i) & 1\n",
    "            ans <<= 1\n",
    "            if 1 - v in cur.children:  # 异值存在则走那条路\n",
    "                ans |= 1\n",
    "                cur = cur.children[1 - v]\n",
    "            else:\n",
    "                cur = cur.children[v]\n",
    "        return ans\n",
    "\n",
    "\n",
    "class Solution:\n",
    "\n",
    "    def findMaximumXOR(self, nums: List[int]) -> int:\n",
    "        L = max(len(bin(n)) - 2 for n in nums)\n",
    "        trie = Trie(L)\n",
    "        for n in nums:\n",
    "            trie.add(n)\n",
    "        ans = 0\n",
    "        for n in nums:\n",
    "            ans = max(ans, trie.query(n))\n",
    "        return ans\n",
    "\n",
    "\n",
    "s = Solution()\n",
    "s.findMaximumXOR([3, 10, 5, 25, 2, 8])\n"
   ]
  },
  {
   "cell_type": "code",
   "execution_count": 5,
   "metadata": {},
   "outputs": [
    {
     "data": {
      "text/plain": [
       "1"
      ]
     },
     "execution_count": 5,
     "metadata": {},
     "output_type": "execute_result"
    }
   ],
   "source": [
    "0^1"
   ]
  },
  {
   "cell_type": "code",
   "execution_count": null,
   "metadata": {},
   "outputs": [],
   "source": []
  }
 ],
 "metadata": {
  "kernelspec": {
   "display_name": "Python 3",
   "language": "python",
   "name": "python3"
  },
  "language_info": {
   "codemirror_mode": {
    "name": "ipython",
    "version": 3
   },
   "file_extension": ".py",
   "mimetype": "text/x-python",
   "name": "python",
   "nbconvert_exporter": "python",
   "pygments_lexer": "ipython3",
   "version": "3.11.1 (v3.11.1:a7a450f84a, Dec  6 2022, 15:24:06) [Clang 13.0.0 (clang-1300.0.29.30)]"
  },
  "orig_nbformat": 4,
  "vscode": {
   "interpreter": {
    "hash": "aee8b7b246df8f9039afb4144a1f6fd8d2ca17a180786b69acc140d282b71a49"
   }
  }
 },
 "nbformat": 4,
 "nbformat_minor": 2
}
