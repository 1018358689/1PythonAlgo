{
 "cells": [
  {
   "cell_type": "code",
   "execution_count": null,
   "metadata": {},
   "outputs": [],
   "source": [
    "class Node:\n",
    "\n",
    "    def __init__(self):\n",
    "        self.child = {}\n",
    "\n",
    "\n",
    "class Trie:\n",
    "\n",
    "    def __init__(self):\n",
    "        self.root = Node()\n",
    "\n",
    "    def add(self, word):\n",
    "        x = self.root\n",
    "        for w in word:\n",
    "            if w not in x.child:\n",
    "                x.child[w] = Node()\n",
    "            x = x.child[w]\n",
    "\n",
    "    def query(self, word):  # 是否前缀\n",
    "        x = self.root\n",
    "        for w in word:\n",
    "            if w not in x.child: return False\n",
    "            x = x.child[w]\n",
    "        return True\n",
    "\n",
    "\n",
    "class Solution:\n",
    "\n",
    "    def minimumLengthEncoding(self, words: List[str]) -> int:\n",
    "        ans = 0\n",
    "        trie = Trie()\n",
    "        for x in sorted(words, key=lambda x: -len(x)):\n",
    "            if not trie.query(x[::-1]):\n",
    "                trie.add(x[::-1])\n",
    "                ans += len(x) + 1\n",
    "        return ans"
   ]
  }
 ],
 "metadata": {
  "language_info": {
   "name": "python"
  },
  "orig_nbformat": 4
 },
 "nbformat": 4,
 "nbformat_minor": 2
}
