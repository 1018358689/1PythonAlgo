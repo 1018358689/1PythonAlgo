{
 "cells": [
  {
   "cell_type": "code",
   "execution_count": null,
   "metadata": {},
   "outputs": [],
   "source": [
    "class Node:\n",
    "\n",
    "    def __init__(self) -> None:\n",
    "        self.children = {}\n",
    "        self.val = 0\n",
    "\n",
    "\n",
    "class Trie:\n",
    "\n",
    "    def __init__(self) -> None:\n",
    "        self.root = Node()\n",
    "\n",
    "    def add(self, word):\n",
    "        cur = self.root\n",
    "        for w in word:\n",
    "            if w not in cur.children:\n",
    "                cur.children[w] = Node()\n",
    "            cur = cur.children[w]\n",
    "            cur.val += 1\n",
    "\n",
    "    def query(self, word):\n",
    "        cur = self.root\n",
    "        ans = 0\n",
    "        for w in word:\n",
    "            cur = cur.children[w]\n",
    "            ans += cur.val\n",
    "        return ans\n",
    "\n",
    "\n",
    "from typing import List\n",
    "\n",
    "\n",
    "class Solution:\n",
    "\n",
    "    def sumPrefixScores(self, words: List[str]) -> List[int]:\n",
    "        trie = Trie()\n",
    "        for word in words:\n",
    "            trie.add(word)\n",
    "        return [trie.query(word) for word in words]"
   ]
  }
 ],
 "metadata": {
  "language_info": {
   "name": "python"
  },
  "orig_nbformat": 4
 },
 "nbformat": 4,
 "nbformat_minor": 2
}
