{
 "cells": [
  {
   "cell_type": "code",
   "execution_count": null,
   "metadata": {},
   "outputs": [],
   "source": [
    "from typing import List\n",
    "\n",
    "\n",
    "class Node:\n",
    "    def __init__(self):\n",
    "        self.end = False\n",
    "        self.children = {}\n",
    "\n",
    "\n",
    "class Trie:\n",
    "    def __init__(self):\n",
    "        self.root = Node()\n",
    "\n",
    "    def add(self, word):\n",
    "        cur = self.root\n",
    "        for w in word:\n",
    "            if w not in cur.children:\n",
    "                cur.children[w] = Node()\n",
    "            cur = cur.children[w]\n",
    "        cur.end = True\n",
    "\n",
    "    def dfs(self, cur, word, i, cnt):  # cur初始self.root\n",
    "        # 前驱指针 单词 所查索引 不同字母次数\n",
    "        if cnt > 1:\n",
    "            return False\n",
    "        if i == len(word):\n",
    "            return cnt == 1 and cur.end\n",
    "        for nei in cur.children:\n",
    "            if self.dfs(cur.children[nei], word, i + 1, cnt + int(word[i] != nei)):\n",
    "                return True\n",
    "        return False\n",
    "\n",
    "\n",
    "class MagicDictionary:\n",
    "    def __init__(self):\n",
    "        \"\"\"\n",
    "        Initialize your data structure here.\n",
    "        \"\"\"\n",
    "        self.trie = Trie()\n",
    "\n",
    "    def buildDict(self, dictionary: List[str]) -> None:\n",
    "        for word in dictionary:\n",
    "            self.trie.add(word)\n",
    "\n",
    "    def search(self, searchWord: str) -> bool:\n",
    "        return self.trie.dfs(self.trie.root, searchWord, 0, 0)\n",
    "\n",
    "\n",
    "# Your MagicDictionary object will be instantiated and called as such:\n",
    "# obj = MagicDictionary()\n",
    "# obj.buildDict(dictionary)\n",
    "# param_2 = obj.search(searchWord)\n"
   ]
  }
 ],
 "metadata": {
  "kernelspec": {
   "display_name": "Python 3.8.10 64-bit",
   "language": "python",
   "name": "python3"
  },
  "language_info": {
   "name": "python",
   "version": "3.8.10"
  },
  "orig_nbformat": 4,
  "vscode": {
   "interpreter": {
    "hash": "570feb405e2e27c949193ac68f46852414290d515b0ba6e5d90d076ed2284471"
   }
  }
 },
 "nbformat": 4,
 "nbformat_minor": 2
}
