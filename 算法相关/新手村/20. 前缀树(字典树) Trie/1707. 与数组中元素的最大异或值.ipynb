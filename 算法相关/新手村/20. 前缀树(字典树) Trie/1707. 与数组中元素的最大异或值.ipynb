{
 "cells": [
  {
   "cell_type": "code",
   "execution_count": 2,
   "metadata": {},
   "outputs": [
    {
     "data": {
      "text/plain": [
       "[3, 3, 7]"
      ]
     },
     "execution_count": 2,
     "metadata": {},
     "output_type": "execute_result"
    }
   ],
   "source": [
    "from typing import List\n",
    "import bisect\n",
    "\n",
    "\n",
    "class Solution:\n",
    "\n",
    "    def maximizeXor(self, nums: List[int], queries: List[List[int]]) -> List[int]:\n",
    "        nums.sort()\n",
    "        ans = []\n",
    "        for x, m in queries:\n",
    "            idx = bisect.bisect_right(nums, m)\n",
    "            if idx == 0:\n",
    "                ans.append(-1)\n",
    "            else:\n",
    "                tmp = 0\n",
    "                for i in range(idx):\n",
    "                    tmp = max(tmp, x ^ nums[i])\n",
    "                ans.append(tmp)\n",
    "        return ans\n",
    "\n",
    "\n",
    "s = Solution()\n",
    "s.maximizeXor([0, 1, 2, 3, 4], [[3, 1], [1, 3], [5, 6]])\n"
   ]
  },
  {
   "cell_type": "code",
   "execution_count": 20,
   "metadata": {},
   "outputs": [
    {
     "data": {
      "text/plain": [
       "[1001829712,\n",
       " 976932069,\n",
       " 1072246692,\n",
       " 1041598465,\n",
       " 31424324,\n",
       " 4255337,\n",
       " 128806273,\n",
       " 178019674,\n",
       " 263459742,\n",
       " 231792511,\n",
       " 982548942,\n",
       " 1037028800,\n",
       " 991482855,\n",
       " 976932069,\n",
       " 1056452030,\n",
       " 86220796,\n",
       " 1069985118,\n",
       " 927949563,\n",
       " 992794696,\n",
       " 995270069]"
      ]
     },
     "execution_count": 20,
     "metadata": {},
     "output_type": "execute_result"
    }
   ],
   "source": [
    "from typing import List\n",
    "import bisect\n",
    "\n",
    "\n",
    "class Node:\n",
    "\n",
    "    def __init__(self) -> None:\n",
    "        self.children = {}\n",
    "\n",
    "\n",
    "class Trie:\n",
    "\n",
    "    def __init__(self, maxLgh) -> None:\n",
    "        self.root = Node()\n",
    "        self.maxLgh = maxLgh\n",
    "\n",
    "    def add(self, num):  # 从高位到低位添加num\n",
    "        cur = self.root\n",
    "        for i in range(self.maxLgh - 1, -1, -1):\n",
    "            v = (num >> i) & 1\n",
    "            if v not in cur.children:\n",
    "                cur.children[v] = Node()\n",
    "            cur = cur.children[v]\n",
    "\n",
    "    def query(self, num):  # 查询num在字典树中最大异或值\n",
    "        cur = self.root\n",
    "        ans = 0\n",
    "        for i in range(self.maxLgh - 1, -1, -1):\n",
    "            ans <<= 1\n",
    "            v = (num >> i) & 1\n",
    "            if 1 - v in cur.children:\n",
    "                ans |= 1\n",
    "                cur = cur.children[1 - v]\n",
    "            else:\n",
    "                cur = cur.children[v]\n",
    "        return ans\n",
    "\n",
    "\n",
    "from typing import List\n",
    "\n",
    "\n",
    "class Solution:\n",
    "\n",
    "    def maximizeXor(self, nums: List[int], queries: List[List[int]]) -> List[int]:\n",
    "        # sourcery skip: remove-unnecessary-else\n",
    "        nums.sort()\n",
    "        # ha = {tuple(q): i for i, q in enumerate(queries)} # 重复queries会出错\n",
    "        # queries.sort(key=lambda x: x[1])\n",
    "        maxLgh = max(max(len(bin(n)) - 2 for n in nums), max(len(bin(x)) - 2 for x, m in queries))\n",
    "        trie = Trie(maxLgh)\n",
    "        ans = [-1] * (len(queries))\n",
    "        i = 0\n",
    "        for j, (x, m) in sorted(enumerate(queries), key=lambda x: x[1][1]):\n",
    "            idx = bisect.bisect_right(nums, m)\n",
    "            if idx == 0:\n",
    "                continue\n",
    "            else:\n",
    "                while i < idx:\n",
    "                    trie.add(nums[i])\n",
    "                    i += 1\n",
    "                ans[j] = trie.query(x)\n",
    "        return ans\n",
    "\n",
    "\n",
    "s = Solution()\n",
    "# s.maximizeXor([0, 1, 2, 3, 4], [[3, 1], [1, 3], [5, 6]])\n",
    "# s.maximizeXor([5, 2, 4, 6, 6, 3], [[12, 4], [8, 1], [6, 3]])\n",
    "s.maximizeXor([760625198, 15138539, 61033, 267654046, 133000577, 229497, 155443, 109330, 13340119, 8260519, 981126373, 441631490, 498767021, 171522247, 503991705, 11276686, 176397, 23247190, 472734721, 243117401],\n",
    "              [[383815038, 1000000000], [4194304, 1000000000], [633072806, 981082380], [875344070, 965383924], [31380566, 64633365], [4194304, 91884], [4194304, 158853440], [10839453, 224610550], [4194304, 349538162],\n",
    "               [171815678, 403214196], [15355179, 1000000000], [938931463, 441640682], [23207682, 1000000000], [4194304, 1000000000], [75686235, 1000000000], [86208917, 259012], [905942425, 1000000000], [692399970, 1000000000],\n",
    "               [22418605, 1000000000], [369403291, 1000000000]])\n"
   ]
  },
  {
   "cell_type": "code",
   "execution_count": 30,
   "metadata": {},
   "outputs": [
    {
     "name": "stdout",
     "output_type": "stream",
     "text": [
      "0 1 {}\n",
      "2 2 {0: <__main__.Node object at 0x000000000772BB80>}\n",
      "3 0 {0: <__main__.Node object at 0x000000000772BB80>}\n"
     ]
    },
    {
     "data": {
      "text/plain": [
       "[15, -1, 5]"
      ]
     },
     "execution_count": 30,
     "metadata": {},
     "output_type": "execute_result"
    }
   ],
   "source": [
    "from typing import List\n",
    "\n",
    "\n",
    "class Node:\n",
    "\n",
    "    def __init__(self) -> None:\n",
    "        self.children = {}\n",
    "\n",
    "\n",
    "class Trie:\n",
    "\n",
    "    def __init__(self, maxLgh) -> None:\n",
    "        self.root = Node()\n",
    "        self.maxLgh = maxLgh\n",
    "\n",
    "    def add(self, num):  # 从高位到低位添加num\n",
    "        cur = self.root\n",
    "        for i in range(self.maxLgh - 1, -1, -1):\n",
    "            v = (num >> i) & 1\n",
    "            if v not in cur.children:\n",
    "                cur.children[v] = Node()\n",
    "            cur = cur.children[v]\n",
    "\n",
    "    def query(self, num):  # 查询num在字典树中最大异或值\n",
    "        cur = self.root\n",
    "        ans = 0\n",
    "        for i in range(self.maxLgh - 1, -1, -1):\n",
    "            ans <<= 1\n",
    "            v = (num >> i) & 1\n",
    "            if 1 - v in cur.children:\n",
    "                ans |= 1\n",
    "                cur = cur.children[1 - v]\n",
    "            elif v in cur.children:\n",
    "                cur = cur.children[v]\n",
    "            else:  # 针对空树\n",
    "                return -1\n",
    "        return ans\n",
    "\n",
    "\n",
    "from typing import List\n",
    "\n",
    "\n",
    "class Solution:\n",
    "\n",
    "    def maximizeXor(self, nums: List[int], queries: List[List[int]]) -> List[int]:\n",
    "        # sourcery skip: remove-unnecessary-else\n",
    "        nums.sort()\n",
    "        # ha = {tuple(q): i for i, q in enumerate(queries)} # 重复queries会出错\n",
    "        # queries.sort(key=lambda x: x[1])\n",
    "        maxLgh = max(max(len(bin(n)) - 2 for n in nums), max(len(bin(x)) - 2 for x, m in queries))\n",
    "        trie = Trie(maxLgh)\n",
    "        ans = [-1] * (len(queries))\n",
    "        i = 0\n",
    "        for j, (x, m) in sorted(enumerate(queries), key=lambda x: x[1][1]):\n",
    "            while i < len(nums) and nums[i] <= m:\n",
    "                trie.add(nums[i])\n",
    "                i += 1\n",
    "            ans[j] = trie.query(x)\n",
    "        return ans\n",
    "\n",
    "\n",
    "s = Solution()\n",
    "# s.maximizeXor([0, 1, 2, 3, 4], [[3, 1], [1, 3], [5, 6]])\n",
    "s.maximizeXor([5, 2, 4, 6, 6, 3], [[12, 4], [8, 1], [6, 3]])\n"
   ]
  },
  {
   "cell_type": "code",
   "execution_count": null,
   "metadata": {},
   "outputs": [],
   "source": []
  }
 ],
 "metadata": {
  "kernelspec": {
   "display_name": "Python 3.10.5 64-bit",
   "language": "python",
   "name": "python3"
  },
  "language_info": {
   "codemirror_mode": {
    "name": "ipython",
    "version": 3
   },
   "file_extension": ".py",
   "mimetype": "text/x-python",
   "name": "python",
   "nbconvert_exporter": "python",
   "pygments_lexer": "ipython3",
   "version": "3.10.5"
  },
  "orig_nbformat": 4,
  "vscode": {
   "interpreter": {
    "hash": "3196968d684371006099b3d55edeef8ed90365227a30deaef86e5d4aa8519be0"
   }
  }
 },
 "nbformat": 4,
 "nbformat_minor": 2
}
