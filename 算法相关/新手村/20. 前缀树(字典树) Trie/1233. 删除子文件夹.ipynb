{
 "cells": [
  {
   "cell_type": "code",
   "execution_count": 1,
   "metadata": {},
   "outputs": [],
   "source": [
    "from typing import List\n",
    "\n",
    "\n",
    "class Node:\n",
    "\n",
    "    def __init__(self):\n",
    "        self.children = {}\n",
    "        self.end = False\n",
    "\n",
    "\n",
    "class Trie:\n",
    "\n",
    "    def __init__(self):\n",
    "        self.root = Node()\n",
    "\n",
    "    def add(self, word):\n",
    "        cur = self.root\n",
    "        for w in word:\n",
    "            if w not in cur.children:\n",
    "                cur.children[w] = Node()\n",
    "            elif cur.children[w].end:\n",
    "                return False\n",
    "            cur = cur.children[w]\n",
    "        cur.end = True\n",
    "        return True\n",
    "\n",
    "\n",
    "class Solution:\n",
    "\n",
    "    def removeSubfolders(self, folder: List[str]) -> List[str]:\n",
    "        folder = sorted((f.split('/') for f in folder), key=len)\n",
    "        trie = Trie()\n",
    "        return ['/'.join(f) for f in folder if trie.add(f)]\n"
   ]
  },
  {
   "cell_type": "code",
   "execution_count": null,
   "metadata": {},
   "outputs": [],
   "source": [
    "from typing import List\n",
    "\n",
    "\n",
    "class Node:\n",
    "\n",
    "    def __init__(self):\n",
    "        self.children = {}\n",
    "        self.end = False\n",
    "\n",
    "\n",
    "class Trie:\n",
    "\n",
    "    def __init__(self):\n",
    "        self.root = Node()\n",
    "\n",
    "    def add(self, word):\n",
    "        cur = self.root\n",
    "        for w in word:\n",
    "            if w not in cur.children:\n",
    "                cur.children[w] = Node()\n",
    "            cur = cur.children[w]\n",
    "        cur.end = True\n",
    "\n",
    "    def query(self):\n",
    "        ans = []\n",
    "\n",
    "        def dfs(root: Node, path):\n",
    "            if root.end:\n",
    "                ans.append('/'.join(path))\n",
    "                return\n",
    "            for child in root.children:\n",
    "                dfs(root.children[child], path + [child])\n",
    "\n",
    "        dfs(self.root, [])\n",
    "        return ans\n",
    "\n",
    "\n",
    "class Solution:\n",
    "\n",
    "    def removeSubfolders(self, folder: List[str]) -> List[str]:\n",
    "        trie = Trie()\n",
    "        for f in folder:\n",
    "            f = f.split('/')\n",
    "            trie.add(f)\n",
    "        return trie.query()\n"
   ]
  }
 ],
 "metadata": {
  "kernelspec": {
   "display_name": "Python 3",
   "language": "python",
   "name": "python3"
  },
  "language_info": {
   "codemirror_mode": {
    "name": "ipython",
    "version": 3
   },
   "file_extension": ".py",
   "mimetype": "text/x-python",
   "name": "python",
   "nbconvert_exporter": "python",
   "pygments_lexer": "ipython3",
   "version": "3.10.6"
  },
  "orig_nbformat": 4,
  "vscode": {
   "interpreter": {
    "hash": "dfbf064e0f2c8839bc658dd75dfc0b8f09a0440078cae3024109b27659b69d06"
   }
  }
 },
 "nbformat": 4,
 "nbformat_minor": 2
}
