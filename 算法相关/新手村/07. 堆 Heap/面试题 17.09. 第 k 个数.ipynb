{
 "cells": [
  {
   "cell_type": "code",
   "execution_count": null,
   "metadata": {},
   "outputs": [],
   "source": [
    "import heapq\n",
    "\n",
    "\n",
    "class Solution:\n",
    "\n",
    "    def getKthMagicNumber(self, k: int) -> int:\n",
    "        pq = [1]\n",
    "        vis = {1}\n",
    "        for _ in range(k):\n",
    "            cur = heapq.heappop(pq)\n",
    "            for n in {3, 5, 7}:\n",
    "                if (nei := cur * n) not in vis:\n",
    "                    vis.add(nei)\n",
    "                    heapq.heappush(pq, nei)\n",
    "        return cur\n"
   ]
  }
 ],
 "metadata": {
  "language_info": {
   "name": "python"
  },
  "orig_nbformat": 4
 },
 "nbformat": 4,
 "nbformat_minor": 2
}
