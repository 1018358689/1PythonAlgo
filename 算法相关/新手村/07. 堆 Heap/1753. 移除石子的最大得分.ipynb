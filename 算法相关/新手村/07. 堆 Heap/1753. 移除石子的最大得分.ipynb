{
 "cells": [
  {
   "cell_type": "code",
   "execution_count": 1,
   "metadata": {},
   "outputs": [],
   "source": [
    "from sortedcontainers import SortedList\n",
    "sl = SortedList([1,2,3])\n",
    "sl.discard(sl[-1])"
   ]
  },
  {
   "cell_type": "code",
   "execution_count": 2,
   "metadata": {},
   "outputs": [],
   "source": [
    "from sortedcontainers import SortedList\n",
    "\n",
    "\n",
    "class Solution:\n",
    "\n",
    "    def maximumScore(self, a: int, b: int, c: int) -> int:\n",
    "        val = 0\n",
    "        sl = SortedList([a, b, c])\n",
    "        cnt = 0\n",
    "        while val < 2:\n",
    "            t1, t2 = sl[-1], sl[-2]\n",
    "            sl.discard(t1)\n",
    "            sl.discard(t2)\n",
    "            sl.add(t1 - 1)\n",
    "            sl.add(t2 - 1)\n",
    "            if t1 - 1 == 0:\n",
    "                val += 1\n",
    "            if t2 - 1 == 0:\n",
    "                val += 1\n",
    "            cnt += 1\n",
    "        return cnt"
   ]
  },
  {
   "cell_type": "code",
   "execution_count": null,
   "metadata": {},
   "outputs": [],
   "source": [
    "import heapq\n",
    "\n",
    "\n",
    "class Solution:\n",
    "\n",
    "    def maximumScore(self, a: int, b: int, c: int) -> int:\n",
    "        val = 0\n",
    "        pq = [-a, -b, -c]\n",
    "        heapq.heapify(pq)\n",
    "        cnt = 0\n",
    "        while val < 2:\n",
    "            t1, t2 = heapq.heappop(pq), heapq.heappop(pq)\n",
    "            val += -t1 - 1 == 0\n",
    "            val += -t2 - 1 == 0\n",
    "            heapq.heappush(pq, t1 + 1)\n",
    "            heapq.heappush(pq, t2 + 1)\n",
    "            cnt += 1\n",
    "        return cnt"
   ]
  }
 ],
 "metadata": {
  "kernelspec": {
   "display_name": "Python 3",
   "language": "python",
   "name": "python3"
  },
  "language_info": {
   "codemirror_mode": {
    "name": "ipython",
    "version": 3
   },
   "file_extension": ".py",
   "mimetype": "text/x-python",
   "name": "python",
   "nbconvert_exporter": "python",
   "pygments_lexer": "ipython3",
   "version": "3.11.1"
  },
  "orig_nbformat": 4,
  "vscode": {
   "interpreter": {
    "hash": "ff4b1fca65a764b45acb559e482afe389d289dd599b9f8c5fd12ff5c2ea46a65"
   }
  }
 },
 "nbformat": 4,
 "nbformat_minor": 2
}
