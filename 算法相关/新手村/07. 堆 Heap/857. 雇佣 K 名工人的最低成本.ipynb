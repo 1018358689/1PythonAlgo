{
 "cells": [
  {
   "cell_type": "code",
   "execution_count": 1,
   "metadata": {},
   "outputs": [],
   "source": [
    "from typing import List\n",
    "import heapq\n",
    "\n",
    "\n",
    "class Solution:\n",
    "\n",
    "    def mincostToHireWorkers(self, quality: List[int], wage: List[int], k: int) -> float:\n",
    "        ans = float('inf')\n",
    "        pq = []  # 最大堆存前几名质量\n",
    "        total = 0  # 质量和\n",
    "        for r, q in sorted((w / q, q) for q, w in zip(quality, wage)):\n",
    "            # r为基准 k个数据取r最大作为计算\n",
    "            if len(pq) >= k:  # 保持pq为k-1大小 方便加入r对应的q 使大小变为k\n",
    "                total += heapq.heappop(pq)\n",
    "            heapq.heappush(pq, -q)\n",
    "            total += q\n",
    "            if len(pq) == k:\n",
    "                ans = min(ans, r * total)\n",
    "        return ans"
   ]
  },
  {
   "cell_type": "code",
   "execution_count": null,
   "metadata": {},
   "outputs": [],
   "source": [
    "from math import inf\n",
    "from typing import List\n",
    "import heapq\n",
    "\n",
    "\n",
    "class Solution:\n",
    "\n",
    "    def mincostToHireWorkers(self, quality: List[int], wage: List[int], k: int) -> float:\n",
    "        # w/q 单位工作质量所要付的钱 一个小组要以最高w/q为基准 那就保证小组质量和要最小\n",
    "        ans = inf\n",
    "        pq = [] # 小组\n",
    "        for r, q in sorted((w / q, q) for q, w in zip(quality, wage)):\n",
    "            heapq.heappush(pq, -q)\n",
    "            while len(pq) > k: # 保持窗口大小k\n",
    "                heapq.heappop(pq) # 弹出质量最大的\n",
    "            if len(pq) == k:\n",
    "                ans = min(ans, -sum(pq) * r)\n",
    "        return ans"
   ]
  },
  {
   "cell_type": "code",
   "execution_count": 10,
   "metadata": {},
   "outputs": [
    {
     "data": {
      "text/plain": [
       "105.0"
      ]
     },
     "execution_count": 10,
     "metadata": {},
     "output_type": "execute_result"
    }
   ],
   "source": [
    "from math import inf\n",
    "from typing import List\n",
    "import heapq\n",
    "\n",
    "\n",
    "class Solution:\n",
    "\n",
    "    def mincostToHireWorkers(self, quality: List[int], wage: List[int], k: int) -> float:\n",
    "        # w/q 单位工作质量所要付的钱 一个小组要以最高w/q为基准 那就保证小组质量和要最小\n",
    "        rq = sorted((w / q, q) for q, w in zip(quality, wage))\n",
    "        pq = []  # 小组\n",
    "        for r, q in rq[:k]:\n",
    "            heapq.heappush(pq, -q)\n",
    "        tot = sum(pq)\n",
    "        heapq.heapify(pq)\n",
    "        ans = -tot * r\n",
    "        for r, q in rq[k:]:\n",
    "            heapq.heappush(pq, -q)\n",
    "            tot += -q\n",
    "            tot -= heapq.heappop(pq)\n",
    "            ans = min(ans, -tot * r)\n",
    "        return ans\n",
    "\n",
    "\n",
    "s = Solution()\n",
    "s.mincostToHireWorkers([10, 20, 5], [70, 50, 30], 2)\n"
   ]
  },
  {
   "cell_type": "code",
   "execution_count": 11,
   "metadata": {},
   "outputs": [
    {
     "data": {
      "text/plain": [
       "105.0"
      ]
     },
     "execution_count": 11,
     "metadata": {},
     "output_type": "execute_result"
    }
   ],
   "source": [
    "from math import inf\n",
    "from typing import List\n",
    "import heapq\n",
    "\n",
    "\n",
    "class Solution:\n",
    "\n",
    "    def mincostToHireWorkers(self, quality: List[int], wage: List[int], k: int) -> float:\n",
    "        # w/q 单位工作质量所要付的钱 一个小组要以最高w/q为基准 那就保证小组质量和要最小\n",
    "        rq = sorted((w / q, q) for q, w in zip(quality, wage))\n",
    "        pq = []  # 小组\n",
    "        for r, q in rq[:k - 1]:\n",
    "            heapq.heappush(pq, -q)\n",
    "        tot = sum(pq)\n",
    "        heapq.heapify(pq)\n",
    "        ans = inf\n",
    "        for r, q in rq[k - 1:]: # 这样更好 保证r所对应的q也在小组里\n",
    "            heapq.heappush(pq, -q)\n",
    "            tot += -q\n",
    "            ans = min(ans, -tot * r)\n",
    "            tot -= heapq.heappop(pq)\n",
    "        return ans\n",
    "\n",
    "\n",
    "s = Solution()\n",
    "s.mincostToHireWorkers([10, 20, 5], [70, 50, 30], 2)\n"
   ]
  },
  {
   "cell_type": "code",
   "execution_count": 12,
   "metadata": {},
   "outputs": [
    {
     "data": {
      "text/plain": [
       "105.0"
      ]
     },
     "execution_count": 12,
     "metadata": {},
     "output_type": "execute_result"
    }
   ],
   "source": [
    "from math import inf\n",
    "from typing import List\n",
    "import heapq\n",
    "\n",
    "\n",
    "class Solution:\n",
    "\n",
    "    def mincostToHireWorkers(self, quality: List[int], wage: List[int], k: int) -> float:\n",
    "        # w/q 单位工作质量所要付的钱 一个小组要以最高w/q为基准 那就保证小组质量和要最小\n",
    "        rq = sorted((w / q, q) for q, w in zip(quality, wage))\n",
    "        pq = []  # 小组\n",
    "        for r, q in rq[:k]:\n",
    "            heapq.heappush(pq, -q)\n",
    "        tot = sum(pq)\n",
    "        heapq.heapify(pq)\n",
    "        ans = -tot * r\n",
    "        for r, q in rq[k:]:\n",
    "            if q < -pq[0]:  # 小组q还可以减小\n",
    "                tot -= heapq.heappop(pq)\n",
    "                heapq.heappush(pq, -q)\n",
    "                tot += -q\n",
    "                ans = min(ans, -tot * r)\n",
    "        return ans\n",
    "\n",
    "\n",
    "s = Solution()\n",
    "s.mincostToHireWorkers([10, 20, 5], [70, 50, 30], 2)\n"
   ]
  }
 ],
 "metadata": {
  "kernelspec": {
   "display_name": "Python 3.10.6 64-bit",
   "language": "python",
   "name": "python3"
  },
  "language_info": {
   "codemirror_mode": {
    "name": "ipython",
    "version": 3
   },
   "file_extension": ".py",
   "mimetype": "text/x-python",
   "name": "python",
   "nbconvert_exporter": "python",
   "pygments_lexer": "ipython3",
   "version": "3.10.6"
  },
  "orig_nbformat": 4,
  "vscode": {
   "interpreter": {
    "hash": "916dbcbb3f70747c44a77c7bcd40155683ae19c65e1c03b4aa3499c5328201f1"
   }
  }
 },
 "nbformat": 4,
 "nbformat_minor": 2
}
