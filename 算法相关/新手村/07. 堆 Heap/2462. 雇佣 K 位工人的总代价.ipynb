{
 "cells": [
  {
   "cell_type": "markdown",
   "metadata": {},
   "source": [
    "heappushpop() 相当于先推送,然后弹出,这意味着,除其他外,你的堆大小可能会在进程中发生变化(例如,如果你的堆为空,你将返回你推送的元素).\n",
    "\n",
    "heapreplace()相当于首先弹出,然后推送,另外的限制是保证您的堆大小不会在进程中发生变化.这意味着你会在空堆上得到一个错误,以及其他有趣的角落行为."
   ]
  },
  {
   "cell_type": "code",
   "execution_count": 4,
   "metadata": {},
   "outputs": [
    {
     "data": {
      "text/plain": [
       "11"
      ]
     },
     "execution_count": 4,
     "metadata": {},
     "output_type": "execute_result"
    }
   ],
   "source": [
    "import heapq\n",
    "from typing import List\n",
    "\n",
    "\n",
    "class Solution:\n",
    "\n",
    "    def totalCost(self, costs: List[int], k: int, candidates: int) -> int:\n",
    "        if candidates * 2 >= len(costs):\n",
    "            return sum(sorted(costs)[:k])\n",
    "        pre, suf = [], []\n",
    "        for i in range(candidates):\n",
    "            heapq.heappush(pre, costs[i])\n",
    "            heapq.heappush(suf, costs[-(i + 1)])\n",
    "        l, r = candidates, len(costs) - candidates - 1\n",
    "        ans = 0\n",
    "        while k and l <= r:\n",
    "            if pre[0] <= suf[0]:\n",
    "                ans += heapq.heapreplace(pre, costs[l])\n",
    "                l += 1\n",
    "            else:\n",
    "                ans += heapq.heapreplace(suf, costs[r])\n",
    "                r -= 1\n",
    "            k -= 1\n",
    "        costs = pre + suf\n",
    "        return ans + sum(sorted(costs)[:k])\n",
    "\n",
    "\n",
    "s = Solution()\n",
    "s.totalCost([17, 12, 10, 2, 7, 2, 11, 20, 8], 3, 4)\n"
   ]
  },
  {
   "cell_type": "code",
   "execution_count": 3,
   "metadata": {},
   "outputs": [
    {
     "name": "stdout",
     "output_type": "stream",
     "text": [
      "1\n",
      "2\n",
      "3\n",
      "10\n",
      "10\n",
      "10\n"
     ]
    },
    {
     "data": {
      "text/plain": [
       "[1, 2, 10, 10, 10, 10]"
      ]
     },
     "execution_count": 3,
     "metadata": {},
     "output_type": "execute_result"
    }
   ],
   "source": [
    "nums = [1,2,3,4,5,6]\n",
    "for n in nums:\n",
    "    print(n)\n",
    "    nums[6-n]=10\n",
    "nums    "
   ]
  },
  {
   "cell_type": "code",
   "execution_count": null,
   "metadata": {},
   "outputs": [],
   "source": []
  }
 ],
 "metadata": {
  "kernelspec": {
   "display_name": "Python 3.10.5 64-bit",
   "language": "python",
   "name": "python3"
  },
  "language_info": {
   "codemirror_mode": {
    "name": "ipython",
    "version": 3
   },
   "file_extension": ".py",
   "mimetype": "text/x-python",
   "name": "python",
   "nbconvert_exporter": "python",
   "pygments_lexer": "ipython3",
   "version": "3.10.5 (tags/v3.10.5:f377153, Jun  6 2022, 16:14:13) [MSC v.1929 64 bit (AMD64)]"
  },
  "orig_nbformat": 4,
  "vscode": {
   "interpreter": {
    "hash": "3196968d684371006099b3d55edeef8ed90365227a30deaef86e5d4aa8519be0"
   }
  }
 },
 "nbformat": 4,
 "nbformat_minor": 2
}
