{
 "cells": [
  {
   "cell_type": "code",
   "execution_count": 6,
   "metadata": {},
   "outputs": [
    {
     "data": {
      "text/plain": [
       "5"
      ]
     },
     "execution_count": 6,
     "metadata": {},
     "output_type": "execute_result"
    }
   ],
   "source": [
    "import heapq\n",
    "\n",
    "\n",
    "def findKthLargest(nums: list, k: int) -> int:\n",
    "    pq = list(map(lambda x: -x, nums))\n",
    "    heapq.heapify(pq)\n",
    "    for _ in range(k - 1):\n",
    "        heapq.heappop(pq)\n",
    "    return -heapq.heappop(pq)\n",
    "\n",
    "\n",
    "findKthLargest([3, 2, 1, 5, 6, 4], 2)\n"
   ]
  },
  {
   "cell_type": "code",
   "execution_count": null,
   "metadata": {},
   "outputs": [],
   "source": []
  }
 ],
 "metadata": {
  "interpreter": {
   "hash": "a5f34674cfcc9b13426a2d112c686bc132e4ef443f1487e707e7c3787d6bcf89"
  },
  "kernelspec": {
   "display_name": "Python 3.10.4 64-bit (windows store)",
   "language": "python",
   "name": "python3"
  },
  "language_info": {
   "codemirror_mode": {
    "name": "ipython",
    "version": 3
   },
   "file_extension": ".py",
   "mimetype": "text/x-python",
   "name": "python",
   "nbconvert_exporter": "python",
   "pygments_lexer": "ipython3",
   "version": "3.10.4"
  },
  "orig_nbformat": 4
 },
 "nbformat": 4,
 "nbformat_minor": 2
}
