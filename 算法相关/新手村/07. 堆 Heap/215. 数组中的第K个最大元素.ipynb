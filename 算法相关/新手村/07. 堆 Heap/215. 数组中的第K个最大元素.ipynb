{
 "cells": [
  {
   "cell_type": "code",
   "execution_count": 6,
   "metadata": {},
   "outputs": [
    {
     "data": {
      "text/plain": [
       "5"
      ]
     },
     "execution_count": 6,
     "metadata": {},
     "output_type": "execute_result"
    }
   ],
   "source": [
    "import heapq\n",
    "\n",
    "\n",
    "def findKthLargest(nums: list, k: int) -> int:\n",
    "    pq = list(map(lambda x: -x, nums))\n",
    "    heapq.heapify(pq)\n",
    "    for _ in range(k - 1):\n",
    "        heapq.heappop(pq)\n",
    "    return -heapq.heappop(pq)\n",
    "\n",
    "\n",
    "findKthLargest([3, 2, 1, 5, 6, 4], 2)\n"
   ]
  },
  {
   "cell_type": "code",
   "execution_count": 1,
   "metadata": {},
   "outputs": [],
   "source": [
    "from typing import List\n",
    "from random import randint\n",
    "\n",
    "\n",
    "class Solution:\n",
    "\n",
    "    def findKthLargest(self, nums: List[int], k: int) -> int:\n",
    "\n",
    "        def swap(i, j):\n",
    "            nums[i], nums[j] = nums[j], nums[i]\n",
    "\n",
    "        def gp(si, ei):  # [si,mark) < pivot\n",
    "            p = randint(si, ei)\n",
    "            swap(p, si)\n",
    "            pivot = nums[si]\n",
    "            mark = si\n",
    "            for i in range(si + 1, ei + 1):\n",
    "                if nums[i] < pivot:\n",
    "                    mark += 1\n",
    "                    swap(mark, i)\n",
    "            swap(mark, si)\n",
    "            return mark\n",
    "\n",
    "        target = len(nums) - k\n",
    "\n",
    "        def dc(si, ei):\n",
    "            p = gp(si, ei)\n",
    "            if p < target:\n",
    "                return dc(p + 1, ei)\n",
    "            elif p > target:\n",
    "                return dc(si, p - 1)\n",
    "            else:\n",
    "                return nums[p]\n",
    "\n",
    "        return dc(0, len(nums) - 1)\n"
   ]
  },
  {
   "cell_type": "code",
   "execution_count": null,
   "metadata": {},
   "outputs": [],
   "source": [
    "from typing import List\n",
    "from random import randint\n",
    "\n",
    "\n",
    "class Solution:\n",
    "\n",
    "    def findKthLargest(self, nums: List[int], k: int) -> int:\n",
    "\n",
    "        def swap(i, j):\n",
    "            nums[i], nums[j] = nums[j], nums[i]\n",
    "\n",
    "        def gp(si, ei):  # [si,mark) > pivot\n",
    "            p = randint(si, ei)\n",
    "            swap(p, si)\n",
    "            pivot = nums[si]\n",
    "            mark = si\n",
    "            for i in range(si + 1, ei + 1):\n",
    "                if nums[i] > pivot:\n",
    "                    mark += 1\n",
    "                    swap(mark, i)\n",
    "            swap(mark, si)\n",
    "            return mark\n",
    "\n",
    "        target = k-1\n",
    "\n",
    "        def dc(si, ei):\n",
    "            p = gp(si, ei)\n",
    "            if p < target:\n",
    "                return dc(p + 1, ei)\n",
    "            elif p > target:\n",
    "                return dc(si, p - 1)\n",
    "            else:\n",
    "                return nums[p]\n",
    "\n",
    "        return dc(0, len(nums) - 1)\n"
   ]
  }
 ],
 "metadata": {
  "kernelspec": {
   "display_name": "Python 3.10.6 64-bit",
   "language": "python",
   "name": "python3"
  },
  "language_info": {
   "codemirror_mode": {
    "name": "ipython",
    "version": 3
   },
   "file_extension": ".py",
   "mimetype": "text/x-python",
   "name": "python",
   "nbconvert_exporter": "python",
   "pygments_lexer": "ipython3",
   "version": "3.10.6"
  },
  "orig_nbformat": 4,
  "vscode": {
   "interpreter": {
    "hash": "dfbf064e0f2c8839bc658dd75dfc0b8f09a0440078cae3024109b27659b69d06"
   }
  }
 },
 "nbformat": 4,
 "nbformat_minor": 2
}
