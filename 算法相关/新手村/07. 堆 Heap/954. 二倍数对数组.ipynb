{
 "cells": [
  {
   "cell_type": "code",
   "execution_count": 1,
   "metadata": {},
   "outputs": [
    {
     "data": {
      "text/plain": [
       "True"
      ]
     },
     "execution_count": 1,
     "metadata": {},
     "output_type": "execute_result"
    }
   ],
   "source": [
    "import collections\n",
    "import heapq\n",
    "\n",
    "\n",
    "def f(arr: list):\n",
    "    pq = []\n",
    "    for n in arr:\n",
    "        priority = abs(n)\n",
    "        heapq.heappush(pq, (priority, n))\n",
    "    cnt = collections.defaultdict(int)\n",
    "    while pq:\n",
    "        _, cur = heapq.heappop(pq)\n",
    "        if cnt[cur] > 0:  # cur已经被需求\n",
    "            cnt[cur] -= 1\n",
    "        else:\n",
    "            need = cur * 2\n",
    "            cnt[need] += 1  # need现需求\n",
    "        # print(cur, cnt)\n",
    "    return not any(cnt.values())  # 保证所有需求都被消耗掉 即全为0\n",
    "\n",
    "\n",
    "# f([3, 1, 3, 6])\n",
    "f([4, -2, 2, -4])\n",
    "# f([2, 1, 2, 6])\n"
   ]
  },
  {
   "cell_type": "code",
   "execution_count": 4,
   "metadata": {},
   "outputs": [
    {
     "name": "stdout",
     "output_type": "stream",
     "text": [
      "Counter({2: 1, 1: 1, 6: 1})\n"
     ]
    },
    {
     "data": {
      "text/plain": [
       "False"
      ]
     },
     "execution_count": 4,
     "metadata": {},
     "output_type": "execute_result"
    }
   ],
   "source": [
    "import collections\n",
    "\n",
    "\n",
    "def f(arr: list):\n",
    "    cnt = collections.Counter(arr)\n",
    "    for n in sorted(cnt, key=lambda x: abs(x)):\n",
    "        if cnt[n] > 0:\n",
    "            need = n * 2\n",
    "            if cnt[n] > cnt[need]:\n",
    "                return False\n",
    "            cnt[need] -= cnt[n]\n",
    "    return True\n",
    "\n",
    "\n",
    "# f([3, 1, 3, 6])\n",
    "# f([4, -2, 2, -4])\n",
    "f([2, 1, 2, 6])\n"
   ]
  },
  {
   "cell_type": "code",
   "execution_count": null,
   "metadata": {},
   "outputs": [],
   "source": []
  }
 ],
 "metadata": {
  "interpreter": {
   "hash": "aee8b7b246df8f9039afb4144a1f6fd8d2ca17a180786b69acc140d282b71a49"
  },
  "kernelspec": {
   "display_name": "Python 3.10.2 64-bit",
   "language": "python",
   "name": "python3"
  },
  "language_info": {
   "codemirror_mode": {
    "name": "ipython",
    "version": 3
   },
   "file_extension": ".py",
   "mimetype": "text/x-python",
   "name": "python",
   "nbconvert_exporter": "python",
   "pygments_lexer": "ipython3",
   "version": "3.10.4"
  },
  "orig_nbformat": 4
 },
 "nbformat": 4,
 "nbformat_minor": 2
}
