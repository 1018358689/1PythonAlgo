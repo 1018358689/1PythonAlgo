{
 "cells": [
  {
   "cell_type": "code",
   "execution_count": 3,
   "metadata": {},
   "outputs": [
    {
     "data": {
      "text/plain": [
       "['i', 'love']"
      ]
     },
     "execution_count": 3,
     "metadata": {},
     "output_type": "execute_result"
    }
   ],
   "source": [
    "import heapq\n",
    "\n",
    "\n",
    "def f(words: list, k: int):\n",
    "    ha = {}\n",
    "    for n in words:\n",
    "        ha[n] = ha.get(n, 0) + 1\n",
    "    pq = []\n",
    "    for w, c in ha.items():\n",
    "        pq.append((-c, w))\n",
    "    heapq.heapify(pq)\n",
    "    res = []\n",
    "    for _ in range(k):\n",
    "        res.append(heapq.heappop(pq)[1])\n",
    "    return res\n",
    "\n",
    "\n",
    "f([\"i\", \"love\", \"leetcode\", \"i\", \"love\", \"coding\"], 2)\n"
   ]
  },
  {
   "cell_type": "code",
   "execution_count": null,
   "metadata": {},
   "outputs": [],
   "source": []
  }
 ],
 "metadata": {
  "interpreter": {
   "hash": "a5f34674cfcc9b13426a2d112c686bc132e4ef443f1487e707e7c3787d6bcf89"
  },
  "kernelspec": {
   "display_name": "Python 3.10.4 64-bit (windows store)",
   "language": "python",
   "name": "python3"
  },
  "language_info": {
   "codemirror_mode": {
    "name": "ipython",
    "version": 3
   },
   "file_extension": ".py",
   "mimetype": "text/x-python",
   "name": "python",
   "nbconvert_exporter": "python",
   "pygments_lexer": "ipython3",
   "version": "3.10.4"
  },
  "orig_nbformat": 4
 },
 "nbformat": 4,
 "nbformat_minor": 2
}
