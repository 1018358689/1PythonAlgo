{
 "cells": [
  {
   "cell_type": "code",
   "execution_count": 3,
   "metadata": {},
   "outputs": [
    {
     "data": {
      "text/plain": [
       "['i', 'love']"
      ]
     },
     "execution_count": 3,
     "metadata": {},
     "output_type": "execute_result"
    }
   ],
   "source": [
    "import heapq\n",
    "\n",
    "\n",
    "def f(words: list, k: int):\n",
    "    ha = {}\n",
    "    for n in words:\n",
    "        ha[n] = ha.get(n, 0) + 1\n",
    "    pq = []\n",
    "    for w, c in ha.items():\n",
    "        pq.append((-c, w))\n",
    "    heapq.heapify(pq)\n",
    "    res = []\n",
    "    for _ in range(k):\n",
    "        res.append(heapq.heappop(pq)[1])\n",
    "    return res\n",
    "\n",
    "\n",
    "f([\"i\", \"love\", \"leetcode\", \"i\", \"love\", \"coding\"], 2)\n"
   ]
  },
  {
   "cell_type": "code",
   "execution_count": 1,
   "metadata": {},
   "outputs": [],
   "source": [
    "from heapq import heappush, heappop\n",
    "from collections import Counter\n",
    "from typing import List\n",
    "\n",
    "\n",
    "class Solution:\n",
    "\n",
    "    def topKFrequent(self, words: List[str], n: int) -> List[str]:\n",
    "        pq = []\n",
    "        for k, c in Counter(words).items():\n",
    "            heappush(pq, (-c, k))\n",
    "        ans = []\n",
    "        for _ in range(n):\n",
    "            ans.append(heappop(pq)[1])\n",
    "        return ans\n"
   ]
  },
  {
   "cell_type": "code",
   "execution_count": 2,
   "metadata": {},
   "outputs": [],
   "source": [
    "from typing import List\n",
    "from collections import defaultdict\n",
    "from random import randint\n",
    "\n",
    "\n",
    "class Solution:\n",
    "\n",
    "    def topKFrequent(self, words: List[str], k: int) -> List[str]:\n",
    "        cnt = defaultdict(int)\n",
    "        for w in words:\n",
    "            cnt[w] += 1\n",
    "        l = [(-c, v) for v, c in cnt.items()]\n",
    "\n",
    "        def swap(i, j):\n",
    "            l[i], l[j] = l[j], l[i]\n",
    "\n",
    "        def gp(si, ei):\n",
    "            pivot = randint(si, ei)\n",
    "            swap(pivot, si)\n",
    "            pivot = l[si]\n",
    "            mark = si\n",
    "            for i in range(si + 1, ei + 1):\n",
    "                if l[i] < pivot:\n",
    "                    mark += 1\n",
    "                    swap(mark, i)\n",
    "            swap(si, mark)\n",
    "            return mark\n",
    "\n",
    "        target = k - 1\n",
    "\n",
    "        def dc(si, ei):\n",
    "            p = gp(si, ei)\n",
    "            if p < target:\n",
    "                return dc(p + 1, ei)\n",
    "            elif p > target:\n",
    "                return dc(si, p - 1)\n",
    "            else:\n",
    "                return [i[1] for i in sorted(l[:target + 1])]\n",
    "\n",
    "        return dc(0, len(l) - 1)\n"
   ]
  },
  {
   "cell_type": "code",
   "execution_count": null,
   "metadata": {},
   "outputs": [],
   "source": [
    "from typing import List\n",
    "from collections import defaultdict\n",
    "\n",
    "\n",
    "class Solution:\n",
    "\n",
    "    def topKFrequent(self, words: List[str], k: int) -> List[str]:\n",
    "        cnt = defaultdict(int)\n",
    "        for w in words:\n",
    "            cnt[w] += 1\n",
    "        l = list(cnt.items())\n",
    "        l.sort(key=lambda x: (-x[1], x[0]))\n",
    "        return [n[0] for n in l[:k]]\n"
   ]
  }
 ],
 "metadata": {
  "kernelspec": {
   "display_name": "Python 3.8.10 64-bit",
   "language": "python",
   "name": "python3"
  },
  "language_info": {
   "codemirror_mode": {
    "name": "ipython",
    "version": 3
   },
   "file_extension": ".py",
   "mimetype": "text/x-python",
   "name": "python",
   "nbconvert_exporter": "python",
   "pygments_lexer": "ipython3",
   "version": "3.8.10"
  },
  "orig_nbformat": 4,
  "vscode": {
   "interpreter": {
    "hash": "de72d97932d649c6d75aa79b73261cc3e8a1ae5e7cab8a9115f0bbb1518a7af2"
   }
  }
 },
 "nbformat": 4,
 "nbformat_minor": 2
}
