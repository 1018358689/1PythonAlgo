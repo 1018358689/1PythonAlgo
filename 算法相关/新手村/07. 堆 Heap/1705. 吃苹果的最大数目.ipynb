{
 "cells": [
  {
   "cell_type": "code",
   "execution_count": 3,
   "metadata": {},
   "outputs": [
    {
     "data": {
      "text/plain": [
       "7"
      ]
     },
     "execution_count": 3,
     "metadata": {},
     "output_type": "execute_result"
    }
   ],
   "source": [
    "from typing import List\n",
    "import heapq\n",
    "\n",
    "\n",
    "class Solution:\n",
    "\n",
    "    def eatenApples(self, apples: List[int], days: List[int]) -> int:\n",
    "        pq, i, ans = [], 0, 0  # pq:(i,j)第i天过期 共j个苹果\n",
    "        lgh = len(apples)\n",
    "        while i < lgh or pq:\n",
    "            # 处理掉过期苹果\n",
    "            while pq and i >= pq[0][0]:\n",
    "                heapq.heappop(pq)\n",
    "            # 加入今日新苹果\n",
    "            if i < lgh and apples[i] != 0:\n",
    "                heapq.heappush(pq, [i + days[i], apples[i]])\n",
    "            # 吃掉临近过期的苹果\n",
    "            if pq:\n",
    "                pq[0][1] -= 1\n",
    "                ans += 1\n",
    "                if pq[0][1] == 0:\n",
    "                    heapq.heappop(pq)\n",
    "            i += 1\n",
    "        return ans\n",
    "\n",
    "\n",
    "s = Solution()\n",
    "s.eatenApples([1, 2, 3, 5, 2], [3, 2, 1, 4, 2])\n"
   ]
  },
  {
   "cell_type": "code",
   "execution_count": null,
   "metadata": {},
   "outputs": [],
   "source": []
  }
 ],
 "metadata": {
  "kernelspec": {
   "display_name": "Python 3.10.6 64-bit",
   "language": "python",
   "name": "python3"
  },
  "language_info": {
   "codemirror_mode": {
    "name": "ipython",
    "version": 3
   },
   "file_extension": ".py",
   "mimetype": "text/x-python",
   "name": "python",
   "nbconvert_exporter": "python",
   "pygments_lexer": "ipython3",
   "version": "3.10.6"
  },
  "orig_nbformat": 4,
  "vscode": {
   "interpreter": {
    "hash": "dfbf064e0f2c8839bc658dd75dfc0b8f09a0440078cae3024109b27659b69d06"
   }
  }
 },
 "nbformat": 4,
 "nbformat_minor": 2
}
