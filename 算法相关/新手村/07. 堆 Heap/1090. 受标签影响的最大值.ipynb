{
 "cells": [
  {
   "cell_type": "code",
   "execution_count": null,
   "metadata": {},
   "outputs": [],
   "source": [
    "class Solution:\n",
    "\n",
    "    def largestValsFromLabels(self, values: List[int], labels: List[int], numWanted: int, useLimit: int) -> int:\n",
    "        n = len(values)\n",
    "        pq = []\n",
    "        for x, y in zip(values, labels):\n",
    "            heappush(pq, (-x, y))\n",
    "        cnts = Counter()\n",
    "        cnt = ans = 0\n",
    "        while pq and cnt < numWanted:\n",
    "            x, y = heappop(pq)\n",
    "            if cnts[y] < useLimit:\n",
    "                ans += -x\n",
    "                cnts[y] += 1\n",
    "                cnt += 1\n",
    "        return ans"
   ]
  }
 ],
 "metadata": {
  "language_info": {
   "name": "python"
  },
  "orig_nbformat": 4
 },
 "nbformat": 4,
 "nbformat_minor": 2
}
