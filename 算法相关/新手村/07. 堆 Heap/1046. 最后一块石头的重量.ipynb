{
 "cells": [
  {
   "cell_type": "code",
   "execution_count": null,
   "metadata": {},
   "outputs": [],
   "source": [
    "from typing import List\n",
    "import heapq\n",
    "\n",
    "\n",
    "class Solution:\n",
    "    def lastStoneWeight(self, stones: List[int]) -> int:\n",
    "        pq = []\n",
    "        for s in stones:\n",
    "            heapq.heappush(pq, -s)\n",
    "        while len(pq) > 1:\n",
    "            y = -heapq.heappop(pq)\n",
    "            x = -heapq.heappop(pq)\n",
    "            if d := y - x:\n",
    "                heapq.heappush(pq, -d)\n",
    "        return -pq[0] if pq else 0"
   ]
  }
 ],
 "metadata": {
  "language_info": {
   "name": "python"
  },
  "orig_nbformat": 4
 },
 "nbformat": 4,
 "nbformat_minor": 2
}
