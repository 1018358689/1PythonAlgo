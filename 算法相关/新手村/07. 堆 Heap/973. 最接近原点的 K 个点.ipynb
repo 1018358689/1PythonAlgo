{
 "cells": [
  {
   "cell_type": "code",
   "execution_count": null,
   "metadata": {},
   "outputs": [],
   "source": [
    "from typing import List\n",
    "\n",
    "\n",
    "class Solution:\n",
    "    def kClosest(self, points: List[List[int]], k: int) -> List[List[int]]:\n",
    "        return sorted(points, key=lambda x: x[0]**2 + x[1]**2)[:k]\n"
   ]
  },
  {
   "cell_type": "code",
   "execution_count": 1,
   "metadata": {},
   "outputs": [
    {
     "data": {
      "text/plain": [
       "(1, [1, 2])"
      ]
     },
     "execution_count": 1,
     "metadata": {},
     "output_type": "execute_result"
    }
   ],
   "source": [
    "(1,[1,2])"
   ]
  },
  {
   "cell_type": "code",
   "execution_count": 4,
   "metadata": {},
   "outputs": [
    {
     "data": {
      "text/plain": [
       "[[17, 7], [-2, -42], [53, 20], [-36, -57], [-69, -8]]"
      ]
     },
     "execution_count": 4,
     "metadata": {},
     "output_type": "execute_result"
    }
   ],
   "source": [
    "from typing import List\n",
    "import heapq\n",
    "# 小根堆\n",
    "\n",
    "\n",
    "class Solution:\n",
    "    def kClosest(self, points: List[List[int]], k: int) -> List[List[int]]:\n",
    "        pq = []\n",
    "        for x, y in points:\n",
    "            heapq.heappush(pq, (x**2 + y**2, [x, y]))\n",
    "        return [heapq.heappop(pq)[1] for _ in range(k)]\n",
    "\n",
    "\n",
    "s = Solution()\n",
    "s.kClosest([[-95, 76], [17, 7], [-55, -58], [53, 20], [-69, -8], [-57, 87], [-2, -42], [-10, -87], [-36, -57], [97, -39], [97, 49]], 5)\n"
   ]
  },
  {
   "cell_type": "code",
   "execution_count": 18,
   "metadata": {},
   "outputs": [
    {
     "data": {
      "text/plain": [
       "[[-69, -8], [-36, -57], [53, 20], [17, 7], [-2, -42]]"
      ]
     },
     "execution_count": 18,
     "metadata": {},
     "output_type": "execute_result"
    }
   ],
   "source": [
    "from typing import List\n",
    "import heapq\n",
    "# 大根堆 维护k长度大根堆\n",
    "\n",
    "\n",
    "class Solution:\n",
    "    def kClosest(self, points: List[List[int]], k: int) -> List[List[int]]:\n",
    "        pq = []\n",
    "        for x, y in points:\n",
    "            if len(pq) < k:\n",
    "                heapq.heappush(pq, (-x**2 - y**2, [x, y]))\n",
    "            else:\n",
    "                if x**2 + y**2 < -pq[0][0]:\n",
    "                    heapq.heappop(pq)\n",
    "                    heapq.heappush(pq, (-x**2 - y**2, [x, y]))\n",
    "        return [i[1] for i in pq]\n",
    "\n",
    "\n",
    "s = Solution()\n",
    "s.kClosest([[-95, 76], [17, 7], [-55, -58], [53, 20], [-69, -8], [-57, 87], [-2, -42], [-10, -87], [-36, -57], [97, -39], [97, 49]], 5)\n"
   ]
  },
  {
   "cell_type": "code",
   "execution_count": 10,
   "metadata": {},
   "outputs": [
    {
     "data": {
      "text/plain": [
       "[[17, 7], [-2, -42], [53, 20], [-36, -57], [-69, -8]]"
      ]
     },
     "execution_count": 10,
     "metadata": {},
     "output_type": "execute_result"
    }
   ],
   "source": [
    "class Solution:\n",
    "    def kClosest(self, points: List[List[int]], k: int) -> List[List[int]]:\n",
    "        heap = []\n",
    "        for p in points:\n",
    "            heap.append((p[0]**2 + p[1]**2, p))\n",
    "        return [item[1] for item in heapq.nsmallest(k, heap)]\n",
    "\n",
    "\n",
    "s = Solution()\n",
    "s.kClosest([[-95, 76], [17, 7], [-55, -58], [53, 20], [-69, -8], [-57, 87], [-2, -42], [-10, -87], [-36, -57], [97, -39], [97, 49]], 5)\n"
   ]
  },
  {
   "cell_type": "code",
   "execution_count": null,
   "metadata": {},
   "outputs": [],
   "source": []
  }
 ],
 "metadata": {
  "kernelspec": {
   "display_name": "Python 3.8.10 64-bit",
   "language": "python",
   "name": "python3"
  },
  "language_info": {
   "codemirror_mode": {
    "name": "ipython",
    "version": 3
   },
   "file_extension": ".py",
   "mimetype": "text/x-python",
   "name": "python",
   "nbconvert_exporter": "python",
   "pygments_lexer": "ipython3",
   "version": "3.8.10"
  },
  "orig_nbformat": 4,
  "vscode": {
   "interpreter": {
    "hash": "de72d97932d649c6d75aa79b73261cc3e8a1ae5e7cab8a9115f0bbb1518a7af2"
   }
  }
 },
 "nbformat": 4,
 "nbformat_minor": 2
}
