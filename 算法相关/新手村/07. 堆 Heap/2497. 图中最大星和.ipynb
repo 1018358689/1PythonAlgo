{
 "cells": [
  {
   "cell_type": "code",
   "execution_count": 2,
   "metadata": {},
   "outputs": [
    {
     "data": {
      "text/plain": [
       "16"
      ]
     },
     "execution_count": 2,
     "metadata": {},
     "output_type": "execute_result"
    }
   ],
   "source": [
    "from math import inf\n",
    "from typing import List\n",
    "\n",
    "from sortedcontainers import SortedList\n",
    "\n",
    "\n",
    "class Solution:\n",
    "\n",
    "    def maxStarSum(self, vals: List[int], edges: List[List[int]], k: int) -> int:\n",
    "        n = len(vals)\n",
    "        adj = [SortedList() for _ in range(n)]\n",
    "        for x, y in edges:\n",
    "            adj[x].add(vals[y])\n",
    "            adj[y].add(vals[x])\n",
    "        ans = -inf\n",
    "        for x in range(n):\n",
    "            tmp = vals[x]\n",
    "            for j in range(min(k, len(adj[x]))):\n",
    "                nei = adj[x][-1 - j]\n",
    "                if nei > 0:\n",
    "                    tmp += nei\n",
    "                else:\n",
    "                    break\n",
    "            ans = max(ans, tmp)\n",
    "        return ans\n",
    "\n",
    "\n",
    "s = Solution()\n",
    "s.maxStarSum([1, 2, 3, 4, 10, -10, -20], [[0, 1], [1, 2], [1, 3], [3, 4], [3, 5], [3, 6]], 2)\n"
   ]
  },
  {
   "cell_type": "code",
   "execution_count": 3,
   "metadata": {},
   "outputs": [
    {
     "data": {
      "text/plain": [
       "16"
      ]
     },
     "execution_count": 3,
     "metadata": {},
     "output_type": "execute_result"
    }
   ],
   "source": [
    "from heapq import nlargest\n",
    "\n",
    "\n",
    "class Solution:\n",
    "\n",
    "    def maxStarSum(self, vals: List[int], edges: List[List[int]], k: int) -> int:\n",
    "        g = [[] for _ in vals]\n",
    "        for x, y in edges:\n",
    "            if vals[y] > 0: g[x].append(vals[y])\n",
    "            if vals[x] > 0: g[y].append(vals[x])\n",
    "        return max(v + sum(nlargest(k, a)) for v, a in zip(vals, g))\n",
    "\n",
    "\n",
    "s = Solution()\n",
    "s.maxStarSum([1, 2, 3, 4, 10, -10, -20], [[0, 1], [1, 2], [1, 3], [3, 4], [3, 5], [3, 6]], 2)\n"
   ]
  },
  {
   "cell_type": "code",
   "execution_count": null,
   "metadata": {},
   "outputs": [],
   "source": []
  }
 ],
 "metadata": {
  "kernelspec": {
   "display_name": "Python 3",
   "language": "python",
   "name": "python3"
  },
  "language_info": {
   "codemirror_mode": {
    "name": "ipython",
    "version": 3
   },
   "file_extension": ".py",
   "mimetype": "text/x-python",
   "name": "python",
   "nbconvert_exporter": "python",
   "pygments_lexer": "ipython3",
   "version": "3.10.5 (tags/v3.10.5:f377153, Jun  6 2022, 16:14:13) [MSC v.1929 64 bit (AMD64)]"
  },
  "orig_nbformat": 4,
  "vscode": {
   "interpreter": {
    "hash": "3196968d684371006099b3d55edeef8ed90365227a30deaef86e5d4aa8519be0"
   }
  }
 },
 "nbformat": 4,
 "nbformat_minor": 2
}
