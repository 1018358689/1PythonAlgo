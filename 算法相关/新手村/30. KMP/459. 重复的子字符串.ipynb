{
 "cells": [
  {
   "cell_type": "markdown",
   "metadata": {},
   "source": [
    "但是虽说是 KMP，但是用到的只是求 next 的那一块，剩下的，得靠推公式...\n",
    "\n",
    "我直接先来说下公式：\n",
    "\n",
    "\n",
    "len(s) % (len(s) -  maxLen) = 0\n",
    "其中 len(s) 为字符串 s 的长度，maxLen 为最长公共前后缀的长度。\n",
    "\n",
    "所以这个公式翻译一下就是：如果 s 是周期串，那【s 的长度】是【s 的长度减去最长公共前后缀的长度】的倍数，那字符串 s 就是周期串。\n",
    "\n",
    "作者：rocky0429-2\n",
    "链接：https://leetcode.cn/problems/repeated-substring-pattern/solution/acm-xuan-shou-tu-jie-leetcode-zhong-fu-d-vl7i/\n",
    "来源：力扣（LeetCode）\n",
    "著作权归作者所有。商业转载请联系作者获得授权，非商业转载请注明出处。"
   ]
  },
  {
   "cell_type": "code",
   "execution_count": 1,
   "metadata": {},
   "outputs": [],
   "source": [
    "class Solution:\n",
    "\n",
    "    def repeatedSubstringPattern(self, s: str) -> bool:\n",
    "        next = [0] * len(s)\n",
    "        now = 0\n",
    "        i = 1\n",
    "        while i < len(s):\n",
    "            if s[i] == s[now]:\n",
    "                next[i] = now + 1\n",
    "                now += 1\n",
    "                i += 1\n",
    "            elif now:\n",
    "                now = next[now - 1]\n",
    "            else:\n",
    "                i += 1\n",
    "        return len(s) % (len(s) - now) == 0 and now != 0\n"
   ]
  },
  {
   "cell_type": "code",
   "execution_count": null,
   "metadata": {},
   "outputs": [],
   "source": [
    "class Solution:\n",
    "\n",
    "    def repeatedSubstringPattern(self, s: str) -> bool:\n",
    "\n",
    "        def kmp(s, p):\n",
    "            next = [0] * len(p)\n",
    "            now, i = 0, 1\n",
    "            while i < len(p):\n",
    "                if p[i] == p[now]:\n",
    "                    next[i] = now + 1\n",
    "                    now += 1\n",
    "                    i += 1\n",
    "                elif now:\n",
    "                    now = next[now - 1]\n",
    "                else:\n",
    "                    next[i] = 0\n",
    "                    i += 1\n",
    "            i = 1\n",
    "            j = 0  # i:匹配串 j:模式串\n",
    "            while i < len(s) - 1:\n",
    "                if s[i] == p[j]:\n",
    "                    i += 1\n",
    "                    j += 1\n",
    "                elif j:\n",
    "                    j = next[j - 1]\n",
    "                else:\n",
    "                    i += 1\n",
    "                if j == len(p):\n",
    "                    return True\n",
    "            return False\n",
    "\n",
    "        return kmp(s + s, s)\n"
   ]
  }
 ],
 "metadata": {
  "interpreter": {
   "hash": "aee8b7b246df8f9039afb4144a1f6fd8d2ca17a180786b69acc140d282b71a49"
  },
  "kernelspec": {
   "display_name": "Python 3.10.2 64-bit",
   "language": "python",
   "name": "python3"
  },
  "language_info": {
   "codemirror_mode": {
    "name": "ipython",
    "version": 3
   },
   "file_extension": ".py",
   "mimetype": "text/x-python",
   "name": "python",
   "nbconvert_exporter": "python",
   "pygments_lexer": "ipython3",
   "version": "3.10.2"
  },
  "orig_nbformat": 4
 },
 "nbformat": 4,
 "nbformat_minor": 2
}
