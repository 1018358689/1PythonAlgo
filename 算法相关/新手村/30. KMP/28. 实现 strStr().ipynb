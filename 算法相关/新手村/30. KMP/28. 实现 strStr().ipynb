{
 "cells": [
  {
   "cell_type": "code",
   "execution_count": null,
   "metadata": {},
   "outputs": [],
   "source": [
    "class Solution:\n",
    "\n",
    "    def strStr(self, haystack: str, needle: str) -> int:\n",
    "\n",
    "        def getNext(needle: str):\n",
    "            next = [0] * len(needle)\n",
    "            i = 1\n",
    "            now = 0\n",
    "            while i < len(needle):\n",
    "                if needle[now] == needle[i]:\n",
    "                    next[i] = now + 1\n",
    "                    i += 1\n",
    "                    now += 1\n",
    "                elif now:\n",
    "                    now = next[now - 1]\n",
    "                else:\n",
    "                    next[i] = 0\n",
    "                    i += 1\n",
    "            return next\n",
    "\n",
    "        next = getNext(needle)\n",
    "        i = j = 0  # i匹配串 j模式串\n",
    "        while i < len(haystack):\n",
    "            if haystack[i] == needle[j]:\n",
    "                i += 1\n",
    "                j += 1\n",
    "            elif j:\n",
    "                j = next[j - 1]\n",
    "            else:\n",
    "                i += 1\n",
    "            if j == len(needle):\n",
    "                return i - j\n",
    "        return -1"
   ]
  }
 ],
 "metadata": {
  "language_info": {
   "name": "python"
  },
  "orig_nbformat": 4
 },
 "nbformat": 4,
 "nbformat_minor": 2
}
