{
 "cells": [
  {
   "cell_type": "code",
   "execution_count": 3,
   "metadata": {},
   "outputs": [
    {
     "data": {
      "text/plain": [
       "(2147483648, ['1', '2', '3'])"
      ]
     },
     "execution_count": 3,
     "metadata": {},
     "output_type": "execute_result"
    }
   ],
   "source": [
    "2**31,list(str(123))"
   ]
  },
  {
   "cell_type": "code",
   "execution_count": 10,
   "metadata": {},
   "outputs": [
    {
     "data": {
      "text/plain": [
       "2147483647"
      ]
     },
     "execution_count": 10,
     "metadata": {},
     "output_type": "execute_result"
    }
   ],
   "source": [
    "class Solution:\n",
    "\n",
    "    def search(self, nums, l, r, target): # >target\n",
    "        while l <= r:\n",
    "            m = l + r >> 1\n",
    "            if nums[m] > target:\n",
    "                r = m - 1\n",
    "            else:\n",
    "                l = m + 1\n",
    "        return l\n",
    "\n",
    "    def nextGreaterElement(self, n: int) -> int:\n",
    "        n = list(str(n))\n",
    "        i = len(n) - 2 # 从右往左第一个小于右边值的索引 因为逆序最大 正序最小 右边没价值\n",
    "        while i >= 0 and n[i] >= n[i + 1]:\n",
    "            i -= 1\n",
    "        if i == -1:\n",
    "            return -1\n",
    "        else:\n",
    "            l = i + 1\n",
    "            r = len(n) - 1\n",
    "            while l < r: # 变成正序 因为正序最小 也可以先交换再排正序\n",
    "                n[l], n[r] = n[r], n[l]\n",
    "                l += 1\n",
    "                r -= 1\n",
    "            change = self.search(n, i + 1, len(n) - 1, n[i]) # 把高位提高但也尽量小\n",
    "            n[i], n[change] = n[change], n[i]\n",
    "            res = int(''.join(n))\n",
    "\n",
    "            return res if res < 2**31 else -1\n",
    "\n",
    "\n",
    "s = Solution()\n",
    "s.nextGreaterElement(2147483476)"
   ]
  },
  {
   "cell_type": "code",
   "execution_count": 27,
   "metadata": {},
   "outputs": [
    {
     "name": "stdout",
     "output_type": "stream",
     "text": [
      "7 [9, 8]\n",
      "9\n",
      "2147483647\n"
     ]
    },
    {
     "data": {
      "text/plain": [
       "2147483647"
      ]
     },
     "execution_count": 27,
     "metadata": {},
     "output_type": "execute_result"
    }
   ],
   "source": [
    "class Solution:\n",
    "\n",
    "    def nextGreaterElement(self, n: int) -> int:\n",
    "        n = list(str(n))\n",
    "        stack = [] # 递增栈\n",
    "        i = len(n) - 1\n",
    "        while not stack or i >= 0 and n[i] >= n[stack[-1]]:\n",
    "            stack.append(i)\n",
    "            i -= 1\n",
    "        if i == -1:\n",
    "            return -1\n",
    "        else:\n",
    "            stack.reverse() # 改成递减栈找大于n[i]的索引\n",
    "            while n[stack[-1]] <= n[i]:\n",
    "                stack.pop()\n",
    "            change = stack[-1]\n",
    "            n[i], n[change] = n[change], n[i]\n",
    "\n",
    "            l = i + 1\n",
    "            r = len(n) - 1\n",
    "            while l < r:  # 变成正序 因为正序最小 也可以先交换再排正序\n",
    "                n[l], n[r] = n[r], n[l]\n",
    "                l += 1\n",
    "                r -= 1\n",
    "            res = int(''.join(n))\n",
    "            print(res)\n",
    "            return res if res < 2**31 else -1\n",
    "\n",
    "\n",
    "s = Solution()\n",
    "# s.nextGreaterElement(13)\n",
    "s.nextGreaterElement(2147483476)\n"
   ]
  },
  {
   "cell_type": "code",
   "execution_count": null,
   "metadata": {},
   "outputs": [],
   "source": []
  }
 ],
 "metadata": {
  "kernelspec": {
   "display_name": "Python 3.10.1 64-bit",
   "language": "python",
   "name": "python3"
  },
  "language_info": {
   "codemirror_mode": {
    "name": "ipython",
    "version": 3
   },
   "file_extension": ".py",
   "mimetype": "text/x-python",
   "name": "python",
   "nbconvert_exporter": "python",
   "pygments_lexer": "ipython3",
   "version": "3.10.1"
  },
  "orig_nbformat": 4,
  "vscode": {
   "interpreter": {
    "hash": "aee8b7b246df8f9039afb4144a1f6fd8d2ca17a180786b69acc140d282b71a49"
   }
  }
 },
 "nbformat": 4,
 "nbformat_minor": 2
}
