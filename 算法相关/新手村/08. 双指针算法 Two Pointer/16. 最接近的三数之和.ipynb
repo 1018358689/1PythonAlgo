{
 "cells": [
  {
   "cell_type": "code",
   "execution_count": null,
   "metadata": {},
   "outputs": [],
   "source": [
    "from typing import List\n",
    "\n",
    "\n",
    "class Solution:\n",
    "    def threeSumClosest(self, nums: List[int], target: int) -> int:\n",
    "        nums.sort()\n",
    "        ans = float('inf')\n",
    "        for i in range(len(nums) - 2):\n",
    "            if i > 0 and nums[i] == nums[i - 1]:\n",
    "                continue\n",
    "            a = nums[i]\n",
    "            l, r = i + 1, len(nums) - 1\n",
    "            while l < r:\n",
    "                b, c = nums[l], nums[r]\n",
    "                if abs((s := a + b + c) - target) < abs(ans - target):\n",
    "                    ans = s\n",
    "                if s == target:\n",
    "                    return s\n",
    "                elif s > target:\n",
    "                    r -= 1\n",
    "                    # while l < r and nums[r] == nums[r + 1]:\n",
    "                    #     r -= 1\n",
    "                else:\n",
    "                    l += 1\n",
    "                    # while l < r and nums[r] == nums[r + 1]:\n",
    "                    #     l += 1\n",
    "        return ans"
   ]
  }
 ],
 "metadata": {
  "kernelspec": {
   "display_name": "Python 3.8.10 64-bit",
   "language": "python",
   "name": "python3"
  },
  "language_info": {
   "name": "python",
   "version": "3.8.10"
  },
  "orig_nbformat": 4,
  "vscode": {
   "interpreter": {
    "hash": "570feb405e2e27c949193ac68f46852414290d515b0ba6e5d90d076ed2284471"
   }
  }
 },
 "nbformat": 4,
 "nbformat_minor": 2
}
