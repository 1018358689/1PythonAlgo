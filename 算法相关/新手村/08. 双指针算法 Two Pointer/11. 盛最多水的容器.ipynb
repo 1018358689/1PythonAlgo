{
 "cells": [
  {
   "cell_type": "code",
   "execution_count": null,
   "metadata": {},
   "outputs": [],
   "source": [
    "from typing import List\n",
    "\n",
    "\n",
    "class Solution:\n",
    "\n",
    "    def maxArea(self, height: List[int]) -> int:\n",
    "        l, r = 0, len(height) - 1\n",
    "        ans = 0\n",
    "        while l < r:\n",
    "            d = r - l\n",
    "            if height[l] < height[r]:\n",
    "                ans = max(ans, d * height[l])\n",
    "                l += 1\n",
    "            else:\n",
    "                ans = max(ans, d * height[r])\n",
    "                r -= 1\n",
    "        return ans"
   ]
  }
 ],
 "metadata": {
  "language_info": {
   "name": "python"
  },
  "orig_nbformat": 4
 },
 "nbformat": 4,
 "nbformat_minor": 2
}
