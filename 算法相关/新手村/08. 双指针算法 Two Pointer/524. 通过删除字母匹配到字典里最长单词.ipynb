{
 "cells": [
  {
   "cell_type": "code",
   "execution_count": null,
   "metadata": {},
   "outputs": [],
   "source": [
    "from typing import List\n",
    "\n",
    "\n",
    "class Solution:\n",
    "\n",
    "    def findLongestWord(self, s: str, dictionary: List[str]) -> str:\n",
    "\n",
    "        def check(word: str):\n",
    "            p1 = p2 = 0\n",
    "            while p1 < len(s) and p2 < len(word):\n",
    "                if s[p1] == word[p2]:\n",
    "                    p2 += 1\n",
    "                p1 += 1\n",
    "            return p2 == len(word)\n",
    "\n",
    "        for word in sorted(dictionary, key=lambda x: (-len(x), x)):\n",
    "            if check(word):\n",
    "                return word\n",
    "        return ''\n"
   ]
  }
 ],
 "metadata": {
  "language_info": {
   "name": "python"
  },
  "orig_nbformat": 4
 },
 "nbformat": 4,
 "nbformat_minor": 2
}
