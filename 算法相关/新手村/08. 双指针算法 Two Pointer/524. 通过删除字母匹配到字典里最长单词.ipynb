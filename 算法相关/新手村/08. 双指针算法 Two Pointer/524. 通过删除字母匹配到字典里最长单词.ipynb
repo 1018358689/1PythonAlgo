{
 "cells": [
  {
   "cell_type": "code",
   "execution_count": null,
   "metadata": {},
   "outputs": [],
   "source": [
    "from typing import List\n",
    "\n",
    "\n",
    "class Solution:\n",
    "\n",
    "    def findLongestWord(self, s: str, dictionary: List[str]) -> str:\n",
    "\n",
    "        def check(word: str):\n",
    "            p1 = p2 = 0\n",
    "            while p1 < len(s) and p2 < len(word):\n",
    "                if s[p1] == word[p2]:\n",
    "                    p2 += 1\n",
    "                p1 += 1\n",
    "            return p2 == len(word)\n",
    "\n",
    "        for word in sorted(dictionary, key=lambda x: (-len(x), x)):\n",
    "            if check(word):\n",
    "                return word\n",
    "        return ''\n"
   ]
  }
 ],
 "metadata": {
  "kernelspec": {
   "display_name": "Python 3.10.5 64-bit",
   "language": "python",
   "name": "python3"
  },
  "language_info": {
   "name": "python",
   "version": "3.10.5"
  },
  "orig_nbformat": 4,
  "vscode": {
   "interpreter": {
    "hash": "3196968d684371006099b3d55edeef8ed90365227a30deaef86e5d4aa8519be0"
   }
  }
 },
 "nbformat": 4,
 "nbformat_minor": 2
}
