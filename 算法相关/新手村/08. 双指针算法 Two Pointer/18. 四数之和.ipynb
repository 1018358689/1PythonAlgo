{
 "cells": [
  {
   "cell_type": "code",
   "execution_count": null,
   "metadata": {},
   "outputs": [],
   "source": [
    "from typing import List\n",
    "\n",
    "\n",
    "class Solution:\n",
    "\n",
    "    def fourSum(self, nums: List[int], target: int) -> List[List[int]]:\n",
    "        nums.sort()\n",
    "        ans = []\n",
    "        for i in range(len(nums) - 3):\n",
    "            a = nums[i]\n",
    "            if i > 0 and a == nums[i - 1]:\n",
    "                continue\n",
    "            for j in range(i + 1, len(nums) - 2):\n",
    "                b = nums[j]\n",
    "                if j > i + 1 and b == nums[j - 1]:\n",
    "                    continue\n",
    "                l, r = j + 1, len(nums) - 1\n",
    "                while l < r:\n",
    "                    c, d = nums[l], nums[r]\n",
    "                    if (s := a + b + c + d) == target:\n",
    "                        ans.append([a, b, c, d])\n",
    "                        while l < r and nums[l + 1] == nums[l]:\n",
    "                            l += 1\n",
    "                        while l < r and nums[r - 1] == nums[r]:\n",
    "                            r -= 1\n",
    "                        l += 1\n",
    "                        r -= 1\n",
    "                    elif s > target:\n",
    "                        r -= 1\n",
    "                    else:\n",
    "                        l += 1\n",
    "        return ans"
   ]
  }
 ],
 "metadata": {
  "language_info": {
   "name": "python"
  },
  "orig_nbformat": 4
 },
 "nbformat": 4,
 "nbformat_minor": 2
}
