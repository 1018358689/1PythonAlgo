{
 "cells": [
  {
   "cell_type": "code",
   "execution_count": null,
   "metadata": {},
   "outputs": [],
   "source": [
    "def f(s: list):\n",
    "    l, r = 0, len(s) - 1\n",
    "    while l < r:\n",
    "        s[l], s[r] = s[r], s[l]\n",
    "        l += 1\n",
    "        r -= 1\n",
    "    return s"
   ]
  }
 ],
 "metadata": {
  "language_info": {
   "name": "python"
  },
  "orig_nbformat": 4
 },
 "nbformat": 4,
 "nbformat_minor": 2
}
