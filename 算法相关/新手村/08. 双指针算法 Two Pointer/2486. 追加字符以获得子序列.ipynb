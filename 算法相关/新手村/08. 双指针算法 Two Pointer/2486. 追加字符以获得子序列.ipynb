{
 "cells": [
  {
   "cell_type": "code",
   "execution_count": 2,
   "metadata": {},
   "outputs": [
    {
     "data": {
      "text/plain": [
       "3"
      ]
     },
     "execution_count": 2,
     "metadata": {},
     "output_type": "execute_result"
    }
   ],
   "source": [
    "class Solution:\n",
    "\n",
    "    def appendCharacters(self, s: str, t: str) -> int:\n",
    "        p1 = p2 = 0\n",
    "        n1, n2 = len(s), len(t)\n",
    "        while p1 < n1 and p2 < n2:\n",
    "            if s[p1] == t[p2]:\n",
    "                p2 += 1\n",
    "            p1 += 1\n",
    "        return n2 - p2\n",
    "\n",
    "\n",
    "s = Solution()\n",
    "s.appendCharacters(\"coaching\", \"coding\")\n"
   ]
  },
  {
   "cell_type": "code",
   "execution_count": null,
   "metadata": {},
   "outputs": [],
   "source": []
  }
 ],
 "metadata": {
  "kernelspec": {
   "display_name": "Python 3.10.5 64-bit",
   "language": "python",
   "name": "python3"
  },
  "language_info": {
   "codemirror_mode": {
    "name": "ipython",
    "version": 3
   },
   "file_extension": ".py",
   "mimetype": "text/x-python",
   "name": "python",
   "nbconvert_exporter": "python",
   "pygments_lexer": "ipython3",
   "version": "3.10.5"
  },
  "orig_nbformat": 4,
  "vscode": {
   "interpreter": {
    "hash": "3196968d684371006099b3d55edeef8ed90365227a30deaef86e5d4aa8519be0"
   }
  }
 },
 "nbformat": 4,
 "nbformat_minor": 2
}
