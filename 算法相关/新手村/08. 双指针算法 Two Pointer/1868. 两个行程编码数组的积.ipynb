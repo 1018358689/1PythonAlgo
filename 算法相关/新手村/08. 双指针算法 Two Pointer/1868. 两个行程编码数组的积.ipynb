{
 "cells": [
  {
   "cell_type": "code",
   "execution_count": 2,
   "metadata": {},
   "outputs": [
    {
     "data": {
      "text/plain": [
       "[(2, <itertools._grouper at 0x1a946215db0>),\n",
       " (6, <itertools._grouper at 0x1a9462158d0>),\n",
       " (9, <itertools._grouper at 0x1a9462157b0>)]"
      ]
     },
     "execution_count": 2,
     "metadata": {},
     "output_type": "execute_result"
    }
   ],
   "source": [
    "from itertools import groupby\n",
    "\n",
    "list(groupby([2, 2, 2, 6, 9, 9]))\n"
   ]
  },
  {
   "cell_type": "code",
   "execution_count": null,
   "metadata": {},
   "outputs": [],
   "source": [
    "# 超时\n",
    "from itertools import groupby\n",
    "from typing import List\n",
    "\n",
    "\n",
    "class Solution:\n",
    "\n",
    "    def findRLEArray(self, encoded1: List[List[int]], encoded2: List[List[int]]) -> List[List[int]]:\n",
    "        # 1.先得到prodNums\n",
    "        n1, n2 = len(encoded1), len(encoded2)\n",
    "        prod = []\n",
    "        p1 = p2 = 0\n",
    "        while p1 < n1 and p2 < n2:\n",
    "            v1, f1 = encoded1[p1]\n",
    "            v2, f2 = encoded2[p2]\n",
    "            f = min(f1, f2)\n",
    "            tmp = [v1 * v2] * f\n",
    "            prod += tmp\n",
    "            encoded1[p1][1] -= f\n",
    "            encoded2[p2][1] -= f\n",
    "            if encoded1[p1][1] == 0:\n",
    "                p1 += 1\n",
    "            if encoded2[p2][1] == 0:\n",
    "                p2 += 1\n",
    "        # 压缩成行程编码数组\n",
    "        return [[x, len(list(g))] for x, g in groupby(prod)]"
   ]
  },
  {
   "cell_type": "code",
   "execution_count": 3,
   "metadata": {},
   "outputs": [],
   "source": [
    "from itertools import groupby\n",
    "from typing import List\n",
    "\n",
    "\n",
    "class Solution:\n",
    "\n",
    "    def findRLEArray(self, encoded1: List[List[int]], encoded2: List[List[int]]) -> List[List[int]]:\n",
    "        # 1.先得到prodNums变体\n",
    "        n1, n2 = len(encoded1), len(encoded2)\n",
    "        prod = []\n",
    "        p1 = p2 = 0\n",
    "        while p1 < n1 and p2 < n2:\n",
    "            v1, f1 = encoded1[p1]\n",
    "            v2, f2 = encoded2[p2]\n",
    "            f = min(f1, f2)\n",
    "            prod.append([v1 * v2, f])\n",
    "            encoded1[p1][1] -= f\n",
    "            encoded2[p2][1] -= f\n",
    "            if encoded1[p1][1] == 0:\n",
    "                p1 += 1\n",
    "            if encoded2[p2][1] == 0:\n",
    "                p2 += 1\n",
    "        # 压缩成行程编码数组\n",
    "        ans = [prod[0]]\n",
    "        for i in range(1, len(prod)):\n",
    "            if ans[-1][0] == prod[i][0]:\n",
    "                ans[-1][1] += prod[i][1]\n",
    "            else:\n",
    "                ans.append(prod[i])\n",
    "        return ans"
   ]
  },
  {
   "cell_type": "code",
   "execution_count": 7,
   "metadata": {},
   "outputs": [
    {
     "name": "stdout",
     "output_type": "stream",
     "text": [
      "[[-1, 0], [6, 3]]\n",
      "[[-1, 0], [6, 6]]\n"
     ]
    },
    {
     "data": {
      "text/plain": [
       "[[6, 6]]"
      ]
     },
     "execution_count": 7,
     "metadata": {},
     "output_type": "execute_result"
    }
   ],
   "source": [
    "from itertools import groupby\n",
    "from typing import List\n",
    "\n",
    "\n",
    "class Solution:\n",
    "\n",
    "    def findRLEArray(self, encoded1: List[List[int]], encoded2: List[List[int]]) -> List[List[int]]:\n",
    "        # 1.得到prodNums变体 压缩成行程编码数组 一起做\n",
    "        n1, n2 = len(encoded1), len(encoded2)\n",
    "        p1 = p2 = 0\n",
    "        ans = [[-1, 0]]\n",
    "        while p1 < n1 and p2 < n2:\n",
    "            v1, f1 = encoded1[p1]\n",
    "            v2, f2 = encoded2[p2]\n",
    "            f = min(f1, f2)\n",
    "            if ans[-1][0] == v1 * v2:\n",
    "                ans[-1][1] += f\n",
    "            else:\n",
    "                ans.append([v1 * v2, f])\n",
    "            encoded1[p1][1] -= f\n",
    "            encoded2[p2][1] -= f\n",
    "            if encoded1[p1][1] == 0:\n",
    "                p1 += 1\n",
    "            if encoded2[p2][1] == 0:\n",
    "                p2 += 1\n",
    "        return ans[1:]\n",
    "\n",
    "\n",
    "s = Solution()\n",
    "s.findRLEArray([[1, 3], [2, 3]], [[6, 3], [3, 3]])\n"
   ]
  },
  {
   "cell_type": "code",
   "execution_count": 15,
   "metadata": {},
   "outputs": [
    {
     "data": {
      "text/plain": [
       "[[2, 3], [6, 1], [9, 2]]"
      ]
     },
     "execution_count": 15,
     "metadata": {},
     "output_type": "execute_result"
    }
   ],
   "source": [
    "# 不修改原数组\n",
    "from itertools import groupby\n",
    "from typing import List\n",
    "\n",
    "\n",
    "class Solution:\n",
    "\n",
    "    def findRLEArray(self, encoded1: List[List[int]], encoded2: List[List[int]]) -> List[List[int]]:\n",
    "        # 1.得到prodNums变体 压缩成行程编码数组 一起做\n",
    "        n1, n2 = len(encoded1), len(encoded2)\n",
    "        p1 = p2 = 0\n",
    "        ans = [[-1, 0]]\n",
    "        f1 = f2 = 0\n",
    "        while p1 < n1 and p2 < n2:\n",
    "            f1 = f1 if f1 else encoded1[p1][1]\n",
    "            f2 = f2 if f2 else encoded2[p2][1]\n",
    "            mul = encoded1[p1][0] * encoded2[p2][0]\n",
    "            f = min(f1, f2)\n",
    "            if ans[-1][0] == mul:\n",
    "                ans[-1][1] += f\n",
    "            else:\n",
    "                ans.append([mul, f])\n",
    "            f1 -= f\n",
    "            f2 -= f\n",
    "            if f1 == 0:\n",
    "                p1 += 1\n",
    "            if f2 == 0:\n",
    "                p2 += 1\n",
    "        return ans[1:]\n",
    "\n",
    "\n",
    "s = Solution()\n",
    "s.findRLEArray([[1, 3], [2, 1], [3, 2]], [[2, 3], [3, 3]])\n"
   ]
  },
  {
   "cell_type": "code",
   "execution_count": null,
   "metadata": {},
   "outputs": [],
   "source": []
  }
 ],
 "metadata": {
  "kernelspec": {
   "display_name": "Python 3",
   "language": "python",
   "name": "python3"
  },
  "language_info": {
   "codemirror_mode": {
    "name": "ipython",
    "version": 3
   },
   "file_extension": ".py",
   "mimetype": "text/x-python",
   "name": "python",
   "nbconvert_exporter": "python",
   "pygments_lexer": "ipython3",
   "version": "3.10.5"
  },
  "orig_nbformat": 4,
  "vscode": {
   "interpreter": {
    "hash": "3196968d684371006099b3d55edeef8ed90365227a30deaef86e5d4aa8519be0"
   }
  }
 },
 "nbformat": 4,
 "nbformat_minor": 2
}
