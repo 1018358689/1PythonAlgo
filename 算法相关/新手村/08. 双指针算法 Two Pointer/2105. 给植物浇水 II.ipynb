{
 "cells": [
  {
   "cell_type": "code",
   "execution_count": null,
   "metadata": {},
   "outputs": [],
   "source": [
    "from typing import List\n",
    "class Solution:\n",
    "    def minimumRefill(self, plants: List[int], capacityA: int, capacityB: int) -> int:\n",
    "        lgh = len(plants)\n",
    "        p1,p2=0,lgh-1\n",
    "        c1,c2=capacityA,capacityB\n",
    "        ans = 0\n",
    "        while p1<p2:\n",
    "            if c1<plants[p1]:\n",
    "                ans+=1\n",
    "                c1 = capacityA\n",
    "            if c2<plants[p2]:\n",
    "                ans+=1\n",
    "                c2 = capacityB\n",
    "            c1-=plants[p1]\n",
    "            c2-=plants[p2]\n",
    "            p1+=1\n",
    "            p2-=1\n",
    "        if p1==p2:\n",
    "            c = max(c1,c2)\n",
    "            if c<plants[p1]:\n",
    "                ans+=1\n",
    "        return ans"
   ]
  }
 ],
 "metadata": {
  "language_info": {
   "name": "python"
  },
  "orig_nbformat": 4
 },
 "nbformat": 4,
 "nbformat_minor": 2
}
