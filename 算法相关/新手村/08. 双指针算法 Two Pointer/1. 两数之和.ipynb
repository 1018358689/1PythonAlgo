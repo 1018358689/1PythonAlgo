{
 "cells": [
  {
   "cell_type": "code",
   "execution_count": null,
   "metadata": {},
   "outputs": [],
   "source": [
    "class Solution:\n",
    "\n",
    "    def twoSum(self, nums: List[int], target: int) -> List[int]:\n",
    "        ha = {}\n",
    "        for i, n in enumerate(nums):\n",
    "            idx = ha.get(target - n)\n",
    "            if idx is not None:\n",
    "                return [idx, i]\n",
    "            ha[n] = i\n"
   ]
  },
  {
   "cell_type": "code",
   "execution_count": null,
   "metadata": {},
   "outputs": [],
   "source": [
    "class Solution:\n",
    "\n",
    "    def twoSum(self, nums: List[int], target: int) -> List[int]:\n",
    "        idx = sorted(range(len(nums)), key=lambda x: nums[x])\n",
    "        l, r = 0, len(nums) - 1\n",
    "        while l < r:\n",
    "            s = nums[idx[l]] + nums[idx[r]]\n",
    "            if s > target:\n",
    "                r -= 1\n",
    "            elif s < target:\n",
    "                l += 1\n",
    "            else:\n",
    "                return [idx[l], idx[r]]\n"
   ]
  }
 ],
 "metadata": {
  "kernelspec": {
   "display_name": "Python 3.10.6 64-bit",
   "language": "python",
   "name": "python3"
  },
  "language_info": {
   "name": "python",
   "version": "3.10.6"
  },
  "orig_nbformat": 4,
  "vscode": {
   "interpreter": {
    "hash": "dfbf064e0f2c8839bc658dd75dfc0b8f09a0440078cae3024109b27659b69d06"
   }
  }
 },
 "nbformat": 4,
 "nbformat_minor": 2
}
