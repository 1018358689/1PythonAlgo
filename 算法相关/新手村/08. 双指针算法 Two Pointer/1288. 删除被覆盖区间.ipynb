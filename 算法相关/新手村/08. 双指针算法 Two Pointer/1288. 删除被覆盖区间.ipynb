{
 "cells": [
  {
   "cell_type": "code",
   "execution_count": null,
   "metadata": {},
   "outputs": [],
   "source": [
    "from typing import List\n",
    "\n",
    "\n",
    "class Solution:\n",
    "\n",
    "    def removeCoveredIntervals(self, intervals: List[List[int]]) -> int:\n",
    "        intervals.sort(key=lambda x: (x[0], -x[1]))\n",
    "        cnt = 0\n",
    "        maxLgh = 0\n",
    "        for _, j in intervals:\n",
    "            if j <= maxLgh:\n",
    "                cnt += 1\n",
    "            else:\n",
    "                maxLgh = j\n",
    "        return len(intervals) - cnt\n"
   ]
  }
 ],
 "metadata": {
  "language_info": {
   "name": "python"
  },
  "orig_nbformat": 4
 },
 "nbformat": 4,
 "nbformat_minor": 2
}
