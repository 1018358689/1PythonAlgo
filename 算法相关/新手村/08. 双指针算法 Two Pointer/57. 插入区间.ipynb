{
 "cells": [
  {
   "cell_type": "code",
   "execution_count": 1,
   "metadata": {},
   "outputs": [],
   "source": [
    "from typing import List\n",
    "\n",
    "\n",
    "class Solution:\n",
    "\n",
    "    def search(self, nums, target):  # >=target\n",
    "        l, r = 0, len(nums) - 1\n",
    "        while l <= r:\n",
    "            m = l + r >> 1\n",
    "            if nums[m][0] >= target:\n",
    "                r = m - 1\n",
    "            else:\n",
    "                l = m + 1\n",
    "        return l\n",
    "\n",
    "    def insert(self, intervals: List[List[int]], newInterval: List[int]) -> List[List[int]]:\n",
    "        index = self.search(intervals, newInterval[0])  # 寻找插入newInterval的位置\n",
    "        intervals = intervals[:index] + [newInterval] + intervals[index:]  # 仍然有序\n",
    "\n",
    "        def check(l1, l2):  # 检查l1和l2区间是否有交集\n",
    "            if l1[1] < l2[0] or l1[0] > l2[1]:\n",
    "                return False\n",
    "            return True\n",
    "\n",
    "        def merge(l1, l2):  # 合并l1和l2区间\n",
    "            return [min(l1[0], l2[0]), max(l1[1], l2[1])]\n",
    "\n",
    "        ans = [intervals[0]]\n",
    "        for i in range(1, len(intervals)):\n",
    "            l1 = ans[-1]\n",
    "            l2 = intervals[i]\n",
    "            if check(l1, l2):  # 有交集则合并 否则就添加\n",
    "                ans[-1] = merge(l1, l2)\n",
    "            else:\n",
    "                ans.append(l2)\n",
    "        return ans"
   ]
  },
  {
   "cell_type": "code",
   "execution_count": 13,
   "metadata": {},
   "outputs": [
    {
     "data": {
      "text/plain": [
       "[[1, 2], [3, 10], [12, 16]]"
      ]
     },
     "execution_count": 13,
     "metadata": {},
     "output_type": "execute_result"
    }
   ],
   "source": [
    "from typing import List\n",
    "\n",
    "\n",
    "class Solution:\n",
    "\n",
    "    def insert(self, intervals: List[List[int]], newInterval: List[int]) -> List[List[int]]:\n",
    "        ans = []\n",
    "        i = 0\n",
    "\n",
    "        def check(l1, l2):  # 检查l1和l2是否相交\n",
    "            if l1[1] < l2[0] or l1[0] > l2[1]:\n",
    "                return False\n",
    "            return True\n",
    "\n",
    "        def merge(l1, l2):  # 合并l1和l2\n",
    "            return [min(l1[0], l2[0]), max(l1[1], l2[1])]\n",
    "\n",
    "        while i < len(intervals) and intervals[i][1] < newInterval[0]:  # 不能not check(intervals[i], newInterval):\n",
    "            ans.append(intervals[i])\n",
    "            i += 1\n",
    "        while i < len(intervals) and check(intervals[i], newInterval):\n",
    "            newInterval = merge(intervals[i], newInterval)\n",
    "            i += 1\n",
    "        ans.append(newInterval)\n",
    "        ans += intervals[i:]\n",
    "        return ans\n",
    "\n",
    "\n",
    "s = Solution()\n",
    "s.insert([[1, 2], [3, 5], [6, 7], [8, 10], [12, 16]], [4, 8])\n"
   ]
  },
  {
   "cell_type": "code",
   "execution_count": null,
   "metadata": {},
   "outputs": [],
   "source": []
  }
 ],
 "metadata": {
  "kernelspec": {
   "display_name": "Python 3.10.5 64-bit (windows store)",
   "language": "python",
   "name": "python3"
  },
  "language_info": {
   "codemirror_mode": {
    "name": "ipython",
    "version": 3
   },
   "file_extension": ".py",
   "mimetype": "text/x-python",
   "name": "python",
   "nbconvert_exporter": "python",
   "pygments_lexer": "ipython3",
   "version": "3.10.5"
  },
  "orig_nbformat": 4,
  "vscode": {
   "interpreter": {
    "hash": "97367d2de1780ea7c502b529f25888c1b53c0430a7611816b6c7cf19d8435228"
   }
  }
 },
 "nbformat": 4,
 "nbformat_minor": 2
}
