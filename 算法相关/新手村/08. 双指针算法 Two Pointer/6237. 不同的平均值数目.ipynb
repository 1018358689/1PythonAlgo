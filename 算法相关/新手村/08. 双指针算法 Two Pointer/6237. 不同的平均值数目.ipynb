{
 "cells": [
  {
   "cell_type": "code",
   "execution_count": null,
   "metadata": {},
   "outputs": [],
   "source": [
    "from typing import List\n",
    "\n",
    "\n",
    "class Solution:\n",
    "\n",
    "    def distinctAverages(self, nums: List[int]) -> int:\n",
    "        nums.sort()\n",
    "        l, r = 0, len(nums) - 1\n",
    "        ans = set()\n",
    "        while l < r:\n",
    "            ans.add(nums[l] + nums[r])\n",
    "            l += 1\n",
    "            r -= 1\n",
    "        return len(ans)"
   ]
  }
 ],
 "metadata": {
  "language_info": {
   "name": "python"
  },
  "orig_nbformat": 4
 },
 "nbformat": 4,
 "nbformat_minor": 2
}
