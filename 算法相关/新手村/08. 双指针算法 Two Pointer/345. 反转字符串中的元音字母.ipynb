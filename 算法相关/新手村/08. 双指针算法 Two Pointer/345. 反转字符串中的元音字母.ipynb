{
 "cells": [
  {
   "cell_type": "code",
   "execution_count": null,
   "metadata": {},
   "outputs": [],
   "source": [
    "class Solution:\n",
    "    def reverseVowels(self, s: str) -> str:\n",
    "        ha = 'aeiouAEIOU'\n",
    "        s = list(s)\n",
    "        l, r = 0, len(s) - 1\n",
    "        while l < r:\n",
    "            if s[l] not in ha:\n",
    "                l += 1\n",
    "                continue\n",
    "            if s[r] not in ha:\n",
    "                r -= 1\n",
    "                continue\n",
    "            s[l], s[r] = s[r], s[l]\n",
    "            l += 1\n",
    "            r -= 1\n",
    "        return ''.join(s)\n",
    "    "
   ]
  }
 ],
 "metadata": {
  "kernelspec": {
   "display_name": "Python 3.10.6 64-bit",
   "language": "python",
   "name": "python3"
  },
  "language_info": {
   "name": "python",
   "version": "3.10.6"
  },
  "orig_nbformat": 4,
  "vscode": {
   "interpreter": {
    "hash": "dfbf064e0f2c8839bc658dd75dfc0b8f09a0440078cae3024109b27659b69d06"
   }
  }
 },
 "nbformat": 4,
 "nbformat_minor": 2
}
