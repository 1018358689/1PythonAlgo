{
 "cells": [
  {
   "cell_type": "code",
   "execution_count": 7,
   "metadata": {},
   "outputs": [
    {
     "name": "stdout",
     "output_type": "stream",
     "text": [
      "0 12 ('b', 27) ('b', 3)\n",
      "1 11 ('a', 1) ('a', 1)\n",
      "2 10 ('b', 15) ('b', 2)\n",
      "3 9 ('c', 2) ('c', 2)\n",
      "4 8 ('b', 1) ('b', 1)\n",
      "5 7 ('c', 1) ('c', 1)\n"
     ]
    },
    {
     "data": {
      "text/plain": [
       "0"
      ]
     },
     "execution_count": 7,
     "metadata": {},
     "output_type": "execute_result"
    }
   ],
   "source": [
    "from itertools import groupby\n",
    "\n",
    "\n",
    "class Solution:\n",
    "\n",
    "    def minimumLength(self, s: str) -> int:\n",
    "        gs = [(c, len([*g])) for c, g in groupby(s)]\n",
    "        p1, p2 = 0, len(gs) - 1\n",
    "        while p1 < p2 and gs[p1][0] == gs[p2][0]:\n",
    "            p1 += 1\n",
    "            p2 -= 1\n",
    "        if p1 == p2:\n",
    "            return 1 if gs[p1][1] == 1 else 0\n",
    "        return sum(v for _, v in gs[p1:p2 + 1])\n",
    "\n",
    "\n",
    "s = Solution()\n",
    "# s.minimumLength(\"abbbbbbbbbbbbbbbbbbba\")\n",
    "s.minimumLength(\"bbbbbbbbbbbbbbbbbbbbbbbbbbbabbbbbbbbbbbbbbbccbcbcbccbbabbb\")"
   ]
  },
  {
   "cell_type": "code",
   "execution_count": 2,
   "metadata": {},
   "outputs": [
    {
     "data": {
      "text/plain": [
       "19"
      ]
     },
     "execution_count": 2,
     "metadata": {},
     "output_type": "execute_result"
    }
   ],
   "source": [
    "len('bbbbbbbbbbbbbbbbbbb')"
   ]
  },
  {
   "cell_type": "code",
   "execution_count": null,
   "metadata": {},
   "outputs": [],
   "source": []
  }
 ],
 "metadata": {
  "kernelspec": {
   "display_name": "Python 3",
   "language": "python",
   "name": "python3"
  },
  "language_info": {
   "codemirror_mode": {
    "name": "ipython",
    "version": 3
   },
   "file_extension": ".py",
   "mimetype": "text/x-python",
   "name": "python",
   "nbconvert_exporter": "python",
   "pygments_lexer": "ipython3",
   "version": "3.11.1"
  },
  "orig_nbformat": 4,
  "vscode": {
   "interpreter": {
    "hash": "ff4b1fca65a764b45acb559e482afe389d289dd599b9f8c5fd12ff5c2ea46a65"
   }
  }
 },
 "nbformat": 4,
 "nbformat_minor": 2
}
