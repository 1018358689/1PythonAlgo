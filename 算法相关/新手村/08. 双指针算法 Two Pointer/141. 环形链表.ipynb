{
 "cells": [
  {
   "cell_type": "code",
   "execution_count": null,
   "metadata": {},
   "outputs": [],
   "source": [
    "from typing import Optional\n",
    "# 快慢指针这种算法证明，它们肯定是会相遇的，快的指针一定会追上慢的指针，\n",
    "# 可以理解成操场上跑步，跑的快的人套圈跑的慢的人。\n",
    "# 设置成别的整数也是可以的，比如 fast 走 3 步，slow 走 1 步。\n",
    "# Definition for singly-linked list.\n",
    "class ListNode:\n",
    "\n",
    "    def __init__(self, x):\n",
    "        self.val = x\n",
    "        self.next = None\n",
    "\n",
    "\n",
    "class Solution:\n",
    "\n",
    "    def hasCycle(self, head: Optional[ListNode]) -> bool:\n",
    "        slow = fast = head\n",
    "        # 如果不存在环，肯定 fast 先指向 null\n",
    "        # 细节：fast 每次走 2 步，所以要确定 fast 和 fast.next 不为空，不然会报执行出错。\n",
    "        while fast and fast.next:\n",
    "            fast = fast.next.next\n",
    "            slow = slow.next\n",
    "            if fast == slow:\n",
    "                return True\n",
    "        return False"
   ]
  }
 ],
 "metadata": {
  "language_info": {
   "name": "python"
  },
  "orig_nbformat": 4
 },
 "nbformat": 4,
 "nbformat_minor": 2
}
