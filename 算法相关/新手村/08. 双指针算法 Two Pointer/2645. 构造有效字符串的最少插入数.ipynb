{
 "cells": [
  {
   "cell_type": "code",
   "execution_count": null,
   "metadata": {},
   "outputs": [],
   "source": [
    "class Solution:\n",
    "    def addMinimum(self, word: str) -> int:\n",
    "        p1 = p2 = 0\n",
    "        n = len(word)\n",
    "        s = 'abc'\n",
    "        ans = 0\n",
    "        while p1 < n:\n",
    "            if word[p1] == s[p2]:\n",
    "                p1 += 1\n",
    "                p2 = (p2 + 1) % 3\n",
    "            else:\n",
    "                ans += 1\n",
    "                p2 = (p2 + 1) % 3\n",
    "        if p2 != 0:\n",
    "            ans += 3 - p2\n",
    "        return ans"
   ]
  }
 ],
 "metadata": {
  "language_info": {
   "name": "python"
  },
  "orig_nbformat": 4
 },
 "nbformat": 4,
 "nbformat_minor": 2
}
