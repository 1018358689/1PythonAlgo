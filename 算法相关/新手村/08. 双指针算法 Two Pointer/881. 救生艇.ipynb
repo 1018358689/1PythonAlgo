{
 "cells": [
  {
   "cell_type": "code",
   "execution_count": 2,
   "metadata": {},
   "outputs": [
    {
     "data": {
      "text/plain": [
       "3"
      ]
     },
     "execution_count": 2,
     "metadata": {},
     "output_type": "execute_result"
    }
   ],
   "source": [
    "def f(people: list, limit: int):\n",
    "    people.sort()\n",
    "    l, r = 0, len(people) - 1\n",
    "    ans = 0\n",
    "    while l < r:\n",
    "        if people[l] + people[r] > limit:\n",
    "            r -= 1\n",
    "        else:\n",
    "            l += 1\n",
    "            r -= 1\n",
    "        ans += 1\n",
    "        if l == r:\n",
    "            ans += 1\n",
    "    return ans\n",
    "\n",
    "\n",
    "f([3, 2, 2, 1], 3)\n"
   ]
  },
  {
   "cell_type": "code",
   "execution_count": null,
   "metadata": {},
   "outputs": [],
   "source": [
    "def f(people: list, limit: int):\n",
    "    people.sort()\n",
    "    l, r = 0, len(people) - 1\n",
    "    ans = 0\n",
    "    while l <= r:\n",
    "        if people[l] + people[r] > limit:\n",
    "            r -= 1\n",
    "        else:\n",
    "            l += 1\n",
    "            r -= 1\n",
    "        ans += 1\n",
    "    return ans\n",
    "\n",
    "\n",
    "f([3, 2, 2, 1], 3)\n"
   ]
  }
 ],
 "metadata": {
  "interpreter": {
   "hash": "aee8b7b246df8f9039afb4144a1f6fd8d2ca17a180786b69acc140d282b71a49"
  },
  "kernelspec": {
   "display_name": "Python 3.10.1 64-bit",
   "language": "python",
   "name": "python3"
  },
  "language_info": {
   "codemirror_mode": {
    "name": "ipython",
    "version": 3
   },
   "file_extension": ".py",
   "mimetype": "text/x-python",
   "name": "python",
   "nbconvert_exporter": "python",
   "pygments_lexer": "ipython3",
   "version": "3.10.1"
  },
  "orig_nbformat": 4
 },
 "nbformat": 4,
 "nbformat_minor": 2
}
