{
 "cells": [
  {
   "cell_type": "code",
   "execution_count": 1,
   "metadata": {},
   "outputs": [],
   "source": [
    "from typing import List\n",
    "\n",
    "\n",
    "class Solution:\n",
    "    def findRotation(self, mat: List[List[int]], target: List[List[int]]) -> bool:\n",
    "        if mat == target:\n",
    "            return True\n",
    "        n = len(mat)\n",
    "\n",
    "        def rota(mat):\n",
    "            for r in range(n):\n",
    "                for c in range(r + 1, n):\n",
    "                    mat[r][c], mat[c][r] = mat[c][r], mat[r][c]\n",
    "                mat[r].reverse()\n",
    "\n",
    "        for _ in range(3):\n",
    "            rota(mat)\n",
    "            if mat == target:\n",
    "                return True\n",
    "        return False"
   ]
  },
  {
   "cell_type": "code",
   "execution_count": null,
   "metadata": {},
   "outputs": [],
   "source": [
    "from typing import List\n",
    "\n",
    "\n",
    "class Solution:\n",
    "    def findRotation(self, mat: List[List[int]], target: List[List[int]]) -> bool:\n",
    "        if mat == target:\n",
    "            return True\n",
    "\n",
    "        def rota(mat):\n",
    "            return [list(i[::-1]) for i in zip(*mat)]\n",
    "\n",
    "        for _ in range(3):\n",
    "            mat = rota(mat)\n",
    "            if mat == target:\n",
    "                return True\n",
    "        return False"
   ]
  }
 ],
 "metadata": {
  "kernelspec": {
   "display_name": "Python 3.8.10 64-bit",
   "language": "python",
   "name": "python3"
  },
  "language_info": {
   "codemirror_mode": {
    "name": "ipython",
    "version": 3
   },
   "file_extension": ".py",
   "mimetype": "text/x-python",
   "name": "python",
   "nbconvert_exporter": "python",
   "pygments_lexer": "ipython3",
   "version": "3.8.10"
  },
  "orig_nbformat": 4,
  "vscode": {
   "interpreter": {
    "hash": "de72d97932d649c6d75aa79b73261cc3e8a1ae5e7cab8a9115f0bbb1518a7af2"
   }
  }
 },
 "nbformat": 4,
 "nbformat_minor": 2
}
