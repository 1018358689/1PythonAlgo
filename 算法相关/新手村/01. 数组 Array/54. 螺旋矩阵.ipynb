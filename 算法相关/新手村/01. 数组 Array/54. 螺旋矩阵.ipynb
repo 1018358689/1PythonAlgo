{
 "cells": [
  {
   "cell_type": "code",
   "execution_count": 1,
   "metadata": {},
   "outputs": [
    {
     "data": {
      "text/plain": [
       "[1, 2, 3, 6, 9, 8, 7, 4, 5]"
      ]
     },
     "execution_count": 1,
     "metadata": {},
     "output_type": "execute_result"
    }
   ],
   "source": [
    "from typing import List\n",
    "\n",
    "\n",
    "class Solution:\n",
    "    def spiralOrder(self, matrix: List[List[int]]) -> List[int]:\n",
    "        ans = []\n",
    "        while matrix:\n",
    "            ans += matrix.pop(0)\n",
    "            matrix = [i for i in zip(*matrix)][::-1] # 逆时针旋转90度\n",
    "        return ans\n",
    "\n",
    "\n",
    "s = Solution()\n",
    "s.spiralOrder([[1, 2, 3], [4, 5, 6], [7, 8, 9]])\n"
   ]
  },
  {
   "cell_type": "code",
   "execution_count": null,
   "metadata": {},
   "outputs": [],
   "source": [
    "from typing import List\n",
    "\n",
    "\n",
    "class Solution:\n",
    "    def spiralOrder(self, matrix: List[List[int]]) -> List[int]:\n",
    "        rows, cols = len(matrix), len(matrix[0])\n",
    "        ans = []\n",
    "        # 左右上下边界\n",
    "        left, right, top, bottom = 0, cols - 1, 0, rows - 1\n",
    "        while True:\n",
    "            for c in range(left, right + 1):  # 上\n",
    "                ans.append(matrix[top][c])\n",
    "            top += 1\n",
    "            if top > bottom:\n",
    "                break\n",
    "            for r in range(top, bottom + 1):  # 右\n",
    "                ans.append(matrix[r][right])\n",
    "            right -= 1\n",
    "            if left > right:\n",
    "                break\n",
    "            for c in range(right, left - 1, -1):  # 下\n",
    "                ans.append(matrix[bottom][c])\n",
    "            bottom -= 1\n",
    "            if top > bottom:\n",
    "                break\n",
    "            for r in range(bottom, top - 1, -1):  # 左\n",
    "                ans.append(matrix[r][left])\n",
    "            left += 1\n",
    "            if left > right:\n",
    "                break\n",
    "        return ans"
   ]
  }
 ],
 "metadata": {
  "kernelspec": {
   "display_name": "Python 3.8.10 64-bit",
   "language": "python",
   "name": "python3"
  },
  "language_info": {
   "codemirror_mode": {
    "name": "ipython",
    "version": 3
   },
   "file_extension": ".py",
   "mimetype": "text/x-python",
   "name": "python",
   "nbconvert_exporter": "python",
   "pygments_lexer": "ipython3",
   "version": "3.8.10"
  },
  "orig_nbformat": 4,
  "vscode": {
   "interpreter": {
    "hash": "de72d97932d649c6d75aa79b73261cc3e8a1ae5e7cab8a9115f0bbb1518a7af2"
   }
  }
 },
 "nbformat": 4,
 "nbformat_minor": 2
}
