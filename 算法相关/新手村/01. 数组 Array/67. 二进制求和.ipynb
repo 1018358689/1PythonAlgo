{
 "cells": [
  {
   "cell_type": "code",
   "execution_count": 1,
   "metadata": {},
   "outputs": [],
   "source": [
    "class Solution:\n",
    "    def addBinary(self, a: str, b: str) -> str:\n",
    "        ans = ''\n",
    "        sig = 0\n",
    "        maxlgh = max(len(a), len(b))\n",
    "\n",
    "        def getNum(x, i):\n",
    "            d = maxlgh - len(x)\n",
    "            if i - d >= 0:\n",
    "                return int(x[i - d])\n",
    "            else:\n",
    "                return 0\n",
    "\n",
    "        p = maxlgh - 1\n",
    "        while p >= 0:\n",
    "            one = getNum(a, p)\n",
    "            two = getNum(b, p)\n",
    "            sig, tmp = divmod(one + two + sig, 2)\n",
    "            ans += str(tmp)\n",
    "            p -= 1\n",
    "        if sig == 1:\n",
    "            ans += '1'\n",
    "        return ans[::-1]"
   ]
  },
  {
   "cell_type": "code",
   "execution_count": null,
   "metadata": {},
   "outputs": [],
   "source": []
  }
 ],
 "metadata": {
  "kernelspec": {
   "display_name": "Python 3.8.10 64-bit",
   "language": "python",
   "name": "python3"
  },
  "language_info": {
   "codemirror_mode": {
    "name": "ipython",
    "version": 3
   },
   "file_extension": ".py",
   "mimetype": "text/x-python",
   "name": "python",
   "nbconvert_exporter": "python",
   "pygments_lexer": "ipython3",
   "version": "3.8.10"
  },
  "orig_nbformat": 4,
  "vscode": {
   "interpreter": {
    "hash": "de72d97932d649c6d75aa79b73261cc3e8a1ae5e7cab8a9115f0bbb1518a7af2"
   }
  }
 },
 "nbformat": 4,
 "nbformat_minor": 2
}
