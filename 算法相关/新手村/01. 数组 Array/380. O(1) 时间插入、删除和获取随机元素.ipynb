{
 "cells": [
  {
   "cell_type": "code",
   "execution_count": null,
   "metadata": {},
   "outputs": [],
   "source": [
    "from random import choice\n",
    "\n",
    "\n",
    "class RandomizedSet:\n",
    "\n",
    "    def __init__(self):\n",
    "        self.val2index = {}\n",
    "        self.nums = []\n",
    "\n",
    "    def insert(self, val: int) -> bool:\n",
    "        if val in self.nums:\n",
    "            return False\n",
    "        self.val2index[val] = len(self.nums)\n",
    "        self.nums.append(val)\n",
    "        return True\n",
    "\n",
    "    # 用最后一位顶替val值\n",
    "    def remove(self, val: int) -> bool:\n",
    "        if val not in self.nums:\n",
    "            return False\n",
    "        index = self.val2index[val]\n",
    "        self.val2index[self.nums[-1]] = index\n",
    "        self.val2index.pop(val)\n",
    "        self.nums[index], self.nums[-1] = self.nums[-1], self.nums[index]\n",
    "        self.nums.pop()\n",
    "        return True\n",
    "\n",
    "    def getRandom(self) -> int:\n",
    "        return choice(self.nums)\n",
    "\n",
    "\n",
    "# Your RandomizedSet object will be instantiated and called as such:\n",
    "# obj = RandomizedSet()\n",
    "# param_1 = obj.insert(val)\n",
    "# param_2 = obj.remove(val)\n",
    "# param_3 = obj.getRandom()\n"
   ]
  },
  {
   "cell_type": "code",
   "execution_count": 1,
   "metadata": {},
   "outputs": [
    {
     "data": {
      "text/plain": [
       "map"
      ]
     },
     "execution_count": 1,
     "metadata": {},
     "output_type": "execute_result"
    }
   ],
   "source": [
    "# 画草图二次练习\n",
    "from random import choice\n",
    "\n",
    "\n",
    "class RandomizedSet:\n",
    "    def __init__(self):\n",
    "        self.l = []\n",
    "        self.v2i = {}\n",
    "\n",
    "    def insert(self, val: int) -> bool:\n",
    "        if val in self.v2i:\n",
    "            return False\n",
    "        self.v2i[val] = len(self.l)\n",
    "        self.l.append(val)\n",
    "        return True\n",
    "\n",
    "    def remove(self, val: int) -> bool:\n",
    "        if val not in self.v2i:\n",
    "            return False\n",
    "        idx = self.v2i[val]\n",
    "        self.v2i[self.l[-1]] = idx\n",
    "        self.l[idx], self.l[-1] = self.l[-1], self.l[idx]\n",
    "        self.l.pop()\n",
    "        self.v2i.pop(val)\n",
    "        return True\n",
    "\n",
    "    def getRandom(self) -> int:\n",
    "        return choice(self.l)\n",
    "\n",
    "\n",
    "# Your RandomizedSet object will be instantiated and called as such:\n",
    "# obj = RandomizedSet()\n",
    "# param_1 = obj.insert(val)\n",
    "# param_2 = obj.remove(val)\n",
    "# param_3 = obj.getRandom()"
   ]
  },
  {
   "cell_type": "code",
   "execution_count": null,
   "metadata": {},
   "outputs": [],
   "source": []
  }
 ],
 "metadata": {
  "kernelspec": {
   "display_name": "Python 3.10.5 64-bit",
   "language": "python",
   "name": "python3"
  },
  "language_info": {
   "codemirror_mode": {
    "name": "ipython",
    "version": 3
   },
   "file_extension": ".py",
   "mimetype": "text/x-python",
   "name": "python",
   "nbconvert_exporter": "python",
   "pygments_lexer": "ipython3",
   "version": "3.10.5"
  },
  "orig_nbformat": 4,
  "vscode": {
   "interpreter": {
    "hash": "3196968d684371006099b3d55edeef8ed90365227a30deaef86e5d4aa8519be0"
   }
  }
 },
 "nbformat": 4,
 "nbformat_minor": 2
}
