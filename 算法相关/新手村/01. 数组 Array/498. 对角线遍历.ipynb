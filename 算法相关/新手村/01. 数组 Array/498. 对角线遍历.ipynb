{
 "cells": [
  {
   "cell_type": "code",
   "execution_count": 1,
   "metadata": {},
   "outputs": [
    {
     "data": {
      "text/plain": [
       "[1, 2, 4, 7, 5, 3, 6, 8, 9]"
      ]
     },
     "execution_count": 1,
     "metadata": {},
     "output_type": "execute_result"
    }
   ],
   "source": [
    "from typing import List\n",
    "\n",
    "\n",
    "class Solution:\n",
    "\n",
    "    def findDiagonalOrder(self, mat: List[List[int]]) -> List[int]:\n",
    "        # [0,m-1+n-1]\n",
    "        # [0,0] [0,1] [2,0] [1,2] [2,2]\n",
    "        di = ((-1, 1), (1, -1))  # 右上左下\n",
    "        rows, cols = len(mat), len(mat[0])\n",
    "        r, c, d = 0, 0, 0\n",
    "        ans = []\n",
    "        while r < rows and c < cols:\n",
    "            ans.append(mat[r][c])\n",
    "            if d == 0 and (c == cols - 1 or r == 0):\n",
    "                if c == cols - 1:\n",
    "                    d = 1\n",
    "                    r += 1\n",
    "                elif r == 0:\n",
    "                    d = 1\n",
    "                    c += 1\n",
    "            elif d == 1 and (r == rows - 1 or c == 0):\n",
    "                if r == rows - 1:\n",
    "                    d = 0\n",
    "                    c += 1\n",
    "                elif c == 0:\n",
    "                    d = 0\n",
    "                    r += 1\n",
    "            else:\n",
    "                r += di[d][0]\n",
    "                c += di[d][1]\n",
    "        return ans\n",
    "\n",
    "\n",
    "s = Solution()\n",
    "s.findDiagonalOrder([[1, 2, 3], [4, 5, 6], [7, 8, 9]])\n"
   ]
  },
  {
   "cell_type": "code",
   "execution_count": 5,
   "metadata": {},
   "outputs": [
    {
     "data": {
      "text/plain": [
       "[1, 2, 4, 7, 5, 3, 6, 8, 9]"
      ]
     },
     "execution_count": 5,
     "metadata": {},
     "output_type": "execute_result"
    }
   ],
   "source": [
    "from typing import List\n",
    "from collections import deque\n",
    "\n",
    "\n",
    "class Solution:\n",
    "\n",
    "    def findDiagonalOrder(self, mat: List[List[int]]) -> List[int]:\n",
    "        rows, cols = len(mat), len(mat[0])\n",
    "        q = deque([(0, 0, 0)])\n",
    "        vis = {(0, 0)}\n",
    "        ans = []\n",
    "        while q:\n",
    "            tmp = []\n",
    "            for _ in range(len(q)):\n",
    "                r, c, step = q.popleft()\n",
    "                tmp.append(mat[r][c])\n",
    "                for nr, nc in ((r + 1, c), (r, c + 1)):\n",
    "                    if 0 <= nr < rows and 0 <= nc < cols and (nr, nc) not in vis:\n",
    "                        vis.add((nr, nc))\n",
    "                        q.append((nr, nc, step + 1))\n",
    "            ans += tmp if step % 2 == 0 else tmp[::-1]\n",
    "        return ans\n",
    "\n",
    "\n",
    "s = Solution()\n",
    "s.findDiagonalOrder([[1, 2, 3], [4, 5, 6], [7, 8, 9]])\n"
   ]
  },
  {
   "cell_type": "code",
   "execution_count": 8,
   "metadata": {},
   "outputs": [
    {
     "data": {
      "text/plain": [
       "[1, 2, 4, 7, 5, 3, 6, 8, 9]"
      ]
     },
     "execution_count": 8,
     "metadata": {},
     "output_type": "execute_result"
    }
   ],
   "source": [
    "from typing import List\n",
    "\n",
    "\n",
    "class Solution:\n",
    "\n",
    "    def findDiagonalOrder(self, mat: List[List[int]]) -> List[int]:\n",
    "        # 和范围k:[0,m-1+n-1]\n",
    "        # [0,0] [0,1] [2,0] [1,2] [2,2]\n",
    "        # 0<=x<m  x+y=k  0<=y<n -> 0<=k-x<n -> k-n<x<=k -> k-n+1<=x<k+1\n",
    "        # 0<=x<m & k-n+1<=x<k+1\n",
    "        rows, cols = len(mat), len(mat[0])\n",
    "        ans = []\n",
    "        for k in range(rows + cols - 1):\n",
    "            l, r = max(0, k - cols + 1), min(rows, k + 1)\n",
    "            tmp = [mat[i][k - i] for i in range(l, r)]\n",
    "            ans += tmp if k % 2 == 1 else tmp[::-1]\n",
    "        return ans\n",
    "\n",
    "\n",
    "s = Solution()\n",
    "s.findDiagonalOrder([[1, 2, 3], [4, 5, 6], [7, 8, 9]])\n"
   ]
  },
  {
   "cell_type": "code",
   "execution_count": null,
   "metadata": {},
   "outputs": [],
   "source": []
  }
 ],
 "metadata": {
  "kernelspec": {
   "display_name": "Python 3.10.2 64-bit",
   "language": "python",
   "name": "python3"
  },
  "language_info": {
   "codemirror_mode": {
    "name": "ipython",
    "version": 3
   },
   "file_extension": ".py",
   "mimetype": "text/x-python",
   "name": "python",
   "nbconvert_exporter": "python",
   "pygments_lexer": "ipython3",
   "version": "3.10.2"
  },
  "orig_nbformat": 4,
  "vscode": {
   "interpreter": {
    "hash": "aee8b7b246df8f9039afb4144a1f6fd8d2ca17a180786b69acc140d282b71a49"
   }
  }
 },
 "nbformat": 4,
 "nbformat_minor": 2
}
