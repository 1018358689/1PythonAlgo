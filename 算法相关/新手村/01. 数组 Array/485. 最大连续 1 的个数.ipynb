{
 "cells": [
  {
   "cell_type": "code",
   "execution_count": 2,
   "metadata": {},
   "outputs": [
    {
     "data": {
      "text/plain": [
       "3"
      ]
     },
     "execution_count": 2,
     "metadata": {},
     "output_type": "execute_result"
    }
   ],
   "source": [
    "from itertools import groupby\n",
    "\n",
    "\n",
    "def f(nums: list):\n",
    "    return max(len(list(g)) for i, g in groupby(nums) if i == 1) if 1 in nums else 0\n",
    "\n",
    "\n",
    "f([1, 1, 0, 1, 1, 1])\n"
   ]
  },
  {
   "cell_type": "code",
   "execution_count": 3,
   "metadata": {},
   "outputs": [
    {
     "data": {
      "text/plain": [
       "3"
      ]
     },
     "execution_count": 3,
     "metadata": {},
     "output_type": "execute_result"
    }
   ],
   "source": [
    "# 计数模拟\n",
    "def f(nums: list):\n",
    "    ans = 0\n",
    "    local = 0\n",
    "    for n in nums:\n",
    "        if n == 0:\n",
    "            local = 0\n",
    "        else:\n",
    "            local += 1\n",
    "            ans = max(ans, local)\n",
    "    return ans\n",
    "\n",
    "\n",
    "f([1, 1, 0, 1, 1, 1])\n"
   ]
  },
  {
   "cell_type": "code",
   "execution_count": 4,
   "metadata": {},
   "outputs": [
    {
     "data": {
      "text/plain": [
       "3"
      ]
     },
     "execution_count": 4,
     "metadata": {},
     "output_type": "execute_result"
    }
   ],
   "source": [
    "# 滑动窗口\n",
    "def f(nums: list):\n",
    "    l, r = -1, 0\n",
    "    nums += [0]\n",
    "    ans = 0\n",
    "    while r <= len(nums) - 1:\n",
    "        if nums[r] == 0:\n",
    "            ans = max(ans, r - l - 1)\n",
    "            l = r\n",
    "        r += 1\n",
    "    return ans\n",
    "\n",
    "\n",
    "f([1, 1, 0, 1, 1, 1])\n"
   ]
  },
  {
   "cell_type": "code",
   "execution_count": null,
   "metadata": {},
   "outputs": [],
   "source": []
  }
 ],
 "metadata": {
  "interpreter": {
   "hash": "aee8b7b246df8f9039afb4144a1f6fd8d2ca17a180786b69acc140d282b71a49"
  },
  "kernelspec": {
   "display_name": "Python 3.10.1 64-bit",
   "language": "python",
   "name": "python3"
  },
  "language_info": {
   "codemirror_mode": {
    "name": "ipython",
    "version": 3
   },
   "file_extension": ".py",
   "mimetype": "text/x-python",
   "name": "python",
   "nbconvert_exporter": "python",
   "pygments_lexer": "ipython3",
   "version": "3.10.1"
  },
  "orig_nbformat": 4
 },
 "nbformat": 4,
 "nbformat_minor": 2
}
