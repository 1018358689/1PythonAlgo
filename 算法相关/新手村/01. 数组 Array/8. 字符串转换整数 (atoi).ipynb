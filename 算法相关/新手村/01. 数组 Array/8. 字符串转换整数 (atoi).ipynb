{
 "cells": [
  {
   "cell_type": "code",
   "execution_count": 8,
   "metadata": {},
   "outputs": [
    {
     "data": {
      "text/plain": [
       "(2147483647, -2147483648, '')"
      ]
     },
     "execution_count": 8,
     "metadata": {},
     "output_type": "execute_result"
    }
   ],
   "source": [
    "2**31 - 1, -2**31, ''.strip()\n"
   ]
  },
  {
   "cell_type": "code",
   "execution_count": 7,
   "metadata": {},
   "outputs": [
    {
     "name": "stdout",
     "output_type": "stream",
     "text": [
      "-42 -1\n"
     ]
    },
    {
     "data": {
      "text/plain": [
       "-42"
      ]
     },
     "execution_count": 7,
     "metadata": {},
     "output_type": "execute_result"
    }
   ],
   "source": [
    "class Solution:\n",
    "\n",
    "    def myAtoi(self, s: str) -> int:\n",
    "        s = s.strip()\n",
    "        if not s:\n",
    "            return 0\n",
    "        p = 0\n",
    "        sig = 1\n",
    "        if s[0] in '-+':\n",
    "            p += 1\n",
    "        if s[0] == '-':\n",
    "            sig = -1\n",
    "\n",
    "        ans = 0\n",
    "        while p < len(s) and s[p].isdigit():\n",
    "            # if ans >= 214748365 or (sig == 1 and ans == 214748364 and s[p] > '7') or (sig == -1 and ans == 214748364 and s[p] > '8'):\n",
    "            if ans >= 214748365 or ans == 214748364 and s[p] > '7':\n",
    "                return -2**31 if sig == -1 else 2**31 - 1\n",
    "            ans = ans * 10 + ord(s[p]) - ord('0')\n",
    "            p += 1\n",
    "        return sig * ans\n",
    "\n",
    "\n",
    "s = Solution()\n",
    "s.myAtoi('  -42')"
   ]
  },
  {
   "cell_type": "code",
   "execution_count": null,
   "metadata": {},
   "outputs": [],
   "source": []
  }
 ],
 "metadata": {
  "kernelspec": {
   "display_name": "Python 3.10.5 64-bit (windows store)",
   "language": "python",
   "name": "python3"
  },
  "language_info": {
   "codemirror_mode": {
    "name": "ipython",
    "version": 3
   },
   "file_extension": ".py",
   "mimetype": "text/x-python",
   "name": "python",
   "nbconvert_exporter": "python",
   "pygments_lexer": "ipython3",
   "version": "3.10.5"
  },
  "orig_nbformat": 4,
  "vscode": {
   "interpreter": {
    "hash": "97367d2de1780ea7c502b529f25888c1b53c0430a7611816b6c7cf19d8435228"
   }
  }
 },
 "nbformat": 4,
 "nbformat_minor": 2
}
