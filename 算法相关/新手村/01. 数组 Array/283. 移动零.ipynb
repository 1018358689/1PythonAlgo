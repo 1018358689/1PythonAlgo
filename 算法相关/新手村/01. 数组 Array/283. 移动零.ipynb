{
 "cells": [
  {
   "cell_type": "code",
   "execution_count": 1,
   "metadata": {},
   "outputs": [
    {
     "data": {
      "text/plain": [
       "[1, 3, 12, 0, 0]"
      ]
     },
     "execution_count": 1,
     "metadata": {},
     "output_type": "execute_result"
    }
   ],
   "source": [
    "def f(nums: list):\n",
    "    # low:放非0数字 fast:查找非0数字\n",
    "    low = 0\n",
    "    for fast in range(len(nums)):\n",
    "        if nums[fast] != 0:\n",
    "            nums[fast], nums[low] = nums[low], nums[fast]\n",
    "            low += 1\n",
    "    return nums\n",
    "\n",
    "\n",
    "f([0, 1, 0, 3, 12])\n"
   ]
  },
  {
   "cell_type": "code",
   "execution_count": 2,
   "metadata": {},
   "outputs": [],
   "source": [
    "# 改while双指针\n",
    "def f(nums: list):\n",
    "    l, r = 0, 0\n",
    "    while r < len(nums):\n",
    "        if nums[r] != 0:\n",
    "            nums[r], nums[l] = nums[l], nums[r]\n",
    "            l += 1\n",
    "        r += 1\n",
    "    return nums"
   ]
  },
  {
   "cell_type": "code",
   "execution_count": 4,
   "metadata": {},
   "outputs": [
    {
     "data": {
      "text/plain": [
       "([1, 3, 12, 0, 0], [0])"
      ]
     },
     "execution_count": 4,
     "metadata": {},
     "output_type": "execute_result"
    }
   ],
   "source": [
    "def f(nums: list):\n",
    "    mark = -1\n",
    "    for i in range(len(nums)):\n",
    "        if nums[i] != 0:\n",
    "            mark += 1\n",
    "            nums[i], nums[mark] = nums[mark], nums[i]\n",
    "    return nums\n",
    "\n",
    "\n",
    "f([0, 1, 0, 3, 12]), f([0])\n"
   ]
  },
  {
   "cell_type": "code",
   "execution_count": null,
   "metadata": {},
   "outputs": [],
   "source": []
  }
 ],
 "metadata": {
  "interpreter": {
   "hash": "97367d2de1780ea7c502b529f25888c1b53c0430a7611816b6c7cf19d8435228"
  },
  "kernelspec": {
   "display_name": "Python 3.10.4 64-bit (windows store)",
   "language": "python",
   "name": "python3"
  },
  "language_info": {
   "codemirror_mode": {
    "name": "ipython",
    "version": 3
   },
   "file_extension": ".py",
   "mimetype": "text/x-python",
   "name": "python",
   "nbconvert_exporter": "python",
   "pygments_lexer": "ipython3",
   "version": "3.10.4"
  },
  "orig_nbformat": 4
 },
 "nbformat": 4,
 "nbformat_minor": 2
}
