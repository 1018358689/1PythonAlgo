{
 "cells": [
  {
   "cell_type": "code",
   "execution_count": 1,
   "metadata": {},
   "outputs": [],
   "source": [
    "from typing import List\n",
    "\n",
    "\n",
    "class Solution:\n",
    "    def addToArrayForm(self, num: List[int], k: int) -> List[int]:\n",
    "        ans = []\n",
    "        k = list(map(int, list(str(k))))\n",
    "        maxlgh = max(len(num), len(k))\n",
    "\n",
    "        def get(x, i):\n",
    "            d = maxlgh - len(x)\n",
    "            return 0 if i - d < 0 else x[i - d]\n",
    "\n",
    "        sig = 0\n",
    "        p = maxlgh - 1\n",
    "        while p >= 0:\n",
    "            a = get(num, p)\n",
    "            b = get(k, p)\n",
    "            sig, tmp = divmod(a + b + sig, 10)\n",
    "            ans.append(tmp)\n",
    "            p -= 1\n",
    "        if sig == 1:\n",
    "            ans.append(sig)\n",
    "        return ans[::-1]"
   ]
  },
  {
   "cell_type": "code",
   "execution_count": null,
   "metadata": {},
   "outputs": [],
   "source": [
    "from typing import List\n",
    "\n",
    "\n",
    "class Solution:\n",
    "\n",
    "    def addToArrayForm(self, num: List[int], k: int) -> List[int]:\n",
    "        ans = []\n",
    "        carry = 0\n",
    "        p = len(num) - 1\n",
    "        while p >= 0 or k:\n",
    "            n1 = num[p] if p >= 0 else 0\n",
    "            k, n2 = divmod(k, 10)\n",
    "            carry, tmp = divmod(n1 + n2 + carry, 10)\n",
    "            ans.append(tmp)\n",
    "            p -= 1\n",
    "        if carry:\n",
    "            ans.append(carry)\n",
    "        return ans[::-1]"
   ]
  }
 ],
 "metadata": {
  "kernelspec": {
   "display_name": "Python 3.10.5 64-bit",
   "language": "python",
   "name": "python3"
  },
  "language_info": {
   "codemirror_mode": {
    "name": "ipython",
    "version": 3
   },
   "file_extension": ".py",
   "mimetype": "text/x-python",
   "name": "python",
   "nbconvert_exporter": "python",
   "pygments_lexer": "ipython3",
   "version": "3.10.5"
  },
  "orig_nbformat": 4,
  "vscode": {
   "interpreter": {
    "hash": "3196968d684371006099b3d55edeef8ed90365227a30deaef86e5d4aa8519be0"
   }
  }
 },
 "nbformat": 4,
 "nbformat_minor": 2
}
