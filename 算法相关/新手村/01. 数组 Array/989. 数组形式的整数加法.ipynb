{
 "cells": [
  {
   "cell_type": "code",
   "execution_count": null,
   "metadata": {},
   "outputs": [],
   "source": [
    "from typing import List\n",
    "\n",
    "\n",
    "class Solution:\n",
    "    def addToArrayForm(self, num: List[int], k: int) -> List[int]:\n",
    "        ans = []\n",
    "        k = list(map(int, list(str(k))))\n",
    "        maxlgh = max(len(num), len(k))\n",
    "\n",
    "        def get(x, i):\n",
    "            d = maxlgh - len(x)\n",
    "            if i - d < 0:\n",
    "                return 0\n",
    "            return x[i - d]\n",
    "\n",
    "        sig = 0\n",
    "        p = maxlgh - 1\n",
    "        while p >= 0:\n",
    "            a = get(num, p)\n",
    "            b = get(k, p)\n",
    "            sig, tmp = divmod(a + b + sig, 10)\n",
    "            ans.append(tmp)\n",
    "            p -= 1\n",
    "        if sig == 1:\n",
    "            ans.append(sig)\n",
    "        return ans[::-1]"
   ]
  }
 ],
 "metadata": {
  "language_info": {
   "name": "python"
  },
  "orig_nbformat": 4
 },
 "nbformat": 4,
 "nbformat_minor": 2
}
