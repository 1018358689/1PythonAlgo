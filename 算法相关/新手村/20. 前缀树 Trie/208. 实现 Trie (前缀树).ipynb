{
 "cells": [
  {
   "cell_type": "code",
   "execution_count": null,
   "metadata": {},
   "outputs": [],
   "source": [
    "class TrieNode:\n",
    "\n",
    "    def __init__(self):\n",
    "        self.isWord = False\n",
    "        self.children = {}\n",
    "\n",
    "\n",
    "class Trie:\n",
    "\n",
    "    def __init__(self):\n",
    "        self.root = TrieNode()\n",
    "\n",
    "    def insert(self, word: str) -> None:\n",
    "        cur = self.root\n",
    "        for w in word:\n",
    "            if w not in cur.children:\n",
    "                cur.children[w] = TrieNode()\n",
    "            cur = cur.children[w]\n",
    "        cur.isWord = True\n",
    "\n",
    "    def search(self, word: str) -> bool:\n",
    "        cur = self.root\n",
    "        for w in word:\n",
    "            if w not in cur.children:\n",
    "                return False\n",
    "            cur = cur.children[w]\n",
    "        return cur.isWord\n",
    "\n",
    "    def startsWith(self, prefix: str) -> bool:\n",
    "        cur = self.root\n",
    "        for w in prefix:\n",
    "            if w not in cur.children:\n",
    "                return False\n",
    "            cur = cur.children[w]\n",
    "        return True\n",
    "\n",
    "\n",
    "# Your Trie object will be instantiated and called as such:\n",
    "# obj = Trie()\n",
    "# obj.insert(word)\n",
    "# param_2 = obj.search(word)\n",
    "# param_3 = obj.startsWith(prefix)"
   ]
  }
 ],
 "metadata": {
  "language_info": {
   "name": "python"
  },
  "orig_nbformat": 4
 },
 "nbformat": 4,
 "nbformat_minor": 2
}
