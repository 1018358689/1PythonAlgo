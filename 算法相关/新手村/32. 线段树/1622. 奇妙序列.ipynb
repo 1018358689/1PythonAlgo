{
 "cells": [
  {
   "cell_type": "code",
   "execution_count": 4,
   "metadata": {},
   "outputs": [
    {
     "data": {
      "text/plain": [
       "7"
      ]
     },
     "execution_count": 4,
     "metadata": {},
     "output_type": "execute_result"
    }
   ],
   "source": [
    "l = (lambda x:x+2, 3)\n",
    "l[0](5)"
   ]
  },
  {
   "cell_type": "code",
   "execution_count": null,
   "metadata": {},
   "outputs": [],
   "source": [
    "class Node:\n",
    "\n",
    "    def __init__(self, si, ei):\n",
    "        self.si = si\n",
    "        self.ei = ei\n",
    "        self.mi = si + ei >> 1\n",
    "        self.left = None\n",
    "        self.right = None\n",
    "        self.val = 0\n",
    "        self.addLazy = 0\n",
    "        self.mulLazy = 1\n",
    "\n",
    "\n",
    "class SegmentTree:\n",
    "\n",
    "    def __init__(self, si, ei):\n",
    "        self.root = Node(si, ei)\n",
    "        self.Mod = 10**9 + 7\n",
    "\n",
    "    def pushDown(self, node: Node):\n",
    "        if not node.left:\n",
    "            node.left = Node(node.si, node.mi)\n",
    "        if not node.right:\n",
    "            node.right = Node(node.mi + 1, node.ei)\n",
    "        if node.addLazy == 0 and node.mulLazy == 1:\n",
    "            return\n",
    "        node.left.val = node.left.val * node.mulLazy + (node.mi - node.si + 1) * node.addLazy\n",
    "        node.right.val = node.right.val * node.mulLazy + (node.ei - node.mi) * node.addLazy\n",
    "        node.left.mulLazy *= node.mulLazy\n",
    "        node.right.mulLazy *= node.mulLazy\n",
    "        node.left.addLazy = node.left.addLazy * node.mulLazy + node.addLazy\n",
    "        node.right.addLazy = node.right.addLazy * node.mulLazy + node.addLazy\n",
    "        node.left.val %= self.Mod\n",
    "        node.right.val %= self.Mod\n",
    "        node.left.mulLazy %= self.Mod\n",
    "        node.right.mulLazy %= self.Mod\n",
    "        node.left.addLazy %= self.Mod\n",
    "        node.right.addLazy %= self.Mod\n",
    "        node.addLazy = 0\n",
    "        node.mulLazy = 1\n",
    "\n",
    "    def update(self, node: Node, l, r, val, op):  # op:0为+ 1为乘\n",
    "        if node.ei < l or node.si > r:\n",
    "            return\n",
    "        if l <= node.si <= node.ei <= r:\n",
    "            if not op:\n",
    "                node.val += (node.ei - node.si + 1) * val\n",
    "                node.addLazy += val\n",
    "                node.val %= self.Mod\n",
    "                node.addLazy %= self.Mod\n",
    "            else:\n",
    "                node.val *= val\n",
    "                node.addLazy *= val\n",
    "                node.mulLazy *= val\n",
    "                node.val %= self.Mod\n",
    "                node.addLazy %= self.Mod\n",
    "                node.mulLazy %= self.Mod\n",
    "            return\n",
    "        self.pushDown(node)\n",
    "        if node.mi >= l:\n",
    "            self.update(node.left, l, r, val, op)\n",
    "        if node.mi + 1 <= r:\n",
    "            self.update(node.right, l, r, val, op)\n",
    "        node.val = node.left.val + node.right.val\n",
    "        node.val %= self.Mod\n",
    "\n",
    "    def query(self, node: Node, l, r):\n",
    "        if node.ei < l or node.si > r:\n",
    "            return 0\n",
    "        if l <= node.si <= node.ei <= r:\n",
    "            return node.val\n",
    "        self.pushDown(node)\n",
    "        ans = 0\n",
    "        if node.mi >= l:\n",
    "            ans += self.query(node.left, l, r)\n",
    "        if node.mi + 1 <= r:\n",
    "            ans += self.query(node.right, l, r)\n",
    "        return ans % self.Mod\n",
    "\n",
    "\n",
    "class Fancy:\n",
    "\n",
    "    def __init__(self):\n",
    "        self.st = SegmentTree(0, int(1e5))\n",
    "        self.cnt = 0\n",
    "\n",
    "    def append(self, val: int) -> None:\n",
    "        self.st.update(self.st.root, self.cnt, self.cnt, val, 0)\n",
    "        self.cnt += 1\n",
    "\n",
    "    def addAll(self, inc: int) -> None:\n",
    "        self.st.update(self.st.root, 0, self.cnt - 1, inc, 0)\n",
    "\n",
    "    def multAll(self, m: int) -> None:\n",
    "        self.st.update(self.st.root, 0, self.cnt - 1, m, 1)\n",
    "\n",
    "    def getIndex(self, idx: int) -> int:\n",
    "        if idx > self.cnt - 1:\n",
    "            return -1\n",
    "        return self.st.query(self.st.root, idx, idx)\n",
    "\n",
    "\n",
    "# Your Fancy object will be instantiated and called as such:\n",
    "# obj = Fancy()\n",
    "# obj.append(val)\n",
    "# obj.addAll(inc)\n",
    "# obj.multAll(m)\n",
    "# param_4 = obj.getIndex(idx)"
   ]
  }
 ],
 "metadata": {
  "kernelspec": {
   "display_name": "Python 3.10.2 64-bit",
   "language": "python",
   "name": "python3"
  },
  "language_info": {
   "codemirror_mode": {
    "name": "ipython",
    "version": 3
   },
   "file_extension": ".py",
   "mimetype": "text/x-python",
   "name": "python",
   "nbconvert_exporter": "python",
   "pygments_lexer": "ipython3",
   "version": "3.10.2"
  },
  "orig_nbformat": 4,
  "vscode": {
   "interpreter": {
    "hash": "aee8b7b246df8f9039afb4144a1f6fd8d2ca17a180786b69acc140d282b71a49"
   }
  }
 },
 "nbformat": 4,
 "nbformat_minor": 2
}
