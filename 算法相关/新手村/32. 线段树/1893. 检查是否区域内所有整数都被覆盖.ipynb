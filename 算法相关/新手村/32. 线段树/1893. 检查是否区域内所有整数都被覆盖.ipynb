{
 "cells": [
  {
   "cell_type": "code",
   "execution_count": 3,
   "metadata": {},
   "outputs": [
    {
     "data": {
      "text/plain": [
       "True"
      ]
     },
     "execution_count": 3,
     "metadata": {},
     "output_type": "execute_result"
    }
   ],
   "source": [
    "class Node:\n",
    "\n",
    "    def __init__(self, si, ei):\n",
    "        self.si = si\n",
    "        self.ei = ei\n",
    "        self.mi = si + ei >> 1\n",
    "        self.val = 0  # 区间和\n",
    "        self.left = None\n",
    "        self.right = None\n",
    "        self.lazy = None  # 区间每个值设为val 本题lazy只有两个值 None和1\n",
    "\n",
    "\n",
    "class SegmentTree:\n",
    "\n",
    "    def __init__(self, si, ei):\n",
    "        self.root = Node(si, ei)\n",
    "\n",
    "    def pushDown(self, node: Node):\n",
    "        if not node.left:\n",
    "            node.left = Node(node.si, node.mi)\n",
    "        if not node.right:\n",
    "            node.right = Node(node.mi + 1, node.ei)\n",
    "        if node.lazy is None:\n",
    "            return\n",
    "        node.left.val = (node.mi - node.si + 1) * node.lazy\n",
    "        node.right.val = (node.ei - node.mi) * node.lazy\n",
    "        node.left.lazy = node.lazy\n",
    "        node.right.lazy = node.lazy\n",
    "        node.lazy = None\n",
    "\n",
    "    def update(self, node: Node, l, r, val):  # [l,r]全设为val\n",
    "        if node.ei < l or node.si > r:\n",
    "            return\n",
    "        if l <= node.si <= node.ei <= r:\n",
    "            node.val = (node.ei - node.si + 1) * val\n",
    "            node.lazy = val\n",
    "            return\n",
    "        self.pushDown(node)\n",
    "        if node.mi >= l:\n",
    "            self.update(node.left, l, r, val)\n",
    "        if node.mi + 1 <= r:\n",
    "            self.update(node.right, l, r, val)\n",
    "        node.val = node.left.val + node.right.val\n",
    "\n",
    "    def query(self, node: Node, l, r):\n",
    "        if node.ei < l or node.si > r:\n",
    "            return 0\n",
    "        if l <= node.si <= node.ei <= r:\n",
    "            return node.val\n",
    "        self.pushDown(node)\n",
    "        ans = 0\n",
    "        if node.mi >= l:\n",
    "            ans += self.query(node.left, l, r)\n",
    "        if node.mi + 1 <= r:\n",
    "            ans += self.query(node.right, l, r)\n",
    "        return ans\n",
    "\n",
    "\n",
    "from typing import List\n",
    "\n",
    "\n",
    "class Solution:\n",
    "\n",
    "    def isCovered(self, ranges: List[List[int]], left: int, right: int) -> bool:\n",
    "        st = SegmentTree(1, 50)\n",
    "        for i, j in ranges:\n",
    "            st.update(st.root, i, j, 1)\n",
    "        return st.query(st.root, left, right) == (right - left + 1)\n",
    "\n",
    "\n",
    "s = Solution()\n",
    "s.isCovered([[1, 2], [3, 4], [5, 6]], 2, 6)\n"
   ]
  },
  {
   "cell_type": "code",
   "execution_count": null,
   "metadata": {},
   "outputs": [],
   "source": []
  }
 ],
 "metadata": {
  "kernelspec": {
   "display_name": "Python 3.10.5 64-bit (windows store)",
   "language": "python",
   "name": "python3"
  },
  "language_info": {
   "codemirror_mode": {
    "name": "ipython",
    "version": 3
   },
   "file_extension": ".py",
   "mimetype": "text/x-python",
   "name": "python",
   "nbconvert_exporter": "python",
   "pygments_lexer": "ipython3",
   "version": "3.10.5"
  },
  "orig_nbformat": 4,
  "vscode": {
   "interpreter": {
    "hash": "97367d2de1780ea7c502b529f25888c1b53c0430a7611816b6c7cf19d8435228"
   }
  }
 },
 "nbformat": 4,
 "nbformat_minor": 2
}
