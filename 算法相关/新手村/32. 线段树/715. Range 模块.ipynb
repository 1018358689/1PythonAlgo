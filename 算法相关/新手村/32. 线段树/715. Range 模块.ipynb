{
 "cells": [
  {
   "cell_type": "code",
   "execution_count": 5,
   "metadata": {},
   "outputs": [
    {
     "data": {
      "text/plain": [
       "((1, -2), True, 1, False, 1, False)"
      ]
     },
     "execution_count": 5,
     "metadata": {},
     "output_type": "execute_result"
    }
   ],
   "source": [
    "divmod(-5,-3),bool(1),int(bool(-1)),bool(0),1&-1,True & False"
   ]
  },
  {
   "cell_type": "code",
   "execution_count": 1,
   "metadata": {},
   "outputs": [],
   "source": [
    "class Node:\n",
    "\n",
    "    def __init__(self):\n",
    "        self.val = False  # True:覆盖 False:没覆盖 None:未标记\n",
    "        self.left = None\n",
    "        self.right = None\n",
    "        self.lazy = None\n",
    "\n",
    "\n",
    "class RangeModule:\n",
    "\n",
    "    def __init__(self):\n",
    "        self.root = Node()\n",
    "\n",
    "    def addRange(self, left: int, right: int) -> None:\n",
    "        self.updateTree(self.root, 1, 10**9, left, right - 1, True)\n",
    "\n",
    "    def queryRange(self, left: int, right: int) -> bool:\n",
    "        return self.queryTree(self.root, 1, 10**9, left, right - 1)\n",
    "\n",
    "    def removeRange(self, left: int, right: int) -> None:\n",
    "        self.updateTree(self.root, 1, 10**9, left, right - 1, False)\n",
    "\n",
    "    def pushUp(self, node):\n",
    "        node.val = node.left.val and node.right.val\n",
    "\n",
    "    def pushDown(self, node):\n",
    "        if not node.left: node.left = Node()\n",
    "        if not node.right: node.right = Node()\n",
    "        if node.lazy is None:\n",
    "            return\n",
    "        node.left.val = node.val\n",
    "        node.left.lazy = node.lazy\n",
    "        node.right.val = node.val\n",
    "        node.right.lazy = node.lazy\n",
    "        node.lazy = None\n",
    "\n",
    "    def updateTree(self, node, si, ei, l, r, val):\n",
    "        if ei < l or si > r:\n",
    "            return\n",
    "        if l <= si and ei <= r:\n",
    "            node.val = val\n",
    "            node.lazy = val\n",
    "            return\n",
    "        mi = si + ei >> 1\n",
    "        self.pushDown(node)\n",
    "        if l <= mi:  # 左树[si,mi]\n",
    "            self.updateTree(node.left, si, mi, l, r, val)\n",
    "        if mi + 1 <= r:\n",
    "            self.updateTree(node.right, mi + 1, ei, l, r, val)\n",
    "        self.pushUp(node)\n",
    "\n",
    "    def queryTree(self, node, si, ei, l, r):\n",
    "        if ei < l or si > r:\n",
    "            return False\n",
    "        if l <= si and ei <= r:\n",
    "            return node.val\n",
    "        mi = si + ei >> 1\n",
    "        self.pushDown(node)\n",
    "        ans = True\n",
    "        if l <= mi:\n",
    "            ans &= self.queryTree(node.left, si, mi, l, r)\n",
    "        if mi + 1 <= r:\n",
    "            ans &= self.queryTree(node.right, mi + 1, ei, l, r)\n",
    "        return ans\n",
    "\n",
    "\n",
    "# Your RangeModule object will be instantiated and called as such:\n",
    "# obj = RangeModule()\n",
    "# obj.addRange(left,right)\n",
    "# param_2 = obj.queryRange(left,right)\n",
    "# obj.removeRange(left,right)"
   ]
  }
 ],
 "metadata": {
  "kernelspec": {
   "display_name": "Python 3.10.2 64-bit",
   "language": "python",
   "name": "python3"
  },
  "language_info": {
   "codemirror_mode": {
    "name": "ipython",
    "version": 3
   },
   "file_extension": ".py",
   "mimetype": "text/x-python",
   "name": "python",
   "nbconvert_exporter": "python",
   "pygments_lexer": "ipython3",
   "version": "3.10.2"
  },
  "orig_nbformat": 4,
  "vscode": {
   "interpreter": {
    "hash": "aee8b7b246df8f9039afb4144a1f6fd8d2ca17a180786b69acc140d282b71a49"
   }
  }
 },
 "nbformat": 4,
 "nbformat_minor": 2
}
