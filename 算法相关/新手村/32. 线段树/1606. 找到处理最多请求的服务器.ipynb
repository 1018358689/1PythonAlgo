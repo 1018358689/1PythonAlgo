{
 "cells": [
  {
   "cell_type": "code",
   "execution_count": null,
   "metadata": {},
   "outputs": [],
   "source": [
    "# 这个线段树没完工 太难了\n",
    "class Node:\n",
    "    def __init__(self,si,ei) -> None:\n",
    "        self.si = si\n",
    "        self.ei = ei\n",
    "        self.mi = si+ei>>1\n",
    "        self.val = 0 # 该区间的服务器最早结束时间\n",
    "        self.left = None\n",
    "        self.right = None\n",
    "        self.lazy = None # 区间每个节点设置为lazy 但未下传\n",
    "class SegmentTree:\n",
    "    def __init__(self,si,ei) -> None:\n",
    "        self.root = Node(si,ei)\n",
    "    def pushDown(self,node:Node):\n",
    "        if not node.left:node.left = Node(node.si,node.mi)\n",
    "        if not node.right:node.right = Node(node.mi+1,node.ei)\n",
    "        if node.lazy is None:\n",
    "            return\n",
    "        node.left.val = node.lazy\n",
    "        node.right.val = node.lazy\n",
    "        node.left.lazy = node.lazy\n",
    "        node.right.lazy = node.lazy\n",
    "        node.lazy = None\n",
    "    def update(self,node:Node,l,r,val): # [l,r]所有值设为val\n",
    "        if node.ei<l or node.si>r:\n",
    "            return\n",
    "        if l<=node.si<=node.ei<=r:\n",
    "            node.val = val\n",
    "            node.lazy = val\n",
    "            return\n",
    "        self.pushDown(node)\n",
    "        if node.left.ei>=l:\n",
    "            self.update(node.left,l,r,val)\n",
    "        if node.right.si<=r:\n",
    "            self.update(node.right,l,r,val)\n",
    "        node.val = min(node.left.val,node.right.val)\n",
    "    def query(self,node:Node,l,r): # 查询[l,r]区间的服务器最早结束时间(最小值)\n",
    "        if node.ei<l or node.si>r:\n",
    "            return float('inf')\n",
    "        if l<=node.si<=node.ei<=r:\n",
    "            return node.val\n",
    "        self.pushDown(node)\n",
    "        ans = float('inf')\n",
    "        if node.left.ei>=l:\n",
    "            ans = min(ans,self.query(node.left,l,r))\n",
    "        if node.right.si<=r:\n",
    "            ans = min(ans,self.query(node.right,l,r))\n",
    "        return ans\n",
    "from typing import List\n",
    "class Solution:\n",
    "    def busiestServers(self, k: int, arrival: List[int], load: List[int]) -> List[int]:\n",
    "        self.st = SegmentTree(0,k-1)\n",
    "        "
   ]
  }
 ],
 "metadata": {
  "kernelspec": {
   "display_name": "Python 3.10.5 64-bit",
   "language": "python",
   "name": "python3"
  },
  "language_info": {
   "name": "python",
   "version": "3.10.5"
  },
  "orig_nbformat": 4,
  "vscode": {
   "interpreter": {
    "hash": "3196968d684371006099b3d55edeef8ed90365227a30deaef86e5d4aa8519be0"
   }
  }
 },
 "nbformat": 4,
 "nbformat_minor": 2
}
