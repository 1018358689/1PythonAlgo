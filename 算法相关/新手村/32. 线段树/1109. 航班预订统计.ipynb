{
 "cells": [
  {
   "cell_type": "code",
   "execution_count": 3,
   "metadata": {},
   "outputs": [
    {
     "data": {
      "text/plain": [
       "[1, 2, 3, 4]"
      ]
     },
     "execution_count": 3,
     "metadata": {},
     "output_type": "execute_result"
    }
   ],
   "source": [
    "l = [1,2,3]\n",
    "list(map(lambda x:x+2,l))\n",
    "[1,2]+[3,4]"
   ]
  },
  {
   "cell_type": "code",
   "execution_count": 8,
   "metadata": {},
   "outputs": [
    {
     "data": {
      "text/plain": [
       "[30, 30, 10, 10, 65, 65]"
      ]
     },
     "execution_count": 8,
     "metadata": {},
     "output_type": "execute_result"
    }
   ],
   "source": [
    "# 超时\n",
    "class Node:\n",
    "\n",
    "    def __init__(self, si, ei):\n",
    "        self.si = si\n",
    "        self.ei = ei\n",
    "        self.mi = si + ei >> 1\n",
    "        self.left = None\n",
    "        self.right = None\n",
    "        self.val = [0] * (ei - si + 1)\n",
    "        self.lazy = 0\n",
    "\n",
    "\n",
    "class SegmentTree:\n",
    "\n",
    "    def __init__(self, si, ei):\n",
    "        self.root = Node(si, ei)\n",
    "\n",
    "    def pushDown(self, node: Node):\n",
    "        if not node.left:\n",
    "            node.left = Node(node.si, node.mi)\n",
    "        if not node.right:\n",
    "            node.right = Node(node.mi + 1, node.ei)\n",
    "        if node.lazy == 0:\n",
    "            return\n",
    "        node.left.val = list(map(lambda x: x + node.lazy, node.left.val))\n",
    "        node.right.val = list(map(lambda x: x + node.lazy, node.right.val))\n",
    "        node.left.lazy += node.lazy\n",
    "        node.right.lazy += node.lazy\n",
    "        node.lazy = 0\n",
    "\n",
    "    def update(self, node: Node, l, r, val):  # [l,r]值都+val\n",
    "        if node.ei < l or node.si > r:\n",
    "            return\n",
    "        if l <= node.si <= node.ei <= r:\n",
    "            node.val = list(map(lambda x: x + val, node.val))\n",
    "            node.lazy += val\n",
    "            return\n",
    "        self.pushDown(node)\n",
    "        if node.mi >= l:\n",
    "            self.update(node.left, l, r, val)\n",
    "        if node.mi + 1 <= r:\n",
    "            self.update(node.right, l, r, val)\n",
    "        node.val = node.left.val + node.right.val\n",
    "\n",
    "    def query(self, node: Node, l, r):\n",
    "        if node.ei < l or node.si > r:\n",
    "            return 0\n",
    "        if l <= node.si <= node.ei <= r:\n",
    "            return node.val\n",
    "        self.pushDown(node)\n",
    "        ans = []\n",
    "        if node.mi >= l:\n",
    "            ans += self.query(node.left, l, r)\n",
    "        if node.mi + 1 <= r:\n",
    "            ans += self.query(node.right, l, r)\n",
    "        return ans\n",
    "\n",
    "\n",
    "from typing import List\n",
    "\n",
    "\n",
    "class Solution:\n",
    "\n",
    "    def corpFlightBookings(self, bookings: List[List[int]], n: int) -> List[int]:\n",
    "        st = SegmentTree(1, n)\n",
    "        for si, ei, seats in bookings:\n",
    "            st.update(st.root, si, ei, seats)\n",
    "        ans = st.query(st.root, 1, n)\n",
    "        return ans\n",
    "\n",
    "\n",
    "s = Solution()\n",
    "# s.corpFlightBookings([[1, 2, 10], [2, 3, 20], [2, 5, 25]], 5)\n",
    "s.corpFlightBookings([[5, 6, 45], [5, 6, 5], [1, 6, 10], [5, 6, 5], [1, 2, 15], [1, 2, 5]], 6)\n"
   ]
  },
  {
   "cell_type": "code",
   "execution_count": 10,
   "metadata": {},
   "outputs": [
    {
     "data": {
      "text/plain": [
       "[30, 30, 10, 10, 65, 65]"
      ]
     },
     "execution_count": 10,
     "metadata": {},
     "output_type": "execute_result"
    }
   ],
   "source": [
    "# 过了\n",
    "class Node:\n",
    "\n",
    "    def __init__(self, si, ei):\n",
    "        self.si = si\n",
    "        self.ei = ei\n",
    "        self.mi = si + ei >> 1\n",
    "        self.left = None\n",
    "        self.right = None\n",
    "        self.val = 0\n",
    "        self.lazy = 0\n",
    "\n",
    "\n",
    "class SegmentTree:\n",
    "\n",
    "    def __init__(self, si, ei):\n",
    "        self.root = Node(si, ei)\n",
    "\n",
    "    def pushDown(self, node: Node):\n",
    "        if not node.left:\n",
    "            node.left = Node(node.si, node.mi)\n",
    "        if not node.right:\n",
    "            node.right = Node(node.mi + 1, node.ei)\n",
    "        if node.lazy == 0:\n",
    "            return\n",
    "        node.left.val += node.lazy\n",
    "        node.right.val += node.lazy\n",
    "        node.left.lazy += node.lazy\n",
    "        node.right.lazy += node.lazy\n",
    "        node.lazy = 0\n",
    "\n",
    "    def update(self, node: Node, l, r, val):  # [l,r]值都+val\n",
    "        if node.ei < l or node.si > r:\n",
    "            return\n",
    "        if l <= node.si <= node.ei <= r:\n",
    "            node.val += val\n",
    "            node.lazy += val\n",
    "            return\n",
    "        self.pushDown(node)\n",
    "        if node.mi >= l:\n",
    "            self.update(node.left, l, r, val)\n",
    "        if node.mi + 1 <= r:\n",
    "            self.update(node.right, l, r, val)\n",
    "        node.val = node.left.val + node.right.val\n",
    "\n",
    "    def query(self, node: Node, l, r):\n",
    "        if node.ei < l or node.si > r:\n",
    "            return 0\n",
    "        if l <= node.si <= node.ei <= r:\n",
    "            return node.val\n",
    "        self.pushDown(node)\n",
    "        ans = 0\n",
    "        if node.mi >= l:\n",
    "            ans += self.query(node.left, l, r)\n",
    "        if node.mi + 1 <= r:\n",
    "            ans += self.query(node.right, l, r)\n",
    "        return ans\n",
    "\n",
    "\n",
    "from typing import List\n",
    "\n",
    "\n",
    "class Solution:\n",
    "\n",
    "    def corpFlightBookings(self, bookings: List[List[int]], n: int) -> List[int]:\n",
    "        st = SegmentTree(1, n)\n",
    "        for si, ei, seats in bookings:\n",
    "            st.update(st.root, si, ei, seats)\n",
    "        ans = []\n",
    "        for i in range(1, n + 1):\n",
    "            ans.append(st.query(st.root, i, i))\n",
    "        return ans\n",
    "\n",
    "\n",
    "s = Solution()\n",
    "# s.corpFlightBookings([[1, 2, 10], [2, 3, 20], [2, 5, 25]], 5)\n",
    "s.corpFlightBookings([[5, 6, 45], [5, 6, 5], [1, 6, 10], [5, 6, 5], [1, 2, 15], [1, 2, 5]], 6)\n"
   ]
  },
  {
   "cell_type": "code",
   "execution_count": null,
   "metadata": {},
   "outputs": [],
   "source": []
  }
 ],
 "metadata": {
  "kernelspec": {
   "display_name": "Python 3.10.2 64-bit",
   "language": "python",
   "name": "python3"
  },
  "language_info": {
   "codemirror_mode": {
    "name": "ipython",
    "version": 3
   },
   "file_extension": ".py",
   "mimetype": "text/x-python",
   "name": "python",
   "nbconvert_exporter": "python",
   "pygments_lexer": "ipython3",
   "version": "3.10.2"
  },
  "orig_nbformat": 4,
  "vscode": {
   "interpreter": {
    "hash": "aee8b7b246df8f9039afb4144a1f6fd8d2ca17a180786b69acc140d282b71a49"
   }
  }
 },
 "nbformat": 4,
 "nbformat_minor": 2
}
