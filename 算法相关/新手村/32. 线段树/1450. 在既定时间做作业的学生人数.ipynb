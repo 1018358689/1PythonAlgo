{
 "cells": [
  {
   "cell_type": "code",
   "execution_count": 3,
   "metadata": {},
   "outputs": [
    {
     "data": {
      "text/plain": [
       "5"
      ]
     },
     "execution_count": 3,
     "metadata": {},
     "output_type": "execute_result"
    }
   ],
   "source": [
    "class Node:\n",
    "\n",
    "    def __init__(self, si, ei) -> None:\n",
    "        self.si = si\n",
    "        self.ei = ei\n",
    "        self.lgh = ei - si + 1\n",
    "        self.mi = si + ei >> 1\n",
    "        self.left = None\n",
    "        self.right = None\n",
    "        self.val = 0  # [si,ei]的和\n",
    "        self.lazy = 0\n",
    "\n",
    "\n",
    "class SegmentTree:\n",
    "\n",
    "    def __init__(self, si, ei) -> None:\n",
    "        self.root = Node(si, ei)\n",
    "\n",
    "    def pushDown(self, node: Node):\n",
    "        if not node.left:\n",
    "            node.left = Node(node.si, node.mi)\n",
    "        if not node.right:\n",
    "            node.right = Node(node.mi + 1, node.ei)\n",
    "        if node.lazy == 0:\n",
    "            return\n",
    "        node.left.val += node.lazy * node.left.lgh\n",
    "        node.right.val += node.lazy * node.right.lgh\n",
    "        node.left.lazy += node.lazy\n",
    "        node.right.lazy += node.lazy\n",
    "        node.lazy = 0\n",
    "\n",
    "    def update(self, node: Node, l, r, val):  # [l,r]所有加val\n",
    "        if node.ei < l or node.si > r:\n",
    "            return\n",
    "        if l <= node.si <= node.ei <= r:\n",
    "            node.val += node.lgh * val\n",
    "            node.lazy += val\n",
    "            return\n",
    "        self.pushDown(node)\n",
    "        if node.mi >= l:\n",
    "            self.update(node.left, l, r, val)\n",
    "        if node.mi + 1 <= r:\n",
    "            self.update(node.right, l, r, val)\n",
    "        node.val = node.left.val + node.right.val\n",
    "\n",
    "    def query(self, node: Node, l, r):  # 查询[l,r]值\n",
    "        if node.ei < l or node.si > r:\n",
    "            return 0\n",
    "        if l <= node.si <= node.ei <= r:\n",
    "            return node.val\n",
    "        self.pushDown(node)\n",
    "        ans = 0\n",
    "        if node.mi >= l:\n",
    "            ans += self.query(node.left, l, r)\n",
    "        if node.mi + 1 <= r:\n",
    "            ans += self.query(node.right, l, r)\n",
    "        return ans\n",
    "\n",
    "\n",
    "from typing import List\n",
    "\n",
    "\n",
    "class Solution:\n",
    "\n",
    "    def busyStudent(self, startTime: List[int], endTime: List[int], queryTime: int) -> int:\n",
    "        st = SegmentTree(1, 1000)\n",
    "        for si, ei in zip(startTime, endTime):\n",
    "            st.update(st.root, si, ei, 1)\n",
    "        return st.query(st.root, queryTime, queryTime)\n",
    "\n",
    "\n",
    "s = Solution()\n",
    "s.busyStudent([1, 2, 3], [3, 2, 7], 4)\n",
    "s.busyStudent([9, 8, 7, 6, 5, 4, 3, 2, 1], [10, 10, 10, 10, 10, 10, 10, 10, 10], 5)\n"
   ]
  },
  {
   "cell_type": "code",
   "execution_count": null,
   "metadata": {},
   "outputs": [],
   "source": []
  }
 ],
 "metadata": {
  "kernelspec": {
   "display_name": "Python 3.10.6 64-bit",
   "language": "python",
   "name": "python3"
  },
  "language_info": {
   "codemirror_mode": {
    "name": "ipython",
    "version": 3
   },
   "file_extension": ".py",
   "mimetype": "text/x-python",
   "name": "python",
   "nbconvert_exporter": "python",
   "pygments_lexer": "ipython3",
   "version": "3.10.6"
  },
  "orig_nbformat": 4,
  "vscode": {
   "interpreter": {
    "hash": "dfbf064e0f2c8839bc658dd75dfc0b8f09a0440078cae3024109b27659b69d06"
   }
  }
 },
 "nbformat": 4,
 "nbformat_minor": 2
}
