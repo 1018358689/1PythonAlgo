{
 "cells": [
  {
   "cell_type": "code",
   "execution_count": null,
   "metadata": {},
   "outputs": [],
   "source": [
    "class MRUQueue:\n",
    "\n",
    "    def __init__(self, n: int):\n",
    "        self.n = n\n",
    "        self.vals = [0] * (4 * 4000)  # 区间和\n",
    "        self.nums = list(range(1, n + 1))\n",
    "        self.build(1, 0, 4000)\n",
    "\n",
    "    def build(self, o, l, r):\n",
    "        if l == r:\n",
    "            if l < self.n:\n",
    "                self.vals[o] = 1\n",
    "            return\n",
    "        m = l + r >> 1\n",
    "        self.build(o * 2, l, m)\n",
    "        self.build(o * 2 + 1, m + 1, r)\n",
    "        self.vals[o] = self.vals[o * 2] + self.vals[o * 2 + 1]\n",
    "\n",
    "    def update(self, o, l, r, idx, val):  # 单点设置\n",
    "        if l == r:\n",
    "            self.vals[o] = val\n",
    "            return\n",
    "        m = l + r >> 1\n",
    "        if m >= idx:\n",
    "            self.update(o * 2, l, m, idx, val)\n",
    "        else:\n",
    "            self.update(o * 2 + 1, m + 1, r, idx, val)\n",
    "        self.vals[o] = self.vals[o * 2] + self.vals[o * 2 + 1]\n",
    "\n",
    "    def query(self, o, l, r, lim):  # 查询[0,lim]的区间和(前缀和)\n",
    "        if r <= lim:\n",
    "            return self.vals[o]\n",
    "        m = l + r >> 1\n",
    "        ans = self.query(o * 2, l, m, lim)\n",
    "        if m + 1 <= lim:\n",
    "            ans += self.query(o * 2 + 1, m + 1, r, lim)\n",
    "        return ans\n",
    "\n",
    "    def fetch(self, k: int) -> int:\n",
    "        # 二分查找 第k个元素 前缀和==k (位置>=k第一个元素)\n",
    "        # l, r = 0, self.n - 1\n",
    "        # while l <= r:\n",
    "        #     m = l + r >> 1\n",
    "        #     if self.query(1, 0, 4000, m) >= k:\n",
    "        #         r = m - 1\n",
    "        #     else:\n",
    "        #         l = m + 1\n",
    "        l = bisect_left(range(self.n), k, key=lambda x: self.query(1, 0, 4000, x))\n",
    "        val = self.nums[l]\n",
    "        # 删除原信息 尾部增加新信息\n",
    "        self.update(1, 0, 4000, l, 0)\n",
    "        self.update(1, 0, 4000, self.n, 1)\n",
    "        self.n += 1\n",
    "        self.nums.append(val)\n",
    "        return val\n",
    "\n",
    "\n",
    "# Your MRUQueue object will be instantiated and called as such:\n",
    "# obj = MRUQueue(n)\n",
    "# param_1 = obj.fetch(k)"
   ]
  },
  {
   "cell_type": "code",
   "execution_count": null,
   "metadata": {},
   "outputs": [],
   "source": [
    "from sortedcontainers import SortedList\n",
    "\n",
    "\n",
    "class MRUQueue:\n",
    "\n",
    "    def __init__(self, n: int):\n",
    "        self.sl = SortedList([(x, x) for x in range(1, n + 1)])  # idx and val\n",
    "        self.n = n\n",
    "\n",
    "    def fetch(self, k: int) -> int:\n",
    "        idx, val = self.sl.pop(k - 1)\n",
    "        self.n += 1\n",
    "        self.sl.add((self.n, val))\n",
    "        return val\n",
    "\n",
    "\n",
    "# Your MRUQueue object will be instantiated and called as such:\n",
    "# obj = MRUQueue(n)\n",
    "# param_1 = obj.fetch(k)"
   ]
  },
  {
   "cell_type": "code",
   "execution_count": 2,
   "metadata": {},
   "outputs": [
    {
     "data": {
      "text/plain": [
       "-2"
      ]
     },
     "execution_count": 2,
     "metadata": {},
     "output_type": "execute_result"
    }
   ],
   "source": [
    "-5 + 1 >> 1"
   ]
  },
  {
   "cell_type": "code",
   "execution_count": null,
   "metadata": {},
   "outputs": [],
   "source": []
  }
 ],
 "metadata": {
  "kernelspec": {
   "display_name": "Python 3",
   "language": "python",
   "name": "python3"
  },
  "language_info": {
   "codemirror_mode": {
    "name": "ipython",
    "version": 3
   },
   "file_extension": ".py",
   "mimetype": "text/x-python",
   "name": "python",
   "nbconvert_exporter": "python",
   "pygments_lexer": "ipython3",
   "version": "3.10.5"
  },
  "orig_nbformat": 4
 },
 "nbformat": 4,
 "nbformat_minor": 2
}
