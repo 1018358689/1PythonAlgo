{
 "cells": [
  {
   "cell_type": "code",
   "execution_count": null,
   "metadata": {},
   "outputs": [],
   "source": [
    "class Solution:\n",
    "\n",
    "    def reversePairs(self, nums: List[int]) -> int:\n",
    "        vals = defaultdict(int)\n",
    "\n",
    "        def update(o, l, r, idx):  # idx += 1\n",
    "            if l == r:\n",
    "                vals[o] += 1\n",
    "                return\n",
    "            m = l + r >> 1\n",
    "            if m >= idx:\n",
    "                update(o * 2, l, m, idx)\n",
    "            else:\n",
    "                update(o * 2 + 1, m + 1, r, idx)\n",
    "            vals[o] = vals[o * 2] + vals[o * 2 + 1]\n",
    "\n",
    "        def query(o, l, r, L, R):  # 查询[L,R]\n",
    "            if L <= l and r <= R:\n",
    "                return vals[o]\n",
    "            m = l + r >> 1\n",
    "            ans = 0\n",
    "            if m >= L:\n",
    "                ans += query(o * 2, l, m, L, R)\n",
    "            if m + 1 <= R:\n",
    "                ans += query(o * 2 + 1, m + 1, r, L, R)\n",
    "            return ans\n",
    "\n",
    "        ans = 0\n",
    "        for x in nums:\n",
    "            ans += query(1, -2**32, 2**32, 2 * x + 1, 2**32)\n",
    "            update(1, -2**32, 2**32, x)\n",
    "        return ans"
   ]
  },
  {
   "cell_type": "code",
   "execution_count": null,
   "metadata": {},
   "outputs": [],
   "source": [
    "from sortedcontainers import SortedList\n",
    "\n",
    "\n",
    "class Solution:\n",
    "\n",
    "    def reversePairs(self, nums: List[int]) -> int:\n",
    "        sl = SortedList()\n",
    "        ans = 0\n",
    "        for x in nums:\n",
    "            l = sl.bisect_right(2 * x)  # >\n",
    "            ans += len(sl) - l\n",
    "            sl.add(x)\n",
    "        return ans"
   ]
  }
 ],
 "metadata": {
  "language_info": {
   "name": "python"
  },
  "orig_nbformat": 4
 },
 "nbformat": 4,
 "nbformat_minor": 2
}
