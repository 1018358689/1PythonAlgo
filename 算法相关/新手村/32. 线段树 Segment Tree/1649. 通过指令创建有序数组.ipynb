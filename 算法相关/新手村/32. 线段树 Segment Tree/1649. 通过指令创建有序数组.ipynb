{
 "cells": [
  {
   "cell_type": "code",
   "execution_count": null,
   "metadata": {},
   "outputs": [],
   "source": [
    "class Solution:\n",
    "\n",
    "    def createSortedArray(self, instructions: List[int]) -> int:\n",
    "        MOD = 10**9 + 7\n",
    "        vals = defaultdict(int)  # 区间和\n",
    "\n",
    "        def update(o, l, r, idx):  # idx += 1\n",
    "            if l == r:\n",
    "                vals[o] += 1\n",
    "                return\n",
    "            m = l + r >> 1\n",
    "            if m >= idx:\n",
    "                update(o << 1, l, m, idx)\n",
    "            if m + 1 <= idx:\n",
    "                update(o << 1 | 1, m + 1, r, idx)\n",
    "            vals[o] = vals[o << 1] + vals[o << 1 | 1]\n",
    "\n",
    "        def query(o, l, r, L, R):  # 查询[L,R]\n",
    "            if L <= l and r <= R:\n",
    "                return vals[o]\n",
    "            m = l + r >> 1\n",
    "            ans = 0\n",
    "            if m >= L:\n",
    "                ans += query(o << 1, l, m, L, R)\n",
    "            if m + 1 <= R:\n",
    "                ans += query(o << 1 | 1, m + 1, r, L, R)\n",
    "            return ans\n",
    "\n",
    "        mn, mx = min(instructions) - 1, max(instructions) + 1\n",
    "        ans = 0\n",
    "        cnt = Counter()\n",
    "        for i, x in enumerate(instructions):\n",
    "            sub1 = query(1, mn, mx, mn, x - 1)\n",
    "            sub2 = i - sub1 - cnt[x]\n",
    "            ans += min(sub1, sub2) # 直接计算 < 和 > 会超时\n",
    "            ans %= MOD\n",
    "            update(1, mn, mx, x)\n",
    "            cnt[x] += 1\n",
    "        return ans"
   ]
  },
  {
   "cell_type": "code",
   "execution_count": null,
   "metadata": {},
   "outputs": [],
   "source": [
    "from sortedcontainers import SortedList\n",
    "\n",
    "\n",
    "class Solution:\n",
    "\n",
    "    def createSortedArray(self, instructions: List[int]) -> int:\n",
    "        MOD = 10**9 + 7\n",
    "        sl = SortedList()\n",
    "        ans = 0\n",
    "        for x in instructions:\n",
    "            r = sl.bisect_left(x) - 1  # <\n",
    "            l = sl.bisect_right(x)  # >\n",
    "            ans += min(r + 1, len(sl) - l)\n",
    "            ans %= MOD\n",
    "            # print(r + 1, len(sl) - l, ans, sl)\n",
    "            sl.add(x)\n",
    "        return ans"
   ]
  }
 ],
 "metadata": {
  "language_info": {
   "name": "python"
  },
  "orig_nbformat": 4
 },
 "nbformat": 4,
 "nbformat_minor": 2
}
