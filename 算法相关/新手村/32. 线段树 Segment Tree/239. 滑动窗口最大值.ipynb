{
 "cells": [
  {
   "cell_type": "code",
   "execution_count": 1,
   "metadata": {},
   "outputs": [],
   "source": [
    "class Node:\n",
    "\n",
    "    def __init__(self, si, ei) -> None:\n",
    "        self.si = si\n",
    "        self.ei = ei\n",
    "        self.mi = si + ei >> 1\n",
    "        self.val = float('-inf')  # 区间最大值\n",
    "        self.lazy = None  # 区间所有值设为lazy 但未下传\n",
    "        self.left = None\n",
    "        self.right = None\n",
    "\n",
    "\n",
    "class SegmentTree:\n",
    "\n",
    "    def __init__(self, si, ei) -> None:\n",
    "        self.root = Node(si, ei)\n",
    "\n",
    "    def pushDown(self, node: Node):\n",
    "        if not node.left: node.left = Node(node.si, node.mi)\n",
    "        if not node.right: node.right = Node(node.mi + 1, node.ei)\n",
    "        if node.lazy is None:\n",
    "            return\n",
    "        node.left.val = node.lazy\n",
    "        node.right.val = node.lazy\n",
    "        node.left.lazy = node.lazy\n",
    "        node.right.lazy = node.lazy\n",
    "        node.lazy = None\n",
    "\n",
    "    def update(self, node: Node, l, r, val):  # [l,r]全设置val\n",
    "        if node.ei < l or node.si > r:\n",
    "            return\n",
    "        if l <= node.si and node.ei <= r:\n",
    "            node.val = val\n",
    "            node.lazy = val\n",
    "            return\n",
    "        self.pushDown(node)\n",
    "        if node.left.ei >= l:\n",
    "            self.update(node.left, l, r, val)\n",
    "        if node.right.si <= r:\n",
    "            self.update(node.right, l, r, val)\n",
    "        node.val = max(node.left.val, node.right.val)\n",
    "\n",
    "    def query(self, node: Node, l, r):  # 查询[l,r]的最大值\n",
    "        if node.ei < l or node.si > r:\n",
    "            return float('-inf')\n",
    "        if l <= node.si <= node.ei <= r:\n",
    "            return node.val\n",
    "        self.pushDown(node)\n",
    "        ans = float('-inf')\n",
    "        if node.left.ei >= l:\n",
    "            ans = max(ans, self.query(node.left, l, r))\n",
    "        if node.right.si <= r:\n",
    "            ans = max(ans, self.query(node.right, l, r))\n",
    "        return ans\n",
    "\n",
    "\n",
    "from typing import List\n",
    "\n",
    "\n",
    "class Solution:\n",
    "\n",
    "    def maxSlidingWindow(self, nums: List[int], k: int) -> List[int]:\n",
    "        st = SegmentTree(0, len(nums) - 1)\n",
    "        for i, n in enumerate(nums):\n",
    "            st.update(st.root, i, i, n)\n",
    "        return [st.query(st.root, i, i + k - 1) for i in range(len(nums) - k + 1)]\n"
   ]
  },
  {
   "cell_type": "code",
   "execution_count": null,
   "metadata": {},
   "outputs": [],
   "source": [
    "from sortedcontainers import SortedList\n",
    "\n",
    "\n",
    "class Solution:\n",
    "\n",
    "    def maxSlidingWindow(self, nums: List[int], k: int) -> List[int]:\n",
    "        sl = SortedList(nums[:k - 1])\n",
    "        ans = []\n",
    "        l = 0\n",
    "        for r in range(k - 1, len(nums)):\n",
    "            sl.add(nums[r])\n",
    "            ans.append(sl[-1])\n",
    "            sl.remove(nums[l])\n",
    "            l += 1\n",
    "        return ans"
   ]
  },
  {
   "cell_type": "code",
   "execution_count": null,
   "metadata": {},
   "outputs": [],
   "source": [
    "from sortedcontainers import SortedList\n",
    "\n",
    "\n",
    "class Solution:\n",
    "\n",
    "    def maxSlidingWindow(self, nums: List[int], k: int) -> List[int]:\n",
    "        sl = SortedList(nums[:k - 1])\n",
    "        ans = []\n",
    "        for l, r in enumerate(range(k - 1, len(nums))):\n",
    "            sl.add(nums[r])\n",
    "            ans.append(sl[-1])\n",
    "            sl.remove(nums[l])\n",
    "        return ans"
   ]
  }
 ],
 "metadata": {
  "kernelspec": {
   "display_name": "Python 3.10.5 64-bit",
   "language": "python",
   "name": "python3"
  },
  "language_info": {
   "codemirror_mode": {
    "name": "ipython",
    "version": 3
   },
   "file_extension": ".py",
   "mimetype": "text/x-python",
   "name": "python",
   "nbconvert_exporter": "python",
   "pygments_lexer": "ipython3",
   "version": "3.10.5 (tags/v3.10.5:f377153, Jun  6 2022, 16:14:13) [MSC v.1929 64 bit (AMD64)]"
  },
  "orig_nbformat": 4,
  "vscode": {
   "interpreter": {
    "hash": "3196968d684371006099b3d55edeef8ed90365227a30deaef86e5d4aa8519be0"
   }
  }
 },
 "nbformat": 4,
 "nbformat_minor": 2
}
