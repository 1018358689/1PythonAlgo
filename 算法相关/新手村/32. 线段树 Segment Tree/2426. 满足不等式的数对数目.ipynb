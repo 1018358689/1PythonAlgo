{
 "cells": [
  {
   "cell_type": "code",
   "execution_count": null,
   "metadata": {},
   "outputs": [],
   "source": [
    "class Solution:\n",
    "\n",
    "    def numberOfPairs(self, nums1: List[int], nums2: List[int], diff: int) -> int:\n",
    "        # n1i - n1j <= n2i - n2j + d -> n1i - n2i <= n1j - n2j + d -> ni <= nj + d\n",
    "        nums = [x - y for x, y in zip(nums1, nums2)]\n",
    "        lst = sorted(set(nums))  # 离散化\n",
    "        n = len(lst)\n",
    "        ans = 0\n",
    "        vals = [0] * (n + 1)  # 树状数组idx从1开始\n",
    "\n",
    "        def update(idx):  # idx = 1\n",
    "            while idx <= n:\n",
    "                vals[idx] += 1 # +指的是区间和 所以累加 如果是区间最大值 那就取max\n",
    "                idx += idx & -idx\n",
    "\n",
    "        def query(lim):  # 查询[,lim]\n",
    "            ans = 0\n",
    "            while lim > 0:\n",
    "                ans += vals[lim]\n",
    "                lim -= lim & -lim\n",
    "            return ans\n",
    "\n",
    "        for x in nums:\n",
    "            ans += query(bisect_right(lst, x + diff) - 1 + 1)  # +1 是因为树状数组idx从1开始\n",
    "            update(bisect_left(lst, x) + 1)\n",
    "        return ans"
   ]
  },
  {
   "cell_type": "code",
   "execution_count": null,
   "metadata": {},
   "outputs": [],
   "source": [
    "class Solution:\n",
    "    def numberOfPairs(self, nums1: List[int], nums2: List[int], diff: int) -> int:\n",
    "        # n1i - n1j <= n2i - n2j + d -> n1i - n2i <= n1j - n2j + d -> ni <= nj + d\n",
    "        nums = [x - y for x, y in zip(nums1, nums2)]\n",
    "        lst = sorted(set(nums)) # 离散化\n",
    "        n = len(lst)\n",
    "        ans = 0\n",
    "        vals = defaultdict(int) # 区间和\n",
    "        def update(o, l, r, idx): # idx += 1\n",
    "            if l == r:\n",
    "                vals[o] += 1\n",
    "                return\n",
    "            m = l + r >> 1\n",
    "            if m >= idx:\n",
    "                update(o * 2, l, m, idx)\n",
    "            else:\n",
    "                update(o * 2 + 1, m + 1, r, idx)\n",
    "            vals[o] = vals[o * 2] + vals[o * 2 + 1]\n",
    "        def query(o, l, r, lim): # 查询[,lim]\n",
    "            if r <= lim:\n",
    "                return vals[o]\n",
    "            m = l + r >> 1\n",
    "            ans = query(o * 2, l, m, lim)\n",
    "            if m + 1 <= lim:\n",
    "                ans += query(o * 2 + 1, m + 1, r, lim)\n",
    "            return ans\n",
    "        for x in nums:\n",
    "            ans += query(1, -1, n - 1, bisect_right(lst, x + diff) - 1) # 不存在是-1 所以根节点左边界往左一位\n",
    "            update(1, -1, n - 1, bisect_left(lst, x))\n",
    "        return ans"
   ]
  },
  {
   "cell_type": "code",
   "execution_count": null,
   "metadata": {},
   "outputs": [],
   "source": [
    "from sortedcontainers import SortedList\n",
    "\n",
    "\n",
    "class Solution:\n",
    "\n",
    "    def numberOfPairs(self, nums1: List[int], nums2: List[int], diff: int) -> int:\n",
    "        # n1i - n1j <= n2i - n2j + d -> n1i - n2i <= n1j - n2j + d -> ni <= nj + d\n",
    "        nums = [x - y for x, y in zip(nums1, nums2)]\n",
    "        sl = SortedList()\n",
    "        ans = 0\n",
    "        for x in nums:\n",
    "            r = sl.bisect_right(x + diff) - 1  # <=\n",
    "            ans += r + 1\n",
    "            sl.add(x)\n",
    "        return ans"
   ]
  }
 ],
 "metadata": {
  "language_info": {
   "name": "python"
  },
  "orig_nbformat": 4
 },
 "nbformat": 4,
 "nbformat_minor": 2
}
