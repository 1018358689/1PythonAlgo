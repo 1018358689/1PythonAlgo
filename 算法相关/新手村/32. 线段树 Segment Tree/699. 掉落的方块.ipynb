{
 "cells": [
  {
   "cell_type": "code",
   "execution_count": 7,
   "metadata": {},
   "outputs": [
    {
     "data": {
      "text/plain": [
       "50"
      ]
     },
     "execution_count": 7,
     "metadata": {},
     "output_type": "execute_result"
    }
   ],
   "source": [
    "int(1e2)+1>>1"
   ]
  },
  {
   "cell_type": "code",
   "execution_count": 12,
   "metadata": {},
   "outputs": [
    {
     "data": {
      "text/plain": [
       "[7, 16, 17]"
      ]
     },
     "execution_count": 12,
     "metadata": {},
     "output_type": "execute_result"
    }
   ],
   "source": [
    "class Node:\n",
    "\n",
    "    def __init__(self, si, ei):\n",
    "        self.si = si\n",
    "        self.ei = ei\n",
    "        self.mi = si + ei >> 1\n",
    "        self.val = 0\n",
    "        self.left = None\n",
    "        self.right = None\n",
    "        self.lazy = 0\n",
    "\n",
    "\n",
    "class SegmentTree:\n",
    "\n",
    "    def __init__(self, si, ei):\n",
    "        self.root = Node(si, ei)\n",
    "\n",
    "    def pushDown(self, node: Node):\n",
    "        if not node.left: node.left = Node(node.si, node.mi)\n",
    "        if not node.right: node.right = Node(node.mi + 1, node.ei)\n",
    "        if node.lazy == 0: return\n",
    "        # += 还是 = 要思考 需要线段图 是该范围所有值设为某个值还是该范围每个数增加值\n",
    "        # 与lc732. 我的日程安排表 III 对比\n",
    "        # https://leetcode.cn/problems/my-calendar-iii/\n",
    "        node.left.val = node.lazy\n",
    "        node.right.val = node.lazy\n",
    "        node.left.lazy = node.lazy\n",
    "        node.right.lazy = node.lazy\n",
    "        node.lazy = 0\n",
    "\n",
    "    def update(self, node: Node, l, r, val):  # [l,r]设为val\n",
    "        if node.ei < l or node.si > r:\n",
    "            return\n",
    "        if l <= node.si <= node.ei <= r:\n",
    "            node.val = val\n",
    "            node.lazy = val\n",
    "            return\n",
    "        self.pushDown(node)\n",
    "        if node.mi >= l:\n",
    "            self.update(node.left, l, r, val)\n",
    "        if node.mi + 1 <= r:\n",
    "            self.update(node.right, l, r, val)\n",
    "        node.val = max(node.left.val, node.right.val)\n",
    "\n",
    "    def query(self, node: Node, l, r):\n",
    "        if node.ei < l or node.si > r:\n",
    "            return 0\n",
    "        if l <= node.si <= node.ei <= r:\n",
    "            return node.val\n",
    "        self.pushDown(node)\n",
    "        ans = 0\n",
    "        if node.mi >= l:\n",
    "            ans = max(ans, self.query(node.left, l, r))\n",
    "        if node.mi + 1 <= r:\n",
    "            ans = max(ans, self.query(node.right, l, r))\n",
    "        return ans\n",
    "\n",
    "\n",
    "from typing import List\n",
    "\n",
    "\n",
    "class Solution:\n",
    "\n",
    "    def fallingSquares(self, positions: List[List[int]]) -> List[int]:\n",
    "        st = SegmentTree(1, int(1e8 + 1e6))\n",
    "        ans = []\n",
    "        for i, j in positions:\n",
    "            cur = st.query(st.root, i, i + j - 1)\n",
    "            st.update(st.root, i, i + j - 1, cur + j)\n",
    "            ans.append(st.root.val)\n",
    "        return ans\n",
    "\n",
    "\n",
    "s = Solution()\n",
    "s.fallingSquares([[1, 2], [1, 3], [6, 1]])\n",
    "s.fallingSquares([[9, 7], [1, 9], [3, 1]])\n"
   ]
  },
  {
   "cell_type": "code",
   "execution_count": null,
   "metadata": {},
   "outputs": [],
   "source": []
  }
 ],
 "metadata": {
  "kernelspec": {
   "display_name": "Python 3",
   "language": "python",
   "name": "python3"
  },
  "language_info": {
   "codemirror_mode": {
    "name": "ipython",
    "version": 3
   },
   "file_extension": ".py",
   "mimetype": "text/x-python",
   "name": "python",
   "nbconvert_exporter": "python",
   "pygments_lexer": "ipython3",
   "version": "3.10.5 (tags/v3.10.5:f377153, Jun  6 2022, 16:14:13) [MSC v.1929 64 bit (AMD64)]"
  },
  "orig_nbformat": 4,
  "vscode": {
   "interpreter": {
    "hash": "3196968d684371006099b3d55edeef8ed90365227a30deaef86e5d4aa8519be0"
   }
  }
 },
 "nbformat": 4,
 "nbformat_minor": 2
}
