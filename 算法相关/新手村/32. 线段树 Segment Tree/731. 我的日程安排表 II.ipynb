{
 "cells": [
  {
   "cell_type": "code",
   "execution_count": 2,
   "metadata": {},
   "outputs": [],
   "source": [
    "class Node:\n",
    "\n",
    "    def __init__(self, si, ei):\n",
    "        self.si = si\n",
    "        self.ei = ei\n",
    "        self.mi = si + ei >> 1\n",
    "        self.val = 0  # 区间最大值\n",
    "        self.lazy = 0  # 区间以+lazy 子节点未操作\n",
    "        self.left = None\n",
    "        self.right = None\n",
    "\n",
    "\n",
    "class SegmentTree:\n",
    "\n",
    "    def __init__(self, si, ei):\n",
    "        self.root = Node(si, ei)\n",
    "\n",
    "    def _pushDown(self, node: Node):\n",
    "        if not node.left: node.left = Node(node.si, node.mi)\n",
    "        if not node.right: node.right = Node(node.mi + 1, node.ei)\n",
    "        if node.lazy == 0:\n",
    "            return\n",
    "        node.left.val += node.lazy\n",
    "        node.left.lazy += node.lazy\n",
    "        node.right.val += node.lazy\n",
    "        node.right.lazy += node.lazy\n",
    "        node.lazy = 0\n",
    "\n",
    "    def update(self, node: Node, l, r, val):  # [l,r]增加val\n",
    "        if node.ei < l or node.si > r:\n",
    "            return\n",
    "        if l <= node.si <= node.ei <= r:\n",
    "            node.val += val\n",
    "            node.lazy += val\n",
    "            return\n",
    "        self._pushDown(node)\n",
    "        if node.left.ei >= l:\n",
    "            self.update(node.left, l, r, val)\n",
    "        if node.right.si <= r:\n",
    "            self.update(node.right, l, r, val)\n",
    "        node.val = max(node.left.val, node.right.val)\n",
    "\n",
    "    def query(self, node: Node, l, r):  # 查询[l,r]的val(最大值)\n",
    "        if node.ei < l or node.si > r:\n",
    "            return 0\n",
    "        if l <= node.si <= node.ei <= r:\n",
    "            return node.val\n",
    "        self._pushDown(node)\n",
    "        ans = 0\n",
    "        if node.left.ei >= l:\n",
    "            ans = max(ans, self.query(node.left, l, r))\n",
    "        if node.right.si <= r:\n",
    "            ans = max(ans, self.query(node.right, l, r))\n",
    "        return ans\n",
    "\n",
    "\n",
    "class MyCalendarTwo:\n",
    "\n",
    "    def __init__(self):\n",
    "        self.st = SegmentTree(0, 10**9)\n",
    "\n",
    "    def book(self, start: int, end: int) -> bool:\n",
    "        cnt = self.st.query(self.st.root, start, end - 1)\n",
    "        if cnt == 2:\n",
    "            return False\n",
    "        self.st.update(self.st.root, start, end - 1, 1)\n",
    "        return True\n",
    "\n",
    "\n",
    "# Your MyCalendarTwo object will be instantiated and called as such:\n",
    "# obj = MyCalendarTwo()\n",
    "# param_1 = obj.book(start,end)"
   ]
  },
  {
   "cell_type": "code",
   "execution_count": null,
   "metadata": {},
   "outputs": [],
   "source": []
  }
 ],
 "metadata": {
  "kernelspec": {
   "display_name": "Python 3.10.5 64-bit",
   "language": "python",
   "name": "python3"
  },
  "language_info": {
   "codemirror_mode": {
    "name": "ipython",
    "version": 3
   },
   "file_extension": ".py",
   "mimetype": "text/x-python",
   "name": "python",
   "nbconvert_exporter": "python",
   "pygments_lexer": "ipython3",
   "version": "3.10.5"
  },
  "orig_nbformat": 4,
  "vscode": {
   "interpreter": {
    "hash": "3196968d684371006099b3d55edeef8ed90365227a30deaef86e5d4aa8519be0"
   }
  }
 },
 "nbformat": 4,
 "nbformat_minor": 2
}
