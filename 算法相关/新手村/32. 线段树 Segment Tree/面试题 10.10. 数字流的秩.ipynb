{
 "cells": [
  {
   "cell_type": "code",
   "execution_count": null,
   "metadata": {},
   "outputs": [],
   "source": [
    "class StreamRank:\n",
    "\n",
    "    def __init__(self):\n",
    "        # 0 - 5000\n",
    "        self.vals = [0] * (4 * 50001)\n",
    "\n",
    "    def update(self, o, l, r, idx):  # idx += 1\n",
    "        if l == r:\n",
    "            self.vals[o] += 1\n",
    "            return\n",
    "        m = l + r >> 1\n",
    "        if m >= idx:\n",
    "            self.update(o * 2, l, m, idx)\n",
    "        else:\n",
    "            self.update(o * 2 + 1, m + 1, r, idx)\n",
    "        self.vals[o] = self.vals[o * 2] + self.vals[o * 2 + 1]\n",
    "\n",
    "    def query(self, o, l, r, lim):  # [,lim]\n",
    "        if r <= lim:\n",
    "            return self.vals[o]\n",
    "        m = l + r >> 1\n",
    "        ans = self.query(o * 2, l, m, lim)\n",
    "        if m + 1 <= lim:\n",
    "            ans += self.query(o * 2 + 1, m + 1, r, lim)\n",
    "        return ans\n",
    "\n",
    "    def track(self, x: int) -> None:\n",
    "        self.update(1, 0, 50000, x)\n",
    "\n",
    "    def getRankOfNumber(self, x: int) -> int:\n",
    "        return self.query(1, 0, 50000, x)\n",
    "\n",
    "\n",
    "# Your StreamRank object will be instantiated and called as such:\n",
    "# obj = StreamRank()\n",
    "# obj.track(x)\n",
    "# param_2 = obj.getRankOfNumber(x)"
   ]
  },
  {
   "cell_type": "code",
   "execution_count": null,
   "metadata": {},
   "outputs": [],
   "source": [
    "class StreamRank:\n",
    "\n",
    "    def __init__(self):\n",
    "        # 0 - 50000\n",
    "        self.vals = [0] * 50002\n",
    "\n",
    "    def track(self, x: int) -> None:\n",
    "        x += 1  # 偏移一位\n",
    "        while x <= 50001:\n",
    "            self.vals[x] += 1\n",
    "            x += x & -x\n",
    "\n",
    "    def getRankOfNumber(self, x: int) -> int:\n",
    "        x += 1\n",
    "        ans = 0\n",
    "        while x > 0:\n",
    "            ans += self.vals[x]\n",
    "            x -= x & -x\n",
    "        return ans\n",
    "\n",
    "\n",
    "# Your StreamRank object will be instantiated and called as such:\n",
    "# obj = StreamRank()\n",
    "# obj.track(x)\n",
    "# param_2 = obj.getRankOfNumber(x)"
   ]
  },
  {
   "cell_type": "code",
   "execution_count": 3,
   "metadata": {},
   "outputs": [
    {
     "data": {
      "text/plain": [
       "2"
      ]
     },
     "execution_count": 3,
     "metadata": {},
     "output_type": "execute_result"
    }
   ],
   "source": [
    "5//2"
   ]
  },
  {
   "cell_type": "code",
   "execution_count": null,
   "metadata": {},
   "outputs": [],
   "source": []
  }
 ],
 "metadata": {
  "kernelspec": {
   "display_name": "Python 3",
   "language": "python",
   "name": "python3"
  },
  "language_info": {
   "codemirror_mode": {
    "name": "ipython",
    "version": 3
   },
   "file_extension": ".py",
   "mimetype": "text/x-python",
   "name": "python",
   "nbconvert_exporter": "python",
   "pygments_lexer": "ipython3",
   "version": "3.10.5"
  },
  "orig_nbformat": 4
 },
 "nbformat": 4,
 "nbformat_minor": 2
}
