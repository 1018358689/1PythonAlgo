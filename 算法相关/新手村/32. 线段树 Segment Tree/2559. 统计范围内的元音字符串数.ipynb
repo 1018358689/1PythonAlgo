{
 "cells": [
  {
   "cell_type": "code",
   "execution_count": null,
   "metadata": {},
   "outputs": [],
   "source": [
    "class Solution:\n",
    "\n",
    "    def vowelStrings(self, words: List[str], queries: List[List[int]]) -> List[int]:\n",
    "        ha = set('aeiou')\n",
    "        n = len(words)\n",
    "        sums = [0] * (n + 1)\n",
    "\n",
    "        def update(x):  # 更新x\n",
    "            while x <= n:\n",
    "                sums[x] += 1\n",
    "                x += x & -x\n",
    "\n",
    "        def query(l, r):  # 查询\n",
    "\n",
    "            def q(x):\n",
    "                ans = 0\n",
    "                while x >= 1:\n",
    "                    ans += sums[x]\n",
    "                    x -= x & -x\n",
    "                return ans\n",
    "\n",
    "            return q(r) - q(l - 1)\n",
    "\n",
    "        for i, w in enumerate(words, 1):\n",
    "            if w[0] in ha and w[-1] in ha:\n",
    "                update(i)\n",
    "        return [query(l + 1, r + 1) for l, r in queries]"
   ]
  },
  {
   "cell_type": "code",
   "execution_count": null,
   "metadata": {},
   "outputs": [],
   "source": [
    "class Solution:\n",
    "\n",
    "    def vowelStrings(self, words: List[str], queries: List[List[int]]) -> List[int]:\n",
    "        ha = set('aeiou')\n",
    "        n = len(words)\n",
    "        sums = [0] * (4 * n)\n",
    "\n",
    "        def build(o, l, r):\n",
    "            if l == r:\n",
    "                w = words[l]\n",
    "                sums[o] = int(w[0] in ha and w[-1] in ha)\n",
    "                return\n",
    "            m = l + r >> 1\n",
    "            build(o * 2, l, m)\n",
    "            build(o * 2 + 1, m + 1, r)\n",
    "            sums[o] = sums[o * 2] + sums[o * 2 + 1]\n",
    "\n",
    "        def query(o, l, r, L, R):\n",
    "            if L <= l and r <= R:\n",
    "                return sums[o]\n",
    "            m = l + r >> 1\n",
    "            ans = 0\n",
    "            if m >= L:\n",
    "                ans += query(o * 2, l, m, L, R)\n",
    "            if m + 1 <= R:\n",
    "                ans += query(o * 2 + 1, m + 1, r, L, R)\n",
    "            return ans\n",
    "\n",
    "        build(1, 0, n - 1)\n",
    "        return [query(1, 0, n - 1, l, r) for l, r in queries]"
   ]
  },
  {
   "cell_type": "code",
   "execution_count": null,
   "metadata": {},
   "outputs": [],
   "source": [
    "class Solution:\n",
    "\n",
    "    def vowelStrings(self, words: List[str], queries: List[List[int]]) -> List[int]:\n",
    "        ha = set('aeiou')\n",
    "        checks = [i for i, x in enumerate(words) if x[0] in ha and x[-1] in ha]\n",
    "        return [bisect_right(checks, r) - bisect_left(checks, l) for l, r in queries]"
   ]
  },
  {
   "cell_type": "code",
   "execution_count": null,
   "metadata": {},
   "outputs": [],
   "source": [
    "class Solution:\n",
    "\n",
    "    def vowelStrings(self, words: List[str], queries: List[List[int]]) -> List[int]:\n",
    "        ha = set('aeiou')\n",
    "        ps = list(accumulate((int(x[0] in ha and x[-1] in ha) for x in words), initial=0))\n",
    "        return [ps[r + 1] - ps[l] for l, r in queries]"
   ]
  },
  {
   "cell_type": "code",
   "execution_count": null,
   "metadata": {},
   "outputs": [],
   "source": [
    "class Solution:\n",
    "\n",
    "    def vowelStrings(self, words: List[str], queries: List[List[int]]) -> List[int]:\n",
    "        base = ord('a')\n",
    "        t = lambda x: 1 << (ord(x) - base)\n",
    "        ha = 0\n",
    "        for x in 'aeiou':\n",
    "            ha |= t(x)\n",
    "        check = lambda x: (t(x) | ha) == ha\n",
    "        ps = list(accumulate((int(check(x[0]) and check(x[-1])) for x in words), initial=0))\n",
    "        return [ps[r + 1] - ps[l] for l, r in queries]"
   ]
  }
 ],
 "metadata": {
  "language_info": {
   "name": "python"
  },
  "orig_nbformat": 4
 },
 "nbformat": 4,
 "nbformat_minor": 2
}
