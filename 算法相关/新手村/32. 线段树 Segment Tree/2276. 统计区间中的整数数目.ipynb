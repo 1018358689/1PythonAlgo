{
 "cells": [
  {
   "cell_type": "code",
   "execution_count": 1,
   "metadata": {},
   "outputs": [],
   "source": [
    "class Node:\n",
    "\n",
    "    def __init__(self, si, ei):\n",
    "        self.si = si\n",
    "        self.ei = ei\n",
    "        self.mi = si + ei >> 1\n",
    "        self.lgh = ei - si + 1\n",
    "        self.left = None\n",
    "        self.right = None\n",
    "        self.val = 0  # 区间和\n",
    "        self.lazy = None  # 设置但未下发\n",
    "\n",
    "\n",
    "class SegmentTree:\n",
    "\n",
    "    def __init__(self, si, ei):\n",
    "        self.root = Node(si, ei)\n",
    "\n",
    "    def push_down(self, node: Node):\n",
    "        if not node.left: node.left = Node(node.si, node.mi)\n",
    "        if not node.right: node.right = Node(node.mi + 1, node.ei)\n",
    "        if node.lazy is None: return\n",
    "        node.left.val = node.left.lgh * node.lazy\n",
    "        node.right.val = node.right.lgh * node.lazy\n",
    "        node.left.lazy = node.lazy\n",
    "        node.right.lazy = node.lazy\n",
    "        node.lazy = None\n",
    "\n",
    "    def update(self, node, l, r, val):  # [l,r]全设置为val\n",
    "        if node.ei < l or node.si > r:\n",
    "            return\n",
    "        if l <= node.si and node.ei <= r:\n",
    "            node.val = node.lgh * val\n",
    "            node.lazy = val\n",
    "            return\n",
    "        self.push_down(node)\n",
    "        if node.mi >= l:\n",
    "            self.update(node.left, l, r, val)\n",
    "        if node.mi + 1 <= r:\n",
    "            self.update(node.right, l, r, val)\n",
    "        node.val = node.left.val + node.right.val\n",
    "\n",
    "    def query(self, node, l, r):  # [l,r]的和 (node和[l,r]相交的和)\n",
    "        if node.ei < l or node.si > r:\n",
    "            return 0\n",
    "        if l <= node.si and node.ei <= r:\n",
    "            return node.val\n",
    "        self.push_down(node)\n",
    "        ans = 0\n",
    "        if node.mi >= l:\n",
    "            ans += self.query(node.left, l, r)\n",
    "        if node.mi + 1 <= r:\n",
    "            ans += self.query(node.right, l, r)\n",
    "        return ans\n",
    "\n",
    "\n",
    "class CountIntervals:\n",
    "\n",
    "    def __init__(self):\n",
    "        self.st = SegmentTree(1, 10**9)\n",
    "\n",
    "    def add(self, left: int, right: int) -> None:\n",
    "        self.st.update(self.st.root, left, right, 1)\n",
    "\n",
    "    def count(self) -> int:\n",
    "        return self.st.query(self.st.root, 1, 10**9)\n",
    "\n",
    "\n",
    "# Your CountIntervals object will be instantiated and called as such:\n",
    "# obj = CountIntervals()\n",
    "# obj.add(left,right)\n",
    "# param_2 = obj.count()"
   ]
  },
  {
   "cell_type": "code",
   "execution_count": 2,
   "metadata": {},
   "outputs": [],
   "source": [
    "A = []\n",
    "for i in range(100000):\n",
    "    A.insert(0, i)"
   ]
  },
  {
   "cell_type": "code",
   "execution_count": 3,
   "metadata": {},
   "outputs": [],
   "source": [
    "A = []\n",
    "for i in range(100000):\n",
    "    A[:0] = [i]"
   ]
  },
  {
   "cell_type": "code",
   "execution_count": 5,
   "metadata": {},
   "outputs": [
    {
     "data": {
      "text/plain": [
       "(None, [-1, 1, 2, 3, 4])"
      ]
     },
     "execution_count": 5,
     "metadata": {},
     "output_type": "execute_result"
    }
   ],
   "source": [
    "a = [1,2,3,4]\n",
    "a.insert(0,-1),a"
   ]
  },
  {
   "cell_type": "code",
   "execution_count": 23,
   "metadata": {},
   "outputs": [
    {
     "data": {
      "text/plain": [
       "[1, -1, 2, 3, 4]"
      ]
     },
     "execution_count": 23,
     "metadata": {},
     "output_type": "execute_result"
    }
   ],
   "source": [
    "a = [1, 2, 3, 4]\n",
    "a[1:1] = [-1]\n",
    "a"
   ]
  },
  {
   "cell_type": "code",
   "execution_count": null,
   "metadata": {},
   "outputs": [],
   "source": []
  }
 ],
 "metadata": {
  "kernelspec": {
   "display_name": "Python 3.10.5 64-bit",
   "language": "python",
   "name": "python3"
  },
  "language_info": {
   "codemirror_mode": {
    "name": "ipython",
    "version": 3
   },
   "file_extension": ".py",
   "mimetype": "text/x-python",
   "name": "python",
   "nbconvert_exporter": "python",
   "pygments_lexer": "ipython3",
   "version": "3.10.5"
  },
  "orig_nbformat": 4,
  "vscode": {
   "interpreter": {
    "hash": "3196968d684371006099b3d55edeef8ed90365227a30deaef86e5d4aa8519be0"
   }
  }
 },
 "nbformat": 4,
 "nbformat_minor": 2
}
