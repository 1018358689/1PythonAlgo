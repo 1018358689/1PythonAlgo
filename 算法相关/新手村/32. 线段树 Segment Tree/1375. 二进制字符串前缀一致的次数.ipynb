{
 "cells": [
  {
   "cell_type": "code",
   "execution_count": null,
   "metadata": {},
   "outputs": [],
   "source": [
    "class Solution:\n",
    "    def numTimesAllBlue(self, flips: List[int]) -> int:\n",
    "        # 对 [1, n] 反转\n",
    "        n = len(flips)\n",
    "        s = [0] * (n + 1)\n",
    "        def update(x):\n",
    "            while x <= n:\n",
    "                s[x] += 1\n",
    "                x += x & -x\n",
    "        def query(x): # [1,x]\n",
    "            ans = 0\n",
    "            while x > 0:\n",
    "                ans += s[x]\n",
    "                x -= x & -x\n",
    "            return ans\n",
    "        ans = 0\n",
    "        for i, x in enumerate(flips, 1):\n",
    "            update(x)\n",
    "            if query(i) == i:\n",
    "                ans += 1\n",
    "        return ans"
   ]
  },
  {
   "cell_type": "code",
   "execution_count": null,
   "metadata": {},
   "outputs": [],
   "source": [
    "class Solution:\n",
    "    def numTimesAllBlue(self, flips: List[int]) -> int:\n",
    "        ans = mx = 0\n",
    "        for i, x in enumerate(flips, 1):\n",
    "            mx = max(mx, x)\n",
    "            ans += mx == i\n",
    "        return ans"
   ]
  }
 ],
 "metadata": {
  "language_info": {
   "name": "python"
  },
  "orig_nbformat": 4
 },
 "nbformat": 4,
 "nbformat_minor": 2
}
