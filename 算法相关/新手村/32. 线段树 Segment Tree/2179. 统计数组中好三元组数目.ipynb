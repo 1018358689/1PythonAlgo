{
 "cells": [
  {
   "cell_type": "code",
   "execution_count": null,
   "metadata": {},
   "outputs": [],
   "source": [
    "# 树状数组只能单点增加或减少 不能直接单点设置 （需要计算delta)"
   ]
  },
  {
   "cell_type": "code",
   "execution_count": null,
   "metadata": {},
   "outputs": [],
   "source": [
    "class Solution:\n",
    "\n",
    "    def goodTriplets(self, nums1: List[int], nums2: List[int]) -> int:\n",
    "        n = len(nums1)\n",
    "        ha = {x: i for i, x in enumerate(nums1)}\n",
    "        nums = [ha[x] for x in nums2]\n",
    "        # 找nums递增三元组数目 确定中间找两边 再乘一下\n",
    "        vals = [0] * (n + 1)\n",
    "\n",
    "        def update(idx):  # idx = 1 也可以说是 idx += 1\n",
    "            while idx <= n:\n",
    "                vals[idx] += 1\n",
    "                idx += idx & -idx\n",
    "\n",
    "        def query(lim):  # [,lim]的查询\n",
    "            ans = 0\n",
    "            while lim > 0:\n",
    "                ans += vals[lim]\n",
    "                lim -= lim & -lim\n",
    "            return ans\n",
    "\n",
    "        ans = 0\n",
    "        for i, x in enumerate(nums):\n",
    "            lcnt = query(x - 1 + 1)  # 右偏1位 因为树状数组idx从1开始\n",
    "            rcnt = n - x - 1 - (i - lcnt)  # 右边比x大 = 总共比x大 - 左边比x大\n",
    "            ans += lcnt * rcnt\n",
    "            update(x + 1)\n",
    "        return ans"
   ]
  },
  {
   "cell_type": "code",
   "execution_count": null,
   "metadata": {},
   "outputs": [],
   "source": [
    "class Solution:\n",
    "\n",
    "    def goodTriplets(self, nums1: List[int], nums2: List[int]) -> int:\n",
    "        n = len(nums1)\n",
    "        ha = {x: i for i, x in enumerate(nums1)}\n",
    "        nums = [ha[x] for x in nums2]\n",
    "        # 找nums递增三元组数目 确定中间找两边 再乘一下\n",
    "        vals = defaultdict(int)  # 区间和\n",
    "\n",
    "        def update(o, l, r, idx):  # idx = 1\n",
    "            if l == r:\n",
    "                vals[o] = 1\n",
    "                return\n",
    "            m = l + r >> 1\n",
    "            if m >= idx:\n",
    "                update(o * 2, l, m, idx)\n",
    "            else:\n",
    "                update(o * 2 + 1, m + 1, r, idx)\n",
    "            vals[o] = vals[o * 2] + vals[o * 2 + 1]\n",
    "\n",
    "        def query(o, l, r, lim):  # [,lim]的查询\n",
    "            if r <= lim:\n",
    "                return vals[o]\n",
    "            m = l + r >> 1\n",
    "            ans = query(o * 2, l, m, lim)\n",
    "            if m + 1 <= lim:\n",
    "                ans += query(o * 2 + 1, m + 1, r, lim)\n",
    "            return ans\n",
    "\n",
    "        ans = 0\n",
    "        for i, x in enumerate(nums):\n",
    "            lcnt = query(1, -1, n - 1, x - 1)\n",
    "            rcnt = n - x - 1 - (i - lcnt)  # 右边比x大 = 总共比x大 - 左边比x大\n",
    "            ans += lcnt * rcnt\n",
    "            update(1, -1, n - 1, x)\n",
    "        return ans"
   ]
  },
  {
   "cell_type": "code",
   "execution_count": null,
   "metadata": {},
   "outputs": [],
   "source": [
    "from sortedcontainers import SortedList\n",
    "\n",
    "\n",
    "class Solution:\n",
    "\n",
    "    def goodTriplets(self, nums1: List[int], nums2: List[int]) -> int:\n",
    "        n = len(nums1)\n",
    "        ha = {x: i for i, x in enumerate(nums1)}\n",
    "        nums = [ha[x] for x in nums2]\n",
    "        # 找nums递增三元组数目 确定中间找两边 再乘一下\n",
    "        sl = SortedList()\n",
    "        ans = 0\n",
    "        for i, x in enumerate(nums):\n",
    "            r = sl.bisect_left(x) - 1  # <\n",
    "            lcnt = r + 1  # 左边比x小\n",
    "            rcnt = n - x - 1 - (i - lcnt)  # 右边比x大 = 总共比x大 - 左边比x大\n",
    "            ans += lcnt * rcnt\n",
    "            sl.add(x)\n",
    "        return ans"
   ]
  },
  {
   "cell_type": "code",
   "execution_count": 3,
   "metadata": {},
   "outputs": [
    {
     "name": "stdout",
     "output_type": "stream",
     "text": [
      "-1000000001\n"
     ]
    }
   ],
   "source": [
    "print((- 10 ** 9 - 1) | 3)"
   ]
  },
  {
   "cell_type": "code",
   "execution_count": 9,
   "metadata": {},
   "outputs": [
    {
     "data": {
      "text/plain": [
       "3"
      ]
     },
     "execution_count": 9,
     "metadata": {},
     "output_type": "execute_result"
    }
   ],
   "source": [
    "from functools import reduce\n",
    "a = [1,2,3]\n",
    "reduce(lambda x, y: x | y, a)\n",
    "1 | 2| 3"
   ]
  },
  {
   "cell_type": "code",
   "execution_count": null,
   "metadata": {},
   "outputs": [],
   "source": []
  }
 ],
 "metadata": {
  "kernelspec": {
   "display_name": "Python 3",
   "language": "python",
   "name": "python3"
  },
  "language_info": {
   "codemirror_mode": {
    "name": "ipython",
    "version": 3
   },
   "file_extension": ".py",
   "mimetype": "text/x-python",
   "name": "python",
   "nbconvert_exporter": "python",
   "pygments_lexer": "ipython3",
   "version": "3.11.1"
  },
  "orig_nbformat": 4
 },
 "nbformat": 4,
 "nbformat_minor": 2
}
