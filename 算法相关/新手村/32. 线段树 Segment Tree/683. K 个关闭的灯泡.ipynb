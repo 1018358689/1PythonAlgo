{
 "cells": [
  {
   "cell_type": "code",
   "execution_count": null,
   "metadata": {},
   "outputs": [],
   "source": [
    "from sortedcontainers import SortedSet\n",
    "\n",
    "\n",
    "class Solution:\n",
    "\n",
    "    def kEmptySlots(self, bulbs: List[int], k: int) -> int:\n",
    "        sl = SortedSet()\n",
    "        for i, x in enumerate(bulbs, 1):\n",
    "            r = sl.bisect_left(x) - 1  # <\n",
    "            if r >= 0 and x - sl[r] == k + 1:\n",
    "                return i\n",
    "            l = sl.bisect_right(x)  # >\n",
    "            if l < len(sl) and sl[l] - x == k + 1:\n",
    "                return i\n",
    "            sl.add(x)\n",
    "        return -1\n"
   ]
  },
  {
   "cell_type": "code",
   "execution_count": null,
   "metadata": {},
   "outputs": [],
   "source": [
    "class Solution:\n",
    "\n",
    "    def kEmptySlots(self, bulbs: List[int], k: int) -> int:\n",
    "        vals = defaultdict(int)  # 区间和\n",
    "\n",
    "        def update(o, l, r, idx):  # 把 idx = 1\n",
    "            if l == r:\n",
    "                vals[o] = 1\n",
    "                return\n",
    "            m = l + r >> 1\n",
    "            if m >= idx:\n",
    "                update(o * 2, l, m, idx)\n",
    "            if m + 1 <= idx:\n",
    "                update(o * 2 + 1, m + 1, r, idx)\n",
    "            vals[o] = vals[o * 2] + vals[o * 2 + 1]\n",
    "\n",
    "        def query(o, l, r, L, R):  # 查询[L,R]区间和\n",
    "            if L <= l and r <= R:\n",
    "                return vals[o]\n",
    "            m = l + r >> 1\n",
    "            ans = 0\n",
    "            if m >= L:\n",
    "                ans += query(o * 2, l, m, L, R)\n",
    "            if m + 1 <= R:\n",
    "                ans += query(o * 2 + 1, m + 1, r, L, R)\n",
    "            return ans\n",
    "\n",
    "        mn, mx = min(bulbs) - k - 1, max(bulbs) + k + 1\n",
    "        for i, x in enumerate(bulbs, 1):\n",
    "            if query(1, mn, mx, x - k, x - 1) == 0 and query(1, mn, mx, x - k - 1, x - k - 1) == 1:\n",
    "                return i\n",
    "            if query(1, mn, mx, x + 1, x + k) == 0 and query(1, mn, mx, x + k + 1, x + k + 1) == 1:\n",
    "                return i\n",
    "            update(1, mn, mx, x)\n",
    "        return -1"
   ]
  }
 ],
 "metadata": {
  "language_info": {
   "name": "python"
  },
  "orig_nbformat": 4
 },
 "nbformat": 4,
 "nbformat_minor": 2
}
