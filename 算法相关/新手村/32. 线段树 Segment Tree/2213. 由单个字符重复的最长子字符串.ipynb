{
 "cells": [
  {
   "cell_type": "code",
   "execution_count": null,
   "metadata": {},
   "outputs": [],
   "source": [
    "class Solution:\n",
    "\n",
    "    def longestRepeating(self, s: str, queryCharacters: str, queryIndices: List[int]) -> List[int]:\n",
    "        n = len(s)\n",
    "        s = list(s)\n",
    "        pre = [0] * (4 * n)  # 前缀连续字符最长长度\n",
    "        suf = [0] * (4 * n)  # 后缀连续字符最长长度\n",
    "        mx = [0] * (4 * n)  # 区间连续字符最长长度\n",
    "\n",
    "        def push_up(o, l, r, m):\n",
    "            pre[o] = pre[o * 2]\n",
    "            suf[o] = suf[o * 2 + 1]\n",
    "            mx[o] = max(mx[o * 2], mx[o * 2 + 1])\n",
    "            if s[m] == s[m + 1]:\n",
    "                if pre[o * 2] == m - l + 1:\n",
    "                    pre[o] += pre[o * 2 + 1]\n",
    "                if suf[o * 2 + 1] == r - m:\n",
    "                    suf[o] += suf[o * 2]\n",
    "                mx[o] = max(mx[o], suf[o * 2] + pre[o * 2 + 1])  # pre[o], suf[o]\n",
    "\n",
    "        def build(o, l, r):\n",
    "            if l == r:\n",
    "                pre[o] = suf[o] = mx[o] = 1\n",
    "                return\n",
    "            m = l + r >> 1\n",
    "            build(o * 2, l, m)\n",
    "            build(o * 2 + 1, m + 1, r)\n",
    "            push_up(o, l, r, m)\n",
    "\n",
    "        def update(o, l, r, idx):  # idx设val\n",
    "            if l == r:\n",
    "                return\n",
    "            m = l + r >> 1\n",
    "            if m >= idx:\n",
    "                update(o * 2, l, m, idx)\n",
    "            else:\n",
    "                update(o * 2 + 1, m + 1, r, idx)\n",
    "            push_up(o, l, r, m)\n",
    "\n",
    "        build(1, 0, n - 1)\n",
    "        ans = []\n",
    "        for i, j in enumerate(queryIndices):\n",
    "            s[j] = queryCharacters[i]\n",
    "            update(1, 0, n - 1, j)\n",
    "            ans.append(mx[1])\n",
    "        return ans"
   ]
  }
 ],
 "metadata": {
  "language_info": {
   "name": "python"
  },
  "orig_nbformat": 4
 },
 "nbformat": 4,
 "nbformat_minor": 2
}
