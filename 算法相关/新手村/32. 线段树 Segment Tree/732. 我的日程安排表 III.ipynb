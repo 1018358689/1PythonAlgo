{
 "cells": [
  {
   "cell_type": "code",
   "execution_count": 1,
   "metadata": {},
   "outputs": [],
   "source": [
    "class Node:\n",
    "\n",
    "    def __init__(self, si, ei):  # [si,ei]\n",
    "        self.si = si\n",
    "        self.ei = ei\n",
    "        self.mi = si + ei >> 1\n",
    "        self.val = 0  # 节点表示范围内的最大值\n",
    "        self.left = None\n",
    "        self.right = None\n",
    "        self.lazy = 0\n",
    "\n",
    "\n",
    "class SegmentTree:\n",
    "\n",
    "    def __init__(self, si, ei):\n",
    "        self.root = Node(si, ei)\n",
    "\n",
    "    def pushDown(self, node: Node):\n",
    "        if not node.left: node.left = Node(node.si, node.mi)\n",
    "        if not node.right: node.right = Node(node.mi + 1, node.ei)\n",
    "        if node.lazy == 0: return\n",
    "        node.left.val += node.lazy\n",
    "        node.right.val += node.lazy\n",
    "        node.left.lazy += node.lazy  # 反复大区间 lazy原来就有需要叠加\n",
    "        node.right.lazy += node.lazy\n",
    "        node.lazy = 0\n",
    "\n",
    "    def update(self, node: Node, l, r, val):\n",
    "        if node.ei < l or node.si > r:\n",
    "            return\n",
    "        if l <= node.si <= node.ei <= r:\n",
    "            node.val += val\n",
    "            node.lazy += val  # 反复访问该区间 lazy未下传需要叠加\n",
    "            return\n",
    "        self.pushDown(node)\n",
    "        if node.mi >= l:\n",
    "            self.update(node.left, l, r, val)\n",
    "        if node.mi + 1 <= r:\n",
    "            self.update(node.right, l, r, val)\n",
    "        node.val = max(node.left.val, node.right.val)\n",
    "\n",
    "    def query(self, node: Node, l, r):\n",
    "        if node.ei < l or node.si > r:\n",
    "            return 0\n",
    "        if l <= node.si <= node.ei <= r:\n",
    "            return node.val\n",
    "        self.pushDown(node)\n",
    "        ans = 0\n",
    "        if node.mi >= l:\n",
    "            ans = max(ans, self.query(node.left, l, r))\n",
    "        if node.mi + 1 <= r:\n",
    "            ans = max(ans, self.query(node.right, l, r))\n",
    "        return ans\n",
    "\n",
    "\n",
    "class MyCalendarThree:\n",
    "\n",
    "    def __init__(self):\n",
    "        self.st = SegmentTree(0, 10**9)\n",
    "\n",
    "    def book(self, start: int, end: int) -> int:\n",
    "        self.st.update(self.st.root, start, end - 1, 1)\n",
    "        return self.st.query(self.st.root, 0, 10**9)  # self.st.root.val\n",
    "\n",
    "\n",
    "# Your MyCalendarThree object will be instantiated and called as such:\n",
    "# obj = MyCalendarThree()\n",
    "# param_1 = obj.book(start,end)"
   ]
  },
  {
   "cell_type": "code",
   "execution_count": null,
   "metadata": {},
   "outputs": [],
   "source": [
    "[47,50],[1,10],[27,36],[40,47],[20,27],[15,23],[10,18],[27,36],[17,25],[8,17],[24,33],[23,28]"
   ]
  }
 ],
 "metadata": {
  "kernelspec": {
   "display_name": "Python 3.10.5 64-bit",
   "language": "python",
   "name": "python3"
  },
  "language_info": {
   "codemirror_mode": {
    "name": "ipython",
    "version": 3
   },
   "file_extension": ".py",
   "mimetype": "text/x-python",
   "name": "python",
   "nbconvert_exporter": "python",
   "pygments_lexer": "ipython3",
   "version": "3.10.5 (tags/v3.10.5:f377153, Jun  6 2022, 16:14:13) [MSC v.1929 64 bit (AMD64)]"
  },
  "orig_nbformat": 4,
  "vscode": {
   "interpreter": {
    "hash": "3196968d684371006099b3d55edeef8ed90365227a30deaef86e5d4aa8519be0"
   }
  }
 },
 "nbformat": 4,
 "nbformat_minor": 2
}
