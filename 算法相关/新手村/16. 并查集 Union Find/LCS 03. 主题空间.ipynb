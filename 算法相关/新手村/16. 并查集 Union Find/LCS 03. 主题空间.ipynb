{
 "cells": [
  {
   "cell_type": "code",
   "execution_count": null,
   "metadata": {},
   "outputs": [],
   "source": [
    "class Solution:\n",
    "    def largestArea(self, grid: List[str]) -> int:\n",
    "        # 四周与超级节点连\n",
    "        # 非0节点要么与0连 要么与相同的连  \n",
    "        # 0与超级节点连 及 周边连\n",
    "        rows, cols = len(grid), len(grid[0])\n",
    "        n = rows * cols\n",
    "        roots = list(range(n + 1))\n",
    "        sz = [1] * (n + 1)\n",
    "        def find(x):\n",
    "            if roots[x] != x:\n",
    "                roots[x] = find(roots[x])\n",
    "            return roots[x]\n",
    "        def union(x, y):\n",
    "            rx, ry = find(x), find(y)\n",
    "            if rx != ry:\n",
    "                if sz[rx] > sz[ry]: rx, ry = ry, rx\n",
    "                roots[rx] = ry\n",
    "                sz[ry] += sz[rx]\n",
    "        for r in range(rows):\n",
    "            for c in range(cols):\n",
    "                if r == 0 or r == rows - 1 or c == 0 or c == cols - 1 or grid[r][c] == '0':\n",
    "                    union(r * cols + c, n)\n",
    "                x = grid[r][c]\n",
    "                for nr, nc in (r + 1, c), (r, c + 1):\n",
    "                    if rows > nr >= 0 <= nc < cols and (grid[r][c] == '0' or (grid[nr][nc] == '0' or grid[nr][nc] == x)):\n",
    "                        union(r * cols + c, nr * cols + nc)\n",
    "        # chils = defaultdict(list)\n",
    "        # for x in range(n + 1):\n",
    "        #     chils[find(x)].append(x)\n",
    "        # print(chils)\n",
    "        if sz[find(n)] == n + 1: return 0\n",
    "        return max(sz[find(x)] for x in range(n) if find(x) != find(n))"
   ]
  }
 ],
 "metadata": {
  "language_info": {
   "name": "python"
  },
  "orig_nbformat": 4
 },
 "nbformat": 4,
 "nbformat_minor": 2
}
