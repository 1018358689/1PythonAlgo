{
 "cells": [
  {
   "cell_type": "code",
   "execution_count": null,
   "metadata": {},
   "outputs": [],
   "source": [
    "from typing import List\n",
    "\n",
    "\n",
    "class Solution:\n",
    "\n",
    "    def maxPoints(self, grid: List[List[int]], queries: List[int]) -> List[int]:\n",
    "        # 从小到达合并做准备\n",
    "        rows, cols = len(grid), len(grid[0])\n",
    "        points = []\n",
    "        for r in range(rows):\n",
    "            for c in range(cols):\n",
    "                x = r * cols + c\n",
    "                for nr, nc in ((r + 1, c), (r, c + 1)):\n",
    "                    if nr < rows and nc < cols:\n",
    "                        y = nr * cols + nc\n",
    "                        points.append((max(grid[r][c], grid[nr][nc]), x, y))\n",
    "        points.sort(key=lambda x: x[0])\n",
    "        # 并查集\n",
    "        counts = rows * cols\n",
    "        fa = list(range(counts))\n",
    "        sz = [1] * counts\n",
    "\n",
    "        def find(x):\n",
    "            if fa[x] != x:\n",
    "                fa[x] = find(fa[x])\n",
    "            return fa[x]\n",
    "\n",
    "        def union(x, y):\n",
    "            fx, fy = find(x), find(y)\n",
    "            if fx == fy: return\n",
    "            if sz[fx] > sz[fy]: fx, fy = fy, fx\n",
    "            sz[fy] += sz[fx]\n",
    "            fa[fx] = fy\n",
    "\n",
    "        # 依次查询\n",
    "        n = len(points)\n",
    "        ans = [0] * len(queries)\n",
    "        j = 0\n",
    "        for q, i in sorted(zip(queries, range(len(queries)))):\n",
    "            while j < n and points[j][0] < q:  # 把权重小于当前的全部合并\n",
    "                union(points[j][1], points[j][2])\n",
    "                j += 1\n",
    "            ans[i] = sz[find(0)] if grid[0][0] < q else 0  # 远点是否在联通块里\n",
    "        return ans"
   ]
  },
  {
   "cell_type": "code",
   "execution_count": 2,
   "metadata": {},
   "outputs": [
    {
     "data": {
      "text/plain": [
       "[5, 8, 1]"
      ]
     },
     "execution_count": 2,
     "metadata": {},
     "output_type": "execute_result"
    }
   ],
   "source": [
    "from typing import List\n",
    "from heapq import heappop, heappush\n",
    "\n",
    "\n",
    "class Solution:\n",
    "\n",
    "    def maxPoints(self, grid: List[List[int]], queries: List[int]) -> List[int]:\n",
    "        rows, cols = len(grid), len(grid[0])\n",
    "        pq = [(grid[0][0], 0, 0)]\n",
    "        vis = {(0, 0)}\n",
    "        cnt = 0\n",
    "        # 依次查询\n",
    "        ans = [0] * len(queries)\n",
    "        for q, i in sorted(zip(queries, range(len(queries)))):\n",
    "            while pq and pq[0][0] < q:\n",
    "                _, r, c = heappop(pq)\n",
    "                cnt += 1\n",
    "                for nr, nc in ((r + 1, c), (r - 1, c), (r, c + 1), (r, c - 1)):\n",
    "                    if rows > nr >= 0 <= nc < cols and (nr, nc) not in vis:\n",
    "                        vis.add((nr, nc))\n",
    "                        heappush(pq, (grid[nr][nc], nr, nc))\n",
    "            ans[i] = cnt\n",
    "        return ans\n",
    "\n",
    "\n",
    "s = Solution()\n",
    "s.maxPoints([[1, 2, 3], [2, 5, 7], [3, 5, 1]], [5, 6, 2])\n"
   ]
  }
 ],
 "metadata": {
  "kernelspec": {
   "display_name": "Python 3",
   "language": "python",
   "name": "python3"
  },
  "language_info": {
   "codemirror_mode": {
    "name": "ipython",
    "version": 3
   },
   "file_extension": ".py",
   "mimetype": "text/x-python",
   "name": "python",
   "nbconvert_exporter": "python",
   "pygments_lexer": "ipython3",
   "version": "3.10.6 (main, Nov 14 2022, 16:10:14) [GCC 11.3.0]"
  },
  "orig_nbformat": 4,
  "vscode": {
   "interpreter": {
    "hash": "916dbcbb3f70747c44a77c7bcd40155683ae19c65e1c03b4aa3499c5328201f1"
   }
  }
 },
 "nbformat": 4,
 "nbformat_minor": 2
}
