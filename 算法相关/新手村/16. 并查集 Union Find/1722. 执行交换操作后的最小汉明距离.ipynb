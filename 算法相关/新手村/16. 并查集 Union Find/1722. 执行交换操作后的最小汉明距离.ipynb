{
 "cells": [
  {
   "cell_type": "code",
   "execution_count": null,
   "metadata": {},
   "outputs": [],
   "source": [
    "class Solution:\n",
    "\n",
    "    def minimumHammingDistance(self, source: List[int], target: List[int], allowedSwaps: List[List[int]]) -> int:\n",
    "        # 可能会有重复元素\n",
    "        n = len(source)\n",
    "        roots = list(range(n))\n",
    "\n",
    "        def find(x):\n",
    "            if roots[x] != x:\n",
    "                roots[x] = find(roots[x])\n",
    "            return roots[x]\n",
    "\n",
    "        def union(x, y):\n",
    "            rx, ry = find(x), find(y)\n",
    "            if rx != ry:\n",
    "                roots[rx] = ry\n",
    "\n",
    "        for x, y in allowedSwaps:\n",
    "            union(x, y)\n",
    "        chils = defaultdict(list)\n",
    "        for x in range(n):\n",
    "            chils[find(x)].append(x)\n",
    "        ans = 0\n",
    "        for vals in chils.values():\n",
    "            s = Counter((source[v] for v in vals))\n",
    "            t = Counter((target[v] for v in vals))\n",
    "            ans += len(list((s & t).elements()))  # 能对上的元素\n",
    "        return n - ans"
   ]
  }
 ],
 "metadata": {
  "language_info": {
   "name": "python"
  },
  "orig_nbformat": 4
 },
 "nbformat": 4,
 "nbformat_minor": 2
}
