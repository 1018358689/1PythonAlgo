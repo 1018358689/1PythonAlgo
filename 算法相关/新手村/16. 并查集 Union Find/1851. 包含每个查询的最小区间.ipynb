{
 "cells": [
  {
   "cell_type": "code",
   "execution_count": null,
   "metadata": {},
   "outputs": [],
   "source": [
    "from bisect import bisect_left\n",
    "from typing import List\n",
    "\n",
    "\n",
    "class Solution:\n",
    "\n",
    "    def minInterval(self, intervals: List[List[int]], queries: List[int]) -> List[int]:\n",
    "        m, n = len(intervals), len(queries)\n",
    "        ans = [-1] * n\n",
    "        qs = sorted((q, i) for i, q in enumerate(queries))\n",
    "        roots = list(range(n + 1))\n",
    "\n",
    "        def find(x):\n",
    "            if roots[x] != x:\n",
    "                roots[x] = find(roots[x])\n",
    "            return roots[x]\n",
    "\n",
    "        def union(x, y):\n",
    "            rx, ry = find(x), find(y)\n",
    "            if rx != ry:\n",
    "                roots[rx] = ry  # rx -> ry\n",
    "\n",
    "        for l, r in sorted(intervals, key=lambda x: x[1] - x[0]):\n",
    "            pos = bisect_left(qs, (l, -1))\n",
    "            # pos可能为n\n",
    "            j = find(pos)\n",
    "            while j < n and qs[j][0] <= r:\n",
    "                ans[qs[j][1]] = r - l + 1\n",
    "                union(j, j + 1)\n",
    "                j = find(j + 1)\n",
    "        return ans"
   ]
  }
 ],
 "metadata": {
  "language_info": {
   "name": "python"
  },
  "orig_nbformat": 4
 },
 "nbformat": 4,
 "nbformat_minor": 2
}
