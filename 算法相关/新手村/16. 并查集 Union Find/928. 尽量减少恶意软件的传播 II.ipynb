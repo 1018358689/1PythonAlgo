{
 "cells": [
  {
   "cell_type": "markdown",
   "metadata": {},
   "source": [
    "> 一个连通块如果与>1个病毒相连 去任意一个对大局无影响,  如果该连通块只与一个病毒相连,可以把该连通块大小作为病毒的贡献进行累加,最后计算最大贡献且最小的病毒节点."
   ]
  },
  {
   "cell_type": "code",
   "execution_count": 13,
   "metadata": {},
   "outputs": [
    {
     "data": {
      "text/plain": [
       "8"
      ]
     },
     "execution_count": 13,
     "metadata": {},
     "output_type": "execute_result"
    }
   ],
   "source": [
    "from typing import List\n",
    "from collections import defaultdict\n",
    "\n",
    "\n",
    "class Solution:\n",
    "\n",
    "    def minMalwareSpread(self, graph: List[List[int]], initial: List[int]) -> int:\n",
    "        n = len(graph)\n",
    "        roots = list(range(n))\n",
    "        size = [1] * n\n",
    "\n",
    "        def find(x):\n",
    "            if roots[x] != x:\n",
    "                roots[x] = find(roots[x])\n",
    "            return roots[x]\n",
    "\n",
    "        def union(x, y):\n",
    "            rx, ry = find(x), find(y)\n",
    "            if rx == ry: return\n",
    "            if size[rx] > size[ry]: rx, ry = ry, rx\n",
    "            # rx -> ry\n",
    "            size[ry] += size[rx]\n",
    "            roots[rx] = ry\n",
    "\n",
    "        initial = set(initial)\n",
    "        for i in range(n - 1):\n",
    "            for j in range(i + 1, n):\n",
    "                if graph[i][j] and not initial & {i, j}:\n",
    "                    union(i, j)\n",
    "\n",
    "        virus = defaultdict(set)  # 每个连通块能连接的病毒 配合find 用set可以避免重复计数\n",
    "        for v in initial:\n",
    "            for x in range(n):\n",
    "                if graph[v][x] and x not in initial:\n",
    "                    virus[find(x)].add(v)\n",
    "\n",
    "        mx = 0\n",
    "        ans = min(initial)\n",
    "        for v in initial:\n",
    "            cnt = 0  # 该病毒影响的连接块\n",
    "            fas = set()\n",
    "            for x in range(n):\n",
    "                # 病毒的邻接块  非病毒且连接块 能连接的病毒数唯一 (不要重复累加)\n",
    "                if graph[v][x] and x not in initial and len(virus[find(x)]) == 1 and find(x) not in fas:\n",
    "                    fas.add(find(x))\n",
    "                    cnt += size[find(x)]\n",
    "            if cnt > mx or cnt == mx and v < ans:\n",
    "                mx = cnt\n",
    "                ans = v\n",
    "        return ans\n",
    "\n",
    "\n",
    "s = Solution()\n",
    "s.minMalwareSpread([[1, 0, 0, 0, 0, 0, 0, 0, 0], [0, 1, 0, 0, 0, 0, 0, 0, 1], [0, 0, 1, 0, 0, 0, 0, 0, 0], [0, 0, 0, 1, 0, 0, 0, 0, 1], [0, 0, 0, 0, 1, 0, 1, 1, 1], [0, 0, 0, 0, 0, 1, 0, 0, 1], [0, 0, 0, 0, 1, 0, 1, 1, 0],\n",
    "                    [0, 0, 0, 0, 1, 0, 1, 1, 0], [0, 1, 0, 1, 1, 1, 0, 0, 1]], [8, 4, 2, 0])\n"
   ]
  },
  {
   "cell_type": "code",
   "execution_count": null,
   "metadata": {},
   "outputs": [],
   "source": []
  }
 ],
 "metadata": {
  "kernelspec": {
   "display_name": "Python 3",
   "language": "python",
   "name": "python3"
  },
  "language_info": {
   "codemirror_mode": {
    "name": "ipython",
    "version": 3
   },
   "file_extension": ".py",
   "mimetype": "text/x-python",
   "name": "python",
   "nbconvert_exporter": "python",
   "pygments_lexer": "ipython3",
   "version": "3.10.5"
  },
  "orig_nbformat": 4,
  "vscode": {
   "interpreter": {
    "hash": "3196968d684371006099b3d55edeef8ed90365227a30deaef86e5d4aa8519be0"
   }
  }
 },
 "nbformat": 4,
 "nbformat_minor": 2
}
