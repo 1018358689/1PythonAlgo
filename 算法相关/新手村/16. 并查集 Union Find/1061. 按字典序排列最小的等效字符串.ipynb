{
 "cells": [
  {
   "cell_type": "code",
   "execution_count": null,
   "metadata": {},
   "outputs": [],
   "source": [
    "class Solution:\n",
    "\n",
    "    def smallestEquivalentString(self, s1: str, s2: str, baseStr: str) -> str:\n",
    "        roots = {x: x for x in ascii_lowercase}\n",
    "\n",
    "        def find(x):\n",
    "            if roots[x] != x:\n",
    "                roots[x] = find(roots[x])\n",
    "            return roots[x]\n",
    "\n",
    "        def union(x, y):\n",
    "            rx, ry = find(x), find(y)\n",
    "            if rx > ry:  # 指向小的\n",
    "                roots[rx] = ry\n",
    "            elif rx < ry:\n",
    "                roots[ry] = rx\n",
    "\n",
    "        for x, y in zip(s1, s2):\n",
    "            union(x, y)\n",
    "        return ''.join(find(x) for x in baseStr)"
   ]
  },
  {
   "cell_type": "code",
   "execution_count": null,
   "metadata": {},
   "outputs": [],
   "source": [
    "class Solution:\n",
    "\n",
    "    def smallestEquivalentString(self, s1: str, s2: str, baseStr: str) -> str:\n",
    "        roots = {}\n",
    "        mn = {}\n",
    "\n",
    "        def find(x):\n",
    "            if roots[x] != x:\n",
    "                roots[x] = find(roots[x])\n",
    "            return roots[x]\n",
    "\n",
    "        def union(x, y):\n",
    "            rx, ry = find(x), find(y)\n",
    "            if rx != ry:\n",
    "                roots[rx] = ry\n",
    "                mn[ry] = min(mn[ry], mn[rx])\n",
    "\n",
    "        def add(x):\n",
    "            if x not in roots:\n",
    "                roots[x] = x\n",
    "                mn[x] = x\n",
    "\n",
    "        for x, y in zip(s1, s2):\n",
    "            add(x)\n",
    "            add(y)\n",
    "            union(x, y)\n",
    "        return ''.join(mn[find(x)] if x in roots else x for x in baseStr)"
   ]
  },
  {
   "cell_type": "code",
   "execution_count": 5,
   "metadata": {},
   "outputs": [
    {
     "data": {
      "text/plain": [
       "'aauaaaaada'"
      ]
     },
     "execution_count": 5,
     "metadata": {},
     "output_type": "execute_result"
    }
   ],
   "source": [
    "class Solution:\n",
    "\n",
    "    def smallestEquivalentString(self, s1: str, s2: str, baseStr: str) -> str:\n",
    "        roots = list(range(26))\n",
    "        mn = list(range(26))\n",
    "\n",
    "        def find(x):\n",
    "            if roots[x] != x:\n",
    "                roots[x] = find(roots[x])\n",
    "            return roots[x]\n",
    "\n",
    "        def union(x, y):\n",
    "            rx, ry = find(x), find(y)\n",
    "            if rx != ry:\n",
    "                roots[rx] = ry\n",
    "                mn[ry] = min(mn[ry], mn[rx])\n",
    "\n",
    "        for x, y in zip(s1, s2):\n",
    "            union(ord(x) - ord('a'), ord(y) - ord('a'))\n",
    "        return ''.join(chr(mn[find(ord(x) - ord('a'))] + ord('a')) for x in baseStr)"
   ]
  },
  {
   "cell_type": "code",
   "execution_count": null,
   "metadata": {},
   "outputs": [],
   "source": []
  }
 ],
 "metadata": {
  "kernelspec": {
   "display_name": "Python 3",
   "language": "python",
   "name": "python3"
  },
  "language_info": {
   "codemirror_mode": {
    "name": "ipython",
    "version": 3
   },
   "file_extension": ".py",
   "mimetype": "text/x-python",
   "name": "python",
   "nbconvert_exporter": "python",
   "pygments_lexer": "ipython3",
   "version": "3.10.5"
  },
  "orig_nbformat": 4,
  "vscode": {
   "interpreter": {
    "hash": "3196968d684371006099b3d55edeef8ed90365227a30deaef86e5d4aa8519be0"
   }
  }
 },
 "nbformat": 4,
 "nbformat_minor": 2
}
