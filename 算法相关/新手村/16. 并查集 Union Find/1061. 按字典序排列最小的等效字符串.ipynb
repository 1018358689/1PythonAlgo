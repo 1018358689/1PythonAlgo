{
 "cells": [
  {
   "cell_type": "code",
   "execution_count": 5,
   "metadata": {},
   "outputs": [
    {
     "data": {
      "text/plain": [
       "'aauaaaaada'"
      ]
     },
     "execution_count": 5,
     "metadata": {},
     "output_type": "execute_result"
    }
   ],
   "source": [
    "class Solution:\n",
    "\n",
    "    def smallestEquivalentString(self, s1: str, s2: str, baseStr: str) -> str:\n",
    "        roots = list(range(26))\n",
    "        mn = list(range(26))  # 存该根节点的最小字符\n",
    "\n",
    "        def find(x):\n",
    "            if roots[x] != x:\n",
    "                roots[x] = find(roots[x])\n",
    "            return roots[x]\n",
    "\n",
    "        def union(x, y):\n",
    "            rx, ry = find(x), find(y)\n",
    "            if rx == ry: return\n",
    "            mn[ry] = min(mn[ry], mn[rx])\n",
    "            roots[rx] = ry  # rx->ry\n",
    "\n",
    "        def encode(s):\n",
    "            return ord(s) - ord('a')\n",
    "\n",
    "        def decode(num):\n",
    "            return chr(num + ord('a'))\n",
    "\n",
    "        for x, y in zip(s1, s2):\n",
    "            union(encode(x), encode(y))\n",
    "        ans = ''\n",
    "        for s in baseStr:\n",
    "            ans += decode(mn[find(encode(s))])\n",
    "        return ans\n",
    "\n",
    "\n",
    "s = Solution()\n",
    "s.smallestEquivalentString(\"leetcode\", \"programs\", \"sourcecode\")\n"
   ]
  },
  {
   "cell_type": "code",
   "execution_count": null,
   "metadata": {},
   "outputs": [],
   "source": []
  }
 ],
 "metadata": {
  "kernelspec": {
   "display_name": "Python 3",
   "language": "python",
   "name": "python3"
  },
  "language_info": {
   "codemirror_mode": {
    "name": "ipython",
    "version": 3
   },
   "file_extension": ".py",
   "mimetype": "text/x-python",
   "name": "python",
   "nbconvert_exporter": "python",
   "pygments_lexer": "ipython3",
   "version": "3.10.5"
  },
  "orig_nbformat": 4,
  "vscode": {
   "interpreter": {
    "hash": "3196968d684371006099b3d55edeef8ed90365227a30deaef86e5d4aa8519be0"
   }
  }
 },
 "nbformat": 4,
 "nbformat_minor": 2
}
