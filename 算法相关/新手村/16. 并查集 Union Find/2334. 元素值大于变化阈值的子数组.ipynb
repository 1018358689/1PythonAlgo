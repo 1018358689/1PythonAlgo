{
 "cells": [
  {
   "cell_type": "code",
   "execution_count": 1,
   "metadata": {},
   "outputs": [],
   "source": [
    "from typing import List\n",
    "\n",
    "\n",
    "class Solution:\n",
    "\n",
    "    def validSubarraySize(self, nums: List[int], threshold: int) -> int:\n",
    "        n = len(nums)\n",
    "        roots = list(range(n + 1))  # 幽灵车头并查集\n",
    "        sz = [0] * (n + 1)  # 除去车头的大小\n",
    "\n",
    "        def find(x):\n",
    "            if roots[x] != x:\n",
    "                roots[x] = find(roots[x])\n",
    "            return roots[x]\n",
    "\n",
    "        def union(x, y):  # x并到y所在车 （x是幽灵车头 也就是x = find(x)）\n",
    "            ry = find(y)  # y车的幽灵车头\n",
    "            roots[x] = ry\n",
    "            sz[ry] += sz[x] + 1\n",
    "\n",
    "        for x, i in sorted(zip(nums, range(n)), reverse=True):\n",
    "            union(i, i + 1)  # i + 1所在车的值都 > x\n",
    "            if x > threshold / sz[find(i + 1)]:\n",
    "                return sz[find(i + 1)]\n",
    "        return -1"
   ]
  },
  {
   "cell_type": "code",
   "execution_count": null,
   "metadata": {},
   "outputs": [],
   "source": [
    "class Solution:\n",
    "\n",
    "    def validSubarraySize(self, nums: List[int], threshold: int) -> int:\n",
    "        n = len(nums)\n",
    "        right_min = [n] * n  # 下一个更小元素的索引\n",
    "        stk = []  # 递增栈\n",
    "        for i in range(n - 1, -1, -1):\n",
    "            x = nums[i]\n",
    "            while stk and x <= nums[stk[-1]]:  # 保证栈顶严格小于x\n",
    "                stk.pop()\n",
    "            if stk:\n",
    "                right_min[i] = stk[-1]\n",
    "            stk.append(i)\n",
    "        left_min = [-1] * n  # 上一个更小元素的索引\n",
    "        stk = []  # 递增栈\n",
    "        for i in range(n):\n",
    "            x = nums[i]\n",
    "            while stk and x <= nums[stk[-1]]:\n",
    "                stk.pop()\n",
    "            if stk:\n",
    "                left_min[i] = stk[-1]\n",
    "            stk.append(i)\n",
    "\n",
    "        for i in range(n):\n",
    "            d = right_min[i] - left_min[i] - 1\n",
    "            if nums[i] > threshold / d:\n",
    "                return d\n",
    "        return -1"
   ]
  },
  {
   "cell_type": "code",
   "execution_count": 4,
   "metadata": {},
   "outputs": [
    {
     "data": {
      "text/plain": [
       "(-1, (-1, -1))"
      ]
     },
     "execution_count": 4,
     "metadata": {},
     "output_type": "execute_result"
    }
   ],
   "source": [
    "1 % -2, divmod(1, -2)"
   ]
  },
  {
   "cell_type": "code",
   "execution_count": 1,
   "metadata": {},
   "outputs": [
    {
     "name": "stdout",
     "output_type": "stream",
     "text": [
      "[[1, 1, 1, 0, 1, 0, 1, 0, 1, 1, 1, 1, 0, 0, 0],\n",
      " [0, 0, 0, 0, 0, 1, 0, 0, 0, 0, 0, 0, 1, 0, 0],\n",
      " [0, 1, 1, 0, 1, 1, 0, 0, 1, 1, 1, 0, 0, 1, 0],\n",
      " [1, 1, 1, 0, 1, 0, 0, 1, 0, 1, 0, 0, 1, 0, 1],\n",
      " [0, 0, 0, 1, 1, 0, 0, 1, 1, 1, 1, 1, 1, 1, 0],\n",
      " [1, 0, 1, 0, 1, 0, 1, 0, 0, 0, 1, 0, 1, 0, 0],\n",
      " [1, 0, 1, 1, 1, 1, 0, 0, 0, 0, 1, 1, 1, 0, 1],\n",
      " [1, 0, 0, 0, 0, 1, 0, 1, 1, 1, 0, 1, 0, 0, 0],\n",
      " [1, 1, 0, 0, 1, 1, 0, 0, 1, 0, 1, 0, 1, 0, 0],\n",
      " [0, 1, 0, 0, 1, 1, 1, 1, 1, 1, 0, 1, 0, 0, 0]]\n"
     ]
    }
   ],
   "source": [
    "from pprint import pprint\n",
    "\n",
    "pprint([[1, 1, 1, 0, 1, 0, 1, 0, 1, 1, 1, 1, 0, 0, 0], [0, 0, 0, 0, 0, 1, 0, 0, 0, 0, 0, 0, 1, 0, 0], [0, 1, 1, 0, 1, 1, 0, 0, 1, 1, 1, 0, 0, 1, 0], [1, 1, 1, 0, 1, 0, 0, 1, 0, 1, 0, 0, 1, 0, 1],\n",
    "        [0, 0, 0, 1, 1, 0, 0, 1, 1, 1, 1, 1, 1, 1, 0], [1, 0, 1, 0, 1, 0, 1, 0, 0, 0, 1, 0, 1, 0, 0], [1, 0, 1, 1, 1, 1, 0, 0, 0, 0, 1, 1, 1, 0, 1], [1, 0, 0, 0, 0, 1, 0, 1, 1, 1, 0, 1, 0, 0, 0],\n",
    "        [1, 1, 0, 0, 1, 1, 0, 0, 1, 0, 1, 0, 1, 0, 0], [0, 1, 0, 0, 1, 1, 1, 1, 1, 1, 0, 1, 0, 0, 0]])\n"
   ]
  },
  {
   "cell_type": "code",
   "execution_count": 4,
   "metadata": {},
   "outputs": [
    {
     "name": "stdout",
     "output_type": "stream",
     "text": [
      "/\\ 2\n"
     ]
    }
   ],
   "source": [
    "s = '/\\\\'\n",
    "print(s,len(s))"
   ]
  },
  {
   "cell_type": "code",
   "execution_count": null,
   "metadata": {},
   "outputs": [],
   "source": []
  }
 ],
 "metadata": {
  "kernelspec": {
   "display_name": "Python 3",
   "language": "python",
   "name": "python3"
  },
  "language_info": {
   "codemirror_mode": {
    "name": "ipython",
    "version": 3
   },
   "file_extension": ".py",
   "mimetype": "text/x-python",
   "name": "python",
   "nbconvert_exporter": "python",
   "pygments_lexer": "ipython3",
   "version": "3.10.5"
  },
  "orig_nbformat": 4
 },
 "nbformat": 4,
 "nbformat_minor": 2
}
