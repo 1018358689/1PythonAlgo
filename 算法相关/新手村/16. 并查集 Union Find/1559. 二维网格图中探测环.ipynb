{
 "cells": [
  {
   "cell_type": "code",
   "execution_count": null,
   "metadata": {},
   "outputs": [],
   "source": [
    "class Solution:\n",
    "\n",
    "    def containsCycle(self, grid: List[List[str]]) -> bool:\n",
    "        rows, cols = len(grid), len(grid[0])\n",
    "        vis = set()  # 全局已访问\n",
    "\n",
    "        # 环形检测\n",
    "        def bfs(r, c, fr, fc, x):\n",
    "            q = deque([(r, c, fr, fc)])\n",
    "            vis.add((r, c))\n",
    "            while q:\n",
    "                r, c, fr, fc = q.popleft()\n",
    "                for nr, nc in (r + 1, c), (r - 1, c), (r, c + 1), (r, c - 1):\n",
    "                    if rows > nr >= 0 <= nc < cols and grid[nr][nc] == x and (nr, nc) != (fr, fc):\n",
    "                        if (nr, nc) in vis:\n",
    "                            return True\n",
    "                        vis.add((nr, nc))\n",
    "                        q.append((nr, nc, r, c))\n",
    "            return False\n",
    "\n",
    "        for r in range(rows):\n",
    "            for c in range(cols):\n",
    "                if (r, c) not in vis and bfs(r, c, -1, -1, grid[r][c]):\n",
    "                    # print(r, c, -1, -1, grid[r][c])\n",
    "                    return True\n",
    "        return False"
   ]
  },
  {
   "cell_type": "code",
   "execution_count": null,
   "metadata": {},
   "outputs": [],
   "source": [
    "class Solution:\n",
    "\n",
    "    def containsCycle(self, grid: List[List[str]]) -> bool:\n",
    "        rows, cols = len(grid), len(grid[0])\n",
    "        n = rows * cols\n",
    "        roots = list(range(n))\n",
    "\n",
    "        def find(x):\n",
    "            if roots[x] != x:\n",
    "                roots[x] = find(roots[x])\n",
    "            return roots[x]\n",
    "\n",
    "        def union(x, y):\n",
    "            rx, ry = find(x), find(y)\n",
    "            if rx == ry:\n",
    "                return True\n",
    "            roots[rx] = ry\n",
    "            return False\n",
    "\n",
    "        for r in range(rows):\n",
    "            for c in range(cols):\n",
    "                x = grid[r][c]\n",
    "                for nr, nc in (r + 1, c), (r, c + 1):\n",
    "                    if rows > nr >= 0 <= nc < cols and grid[nr][nc] == x:\n",
    "                        if union(r * cols + c, nr * cols + nc):\n",
    "                            return True\n",
    "        return False"
   ]
  }
 ],
 "metadata": {
  "language_info": {
   "name": "python"
  },
  "orig_nbformat": 4
 },
 "nbformat": 4,
 "nbformat_minor": 2
}
