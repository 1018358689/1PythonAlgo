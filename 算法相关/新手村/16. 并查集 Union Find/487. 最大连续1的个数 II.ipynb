{
 "cells": [
  {
   "cell_type": "code",
   "execution_count": null,
   "metadata": {},
   "outputs": [],
   "source": [
    "from typing import List\n",
    "\n",
    "\n",
    "class Solution:\n",
    "    def findMaxConsecutiveOnes(self, nums: List[int]) -> int:\n",
    "        n = len(nums)\n",
    "        roots = list(range(n))\n",
    "        size = nums[:]\n",
    "        def find(x):\n",
    "            if roots[x]!=x:\n",
    "                roots[x]=find(roots[x])\n",
    "            return roots[x]\n",
    "\n",
    "        def union(x,y):\n",
    "            rx,ry = find(x),find(y)\n",
    "            if rx==ry:return\n",
    "            size[ry]+=size[rx]\n",
    "            roots[rx] = ry # rx->ry\n",
    "\n",
    "        for i in range(n):\n",
    "            if nums[i]==1:\n",
    "                for nei in (i-1,i+1):\n",
    "                    if 0 <= nei < n and nums[nei] == 1:\n",
    "                        union(i, nei)\n",
    "        ans = max(size)\n",
    "        for i in range(n):\n",
    "            if nums[i]==0:\n",
    "                tmp = 1\n",
    "                for nei in (i-1,i+1):\n",
    "                    if 0<=nei<n:\n",
    "                        tmp+=size[find(nei)]\n",
    "                ans = max(ans,tmp)\n",
    "        return ans"
   ]
  }
 ],
 "metadata": {
  "language_info": {
   "name": "python"
  },
  "orig_nbformat": 4
 },
 "nbformat": 4,
 "nbformat_minor": 2
}
