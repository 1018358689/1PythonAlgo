{
 "cells": [
  {
   "cell_type": "code",
   "execution_count": 6,
   "metadata": {},
   "outputs": [
    {
     "name": "stdout",
     "output_type": "stream",
     "text": [
      "defaultdict(<class 'set'>, {3: {0}, 2: {0}})\n"
     ]
    },
    {
     "data": {
      "text/plain": [
       "1"
      ]
     },
     "execution_count": 6,
     "metadata": {},
     "output_type": "execute_result"
    }
   ],
   "source": [
    "from collections import defaultdict\n",
    "from itertools import pairwise\n",
    "from typing import List\n",
    "\n",
    "N = 10**5\n",
    "lpf = list(range(N + 1))\n",
    "for x in range(2, int(N**.5) + 1):\n",
    "    if lpf[x] == x:  # 质数\n",
    "        for y in range(x * x, N + 1, x):\n",
    "            lpf[y] = x  # 合数的最小质因数\n",
    "\n",
    "\n",
    "class Solution:\n",
    "\n",
    "    def largestComponentSize(self, nums: List[int]) -> int:\n",
    "        n = len(nums)\n",
    "        roots = list(range(n))\n",
    "        sz = [1] * n\n",
    "\n",
    "        def find(x):\n",
    "            if roots[x] != x:\n",
    "                roots[x] = find(roots[x])\n",
    "            return roots[x]\n",
    "\n",
    "        def union(x, y):\n",
    "            rx, ry = find(x), find(y)\n",
    "            if rx != ry:\n",
    "                roots[rx] = ry\n",
    "                sz[ry] += sz[rx]\n",
    "\n",
    "        adj = defaultdict(set)\n",
    "        for i, x in enumerate(nums):\n",
    "            while x > 1:\n",
    "                p = lpf[x]\n",
    "                adj[p].add(i)\n",
    "                x //= p\n",
    "        for vals in adj.values():\n",
    "            for x, y in pairwise(vals):\n",
    "                union(x, y)\n",
    "        return max(sz)\n",
    "\n",
    "\n",
    "s = Solution()\n",
    "s.largestComponentSize([12])\n"
   ]
  },
  {
   "cell_type": "code",
   "execution_count": null,
   "metadata": {},
   "outputs": [],
   "source": [
    "N = 10 ** 5\n",
    "fac = [[] for _ in range(N + 1)]\n",
    "for num in range(2, N + 1):\n",
    "    x = num\n",
    "    p = 2\n",
    "    ans = []\n",
    "    while p ** 2 <= x:\n",
    "        if x % p == 0:\n",
    "            while x % p == 0:\n",
    "                x //= p\n",
    "            fac[num].append(p)\n",
    "        p += 1\n",
    "    if x > 1:\n",
    "        fac[num].append(x)\n",
    "class Solution:\n",
    "    def largestComponentSize(self, nums: List[int]) -> int:\n",
    "        n = len(nums)\n",
    "        roots = list(range(n))\n",
    "        sz = [1] * n\n",
    "        def find(x):\n",
    "            if roots[x] != x:\n",
    "                roots[x] = find(roots[x])\n",
    "            return roots[x]\n",
    "        def union(x, y):\n",
    "            rx, ry = find(x), find(y)\n",
    "            if rx != ry:\n",
    "                roots[rx] = ry\n",
    "                sz[ry] += sz[rx]\n",
    "        adj = defaultdict(list)\n",
    "        for i, x in enumerate(nums):\n",
    "            for y in fac[x]:\n",
    "                adj[y].append(i)\n",
    "        for vals in adj.values():\n",
    "            for x, y in pairwise(vals):\n",
    "                union(x, y)\n",
    "        return max(sz)\n",
    "        "
   ]
  },
  {
   "cell_type": "code",
   "execution_count": null,
   "metadata": {},
   "outputs": [],
   "source": [
    "class Solution:\n",
    "    def largestComponentSize(self, nums: List[int]) -> int:\n",
    "        # gcd(x,y)>1就联通\n",
    "        def fac(nums):\n",
    "            x = nums\n",
    "            p = 2\n",
    "            while p ** 2 <= x:\n",
    "                if x % p == 0:\n",
    "                    while x % p == 0:\n",
    "                        x //= p\n",
    "                    yield p\n",
    "                p += 1\n",
    "            if x > 1:\n",
    "                yield x\n",
    "        n = len(nums)\n",
    "        roots = list(range(n))\n",
    "        sz = [1] * n\n",
    "        def find(x):\n",
    "            if roots[x] != x:\n",
    "                roots[x] = find(roots[x])\n",
    "            return roots[x]\n",
    "        def union(x, y):\n",
    "            rx, ry = find(x), find(y)\n",
    "            if rx != ry:\n",
    "                roots[rx] = ry\n",
    "                sz[ry] += sz[rx]\n",
    "        adj = defaultdict(list)\n",
    "        for i, x in enumerate(nums):\n",
    "            for y in fac(x):\n",
    "                adj[y].append(i)\n",
    "        for vals in adj.values():\n",
    "            for x, y in pairwise(vals):\n",
    "                union(x, y)\n",
    "        return max(sz)\n",
    "        "
   ]
  },
  {
   "cell_type": "code",
   "execution_count": null,
   "metadata": {},
   "outputs": [],
   "source": [
    "class Solution:\n",
    "    def largestComponentSize(self, nums: List[int]) -> int:\n",
    "\n",
    "        def find(index: int) -> int: #并查集模板\n",
    "            if parent[index] != index:\n",
    "                parent[index] = find(parent[index])\n",
    "            return parent[index]\n",
    "        \n",
    "        def union(index1: int, index2: int):\n",
    "            parent[find(index1)] = find(index2)\n",
    "\n",
    "        parent = list(range(len(nums)))\n",
    "        primes = {} #这个哈希表存放每个素因子在nums中最早出现位置\n",
    "\n",
    "        for j,num in enumerate(nums):\n",
    "            fact = 2\n",
    "            while fact*fact<=num:\n",
    "                if not num%fact:\n",
    "                    if fact in primes: #fact已经出现过，因此和首次出现的位置合并\n",
    "                        union(primes[fact],j)\n",
    "                    else: #fact没有出现过，这次就是首次出现的位置，记录下来便于以后合并\n",
    "                        primes[fact]=j\n",
    "                    while not num%fact: #注意fact在num中的幂次可能超过1，如果每次都合并就会TLE\n",
    "                        num//=fact                    \n",
    "                fact+=1\n",
    "            if num>1: #有可能还剩下最大的一个素因数（最大素因数幂次为1才会出现在这里，一定要判断一下！）\n",
    "                if num in primes:\n",
    "                    union(primes[num],j)\n",
    "                else:\n",
    "                    primes[num]=j       \n",
    "        \n",
    "        cnt = [0]*len(nums)\n",
    "        for j in range(len(nums)): #统计每个值属于哪个连通分量，进而得到最大连通分量大小\n",
    "            cnt[find(j)]+=1\n",
    "        return max(cnt)"
   ]
  },
  {
   "cell_type": "code",
   "execution_count": 1,
   "metadata": {},
   "outputs": [
    {
     "name": "stdout",
     "output_type": "stream",
     "text": [
      "[2, 3]\n"
     ]
    }
   ],
   "source": [
    "N = 10 ** 5\n",
    "fac = [[] for _ in range(N + 1)]\n",
    "for num in range(2, N + 1):\n",
    "    x = num\n",
    "    p = 2\n",
    "    ans = []\n",
    "    while p ** 2 <= x:\n",
    "        if x % p == 0:\n",
    "            while x % p == 0:\n",
    "                x //= p\n",
    "            fac[num].append(p)\n",
    "        p += 1\n",
    "    if x > 1:\n",
    "        fac[num].append(x)\n",
    "print(fac[12])"
   ]
  },
  {
   "cell_type": "code",
   "execution_count": null,
   "metadata": {},
   "outputs": [],
   "source": []
  }
 ],
 "metadata": {
  "kernelspec": {
   "display_name": "Python 3",
   "language": "python",
   "name": "python3"
  },
  "language_info": {
   "codemirror_mode": {
    "name": "ipython",
    "version": 3
   },
   "file_extension": ".py",
   "mimetype": "text/x-python",
   "name": "python",
   "nbconvert_exporter": "python",
   "pygments_lexer": "ipython3",
   "version": "3.10.5"
  },
  "orig_nbformat": 4
 },
 "nbformat": 4,
 "nbformat_minor": 2
}
