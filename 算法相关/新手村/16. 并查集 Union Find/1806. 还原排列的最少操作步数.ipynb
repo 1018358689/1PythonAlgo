{
 "cells": [
  {
   "cell_type": "code",
   "execution_count": null,
   "metadata": {},
   "outputs": [],
   "source": [
    "class Solution:\n",
    "\n",
    "    def reinitializePermutation(self, n: int) -> int:\n",
    "        roots = list(range(n))\n",
    "        size = [1] * n\n",
    "\n",
    "        def find(x):\n",
    "            if roots[x] != x:\n",
    "                roots[x] = find(roots[x])\n",
    "            return roots[x]\n",
    "\n",
    "        def union(x, y):\n",
    "            rx, ry = find(x), find(y)\n",
    "            if rx != ry:\n",
    "                if size[rx] < size[ry]:\n",
    "                    size[ry] += size[rx]\n",
    "                    roots[rx] = ry\n",
    "                else:\n",
    "                    size[rx] += size[ry]\n",
    "                    roots[ry] = rx\n",
    "\n",
    "        for i in range(n):\n",
    "            if i % 2:\n",
    "                union(i, n // 2 + (i - 1) // 2)\n",
    "            else:\n",
    "                union(i, i // 2)\n",
    "        return max(size)"
   ]
  }
 ],
 "metadata": {
  "kernelspec": {
   "display_name": "Python 3",
   "language": "python",
   "name": "python3"
  },
  "language_info": {
   "name": "python",
   "version": "3.10.5 (tags/v3.10.5:f377153, Jun  6 2022, 16:14:13) [MSC v.1929 64 bit (AMD64)]"
  },
  "orig_nbformat": 4,
  "vscode": {
   "interpreter": {
    "hash": "3196968d684371006099b3d55edeef8ed90365227a30deaef86e5d4aa8519be0"
   }
  }
 },
 "nbformat": 4,
 "nbformat_minor": 2
}
