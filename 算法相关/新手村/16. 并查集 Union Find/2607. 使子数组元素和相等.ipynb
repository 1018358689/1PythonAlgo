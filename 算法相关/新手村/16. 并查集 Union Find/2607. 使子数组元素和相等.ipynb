{
 "cells": [
  {
   "cell_type": "code",
   "execution_count": null,
   "metadata": {},
   "outputs": [],
   "source": [
    "from collections import defaultdict\n",
    "from typing import List\n",
    "\n",
    "\n",
    "class Solution:\n",
    "\n",
    "    def makeSubKSumEqual(self, arr: List[int], k: int) -> int:\n",
    "        # arr[0]+arr[1]+...+arr[k-1]=arr[1]+arr[2]+...+arr[k]\n",
    "        # -> arr[0]=arr[k]\n",
    "        n = len(arr)\n",
    "        roots = list(range(n))\n",
    "        sz = [1] * n\n",
    "\n",
    "        def find(x):\n",
    "            if roots[x] != x:\n",
    "                roots[x] = find(roots[x])\n",
    "            return roots[x]\n",
    "\n",
    "        def union(x, y):\n",
    "            rx, ry = find(x), find(y)\n",
    "            if rx != ry:\n",
    "                if sz[rx] > sz[ry]: sz[rx], sz[ry] = sz[ry], sz[rx]  # rx <= ry\n",
    "                sz[ry] += sz[rx]\n",
    "                roots[rx] = ry\n",
    "\n",
    "        for i in range(n):\n",
    "            union(i, (i + k) % n)\n",
    "        chils = defaultdict(list)\n",
    "        for i in range(n):\n",
    "            chils[find(i)].append(arr[i])\n",
    "        ans = 0\n",
    "        for vals in chils.values():\n",
    "            vals.sort()\n",
    "            mid = vals[len(vals) // 2]\n",
    "            ans += sum(abs(v - mid) for v in vals)\n",
    "        return ans"
   ]
  }
 ],
 "metadata": {
  "language_info": {
   "name": "python"
  },
  "orig_nbformat": 4
 },
 "nbformat": 4,
 "nbformat_minor": 2
}
