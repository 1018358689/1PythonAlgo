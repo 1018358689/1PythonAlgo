{
 "cells": [
  {
   "cell_type": "code",
   "execution_count": null,
   "metadata": {},
   "outputs": [],
   "source": [
    "class Solution:\n",
    "\n",
    "    def countServers(self, grid: List[List[int]]) -> int:\n",
    "        rows, cols = len(grid), len(grid[0])\n",
    "        n = rows * cols\n",
    "        roots = list(range(n))\n",
    "        sz = [1] * n\n",
    "\n",
    "        def find(x):\n",
    "            if roots[x] != x:\n",
    "                roots[x] = find(roots[x])\n",
    "            return roots[x]\n",
    "\n",
    "        def union(x, y):\n",
    "            rx, ry = find(x), find(y)\n",
    "            if rx != ry:\n",
    "                roots[rx] = ry\n",
    "                sz[ry] += sz[rx]\n",
    "\n",
    "        for r in range(rows):\n",
    "            pre = None\n",
    "            for c in range(cols):\n",
    "                if grid[r][c] == 1:\n",
    "                    x = r * cols + c\n",
    "                    if pre is not None:\n",
    "                        union(pre, x)\n",
    "                    pre = x\n",
    "        for c in range(cols):\n",
    "            pre = None\n",
    "            for r in range(rows):\n",
    "                if grid[r][c] == 1:\n",
    "                    x = r * cols + c\n",
    "                    if pre is not None:\n",
    "                        union(pre, x)\n",
    "                    pre = x\n",
    "        # chils = defaultdict(list)\n",
    "        # for x in range(n):\n",
    "        #     chils[find(x)].append(x)\n",
    "        # print(chils)\n",
    "        ans = 0\n",
    "        for r in range(rows):\n",
    "            for c in range(cols):\n",
    "                if grid[r][c] == 1 and sz[find(r * cols + c)] > 1:\n",
    "                    ans += 1\n",
    "        return ans"
   ]
  }
 ],
 "metadata": {
  "language_info": {
   "name": "python"
  },
  "orig_nbformat": 4
 },
 "nbformat": 4,
 "nbformat_minor": 2
}
