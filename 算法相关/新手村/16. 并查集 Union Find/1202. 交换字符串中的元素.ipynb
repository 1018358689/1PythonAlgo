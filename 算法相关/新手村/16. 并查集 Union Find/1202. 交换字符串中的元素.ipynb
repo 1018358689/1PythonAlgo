{
 "cells": [
  {
   "cell_type": "code",
   "execution_count": 9,
   "metadata": {},
   "outputs": [
    {
     "data": {
      "text/plain": [
       "'lpqqmwm'"
      ]
     },
     "execution_count": 9,
     "metadata": {},
     "output_type": "execute_result"
    }
   ],
   "source": [
    "# 超时\n",
    "from typing import List\n",
    "\n",
    "from sortedcontainers import SortedSet\n",
    "\n",
    "\n",
    "class Solution:\n",
    "\n",
    "    def smallestStringWithSwaps(self, s: str, pairs: List[List[int]]) -> str:\n",
    "        n = len(s)\n",
    "        roots = list(range(n))\n",
    "        chils = [[s[i]] for i in range(n)] # 可能有重复字母 故用列表\n",
    "        chili = [{i} for i in range(n)]\n",
    "\n",
    "        def find(x):\n",
    "            if roots[x] != x:\n",
    "                roots[x] = find(roots[x])\n",
    "            return roots[x]\n",
    "\n",
    "        def union(x, y):\n",
    "            rx, ry = find(x), find(y)\n",
    "            if rx == ry: return\n",
    "            chils[ry].extend(chils[rx])\n",
    "            chili[ry] |= chili[rx]\n",
    "            roots[rx] = ry  # rx->ry\n",
    "\n",
    "        for x, y in pairs:\n",
    "            union(x, y)\n",
    "        ans = [None] * n\n",
    "        for x in range(n):\n",
    "            if ans[x] is None:\n",
    "                for st, idx in zip(sorted(chils[find(x)]), sorted(chili[find(x)])):\n",
    "                    ans[idx] = st\n",
    "        return ''.join(ans)\n",
    "\n",
    "\n",
    "s = Solution()\n",
    "s.smallestStringWithSwaps(\"pwqlmqm\", [[5, 3], [3, 0], [5, 1], [1, 1], [1, 5], [3, 0], [0, 2]])"
   ]
  },
  {
   "cell_type": "code",
   "execution_count": 14,
   "metadata": {},
   "outputs": [
    {
     "data": {
      "text/plain": [
       "'lpqqmwm'"
      ]
     },
     "execution_count": 14,
     "metadata": {},
     "output_type": "execute_result"
    }
   ],
   "source": [
    "# 超时\n",
    "from typing import List\n",
    "from sortedcontainers import SortedSet, SortedList\n",
    "\n",
    "\n",
    "class Solution:\n",
    "\n",
    "    def smallestStringWithSwaps(self, s: str, pairs: List[List[int]]) -> str:\n",
    "        n = len(s)\n",
    "        roots = list(range(n))\n",
    "        chili = [SortedSet() for i in range(n)]\n",
    "        for i in range(n):\n",
    "            chili[i].add(i)\n",
    "\n",
    "        def find(x):\n",
    "            if roots[x] != x:\n",
    "                roots[x] = find(roots[x])\n",
    "            return roots[x]\n",
    "\n",
    "        def union(x, y):\n",
    "            rx, ry = find(x), find(y)\n",
    "            if rx == ry: return\n",
    "            chili[ry] |= chili[rx]\n",
    "            roots[rx] = ry  # rx->ry\n",
    "\n",
    "        for x, y in pairs:\n",
    "            union(x, y)\n",
    "        ans = [None] * n\n",
    "        for x in range(n):\n",
    "            if ans[x] is None:\n",
    "                inds = chili[find(x)]\n",
    "                strs = sorted(s[i] for i in inds)\n",
    "                for st, idx in zip(strs, inds):\n",
    "                    ans[idx] = st\n",
    "        return ''.join(ans)\n",
    "\n",
    "\n",
    "s = Solution()\n",
    "s.smallestStringWithSwaps(\"pwqlmqm\", [[5, 3], [3, 0], [5, 1], [1, 1], [1, 5], [3, 0], [0, 2]])\n"
   ]
  },
  {
   "cell_type": "code",
   "execution_count": 15,
   "metadata": {},
   "outputs": [
    {
     "data": {
      "text/plain": [
       "'lpqqmwm'"
      ]
     },
     "execution_count": 15,
     "metadata": {},
     "output_type": "execute_result"
    }
   ],
   "source": [
    "from typing import List\n",
    "from sortedcontainers import SortedSet, SortedList\n",
    "\n",
    "\n",
    "class Solution:\n",
    "\n",
    "    def smallestStringWithSwaps(self, s: str, pairs: List[List[int]]) -> str:\n",
    "        n = len(s)\n",
    "        roots = list(range(n))\n",
    "\n",
    "        def find(x):\n",
    "            if roots[x] != x:\n",
    "                roots[x] = find(roots[x])\n",
    "            return roots[x]\n",
    "\n",
    "        def union(x, y):\n",
    "            rx, ry = find(x), find(y)\n",
    "            if rx == ry: return\n",
    "            roots[rx] = ry  # rx->ry\n",
    "\n",
    "        for x, y in pairs:\n",
    "            union(x, y)\n",
    "        # 这样直接就有序了\n",
    "        chils = [[] for _ in range(n)]\n",
    "        for x in range(n):\n",
    "            chils[find(x)].append(x)\n",
    "        ans = [None] * n\n",
    "        for x in range(n):\n",
    "            if ans[x] is None:\n",
    "                inds = chils[find(x)]\n",
    "                strs = sorted(s[i] for i in inds)\n",
    "                for st, idx in zip(strs, inds):\n",
    "                    ans[idx] = st\n",
    "        return ''.join(ans)\n",
    "\n",
    "\n",
    "s = Solution()\n",
    "s.smallestStringWithSwaps(\"pwqlmqm\", [[5, 3], [3, 0], [5, 1], [1, 1], [1, 5], [3, 0], [0, 2]])\n"
   ]
  }
 ],
 "metadata": {
  "kernelspec": {
   "display_name": "Python 3",
   "language": "python",
   "name": "python3"
  },
  "language_info": {
   "codemirror_mode": {
    "name": "ipython",
    "version": 3
   },
   "file_extension": ".py",
   "mimetype": "text/x-python",
   "name": "python",
   "nbconvert_exporter": "python",
   "pygments_lexer": "ipython3",
   "version": "3.10.5 (tags/v3.10.5:f377153, Jun  6 2022, 16:14:13) [MSC v.1929 64 bit (AMD64)]"
  },
  "orig_nbformat": 4,
  "vscode": {
   "interpreter": {
    "hash": "3196968d684371006099b3d55edeef8ed90365227a30deaef86e5d4aa8519be0"
   }
  }
 },
 "nbformat": 4,
 "nbformat_minor": 2
}
