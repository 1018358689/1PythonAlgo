{
 "cells": [
  {
   "cell_type": "code",
   "execution_count": null,
   "metadata": {},
   "outputs": [],
   "source": [
    "class Solution:\n",
    "\n",
    "    def pondSizes(self, land: List[List[int]]) -> List[int]:\n",
    "        rows, cols = len(land), len(land[0])\n",
    "        n = rows * cols\n",
    "        dirs = (0, 1), (1, 0), (1, 1), (-1, 1), (1, -1)\n",
    "        roots = list(range(n + 1))\n",
    "        sz = [1] * (n + 1)\n",
    "\n",
    "        def find(x):\n",
    "            if roots[x] != x:\n",
    "                roots[x] = find(roots[x])\n",
    "            return roots[x]\n",
    "\n",
    "        def union(x, y):\n",
    "            rx, ry = find(x), find(y)\n",
    "            if rx != ry:\n",
    "                if sz[rx] > sz[ry]: rx, ry = ry, rx\n",
    "                sz[ry] += sz[rx]\n",
    "                roots[rx] = ry\n",
    "                # if sz[rx] < sz[ry]:\n",
    "                #     roots[rx] = ry\n",
    "                #     sz[ry] += sz[rx]\n",
    "                # else:\n",
    "                #     roots[ry] = rx\n",
    "                #     sz[rx] += sz[ry]\n",
    "\n",
    "        for r in range(rows):\n",
    "            for c in range(cols):\n",
    "                if land[r][c] == 0:\n",
    "                    for dr, dc in dirs:\n",
    "                        nr, nc = r + dr, c + dc\n",
    "                        if rows > nr >= 0 <= nc < cols:\n",
    "                            if land[nr][nc] == 0:\n",
    "                                union(r * cols + c, nr * cols + nc)\n",
    "                else:\n",
    "                    union(r * cols + c, n)\n",
    "        chils = defaultdict(int)\n",
    "        for x in range(n + 1):\n",
    "            if find(x) != find(n):\n",
    "                chils[find(x)] = sz[find(x)]\n",
    "        return sorted(chils.values())"
   ]
  },
  {
   "cell_type": "code",
   "execution_count": null,
   "metadata": {},
   "outputs": [],
   "source": [
    "class Solution:\n",
    "\n",
    "    def pondSizes(self, land: List[List[int]]) -> List[int]:\n",
    "        rows, cols = len(land), len(land[0])\n",
    "        dirs = (-1, -1), (-1, 0), (-1, 1), (0, -1), (0, 1), (1, -1), (1, 0), (1, 1)\n",
    "\n",
    "        def dfs(r, c):\n",
    "            ans = 1\n",
    "            for dr, dc in dirs:\n",
    "                nr, nc = r + dr, c + dc\n",
    "                if rows > nr >= 0 <= nc < cols and land[nr][nc] == 0:\n",
    "                    land[nr][nc] = 1\n",
    "                    ans += dfs(nr, nc)\n",
    "            return ans\n",
    "\n",
    "        ans = []\n",
    "        for r in range(rows):\n",
    "            for c in range(cols):\n",
    "                if land[r][c] == 0:\n",
    "                    land[r][c] = 1\n",
    "                    ans.append(dfs(r, c))\n",
    "        return sorted(ans)"
   ]
  }
 ],
 "metadata": {
  "kernelspec": {
   "display_name": "Python 3",
   "language": "python",
   "name": "python3"
  },
  "language_info": {
   "codemirror_mode": {
    "name": "ipython",
    "version": 3
   },
   "file_extension": ".py",
   "mimetype": "text/x-python",
   "name": "python",
   "nbconvert_exporter": "python",
   "pygments_lexer": "ipython3",
   "version": "3.10.5"
  },
  "orig_nbformat": 4
 },
 "nbformat": 4,
 "nbformat_minor": 2
}
