{
 "cells": [
  {
   "cell_type": "code",
   "execution_count": 4,
   "metadata": {},
   "outputs": [
    {
     "data": {
      "text/plain": [
       "True"
      ]
     },
     "execution_count": 4,
     "metadata": {},
     "output_type": "execute_result"
    }
   ],
   "source": [
    "from typing import List\n",
    "\n",
    "\n",
    "class Solution:\n",
    "\n",
    "    def areSentencesSimilarTwo(self, sentence1: List[str], sentence2: List[str], similarPairs: List[List[str]]) -> bool:\n",
    "        if len(sentence1) != len(sentence2):\n",
    "            return False\n",
    "        roots = {}\n",
    "        for x, y in similarPairs:\n",
    "            roots[x] = x\n",
    "            roots[y] = y\n",
    "\n",
    "        def find(x):\n",
    "            if roots[x] != x:\n",
    "                roots[x] = find(roots[x])\n",
    "            return roots[x]\n",
    "\n",
    "        def union(x, y):\n",
    "            rx, ry = find(x), find(y)\n",
    "            if rx == ry: return\n",
    "            roots[rx] = ry\n",
    "\n",
    "        for x, y in similarPairs:\n",
    "            union(x, y)\n",
    "        return all(x == y or x in roots and y in roots and find(x) == find(y) for x, y in zip(sentence1, sentence2))\n",
    "\n",
    "\n",
    "s = Solution()\n",
    "s.areSentencesSimilarTwo([\"I\", \"love\", \"leetcode\"], [\"I\", \"love\", \"onepiece\"], [[\"manga\", \"onepiece\"], [\"platform\", \"anime\"], [\"leetcode\", \"platform\"], [\"anime\", \"manga\"]])\n"
   ]
  },
  {
   "cell_type": "code",
   "execution_count": null,
   "metadata": {},
   "outputs": [],
   "source": []
  }
 ],
 "metadata": {
  "kernelspec": {
   "display_name": "Python 3",
   "language": "python",
   "name": "python3"
  },
  "language_info": {
   "codemirror_mode": {
    "name": "ipython",
    "version": 3
   },
   "file_extension": ".py",
   "mimetype": "text/x-python",
   "name": "python",
   "nbconvert_exporter": "python",
   "pygments_lexer": "ipython3",
   "version": "3.10.5"
  },
  "orig_nbformat": 4,
  "vscode": {
   "interpreter": {
    "hash": "3196968d684371006099b3d55edeef8ed90365227a30deaef86e5d4aa8519be0"
   }
  }
 },
 "nbformat": 4,
 "nbformat_minor": 2
}
