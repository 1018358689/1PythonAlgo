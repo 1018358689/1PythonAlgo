{
 "cells": [
  {
   "cell_type": "code",
   "execution_count": 23,
   "metadata": {},
   "outputs": [
    {
     "data": {
      "text/plain": [
       "[['Alex', 'Alex0@m.co', 'Alex4@m.co', 'Alex5@m.co'],\n",
       " ['Ethan', 'Ethan0@m.co', 'Ethan3@m.co'],\n",
       " ['Kevin', 'Kevin2@m.co', 'Kevin4@m.co'],\n",
       " ['Gabe', 'Gabe0@m.co', 'Gabe2@m.co', 'Gabe3@m.co', 'Gabe4@m.co']]"
      ]
     },
     "execution_count": 23,
     "metadata": {},
     "output_type": "execute_result"
    }
   ],
   "source": [
    "# 6308ms\n",
    "\n",
    "def f(accounts: list):\n",
    "    count = len(accounts)\n",
    "    roots = list(range(count))\n",
    "    rank = [1] * count\n",
    "\n",
    "    def find(x):\n",
    "        if roots[x] != x:\n",
    "            roots[x] = find(roots[x])\n",
    "        return roots[x]\n",
    "\n",
    "    def union(x, y):\n",
    "        rx, ry = find(x), find(y)\n",
    "        if rx != ry:\n",
    "            if rank[rx] < rank[ry]:\n",
    "                roots[rx] = ry\n",
    "            elif rank[ry] < rank[rx]:\n",
    "                roots[ry] = rx\n",
    "            else:\n",
    "                roots[rx] = ry\n",
    "                rank[ry] += 1\n",
    "\n",
    "    for i in range(len(accounts) - 1):\n",
    "        for j in range(len(accounts)):\n",
    "            if accounts[i][0] == accounts[j][0] and (set(accounts[i][1:]) & set(accounts[j][1:])):\n",
    "                union(i, j)\n",
    "\n",
    "    for i in range(count):\n",
    "        ri = find(i)\n",
    "        if ri != i:\n",
    "            accounts[ri] = [accounts[ri][0]] + sorted(set(accounts[ri][1:]) | set(accounts[i][1:]))\n",
    "            accounts[i] = []\n",
    "        else:\n",
    "            accounts[ri] = [accounts[ri][0]] + sorted(set(accounts[ri][1:]))\n",
    "    return [i for i in accounts if i != []]\n",
    "\n",
    "\n",
    "f([[\"John\", \"johnsmith@mail.com\", \"john00@mail.com\"], [\"John\", \"johnnybravo@mail.com\"], [\"John\", \"johnsmith@mail.com\", \"john_newyork@mail.com\"], [\"Mary\", \"mary@mail.com\"]])\n",
    "f([[\"Alex\", \"Alex5@m.co\", \"Alex4@m.co\", \"Alex0@m.co\"], [\"Ethan\", \"Ethan3@m.co\", \"Ethan3@m.co\", \"Ethan0@m.co\"], [\"Kevin\", \"Kevin4@m.co\", \"Kevin2@m.co\", \"Kevin2@m.co\"], [\"Gabe\", \"Gabe0@m.co\", \"Gabe3@m.co\", \"Gabe2@m.co\"],\n",
    "   [\"Gabe\", \"Gabe3@m.co\", \"Gabe4@m.co\", \"Gabe2@m.co\"]])\n"
   ]
  },
  {
   "cell_type": "code",
   "execution_count": 18,
   "metadata": {},
   "outputs": [],
   "source": [
    "accounts = [[\"John\", \"johnsmith@mail.com\", \"john00@mail.com\"], [\"John\", \"johnnybravo@mail.com\"], [\"John\", \"johnsmith@mail.com\", \"john_newyork@mail.com\"], [\"Mary\", \"mary@mail.com\"]]\n",
    "# for name,*emails in accounts:\n",
    "#     print(name)\n",
    "#     print(emails)\n"
   ]
  },
  {
   "cell_type": "code",
   "execution_count": 30,
   "metadata": {},
   "outputs": [
    {
     "data": {
      "text/plain": [
       "[['John', 'john00@mail.com', 'john_newyork@mail.com', 'johnsmith@mail.com'],\n",
       " ['John', 'johnnybravo@mail.com'],\n",
       " ['Mary', 'mary@mail.com']]"
      ]
     },
     "execution_count": 30,
     "metadata": {},
     "output_type": "execute_result"
    }
   ],
   "source": [
    "import collections\n",
    "\n",
    "# 4388ms\n",
    "\n",
    "\n",
    "def f(accounts: list):\n",
    "    count = len(accounts)\n",
    "    roots = list(range(count))\n",
    "    rank = [1] * count\n",
    "\n",
    "    def find(x):\n",
    "        if roots[x] != x:\n",
    "            roots[x] = find(roots[x])\n",
    "        return roots[x]\n",
    "\n",
    "    def union(x, y):\n",
    "        rx, ry = find(x), find(y)\n",
    "        if rx != ry:\n",
    "            if rank[rx] < rank[ry]:\n",
    "                roots[rx] = ry\n",
    "            elif rank[ry] < rank[rx]:\n",
    "                roots[ry] = rx\n",
    "            else:\n",
    "                roots[rx] = ry\n",
    "                rank[ry] += 1\n",
    "\n",
    "    for i in range(len(accounts) - 1):\n",
    "        for j in range(len(accounts)):\n",
    "            if accounts[i][0] == accounts[j][0] and (set(accounts[i][1:]) & set(accounts[j][1:])):\n",
    "                union(i, j)\n",
    "\n",
    "    graph = collections.defaultdict(list)\n",
    "    for i in range(len(accounts)):\n",
    "        ri = find(i)\n",
    "        graph[ri].append(i)\n",
    "    ans = []\n",
    "    for parent, sons in graph.items():\n",
    "        name = [accounts[parent][0]]\n",
    "        email = set()\n",
    "        for s in sons:\n",
    "            email |= set(accounts[s][1:])\n",
    "        email = sorted(email)\n",
    "        ans.append(name + email)\n",
    "    return ans\n",
    "\n",
    "\n",
    "f([[\"John\", \"johnsmith@mail.com\", \"john00@mail.com\"], [\"John\", \"johnnybravo@mail.com\"], [\"John\", \"johnsmith@mail.com\", \"john_newyork@mail.com\"], [\"Mary\", \"mary@mail.com\"]])\n",
    "# f([[\"Alex\", \"Alex5@m.co\", \"Alex4@m.co\", \"Alex0@m.co\"], [\"Ethan\", \"Ethan3@m.co\", \"Ethan3@m.co\", \"Ethan0@m.co\"], [\"Kevin\", \"Kevin4@m.co\", \"Kevin2@m.co\", \"Kevin2@m.co\"], [\"Gabe\", \"Gabe0@m.co\", \"Gabe3@m.co\", \"Gabe2@m.co\"],\n",
    "#    [\"Gabe\", \"Gabe3@m.co\", \"Gabe4@m.co\", \"Gabe2@m.co\"]])"
   ]
  },
  {
   "cell_type": "code",
   "execution_count": 1,
   "metadata": {},
   "outputs": [
    {
     "data": {
      "text/plain": [
       "[['John', 'john00@mail.com', 'john_newyork@mail.com', 'johnsmith@mail.com'],\n",
       " ['Mary', 'mary@mail.com'],\n",
       " ['John', 'johnnybravo@mail.com']]"
      ]
     },
     "execution_count": 1,
     "metadata": {},
     "output_type": "execute_result"
    }
   ],
   "source": [
    "# https://leetcode-cn.com/problems/accounts-merge/solution/jing-dian-lian-tong-tu-jie-fa-by-sudoz-48gp/\n",
    "from collections import defaultdict\n",
    "from typing import List\n",
    "\n",
    "\n",
    "class Solution:\n",
    "\n",
    "    def accountsMerge(self, accounts: List[List[str]]) -> List[List[str]]:\n",
    "        n = len(accounts)\n",
    "        roots = list(range(n))  # 连接的是用户 而不是邮箱 邮箱只是手段\n",
    "\n",
    "        def find(x):\n",
    "            if roots[x] != x:\n",
    "                roots[x] = find(roots[x])\n",
    "            return roots[x]\n",
    "\n",
    "        def union(x, y):\n",
    "            rx, ry = find(x), find(y)\n",
    "            if rx == ry: return\n",
    "            roots[rx] = ry\n",
    "\n",
    "        em2ac = {}  # email第一次出现的用户索引 方便union\n",
    "        for i in range(n):\n",
    "            ac = accounts[i]\n",
    "            for j in range(1, len(ac)):\n",
    "                em = ac[j]\n",
    "                if em not in em2ac:\n",
    "                    em2ac[em] = i\n",
    "                else:  # 重复出现说明是同一账户\n",
    "                    union(em2ac[em], i)\n",
    "        ac_group = defaultdict(list)  # 树展开\n",
    "        for i in range(n):\n",
    "            ac_group[find(i)].append(i)\n",
    "        ans = []\n",
    "        for r, ss in ac_group.items():\n",
    "            name = [accounts[r][0]]\n",
    "            sons = set()\n",
    "            for s in ss:\n",
    "                sons |= set(accounts[s][1:])\n",
    "            ans.append(name + sorted(sons))\n",
    "        return ans"
   ]
  },
  {
   "cell_type": "code",
   "execution_count": null,
   "metadata": {},
   "outputs": [],
   "source": []
  }
 ],
 "metadata": {
  "kernelspec": {
   "display_name": "Python 3.10.5 64-bit",
   "language": "python",
   "name": "python3"
  },
  "language_info": {
   "codemirror_mode": {
    "name": "ipython",
    "version": 3
   },
   "file_extension": ".py",
   "mimetype": "text/x-python",
   "name": "python",
   "nbconvert_exporter": "python",
   "pygments_lexer": "ipython3",
   "version": "3.10.5"
  },
  "orig_nbformat": 4,
  "vscode": {
   "interpreter": {
    "hash": "3196968d684371006099b3d55edeef8ed90365227a30deaef86e5d4aa8519be0"
   }
  }
 },
 "nbformat": 4,
 "nbformat_minor": 2
}
