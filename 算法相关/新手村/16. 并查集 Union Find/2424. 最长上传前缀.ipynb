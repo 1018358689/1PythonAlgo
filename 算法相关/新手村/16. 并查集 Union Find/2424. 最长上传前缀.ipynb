{
 "cells": [
  {
   "cell_type": "code",
   "execution_count": null,
   "metadata": {},
   "outputs": [],
   "source": [
    "class LUPrefix:\n",
    "\n",
    "    def __init__(self, n: int):\n",
    "        self.roots = list(range(n + 1))\n",
    "\n",
    "    def find(self, x):\n",
    "        if self.roots[x] != x:\n",
    "            self.roots[x] = self.find(self.roots[x])\n",
    "        return self.roots[x]\n",
    "\n",
    "    def union(self, x, y):\n",
    "        rx, ry = self.find(x), self.find(y)\n",
    "        if rx != ry:\n",
    "            self.roots[rx] = ry  # rx -> ry\n",
    "\n",
    "    def upload(self, video: int) -> None:\n",
    "        self.union(video - 1, video)\n",
    "\n",
    "    def longest(self) -> int:\n",
    "        return self.find(0)\n",
    "\n",
    "\n",
    "# Your LUPrefix object will be instantiated and called as such:\n",
    "# obj = LUPrefix(n)\n",
    "# obj.upload(video)\n",
    "# param_2 = obj.longest()"
   ]
  }
 ],
 "metadata": {
  "language_info": {
   "name": "python"
  },
  "orig_nbformat": 4
 },
 "nbformat": 4,
 "nbformat_minor": 2
}
