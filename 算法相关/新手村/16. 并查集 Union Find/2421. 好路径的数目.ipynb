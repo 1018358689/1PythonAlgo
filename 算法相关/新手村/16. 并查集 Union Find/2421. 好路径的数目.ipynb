{
 "cells": [
  {
   "cell_type": "code",
   "execution_count": null,
   "metadata": {},
   "outputs": [],
   "source": [
    "from collections import defaultdict\n",
    "from typing import List\n",
    "\n",
    "\n",
    "class Solution:\n",
    "\n",
    "    def numberOfGoodPaths(self, vals: List[int], edges: List[List[int]]) -> int:\n",
    "        n = len(vals)\n",
    "        adj = defaultdict(list)\n",
    "        for x, y in edges:\n",
    "            adj[x].append(y)\n",
    "            adj[y].append(x)\n",
    "        fa = list(range(n))  # 保证每个根节点存最大值所在节点\n",
    "        cnt = defaultdict(lambda: 1)  # 每个节点所在连通块最大值的个数\n",
    "\n",
    "        def find(x):\n",
    "            if fa[x] != x:\n",
    "                fa[x] = find(fa[x])\n",
    "            return fa[x]\n",
    "\n",
    "        ans = n\n",
    "        for _, x in sorted(zip(vals, range(n))):\n",
    "            fx = find(x)\n",
    "            for y in adj[x]:\n",
    "                fy = find(y)\n",
    "                if fx == fy or vals[fy] > vals[fx]:\n",
    "                    continue\n",
    "                if vals[fy] == vals[fx]:\n",
    "                    ans += cnt[fx] * cnt[fy]\n",
    "                    fa[fy] = fx  # 把y所在连通块 合并到x上\n",
    "                    cnt[fx] += cnt[fy]\n",
    "                else:  # vals[fy]<vals[fx]\n",
    "                    fa[fy] = fx\n",
    "        return ans"
   ]
  }
 ],
 "metadata": {
  "kernelspec": {
   "display_name": "Python 3",
   "language": "python",
   "name": "python3"
  },
  "language_info": {
   "name": "python",
   "version": "3.10.5 (tags/v3.10.5:f377153, Jun  6 2022, 16:14:13) [MSC v.1929 64 bit (AMD64)]"
  },
  "orig_nbformat": 4,
  "vscode": {
   "interpreter": {
    "hash": "3196968d684371006099b3d55edeef8ed90365227a30deaef86e5d4aa8519be0"
   }
  }
 },
 "nbformat": 4,
 "nbformat_minor": 2
}
