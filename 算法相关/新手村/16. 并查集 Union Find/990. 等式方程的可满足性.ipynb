{
 "cells": [
  {
   "cell_type": "code",
   "execution_count": 1,
   "metadata": {},
   "outputs": [
    {
     "name": "stdout",
     "output_type": "stream",
     "text": [
      "a d\n",
      "a g\n"
     ]
    }
   ],
   "source": [
    "class Solution:\n",
    "\n",
    "    def equationsPossible(self, equations: List[str]) -> bool:\n",
    "        roots = {}\n",
    "\n",
    "        def find(x):\n",
    "            if roots[x] != x:\n",
    "                roots[x] = find(roots[x])\n",
    "            return roots[x]\n",
    "\n",
    "        def union(x, y):\n",
    "            rx, ry = find(x), find(y)\n",
    "            if rx != ry:\n",
    "                roots[rx] = ry\n",
    "\n",
    "        def check(x, y):\n",
    "            return find(x) == find(y)\n",
    "\n",
    "        def add(x):\n",
    "            if x not in roots:\n",
    "                roots[x] = x\n",
    "\n",
    "        for x, sig, _, y in sorted(equations, key=lambda x: x[1] == '!'):  # ！放后面判断\n",
    "            add(x)\n",
    "            add(y)\n",
    "            if sig == '!' and check(x, y):\n",
    "                return False\n",
    "            elif sig == '=':  # 不能直接else\n",
    "                union(x, y)\n",
    "        return True"
   ]
  },
  {
   "cell_type": "code",
   "execution_count": 5,
   "metadata": {},
   "outputs": [
    {
     "name": "stdout",
     "output_type": "stream",
     "text": [
      "a = b\n",
      "b ! a\n"
     ]
    },
    {
     "data": {
      "text/plain": [
       "False"
      ]
     },
     "execution_count": 5,
     "metadata": {},
     "output_type": "execute_result"
    }
   ],
   "source": [
    "from typing import List\n",
    "\n",
    "\n",
    "class Solution:\n",
    "\n",
    "    def equationsPossible(self, equations: List[str]) -> bool:\n",
    "        roots = list(range(26))\n",
    "\n",
    "        def find(x):\n",
    "            if roots[x] != x:\n",
    "                roots[x] = find(roots[x])\n",
    "            return roots[x]\n",
    "\n",
    "        def union(x, y):\n",
    "            rx, ry = find(x), find(y)\n",
    "            if rx == ry: return\n",
    "            roots[rx] = ry  # rx->ry\n",
    "\n",
    "        def is_connected(x, y):\n",
    "            return find(x) == find(y)\n",
    "\n",
    "        for x, b, _, y in sorted(equations, key=lambda x: x[1] == '!'):  # !放后面\n",
    "            x = ord(x) - ord('a')\n",
    "            y = ord(y) - ord('a')\n",
    "            if b == '=':\n",
    "                union(x, y)\n",
    "            else:\n",
    "                if is_connected(x, y):\n",
    "                    return False\n",
    "        return True\n",
    "\n",
    "\n",
    "s = Solution()\n",
    "s.equationsPossible([\"a==b\", \"b!=a\"])\n"
   ]
  },
  {
   "cell_type": "code",
   "execution_count": null,
   "metadata": {},
   "outputs": [],
   "source": []
  }
 ],
 "metadata": {
  "kernelspec": {
   "display_name": "Python 3",
   "language": "python",
   "name": "python3"
  },
  "language_info": {
   "codemirror_mode": {
    "name": "ipython",
    "version": 3
   },
   "file_extension": ".py",
   "mimetype": "text/x-python",
   "name": "python",
   "nbconvert_exporter": "python",
   "pygments_lexer": "ipython3",
   "version": "3.10.5"
  },
  "orig_nbformat": 4,
  "vscode": {
   "interpreter": {
    "hash": "3196968d684371006099b3d55edeef8ed90365227a30deaef86e5d4aa8519be0"
   }
  }
 },
 "nbformat": 4,
 "nbformat_minor": 2
}
