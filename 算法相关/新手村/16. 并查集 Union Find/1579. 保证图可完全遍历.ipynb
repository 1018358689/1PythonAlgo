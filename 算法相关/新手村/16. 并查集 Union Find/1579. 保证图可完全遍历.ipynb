{
 "cells": [
  {
   "cell_type": "code",
   "execution_count": null,
   "metadata": {},
   "outputs": [],
   "source": [
    "from typing import List\n",
    "\n",
    "\n",
    "class UnionFind:\n",
    "\n",
    "    def __init__(self, n) -> None:\n",
    "        self.roots = list(range(n))\n",
    "        self.count = n  # 联通分量\n",
    "        self.size = [1] * n  # 每个联通块大小\n",
    "\n",
    "    def find(self, x):\n",
    "        if self.roots[x] != x:\n",
    "            self.roots[x] = self.find(self.roots[x])\n",
    "        return self.roots[x]\n",
    "\n",
    "    def union(self, x, y):  # 连接并返回原来状态\n",
    "        rx, ry = self.find(x), self.find(y)\n",
    "        if rx == ry: return True\n",
    "        if self.size[rx] > self.size[ry]: rx, ry = ry, rx\n",
    "        self.size[ry] += self.size[rx]\n",
    "        self.roots[rx] = ry  # rx->ry\n",
    "        self.count -= 1\n",
    "        return False\n",
    "\n",
    "\n",
    "class Solution:\n",
    "\n",
    "    def maxNumEdgesToRemove(self, n: int, edges: List[List[int]]) -> int:\n",
    "        uf1, uf2 = UnionFind(n + 1), UnionFind(n + 1)  # Alice和Bob的并查集\n",
    "        ans = 0\n",
    "        # 公共边\n",
    "        for t, x, y in edges:\n",
    "            if t == 3:\n",
    "                if uf1.union(x, y):\n",
    "                    ans += 1\n",
    "                uf2.union(x, y)\n",
    "        # 独占边\n",
    "        for t, x, y in edges:\n",
    "            if t == 1:\n",
    "                if uf1.union(x, y):\n",
    "                    ans += 1\n",
    "            elif t == 2:\n",
    "                if uf2.union(x, y):\n",
    "                    ans += 1\n",
    "        return ans if uf1.count == 2 and uf2.count == 2 else -1\n"
   ]
  }
 ],
 "metadata": {
  "kernelspec": {
   "display_name": "Python 3",
   "language": "python",
   "name": "python3"
  },
  "language_info": {
   "name": "python",
   "version": "3.10.5 (tags/v3.10.5:f377153, Jun  6 2022, 16:14:13) [MSC v.1929 64 bit (AMD64)]"
  },
  "orig_nbformat": 4,
  "vscode": {
   "interpreter": {
    "hash": "3196968d684371006099b3d55edeef8ed90365227a30deaef86e5d4aa8519be0"
   }
  }
 },
 "nbformat": 4,
 "nbformat_minor": 2
}
