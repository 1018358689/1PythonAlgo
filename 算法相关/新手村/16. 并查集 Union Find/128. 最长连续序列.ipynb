{
 "cells": [
  {
   "cell_type": "code",
   "execution_count": 2,
   "metadata": {},
   "outputs": [
    {
     "name": "stdout",
     "output_type": "stream",
     "text": [
      "1\n",
      "2\n",
      "3\n"
     ]
    }
   ],
   "source": [
    "ha = {1, 2, 3}\n",
    "for i in ha:\n",
    "    print(i)\n"
   ]
  },
  {
   "cell_type": "code",
   "execution_count": null,
   "metadata": {},
   "outputs": [],
   "source": [
    "from typing import List\n",
    "\n",
    "\n",
    "class Solution:\n",
    "\n",
    "    def longestConsecutive(self, nums: List[int]) -> int:\n",
    "        if not nums: return 0\n",
    "        roots = {n: n for n in nums}\n",
    "        counts = {n: 1 for n in nums}  # 树上总数\n",
    "        rank = {n: 1 for n in nums}  # 树高度\n",
    "\n",
    "        def find(x):\n",
    "            if roots[x] != x:\n",
    "                roots[x] = find(roots[x])\n",
    "            return roots[x]\n",
    "\n",
    "        def union(x, y):\n",
    "            rx, ry = find(x), find(y)\n",
    "            if rx != ry:\n",
    "                if rank[rx] < rank[ry]:  # 把rx接到ry上\n",
    "                    roots[rx] = ry\n",
    "                    counts[ry] += counts[rx]\n",
    "                elif rank[ry] < rank[rx]:\n",
    "                    roots[ry] = rx\n",
    "                    counts[rx] += counts[ry]\n",
    "                else:\n",
    "                    roots[rx] = ry\n",
    "                    counts[ry] += counts[rx]\n",
    "                    rank[ry] += 1\n",
    "\n",
    "        nums = set(nums)\n",
    "        for n in nums:\n",
    "            if n - 1 in nums:\n",
    "                union(n, n - 1)\n",
    "            if n + 1 in nums:\n",
    "                union(n, n + 1)\n",
    "        return max(counts.values())"
   ]
  }
 ],
 "metadata": {
  "kernelspec": {
   "display_name": "Python 3.10.5 64-bit",
   "language": "python",
   "name": "python3"
  },
  "language_info": {
   "codemirror_mode": {
    "name": "ipython",
    "version": 3
   },
   "file_extension": ".py",
   "mimetype": "text/x-python",
   "name": "python",
   "nbconvert_exporter": "python",
   "pygments_lexer": "ipython3",
   "version": "3.10.5 (tags/v3.10.5:f377153, Jun  6 2022, 16:14:13) [MSC v.1929 64 bit (AMD64)]"
  },
  "orig_nbformat": 4,
  "vscode": {
   "interpreter": {
    "hash": "3196968d684371006099b3d55edeef8ed90365227a30deaef86e5d4aa8519be0"
   }
  }
 },
 "nbformat": 4,
 "nbformat_minor": 2
}
