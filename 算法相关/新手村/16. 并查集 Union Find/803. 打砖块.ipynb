{
 "cells": [
  {
   "cell_type": "code",
   "execution_count": null,
   "metadata": {},
   "outputs": [],
   "source": [
    "class Solution:\n",
    "\n",
    "    def hitBricks(self, grid: List[List[int]], hits: List[List[int]]) -> List[int]:\n",
    "        n = len(hits)\n",
    "        rows, cols = len(grid), len(grid[0])\n",
    "        # 构造roots和sz\n",
    "        roots = {(-1, -1): (-1, -1)}\n",
    "        sz = {(-1, -1): 0}  # 子树大小\n",
    "        for r in range(rows):\n",
    "            for c in range(cols):\n",
    "                if grid[r][c] == 1:\n",
    "                    roots[(r, c)] = (r, c)\n",
    "                    sz[(r, c)] = 1\n",
    "\n",
    "        def find(x):\n",
    "            if roots[x] != x:\n",
    "                roots[x] = find(roots[x])\n",
    "            return roots[x]\n",
    "\n",
    "        def union(x, y):\n",
    "            rx, ry = find(x), find(y)\n",
    "            if rx != ry:\n",
    "                # 能指向天花板就指向天花板\n",
    "                if ry == (-1, -1):\n",
    "                    roots[rx] = ry  # rx -> ry\n",
    "                    sz[ry] += sz[rx]\n",
    "                else:\n",
    "                    roots[ry] = rx\n",
    "                    sz[rx] += sz[ry]\n",
    "\n",
    "        # 被敲掉的位置\n",
    "        banned = set((r, c) for r, c in hits)\n",
    "\n",
    "        # 把其他各个砖块和周边联通\n",
    "        for r in range(rows):\n",
    "            for c in range(cols):\n",
    "                if (r, c) not in banned and grid[r][c] == 1:\n",
    "                    if r == 0:  # 第一层还得和天花板联通\n",
    "                        union((0, c), (-1, -1))\n",
    "                    for nr, nc in (r + 1, c), (r, c + 1):\n",
    "                        if rows > nr >= 0 <= nc < cols and grid[nr][nc] == 1 and (nr, nc) not in banned:\n",
    "                            union((r, c), (nr, nc))\n",
    "\n",
    "        # 构造答案\n",
    "        # chils = defaultdict(list)\n",
    "        # for r in range(rows):\n",
    "        #     for c in range(cols):\n",
    "        #         if grid[r][c] == 1 and (r, c) not in banned:\n",
    "        #             chils[find((r, c))].append((r, c))\n",
    "        # print(chils)\n",
    "        ans = [0] * n\n",
    "        for i in range(n - 1, -1, -1):\n",
    "            r, c = hits[i]\n",
    "            if grid[r][c] == 0:\n",
    "                continue\n",
    "            tmp = 0\n",
    "            sig = r == 0  # 是否有和天花板连接点\n",
    "            vis = set()\n",
    "            for nr, nc in (r + 1, c), (r - 1, c), (r, c + 1), (r, c - 1):\n",
    "                if rows > nr >= 0 <= nc < cols and grid[nr][nc] == 1 and (nr, nc) not in banned:\n",
    "                    y = find((nr, nc))\n",
    "                    if y == (-1, -1):  # 有天花板连接点了\n",
    "                        sig = True\n",
    "                        continue\n",
    "                    if y in vis:  # 避免重复加\n",
    "                        continue\n",
    "                    vis.add(y)\n",
    "                    tmp += sz[y]\n",
    "            ans[i] = tmp if sig else 0  # 必须有天花板连接点才可以\n",
    "            # 把点1和周围联通上\n",
    "            if r == 0:\n",
    "                union((r, c), (-1, -1))\n",
    "            for nr, nc in (r + 1, c), (r - 1, c), (r, c + 1), (r, c - 1):\n",
    "                if rows > nr >= 0 <= nc < cols and grid[nr][nc] == 1 and (nr, nc) not in banned:\n",
    "                    union((r, c), (nr, nc))\n",
    "            banned.remove((r, c))\n",
    "        return ans"
   ]
  },
  {
   "cell_type": "code",
   "execution_count": 3,
   "metadata": {},
   "outputs": [
    {
     "data": {
      "text/plain": [
       "dict_items([(1, [2, 3, 4]), (3, [5, 6])])"
      ]
     },
     "execution_count": 3,
     "metadata": {},
     "output_type": "execute_result"
    }
   ],
   "source": [
    "ha = {1:[2,3,4],3:[5,6]}\n",
    "ha.items()"
   ]
  },
  {
   "cell_type": "code",
   "execution_count": null,
   "metadata": {},
   "outputs": [],
   "source": []
  }
 ],
 "metadata": {
  "kernelspec": {
   "display_name": "base",
   "language": "python",
   "name": "python3"
  },
  "language_info": {
   "codemirror_mode": {
    "name": "ipython",
    "version": 3
   },
   "file_extension": ".py",
   "mimetype": "text/x-python",
   "name": "python",
   "nbconvert_exporter": "python",
   "pygments_lexer": "ipython3",
   "version": "3.9.13"
  },
  "orig_nbformat": 4
 },
 "nbformat": 4,
 "nbformat_minor": 2
}
