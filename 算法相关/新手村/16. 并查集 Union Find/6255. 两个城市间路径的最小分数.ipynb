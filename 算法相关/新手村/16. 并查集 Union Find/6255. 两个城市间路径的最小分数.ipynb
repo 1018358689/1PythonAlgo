{
 "cells": [
  {
   "cell_type": "code",
   "execution_count": 1,
   "metadata": {},
   "outputs": [],
   "source": [
    "from typing import List\n",
    "\n",
    "\n",
    "class Solution:\n",
    "\n",
    "    def minScore(self, n: int, roads: List[List[int]]) -> int:\n",
    "        fa = list(range(n + 1))\n",
    "        sz = [1] * (n + 1)\n",
    "\n",
    "        def find(x):\n",
    "            if fa[x] != x:\n",
    "                fa[x] = find(fa[x])\n",
    "            return fa[x]\n",
    "\n",
    "        def union(x, y):\n",
    "            fx, fy = find(x), find(y)\n",
    "            if fx == fy: return\n",
    "            if sz[fx] < sz[fy]: fx, fy = fy, fx\n",
    "            sz[fx] += sz[fy]  # fy并到fx\n",
    "            fa[fy] = fx\n",
    "\n",
    "        for x, y, _ in roads:\n",
    "            union(x, y)\n",
    "        for x, y, c in sorted(roads, key=lambda x: x[2]):\n",
    "            if find(x) == find(1) and find(x) == find(n):\n",
    "                return c"
   ]
  },
  {
   "cell_type": "code",
   "execution_count": 2,
   "metadata": {},
   "outputs": [],
   "source": [
    "from math import inf\n",
    "from typing import List\n",
    "\n",
    "\n",
    "class Solution:\n",
    "\n",
    "    def minScore(self, n: int, roads: List[List[int]]) -> int:\n",
    "        fa = list(range(n + 1))\n",
    "        sz = [1] * (n + 1)\n",
    "\n",
    "        def find(x):\n",
    "            if fa[x] != x:\n",
    "                fa[x] = find(fa[x])\n",
    "            return fa[x]\n",
    "\n",
    "        def union(x, y):\n",
    "            fx, fy = find(x), find(y)\n",
    "            if fx == fy: return\n",
    "            if sz[fx] < sz[fy]: fx, fy = fy, fx\n",
    "            sz[fx] += sz[fy]  # fy并到fx\n",
    "            fa[fy] = fx\n",
    "\n",
    "        for x, y, _ in roads:\n",
    "            union(x, y)\n",
    "        ans = inf\n",
    "        for x, y, c in roads:\n",
    "            if find(x) == find(1) and find(x) == find(n):\n",
    "                ans = min(ans, c)\n",
    "        return ans"
   ]
  },
  {
   "cell_type": "code",
   "execution_count": null,
   "metadata": {},
   "outputs": [],
   "source": [
    "from math import inf\n",
    "from typing import List\n",
    "\n",
    "\n",
    "class Solution:\n",
    "\n",
    "    def minScore(self, n: int, roads: List[List[int]]) -> int:\n",
    "        adj = [[] for _ in range(n + 1)]\n",
    "        for x, y, c in roads:\n",
    "            adj[x].append((y, c))\n",
    "            adj[y].append((x, c))\n",
    "        # 题目1和n必定相连 直接找连通块中最小cost\n",
    "        ans = inf\n",
    "        vis = [False] * (n + 1)\n",
    "\n",
    "        def dfs(x):\n",
    "            vis[x] = True\n",
    "            for y, c in adj[x]:\n",
    "                nonlocal ans\n",
    "                ans = min(ans, c)\n",
    "                if not vis[y]:\n",
    "                    dfs(y)\n",
    "\n",
    "        dfs(1)\n",
    "        return ans"
   ]
  }
 ],
 "metadata": {
  "kernelspec": {
   "display_name": "Python 3",
   "language": "python",
   "name": "python3"
  },
  "language_info": {
   "codemirror_mode": {
    "name": "ipython",
    "version": 3
   },
   "file_extension": ".py",
   "mimetype": "text/x-python",
   "name": "python",
   "nbconvert_exporter": "python",
   "pygments_lexer": "ipython3",
   "version": "3.11.1 (tags/v3.11.1:a7a450f, Dec  6 2022, 19:58:39) [MSC v.1934 64 bit (AMD64)]"
  },
  "orig_nbformat": 4,
  "vscode": {
   "interpreter": {
    "hash": "ff4b1fca65a764b45acb559e482afe389d289dd599b9f8c5fd12ff5c2ea46a65"
   }
  }
 },
 "nbformat": 4,
 "nbformat_minor": 2
}
