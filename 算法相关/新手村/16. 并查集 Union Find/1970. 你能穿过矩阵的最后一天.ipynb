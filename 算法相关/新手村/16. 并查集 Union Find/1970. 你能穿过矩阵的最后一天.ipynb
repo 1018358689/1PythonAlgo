{
 "cells": [
  {
   "cell_type": "code",
   "execution_count": null,
   "metadata": {},
   "outputs": [],
   "source": [
    "class Solution:\n",
    "\n",
    "    def latestDayToCross(self, row: int, col: int, cells: List[List[int]]) -> int:\n",
    "        n = row * col\n",
    "        zeros = set()\n",
    "        roots = list(range(n + 2))  # n+1天花板 n地板\n",
    "\n",
    "        def find(x):\n",
    "            if roots[x] != x:\n",
    "                roots[x] = find(roots[x])\n",
    "            return roots[x]\n",
    "\n",
    "        def union(x, y):\n",
    "            rx, ry = find(x), find(y)\n",
    "            if rx != ry:\n",
    "                roots[rx] = ry\n",
    "\n",
    "        for i in range(len(cells) - 1, -1, -1):\n",
    "            r, c = cells[i][0] - 1, cells[i][1] - 1\n",
    "            if r == 0:\n",
    "                union(r * col + c, n + 1)\n",
    "            if r == row - 1:\n",
    "                union(r * col + c, n)\n",
    "            for nr, nc in (r + 1, c), (r - 1, c), (r, c + 1), (r, c - 1):\n",
    "                if row > nr >= 0 <= nc < col and (nr, nc) in zeros:\n",
    "                    union(r * col + c, nr * col + nc)\n",
    "                    if find(n + 1) == find(n):\n",
    "                        return i\n",
    "            zeros.add((r, c))"
   ]
  }
 ],
 "metadata": {
  "language_info": {
   "name": "python"
  },
  "orig_nbformat": 4
 },
 "nbformat": 4,
 "nbformat_minor": 2
}
