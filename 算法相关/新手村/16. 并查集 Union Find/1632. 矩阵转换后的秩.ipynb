{
 "cells": [
  {
   "cell_type": "code",
   "execution_count": null,
   "metadata": {},
   "outputs": [],
   "source": [
    "class Solution:\n",
    "\n",
    "    def matrixRankTransform(self, matrix: List[List[int]]) -> List[List[int]]:\n",
    "        rows, cols = len(matrix), len(matrix[0])\n",
    "        roots = list(range(rows + cols))  # 行列并查集\n",
    "\n",
    "        def find(x):\n",
    "            if roots[x] != x:\n",
    "                roots[x] = find(roots[x])\n",
    "            return roots[x]\n",
    "\n",
    "        def union(x, y):\n",
    "            rx, ry = find(x), find(y)\n",
    "            if rx != ry:\n",
    "                roots[rx] = ry\n",
    "\n",
    "        rmx = [0] * rows  # 行最大值\n",
    "        cmx = [0] * cols  # 列最大值\n",
    "        ha = defaultdict(list)\n",
    "        for r in range(rows):\n",
    "            for c in range(cols):\n",
    "                ha[matrix[r][c]].append((r, c))\n",
    "        res = [[0] * cols for _ in range(rows)]\n",
    "        for x in sorted(ha.keys()):\n",
    "            # 1.同值行列合并 可能会有相同r不同c 或 不同r相同c\n",
    "            for r, c in ha[x]:\n",
    "                union(r, c + rows)  # -> 会得到多颗树\n",
    "            # 2.分组每棵树\n",
    "            group = defaultdict(list)\n",
    "            for r, c in ha[x]:\n",
    "                group[find(r)].append((r, c))\n",
    "            # 3.同一棵树共享rank\n",
    "            for chils in group.values():\n",
    "                rank = 0  # 此树最大rank\n",
    "                for r, c in chils:\n",
    "                    rank = max(rank, rmx[r], cmx[c])\n",
    "                for r, c in chils:  # 赋值res rmx cmx\n",
    "                    res[r][c] = rmx[r] = cmx[c] = rank + 1\n",
    "                    roots[r] = r  # 恢复\n",
    "                    roots[c + rows] = c + rows\n",
    "        return res"
   ]
  },
  {
   "cell_type": "code",
   "execution_count": 6,
   "metadata": {},
   "outputs": [
    {
     "data": {
      "text/plain": [
       "2"
      ]
     },
     "execution_count": 6,
     "metadata": {},
     "output_type": "execute_result"
    }
   ],
   "source": [
    "from functools import reduce\n",
    "a = []\n",
    "k = lambda x,y:x+y\n",
    "reduce(k,a,2)"
   ]
  },
  {
   "cell_type": "code",
   "execution_count": null,
   "metadata": {},
   "outputs": [],
   "source": []
  }
 ],
 "metadata": {
  "kernelspec": {
   "display_name": "Python 3",
   "language": "python",
   "name": "python3"
  },
  "language_info": {
   "codemirror_mode": {
    "name": "ipython",
    "version": 3
   },
   "file_extension": ".py",
   "mimetype": "text/x-python",
   "name": "python",
   "nbconvert_exporter": "python",
   "pygments_lexer": "ipython3",
   "version": "3.11.1"
  },
  "orig_nbformat": 4
 },
 "nbformat": 4,
 "nbformat_minor": 2
}
