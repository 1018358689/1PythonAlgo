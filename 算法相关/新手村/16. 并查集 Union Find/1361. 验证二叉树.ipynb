{
 "cells": [
  {
   "cell_type": "code",
   "execution_count": null,
   "metadata": {},
   "outputs": [],
   "source": [
    "from typing import List\n",
    "\n",
    "\n",
    "class Solution:\n",
    "\n",
    "    def validateBinaryTreeNodes(self, n: int, leftChild: List[int], rightChild: List[int]) -> bool:\n",
    "        # 有向图是否存在环 入度\n",
    "        roots = list(range(n))\n",
    "        counts = n\n",
    "        indeg = [0] * n\n",
    "\n",
    "        def find(x):\n",
    "            if roots[x] != x:\n",
    "                roots[x] = find(roots[x])\n",
    "            return roots[x]\n",
    "\n",
    "        def union(x, y):\n",
    "            rx, ry = find(x), find(y)\n",
    "            if rx == ry:\n",
    "                return True\n",
    "            nonlocal counts\n",
    "            roots[rx] = ry\n",
    "            counts -= 1\n",
    "            return False\n",
    "\n",
    "        for x in range(n):\n",
    "            if (l := leftChild[x]) != -1:\n",
    "                if union(x, l) or indeg[l]:\n",
    "                    return False\n",
    "                indeg[l] += 1\n",
    "            if (r := rightChild[x]) != -1:\n",
    "                if union(x, r) or indeg[r]:\n",
    "                    return False\n",
    "                indeg[r] += 1\n",
    "        return counts == 1"
   ]
  },
  {
   "cell_type": "code",
   "execution_count": null,
   "metadata": {},
   "outputs": [],
   "source": [
    "from collections import deque\n",
    "from typing import List\n",
    "\n",
    "\n",
    "class Solution:\n",
    "\n",
    "    def validateBinaryTreeNodes(self, n: int, leftChild: List[int], rightChild: List[int]) -> bool:\n",
    "\n",
    "        def bfs(start):\n",
    "            q = deque([start])\n",
    "            vis = {start}\n",
    "            while q:\n",
    "                x = q.popleft()\n",
    "                for y in leftChild[x], rightChild[x]:\n",
    "                    if y != -1:\n",
    "                        if y in vis:\n",
    "                            return -1\n",
    "                        vis.add(y)\n",
    "                        q.append(y)\n",
    "            return len(vis)\n",
    "\n",
    "        for x in range(n):\n",
    "            if bfs(x) == n:\n",
    "                return True\n",
    "        return False"
   ]
  }
 ],
 "metadata": {
  "kernelspec": {
   "display_name": "Python 3",
   "language": "python",
   "name": "python3"
  },
  "language_info": {
   "codemirror_mode": {
    "name": "ipython",
    "version": 3
   },
   "file_extension": ".py",
   "mimetype": "text/x-python",
   "name": "python",
   "nbconvert_exporter": "python",
   "pygments_lexer": "ipython3",
   "version": "3.11.1"
  },
  "orig_nbformat": 4
 },
 "nbformat": 4,
 "nbformat_minor": 2
}
