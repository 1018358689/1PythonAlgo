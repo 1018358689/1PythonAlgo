{
 "cells": [
  {
   "cell_type": "code",
   "execution_count": null,
   "metadata": {},
   "outputs": [],
   "source": [
    "class Solution:\n",
    "\n",
    "    def findAllPeople(self, n: int, meetings: List[List[int]], firstPerson: int) -> List[int]:\n",
    "        roots = list(range(n))\n",
    "\n",
    "        def find(x):\n",
    "            if roots[x] != x:\n",
    "                roots[x] = find(roots[x])\n",
    "            return roots[x]\n",
    "\n",
    "        def union(x, y):\n",
    "            rx, ry = find(x), find(y)\n",
    "            if rx != ry:\n",
    "                roots[rx] = ry  # rx -> ry\n",
    "\n",
    "        def separate(x, y):  # 实际x和y是单独两个相连 现在可以这样拆分\n",
    "            # print(x, y, find(x), find(y))\n",
    "            roots[x], roots[y] = x, y\n",
    "\n",
    "        union(firstPerson, 0)\n",
    "        ms = defaultdict(list)\n",
    "        for x, y, t in meetings:\n",
    "            ms[t].append((x, y))\n",
    "        for _, xs in sorted(ms.items()):\n",
    "            for x, y in xs:  # 同时刻 尝试各对联通\n",
    "                union(x, y)\n",
    "            for x, y in xs:  # 检查未接收到秘密则无意义 就拆分复原\n",
    "                if find(x) != find(0):\n",
    "                    separate(x, y)\n",
    "\n",
    "        return [x for x in range(n) if find(x) == find(0)]"
   ]
  }
 ],
 "metadata": {
  "language_info": {
   "name": "python"
  },
  "orig_nbformat": 4
 },
 "nbformat": 4,
 "nbformat_minor": 2
}
