{
 "cells": [
  {
   "cell_type": "code",
   "execution_count": null,
   "metadata": {},
   "outputs": [],
   "source": [
    "class Solution:\n",
    "    def countCompleteComponents(self, n: int, edges: List[List[int]]) -> int:\n",
    "        roots = list(range(n))\n",
    "        sz = [1] * n\n",
    "        def find(x):\n",
    "            if roots[x] != x:\n",
    "                roots[x] = find(roots[x])\n",
    "            return roots[x]\n",
    "        def union(x, y):\n",
    "            rx, ry = find(x), find(y)\n",
    "            if rx != ry:\n",
    "                if sz[ry] < sz[rx]: rx, ry = ry, rx\n",
    "                roots[rx] = ry\n",
    "                sz[ry] += sz[rx]\n",
    "        outs = [0] * n\n",
    "        for x, y in edges:\n",
    "            outs[x] += 1\n",
    "            outs[y] += 1\n",
    "            union(x, y)\n",
    "        ans = 0\n",
    "        chils = defaultdict(list)\n",
    "        for x in range(n):\n",
    "            chils[find(x)].append(x)\n",
    "        for vals in chils.values():\n",
    "            osz = sz[find(vals[0])]\n",
    "            if all(outs[v] == osz - 1 for v in vals):\n",
    "                ans += 1\n",
    "        return ans\n",
    "            "
   ]
  }
 ],
 "metadata": {
  "language_info": {
   "name": "python"
  },
  "orig_nbformat": 4
 },
 "nbformat": 4,
 "nbformat_minor": 2
}
