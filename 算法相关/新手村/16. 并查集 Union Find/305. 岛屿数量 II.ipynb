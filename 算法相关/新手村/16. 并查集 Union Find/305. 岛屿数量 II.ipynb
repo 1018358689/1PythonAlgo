{
 "cells": [
  {
   "cell_type": "code",
   "execution_count": 3,
   "metadata": {},
   "outputs": [
    {
     "data": {
      "text/plain": [
       "[1, 1, 2, 2]"
      ]
     },
     "execution_count": 3,
     "metadata": {},
     "output_type": "execute_result"
    }
   ],
   "source": [
    "from typing import List\n",
    "\n",
    "\n",
    "class Solution:\n",
    "\n",
    "    def numIslands2(self, m: int, n: int, positions: List[List[int]]) -> List[int]:\n",
    "        w = m * n\n",
    "        count = m * n\n",
    "        ans = [0] * len(positions)\n",
    "        wset = [0] * count\n",
    "        roots = list(range(count))\n",
    "\n",
    "        def find(x):\n",
    "            if roots[x] != x:\n",
    "                roots[x] = find(roots[x])\n",
    "            return roots[x]\n",
    "\n",
    "        def union(x, y):\n",
    "            rx, ry = find(x), find(y)\n",
    "            if rx != ry:\n",
    "                roots[rx] = ry  # rx->ry\n",
    "                nonlocal count\n",
    "                count -= 1\n",
    "\n",
    "        for i, (r, c) in enumerate(positions):\n",
    "            w -= wset[r * n + c] != 1\n",
    "            for nr, nc in (r - 1, c), (r + 1, c), (r, c - 1), (r, c + 1):\n",
    "                if m > nr >= 0 <= nc < n and wset[nr * n + nc]:\n",
    "                    union(r * n + c, nr * n + nc)\n",
    "            wset[r * n + c] = 1\n",
    "            ans[i] = count - w\n",
    "        return ans\n",
    "\n",
    "\n",
    "s = Solution()\n",
    "s.numIslands2(3, 3, [[0, 0], [0, 1], [1, 2], [1, 2]])\n"
   ]
  },
  {
   "cell_type": "code",
   "execution_count": 4,
   "metadata": {},
   "outputs": [
    {
     "data": {
      "text/plain": [
       "[1, 1, 2, 2]"
      ]
     },
     "execution_count": 4,
     "metadata": {},
     "output_type": "execute_result"
    }
   ],
   "source": [
    "from typing import List\n",
    "\n",
    "\n",
    "class Solution:\n",
    "\n",
    "    def numIslands2(self, m: int, n: int, positions: List[List[int]]) -> List[int]:\n",
    "        w = m * n\n",
    "        count = m * n\n",
    "        ans = [0] * len(positions)\n",
    "        wset = [0] * count\n",
    "        roots = list(range(count))\n",
    "\n",
    "        def find(x):\n",
    "            if roots[x] != x:\n",
    "                roots[x] = find(roots[x])\n",
    "            return roots[x]\n",
    "\n",
    "        def union(x, y):\n",
    "            rx, ry = find(x), find(y)\n",
    "            if rx != ry:\n",
    "                roots[rx] = ry  # rx->ry\n",
    "                nonlocal count\n",
    "                count -= 1\n",
    "\n",
    "        for i, (r, c) in enumerate(positions):\n",
    "            if wset[r * n + c] != 1:\n",
    "                w -= 1\n",
    "                for nr, nc in (r - 1, c), (r + 1, c), (r, c - 1), (r, c + 1):\n",
    "                    if m > nr >= 0 <= nc < n and wset[nr * n + nc]:\n",
    "                        union(r * n + c, nr * n + nc)\n",
    "                wset[r * n + c] = 1\n",
    "            ans[i] = count - w\n",
    "        return ans\n",
    "\n",
    "\n",
    "s = Solution()\n",
    "s.numIslands2(3, 3, [[0, 0], [0, 1], [1, 2], [1, 2]])\n"
   ]
  },
  {
   "cell_type": "code",
   "execution_count": null,
   "metadata": {},
   "outputs": [],
   "source": []
  }
 ],
 "metadata": {
  "kernelspec": {
   "display_name": "Python 3",
   "language": "python",
   "name": "python3"
  },
  "language_info": {
   "codemirror_mode": {
    "name": "ipython",
    "version": 3
   },
   "file_extension": ".py",
   "mimetype": "text/x-python",
   "name": "python",
   "nbconvert_exporter": "python",
   "pygments_lexer": "ipython3",
   "version": "3.10.6 (tags/v3.10.6:9c7b4bd, Aug  1 2022, 21:53:49) [MSC v.1932 64 bit (AMD64)]"
  },
  "orig_nbformat": 4,
  "vscode": {
   "interpreter": {
    "hash": "dfbf064e0f2c8839bc658dd75dfc0b8f09a0440078cae3024109b27659b69d06"
   }
  }
 },
 "nbformat": 4,
 "nbformat_minor": 2
}
