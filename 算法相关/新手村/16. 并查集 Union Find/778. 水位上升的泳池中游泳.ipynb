{
 "cells": [
  {
   "cell_type": "code",
   "execution_count": null,
   "metadata": {},
   "outputs": [],
   "source": [
    "from typing import List\n",
    "import heapq\n",
    "\n",
    "\n",
    "class Solution:\n",
    "    def swimInWater(self, grid: List[List[int]]) -> int:\n",
    "        rows, cols = len(grid), len(grid)\n",
    "        costs = {0: grid[0][0]}\n",
    "        best = set()\n",
    "        pq = [(grid[0][0], 0)]  # cost,pos\n",
    "        target = rows*cols-1\n",
    "        while pq:\n",
    "            cost, cur = heapq.heappop(pq)\n",
    "            if cur == target:\n",
    "                return cost\n",
    "            best.add(cur)\n",
    "            r, c = divmod(cur, cols)\n",
    "            for nr, nc in ((r+1, c), (r-1, c), (r, c+1), (r, c-1)):\n",
    "                if 0 <= nr < rows and 0 <= nc < cols:\n",
    "                    nei = nr*cols+nc\n",
    "                    if nei not in best:\n",
    "                        ncost = max(cost, grid[nr][nc])\n",
    "                        if nei not in costs or ncost < costs[nei]:\n",
    "                            costs[nei] = ncost\n",
    "                            heapq.heappush(pq, (ncost, nei))\n"
   ]
  }
 ],
 "metadata": {
  "kernelspec": {
   "display_name": "Python 3.10.6 64-bit",
   "language": "python",
   "name": "python3"
  },
  "language_info": {
   "codemirror_mode": {
    "name": "ipython",
    "version": 3
   },
   "file_extension": ".py",
   "mimetype": "text/x-python",
   "name": "python",
   "nbconvert_exporter": "python",
   "pygments_lexer": "ipython3",
   "version": "3.10.6"
  },
  "orig_nbformat": 4,
  "vscode": {
   "interpreter": {
    "hash": "916dbcbb3f70747c44a77c7bcd40155683ae19c65e1c03b4aa3499c5328201f1"
   }
  }
 },
 "nbformat": 4,
 "nbformat_minor": 2
}
