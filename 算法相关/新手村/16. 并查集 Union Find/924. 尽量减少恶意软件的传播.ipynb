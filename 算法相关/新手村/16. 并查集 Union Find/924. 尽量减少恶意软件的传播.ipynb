{
 "cells": [
  {
   "cell_type": "code",
   "execution_count": null,
   "metadata": {},
   "outputs": [],
   "source": [
    "from typing import List\n",
    "\n",
    "\n",
    "class Solution:\n",
    "\n",
    "    def minMalwareSpread(self, graph: List[List[int]], initial: List[int]) -> int:\n",
    "        n = len(graph)\n",
    "        roots = list(range(n))\n",
    "        size = [1] * n  # 每个连通块的大小 配合find\n",
    "\n",
    "        def find(x):\n",
    "            if roots[x] != x:\n",
    "                roots[x] = find(roots[x])\n",
    "            return roots[x]\n",
    "\n",
    "        def union(x, y):\n",
    "            rx, ry = find(x), find(y)\n",
    "            if rx == ry: return\n",
    "            if size[rx] > size[ry]: rx, ry = ry, rx\n",
    "            # rx -> ry\n",
    "            size[ry] += size[rx]\n",
    "            roots[rx] = ry\n",
    "\n",
    "        virus = [0] * n  # 每个连通块的病毒数 配合find\n",
    "        for i in range(n - 1):\n",
    "            for j in range(i + 1, n):\n",
    "                if graph[i][j]:\n",
    "                    union(i, j)\n",
    "        for x in initial:\n",
    "            virus[find(x)] += 1\n",
    "        initial.sort()  # 题目要求返回最小节点\n",
    "        mx = 0  # 目前最大的病毒连通块大小\n",
    "        ans = initial[0]  # 如果没有单独病毒就返回第一个\n",
    "        for x in initial:\n",
    "            fa = find(x)\n",
    "            if virus[fa] == 1 and size[fa] > mx:  # 谁影响大就去掉谁\n",
    "                mx = size[fa]\n",
    "                ans = x\n",
    "        return ans"
   ]
  }
 ],
 "metadata": {
  "kernelspec": {
   "display_name": "Python 3",
   "language": "python",
   "name": "python3"
  },
  "language_info": {
   "name": "python",
   "version": "3.10.5 (tags/v3.10.5:f377153, Jun  6 2022, 16:14:13) [MSC v.1929 64 bit (AMD64)]"
  },
  "orig_nbformat": 4,
  "vscode": {
   "interpreter": {
    "hash": "3196968d684371006099b3d55edeef8ed90365227a30deaef86e5d4aa8519be0"
   }
  }
 },
 "nbformat": 4,
 "nbformat_minor": 2
}
