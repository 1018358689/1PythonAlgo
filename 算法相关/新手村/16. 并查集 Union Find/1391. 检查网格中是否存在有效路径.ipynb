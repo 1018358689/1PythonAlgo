{
 "cells": [
  {
   "cell_type": "code",
   "execution_count": null,
   "metadata": {},
   "outputs": [],
   "source": [
    "class Solution:\n",
    "\n",
    "    def hasValidPath(self, grid: List[List[int]]) -> bool:\n",
    "        rows, cols = len(grid), len(grid[0])\n",
    "        n = rows * cols\n",
    "        if n == 1:\n",
    "            return True\n",
    "        roots = list(range(n))\n",
    "\n",
    "        def find(x):\n",
    "            if roots[x] != x:\n",
    "                roots[x] = find(roots[x])\n",
    "            return roots[x]\n",
    "\n",
    "        def union(x, y):\n",
    "            rx, ry = find(x), find(y)\n",
    "            if rx == ry:\n",
    "                return\n",
    "            roots[rx] = ry  # rx -> ry\n",
    "\n",
    "        for r in range(rows):\n",
    "            for c in range(cols):\n",
    "                x = grid[r][c]\n",
    "                # 向右\n",
    "                if x in {1, 4, 6} and (nc := c + 1) < cols and grid[r][nc] in {1, 3, 5}:\n",
    "                    union(r * cols + c, r * cols + nc)\n",
    "                # 向下\n",
    "                if x in {2, 3, 4} and (nr := r + 1) < rows and grid[nr][c] in {2, 5, 6}:\n",
    "                    union(r * cols + c, nr * cols + c)\n",
    "                if find(0) == find(n - 1):\n",
    "                    return True\n",
    "        return False"
   ]
  },
  {
   "cell_type": "code",
   "execution_count": null,
   "metadata": {},
   "outputs": [],
   "source": [
    "class Solution:\n",
    "\n",
    "    def hasValidPath(self, grid: List[List[int]]) -> bool:\n",
    "        rows, cols = len(grid), len(grid[0])\n",
    "\n",
    "        def dfs(r, c):\n",
    "            if (r, c) == (rows - 1, cols - 1):\n",
    "                return True\n",
    "            x = grid[r][c]\n",
    "            grid[r][c] = 0\n",
    "            # 上\n",
    "            if x in {2, 5, 6} and (nr := r - 1) >= 0 and grid[nr][c] in {2, 3, 4}:\n",
    "                if dfs(nr, c): return True\n",
    "            # 下\n",
    "            if x in {2, 3, 4} and (nr := r + 1) < rows and grid[nr][c] in {2, 5, 6}:\n",
    "                if dfs(nr, c): return True\n",
    "            # 左\n",
    "            if x in {1, 3, 5} and (nc := c - 1) >= 0 and grid[r][nc] in {1, 4, 6}:\n",
    "                if dfs(r, nc): return True\n",
    "            # 右\n",
    "            if x in {1, 4, 6} and (nc := c + 1) < cols and grid[r][nc] in {1, 3, 5}:\n",
    "                if dfs(r, nc): return True\n",
    "            return False\n",
    "\n",
    "        return dfs(0, 0)"
   ]
  }
 ],
 "metadata": {
  "language_info": {
   "name": "python"
  },
  "orig_nbformat": 4
 },
 "nbformat": 4,
 "nbformat_minor": 2
}
