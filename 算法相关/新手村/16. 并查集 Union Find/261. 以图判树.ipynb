{
 "cells": [
  {
   "cell_type": "code",
   "execution_count": null,
   "metadata": {},
   "outputs": [],
   "source": [
    "from typing import List\n",
    "\n",
    "\n",
    "class Solution:\n",
    "\n",
    "    def validTree(self, n: int, edges: List[List[int]]) -> bool:\n",
    "        fa = list(range(n))\n",
    "        count = n\n",
    "\n",
    "        def find(x):\n",
    "            if fa[x] != x:\n",
    "                fa[x] = find(fa[x])\n",
    "            return fa[x]\n",
    "\n",
    "        def union(x, y):\n",
    "            fx, fy = find(x), find(y)\n",
    "            if fx == fy: return\n",
    "            fa[fx] = fy\n",
    "            nonlocal count\n",
    "            count -= 1\n",
    "\n",
    "        def is_connected(x, y):\n",
    "            return find(x) == find(y)\n",
    "\n",
    "        for x, y in edges:\n",
    "            if not is_connected(x, y):\n",
    "                union(x, y)\n",
    "            else:\n",
    "                return False\n",
    "        return count == 1\n"
   ]
  }
 ],
 "metadata": {
  "kernelspec": {
   "display_name": "Python 3",
   "language": "python",
   "name": "python3"
  },
  "language_info": {
   "name": "python",
   "version": "3.10.5 (tags/v3.10.5:f377153, Jun  6 2022, 16:14:13) [MSC v.1929 64 bit (AMD64)]"
  },
  "orig_nbformat": 4,
  "vscode": {
   "interpreter": {
    "hash": "3196968d684371006099b3d55edeef8ed90365227a30deaef86e5d4aa8519be0"
   }
  }
 },
 "nbformat": 4,
 "nbformat_minor": 2
}
