{
 "cells": [
  {
   "cell_type": "code",
   "execution_count": 2,
   "metadata": {},
   "outputs": [
    {
     "data": {
      "text/plain": [
       "3"
      ]
     },
     "execution_count": 2,
     "metadata": {},
     "output_type": "execute_result"
    }
   ],
   "source": [
    "def f(grid: list):\n",
    "    rows, cols = len(grid), len(grid[0])\n",
    "    count = rows * cols\n",
    "    roots = list(range(count))\n",
    "    rank = [1] * count\n",
    "\n",
    "    def find(x):\n",
    "        if roots[x] != x:\n",
    "            roots[x] = find(roots[x])\n",
    "        return roots[x]\n",
    "\n",
    "    def union(x, y):\n",
    "        nonlocal count\n",
    "        rx, ry = find(x), find(y)\n",
    "        if rx != ry:\n",
    "            if rank[rx] < rank[ry]:\n",
    "                roots[rx] = ry\n",
    "            elif rank[ry] < rank[rx]:\n",
    "                roots[ry] = rx\n",
    "            else:\n",
    "                roots[ry] = rx\n",
    "                rank[rx] += 1\n",
    "            count -= 1\n",
    "\n",
    "    oneCnt = 0\n",
    "    for r in range(rows):\n",
    "        for c in range(cols):\n",
    "            if grid[r][c] == '1':\n",
    "                oneCnt += 1\n",
    "                for nr, nc in ((r + 1, c), (r, c + 1)):\n",
    "                    if 0 <= nr < rows and 0 <= nc < cols and grid[nr][nc] == '1':\n",
    "                        union(r * cols + c, nr * cols + nc)\n",
    "    return count - (rows * cols - oneCnt)\n",
    "\n",
    "\n",
    "f([[\"1\", \"1\", \"0\", \"0\", \"0\"], [\"1\", \"1\", \"0\", \"0\", \"0\"], [\"0\", \"0\", \"1\", \"0\", \"0\"], [\"0\", \"0\", \"0\", \"1\", \"1\"]])\n"
   ]
  },
  {
   "cell_type": "code",
   "execution_count": null,
   "metadata": {},
   "outputs": [],
   "source": []
  }
 ],
 "metadata": {
  "interpreter": {
   "hash": "a5f34674cfcc9b13426a2d112c686bc132e4ef443f1487e707e7c3787d6bcf89"
  },
  "kernelspec": {
   "display_name": "Python 3.10.4 64-bit (windows store)",
   "language": "python",
   "name": "python3"
  },
  "language_info": {
   "codemirror_mode": {
    "name": "ipython",
    "version": 3
   },
   "file_extension": ".py",
   "mimetype": "text/x-python",
   "name": "python",
   "nbconvert_exporter": "python",
   "pygments_lexer": "ipython3",
   "version": "3.10.4"
  },
  "orig_nbformat": 4
 },
 "nbformat": 4,
 "nbformat_minor": 2
}
