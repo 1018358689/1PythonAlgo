{
 "cells": [
  {
   "cell_type": "code",
   "execution_count": 2,
   "metadata": {},
   "outputs": [
    {
     "data": {
      "text/plain": [
       "3"
      ]
     },
     "execution_count": 2,
     "metadata": {},
     "output_type": "execute_result"
    }
   ],
   "source": [
    "def f(grid: list):\n",
    "    rows, cols = len(grid), len(grid[0])\n",
    "    count = rows * cols\n",
    "    roots = list(range(count))\n",
    "    rank = [1] * count\n",
    "\n",
    "    def find(x):\n",
    "        if roots[x] != x:\n",
    "            roots[x] = find(roots[x])\n",
    "        return roots[x]\n",
    "\n",
    "    def union(x, y):\n",
    "        nonlocal count\n",
    "        rx, ry = find(x), find(y)\n",
    "        if rx != ry:\n",
    "            if rank[rx] < rank[ry]:\n",
    "                roots[rx] = ry\n",
    "            elif rank[ry] < rank[rx]:\n",
    "                roots[ry] = rx\n",
    "            else:\n",
    "                roots[ry] = rx\n",
    "                rank[rx] += 1\n",
    "            count -= 1\n",
    "\n",
    "    oneCnt = 0\n",
    "    for r in range(rows):\n",
    "        for c in range(cols):\n",
    "            if grid[r][c] == '1':\n",
    "                oneCnt += 1\n",
    "                for nr, nc in ((r + 1, c), (r, c + 1)):\n",
    "                    if 0 <= nr < rows and 0 <= nc < cols and grid[nr][nc] == '1':\n",
    "                        union(r * cols + c, nr * cols + nc)\n",
    "    return count - (rows * cols - oneCnt)\n",
    "\n",
    "\n",
    "f([[\"1\", \"1\", \"0\", \"0\", \"0\"], [\"1\", \"1\", \"0\", \"0\", \"0\"], [\"0\", \"0\", \"1\", \"0\", \"0\"], [\"0\", \"0\", \"0\", \"1\", \"1\"]])\n"
   ]
  },
  {
   "cell_type": "code",
   "execution_count": null,
   "metadata": {},
   "outputs": [],
   "source": []
  }
 ],
 "metadata": {
  "kernelspec": {
   "display_name": "Python 3.10.5 64-bit",
   "language": "python",
   "name": "python3"
  },
  "language_info": {
   "codemirror_mode": {
    "name": "ipython",
    "version": 3
   },
   "file_extension": ".py",
   "mimetype": "text/x-python",
   "name": "python",
   "nbconvert_exporter": "python",
   "pygments_lexer": "ipython3",
   "version": "3.10.5 (tags/v3.10.5:f377153, Jun  6 2022, 16:14:13) [MSC v.1929 64 bit (AMD64)]"
  },
  "orig_nbformat": 4,
  "vscode": {
   "interpreter": {
    "hash": "3196968d684371006099b3d55edeef8ed90365227a30deaef86e5d4aa8519be0"
   }
  }
 },
 "nbformat": 4,
 "nbformat_minor": 2
}
