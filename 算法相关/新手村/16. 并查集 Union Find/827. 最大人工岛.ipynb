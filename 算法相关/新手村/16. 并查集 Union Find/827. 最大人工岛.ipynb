{
 "cells": [
  {
   "cell_type": "code",
   "execution_count": 20,
   "metadata": {},
   "outputs": [
    {
     "name": "stdout",
     "output_type": "stream",
     "text": [
      "[1, 1, 1, 1]\n"
     ]
    },
    {
     "data": {
      "text/plain": [
       "1"
      ]
     },
     "execution_count": 20,
     "metadata": {},
     "output_type": "execute_result"
    }
   ],
   "source": [
    "from typing import List\n",
    "\n",
    "\n",
    "class Solution:\n",
    "\n",
    "    def largestIsland(self, grid: List[List[int]]) -> int:\n",
    "        # 1.并查集\n",
    "        side = len(grid)\n",
    "        count = side**2\n",
    "        roots = list(range(count))\n",
    "        counts = [1] * count  # 岛屿面积\n",
    "        rank = [1] * count\n",
    "\n",
    "        def find(x):\n",
    "            if roots[x] != x:\n",
    "                roots[x] = find(roots[x])\n",
    "            return roots[x]\n",
    "\n",
    "        def union(x, y):\n",
    "            rx, ry = find(x), find(y)\n",
    "            if rx != ry:\n",
    "                if rank[rx] < rank[ry]:\n",
    "                    roots[rx] = ry\n",
    "                    counts[ry] += counts[rx]\n",
    "                elif rank[rx] > rank[ry]:\n",
    "                    roots[ry] = rx\n",
    "                    counts[rx] += counts[ry]\n",
    "                else:\n",
    "                    roots[rx] = ry\n",
    "                    counts[ry] += counts[rx]\n",
    "                    rank[ry] += 1\n",
    "\n",
    "        # 2.只记录岛屿的面积\n",
    "        for r in range(side):\n",
    "            for c in range(side):\n",
    "                if grid[r][c] == 1:\n",
    "                    for nr, nc in ((r + 1, c), (r, c + 1)):\n",
    "                        if 0 <= nr < side and 0 <= nc < side and grid[nr][nc] == 1:\n",
    "                            union(r * side + c, nr * side + nc)\n",
    "        # 3.寻找海洋连接四周岛屿面积 可能四周岛屿有几个是同一个\n",
    "        ans = max(counts)\n",
    "        for r in range(side):\n",
    "            for c in range(side):\n",
    "                if grid[r][c] == 0:\n",
    "                    vis = set()\n",
    "                    local = 1\n",
    "                    for nr, nc in ((r - 1, c), (r + 1, c), (r, c - 1), (r, c + 1)):\n",
    "                        if 0 <= nr < side and 0 <= nc < side and grid[nr][nc] == 1:\n",
    "                            nei = nr * side + nc\n",
    "                            parent = find(nei)\n",
    "                            if parent not in vis:\n",
    "                                vis.add(parent)\n",
    "                                local += counts[parent]\n",
    "                    ans = max(ans, local)\n",
    "        return ans\n",
    "\n",
    "\n",
    "s = Solution()\n",
    "# s.largestIsland([[1, 0], [0, 1]])\n",
    "# s.largestIsland([[1, 1], [1, 1]])\n",
    "# s.largestIsland([[1, 1], [1, 0]])\n",
    "s.largestIsland([[0, 0], [0, 0]])\n"
   ]
  },
  {
   "cell_type": "code",
   "execution_count": 41,
   "metadata": {},
   "outputs": [
    {
     "name": "stdout",
     "output_type": "stream",
     "text": [
      "0 0\n",
      "0 0 1\n",
      "1 1\n",
      "1 1 1\n",
      "{(0, 0): (0, 0), (1, 1): (1, 1)} {(0, 0): 1, (1, 1): 1}\n",
      "{} {}\n"
     ]
    },
    {
     "data": {
      "text/plain": [
       "1"
      ]
     },
     "execution_count": 41,
     "metadata": {},
     "output_type": "execute_result"
    }
   ],
   "source": [
    "from typing import List\n",
    "\n",
    "\n",
    "class Solution:\n",
    "\n",
    "    def largestIsland(self, grid: List[List[int]]) -> int:\n",
    "        side = len(grid)\n",
    "        ans = 0\n",
    "        islandNum = {}\n",
    "        islandArea = {}\n",
    "\n",
    "        def dfs(r, c):\n",
    "            nonlocal area, vis\n",
    "            area += 1\n",
    "            for nr, nc in ((r - 1, c), (r + 1, c), (r, c - 1), (r, c + 1)):\n",
    "                if 0 <= nr < side and 0 <= nc < side and (nr, nc) not in vis and grid[nr][nc] == 1:\n",
    "                    islandNum[(nr, nc)] = islandNum.get((r, c), (r, c))\n",
    "                    vis |= {(nr, nc)} # 为什么vis不用回溯是因为 \n",
    "                    # 路径上的点不能继续走其他走过的点可以走则要回溯 \n",
    "                    # 路径上的点不能继续走其他走过的点也不可以走则不要回溯 \n",
    "                    dfs(nr, nc)\n",
    "\n",
    "        for r in range(side):\n",
    "            for c in range(side):\n",
    "                if grid[r][c] == 1 and (r, c) not in islandNum:\n",
    "                    islandNum[(r, c)] = (r, c)\n",
    "                    area = 0\n",
    "                    vis = {(r, c)}\n",
    "                    dfs(r, c)\n",
    "                    islandArea[(r, c)] = area\n",
    "                    ans = max(ans, area)\n",
    "        print(islandNum, islandArea)\n",
    "        for r in range(side):\n",
    "            for c in range(side):\n",
    "                if grid[r][c] == 0:\n",
    "                    local = 1\n",
    "                    numSet = set()\n",
    "                    for nr, nc in ((r - 1, c), (r + 1, c), (r, c - 1), (r, c + 1)):\n",
    "                        if 0 <= nr < side and 0 <= nc < side and grid[nr][nc] == 1:\n",
    "                            num = islandNum[(nr, nc)]\n",
    "                            if num not in numSet:\n",
    "                                numSet.add(num)\n",
    "                                local += islandArea[num]\n",
    "                    ans = max(ans, local)\n",
    "        return ans\n",
    "\n",
    "\n",
    "s = Solution()\n",
    "s.largestIsland([[1, 0], [0, 1]])\n",
    "# s.largestIsland([[1, 1], [1, 1]])\n",
    "# s.largestIsland([[1, 1], [1, 0]])\n",
    "s.largestIsland([[0, 0], [0, 0]])"
   ]
  },
  {
   "cell_type": "code",
   "execution_count": null,
   "metadata": {},
   "outputs": [],
   "source": []
  }
 ],
 "metadata": {
  "kernelspec": {
   "display_name": "Python 3.10.5 64-bit",
   "language": "python",
   "name": "python3"
  },
  "language_info": {
   "codemirror_mode": {
    "name": "ipython",
    "version": 3
   },
   "file_extension": ".py",
   "mimetype": "text/x-python",
   "name": "python",
   "nbconvert_exporter": "python",
   "pygments_lexer": "ipython3",
   "version": "3.10.5"
  },
  "orig_nbformat": 4,
  "vscode": {
   "interpreter": {
    "hash": "3196968d684371006099b3d55edeef8ed90365227a30deaef86e5d4aa8519be0"
   }
  }
 },
 "nbformat": 4,
 "nbformat_minor": 2
}
