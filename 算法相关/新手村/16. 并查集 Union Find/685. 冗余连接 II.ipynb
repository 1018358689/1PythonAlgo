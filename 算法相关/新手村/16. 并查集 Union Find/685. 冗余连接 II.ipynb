{
 "cells": [
  {
   "cell_type": "markdown",
   "metadata": {},
   "source": [
    "都是度为1， 则找出构成环的最后一条边\n",
    "有度为2的两条边(A->B, C->B)，则删除的边一定是在其中 先不将C->B加入并查集中，若不能构成环，则C->B是需要删除的点边，反之，则A->B是删除的边(去掉C->B还能构成环，则C->B一定不是要删除的边)"
   ]
  },
  {
   "cell_type": "code",
   "execution_count": 7,
   "metadata": {},
   "outputs": [
    {
     "data": {
      "text/plain": [
       "[2, 1]"
      ]
     },
     "execution_count": 7,
     "metadata": {},
     "output_type": "execute_result"
    }
   ],
   "source": [
    "from typing import List\n",
    "\n",
    "\n",
    "class Solution:\n",
    "\n",
    "    def findRedundantDirectedConnection(self, edges: List[List[int]]) -> List[int]:\n",
    "        n = len(edges)\n",
    "        roots = list(range(n + 1))\n",
    "\n",
    "        def find(x):\n",
    "            if roots[x] != x:\n",
    "                roots[x] = find(roots[x])\n",
    "            return roots[x]\n",
    "\n",
    "        def union(x, y):\n",
    "            rx, ry = find(x), find(y)\n",
    "            if rx == ry: return\n",
    "            roots[rx] = ry  # rx->ry\n",
    "\n",
    "        def is_connected(x, y):\n",
    "            return find(x) == find(y)\n",
    "\n",
    "        last = None\n",
    "        fa = {}  # 父节点\n",
    "        ins2 = []  # 入度为2的节点两条边\n",
    "        for u, v in edges:\n",
    "            if v in fa:  # 出现入度2 记录但跳过合并\n",
    "                ins2.append([fa[v], v])\n",
    "                ins2.append([u, v])\n",
    "            else:\n",
    "                fa[v] = u\n",
    "                if is_connected(u, v):\n",
    "                    last = [u, v]  # 记录环最后一条边 也是判断环\n",
    "                else:\n",
    "                    union(u, v)\n",
    "        if not ins2:  # 入度都是1\n",
    "            return last\n",
    "        return ins2[0] if last else ins2[1]\n",
    "\n",
    "\n",
    "s = Solution()\n",
    "s.findRedundantDirectedConnection([[2, 1], [3, 1], [4, 2], [1, 4]])\n"
   ]
  },
  {
   "cell_type": "code",
   "execution_count": null,
   "metadata": {},
   "outputs": [],
   "source": []
  }
 ],
 "metadata": {
  "kernelspec": {
   "display_name": "Python 3",
   "language": "python",
   "name": "python3"
  },
  "language_info": {
   "codemirror_mode": {
    "name": "ipython",
    "version": 3
   },
   "file_extension": ".py",
   "mimetype": "text/x-python",
   "name": "python",
   "nbconvert_exporter": "python",
   "pygments_lexer": "ipython3",
   "version": "3.10.5"
  },
  "orig_nbformat": 4,
  "vscode": {
   "interpreter": {
    "hash": "3196968d684371006099b3d55edeef8ed90365227a30deaef86e5d4aa8519be0"
   }
  }
 },
 "nbformat": 4,
 "nbformat_minor": 2
}
