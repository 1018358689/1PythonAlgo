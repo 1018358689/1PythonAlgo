{
 "cells": [
  {
   "cell_type": "code",
   "execution_count": null,
   "metadata": {},
   "outputs": [],
   "source": [
    "class Solution:\n",
    "\n",
    "    def countPairs(self, n: int, edges: List[List[int]]) -> int:\n",
    "        roots = list(range(n))\n",
    "        sz = [1] * n\n",
    "\n",
    "        def find(x):\n",
    "            if roots[x] != x:\n",
    "                roots[x] = find(roots[x])\n",
    "            return roots[x]\n",
    "\n",
    "        def union(x, y):\n",
    "            rx, ry = find(x), find(y)\n",
    "            if rx != ry:\n",
    "                if sz[rx] > sz[ry]: rx, ry = ry, rx\n",
    "                roots[rx] = ry\n",
    "                sz[ry] += sz[rx]\n",
    "\n",
    "        for x, y in edges:\n",
    "            union(x, y)\n",
    "        szs = [sz[x] for x in set(find(x) for x in range(n))]\n",
    "        ans = 0\n",
    "        s = 0\n",
    "        for x in szs:\n",
    "            ans += x * s\n",
    "            s += x\n",
    "        return ans"
   ]
  },
  {
   "cell_type": "code",
   "execution_count": null,
   "metadata": {},
   "outputs": [],
   "source": [
    "class Solution:\n",
    "\n",
    "    def countPairs(self, n: int, edges: List[List[int]]) -> int:\n",
    "        roots = list(range(n))\n",
    "        sz = [1] * n\n",
    "\n",
    "        def find(x):\n",
    "            if roots[x] != x:\n",
    "                roots[x] = find(roots[x])\n",
    "            return roots[x]\n",
    "\n",
    "        def union(x, y):\n",
    "            rx, ry = find(x), find(y)\n",
    "            if rx != ry:\n",
    "                if sz[rx] > sz[ry]:\n",
    "                    roots[ry] = rx\n",
    "                    sz[rx] += sz[ry]\n",
    "                else:\n",
    "                    roots[rx] = ry\n",
    "                    sz[ry] += sz[rx]\n",
    "\n",
    "        for x, y in edges:\n",
    "            union(x, y)\n",
    "        chils = defaultdict(int)\n",
    "        for x in range(n):\n",
    "            chils[find(x)] = sz[find(x)]\n",
    "        vals = list(chils.values())\n",
    "        ps = list(accumulate(vals, initial=0))\n",
    "        ans = 0\n",
    "        for i in range(len(vals)):\n",
    "            ans += vals[i] * (ps[-1] - ps[i + 1])\n",
    "        return ans"
   ]
  }
 ],
 "metadata": {
  "language_info": {
   "name": "python"
  },
  "orig_nbformat": 4
 },
 "nbformat": 4,
 "nbformat_minor": 2
}
