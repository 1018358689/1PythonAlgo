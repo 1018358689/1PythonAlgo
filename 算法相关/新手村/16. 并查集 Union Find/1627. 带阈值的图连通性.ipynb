{
 "cells": [
  {
   "cell_type": "code",
   "execution_count": 1,
   "metadata": {},
   "outputs": [],
   "source": [
    "# 超时\n",
    "from typing import List\n",
    "from math import gcd\n",
    "\n",
    "\n",
    "class Solution:\n",
    "\n",
    "    def areConnected(self, n: int, threshold: int, queries: List[List[int]]) -> List[bool]:\n",
    "        roots = list(range(n + 1))\n",
    "\n",
    "        def find(x):\n",
    "            if roots[x] != x:\n",
    "                roots[x] = find(roots[x])\n",
    "            return roots[x]\n",
    "\n",
    "        def union(x, y):\n",
    "            rx, ry = find(x), find(y)\n",
    "            if rx == ry: return\n",
    "            roots[rx] = ry  # rx -> ry\n",
    "\n",
    "        for x in range(1, n):\n",
    "            for y in range(x + 1, n + 1):\n",
    "                if gcd(x, y) > threshold:\n",
    "                    union(x, y)\n",
    "        return [find(x) == find(y) for x, y in queries]\n"
   ]
  },
  {
   "cell_type": "code",
   "execution_count": null,
   "metadata": {},
   "outputs": [],
   "source": [
    "from typing import List\n",
    "from math import gcd\n",
    "\n",
    "\n",
    "class Solution:\n",
    "\n",
    "    def areConnected(self, n: int, threshold: int, queries: List[List[int]]) -> List[bool]:\n",
    "        roots = list(range(n + 1))\n",
    "\n",
    "        def find(x):\n",
    "            if roots[x] != x:\n",
    "                roots[x] = find(roots[x])\n",
    "            return roots[x]\n",
    "\n",
    "        def union(x, y):\n",
    "            rx, ry = find(x), find(y)\n",
    "            if rx == ry: return\n",
    "            roots[rx] = ry  # rx -> ry\n",
    "\n",
    "        for x in range(threshold + 1, n):  # 类似埃式筛  x:第一个数 也是最大公约数\n",
    "            for y in range(2 * x, n + 1, x):  # 第二个数\n",
    "                union(x, y)\n",
    "        return [find(x) == find(y) for x, y in queries]\n"
   ]
  }
 ],
 "metadata": {
  "kernelspec": {
   "display_name": "Python 3",
   "language": "python",
   "name": "python3"
  },
  "language_info": {
   "codemirror_mode": {
    "name": "ipython",
    "version": 3
   },
   "file_extension": ".py",
   "mimetype": "text/x-python",
   "name": "python",
   "nbconvert_exporter": "python",
   "pygments_lexer": "ipython3",
   "version": "3.10.6"
  },
  "orig_nbformat": 4,
  "vscode": {
   "interpreter": {
    "hash": "dfbf064e0f2c8839bc658dd75dfc0b8f09a0440078cae3024109b27659b69d06"
   }
  }
 },
 "nbformat": 4,
 "nbformat_minor": 2
}
