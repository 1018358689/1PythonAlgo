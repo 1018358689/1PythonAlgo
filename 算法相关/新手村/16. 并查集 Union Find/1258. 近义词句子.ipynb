{
 "cells": [
  {
   "cell_type": "code",
   "execution_count": 2,
   "metadata": {},
   "outputs": [
    {
     "data": {
      "text/plain": [
       "(['I', 'am', 'happy', 'today', 'but', 'was', 'sad', 'yesterday'],\n",
       " 'I am happy today but was sad yesterday')"
      ]
     },
     "execution_count": 2,
     "metadata": {},
     "output_type": "execute_result"
    }
   ],
   "source": [
    "a = \"I am happy today but was sad yesterday\"\n",
    "a.split(),a"
   ]
  },
  {
   "cell_type": "code",
   "execution_count": 17,
   "metadata": {},
   "outputs": [
    {
     "data": {
      "text/plain": [
       "['I am cheerful today but was sad yesterday',\n",
       " 'I am cheerful today but was sorrow yesterday',\n",
       " 'I am happy today but was sad yesterday',\n",
       " 'I am happy today but was sorrow yesterday',\n",
       " 'I am joy today but was sad yesterday',\n",
       " 'I am joy today but was sorrow yesterday']"
      ]
     },
     "execution_count": 17,
     "metadata": {},
     "output_type": "execute_result"
    }
   ],
   "source": [
    "from typing import List\n",
    "from collections import defaultdict\n",
    "from sortedcontainers import SortedSet\n",
    "\n",
    "\n",
    "class Solution:\n",
    "\n",
    "    def generateSentences(self, synonyms: List[List[str]], text: str) -> List[str]:\n",
    "        roots = {}\n",
    "        chils = defaultdict(SortedSet)\n",
    "        for x, y in synonyms:\n",
    "            roots[x] = x\n",
    "            roots[y] = y\n",
    "            chils[x].add(x)\n",
    "            chils[y].add(y)\n",
    "\n",
    "        def find(x):\n",
    "            if roots[x] != x:\n",
    "                roots[x] = find(roots[x])\n",
    "            return roots[x]\n",
    "\n",
    "        def union(x, y):\n",
    "            rx, ry = find(x), find(y)\n",
    "            if rx == ry: return\n",
    "            chils[ry] |= chils[rx]\n",
    "            roots[rx] = ry  # rx->ry\n",
    "\n",
    "        for x, y in synonyms:\n",
    "            union(x, y)\n",
    "        ans = []\n",
    "        text = text.split()\n",
    "        n = len(text)\n",
    "\n",
    "        def dfs(i, path):\n",
    "            if i == n:\n",
    "                ans.append(' '.join(path))\n",
    "                return\n",
    "            x = text[i]\n",
    "            if x not in roots:\n",
    "                dfs(i + 1, path + [x])\n",
    "            else:\n",
    "                for y in chils[find(x)]:\n",
    "                    dfs(i + 1, path + [y])\n",
    "\n",
    "        dfs(0, [])\n",
    "        return ans\n",
    "\n",
    "\n",
    "s = Solution()\n",
    "s.generateSentences([[\"happy\", \"joy\"], [\"sad\", \"sorrow\"], [\"joy\", \"cheerful\"]], \"I am happy today but was sad yesterday\")\n"
   ]
  },
  {
   "cell_type": "code",
   "execution_count": 18,
   "metadata": {},
   "outputs": [
    {
     "data": {
      "text/plain": [
       "['I am cheerful today but was sad yesterday',\n",
       " 'I am cheerful today but was sorrow yesterday',\n",
       " 'I am happy today but was sad yesterday',\n",
       " 'I am happy today but was sorrow yesterday',\n",
       " 'I am joy today but was sad yesterday',\n",
       " 'I am joy today but was sorrow yesterday']"
      ]
     },
     "execution_count": 18,
     "metadata": {},
     "output_type": "execute_result"
    }
   ],
   "source": [
    "from typing import List\n",
    "from collections import defaultdict\n",
    "from sortedcontainers import SortedSet\n",
    "\n",
    "\n",
    "class Solution:\n",
    "\n",
    "    def generateSentences(self, synonyms: List[List[str]], text: str) -> List[str]:\n",
    "        roots = {}\n",
    "        for x, y in synonyms:\n",
    "            roots[x] = x\n",
    "            roots[y] = y\n",
    "\n",
    "        def find(x):\n",
    "            if roots[x] != x:\n",
    "                roots[x] = find(roots[x])\n",
    "            return roots[x]\n",
    "\n",
    "        def union(x, y):\n",
    "            rx, ry = find(x), find(y)\n",
    "            if rx == ry: return\n",
    "            roots[rx] = ry  # rx->ry\n",
    "\n",
    "        for x, y in synonyms:\n",
    "            union(x, y)\n",
    "\n",
    "        chils = defaultdict(SortedSet)\n",
    "        for x in roots:\n",
    "            chils[find(x)].add(x)\n",
    "\n",
    "        ans = []\n",
    "        text = text.split()\n",
    "        n = len(text)\n",
    "\n",
    "        def dfs(i, path):\n",
    "            if i == n:\n",
    "                ans.append(' '.join(path))\n",
    "                return\n",
    "            x = text[i]\n",
    "            if x not in roots:\n",
    "                dfs(i + 1, path + [x])\n",
    "            else:\n",
    "                for y in chils[find(x)]:\n",
    "                    dfs(i + 1, path + [y])\n",
    "\n",
    "        dfs(0, [])\n",
    "        return ans\n",
    "\n",
    "\n",
    "s = Solution()\n",
    "s.generateSentences([[\"happy\", \"joy\"], [\"sad\", \"sorrow\"], [\"joy\", \"cheerful\"]], \"I am happy today but was sad yesterday\")\n"
   ]
  },
  {
   "cell_type": "code",
   "execution_count": null,
   "metadata": {},
   "outputs": [],
   "source": []
  }
 ],
 "metadata": {
  "kernelspec": {
   "display_name": "Python 3",
   "language": "python",
   "name": "python3"
  },
  "language_info": {
   "codemirror_mode": {
    "name": "ipython",
    "version": 3
   },
   "file_extension": ".py",
   "mimetype": "text/x-python",
   "name": "python",
   "nbconvert_exporter": "python",
   "pygments_lexer": "ipython3",
   "version": "3.10.5 (tags/v3.10.5:f377153, Jun  6 2022, 16:14:13) [MSC v.1929 64 bit (AMD64)]"
  },
  "orig_nbformat": 4,
  "vscode": {
   "interpreter": {
    "hash": "3196968d684371006099b3d55edeef8ed90365227a30deaef86e5d4aa8519be0"
   }
  }
 },
 "nbformat": 4,
 "nbformat_minor": 2
}
