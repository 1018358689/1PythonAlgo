{
 "cells": [
  {
   "cell_type": "code",
   "execution_count": null,
   "metadata": {},
   "outputs": [],
   "source": [
    "from typing import List\n",
    "\n",
    "\n",
    "class Solution:\n",
    "\n",
    "    def earliestAcq(self, logs: List[List[int]], n: int) -> int:\n",
    "        roots = list(range(n))\n",
    "        count = n\n",
    "\n",
    "        def find(x):\n",
    "            if roots[x] != x:\n",
    "                roots[x] = find(roots[x])\n",
    "            return roots[x]\n",
    "\n",
    "        def union(x, y):\n",
    "            rx, ry = find(x), find(y)\n",
    "            if rx == ry: return\n",
    "            roots[rx] = ry  # rx->ry\n",
    "            nonlocal count\n",
    "            count -= 1\n",
    "\n",
    "        logs.sort(key=lambda x: x[0])\n",
    "        for t, x, y in logs:\n",
    "            union(x, y)\n",
    "            if count == 1:\n",
    "                return t\n",
    "        return -1"
   ]
  }
 ],
 "metadata": {
  "language_info": {
   "name": "python"
  },
  "orig_nbformat": 4
 },
 "nbformat": 4,
 "nbformat_minor": 2
}
