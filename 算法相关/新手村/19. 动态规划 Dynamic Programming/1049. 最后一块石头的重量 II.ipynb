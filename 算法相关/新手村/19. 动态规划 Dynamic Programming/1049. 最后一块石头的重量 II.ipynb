{
 "cells": [
  {
   "cell_type": "code",
   "execution_count": 3,
   "metadata": {},
   "outputs": [
    {
     "data": {
      "text/plain": [
       "1"
      ]
     },
     "execution_count": 3,
     "metadata": {},
     "output_type": "execute_result"
    }
   ],
   "source": [
    "from typing import List\n",
    "from functools import lru_cache\n",
    "\n",
    "\n",
    "class Solution:\n",
    "\n",
    "    def lastStoneWeightII(self, stones: List[int]) -> int:\n",
    "        n = len(stones)\n",
    "\n",
    "        @lru_cache(None)\n",
    "        def dfs(i, rem):\n",
    "            if i == n:\n",
    "                return abs(rem)\n",
    "            s1 = dfs(i + 1, rem + stones[i])\n",
    "            s2 = dfs(i + 1, rem - stones[i])\n",
    "            return min(s1, s2)\n",
    "\n",
    "        return dfs(0, 0)\n",
    "\n",
    "\n",
    "s = Solution()\n",
    "s.lastStoneWeightII([2, 7, 4, 1, 8, 1])"
   ]
  },
  {
   "cell_type": "code",
   "execution_count": null,
   "metadata": {},
   "outputs": [],
   "source": []
  }
 ],
 "metadata": {
  "kernelspec": {
   "display_name": "Python 3.10.5 64-bit",
   "language": "python",
   "name": "python3"
  },
  "language_info": {
   "codemirror_mode": {
    "name": "ipython",
    "version": 3
   },
   "file_extension": ".py",
   "mimetype": "text/x-python",
   "name": "python",
   "nbconvert_exporter": "python",
   "pygments_lexer": "ipython3",
   "version": "3.10.5"
  },
  "orig_nbformat": 4,
  "vscode": {
   "interpreter": {
    "hash": "3196968d684371006099b3d55edeef8ed90365227a30deaef86e5d4aa8519be0"
   }
  }
 },
 "nbformat": 4,
 "nbformat_minor": 2
}
