{
 "cells": [
  {
   "cell_type": "code",
   "execution_count": null,
   "metadata": {},
   "outputs": [],
   "source": [
    "class Solution:\n",
    "\n",
    "    def minimumPartition(self, s: str, k: int) -> int:\n",
    "        d = len(str(k))\n",
    "        n = len(s)\n",
    "        f = [inf] * (n + 1)\n",
    "        f[-1] = 0\n",
    "        for i in range(n):\n",
    "            for j in range(i, max(i + 1 - d, 0) - 1, -1):  # j是最后一段起始位置\n",
    "                num = int(s[j:i + 1])\n",
    "                if num > k: break\n",
    "                f[i] = min(f[i], f[j - 1] + 1)\n",
    "        return res if (res := f[n - 1]) != inf else -1\n",
    "\n",
    "        # @lru_cache(None)\n",
    "        # def dfs(i): # 前i个最少分割数 [,i]\n",
    "        #     if i < 0: return 0\n",
    "        #     ans = inf\n",
    "        #     for j in range(i, max(i + 1 - d, 0) - 1, -1): # j是最后一段起始位置\n",
    "        #         num = int(s[j: i + 1])\n",
    "        #         if num > k: break\n",
    "        #         ans = min(ans, dfs(j - 1) + 1)\n",
    "        #     return ans\n",
    "        # return res if (res:=dfs(n - 1)) != inf else -1"
   ]
  },
  {
   "cell_type": "code",
   "execution_count": null,
   "metadata": {},
   "outputs": [],
   "source": [
    "class Solution:\n",
    "\n",
    "    def minimumPartition(self, s: str, k: int) -> int:\n",
    "        d = len(str(k))\n",
    "        n = len(s)\n",
    "        f = [inf] * (n + 1)\n",
    "        f[0] = 0\n",
    "        for i in range(n):\n",
    "            for j in range(i, max(i + 1 - d, 0) - 1, -1):  # j是最后一段起始位置\n",
    "                num = int(s[j:i + 1])\n",
    "                if num > k: break\n",
    "                f[i + 1] = min(f[i + 1], f[j] + 1)  # 右偏一位\n",
    "        return res if (res := f[n]) != inf else -1\n"
   ]
  }
 ],
 "metadata": {
  "language_info": {
   "name": "python"
  },
  "orig_nbformat": 4
 },
 "nbformat": 4,
 "nbformat_minor": 2
}
