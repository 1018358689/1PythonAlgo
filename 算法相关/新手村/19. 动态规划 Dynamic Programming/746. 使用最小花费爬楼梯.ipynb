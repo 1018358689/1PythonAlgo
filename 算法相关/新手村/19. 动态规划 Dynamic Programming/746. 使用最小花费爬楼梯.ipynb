{
 "cells": [
  {
   "cell_type": "code",
   "execution_count": 1,
   "metadata": {},
   "outputs": [
    {
     "data": {
      "text/plain": [
       "6"
      ]
     },
     "execution_count": 1,
     "metadata": {},
     "output_type": "execute_result"
    }
   ],
   "source": [
    "def f(cost: list):\n",
    "    # dp[i] 到达索引i的最少花费 i:[0,len] target:len\n",
    "    # dp[i] = min(dp[i-1]+cost[i-1],dp[i-2]+cost[i-2])\n",
    "    # dp[0]=0 dp[1]=0\n",
    "    dp = [0] * (len(cost) + 1)\n",
    "    for i in range(2, len(cost) + 1):\n",
    "        dp[i] = min(dp[i - 1] + cost[i - 1], dp[i - 2] + cost[i - 2])\n",
    "    return dp[-1]\n",
    "\n",
    "\n",
    "f([1, 100, 1, 1, 1, 100, 1, 1, 100, 1])\n"
   ]
  },
  {
   "cell_type": "code",
   "execution_count": 2,
   "metadata": {},
   "outputs": [
    {
     "data": {
      "text/plain": [
       "6"
      ]
     },
     "execution_count": 2,
     "metadata": {},
     "output_type": "execute_result"
    }
   ],
   "source": [
    "def f(cost: list):\n",
    "    mem = {0: 0, 1: 0}\n",
    "\n",
    "    def dp(i):\n",
    "        if i not in mem:\n",
    "            mem[i] = min(dp(i - 1) + cost[i - 1], dp(i - 2) + cost[i - 2])\n",
    "        return mem[i]\n",
    "\n",
    "    return dp(len(cost))\n",
    "\n",
    "\n",
    "f([1, 100, 1, 1, 1, 100, 1, 1, 100, 1])\n"
   ]
  },
  {
   "cell_type": "code",
   "execution_count": 6,
   "metadata": {},
   "outputs": [
    {
     "data": {
      "text/plain": [
       "6"
      ]
     },
     "execution_count": 6,
     "metadata": {},
     "output_type": "execute_result"
    }
   ],
   "source": [
    "def f(cost: list):\n",
    "    # dp[i] 到达索引i顶部的最少花费 i:[0,len-1] target:min(len-1,len-2)\n",
    "    # dp[i] = min(dp[i-2],dp[i-1])+cost[i]\n",
    "    # dp[0]=cost[0] dp[1]=cost[1]\n",
    "    dp = [0] * len(cost)\n",
    "    dp[0], dp[1] = cost[0], cost[1]\n",
    "    for i in range(2, len(cost)):\n",
    "        dp[i] = min(dp[i - 1], dp[i - 2]) + cost[i]\n",
    "    return min(dp[-1], dp[-2])  # -1和-2顶部都是楼顶\n",
    "\n",
    "\n",
    "f([1, 100, 1, 1, 1, 100, 1, 1, 100, 1])\n"
   ]
  },
  {
   "cell_type": "code",
   "execution_count": 20,
   "metadata": {},
   "outputs": [
    {
     "name": "stdout",
     "output_type": "stream",
     "text": [
      "{0: 0, 1: 0, 2: 0, 3: 0, 4: 0}\n"
     ]
    },
    {
     "data": {
      "text/plain": [
       "0"
      ]
     },
     "execution_count": 20,
     "metadata": {},
     "output_type": "execute_result"
    }
   ],
   "source": [
    "# A*错误 难以确定启发函数 \n",
    "import heapq\n",
    "\n",
    "\n",
    "def f(cost: list):\n",
    "\n",
    "    def h(pos):\n",
    "        return target - pos # 启发函数要小于正确花费值\n",
    "\n",
    "    target = len(cost)\n",
    "    pq = [(h(0), 0, 0), (h(1), 0, 1)]\n",
    "    costs = {0: 0, 1: 0}\n",
    "    best = set()\n",
    "    while pq:\n",
    "        _, c, cur = heapq.heappop(pq)\n",
    "        if cur == target:\n",
    "            print(costs)\n",
    "            return c\n",
    "        best.add(cur)\n",
    "        for nr in {cur + 1, cur + 2}:\n",
    "            if nr < len(cost) + 1 and nr not in best:\n",
    "                ncost = c + cost[cur]\n",
    "                if nr not in costs or ncost < costs[nr]:\n",
    "                    costs[nr] = ncost\n",
    "                    pri = ncost + h(nr)\n",
    "                    heapq.heappush(pq, (pri, ncost, nr))\n",
    "\n",
    "\n",
    "# f([1, 100, 1, 1, 1, 100, 1, 1, 100, 1])\n",
    "# f([10,15,20])\n",
    "# f([0,0,0,2])\n",
    "f([0,0,1,0])"
   ]
  },
  {
   "cell_type": "code",
   "execution_count": 25,
   "metadata": {},
   "outputs": [
    {
     "name": "stdout",
     "output_type": "stream",
     "text": [
      "{0: 0, 1: 0, 2: 0, 3: 0, 4: 0}\n"
     ]
    },
    {
     "data": {
      "text/plain": [
       "0"
      ]
     },
     "execution_count": 25,
     "metadata": {},
     "output_type": "execute_result"
    }
   ],
   "source": [
    "# Dijkstra\n",
    "import heapq\n",
    "\n",
    "\n",
    "def f(cost: list):\n",
    "    target = len(cost)\n",
    "    pq = [(0, 0), (0, 1)]\n",
    "    costs = {0: 0, 1: 0}\n",
    "    best = set()\n",
    "    while pq:\n",
    "        c, cur = heapq.heappop(pq)\n",
    "        if cur == target:\n",
    "            return c\n",
    "        best.add(cur)\n",
    "        for nr in {cur + 1, cur + 2}:\n",
    "            if nr < len(cost) + 1 and nr not in best:\n",
    "                ncost = c + cost[cur]\n",
    "                if nr not in costs or ncost < costs[nr]:\n",
    "                    costs[nr] = ncost\n",
    "                    heapq.heappush(pq, (ncost, nr))\n",
    "\n",
    "\n",
    "# f([1, 100, 1, 1, 1, 100, 1, 1, 100, 1])\n",
    "# f([10,15,20])\n",
    "# f([0,0,0,2])\n",
    "f([0, 0, 1, 0])\n"
   ]
  },
  {
   "cell_type": "code",
   "execution_count": 26,
   "metadata": {},
   "outputs": [
    {
     "data": {
      "text/plain": [
       "0"
      ]
     },
     "execution_count": 26,
     "metadata": {},
     "output_type": "execute_result"
    }
   ],
   "source": [
    "# Dijkstra 去best\n",
    "import heapq\n",
    "\n",
    "\n",
    "def f(cost: list):\n",
    "    target = len(cost)\n",
    "    pq = [(0, 0), (0, 1)]\n",
    "    costs = {0: 0, 1: 0}\n",
    "    while pq:\n",
    "        c, cur = heapq.heappop(pq)\n",
    "        if cur == target:\n",
    "            return c\n",
    "        for nr in {cur + 1, cur + 2}:\n",
    "            if nr < len(cost) + 1:\n",
    "                ncost = c + cost[cur]\n",
    "                if nr not in costs or ncost < costs[nr]:\n",
    "                    costs[nr] = ncost\n",
    "                    heapq.heappush(pq, (ncost, nr))\n",
    "\n",
    "\n",
    "# f([1, 100, 1, 1, 1, 100, 1, 1, 100, 1])\n",
    "# f([10,15,20])\n",
    "# f([0,0,0,2])\n",
    "f([0, 0, 1, 0])\n"
   ]
  },
  {
   "cell_type": "code",
   "execution_count": null,
   "metadata": {},
   "outputs": [],
   "source": []
  }
 ],
 "metadata": {
  "interpreter": {
   "hash": "aee8b7b246df8f9039afb4144a1f6fd8d2ca17a180786b69acc140d282b71a49"
  },
  "kernelspec": {
   "display_name": "Python 3.10.1 64-bit",
   "language": "python",
   "name": "python3"
  },
  "language_info": {
   "codemirror_mode": {
    "name": "ipython",
    "version": 3
   },
   "file_extension": ".py",
   "mimetype": "text/x-python",
   "name": "python",
   "nbconvert_exporter": "python",
   "pygments_lexer": "ipython3",
   "version": "3.10.4"
  },
  "orig_nbformat": 4
 },
 "nbformat": 4,
 "nbformat_minor": 2
}
