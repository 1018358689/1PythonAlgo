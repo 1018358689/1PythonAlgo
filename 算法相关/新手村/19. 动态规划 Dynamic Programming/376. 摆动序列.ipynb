{
 "cells": [
  {
   "cell_type": "code",
   "execution_count": 34,
   "metadata": {},
   "outputs": [
    {
     "data": {
      "text/plain": [
       "5"
      ]
     },
     "execution_count": 34,
     "metadata": {},
     "output_type": "execute_result"
    }
   ],
   "source": [
    "def f(nums: list):\n",
    "    # dp[i][-1/0/1] 以nums[i]结尾以一定状态的最长递增子序列长度\n",
    "    # i:[0,len-1] -1:减 0:平 1:增\n",
    "    # dp[i][-1] = max(dp[j][1]+1,dp[j][0]+1) # -1状态由1状态和0状态转移\n",
    "    # dp[i][1] = max(dp[j][-1]+1,dp[j][0]+1) # 1状态由-1状态和0状态转移\n",
    "    # basecase dp[i][k]=1 # 每个数字本身就是一个递增子序列 所以初始长度为1\n",
    "    dp = [[1] * 3 for _ in range(len(nums))]\n",
    "    for i in range(1, len(nums)):\n",
    "        for j in range(i):\n",
    "            if nums[j] < nums[i]:\n",
    "                dp[i][-1] = max(dp[i][-1], dp[j][1] + 1, dp[j][0] + 1)\n",
    "            elif nums[j] > nums[i]:\n",
    "                dp[i][1] = max(dp[i][1], dp[j][-1] + 1, dp[j][0] + 1)\n",
    "    return max(max(dp[i]) for i in range(len(nums)))\n",
    "\n",
    "\n",
    "f([1, 7, 4, 9, 2, 5]), f([1, 17, 5, 10, 13, 15, 10, 5, 16, 8]), f([1]), f([1, 1])\n",
    "f([1, 2,1,1,2,1,1])\n"
   ]
  },
  {
   "cell_type": "code",
   "execution_count": 22,
   "metadata": {},
   "outputs": [
    {
     "data": {
      "text/plain": [
       "4"
      ]
     },
     "execution_count": 22,
     "metadata": {},
     "output_type": "execute_result"
    }
   ],
   "source": [
    "# 错误 未找出平的波峰波谷\n",
    "def f(nums: list):\n",
    "    if len(set(nums)) == 1: return 1\n",
    "    ans = 2\n",
    "    for i in range(1, len(nums) - 1):\n",
    "        if nums[i - 1] < nums[i] > nums[i + 1] or nums[i - 1] > nums[i] < nums[i + 1]:\n",
    "            ans += 1\n",
    "    return ans\n",
    "\n",
    "\n",
    "# f([1, 7, 4, 9, 2, 5]), f([1, 17, 5, 10, 13, 15, 10, 5, 16, 8]), f([1]), f([1, 1])\n",
    "f([1, 2, 1, 1, 2, 1, 1])\n",
    "# f([51,226,208,165,202,286,190,212,219,271,36,245,20,238,238,89,105,66,73,9,254,206,221,237,203,33,249,253,150,102,57,249,203,10,123,178,85,203,35,276,129,116,37,163,99,142,187,249,134,77,217,298,29,127,174,115,122,178,12,80,122,76,16,41,115,84,104,121,127,40,287,129,9,172,112,51,40,135,205,53,259,196,248,5,123,184,209,130,271,42,18,143,24,101,10,273,252,50,173,80,119,129,45,257,299,78,278,78,190,215,284,129,200,232,103,97,167,120,49,298,141,146,154,233,214,196,244,50,110,48,152,82,226,26,254,276,292,286,215,56,128,122,82,241,222,12,272,192,224,136,116,70,39,207,295,49,194,90,210,123,271,18,276,87,177,240,276,33,155,200,51,6,212,36,149,202,48,114,58,91,83,221,175,148,278,300,284,86,191,95,77,215,113,257,153,135,217,76,85,269,126,194,199,195,20,204,194,50,220,228,90,221,256,87,157,246,74,156,9,196,16,259,234,79,31,206,148,12,223,151,96,229,165,9,144,26,255,201,33,89,145,155,1,204,37,107,80,212,88,186,254,9,158,180,24,45,158,100,52,131,71,174,229,236,296,299,184,168,41,45,76,68,122,85,292,238,293,179,143,128,47,87,267,53,187,76,292,0,160,70,172,292,9,64,156,153,26,145,196,222])"
   ]
  },
  {
   "cell_type": "code",
   "execution_count": 33,
   "metadata": {},
   "outputs": [
    {
     "name": "stdout",
     "output_type": "stream",
     "text": [
      "[[1, 1], [1, 1], [2, 1], [2, 3], [4, 3], [4, 5], [6, 5]]\n",
      "[[1, 1], [1, 1], [2, 1], [2, 3], [4, 3], [4, 3], [4, 3], [4, 5], [4, 5], [6, 5], [6, 7]]\n",
      "[[1, 1], [1, 1]]\n",
      "[[1, 1], [1, 1], [1, 1]]\n",
      "[[1, 1], [1, 1], [2, 1], [2, 3], [2, 3], [4, 3], [4, 5], [4, 5]]\n"
     ]
    },
    {
     "data": {
      "text/plain": [
       "5"
      ]
     },
     "execution_count": 33,
     "metadata": {},
     "output_type": "execute_result"
    }
   ],
   "source": [
    "def f(nums: list):\n",
    "    # dp[i][0/1] 以nums[0:i]中波峰或波谷总数\n",
    "    # i:[1,len] 0:最后是波谷  1:最后是波峰\n",
    "    # dp[i][0] = dp[i-1][1]+1 if nums[i-1]>nums[i-2] else dp[i-1][0]\n",
    "    # dp[i][1] = dp[i-1][0]+1 if nums[i-1]<nums[i-2] else dp[i-1][1]\n",
    "    # basecase dp[1][...] = 1\n",
    "    dp = [[1] * 2 for _ in range(len(nums) + 1)]\n",
    "    for i in range(2, len(nums) + 1):\n",
    "        dp[i][0] = dp[i - 1][1] + 1 if nums[i - 1] > nums[i - 2] else dp[i - 1][0]\n",
    "        dp[i][1] = dp[i - 1][0] + 1 if nums[i - 1] < nums[i - 2] else dp[i - 1][1]\n",
    "    return max(dp[-1])\n",
    "\n",
    "\n",
    "f([1, 7, 4, 9, 2, 5]), f([1, 17, 5, 10, 13, 15, 10, 5, 16, 8]), f([1]), f([1, 1])\n",
    "f([1, 2, 1, 1, 2, 1, 1])\n"
   ]
  },
  {
   "cell_type": "code",
   "execution_count": null,
   "metadata": {},
   "outputs": [],
   "source": []
  }
 ],
 "metadata": {
  "interpreter": {
   "hash": "a5f34674cfcc9b13426a2d112c686bc132e4ef443f1487e707e7c3787d6bcf89"
  },
  "kernelspec": {
   "display_name": "Python 3.10.4 64-bit (windows store)",
   "language": "python",
   "name": "python3"
  },
  "language_info": {
   "codemirror_mode": {
    "name": "ipython",
    "version": 3
   },
   "file_extension": ".py",
   "mimetype": "text/x-python",
   "name": "python",
   "nbconvert_exporter": "python",
   "pygments_lexer": "ipython3",
   "version": "3.10.4"
  },
  "orig_nbformat": 4
 },
 "nbformat": 4,
 "nbformat_minor": 2
}
