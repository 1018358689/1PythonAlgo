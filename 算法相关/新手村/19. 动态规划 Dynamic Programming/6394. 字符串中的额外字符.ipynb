{
 "cells": [
  {
   "cell_type": "code",
   "execution_count": null,
   "metadata": {},
   "outputs": [],
   "source": [
    "class Solution:\n",
    "\n",
    "    def minExtraChar(self, s: str, dictionary: List[str]) -> int:\n",
    "        dictionary = set(dictionary)\n",
    "        n = len(s)\n",
    "        f = [n] * (n + 1)\n",
    "        f[0] = 0\n",
    "        for i in range(n):\n",
    "            f[i + 1] = f[i] + 1\n",
    "            for j in range(i + 1):\n",
    "                if s[j:i + 1] in dictionary:\n",
    "                    f[i + 1] = min(f[i + 1], f[j])\n",
    "        return f[n]\n",
    "        # @lru_cache(None)\n",
    "        # def dfs(i): # 截止索引i剩下的最少字符数\n",
    "        #     if i < 0: return 0\n",
    "        #     ans = dfs(i - 1) + 1 # 不选\n",
    "        #     for j in range(i + 1):\n",
    "        #         if s[j: i + 1] in dictionary:\n",
    "        #             ans = min(ans, dfs(j - 1))\n",
    "        #     return ans\n",
    "        # return dfs(n - 1)"
   ]
  }
 ],
 "metadata": {
  "language_info": {
   "name": "python"
  },
  "orig_nbformat": 4
 },
 "nbformat": 4,
 "nbformat_minor": 2
}
