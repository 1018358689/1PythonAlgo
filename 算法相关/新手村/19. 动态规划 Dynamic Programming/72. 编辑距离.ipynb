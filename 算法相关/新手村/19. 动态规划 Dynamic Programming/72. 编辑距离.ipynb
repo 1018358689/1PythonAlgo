{
 "cells": [
  {
   "cell_type": "code",
   "execution_count": null,
   "metadata": {},
   "outputs": [],
   "source": [
    "from functools import lru_cache\n",
    "\n",
    "\n",
    "class Solution:\n",
    "\n",
    "    def minDistance(self, s1: str, s2: str) -> int:\n",
    "\n",
    "        @lru_cache(None)\n",
    "        def dfs(i, j):  # s1[:i]到s2[:j]的编辑距离\n",
    "            if i == 0:\n",
    "                return j\n",
    "            elif j == 0:\n",
    "                return i\n",
    "            if s1[i - 1] == s2[j - 1]:\n",
    "                return dfs(i - 1, j - 1)\n",
    "            else:\n",
    "                # 对应替换 删除 插入\n",
    "                return min(dfs(i - 1, j - 1), dfs(i - 1, j), dfs(i, j - 1)) + 1\n",
    "\n",
    "        return dfs(len(s1), len(s2))\n"
   ]
  }
 ],
 "metadata": {
  "language_info": {
   "name": "python"
  },
  "orig_nbformat": 4
 },
 "nbformat": 4,
 "nbformat_minor": 2
}
