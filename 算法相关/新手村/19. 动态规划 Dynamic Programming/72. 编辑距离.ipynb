{
 "cells": [
  {
   "cell_type": "code",
   "execution_count": null,
   "metadata": {},
   "outputs": [],
   "source": [
    "class Solution:\n",
    "    def minDistance(self, word1: str, word2: str) -> int:\n",
    "        n, m = len(word1), len(word2)\n",
    "\n",
    "        # @lru_cache(None)\n",
    "        # def dfs(i,j):\n",
    "        #     if i < 0: return j + 1 # f[-1][j] = j + 1 -> f[0][j + 1] = j + 1\n",
    "        #     if j < 0: return i + 1\n",
    "        #     if word1[i] == word2[j]:\n",
    "        #         return dfs(i - 1, j - 1)\n",
    "        #     return min(dfs(i ,j - 1), dfs(i - 1,j), dfs(i - 1,j - 1)) + 1\n",
    "        # return dfs(n - 1,m - 1)\n",
    "\n",
    "        # f = [[inf] * (m + 1) for _ in range(n + 1)]\n",
    "        # f[0] = list(range(m + 1))\n",
    "        # for i, x in enumerate(word1):\n",
    "        #     f[i + 1][0] = i + 1 # 脑子里要有转移图\n",
    "        #     for j, y in enumerate(word2):\n",
    "        #         if x == y:\n",
    "        #             f[i + 1][j + 1] = f[i][j]\n",
    "        #         else:\n",
    "        #             f[i + 1][j + 1] = min(f[i + 1][j], f[i][j + 1], f[i][j]) + 1\n",
    "        # return f[n][m]\n",
    "\n",
    "        # f = [[inf] * (m + 1) for _ in range(2)]\n",
    "        # f[0] = list(range(m + 1))\n",
    "        # for i, x in enumerate(word1):\n",
    "        #     f[(i + 1) % 2][0] = i + 1 # 脑子里要有转移图\n",
    "        #     for j, y in enumerate(word2):\n",
    "        #         if x == y:\n",
    "        #             f[(i + 1) % 2][j + 1] = f[i % 2][j]\n",
    "        #         else:\n",
    "        #             f[(i + 1) % 2][j + 1] = min(f[(i + 1) % 2][j], f[i % 2][j + 1], f[i % 2][j]) + 1\n",
    "        # return f[n % 2][m]\n",
    "\n",
    "        f = list(range(m + 1))\n",
    "        for i, x in enumerate(word1):\n",
    "            pre = f[0] # 上一行\n",
    "            f[0] += 1\n",
    "            for j, y in enumerate(word2):\n",
    "                tmp = f[j + 1]\n",
    "                if x == y:\n",
    "                    f[j + 1] = pre\n",
    "                else:\n",
    "                    f[j + 1] = min(f[j], f[j + 1], pre) + 1\n",
    "                pre = tmp\n",
    "        return f[m]"
   ]
  },
  {
   "cell_type": "code",
   "execution_count": 1,
   "metadata": {},
   "outputs": [],
   "source": [
    "from functools import lru_cache\n",
    "\n",
    "\n",
    "class Solution:\n",
    "\n",
    "    def minDistance(self, s1: str, s2: str) -> int:\n",
    "\n",
    "        @lru_cache(None)\n",
    "        def dfs(i, j):  # s1[:i]到s2[:j]的编辑距离\n",
    "            if i == 0:\n",
    "                return j\n",
    "            elif j == 0:\n",
    "                return i\n",
    "            if s1[i - 1] == s2[j - 1]:\n",
    "                return dfs(i - 1, j - 1)\n",
    "            else:\n",
    "                # 对应替换 删除 插入\n",
    "                return min(dfs(i - 1, j - 1), dfs(i - 1, j), dfs(i, j - 1)) + 1\n",
    "\n",
    "        return dfs(len(s1), len(s2))\n"
   ]
  },
  {
   "cell_type": "code",
   "execution_count": 3,
   "metadata": {},
   "outputs": [
    {
     "data": {
      "text/plain": [
       "1"
      ]
     },
     "execution_count": 3,
     "metadata": {},
     "output_type": "execute_result"
    }
   ],
   "source": [
    "from math import gcd\n",
    "\n",
    "gcd(1, 5)\n"
   ]
  },
  {
   "cell_type": "code",
   "execution_count": null,
   "metadata": {},
   "outputs": [],
   "source": []
  }
 ],
 "metadata": {
  "kernelspec": {
   "display_name": "Python 3",
   "language": "python",
   "name": "python3"
  },
  "language_info": {
   "codemirror_mode": {
    "name": "ipython",
    "version": 3
   },
   "file_extension": ".py",
   "mimetype": "text/x-python",
   "name": "python",
   "nbconvert_exporter": "python",
   "pygments_lexer": "ipython3",
   "version": "3.11.1"
  },
  "orig_nbformat": 4,
  "vscode": {
   "interpreter": {
    "hash": "ff4b1fca65a764b45acb559e482afe389d289dd599b9f8c5fd12ff5c2ea46a65"
   }
  }
 },
 "nbformat": 4,
 "nbformat_minor": 2
}
