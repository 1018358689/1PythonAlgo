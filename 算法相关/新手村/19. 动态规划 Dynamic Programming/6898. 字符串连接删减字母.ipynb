{
 "cells": [
  {
   "cell_type": "code",
   "execution_count": null,
   "metadata": {},
   "outputs": [],
   "source": [
    "class Solution:\n",
    "\n",
    "    def minimizeConcatenatedLength(self, words: List[str]) -> int:\n",
    "        n = len(words)\n",
    "\n",
    "        @lru_cache(None)\n",
    "        def dfs(i, l, r):  # 从前往后 逐个拼接\n",
    "            if i == n: return 0\n",
    "            x = words[i]\n",
    "            # 拼接在前面\n",
    "            sub1 = dfs(i + 1, x[0], r) + len(x) - (x[-1] == l)\n",
    "            # 拼接在后面\n",
    "            sub2 = dfs(i + 1, l, x[-1]) + len(x) - (x[0] == r)\n",
    "            return min(sub1, sub2)\n",
    "\n",
    "        x = words[0]\n",
    "        return dfs(1, x[0], x[-1]) + len(x)\n"
   ]
  }
 ],
 "metadata": {
  "language_info": {
   "name": "python"
  },
  "orig_nbformat": 4
 },
 "nbformat": 4,
 "nbformat_minor": 2
}
