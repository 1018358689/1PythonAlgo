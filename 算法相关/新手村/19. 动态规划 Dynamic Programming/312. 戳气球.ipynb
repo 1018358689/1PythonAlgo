{
 "cells": [
  {
   "cell_type": "code",
   "execution_count": 8,
   "metadata": {},
   "outputs": [
    {
     "data": {
      "text/plain": [
       "167"
      ]
     },
     "execution_count": 8,
     "metadata": {},
     "output_type": "execute_result"
    }
   ],
   "source": [
    "from typing import List\n",
    "\n",
    "\n",
    "class Solution:\n",
    "\n",
    "    def maxCoins(self, nums: List[int]) -> int:\n",
    "        nums = [1] + nums + [1]\n",
    "        mem = {(1, 1): 0}\n",
    "\n",
    "        def dfs(nums):\n",
    "            if tuple(nums) not in mem:\n",
    "                res = 0\n",
    "                for i in range(1, len(nums) - 1):\n",
    "                    sub = dfs(nums[:i] + nums[i + 1:])\n",
    "                    res = max(res, nums[i - 1] * nums[i] * nums[i + 1] + sub)\n",
    "                mem[tuple(nums)] = res\n",
    "            return mem[tuple(nums)]\n",
    "\n",
    "        return dfs(nums)\n",
    "\n",
    "\n",
    "s = Solution()\n",
    "s.maxCoins([3, 1, 5, 8])\n",
    "# s.maxCoins([8,3,4,3,5,0,5,6,6,2,8,5,6,2,3,8,3,5,1,0,2])"
   ]
  },
  {
   "cell_type": "code",
   "execution_count": 19,
   "metadata": {},
   "outputs": [
    {
     "data": {
      "text/plain": [
       "3394"
      ]
     },
     "execution_count": 19,
     "metadata": {},
     "output_type": "execute_result"
    }
   ],
   "source": [
    "from typing import List\n",
    "from functools import lru_cache\n",
    "\n",
    "class Solution:\n",
    "\n",
    "    def maxCoins(self, nums: List[int]) -> int:\n",
    "        nums = [1] + nums + [1]\n",
    "        @lru_cache(None)\n",
    "        def dfs(i, j):  # (i,j)范围内戳气球最优解\n",
    "            if i == j:\n",
    "                return 0\n",
    "            res = 0\n",
    "            for k in range(i + 1, j):  # k是最后一个被戳破的气球\n",
    "                sub1 = dfs(i, k)\n",
    "                sub2 = dfs(k, j)\n",
    "                res = max(res, nums[i] * nums[k] * nums[j] + sub1 + sub2)\n",
    "            return res\n",
    "\n",
    "        return dfs(0,len(nums)-1)\n",
    "\n",
    "\n",
    "s = Solution()\n",
    "s.maxCoins([3, 1, 5, 8])\n",
    "s.maxCoins([8, 3, 4, 3, 5, 0, 5, 6, 6, 2, 8, 5, 6, 2, 3, 8, 3, 5, 1, 0, 2])\n"
   ]
  },
  {
   "cell_type": "code",
   "execution_count": null,
   "metadata": {},
   "outputs": [],
   "source": []
  }
 ],
 "metadata": {
  "interpreter": {
   "hash": "aee8b7b246df8f9039afb4144a1f6fd8d2ca17a180786b69acc140d282b71a49"
  },
  "kernelspec": {
   "display_name": "Python 3.10.2 64-bit",
   "language": "python",
   "name": "python3"
  },
  "language_info": {
   "codemirror_mode": {
    "name": "ipython",
    "version": 3
   },
   "file_extension": ".py",
   "mimetype": "text/x-python",
   "name": "python",
   "nbconvert_exporter": "python",
   "pygments_lexer": "ipython3",
   "version": "3.10.2"
  },
  "orig_nbformat": 4
 },
 "nbformat": 4,
 "nbformat_minor": 2
}
