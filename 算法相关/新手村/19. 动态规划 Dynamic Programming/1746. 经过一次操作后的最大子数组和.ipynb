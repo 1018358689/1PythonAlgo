{
 "cells": [
  {
   "cell_type": "code",
   "execution_count": null,
   "metadata": {},
   "outputs": [],
   "source": [
    "from math import inf\n",
    "from typing import List\n",
    "\n",
    "\n",
    "class Solution:\n",
    "\n",
    "    def maxSumAfterOperation(self, nums: List[int]) -> int:\n",
    "        # dp[i][0/1] 以nums[i]结尾 可替换次数 后最大子数组和\n",
    "        # dp[i][0] = max(dp[i-1][1]+nums[i]**2,dp[i-1][0]+nums[i],nums[i]**2)\n",
    "        # dp[i][1] = max(dp[i-1][1]+nums[i],nums[i])\n",
    "        n = len(nums)\n",
    "        dp = [[-inf] * 2 for _ in range(n)]\n",
    "        dp[0][0] = nums[0]**2\n",
    "        dp[0][1] = nums[0]\n",
    "        ans = nums[0]**2\n",
    "        for i in range(1, n):\n",
    "            dp[i][0] = max(dp[i - 1][1] + nums[i]**2, dp[i - 1][0] + nums[i], nums[i]**2)\n",
    "            dp[i][1] = max(dp[i - 1][1] + nums[i], nums[i])\n",
    "            ans = max(ans, dp[i][0])\n",
    "        return ans"
   ]
  }
 ],
 "metadata": {
  "language_info": {
   "name": "python"
  },
  "orig_nbformat": 4
 },
 "nbformat": 4,
 "nbformat_minor": 2
}
