{
 "cells": [
  {
   "cell_type": "code",
   "execution_count": null,
   "metadata": {},
   "outputs": [],
   "source": [
    "from typing import List\n",
    "\n",
    "\n",
    "class Solution:\n",
    "\n",
    "    def minOperations(self, boxes: str) -> List[int]:\n",
    "        # left[i] i左边的1到i的最小操作数\n",
    "        # left[i] = left[i-1]+ cnt[i] # cnt[i] i左边1的个数\n",
    "        n = len(boxes)\n",
    "        c1, c2, left, right = 0, 0, [0] * n, [0] * n\n",
    "        for i in range(1, n):\n",
    "            if boxes[i - 1] == '1':\n",
    "                c1 += 1\n",
    "            left[i] = left[i - 1] + c1\n",
    "            if boxes[n - i] == '1':\n",
    "                c2 += 1\n",
    "            right[n - i - 1] = right[n - i] + c2\n",
    "        return [left[i] + right[i] for i in range(n)]\n"
   ]
  }
 ],
 "metadata": {
  "language_info": {
   "name": "python"
  },
  "orig_nbformat": 4
 },
 "nbformat": 4,
 "nbformat_minor": 2
}
