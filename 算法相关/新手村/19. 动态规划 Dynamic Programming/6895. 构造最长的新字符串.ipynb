{
 "cells": [
  {
   "cell_type": "code",
   "execution_count": null,
   "metadata": {},
   "outputs": [],
   "source": [
    "class Solution:\n",
    "\n",
    "    def longestString(self, x: int, y: int, z: int) -> int:\n",
    "        adj = [[1, 2], [0], [1, 2], [0, 1, 2]]\n",
    "\n",
    "        @lru_cache(None)\n",
    "        def dfs(pre, x, y, z):\n",
    "            if x == 0 and y == 0 and z == 0:\n",
    "                return 0\n",
    "            ans = 0\n",
    "            for j in adj[pre]:\n",
    "                if (j == 0 and x == 0) or (j == 1 and y == 0) or (j == 2 and z == 0):\n",
    "                    continue\n",
    "                ans = max(ans, 2 + dfs(j, x - (j == 0), y - (j == 1), z - (j == 2)))\n",
    "            return ans\n",
    "\n",
    "        return dfs(3, x, y, z)"
   ]
  }
 ],
 "metadata": {
  "language_info": {
   "name": "python"
  },
  "orig_nbformat": 4
 },
 "nbformat": 4,
 "nbformat_minor": 2
}
