{
 "cells": [
  {
   "cell_type": "code",
   "execution_count": null,
   "metadata": {},
   "outputs": [],
   "source": [
    "class Solution:\n",
    "\n",
    "    def countSpecialNumbers(self, n: int) -> int:\n",
    "        num = str(n)\n",
    "        m = len(num)\n",
    "\n",
    "        @lru_cache(None)\n",
    "        def dfs(i, is_limit, is_num, mask):\n",
    "            # is_limit:该位是否限制 is_num:前面是否有数字\n",
    "            if i == m:\n",
    "                return int(is_num)\n",
    "            ans = 0\n",
    "            if not is_num:\n",
    "                ans += dfs(i + 1, False, False, mask)\n",
    "            low = 0 if is_num else 1\n",
    "            up = int(num[i]) if is_limit else 9\n",
    "            for d in range(low, up + 1):\n",
    "                if mask >> d & 1: continue\n",
    "                ans += dfs(i + 1, is_limit and d == up, True, mask | (1 << d))\n",
    "            return ans\n",
    "\n",
    "        return dfs(0, True, False, 0)"
   ]
  }
 ],
 "metadata": {
  "language_info": {
   "name": "python"
  },
  "orig_nbformat": 4
 },
 "nbformat": 4,
 "nbformat_minor": 2
}
