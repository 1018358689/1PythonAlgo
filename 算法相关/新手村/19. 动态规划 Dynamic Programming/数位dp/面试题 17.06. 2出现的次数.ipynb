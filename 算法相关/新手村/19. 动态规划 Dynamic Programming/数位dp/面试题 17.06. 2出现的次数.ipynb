{
 "cells": [
  {
   "cell_type": "code",
   "execution_count": null,
   "metadata": {},
   "outputs": [],
   "source": [
    "class Solution:\n",
    "\n",
    "    def numberOf2sInRange(self, n: int) -> int:\n",
    "        num = str(n)\n",
    "        m = len(num)\n",
    "\n",
    "        @lru_cache(None)\n",
    "        def dfs(i, is_limit, is_num, cnt):  # [i, m - 1]累计2的数目\n",
    "            # is_limit: 该位是否需要限制 is_num:前面是否有数字 cnt:前面[0,i - 1]累计含有2数目\n",
    "            if i == m:  # 成功构造一个数\n",
    "                return cnt\n",
    "            ans = 0\n",
    "            if not is_num:\n",
    "                ans += dfs(i + 1, False, False, cnt)\n",
    "            low = 0 if is_num else 1\n",
    "            up = int(num[i]) if is_limit else 9\n",
    "            for j in range(low, up + 1):\n",
    "                ans += dfs(i + 1, is_limit and j == up, True, cnt + (j == 2))\n",
    "            return ans\n",
    "\n",
    "        return dfs(0, True, False, 0)"
   ]
  },
  {
   "cell_type": "code",
   "execution_count": null,
   "metadata": {},
   "outputs": [],
   "source": [
    "# 有前导零也无所谓 因为判断是2的个数\n",
    "class Solution:\n",
    "\n",
    "    def numberOf2sInRange(self, n: int) -> int:\n",
    "        num = str(n)\n",
    "        m = len(num)\n",
    "\n",
    "        @lru_cache(None)\n",
    "        def dfs(i, is_limit, cnt):  # [i, m - 1]累计2的数目\n",
    "            # is_limit: 该位是否需要限制 is_num:前面是否有数字 cnt:前面[0,i - 1]累计含有2数目\n",
    "            if i == m:  # 成功构造一个数\n",
    "                return cnt\n",
    "            ans = 0\n",
    "            up = int(num[i]) if is_limit else 9\n",
    "            for j in range(up + 1):\n",
    "                ans += dfs(i + 1, is_limit and j == up, cnt + (j == 2))\n",
    "            return ans\n",
    "\n",
    "        return dfs(0, True, 0)"
   ]
  }
 ],
 "metadata": {
  "language_info": {
   "name": "python"
  },
  "orig_nbformat": 4
 },
 "nbformat": 4,
 "nbformat_minor": 2
}
