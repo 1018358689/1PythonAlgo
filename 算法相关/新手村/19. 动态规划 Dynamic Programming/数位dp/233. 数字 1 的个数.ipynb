{
 "cells": [
  {
   "cell_type": "code",
   "execution_count": null,
   "metadata": {},
   "outputs": [],
   "source": [
    "class Solution:\n",
    "\n",
    "    def countDigitOne(self, n: int) -> int:\n",
    "        num = str(n)\n",
    "        m = len(num)\n",
    "\n",
    "        @lru_cache(None)\n",
    "        def dfs(i, is_limit, cnt):  # 本题有前导0 无所谓\n",
    "            # is_limit: 该位是否需要限制 is_num:前面是否有数字 cnt:前面[0,i - 1]累计含有1数目\n",
    "            if i == m:\n",
    "                return cnt\n",
    "            up = int(num[i]) if is_limit else 9\n",
    "            ans = 0\n",
    "            for d in range(up + 1):\n",
    "                ans += dfs(i + 1, is_limit and d == up, cnt + (d == 1))\n",
    "            return ans\n",
    "\n",
    "        return dfs(0, True, 0)"
   ]
  }
 ],
 "metadata": {
  "language_info": {
   "name": "python"
  },
  "orig_nbformat": 4
 },
 "nbformat": 4,
 "nbformat_minor": 2
}
