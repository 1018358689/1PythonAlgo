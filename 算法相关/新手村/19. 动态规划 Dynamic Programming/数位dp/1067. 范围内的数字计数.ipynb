{
 "cells": [
  {
   "cell_type": "code",
   "execution_count": null,
   "metadata": {},
   "outputs": [],
   "source": [
    "class Solution:\n",
    "\n",
    "    def digitsCount(self, d: int, low: int, high: int) -> int:\n",
    "        # f(high) - f(low - 1)\n",
    "        def f(num):\n",
    "            num = str(num)\n",
    "            n = len(num)\n",
    "\n",
    "            @lru_cache(None)\n",
    "            def dfs(i, is_limit, is_num, cnt):  # [0,num]出现d的次数\n",
    "                # is_limit表示该位是否限制上限  is_num表示前面是否有数字（避免前导0）\n",
    "                # cnt表示构造成功一个数前面出现的d个数\n",
    "                if i == n:\n",
    "                    return int(is_num) * cnt  # cnt\n",
    "                ans = 0\n",
    "                if not is_num:\n",
    "                    ans += dfs(i + 1, False, False, 0)\n",
    "                lw = 0 if is_num else 1\n",
    "                up = int(num[i]) if is_limit else 9\n",
    "                for j in range(lw, up + 1):\n",
    "                    ans += dfs(i + 1, is_limit and j == up, True, cnt + (j == d))\n",
    "                return ans\n",
    "\n",
    "            return dfs(0, True, False, 0)\n",
    "\n",
    "        return f(high) - f(low - 1)"
   ]
  }
 ],
 "metadata": {
  "language_info": {
   "name": "python"
  },
  "orig_nbformat": 4
 },
 "nbformat": 4,
 "nbformat_minor": 2
}
