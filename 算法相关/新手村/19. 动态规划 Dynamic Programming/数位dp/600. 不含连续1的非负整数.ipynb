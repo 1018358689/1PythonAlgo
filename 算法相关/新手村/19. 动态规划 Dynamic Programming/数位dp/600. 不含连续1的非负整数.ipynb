{
 "cells": [
  {
   "cell_type": "code",
   "execution_count": null,
   "metadata": {},
   "outputs": [],
   "source": [
    "class Solution:\n",
    "\n",
    "    def findIntegers(self, n: int) -> int:\n",
    "        # 本题可以有前导0\n",
    "        num = bin(n)[2:]\n",
    "\n",
    "        @lru_cache(None)\n",
    "        def dfs(i, is_limit, pre):\n",
    "            # is_limit表示该位是否限制上限 pre前一位是否是1\n",
    "            if i == len(num):\n",
    "                return 1\n",
    "            up = int(num[i]) if is_limit else 1\n",
    "            ans = 0\n",
    "            for j in range(up + 1):\n",
    "                if j == 1 and pre: continue\n",
    "                ans += dfs(i + 1, is_limit and j == up, j == 1)\n",
    "            return ans\n",
    "\n",
    "        return dfs(0, True, False)"
   ]
  }
 ],
 "metadata": {
  "language_info": {
   "name": "python"
  },
  "orig_nbformat": 4
 },
 "nbformat": 4,
 "nbformat_minor": 2
}
