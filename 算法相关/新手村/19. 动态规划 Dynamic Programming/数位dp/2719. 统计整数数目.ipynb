{
 "cells": [
  {
   "cell_type": "code",
   "execution_count": null,
   "metadata": {},
   "outputs": [],
   "source": [
    "class Solution:\n",
    "\n",
    "    def count(self, num1: str, num2: str, min_sum: int, max_sum: int) -> int:\n",
    "        # [0, num2] - [0, num1 - 1]\n",
    "        # -> [0, num2] - [0, num1] + check(num1)\n",
    "        MOD = 10**9 + 7\n",
    "\n",
    "        def f(num):  # [0, num] 符合 min_sum <= digit_sum(x) <= max_sum 的数字个数\n",
    "            n = len(num)\n",
    "\n",
    "            @lru_cache(None)\n",
    "            def dfs(i, s, is_limit):\n",
    "                if s > max_sum: return 0\n",
    "                if i == n: return int(s >= min_sum)\n",
    "                up = int(num[i]) if is_limit else 9\n",
    "                ans = 0\n",
    "                for j in range(up + 1):\n",
    "                    ans += dfs(i + 1, s + j, is_limit and j == up)\n",
    "                    ans %= MOD\n",
    "                return ans\n",
    "\n",
    "            return dfs(0, 0, True)\n",
    "\n",
    "        return (f(num2) - f(num1) + (min_sum <= sum(map(int, num1)) <= max_sum)) % MOD"
   ]
  }
 ],
 "metadata": {
  "language_info": {
   "name": "python"
  },
  "orig_nbformat": 4
 },
 "nbformat": 4,
 "nbformat_minor": 2
}
