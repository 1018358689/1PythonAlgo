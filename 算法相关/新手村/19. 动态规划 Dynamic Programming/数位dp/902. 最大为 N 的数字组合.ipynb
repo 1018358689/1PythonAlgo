{
 "cells": [
  {
   "cell_type": "code",
   "execution_count": null,
   "metadata": {},
   "outputs": [],
   "source": [
    "class Solution:\n",
    "\n",
    "    def atMostNGivenDigitSet(self, digits: List[str], n: int) -> int:\n",
    "        num = str(n)\n",
    "        m = len(num)\n",
    "\n",
    "        @lru_cache(None)\n",
    "        def dfs(i, is_limit, is_num):\n",
    "            # is_limit表示该位是否限制上限  is_num表示前面是否有数字（避免前导0）\n",
    "            if i == m:\n",
    "                return int(is_num)  # 去掉 0\n",
    "            ans = 0\n",
    "            if not is_num:  # 前面无数字 可以继续无数字 减少位数\n",
    "                ans += dfs(i + 1, False, False)\n",
    "            up = num[i] if is_limit else '9'\n",
    "            for x in digits:  # digits不含0 此处不考虑前导0\n",
    "                if x > up: break\n",
    "                ans += dfs(i + 1, is_limit and x == up, True)\n",
    "            return ans\n",
    "\n",
    "        return dfs(0, True, False)"
   ]
  }
 ],
 "metadata": {
  "language_info": {
   "name": "python"
  },
  "orig_nbformat": 4
 },
 "nbformat": 4,
 "nbformat_minor": 2
}
