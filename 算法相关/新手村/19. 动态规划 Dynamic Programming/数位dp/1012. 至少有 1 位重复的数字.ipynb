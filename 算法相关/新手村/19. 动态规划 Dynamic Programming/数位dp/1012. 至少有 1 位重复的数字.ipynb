{
 "cells": [
  {
   "cell_type": "code",
   "execution_count": null,
   "metadata": {},
   "outputs": [],
   "source": [
    "class Solution:\n",
    "\n",
    "    def numDupDigitsAtMostN(self, n: int) -> int:\n",
    "        # n - cnt([1,20]无重复数字个数)\n",
    "        num = str(n)\n",
    "\n",
    "        @lru_cache(None)\n",
    "        def dfs(i, is_limit, is_num, mask):\n",
    "            # is_limit表示该位是否限制上限  is_num表示前面是否有数字（避免前导0）\n",
    "            # mask 用来判断重复数字  用集合也可以\n",
    "            if i == len(num):\n",
    "                return int(is_num) # 纯0不行\n",
    "            ans = 0\n",
    "            if not is_num:  # 跳过当前位次 即获得前导0 得到位数更小的数\n",
    "                ans += dfs(i + 1, False, False, mask)\n",
    "            low = 0 if is_num else 1  # 前面没有数字则必须从1开始\n",
    "            up = int(num[i]) if is_limit else 9  # 该位是否限制[0,num[i]]\n",
    "            for j in range(low, up + 1):\n",
    "                if mask >> j & 1 == 0:  # 判断数字是否重复出现\n",
    "                    ans += dfs(i + 1, is_limit and j == up, True, mask | (1 << j))\n",
    "            return ans\n",
    "\n",
    "        return n - dfs(0, True, False, 0)"
   ]
  },
  {
   "cell_type": "code",
   "execution_count": null,
   "metadata": {},
   "outputs": [],
   "source": [
    "class Solution:\n",
    "\n",
    "    def numDupDigitsAtMostN(self, n: int) -> int:\n",
    "        # n - cnt([1,20]无重复数字个数)\n",
    "        num = str(n)\n",
    "\n",
    "        @lru_cache(None)\n",
    "        def dfs(i, is_limit, is_num, mask):\n",
    "            # is_limit表示该位是否限制上限  is_num表示前面是否有数字（避免前导0）\n",
    "            # mask 用来判断重复数字  用集合也可以\n",
    "            if i == len(num):\n",
    "                return 1\n",
    "            ans = 0\n",
    "            if not is_num:  # 跳过当前位次 即获得前导0 得到位数更小的数\n",
    "                ans += dfs(i + 1, False, False, mask)\n",
    "            low = 0 if is_num else 1  # 前面没有数字则必须从1开始\n",
    "            up = int(num[i]) if is_limit else 9  # 该位是否限制[0,num[i]]\n",
    "            for j in range(low, up + 1):\n",
    "                if mask >> j & 1 == 0:  # 判断数字是否重复出现\n",
    "                    ans += dfs(i + 1, is_limit and j == up, True, mask | (1 << j))\n",
    "            return ans\n",
    "\n",
    "        return n - (dfs(0, True, False, 0) - 1) # 减去纯0"
   ]
  }
 ],
 "metadata": {
  "language_info": {
   "name": "python"
  },
  "orig_nbformat": 4
 },
 "nbformat": 4,
 "nbformat_minor": 2
}
