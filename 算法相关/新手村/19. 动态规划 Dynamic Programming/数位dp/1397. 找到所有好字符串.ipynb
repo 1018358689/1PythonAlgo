{
 "cells": [
  {
   "cell_type": "code",
   "execution_count": null,
   "metadata": {},
   "outputs": [],
   "source": [
    "class Solution:\n",
    "\n",
    "    def findGoodStrings(self, n: int, s1: str, s2: str, evil: str) -> int:\n",
    "        MOD = 10**9 + 7\n",
    "        m = len(evil)\n",
    "        nxt = [0] * m  # [0,i] 最长前后缀 前缀结尾索引 -1代表无前后缀\n",
    "        nxt[0] = -1  # 单字母无前后缀\n",
    "        j = -1\n",
    "        for i in range(1, m):\n",
    "            while j >= 0 and evil[i] != evil[j + 1]:\n",
    "                j = nxt[j]\n",
    "            if evil[i] == evil[j + 1]:\n",
    "                j += 1\n",
    "            nxt[i] = j\n",
    "\n",
    "        def f(s):\n",
    "\n",
    "            @lru_cache(None)\n",
    "            def dfs(i, j, is_limit):  # j是当前匹配到的evil位置\n",
    "                if i == n:\n",
    "                    return 1\n",
    "                up = ord(s[i]) if is_limit else 122\n",
    "                ans = 0\n",
    "                for d in range(97, up + 1):\n",
    "                    x = chr(d)\n",
    "                    k = j\n",
    "                    while k >= 0 and x != evil[k + 1]:\n",
    "                        k = nxt[k]\n",
    "                    if x == evil[k + 1]:\n",
    "                        k += 1\n",
    "                    if k == m - 1: continue\n",
    "                    ans += dfs(i + 1, k, is_limit and d == up)\n",
    "                    ans %= MOD\n",
    "                return ans\n",
    "\n",
    "            return dfs(0, -1, True)\n",
    "\n",
    "        return (f(s2) - f(s1) + (not evil in s1)) % MOD"
   ]
  }
 ],
 "metadata": {
  "language_info": {
   "name": "python"
  },
  "orig_nbformat": 4
 },
 "nbformat": 4,
 "nbformat_minor": 2
}
