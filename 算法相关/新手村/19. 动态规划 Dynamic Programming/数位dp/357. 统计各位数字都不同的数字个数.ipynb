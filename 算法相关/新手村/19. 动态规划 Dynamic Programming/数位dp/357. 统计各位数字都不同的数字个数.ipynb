{
 "cells": [
  {
   "cell_type": "code",
   "execution_count": null,
   "metadata": {},
   "outputs": [],
   "source": [
    "class Solution:\n",
    "\n",
    "    def countNumbersWithUniqueDigits(self, n: int) -> int:\n",
    "        s = str(10**n - 1)\n",
    "        m = len(s)\n",
    "\n",
    "        @lru_cache(None)\n",
    "        def dfs(i, is_limit, is_num, mask):\n",
    "            # is_limit表示该位是否限制上限  is_num表示前面是否有数字（避免前导0）\n",
    "            # mask 用来判断重复数字  用集合也可以\n",
    "            if i == m:\n",
    "                return 1\n",
    "            ans = 0\n",
    "            if not is_num:\n",
    "                ans += dfs(i + 1, False, False, mask)\n",
    "            low = is_num ^ 1  # 0 if is_num else 1\n",
    "            up = int(s[i]) if is_limit else 9\n",
    "            for d in range(low, up + 1):\n",
    "                if mask >> d & 1: continue\n",
    "                ans += dfs(i + 1, is_limit and d == up, True, mask | (1 << d))\n",
    "            return ans\n",
    "\n",
    "        return dfs(0, True, False, 0)"
   ]
  }
 ],
 "metadata": {
  "language_info": {
   "name": "python"
  },
  "orig_nbformat": 4
 },
 "nbformat": 4,
 "nbformat_minor": 2
}
