{
 "cells": [
  {
   "cell_type": "code",
   "execution_count": 20,
   "metadata": {},
   "outputs": [
    {
     "name": "stdout",
     "output_type": "stream",
     "text": [
      "3\n",
      "1 5\n",
      "111111 0\n",
      "2 3\n",
      "111111 100\n",
      "2 3\n",
      "111111 103\n"
     ]
    }
   ],
   "source": [
    "def MaxHealth(N, M, arr: list):\n",
    "    # dp[i][0\\1] 第i天在最左边和最右边的最大健康值\n",
    "    # dp[i][0] = max(dp[i-1][0],dp[i-1][1]+完全穿越和,dp[i-1][0]+max前缀和)\n",
    "    # dp[i][1] = max(dp[i-1][1],dp[i-1][0]+完全穿越和,dp[i-1][1]+max后缀和)\n",
    "    # dp[0][0] = max(0,max前缀和)\n",
    "    # dp[0][1] = 完全穿越和\n",
    "    dp = [[0] * 2 for _ in range(N)]\n",
    "    localMax = [[0] * 3 for _ in range(N)]  # max前缀和 max后缀和 总和\n",
    "    for i in range(N):\n",
    "        preSum = [0] * (M + 1)\n",
    "        sufSum = [0] * (M + 1)\n",
    "        for j in range(M):\n",
    "            preSum[j + 1] = preSum[j] + arr[i][j]\n",
    "            sufSum[M - j - 2] = sufSum[M - j - 1] + arr[i][M - j - 1]\n",
    "        localMax[i][0], localMax[i][1] = max(preSum), max(sufSum)\n",
    "        localMax[i][2] = preSum[-1]\n",
    "    dp[0][0] = max(0, localMax[0][0])\n",
    "    dp[0][1] = localMax[0][2]\n",
    "    for i in range(1, N):\n",
    "        dp[i][0] = max(dp[i - 1][0], dp[i - 1][1] + localMax[i][2], dp[i - 1][0] + localMax[i][0])\n",
    "        dp[i][1] = max(dp[i - 1][1], dp[i - 1][0] + localMax[i][2], dp[i - 1][1] + localMax[i][1])\n",
    "    return max(dp[-1])\n",
    "\n",
    "\n",
    "T = int(input())\n",
    "for _ in range(T):\n",
    "    N, M = map(int, input().split())\n",
    "    arr = [0] * N\n",
    "    for i in range(N):\n",
    "        arr[i] = list(map(int, input().split()))\n",
    "    localAns = MaxHealth(N, M, arr)\n",
    "    print(localAns)"
   ]
  },
  {
   "cell_type": "code",
   "execution_count": 5,
   "metadata": {},
   "outputs": [
    {
     "data": {
      "text/plain": [
       "[-9, -8, 1, 2, 3]"
      ]
     },
     "execution_count": 5,
     "metadata": {},
     "output_type": "execute_result"
    }
   ],
   "source": [
    "list(map(int, ('-9 -8 1 2 3').split()))"
   ]
  },
  {
   "cell_type": "code",
   "execution_count": 23,
   "metadata": {},
   "outputs": [
    {
     "data": {
      "text/plain": [
       "True"
      ]
     },
     "execution_count": 23,
     "metadata": {},
     "output_type": "execute_result"
    }
   ],
   "source": [
    "'121'>'12'"
   ]
  },
  {
   "cell_type": "code",
   "execution_count": 19,
   "metadata": {},
   "outputs": [
    {
     "data": {
      "text/plain": [
       "100"
      ]
     },
     "execution_count": 19,
     "metadata": {},
     "output_type": "execute_result"
    }
   ],
   "source": [
    "def MaxHealth(N, M, arr: list):\n",
    "    # dp[i][0\\1] 第i天在最左边和最右边的最大健康值\n",
    "    # dp[i][0] = max(dp[i-1][0],dp[i-1][1]+完全穿越和,dp[i-1][0]+max前缀和)\n",
    "    # dp[i][1] = max(dp[i-1][1],dp[i-1][0]+完全穿越和,dp[i-1][1]+max后缀和)\n",
    "    # dp[0][0] = max(0,max前缀和)\n",
    "    # dp[0][1] = 完全穿越和\n",
    "    dp = [[0] * 2 for _ in range(N)]\n",
    "    localMax = [[0] * 3 for _ in range(N)]\n",
    "    for i in range(N):\n",
    "        preSum = [0] * (M + 1)\n",
    "        suffixSum = [0] * (M + 1)\n",
    "        for j in range(M):\n",
    "            preSum[j + 1] = preSum[j] + arr[i][j]\n",
    "            suffixSum[M - j - 2] = suffixSum[M - j - 1] + arr[i][M - j - 1]\n",
    "        localMax[i][0], localMax[i][1] = max(preSum), max(suffixSum)\n",
    "        localMax[i][2] = preSum[-1]\n",
    "    dp[0][0] = max(0, localMax[0][0])\n",
    "    dp[0][1] = localMax[0][2]\n",
    "    for i in range(1, N):\n",
    "        dp[i][0] = max(dp[i - 1][0], dp[i - 1][1] + localMax[i][2], dp[i - 1][0] + localMax[i][0])\n",
    "        dp[i][1] = max(dp[i - 1][1], dp[i - 1][0] + localMax[i][2], dp[i - 1][1] + localMax[i][1])\n",
    "    return max(dp[-1])\n",
    "\n",
    "\n",
    "MaxHealth(2, 3, [[1, 4, -5], [-1, -9, 100]])\n"
   ]
  },
  {
   "cell_type": "code",
   "execution_count": null,
   "metadata": {},
   "outputs": [],
   "source": []
  }
 ],
 "metadata": {
  "interpreter": {
   "hash": "97367d2de1780ea7c502b529f25888c1b53c0430a7611816b6c7cf19d8435228"
  },
  "kernelspec": {
   "display_name": "Python 3.10.4 64-bit (windows store)",
   "language": "python",
   "name": "python3"
  },
  "language_info": {
   "codemirror_mode": {
    "name": "ipython",
    "version": 3
   },
   "file_extension": ".py",
   "mimetype": "text/x-python",
   "name": "python",
   "nbconvert_exporter": "python",
   "pygments_lexer": "ipython3",
   "version": "3.10.4"
  },
  "orig_nbformat": 4
 },
 "nbformat": 4,
 "nbformat_minor": 2
}
