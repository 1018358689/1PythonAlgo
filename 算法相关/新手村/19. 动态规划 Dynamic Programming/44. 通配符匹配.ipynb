{
 "cells": [
  {
   "cell_type": "code",
   "execution_count": null,
   "metadata": {},
   "outputs": [],
   "source": [
    "from functools import lru_cache\n",
    "\n",
    "\n",
    "class Solution:\n",
    "\n",
    "    def isMatch(self, s: str, p: str) -> bool:\n",
    "\n",
    "        @lru_cache(None)\n",
    "        def dfs(i, j):  # s[:i] p[:j]能否匹配\n",
    "            # basecase\n",
    "            if i == 0 and j == 0:  # s,p为空\n",
    "                return True\n",
    "            elif i == 0:  # s为空 则需要p为全'*'\n",
    "                if p[j - 1] == '*':\n",
    "                    return dfs(i, j - 1)\n",
    "                else:\n",
    "                    return False\n",
    "            elif j == 0:  # p为空 直接False\n",
    "                return False\n",
    "            # dp\n",
    "            if p[j - 1] == s[i - 1] or p[j - 1] == '?':  # 最后字符相同或为'?'\n",
    "                return dfs(i - 1, j - 1)\n",
    "            elif p[j - 1] != '*':  # 最后字符不相同 p 不为？ 不为* 直接False\n",
    "                return False\n",
    "            else:  # 最后字符不相同 p最后字符为*\n",
    "                if j == 1:  # 一个*匹配所有\n",
    "                    return True\n",
    "                elif p[j - 2] == s[i - 1] or p[j - 2] == '?':  # p*前与s[-1]相同 或p*前是？\n",
    "                    return dfs(i - 1, j) or dfs(i - 1, j - 2)  # 则可以 *匹配掉s[-1] 或 *作为空用p*前 来匹配\n",
    "                else:  # p*前与s[-1]不同 且p*前也不是？\n",
    "                    return dfs(i - 1, j) or dfs(i, j - 1)  # 则可以 *匹配掉s[-1] 或 *作为空 不匹配 因为前面可能也是*\n",
    "\n",
    "        return dfs(len(s), len(p))\n"
   ]
  }
 ],
 "metadata": {
  "language_info": {
   "name": "python"
  },
  "orig_nbformat": 4
 },
 "nbformat": 4,
 "nbformat_minor": 2
}
