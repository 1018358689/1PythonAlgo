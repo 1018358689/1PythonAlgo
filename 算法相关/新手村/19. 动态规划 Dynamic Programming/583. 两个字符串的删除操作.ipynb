{
 "cells": [
  {
   "cell_type": "code",
   "execution_count": 1,
   "metadata": {},
   "outputs": [],
   "source": [
    "from functools import lru_cache\n",
    "\n",
    "\n",
    "class Solution:\n",
    "\n",
    "    def minDistance(self, s1: str, s2: str) -> int:\n",
    "\n",
    "        @lru_cache(None)\n",
    "        def dfs(i, j):  # s1[:i] 和 s2[:j]最小删除次数\n",
    "            # basecase\n",
    "            if i == 0:\n",
    "                return j\n",
    "            elif j == 0:\n",
    "                return i\n",
    "            # dp\n",
    "            if s1[i - 1] == s2[j - 1]:\n",
    "                return dfs(i - 1, j - 1)\n",
    "            else:\n",
    "                return min(dfs(i - 1, j), dfs(i, j - 1)) + 1\n",
    "\n",
    "        return dfs(len(s1), len(s2))\n"
   ]
  },
  {
   "cell_type": "code",
   "execution_count": null,
   "metadata": {},
   "outputs": [],
   "source": [
    "from functools import lru_cache\n",
    "# lcs 最长公共子序列\n",
    "\n",
    "\n",
    "class Solution:\n",
    "\n",
    "    def minDistance(self, s1: str, s2: str) -> int:\n",
    "\n",
    "        @lru_cache(None)\n",
    "        def dfs(i, j):  # s1[:i] s2[:j]的lcs\n",
    "            # basecase\n",
    "            if i == 0 or j == 0:\n",
    "                return 0\n",
    "            # dp\n",
    "            if s1[i - 1] == s2[j - 1]:\n",
    "                return dfs(i - 1, j - 1) + 1\n",
    "            else:\n",
    "                return max(dfs(i - 1, j), dfs(i, j - 1))\n",
    "\n",
    "        return len(s1) + len(s2) - 2 * dfs(len(s1), len(s2))\n"
   ]
  }
 ],
 "metadata": {
  "kernelspec": {
   "display_name": "Python 3.10.2 64-bit",
   "language": "python",
   "name": "python3"
  },
  "language_info": {
   "codemirror_mode": {
    "name": "ipython",
    "version": 3
   },
   "file_extension": ".py",
   "mimetype": "text/x-python",
   "name": "python",
   "nbconvert_exporter": "python",
   "pygments_lexer": "ipython3",
   "version": "3.10.2"
  },
  "orig_nbformat": 4,
  "vscode": {
   "interpreter": {
    "hash": "aee8b7b246df8f9039afb4144a1f6fd8d2ca17a180786b69acc140d282b71a49"
   }
  }
 },
 "nbformat": 4,
 "nbformat_minor": 2
}
