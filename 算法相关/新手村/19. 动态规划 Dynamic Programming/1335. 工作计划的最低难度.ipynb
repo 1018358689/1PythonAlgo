{
 "cells": [
  {
   "cell_type": "code",
   "execution_count": null,
   "metadata": {},
   "outputs": [],
   "source": [
    "from itertools import accumulate\n",
    "from math import inf\n",
    "from typing import List\n",
    "\n",
    "\n",
    "class Solution:\n",
    "\n",
    "    def minDifficulty(self, a: List[int], d: int) -> int:\n",
    "        # 将a分成d份 每份最大值的和 的最小值\n",
    "        n = len(a)\n",
    "        if n < d: return -1\n",
    "        f = []\n",
    "        mx = -inf\n",
    "        for x in a:\n",
    "            mx = max(mx, x)\n",
    "            f.append(mx)\n",
    "        # f = list(accumulate(a, max))\n",
    "        for j in range(2, d + 1):\n",
    "            for i in range(n - 1, -1, -1):\n",
    "                mx = -inf\n",
    "                ans = inf\n",
    "                for k in range(i, j - 2, -1):\n",
    "                    mx = max(mx, a[k])\n",
    "                    ans = min(ans, mx + f[k - 1])\n",
    "                f[i] = ans\n",
    "        return f[n - 1]\n",
    "\n",
    "        # @lru_cache(None)\n",
    "        # def dfs(j, i): # 前i个分成j份 每份最大值的和 的最小值\n",
    "        #     if j == 1:\n",
    "        #         return max(a[:i + 1])\n",
    "        #     mx = -inf\n",
    "        #     ans = inf\n",
    "        #     for k in range(i, j - 2, -1): # k是最后一份起始位置\n",
    "        #         mx = max(mx, a[k])\n",
    "        #         ans = min(ans, mx + dfs(j - 1, k - 1))\n",
    "        #     return ans\n",
    "        # return dfs(d, n - 1)"
   ]
  }
 ],
 "metadata": {
  "language_info": {
   "name": "python"
  },
  "orig_nbformat": 4
 },
 "nbformat": 4,
 "nbformat_minor": 2
}
