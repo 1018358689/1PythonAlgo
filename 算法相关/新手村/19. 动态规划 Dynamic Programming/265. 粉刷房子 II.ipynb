{
 "cells": [
  {
   "cell_type": "code",
   "execution_count": 2,
   "metadata": {},
   "outputs": [
    {
     "name": "stdout",
     "output_type": "stream",
     "text": [
      "2 3\n"
     ]
    },
    {
     "data": {
      "text/plain": [
       "10"
      ]
     },
     "execution_count": 2,
     "metadata": {},
     "output_type": "execute_result"
    }
   ],
   "source": [
    "from math import inf\n",
    "from typing import List\n",
    "\n",
    "\n",
    "class Solution:\n",
    "\n",
    "    def minCostII(self, costs: List[List[int]]) -> int:\n",
    "        # dp[i][k] 粉刷前i个房子且最后一个特定颜色的最少费用\n",
    "        # dp[0][k] = 0\n",
    "        # dp[i][0] = min(dp[i-1][x]+costs[i-1][0])\n",
    "        n, k = len(costs), len(costs[0])\n",
    "        dp = [[inf] * k for _ in range(n + 1)]\n",
    "        for j in range(k):\n",
    "            dp[0][j] = 0\n",
    "        for i in range(1, n + 1):\n",
    "            for j in range(k):\n",
    "                for x in set(range(k)) - {j}:\n",
    "                    dp[i][j] = min(dp[i][j], dp[i - 1][x] + costs[i - 1][j])\n",
    "        return min(dp[-1])\n",
    "\n",
    "\n",
    "s = Solution()\n",
    "s.minCostII([[1, 5, 3], [2, 9, 4]])\n"
   ]
  },
  {
   "cell_type": "code",
   "execution_count": 8,
   "metadata": {},
   "outputs": [
    {
     "data": {
      "text/plain": [
       "4144959"
      ]
     },
     "execution_count": 8,
     "metadata": {},
     "output_type": "execute_result"
    }
   ],
   "source": [
    "0x3f3f3f"
   ]
  },
  {
   "cell_type": "code",
   "execution_count": null,
   "metadata": {},
   "outputs": [],
   "source": []
  }
 ],
 "metadata": {
  "kernelspec": {
   "display_name": "Python 3",
   "language": "python",
   "name": "python3"
  },
  "language_info": {
   "codemirror_mode": {
    "name": "ipython",
    "version": 3
   },
   "file_extension": ".py",
   "mimetype": "text/x-python",
   "name": "python",
   "nbconvert_exporter": "python",
   "pygments_lexer": "ipython3",
   "version": "3.10.5 (tags/v3.10.5:f377153, Jun  6 2022, 16:14:13) [MSC v.1929 64 bit (AMD64)]"
  },
  "orig_nbformat": 4,
  "vscode": {
   "interpreter": {
    "hash": "3196968d684371006099b3d55edeef8ed90365227a30deaef86e5d4aa8519be0"
   }
  }
 },
 "nbformat": 4,
 "nbformat_minor": 2
}
