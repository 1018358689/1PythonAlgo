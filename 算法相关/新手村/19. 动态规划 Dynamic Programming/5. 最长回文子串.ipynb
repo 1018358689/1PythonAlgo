{
 "cells": [
  {
   "cell_type": "code",
   "execution_count": 3,
   "metadata": {},
   "outputs": [
    {
     "data": {
      "text/plain": [
       "'bab'"
      ]
     },
     "execution_count": 3,
     "metadata": {},
     "output_type": "execute_result"
    }
   ],
   "source": [
    "# 616ms\n",
    "def f(s: str):\n",
    "    sz = len(s)\n",
    "\n",
    "    def extension(i, j):  # 以s[i] s[j]为中心的最长回文子串\n",
    "        while 0 <= i and j < sz and s[i] == s[j]:\n",
    "            i -= 1\n",
    "            j += 1\n",
    "        return s[i + 1:j]\n",
    "\n",
    "    ans = ''\n",
    "    for i in range(sz):\n",
    "        palindrome1 = extension(i, i)\n",
    "        palindrome2 = extension(i, i + 1)\n",
    "        ans = max(ans, palindrome1, palindrome2, key=len)\n",
    "    return ans\n",
    "\n",
    "\n",
    "f('babad')"
   ]
  },
  {
   "cell_type": "code",
   "execution_count": 9,
   "metadata": {},
   "outputs": [
    {
     "data": {
      "text/plain": [
       "'aba'"
      ]
     },
     "execution_count": 9,
     "metadata": {},
     "output_type": "execute_result"
    }
   ],
   "source": [
    "# 超时\n",
    "def f(s: str):\n",
    "    # dp[i][j] s[i:j]是否为回文子串\n",
    "    # i:[0,sz-1] j:[i+1,sz]\n",
    "    # dp[i][j] = j-i==1 or (j-i==2 and s[i]==s[j-1]) or (j-i>2 and s[i]==s[j-1] and dp[i+1][j-1])\n",
    "    # 一位字母True 两位字母要看是否相同 大于两位取决于首位是否相同和dp[i+1][j-1]\n",
    "    # 画图 i从上到下 j从左到右 可以发现[i][j]从[i+1][j-1]转移\n",
    "    sz = len(s)\n",
    "    dp = [[False] * (sz + 1) for _ in range(sz)]\n",
    "    ans = ''\n",
    "    for i in range(sz - 1, -1, -1):\n",
    "        for j in range(i + 1, sz + 1):\n",
    "            dp[i][j] = j - i == 1 or (j - i == 2 and s[i] == s[j - 1]) or (j - i > 2 and s[i] == s[j - 1] and dp[i + 1][j - 1])\n",
    "            if dp[i][j]:\n",
    "                ans = max(ans, s[i:j], key=len)\n",
    "    return ans\n",
    "\n",
    "\n",
    "f('babad')\n"
   ]
  },
  {
   "cell_type": "code",
   "execution_count": 11,
   "metadata": {},
   "outputs": [
    {
     "data": {
      "text/plain": [
       "'aba'"
      ]
     },
     "execution_count": 11,
     "metadata": {},
     "output_type": "execute_result"
    }
   ],
   "source": [
    "# 9300ms\n",
    "def f(s: str):\n",
    "    # dp[i][j] s[i:j]是否为回文子串\n",
    "    # i:[0,sz-1] j:[i+1,sz]\n",
    "    # dp[i][j] = j-i==1 or (j-i==2 and s[i]==s[j-1]) or (j-i>2 and s[i]==s[j-1] and dp[i+1][j-1])\n",
    "    # 一位字母True 两位字母要看是否相同 大于两位取决于首位是否相同和dp[i+1][j-1]\n",
    "    # 画图 i从上到下 j从左到右 可以发现[i][j]从[i+1][j-1]转移\n",
    "    sz = len(s)\n",
    "    dp = [[False] * (sz + 1) for _ in range(sz)]\n",
    "    start = end = 0\n",
    "    for i in range(sz - 1, -1, -1):\n",
    "        for j in range(i + 1, sz + 1):\n",
    "            dp[i][j] = j - i == 1 or (j - i == 2 and s[i] == s[j - 1]) or (j - i > 2 and s[i] == s[j - 1] and dp[i + 1][j - 1])\n",
    "            if dp[i][j] and j - i > end - start:\n",
    "                end, start = j, i\n",
    "    return s[start:end]\n",
    "\n",
    "\n",
    "f('babad')\n"
   ]
  },
  {
   "cell_type": "code",
   "execution_count": null,
   "metadata": {},
   "outputs": [],
   "source": []
  }
 ],
 "metadata": {
  "interpreter": {
   "hash": "aee8b7b246df8f9039afb4144a1f6fd8d2ca17a180786b69acc140d282b71a49"
  },
  "kernelspec": {
   "display_name": "Python 3.10.1 64-bit",
   "language": "python",
   "name": "python3"
  },
  "language_info": {
   "codemirror_mode": {
    "name": "ipython",
    "version": 3
   },
   "file_extension": ".py",
   "mimetype": "text/x-python",
   "name": "python",
   "nbconvert_exporter": "python",
   "pygments_lexer": "ipython3",
   "version": "3.10.1"
  },
  "orig_nbformat": 4
 },
 "nbformat": 4,
 "nbformat_minor": 2
}
