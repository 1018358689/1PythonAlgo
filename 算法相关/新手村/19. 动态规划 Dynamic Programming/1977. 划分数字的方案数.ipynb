{
 "cells": [
  {
   "cell_type": "code",
   "execution_count": null,
   "metadata": {},
   "outputs": [],
   "source": [
    "'''\n",
    "dp[i][j] 将长度为j的数字 分割成i段 保持非递减的方法数\n",
    "最后一步：分割出一个数字其长度为x 是num的后缀且比上一个分割数字大\n",
    "去掉最后一步：将长度为j-x的数字 分割成i-1段 保持非递减的方法数\n",
    "dp[i][j] += dp[i-1][j-x]\n",
    "'''"
   ]
  },
  {
   "cell_type": "code",
   "execution_count": 9,
   "metadata": {},
   "outputs": [
    {
     "data": {
      "text/plain": [
       "101"
      ]
     },
     "execution_count": 9,
     "metadata": {},
     "output_type": "execute_result"
    }
   ],
   "source": [
    "'''\n",
    "dp[i][j] 前i个数字 中最后一个数长度为j的方案数\n",
    "if num[i-j]=='0':dp[i][j]=0\n",
    "dp[i][j] = dp[i-j][k] num[i-j:i]>=num[i-j-k:i-j]且num[i-j-k:i-j]有效 否则为0\n",
    "'''\n",
    "\n",
    "\n",
    "class Solution:\n",
    "\n",
    "    def numberOfCombinations(self, num: str) -> int:\n",
    "        mod = 10**9 + 7\n",
    "        n = len(num)\n",
    "        dp = [[0] * (n + 1) for _ in range(n + 1)]\n",
    "        dp[0][0] = 1\n",
    "        for i in range(1, n + 1):\n",
    "            for j in range(1, i + 1):\n",
    "                # 前面数字长度短肯定满足\n",
    "                dp[i][j] = dp[i][j - 1]\n",
    "                add = 0\n",
    "                if num[i - j] != 0:\n",
    "                    if i - 2 * j >= 0 and num[i - j:i] >= num[i - 2 * j:i - j]:\n",
    "                        # 上一个数字长度也为j\n",
    "                        add = dp[i - j][j]\n",
    "                    else:\n",
    "                        # 长一个数字长度j-1或更小\n",
    "                        add = dp[i - j][min(j - 1, i - j)]\n",
    "                dp[i][j] = (dp[i][j] + add) % mod\n",
    "        return dp[-1][-1]\n",
    "\n",
    "\n",
    "s = Solution()\n",
    "s.numberOfCombinations('9999999999999')"
   ]
  }
 ],
 "metadata": {
  "kernelspec": {
   "display_name": "Python 3.10.6 64-bit",
   "language": "python",
   "name": "python3"
  },
  "language_info": {
   "codemirror_mode": {
    "name": "ipython",
    "version": 3
   },
   "file_extension": ".py",
   "mimetype": "text/x-python",
   "name": "python",
   "nbconvert_exporter": "python",
   "pygments_lexer": "ipython3",
   "version": "3.10.6"
  },
  "orig_nbformat": 4,
  "vscode": {
   "interpreter": {
    "hash": "916dbcbb3f70747c44a77c7bcd40155683ae19c65e1c03b4aa3499c5328201f1"
   }
  }
 },
 "nbformat": 4,
 "nbformat_minor": 2
}
