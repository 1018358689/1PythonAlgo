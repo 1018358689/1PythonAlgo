{
 "cells": [
  {
   "cell_type": "code",
   "execution_count": null,
   "metadata": {},
   "outputs": [],
   "source": [
    "from collections import defaultdict\n",
    "from typing import List\n",
    "\n",
    "\n",
    "class Solution:\n",
    "\n",
    "    def probabilityOfHeads(self, prob: List[float], target: int) -> float:\n",
    "        # dp[i][j] 代表前 i 个硬币出现 j 次朝上的概率，其中 j > i 时候是0\n",
    "        # dp[i][j] = dp[i-1][j]*(1-prob[i-1])+dp[i-1][j-1]*prob[i-1]\n",
    "        # dp[0][j] = 0\n",
    "        # dp[0][0] = 1\n",
    "        dp = defaultdict(lambda: defaultdict(lambda: 0))\n",
    "        dp[0][0] = 1\n",
    "        for i in range(1, len(prob) + 1):\n",
    "            for j in range(min(i + 1, target + 1)):\n",
    "                dp[i][j] = dp[i - 1][j] * (1 - prob[i - 1]) + dp[i - 1][j - 1] * prob[i - 1]\n",
    "        return dp[len(prob)][target]"
   ]
  }
 ],
 "metadata": {
  "language_info": {
   "name": "python"
  },
  "orig_nbformat": 4
 },
 "nbformat": 4,
 "nbformat_minor": 2
}
