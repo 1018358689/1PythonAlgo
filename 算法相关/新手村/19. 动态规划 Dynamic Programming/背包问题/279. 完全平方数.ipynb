{
 "cells": [
  {
   "cell_type": "code",
   "execution_count": 7,
   "metadata": {},
   "outputs": [
    {
     "data": {
      "text/plain": [
       "(3, 1)"
      ]
     },
     "execution_count": 7,
     "metadata": {},
     "output_type": "execute_result"
    }
   ],
   "source": [
    "# 超时\n",
    "def f(n: int):\n",
    "    # dp[i] 和为i的完全平方数最少数量\n",
    "    # i:[1:n]\n",
    "    # basecase dp[0] = 0\n",
    "    # 完全背包\n",
    "    dp = [float('inf')] * (n + 1)\n",
    "    dp[0] = 0\n",
    "    for i in range(1, n + 1):\n",
    "        for j in range(1, i+1):\n",
    "            cur = j**2\n",
    "            if i - cur < 0:\n",
    "                break\n",
    "            dp[i] = min(dp[i], dp[i - cur] + 1)\n",
    "    return dp[-1]\n",
    "\n",
    "\n",
    "f(12),f(1)"
   ]
  },
  {
   "cell_type": "code",
   "execution_count": 12,
   "metadata": {},
   "outputs": [
    {
     "data": {
      "text/plain": [
       "(3, 1, 2)"
      ]
     },
     "execution_count": 12,
     "metadata": {},
     "output_type": "execute_result"
    }
   ],
   "source": [
    "def f(n: int):\n",
    "    # dp[i] 和为i的完全平方数最少数量\n",
    "    # i:[1:n]\n",
    "    # basecase dp[0] = 0\n",
    "    # 完全背包\n",
    "    dp = [float('inf')] * (n + 1)\n",
    "    dp[0] = 0\n",
    "    for i in range(1, n + 1):\n",
    "        for j in range(1, int(i**.5)+1):\n",
    "            cur = j**2\n",
    "            dp[i] = min(dp[i], dp[i - cur] + 1)\n",
    "    return dp[-1]\n",
    "\n",
    "\n",
    "f(12),f(1),f(4586)"
   ]
  },
  {
   "cell_type": "code",
   "execution_count": null,
   "metadata": {},
   "outputs": [],
   "source": []
  }
 ],
 "metadata": {
  "interpreter": {
   "hash": "a5f34674cfcc9b13426a2d112c686bc132e4ef443f1487e707e7c3787d6bcf89"
  },
  "kernelspec": {
   "display_name": "Python 3.10.4 64-bit (windows store)",
   "language": "python",
   "name": "python3"
  },
  "language_info": {
   "codemirror_mode": {
    "name": "ipython",
    "version": 3
   },
   "file_extension": ".py",
   "mimetype": "text/x-python",
   "name": "python",
   "nbconvert_exporter": "python",
   "pygments_lexer": "ipython3",
   "version": "3.10.4"
  },
  "orig_nbformat": 4
 },
 "nbformat": 4,
 "nbformat_minor": 2
}
