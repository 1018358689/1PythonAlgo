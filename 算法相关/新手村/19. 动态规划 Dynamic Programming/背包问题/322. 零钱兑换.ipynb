{
 "cells": [
  {
   "cell_type": "code",
   "execution_count": 9,
   "metadata": {},
   "outputs": [
    {
     "data": {
      "text/plain": [
       "(3, -1)"
      ]
     },
     "execution_count": 9,
     "metadata": {},
     "output_type": "execute_result"
    }
   ],
   "source": [
    "def f(coins: list, amount: int) -> int:\n",
    "    # dp[i] 凑成i的最少硬币数 i:[0,amount]\n",
    "    # 状态i 可以由 i-coins 转移\n",
    "    # basecase dp[0] = 0\n",
    "    dp = [float('inf')] * (amount + 1)\n",
    "    dp[0] = 0\n",
    "    for i in range(1, amount + 1):\n",
    "        for c in coins:\n",
    "            if i - c >= 0:\n",
    "                dp[i] = min(dp[i], dp[i - c] + 1)\n",
    "    return dp[-1] if dp[-1] != float('inf') else -1\n",
    "\n",
    "f([1, 2, 5], 11), f([2], 3)\n"
   ]
  },
  {
   "cell_type": "code",
   "execution_count": 8,
   "metadata": {},
   "outputs": [
    {
     "data": {
      "text/plain": [
       "(3, -1)"
      ]
     },
     "execution_count": 8,
     "metadata": {},
     "output_type": "execute_result"
    }
   ],
   "source": [
    "def f(coins: list, amount: int) -> int:\n",
    "    # dp[i] 凑成i的最少硬币数 i:[0,amount]\n",
    "    # 状态i 可以由 i-coins 转移\n",
    "    # basecase dp[0] = 0\n",
    "    dp = [float('inf')] * (amount + 1)\n",
    "    dp[0] = 0\n",
    "    for c in coins:\n",
    "        for i in range(c, amount + 1):\n",
    "            dp[i] = min(dp[i], dp[i - c] + 1)\n",
    "    return dp[-1] if dp[-1] != float('inf') else -1\n",
    "\n",
    "\n",
    "f([1, 2, 5], 11), f([2], 3)\n"
   ]
  },
  {
   "cell_type": "code",
   "execution_count": 6,
   "metadata": {},
   "outputs": [
    {
     "data": {
      "text/plain": [
       "(3, 0)"
      ]
     },
     "execution_count": 6,
     "metadata": {},
     "output_type": "execute_result"
    }
   ],
   "source": [
    "# https://leetcode-cn.com/problems/coin-change/solution/dong-tai-gui-hua-bei-bao-wen-ti-zhan-zai-3265/\n",
    "def f(coins: list, amount: int) -> int:\n",
    "    # dp[i][j] 用i个硬币凑j金额的最少金币数 i:[0,len(coins)] j:[0,amount]\n",
    "    # dp[i][j] = dp[i-1][j]+dp[i][j-curCoin[i]]\n",
    "    # basecase dp[0][j]=float('inf') dp[i][0]=0\n",
    "    dp = [[0] * (amount + 1) for _ in range(len(coins) + 1)]\n",
    "    for j in range(amount + 1):\n",
    "        dp[0][j] = float('inf')\n",
    "    for i in range(len(coins) + 1):\n",
    "        dp[i][0] = 0\n",
    "    for i in range(1, len(coins) + 1):\n",
    "        curCoin = coins[i - 1]\n",
    "        for j in range(1, amount + 1):\n",
    "            if curCoin > j:\n",
    "                dp[i][j] = dp[i - 1][j]\n",
    "            else:\n",
    "                dp[i][j] = min(dp[i - 1][j], dp[i][j - curCoin] + 1)\n",
    "    return dp[-1][-1] if dp[-1][-1] != float('inf') else -1\n",
    "\n",
    "\n",
    "f([1, 2, 5], 11), f([2], 3)\n"
   ]
  },
  {
   "cell_type": "code",
   "execution_count": null,
   "metadata": {},
   "outputs": [],
   "source": []
  }
 ],
 "metadata": {
  "interpreter": {
   "hash": "aee8b7b246df8f9039afb4144a1f6fd8d2ca17a180786b69acc140d282b71a49"
  },
  "kernelspec": {
   "display_name": "Python 3.10.1 64-bit",
   "language": "python",
   "name": "python3"
  },
  "language_info": {
   "codemirror_mode": {
    "name": "ipython",
    "version": 3
   },
   "file_extension": ".py",
   "mimetype": "text/x-python",
   "name": "python",
   "nbconvert_exporter": "python",
   "pygments_lexer": "ipython3",
   "version": "3.10.1"
  },
  "orig_nbformat": 4
 },
 "nbformat": 4,
 "nbformat_minor": 2
}
