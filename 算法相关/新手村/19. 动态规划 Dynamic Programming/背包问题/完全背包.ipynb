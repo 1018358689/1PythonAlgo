{
 "cells": [
  {
   "cell_type": "markdown",
   "metadata": {},
   "source": [
    "有一个背包，最大容量为W，有一系列物品wt，每个物品的重量为wt[i]，每个物品的数量无限。请问有多少种方法，能够把背包恰好装满？\n",
    "\n",
    "举个简单的例子，输入如下：\n",
    "\n",
    "W = 5, wt = [1,2,5]\n",
    "算法返回 4\n",
    "1,1,1,1,1\n",
    "1,1,1,2\n",
    "1,2,2\n",
    "5\n"
   ]
  },
  {
   "cell_type": "code",
   "execution_count": 1,
   "metadata": {},
   "outputs": [
    {
     "data": {
      "text/plain": [
       "4"
      ]
     },
     "execution_count": 1,
     "metadata": {},
     "output_type": "execute_result"
    }
   ],
   "source": [
    "# dp[i][j] 用前i个硬币塞满容量W的背包的方法数 [0,len(wt)] [0,W] -> dp[len(wt)][W]\n",
    "# basecase 0个硬币 方法数为0  背包容量为0 不用塞就行 方法数为1\n",
    "def f(W, wt):\n",
    "    dp = [[0] * (W + 1) for _ in range(len(wt) + 1)]\n",
    "    # basecase\n",
    "    for j in range(W + 1):\n",
    "        dp[0][j] = 0\n",
    "    for i in range(len(wt) + 1):\n",
    "        dp[i][0] = 1\n",
    "    # dp = dp[i - 1][j] + dp[i][j - curW]\n",
    "    for i in range(1, len(wt) + 1):\n",
    "        curW = wt[i - 1]\n",
    "        for j in range(1, W + 1):\n",
    "            if curW > j: # 当前硬币比背包还大 只能不使用它\n",
    "                dp[i][j] = dp[i - 1][j] # 使用i-1个硬币装满背包j的方法数\n",
    "            else:# 当前硬币比背包小 那么方法数为 用该硬币和不用该硬币的方法数之和\n",
    "                dp[i][j] = dp[i - 1][j] + dp[i][j - curW] # 后者表示 用i个硬币并使用curW塞满j的方法数=用i个硬币把i-curW塞满的方法数 完全背包就体现在这里\n",
    "    return dp[-1][-1]\n",
    "\n",
    "\n",
    "f(5, [1, 2, 5])\n"
   ]
  },
  {
   "cell_type": "code",
   "execution_count": null,
   "metadata": {},
   "outputs": [],
   "source": []
  }
 ],
 "metadata": {
  "interpreter": {
   "hash": "aee8b7b246df8f9039afb4144a1f6fd8d2ca17a180786b69acc140d282b71a49"
  },
  "kernelspec": {
   "display_name": "Python 3.10.2 64-bit",
   "language": "python",
   "name": "python3"
  },
  "language_info": {
   "codemirror_mode": {
    "name": "ipython",
    "version": 3
   },
   "file_extension": ".py",
   "mimetype": "text/x-python",
   "name": "python",
   "nbconvert_exporter": "python",
   "pygments_lexer": "ipython3",
   "version": "3.10.4"
  },
  "orig_nbformat": 4
 },
 "nbformat": 4,
 "nbformat_minor": 2
}
