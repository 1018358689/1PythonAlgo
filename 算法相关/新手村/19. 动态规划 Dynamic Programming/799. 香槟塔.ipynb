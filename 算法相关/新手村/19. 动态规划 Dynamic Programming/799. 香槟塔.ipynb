{
 "cells": [
  {
   "cell_type": "code",
   "execution_count": 8,
   "metadata": {},
   "outputs": [
    {
     "data": {
      "text/plain": [
       "0.1875"
      ]
     },
     "execution_count": 8,
     "metadata": {},
     "output_type": "execute_result"
    }
   ],
   "source": [
    "from collections import defaultdict\n",
    "\n",
    "\n",
    "class Solution:\n",
    "\n",
    "    def champagneTower(self, poured: int, query_row: int, query_glass: int) -> float:\n",
    "        # dp[i][j] ij索引的香槟数量\n",
    "        # dp[i][j] = (dp[i-1][j-1]-1)/2+(dp[i-1][j]-1)/2\n",
    "        # dp[0][0] = poured\n",
    "        dp = defaultdict(lambda: defaultdict(int))\n",
    "        dp[0][0] = poured\n",
    "        for i in range(1, query_row + 1):\n",
    "            for j in range(i + 1):\n",
    "                if j - 1 >= 0 and dp[i - 1][j - 1] > 1:\n",
    "                    dp[i][j] += (dp[i - 1][j - 1] - 1) / 2\n",
    "                if j <= i - 1 and dp[i - 1][j] > 1:\n",
    "                    dp[i][j] += (dp[i - 1][j] - 1) / 2\n",
    "        return min(dp[query_row][query_glass], 1)\n",
    "\n",
    "\n",
    "s = Solution()\n",
    "s.champagneTower(25, 6, 1)\n"
   ]
  }
 ],
 "metadata": {
  "kernelspec": {
   "display_name": "Python 3.10.6 64-bit",
   "language": "python",
   "name": "python3"
  },
  "language_info": {
   "codemirror_mode": {
    "name": "ipython",
    "version": 3
   },
   "file_extension": ".py",
   "mimetype": "text/x-python",
   "name": "python",
   "nbconvert_exporter": "python",
   "pygments_lexer": "ipython3",
   "version": "3.10.6"
  },
  "orig_nbformat": 4,
  "vscode": {
   "interpreter": {
    "hash": "916dbcbb3f70747c44a77c7bcd40155683ae19c65e1c03b4aa3499c5328201f1"
   }
  }
 },
 "nbformat": 4,
 "nbformat_minor": 2
}
