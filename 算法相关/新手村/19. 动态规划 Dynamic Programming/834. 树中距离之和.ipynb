{
 "cells": [
  {
   "cell_type": "code",
   "execution_count": null,
   "metadata": {},
   "outputs": [],
   "source": [
    "from functools import lru_cache\n",
    "from typing import List\n",
    "\n",
    "\n",
    "class Solution:\n",
    "\n",
    "    def sumOfDistancesInTree(self, n: int, edges: List[List[int]]) -> List[int]:\n",
    "        # 1.建图\n",
    "        adj = [[] for _ in range(n)]\n",
    "        for x, y in edges:\n",
    "            adj[x].append(y)\n",
    "            adj[y].append(x)\n",
    "        # 2.dp\n",
    "        @lru_cache(None)\n",
    "        def dfs(x, fa):  # 以x为根到各节点之和 和节点数\n",
    "            total, cnt = 0, 0\n",
    "            for y in adj[x]:\n",
    "                if y != fa:\n",
    "                    ts, cs = dfs(y, x)\n",
    "                    total += ts\n",
    "                    cnt += cs\n",
    "            return total + cnt, cnt + 1  # x为根到各节点之和=各子问题和+子节点数\n",
    "\n",
    "        return [dfs(x, -1)[0] for x in range(n)]\n"
   ]
  }
 ],
 "metadata": {
  "language_info": {
   "name": "python"
  },
  "orig_nbformat": 4
 },
 "nbformat": 4,
 "nbformat_minor": 2
}
