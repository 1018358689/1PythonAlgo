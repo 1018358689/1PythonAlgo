{
 "cells": [
  {
   "cell_type": "code",
   "execution_count": 1,
   "metadata": {},
   "outputs": [],
   "source": [
    "from typing import List\n",
    "class Solution:\n",
    "    def findLengthOfLCIS(self, nums: List[int]) -> int:\n",
    "        ans = 1\n",
    "        l = 0\n",
    "        pre = float('inf')\n",
    "        for r in range(len(nums)):\n",
    "            if nums[r]<=pre:\n",
    "                l = r\n",
    "            else:\n",
    "                ans = max(ans,r-l+1)\n",
    "            pre = nums[r]\n",
    "        return ans"
   ]
  },
  {
   "cell_type": "code",
   "execution_count": null,
   "metadata": {},
   "outputs": [],
   "source": [
    "from typing import List\n",
    "\n",
    "\n",
    "class Solution:\n",
    "    def findLengthOfLCIS(self, nums: List[int]) -> int:\n",
    "        # dp[i] 以nums[i]结尾的最长连续递增序列长度\n",
    "        dp = [1] * len(nums)\n",
    "        ans = 1\n",
    "        for i in range(1, len(nums)):\n",
    "            if nums[i] > nums[i - 1]:\n",
    "                dp[i] = dp[i - 1] + 1\n",
    "                ans = max(ans, dp[i])\n",
    "        return ans"
   ]
  }
 ],
 "metadata": {
  "kernelspec": {
   "display_name": "Python 3.8.10 64-bit",
   "language": "python",
   "name": "python3"
  },
  "language_info": {
   "codemirror_mode": {
    "name": "ipython",
    "version": 3
   },
   "file_extension": ".py",
   "mimetype": "text/x-python",
   "name": "python",
   "nbconvert_exporter": "python",
   "pygments_lexer": "ipython3",
   "version": "3.8.10"
  },
  "orig_nbformat": 4,
  "vscode": {
   "interpreter": {
    "hash": "570feb405e2e27c949193ac68f46852414290d515b0ba6e5d90d076ed2284471"
   }
  }
 },
 "nbformat": 4,
 "nbformat_minor": 2
}
