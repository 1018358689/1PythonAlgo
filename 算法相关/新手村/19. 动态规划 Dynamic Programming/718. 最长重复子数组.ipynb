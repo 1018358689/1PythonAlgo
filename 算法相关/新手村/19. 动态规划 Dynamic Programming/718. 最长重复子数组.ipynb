{
 "cells": [
  {
   "cell_type": "code",
   "execution_count": 2,
   "metadata": {},
   "outputs": [
    {
     "data": {
      "text/plain": [
       "3"
      ]
     },
     "execution_count": 2,
     "metadata": {},
     "output_type": "execute_result"
    }
   ],
   "source": [
    "from typing import List\n",
    "\n",
    "\n",
    "class Solution:\n",
    "\n",
    "    def findLength(self, nums1: List[int], nums2: List[int]) -> int:\n",
    "        # dp[i][j] 以nums1[i]和nums2[j]结尾的最长公共子串长度\n",
    "        # dp[i][j] if nums[i]==nums[j]:=dp[i-1][j-1]+1 0\n",
    "        # dp[0][j] dp[i][0]\n",
    "        dp = [[0] * len(nums2) for _ in range(len(nums1))]\n",
    "        for i in range(len(nums1)):\n",
    "            if nums1[i] == nums2[0]:\n",
    "                dp[i][0] = 1\n",
    "        for j in range(len(nums2)):\n",
    "            if nums2[j] == nums1[0]:\n",
    "                dp[0][j] = 1\n",
    "        for i in range(1, len(nums1)):\n",
    "            for j in range(1, len(nums2)):\n",
    "                if nums1[i] == nums2[j]:\n",
    "                    dp[i][j] = dp[i - 1][j - 1] + 1\n",
    "        return max(max(dp[i]) for i in range(len(nums1)))\n",
    "\n",
    "\n",
    "s = Solution()\n",
    "s.findLength([1, 2, 3, 2, 1], [3, 2, 1, 4, 7])\n"
   ]
  },
  {
   "cell_type": "code",
   "execution_count": null,
   "metadata": {},
   "outputs": [],
   "source": [
    "class Solution:\n",
    "\n",
    "    def findLength(self, nums1: List[int], nums2: List[int]) -> int:\n",
    "        nums1 = list(map(str, nums1))\n",
    "        n = len(nums1)\n",
    "        nums2 = '#' + '#'.join(map(str, nums2)) + '#'\n",
    "\n",
    "        # print(nums1,nums2)\n",
    "        def check(d):  # 长度d可能公共吗\n",
    "            if d == 0:\n",
    "                return True\n",
    "            for i in range(n - d + 1):\n",
    "                # print(d,'#'+'#'.join(nums1[i:i+d])+'#')\n",
    "                if '#' + '#'.join(nums1[i:i + d]) + '#' in nums2:\n",
    "                    # print(d,nums1)\n",
    "                    return True\n",
    "            return False\n",
    "\n",
    "        l, r = 0, min(len(nums1), len(nums2))\n",
    "        while l <= r:\n",
    "            m = l + r >> 1\n",
    "            if check(m):\n",
    "                l = m + 1\n",
    "            else:\n",
    "                r = m - 1\n",
    "        return r"
   ]
  }
 ],
 "metadata": {
  "interpreter": {
   "hash": "97367d2de1780ea7c502b529f25888c1b53c0430a7611816b6c7cf19d8435228"
  },
  "kernelspec": {
   "display_name": "Python 3.10.4 64-bit (windows store)",
   "language": "python",
   "name": "python3"
  },
  "language_info": {
   "codemirror_mode": {
    "name": "ipython",
    "version": 3
   },
   "file_extension": ".py",
   "mimetype": "text/x-python",
   "name": "python",
   "nbconvert_exporter": "python",
   "pygments_lexer": "ipython3",
   "version": "3.10.4"
  },
  "orig_nbformat": 4
 },
 "nbformat": 4,
 "nbformat_minor": 2
}
