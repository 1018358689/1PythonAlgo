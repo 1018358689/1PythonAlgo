{
 "cells": [
  {
   "cell_type": "markdown",
   "metadata": {},
   "source": [
    "# https://leetcode.cn/problems/VdG6tT/\n",
    "简化版题目含义：给定长度为n的数组，以及数字k，把数组分成连续的k部分，每一份的分数等于子数组的和乘上长度，求数组总分最小值"
   ]
  },
  {
   "cell_type": "code",
   "execution_count": null,
   "metadata": {},
   "outputs": [],
   "source": [
    "def f(n:int,k:int,arr:list):\n",
    "    # dp[i][j] i个数字分成j组的最优总分\n",
    "    # i:[1,n] j:[1,k]\n",
    "    # dp[i][j] = dp[i-1][j-1]+arr[i-1],dp[i-1][j]"
   ]
  }
 ],
 "metadata": {
  "interpreter": {
   "hash": "97367d2de1780ea7c502b529f25888c1b53c0430a7611816b6c7cf19d8435228"
  },
  "kernelspec": {
   "display_name": "Python 3.10.4 64-bit (windows store)",
   "language": "python",
   "name": "python3"
  },
  "language_info": {
   "name": "python",
   "version": "3.10.4"
  },
  "orig_nbformat": 4
 },
 "nbformat": 4,
 "nbformat_minor": 2
}
