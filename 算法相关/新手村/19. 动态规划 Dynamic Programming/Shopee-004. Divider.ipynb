{
 "cells": [
  {
   "cell_type": "markdown",
   "metadata": {},
   "source": [
    "# https://leetcode.cn/problems/VdG6tT/\n",
    "简化版题目含义：给定长度为n的数组，以及数字k，把数组分成连续的k部分，每一份的分数等于子数组的和乘上长度，求数组总分最小值"
   ]
  },
  {
   "cell_type": "code",
   "execution_count": null,
   "metadata": {},
   "outputs": [],
   "source": [
    "def f(n:int,k:int,arr:list):\n",
    "    # dp[i][j] i个数字分成j组的最优总分\n",
    "    # i:[1,n] j:[1,k]\n",
    "    # dp[i][j] = dp[i-1][j-1]+arr[i-1],dp[i-1][j]"
   ]
  }
 ],
 "metadata": {
  "kernelspec": {
   "display_name": "Python 3.10.5 64-bit",
   "language": "python",
   "name": "python3"
  },
  "language_info": {
   "name": "python",
   "version": "3.10.5"
  },
  "orig_nbformat": 4,
  "vscode": {
   "interpreter": {
    "hash": "3196968d684371006099b3d55edeef8ed90365227a30deaef86e5d4aa8519be0"
   }
  }
 },
 "nbformat": 4,
 "nbformat_minor": 2
}
