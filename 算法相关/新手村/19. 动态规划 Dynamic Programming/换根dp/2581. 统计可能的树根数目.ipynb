{
 "cells": [
  {
   "cell_type": "code",
   "execution_count": null,
   "metadata": {},
   "outputs": [],
   "source": [
    "from typing import List\n",
    "\n",
    "\n",
    "class Solution:\n",
    "\n",
    "    def rootCount(self, edges: List[List[int]], guesses: List[List[int]], k: int) -> int:\n",
    "        n = len(edges) + 1\n",
    "        adj = [[] for _ in range(n)]\n",
    "        for x, y in edges:\n",
    "            adj[x].append(y)\n",
    "            adj[y].append(x)\n",
    "        cnt0 = 0\n",
    "\n",
    "        guesses = {(x, y) for x, y in guesses}\n",
    "\n",
    "        def dfs(x, fa):\n",
    "            nonlocal cnt0\n",
    "            for y in adj[x]:\n",
    "                if y != fa:\n",
    "                    cnt0 += ((x, y) in guesses)\n",
    "                    dfs(y, x)\n",
    "\n",
    "        dfs(0, -1)\n",
    "        ans = 0\n",
    "\n",
    "        def reroot(x, fa, cnt):\n",
    "            nonlocal ans\n",
    "            if cnt >= k:\n",
    "                ans += 1\n",
    "            for y in adj[x]:\n",
    "                if y != fa:\n",
    "                    reroot(y, x, cnt - ((x, y) in guesses) + ((y, x) in guesses))\n",
    "\n",
    "        reroot(0, -1, cnt0)\n",
    "        return ans"
   ]
  },
  {
   "cell_type": "code",
   "execution_count": null,
   "metadata": {},
   "outputs": [],
   "source": [
    "from functools import lru_cache\n",
    "from typing import List\n",
    "\n",
    "\n",
    "class Solution:\n",
    "\n",
    "    def rootCount(self, edges: List[List[int]], guesses: List[List[int]], k: int) -> int:\n",
    "        n = len(edges) + 1\n",
    "        adj = [[] for _ in range(n)]\n",
    "        for x, y in edges:\n",
    "            adj[x].append(y)\n",
    "            adj[y].append(x)\n",
    "            \n",
    "        guesses = {(x, y) for x, y in guesses}\n",
    "\n",
    "        @lru_cache(None)\n",
    "        def dfs(x, fa):\n",
    "            ans = 0\n",
    "            for y in adj[x]:\n",
    "                if y != fa:\n",
    "                    ans += ((x, y) in guesses) + dfs(y, x)\n",
    "            return ans\n",
    "\n",
    "        return sum(dfs(x, -1) >= k for x in range(n))\n"
   ]
  }
 ],
 "metadata": {
  "language_info": {
   "name": "python"
  },
  "orig_nbformat": 4
 },
 "nbformat": 4,
 "nbformat_minor": 2
}
