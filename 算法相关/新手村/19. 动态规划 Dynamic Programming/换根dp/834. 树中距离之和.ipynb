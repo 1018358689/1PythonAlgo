{
 "cells": [
  {
   "cell_type": "code",
   "execution_count": 1,
   "metadata": {},
   "outputs": [],
   "source": [
    "from typing import List\n",
    "\n",
    "\n",
    "class Solution:\n",
    "\n",
    "    def sumOfDistancesInTree(self, n: int, edges: List[List[int]]) -> List[int]:\n",
    "        adj = [[] for _ in range(n)]\n",
    "        for x, y in edges:\n",
    "            adj[x].append(y)\n",
    "            adj[y].append(x)\n",
    "        chils = [0] * n\n",
    "        s0 = 0\n",
    "\n",
    "        def dfs(x, fa, d):  # 返回子节点数(含自己)\n",
    "            nonlocal s0\n",
    "            cnt = 1\n",
    "            for y in adj[x]:\n",
    "                if y != fa:\n",
    "                    s0 += d + 1\n",
    "                    cnt += dfs(y, x, d + 1)\n",
    "            chils[x] = cnt\n",
    "            return cnt\n",
    "\n",
    "        dfs(0, -1, 0)\n",
    "\n",
    "        # A2 = A0 - (C2 - 1) + (N - C2 - 1)\n",
    "        # A2 = A0 + N - 2 * C2\n",
    "\n",
    "        ans = [0] * n\n",
    "\n",
    "        def reroot(x, fa, s):\n",
    "            ans[x] = s\n",
    "            for y in adj[x]:\n",
    "                if y != fa:\n",
    "                    reroot(y, x, s + n - 2 * chils[y])\n",
    "\n",
    "        reroot(0, -1, s0)\n",
    "        return ans\n"
   ]
  },
  {
   "cell_type": "code",
   "execution_count": null,
   "metadata": {},
   "outputs": [],
   "source": [
    "from functools import lru_cache\n",
    "\n",
    "\n",
    "class Solution:\n",
    "\n",
    "    def sumOfDistancesInTree(self, n: int, edges: List[List[int]]) -> List[int]:\n",
    "        # 1.建图\n",
    "        adj = [[] for _ in range(n)]\n",
    "        for x, y in edges:\n",
    "            adj[x].append(y)\n",
    "            adj[y].append(x)\n",
    "        # 2.dp\n",
    "        @lru_cache(None)\n",
    "        def dfs(x, fa):  # 以x为根到各节点之和 和节点数\n",
    "            total, cnt = 0, 0\n",
    "            for y in adj[x]:\n",
    "                if y != fa:\n",
    "                    ts, cs = dfs(y, x)\n",
    "                    total += ts\n",
    "                    cnt += cs\n",
    "            return total + cnt, cnt + 1  # x为根到各节点之和=各子问题和+子节点数\n",
    "\n",
    "        return [dfs(x, -1)[0] for x in range(n)]"
   ]
  }
 ],
 "metadata": {
  "kernelspec": {
   "display_name": "Python 3",
   "language": "python",
   "name": "python3"
  },
  "language_info": {
   "codemirror_mode": {
    "name": "ipython",
    "version": 3
   },
   "file_extension": ".py",
   "mimetype": "text/x-python",
   "name": "python",
   "nbconvert_exporter": "python",
   "pygments_lexer": "ipython3",
   "version": "3.10.5"
  },
  "orig_nbformat": 4
 },
 "nbformat": 4,
 "nbformat_minor": 2
}
