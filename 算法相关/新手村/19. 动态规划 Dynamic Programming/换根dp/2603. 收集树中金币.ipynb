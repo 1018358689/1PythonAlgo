{
 "cells": [
  {
   "cell_type": "code",
   "execution_count": 6,
   "metadata": {},
   "outputs": [
    {
     "data": {
      "text/plain": [
       "0"
      ]
     },
     "execution_count": 6,
     "metadata": {},
     "output_type": "execute_result"
    }
   ],
   "source": [
    "a = 7\n",
    "a -= 5 + 2\n",
    "a"
   ]
  },
  {
   "cell_type": "code",
   "execution_count": null,
   "metadata": {},
   "outputs": [],
   "source": [
    "class Solution:\n",
    "\n",
    "    def collectTheCoins(self, coins: List[int], edges: List[List[int]]) -> int:\n",
    "        n = len(coins)\n",
    "        adj = [[] for _ in range(n)]\n",
    "        for x, y in edges:\n",
    "            adj[x].append(y)\n",
    "            adj[y].append(x)\n",
    "        cnts = [[0] * 3 for _ in range(n)]  # [i][0/1/2]以i为根的子树 距离为0,1,>=2的金币数目\n",
    "\n",
    "        def dfs0(x, fa):  # 以x为根（子树）收集所有金币经过的最少边数\n",
    "            # dfs0(x, fa) = sum(sub) + (2 if cnts[y][2] > 0)\n",
    "            res = 0\n",
    "            cnts[x][0] = coins[x]\n",
    "            for y in adj[x]:\n",
    "                if y != fa:\n",
    "                    sub = dfs0(y, x)\n",
    "                    res += sub\n",
    "                    if cnts[y][2] > 0:\n",
    "                        res += 2  # 需要从x走到y再回到x\n",
    "                    cnts[x][1] += cnts[y][0]\n",
    "                    cnts[x][2] += cnts[y][1] + cnts[y][2]\n",
    "            return res\n",
    "\n",
    "        ans = dfs0(0, -1)\n",
    "\n",
    "        def change(x, y):  # x -> y\n",
    "            cnts[x][1] -= coins[y]\n",
    "            cnts[x][2] -= cnts[y][1] + cnts[y][2]\n",
    "            cnts[y][1] += coins[x]\n",
    "            cnts[y][2] += cnts[x][1] + cnts[x][2]\n",
    "\n",
    "        def reroot(x, fa, cnt):\n",
    "            nonlocal ans\n"
   ]
  }
 ],
 "metadata": {
  "kernelspec": {
   "display_name": "Python 3",
   "language": "python",
   "name": "python3"
  },
  "language_info": {
   "codemirror_mode": {
    "name": "ipython",
    "version": 3
   },
   "file_extension": ".py",
   "mimetype": "text/x-python",
   "name": "python",
   "nbconvert_exporter": "python",
   "pygments_lexer": "ipython3",
   "version": "3.10.5"
  },
  "orig_nbformat": 4
 },
 "nbformat": 4,
 "nbformat_minor": 2
}
