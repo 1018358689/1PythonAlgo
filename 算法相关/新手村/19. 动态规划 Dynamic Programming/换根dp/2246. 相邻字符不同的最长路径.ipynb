{
 "cells": [
  {
   "cell_type": "code",
   "execution_count": null,
   "metadata": {},
   "outputs": [],
   "source": [
    "class Solution:\n",
    "\n",
    "    def longestPath(self, parent: List[int], s: str) -> int:\n",
    "        n = len(s)\n",
    "        adj = [[] for _ in range(n)]\n",
    "        for x in range(1, n):\n",
    "            adj[parent[x]].append(x)\n",
    "        ans = 0\n",
    "\n",
    "        def dfs(x):  # x为根树的最大深度 边数\n",
    "            mx1 = mx2 = 0\n",
    "            for y in adj[x]:\n",
    "                mx = dfs(y) + 1\n",
    "                if s[y] != s[x]:\n",
    "                    if mx > mx1:\n",
    "                        mx1, mx2 = mx, mx1\n",
    "                    elif mx > mx2:\n",
    "                        mx2 = mx\n",
    "            nonlocal ans\n",
    "            ans = max(ans, mx1 + mx2 + 1)  # 求的是点个数 要+1\n",
    "            return mx1\n",
    "\n",
    "        dfs(0)\n",
    "        return ans"
   ]
  },
  {
   "cell_type": "code",
   "execution_count": null,
   "metadata": {},
   "outputs": [],
   "source": [
    "class Solution:\n",
    "\n",
    "    def longestPath(self, parent: List[int], s: str) -> int:\n",
    "        n = len(parent)\n",
    "        adj = [[] for _ in range(n)]\n",
    "        for i, x in enumerate(parent[1:], 1):\n",
    "            adj[x].append(i)\n",
    "\n",
    "        ans = 0\n",
    "\n",
    "        def dfs(x, fa):  # 以x为根 往下\"任意一对相邻节点都没有分配到相同字符的\" 最长路径(边数)\n",
    "            fir = sec = 0\n",
    "            for y in adj[x]:\n",
    "                if y == fa: continue\n",
    "                sub = dfs(y, x) + 1\n",
    "                if s[y] == s[x]: continue  # 这个要放dfs后续判断 放前序会丢掉子树判断\n",
    "                if sub > fir:\n",
    "                    fir, sec = sub, fir\n",
    "                elif sub > sec:\n",
    "                    sec = sub\n",
    "            nonlocal ans\n",
    "            ans = max(ans, fir + sec + 1)  # 边数变点数\n",
    "            return fir\n",
    "\n",
    "        dfs(0, -1)\n",
    "        return ans"
   ]
  }
 ],
 "metadata": {
  "language_info": {
   "name": "python"
  },
  "orig_nbformat": 4
 },
 "nbformat": 4,
 "nbformat_minor": 2
}
