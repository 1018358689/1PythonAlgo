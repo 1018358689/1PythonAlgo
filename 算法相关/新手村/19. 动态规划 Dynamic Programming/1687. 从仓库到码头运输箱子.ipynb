{
 "cells": [
  {
   "cell_type": "code",
   "execution_count": 4,
   "metadata": {},
   "outputs": [
    {
     "data": {
      "text/plain": [
       "1"
      ]
     },
     "execution_count": 4,
     "metadata": {},
     "output_type": "execute_result"
    }
   ],
   "source": [
    "1 + (2 == 3)\n"
   ]
  },
  {
   "cell_type": "code",
   "execution_count": 9,
   "metadata": {},
   "outputs": [
    {
     "data": {
      "text/plain": [
       "4"
      ]
     },
     "execution_count": 9,
     "metadata": {},
     "output_type": "execute_result"
    }
   ],
   "source": [
    "from itertools import pairwise\n",
    "from math import inf\n",
    "from typing import List\n",
    "\n",
    "\n",
    "class Solution:\n",
    "\n",
    "    def boxDelivering(self, boxes: List[List[int]], portsCount: int, maxBoxes: int, maxWeight: int) -> int:\n",
    "        # dp[i] 前i个箱子运到对应码头的行程数\n",
    "        # dp[i] = min(dp[j]+cost(j,i-1)) # 前j个子问题+最后一趟将[j,i-1]的箱子运到对应码头的行程数\n",
    "        # i-j<=maxBoxes w(j,i-1)<=maxWeight cost(j,i-1))=[j,i-1]相邻码头不等的个数+过去和返回的两趟\n",
    "        # dp[0] = 0\n",
    "        n = len(boxes)\n",
    "        cost = [int(x[0] != y[0]) for x, y in pairwise(boxes)]  # cost[i] i和i+1是否去一个码头\n",
    "        pre_weight = [0] * (n + 1)  # [0,i-1]的总重量 [i,j]:p[j+1]-p[i]\n",
    "        pre_cost = [0] * n  # [0,i]的相邻不等码头总个数 [i,j]:p[j]-p[i]\n",
    "        for i in range(n):\n",
    "            pre_weight[i + 1] = pre_weight[i] + boxes[i][1]\n",
    "        for i in range(n - 1):\n",
    "            pre_cost[i + 1] = pre_cost[i] + cost[i]\n",
    "        dp = [inf] * (n + 1)\n",
    "        dp[0] = 0\n",
    "        for i in range(1, n + 1):\n",
    "            for j in range(max(0, i - maxBoxes), i):\n",
    "                if pre_weight[i] - pre_weight[j] > maxWeight:\n",
    "                    continue\n",
    "                dp[i] = min(dp[i], dp[j] + pre_cost[i - 1] - pre_cost[j] + 2) # 优化点:只与dp[j] - pre_cost[j] 最小值相关\n",
    "        return dp[-1]\n",
    "\n",
    "\n",
    "s = Solution()\n",
    "s.boxDelivering([[1, 1], [2, 1], [1, 1]], 2, 3, 3)\n"
   ]
  },
  {
   "cell_type": "code",
   "execution_count": 3,
   "metadata": {},
   "outputs": [
    {
     "data": {
      "text/plain": [
       "4"
      ]
     },
     "execution_count": 3,
     "metadata": {},
     "output_type": "execute_result"
    }
   ],
   "source": [
    "from itertools import pairwise\n",
    "from math import inf\n",
    "from typing import List\n",
    "from heapq import heappop, heappush\n",
    "# 堆优化\n",
    "\n",
    "class Solution:\n",
    "\n",
    "    def boxDelivering(self, boxes: List[List[int]], portsCount: int, maxBoxes: int, maxWeight: int) -> int:\n",
    "        # dp[i] 前i个箱子运到对应码头的行程数\n",
    "        # dp[i] = min(dp[j]+cost(j,i-1)) # 前j个子问题+最后一趟将[j,i-1]的箱子运到对应码头的行程数\n",
    "        # i-j<=maxBoxes w(j,i-1)<=maxWeight cost(j,i-1))=[j,i-1]相邻码头不等的个数+过去和返回的两趟\n",
    "        # dp[0] = 0\n",
    "        n = len(boxes)\n",
    "        cost = [int(x[0] != y[0]) for x, y in pairwise(boxes)]  # cost[i] i和i+1是否去一个码头\n",
    "        pre_weight = [0] * (n + 1)  # [0,i-1]的总重量 [i,j]:p[j+1]-p[i]\n",
    "        pre_cost = [0] * n  # [0,i]的相邻不等码头总个数 [i,j]:p[j]-p[i]\n",
    "        for i in range(n):\n",
    "            pre_weight[i + 1] = pre_weight[i] + boxes[i][1]\n",
    "        for i in range(n - 1):\n",
    "            pre_cost[i + 1] = pre_cost[i] + cost[i]\n",
    "        dp = [inf] * (n + 1)\n",
    "        dp[0] = 0\n",
    "        pq = [(0, 0)]  # (dp[0]-pre_cost[0],i=0)\n",
    "        for i in range(1, n + 1):\n",
    "            # 优化点:只与dp[j] - pre_cost[j] 最小值相关\n",
    "            while pq and (pq[0][1] < max(0, i - maxBoxes) or pre_weight[i] - pre_weight[pq[0][1]] > maxWeight):\n",
    "                heappop(pq)\n",
    "            dp[i] = pq[0][0] + pre_cost[i - 1] + 2\n",
    "            if i < n:\n",
    "                heappush(pq, (dp[i] - pre_cost[i], i))\n",
    "        return dp[-1]\n",
    "\n",
    "\n",
    "s = Solution()\n",
    "s.boxDelivering([[1, 1], [2, 1], [1, 1]], 2, 3, 3)\n"
   ]
  },
  {
   "cell_type": "code",
   "execution_count": 5,
   "metadata": {},
   "outputs": [
    {
     "data": {
      "text/plain": [
       "4"
      ]
     },
     "execution_count": 5,
     "metadata": {},
     "output_type": "execute_result"
    }
   ],
   "source": [
    "from itertools import pairwise\n",
    "from math import inf\n",
    "from typing import List\n",
    "from collections import deque\n",
    "# 最小队列优化\n",
    "\n",
    "\n",
    "class Solution:\n",
    "\n",
    "    def boxDelivering(self, boxes: List[List[int]], portsCount: int, maxBoxes: int, maxWeight: int) -> int:\n",
    "        # dp[i] 前i个箱子运到对应码头的行程数\n",
    "        # dp[i] = min(dp[j]+cost(j,i-1)) # 前j个子问题+最后一趟将[j,i-1]的箱子运到对应码头的行程数\n",
    "        # i-j<=maxBoxes w(j,i-1)<=maxWeight cost(j,i-1))=[j,i-1]相邻码头不等的个数+过去和返回的两趟\n",
    "        # dp[0] = 0\n",
    "        n = len(boxes)\n",
    "        cost = [int(x[0] != y[0]) for x, y in pairwise(boxes)]  # cost[i] i和i+1是否去一个码头\n",
    "        pre_weight = [0] * (n + 1)  # [0,i-1]的总重量 [i,j]:p[j+1]-p[i]\n",
    "        pre_cost = [0] * n  # [0,i]的相邻不等码头总个数 [i,j]:p[j]-p[i]\n",
    "        for i in range(n):\n",
    "            pre_weight[i + 1] = pre_weight[i] + boxes[i][1]\n",
    "        for i in range(n - 1):\n",
    "            pre_cost[i + 1] = pre_cost[i] + cost[i]\n",
    "        dp = [inf] * (n + 1)\n",
    "        dp[0] = 0\n",
    "        q = deque([(0, 0)])  # (dp[0]-pre_cost[0],i=0)\n",
    "        for i in range(1, n + 1):\n",
    "            # 优化点:只与dp[j] - pre_cost[j] 最小值相关\n",
    "            while q and (q[0][1] < max(0, i - maxBoxes) or pre_weight[i] - pre_weight[q[0][1]] > maxWeight):\n",
    "                q.popleft()\n",
    "            dp[i] = q[0][0] + pre_cost[i - 1] + 2\n",
    "            if i < n:\n",
    "                cur = dp[i] - pre_cost[i]\n",
    "                while q and cur < q[-1][0]:  # 维护一个递增队列 队头就是最小值\n",
    "                    q.pop()\n",
    "                q.append((cur, i))\n",
    "        return dp[-1]\n",
    "\n",
    "\n",
    "s = Solution()\n",
    "s.boxDelivering([[1, 1], [2, 1], [1, 1]], 2, 3, 3)\n"
   ]
  },
  {
   "cell_type": "code",
   "execution_count": null,
   "metadata": {},
   "outputs": [],
   "source": [
    "'a'.is"
   ]
  }
 ],
 "metadata": {
  "kernelspec": {
   "display_name": "Python 3.10.5 64-bit",
   "language": "python",
   "name": "python3"
  },
  "language_info": {
   "codemirror_mode": {
    "name": "ipython",
    "version": 3
   },
   "file_extension": ".py",
   "mimetype": "text/x-python",
   "name": "python",
   "nbconvert_exporter": "python",
   "pygments_lexer": "ipython3",
   "version": "3.10.5"
  },
  "orig_nbformat": 4,
  "vscode": {
   "interpreter": {
    "hash": "3196968d684371006099b3d55edeef8ed90365227a30deaef86e5d4aa8519be0"
   }
  }
 },
 "nbformat": 4,
 "nbformat_minor": 2
}
