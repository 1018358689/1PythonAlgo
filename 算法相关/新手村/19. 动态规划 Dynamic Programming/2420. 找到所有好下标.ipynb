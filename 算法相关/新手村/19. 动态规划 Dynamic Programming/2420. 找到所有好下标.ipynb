{
 "cells": [
  {
   "cell_type": "code",
   "execution_count": null,
   "metadata": {},
   "outputs": [],
   "source": [
    "from typing import List\n",
    "\n",
    "\n",
    "class Solution:\n",
    "\n",
    "    def goodIndices(self, nums: List[int], k: int) -> List[int]:\n",
    "        # 单条件合并\n",
    "        # left[i] 以nums[i]结尾左边非递增数量 (递减或相等)\n",
    "        # left[i] = left[i-1]+1 if nums[i]<=nums[i-1] else 1\n",
    "        n = len(nums)\n",
    "        left = [1] * n\n",
    "        for i in range(1, n):\n",
    "            if nums[i] <= nums[i - 1]:\n",
    "                left[i] = left[i - 1] + 1\n",
    "        right = [1] * n\n",
    "        for i in range(n - 2, -1, -1):\n",
    "            if nums[i] <= nums[i + 1]:\n",
    "                right[i] = right[i + 1] + 1\n",
    "        ans = []\n",
    "        for i in range(k, n - 1):\n",
    "            if left[i - 1] >= k and right[i + 1] >= k:\n",
    "                ans.append(i)\n",
    "        return ans\n"
   ]
  }
 ],
 "metadata": {
  "language_info": {
   "name": "python"
  },
  "orig_nbformat": 4
 },
 "nbformat": 4,
 "nbformat_minor": 2
}
