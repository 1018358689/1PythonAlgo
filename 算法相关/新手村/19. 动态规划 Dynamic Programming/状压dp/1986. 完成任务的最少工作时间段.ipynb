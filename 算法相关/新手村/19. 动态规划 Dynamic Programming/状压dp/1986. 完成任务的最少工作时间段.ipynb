{
 "cells": [
  {
   "cell_type": "code",
   "execution_count": null,
   "metadata": {},
   "outputs": [],
   "source": [
    "class Solution:\n",
    "\n",
    "    def minSessions(self, tasks: List[int], sessionTime: int) -> int:\n",
    "        n = len(tasks)\n",
    "        u = (1 << n) - 1\n",
    "        # 预处理所有子集和\n",
    "        s = [0] * (u + 1)\n",
    "        for sta in range(u + 1):\n",
    "            for i in range(n):\n",
    "                if sta >> i & 1:\n",
    "                    s[sta] += tasks[i]\n",
    "        f = [n] * (u + 1)\n",
    "        f[0] = 0\n",
    "        for sta in range(1, u + 1):\n",
    "            sub = sta\n",
    "            while sub:  # 枚举子集\n",
    "                if s[sub] <= sessionTime:\n",
    "                    f[sta] = min(f[sta], f[sta ^ sub] + 1)\n",
    "                sub = (sub - 1) & sta\n",
    "        return f[u]\n",
    "\n",
    "        # @lru_cache(None)\n",
    "        # def dfs(sta): # 完成sta状态任务 的最少时间段\n",
    "        #     if sta == 0: return 0\n",
    "        #     ans = n\n",
    "        #     sub = sta\n",
    "        #     while sub: # 枚举子集\n",
    "        #         if s[sub] <= sessionTime:\n",
    "        #             ans = min(ans, dfs(sta ^ sub) + 1)\n",
    "        #         sub = (sub - 1) & sta\n",
    "        #     return ans\n",
    "        # return dfs(u)"
   ]
  }
 ],
 "metadata": {
  "language_info": {
   "name": "python"
  },
  "orig_nbformat": 4
 },
 "nbformat": 4,
 "nbformat_minor": 2
}
