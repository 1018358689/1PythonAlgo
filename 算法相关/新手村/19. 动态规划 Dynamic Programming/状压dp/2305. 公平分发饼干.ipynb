{
 "cells": [
  {
   "cell_type": "code",
   "execution_count": null,
   "metadata": {},
   "outputs": [],
   "source": [
    "subsets = [[] for _ in range(1 << 8)]\n",
    "for sta in range(1 << 8):\n",
    "    sub = sta\n",
    "    while sub:\n",
    "        subsets[sta].append(sub)\n",
    "        sub = (sub - 1) & sta\n",
    "        \n",
    "class Solution:\n",
    "    def distributeCookies(self, cookies: List[int], k: int) -> int:\n",
    "        n = len(cookies)\n",
    "        u = (1 << n) - 1\n",
    "        s = [0] * (u + 1)\n",
    "        for sta in range(u + 1):\n",
    "            for i in range(n):\n",
    "                if sta >> i & 1:\n",
    "                    s[sta] += cookies[i]\n",
    "                    \n",
    "        @lru_cache(None)\n",
    "        def dfs(i, sta): # 前i个小孩 分配饼干集合为j时 的最小不公平\n",
    "            # 枚举sta非空子集作为 最后一个小孩分配的饼干集合\n",
    "            if i < 0:\n",
    "                return 0 if sta == 0 else inf\n",
    "            ans = inf\n",
    "            for sub in subsets[sta]:\n",
    "                t = dfs(i - 1, sta ^ sub)\n",
    "                if s[sub] > t: t = s[sub]\n",
    "                if t < ans: ans = t\n",
    "            return ans\n",
    "        \n",
    "        return dfs(k - 1, u)\n",
    "            "
   ]
  }
 ],
 "metadata": {
  "language_info": {
   "name": "python"
  },
  "orig_nbformat": 4
 },
 "nbformat": 4,
 "nbformat_minor": 2
}
