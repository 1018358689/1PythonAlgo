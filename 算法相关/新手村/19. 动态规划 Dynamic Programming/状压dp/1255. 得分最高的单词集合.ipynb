{
 "cells": [
  {
   "cell_type": "code",
   "execution_count": null,
   "metadata": {},
   "outputs": [],
   "source": [
    "class Solution:\n",
    "\n",
    "    def maxScoreWords(self, words: List[str], letters: List[str], score: List[int]) -> int:\n",
    "        t = lambda x: ord(x) - ord('a')\n",
    "        cnts = Counter(letters)\n",
    "        n = len(words)\n",
    "        u = (1 << n) - 1\n",
    "        ans = 0\n",
    "        for sub in range(1, u + 1):  # 枚举全集的子集 不含空集\n",
    "            cnt = Counter(reduce(lambda x, y: x + y, (words[i] for i in range(n) if sub >> i & 1)))\n",
    "            # if all(cnts[c] >= v for c, v in cnt.items()): # 字母表能否包含这些字母\n",
    "            # if cnts & cnt == cnt: # 字母表能否包含这些字母\n",
    "            if cnts | cnt == cnts:  # 字母表能否包含这些字母\n",
    "                sc = sum(score[t(c)] * v for c, v in cnt.items())\n",
    "                if sc > ans: ans = sc\n",
    "        return ans"
   ]
  },
  {
   "cell_type": "code",
   "execution_count": 6,
   "metadata": {},
   "outputs": [
    {
     "data": {
      "text/plain": [
       "False"
      ]
     },
     "execution_count": 6,
     "metadata": {},
     "output_type": "execute_result"
    }
   ],
   "source": [
    "from collections import Counter\n",
    "\n",
    "\n",
    "a = 'aaabcd'\n",
    "b = 'abcde'\n",
    "ca,cb = Counter(a), Counter(b)\n",
    "ca & cb == cb"
   ]
  },
  {
   "cell_type": "code",
   "execution_count": 13,
   "metadata": {},
   "outputs": [
    {
     "data": {
      "text/plain": [
       "{3, 4, 5}"
      ]
     },
     "execution_count": 13,
     "metadata": {},
     "output_type": "execute_result"
    }
   ],
   "source": [
    "from functools import reduce\n",
    "\n",
    "\n",
    "hats = [{3,4},{4,5},{5}]\n",
    "reduce(lambda x, y: x | y, hats)"
   ]
  },
  {
   "cell_type": "code",
   "execution_count": null,
   "metadata": {},
   "outputs": [],
   "source": []
  }
 ],
 "metadata": {
  "kernelspec": {
   "display_name": "Python 3",
   "language": "python",
   "name": "python3"
  },
  "language_info": {
   "codemirror_mode": {
    "name": "ipython",
    "version": 3
   },
   "file_extension": ".py",
   "mimetype": "text/x-python",
   "name": "python",
   "nbconvert_exporter": "python",
   "pygments_lexer": "ipython3",
   "version": "3.10.5"
  },
  "orig_nbformat": 4
 },
 "nbformat": 4,
 "nbformat_minor": 2
}
