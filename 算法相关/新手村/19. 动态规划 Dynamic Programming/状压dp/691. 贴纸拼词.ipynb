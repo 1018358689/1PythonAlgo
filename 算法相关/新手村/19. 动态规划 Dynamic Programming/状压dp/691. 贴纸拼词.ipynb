{
 "cells": [
  {
   "cell_type": "code",
   "execution_count": null,
   "metadata": {},
   "outputs": [],
   "source": [
    "class Solution:\n",
    "\n",
    "    def minStickers(self, stickers: List[str], target: str) -> int:\n",
    "        n = len(target)\n",
    "        u = (1 << n) - 1\n",
    "        # f = [inf] * (u + 1)\n",
    "        # f[0] = 0\n",
    "        # for sta in range(1, u + 1):\n",
    "        #     for st in stickers:\n",
    "        #         mask = sta\n",
    "        #         cnt = Counter(st)\n",
    "        #         for i, w in enumerate(target):\n",
    "        #             if mask >> i & 1 and cnt[w]:\n",
    "        #                 cnt[w] -= 1\n",
    "        #                 mask ^= 1 << i\n",
    "        #         f[sta] = min(f[sta], f[mask] + 1)\n",
    "        # return res if (res := f[u]) != inf else -1\n",
    "        @lru_cache(None)\n",
    "        def dfs(sta):  # 完成sta状态的最少贴纸数\n",
    "            if sta == 0: return 0\n",
    "            ans = inf\n",
    "            for st in stickers:\n",
    "                mask = sta\n",
    "                cnt = Counter(st)\n",
    "                for i, w in enumerate(target):\n",
    "                    if mask >> i & 1 and cnt[w]:\n",
    "                        cnt[w] -= 1\n",
    "                        mask ^= 1 << i\n",
    "                if mask < sta:  # 成功使用st\n",
    "                    ans = min(ans, dfs(mask) + 1)\n",
    "            return ans\n",
    "\n",
    "        return res if (res := dfs(u)) != inf else -1\n"
   ]
  }
 ],
 "metadata": {
  "language_info": {
   "name": "python"
  },
  "orig_nbformat": 4
 },
 "nbformat": 4,
 "nbformat_minor": 2
}
