{
 "cells": [
  {
   "cell_type": "code",
   "execution_count": null,
   "metadata": {},
   "outputs": [],
   "source": [
    "class Solution:\n",
    "\n",
    "    def canPartitionKSubsets(self, nums: List[int], k: int) -> bool:\n",
    "        a, b = divmod(sum(nums), k)\n",
    "        if b or any(x > a for x in nums):\n",
    "            return False\n",
    "        n = len(nums)\n",
    "        u = (1 << n) - 1\n",
    "\n",
    "        @lru_cache(None)\n",
    "        def dfs(s, sta):  # 累计和和已经使用数字的集合\n",
    "            if s == a:\n",
    "                s = 0\n",
    "                if sta == u:\n",
    "                    return True\n",
    "            for i, x in enumerate(nums):  # 枚举选哪个\n",
    "                if sta >> i & 1 == 0 and s + x <= a:\n",
    "                    if dfs(s + x, sta | (1 << i)):\n",
    "                        return True\n",
    "            return False\n",
    "\n",
    "        return dfs(0, 0)"
   ]
  },
  {
   "cell_type": "code",
   "execution_count": null,
   "metadata": {},
   "outputs": [],
   "source": [
    "# 直接先预处理集合的子集 会超内存\n",
    "class Solution:\n",
    "\n",
    "    def canPartitionKSubsets(self, nums: List[int], k: int) -> bool:\n",
    "        a, b = divmod(sum(nums), k)\n",
    "        if b or any(x > a for x in nums):\n",
    "            return False\n",
    "        n = len(nums)\n",
    "        u = (1 << n) - 1\n",
    "        # 预处理子集和\n",
    "        s = [0] * (u + 1)\n",
    "        for sta in range(u + 1):\n",
    "            for i, x in enumerate(nums):\n",
    "                if sta >> i & 1:\n",
    "                    s[sta] += x\n",
    "\n",
    "        @lru_cache(None)\n",
    "        def dfs(i, sta):  # 前i个人 分到数字集合为sta 能否成功\n",
    "            if i < 0:\n",
    "                return sta == 0\n",
    "            sub = sta\n",
    "            while sub:  # 枚举最后一个人分到的集合\n",
    "                if s[sub] == a and dfs(i - 1, sta ^ sub):\n",
    "                    return True\n",
    "                sub = (sub - 1) & sta\n",
    "            return False\n",
    "\n",
    "        return dfs(k - 1, u)"
   ]
  },
  {
   "cell_type": "code",
   "execution_count": 5,
   "metadata": {},
   "outputs": [
    {
     "data": {
      "text/plain": [
       "Counter({'a': 1, 'b': 2, 'c': 2, 'd': 1})"
      ]
     },
     "execution_count": 5,
     "metadata": {},
     "output_type": "execute_result"
    }
   ],
   "source": [
    "from collections import Counter\n",
    "\n",
    "Counter('abc'+'cbd')"
   ]
  },
  {
   "cell_type": "code",
   "execution_count": 15,
   "metadata": {},
   "outputs": [
    {
     "ename": "TypeError",
     "evalue": "sum() can't sum strings [use ''.join(seq) instead]",
     "output_type": "error",
     "traceback": [
      "\u001b[1;31m---------------------------------------------------------------------------\u001b[0m",
      "\u001b[1;31mTypeError\u001b[0m                                 Traceback (most recent call last)",
      "\u001b[1;32md:\\OneDrive\\PythonProject\\1PythonAlgo\\算法相关\\新手村\\19. 动态规划 Dynamic Programming\\状压dp\\698. 划分为k个相等的子集.ipynb 单元格 4\u001b[0m in \u001b[0;36m3\n\u001b[0;32m      <a href='vscode-notebook-cell:/d%3A/OneDrive/PythonProject/1PythonAlgo/%E7%AE%97%E6%B3%95%E7%9B%B8%E5%85%B3/%E6%96%B0%E6%89%8B%E6%9D%91/19.%20%E5%8A%A8%E6%80%81%E8%A7%84%E5%88%92%20Dynamic%20Programming/%E7%8A%B6%E5%8E%8Bdp/698.%20%E5%88%92%E5%88%86%E4%B8%BAk%E4%B8%AA%E7%9B%B8%E7%AD%89%E7%9A%84%E5%AD%90%E9%9B%86.ipynb#W3sZmlsZQ%3D%3D?line=0'>1</a>\u001b[0m a \u001b[39m=\u001b[39m \u001b[39m'\u001b[39m\u001b[39mabc\u001b[39m\u001b[39m'\u001b[39m\n\u001b[0;32m      <a href='vscode-notebook-cell:/d%3A/OneDrive/PythonProject/1PythonAlgo/%E7%AE%97%E6%B3%95%E7%9B%B8%E5%85%B3/%E6%96%B0%E6%89%8B%E6%9D%91/19.%20%E5%8A%A8%E6%80%81%E8%A7%84%E5%88%92%20Dynamic%20Programming/%E7%8A%B6%E5%8E%8Bdp/698.%20%E5%88%92%E5%88%86%E4%B8%BAk%E4%B8%AA%E7%9B%B8%E7%AD%89%E7%9A%84%E5%AD%90%E9%9B%86.ipynb#W3sZmlsZQ%3D%3D?line=1'>2</a>\u001b[0m b \u001b[39m=\u001b[39m \u001b[39m'\u001b[39m\u001b[39mbcd\u001b[39m\u001b[39m'\u001b[39m\n\u001b[1;32m----> <a href='vscode-notebook-cell:/d%3A/OneDrive/PythonProject/1PythonAlgo/%E7%AE%97%E6%B3%95%E7%9B%B8%E5%85%B3/%E6%96%B0%E6%89%8B%E6%9D%91/19.%20%E5%8A%A8%E6%80%81%E8%A7%84%E5%88%92%20Dynamic%20Programming/%E7%8A%B6%E5%8E%8Bdp/698.%20%E5%88%92%E5%88%86%E4%B8%BAk%E4%B8%AA%E7%9B%B8%E7%AD%89%E7%9A%84%E5%AD%90%E9%9B%86.ipynb#W3sZmlsZQ%3D%3D?line=2'>3</a>\u001b[0m \u001b[39msum\u001b[39;49m((a, b),\u001b[39m'\u001b[39;49m\u001b[39m'\u001b[39;49m)\n",
      "\u001b[1;31mTypeError\u001b[0m: sum() can't sum strings [use ''.join(seq) instead]"
     ]
    }
   ],
   "source": [
    "a = 'abc'\n",
    "b = 'bcd'\n",
    "sum((a, b),'')"
   ]
  },
  {
   "cell_type": "code",
   "execution_count": null,
   "metadata": {},
   "outputs": [],
   "source": []
  }
 ],
 "metadata": {
  "kernelspec": {
   "display_name": "Python 3",
   "language": "python",
   "name": "python3"
  },
  "language_info": {
   "codemirror_mode": {
    "name": "ipython",
    "version": 3
   },
   "file_extension": ".py",
   "mimetype": "text/x-python",
   "name": "python",
   "nbconvert_exporter": "python",
   "pygments_lexer": "ipython3",
   "version": "3.10.6"
  },
  "orig_nbformat": 4
 },
 "nbformat": 4,
 "nbformat_minor": 2
}
