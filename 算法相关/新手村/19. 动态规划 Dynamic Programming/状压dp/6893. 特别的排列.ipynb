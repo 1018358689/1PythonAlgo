{
 "cells": [
  {
   "cell_type": "code",
   "execution_count": null,
   "metadata": {},
   "outputs": [],
   "source": [
    "class Solution:\n",
    "\n",
    "    def specialPerm(self, nums: List[int]) -> int:\n",
    "        MOD = 10**9 + 7\n",
    "        n = len(nums)\n",
    "        u = (1 << n) - 1\n",
    "\n",
    "        @lru_cache(None)\n",
    "        def dfs(sta, pre):  # 从sta到u状态的方法数\n",
    "            if sta == u:\n",
    "                return 1\n",
    "            ans = 0\n",
    "            for i, x in enumerate(nums):  # 枚举下一个未使用位置\n",
    "                if sta >> i & 1 == 0 and (x % pre == 0 or pre % x == 0):\n",
    "                    ans += dfs(sta | (1 << i), x)\n",
    "            return ans % MOD\n",
    "\n",
    "        return dfs(0, 1) % MOD"
   ]
  },
  {
   "cell_type": "code",
   "execution_count": null,
   "metadata": {},
   "outputs": [],
   "source": [
    "class Solution:\n",
    "\n",
    "    def specialPerm(self, nums: List[int]) -> int:\n",
    "        MOD = 10**9 + 7\n",
    "        n = len(nums)\n",
    "        u = (1 << n) - 1\n",
    "\n",
    "        @lru_cache(None)\n",
    "        def dfs(sta, pre):  # 从0到sta状态的方法数 pre是sta后面一个状态\n",
    "            if sta == 0:\n",
    "                return 1\n",
    "            ans = 0\n",
    "            for i, x in enumerate(nums):\n",
    "                if sta >> i & 1 and (pre % x == 0 or x % pre == 0):\n",
    "                    ans += dfs(sta ^ (1 << i), x)\n",
    "            return ans % MOD\n",
    "\n",
    "        return dfs(u, 1) % MOD"
   ]
  },
  {
   "cell_type": "code",
   "execution_count": null,
   "metadata": {},
   "outputs": [],
   "source": [
    "class Solution:\n",
    "\n",
    "    def specialPerm(self, nums: List[int]) -> int:\n",
    "        nums = [1] + nums\n",
    "        MOD = 10**9 + 7\n",
    "        n = len(nums)\n",
    "        u = (1 << n) - 1\n",
    "\n",
    "        # f = [[0] * n for _ in range(u)] + [[1] * n] # 超时\n",
    "        # for sta in range(u - 1, -1, -1):\n",
    "        #     for j, pre in enumerate(nums):\n",
    "        #         if sta >> j & 1:\n",
    "        #             for i, x in enumerate(nums):\n",
    "        #                 if sta >> i & 1 == 0 and (x % pre == 0 or pre % x == 0):\n",
    "        #                     f[sta][j] += f[sta | (1 << i)][i]\n",
    "        # return f[1][0] % MOD\n",
    "\n",
    "        @lru_cache(None)\n",
    "        def dfs(sta, pre):  # 从sta到u状态的方法数\n",
    "            if sta == u:\n",
    "                return 1\n",
    "            ans = 0\n",
    "            pre = nums[pre]\n",
    "            for i, x in enumerate(nums):\n",
    "                if sta >> i & 1 == 0 and (x % pre == 0 or pre % x == 0):\n",
    "                    ans += dfs(sta | (1 << i), i)\n",
    "            return ans % MOD\n",
    "\n",
    "        return dfs(1, 0) % MOD"
   ]
  }
 ],
 "metadata": {
  "language_info": {
   "name": "python"
  },
  "orig_nbformat": 4
 },
 "nbformat": 4,
 "nbformat_minor": 2
}
