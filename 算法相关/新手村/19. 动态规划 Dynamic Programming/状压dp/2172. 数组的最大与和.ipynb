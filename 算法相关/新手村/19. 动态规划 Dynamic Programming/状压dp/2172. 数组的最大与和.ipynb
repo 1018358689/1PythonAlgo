{
 "cells": [
  {
   "cell_type": "code",
   "execution_count": null,
   "metadata": {},
   "outputs": [],
   "source": [
    "# nums一个一个找 篮子一点一点满  篮子现存量 就是 遍历到的第几个nums\n",
    "class Solution:\n",
    "\n",
    "    def maximumANDSum(self, nums: List[int], numSlots: int) -> int:\n",
    "        numSlots *= 2  # 索引对应编码 x//2 + 1\n",
    "        n = len(nums)\n",
    "\n",
    "        @lru_cache(None)\n",
    "        def dfs(sta):  # 已选的篮子\n",
    "            i = sta.bit_count()\n",
    "            if i == n:\n",
    "                return 0\n",
    "            x = nums[i]\n",
    "            ans = 0\n",
    "            for j in range(numSlots):\n",
    "                if sta >> j & 1 == 0:\n",
    "                    ans = max(ans, (x & j // 2 + 1) + dfs(sta | (1 << j)))\n",
    "            return ans\n",
    "\n",
    "        return dfs(0)\n",
    "\n",
    "        # f = [0] * (1 << numSlots)\n",
    "        # for sta in range((1 << numSlots) - 2, -1, -1):\n",
    "        #     i = sta.bit_count()\n",
    "        #     if i >= n: continue\n",
    "        #     x = nums[i]\n",
    "        #     for j in range(numSlots):\n",
    "        #         if sta >> j & 1 == 0:\n",
    "        #             f[sta] = max(f[sta], (x & j // 2 + 1) + f[sta | (1 << j)])\n",
    "        # return f[0]"
   ]
  }
 ],
 "metadata": {
  "language_info": {
   "name": "python"
  },
  "orig_nbformat": 4
 },
 "nbformat": 4,
 "nbformat_minor": 2
}
