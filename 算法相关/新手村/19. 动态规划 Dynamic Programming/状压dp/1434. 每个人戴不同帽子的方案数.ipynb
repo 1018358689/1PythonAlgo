{
 "cells": [
  {
   "cell_type": "code",
   "execution_count": null,
   "metadata": {},
   "outputs": [],
   "source": [
    "class Solution:\n",
    "\n",
    "    def numberWays(self, hats: List[List[int]]) -> int:\n",
    "        # 帽子找人\n",
    "        MOD = 10**9 + 7\n",
    "        ha = defaultdict(set)  # 每一顶帽子需要的人\n",
    "        for i, hs in enumerate(hats):\n",
    "            for h in hs:\n",
    "                ha[h].add(i)\n",
    "        nums = list(ha)  # 所有可能需要的帽子\n",
    "        m, n = len(nums), len(hats)\n",
    "        u = (1 << n) - 1\n",
    "\n",
    "        @lru_cache(None)\n",
    "        def dfs(i, sta):  # 前i顶帽子(可不选) 分配给sta集合人的方法数\n",
    "            if sta == 0: return 1\n",
    "            if i < 0: return 0\n",
    "            # 不选最后一顶帽子\n",
    "            ans = dfs(i - 1, sta)\n",
    "            # 选最后一顶帽子\n",
    "            x = nums[i]\n",
    "            for j in ha[x]:  # 枚举分给哪个人\n",
    "                if sta >> j & 1:\n",
    "                    ans += dfs(i - 1, sta ^ (1 << j))\n",
    "            return ans % MOD\n",
    "\n",
    "        return dfs(m - 1, u)"
   ]
  },
  {
   "cell_type": "code",
   "execution_count": null,
   "metadata": {},
   "outputs": [],
   "source": [
    "class Solution:\n",
    "\n",
    "    def numberWays(self, hats: List[List[int]]) -> int:\n",
    "        # 帽子找人\n",
    "        MOD = 10**9 + 7\n",
    "        hats = [set(h) for h in hats]\n",
    "        nums = list(reduce(lambda x, y: x | y, hats))\n",
    "        m, n = len(nums), len(hats)\n",
    "        u = (1 << n) - 1\n",
    "\n",
    "        @lru_cache(None)\n",
    "        def dfs(i, sta):  # 前i顶帽子(可不选) 分配给sta集合人的方法数\n",
    "            if sta == 0: return 1\n",
    "            if i < 0: return 0\n",
    "            # 不选最后一顶帽子\n",
    "            ans = dfs(i - 1, sta)\n",
    "            # 选最后一顶帽子\n",
    "            x = nums[i]\n",
    "            for j in range(n):  # 枚举分给哪个人\n",
    "                if sta >> j & 1 and x in hats[j]:\n",
    "                    ans += dfs(i - 1, sta ^ (1 << j))\n",
    "            return ans % MOD\n",
    "\n",
    "        return dfs(m - 1, u)"
   ]
  }
 ],
 "metadata": {
  "language_info": {
   "name": "python"
  },
  "orig_nbformat": 4
 },
 "nbformat": 4,
 "nbformat_minor": 2
}
