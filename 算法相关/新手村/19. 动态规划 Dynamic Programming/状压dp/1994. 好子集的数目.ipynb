{
 "cells": [
  {
   "cell_type": "code",
   "execution_count": null,
   "metadata": {},
   "outputs": [],
   "source": [
    "class Solution:\n",
    "\n",
    "    def numberOfGoodSubsets(self, nums: List[int]) -> int:\n",
    "        # 分解质因数 因子是多个(>=1)不同的\n",
    "        MOD = 10**9 + 7\n",
    "        cnt = [0] * 31  # 计数nums\n",
    "        ha = set()  # 有多个相同因子\n",
    "        for x in (2**2, 3**2, 5**2):\n",
    "            base = 2\n",
    "            y = x\n",
    "            while y <= 30:\n",
    "                ha.add(y)\n",
    "                y = x * base\n",
    "                base += 1\n",
    "        for x in nums:\n",
    "            if x not in ha:\n",
    "                cnt[x] += 1\n",
    "        mutex = [0] * 31  # 互斥\n",
    "        for i in range(2, 31):\n",
    "            for j in range(2, 31):\n",
    "                if i != j and gcd(i, j) > 1:\n",
    "                    mutex[i] |= 1 << j\n",
    "\n",
    "        def dfs(x, mask):  # 当前数字 及 已选状态  数位dp感觉\n",
    "            if x == 31:\n",
    "                return 1 if mask else 0  # 有选是1 都没选就是0\n",
    "            ans = dfs(x + 1, mask)  # 不选\n",
    "            if cnt[x] and mutex[x] & mask == 0:  # 选 >=1 个\n",
    "                ans += cnt[x] * dfs(x + 1, mask | (1 << x))\n",
    "            return ans % MOD\n",
    "\n",
    "        return dfs(2, 0) * pow(2, cnt[1], MOD) % MOD\n",
    "\n",
    "\n",
    "# 1比较特殊，对于任意不含 1 的有效子序列，可以添加上任意个 1 构成新的子序列，也依然都是有效的，由于不同位置算为不同，对于每个位置的 1 有选或者不选两种可能"
   ]
  }
 ],
 "metadata": {
  "language_info": {
   "name": "python"
  },
  "orig_nbformat": 4
 },
 "nbformat": 4,
 "nbformat_minor": 2
}
