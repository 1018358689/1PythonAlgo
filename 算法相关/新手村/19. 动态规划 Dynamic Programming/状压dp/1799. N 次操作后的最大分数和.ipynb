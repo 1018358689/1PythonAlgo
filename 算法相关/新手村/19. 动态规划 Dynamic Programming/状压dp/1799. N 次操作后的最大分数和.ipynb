{
 "cells": [
  {
   "cell_type": "code",
   "execution_count": null,
   "metadata": {},
   "outputs": [],
   "source": [
    "class Solution:\n",
    "\n",
    "    def maxScore(self, nums: List[int]) -> int:\n",
    "        n = len(nums)\n",
    "        u = (1 << n) - 1\n",
    "\n",
    "        @lru_cache(None)\n",
    "        def dfs(sta):  # 完成数字集合sta的最大分数\n",
    "            if sta == 0: return 0\n",
    "            i = sta.bit_count() >> 1\n",
    "            # 枚举大小为2的子集 不一定全集 不能用Gosper's Hack\n",
    "            ans = 0\n",
    "            # sub = sta\n",
    "            # while sub:\n",
    "            #     bt = sub.bit_count()\n",
    "            #     # print(i,bt, bin(sub)[2:])\n",
    "            #     if bt == 2:\n",
    "            #         ans = max(ans, i * gcd(*(nums[i] for i in range(n) if sub >> i & 1)) + dfs(sta ^ sub))\n",
    "            #     sub = (sub - 1) & sta\n",
    "            for j in range(n - 1):\n",
    "                if sta >> j & 1:\n",
    "                    for k in range(j + 1, n):\n",
    "                        if sta >> k & 1:\n",
    "                            ans = max(ans, i * gcd(nums[j], nums[k]) + dfs(sta ^ (1 << j) ^ (1 << k)))\n",
    "            return ans\n",
    "\n",
    "        return dfs(u)"
   ]
  },
  {
   "cell_type": "code",
   "execution_count": null,
   "metadata": {},
   "outputs": [],
   "source": [
    "class Solution:\n",
    "\n",
    "    def maxScore(self, nums: List[int]) -> int:\n",
    "        n = len(nums)\n",
    "        u = (1 << n) - 1\n",
    "        \n",
    "        # 预处理gcd\n",
    "        gcds = [[0] * n for _ in range(n)]\n",
    "        for i in range(n - 1):\n",
    "            for j in range(i + 1, n):\n",
    "                gcds[i][j] = gcd(nums[i], nums[j])\n",
    "\n",
    "        @lru_cache(None)\n",
    "        def dfs(sta):  # 完成数字集合sta的最大分数\n",
    "            if sta == 0: return 0\n",
    "            i = sta.bit_count() >> 1\n",
    "            # 枚举大小为2的子集 不一定全集 不能用Gosper's Hack\n",
    "            ans = 0\n",
    "            # sub = sta\n",
    "            # while sub:\n",
    "            #     bt = sub.bit_count()\n",
    "            #     # print(i,bt, bin(sub)[2:])\n",
    "            #     if bt == 2:\n",
    "            #         ans = max(ans, i * gcd(*(nums[i] for i in range(n) if sub >> i & 1)) + dfs(sta ^ sub))\n",
    "            #     sub = (sub - 1) & sta\n",
    "            for j in range(n - 1):\n",
    "                if sta >> j & 1:\n",
    "                    for k in range(j + 1, n):\n",
    "                        if sta >> k & 1:\n",
    "                            ans = max(ans, i * gcds[j][k] + dfs(sta ^ (1 << j) ^ (1 << k)))\n",
    "            return ans\n",
    "\n",
    "        return dfs(u)"
   ]
  }
 ],
 "metadata": {
  "language_info": {
   "name": "python"
  },
  "orig_nbformat": 4
 },
 "nbformat": 4,
 "nbformat_minor": 2
}
