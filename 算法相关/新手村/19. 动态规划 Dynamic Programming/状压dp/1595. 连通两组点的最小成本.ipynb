{
 "cells": [
  {
   "cell_type": "code",
   "execution_count": null,
   "metadata": {},
   "outputs": [],
   "source": [
    "class Solution:\n",
    "\n",
    "    def connectTwoGroups(self, cost: List[List[int]]) -> int:\n",
    "        m, n = len(cost), len(cost[0])\n",
    "        mncols = [min(cols) for cols in zip(*cost)]\n",
    "        # @lru_cache(None)\n",
    "        # def dfs(i, mask): # 逐行遍历，mask记录已经访问的列\n",
    "        #     if i == m:\n",
    "        #         return sum(mncols[j] for j in range(n) if mask >> j & 1 == 0)\n",
    "        #     ans = inf\n",
    "        #     for j in range(n):\n",
    "        #         ans = min(ans, dfs(i + 1, mask | (1 << j)) + cost[i][j])\n",
    "        #     return ans\n",
    "        # return dfs(0, 0)\n",
    "\n",
    "        # @lru_cache(None)\n",
    "        # def dfs(i, mask): # 逐行遍历，mask记录已经访问的列\n",
    "        #     if i < 0:\n",
    "        #         return sum(mncols[j] for j in range(n) if mask >> j & 1 == 0)\n",
    "        #     ans = inf\n",
    "        #     for j in range(n):\n",
    "        #         ans = min(ans, dfs(i - 1, mask | (1 << j)) + cost[i][j])\n",
    "        #     return ans\n",
    "        # return dfs(m - 1, 0)\n",
    "\n",
    "        # f = [[inf] * (1 << n) for _ in range(m + 1)]\n",
    "        # for mask in range(1 << n):\n",
    "        #     f[0][mask] = sum(mncols[j] for j in range(n) if mask >> j & 1 == 0)\n",
    "        # for i in range(m):\n",
    "        #     for mask in range(1 << n):\n",
    "        #         for j in range(n):\n",
    "        #             f[i + 1][mask] = min(f[i + 1][mask], f[i][mask | (1 << j)] + cost[i][j])\n",
    "        # return f[m][0]\n",
    "\n",
    "        f = [0] * (1 << n)\n",
    "        for mask in range(1 << n):\n",
    "            f[mask] = sum(mncols[j] for j in range(n) if mask >> j & 1 == 0)\n",
    "        for i in range(m):\n",
    "            for mask in range(1 << n):\n",
    "                f[mask] = min(f[mask | (1 << j)] + cost[i][j] for j in range(n))\n",
    "                # for j in range(n): # 这样是错的 因为f[mask]是当前行重新计算 取最小 否则会把前面比他还小的弄进来导致错误 除非f[mask]同位置递减\n",
    "                #     f[mask] = min(f[mask], f[mask | (1 << j)] + cost[i][j])\n",
    "            # print(f) # 可以发现同位置并不是递减\n",
    "        return f[0]"
   ]
  }
 ],
 "metadata": {
  "language_info": {
   "name": "python"
  },
  "orig_nbformat": 4
 },
 "nbformat": 4,
 "nbformat_minor": 2
}
