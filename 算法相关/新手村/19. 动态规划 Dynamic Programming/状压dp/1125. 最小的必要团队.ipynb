{
 "cells": [
  {
   "cell_type": "code",
   "execution_count": null,
   "metadata": {},
   "outputs": [],
   "source": [
    "class Solution:\n",
    "\n",
    "    def smallestSufficientTeam(self, req_skills: List[str], people: List[List[str]]) -> List[int]:\n",
    "        n = len(people)\n",
    "        ha = {x: i for i, x in enumerate(req_skills)}\n",
    "        # 预处理people成二进制形式\n",
    "        mask = [0] * n\n",
    "        for i, sks in enumerate(people):\n",
    "            for sk in sks:\n",
    "                mask[i] |= 1 << ha[sk]\n",
    "\n",
    "        u = (1 << len(req_skills)) - 1\n",
    "\n",
    "        @lru_cache(None)\n",
    "        def dfs(i, sta):  # 前i个人 构造技能集合sta 的最小人选编号\n",
    "            if sta == 0: return []\n",
    "            if i < 0: return [0] * (n + 1)\n",
    "            # 不选最后一个人\n",
    "            ans = dfs(i - 1, sta)\n",
    "            # 选最后一个人\n",
    "            x = mask[i]\n",
    "            if x & sta:  # 能为构造sta做贡献\n",
    "                ans = min(ans, [i] + dfs(i - 1, sta & ~x), key=len)  # sta & ~x 差集\n",
    "            return ans\n",
    "\n",
    "        return dfs(n - 1, u)"
   ]
  },
  {
   "cell_type": "code",
   "execution_count": null,
   "metadata": {},
   "outputs": [],
   "source": [
    "class Solution:\n",
    "\n",
    "    def smallestSufficientTeam(self, req_skills: List[str], people: List[List[str]]) -> List[int]:\n",
    "        n = len(people)\n",
    "        ha = {x: i for i, x in enumerate(req_skills)}\n",
    "        # 预处理people成二进制形式\n",
    "        mask = [0] * n\n",
    "        for i, sks in enumerate(people):\n",
    "            for sk in sks:\n",
    "                mask[i] |= 1 << ha[sk]\n",
    "\n",
    "        u = (1 << len(req_skills)) - 1\n",
    "\n",
    "        @lru_cache(None)\n",
    "        def dfs(i, j):  # 前i各人 构造j的 最小选择集合大小\n",
    "            if i < 0:\n",
    "                return 0 if j == 0 else n  # 全1方便取小\n",
    "            # 1. 不选\n",
    "            sub1 = dfs(i - 1, j)\n",
    "            # 2. 选\n",
    "            x = mask[i]\n",
    "            sub2 = dfs(i - 1, j & ~x) + 1  # j & ~x 差集\n",
    "            return min(sub1, sub2)\n",
    "\n",
    "        def make(i, j):  # 前i各人 构造j的 最小选择集合\n",
    "            if j == 0:\n",
    "                return []\n",
    "            x = mask[i]\n",
    "            if dfs(i - 1, j) < dfs(i - 1, j & ~x) + 1:\n",
    "                return make(i - 1, j)\n",
    "            return make(i - 1, j & ~x) + [i]\n",
    "\n",
    "        return make(n - 1, u)"
   ]
  }
 ],
 "metadata": {
  "language_info": {
   "name": "python"
  },
  "orig_nbformat": 4
 },
 "nbformat": 4,
 "nbformat_minor": 2
}
