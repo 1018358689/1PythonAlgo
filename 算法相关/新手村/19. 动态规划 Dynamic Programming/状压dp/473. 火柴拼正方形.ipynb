{
 "cells": [
  {
   "cell_type": "code",
   "execution_count": null,
   "metadata": {},
   "outputs": [],
   "source": [
    "class Solution:\n",
    "\n",
    "    def makesquare(self, matchsticks: List[int]) -> bool:\n",
    "        d, a = divmod(sum(matchsticks), 4)\n",
    "        if a or any(x > d for x in matchsticks):\n",
    "            return False\n",
    "        n = len(matchsticks)\n",
    "        u = (1 << n) - 1\n",
    "\n",
    "        @lru_cache(None)\n",
    "        def dfs(s, sta):  # 累计和 和 火柴使用集合\n",
    "            if s == d:\n",
    "                s = 0\n",
    "                if sta == u:\n",
    "                    return True\n",
    "            for i in range(n):\n",
    "                if sta >> i & 1 == 0 and s + matchsticks[i] <= d:\n",
    "                    if dfs(s + matchsticks[i], sta | (1 << i)):\n",
    "                        return True\n",
    "            return False\n",
    "\n",
    "        return dfs(0, 0)"
   ]
  },
  {
   "cell_type": "code",
   "execution_count": null,
   "metadata": {},
   "outputs": [],
   "source": [
    "# 预处理集合的子集\n",
    "subsets = [[] for _ in range(1 << 15)]\n",
    "for sta in range(1 << 15):\n",
    "    sub = sta\n",
    "    while sub:\n",
    "        subsets[sta].append(sub)\n",
    "        sub = (sub - 1) & sta\n",
    "\n",
    "\n",
    "class Solution:\n",
    "\n",
    "    def makesquare(self, matchsticks: List[int]) -> bool:\n",
    "        # 前i个人 分到火柴状态是sta 能否是每人等分成功\n",
    "        # 最后一个人 分到sta子集 sub 数量s == d and dfs(i-1,sta^sub)能等分\n",
    "        d, a = divmod(sum(matchsticks), 4)\n",
    "        if a or any(x > d for x in matchsticks):\n",
    "            return False\n",
    "        n = len(matchsticks)\n",
    "        u = (1 << n) - 1\n",
    "        # 预处理子集和\n",
    "        s = [0] * (u + 1)\n",
    "        for sta in range(u + 1):\n",
    "            for i, x in enumerate(matchsticks):\n",
    "                if sta >> i & 1:\n",
    "                    s[sta] += x\n",
    "\n",
    "        @lru_cache(None)\n",
    "        def dfs(i, sta):\n",
    "            if i < 0:\n",
    "                return sta == 0\n",
    "            for sub in subsets[sta]:\n",
    "                if s[sub] == d and dfs(i - 1, sta ^ sub):\n",
    "                    return True\n",
    "            return False\n",
    "\n",
    "        return dfs(3, u)"
   ]
  }
 ],
 "metadata": {
  "language_info": {
   "name": "python"
  },
  "orig_nbformat": 4
 },
 "nbformat": 4,
 "nbformat_minor": 2
}
