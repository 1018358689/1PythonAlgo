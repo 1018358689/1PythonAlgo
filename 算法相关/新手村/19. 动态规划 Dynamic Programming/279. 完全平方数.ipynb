{
 "cells": [
  {
   "cell_type": "code",
   "execution_count": null,
   "metadata": {},
   "outputs": [],
   "source": [
    "from math import inf\n",
    "\n",
    "\n",
    "class Solution:\n",
    "\n",
    "    def numSquares(self, n: int) -> int:\n",
    "        # dp[i] 和为 i 的完全平方数的最少数量\n",
    "        # dp[i] = min(dp[i-j**2]+1) j:[int(i**.5),0,-1]\n",
    "        dp = [inf] * (n + 1)\n",
    "        dp[0], dp[1] = 0, 1\n",
    "        for i in range(2, n + 1):\n",
    "            for j in range(int(i**.5), 0, -1):\n",
    "                dp[i] = min(dp[i], dp[i - j**2] + 1)\n",
    "        return dp[-1]"
   ]
  },
  {
   "cell_type": "code",
   "execution_count": 9,
   "metadata": {},
   "outputs": [
    {
     "data": {
      "text/plain": [
       "(3, 1)"
      ]
     },
     "execution_count": 9,
     "metadata": {},
     "output_type": "execute_result"
    }
   ],
   "source": [
    "from collections import deque\n",
    "\n",
    "\n",
    "class Solution:\n",
    "\n",
    "    def numSquares(self, n: int) -> int:\n",
    "        q = deque([(n, 0)])\n",
    "        vis = {n}\n",
    "        while q:\n",
    "            x, step = q.popleft()\n",
    "            for cost in range(int(n**.5), 0, -1):\n",
    "                y = x - cost**2\n",
    "                if y == 0:\n",
    "                    return step + 1\n",
    "                if y > 0 and y not in vis:\n",
    "                    vis.add(y)\n",
    "                    q.append((y, step + 1))\n"
   ]
  },
  {
   "cell_type": "code",
   "execution_count": 14,
   "metadata": {},
   "outputs": [
    {
     "data": {
      "text/plain": [
       "(3, 1)"
      ]
     },
     "execution_count": 14,
     "metadata": {},
     "output_type": "execute_result"
    }
   ],
   "source": [
    "# A* 效率不高\n",
    "import heapq\n",
    "\n",
    "\n",
    "def f(n: int):\n",
    "\n",
    "    def h(x):\n",
    "        return 1\n",
    "\n",
    "    pq = [(h(0), 0, 0)]  # priority, step, cur\n",
    "    costs = {0: 0}\n",
    "    best = set()\n",
    "    while pq:\n",
    "        _, step, cur = heapq.heappop(pq)\n",
    "        if cur == n:\n",
    "            return step\n",
    "        best.add(cur)\n",
    "        for nei in range(1, int((n - cur)**.5) + 1):\n",
    "            nei = cur + nei**2\n",
    "            if nei not in best:\n",
    "                if nei not in costs or step + 1 < costs[nei]:\n",
    "                    costs[nei] = step + 1\n",
    "                    priority = h(nei) + step + 1\n",
    "                    heapq.heappush(pq, (priority, step + 1, nei))\n",
    "\n",
    "\n",
    "f(12),f(4)"
   ]
  },
  {
   "cell_type": "code",
   "execution_count": null,
   "metadata": {},
   "outputs": [],
   "source": []
  }
 ],
 "metadata": {
  "interpreter": {
   "hash": "aee8b7b246df8f9039afb4144a1f6fd8d2ca17a180786b69acc140d282b71a49"
  },
  "kernelspec": {
   "display_name": "Python 3.10.1 64-bit",
   "language": "python",
   "name": "python3"
  },
  "language_info": {
   "codemirror_mode": {
    "name": "ipython",
    "version": 3
   },
   "file_extension": ".py",
   "mimetype": "text/x-python",
   "name": "python",
   "nbconvert_exporter": "python",
   "pygments_lexer": "ipython3",
   "version": "3.10.1"
  },
  "orig_nbformat": 4
 },
 "nbformat": 4,
 "nbformat_minor": 2
}
