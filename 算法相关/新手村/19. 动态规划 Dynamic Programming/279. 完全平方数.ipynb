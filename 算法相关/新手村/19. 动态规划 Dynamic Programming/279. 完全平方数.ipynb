{
 "cells": [
  {
   "cell_type": "code",
   "execution_count": 4,
   "metadata": {},
   "outputs": [
    {
     "data": {
      "text/plain": [
       "(3, 1)"
      ]
     },
     "execution_count": 4,
     "metadata": {},
     "output_type": "execute_result"
    }
   ],
   "source": [
    "def f(n: int):\n",
    "    # dp[i] 和为i的完全平方数的最少个数\n",
    "    # dp[1]=1 dp[0]=0\n",
    "    dp = [float('inf')] * (n + 1)\n",
    "    dp[0], dp[1] = 0, 1\n",
    "    for j in range(1, int(n**.5) + 1):\n",
    "        cur = j**2\n",
    "        for i in range(2, n + 1):\n",
    "            if cur <= i:\n",
    "                dp[i] = min(dp[i], dp[i - cur] + 1)\n",
    "    return dp[-1]\n",
    "\n",
    "\n",
    "f(12), f(4)\n"
   ]
  },
  {
   "cell_type": "code",
   "execution_count": 9,
   "metadata": {},
   "outputs": [
    {
     "data": {
      "text/plain": [
       "(3, 1)"
      ]
     },
     "execution_count": 9,
     "metadata": {},
     "output_type": "execute_result"
    }
   ],
   "source": [
    "# BFS\n",
    "import collections\n",
    "\n",
    "\n",
    "def f(n: int):\n",
    "    q = collections.deque([(0, 0)])  # step ,num\n",
    "    vis = {0}\n",
    "    while q:\n",
    "        step, cur = q.popleft()\n",
    "        for nei in range(int((n - cur)**.5), 0, -1):\n",
    "            nei = cur + nei**2\n",
    "            if nei == n:\n",
    "                return step + 1\n",
    "            if nei not in vis:\n",
    "                vis.add(nei)\n",
    "                q.append((step + 1, nei))\n",
    "\n",
    "\n",
    "f(12), f(4)\n"
   ]
  },
  {
   "cell_type": "code",
   "execution_count": 14,
   "metadata": {},
   "outputs": [
    {
     "data": {
      "text/plain": [
       "(3, 1)"
      ]
     },
     "execution_count": 14,
     "metadata": {},
     "output_type": "execute_result"
    }
   ],
   "source": [
    "# A* 效率不高\n",
    "import heapq\n",
    "\n",
    "\n",
    "def f(n: int):\n",
    "\n",
    "    def h(x):\n",
    "        return 1\n",
    "\n",
    "    pq = [(h(0), 0, 0)]  # priority, step, cur\n",
    "    costs = {0: 0}\n",
    "    best = set()\n",
    "    while pq:\n",
    "        _, step, cur = heapq.heappop(pq)\n",
    "        if cur == n:\n",
    "            return step\n",
    "        best.add(cur)\n",
    "        for nei in range(1, int((n - cur)**.5) + 1):\n",
    "            nei = cur + nei**2\n",
    "            if nei not in best:\n",
    "                if nei not in costs or step + 1 < costs[nei]:\n",
    "                    costs[nei] = step + 1\n",
    "                    priority = h(nei) + step + 1\n",
    "                    heapq.heappush(pq, (priority, step + 1, nei))\n",
    "\n",
    "\n",
    "f(12),f(4)"
   ]
  },
  {
   "cell_type": "code",
   "execution_count": null,
   "metadata": {},
   "outputs": [],
   "source": []
  }
 ],
 "metadata": {
  "interpreter": {
   "hash": "aee8b7b246df8f9039afb4144a1f6fd8d2ca17a180786b69acc140d282b71a49"
  },
  "kernelspec": {
   "display_name": "Python 3.10.1 64-bit",
   "language": "python",
   "name": "python3"
  },
  "language_info": {
   "codemirror_mode": {
    "name": "ipython",
    "version": 3
   },
   "file_extension": ".py",
   "mimetype": "text/x-python",
   "name": "python",
   "nbconvert_exporter": "python",
   "pygments_lexer": "ipython3",
   "version": "3.10.1"
  },
  "orig_nbformat": 4
 },
 "nbformat": 4,
 "nbformat_minor": 2
}
