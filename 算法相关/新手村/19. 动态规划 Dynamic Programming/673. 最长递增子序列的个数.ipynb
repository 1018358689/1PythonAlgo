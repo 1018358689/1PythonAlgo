{
 "cells": [
  {
   "cell_type": "code",
   "execution_count": null,
   "metadata": {},
   "outputs": [],
   "source": [
    "from typing import List\n",
    "\n",
    "\n",
    "class Solution:\n",
    "\n",
    "    def findNumberOfLIS(self, nums: List[int]) -> int:\n",
    "        # dp[i] 以nums[i] 结尾的最长递增子序列长度\n",
    "        # cnt[i] 以nums[i] 结尾的最长递增子序列个数\n",
    "        dp = [1] * len(nums)\n",
    "        cnt = [1] * len(nums)\n",
    "        for i in range(1, len(nums)):\n",
    "            for j in range(i):\n",
    "                if nums[i] > nums[j]:\n",
    "                    if dp[j] + 1 > dp[i]:\n",
    "                        dp[i] = dp[j] + 1\n",
    "                        cnt[i] = cnt[j]\n",
    "                    elif dp[j] + 1 == dp[i]:\n",
    "                        cnt[i] += cnt[j]\n",
    "        mx = max(dp)\n",
    "        return sum(cnt[i] for i in range(len(nums)) if dp[i] == mx)\n"
   ]
  },
  {
   "cell_type": "code",
   "execution_count": null,
   "metadata": {},
   "outputs": [],
   "source": [
    "from math import inf\n",
    "from typing import List\n",
    "from collections import defaultdict\n",
    "from bisect import bisect_left\n",
    "\n",
    "\n",
    "class Solution:\n",
    "\n",
    "    def findNumberOfLIS(self, nums: List[int]) -> int:\n",
    "        lst = []  # 长度索引+1的最小结尾数 是最长递增子序列\n",
    "        lgh2numcnt = defaultdict(list)  # 长度:(结尾数字，个数)\n",
    "        lgh2numcnt[0].append((-inf, 1))\n",
    "        for x in nums:\n",
    "            i = bisect_left(lst, x)  # >=x\n",
    "            if i == len(lst):\n",
    "                lst.append(x)\n",
    "            else:\n",
    "                lst[i] = x\n",
    "            # 当前长度i+1 只能从 长度i 继承\n",
    "            cnt = sum(c for y, c in lgh2numcnt[i] if y < x)\n",
    "            lgh2numcnt[i + 1].append((x, cnt))\n",
    "        return sum(c for x, c in lgh2numcnt[len(lst)])\n"
   ]
  }
 ],
 "metadata": {
  "kernelspec": {
   "display_name": "Python 3",
   "language": "python",
   "name": "python3"
  },
  "language_info": {
   "name": "python",
   "version": "3.11.1 (tags/v3.11.1:a7a450f, Dec  6 2022, 19:58:39) [MSC v.1934 64 bit (AMD64)]"
  },
  "orig_nbformat": 4,
  "vscode": {
   "interpreter": {
    "hash": "ff4b1fca65a764b45acb559e482afe389d289dd599b9f8c5fd12ff5c2ea46a65"
   }
  }
 },
 "nbformat": 4,
 "nbformat_minor": 2
}
