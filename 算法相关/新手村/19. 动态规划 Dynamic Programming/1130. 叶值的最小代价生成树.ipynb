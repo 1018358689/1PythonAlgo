{
 "cells": [
  {
   "cell_type": "code",
   "execution_count": null,
   "metadata": {},
   "outputs": [],
   "source": [
    "from functools import lru_cache\n",
    "from math import inf\n",
    "from typing import List\n",
    "\n",
    "\n",
    "class Solution:\n",
    "\n",
    "    def mctFromLeafValues(self, arr: List[int]) -> int:\n",
    "\n",
    "        @lru_cache(None)\n",
    "        def dfs(l, r):  # arr[l,l+1...r]的叶值的最小代价生成树总和\n",
    "            if l == r:\n",
    "                return 0\n",
    "            ans = inf\n",
    "            for m in range(l, r):\n",
    "                ans = min(ans, dfs(l, m) + dfs(m + 1, r) + max(arr[l:m + 1]) * max(arr[m + 1:r + 1]))\n",
    "            return ans\n",
    "\n",
    "        return dfs(0, len(arr) - 1)\n"
   ]
  }
 ],
 "metadata": {
  "language_info": {
   "name": "python"
  },
  "orig_nbformat": 4
 },
 "nbformat": 4,
 "nbformat_minor": 2
}
