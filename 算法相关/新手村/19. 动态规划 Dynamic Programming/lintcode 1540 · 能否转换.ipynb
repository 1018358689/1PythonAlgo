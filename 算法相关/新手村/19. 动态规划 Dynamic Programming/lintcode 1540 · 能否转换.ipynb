{
 "cells": [
  {
   "cell_type": "code",
   "execution_count": 6,
   "metadata": {},
   "outputs": [
    {
     "data": {
      "text/plain": [
       "False"
      ]
     },
     "execution_count": 6,
     "metadata": {},
     "output_type": "execute_result"
    }
   ],
   "source": [
    "from collections import defaultdict\n",
    "\n",
    "\n",
    "class Solution:\n",
    "\n",
    "    def can_convert(self, s: str, t: str) -> bool:\n",
    "        if not s and not t:\n",
    "            return True\n",
    "        elif not s or not t:\n",
    "            return False\n",
    "        n1, n2 = len(s), len(t)\n",
    "        if n1 < n2:\n",
    "            return False\n",
    "        elif n1 == n2:\n",
    "            return s == t\n",
    "        # dp[i][j] 前i个字符的s 和前j个字符的t 能否转换\n",
    "        # dp[i][j] = dp[i-1][j-1] if s[i-1]==t[j-1] else dp[i-1][j]\n",
    "        # basecase dp[0][0] = True i>j False\n",
    "        dp = defaultdict(lambda: defaultdict(lambda: False))\n",
    "        dp[0][0] = True\n",
    "        for i in range(1, n1 + 1):\n",
    "            for j in range(min(n2, i) + 1):\n",
    "                dp[i][j] = dp[i - 1][j - 1] if s[i - 1] == t[j - 1] else dp[i - 1][j]\n",
    "        return dp[n1][n2]\n",
    "\n",
    "\n",
    "s = Solution()\n",
    "s.can_convert(\"adda\", \"aad\")\n"
   ]
  },
  {
   "cell_type": "code",
   "execution_count": null,
   "metadata": {},
   "outputs": [],
   "source": [
    "class Solution:\n",
    "\n",
    "    def can_convert(self, s: str, t: str) -> bool:\n",
    "        if not s and not t:\n",
    "            return True\n",
    "        elif not s or not t:\n",
    "            return False\n",
    "        sz = len(t)\n",
    "        index_t = 0\n",
    "        for n in s:\n",
    "            if t[index_t] == n:\n",
    "                index_t += 1\n",
    "                if index_t > sz - 1:\n",
    "                    return True\n",
    "        return False"
   ]
  }
 ],
 "metadata": {
  "kernelspec": {
   "display_name": "Python 3",
   "language": "python",
   "name": "python3"
  },
  "language_info": {
   "codemirror_mode": {
    "name": "ipython",
    "version": 3
   },
   "file_extension": ".py",
   "mimetype": "text/x-python",
   "name": "python",
   "nbconvert_exporter": "python",
   "pygments_lexer": "ipython3",
   "version": "3.10.5"
  },
  "orig_nbformat": 4,
  "vscode": {
   "interpreter": {
    "hash": "3196968d684371006099b3d55edeef8ed90365227a30deaef86e5d4aa8519be0"
   }
  }
 },
 "nbformat": 4,
 "nbformat_minor": 2
}
