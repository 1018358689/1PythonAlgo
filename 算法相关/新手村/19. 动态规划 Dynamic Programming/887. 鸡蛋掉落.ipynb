{
 "cells": [
  {
   "cell_type": "code",
   "execution_count": 81,
   "metadata": {},
   "outputs": [
    {
     "data": {
      "text/plain": [
       "2"
      ]
     },
     "execution_count": 81,
     "metadata": {},
     "output_type": "execute_result"
    }
   ],
   "source": [
    "# https://www.bilibili.com/video/BV1KE41137PK?from=search&seid=17973611971894816621\n",
    "# 超时\n",
    "def f(k: int, n: int):\n",
    "    # dp[i][j] 有i个鸡蛋确定j层楼中f确切值的最小操作次数\n",
    "    # i:[0,k] j:[0,n]\n",
    "    # dp[i][j] = min(dp[i][j],max(dp[i-1][c-1],dp[i][j-c])+1)\n",
    "    # dp[0][j]=float('inf') dp[i][0]=0\n",
    "    dp = [[float('inf')] * (n + 1) for _ in range(k + 1)]\n",
    "    for j in range(n + 1):\n",
    "        dp[0][j] = float('inf')\n",
    "    for i in range(k + 1):\n",
    "        dp[i][0] = 0\n",
    "    for i in range(1, k + 1):\n",
    "        for j in range(1, n + 1):\n",
    "            for c in range(1, j + 1):\n",
    "                dp[i][j] = min(dp[i][j], max(dp[i - 1][c - 1], dp[i][j - c]) + 1)\n",
    "    return dp[-1][-1]\n",
    "\n",
    "\n",
    "f(2, 6)\n",
    "# f(1,2)\n",
    "# f(3, 14)\n",
    "f(2,2)"
   ]
  },
  {
   "cell_type": "code",
   "execution_count": 86,
   "metadata": {},
   "outputs": [
    {
     "data": {
      "text/plain": [
       "14"
      ]
     },
     "execution_count": 86,
     "metadata": {},
     "output_type": "execute_result"
    }
   ],
   "source": [
    "# https://www.bilibili.com/video/BV1KE41137PK?from=search&seid=17973611971894816621\n",
    "# 超时\n",
    "def f(k: int, n: int):\n",
    "    # dp[i][j] 有i个鸡蛋确定j层楼中f确切值的最小操作次数\n",
    "    # i:[0,k] j:[0,n]\n",
    "    # dp[i][j] = min(dp[i][j],max(dp[i-1][c-1],dp[i][j-c])+1)\n",
    "    # dp[0][j]=float('inf') dp[i][0]=0\n",
    "    dp = [[float('inf')] * (n + 1) for _ in range(k + 1)]\n",
    "    for j in range(n + 1):\n",
    "        dp[0][j] = float('inf')\n",
    "    for i in range(k + 1):\n",
    "        dp[i][0] = 0\n",
    "    for i in range(1, k + 1):\n",
    "        for j in range(1, n + 1):\n",
    "            l, r = 1, j\n",
    "            while l <= r:\n",
    "                c = (l + r) >> 1\n",
    "                if (broken := dp[i - 1][c - 1]) > (noBroken := dp[i][j - c]):\n",
    "                    r = c - 1\n",
    "                    dp[i][j] = min(dp[i][j], broken + 1)\n",
    "                else:\n",
    "                    l = c + 1\n",
    "                    dp[i][j] = min(dp[i][j], noBroken + 1)\n",
    "    return dp[-1][-1]\n",
    "\n",
    "\n",
    "f(2, 6)\n",
    "f(1, 2)\n",
    "f(3, 14)\n",
    "f(2, 2)\n",
    "f(12, 8191)\n"
   ]
  },
  {
   "cell_type": "code",
   "execution_count": 84,
   "metadata": {},
   "outputs": [
    {
     "data": {
      "text/plain": [
       "13"
      ]
     },
     "execution_count": 84,
     "metadata": {},
     "output_type": "execute_result"
    }
   ],
   "source": [
    "# https://www.bilibili.com/video/BV1KE41137PK?from=search&seid=17973611971894816621\n",
    "from functools import lru_cache\n",
    "# 不明白为什么自顶向下能过 自底向上超时\n",
    "\n",
    "def f(k: int, n: int):\n",
    "    # dp[i][j] 有i个鸡蛋确定j层楼中f确切值的最小操作次数\n",
    "    # i:[0,k] j:[0,n]\n",
    "    # dp[i][j] = min(dp[i][j],max(dp[i-1][c-1],dp[i][j-c])+1)\n",
    "    # dp[0][j]=float('inf') dp[i][0]=0\n",
    "    @lru_cache(None)\n",
    "    def dp(i, j):\n",
    "        if j == 0:\n",
    "            return 0\n",
    "        if i == 0:\n",
    "            return float('inf')\n",
    "        l, r = 1, j\n",
    "        res = float('inf')\n",
    "        while l <= r:\n",
    "            c = (l + r) >> 1\n",
    "            if (broken := dp(i - 1, c - 1)) > (noBroken := dp(i, j - c)):\n",
    "                r = c - 1\n",
    "                res = min(res, broken + 1)\n",
    "            else:\n",
    "                l = c + 1\n",
    "                res = min(res, noBroken + 1)\n",
    "        return res\n",
    "\n",
    "    return dp(k, n)\n",
    "\n",
    "\n",
    "f(2, 6)\n",
    "f(1, 2)\n",
    "f(3, 14)\n",
    "f(2, 2)\n",
    "f(12, 8190)\n"
   ]
  },
  {
   "cell_type": "code",
   "execution_count": 83,
   "metadata": {},
   "outputs": [
    {
     "data": {
      "text/plain": [
       "2"
      ]
     },
     "execution_count": 83,
     "metadata": {},
     "output_type": "execute_result"
    }
   ],
   "source": [
    "# https://www.bilibili.com/video/BV1KE41137PK?from=search&seid=17973611971894816621\n",
    "from functools import lru_cache\n",
    "# 超时\n",
    "\n",
    "\n",
    "def f(k: int, n: int):\n",
    "    # dp[i][j] 有i个鸡蛋确定j层楼中f确切值的最小操作次数\n",
    "    # i:[0,k] j:[0,n]\n",
    "    # dp[i][j] = min(dp[i][j],max(dp[i-1][c-1],dp[i][j-c])+1)\n",
    "    # dp[0][j]=float('inf') dp[i][0]=0\n",
    "    @lru_cache(None)\n",
    "    def dp(i, j):\n",
    "        if j == 0:\n",
    "            return 0\n",
    "        if i == 0:\n",
    "            return float('inf')\n",
    "        res = float('inf')\n",
    "        for c in range(1, j + 1):\n",
    "            res = min(res, max(dp(i - 1, c - 1), dp(i, j - c)) + 1)\n",
    "        return res\n",
    "\n",
    "    return dp(k, n)\n",
    "\n",
    "\n",
    "f(2, 6)\n",
    "f(1, 2)\n",
    "f(3, 14)\n",
    "f(2, 2)"
   ]
  },
  {
   "cell_type": "code",
   "execution_count": null,
   "metadata": {},
   "outputs": [],
   "source": []
  }
 ],
 "metadata": {
  "interpreter": {
   "hash": "aee8b7b246df8f9039afb4144a1f6fd8d2ca17a180786b69acc140d282b71a49"
  },
  "kernelspec": {
   "display_name": "Python 3.10.1 64-bit",
   "language": "python",
   "name": "python3"
  },
  "language_info": {
   "codemirror_mode": {
    "name": "ipython",
    "version": 3
   },
   "file_extension": ".py",
   "mimetype": "text/x-python",
   "name": "python",
   "nbconvert_exporter": "python",
   "pygments_lexer": "ipython3",
   "version": "3.10.1"
  },
  "orig_nbformat": 4
 },
 "nbformat": 4,
 "nbformat_minor": 2
}
