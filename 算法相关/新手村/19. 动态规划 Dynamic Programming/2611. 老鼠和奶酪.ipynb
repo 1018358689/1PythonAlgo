{
 "cells": [
  {
   "cell_type": "code",
   "execution_count": 1,
   "metadata": {},
   "outputs": [],
   "source": [
    "from math import inf\n",
    "from typing import List\n",
    "\n",
    "\n",
    "class Solution:\n",
    "\n",
    "    def miceAndCheese(self, reward1: List[int], reward2: List[int], k: int) -> int:\n",
    "        n = len(reward1)\n",
    "\n",
    "        # r1[i]+r2[j] > r2[i]+r1[j]\n",
    "        # r1[i] - r2[i] > r1[j] - r2[j]\n",
    "        scores = sorted((r1 - r2 for r1, r2 in zip(reward1, reward2)), reverse = True)\n",
    "        return sum(scores[:k]) + sum(reward2)\n",
    "    \n",
    "        # 动态规划超时\n",
    "        # f = [-inf] * (k + 2)\n",
    "        # f[1] = 0\n",
    "        # for i in range(n):\n",
    "        #     for j in range(k + 1):\n",
    "        #         f[j + 1] = reward1[i] + f[j]\n",
    "        #         if (sub := reward2[i] + f[j + 1]) > f[j + 1]:\n",
    "        #             f[j + 1] = sub\n",
    "        # return f[k + 1]\n",
    "\n",
    "        # @lru_cache(None)\n",
    "        # def dfs(i, j): # 前i块奶酪被第一只恰好吃掉j块的最大得分\n",
    "        #     if j < 0: return -inf\n",
    "        #     if i < 0:\n",
    "        #         return 0 if j == 0 else -inf\n",
    "        #     # 吃最后一块\n",
    "        #     ans = reward1[i] + dfs(i - 1, j - 1)\n",
    "        #     # 不吃最后一块\n",
    "        #     if (sub := reward2[i] + dfs(i - 1, j)) > ans:\n",
    "        #         ans = sub\n",
    "        #     return ans\n",
    "        # return dfs(n - 1, k)\n",
    "\n",
    "        # f = [[-inf] * (k + 2) for _ in range(n + 1)]\n",
    "        # f[0][1] = 0\n",
    "        # for i in range(n):\n",
    "        #     for j in range(k + 1):\n",
    "        #         f[i + 1][j + 1] = reward1[i] + f[i][j]\n",
    "        #         if (sub := reward2[i] + f[i][j + 1]) > f[i + 1][j + 1]:\n",
    "        #             f[i + 1][j + 1] = sub\n",
    "        # return f[n][k + 1]"
   ]
  },
  {
   "cell_type": "code",
   "execution_count": null,
   "metadata": {},
   "outputs": [],
   "source": [
    "sum"
   ]
  }
 ],
 "metadata": {
  "kernelspec": {
   "display_name": "Python 3",
   "language": "python",
   "name": "python3"
  },
  "language_info": {
   "codemirror_mode": {
    "name": "ipython",
    "version": 3
   },
   "file_extension": ".py",
   "mimetype": "text/x-python",
   "name": "python",
   "nbconvert_exporter": "python",
   "pygments_lexer": "ipython3",
   "version": "3.10.5"
  },
  "orig_nbformat": 4
 },
 "nbformat": 4,
 "nbformat_minor": 2
}
