{
 "cells": [
  {
   "cell_type": "code",
   "execution_count": 1,
   "metadata": {},
   "outputs": [],
   "source": [
    "from functools import lru_cache\n",
    "from typing import List\n",
    "\n",
    "\n",
    "class Solution:\n",
    "\n",
    "    def lengthOfLIS(self, nums: List[int]) -> int:\n",
    "\n",
    "        @lru_cache(None)\n",
    "        def dfs(i):  # 以nums[i]结尾的最长递增子序列\n",
    "            tmp = 1\n",
    "            for j in range(i - 1, -1, -1):\n",
    "                if nums[i] > nums[j]:\n",
    "                    tmp = max(tmp, dfs(j) + 1)\n",
    "            return tmp\n",
    "\n",
    "        ans = 1\n",
    "        for i in range(len(nums)):\n",
    "            ans = max(ans, dfs(i))\n",
    "        dfs.cache_clear()\n",
    "        return ans\n"
   ]
  },
  {
   "cell_type": "code",
   "execution_count": 2,
   "metadata": {},
   "outputs": [],
   "source": [
    "from typing import List\n",
    "\n",
    "\n",
    "class Solution:\n",
    "\n",
    "    def lengthOfLIS(self, nums: List[int]) -> int:\n",
    "        # 以nums[i]结尾的最长递增子序列\n",
    "        n = len(nums)\n",
    "        dp = [1] * n\n",
    "        ans = 1\n",
    "        for i in range(1, n):\n",
    "            x = nums[i]\n",
    "            for j in range(i):\n",
    "                if x > nums[j]:\n",
    "                    dp[i] = max(dp[i], dp[j] + 1)\n",
    "            ans = max(ans, dp[i])\n",
    "        return ans"
   ]
  },
  {
   "cell_type": "code",
   "execution_count": null,
   "metadata": {},
   "outputs": [],
   "source": [
    "from typing import List\n",
    "from bisect import bisect_left\n",
    "\n",
    "\n",
    "class Solution:\n",
    "\n",
    "    def lengthOfLIS(self, nums: List[int]) -> int:\n",
    "        lst = []  # 长度索引+1的最小结尾数 是最长递增子序列\n",
    "        ans = 0\n",
    "        for x in nums:\n",
    "            i = bisect_left(lst, x)  # >=x的第一个坐标\n",
    "            if i == len(lst):  # 全<x\n",
    "                lst.append(x)\n",
    "                ans += 1\n",
    "            else:\n",
    "                lst[i] = x\n",
    "        return ans"
   ]
  },
  {
   "cell_type": "code",
   "execution_count": null,
   "metadata": {},
   "outputs": [],
   "source": [
    "# lc926 最长不下降子序列\n",
    "class Solution:\n",
    "    def minFlipsMonoIncr(self, s: str) -> int:\n",
    "        # LIS 最长不下降子序列\n",
    "        lst = []\n",
    "        lgh = 0\n",
    "        for x in s:\n",
    "            l = bisect_right(lst, x) # >\n",
    "            if l == lgh: # 全 <= 可以增加长度了  因为是不下降所以在 <= 添加\n",
    "                lst.append(x)\n",
    "                lgh += 1\n",
    "            else:\n",
    "                lst[l] = x\n",
    "        return len(s) - lgh"
   ]
  }
 ],
 "metadata": {
  "kernelspec": {
   "display_name": "Python 3",
   "language": "python",
   "name": "python3"
  },
  "language_info": {
   "codemirror_mode": {
    "name": "ipython",
    "version": 3
   },
   "file_extension": ".py",
   "mimetype": "text/x-python",
   "name": "python",
   "nbconvert_exporter": "python",
   "pygments_lexer": "ipython3",
   "version": "3.10.5"
  },
  "orig_nbformat": 4,
  "vscode": {
   "interpreter": {
    "hash": "ff4b1fca65a764b45acb559e482afe389d289dd599b9f8c5fd12ff5c2ea46a65"
   }
  }
 },
 "nbformat": 4,
 "nbformat_minor": 2
}
