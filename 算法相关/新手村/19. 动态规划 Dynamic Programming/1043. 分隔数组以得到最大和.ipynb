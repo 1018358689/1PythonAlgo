{
 "cells": [
  {
   "cell_type": "code",
   "execution_count": null,
   "metadata": {},
   "outputs": [],
   "source": [
    "# 问：为什么 j 的起止下标不用变？为什么 arr[p] 的下标不用变？\n",
    "# 答：既然是在 f 的最左边插入一个状态，那么就只需要修改和 f 有关的下标，其余任何逻辑都无需修改。\n",
    "# 初始值 f[0]=0 （翻译自 dfs(−1)=0）\n",
    "# 答案为 f[n]。（翻译自 dfs(n−1)）\n",
    "from math import inf\n",
    "from typing import List\n",
    "\n",
    "\n",
    "class Solution:\n",
    "\n",
    "    def maxSumAfterPartitioning(self, arr: List[int], k: int) -> int:\n",
    "        n = len(arr)\n",
    "        f = [-inf] * k\n",
    "        f[0] = 0\n",
    "        for i in range(n):\n",
    "            mx = -inf\n",
    "            ans = -inf\n",
    "            for j in range(i, max(i - k + 1, 0) - 1, -1):\n",
    "                x = arr[j]\n",
    "                if x > mx: mx = x\n",
    "                if (sub := f[j % k] + (i - j + 1) * mx) > ans: ans = sub\n",
    "                # 注意在循环结束前，f[(i+1) % k] 是需要用到的，不能提前覆盖\n",
    "            f[(i + 1) % k] = ans\n",
    "        return f[n % k]\n",
    "\n",
    "        # f = [-inf] * (n + 1)\n",
    "        # f[0] = 0\n",
    "        # for i in range(n):\n",
    "        #     mx = -inf\n",
    "        #     for j in range(i, max(i - k + 1, 0) - 1, -1):\n",
    "        #         x = arr[j]\n",
    "        #         if x > mx: mx = x\n",
    "        #         if (sub := f[j] + (i - j + 1) * mx) > f[i + 1]: f[i + 1] = sub\n",
    "        # return f[n]\n",
    "\n",
    "        # @lru_cache(None)\n",
    "        # def dfs(i):\n",
    "        #     if i < 0:\n",
    "        #         return 0\n",
    "        #     mx = -inf\n",
    "        #     ans = -inf\n",
    "        #     for j in range(i, max(i - k + 1, 0) - 1, -1): # 枚举左端点 1 <= i-j+1 <=k   i >= j >= i-k+1\n",
    "        #         x = arr[j]\n",
    "        #         if x > mx: mx = x\n",
    "        #         if (sub := dfs(j - 1) + (i - j + 1) * mx) > ans: ans = sub\n",
    "        #     return ans\n",
    "        # return dfs(n - 1)"
   ]
  }
 ],
 "metadata": {
  "language_info": {
   "name": "python"
  },
  "orig_nbformat": 4
 },
 "nbformat": 4,
 "nbformat_minor": 2
}
