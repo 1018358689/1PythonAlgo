{
 "cells": [
  {
   "cell_type": "code",
   "execution_count": 1,
   "metadata": {},
   "outputs": [
    {
     "data": {
      "text/plain": [
       "8"
      ]
     },
     "execution_count": 1,
     "metadata": {},
     "output_type": "execute_result"
    }
   ],
   "source": [
    "from functools import lru_cache\n",
    "\n",
    "\n",
    "class Solution:\n",
    "\n",
    "    def countGoodStrings(self, low: int, high: int, zero: int, one: int) -> int:\n",
    "        # dp[i] 长度为i的好字符串数目\n",
    "        # dp[i] = dp[i-zero]+dp[i-one]\n",
    "        # dp[0] = 1\n",
    "        mod = 10**9 + 7\n",
    "\n",
    "        @lru_cache(None)\n",
    "        def dp(i):\n",
    "            if i == 0:\n",
    "                return 1\n",
    "            if i < 0:\n",
    "                return 0\n",
    "            return (dp(i - zero) + dp(i - one)) % mod\n",
    "\n",
    "        return sum(dp(i) for i in range(low, high + 1)) % mod\n",
    "\n",
    "\n",
    "s = Solution()\n",
    "s.countGoodStrings(3, 3, 1, 1)\n"
   ]
  }
 ],
 "metadata": {
  "kernelspec": {
   "display_name": "Python 3.10.6 64-bit",
   "language": "python",
   "name": "python3"
  },
  "language_info": {
   "codemirror_mode": {
    "name": "ipython",
    "version": 3
   },
   "file_extension": ".py",
   "mimetype": "text/x-python",
   "name": "python",
   "nbconvert_exporter": "python",
   "pygments_lexer": "ipython3",
   "version": "3.10.6"
  },
  "orig_nbformat": 4,
  "vscode": {
   "interpreter": {
    "hash": "916dbcbb3f70747c44a77c7bcd40155683ae19c65e1c03b4aa3499c5328201f1"
   }
  }
 },
 "nbformat": 4,
 "nbformat_minor": 2
}
