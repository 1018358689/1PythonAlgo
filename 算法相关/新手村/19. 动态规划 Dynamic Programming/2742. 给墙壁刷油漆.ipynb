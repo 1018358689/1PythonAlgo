{
 "cells": [
  {
   "cell_type": "code",
   "execution_count": null,
   "metadata": {},
   "outputs": [],
   "source": [
    "# 三个参数超时\n",
    "class Solution:\n",
    "\n",
    "    def paintWalls(self, cost: List[int], time: List[int]) -> int:\n",
    "        n = len(cost)\n",
    "\n",
    "        @lru_cache(None)\n",
    "        def dfs(i, j, k):  # 表示第i个数选或不选 和 累计付费时间和免费时间\n",
    "            if i + 1 + k <= j: return 0  # 剩余墙可以都免费刷\n",
    "            if i < 0: return inf\n",
    "            sub1 = dfs(i - 1, j + time[i], k) + cost[i]\n",
    "            sub2 = dfs(i - 1, j, k + 1)\n",
    "            return min(sub1, sub2)\n",
    "\n",
    "        return dfs(n - 1, 0, 0)"
   ]
  },
  {
   "cell_type": "code",
   "execution_count": null,
   "metadata": {},
   "outputs": [],
   "source": [
    "class Solution:\n",
    "\n",
    "    def paintWalls(self, cost: List[int], time: List[int]) -> int:\n",
    "        n = len(cost)\n",
    "\n",
    "        @lru_cache(None)\n",
    "        def dfs(i, j):  # 表示第i个数选或不选 和 累计付费时间-免费时间 (可消耗)\n",
    "            if i + 1 <= j: return 0  # 剩余墙可以全部免费刷\n",
    "            if i < 0: return inf\n",
    "            sub1 = dfs(i - 1, j + time[i]) + cost[i]  # 选\n",
    "            sub2 = dfs(i - 1, j - 1)  # 不选\n",
    "            return min(sub1, sub2)\n",
    "\n",
    "        return dfs(n - 1, 0)"
   ]
  },
  {
   "cell_type": "code",
   "execution_count": null,
   "metadata": {},
   "outputs": [],
   "source": [
    "# 转换成01背包\n",
    "# n1 + n2 = n   t1 >= t2 == n2\n",
    "# t1 >= n - n1 -> t1 + n1 >= n -> (付费费用+1)总付费 >= n 的最少开销\n",
    "# 0-1 背包的一种「至少装满」的变形\n",
    "# 表示考虑前 i 个物品，剩余还需要凑出 j 的体积，此时的最小价值和。\n",
    "class Solution:\n",
    "\n",
    "    def paintWalls(self, cost: List[int], time: List[int]) -> int:\n",
    "        n = len(cost)\n",
    "\n",
    "        f = [inf] * (n + 1) # f[i][0] 表示 j<=0 的状态\n",
    "        f[0] = 0\n",
    "        for c, t in zip(cost, time):\n",
    "            for j in range(n, 0, -1):\n",
    "                f[j] = min(f[max(0, j - (t + 1))] + c, f[j])\n",
    "        return f[n]\n",
    "\n",
    "        # @lru_cache(None)\n",
    "        # def dfs(i, j):  # 前i个物品 剩余还要凑出j体积 的最小价值和\n",
    "        #     if j <= 0: return 0  # 空体积\n",
    "        #     if i < 0: return inf  # 空物品 又要体积>0 不可能\n",
    "        #     return min(dfs(i - 1, j - (time[i] + 1)) + cost[i], dfs(i - 1, j))\n",
    "\n",
    "        # return dfs(n - 1, n)"
   ]
  }
 ],
 "metadata": {
  "language_info": {
   "name": "python"
  },
  "orig_nbformat": 4
 },
 "nbformat": 4,
 "nbformat_minor": 2
}
