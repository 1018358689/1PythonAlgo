{
 "cells": [
  {
   "cell_type": "code",
   "execution_count": 9,
   "metadata": {},
   "outputs": [
    {
     "data": {
      "text/plain": [
       "6"
      ]
     },
     "execution_count": 9,
     "metadata": {},
     "output_type": "execute_result"
    }
   ],
   "source": [
    "from typing import List\n",
    "from collections import defaultdict\n",
    "\n",
    "\n",
    "class Solution:\n",
    "    def longestArithSeqLength(self, nums: List[int]) -> int:\n",
    "        # dp[i][j] 以nums[i] nums[j]结尾的最长等差数列长度\n",
    "        # i:[0,lgh-1] j:[i+1,lgh]\n",
    "        # dp[i][j]=max(dp[k][i]+1) k<i nums[i]*2=nums[k]+nums[j]\n",
    "        # basecase dp[i][j]=2\n",
    "        val2idx = {}\n",
    "        ans = 2\n",
    "        lgh = len(nums)\n",
    "        dp = defaultdict(lambda: defaultdict(lambda: 2))\n",
    "        for i in range(lgh - 1):\n",
    "            for j in range(i + 1, lgh):\n",
    "                k = val2idx.get(nums[i] * 2 - nums[j])\n",
    "                if k is not None:\n",
    "                    # if k < i:\n",
    "                    dp[i][j] = dp[k][i] + 1\n",
    "                    ans = max(ans, dp[i][j])\n",
    "            val2idx[nums[i]] = i  # 用完i再添加 保证k<i 可以覆盖是因为 相同值越后面肯定不会越小\n",
    "\n",
    "        return ans\n",
    "\n",
    "\n",
    "s = Solution()\n",
    "s.longestArithSeqLength([\n",
    "    44, 46, 22, 68, 45, 66, 43, 9, 37, 30, 50, 67, 32, 47, 44, 11, 15, 4, 11, 6, 20, 64, 54, 54, 61, 63, 23, 43, 3, 12, 51, 61, 16, 57, 14, 12, 55, 17, 18, 25, 19, 28, 45, 56, 29, 39, 52, 8, 1, 21, 17, 21, 23, 70, 51, 61, 21, 52, 25,\n",
    "    28\n",
    "])\n"
   ]
  },
  {
   "cell_type": "code",
   "execution_count": 13,
   "metadata": {},
   "outputs": [
    {
     "data": {
      "text/plain": [
       "6"
      ]
     },
     "execution_count": 13,
     "metadata": {},
     "output_type": "execute_result"
    }
   ],
   "source": [
    "from typing import List\n",
    "from collections import defaultdict\n",
    "\n",
    "\n",
    "class Solution:\n",
    "    def search(self, nums, target):  # <target\n",
    "        l, r = 0, len(nums) - 1\n",
    "        while l <= r:\n",
    "            m = l + r >> 1\n",
    "            if nums[m] < target:\n",
    "                l = m + 1\n",
    "            else:\n",
    "                r = m - 1\n",
    "        return nums[r] if r >= 0 else -1\n",
    "\n",
    "    def longestArithSeqLength(self, nums: List[int]) -> int:\n",
    "        # dp[i][j] 以nums[i] nums[j]结尾的最长等差数列长度\n",
    "        # i:[0,lgh-1] j:[i+1,lgh]\n",
    "        # dp[i][j]=max(dp[k][i]+1) k<i nums[i]*2=nums[k]+nums[j]\n",
    "        # basecase dp[i][j]=2\n",
    "        val2idx = defaultdict(list)\n",
    "        for i, n in enumerate(nums):\n",
    "            val2idx[n].append(i)\n",
    "        ans = 2\n",
    "        lgh = len(nums)\n",
    "        dp = defaultdict(lambda: defaultdict(lambda: 2))\n",
    "        for i in range(lgh - 1):\n",
    "            for j in range(i + 1, lgh):\n",
    "                ks = val2idx.get(nums[i] * 2 - nums[j], [])\n",
    "                k = self.search(ks, i)\n",
    "                if k != -1:\n",
    "                    dp[i][j] = dp[k][i] + 1\n",
    "                    ans = max(ans, dp[i][j])\n",
    "        return ans\n",
    "\n",
    "\n",
    "s = Solution()\n",
    "s.longestArithSeqLength([\n",
    "    44, 46, 22, 68, 45, 66, 43, 9, 37, 30, 50, 67, 32, 47, 44, 11, 15, 4, 11, 6, 20, 64, 54, 54, 61, 63, 23, 43, 3, 12, 51, 61, 16, 57, 14, 12, 55, 17, 18, 25, 19, 28, 45, 56, 29, 39, 52, 8, 1, 21, 17, 21, 23, 70, 51, 61, 21, 52, 25,\n",
    "    28\n",
    "])\n"
   ]
  },
  {
   "cell_type": "code",
   "execution_count": null,
   "metadata": {},
   "outputs": [],
   "source": []
  }
 ],
 "metadata": {
  "kernelspec": {
   "display_name": "Python 3.8.10 64-bit",
   "language": "python",
   "name": "python3"
  },
  "language_info": {
   "codemirror_mode": {
    "name": "ipython",
    "version": 3
   },
   "file_extension": ".py",
   "mimetype": "text/x-python",
   "name": "python",
   "nbconvert_exporter": "python",
   "pygments_lexer": "ipython3",
   "version": "3.8.10"
  },
  "orig_nbformat": 4,
  "vscode": {
   "interpreter": {
    "hash": "570feb405e2e27c949193ac68f46852414290d515b0ba6e5d90d076ed2284471"
   }
  }
 },
 "nbformat": 4,
 "nbformat_minor": 2
}
