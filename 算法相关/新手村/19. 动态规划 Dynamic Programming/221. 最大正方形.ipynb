{
 "cells": [
  {
   "cell_type": "code",
   "execution_count": 7,
   "metadata": {},
   "outputs": [
    {
     "data": {
      "text/plain": [
       "4"
      ]
     },
     "execution_count": 7,
     "metadata": {},
     "output_type": "execute_result"
    }
   ],
   "source": [
    "def f(matrix: list):\n",
    "    # dp[i][j] 以matrix[i][j]结尾的最大边长\n",
    "    rows, cols = len(matrix), len(matrix[0])\n",
    "    dp = [list(map(int, matrix[r])) for r in range(rows)]\n",
    "    for r in range(1, rows):\n",
    "        for c in range(1, cols):\n",
    "            if matrix[r][c] == '0':\n",
    "                dp[r][c] = 0\n",
    "            else:\n",
    "                dp[r][c] = min(dp[r - 1][c], dp[r][c - 1], dp[r - 1][c - 1]) + 1  # 木桶理论 当前最大边长受限于左 上 左上的最短边长\n",
    "    return max(max(dp[r]) for r in range(rows))**2\n",
    "\n",
    "\n",
    "f([[\"1\", \"0\", \"1\", \"0\", \"0\"], [\"1\", \"0\", \"1\", \"1\", \"1\"], [\"1\", \"1\", \"1\", \"1\", \"1\"], [\"1\", \"0\", \"0\", \"1\", \"0\"]])\n"
   ]
  },
  {
   "cell_type": "code",
   "execution_count": null,
   "metadata": {},
   "outputs": [],
   "source": []
  }
 ],
 "metadata": {
  "interpreter": {
   "hash": "aee8b7b246df8f9039afb4144a1f6fd8d2ca17a180786b69acc140d282b71a49"
  },
  "kernelspec": {
   "display_name": "Python 3.10.1 64-bit",
   "language": "python",
   "name": "python3"
  },
  "language_info": {
   "codemirror_mode": {
    "name": "ipython",
    "version": 3
   },
   "file_extension": ".py",
   "mimetype": "text/x-python",
   "name": "python",
   "nbconvert_exporter": "python",
   "pygments_lexer": "ipython3",
   "version": "3.10.1"
  },
  "orig_nbformat": 4
 },
 "nbformat": 4,
 "nbformat_minor": 2
}
