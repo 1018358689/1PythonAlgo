{
 "cells": [
  {
   "cell_type": "code",
   "execution_count": null,
   "metadata": {},
   "outputs": [],
   "source": [
    "from typing import List\n",
    "\n",
    "\n",
    "class Solution:\n",
    "\n",
    "    def longestStrChain(self, words: List[str]) -> int:\n",
    "        # dp[i] 以words[i]结尾的最长递增子序列长度\n",
    "        # dp[i] = max(..dp[j]+1) 长度差1  check\n",
    "        def check(s1, s2, n1, n2):  # s1是不是s2的子序列\n",
    "            p1 = p2 = 0\n",
    "            cnt = 0\n",
    "            while p1 < n1 and p2 < n2 and cnt < 2:\n",
    "                if s1[p1] == s2[p2]:\n",
    "                    p1 += 1\n",
    "                    p2 += 1\n",
    "                else:\n",
    "                    p2 += 1\n",
    "                    cnt += 1\n",
    "            return p1 == n1\n",
    "\n",
    "        dp = [1] * len(words)\n",
    "        words.sort(key=len)\n",
    "        for i in range(1, len(words)):\n",
    "            x = words[i]\n",
    "            n2 = len(x)\n",
    "            for j in range(i - 1, -1, -1):\n",
    "                n1 = len(words[j])\n",
    "                if n1 == n2: continue\n",
    "                if n1 < n2 - 1:\n",
    "                    break\n",
    "                if check(words[j], x, n1, n2):\n",
    "                    dp[i] = max(dp[i], dp[j] + 1)\n",
    "        print(dp)\n",
    "        return max(dp)\n"
   ]
  }
 ],
 "metadata": {
  "language_info": {
   "name": "python"
  },
  "orig_nbformat": 4
 },
 "nbformat": 4,
 "nbformat_minor": 2
}
