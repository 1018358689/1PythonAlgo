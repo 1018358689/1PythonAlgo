{
 "cells": [
  {
   "cell_type": "code",
   "execution_count": null,
   "metadata": {},
   "outputs": [],
   "source": [
    "class Solution:\n",
    "    def countHousePlacements(self, n: int) -> int:\n",
    "        MOD = 10 ** 9 + 7\n",
    "        f0, f1 = 1, 0\n",
    "        for _ in range(n + 1):\n",
    "            f1, f0 = f0, f0 + f1\n",
    "            # f0, f1 = f0 + f1, f0 # 都可以\n",
    "        return (f0 * f0) % MOD\n",
    "\n",
    "        # f0, f1 = 1, 0\n",
    "        # for _ in range(n):\n",
    "        #     f1, f0 = f0 % MOD, (f0 %MOD + f1 % MOD) % MOD\n",
    "        # return ((f0 % MOD + f1 % MOD) % MOD *(f0 % MOD + f1 % MOD) % MOD) % MOD\n",
    "\n",
    "        # f0, f1 = 1, 0\n",
    "        # for _ in range(n):\n",
    "        #     f1, f0 = f0, f0 + f1\n",
    "        #     # f0, f1 = f0 + f1, f0 # 都可以\n",
    "        # return (f0 + f1) ** 2 % MOD\n",
    "\n",
    "        # @lru_cache(None)\n",
    "        # def dfs(i, j): # 前i个 第i个放与不放的方法数\n",
    "        #     if i < 0:\n",
    "        #         return 1 if j == 0 else 0\n",
    "        #     if j == 0:\n",
    "        #         return dfs(i - 1, 0) + dfs(i - 1, 1)\n",
    "        #     else:\n",
    "        #         return dfs(i - 1, 0)\n",
    "        # return (dfs(n - 1, 0) + dfs(n - 1, 1)) ** 2 % MOD"
   ]
  }
 ],
 "metadata": {
  "language_info": {
   "name": "python"
  },
  "orig_nbformat": 4
 },
 "nbformat": 4,
 "nbformat_minor": 2
}
