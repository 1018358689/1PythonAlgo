{
 "cells": [
  {
   "cell_type": "code",
   "execution_count": null,
   "metadata": {},
   "outputs": [],
   "source": [
    "from typing import List\n",
    "\n",
    "\n",
    "class Solution:\n",
    "\n",
    "    def maxUncrossedLines(self, nums1: List[int], nums2: List[int]) -> int:\n",
    "        # dp[i][j] nums1[:i] nums2[:j]的最长公共子序列长度\n",
    "        # dp[i][j] = dp[i-1][j-1]+1 if nums1[i-1]==nums2[j-1] else max(dp[i-1][j],dp[i][j-1])\n",
    "        # dp[0][j]=0 dp[i][0]=0\n",
    "        dp = [[0] * (len(nums2) + 1) for _ in range(len(nums1) + 1)]\n",
    "        for i in range(1, len(nums1) + 1):\n",
    "            for j in range(1, len(nums2) + 1):\n",
    "                dp[i][j] = dp[i - 1][j - 1] + 1 if nums1[i - 1] == nums2[j - 1] else max(dp[i - 1][j], dp[i][j - 1])\n",
    "        return dp[-1][-1]"
   ]
  }
 ],
 "metadata": {
  "kernelspec": {
   "display_name": "Python 3.10.5 64-bit",
   "language": "python",
   "name": "python3"
  },
  "language_info": {
   "name": "python",
   "version": "3.10.5"
  },
  "orig_nbformat": 4,
  "vscode": {
   "interpreter": {
    "hash": "3196968d684371006099b3d55edeef8ed90365227a30deaef86e5d4aa8519be0"
   }
  }
 },
 "nbformat": 4,
 "nbformat_minor": 2
}
