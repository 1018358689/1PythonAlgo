{
 "cells": [
  {
   "cell_type": "code",
   "execution_count": null,
   "metadata": {},
   "outputs": [],
   "source": [
    "from typing import List\n",
    "\n",
    "\n",
    "class Solution:\n",
    "\n",
    "    def findLUSlength(self, strs: List[str]) -> int:\n",
    "\n",
    "        def lcs(s1, s2):  # s1和s2的最长公共子序列长度\n",
    "            # dp[i][j] s1[0:i]和s2[0:j]的lcs i:[0,len(s1)] j:[0,len(s2)]\n",
    "            # basecase dp[0][...]=0 dp[...][0]=0\n",
    "            dp = [[0] * (len(s2) + 1) for _ in range(len(s1) + 1)]\n",
    "            for i in range(1, len(s1) + 1):\n",
    "                for j in range(1, len(s2) + 1):\n",
    "                    if s1[i - 1] == s2[j - 1]:\n",
    "                        dp[i][j] = dp[i - 1][j - 1] + 1\n",
    "                    else:\n",
    "                        dp[i][j] = max(dp[i][j - 1], dp[i - 1][j])\n",
    "            return dp[-1][-1]\n",
    "\n",
    "        ans = -1\n",
    "        for i, s1 in enumerate(strs):\n",
    "            if len(s1) > ans and all(lcs(s1, s2) != len(s1) for j, s2 in enumerate(strs) if i != j):\n",
    "                ans = len(s1)\n",
    "        return ans"
   ]
  }
 ],
 "metadata": {
  "language_info": {
   "name": "python"
  },
  "orig_nbformat": 4
 },
 "nbformat": 4,
 "nbformat_minor": 2
}
