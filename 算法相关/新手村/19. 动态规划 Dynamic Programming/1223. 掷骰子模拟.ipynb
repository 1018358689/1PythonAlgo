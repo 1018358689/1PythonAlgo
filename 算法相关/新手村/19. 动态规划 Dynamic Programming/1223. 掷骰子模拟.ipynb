{
 "cells": [
  {
   "cell_type": "code",
   "execution_count": 1,
   "metadata": {},
   "outputs": [],
   "source": [
    "from typing import List\n",
    "\n",
    "\n",
    "class Solution:\n",
    "\n",
    "    def dieSimulator(self, n: int, rollMax: List[int]) -> int:\n",
    "        # dp[i][j][k] 第i轮 投出j 且j出现连续k次的组合数\n",
    "        # i[0,n] j[1,6] [1,max(rollMax)]\n",
    "        # basecase dp[1][j][1] = 1\n",
    "        mod = 10**9 + 7\n",
    "        mx = max(rollMax)\n",
    "        dp = [[[0] * (mx + 1) for _ in range(7)] for _ in range(n + 1)]\n",
    "        for i in range(1, n + 1):\n",
    "            for j in range(1, 7):\n",
    "                if i == 1:\n",
    "                    dp[i][j][1] = 1\n",
    "                    continue\n",
    "                for k in range(1, mx + 1):\n",
    "                    if k == 1:\n",
    "                        dp[i][j][k] = sum(sum(dp[i - 1][other][:]) for other in range(1, 7) if other != j)\n",
    "                    elif 1 < k <= rollMax[j - 1]:\n",
    "                        dp[i][j][k] = dp[i - 1][j][k - 1]\n",
    "        return sum(sum(dp[n][j][:]) for j in range(1, 7)) % mod\n"
   ]
  },
  {
   "cell_type": "code",
   "execution_count": 2,
   "metadata": {},
   "outputs": [],
   "source": [
    "from typing import List\n",
    "\n",
    "\n",
    "class Solution:\n",
    "\n",
    "    def dieSimulator(self, n: int, rollMax: List[int]) -> int:\n",
    "        # dp[i][j][k] 第i轮 投出j 且j出现连续k次的组合数\n",
    "        # i[0,n] j[1,6] [1,max(rollMax)]\n",
    "        # basecase dp[1][j][1] = 1\n",
    "        mod = 10**9 + 7\n",
    "        mx = max(rollMax)\n",
    "        dp = [[[0] * (mx + 1) for _ in range(7)] for _ in range(n + 1)]\n",
    "        for i in range(1, n + 1):\n",
    "            for j in range(1, 7):\n",
    "                if i == 1:\n",
    "                    dp[i][j][1] = 1\n",
    "                    continue\n",
    "                for k in range(1, mx + 1):\n",
    "                    if k == 1:\n",
    "                        dp[i][j][k] = sum(sum(dp[i - 1][other][:]) for other in range(1, 7) if other != j)\n",
    "                    elif 1 < k <= rollMax[j - 1]:\n",
    "                        dp[i][j][k] = dp[i - 1][j][k - 1]\n",
    "        return sum(sum(dp[n][j][:]) for j in range(1, 7)) % mod\n"
   ]
  }
 ],
 "metadata": {
  "kernelspec": {
   "display_name": "Python 3",
   "language": "python",
   "name": "python3"
  },
  "language_info": {
   "codemirror_mode": {
    "name": "ipython",
    "version": 3
   },
   "file_extension": ".py",
   "mimetype": "text/x-python",
   "name": "python",
   "nbconvert_exporter": "python",
   "pygments_lexer": "ipython3",
   "version": "3.10.5"
  },
  "orig_nbformat": 4,
  "vscode": {
   "interpreter": {
    "hash": "3196968d684371006099b3d55edeef8ed90365227a30deaef86e5d4aa8519be0"
   }
  }
 },
 "nbformat": 4,
 "nbformat_minor": 2
}
