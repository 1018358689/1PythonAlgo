{
 "cells": [
  {
   "cell_type": "code",
   "execution_count": 1,
   "metadata": {},
   "outputs": [],
   "source": [
    "from typing import List\n",
    "\n",
    "\n",
    "class Solution:\n",
    "\n",
    "    def coinChange(self, coins: List[int], amount: int) -> int:\n",
    "        # dp[i][j] 硬币coins[:i]凑出j的最少硬币数\n",
    "        # dp[i][j]= dp[i-1][j] if coins[i-1]>j else min(dp[i-1][j],dp[i][j-coins[i-1]]+1)\n",
    "        # dp[0][j] = float('inf) dp[0][0] = 0\n",
    "        dp = [[float('inf')] * (amount + 1) for _ in range(len(coins) + 1)]\n",
    "        dp[0][0] = 0\n",
    "        for i in range(1, len(coins) + 1):\n",
    "            for j in range(amount + 1):\n",
    "                dp[i][j] = dp[i - 1][j] if coins[i - 1] > j else min(dp[i - 1][j], dp[i][j - coins[i - 1]] + 1)\n",
    "        return ans if (ans := dp[-1][-1]) != float('inf') else -1\n"
   ]
  },
  {
   "cell_type": "code",
   "execution_count": 2,
   "metadata": {},
   "outputs": [],
   "source": [
    "from typing import List\n",
    "from collections import deque\n",
    "\n",
    "\n",
    "class Solution:\n",
    "\n",
    "    def coinChange(self, coins: List[int], amount: int) -> int:\n",
    "        if amount == 0:\n",
    "            return 0\n",
    "        q = deque([(0, 0)])  # step,cur\n",
    "        vis = {0}\n",
    "        while q:\n",
    "            step, cur = q.popleft()\n",
    "            for coin in coins:\n",
    "                nei = cur + coin\n",
    "                if nei == amount:\n",
    "                    return step + 1\n",
    "                if nei < amount and nei not in vis:\n",
    "                    vis.add(nei)\n",
    "                    q.append((step + 1, nei))\n",
    "        return -1"
   ]
  },
  {
   "cell_type": "code",
   "execution_count": 6,
   "metadata": {},
   "outputs": [
    {
     "data": {
      "text/plain": [
       "[1, 'a', 'b']"
      ]
     },
     "execution_count": 6,
     "metadata": {},
     "output_type": "execute_result"
    }
   ],
   "source": [
    "l = [['a','b']]\n",
    "sum(l,[1])"
   ]
  },
  {
   "cell_type": "code",
   "execution_count": null,
   "metadata": {},
   "outputs": [],
   "source": []
  }
 ],
 "metadata": {
  "kernelspec": {
   "display_name": "Python 3.10.5 64-bit",
   "language": "python",
   "name": "python3"
  },
  "language_info": {
   "codemirror_mode": {
    "name": "ipython",
    "version": 3
   },
   "file_extension": ".py",
   "mimetype": "text/x-python",
   "name": "python",
   "nbconvert_exporter": "python",
   "pygments_lexer": "ipython3",
   "version": "3.10.5"
  },
  "orig_nbformat": 4,
  "vscode": {
   "interpreter": {
    "hash": "3196968d684371006099b3d55edeef8ed90365227a30deaef86e5d4aa8519be0"
   }
  }
 },
 "nbformat": 4,
 "nbformat_minor": 2
}
