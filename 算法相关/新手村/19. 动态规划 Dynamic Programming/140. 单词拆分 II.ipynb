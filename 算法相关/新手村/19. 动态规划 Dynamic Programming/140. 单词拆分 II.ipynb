{
 "cells": [
  {
   "cell_type": "code",
   "execution_count": 3,
   "metadata": {},
   "outputs": [
    {
     "data": {
      "text/plain": [
       "['cat sand dog', 'cats and dog']"
      ]
     },
     "execution_count": 3,
     "metadata": {},
     "output_type": "execute_result"
    }
   ],
   "source": [
    "from typing import List\n",
    "\n",
    "\n",
    "class Node:\n",
    "\n",
    "    def __init__(self) -> None:\n",
    "        self.children = {}\n",
    "        self.end = False\n",
    "\n",
    "\n",
    "class Trie:\n",
    "\n",
    "    def __init__(self) -> None:\n",
    "        self.root = Node()\n",
    "\n",
    "    def add(self, word):\n",
    "        cur = self.root\n",
    "        for w in word:\n",
    "            if w not in cur.children:\n",
    "                cur.children[w] = Node()\n",
    "            cur = cur.children[w]\n",
    "        cur.end = True\n",
    "\n",
    "    def query(self, word):\n",
    "        cur = self.root\n",
    "        for w in word:\n",
    "            if w not in cur.children:\n",
    "                return False\n",
    "            cur = cur.children[w]\n",
    "        return cur.end\n",
    "\n",
    "\n",
    "class Solution:\n",
    "\n",
    "    def wordBreak(self, s: str, wordDict: List[str]) -> List[str]:\n",
    "        trie = Trie()\n",
    "        for word in wordDict:\n",
    "            trie.add(word)\n",
    "        ans = []\n",
    "\n",
    "        def dfs(i, path):  # s[i:]能否由worddict构成 其实就是回溯\n",
    "            if i == len(s):\n",
    "                ans.append(' '.join(path))\n",
    "                return\n",
    "            for j in range(i + 1, len(s) + 1):\n",
    "                if trie.query(s[i:j]):\n",
    "                    dfs(j, path + [s[i:j]])\n",
    "\n",
    "        dfs(0, [])\n",
    "        return ans\n",
    "\n",
    "\n",
    "s = Solution()\n",
    "s.wordBreak(\"catsanddog\", [\"cat\", \"cats\", \"and\", \"sand\", \"dog\"])\n"
   ]
  },
  {
   "cell_type": "code",
   "execution_count": null,
   "metadata": {},
   "outputs": [],
   "source": [
    "from typing import List\n",
    "\n",
    "\n",
    "class Solution:\n",
    "\n",
    "    def wordBreak(self, s: str, wordDict: List[str]) -> List[str]:\n",
    "        wordDict = set(wordDict)\n",
    "        ans = []\n",
    "\n",
    "        def dfs(i, path):  # s[i:]能否由worddict构成\n",
    "            if i == len(s):\n",
    "                ans.append(' '.join(path))\n",
    "                return\n",
    "            for j in range(i + 1, len(s) + 1):\n",
    "                if s[i:j] in wordDict:\n",
    "                    dfs(j, path + [s[i:j]])\n",
    "\n",
    "        dfs(0, [])\n",
    "        return ans\n",
    "\n",
    "\n",
    "s = Solution()\n",
    "s.wordBreak(\"catsanddog\", [\"cat\", \"cats\", \"and\", \"sand\", \"dog\"])\n"
   ]
  }
 ],
 "metadata": {
  "kernelspec": {
   "display_name": "Python 3.10.5 64-bit",
   "language": "python",
   "name": "python3"
  },
  "language_info": {
   "codemirror_mode": {
    "name": "ipython",
    "version": 3
   },
   "file_extension": ".py",
   "mimetype": "text/x-python",
   "name": "python",
   "nbconvert_exporter": "python",
   "pygments_lexer": "ipython3",
   "version": "3.10.5"
  },
  "orig_nbformat": 4,
  "vscode": {
   "interpreter": {
    "hash": "3196968d684371006099b3d55edeef8ed90365227a30deaef86e5d4aa8519be0"
   }
  }
 },
 "nbformat": 4,
 "nbformat_minor": 2
}
