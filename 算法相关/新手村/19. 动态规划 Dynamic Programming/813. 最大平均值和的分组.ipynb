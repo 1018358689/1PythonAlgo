{
 "cells": [
  {
   "cell_type": "code",
   "execution_count": 24,
   "metadata": {},
   "outputs": [
    {
     "data": {
      "text/plain": [
       "18.166666666666668"
      ]
     },
     "execution_count": 24,
     "metadata": {},
     "output_type": "execute_result"
    }
   ],
   "source": [
    "from typing import List\n",
    "from math import inf\n",
    "\n",
    "\n",
    "class Solution:\n",
    "\n",
    "    def largestSumOfAverages(self, nums: List[int], k: int) -> float:\n",
    "        # dp[i][j] 前j个数字分成i组的最大平均值和\n",
    "        # dp[i][j] = max(dp[i-1][j-x]+sum(nums[j-x-1:j])/x)  x:[1,j]\n",
    "        n = len(nums)\n",
    "        pre_sum = [0] * (n + 1)\n",
    "        for i in range(n):\n",
    "            pre_sum[i + 1] = pre_sum[i] + nums[i]\n",
    "        # [x:y] p[y]-p[x]\n",
    "        dp = [[-inf] * (n + 1) for _ in range(k + 1)]\n",
    "        dp[0][0] = 0\n",
    "        ans = -inf\n",
    "        for i in range(1, k + 1):\n",
    "            for j in range(1, n + 1):\n",
    "                for x in range(1, j - i + 2):  # j-x>=i-1 -> x<=j-i+1\n",
    "                    dp[i][j] = max(dp[i][j], dp[i - 1][j - x] + (pre_sum[j] - pre_sum[j - x]) / x)\n",
    "                if j == n:\n",
    "                    ans = max(ans, dp[i][j])\n",
    "        return ans\n",
    "\n",
    "\n",
    "s = Solution()\n",
    "# s.largestSumOfAverages([9, 1, 2, 3, 9], 3)\n",
    "# s.largestSumOfAverages([1, 2, 3, 4, 5, 6, 7], 4)\n",
    "s.largestSumOfAverages([4, 1, 7, 5, 6, 2, 3], 4)\n"
   ]
  },
  {
   "cell_type": "code",
   "execution_count": 30,
   "metadata": {},
   "outputs": [
    {
     "data": {
      "text/plain": [
       "18.166666666666668"
      ]
     },
     "execution_count": 30,
     "metadata": {},
     "output_type": "execute_result"
    }
   ],
   "source": [
    "from typing import List\n",
    "from math import inf\n",
    "\n",
    "\n",
    "class Solution:\n",
    "\n",
    "    def largestSumOfAverages(self, nums: List[int], k: int) -> float:\n",
    "        # dp[i][j] 前j个数字分成i组的最大平均值和\n",
    "        # dp[i][j] = max(dp[i-1][j-x]+sum(nums[j-x-1:j])/x)  x:[1,j] 最后一份大小\n",
    "        n = len(nums)\n",
    "        dp = [[-inf] * (n + 1) for _ in range(k + 1)]\n",
    "        dp[0][0] = 0\n",
    "        ans = -inf\n",
    "        for i in range(1, k + 1):\n",
    "            for j in range(1, n + 1):\n",
    "                tot = 0\n",
    "                for x in range(1, j - i + 2):  # j-x>=i-1 -> x<=j-i+1\n",
    "                    tot += nums[j - x]\n",
    "                    dp[i][j] = max(dp[i][j], dp[i - 1][j - x] + tot / x)\n",
    "                if j == n:\n",
    "                    ans = max(ans, dp[i][j])\n",
    "        return ans\n",
    "\n",
    "\n",
    "s = Solution()\n",
    "# s.largestSumOfAverages([9, 1, 2, 3, 9], 3)\n",
    "# s.largestSumOfAverages([1, 2, 3, 4, 5, 6, 7], 4)\n",
    "s.largestSumOfAverages([4, 1, 7, 5, 6, 2, 3], 4)\n"
   ]
  },
  {
   "cell_type": "code",
   "execution_count": 27,
   "metadata": {},
   "outputs": [
    {
     "data": {
      "text/plain": [
       "18.166666666666668"
      ]
     },
     "execution_count": 27,
     "metadata": {},
     "output_type": "execute_result"
    }
   ],
   "source": [
    "from typing import List\n",
    "from math import inf\n",
    "\n",
    "\n",
    "class Solution:\n",
    "\n",
    "    def largestSumOfAverages(self, nums: List[int], k: int) -> float:\n",
    "        # dp[i][j] 前i个数字分成j组的最大平均值和\n",
    "        # dp[i][j] = max(dp[x][j-1]+sum(nums[x:i])/(i-x))  x:[0:i-1] 最后一份开始坐标 也是前面大小\n",
    "        n = len(nums)\n",
    "        pre_sum = [0] * (n + 1)\n",
    "        for i in range(n):\n",
    "            pre_sum[i + 1] = pre_sum[i] + nums[i]\n",
    "        dp = [[-inf] * (k + 1) for _ in range(n + 1)]\n",
    "        dp[0][0] = 0\n",
    "        ans = -inf\n",
    "        for i in range(1, n + 1):\n",
    "            for j in range(1, min(k, i) + 1):\n",
    "                for x in range(j - 1, i):  # x>=j-1\n",
    "                    dp[i][j] = max(dp[i][j], dp[x][j - 1] + (pre_sum[i] - pre_sum[x]) / (i - x))\n",
    "                if i == n:\n",
    "                    ans = max(ans, dp[i][j])\n",
    "        return ans\n",
    "\n",
    "\n",
    "s = Solution()\n",
    "# s.largestSumOfAverages([9, 1, 2, 3, 9], 3)\n",
    "# s.largestSumOfAverages([1, 2, 3, 4, 5, 6, 7], 4)\n",
    "s.largestSumOfAverages([4, 1, 7, 5, 6, 2, 3], 4)\n"
   ]
  },
  {
   "cell_type": "code",
   "execution_count": null,
   "metadata": {},
   "outputs": [],
   "source": []
  }
 ],
 "metadata": {
  "kernelspec": {
   "display_name": "Python 3.10.5 64-bit",
   "language": "python",
   "name": "python3"
  },
  "language_info": {
   "codemirror_mode": {
    "name": "ipython",
    "version": 3
   },
   "file_extension": ".py",
   "mimetype": "text/x-python",
   "name": "python",
   "nbconvert_exporter": "python",
   "pygments_lexer": "ipython3",
   "version": "3.10.5"
  },
  "orig_nbformat": 4,
  "vscode": {
   "interpreter": {
    "hash": "3196968d684371006099b3d55edeef8ed90365227a30deaef86e5d4aa8519be0"
   }
  }
 },
 "nbformat": 4,
 "nbformat_minor": 2
}
