{
 "cells": [
  {
   "cell_type": "code",
   "execution_count": 4,
   "metadata": {},
   "outputs": [
    {
     "name": "stdout",
     "output_type": "stream",
     "text": [
      "[]\n"
     ]
    },
    {
     "data": {
      "text/plain": [
       "0"
      ]
     },
     "execution_count": 4,
     "metadata": {},
     "output_type": "execute_result"
    }
   ],
   "source": [
    "from typing import List\n",
    "from functools import lru_cache\n",
    "\n",
    "\n",
    "class Solution:\n",
    "\n",
    "    def rob(self, nums: List[int]) -> int:\n",
    "        # 第一个和最后一个不能同时偷\n",
    "        # 那么可以 偷第一个不偷最后一个 不偷第一个偷最后一个 两个都不偷\n",
    "        # -> [0,n-1] [1,n] 两种形式最多能偷多少钱\n",
    "        if len(nums) == 1:\n",
    "            return nums[0]\n",
    "\n",
    "        @lru_cache(None)\n",
    "        def dfs(i):  # 前i个房子最多能偷多少钱\n",
    "            if i == 0: return 0\n",
    "            if i == 1: return tmps[0]\n",
    "            return max(tmps[i - 1] + dfs(i - 2), dfs(i - 1))\n",
    "\n",
    "        n = len(nums)\n",
    "        tmps = nums[:-1]\n",
    "        ans = dfs(n - 1)\n",
    "        dfs.cache_clear()\n",
    "        tmps = nums[1:]\n",
    "        return max(ans, dfs(n - 1))\n",
    "\n",
    "\n",
    "s = Solution()\n",
    "s.rob([1])\n"
   ]
  },
  {
   "cell_type": "code",
   "execution_count": null,
   "metadata": {},
   "outputs": [],
   "source": []
  }
 ],
 "metadata": {
  "kernelspec": {
   "display_name": "Python 3",
   "language": "python",
   "name": "python3"
  },
  "language_info": {
   "codemirror_mode": {
    "name": "ipython",
    "version": 3
   },
   "file_extension": ".py",
   "mimetype": "text/x-python",
   "name": "python",
   "nbconvert_exporter": "python",
   "pygments_lexer": "ipython3",
   "version": "3.10.5"
  },
  "orig_nbformat": 4,
  "vscode": {
   "interpreter": {
    "hash": "3196968d684371006099b3d55edeef8ed90365227a30deaef86e5d4aa8519be0"
   }
  }
 },
 "nbformat": 4,
 "nbformat_minor": 2
}
