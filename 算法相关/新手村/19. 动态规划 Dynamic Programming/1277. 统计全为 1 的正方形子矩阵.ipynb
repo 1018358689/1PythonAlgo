{
 "cells": [
  {
   "cell_type": "code",
   "execution_count": null,
   "metadata": {},
   "outputs": [],
   "source": [
    "class Solution:\n",
    "\n",
    "    def countSquares(self, matrix: List[List[int]]) -> int:\n",
    "        # 以[i,j]为右下角的最大正方形边长 = [1,边长]各长度正方形各一个 = 总正方形个数\n",
    "        m, n = len(matrix), len(matrix[0])\n",
    "        f = [[0] * (n + 1) for _ in range(2)]\n",
    "        ans = 0\n",
    "        for i in range(m):\n",
    "            for j in range(n):\n",
    "                if matrix[i][j] == 1:\n",
    "                    f[i + 1 & 1][j + 1] = min(f[i & 1][j], f[i & 1][j + 1], f[i + 1 & 1][j]) + 1\n",
    "                else:\n",
    "                    f[i + 1 & 1][j + 1] = 0\n",
    "            ans += sum(f[i + 1 & 1])\n",
    "        return ans\n",
    "\n",
    "        # f = [[0] * (n + 1) for _ in range(m + 1)]\n",
    "        # for i in range(m):\n",
    "        #     for j in range(n):\n",
    "        #         if matrix[i][j] == 1:\n",
    "        #             f[i + 1][j + 1] = min(f[i][j], f[i][j + 1], f[i + 1][j]) + 1\n",
    "        # return sum(sum(row) for row in f)\n",
    "\n",
    "        # @lru_cache(None)\n",
    "        # def dfs(i, j):\n",
    "        #     if i < 0 or j < 0: return 0\n",
    "        #     if matrix[i][j] == 1: # 由子问题最小边长决定\n",
    "        #         return min(dfs(i - 1, j - 1), dfs(i - 1, j), dfs(i, j - 1)) + 1\n",
    "        #     return 0\n",
    "        # return sum(dfs(i, j) for i in range(m) for j in range(n))"
   ]
  }
 ],
 "metadata": {
  "language_info": {
   "name": "python"
  },
  "orig_nbformat": 4
 },
 "nbformat": 4,
 "nbformat_minor": 2
}
