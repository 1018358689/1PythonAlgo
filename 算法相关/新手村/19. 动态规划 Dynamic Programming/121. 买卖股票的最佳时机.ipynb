{
 "cells": [
  {
   "cell_type": "code",
   "execution_count": 8,
   "metadata": {},
   "outputs": [
    {
     "data": {
      "text/plain": [
       "5"
      ]
     },
     "execution_count": 8,
     "metadata": {},
     "output_type": "execute_result"
    }
   ],
   "source": [
    "def f(prices: list):\n",
    "    # buy的时候开启交易\n",
    "    # dp[i][k][0/1] 第i天最大交易k情况下 不持有和持有股票的最大利润 i:[0,len-1]\n",
    "    # dp[i][k][0] = max(dp[i-1][k][0] ,dp[i-1][k][1]+prices[i])\n",
    "    # dp[i][k][1] = max(dp[i-1][k][1] ,dp[i-1][k-1][0]-prices[i])\n",
    "    # dp[0][...][0]=0\n",
    "    # dp[0][...][1]=-prices[0]\n",
    "    # dp[...][0][0]=0\n",
    "    # dp[...][0][1]=float('-inf)\n",
    "    dp = [[[0] * 2 for _ in range(2)] for _ in range(len(prices))]\n",
    "    dp[0][0][1]=-prices[0]\n",
    "    dp[0][1][1]=-prices[0]\n",
    "    for i in range(len(prices)):\n",
    "        dp[i][0][1]=float('-inf')\n",
    "    for i in range(1, len(prices)):\n",
    "        dp[i][1][0] = max(dp[i - 1][1][0], dp[i - 1][1][1] + prices[i])\n",
    "        dp[i][1][1] = max(dp[i - 1][1][1], dp[i - 1][0][0] - prices[i])\n",
    "    return dp[-1][1][0]\n",
    "\n",
    "\n",
    "f([7, 1, 5, 3, 6, 4])\n",
    "# f([7, 6, 4, 3, 1])\n"
   ]
  },
  {
   "cell_type": "code",
   "execution_count": null,
   "metadata": {},
   "outputs": [],
   "source": []
  }
 ],
 "metadata": {
  "interpreter": {
   "hash": "aee8b7b246df8f9039afb4144a1f6fd8d2ca17a180786b69acc140d282b71a49"
  },
  "kernelspec": {
   "display_name": "Python 3.10.1 64-bit",
   "language": "python",
   "name": "python3"
  },
  "language_info": {
   "codemirror_mode": {
    "name": "ipython",
    "version": 3
   },
   "file_extension": ".py",
   "mimetype": "text/x-python",
   "name": "python",
   "nbconvert_exporter": "python",
   "pygments_lexer": "ipython3",
   "version": "3.10.1"
  },
  "orig_nbformat": 4
 },
 "nbformat": 4,
 "nbformat_minor": 2
}
