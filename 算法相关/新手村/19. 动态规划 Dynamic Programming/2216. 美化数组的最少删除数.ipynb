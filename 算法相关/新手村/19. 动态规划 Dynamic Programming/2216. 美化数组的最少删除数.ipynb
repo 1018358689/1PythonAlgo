{
 "cells": [
  {
   "cell_type": "code",
   "execution_count": 1,
   "metadata": {},
   "outputs": [],
   "source": [
    "from typing import List\n",
    "from functools import lru_cache\n",
    "\n",
    "\n",
    "class Solution:\n",
    "    def minDeletion(self, nums: List[int]) -> int:\n",
    "        @lru_cache(None)\n",
    "        def dfs(i):  # [i:]的nums的最少删除数\n",
    "            # basecase\n",
    "            if i == len(nums):\n",
    "                return 0\n",
    "            if i == len(nums) - 1:\n",
    "                return 1\n",
    "            # dp\n",
    "            if nums[i] == nums[i + 1]:\n",
    "                return dfs(i + 1) + 1\n",
    "            else:\n",
    "                return dfs(i + 2)\n",
    "\n",
    "        return dfs(0)"
   ]
  },
  {
   "cell_type": "code",
   "execution_count": 2,
   "metadata": {},
   "outputs": [],
   "source": [
    "from typing import List\n",
    "\n",
    "\n",
    "class Solution:\n",
    "    def minDeletion(self, nums: List[int]) -> int:\n",
    "        i = 0  # 偶数下标\n",
    "        cnt = 0  # 删除次数\n",
    "        while i <= len(nums) - 2:  # 当i到最后一位或超出索引则退出\n",
    "            if nums[i] == nums[i + 1]:  # 和后一位相等 则执行删除 同时偶数下标后移\n",
    "                i += 1\n",
    "                cnt += 1\n",
    "            else:  # 不删除 偶数下标到下一个偶数\n",
    "                i += 2\n",
    "        if (len(nums) - cnt) % 2 == 1:  # 剩余奇数个 删除最后一个\n",
    "            cnt += 1\n",
    "        return cnt"
   ]
  },
  {
   "cell_type": "code",
   "execution_count": null,
   "metadata": {},
   "outputs": [],
   "source": [
    "from typing import List\n",
    "# 栈模拟\n",
    "\n",
    "\n",
    "class Solution:\n",
    "    def minDeletion(self, nums: List[int]) -> int:\n",
    "        stack = [nums[0]]\n",
    "        cnt = 0\n",
    "        for i in range(1, len(nums)):\n",
    "            if len(stack) % 2 == 0:  # 栈偶数直接添加\n",
    "                stack.append(nums[i])\n",
    "            else:  # 栈奇数 则要判断当前值要不要放入\n",
    "                if nums[i] == stack[-1]:\n",
    "                    cnt += 1\n",
    "                else:\n",
    "                    stack.append(nums[i])\n",
    "        return cnt if len(stack) % 2 == 0 else cnt + 1\n"
   ]
  }
 ],
 "metadata": {
  "interpreter": {
   "hash": "de72d97932d649c6d75aa79b73261cc3e8a1ae5e7cab8a9115f0bbb1518a7af2"
  },
  "kernelspec": {
   "display_name": "Python 3.8.10 64-bit",
   "language": "python",
   "name": "python3"
  },
  "language_info": {
   "codemirror_mode": {
    "name": "ipython",
    "version": 3
   },
   "file_extension": ".py",
   "mimetype": "text/x-python",
   "name": "python",
   "nbconvert_exporter": "python",
   "pygments_lexer": "ipython3",
   "version": "3.8.10"
  },
  "orig_nbformat": 4
 },
 "nbformat": 4,
 "nbformat_minor": 2
}
