{
 "cells": [
  {
   "cell_type": "code",
   "execution_count": 1,
   "metadata": {},
   "outputs": [
    {
     "data": {
      "text/plain": [
       "3"
      ]
     },
     "execution_count": 1,
     "metadata": {},
     "output_type": "execute_result"
    }
   ],
   "source": [
    "# 超时\n",
    "\n",
    "class Solution:\n",
    "\n",
    "    def beautifulPartitions(self, s: str, k: int, minLength: int) -> int:\n",
    "        # dp[i][j] j个数字分成i段的方法数 i:[0,k] j:[0,n]\n",
    "        # dp[i][j] = sum(dp[i-1][j-x]) s[j-x:j]符合要求\n",
    "        # basecase dp[0][j] = 0 dp[0][0] = 1\n",
    "        def is_prime(n):\n",
    "            return n in '2357'\n",
    "\n",
    "        def check(l, r):  # s[l,r]是否符合\n",
    "            return is_prime(s[l]) and not is_prime(s[r])\n",
    "\n",
    "        mod = 10**9 + 7\n",
    "        n = len(s)\n",
    "        if n < k * minLength or not is_prime(s[0]) or is_prime(s[-1]):\n",
    "            return 0\n",
    "        dp = [[0] * (n + 1) for _ in range(k + 1)]\n",
    "        dp[0][0] = 1\n",
    "        for i in range(1, k + 1):\n",
    "            for j in range(n + 1):\n",
    "                if j < minLength:\n",
    "                    continue\n",
    "                for x in range(minLength, j + 1):\n",
    "                    if check(j - x, j - 1):\n",
    "                        dp[i][j] += dp[i - 1][j - x]\n",
    "                        dp[i][j] %= mod\n",
    "        # pprint(dp)\n",
    "        return dp[-1][-1] % mod\n",
    "\n",
    "\n",
    "s = Solution()\n",
    "s.beautifulPartitions('23542185131', 3, 2)\n"
   ]
  },
  {
   "cell_type": "code",
   "execution_count": 2,
   "metadata": {},
   "outputs": [
    {
     "data": {
      "text/plain": [
       "1"
      ]
     },
     "execution_count": 2,
     "metadata": {},
     "output_type": "execute_result"
    }
   ],
   "source": [
    "# 超时一点 比上一版好\n",
    "'''\n",
    "1. 问题中有哪些变量?\n",
    "分割个数 k\n",
    "字符串长度 n\n",
    "\n",
    "2. 重新复述一遍问题,替换变量名\n",
    "把一个长度为j的字符串,分割出i段的合法方案数\n",
    "\n",
    "3. (关键)最后一步发生了什么?\n",
    "分割出一个子串\n",
    "长度为 x ,且这个子串是s的一个后缀\n",
    "\n",
    "4. 去掉最后一步,问题规模缩小了,变成什么样了?\n",
    "把一个长度为 j-x 的字符串,分割出 i-1 段的合法方案数\n",
    "\n",
    "5. 得到状态转移方程\n",
    "2-> dp[i][j] 把一个长度为j的字符串,分割出i段的合法方案数\n",
    "4-> dp[i][j] += dp[i-1][j-x] j-x-1是子问题你结尾的索引\n",
    "    j>=i*minLength j<=n-(k-i+1)*minLength\n",
    "    枚举x\n",
    "    x>=minLength, j-x>=(i-1)*minLength -> x<=j-(i-1)*minLength \n",
    "    j-x<=n-(k-i+1)*minLength -> x>=j+(k-i+1)*minLength-n\n",
    "    s[j-x-1]是非质数 s[j-x]是质数\n",
    "'''\n",
    "\n",
    "\n",
    "class Solution:\n",
    "\n",
    "    def beautifulPartitions(self, s: str, k: int, minLength: int) -> int:\n",
    "        # dp[i][j] j个数字分成i段的方法数 i:[0,k] j:[0,n]\n",
    "        # dp[i][j] = sum(dp[i-1][j-x]) s[j-x:j]符合要求\n",
    "        # basecase dp[0][j] = 0 dp[0][0] = 1\n",
    "        def is_prime(n):\n",
    "            return n in '2357'\n",
    "\n",
    "        mod = 10**9 + 7\n",
    "        n = len(s)\n",
    "        if n < k * minLength or not is_prime(s[0]) or is_prime(s[-1]):\n",
    "            return 0\n",
    "\n",
    "        def check(j):  # s[j]是否符合分割点\n",
    "            return not is_prime(s[j]) and is_prime(s[j + 1])\n",
    "\n",
    "        dp = [[0] * (n + 1) for _ in range(k + 1)]\n",
    "        dp[0][0] = 1\n",
    "        for i in range(1, k + 1):\n",
    "            for j in range(i * minLength, n - (k - i) * minLength + 1):\n",
    "                for x in range(max(j + (k - i + 1) * minLength - n, minLength), j - (i - 1) * minLength + 1):\n",
    "                    idx = j - x - 1\n",
    "                    if check(idx):\n",
    "                        dp[i][j] += dp[i - 1][j - x]\n",
    "                        dp[i][j] %= mod\n",
    "\n",
    "        return dp[-1][-1] % mod\n",
    "\n",
    "\n",
    "s = Solution()\n",
    "s.beautifulPartitions(\"23542185131\", 3, 3)\n"
   ]
  },
  {
   "cell_type": "code",
   "execution_count": 6,
   "metadata": {},
   "outputs": [
    {
     "data": {
      "text/plain": [
       "1"
      ]
     },
     "execution_count": 6,
     "metadata": {},
     "output_type": "execute_result"
    }
   ],
   "source": [
    "# 还不是很能理解\n",
    "# https://leetcode.cn/problems/number-of-beautiful-partitions/solution/dong-tai-gui-hua-jian-ji-xie-fa-xun-huan-xyw3/\n",
    "'''\n",
    "1. 问题中有哪些变量?\n",
    "分割个数 k\n",
    "字符串长度 n\n",
    "\n",
    "2. 重新复述一遍问题,替换变量名\n",
    "把一个长度为j的字符串,分割出i段的合法方案数\n",
    "\n",
    "3. (关键)最后一步发生了什么?\n",
    "分割出一个子串\n",
    "长度为 x ,且这个子串是s的一个后缀\n",
    "\n",
    "4. 去掉最后一步,问题规模缩小了,变成什么样了?\n",
    "把一个长度为 j-x 的字符串,分割出 i-1 段的合法方案数\n",
    "\n",
    "5. 得到状态转移方程\n",
    "2-> dp[i][j] 把一个长度为j的字符串,分割出i段的合法方案数\n",
    "4-> dp[i][j] += dp[i-1][j'] j'是 i 段第一个字符的下标\n",
    "    枚举j'\n",
    "    j-j' >= minLength\n",
    "    s[j']是质数 s[j'-1]是非质数\n",
    "    \n",
    "'''\n",
    "\n",
    "\n",
    "class Solution:\n",
    "\n",
    "    def beautifulPartitions(self, s: str, k: int, minLength: int) -> int:\n",
    "        # dp[i][j] j个数字分成i段的方法数 i:[0,k] j:[0,n]\n",
    "        # dp[i][j] = sum(dp[i-1][j-x]) s[j-x:j]符合要求\n",
    "        # basecase dp[0][j] = 0 dp[0][0] = 1\n",
    "        def is_prime(n):\n",
    "            return n in '2357'\n",
    "\n",
    "        mod = 10**9 + 7\n",
    "        n = len(s)\n",
    "        if n < k * minLength or not is_prime(s[0]) or is_prime(s[-1]):\n",
    "            return 0\n",
    "\n",
    "        def check(j):  # s[j]是否符合分割点\n",
    "            return j == 0 or j == n or not is_prime(s[j - 1]) and is_prime(s[j])\n",
    "\n",
    "        dp = [[0] * (n + 1) for _ in range(k + 1)]\n",
    "        dp[0][0] = 1\n",
    "        for i in range(1, k + 1):\n",
    "            tot = 0\n",
    "            # 优化：枚举的起点和终点需要给前后的子串预留出足够的长度\n",
    "            for j in range(i * minLength, n - (k - i) * minLength + 1):\n",
    "                # 绝了\n",
    "                if check(j - minLength): # 右指针点符合就累加记录\n",
    "                    tot = (tot + dp[i - 1][j - minLength]) % mod  # j'=j-minLength 双指针\n",
    "                if check(j): # 右指针 满足就赋值\n",
    "                    dp[i][j] = tot\n",
    "        return dp[-1][-1] % mod\n",
    "\n",
    "\n",
    "s = Solution()\n",
    "s.beautifulPartitions(\"23542185131\", 3, 3)\n"
   ]
  },
  {
   "cell_type": "code",
   "execution_count": null,
   "metadata": {},
   "outputs": [],
   "source": []
  }
 ],
 "metadata": {
  "kernelspec": {
   "display_name": "Python 3.10.5 64-bit",
   "language": "python",
   "name": "python3"
  },
  "language_info": {
   "codemirror_mode": {
    "name": "ipython",
    "version": 3
   },
   "file_extension": ".py",
   "mimetype": "text/x-python",
   "name": "python",
   "nbconvert_exporter": "python",
   "pygments_lexer": "ipython3",
   "version": "3.10.5"
  },
  "orig_nbformat": 4,
  "vscode": {
   "interpreter": {
    "hash": "3196968d684371006099b3d55edeef8ed90365227a30deaef86e5d4aa8519be0"
   }
  }
 },
 "nbformat": 4,
 "nbformat_minor": 2
}
