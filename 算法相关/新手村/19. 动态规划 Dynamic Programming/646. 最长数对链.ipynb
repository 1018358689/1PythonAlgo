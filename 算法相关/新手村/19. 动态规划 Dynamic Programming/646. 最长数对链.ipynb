{
 "cells": [
  {
   "cell_type": "code",
   "execution_count": 1,
   "metadata": {},
   "outputs": [],
   "source": [
    "from typing import List\n",
    "\n",
    "\n",
    "class Solution:\n",
    "\n",
    "    def findLongestChain(self, pairs: List[List[int]]) -> int:\n",
    "        # dp[i] 以pairs[i]结尾的最长数对链\n",
    "        pairs.sort(key=lambda x: x[0])\n",
    "        dp = [1] * len(pairs)\n",
    "        for i in range(1, len(pairs)):\n",
    "            for j in range(i):\n",
    "                if pairs[i][0] > pairs[j][1]:\n",
    "                    dp[i] = max(dp[i], dp[j] + 1)\n",
    "        return max(dp)\n"
   ]
  },
  {
   "cell_type": "code",
   "execution_count": null,
   "metadata": {},
   "outputs": [],
   "source": [
    "from typing import List\n",
    "\n",
    "\n",
    "class Solution:\n",
    "\n",
    "    def findLongestChain(self, pairs: List[List[int]]) -> int:\n",
    "        # dp[i] 以pairs[i]结尾的最长数对链\n",
    "        pairs.sort(key=lambda x: x[0])\n",
    "        dp = [1] * len(pairs)\n",
    "        for i in range(1, len(pairs)):\n",
    "            for j in range(i - 1, -1, -1):\n",
    "                if pairs[i][0] > pairs[j][1]:\n",
    "                    dp[i] = dp[j] + 1\n",
    "                    break\n",
    "        return max(dp)\n"
   ]
  }
 ],
 "metadata": {
  "kernelspec": {
   "display_name": "Python 3.10.5 64-bit",
   "language": "python",
   "name": "python3"
  },
  "language_info": {
   "codemirror_mode": {
    "name": "ipython",
    "version": 3
   },
   "file_extension": ".py",
   "mimetype": "text/x-python",
   "name": "python",
   "nbconvert_exporter": "python",
   "pygments_lexer": "ipython3",
   "version": "3.10.5"
  },
  "orig_nbformat": 4,
  "vscode": {
   "interpreter": {
    "hash": "3196968d684371006099b3d55edeef8ed90365227a30deaef86e5d4aa8519be0"
   }
  }
 },
 "nbformat": 4,
 "nbformat_minor": 2
}
