{
 "cells": [
  {
   "cell_type": "code",
   "execution_count": null,
   "metadata": {},
   "outputs": [],
   "source": [
    "class Solution:\n",
    "\n",
    "    def maxSumDivThree(self, nums: List[int]) -> int:\n",
    "        n = len(nums)\n",
    "\n",
    "        f = [[-inf] * 3 for _ in range(n + 1)]\n",
    "        f[0][0] = 0\n",
    "        for i, x in enumerate(nums):\n",
    "            for j in range(3):\n",
    "                f[i + 1][j] = max(f[i][j], x + f[i][(j - x) % 3])\n",
    "        return f[n][0]\n",
    "\n",
    "        # @lru_cache(None)\n",
    "        # def dfs(i, j): # 前i个数 和%3余数为j 的最大和 -> dfs(n - 1, 0)\n",
    "        #     if i < 0:\n",
    "        #         return 0 if j == 0 else -inf\n",
    "        #     x = nums[i]\n",
    "        #     # 不选\n",
    "        #     sub1 = dfs(i - 1, j)\n",
    "        #     # 选 (s + x) % 3 = j -> (s + x) % 3 = j % 3 -> s % 3 = (j - x) % 3\n",
    "        #     sub2 = x + dfs(i - 1, (j - x) % 3)\n",
    "        #     return max(sub1, sub2)\n",
    "\n",
    "        # return dfs(n - 1, 0)"
   ]
  }
 ],
 "metadata": {
  "language_info": {
   "name": "python"
  },
  "orig_nbformat": 4
 },
 "nbformat": 4,
 "nbformat_minor": 2
}
