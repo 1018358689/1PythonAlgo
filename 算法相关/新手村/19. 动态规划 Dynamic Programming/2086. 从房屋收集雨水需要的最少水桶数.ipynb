{
 "cells": [
  {
   "cell_type": "code",
   "execution_count": null,
   "metadata": {},
   "outputs": [],
   "source": [
    "class Solution:\n",
    "\n",
    "    def minimumBuckets(self, hamsters: str) -> int:\n",
    "        n = len(hamsters)\n",
    "        if n == 1: return [0, -1][hamsters[0] == 'H']\n",
    "\n",
    "        @lru_cache(None)\n",
    "        def dfs(i, last):  # 截至索引i i位置前面（右边）有没有放桶 [,i]的方法数\n",
    "            if i < 0: return 0\n",
    "            if hamsters[i] == 'H':\n",
    "                if last:  # 上一个是个桶\n",
    "                    return dfs(i - 1, 0)\n",
    "                else:  # 上一个不是桶 那就要往左边找\n",
    "                    if i == 0 or hamsters[i - 1] == 'H': return inf\n",
    "                    return dfs(i - 2, 1) + 1\n",
    "            return min(dfs(i - 1, 1) + 1, dfs(i - 1, 0))\n",
    "\n",
    "        return res if (res := dfs(n - 1, 0)) != inf else -1\n"
   ]
  },
  {
   "cell_type": "code",
   "execution_count": null,
   "metadata": {},
   "outputs": [],
   "source": [
    "class Solution:\n",
    "\n",
    "    def minimumBuckets(self, hamsters: str) -> int:\n",
    "        n = len(hamsters)\n",
    "        if n == 1: return [0, -1][hamsters[0] == 'H']\n",
    "\n",
    "        @lru_cache(None)\n",
    "        def dfs(i, last):  # 往右走 i位置前面（左边）有没有放桶 [i:]的方法数\n",
    "            if i >= n: return 0\n",
    "            if hamsters[i] == 'H':\n",
    "                if last:\n",
    "                    return dfs(i + 1, 0)\n",
    "                else:\n",
    "                    if i == n - 1 or hamsters[i + 1] == 'H': return inf\n",
    "                    return dfs(i + 2, 1) + 1\n",
    "            return min(dfs(i + 1, 1) + 1, dfs(i + 1, 0))\n",
    "\n",
    "        return res if (res := dfs(0, 0)) != inf else -1\n"
   ]
  },
  {
   "cell_type": "code",
   "execution_count": null,
   "metadata": {},
   "outputs": [],
   "source": [
    "class Solution:\n",
    "\n",
    "    def minimumBuckets(self, hamsters: str) -> int:\n",
    "        n = len(hamsters)\n",
    "        last = -inf\n",
    "        cnt = 0\n",
    "        for i, x in enumerate(hamsters):\n",
    "            if x == 'H':\n",
    "                if last == i - 1:  # 上一个是放置的水桶\n",
    "                    continue\n",
    "                else:\n",
    "                    if i + 1 < n and hamsters[i + 1] == '.':  # 水桶优先放右边\n",
    "                        cnt += 1\n",
    "                        last = i + 1\n",
    "                    elif i - 1 >= 0 and hamsters[i - 1] == '.':  # 无奈只能放左边\n",
    "                        cnt += 1\n",
    "                        last = i - 1\n",
    "                    else:\n",
    "                        return -1\n",
    "        return cnt"
   ]
  }
 ],
 "metadata": {
  "language_info": {
   "name": "python"
  },
  "orig_nbformat": 4
 },
 "nbformat": 4,
 "nbformat_minor": 2
}
