{
 "cells": [
  {
   "cell_type": "code",
   "execution_count": 2,
   "metadata": {},
   "outputs": [
    {
     "data": {
      "text/plain": [
       "5"
      ]
     },
     "execution_count": 2,
     "metadata": {},
     "output_type": "execute_result"
    }
   ],
   "source": [
    "from math import inf\n",
    "from typing import List\n",
    "\n",
    "\n",
    "class Solution:\n",
    "\n",
    "    def minCost(self, costs: List[List[int]]) -> int:\n",
    "        # dp[i][0/1/2] 粉刷前i个房子且最后一个特定颜色的最少费用\n",
    "        # dp[0][0/1/2] = 0\n",
    "        # dp[i][0] = min(dp[i-1][1]+costs[i-1][0])\n",
    "        n = len(costs)\n",
    "        dp = [[inf] * 3 for _ in range(n + 1)]\n",
    "        dp[0][0] = dp[0][1] = dp[0][2] = 0\n",
    "        for i in range(1, n + 1):\n",
    "            for j in range(3):\n",
    "                for x in set(range(3)) - {j}:\n",
    "                    dp[i][j] = min(dp[i][j], dp[i - 1][x] + costs[i - 1][j])\n",
    "        return min(dp[-1])\n",
    "\n",
    "\n",
    "s = Solution()\n",
    "s.minCost([[1, 5, 3], [2, 9, 4]])\n"
   ]
  },
  {
   "cell_type": "code",
   "execution_count": null,
   "metadata": {},
   "outputs": [],
   "source": []
  }
 ],
 "metadata": {
  "kernelspec": {
   "display_name": "Python 3",
   "language": "python",
   "name": "python3"
  },
  "language_info": {
   "codemirror_mode": {
    "name": "ipython",
    "version": 3
   },
   "file_extension": ".py",
   "mimetype": "text/x-python",
   "name": "python",
   "nbconvert_exporter": "python",
   "pygments_lexer": "ipython3",
   "version": "3.10.5"
  },
  "orig_nbformat": 4,
  "vscode": {
   "interpreter": {
    "hash": "3196968d684371006099b3d55edeef8ed90365227a30deaef86e5d4aa8519be0"
   }
  }
 },
 "nbformat": 4,
 "nbformat_minor": 2
}
