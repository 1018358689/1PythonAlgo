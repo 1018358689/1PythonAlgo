{
 "cells": [
  {
   "cell_type": "code",
   "execution_count": 3,
   "metadata": {},
   "outputs": [
    {
     "data": {
      "text/plain": [
       "4"
      ]
     },
     "execution_count": 3,
     "metadata": {},
     "output_type": "execute_result"
    }
   ],
   "source": [
    "from typing import List\n",
    "\n",
    "\n",
    "class Solution:\n",
    "\n",
    "    def minSwap(self, nums1: List[int], nums2: List[int]) -> int:\n",
    "        # dp[i][0/1] [0,i]元素 当索引i和发生(不)交换情况下 仍旧保持严格递增所需的最小操作数\n",
    "        dp = [[float('inf')] * 2 for _ in range(len(nums1))]\n",
    "        dp[0][0] = 0\n",
    "        dp[0][1] = 1\n",
    "        for i in range(1, len(nums1)):\n",
    "            a1, a2, b1, b2 = nums1[i - 1], nums1[i], nums2[i - 1], nums2[i]\n",
    "            if a1 < a2 and b1 < b2:\n",
    "                dp[i][0] = dp[i - 1][0]\n",
    "                dp[i][1] = dp[i - 1][1] + 1\n",
    "            if a1 < b2 and b1 < a2:\n",
    "                dp[i][0] = min(dp[i][0], dp[i - 1][1])\n",
    "                dp[i][1] = min(dp[i][1], dp[i - 1][0] + 1)\n",
    "        return min(dp[-1])\n",
    "\n",
    "\n",
    "s = Solution()\n",
    "s.minSwap([0, 7, 8, 10, 10, 11, 12, 13, 19, 18], [4, 4, 5, 7, 11, 14, 15, 16, 17, 20])\n"
   ]
  },
  {
   "cell_type": "code",
   "execution_count": 10,
   "metadata": {},
   "outputs": [
    {
     "name": "stdout",
     "output_type": "stream",
     "text": [
      "1 0 7 4 4\n",
      "2 7 8 4 5\n",
      "3 8 10 5 7\n",
      "4 10 10 7 11\n",
      "5 10 11 11 14\n",
      "6 11 12 14 15\n",
      "7 12 13 15 16\n",
      "8 13 19 16 17\n",
      "9 19 18 17 20\n"
     ]
    },
    {
     "data": {
      "text/plain": [
       "4"
      ]
     },
     "execution_count": 10,
     "metadata": {},
     "output_type": "execute_result"
    }
   ],
   "source": [
    "from typing import List\n",
    "from itertools import pairwise\n",
    "\n",
    "\n",
    "class Solution:\n",
    "\n",
    "    def minSwap(self, nums1: List[int], nums2: List[int]) -> int:\n",
    "        # dp[i][0/1] [0,i]元素 当索引i和发生(不)交换情况下 仍旧保持严格递增所需的最小操作数\n",
    "        dp = [[float('inf')] * 2 for _ in range(len(nums1))]\n",
    "        dp[0][0] = 0\n",
    "        dp[0][1] = 1\n",
    "        for i, ((a1, b1), (a2, b2)) in enumerate(pairwise(zip(nums1, nums2))):\n",
    "            i += 1\n",
    "            if a1 < a2 and b1 < b2:\n",
    "                dp[i][0] = dp[i - 1][0]\n",
    "                dp[i][1] = dp[i - 1][1] + 1\n",
    "            if a1 < b2 and b1 < a2:\n",
    "                dp[i][0] = min(dp[i][0], dp[i - 1][1])\n",
    "                dp[i][1] = min(dp[i][1], dp[i - 1][0] + 1)\n",
    "        return min(dp[-1])\n",
    "\n",
    "\n",
    "s = Solution()\n",
    "s.minSwap([0, 7, 8, 10, 10, 11, 12, 13, 19, 18], [4, 4, 5, 7, 11, 14, 15, 16, 17, 20])\n"
   ]
  },
  {
   "cell_type": "code",
   "execution_count": null,
   "metadata": {},
   "outputs": [],
   "source": []
  }
 ],
 "metadata": {
  "kernelspec": {
   "display_name": "Python 3.10.5 64-bit",
   "language": "python",
   "name": "python3"
  },
  "language_info": {
   "codemirror_mode": {
    "name": "ipython",
    "version": 3
   },
   "file_extension": ".py",
   "mimetype": "text/x-python",
   "name": "python",
   "nbconvert_exporter": "python",
   "pygments_lexer": "ipython3",
   "version": "3.10.5"
  },
  "orig_nbformat": 4,
  "vscode": {
   "interpreter": {
    "hash": "3196968d684371006099b3d55edeef8ed90365227a30deaef86e5d4aa8519be0"
   }
  }
 },
 "nbformat": 4,
 "nbformat_minor": 2
}
