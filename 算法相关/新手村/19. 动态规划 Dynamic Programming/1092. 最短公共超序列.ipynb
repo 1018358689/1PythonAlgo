{
 "cells": [
  {
   "cell_type": "code",
   "execution_count": null,
   "metadata": {},
   "outputs": [],
   "source": [
    "from functools import lru_cache\n",
    "\n",
    "\n",
    "class Solution:\n",
    "\n",
    "    def shortestCommonSupersequence(self, str1: str, str2: str) -> str:\n",
    "        m, n = len(str1), len(str2)\n",
    "\n",
    "        @lru_cache(None)\n",
    "        def dfs(i, j):  # 前i个s1和前j个s2的最短公共超序列长度\n",
    "            if i < 0: return j + 1\n",
    "            if j < 0: return i + 1\n",
    "            if str1[i] == str2[j]:  # 肯定可以作为最短公共超序列一部分\n",
    "                return dfs(i - 1, j - 1) + 1\n",
    "            return min(dfs(i - 1, j), dfs(i, j - 1)) + 1  # 把其中一个作为一部分继续递归\n",
    "\n",
    "        # 构造答案\n",
    "        def make(i, j):  # 前i个s1和前j个s2的最短公共超序列\n",
    "            if i < 0: return str2[:j + 1]\n",
    "            if j < 0: return str1[:i + 1]\n",
    "            if str1[i] == str2[j]:\n",
    "                return make(i - 1, j - 1) + str1[i]\n",
    "            if dfs(i, j) == dfs(i - 1, j) + 1:  # 取str1[i]会得到更短公共超序列\n",
    "                return make(i - 1, j) + str1[i]\n",
    "            return make(i, j - 1) + str2[j]\n",
    "\n",
    "        return make(m - 1, n - 1)"
   ]
  }
 ],
 "metadata": {
  "language_info": {
   "name": "python"
  },
  "orig_nbformat": 4
 },
 "nbformat": 4,
 "nbformat_minor": 2
}
