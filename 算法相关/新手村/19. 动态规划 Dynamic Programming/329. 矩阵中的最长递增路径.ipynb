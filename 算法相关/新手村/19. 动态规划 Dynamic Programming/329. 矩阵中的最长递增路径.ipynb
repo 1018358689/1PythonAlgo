{
 "cells": [
  {
   "cell_type": "code",
   "execution_count": null,
   "metadata": {},
   "outputs": [],
   "source": [
    "from typing import List\n",
    "from functools import lru_cache\n",
    "\n",
    "\n",
    "class Solution:\n",
    "\n",
    "    def longestIncreasingPath(self, matrix: List[List[int]]) -> int:\n",
    "        rows, cols = len(matrix), len(matrix[0])\n",
    "        dirs = ((-1, 0), (0, -1), (0, 1), (1, 0))\n",
    "        mem = {}\n",
    "\n",
    "        def dfs(r, c):  # 以(r,c)结尾的最长路径\n",
    "            if (r, c) not in mem:\n",
    "                mem[(r, c)] = 1\n",
    "                for dr, dc in dirs:\n",
    "                    if rows > (nr := r + dr) >= 0 <= (nc := c + dc) < cols and matrix[nr][nc] < matrix[r][c]:\n",
    "                        mem[(r, c)] = max(mem[(r, c)], dfs(nr, nc) + 1)\n",
    "            return mem[(r, c)]\n",
    "\n",
    "        ans = 1\n",
    "        for r in range(rows):\n",
    "            for c in range(cols):\n",
    "                ans = max(ans, dfs(r, c))\n",
    "        return ans"
   ]
  },
  {
   "cell_type": "code",
   "execution_count": 1,
   "metadata": {},
   "outputs": [],
   "source": [
    "from typing import List\n",
    "from functools import lru_cache\n",
    "\n",
    "\n",
    "class Solution:\n",
    "\n",
    "    def longestIncreasingPath(self, matrix: List[List[int]]) -> int:\n",
    "        rows, cols = len(matrix), len(matrix[0])\n",
    "        dirs = ((-1, 0), (0, -1), (0, 1), (1, 0))\n",
    "\n",
    "        @lru_cache(None)\n",
    "        def dfs(r, c):  # 以(r,c)结尾的最长路径\n",
    "            ans = 0\n",
    "            for dr, dc in dirs:\n",
    "                if rows > (nr := r + dr) >= 0 <= (nc := c + dc) < cols and matrix[nr][nc] < matrix[r][c]:\n",
    "                    ans = max(ans, dfs(nr, nc))\n",
    "            return ans + 1\n",
    "\n",
    "        ans = 1\n",
    "        for r in range(rows):\n",
    "            for c in range(cols):\n",
    "                ans = max(ans, dfs(r, c))\n",
    "        return ans"
   ]
  },
  {
   "cell_type": "code",
   "execution_count": null,
   "metadata": {},
   "outputs": [],
   "source": [
    "from typing import List\n",
    "# 记录途径点的(子问题)最长递增距离 减少for内判断\n",
    "from functools import lru_cache\n",
    "\n",
    "\n",
    "class Solution:\n",
    "\n",
    "    def longestIncreasingPath(self, matrix: List[List[int]]) -> int:\n",
    "        # dp[r][c] (r,c)开始的最长递增路径 子问题 四个方向的最长递增路径取最大\n",
    "        # basecase dp[r][c]=1\n",
    "        rows, cols = len(matrix), len(matrix[0])\n",
    "        dp = [[1] * cols for _ in range(rows)]\n",
    "        costs = []\n",
    "        for r in range(rows):\n",
    "            for c in range(cols):\n",
    "                costs.append((matrix[r][c], r, c))\n",
    "        costs.sort(key=lambda x: x[0], reverse=True)\n",
    "        ans = 1\n",
    "        for _, r, c in costs:\n",
    "            for nr, nc in ((r - 1, c), (r + 1, c), (r, c - 1), (r, c + 1)):\n",
    "                if 0 <= nr < rows and 0 <= nc < cols and matrix[nr][nc] > matrix[r][c]:\n",
    "                    dp[r][c] = max(dp[r][c], dp[nr][nc] + 1)\n",
    "            ans = max(ans, dp[r][c])\n",
    "        return ans\n",
    "\n",
    "\n",
    "s = Solution()\n",
    "s.longestIncreasingPath([[9, 9, 4], [6, 6, 8], [2, 1, 1]])\n",
    "# s.longestIncreasingPath([[1]])"
   ]
  }
 ],
 "metadata": {
  "kernelspec": {
   "display_name": "Python 3.10.6 64-bit",
   "language": "python",
   "name": "python3"
  },
  "language_info": {
   "codemirror_mode": {
    "name": "ipython",
    "version": 3
   },
   "file_extension": ".py",
   "mimetype": "text/x-python",
   "name": "python",
   "nbconvert_exporter": "python",
   "pygments_lexer": "ipython3",
   "version": "3.10.6"
  },
  "orig_nbformat": 4,
  "vscode": {
   "interpreter": {
    "hash": "dfbf064e0f2c8839bc658dd75dfc0b8f09a0440078cae3024109b27659b69d06"
   }
  }
 },
 "nbformat": 4,
 "nbformat_minor": 2
}
