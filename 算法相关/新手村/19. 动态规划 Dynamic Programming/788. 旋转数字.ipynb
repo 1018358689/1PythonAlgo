{
 "cells": [
  {
   "cell_type": "code",
   "execution_count": 1,
   "metadata": {},
   "outputs": [],
   "source": [
    "class Solution:\n",
    "\n",
    "    def rotatedDigits(self, n: int) -> int:\n",
    "        ans = 0\n",
    "        for x in range(1, n + 1):\n",
    "            sig = False\n",
    "            while x:\n",
    "                x, cur = divmod(x, 10)\n",
    "                if cur in {2, 5, 6, 9}:\n",
    "                    sig = True\n",
    "                elif cur not in {0, 1, 8}:\n",
    "                    sig = False\n",
    "                    break\n",
    "            ans += int(sig)\n",
    "        return ans"
   ]
  },
  {
   "cell_type": "code",
   "execution_count": null,
   "metadata": {},
   "outputs": [],
   "source": [
    "# 数位dp"
   ]
  }
 ],
 "metadata": {
  "kernelspec": {
   "display_name": "Python 3.10.5 64-bit",
   "language": "python",
   "name": "python3"
  },
  "language_info": {
   "codemirror_mode": {
    "name": "ipython",
    "version": 3
   },
   "file_extension": ".py",
   "mimetype": "text/x-python",
   "name": "python",
   "nbconvert_exporter": "python",
   "pygments_lexer": "ipython3",
   "version": "3.10.5"
  },
  "orig_nbformat": 4,
  "vscode": {
   "interpreter": {
    "hash": "3196968d684371006099b3d55edeef8ed90365227a30deaef86e5d4aa8519be0"
   }
  }
 },
 "nbformat": 4,
 "nbformat_minor": 2
}
