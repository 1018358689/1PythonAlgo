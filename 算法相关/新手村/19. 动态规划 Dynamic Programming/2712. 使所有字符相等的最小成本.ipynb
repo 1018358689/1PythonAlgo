{
 "cells": [
  {
   "cell_type": "code",
   "execution_count": null,
   "metadata": {},
   "outputs": [],
   "source": [
    "class Solution:\n",
    "\n",
    "    def minimumCost(self, s: str) -> int:\n",
    "        n = len(s)\n",
    "        f = 0\n",
    "        for i in range(1, n):\n",
    "            if s[i] != s[i - 1]:\n",
    "                f = f + min(i, n - i)\n",
    "        return f\n",
    "        # @lru_cache(None)\n",
    "        # def dfs(i): # 截止i 使所有字符相等的最小成本 [i + 1:]已经相等\n",
    "        #     if i == 0:\n",
    "        #         return 0\n",
    "        #     if s[i] != s[i - 1]:\n",
    "        #         return dfs(i - 1) + min(i - 1 + 1, n - i)\n",
    "        #     return dfs(i - 1)\n",
    "        # return dfs(n - 1)"
   ]
  }
 ],
 "metadata": {
  "language_info": {
   "name": "python"
  },
  "orig_nbformat": 4
 },
 "nbformat": 4,
 "nbformat_minor": 2
}
