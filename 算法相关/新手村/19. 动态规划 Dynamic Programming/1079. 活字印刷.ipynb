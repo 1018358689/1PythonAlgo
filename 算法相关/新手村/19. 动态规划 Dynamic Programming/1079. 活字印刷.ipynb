{
 "cells": [
  {
   "cell_type": "code",
   "execution_count": 1,
   "metadata": {},
   "outputs": [
    {
     "data": {
      "text/plain": [
       "188"
      ]
     },
     "execution_count": 1,
     "metadata": {},
     "output_type": "execute_result"
    }
   ],
   "source": [
    "from collections import Counter\n",
    "from math import comb\n",
    "\n",
    "\n",
    "class Solution:\n",
    "\n",
    "    def numTilePossibilities(self, tiles: str) -> int:\n",
    "        cnts = list(Counter(tiles).values())\n",
    "        n, m = len(cnts), len(tiles)\n",
    "\n",
    "        # i只和i-1有关\n",
    "        f = [0] * (m + 1)\n",
    "        f[0] = 1\n",
    "        for cnt in cnts:\n",
    "            for j in range(m, -1, -1):\n",
    "                ans = 0\n",
    "                for k in range(min(cnt, j) + 1):  # 第i种取k个放在j中\n",
    "                    ans += f[j - k] * comb(j, k)\n",
    "                f[j] = ans\n",
    "        return sum(f[1:])\n",
    "\n",
    "        # i只和i-1有关\n",
    "        # f = [0] * (m + 1)\n",
    "        # f[0] = 1\n",
    "        # for cnt in cnts:\n",
    "        #     for j in range(m, -1, -1): # f[0]已经在了 构空恒为1\n",
    "        #         ans = 0\n",
    "        #         for k in range(min(cnt, j) + 1): # 第i种取k个放在j中\n",
    "        #             ans += f[j - k] * comb(j, k)\n",
    "        #         f[j] = ans\n",
    "        # return sum(f[1:])\n",
    "\n",
    "        # @lru_cache(None)\n",
    "        # def dfs(i, j): # 前i种字符构造长度j序列的方案数\n",
    "        #     if i < 0: return 1 if j == 0 else 0 # 空构空方法1  空构123方法0\n",
    "        #     cnt = cnts[i]\n",
    "        #     ans = 0\n",
    "        #     for k in range(min(cnt, j) + 1): # 第i种取k个放在j中\n",
    "        #         ans += dfs(i - 1, j - k) * comb(j, k)\n",
    "        #     return ans\n",
    "        # return sum(dfs(n - 1, i) for i in range(1, m + 1))\n",
    "\n",
    "\n",
    "s = Solution()\n",
    "s.numTilePossibilities('AAABBC')"
   ]
  },
  {
   "cell_type": "code",
   "execution_count": null,
   "metadata": {},
   "outputs": [],
   "source": [
    "class Solution:\n",
    "\n",
    "    def numTilePossibilities(self, tiles: str) -> int:\n",
    "        cnts = Counter(tiles)\n",
    "\n",
    "        def dfs(cnts):\n",
    "            ans = 0\n",
    "            for x, v in cnts.items():\n",
    "                if v > 0:\n",
    "                    cnts[x] -= 1\n",
    "                    ans += dfs(cnts) + 1\n",
    "                    cnts[x] += 1\n",
    "            return ans\n",
    "\n",
    "        return dfs(cnts)"
   ]
  }
 ],
 "metadata": {
  "kernelspec": {
   "display_name": "Python 3",
   "language": "python",
   "name": "python3"
  },
  "language_info": {
   "codemirror_mode": {
    "name": "ipython",
    "version": 3
   },
   "file_extension": ".py",
   "mimetype": "text/x-python",
   "name": "python",
   "nbconvert_exporter": "python",
   "pygments_lexer": "ipython3",
   "version": "3.10.5"
  },
  "orig_nbformat": 4
 },
 "nbformat": 4,
 "nbformat_minor": 2
}
