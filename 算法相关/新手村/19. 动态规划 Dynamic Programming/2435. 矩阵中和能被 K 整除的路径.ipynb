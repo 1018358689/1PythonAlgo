{
 "cells": [
  {
   "cell_type": "code",
   "execution_count": 2,
   "metadata": {},
   "outputs": [],
   "source": [
    "from typing import List\n",
    "\n",
    "\n",
    "class Solution:\n",
    "\n",
    "    def numberOfPaths(self, grid: List[List[int]], k: int, mod=10**9 + 7) -> int:\n",
    "        # dp[i][j][x] 到(i,j)且和模k为x的 路径数\n",
    "        # i:[0,rows-1] j:[0,cols-1] x:[0,k-1]-> dp[rows-1][cols-1][0]\n",
    "        # s%k=x (s-grid[i][j])%k=(s%k-grid[i][j]%k)%k=(x-grid[i][j]%k)%k\n",
    "        # =dp[i-1][j][(s-grid[i][j]%k)%k]+dp[i][j-1][(s-grid[i][j]%k)%k]\n",
    "        # =dp[i-1][j][(x-grid[i][j]%k)%k]+dp[i][j-1][(x-grid[i][j]%k)%k]\n",
    "        # dp[0][0][grid[0][0]%k]=1 dp[0][0][else]=0\n",
    "        rows, cols = len(grid), len(grid[0])\n",
    "        dp = [[[0] * k for _ in range(cols)] for _ in range(rows)]\n",
    "        # basecase\n",
    "        dp[0][0][grid[0][0] % k] = 1\n",
    "        for j in range(1, cols):\n",
    "            for x in range(k):\n",
    "                dp[0][j][x] = dp[0][j - 1][(x - grid[0][j] % k) % k] % mod\n",
    "        for i in range(1, rows):\n",
    "            for x in range(k):\n",
    "                dp[i][0][x] = dp[i - 1][0][(x - grid[i][0] % k) % k] % mod\n",
    "        # dp\n",
    "        for i in range(1, rows):\n",
    "            for j in range(1, cols):\n",
    "                for x in range(k):\n",
    "                    dp[i][j][x] = (dp[i - 1][j][(x - grid[i][j] % k) % k] + dp[i][j - 1][(x - grid[i][j] % k) % k]) % mod\n",
    "        return dp[rows - 1][cols - 1][0] % mod\n"
   ]
  },
  {
   "cell_type": "code",
   "execution_count": null,
   "metadata": {},
   "outputs": [],
   "source": [
    "from typing import List\n",
    "from functools import lru_cache\n",
    "\n",
    "\n",
    "class Solution:\n",
    "\n",
    "    def numberOfPaths(self, grid: List[List[int]], k: int, mod=10**9 + 7) -> int:\n",
    "        # dp[i][j][x] 到(i,j)且和模k为x的 路径数\n",
    "        # i:[0,rows-1] j:[0,cols-1] x:[0,k-1]-> dp[rows-1][cols-1][0]\n",
    "        # s%k=x (s-grid[i][j])%k=(s%k-grid[i][j]%k)%k=(x-grid[i][j]%k)%k\n",
    "        # =dp[i-1][j][(s-grid[i][j]%k)%k]+dp[i][j-1][(s-grid[i][j]%k)%k]\n",
    "        # =dp[i-1][j][(x-grid[i][j]%k)%k]+dp[i][j-1][(x-grid[i][j]%k)%k]\n",
    "        # dp[0][0][grid[0][0]%k]=1 dp[0][0][else]=0\n",
    "        rows, cols = len(grid), len(grid[0])\n",
    "\n",
    "        @lru_cache(None)\n",
    "        def dp(i, j, x):\n",
    "            if i == 0 and j == 0 and x == grid[0][0] % k:\n",
    "                return 1\n",
    "            sub1 = dp(i - 1, j, (x - grid[i][j] % k) % k) if i >= 0 else 0\n",
    "            sub2 = dp(i, j - 1, (x - grid[i][j] % k) % k) if j >= 0 else 0\n",
    "            return (sub1 + sub2) % mod\n",
    "\n",
    "        ans = dp(rows - 1, cols - 1, 0)\n",
    "        dp.cache_clear()  # 爆空间 清理一下\n",
    "        return ans"
   ]
  },
  {
   "cell_type": "code",
   "execution_count": 7,
   "metadata": {},
   "outputs": [
    {
     "data": {
      "text/plain": [
       "'004'"
      ]
     },
     "execution_count": 7,
     "metadata": {},
     "output_type": "execute_result"
    }
   ],
   "source": [
    "f\"{4:03d}\""
   ]
  },
  {
   "cell_type": "code",
   "execution_count": null,
   "metadata": {},
   "outputs": [],
   "source": []
  }
 ],
 "metadata": {
  "kernelspec": {
   "display_name": "Python 3.10.5 64-bit",
   "language": "python",
   "name": "python3"
  },
  "language_info": {
   "codemirror_mode": {
    "name": "ipython",
    "version": 3
   },
   "file_extension": ".py",
   "mimetype": "text/x-python",
   "name": "python",
   "nbconvert_exporter": "python",
   "pygments_lexer": "ipython3",
   "version": "3.10.5"
  },
  "orig_nbformat": 4,
  "vscode": {
   "interpreter": {
    "hash": "3196968d684371006099b3d55edeef8ed90365227a30deaef86e5d4aa8519be0"
   }
  }
 },
 "nbformat": 4,
 "nbformat_minor": 2
}
