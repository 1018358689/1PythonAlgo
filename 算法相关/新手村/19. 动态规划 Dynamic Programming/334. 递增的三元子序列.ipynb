{
 "cells": [
  {
   "cell_type": "code",
   "execution_count": 1,
   "metadata": {},
   "outputs": [],
   "source": [
    "from typing import List\n",
    "\n",
    "\n",
    "class Solution:\n",
    "\n",
    "    def increasingTriplet(self, nums: List[int]) -> bool:\n",
    "        # dp[i]以nums[i]结尾的最长递增子序列长度\n",
    "        if len(nums) < 3 or max(nums) - min(nums) < 2:\n",
    "            return False\n",
    "        dp = [1] * len(nums)\n",
    "        for i in range(1, len(nums)):\n",
    "            for j in range(i):\n",
    "                if nums[i] > nums[j]:\n",
    "                    dp[i] = dp[j] + 1\n",
    "                    if dp[i] == 3:\n",
    "                        return True\n",
    "        return False\n"
   ]
  },
  {
   "cell_type": "code",
   "execution_count": 3,
   "metadata": {},
   "outputs": [
    {
     "name": "stdout",
     "output_type": "stream",
     "text": [
      "[inf, 2, inf, inf, inf, inf, inf, inf]\n",
      "[inf, 1, inf, inf, inf, inf, inf, inf]\n",
      "[inf, 1, 5, inf, inf, inf, inf, inf]\n",
      "[inf, 0, 5, inf, inf, inf, inf, inf]\n",
      "[inf, 0, 4, inf, inf, inf, inf, inf]\n",
      "[inf, 0, 4, 7, inf, inf, inf, inf]\n",
      "[inf, 0, 4, 6, inf, inf, inf, inf]\n"
     ]
    },
    {
     "data": {
      "text/plain": [
       "True"
      ]
     },
     "execution_count": 3,
     "metadata": {},
     "output_type": "execute_result"
    }
   ],
   "source": [
    "# 使用 lgh2num[i]=x, 表示长度为i的上升子串[最小结尾数x]\n",
    "from typing import List\n",
    "\n",
    "\n",
    "class Solution:\n",
    "\n",
    "    def increasingTriplet(self, nums: List[int]) -> bool:\n",
    "        lgh2num = [float('inf')] * (len(nums) + 1)\n",
    "        ans = 1\n",
    "        for i in range(len(nums)):\n",
    "            cur = nums[i]\n",
    "            l, r = 1, i + 1\n",
    "            while l <= r: # 寻找<cur的最大值的索引(索引代表长度) 那么下一个值刚好>cur\n",
    "                m = l + r >> 1\n",
    "                if lgh2num[m] < cur:\n",
    "                    l = m + 1\n",
    "                else:\n",
    "                    r = m - 1\n",
    "            lgh2num[r + 1] = cur\n",
    "            ans = max(ans, r + 1)\n",
    "            print(lgh2num)\n",
    "        return ans >= 3\n",
    "\n",
    "\n",
    "s = Solution()\n",
    "s.increasingTriplet([2, 1, 5, 0, 4, 7, 6])\n"
   ]
  },
  {
   "cell_type": "code",
   "execution_count": null,
   "metadata": {},
   "outputs": [],
   "source": []
  }
 ],
 "metadata": {
  "kernelspec": {
   "display_name": "Python 3.10.6 64-bit",
   "language": "python",
   "name": "python3"
  },
  "language_info": {
   "codemirror_mode": {
    "name": "ipython",
    "version": 3
   },
   "file_extension": ".py",
   "mimetype": "text/x-python",
   "name": "python",
   "nbconvert_exporter": "python",
   "pygments_lexer": "ipython3",
   "version": "3.10.6"
  },
  "orig_nbformat": 4,
  "vscode": {
   "interpreter": {
    "hash": "dfbf064e0f2c8839bc658dd75dfc0b8f09a0440078cae3024109b27659b69d06"
   }
  }
 },
 "nbformat": 4,
 "nbformat_minor": 2
}
