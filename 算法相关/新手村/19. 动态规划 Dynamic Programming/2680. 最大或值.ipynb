{
 "cells": [
  {
   "cell_type": "code",
   "execution_count": null,
   "metadata": {},
   "outputs": [],
   "source": [
    "from typing import List\n",
    "\n",
    "\n",
    "class Solution:\n",
    "\n",
    "    def maximumOr(self, nums: List[int], k: int) -> int:\n",
    "        n = len(nums)\n",
    "        f = [0] * (k + 1)\n",
    "        for x in nums:\n",
    "            for y in range(k, -1, -1):\n",
    "                for j in range(y + 1):\n",
    "                    f[y] = max(f[y], x << j | f[y - j])\n",
    "        return f[k]\n",
    "\n",
    "        # @lru_cache(None)\n",
    "        # def dfs(i, k): # 对前i个数字操作 剩余k个可操作次数的最大按位或值\n",
    "        #     if i < 0:\n",
    "        #         return 0\n",
    "        #     # 对i操作多次\n",
    "        #     ans = 0\n",
    "        #     for j in range(k + 1):\n",
    "        #         ans = max(ans, nums[i] << j | dfs(i - 1, k - j))\n",
    "        #     return ans\n",
    "        # return dfs(n - 1, k)"
   ]
  },
  {
   "cell_type": "code",
   "execution_count": null,
   "metadata": {},
   "outputs": [],
   "source": [
    "from math import inf\n",
    "\n",
    "\n",
    "class Solution:\n",
    "\n",
    "    def maximumOr(self, nums: List[int], k: int) -> int:\n",
    "        n = len(nums)\n",
    "        preor = [0] * (n + 1)\n",
    "        for i, x in enumerate(nums):\n",
    "            preor[i + 1] = preor[i] | x\n",
    "        ans = -inf\n",
    "        orr = 0\n",
    "        for i in range(n - 1, -1, -1):\n",
    "            ans = max(ans, nums[i] << k | preor[i] | orr)\n",
    "            orr |= nums[i]\n",
    "        return ans"
   ]
  }
 ],
 "metadata": {
  "language_info": {
   "name": "python"
  },
  "orig_nbformat": 4
 },
 "nbformat": 4,
 "nbformat_minor": 2
}
