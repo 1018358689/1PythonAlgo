{
 "cells": [
  {
   "cell_type": "code",
   "execution_count": 13,
   "metadata": {},
   "outputs": [
    {
     "name": "stdout",
     "output_type": "stream",
     "text": [
      "[[2, 2, 2, 2, 2, 2, 2, 2],\n",
      " [2, 2, 3, 2, 2, 2, 2, 2],\n",
      " [2, 2, 2, 3, 4, 2, 2, 2],\n",
      " [2, 2, 2, 2, 3, 3, 4, 2],\n",
      " [2, 2, 2, 2, 2, 3, 3, 5],\n",
      " [2, 2, 2, 2, 2, 2, 3, 3],\n",
      " [2, 2, 2, 2, 2, 2, 2, 3],\n",
      " [2, 2, 2, 2, 2, 2, 2, 2]]\n"
     ]
    },
    {
     "data": {
      "text/plain": [
       "5"
      ]
     },
     "execution_count": 13,
     "metadata": {},
     "output_type": "execute_result"
    }
   ],
   "source": [
    "from typing import List\n",
    "from pprint import pprint\n",
    "# 超时\n",
    "\n",
    "\n",
    "class Solution:\n",
    "    def lenLongestFibSubseq(self, arr: List[int]) -> int:\n",
    "        # dp[i][j] 以arr[i]和arr[j]结尾的最长fib序列的长度 i<j\n",
    "        # i:[1,lgh-2] j:[i+1,lgh-1]\n",
    "        # dp[i][j] = max(dp[k][i]+1) k:[0,i-1] & arr[j] == arr[i] + arr[k]\n",
    "        # basecase dp[0][...]=2\n",
    "        ans = 0\n",
    "        lgh = len(arr)\n",
    "        dp = [[2] * (lgh) for _ in range(lgh)]\n",
    "        for i in range(1, lgh - 1):\n",
    "            for j in range(i + 1, lgh):\n",
    "                for k in range(i):\n",
    "                    if arr[j] - arr[i] == arr[k]:\n",
    "                        dp[i][j] = max(dp[i][j], dp[k][i] + 1)\n",
    "                        ans = max(ans, dp[i][j])\n",
    "        pprint(dp)\n",
    "        return ans\n",
    "\n",
    "\n",
    "s = Solution()\n",
    "s.lenLongestFibSubseq([1, 2, 3, 4, 5, 6, 7, 8])\n"
   ]
  },
  {
   "cell_type": "code",
   "execution_count": 19,
   "metadata": {},
   "outputs": [
    {
     "name": "stdout",
     "output_type": "stream",
     "text": [
      "{1: 0, 2: 1, 3: 2, 4: 3, 5: 4, 6: 5, 7: 6, 8: 7}\n"
     ]
    },
    {
     "data": {
      "text/plain": [
       "5"
      ]
     },
     "execution_count": 19,
     "metadata": {},
     "output_type": "execute_result"
    }
   ],
   "source": [
    "from typing import List\n",
    "from pprint import pprint\n",
    "from collections import defaultdict\n",
    "\n",
    "\n",
    "class Solution:\n",
    "    def lenLongestFibSubseq(self, arr: List[int]) -> int:\n",
    "        # dp[i][j] 以arr[i]和arr[j]结尾的最长fib序列的长度 i<j\n",
    "        # i:[1,lgh-2] j:[i+1,lgh-1]\n",
    "        # dp[i][j] = max(dp[k][i]+1) k:[0,i-1] & arr[j] == arr[i] + arr[k]\n",
    "        # basecase dp[0][...]=2\n",
    "        val2idx = {}\n",
    "        for i, n in enumerate(arr):\n",
    "            val2idx[n] = i\n",
    "        # print(val2idx)\n",
    "        ans = 0\n",
    "        lgh = len(arr)\n",
    "        dp = defaultdict(lambda: defaultdict(lambda: 2)) # 减少空间消耗\n",
    "        for i in range(1, lgh - 1):\n",
    "            for j in range(i + 1, lgh):\n",
    "                k = val2idx.get(arr[j] - arr[i])\n",
    "                if k is not None and k < i:\n",
    "                    dp[i][j] = max(dp[i][j], dp[k][i] + 1)\n",
    "                    ans = max(ans, dp[i][j])\n",
    "\n",
    "        # pprint(dp)\n",
    "        return ans\n",
    "\n",
    "\n",
    "s = Solution()\n",
    "s.lenLongestFibSubseq([1, 2, 3, 4, 5, 6, 7, 8])\n"
   ]
  },
  {
   "cell_type": "code",
   "execution_count": 20,
   "metadata": {},
   "outputs": [],
   "source": [
    "from collections import defaultdict\n",
    "from typing import List\n",
    "\n",
    "\n",
    "class Solution:\n",
    "    def lenLongestFibSubseq(self, arr: List[int]) -> int:\n",
    "        n, idx_map, ans = len(arr), {num: i for i, num in enumerate(arr)}, 0\n",
    "        dp = defaultdict(lambda: defaultdict(lambda: 2))\n",
    "        for i in range(n - 1):\n",
    "            for j in range(i + 1, n):\n",
    "                if (nxt := arr[i] + arr[j]) in idx_map:\n",
    "                    dp[j][idx_map[nxt]] = dp[i][j] + 1\n",
    "                    ans = max(ans, dp[j][idx_map[nxt]])\n",
    "        return ans\n",
    "\n",
    "\n",
    "# 作者：himymBen\n",
    "# 链接：https://leetcode.cn/problems/length-of-longest-fibonacci-subsequence/solution/pythonjavatypescriptgo-by-himymben-7ci1/\n",
    "# 来源：力扣（LeetCode）\n",
    "# 著作权归作者所有。商业转载请联系作者获得授权，非商业转载请注明出处。"
   ]
  },
  {
   "cell_type": "code",
   "execution_count": null,
   "metadata": {},
   "outputs": [],
   "source": [
    "from collections import defaultdict\n",
    "from typing import List\n",
    "\n",
    "\n",
    "class Solution:\n",
    "    def lenLongestFibSubseq(self, arr: List[int]) -> int:\n",
    "        val2idx = {arr[0]: 0}\n",
    "        dp = defaultdict(lambda: defaultdict(lambda: 2))\n",
    "        ans = 0\n",
    "        lgh = len(arr)\n",
    "        for i in range(1, lgh - 1):\n",
    "            for j in range(i + 1, lgh):\n",
    "                k = val2idx.get(arr[j] - arr[i])\n",
    "                if k is not None:\n",
    "                    dp[i][j] = dp[k][i] + 1\n",
    "                    ans = max(ans, dp[i][j])\n",
    "            val2idx[arr[i]] = i  # 边用边加 可以保证k<i\n",
    "        return ans"
   ]
  }
 ],
 "metadata": {
  "kernelspec": {
   "display_name": "Python 3.8.10 64-bit",
   "language": "python",
   "name": "python3"
  },
  "language_info": {
   "codemirror_mode": {
    "name": "ipython",
    "version": 3
   },
   "file_extension": ".py",
   "mimetype": "text/x-python",
   "name": "python",
   "nbconvert_exporter": "python",
   "pygments_lexer": "ipython3",
   "version": "3.8.10"
  },
  "orig_nbformat": 4,
  "vscode": {
   "interpreter": {
    "hash": "570feb405e2e27c949193ac68f46852414290d515b0ba6e5d90d076ed2284471"
   }
  }
 },
 "nbformat": 4,
 "nbformat_minor": 2
}
