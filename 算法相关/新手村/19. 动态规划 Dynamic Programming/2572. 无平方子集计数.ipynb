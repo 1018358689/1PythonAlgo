{
 "cells": [
  {
   "cell_type": "code",
   "execution_count": 12,
   "metadata": {},
   "outputs": [
    {
     "data": {
      "text/plain": [
       "78"
      ]
     },
     "execution_count": 12,
     "metadata": {},
     "output_type": "execute_result"
    }
   ],
   "source": [
    "class Solution:\n",
    "    def squareFreeSubsets(self, nums: List[int]) -> int:\n",
    "        prime = [2,3,5,7,11,13,17,19,23,29] # 共十个\n",
    "        # 预处理[2-30]的无平方因子\n",
    "        sf2mask = [0] * 31\n",
    "        for num in range(2,31):\n",
    "            for i,pri in enumerate(prime):\n",
    "                if num % pri == 0:\n",
    "                    if num % (pri*pri) == 0:\n",
    "                        sf2mask[num] = -1 # 不是无平方因子数\n",
    "                        break\n",
    "                    sf2mask[num] |= 1<<i\n",
    "\n",
    "        MOD = 10 ** 9 +7\n",
    "        n = len(nums)\n",
    "        m = 1 << len(prime)\n",
    "\n",
    "        # @lru_cache(None)\n",
    "        # def dfs(i,t): # 前i+1个数 凑出二进制集合t的方案数  01背包\n",
    "        #     if i < 0:\n",
    "        #         return int(t == 0)\n",
    "        #     num = nums[i]\n",
    "        #     mask = sf2mask[num]\n",
    "        #     # 不选这个数\n",
    "        #     ans = dfs(i-1,t) % MOD\n",
    "        #     # 选这个数\n",
    "        #     if mask >= 0 and (mask | t) == t:\n",
    "        #         ans = (ans + dfs(i-1,t ^ mask)) % MOD\n",
    "        #     return ans % MOD\n",
    "        # # 枚举所有可能t\n",
    "        # ans = 0\n",
    "        # for t in range(m):\n",
    "        #     ans = (ans + dfs(n-1,t)) % MOD\n",
    "        # return (ans - 1) % MOD\n",
    "\n",
    "        # f = [[0] * (m) for _ in range(2)]\n",
    "        # f[0][0] = 1\n",
    "        # for i,x in enumerate(nums):\n",
    "        #     for t in range(m):\n",
    "        #         f[(i+1)&1][t] = f[i&1][t] % MOD\n",
    "        #         mask = sf2mask[x]\n",
    "        #         if mask >=0 and (mask | t) == t:\n",
    "        #             f[(i+1)&1][t] = (f[(i+1)&1][t] + f[i&1][t ^ mask]) % MOD\n",
    "        # return (sum(f[n & 1]) - 1) % MOD\n",
    "\n",
    "        # f = [0] * m\n",
    "        # f[0] = 1\n",
    "        # for x in nums:\n",
    "        #     for t in range(m - 1, -1 , -1):\n",
    "        #         mask = sf2mask[x]\n",
    "        #         if mask >= 0 and (mask | t) == t:\n",
    "        #             f[t] = (f[t] + f[t ^ mask]) % MOD\n",
    "        # return (sum(f) - 1) % MOD\n",
    "\n",
    "        f = [0] * m\n",
    "        f[0] = 1\n",
    "        for x in nums:\n",
    "            mask = sf2mask[x]\n",
    "            for t in range(m - 1, mask - 1, -1):\n",
    "                if mask >= 0 and (mask | t) == t:\n",
    "                    f[t] = (f[t] + f[t ^ mask]) % MOD\n",
    "        return (sum(f) - 1) % MOD"
   ]
  }
 ],
 "metadata": {
  "kernelspec": {
   "display_name": "Python 3",
   "language": "python",
   "name": "python3"
  },
  "language_info": {
   "codemirror_mode": {
    "name": "ipython",
    "version": 3
   },
   "file_extension": ".py",
   "mimetype": "text/x-python",
   "name": "python",
   "nbconvert_exporter": "python",
   "pygments_lexer": "ipython3",
   "version": "3.11.1"
  },
  "orig_nbformat": 4
 },
 "nbformat": 4,
 "nbformat_minor": 2
}
