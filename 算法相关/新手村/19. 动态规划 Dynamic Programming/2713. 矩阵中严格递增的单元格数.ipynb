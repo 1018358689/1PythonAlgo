{
 "cells": [
  {
   "cell_type": "code",
   "execution_count": null,
   "metadata": {},
   "outputs": [],
   "source": [
    "class Solution:\n",
    "\n",
    "    def maxIncreasingCells(self, mat: List[List[int]]) -> int:\n",
    "        m, n = len(mat), len(mat[0])\n",
    "        # f = [[1] * n for _ in range(m)] # 到[i,j]的最大递增长度\n",
    "        # 由行列最大递增长度进行转移得到\n",
    "        ans = 1\n",
    "        rmx = [0] * m  # 行列最大值(指递增长度)\n",
    "        cmx = [0] * n\n",
    "        pos = defaultdict(list)\n",
    "        for i in range(m):\n",
    "            for j in range(n):\n",
    "                pos[mat[i][j]].append((i, j))  # 可能会有相同值得不同位置\n",
    "        for _, vals in sorted(pos.items(), key=lambda x: x[0]):\n",
    "            # for i, j in vals: # 不能这样做 要先把最大值算出来再更新所有ij 否则会漏掉前面的ij\n",
    "            #     mx = max(rmx[i], cmx[j]) + 1\n",
    "            #     ans = max(ans, mx)\n",
    "            #     rmx[i] = max(rmx[i], mx)\n",
    "            #     cmx[j] = max(cmx[j], mx)\n",
    "            mxs = [max(rmx[i], cmx[j]) + 1 for i, j in vals]\n",
    "            ans = max(ans, max(mxs))\n",
    "            for (i, j), mx in zip(vals, mxs):\n",
    "                rmx[i] = max(rmx[i], mx)\n",
    "                cmx[j] = max(cmx[j], mx)\n",
    "        return ans\n"
   ]
  }
 ],
 "metadata": {
  "language_info": {
   "name": "python"
  },
  "orig_nbformat": 4
 },
 "nbformat": 4,
 "nbformat_minor": 2
}
