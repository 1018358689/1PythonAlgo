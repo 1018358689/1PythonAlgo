{
 "cells": [
  {
   "cell_type": "code",
   "execution_count": 4,
   "metadata": {},
   "outputs": [
    {
     "data": {
      "text/plain": [
       "True"
      ]
     },
     "execution_count": 4,
     "metadata": {},
     "output_type": "execute_result"
    }
   ],
   "source": [
    "from typing import List\n",
    "from functools import lru_cache\n",
    "\n",
    "\n",
    "class Solution:\n",
    "\n",
    "    def wordBreak(self, s: str, wordDict: List[str]) -> bool:\n",
    "        wordDict = set(wordDict)\n",
    "\n",
    "        @lru_cache(None)\n",
    "        def dfs(i):  # s[i:]能否由worddict构成\n",
    "            if i == len(s):\n",
    "                return True\n",
    "            for j in range(i + 1, len(s) + 1):\n",
    "                if s[i:j] in wordDict and dfs(j):\n",
    "                    return True\n",
    "            return False\n",
    "\n",
    "        return dfs(0)\n",
    "\n",
    "\n",
    "s = Solution()\n",
    "s.wordBreak(\"leetcode\", [\"leet\", \"code\"])\n"
   ]
  },
  {
   "cell_type": "code",
   "execution_count": null,
   "metadata": {},
   "outputs": [],
   "source": []
  }
 ],
 "metadata": {
  "kernelspec": {
   "display_name": "Python 3.10.5 64-bit",
   "language": "python",
   "name": "python3"
  },
  "language_info": {
   "codemirror_mode": {
    "name": "ipython",
    "version": 3
   },
   "file_extension": ".py",
   "mimetype": "text/x-python",
   "name": "python",
   "nbconvert_exporter": "python",
   "pygments_lexer": "ipython3",
   "version": "3.10.5"
  },
  "orig_nbformat": 4,
  "vscode": {
   "interpreter": {
    "hash": "3196968d684371006099b3d55edeef8ed90365227a30deaef86e5d4aa8519be0"
   }
  }
 },
 "nbformat": 4,
 "nbformat_minor": 2
}
