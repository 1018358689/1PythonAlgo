{
 "cells": [
  {
   "cell_type": "code",
   "execution_count": null,
   "metadata": {},
   "outputs": [],
   "source": [
    "from functools import lru_cache\n",
    "\n",
    "\n",
    "class Solution:\n",
    "\n",
    "    def numTrees(self, n: int) -> int:\n",
    "\n",
    "        @lru_cache(None)\n",
    "        def dfs(l, r):  # [l,l+1...r] 几个数组成的bst数量\n",
    "            if l >= r:\n",
    "                return 1\n",
    "            ans = 0\n",
    "            for m in range(l, r + 1):\n",
    "                ans += dfs(l, m - 1) * dfs(m + 1, r)\n",
    "            return ans\n",
    "\n",
    "        return dfs(1, n)\n"
   ]
  }
 ],
 "metadata": {
  "language_info": {
   "name": "python"
  },
  "orig_nbformat": 4
 },
 "nbformat": 4,
 "nbformat_minor": 2
}
