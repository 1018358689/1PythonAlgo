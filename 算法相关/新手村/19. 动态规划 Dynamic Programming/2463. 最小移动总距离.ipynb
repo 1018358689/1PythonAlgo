{
 "cells": [
  {
   "cell_type": "code",
   "execution_count": 6,
   "metadata": {},
   "outputs": [
    {
     "data": {
      "text/plain": [
       "6"
      ]
     },
     "execution_count": 6,
     "metadata": {},
     "output_type": "execute_result"
    }
   ],
   "source": [
    "from math import inf\n",
    "from typing import List\n",
    "\n",
    "\n",
    "class Solution:\n",
    "\n",
    "    def minimumTotalDistance(self, robot: List[int], factory: List[List[int]]) -> int:\n",
    "\n",
    "        factory.sort(key=lambda x: x[0])\n",
    "        robot.sort()\n",
    "        n1, n2 = len(factory), len(robot)\n",
    "        # dp[i][j] 前i个工厂修理前j个机器人所需的最小移动费用\n",
    "        # i:[0,n1] j:[0,n2]\n",
    "        # dp[i][j] = min(dp[i][j],dp[i-1][j-k]+cost)\n",
    "        # k:最后一个工厂修理个数 cost最后一个工厂修理费用\n",
    "        # basecase dp[0][j] = inf dp[i][0] = 0\n",
    "        dp = [[inf] * (n2 + 1) for _ in range(n1 + 1)]\n",
    "        dp[0][0] = 0\n",
    "        for i in range(1, n1 + 1):\n",
    "            for j in range(n2 + 1):\n",
    "                cost = 0\n",
    "                for k in range(min(j, factory[i - 1][1]) + 1):\n",
    "                    if k == 0: # 一个都不修\n",
    "                        dp[i][j] = dp[i - 1][j]\n",
    "                    else:\n",
    "                        cost += abs(robot[j - k] - factory[i - 1][0])\n",
    "                        dp[i][j] = min(dp[i][j], dp[i - 1][j - k] + cost)\n",
    "        return dp[-1][-1]\n",
    "\n",
    "\n",
    "s = Solution()\n",
    "# s.minimumTotalDistance([0, 4, 6], [[2, 2], [6, 2]])\n",
    "s.minimumTotalDistance([9, 11, 99, 101], [[10, 1], [7, 1], [14, 1], [100, 1], [96, 1], [103, 1]])\n"
   ]
  }
 ],
 "metadata": {
  "kernelspec": {
   "display_name": "Python 3.10.5 64-bit",
   "language": "python",
   "name": "python3"
  },
  "language_info": {
   "codemirror_mode": {
    "name": "ipython",
    "version": 3
   },
   "file_extension": ".py",
   "mimetype": "text/x-python",
   "name": "python",
   "nbconvert_exporter": "python",
   "pygments_lexer": "ipython3",
   "version": "3.10.5"
  },
  "orig_nbformat": 4,
  "vscode": {
   "interpreter": {
    "hash": "3196968d684371006099b3d55edeef8ed90365227a30deaef86e5d4aa8519be0"
   }
  }
 },
 "nbformat": 4,
 "nbformat_minor": 2
}
