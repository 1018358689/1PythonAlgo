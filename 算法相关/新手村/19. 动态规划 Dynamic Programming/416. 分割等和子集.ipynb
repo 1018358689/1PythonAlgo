{
 "cells": [
  {
   "cell_type": "code",
   "execution_count": 2,
   "metadata": {},
   "outputs": [
    {
     "data": {
      "text/plain": [
       "True"
      ]
     },
     "execution_count": 2,
     "metadata": {},
     "output_type": "execute_result"
    }
   ],
   "source": [
    "from typing import List\n",
    "from collections import defaultdict\n",
    "\n",
    "\n",
    "class Solution:\n",
    "\n",
    "    def canPartition(self, nums: List[int]) -> bool:\n",
    "        s = sum(nums)\n",
    "        if s & 1:\n",
    "            return False\n",
    "        target = s // 2\n",
    "        # dp[i][j] 给i个数字能否凑出j\n",
    "        # dp[i][j] = dp[i-1][j] if nums[i-1]>j else dp[i-1][j] | dp[i-1][j-nums[i-1]] # 是否用最后一个数字\n",
    "        # Basecase : dp[0][j] = False, dp[0][0] = True\n",
    "        # i:[0,lgh] ,j:[0,target]\n",
    "        dp = defaultdict(lambda: defaultdict(lambda: False))\n",
    "        dp[0][0] = True\n",
    "        for i in range(1, len(nums) + 1):\n",
    "            for j in range(target + 1):\n",
    "                dp[i][j] = dp[i - 1][j] if nums[i - 1] > j else dp[i - 1][j] | dp[i - 1][j - nums[i - 1]]\n",
    "        return dp[len(nums)][target]\n",
    "\n",
    "\n",
    "s = Solution()\n",
    "s.canPartition([1, 5, 11, 5])\n"
   ]
  },
  {
   "cell_type": "code",
   "execution_count": 3,
   "metadata": {},
   "outputs": [
    {
     "data": {
      "text/plain": [
       "True"
      ]
     },
     "execution_count": 3,
     "metadata": {},
     "output_type": "execute_result"
    }
   ],
   "source": [
    "from typing import List\n",
    "\n",
    "\n",
    "class Solution:\n",
    "\n",
    "    def canPartition(self, nums: List[int]) -> bool:\n",
    "        s = sum(nums)\n",
    "        if s & 1:\n",
    "            return False\n",
    "        target = s // 2\n",
    "        # dp[i][j] 给i个数字能否凑出j\n",
    "        # dp[i][j] = dp[i-1][j] if nums[i-1]>j else dp[i-1][j] | dp[i-1][j-nums[i-1]] # 是否用最后一个数字\n",
    "        # Basecase : dp[0][j] = False, dp[0][0] = True\n",
    "        # i:[0,lgh] ,j:[0,target]\n",
    "        dp = [[False] * (target + 1) for _ in range(len(nums) + 1)]\n",
    "        dp[0][0] = True\n",
    "        for i in range(1, len(nums) + 1):\n",
    "            for j in range(target + 1):\n",
    "                dp[i][j] = dp[i - 1][j] if nums[i - 1] > j else dp[i - 1][j] | dp[i - 1][j - nums[i - 1]]\n",
    "        return dp[len(nums)][target]\n",
    "\n",
    "\n",
    "s = Solution()\n",
    "s.canPartition([1, 5, 11, 5])\n"
   ]
  },
  {
   "cell_type": "code",
   "execution_count": null,
   "metadata": {},
   "outputs": [],
   "source": []
  }
 ],
 "metadata": {
  "kernelspec": {
   "display_name": "Python 3.10.5 64-bit",
   "language": "python",
   "name": "python3"
  },
  "language_info": {
   "codemirror_mode": {
    "name": "ipython",
    "version": 3
   },
   "file_extension": ".py",
   "mimetype": "text/x-python",
   "name": "python",
   "nbconvert_exporter": "python",
   "pygments_lexer": "ipython3",
   "version": "3.10.5"
  },
  "orig_nbformat": 4,
  "vscode": {
   "interpreter": {
    "hash": "3196968d684371006099b3d55edeef8ed90365227a30deaef86e5d4aa8519be0"
   }
  }
 },
 "nbformat": 4,
 "nbformat_minor": 2
}
