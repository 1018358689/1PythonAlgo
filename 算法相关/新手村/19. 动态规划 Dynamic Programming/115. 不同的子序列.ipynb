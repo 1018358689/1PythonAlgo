{
 "cells": [
  {
   "cell_type": "code",
   "execution_count": 6,
   "metadata": {},
   "outputs": [
    {
     "data": {
      "text/plain": [
       "5"
      ]
     },
     "execution_count": 6,
     "metadata": {},
     "output_type": "execute_result"
    }
   ],
   "source": [
    "from functools import lru_cache\n",
    "\n",
    "\n",
    "class Solution:\n",
    "\n",
    "    def numDistinct(self, s: str, t: str) -> int:\n",
    "\n",
    "        @lru_cache(None)\n",
    "        def dfs(i, j):  # s[:i]和s[j]的不同子序列个数\n",
    "            # basecase\n",
    "            if j == 0:\n",
    "                return 1\n",
    "            if j > i: # 剪枝\n",
    "                return 0\n",
    "            # if i == 0: # 这个剪枝效率低 i下降快\n",
    "            #     return 0\n",
    "            # dp\n",
    "            if s[i - 1] != t[j - 1]:\n",
    "                return dfs(i - 1, j)\n",
    "            else:\n",
    "                return dfs(i - 1, j - 1) + dfs(i - 1, j)\n",
    "\n",
    "        return dfs(len(s), len(t))\n",
    "\n",
    "\n",
    "s = Solution()\n",
    "# s.numDistinct('rabbbit', 'rabbit')\n",
    "s.numDistinct('babgbag', 'bag')\n"
   ]
  },
  {
   "cell_type": "code",
   "execution_count": null,
   "metadata": {},
   "outputs": [],
   "source": []
  }
 ],
 "metadata": {
  "kernelspec": {
   "display_name": "Python 3.10.5 64-bit (windows store)",
   "language": "python",
   "name": "python3"
  },
  "language_info": {
   "codemirror_mode": {
    "name": "ipython",
    "version": 3
   },
   "file_extension": ".py",
   "mimetype": "text/x-python",
   "name": "python",
   "nbconvert_exporter": "python",
   "pygments_lexer": "ipython3",
   "version": "3.10.5"
  },
  "orig_nbformat": 4,
  "vscode": {
   "interpreter": {
    "hash": "97367d2de1780ea7c502b529f25888c1b53c0430a7611816b6c7cf19d8435228"
   }
  }
 },
 "nbformat": 4,
 "nbformat_minor": 2
}
