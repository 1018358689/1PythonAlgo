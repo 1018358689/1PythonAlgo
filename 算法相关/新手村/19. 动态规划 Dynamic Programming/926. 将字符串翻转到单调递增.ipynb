{
 "cells": [
  {
   "cell_type": "code",
   "execution_count": null,
   "metadata": {},
   "outputs": [],
   "source": [
    "class Solution:\n",
    "\n",
    "    def minFlipsMonoIncr(self, s: str) -> int:\n",
    "        n = len(s)\n",
    "        f = [0] * 2\n",
    "        for x in s:\n",
    "            x = int(x)\n",
    "            for j in range(1, -1, -1):\n",
    "                if x == 0:\n",
    "                    if j == 0:\n",
    "                        f[j] = f[0]\n",
    "                    else:\n",
    "                        f[j] = min(f[0] + 1, f[1] + 1)\n",
    "                else:\n",
    "                    if j == 0:\n",
    "                        f[j] = f[0] + 1\n",
    "                    else:\n",
    "                        f[j] = min(f[0], f[1])\n",
    "        return min(f)\n",
    "        # @lru_cache(None)\n",
    "        # def dfs(i, j): # 把s[i]翻转成j的 单调递增的最小翻转次数\n",
    "        #     if i < 0: return 0\n",
    "        #     x = int(s[i])\n",
    "        #     if x == 0:\n",
    "        #         if j == 0:\n",
    "        #             return dfs(i - 1, 0)\n",
    "        #         else:\n",
    "        #             return min(dfs(i - 1, 0) + 1, dfs(i - 1, 1) + 1)\n",
    "        #     else:\n",
    "        #         if j == 0:\n",
    "        #             return dfs(i - 1, 0) + 1\n",
    "        #         else:\n",
    "        #             return min(dfs(i - 1, 0), dfs(i - 1, 1))\n",
    "        # return min(dfs(n - 1, 0), dfs(n - 1, 1))"
   ]
  },
  {
   "cell_type": "code",
   "execution_count": null,
   "metadata": {},
   "outputs": [],
   "source": [
    "class Solution:\n",
    "\n",
    "    def minFlipsMonoIncr(self, s: str) -> int:\n",
    "        # LIS 最长不下降子序列\n",
    "        lst = []\n",
    "        lgh = 0\n",
    "        for x in s:\n",
    "            l = bisect_right(lst, x)  # >\n",
    "            if l == lgh:  # 全 <= 可以增加长度了  因为是不下降所以在 <= 添加\n",
    "                lst.append(x)\n",
    "                lgh += 1\n",
    "            else:\n",
    "                lst[l] = x\n",
    "        return len(s) - lgh"
   ]
  },
  {
   "cell_type": "code",
   "execution_count": 4,
   "metadata": {},
   "outputs": [
    {
     "name": "stdout",
     "output_type": "stream",
     "text": [
      "0\n"
     ]
    },
    {
     "data": {
      "text/plain": [
       "1"
      ]
     },
     "execution_count": 4,
     "metadata": {},
     "output_type": "execute_result"
    }
   ],
   "source": [
    "class Solution:\n",
    "\n",
    "    def minFlipsMonoIncr(self, s: str) -> int:\n",
    "        # dp[i][0/1] i位翻转成0/1 的最小反转次数\n",
    "        # dp[0][0]=0 if s[0]==0 else 1\n",
    "        # dp[0][1]=0 if s[0]==1 else 1\n",
    "        dp = [[0] * 2 for _ in range(len(s))]\n",
    "        dp[0][0] = 0 if s[0] == '0' else 1\n",
    "        dp[0][1] = 0 if s[0] == '1' else 1\n",
    "        for i in range(1, len(s)):\n",
    "            if s[i] == '0':\n",
    "                dp[i][0] = dp[i - 1][0]\n",
    "                dp[i][1] = min(dp[i - 1][0], dp[i - 1][1]) + 1\n",
    "            else:\n",
    "                dp[i][0] = dp[i - 1][0] + 1\n",
    "                dp[i][1] = min(dp[i - 1][0], dp[i - 1][1])\n",
    "        return min(dp[-1])\n",
    "\n",
    "\n",
    "s = Solution()\n",
    "s.minFlipsMonoIncr('00110')"
   ]
  }
 ],
 "metadata": {
  "kernelspec": {
   "display_name": "Python 3.10.2 64-bit",
   "language": "python",
   "name": "python3"
  },
  "language_info": {
   "codemirror_mode": {
    "name": "ipython",
    "version": 3
   },
   "file_extension": ".py",
   "mimetype": "text/x-python",
   "name": "python",
   "nbconvert_exporter": "python",
   "pygments_lexer": "ipython3",
   "version": "3.10.2"
  },
  "orig_nbformat": 4,
  "vscode": {
   "interpreter": {
    "hash": "aee8b7b246df8f9039afb4144a1f6fd8d2ca17a180786b69acc140d282b71a49"
   }
  }
 },
 "nbformat": 4,
 "nbformat_minor": 2
}
