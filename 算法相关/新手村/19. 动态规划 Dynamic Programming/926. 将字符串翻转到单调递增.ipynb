{
 "cells": [
  {
   "cell_type": "code",
   "execution_count": null,
   "metadata": {},
   "outputs": [],
   "source": [
    "class Solution:\n",
    "\n",
    "    def minFlipsMonoIncr(self, s: str) -> int:\n",
    "        # LIS 最长不下降子序列\n",
    "        lst = []\n",
    "        lgh = 0\n",
    "        for x in s:\n",
    "            l = bisect_right(lst, x)  # >\n",
    "            if l == lgh:  # 全 <= 可以增加长度了  因为是不下降所以在 <= 添加\n",
    "                lst.append(x)\n",
    "                lgh += 1\n",
    "            else:\n",
    "                lst[l] = x  # 相同的数不覆盖 继续添加\n",
    "        return len(s) - lgh"
   ]
  },
  {
   "cell_type": "code",
   "execution_count": null,
   "metadata": {},
   "outputs": [],
   "source": [
    "class Solution:\n",
    "\n",
    "    def minFlipsMonoIncr(self, s: str) -> int:\n",
    "        # LIS 最长不下降子序列\n",
    "        # dp[i] 以 i数 结尾的LIS\n",
    "        # dp[i] = max(dp[j])  mn <= j <= i  从前面转移 不存在出界\n",
    "\n",
    "        s = [int(x) for x in s]\n",
    "        mn, mx = min(s), max(s)\n",
    "        vals = [0] * (4 * (mx - mn + 1))\n",
    "\n",
    "        def update(o, l, r, idx, val):\n",
    "            if l == r:\n",
    "                vals[o] = val\n",
    "                return\n",
    "            m = (l + r) // 2\n",
    "            if m >= idx: update(o * 2, l, m, idx, val)\n",
    "            else: update(o * 2 + 1, m + 1, r, idx, val)\n",
    "            vals[o] = max(vals[o * 2], vals[o * 2 + 1])\n",
    "\n",
    "        def query(o, l, r, L, R):  # [L, R]\n",
    "            if L <= l and r <= R:\n",
    "                return vals[o]\n",
    "            m = (l + r) // 2\n",
    "            ans = -inf\n",
    "            if m >= L: ans = max(ans, query(o * 2, l, m, L, R))\n",
    "            if m + 1 <= R: ans = max(ans, query(o * 2 + 1, m + 1, r, L, R))\n",
    "            return ans\n",
    "\n",
    "        for x in s:\n",
    "            update(1, mn, mx, x, 1 + query(1, mn, mx, mn, x))\n",
    "        return len(s) - vals[1]"
   ]
  },
  {
   "cell_type": "code",
   "execution_count": null,
   "metadata": {},
   "outputs": [],
   "source": [
    "# 超时\n",
    "class Solution:\n",
    "\n",
    "    def minFlipsMonoIncr(self, s: str) -> int:\n",
    "        # LIS 最长不下降子序列\n",
    "        # dp[i] 以 s[i]数 结尾的LIS\n",
    "        # dp[i] = max(dp[j] + 1) s[j] <= s[i]  0 <= j < i 从前面转移 不存在出界\n",
    "\n",
    "        n = len(s)\n",
    "        f = [1] * n\n",
    "        for i, x in enumerate(s):\n",
    "            for j in range(i):\n",
    "                if s[j] <= s[i]:\n",
    "                    f[i] = max(f[i], 1 + f[j])\n",
    "        return n - max(f)"
   ]
  },
  {
   "cell_type": "code",
   "execution_count": 4,
   "metadata": {},
   "outputs": [
    {
     "name": "stdout",
     "output_type": "stream",
     "text": [
      "0\n"
     ]
    },
    {
     "data": {
      "text/plain": [
       "1"
      ]
     },
     "execution_count": 4,
     "metadata": {},
     "output_type": "execute_result"
    }
   ],
   "source": [
    "class Solution:\n",
    "\n",
    "    def minFlipsMonoIncr(self, s: str) -> int:\n",
    "        # dp[i][0/1] i位翻转成0/1 的最小反转次数\n",
    "        # dp[0][0]=0 if s[0]==0 else 1\n",
    "        # dp[0][1]=0 if s[0]==1 else 1\n",
    "        dp = [[0] * 2 for _ in range(len(s))]\n",
    "        dp[0][0] = 0 if s[0] == '0' else 1\n",
    "        dp[0][1] = 0 if s[0] == '1' else 1\n",
    "        for i in range(1, len(s)):\n",
    "            if s[i] == '0':\n",
    "                dp[i][0] = dp[i - 1][0]\n",
    "                dp[i][1] = min(dp[i - 1][0], dp[i - 1][1]) + 1\n",
    "            else:\n",
    "                dp[i][0] = dp[i - 1][0] + 1\n",
    "                dp[i][1] = min(dp[i - 1][0], dp[i - 1][1])\n",
    "        return min(dp[-1])\n",
    "\n",
    "\n",
    "s = Solution()\n",
    "s.minFlipsMonoIncr('00110')"
   ]
  }
 ],
 "metadata": {
  "kernelspec": {
   "display_name": "Python 3.10.2 64-bit",
   "language": "python",
   "name": "python3"
  },
  "language_info": {
   "codemirror_mode": {
    "name": "ipython",
    "version": 3
   },
   "file_extension": ".py",
   "mimetype": "text/x-python",
   "name": "python",
   "nbconvert_exporter": "python",
   "pygments_lexer": "ipython3",
   "version": "3.10.2"
  },
  "orig_nbformat": 4,
  "vscode": {
   "interpreter": {
    "hash": "aee8b7b246df8f9039afb4144a1f6fd8d2ca17a180786b69acc140d282b71a49"
   }
  }
 },
 "nbformat": 4,
 "nbformat_minor": 2
}
