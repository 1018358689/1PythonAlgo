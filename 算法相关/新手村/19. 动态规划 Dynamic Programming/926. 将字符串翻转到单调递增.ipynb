{
 "cells": [
  {
   "cell_type": "code",
   "execution_count": 4,
   "metadata": {},
   "outputs": [
    {
     "name": "stdout",
     "output_type": "stream",
     "text": [
      "0\n"
     ]
    },
    {
     "data": {
      "text/plain": [
       "1"
      ]
     },
     "execution_count": 4,
     "metadata": {},
     "output_type": "execute_result"
    }
   ],
   "source": [
    "class Solution:\n",
    "\n",
    "    def minFlipsMonoIncr(self, s: str) -> int:\n",
    "        # dp[i][0/1] i位翻转成0/1 的最小反转次数\n",
    "        # dp[0][0]=0 if s[0]==0 else 1\n",
    "        # dp[0][1]=0 if s[0]==1 else 1\n",
    "        dp = [[0] * 2 for _ in range(len(s))]\n",
    "        dp[0][0] = 0 if s[0] == '0' else 1\n",
    "        dp[0][1] = 0 if s[0] == '1' else 1\n",
    "        for i in range(1, len(s)):\n",
    "            if s[i] == '0':\n",
    "                dp[i][0] = dp[i - 1][0]\n",
    "                dp[i][1] = min(dp[i - 1][0], dp[i - 1][1]) + 1\n",
    "            else:\n",
    "                dp[i][0] = dp[i - 1][0] + 1\n",
    "                dp[i][1] = min(dp[i - 1][0], dp[i - 1][1])\n",
    "        return min(dp[-1])\n",
    "\n",
    "\n",
    "s = Solution()\n",
    "s.minFlipsMonoIncr('00110')"
   ]
  }
 ],
 "metadata": {
  "kernelspec": {
   "display_name": "Python 3.10.2 64-bit",
   "language": "python",
   "name": "python3"
  },
  "language_info": {
   "codemirror_mode": {
    "name": "ipython",
    "version": 3
   },
   "file_extension": ".py",
   "mimetype": "text/x-python",
   "name": "python",
   "nbconvert_exporter": "python",
   "pygments_lexer": "ipython3",
   "version": "3.10.2"
  },
  "orig_nbformat": 4,
  "vscode": {
   "interpreter": {
    "hash": "aee8b7b246df8f9039afb4144a1f6fd8d2ca17a180786b69acc140d282b71a49"
   }
  }
 },
 "nbformat": 4,
 "nbformat_minor": 2
}
