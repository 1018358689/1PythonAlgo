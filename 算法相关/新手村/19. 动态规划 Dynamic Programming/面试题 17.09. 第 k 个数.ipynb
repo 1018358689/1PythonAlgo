{
 "cells": [
  {
   "cell_type": "code",
   "execution_count": 1,
   "metadata": {},
   "outputs": [],
   "source": [
    "class Solution:\n",
    "\n",
    "    def getKthMagicNumber(self, k: int) -> int:\n",
    "        dp = [1] * (k + 1)\n",
    "        i3 = i5 = i7 = 1\n",
    "        for i in range(2, k + 1):\n",
    "            a, b, c = dp[i3] * 3, dp[i5] * 5, dp[i7] * 7\n",
    "            m = min(a, b, c)\n",
    "            dp[i] = m\n",
    "            if m == a:\n",
    "                i3 += 1\n",
    "            if m == b:\n",
    "                i5 += 1\n",
    "            if m == c:\n",
    "                i7 += 1\n",
    "        return dp[-1]"
   ]
  },
  {
   "cell_type": "code",
   "execution_count": null,
   "metadata": {},
   "outputs": [],
   "source": [
    "import heapq\n",
    "\n",
    "\n",
    "class Solution:\n",
    "\n",
    "    def getKthMagicNumber(self, k: int) -> int:\n",
    "        pq = [1]\n",
    "        ha = set()\n",
    "        cnt = 0\n",
    "        while cnt < k:\n",
    "            top = heapq.heappop(pq)\n",
    "            if top not in ha:\n",
    "                cnt += 1\n",
    "                ha.add(top)\n",
    "                heapq.heappush(pq, top * 3)\n",
    "                heapq.heappush(pq, top * 5)\n",
    "                heapq.heappush(pq, top * 7)\n",
    "        return top\n"
   ]
  }
 ],
 "metadata": {
  "kernelspec": {
   "display_name": "Python 3.10.2 64-bit",
   "language": "python",
   "name": "python3"
  },
  "language_info": {
   "codemirror_mode": {
    "name": "ipython",
    "version": 3
   },
   "file_extension": ".py",
   "mimetype": "text/x-python",
   "name": "python",
   "nbconvert_exporter": "python",
   "pygments_lexer": "ipython3",
   "version": "3.10.2"
  },
  "orig_nbformat": 4,
  "vscode": {
   "interpreter": {
    "hash": "aee8b7b246df8f9039afb4144a1f6fd8d2ca17a180786b69acc140d282b71a49"
   }
  }
 },
 "nbformat": 4,
 "nbformat_minor": 2
}
