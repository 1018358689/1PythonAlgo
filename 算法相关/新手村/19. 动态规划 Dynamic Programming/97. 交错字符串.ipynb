{
 "cells": [
  {
   "cell_type": "code",
   "execution_count": 8,
   "metadata": {},
   "outputs": [
    {
     "data": {
      "text/plain": [
       "False"
      ]
     },
     "execution_count": 8,
     "metadata": {},
     "output_type": "execute_result"
    }
   ],
   "source": [
    "class Solution:\n",
    "\n",
    "    def isInterleave(self, s1: str, s2: str, s3: str) -> bool:\n",
    "        # dp[i][j] s1[i:]和s2[j:]能否拼出s3[i+j:] i:[0,len(s1)] j:[0,len(s2)]\n",
    "        # dp[i][j] = if s1[i]==s3[i+j]:dp[i+1][j] elif s2[j]==s3[i+j]:dp[i][j+1]\n",
    "        # basecase 填充最下面和最右边一行和一列 注意最右下角\n",
    "        lgh1, lgh2 = len(s1), len(s2)\n",
    "        if lgh1 + lgh2 != len(s3):\n",
    "            return False\n",
    "        dp = [[False] * (lgh2 + 1) for _ in range(lgh1 + 1)]\n",
    "        # basecase\n",
    "        dp[lgh1][lgh2] = True\n",
    "        for j in range(lgh2 - 1, -1, -1):\n",
    "            if s2[j] == s3[lgh1 + j]:\n",
    "                dp[lgh1][j] = True\n",
    "            else:\n",
    "                break\n",
    "        for i in range(lgh1 - 1, -1, -1):\n",
    "            if s1[i] == s3[lgh2 + i]:\n",
    "                dp[i][lgh2] = True\n",
    "            else:\n",
    "                break\n",
    "        # dp\n",
    "        for i in range(lgh1 - 1, -1, -1):\n",
    "            for j in range(lgh2 - 1, -1, -1):\n",
    "                if s1[i] == s3[i + j]:\n",
    "                    dp[i][j] |= dp[i + 1][j]\n",
    "                if s2[j] == s3[i + j]:\n",
    "                    dp[i][j] |= dp[i][j + 1]\n",
    "        return dp[0][0]\n",
    "\n",
    "\n",
    "s = Solution()\n",
    "s.isInterleave(\"a\", \"\", \"a\")\n"
   ]
  },
  {
   "cell_type": "code",
   "execution_count": null,
   "metadata": {},
   "outputs": [],
   "source": [
    "from functools import lru_cache\n",
    "\n",
    "\n",
    "class Solution:\n",
    "\n",
    "    def isInterleave(self, s1: str, s2: str, s3: str) -> bool:\n",
    "        # dp[i][j] s1[i:]和s2[j:]能否拼出s3[i+j:] i:[0,len(s1)] j:[0,len(s2)]\n",
    "        # dp[i][j] = if s1[i]==s3[i+j]:dp[i+1][j] elif s2[j]==s3[i+j]:dp[i][j+1]\n",
    "        # basecase 填充最下面和最右边一行和一列 注意最右下角\n",
    "        lgh1, lgh2, lgh3 = len(s1), len(s2), len(s3)\n",
    "        if lgh1 + lgh2 != lgh3:\n",
    "            return False\n",
    "\n",
    "        @lru_cache(None)\n",
    "        def dp(i, j):\n",
    "            k = i + j\n",
    "            if k == lgh3:\n",
    "                return True  # 构造完毕\n",
    "            tmp = False\n",
    "            if i < lgh1 and s1[i] == s3[i + j]:\n",
    "                tmp |= dp(i + 1, j)\n",
    "            if j < lgh2 and s2[j] == s3[i + j]:\n",
    "                tmp |= dp(i, j + 1)\n",
    "            return tmp\n",
    "\n",
    "        return dp(0, 0)\n"
   ]
  }
 ],
 "metadata": {
  "kernelspec": {
   "display_name": "Python 3.10.6 64-bit",
   "language": "python",
   "name": "python3"
  },
  "language_info": {
   "codemirror_mode": {
    "name": "ipython",
    "version": 3
   },
   "file_extension": ".py",
   "mimetype": "text/x-python",
   "name": "python",
   "nbconvert_exporter": "python",
   "pygments_lexer": "ipython3",
   "version": "3.10.6"
  },
  "orig_nbformat": 4,
  "vscode": {
   "interpreter": {
    "hash": "dfbf064e0f2c8839bc658dd75dfc0b8f09a0440078cae3024109b27659b69d06"
   }
  }
 },
 "nbformat": 4,
 "nbformat_minor": 2
}
