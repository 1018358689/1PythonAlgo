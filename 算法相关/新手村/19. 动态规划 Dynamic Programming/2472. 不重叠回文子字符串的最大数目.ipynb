{
 "cells": [
  {
   "cell_type": "code",
   "execution_count": null,
   "metadata": {},
   "outputs": [],
   "source": [
    "class Solution:\n",
    "    def maxPalindromes(self, s: str, k: int) -> int:\n",
    "        # dp[i] i个字符 不重叠回文字串最大数目\n",
    "        # dp[i] = dp[i-1] # 不用最后一个\n",
    "        # dp[i] = dp[i-x]+1 s[i-x:i]是回文串\n",
    "        # x>=k i-x>=k -> x<=i-k\n",
    "        n = len(s)\n",
    "        dp = [0]*(n+1)\n",
    "        for i in range(k,n+1):\n",
    "            dp[i] = dp[i-1]\n",
    "            for x in range(k,i+1):\n",
    "                # print(s[i-x:i])\n",
    "                if s[i-x:i]==s[i-x:i][::-1]:\n",
    "                    dp[i] = max(dp[i],dp[i-x]+1)\n",
    "                    break\n",
    "        return dp[-1]"
   ]
  },
  {
   "cell_type": "code",
   "execution_count": null,
   "metadata": {},
   "outputs": [],
   "source": [
    "class Solution:\n",
    "    def maxPalindromes(self, s: str, k: int) -> int:\n",
    "        # dp[i] i个字符 不重叠回文字串最大数目\n",
    "        # dp[i] = dp[i-1] # 不用最后一个\n",
    "        # dp[i] = dp[i-x]+1 s[i-x:i]是回文串\n",
    "        # x>=k i-x>=k -> x<=i-k\n",
    "        # f[i][j] s[i...j]是否为会文串\n",
    "        # f[i][j] = s[i]==s[j] and f[i+1][j-1]\n",
    "        # i:[0,n-1] j:[i,n-1]\n",
    "        n = len(s)\n",
    "        f = [[False]*n for _ in range(n)]\n",
    "        for i in range(n-1,-1,-1):\n",
    "            for j in range(i,n):\n",
    "                if s[i]==s[j]:\n",
    "                    f[i][j] = j-i<=1 or f[i+1][j-1]\n",
    "\n",
    "        dp = [0]*(n+1)\n",
    "        for i in range(k,n+1):\n",
    "            dp[i] = dp[i-1]\n",
    "            for x in range(k,i+1):\n",
    "                # print(s[i-x:i],f[i-x][i-1])\n",
    "                if f[i-x][i-1]:\n",
    "                    dp[i] = max(dp[i],dp[i-x]+1)\n",
    "                    break\n",
    "        return dp[-1]"
   ]
  },
  {
   "cell_type": "code",
   "execution_count": null,
   "metadata": {},
   "outputs": [],
   "source": [
    "class Solution:\n",
    "    def maxPalindromes(self, s: str, k: int) -> int:\n",
    "        # dp[i] i个字符 不重叠回文字串最大数目\n",
    "        # dp[i] = dp[i-1] # 不用最后一个\n",
    "        # dp[i] = dp[j]+1 s[j:i]是回文串\n",
    "        # i-j>=k\n",
    "        # f[i][j] s[i...j]是否为会文串\n",
    "        # f[i][j] = s[i]==s[j] and f[i+1][j-1]\n",
    "        # i:[0,n-1] j:[i,n-1]\n",
    "        n = len(s)\n",
    "        f = [[False]*n for _ in range(n)]\n",
    "        for i in range(n-1,-1,-1):\n",
    "            for j in range(i,n):\n",
    "                if s[i]==s[j]:\n",
    "                    f[i][j] = j-i<=1 or f[i+1][j-1]\n",
    "\n",
    "        dp = [0]*(n+1)\n",
    "        for i in range(k,n+1):\n",
    "            dp[i] = dp[i-1]\n",
    "            for j in range(i-k,-1,-1):\n",
    "                if f[j][i-1]:\n",
    "                    dp[i] = max(dp[i],dp[j]+1)\n",
    "                    break\n",
    "        return dp[-1]"
   ]
  }
 ],
 "metadata": {
  "language_info": {
   "name": "python"
  },
  "orig_nbformat": 4
 },
 "nbformat": 4,
 "nbformat_minor": 2
}
