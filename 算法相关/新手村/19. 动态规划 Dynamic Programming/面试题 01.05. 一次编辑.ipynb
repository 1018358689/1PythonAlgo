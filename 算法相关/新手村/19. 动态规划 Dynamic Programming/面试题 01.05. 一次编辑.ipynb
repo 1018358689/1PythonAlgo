{
 "cells": [
  {
   "cell_type": "code",
   "execution_count": 1,
   "metadata": {},
   "outputs": [],
   "source": [
    "# 错误 等厉害了再修正\n",
    "from collections import defaultdict\n",
    "\n",
    "\n",
    "class Solution:\n",
    "\n",
    "    def oneEditAway(self, first: str, second: str) -> bool:\n",
    "        n1, n2 = len(first), len(second)\n",
    "        if n1 == n2:  # 因为只能一次操作 所以只能替换 如果删除必>=2次\n",
    "            return sum(x != y for x, y in zip(first, second)) <= 1\n",
    "        if n1 < n2:\n",
    "            first, second = second, first\n",
    "            n1, n2 = n2, n1\n",
    "        # first 删除或替换操作到 second\n",
    "        # dp[i][j][0/1] f的前i个字符 s的前j个字符 还剩编辑次数 能否编辑\n",
    "        # dp[i][j][0] = dp[i-1][j][1] or dp[i-1][j-1][1] if first[i-1]!=second[j-1] else dp[i-1][j-1][0]\n",
    "        # dp[i][j][1] = dp[i-1][j-1][1] if first[i-1]==second[j-1] else False\n",
    "        # basecase dp[0][j][0/1]=False dp[0][0][1]=True\n",
    "        dp = defaultdict(lambda: defaultdict(lambda: [False] * 2))\n",
    "        dp[0][0][1] = True\n",
    "        for i in range(1, n1 + 1):\n",
    "            for j in range(1,min(i, n2) + 1):\n",
    "                dp[i][j][0] = dp[i - 1][j][1] or dp[i - 1][j - 1][1] if first[i - 1] != second[j - 1] else dp[i - 1][j - 1][0]\n",
    "                dp[i][j][1] = dp[i - 1][j - 1][1] if first[i - 1] == second[j - 1] else False\n",
    "        return dp[n1][n2][0] or dp[n1][n2][1]"
   ]
  },
  {
   "cell_type": "code",
   "execution_count": 5,
   "metadata": {},
   "outputs": [
    {
     "name": "stdout",
     "output_type": "stream",
     "text": [
      "3\n"
     ]
    },
    {
     "data": {
      "text/plain": [
       "False"
      ]
     },
     "execution_count": 5,
     "metadata": {},
     "output_type": "execute_result"
    }
   ],
   "source": [
    "from collections import defaultdict\n",
    "\n",
    "\n",
    "class Solution:\n",
    "\n",
    "    def oneEditAway(self, first: str, second: str) -> bool:\n",
    "        n1, n2 = len(first), len(second)\n",
    "        if n1 == n2:  # 因为只能一次操作 所以只能替换 如果删除必>=2次\n",
    "            return sum(x != y for x, y in zip(first, second)) <= 1\n",
    "\n",
    "        # first 添加或删除或替换操作到 second\n",
    "        # dp[i][j] f的前i个字符 s的前j个字符 的最小编辑次数\n",
    "        # dp[i][j] = dp[i-1][j-1] if first[i-1]==second[j-1] else min(dp[i-1][j]+1,dp[i][j-1]+1,dp[i-1][j-1])\n",
    "        # dp[0][0] = 0 dp[0][j] = j dp[i][0] = i\n",
    "        # dp[i][j] 由上一行 和 同一行左边 返回\n",
    "        dp = defaultdict(lambda: defaultdict(lambda: 0))\n",
    "        for i in range(n1 + 1):\n",
    "            dp[i][0] = i\n",
    "        for j in range(n2 + 1):\n",
    "            dp[0][j] = j\n",
    "        for i in range(1, n1 + 1):\n",
    "            for j in range(1, n2 + 1):\n",
    "                dp[i][j] = dp[i - 1][j - 1] if first[i - 1] == second[j - 1] else min(dp[i - 1][j], dp[i][j - 1], dp[i - 1][j - 1]) + 1\n",
    "        return dp[n1][n2] <= 1\n",
    "\n",
    "\n",
    "s = Solution()\n",
    "s.oneEditAway('mart', 'karma')\n"
   ]
  },
  {
   "cell_type": "code",
   "execution_count": null,
   "metadata": {},
   "outputs": [],
   "source": []
  }
 ],
 "metadata": {
  "kernelspec": {
   "display_name": "Python 3",
   "language": "python",
   "name": "python3"
  },
  "language_info": {
   "codemirror_mode": {
    "name": "ipython",
    "version": 3
   },
   "file_extension": ".py",
   "mimetype": "text/x-python",
   "name": "python",
   "nbconvert_exporter": "python",
   "pygments_lexer": "ipython3",
   "version": "3.10.5 (tags/v3.10.5:f377153, Jun  6 2022, 16:14:13) [MSC v.1929 64 bit (AMD64)]"
  },
  "orig_nbformat": 4,
  "vscode": {
   "interpreter": {
    "hash": "3196968d684371006099b3d55edeef8ed90365227a30deaef86e5d4aa8519be0"
   }
  }
 },
 "nbformat": 4,
 "nbformat_minor": 2
}
