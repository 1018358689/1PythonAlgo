{
 "cells": [
  {
   "cell_type": "code",
   "execution_count": 3,
   "metadata": {},
   "outputs": [
    {
     "data": {
      "text/plain": [
       "'0b111'"
      ]
     },
     "execution_count": 3,
     "metadata": {},
     "output_type": "execute_result"
    }
   ],
   "source": [
    "bin((1<<3)-1)"
   ]
  },
  {
   "cell_type": "code",
   "execution_count": 25,
   "metadata": {},
   "outputs": [
    {
     "data": {
      "text/plain": [
       "0"
      ]
     },
     "execution_count": 25,
     "metadata": {},
     "output_type": "execute_result"
    }
   ],
   "source": [
    "import itertools\n",
    "from collections import deque\n",
    "from typing import List\n",
    "\n",
    "\n",
    "class Solution:\n",
    "    def orangesRotting(self, grid: List[List[int]]) -> int:\n",
    "        rows, cols = len(grid), len(grid[0])\n",
    "        target = (1 << (rows * cols)) - 1  # 最终状态\n",
    "        q = deque([])\n",
    "        state = 0\n",
    "        for r, c in itertools.product(range(rows), range(cols)):\n",
    "            if grid[r][c] != 1:  # 添加已经腐烂或空格\n",
    "                state |= (1 << (r * cols + c))\n",
    "                if grid[r][c] == 2:  # 腐烂的入队进行bfs\n",
    "                    q.append((r, c, 0))  # 位置和step\n",
    "        if state == target:  #不需要bfs直接退出\n",
    "            return 0\n",
    "        # 进入bfs\n",
    "        while q:\n",
    "            r, c, step = q.popleft()\n",
    "            for nr, nc in ((r + 1, c), (r - 1, c), (r, c + 1), (r, c - 1)):\n",
    "                # 外扩条件是是新鲜橘子且没有标记腐烂\n",
    "                if 0 <= nr < rows and 0 <= nc < cols and grid[nr][nc] == 1 and not state >> (nr * cols + nc) & 1:\n",
    "                    q.append((nr, nc, step + 1))\n",
    "                    state |= (1 << (nr * cols + nc))\n",
    "                    # 找到目标状态\n",
    "                    if state == target:  # 不能放外面 外面会在前一层触发state==target\n",
    "                        return step + 1\n",
    "        return -1\n",
    "\n",
    "\n",
    "s = Solution()\n",
    "s.orangesRotting([[0]])\n",
    "# s.orangesRotting([[2, 1, 1], [1, 1, 1], [0, 1, 2]])\n"
   ]
  },
  {
   "cell_type": "code",
   "execution_count": 30,
   "metadata": {},
   "outputs": [
    {
     "data": {
      "text/plain": [
       "2"
      ]
     },
     "execution_count": 30,
     "metadata": {},
     "output_type": "execute_result"
    }
   ],
   "source": [
    "import itertools\n",
    "from collections import deque\n",
    "from typing import List\n",
    "\n",
    "\n",
    "class Solution:\n",
    "    def orangesRotting(self, grid: List[List[int]]) -> int:\n",
    "        rows, cols = len(grid), len(grid[0])\n",
    "        target = (1 << (rows * cols)) - 1  # 最终状态\n",
    "        q = deque([])\n",
    "        state = 0\n",
    "        for r, c in itertools.product(range(rows), range(cols)):\n",
    "            if grid[r][c] != 1:  # 添加已经腐烂或空格\n",
    "                state |= (1 << (r * cols + c))\n",
    "                if grid[r][c] == 2:  # 腐烂的入队进行bfs\n",
    "                    q.append((r, c, 0))  # 位置和step\n",
    "        if state == target:  #不需要bfs直接退出\n",
    "            return 0\n",
    "        # 进入bfs\n",
    "        while q:\n",
    "            r, c, step = q.popleft()\n",
    "            for nr, nc in ((r + 1, c), (r - 1, c), (r, c + 1), (r, c - 1)):\n",
    "                # 外扩条件是是新鲜橘子且没有标记腐烂\n",
    "                if 0 <= nr < rows and 0 <= nc < cols and grid[nr][nc] == 1 and not state >> (nr * cols + nc) & 1:\n",
    "                    q.append((nr, nc, step + 1))\n",
    "                    state |= (1 << (nr * cols + nc))\n",
    "        return step if state == target else -1\n",
    "\n",
    "\n",
    "s = Solution()\n",
    "s.orangesRotting([[0]])\n",
    "s.orangesRotting([[2, 1, 1], [1, 1, 1], [0, 1, 2]])\n"
   ]
  },
  {
   "cell_type": "code",
   "execution_count": null,
   "metadata": {},
   "outputs": [],
   "source": []
  }
 ],
 "metadata": {
  "kernelspec": {
   "display_name": "Python 3.8.10 64-bit",
   "language": "python",
   "name": "python3"
  },
  "language_info": {
   "codemirror_mode": {
    "name": "ipython",
    "version": 3
   },
   "file_extension": ".py",
   "mimetype": "text/x-python",
   "name": "python",
   "nbconvert_exporter": "python",
   "pygments_lexer": "ipython3",
   "version": "3.8.10"
  },
  "orig_nbformat": 4,
  "vscode": {
   "interpreter": {
    "hash": "570feb405e2e27c949193ac68f46852414290d515b0ba6e5d90d076ed2284471"
   }
  }
 },
 "nbformat": 4,
 "nbformat_minor": 2
}
