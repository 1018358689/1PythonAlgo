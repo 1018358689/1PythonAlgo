{
 "cells": [
  {
   "cell_type": "code",
   "execution_count": 1,
   "metadata": {},
   "outputs": [
    {
     "data": {
      "text/plain": [
       "4"
      ]
     },
     "execution_count": 1,
     "metadata": {},
     "output_type": "execute_result"
    }
   ],
   "source": [
    "from typing import List\n",
    "import heapq\n",
    "\n",
    "\n",
    "class Solution:\n",
    "\n",
    "    def trapRainWater(self, heightMap: List[List[int]]) -> int:\n",
    "        pq = []\n",
    "        vis = set()\n",
    "        rows, cols = len(heightMap), len(heightMap[0])\n",
    "        for r in range(rows):\n",
    "            for c in {0, cols - 1}:\n",
    "                heapq.heappush(pq, (heightMap[r][c], r, c))\n",
    "                vis.add((r, c))\n",
    "        for c in range(1, cols - 1):\n",
    "            for r in {0, rows - 1}:\n",
    "                heapq.heappush(pq, (heightMap[r][c], r, c))\n",
    "                vis.add((r, c))\n",
    "        ans = 0\n",
    "        while pq:\n",
    "            h, r, c = heapq.heappop(pq)\n",
    "            for nr, nc in ((r - 1, c), (r + 1, c), (r, c - 1), (r, c + 1)):\n",
    "                if 0 <= nr < rows and 0 <= nc < cols and (nr, nc) not in vis:\n",
    "                    vis.add((nr, nc))\n",
    "                    ans += max(0, h - heightMap[nr][nc])\n",
    "                    heapq.heappush(pq, (max(h, heightMap[nr][nc]), nr, nc))\n",
    "        return ans\n",
    "\n",
    "\n",
    "s = Solution()\n",
    "s.trapRainWater([[1, 4, 3, 1, 3, 2], [3, 2, 1, 3, 2, 4], [2, 3, 3, 2, 3, 1]])\n"
   ]
  },
  {
   "cell_type": "code",
   "execution_count": null,
   "metadata": {},
   "outputs": [],
   "source": []
  }
 ],
 "metadata": {
  "interpreter": {
   "hash": "97367d2de1780ea7c502b529f25888c1b53c0430a7611816b6c7cf19d8435228"
  },
  "kernelspec": {
   "display_name": "Python 3.10.4 64-bit (windows store)",
   "language": "python",
   "name": "python3"
  },
  "language_info": {
   "codemirror_mode": {
    "name": "ipython",
    "version": 3
   },
   "file_extension": ".py",
   "mimetype": "text/x-python",
   "name": "python",
   "nbconvert_exporter": "python",
   "pygments_lexer": "ipython3",
   "version": "3.10.4"
  },
  "orig_nbformat": 4
 },
 "nbformat": 4,
 "nbformat_minor": 2
}
