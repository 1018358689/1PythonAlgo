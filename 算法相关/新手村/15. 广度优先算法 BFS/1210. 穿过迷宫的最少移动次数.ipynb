{
 "cells": [
  {
   "cell_type": "code",
   "execution_count": null,
   "metadata": {},
   "outputs": [],
   "source": [
    "from collections import deque\n",
    "from typing import List\n",
    "\n",
    "\n",
    "class Solution:\n",
    "\n",
    "    def minimumMoves(self, grid: List[List[int]]) -> int:\n",
    "        rows, cols = len(grid), len(grid[0])\n",
    "        if grid[rows - 1][cols - 2] or grid[rows - 1][cols - 1]:\n",
    "            return -1\n",
    "\n",
    "        def neis(r1, c1, r2, c2):\n",
    "            if r1 == r2:  # 横\n",
    "                if c2 + 1 < cols and grid[r2][c2 + 1] == 0:  # 右\n",
    "                    yield (r1, c1 + 1, r2, c2 + 1)\n",
    "                if r2 + 1 < rows and grid[r1 + 1][c1] == 0 and grid[r2 + 1][c2] == 0:  # 下 顺\n",
    "                    yield (r1 + 1, c1, r2 + 1, c2)\n",
    "                    yield (r1, c1, r1 + 1, c1)\n",
    "            elif c1 == c2:  # 竖\n",
    "                if c2 + 1 < cols and grid[r1][c1 + 1] == 0 and grid[r2][c2 + 1] == 0:  # 右 逆\n",
    "                    yield (r1, c1 + 1, r2, c2 + 1)\n",
    "                    yield (r1, c1, r1, c1 + 1)\n",
    "                if r2 + 1 < rows and grid[r2 + 1][c2] == 0:  # 下\n",
    "                    yield (r1 + 1, c1, r2 + 1, c2)\n",
    "\n",
    "        q = deque([(0, 0, 0, 1, 0)])\n",
    "        vis = {(0, 0, 0, 1)}\n",
    "        while q:\n",
    "            r1, c1, r2, c2, step = q.popleft()\n",
    "            for nr1, nc1, nr2, nc2 in neis(r1, c1, r2, c2):\n",
    "                if (nr1, nc1, nr2, nc2) == (rows - 1, cols - 2, rows - 1, cols - 1):\n",
    "                    return step + 1\n",
    "                if (nr1, nc1, nr2, nc2) not in vis:\n",
    "                    vis.add((nr1, nc1, nr2, nc2))\n",
    "                    q.append((nr1, nc1, nr2, nc2, step + 1))\n",
    "        return -1"
   ]
  }
 ],
 "metadata": {
  "language_info": {
   "name": "python"
  },
  "orig_nbformat": 4
 },
 "nbformat": 4,
 "nbformat_minor": 2
}
