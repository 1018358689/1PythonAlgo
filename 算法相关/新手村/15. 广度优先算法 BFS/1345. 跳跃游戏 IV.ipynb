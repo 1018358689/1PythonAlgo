{
 "cells": [
  {
   "cell_type": "code",
   "execution_count": null,
   "metadata": {},
   "outputs": [],
   "source": [
    "from collections import defaultdict, deque\n",
    "from typing import List\n",
    "\n",
    "\n",
    "class Solution:\n",
    "    def minJumps(self, arr: List[int]) -> int:\n",
    "        n = len(arr)\n",
    "        target = n - 1\n",
    "        adj = defaultdict(list)\n",
    "        for i,c in enumerate(arr):\n",
    "            adj[c].append(i)\n",
    "        q = deque([(0,0)])\n",
    "        vis = {0}\n",
    "        while q:\n",
    "            x,step = q.popleft()\n",
    "            if x==target:\n",
    "                return step\n",
    "            for y in adj[arr[x]]:\n",
    "                if y not in vis:\n",
    "                    vis.add(y)\n",
    "                    q.append((y,step+1))\n",
    "            adj.pop(arr[x]) # 防止进入稠密图\n",
    "            for y in (x-1,x+1):\n",
    "                if 0<=y<n and y not in vis:\n",
    "                    vis.add(y)\n",
    "                    q.append((y,step+1))\n",
    "        \n"
   ]
  }
 ],
 "metadata": {
  "language_info": {
   "name": "python"
  },
  "orig_nbformat": 4
 },
 "nbformat": 4,
 "nbformat_minor": 2
}
