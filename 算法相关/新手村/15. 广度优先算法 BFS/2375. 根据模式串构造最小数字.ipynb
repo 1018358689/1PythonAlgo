{
 "cells": [
  {
   "cell_type": "code",
   "execution_count": null,
   "metadata": {},
   "outputs": [],
   "source": [
    "class Solution:\n",
    "\n",
    "    def smallestNumber(self, pattern: str) -> str:\n",
    "        # 拓扑排序\n",
    "        n = len(pattern)\n",
    "        ans = [0] * (n + 1)\n",
    "        adj = [[] for _ in range(n + 1)]\n",
    "        ins = [0] * (n + 1)\n",
    "        for i, x in enumerate(pattern):\n",
    "            if x == 'I':\n",
    "                adj[i].append(i + 1)\n",
    "                ins[i + 1] += 1\n",
    "            else:\n",
    "                adj[i + 1].append(i)\n",
    "                ins[i] += 1\n",
    "        pq = [i for i, x in enumerate(ins) if x == 0]\n",
    "        heapify(pq)\n",
    "        num = 1\n",
    "        while pq:\n",
    "            x = heappop(pq)\n",
    "            ans[x] = str(num)\n",
    "            num += 1\n",
    "            for y in adj[x]:\n",
    "                ins[y] -= 1\n",
    "                if ins[y] == 0:\n",
    "                    heappush(pq, y)\n",
    "        return ''.join(ans)"
   ]
  }
 ],
 "metadata": {
  "language_info": {
   "name": "python"
  },
  "orig_nbformat": 4
 },
 "nbformat": 4,
 "nbformat_minor": 2
}
