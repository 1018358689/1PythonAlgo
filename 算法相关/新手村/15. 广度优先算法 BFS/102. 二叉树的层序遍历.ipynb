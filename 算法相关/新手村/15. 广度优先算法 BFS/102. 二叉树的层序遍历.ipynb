{
 "cells": [
  {
   "cell_type": "code",
   "execution_count": null,
   "metadata": {},
   "outputs": [],
   "source": [
    "import collections\n",
    "\n",
    "\n",
    "# Definition for a binary tree node.\n",
    "class TreeNode:\n",
    "\n",
    "    def __init__(self, val=0, left=None, right=None):\n",
    "        self.val = val\n",
    "        self.left = left\n",
    "        self.right = right\n",
    "\n",
    "\n",
    "class Solution:\n",
    "\n",
    "    def levelOrder(self, root: TreeNode):\n",
    "        if not root:\n",
    "            return []\n",
    "        q = collections.deque([root])\n",
    "        res = []\n",
    "        while q:\n",
    "            localRes = []\n",
    "            for _ in range(len(q)):\n",
    "                node = q.popleft()\n",
    "                localRes.append(node.val)\n",
    "                if node.left: q.append(node.left)\n",
    "                if node.right: q.append(node.right)\n",
    "            res.append(localRes)\n",
    "        return res"
   ]
  },
  {
   "cell_type": "code",
   "execution_count": null,
   "metadata": {},
   "outputs": [],
   "source": [
    "# Definition for a binary tree node.\n",
    "class TreeNode:\n",
    "\n",
    "    def __init__(self, val=0, left=None, right=None):\n",
    "        self.val = val\n",
    "        self.left = left\n",
    "        self.right = right\n",
    "\n",
    "\n",
    "class Solution:\n",
    "\n",
    "    def levelOrder(self, root: TreeNode):\n",
    "        if not root: return []\n",
    "        res = []\n",
    "        deepth = 0\n",
    "\n",
    "        def dfs(root, deepth):\n",
    "            if root == None:\n",
    "                return\n",
    "            if len(res) == deepth:\n",
    "                res.append([])\n",
    "            res[deepth].append(root.val)\n",
    "            dfs(root.left, deepth + 1)\n",
    "            dfs(root.right, deepth + 1)\n",
    "\n",
    "        dfs(root, deepth)\n",
    "        return res\n"
   ]
  }
 ],
 "metadata": {
  "kernelspec": {
   "display_name": "Python 3.10.5 64-bit",
   "language": "python",
   "name": "python3"
  },
  "language_info": {
   "name": "python",
   "version": "3.10.5"
  },
  "orig_nbformat": 4,
  "vscode": {
   "interpreter": {
    "hash": "3196968d684371006099b3d55edeef8ed90365227a30deaef86e5d4aa8519be0"
   }
  }
 },
 "nbformat": 4,
 "nbformat_minor": 2
}
