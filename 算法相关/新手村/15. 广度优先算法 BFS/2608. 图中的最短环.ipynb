{
 "cells": [
  {
   "cell_type": "code",
   "execution_count": null,
   "metadata": {},
   "outputs": [],
   "source": [
    "from collections import deque\n",
    "from math import inf\n",
    "from typing import List\n",
    "\n",
    "\n",
    "class Solution:\n",
    "\n",
    "    def findShortestCycle(self, n: int, edges: List[List[int]]) -> int:\n",
    "        adj = [[] for _ in range(n)]\n",
    "        for x, y in edges:\n",
    "            adj[x].append(y)\n",
    "            adj[y].append(x)\n",
    "\n",
    "        def bfs(start):\n",
    "            dis = [-1] * n  # start到各点的距离\n",
    "            dis[start] = 0\n",
    "            q = deque([(start, -1)])\n",
    "            while q:\n",
    "                x, fa = q.popleft()\n",
    "                for y in adj[x]:\n",
    "                    if y != fa:\n",
    "                        if dis[y] != -1:\n",
    "                            return dis[x] + dis[y] + 1\n",
    "                        dis[y] = dis[x] + 1\n",
    "                        q.append((y, x))\n",
    "            return inf\n",
    "\n",
    "        ans = inf\n",
    "        for i in range(n):\n",
    "            if (cur := bfs(i)) < ans:\n",
    "                ans = cur\n",
    "        return ans if ans != inf else -1\n",
    "    \n",
    "        # return ans if (ans := min(bfs(i) for i in range(n))) != inf else -1\n"
   ]
  }
 ],
 "metadata": {
  "language_info": {
   "name": "python"
  },
  "orig_nbformat": 4
 },
 "nbformat": 4,
 "nbformat_minor": 2
}
