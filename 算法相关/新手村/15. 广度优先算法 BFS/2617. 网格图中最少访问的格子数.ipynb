{
 "cells": [
  {
   "cell_type": "code",
   "execution_count": null,
   "metadata": {},
   "outputs": [],
   "source": [
    "from collections import deque\n",
    "from typing import List\n",
    "\n",
    "\n",
    "class Solution:\n",
    "\n",
    "    def minimumVisitedCells(self, grid: List[List[int]]) -> int:\n",
    "        rows, cols = len(grid), len(grid[0])\n",
    "        if rows == cols == 1:\n",
    "            return 1\n",
    "        q = deque([(0, 0, 1)])\n",
    "        vis = {(0, 0)}\n",
    "        while q:\n",
    "            r, c, step = q.popleft()\n",
    "            for nc in range(c + 1, min(cols, grid[r][c] + c + 1)):\n",
    "                if (r, nc) not in vis:\n",
    "                    if (r, nc) == (rows - 1, cols - 1):\n",
    "                        return step + 1\n",
    "                    vis.add((r, nc))\n",
    "                    q.append((r, nc, step + 1))\n",
    "            for nr in range(r + 1, min(rows, grid[r][c] + r + 1)):\n",
    "                if (nr, c) not in vis:\n",
    "                    if (nr, c) == (rows - 1, cols - 1):\n",
    "                        return step + 1\n",
    "                    vis.add((nr, c))\n",
    "                    q.append((nr, c, step + 1))\n",
    "        return -1"
   ]
  },
  {
   "cell_type": "code",
   "execution_count": 5,
   "metadata": {},
   "outputs": [
    {
     "data": {
      "text/plain": [
       "4"
      ]
     },
     "execution_count": 5,
     "metadata": {},
     "output_type": "execute_result"
    }
   ],
   "source": [
    "from collections import deque\n",
    "from typing import List\n",
    "\n",
    "\n",
    "class Solution:\n",
    "\n",
    "    def minimumVisitedCells(self, grid: List[List[int]]) -> int:\n",
    "        rows, cols = len(grid), len(grid[0])\n",
    "        q = deque([(0, 0, 1)])\n",
    "        vis = {(0, 0)}\n",
    "        while q:\n",
    "            r, c, step = q.popleft()\n",
    "            if (r, c) == (rows - 1, cols - 1):  # 超时（稠密图）\n",
    "                return step\n",
    "            for nc in range(c + 1, min(cols, grid[r][c] + c + 1)):\n",
    "                if (r, nc) not in vis:\n",
    "                    vis.add((r, nc))\n",
    "                    q.append((r, nc, step + 1))\n",
    "            for nr in range(r + 1, min(rows, grid[r][c] + r + 1)):\n",
    "                if (nr, c) not in vis:\n",
    "                    vis.add((nr, c))\n",
    "                    q.append((nr, c, step + 1))\n",
    "            # print(r, c, q)\n",
    "        return -1\n",
    "\n",
    "\n",
    "s = Solution()\n",
    "s.minimumVisitedCells([[3, 4, 2, 1], [4, 2, 3, 1], [2, 1, 0, 0], [2, 4, 0, 0]])\n"
   ]
  },
  {
   "cell_type": "code",
   "execution_count": null,
   "metadata": {},
   "outputs": [],
   "source": [
    "class UF:\n",
    "\n",
    "    def __init__(self, n):\n",
    "        self.n = n\n",
    "        self.roots = list(range(n))\n",
    "\n",
    "    def find(self, x):\n",
    "        if self.roots[x] != x:\n",
    "            self.roots[x] = self.find(self.roots[x])\n",
    "        return self.roots[x]\n",
    "\n",
    "    def union(self, x, y):\n",
    "        rx, ry = self.find(x), self.find(y)\n",
    "        if rx != ry:\n",
    "            self.roots[rx] = ry  # rx -> ry\n",
    "\n",
    "\n",
    "class Solution:\n",
    "\n",
    "    def minimumVisitedCells(self, grid: List[List[int]]) -> int:\n",
    "        rows, cols = len(grid), len(grid[0])\n",
    "        noban1 = [UF(cols + 1) for _ in range(rows)]  # 每一行\n",
    "        noban2 = [UF(rows + 1) for _ in range(cols)]  # 每一列\n",
    "        noban1[0].union(0, 1)  # 表示已访问\n",
    "        noban2[0].union(0, 1)\n",
    "        q = deque([(0, 0, 1)])\n",
    "        while q:\n",
    "            r, c, step = q.popleft()\n",
    "            if (r, c) == (rows - 1, cols - 1):\n",
    "                return step\n",
    "            mn, mx = min(cols - 1, c + 1), min(cols - 1, grid[r][c] + c)\n",
    "            uf = noban1[r]\n",
    "            j = uf.find(mn)\n",
    "            while j <= mx:\n",
    "                q.append((r, j, step + 1))\n",
    "                uf.union(j, j + 1)\n",
    "                noban2[j].union(r, r + 1)\n",
    "                j = uf.find(j + 1)\n",
    "\n",
    "            mn, mx = min(rows - 1, r + 1), min(rows - 1, grid[r][c] + r)\n",
    "            uf = noban2[c]\n",
    "            j = uf.find(mn)\n",
    "            while j <= mx:\n",
    "                q.append((j, c, step + 1))\n",
    "                uf.union(j, j + 1)\n",
    "                noban1[j].union(c, c + 1)\n",
    "                j = uf.find(j + 1)\n",
    "\n",
    "        return -1"
   ]
  }
 ],
 "metadata": {
  "kernelspec": {
   "display_name": "Python 3",
   "language": "python",
   "name": "python3"
  },
  "language_info": {
   "codemirror_mode": {
    "name": "ipython",
    "version": 3
   },
   "file_extension": ".py",
   "mimetype": "text/x-python",
   "name": "python",
   "nbconvert_exporter": "python",
   "pygments_lexer": "ipython3",
   "version": "3.10.5"
  },
  "orig_nbformat": 4
 },
 "nbformat": 4,
 "nbformat_minor": 2
}
