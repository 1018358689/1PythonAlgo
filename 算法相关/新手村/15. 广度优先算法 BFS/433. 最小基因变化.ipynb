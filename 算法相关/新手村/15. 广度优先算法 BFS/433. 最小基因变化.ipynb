{
 "cells": [
  {
   "cell_type": "code",
   "execution_count": null,
   "metadata": {},
   "outputs": [],
   "source": [
    "class Solution:\n",
    "\n",
    "    def minMutation(self, startGene: str, endGene: str, bank: List[str]) -> int:\n",
    "        ha = {x: i for i, x in enumerate('ACGT')}\n",
    "\n",
    "        def encode(s):  # 编码\n",
    "            return sum(ha[x] << (2 * i) for i, x in enumerate(s))\n",
    "\n",
    "        def get_code(code, idx):  # 第idx字母的编码 3:11\n",
    "            return code >> (2 * idx) & 3\n",
    "\n",
    "        def change(code, idx, val):  # 第idx字母改成 编码val\n",
    "            return code & sum(1 << i for i in range(16) if i != 2 * idx and i != 2 * idx + 1) | val\n",
    "\n",
    "        startGene = encode(startGene)\n",
    "        endGene = encode(endGene)\n",
    "        bank = {encode(x) for x in bank}\n",
    "        if endGene not in bank: return -1\n",
    "        q = deque([(startGene, 0)])\n",
    "        while q:\n",
    "            x, step = q.popleft()\n",
    "            if x == endGene:\n",
    "                return step\n",
    "            for i in range(8):  # 要改哪位字母\n",
    "                cur = get_code(x, i)\n",
    "                for j in range(4):  # 要改成的字母\n",
    "                    if cur == j: continue\n",
    "                    y = change(x, i, j << (2 * i))\n",
    "                    if y in bank:\n",
    "                        q.append((y, step + 1))\n",
    "                        bank.remove(y)\n",
    "        return -1"
   ]
  },
  {
   "cell_type": "code",
   "execution_count": null,
   "metadata": {},
   "outputs": [],
   "source": [
    "class Solution:\n",
    "    def minMutation(self, startGene: str, endGene: str, bank: List[str]) -> int:\n",
    "        bank = set(bank)\n",
    "        if endGene not in bank: return -1\n",
    "        diff = lambda x, y: sum(i != j for i, j in zip(x, y))\n",
    "        adj = defaultdict(list)\n",
    "        bank.add(startGene)\n",
    "        for x, y in combinations(bank, 2):\n",
    "            if diff(x, y) == 1:\n",
    "                adj[x].append(y)\n",
    "                adj[y].append(x)\n",
    "        q = deque([(startGene, 0)])\n",
    "        vis = {startGene}\n",
    "        while q:\n",
    "            x, step = q.popleft()\n",
    "            if x == endGene: return step\n",
    "            for y in adj[x]:\n",
    "                if y in vis: continue\n",
    "                vis.add(y)\n",
    "                q.append((y, step + 1))\n",
    "        return -1"
   ]
  },
  {
   "cell_type": "code",
   "execution_count": null,
   "metadata": {},
   "outputs": [],
   "source": [
    "class Solution:\n",
    "\n",
    "    def minMutation(self, start: str, end: str, bank: List[str]) -> int:\n",
    "\n",
    "        def h(cur, end):  # 启发函数小于实际值\n",
    "            ans = 0\n",
    "            for x, y in zip(cur, end):\n",
    "                if x != y:\n",
    "                    ans += 1\n",
    "            return ans\n",
    "\n",
    "        sz = len(start)\n",
    "        gene = {'A', 'C', 'G', 'T'}\n",
    "        bank = set(bank)\n",
    "        pq = [(0 + h(start, end), 0, start)]\n",
    "        costs = {start: 0}\n",
    "        best = set()\n",
    "        while pq:\n",
    "            _, step, cur = heapq.heappop(pq)\n",
    "            if cur == end:\n",
    "                return step\n",
    "            best.add(cur)\n",
    "            for i in range(sz):\n",
    "                for g in gene - {cur[i]}:\n",
    "                    nei = cur[:i] + g + cur[i + 1:]\n",
    "                    if nei not in best and nei in bank:\n",
    "                        if nei not in costs or step + 1 < costs[nei]:\n",
    "                            costs[nei] = step + 1\n",
    "                            priority = step + 1 + h(nei, end)\n",
    "                            heapq.heappush(pq, (priority, step + 1, nei))\n",
    "        return -1"
   ]
  },
  {
   "cell_type": "code",
   "execution_count": 8,
   "metadata": {},
   "outputs": [
    {
     "data": {
      "text/plain": [
       "(None, defaultdict(list, {1: [2]}))"
      ]
     },
     "execution_count": 8,
     "metadata": {},
     "output_type": "execute_result"
    }
   ],
   "source": [
    "class Solution:\n",
    "\n",
    "    def minMutation(self, startGene: str, endGene: str, bank: List[str]) -> int:\n",
    "        bank = set(bank)\n",
    "        if endGene not in bank: return -1\n",
    "        if startGene == endGene: return 0\n",
    "        adj = defaultdict(list)\n",
    "        bank.add(startGene)\n",
    "        for x in bank:\n",
    "            for i in range(8):\n",
    "                adj[x[:i] + '*' + x[i + 1:]].append(x)\n",
    "        q = deque([(startGene, 0)])\n",
    "        vis = {startGene}\n",
    "        while q:\n",
    "            x, step = q.popleft()\n",
    "            for i in range(8):\n",
    "                w = x[:i] + '*' + x[i + 1:]\n",
    "                for y in adj[w]:\n",
    "                    if y in vis: continue\n",
    "                    if y == endGene: return step + 1\n",
    "                    vis.add(y)\n",
    "                    q.append((y, step + 1))\n",
    "        return -1"
   ]
  },
  {
   "cell_type": "code",
   "execution_count": null,
   "metadata": {},
   "outputs": [],
   "source": []
  }
 ],
 "metadata": {
  "kernelspec": {
   "display_name": "Python 3.10.6 64-bit",
   "language": "python",
   "name": "python3"
  },
  "language_info": {
   "codemirror_mode": {
    "name": "ipython",
    "version": 3
   },
   "file_extension": ".py",
   "mimetype": "text/x-python",
   "name": "python",
   "nbconvert_exporter": "python",
   "pygments_lexer": "ipython3",
   "version": "3.10.5"
  },
  "orig_nbformat": 4,
  "vscode": {
   "interpreter": {
    "hash": "dfbf064e0f2c8839bc658dd75dfc0b8f09a0440078cae3024109b27659b69d06"
   }
  }
 },
 "nbformat": 4,
 "nbformat_minor": 2
}
