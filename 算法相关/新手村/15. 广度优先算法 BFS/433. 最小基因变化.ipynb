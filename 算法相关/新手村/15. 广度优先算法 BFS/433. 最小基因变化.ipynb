{
 "cells": [
  {
   "cell_type": "code",
   "execution_count": 9,
   "metadata": {},
   "outputs": [
    {
     "data": {
      "text/plain": [
       "-1"
      ]
     },
     "execution_count": 9,
     "metadata": {},
     "output_type": "execute_result"
    }
   ],
   "source": [
    "from collections import deque\n",
    "\n",
    "\n",
    "def f(start: str, end: str, bank: list):\n",
    "    sz = len(start)\n",
    "    gene = {'A', 'C', 'G', 'T'}\n",
    "    q = deque([start])\n",
    "    vis = {start}\n",
    "    bank = set(bank)\n",
    "    step = 0\n",
    "    while q:\n",
    "        for _ in range(len(q)):\n",
    "            cur = q.popleft()\n",
    "            if cur == end:\n",
    "                return step\n",
    "            for i in range(sz):\n",
    "                for g in gene - {cur[i]}:\n",
    "                    nei = cur[:i] + g + cur[i + 1:]\n",
    "                    if nei not in vis and nei in bank:\n",
    "                        q.append(nei)\n",
    "                        vis.add(nei)\n",
    "        step += 1\n",
    "    return -1\n",
    "\n",
    "\n",
    "f('AACCGGTT', 'AAACGGTA', [\"AACCGGTA\", \"AACCGCTA\", \"AAACGGTA\"])\n",
    "f('AACCGGTT', 'AACCGGTC', [\"AACCGGTA\"])\n"
   ]
  },
  {
   "cell_type": "code",
   "execution_count": 21,
   "metadata": {},
   "outputs": [
    {
     "data": {
      "text/plain": [
       "-1"
      ]
     },
     "execution_count": 21,
     "metadata": {},
     "output_type": "execute_result"
    }
   ],
   "source": [
    "from collections import deque\n",
    "\n",
    "\n",
    "def f(start: str, end: str, bank: list):\n",
    "    sz = len(start)\n",
    "    gene = {'A', 'C', 'G', 'T'}\n",
    "    q = deque([(start, 0)])\n",
    "    vis = {start}\n",
    "    bank = set(bank)\n",
    "    while q:\n",
    "        cur, step = q.popleft()\n",
    "        if cur == end:\n",
    "            return step\n",
    "        for i in range(sz):\n",
    "            for g in gene - {cur[i]}:\n",
    "                nei = cur[:i] + g + cur[i + 1:]\n",
    "                if nei not in vis and nei in bank:\n",
    "                    q.append((nei, step + 1))\n",
    "                    vis.add(nei)\n",
    "    return -1\n",
    "\n",
    "\n",
    "f('AACCGGTT', 'AAACGGTA', [\"AACCGGTA\", \"AACCGCTA\", \"AAACGGTA\"])\n",
    "f('AACCGGTT', 'AACCGGTC', [\"AACCGGTA\"])\n"
   ]
  },
  {
   "cell_type": "code",
   "execution_count": 12,
   "metadata": {},
   "outputs": [
    {
     "data": {
      "text/plain": [
       "0"
      ]
     },
     "execution_count": 12,
     "metadata": {},
     "output_type": "execute_result"
    }
   ],
   "source": [
    "from collections import deque\n",
    "\n",
    "\n",
    "def f(start: str, end: str, bank: list):\n",
    "    sz = len(start)\n",
    "    gene = {'A', 'C', 'G', 'T'}\n",
    "    q = deque([(start, 0)])\n",
    "    bank = set(bank)\n",
    "    while q:\n",
    "        cur, step = q.popleft()\n",
    "        if cur == end:\n",
    "            return step\n",
    "        for i in range(sz):\n",
    "            for g in gene - {cur[i]}:\n",
    "                nei = cur[:i] + g + cur[i + 1:]\n",
    "                if nei in bank:\n",
    "                    q.append((nei, step + 1))\n",
    "                    bank.remove(nei)\n",
    "    return -1\n",
    "\n",
    "\n",
    "f('AACCGGTT', 'AAACGGTA', [\"AACCGGTA\", \"AACCGCTA\", \"AAACGGTA\"])\n",
    "f('AACCGGTT', 'AACCGGTT', [\"AACCGGTA\"])\n"
   ]
  },
  {
   "cell_type": "code",
   "execution_count": null,
   "metadata": {},
   "outputs": [],
   "source": [
    "# 位运算还需完善\n",
    "def encode(str):\n",
    "    x = 0\n",
    "    for i, g in enumerate('AACCGGTT'):\n",
    "        x |= (1 << 4 * i + gene[g])\n",
    "    return x\n",
    "\n",
    "\n",
    "def getGene(g, index): # 第index基因所属\n",
    "    for i in range(4):\n",
    "        if g >> (i + 4 * index) & 1 == 1:\n",
    "            return i\n",
    "\n",
    "def change(g):\n",
    "    for i in range(8):\n",
    "        genneIndex = getGene(g,i)+4*i\n",
    "        "
   ]
  },
  {
   "cell_type": "code",
   "execution_count": 11,
   "metadata": {},
   "outputs": [
    {
     "name": "stdout",
     "output_type": "stream",
     "text": [
      "0b10001000010001000010001000010001\n",
      "0\n"
     ]
    }
   ],
   "source": [
    "# x = (1<<32)-1\n",
    "x=0\n",
    "gene = {'A':0, 'C':1, 'G':2, 'T':3}\n",
    "# x.bit_count()\n",
    "for i,g in enumerate('AACCGGTT'):\n",
    "    x|=(1<<4*i+gene[g])\n",
    "print(bin(x))\n",
    "for i in range(4):\n",
    "    if x>>(i+4*1)&1==1:\n",
    "        print(i)\n",
    "        break\n",
    "\n",
    "# bin(sum(gene[c] << (2 * i) for i, c in enumerate('AACCGGTT')))"
   ]
  },
  {
   "cell_type": "code",
   "execution_count": 12,
   "metadata": {},
   "outputs": [
    {
     "data": {
      "text/plain": [
       "'0b10001000010001000010001000010000'"
      ]
     },
     "execution_count": 12,
     "metadata": {},
     "output_type": "execute_result"
    }
   ],
   "source": [
    "bin(x&~1)"
   ]
  },
  {
   "cell_type": "code",
   "execution_count": 13,
   "metadata": {},
   "outputs": [
    {
     "data": {
      "text/plain": [
       "-1"
      ]
     },
     "execution_count": 13,
     "metadata": {},
     "output_type": "execute_result"
    }
   ],
   "source": [
    "# A*\n",
    "import heapq\n",
    "\n",
    "\n",
    "def f(start: str, end: str, bank: list):\n",
    "\n",
    "    def h(cur, end):  # 启发函数越接近理论最小值越好 小于实际值\n",
    "        ans = 0\n",
    "        for x, y in zip(cur, end):\n",
    "            if x != y:\n",
    "                ans += 1\n",
    "        return ans\n",
    "\n",
    "    sz = len(start)\n",
    "    gene = {'A', 'C', 'G', 'T'}\n",
    "    bank = set(bank)\n",
    "    pq = [(0 + h(start, end), 0, start)]\n",
    "    costs = {start: 0}\n",
    "    best = set()\n",
    "    while pq:\n",
    "        _, step, cur = heapq.heappop(pq)\n",
    "        if cur == end:\n",
    "            return step\n",
    "        best.add(cur)\n",
    "        for i in range(sz):\n",
    "            for g in gene - {cur[i]}:\n",
    "                nei = cur[:i] + g + cur[i + 1:]\n",
    "                if nei not in best and nei in bank:\n",
    "                    if nei not in costs or step + 1 < costs[nei]:\n",
    "                        costs[nei] = step + 1\n",
    "                        priority = step + 1 + h(nei, end)\n",
    "                        heapq.heappush(pq, (priority, step + 1, nei))\n",
    "    return -1\n",
    "\n",
    "\n",
    "f('AACCGGTT', 'AAACGGTA', [\"AACCGGTA\", \"AACCGCTA\", \"AAACGGTA\"])\n",
    "f('AACCGGTT', 'AACCGGTC', [\"AACCGGTA\"])\n"
   ]
  },
  {
   "cell_type": "code",
   "execution_count": null,
   "metadata": {},
   "outputs": [],
   "source": []
  }
 ],
 "metadata": {
  "interpreter": {
   "hash": "aee8b7b246df8f9039afb4144a1f6fd8d2ca17a180786b69acc140d282b71a49"
  },
  "kernelspec": {
   "display_name": "Python 3.10.2 64-bit",
   "language": "python",
   "name": "python3"
  },
  "language_info": {
   "codemirror_mode": {
    "name": "ipython",
    "version": 3
   },
   "file_extension": ".py",
   "mimetype": "text/x-python",
   "name": "python",
   "nbconvert_exporter": "python",
   "pygments_lexer": "ipython3",
   "version": "3.10.2"
  },
  "orig_nbformat": 4
 },
 "nbformat": 4,
 "nbformat_minor": 2
}
