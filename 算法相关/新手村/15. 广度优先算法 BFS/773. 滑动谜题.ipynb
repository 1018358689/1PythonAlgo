{
 "cells": [
  {
   "cell_type": "code",
   "execution_count": 16,
   "metadata": {},
   "outputs": [
    {
     "data": {
      "text/plain": [
       "5"
      ]
     },
     "execution_count": 16,
     "metadata": {},
     "output_type": "execute_result"
    }
   ],
   "source": [
    "from collections import deque\n",
    "\n",
    "\n",
    "def f(board: list):\n",
    "    start = ''.join(map(str, board[0] + board[1]))\n",
    "    target = '123450'\n",
    "    neis = {0: (1, 3), 1: (0, 2, 4), 2: (1, 5), 3: (0, 4), 4: (1, 3, 5), 5: (2, 4)}\n",
    "    q = deque([(start, 0)])\n",
    "    vis = {start}\n",
    "    while q:\n",
    "        cur, step = q.popleft()\n",
    "        if cur == target:\n",
    "            return step\n",
    "        zero = cur.index('0')\n",
    "        for neiPos in neis[zero]:\n",
    "            nei = list(cur)\n",
    "            nei[zero], nei[neiPos] = nei[neiPos], nei[zero]\n",
    "            nei = ''.join(nei)\n",
    "            if nei not in vis:\n",
    "                q.append((nei, step + 1))\n",
    "                vis.add(nei)\n",
    "    return -1\n",
    "\n",
    "\n",
    "# f([[1, 2, 3], [4, 0, 5]])\n",
    "# f([[1, 2, 3], [5, 4, 0]])\n",
    "f([[4, 1, 2], [5, 0, 3]])\n"
   ]
  },
  {
   "cell_type": "code",
   "execution_count": 18,
   "metadata": {},
   "outputs": [
    {
     "data": {
      "text/plain": [
       "5"
      ]
     },
     "execution_count": 18,
     "metadata": {},
     "output_type": "execute_result"
    }
   ],
   "source": [
    "from collections import deque\n",
    "\n",
    "\n",
    "def f(board: list):\n",
    "    start = board[0] + board[1]\n",
    "    target = [1, 2, 3, 4, 5, 0]\n",
    "    neis = {0: (1, 3), 1: (0, 2, 4), 2: (1, 5), 3: (0, 4), 4: (1, 3, 5), 5: (2, 4)}\n",
    "    q = deque([(start, 0)])\n",
    "    vis = {tuple(start)}\n",
    "    while q:\n",
    "        cur, step = q.popleft()\n",
    "        if cur == target:\n",
    "            return step\n",
    "        zero = cur.index(0)\n",
    "        for neiPos in neis[zero]:\n",
    "            nei = cur[:]\n",
    "            nei[zero], nei[neiPos] = nei[neiPos], nei[zero]\n",
    "            if tuple(nei) not in vis:\n",
    "                q.append((nei, step + 1))\n",
    "                vis.add(tuple(nei))\n",
    "    return -1\n",
    "\n",
    "\n",
    "# f([[1, 2, 3], [4, 0, 5]])\n",
    "# f([[1, 2, 3], [5, 4, 0]])\n",
    "f([[4, 1, 2], [5, 0, 3]])\n"
   ]
  },
  {
   "cell_type": "code",
   "execution_count": 21,
   "metadata": {},
   "outputs": [
    {
     "data": {
      "text/plain": [
       "1"
      ]
     },
     "execution_count": 21,
     "metadata": {},
     "output_type": "execute_result"
    }
   ],
   "source": [
    "import heapq\n",
    "\n",
    "\n",
    "def f(board: list):\n",
    "    start = board[0] + board[1]\n",
    "    # n*m puzzle中，m为奇数时,逆序数对奇偶性要和最终奇偶性相同，否则无解\n",
    "    if sum(1 for i in range(6) for j in range(i + 1, 6) if start[j] and start[i] > start[j]) % 2 == 1:\n",
    "        return -1\n",
    "\n",
    "    def h(cur):\n",
    "        ans = 0\n",
    "        # 跳过「空格」，计算其余数值的曼哈顿距离\n",
    "        for i, x in enumerate(cur):\n",
    "            if x == 0:\n",
    "                continue\n",
    "            r, c = i // 3, i % 3\n",
    "            tr, tc = (x - 1) // 3, (x - 1) % 3\n",
    "            ans += abs(r - tr) + abs(c - tc)\n",
    "        return ans\n",
    "\n",
    "    target = [1, 2, 3, 4, 5, 0]\n",
    "    neis = {0: (1, 3), 1: (0, 2, 4), 2: (1, 5), 3: (0, 4), 4: (1, 3, 5), 5: (2, 4)}\n",
    "    pq = [(0 + h(start), 0, start)]\n",
    "    costs = {tuple(start): 0}\n",
    "    best = set()\n",
    "    while pq:\n",
    "        _, step, cur = heapq.heappop(pq)\n",
    "        if cur == target:\n",
    "            return step\n",
    "        best.add(tuple(cur))\n",
    "        zero = cur.index(0)\n",
    "        for neiPos in neis[zero]:\n",
    "            nei = cur[:]\n",
    "            nei[neiPos], nei[zero] = nei[zero], nei[neiPos]\n",
    "            if (neiState := tuple(nei)) not in best:\n",
    "                if neiState not in costs or step + 1 < costs[neiState]:\n",
    "                    costs[neiState] = step + 1\n",
    "                    priority = step + 1 + h(nei)\n",
    "                    heapq.heappush(pq, (priority, step + 1, nei))\n",
    "\n",
    "\n",
    "f([[1, 2, 3], [4, 0, 5]])\n",
    "# f([[1, 2, 3], [5, 4, 0]])\n",
    "# f([[4, 1, 2], [5, 0, 3]])"
   ]
  },
  {
   "cell_type": "code",
   "execution_count": null,
   "metadata": {},
   "outputs": [],
   "source": []
  }
 ],
 "metadata": {
  "kernelspec": {
   "display_name": "Python 3.10.5 64-bit",
   "language": "python",
   "name": "python3"
  },
  "language_info": {
   "codemirror_mode": {
    "name": "ipython",
    "version": 3
   },
   "file_extension": ".py",
   "mimetype": "text/x-python",
   "name": "python",
   "nbconvert_exporter": "python",
   "pygments_lexer": "ipython3",
   "version": "3.10.5"
  },
  "orig_nbformat": 4,
  "vscode": {
   "interpreter": {
    "hash": "3196968d684371006099b3d55edeef8ed90365227a30deaef86e5d4aa8519be0"
   }
  }
 },
 "nbformat": 4,
 "nbformat_minor": 2
}
