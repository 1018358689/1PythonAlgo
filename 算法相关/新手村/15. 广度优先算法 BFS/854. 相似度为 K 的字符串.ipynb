{
 "cells": [
  {
   "cell_type": "code",
   "execution_count": 2,
   "metadata": {},
   "outputs": [
    {
     "data": {
      "text/plain": [
       "2"
      ]
     },
     "execution_count": 2,
     "metadata": {},
     "output_type": "execute_result"
    }
   ],
   "source": [
    "# BFS\n",
    "from collections import deque\n",
    "\n",
    "\n",
    "class Solution:\n",
    "\n",
    "    def kSimilarity(self, s1: str, s2: str) -> int:\n",
    "        lgh = len(s1)\n",
    "\n",
    "        def nxt(s):\n",
    "            for i in range(lgh):\n",
    "                if s[i] == s2[i]:\n",
    "                    continue\n",
    "                for j in range(i + 1, lgh):\n",
    "                    if s[i] == s2[j] and s[j] != s2[j]:\n",
    "                        yield s[:i] + s[j] + s[i + 1:j] + s[i] + s[j + 1:]\n",
    "                break # 每次交换可以保证 s[:i]和s2[:i]相同\n",
    "\n",
    "        q = deque([s1])\n",
    "        vis = {s1}\n",
    "        ans = 0\n",
    "        while q:\n",
    "            for _ in range(len(q)):\n",
    "                s = q.popleft()\n",
    "                if s == s2:\n",
    "                    return ans\n",
    "                for nei in nxt(s):\n",
    "                    if nei not in vis:\n",
    "                        vis.add(nei)\n",
    "                        q.append(nei)\n",
    "            ans += 1\n",
    "\n",
    "\n",
    "s = Solution()\n",
    "s.kSimilarity('abc', 'bca')\n"
   ]
  },
  {
   "cell_type": "code",
   "execution_count": 3,
   "metadata": {},
   "outputs": [
    {
     "data": {
      "text/plain": [
       "2"
      ]
     },
     "execution_count": 3,
     "metadata": {},
     "output_type": "execute_result"
    }
   ],
   "source": [
    "# A*\n",
    "import heapq\n",
    "\n",
    "\n",
    "class Solution:\n",
    "\n",
    "    def kSimilarity(self, s1: str, s2: str) -> int:\n",
    "        lgh = len(s1)\n",
    "\n",
    "        def nxt(s):\n",
    "            for i in range(lgh):\n",
    "                if s[i] == s2[i]:\n",
    "                    continue\n",
    "                for j in range(i + 1, lgh):\n",
    "                    if s[i] == s2[j] and s[j] != s2[j]:\n",
    "                        yield s[:i] + s[j] + s[i + 1:j] + s[i] + s[j + 1:]\n",
    "                break  # 每次交换可以保证 s[:i]和s2[:i]相同\n",
    "\n",
    "        def h(s):\n",
    "            cnt = sum(n != s2[i] for i, n in enumerate(s))\n",
    "            return cnt + 1 >> 1\n",
    "\n",
    "        pq = [(0 + h(s1), 0, s1)]\n",
    "        costs = {s1: 0}\n",
    "        best = set()\n",
    "        while pq:\n",
    "            _, step, cur = heapq.heappop(pq)\n",
    "            if cur == s2:\n",
    "                return step\n",
    "            best.add(cur)\n",
    "            for nei in nxt(cur):\n",
    "                if nei not in best:\n",
    "                    g = step + 1\n",
    "                    if nei not in costs or g < costs[nei]:\n",
    "                        costs[nei] = g\n",
    "                        priority = g + h(nei)\n",
    "                        heapq.heappush(pq, (priority, g, nei))\n",
    "\n",
    "\n",
    "s = Solution()\n",
    "s.kSimilarity('abc', 'bca')\n"
   ]
  },
  {
   "cell_type": "code",
   "execution_count": null,
   "metadata": {},
   "outputs": [],
   "source": []
  }
 ],
 "metadata": {
  "kernelspec": {
   "display_name": "Python 3.10.6 64-bit",
   "language": "python",
   "name": "python3"
  },
  "language_info": {
   "codemirror_mode": {
    "name": "ipython",
    "version": 3
   },
   "file_extension": ".py",
   "mimetype": "text/x-python",
   "name": "python",
   "nbconvert_exporter": "python",
   "pygments_lexer": "ipython3",
   "version": "3.10.6"
  },
  "orig_nbformat": 4,
  "vscode": {
   "interpreter": {
    "hash": "dfbf064e0f2c8839bc658dd75dfc0b8f09a0440078cae3024109b27659b69d06"
   }
  }
 },
 "nbformat": 4,
 "nbformat_minor": 2
}
