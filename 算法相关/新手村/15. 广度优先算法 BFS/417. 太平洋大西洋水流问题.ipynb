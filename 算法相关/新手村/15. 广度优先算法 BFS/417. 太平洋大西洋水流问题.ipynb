{
 "cells": [
  {
   "cell_type": "code",
   "execution_count": 1,
   "metadata": {},
   "outputs": [
    {
     "data": {
      "text/plain": [
       "{(0, 4), (1, 3), (1, 4), (2, 2), (3, 0), (3, 1), (4, 0)}"
      ]
     },
     "execution_count": 1,
     "metadata": {},
     "output_type": "execute_result"
    }
   ],
   "source": [
    "from typing import List\n",
    "from collections import deque\n",
    "\n",
    "\n",
    "class Solution:\n",
    "    def pacificAtlantic(self, heights: List[List[int]]) -> List[List[int]]:\n",
    "        rows, cols = len(heights), len(heights[0])\n",
    "\n",
    "        def bfs(q: deque):\n",
    "            vis = set(q)\n",
    "            while q:\n",
    "                r, c = q.popleft()\n",
    "                for dx, dy in (1, 0), (-1, 0), (0, 1), (0, -1):\n",
    "                    if 0 <= (nr := r + dx) < rows and 0 <= (nc := c + dy) < cols and heights[nr][nc] >= heights[r][c] and (nr, nc) not in vis:\n",
    "                        q.append((nr, nc))\n",
    "                        vis.add((nr, nc))\n",
    "            return vis\n",
    "\n",
    "        q1 = deque([(0, cols - 1)])\n",
    "        q2 = deque([(rows - 1, 0)])\n",
    "        for r in range(rows):\n",
    "            q1.append((r, 0))\n",
    "            q2.append((r, cols - 1))\n",
    "        for c in range(1, cols - 1):\n",
    "            q1.append((0, c))\n",
    "            q2.append((rows - 1, c))\n",
    "        return bfs(q1) & bfs(q2)\n",
    "\n",
    "\n",
    "s = Solution()\n",
    "s.pacificAtlantic([[1, 2, 2, 3, 5], [3, 2, 3, 4, 4], [2, 4, 5, 3, 1], [6, 7, 1, 4, 5], [5, 1, 1, 2, 4]])\n"
   ]
  },
  {
   "cell_type": "code",
   "execution_count": null,
   "metadata": {},
   "outputs": [],
   "source": []
  }
 ],
 "metadata": {
  "kernelspec": {
   "display_name": "Python 3.8.10 64-bit",
   "language": "python",
   "name": "python3"
  },
  "language_info": {
   "codemirror_mode": {
    "name": "ipython",
    "version": 3
   },
   "file_extension": ".py",
   "mimetype": "text/x-python",
   "name": "python",
   "nbconvert_exporter": "python",
   "pygments_lexer": "ipython3",
   "version": "3.8.10"
  },
  "orig_nbformat": 4,
  "vscode": {
   "interpreter": {
    "hash": "570feb405e2e27c949193ac68f46852414290d515b0ba6e5d90d076ed2284471"
   }
  }
 },
 "nbformat": 4,
 "nbformat_minor": 2
}
