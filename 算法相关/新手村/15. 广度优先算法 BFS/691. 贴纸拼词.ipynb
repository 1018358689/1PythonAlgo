{
 "cells": [
  {
   "cell_type": "code",
   "execution_count": 9,
   "metadata": {},
   "outputs": [
    {
     "data": {
      "text/plain": [
       "(2, 1, 0, 0, 0, 0, 0, 0, 0, 0, 0, 0, 0, 0, 0, 0, 0, 0, 0, 0, 0, 0, 0, 0, 0, 0)"
      ]
     },
     "execution_count": 9,
     "metadata": {},
     "output_type": "execute_result"
    }
   ],
   "source": [
    "def count(c:Counter):\n",
    "    res = [0]*26\n",
    "    for k,v in c.items():\n",
    "        res[ord(k)-ord('a')]=v\n",
    "    return tuple(res)\n",
    "a = 'thehat'\n",
    "b = 'thehatx'\n",
    "set(a) - set(b)\n",
    "from collections import Counter\n",
    "Counter('aab')-Counter('aabc')\n",
    "count(Counter('aab'))"
   ]
  },
  {
   "cell_type": "code",
   "execution_count": 17,
   "metadata": {},
   "outputs": [
    {
     "data": {
      "text/plain": [
       "7"
      ]
     },
     "execution_count": 17,
     "metadata": {},
     "output_type": "execute_result"
    }
   ],
   "source": [
    "from collections import deque, Counter\n",
    "\n",
    "# 优化: 优先从左往右去掉当前状态中的字符，减少排列组合情况。\n",
    "# (比如我们删1次stickers[0]同时删1次stickers[1]，就有两个顺序达到同样的效果)【大白话就是先删a后删b，和先删b后删a一样，我们在乎的是选了ab，而不是排列ab】\n",
    "\n",
    "def f(stickers: list, target: str):\n",
    "    tmp = set()\n",
    "    for i in stickers:\n",
    "        tmp |= set(i)\n",
    "    if set(target) - tmp:\n",
    "        return -1\n",
    "    stickers = [Counter(i) for i in stickers]\n",
    "    target = Counter(target)\n",
    "    q = deque([(target, 0)])\n",
    "\n",
    "    def count(c: Counter):\n",
    "        res = [0] * 26\n",
    "        for k, v in c.items():\n",
    "            res[ord(k) - ord('a')] = v\n",
    "        return tuple(res)\n",
    "\n",
    "    vis = {count(target)}\n",
    "    while q:\n",
    "        cur, step = q.popleft()\n",
    "        if not cur:\n",
    "            return step\n",
    "        for c in stickers:\n",
    "            if tuple(cur.keys())[0] in c: # 一个优化 顺序突破手中的贴纸\n",
    "                nei = cur - c\n",
    "                if (state := count(nei)) not in vis:\n",
    "                    vis.add(state)\n",
    "                    q.append((nei, step + 1))\n",
    "\n",
    "\n",
    "# f([\"with\", \"example\", \"science\"], \"thehat\")\n",
    "# f([\"notice\", \"possible\"], \"basicbasic\")\n",
    "f([\"soil\", \"since\", \"lift\", \"are\", \"lot\", \"twenty\", \"put\"], \"appearreason\")\n"
   ]
  },
  {
   "cell_type": "code",
   "execution_count": 26,
   "metadata": {},
   "outputs": [
    {
     "data": {
      "text/plain": [
       "3"
      ]
     },
     "execution_count": 26,
     "metadata": {},
     "output_type": "execute_result"
    }
   ],
   "source": [
    "from collections import Counter\n",
    "import heapq\n",
    "# 找不到合适的启发式函数 所以A星没什么意义\n",
    "\n",
    "def f(stickers: list, target: str):\n",
    "    tmp = set()\n",
    "    for i in stickers:\n",
    "        tmp |= set(i)\n",
    "    if set(target) - tmp:\n",
    "        return -1\n",
    "    stickers = [Counter(i) for i in stickers]\n",
    "    target = Counter(target)\n",
    "\n",
    "    def count(c: Counter):\n",
    "        res = [0] * 26\n",
    "        for k, v in c.items():\n",
    "            res[ord(k) - ord('a')] = v\n",
    "        return tuple(res)\n",
    "\n",
    "    maxCommonSz = max(len(i & target) for i in stickers)\n",
    "\n",
    "    def h(count):\n",
    "        return sum(count) // maxCommonSz\n",
    "\n",
    "    pq = [(0 + h(count(target)), 0, target, count(target))]\n",
    "    costs = {count(target): 0}\n",
    "    best = set()\n",
    "    while pq:\n",
    "        _, step, cur, state = heapq.heappop(pq)\n",
    "        if not cur:\n",
    "            return step\n",
    "        best.add(state)\n",
    "        for c in stickers:\n",
    "            # if tuple(cur.keys())[0] in c: # 一个优化 顺序突破手中的贴纸\n",
    "            nei = cur - c\n",
    "            if (nState := count(nei)) not in best:\n",
    "                if nState not in costs or step + 1 < costs[nState]:\n",
    "                    costs[nState] = step + 1\n",
    "                    priority = step + 1 + h(nState)\n",
    "                    heapq.heappush(pq, (priority, step + 1, nei, nState))\n",
    "\n",
    "\n",
    "f([\"with\", \"example\", \"science\"], \"thehat\")\n",
    "# f([\"notice\", \"possible\"], \"basicbasic\")\n",
    "# f([\"soil\", \"since\", \"lift\", \"are\", \"lot\", \"twenty\", \"put\"], \"appearreason\")\n",
    "f([\"these\", \"guess\", \"about\", \"garden\", \"him\"], \"atomher\")\n",
    "# f([\"swim\",\"love\",\"father\",\"shape\",\"rich\",\"multiply\",\"new\",\"fill\",\"history\"],\"operateform\")\n"
   ]
  },
  {
   "cell_type": "code",
   "execution_count": 30,
   "metadata": {},
   "outputs": [
    {
     "data": {
      "text/plain": [
       "-1"
      ]
     },
     "execution_count": 30,
     "metadata": {},
     "output_type": "execute_result"
    }
   ],
   "source": [
    "from collections import deque, Counter\n",
    "\n",
    "\n",
    "def f(stickers: list, target: str):\n",
    "    sz = len(target)\n",
    "    start = (1 << sz) - 1\n",
    "    q = deque([(start, 0)])\n",
    "    vis = {start}\n",
    "    while q:\n",
    "        cur, step = q.popleft()\n",
    "        if not cur:\n",
    "            return step\n",
    "        for ss in stickers:\n",
    "            nei = cur\n",
    "            cnt = Counter(ss)\n",
    "            for i, n in enumerate(target):\n",
    "                if (1 << i) & nei and cnt[n]:\n",
    "                    cnt[n] -= 1\n",
    "                    nei &= ~(1 << i)\n",
    "            if nei not in vis:\n",
    "                vis.add(nei)\n",
    "                q.append((nei, step + 1))\n",
    "    return -1\n",
    "\n",
    "\n",
    "f([\"with\", \"example\", \"science\"], \"thehat\")\n",
    "f([\"notice\", \"possible\"], \"basicbasic\")\n",
    "# f([\"soil\", \"since\", \"lift\", \"are\", \"lot\", \"twenty\", \"put\"], \"appearreason\")\n",
    "# f([\"these\", \"guess\", \"about\", \"garden\", \"him\"], \"atomher\")\n",
    "# f([\"swim\",\"love\",\"father\",\"shape\",\"rich\",\"multiply\",\"new\",\"fill\",\"history\"],\"operateform\")\n"
   ]
  },
  {
   "cell_type": "code",
   "execution_count": 64,
   "metadata": {},
   "outputs": [
    {
     "data": {
      "text/plain": [
       "6"
      ]
     },
     "execution_count": 64,
     "metadata": {},
     "output_type": "execute_result"
    }
   ],
   "source": [
    "3<<1"
   ]
  },
  {
   "cell_type": "code",
   "execution_count": 65,
   "metadata": {},
   "outputs": [
    {
     "data": {
      "text/plain": [
       "16"
      ]
     },
     "execution_count": 65,
     "metadata": {},
     "output_type": "execute_result"
    }
   ],
   "source": [
    "1<<4"
   ]
  },
  {
   "cell_type": "code",
   "execution_count": null,
   "metadata": {},
   "outputs": [],
   "source": []
  }
 ],
 "metadata": {
  "interpreter": {
   "hash": "aee8b7b246df8f9039afb4144a1f6fd8d2ca17a180786b69acc140d282b71a49"
  },
  "kernelspec": {
   "display_name": "Python 3.10.2 64-bit",
   "language": "python",
   "name": "python3"
  },
  "language_info": {
   "codemirror_mode": {
    "name": "ipython",
    "version": 3
   },
   "file_extension": ".py",
   "mimetype": "text/x-python",
   "name": "python",
   "nbconvert_exporter": "python",
   "pygments_lexer": "ipython3",
   "version": "3.10.2"
  },
  "orig_nbformat": 4
 },
 "nbformat": 4,
 "nbformat_minor": 2
}
