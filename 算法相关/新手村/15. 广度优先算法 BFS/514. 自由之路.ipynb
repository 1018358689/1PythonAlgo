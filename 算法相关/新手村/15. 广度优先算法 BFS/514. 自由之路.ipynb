{
 "cells": [
  {
   "cell_type": "code",
   "execution_count": 26,
   "metadata": {},
   "outputs": [
    {
     "data": {
      "text/plain": [
       "(-1, 3)"
      ]
     },
     "execution_count": 26,
     "metadata": {},
     "output_type": "execute_result"
    }
   ],
   "source": [
    "divmod(-1,4)"
   ]
  },
  {
   "cell_type": "code",
   "execution_count": 16,
   "metadata": {},
   "outputs": [
    {
     "name": "stdout",
     "output_type": "stream",
     "text": [
      "u u 3\n",
      "r r 3\n",
      "d d 2\n",
      "d d 1\n",
      "a a 3\n"
     ]
    },
    {
     "data": {
      "text/plain": [
       "12"
      ]
     },
     "execution_count": 16,
     "metadata": {},
     "output_type": "execute_result"
    }
   ],
   "source": [
    "from collections import deque\n",
    "# error 不能一个字母一个字母拼 重复字母会对后续造成影响\n",
    "\n",
    "class Solution:\n",
    "\n",
    "    def findRotateSteps(self, ring: str, key: str) -> int:\n",
    "\n",
    "        def bfs(p, t):  # 从ring[p]到key[t]的最少步数\n",
    "            target = key[t]\n",
    "            q = deque([(p, 0)])\n",
    "            vis = set()\n",
    "            while q:\n",
    "                cur, step = q.popleft()\n",
    "                if ring[cur % len(ring)] == target:\n",
    "                    return cur % len(ring), step + 1\n",
    "                vis.add(cur)\n",
    "                for nei in {cur - 1, cur + 1}:\n",
    "                    if nei not in vis:\n",
    "                        q.append((nei, step + 1))\n",
    "\n",
    "        ans = 0\n",
    "        p = 0\n",
    "        for t in range(len(key)):\n",
    "            p, step = bfs(p, t)\n",
    "            print(ring[p],key[t],step)\n",
    "            ans += step\n",
    "        return ans\n",
    "\n",
    "\n",
    "s = Solution()\n",
    "# s.findRotateSteps(\"godding\", \"gdd\")\n",
    "s.findRotateSteps(\"daudr\", \"urdda\")\n"
   ]
  },
  {
   "cell_type": "code",
   "execution_count": 29,
   "metadata": {},
   "outputs": [
    {
     "data": {
      "text/plain": [
       "11"
      ]
     },
     "execution_count": 29,
     "metadata": {},
     "output_type": "execute_result"
    }
   ],
   "source": [
    "from collections import deque, defaultdict\n",
    "from functools import lru_cache\n",
    "\n",
    "\n",
    "class Solution:\n",
    "\n",
    "    def findRotateSteps(self, ring: str, key: str) -> int:\n",
    "        ha = defaultdict(list)\n",
    "        for i, n in enumerate(ring):\n",
    "            ha[n].append(i)\n",
    "\n",
    "        @lru_cache(None)\n",
    "        def dfs(p, t):  # 以ring[p]开始 查找key[t:]的最少步骤\n",
    "            # 主问题 dfs[0][0]\n",
    "            # 子问题 ring内包含多个key[t] 取最小 dfs[i][t]\n",
    "            if t == len(key):\n",
    "                return 0\n",
    "            local = float('inf')\n",
    "            for pos in ha[key[t]]:\n",
    "                d = abs(pos - p)  # 距离\n",
    "                step = min(d, len(ring) - d)  # 到达key[t] 顺时针和逆时针选小的\n",
    "                subProblem = dfs(pos, t + 1)\n",
    "                local = min(local, step + 1 + subProblem)\n",
    "            return local\n",
    "\n",
    "        return dfs(0, 0)\n",
    "\n",
    "\n",
    "s = Solution()\n",
    "# s.findRotateSteps(\"godding\", \"gdd\")\n",
    "s.findRotateSteps(\"daudr\", \"urdda\")"
   ]
  },
  {
   "cell_type": "code",
   "execution_count": null,
   "metadata": {},
   "outputs": [],
   "source": []
  }
 ],
 "metadata": {
  "interpreter": {
   "hash": "97367d2de1780ea7c502b529f25888c1b53c0430a7611816b6c7cf19d8435228"
  },
  "kernelspec": {
   "display_name": "Python 3.10.5 64-bit (windows store)",
   "language": "python",
   "name": "python3"
  },
  "language_info": {
   "codemirror_mode": {
    "name": "ipython",
    "version": 3
   },
   "file_extension": ".py",
   "mimetype": "text/x-python",
   "name": "python",
   "nbconvert_exporter": "python",
   "pygments_lexer": "ipython3",
   "version": "3.10.5"
  },
  "orig_nbformat": 4
 },
 "nbformat": 4,
 "nbformat_minor": 2
}
