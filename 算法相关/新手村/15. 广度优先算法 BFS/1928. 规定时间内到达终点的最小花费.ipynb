{
 "cells": [
  {
   "cell_type": "code",
   "execution_count": null,
   "metadata": {},
   "outputs": [],
   "source": [
    "from collections import defaultdict\n",
    "from heapq import heappop, heappush\n",
    "from math import inf\n",
    "from typing import List\n",
    "\n",
    "\n",
    "class Solution:\n",
    "\n",
    "    def minCost(self, maxTime: int, edges: List[List[int]], passingFees: List[int]) -> int:\n",
    "        n = len(passingFees)\n",
    "        adj = defaultdict(lambda: defaultdict(lambda: inf))\n",
    "        for x, y, cost in edges:\n",
    "            adj[x][y] = min(adj[x][y], cost)\n",
    "            adj[y][x] = min(adj[y][x], cost)\n",
    "        pq = [(passingFees[0], 0, 0)]  # 费用 时间 位置\n",
    "        costs = defaultdict(lambda: inf)\n",
    "        costs[(0)] = 0  # 时间\n",
    "        while pq:\n",
    "            cost, time, x = heappop(pq)\n",
    "            if time > maxTime:\n",
    "                continue\n",
    "            if x == n - 1:\n",
    "                return cost\n",
    "            for y, t in adj[x].items():\n",
    "                ncost = cost + passingFees[y]\n",
    "                ntime = time + t\n",
    "                # 出现不同费用 但耗时更少也应该入堆\n",
    "                if ntime < costs[y]:\n",
    "                    costs[y] = ntime\n",
    "                    heappush(pq, (ncost, ntime, y))\n",
    "        return -1"
   ]
  }
 ],
 "metadata": {
  "language_info": {
   "name": "python"
  },
  "orig_nbformat": 4
 },
 "nbformat": 4,
 "nbformat_minor": 2
}
