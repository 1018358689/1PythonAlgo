{
 "cells": [
  {
   "cell_type": "code",
   "execution_count": null,
   "metadata": {},
   "outputs": [],
   "source": [
    "from collections import defaultdict\n",
    "from heapq import heappop, heappush\n",
    "from math import inf\n",
    "from typing import List\n",
    "\n",
    "\n",
    "class Solution:\n",
    "\n",
    "    def minCost(self, maxTime: int, edges: List[List[int]], passingFees: List[int]) -> int:\n",
    "        n = len(passingFees)\n",
    "        adj = defaultdict(lambda: defaultdict(lambda: inf))\n",
    "        for x, y, cost in edges:\n",
    "            adj[x][y] = min(adj[x][y], cost)\n",
    "            adj[y][x] = min(adj[y][x], cost)\n",
    "        pq = [(passingFees[0], 0, 0)]  # 费用 时间 位置\n",
    "        costs = defaultdict(lambda: inf)\n",
    "        costs[(0)] = 0  # 时间\n",
    "        while pq:\n",
    "            cost, time, x = heappop(pq)\n",
    "            if time > maxTime:\n",
    "                continue\n",
    "            if x == n - 1:\n",
    "                return cost\n",
    "            for y, t in adj[x].items():\n",
    "                ncost = cost + passingFees[y]\n",
    "                ntime = time + t\n",
    "                # 出现不同费用 但耗时更少也应该入堆\n",
    "                if ntime < costs[y]:\n",
    "                    costs[y] = ntime\n",
    "                    heappush(pq, (ncost, ntime, y))\n",
    "        return -1"
   ]
  }
 ],
 "metadata": {
  "kernelspec": {
   "display_name": "Python 3",
   "language": "python",
   "name": "python3"
  },
  "language_info": {
   "name": "python",
   "version": "3.10.5 (tags/v3.10.5:f377153, Jun  6 2022, 16:14:13) [MSC v.1929 64 bit (AMD64)]"
  },
  "orig_nbformat": 4,
  "vscode": {
   "interpreter": {
    "hash": "3196968d684371006099b3d55edeef8ed90365227a30deaef86e5d4aa8519be0"
   }
  }
 },
 "nbformat": 4,
 "nbformat_minor": 2
}
