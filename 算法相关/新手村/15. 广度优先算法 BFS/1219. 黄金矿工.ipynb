{
 "cells": [
  {
   "cell_type": "code",
   "execution_count": 9,
   "metadata": {},
   "outputs": [
    {
     "data": {
      "text/plain": [
       "25"
      ]
     },
     "execution_count": 9,
     "metadata": {},
     "output_type": "execute_result"
    }
   ],
   "source": [
    "# 和847访问所有节点的最短路径 区别在于 路径和最后到达点确定后必然唯一 不会重复 所以没必要全局去重 关注局部不走回头路即可\n",
    "# 因为847是可以走回头路的\n",
    "from collections import deque\n",
    "\n",
    "\n",
    "def f(grid: list):\n",
    "    rows, cols = len(grid), len(grid[0])\n",
    "    q = deque([])\n",
    "    for r in range(rows):\n",
    "        for c in range(cols):\n",
    "            if grid[r][c] != 0:\n",
    "                state = 1 << r * cols + c\n",
    "                q.append((r, c, state, grid[r][c]))  # state局部visited 所以放里面\n",
    "    ans = 0\n",
    "    while q:\n",
    "        r, c, state, gold = q.popleft()\n",
    "        ans = max(ans, gold)\n",
    "        for nr, nc in ((r - 1, c), (r + 1, c), (r, c - 1), (r, c + 1)):\n",
    "            if 0 <= nr < rows and 0 <= nc < cols and grid[nr][nc] != 0:\n",
    "                if (1 << nr * cols + nc) & state == 0:\n",
    "                    neiState = state | (1 << nr * cols + nc)\n",
    "                    q.append((nr, nc, neiState, gold + grid[nr][nc]))\n",
    "    return ans\n",
    "\n",
    "\n",
    "f([[0, 6, 0], [5, 8, 7], [0, 9, 0]])\n",
    "f([[1, 1, 1, 1, 1], [1, 1, 1, 1, 1], [1, 1, 1, 1, 1], [1, 1, 1, 1, 1], [1, 1, 1, 1, 1]])\n"
   ]
  },
  {
   "cell_type": "code",
   "execution_count": 10,
   "metadata": {},
   "outputs": [
    {
     "data": {
      "text/plain": [
       "25"
      ]
     },
     "execution_count": 10,
     "metadata": {},
     "output_type": "execute_result"
    }
   ],
   "source": [
    "# LeetCode超时 [[1,1,1,1,1],[1,1,1,1,1],[1,1,1,1,1],[1,1,1,1,1],[1,1,1,1,1]]\n",
    "from collections import deque\n",
    "\n",
    "\n",
    "def f(grid: list):\n",
    "    rows, cols = len(grid), len(grid[0])\n",
    "    q = deque([])\n",
    "    for r in range(rows):\n",
    "        for c in range(cols):\n",
    "            if grid[r][c] != 0:\n",
    "                state = {(r, c)}\n",
    "                q.append((r, c, state, grid[r][c]))  # state局部visited 所以放里面\n",
    "    ans = 0\n",
    "    while q:\n",
    "        r, c, state, gold = q.popleft()\n",
    "        ans = max(ans, gold)\n",
    "        for nr, nc in ((r - 1, c), (r + 1, c), (r, c - 1), (r, c + 1)):\n",
    "            if 0 <= nr < rows and 0 <= nc < cols and grid[nr][nc] != 0:\n",
    "                if (nr, nc) not in state:\n",
    "                    q.append((nr, nc, state | {(nr, nc)}, gold + grid[nr][nc]))\n",
    "    return ans\n",
    "\n",
    "\n",
    "f([[0, 6, 0], [5, 8, 7], [0, 9, 0]])\n",
    "f([[1, 1, 1, 1, 1], [1, 1, 1, 1, 1], [1, 1, 1, 1, 1], [1, 1, 1, 1, 1], [1, 1, 1, 1, 1]])\n"
   ]
  },
  {
   "cell_type": "code",
   "execution_count": null,
   "metadata": {},
   "outputs": [],
   "source": []
  }
 ],
 "metadata": {
  "interpreter": {
   "hash": "97367d2de1780ea7c502b529f25888c1b53c0430a7611816b6c7cf19d8435228"
  },
  "kernelspec": {
   "display_name": "Python 3.10.4 64-bit (windows store)",
   "language": "python",
   "name": "python3"
  },
  "language_info": {
   "codemirror_mode": {
    "name": "ipython",
    "version": 3
   },
   "file_extension": ".py",
   "mimetype": "text/x-python",
   "name": "python",
   "nbconvert_exporter": "python",
   "pygments_lexer": "ipython3",
   "version": "3.10.4"
  },
  "orig_nbformat": 4
 },
 "nbformat": 4,
 "nbformat_minor": 2
}
