{
 "cells": [
  {
   "cell_type": "code",
   "execution_count": 1,
   "metadata": {},
   "outputs": [],
   "source": [
    "# https://leetcode.cn/problems/ca70CL/"
   ]
  },
  {
   "cell_type": "code",
   "execution_count": 3,
   "metadata": {},
   "outputs": [
    {
     "name": "stdout",
     "output_type": "stream",
     "text": [
      "4\n",
      "inf\n"
     ]
    }
   ],
   "source": [
    "from collections import defaultdict\n",
    "import heapq\n",
    "\n",
    "\n",
    "def dijkstra(neis: list, start: str, end: str):\n",
    "    pq = [(0, start)]\n",
    "    costs = {start: 0}\n",
    "    best = set()\n",
    "    while pq:\n",
    "        curCost, cur = heapq.heappop(pq)\n",
    "        if cur == end:\n",
    "            return curCost\n",
    "        best.add(cur)\n",
    "        for nei, cost in neis[cur]:\n",
    "            if nei not in best:\n",
    "                neiCost = curCost + cost\n",
    "                if nei not in costs or neiCost < costs[nei]:\n",
    "                    costs[nei] = neiCost\n",
    "                    heapq.heappush(pq, (neiCost, nei))\n",
    "    return 'INF' # float('inf')\n",
    "\n",
    "\n",
    "n, m = map(int, input().split())\n",
    "neis = defaultdict(list)\n",
    "for _ in range(m):\n",
    "    cur, nei, cost = input().split()\n",
    "    neis[cur].append((nei, int(cost)))\n",
    "q = int(input())\n",
    "for _ in range(q):\n",
    "    start, end = input().split()\n",
    "    print(dijkstra(neis, start, end))\n"
   ]
  },
  {
   "cell_type": "code",
   "execution_count": 6,
   "metadata": {},
   "outputs": [
    {
     "name": "stdout",
     "output_type": "stream",
     "text": [
      "4\n",
      "INF\n"
     ]
    }
   ],
   "source": [
    "from collections import defaultdict\n",
    "import heapq\n",
    "\n",
    "\n",
    "def dijkstra(neis: list, start: str, end: str):\n",
    "    pq = [(0, start)]\n",
    "    costs = {start: 0}\n",
    "    best = set()\n",
    "    while pq:\n",
    "        curCost, cur = heapq.heappop(pq)\n",
    "        best.add(cur)\n",
    "        for nei, cost in neis[cur]:\n",
    "            if nei not in best:\n",
    "                neiCost = curCost + cost\n",
    "                if nei not in costs or neiCost < costs[nei]:\n",
    "                    costs[nei] = neiCost\n",
    "                    heapq.heappush(pq, (neiCost, nei))\n",
    "    return costs\n",
    "\n",
    "\n",
    "n, m = map(int, input().split())\n",
    "neis = defaultdict(list)\n",
    "ha = {}\n",
    "for _ in range(m):\n",
    "    cur, nei, cost = input().split()\n",
    "    neis[cur].append((nei, int(cost)))\n",
    "q = int(input())\n",
    "for _ in range(q):\n",
    "    start, end = input().split()\n",
    "    if start not in ha:\n",
    "        localCost = dijkstra(neis, start, end)\n",
    "        ha[start] = localCost\n",
    "    if end not in ha[start]:\n",
    "        print('INF')\n",
    "    else:\n",
    "        print(ha[start][end])\n"
   ]
  }
 ],
 "metadata": {
  "interpreter": {
   "hash": "97367d2de1780ea7c502b529f25888c1b53c0430a7611816b6c7cf19d8435228"
  },
  "kernelspec": {
   "display_name": "Python 3.10.4 64-bit (windows store)",
   "language": "python",
   "name": "python3"
  },
  "language_info": {
   "codemirror_mode": {
    "name": "ipython",
    "version": 3
   },
   "file_extension": ".py",
   "mimetype": "text/x-python",
   "name": "python",
   "nbconvert_exporter": "python",
   "pygments_lexer": "ipython3",
   "version": "3.10.4"
  },
  "orig_nbformat": 4
 },
 "nbformat": 4,
 "nbformat_minor": 2
}
