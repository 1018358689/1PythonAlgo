{
 "cells": [
  {
   "cell_type": "code",
   "execution_count": null,
   "metadata": {},
   "outputs": [],
   "source": [
    "class Solution:\n",
    "\n",
    "    def pushDominoes(self, dominoes: str) -> str:\n",
    "        dominoes = list(dominoes)\n",
    "        n = len(dominoes)\n",
    "        q = deque([(i, x) for i, x in enumerate(dominoes) if x != '.'])\n",
    "        vis = set()  # 每一层的访问  非全局  逐层记录并及时clear() 这样可以当做判断是否一块板子“同一层(同一时间)”两边受力\n",
    "        while q:\n",
    "            for _ in range(len(q)):\n",
    "                i, x = q.popleft()\n",
    "                j = i - 1 if x == 'L' else i + 1\n",
    "                if 0 <= j < n:\n",
    "                    y = dominoes[j]\n",
    "                    if y == '.':  # 碰到树立的就倒下\n",
    "                        q.append((j, x))\n",
    "                        dominoes[j] = x\n",
    "                        vis.add(j)\n",
    "                    elif j in vis and x != y:  # 同一时间两边受力\n",
    "                        dominoes[j] = '.'\n",
    "            vis.clear()\n",
    "        return ''.join(dominoes)"
   ]
  },
  {
   "cell_type": "code",
   "execution_count": null,
   "metadata": {},
   "outputs": [],
   "source": [
    "class Solution:\n",
    "\n",
    "    def pushDominoes(self, dominoes: str) -> str:\n",
    "        dominoes = list(dominoes)\n",
    "        n = len(dominoes)\n",
    "        q = [(i, x) for i, x in enumerate(dominoes) if x != '.']\n",
    "        vis = set()  # 每一层的访问  非全局  逐层记录并及时clear() 这样可以当做判断是否一块板子“同一层(同一时间)”两边受力\n",
    "        tmp = []\n",
    "        while q:\n",
    "            for i, x in q:\n",
    "                j = i - 1 if x == 'L' else i + 1\n",
    "                if 0 <= j < n:\n",
    "                    y = dominoes[j]\n",
    "                    if y == '.':  # 碰到树立的就倒下\n",
    "                        tmp.append((j, x))\n",
    "                        dominoes[j] = x\n",
    "                        vis.add(j)\n",
    "                    elif j in vis and x != y:  # 同一时间两边受力\n",
    "                        dominoes[j] = '.'\n",
    "            q = tmp[:]\n",
    "            tmp.clear()\n",
    "            vis.clear()\n",
    "        return ''.join(dominoes)"
   ]
  }
 ],
 "metadata": {
  "language_info": {
   "name": "python"
  },
  "orig_nbformat": 4
 },
 "nbformat": 4,
 "nbformat_minor": 2
}
