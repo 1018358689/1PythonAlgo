{
 "cells": [
  {
   "cell_type": "code",
   "execution_count": 1,
   "metadata": {},
   "outputs": [],
   "source": [
    "from collections import deque\n",
    "\n",
    "\n",
    "class Solution:\n",
    "\n",
    "    def numSquares(self, n: int) -> int:\n",
    "        q = deque([(n, 0)])\n",
    "        vis = {n}\n",
    "        while q:\n",
    "            cur, step = q.popleft()\n",
    "            if cur == 0:\n",
    "                return step\n",
    "            for j in range(1, int(cur**.5) + 1):\n",
    "                nei = cur - j**2\n",
    "                if nei not in vis:\n",
    "                    vis.add(nei)\n",
    "                    q.append((nei, step + 1))\n"
   ]
  },
  {
   "cell_type": "code",
   "execution_count": 3,
   "metadata": {},
   "outputs": [
    {
     "data": {
      "text/plain": [
       "2.0"
      ]
     },
     "execution_count": 3,
     "metadata": {},
     "output_type": "execute_result"
    }
   ],
   "source": [
    "4**.5"
   ]
  },
  {
   "cell_type": "code",
   "execution_count": 5,
   "metadata": {},
   "outputs": [
    {
     "data": {
      "text/plain": [
       "1"
      ]
     },
     "execution_count": 5,
     "metadata": {},
     "output_type": "execute_result"
    }
   ],
   "source": [
    "from collections import deque\n",
    "\n",
    "\n",
    "class Solution:\n",
    "\n",
    "    def numSquares(self, n: int) -> int:\n",
    "        if int(n**.5)**2 == n:\n",
    "            return 1\n",
    "        q = deque([(n, 0)])\n",
    "        vis = {n}\n",
    "        while q:\n",
    "            cur, step = q.popleft()\n",
    "            for j in range(int(cur**.5), 0, -1):\n",
    "                nei = cur - j**2\n",
    "                if nei == 0:\n",
    "                    return step + 1\n",
    "                if nei not in vis:\n",
    "                    vis.add(nei)\n",
    "                    q.append((nei, step + 1))\n",
    "\n",
    "\n",
    "s = Solution()\n",
    "s.numSquares(4)"
   ]
  },
  {
   "cell_type": "code",
   "execution_count": null,
   "metadata": {},
   "outputs": [],
   "source": []
  }
 ],
 "metadata": {
  "kernelspec": {
   "display_name": "Python 3.10.5 64-bit",
   "language": "python",
   "name": "python3"
  },
  "language_info": {
   "codemirror_mode": {
    "name": "ipython",
    "version": 3
   },
   "file_extension": ".py",
   "mimetype": "text/x-python",
   "name": "python",
   "nbconvert_exporter": "python",
   "pygments_lexer": "ipython3",
   "version": "3.10.5"
  },
  "orig_nbformat": 4,
  "vscode": {
   "interpreter": {
    "hash": "3196968d684371006099b3d55edeef8ed90365227a30deaef86e5d4aa8519be0"
   }
  }
 },
 "nbformat": 4,
 "nbformat_minor": 2
}
