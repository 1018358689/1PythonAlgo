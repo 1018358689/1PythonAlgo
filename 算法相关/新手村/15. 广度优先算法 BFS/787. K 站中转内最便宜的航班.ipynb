{
 "cells": [
  {
   "cell_type": "code",
   "execution_count": 21,
   "metadata": {},
   "outputs": [
    {
     "data": {
      "text/plain": [
       "200"
      ]
     },
     "execution_count": 21,
     "metadata": {},
     "output_type": "execute_result"
    }
   ],
   "source": [
    "from typing import List\n",
    "from collections import defaultdict\n",
    "import heapq\n",
    "\n",
    "\n",
    "class Solution:\n",
    "\n",
    "    def findCheapestPrice(self, n: int, flights: List[List[int]], src: int, dst: int, k: int) -> int:\n",
    "        adj = defaultdict(list)\n",
    "        for i, j, c in flights:\n",
    "            adj[i].append((j, c))\n",
    "        pq = [(0, 0, src)]  #  最少费用 最短路径 位置\n",
    "        costs = {(src, 0): 0} # 一个点的状态： 该点位置及所用的步数\n",
    "        best = set()\n",
    "        while pq:\n",
    "            # 每次pop得出到达某个点的最少费用 费用相同则最短路径\n",
    "            cost, step, cur = heapq.heappop(pq)\n",
    "            if cur == dst and step - 1 <= k:\n",
    "                return cost\n",
    "            if step - 1 == k:  # 中转站达到k但没到终点没必要外扩 答案在另外路径\n",
    "                continue\n",
    "            best.add((cur, step))\n",
    "            for nei, nc in adj[cur]:\n",
    "                if (nei, step + 1) not in best:\n",
    "                    neiCost = cost + nc\n",
    "                    if (nei, step + 1) not in costs or neiCost < costs[(nei, step + 1)]:\n",
    "                        costs[(nei, step + 1)] = neiCost\n",
    "                        heapq.heappush(pq, (neiCost, step + 1, nei))\n",
    "        return -1\n",
    "\n",
    "\n",
    "s = Solution()\n",
    "s.findCheapestPrice(3, [[0, 1, 100], [1, 2, 100], [0, 2, 500]], 0, 2, 1)\n"
   ]
  },
  {
   "cell_type": "code",
   "execution_count": 20,
   "metadata": {},
   "outputs": [
    {
     "data": {
      "text/plain": [
       "200"
      ]
     },
     "execution_count": 20,
     "metadata": {},
     "output_type": "execute_result"
    }
   ],
   "source": [
    "class Solution:\n",
    "    def findCheapestPrice(self, n: int, flights: List[List[int]], src: int, dst: int, k: int) -> int:\n",
    "        neis = [[] for _ in range(n)]\n",
    "        for cur, nei, cost in flights:\n",
    "            neis[cur].append((nei, cost))\n",
    "        pq = [(0, 0, src)]\n",
    "        costs = {(src, 0): 0}  # 一个点的状态： 该点位置及所用的步数\n",
    "        best = set()\n",
    "        while pq:\n",
    "            c, step, cur = heapq.heappop(pq)\n",
    "            if cur == dst and step - 1 <= k:\n",
    "                return c\n",
    "            if step - 1 == k:  # 中转站达到k但没到终点没必要外扩\n",
    "                continue\n",
    "            best.add((cur, step))\n",
    "            for nei, nc in neis[cur]:\n",
    "                neiCost = c + nc\n",
    "                neiStep = step + 1\n",
    "                if (nei, neiStep) not in costs or neiCost < costs[(nei, neiStep)]:\n",
    "                    costs[(nei, neiStep)] = neiCost\n",
    "                    heapq.heappush(pq, (neiCost, neiStep, nei))\n",
    "        return -1\n",
    "s = Solution()\n",
    "s.findCheapestPrice(3, [[0, 1, 100], [1, 2, 100], [0, 2, 500]], 0, 2, 1)\n"
   ]
  },
  {
   "cell_type": "code",
   "execution_count": 2,
   "metadata": {},
   "outputs": [
    {
     "data": {
      "text/plain": [
       "97"
      ]
     },
     "execution_count": 2,
     "metadata": {},
     "output_type": "execute_result"
    }
   ],
   "source": [
    "ord('a')"
   ]
  },
  {
   "cell_type": "code",
   "execution_count": null,
   "metadata": {},
   "outputs": [],
   "source": []
  }
 ],
 "metadata": {
  "interpreter": {
   "hash": "aee8b7b246df8f9039afb4144a1f6fd8d2ca17a180786b69acc140d282b71a49"
  },
  "kernelspec": {
   "display_name": "Python 3.10.1 64-bit",
   "language": "python",
   "name": "python3"
  },
  "language_info": {
   "codemirror_mode": {
    "name": "ipython",
    "version": 3
   },
   "file_extension": ".py",
   "mimetype": "text/x-python",
   "name": "python",
   "nbconvert_exporter": "python",
   "pygments_lexer": "ipython3",
   "version": "3.10.1"
  },
  "orig_nbformat": 4
 },
 "nbformat": 4,
 "nbformat_minor": 2
}
