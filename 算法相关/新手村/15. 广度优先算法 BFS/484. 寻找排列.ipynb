{
 "cells": [
  {
   "cell_type": "code",
   "execution_count": null,
   "metadata": {},
   "outputs": [],
   "source": [
    "class Solution:\n",
    "\n",
    "    def findPermutation(self, s: str) -> List[int]:\n",
    "        n = len(s)\n",
    "        ans = [0] * (n + 1)\n",
    "        adj = [[] for _ in range(n + 1)]\n",
    "        ins = [0] * (n + 1)\n",
    "        for i, x in enumerate(s):\n",
    "            if x == 'I':\n",
    "                adj[i].append(i + 1)\n",
    "                ins[i + 1] += 1\n",
    "            else:\n",
    "                adj[i + 1].append(i)\n",
    "                ins[i] += 1\n",
    "        pq = [i for i, x in enumerate(ins) if x == 0]\n",
    "        heapify(pq)\n",
    "        num = 1\n",
    "        while pq:\n",
    "            x = heappop(pq)\n",
    "            ans[x] = num\n",
    "            num += 1\n",
    "            for y in adj[x]:\n",
    "                ins[y] -= 1\n",
    "                if ins[y] == 0:\n",
    "                    heappush(pq, y)\n",
    "        return ans"
   ]
  }
 ],
 "metadata": {
  "language_info": {
   "name": "python"
  },
  "orig_nbformat": 4
 },
 "nbformat": 4,
 "nbformat_minor": 2
}
