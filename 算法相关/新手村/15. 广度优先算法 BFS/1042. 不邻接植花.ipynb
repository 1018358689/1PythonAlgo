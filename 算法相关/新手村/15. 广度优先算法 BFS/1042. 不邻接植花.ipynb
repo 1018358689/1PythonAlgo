{
 "cells": [
  {
   "cell_type": "code",
   "execution_count": null,
   "metadata": {},
   "outputs": [],
   "source": [
    "from typing import List\n",
    "from collections import defaultdict\n",
    "class Solution:\n",
    "    def gardenNoAdj(self, n: int, paths: List[List[int]]) -> List[int]:\n",
    "        ans = [0]*n\n",
    "        adj = defaultdict(list)\n",
    "        for i,j in paths:\n",
    "            adj[i].append(j)\n",
    "            adj[j].append(i)\n",
    "        for cur in range(1,n+1):\n",
    "            colors = set(range(1,5))-set(ans[nei-1] for nei in adj[cur])\n",
    "            ans[cur-1] = colors.pop()\n",
    "        return ans"
   ]
  },
  {
   "cell_type": "code",
   "execution_count": null,
   "metadata": {},
   "outputs": [],
   "source": [
    "from typing import List\n",
    "from collections import deque\n",
    "\n",
    "\n",
    "class Solution:\n",
    "\n",
    "    def gardenNoAdj(self, n: int, paths: List[List[int]]) -> List[int]:\n",
    "        adj = [[] for _ in range(n + 1)]\n",
    "        for i, j in paths:\n",
    "            adj[i].append(j)\n",
    "            adj[j].append(i)\n",
    "        q = deque([])\n",
    "        ans = [0] * (n + 1)\n",
    "        for i in range(1, n + 1):  # 防止单独小岛\n",
    "            if not ans[i]:\n",
    "                q.append(i)\n",
    "                ans[i] = 1\n",
    "                # bfs\n",
    "                while q:\n",
    "                    cur = q.popleft()\n",
    "                    for nei in adj[cur]:\n",
    "                        if not ans[nei]:\n",
    "                            ans[nei] = (set(range(1, 5)) - set(ans[p] for p in adj[nei])).pop()\n",
    "                            q.append(nei)\n",
    "\n",
    "        return ans[1:]\n"
   ]
  }
 ],
 "metadata": {
  "language_info": {
   "name": "python"
  },
  "orig_nbformat": 4
 },
 "nbformat": 4,
 "nbformat_minor": 2
}
