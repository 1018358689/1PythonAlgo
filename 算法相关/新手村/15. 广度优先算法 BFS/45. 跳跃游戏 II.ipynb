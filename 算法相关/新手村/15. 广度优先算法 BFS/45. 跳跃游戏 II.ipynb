{
 "cells": [
  {
   "cell_type": "code",
   "execution_count": 2,
   "metadata": {},
   "outputs": [
    {
     "data": {
      "text/plain": [
       "2"
      ]
     },
     "execution_count": 2,
     "metadata": {},
     "output_type": "execute_result"
    }
   ],
   "source": [
    "from typing import List\n",
    "from collections import deque\n",
    "\n",
    "\n",
    "class Solution:\n",
    "\n",
    "    def jump(self, nums: List[int]) -> int:\n",
    "        q = deque([(0, 0)])\n",
    "        vis = {0}\n",
    "        while q:\n",
    "            cur, step = q.popleft()\n",
    "            if cur >= len(nums) - 1:\n",
    "                return step\n",
    "            for j in range(nums[cur] + 1):\n",
    "                nei = cur + j\n",
    "                if nei not in vis:\n",
    "                    vis.add(nei)\n",
    "                    q.append((nei, step + 1))\n",
    "\n",
    "\n",
    "s = Solution()\n",
    "s.jump([2, 3, 1, 1, 4])\n"
   ]
  },
  {
   "cell_type": "code",
   "execution_count": 9,
   "metadata": {},
   "outputs": [
    {
     "data": {
      "text/plain": [
       "2"
      ]
     },
     "execution_count": 9,
     "metadata": {},
     "output_type": "execute_result"
    }
   ],
   "source": [
    "from typing import List\n",
    "from collections import deque\n",
    "\n",
    "\n",
    "class Solution:\n",
    "\n",
    "    def jump(self, nums: List[int]) -> int:\n",
    "        q = deque([(0, 0)])\n",
    "        vis = 0\n",
    "        while q:\n",
    "            cur, step = q.popleft()\n",
    "            if cur >= len(nums) - 1:\n",
    "                return step\n",
    "            for j in range(nums[cur] + 1):\n",
    "                nei = cur + j\n",
    "                if (1 << nei) & vis == 0:\n",
    "                    vis |= 1 << nei\n",
    "                    q.append((nei, step + 1))\n",
    "\n",
    "\n",
    "s = Solution()\n",
    "s.jump([2, 3, 1, 1, 4])\n"
   ]
  },
  {
   "cell_type": "code",
   "execution_count": 18,
   "metadata": {},
   "outputs": [
    {
     "data": {
      "text/plain": [
       "(2, 0)"
      ]
     },
     "execution_count": 18,
     "metadata": {},
     "output_type": "execute_result"
    }
   ],
   "source": [
    "from typing import List\n",
    "from collections import deque\n",
    "\n",
    "\n",
    "class Solution:\n",
    "\n",
    "    def jump(self, nums: List[int]) -> int:\n",
    "        q = deque([(0, 0)])\n",
    "        maxLength = 0\n",
    "        while q:\n",
    "            cur, step = q.popleft()\n",
    "            if cur >= len(nums) - 1:\n",
    "                return step\n",
    "            potential = nums[cur]\n",
    "            localMax = cur + potential\n",
    "            if localMax > maxLength:\n",
    "                maxLength = localMax\n",
    "                for j in range(potential, -1, -1):\n",
    "                    q.append((cur + j, step + 1))\n",
    "\n",
    "\n",
    "s = Solution()\n",
    "s.jump([2, 3, 1, 1, 4]), s.jump([0])"
   ]
  },
  {
   "cell_type": "code",
   "execution_count": 17,
   "metadata": {},
   "outputs": [
    {
     "data": {
      "text/plain": [
       "(2, 0)"
      ]
     },
     "execution_count": 17,
     "metadata": {},
     "output_type": "execute_result"
    }
   ],
   "source": [
    "from typing import List\n",
    "from collections import deque\n",
    "\n",
    "\n",
    "class Solution:\n",
    "\n",
    "    def jump(self, nums: List[int]) -> int:\n",
    "        if len(nums) == 1: return 0\n",
    "        q = deque([(0, 0)]) # 位置 步数\n",
    "        maxLength = 0 # 全局最远距离\n",
    "        while q:\n",
    "            cur, step = q.popleft()\n",
    "            potential = nums[cur] # 当前跳跃能力\n",
    "            localMax = cur + potential # 局部最远\n",
    "            if localMax > maxLength:\n",
    "                maxLength = localMax\n",
    "                if maxLength >= len(nums) - 1:\n",
    "                    return step + 1\n",
    "                for j in range(potential, -1, -1):\n",
    "                    q.append((cur + j, step + 1))\n",
    "\n",
    "\n",
    "s = Solution()\n",
    "s.jump([2, 3, 1, 1, 4]), s.jump([0])\n"
   ]
  },
  {
   "cell_type": "code",
   "execution_count": 19,
   "metadata": {},
   "outputs": [
    {
     "data": {
      "text/plain": [
       "(2, 0)"
      ]
     },
     "execution_count": 19,
     "metadata": {},
     "output_type": "execute_result"
    }
   ],
   "source": [
    "from typing import List\n",
    "from collections import deque\n",
    "# 超时\n",
    "\n",
    "class Solution:\n",
    "\n",
    "    def jump(self, nums: List[int]) -> int:\n",
    "        # dp[i]到达索引i的最少跳跃次数\n",
    "        # dp[i] = dp[j]+1 所有能到达i的点j的最少到达次数+1\n",
    "        # dp[0]=0\n",
    "        dp = [float('inf')]*len(nums)\n",
    "        dp[0] = 0\n",
    "        for i in range(1,len(nums)):\n",
    "            for j in range(i):\n",
    "                if j+nums[j]>=i:\n",
    "                    dp[i] = min(dp[i],dp[j]+1)\n",
    "        return dp[-1]\n",
    "\n",
    "s = Solution()\n",
    "s.jump([2, 3, 1, 1, 4]), s.jump([0])"
   ]
  },
  {
   "cell_type": "code",
   "execution_count": 25,
   "metadata": {},
   "outputs": [
    {
     "data": {
      "text/plain": [
       "0"
      ]
     },
     "execution_count": 25,
     "metadata": {},
     "output_type": "execute_result"
    }
   ],
   "source": [
    "from typing import List\n",
    "\n",
    "\n",
    "class Solution:\n",
    "\n",
    "    def jump(self, nums: List[int]) -> int:\n",
    "        if len(nums) == 1: return 0\n",
    "        elif nums[0] >= len(nums) - 1: return 1\n",
    "        # dp[i]跳i步最远能到达位置\n",
    "        # dp[i] = max(j + nums[j]) j:[dp[i-2]+1,dp[i-1]]\n",
    "        # basecase dp[0]=0 dp[1]=nums[0]\n",
    "        dp = [0] * len(nums)\n",
    "        dp[0], dp[1] = 0, nums[0]\n",
    "        for i in range(2, len(nums)):\n",
    "            for j in range(dp[i - 2] + 1, dp[i - 1] + 1):\n",
    "                dp[i] = max(dp[i], j + nums[j])\n",
    "                if dp[i] >= len(nums) - 1:\n",
    "                    return i\n",
    "\n",
    "\n",
    "s = Solution()\n",
    "s.jump([2, 3, 1, 1, 4])\n",
    "s.jump([0])"
   ]
  },
  {
   "cell_type": "code",
   "execution_count": null,
   "metadata": {},
   "outputs": [],
   "source": []
  }
 ],
 "metadata": {
  "interpreter": {
   "hash": "97367d2de1780ea7c502b529f25888c1b53c0430a7611816b6c7cf19d8435228"
  },
  "kernelspec": {
   "display_name": "Python 3.10.4 64-bit (windows store)",
   "language": "python",
   "name": "python3"
  },
  "language_info": {
   "codemirror_mode": {
    "name": "ipython",
    "version": 3
   },
   "file_extension": ".py",
   "mimetype": "text/x-python",
   "name": "python",
   "nbconvert_exporter": "python",
   "pygments_lexer": "ipython3",
   "version": "3.10.4"
  },
  "orig_nbformat": 4
 },
 "nbformat": 4,
 "nbformat_minor": 2
}
