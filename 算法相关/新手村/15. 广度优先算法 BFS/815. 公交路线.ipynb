{
 "cells": [
  {
   "cell_type": "code",
   "execution_count": 4,
   "metadata": {},
   "outputs": [
    {
     "data": {
      "text/plain": [
       "1"
      ]
     },
     "execution_count": 4,
     "metadata": {},
     "output_type": "execute_result"
    }
   ],
   "source": [
    "from typing import List\n",
    "from collections import defaultdict, deque\n",
    "\n",
    "\n",
    "class Solution:\n",
    "    def numBusesToDestination(self, routes: List[List[int]], source: int, target: int) -> int:\n",
    "        if source == target:\n",
    "            return 0\n",
    "        sta2routes = defaultdict(list)  # 车站对应路线\n",
    "        # 例如找车站7  车站7对应多条路线 bfs找最近路线 找到路线意味找到车站了\n",
    "        q = deque([])\n",
    "        tar = set() # 目标路线\n",
    "        vis = set() # 走过的路线\n",
    "        # 初始化\n",
    "        for rou, stas in enumerate(routes):\n",
    "            for sta in stas:\n",
    "                sta2routes[sta].append(rou)\n",
    "                if sta == target:\n",
    "                    tar.add(rou)\n",
    "                if sta == source:\n",
    "                    q.append((1, rou))\n",
    "                    vis.add(rou)\n",
    "        # BFS\n",
    "        while q:\n",
    "            step, cur = q.popleft()\n",
    "            if cur in tar:\n",
    "                return step\n",
    "            for ns in routes[cur]: # 当前路线的车站\n",
    "                for nr in sta2routes[ns]: #车站对应所有路线 走没走过的路线\n",
    "                    if nr not in vis:\n",
    "                        vis.add(nr)\n",
    "                        q.append((step + 1, nr))\n",
    "        return -1\n",
    "\n",
    "\n",
    "s = Solution()\n",
    "s.numBusesToDestination([[1, 2, 7], [3, 6, 7]], 1, 6)\n",
    "s.numBusesToDestination([[1, 7], [3, 5]], 5, 5)\n"
   ]
  },
  {
   "cell_type": "code",
   "execution_count": null,
   "metadata": {},
   "outputs": [],
   "source": []
  }
 ],
 "metadata": {
  "kernelspec": {
   "display_name": "Python 3.8.10 64-bit",
   "language": "python",
   "name": "python3"
  },
  "language_info": {
   "codemirror_mode": {
    "name": "ipython",
    "version": 3
   },
   "file_extension": ".py",
   "mimetype": "text/x-python",
   "name": "python",
   "nbconvert_exporter": "python",
   "pygments_lexer": "ipython3",
   "version": "3.8.10"
  },
  "orig_nbformat": 4,
  "vscode": {
   "interpreter": {
    "hash": "570feb405e2e27c949193ac68f46852414290d515b0ba6e5d90d076ed2284471"
   }
  }
 },
 "nbformat": 4,
 "nbformat_minor": 2
}
