{
 "cells": [
  {
   "cell_type": "code",
   "execution_count": 35,
   "metadata": {},
   "outputs": [
    {
     "name": "stdout",
     "output_type": "stream",
     "text": [
      "(1, 2)\n",
      "(3, 4)\n"
     ]
    }
   ],
   "source": [
    "from collections import deque\n",
    "q = deque({1,2,3})\n",
    "(q,q)\n",
    "[{11,2},{2,3}]\n",
    "{1:{1,2}}\n",
    "for i in {(1,2),(3,4)}:\n",
    "    print(i)"
   ]
  },
  {
   "cell_type": "code",
   "execution_count": 63,
   "metadata": {},
   "outputs": [
    {
     "data": {
      "text/plain": [
       "0"
      ]
     },
     "execution_count": 63,
     "metadata": {},
     "output_type": "execute_result"
    }
   ],
   "source": [
    "from typing import List\n",
    "from collections import deque\n",
    "from pprint import pprint\n",
    "\n",
    "\n",
    "class Solution:\n",
    "    def containVirus(self, isInfected: List[List[int]]) -> int:\n",
    "        rows, cols = len(isInfected), len(isInfected[0])\n",
    "        ans = 0\n",
    "        while True:\n",
    "            # 1.找各个病毒区域并做id标记\n",
    "            def bfsFind(r, c):\n",
    "                q = deque([(r, c)])\n",
    "                vis = {(r, c)}\n",
    "                while q:\n",
    "                    r, c = q.popleft()\n",
    "                    for dx, dy in (1, 0), (-1, 0), (0, 1), (0, -1):\n",
    "                        if 0 <= (nr := r + dx) < rows and 0 <= (nc := c + dy) < cols and isInfected[nr][nc] == 1 and (nr, nc) not in vis:\n",
    "                            vis.add((nr, nc))\n",
    "                            q.append((nr, nc))\n",
    "                return vis\n",
    "\n",
    "            virus = {}  # id-当前病毒区域\n",
    "            allVis = set()  # 防止重复遍历\n",
    "            id = 0\n",
    "            for r in range(rows):\n",
    "                for c in range(cols):\n",
    "                    if isInfected[r][c] == 1 and (r, c) not in allVis:\n",
    "                        tmp = bfsFind(r, c)\n",
    "                        virus[id] = tmp\n",
    "                        allVis |= tmp\n",
    "                        id += 1\n",
    "            if not virus:\n",
    "                break\n",
    "            # print(virus)\n",
    "\n",
    "            # 2.找最危险的病毒区域id(能污染最多的)\n",
    "            def findDanger(virus):\n",
    "                vis = set()\n",
    "                cnt = 0\n",
    "                for r, c in virus:\n",
    "                    for dx, dy in (1, 0), (-1, 0), (0, 1), (0, -1):\n",
    "                        if 0 <= (nr := r + dx) < rows and 0 <= (nc := c + dy) < cols and isInfected[nr][nc] == 0 and (nr, nc) not in vis:\n",
    "                            vis.add((nr, nc))\n",
    "                            cnt += 1\n",
    "                return cnt, vis\n",
    "\n",
    "            dangerId = -1\n",
    "            cnt = 0\n",
    "            border = {}\n",
    "            for i, v in virus.items():\n",
    "                tmp_cnt, tmp_vis = findDanger(v)\n",
    "                border[i] = tmp_vis\n",
    "                if tmp_cnt > cnt:\n",
    "                    cnt = tmp_cnt\n",
    "                    dangerId = i\n",
    "            if dangerId == -1:\n",
    "                break\n",
    "            \n",
    "            # 3.给危险区域计算所需的挡板\n",
    "            for r, c in border[dangerId]:\n",
    "                for dx, dy in (1, 0), (-1, 0), (0, 1), (0, -1):\n",
    "                    if 0 <= (nr := r + dx) < rows and 0 <= (nc := c + dy) < cols and (nr, nc) in virus[dangerId]:\n",
    "                        # print(nr,nc,r,c)\n",
    "                        ans += 1\n",
    "            # print(ans)\n",
    "            # 4.给危险区域设置2表示已隔离 其他病毒外扩\n",
    "            for r, c in virus[dangerId]:\n",
    "                isInfected[r][c] = 2\n",
    "            border.pop(dangerId)\n",
    "            for v in border.values():\n",
    "                for r, c in v:\n",
    "                    isInfected[r][c] = 1\n",
    "            # pprint(isInfected)\n",
    "\n",
    "        return ans\n",
    "\n",
    "\n",
    "s = Solution()\n",
    "# s.containVirus([[0, 1, 0, 0, 0, 0, 0, 1], [0, 1, 0, 0, 0, 0, 0, 1], [0, 0, 0, 0, 0, 0, 0, 1], [0, 0, 0, 0, 0, 0, 0, 0]])\n",
    "# s.containVirus([[1, 1, 1, 0, 0, 0, 0, 0, 0], [1, 0, 1, 0, 1, 1, 1, 1, 1], [1, 1, 1, 0, 0, 0, 0, 0, 0]])\n",
    "# s.containVirus([[1,1,1],[1,0,1],[1,1,1]])\n",
    "s.containVirus([[1]])"
   ]
  },
  {
   "cell_type": "code",
   "execution_count": 64,
   "metadata": {},
   "outputs": [
    {
     "data": {
      "text/plain": [
       "0"
      ]
     },
     "execution_count": 64,
     "metadata": {},
     "output_type": "execute_result"
    }
   ],
   "source": [
    "from typing import List\n",
    "from collections import deque\n",
    "from pprint import pprint\n",
    "\n",
    "\n",
    "class Solution:\n",
    "    def containVirus(self, isInfected: List[List[int]]) -> int:\n",
    "        rows, cols = len(isInfected), len(isInfected[0])\n",
    "        ans = 0\n",
    "        while True:\n",
    "            # 1.找各个病毒区域并做id标记\n",
    "            def bfsFind(r, c):\n",
    "                q = deque([(r, c)])\n",
    "                vis = {(r, c)}\n",
    "                while q:\n",
    "                    r, c = q.popleft()\n",
    "                    for dx, dy in (1, 0), (-1, 0), (0, 1), (0, -1):\n",
    "                        if 0 <= (nr := r + dx) < rows and 0 <= (nc := c + dy) < cols and isInfected[nr][nc] == 1 and (nr, nc) not in vis:\n",
    "                            vis.add((nr, nc))\n",
    "                            q.append((nr, nc))\n",
    "                return vis\n",
    "\n",
    "            virus = {}  # id-当前病毒区域\n",
    "            allVis = set()  # 防止重复遍历\n",
    "            id = 0\n",
    "            for r in range(rows):\n",
    "                for c in range(cols):\n",
    "                    if isInfected[r][c] == 1 and (r, c) not in allVis:\n",
    "                        tmp = bfsFind(r, c)\n",
    "                        virus[id] = tmp\n",
    "                        allVis |= tmp\n",
    "                        id += 1\n",
    "            if not virus:\n",
    "                break\n",
    "            # print(virus)\n",
    "\n",
    "            # 2.找最危险的病毒区域id(能污染最多的)及所需挡板\n",
    "            def findDanger(virus):\n",
    "                vis = set()\n",
    "                cnt = 0 # 会感染的块\n",
    "                baffle = 0 # 挡板数量  对于上一个代码改变了计算挡板数量\n",
    "                for r, c in virus:\n",
    "                    for dx, dy in (1, 0), (-1, 0), (0, 1), (0, -1):\n",
    "                        if 0 <= (nr := r + dx) < rows and 0 <= (nc := c + dy) < cols and isInfected[nr][nc] == 0:\n",
    "                            baffle+=1\n",
    "                            if (nr, nc) not in vis:\n",
    "                                vis.add((nr, nc))\n",
    "                                cnt += 1\n",
    "                            \n",
    "                return cnt, vis,baffle\n",
    "\n",
    "            dangerId = -1\n",
    "            cnt = 0\n",
    "            border = {}\n",
    "            baffle = {}\n",
    "            for i, v in virus.items():\n",
    "                tmp_cnt, tmp_vis,tmp_baffle = findDanger(v)\n",
    "                border[i] = tmp_vis\n",
    "                baffle[i] = tmp_baffle\n",
    "                if tmp_cnt > cnt:\n",
    "                    cnt = tmp_cnt\n",
    "                    dangerId = i\n",
    "            if dangerId == -1:\n",
    "                break\n",
    "            \n",
    "            # 3.给危险区域累计所需的挡板\n",
    "            ans += baffle[dangerId]\n",
    "            \n",
    "            # print(ans)\n",
    "            # 4.给危险区域设置2表示已隔离 其他病毒外扩\n",
    "            for r, c in virus[dangerId]:\n",
    "                isInfected[r][c] = 2\n",
    "            border.pop(dangerId)\n",
    "            for v in border.values():\n",
    "                for r, c in v:\n",
    "                    isInfected[r][c] = 1\n",
    "            # pprint(isInfected)\n",
    "\n",
    "        return ans\n",
    "\n",
    "\n",
    "s = Solution()\n",
    "# s.containVirus([[0, 1, 0, 0, 0, 0, 0, 1], [0, 1, 0, 0, 0, 0, 0, 1], [0, 0, 0, 0, 0, 0, 0, 1], [0, 0, 0, 0, 0, 0, 0, 0]])\n",
    "# s.containVirus([[1, 1, 1, 0, 0, 0, 0, 0, 0], [1, 0, 1, 0, 1, 1, 1, 1, 1], [1, 1, 1, 0, 0, 0, 0, 0, 0]])\n",
    "# s.containVirus([[1,1,1],[1,0,1],[1,1,1]])\n",
    "s.containVirus([[1]])"
   ]
  },
  {
   "cell_type": "code",
   "execution_count": null,
   "metadata": {},
   "outputs": [],
   "source": []
  }
 ],
 "metadata": {
  "kernelspec": {
   "display_name": "Python 3.8.10 64-bit",
   "language": "python",
   "name": "python3"
  },
  "language_info": {
   "codemirror_mode": {
    "name": "ipython",
    "version": 3
   },
   "file_extension": ".py",
   "mimetype": "text/x-python",
   "name": "python",
   "nbconvert_exporter": "python",
   "pygments_lexer": "ipython3",
   "version": "3.8.10"
  },
  "orig_nbformat": 4,
  "vscode": {
   "interpreter": {
    "hash": "570feb405e2e27c949193ac68f46852414290d515b0ba6e5d90d076ed2284471"
   }
  }
 },
 "nbformat": 4,
 "nbformat_minor": 2
}
