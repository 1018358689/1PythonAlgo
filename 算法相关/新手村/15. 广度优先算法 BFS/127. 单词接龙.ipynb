{
 "cells": [
  {
   "cell_type": "code",
   "execution_count": null,
   "metadata": {},
   "outputs": [],
   "source": [
    "from typing import List\n",
    "from collections import defaultdict, deque\n",
    "\n",
    "\n",
    "class Solution:\n",
    "\n",
    "    def ladderLength(self, beginWord: str, endWord: str, wordList: List[str]) -> int:\n",
    "        n = len(beginWord)\n",
    "        adj = defaultdict(list)\n",
    "        wordList = set(wordList)\n",
    "        for word in wordList:\n",
    "            for i in range(n):\n",
    "                adj[word[:i] + '*' + word[i + 1:]].append(word)\n",
    "        if endWord not in wordList:\n",
    "            return 0\n",
    "        if beginWord == endWord:\n",
    "            return 1\n",
    "        q = deque([(beginWord, 1)])\n",
    "        vis = {beginWord}\n",
    "        while q:\n",
    "            x, step = q.popleft()\n",
    "            for i in range(n):\n",
    "                for y in adj[x[:i] + '*' + x[i + 1:]]:\n",
    "                    if y == endWord:\n",
    "                        return step + 1\n",
    "                    if y not in vis:\n",
    "                        vis.add(y)\n",
    "                        q.append((y, step + 1))\n",
    "        return 0"
   ]
  },
  {
   "cell_type": "code",
   "execution_count": 2,
   "metadata": {},
   "outputs": [
    {
     "data": {
      "text/plain": [
       "5"
      ]
     },
     "execution_count": 2,
     "metadata": {},
     "output_type": "execute_result"
    }
   ],
   "source": [
    "from typing import List\n",
    "from collections import deque\n",
    "\n",
    "\n",
    "class Solution:\n",
    "\n",
    "    def ladderLength(self, beginWord: str, endWord: str, wordList: List[str]) -> int:\n",
    "        n = len(beginWord)\n",
    "        abcd = [chr(x) for x in range(ord('a'), ord('z') + 1)]\n",
    "\n",
    "        def adj(word):\n",
    "            for i in range(n):\n",
    "                for x in abcd:\n",
    "                    yield word[:i] + x + word[i + 1:]\n",
    "\n",
    "        wordList = set(wordList)\n",
    "        if endWord not in wordList:\n",
    "            return 0\n",
    "        if beginWord == endWord:\n",
    "            return 1\n",
    "        q = deque([(beginWord, 1)])\n",
    "        vis = {beginWord}\n",
    "        while q:\n",
    "            x, step = q.popleft()\n",
    "            for y in adj(x):\n",
    "                if y in wordList and y not in vis:\n",
    "                    if y == endWord:\n",
    "                        return step + 1\n",
    "                    vis.add(y)\n",
    "                    q.append((y, step + 1))\n",
    "        return 0\n",
    "\n",
    "\n",
    "s = Solution()\n",
    "s.ladderLength('hit', 'cog', [\"hot\", \"dot\", \"dog\", \"lot\", \"log\", \"cog\"])\n"
   ]
  },
  {
   "cell_type": "code",
   "execution_count": 1,
   "metadata": {},
   "outputs": [
    {
     "name": "stdout",
     "output_type": "stream",
     "text": [
      "(-15, 15, 5)\n",
      "(1, 7, 6)\n"
     ]
    }
   ],
   "source": [
    "x = [[-15,1,3],[15,7,12],[5,6]]\n",
    "for y in zip(*x):\n",
    "    print(y)"
   ]
  },
  {
   "cell_type": "code",
   "execution_count": null,
   "metadata": {},
   "outputs": [],
   "source": []
  }
 ],
 "metadata": {
  "kernelspec": {
   "display_name": "Python 3.10.6 64-bit",
   "language": "python",
   "name": "python3"
  },
  "language_info": {
   "codemirror_mode": {
    "name": "ipython",
    "version": 3
   },
   "file_extension": ".py",
   "mimetype": "text/x-python",
   "name": "python",
   "nbconvert_exporter": "python",
   "pygments_lexer": "ipython3",
   "version": "3.10.5"
  },
  "orig_nbformat": 4,
  "vscode": {
   "interpreter": {
    "hash": "916dbcbb3f70747c44a77c7bcd40155683ae19c65e1c03b4aa3499c5328201f1"
   }
  }
 },
 "nbformat": 4,
 "nbformat_minor": 2
}
