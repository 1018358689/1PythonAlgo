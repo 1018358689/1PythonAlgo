{
 "cells": [
  {
   "cell_type": "code",
   "execution_count": 2,
   "metadata": {},
   "outputs": [
    {
     "data": {
      "text/plain": [
       "5"
      ]
     },
     "execution_count": 2,
     "metadata": {},
     "output_type": "execute_result"
    }
   ],
   "source": [
    "from typing import List\n",
    "from collections import deque\n",
    "\n",
    "\n",
    "class Solution:\n",
    "\n",
    "    def neis(self, word: str):\n",
    "        for i, n in enumerate(word):\n",
    "            for j in range(ord('a'), ord('z') + 1):\n",
    "                w = chr(j)\n",
    "                if w != n:\n",
    "                    yield word[:i] + w + word[i + 1:]\n",
    "\n",
    "    def ladderLength(self, beginWord: str, endWord: str, wordList: List[str]) -> int:\n",
    "        wordList = set(wordList)\n",
    "        if endWord not in wordList:\n",
    "            return 0\n",
    "        q = deque([(beginWord, 1)])\n",
    "        vis = {beginWord}\n",
    "        while q:\n",
    "            cur, step = q.popleft()\n",
    "            if cur == endWord:\n",
    "                return step\n",
    "            for nei in self.neis(cur):\n",
    "                if nei not in vis and nei in wordList:\n",
    "                    q.append((nei, step + 1))\n",
    "                    vis.add(nei)\n",
    "        return 0\n",
    "\n",
    "\n",
    "s = Solution()\n",
    "s.ladderLength('hit', 'cog', [\"hot\", \"dot\", \"dog\", \"lot\", \"log\", \"cog\"])\n"
   ]
  },
  {
   "cell_type": "code",
   "execution_count": null,
   "metadata": {},
   "outputs": [],
   "source": []
  }
 ],
 "metadata": {
  "interpreter": {
   "hash": "97367d2de1780ea7c502b529f25888c1b53c0430a7611816b6c7cf19d8435228"
  },
  "kernelspec": {
   "display_name": "Python 3.10.4 64-bit (windows store)",
   "language": "python",
   "name": "python3"
  },
  "language_info": {
   "codemirror_mode": {
    "name": "ipython",
    "version": 3
   },
   "file_extension": ".py",
   "mimetype": "text/x-python",
   "name": "python",
   "nbconvert_exporter": "python",
   "pygments_lexer": "ipython3",
   "version": "3.10.4"
  },
  "orig_nbformat": 4
 },
 "nbformat": 4,
 "nbformat_minor": 2
}
