{
 "cells": [
  {
   "cell_type": "code",
   "execution_count": null,
   "metadata": {},
   "outputs": [],
   "source": [
    "class Solution:\n",
    "\n",
    "    def shortestAlternatingPaths(self, n: int, redEdges: List[List[int]], blueEdges: List[List[int]]) -> List[int]:\n",
    "        # bfs\n",
    "        radj = defaultdict(list)\n",
    "        badj = defaultdict(list)\n",
    "        for x, y in redEdges:\n",
    "            radj[x].append(y)\n",
    "        for x, y in blueEdges:\n",
    "            badj[x].append(y)\n",
    "        rvis = [inf] * n\n",
    "        bvis = [inf] * n\n",
    "        rvis[0] = 0\n",
    "        bvis[0] = 0\n",
    "        q = deque([(-1, 0), (1, 0)])  # -1红色 1蓝色\n",
    "        step = 1\n",
    "        while q:\n",
    "            for _ in range(len(q)):\n",
    "                color, x = q.popleft()\n",
    "                adj = (badj, radj)[(color + 1) // 2]\n",
    "                vis = (bvis, rvis)[(color + 1) // 2]\n",
    "                for y in adj[x]:\n",
    "                    if vis[y] != inf: continue\n",
    "                    vis[y] = step\n",
    "                    q.append((-color, y))\n",
    "            step += 1\n",
    "        return [d if (d := min(x, y)) != inf else -1 for x, y in zip(rvis, bvis)]\n"
   ]
  },
  {
   "cell_type": "code",
   "execution_count": null,
   "metadata": {},
   "outputs": [],
   "source": [
    "class Solution:\n",
    "\n",
    "    def shortestAlternatingPaths(self, n: int, redEdges: List[List[int]], blueEdges: List[List[int]]) -> List[int]:\n",
    "        # dijkstra\n",
    "        radj = defaultdict(list)\n",
    "        badj = defaultdict(list)\n",
    "        for x, y in redEdges:\n",
    "            radj[x].append(y)\n",
    "        for x, y in blueEdges:\n",
    "            badj[x].append(y)\n",
    "        costs = defaultdict(lambda: inf)\n",
    "        costs[(-1, 0)] = costs[(-1, 0)] = 0  # 状态是过来的颜色和位置\n",
    "        pq = [(0, -1, 0), (0, 1, 0)]  # -1红 1蓝\n",
    "        best = set()\n",
    "        while pq:\n",
    "            cost, color, x = heappop(pq)\n",
    "            best.add((color, x))\n",
    "            adj = (badj, radj)[(color + 1) // 2]\n",
    "            for y in adj[x]:\n",
    "                if (-color, y) not in best and (nc := cost + 1) < costs[(-color, y)]:\n",
    "                    costs[(-color, y)] = nc\n",
    "                    heappush(pq, (nc, -color, y))\n",
    "        ans = [-1] * n\n",
    "        for x in range(n):\n",
    "            tmp = min(costs[(-1, x)], costs[(1, x)])\n",
    "            if tmp != inf:\n",
    "                ans[x] = tmp\n",
    "        return ans"
   ]
  }
 ],
 "metadata": {
  "language_info": {
   "name": "python"
  },
  "orig_nbformat": 4
 },
 "nbformat": 4,
 "nbformat_minor": 2
}
