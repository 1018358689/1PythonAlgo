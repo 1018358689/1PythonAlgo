{
 "cells": [
  {
   "cell_type": "code",
   "execution_count": 1,
   "metadata": {},
   "outputs": [],
   "source": [
    "# Definition for a binary tree node.\n",
    "class TreeNode:\n",
    "\n",
    "    def __init__(self, val=0, left=None, right=None):\n",
    "        self.val = val\n",
    "        self.left = left\n",
    "        self.right = right\n",
    "\n",
    "\n",
    "from typing import Optional\n",
    "from collections import deque\n",
    "\n",
    "\n",
    "class Solution:\n",
    "\n",
    "    def widthOfBinaryTree(self, root: Optional[TreeNode]) -> int:\n",
    "        q = deque([(root, 0)])\n",
    "        ans = float('-inf')\n",
    "        while q:\n",
    "            tmp = []\n",
    "            for _ in range(len(q)):\n",
    "                cur, idx = q.popleft()\n",
    "                tmp.append(idx)\n",
    "                if cur.left: q.append((cur.left, idx * 2 + 1))\n",
    "                if cur.right: q.append((cur.right, idx * 2 + 2))\n",
    "            ans = max(ans, tmp[-1] - tmp[0] + 1)\n",
    "        return ans"
   ]
  },
  {
   "cell_type": "code",
   "execution_count": null,
   "metadata": {},
   "outputs": [],
   "source": [
    "# Definition for a binary tree node.\n",
    "class TreeNode:\n",
    "\n",
    "    def __init__(self, val=0, left=None, right=None):\n",
    "        self.val = val\n",
    "        self.left = left\n",
    "        self.right = right\n",
    "\n",
    "\n",
    "from typing import Optional\n",
    "from collections import deque\n",
    "\n",
    "\n",
    "class Solution:\n",
    "\n",
    "    def widthOfBinaryTree(self, root: Optional[TreeNode]) -> int:\n",
    "        q = deque([(root, 0)])\n",
    "        ans = float('-inf')\n",
    "        while q:\n",
    "            mn, mx = float('inf'), float('-inf')\n",
    "            for _ in range(len(q)):\n",
    "                cur, idx = q.popleft()\n",
    "                mn, mx = min(mn, idx), max(mx, idx)\n",
    "                if cur.left: q.append((cur.left, idx * 2 + 1))\n",
    "                if cur.right: q.append((cur.right, idx * 2 + 2))\n",
    "            ans = max(ans, mx - mn + 1)\n",
    "        return ans"
   ]
  }
 ],
 "metadata": {
  "kernelspec": {
   "display_name": "Python 3.10.5 64-bit",
   "language": "python",
   "name": "python3"
  },
  "language_info": {
   "codemirror_mode": {
    "name": "ipython",
    "version": 3
   },
   "file_extension": ".py",
   "mimetype": "text/x-python",
   "name": "python",
   "nbconvert_exporter": "python",
   "pygments_lexer": "ipython3",
   "version": "3.10.5"
  },
  "orig_nbformat": 4,
  "vscode": {
   "interpreter": {
    "hash": "3196968d684371006099b3d55edeef8ed90365227a30deaef86e5d4aa8519be0"
   }
  }
 },
 "nbformat": 4,
 "nbformat_minor": 2
}
