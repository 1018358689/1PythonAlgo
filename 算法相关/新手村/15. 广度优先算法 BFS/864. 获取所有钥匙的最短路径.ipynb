{
 "cells": [
  {
   "cell_type": "code",
   "execution_count": 3,
   "metadata": {},
   "outputs": [
    {
     "data": {
      "text/plain": [
       "'0b11111'"
      ]
     },
     "execution_count": 3,
     "metadata": {},
     "output_type": "execute_result"
    }
   ],
   "source": [
    "bin((1<<5)-1)"
   ]
  },
  {
   "cell_type": "code",
   "execution_count": 14,
   "metadata": {},
   "outputs": [
    {
     "name": "stdout",
     "output_type": "stream",
     "text": [
      "0b11 0 0\n"
     ]
    },
    {
     "data": {
      "text/plain": [
       "8"
      ]
     },
     "execution_count": 14,
     "metadata": {},
     "output_type": "execute_result"
    }
   ],
   "source": [
    "from typing import List\n",
    "from collections import deque\n",
    "\n",
    "\n",
    "class Solution:\n",
    "\n",
    "    def shortestPathAllKeys(self, grid: List[str]) -> int:\n",
    "        rows, cols = len(grid), len(grid[0])\n",
    "        dirs = ((-1, 0), (0, -1), (0, 1), (1, 0))\n",
    "        q = deque([])\n",
    "        target = 0\n",
    "        for r in range(rows):\n",
    "            for c in range(cols):\n",
    "                if grid[r][c] == '@':\n",
    "                    si, ei = r, c\n",
    "                elif grid[r][c].islower():\n",
    "                    target += 1\n",
    "        target = (1 << target) - 1  # 目标状态 集齐所有钥匙\n",
    "        q.append((si, ei, 0, 0))  # r,c,state,step\n",
    "        vis = {(si, ei, 0)}  # r,c,state\n",
    "        while q:\n",
    "            r, c, state, step = q.popleft()\n",
    "            if state == target:\n",
    "                return step\n",
    "            for dr, dc in dirs:\n",
    "                if rows > (nr := r + dr) >= 0 <= (nc := c + dc) < cols:\n",
    "                    nei = grid[nr][nc]\n",
    "                    # 碰到墙壁 或 碰到锁没有对应钥匙\n",
    "                    if nei == '#' or (nei.isupper() and (state >> (ord(nei) - ord('A')) & 1) == 0):\n",
    "                        continue\n",
    "                    # 碰到钥匙的新状态\n",
    "                    nstate = state | (1 << (ord(nei) - ord('a'))) if nei.islower() else state\n",
    "                    # 是否访问过\n",
    "                    if (nr, nc, nstate) not in vis:\n",
    "                        q.append((nr, nc, nstate, step + 1))\n",
    "                        vis.add((nr, nc, nstate))\n",
    "        return -1\n",
    "\n",
    "\n",
    "s = Solution()\n",
    "s.shortestPathAllKeys([\"@.a.#\", \"###.#\", \"b.A.B\"])\n"
   ]
  },
  {
   "cell_type": "code",
   "execution_count": null,
   "metadata": {},
   "outputs": [],
   "source": []
  }
 ],
 "metadata": {
  "kernelspec": {
   "display_name": "Python 3.10.5 64-bit",
   "language": "python",
   "name": "python3"
  },
  "language_info": {
   "codemirror_mode": {
    "name": "ipython",
    "version": 3
   },
   "file_extension": ".py",
   "mimetype": "text/x-python",
   "name": "python",
   "nbconvert_exporter": "python",
   "pygments_lexer": "ipython3",
   "version": "3.10.5"
  },
  "orig_nbformat": 4,
  "vscode": {
   "interpreter": {
    "hash": "3196968d684371006099b3d55edeef8ed90365227a30deaef86e5d4aa8519be0"
   }
  }
 },
 "nbformat": 4,
 "nbformat_minor": 2
}
