{
 "cells": [
  {
   "cell_type": "code",
   "execution_count": 3,
   "metadata": {},
   "outputs": [
    {
     "data": {
      "text/plain": [
       "'0b11111'"
      ]
     },
     "execution_count": 3,
     "metadata": {},
     "output_type": "execute_result"
    }
   ],
   "source": [
    "bin((1<<5)-1)"
   ]
  },
  {
   "cell_type": "code",
   "execution_count": null,
   "metadata": {},
   "outputs": [],
   "source": [
    "class Solution:\n",
    "\n",
    "    def shortestPathAllKeys(self, grid: List[str]) -> int:\n",
    "        rows, cols = len(grid), len(grid[0])\n",
    "        t = lambda x: ord(x) - ord('a') if 'a' <= x <= 'f' else ord(x) - ord('A')\n",
    "        r, c = next((r, c) for r in range(rows) for c in range(cols) if grid[r][c] == '@')\n",
    "        target = (1 << sum('a' <= grid[r][c] <= 'f' for r in range(rows) for c in range(cols))) - 1\n",
    "        q = deque([(r, c, 0, 0)])\n",
    "        vis = {(r, c, 0)}\n",
    "        while q:\n",
    "            r, c, sta, step = q.popleft()\n",
    "            for nr, nc in (r + 1, c), (r - 1, c), (r, c + 1), (r, c - 1):\n",
    "                if rows > nr >= 0 <= nc < cols and (y := grid[nr][nc]) != '#':\n",
    "                    if 'A' <= y <= 'F' and 1 << t(y) & sta == 0:\n",
    "                        continue\n",
    "                    nsta = sta\n",
    "                    if 'a' <= y <= 'f':\n",
    "                        nsta |= (1 << t(y))\n",
    "                        if nsta == target:\n",
    "                            return step + 1\n",
    "                    if (nr, nc, nsta) in vis:\n",
    "                        continue\n",
    "                    vis.add((nr, nc, nsta))\n",
    "                    q.append((nr, nc, nsta, step + 1))\n",
    "        return -1"
   ]
  },
  {
   "cell_type": "code",
   "execution_count": 14,
   "metadata": {},
   "outputs": [
    {
     "name": "stdout",
     "output_type": "stream",
     "text": [
      "0b11 0 0\n"
     ]
    },
    {
     "data": {
      "text/plain": [
       "8"
      ]
     },
     "execution_count": 14,
     "metadata": {},
     "output_type": "execute_result"
    }
   ],
   "source": [
    "from typing import List\n",
    "from collections import deque\n",
    "\n",
    "\n",
    "class Solution:\n",
    "\n",
    "    def shortestPathAllKeys(self, grid: List[str]) -> int:\n",
    "        # sourcery skip: use-itertools-product\n",
    "        rows, cols = len(grid), len(grid[0])\n",
    "        dirs = ((-1, 0), (0, -1), (0, 1), (1, 0))\n",
    "        q = deque([])\n",
    "        target = 0\n",
    "        for r in range(rows):\n",
    "            for c in range(cols):\n",
    "                if grid[r][c] == '@':\n",
    "                    si, ei = r, c\n",
    "                elif grid[r][c].islower():\n",
    "                    target += 1\n",
    "        target = (1 << target) - 1  # 目标状态 集齐所有钥匙\n",
    "        q.append((si, ei, 0, 0))  # r,c,state,step\n",
    "        vis = {(si, ei, 0)}  # r,c,state\n",
    "        while q:\n",
    "            r, c, state, step = q.popleft()\n",
    "            if state == target:\n",
    "                return step\n",
    "            for dr, dc in dirs:\n",
    "                if rows > (nr := r + dr) >= 0 <= (nc := c + dc) < cols:\n",
    "                    nei = grid[nr][nc]\n",
    "                    # 碰到墙壁 或 碰到锁没有对应钥匙\n",
    "                    if nei == '#' or (nei.isupper() and (state >> (ord(nei) - ord('A')) & 1) == 0):\n",
    "                        continue\n",
    "                    # 碰到钥匙的新状态\n",
    "                    nstate = state | (1 << (ord(nei) - ord('a'))) if nei.islower() else state\n",
    "                    # 是否访问过\n",
    "                    if (nr, nc, nstate) not in vis:\n",
    "                        q.append((nr, nc, nstate, step + 1))\n",
    "                        vis.add((nr, nc, nstate))\n",
    "        return -1\n",
    "\n",
    "\n",
    "s = Solution()\n",
    "s.shortestPathAllKeys([\"@.a.#\", \"###.#\", \"b.A.B\"])\n"
   ]
  },
  {
   "cell_type": "code",
   "execution_count": 1,
   "metadata": {},
   "outputs": [
    {
     "data": {
      "text/plain": [
       "True"
      ]
     },
     "execution_count": 1,
     "metadata": {},
     "output_type": "execute_result"
    }
   ],
   "source": [
    "'a'.islower()"
   ]
  },
  {
   "cell_type": "code",
   "execution_count": 3,
   "metadata": {},
   "outputs": [],
   "source": [
    "from typing import List\n",
    "\n",
    "\n",
    "class Solution:\n",
    "\n",
    "    def shortestPathAllKeys(self, grid: List[str]) -> int:\n",
    "\n",
    "        def t(word):\n",
    "            base = ord('a') if word.islower() else ord('A')\n",
    "            return ord(word) - base\n",
    "\n",
    "        rows, cols = len(grid), len(grid[0])\n",
    "        cnt = 0\n",
    "        for r in range(rows):\n",
    "            for c in range(cols):\n",
    "                if grid[r][c] == '@':\n",
    "                    start = (r, c)\n",
    "                elif 'a' <= grid[r][c] <= 'f':\n",
    "                    cnt += 1\n",
    "        target = (1 << cnt) - 1\n",
    "        dirs = (1, 0), (-1, 0), (0, -1), (0, 1)\n",
    "        q = deque([(*start, 0, 0)])\n",
    "        vis = {(*start, 0)}\n",
    "        while q:\n",
    "            r, c, state, step = q.popleft()\n",
    "            for dr, dc in dirs:\n",
    "                nr, nc = r + dr, c + dc\n",
    "                if rows > nr >= 0 <= nc < cols and grid[nr][nc] != '#':\n",
    "                    nitem = grid[nr][nc]\n",
    "                    if 'a' <= nitem <= 'f':\n",
    "                        nstate = state | (1 << t(nitem))\n",
    "                        if nstate == target:\n",
    "                            return step + 1\n",
    "                        if (nr, nc, state) not in vis:\n",
    "                            vis.add((nr, nc, nstate))\n",
    "                            q.append((nr, nc, nstate, step + 1))\n",
    "                    elif 'A' <= nitem <= 'F':\n",
    "                        if (1 << t(nitem)) & state and (nr, nc, state) not in vis:\n",
    "                            vis.add((nr, nc, state))\n",
    "                            q.append((nr, nc, state, step + 1))\n",
    "                    else:\n",
    "                        if (nr, nc, state) not in vis:\n",
    "                            vis.add((nr, nc, state))\n",
    "                            q.append((nr, nc, state, step + 1))\n",
    "        return -1\n"
   ]
  },
  {
   "cell_type": "code",
   "execution_count": null,
   "metadata": {},
   "outputs": [],
   "source": [
    "from typing import List\n",
    "\n",
    "\n",
    "class Solution:\n",
    "\n",
    "    def shortestPathAllKeys(self, grid: List[str]) -> int:\n",
    "\n",
    "        def t(word):\n",
    "            base = ord('a') if word.islower() else ord('A')\n",
    "            return ord(word) - base\n",
    "\n",
    "        rows, cols = len(grid), len(grid[0])\n",
    "\n",
    "        start = next((r, c) for r in range(rows) for c in range(cols) if grid[r][c] == '@')\n",
    "        cnt = sum('a' <= grid[r][c] <= 'f' for r in range(rows) for c in range(cols))\n",
    "        target = (1 << cnt) - 1\n",
    "        dirs = (1, 0), (-1, 0), (0, -1), (0, 1)\n",
    "        q = deque([(*start, 0, 0)])\n",
    "        vis = {(*start, 0)}\n",
    "        while q:\n",
    "            r, c, state, step = q.popleft()\n",
    "            for dr, dc in dirs:\n",
    "                nr, nc = r + dr, c + dc\n",
    "                if rows > nr >= 0 <= nc < cols:\n",
    "                    nitem = grid[nr][nc]\n",
    "                    if nitem == '#' or 'A' <= nitem <= 'F' and (1 << t(nitem)) & state == 0:\n",
    "                        continue\n",
    "                    if 'a' <= grid[nr][nc] <= 'f':\n",
    "                        nstate = (1 << t(grid[nr][nc])) | state\n",
    "                        if nstate == target:\n",
    "                            return step + 1\n",
    "                    else:\n",
    "                        nstate = state\n",
    "                    if (nr, nc, nstate) not in vis:\n",
    "                        vis.add((nr, nc, nstate))\n",
    "                        q.append((nr, nc, nstate, step + 1))\n",
    "        return -1"
   ]
  }
 ],
 "metadata": {
  "kernelspec": {
   "display_name": "Python 3",
   "language": "python",
   "name": "python3"
  },
  "language_info": {
   "codemirror_mode": {
    "name": "ipython",
    "version": 3
   },
   "file_extension": ".py",
   "mimetype": "text/x-python",
   "name": "python",
   "nbconvert_exporter": "python",
   "pygments_lexer": "ipython3",
   "version": "3.10.5"
  },
  "orig_nbformat": 4,
  "vscode": {
   "interpreter": {
    "hash": "ff4b1fca65a764b45acb559e482afe389d289dd599b9f8c5fd12ff5c2ea46a65"
   }
  }
 },
 "nbformat": 4,
 "nbformat_minor": 2
}
