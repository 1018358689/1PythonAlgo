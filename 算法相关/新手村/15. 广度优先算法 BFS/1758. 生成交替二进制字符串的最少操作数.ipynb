{
 "cells": [
  {
   "cell_type": "code",
   "execution_count": 10,
   "metadata": {},
   "outputs": [
    {
     "data": {
      "text/plain": [
       "'101'"
      ]
     },
     "execution_count": 10,
     "metadata": {},
     "output_type": "execute_result"
    }
   ],
   "source": [
    "([1,0]*10)[:3]\n",
    "('10'*10)[:3]"
   ]
  },
  {
   "cell_type": "code",
   "execution_count": 17,
   "metadata": {},
   "outputs": [
    {
     "data": {
      "text/plain": [
       "1"
      ]
     },
     "execution_count": 17,
     "metadata": {},
     "output_type": "execute_result"
    }
   ],
   "source": [
    "from collections import deque\n",
    "\n",
    "\n",
    "class Solution:\n",
    "\n",
    "    def minOperations(self, s: str) -> int:\n",
    "        n = len(s)\n",
    "        target = {('10' * (n + 1 >> 1))[:n], ('01' * (n + 1 >> 1))[:n]}\n",
    "        q = deque([(s, 0)])\n",
    "        vis = {s}\n",
    "        while q:\n",
    "            cur, step = q.popleft()\n",
    "            if cur in target:\n",
    "                return step\n",
    "            for i in range(n):\n",
    "                nei = f'{cur[:i]}{1 - int(cur[i])}{cur[i + 1:]}'\n",
    "                if nei not in vis:\n",
    "                    vis.add(nei)\n",
    "                    q.append((nei, step + 1))\n",
    "\n",
    "\n",
    "s = Solution()\n",
    "s.minOperations('0100')"
   ]
  },
  {
   "cell_type": "code",
   "execution_count": 13,
   "metadata": {},
   "outputs": [
    {
     "data": {
      "text/plain": [
       "383"
      ]
     },
     "execution_count": 13,
     "metadata": {},
     "output_type": "execute_result"
    }
   ],
   "source": [
    "class Solution:\n",
    "\n",
    "    def minOperations(self, s: str) -> int:\n",
    "        ans = 0\n",
    "        for i, n in enumerate(s):\n",
    "            ans += int(n) == (i & 1)\n",
    "        return min(ans, len(s) - ans)\n",
    "\n",
    "\n",
    "s = Solution()\n",
    "s.minOperations(\n",
    "    \"1011101101111011010000110100001000011100101011111011100010111110110101000001101000011111010110011000001111101111011111111001110100011001011101100100110110111010101100111011001101010111010010101100000001100111101010000001010101110110011011010010000110010000011111011100110111000010111110101110010010100011010100010011100010011101011111110001001011000011101000101111111011111101100110011100100100011001101001101111011111110011100111010001000111111111101001111011110011111100101000000000110101110101011001000010110111101101010000111100101101001010110011010001111010110010001111100010000010111001111000000011110011000010011011000011001000000011010101011111011111011101000100100001111110010101011010100010111011101101101010001000010011111010100110101110000101110110100110101010011100\"\n",
    ")\n"
   ]
  },
  {
   "cell_type": "code",
   "execution_count": 18,
   "metadata": {},
   "outputs": [
    {
     "data": {
      "text/plain": [
       "383"
      ]
     },
     "execution_count": 18,
     "metadata": {},
     "output_type": "execute_result"
    }
   ],
   "source": [
    "class Solution:\n",
    "\n",
    "    def minOperations(self, s: str) -> int:\n",
    "        ans = sum(int(n) == (i & 1) for i, n in enumerate(s))\n",
    "        return min(ans, len(s) - ans)\n",
    "\n",
    "\n",
    "s = Solution()\n",
    "s.minOperations(\n",
    "    \"1011101101111011010000110100001000011100101011111011100010111110110101000001101000011111010110011000001111101111011111111001110100011001011101100100110110111010101100111011001101010111010010101100000001100111101010000001010101110110011011010010000110010000011111011100110111000010111110101110010010100011010100010011100010011101011111110001001011000011101000101111111011111101100110011100100100011001101001101111011111110011100111010001000111111111101001111011110011111100101000000000110101110101011001000010110111101101010000111100101101001010110011010001111010110010001111100010000010111001111000000011110011000010011011000011001000000011010101011111011111011101000100100001111110010101011010100010111011101101101010001000010011111010100110101110000101110110100110101010011100\"\n",
    ")\n"
   ]
  },
  {
   "cell_type": "code",
   "execution_count": 19,
   "metadata": {},
   "outputs": [
    {
     "data": {
      "text/plain": [
       "1"
      ]
     },
     "execution_count": 19,
     "metadata": {},
     "output_type": "execute_result"
    }
   ],
   "source": [
    "class Solution:\n",
    "\n",
    "    def minOperations(self, s: str) -> int:\n",
    "        # dp[i][0/1] 前i个字符 形成结尾0/1交替字符的最少操作数\n",
    "        # dp[i][0] = dp[i-1][1] if s[i-1]=='0' else dp[i-1][1]+1\n",
    "        # dp[i][1] = dp[i-1][0] if s[i-1]=='1' else dp[i-1][0]+1\n",
    "        # dp[0][0/1] = 0\n",
    "        n = len(s)\n",
    "        dp = [[0] * 2 for _ in range(n + 1)]\n",
    "        for i in range(1, n + 1):\n",
    "            dp[i][0] = dp[i - 1][1] if s[i - 1] == '0' else dp[i - 1][1] + 1\n",
    "            dp[i][1] = dp[i - 1][0] if s[i - 1] == '1' else dp[i - 1][0] + 1\n",
    "        return min(dp[-1])\n",
    "\n",
    "\n",
    "s = Solution()\n",
    "s.minOperations('0100')"
   ]
  },
  {
   "cell_type": "code",
   "execution_count": null,
   "metadata": {},
   "outputs": [],
   "source": []
  }
 ],
 "metadata": {
  "kernelspec": {
   "display_name": "Python 3.10.5 64-bit",
   "language": "python",
   "name": "python3"
  },
  "language_info": {
   "codemirror_mode": {
    "name": "ipython",
    "version": 3
   },
   "file_extension": ".py",
   "mimetype": "text/x-python",
   "name": "python",
   "nbconvert_exporter": "python",
   "pygments_lexer": "ipython3",
   "version": "3.10.5"
  },
  "orig_nbformat": 4,
  "vscode": {
   "interpreter": {
    "hash": "3196968d684371006099b3d55edeef8ed90365227a30deaef86e5d4aa8519be0"
   }
  }
 },
 "nbformat": 4,
 "nbformat_minor": 2
}
