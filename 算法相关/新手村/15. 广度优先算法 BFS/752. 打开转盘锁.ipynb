{
 "cells": [
  {
   "cell_type": "code",
   "execution_count": 2,
   "metadata": {},
   "outputs": [
    {
     "name": "stdout",
     "output_type": "stream",
     "text": [
      "1210\n",
      "9210\n",
      "0310\n",
      "0110\n",
      "0220\n",
      "0200\n",
      "0211\n",
      "0219\n"
     ]
    }
   ],
   "source": [
    "def adj(x):\n",
    "    for i in range(4):\n",
    "        yield x[:i]+str((int(x[i])+1)%10)+x[i+1:]\n",
    "        yield x[:i]+str((int(x[i])-1)%10)+x[i+1:]\n",
    "for j in adj('0210'):\n",
    "    print(j)"
   ]
  },
  {
   "cell_type": "code",
   "execution_count": null,
   "metadata": {},
   "outputs": [],
   "source": [
    "from typing import List\n",
    "from collections import deque\n",
    "\n",
    "\n",
    "class Solution:\n",
    "\n",
    "    def openLock(self, deadends: List[str], target: str) -> int:\n",
    "\n",
    "        def adj(x):\n",
    "            for i in range(4):\n",
    "                yield x[:i] + str((int(x[i]) + 1) % 10) + x[i + 1:]\n",
    "                yield x[:i] + str((int(x[i]) - 1) % 10) + x[i + 1:]\n",
    "\n",
    "        if '0000' in deadends:\n",
    "            return -1\n",
    "        if target == '0000':\n",
    "            return 0\n",
    "        q = deque([('0000', 0)])\n",
    "        deadends.add('0000')\n",
    "        while q:\n",
    "            x, step = q.popleft()\n",
    "            for y in adj(x):\n",
    "                if y not in deadends:\n",
    "                    if y == target:\n",
    "                        return step + 1\n",
    "                    deadends.add(y)\n",
    "                    q.append((y, step + 1))\n",
    "        return -1"
   ]
  }
 ],
 "metadata": {
  "kernelspec": {
   "display_name": "Python 3",
   "language": "python",
   "name": "python3"
  },
  "language_info": {
   "codemirror_mode": {
    "name": "ipython",
    "version": 3
   },
   "file_extension": ".py",
   "mimetype": "text/x-python",
   "name": "python",
   "nbconvert_exporter": "python",
   "pygments_lexer": "ipython3",
   "version": "3.11.1 (tags/v3.11.1:a7a450f, Dec  6 2022, 19:58:39) [MSC v.1934 64 bit (AMD64)]"
  },
  "orig_nbformat": 4,
  "vscode": {
   "interpreter": {
    "hash": "ff4b1fca65a764b45acb559e482afe389d289dd599b9f8c5fd12ff5c2ea46a65"
   }
  }
 },
 "nbformat": 4,
 "nbformat_minor": 2
}
