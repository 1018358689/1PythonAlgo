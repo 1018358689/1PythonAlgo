{
 "cells": [
  {
   "cell_type": "code",
   "execution_count": 15,
   "metadata": {},
   "outputs": [
    {
     "data": {
      "text/plain": [
       "-11662"
      ]
     },
     "execution_count": 15,
     "metadata": {},
     "output_type": "execute_result"
    }
   ],
   "source": [
    "from collections import deque\n",
    "from typing import List\n",
    "\n",
    "\n",
    "class Solution:\n",
    "\n",
    "    def mostProfitablePath(self, edges: List[List[int]], bob: int, amount: List[int]) -> int:\n",
    "        # 0.布置\n",
    "        adj = [[] for _ in range(len(amount))]\n",
    "        for i, j in edges:\n",
    "            adj[i].append(j)\n",
    "            adj[j].append(i)\n",
    "        # 1.bob往0走 并路径记录\n",
    "        parent = {bob: None}\n",
    "        q = deque([(bob, 0)])\n",
    "        while q:\n",
    "            cur, step = q.popleft()\n",
    "            for nei in adj[cur]:\n",
    "                if nei not in parent:\n",
    "                    q.append((nei, step + 1))\n",
    "                    parent[nei] = cur\n",
    "                    if nei == 0:\n",
    "                        break\n",
    "            else:\n",
    "                continue\n",
    "            break\n",
    "        cur = 0\n",
    "        path = {}\n",
    "        while cur is not None:\n",
    "            path[cur] = step + 1\n",
    "            cur = parent[cur]\n",
    "            step -= 1\n",
    "        # 2.alice开始走\n",
    "        q = deque([(0, 0, 0)])  # cur,step,pathcost前面消费\n",
    "        vis = set()\n",
    "        ans = float('-inf')\n",
    "        while q:\n",
    "            cur, step, cost = q.popleft()\n",
    "            if cur not in vis:\n",
    "                if cur not in path or step < path[cur]:\n",
    "                    cost += amount[cur]\n",
    "                elif step == path[cur]:\n",
    "                    cost += amount[cur] // 2\n",
    "                if cur != 0 and len(adj[cur]) == 1:\n",
    "                    ans = max(ans, cost)\n",
    "                vis.add(cur)\n",
    "                for nei in adj[cur]:\n",
    "                    q.append((nei, step + 1, cost))\n",
    "        return ans\n",
    "\n",
    "\n",
    "s = Solution()\n",
    "s.mostProfitablePath([[0, 1], [1, 2], [2, 3]], 3, [-5644, -6018, 1188, -8502])"
   ]
  },
  {
   "cell_type": "code",
   "execution_count": 12,
   "metadata": {},
   "outputs": [
    {
     "name": "stdout",
     "output_type": "stream",
     "text": [
      "{3: None, 1: 3, 4: 3, 0: 1} 2\n"
     ]
    },
    {
     "data": {
      "text/plain": [
       "6"
      ]
     },
     "execution_count": 12,
     "metadata": {},
     "output_type": "execute_result"
    }
   ],
   "source": [
    "from collections import defaultdict, deque\n",
    "from math import inf\n",
    "from typing import List\n",
    "\n",
    "\n",
    "class Solution:\n",
    "\n",
    "    def mostProfitablePath(self, edges: List[List[int]], bob: int, amount: List[int]) -> int:\n",
    "        # 0.布置\n",
    "        adj = [[] for _ in range(len(amount))]\n",
    "        for i, j in edges:\n",
    "            adj[i].append(j)\n",
    "            adj[j].append(i)\n",
    "        # 1.bob往0走 并路径记录\n",
    "        parent = {}\n",
    "        q = deque([(bob, None, 0)]) # cur,fa,step\n",
    "        while q:\n",
    "            cur, fa, step = q.popleft()\n",
    "            parent[cur] = fa\n",
    "            if cur == 0:\n",
    "                break\n",
    "            for nei in adj[cur]:\n",
    "                if nei == fa:\n",
    "                    continue\n",
    "                q.append((nei, cur, step + 1))\n",
    "        cur = 0\n",
    "        path = defaultdict(lambda: inf)\n",
    "        while cur is not None:\n",
    "            path[cur] = step\n",
    "            cur = parent[cur]\n",
    "            step -= 1\n",
    "        # 2.alice开始走\n",
    "        adj[0].append(-1)\n",
    "        q = deque([(0, 0, -1, 0)])  # cur,step,fa,cost前面消费\n",
    "        ans = -inf\n",
    "        while q:\n",
    "            cur, step, fa, cost = q.popleft()\n",
    "            if step < path[cur]:\n",
    "                cost += amount[cur]\n",
    "            elif step == path[cur]:\n",
    "                cost += amount[cur] // 2\n",
    "            if len(adj[cur]) == 1:\n",
    "                ans = max(ans, cost)\n",
    "            for nei in adj[cur]:\n",
    "                if nei != fa:\n",
    "                    q.append((nei, step + 1, cur, cost))\n",
    "        return ans\n",
    "\n",
    "\n",
    "s = Solution()\n",
    "# s.mostProfitablePath([[0, 1], [1, 2], [2, 3]], 3, [-5644, -6018, 1188, -8502])\n",
    "s.mostProfitablePath([[0, 1], [1, 2], [1, 3], [3, 4]], 3, [-2, 4, 2, -4, 6])"
   ]
  },
  {
   "cell_type": "code",
   "execution_count": 15,
   "metadata": {},
   "outputs": [
    {
     "data": {
      "text/plain": [
       "-7280"
      ]
     },
     "execution_count": 15,
     "metadata": {},
     "output_type": "execute_result"
    }
   ],
   "source": [
    "from typing import List\n",
    "from math import inf\n",
    "\n",
    "\n",
    "class Solution:\n",
    "\n",
    "    def mostProfitablePath(self, edges: List[List[int]], bob: int, amount: List[int]) -> int:\n",
    "        n = len(amount)\n",
    "        adj = [[] for _ in range(n)]\n",
    "        for i, j in edges:\n",
    "            adj[i].append(j)\n",
    "            adj[j].append(i)\n",
    "        bob_time = [inf] * n\n",
    "\n",
    "        def bob_dfs(x, fa, t):  # 从x出发能否到达0\n",
    "            if x == 0:\n",
    "                bob_time[x] = t\n",
    "                return True\n",
    "            for y in adj[x]:\n",
    "                if y != fa and bob_dfs(y, x, t + 1):\n",
    "                    bob_time[x] = t\n",
    "                    return True\n",
    "            return False\n",
    "\n",
    "        bob_dfs(bob, -1, 0)\n",
    "        adj[0].append(-1)\n",
    "        ans = -inf\n",
    "\n",
    "        def alice_dfs(x, fa, t, tot):  # 从0找叶子结点\n",
    "            if t < bob_time[x]:\n",
    "                tot += amount[x]\n",
    "            elif t == bob_time[x]:\n",
    "                tot += amount[x] // 2\n",
    "            if len(adj[x]) == 1:\n",
    "                nonlocal ans\n",
    "                ans = max(ans, tot)\n",
    "                return\n",
    "            for y in adj[x]:\n",
    "                if y != fa:\n",
    "                    alice_dfs(y, x, t + 1, tot)\n",
    "\n",
    "        alice_dfs(0, -1, 0, 0)\n",
    "        return ans\n",
    "\n",
    "\n",
    "s = Solution()\n",
    "s.mostProfitablePath([[0, 1]], 1, [-7280, 2350])\n"
   ]
  },
  {
   "cell_type": "code",
   "execution_count": null,
   "metadata": {},
   "outputs": [],
   "source": []
  }
 ],
 "metadata": {
  "kernelspec": {
   "display_name": "Python 3.10.5 64-bit",
   "language": "python",
   "name": "python3"
  },
  "language_info": {
   "codemirror_mode": {
    "name": "ipython",
    "version": 3
   },
   "file_extension": ".py",
   "mimetype": "text/x-python",
   "name": "python",
   "nbconvert_exporter": "python",
   "pygments_lexer": "ipython3",
   "version": "3.10.5"
  },
  "orig_nbformat": 4,
  "vscode": {
   "interpreter": {
    "hash": "3196968d684371006099b3d55edeef8ed90365227a30deaef86e5d4aa8519be0"
   }
  }
 },
 "nbformat": 4,
 "nbformat_minor": 2
}
