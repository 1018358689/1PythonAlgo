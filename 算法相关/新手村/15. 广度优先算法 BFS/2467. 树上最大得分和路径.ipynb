{
 "cells": [
  {
   "cell_type": "code",
   "execution_count": 15,
   "metadata": {},
   "outputs": [
    {
     "data": {
      "text/plain": [
       "-11662"
      ]
     },
     "execution_count": 15,
     "metadata": {},
     "output_type": "execute_result"
    }
   ],
   "source": [
    "from typing import List\n",
    "from collections import deque\n",
    "\n",
    "\n",
    "class Solution:\n",
    "\n",
    "    def mostProfitablePath(self, edges: List[List[int]], bob: int, amount: List[int]) -> int:\n",
    "        # 0.布置\n",
    "        adj = [[] for _ in range(len(amount))]\n",
    "        for i, j in edges:\n",
    "            adj[i].append(j)\n",
    "            adj[j].append(i)\n",
    "        # 1.bob往0走 并路径记录\n",
    "        parent = {bob: None}\n",
    "        q = deque([(bob, 0)])\n",
    "        while q:\n",
    "            cur, step = q.popleft()\n",
    "            for nei in adj[cur]:\n",
    "                if nei not in parent:\n",
    "                    q.append((nei, step + 1))\n",
    "                    parent[nei] = cur\n",
    "                    if nei == 0:\n",
    "                        break\n",
    "            else:\n",
    "                continue\n",
    "            break\n",
    "        cur = 0\n",
    "        path = {}\n",
    "        while cur is not None:\n",
    "            path[cur] = step + 1\n",
    "            cur = parent[cur]\n",
    "            step -= 1\n",
    "        # 2.alice开始走\n",
    "        q = deque([(0, 0, 0)])  # cur,step,pathcost前面消费\n",
    "        vis = set()\n",
    "        ans = float('-inf')\n",
    "        while q:\n",
    "            cur, step, cost = q.popleft()\n",
    "            if cur not in vis:\n",
    "                if cur not in path or step < path[cur]:\n",
    "                    cost += amount[cur]\n",
    "                elif step == path[cur]:\n",
    "                    cost += amount[cur] // 2\n",
    "                if cur != 0 and len(adj[cur]) == 1:\n",
    "                    ans = max(ans, cost)\n",
    "                vis.add(cur)\n",
    "                for nei in adj[cur]:\n",
    "                    q.append((nei, step + 1, cost))\n",
    "        return ans\n",
    "\n",
    "\n",
    "s = Solution()\n",
    "s.mostProfitablePath([[0, 1], [1, 2], [2, 3]], 3, [-5644, -6018, 1188, -8502])"
   ]
  },
  {
   "cell_type": "code",
   "execution_count": null,
   "metadata": {},
   "outputs": [],
   "source": []
  }
 ],
 "metadata": {
  "kernelspec": {
   "display_name": "Python 3.10.5 64-bit",
   "language": "python",
   "name": "python3"
  },
  "language_info": {
   "codemirror_mode": {
    "name": "ipython",
    "version": 3
   },
   "file_extension": ".py",
   "mimetype": "text/x-python",
   "name": "python",
   "nbconvert_exporter": "python",
   "pygments_lexer": "ipython3",
   "version": "3.10.5"
  },
  "orig_nbformat": 4,
  "vscode": {
   "interpreter": {
    "hash": "3196968d684371006099b3d55edeef8ed90365227a30deaef86e5d4aa8519be0"
   }
  }
 },
 "nbformat": 4,
 "nbformat_minor": 2
}
