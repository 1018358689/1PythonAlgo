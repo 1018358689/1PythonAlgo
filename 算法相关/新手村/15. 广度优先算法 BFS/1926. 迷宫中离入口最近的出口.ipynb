{
 "cells": [
  {
   "cell_type": "code",
   "execution_count": null,
   "metadata": {},
   "outputs": [],
   "source": [
    "class Solution:\n",
    "\n",
    "    def nearestExit(self, maze: List[List[str]], entrance: List[int]) -> int:\n",
    "        m, n = len(maze), len(maze[0])\n",
    "        q = [entrance]\n",
    "        maze[entrance[0]][entrance[1]] = '+'\n",
    "        step = 0\n",
    "        tmp = []\n",
    "        while q:\n",
    "            for i, j in q:\n",
    "                for ni, nj in (i + 1, j), (i - 1, j), (i, j + 1), (i, j - 1):\n",
    "                    if m > ni >= 0 <= nj < n and maze[ni][nj] == '.':\n",
    "                        if ni in {0, m - 1} or nj in {0, n - 1}:\n",
    "                            return step + 1\n",
    "                        maze[ni][nj] = '+'\n",
    "                        tmp.append((ni, nj))\n",
    "            step += 1\n",
    "            q = tmp[:]\n",
    "            tmp.clear()\n",
    "        return -1"
   ]
  },
  {
   "cell_type": "code",
   "execution_count": null,
   "metadata": {},
   "outputs": [],
   "source": [
    "class Solution:\n",
    "\n",
    "    def nearestExit(self, maze: List[List[str]], entrance: List[int]) -> int:\n",
    "        rows, cols = len(maze), len(maze[0])\n",
    "        q = deque([entrance])\n",
    "        maze[entrance[0]][entrance[1]] = '+'\n",
    "        step = 0\n",
    "        while q:\n",
    "            for _ in range(len(q)):\n",
    "                r, c = q.popleft()\n",
    "                for nr, nc in (r + 1, c), (r - 1, c), (r, c + 1), (r, c - 1):\n",
    "                    if rows > nr >= 0 <= nc < cols and maze[nr][nc] == '.':\n",
    "                        if nr == 0 or nr == rows - 1 or nc == 0 or nc == cols - 1:\n",
    "                            return step + 1\n",
    "                        maze[nr][nc] = '+'\n",
    "                        q.append((nr, nc))\n",
    "            step += 1\n",
    "        return -1"
   ]
  },
  {
   "cell_type": "code",
   "execution_count": 1,
   "metadata": {},
   "outputs": [
    {
     "data": {
      "text/plain": [
       "9"
      ]
     },
     "execution_count": 1,
     "metadata": {},
     "output_type": "execute_result"
    }
   ],
   "source": [
    "from math import lcm\n",
    "\n",
    "\n",
    "lcm(9,3)"
   ]
  },
  {
   "cell_type": "code",
   "execution_count": null,
   "metadata": {},
   "outputs": [],
   "source": []
  }
 ],
 "metadata": {
  "kernelspec": {
   "display_name": "Python 3",
   "language": "python",
   "name": "python3"
  },
  "language_info": {
   "codemirror_mode": {
    "name": "ipython",
    "version": 3
   },
   "file_extension": ".py",
   "mimetype": "text/x-python",
   "name": "python",
   "nbconvert_exporter": "python",
   "pygments_lexer": "ipython3",
   "version": "3.11.3"
  },
  "orig_nbformat": 4
 },
 "nbformat": 4,
 "nbformat_minor": 2
}
