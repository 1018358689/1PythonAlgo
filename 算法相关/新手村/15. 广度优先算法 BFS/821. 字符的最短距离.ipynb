{
 "cells": [
  {
   "cell_type": "code",
   "execution_count": 2,
   "metadata": {},
   "outputs": [
    {
     "data": {
      "text/plain": [
       "[3, 2, 1, 0, 1, 0, 0, 1, 2, 2, 1, 0]"
      ]
     },
     "execution_count": 2,
     "metadata": {},
     "output_type": "execute_result"
    }
   ],
   "source": [
    "from collections import deque\n",
    "\n",
    "\n",
    "def f(s, c):\n",
    "    ans = [0] * len(s)\n",
    "    q = deque([])\n",
    "    vis = set()\n",
    "    for i, n in enumerate(s):\n",
    "        if n == c:\n",
    "            q.append((i, 0))\n",
    "            vis.add(i)\n",
    "\n",
    "    while q:\n",
    "        cur, step = q.popleft()\n",
    "        for nei in {cur + 1, cur - 1}:\n",
    "            if 0 <= nei < len(s) and nei not in vis:\n",
    "                ans[nei] = step + 1\n",
    "                q.append((nei, step + 1))\n",
    "                vis.add(nei)\n",
    "    return ans\n",
    "\n",
    "\n",
    "f('loveleetcode', 'e')\n"
   ]
  },
  {
   "cell_type": "code",
   "execution_count": 7,
   "metadata": {},
   "outputs": [
    {
     "data": {
      "text/plain": [
       "[3, 2, 1, 0, 1, 0, 0, 1, 2, 2, 1, 0]"
      ]
     },
     "execution_count": 7,
     "metadata": {},
     "output_type": "execute_result"
    }
   ],
   "source": [
    "def f(s, c):\n",
    "    lr = [0] * len(s)\n",
    "    local = float('inf')\n",
    "    for i, n in enumerate(s):\n",
    "        if n == c:\n",
    "            local = 0\n",
    "        else:\n",
    "            local += 1\n",
    "        lr[i] = local\n",
    "    local = float('inf')\n",
    "    for i in range(len(s) - 1, -1, -1):\n",
    "        if s[i] == c:\n",
    "            local = 0\n",
    "        else:\n",
    "            local += 1\n",
    "        lr[i] = min(lr[i], local)\n",
    "    return lr\n",
    "\n",
    "\n",
    "f('loveleetcode', 'e')\n"
   ]
  },
  {
   "cell_type": "code",
   "execution_count": null,
   "metadata": {},
   "outputs": [],
   "source": []
  }
 ],
 "metadata": {
  "interpreter": {
   "hash": "a5f34674cfcc9b13426a2d112c686bc132e4ef443f1487e707e7c3787d6bcf89"
  },
  "kernelspec": {
   "display_name": "Python 3.10.4 64-bit (windows store)",
   "language": "python",
   "name": "python3"
  },
  "language_info": {
   "codemirror_mode": {
    "name": "ipython",
    "version": 3
   },
   "file_extension": ".py",
   "mimetype": "text/x-python",
   "name": "python",
   "nbconvert_exporter": "python",
   "pygments_lexer": "ipython3",
   "version": "3.10.4"
  },
  "orig_nbformat": 4
 },
 "nbformat": 4,
 "nbformat_minor": 2
}
