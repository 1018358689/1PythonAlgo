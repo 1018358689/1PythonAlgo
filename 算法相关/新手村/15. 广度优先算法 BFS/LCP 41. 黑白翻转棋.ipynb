{
 "cells": [
  {
   "cell_type": "markdown",
   "metadata": {},
   "source": [
    "从 '.' 开始进行BFS，然后寻找8个方向的 'O' 。如果存在 'O' ，就沿着这个方向继续寻找 'O' ，直到找到 'X'。将沿途的 'O' 添加到stack中，继续进行BFS。"
   ]
  },
  {
   "cell_type": "code",
   "execution_count": 26,
   "metadata": {},
   "outputs": [
    {
     "data": {
      "text/plain": [
       "4"
      ]
     },
     "execution_count": 26,
     "metadata": {},
     "output_type": "execute_result"
    }
   ],
   "source": [
    "from typing import List\n",
    "from collections import deque\n",
    "\n",
    "\n",
    "class Solution:\n",
    "\n",
    "    def flipChess(self, chessboard: List[str]) -> int:\n",
    "        rows, cols = len(chessboard), len(chessboard[0])\n",
    "        direct = ((-1, -1), (-1, 0), (-1, 1), (0, -1), (0, 1), (1, -1), (1, 0), (1, 1))\n",
    "\n",
    "        def bfs(r, c):\n",
    "            q = deque([(r, c)])\n",
    "            isX = {(r, c)}\n",
    "            ans = 0\n",
    "            while q:\n",
    "                r, c = q.popleft()\n",
    "                for dr, dc in direct:\n",
    "                    nr, nc = r + dr, c + dc\n",
    "                    isO = set()\n",
    "                    while rows > nr >= 0 <= nc < cols and chessboard[nr][nc] != '.':\n",
    "                        if (nr, nc) in isX or chessboard[nr][nc] == 'X':\n",
    "                            ans += len(isO)\n",
    "                            q += list(isO)\n",
    "                            isX |= isO\n",
    "                            break\n",
    "                        # chessboard[nr][nc] == 'O':\n",
    "                        isO.add((nr, nc))\n",
    "                        nr += dr\n",
    "                        nc += dc\n",
    "            return ans\n",
    "\n",
    "        ans = 0\n",
    "        for r in range(rows):\n",
    "            for c in range(cols):\n",
    "                if chessboard[r][c] == '.':\n",
    "                    ans = max(ans, bfs(r, c))\n",
    "        return ans\n",
    "\n",
    "\n",
    "s = Solution()\n",
    "s.flipChess([\".......\", \".......\", \".......\", \"X......\", \".O.....\", \"..O....\", \"....OOX\"])\n"
   ]
  },
  {
   "cell_type": "code",
   "execution_count": null,
   "metadata": {},
   "outputs": [],
   "source": []
  }
 ],
 "metadata": {
  "kernelspec": {
   "display_name": "Python 3.10.5 64-bit",
   "language": "python",
   "name": "python3"
  },
  "language_info": {
   "codemirror_mode": {
    "name": "ipython",
    "version": 3
   },
   "file_extension": ".py",
   "mimetype": "text/x-python",
   "name": "python",
   "nbconvert_exporter": "python",
   "pygments_lexer": "ipython3",
   "version": "3.10.5"
  },
  "orig_nbformat": 4,
  "vscode": {
   "interpreter": {
    "hash": "3196968d684371006099b3d55edeef8ed90365227a30deaef86e5d4aa8519be0"
   }
  }
 },
 "nbformat": 4,
 "nbformat_minor": 2
}
