{
 "cells": [
  {
   "cell_type": "code",
   "execution_count": null,
   "metadata": {},
   "outputs": [],
   "source": [
    "from collections import deque\n",
    "from typing import List\n",
    "\n",
    "\n",
    "class Solution:\n",
    "\n",
    "    def wallsAndGates(self, rooms: List[List[int]]) -> None:\n",
    "        \"\"\"\n",
    "        Do not return anything, modify rooms in-place instead.\n",
    "        \"\"\"\n",
    "        rows, cols = len(rooms), len(rooms[0])\n",
    "        q = deque([])\n",
    "        for r in range(rows):\n",
    "            for c in range(cols):\n",
    "                if rooms[r][c] == 0:\n",
    "                    q.append((r, c, 0))\n",
    "        while q:\n",
    "            r, c, step = q.popleft()\n",
    "            for nr, nc in (r - 1, c), (r + 1, c), (r, c - 1), (r, c + 1):\n",
    "                if rows > nr >= 0 <= nc < cols and step + 1 < rooms[nr][nc]:\n",
    "                    q.append((nr, nc, step + 1))\n",
    "                    rooms[nr][nc] = step + 1\n"
   ]
  }
 ],
 "metadata": {
  "language_info": {
   "name": "python"
  },
  "orig_nbformat": 4
 },
 "nbformat": 4,
 "nbformat_minor": 2
}
