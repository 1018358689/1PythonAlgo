{
 "cells": [
  {
   "cell_type": "code",
   "execution_count": 17,
   "metadata": {},
   "outputs": [
    {
     "data": {
      "text/plain": [
       "3"
      ]
     },
     "execution_count": 17,
     "metadata": {},
     "output_type": "execute_result"
    }
   ],
   "source": [
    "from typing import List\n",
    "from collections import deque\n",
    "# BFS 超时\n",
    "\n",
    "class Solution:\n",
    "\n",
    "    def searchLeft(self, nums, target):  # >target\n",
    "        l, r = 0, len(nums) - 1\n",
    "        while l <= r:\n",
    "            m = l + r >> 1\n",
    "            if nums[m][0] > target:\n",
    "                r = m - 1\n",
    "            else:\n",
    "                l = m + 1\n",
    "        return l if l < len(nums) else -1  # -1意味着已经到达最后一个加油站\n",
    "\n",
    "    def searchRight(self, nums, target):  # <=target\n",
    "        l, r = 0, len(nums) - 1\n",
    "        while l <= r:\n",
    "            m = l + r >> 1\n",
    "            if nums[m][0] <= target:\n",
    "                l = m + 1\n",
    "            else:\n",
    "                r = m - 1\n",
    "        return r if r >= 0 else -1  # -1 意味着没法达到下一个加油站\n",
    "\n",
    "    def minRefuelStops(self, target: int, startFuel: int, stations: List[List[int]]) -> int:\n",
    "        q = deque([(0, 0, startFuel)])  # 步数 位置 加好油的剩余油量\n",
    "        vis = {(0, startFuel)}\n",
    "        while q:\n",
    "            step, cur, fuel = q.popleft()\n",
    "            left = self.searchLeft(stations, cur)\n",
    "            right = self.searchRight(stations, cur + fuel)\n",
    "            if cur + fuel >= target:\n",
    "                return step\n",
    "            if left == -1:\n",
    "                continue\n",
    "            if right == -1:\n",
    "                continue\n",
    "            for i in range(right, left - 1, -1):\n",
    "                nei, neiFuel = stations[i][0], stations[i][1]\n",
    "                neiFuel = fuel + neiFuel - (nei - cur)\n",
    "                if (nei, neiFuel) in vis:\n",
    "                    continue\n",
    "                vis.add((nei, neiFuel))\n",
    "                q.append((step + 1, nei, neiFuel))\n",
    "        return -1\n",
    "\n",
    "\n",
    "s = Solution()\n",
    "# s.minRefuelStops(100, 10, [[10, 60], [20, 30], [30, 30], [60, 40]])\n",
    "s.minRefuelStops(1000, 83, [[47, 220], [65, 1], [98, 113], [126, 196], [186, 218], [320, 205], [686, 317], [707, 325], [754, 104], [781, 105]])\n",
    "s.minRefuelStops(100, 10, [[1, 20], [10, 40], [40, 40]])\n"
   ]
  },
  {
   "cell_type": "code",
   "execution_count": 16,
   "metadata": {},
   "outputs": [
    {
     "data": {
      "text/plain": [
       "20"
      ]
     },
     "execution_count": 16,
     "metadata": {},
     "output_type": "execute_result"
    }
   ],
   "source": [
    "s.minRefuelStops(1000000,53667,[[6950,13028],[21145,25000],[38690,6304],[54352,42300],[56808,45976],[63983,37886],[68419,15751],[69504,8075],[85043,32434],[92914,50646],[109806,43101],[112920,7430],[116008,35223],[121846,46938],[128528,48626],[128560,49460],[135306,1996],[151134,26992],[157586,52788],[166585,44818],[167892,13581],[202994,11028],[217878,18871],[241339,51351],[248208,38733],[257762,32253],[277792,36820],[288531,19642],[331194,18080],[348898,35356],[349346,4671],[359199,17610],[360009,5527],[368757,14195],[396664,14932],[401524,49201],[402539,35084],[422674,5352],[427795,14717],[431106,42724],[431917,46730],[437958,45353],[458031,9710],[467378,39191],[488467,49031],[495827,34298],[501568,35856],[504829,5089],[511736,30952],[516011,8269],[516355,51173],[519876,32562],[528434,18530],[561784,13822],[565838,38935],[574928,24104],[582225,5169],[593508,27144],[603060,31587],[613347,46986],[621815,47051],[641640,3362],[654360,37738],[676653,41273],[686787,13056],[695695,21872],[700010,25196],[721310,32491],[724872,26252],[725214,42539],[750190,15189],[765068,3418],[766642,23799],[769842,20742],[770378,44127],[777325,16075],[783687,15299],[783886,44121],[820968,6557],[822189,1196],[822795,49842],[824231,52596],[848150,39409],[854444,25292],[878221,22784],[889948,21445],[893844,17898],[895155,33036],[904112,40321],[911401,49930],[913887,9344],[929823,38731],[939245,45498],[952152,45798],[958422,53539],[979783,10569],[985338,5294],[991430,21666],[991970,35896],[996672,36853]])"
   ]
  },
  {
   "cell_type": "code",
   "execution_count": 28,
   "metadata": {},
   "outputs": [
    {
     "data": {
      "text/plain": [
       "4"
      ]
     },
     "execution_count": 28,
     "metadata": {},
     "output_type": "execute_result"
    }
   ],
   "source": [
    "from typing import List\n",
    "from collections import deque\n",
    "# 减少一个二分查找 还是超时\n",
    "\n",
    "class Solution:\n",
    "    \n",
    "    def searchRight(self, nums, target):  # <=target\n",
    "        l, r = 0, len(nums) - 1\n",
    "        while l <= r:\n",
    "            m = l + r >> 1\n",
    "            if nums[m][0] <= target:\n",
    "                l = m + 1\n",
    "            else:\n",
    "                r = m - 1\n",
    "        return r if r >= 0 else -1  # -1 意味着没法达到下一个加油站\n",
    "\n",
    "    def minRefuelStops(self, target: int, startFuel: int, stations: List[List[int]]) -> int:\n",
    "        q = deque([(0, 0, -1, startFuel)])  # 步数 位置 索引 加好油的剩余油量\n",
    "        vis = {(0, startFuel)}\n",
    "        lgh = len(stations)\n",
    "        while q:\n",
    "            step, cur, idx, fuel = q.popleft()\n",
    "            right = self.searchRight(stations, cur + fuel)\n",
    "            if cur + fuel >= target:\n",
    "                return step\n",
    "            if idx == lgh - 1:\n",
    "                continue\n",
    "            if right == -1:\n",
    "                continue\n",
    "            for i in range(right, idx, -1):\n",
    "                nei, neiFuel = stations[i][0], stations[i][1]\n",
    "                neiFuel = fuel + neiFuel - (nei - cur)\n",
    "                if (nei, neiFuel) in vis:\n",
    "                    continue\n",
    "                vis.add((nei, neiFuel))\n",
    "                q.append((step + 1, nei, i, neiFuel))\n",
    "        return -1\n",
    "\n",
    "\n",
    "s = Solution()\n",
    "# s.minRefuelStops(100, 10, [[10, 60], [20, 30], [30, 30], [60, 40]])\n",
    "s.minRefuelStops(1000, 83, [[47, 220], [65, 1], [98, 113], [126, 196], [186, 218], [320, 205], [686, 317], [707, 325], [754, 104], [781, 105]])\n",
    "# s.minRefuelStops(100, 10, [[1, 20], [10, 40], [40, 40]])\n"
   ]
  },
  {
   "cell_type": "code",
   "execution_count": null,
   "metadata": {},
   "outputs": [],
   "source": [
    "s.minRefuelStops(1000000,53667,[[6950,13028],[21145,25000],[38690,6304],[54352,42300],[56808,45976],[63983,37886],[68419,15751],[69504,8075],[85043,32434],[92914,50646],[109806,43101],[112920,7430],[116008,35223],[121846,46938],[128528,48626],[128560,49460],[135306,1996],[151134,26992],[157586,52788],[166585,44818],[167892,13581],[202994,11028],[217878,18871],[241339,51351],[248208,38733],[257762,32253],[277792,36820],[288531,19642],[331194,18080],[348898,35356],[349346,4671],[359199,17610],[360009,5527],[368757,14195],[396664,14932],[401524,49201],[402539,35084],[422674,5352],[427795,14717],[431106,42724],[431917,46730],[437958,45353],[458031,9710],[467378,39191],[488467,49031],[495827,34298],[501568,35856],[504829,5089],[511736,30952],[516011,8269],[516355,51173],[519876,32562],[528434,18530],[561784,13822],[565838,38935],[574928,24104],[582225,5169],[593508,27144],[603060,31587],[613347,46986],[621815,47051],[641640,3362],[654360,37738],[676653,41273],[686787,13056],[695695,21872],[700010,25196],[721310,32491],[724872,26252],[725214,42539],[750190,15189],[765068,3418],[766642,23799],[769842,20742],[770378,44127],[777325,16075],[783687,15299],[783886,44121],[820968,6557],[822189,1196],[822795,49842],[824231,52596],[848150,39409],[854444,25292],[878221,22784],[889948,21445],[893844,17898],[895155,33036],[904112,40321],[911401,49930],[913887,9344],[929823,38731],[939245,45498],[952152,45798],[958422,53539],[979783,10569],[985338,5294],[991430,21666],[991970,35896],[996672,36853]])"
   ]
  },
  {
   "cell_type": "code",
   "execution_count": 30,
   "metadata": {},
   "outputs": [
    {
     "data": {
      "text/plain": [
       "5"
      ]
     },
     "execution_count": 30,
     "metadata": {},
     "output_type": "execute_result"
    }
   ],
   "source": [
    "from typing import List\n",
    "import heapq\n",
    "# 贪心bfs出错 (A*)\n",
    "class Solution:\n",
    "    \n",
    "    def searchRight(self, nums, target):  # <=target\n",
    "        l, r = 0, len(nums) - 1\n",
    "        while l <= r:\n",
    "            m = l + r >> 1\n",
    "            if nums[m][0] <= target:\n",
    "                l = m + 1\n",
    "            else:\n",
    "                r = m - 1\n",
    "        return r if r >= 0 else -1  # -1 意味着没法达到下一个加油站\n",
    "\n",
    "    def minRefuelStops(self, target: int, startFuel: int, stations: List[List[int]]) -> int:\n",
    "        pq = [(target-startFuel,0, 0, -1, startFuel)]  # 优先级 步数 位置 索引 加好油的剩余油量\n",
    "        costs = {(0, startFuel):0} # 位置 剩余油量\n",
    "        best = set()\n",
    "        lgh = len(stations)\n",
    "        while pq:\n",
    "            _,step, cur, idx, fuel = heapq.heappop(pq)\n",
    "            right = self.searchRight(stations, cur + fuel)\n",
    "            if cur + fuel >= target:\n",
    "                return step\n",
    "            if idx == lgh - 1:\n",
    "                continue\n",
    "            if right == -1:\n",
    "                continue\n",
    "            best.add((cur,fuel))\n",
    "            for i in range(right, idx, -1):\n",
    "                nei, neiFuel = stations[i][0], stations[i][1]\n",
    "                neiFuel = fuel + neiFuel - (nei - cur)\n",
    "                if (nei, neiFuel) in best:\n",
    "                    continue\n",
    "                if (nei, neiFuel) not in costs or step+1<costs[(nei, neiFuel)]:\n",
    "                    costs[(nei, neiFuel)] = step+1\n",
    "                    pri = target-neiFuel\n",
    "                    heapq.heappush(pq,(pri,step+1,nei,i,neiFuel))\n",
    "        return -1\n",
    "\n",
    "\n",
    "s = Solution()\n",
    "# s.minRefuelStops(100, 10, [[10, 60], [20, 30], [30, 30], [60, 40]])\n",
    "s.minRefuelStops(1000, 83, [[47, 220], [65, 1], [98, 113], [126, 196], [186, 218], [320, 205], [686, 317], [707, 325], [754, 104], [781, 105]])\n",
    "# s.minRefuelStops(100, 10, [[1, 20], [10, 40], [40, 40]])\n"
   ]
  },
  {
   "cell_type": "code",
   "execution_count": 27,
   "metadata": {},
   "outputs": [
    {
     "data": {
      "text/plain": [
       "73"
      ]
     },
     "execution_count": 27,
     "metadata": {},
     "output_type": "execute_result"
    }
   ],
   "source": [
    "s.minRefuelStops(1000000,53667,[[6950,13028],[21145,25000],[38690,6304],[54352,42300],[56808,45976],[63983,37886],[68419,15751],[69504,8075],[85043,32434],[92914,50646],[109806,43101],[112920,7430],[116008,35223],[121846,46938],[128528,48626],[128560,49460],[135306,1996],[151134,26992],[157586,52788],[166585,44818],[167892,13581],[202994,11028],[217878,18871],[241339,51351],[248208,38733],[257762,32253],[277792,36820],[288531,19642],[331194,18080],[348898,35356],[349346,4671],[359199,17610],[360009,5527],[368757,14195],[396664,14932],[401524,49201],[402539,35084],[422674,5352],[427795,14717],[431106,42724],[431917,46730],[437958,45353],[458031,9710],[467378,39191],[488467,49031],[495827,34298],[501568,35856],[504829,5089],[511736,30952],[516011,8269],[516355,51173],[519876,32562],[528434,18530],[561784,13822],[565838,38935],[574928,24104],[582225,5169],[593508,27144],[603060,31587],[613347,46986],[621815,47051],[641640,3362],[654360,37738],[676653,41273],[686787,13056],[695695,21872],[700010,25196],[721310,32491],[724872,26252],[725214,42539],[750190,15189],[765068,3418],[766642,23799],[769842,20742],[770378,44127],[777325,16075],[783687,15299],[783886,44121],[820968,6557],[822189,1196],[822795,49842],[824231,52596],[848150,39409],[854444,25292],[878221,22784],[889948,21445],[893844,17898],[895155,33036],[904112,40321],[911401,49930],[913887,9344],[929823,38731],[939245,45498],[952152,45798],[958422,53539],[979783,10569],[985338,5294],[991430,21666],[991970,35896],[996672,36853]])"
   ]
  },
  {
   "cell_type": "code",
   "execution_count": 31,
   "metadata": {},
   "outputs": [],
   "source": [
    "from typing import List\n",
    "import heapq\n",
    "\n",
    "\n",
    "class Solution:\n",
    "\n",
    "    def minRefuelStops(self, target: int, startFuel: int, stations: List[List[int]]) -> int:\n",
    "        ans = 0  # 加油次数\n",
    "        pq = []  # 到最远位置前(含最原位置加油站)沿途加油站\n",
    "        farthestPlace = startFuel  # 能达到最远位置\n",
    "        i = 0\n",
    "        lgh = len(stations)\n",
    "        while True:\n",
    "            if farthestPlace >= target:  # 能到终点\n",
    "                return ans\n",
    "            while i < lgh and stations[i][0] <= farthestPlace:  # 记录沿途加油站\n",
    "                heapq.heappush(pq, -stations[i][1])  # 最大堆\n",
    "                i += 1\n",
    "            if not pq:  # 没有油可以加了\n",
    "                return -1\n",
    "            else:\n",
    "                farthestPlace -= heapq.heappop(pq)  # 因为最大堆 所以加最大油用减\n",
    "                ans += 1\n"
   ]
  },
  {
   "cell_type": "code",
   "execution_count": 44,
   "metadata": {},
   "outputs": [
    {
     "data": {
      "text/plain": [
       "-1"
      ]
     },
     "execution_count": 44,
     "metadata": {},
     "output_type": "execute_result"
    }
   ],
   "source": [
    "from typing import List\n",
    "\n",
    "\n",
    "class Solution:\n",
    "\n",
    "    def minRefuelStops(self, target: int, startFuel: int, stations: List[List[int]]) -> int:\n",
    "        # dp[i][j] i个加油站加j次油能到达的最远距离\n",
    "        # i:[0,len(startFuel)] j:[0,len(startFuel)]\n",
    "        # dp[0][...] = float('-inf')\n",
    "        # dp[...][0] = startFuel\n",
    "        lgh = len(stations)\n",
    "        dp = [[float('-inf')] * (lgh + 1) for _ in range(lgh + 1)]\n",
    "        for i in range(lgh + 1):\n",
    "            dp[i][0] = startFuel\n",
    "        for i in range(1, lgh + 1):\n",
    "            for j in range(1, lgh + 1):\n",
    "                if j > i:\n",
    "                    dp[i][j] = float('-inf')\n",
    "                else:\n",
    "                    # i-1站加j次油 本站不加 (能到达本站)\n",
    "                    if dp[i - 1][j] >= stations[i - 1][0]:\n",
    "                        dp[i][j] = dp[i - 1][j]\n",
    "                    # i-1站加j-1次油 本站加 (能到达本站)\n",
    "                    if dp[i - 1][j - 1] >= stations[i - 1][0]:\n",
    "                        dp[i][j] = max(dp[i][j], dp[i - 1][j - 1] + stations[i - 1][1])\n",
    "\n",
    "        for j in range(lgh + 1):\n",
    "            if dp[lgh][j] >= target:\n",
    "                return j\n",
    "        return -1\n",
    "\n",
    "\n",
    "s = Solution()\n",
    "s.minRefuelStops(100, 50, [[50, 50]])\n",
    "s.minRefuelStops(1000, 83, [[25, 27], [36, 187], [140, 186], [378, 6], [492, 202], [517, 89], [579, 234], [673, 86], [808, 53], [954, 49]])\n"
   ]
  },
  {
   "cell_type": "code",
   "execution_count": null,
   "metadata": {},
   "outputs": [],
   "source": []
  }
 ],
 "metadata": {
  "kernelspec": {
   "display_name": "Python 3.10.5 64-bit (windows store)",
   "language": "python",
   "name": "python3"
  },
  "language_info": {
   "codemirror_mode": {
    "name": "ipython",
    "version": 3
   },
   "file_extension": ".py",
   "mimetype": "text/x-python",
   "name": "python",
   "nbconvert_exporter": "python",
   "pygments_lexer": "ipython3",
   "version": "3.10.5"
  },
  "orig_nbformat": 4,
  "vscode": {
   "interpreter": {
    "hash": "97367d2de1780ea7c502b529f25888c1b53c0430a7611816b6c7cf19d8435228"
   }
  }
 },
 "nbformat": 4,
 "nbformat_minor": 2
}
