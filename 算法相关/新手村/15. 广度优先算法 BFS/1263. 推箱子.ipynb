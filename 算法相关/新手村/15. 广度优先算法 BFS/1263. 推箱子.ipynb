{
 "cells": [
  {
   "cell_type": "code",
   "execution_count": 31,
   "metadata": {},
   "outputs": [
    {
     "data": {
      "text/plain": [
       "1"
      ]
     },
     "execution_count": 31,
     "metadata": {},
     "output_type": "execute_result"
    }
   ],
   "source": [
    "from collections import deque\n",
    "from typing import List\n",
    "\n",
    "\n",
    "class Solution:\n",
    "\n",
    "    def minPushBox(self, grid: List[List[str]]) -> int:\n",
    "        rows, cols = len(grid), len(grid[0])\n",
    "        dirs = ((1, 0, -1, 0), (-1, 0, 1, 0), (0, -1, 0, 1), (0, 1, 0, -1))\n",
    "\n",
    "        # 检查人能否到达指定位置\n",
    "        def check(start, target, bpos):\n",
    "            # 已经在了\n",
    "            if start == target: return True \n",
    "            tr, tc = target\n",
    "            # 目标出界或在墙里\n",
    "            if (not (rows > tr >= 0 <= tc < cols)) or grid[tr][tc] == '#': return False\n",
    "            # BFS判断\n",
    "            q = deque([start])\n",
    "            vis = {start, bpos}\n",
    "            while q:\n",
    "                r, c = q.popleft()\n",
    "                for dr, dc, _, _ in dirs:\n",
    "                    nr, nc = r + dr, c + dc\n",
    "                    if rows > nr >= 0 <= nc < cols and (nr, nc) not in vis and grid[nr][nc] != '#':\n",
    "                        if (nr, nc) == target:\n",
    "                            return True\n",
    "                        vis.add((nr, nc))\n",
    "                        q.append((nr, nc))\n",
    "            return False\n",
    "\n",
    "        for r in range(rows):\n",
    "            for c in range(cols):\n",
    "                if grid[r][c] == 'S':\n",
    "                    s = (r, c)\n",
    "                elif grid[r][c] == 'B':\n",
    "                    b = (r, c)\n",
    "                elif grid[r][c] == 'T':\n",
    "                    t = (r, c)\n",
    "        # 特判\n",
    "        if b == t: return 0\n",
    "        q = deque([(*b, *s, 0)])\n",
    "        vis = {(*b, *s)}  # ！状态是 箱子位置和方向（人的位置）\n",
    "        while q:\n",
    "            r, c, sr, sc, step = q.popleft()\n",
    "            for dr, dc, dr2, dc2 in dirs:\n",
    "                nr, nc = r + dr, c + dc  # 箱子目标位置\n",
    "                nsr, nsc = r + dr2, c + dc2  # 人的目标位置\n",
    "                if rows > nr >= 0 <= nc < cols and (nr, nc, nsr, nsc) not in vis and grid[nr][nc] != '#' and check((sr, sc), (nsr, nsc), (r, c)):\n",
    "                    if (nr, nc) == t:\n",
    "                        return step + 1\n",
    "                    vis.add((nr, nc, nsr, nsc))\n",
    "                    q.append((nr, nc, r, c, step + 1))\n",
    "        return -1\n",
    "\n",
    "\n",
    "s = Solution()\n",
    "s.minPushBox([[\".\", \".\", \"#\", \".\"], [\".\", \".\", \"#\", \".\"], [\"T\", \"B\", \".\", \".\"], [\"#\", \"S\", \".\", \"#\"]])"
   ]
  },
  {
   "cell_type": "code",
   "execution_count": 34,
   "metadata": {},
   "outputs": [
    {
     "data": {
      "text/plain": [
       "1"
      ]
     },
     "execution_count": 34,
     "metadata": {},
     "output_type": "execute_result"
    }
   ],
   "source": [
    "# A*\n",
    "from collections import defaultdict, deque\n",
    "from heapq import heappop, heappush\n",
    "from math import inf\n",
    "from typing import List\n",
    "\n",
    "\n",
    "class Solution:\n",
    "\n",
    "    def minPushBox(self, grid: List[List[str]]) -> int:\n",
    "        rows, cols = len(grid), len(grid[0])\n",
    "        dirs = ((1, 0, -1, 0), (-1, 0, 1, 0), (0, -1, 0, 1), (0, 1, 0, -1))\n",
    "\n",
    "        # 检查人能否到达指定位置\n",
    "        def check(start, target, bpos):\n",
    "            # 已经在了\n",
    "            if start == target: return True\n",
    "            tr, tc = target\n",
    "            # 目标出界或在墙里\n",
    "            if (not (rows > tr >= 0 <= tc < cols)) or grid[tr][tc] == '#': return False\n",
    "            # BFS判断\n",
    "            q = deque([start])\n",
    "            vis = {start, bpos}\n",
    "            while q:\n",
    "                r, c = q.popleft()\n",
    "                for dr, dc, _, _ in dirs:\n",
    "                    nr, nc = r + dr, c + dc\n",
    "                    if rows > nr >= 0 <= nc < cols and (nr, nc) not in vis and grid[nr][nc] != '#':\n",
    "                        if (nr, nc) == target:\n",
    "                            return True\n",
    "                        vis.add((nr, nc))\n",
    "                        q.append((nr, nc))\n",
    "            return False\n",
    "\n",
    "        for r in range(rows):\n",
    "            for c in range(cols):\n",
    "                if grid[r][c] == 'S':\n",
    "                    s = (r, c)\n",
    "                elif grid[r][c] == 'B':\n",
    "                    b = (r, c)\n",
    "                elif grid[r][c] == 'T':\n",
    "                    t = (r, c)\n",
    "        # 特判\n",
    "        if b == t: return 0\n",
    "\n",
    "        def h(r, c):\n",
    "            return abs(r - t[0]) + abs(c - t[1])\n",
    "\n",
    "        pq = [(0, 0, *b, *s)]\n",
    "        costs = defaultdict(lambda: inf)\n",
    "        costs[(*b, *s)] = 0  # ！状态是 箱子位置和方向（人的位置）\n",
    "        best = set()\n",
    "        while pq:\n",
    "            _, step, r, c, sr, sc = heappop(pq)\n",
    "            if (r, c, sr, sc) in best: continue\n",
    "            if (r, c) == t:\n",
    "                return step\n",
    "            best.add((r, c, sr, sc))\n",
    "            for dr, dc, dr2, dc2 in dirs:\n",
    "                nr, nc = r + dr, c + dc  # 箱子目标位置\n",
    "                nsr, nsc = r + dr2, c + dc2  # 人的目标位置\n",
    "                if rows > nr >= 0 <= nc < cols and grid[nr][nc] != '#' and step + 1 < costs[(nr, nc, r, c)] and check((sr, sc), (nsr, nsc), (r, c)):\n",
    "                    pri = step + 1 + h(nr, nc)\n",
    "                    costs[(nr, nc)] = step + 1\n",
    "                    heappush(pq, (pri, step + 1, nr, nc, r, c))\n",
    "        return -1\n",
    "\n",
    "\n",
    "s = Solution()\n",
    "s.minPushBox([[\".\", \".\", \"#\", \".\"], [\".\", \".\", \"#\", \".\"], [\"T\", \"B\", \".\", \".\"], [\"#\", \"S\", \".\", \"#\"]])"
   ]
  },
  {
   "cell_type": "code",
   "execution_count": 24,
   "metadata": {},
   "outputs": [
    {
     "name": "stdout",
     "output_type": "stream",
     "text": [
      "[['.', '.', '#', '.'],\n",
      " ['.', '.', '#', '.'],\n",
      " ['T', 'B', '.', '.'],\n",
      " ['#', 'S', '.', '#']]\n"
     ]
    }
   ],
   "source": [
    "from pprint import pprint\n",
    "\n",
    "pprint([[\".\", \".\", \"#\", \".\"], [\".\", \".\", \"#\", \".\"], [\"T\", \"B\", \".\", \".\"], [\"#\", \"S\", \".\", \"#\"]])\n"
   ]
  }
 ],
 "metadata": {
  "kernelspec": {
   "display_name": "Python 3",
   "language": "python",
   "name": "python3"
  },
  "language_info": {
   "codemirror_mode": {
    "name": "ipython",
    "version": 3
   },
   "file_extension": ".py",
   "mimetype": "text/x-python",
   "name": "python",
   "nbconvert_exporter": "python",
   "pygments_lexer": "ipython3",
   "version": "3.11.1"
  },
  "orig_nbformat": 4,
  "vscode": {
   "interpreter": {
    "hash": "ff4b1fca65a764b45acb559e482afe389d289dd599b9f8c5fd12ff5c2ea46a65"
   }
  }
 },
 "nbformat": 4,
 "nbformat_minor": 2
}
