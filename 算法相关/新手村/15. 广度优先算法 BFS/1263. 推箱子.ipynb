{
 "cells": [
  {
   "cell_type": "code",
   "execution_count": 31,
   "metadata": {},
   "outputs": [
    {
     "data": {
      "text/plain": [
       "1"
      ]
     },
     "execution_count": 31,
     "metadata": {},
     "output_type": "execute_result"
    }
   ],
   "source": [
    "from collections import deque\n",
    "from typing import List\n",
    "\n",
    "\n",
    "class Solution:\n",
    "\n",
    "    def minPushBox(self, grid: List[List[str]]) -> int:\n",
    "        rows, cols = len(grid), len(grid[0])\n",
    "        dirs = ((1, 0, -1, 0), (-1, 0, 1, 0), (0, -1, 0, 1), (0, 1, 0, -1))\n",
    "\n",
    "        # 检查人能否到达指定位置\n",
    "        def check(start, target, bpos):\n",
    "            # 已经在了\n",
    "            if start == target: return True \n",
    "            tr, tc = target\n",
    "            # 目标出界或在墙里\n",
    "            if (not (rows > tr >= 0 <= tc < cols)) or grid[tr][tc] == '#': return False\n",
    "            # BFS判断\n",
    "            q = deque([start])\n",
    "            vis = {start, bpos}\n",
    "            while q:\n",
    "                r, c = q.popleft()\n",
    "                for dr, dc, _, _ in dirs:\n",
    "                    nr, nc = r + dr, c + dc\n",
    "                    if rows > nr >= 0 <= nc < cols and (nr, nc) not in vis and grid[nr][nc] != '#':\n",
    "                        if (nr, nc) == target:\n",
    "                            return True\n",
    "                        vis.add((nr, nc))\n",
    "                        q.append((nr, nc))\n",
    "            return False\n",
    "\n",
    "        for r in range(rows):\n",
    "            for c in range(cols):\n",
    "                if grid[r][c] == 'S':\n",
    "                    s = (r, c)\n",
    "                elif grid[r][c] == 'B':\n",
    "                    b = (r, c)\n",
    "                elif grid[r][c] == 'T':\n",
    "                    t = (r, c)\n",
    "        # 特判\n",
    "        if b == t: return 0\n",
    "        q = deque([(*b, *s, 0)])\n",
    "        vis = {(*b, *s)}  # ！状态是 箱子位置和方向（人的位置）\n",
    "        while q:\n",
    "            r, c, sr, sc, step = q.popleft()\n",
    "            for dr, dc, dr2, dc2 in dirs:\n",
    "                nr, nc = r + dr, c + dc  # 箱子目标位置\n",
    "                nsr, nsc = r + dr2, c + dc2  # 人的目标位置\n",
    "                if rows > nr >= 0 <= nc < cols and (nr, nc, nsr, nsc) not in vis and grid[nr][nc] != '#' and check((sr, sc), (nsr, nsc), (r, c)):\n",
    "                    if (nr, nc) == t:\n",
    "                        return step + 1\n",
    "                    vis.add((nr, nc, nsr, nsc))\n",
    "                    q.append((nr, nc, r, c, step + 1))\n",
    "        return -1\n",
    "\n",
    "\n",
    "s = Solution()\n",
    "s.minPushBox([[\".\", \".\", \"#\", \".\"], [\".\", \".\", \"#\", \".\"], [\"T\", \"B\", \".\", \".\"], [\"#\", \"S\", \".\", \"#\"]])"
   ]
  },
  {
   "cell_type": "code",
   "execution_count": 24,
   "metadata": {},
   "outputs": [
    {
     "name": "stdout",
     "output_type": "stream",
     "text": [
      "[['.', '.', '#', '.'],\n",
      " ['.', '.', '#', '.'],\n",
      " ['T', 'B', '.', '.'],\n",
      " ['#', 'S', '.', '#']]\n"
     ]
    }
   ],
   "source": [
    "class Solution:\n",
    "    def minPushBox(self, grid: List[List[str]]) -> int:\n",
    "        dirs = (-1, 0, 1, 0), (1, 0, -1, 0), (0, -1, 0, 1), (0, 1, 0, -1)\n",
    "        rows, cols = len(grid), len(grid[0])\n",
    "        for r in range(rows):\n",
    "            for c in range(cols):\n",
    "                if (x:=grid[r][c]) == 'S':\n",
    "                    sr, sc = r, c\n",
    "                elif x == 'B':\n",
    "                    br, bc = r, c\n",
    "                elif x == 'T':\n",
    "                    tr, tc = r, c\n",
    "        # 检查人能否到达指定位置\n",
    "        def check(r, c, tr, tc, br, bc):\n",
    "            if (r, c) == (tr, tc): return True\n",
    "            if not (rows > tr >= 0 <= tc < cols) or grid[tr][tc] == '#': return False\n",
    "            def h(r, c):\n",
    "                return abs(r - tr) + abs(c - tc)\n",
    "            costs = defaultdict(lambda :inf)\n",
    "            costs[(r, c)] = 0\n",
    "            best = {(br, bc)}\n",
    "            pq = [(0, 0, r, c)]\n",
    "            while pq:\n",
    "                pri, cost, r, c = heappop(pq)\n",
    "                if (r, c) == (tr, tc):\n",
    "                    return True\n",
    "                best.add((r, c))\n",
    "                for dr, dc, _, _ in dirs:\n",
    "                    nr, nc = r + dr, c + dc\n",
    "                    if rows > nr >= 0 <= nc < cols and grid[nr][nc] != '#' and (nr, nc) not in best and (ncost:=cost + 1) < costs[(nr, nc)]:\n",
    "                        costs[(nr, nc)] = ncost\n",
    "                        pri = ncost + h(nr, nc)\n",
    "                        heappush(pq, (pri, ncost, nr, nc))\n",
    "\n",
    "        def h(r, c):\n",
    "            return abs(r - tr) + abs(c - tc)\n",
    "\n",
    "        pq = [(0, 0, br, bc, sr, sc)]\n",
    "        costs = defaultdict(lambda :inf)\n",
    "        costs[(br, bc, sr, sc)] = 0\n",
    "        best = set()\n",
    "        while pq:\n",
    "            pri, cost, br, bc, sr, sc = heappop(pq)\n",
    "            if (br, bc) == (tr, tc):\n",
    "                return cost\n",
    "            best.add((br, bc, sr, sc))\n",
    "            for dr1, dc1, dr2, dc2 in dirs:\n",
    "                bnr, bnc = br + dr1, bc + dc1 # 箱目标位置\n",
    "                snr, snc = br + dr2, bc + dc2 # 人目标位置\n",
    "                if rows > bnr >= 0 <= bnc < cols and grid[bnr][bnc] != '#' and (bnr, bnc, br, bc) not in best and check(sr, sc, snr, snc, br, bc) and (ncost := cost + 1) < costs[(bnr, bnc, br, bc)]:\n",
    "                    costs[(bnr, bnc, br, bc)] = ncost\n",
    "                    pri = ncost + h(bnr, bnc)\n",
    "                    heappush(pq, (pri, ncost, bnr, bnc, br, bc))\n",
    "        return -1"
   ]
  },
  {
   "cell_type": "code",
   "execution_count": 8,
   "metadata": {},
   "outputs": [
    {
     "data": {
      "text/plain": [
       "(100, Counter({1: 3}))"
      ]
     },
     "execution_count": 8,
     "metadata": {},
     "output_type": "execute_result"
    }
   ],
   "source": [
    "from collections import Counter\n",
    "cnt = Counter([1,1,1])\n",
    "cnt.pop(2,100),cnt"
   ]
  },
  {
   "cell_type": "code",
   "execution_count": 11,
   "metadata": {},
   "outputs": [
    {
     "data": {
      "text/plain": [
       "100"
      ]
     },
     "execution_count": 11,
     "metadata": {},
     "output_type": "execute_result"
    }
   ],
   "source": [
    "from collections import defaultdict\n",
    "cnt = defaultdict(int)\n",
    "cnt[1] += 3\n",
    "cnt.pop(2,100)"
   ]
  },
  {
   "cell_type": "code",
   "execution_count": 2,
   "metadata": {},
   "outputs": [
    {
     "data": {
      "text/plain": [
       "(None, SortedList([1, 2, 3, 4]))"
      ]
     },
     "execution_count": 2,
     "metadata": {},
     "output_type": "execute_result"
    }
   ],
   "source": [
    "from sortedcontainers import SortedList\n",
    "sl = SortedList([1,4, 2,3,4])\n",
    "sl.discard(4),sl"
   ]
  },
  {
   "cell_type": "code",
   "execution_count": null,
   "metadata": {},
   "outputs": [],
   "source": []
  }
 ],
 "metadata": {
  "kernelspec": {
   "display_name": "Python 3",
   "language": "python",
   "name": "python3"
  },
  "language_info": {
   "codemirror_mode": {
    "name": "ipython",
    "version": 3
   },
   "file_extension": ".py",
   "mimetype": "text/x-python",
   "name": "python",
   "nbconvert_exporter": "python",
   "pygments_lexer": "ipython3",
   "version": "3.9.16"
  },
  "orig_nbformat": 4,
  "vscode": {
   "interpreter": {
    "hash": "ff4b1fca65a764b45acb559e482afe389d289dd599b9f8c5fd12ff5c2ea46a65"
   }
  }
 },
 "nbformat": 4,
 "nbformat_minor": 2
}
