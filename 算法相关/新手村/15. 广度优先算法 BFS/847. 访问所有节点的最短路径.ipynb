{
 "cells": [
  {
   "cell_type": "code",
   "execution_count": 5,
   "metadata": {},
   "outputs": [
    {
     "data": {
      "text/plain": [
       "4"
      ]
     },
     "execution_count": 5,
     "metadata": {},
     "output_type": "execute_result"
    }
   ],
   "source": [
    "from collections import deque\n",
    "\n",
    "\n",
    "def f(graph: list):\n",
    "    # 明确 走到某个点的唯一状态(不和其他点重复)是 (走过路径,当前点位置) 用作去重\n",
    "    q = deque([])\n",
    "    vis = set() # 去重\n",
    "    sz = len(graph)\n",
    "    for start in range(sz):\n",
    "        q.append((1 << start, start, 0)) # state:走过的路径 ; 位置 ; 步数\n",
    "        vis.add((1 << start, start))\n",
    "    while q:\n",
    "        state, cur, step = q.popleft()\n",
    "        if state == (1 << sz) - 1:\n",
    "            return step\n",
    "        for nei in graph[cur]:\n",
    "            neiState = state | (1 << nei)\n",
    "            if (neiState, nei) not in vis:\n",
    "                q.append((neiState, nei, step + 1))\n",
    "                vis.add((neiState,nei))\n",
    "    return -1\n",
    "\n",
    "f([[1, 2, 3], [0], [0], [0]])\n"
   ]
  },
  {
   "cell_type": "code",
   "execution_count": null,
   "metadata": {},
   "outputs": [],
   "source": []
  }
 ],
 "metadata": {
  "interpreter": {
   "hash": "97367d2de1780ea7c502b529f25888c1b53c0430a7611816b6c7cf19d8435228"
  },
  "kernelspec": {
   "display_name": "Python 3.10.4 64-bit (windows store)",
   "language": "python",
   "name": "python3"
  },
  "language_info": {
   "codemirror_mode": {
    "name": "ipython",
    "version": 3
   },
   "file_extension": ".py",
   "mimetype": "text/x-python",
   "name": "python",
   "nbconvert_exporter": "python",
   "pygments_lexer": "ipython3",
   "version": "3.10.4"
  },
  "orig_nbformat": 4
 },
 "nbformat": 4,
 "nbformat_minor": 2
}
