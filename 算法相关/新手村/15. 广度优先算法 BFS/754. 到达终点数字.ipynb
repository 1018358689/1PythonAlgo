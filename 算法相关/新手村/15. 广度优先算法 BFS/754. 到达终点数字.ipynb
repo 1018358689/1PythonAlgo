{
 "cells": [
  {
   "cell_type": "code",
   "execution_count": 1,
   "metadata": {},
   "outputs": [],
   "source": [
    "# 超时\n",
    "from collections import deque\n",
    "\n",
    "\n",
    "class Solution:\n",
    "\n",
    "    def reachNumber(self, target: int) -> int:\n",
    "        q = deque([(0, 1)])\n",
    "        while q:\n",
    "            cur, step = q.popleft()\n",
    "            for j in (-step, step):\n",
    "                if (nei := cur + j) == target:\n",
    "                    return step\n",
    "                q.append((nei, step + 1))\n"
   ]
  },
  {
   "cell_type": "code",
   "execution_count": null,
   "metadata": {},
   "outputs": [],
   "source": [
    "class Solution:\n",
    "\n",
    "    def reachNumber(self, target: int) -> int:\n",
    "        target = abs(target)\n",
    "        n = ceil((-1 + (8 * target + 1)**0.5) / 2)\n",
    "        return n if (n * (n + 1) // 2 - target) % 2 == 0 else n + 1 + n % 2"
   ]
  }
 ],
 "metadata": {
  "kernelspec": {
   "display_name": "Python 3.10.6 64-bit",
   "language": "python",
   "name": "python3"
  },
  "language_info": {
   "codemirror_mode": {
    "name": "ipython",
    "version": 3
   },
   "file_extension": ".py",
   "mimetype": "text/x-python",
   "name": "python",
   "nbconvert_exporter": "python",
   "pygments_lexer": "ipython3",
   "version": "3.10.6"
  },
  "orig_nbformat": 4,
  "vscode": {
   "interpreter": {
    "hash": "dfbf064e0f2c8839bc658dd75dfc0b8f09a0440078cae3024109b27659b69d06"
   }
  }
 },
 "nbformat": 4,
 "nbformat_minor": 2
}
