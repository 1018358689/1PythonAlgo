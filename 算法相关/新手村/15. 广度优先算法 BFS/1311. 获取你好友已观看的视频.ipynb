{
 "cells": [
  {
   "cell_type": "code",
   "execution_count": null,
   "metadata": {},
   "outputs": [],
   "source": [
    "class Solution:\n",
    "\n",
    "    def watchedVideosByFriends(self, watchedVideos: List[List[str]], friends: List[List[int]], id: int, level: int) -> List[str]:\n",
    "        n = len(friends)\n",
    "        q = [id]\n",
    "        tmp = []\n",
    "        step = 0\n",
    "        vis = [0] * n  # 不能只用父节点来防止回走 会造成环形还是回到走过点 无环倒是可以 用fa\n",
    "        vis[id] = 1\n",
    "        while q:\n",
    "            for x in q:\n",
    "                for y in friends[x]:\n",
    "                    if vis[y]: continue\n",
    "                    vis[y] = 1\n",
    "                    tmp.append(y)\n",
    "            step += 1\n",
    "            if step == level: break\n",
    "            q = tmp[:]\n",
    "            tmp.clear()\n",
    "        cnts = []\n",
    "        for x in tmp:\n",
    "            cnts += watchedVideos[x]\n",
    "        cnts = Counter(cnts)\n",
    "        return sorted(cnts.keys(), key=lambda x: (cnts[x], x))\n"
   ]
  },
  {
   "cell_type": "code",
   "execution_count": null,
   "metadata": {},
   "outputs": [],
   "source": [
    "class Solution:\n",
    "\n",
    "    def watchedVideosByFriends(self, watchedVideos: List[List[str]], friends: List[List[int]], id: int, level: int) -> List[str]:\n",
    "        # bfs\n",
    "        # 因为有环 不能用fa防止回走\n",
    "        n = len(watchedVideos)\n",
    "        vis = [0] * n\n",
    "        vis[id] = 1\n",
    "        q = deque([id])\n",
    "        while q and level:\n",
    "            for _ in range(len(q)):\n",
    "                x = q.popleft()\n",
    "                for y in friends[x]:\n",
    "                    if vis[y]: continue\n",
    "                    vis[y] = 1\n",
    "                    q.append(y)\n",
    "            level -= 1\n",
    "        cnt = Counter(sum((watchedVideos[x] for x in q), []))\n",
    "        return sorted(cnt, key=lambda x: (cnt[x], x))\n"
   ]
  }
 ],
 "metadata": {
  "language_info": {
   "name": "python"
  },
  "orig_nbformat": 4
 },
 "nbformat": 4,
 "nbformat_minor": 2
}
