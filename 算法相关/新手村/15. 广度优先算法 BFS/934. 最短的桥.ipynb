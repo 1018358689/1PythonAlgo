{
 "cells": [
  {
   "cell_type": "code",
   "execution_count": null,
   "metadata": {},
   "outputs": [],
   "source": [
    "class Solution:\n",
    "\n",
    "    def shortestBridge(self, grid: List[List[int]]) -> int:\n",
    "        rows, cols = len(grid), len(grid[0])\n",
    "\n",
    "        def dfs(r, c):\n",
    "            for nr, nc in (r + 1, c), (r - 1, c), (r, c + 1), (r, c - 1):\n",
    "                if rows > nr >= 0 <= nc < cols and grid[nr][nc] == 1:\n",
    "                    grid[nr][nc] = 2\n",
    "                    q.append((nr, nc))\n",
    "                    dfs(nr, nc)\n",
    "\n",
    "        r, c = next((r, c) for r in range(rows) for c in range(cols) if grid[r][c] == 1)  # 找1\n",
    "        grid[r][c] = 2\n",
    "        q = deque([(r, c)])\n",
    "        dfs(r, c)  # 把1所在岛变成2 （2表示已访问）\n",
    "        step = 0\n",
    "        while q:  # 多源bfs找1\n",
    "            for _ in range(len(q)):\n",
    "                r, c = q.popleft()\n",
    "                for nr, nc in (r + 1, c), (r - 1, c), (r, c + 1), (r, c - 1):\n",
    "                    if rows > nr >= 0 <= nc < cols:\n",
    "                        if grid[nr][nc] == 0:\n",
    "                            grid[nr][nc] = 2\n",
    "                            q.append((nr, nc))\n",
    "                        elif grid[nr][nc] == 1:\n",
    "                            return step\n",
    "            step += 1"
   ]
  },
  {
   "cell_type": "code",
   "execution_count": 1,
   "metadata": {},
   "outputs": [
    {
     "data": {
      "text/plain": [
       "2"
      ]
     },
     "execution_count": 1,
     "metadata": {},
     "output_type": "execute_result"
    }
   ],
   "source": [
    "from typing import List\n",
    "from collections import deque\n",
    "\n",
    "\n",
    "class Solution:\n",
    "\n",
    "    def shortestBridge(self, grid: List[List[int]]) -> int:\n",
    "        rows, cols = len(grid), len(grid[0])\n",
    "        vis = set()\n",
    "\n",
    "        def dfs(r, c):\n",
    "            if r < 0 or r > rows - 1 or c < 0 or c > cols - 1 or grid[r][c] == 0 or (r, c) in vis:\n",
    "                return\n",
    "            vis.add((r, c))\n",
    "            dfs(r - 1, c)\n",
    "            dfs(r + 1, c)\n",
    "            dfs(r, c - 1)\n",
    "            dfs(r, c + 1)\n",
    "\n",
    "        for r in range(rows):\n",
    "            for c in range(cols):\n",
    "                if grid[r][c] == 1:\n",
    "                    dfs(r, c)\n",
    "                    break\n",
    "            else:\n",
    "                continue\n",
    "            break\n",
    "\n",
    "        q = deque(vis)\n",
    "        step = 0\n",
    "        while q:\n",
    "            for _ in range(len(q)):\n",
    "                r, c = q.popleft()\n",
    "                for nr, nc in ((r + 1, c), (r - 1, c), (r, c + 1), (r, c - 1)):\n",
    "                    if 0 <= nr < rows and 0 <= nc < cols and (nr, nc) not in vis:\n",
    "                        if grid[nr][nc] == 1:\n",
    "                            return step\n",
    "                        vis.add((nr, nc))\n",
    "                        q.append((nr, nc))\n",
    "            step += 1\n",
    "\n",
    "\n",
    "s = Solution()\n",
    "s.shortestBridge([[0, 1, 0], [0, 0, 0], [0, 0, 1]])\n"
   ]
  },
  {
   "cell_type": "code",
   "execution_count": 20,
   "metadata": {},
   "outputs": [
    {
     "data": {
      "text/plain": [
       "1"
      ]
     },
     "execution_count": 20,
     "metadata": {},
     "output_type": "execute_result"
    }
   ],
   "source": [
    "from typing import List\n",
    "from collections import deque\n",
    "\n",
    "\n",
    "class Solution:\n",
    "\n",
    "    def shortestBridge(self, grid: List[List[int]]) -> int:\n",
    "        rows, cols = len(grid), len(grid[0])\n",
    "        count = rows * cols + 1\n",
    "        roots = list(range(count))\n",
    "        rank = [1] * (count)\n",
    "\n",
    "        def find(x):\n",
    "            if roots[x] != x:\n",
    "                roots[x] = find(roots[x])\n",
    "            return roots[x]\n",
    "\n",
    "        def union(x, y):\n",
    "            rx, ry = find(x), find(y)\n",
    "            if rx != ry:\n",
    "                if rank[rx] < rank[ry]:\n",
    "                    roots[rx] = ry\n",
    "                elif rank[rx] > rank[ry]:\n",
    "                    roots[ry] = rx\n",
    "                else:\n",
    "                    roots[rx] = ry\n",
    "                    rank[ry] += 1\n",
    "\n",
    "        for r in range(rows):\n",
    "            for c in range(cols):\n",
    "                if grid[r][c] == 0:\n",
    "                    union(r * cols + c, rows * cols)\n",
    "                else:\n",
    "                    for nr, nc in ((r + 1, c), (r, c + 1)):\n",
    "                        if 0 <= nr < rows and 0 <= nc < cols and grid[r][c] == grid[nr][nc]:\n",
    "                            union(r * cols + c, nr * cols + nc)\n",
    "        for r in range(rows):\n",
    "            for c in range(cols):\n",
    "                find(r * cols + c)  # 全部指向根节点\n",
    "        # roots就三种数字\n",
    "        rtmp = tuple(set(roots) - {rows * cols})\n",
    "        q1, q2 = [], []\n",
    "        for r in range(rows):\n",
    "            for c in range(cols):\n",
    "                if find(r * cols + c) == rtmp[0]:\n",
    "                    q1.append((r, c))\n",
    "                elif find(r * cols + c) == rtmp[1]:\n",
    "                    q2.append((r, c))\n",
    "        ans = float('inf')\n",
    "        for r1, c1 in q1:\n",
    "            for r2, c2 in q2:\n",
    "                ans = min(ans, abs(r1 - r2) + abs(c1 - c2) - 1)\n",
    "        return ans\n",
    "\n",
    "\n",
    "s = Solution()\n",
    "s.shortestBridge([[0, 1, 0], [0, 0, 0], [0, 0, 1]])\n",
    "s.shortestBridge([[0, 1, 0, 0, 0], [0, 1, 0, 1, 1], [0, 0, 0, 0, 1], [0, 0, 0, 0, 0], [0, 0, 0, 0, 0]])\n"
   ]
  },
  {
   "cell_type": "code",
   "execution_count": null,
   "metadata": {},
   "outputs": [],
   "source": []
  }
 ],
 "metadata": {
  "kernelspec": {
   "display_name": "Python 3.10.5 64-bit",
   "language": "python",
   "name": "python3"
  },
  "language_info": {
   "codemirror_mode": {
    "name": "ipython",
    "version": 3
   },
   "file_extension": ".py",
   "mimetype": "text/x-python",
   "name": "python",
   "nbconvert_exporter": "python",
   "pygments_lexer": "ipython3",
   "version": "3.10.5"
  },
  "orig_nbformat": 4,
  "vscode": {
   "interpreter": {
    "hash": "3196968d684371006099b3d55edeef8ed90365227a30deaef86e5d4aa8519be0"
   }
  }
 },
 "nbformat": 4,
 "nbformat_minor": 2
}
