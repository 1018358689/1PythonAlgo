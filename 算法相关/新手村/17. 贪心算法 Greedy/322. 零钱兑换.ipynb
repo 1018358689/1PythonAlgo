{
 "cells": [
  {
   "cell_type": "code",
   "execution_count": 27,
   "metadata": {},
   "outputs": [
    {
     "data": {
      "text/plain": [
       "24"
      ]
     },
     "execution_count": 27,
     "metadata": {},
     "output_type": "execute_result"
    }
   ],
   "source": [
    "from functools import lru_cache\n",
    "\n",
    "\n",
    "def f(coins: list, amount: int):\n",
    "    coins.sort(reverse=True)\n",
    "\n",
    "    @lru_cache(None)\n",
    "    def dfs(amount):\n",
    "        if amount == 0:\n",
    "            return 0\n",
    "        res = float('inf')\n",
    "        for c in coins:\n",
    "            if c <= amount:\n",
    "                res = min(res, dfs(amount - c) + 1)\n",
    "        return res\n",
    "\n",
    "    ans = dfs(amount)\n",
    "    return ans if ans != float('inf') else -1\n",
    "\n",
    "\n",
    "# f([5, 2, 1], 11)\n",
    "f([2], 3)\n",
    "f([1,2,5],100)\n",
    "f([3, 7, 405, 436], 8839)\n",
    "f([411, 412, 413, 414, 415, 416, 417, 418, 419, 420, 421, 422], 9864)\n"
   ]
  },
  {
   "cell_type": "code",
   "execution_count": 32,
   "metadata": {},
   "outputs": [
    {
     "ename": "KeyboardInterrupt",
     "evalue": "",
     "output_type": "error",
     "traceback": [
      "\u001b[0;31m---------------------------------------------------------------------------\u001b[0m",
      "\u001b[0;31mKeyboardInterrupt\u001b[0m                         Traceback (most recent call last)",
      "\u001b[1;32m/Users/mlyan/Documents/OneDrive/PythonProject/1python教学/算法相关/新手村/贪心算法 Greedy/322. 零钱兑换.ipynb Cell 2'\u001b[0m in \u001b[0;36m<module>\u001b[0;34m\u001b[0m\n\u001b[1;32m     <a href='vscode-notebook-cell:/Users/mlyan/Documents/OneDrive/PythonProject/1python%E6%95%99%E5%AD%A6/%E7%AE%97%E6%B3%95%E7%9B%B8%E5%85%B3/%E6%96%B0%E6%89%8B%E6%9D%91/%E8%B4%AA%E5%BF%83%E7%AE%97%E6%B3%95%20Greedy/322.%20%E9%9B%B6%E9%92%B1%E5%85%91%E6%8D%A2.ipynb#ch0000001?line=38'>39</a>\u001b[0m \u001b[39m# f([2], 3)\u001b[39;00m\n\u001b[1;32m     <a href='vscode-notebook-cell:/Users/mlyan/Documents/OneDrive/PythonProject/1python%E6%95%99%E5%AD%A6/%E7%AE%97%E6%B3%95%E7%9B%B8%E5%85%B3/%E6%96%B0%E6%89%8B%E6%9D%91/%E8%B4%AA%E5%BF%83%E7%AE%97%E6%B3%95%20Greedy/322.%20%E9%9B%B6%E9%92%B1%E5%85%91%E6%8D%A2.ipynb#ch0000001?line=39'>40</a>\u001b[0m f([\u001b[39m3\u001b[39m, \u001b[39m7\u001b[39m, \u001b[39m405\u001b[39m, \u001b[39m436\u001b[39m], \u001b[39m8839\u001b[39m)\n\u001b[0;32m---> <a href='vscode-notebook-cell:/Users/mlyan/Documents/OneDrive/PythonProject/1python%E6%95%99%E5%AD%A6/%E7%AE%97%E6%B3%95%E7%9B%B8%E5%85%B3/%E6%96%B0%E6%89%8B%E6%9D%91/%E8%B4%AA%E5%BF%83%E7%AE%97%E6%B3%95%20Greedy/322.%20%E9%9B%B6%E9%92%B1%E5%85%91%E6%8D%A2.ipynb#ch0000001?line=40'>41</a>\u001b[0m f([\u001b[39m411\u001b[39;49m, \u001b[39m412\u001b[39;49m, \u001b[39m413\u001b[39;49m, \u001b[39m414\u001b[39;49m, \u001b[39m415\u001b[39;49m, \u001b[39m416\u001b[39;49m, \u001b[39m417\u001b[39;49m, \u001b[39m418\u001b[39;49m, \u001b[39m419\u001b[39;49m, \u001b[39m420\u001b[39;49m, \u001b[39m421\u001b[39;49m, \u001b[39m422\u001b[39;49m], \u001b[39m9864\u001b[39;49m)\n",
      "\u001b[1;32m/Users/mlyan/Documents/OneDrive/PythonProject/1python教学/算法相关/新手村/贪心算法 Greedy/322. 零钱兑换.ipynb Cell 2'\u001b[0m in \u001b[0;36mf\u001b[0;34m(coins, amount)\u001b[0m\n\u001b[1;32m     <a href='vscode-notebook-cell:/Users/mlyan/Documents/OneDrive/PythonProject/1python%E6%95%99%E5%AD%A6/%E7%AE%97%E6%B3%95%E7%9B%B8%E5%85%B3/%E6%96%B0%E6%89%8B%E6%9D%91/%E8%B4%AA%E5%BF%83%E7%AE%97%E6%B3%95%20Greedy/322.%20%E9%9B%B6%E9%92%B1%E5%85%91%E6%8D%A2.ipynb#ch0000001?line=27'>28</a>\u001b[0m             \u001b[39mreturn\u001b[39;00m\n\u001b[1;32m     <a href='vscode-notebook-cell:/Users/mlyan/Documents/OneDrive/PythonProject/1python%E6%95%99%E5%AD%A6/%E7%AE%97%E6%B3%95%E7%9B%B8%E5%85%B3/%E6%96%B0%E6%89%8B%E6%9D%91/%E8%B4%AA%E5%BF%83%E7%AE%97%E6%B3%95%20Greedy/322.%20%E9%9B%B6%E9%92%B1%E5%85%91%E6%8D%A2.ipynb#ch0000001?line=28'>29</a>\u001b[0m         dfs(coins, i\u001b[39m+\u001b[39m\u001b[39m1\u001b[39m, amount \u001b[39m-\u001b[39m cv \u001b[39m*\u001b[39m j, nc \u001b[39m+\u001b[39m j)\n\u001b[0;32m---> <a href='vscode-notebook-cell:/Users/mlyan/Documents/OneDrive/PythonProject/1python%E6%95%99%E5%AD%A6/%E7%AE%97%E6%B3%95%E7%9B%B8%E5%85%B3/%E6%96%B0%E6%89%8B%E6%9D%91/%E8%B4%AA%E5%BF%83%E7%AE%97%E6%B3%95%20Greedy/322.%20%E9%9B%B6%E9%92%B1%E5%85%91%E6%8D%A2.ipynb#ch0000001?line=30'>31</a>\u001b[0m dfs(coins, \u001b[39m0\u001b[39;49m, amount, \u001b[39m0\u001b[39;49m)\n\u001b[1;32m     <a href='vscode-notebook-cell:/Users/mlyan/Documents/OneDrive/PythonProject/1python%E6%95%99%E5%AD%A6/%E7%AE%97%E6%B3%95%E7%9B%B8%E5%85%B3/%E6%96%B0%E6%89%8B%E6%9D%91/%E8%B4%AA%E5%BF%83%E7%AE%97%E6%B3%95%20Greedy/322.%20%E9%9B%B6%E9%92%B1%E5%85%91%E6%8D%A2.ipynb#ch0000001?line=31'>32</a>\u001b[0m \u001b[39mif\u001b[39;00m ans \u001b[39mis\u001b[39;00m \u001b[39mNone\u001b[39;00m:\n\u001b[1;32m     <a href='vscode-notebook-cell:/Users/mlyan/Documents/OneDrive/PythonProject/1python%E6%95%99%E5%AD%A6/%E7%AE%97%E6%B3%95%E7%9B%B8%E5%85%B3/%E6%96%B0%E6%89%8B%E6%9D%91/%E8%B4%AA%E5%BF%83%E7%AE%97%E6%B3%95%20Greedy/322.%20%E9%9B%B6%E9%92%B1%E5%85%91%E6%8D%A2.ipynb#ch0000001?line=32'>33</a>\u001b[0m     \u001b[39mreturn\u001b[39;00m \u001b[39m-\u001b[39m\u001b[39m1\u001b[39m\n",
      "\u001b[1;32m/Users/mlyan/Documents/OneDrive/PythonProject/1python教学/算法相关/新手村/贪心算法 Greedy/322. 零钱兑换.ipynb Cell 2'\u001b[0m in \u001b[0;36mf.<locals>.dfs\u001b[0;34m(coins, i, amount, nc)\u001b[0m\n\u001b[1;32m     <a href='vscode-notebook-cell:/Users/mlyan/Documents/OneDrive/PythonProject/1python%E6%95%99%E5%AD%A6/%E7%AE%97%E6%B3%95%E7%9B%B8%E5%85%B3/%E6%96%B0%E6%89%8B%E6%9D%91/%E8%B4%AA%E5%BF%83%E7%AE%97%E6%B3%95%20Greedy/322.%20%E9%9B%B6%E9%92%B1%E5%85%91%E6%8D%A2.ipynb#ch0000001?line=26'>27</a>\u001b[0m \u001b[39mif\u001b[39;00m ans \u001b[39mis\u001b[39;00m \u001b[39mnot\u001b[39;00m \u001b[39mNone\u001b[39;00m \u001b[39mand\u001b[39;00m nc \u001b[39m+\u001b[39m j \u001b[39m>\u001b[39m ans:\n\u001b[1;32m     <a href='vscode-notebook-cell:/Users/mlyan/Documents/OneDrive/PythonProject/1python%E6%95%99%E5%AD%A6/%E7%AE%97%E6%B3%95%E7%9B%B8%E5%85%B3/%E6%96%B0%E6%89%8B%E6%9D%91/%E8%B4%AA%E5%BF%83%E7%AE%97%E6%B3%95%20Greedy/322.%20%E9%9B%B6%E9%92%B1%E5%85%91%E6%8D%A2.ipynb#ch0000001?line=27'>28</a>\u001b[0m     \u001b[39mreturn\u001b[39;00m\n\u001b[0;32m---> <a href='vscode-notebook-cell:/Users/mlyan/Documents/OneDrive/PythonProject/1python%E6%95%99%E5%AD%A6/%E7%AE%97%E6%B3%95%E7%9B%B8%E5%85%B3/%E6%96%B0%E6%89%8B%E6%9D%91/%E8%B4%AA%E5%BF%83%E7%AE%97%E6%B3%95%20Greedy/322.%20%E9%9B%B6%E9%92%B1%E5%85%91%E6%8D%A2.ipynb#ch0000001?line=28'>29</a>\u001b[0m dfs(coins, i\u001b[39m+\u001b[39;49m\u001b[39m1\u001b[39;49m, amount \u001b[39m-\u001b[39;49m cv \u001b[39m*\u001b[39;49m j, nc \u001b[39m+\u001b[39;49m j)\n",
      "\u001b[1;32m/Users/mlyan/Documents/OneDrive/PythonProject/1python教学/算法相关/新手村/贪心算法 Greedy/322. 零钱兑换.ipynb Cell 2'\u001b[0m in \u001b[0;36mf.<locals>.dfs\u001b[0;34m(coins, i, amount, nc)\u001b[0m\n\u001b[1;32m     <a href='vscode-notebook-cell:/Users/mlyan/Documents/OneDrive/PythonProject/1python%E6%95%99%E5%AD%A6/%E7%AE%97%E6%B3%95%E7%9B%B8%E5%85%B3/%E6%96%B0%E6%89%8B%E6%9D%91/%E8%B4%AA%E5%BF%83%E7%AE%97%E6%B3%95%20Greedy/322.%20%E9%9B%B6%E9%92%B1%E5%85%91%E6%8D%A2.ipynb#ch0000001?line=26'>27</a>\u001b[0m \u001b[39mif\u001b[39;00m ans \u001b[39mis\u001b[39;00m \u001b[39mnot\u001b[39;00m \u001b[39mNone\u001b[39;00m \u001b[39mand\u001b[39;00m nc \u001b[39m+\u001b[39m j \u001b[39m>\u001b[39m ans:\n\u001b[1;32m     <a href='vscode-notebook-cell:/Users/mlyan/Documents/OneDrive/PythonProject/1python%E6%95%99%E5%AD%A6/%E7%AE%97%E6%B3%95%E7%9B%B8%E5%85%B3/%E6%96%B0%E6%89%8B%E6%9D%91/%E8%B4%AA%E5%BF%83%E7%AE%97%E6%B3%95%20Greedy/322.%20%E9%9B%B6%E9%92%B1%E5%85%91%E6%8D%A2.ipynb#ch0000001?line=27'>28</a>\u001b[0m     \u001b[39mreturn\u001b[39;00m\n\u001b[0;32m---> <a href='vscode-notebook-cell:/Users/mlyan/Documents/OneDrive/PythonProject/1python%E6%95%99%E5%AD%A6/%E7%AE%97%E6%B3%95%E7%9B%B8%E5%85%B3/%E6%96%B0%E6%89%8B%E6%9D%91/%E8%B4%AA%E5%BF%83%E7%AE%97%E6%B3%95%20Greedy/322.%20%E9%9B%B6%E9%92%B1%E5%85%91%E6%8D%A2.ipynb#ch0000001?line=28'>29</a>\u001b[0m dfs(coins, i\u001b[39m+\u001b[39;49m\u001b[39m1\u001b[39;49m, amount \u001b[39m-\u001b[39;49m cv \u001b[39m*\u001b[39;49m j, nc \u001b[39m+\u001b[39;49m j)\n",
      "    \u001b[0;31m[... skipping similar frames: f.<locals>.dfs at line 29 (9 times)]\u001b[0m\n",
      "\u001b[1;32m/Users/mlyan/Documents/OneDrive/PythonProject/1python教学/算法相关/新手村/贪心算法 Greedy/322. 零钱兑换.ipynb Cell 2'\u001b[0m in \u001b[0;36mf.<locals>.dfs\u001b[0;34m(coins, i, amount, nc)\u001b[0m\n\u001b[1;32m     <a href='vscode-notebook-cell:/Users/mlyan/Documents/OneDrive/PythonProject/1python%E6%95%99%E5%AD%A6/%E7%AE%97%E6%B3%95%E7%9B%B8%E5%85%B3/%E6%96%B0%E6%89%8B%E6%9D%91/%E8%B4%AA%E5%BF%83%E7%AE%97%E6%B3%95%20Greedy/322.%20%E9%9B%B6%E9%92%B1%E5%85%91%E6%8D%A2.ipynb#ch0000001?line=26'>27</a>\u001b[0m \u001b[39mif\u001b[39;00m ans \u001b[39mis\u001b[39;00m \u001b[39mnot\u001b[39;00m \u001b[39mNone\u001b[39;00m \u001b[39mand\u001b[39;00m nc \u001b[39m+\u001b[39m j \u001b[39m>\u001b[39m ans:\n\u001b[1;32m     <a href='vscode-notebook-cell:/Users/mlyan/Documents/OneDrive/PythonProject/1python%E6%95%99%E5%AD%A6/%E7%AE%97%E6%B3%95%E7%9B%B8%E5%85%B3/%E6%96%B0%E6%89%8B%E6%9D%91/%E8%B4%AA%E5%BF%83%E7%AE%97%E6%B3%95%20Greedy/322.%20%E9%9B%B6%E9%92%B1%E5%85%91%E6%8D%A2.ipynb#ch0000001?line=27'>28</a>\u001b[0m     \u001b[39mreturn\u001b[39;00m\n\u001b[0;32m---> <a href='vscode-notebook-cell:/Users/mlyan/Documents/OneDrive/PythonProject/1python%E6%95%99%E5%AD%A6/%E7%AE%97%E6%B3%95%E7%9B%B8%E5%85%B3/%E6%96%B0%E6%89%8B%E6%9D%91/%E8%B4%AA%E5%BF%83%E7%AE%97%E6%B3%95%20Greedy/322.%20%E9%9B%B6%E9%92%B1%E5%85%91%E6%8D%A2.ipynb#ch0000001?line=28'>29</a>\u001b[0m dfs(coins, i\u001b[39m+\u001b[39;49m\u001b[39m1\u001b[39;49m, amount \u001b[39m-\u001b[39;49m cv \u001b[39m*\u001b[39;49m j, nc \u001b[39m+\u001b[39;49m j)\n",
      "\u001b[1;32m/Users/mlyan/Documents/OneDrive/PythonProject/1python教学/算法相关/新手村/贪心算法 Greedy/322. 零钱兑换.ipynb Cell 2'\u001b[0m in \u001b[0;36mf.<locals>.dfs\u001b[0;34m(coins, i, amount, nc)\u001b[0m\n\u001b[1;32m      <a href='vscode-notebook-cell:/Users/mlyan/Documents/OneDrive/PythonProject/1python%E6%95%99%E5%AD%A6/%E7%AE%97%E6%B3%95%E7%9B%B8%E5%85%B3/%E6%96%B0%E6%89%8B%E6%9D%91/%E8%B4%AA%E5%BF%83%E7%AE%97%E6%B3%95%20Greedy/322.%20%E9%9B%B6%E9%92%B1%E5%85%91%E6%8D%A2.ipynb#ch0000001?line=8'>9</a>\u001b[0m coins\u001b[39m.\u001b[39msort(reverse\u001b[39m=\u001b[39m\u001b[39mTrue\u001b[39;00m)\n\u001b[1;32m     <a href='vscode-notebook-cell:/Users/mlyan/Documents/OneDrive/PythonProject/1python%E6%95%99%E5%AD%A6/%E7%AE%97%E6%B3%95%E7%9B%B8%E5%85%B3/%E6%96%B0%E6%89%8B%E6%9D%91/%E8%B4%AA%E5%BF%83%E7%AE%97%E6%B3%95%20Greedy/322.%20%E9%9B%B6%E9%92%B1%E5%85%91%E6%8D%A2.ipynb#ch0000001?line=10'>11</a>\u001b[0m ans \u001b[39m=\u001b[39m \u001b[39mNone\u001b[39;00m\n\u001b[0;32m---> <a href='vscode-notebook-cell:/Users/mlyan/Documents/OneDrive/PythonProject/1python%E6%95%99%E5%AD%A6/%E7%AE%97%E6%B3%95%E7%9B%B8%E5%85%B3/%E6%96%B0%E6%89%8B%E6%9D%91/%E8%B4%AA%E5%BF%83%E7%AE%97%E6%B3%95%20Greedy/322.%20%E9%9B%B6%E9%92%B1%E5%85%91%E6%8D%A2.ipynb#ch0000001?line=12'>13</a>\u001b[0m \u001b[39mdef\u001b[39;00m \u001b[39mdfs\u001b[39m(coins, i, amount, nc):\n\u001b[1;32m     <a href='vscode-notebook-cell:/Users/mlyan/Documents/OneDrive/PythonProject/1python%E6%95%99%E5%AD%A6/%E7%AE%97%E6%B3%95%E7%9B%B8%E5%85%B3/%E6%96%B0%E6%89%8B%E6%9D%91/%E8%B4%AA%E5%BF%83%E7%AE%97%E6%B3%95%20Greedy/322.%20%E9%9B%B6%E9%92%B1%E5%85%91%E6%8D%A2.ipynb#ch0000001?line=13'>14</a>\u001b[0m     \u001b[39mnonlocal\u001b[39;00m ans\n\u001b[1;32m     <a href='vscode-notebook-cell:/Users/mlyan/Documents/OneDrive/PythonProject/1python%E6%95%99%E5%AD%A6/%E7%AE%97%E6%B3%95%E7%9B%B8%E5%85%B3/%E6%96%B0%E6%89%8B%E6%9D%91/%E8%B4%AA%E5%BF%83%E7%AE%97%E6%B3%95%20Greedy/322.%20%E9%9B%B6%E9%92%B1%E5%85%91%E6%8D%A2.ipynb#ch0000001?line=14'>15</a>\u001b[0m     \u001b[39mif\u001b[39;00m amount \u001b[39m==\u001b[39m \u001b[39m0\u001b[39m:\n",
      "\u001b[0;31mKeyboardInterrupt\u001b[0m: "
     ]
    }
   ],
   "source": [
    "from functools import lru_cache\n",
    "# 超时\n",
    "\n",
    "# [5,3,2] 54\n",
    "def f(coins: list, amount: int):\n",
    "    coins.sort(reverse=True)\n",
    "    res = float('inf')\n",
    "\n",
    "    def dfs(i, amount, cnt):\n",
    "        nonlocal res\n",
    "        if amount == 0:\n",
    "            res = min(res, cnt)\n",
    "            return\n",
    "        if i > len(coins) - 1:\n",
    "            return\n",
    "        k = amount // coins[i]\n",
    "        for icnt in range(k, -1, -1):\n",
    "            if icnt + cnt <= res:\n",
    "                dfs(i + 1, amount - icnt * coins[i], cnt + icnt)\n",
    "\n",
    "    dfs(0, amount, 0)\n",
    "    return res if res != float('inf') else -1\n",
    "\n",
    "\n",
    "f([1, 2, 5], 100)\n",
    "f([5, 2, 1], 11)\n",
    "# f([2], 3)\n",
    "f([3, 7, 405, 436], 8839)\n",
    "f([411, 412, 413, 414, 415, 416, 417, 418, 419, 420, 421, 422], 9864)\n"
   ]
  },
  {
   "cell_type": "code",
   "execution_count": null,
   "metadata": {},
   "outputs": [],
   "source": []
  }
 ],
 "metadata": {
  "interpreter": {
   "hash": "aee8b7b246df8f9039afb4144a1f6fd8d2ca17a180786b69acc140d282b71a49"
  },
  "kernelspec": {
   "display_name": "Python 3.10.1 64-bit",
   "language": "python",
   "name": "python3"
  },
  "language_info": {
   "codemirror_mode": {
    "name": "ipython",
    "version": 3
   },
   "file_extension": ".py",
   "mimetype": "text/x-python",
   "name": "python",
   "nbconvert_exporter": "python",
   "pygments_lexer": "ipython3",
   "version": "3.10.1"
  },
  "orig_nbformat": 4
 },
 "nbformat": 4,
 "nbformat_minor": 2
}
