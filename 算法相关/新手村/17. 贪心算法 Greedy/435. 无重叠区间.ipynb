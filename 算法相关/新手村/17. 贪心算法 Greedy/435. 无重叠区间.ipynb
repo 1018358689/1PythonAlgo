{
 "cells": [
  {
   "cell_type": "code",
   "execution_count": 1,
   "metadata": {},
   "outputs": [],
   "source": [
    "# 按结束时间从小到大排序      # 没必要 结束时间相同按开始时间从大到小排序\n",
    "def f(intervals: list):\n",
    "    intervals.sort(key=lambda x: x[1])\n",
    "    cnt = 1\n",
    "    end = intervals[0][1]\n",
    "    for s, e in intervals[1:]:\n",
    "        if s >= end:\n",
    "            cnt += 1\n",
    "            end = e\n",
    "    return len(intervals) - cnt\n"
   ]
  },
  {
   "cell_type": "code",
   "execution_count": 8,
   "metadata": {},
   "outputs": [
    {
     "data": {
      "text/plain": [
       "4"
      ]
     },
     "execution_count": 8,
     "metadata": {},
     "output_type": "execute_result"
    }
   ],
   "source": [
    "# 按结束时间从小到大排序\n",
    "# 贪心证明略  归纳法 反证法\n",
    "def f(intervals: list):\n",
    "    intervals.sort(key=lambda x: x[1])\n",
    "    cnt = 1\n",
    "    end = intervals[0][1]\n",
    "    for s, e in intervals[1:]:\n",
    "        if s >= end:\n",
    "            cnt += 1\n",
    "            end = e\n",
    "    return cnt\n",
    "\n",
    "\n",
    "f([(0, 12), (1, 5), (4, 7), (6, 10), (9, 12), (11, 12), (13, 14)])\n"
   ]
  },
  {
   "cell_type": "code",
   "execution_count": 7,
   "metadata": {},
   "outputs": [
    {
     "data": {
      "text/plain": [
       "4"
      ]
     },
     "execution_count": 7,
     "metadata": {},
     "output_type": "execute_result"
    }
   ],
   "source": [
    "# 动态规划\n",
    "def f(intervals: list):\n",
    "    intervals.sort()\n",
    "    # dp[i] 以intervals[i]为止的最多活动数 i:[0,len-1]\n",
    "    # dp[i] = dp[j]+1 j:i-0\n",
    "    # basecase dp[0]=1\n",
    "    dp = [1] * len(intervals)\n",
    "    for i in range(1, len(intervals)):\n",
    "        for j in range(i - 1, -1, -1):\n",
    "            if intervals[j][1] <= intervals[i][0]:\n",
    "                dp[i] = dp[j] + 1\n",
    "                break\n",
    "    return max(dp)\n",
    "\n",
    "\n",
    "f([(0, 12), (1, 5), (4, 7), (6, 10), (9, 12), (11, 12), (13, 14)])\n"
   ]
  },
  {
   "cell_type": "code",
   "execution_count": null,
   "metadata": {},
   "outputs": [],
   "source": []
  }
 ],
 "metadata": {
  "interpreter": {
   "hash": "a5f34674cfcc9b13426a2d112c686bc132e4ef443f1487e707e7c3787d6bcf89"
  },
  "kernelspec": {
   "display_name": "Python 3.10.4 64-bit (windows store)",
   "language": "python",
   "name": "python3"
  },
  "language_info": {
   "codemirror_mode": {
    "name": "ipython",
    "version": 3
   },
   "file_extension": ".py",
   "mimetype": "text/x-python",
   "name": "python",
   "nbconvert_exporter": "python",
   "pygments_lexer": "ipython3",
   "version": "3.10.4"
  },
  "orig_nbformat": 4
 },
 "nbformat": 4,
 "nbformat_minor": 2
}
