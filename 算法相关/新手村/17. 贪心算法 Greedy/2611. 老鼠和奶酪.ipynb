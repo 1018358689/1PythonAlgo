{
 "cells": [
  {
   "cell_type": "code",
   "execution_count": null,
   "metadata": {},
   "outputs": [],
   "source": [
    "class Solution:\n",
    "\n",
    "    def miceAndCheese(self, reward1: List[int], reward2: List[int], k: int) -> int:\n",
    "        # 先全部给第二只老鼠吃 得分 sum(reward2)\n",
    "        # 然后思考每一个奶酪假如给第一只吃那么 总分 - reward2[i] + reward1[i]\n",
    "        # 即增加 reward1[i] - reward2[i]\n",
    "        # 那么取前k给增加就行\n",
    "        a = sorted(((i - j) for i, j in zip(reward1, reward2)), reverse=True)\n",
    "        return sum(reward2) + sum(a[:k])"
   ]
  }
 ],
 "metadata": {
  "language_info": {
   "name": "python"
  },
  "orig_nbformat": 4
 },
 "nbformat": 4,
 "nbformat_minor": 2
}
