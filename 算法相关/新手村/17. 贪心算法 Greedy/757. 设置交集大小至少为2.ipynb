{
 "cells": [
  {
   "cell_type": "code",
   "execution_count": null,
   "metadata": {},
   "outputs": [],
   "source": [
    "from typing import List\n",
    "\n",
    "\n",
    "class Solution:\n",
    "    def intersectionSizeTwo(self, intervals: List[List[int]]) -> int:\n",
    "        intervals.sort(key=lambda x: (x[1], -x[0]))\n",
    "        ans = 2\n",
    "        r = intervals[0][1]\n",
    "        l = r-1\n",
    "        for s, e in intervals[1:]:\n",
    "            if s <= l:\n",
    "                continue\n",
    "            elif s <= r:\n",
    "                ans += 1\n",
    "                l, r = r, e\n",
    "            else:\n",
    "                ans += 2\n",
    "                l, r = e-1, e\n",
    "        return ans\n"
   ]
  }
 ],
 "metadata": {
  "language_info": {
   "name": "python"
  },
  "orig_nbformat": 4
 },
 "nbformat": 4,
 "nbformat_minor": 2
}
