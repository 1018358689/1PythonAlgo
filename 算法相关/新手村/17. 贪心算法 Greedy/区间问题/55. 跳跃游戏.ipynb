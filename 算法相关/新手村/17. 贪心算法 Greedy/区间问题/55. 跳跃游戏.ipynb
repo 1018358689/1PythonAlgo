{
 "cells": [
  {
   "cell_type": "code",
   "execution_count": null,
   "metadata": {},
   "outputs": [],
   "source": [
    "from typing import List\n",
    "\n",
    "\n",
    "class Solution:\n",
    "\n",
    "    def canJump(self, nums: List[int]) -> bool:\n",
    "        cur_mx = 0\n",
    "        n = len(nums)\n",
    "        for i, num in enumerate(nums):\n",
    "            if i <= cur_mx:\n",
    "                cur_mx = max(cur_mx, i + num)\n",
    "            else:\n",
    "                return False\n",
    "\n",
    "            if cur_mx >= n - 1:\n",
    "                return True"
   ]
  },
  {
   "cell_type": "code",
   "execution_count": 3,
   "metadata": {},
   "outputs": [
    {
     "data": {
      "text/plain": [
       "(True, False)"
      ]
     },
     "execution_count": 3,
     "metadata": {},
     "output_type": "execute_result"
    }
   ],
   "source": [
    "def f(nums: list):\n",
    "    maxLength = 0\n",
    "    for i, n in enumerate(nums):\n",
    "        if maxLength < i:\n",
    "            return False\n",
    "        maxLength = max(maxLength, i + n)\n",
    "        if maxLength >= len(nums) - 1:\n",
    "            return True\n",
    "\n",
    "\n",
    "f([2, 3, 1, 1, 4]), f([3, 2, 1, 0, 4])\n"
   ]
  }
 ],
 "metadata": {
  "interpreter": {
   "hash": "aee8b7b246df8f9039afb4144a1f6fd8d2ca17a180786b69acc140d282b71a49"
  },
  "kernelspec": {
   "display_name": "Python 3.10.1 64-bit",
   "language": "python",
   "name": "python3"
  },
  "language_info": {
   "codemirror_mode": {
    "name": "ipython",
    "version": 3
   },
   "file_extension": ".py",
   "mimetype": "text/x-python",
   "name": "python",
   "nbconvert_exporter": "python",
   "pygments_lexer": "ipython3",
   "version": "3.10.1"
  },
  "orig_nbformat": 4
 },
 "nbformat": 4,
 "nbformat_minor": 2
}
