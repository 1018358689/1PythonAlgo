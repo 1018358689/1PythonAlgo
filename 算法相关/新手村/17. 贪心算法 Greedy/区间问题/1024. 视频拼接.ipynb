{
 "cells": [
  {
   "cell_type": "code",
   "execution_count": null,
   "metadata": {},
   "outputs": [],
   "source": [
    "class Solution:\n",
    "\n",
    "    def videoStitching(self, clips: List[List[int]], time: int) -> int:\n",
    "        n = len(clips)\n",
    "        clips.sort(key=lambda x: x[0])\n",
    "\n",
    "        ans = 0\n",
    "        cur_end = nxt_end = 0\n",
    "        i = 0\n",
    "        while i < n and clips[i][0] <= cur_end:\n",
    "            while i < n and clips[i][0] <= cur_end:\n",
    "                nxt_end = max(nxt_end, clips[i][1])\n",
    "                i += 1\n",
    "\n",
    "            ans += 1\n",
    "            cur_end = nxt_end\n",
    "            if cur_end >= time:\n",
    "                return ans\n",
    "        return -1"
   ]
  }
 ],
 "metadata": {
  "language_info": {
   "name": "python"
  },
  "orig_nbformat": 4
 },
 "nbformat": 4,
 "nbformat_minor": 2
}
