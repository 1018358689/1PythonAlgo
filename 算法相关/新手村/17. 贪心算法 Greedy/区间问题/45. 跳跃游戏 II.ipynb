{
 "cells": [
  {
   "cell_type": "code",
   "execution_count": null,
   "metadata": {},
   "outputs": [],
   "source": [
    "from typing import List\n",
    "\n",
    "\n",
    "class Solution:\n",
    "\n",
    "    def jump(self, nums: List[int]) -> int:\n",
    "        if len(nums) == 1:\n",
    "            return 0\n",
    "        n = len(nums)\n",
    "        cur_mx = nxt_mx = 0\n",
    "        ranges = [(i, i + num) for i, num in enumerate(nums)]\n",
    "        p = 0\n",
    "        ans = 0\n",
    "        while True:\n",
    "            while ranges[p][0] <= cur_mx:\n",
    "                nxt_mx = max(nxt_mx, ranges[p][1])\n",
    "                p += 1\n",
    "            ans += 1\n",
    "            cur_mx = nxt_mx\n",
    "            if cur_mx >= n - 1:\n",
    "                return ans"
   ]
  }
 ],
 "metadata": {
  "language_info": {
   "name": "python"
  },
  "orig_nbformat": 4
 },
 "nbformat": 4,
 "nbformat_minor": 2
}
