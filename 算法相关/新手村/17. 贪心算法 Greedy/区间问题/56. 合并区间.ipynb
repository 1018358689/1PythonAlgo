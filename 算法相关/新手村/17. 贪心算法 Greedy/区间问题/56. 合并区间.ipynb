{
 "cells": [
  {
   "cell_type": "code",
   "execution_count": null,
   "metadata": {},
   "outputs": [],
   "source": [
    "class Solution:\n",
    "\n",
    "    def merge(self, intervals: List[List[int]]) -> List[List[int]]:\n",
    "        intervals.sort(key=lambda x: x[0])\n",
    "        ans = []\n",
    "        start, end = intervals[0]\n",
    "        for x, y in intervals[1:]:\n",
    "            if x > end:\n",
    "                ans.append([start, end])\n",
    "                start = x\n",
    "            end = max(end, y)\n",
    "        ans.append([start, end])\n",
    "        return ans"
   ]
  }
 ],
 "metadata": {
  "language_info": {
   "name": "python"
  },
  "orig_nbformat": 4
 },
 "nbformat": 4,
 "nbformat_minor": 2
}
