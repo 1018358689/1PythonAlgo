{
 "cells": [
  {
   "cell_type": "code",
   "execution_count": null,
   "metadata": {},
   "outputs": [],
   "source": [
    "class Solution:\n",
    "\n",
    "    def countWays(self, ranges: List[List[int]]) -> int:\n",
    "        mod = 10**9 + 7\n",
    "        ans = 1\n",
    "        ranges.sort(key=lambda x: x[0])\n",
    "        end = ranges[0][1]\n",
    "        for x, y in ranges[1:]:\n",
    "            if x > end:\n",
    "                ans += 1\n",
    "            end = max(end, y)\n",
    "        return pow(2, ans, mod)"
   ]
  }
 ],
 "metadata": {
  "language_info": {
   "name": "python"
  },
  "orig_nbformat": 4
 },
 "nbformat": 4,
 "nbformat_minor": 2
}
