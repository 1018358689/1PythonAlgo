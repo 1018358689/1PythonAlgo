{
 "cells": [
  {
   "cell_type": "code",
   "execution_count": null,
   "metadata": {},
   "outputs": [],
   "source": [
    "class Solution:\n",
    "\n",
    "    def minTaps(self, n: int, ranges: List[int]) -> int:\n",
    "        ranges = sorted(((i - x, i + x) for i, x in enumerate(ranges)), key=lambda x: x[0])\n",
    "        ans = 0\n",
    "        cur_mx = nxt_mx = 0\n",
    "        p = 0\n",
    "        n += 1\n",
    "        while p < n and ranges[p][0] <= cur_mx:\n",
    "            while p < n and ranges[p][0] <= cur_mx:\n",
    "                nxt_mx = max(nxt_mx, ranges[p][1])\n",
    "                p += 1\n",
    "            ans += 1\n",
    "            cur_mx = nxt_mx\n",
    "            if cur_mx >= n - 1:\n",
    "                return ans\n",
    "        return -1"
   ]
  }
 ],
 "metadata": {
  "language_info": {
   "name": "python"
  },
  "orig_nbformat": 4
 },
 "nbformat": 4,
 "nbformat_minor": 2
}
