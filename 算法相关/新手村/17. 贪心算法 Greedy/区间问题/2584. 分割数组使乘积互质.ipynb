{
 "cells": [
  {
   "cell_type": "code",
   "execution_count": null,
   "metadata": {},
   "outputs": [],
   "source": [
    "class Solution:\n",
    "\n",
    "    def findValidSplit(self, nums: List[int]) -> int:\n",
    "        n = len(nums)\n",
    "        left = {}  # 质因子第一次出现的下标\n",
    "        right = [-1] * n  # 下标：值  =>  下标i对应的最右端下标\n",
    "\n",
    "        def f(d, i):\n",
    "            if d in left:\n",
    "                right[left[d]] = i\n",
    "            else:\n",
    "                left[d] = i\n",
    "                right[i] = i\n",
    "\n",
    "        for i, x in enumerate(nums):\n",
    "            d = 2\n",
    "            while d * d <= x:\n",
    "                if x % d == 0:\n",
    "                    f(d, i)\n",
    "                    x //= d\n",
    "                    while x % d == 0:\n",
    "                        x //= d\n",
    "                d += 1\n",
    "            if x > 1:\n",
    "                f(x, i)\n",
    "\n",
    "        cur_mx = 0\n",
    "        for l, r in enumerate(right):\n",
    "            if l > cur_mx:\n",
    "                return cur_mx\n",
    "            cur_mx = max(cur_mx, r)\n",
    "        return -1"
   ]
  },
  {
   "cell_type": "code",
   "execution_count": null,
   "metadata": {},
   "outputs": [],
   "source": [
    "from typing import List\n",
    "\n",
    "\n",
    "class Solution:\n",
    "\n",
    "    def findValidSplit(self, nums: List[int]) -> int:\n",
    "        n = len(nums)\n",
    "        d2range = {}  # 区间\n",
    "\n",
    "        def f(d, i):\n",
    "            if d in d2range:\n",
    "                d2range[d][1] = i\n",
    "            else:\n",
    "                d2range[d] = [i, i]\n",
    "\n",
    "        for i, x in enumerate(nums):\n",
    "            d = 2\n",
    "            while d * d <= x:\n",
    "                if x % d == 0:\n",
    "                    f(d, i)\n",
    "                    x //= d\n",
    "                    while x % d == 0:\n",
    "                        x //= d\n",
    "                d += 1\n",
    "            if x > 1:\n",
    "                f(x, i)\n",
    "\n",
    "        ranges = sorted(((x, y) for x, y in d2range.values() if x != y), key=lambda x: x[0])\n",
    "        # print(ranges)\n",
    "        cur_mx = 0\n",
    "        for x, y in ranges:\n",
    "            if x > cur_mx:\n",
    "                return cur_mx\n",
    "            cur_mx = max(cur_mx, y)\n",
    "        return cur_mx if cur_mx < n - 1 else -1\n"
   ]
  }
 ],
 "metadata": {
  "kernelspec": {
   "display_name": "Python 3",
   "language": "python",
   "name": "python3"
  },
  "language_info": {
   "name": "python",
   "version": "3.11.1"
  },
  "orig_nbformat": 4,
  "vscode": {
   "interpreter": {
    "hash": "ff4b1fca65a764b45acb559e482afe389d289dd599b9f8c5fd12ff5c2ea46a65"
   }
  }
 },
 "nbformat": 4,
 "nbformat_minor": 2
}
