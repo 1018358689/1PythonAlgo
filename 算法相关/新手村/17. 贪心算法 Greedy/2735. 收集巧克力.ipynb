{
 "cells": [
  {
   "cell_type": "code",
   "execution_count": null,
   "metadata": {},
   "outputs": [],
   "source": [
    "class Solution:\n",
    "\n",
    "    def minCost(self, nums: List[int], x: int) -> int:\n",
    "        # 操作两次\n",
    "        # i类型巧克力 最小收集成本为 0 1 2这几次过程中的最小值\n",
    "        # a[i] = min(nums[i], nums[i + 1], nums[i + 2]) 可以过程中不断取小\n",
    "        n = len(nums)\n",
    "        a = nums[:]\n",
    "        ans = sum(a)\n",
    "        for i in range(1, n):  # 第几次\n",
    "            for j in range(n):\n",
    "                a[j] = min(a[j], nums[(j + i) % n])\n",
    "            ans = min(ans, sum(a) + i * x)\n",
    "        return ans"
   ]
  },
  {
   "cell_type": "code",
   "execution_count": null,
   "metadata": {},
   "outputs": [],
   "source": [
    "class Solution:\n",
    "\n",
    "    def minCost(self, nums: List[int], x: int) -> int:\n",
    "        # 操作两次\n",
    "        # i类型巧克力 最小收集成本为 0 1 2这几次过程中的最小值\n",
    "        # a[i] = min(nums[i], nums[i + 1], nums[i + 2]) 可以过程中不断取小\n",
    "        n = len(nums)\n",
    "        a = nums[:]\n",
    "        ans = s = sum(a)\n",
    "        for i in range(1, n):  # 第几次\n",
    "            for j in range(n):\n",
    "                if nums[(j + i) % n] < a[j]:  # 过程a[j]取最小 s相应变化\n",
    "                    s += nums[(j + i) % n] - a[j]\n",
    "                    a[j] = nums[(j + i) % n]\n",
    "            s += x\n",
    "            if s < ans:\n",
    "                ans = s\n",
    "        return ans"
   ]
  }
 ],
 "metadata": {
  "language_info": {
   "name": "python"
  },
  "orig_nbformat": 4
 },
 "nbformat": 4,
 "nbformat_minor": 2
}
