{
 "cells": [
  {
   "cell_type": "code",
   "execution_count": 1,
   "metadata": {},
   "outputs": [
    {
     "data": {
      "text/plain": [
       "[2, 4, 1, 2, 0]"
      ]
     },
     "execution_count": 1,
     "metadata": {},
     "output_type": "execute_result"
    }
   ],
   "source": [
    "class Solution:\n",
    "\n",
    "    def advantageCount(self, nums1: List[int], nums2: List[int]) -> List[int]:\n",
    "        # 田忌赛马\n",
    "        nums1.sort()\n",
    "        ans = []\n",
    "        for x in nums2:\n",
    "            l = bisect_right(nums1, x)\n",
    "            if l == len(nums1):  # 下等马对上等马\n",
    "                ans.append(nums1.pop(0))\n",
    "            else:  # 上等马对上等马\n",
    "                ans.append(nums1.pop(l))\n",
    "        return ans"
   ]
  },
  {
   "cell_type": "code",
   "execution_count": null,
   "metadata": {},
   "outputs": [],
   "source": [
    "class Solution:\n",
    "\n",
    "    def advantageCount(self, nums1: List[int], nums2: List[int]) -> List[int]:\n",
    "        # 田忌赛马\n",
    "        nums1.sort()\n",
    "        n = len(nums1)\n",
    "        lst = sorted(range(n), key=lambda x: nums2[x])\n",
    "        l, r = 0, n - 1\n",
    "        ans = [-1] * n\n",
    "        for x in nums1:\n",
    "            if x > nums2[lst[l]]:  # 下等马对抗取胜\n",
    "                ans[lst[l]] = x\n",
    "                l += 1\n",
    "            else:\n",
    "                ans[lst[r]] = x  # 下等马对上等马取败\n",
    "                r -= 1\n",
    "        return ans"
   ]
  }
 ],
 "metadata": {
  "kernelspec": {
   "display_name": "Python 3.10.5 64-bit",
   "language": "python",
   "name": "python3"
  },
  "language_info": {
   "codemirror_mode": {
    "name": "ipython",
    "version": 3
   },
   "file_extension": ".py",
   "mimetype": "text/x-python",
   "name": "python",
   "nbconvert_exporter": "python",
   "pygments_lexer": "ipython3",
   "version": "3.10.5"
  },
  "orig_nbformat": 4,
  "vscode": {
   "interpreter": {
    "hash": "3196968d684371006099b3d55edeef8ed90365227a30deaef86e5d4aa8519be0"
   }
  }
 },
 "nbformat": 4,
 "nbformat_minor": 2
}
