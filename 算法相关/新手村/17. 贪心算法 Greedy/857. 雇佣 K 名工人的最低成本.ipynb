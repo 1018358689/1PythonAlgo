{
 "cells": [
  {
   "cell_type": "code",
   "execution_count": null,
   "metadata": {},
   "outputs": [],
   "source": [
    "from typing import List\n",
    "import heapq\n",
    "\n",
    "\n",
    "class Solution:\n",
    "\n",
    "    def mincostToHireWorkers(self, quality: List[int], wage: List[int], k: int) -> float:\n",
    "        ans = float('inf')\n",
    "        pq = []  # 最大堆存前几名质量\n",
    "        total = 0  # 质量和\n",
    "        for r, q in sorted((w / q, q) for q, w in zip(quality, wage)):\n",
    "            # r为基准 k个数据取r最大作为计算\n",
    "            if len(pq) >= k:  # 保持pq为k-1大小 方便加入r对应的q 使大小变为k\n",
    "                total += heapq.heappop(pq)\n",
    "            heapq.heappush(pq, -q)\n",
    "            total += q\n",
    "            if len(pq) == k:\n",
    "                ans = min(ans, r * total)\n",
    "        return ans"
   ]
  }
 ],
 "metadata": {
  "language_info": {
   "name": "python"
  },
  "orig_nbformat": 4
 },
 "nbformat": 4,
 "nbformat_minor": 2
}
