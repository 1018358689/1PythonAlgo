{
 "cells": [
  {
   "cell_type": "code",
   "execution_count": null,
   "metadata": {},
   "outputs": [],
   "source": [
    "from typing import List\n",
    "\n",
    "\n",
    "class Solution:\n",
    "\n",
    "    def getMaximumConsecutive(self, coins: List[int]) -> int:\n",
    "        coins.sort()\n",
    "        lim = 0\n",
    "        for coin in coins:\n",
    "            if coin + 0 > lim + 1:\n",
    "                break\n",
    "            lim += coin\n",
    "        return lim + 1"
   ]
  }
 ],
 "metadata": {
  "language_info": {
   "name": "python"
  },
  "orig_nbformat": 4
 },
 "nbformat": 4,
 "nbformat_minor": 2
}
