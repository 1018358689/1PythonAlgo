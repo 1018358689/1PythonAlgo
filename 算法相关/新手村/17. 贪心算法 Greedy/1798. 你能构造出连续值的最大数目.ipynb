{
 "cells": [
  {
   "cell_type": "code",
   "execution_count": null,
   "metadata": {},
   "outputs": [],
   "source": [
    "from typing import List\n",
    "\n",
    "\n",
    "class Solution:\n",
    "\n",
    "    def getMaximumConsecutive(self, coins: List[int]) -> int:\n",
    "        coins.sort()\n",
    "        lim = 0\n",
    "        for coin in coins:\n",
    "            if coin + 0 > lim + 1:\n",
    "                break\n",
    "            lim += coin\n",
    "        return lim + 1"
   ]
  }
 ],
 "metadata": {
  "kernelspec": {
   "display_name": "Python 3",
   "language": "python",
   "name": "python3"
  },
  "language_info": {
   "name": "python",
   "version": "3.10.6"
  },
  "orig_nbformat": 4,
  "vscode": {
   "interpreter": {
    "hash": "dfbf064e0f2c8839bc658dd75dfc0b8f09a0440078cae3024109b27659b69d06"
   }
  }
 },
 "nbformat": 4,
 "nbformat_minor": 2
}
