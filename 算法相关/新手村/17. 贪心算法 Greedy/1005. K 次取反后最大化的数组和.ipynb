{
 "cells": [
  {
   "cell_type": "code",
   "execution_count": 4,
   "metadata": {},
   "outputs": [
    {
     "data": {
      "text/plain": [
       "(5, 6, 13)"
      ]
     },
     "execution_count": 4,
     "metadata": {},
     "output_type": "execute_result"
    }
   ],
   "source": [
    "from typing import List\n",
    "\n",
    "\n",
    "class Solution:\n",
    "\n",
    "    def largestSumAfterKNegations(self, nums: List[int], k: int) -> int:\n",
    "        nums.sort()\n",
    "        sep = -1  # 负数个数\n",
    "        for i, n in enumerate(nums + [1]):\n",
    "            if n >= 0:\n",
    "                sep = i\n",
    "                break\n",
    "        if sep >= k:\n",
    "            return -sum(nums[:k]) + sum(nums[k:])\n",
    "        else:\n",
    "            nums = sorted(map(abs, nums))\n",
    "            if (k - sep) & 1:\n",
    "                return sum(nums[1:]) - nums[0]\n",
    "            else:\n",
    "                return sum(nums)\n",
    "\n",
    "\n",
    "s = Solution()\n",
    "s.largestSumAfterKNegations([4, 2, 3], 1), s.largestSumAfterKNegations([3, -1, 0, 2], 3), s.largestSumAfterKNegations([2, -3, -1, 5, -4], 2)\n"
   ]
  },
  {
   "cell_type": "code",
   "execution_count": 5,
   "metadata": {},
   "outputs": [
    {
     "data": {
      "text/plain": [
       "(5, 6, 13)"
      ]
     },
     "execution_count": 5,
     "metadata": {},
     "output_type": "execute_result"
    }
   ],
   "source": [
    "from typing import List\n",
    "\n",
    "\n",
    "class Solution:\n",
    "\n",
    "    def largestSumAfterKNegations(self, nums: List[int], k: int) -> int:\n",
    "        nums.sort()\n",
    "        # 二分查找 寻找正负分割点\n",
    "        l, r = 0, len(nums) - 1\n",
    "        while l <= r:\n",
    "            m = l + r >> 1\n",
    "            if nums[m] < 0:\n",
    "                l = m + 1\n",
    "            else:\n",
    "                r = m - 1\n",
    "        sep = r + 1 # 负数个数\n",
    "        if sep >= k: # 反转数比负数少 则反转左边k个负数\n",
    "            return -sum(nums[:k]) + sum(nums[k:])\n",
    "        else: # 全部负数翻完k还有余\n",
    "            nums = sorted(map(abs, nums))\n",
    "            if (k - sep) & 1: # 根据剩余反转k 偶数全抵消 奇数抵消后翻第一个\n",
    "                return sum(nums[1:]) - nums[0]\n",
    "            else:\n",
    "                return sum(nums)\n",
    "\n",
    "\n",
    "s = Solution()\n",
    "s.largestSumAfterKNegations([4, 2, 3], 1), s.largestSumAfterKNegations([3, -1, 0, 2], 3), s.largestSumAfterKNegations([2, -3, -1, 5, -4], 2)\n"
   ]
  },
  {
   "cell_type": "code",
   "execution_count": 1,
   "metadata": {},
   "outputs": [
    {
     "data": {
      "text/plain": [
       "(5, 6, 13)"
      ]
     },
     "execution_count": 1,
     "metadata": {},
     "output_type": "execute_result"
    }
   ],
   "source": [
    "from typing import List\n",
    "import heapq\n",
    "\n",
    "\n",
    "class Solution:\n",
    "\n",
    "    def largestSumAfterKNegations(self, nums: List[int], k: int) -> int:\n",
    "        heapq.heapify(nums)\n",
    "        for _ in range(k):\n",
    "            heapq.heappush(nums, -heapq.heappop(nums))\n",
    "        return sum(nums)\n",
    "\n",
    "\n",
    "s = Solution()\n",
    "s.largestSumAfterKNegations([4, 2, 3], 1), s.largestSumAfterKNegations([3, -1, 0, 2], 3), s.largestSumAfterKNegations([2, -3, -1, 5, -4], 2)\n"
   ]
  },
  {
   "cell_type": "code",
   "execution_count": 22,
   "metadata": {},
   "outputs": [
    {
     "data": {
      "text/plain": [
       "5"
      ]
     },
     "execution_count": 22,
     "metadata": {},
     "output_type": "execute_result"
    }
   ],
   "source": [
    "from typing import List\n",
    "\n",
    "\n",
    "class BinaryHeap:\n",
    "\n",
    "    def __init__(self, nums: list):\n",
    "        self.nums = nums\n",
    "        for i in range((len(nums) - 1 - 1) >> 1, -1, -1):\n",
    "            self.downAdjust(i)\n",
    "\n",
    "    def upAdjust(self):\n",
    "        child = len(self.nums) - 1\n",
    "        parent = (child - 1) >> 1\n",
    "        insertVal = self.nums[child]\n",
    "        while parent >= 0 and self.nums[parent] > insertVal:\n",
    "            self.nums[child] = self.nums[parent]\n",
    "            child = parent\n",
    "            parent = (child - 1) >> 1\n",
    "        self.nums[child] = insertVal\n",
    "\n",
    "    def downAdjust(self, parent: int):\n",
    "        child = (parent << 1) + 1\n",
    "        insertVal = self.nums[parent]\n",
    "        while child < len(self.nums):\n",
    "            if child + 1 < len(self.nums) and self.nums[child + 1] < self.nums[child]:\n",
    "                child += 1\n",
    "            if self.nums[child] < insertVal:\n",
    "                self.nums[parent] = self.nums[child]\n",
    "                parent = child\n",
    "                child = (parent << 1) + 1\n",
    "            else:\n",
    "                break\n",
    "        self.nums[parent] = insertVal\n",
    "\n",
    "    def push(self, val: int):\n",
    "        self.nums.append(val)\n",
    "        self.upAdjust()\n",
    "\n",
    "    def pop(self):\n",
    "        tmp = self.nums[0]\n",
    "        self.nums[0] = self.nums.pop()\n",
    "        self.downAdjust(0)\n",
    "        return tmp\n",
    "\n",
    "\n",
    "class Solution:\n",
    "\n",
    "    def largestSumAfterKNegations(self, nums: List[int], k: int) -> int:\n",
    "        h = BinaryHeap(nums)\n",
    "        for _ in range(k):\n",
    "            h.push(-h.pop())\n",
    "        return sum(nums)\n",
    "\n",
    "\n",
    "s = Solution()\n",
    "s.largestSumAfterKNegations([4, 2, 3], 1)\n",
    "# s.largestSumAfterKNegations([3, -1, 0, 2], 3), s.largestSumAfterKNegations([2, -3, -1, 5, -4], 2)\n"
   ]
  },
  {
   "cell_type": "code",
   "execution_count": null,
   "metadata": {},
   "outputs": [],
   "source": []
  }
 ],
 "metadata": {
  "interpreter": {
   "hash": "aee8b7b246df8f9039afb4144a1f6fd8d2ca17a180786b69acc140d282b71a49"
  },
  "kernelspec": {
   "display_name": "Python 3.10.2 64-bit",
   "language": "python",
   "name": "python3"
  },
  "language_info": {
   "codemirror_mode": {
    "name": "ipython",
    "version": 3
   },
   "file_extension": ".py",
   "mimetype": "text/x-python",
   "name": "python",
   "nbconvert_exporter": "python",
   "pygments_lexer": "ipython3",
   "version": "3.10.2"
  },
  "orig_nbformat": 4
 },
 "nbformat": 4,
 "nbformat_minor": 2
}
