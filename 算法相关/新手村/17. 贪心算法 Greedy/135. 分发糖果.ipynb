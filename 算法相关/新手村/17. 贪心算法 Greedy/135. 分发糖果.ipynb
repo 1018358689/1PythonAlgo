{
 "cells": [
  {
   "cell_type": "code",
   "execution_count": 1,
   "metadata": {},
   "outputs": [],
   "source": [
    "from typing import List\n",
    "\n",
    "\n",
    "class Solution:\n",
    "\n",
    "    def candy(self, ratings: List[int]) -> int:\n",
    "        lgh = len(ratings)\n",
    "        left = [1] * lgh\n",
    "        right = [1] * lgh\n",
    "        ans = 0  # [0]*lgh\n",
    "        for i in range(1, lgh):  # 满足左要求\n",
    "            if ratings[i] > ratings[i - 1]:\n",
    "                left[i] = left[i - 1] + 1\n",
    "        for i in range(lgh - 2, -1, -1):  # 满足右要求\n",
    "            if ratings[i] > ratings[i + 1]:\n",
    "                right[i] = right[i + 1] + 1\n",
    "        for i in range(lgh):  # 满足左右要求\n",
    "            ans += max(left[i], right[i])\n",
    "        return ans"
   ]
  },
  {
   "cell_type": "code",
   "execution_count": 24,
   "metadata": {},
   "outputs": [
    {
     "name": "stdout",
     "output_type": "stream",
     "text": [
      "[0, 0, 0, 0, 0, 0, 0]\n",
      "[0, 1, 0, 0, 0, 1, 0]\n",
      "[0, 1, 2, 0, 2, 1, 0]\n",
      "[0, 1, 2, 3, 2, 1, 0]\n",
      "[0, 1, 2, 3, 4, 1, 0]\n"
     ]
    },
    {
     "data": {
      "text/plain": [
       "11"
      ]
     },
     "execution_count": 24,
     "metadata": {},
     "output_type": "execute_result"
    }
   ],
   "source": [
    "from typing import List\n",
    "from collections import deque\n",
    "\n",
    "\n",
    "class Solution:\n",
    "\n",
    "    def candy(self, ratings: List[int]) -> int:\n",
    "        q = deque([])\n",
    "        ratings = [float('inf')] + ratings + [float('inf')]  # 添加边界减少讨论\n",
    "        # 谷底入队 糖果为1\n",
    "        for i in range(1, len(ratings) - 1):\n",
    "            if ratings[i - 1] >= ratings[i] <= ratings[i + 1]:\n",
    "                q.append(i)\n",
    "        ans = [0] * len(ratings)\n",
    "        step = 1\n",
    "        # BFS\n",
    "        while q:\n",
    "            print(ans)\n",
    "            for _ in range(len(q)):\n",
    "                cur = q.popleft()\n",
    "                ans[cur] = step  # ans会动态反复更新\n",
    "                for nei in (cur - 1, cur + 1):  # 邻接点比他大 则入队\n",
    "                    if 1 <= nei < len(ratings) - 1 and ratings[nei] > ratings[cur]:\n",
    "                        q.append(nei)\n",
    "            step += 1\n",
    "        print(ans)\n",
    "        return sum(ans[1:len(ans) - 1])\n",
    "\n",
    "\n",
    "s = Solution()\n",
    "# s.candy([1, 2, 2, 2, 3, 1, 21, 31, 4, 1, 12, 3])\n",
    "s.candy([1, 3, 4, 5, 2])\n"
   ]
  },
  {
   "cell_type": "code",
   "execution_count": 23,
   "metadata": {},
   "outputs": [
    {
     "data": {
      "text/plain": [
       "11"
      ]
     },
     "execution_count": 23,
     "metadata": {},
     "output_type": "execute_result"
    }
   ],
   "source": [
    "from typing import List\n",
    "from collections import deque\n",
    "\n",
    "\n",
    "class Solution:\n",
    "\n",
    "    def candy(self, ratings: List[int]) -> int:\n",
    "        q = deque([])\n",
    "        ratings = [float('inf')] + ratings + [float('inf')]  # 添加边界减少讨论\n",
    "        indegree = [0] * len(ratings)  # 入度\n",
    "        # 谷底入队 糖果为1\n",
    "        for i in range(1, len(ratings) - 1):\n",
    "            indegree[i] = int(ratings[i] > ratings[i - 1]) + int(ratings[i] > ratings[i + 1])\n",
    "            if not indegree[i]:\n",
    "                q.append(i)\n",
    "        ans = 0\n",
    "        step = 1  # 当前要放的糖果\n",
    "        # BFS\n",
    "        while q:\n",
    "            ans += step * len(q)\n",
    "            for _ in range(len(q)):\n",
    "                cur = q.popleft()\n",
    "                for nei in (cur - 1, cur + 1):  # 邻接点比他大 则入队\n",
    "                    if 1 <= nei < len(ratings) - 1 and ratings[nei] > ratings[cur]:\n",
    "                        indegree[nei] -= 1\n",
    "                        if not indegree[nei]:  # 否则还要更大\n",
    "                            q.append(nei)\n",
    "            step += 1\n",
    "        return ans\n",
    "\n",
    "\n",
    "s = Solution()\n",
    "# s.candy([1, 2, 2, 2, 3, 1, 21, 31, 4, 1, 12, 3])\n",
    "s.candy([1, 3, 4, 5, 2])\n"
   ]
  },
  {
   "cell_type": "code",
   "execution_count": null,
   "metadata": {},
   "outputs": [],
   "source": []
  }
 ],
 "metadata": {
  "kernelspec": {
   "display_name": "Python 3.10.6 64-bit",
   "language": "python",
   "name": "python3"
  },
  "language_info": {
   "codemirror_mode": {
    "name": "ipython",
    "version": 3
   },
   "file_extension": ".py",
   "mimetype": "text/x-python",
   "name": "python",
   "nbconvert_exporter": "python",
   "pygments_lexer": "ipython3",
   "version": "3.10.6"
  },
  "orig_nbformat": 4,
  "vscode": {
   "interpreter": {
    "hash": "dfbf064e0f2c8839bc658dd75dfc0b8f09a0440078cae3024109b27659b69d06"
   }
  }
 },
 "nbformat": 4,
 "nbformat_minor": 2
}
