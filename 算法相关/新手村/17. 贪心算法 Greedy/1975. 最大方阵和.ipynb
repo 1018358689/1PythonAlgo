{
 "cells": [
  {
   "cell_type": "code",
   "execution_count": null,
   "metadata": {},
   "outputs": [],
   "source": [
    "class Solution:\n",
    "\n",
    "    def maxMatrixSum(self, matrix: List[List[int]]) -> int:\n",
    "        # 偶数负数 全变 正；奇数负数 剩一个绝对值最小的数为负数\n",
    "        mn = inf  # 绝对值最小的数\n",
    "        s = 0\n",
    "        cnt = 0\n",
    "        for row in matrix:\n",
    "            for x in row:\n",
    "                s += abs(x)\n",
    "                cnt += x < 0\n",
    "                mn = min(mn, abs(x))\n",
    "        return s if cnt & 1 == 0 else s - 2 * mn"
   ]
  }
 ],
 "metadata": {
  "language_info": {
   "name": "python"
  },
  "orig_nbformat": 4
 },
 "nbformat": 4,
 "nbformat_minor": 2
}
