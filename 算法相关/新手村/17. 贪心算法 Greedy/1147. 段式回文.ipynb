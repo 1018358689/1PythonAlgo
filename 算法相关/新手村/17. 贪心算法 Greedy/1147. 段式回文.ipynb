{
 "cells": [
  {
   "cell_type": "code",
   "execution_count": 1,
   "metadata": {},
   "outputs": [],
   "source": [
    "class Solution:\n",
    "\n",
    "    def longestDecomposition(self, s: str) -> int:\n",
    "\n",
    "        def dfs(i, j):  # s[i,j]最多段氏回文数\n",
    "            if i > j: return 0\n",
    "            for p in range(1, (j - i + 1) // 2 + 1):  # 枚举长度\n",
    "                if s[i:p + i] == s[j + 1 - p:j + 1]:  # 贪心一旦找到相同就作为答案一部分\n",
    "                    return dfs(p + i, j - p) + 2\n",
    "            return 1  # 最后都没有相同则算总的一段\n",
    "\n",
    "        return dfs(0, len(s) - 1)"
   ]
  },
  {
   "cell_type": "code",
   "execution_count": null,
   "metadata": {},
   "outputs": [],
   "source": [
    "class Solution:\n",
    "    def longestDecomposition(self, s: str) -> int:\n",
    "        @lru_cache(None)\n",
    "        def dfs(i, j): # s[i,j]最多段氏回文数\n",
    "            if i > j: return 0\n",
    "            ans = 1 # 最后都没有相同则算总的一段\n",
    "            for p in range(1, (j - i + 1) // 2 + 1): # 枚举长度\n",
    "                if s[i: p + i] == s[j + 1 - p: j + 1]:\n",
    "                    ans = max(ans, dfs(p + i, j - p) + 2)\n",
    "            return ans\n",
    "        return dfs(0, len(s) - 1)"
   ]
  }
 ],
 "metadata": {
  "kernelspec": {
   "display_name": "Python 3",
   "language": "python",
   "name": "python3"
  },
  "language_info": {
   "codemirror_mode": {
    "name": "ipython",
    "version": 3
   },
   "file_extension": ".py",
   "mimetype": "text/x-python",
   "name": "python",
   "nbconvert_exporter": "python",
   "pygments_lexer": "ipython3",
   "version": "3.10.6"
  },
  "orig_nbformat": 4
 },
 "nbformat": 4,
 "nbformat_minor": 2
}
