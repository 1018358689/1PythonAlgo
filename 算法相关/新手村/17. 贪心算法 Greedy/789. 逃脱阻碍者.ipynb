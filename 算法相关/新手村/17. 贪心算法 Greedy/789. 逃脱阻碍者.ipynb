{
 "cells": [
  {
   "cell_type": "code",
   "execution_count": null,
   "metadata": {},
   "outputs": [],
   "source": [
    "class Solution:\n",
    "\n",
    "    def escapeGhosts(self, ghosts: List[List[int]], target: List[int]) -> bool:\n",
    "        cal = lambda x, t: abs(t[0] - x[0]) + abs(t[1] - x[1])\n",
    "        t = cal((0, 0), target)\n",
    "        return all(cal(g, target) > t for g in ghosts)"
   ]
  }
 ],
 "metadata": {
  "language_info": {
   "name": "python"
  },
  "orig_nbformat": 4
 },
 "nbformat": 4,
 "nbformat_minor": 2
}
