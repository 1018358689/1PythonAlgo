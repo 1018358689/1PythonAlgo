{
 "cells": [
  {
   "cell_type": "code",
   "execution_count": null,
   "metadata": {},
   "outputs": [],
   "source": [
    "def f(g: list, s: list):\n",
    "    g.sort()\n",
    "    s.sort()\n",
    "    p1 = p2 = 0\n",
    "    while p1 < len(g) and p2 < len(s):\n",
    "        if s[p2] >= g[p1]: # 当满足饼干能喂饱该孩子则 下一个孩子\n",
    "            p1 += 1\n",
    "        p2 += 1 # 下一个饼干\n",
    "    return p1"
   ]
  }
 ],
 "metadata": {
  "language_info": {
   "name": "python"
  },
  "orig_nbformat": 4
 },
 "nbformat": 4,
 "nbformat_minor": 2
}
