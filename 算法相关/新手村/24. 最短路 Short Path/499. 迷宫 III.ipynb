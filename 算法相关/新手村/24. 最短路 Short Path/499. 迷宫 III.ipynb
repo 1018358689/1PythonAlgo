{
 "cells": [
  {
   "cell_type": "code",
   "execution_count": null,
   "metadata": {},
   "outputs": [],
   "source": [
    "# 效率没有 加best的高\n",
    "from collections import defaultdict\n",
    "from heapq import heappop, heappush\n",
    "from typing import List\n",
    "\n",
    "\n",
    "class Solution:\n",
    "\n",
    "    def findShortestWay(self, maze: List[List[int]], ball: List[int], hole: List[int]) -> str:\n",
    "        rows, cols = len(maze), len(maze[0])\n",
    "        dirs = (('u', -1, 0), ('d', 1, 0), ('l', 0, -1), ('r', 0, 1))\n",
    "        pq = [(0, '', *ball)]\n",
    "        costs = defaultdict(lambda: 'z')\n",
    "        costs[tuple(ball)] = 'a'\n",
    "        ans = []\n",
    "        while pq:\n",
    "            steps, cost, r, c = heappop(pq)\n",
    "            if [r, c] == hole:\n",
    "                return cost\n",
    "            for d, dr, dc in dirs:\n",
    "                nr, nc = r, c\n",
    "                step = 0\n",
    "                while rows > nr >= 0 <= nc < cols and maze[nr][nc] == 0 and [nr, nc] != hole:\n",
    "                    nr += dr\n",
    "                    nc += dc\n",
    "                    step += 1\n",
    "                if [nr, nc] != hole:\n",
    "                    nr -= dr\n",
    "                    nc -= dc\n",
    "                    step -= 1\n",
    "                nsteps = steps + step\n",
    "                ncost = cost + d\n",
    "                if ncost < costs[(nr, nc)]:\n",
    "                    costs[(nr, nc)] = ncost\n",
    "                    heappush(pq, (nsteps, ncost, nr, nc))\n",
    "        return 'impossible'"
   ]
  },
  {
   "cell_type": "code",
   "execution_count": null,
   "metadata": {},
   "outputs": [],
   "source": [
    "# 类似A×算法 将步数作为优先级 costs记录路径\n",
    "from collections import defaultdict\n",
    "from heapq import heappop, heappush\n",
    "from typing import List\n",
    "\n",
    "\n",
    "class Solution:\n",
    "\n",
    "    def findShortestWay(self, maze: List[List[int]], ball: List[int], hole: List[int]) -> str:\n",
    "        rows, cols = len(maze), len(maze[0])\n",
    "        dirs = ('u', -1, 0), ('l', 0, -1), ('d', 1, 0), ('r', 0, 1)\n",
    "        r, c = ball\n",
    "        pq = [(0, '', r, c)]  # 第一个是步数作为优先级\n",
    "        costs = defaultdict(lambda: 'z')\n",
    "        costs[(r, c)] = ''\n",
    "        best = set()\n",
    "        while pq:\n",
    "            pri, cost, r, c = heappop(pq) # 画图 假设目标位置是步数4 那么程序会把所有步数3 都入堆找 最小的cost\n",
    "            # 保证一层一层步数外扩\n",
    "            if [r, c] == hole:\n",
    "                return cost\n",
    "            best.add((r, c))\n",
    "            for d, dr, dc in dirs:\n",
    "                nr, nc = r, c\n",
    "                step = 0\n",
    "                while rows > nr >= 0 <= nc < cols and maze[nr][nc] == 0 and [nr, nc] != hole:\n",
    "                    nr += dr\n",
    "                    nc += dc\n",
    "                    step += 1\n",
    "                if [nr, nc] != hole:\n",
    "                    nr -= dr\n",
    "                    nc -= dc\n",
    "                    step -= 1\n",
    "                npri = pri + step\n",
    "                ncost = cost + d\n",
    "                if (nr, nc) not in best and ncost < costs[(nr, nc)]:\n",
    "                    costs[(nr, nc)] = ncost\n",
    "                    heappush(pq, (npri, ncost, nr, nc))\n",
    "        return 'impossible'"
   ]
  }
 ],
 "metadata": {
  "kernelspec": {
   "display_name": "Python 3",
   "language": "python",
   "name": "python3"
  },
  "language_info": {
   "name": "python",
   "version": "3.10.6 (main, Nov 14 2022, 16:10:14) [GCC 11.3.0]"
  },
  "orig_nbformat": 4,
  "vscode": {
   "interpreter": {
    "hash": "916dbcbb3f70747c44a77c7bcd40155683ae19c65e1c03b4aa3499c5328201f1"
   }
  }
 },
 "nbformat": 4,
 "nbformat_minor": 2
}
