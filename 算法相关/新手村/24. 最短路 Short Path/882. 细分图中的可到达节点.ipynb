{
 "cells": [
  {
   "cell_type": "code",
   "execution_count": 15,
   "metadata": {},
   "outputs": [
    {
     "name": "stdout",
     "output_type": "stream",
     "text": [
      "0 0\n",
      "3 3\n",
      "0 2\n",
      "0 3\n",
      "1 1\n"
     ]
    },
    {
     "data": {
      "text/plain": [
       "13"
      ]
     },
     "execution_count": 15,
     "metadata": {},
     "output_type": "execute_result"
    }
   ],
   "source": [
    "from typing import List\n",
    "from heapq import heappop, heappush\n",
    "from collections import defaultdict\n",
    "from math import inf\n",
    "\n",
    "\n",
    "class Solution:\n",
    "\n",
    "    def reachableNodes(self, edges: List[List[int]], maxMoves: int, n: int) -> int:\n",
    "        adj = [[] for _ in range(n)]\n",
    "        for u, v, c in edges:\n",
    "            adj[u].append((v, c + 1))\n",
    "            adj[v].append((u, c + 1))\n",
    "        pq = [(0, 0)]  # cost,cur\n",
    "        costs = {0: 0}\n",
    "        best = set()\n",
    "        while pq:\n",
    "            xc, x = heappop(pq)\n",
    "            best.add(x)\n",
    "            for y, c in adj[x]:\n",
    "                if y not in best:\n",
    "                    yc = xc + c\n",
    "                    if y not in costs or yc < costs[y]:\n",
    "                        costs[y] = yc\n",
    "                        heappush(pq, (yc, y))\n",
    "        ans = 0\n",
    "        canget = set()\n",
    "        # 可以在 maxMoves 步内到达的点和个数\n",
    "        for x, c in costs.items():\n",
    "            if c <= maxMoves:\n",
    "                ans += 1\n",
    "                canget.add(x)\n",
    "\n",
    "        for u, v, c in edges:\n",
    "            a = min(maxMoves - costs[u], c) if u in canget else 0\n",
    "            b = min(maxMoves - costs[v], c) if v in canget else 0\n",
    "            ans += min(a + b, c)  # 这条边上可以到达的节点数\n",
    "        return ans\n",
    "\n",
    "\n",
    "s = Solution()\n",
    "s.reachableNodes([[1, 2, 5], [0, 3, 3], [1, 3, 2], [2, 3, 4], [0, 4, 1]], 7, 5)\n"
   ]
  },
  {
   "cell_type": "code",
   "execution_count": 16,
   "metadata": {},
   "outputs": [
    {
     "data": {
      "text/plain": [
       "13"
      ]
     },
     "execution_count": 16,
     "metadata": {},
     "output_type": "execute_result"
    }
   ],
   "source": [
    "class Solution:\n",
    "    def reachableNodes(self, edges: List[List[int]], maxMoves: int, n: int) -> int:\n",
    "        g = [[] for _ in range(n)]\n",
    "        for u, v, cnt in edges:\n",
    "            g[u].append((v, cnt + 1))\n",
    "            g[v].append((u, cnt + 1))  # 建图\n",
    "\n",
    "        dist = self.dijkstra(g, 0)  # 从 0 出发的最短路\n",
    "\n",
    "        ans = sum(d <= maxMoves for d in dist)  # 可以在 maxMoves 步内到达的点的个数\n",
    "        for u, v, cnt in edges:\n",
    "            a = max(maxMoves - dist[u], 0)\n",
    "            b = max(maxMoves - dist[v], 0)\n",
    "            ans += min(a + b, cnt)  # 这条边上可以到达的节点数\n",
    "        return ans\n",
    "\n",
    "    # Dijkstra 算法模板\n",
    "    # 返回从 start 到每个点的最短路\n",
    "    def dijkstra(self, g, start: int) -> List[int]:\n",
    "        dist = [inf] * len(g)\n",
    "        dist[start] = 0\n",
    "        h = [(0, start)]\n",
    "        while h:\n",
    "            d, x = heappop(h)\n",
    "            if d > dist[x]:\n",
    "                continue\n",
    "            for y, wt in g[x]:\n",
    "                new_d = dist[x] + wt\n",
    "                if new_d < dist[y]:\n",
    "                    dist[y] = new_d\n",
    "                    heappush(h, (new_d, y))\n",
    "        return dist\n",
    "s = Solution()\n",
    "s.reachableNodes([[1, 2, 5], [0, 3, 3], [1, 3, 2], [2, 3, 4], [0, 4, 1]], 7, 5)\n"
   ]
  },
  {
   "cell_type": "code",
   "execution_count": null,
   "metadata": {},
   "outputs": [],
   "source": []
  }
 ],
 "metadata": {
  "kernelspec": {
   "display_name": "Python 3.10.5 64-bit",
   "language": "python",
   "name": "python3"
  },
  "language_info": {
   "codemirror_mode": {
    "name": "ipython",
    "version": 3
   },
   "file_extension": ".py",
   "mimetype": "text/x-python",
   "name": "python",
   "nbconvert_exporter": "python",
   "pygments_lexer": "ipython3",
   "version": "3.10.5"
  },
  "orig_nbformat": 4,
  "vscode": {
   "interpreter": {
    "hash": "3196968d684371006099b3d55edeef8ed90365227a30deaef86e5d4aa8519be0"
   }
  }
 },
 "nbformat": 4,
 "nbformat_minor": 2
}
