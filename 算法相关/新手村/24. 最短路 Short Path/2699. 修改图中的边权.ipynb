{
 "cells": [
  {
   "cell_type": "markdown",
   "metadata": {},
   "source": [
    "先把-1变成1 并记录位置，然后跑一边dijkstra记录source到各点最短路，如果到\n",
    "destination最短路大于target则意味着最短的最短路（后面1还要变大）都大于target，直接退出。\n",
    "跑第二次dijkstra，对于每个可修改（原来是-1权值）的点依据使得到destination最短路==target进行修改（1u + x + d0e - d0v = t -> x = t - d1u - d0e + d0v）如果修改值>原来权值则应用修改。最后跑完后到destination最短路为target则返回edges 否则空"
   ]
  },
  {
   "cell_type": "code",
   "execution_count": null,
   "metadata": {},
   "outputs": [],
   "source": [
    "# 参考灵神视频讲解\n",
    "# https://leetcode.cn/problems/modify-graph-edge-weights/solutions/2278296/xiang-xi-fen-xi-liang-ci-dijkstrachou-mi-gv1m/\n",
    "from ast import List\n",
    "from collections import defaultdict\n",
    "from heapq import heappop, heappush\n",
    "from math import inf\n",
    "\n",
    "\n",
    "class Solution:\n",
    "\n",
    "    def modifiedGraphEdges(self, n: int, edges: List[List[int]], source: int, destination: int, target: int) -> List[List[int]]:\n",
    "        # 1. 将 -1 -> 1 并记录\n",
    "        todo = {}\n",
    "        adj = [[] for _ in range(n)]\n",
    "        for i, (u, v, w) in enumerate(edges):\n",
    "            if w == -1:\n",
    "                w = edges[i][2] = 1\n",
    "                todo[(u, v)] = todo[(v, u)] = i\n",
    "            adj[u].append((v, w))\n",
    "            adj[v].append((u, w))\n",
    "        # 2.第一次dijkstra\n",
    "        pq = [(0, source)]\n",
    "        costs0 = defaultdict(lambda: inf)\n",
    "        costs0[source] = 0\n",
    "        best = set()\n",
    "        while pq:\n",
    "            cost, u = heappop(pq)\n",
    "            best.add(u)\n",
    "            for v, w in adj[u]:\n",
    "                if v not in best and (ncost := cost + w) < costs0[v]:\n",
    "                    costs0[v] = ncost\n",
    "                    heappush(pq, (ncost, v))\n",
    "        if costs0[destination] > target: return []  # 最短路只会更大\n",
    "        if costs0[destination] == target: return edges\n",
    "        # 3.第二次dijkstra\n",
    "        pq = [(0, source)]\n",
    "        costs1 = defaultdict(lambda: inf)\n",
    "        costs1[source] = 0\n",
    "        best = set()\n",
    "        while pq:\n",
    "            cost, u = heappop(pq)\n",
    "            best.add(u)\n",
    "            for v, w in adj[u]:\n",
    "                if v not in best:\n",
    "                    if (u, v) in todo:\n",
    "                        # d1u + x + d0e - d0v = t -> x = t - d1u - d0e + d0v\n",
    "                        # x: 为了使得最短路==target的(u,v)权值的目标修改值\n",
    "                        wt = target - costs1[u] - costs0[destination] + costs0[v]\n",
    "                        if wt > w:  # 只允许更大 当前为1\n",
    "                            w = edges[todo[(u, v)]][2] = wt\n",
    "                    if (ncost := cost + w) < costs1[v]:\n",
    "                        costs1[v] = ncost\n",
    "                        heappush(pq, (ncost, v))\n",
    "        return edges if costs1[destination] == target else []"
   ]
  }
 ],
 "metadata": {
  "language_info": {
   "name": "python"
  },
  "orig_nbformat": 4
 },
 "nbformat": 4,
 "nbformat_minor": 2
}
