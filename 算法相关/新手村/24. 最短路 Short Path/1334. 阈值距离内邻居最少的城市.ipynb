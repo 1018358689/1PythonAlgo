{
 "cells": [
  {
   "cell_type": "code",
   "execution_count": null,
   "metadata": {},
   "outputs": [],
   "source": [
    "from collections import defaultdict\n",
    "from heapq import heappop, heappush\n",
    "from math import inf\n",
    "from typing import List\n",
    "\n",
    "\n",
    "class Solution:\n",
    "\n",
    "    def findTheCity(self, n: int, edges: List[List[int]], distanceThreshold: int) -> int:\n",
    "\n",
    "        def dijkstra(start, last_cnt):\n",
    "            pq = [(0, start)]\n",
    "            costs = defaultdict(lambda: inf)\n",
    "            costs[start] = 0\n",
    "            best = set()\n",
    "            cnt = -1\n",
    "            while pq:\n",
    "                cost, x = heappop(pq)\n",
    "                if x in best:  # 保证最优点只访问一遍\n",
    "                    continue\n",
    "                if cost > distanceThreshold:\n",
    "                    break\n",
    "                cnt += 1\n",
    "                if cnt > last_cnt:\n",
    "                    break\n",
    "                best.add(x)\n",
    "                for y, c in adj[x]:\n",
    "                    ncost = cost + c\n",
    "                    if ncost < costs[y]:\n",
    "                        costs[y] = ncost\n",
    "                        heappush(pq, (ncost, y))\n",
    "            return cnt\n",
    "\n",
    "        adj = defaultdict(list)\n",
    "        for x, y, c in edges:\n",
    "            adj[x].append((y, c))\n",
    "            adj[y].append((x, c))\n",
    "        cnt = inf\n",
    "        ans = -1\n",
    "        for node in range(n):\n",
    "            tmp = dijkstra(node, cnt)\n",
    "            if tmp <= cnt:\n",
    "                ans = node\n",
    "                cnt = tmp\n",
    "        return ans\n"
   ]
  }
 ],
 "metadata": {
  "kernelspec": {
   "display_name": "Python 3",
   "language": "python",
   "name": "python3"
  },
  "language_info": {
   "name": "python",
   "version": "3.10.6 (main, Nov 14 2022, 16:10:14) [GCC 11.3.0]"
  },
  "orig_nbformat": 4,
  "vscode": {
   "interpreter": {
    "hash": "916dbcbb3f70747c44a77c7bcd40155683ae19c65e1c03b4aa3499c5328201f1"
   }
  }
 },
 "nbformat": 4,
 "nbformat_minor": 2
}
