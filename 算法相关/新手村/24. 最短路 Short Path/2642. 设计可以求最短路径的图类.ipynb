{
 "cells": [
  {
   "cell_type": "code",
   "execution_count": null,
   "metadata": {},
   "outputs": [],
   "source": [
    "from collections import defaultdict\n",
    "from heapq import heappop, heappush\n",
    "from math import inf\n",
    "from typing import List\n",
    "\n",
    "\n",
    "class Graph:\n",
    "\n",
    "    def __init__(self, n: int, edges: List[List[int]]):\n",
    "        self.adj = defaultdict(list)\n",
    "        for x, y, c in edges:\n",
    "            self.adj[x].append((y, c))\n",
    "\n",
    "    def addEdge(self, edge: List[int]) -> None:\n",
    "        self.adj[edge[0]].append((edge[1], edge[2]))\n",
    "\n",
    "    def shortestPath(self, node1: int, node2: int) -> int:\n",
    "        costs = defaultdict(lambda: inf)\n",
    "        pq = [(0, node1)]\n",
    "        costs[node1] = 0\n",
    "        best = set()\n",
    "        while pq:\n",
    "            c, x = heappop(pq)\n",
    "            if x == node2:\n",
    "                return c\n",
    "            best.add(x)\n",
    "            for y, cost in self.adj[x]:\n",
    "                if y not in best and (nc := c + cost) < costs[y]:\n",
    "                    costs[y] = nc\n",
    "                    heappush(pq, (nc, y))\n",
    "        return -1\n",
    "\n",
    "\n",
    "# Your Graph object will be instantiated and called as such:\n",
    "# obj = Graph(n, edges)\n",
    "# obj.addEdge(edge)\n",
    "# param_2 = obj.shortestPath(node1,node2)"
   ]
  }
 ],
 "metadata": {
  "language_info": {
   "name": "python"
  },
  "orig_nbformat": 4
 },
 "nbformat": 4,
 "nbformat_minor": 2
}
