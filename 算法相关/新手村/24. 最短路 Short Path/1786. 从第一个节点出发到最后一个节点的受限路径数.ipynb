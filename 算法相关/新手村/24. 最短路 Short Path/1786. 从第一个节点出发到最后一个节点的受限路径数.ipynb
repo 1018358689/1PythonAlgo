{
 "cells": [
  {
   "cell_type": "code",
   "execution_count": 20,
   "metadata": {},
   "outputs": [
    {
     "data": {
      "text/plain": [
       "1"
      ]
     },
     "execution_count": 20,
     "metadata": {},
     "output_type": "execute_result"
    }
   ],
   "source": [
    "# dijkstra\n",
    "import heapq\n",
    "from functools import lru_cache\n",
    "\n",
    "\n",
    "def f(n: int, edges: list):\n",
    "    Mod = 10**9 + 7\n",
    "    neis = [[] for _ in range(n + 1)]\n",
    "    for x, y, c in edges:\n",
    "        neis[x].append((y, c))\n",
    "        neis[y].append((x, c))\n",
    "    pq = [(0, n)]\n",
    "    costs = {n: 0}\n",
    "    best = set()\n",
    "    while pq:\n",
    "        cost, cur = heapq.heappop(pq)\n",
    "        best.add(cur)\n",
    "        for nei, c in neis[cur]:\n",
    "            if nei not in best:\n",
    "                ncost = cost + c\n",
    "                if nei not in costs or ncost < costs[nei]:\n",
    "                    costs[nei] = ncost\n",
    "                    heapq.heappush(pq, (ncost, nei))\n",
    "\n",
    "    # print(costs)\n",
    "\n",
    "    @lru_cache(None)\n",
    "    def dfs(node):  # 从节点node到最后节点的受限路径数\n",
    "        if node == n:\n",
    "            return 1\n",
    "        ans = 0\n",
    "        for nei, _ in neis[node]:  # 对邻接点受限路径的继承\n",
    "            if costs[node] > costs[nei]:\n",
    "                ans += dfs(nei)\n",
    "        return ans\n",
    "\n",
    "    return dfs(1) % Mod\n",
    "\n",
    "\n",
    "f(5, [[1, 2, 3], [1, 3, 3], [2, 3, 1], [1, 4, 2], [5, 2, 2], [3, 5, 1], [5, 4, 10]])\n",
    "f(7, [[1, 3, 1], [4, 1, 2], [7, 3, 4], [2, 5, 3], [5, 6, 1], [6, 7, 2], [7, 5, 3], [2, 6, 4]])\n",
    "# f(6, [[6, 2, 9], [2, 1, 7], [6, 5, 10], [4, 3, 1], [3, 1, 8], [4, 6, 4], [5, 1, 7], [1, 4, 7], [4, 5, 3], [3, 6, 6], [5, 3, 9], [1, 6, 6], [3, 2, 2], [5, 2, 8]])\n"
   ]
  },
  {
   "cell_type": "code",
   "execution_count": null,
   "metadata": {},
   "outputs": [],
   "source": []
  }
 ],
 "metadata": {
  "interpreter": {
   "hash": "aee8b7b246df8f9039afb4144a1f6fd8d2ca17a180786b69acc140d282b71a49"
  },
  "kernelspec": {
   "display_name": "Python 3.10.1 64-bit",
   "language": "python",
   "name": "python3"
  },
  "language_info": {
   "codemirror_mode": {
    "name": "ipython",
    "version": 3
   },
   "file_extension": ".py",
   "mimetype": "text/x-python",
   "name": "python",
   "nbconvert_exporter": "python",
   "pygments_lexer": "ipython3",
   "version": "3.10.1"
  },
  "orig_nbformat": 4
 },
 "nbformat": 4,
 "nbformat_minor": 2
}
