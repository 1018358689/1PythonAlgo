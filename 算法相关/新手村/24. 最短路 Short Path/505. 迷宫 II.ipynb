{
 "cells": [
  {
   "cell_type": "code",
   "execution_count": null,
   "metadata": {},
   "outputs": [],
   "source": [
    "from collections import defaultdict\n",
    "from heapq import heappop, heappush\n",
    "from math import inf\n",
    "from typing import List\n",
    "\n",
    "\n",
    "class Solution:\n",
    "\n",
    "    def shortestDistance(self, maze: List[List[int]], start: List[int], destination: List[int]) -> int:\n",
    "        rows, cols = len(maze), len(maze[0])\n",
    "        dirs = ((-1, 0), (1, 0), (0, 1), (0, -1))\n",
    "        pq = [(0, *start)]\n",
    "        costs = defaultdict(lambda: inf)\n",
    "        costs[tuple(start)] = 0\n",
    "        while pq:\n",
    "            cost, r, c = heappop(pq)\n",
    "            if [r, c] == destination:\n",
    "                return cost\n",
    "            for dr, dc in dirs:\n",
    "                step = 0\n",
    "                nr, nc = r, c\n",
    "                while rows > nr >= 0 <= nc < cols and maze[nr][nc] == 0:\n",
    "                    nr += dr\n",
    "                    nc += dc\n",
    "                    step += 1\n",
    "                nr -= dr\n",
    "                nc -= dc\n",
    "                step -= 1\n",
    "                ncost = cost + step\n",
    "                if ncost < costs[(nr, nc)]:\n",
    "                    costs[(nr, nc)] = ncost\n",
    "                    heappush(pq, (ncost, nr, nc))\n",
    "        return -1\n"
   ]
  }
 ],
 "metadata": {
  "kernelspec": {
   "display_name": "Python 3",
   "language": "python",
   "name": "python3"
  },
  "language_info": {
   "name": "python",
   "version": "3.10.6 (main, Nov 14 2022, 16:10:14) [GCC 11.3.0]"
  },
  "orig_nbformat": 4,
  "vscode": {
   "interpreter": {
    "hash": "916dbcbb3f70747c44a77c7bcd40155683ae19c65e1c03b4aa3499c5328201f1"
   }
  }
 },
 "nbformat": 4,
 "nbformat_minor": 2
}
