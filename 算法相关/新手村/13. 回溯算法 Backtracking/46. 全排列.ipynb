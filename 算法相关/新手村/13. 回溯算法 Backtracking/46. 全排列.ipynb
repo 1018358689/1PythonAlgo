{
 "cells": [
  {
   "cell_type": "code",
   "execution_count": 3,
   "metadata": {},
   "outputs": [],
   "source": [
    "def f(nums: list):\n",
    "    res = []\n",
    "\n",
    "    def dfs(path):\n",
    "        if len(path) == len(nums):\n",
    "            res.append(path)\n",
    "            return\n",
    "        for i in range(len(nums)):\n",
    "            if nums[i] not in path:\n",
    "                dfs(path + [nums[i]])\n",
    "\n",
    "    dfs([])\n",
    "    return res"
   ]
  },
  {
   "cell_type": "code",
   "execution_count": null,
   "metadata": {},
   "outputs": [],
   "source": [
    "def f(nums: list):\n",
    "    res = []\n",
    "\n",
    "    def dfs(nums, path):\n",
    "        if not nums:\n",
    "            res.append(path)\n",
    "            return\n",
    "        for i in range(len(nums)):\n",
    "            dfs(nums[:i] + nums[i + 1:], path + [nums[i]])\n",
    "\n",
    "    dfs(nums, [])\n",
    "    return res"
   ]
  }
 ],
 "metadata": {
  "interpreter": {
   "hash": "aee8b7b246df8f9039afb4144a1f6fd8d2ca17a180786b69acc140d282b71a49"
  },
  "kernelspec": {
   "display_name": "Python 3.10.2 64-bit",
   "language": "python",
   "name": "python3"
  },
  "language_info": {
   "codemirror_mode": {
    "name": "ipython",
    "version": 3
   },
   "file_extension": ".py",
   "mimetype": "text/x-python",
   "name": "python",
   "nbconvert_exporter": "python",
   "pygments_lexer": "ipython3",
   "version": "3.10.2"
  },
  "orig_nbformat": 4
 },
 "nbformat": 4,
 "nbformat_minor": 2
}
