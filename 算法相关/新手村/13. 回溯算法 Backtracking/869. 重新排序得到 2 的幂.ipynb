{
 "cells": [
  {
   "cell_type": "code",
   "execution_count": 17,
   "metadata": {},
   "outputs": [
    {
     "data": {
      "text/plain": [
       "(False, True, True, False, True)"
      ]
     },
     "execution_count": 17,
     "metadata": {},
     "output_type": "execute_result"
    }
   ],
   "source": [
    "# 9776ms\n",
    "\n",
    "def f(n: int):\n",
    "    target = str(n)\n",
    "\n",
    "    def dfs(num: str, vis: set):\n",
    "        if len(num) == len(target):\n",
    "            if (int(num) & (int(num) - 1)) == 0:\n",
    "                return True\n",
    "            return False\n",
    "        for i, n in enumerate(target):\n",
    "            if i in vis:\n",
    "                continue\n",
    "            if not num and n == '0':\n",
    "                continue\n",
    "            if dfs(num + n, vis | {i}):\n",
    "                return True\n",
    "        return False\n",
    "\n",
    "    return dfs('', set())\n",
    "\n",
    "\n",
    "f(10), f(61), f(4201), f(160),f(1)\n"
   ]
  },
  {
   "cell_type": "code",
   "execution_count": 27,
   "metadata": {},
   "outputs": [
    {
     "data": {
      "text/plain": [
       "['1', '2', '3', '4', '5']"
      ]
     },
     "execution_count": 27,
     "metadata": {},
     "output_type": "execute_result"
    }
   ],
   "source": [
    "a = '12332'\n",
    "''.join(sorted(a))\n",
    "b = 51234\n",
    "sorted(str(b))\n"
   ]
  },
  {
   "cell_type": "code",
   "execution_count": 29,
   "metadata": {},
   "outputs": [
    {
     "data": {
      "text/plain": [
       "(False, True, True, False, True)"
      ]
     },
     "execution_count": 29,
     "metadata": {},
     "output_type": "execute_result"
    }
   ],
   "source": [
    "# 1944ms\n",
    "\n",
    "def f(n: int):\n",
    "    nums = sorted(str(n)) # 排序 方便同一层去重\n",
    "    def dfs(num: str, vis: set):\n",
    "        if len(num) == len(nums):\n",
    "            if (int(num) & (int(num) - 1)) == 0:\n",
    "                return True\n",
    "            return False\n",
    "        for i, n in enumerate(nums):\n",
    "            if i in vis:\n",
    "                continue\n",
    "            if not num and n == '0':\n",
    "                continue\n",
    "            if i>0 and nums[i]==nums[i-1] and (i-1) not in vis: # 同一层相同的跳过 不同层相同的不跳过\n",
    "                continue\n",
    "            if dfs(num + n, vis | {i}):\n",
    "                return True\n",
    "        return False\n",
    "\n",
    "    return dfs('', set())\n",
    "\n",
    "\n",
    "f(10), f(61), f(4201), f(160),f(1)\n"
   ]
  },
  {
   "cell_type": "code",
   "execution_count": 14,
   "metadata": {},
   "outputs": [
    {
     "data": {
      "text/plain": [
       "(False, True, False, False)"
      ]
     },
     "execution_count": 14,
     "metadata": {},
     "output_type": "execute_result"
    }
   ],
   "source": [
    "# 36ms\n",
    "\n",
    "def f(n: int):\n",
    "    ha = {str(1 << i) for i in range(30)}\n",
    "    return ''.join(sorted(str(n))) in ha\n",
    "\n",
    "f(10), f(61),f(4201),f(160)\n",
    "\n"
   ]
  },
  {
   "cell_type": "code",
   "execution_count": null,
   "metadata": {},
   "outputs": [],
   "source": []
  }
 ],
 "metadata": {
  "interpreter": {
   "hash": "97367d2de1780ea7c502b529f25888c1b53c0430a7611816b6c7cf19d8435228"
  },
  "kernelspec": {
   "display_name": "Python 3.10.4 64-bit (windows store)",
   "language": "python",
   "name": "python3"
  },
  "language_info": {
   "codemirror_mode": {
    "name": "ipython",
    "version": 3
   },
   "file_extension": ".py",
   "mimetype": "text/x-python",
   "name": "python",
   "nbconvert_exporter": "python",
   "pygments_lexer": "ipython3",
   "version": "3.10.4"
  },
  "orig_nbformat": 4
 },
 "nbformat": 4,
 "nbformat_minor": 2
}
