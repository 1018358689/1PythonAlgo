{
 "cells": [
  {
   "cell_type": "code",
   "execution_count": null,
   "metadata": {},
   "outputs": [],
   "source": [
    "class Solution:\n",
    "\n",
    "    def totalNQueens(self, n: int) -> int:\n",
    "\n",
    "        def check(board, row, col):\n",
    "            for r in range(row):  # 该列col 左上角row-col 右上角row+col 相等\n",
    "                if board[r][col] == 'Q':\n",
    "                    return False\n",
    "                if r - row + col >= 0 and board[r][r - row + col] == 'Q':\n",
    "                    return False\n",
    "                if row + col - r < n and board[r][row + col - r] == 'Q':\n",
    "                    return False\n",
    "            return True\n",
    "\n",
    "        board = [['.'] * n for _ in range(n)]\n",
    "        cnt = 0\n",
    "\n",
    "        def dfs(ri, board):\n",
    "            if ri == n:\n",
    "                nonlocal cnt\n",
    "                cnt += 1\n",
    "                return\n",
    "            for c in range(n):\n",
    "                if not check(board, ri, c):\n",
    "                    continue\n",
    "                board[ri][c] = 'Q'\n",
    "                dfs(ri + 1, board)\n",
    "                board[ri][c] = '.'\n",
    "\n",
    "        dfs(0, board)\n",
    "        return cnt"
   ]
  }
 ],
 "metadata": {
  "language_info": {
   "name": "python"
  },
  "orig_nbformat": 4
 },
 "nbformat": 4,
 "nbformat_minor": 2
}
