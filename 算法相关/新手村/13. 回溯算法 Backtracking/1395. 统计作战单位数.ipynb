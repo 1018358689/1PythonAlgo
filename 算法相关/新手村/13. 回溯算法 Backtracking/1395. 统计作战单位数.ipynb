{
 "cells": [
  {
   "cell_type": "code",
   "execution_count": 18,
   "metadata": {},
   "outputs": [
    {
     "data": {
      "text/plain": [
       "3"
      ]
     },
     "execution_count": 18,
     "metadata": {},
     "output_type": "execute_result"
    }
   ],
   "source": [
    "from typing import List\n",
    "\n",
    "\n",
    "class Solution:\n",
    "\n",
    "    def numTeams(self, rating: List[int]) -> int:\n",
    "        lgh = len(rating)\n",
    "        ans = 0\n",
    "\n",
    "        def dfs(pre, si, deepth, sig):  # deepth 前面深度(已确定个数)\n",
    "            if deepth == 3:\n",
    "                nonlocal ans\n",
    "                ans += 1\n",
    "                return\n",
    "            for i in range(si, lgh):\n",
    "                if sig * (rating[i] - pre) > 0:\n",
    "                    dfs(rating[i], i + 1, deepth + 1, sig)\n",
    "                elif 3 - deepth > lgh - i:\n",
    "                    continue\n",
    "\n",
    "        dfs(0, 0, 0, 1)\n",
    "        dfs(10**5 + 1, 0, 0, -1)\n",
    "        return ans\n",
    "\n",
    "\n",
    "s = Solution()\n",
    "s.numTeams([2, 5, 3, 4, 1])\n"
   ]
  },
  {
   "cell_type": "code",
   "execution_count": null,
   "metadata": {},
   "outputs": [],
   "source": []
  }
 ],
 "metadata": {
  "kernelspec": {
   "display_name": "Python 3.10.5 64-bit",
   "language": "python",
   "name": "python3"
  },
  "language_info": {
   "codemirror_mode": {
    "name": "ipython",
    "version": 3
   },
   "file_extension": ".py",
   "mimetype": "text/x-python",
   "name": "python",
   "nbconvert_exporter": "python",
   "pygments_lexer": "ipython3",
   "version": "3.10.5"
  },
  "orig_nbformat": 4,
  "vscode": {
   "interpreter": {
    "hash": "3196968d684371006099b3d55edeef8ed90365227a30deaef86e5d4aa8519be0"
   }
  }
 },
 "nbformat": 4,
 "nbformat_minor": 2
}
