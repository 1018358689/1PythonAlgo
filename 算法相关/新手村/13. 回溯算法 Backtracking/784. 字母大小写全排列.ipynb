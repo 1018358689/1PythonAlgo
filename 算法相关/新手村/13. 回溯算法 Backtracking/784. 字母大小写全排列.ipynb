{
 "cells": [
  {
   "cell_type": "code",
   "execution_count": 2,
   "metadata": {},
   "outputs": [
    {
     "data": {
      "text/plain": [
       "['A1B2', 'A1b2', 'a1B2', 'a1b2']"
      ]
     },
     "execution_count": 2,
     "metadata": {},
     "output_type": "execute_result"
    }
   ],
   "source": [
    "from typing import List\n",
    "\n",
    "\n",
    "class Solution:\n",
    "\n",
    "    def letterCasePermutation(self, s: str) -> List[str]:\n",
    "        ans = []\n",
    "\n",
    "        def dfs(si, path):\n",
    "            if len(path) == len(s):\n",
    "                ans.append(''.join(path))\n",
    "                return\n",
    "            for i in range(si, len(s)):\n",
    "                n = s[i]\n",
    "                if n.isalpha():\n",
    "                    dfs(i + 1, path + [n.swapcase()])\n",
    "                    dfs(i + 1, path + [n])\n",
    "                else:\n",
    "                    dfs(i + 1, path + [n])\n",
    "\n",
    "        dfs(0,[])\n",
    "        return ans\n",
    "\n",
    "\n",
    "s = Solution()\n",
    "s.letterCasePermutation('a1b2')"
   ]
  },
  {
   "cell_type": "code",
   "execution_count": 4,
   "metadata": {},
   "outputs": [
    {
     "data": {
      "text/plain": [
       "['A1B2', 'A1b2', 'a1B2', 'a1b2']"
      ]
     },
     "execution_count": 4,
     "metadata": {},
     "output_type": "execute_result"
    }
   ],
   "source": [
    "from typing import List\n",
    "\n",
    "\n",
    "class Solution:\n",
    "\n",
    "    def letterCasePermutation(self, s: str) -> List[str]:\n",
    "        ans = []\n",
    "\n",
    "        def dfs(idx, path):\n",
    "            if idx == len(s):\n",
    "                ans.append(''.join(path))\n",
    "                return\n",
    "            n = s[idx]\n",
    "            if n.isalpha():\n",
    "                dfs(idx + 1, path + [n.swapcase()])\n",
    "                dfs(idx + 1, path + [n])\n",
    "            else:\n",
    "                dfs(idx + 1, path + [n])\n",
    "\n",
    "        dfs(0, [])\n",
    "        return ans\n",
    "\n",
    "\n",
    "s = Solution()\n",
    "s.letterCasePermutation('a1b2')"
   ]
  },
  {
   "cell_type": "code",
   "execution_count": null,
   "metadata": {},
   "outputs": [],
   "source": []
  }
 ],
 "metadata": {
  "kernelspec": {
   "display_name": "Python 3.10.5 64-bit",
   "language": "python",
   "name": "python3"
  },
  "language_info": {
   "codemirror_mode": {
    "name": "ipython",
    "version": 3
   },
   "file_extension": ".py",
   "mimetype": "text/x-python",
   "name": "python",
   "nbconvert_exporter": "python",
   "pygments_lexer": "ipython3",
   "version": "3.10.5"
  },
  "orig_nbformat": 4,
  "vscode": {
   "interpreter": {
    "hash": "3196968d684371006099b3d55edeef8ed90365227a30deaef86e5d4aa8519be0"
   }
  }
 },
 "nbformat": 4,
 "nbformat_minor": 2
}
