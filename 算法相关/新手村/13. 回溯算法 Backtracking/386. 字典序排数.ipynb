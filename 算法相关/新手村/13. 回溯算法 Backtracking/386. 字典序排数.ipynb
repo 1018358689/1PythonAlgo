{
 "cells": [
  {
   "cell_type": "code",
   "execution_count": 1,
   "metadata": {},
   "outputs": [
    {
     "data": {
      "text/plain": [
       "([1, 10, 11, 12, 13, 2, 3, 4, 5, 6, 7, 8, 9], [1, 2])"
      ]
     },
     "execution_count": 1,
     "metadata": {},
     "output_type": "execute_result"
    }
   ],
   "source": [
    "def f(n: int):\n",
    "    ans = []\n",
    "\n",
    "    def dfs(num):\n",
    "        if num > n:\n",
    "            return\n",
    "        ans.append(num)\n",
    "        for i in range(num * 10, num * 10 + 10):\n",
    "            dfs(i)\n",
    "\n",
    "    for i in range(1, 10):\n",
    "        dfs(i)\n",
    "    return ans\n",
    "\n",
    "\n",
    "f(13), f(2)\n"
   ]
  },
  {
   "cell_type": "code",
   "execution_count": 2,
   "metadata": {},
   "outputs": [
    {
     "data": {
      "text/plain": [
       "([1, 10, 11, 12, 13, 2, 3, 4, 5, 6, 7, 8, 9], [1, 2])"
      ]
     },
     "execution_count": 2,
     "metadata": {},
     "output_type": "execute_result"
    }
   ],
   "source": [
    "def f(n: int):\n",
    "    return sorted(range(1, n + 1), key=str)\n",
    "\n",
    "\n",
    "f(13), f(2)\n"
   ]
  },
  {
   "cell_type": "code",
   "execution_count": 5,
   "metadata": {},
   "outputs": [
    {
     "data": {
      "text/plain": [
       "([1, 10, 11, 12, 13, 2, 3, 4, 5, 6, 7, 8, 9], [1, 2])"
      ]
     },
     "execution_count": 5,
     "metadata": {},
     "output_type": "execute_result"
    }
   ],
   "source": [
    "def f(n: int):\n",
    "    ans = []\n",
    "\n",
    "    def dfs(num):\n",
    "        yield num\n",
    "        for i in range(num * 10, min(n + 1, num * 10 + 10)):\n",
    "            yield from dfs(i)\n",
    "\n",
    "    for i in range(1, min(n + 1, 10)):\n",
    "        ans += dfs(i)\n",
    "    return ans\n",
    "\n",
    "\n",
    "f(13), f(2)\n"
   ]
  },
  {
   "cell_type": "code",
   "execution_count": null,
   "metadata": {},
   "outputs": [],
   "source": []
  }
 ],
 "metadata": {
  "interpreter": {
   "hash": "a5f34674cfcc9b13426a2d112c686bc132e4ef443f1487e707e7c3787d6bcf89"
  },
  "kernelspec": {
   "display_name": "Python 3.10.4 64-bit (windows store)",
   "language": "python",
   "name": "python3"
  },
  "language_info": {
   "codemirror_mode": {
    "name": "ipython",
    "version": 3
   },
   "file_extension": ".py",
   "mimetype": "text/x-python",
   "name": "python",
   "nbconvert_exporter": "python",
   "pygments_lexer": "ipython3",
   "version": "3.10.4"
  },
  "orig_nbformat": 4
 },
 "nbformat": 4,
 "nbformat_minor": 2
}
