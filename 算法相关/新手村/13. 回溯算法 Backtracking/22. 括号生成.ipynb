{
 "cells": [
  {
   "cell_type": "code",
   "execution_count": 2,
   "metadata": {},
   "outputs": [
    {
     "data": {
      "text/plain": [
       "(['((()))', '(()())', '(())()', '()(())', '()()()'], ['()'])"
      ]
     },
     "execution_count": 2,
     "metadata": {},
     "output_type": "execute_result"
    }
   ],
   "source": [
    "def f(n: int):\n",
    "    res = []\n",
    "\n",
    "    def dfs(path, lCnt, rCnt):\n",
    "        if lCnt > n or rCnt > n or rCnt > lCnt:  # 当左右括号大于n 或右括号大于左括号 回溯\n",
    "            return\n",
    "        if lCnt == rCnt == n:\n",
    "            res.append(path)\n",
    "            return\n",
    "        for i in ('(', ')'):\n",
    "            if i == '(':\n",
    "                dfs(path + i, lCnt + 1, rCnt)\n",
    "            else:\n",
    "                dfs(path + i, lCnt, rCnt + 1)\n",
    "\n",
    "    dfs('', 0, 0)\n",
    "    return res\n",
    "\n",
    "\n",
    "f(3), f(1)\n"
   ]
  },
  {
   "cell_type": "code",
   "execution_count": null,
   "metadata": {},
   "outputs": [],
   "source": []
  }
 ],
 "metadata": {
  "interpreter": {
   "hash": "a5f34674cfcc9b13426a2d112c686bc132e4ef443f1487e707e7c3787d6bcf89"
  },
  "kernelspec": {
   "display_name": "Python 3.10.4 64-bit (windows store)",
   "language": "python",
   "name": "python3"
  },
  "language_info": {
   "codemirror_mode": {
    "name": "ipython",
    "version": 3
   },
   "file_extension": ".py",
   "mimetype": "text/x-python",
   "name": "python",
   "nbconvert_exporter": "python",
   "pygments_lexer": "ipython3",
   "version": "3.10.4"
  },
  "orig_nbformat": 4
 },
 "nbformat": 4,
 "nbformat_minor": 2
}
