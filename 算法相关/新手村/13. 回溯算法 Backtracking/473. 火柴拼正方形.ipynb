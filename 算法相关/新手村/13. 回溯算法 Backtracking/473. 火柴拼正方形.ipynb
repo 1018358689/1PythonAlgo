{
 "cells": [
  {
   "cell_type": "code",
   "execution_count": 44,
   "metadata": {},
   "outputs": [
    {
     "data": {
      "text/plain": [
       "False"
      ]
     },
     "execution_count": 44,
     "metadata": {},
     "output_type": "execute_result"
    }
   ],
   "source": [
    "from typing import List\n",
    "# 以火柴为角度 一直超时\n",
    "\n",
    "\n",
    "class Solution:\n",
    "\n",
    "    def makesquare(self, matchsticks: List[int]) -> bool:\n",
    "        target, rem = divmod(sum(matchsticks), 4)\n",
    "        if rem or len(matchsticks) < 4: return False\n",
    "        if any(n > target for n in matchsticks): return False\n",
    "        matchsticks.sort(reverse=True)\n",
    "\n",
    "        def dfs(used, s, cnt):\n",
    "            if s == target:\n",
    "                s = 0\n",
    "                cnt += 1\n",
    "                if cnt == 4 - 1:\n",
    "                    return True\n",
    "            elif s > target:\n",
    "                return\n",
    "            for i in range(len(matchsticks)):\n",
    "                if i > 0 and matchsticks[i] == matchsticks[i - 1] and i - 1 not in used:\n",
    "                    continue\n",
    "                if i in used:\n",
    "                    continue\n",
    "                cur = matchsticks[i]\n",
    "                if dfs(used | {i}, s + cur, cnt):\n",
    "                    return True\n",
    "            return False\n",
    "\n",
    "        return dfs(set(), 0, 0)\n",
    "\n",
    "\n",
    "s = Solution()\n",
    "# s.makesquare([1, 2, 1, 2, 2])\n",
    "# s.makesquare([3,3,3,3,4])\n",
    "s.makesquare([6, 6, 6, 6, 4, 2, 2])\n"
   ]
  },
  {
   "cell_type": "code",
   "execution_count": 30,
   "metadata": {},
   "outputs": [
    {
     "data": {
      "text/plain": [
       "False"
      ]
     },
     "execution_count": 30,
     "metadata": {},
     "output_type": "execute_result"
    }
   ],
   "source": [
    "from typing import List\n",
    "# 改变思路以四个边(桶)为角度\n",
    "\n",
    "\n",
    "class Solution:\n",
    "\n",
    "    def makesquare(self, matchsticks: List[int]) -> bool:\n",
    "        target, rem = divmod(sum(matchsticks), 4)\n",
    "        if rem or len(matchsticks) < 4: return False\n",
    "        if any(n > target for n in matchsticks): return False\n",
    "        matchsticks.sort(reverse=True)\n",
    "\n",
    "        def dfs(i, bucket):\n",
    "            if i == len(matchsticks):  # 把所有火柴成功放入\n",
    "                return True\n",
    "            for j in range(4):\n",
    "                if j > 0 and bucket[j] == bucket[j - 1]:  # 相同的桶放哪个都一样\n",
    "                    continue\n",
    "                if bucket[j] + matchsticks[i] <= target:  # 放入后<=target则放入\n",
    "                    bucket[j] += matchsticks[i]\n",
    "                    if dfs(i + 1, bucket):\n",
    "                        return True\n",
    "                    bucket[j] -= matchsticks[i]\n",
    "            return False\n",
    "\n",
    "        return dfs(0, [0, 0, 0, 0])\n",
    "\n",
    "\n",
    "s = Solution()\n",
    "s.makesquare([1, 2, 1, 2, 2])\n",
    "# s.makesquare([3,3,3,3,4])\n",
    "s.makesquare([6, 6, 6, 6, 4, 2, 2])\n"
   ]
  },
  {
   "cell_type": "code",
   "execution_count": 42,
   "metadata": {},
   "outputs": [
    {
     "data": {
      "text/plain": [
       "False"
      ]
     },
     "execution_count": 42,
     "metadata": {},
     "output_type": "execute_result"
    }
   ],
   "source": [
    "from typing import List\n",
    "# 以火柴为角度 一直超时 把used集合 进行状态压缩 再进行记忆化\n",
    "from functools import lru_cache\n",
    "\n",
    "\n",
    "class Solution:\n",
    "\n",
    "    def makesquare(self, matchsticks: List[int]) -> bool:\n",
    "        target, rem = divmod(sum(matchsticks), 4)\n",
    "        if rem or len(matchsticks) < 4: return False\n",
    "        if any(n > target for n in matchsticks): return False\n",
    "        matchsticks.sort(reverse=True)\n",
    "\n",
    "        # final = (1 << len(matchsticks)) - 1\n",
    "        @lru_cache(None)\n",
    "        def dfs(state, s, cnt):\n",
    "            if s == target:\n",
    "                s = 0\n",
    "                cnt += 1\n",
    "                if cnt == 4 - 1: # 找出3组即可\n",
    "                    return True\n",
    "            elif s > target: # 和超了回溯\n",
    "                return\n",
    "            for i in range(len(matchsticks)):\n",
    "                if i > 0 and matchsticks[i] == matchsticks[i - 1] and (state >> (i - 1)) & 1 == 0: # 同一层相同的火柴不用重复取\n",
    "                    continue\n",
    "                if (state >> i) & 1 == 1: # 上下层用过火柴不能再用\n",
    "                    continue\n",
    "                cur = matchsticks[i]\n",
    "                if dfs(state | (1 << i), s + cur, cnt): # 用过的火柴向下层传递\n",
    "                    return True\n",
    "            return False\n",
    "\n",
    "        return dfs(0, 0, 0)\n",
    "\n",
    "\n",
    "s = Solution()\n",
    "# s.makesquare([1, 2, 1, 2, 2])\n",
    "# s.makesquare([3,3,3,3,4])\n",
    "s.makesquare([6, 6, 6, 6, 4, 2, 2])\n"
   ]
  },
  {
   "cell_type": "code",
   "execution_count": null,
   "metadata": {},
   "outputs": [],
   "source": []
  }
 ],
 "metadata": {
  "interpreter": {
   "hash": "97367d2de1780ea7c502b529f25888c1b53c0430a7611816b6c7cf19d8435228"
  },
  "kernelspec": {
   "display_name": "Python 3.10.4 64-bit (windows store)",
   "language": "python",
   "name": "python3"
  },
  "language_info": {
   "codemirror_mode": {
    "name": "ipython",
    "version": 3
   },
   "file_extension": ".py",
   "mimetype": "text/x-python",
   "name": "python",
   "nbconvert_exporter": "python",
   "pygments_lexer": "ipython3",
   "version": "3.10.4"
  },
  "orig_nbformat": 4
 },
 "nbformat": 4,
 "nbformat_minor": 2
}
