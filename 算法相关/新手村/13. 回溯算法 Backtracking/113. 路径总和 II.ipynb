{
 "cells": [
  {
   "cell_type": "code",
   "execution_count": null,
   "metadata": {},
   "outputs": [],
   "source": [
    "# Definition for a binary tree node.\n",
    "class TreeNode:\n",
    "\n",
    "    def __init__(self, val=0, left=None, right=None):\n",
    "        self.val = val\n",
    "        self.left = left\n",
    "        self.right = right\n",
    "\n",
    "\n",
    "from typing import Optional, List\n",
    "\n",
    "\n",
    "class Solution:\n",
    "\n",
    "    def pathSum(self, root: Optional[TreeNode], targetSum: int) -> List[List[int]]:\n",
    "        if not root: return []\n",
    "        ans = []\n",
    "\n",
    "        def dfs(cur, path):  # 当前位置及路径\n",
    "            if cur.left is None and cur.right is None and sum(path) == targetSum:\n",
    "                ans.append(path[:])\n",
    "                return\n",
    "            for nei in (cur.left, cur.right):\n",
    "                if nei:\n",
    "                    dfs(nei, path + [nei.val])\n",
    "\n",
    "        dfs(root, [root.val])\n",
    "        return ans\n"
   ]
  }
 ],
 "metadata": {
  "kernelspec": {
   "display_name": "Python 3.10.5 64-bit",
   "language": "python",
   "name": "python3"
  },
  "language_info": {
   "name": "python",
   "version": "3.10.5"
  },
  "orig_nbformat": 4,
  "vscode": {
   "interpreter": {
    "hash": "3196968d684371006099b3d55edeef8ed90365227a30deaef86e5d4aa8519be0"
   }
  }
 },
 "nbformat": 4,
 "nbformat_minor": 2
}
