{
 "cells": [
  {
   "cell_type": "code",
   "execution_count": null,
   "metadata": {},
   "outputs": [],
   "source": [
    "from typing import List\n",
    "\n",
    "\n",
    "class Solution:\n",
    "\n",
    "    def exist(self, board: List[List[str]], word: str) -> bool:\n",
    "        rows, cols = len(board), len(board[0])\n",
    "\n",
    "        def dfs(r, c, i, vis):\n",
    "            if i == len(word):\n",
    "                return True\n",
    "            for nr, nc in ((r - 1, c), (r + 1, c), (r, c - 1), (r, c + 1)):\n",
    "                if 0 <= nr < rows and 0 <= nc < cols and (nr, nc) not in vis and board[nr][nc] == word[i]:\n",
    "                    if dfs(nr, nc, i + 1, vis | {(r, c)}):\n",
    "                        return True\n",
    "            return False\n",
    "\n",
    "        for r in range(rows):\n",
    "            for c in range(cols):\n",
    "                if board[r][c] == word[0]:\n",
    "                    if dfs(r, c, 1, {(r, c)}):\n",
    "                        return True\n",
    "        return False"
   ]
  },
  {
   "cell_type": "code",
   "execution_count": 3,
   "metadata": {},
   "outputs": [
    {
     "data": {
      "text/plain": [
       "True"
      ]
     },
     "execution_count": 3,
     "metadata": {},
     "output_type": "execute_result"
    }
   ],
   "source": [
    "from typing import List\n",
    "\n",
    "\n",
    "class Solution:\n",
    "\n",
    "    def exist(self, board: List[List[str]], word: str) -> bool:\n",
    "        rows, cols = len(board), len(board[0])\n",
    "        dirs = ((-1, 0), (0, -1), (0, 1), (1, 0))\n",
    "        lgh = len(word)\n",
    "\n",
    "        def dfs(r, c, idx, vis):\n",
    "            if board[r][c] == word[idx]:\n",
    "                vis[r * cols + c] = 1\n",
    "                if idx == lgh - 1: # 检查完毕\n",
    "                    return True\n",
    "                for dr, dc in dirs:\n",
    "                    if rows > (nr := r + dr) >= 0 <= (nc := c + dc) < cols and not vis[nr * cols + nc]:\n",
    "                        if dfs(nr, nc, idx + 1, vis):\n",
    "                            return True\n",
    "                vis[r * cols + c] = 0 # 回溯\n",
    "            return False\n",
    "\n",
    "        vis = [0] * (rows * cols)\n",
    "        for r in range(rows):\n",
    "            for c in range(cols):\n",
    "                if dfs(r, c, 0, vis):\n",
    "                    return True\n",
    "        return False\n",
    "\n",
    "\n",
    "s = Solution()\n",
    "s.exist([[\"A\", \"B\", \"C\", \"E\"], [\"S\", \"F\", \"C\", \"S\"], [\"A\", \"D\", \"E\", \"E\"]], \"ABCCED\")\n"
   ]
  },
  {
   "cell_type": "code",
   "execution_count": null,
   "metadata": {},
   "outputs": [],
   "source": [
    "from typing import List\n",
    "\n",
    "\n",
    "class Solution:\n",
    "\n",
    "    def exist(self, board: List[List[str]], word: str) -> bool:\n",
    "        rows, cols = len(board), len(board[0])\n",
    "        dirs = ((-1, 0), (0, -1), (0, 1), (1, 0))\n",
    "        lgh = len(word)\n",
    "\n",
    "        def dfs(r, c, idx, vis):\n",
    "            if idx == lgh:\n",
    "                return True\n",
    "            for dr, dc in dirs:\n",
    "                if rows > (nr := r + dr) >= 0 <= (nc := c + dc) < cols and not vis[nr * cols + nc] and board[nr][nc] == word[idx]:\n",
    "                    vis[nr * cols + nc] = 1\n",
    "                    if dfs(nr, nc, idx + 1, vis):\n",
    "                        return True\n",
    "                    vis[nr * cols + nc] = 0\n",
    "            return False\n",
    "\n",
    "        vis = [0] * (rows * cols)\n",
    "        for r in range(rows):\n",
    "            for c in range(cols):\n",
    "                if board[r][c] == word[0]:\n",
    "                    tvis = vis[:]\n",
    "                    tvis[r * cols + c] = 1\n",
    "                    if dfs(r, c, 1, tvis):\n",
    "                        return True\n",
    "                    tvis[r * cols + c] = 0\n",
    "        return False\n",
    "\n",
    "\n",
    "s = Solution()\n",
    "s.exist([[\"A\", \"B\", \"C\", \"E\"], [\"S\", \"F\", \"C\", \"S\"], [\"A\", \"D\", \"E\", \"E\"]], \"ABCCED\")\n"
   ]
  }
 ],
 "metadata": {
  "kernelspec": {
   "display_name": "Python 3.10.6 64-bit",
   "language": "python",
   "name": "python3"
  },
  "language_info": {
   "codemirror_mode": {
    "name": "ipython",
    "version": 3
   },
   "file_extension": ".py",
   "mimetype": "text/x-python",
   "name": "python",
   "nbconvert_exporter": "python",
   "pygments_lexer": "ipython3",
   "version": "3.10.6"
  },
  "orig_nbformat": 4,
  "vscode": {
   "interpreter": {
    "hash": "dfbf064e0f2c8839bc658dd75dfc0b8f09a0440078cae3024109b27659b69d06"
   }
  }
 },
 "nbformat": 4,
 "nbformat_minor": 2
}
