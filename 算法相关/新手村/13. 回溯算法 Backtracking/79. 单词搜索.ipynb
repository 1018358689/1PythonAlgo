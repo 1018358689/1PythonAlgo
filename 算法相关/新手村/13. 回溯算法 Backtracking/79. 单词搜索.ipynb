{
 "cells": [
  {
   "cell_type": "code",
   "execution_count": null,
   "metadata": {},
   "outputs": [],
   "source": [
    "from typing import List\n",
    "\n",
    "\n",
    "class Solution:\n",
    "\n",
    "    def exist(self, board: List[List[str]], word: str) -> bool:\n",
    "        rows, cols = len(board), len(board[0])\n",
    "\n",
    "        def dfs(r, c, i, vis):\n",
    "            if i == len(word):\n",
    "                return True\n",
    "            for nr, nc in ((r - 1, c), (r + 1, c), (r, c - 1), (r, c + 1)):\n",
    "                if 0 <= nr < rows and 0 <= nc < cols and (nr, nc) not in vis and board[nr][nc] == word[i]:\n",
    "                    if dfs(nr, nc, i + 1, vis | {(r, c)}):\n",
    "                        return True\n",
    "            return False\n",
    "\n",
    "        for r in range(rows):\n",
    "            for c in range(cols):\n",
    "                if board[r][c] == word[0]:\n",
    "                    if dfs(r, c, 1, {(r, c)}):\n",
    "                        return True\n",
    "        return False"
   ]
  }
 ],
 "metadata": {
  "language_info": {
   "name": "python"
  },
  "orig_nbformat": 4
 },
 "nbformat": 4,
 "nbformat_minor": 2
}
