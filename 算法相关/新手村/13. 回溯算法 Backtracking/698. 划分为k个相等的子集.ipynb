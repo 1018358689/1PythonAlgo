{
 "cells": [
  {
   "cell_type": "code",
   "execution_count": 4,
   "metadata": {},
   "outputs": [
    {
     "data": {
      "text/plain": [
       "True"
      ]
     },
     "execution_count": 4,
     "metadata": {},
     "output_type": "execute_result"
    }
   ],
   "source": [
    "from typing import List\n",
    "# 超时\n",
    "\n",
    "class Solution:\n",
    "\n",
    "    def canPartitionKSubsets(self, nums: List[int], k: int) -> bool:\n",
    "        target, rem = divmod(sum(nums), k)\n",
    "        if rem:\n",
    "            return False\n",
    "        vis = set()\n",
    "        nums.sort(reverse=True)\n",
    "\n",
    "        def dfs(si, bucket, vis, cnt):  # 当前数字 当前桶质量(未加当前数字) 收集了几个桶\n",
    "            if bucket == target:\n",
    "                return dfs(0, 0, vis, cnt + 1)\n",
    "            if cnt == k - 1:\n",
    "                return True\n",
    "            for cur in range(si, len(nums)):\n",
    "                if cur in vis:\n",
    "                    continue\n",
    "                if bucket + nums[cur] > target:\n",
    "                    continue\n",
    "                vis.add(cur)\n",
    "                if dfs(cur + 1, bucket + nums[cur], vis, cnt + 1):\n",
    "                    return True\n",
    "                vis.remove(cur)\n",
    "            return False\n",
    "\n",
    "        return dfs(0, 0, set(), 0)\n",
    "\n",
    "\n",
    "s = Solution()\n",
    "s.canPartitionKSubsets([114, 96, 18, 190, 207, 111, 73, 471, 99, 20, 1037, 700, 295, 101, 39, 649], 4)"
   ]
  },
  {
   "cell_type": "code",
   "execution_count": null,
   "metadata": {},
   "outputs": [],
   "source": [
    "from typing import List\n",
    "from functools import lru_cache\n",
    "\n",
    "\n",
    "class Solution:\n",
    "\n",
    "    def canPartitionKSubsets(self, nums: List[int], k: int) -> bool:\n",
    "        target, rem = divmod(sum(nums), k)\n",
    "        if rem:\n",
    "            return False\n",
    "        nums.sort()\n",
    "        lgh = len(nums)\n",
    "\n",
    "        @lru_cache(None)\n",
    "        def dfs(state, bucket):  # 状态 桶\n",
    "            if state == (1 << lgh) - 1:\n",
    "                return True\n",
    "            for i in range(len(nums)):\n",
    "                cur = nums[i]\n",
    "                if bucket + cur > target:\n",
    "                    break\n",
    "                if state & (1 << i) == 0 and dfs(state | (1 << i), (bucket + cur) % target):\n",
    "                    return True\n",
    "            return False\n",
    "\n",
    "        return dfs(0, 0)\n"
   ]
  }
 ],
 "metadata": {
  "kernelspec": {
   "display_name": "Python 3.10.6 64-bit",
   "language": "python",
   "name": "python3"
  },
  "language_info": {
   "codemirror_mode": {
    "name": "ipython",
    "version": 3
   },
   "file_extension": ".py",
   "mimetype": "text/x-python",
   "name": "python",
   "nbconvert_exporter": "python",
   "pygments_lexer": "ipython3",
   "version": "3.10.6"
  },
  "orig_nbformat": 4,
  "vscode": {
   "interpreter": {
    "hash": "dfbf064e0f2c8839bc658dd75dfc0b8f09a0440078cae3024109b27659b69d06"
   }
  }
 },
 "nbformat": 4,
 "nbformat_minor": 2
}
