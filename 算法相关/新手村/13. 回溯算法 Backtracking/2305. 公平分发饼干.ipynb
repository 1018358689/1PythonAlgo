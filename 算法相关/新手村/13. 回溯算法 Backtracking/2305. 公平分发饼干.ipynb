{
 "cells": [
  {
   "cell_type": "code",
   "execution_count": 1,
   "metadata": {},
   "outputs": [],
   "source": [
    "from typing import List\n",
    "\n",
    "\n",
    "class Solution:\n",
    "\n",
    "    def distributeCookies(self, cookies: List[int], k: int) -> int:\n",
    "        lgh = len(cookies)\n",
    "        ans = float('inf')\n",
    "        bucket = [0] * k\n",
    "\n",
    "        def dfs(i, val):  # 针对第i个饼干 val当前收到最多的饼干\n",
    "            nonlocal ans\n",
    "            if val > ans:\n",
    "                return\n",
    "            if i == lgh:\n",
    "                ans = min(ans, val)\n",
    "                return\n",
    "            for j in range(k):\n",
    "                bucket[j] += cookies[i]\n",
    "                dfs(i + 1, max(val, bucket[j]))\n",
    "                bucket[j] -= cookies[i]\n",
    "\n",
    "        dfs(0, 0)\n",
    "        return ans\n"
   ]
  },
  {
   "cell_type": "code",
   "execution_count": null,
   "metadata": {},
   "outputs": [],
   "source": [
    "from typing import List\n",
    "\n",
    "\n",
    "class Solution:\n",
    "\n",
    "    def distributeCookies(self, cookies: List[int], k: int) -> int:\n",
    "        lgh = len(cookies)\n",
    "        ans = float('inf')\n",
    "        bucket = [0] * k\n",
    "\n",
    "        def dfs(i, val):  # 针对第i个饼干 val当前收到最多的饼干\n",
    "            nonlocal ans\n",
    "            if val > ans:\n",
    "                return\n",
    "            if i == lgh:\n",
    "                ans = min(ans, val)\n",
    "                return\n",
    "            for j in range(k):\n",
    "                if j > 0 and bucket[j] == bucket[j - 1]:\n",
    "                    continue\n",
    "                bucket[j] += cookies[i]\n",
    "                dfs(i + 1, max(val, bucket[j]))\n",
    "                bucket[j] -= cookies[i]\n",
    "\n",
    "        dfs(0, 0)\n",
    "        return ans\n"
   ]
  }
 ],
 "metadata": {
  "kernelspec": {
   "display_name": "Python 3.10.6 64-bit",
   "language": "python",
   "name": "python3"
  },
  "language_info": {
   "codemirror_mode": {
    "name": "ipython",
    "version": 3
   },
   "file_extension": ".py",
   "mimetype": "text/x-python",
   "name": "python",
   "nbconvert_exporter": "python",
   "pygments_lexer": "ipython3",
   "version": "3.10.6"
  },
  "orig_nbformat": 4,
  "vscode": {
   "interpreter": {
    "hash": "dfbf064e0f2c8839bc658dd75dfc0b8f09a0440078cae3024109b27659b69d06"
   }
  }
 },
 "nbformat": 4,
 "nbformat_minor": 2
}
