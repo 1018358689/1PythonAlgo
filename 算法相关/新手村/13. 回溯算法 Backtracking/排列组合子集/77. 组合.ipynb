{
 "cells": [
  {
   "cell_type": "markdown",
   "metadata": {},
   "source": [
    "（元素无重不可复选）"
   ]
  },
  {
   "cell_type": "code",
   "execution_count": 2,
   "metadata": {},
   "outputs": [
    {
     "data": {
      "text/plain": [
       "[[1, 2], [1, 3], [1, 4], [2, 3], [2, 4], [3, 4]]"
      ]
     },
     "execution_count": 2,
     "metadata": {},
     "output_type": "execute_result"
    }
   ],
   "source": [
    "from typing import List\n",
    "\n",
    "\n",
    "class Solution:\n",
    "\n",
    "    def combine(self, n: int, k: int) -> List[List[int]]:\n",
    "        ans = []\n",
    "\n",
    "        def dfs(path, si, deepth):\n",
    "            if deepth == k:\n",
    "                ans.append(path[:])\n",
    "                return\n",
    "            for i in range(si, n + 1):\n",
    "                dfs(path + [i], i + 1, deepth + 1)\n",
    "\n",
    "        dfs([], 1, 0)\n",
    "        return ans\n",
    "\n",
    "\n",
    "s = Solution()\n",
    "s.combine(4, 2)\n"
   ]
  },
  {
   "cell_type": "code",
   "execution_count": 3,
   "metadata": {},
   "outputs": [
    {
     "data": {
      "text/plain": [
       "[[1, 2], [1, 3], [1, 4], [2, 3], [2, 4], [3, 4]]"
      ]
     },
     "execution_count": 3,
     "metadata": {},
     "output_type": "execute_result"
    }
   ],
   "source": [
    "from typing import List\n",
    "\n",
    "\n",
    "class Solution:\n",
    "\n",
    "    def combine(self, n: int, k: int) -> List[List[int]]:\n",
    "        ans = []\n",
    "\n",
    "        def dfs(path, si, deepth):\n",
    "            if deepth + n + 1 - si < k:  # 当前长度加后面所有数字仍旧小于k则剪枝\n",
    "                return\n",
    "            if deepth == k:\n",
    "                ans.append(path[:])\n",
    "                return\n",
    "\n",
    "            for i in range(si, n + 1):\n",
    "                dfs(path + [i], i + 1, deepth + 1)\n",
    "\n",
    "        dfs([], 1, 0)\n",
    "        return ans\n",
    "\n",
    "\n",
    "s = Solution()\n",
    "s.combine(4, 2)\n"
   ]
  },
  {
   "cell_type": "code",
   "execution_count": 4,
   "metadata": {},
   "outputs": [
    {
     "data": {
      "text/plain": [
       "[[1, 2], [1, 3], [1, 4], [2, 3], [2, 4], [3, 4]]"
      ]
     },
     "execution_count": 4,
     "metadata": {},
     "output_type": "execute_result"
    }
   ],
   "source": [
    "from typing import List\n",
    "\n",
    "\n",
    "class Solution:\n",
    "\n",
    "    def combine(self, n: int, k: int) -> List[List[int]]:\n",
    "        ans = []\n",
    "\n",
    "        def dfs(path, si, deepth):\n",
    "            if deepth == k:\n",
    "                ans.append(path[:])\n",
    "                return\n",
    "\n",
    "            for i in range(si, n + 2 - k + deepth):\n",
    "                dfs(path + [i], i + 1, deepth + 1)\n",
    "\n",
    "        dfs([], 1, 0)\n",
    "        return ans\n",
    "\n",
    "\n",
    "s = Solution()\n",
    "s.combine(4, 2)\n"
   ]
  },
  {
   "cell_type": "code",
   "execution_count": null,
   "metadata": {},
   "outputs": [],
   "source": []
  }
 ],
 "metadata": {
  "interpreter": {
   "hash": "97367d2de1780ea7c502b529f25888c1b53c0430a7611816b6c7cf19d8435228"
  },
  "kernelspec": {
   "display_name": "Python 3.10.4 64-bit (windows store)",
   "language": "python",
   "name": "python3"
  },
  "language_info": {
   "codemirror_mode": {
    "name": "ipython",
    "version": 3
   },
   "file_extension": ".py",
   "mimetype": "text/x-python",
   "name": "python",
   "nbconvert_exporter": "python",
   "pygments_lexer": "ipython3",
   "version": "3.10.4"
  },
  "orig_nbformat": 4
 },
 "nbformat": 4,
 "nbformat_minor": 2
}
