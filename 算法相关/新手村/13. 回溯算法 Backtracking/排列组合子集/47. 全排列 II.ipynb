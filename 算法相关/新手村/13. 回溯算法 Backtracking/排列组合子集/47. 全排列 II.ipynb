{
 "cells": [
  {
   "cell_type": "markdown",
   "metadata": {},
   "source": [
    "（元素有重不可复选）"
   ]
  },
  {
   "cell_type": "code",
   "execution_count": 2,
   "metadata": {},
   "outputs": [
    {
     "data": {
      "text/plain": [
       "[[1, 1, 2], [1, 2, 1], [2, 1, 1]]"
      ]
     },
     "execution_count": 2,
     "metadata": {},
     "output_type": "execute_result"
    }
   ],
   "source": [
    "from typing import List\n",
    "# 值得思考理解\n",
    "\n",
    "class Solution:\n",
    "\n",
    "    def permuteUnique(self, nums: List[int]) -> List[List[int]]:\n",
    "        ans = []\n",
    "        nums.sort()\n",
    "\n",
    "        def dfs(path, used):\n",
    "            if len(path) == len(nums):\n",
    "                ans.append(path[:])\n",
    "                return\n",
    "            for i in range(len(nums)):\n",
    "                if i in used:  # 纵向用过位置跳过\n",
    "                    continue\n",
    "                if i > 0 and nums[i] == nums[i - 1] and i - 1 not in used:  # 精髓同一层相同跳过 不同层相同不跳过\n",
    "                    continue # 遇到和前一个相同的值 必须前一个用过 他才能用 这样就有相对使用顺序\n",
    "                dfs(path + [nums[i]], used | {i})\n",
    "\n",
    "        dfs([], set())\n",
    "        return ans\n",
    "\n",
    "\n",
    "s = Solution()\n",
    "s.permuteUnique([1, 1, 2])\n"
   ]
  },
  {
   "cell_type": "markdown",
   "metadata": {},
   "source": [
    "https://labuladong.github.io/algo/4/29/105/\n",
    "\n",
    "还可以这样理解 固定相同的元素在排列中的相对位置\n",
    "![](2022-06-01-14-27-26.png)"
   ]
  },
  {
   "cell_type": "code",
   "execution_count": 6,
   "metadata": {},
   "outputs": [
    {
     "data": {
      "text/plain": [
       "[[1, 1, 2], [1, 2, 1], [2, 1, 1]]"
      ]
     },
     "execution_count": 6,
     "metadata": {},
     "output_type": "execute_result"
    }
   ],
   "source": [
    "from typing import List\n",
    "# 值得思考理解\n",
    "\n",
    "class Solution:\n",
    "\n",
    "    def permuteUnique(self, nums: List[int]) -> List[List[int]]:\n",
    "        ans = []\n",
    "        nums.sort()\n",
    "        def dfs(path, used):\n",
    "            if len(path) == len(nums):\n",
    "                ans.append(path[:])\n",
    "                return\n",
    "            pre = 11\n",
    "            for i in range(len(nums)): # 横向\n",
    "                if i in used:  # 纵向用过位置跳过 因为used是纵向传递下来的信息\n",
    "                    continue\n",
    "                if nums[i] == pre: # 横向相同值跳过 pre是横向记录的信息\n",
    "                    continue\n",
    "                pre = nums[i] # 记录这条\n",
    "                dfs(path + [nums[i]], used | {i}) # 纵向 记录的信息\n",
    "\n",
    "        dfs([], set())\n",
    "        return ans\n",
    "\n",
    "\n",
    "s = Solution()\n",
    "s.permuteUnique([1, 1, 2])\n"
   ]
  },
  {
   "cell_type": "code",
   "execution_count": null,
   "metadata": {},
   "outputs": [],
   "source": [
    "from typing import List\n",
    "\n",
    "\n",
    "class Solution:\n",
    "    def permuteUnique(self, arr: List[int]) -> List[List[int]]:\n",
    "        arr.sort()\n",
    "        ans = []\n",
    "        used = [0]*len(arr)\n",
    "\n",
    "        def dfs(path: list):\n",
    "            if len(path) == len(arr):\n",
    "                ans.append(path[:])\n",
    "                return\n",
    "            for i in range(len(arr)):\n",
    "                if used[i]:\n",
    "                    continue\n",
    "                if i > 0 and arr[i] == arr[i-1] and not used[i-1]:\n",
    "                    continue\n",
    "                path.append(arr[i])\n",
    "                used[i] = 1\n",
    "                dfs(path)\n",
    "                path.pop()\n",
    "                used[i] = 0\n",
    "        dfs([])\n",
    "        return ans\n"
   ]
  }
 ],
 "metadata": {
  "kernelspec": {
   "display_name": "Python 3.10.6 64-bit",
   "language": "python",
   "name": "python3"
  },
  "language_info": {
   "codemirror_mode": {
    "name": "ipython",
    "version": 3
   },
   "file_extension": ".py",
   "mimetype": "text/x-python",
   "name": "python",
   "nbconvert_exporter": "python",
   "pygments_lexer": "ipython3",
   "version": "3.10.6"
  },
  "orig_nbformat": 4,
  "vscode": {
   "interpreter": {
    "hash": "916dbcbb3f70747c44a77c7bcd40155683ae19c65e1c03b4aa3499c5328201f1"
   }
  }
 },
 "nbformat": 4,
 "nbformat_minor": 2
}
