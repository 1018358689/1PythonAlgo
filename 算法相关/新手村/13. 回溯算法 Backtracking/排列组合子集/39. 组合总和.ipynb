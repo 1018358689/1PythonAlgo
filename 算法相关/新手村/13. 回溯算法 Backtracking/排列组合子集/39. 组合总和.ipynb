{
 "cells": [
  {
   "cell_type": "markdown",
   "metadata": {},
   "source": [
    "（元素无重可复选）"
   ]
  },
  {
   "cell_type": "code",
   "execution_count": 3,
   "metadata": {},
   "outputs": [
    {
     "data": {
      "text/plain": [
       "[[2, 2, 2, 2], [2, 3, 3], [3, 5]]"
      ]
     },
     "execution_count": 3,
     "metadata": {},
     "output_type": "execute_result"
    }
   ],
   "source": [
    "from typing import List\n",
    "\n",
    "\n",
    "class Solution:\n",
    "\n",
    "    def combinationSum(self, candidates: List[int], target: int) -> List[List[int]]:\n",
    "        ans = []\n",
    "\n",
    "        def dfs(s, path, si):\n",
    "            if s == target:\n",
    "                ans.append(path[:])\n",
    "                return\n",
    "            elif s > target:\n",
    "                return\n",
    "            for i in range(si, len(candidates)):\n",
    "                cur = candidates[i]\n",
    "                dfs(s + cur, path + [cur], i)\n",
    "\n",
    "        dfs(0, [], 0)\n",
    "        return ans\n",
    "\n",
    "\n",
    "s = Solution()\n",
    "s.combinationSum([2, 3, 6, 7], 7)\n",
    "s.combinationSum([2, 3, 5], 8)\n"
   ]
  },
  {
   "cell_type": "code",
   "execution_count": null,
   "metadata": {},
   "outputs": [],
   "source": []
  }
 ],
 "metadata": {
  "interpreter": {
   "hash": "97367d2de1780ea7c502b529f25888c1b53c0430a7611816b6c7cf19d8435228"
  },
  "kernelspec": {
   "display_name": "Python 3.10.4 64-bit (windows store)",
   "language": "python",
   "name": "python3"
  },
  "language_info": {
   "codemirror_mode": {
    "name": "ipython",
    "version": 3
   },
   "file_extension": ".py",
   "mimetype": "text/x-python",
   "name": "python",
   "nbconvert_exporter": "python",
   "pygments_lexer": "ipython3",
   "version": "3.10.4"
  },
  "orig_nbformat": 4
 },
 "nbformat": 4,
 "nbformat_minor": 2
}
