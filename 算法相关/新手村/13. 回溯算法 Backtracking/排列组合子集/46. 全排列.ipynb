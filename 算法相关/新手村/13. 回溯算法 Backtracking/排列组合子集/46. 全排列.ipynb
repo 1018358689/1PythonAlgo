{
 "cells": [
  {
   "cell_type": "markdown",
   "metadata": {},
   "source": [
    "（元素无重不可复选）"
   ]
  },
  {
   "cell_type": "code",
   "execution_count": 4,
   "metadata": {},
   "outputs": [
    {
     "data": {
      "text/plain": [
       "[[1, 2, 3], [1, 3, 2], [2, 1, 3], [2, 3, 1], [3, 1, 2], [3, 2, 1]]"
      ]
     },
     "execution_count": 4,
     "metadata": {},
     "output_type": "execute_result"
    }
   ],
   "source": [
    "from typing import List\n",
    "\n",
    "\n",
    "class Solution:\n",
    "\n",
    "    def permute(self, nums: List[int]) -> List[List[int]]:\n",
    "        ans = []\n",
    "\n",
    "        def dfs(path, used):\n",
    "            if len(path) == len(nums):\n",
    "                ans.append(path[:])\n",
    "                return\n",
    "            for n in nums:\n",
    "                if n in used:\n",
    "                    continue\n",
    "                dfs(path + [n], used | {n})\n",
    "\n",
    "        dfs([], set())\n",
    "        return ans\n",
    "\n",
    "\n",
    "s = Solution()\n",
    "s.permute([1, 2, 3])\n"
   ]
  },
  {
   "cell_type": "code",
   "execution_count": null,
   "metadata": {},
   "outputs": [],
   "source": []
  }
 ],
 "metadata": {
  "kernelspec": {
   "display_name": "Python 3.10.5 64-bit",
   "language": "python",
   "name": "python3"
  },
  "language_info": {
   "codemirror_mode": {
    "name": "ipython",
    "version": 3
   },
   "file_extension": ".py",
   "mimetype": "text/x-python",
   "name": "python",
   "nbconvert_exporter": "python",
   "pygments_lexer": "ipython3",
   "version": "3.10.5"
  },
  "orig_nbformat": 4,
  "vscode": {
   "interpreter": {
    "hash": "3196968d684371006099b3d55edeef8ed90365227a30deaef86e5d4aa8519be0"
   }
  }
 },
 "nbformat": 4,
 "nbformat_minor": 2
}
