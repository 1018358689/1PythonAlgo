{
 "cells": [
  {
   "cell_type": "markdown",
   "metadata": {},
   "source": [
    "排列（元素无重可复选）\n",
    "力扣上没有类似的题目，我们不妨先想一下，nums 数组中的元素无重复且可复选的情况下，会有哪些排列？\n",
    "\n",
    "比如输入 nums = [1,2,3]，那么这种条件下的全排列共有 3^3 = 27 种：\n",
    "\n",
    "[\n",
    "  [1,1,1],[1,1,2],[1,1,3],[1,2,1],[1,2,2],[1,2,3],[1,3,1],[1,3,2],[1,3,3],\n",
    "  [2,1,1],[2,1,2],[2,1,3],[2,2,1],[2,2,2],[2,2,3],[2,3,1],[2,3,2],[2,3,3],\n",
    "  [3,1,1],[3,1,2],[3,1,3],[3,2,1],[3,2,2],[3,2,3],[3,3,1],[3,3,2],[3,3,3]\n",
    "]"
   ]
  },
  {
   "cell_type": "code",
   "execution_count": 1,
   "metadata": {},
   "outputs": [
    {
     "data": {
      "text/plain": [
       "[[1, 1, 1],\n",
       " [1, 1, 2],\n",
       " [1, 1, 3],\n",
       " [1, 2, 1],\n",
       " [1, 2, 2],\n",
       " [1, 2, 3],\n",
       " [1, 3, 1],\n",
       " [1, 3, 2],\n",
       " [1, 3, 3],\n",
       " [2, 1, 1],\n",
       " [2, 1, 2],\n",
       " [2, 1, 3],\n",
       " [2, 2, 1],\n",
       " [2, 2, 2],\n",
       " [2, 2, 3],\n",
       " [2, 3, 1],\n",
       " [2, 3, 2],\n",
       " [2, 3, 3],\n",
       " [3, 1, 1],\n",
       " [3, 1, 2],\n",
       " [3, 1, 3],\n",
       " [3, 2, 1],\n",
       " [3, 2, 2],\n",
       " [3, 2, 3],\n",
       " [3, 3, 1],\n",
       " [3, 3, 2],\n",
       " [3, 3, 3]]"
      ]
     },
     "execution_count": 1,
     "metadata": {},
     "output_type": "execute_result"
    }
   ],
   "source": [
    "def permutation(nums):\n",
    "    ans = []\n",
    "\n",
    "    def dfs(path):\n",
    "        if len(path) == len(nums):\n",
    "            ans.append(path[:])\n",
    "            return\n",
    "        for n in nums:\n",
    "            dfs(path + [n])\n",
    "\n",
    "    dfs([])\n",
    "    return ans\n",
    "\n",
    "\n",
    "permutation([1, 2, 3])\n"
   ]
  },
  {
   "cell_type": "code",
   "execution_count": null,
   "metadata": {},
   "outputs": [],
   "source": []
  }
 ],
 "metadata": {
  "kernelspec": {
   "display_name": "Python 3.10.6 64-bit",
   "language": "python",
   "name": "python3"
  },
  "language_info": {
   "codemirror_mode": {
    "name": "ipython",
    "version": 3
   },
   "file_extension": ".py",
   "mimetype": "text/x-python",
   "name": "python",
   "nbconvert_exporter": "python",
   "pygments_lexer": "ipython3",
   "version": "3.10.6"
  },
  "orig_nbformat": 4,
  "vscode": {
   "interpreter": {
    "hash": "916dbcbb3f70747c44a77c7bcd40155683ae19c65e1c03b4aa3499c5328201f1"
   }
  }
 },
 "nbformat": 4,
 "nbformat_minor": 2
}
