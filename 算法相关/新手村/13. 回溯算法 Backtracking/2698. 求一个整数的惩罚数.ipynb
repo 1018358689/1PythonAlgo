{
 "cells": [
  {
   "cell_type": "code",
   "execution_count": null,
   "metadata": {},
   "outputs": [],
   "source": [
    "# 预处理\n",
    "check = [0] * 1001\n",
    "for x in range(1, 1001):\n",
    "    xs = str(x * x)\n",
    "    m = len(xs)\n",
    "\n",
    "    def dfs(si, s):\n",
    "        if s > x: return False\n",
    "        if si == m:\n",
    "            return s == x\n",
    "        cur = 0\n",
    "        for i in range(si, m):  # 枚举起点\n",
    "            cur = 10 * cur + int(xs[i])\n",
    "            if dfs(i + 1, s + cur): return True\n",
    "        return False\n",
    "\n",
    "    check[x] = x * x if dfs(0, 0) else 0\n",
    "ps = list(accumulate(check, initial=0))\n",
    "\n",
    "\n",
    "class Solution:\n",
    "\n",
    "    def punishmentNumber(self, n: int) -> int:\n",
    "        return ps[n + 1]"
   ]
  }
 ],
 "metadata": {
  "language_info": {
   "name": "python"
  },
  "orig_nbformat": 4
 },
 "nbformat": 4,
 "nbformat_minor": 2
}
