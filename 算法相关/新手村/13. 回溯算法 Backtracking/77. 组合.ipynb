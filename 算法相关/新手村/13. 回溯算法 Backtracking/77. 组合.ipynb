{
 "cells": [
  {
   "cell_type": "code",
   "execution_count": 1,
   "metadata": {},
   "outputs": [
    {
     "data": {
      "text/plain": [
       "[[1, 2], [1, 3], [1, 4], [2, 3], [2, 4], [3, 4]]"
      ]
     },
     "execution_count": 1,
     "metadata": {},
     "output_type": "execute_result"
    }
   ],
   "source": [
    "def f(n, k):\n",
    "    res = []\n",
    "\n",
    "    def dfs(path, si):\n",
    "        if len(path) == k:\n",
    "            res.append(path)\n",
    "        for i in range(si, n + 1):\n",
    "            dfs(path + [i], i + 1)\n",
    "\n",
    "    dfs([], 1)\n",
    "    return res\n",
    "\n",
    "\n",
    "f(4, 2)\n"
   ]
  },
  {
   "cell_type": "code",
   "execution_count": 3,
   "metadata": {},
   "outputs": [
    {
     "data": {
      "text/plain": [
       "[[1, 2], [1, 3], [1, 4], [2, 3], [2, 4], [3, 4]]"
      ]
     },
     "execution_count": 3,
     "metadata": {},
     "output_type": "execute_result"
    }
   ],
   "source": [
    "def f(n, k):\n",
    "    res = []\n",
    "\n",
    "    def dfs(path, si):\n",
    "        if len(path) + n + 1 - si < k: # 当前长度加后面所有数字长度小于k则减枝\n",
    "            return\n",
    "        if len(path) == k:\n",
    "            res.append(path)\n",
    "        for i in range(si, n + 1):\n",
    "            dfs(path + [i], i + 1)\n",
    "\n",
    "    dfs([], 1)\n",
    "    return res\n",
    "\n",
    "\n",
    "f(4, 2)\n"
   ]
  }
 ],
 "metadata": {
  "interpreter": {
   "hash": "a5f34674cfcc9b13426a2d112c686bc132e4ef443f1487e707e7c3787d6bcf89"
  },
  "kernelspec": {
   "display_name": "Python 3.10.4 64-bit (windows store)",
   "language": "python",
   "name": "python3"
  },
  "language_info": {
   "codemirror_mode": {
    "name": "ipython",
    "version": 3
   },
   "file_extension": ".py",
   "mimetype": "text/x-python",
   "name": "python",
   "nbconvert_exporter": "python",
   "pygments_lexer": "ipython3",
   "version": "3.10.4"
  },
  "orig_nbformat": 4
 },
 "nbformat": 4,
 "nbformat_minor": 2
}
