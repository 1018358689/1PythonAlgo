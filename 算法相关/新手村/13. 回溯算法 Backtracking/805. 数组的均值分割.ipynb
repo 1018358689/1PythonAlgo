{
 "cells": [
  {
   "cell_type": "code",
   "execution_count": 2,
   "metadata": {},
   "outputs": [
    {
     "data": {
      "text/plain": [
       "True"
      ]
     },
     "execution_count": 2,
     "metadata": {},
     "output_type": "execute_result"
    }
   ],
   "source": [
    "# 超时\n",
    "from typing import List\n",
    "\n",
    "\n",
    "class Solution:\n",
    "\n",
    "    def splitArraySameAverage(self, nums: List[int]) -> bool:\n",
    "        total = sum(nums)\n",
    "\n",
    "        def dfs(i, s, lgh):\n",
    "            if i == len(nums):\n",
    "                if 0 != lgh != len(nums) and s / lgh == (total - s) / (len(nums) - lgh):\n",
    "                    return True\n",
    "                return False\n",
    "            if dfs(i + 1, s + nums[i], lgh + 1):\n",
    "                return True\n",
    "            if dfs(i + 1, s, lgh):\n",
    "                return True\n",
    "            return False\n",
    "\n",
    "        return dfs(0, 0, 0)\n",
    "\n",
    "\n",
    "s = Solution()\n",
    "s.splitArraySameAverage([1, 2, 3, 4, 5, 6, 7, 8])\n"
   ]
  },
  {
   "cell_type": "code",
   "execution_count": 5,
   "metadata": {},
   "outputs": [
    {
     "data": {
      "text/plain": [
       "8"
      ]
     },
     "execution_count": 5,
     "metadata": {},
     "output_type": "execute_result"
    }
   ],
   "source": [
    "1<<3"
   ]
  },
  {
   "cell_type": "code",
   "execution_count": null,
   "metadata": {},
   "outputs": [],
   "source": []
  }
 ],
 "metadata": {
  "kernelspec": {
   "display_name": "Python 3.10.5 64-bit",
   "language": "python",
   "name": "python3"
  },
  "language_info": {
   "codemirror_mode": {
    "name": "ipython",
    "version": 3
   },
   "file_extension": ".py",
   "mimetype": "text/x-python",
   "name": "python",
   "nbconvert_exporter": "python",
   "pygments_lexer": "ipython3",
   "version": "3.10.5"
  },
  "orig_nbformat": 4,
  "vscode": {
   "interpreter": {
    "hash": "3196968d684371006099b3d55edeef8ed90365227a30deaef86e5d4aa8519be0"
   }
  }
 },
 "nbformat": 4,
 "nbformat_minor": 2
}
