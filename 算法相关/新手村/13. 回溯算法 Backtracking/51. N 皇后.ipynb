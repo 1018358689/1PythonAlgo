{
 "cells": [
  {
   "cell_type": "code",
   "execution_count": 16,
   "metadata": {},
   "outputs": [
    {
     "data": {
      "text/plain": [
       "[['.Q..', '...Q', 'Q...', '..Q.'], ['..Q.', 'Q...', '...Q', '.Q..']]"
      ]
     },
     "execution_count": 16,
     "metadata": {},
     "output_type": "execute_result"
    }
   ],
   "source": [
    "from typing import List\n",
    "\n",
    "\n",
    "class Solution:\n",
    "\n",
    "    def solveNQueens(self, n: int) -> List[List[str]]:\n",
    "\n",
    "        def check(board, row, col):\n",
    "            for r in range(row): # 该列col 左上角row-col 右上角row+col 相等\n",
    "                if board[r][col] == 'Q':\n",
    "                    return False\n",
    "                if r - row + col >= 0 and board[r][r - row + col] == 'Q':\n",
    "                    return False\n",
    "                if row + col - r < n and board[r][row + col - r] == 'Q':\n",
    "                    return False\n",
    "            return True\n",
    "\n",
    "        board = [['.'] * n for _ in range(n)]\n",
    "        ans = []\n",
    "\n",
    "        def dfs(ri, board):\n",
    "            if ri == n:\n",
    "                ans.append([''.join(board[r]) for r in range(n)])\n",
    "                return\n",
    "            for c in range(n):\n",
    "                if not check(board, ri, c): # 排除不合法选择\n",
    "                    continue\n",
    "                board[ri][c] = 'Q'\n",
    "                dfs(ri + 1, board)\n",
    "                board[ri][c] = '.'\n",
    "\n",
    "        dfs(0, board)\n",
    "        return ans\n",
    "\n",
    "\n",
    "s = Solution()\n",
    "s.solveNQueens(4)\n"
   ]
  },
  {
   "cell_type": "code",
   "execution_count": null,
   "metadata": {},
   "outputs": [],
   "source": []
  }
 ],
 "metadata": {
  "interpreter": {
   "hash": "aee8b7b246df8f9039afb4144a1f6fd8d2ca17a180786b69acc140d282b71a49"
  },
  "kernelspec": {
   "display_name": "Python 3.10.1 64-bit",
   "language": "python",
   "name": "python3"
  },
  "language_info": {
   "codemirror_mode": {
    "name": "ipython",
    "version": 3
   },
   "file_extension": ".py",
   "mimetype": "text/x-python",
   "name": "python",
   "nbconvert_exporter": "python",
   "pygments_lexer": "ipython3",
   "version": "3.10.1"
  },
  "orig_nbformat": 4
 },
 "nbformat": 4,
 "nbformat_minor": 2
}
