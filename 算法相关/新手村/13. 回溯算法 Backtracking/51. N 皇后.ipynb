{
 "cells": [
  {
   "cell_type": "code",
   "execution_count": 16,
   "metadata": {},
   "outputs": [
    {
     "data": {
      "text/plain": [
       "[['.Q..', '...Q', 'Q...', '..Q.'], ['..Q.', 'Q...', '...Q', '.Q..']]"
      ]
     },
     "execution_count": 16,
     "metadata": {},
     "output_type": "execute_result"
    }
   ],
   "source": [
    "from typing import List\n",
    "\n",
    "\n",
    "class Solution:\n",
    "\n",
    "    def solveNQueens(self, n: int) -> List[List[str]]:\n",
    "\n",
    "        def check(r, c, grid):  # (r,c)放置皇后的可行性\n",
    "            # 行不用考虑 每一行只放一个\n",
    "            # 右上左上斜对角 分别 和相等和差相等\n",
    "            # r+c=row+x -> x=r+c-row\n",
    "            # c-r=x-row -> x=c-r+row\n",
    "            for row in range(r):\n",
    "                if grid[row][c] == 'Q':\n",
    "                    return False\n",
    "                x = r + c - row\n",
    "                if 0 <= x < n and grid[row][x] == 'Q':\n",
    "                    return False\n",
    "                x = c - r + row\n",
    "                if 0 <= x < n and grid[row][x] == 'Q':\n",
    "                    return False\n",
    "            return True\n",
    "\n",
    "        ans = []\n",
    "\n",
    "        def dfs(r, grid):\n",
    "            if r == n:\n",
    "                ans.append([''.join(grid[r]) for r in range(n)])\n",
    "                return\n",
    "            for c in range(n):\n",
    "                if check(r, c, grid):\n",
    "                    grid[r][c] = 'Q'\n",
    "                    dfs(r + 1, grid)\n",
    "                    grid[r][c] = '.'\n",
    "\n",
    "        grid = [['.'] * n for _ in range(n)]\n",
    "        dfs(0, grid)\n",
    "        return ans"
   ]
  },
  {
   "cell_type": "code",
   "execution_count": null,
   "metadata": {},
   "outputs": [],
   "source": []
  }
 ],
 "metadata": {
  "kernelspec": {
   "display_name": "Python 3",
   "language": "python",
   "name": "python3"
  },
  "language_info": {
   "codemirror_mode": {
    "name": "ipython",
    "version": 3
   },
   "file_extension": ".py",
   "mimetype": "text/x-python",
   "name": "python",
   "nbconvert_exporter": "python",
   "pygments_lexer": "ipython3",
   "version": "3.10.6 (main, Nov 14 2022, 16:10:14) [GCC 11.3.0]"
  },
  "orig_nbformat": 4,
  "vscode": {
   "interpreter": {
    "hash": "916dbcbb3f70747c44a77c7bcd40155683ae19c65e1c03b4aa3499c5328201f1"
   }
  }
 },
 "nbformat": 4,
 "nbformat_minor": 2
}
