{
 "cells": [
  {
   "cell_type": "code",
   "execution_count": 17,
   "metadata": {},
   "outputs": [
    {
     "name": "stdout",
     "output_type": "stream",
     "text": [
      "3\n",
      "10\n"
     ]
    },
    {
     "data": {
      "text/plain": [
       "8"
      ]
     },
     "execution_count": 17,
     "metadata": {},
     "output_type": "execute_result"
    }
   ],
   "source": [
    "from math import inf\n",
    "from typing import List\n",
    "\n",
    "\n",
    "class Solution:\n",
    "\n",
    "    def closestCost(self, baseCosts: List[int], toppingCosts: List[int], target: int) -> int:\n",
    "        ans = inf\n",
    "        n = len(toppingCosts)\n",
    "\n",
    "        def dfs(i, s):\n",
    "            nonlocal ans\n",
    "            if (cur := abs(s - target)) < (pre := abs(ans - target)) or cur == pre and s < ans:\n",
    "                ans = s\n",
    "            if i == n or s > target:\n",
    "                return\n",
    "            dfs(i + 1, s)\n",
    "            dfs(i + 1, s + toppingCosts[i])\n",
    "            dfs(i + 1, s + toppingCosts[i] * 2)\n",
    "\n",
    "        for b in baseCosts:\n",
    "            dfs(0, b)\n",
    "        return ans\n",
    "\n",
    "\n",
    "s = Solution()\n",
    "s.closestCost([3, 10], [2, 5], 9)\n"
   ]
  },
  {
   "cell_type": "code",
   "execution_count": null,
   "metadata": {},
   "outputs": [],
   "source": []
  }
 ],
 "metadata": {
  "kernelspec": {
   "display_name": "Python 3.10.5 64-bit",
   "language": "python",
   "name": "python3"
  },
  "language_info": {
   "codemirror_mode": {
    "name": "ipython",
    "version": 3
   },
   "file_extension": ".py",
   "mimetype": "text/x-python",
   "name": "python",
   "nbconvert_exporter": "python",
   "pygments_lexer": "ipython3",
   "version": "3.10.5"
  },
  "orig_nbformat": 4,
  "vscode": {
   "interpreter": {
    "hash": "3196968d684371006099b3d55edeef8ed90365227a30deaef86e5d4aa8519be0"
   }
  }
 },
 "nbformat": 4,
 "nbformat_minor": 2
}
