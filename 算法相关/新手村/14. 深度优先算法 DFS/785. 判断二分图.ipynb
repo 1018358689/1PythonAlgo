{
 "cells": [
  {
   "cell_type": "code",
   "execution_count": 1,
   "metadata": {},
   "outputs": [],
   "source": [
    "from typing import List\n",
    "\n",
    "\n",
    "# 红蓝染色法\n",
    "class Solution:\n",
    "\n",
    "    def isBipartite(self, graph: List[List[int]]) -> bool:\n",
    "        n = len(graph)\n",
    "        adj = [[] for _ in range(n)]\n",
    "        for x, ys in enumerate(graph):\n",
    "            for y in ys:\n",
    "                adj[x].append(y)\n",
    "                adj[y].append(x)\n",
    "        colors = [0] * n  # 0 未染色 -1色 1色\n",
    "\n",
    "        def dfs(x, color):  # x染成color能否构成二分图\n",
    "            colors[x] = color\n",
    "            for y in adj[x]:\n",
    "                if colors[y] == color or colors[y] == 0 and not dfs(y, -color):\n",
    "                    return False\n",
    "            return True\n",
    "\n",
    "        for x in range(n):\n",
    "            if not colors[x] and not dfs(x, 1):\n",
    "                return False\n",
    "        return True\n"
   ]
  },
  {
   "cell_type": "code",
   "execution_count": null,
   "metadata": {},
   "outputs": [],
   "source": [
    "from typing import List\n",
    "\n",
    "\n",
    "# 并查集 同一层合并\n",
    "class Solution:\n",
    "\n",
    "    def isBipartite(self, graph: List[List[int]]) -> bool:\n",
    "        n = len(graph)\n",
    "        adj = [[] for _ in range(n)]\n",
    "        for x, ys in enumerate(graph):\n",
    "            for y in ys:\n",
    "                adj[x].append(y)\n",
    "                adj[y].append(x)\n",
    "        fa = list(range(n))\n",
    "        sz = [1] * n\n",
    "\n",
    "        def find(x):\n",
    "            if fa[x] != x:\n",
    "                fa[x] = find(fa[x])\n",
    "            return fa[x]\n",
    "\n",
    "        def union(x, y):\n",
    "            fx, fy = find(x), find(y)\n",
    "            if fx == fy: return\n",
    "            if sz[fx] > sz[fy]: fx, fy = fy, fx\n",
    "            sz[fy] += sz[fx]\n",
    "            fa[fx] = fy\n",
    "\n",
    "        def is_connect(x, y):\n",
    "            return find(x) == find(y)\n",
    "\n",
    "        for x in range(n):\n",
    "            for y in adj[x]:\n",
    "                if is_connect(x, y):\n",
    "                    return False\n",
    "                union(adj[x][0], y)\n",
    "        return True"
   ]
  }
 ],
 "metadata": {
  "kernelspec": {
   "display_name": "Python 3.10.5 64-bit",
   "language": "python",
   "name": "python3"
  },
  "language_info": {
   "codemirror_mode": {
    "name": "ipython",
    "version": 3
   },
   "file_extension": ".py",
   "mimetype": "text/x-python",
   "name": "python",
   "nbconvert_exporter": "python",
   "pygments_lexer": "ipython3",
   "version": "3.10.5"
  },
  "orig_nbformat": 4,
  "vscode": {
   "interpreter": {
    "hash": "3196968d684371006099b3d55edeef8ed90365227a30deaef86e5d4aa8519be0"
   }
  }
 },
 "nbformat": 4,
 "nbformat_minor": 2
}
