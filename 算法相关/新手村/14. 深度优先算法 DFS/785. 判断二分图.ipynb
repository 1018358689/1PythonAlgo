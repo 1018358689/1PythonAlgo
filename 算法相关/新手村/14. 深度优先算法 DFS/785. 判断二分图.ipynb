{
 "cells": [
  {
   "cell_type": "code",
   "execution_count": 1,
   "metadata": {},
   "outputs": [],
   "source": [
    "# dfs 红蓝染色法\n",
    "class Solution:\n",
    "\n",
    "    def isBipartite(self, graph: List[List[int]]) -> bool:\n",
    "        n = len(graph)\n",
    "        colors = [0] * n  # 0：未染色 1：红色 -1：蓝色\n",
    "\n",
    "        def dfs(x, color):  # 将x染成color颜色 能否是二分图\n",
    "            colors[x] = color\n",
    "            for y in graph[x]:\n",
    "                if colors[y] == color or (colors[y] == 0 and not dfs(y, -color)):\n",
    "                    return False\n",
    "            return True\n",
    "\n",
    "        for x in range(n):\n",
    "            if colors[x] == 0 and not dfs(x, 1):\n",
    "                return False\n",
    "        return True"
   ]
  },
  {
   "cell_type": "code",
   "execution_count": null,
   "metadata": {},
   "outputs": [],
   "source": [
    "# bfs 红蓝染色法\n",
    "class Solution:\n",
    "\n",
    "    def isBipartite(self, graph: List[List[int]]) -> bool:\n",
    "        n = len(graph)\n",
    "        colors = [0] * n  # 0：未染色 1：红色 -1：蓝色\n",
    "        for x in range(n):\n",
    "            if colors[x] == 0:\n",
    "                colors[x] = 1  # 尝试染色\n",
    "                q = deque([x])\n",
    "                while q:\n",
    "                    x = q.popleft()\n",
    "                    color = colors[x]\n",
    "                    for y in graph[x]:\n",
    "                        if colors[y] == color: return False\n",
    "                        elif colors[y] == 0:\n",
    "                            colors[y] = -color\n",
    "                            q.append(y)\n",
    "        return True"
   ]
  },
  {
   "cell_type": "code",
   "execution_count": null,
   "metadata": {},
   "outputs": [],
   "source": [
    "# 并查集 每个顶点的所有邻接点都应该属于同一集合，且不与顶点处于同一集合\n",
    "class Solution:\n",
    "\n",
    "    def isBipartite(self, graph: List[List[int]]) -> bool:\n",
    "        n = len(graph)\n",
    "        roots = list(range(n))\n",
    "\n",
    "        def find(x):\n",
    "            if roots[x] != x:\n",
    "                roots[x] = find(roots[x])\n",
    "            return roots[x]\n",
    "\n",
    "        def union(x, y):\n",
    "            rx, ry = find(x), find(y)\n",
    "            if rx != ry:\n",
    "                roots[rx] = ry\n",
    "\n",
    "        for x in range(n):\n",
    "            for y in graph[x]:\n",
    "                if find(x) == find(y): return False\n",
    "                union(graph[x][0], y)\n",
    "        return True"
   ]
  }
 ],
 "metadata": {
  "kernelspec": {
   "display_name": "Python 3.10.5 64-bit",
   "language": "python",
   "name": "python3"
  },
  "language_info": {
   "codemirror_mode": {
    "name": "ipython",
    "version": 3
   },
   "file_extension": ".py",
   "mimetype": "text/x-python",
   "name": "python",
   "nbconvert_exporter": "python",
   "pygments_lexer": "ipython3",
   "version": "3.10.5"
  },
  "orig_nbformat": 4,
  "vscode": {
   "interpreter": {
    "hash": "3196968d684371006099b3d55edeef8ed90365227a30deaef86e5d4aa8519be0"
   }
  }
 },
 "nbformat": 4,
 "nbformat_minor": 2
}
