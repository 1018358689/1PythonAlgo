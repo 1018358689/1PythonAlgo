{
 "cells": [
  {
   "cell_type": "code",
   "execution_count": 2,
   "metadata": {},
   "outputs": [
    {
     "data": {
      "text/plain": [
       "3"
      ]
     },
     "execution_count": 2,
     "metadata": {},
     "output_type": "execute_result"
    }
   ],
   "source": [
    "s = 'aabacd'\n",
    "s.rfind('a')"
   ]
  },
  {
   "cell_type": "code",
   "execution_count": null,
   "metadata": {},
   "outputs": [],
   "source": [
    "from functools import lru_cache\n",
    "# 回文子序列得看两端相同的 往内递归\n",
    "\n",
    "class Solution:\n",
    "\n",
    "    def countPalindromicSubsequences(self, s: str) -> int:\n",
    "        mod = 10**9 + 7\n",
    "\n",
    "        @lru_cache(None)\n",
    "        def dfs(si, ei):  # [si,ei]范围内不同的回文子序列个数\n",
    "            if si > ei:\n",
    "                return 0\n",
    "            if si == ei:\n",
    "                return 1\n",
    "            ans = 0\n",
    "            for cur in 'abcd':\n",
    "                l, r = s.find(cur, si, ei + 1), s.rfind(cur, si, ei + 1)\n",
    "                if l == -1:\n",
    "                    continue\n",
    "                ans += 1 if l == r else 2 + dfs(l + 1, r - 1)\n",
    "                ans %= mod\n",
    "            return ans\n",
    "\n",
    "        return dfs(0, len(s) - 1)\n"
   ]
  }
 ],
 "metadata": {
  "interpreter": {
   "hash": "97367d2de1780ea7c502b529f25888c1b53c0430a7611816b6c7cf19d8435228"
  },
  "kernelspec": {
   "display_name": "Python 3.10.5 64-bit (windows store)",
   "language": "python",
   "name": "python3"
  },
  "language_info": {
   "codemirror_mode": {
    "name": "ipython",
    "version": 3
   },
   "file_extension": ".py",
   "mimetype": "text/x-python",
   "name": "python",
   "nbconvert_exporter": "python",
   "pygments_lexer": "ipython3",
   "version": "3.10.5"
  },
  "orig_nbformat": 4
 },
 "nbformat": 4,
 "nbformat_minor": 2
}
