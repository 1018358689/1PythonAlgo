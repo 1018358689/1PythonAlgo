{
 "cells": [
  {
   "cell_type": "code",
   "execution_count": null,
   "metadata": {},
   "outputs": [],
   "source": [
    "from typing import List\n",
    "\n",
    "\n",
    "class Solution:\n",
    "\n",
    "    def regionsBySlashes(self, grid: List[str]) -> int:\n",
    "        n = 3 * len(grid)\n",
    "        gd = [[0] * n for _ in range(n)]\n",
    "        for r in range(n // 3):\n",
    "            for c in range(n // 3):\n",
    "                if grid[r][c] == '/':\n",
    "                    # gd[r * 3][c * 3 + 2] = 1\n",
    "                    # gd[r * 3 + 1][c * 3 + 1] = 1\n",
    "                    # gd[r * 3 + 2][c * 3] = 1\n",
    "                    for i in range(3):\n",
    "                        gd[r * 3 + i][c * 3 + 2 - i] = 1\n",
    "                if grid[r][c] == '\\\\':\n",
    "                    for i in range(3):\n",
    "                        gd[r * 3 + i][c * 3 + i] = 1\n",
    "\n",
    "        def dfs(r, c):\n",
    "            for nr, nc in (r + 1, c), (r - 1, c), (r, c + 1), (r, c - 1):\n",
    "                if n > nr >= 0 <= nc < n and gd[nr][nc] == 0:\n",
    "                    gd[nr][nc] = 1\n",
    "                    dfs(nr, nc)\n",
    "\n",
    "        ans = 0\n",
    "        for r in range(n):\n",
    "            for c in range(n):\n",
    "                if gd[r][c] == 0:\n",
    "                    ans += 1\n",
    "                    dfs(r, c)\n",
    "        return ans"
   ]
  }
 ],
 "metadata": {
  "language_info": {
   "name": "python"
  },
  "orig_nbformat": 4
 },
 "nbformat": 4,
 "nbformat_minor": 2
}
