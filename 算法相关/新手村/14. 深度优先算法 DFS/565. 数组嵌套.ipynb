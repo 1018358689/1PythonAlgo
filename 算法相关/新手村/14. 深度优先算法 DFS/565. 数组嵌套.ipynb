{
 "cells": [
  {
   "cell_type": "code",
   "execution_count": 11,
   "metadata": {},
   "outputs": [
    {
     "data": {
      "text/plain": [
       "4"
      ]
     },
     "execution_count": 11,
     "metadata": {},
     "output_type": "execute_result"
    }
   ],
   "source": [
    "from typing import List\n",
    "\n",
    "\n",
    "class Solution:\n",
    "    def arrayNesting(self, nums: List[int]) -> int:\n",
    "        ha = {}\n",
    "\n",
    "        def dfs(i, vis):\n",
    "            # print(i,nums[i],vis)\n",
    "            if i in vis:\n",
    "                return 0\n",
    "            if i not in ha:\n",
    "                vis.add(i)\n",
    "                ha[i] = dfs(nums[i], vis) + 1 # 直接用vis|={i}会超时\n",
    "            return ha[i]\n",
    "\n",
    "        ans = 0\n",
    "        for i in range(len(nums)):\n",
    "            _local = dfs(i, set())\n",
    "            ans = max(ans, _local)\n",
    "            # print(ha)\n",
    "        return ans\n",
    "\n",
    "\n",
    "s = Solution()\n",
    "s.arrayNesting([5, 4, 0, 3, 1, 6, 2])\n"
   ]
  },
  {
   "cell_type": "code",
   "execution_count": 5,
   "metadata": {},
   "outputs": [
    {
     "data": {
      "text/plain": [
       "4"
      ]
     },
     "execution_count": 5,
     "metadata": {},
     "output_type": "execute_result"
    }
   ],
   "source": [
    "from typing import List\n",
    "\n",
    "\n",
    "class Solution:\n",
    "    def arrayNesting(self, nums: List[int]) -> int:\n",
    "        def dfs(i, vis):\n",
    "            if i in vis:\n",
    "                return 0, vis\n",
    "            vis.add(i)\n",
    "            sub = dfs(nums[i], vis)\n",
    "            return sub[0] + 1, sub[1]\n",
    "\n",
    "        ans = 0\n",
    "        vis = set()\n",
    "        for i in range(len(nums)):\n",
    "            if i not in vis:\n",
    "                _local, _local_vis = dfs(i, set())\n",
    "                vis |= _local_vis\n",
    "                ans = max(ans, _local)\n",
    "        return ans\n",
    "\n",
    "\n",
    "s = Solution()\n",
    "s.arrayNesting([5, 4, 0, 3, 1, 6, 2])\n"
   ]
  },
  {
   "cell_type": "code",
   "execution_count": 13,
   "metadata": {},
   "outputs": [
    {
     "data": {
      "text/plain": [
       "4"
      ]
     },
     "execution_count": 13,
     "metadata": {},
     "output_type": "execute_result"
    }
   ],
   "source": [
    "class Solution:\n",
    "    def arrayNesting(self, nums: List[int]) -> int:\n",
    "        def dfs(i):\n",
    "            if nums[i] == -1:\n",
    "                return 0\n",
    "            nei, nums[i] = nums[i], -1\n",
    "            return dfs(nei) + 1\n",
    "\n",
    "        ans = 0\n",
    "        for i in range(len(nums)):\n",
    "            if nums[i] != -1:\n",
    "                ans = max(ans, dfs(i))\n",
    "        return ans\n",
    "\n",
    "\n",
    "s = Solution()\n",
    "s.arrayNesting([5, 4, 0, 3, 1, 6, 2])\n"
   ]
  },
  {
   "cell_type": "code",
   "execution_count": 14,
   "metadata": {},
   "outputs": [],
   "source": [
    "from collections import Counter\n",
    "\n",
    "\n",
    "class Solution:\n",
    "    def arrayNesting(self, nums: List[int]) -> int:\n",
    "        lgh = len(nums)\n",
    "        roots = list(range(lgh))\n",
    "        rank = [1] * lgh\n",
    "\n",
    "        def find(x):\n",
    "            if x != roots[x]:\n",
    "                roots[x] = find(roots[x])\n",
    "            return roots[x]\n",
    "\n",
    "        def union(x, y):\n",
    "            rx, ry = find(x), find(y)\n",
    "            if rx != ry:\n",
    "                if rank[rx] < rank[ry]:\n",
    "                    roots[rx] = ry\n",
    "                elif rank[ry] < rank[rx]:\n",
    "                    roots[ry] = rx\n",
    "                else:\n",
    "                    roots[rx] = ry\n",
    "                    rank[ry] += 1\n",
    "\n",
    "        for i, n in enumerate(nums):\n",
    "            union(i, n)\n",
    "        cnt = Counter()\n",
    "        for i in range(lgh):\n",
    "            cnt[find(i)] += 1\n",
    "        return max(cnt.values())\n"
   ]
  },
  {
   "cell_type": "code",
   "execution_count": null,
   "metadata": {},
   "outputs": [],
   "source": [
    "class Solution:\n",
    "    def arrayNesting(self, nums: List[int]) -> int:\n",
    "        ans = 0\n",
    "        for i in range(len(nums)):\n",
    "            idx, cur = i, 0\n",
    "            while nums[idx] != -1:\n",
    "                nums[idx], idx, cur = -1, nums[idx], cur + 1\n",
    "            ans = max(ans, cur)\n",
    "        return ans"
   ]
  }
 ],
 "metadata": {
  "kernelspec": {
   "display_name": "Python 3.8.10 64-bit",
   "language": "python",
   "name": "python3"
  },
  "language_info": {
   "codemirror_mode": {
    "name": "ipython",
    "version": 3
   },
   "file_extension": ".py",
   "mimetype": "text/x-python",
   "name": "python",
   "nbconvert_exporter": "python",
   "pygments_lexer": "ipython3",
   "version": "3.8.10"
  },
  "orig_nbformat": 4,
  "vscode": {
   "interpreter": {
    "hash": "570feb405e2e27c949193ac68f46852414290d515b0ba6e5d90d076ed2284471"
   }
  }
 },
 "nbformat": 4,
 "nbformat_minor": 2
}
