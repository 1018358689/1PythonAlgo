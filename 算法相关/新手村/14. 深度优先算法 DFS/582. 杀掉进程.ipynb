{
 "cells": [
  {
   "cell_type": "code",
   "execution_count": null,
   "metadata": {},
   "outputs": [],
   "source": [
    "from collections import defaultdict\n",
    "from typing import List\n",
    "\n",
    "\n",
    "class Solution:\n",
    "\n",
    "    def killProcess(self, pid: List[int], ppid: List[int], kill: int) -> List[int]:\n",
    "        adj = defaultdict(list)\n",
    "        for x, y in zip(pid, ppid):\n",
    "            adj[y].append(x)\n",
    "        ans = set()\n",
    "\n",
    "        def dfs(x):\n",
    "            if x == kill:\n",
    "                return\n",
    "            ans.add(x)\n",
    "            for y in adj[x]:\n",
    "                dfs(y)\n",
    "\n",
    "        dfs(adj[0][0])\n",
    "        return list(set(pid) - ans)\n"
   ]
  },
  {
   "cell_type": "code",
   "execution_count": null,
   "metadata": {},
   "outputs": [],
   "source": [
    "from collections import defaultdict\n",
    "from typing import List\n",
    "\n",
    "\n",
    "class Solution:\n",
    "\n",
    "    def killProcess(self, pid: List[int], ppid: List[int], kill: int) -> List[int]:\n",
    "        adj = defaultdict(list)\n",
    "        for x, y in zip(pid, ppid):\n",
    "            adj[y].append(x)\n",
    "        ans = []\n",
    "\n",
    "        def dfs(x):\n",
    "            ans.append(x)\n",
    "            for y in adj[x]:\n",
    "                dfs(y)\n",
    "\n",
    "        dfs(kill)\n",
    "        return ans\n"
   ]
  }
 ],
 "metadata": {
  "language_info": {
   "name": "python"
  },
  "orig_nbformat": 4
 },
 "nbformat": 4,
 "nbformat_minor": 2
}
