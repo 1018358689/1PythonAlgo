{
 "cells": [
  {
   "cell_type": "code",
   "execution_count": null,
   "metadata": {},
   "outputs": [],
   "source": [
    "from collections import defaultdict\n",
    "from typing import List\n",
    "\n",
    "\n",
    "class Solution:\n",
    "\n",
    "    def killProcess(self, pid: List[int], ppid: List[int], kill: int) -> List[int]:\n",
    "        adj = defaultdict(list)\n",
    "        for x, y in zip(pid, ppid):\n",
    "            adj[y].append(x)\n",
    "        ans = set()\n",
    "\n",
    "        def dfs(x):\n",
    "            if x == kill:\n",
    "                return\n",
    "            ans.add(x)\n",
    "            for y in adj[x]:\n",
    "                dfs(y)\n",
    "\n",
    "        dfs(adj[0][0])\n",
    "        return list(set(pid) - ans)\n"
   ]
  },
  {
   "cell_type": "code",
   "execution_count": null,
   "metadata": {},
   "outputs": [],
   "source": [
    "from collections import defaultdict\n",
    "from typing import List\n",
    "\n",
    "\n",
    "class Solution:\n",
    "\n",
    "    def killProcess(self, pid: List[int], ppid: List[int], kill: int) -> List[int]:\n",
    "        adj = defaultdict(list)\n",
    "        for x, y in zip(pid, ppid):\n",
    "            adj[y].append(x)\n",
    "        ans = []\n",
    "\n",
    "        def dfs(x):\n",
    "            ans.append(x)\n",
    "            for y in adj[x]:\n",
    "                dfs(y)\n",
    "\n",
    "        dfs(kill)\n",
    "        return ans\n"
   ]
  }
 ],
 "metadata": {
  "kernelspec": {
   "display_name": "Python 3",
   "language": "python",
   "name": "python3"
  },
  "language_info": {
   "name": "python",
   "version": "3.10.6 (tags/v3.10.6:9c7b4bd, Aug  1 2022, 21:53:49) [MSC v.1932 64 bit (AMD64)]"
  },
  "orig_nbformat": 4,
  "vscode": {
   "interpreter": {
    "hash": "dfbf064e0f2c8839bc658dd75dfc0b8f09a0440078cae3024109b27659b69d06"
   }
  }
 },
 "nbformat": 4,
 "nbformat_minor": 2
}
