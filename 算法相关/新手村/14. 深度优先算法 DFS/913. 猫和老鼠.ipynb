{
 "cells": [
  {
   "cell_type": "code",
   "execution_count": null,
   "metadata": {},
   "outputs": [],
   "source": [
    "from functools import lru_cache\n",
    "from typing import List\n",
    "\n",
    "\n",
    "class Solution:\n",
    "    def catMouseGame(self, graph: List[List[int]]) -> int:\n",
    "        @lru_cache(None)\n",
    "        def dfs(m,c,i): # 老鼠和猫的位置及回合\n",
    "            if i>135:return 0 # 出现重复位置 平均  135是根据数据量凑出来的\n",
    "            if m==0:return 1 # 老鼠进洞 老鼠胜\n",
    "            if m==c:return 2 # 猫抓到老鼠 猫胜\n",
    "            if i&1: # 猫的回合 优先保证猫胜或平均\n",
    "                if any(dfs(m,y,i+1)==2 for y in graph[c] if y!=0):return 2\n",
    "                if any(dfs(m,y,i+1)==0 for y in graph[c] if y!=0):return 0\n",
    "                return 1\n",
    "            else: # 老鼠回合 优先保证老鼠胜或平局\n",
    "                if any(dfs(y,c,i+1)==1 for y in graph[m]):return 1\n",
    "                if any(dfs(y,c,i+1)==0 for y in graph[m]):return 0\n",
    "                return 2\n",
    "        return dfs(1,2,0)\n",
    "        "
   ]
  }
 ],
 "metadata": {
  "language_info": {
   "name": "python"
  },
  "orig_nbformat": 4
 },
 "nbformat": 4,
 "nbformat_minor": 2
}
