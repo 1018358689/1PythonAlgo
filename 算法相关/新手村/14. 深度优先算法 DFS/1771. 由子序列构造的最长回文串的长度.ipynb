{
 "cells": [
  {
   "cell_type": "code",
   "execution_count": 3,
   "metadata": {},
   "outputs": [],
   "source": [
    "from functools import lru_cache\n",
    "\n",
    "\n",
    "class Solution:\n",
    "\n",
    "    def longestPalindrome(self, word1: str, word2: str) -> int:\n",
    "\n",
    "        @lru_cache(None)\n",
    "        def dfs(word, si, ei):  # word中 [si,ei]最长回文子序列\n",
    "            if si > ei:\n",
    "                return 0\n",
    "            if si == ei:\n",
    "                return 1\n",
    "            if word[si] == word[ei]:\n",
    "                return dfs(word, si + 1, ei - 1) + 2\n",
    "            else:\n",
    "                return max(dfs(word, si + 1, ei), dfs(word, si, ei - 1))\n",
    "\n",
    "        word = word1 + word2\n",
    "        sp = len(word1)\n",
    "        ans = 0\n",
    "        for i in range(sp):\n",
    "            for j in range(sp, len(word)):\n",
    "                if word[i] == word[j]:  # 只在两端相同构成回文子序列时候统计 且两端在两个word1 2里面\n",
    "                    ans = max(ans, dfs(word, i, j))\n",
    "        return ans\n"
   ]
  },
  {
   "cell_type": "code",
   "execution_count": 4,
   "metadata": {},
   "outputs": [],
   "source": [
    "from functools import lru_cache\n",
    "\n",
    "\n",
    "class Solution:\n",
    "\n",
    "    def longestPalindrome(self, word1: str, word2: str) -> int:\n",
    "        ans = 0\n",
    "\n",
    "        @lru_cache(None)\n",
    "        def dfs(si, ei):  # word中 [si,ei]最长回文子序列\n",
    "            nonlocal ans\n",
    "            if si > ei:\n",
    "                return 0\n",
    "            if si == ei:\n",
    "                return 1\n",
    "            if word[si] == word[ei]:\n",
    "                tmp = dfs(si + 1, ei - 1) + 2\n",
    "                if si < len(word1) and len(word1) <= ei: # 最长回文子序列长度肯定在两端相等产生\n",
    "                    ans = max(ans, tmp)\n",
    "                return tmp\n",
    "            else:\n",
    "                return max(dfs(si + 1, ei), dfs(si, ei - 1))\n",
    "\n",
    "        word = word1 + word2\n",
    "        dfs(0, len(word) - 1)\n",
    "        return ans"
   ]
  },
  {
   "cell_type": "code",
   "execution_count": null,
   "metadata": {},
   "outputs": [],
   "source": []
  }
 ],
 "metadata": {
  "interpreter": {
   "hash": "97367d2de1780ea7c502b529f25888c1b53c0430a7611816b6c7cf19d8435228"
  },
  "kernelspec": {
   "display_name": "Python 3.10.5 64-bit (windows store)",
   "language": "python",
   "name": "python3"
  },
  "language_info": {
   "codemirror_mode": {
    "name": "ipython",
    "version": 3
   },
   "file_extension": ".py",
   "mimetype": "text/x-python",
   "name": "python",
   "nbconvert_exporter": "python",
   "pygments_lexer": "ipython3",
   "version": "3.10.5"
  },
  "orig_nbformat": 4
 },
 "nbformat": 4,
 "nbformat_minor": 2
}
