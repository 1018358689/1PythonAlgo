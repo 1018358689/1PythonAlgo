{
 "cells": [
  {
   "cell_type": "code",
   "execution_count": 1,
   "metadata": {},
   "outputs": [
    {
     "data": {
      "text/plain": [
       "['12', '90']"
      ]
     },
     "execution_count": 1,
     "metadata": {},
     "output_type": "execute_result"
    }
   ],
   "source": [
    "a = '12:90'\n",
    "a.split(':')"
   ]
  },
  {
   "cell_type": "code",
   "execution_count": 2,
   "metadata": {},
   "outputs": [],
   "source": [
    "class Solution:\n",
    "\n",
    "    def countTime(self, time: str) -> int:\n",
    "\n",
    "        def check(s):\n",
    "            hh, mm = s.split(':')\n",
    "            return 0 <= int(hh) < 24 and 0 <= int(mm) < 60\n",
    "\n",
    "        ans = 0\n",
    "\n",
    "        def dfs(i, s):\n",
    "            if i == 5:\n",
    "                if check(s):\n",
    "                    nonlocal ans\n",
    "                    ans += 1\n",
    "                return\n",
    "            if time[i] != '?':\n",
    "                dfs(i + 1, f'{s}{time[i]}')\n",
    "            else:\n",
    "                for j in range(10):\n",
    "                    dfs(i + 1, f'{s}{j}')\n",
    "\n",
    "        dfs(0, '')\n",
    "        return ans"
   ]
  },
  {
   "cell_type": "code",
   "execution_count": null,
   "metadata": {},
   "outputs": [],
   "source": [
    "class Solution:\n",
    "\n",
    "    def countTime(self, time: str) -> int:\n",
    "\n",
    "        def cnt(s, lim):  # 判断s是否lim范围内\n",
    "            ans = 0\n",
    "            for i in range(lim):\n",
    "                if all(x in ['?', y] for x, y in zip(s, f'{i:02d}')):\n",
    "                    ans += 1\n",
    "            return ans\n",
    "\n",
    "        return cnt(time[:2], 24) * cnt(time[3:], 60)\n"
   ]
  }
 ],
 "metadata": {
  "kernelspec": {
   "display_name": "Python 3",
   "language": "python",
   "name": "python3"
  },
  "language_info": {
   "codemirror_mode": {
    "name": "ipython",
    "version": 3
   },
   "file_extension": ".py",
   "mimetype": "text/x-python",
   "name": "python",
   "nbconvert_exporter": "python",
   "pygments_lexer": "ipython3",
   "version": "3.11.1"
  },
  "orig_nbformat": 4,
  "vscode": {
   "interpreter": {
    "hash": "ff4b1fca65a764b45acb559e482afe389d289dd599b9f8c5fd12ff5c2ea46a65"
   }
  }
 },
 "nbformat": 4,
 "nbformat_minor": 2
}
