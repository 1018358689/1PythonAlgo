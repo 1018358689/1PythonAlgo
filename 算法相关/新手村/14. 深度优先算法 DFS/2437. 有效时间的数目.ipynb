{
 "cells": [
  {
   "cell_type": "code",
   "execution_count": 1,
   "metadata": {},
   "outputs": [
    {
     "data": {
      "text/plain": [
       "['12', '90']"
      ]
     },
     "execution_count": 1,
     "metadata": {},
     "output_type": "execute_result"
    }
   ],
   "source": [
    "a = '12:90'\n",
    "a.split(':')"
   ]
  },
  {
   "cell_type": "code",
   "execution_count": null,
   "metadata": {},
   "outputs": [],
   "source": [
    "class Solution:\n",
    "\n",
    "    def countTime(self, time: str) -> int:\n",
    "\n",
    "        def check(time):\n",
    "            hh, mm = time.split(':')\n",
    "            return 0 <= int(hh) < 24 and 0 <= int(mm) < 60\n",
    "\n",
    "        ans = 0\n",
    "\n",
    "        def dfs(i, s):\n",
    "            if i == 5:\n",
    "                if check(s):\n",
    "                    nonlocal ans\n",
    "                    ans += 1\n",
    "                return\n",
    "            if time[i] != '?':\n",
    "                dfs(i + 1, f'{s}{time[i]}')\n",
    "            else:\n",
    "                for j in range(10):\n",
    "                    dfs(i + 1, f'{s}{j}')\n",
    "\n",
    "        dfs(0, '')\n",
    "        return ans"
   ]
  }
 ],
 "metadata": {
  "kernelspec": {
   "display_name": "Python 3.10.6 64-bit",
   "language": "python",
   "name": "python3"
  },
  "language_info": {
   "codemirror_mode": {
    "name": "ipython",
    "version": 3
   },
   "file_extension": ".py",
   "mimetype": "text/x-python",
   "name": "python",
   "nbconvert_exporter": "python",
   "pygments_lexer": "ipython3",
   "version": "3.10.6"
  },
  "orig_nbformat": 4,
  "vscode": {
   "interpreter": {
    "hash": "dfbf064e0f2c8839bc658dd75dfc0b8f09a0440078cae3024109b27659b69d06"
   }
  }
 },
 "nbformat": 4,
 "nbformat_minor": 2
}
