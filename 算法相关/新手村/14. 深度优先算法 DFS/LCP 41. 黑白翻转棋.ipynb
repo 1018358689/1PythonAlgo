{
 "cells": [
  {
   "cell_type": "code",
   "execution_count": null,
   "metadata": {},
   "outputs": [],
   "source": [
    "class Solution:\n",
    "\n",
    "    def flipChess(self, chessboard: List[str]) -> int:\n",
    "        m, n = len(chessboard), len(chessboard[0])\n",
    "        dirs = (-1, -1), (-1, 0), (-1, 1), (0, -1), (0, 1), (1, -1), (1, 0), (1, 1)\n",
    "\n",
    "        def dfs(i, j):\n",
    "            nonlocal vis\n",
    "            for di, dj in dirs:\n",
    "                canrev = set()\n",
    "                ni, nj = i + di, j + dj\n",
    "                while m > ni >= 0 <= nj < n and chessboard[ni][nj] == 'O' and (ni, nj) not in vis:  # 真正的白子\n",
    "                    canrev.add((ni, nj))\n",
    "                    ni += di\n",
    "                    nj += dj\n",
    "                if m > ni >= 0 <= nj < n and (chessboard[ni][nj] == 'X' or (ni, nj) in vis):  # 是否到达黑子\n",
    "                    vis |= canrev\n",
    "                    for ni, nj in canrev:\n",
    "                        dfs(ni, nj)\n",
    "\n",
    "        ans = 0\n",
    "        for i in range(m):\n",
    "            for j in range(n):\n",
    "                if chessboard[i][j] == '.':\n",
    "                    vis = {(i, j)}\n",
    "                    dfs(i, j)\n",
    "                    ans = max(ans, len(vis) - 1)\n",
    "        return ans"
   ]
  },
  {
   "cell_type": "code",
   "execution_count": null,
   "metadata": {},
   "outputs": [],
   "source": [
    "class Solution:\n",
    "\n",
    "    def flipChess(self, chessboard: List[str]) -> int:\n",
    "        m, n = len(chessboard), len(chessboard[0])\n",
    "        dirs = (-1, -1), (-1, 0), (-1, 1), (0, -1), (0, 1), (1, -1), (1, 0), (1, 1)\n",
    "\n",
    "        def dfs(i, j):\n",
    "            nonlocal vis\n",
    "            for di, dj in dirs:\n",
    "                canrev = set()\n",
    "                ni, nj = i + di, j + dj\n",
    "                while m > ni >= 0 <= nj < n and chessboard[ni][nj] != '.': # 不是空格就走\n",
    "                    if m > ni >= 0 <= nj < n and (chessboard[ni][nj] == 'X' or (ni, nj) in vis):\n",
    "                        # 发现走到黑子就达到目的 把走过全变黑 再递归\n",
    "                        vis |= canrev\n",
    "                        for ni, nj in canrev:\n",
    "                            dfs(ni, nj)\n",
    "                        break\n",
    "                    canrev.add((ni, nj))\n",
    "                    ni += di\n",
    "                    nj += dj\n",
    "\n",
    "        ans = 0\n",
    "        for i in range(m):\n",
    "            for j in range(n):\n",
    "                if chessboard[i][j] == '.':\n",
    "                    vis = {(i, j)}\n",
    "                    dfs(i, j)\n",
    "                    ans = max(ans, len(vis) - 1)\n",
    "        return ans"
   ]
  },
  {
   "cell_type": "code",
   "execution_count": 4,
   "metadata": {},
   "outputs": [
    {
     "data": {
      "text/plain": [
       "['a', 'b', 'c', 'd']"
      ]
     },
     "execution_count": 4,
     "metadata": {},
     "output_type": "execute_result"
    }
   ],
   "source": [
    "from collections import Counter\n",
    "a = 'aabcdc'\n",
    "list(Counter(a))"
   ]
  },
  {
   "cell_type": "code",
   "execution_count": null,
   "metadata": {},
   "outputs": [],
   "source": []
  }
 ],
 "metadata": {
  "kernelspec": {
   "display_name": "Python 3",
   "language": "python",
   "name": "python3"
  },
  "language_info": {
   "codemirror_mode": {
    "name": "ipython",
    "version": 3
   },
   "file_extension": ".py",
   "mimetype": "text/x-python",
   "name": "python",
   "nbconvert_exporter": "python",
   "pygments_lexer": "ipython3",
   "version": "3.10.5"
  },
  "orig_nbformat": 4
 },
 "nbformat": 4,
 "nbformat_minor": 2
}
