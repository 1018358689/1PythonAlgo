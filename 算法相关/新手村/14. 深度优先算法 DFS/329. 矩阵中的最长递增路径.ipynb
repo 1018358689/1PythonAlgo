{
 "cells": [
  {
   "cell_type": "code",
   "execution_count": 15,
   "metadata": {},
   "outputs": [
    {
     "data": {
      "text/plain": [
       "4"
      ]
     },
     "execution_count": 15,
     "metadata": {},
     "output_type": "execute_result"
    }
   ],
   "source": [
    "from typing import List\n",
    "# 超时一点点\n",
    "\n",
    "class Solution:\n",
    "\n",
    "    def longestIncreasingPath(self, matrix: List[List[int]]) -> int:\n",
    "        rows, cols = len(matrix), len(matrix[0])\n",
    "        mem = {}\n",
    "\n",
    "        def dfs(r, c, step):\n",
    "            nonlocal localStep\n",
    "            if (r, c) in mem:\n",
    "                localStep = max(localStep, step - 1 + mem[(r, c)])\n",
    "                return\n",
    "            localStep = max(localStep, step)\n",
    "            for nr, nc in ((r - 1, c), (r + 1, c), (r, c - 1), (r, c + 1)):\n",
    "                if 0 <= nr < rows and 0 <= nc < cols and matrix[nr][nc] > matrix[r][c]:\n",
    "                    dfs(nr, nc, step + 1)\n",
    "\n",
    "        ans = 1\n",
    "        for r in range(rows):\n",
    "            for c in range(cols):\n",
    "                localStep = 1\n",
    "                dfs(r, c, 1)\n",
    "                ans = max(ans, localStep)\n",
    "                mem[(r, c)] = localStep\n",
    "                # print(localStep)\n",
    "        return ans\n",
    "\n",
    "\n",
    "s = Solution()\n",
    "s.longestIncreasingPath([[9, 9, 4], [6, 6, 8], [2, 1, 1]])\n",
    "# s.longestIncreasingPath([[1]])"
   ]
  },
  {
   "cell_type": "code",
   "execution_count": 18,
   "metadata": {},
   "outputs": [],
   "source": [
    "from typing import List\n",
    "# 记录途径点的(子问题)最长递增距离 减少for内判断\n",
    "\n",
    "class Solution:\n",
    "\n",
    "    def longestIncreasingPath(self, matrix: List[List[int]]) -> int:\n",
    "        rows, cols = len(matrix), len(matrix[0])\n",
    "        mem = {}\n",
    "\n",
    "        def dfs(r, c):  # (r,c)开始的最长递增路径 子问题 四个方向的最长递增路径取最大\n",
    "            if (r, c) in mem:\n",
    "                return mem[(r, c)]\n",
    "            local = 1\n",
    "            for nr, nc in ((r - 1, c), (r + 1, c), (r, c - 1), (r, c + 1)):\n",
    "                if 0 <= nr < rows and 0 <= nc < cols and matrix[nr][nc] > matrix[r][c]:\n",
    "                    local = max(local, dfs(nr, nc) + 1)\n",
    "            mem[(r, c)] = local\n",
    "            return mem[(r, c)]\n",
    "\n",
    "        ans = 1\n",
    "        for r in range(rows):\n",
    "            for c in range(cols):\n",
    "                # (r,c)存在mem中则意味着是之前某个点的途径点 其距离肯定小于之前点 所以只统计新起点\n",
    "                if (r, c) not in mem: # 其实也无所谓 哪怕进入途经点也会立刻退出\n",
    "                    ans = max(ans, dfs(r, c))\n",
    "        return ans"
   ]
  },
  {
   "cell_type": "code",
   "execution_count": 19,
   "metadata": {},
   "outputs": [],
   "source": [
    "from typing import List\n",
    "# 记录途径点的(子问题)最长递增距离 减少for内判断\n",
    "from functools import lru_cache\n",
    "\n",
    "\n",
    "class Solution:\n",
    "\n",
    "    def longestIncreasingPath(self, matrix: List[List[int]]) -> int:\n",
    "        rows, cols = len(matrix), len(matrix[0])\n",
    "\n",
    "        @lru_cache(None)\n",
    "        def dfs(r, c):  # (r,c)开始的最长递增路径 子问题 四个方向的最长递增路径取最大\n",
    "            local = 1\n",
    "            for nr, nc in ((r - 1, c), (r + 1, c), (r, c - 1), (r, c + 1)):\n",
    "                if 0 <= nr < rows and 0 <= nc < cols and matrix[nr][nc] > matrix[r][c]:\n",
    "                    local = max(local, dfs(nr, nc) + 1)\n",
    "            return local\n",
    "\n",
    "        ans = 1\n",
    "        for r in range(rows):\n",
    "            for c in range(cols):\n",
    "                ans = max(ans, dfs(r, c))\n",
    "        return ans"
   ]
  },
  {
   "cell_type": "code",
   "execution_count": 20,
   "metadata": {},
   "outputs": [
    {
     "data": {
      "text/plain": [
       "4"
      ]
     },
     "execution_count": 20,
     "metadata": {},
     "output_type": "execute_result"
    }
   ],
   "source": [
    "from typing import List\n",
    "# 记录途径点的(子问题)最长递增距离 减少for内判断\n",
    "from functools import lru_cache\n",
    "\n",
    "\n",
    "class Solution:\n",
    "\n",
    "    def longestIncreasingPath(self, matrix: List[List[int]]) -> int:\n",
    "        # dp[r][c] (r,c)开始的最长递增路径 子问题 四个方向的最长递增路径取最大\n",
    "        # basecase dp[r][c]=1\n",
    "        rows, cols = len(matrix), len(matrix[0])\n",
    "        dp = [[1] * cols for _ in range(rows)]\n",
    "        costs = []\n",
    "        for r in range(rows):\n",
    "            for c in range(cols):\n",
    "                costs.append((matrix[r][c], r, c))\n",
    "        costs.sort(key=lambda x: x[0], reverse=True)\n",
    "        ans = 1\n",
    "        for _, r, c in costs:\n",
    "            for nr, nc in ((r - 1, c), (r + 1, c), (r, c - 1), (r, c + 1)):\n",
    "                if 0 <= nr < rows and 0 <= nc < cols and matrix[nr][nc] > matrix[r][c]:\n",
    "                    dp[r][c] = max(dp[r][c], dp[nr][nc] + 1)\n",
    "            ans = max(ans, dp[r][c])\n",
    "        return ans\n",
    "\n",
    "\n",
    "s = Solution()\n",
    "s.longestIncreasingPath([[9, 9, 4], [6, 6, 8], [2, 1, 1]])\n",
    "# s.longestIncreasingPath([[1]])"
   ]
  },
  {
   "cell_type": "code",
   "execution_count": null,
   "metadata": {},
   "outputs": [],
   "source": []
  }
 ],
 "metadata": {
  "interpreter": {
   "hash": "97367d2de1780ea7c502b529f25888c1b53c0430a7611816b6c7cf19d8435228"
  },
  "kernelspec": {
   "display_name": "Python 3.10.4 64-bit (windows store)",
   "language": "python",
   "name": "python3"
  },
  "language_info": {
   "codemirror_mode": {
    "name": "ipython",
    "version": 3
   },
   "file_extension": ".py",
   "mimetype": "text/x-python",
   "name": "python",
   "nbconvert_exporter": "python",
   "pygments_lexer": "ipython3",
   "version": "3.10.5"
  },
  "orig_nbformat": 4
 },
 "nbformat": 4,
 "nbformat_minor": 2
}
