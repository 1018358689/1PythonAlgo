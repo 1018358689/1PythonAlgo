{
 "cells": [
  {
   "cell_type": "code",
   "execution_count": null,
   "metadata": {},
   "outputs": [],
   "source": [
    "from functools import lru_cache\n",
    "\n",
    "\n",
    "class Solution:\n",
    "\n",
    "    def longestPalindromeSubseq(self, s: str) -> int:\n",
    "\n",
    "        @lru_cache(None)\n",
    "        def dfs(si, ei):  # [si,ei]的最长回文子序列长度\n",
    "            if si > ei:  # 如 'aa'\n",
    "                return 0\n",
    "            if si == ei:\n",
    "                return 1\n",
    "            if s[si] == s[ei]:\n",
    "                return 2 + dfs(si + 1, ei - 1)\n",
    "            else:\n",
    "                return max(dfs(si + 1, ei), dfs(si, ei - 1))\n",
    "\n",
    "        return dfs(0, len(s) - 1)\n"
   ]
  }
 ],
 "metadata": {
  "language_info": {
   "name": "python"
  },
  "orig_nbformat": 4
 },
 "nbformat": 4,
 "nbformat_minor": 2
}
