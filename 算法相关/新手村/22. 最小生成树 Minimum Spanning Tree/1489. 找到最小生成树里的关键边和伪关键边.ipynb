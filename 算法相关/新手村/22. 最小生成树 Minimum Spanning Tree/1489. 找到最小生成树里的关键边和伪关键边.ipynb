{
 "cells": [
  {
   "cell_type": "code",
   "execution_count": 10,
   "metadata": {},
   "outputs": [
    {
     "name": "stdout",
     "output_type": "stream",
     "text": [
      "10\n"
     ]
    },
    {
     "data": {
      "text/plain": [
       "[[3], [0, 1, 2, 4, 5, 6]]"
      ]
     },
     "execution_count": 10,
     "metadata": {},
     "output_type": "execute_result"
    }
   ],
   "source": [
    "from typing import List\n",
    "\n",
    "\n",
    "class UnionFind:\n",
    "\n",
    "    def __init__(self, n) -> None:\n",
    "        self.roots = list(range(n))\n",
    "        self.count = n\n",
    "\n",
    "    def find(self, x):\n",
    "        if self.roots[x] != x:\n",
    "            self.roots[x] = self.find(self.roots[x])\n",
    "        return self.roots[x]\n",
    "\n",
    "    def union(self, x, y):\n",
    "        rx, ry = self.find(x), self.find(y)\n",
    "        if rx == ry:\n",
    "            return True\n",
    "        self.roots[rx] = ry\n",
    "        self.count -= 1\n",
    "        return False\n",
    "\n",
    "    def get_count(self):\n",
    "        return self.count\n",
    "\n",
    "\n",
    "class Solution:\n",
    "\n",
    "    def findCriticalAndPseudoCriticalEdges(self, n: int, edges: List[List[int]]) -> List[List[int]]:\n",
    "\n",
    "        def kruskal(uf, edges, mst):\n",
    "            for x, y, cost, _ in edges:\n",
    "                if not uf.union(x, y):\n",
    "                    mst += cost\n",
    "            return mst if uf.get_count() == 1 else -1\n",
    "\n",
    "        # 1.排序edges 但不能失去原位置信息\n",
    "        uf = UnionFind(n)\n",
    "        edges = [[x, y, cost, i] for i, (x, y, cost) in enumerate(edges)]\n",
    "        edges.sort(key=lambda x: x[2])\n",
    "        # 2.最小生成树总消费\n",
    "        tot = kruskal(uf, edges, 0)\n",
    "        key, no_key = [], []\n",
    "        # 3.枚举每一条边 先连接那条边 获得mst 如果和原来tot不相等说明是无效边\n",
    "        for i, (x, y, cost, ori) in enumerate(edges):\n",
    "            uf = UnionFind(n)\n",
    "            uf.union(x, y)\n",
    "            tot1 = kruskal(uf, edges, cost)\n",
    "            # 4.有效边如果去掉后的mst和原来不等说明是关建边 否是伪关建边\n",
    "            if tot == tot1:\n",
    "                nedges = edges.copy()\n",
    "                nedges.pop(i)\n",
    "                uf = UnionFind(n)\n",
    "                tot2 = kruskal(uf, nedges, 0)\n",
    "                if tot2 != tot1:\n",
    "                    key.append(ori)\n",
    "                else:\n",
    "                    no_key.append(ori)\n",
    "        return [key, no_key]\n",
    "\n",
    "\n",
    "s = Solution()\n",
    "s.findCriticalAndPseudoCriticalEdges(6, [[0, 1, 1], [1, 2, 1], [0, 2, 1], [2, 3, 4], [3, 4, 2], [3, 5, 2], [4, 5, 2]])\n"
   ]
  },
  {
   "cell_type": "code",
   "execution_count": null,
   "metadata": {},
   "outputs": [],
   "source": []
  }
 ],
 "metadata": {
  "kernelspec": {
   "display_name": "Python 3",
   "language": "python",
   "name": "python3"
  },
  "language_info": {
   "codemirror_mode": {
    "name": "ipython",
    "version": 3
   },
   "file_extension": ".py",
   "mimetype": "text/x-python",
   "name": "python",
   "nbconvert_exporter": "python",
   "pygments_lexer": "ipython3",
   "version": "3.11.1 (tags/v3.11.1:a7a450f, Dec  6 2022, 19:58:39) [MSC v.1934 64 bit (AMD64)]"
  },
  "orig_nbformat": 4,
  "vscode": {
   "interpreter": {
    "hash": "ff4b1fca65a764b45acb559e482afe389d289dd599b9f8c5fd12ff5c2ea46a65"
   }
  }
 },
 "nbformat": 4,
 "nbformat_minor": 2
}
