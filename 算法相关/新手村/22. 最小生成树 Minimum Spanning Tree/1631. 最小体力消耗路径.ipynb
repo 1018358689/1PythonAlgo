{
 "cells": [
  {
   "cell_type": "code",
   "execution_count": 2,
   "metadata": {},
   "outputs": [
    {
     "data": {
      "text/plain": [
       "0"
      ]
     },
     "execution_count": 2,
     "metadata": {},
     "output_type": "execute_result"
    }
   ],
   "source": [
    "# dijkstra\n",
    "import heapq\n",
    "\n",
    "\n",
    "def f(heights: list):\n",
    "    rows, cols = len(heights), len(heights[0])\n",
    "    pq = [(0, 0, 0)]\n",
    "    costs = {(0, 0): 0}\n",
    "    best = set()\n",
    "    while pq:\n",
    "        cost, r, c = heapq.heappop(pq)\n",
    "        if (r, c) == (rows - 1, cols - 1):\n",
    "            return cost\n",
    "        best.add((r, c))\n",
    "        for nr, nc in ((r - 1, c), (r + 1, c), (r, c - 1), (r, c + 1)):\n",
    "            if 0 <= nr < rows and 0 <= nc < cols and (nr, nc) not in best:\n",
    "                ncost = max(cost, abs(heights[nr][nc] - heights[r][c]))\n",
    "                if (nr, nc) not in costs or ncost < costs[(nr, nc)]:\n",
    "                    costs[(nr, nc)] = ncost\n",
    "                    heapq.heappush(pq, (ncost, nr, nc))\n",
    "\n",
    "\n",
    "f([[1, 2, 1, 1, 1], [1, 2, 1, 2, 1], [1, 2, 1, 2, 1], [1, 2, 1, 2, 1], [1, 1, 1, 2, 1]])\n",
    "f([[2]])"
   ]
  },
  {
   "cell_type": "code",
   "execution_count": 9,
   "metadata": {},
   "outputs": [
    {
     "data": {
      "text/plain": [
       "0"
      ]
     },
     "execution_count": 9,
     "metadata": {},
     "output_type": "execute_result"
    }
   ],
   "source": [
    "# kruskal\n",
    "def f(heights: list):\n",
    "    rows, cols = len(heights), len(heights[0])\n",
    "    if rows == cols == 1:\n",
    "        return 0\n",
    "    count = rows * cols\n",
    "    roots = list(range(count))\n",
    "    rank = [1] * count\n",
    "\n",
    "    def find(x):\n",
    "        if roots[x] != x:\n",
    "            roots[x] = find(roots[x])\n",
    "        return roots[x]\n",
    "\n",
    "    def union(x, y):\n",
    "        rx, ry = find(x), find(y)\n",
    "        if rx != ry:\n",
    "            if rank[rx] < rank[ry]:\n",
    "                roots[rx] = ry\n",
    "            elif rank[ry] < rank[rx]:\n",
    "                roots[ry] = rx\n",
    "            else:\n",
    "                roots[rx] = ry\n",
    "                rank[ry] += 1\n",
    "\n",
    "    costs = []\n",
    "    for r in range(rows):\n",
    "        for c in range(cols):\n",
    "            for nr, nc in ((r + 1, c), (r, c + 1)):\n",
    "                if 0 <= nr < rows and 0 <= nc < cols:\n",
    "                    cost = abs(heights[nr][nc] - heights[r][c])\n",
    "                    costs.append((cost, r * cols + c, nr * cols + nc))\n",
    "    costs.sort(key=lambda x: x[0])\n",
    "    for cost, x, y in costs:\n",
    "        union(x, y)\n",
    "        if find(0) == find(rows * cols - 1):\n",
    "            return cost\n",
    "\n",
    "\n",
    "f([[1, 2, 1, 1, 1], [1, 2, 1, 2, 1], [1, 2, 1, 2, 1], [1, 2, 1, 2, 1], [1, 1, 1, 2, 1]])\n",
    "f([[2]])\n",
    "# f([[1,10,6,7,9,10,4,9]])"
   ]
  },
  {
   "cell_type": "code",
   "execution_count": null,
   "metadata": {},
   "outputs": [],
   "source": []
  }
 ],
 "metadata": {
  "interpreter": {
   "hash": "aee8b7b246df8f9039afb4144a1f6fd8d2ca17a180786b69acc140d282b71a49"
  },
  "kernelspec": {
   "display_name": "Python 3.10.1 64-bit",
   "language": "python",
   "name": "python3"
  },
  "language_info": {
   "codemirror_mode": {
    "name": "ipython",
    "version": 3
   },
   "file_extension": ".py",
   "mimetype": "text/x-python",
   "name": "python",
   "nbconvert_exporter": "python",
   "pygments_lexer": "ipython3",
   "version": "3.10.1"
  },
  "orig_nbformat": 4
 },
 "nbformat": 4,
 "nbformat_minor": 2
}
