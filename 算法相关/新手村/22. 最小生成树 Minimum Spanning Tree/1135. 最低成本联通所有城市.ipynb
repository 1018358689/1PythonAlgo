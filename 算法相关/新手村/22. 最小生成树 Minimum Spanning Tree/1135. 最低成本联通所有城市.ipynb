{
 "cells": [
  {
   "cell_type": "code",
   "execution_count": null,
   "metadata": {},
   "outputs": [],
   "source": [
    "class Solution:\n",
    "    def minimumCost(self, n: int, connections: List[List[int]]) -> int:\n",
    "        roots = list(range(n))\n",
    "        count = n\n",
    "        def find(x):\n",
    "            if roots[x] != x:\n",
    "                roots[x] = find(roots[x])\n",
    "            return roots[x]\n",
    "        def union(x, y):\n",
    "            rx, ry = find(x), find(y)\n",
    "            if rx != ry:\n",
    "                roots[rx] = ry\n",
    "                nonlocal count\n",
    "                count -= 1\n",
    "                return True\n",
    "            return False\n",
    "        mst = 0\n",
    "        for x, y, c in sorted(connections, key = lambda x:x[2]):\n",
    "            if union(x - 1, y - 1):\n",
    "                mst += c\n",
    "        return mst if count == 1 else -1"
   ]
  },
  {
   "cell_type": "code",
   "execution_count": null,
   "metadata": {},
   "outputs": [],
   "source": [
    "class Solution:\n",
    "\n",
    "    def minimumCost(self, n: int, connections: List[List[int]]) -> int:\n",
    "        adj = defaultdict(lambda: defaultdict(lambda: inf))\n",
    "        for x, y, c in connections:\n",
    "            adj[x - 1][y - 1] = min(c, adj[x - 1][y - 1])\n",
    "            adj[y - 1][x - 1] = min(c, adj[y - 1][x - 1])\n",
    "        mst = 0\n",
    "        in_mst = {0}\n",
    "        cnt = 1\n",
    "        pq = []\n",
    "\n",
    "        def cut(x):\n",
    "            for y, c in adj[x].items():\n",
    "                # if y not in in_mst:\n",
    "                heappush(pq, (c, y))\n",
    "\n",
    "        cut(0)\n",
    "        while pq:\n",
    "            cost, x = heappop(pq)\n",
    "            if x in in_mst: continue\n",
    "            mst += cost\n",
    "            in_mst.add(x)\n",
    "            cnt += 1\n",
    "            cut(x)\n",
    "        return mst if cnt == n else -1"
   ]
  },
  {
   "cell_type": "code",
   "execution_count": null,
   "metadata": {},
   "outputs": [],
   "source": [
    "class Solution:\n",
    "\n",
    "    def minimumCost(self, n: int, connections: List[List[int]]) -> int:\n",
    "        adj = defaultdict(lambda: defaultdict(lambda: inf))\n",
    "        for x, y, c in connections:\n",
    "            adj[x - 1][y - 1] = min(c, adj[x - 1][y - 1])\n",
    "            adj[y - 1][x - 1] = min(c, adj[y - 1][x - 1])\n",
    "        mst = 0\n",
    "        in_mst = set()\n",
    "        cnt = 0\n",
    "        pq = [(0, 0)]\n",
    "\n",
    "        def cut(x):\n",
    "            for y, c in adj[x].items():\n",
    "                # if y not in in_mst:\n",
    "                heappush(pq, (c, y))\n",
    "\n",
    "        while pq:\n",
    "            cost, x = heappop(pq)\n",
    "            if x in in_mst: continue\n",
    "            mst += cost\n",
    "            in_mst.add(x)\n",
    "            cnt += 1\n",
    "            cut(x)\n",
    "        return mst if cnt == n else -1"
   ]
  }
 ],
 "metadata": {
  "kernelspec": {
   "display_name": "Python 3",
   "language": "python",
   "name": "python3"
  },
  "language_info": {
   "name": "python",
   "version": "3.11.1"
  },
  "orig_nbformat": 4,
  "vscode": {
   "interpreter": {
    "hash": "ff4b1fca65a764b45acb559e482afe389d289dd599b9f8c5fd12ff5c2ea46a65"
   }
  }
 },
 "nbformat": 4,
 "nbformat_minor": 2
}
