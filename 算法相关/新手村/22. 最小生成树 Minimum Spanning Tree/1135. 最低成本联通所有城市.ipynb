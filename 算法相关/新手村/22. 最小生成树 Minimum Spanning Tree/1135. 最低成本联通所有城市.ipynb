{
 "cells": [
  {
   "cell_type": "code",
   "execution_count": null,
   "metadata": {},
   "outputs": [],
   "source": [
    "from typing import List\n",
    "\n",
    "\n",
    "class Solution:\n",
    "\n",
    "    def minimumCost(self, n: int, connections: List[List[int]]) -> int:\n",
    "        roots = list(range(n))\n",
    "        count = n\n",
    "\n",
    "        def find(x):\n",
    "            if roots[x] != x:\n",
    "                roots[x] = find(roots[x])\n",
    "            return roots[x]\n",
    "\n",
    "        def union(x, y):\n",
    "            rx, ry = find(x), find(y)\n",
    "            if rx != ry:\n",
    "                roots[rx] = ry\n",
    "                nonlocal count\n",
    "                count -= 1\n",
    "\n",
    "        def connected(x, y):\n",
    "            return find(x) == find(y)\n",
    "\n",
    "        connections.sort(key=lambda x: x[2])\n",
    "        ans = 0\n",
    "        for x, y, c in connections:\n",
    "            if connected(x - 1, y - 1):\n",
    "                continue\n",
    "            union(x - 1, y - 1)\n",
    "            ans += c\n",
    "            if count == 1:\n",
    "                return ans\n",
    "        return -1"
   ]
  },
  {
   "cell_type": "code",
   "execution_count": null,
   "metadata": {},
   "outputs": [],
   "source": [
    "from typing import List\n",
    "\n",
    "\n",
    "class Solution:\n",
    "\n",
    "    def minimumCost(self, n: int, connections: List[List[int]]) -> int:\n",
    "        roots = list(range(n))\n",
    "        count = n\n",
    "\n",
    "        def find(x):\n",
    "            if roots[x] != x:\n",
    "                roots[x] = find(roots[x])\n",
    "            return roots[x]\n",
    "\n",
    "        def union(x, y):\n",
    "            rx, ry = find(x), find(y)\n",
    "            if rx == ry:\n",
    "                return True\n",
    "            roots[rx] = ry\n",
    "            nonlocal count\n",
    "            count -= 1\n",
    "            return False\n",
    "\n",
    "        connections.sort(key=lambda x: x[2])\n",
    "        ans = 0\n",
    "        for x, y, c in connections:\n",
    "            if not union(x - 1, y - 1):\n",
    "                ans += c\n",
    "                if count == 1:\n",
    "                    return ans\n",
    "        return -1"
   ]
  }
 ],
 "metadata": {
  "kernelspec": {
   "display_name": "Python 3",
   "language": "python",
   "name": "python3"
  },
  "language_info": {
   "name": "python",
   "version": "3.11.1 (tags/v3.11.1:a7a450f, Dec  6 2022, 19:58:39) [MSC v.1934 64 bit (AMD64)]"
  },
  "orig_nbformat": 4,
  "vscode": {
   "interpreter": {
    "hash": "ff4b1fca65a764b45acb559e482afe389d289dd599b9f8c5fd12ff5c2ea46a65"
   }
  }
 },
 "nbformat": 4,
 "nbformat_minor": 2
}
