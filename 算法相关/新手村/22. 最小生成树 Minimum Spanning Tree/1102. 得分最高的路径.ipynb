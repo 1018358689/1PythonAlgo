{
 "cells": [
  {
   "cell_type": "code",
   "execution_count": 1,
   "metadata": {},
   "outputs": [],
   "source": [
    "from collections import defaultdict\n",
    "import heapq\n",
    "from math import inf\n",
    "from typing import List\n",
    "\n",
    "\n",
    "class Solution:\n",
    "\n",
    "    def maximumMinimumPath(self, grid: List[List[int]]) -> int:\n",
    "        rows, cols = len(grid), len(grid[0])\n",
    "        costs = defaultdict(lambda: inf)\n",
    "        costs[(0, 0)] = -grid[0][0]\n",
    "        best = set()\n",
    "        pq = [(-grid[0][0], 0, 0)]\n",
    "        while pq:\n",
    "            x, r, c = heapq.heappop(pq)\n",
    "            if (r, c) == (rows - 1, cols - 1):\n",
    "                return -x\n",
    "            best.add((r, c))\n",
    "            for nr, nc in (r + 1, c), (r - 1, c), (r, c + 1), (r, c - 1):\n",
    "                if rows > nr >= 0 <= nc < cols and (nr, nc) not in best:\n",
    "                    y = min(-x, grid[nr][nc])  # 到达(nr,nc)分数会取路径最小值\n",
    "                    if y > -costs[(nr, nc)]:  # 使得到(nr,nc)分数变大了就入堆\n",
    "                        costs[(nr, nc)] = -y\n",
    "                        heapq.heappush(pq, (-y, nr, nc))"
   ]
  },
  {
   "cell_type": "code",
   "execution_count": null,
   "metadata": {},
   "outputs": [],
   "source": [
    "class Solution:\n",
    "\n",
    "    def maximumMinimumPath(self, grid: List[List[int]]) -> int:\n",
    "        rows, cols = len(grid), len(grid[0])\n",
    "        n = rows * cols\n",
    "        roots = list(range(n))\n",
    "        rank = [1] * n  # 树高\n",
    "\n",
    "        def find(x):\n",
    "            if roots[x] != x:\n",
    "                roots[x] = find(roots[x])\n",
    "            return roots[x]\n",
    "\n",
    "        def union(x, y):\n",
    "            rx, ry = find(x), find(y)\n",
    "            if rx == ry:\n",
    "                return True\n",
    "            if rank[rx] < rank[ry]:\n",
    "                roots[rx] = ry\n",
    "            elif rank[ry] < rank[rx]:\n",
    "                roots[ry] = rx\n",
    "            else:\n",
    "                roots[rx] = ry\n",
    "                rank[ry] += 1\n",
    "            return False\n",
    "\n",
    "        edges = []\n",
    "        for r in range(rows):\n",
    "            for c in range(cols):\n",
    "                for nr, nc in (r + 1, c), (r, c + 1):\n",
    "                    if rows > nr >= 0 <= nc < cols:\n",
    "                        edges.append((min(grid[r][c], grid[nr][nc]), r * cols + c, nr * cols + nc))\n",
    "        for cost, x, y in sorted(edges, key=lambda x: -x[0]):  # 从大到小枚举\n",
    "            if not union(x, y):  # 已经联通就没必要union了 想union不影响结果\n",
    "                if find(0) == find(n - 1):\n",
    "                    return cost"
   ]
  }
 ],
 "metadata": {
  "kernelspec": {
   "display_name": "Python 3",
   "language": "python",
   "name": "python3"
  },
  "language_info": {
   "codemirror_mode": {
    "name": "ipython",
    "version": 3
   },
   "file_extension": ".py",
   "mimetype": "text/x-python",
   "name": "python",
   "nbconvert_exporter": "python",
   "pygments_lexer": "ipython3",
   "version": "3.11.1"
  },
  "orig_nbformat": 4,
  "vscode": {
   "interpreter": {
    "hash": "aee8b7b246df8f9039afb4144a1f6fd8d2ca17a180786b69acc140d282b71a49"
   }
  }
 },
 "nbformat": 4,
 "nbformat_minor": 2
}
