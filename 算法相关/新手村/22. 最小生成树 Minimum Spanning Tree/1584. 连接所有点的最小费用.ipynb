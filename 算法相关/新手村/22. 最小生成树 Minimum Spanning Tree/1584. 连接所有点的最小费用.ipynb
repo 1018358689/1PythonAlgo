{
 "cells": [
  {
   "cell_type": "code",
   "execution_count": 1,
   "metadata": {},
   "outputs": [],
   "source": [
    "class Solution:\n",
    "    def minCostConnectPoints(self, points: List[List[int]]) -> int:\n",
    "        n = len(points)\n",
    "        costs = []\n",
    "        for i, j in combinations(range(n), 2):\n",
    "            costs.append((i, j, abs(points[i][0] - points[j][0]) + abs(points[i][1] - points[j][1])))\n",
    "        roots = list(range(n))\n",
    "        def find(x):\n",
    "            if roots[x] != x:\n",
    "                roots[x] = find(roots[x])\n",
    "            return roots[x]\n",
    "        def union(x, y):\n",
    "            rx, ry = find(x), find(y)\n",
    "            if rx == ry: return False # 无需union\n",
    "            roots[rx] = ry\n",
    "            return True\n",
    "        mst = 0\n",
    "        for x, y ,c in sorted(costs, key = lambda x: x[2]):\n",
    "            if union(x, y):\n",
    "                mst += c\n",
    "        return mst"
   ]
  },
  {
   "cell_type": "code",
   "execution_count": null,
   "metadata": {},
   "outputs": [],
   "source": [
    "class Solution:\n",
    "    def minCostConnectPoints(self, points: List[List[int]]) -> int:\n",
    "        n = len(points)\n",
    "        mst = 0\n",
    "        in_mst = [0] * n\n",
    "        pq = [(0, 0)]\n",
    "        def cut(x):\n",
    "            for y in range(n):\n",
    "                # if x == y: continue\n",
    "                if in_mst[y]: continue\n",
    "                c = abs(points[x][0] - points[y][0]) + abs(points[x][1] - points[y][1])\n",
    "                heappush(pq, (c, y))\n",
    "        while pq and not all(in_mst):\n",
    "            c, x = heappop(pq)\n",
    "            if in_mst[x]: continue\n",
    "            mst += c\n",
    "            in_mst[x] = 1\n",
    "            cut(x)\n",
    "        return mst"
   ]
  },
  {
   "cell_type": "code",
   "execution_count": null,
   "metadata": {},
   "outputs": [],
   "source": [
    "class Solution:\n",
    "    def minCostConnectPoints(self, points: List[List[int]]) -> int:\n",
    "        n = len(points)\n",
    "        mst = 0\n",
    "        in_mst = [0] * n\n",
    "        pq = [(0, 0)]\n",
    "        cnt = 0\n",
    "        def cut(x):\n",
    "            for y in range(n):\n",
    "                # if x == y: continue\n",
    "                if in_mst[y]: continue\n",
    "                c = abs(points[x][0] - points[y][0]) + abs(points[x][1] - points[y][1])\n",
    "                heappush(pq, (c, y))\n",
    "        while pq and cnt != n:\n",
    "            c, x = heappop(pq)\n",
    "            if in_mst[x]: continue\n",
    "            mst += c\n",
    "            in_mst[x] = 1\n",
    "            cnt += 1\n",
    "            cut(x)\n",
    "        return mst"
   ]
  }
 ],
 "metadata": {
  "kernelspec": {
   "display_name": "Python 3",
   "language": "python",
   "name": "python3"
  },
  "language_info": {
   "codemirror_mode": {
    "name": "ipython",
    "version": 3
   },
   "file_extension": ".py",
   "mimetype": "text/x-python",
   "name": "python",
   "nbconvert_exporter": "python",
   "pygments_lexer": "ipython3",
   "version": "3.11.1"
  },
  "orig_nbformat": 4,
  "vscode": {
   "interpreter": {
    "hash": "ff4b1fca65a764b45acb559e482afe389d289dd599b9f8c5fd12ff5c2ea46a65"
   }
  }
 },
 "nbformat": 4,
 "nbformat_minor": 2
}
