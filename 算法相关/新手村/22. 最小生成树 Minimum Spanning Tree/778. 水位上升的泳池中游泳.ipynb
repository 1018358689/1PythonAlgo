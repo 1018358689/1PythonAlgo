{
 "cells": [
  {
   "cell_type": "code",
   "execution_count": 5,
   "metadata": {},
   "outputs": [
    {
     "data": {
      "text/plain": [
       "16"
      ]
     },
     "execution_count": 5,
     "metadata": {},
     "output_type": "execute_result"
    }
   ],
   "source": [
    "# dijkstra\n",
    "import heapq\n",
    "\n",
    "\n",
    "def f(grid: list):\n",
    "    rows, cols = len(grid), len(grid[0])\n",
    "    pq = [(grid[0][0], 0, 0)]\n",
    "    costs = {(0, 0): grid[0][0]}\n",
    "    best = set()\n",
    "    while pq:\n",
    "        cost, r, c = heapq.heappop(pq)\n",
    "        if (r, c) == (rows - 1, cols - 1):\n",
    "            return cost\n",
    "        best.add((r, c))\n",
    "        for nr, nc in ((r - 1, c), (r + 1, c), (r, c - 1), (r, c + 1)):\n",
    "            if 0 <= nr < rows and 0 <= nc < cols and (nr, nc) not in best:\n",
    "                ncost = max(cost, grid[nr][nc])\n",
    "                if (nr, nc) not in costs or ncost < costs[(nr, nc)]:\n",
    "                    costs[(nr, nc)] = ncost\n",
    "                    heapq.heappush(pq, (ncost, nr, nc))\n",
    "\n",
    "\n",
    "f([[0, 1, 2, 3, 4], [24, 23, 22, 21, 5], [12, 13, 14, 15, 16], [11, 17, 18, 19, 20], [10, 9, 8, 7, 6]])\n"
   ]
  },
  {
   "cell_type": "code",
   "execution_count": 1,
   "metadata": {},
   "outputs": [
    {
     "data": {
      "text/plain": [
       "16"
      ]
     },
     "execution_count": 1,
     "metadata": {},
     "output_type": "execute_result"
    }
   ],
   "source": [
    "# kruskal mst\n",
    "def f(grid: list):\n",
    "    if len(grid) == 1:\n",
    "        return 0\n",
    "    rows, cols = len(grid), len(grid[0])\n",
    "    count = rows * cols\n",
    "    roots = list(range(count))\n",
    "    rank = [1] * count\n",
    "\n",
    "    def find(x):\n",
    "        if roots[x] != x:\n",
    "            roots[x] = find(roots[x])\n",
    "        return roots[x]\n",
    "\n",
    "    def union(x, y):\n",
    "        rx, ry = find(x), find(y)\n",
    "        if rx != ry:\n",
    "            if rank[rx] < rank[ry]:\n",
    "                roots[rx] = ry\n",
    "            elif rank[ry] < rank[rx]:\n",
    "                roots[ry] = rx\n",
    "            else:\n",
    "                roots[rx] = ry\n",
    "                rank[ry] += 1\n",
    "\n",
    "    costs = []\n",
    "    for r in range(rows):\n",
    "        for c in range(cols):\n",
    "            for nr, nc in ((r + 1, c), (r, c + 1)):\n",
    "                if 0 <= nr < rows and 0 <= nc < cols:\n",
    "                    cost = max(grid[r][c], grid[nr][nc])\n",
    "                    costs.append((cost, r * cols + c, nr * cols + nc))\n",
    "    costs.sort()\n",
    "    for c, x, y in costs:\n",
    "        union(x, y)\n",
    "        if find(0) == find(rows * cols - 1):\n",
    "            return c\n",
    "\n",
    "\n",
    "f([[0, 1, 2, 3, 4], [24, 23, 22, 21, 5], [12, 13, 14, 15, 16], [11, 17, 18, 19, 20], [10, 9, 8, 7, 6]])\n"
   ]
  },
  {
   "cell_type": "code",
   "execution_count": null,
   "metadata": {},
   "outputs": [],
   "source": []
  }
 ],
 "metadata": {
  "kernelspec": {
   "display_name": "Python 3.10.6 64-bit",
   "language": "python",
   "name": "python3"
  },
  "language_info": {
   "codemirror_mode": {
    "name": "ipython",
    "version": 3
   },
   "file_extension": ".py",
   "mimetype": "text/x-python",
   "name": "python",
   "nbconvert_exporter": "python",
   "pygments_lexer": "ipython3",
   "version": "3.10.6"
  },
  "orig_nbformat": 4,
  "vscode": {
   "interpreter": {
    "hash": "916dbcbb3f70747c44a77c7bcd40155683ae19c65e1c03b4aa3499c5328201f1"
   }
  }
 },
 "nbformat": 4,
 "nbformat_minor": 2
}
