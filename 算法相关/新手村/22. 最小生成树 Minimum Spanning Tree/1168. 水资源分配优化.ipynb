{
 "cells": [
  {
   "cell_type": "code",
   "execution_count": null,
   "metadata": {},
   "outputs": [],
   "source": [
    "class Solution:\n",
    "\n",
    "    def minCostToSupplyWater(self, n: int, wells: List[int], pipes: List[List[int]]) -> int:\n",
    "        # 创建一个超级水源 所有水都从那边来 自建水井就是从超级水源直接拉管子\n",
    "        adj = [[] for _ in range(n + 1)]\n",
    "        for i in range(n):\n",
    "            adj[i].append((n, wells[i]))\n",
    "            adj[n].append((i, wells[i]))\n",
    "        for x, y, c in pipes:\n",
    "            adj[x - 1].append((y - 1, c))\n",
    "            adj[y - 1].append((x - 1, c))\n",
    "        mst = 0\n",
    "        in_mst = [0] * (n + 1)\n",
    "        pq = [(0, 0)]\n",
    "\n",
    "        def cut(x):\n",
    "            for y, c in adj[x]:\n",
    "                if in_mst[y]: continue\n",
    "                heappush(pq, (c, y))\n",
    "\n",
    "        while pq:\n",
    "            c, x = heappop(pq)\n",
    "            if in_mst[x]: continue\n",
    "            mst += c\n",
    "            in_mst[x] = 1\n",
    "            cut(x)\n",
    "        return mst"
   ]
  },
  {
   "cell_type": "code",
   "execution_count": null,
   "metadata": {},
   "outputs": [],
   "source": [
    "class Solution:\n",
    "\n",
    "    def minCostToSupplyWater(self, n: int, wells: List[int], pipes: List[List[int]]) -> int:\n",
    "        # 创建一个超级水源 所有水都从那边来 自建水井就是从超级水源直接拉管子\n",
    "        costs = []\n",
    "        for i in range(n):\n",
    "            costs.append((i, n, wells[i]))\n",
    "        for x, y, c in pipes:\n",
    "            costs.append((x - 1, y - 1, c))\n",
    "        roots = list(range(n + 1))\n",
    "\n",
    "        def find(x):\n",
    "            if roots[x] != x:\n",
    "                roots[x] = find(roots[x])\n",
    "            return roots[x]\n",
    "\n",
    "        def union(x, y):\n",
    "            rx, ry = find(x), find(y)\n",
    "            if rx == ry: return False\n",
    "            roots[rx] = ry\n",
    "            return True\n",
    "\n",
    "        mst = 0\n",
    "        for x, y, c in sorted(costs, key=lambda x: x[2]):\n",
    "            if union(x, y):\n",
    "                mst += c\n",
    "        return mst"
   ]
  }
 ],
 "metadata": {
  "language_info": {
   "name": "python"
  },
  "orig_nbformat": 4
 },
 "nbformat": 4,
 "nbformat_minor": 2
}
