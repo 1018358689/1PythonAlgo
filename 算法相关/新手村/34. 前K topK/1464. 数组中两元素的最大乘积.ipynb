{
 "cells": [
  {
   "cell_type": "code",
   "execution_count": 1,
   "metadata": {},
   "outputs": [],
   "source": [
    "from typing import List\n",
    "from random import randint\n",
    "\n",
    "\n",
    "class Solution:\n",
    "\n",
    "    def maxProduct(self, nums: List[int]) -> int:\n",
    "\n",
    "        def swap(i, j):\n",
    "            nums[i], nums[j] = nums[j], nums[i]\n",
    "\n",
    "        def gp(si, ei):\n",
    "            p = randint(si, ei)\n",
    "            swap(si, p)\n",
    "            mark = si\n",
    "            pivot = nums[si]\n",
    "            for i in range(si + 1, ei + 1):\n",
    "                if nums[i] < pivot:\n",
    "                    mark += 1\n",
    "                    swap(mark, i)\n",
    "            swap(mark, si)\n",
    "            return mark\n",
    "\n",
    "        target = len(nums) - 2\n",
    "\n",
    "        def dc(si, ei):\n",
    "            p = gp(si, ei)\n",
    "            if p < target:\n",
    "                return dc(p + 1, ei)\n",
    "            elif p > target:\n",
    "                return dc(si, p - 1)\n",
    "            else:\n",
    "                return p\n",
    "\n",
    "        idx = dc(0, len(nums) - 1)\n",
    "        return (nums[idx] - 1) * (nums[idx + 1] - 1)\n"
   ]
  },
  {
   "cell_type": "code",
   "execution_count": 2,
   "metadata": {},
   "outputs": [
    {
     "data": {
      "text/plain": [
       "[5, 4]"
      ]
     },
     "execution_count": 2,
     "metadata": {},
     "output_type": "execute_result"
    }
   ],
   "source": [
    "# 前k小去掉这里面的所有负号\n",
    "from bisect import bisect_left\n",
    "\n",
    "\n",
    "def find_k_max(arr: List[int], k: int) -> List[int]:\n",
    "    ans = []\n",
    "    for num in arr:\n",
    "        idx = bisect_left(ans, -num)\n",
    "        if idx < k:\n",
    "            if idx == len(ans):\n",
    "                ans.append(-num)\n",
    "            else:\n",
    "                ans = ans[:idx] + [-num] + ans[idx:]\n",
    "                if len(ans) > k:\n",
    "                    ans.pop()\n",
    "    return [-num for num in ans]\n",
    "\n",
    "\n",
    "class Solution:\n",
    "\n",
    "    def maxProduct(self, nums: List[int]) -> int:\n",
    "        return (ans[-1] - 1) * (ans[-2] - 1) if (ans := find_k_max(nums, 2)) else 0\n",
    "\n",
    "\n",
    "find_k_max([3, 4, 5, 2], 2)\n"
   ]
  },
  {
   "cell_type": "code",
   "execution_count": null,
   "metadata": {},
   "outputs": [],
   "source": []
  }
 ],
 "metadata": {
  "kernelspec": {
   "display_name": "Python 3.10.5 64-bit",
   "language": "python",
   "name": "python3"
  },
  "language_info": {
   "codemirror_mode": {
    "name": "ipython",
    "version": 3
   },
   "file_extension": ".py",
   "mimetype": "text/x-python",
   "name": "python",
   "nbconvert_exporter": "python",
   "pygments_lexer": "ipython3",
   "version": "3.10.5"
  },
  "orig_nbformat": 4,
  "vscode": {
   "interpreter": {
    "hash": "3196968d684371006099b3d55edeef8ed90365227a30deaef86e5d4aa8519be0"
   }
  }
 },
 "nbformat": 4,
 "nbformat_minor": 2
}
