{
 "cells": [
  {
   "cell_type": "code",
   "execution_count": null,
   "metadata": {},
   "outputs": [],
   "source": [
    "from typing import List\n",
    "\n",
    "\n",
    "# 按位于只会越来越小。按位或会越来越大\n",
    "# 手玩一下会发现越来越小 会一块一块\n",
    "class Solution:\n",
    "\n",
    "    def closestToTarget(self, arr: List[int], target: int) -> int:\n",
    "        n = len(arr)\n",
    "        ands = set()\n",
    "        ans = set()\n",
    "        for i in range(n - 1, -1, -1):\n",
    "            num = arr[i]\n",
    "            ands = {p & num for p in ands} | {num}\n",
    "            ans |= ands\n",
    "        return min(abs(p - target) for p in ans)\n"
   ]
  }
 ],
 "metadata": {
  "language_info": {
   "name": "python"
  },
  "orig_nbformat": 4
 },
 "nbformat": 4,
 "nbformat_minor": 2
}
