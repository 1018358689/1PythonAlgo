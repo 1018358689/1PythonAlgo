{
 "cells": [
  {
   "cell_type": "code",
   "execution_count": null,
   "metadata": {},
   "outputs": [],
   "source": [
    "class Solution:\n",
    "\n",
    "    def permute(self, nums: List[int]) -> List[List[int]]:\n",
    "        n = len(nums)\n",
    "        ans = []\n",
    "\n",
    "        def dfs():\n",
    "            nonlocal vis\n",
    "            # 入x\n",
    "            if vis == u:\n",
    "                ans.append(path[:])\n",
    "                return\n",
    "            for j in range(n):  # vis是入y前的vis状态\n",
    "                if vis >> j & 1 == 0:  # 判断入y\n",
    "                    # 入y\n",
    "                    vis |= 1 << j\n",
    "                    path.append(nums[j])\n",
    "                    dfs()\n",
    "                    # 离y  y->x\n",
    "                    vis ^= 1 << j\n",
    "                    path.pop()\n",
    "\n",
    "        path = []\n",
    "        vis = 0\n",
    "        u = (1 << n) - 1\n",
    "        dfs()\n",
    "        return ans"
   ]
  },
  {
   "cell_type": "code",
   "execution_count": null,
   "metadata": {},
   "outputs": [],
   "source": [
    "class Solution:\n",
    "\n",
    "    def permute(self, nums: List[int]) -> List[List[int]]:\n",
    "        n = len(nums)\n",
    "        ans = []\n",
    "\n",
    "        def dfs(i):\n",
    "            # 入x\n",
    "            nonlocal vis\n",
    "            if vis >> i & 1:\n",
    "                # 离x 未入直接离 不需要还原现场\n",
    "                return\n",
    "            vis |= 1 << i\n",
    "            path.append(nums[i])\n",
    "            if vis == u:\n",
    "                # 离x\n",
    "                ans.append(path[:])\n",
    "                vis ^= 1 << i\n",
    "                path.pop()\n",
    "                return\n",
    "            for j in range(n):\n",
    "                dfs(j)\n",
    "            # 离x\n",
    "            vis ^= 1 << i\n",
    "            path.pop()\n",
    "            return\n",
    "\n",
    "        path = []\n",
    "        vis = 0\n",
    "        u = (1 << n) - 1\n",
    "        for i in range(n):\n",
    "            dfs(i)\n",
    "        return ans"
   ]
  }
 ],
 "metadata": {
  "language_info": {
   "name": "python"
  },
  "orig_nbformat": 4
 },
 "nbformat": 4,
 "nbformat_minor": 2
}
