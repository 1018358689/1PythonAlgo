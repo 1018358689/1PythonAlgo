{
 "cells": [
  {
   "cell_type": "code",
   "execution_count": null,
   "metadata": {},
   "outputs": [],
   "source": [
    "class Solution:\n",
    "    def subsets(self, nums: List[int]) -> List[List[int]]:\n",
    "        n = len(nums)\n",
    "        t = lambda sta: [x for i, x in enumerate(nums) if sta >> i & 1]\n",
    "\n",
    "        sub = u = (1 << n) - 1\n",
    "        ans = [[]]\n",
    "        while sub:\n",
    "            ans.append(t(sub))\n",
    "            sub = (sub - 1) & u\n",
    "        return ans"
   ]
  },
  {
   "cell_type": "code",
   "execution_count": null,
   "metadata": {},
   "outputs": [],
   "source": [
    "class Solution:\n",
    "    def subsets(self, nums: List[int]) -> List[List[int]]:\n",
    "        n = len(nums)\n",
    "        t = lambda sta: [x for i, x in enumerate(nums) if sta >> i & 1]\n",
    "\n",
    "        sub = u = (1 << n) - 1\n",
    "        ans = []\n",
    "        while True:\n",
    "            ans.append(t(sub))\n",
    "            sub = (sub - 1) & u\n",
    "            if sub == u: break\n",
    "        return ans"
   ]
  }
 ],
 "metadata": {
  "language_info": {
   "name": "python"
  },
  "orig_nbformat": 4
 },
 "nbformat": 4,
 "nbformat_minor": 2
}
