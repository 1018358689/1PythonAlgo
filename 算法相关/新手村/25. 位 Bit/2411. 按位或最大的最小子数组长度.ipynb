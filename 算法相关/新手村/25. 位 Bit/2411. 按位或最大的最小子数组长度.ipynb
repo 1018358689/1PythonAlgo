{
 "cells": [
  {
   "cell_type": "code",
   "execution_count": null,
   "metadata": {},
   "outputs": [],
   "source": [
    "from typing import List\n",
    "\n",
    "# 两数按位或的值不会小于任何一个数\n",
    "# 两数按位与的值不会大于任何一个数\n",
    "\n",
    "\n",
    "class Solution:\n",
    "\n",
    "    def smallestSubarrays(self, nums: List[int]) -> List[int]:\n",
    "        n = len(nums)\n",
    "        ans = [0] * n\n",
    "        ors = []  # 存按位或累计值及最右段的最小索引\n",
    "        for i in range(n - 1, -1, -1):\n",
    "            num = nums[i]\n",
    "            ors.append([0, i])\n",
    "            # 去重 参考26题\n",
    "            k = 0  # 已经确定的最右端索引\n",
    "            for p in ors:\n",
    "                p[0] |= num\n",
    "                if ors[k][0] != p[0]:  # 不重复值可以作为确认值给k\n",
    "                    k += 1\n",
    "                    ors[k] = p\n",
    "                else:  # 重复值跳过来去重 但继承索引作为最小索引\n",
    "                    ors[k][1] = p[1]\n",
    "            del ors[k + 1:]\n",
    "            ans[i] = ors[0][1] - i + 1\n",
    "        return ans"
   ]
  }
 ],
 "metadata": {
  "language_info": {
   "name": "python"
  },
  "orig_nbformat": 4
 },
 "nbformat": 4,
 "nbformat_minor": 2
}
