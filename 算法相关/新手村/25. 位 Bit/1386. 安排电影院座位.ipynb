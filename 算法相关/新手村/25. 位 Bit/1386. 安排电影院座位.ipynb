{
 "cells": [
  {
   "cell_type": "code",
   "execution_count": null,
   "metadata": {},
   "outputs": [],
   "source": [
    "class Solution:\n",
    "\n",
    "    def maxNumberOfFamilies(self, n: int, reservedSeats: List[List[int]]) -> int:\n",
    "        left = 0b00001111  # 右边空着\n",
    "        right = 0b11110000  # 左边空着\n",
    "        middle = 0b11000011  # 中间空着 判断预定是不是middle子集\n",
    "        ss = [left, right, middle]\n",
    "        cnts = defaultdict(int)\n",
    "        for x, y in reservedSeats:\n",
    "            if 2 <= y <= 9:\n",
    "                cnts[x] |= 1 << y - 2\n",
    "        res = (n - len(cnts)) * 2\n",
    "        for x, state in cnts.items():\n",
    "            if any((state | s) == s for s in ss):\n",
    "                res += 1\n",
    "        return res"
   ]
  }
 ],
 "metadata": {
  "language_info": {
   "name": "python"
  },
  "orig_nbformat": 4
 },
 "nbformat": 4,
 "nbformat_minor": 2
}
