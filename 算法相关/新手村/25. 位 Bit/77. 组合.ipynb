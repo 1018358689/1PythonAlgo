{
 "cells": [
  {
   "cell_type": "code",
   "execution_count": null,
   "metadata": {},
   "outputs": [],
   "source": [
    "# x = 1001111000 的下一个 状态是 1010000111\n",
    "# 是把第一个01位置交换至10 再把右边所有1右移\n",
    "# lb = 1000\n",
    "# 左半部分 = x + lb  = 1010000000 # 把第一个01位置交换至10 右边全部置0\n",
    "# x ^ (x + lb) = 11111000 # 新的10位置 重置为11（多余的1） 并补回右边原来1 但是会多2个1 再最后一步去掉\n",
    "# x ^ (x + lb) // lb = 11111# 除以lb去除末尾0 左移m=lb.bit_length()-1 等价 //2**m 等价 //lb\n",
    "# 右半部分 = x ^ (x + lb) // lb >> 2 = 111\n",
    "# 左 + 右 = x + lb + x ^ (x + lb) // lb >> 2 = 1010000111\n",
    "class Solution:\n",
    "\n",
    "    def combine(self, n: int, k: int) -> List[List[int]]:\n",
    "        t = lambda sta: [i + 1 for i in range(n) if sta >> i & 1]\n",
    "        u = (1 << n) - 1\n",
    "        ans = []\n",
    "        sta = (1 << k) - 1\n",
    "        while sta < u + 1:\n",
    "            ans.append(t(sta))\n",
    "            lb = sta & -sta\n",
    "            left = sta + lb\n",
    "            right = (sta ^ left) // lb >> 2\n",
    "            sta = left | right\n",
    "        return ans"
   ]
  }
 ],
 "metadata": {
  "language_info": {
   "name": "python"
  },
  "orig_nbformat": 4
 },
 "nbformat": 4,
 "nbformat_minor": 2
}
