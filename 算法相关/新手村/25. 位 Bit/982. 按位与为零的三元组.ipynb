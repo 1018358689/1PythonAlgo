{
 "cells": [
  {
   "cell_type": "code",
   "execution_count": null,
   "metadata": {},
   "outputs": [],
   "source": [
    "class Solution:\n",
    "\n",
    "    def countTriplets(self, nums: List[int]) -> int:\n",
    "        # 可以先两个按位于 再枚举第三个能按位与后是0的数 即前面两个按位于补集的子集 等价变换主次关系 即前面两个按位于 是第三数对于全集补集的子集\n",
    "        cnt = [0] * (1 << 16)\n",
    "        u = (1 << 16) - 1\n",
    "        for x in nums:\n",
    "            for y in nums:\n",
    "                cnt[x & y] += 1  # 按位与不会变大 因此最大就u 故不会越界\n",
    "        ans = 0\n",
    "        for x in nums:\n",
    "            cu = u ^ x\n",
    "            sub = cu\n",
    "            while True:\n",
    "                ans += cnt[sub]\n",
    "                sub = (sub - 1) & cu\n",
    "                if sub == cu: break  # 这样可以枚举到空集\n",
    "        return ans"
   ]
  },
  {
   "cell_type": "code",
   "execution_count": null,
   "metadata": {},
   "outputs": [],
   "source": [
    "class Solution:\n",
    "\n",
    "    def countTriplets(self, nums: List[int]) -> int:\n",
    "        # 可以先两个按位于 再枚举第三个能按位与后是0的数 即前面两个按位于补集的子集 等价变换主次关系 即前面两个按位于 是第三数对于全集补集的子集\n",
    "        cnt = [0] * (1 << 16)\n",
    "        cnt[0] = len(nums)  # 空集个数 两个数按位与是空集直接 三个数按位与为0\n",
    "        u = (1 << 16) - 1\n",
    "        ans = 0\n",
    "        for x in nums:\n",
    "            cu = u ^ x\n",
    "            sub = cu\n",
    "            while sub:\n",
    "                cnt[sub] += 1\n",
    "                sub = (sub - 1) & cu\n",
    "        return sum(cnt[x & y] for x in nums for y in nums)"
   ]
  },
  {
   "cell_type": "code",
   "execution_count": null,
   "metadata": {},
   "outputs": [],
   "source": [
    "class Solution:\n",
    "\n",
    "    def countTriplets(self, nums: List[int]) -> int:\n",
    "        cnt = Counter(x & y for x in nums for y in nums)\n",
    "        return sum(v for x in nums for k, v in cnt.items() if x & k == 0)\n"
   ]
  }
 ],
 "metadata": {
  "language_info": {
   "name": "python"
  },
  "orig_nbformat": 4
 },
 "nbformat": 4,
 "nbformat_minor": 2
}
