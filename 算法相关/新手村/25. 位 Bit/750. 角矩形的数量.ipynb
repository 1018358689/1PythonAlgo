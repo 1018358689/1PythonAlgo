{
 "cells": [
  {
   "cell_type": "code",
   "execution_count": null,
   "metadata": {},
   "outputs": [],
   "source": [
    "class Solution:\n",
    "\n",
    "    def countCornerRectangles(self, grid: List[List[int]]) -> int:\n",
    "        # 两数之和题 哈希表存前面 行的某两列数据都为1个数\n",
    "        t = lambda lst: sum(x << i for i, x in enumerate(lst))\n",
    "        grid = [row for row in zip(*grid) if sum(row) > 1]  # 同一行不足两个1的去掉\n",
    "        grid = [row for row in zip(*grid) if sum(row) > 1]  # 同一行不足两个1的去掉\n",
    "        grid = [t(row) for row in grid]  # 转二进制\n",
    "        if not grid: return 0\n",
    "        ans = 0\n",
    "        for x, y in combinations(grid, 2):\n",
    "            ones = (x & y).bit_count()\n",
    "            ans += comb(ones, 2)\n",
    "        return ans"
   ]
  },
  {
   "cell_type": "code",
   "execution_count": null,
   "metadata": {},
   "outputs": [],
   "source": [
    "class Solution:\n",
    "\n",
    "    def countCornerRectangles(self, grid: List[List[int]]) -> int:\n",
    "        # 两数之和题 哈希表存前面 行的某两列数据都为1个数\n",
    "        grid = [row for row in zip(*grid) if sum(row) > 1]  # 同一行不足两个1的去掉\n",
    "        grid = [row for row in zip(*grid) if sum(row) > 1]  # 同一行不足两个1的去掉\n",
    "        if not grid: return 0\n",
    "        m, n = len(grid), len(grid[0])\n",
    "        cnts = [[0] * n for _ in range(n)]\n",
    "        ans = 0\n",
    "        for i in range(m):\n",
    "            for j in range(n - 1):\n",
    "                if grid[i][j] == 1:\n",
    "                    for k in range(j + 1, n):\n",
    "                        if grid[i][k] == 1:\n",
    "                            ans += cnts[j][k]\n",
    "                            cnts[j][k] += 1\n",
    "        return ans"
   ]
  }
 ],
 "metadata": {
  "language_info": {
   "name": "python"
  },
  "orig_nbformat": 4
 },
 "nbformat": 4,
 "nbformat_minor": 2
}
