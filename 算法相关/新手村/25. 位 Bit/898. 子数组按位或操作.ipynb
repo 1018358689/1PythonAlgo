{
 "cells": [
  {
   "cell_type": "code",
   "execution_count": null,
   "metadata": {},
   "outputs": [],
   "source": [
    "from typing import List\n",
    "\n",
    "\n",
    "class Solution:\n",
    "\n",
    "    def subarrayBitwiseORs(self, arr: List[int]) -> int:\n",
    "        n = len(arr)\n",
    "        ans = set()\n",
    "        ors = set()\n",
    "        for i in range(n - 1, -1, -1):\n",
    "            num = arr[i]\n",
    "            ors = {p | num for p in ors} | {num}\n",
    "            ans |= ors\n",
    "        return len(ans)"
   ]
  }
 ],
 "metadata": {
  "language_info": {
   "name": "python"
  },
  "orig_nbformat": 4
 },
 "nbformat": 4,
 "nbformat_minor": 2
}
