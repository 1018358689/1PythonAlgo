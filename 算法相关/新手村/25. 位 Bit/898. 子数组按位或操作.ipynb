{
 "cells": [
  {
   "cell_type": "code",
   "execution_count": null,
   "metadata": {},
   "outputs": [],
   "source": [
    "from typing import List\n",
    "\n",
    "\n",
    "class Solution:\n",
    "\n",
    "    def subarrayBitwiseORs(self, arr: List[int]) -> int:\n",
    "        n = len(arr)\n",
    "        ans = set()\n",
    "        ors = set()\n",
    "        for i in range(n - 1, -1, -1):\n",
    "            num = arr[i]\n",
    "            ors = {p | num for p in ors} | {num}\n",
    "            ans |= ors\n",
    "        return len(ans)"
   ]
  },
  {
   "cell_type": "code",
   "execution_count": 6,
   "metadata": {},
   "outputs": [
    {
     "data": {
      "text/plain": [
       "'0b1101'"
      ]
     },
     "execution_count": 6,
     "metadata": {},
     "output_type": "execute_result"
    }
   ],
   "source": [
    "x = int('110100', 2)\n",
    "lb = x & -x\n",
    "bin(x // lb)"
   ]
  }
 ],
 "metadata": {
  "kernelspec": {
   "display_name": "Python 3",
   "language": "python",
   "name": "python3"
  },
  "language_info": {
   "codemirror_mode": {
    "name": "ipython",
    "version": 3
   },
   "file_extension": ".py",
   "mimetype": "text/x-python",
   "name": "python",
   "nbconvert_exporter": "python",
   "pygments_lexer": "ipython3",
   "version": "3.10.5"
  },
  "orig_nbformat": 4
 },
 "nbformat": 4,
 "nbformat_minor": 2
}
