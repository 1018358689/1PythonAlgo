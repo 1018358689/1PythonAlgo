{
 "cells": [
  {
   "cell_type": "code",
   "execution_count": null,
   "metadata": {},
   "outputs": [],
   "source": []
  },
  {
   "cell_type": "markdown",
   "metadata": {},
   "source": [
    "![](2022-06-06-14-58-43.png)\n",
    "![](2022-06-06-14-56-36.png)"
   ]
  },
  {
   "cell_type": "code",
   "execution_count": 5,
   "metadata": {},
   "outputs": [
    {
     "data": {
      "text/plain": [
       "729"
      ]
     },
     "execution_count": 5,
     "metadata": {},
     "output_type": "execute_result"
    }
   ],
   "source": [
    "class Solution:\n",
    "\n",
    "    def myPow(self, x: float, n: int) -> float:\n",
    "        if n < 0:\n",
    "            x = 1 / x\n",
    "            n = -n\n",
    "        res = 1\n",
    "        while n:\n",
    "            if n & 1 == 1:  # 该位是1 则乘蓝色部分即x\n",
    "                res *= x\n",
    "            x *= x  # 每往右一位 蓝色*=自己\n",
    "            n >>= 1  # 右移\n",
    "        return res\n",
    "\n",
    "\n",
    "s = Solution()\n",
    "s.myPow(9, 3)\n"
   ]
  },
  {
   "cell_type": "code",
   "execution_count": 1,
   "metadata": {},
   "outputs": [
    {
     "data": {
      "text/plain": [
       "729"
      ]
     },
     "execution_count": 1,
     "metadata": {},
     "output_type": "execute_result"
    }
   ],
   "source": [
    "class Solution:\n",
    "\n",
    "    def myPow(self, x: float, n: int) -> float:\n",
    "        if n == 0:\n",
    "            return 1\n",
    "        elif n < 0:\n",
    "            return 1 / self.myPow(x, -n)\n",
    "        elif n & 1 == 1:  # 奇数\n",
    "            return x * self.myPow(x, n - 1)\n",
    "        elif n & 1 == 0:  # 偶数\n",
    "            return self.myPow(x * x, n >> 1)\n",
    "\n",
    "\n",
    "s = Solution()\n",
    "s.myPow(9, 3)\n"
   ]
  },
  {
   "cell_type": "code",
   "execution_count": 10,
   "metadata": {},
   "outputs": [
    {
     "data": {
      "text/plain": [
       "3"
      ]
     },
     "execution_count": 10,
     "metadata": {},
     "output_type": "execute_result"
    }
   ],
   "source": [
    "int('11',base=2)"
   ]
  },
  {
   "cell_type": "markdown",
   "metadata": {},
   "source": [
    "(a * b) % k = (a % k)(b % k) % k\n",
    "\n",
    "也就是说，对乘法的结果求模，等价于先对每个因子都求模，然后对因子相乘的结果再求模。"
   ]
  },
  {
   "cell_type": "code",
   "execution_count": 14,
   "metadata": {},
   "outputs": [
    {
     "data": {
      "text/plain": [
       "8"
      ]
     },
     "execution_count": 14,
     "metadata": {},
     "output_type": "execute_result"
    }
   ],
   "source": [
    "# lc372. 超级次方\n",
    "from typing import List\n",
    "\n",
    "\n",
    "class Solution:\n",
    "    Mod = 1337\n",
    "\n",
    "    def mypow(self, a, b):\n",
    "        a %= self.Mod\n",
    "        ans = 1\n",
    "        while b:\n",
    "            if b & 1 == 1:\n",
    "                ans *= a\n",
    "                ans %= self.Mod\n",
    "            b >>= 1\n",
    "            a *= a\n",
    "            a %= self.Mod\n",
    "        return ans\n",
    "\n",
    "    def superPow(self, a: int, b: List[int]) -> int:\n",
    "\n",
    "        def dfs(i):  # a与b[:i]的幂\n",
    "            if i == 0:\n",
    "                return 1\n",
    "            cur = b[i - 1]\n",
    "            tmp = self.mypow(a, cur)\n",
    "            sub = dfs(i - 1)\n",
    "            return (tmp * self.mypow(sub, 10)) % self.Mod\n",
    "\n",
    "        return dfs(len(b))\n",
    "\n",
    "\n",
    "s = Solution()\n",
    "s.superPow(2, [3])\n"
   ]
  },
  {
   "cell_type": "code",
   "execution_count": 3,
   "metadata": {},
   "outputs": [
    {
     "data": {
      "text/plain": [
       "7"
      ]
     },
     "execution_count": 3,
     "metadata": {},
     "output_type": "execute_result"
    }
   ],
   "source": [
    "0^7"
   ]
  },
  {
   "cell_type": "code",
   "execution_count": null,
   "metadata": {},
   "outputs": [],
   "source": []
  }
 ],
 "metadata": {
  "kernelspec": {
   "display_name": "Python 3.10.5 64-bit",
   "language": "python",
   "name": "python3"
  },
  "language_info": {
   "codemirror_mode": {
    "name": "ipython",
    "version": 3
   },
   "file_extension": ".py",
   "mimetype": "text/x-python",
   "name": "python",
   "nbconvert_exporter": "python",
   "pygments_lexer": "ipython3",
   "version": "3.10.5"
  },
  "orig_nbformat": 4,
  "vscode": {
   "interpreter": {
    "hash": "3196968d684371006099b3d55edeef8ed90365227a30deaef86e5d4aa8519be0"
   }
  }
 },
 "nbformat": 4,
 "nbformat_minor": 2
}
