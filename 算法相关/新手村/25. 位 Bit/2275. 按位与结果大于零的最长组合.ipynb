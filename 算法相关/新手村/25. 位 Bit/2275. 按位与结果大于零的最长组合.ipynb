{
 "cells": [
  {
   "cell_type": "code",
   "execution_count": null,
   "metadata": {},
   "outputs": [],
   "source": [
    "class Solution:\n",
    "\n",
    "    def largestCombination(self, candidates: List[int]) -> int:\n",
    "        # 按位与结果 >0 则某一位所有数全是1\n",
    "        # 统计每一位 1的个数总和 取最大\n",
    "        return max(sum(x >> i & 1 for x in candidates) for i in range(32))"
   ]
  },
  {
   "cell_type": "code",
   "execution_count": null,
   "metadata": {},
   "outputs": [],
   "source": [
    "class Solution:\n",
    "\n",
    "    def largestCombination(self, candidates: List[int]) -> int:\n",
    "        # 按位与结果 >0 则某一位所有数全是1\n",
    "        cnts = [0] * 32  # 某一位1的个数累计\n",
    "        for x in candidates:\n",
    "            cnt = 0\n",
    "            while x:\n",
    "                cnts[cnt] += x & 1\n",
    "                cnt += 1\n",
    "                x >>= 1\n",
    "        return cnts[max(range(32), key=lambda x: cnts[x])]\n"
   ]
  },
  {
   "cell_type": "code",
   "execution_count": null,
   "metadata": {},
   "outputs": [],
   "source": []
  }
 ],
 "metadata": {
  "kernelspec": {
   "display_name": "Python 3",
   "language": "python",
   "name": "python3"
  },
  "language_info": {
   "codemirror_mode": {
    "name": "ipython",
    "version": 3
   },
   "file_extension": ".py",
   "mimetype": "text/x-python",
   "name": "python",
   "nbconvert_exporter": "python",
   "pygments_lexer": "ipython3",
   "version": "3.10.5"
  },
  "orig_nbformat": 4
 },
 "nbformat": 4,
 "nbformat_minor": 2
}
