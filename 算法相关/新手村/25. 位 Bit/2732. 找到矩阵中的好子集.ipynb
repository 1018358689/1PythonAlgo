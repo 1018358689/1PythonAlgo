{
 "cells": [
  {
   "cell_type": "code",
   "execution_count": null,
   "metadata": {},
   "outputs": [],
   "source": [
    "class Solution:\n",
    "\n",
    "    def goodSubsetofBinaryMatrix(self, grid: List[List[int]]) -> List[int]:\n",
    "\n",
    "        def t(lst):\n",
    "            ans = 0\n",
    "            for i, x in enumerate(lst):  # 无所谓左往右 还是 右往左\n",
    "                if x:\n",
    "                    ans |= 1 << i\n",
    "            return ans\n",
    "\n",
    "        ha = {}  # 去重用\n",
    "        for i, lst in enumerate(grid):\n",
    "            ha[t(lst)] = i\n",
    "        if 0 in ha: return [ha[0]]\n",
    "        ha = list(ha.items())\n",
    "        for i in range(len(ha) - 1):\n",
    "            mask1, idx1 = ha[i]\n",
    "            for j in range(i + 1, len(ha)):\n",
    "                mask2, idx2 = ha[j]\n",
    "                if mask1 & mask2 == 0:\n",
    "                    return sorted((idx1, idx2))\n",
    "        return []"
   ]
  }
 ],
 "metadata": {
  "language_info": {
   "name": "python"
  },
  "orig_nbformat": 4
 },
 "nbformat": 4,
 "nbformat_minor": 2
}
