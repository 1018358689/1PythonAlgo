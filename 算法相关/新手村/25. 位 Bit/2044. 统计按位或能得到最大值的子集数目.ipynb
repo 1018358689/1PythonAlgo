{
 "cells": [
  {
   "cell_type": "code",
   "execution_count": null,
   "metadata": {},
   "outputs": [],
   "source": [
    "class Solution:\n",
    "\n",
    "    def countMaxOrSubsets(self, nums: List[int]) -> int:\n",
    "        n = len(nums)\n",
    "        u = (1 << n) - 1\n",
    "        ha = Counter()\n",
    "        sub = u\n",
    "        while sub:\n",
    "            tmp = 0\n",
    "            for i in range(n):\n",
    "                if sub >> i & 1:\n",
    "                    tmp |= nums[i]\n",
    "            ha[tmp] += 1\n",
    "            sub = (sub - 1) & u\n",
    "        return ha.most_common(1)[0][1]"
   ]
  },
  {
   "cell_type": "code",
   "execution_count": null,
   "metadata": {},
   "outputs": [],
   "source": [
    "class Solution:\n",
    "\n",
    "    def countMaxOrSubsets(self, nums: List[int]) -> int:\n",
    "        n = len(nums)\n",
    "        cnt = Counter()\n",
    "\n",
    "        def dfs(i, res):  # 逐个 选 或 不选\n",
    "            if i == n:\n",
    "                cnt[res] += 1\n",
    "                return\n",
    "            dfs(i + 1, res | nums[i])\n",
    "            dfs(i + 1, res)\n",
    "\n",
    "        dfs(0, 0)\n",
    "        return cnt.most_common(1)[0][1]"
   ]
  }
 ],
 "metadata": {
  "language_info": {
   "name": "python"
  },
  "orig_nbformat": 4
 },
 "nbformat": 4,
 "nbformat_minor": 2
}
