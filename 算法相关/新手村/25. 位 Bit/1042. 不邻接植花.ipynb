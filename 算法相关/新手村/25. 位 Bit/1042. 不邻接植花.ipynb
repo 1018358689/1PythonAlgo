{
 "cells": [
  {
   "cell_type": "code",
   "execution_count": null,
   "metadata": {},
   "outputs": [],
   "source": [
    "class Solution:\n",
    "\n",
    "    def gardenNoAdj(self, n: int, paths: List[List[int]]) -> List[int]:\n",
    "        adj = [[] for _ in range(n)]\n",
    "        ans = [0] * n\n",
    "        for x, y in paths:\n",
    "            adj[x - 1].append(y - 1)\n",
    "            adj[y - 1].append(x - 1)\n",
    "        for x in range(n):\n",
    "            mask = 1  # 占位免得取反出错\n",
    "            for y in adj[x]:\n",
    "                mask |= 1 << ans[y]\n",
    "            mask = ~mask\n",
    "            ans[x] = (mask & -mask).bit_length() - 1\n",
    "        return ans"
   ]
  },
  {
   "cell_type": "code",
   "execution_count": null,
   "metadata": {},
   "outputs": [],
   "source": [
    "class Solution:\n",
    "    def gardenNoAdj(self, n: int, paths: List[List[int]]) -> List[int]:\n",
    "        adj = [[] for _ in range(n)]\n",
    "        ans = [0]  *n\n",
    "        for x, y in paths:\n",
    "            adj[x - 1].append(y - 1)\n",
    "            adj[y - 1].append(x - 1)\n",
    "        for x in range(n):\n",
    "            ans[x] = (set(range(1, 5)) - {ans[y] for y in adj[x]}).pop()\n",
    "        return ans"
   ]
  }
 ],
 "metadata": {
  "language_info": {
   "name": "python"
  },
  "orig_nbformat": 4
 },
 "nbformat": 4,
 "nbformat_minor": 2
}
