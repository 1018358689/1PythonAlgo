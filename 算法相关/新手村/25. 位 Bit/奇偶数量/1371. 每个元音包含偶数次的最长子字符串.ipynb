{
 "cells": [
  {
   "cell_type": "code",
   "execution_count": null,
   "metadata": {},
   "outputs": [],
   "source": [
    "class Solution:\n",
    "\n",
    "    def findTheLongestSubstring(self, s: str) -> int:\n",
    "        # 奇偶性相同 相减才是偶数  -> 相同状态 相减偶数\n",
    "        ha = {x: i for i, x in enumerate('aeiou')}\n",
    "        pss = {0: -1}  # 状态压缩前缀及首次位置 字母数量的奇偶性  初始0状态位置-1 方便计算全偶数\n",
    "        ans = 0\n",
    "        state = 0\n",
    "        for r, x in enumerate(s):\n",
    "            if x in ha:\n",
    "                state ^= 1 << ha[x]\n",
    "            if state in pss:\n",
    "                ans = max(ans, r - pss[state])  # r - (l + 1) + 1 = r - l\n",
    "            else:\n",
    "                pss[state] = r\n",
    "        return ans"
   ]
  }
 ],
 "metadata": {
  "language_info": {
   "name": "python"
  },
  "orig_nbformat": 4
 },
 "nbformat": 4,
 "nbformat_minor": 2
}
