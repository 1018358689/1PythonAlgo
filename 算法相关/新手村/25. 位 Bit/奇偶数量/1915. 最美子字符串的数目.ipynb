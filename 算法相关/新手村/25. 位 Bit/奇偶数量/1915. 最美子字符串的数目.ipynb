{
 "cells": [
  {
   "cell_type": "code",
   "execution_count": null,
   "metadata": {},
   "outputs": [],
   "source": [
    "class Solution:\n",
    "\n",
    "    def wonderfulSubstrings(self, word: str) -> int:\n",
    "        # 异性得奇 同性得偶\n",
    "        ha = {x: i for i, x in enumerate('abcdefghij')}\n",
    "        cnts = Counter()\n",
    "        cnts[0] = 1  # 各二进制状态 计数 初始状态是 已经全0（全偶数）计1 即本身\n",
    "        mask = ans = 0\n",
    "        for x in word:\n",
    "            mask ^= 1 << ha[x]\n",
    "            # 1.全偶数 即为了得到全0\n",
    "            ans += cnts[mask]\n",
    "            # 2.一个奇数\n",
    "            for i in range(10):  # 枚举一个奇数位置 即位了得到其他位置全为0 这个位置为1 即 目标其他位置相同 这个位置相反 （异或 特点：^0 = 本身   ^1 = 相反）\n",
    "                mask2 = mask ^ (1 << i)\n",
    "                ans += cnts[mask2]\n",
    "            cnts[mask] += 1\n",
    "        return ans\n"
   ]
  },
  {
   "cell_type": "code",
   "execution_count": null,
   "metadata": {},
   "outputs": [],
   "source": [
    "class Solution:\n",
    "\n",
    "    def wonderfulSubstrings(self, word: str) -> int:\n",
    "        # 异性得奇 同性得偶\n",
    "        ha = {x: i for i, x in enumerate('abcdefghij')}\n",
    "        # cnts = Counter()\n",
    "        cnts = [0] * (1 << 10)  # [0] * (2 ** 10)\n",
    "        cnts[0] = 1  # 各二进制状态 计数 初始状态是 已经全0（全偶数）计1 即本身\n",
    "        mask = ans = 0\n",
    "        for x in word:\n",
    "            mask ^= 1 << ha[x]\n",
    "            # 1.全偶数 即为了得到全0\n",
    "            ans += cnts[mask]\n",
    "            # 2.一个奇数\n",
    "            for i in range(10):  # 枚举一个奇数位置 即位了得到其他位置全为0 这个位置为1 即 目标其他位置相同 这个位置相反 （异或 特点：^0 = 本身   ^1 = 相反）\n",
    "                mask2 = mask ^ (1 << i)\n",
    "                ans += cnts[mask2]\n",
    "            cnts[mask] += 1\n",
    "        return ans\n"
   ]
  }
 ],
 "metadata": {
  "language_info": {
   "name": "python"
  },
  "orig_nbformat": 4
 },
 "nbformat": 4,
 "nbformat_minor": 2
}
