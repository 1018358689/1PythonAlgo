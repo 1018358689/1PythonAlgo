{
 "cells": [
  {
   "cell_type": "code",
   "execution_count": null,
   "metadata": {},
   "outputs": [],
   "source": [
    "class Solution:\n",
    "\n",
    "    def canMakePaliQueries(self, s: str, queries: List[List[int]]) -> List[bool]:\n",
    "        # 奇数字母种类m 那么需要更换 m//2\n",
    "        # 快速查询区间内 每个字母数量 -> 前缀和\n",
    "        # 奇偶相减才得到奇数\n",
    "        pss = [0]  # 当前前缀 各字母 数量 奇偶性\n",
    "        for x in s:\n",
    "            pss.append(pss[-1])\n",
    "            pss[-1] ^= 1 << (ord(x) - ord('a'))  # 当前字母改变奇偶性\n",
    "        ans = []\n",
    "        for l, r, k in queries:\n",
    "            odd = (pss[r + 1] ^ pss[l]).bit_count()  # 不同性 才会得到奇数\n",
    "            ans.append(odd // 2 <= k)\n",
    "        return ans"
   ]
  },
  {
   "cell_type": "code",
   "execution_count": null,
   "metadata": {},
   "outputs": [],
   "source": [
    "class Solution:\n",
    "\n",
    "    def canMakePaliQueries(self, s: str, queries: List[List[int]]) -> List[bool]:\n",
    "        # 奇数字母种类m 那么需要更换 m//2\n",
    "        # 快速查询区间内 每个字母数量 -> 前缀和\n",
    "        pss = [[0] * 26]\n",
    "        for x in s:\n",
    "            pss.append(pss[-1][:])\n",
    "            pss[-1][ord(x) - ord('a')] += 1\n",
    "        ans = []\n",
    "        for l, r, k in queries:\n",
    "            odd = sum(((y - x) & 1 for x, y in zip(pss[l], pss[r + 1])))\n",
    "            ans.append(odd // 2 <= k)\n",
    "        return ans"
   ]
  },
  {
   "cell_type": "code",
   "execution_count": null,
   "metadata": {},
   "outputs": [],
   "source": [
    "class Solution:\n",
    "\n",
    "    def canMakePaliQueries(self, s: str, queries: List[List[int]]) -> List[bool]:\n",
    "        # 奇数字母种类m 那么需要更换 m//2\n",
    "        # 快速查询区间内 每个字母数量 -> 前缀和\n",
    "        # 奇偶相减才得到奇数\n",
    "        pss = [[0] * 26]\n",
    "        for x in s:\n",
    "            pss.append(pss[-1][:])  # 0表示偶数 1表示奇数\n",
    "            pss[-1][ord(x) - ord('a')] += 1\n",
    "            pss[-1][ord(x) - ord('a')] %= 2\n",
    "        ans = []\n",
    "        for l, r, k in queries:\n",
    "            odd = sum((x != y for x, y in zip(pss[l], pss[r + 1])))  # 不同性 才会得到奇数\n",
    "            ans.append(odd // 2 <= k)\n",
    "        return ans"
   ]
  }
 ],
 "metadata": {
  "language_info": {
   "name": "python"
  },
  "orig_nbformat": 4
 },
 "nbformat": 4,
 "nbformat_minor": 2
}
