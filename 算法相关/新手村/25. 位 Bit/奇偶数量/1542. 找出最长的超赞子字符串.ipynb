{
 "cells": [
  {
   "cell_type": "code",
   "execution_count": null,
   "metadata": {},
   "outputs": [],
   "source": [
    "# 异或特点 异或0本身 异或1相反\n",
    "class Solution:\n",
    "\n",
    "    def longestAwesome(self, s: str) -> int:\n",
    "        # 奇数数量字符种类数量 <= 1\n",
    "        # 奇偶相减 为奇  同性想减为偶数\n",
    "        ans = 1\n",
    "        ha = {0: -1}\n",
    "        mask = 0\n",
    "        for r, x in enumerate(s):\n",
    "            mask ^= 1 << int(x)\n",
    "            # 只允许一个奇数 或 全偶数\n",
    "            # 1.一个奇数\n",
    "            for i in range(10):  # 枚举哪个位置奇数\n",
    "                mask2 = mask ^ (1 << i)  # 异或的话 要构造一个 其他位一模一样 当前位相反\n",
    "                if mask2 in ha:\n",
    "                    ans = max(ans, r - ha[mask2])\n",
    "            # 2.全偶数\n",
    "            if mask in ha:\n",
    "                ans = max(ans, r - ha[mask])\n",
    "            else:\n",
    "                ha[mask] = r\n",
    "        return ans"
   ]
  }
 ],
 "metadata": {
  "language_info": {
   "name": "python"
  },
  "orig_nbformat": 4
 },
 "nbformat": 4,
 "nbformat_minor": 2
}
