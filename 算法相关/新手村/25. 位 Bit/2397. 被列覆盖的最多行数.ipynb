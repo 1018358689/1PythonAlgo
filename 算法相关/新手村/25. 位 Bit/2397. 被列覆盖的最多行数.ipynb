{
 "cells": [
  {
   "cell_type": "code",
   "execution_count": null,
   "metadata": {},
   "outputs": [],
   "source": [
    "class Solution:\n",
    "    def maximumRows(self, matrix: List[List[int]], numSelect: int) -> int:\n",
    "        n = len(matrix[0])\n",
    "        ans = 0\n",
    "        matrix = [sum(x << i for i, x in enumerate(row)) for row in matrix]\n",
    "        x = (1 << numSelect) - 1\n",
    "        while x < (1 << n):\n",
    "            cnt = sum((row & ~x) == 0 for row in matrix)\n",
    "            if cnt > ans:\n",
    "                ans = cnt\n",
    "            lb = x & -x\n",
    "            left = x + lb\n",
    "            right = (x ^ left) // lb >> 2\n",
    "            x = left + right\n",
    "        return ans"
   ]
  },
  {
   "cell_type": "code",
   "execution_count": null,
   "metadata": {},
   "outputs": [],
   "source": [
    "class Solution:\n",
    "    def maximumRows(self, matrix: List[List[int]], numSelect: int) -> int:\n",
    "        n = len(matrix[0])\n",
    "        ans = 0\n",
    "        matrix = [sum(x << i for i, x in enumerate(row)) for row in matrix]\n",
    "        # for cs in combinations(range(n), numSelect):\n",
    "        #     mask = 0\n",
    "        #     for c in cs:\n",
    "        #         mask |= 1 << c\n",
    "        for mask in range(1 << n):\n",
    "            if mask.bit_count() != numSelect: continue\n",
    "            cnt = sum((row & ~mask) == 0 for row in matrix)\n",
    "            if cnt > ans:\n",
    "                ans = cnt\n",
    "        return ans"
   ]
  }
 ],
 "metadata": {
  "language_info": {
   "name": "python"
  },
  "orig_nbformat": 4
 },
 "nbformat": 4,
 "nbformat_minor": 2
}
