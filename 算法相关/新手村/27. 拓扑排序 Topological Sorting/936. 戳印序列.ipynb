{
 "cells": [
  {
   "cell_type": "code",
   "execution_count": 1,
   "metadata": {},
   "outputs": [
    {
     "data": {
      "text/plain": [
       "[1, 0, 2]"
      ]
     },
     "execution_count": 1,
     "metadata": {},
     "output_type": "execute_result"
    }
   ],
   "source": [
    "from typing import List\n",
    "from collections import defaultdict\n",
    "class Solution:\n",
    "    def movesToStamp(self, stamp: str, target: str) -> List[int]:\n",
    "        n,m = len(stamp),len(target)\n",
    "        indegree = [n]*(m-n+1) # 窗口入度 (度:和stamp不匹配个数)\n",
    "        edges = defaultdict(list) # 边 :连接target各位置和窗口\n",
    "        vis = set()\n",
    "        q = []\n",
    "        for window in range(m-n+1):\n",
    "            for j in range(n):\n",
    "                if target[index:=window+j]==stamp[j]: # 不连边并减度\n",
    "                    indegree[window]-=1\n",
    "                    if indegree[window]==0:\n",
    "                        q.append(window)\n",
    "                else:\n",
    "                    edges[index].append(window)\n",
    "        ans = []\n",
    "        while q:\n",
    "            cur = q.pop()\n",
    "            ans.append(cur)\n",
    "            for j in range(n):\n",
    "                if (index:=cur+j) not in vis: # 避免重复减度\n",
    "                    vis.add(index)\n",
    "                    for window in edges[index]: # 该点对应多个窗口入度-1\n",
    "                        indegree[window]-=1\n",
    "                        if indegree[window]==0: # 入度为0则入队\n",
    "                            q.append(window)\n",
    "        return ans[::-1] if len(ans)==m-n+1 else [] # 窗口是否符合\n",
    "s = Solution()\n",
    "s.movesToStamp('abc','ababc')"
   ]
  },
  {
   "cell_type": "code",
   "execution_count": null,
   "metadata": {},
   "outputs": [],
   "source": []
  }
 ],
 "metadata": {
  "interpreter": {
   "hash": "aee8b7b246df8f9039afb4144a1f6fd8d2ca17a180786b69acc140d282b71a49"
  },
  "kernelspec": {
   "display_name": "Python 3.10.2 64-bit",
   "language": "python",
   "name": "python3"
  },
  "language_info": {
   "codemirror_mode": {
    "name": "ipython",
    "version": 3
   },
   "file_extension": ".py",
   "mimetype": "text/x-python",
   "name": "python",
   "nbconvert_exporter": "python",
   "pygments_lexer": "ipython3",
   "version": "3.10.2"
  },
  "orig_nbformat": 4
 },
 "nbformat": 4,
 "nbformat_minor": 2
}
