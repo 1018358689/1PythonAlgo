{
 "cells": [
  {
   "cell_type": "code",
   "execution_count": 2,
   "metadata": {},
   "outputs": [],
   "source": [
    "from collections import deque\n",
    "from typing import List\n",
    "\n",
    "\n",
    "class Solution:\n",
    "\n",
    "    def t(self, w):\n",
    "        return ord(w) - ord('a')\n",
    "\n",
    "    def largestPathValue(self, colors: str, edges: List[List[int]]) -> int:\n",
    "        n = len(colors)\n",
    "        adj = [[] for _ in range(n)]\n",
    "        ins = [0] * n\n",
    "        for x, y in edges:\n",
    "            adj[x].append(y)\n",
    "            ins[y] += 1\n",
    "        q = deque([x for x in range(n) if not ins[x]])\n",
    "        dp = [[0] * 26 for _ in range(n)]  # dp记录每个节点在之前路径下每个颜色的最大值 再弹出时加上自身颜色\n",
    "        cnt = 0\n",
    "        while q:\n",
    "            x = q.popleft()\n",
    "            cnt += 1\n",
    "            dp[x][self.t(colors[x])] += 1  # 确定的父节点\n",
    "            for y in adj[x]:\n",
    "                for i in range(26):\n",
    "                    dp[y][i] = max(dp[y][i], dp[x][i])  # 更新子节点\n",
    "                ins[y] -= 1\n",
    "                if not ins[y]:\n",
    "                    q.append(y)\n",
    "\n",
    "        return max(max(dp[x]) for x in range(n)) if cnt == n else -1\n"
   ]
  },
  {
   "cell_type": "code",
   "execution_count": null,
   "metadata": {},
   "outputs": [],
   "source": [
    "from collections import deque\n",
    "from math import inf\n",
    "from typing import List\n",
    "from functools import lru_cache\n",
    "\n",
    "\n",
    "class Solution:\n",
    "\n",
    "    def t(self, w):\n",
    "        return ord(w) - ord('a')\n",
    "\n",
    "    def largestPathValue(self, colors: str, edges: List[List[int]]) -> int:\n",
    "        n = len(colors)\n",
    "        adj = [[] for _ in range(n)]\n",
    "        ins = [0] * n\n",
    "        for x, y in edges:\n",
    "            adj[x].append(y)\n",
    "            ins[y] += 1\n",
    "        q = deque([x for x in range(n) if not ins[x]])\n",
    "        cnt = 0\n",
    "        while q:\n",
    "            x = q.popleft()\n",
    "            cnt += 1\n",
    "            for y in adj[x]:\n",
    "                ins[y] -= 1\n",
    "                if not ins[y]:\n",
    "                    q.append(y)\n",
    "        if cnt != n:\n",
    "            return -1\n",
    "\n",
    "        @lru_cache(None)\n",
    "        def dfs(x):  # 到当前节点的颜色值\n",
    "            res = [0] * 26\n",
    "            for y in adj[x]:\n",
    "                sub = dfs(y)\n",
    "                for i in range(26):\n",
    "                    res[i] = max(res[i], sub[i])\n",
    "            res[self.t(colors[x])] += 1\n",
    "            return res\n",
    "\n",
    "        ans = -inf\n",
    "        for x in range(n):\n",
    "            ans = max(ans, max(dfs(x)))\n",
    "        # dfs.cache_clear()\n",
    "        return ans"
   ]
  }
 ],
 "metadata": {
  "kernelspec": {
   "display_name": "Python 3",
   "language": "python",
   "name": "python3"
  },
  "language_info": {
   "codemirror_mode": {
    "name": "ipython",
    "version": 3
   },
   "file_extension": ".py",
   "mimetype": "text/x-python",
   "name": "python",
   "nbconvert_exporter": "python",
   "pygments_lexer": "ipython3",
   "version": "3.11.1 (tags/v3.11.1:a7a450f, Dec  6 2022, 19:58:39) [MSC v.1934 64 bit (AMD64)]"
  },
  "orig_nbformat": 4,
  "vscode": {
   "interpreter": {
    "hash": "ff4b1fca65a764b45acb559e482afe389d289dd599b9f8c5fd12ff5c2ea46a65"
   }
  }
 },
 "nbformat": 4,
 "nbformat_minor": 2
}
