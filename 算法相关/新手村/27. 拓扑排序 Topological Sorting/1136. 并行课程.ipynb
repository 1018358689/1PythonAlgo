{
 "cells": [
  {
   "cell_type": "code",
   "execution_count": 9,
   "metadata": {},
   "outputs": [
    {
     "data": {
      "text/plain": [
       "4"
      ]
     },
     "execution_count": 9,
     "metadata": {},
     "output_type": "execute_result"
    }
   ],
   "source": [
    "from typing import List\n",
    "from collections import deque\n",
    "\n",
    "\n",
    "class Solution:\n",
    "\n",
    "    def minimumSemesters(self, n: int, relations: List[List[int]]) -> int:\n",
    "        adj = [[] for _ in range(n)]\n",
    "        ins = [0] * n\n",
    "        for x, y in relations:\n",
    "            adj[x - 1].append(y - 1)\n",
    "            ins[y - 1] += 1\n",
    "        q = deque([i for i in range(n) if ins[i] == 0])\n",
    "        cnt = 0\n",
    "        step = 0\n",
    "        while q:\n",
    "            for _ in range(len(q)):\n",
    "                x = q.popleft()\n",
    "                cnt += 1\n",
    "                for y in adj[x]:\n",
    "                    ins[y] -= 1\n",
    "                    if ins[y] == 0:\n",
    "                        q.append(y)\n",
    "            step += 1\n",
    "        return step if cnt == n else -1\n",
    "\n",
    "\n",
    "s = Solution()\n",
    "s.minimumSemesters(5, [[1, 2], [3, 4], [4, 5], [5, 2]])"
   ]
  },
  {
   "cell_type": "code",
   "execution_count": null,
   "metadata": {},
   "outputs": [],
   "source": []
  }
 ],
 "metadata": {
  "kernelspec": {
   "display_name": "Python 3",
   "language": "python",
   "name": "python3"
  },
  "language_info": {
   "codemirror_mode": {
    "name": "ipython",
    "version": 3
   },
   "file_extension": ".py",
   "mimetype": "text/x-python",
   "name": "python",
   "nbconvert_exporter": "python",
   "pygments_lexer": "ipython3",
   "version": "3.11.1"
  },
  "orig_nbformat": 4,
  "vscode": {
   "interpreter": {
    "hash": "ff4b1fca65a764b45acb559e482afe389d289dd599b9f8c5fd12ff5c2ea46a65"
   }
  }
 },
 "nbformat": 4,
 "nbformat_minor": 2
}
