{
 "cells": [
  {
   "cell_type": "code",
   "execution_count": 2,
   "metadata": {},
   "outputs": [
    {
     "data": {
      "text/plain": [
       "True"
      ]
     },
     "execution_count": 2,
     "metadata": {},
     "output_type": "execute_result"
    }
   ],
   "source": [
    "from collections import defaultdict, deque\n",
    "\n",
    "from math import inf\n",
    "from typing import List\n",
    "\n",
    "\n",
    "class Solution:\n",
    "\n",
    "    def isPrintable(self, targetGrid: List[List[int]]) -> bool:\n",
    "        rows, cols = len(targetGrid), len(targetGrid[0])\n",
    "        # 1.找到每种颜色的矩形范围\n",
    "        rans = defaultdict(lambda: [inf, inf, -inf, -inf])\n",
    "        for r in range(rows):\n",
    "            for c in range(cols):\n",
    "                x = targetGrid[r][c]\n",
    "                rans[x][0] = min(rans[x][0], r)\n",
    "                rans[x][1] = min(rans[x][1], c)\n",
    "                rans[x][2] = max(rans[x][2], r)\n",
    "                rans[x][3] = max(rans[x][3], c)\n",
    "        # 2.找出每种颜色上方所包含的颜色\n",
    "        adj = defaultdict(set)\n",
    "        for x, (r1, c1, r2, c2) in rans.items():\n",
    "            for r in range(r1, r2 + 1):\n",
    "                for c in range(c1, c2 + 1):\n",
    "                    if targetGrid[r][c] != x:\n",
    "                        adj[x].add(targetGrid[r][c])\n",
    "        # 3.拓扑排序看看是否有环\n",
    "        ins = defaultdict(int)\n",
    "        for sons in adj.values():\n",
    "            for y in sons:\n",
    "                ins[y] += 1\n",
    "        q = deque([x for x in rans if ins[x] == 0])\n",
    "        while q:\n",
    "            x = q.popleft()\n",
    "            for y in adj[x]:\n",
    "                ins[y] -= 1\n",
    "                if ins[y] == 0:\n",
    "                    q.append(y)\n",
    "        return sum(ins.values()) == 0\n",
    "\n",
    "\n",
    "s = Solution()\n",
    "s.isPrintable([[1, 1, 1, 1], [1, 1, 3, 3], [1, 1, 3, 4], [5, 5, 1, 4]])"
   ]
  },
  {
   "cell_type": "code",
   "execution_count": null,
   "metadata": {},
   "outputs": [],
   "source": []
  }
 ],
 "metadata": {
  "kernelspec": {
   "display_name": "Python 3",
   "language": "python",
   "name": "python3"
  },
  "language_info": {
   "codemirror_mode": {
    "name": "ipython",
    "version": 3
   },
   "file_extension": ".py",
   "mimetype": "text/x-python",
   "name": "python",
   "nbconvert_exporter": "python",
   "pygments_lexer": "ipython3",
   "version": "3.11.1"
  },
  "orig_nbformat": 4,
  "vscode": {
   "interpreter": {
    "hash": "ff4b1fca65a764b45acb559e482afe389d289dd599b9f8c5fd12ff5c2ea46a65"
   }
  }
 },
 "nbformat": 4,
 "nbformat_minor": 2
}
