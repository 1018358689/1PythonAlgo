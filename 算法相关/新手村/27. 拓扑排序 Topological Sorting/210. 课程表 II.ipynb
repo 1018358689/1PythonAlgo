{
 "cells": [
  {
   "cell_type": "code",
   "execution_count": null,
   "metadata": {},
   "outputs": [],
   "source": [
    "from typing import List\n",
    "from collections import deque\n",
    "\n",
    "\n",
    "class Solution:\n",
    "    def findOrder(self, numCourses: int, prerequisites: List[List[int]]) -> List[int]:\n",
    "        adj = [[] for _ in range(numCourses)]  # 邻接表\n",
    "        indegree = [0] * numCourses  # 入度表\n",
    "        for c, p in prerequisites:\n",
    "            adj[p].append(c)\n",
    "            indegree[c] += 1\n",
    "        q = deque([i for i in range(numCourses) if indegree[i] == 0])\n",
    "        ans = []\n",
    "        while q:\n",
    "            cur = q.popleft()\n",
    "            ans.append(cur)\n",
    "            for nei in adj[cur]:\n",
    "                indegree[nei] -= 1\n",
    "                if indegree[nei] == 0:  # 入度为0入队\n",
    "                    q.append(nei)\n",
    "        return ans if len(ans) == numCourses else []\n"
   ]
  }
 ],
 "metadata": {
  "kernelspec": {
   "display_name": "Python 3.8.10 64-bit",
   "language": "python",
   "name": "python3"
  },
  "language_info": {
   "name": "python",
   "version": "3.8.10"
  },
  "orig_nbformat": 4,
  "vscode": {
   "interpreter": {
    "hash": "570feb405e2e27c949193ac68f46852414290d515b0ba6e5d90d076ed2284471"
   }
  }
 },
 "nbformat": 4,
 "nbformat_minor": 2
}
