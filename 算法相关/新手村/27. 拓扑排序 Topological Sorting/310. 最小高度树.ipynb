{
 "cells": [
  {
   "cell_type": "code",
   "execution_count": null,
   "metadata": {},
   "outputs": [],
   "source": [
    "from collections import defaultdict, deque\n",
    "from typing import List\n",
    "\n",
    "\n",
    "class Solution:\n",
    "\n",
    "    def findMinHeightTrees(self, n: int, edges: List[List[int]]) -> List[int]:\n",
    "        if n <= 2:\n",
    "            return list(range(n))\n",
    "        adj = defaultdict(list)\n",
    "        ins = [0] * n\n",
    "        for x, y in edges:\n",
    "            adj[x].append(y)\n",
    "            adj[y].append(x)\n",
    "            ins[x] += 1\n",
    "            ins[y] += 1\n",
    "        q = deque([i for i in range(n) if ins[i] == 1])\n",
    "        while q:\n",
    "            size = len(q)\n",
    "            for _ in range(size):\n",
    "                x = q.popleft()\n",
    "                for y in adj[x]:\n",
    "                    ins[y] -= 1\n",
    "                    if ins[y] == 1:\n",
    "                        q.append(y)\n",
    "            n -= size\n",
    "            if n <= 2:\n",
    "                return list(q)"
   ]
  }
 ],
 "metadata": {
  "language_info": {
   "name": "python"
  },
  "orig_nbformat": 4
 },
 "nbformat": 4,
 "nbformat_minor": 2
}
