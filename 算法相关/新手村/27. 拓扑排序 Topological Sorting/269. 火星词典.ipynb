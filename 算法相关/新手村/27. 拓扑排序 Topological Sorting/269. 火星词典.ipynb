{
 "cells": [
  {
   "cell_type": "code",
   "execution_count": 14,
   "metadata": {},
   "outputs": [
    {
     "data": {
      "text/plain": [
       "'aczb'"
      ]
     },
     "execution_count": 14,
     "metadata": {},
     "output_type": "execute_result"
    }
   ],
   "source": [
    "from typing import List\n",
    "from collections import defaultdict, deque\n",
    "from itertools import pairwise\n",
    "\n",
    "\n",
    "class Solution:\n",
    "\n",
    "    def alienOrder(self, words: List[str]) -> str:\n",
    "        adj = defaultdict(set)\n",
    "        ins = defaultdict(int)\n",
    "        o = set()\n",
    "        for w in words:\n",
    "            o |= set(w)\n",
    "        for w1, w2 in pairwise(words):\n",
    "            for x1, x2 in zip(w1, w2):\n",
    "                if x1 != x2:\n",
    "                    ins[x2] += x2 not in adj[x1]\n",
    "                    adj[x1].add(x2)\n",
    "                    break\n",
    "            else:  # 没有触发break\n",
    "                if len(w1) > len(w2):  # 遇到 'abc' 'ab'\n",
    "                    return ''\n",
    "        q = deque([p for p in o if ins[p] == 0])\n",
    "        # print(o, adj, ins, q)\n",
    "\n",
    "        ans = ''\n",
    "        while q:\n",
    "            for _ in range(len(q)):\n",
    "                x = q.popleft()\n",
    "                ans += x\n",
    "                for y in adj[x]:\n",
    "                    ins[y] -= 1\n",
    "                    if ins[y] == 0:\n",
    "                        q.append(y)\n",
    "            # print(ins)\n",
    "        # print(ans)\n",
    "        return ans if len(ans) == len(o) else ''\n",
    "\n",
    "\n",
    "s = Solution()\n",
    "s.alienOrder([\"ac\", \"ab\", \"zc\", \"zb\"])\n"
   ]
  },
  {
   "cell_type": "code",
   "execution_count": null,
   "metadata": {},
   "outputs": [],
   "source": []
  }
 ],
 "metadata": {
  "kernelspec": {
   "display_name": "Python 3",
   "language": "python",
   "name": "python3"
  },
  "language_info": {
   "codemirror_mode": {
    "name": "ipython",
    "version": 3
   },
   "file_extension": ".py",
   "mimetype": "text/x-python",
   "name": "python",
   "nbconvert_exporter": "python",
   "pygments_lexer": "ipython3",
   "version": "3.11.1"
  },
  "orig_nbformat": 4,
  "vscode": {
   "interpreter": {
    "hash": "ff4b1fca65a764b45acb559e482afe389d289dd599b9f8c5fd12ff5c2ea46a65"
   }
  }
 },
 "nbformat": 4,
 "nbformat_minor": 2
}
