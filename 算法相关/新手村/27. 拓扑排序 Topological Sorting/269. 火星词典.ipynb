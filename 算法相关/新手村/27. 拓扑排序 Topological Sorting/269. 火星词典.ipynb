{
 "cells": [
  {
   "cell_type": "code",
   "execution_count": 14,
   "metadata": {},
   "outputs": [
    {
     "data": {
      "text/plain": [
       "'aczb'"
      ]
     },
     "execution_count": 14,
     "metadata": {},
     "output_type": "execute_result"
    }
   ],
   "source": [
    "class Solution:\n",
    "\n",
    "    def alienOrder(self, words: List[str]) -> str:\n",
    "        adj = defaultdict(set)\n",
    "        ins = defaultdict(int)\n",
    "        ws = set()\n",
    "        for w in words:\n",
    "            ws |= set(w)\n",
    "        for w1, w2 in pairwise(words):\n",
    "            for x, y in zip(w1, w2):\n",
    "                if x != y:\n",
    "                    if y not in adj[x]:\n",
    "                        adj[x].add(y)\n",
    "                        ins[y] += 1\n",
    "                    break\n",
    "            else:  # 正常退出\n",
    "                if len(w1) > len(w2):\n",
    "                    return ''\n",
    "        q = deque([w for w in ws if ins[w] == 0])\n",
    "        ans = ''\n",
    "        cnt = 0\n",
    "        while q:\n",
    "            x = q.popleft()\n",
    "            ans += x\n",
    "            cnt += 1\n",
    "            for y in adj[x]:\n",
    "                ins[y] -= 1\n",
    "                if ins[y] == 0:\n",
    "                    q.append(y)\n",
    "        return ans if cnt == len(ws) else ''"
   ]
  },
  {
   "cell_type": "code",
   "execution_count": null,
   "metadata": {},
   "outputs": [],
   "source": [
    "class Solution:\n",
    "\n",
    "    def alienOrder(self, words: List[str]) -> str:\n",
    "        adj = defaultdict(set)\n",
    "        ws = set()\n",
    "        for w in words:\n",
    "            ws |= set(w)\n",
    "        for w1, w2 in pairwise(words):\n",
    "            for x, y in zip(w1, w2):\n",
    "                if x != y:\n",
    "                    if x not in adj[y]:\n",
    "                        adj[y].add(x)\n",
    "                    break\n",
    "            else:  # 正常退出\n",
    "                if len(w1) > len(w2):\n",
    "                    return ''\n",
    "        colors = defaultdict(int)\n",
    "        res = ''\n",
    "\n",
    "        def dfs(x):  # 判断是否成环\n",
    "            # colors[x]: 0未访问 1已经访问 2安全节点\n",
    "            if colors[x] == 1: return True\n",
    "            if colors[x] == 2: return False\n",
    "            # 1.入x 判断和打标记\n",
    "            colors[x] = 1\n",
    "            for y in adj[x]:\n",
    "                if dfs(y): return True\n",
    "            # 2.出x 打标记和加入res\n",
    "            colors[x] = 2\n",
    "            nonlocal res  # 脑中有图\n",
    "            res += x\n",
    "            return False\n",
    "\n",
    "        for w in ws:\n",
    "            if dfs(w): return ''\n",
    "        return res"
   ]
  }
 ],
 "metadata": {
  "kernelspec": {
   "display_name": "Python 3",
   "language": "python",
   "name": "python3"
  },
  "language_info": {
   "codemirror_mode": {
    "name": "ipython",
    "version": 3
   },
   "file_extension": ".py",
   "mimetype": "text/x-python",
   "name": "python",
   "nbconvert_exporter": "python",
   "pygments_lexer": "ipython3",
   "version": "3.11.1"
  },
  "orig_nbformat": 4,
  "vscode": {
   "interpreter": {
    "hash": "ff4b1fca65a764b45acb559e482afe389d289dd599b9f8c5fd12ff5c2ea46a65"
   }
  }
 },
 "nbformat": 4,
 "nbformat_minor": 2
}
