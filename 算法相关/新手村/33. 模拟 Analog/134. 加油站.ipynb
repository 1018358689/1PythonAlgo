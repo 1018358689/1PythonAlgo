{
 "cells": [
  {
   "cell_type": "code",
   "execution_count": 2,
   "metadata": {},
   "outputs": [
    {
     "data": {
      "text/plain": [
       "3"
      ]
     },
     "execution_count": 2,
     "metadata": {},
     "output_type": "execute_result"
    }
   ],
   "source": [
    "from math import inf\n",
    "from typing import List\n",
    "\n",
    "\n",
    "class Solution:\n",
    "\n",
    "    def canCompleteCircuit(self, gas: List[int], cost: List[int]) -> int:\n",
    "        if sum(gas) < sum(cost):\n",
    "            return -1\n",
    "        n = len(gas)\n",
    "        day_rem = inf\n",
    "        tot = 0\n",
    "        for g, c in zip(gas, cost):\n",
    "            tot += g - c  # 一天剩下的油\n",
    "            day_rem = min(day_rem, tot)\n",
    "        if day_rem >= 0:\n",
    "            return 0\n",
    "        for i, (g, c) in enumerate(reversed(list(zip(gas, cost)))):\n",
    "            day_rem += g - c\n",
    "            if day_rem >= 0:\n",
    "                return n - 1 - i\n",
    "        return -1\n",
    "\n",
    "\n",
    "s = Solution()\n",
    "s.canCompleteCircuit([1, 2, 3, 4, 5], [3, 4, 5, 1, 2])\n"
   ]
  },
  {
   "cell_type": "code",
   "execution_count": null,
   "metadata": {},
   "outputs": [],
   "source": [
    "from math import inf\n",
    "from typing import List\n",
    "\n",
    "\n",
    "class Solution:\n",
    "\n",
    "    def canCompleteCircuit(self, gas: List[int], cost: List[int]) -> int:\n",
    "        if sum(gas) < sum(cost):\n",
    "            return -1\n",
    "        start = 0\n",
    "        tot = 0\n",
    "        for i, (g, c) in enumerate(list(zip(gas, cost))):\n",
    "            tot += g - c  # 每个点加油量 可以为负\n",
    "            if tot < 0:  # 在i处的油量<0，说明从之前站点出发的车均无法到达i\n",
    "                start = i + 1  # 尝试从下一个站点i+1重新出发\n",
    "                tot = 0  # 重新出发时油量置为0\n",
    "        return start"
   ]
  }
 ],
 "metadata": {
  "kernelspec": {
   "display_name": "Python 3.10.5 64-bit",
   "language": "python",
   "name": "python3"
  },
  "language_info": {
   "codemirror_mode": {
    "name": "ipython",
    "version": 3
   },
   "file_extension": ".py",
   "mimetype": "text/x-python",
   "name": "python",
   "nbconvert_exporter": "python",
   "pygments_lexer": "ipython3",
   "version": "3.10.5"
  },
  "orig_nbformat": 4,
  "vscode": {
   "interpreter": {
    "hash": "3196968d684371006099b3d55edeef8ed90365227a30deaef86e5d4aa8519be0"
   }
  }
 },
 "nbformat": 4,
 "nbformat_minor": 2
}
