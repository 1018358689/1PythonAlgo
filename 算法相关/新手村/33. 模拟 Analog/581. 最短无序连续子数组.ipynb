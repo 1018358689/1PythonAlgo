{
 "cells": [
  {
   "cell_type": "code",
   "execution_count": 2,
   "metadata": {},
   "outputs": [],
   "source": [
    "from typing import List\n",
    "\n",
    "\n",
    "class Solution:\n",
    "    def findUnsortedSubarray(self, nums: List[int]) -> int:\n",
    "        sortedNum = sorted(nums)\n",
    "        l = 0\n",
    "        while l < len(nums) and nums[l] == sortedNum[l]:\n",
    "            l += 1\n",
    "        if l == len(nums):\n",
    "            return 0\n",
    "        r = len(nums)-1\n",
    "        while nums[r] == sortedNum[r]:\n",
    "            r -= 1\n",
    "        return r-l+1\n"
   ]
  },
  {
   "cell_type": "code",
   "execution_count": 5,
   "metadata": {},
   "outputs": [
    {
     "data": {
      "text/plain": [
       "5"
      ]
     },
     "execution_count": 5,
     "metadata": {},
     "output_type": "execute_result"
    }
   ],
   "source": [
    "from typing import List\n",
    "\n",
    "# ABC三段\n",
    "class Solution:\n",
    "    def findUnsortedSubarray(self, nums: List[int]) -> int:\n",
    "        tmax, tmin = float('-inf'), float('inf')\n",
    "        l = r = 0\n",
    "        for i in range(len(nums)): # AB均<C找AB和C交界处\n",
    "            if nums[i] >= tmax:\n",
    "                tmax = nums[i]\n",
    "            else:\n",
    "                r = i\n",
    "        if r == 0:\n",
    "            return 0\n",
    "        for i in range(len(nums)-1, -1, -1):\n",
    "            if nums[i] <= tmin:\n",
    "                tmin = nums[i]\n",
    "            else:\n",
    "                l = i\n",
    "        return r-l+1\n",
    "\n",
    "\n",
    "s = Solution()\n",
    "s.findUnsortedSubarray([2, 6, 4, 8, 10, 9, 15])\n"
   ]
  }
 ],
 "metadata": {
  "kernelspec": {
   "display_name": "Python 3.10.6 64-bit",
   "language": "python",
   "name": "python3"
  },
  "language_info": {
   "codemirror_mode": {
    "name": "ipython",
    "version": 3
   },
   "file_extension": ".py",
   "mimetype": "text/x-python",
   "name": "python",
   "nbconvert_exporter": "python",
   "pygments_lexer": "ipython3",
   "version": "3.10.6"
  },
  "orig_nbformat": 4,
  "vscode": {
   "interpreter": {
    "hash": "916dbcbb3f70747c44a77c7bcd40155683ae19c65e1c03b4aa3499c5328201f1"
   }
  }
 },
 "nbformat": 4,
 "nbformat_minor": 2
}
