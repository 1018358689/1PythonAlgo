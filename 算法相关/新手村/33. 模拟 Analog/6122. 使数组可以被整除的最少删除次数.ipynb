{
 "cells": [
  {
   "cell_type": "code",
   "execution_count": 4,
   "metadata": {},
   "outputs": [
    {
     "name": "stdout",
     "output_type": "stream",
     "text": [
      "2\n"
     ]
    }
   ],
   "source": [
    "sorted({1,4,2})\n",
    "from sortedcontainers import SortedSet\n",
    "\n",
    "ss = SortedSet([1,1,2])\n",
    "ss.remove(1)\n",
    "for i in ss:\n",
    "    print(i)"
   ]
  },
  {
   "cell_type": "code",
   "execution_count": 5,
   "metadata": {},
   "outputs": [],
   "source": [
    "from typing import List\n",
    "from sortedcontainers import SortedSet\n",
    "import heapq\n",
    "\n",
    "\n",
    "class Solution:\n",
    "    def minOperations(self, nums: List[int], numsDivide: List[int]) -> int:\n",
    "        if min(numsDivide) < min(nums):\n",
    "            return -1\n",
    "        # 预处理numsDivide\n",
    "        numsDivide = SortedSet(numsDivide)\n",
    "        pq = list(numsDivide)\n",
    "        heapq.heapify(pq)\n",
    "        while pq:\n",
    "            cur = heapq.heappop(pq)\n",
    "            for i in range(2, numsDivide[-1] // cur + 2):\n",
    "                tmp = cur * i\n",
    "                if tmp in numsDivide:\n",
    "                    numsDivide.remove(tmp)\n",
    "        ans = 0\n",
    "        heapq.heapify(nums)\n",
    "        while nums:\n",
    "            cur = heapq.heappop(nums)\n",
    "            if all(i % cur == 0 for i in numsDivide):\n",
    "                return ans\n",
    "            ans += 1\n",
    "        return -1"
   ]
  },
  {
   "cell_type": "code",
   "execution_count": 10,
   "metadata": {},
   "outputs": [
    {
     "data": {
      "text/plain": [
       "-1"
      ]
     },
     "execution_count": 10,
     "metadata": {},
     "output_type": "execute_result"
    }
   ],
   "source": [
    "next((i for i in (1,2) if i==4),-1)"
   ]
  },
  {
   "cell_type": "code",
   "execution_count": 13,
   "metadata": {},
   "outputs": [
    {
     "ename": "TypeError",
     "evalue": "gcd expected 2 arguments, got 5",
     "output_type": "error",
     "traceback": [
      "\u001b[1;31m---------------------------------------------------------------------------\u001b[0m",
      "\u001b[1;31mTypeError\u001b[0m                                 Traceback (most recent call last)",
      "\u001b[1;32m~\\AppData\\Local\\Temp/ipykernel_7808/4073189211.py\u001b[0m in \u001b[0;36m<module>\u001b[1;34m\u001b[0m\n\u001b[0;32m      1\u001b[0m \u001b[1;32mfrom\u001b[0m \u001b[0mmath\u001b[0m \u001b[1;32mimport\u001b[0m \u001b[0mgcd\u001b[0m\u001b[1;33m\u001b[0m\u001b[1;33m\u001b[0m\u001b[0m\n\u001b[0;32m      2\u001b[0m \u001b[0ml\u001b[0m \u001b[1;33m=\u001b[0m  \u001b[1;33m[\u001b[0m\u001b[1;36m9\u001b[0m\u001b[1;33m,\u001b[0m\u001b[1;36m6\u001b[0m\u001b[1;33m,\u001b[0m\u001b[1;36m9\u001b[0m\u001b[1;33m,\u001b[0m\u001b[1;36m3\u001b[0m\u001b[1;33m,\u001b[0m\u001b[1;36m15\u001b[0m\u001b[1;33m]\u001b[0m\u001b[1;33m\u001b[0m\u001b[1;33m\u001b[0m\u001b[0m\n\u001b[1;32m----> 3\u001b[1;33m \u001b[0mgcd\u001b[0m\u001b[1;33m(\u001b[0m\u001b[1;33m*\u001b[0m\u001b[0ml\u001b[0m\u001b[1;33m)\u001b[0m\u001b[1;33m\u001b[0m\u001b[1;33m\u001b[0m\u001b[0m\n\u001b[0m",
      "\u001b[1;31mTypeError\u001b[0m: gcd expected 2 arguments, got 5"
     ]
    }
   ],
   "source": [
    "from math import gcd\n",
    "l =  [9,6,9,3,15]\n",
    "gcd(*l) # python3.9 gcd对任意数量支持"
   ]
  },
  {
   "cell_type": "code",
   "execution_count": 11,
   "metadata": {},
   "outputs": [],
   "source": [
    "from typing import List\n",
    "from functools import reduce\n",
    "from math import gcd\n",
    "import heapq\n",
    "\n",
    "\n",
    "class Solution:\n",
    "    def minOperations(self, nums: List[int], numsDivide: List[int]) -> int:\n",
    "        # 多个数的最大公约数\n",
    "        # g = reduce(gcd, numsDivide)  # set(numsDivide)\n",
    "        g = gcd(*numsDivide)\n",
    "        ans = 0\n",
    "        heapq.heapify(nums)\n",
    "        while nums:\n",
    "            cur = heapq.heappop(nums)\n",
    "            if g % cur == 0:\n",
    "                return ans\n",
    "            ans += 1\n",
    "        return -1"
   ]
  },
  {
   "cell_type": "code",
   "execution_count": null,
   "metadata": {},
   "outputs": [],
   "source": [
    "class Solution:\n",
    "    def minOperations(self, nums: List[int], numsDivide: List[int]) -> int:\n",
    "        g = reduce(gcd, numsDivide)\n",
    "        nums.sort()\n",
    "        return next((i for i, x in enumerate(nums) if g % x == 0), -1)\n",
    "\n",
    "\n",
    "class Solution:\n",
    "    def minOperations(self, nums: List[int], numsDivide: List[int]) -> int:\n",
    "        g = reduce(gcd, numsDivide)\n",
    "        mn = min((x for x in nums if g % x == 0), default=0)\n",
    "        return sum(x < mn for x in nums) if mn else -1\n",
    "\n",
    "\n",
    "# 作者：endlesscheng\n",
    "# 链接：https://leetcode.cn/problems/minimum-deletions-to-make-array-divisible/solution/zhuan-huan-tan-xin-pythonjavacgo-by-endl-vdgw/\n",
    "# 来源：力扣（LeetCode）\n",
    "# 著作权归作者所有。商业转载请联系作者获得授权，非商业转载请注明出处。"
   ]
  }
 ],
 "metadata": {
  "kernelspec": {
   "display_name": "Python 3.8.10 64-bit",
   "language": "python",
   "name": "python3"
  },
  "language_info": {
   "codemirror_mode": {
    "name": "ipython",
    "version": 3
   },
   "file_extension": ".py",
   "mimetype": "text/x-python",
   "name": "python",
   "nbconvert_exporter": "python",
   "pygments_lexer": "ipython3",
   "version": "3.8.10"
  },
  "orig_nbformat": 4,
  "vscode": {
   "interpreter": {
    "hash": "570feb405e2e27c949193ac68f46852414290d515b0ba6e5d90d076ed2284471"
   }
  }
 },
 "nbformat": 4,
 "nbformat_minor": 2
}
