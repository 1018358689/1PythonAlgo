{
 "cells": [
  {
   "cell_type": "code",
   "execution_count": 4,
   "metadata": {},
   "outputs": [
    {
     "data": {
      "text/plain": [
       "[('a', 1), ('b', 2), ('c', 1), ('d', 3), ('e', 1)]"
      ]
     },
     "execution_count": 4,
     "metadata": {},
     "output_type": "execute_result"
    }
   ],
   "source": [
    "from itertools import groupby\n",
    "a = 'abbcddde'\n",
    "[(n,len(list(c)))for n,c in groupby(a)]"
   ]
  },
  {
   "cell_type": "code",
   "execution_count": 7,
   "metadata": {},
   "outputs": [
    {
     "name": "stdout",
     "output_type": "stream",
     "text": [
      "a 1\n",
      "b 2\n",
      "c 3\n"
     ]
    }
   ],
   "source": [
    "for i,j in zip('abc','123',strict=True):\n",
    "    print(i,j)"
   ]
  },
  {
   "cell_type": "code",
   "execution_count": null,
   "metadata": {},
   "outputs": [],
   "source": [
    "from typing import List\n",
    "from itertools import groupby\n",
    "\n",
    "\n",
    "class Solution:\n",
    "\n",
    "    def expressiveWords(self, s: str, words: List[str]) -> int:\n",
    "        group = [(n, len(list(c))) for n, c in groupby(s)]\n",
    "        sz = len(group)\n",
    "        ans = 0\n",
    "        for word in words:\n",
    "            g2 = [(n, len(list(c))) for n, c in groupby(word)]\n",
    "            if len(g2) == sz and all((n1 == n2 and (c1 == c2 or c1 > c2 and c1 >= 3)) for (n1, c1), (n2, c2) in zip(group, g2)):\n",
    "                ans += 1\n",
    "        return ans\n"
   ]
  }
 ],
 "metadata": {
  "kernelspec": {
   "display_name": "Python 3.10.5 64-bit",
   "language": "python",
   "name": "python3"
  },
  "language_info": {
   "codemirror_mode": {
    "name": "ipython",
    "version": 3
   },
   "file_extension": ".py",
   "mimetype": "text/x-python",
   "name": "python",
   "nbconvert_exporter": "python",
   "pygments_lexer": "ipython3",
   "version": "3.10.5"
  },
  "orig_nbformat": 4,
  "vscode": {
   "interpreter": {
    "hash": "3196968d684371006099b3d55edeef8ed90365227a30deaef86e5d4aa8519be0"
   }
  }
 },
 "nbformat": 4,
 "nbformat_minor": 2
}
