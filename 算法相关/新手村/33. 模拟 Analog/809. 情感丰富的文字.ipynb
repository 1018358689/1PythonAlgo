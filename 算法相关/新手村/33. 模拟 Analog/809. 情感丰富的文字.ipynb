{
 "cells": [
  {
   "cell_type": "code",
   "execution_count": 4,
   "metadata": {},
   "outputs": [
    {
     "data": {
      "text/plain": [
       "[('a', 1), ('b', 2), ('c', 1), ('d', 3), ('e', 1)]"
      ]
     },
     "execution_count": 4,
     "metadata": {},
     "output_type": "execute_result"
    }
   ],
   "source": [
    "from itertools import groupby\n",
    "a = 'abbcddde'\n",
    "[(n,len(list(c)))for n,c in groupby(a)]"
   ]
  },
  {
   "cell_type": "code",
   "execution_count": 7,
   "metadata": {},
   "outputs": [
    {
     "name": "stdout",
     "output_type": "stream",
     "text": [
      "a 1\n",
      "b 2\n",
      "c 3\n"
     ]
    }
   ],
   "source": [
    "for i,j in zip('abc','123',strict=True):\n",
    "    print(i,j)"
   ]
  },
  {
   "cell_type": "code",
   "execution_count": null,
   "metadata": {},
   "outputs": [],
   "source": [
    "from typing import List\n",
    "\n",
    "\n",
    "class Solution:\n",
    "\n",
    "    def expressiveWords(self, s: str, words: List[str]) -> int:\n",
    "        g1 = [(c, len(list(v))) for c, v in groupby(s)]\n",
    "\n",
    "        def check(st):  # st是否可以扩展成s\n",
    "            g2 = [(c, len(list(v))) for c, v in groupby(st)]\n",
    "            if len(g1) != len(g2): return 0\n",
    "            return all(c1 == c2 and (v1 == v2 or (v1 > v2 and v1 >= 3)) for (c1, v1), (c2, v2) in zip(g1, g2))\n",
    "\n",
    "        return sum(check(x) for x in words)"
   ]
  },
  {
   "cell_type": "code",
   "execution_count": null,
   "metadata": {},
   "outputs": [],
   "source": [
    "class Solution:\n",
    "\n",
    "    def expressiveWords(self, s: str, words: List[str]) -> int:\n",
    "\n",
    "        def model(word):\n",
    "            w, cnts = '', []\n",
    "            p = 0\n",
    "            n = len(word)\n",
    "            while p < n:\n",
    "                x = word[p]\n",
    "                pre = p\n",
    "                while p + 1 < n and word[p] == word[p + 1]:\n",
    "                    p += 1\n",
    "                w += x\n",
    "                cnts.append(p - pre + 1)\n",
    "                p += 1\n",
    "            return w, cnts\n",
    "\n",
    "        w1, cnts1 = model(s)\n",
    "        ans = 0\n",
    "        for word in words:\n",
    "            w2, cnts2 = model(word)\n",
    "            if w1 == w2 and all(x == y or (x > y and x >= 3) for x, y in zip(cnts1, cnts2)):\n",
    "                ans += 1\n",
    "        return ans"
   ]
  }
 ],
 "metadata": {
  "kernelspec": {
   "display_name": "Python 3.10.5 64-bit",
   "language": "python",
   "name": "python3"
  },
  "language_info": {
   "codemirror_mode": {
    "name": "ipython",
    "version": 3
   },
   "file_extension": ".py",
   "mimetype": "text/x-python",
   "name": "python",
   "nbconvert_exporter": "python",
   "pygments_lexer": "ipython3",
   "version": "3.10.5"
  },
  "orig_nbformat": 4,
  "vscode": {
   "interpreter": {
    "hash": "3196968d684371006099b3d55edeef8ed90365227a30deaef86e5d4aa8519be0"
   }
  }
 },
 "nbformat": 4,
 "nbformat_minor": 2
}
