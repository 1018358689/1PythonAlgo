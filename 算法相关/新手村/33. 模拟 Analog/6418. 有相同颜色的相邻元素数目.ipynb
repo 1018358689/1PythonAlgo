{
 "cells": [
  {
   "cell_type": "code",
   "execution_count": null,
   "metadata": {},
   "outputs": [],
   "source": [
    "class Solution:\n",
    "\n",
    "    def colorTheArray(self, n: int, queries: List[List[int]]) -> List[int]:\n",
    "        cnt = 0  # 相邻元素数目\n",
    "        nums = [0] * (n + 2)  # 避免分类\n",
    "        ans = []\n",
    "        for x, num in queries:\n",
    "            x += 1\n",
    "            if nums[x]:\n",
    "                # 先去掉当前元素对 cnt 的影响，修改颜色后，再加上当前元素对 cnt 的影响。\n",
    "                cnt -= (nums[x] == nums[x - 1]) + (nums[x] == nums[x + 1])\n",
    "            nums[x] = num\n",
    "            cnt += (nums[x] == nums[x - 1]) + (nums[x] == nums[x + 1])\n",
    "            ans.append(cnt)\n",
    "        return ans"
   ]
  }
 ],
 "metadata": {
  "language_info": {
   "name": "python"
  },
  "orig_nbformat": 4
 },
 "nbformat": 4,
 "nbformat_minor": 2
}
