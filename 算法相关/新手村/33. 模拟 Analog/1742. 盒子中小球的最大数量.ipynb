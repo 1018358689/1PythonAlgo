{
 "cells": [
  {
   "cell_type": "code",
   "execution_count": null,
   "metadata": {},
   "outputs": [],
   "source": [
    "from functools import lru_cache\n",
    "\n",
    "\n",
    "class Solution:\n",
    "\n",
    "    def countBalls(self, lowLimit: int, highLimit: int) -> int:\n",
    "\n",
    "        @lru_cache(None)\n",
    "        def cal(num):\n",
    "            return 0 if num == 0 else num % 10 + cal(num // 10)\n",
    "\n",
    "        ans = 0\n",
    "        cnt = [0] * 46\n",
    "        for n in range(lowLimit, highLimit + 1):\n",
    "            num = cal(n)\n",
    "            cnt[num] += 1\n",
    "            ans = max(ans, cnt[num])\n",
    "        return ans"
   ]
  }
 ],
 "metadata": {
  "language_info": {
   "name": "python"
  },
  "orig_nbformat": 4
 },
 "nbformat": 4,
 "nbformat_minor": 2
}
