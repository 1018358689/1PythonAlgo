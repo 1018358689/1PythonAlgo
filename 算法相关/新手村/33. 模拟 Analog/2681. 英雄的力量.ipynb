{
 "cells": [
  {
   "cell_type": "code",
   "execution_count": null,
   "metadata": {},
   "outputs": [],
   "source": [
    "class Solution:\n",
    "\n",
    "    def sumOfPower(self, nums: List[int]) -> int:\n",
    "        MOD = 10**9 + 7\n",
    "        ans = 0\n",
    "        s = 0\n",
    "        for x in sorted(nums):\n",
    "            ans = (ans + s % MOD)\n",
    "            # ans = (ans + s * x ** 2 + x ** 3) % MOD\n",
    "            s = (2 * s + x) % MOD\n",
    "        return ans"
   ]
  }
 ],
 "metadata": {
  "language_info": {
   "name": "python"
  },
  "orig_nbformat": 4
 },
 "nbformat": 4,
 "nbformat_minor": 2
}
