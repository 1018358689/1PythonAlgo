{
 "cells": [
  {
   "cell_type": "code",
   "execution_count": null,
   "metadata": {},
   "outputs": [],
   "source": [
    "from typing import List\n",
    "\n",
    "\n",
    "class Solution:\n",
    "\n",
    "    def search(self, nums, target):  # >=target\n",
    "        l, r = 0, len(nums) - 1\n",
    "        while l <= r:\n",
    "            m = l + r >> 1\n",
    "            if nums[m][0] >= target:\n",
    "                r = m - 1\n",
    "            else:\n",
    "                l = m + 1\n",
    "        return l\n",
    "\n",
    "    def insert(self, intervals: List[List[int]], newInterval: List[int]) -> List[List[int]]:\n",
    "        index = self.search(intervals, newInterval[0])\n",
    "        intervals = intervals[:index] + [newInterval] + intervals[index:]\n",
    "\n",
    "        def check(l1, l2):  # 检查l1和l2区间是否有交集\n",
    "            if l1[1] < l2[0] or l1[0] > l2[1]:\n",
    "                return False\n",
    "            return True\n",
    "\n",
    "        def merge(l1, l2):  # 合并l1和l2区间\n",
    "            return [min(l1[0], l2[0]), max(l1[1], l2[1])]\n",
    "\n",
    "        ans = [intervals[0]]\n",
    "        for i in range(1, len(intervals)):\n",
    "            l1 = ans[-1]\n",
    "            l2 = intervals[i]\n",
    "            if check(l1, l2):\n",
    "                ans[-1] = merge(l1, l2)\n",
    "            else:\n",
    "                ans.append(l2)\n",
    "        return ans\n"
   ]
  }
 ],
 "metadata": {
  "language_info": {
   "name": "python"
  },
  "orig_nbformat": 4
 },
 "nbformat": 4,
 "nbformat_minor": 2
}
