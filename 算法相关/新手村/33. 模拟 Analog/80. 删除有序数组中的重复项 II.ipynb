{
 "cells": [
  {
   "cell_type": "code",
   "execution_count": null,
   "metadata": {},
   "outputs": [],
   "source": [
    "class Solution:\n",
    "    def removeDuplicates(self, nums: List[int]) -> int:\n",
    "        k = 0 # k 即将确定的下标 k-2 已经确定的倒数第二个下标 （值相同则跳过 因为夹在中间的也会相同 相同有3 矛盾了）\n",
    "        for i, x in enumerate(nums):\n",
    "            if i < 2 or nums[k - 2] != x:\n",
    "                nums[k] = x\n",
    "                k += 1\n",
    "        return k"
   ]
  },
  {
   "cell_type": "code",
   "execution_count": null,
   "metadata": {},
   "outputs": [],
   "source": [
    "class Solution:\n",
    "\n",
    "    def removeDuplicates(self, nums: List[int]) -> int:\n",
    "        k = 0  # k 即将确定的下标 k-2 已经确定的倒数第二个下标 （值相同则跳过 因为夹在中间的也会相同 相同有3 矛盾了）\n",
    "        for i, x in enumerate(nums):\n",
    "            if i >= 2 and nums[k - 2] == x:\n",
    "                continue\n",
    "            nums[k] = x\n",
    "            k += 1\n",
    "        return k"
   ]
  },
  {
   "cell_type": "code",
   "execution_count": null,
   "metadata": {},
   "outputs": [],
   "source": [
    "class Solution:\n",
    "    def removeDuplicates(self, nums: List[int]) -> int:\n",
    "        def solve(k):\n",
    "            u = 0\n",
    "            for x in nums:\n",
    "                if u < k or nums[u - k] != x:\n",
    "                    nums[u] = x\n",
    "                    u += 1\n",
    "            return u\n",
    "        return solve(2)\n",
    "\n",
    "# 作者：宫水三叶\n",
    "# 链接：https://leetcode.cn/problems/remove-duplicates-from-sorted-array-ii/solutions/702970/gong-shui-san-xie-guan-yu-shan-chu-you-x-glnq/\n",
    "# 来源：力扣（LeetCode）\n",
    "# 著作权归作者所有。商业转载请联系作者获得授权，非商业转载请注明出处。"
   ]
  }
 ],
 "metadata": {
  "language_info": {
   "name": "python"
  },
  "orig_nbformat": 4
 },
 "nbformat": 4,
 "nbformat_minor": 2
}
