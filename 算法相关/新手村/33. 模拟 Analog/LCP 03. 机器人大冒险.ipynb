{
 "cells": [
  {
   "cell_type": "code",
   "execution_count": null,
   "metadata": {},
   "outputs": [],
   "source": [
    "from typing import List\n",
    "class Solution:\n",
    "\n",
    "    def robot(self, command: str, obstacles: List[List[int]], x: int, y: int) -> bool:\n",
    "        sp = [(0, 0)]  # 索引每一步的位置\n",
    "        s = len(command)  # 一个循环的步数\n",
    "        u = r = 0\n",
    "        for c in command:\n",
    "            if c == 'U':\n",
    "                u += 1\n",
    "            else:\n",
    "                r += 1\n",
    "            sp.append((r, u))\n",
    "        quo, rem = divmod(x + y, s)\n",
    "        if quo * r + sp[rem][0] != x or quo * u + sp[rem][1] != y:\n",
    "            return False\n",
    "        for i, j in obstacles:\n",
    "            if i + j > x + y:\n",
    "                continue\n",
    "            quo, rem = divmod(i + j, s)\n",
    "            if quo * r + sp[rem][0] == i and quo * u + sp[rem][1] == j:\n",
    "                return False\n",
    "        return True"
   ]
  }
 ],
 "metadata": {
  "kernelspec": {
   "display_name": "Python 3.10.5 64-bit",
   "language": "python",
   "name": "python3"
  },
  "language_info": {
   "name": "python",
   "version": "3.10.5"
  },
  "orig_nbformat": 4,
  "vscode": {
   "interpreter": {
    "hash": "3196968d684371006099b3d55edeef8ed90365227a30deaef86e5d4aa8519be0"
   }
  }
 },
 "nbformat": 4,
 "nbformat_minor": 2
}
