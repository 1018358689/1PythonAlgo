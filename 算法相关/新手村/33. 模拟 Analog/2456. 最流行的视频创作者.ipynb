{
 "cells": [
  {
   "cell_type": "code",
   "execution_count": 9,
   "metadata": {},
   "outputs": [
    {
     "data": {
      "text/plain": [
       "SortedDict({2: ['a']})"
      ]
     },
     "execution_count": 9,
     "metadata": {},
     "output_type": "execute_result"
    }
   ],
   "source": [
    "from sortedcontainers import SortedDict\n",
    "from collections import defaultdict\n",
    "d = defaultdict(list)\n",
    "d[2].append('a')\n",
    "s = SortedDict(d)\n",
    "s"
   ]
  },
  {
   "cell_type": "code",
   "execution_count": 20,
   "metadata": {},
   "outputs": [
    {
     "data": {
      "text/plain": [
       "[['alice', 'one'], ['bob', 'two']]"
      ]
     },
     "execution_count": 20,
     "metadata": {},
     "output_type": "execute_result"
    }
   ],
   "source": [
    "from sortedcontainers import SortedList, SortedDict\n",
    "from typing import List\n",
    "from collections import defaultdict\n",
    "\n",
    "\n",
    "class Solution:\n",
    "\n",
    "    def mostPopularCreator(self, creators: List[str], ids: List[str], views: List[int]) -> List[List[str]]:\n",
    "        c2vi = defaultdict(lambda: SortedList(key=lambda x: (-x[0], x[1])))\n",
    "        for c, i, v in zip(creators, ids, views):\n",
    "            c2vi[c].add((v, i))\n",
    "        # print(c2vi)\n",
    "        v2c = defaultdict(list)\n",
    "        for c, sl in c2vi.items():\n",
    "            s = sum(v for v, _ in sl)\n",
    "            v2c[s].append(c)\n",
    "        v2c = SortedDict(v2c)\n",
    "        return [[c, c2vi[c][0][1]] for c in v2c.values()[-1]]\n",
    "\n",
    "\n",
    "s = Solution()\n",
    "s.mostPopularCreator([\"alice\", \"bob\", \"alice\", \"chris\"], [\"one\", \"two\", \"three\", \"four\"], [5, 10, 5, 4])\n"
   ]
  },
  {
   "cell_type": "code",
   "execution_count": 22,
   "metadata": {},
   "outputs": [
    {
     "data": {
      "text/plain": [
       "[['alice', 'one'], ['bob', 'two']]"
      ]
     },
     "execution_count": 22,
     "metadata": {},
     "output_type": "execute_result"
    }
   ],
   "source": [
    "from sortedcontainers import SortedList\n",
    "from typing import List\n",
    "from collections import defaultdict\n",
    "\n",
    "\n",
    "class Solution:\n",
    "\n",
    "    def mostPopularCreator(self, creators: List[str], ids: List[str], views: List[int]) -> List[List[str]]:\n",
    "        c2vi = defaultdict(lambda: SortedList(key=lambda x: (-x[0], x[1])))\n",
    "        for c, i, v in zip(creators, ids, views):\n",
    "            c2vi[c].add((v, i))\n",
    "        v2c = defaultdict(list)\n",
    "        for c, sl in c2vi.items():\n",
    "            s = sum(v for v, _ in sl)\n",
    "            v2c[s].append(c)\n",
    "        return [[c, c2vi[c][0][1]] for c in v2c[max(v2c.keys())]]\n",
    "\n",
    "\n",
    "s = Solution()\n",
    "s.mostPopularCreator([\"alice\", \"bob\", \"alice\", \"chris\"], [\"one\", \"two\", \"three\", \"four\"], [5, 10, 5, 4])\n"
   ]
  },
  {
   "cell_type": "code",
   "execution_count": 24,
   "metadata": {},
   "outputs": [
    {
     "data": {
      "text/plain": [
       "[['alice', 'one'], ['bob', 'two']]"
      ]
     },
     "execution_count": 24,
     "metadata": {},
     "output_type": "execute_result"
    }
   ],
   "source": [
    "from typing import List\n",
    "\n",
    "\n",
    "class Solution:\n",
    "\n",
    "    def mostPopularCreator(self, creators: List[str], ids: List[str], views: List[int]) -> List[List[str]]:\n",
    "        m, max_view_sum = {}, 0  # m:播放量和,最大播放量,最大播放量对应id\n",
    "        for c, i, v in zip(creators, ids, views):\n",
    "            if c not in m:\n",
    "                m[c] = [v, v, i]\n",
    "            else:\n",
    "                item = m[c]\n",
    "                item[0] += v\n",
    "                if v > item[1] or (v == item[1] and i < item[2]):\n",
    "                    item[1] = v\n",
    "                    item[2] = i\n",
    "            max_view_sum = max(max_view_sum, m[c][0])\n",
    "        return [[c, i] for c, (v, _, i) in m.items() if v == max_view_sum]\n",
    "\n",
    "\n",
    "s = Solution()\n",
    "s.mostPopularCreator([\"alice\", \"bob\", \"alice\", \"chris\"], [\"one\", \"two\", \"three\", \"four\"], [5, 10, 5, 4])\n"
   ]
  },
  {
   "cell_type": "code",
   "execution_count": null,
   "metadata": {},
   "outputs": [],
   "source": []
  }
 ],
 "metadata": {
  "kernelspec": {
   "display_name": "Python 3.10.5 64-bit",
   "language": "python",
   "name": "python3"
  },
  "language_info": {
   "codemirror_mode": {
    "name": "ipython",
    "version": 3
   },
   "file_extension": ".py",
   "mimetype": "text/x-python",
   "name": "python",
   "nbconvert_exporter": "python",
   "pygments_lexer": "ipython3",
   "version": "3.10.5"
  },
  "orig_nbformat": 4,
  "vscode": {
   "interpreter": {
    "hash": "3196968d684371006099b3d55edeef8ed90365227a30deaef86e5d4aa8519be0"
   }
  }
 },
 "nbformat": 4,
 "nbformat_minor": 2
}
