{
 "cells": [
  {
   "cell_type": "code",
   "execution_count": null,
   "metadata": {},
   "outputs": [],
   "source": [
    "from collections import Counter\n",
    "from functools import reduce\n",
    "from math import comb\n",
    "\n",
    "\n",
    "class Solution:\n",
    "\n",
    "    def countAnagrams(self, s: str) -> int:\n",
    "        # too ->  too;oto;oot\n",
    "        MOD = 10**9 + 7\n",
    "\n",
    "        def cal(s):\n",
    "            ans = 1\n",
    "            n = len(s)\n",
    "            for v in Counter(s).values():\n",
    "                ans *= comb(n, v)\n",
    "                n -= v\n",
    "            return ans\n",
    "\n",
    "        return reduce(lambda x, y: x * y, (cal(x) for x in s.split())) % MOD\n"
   ]
  }
 ],
 "metadata": {
  "language_info": {
   "name": "python"
  },
  "orig_nbformat": 4
 },
 "nbformat": 4,
 "nbformat_minor": 2
}
