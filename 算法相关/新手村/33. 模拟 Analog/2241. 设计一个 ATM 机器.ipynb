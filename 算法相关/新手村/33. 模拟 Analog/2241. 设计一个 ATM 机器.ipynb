{
 "cells": [
  {
   "cell_type": "code",
   "execution_count": null,
   "metadata": {},
   "outputs": [],
   "source": [
    "class ATM:\n",
    "\n",
    "    def __init__(self):\n",
    "        self.cnts = [0] * 5\n",
    "        self.vals = [20, 50, 100, 200, 500]\n",
    "\n",
    "    def deposit(self, banknotesCount: List[int]) -> None:\n",
    "        for i, x in enumerate(banknotesCount):\n",
    "            self.cnts[i] += x\n",
    "\n",
    "    def withdraw(self, amount: int) -> List[int]:\n",
    "        need = [0] * 5\n",
    "        for i in range(4, -1, -1):\n",
    "            need[i] = min(amount // self.vals[i], self.cnts[i])  # 需求\n",
    "            amount -= self.vals[i] * need[i]\n",
    "            if amount == 0:\n",
    "                self.cnts = [self.cnts[i] - need[i] for i in range(5)]\n",
    "                return need\n",
    "        return [-1]\n",
    "\n",
    "\n",
    "# Your ATM object will be instantiated and called as such:\n",
    "# obj = ATM()\n",
    "# obj.deposit(banknotesCount)\n",
    "# param_2 = obj.withdraw(amount)"
   ]
  }
 ],
 "metadata": {
  "language_info": {
   "name": "python"
  },
  "orig_nbformat": 4
 },
 "nbformat": 4,
 "nbformat_minor": 2
}
