{
 "cells": [
  {
   "cell_type": "code",
   "execution_count": null,
   "metadata": {},
   "outputs": [],
   "source": [
    "class Solution:\n",
    "\n",
    "    def minOperations(self, nums: List[int]) -> int:\n",
    "        # 从nums到全0 碰到奇数就-1 偶数//2 取最大\n",
    "        db = inc = 0\n",
    "        for x in nums:\n",
    "            db2 = 0\n",
    "            while x > 0:\n",
    "                if x & 1:\n",
    "                    x -= 1\n",
    "                    inc += 1\n",
    "                else:\n",
    "                    x >>= 1\n",
    "                    db2 += 1\n",
    "            db = max(db, db2)\n",
    "        return db + inc"
   ]
  },
  {
   "cell_type": "code",
   "execution_count": 7,
   "metadata": {},
   "outputs": [
    {
     "data": {
      "text/plain": [
       "[(0, 1), (1, 4), (2, 6), (3, 2), (4, 3)]"
      ]
     },
     "execution_count": 7,
     "metadata": {},
     "output_type": "execute_result"
    }
   ],
   "source": [
    "a = [1,4,6,2,3]\n",
    "list(enumerate(a))"
   ]
  },
  {
   "cell_type": "code",
   "execution_count": null,
   "metadata": {},
   "outputs": [],
   "source": []
  }
 ],
 "metadata": {
  "kernelspec": {
   "display_name": "Python 3",
   "language": "python",
   "name": "python3"
  },
  "language_info": {
   "codemirror_mode": {
    "name": "ipython",
    "version": 3
   },
   "file_extension": ".py",
   "mimetype": "text/x-python",
   "name": "python",
   "nbconvert_exporter": "python",
   "pygments_lexer": "ipython3",
   "version": "3.11.3"
  },
  "orig_nbformat": 4
 },
 "nbformat": 4,
 "nbformat_minor": 2
}
