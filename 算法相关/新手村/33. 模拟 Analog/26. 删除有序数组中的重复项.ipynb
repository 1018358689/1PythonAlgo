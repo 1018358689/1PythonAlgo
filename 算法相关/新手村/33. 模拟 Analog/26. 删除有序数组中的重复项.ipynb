{
 "cells": [
  {
   "cell_type": "code",
   "execution_count": null,
   "metadata": {},
   "outputs": [],
   "source": [
    "from typing import List\n",
    "# 重复的跳过 不重复的确定\n",
    "\n",
    "\n",
    "class Solution:\n",
    "\n",
    "    def removeDuplicates(self, nums: List[int]) -> int:\n",
    "        k = 0  # 已经确定的 结尾索引\n",
    "        for num in nums:\n",
    "            if num != nums[k]:\n",
    "                k += 1\n",
    "                nums[k] = num\n",
    "        return k + 1\n"
   ]
  },
  {
   "cell_type": "code",
   "execution_count": null,
   "metadata": {},
   "outputs": [],
   "source": [
    "from typing import List\n",
    "# 重复的跳过 不重复的确定\n",
    "\n",
    "\n",
    "class Solution:\n",
    "\n",
    "    def removeDuplicates(self, nums: List[int]) -> int:\n",
    "        k = 0  # k下一个要确定的索引 k-1已经确定的结尾索引\n",
    "        for i, x in enumerate(nums):\n",
    "            if i < 1 or x != nums[k - 1]:\n",
    "                nums[k] = x\n",
    "                k += 1\n",
    "        return k"
   ]
  }
 ],
 "metadata": {
  "kernelspec": {
   "display_name": "Python 3",
   "language": "python",
   "name": "python3"
  },
  "language_info": {
   "name": "python",
   "version": "3.10.5 (tags/v3.10.5:f377153, Jun  6 2022, 16:14:13) [MSC v.1929 64 bit (AMD64)]"
  },
  "orig_nbformat": 4,
  "vscode": {
   "interpreter": {
    "hash": "3196968d684371006099b3d55edeef8ed90365227a30deaef86e5d4aa8519be0"
   }
  }
 },
 "nbformat": 4,
 "nbformat_minor": 2
}
