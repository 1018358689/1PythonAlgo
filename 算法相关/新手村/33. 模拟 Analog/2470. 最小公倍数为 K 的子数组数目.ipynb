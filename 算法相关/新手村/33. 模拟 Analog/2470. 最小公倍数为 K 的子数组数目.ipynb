{
 "cells": [
  {
   "cell_type": "code",
   "execution_count": null,
   "metadata": {},
   "outputs": [],
   "source": [
    "from typing import List\n",
    "from math import lcm\n",
    "\n",
    "\n",
    "class Solution:\n",
    "\n",
    "    def subarrayLCM(self, nums: List[int], k: int) -> int:\n",
    "        ans = 0\n",
    "        lgh = len(nums)\n",
    "        for i in range(lgh):\n",
    "            LCM = 1\n",
    "            for j in range(i, lgh):\n",
    "                LCM = lcm(LCM, nums[j])\n",
    "                if k % LCM:  # if LCM > k:\n",
    "                    break\n",
    "                if LCM == k:\n",
    "                    ans += 1\n",
    "        return ans"
   ]
  }
 ],
 "metadata": {
  "language_info": {
   "name": "python"
  },
  "orig_nbformat": 4
 },
 "nbformat": 4,
 "nbformat_minor": 2
}
