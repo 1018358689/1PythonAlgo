{
 "cells": [
  {
   "cell_type": "code",
   "execution_count": 1,
   "metadata": {},
   "outputs": [],
   "source": [
    "class Solution:\n",
    "\n",
    "    def mergeAlternately(self, word1: str, word2: str) -> str:\n",
    "        p1 = p2 = 0\n",
    "        ans = ''\n",
    "        while p1 < len(word1) and p2 < len(word2):\n",
    "            ans += word1[p1]\n",
    "            ans += word2[p2]\n",
    "            p1 += 1\n",
    "            p2 += 1\n",
    "        ans += word1[p1:] + word2[p2:]\n",
    "        return ans"
   ]
  },
  {
   "cell_type": "code",
   "execution_count": 1,
   "metadata": {},
   "outputs": [],
   "source": [
    "from itertools import zip_longest\n",
    "\n",
    "\n",
    "class Solution:\n",
    "\n",
    "    def mergeAlternately(self, word1: str, word2: str) -> str:\n",
    "        return ''.join(i + j for i, j in zip_longest(word1, word2, fillvalue=''))\n"
   ]
  }
 ],
 "metadata": {
  "kernelspec": {
   "display_name": "Python 3.10.6 64-bit",
   "language": "python",
   "name": "python3"
  },
  "language_info": {
   "codemirror_mode": {
    "name": "ipython",
    "version": 3
   },
   "file_extension": ".py",
   "mimetype": "text/x-python",
   "name": "python",
   "nbconvert_exporter": "python",
   "pygments_lexer": "ipython3",
   "version": "3.10.6"
  },
  "orig_nbformat": 4,
  "vscode": {
   "interpreter": {
    "hash": "dfbf064e0f2c8839bc658dd75dfc0b8f09a0440078cae3024109b27659b69d06"
   }
  }
 },
 "nbformat": 4,
 "nbformat_minor": 2
}
