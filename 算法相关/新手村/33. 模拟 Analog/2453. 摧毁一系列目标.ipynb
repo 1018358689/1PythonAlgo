{
 "cells": [
  {
   "cell_type": "code",
   "execution_count": null,
   "metadata": {},
   "outputs": [],
   "source": [
    "from collections import defaultdict\n",
    "from typing import List\n",
    "\n",
    "\n",
    "class Solution:\n",
    "\n",
    "    def destroyTargets(self, nums: List[int], space: int) -> int:\n",
    "        ha = defaultdict(list)\n",
    "        for n in nums:\n",
    "            ha[n % space].append(n)\n",
    "        ans = mx = 0  # 符合的最小值答案 最大长度\n",
    "        for vl in ha.values():\n",
    "            sz, mn = len(vl), min(vl)\n",
    "            if sz > mx or (sz == mx and mn < ans):\n",
    "                mx = sz\n",
    "                ans = mn\n",
    "        return ans"
   ]
  }
 ],
 "metadata": {
  "language_info": {
   "name": "python"
  },
  "orig_nbformat": 4
 },
 "nbformat": 4,
 "nbformat_minor": 2
}
