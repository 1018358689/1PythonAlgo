{
 "cells": [
  {
   "cell_type": "code",
   "execution_count": null,
   "metadata": {},
   "outputs": [],
   "source": [
    "class Solution:\n",
    "\n",
    "    def minOperations(self, nums: List[int]) -> int:\n",
    "        if gcd(*nums) != 1: return -1\n",
    "        n = len(nums)\n",
    "        cnt1 = sum(x == 1 for x in nums)\n",
    "        if cnt1: return n - cnt1\n",
    "        # 最短的 GCD 为 1 的子数组, 长度minsize -> 需要minsize-1次操作得到1\n",
    "        # -> (n - 1) + (minsize - 1) = n + minsize - 2\n",
    "        a = []  # [(gcd, gcd的最右端索引)] 连续reduce gcd会越来越小 或 不变\n",
    "        minsize = inf\n",
    "        for i, x in enumerate(nums):\n",
    "            a.append([x, i])\n",
    "            # lc26 原地去重\n",
    "            k = 0  # 已经确定的最右索引\n",
    "            for p in a:\n",
    "                p[0] = gcd(p[0], x)\n",
    "                if a[k][0] != p[0]:\n",
    "                    k += 1\n",
    "                    a[k] = p\n",
    "                else:\n",
    "                    a[k][1] = p[1]  # 最右\n",
    "            del a[k + 1:]\n",
    "            if a[0][0] == 1:  # 最小在最前面\n",
    "                minsize = min(minsize, i - a[0][1] + 1)\n",
    "        return n + minsize - 2"
   ]
  }
 ],
 "metadata": {
  "language_info": {
   "name": "python"
  },
  "orig_nbformat": 4
 },
 "nbformat": 4,
 "nbformat_minor": 2
}
