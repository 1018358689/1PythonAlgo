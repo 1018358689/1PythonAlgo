{
 "cells": [
  {
   "cell_type": "code",
   "execution_count": 1,
   "metadata": {},
   "outputs": [],
   "source": [
    "class Solution:\n",
    "\n",
    "    def alphabetBoardPath(self, target: str) -> str:\n",
    "        ans = ''\n",
    "        x, y = 0, 0\n",
    "        for ch in target:\n",
    "            nx, ny = divmod(ord(ch) - ord('a'), 5)\n",
    "            dx, dy = nx - x, ny - y\n",
    "            r = ('R' if dy > 0 else 'L') * abs(dy)  # 水平\n",
    "            c = ('D' if dx > 0 else 'U') * abs(dx)  # 竖直\n",
    "            ans += (c + r if ch != 'z' else r + c) + '!'  # 'z'特例 到z要先水平再竖直 z出来时要先竖直再水平\n",
    "            x, y = nx, ny\n",
    "        return ans"
   ]
  },
  {
   "cell_type": "code",
   "execution_count": 3,
   "metadata": {},
   "outputs": [
    {
     "data": {
      "text/plain": [
       "'D'"
      ]
     },
     "execution_count": 3,
     "metadata": {},
     "output_type": "execute_result"
    }
   ],
   "source": [
    "nx = 2\n",
    "x = 1\n",
    "\"UD\"[nx > x] * abs(nx - x)\n"
   ]
  },
  {
   "cell_type": "code",
   "execution_count": null,
   "metadata": {},
   "outputs": [],
   "source": [
    "class Solution:\n",
    "\n",
    "    def alphabetBoardPath(self, target: str) -> str:\n",
    "        ans = ''\n",
    "        x, y = 0, 0\n",
    "        for ch in target:\n",
    "            nx, ny = divmod(ord(ch) - ord('a'), 5)\n",
    "            dx, dy = nx - x, ny - y\n",
    "            r = 'LR'[dy > 0] * abs(dy)  # 水平\n",
    "            c = 'UD'[dx > 0] * abs(dx)  # 竖直\n",
    "            ans += (c + r, r + c)[ch == 'z'] + '!'  # 'z'特例 到z要先水平再竖直 z出来时要先竖直再水平\n",
    "            x, y = nx, ny\n",
    "        return ans"
   ]
  }
 ],
 "metadata": {
  "kernelspec": {
   "display_name": "Python 3",
   "language": "python",
   "name": "python3"
  },
  "language_info": {
   "codemirror_mode": {
    "name": "ipython",
    "version": 3
   },
   "file_extension": ".py",
   "mimetype": "text/x-python",
   "name": "python",
   "nbconvert_exporter": "python",
   "pygments_lexer": "ipython3",
   "version": "3.11.1"
  },
  "orig_nbformat": 4,
  "vscode": {
   "interpreter": {
    "hash": "ff4b1fca65a764b45acb559e482afe389d289dd599b9f8c5fd12ff5c2ea46a65"
   }
  }
 },
 "nbformat": 4,
 "nbformat_minor": 2
}
