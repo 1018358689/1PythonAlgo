{
 "cells": [
  {
   "cell_type": "code",
   "execution_count": null,
   "metadata": {},
   "outputs": [],
   "source": [
    "class Solution:\n",
    "\n",
    "    def lastSubstring(self, s: str) -> str:\n",
    "        # 手玩 i:最大子串起始位置 j:下一个要比较的子串起始位置 k:比较长度\n",
    "        n = len(s)\n",
    "        i, j, k = 0, 1, 0\n",
    "        while j + k < n:\n",
    "            x, y = s[i + k], s[j + k]\n",
    "            if x == y:\n",
    "                k += 1\n",
    "            elif x < y:\n",
    "                # 意味着 s[i...i+k]都不能作为最大子串起始位置 因为可以找到x<y\n",
    "                i = i + k + 1\n",
    "                k = 0\n",
    "                if i >= j:\n",
    "                    j = i + 1\n",
    "            else:\n",
    "                # 意味着 s[j...j+k]作为起始 都比不过 因为总能 x<y\n",
    "                j = j + k + 1\n",
    "                k = 0\n",
    "        return s[i:]"
   ]
  },
  {
   "cell_type": "code",
   "execution_count": null,
   "metadata": {},
   "outputs": [],
   "source": [
    "from functools import lru_cache"
   ]
  }
 ],
 "metadata": {
  "language_info": {
   "name": "python"
  },
  "orig_nbformat": 4
 },
 "nbformat": 4,
 "nbformat_minor": 2
}
