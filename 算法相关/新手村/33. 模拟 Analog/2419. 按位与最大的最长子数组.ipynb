{
 "cells": [
  {
   "cell_type": "code",
   "execution_count": null,
   "metadata": {},
   "outputs": [],
   "source": [
    "from typing import List\n",
    "\n",
    "\n",
    "class Solution:\n",
    "\n",
    "    def longestSubarray(self, nums: List[int]) -> int:\n",
    "        # 两数按位于不会大于两数 两数相同按位于就是该数字\n",
    "        res = max(nums)\n",
    "        cnt = 0\n",
    "        for c in nums:\n",
    "            if c == res:\n",
    "                cnt += 1\n",
    "            else:\n",
    "                cnt = 0\n",
    "        return cnt"
   ]
  }
 ],
 "metadata": {
  "language_info": {
   "name": "python"
  },
  "orig_nbformat": 4
 },
 "nbformat": 4,
 "nbformat_minor": 2
}
