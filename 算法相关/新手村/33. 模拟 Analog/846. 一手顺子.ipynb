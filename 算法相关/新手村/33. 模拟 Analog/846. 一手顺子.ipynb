{
 "cells": [
  {
   "cell_type": "code",
   "execution_count": 1,
   "metadata": {},
   "outputs": [],
   "source": [
    "from typing import List\n",
    "from collections import Counter\n",
    "\n",
    "\n",
    "class Solution:\n",
    "\n",
    "    def isNStraightHand(self, hand: List[int], groupSize: int) -> bool:\n",
    "        lgh = len(hand)\n",
    "        if lgh % groupSize != 0:\n",
    "            return False\n",
    "        hand.sort()\n",
    "        cnt = Counter(hand)\n",
    "        for h in hand:\n",
    "            if cnt[h] == 0:\n",
    "                continue\n",
    "            cnt[h] -= 1\n",
    "            for nxt in range(h + 1, h + groupSize):\n",
    "                if cnt[nxt] == 0:\n",
    "                    return False\n",
    "                cnt[nxt] -= 1\n",
    "        return True"
   ]
  },
  {
   "cell_type": "code",
   "execution_count": 2,
   "metadata": {},
   "outputs": [],
   "source": [
    "from typing import List\n",
    "class Solution:\n",
    "\n",
    "    def isNStraightHand(self, hand: List[int], groupSize: int) -> bool:\n",
    "        group, rem = divmod(len(hand), groupSize)\n",
    "        if rem != 0:\n",
    "            return False\n",
    "        cnt = Counter(hand)\n",
    "        for _ in range(group):\n",
    "            one = min(cnt.keys())\n",
    "            cnt[one] -= 1\n",
    "            if cnt[one] == 0:\n",
    "                cnt.pop(one)\n",
    "            for nxt in range(one + 1, one + groupSize):\n",
    "                if nxt not in cnt:\n",
    "                    return False\n",
    "                cnt[nxt] -= 1\n",
    "                if cnt[nxt] == 0:\n",
    "                    cnt.pop(nxt)\n",
    "        return True"
   ]
  },
  {
   "cell_type": "code",
   "execution_count": null,
   "metadata": {},
   "outputs": [],
   "source": []
  }
 ],
 "metadata": {
  "kernelspec": {
   "display_name": "Python 3.10.6 64-bit",
   "language": "python",
   "name": "python3"
  },
  "language_info": {
   "codemirror_mode": {
    "name": "ipython",
    "version": 3
   },
   "file_extension": ".py",
   "mimetype": "text/x-python",
   "name": "python",
   "nbconvert_exporter": "python",
   "pygments_lexer": "ipython3",
   "version": "3.10.6"
  },
  "orig_nbformat": 4,
  "vscode": {
   "interpreter": {
    "hash": "dfbf064e0f2c8839bc658dd75dfc0b8f09a0440078cae3024109b27659b69d06"
   }
  }
 },
 "nbformat": 4,
 "nbformat_minor": 2
}
