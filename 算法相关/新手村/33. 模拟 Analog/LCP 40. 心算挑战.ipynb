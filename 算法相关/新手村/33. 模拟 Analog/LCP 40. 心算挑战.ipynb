{
 "cells": [
  {
   "cell_type": "markdown",
   "metadata": {},
   "source": [
    "排序先取最大的cnt个数，如果它们的和是偶数直接输出，不然就找一个已取的最小的奇数换成剩下未取的最大的偶数，或者找一个已取的最小的偶数换成剩下未取的最大奇数"
   ]
  },
  {
   "cell_type": "code",
   "execution_count": 6,
   "metadata": {},
   "outputs": [
    {
     "name": "stdout",
     "output_type": "stream",
     "text": [
      "[10, 9, 9, 6, 5, 5, 4, 3, 1, 1]\n"
     ]
    },
    {
     "data": {
      "text/plain": [
       "18"
      ]
     },
     "execution_count": 6,
     "metadata": {},
     "output_type": "execute_result"
    }
   ],
   "source": [
    "from typing import List\n",
    "\n",
    "\n",
    "class Solution:\n",
    "\n",
    "    def getMaxOddEve(self, nums: List[int]):\n",
    "        odd = eve = None\n",
    "        for n in nums:\n",
    "            if n & 1 and odd is None:\n",
    "                odd = n\n",
    "            if not n & 1 and eve is None:\n",
    "                eve = n\n",
    "            if odd is not None and eve is not None:\n",
    "                break\n",
    "        return odd, eve\n",
    "\n",
    "    def maxmiumScore(self, cards: List[int], cnt: int) -> int:\n",
    "        cards.sort(reverse=True)\n",
    "        odd = eve = None  # 取得最小奇数和偶数\n",
    "        ans = 0\n",
    "        for i in range(cnt):\n",
    "            if cards[i] & 1:\n",
    "                odd = cards[i]\n",
    "            if not cards[i] & 1:\n",
    "                eve = cards[i]\n",
    "            ans += cards[i]\n",
    "        if not ans & 1:\n",
    "            return ans\n",
    "        else:\n",
    "            # 奇数情况\n",
    "            tmp = 0\n",
    "            remOdd, remEve = self.getMaxOddEve(cards[cnt:])  # 剩下最大奇数和偶数\n",
    "            if odd is not None and remEve is not None:\n",
    "                tmp = max(tmp, ans + remEve - odd)\n",
    "            if eve is not None and remOdd is not None:\n",
    "                tmp = max(tmp, ans + remOdd - eve)\n",
    "            return tmp\n",
    "\n",
    "\n",
    "s = Solution()\n",
    "s.maxmiumScore([9, 5, 9, 1, 6, 10, 3, 4, 5, 1], 2)\n"
   ]
  },
  {
   "cell_type": "code",
   "execution_count": null,
   "metadata": {},
   "outputs": [],
   "source": []
  }
 ],
 "metadata": {
  "kernelspec": {
   "display_name": "Python 3.10.5 64-bit",
   "language": "python",
   "name": "python3"
  },
  "language_info": {
   "codemirror_mode": {
    "name": "ipython",
    "version": 3
   },
   "file_extension": ".py",
   "mimetype": "text/x-python",
   "name": "python",
   "nbconvert_exporter": "python",
   "pygments_lexer": "ipython3",
   "version": "3.10.5"
  },
  "orig_nbformat": 4,
  "vscode": {
   "interpreter": {
    "hash": "3196968d684371006099b3d55edeef8ed90365227a30deaef86e5d4aa8519be0"
   }
  }
 },
 "nbformat": 4,
 "nbformat_minor": 2
}
