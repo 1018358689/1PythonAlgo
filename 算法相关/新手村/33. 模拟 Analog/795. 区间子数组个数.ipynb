{
 "cells": [
  {
   "cell_type": "code",
   "execution_count": 1,
   "metadata": {},
   "outputs": [
    {
     "data": {
      "text/plain": [
       "7"
      ]
     },
     "execution_count": 1,
     "metadata": {},
     "output_type": "execute_result"
    }
   ],
   "source": [
    "from typing import List\n",
    "\n",
    "\n",
    "class Solution:\n",
    "\n",
    "    def numSubarrayBoundedMax(self, nums: List[int], left: int, right: int) -> int:\n",
    "\n",
    "        def atmostk(nums, k):  # 最大值<=k的子数组个数\n",
    "            ans = local = 0\n",
    "            for n in nums:\n",
    "                if n <= k:\n",
    "                    local += 1\n",
    "                else:\n",
    "                    local = 0\n",
    "                ans += local\n",
    "            return ans\n",
    "\n",
    "        return atmostk(nums, right) - atmostk(nums, left - 1)\n",
    "\n",
    "\n",
    "s = Solution()\n",
    "s.numSubarrayBoundedMax([2, 9, 2, 5, 6], 2, 8)\n"
   ]
  },
  {
   "cell_type": "code",
   "execution_count": null,
   "metadata": {},
   "outputs": [],
   "source": []
  }
 ],
 "metadata": {
  "kernelspec": {
   "display_name": "Python 3.10.5 64-bit",
   "language": "python",
   "name": "python3"
  },
  "language_info": {
   "codemirror_mode": {
    "name": "ipython",
    "version": 3
   },
   "file_extension": ".py",
   "mimetype": "text/x-python",
   "name": "python",
   "nbconvert_exporter": "python",
   "pygments_lexer": "ipython3",
   "version": "3.10.5"
  },
  "orig_nbformat": 4,
  "vscode": {
   "interpreter": {
    "hash": "3196968d684371006099b3d55edeef8ed90365227a30deaef86e5d4aa8519be0"
   }
  }
 },
 "nbformat": 4,
 "nbformat_minor": 2
}
