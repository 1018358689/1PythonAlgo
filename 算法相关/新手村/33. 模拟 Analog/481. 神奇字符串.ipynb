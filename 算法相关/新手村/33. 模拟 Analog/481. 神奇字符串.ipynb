{
 "cells": [
  {
   "cell_type": "code",
   "execution_count": 35,
   "metadata": {},
   "outputs": [
    {
     "data": {
      "text/plain": [
       "3"
      ]
     },
     "execution_count": 35,
     "metadata": {},
     "output_type": "execute_result"
    }
   ],
   "source": [
    "class Solution:\n",
    "\n",
    "    def magicalString(self, n: int) -> int:\n",
    "        if n <= 3:\n",
    "            return 1\n",
    "        pre = 3  # 前面数量\n",
    "        cnt = 3  # 累计数量\n",
    "        tmp = '122'  # 模拟\n",
    "        ans = 1\n",
    "        i = 2\n",
    "        cur = '1'\n",
    "\n",
    "        while 1:\n",
    "            num = int(tmp[i])\n",
    "            pre = cnt\n",
    "            cnt += num\n",
    "            # print(cnt,pre,cur)\n",
    "            if cnt > n:\n",
    "                if cur == '1':\n",
    "                    ans += n - pre\n",
    "                break\n",
    "            if cur == '1':\n",
    "                ans += num\n",
    "            tmp += num * cur\n",
    "            cur = '1' if cur == '2' else '2'\n",
    "            i += 1\n",
    "        # print(tmp)\n",
    "        return ans\n",
    "\n",
    "\n",
    "s = Solution()\n",
    "s.magicalString(5)\n",
    "# s.magicalString(4)\n",
    "# s.magicalString(6)"
   ]
  },
  {
   "cell_type": "markdown",
   "metadata": {},
   "source": [
    "根据题意，我们可以把 s 看成是由「1 组」和「2 组」交替组成的，重点在于每组内的数字是一个还是两个，这可以从 s 自身上知道。"
   ]
  },
  {
   "cell_type": "code",
   "execution_count": 37,
   "metadata": {},
   "outputs": [
    {
     "data": {
      "text/plain": [
       "3"
      ]
     },
     "execution_count": 37,
     "metadata": {},
     "output_type": "execute_result"
    }
   ],
   "source": [
    "'11221'.count('1')"
   ]
  },
  {
   "cell_type": "code",
   "execution_count": null,
   "metadata": {},
   "outputs": [],
   "source": [
    "class Solution:\n",
    "\n",
    "    def magicalString(self, n: int) -> int:\n",
    "        if n <= 3:\n",
    "            return 1\n",
    "        tmp = '122'\n",
    "        i = 2\n",
    "        cur = '1'\n",
    "        while len(tmp) <= n:\n",
    "            tmp += int(tmp[i]) * cur\n",
    "            cur = '2' if cur == '1' else '1'\n",
    "            i += 1\n",
    "        return tmp[:n].count('1')\n"
   ]
  }
 ],
 "metadata": {
  "kernelspec": {
   "display_name": "Python 3.10.6 64-bit",
   "language": "python",
   "name": "python3"
  },
  "language_info": {
   "codemirror_mode": {
    "name": "ipython",
    "version": 3
   },
   "file_extension": ".py",
   "mimetype": "text/x-python",
   "name": "python",
   "nbconvert_exporter": "python",
   "pygments_lexer": "ipython3",
   "version": "3.10.6"
  },
  "orig_nbformat": 4,
  "vscode": {
   "interpreter": {
    "hash": "dfbf064e0f2c8839bc658dd75dfc0b8f09a0440078cae3024109b27659b69d06"
   }
  }
 },
 "nbformat": 4,
 "nbformat_minor": 2
}
