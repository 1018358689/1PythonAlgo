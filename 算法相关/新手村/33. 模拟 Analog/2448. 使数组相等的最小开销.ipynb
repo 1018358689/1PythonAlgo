{
 "cells": [
  {
   "cell_type": "code",
   "execution_count": null,
   "metadata": {},
   "outputs": [],
   "source": [
    "from itertools import pairwise\n",
    "from typing import List\n",
    "\n",
    "\n",
    "class Solution:\n",
    "\n",
    "    def minCost(self, nums: List[int], cost: List[int]) -> int:\n",
    "        # 最终所有元素肯定为 nums中其中一个\n",
    "        # 开销=cost*d\n",
    "        # 全部变nums[0]的开销为 tot\n",
    "        # 则全部变nums[1]的开销为 相对于全部变nums[0] 增加(n1-n0)*c0 后面每个元素减少(n1-n0)*c(2,3,4...)=(n1-n0)*(sc-c0)\n",
    "        # -> -(n1-n0)*(sc-2*c0)\n",
    "        nc = sorted(zip(nums, cost))\n",
    "        sc = sum(cost)\n",
    "        ans = tot = sum((n - nc[0][0]) * c for n, c in nc)\n",
    "        for (n0, c0), (n1, c1) in pairwise(nc):\n",
    "            sc -= 2 * c0\n",
    "            tot -= (n1 - n0) * sc\n",
    "            ans = min(ans, tot)\n",
    "        return ans"
   ]
  }
 ],
 "metadata": {
  "kernelspec": {
   "display_name": "Python 3.10.5 64-bit",
   "language": "python",
   "name": "python3"
  },
  "language_info": {
   "name": "python",
   "version": "3.10.5 (tags/v3.10.5:f377153, Jun  6 2022, 16:14:13) [MSC v.1929 64 bit (AMD64)]"
  },
  "orig_nbformat": 4,
  "vscode": {
   "interpreter": {
    "hash": "3196968d684371006099b3d55edeef8ed90365227a30deaef86e5d4aa8519be0"
   }
  }
 },
 "nbformat": 4,
 "nbformat_minor": 2
}
