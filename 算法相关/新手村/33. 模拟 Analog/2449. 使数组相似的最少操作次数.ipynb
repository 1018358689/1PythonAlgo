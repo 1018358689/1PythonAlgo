{
 "cells": [
  {
   "cell_type": "code",
   "execution_count": null,
   "metadata": {},
   "outputs": [],
   "source": [
    "from typing import List\n",
    "\n",
    "\n",
    "class Solution:\n",
    "\n",
    "    def makeSimilar(self, nums: List[int], target: List[int]) -> int:\n",
    "        # 偶数由偶数变过来 奇数由奇数变过来\n",
    "        # 题干说一定有解意味 只算+2即可\n",
    "        nums.sort(key=lambda x: (x & 1, x))  # 偶数到奇数且从小到大\n",
    "        target.sort(key=lambda x: (x & 1, x))\n",
    "        return sum(x - y >> 1 for x, y in zip(nums, target) if x > y)\n"
   ]
  }
 ],
 "metadata": {
  "language_info": {
   "name": "python"
  },
  "orig_nbformat": 4
 },
 "nbformat": 4,
 "nbformat_minor": 2
}
