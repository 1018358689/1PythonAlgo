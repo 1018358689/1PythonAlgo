{
 "cells": [
  {
   "cell_type": "code",
   "execution_count": 4,
   "metadata": {},
   "outputs": [
    {
     "data": {
      "text/plain": [
       "[[1, 6], [8, 10], [15, 18]]"
      ]
     },
     "execution_count": 4,
     "metadata": {},
     "output_type": "execute_result"
    }
   ],
   "source": [
    "from typing import List\n",
    "\n",
    "\n",
    "class Solution:\n",
    "    def merge(self, intervals: List[List[int]]) -> List[List[int]]:\n",
    "        def check(l1, l2):\n",
    "            if l1[1] < l2[0] or l1[0] > l2[1]:\n",
    "                return False\n",
    "            return True\n",
    "\n",
    "        def mer(l1, l2):\n",
    "            return [min(l1[0], l2[0]), max(l1[1], l2[1])]\n",
    "        intervals.sort(key=lambda x: x[0])\n",
    "        ans = [intervals[0]]\n",
    "        for l in intervals[1:]:\n",
    "            if check(ans[-1], l):\n",
    "                ans[-1] = mer(l, ans[-1])\n",
    "            else:\n",
    "                ans.append(l)\n",
    "        return ans\n",
    "\n",
    "\n",
    "s = Solution()\n",
    "s.merge([[1, 3], [2, 6], [8, 10], [15, 18]])\n"
   ]
  },
  {
   "cell_type": "code",
   "execution_count": null,
   "metadata": {},
   "outputs": [],
   "source": []
  }
 ],
 "metadata": {
  "kernelspec": {
   "display_name": "Python 3.10.5 64-bit",
   "language": "python",
   "name": "python3"
  },
  "language_info": {
   "codemirror_mode": {
    "name": "ipython",
    "version": 3
   },
   "file_extension": ".py",
   "mimetype": "text/x-python",
   "name": "python",
   "nbconvert_exporter": "python",
   "pygments_lexer": "ipython3",
   "version": "3.10.5"
  },
  "orig_nbformat": 4,
  "vscode": {
   "interpreter": {
    "hash": "3196968d684371006099b3d55edeef8ed90365227a30deaef86e5d4aa8519be0"
   }
  }
 },
 "nbformat": 4,
 "nbformat_minor": 2
}
