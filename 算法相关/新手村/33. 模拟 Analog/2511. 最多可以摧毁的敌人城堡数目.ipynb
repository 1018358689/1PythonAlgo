{
 "cells": [
  {
   "cell_type": "code",
   "execution_count": null,
   "metadata": {},
   "outputs": [],
   "source": [
    "from itertools import pairwise\n",
    "\n",
    "\n",
    "for x,y,c in pairwise([1,2,3,4,5,6,7,8]):\n",
    "    print(x,y,c)"
   ]
  },
  {
   "cell_type": "code",
   "execution_count": 2,
   "metadata": {},
   "outputs": [],
   "source": [
    "from typing import List\n",
    "from itertools import groupby\n",
    "\n",
    "\n",
    "class Solution:\n",
    "\n",
    "    def captureForts(self, forts: List[int]) -> int:\n",
    "        ha = {(-1, 0, 1), (1, 0, -1)}\n",
    "        gs = [(i, len([*g])) for i, g in groupby(forts)]\n",
    "        return max((t for (a, _), (b, t), (c, _) in zip(gs, gs[1:], gs[2:]) if (a, b, c) in ha), default=0)\n"
   ]
  },
  {
   "cell_type": "code",
   "execution_count": 5,
   "metadata": {},
   "outputs": [
    {
     "name": "stdout",
     "output_type": "stream",
     "text": [
      "0 2\n",
      "8 6\n"
     ]
    },
    {
     "data": {
      "text/plain": [
       "6"
      ]
     },
     "execution_count": 5,
     "metadata": {},
     "output_type": "execute_result"
    }
   ],
   "source": [
    "from typing import List\n",
    "\n",
    "\n",
    "class Solution:\n",
    "\n",
    "    def captureForts(self, forts: List[int]) -> int:\n",
    "        n = len(forts)\n",
    "        ans = 0\n",
    "        for i, f in enumerate(forts):\n",
    "            if f == 1:\n",
    "                # 往右\n",
    "                j = i + 1\n",
    "                while j < n and forts[j] == 0:\n",
    "                    j += 1\n",
    "                if j < n and forts[j] == -1:\n",
    "                    ans = max(ans, j - i - 1)\n",
    "                # 往左\n",
    "                j = i - 1\n",
    "                while j >= 0 and forts[j] == 0:\n",
    "                    j -= 1\n",
    "                if j >= 0 and forts[j] == -1:\n",
    "                    ans = max(ans, i - j - 1)\n",
    "        return ans\n",
    "\n",
    "\n",
    "s = Solution()\n",
    "s.captureForts([1, 0, 0, -1, 0, 0, 0, 0, 1])\n"
   ]
  },
  {
   "cell_type": "code",
   "execution_count": 7,
   "metadata": {},
   "outputs": [
    {
     "data": {
      "text/plain": [
       "Counter({'a': 1})"
      ]
     },
     "execution_count": 7,
     "metadata": {},
     "output_type": "execute_result"
    }
   ],
   "source": [
    "from collections import Counter\n",
    "a = Counter(['a','a','b'])\n",
    "b = Counter(['a',])\n",
    "a&b"
   ]
  },
  {
   "cell_type": "code",
   "execution_count": null,
   "metadata": {},
   "outputs": [],
   "source": []
  }
 ],
 "metadata": {
  "kernelspec": {
   "display_name": "Python 3",
   "language": "python",
   "name": "python3"
  },
  "language_info": {
   "codemirror_mode": {
    "name": "ipython",
    "version": 3
   },
   "file_extension": ".py",
   "mimetype": "text/x-python",
   "name": "python",
   "nbconvert_exporter": "python",
   "pygments_lexer": "ipython3",
   "version": "3.11.1"
  },
  "orig_nbformat": 4,
  "vscode": {
   "interpreter": {
    "hash": "ff4b1fca65a764b45acb559e482afe389d289dd599b9f8c5fd12ff5c2ea46a65"
   }
  }
 },
 "nbformat": 4,
 "nbformat_minor": 2
}
