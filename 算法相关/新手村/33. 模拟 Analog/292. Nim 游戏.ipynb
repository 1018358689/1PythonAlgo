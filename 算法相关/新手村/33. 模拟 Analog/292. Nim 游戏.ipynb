{
 "cells": [
  {
   "cell_type": "markdown",
   "metadata": {},
   "source": [
    "由于一个人每次只能取1-3个石头，那么第二个人总能通过取第一个人取法跟4的补数(比如对方取1他就取3)，而达到稳定取到4以及后面4的倍数的目的。也就是说，如果有4的倍数的石子，那么后手永远能取到。\n",
    "\n",
    "那么如果有不是4的倍数个石子呢？石子的个数模4必然余1-3。而先手的人，可以通过取这个余数而达到让自己成为上述的稳定取到4的倍数的石子的“后手”，也就是稳定的获胜。\n",
    "\n",
    "题外话: 这和小时候玩过的经典的报数抢21游戏一样。每个人可以报连续的一到三个数，从1报到21，谁报到21谁就能赢。这时候你就会想，你先手想赢，你必须不能报18(你报18他就能报到21了)。你想不报18你必须也不能报14(你报14他就能报到17，你只能报18了)。依次类推，你不想报的数其实是2。那么很显然，你先手第一次只报个1，你就能赢。"
   ]
  },
  {
   "cell_type": "code",
   "execution_count": null,
   "metadata": {},
   "outputs": [],
   "source": [
    "class Solution:\n",
    "\n",
    "    def canWinNim(self, n: int) -> bool:\n",
    "        return n % 4 != 0\n"
   ]
  }
 ],
 "metadata": {
  "kernelspec": {
   "display_name": "Python 3.10.5 64-bit",
   "language": "python",
   "name": "python3"
  },
  "language_info": {
   "name": "python",
   "version": "3.10.5"
  },
  "orig_nbformat": 4,
  "vscode": {
   "interpreter": {
    "hash": "3196968d684371006099b3d55edeef8ed90365227a30deaef86e5d4aa8519be0"
   }
  }
 },
 "nbformat": 4,
 "nbformat_minor": 2
}
