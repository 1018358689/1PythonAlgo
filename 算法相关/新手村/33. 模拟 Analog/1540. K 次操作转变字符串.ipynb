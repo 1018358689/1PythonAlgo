{
 "cells": [
  {
   "cell_type": "code",
   "execution_count": null,
   "metadata": {},
   "outputs": [],
   "source": [
    "class Solution:\n",
    "\n",
    "    def canConvertString(self, s: str, t: str, k: int) -> bool:\n",
    "        if len(s) != len(t): return False\n",
    "        m, n = divmod(k, 26)\n",
    "        cnts = [m] * 26  # 往前走index步的剩余操作次数\n",
    "        cnts[:n + 1] = [m + 1] * (n + 1)\n",
    "        for x, y in zip(s, t):\n",
    "            if x != y:\n",
    "                d = (ord(y) - ord(x)) % 26\n",
    "                cnts[d] -= 1\n",
    "                if cnts[d] < 0: return False\n",
    "        return True\n"
   ]
  },
  {
   "cell_type": "code",
   "execution_count": null,
   "metadata": {},
   "outputs": [],
   "source": [
    "# 超时\n",
    "class Solution:\n",
    "\n",
    "    def canConvertString(self, s: str, t: str, k: int) -> bool:\n",
    "        if len(s) != len(t): return False\n",
    "        vis = [0] * (k + 1)\n",
    "        for x, y in zip(s, t):\n",
    "            if x != y:\n",
    "                d = (ord(y) - ord(x)) % 26\n",
    "                if d <= k:\n",
    "                    while d <= k:\n",
    "                        if not vis[d]:\n",
    "                            vis[d] = 1\n",
    "                            break\n",
    "                        else:\n",
    "                            d += 26\n",
    "                    else:\n",
    "                        return False\n",
    "                else:\n",
    "                    return False\n",
    "        return True\n"
   ]
  }
 ],
 "metadata": {
  "language_info": {
   "name": "python"
  },
  "orig_nbformat": 4
 },
 "nbformat": 4,
 "nbformat_minor": 2
}
