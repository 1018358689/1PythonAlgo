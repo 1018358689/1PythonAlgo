{
 "cells": [
  {
   "cell_type": "code",
   "execution_count": null,
   "metadata": {},
   "outputs": [],
   "source": [
    "from itertools import pairwise\n",
    "from typing import List\n",
    "\n",
    "\n",
    "class Solution:\n",
    "\n",
    "    def hardestWorker(self, n: int, logs: List[List[int]]) -> int:\n",
    "        logs = [[0, 0]] + logs\n",
    "        ans = mx = 0\n",
    "        for (_, c1), (idx, c2) in pairwise(logs):\n",
    "            if (cur := c2 - c1) > mx or cur == mx and idx < ans:\n",
    "                mx = cur\n",
    "                ans = idx\n",
    "        return ans"
   ]
  }
 ],
 "metadata": {
  "language_info": {
   "name": "python"
  },
  "orig_nbformat": 4
 },
 "nbformat": 4,
 "nbformat_minor": 2
}
