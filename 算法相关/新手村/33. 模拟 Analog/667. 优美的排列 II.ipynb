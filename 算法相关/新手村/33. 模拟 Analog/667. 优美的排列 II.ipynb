{
 "cells": [
  {
   "cell_type": "code",
   "execution_count": null,
   "metadata": {},
   "outputs": [],
   "source": [
    "from typing import List\n",
    "\n",
    "\n",
    "class Solution:\n",
    "\n",
    "    def constructArray(self, n: int, k: int) -> List[int]:\n",
    "        nums = list(range(1, n + 1))\n",
    "        for i in range(1, k):\n",
    "            nums[i:] = nums[i:][::-1]\n",
    "        return nums"
   ]
  }
 ],
 "metadata": {
  "language_info": {
   "name": "python"
  },
  "orig_nbformat": 4
 },
 "nbformat": 4,
 "nbformat_minor": 2
}
