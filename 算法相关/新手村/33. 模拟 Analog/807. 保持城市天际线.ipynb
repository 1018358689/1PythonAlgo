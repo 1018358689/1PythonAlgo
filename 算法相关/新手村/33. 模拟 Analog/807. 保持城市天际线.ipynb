{
 "cells": [
  {
   "cell_type": "code",
   "execution_count": null,
   "metadata": {},
   "outputs": [],
   "source": [
    "from typing import List\n",
    "\n",
    "\n",
    "class Solution:\n",
    "\n",
    "    def maxIncreaseKeepingSkyline(self, grid: List[List[int]]) -> int:\n",
    "        n = len(grid)\n",
    "        rows, cols = [0] * n, [0] * n  # 行列的最大值\n",
    "        for i in range(n):\n",
    "            for j in range(n):\n",
    "                if grid[i][j] > rows[i]:\n",
    "                    rows[i] = grid[i][j]\n",
    "                if grid[i][j] > cols[j]:\n",
    "                    cols[j] = grid[i][j]\n",
    "        ans = 0\n",
    "        for i in range(n):\n",
    "            for j in range(n):\n",
    "                ans += min(rows[i], cols[j]) - grid[i][j]\n",
    "        return ans"
   ]
  }
 ],
 "metadata": {
  "language_info": {
   "name": "python"
  },
  "orig_nbformat": 4
 },
 "nbformat": 4,
 "nbformat_minor": 2
}
