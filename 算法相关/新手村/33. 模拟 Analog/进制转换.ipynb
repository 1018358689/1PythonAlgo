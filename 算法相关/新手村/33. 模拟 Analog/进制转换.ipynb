{
 "cells": [
  {
   "cell_type": "code",
   "execution_count": null,
   "metadata": {},
   "outputs": [],
   "source": [
    "# 向上取整  ceil(11/5)=3  (11+4)//5=3  ceil(10/5)=2   (10+4)//5=2\n",
    "# -> ceil(a/b) = (a + b - 1)//b"
   ]
  },
  {
   "cell_type": "code",
   "execution_count": null,
   "metadata": {},
   "outputs": [],
   "source": [
    "from typing import List\n",
    "\n",
    "\n",
    "def convert(num: int, M: int) -> List[int]:\n",
    "    if M == 0: return None\n",
    "    if num == 0: return [0]\n",
    "    x, res = num, []\n",
    "    while x:\n",
    "        # 手玩 除k取余 使得余数>=0\n",
    "        # a = b * c + d   d余数 b进制 c进位\n",
    "        # d = a - b * c >= 0  移项变换->  c <= a/b 向下取整\n",
    "        # 当进制是负数则移项变换要换符号了 c >= a/b 向上取整了\n",
    "        if M > 0:\n",
    "            c = x // M\n",
    "            res.append(x - M * c)\n",
    "            x = c\n",
    "        else:\n",
    "            c = (x + 1) // M  # ceil(x/M)向上取整\n",
    "            res.append(x - M * c)\n",
    "            x = c\n",
    "    return res"
   ]
  },
  {
   "cell_type": "code",
   "execution_count": null,
   "metadata": {},
   "outputs": [],
   "source": [
    "from typing import List\n",
    "\n",
    "\n",
    "def convert(num: int, M: int) -> List[int]:\n",
    "    if M == 0: return None\n",
    "    if num == 0: return [0]\n",
    "    x, res = num, []\n",
    "    while x:\n",
    "        if M > 0:\n",
    "            y = x % M\n",
    "            x //= M\n",
    "        else:\n",
    "            y = x - (((x + M + 1) // M) * M)  # 余数\n",
    "            x = (x + M + 1) // M  # 上取整\n",
    "        res.append(y)\n",
    "    return res[::-1]"
   ]
  }
 ],
 "metadata": {
  "language_info": {
   "name": "python"
  },
  "orig_nbformat": 4
 },
 "nbformat": 4,
 "nbformat_minor": 2
}
