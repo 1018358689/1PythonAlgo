{
 "cells": [
  {
   "cell_type": "code",
   "execution_count": null,
   "metadata": {},
   "outputs": [],
   "source": [
    "class Solution:\n",
    "\n",
    "    def minOperations(self, nums: List[int], numsDivide: List[int]) -> int:\n",
    "        g = gcd(*numsDivide)\n",
    "        return next((i for i, x in enumerate(sorted(nums)) if g % x == 0), -1)"
   ]
  }
 ],
 "metadata": {
  "language_info": {
   "name": "python"
  },
  "orig_nbformat": 4
 },
 "nbformat": 4,
 "nbformat_minor": 2
}
