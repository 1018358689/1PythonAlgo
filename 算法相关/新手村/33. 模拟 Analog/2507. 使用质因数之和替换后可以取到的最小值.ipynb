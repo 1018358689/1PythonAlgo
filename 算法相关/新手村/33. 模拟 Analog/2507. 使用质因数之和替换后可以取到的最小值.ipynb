{
 "cells": [
  {
   "cell_type": "code",
   "execution_count": 2,
   "metadata": {},
   "outputs": [
    {
     "data": {
      "text/plain": [
       "5"
      ]
     },
     "execution_count": 2,
     "metadata": {},
     "output_type": "execute_result"
    }
   ],
   "source": [
    "class Solution:\n",
    "\n",
    "    def smallestValue(self, n: int) -> int:\n",
    "        while True:\n",
    "            s, x, i = 0, n, 2\n",
    "            while i**2 <= x: # 手玩模拟分解质因数\n",
    "                while x % i == 0:\n",
    "                    s += i\n",
    "                    x = x // i\n",
    "                i += 1\n",
    "            if x > 1: s += x # 分到底是1不需要作为质因数 非1作为质因数\n",
    "            if s == n: return s # n是分解前原始数\n",
    "            n = s\n",
    "\n",
    "\n",
    "s = Solution()\n",
    "s.smallestValue(15)"
   ]
  },
  {
   "cell_type": "code",
   "execution_count": 4,
   "metadata": {},
   "outputs": [
    {
     "data": {
      "text/plain": [
       "4"
      ]
     },
     "execution_count": 4,
     "metadata": {},
     "output_type": "execute_result"
    }
   ],
   "source": [
    "class Solution:\n",
    "\n",
    "    def smallestValue(self, n: int) -> int:\n",
    "        # 递归进行模拟因式分解\n",
    "        def dec(n, lim):\n",
    "            res = []\n",
    "            for x in range(lim, int(n**.5) + 1):\n",
    "                if not n % x:\n",
    "                    res.append(x)\n",
    "                    res += dec(n // x, x)\n",
    "                    break\n",
    "            return res if res else [n]\n",
    "\n",
    "        def dfs(pre, n):\n",
    "            if pre == n:\n",
    "                return n\n",
    "            tmp = dec(n, 2)\n",
    "            if len(tmp) == 1:\n",
    "                return tmp[0]\n",
    "            return dfs(n, sum(tmp))\n",
    "\n",
    "        return dfs(-1, n)\n",
    "\n",
    "\n",
    "s = Solution()\n",
    "s.smallestValue(4)"
   ]
  },
  {
   "cell_type": "code",
   "execution_count": null,
   "metadata": {},
   "outputs": [],
   "source": []
  }
 ],
 "metadata": {
  "kernelspec": {
   "display_name": "Python 3",
   "language": "python",
   "name": "python3"
  },
  "language_info": {
   "codemirror_mode": {
    "name": "ipython",
    "version": 3
   },
   "file_extension": ".py",
   "mimetype": "text/x-python",
   "name": "python",
   "nbconvert_exporter": "python",
   "pygments_lexer": "ipython3",
   "version": "3.11.1 (tags/v3.11.1:a7a450f, Dec  6 2022, 19:58:39) [MSC v.1934 64 bit (AMD64)]"
  },
  "orig_nbformat": 4,
  "vscode": {
   "interpreter": {
    "hash": "ff4b1fca65a764b45acb559e482afe389d289dd599b9f8c5fd12ff5c2ea46a65"
   }
  }
 },
 "nbformat": 4,
 "nbformat_minor": 2
}
