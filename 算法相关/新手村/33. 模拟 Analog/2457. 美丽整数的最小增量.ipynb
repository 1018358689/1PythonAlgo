{
 "cells": [
  {
   "cell_type": "code",
   "execution_count": 3,
   "metadata": {},
   "outputs": [
    {
     "data": {
      "text/plain": [
       "1"
      ]
     },
     "execution_count": 3,
     "metadata": {},
     "output_type": "execute_result"
    }
   ],
   "source": [
    "class Solution:\n",
    "\n",
    "    def makeIntegerBeautiful(self, n: int, target: int) -> int:\n",
    "        n = str(n)\n",
    "        if sum(map(int, n)) <= target:\n",
    "            return 0\n",
    "        # 各位数和>target\n",
    "        s = 0\n",
    "        for i, c in enumerate(n):\n",
    "            if s + int(c) >= target:\n",
    "                # s[i:] 都得变为0\n",
    "                return 10**(len(n) - i) - int(n[i:])\n",
    "            s += int(c)\n",
    "\n",
    "\n",
    "s = Solution()\n",
    "s.makeIntegerBeautiful(999, 6)\n"
   ]
  },
  {
   "cell_type": "code",
   "execution_count": null,
   "metadata": {},
   "outputs": [],
   "source": []
  }
 ],
 "metadata": {
  "kernelspec": {
   "display_name": "Python 3.10.5 64-bit",
   "language": "python",
   "name": "python3"
  },
  "language_info": {
   "codemirror_mode": {
    "name": "ipython",
    "version": 3
   },
   "file_extension": ".py",
   "mimetype": "text/x-python",
   "name": "python",
   "nbconvert_exporter": "python",
   "pygments_lexer": "ipython3",
   "version": "3.10.5"
  },
  "orig_nbformat": 4,
  "vscode": {
   "interpreter": {
    "hash": "3196968d684371006099b3d55edeef8ed90365227a30deaef86e5d4aa8519be0"
   }
  }
 },
 "nbformat": 4,
 "nbformat_minor": 2
}
