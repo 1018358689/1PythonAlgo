{
 "cells": [
  {
   "cell_type": "code",
   "execution_count": 1,
   "metadata": {},
   "outputs": [],
   "source": [
    "from collections import Counter\n",
    "from typing import List\n",
    "\n",
    "\n",
    "class Solution:\n",
    "\n",
    "    def unequalTriplets(self, nums: List[int]) -> int:\n",
    "        cnt = Counter(nums)\n",
    "        if len(cnt) < 3:\n",
    "            return 0\n",
    "        nums = list(cnt.values())\n",
    "        ans = 0\n",
    "\n",
    "        def dfs(i, n, pro):\n",
    "            if n == 3:\n",
    "                nonlocal ans\n",
    "                ans += pro\n",
    "                return\n",
    "            for j in range(i, len(nums)):\n",
    "                dfs(j + 1, n + 1, pro * nums[j])\n",
    "\n",
    "        dfs(0, 0, 1)\n",
    "        return ans"
   ]
  },
  {
   "cell_type": "markdown",
   "metadata": {},
   "source": [
    "对于 x，设：\n",
    "\n",
    "小于 x 的数有 a 个；\n",
    "等于 x 的数有 b 个；\n",
    "大于 x 的数有 c 个。\n",
    "那么 xx 对答案的贡献是 abc。\n",
    "\n",
    "累加所有贡献，得到答案。\n",
    "\n",
    "代码实现时，通过排序可以快速求出 a b c。"
   ]
  },
  {
   "cell_type": "code",
   "execution_count": 2,
   "metadata": {},
   "outputs": [],
   "source": [
    "from itertools import pairwise\n",
    "from typing import List\n",
    "\n",
    "\n",
    "class Solution:\n",
    "\n",
    "    def unequalTriplets(self, nums: List[int]) -> int:\n",
    "        nums.sort()\n",
    "        n = len(nums)\n",
    "        ans = start = 0  # start: b左边界\n",
    "        for i, (x, y) in enumerate(pairwise(nums)):\n",
    "            if x != y:\n",
    "                ans += start * (i - start + 1) * (n - 1 - i)  # a*b*c\n",
    "                start = i + 1\n",
    "        return ans"
   ]
  },
  {
   "cell_type": "code",
   "execution_count": null,
   "metadata": {},
   "outputs": [],
   "source": [
    "from typing import List\n",
    "\n",
    "\n",
    "class Solution:\n",
    "\n",
    "    def unequalTriplets(self, nums: List[int]) -> int:\n",
    "        nums.sort()\n",
    "        n = len(nums)\n",
    "        ans = start = 0  # start: b左边界\n",
    "        for i in range(n - 1):\n",
    "            if nums[i] != nums[i + 1]:\n",
    "                ans += start * (i - start + 1) * (n - 1 - i)\n",
    "                start = i + 1\n",
    "        return ans"
   ]
  }
 ],
 "metadata": {
  "kernelspec": {
   "display_name": "Python 3.10.5 64-bit",
   "language": "python",
   "name": "python3"
  },
  "language_info": {
   "codemirror_mode": {
    "name": "ipython",
    "version": 3
   },
   "file_extension": ".py",
   "mimetype": "text/x-python",
   "name": "python",
   "nbconvert_exporter": "python",
   "pygments_lexer": "ipython3",
   "version": "3.10.5"
  },
  "orig_nbformat": 4,
  "vscode": {
   "interpreter": {
    "hash": "3196968d684371006099b3d55edeef8ed90365227a30deaef86e5d4aa8519be0"
   }
  }
 },
 "nbformat": 4,
 "nbformat_minor": 2
}
