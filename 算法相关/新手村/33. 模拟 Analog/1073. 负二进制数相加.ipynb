{
 "cells": [
  {
   "cell_type": "code",
   "execution_count": null,
   "metadata": {},
   "outputs": [],
   "source": [
    "class Solution:\n",
    "\n",
    "    def addNegabinary(self, arr1: List[int], arr2: List[int]) -> List[int]:\n",
    "\n",
    "        def t_f2to10(arr):  # -2进制转10进制\n",
    "            ans = 0\n",
    "            base = 1\n",
    "            for x in arr[::-1]:\n",
    "                ans += x * base\n",
    "                base *= -2\n",
    "            return ans\n",
    "\n",
    "        def t_10tof2(n):  # 10进制转-2进制\n",
    "            # 手玩模拟 除-2取余 保证余数>=0\n",
    "            # a = b*c + d  d余数 b进制 c进位\n",
    "            # d = a + 2*c >= 0   ->   c >= -a/2 向上取整\n",
    "            if n == 0: return [0]\n",
    "            ans = []\n",
    "            while n:\n",
    "                c = (-n + 1) // 2  # 向上取整 ceil(-n/2)\n",
    "                ans.append(n + 2 * c)\n",
    "                n = c\n",
    "            return ans[::-1]\n",
    "\n",
    "        return t_10tof2(t_f2to10(arr1) + t_f2to10(arr2))"
   ]
  }
 ],
 "metadata": {
  "language_info": {
   "name": "python"
  },
  "orig_nbformat": 4
 },
 "nbformat": 4,
 "nbformat_minor": 2
}
