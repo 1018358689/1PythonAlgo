{
 "cells": [
  {
   "cell_type": "code",
   "execution_count": 5,
   "metadata": {},
   "outputs": [
    {
     "data": {
      "text/plain": [
       "984136"
      ]
     },
     "execution_count": 5,
     "metadata": {},
     "output_type": "execute_result"
    }
   ],
   "source": [
    "class Solution:\n",
    "\n",
    "    def nextGreaterElement(self, n: int) -> int:\n",
    "        n = list(str(n))\n",
    "        sig = -1\n",
    "        for i in range(len(n) - 2, -1, -1):\n",
    "            if n[i] < n[i + 1]:\n",
    "                sig = i\n",
    "                break\n",
    "        if sig == -1:\n",
    "            return -1\n",
    "        l, r = sig + 1, len(n) - 1\n",
    "        while l <= r:\n",
    "            m = l + r >> 1\n",
    "            if n[m] > n[sig]:\n",
    "                l = m + 1\n",
    "            else:\n",
    "                r = m - 1\n",
    "        n[sig], n[r] = n[r], n[sig]\n",
    "        n[sig + 1:] = n[sig + 1:][::-1]\n",
    "        ans = int(''.join(n))\n",
    "        return ans if ans < 2**31 else -1\n",
    "\n",
    "\n",
    "s = Solution()\n",
    "s.nextGreaterElement(983641)"
   ]
  },
  {
   "cell_type": "code",
   "execution_count": null,
   "metadata": {},
   "outputs": [],
   "source": []
  }
 ],
 "metadata": {
  "kernelspec": {
   "display_name": "Python 3.10.5 64-bit",
   "language": "python",
   "name": "python3"
  },
  "language_info": {
   "codemirror_mode": {
    "name": "ipython",
    "version": 3
   },
   "file_extension": ".py",
   "mimetype": "text/x-python",
   "name": "python",
   "nbconvert_exporter": "python",
   "pygments_lexer": "ipython3",
   "version": "3.10.5"
  },
  "orig_nbformat": 4,
  "vscode": {
   "interpreter": {
    "hash": "3196968d684371006099b3d55edeef8ed90365227a30deaef86e5d4aa8519be0"
   }
  }
 },
 "nbformat": 4,
 "nbformat_minor": 2
}
