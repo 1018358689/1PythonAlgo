{
 "cells": [
  {
   "cell_type": "code",
   "execution_count": null,
   "metadata": {},
   "outputs": [],
   "source": [
    "class Solution:\n",
    "\n",
    "    def equalPairs(self, grid: List[List[int]]) -> int:\n",
    "        cnt = Counter(tuple(row) for row in grid)\n",
    "        return sum(cnt[col] for col in zip(*grid))"
   ]
  },
  {
   "cell_type": "code",
   "execution_count": null,
   "metadata": {},
   "outputs": [],
   "source": [
    "class Solution:\n",
    "\n",
    "    def equalPairs(self, grid: List[List[int]]) -> int:\n",
    "        cnts1 = Counter()\n",
    "        for row in grid:\n",
    "            cnts1[tuple(row)] += 1\n",
    "        ans = 0\n",
    "        for col in zip(*grid):\n",
    "            ans += cnts1[col]\n",
    "        return ans"
   ]
  }
 ],
 "metadata": {
  "language_info": {
   "name": "python"
  },
  "orig_nbformat": 4
 },
 "nbformat": 4,
 "nbformat_minor": 2
}
