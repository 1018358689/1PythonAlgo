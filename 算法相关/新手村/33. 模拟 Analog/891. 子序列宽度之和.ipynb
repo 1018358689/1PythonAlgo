{
 "cells": [
  {
   "cell_type": "code",
   "execution_count": 1,
   "metadata": {},
   "outputs": [],
   "source": [
    "# 贡献值法\n",
    "from typing import List\n",
    "\n",
    "\n",
    "class Solution:\n",
    "\n",
    "    def sumSubseqWidths(self, nums: List[int]) -> int:\n",
    "        mod = 10**9 + 7\n",
    "        ans = 0\n",
    "        nums.sort()\n",
    "        lgh = len(nums)\n",
    "        for i in range(lgh):\n",
    "            ans += nums[i] * pow(2, i, mod) % mod\n",
    "            ans -= nums[i] * pow(2, lgh - 1 - i, mod) % mod\n",
    "        return ans % mod\n"
   ]
  },
  {
   "cell_type": "code",
   "execution_count": null,
   "metadata": {},
   "outputs": [],
   "source": [
    "# 贡献值法\n",
    "from typing import List\n",
    "\n",
    "\n",
    "class Solution:\n",
    "\n",
    "    def sumSubseqWidths(self, nums: List[int]) -> int:\n",
    "        mod = 10**9 + 7\n",
    "        ans = 0\n",
    "        nums.sort()\n",
    "        lgh = len(nums)\n",
    "        dp = [1] * lgh  # 数字个数和产生子序列数\n",
    "        for i in range(1, lgh):\n",
    "            dp[i] = dp[i - 1] * 2 % mod\n",
    "        for i in range(lgh):\n",
    "            ans += nums[i] * dp[i] % mod\n",
    "            ans -= nums[i] * dp[lgh - 1 - i] % mod\n",
    "        return ans % mod\n"
   ]
  },
  {
   "cell_type": "code",
   "execution_count": null,
   "metadata": {},
   "outputs": [],
   "source": [
    "class Solution:\n",
    "    def sumSubseqWidths(self, nums: List[int]) -> int:\n",
    "        # 手玩模拟 找公式\n",
    "        MOD = 10 ** 9 + 7\n",
    "        ans = s = 0\n",
    "        bs = 0\n",
    "        base = 1\n",
    "        for x in sorted(nums):\n",
    "            ans = (ans + (bs * x % MOD) % MOD - s) % MOD\n",
    "            s = (2 * s + x) % MOD\n",
    "            bs = (bs + base) % MOD\n",
    "            base = 2 * base % MOD\n",
    "        return ans"
   ]
  },
  {
   "cell_type": "code",
   "execution_count": null,
   "metadata": {},
   "outputs": [],
   "source": [
    "class Solution:\n",
    "\n",
    "    def sumSubseqWidths(self, nums: List[int]) -> int:\n",
    "        # 手玩模拟 找公式\n",
    "        MOD = 10**9 + 7\n",
    "        ans = s = 0\n",
    "        for i, x in enumerate(sorted(nums)):\n",
    "            ans = (ans + ((pow(2, i, MOD) - 1) * (x % MOD)) % MOD - s) % MOD\n",
    "            # ans = (ans + (2 ** i - 1) * x - s) % MOD\n",
    "            s = (2 * s + x) % MOD\n",
    "        return ans"
   ]
  }
 ],
 "metadata": {
  "kernelspec": {
   "display_name": "Python 3.10.6 64-bit",
   "language": "python",
   "name": "python3"
  },
  "language_info": {
   "codemirror_mode": {
    "name": "ipython",
    "version": 3
   },
   "file_extension": ".py",
   "mimetype": "text/x-python",
   "name": "python",
   "nbconvert_exporter": "python",
   "pygments_lexer": "ipython3",
   "version": "3.10.6"
  },
  "orig_nbformat": 4,
  "vscode": {
   "interpreter": {
    "hash": "dfbf064e0f2c8839bc658dd75dfc0b8f09a0440078cae3024109b27659b69d06"
   }
  }
 },
 "nbformat": 4,
 "nbformat_minor": 2
}
