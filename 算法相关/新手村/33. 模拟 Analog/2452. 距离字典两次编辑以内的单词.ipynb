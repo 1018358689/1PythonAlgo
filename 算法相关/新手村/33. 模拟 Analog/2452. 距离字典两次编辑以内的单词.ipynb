{
 "cells": [
  {
   "cell_type": "code",
   "execution_count": 1,
   "metadata": {},
   "outputs": [],
   "source": [
    "from typing import List\n",
    "\n",
    "\n",
    "class Solution:\n",
    "\n",
    "    def twoEditWords(self, queries: List[str], dictionary: List[str]) -> List[str]:\n",
    "        ans = []\n",
    "        for q in queries:\n",
    "            for d in dictionary:\n",
    "                if sum(x != y for x, y in zip(q, d)) <= 2:\n",
    "                    ans.append(q)\n",
    "                    break\n",
    "        return ans"
   ]
  },
  {
   "cell_type": "code",
   "execution_count": 14,
   "metadata": {},
   "outputs": [
    {
     "data": {
      "text/plain": [
       "['iarapqqk', 'larakqqk', 'nliynmpm', 'isikkcws', 'laraeqqk']"
      ]
     },
     "execution_count": 14,
     "metadata": {},
     "output_type": "execute_result"
    }
   ],
   "source": [
    "from typing import List\n",
    "from collections import deque\n",
    "\n",
    "\n",
    "class Node:\n",
    "\n",
    "    def __init__(self) -> None:\n",
    "        self.children = {}\n",
    "        self.end = False\n",
    "\n",
    "\n",
    "class Trie:\n",
    "\n",
    "    def __init__(self) -> None:\n",
    "        self.root = Node()\n",
    "\n",
    "    def add(self, word: str):\n",
    "        cur = self.root\n",
    "        for w in word:\n",
    "            if w not in cur.children:\n",
    "                cur.children[w] = Node()\n",
    "            cur = cur.children[w]\n",
    "        cur.end = True\n",
    "\n",
    "    def query(self, word: str):\n",
    "        q = deque([(0, self.root, 0)])  # 当前要判断索引,位置,已经累计错误次数\n",
    "        n = len(word)\n",
    "        while q:\n",
    "            idx, cur, cnt = q.popleft()\n",
    "            if cnt<=2:\n",
    "                if idx == n and cur.end:\n",
    "                    return True\n",
    "                for nw in cur.children:\n",
    "                    nei = cur.children[nw]\n",
    "                    q.append((idx + 1, nei, cnt + int(nw != word[idx])))\n",
    "        return False\n",
    "\n",
    "\n",
    "class Solution:\n",
    "\n",
    "    def twoEditWords(self, queries: List[str], dictionary: List[str]) -> List[str]:\n",
    "        trie = Trie()\n",
    "        for d in dictionary:\n",
    "            trie.add(d)\n",
    "        return [q for q in queries if trie.query(q)]\n",
    "\n",
    "\n",
    "s = Solution()\n",
    "# s.twoEditWords([\"word\", \"note\", \"ants\", \"xood\"], [\"wood\", \"joke\", \"moat\"])\n",
    "s.twoEditWords([\"prfturjd\", \"iarapqqk\", \"aokbrtmx\", \"yafmjorj\", \"larakqqk\", \"nliynmpm\", \"isikkcws\", \"laraeqqk\"], [\"apahhijt\", \"larapqqk\", \"isukkcws\", \"siqqoacj\", \"nloynmpm\"])\n"
   ]
  },
  {
   "cell_type": "code",
   "execution_count": 15,
   "metadata": {},
   "outputs": [
    {
     "data": {
      "text/plain": [
       "['iarapqqk', 'larakqqk', 'nliynmpm', 'isikkcws', 'laraeqqk']"
      ]
     },
     "execution_count": 15,
     "metadata": {},
     "output_type": "execute_result"
    }
   ],
   "source": [
    "from typing import List\n",
    "from collections import deque\n",
    "\n",
    "\n",
    "class Node:\n",
    "\n",
    "    def __init__(self) -> None:\n",
    "        self.children = {}\n",
    "        self.end = False\n",
    "\n",
    "\n",
    "class Trie:\n",
    "\n",
    "    def __init__(self) -> None:\n",
    "        self.root = Node()\n",
    "\n",
    "    def add(self, word: str):\n",
    "        cur = self.root\n",
    "        for w in word:\n",
    "            if w not in cur.children:\n",
    "                cur.children[w] = Node()\n",
    "            cur = cur.children[w]\n",
    "        cur.end = True\n",
    "\n",
    "    def query(self, word: str):\n",
    "        q = deque([(0, self.root, 0)])  # 当前要判断索引,位置,已经累计错误次数\n",
    "        n = len(word)\n",
    "        while q:\n",
    "            idx, cur, cnt = q.popleft()\n",
    "            if idx == n:\n",
    "                if cur.end and cnt <= 2:\n",
    "                    return True\n",
    "            elif cnt <= 2:\n",
    "                for nw in cur.children:\n",
    "                    nei = cur.children[nw]\n",
    "                    q.append((idx + 1, nei, cnt + int(nw != word[idx])))\n",
    "        return False\n",
    "\n",
    "\n",
    "class Solution:\n",
    "\n",
    "    def twoEditWords(self, queries: List[str], dictionary: List[str]) -> List[str]:\n",
    "        trie = Trie()\n",
    "        for d in dictionary:\n",
    "            trie.add(d)\n",
    "        return [q for q in queries if trie.query(q)]\n",
    "\n",
    "\n",
    "s = Solution()\n",
    "# s.twoEditWords([\"word\", \"note\", \"ants\", \"xood\"], [\"wood\", \"joke\", \"moat\"])\n",
    "s.twoEditWords([\"prfturjd\", \"iarapqqk\", \"aokbrtmx\", \"yafmjorj\", \"larakqqk\", \"nliynmpm\", \"isikkcws\", \"laraeqqk\"], [\"apahhijt\", \"larapqqk\", \"isukkcws\", \"siqqoacj\", \"nloynmpm\"])"
   ]
  },
  {
   "cell_type": "code",
   "execution_count": 16,
   "metadata": {},
   "outputs": [
    {
     "data": {
      "text/plain": [
       "['iarapqqk', 'larakqqk', 'nliynmpm', 'isikkcws', 'laraeqqk']"
      ]
     },
     "execution_count": 16,
     "metadata": {},
     "output_type": "execute_result"
    }
   ],
   "source": [
    "from typing import List\n",
    "from collections import deque\n",
    "\n",
    "\n",
    "class Node:\n",
    "\n",
    "    def __init__(self) -> None:\n",
    "        self.children = {}\n",
    "        self.end = False\n",
    "\n",
    "\n",
    "class Trie:\n",
    "\n",
    "    def __init__(self) -> None:\n",
    "        self.root = Node()\n",
    "\n",
    "    def add(self, word: str):\n",
    "        cur = self.root\n",
    "        for w in word:\n",
    "            if w not in cur.children:\n",
    "                cur.children[w] = Node()\n",
    "            cur = cur.children[w]\n",
    "        cur.end = True\n",
    "\n",
    "    def query(self, word: str):\n",
    "        n = len(word)\n",
    "\n",
    "        def dfs(idx, cur, cnt):  # 当前要判断索引,位置,已经累计错误次数\n",
    "            if cnt > 2:\n",
    "                return False\n",
    "            if idx == n and cur.end:\n",
    "                return True\n",
    "            for nw in cur.children:\n",
    "                if dfs(idx + 1, cur.children[nw], cnt + (nw != word[idx])):\n",
    "                    return True\n",
    "            return False\n",
    "\n",
    "        return dfs(0, self.root, 0)\n",
    "\n",
    "\n",
    "class Solution:\n",
    "\n",
    "    def twoEditWords(self, queries: List[str], dictionary: List[str]) -> List[str]:\n",
    "        trie = Trie()\n",
    "        for d in dictionary:\n",
    "            trie.add(d)\n",
    "        return [q for q in queries if trie.query(q)]\n",
    "\n",
    "\n",
    "s = Solution()\n",
    "# s.twoEditWords([\"word\", \"note\", \"ants\", \"xood\"], [\"wood\", \"joke\", \"moat\"])\n",
    "s.twoEditWords([\"prfturjd\", \"iarapqqk\", \"aokbrtmx\", \"yafmjorj\", \"larakqqk\", \"nliynmpm\", \"isikkcws\", \"laraeqqk\"], [\"apahhijt\", \"larapqqk\", \"isukkcws\", \"siqqoacj\", \"nloynmpm\"])\n"
   ]
  },
  {
   "cell_type": "code",
   "execution_count": null,
   "metadata": {},
   "outputs": [],
   "source": []
  }
 ],
 "metadata": {
  "kernelspec": {
   "display_name": "Python 3.10.5 64-bit",
   "language": "python",
   "name": "python3"
  },
  "language_info": {
   "codemirror_mode": {
    "name": "ipython",
    "version": 3
   },
   "file_extension": ".py",
   "mimetype": "text/x-python",
   "name": "python",
   "nbconvert_exporter": "python",
   "pygments_lexer": "ipython3",
   "version": "3.10.5"
  },
  "orig_nbformat": 4,
  "vscode": {
   "interpreter": {
    "hash": "3196968d684371006099b3d55edeef8ed90365227a30deaef86e5d4aa8519be0"
   }
  }
 },
 "nbformat": 4,
 "nbformat_minor": 2
}
