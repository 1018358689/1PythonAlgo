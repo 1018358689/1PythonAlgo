{
 "cells": [
  {
   "cell_type": "code",
   "execution_count": 1,
   "metadata": {},
   "outputs": [
    {
     "data": {
      "text/plain": [
       "7"
      ]
     },
     "execution_count": 1,
     "metadata": {},
     "output_type": "execute_result"
    }
   ],
   "source": [
    "from math import gcd\n",
    "gcd(0,7)"
   ]
  },
  {
   "cell_type": "code",
   "execution_count": 3,
   "metadata": {},
   "outputs": [
    {
     "data": {
      "text/plain": [
       "4"
      ]
     },
     "execution_count": 3,
     "metadata": {},
     "output_type": "execute_result"
    }
   ],
   "source": [
    "from typing import List\n",
    "from math import gcd\n",
    "\n",
    "\n",
    "class Solution:\n",
    "\n",
    "    def subarrayGCD(self, nums: List[int], k: int) -> int:\n",
    "        ans = 0\n",
    "        for i in range(len(nums)):\n",
    "            GCD = 0\n",
    "            for j in range(i, len(nums)):\n",
    "                if nums[j] % k:\n",
    "                    break\n",
    "                GCD = gcd(GCD, nums[j])\n",
    "                if GCD == k:\n",
    "                    ans += 1\n",
    "        return ans\n",
    "\n",
    "\n",
    "s = Solution()\n",
    "s.subarrayGCD([9, 3, 1, 2, 6, 3], 3)\n"
   ]
  },
  {
   "cell_type": "code",
   "execution_count": 4,
   "metadata": {},
   "outputs": [
    {
     "data": {
      "text/plain": [
       "4"
      ]
     },
     "execution_count": 4,
     "metadata": {},
     "output_type": "execute_result"
    }
   ],
   "source": [
    "from typing import List\n",
    "from math import gcd\n",
    "from collections import defaultdict\n",
    "\n",
    "\n",
    "class Solution:\n",
    "\n",
    "    def subarrayGCD(self, nums: List[int], k: int) -> int:\n",
    "        # dp[i][j] nums[i..j]的最大公约数\n",
    "        # dp[i][j] = gcd(dp[i][j-1],nums[j])\n",
    "        ans = 0\n",
    "        dp = defaultdict(lambda: defaultdict(lambda: 0))\n",
    "        lgh = len(nums)\n",
    "        for i in range(lgh):\n",
    "            for j in range(i, lgh):\n",
    "                dp[i][j] = gcd(dp[i][j - 1], nums[j])\n",
    "                if (cur := dp[i][j]) % k:\n",
    "                    break\n",
    "                ans += cur == k\n",
    "        return ans\n",
    "\n",
    "\n",
    "s = Solution()\n",
    "s.subarrayGCD([9, 3, 1, 2, 6, 3], 3)\n"
   ]
  }
 ],
 "metadata": {
  "kernelspec": {
   "display_name": "Python 3.10.6 64-bit",
   "language": "python",
   "name": "python3"
  },
  "language_info": {
   "codemirror_mode": {
    "name": "ipython",
    "version": 3
   },
   "file_extension": ".py",
   "mimetype": "text/x-python",
   "name": "python",
   "nbconvert_exporter": "python",
   "pygments_lexer": "ipython3",
   "version": "3.10.6"
  },
  "orig_nbformat": 4,
  "vscode": {
   "interpreter": {
    "hash": "916dbcbb3f70747c44a77c7bcd40155683ae19c65e1c03b4aa3499c5328201f1"
   }
  }
 },
 "nbformat": 4,
 "nbformat_minor": 2
}
