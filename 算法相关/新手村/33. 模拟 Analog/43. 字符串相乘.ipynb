{
 "cells": [
  {
   "cell_type": "code",
   "execution_count": null,
   "metadata": {},
   "outputs": [],
   "source": [
    "# 123*12 = (100+20+3)*(10+2)\n",
    "class Solution:\n",
    "\n",
    "    def multiply(self, num1: str, num2: str) -> str:\n",
    "        ans = 0\n",
    "        for i, n1 in enumerate(num1[::-1]):\n",
    "            for j, n2 in enumerate(num2[::-1]):\n",
    "                ans += (ord(n1) - ord('0')) * (10**i) * (ord(n2) - ord('0')) * (10**j)\n",
    "        return str(ans)"
   ]
  }
 ],
 "metadata": {
  "language_info": {
   "name": "python"
  },
  "orig_nbformat": 4
 },
 "nbformat": 4,
 "nbformat_minor": 2
}
