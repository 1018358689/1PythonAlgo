{
 "cells": [
  {
   "cell_type": "code",
   "execution_count": 1,
   "metadata": {},
   "outputs": [],
   "source": [
    "# 超时\n",
    "from collections import deque\n",
    "from typing import List\n",
    "\n",
    "\n",
    "class Solution:\n",
    "\n",
    "    def minOperations(self, nums1: List[int], nums2: List[int]) -> int:\n",
    "        d = sum(nums1) - sum(nums2)\n",
    "        if d == 0:\n",
    "            return 0\n",
    "        elif d < 0:\n",
    "            d *= -1\n",
    "            nums1, nums2 = nums2, nums1\n",
    "        lst = [num - 1 for num in nums1]\n",
    "        lst.extend(6 - num for num in nums2)\n",
    "        lst.sort(reverse=True)\n",
    "        q = deque([(d, 0, 0)])\n",
    "        vis = {d}\n",
    "        while q:\n",
    "            x, step, si = q.popleft()\n",
    "            for i in range(si, len(lst)):\n",
    "                y = x - lst[i]\n",
    "                if y not in vis:\n",
    "                    if y <= 0:\n",
    "                        return step + 1\n",
    "                    vis.add(y)\n",
    "                    q.append((y, step + 1, i + 1))\n",
    "        return -1"
   ]
  },
  {
   "cell_type": "code",
   "execution_count": 2,
   "metadata": {},
   "outputs": [],
   "source": [
    "from collections import defaultdict\n",
    "from math import ceil\n",
    "\n",
    "\n",
    "class Solution:\n",
    "\n",
    "    def minOperations(self, nums1: List[int], nums2: List[int]) -> int:\n",
    "        d = sum(nums1) - sum(nums2)\n",
    "        if d == 0:\n",
    "            return 0\n",
    "        elif d < 0:\n",
    "            d *= -1\n",
    "            nums1, nums2 = nums2, nums1\n",
    "        ha = defaultdict(int)\n",
    "        for num in nums1:\n",
    "            ha[num - 1] += 1\n",
    "        for num in nums2:\n",
    "            ha[6 - num] += 1\n",
    "        s = 0\n",
    "        ans = 0\n",
    "        # 贪心从大的开始\n",
    "        for x in range(5, 0, -1):\n",
    "            if s + ha[x] * x >= d:\n",
    "                return ans + ceil((d - s) / x)\n",
    "            s += ha[x] * x\n",
    "            ans += ha[x]\n",
    "        return -1"
   ]
  }
 ],
 "metadata": {
  "kernelspec": {
   "display_name": "Python 3.10.5 64-bit",
   "language": "python",
   "name": "python3"
  },
  "language_info": {
   "codemirror_mode": {
    "name": "ipython",
    "version": 3
   },
   "file_extension": ".py",
   "mimetype": "text/x-python",
   "name": "python",
   "nbconvert_exporter": "python",
   "pygments_lexer": "ipython3",
   "version": "3.10.5"
  },
  "orig_nbformat": 4,
  "vscode": {
   "interpreter": {
    "hash": "3196968d684371006099b3d55edeef8ed90365227a30deaef86e5d4aa8519be0"
   }
  }
 },
 "nbformat": 4,
 "nbformat_minor": 2
}
