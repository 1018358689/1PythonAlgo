{
 "cells": [
  {
   "cell_type": "code",
   "execution_count": 6,
   "metadata": {},
   "outputs": [
    {
     "name": "stdout",
     "output_type": "stream",
     "text": [
      "[[0, 0, 0], [1, 0, 1], [0, 1, 1], [0, 1, 0]]\n"
     ]
    }
   ],
   "source": [
    "from typing import List\n",
    "\n",
    "\n",
    "class Solution:\n",
    "\n",
    "    def gameOfLife(self, board: List[List[int]]) -> None:\n",
    "        \"\"\"\n",
    "        Do not return anything, modify board in-place instead.\n",
    "        \"\"\"\n",
    "        rows, cols = len(board), len(board[0])\n",
    "        tmps = [[0] * cols for _ in range(rows)]\n",
    "        dirs = ((-1, -1), (-1, 0), (-1, 1), (0, -1), (0, 1), (1, -1), (1, 0), (1, 1))\n",
    "        for r in range(rows):\n",
    "            for c in range(cols):\n",
    "                tmp = 0\n",
    "                for dr, dc in dirs:\n",
    "                    if rows > (nr := r + dr) >= 0 <= (nc := c + dc) < cols and board[nr][nc]:\n",
    "                        tmp += 1\n",
    "                if (board[r][c] == 1 and tmp in [2, 3]) or (board[r][c] != 1 and tmp == 3):\n",
    "                    tmps[r][c] = 1\n",
    "        for r in range(rows):\n",
    "            for c in range(cols):\n",
    "                board[r][c] = tmps[r][c]\n",
    "\n",
    "\n",
    "s = Solution()\n",
    "s.gameOfLife([[0, 1, 0], [0, 0, 1], [1, 1, 1], [0, 0, 0]])\n"
   ]
  },
  {
   "cell_type": "code",
   "execution_count": 7,
   "metadata": {},
   "outputs": [],
   "source": [
    "from typing import List\n",
    "from copy import deepcopy\n",
    "\n",
    "\n",
    "class Solution:\n",
    "\n",
    "    def gameOfLife(self, board: List[List[int]]) -> None:\n",
    "        \"\"\"\n",
    "        Do not return anything, modify board in-place instead.\n",
    "        \"\"\"\n",
    "        rows, cols = len(board), len(board[0])\n",
    "        tmps = deepcopy(board)\n",
    "        dirs = ((-1, -1), (-1, 0), (-1, 1), (0, -1), (0, 1), (1, -1), (1, 0), (1, 1))\n",
    "        for r in range(rows):\n",
    "            for c in range(cols):\n",
    "                tmp = 0\n",
    "                for dr, dc in dirs:\n",
    "                    if rows > (nr := r + dr) >= 0 <= (nc := c + dc) < cols and tmps[nr][nc]:\n",
    "                        tmp += 1\n",
    "                if board[r][c]:\n",
    "                    if tmp < 2 or tmp > 3:\n",
    "                        board[r][c] = 0\n",
    "                elif tmp == 3:\n",
    "                    board[r][c] = 1\n",
    "\n",
    "\n",
    "s = Solution()\n",
    "s.gameOfLife([[0, 1, 0], [0, 0, 1], [1, 1, 1], [0, 0, 0]])\n"
   ]
  },
  {
   "cell_type": "code",
   "execution_count": null,
   "metadata": {},
   "outputs": [],
   "source": []
  }
 ],
 "metadata": {
  "kernelspec": {
   "display_name": "Python 3.10.5 64-bit",
   "language": "python",
   "name": "python3"
  },
  "language_info": {
   "codemirror_mode": {
    "name": "ipython",
    "version": 3
   },
   "file_extension": ".py",
   "mimetype": "text/x-python",
   "name": "python",
   "nbconvert_exporter": "python",
   "pygments_lexer": "ipython3",
   "version": "3.10.5"
  },
  "orig_nbformat": 4,
  "vscode": {
   "interpreter": {
    "hash": "3196968d684371006099b3d55edeef8ed90365227a30deaef86e5d4aa8519be0"
   }
  }
 },
 "nbformat": 4,
 "nbformat_minor": 2
}
