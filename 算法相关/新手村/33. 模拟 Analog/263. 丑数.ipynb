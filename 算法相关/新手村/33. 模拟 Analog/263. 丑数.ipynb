{
 "cells": [
  {
   "cell_type": "code",
   "execution_count": null,
   "metadata": {},
   "outputs": [],
   "source": [
    "class Solution:\n",
    "\n",
    "    def isUgly(self, n: int) -> bool:\n",
    "        if n <= 0:\n",
    "            return False\n",
    "        for i in (2, 3, 5):\n",
    "            while not n % i:\n",
    "                n //= i\n",
    "        return n == 1\n"
   ]
  }
 ],
 "metadata": {
  "language_info": {
   "name": "python"
  },
  "orig_nbformat": 4
 },
 "nbformat": 4,
 "nbformat_minor": 2
}
