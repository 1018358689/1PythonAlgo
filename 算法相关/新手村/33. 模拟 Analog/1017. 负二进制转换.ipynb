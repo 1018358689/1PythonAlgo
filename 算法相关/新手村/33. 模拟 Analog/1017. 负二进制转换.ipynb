{
 "cells": [
  {
   "cell_type": "code",
   "execution_count": null,
   "metadata": {},
   "outputs": [],
   "source": [
    "class Solution:\n",
    "\n",
    "    def baseNeg2(self, n: int) -> str:\n",
    "        # 手玩\n",
    "        # a = b * c + d # d余数 b进制 c商\n",
    "        # d = a - b * c  ->  d = a + 2 * c # 要保证余数d最小且>=0\n",
    "        # c >= -a/2\n",
    "        if n == 0: return '0'\n",
    "        ans = ''\n",
    "        while n:\n",
    "            c = (-n + 1) // 2  # ceil(-n/2)\n",
    "            ans = str(n + 2 * c) + ans\n",
    "            n = c\n",
    "        return ans"
   ]
  }
 ],
 "metadata": {
  "language_info": {
   "name": "python"
  },
  "orig_nbformat": 4
 },
 "nbformat": 4,
 "nbformat_minor": 2
}
