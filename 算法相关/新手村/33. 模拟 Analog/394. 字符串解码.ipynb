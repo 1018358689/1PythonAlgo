{
 "cells": [
  {
   "cell_type": "code",
   "execution_count": null,
   "metadata": {},
   "outputs": [],
   "source": [
    "a = 'aaa'\n",
    "a.islower()"
   ]
  },
  {
   "cell_type": "code",
   "execution_count": 1,
   "metadata": {},
   "outputs": [
    {
     "data": {
      "text/plain": [
       "'aaabcbc'"
      ]
     },
     "execution_count": 1,
     "metadata": {},
     "output_type": "execute_result"
    }
   ],
   "source": [
    "class Solution:\n",
    "\n",
    "    def decodeString(self, s: str) -> str:\n",
    "        n = len(s)\n",
    "\n",
    "        def dfs(i):  # [ 和 ]分别作为递归开始和结束标志\n",
    "            cnt = 0\n",
    "            res = ''\n",
    "            while i < n:\n",
    "                c = s[i]\n",
    "                if c.isdigit():  # 累计数字\n",
    "                    cnt = 10 * cnt + int(c)\n",
    "                elif c == '[':  # 开启递归\n",
    "                    i, sub = dfs(i + 1)\n",
    "                    res += cnt * sub  # 拼接\n",
    "                    cnt = 0\n",
    "                elif c == ']':  # 结束递归\n",
    "                    return i, res\n",
    "                else:  # 累计字母\n",
    "                    res += c\n",
    "                i += 1\n",
    "            return res\n",
    "\n",
    "        return dfs(0)"
   ]
  }
 ],
 "metadata": {
  "kernelspec": {
   "display_name": "Python 3",
   "language": "python",
   "name": "python3"
  },
  "language_info": {
   "codemirror_mode": {
    "name": "ipython",
    "version": 3
   },
   "file_extension": ".py",
   "mimetype": "text/x-python",
   "name": "python",
   "nbconvert_exporter": "python",
   "pygments_lexer": "ipython3",
   "version": "3.10.6"
  },
  "orig_nbformat": 4,
  "vscode": {
   "interpreter": {
    "hash": "916dbcbb3f70747c44a77c7bcd40155683ae19c65e1c03b4aa3499c5328201f1"
   }
  }
 },
 "nbformat": 4,
 "nbformat_minor": 2
}
