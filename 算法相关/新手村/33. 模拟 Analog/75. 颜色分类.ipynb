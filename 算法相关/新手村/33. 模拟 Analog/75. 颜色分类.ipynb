{
 "cells": [
  {
   "cell_type": "code",
   "execution_count": 14,
   "metadata": {},
   "outputs": [
    {
     "data": {
      "text/plain": [
       "[0, 1, 2]"
      ]
     },
     "execution_count": 14,
     "metadata": {},
     "output_type": "execute_result"
    }
   ],
   "source": [
    "from typing import List\n",
    "\n",
    "\n",
    "class Solution:\n",
    "    def sortColors(self, nums: List[int]) -> None:\n",
    "        \"\"\"\n",
    "        Do not return anything, modify nums in-place instead.\n",
    "        \"\"\"\n",
    "        # [0,p1) 0\n",
    "        # [p1,p2) 1\n",
    "        # [p3,lgh) 2\n",
    "        def swap(x, y):\n",
    "            nums[x], nums[y] = nums[y], nums[x]\n",
    "        lgh = len(nums)\n",
    "        p1, p2, p3 = 0, 0, lgh\n",
    "        while p2 < p3:\n",
    "            if nums[p2] < 1:\n",
    "                swap(p1, p2)\n",
    "                p1 += 1\n",
    "                p2 += 1\n",
    "            elif nums[p2] == 1:\n",
    "                p2 += 1\n",
    "            else:\n",
    "                p3 -= 1\n",
    "                swap(p2, p3)\n",
    "        return nums\n",
    "\n",
    "\n",
    "s = Solution()\n",
    "s.sortColors([1, 2, 0])\n"
   ]
  },
  {
   "cell_type": "code",
   "execution_count": null,
   "metadata": {},
   "outputs": [],
   "source": [
    "class Solution:\n",
    "\n",
    "    def sortColors(self, nums: List[int]) -> None:\n",
    "        \"\"\"\n",
    "        Do not return anything, modify nums in-place instead.\n",
    "        \"\"\"\n",
    "        mark = 0\n",
    "        for i in range(1, len(nums)):\n",
    "            if nums[i] == 0:\n",
    "                mark += 1\n",
    "                nums[i], nums[mark] = nums[mark], nums[i]\n",
    "        nums[0], nums[mark] = nums[mark], nums[0]\n",
    "        if nums[mark] == 0:  # [0,mark]均为0\n",
    "            mark += 1\n",
    "        if mark > len(nums) - 1:  # 全部数字为0\n",
    "            return\n",
    "        si = mark\n",
    "        for i in range(si + 1, len(nums)):\n",
    "            if nums[i] == 1:\n",
    "                mark += 1\n",
    "                nums[i], nums[mark] = nums[mark], nums[i]\n",
    "        nums[si], nums[mark] = nums[mark], nums[si]\n"
   ]
  }
 ],
 "metadata": {
  "kernelspec": {
   "display_name": "Python 3.10.5 64-bit",
   "language": "python",
   "name": "python3"
  },
  "language_info": {
   "codemirror_mode": {
    "name": "ipython",
    "version": 3
   },
   "file_extension": ".py",
   "mimetype": "text/x-python",
   "name": "python",
   "nbconvert_exporter": "python",
   "pygments_lexer": "ipython3",
   "version": "3.10.5"
  },
  "orig_nbformat": 4,
  "vscode": {
   "interpreter": {
    "hash": "3196968d684371006099b3d55edeef8ed90365227a30deaef86e5d4aa8519be0"
   }
  }
 },
 "nbformat": 4,
 "nbformat_minor": 2
}
