{
 "cells": [
  {
   "cell_type": "code",
   "execution_count": null,
   "metadata": {},
   "outputs": [],
   "source": [
    "class Solution:\n",
    "\n",
    "    def taskSchedulerII(self, tasks: List[int], space: int) -> int:\n",
    "        t = defaultdict(lambda: -inf)\n",
    "        day = 0\n",
    "        for x in tasks:\n",
    "            day += 1\n",
    "            if day - t[x] <= space:  # -> day < t[x] + space + 1\n",
    "                day = t[x] + space + 1  # day跨过休息天\n",
    "            t[x] = day\n",
    "        return day"
   ]
  },
  {
   "cell_type": "code",
   "execution_count": null,
   "metadata": {},
   "outputs": [],
   "source": [
    "# 离散化 减少memory\n",
    "class Solution:\n",
    "\n",
    "    def taskSchedulerII(self, tasks: List[int], space: int) -> int:\n",
    "        lst = sorted(set(tasks))\n",
    "        n = len(lst)\n",
    "        t = [-inf] * n\n",
    "        day = 0\n",
    "        for x in tasks:\n",
    "            day += 1\n",
    "            x = bisect_left(lst, x)\n",
    "            if day - t[x] <= space:  # -> day < t[x] + space + 1\n",
    "                day = t[x] + space + 1  # day跨过休息天\n",
    "            t[x] = day\n",
    "        return day"
   ]
  },
  {
   "cell_type": "code",
   "execution_count": 4,
   "metadata": {},
   "outputs": [
    {
     "data": {
      "text/plain": [
       "('axdx', 'abcdbc')"
      ]
     },
     "execution_count": 4,
     "metadata": {},
     "output_type": "execute_result"
    }
   ],
   "source": [
    "import heapq\n",
    "s = 'abcdbc'\n",
    "s.replace('bc','x'),s"
   ]
  },
  {
   "cell_type": "code",
   "execution_count": null,
   "metadata": {},
   "outputs": [],
   "source": []
  }
 ],
 "metadata": {
  "kernelspec": {
   "display_name": "Python 3",
   "language": "python",
   "name": "python3"
  },
  "language_info": {
   "codemirror_mode": {
    "name": "ipython",
    "version": 3
   },
   "file_extension": ".py",
   "mimetype": "text/x-python",
   "name": "python",
   "nbconvert_exporter": "python",
   "pygments_lexer": "ipython3",
   "version": "3.10.5"
  },
  "orig_nbformat": 4
 },
 "nbformat": 4,
 "nbformat_minor": 2
}
