{
 "cells": [
  {
   "cell_type": "code",
   "execution_count": null,
   "metadata": {},
   "outputs": [],
   "source": [
    "class Solution:\n",
    "\n",
    "    def sumBase(self, n: int, k: int) -> int:\n",
    "        # 手玩 除k取余 使得余数>=0\n",
    "        # a = b * c + d   d余数 b进制 c进位\n",
    "        # d = a - b * c >= 0  c <= a/b 向下取整\n",
    "        ans = 0\n",
    "        while n:\n",
    "            c = n // k\n",
    "            ans += n - k * c\n",
    "            n = c\n",
    "        return ans\n"
   ]
  }
 ],
 "metadata": {
  "language_info": {
   "name": "python"
  },
  "orig_nbformat": 4
 },
 "nbformat": 4,
 "nbformat_minor": 2
}
