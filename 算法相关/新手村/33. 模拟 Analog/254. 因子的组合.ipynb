{
 "cells": [
  {
   "cell_type": "code",
   "execution_count": null,
   "metadata": {},
   "outputs": [],
   "source": [
    "from typing import List\n",
    "\n",
    "\n",
    "class Solution:\n",
    "\n",
    "    def getFactors(self, n: int) -> List[List[int]]:\n",
    "\n",
    "        def dfs(n, lim):\n",
    "            res = []\n",
    "            for x in range(lim, int(n**.5) + 1):\n",
    "                if not n % x:\n",
    "                    res.append([x, n // x])\n",
    "                    for sub in dfs(n // x, x):\n",
    "                        res.append([x] + sub)\n",
    "            return res\n",
    "\n",
    "        return dfs(n, 2)\n"
   ]
  }
 ],
 "metadata": {
  "kernelspec": {
   "display_name": "Python 3",
   "language": "python",
   "name": "python3"
  },
  "language_info": {
   "name": "python",
   "version": "3.11.1 (tags/v3.11.1:a7a450f, Dec  6 2022, 19:58:39) [MSC v.1934 64 bit (AMD64)]"
  },
  "orig_nbformat": 4,
  "vscode": {
   "interpreter": {
    "hash": "ff4b1fca65a764b45acb559e482afe389d289dd599b9f8c5fd12ff5c2ea46a65"
   }
  }
 },
 "nbformat": 4,
 "nbformat_minor": 2
}
