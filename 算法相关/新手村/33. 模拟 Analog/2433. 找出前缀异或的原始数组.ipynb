{
 "cells": [
  {
   "cell_type": "code",
   "execution_count": 34,
   "metadata": {},
   "outputs": [
    {
     "data": {
      "text/plain": [
       "(True, True, 3, 5)"
      ]
     },
     "execution_count": 34,
     "metadata": {},
     "output_type": "execute_result"
    }
   ],
   "source": [
    "a,b,c = 0,3,5\n",
    "(a or b or c)+(a or b or c)>(c or b or a),(a or b or c)+(a or b or c)>(a or b or c), (a or b or c),(c or b or a)"
   ]
  },
  {
   "cell_type": "code",
   "execution_count": null,
   "metadata": {},
   "outputs": [],
   "source": [
    "from typing import List\n",
    "\n",
    "\n",
    "# 0^x = x\n",
    "# x^x^y = x^y^x = y^x^x =y\n",
    "class Solution:\n",
    "\n",
    "    def findArray(self, pref: List[int]) -> List[int]:\n",
    "        # p2 = p1^x2 -> x2 = p2^p1\n",
    "        n = len(pref)\n",
    "        ans = [0] * n\n",
    "        ans[0] = pref[0]\n",
    "        for i in range(1, n):\n",
    "            ans[i] = pref[i] ^ pref[i - 1]\n",
    "        return ans"
   ]
  }
 ],
 "metadata": {
  "kernelspec": {
   "display_name": "Python 3.10.5 64-bit",
   "language": "python",
   "name": "python3"
  },
  "language_info": {
   "codemirror_mode": {
    "name": "ipython",
    "version": 3
   },
   "file_extension": ".py",
   "mimetype": "text/x-python",
   "name": "python",
   "nbconvert_exporter": "python",
   "pygments_lexer": "ipython3",
   "version": "3.10.5"
  },
  "orig_nbformat": 4,
  "vscode": {
   "interpreter": {
    "hash": "3196968d684371006099b3d55edeef8ed90365227a30deaef86e5d4aa8519be0"
   }
  }
 },
 "nbformat": 4,
 "nbformat_minor": 2
}
