{
 "cells": [
  {
   "cell_type": "code",
   "execution_count": 3,
   "metadata": {},
   "outputs": [],
   "source": [
    "from itertools import pairwise\n",
    "for x,y in pairwise([1]):\n",
    "    print(x,y)"
   ]
  },
  {
   "cell_type": "code",
   "execution_count": null,
   "metadata": {},
   "outputs": [],
   "source": [
    "# 1 2 3\n",
    "from sortedcontainers import SortedList\n",
    "from itertools import pairwise\n",
    "\n",
    "\n",
    "class ExamRoom:\n",
    "\n",
    "    def __init__(self, n: int):\n",
    "        self.sl = SortedList()\n",
    "        self.n = n\n",
    "\n",
    "    def seat(self) -> int:\n",
    "        if not self.sl:\n",
    "            self.sl.add(0)\n",
    "            return 0\n",
    "        # 两个位置间分配哦 注意开头和结尾 0和n-1 也是可以放位置\n",
    "        d, idx = self.sl[0] - 0, 0  # 先放0号位\n",
    "        # 间隔比较\n",
    "        for x, y in pairwise(self.sl):\n",
    "            if (y - x) // 2 > d:\n",
    "                d = (y - x) // 2\n",
    "                idx = x + (y - x) // 2\n",
    "        # n-1试试看\n",
    "        if self.n - 1 - self.sl[-1] > d:\n",
    "            idx = self.n - 1\n",
    "        self.sl.add(idx)\n",
    "        return idx\n",
    "\n",
    "    def leave(self, p: int) -> None:\n",
    "        self.sl.remove(p)\n",
    "\n",
    "\n",
    "# Your ExamRoom object will be instantiated and called as such:\n",
    "# obj = ExamRoom(n)\n",
    "# param_1 = obj.seat()\n",
    "# obj.leave(p)"
   ]
  }
 ],
 "metadata": {
  "kernelspec": {
   "display_name": "Python 3",
   "language": "python",
   "name": "python3"
  },
  "language_info": {
   "codemirror_mode": {
    "name": "ipython",
    "version": 3
   },
   "file_extension": ".py",
   "mimetype": "text/x-python",
   "name": "python",
   "nbconvert_exporter": "python",
   "pygments_lexer": "ipython3",
   "version": "3.11.1 (tags/v3.11.1:a7a450f, Dec  6 2022, 19:58:39) [MSC v.1934 64 bit (AMD64)]"
  },
  "orig_nbformat": 4,
  "vscode": {
   "interpreter": {
    "hash": "ff4b1fca65a764b45acb559e482afe389d289dd599b9f8c5fd12ff5c2ea46a65"
   }
  }
 },
 "nbformat": 4,
 "nbformat_minor": 2
}
