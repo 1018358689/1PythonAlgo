{
 "cells": [
  {
   "cell_type": "code",
   "execution_count": null,
   "metadata": {},
   "outputs": [],
   "source": [
    "# https://www.lintcode.com/problem/47/solution/59435"
   ]
  },
  {
   "cell_type": "code",
   "execution_count": null,
   "metadata": {},
   "outputs": [],
   "source": [
    "from typing import List\n",
    "\n",
    "# 三三抵消\n",
    "\n",
    "\n",
    "class Solution:\n",
    "\n",
    "    def majority_number(self, nums: List[int]) -> int:\n",
    "        maj1, maj2, cnt1, cnt2 = None, None, 0, 0\n",
    "        for c in nums:\n",
    "            if c == maj1:\n",
    "                cnt1 += 1\n",
    "            elif c == maj2:\n",
    "                cnt2 += 1\n",
    "            elif cnt1 == 0:\n",
    "                maj1 = c\n",
    "                cnt1 = 1\n",
    "            elif cnt2 == 0:\n",
    "                maj2 = c\n",
    "                cnt2 = 1\n",
    "            else:\n",
    "                cnt1 -= 1\n",
    "                cnt2 -= 1\n",
    "        # 验证\n",
    "        cnt1 = cnt2 = 0\n",
    "        for c in nums:\n",
    "            if c == maj1:\n",
    "                cnt1 += 1\n",
    "            elif c == maj2:\n",
    "                cnt2 += 1\n",
    "        return maj1 if cnt1 > cnt2 else maj2"
   ]
  }
 ],
 "metadata": {
  "language_info": {
   "name": "python"
  },
  "orig_nbformat": 4
 },
 "nbformat": 4,
 "nbformat_minor": 2
}
