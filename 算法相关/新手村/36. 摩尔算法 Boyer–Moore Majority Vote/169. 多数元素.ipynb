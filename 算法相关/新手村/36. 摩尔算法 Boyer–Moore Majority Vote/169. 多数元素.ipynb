{
 "cells": [
  {
   "cell_type": "code",
   "execution_count": null,
   "metadata": {},
   "outputs": [],
   "source": [
    "from typing import List\n",
    "# 两两抵消\n",
    "# 是maj则+1 , 否则cnt为0则 maj换人 cnt为1 , 否则(cnt>0) cnt-1\n",
    "class Solution:\n",
    "\n",
    "    def majorityElement(self, nums: List[int]) -> int:\n",
    "        maj, cnt = None, 0\n",
    "        for c in nums:\n",
    "            if c == maj:\n",
    "                cnt += 1\n",
    "            elif not cnt:\n",
    "                maj = c\n",
    "                cnt = 1\n",
    "            else:\n",
    "                cnt -= 1\n",
    "        return maj"
   ]
  }
 ],
 "metadata": {
  "language_info": {
   "name": "python"
  },
  "orig_nbformat": 4
 },
 "nbformat": 4,
 "nbformat_minor": 2
}
