{
 "cells": [
  {
   "cell_type": "code",
   "execution_count": null,
   "metadata": {},
   "outputs": [],
   "source": [
    "from typing import List\n",
    "\n",
    "\n",
    "class Solution:\n",
    "\n",
    "    def partitionDisjoint(self, nums: List[int]) -> int:\n",
    "        minArr = [nums[-1]] * len(nums)  # minArr[i:]最小值\n",
    "        for i in range(len(nums) - 2, -1, -1):\n",
    "            minArr[i] = min(minArr[i + 1], nums[i])\n",
    "        maxNum = float('-inf')\n",
    "        for i in range(len(nums) - 1):  # 题目说肯定有解\n",
    "            maxNum = max(maxNum, nums[i])\n",
    "            if maxNum <= minArr[i + 1]:\n",
    "                return i + 1\n"
   ]
  }
 ],
 "metadata": {
  "language_info": {
   "name": "python"
  },
  "orig_nbformat": 4
 },
 "nbformat": 4,
 "nbformat_minor": 2
}
