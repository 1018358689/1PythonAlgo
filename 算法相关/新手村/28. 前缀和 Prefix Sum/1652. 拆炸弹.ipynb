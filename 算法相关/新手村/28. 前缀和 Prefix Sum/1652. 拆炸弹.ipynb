{
 "cells": [
  {
   "cell_type": "code",
   "execution_count": 1,
   "metadata": {},
   "outputs": [],
   "source": [
    "from typing import List\n",
    "\n",
    "\n",
    "class Solution:\n",
    "\n",
    "    def decrypt(self, code: List[int], k: int) -> List[int]:\n",
    "        ans = []\n",
    "        lgh = len(code)\n",
    "        for i in range(lgh):\n",
    "            local = 0\n",
    "            if k >= 0:\n",
    "                for j in range(i + 1, i + 1 + k):\n",
    "                    local += code[j % lgh]\n",
    "            else:\n",
    "                for j in range(i - 1, i - 1 + k, -1):\n",
    "                    local += code[j % lgh]\n",
    "            ans.append(local)\n",
    "        return ans"
   ]
  },
  {
   "cell_type": "code",
   "execution_count": 2,
   "metadata": {},
   "outputs": [
    {
     "data": {
      "text/plain": [
       "[1, 2, 3, 1, 2, 3]"
      ]
     },
     "execution_count": 2,
     "metadata": {},
     "output_type": "execute_result"
    }
   ],
   "source": [
    "[1,2,3]*2"
   ]
  },
  {
   "cell_type": "code",
   "execution_count": 5,
   "metadata": {},
   "outputs": [
    {
     "name": "stdout",
     "output_type": "stream",
     "text": [
      "[5, 7, 1, 4, 5, 7, 1, 4] [0, 5, 12, 13, 17, 22, 29, 30, 34]\n"
     ]
    },
    {
     "data": {
      "text/plain": [
       "[12, 10, 16, 13]"
      ]
     },
     "execution_count": 5,
     "metadata": {},
     "output_type": "execute_result"
    }
   ],
   "source": [
    "from typing import List\n",
    "\n",
    "\n",
    "class Solution:\n",
    "\n",
    "    def decrypt(self, code: List[int], k: int) -> List[int]:\n",
    "        code *= 2\n",
    "        preSum = [0] * (len(code) + 1)\n",
    "        for i in range(len(code)):\n",
    "            preSum[i + 1] = preSum[i] + code[i]\n",
    "        ans = []\n",
    "        if k >= 0:\n",
    "            for i in range(len(code) >> 1):\n",
    "                ans.append(preSum[i + 1 + k] - preSum[i + 1])  # [i+1,i+k]\n",
    "        else:\n",
    "            for i in range(len(code) >> 1, len(code)):\n",
    "                ans.append(preSum[i] - preSum[i + k])  # [i+k,i-1]\n",
    "        return ans\n",
    "\n",
    "\n",
    "s = Solution()\n",
    "s.decrypt([5, 7, 1, 4], 3)\n"
   ]
  },
  {
   "cell_type": "code",
   "execution_count": null,
   "metadata": {},
   "outputs": [],
   "source": []
  }
 ],
 "metadata": {
  "kernelspec": {
   "display_name": "Python 3.10.5 64-bit",
   "language": "python",
   "name": "python3"
  },
  "language_info": {
   "codemirror_mode": {
    "name": "ipython",
    "version": 3
   },
   "file_extension": ".py",
   "mimetype": "text/x-python",
   "name": "python",
   "nbconvert_exporter": "python",
   "pygments_lexer": "ipython3",
   "version": "3.10.5"
  },
  "orig_nbformat": 4,
  "vscode": {
   "interpreter": {
    "hash": "3196968d684371006099b3d55edeef8ed90365227a30deaef86e5d4aa8519be0"
   }
  }
 },
 "nbformat": 4,
 "nbformat_minor": 2
}
