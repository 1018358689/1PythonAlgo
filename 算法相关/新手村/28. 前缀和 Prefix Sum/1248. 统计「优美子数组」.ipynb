{
 "cells": [
  {
   "cell_type": "code",
   "execution_count": null,
   "metadata": {},
   "outputs": [],
   "source": [
    "class Solution:\n",
    "\n",
    "    def numberOfSubarrays(self, nums: List[int], k: int) -> int:\n",
    "        odd = defaultdict(int)  # 前缀奇数个数\n",
    "        odd[0] = 1\n",
    "        od = ans = 0\n",
    "        for x in nums:\n",
    "            od += x & 1\n",
    "            ans += odd[od - k]\n",
    "            odd[od] += 1\n",
    "        return ans"
   ]
  }
 ],
 "metadata": {
  "language_info": {
   "name": "python"
  },
  "orig_nbformat": 4
 },
 "nbformat": 4,
 "nbformat_minor": 2
}
