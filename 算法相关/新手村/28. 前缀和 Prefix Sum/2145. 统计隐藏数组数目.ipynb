{
 "cells": [
  {
   "cell_type": "code",
   "execution_count": null,
   "metadata": {},
   "outputs": [],
   "source": [
    "class Solution:\n",
    "\n",
    "    def numberOfArrays(self, differences: List[int], lower: int, upper: int) -> int:\n",
    "        ps = list(accumulate(differences, initial=0))\n",
    "        # 假设ps最高点和最低点距离 < up&low距离\n",
    "        # -> 数组通过全部+val偏移后完全在 low-up之间\n",
    "        # -> 符合条件数组就是在内部 可偏移数\n",
    "        d1 = upper - lower + 1\n",
    "        d2 = max(ps) - min(ps) + 1\n",
    "        return max(0, d1 - d2 + 1)  # 如果d1 > d2 那么没法找到符合要求的数组 如果d1 == d2 那么就是完全包含在lower-uper的数组\n"
   ]
  }
 ],
 "metadata": {
  "language_info": {
   "name": "python"
  },
  "orig_nbformat": 4
 },
 "nbformat": 4,
 "nbformat_minor": 2
}
