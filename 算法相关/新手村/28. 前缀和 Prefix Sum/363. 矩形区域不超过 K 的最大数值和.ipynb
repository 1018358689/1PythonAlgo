{
 "cells": [
  {
   "cell_type": "code",
   "execution_count": 1,
   "metadata": {},
   "outputs": [],
   "source": [
    "from typing import List\n",
    "from sortedcontainers import SortedList\n",
    "\n",
    "\n",
    "class NumMatrix:\n",
    "\n",
    "    def __init__(self, matrix: List[List[int]]):\n",
    "        self.matrix = matrix\n",
    "        self.ps = self.pre_sum()\n",
    "\n",
    "    def pre_sum(self):\n",
    "        row = len(self.matrix)\n",
    "        col = len(self.matrix[0])\n",
    "        res = [[0] * (col + 1) for _ in range(row + 1)]\n",
    "        for r in range(row):\n",
    "            for c in range(col):\n",
    "                res[r + 1][c + 1] = res[r][c + 1] + res[r + 1][c] - res[r][c] + self.matrix[r][c]\n",
    "        return res\n",
    "\n",
    "    def sumRegion(self, row1: int, col1: int, row2: int, col2: int) -> int:\n",
    "        s1 = self.ps[row2 + 1][col2 + 1]\n",
    "        s0 = self.ps[row1][col1]\n",
    "        s3 = self.ps[row1][col2 + 1]\n",
    "        s4 = self.ps[row2 + 1][col1]\n",
    "        # s1 = s3 + s4 - s0 + r\n",
    "        return s1 - s3 - s4 + s0\n",
    "\n",
    "\n",
    "class Solution:\n",
    "\n",
    "    def maxSumSubmatrix(self, matrix: List[List[int]], k: int) -> int:\n",
    "        rows, cols = len(matrix), len(matrix[0])\n",
    "        psum = NumMatrix(matrix)\n",
    "        ans = -inf\n",
    "        for left in range(cols):\n",
    "            for right in range(left, cols):\n",
    "                sl = SortedList()\n",
    "                sl.add(0)\n",
    "                for row in range(rows):\n",
    "                    s = psum.sumRegion(0, left, row, right)\n",
    "                    l = sl.bisect_left(s - k)\n",
    "                    if l < len(sl):\n",
    "                        ans = max(ans, s - sl[l])\n",
    "                    sl.add(s)\n",
    "        return ans"
   ]
  },
  {
   "cell_type": "code",
   "execution_count": 2,
   "metadata": {},
   "outputs": [],
   "source": [
    "from typing import List\n",
    "from sortedcontainers import SortedList\n",
    "\n",
    "\n",
    "class Solution:\n",
    "\n",
    "    def maxSumSubmatrix(self, matrix: List[List[int]], k: int) -> int:\n",
    "        rows, cols = len(matrix), len(matrix[0])\n",
    "        ans = -inf\n",
    "        rs = [list(accumulate(row, initial=0)) for row in matrix]\n",
    "        for left in range(cols):\n",
    "            for right in range(left, cols):\n",
    "                sl = SortedList()\n",
    "                sl.add(0)\n",
    "                s = 0\n",
    "                for row in range(rows):\n",
    "                    s += rs[row][right + 1] - rs[row][left]\n",
    "                    l = sl.bisect_left(s - k)\n",
    "                    if l < len(sl):\n",
    "                        ans = max(ans, s - sl[l])\n",
    "                    sl.add(s)\n",
    "        return ans"
   ]
  },
  {
   "cell_type": "code",
   "execution_count": 3,
   "metadata": {},
   "outputs": [],
   "source": [
    "from bisect import bisect_left, insort\n",
    "from itertools import accumulate\n",
    "from math import inf\n",
    "from typing import List\n",
    "\n",
    "\n",
    "class Solution:\n",
    "\n",
    "    def maxSumSubmatrix(self, matrix: List[List[int]], k: int) -> int:\n",
    "        rows, cols = len(matrix), len(matrix[0])\n",
    "        ans = -inf\n",
    "        rs = [list(accumulate(row, initial=0)) for row in matrix]\n",
    "        for left in range(cols):\n",
    "            for right in range(left, cols):\n",
    "                sl = [0]\n",
    "                s = 0\n",
    "                for row in range(rows):\n",
    "                    s += rs[row][right + 1] - rs[row][left]\n",
    "                    l = bisect_left(sl, s - k)\n",
    "                    if l < len(sl):\n",
    "                        ans = max(ans, s - sl[l])\n",
    "                    insort(sl, s)\n",
    "        return ans"
   ]
  },
  {
   "cell_type": "code",
   "execution_count": null,
   "metadata": {},
   "outputs": [],
   "source": []
  }
 ],
 "metadata": {
  "kernelspec": {
   "display_name": "Python 3",
   "language": "python",
   "name": "python3"
  },
  "language_info": {
   "codemirror_mode": {
    "name": "ipython",
    "version": 3
   },
   "file_extension": ".py",
   "mimetype": "text/x-python",
   "name": "python",
   "nbconvert_exporter": "python",
   "pygments_lexer": "ipython3",
   "version": "3.11.1"
  },
  "orig_nbformat": 4,
  "vscode": {
   "interpreter": {
    "hash": "ff4b1fca65a764b45acb559e482afe389d289dd599b9f8c5fd12ff5c2ea46a65"
   }
  }
 },
 "nbformat": 4,
 "nbformat_minor": 2
}
