{
 "cells": [
  {
   "cell_type": "code",
   "execution_count": 2,
   "metadata": {},
   "outputs": [
    {
     "data": {
      "text/plain": [
       "True"
      ]
     },
     "execution_count": 2,
     "metadata": {},
     "output_type": "execute_result"
    }
   ],
   "source": [
    "from typing import List\n",
    "\n",
    "\n",
    "class Solution:\n",
    "\n",
    "    def checkSubarraySum(self, nums: List[int], k: int) -> bool:\n",
    "        ha = set()\n",
    "        preSum = 0\n",
    "        for n in nums:\n",
    "            lastSum = preSum\n",
    "            preSum += n\n",
    "            if preSum % k in ha:\n",
    "                return True\n",
    "            ha.add(lastSum % k)\n",
    "        return False\n",
    "\n",
    "\n",
    "s = Solution()\n",
    "s.checkSubarraySum([23, 2, 4, 6, 7], 6)\n"
   ]
  },
  {
   "cell_type": "code",
   "execution_count": 8,
   "metadata": {},
   "outputs": [
    {
     "data": {
      "text/plain": [
       "True"
      ]
     },
     "execution_count": 8,
     "metadata": {},
     "output_type": "execute_result"
    }
   ],
   "source": [
    "from typing import List\n",
    "\n",
    "\n",
    "class Solution:\n",
    "\n",
    "    def checkSubarraySum(self, nums: List[int], k: int) -> bool:\n",
    "        ha = set()\n",
    "        preSum = [0] * (len(nums) + 1)\n",
    "        for i in range(len(nums)):\n",
    "            preSum[i + 1] = preSum[i] + nums[i]\n",
    "        for i in range(1, len(preSum)):\n",
    "            if preSum[i] % k in ha:\n",
    "                return True\n",
    "            ha.add(preSum[i - 1] % k)\n",
    "        return False\n",
    "\n",
    "\n",
    "s = Solution()\n",
    "s.checkSubarraySum([23, 2, 4, 6, 7], 6)\n"
   ]
  },
  {
   "cell_type": "code",
   "execution_count": null,
   "metadata": {},
   "outputs": [],
   "source": []
  }
 ],
 "metadata": {
  "interpreter": {
   "hash": "97367d2de1780ea7c502b529f25888c1b53c0430a7611816b6c7cf19d8435228"
  },
  "kernelspec": {
   "display_name": "Python 3.10.4 64-bit (windows store)",
   "language": "python",
   "name": "python3"
  },
  "language_info": {
   "codemirror_mode": {
    "name": "ipython",
    "version": 3
   },
   "file_extension": ".py",
   "mimetype": "text/x-python",
   "name": "python",
   "nbconvert_exporter": "python",
   "pygments_lexer": "ipython3",
   "version": "3.10.4"
  },
  "orig_nbformat": 4
 },
 "nbformat": 4,
 "nbformat_minor": 2
}
