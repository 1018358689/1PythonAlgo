{
 "cells": [
  {
   "cell_type": "code",
   "execution_count": 1,
   "metadata": {},
   "outputs": [],
   "source": [
    "from typing import List\n",
    "\n",
    "\n",
    "class Solution:\n",
    "\n",
    "    def maximumCostSubstring(self, s: str, chars: str, vals: List[int]) -> int:\n",
    "        scores = {}\n",
    "        for x, v in zip(chars, vals):\n",
    "            scores[x] = v\n",
    "        s = [scores.get(x, ord(x) - ord('a') + 1) for x in s]\n",
    "        mn = 0\n",
    "        ans = 0\n",
    "        x = 0\n",
    "        for sc in s:\n",
    "            x += sc\n",
    "            if x - mn > ans:\n",
    "                ans = x - mn\n",
    "            if x < mn:\n",
    "                mn = x\n",
    "        return ans"
   ]
  },
  {
   "cell_type": "code",
   "execution_count": null,
   "metadata": {},
   "outputs": [],
   "source": [
    "from itertools import accumulate\n",
    "\n",
    "\n",
    "class Solution:\n",
    "    def maximumCostSubstring(self, s: str, chars: str, vals: List[int]) -> int:\n",
    "        scores = dict(zip(chars,vals))\n",
    "        s = [scores.get(x, ord(x) - ord('a') + 1) for x in s]\n",
    "        ps = list(accumulate(s, initial = 0))\n",
    "        mn = 0\n",
    "        ans = 0\n",
    "        for x in ps:\n",
    "            if x - mn > ans:\n",
    "                ans = x - mn\n",
    "            if x < mn:\n",
    "                mn = x\n",
    "        return ans"
   ]
  }
 ],
 "metadata": {
  "kernelspec": {
   "display_name": "Python 3",
   "language": "python",
   "name": "python3"
  },
  "language_info": {
   "codemirror_mode": {
    "name": "ipython",
    "version": 3
   },
   "file_extension": ".py",
   "mimetype": "text/x-python",
   "name": "python",
   "nbconvert_exporter": "python",
   "pygments_lexer": "ipython3",
   "version": "3.10.5"
  },
  "orig_nbformat": 4
 },
 "nbformat": 4,
 "nbformat_minor": 2
}
