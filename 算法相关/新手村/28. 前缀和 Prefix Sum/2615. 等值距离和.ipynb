{
 "cells": [
  {
   "cell_type": "code",
   "execution_count": null,
   "metadata": {},
   "outputs": [],
   "source": [
    "class Solution:\n",
    "\n",
    "    def distance(self, nums: List[int]) -> List[int]:\n",
    "\n",
    "        def cal(arr):\n",
    "            n = len(arr)\n",
    "            left = [0] * n\n",
    "            right = [0] * n\n",
    "            for i in range(1, n):\n",
    "                left[i] = left[i - 1] + i * (arr[i] - arr[i - 1])\n",
    "                i = n - 1 - i\n",
    "                right[i] = right[i + 1] + (n - 1 - i) * (arr[i + 1] - arr[i])\n",
    "            return [left[i] + right[i] for i in range(n)]\n",
    "\n",
    "        ans = [0] * len(nums)\n",
    "        ha = defaultdict(list)\n",
    "        for i, x in enumerate(nums):\n",
    "            ha[x].append(i)\n",
    "        for vals in ha.values():\n",
    "            for i, v in zip(vals, cal(vals)):\n",
    "                ans[i] = v\n",
    "        return ans\n"
   ]
  },
  {
   "cell_type": "code",
   "execution_count": null,
   "metadata": {},
   "outputs": [],
   "source": [
    "class Solution:\n",
    "    def distance(self, nums: List[int]) -> List[int]:\n",
    "        ans = [0] * len(nums)\n",
    "        ha = defaultdict(list)\n",
    "        for i, x in enumerate(nums):\n",
    "            ha[x].append(i)\n",
    "        for vals in ha.values():\n",
    "            n = len(vals)\n",
    "            ps = list(accumulate(vals, initial = 0))\n",
    "            for i, v in enumerate(vals):\n",
    "                left = i * v - ps[i]\n",
    "                right = ps[-1] - ps[i + 1] - (n - 1 - i) * v\n",
    "                ans[v] = left + right\n",
    "        return ans"
   ]
  }
 ],
 "metadata": {
  "kernelspec": {
   "display_name": "Python 3",
   "language": "python",
   "name": "python3"
  },
  "language_info": {
   "codemirror_mode": {
    "name": "ipython",
    "version": 3
   },
   "file_extension": ".py",
   "mimetype": "text/x-python",
   "name": "python",
   "nbconvert_exporter": "python",
   "pygments_lexer": "ipython3",
   "version": "3.10.5"
  },
  "orig_nbformat": 4
 },
 "nbformat": 4,
 "nbformat_minor": 2
}
