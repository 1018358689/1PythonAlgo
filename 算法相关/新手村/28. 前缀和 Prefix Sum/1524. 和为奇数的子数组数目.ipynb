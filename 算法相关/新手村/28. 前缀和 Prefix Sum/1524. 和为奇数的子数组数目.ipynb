{
 "cells": [
  {
   "cell_type": "code",
   "execution_count": null,
   "metadata": {},
   "outputs": [],
   "source": [
    "class Solution:\n",
    "\n",
    "    def numOfSubarrays(self, arr: List[int]) -> int:\n",
    "        # 奇 + 偶 = 奇  奇 + 奇 = 偶\n",
    "        # 奇 = 奇 - 偶 = 偶 - 奇\n",
    "        MOD = 10**9 + 7\n",
    "        cnts = [1, 0]  # 前缀和 偶数 和 奇数个数 预先0为偶数\n",
    "        s = ans = 0\n",
    "        for x in arr:\n",
    "            s += x\n",
    "            sig = s & 1\n",
    "            ans += cnts[sig ^ 1]\n",
    "            ans %= MOD\n",
    "            cnts[sig] += 1\n",
    "        return ans"
   ]
  }
 ],
 "metadata": {
  "language_info": {
   "name": "python"
  },
  "orig_nbformat": 4
 },
 "nbformat": 4,
 "nbformat_minor": 2
}
