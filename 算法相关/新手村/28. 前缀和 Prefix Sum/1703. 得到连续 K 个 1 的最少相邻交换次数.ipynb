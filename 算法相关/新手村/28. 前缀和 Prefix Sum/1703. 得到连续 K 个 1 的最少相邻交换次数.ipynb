{
 "cells": [
  {
   "cell_type": "code",
   "execution_count": null,
   "metadata": {},
   "outputs": [],
   "source": [
    "# https://leetcode.cn/problems/minimum-adjacent-swaps-for-k-consecutive-ones/solutions/2024387/tu-jie-zhuan-huan-cheng-zhong-wei-shu-ta-iz4v/"
   ]
  },
  {
   "cell_type": "code",
   "execution_count": null,
   "metadata": {},
   "outputs": [],
   "source": [
    "from math import inf\n",
    "from typing import List\n",
    "from itertools import accumulate\n",
    "\n",
    "\n",
    "class Solution:\n",
    "\n",
    "    def minMoves(self, nums: List[int], k: int) -> int:\n",
    "        q = [c - i for i, c in enumerate(i for i, c in enumerate(nums) if c == 1)]\n",
    "        p = list(accumulate(q, initial=0))  # s[1,2,3] = p[4]-p[1]\n",
    "        ans = inf\n",
    "        for i in range(len(q) - k + 1):\n",
    "            # [i,i+k]\n",
    "            ans = min(ans, p[i] + p[i + k] - 2 * p[(i + i + k) // 2] - q[(i + i + k) // 2] * (k % 2))\n",
    "        return ans"
   ]
  }
 ],
 "metadata": {
  "language_info": {
   "name": "python"
  },
  "orig_nbformat": 4
 },
 "nbformat": 4,
 "nbformat_minor": 2
}
