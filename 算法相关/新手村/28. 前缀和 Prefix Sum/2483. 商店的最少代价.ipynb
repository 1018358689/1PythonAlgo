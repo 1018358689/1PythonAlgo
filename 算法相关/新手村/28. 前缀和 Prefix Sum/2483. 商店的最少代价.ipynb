{
 "cells": [
  {
   "cell_type": "code",
   "execution_count": null,
   "metadata": {},
   "outputs": [],
   "source": [
    "from math import inf\n",
    "\n",
    "\n",
    "class Solution:\n",
    "\n",
    "    def bestClosingTime(self, customers: str) -> int:\n",
    "        n = len(customers)\n",
    "        preN = [0] * (n + 1)  # 索引前面N的个数\n",
    "        sufY = [0] * (n + 1)  # 索引及后面Y的个数\n",
    "        for i in range(1, n + 1):\n",
    "            preN[i] = preN[i - 1] + int(customers[i - 1] == 'N')\n",
    "            sufY[n - i] = sufY[n - i + 1] + int(customers[n - i] == 'Y')\n",
    "        # print(preN,sufY)\n",
    "        ans, cost = -1, inf\n",
    "        for i in range(n, -1, -1):\n",
    "            if (cur := preN[i] + sufY[i]) <= cost:\n",
    "                cost = cur\n",
    "                ans = i\n",
    "        return ans\n"
   ]
  }
 ],
 "metadata": {
  "language_info": {
   "name": "python"
  },
  "orig_nbformat": 4
 },
 "nbformat": 4,
 "nbformat_minor": 2
}
