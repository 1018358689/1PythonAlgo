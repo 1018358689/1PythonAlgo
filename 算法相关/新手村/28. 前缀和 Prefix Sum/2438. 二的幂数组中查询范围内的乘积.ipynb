{
 "cells": [
  {
   "cell_type": "code",
   "execution_count": null,
   "metadata": {},
   "outputs": [],
   "source": [
    "# 前缀积\n",
    "class Solution:\n",
    "    def productQueries(self, n: int, queries: List[List[int]]) -> List[int]:\n",
    "        MOD = 10 ** 9 + 7\n",
    "        power = []\n",
    "        while n:\n",
    "            lowbit = n & -n\n",
    "            power.append(lowbit)\n",
    "            n ^= lowbit\n",
    "        npower = len(power)\n",
    "        prepro = list(accumulate(power, lambda x,y:x*y, initial = 1))\n",
    "        return [prepro[r + 1] // prepro[l] % MOD for l, r in queries]"
   ]
  },
  {
   "cell_type": "code",
   "execution_count": 2,
   "metadata": {},
   "outputs": [
    {
     "ename": "NameError",
     "evalue": "name 's1' is not defined",
     "output_type": "error",
     "traceback": [
      "\u001b[1;31m---------------------------------------------------------------------------\u001b[0m",
      "\u001b[1;31mNameError\u001b[0m                                 Traceback (most recent call last)",
      "Cell \u001b[1;32mIn[2], line 3\u001b[0m\n\u001b[0;32m      1\u001b[0m a \u001b[39m=\u001b[39m [\u001b[39m1\u001b[39m,\u001b[39m2\u001b[39m,\u001b[39m3\u001b[39m]\n\u001b[0;32m      2\u001b[0m b \u001b[39m=\u001b[39m [\u001b[39m9\u001b[39m,\u001b[39m8\u001b[39m,\u001b[39m7\u001b[39m]\n\u001b[1;32m----> 3\u001b[0m s1, s2, s \u001b[39m=\u001b[39m \u001b[39msum\u001b[39m(a), \u001b[39msum\u001b[39m(b),s1 \u001b[39m+\u001b[39m s2\n",
      "\u001b[1;31mNameError\u001b[0m: name 's1' is not defined"
     ]
    }
   ],
   "source": [
    "a = [1,2,3]\n",
    "b = [9,8,7]\n",
    "s1, s2, s = sum(a), sum(b),s1 + s2"
   ]
  },
  {
   "cell_type": "code",
   "execution_count": null,
   "metadata": {},
   "outputs": [],
   "source": []
  }
 ],
 "metadata": {
  "kernelspec": {
   "display_name": "yy",
   "language": "python",
   "name": "python3"
  },
  "language_info": {
   "codemirror_mode": {
    "name": "ipython",
    "version": 3
   },
   "file_extension": ".py",
   "mimetype": "text/x-python",
   "name": "python",
   "nbconvert_exporter": "python",
   "pygments_lexer": "ipython3",
   "version": "3.9.16"
  },
  "orig_nbformat": 4
 },
 "nbformat": 4,
 "nbformat_minor": 2
}
