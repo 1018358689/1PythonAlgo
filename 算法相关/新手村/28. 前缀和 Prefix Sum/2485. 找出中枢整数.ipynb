{
 "cells": [
  {
   "cell_type": "code",
   "execution_count": 1,
   "metadata": {},
   "outputs": [],
   "source": [
    "class Solution:\n",
    "\n",
    "    def pivotInteger(self, n: int) -> int:\n",
    "        nums = list(range(1, n + 1))\n",
    "        pre, suf = [0] * n, [0] * n\n",
    "        pre[0], suf[-1] = 1, n\n",
    "        for i in range(1, n):\n",
    "            pre[i] = pre[i - 1] + nums[i]\n",
    "            suf[n - i - 1] = suf[n - i] + nums[n - i - 1]\n",
    "        # return next((nums[i] for i in range(n) if pre[i]==suf[i]), -1)\n",
    "        for i in range(n):\n",
    "            if pre[i] == suf[i]:\n",
    "                return nums[i]\n",
    "        return -1"
   ]
  },
  {
   "cell_type": "code",
   "execution_count": null,
   "metadata": {},
   "outputs": [],
   "source": [
    "class Solution:\n",
    "\n",
    "    def pivotInteger(self, n: int) -> int:\n",
    "        tot = (1 + n) * n // 2\n",
    "        return next((c for c in range(1, n + 1) if (s := (1 + c) * c // 2) == tot - s + c), -1)\n"
   ]
  }
 ],
 "metadata": {
  "kernelspec": {
   "display_name": "Python 3.10.5 64-bit",
   "language": "python",
   "name": "python3"
  },
  "language_info": {
   "codemirror_mode": {
    "name": "ipython",
    "version": 3
   },
   "file_extension": ".py",
   "mimetype": "text/x-python",
   "name": "python",
   "nbconvert_exporter": "python",
   "pygments_lexer": "ipython3",
   "version": "3.10.5"
  },
  "orig_nbformat": 4,
  "vscode": {
   "interpreter": {
    "hash": "3196968d684371006099b3d55edeef8ed90365227a30deaef86e5d4aa8519be0"
   }
  }
 },
 "nbformat": 4,
 "nbformat_minor": 2
}
