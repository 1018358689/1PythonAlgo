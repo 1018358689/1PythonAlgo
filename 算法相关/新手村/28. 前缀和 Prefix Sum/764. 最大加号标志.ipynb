{
 "cells": [
  {
   "cell_type": "code",
   "execution_count": null,
   "metadata": {},
   "outputs": [],
   "source": [
    "from typing import List\n",
    "\n",
    "\n",
    "class Solution:\n",
    "\n",
    "    def orderOfLargestPlusSign(self, n: int, mines: List[List[int]]) -> int:\n",
    "        mat = [[1] * n for _ in range(n)]\n",
    "        for mi in mines:\n",
    "            r, c = mi\n",
    "            mat[r][c] = 0\n",
    "\n",
    "        left = [[0] * n for _ in range(n)]\n",
    "        right = [[0] * n for _ in range(n)]\n",
    "        up = [[0] * n for _ in range(n)]\n",
    "        down = [[0] * n for _ in range(n)]\n",
    "\n",
    "        for r in range(n):\n",
    "            ll = 0\n",
    "            for c in range(n):\n",
    "                ll = ll + 1 if mat[r][c] == 1 else 0\n",
    "                left[r][c] = ll\n",
    "            rr = 0\n",
    "            for c in range(n - 1, -1, -1):\n",
    "                rr = rr + 1 if mat[r][c] == 1 else 0\n",
    "                right[r][c] = rr\n",
    "        for c in range(n):\n",
    "            uu = 0\n",
    "            for r in range(n):\n",
    "                uu = uu + 1 if mat[r][c] == 1 else 0\n",
    "                up[r][c] = uu\n",
    "            dd = 0\n",
    "            for r in range(n - 1, -1, -1):\n",
    "                dd = dd + 1 if mat[r][c] == 1 else 0\n",
    "                down[r][c] = dd\n",
    "\n",
    "        res = 0\n",
    "        for r in range(n):\n",
    "            for c in range(n):\n",
    "                cur = min(left[r][c], right[r][c], up[r][c], down[r][c])\n",
    "                res = max(res, cur)\n",
    "        return res"
   ]
  }
 ],
 "metadata": {
  "language_info": {
   "name": "python"
  },
  "orig_nbformat": 4
 },
 "nbformat": 4,
 "nbformat_minor": 2
}
