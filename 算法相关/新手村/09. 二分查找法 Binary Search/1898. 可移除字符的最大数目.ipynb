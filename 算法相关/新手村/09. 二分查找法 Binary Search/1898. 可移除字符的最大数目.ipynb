{
 "cells": [
  {
   "cell_type": "code",
   "execution_count": 5,
   "metadata": {},
   "outputs": [
    {
     "data": {
      "text/plain": [
       "['a', 'b', 'c', '.', 's']"
      ]
     },
     "execution_count": 5,
     "metadata": {},
     "output_type": "execute_result"
    }
   ],
   "source": [
    "s = 'ab.c.s'\n",
    "l = list(s)\n",
    "l.remove('.')\n",
    "l"
   ]
  },
  {
   "cell_type": "code",
   "execution_count": 13,
   "metadata": {},
   "outputs": [
    {
     "data": {
      "text/plain": [
       "(2, 1)"
      ]
     },
     "execution_count": 13,
     "metadata": {},
     "output_type": "execute_result"
    }
   ],
   "source": [
    "def f(s: str, p: str, removable: list):\n",
    "    ns, np = len(s), len(p) # 提前计算len(s)能提速\n",
    "\n",
    "    def check(s, p, m):  # 判断p是否为s的子序列 在p移除索引m情况下\n",
    "        ha = set(removable[:m])\n",
    "        p1 = p2 = 0\n",
    "        while p1 < np and p2 < ns:\n",
    "            if p[p1] == s[p2] and p2 not in ha:\n",
    "                p1 += 1\n",
    "            p2 += 1\n",
    "        return p1 == np\n",
    "\n",
    "    l, r = 0, len(removable)\n",
    "    while l <= r:\n",
    "        m = (l + r) >> 1\n",
    "        if check(s, p, m):\n",
    "            l = m + 1\n",
    "        else:\n",
    "            r = m - 1\n",
    "    return r\n",
    "\n",
    "\n",
    "f('abcacb', 'ab', [3, 1, 0]), f('abcbddddd', 'abcd', [3, 2, 1, 4, 5, 6])\n"
   ]
  },
  {
   "cell_type": "code",
   "execution_count": null,
   "metadata": {},
   "outputs": [],
   "source": [
    "def f(s: str, p: str, removable: list):\n",
    "\n",
    "    def check(s, p, m):  # 判断p是否为s的子序列 在p移除索引m情况下\n",
    "        state = [True] * len(s)\n",
    "        for i in range(m):\n",
    "            state[removable[i]] = False\n",
    "        p1 = p2 = 0\n",
    "        while p1 < len(p) and p2 < len(s):\n",
    "            if p[p1] == s[p2] and state[p2]:\n",
    "                p1 += 1\n",
    "            p2 += 1\n",
    "        return p1 == len(p)\n",
    "\n",
    "    l, r = 0, len(removable)\n",
    "    while l <= r:\n",
    "        m = (l + r) >> 1\n",
    "        if check(s, p, m):\n",
    "            l = m + 1\n",
    "        else:\n",
    "            r = m - 1\n",
    "    return r"
   ]
  }
 ],
 "metadata": {
  "interpreter": {
   "hash": "aee8b7b246df8f9039afb4144a1f6fd8d2ca17a180786b69acc140d282b71a49"
  },
  "kernelspec": {
   "display_name": "Python 3.10.1 64-bit",
   "language": "python",
   "name": "python3"
  },
  "language_info": {
   "codemirror_mode": {
    "name": "ipython",
    "version": 3
   },
   "file_extension": ".py",
   "mimetype": "text/x-python",
   "name": "python",
   "nbconvert_exporter": "python",
   "pygments_lexer": "ipython3",
   "version": "3.10.1"
  },
  "orig_nbformat": 4
 },
 "nbformat": 4,
 "nbformat_minor": 2
}
