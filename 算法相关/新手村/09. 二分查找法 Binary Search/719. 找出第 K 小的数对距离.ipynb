{
 "cells": [
  {
   "cell_type": "markdown",
   "metadata": {},
   "source": [
    "数对距离序列 A=[a1,a2,a3,...ak...am] 如 [1,2,2,3,3,3,4,5]\n",
    "ak是第k小的数对距离\n",
    "那么ak右边的ai含ak 必然满足”序列 A 中值小于等于ai的数不少于k个“\n",
    "那么ak左边的ai含ak 不一定满足”序列 A 中值小于等于ai的数不少于k个“"
   ]
  },
  {
   "cell_type": "code",
   "execution_count": 29,
   "metadata": {},
   "outputs": [
    {
     "data": {
      "text/plain": [
       "2"
      ]
     },
     "execution_count": 29,
     "metadata": {},
     "output_type": "execute_result"
    }
   ],
   "source": [
    "from typing import List\n",
    "# [1,2,5,5,5,8,9]\n",
    "\n",
    "class Solution:\n",
    "    def smallestDistancePair(self, nums: List[int], k: int) -> int:\n",
    "        nums.sort()\n",
    "\n",
    "        def search(l, r, target):  # <=targte\n",
    "            left = l\n",
    "            while l <= r:\n",
    "                m = l + r >> 1\n",
    "                if nums[m] <= target:\n",
    "                    l = m + 1\n",
    "                else:\n",
    "                    r = m - 1\n",
    "            return r if r >= left else -1\n",
    "\n",
    "        def d2cnt(d):  # 数对距离有几个 (<=d的数对有几个)\n",
    "            cnt = 0\n",
    "            for i, n in enumerate(nums):\n",
    "                target = n + d\n",
    "                j = search(i + 1, len(nums) - 1, target)\n",
    "                if j != -1:\n",
    "                    cnt += j - i\n",
    "            return cnt\n",
    "\n",
    "        l, r = 0, nums[-1] - nums[0]\n",
    "        while l <= r:\n",
    "            m = l + r >> 1\n",
    "            if d2cnt(m) >= k:\n",
    "                r = m - 1\n",
    "            else:\n",
    "                l = m + 1\n",
    "        return l\n",
    "\n",
    "\n",
    "s = Solution()\n",
    "s.smallestDistancePair([1, 3, 1], 2)\n"
   ]
  },
  {
   "cell_type": "code",
   "execution_count": 30,
   "metadata": {},
   "outputs": [
    {
     "data": {
      "text/plain": [
       "2"
      ]
     },
     "execution_count": 30,
     "metadata": {},
     "output_type": "execute_result"
    }
   ],
   "source": [
    "from typing import List\n",
    "# [1,2,5,5,5,8,9]\n",
    "\n",
    "\n",
    "class Solution:\n",
    "    def smallestDistancePair(self, nums: List[int], k: int) -> int:\n",
    "        nums.sort()\n",
    "\n",
    "        def d2cnt(d):  # 数对距离有几个 (<=d的数对有几个)\n",
    "            cnt = 0\n",
    "            l = 0\n",
    "            for r in range(len(nums)):\n",
    "                while nums[r] - nums[l] > d:\n",
    "                    l += 1\n",
    "                if l != r:\n",
    "                    cnt += r - l\n",
    "            return cnt\n",
    "\n",
    "        l, r = 0, nums[-1] - nums[0]\n",
    "        while l <= r:\n",
    "            m = l + r >> 1\n",
    "            if d2cnt(m) >= k:\n",
    "                r = m - 1\n",
    "            else:\n",
    "                l = m + 1\n",
    "        return l\n",
    "\n",
    "\n",
    "s = Solution()\n",
    "s.smallestDistancePair([1, 3, 1], 2)\n"
   ]
  },
  {
   "cell_type": "code",
   "execution_count": null,
   "metadata": {},
   "outputs": [],
   "source": [
    "from bisect import bisect_left, bisect_right\n",
    "\n",
    "\n",
    "class Solution:\n",
    "\n",
    "    def smallestDistancePair(self, nums: List[int], k: int) -> int:\n",
    "        nums.sort()\n",
    "        n = len(nums)\n",
    "\n",
    "        def d2cnt(d):  # 数对距离<=d的数对数量\n",
    "            # d越大数量越多\n",
    "            ans = 0\n",
    "            for l, num in enumerate(nums):\n",
    "                r = bisect_right(nums, num + d, l + 1, n) - 1\n",
    "                if r >= l + 1:\n",
    "                    ans += r - l\n",
    "            return ans\n",
    "\n",
    "        return bisect_left(range(nums[-1] - nums[0] + 1), k, key=d2cnt)\n"
   ]
  }
 ],
 "metadata": {
  "kernelspec": {
   "display_name": "Python 3.8.10 64-bit",
   "language": "python",
   "name": "python3"
  },
  "language_info": {
   "codemirror_mode": {
    "name": "ipython",
    "version": 3
   },
   "file_extension": ".py",
   "mimetype": "text/x-python",
   "name": "python",
   "nbconvert_exporter": "python",
   "pygments_lexer": "ipython3",
   "version": "3.8.10"
  },
  "orig_nbformat": 4,
  "vscode": {
   "interpreter": {
    "hash": "de72d97932d649c6d75aa79b73261cc3e8a1ae5e7cab8a9115f0bbb1518a7af2"
   }
  }
 },
 "nbformat": 4,
 "nbformat_minor": 2
}
