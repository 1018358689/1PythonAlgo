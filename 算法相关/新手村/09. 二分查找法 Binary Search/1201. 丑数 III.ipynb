{
 "cells": [
  {
   "cell_type": "code",
   "execution_count": 2,
   "metadata": {},
   "outputs": [
    {
     "data": {
      "text/plain": [
       "1999999984"
      ]
     },
     "execution_count": 2,
     "metadata": {},
     "output_type": "execute_result"
    }
   ],
   "source": [
    "# https://leetcode-cn.com/problems/ugly-number-iii/solution/pyrong-chi-yuan-li-er-fen-zhou-qi-you-hu-8aiq/\n",
    "# a=2,b=3,c=4  求12是第几个丑数\n",
    "# a 2 4 6 8 10 12 共12//2个\n",
    "# b 3 6 9 12 共12//3个\n",
    "# c 4 8 12 共12//4个\n",
    "# ab公共部分6 12  是ab最小公倍数6作为丑数底数的个数\n",
    "# 同理ac,bc 发现12被减完了 再加回来 12是abc的最小公倍数\n",
    "from math import lcm\n",
    "\n",
    "\n",
    "def f(n, a, b, c):\n",
    "    lcmAB, lcmAC, lcmBC, lcmABC = lcm(a, b), lcm(a, c), lcm(b, c), lcm(a, b, c)\n",
    "\n",
    "    def num2cnt(num):  # num是第几个丑数 递增函数\n",
    "        return num // a + num // b + num // c - num // lcmAB - num // lcmAC - num // lcmBC + num // lcmABC\n",
    "\n",
    "    l, r = 1, 2 * 10**9\n",
    "    while l <= r:\n",
    "        m = (l + r) >> 1\n",
    "        if num2cnt(m) >= n:\n",
    "            r = m - 1\n",
    "        else:\n",
    "            l = m + 1\n",
    "    return l\n",
    "\n",
    "\n",
    "f(1000000000, 2, 217983653, 336916467)\n"
   ]
  },
  {
   "cell_type": "code",
   "execution_count": null,
   "metadata": {},
   "outputs": [],
   "source": []
  }
 ],
 "metadata": {
  "interpreter": {
   "hash": "a5f34674cfcc9b13426a2d112c686bc132e4ef443f1487e707e7c3787d6bcf89"
  },
  "kernelspec": {
   "display_name": "Python 3.10.4 64-bit (windows store)",
   "language": "python",
   "name": "python3"
  },
  "language_info": {
   "codemirror_mode": {
    "name": "ipython",
    "version": 3
   },
   "file_extension": ".py",
   "mimetype": "text/x-python",
   "name": "python",
   "nbconvert_exporter": "python",
   "pygments_lexer": "ipython3",
   "version": "3.10.4"
  },
  "orig_nbformat": 4
 },
 "nbformat": 4,
 "nbformat_minor": 2
}
