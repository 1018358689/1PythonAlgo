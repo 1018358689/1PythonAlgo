{
 "cells": [
  {
   "cell_type": "code",
   "execution_count": null,
   "metadata": {},
   "outputs": [],
   "source": [
    "from typing import List\n",
    "\n",
    "\n",
    "class Solution:\n",
    "\n",
    "    def missingElement(self, nums: List[int], k: int) -> int:\n",
    "\n",
    "        def f(x):  # 到nums[x]为止 缺失的数字个数 不严格递增\n",
    "            return nums[x] - (nums[0] + x)\n",
    "\n",
    "        n = len(nums)\n",
    "        l, r = 0, n - 1\n",
    "        while l <= r:  # <的最后一个数\n",
    "            m = l + r >> 1\n",
    "            if f(m) < k:\n",
    "                l = m + 1\n",
    "            else:\n",
    "                r = m - 1\n",
    "        return nums[r] + k - f(r)\n"
   ]
  }
 ],
 "metadata": {
  "kernelspec": {
   "display_name": "Python 3",
   "language": "python",
   "name": "python3"
  },
  "language_info": {
   "name": "python",
   "version": "3.10.5 (tags/v3.10.5:f377153, Jun  6 2022, 16:14:13) [MSC v.1929 64 bit (AMD64)]"
  },
  "orig_nbformat": 4,
  "vscode": {
   "interpreter": {
    "hash": "3196968d684371006099b3d55edeef8ed90365227a30deaef86e5d4aa8519be0"
   }
  }
 },
 "nbformat": 4,
 "nbformat_minor": 2
}
