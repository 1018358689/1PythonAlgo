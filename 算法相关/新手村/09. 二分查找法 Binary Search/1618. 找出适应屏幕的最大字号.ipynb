{
 "cells": [
  {
   "cell_type": "code",
   "execution_count": null,
   "metadata": {},
   "outputs": [],
   "source": [
    "# \"\"\"\n",
    "# This is FontInfo's API interface.\n",
    "# You should not implement it, or speculate about its implementation\n",
    "# \"\"\"\n",
    "class FontInfo(object):\n",
    "    # Return the width of char ch when fontSize is used.\n",
    "    def getWidth(self, fontSize, ch):\n",
    "        \"\"\"\n",
    "       :type fontSize: int\n",
    "       :type ch: char\n",
    "       :rtype int\n",
    "       \"\"\"\n",
    "\n",
    "    def getHeight(self, fontSize):\n",
    "        \"\"\"\n",
    "       :type fontSize: int\n",
    "       :rtype int\n",
    "       \"\"\"\n",
    "\n",
    "\n",
    "from collections import Counter\n",
    "from typing import List\n",
    "\n",
    "\n",
    "class Solution:\n",
    "\n",
    "    def maxFont(self, text: str, w: int, h: int, fonts: List[int], fontInfo: 'FontInfo') -> int:\n",
    "        cnts = Counter(text)\n",
    "        n = len(fonts)\n",
    "\n",
    "        def sz2bool(sz):  # 该字号是否可行\n",
    "            if fontInfo.getHeight(sz) > h:\n",
    "                return False\n",
    "            return sum(fontInfo.getWidth(sz, k) * v for k, v in cnts.items()) <= w\n",
    "\n",
    "        # 越大越不行\n",
    "        l, r = 0, n - 1\n",
    "        while l <= r:\n",
    "            m = l + r >> 1\n",
    "            if sz2bool(fonts[m]):\n",
    "                l = m + 1\n",
    "            else:\n",
    "                r = m - 1\n",
    "        return fonts[r] if r >= 0 else -1\n"
   ]
  }
 ],
 "metadata": {
  "language_info": {
   "name": "python"
  },
  "orig_nbformat": 4
 },
 "nbformat": 4,
 "nbformat_minor": 2
}
