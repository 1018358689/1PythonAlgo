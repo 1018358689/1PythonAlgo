{
 "cells": [
  {
   "cell_type": "code",
   "execution_count": 1,
   "metadata": {},
   "outputs": [
    {
     "data": {
      "text/plain": [
       "2"
      ]
     },
     "execution_count": 1,
     "metadata": {},
     "output_type": "execute_result"
    }
   ],
   "source": [
    "max(2,2,1)"
   ]
  },
  {
   "cell_type": "code",
   "execution_count": 14,
   "metadata": {},
   "outputs": [
    {
     "name": "stdout",
     "output_type": "stream",
     "text": [
      "[0, 0, 0, 1, 1]\n"
     ]
    },
    {
     "data": {
      "text/plain": [
       "0"
      ]
     },
     "execution_count": 14,
     "metadata": {},
     "output_type": "execute_result"
    }
   ],
   "source": [
    "from typing import List\n",
    "from collections import defaultdict\n",
    "\n",
    "\n",
    "class TopVotedCandidate:\n",
    "\n",
    "    def __init__(self, persons: List[int], times: List[int]):\n",
    "        # 目标1:每个时刻下标对应的领先者 构造res列表\n",
    "        cnt = defaultdict(int) # 每个人选票数量\n",
    "        res = [0] * len(persons) # 每个时刻下标的领先者\n",
    "        cur = -1 # 当前领先者\n",
    "        for i, p in enumerate(persons):\n",
    "            cnt[p] += 1\n",
    "            if cnt[p]>=cnt[cur]: # 更新领先者\n",
    "                cur = p\n",
    "            res[i] = cur\n",
    "        self.res = res\n",
    "        self.times = times\n",
    "\n",
    "    def q(self, t: int) -> int:\n",
    "        # 目标2:二分查找不超过时间t的时刻的领先者\n",
    "        l, r = 0, len(self.times) - 1\n",
    "        while l <= r:\n",
    "            m = (l + r) >> 1\n",
    "            if self.times[m] <= t:\n",
    "                l = m + 1\n",
    "            else:\n",
    "                r = m - 1\n",
    "        return self.res[r]\n",
    "\n",
    "\n",
    "# Your TopVotedCandidate object will be instantiated and called as such:\n",
    "obj = TopVotedCandidate([0,0,1,1,2],[0,67,69,74,87])\n",
    "obj.q(15)"
   ]
  },
  {
   "cell_type": "code",
   "execution_count": null,
   "metadata": {},
   "outputs": [],
   "source": []
  }
 ],
 "metadata": {
  "interpreter": {
   "hash": "aee8b7b246df8f9039afb4144a1f6fd8d2ca17a180786b69acc140d282b71a49"
  },
  "kernelspec": {
   "display_name": "Python 3.10.2 64-bit",
   "language": "python",
   "name": "python3"
  },
  "language_info": {
   "codemirror_mode": {
    "name": "ipython",
    "version": 3
   },
   "file_extension": ".py",
   "mimetype": "text/x-python",
   "name": "python",
   "nbconvert_exporter": "python",
   "pygments_lexer": "ipython3",
   "version": "3.10.2"
  },
  "orig_nbformat": 4
 },
 "nbformat": 4,
 "nbformat_minor": 2
}
