{
 "cells": [
  {
   "cell_type": "code",
   "execution_count": 3,
   "metadata": {},
   "outputs": [
    {
     "data": {
      "text/plain": [
       "6"
      ]
     },
     "execution_count": 3,
     "metadata": {},
     "output_type": "execute_result"
    }
   ],
   "source": [
    "0^6"
   ]
  },
  {
   "cell_type": "code",
   "execution_count": 13,
   "metadata": {},
   "outputs": [
    {
     "data": {
      "text/plain": [
       "(2, 10)"
      ]
     },
     "execution_count": 13,
     "metadata": {},
     "output_type": "execute_result"
    }
   ],
   "source": [
    "# 0 1 2 3 4 5 6 7 8 9 10\n",
    "# 1 1 2 2 3 4 4 5 5 6 6\n",
    "#       r l\n",
    "def f(nums: list):\n",
    "    l, r = 0, len(nums) - 1\n",
    "    while l <= r:\n",
    "        m = (l + r) >> 1\n",
    "        if (not m % 2 and m < len(nums) - 1 and nums[m] == nums[m + 1]) or (m % 2 and m > 0 and nums[m] == nums[m - 1]):\n",
    "            l = m + 1\n",
    "        else:\n",
    "            r = m - 1\n",
    "    return nums[l]\n",
    "\n",
    "\n",
    "f([1, 1, 2, 3, 3, 4, 4, 8, 8]), f([3, 3, 7, 7, 10, 11, 11])\n",
    "# f([1,1,2]),f([1])"
   ]
  },
  {
   "cell_type": "code",
   "execution_count": 15,
   "metadata": {},
   "outputs": [
    {
     "data": {
      "text/plain": [
       "(2, 1)"
      ]
     },
     "execution_count": 15,
     "metadata": {},
     "output_type": "execute_result"
    }
   ],
   "source": [
    "def f(nums: list):\n",
    "    low, high = 0, len(nums) - 1\n",
    "    while low < high:  # 避免nums[m+1]和nums[m-1]讨论\n",
    "        mid = (low + high) // 2\n",
    "        next_index = mid + 1 if mid % 2 == 0 else mid - 1\n",
    "        if nums[mid] == nums[next_index]:\n",
    "            low = mid + 1\n",
    "        else:\n",
    "            high = mid\n",
    "    return nums[low]\n",
    "\n",
    "\n",
    "f([1, 1, 2, 3, 3, 4, 4, 8, 8]), f([3, 3, 7, 7, 10, 11, 11])\n",
    "f([1, 1, 2]), f([1])\n"
   ]
  },
  {
   "cell_type": "code",
   "execution_count": null,
   "metadata": {},
   "outputs": [],
   "source": []
  }
 ],
 "metadata": {
  "interpreter": {
   "hash": "aee8b7b246df8f9039afb4144a1f6fd8d2ca17a180786b69acc140d282b71a49"
  },
  "kernelspec": {
   "display_name": "Python 3.10.1 64-bit",
   "language": "python",
   "name": "python3"
  },
  "language_info": {
   "codemirror_mode": {
    "name": "ipython",
    "version": 3
   },
   "file_extension": ".py",
   "mimetype": "text/x-python",
   "name": "python",
   "nbconvert_exporter": "python",
   "pygments_lexer": "ipython3",
   "version": "3.10.1"
  },
  "orig_nbformat": 4
 },
 "nbformat": 4,
 "nbformat_minor": 2
}
