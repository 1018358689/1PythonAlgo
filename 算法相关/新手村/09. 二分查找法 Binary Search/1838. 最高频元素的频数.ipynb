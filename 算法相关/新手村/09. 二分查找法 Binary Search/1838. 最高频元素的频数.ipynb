{
 "cells": [
  {
   "cell_type": "code",
   "execution_count": 13,
   "metadata": {},
   "outputs": [
    {
     "data": {
      "text/plain": [
       "(3, 2, 1, 4)"
      ]
     },
     "execution_count": 13,
     "metadata": {},
     "output_type": "execute_result"
    }
   ],
   "source": [
    "def f(nums: list, k: int):\n",
    "    nums.sort()\n",
    "    preSum = [0] * (len(nums) + 1)\n",
    "    for i in range(len(nums)):\n",
    "        preSum[i+1] = preSum[i]+nums[i]\n",
    "\n",
    "    def frequency2cnt(frequency: int):  # 频数-最少操作次数 递增 频数指相同数字个数\n",
    "        if frequency > len(nums):\n",
    "            return float('inf')\n",
    "        cnt = float('inf')\n",
    "        for i in range(len(nums)-frequency+1):\n",
    "            left,right = i,i+frequency-1\n",
    "            local = nums[right]*frequency-(preSum[right+1]-preSum[left])\n",
    "            cnt = min(cnt,local)\n",
    "        return cnt\n",
    "\n",
    "    l, r = 1, len(nums)\n",
    "    while l <= r:\n",
    "        m = (l + r) >> 1\n",
    "        if frequency2cnt(m) <= k:\n",
    "            l = m + 1\n",
    "        else:\n",
    "            r = m - 1\n",
    "    return r\n",
    "\n",
    "\n",
    "f([1, 2, 4], 5), f([1, 4, 8, 13], 5), f([3, 9, 6], 2), f([1, 3, 3, 3, 5], 2)\n"
   ]
  },
  {
   "cell_type": "code",
   "execution_count": 21,
   "metadata": {},
   "outputs": [
    {
     "data": {
      "text/plain": [
       "(3, 2, 1, 4)"
      ]
     },
     "execution_count": 21,
     "metadata": {},
     "output_type": "execute_result"
    }
   ],
   "source": [
    "# https://leetcode-cn.com/problems/frequency-of-the-most-frequent-element/solution/cpython3-hua-dong-chuang-kou-by-hanxin_h-qnqq/\n",
    "def f(nums: list, k: int):\n",
    "    nums.sort()\n",
    "    l, r = 0, 1\n",
    "    cnt = 0\n",
    "    fre = 1\n",
    "    while r < len(nums):\n",
    "        cnt += (nums[r] - nums[r - 1]) * (r - l)\n",
    "        while cnt > k:\n",
    "            cnt -= nums[r] - nums[l]\n",
    "            l += 1\n",
    "        fre = max(fre, r - l + 1)\n",
    "        r += 1\n",
    "    return fre\n",
    "\n",
    "\n",
    "f([1, 2, 4], 5), f([1, 4, 8, 13], 5), f([3, 9, 6], 2), f([1, 3, 3, 3, 5], 2)\n",
    "# f([1, 4, 8, 13], 5)"
   ]
  },
  {
   "cell_type": "code",
   "execution_count": null,
   "metadata": {},
   "outputs": [],
   "source": []
  }
 ],
 "metadata": {
  "interpreter": {
   "hash": "aee8b7b246df8f9039afb4144a1f6fd8d2ca17a180786b69acc140d282b71a49"
  },
  "kernelspec": {
   "display_name": "Python 3.10.1 64-bit",
   "language": "python",
   "name": "python3"
  },
  "language_info": {
   "codemirror_mode": {
    "name": "ipython",
    "version": 3
   },
   "file_extension": ".py",
   "mimetype": "text/x-python",
   "name": "python",
   "nbconvert_exporter": "python",
   "pygments_lexer": "ipython3",
   "version": "3.10.1"
  },
  "orig_nbformat": 4
 },
 "nbformat": 4,
 "nbformat_minor": 2
}
