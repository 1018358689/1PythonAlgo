{
 "cells": [
  {
   "cell_type": "code",
   "execution_count": 17,
   "metadata": {},
   "outputs": [
    {
     "name": "stdout",
     "output_type": "stream",
     "text": [
      "3 5\n",
      "0 4\n",
      "2 0\n"
     ]
    },
    {
     "data": {
      "text/plain": [
       "(3, 4, 0)"
      ]
     },
     "execution_count": 17,
     "metadata": {},
     "output_type": "execute_result"
    }
   ],
   "source": [
    "def f(arr: list):\n",
    "    ans = []  # 存剩余最长非递减子序列\n",
    "    leftArr = 1\n",
    "    while leftArr < len(arr) and arr[leftArr - 1] <= arr[leftArr]:\n",
    "        leftArr += 1\n",
    "    leftArr -= 1\n",
    "    rightArr = len(arr) - 2\n",
    "    while rightArr >= 0 and arr[rightArr + 1] >= arr[rightArr]:\n",
    "        rightArr -= 1\n",
    "    rightArr += 1\n",
    "    # print(leftArr,rightArr)\n",
    "    leftSz, rightSz = leftArr + 1, len(arr) - rightArr\n",
    "    if rightArr <= leftArr:\n",
    "        return 0\n",
    "    ans.append(max(leftSz, rightSz))\n",
    "\n",
    "    def searchLeft(t):\n",
    "        l, r = 0, leftArr\n",
    "        while l <= r:\n",
    "            m = (l + r) >> 1\n",
    "            if arr[m] <= t:\n",
    "                l = m + 1\n",
    "            else:\n",
    "                r = m - 1\n",
    "        return r\n",
    "\n",
    "    def searchRight(t):\n",
    "        l, r = rightArr, len(arr) - 1\n",
    "        while l <= r:\n",
    "            m = (l + r) >> 1\n",
    "            if arr[m] >= t:\n",
    "                r = m - 1\n",
    "            else:\n",
    "                l = m + 1\n",
    "        return l\n",
    "\n",
    "    for i in range(rightArr, len(arr)):\n",
    "        left = searchLeft(arr[i])\n",
    "        if left >= 0:\n",
    "            ans.append(left + 1 + len(arr) - i)\n",
    "    for i in range(0, leftArr + 1):\n",
    "        right = searchRight(arr[i])\n",
    "        if right < len(arr):\n",
    "            ans.append(len(arr) - right + i + 1)\n",
    "    return len(arr) - max(ans)\n",
    "\n",
    "\n",
    "f([1, 2, 3, 10, 4, 2, 3, 5]), f([5, 4, 3, 2, 1]), f([1, 2, 3])\n",
    "# f([1,2,3,10,0,7,8,9])"
   ]
  },
  {
   "cell_type": "code",
   "execution_count": 27,
   "metadata": {},
   "outputs": [
    {
     "name": "stdout",
     "output_type": "stream",
     "text": [
      "2\n"
     ]
    },
    {
     "data": {
      "text/plain": [
       "8"
      ]
     },
     "execution_count": 27,
     "metadata": {},
     "output_type": "execute_result"
    }
   ],
   "source": [
    "def f(arr: list):\n",
    "    leftArr = 1\n",
    "    while leftArr < len(arr) and arr[leftArr - 1] <= arr[leftArr]:\n",
    "        leftArr += 1\n",
    "    leftArr -= 1\n",
    "    rightArr = len(arr) - 2\n",
    "    while rightArr >= 0 and arr[rightArr + 1] >= arr[rightArr]:\n",
    "        rightArr -= 1\n",
    "    rightArr += 1\n",
    "    # print(leftArr,rightArr)\n",
    "    leftSz, rightSz = leftArr + 1, len(arr) - rightArr\n",
    "    if rightArr <= leftArr:\n",
    "        return 0\n",
    "    ans = max(leftSz, rightSz)  # 存剩余最长非递减子序列\n",
    "\n",
    "    def searchLeft(t):\n",
    "        l, r = 0, leftArr\n",
    "        while l <= r:\n",
    "            m = (l + r) >> 1\n",
    "            if arr[m] <= t:\n",
    "                l = m + 1\n",
    "            else:\n",
    "                r = m - 1\n",
    "        return r\n",
    "\n",
    "    # def searchRight(t):\n",
    "    #     l, r = rightArr, len(arr) - 1\n",
    "    #     while l <= r:\n",
    "    #         m = (l + r) >> 1\n",
    "    #         if arr[m] >= t:\n",
    "    #             r = m - 1\n",
    "    #         else:\n",
    "    #             l = m + 1\n",
    "    #     return l\n",
    "\n",
    "    for i in range(rightArr, len(arr)):\n",
    "        left = searchLeft(arr[i])\n",
    "        if left >= 0:\n",
    "            ans = max(ans, left + 1 + len(arr) - i)\n",
    "    # for i in range(0, leftArr + 1):\n",
    "    #     right = searchRight(arr[i])\n",
    "    #     if right < len(arr):\n",
    "    #         ans = max(ans, len(arr) - right + i + 1)\n",
    "    return len(arr) - ans\n",
    "\n",
    "\n",
    "# f([1, 2, 3, 10, 4, 2, 3, 5]), f([5, 4, 3, 2, 1]), f([1, 2, 3])\n",
    "# f([1,2,3,10,0,7,8,9])\n",
    "f([6, 3, 10, 11, 15, 20, 13, 3, 18, 12])\n"
   ]
  },
  {
   "cell_type": "code",
   "execution_count": null,
   "metadata": {},
   "outputs": [],
   "source": []
  }
 ],
 "metadata": {
  "interpreter": {
   "hash": "a5f34674cfcc9b13426a2d112c686bc132e4ef443f1487e707e7c3787d6bcf89"
  },
  "kernelspec": {
   "display_name": "Python 3.10.4 64-bit (windows store)",
   "language": "python",
   "name": "python3"
  },
  "language_info": {
   "codemirror_mode": {
    "name": "ipython",
    "version": 3
   },
   "file_extension": ".py",
   "mimetype": "text/x-python",
   "name": "python",
   "nbconvert_exporter": "python",
   "pygments_lexer": "ipython3",
   "version": "3.10.4"
  },
  "orig_nbformat": 4
 },
 "nbformat": 4,
 "nbformat_minor": 2
}
