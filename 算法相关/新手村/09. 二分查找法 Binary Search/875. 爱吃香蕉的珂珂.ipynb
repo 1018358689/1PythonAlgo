{
 "cells": [
  {
   "cell_type": "code",
   "execution_count": 1,
   "metadata": {},
   "outputs": [
    {
     "data": {
      "text/plain": [
       "4"
      ]
     },
     "execution_count": 1,
     "metadata": {},
     "output_type": "execute_result"
    }
   ],
   "source": [
    "def f(piles: list, H: int):\n",
    "\n",
    "    def speed2time(speed: int):  # 速度和时间的单调递减函数\n",
    "        ans = 0\n",
    "        for p in piles:\n",
    "            if not p % speed:\n",
    "                ans += p // speed\n",
    "            else:\n",
    "                ans += p // speed + 1\n",
    "        return ans\n",
    "\n",
    "    piles.sort()\n",
    "    l, r = 1, piles[-1]\n",
    "    while l <= r:\n",
    "        m = (l + r) >> 1\n",
    "        if speed2time(m) <= H:\n",
    "            r = m - 1\n",
    "        else:\n",
    "            l = m + 1\n",
    "    return l\n",
    "\n",
    "\n",
    "f([3, 6, 7, 11], 8)\n"
   ]
  },
  {
   "cell_type": "code",
   "execution_count": null,
   "metadata": {},
   "outputs": [],
   "source": []
  }
 ],
 "metadata": {
  "interpreter": {
   "hash": "aee8b7b246df8f9039afb4144a1f6fd8d2ca17a180786b69acc140d282b71a49"
  },
  "kernelspec": {
   "display_name": "Python 3.10.1 64-bit",
   "language": "python",
   "name": "python3"
  },
  "language_info": {
   "codemirror_mode": {
    "name": "ipython",
    "version": 3
   },
   "file_extension": ".py",
   "mimetype": "text/x-python",
   "name": "python",
   "nbconvert_exporter": "python",
   "pygments_lexer": "ipython3",
   "version": "3.10.1"
  },
  "orig_nbformat": 4
 },
 "nbformat": 4,
 "nbformat_minor": 2
}
