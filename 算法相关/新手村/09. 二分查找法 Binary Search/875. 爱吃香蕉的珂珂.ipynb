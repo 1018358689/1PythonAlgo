{
 "cells": [
  {
   "cell_type": "code",
   "execution_count": 1,
   "metadata": {},
   "outputs": [
    {
     "data": {
      "text/plain": [
       "4"
      ]
     },
     "execution_count": 1,
     "metadata": {},
     "output_type": "execute_result"
    }
   ],
   "source": [
    "def f(piles: list, H: int):\n",
    "\n",
    "    def speed2time(speed: int):  # 速度和时间的单调递减函数\n",
    "        ans = 0\n",
    "        for p in piles:\n",
    "            if not p % speed:\n",
    "                ans += p // speed\n",
    "            else:\n",
    "                ans += p // speed + 1\n",
    "        return ans\n",
    "\n",
    "    piles.sort()\n",
    "    l, r = 1, piles[-1]\n",
    "    while l <= r:\n",
    "        m = (l + r) >> 1\n",
    "        if speed2time(m) <= H:\n",
    "            r = m - 1\n",
    "        else:\n",
    "            l = m + 1\n",
    "    return l\n",
    "\n",
    "\n",
    "f([3, 6, 7, 11], 8)\n"
   ]
  },
  {
   "cell_type": "code",
   "execution_count": 1,
   "metadata": {},
   "outputs": [
    {
     "data": {
      "text/plain": [
       "4"
      ]
     },
     "execution_count": 1,
     "metadata": {},
     "output_type": "execute_result"
    }
   ],
   "source": [
    "from typing import List\n",
    "from math import ceil\n",
    "\n",
    "\n",
    "class Solution:\n",
    "\n",
    "    def minEatingSpeed(self, piles: List[int], h: int) -> int:\n",
    "\n",
    "        def speed2hours(speed: int):  # 递减函数\n",
    "            ans = 0\n",
    "            for i in piles:\n",
    "                ans += ceil(i / speed)\n",
    "            return ans <= h\n",
    "\n",
    "        l, r = 1, max(piles)\n",
    "        while l <= r:\n",
    "            m = l + r >> 1\n",
    "            if speed2hours(m):\n",
    "                r = m - 1\n",
    "            else:\n",
    "                l = m + 1\n",
    "        return l\n",
    "\n",
    "\n",
    "s = Solution()\n",
    "s.minEatingSpeed([3, 6, 7, 11], 8)\n"
   ]
  }
 ],
 "metadata": {
  "interpreter": {
   "hash": "97367d2de1780ea7c502b529f25888c1b53c0430a7611816b6c7cf19d8435228"
  },
  "kernelspec": {
   "display_name": "Python 3.10.4 64-bit (windows store)",
   "language": "python",
   "name": "python3"
  },
  "language_info": {
   "codemirror_mode": {
    "name": "ipython",
    "version": 3
   },
   "file_extension": ".py",
   "mimetype": "text/x-python",
   "name": "python",
   "nbconvert_exporter": "python",
   "pygments_lexer": "ipython3",
   "version": "3.10.4"
  },
  "orig_nbformat": 4
 },
 "nbformat": 4,
 "nbformat_minor": 2
}
