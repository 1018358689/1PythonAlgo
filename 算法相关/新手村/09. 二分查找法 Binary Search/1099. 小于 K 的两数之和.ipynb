{
 "cells": [
  {
   "cell_type": "code",
   "execution_count": null,
   "metadata": {},
   "outputs": [],
   "source": [
    "from typing import List\n",
    "\n",
    "\n",
    "class Solution:\n",
    "\n",
    "    def twoSumLessThanK(self, nums: List[int], k: int) -> int:\n",
    "        nums.sort()\n",
    "\n",
    "        def search(si, ei, target):  # <target的最大值\n",
    "            l, r = si, ei\n",
    "            while l <= r:\n",
    "                m = l + r >> 1\n",
    "                if nums[m] < target:\n",
    "                    l = m + 1\n",
    "                else:\n",
    "                    r = m - 1\n",
    "            return r if r >= si else -1\n",
    "\n",
    "        ans = -1\n",
    "        n = len(nums)\n",
    "        for i in range(n - 1):\n",
    "            num = nums[i]\n",
    "            if num >= k:\n",
    "                break\n",
    "            idx = search(i + 1, n - 1, k - num)\n",
    "            if idx != -1:\n",
    "                ans = max(ans, nums[idx] + num)\n",
    "        return ans"
   ]
  }
 ],
 "metadata": {
  "language_info": {
   "name": "python"
  },
  "orig_nbformat": 4
 },
 "nbformat": 4,
 "nbformat_minor": 2
}
