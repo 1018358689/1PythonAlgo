{
 "cells": [
  {
   "cell_type": "code",
   "execution_count": 20,
   "metadata": {},
   "outputs": [
    {
     "data": {
      "text/plain": [
       "(4, 1, 2)"
      ]
     },
     "execution_count": 20,
     "metadata": {},
     "output_type": "execute_result"
    }
   ],
   "source": [
    "# 超时\n",
    "def f(arr: list, m: int):\n",
    "    b = 0\n",
    "    ans = -1\n",
    "    for i, n in enumerate(arr):\n",
    "        b |= 1 << (n - 1)\n",
    "        local = bin(b)[2:].split('0')\n",
    "        cnt = local.count('1' * m)\n",
    "        if cnt > 0:\n",
    "            ans = i + 1\n",
    "    return ans\n",
    "\n",
    "\n",
    "f([3, 5, 1, 2, 4], 1), f([1], 1), f([2, 1], 2)\n"
   ]
  },
  {
   "cell_type": "code",
   "execution_count": 16,
   "metadata": {},
   "outputs": [
    {
     "data": {
      "text/plain": [
       "(2, 3, 4)"
      ]
     },
     "execution_count": 16,
     "metadata": {},
     "output_type": "execute_result"
    }
   ],
   "source": [
    "a=2;b=3;c=4\n",
    "a,b,c"
   ]
  },
  {
   "cell_type": "code",
   "execution_count": 25,
   "metadata": {},
   "outputs": [
    {
     "data": {
      "text/plain": [
       "(4, 1, 2)"
      ]
     },
     "execution_count": 25,
     "metadata": {},
     "output_type": "execute_result"
    }
   ],
   "source": [
    "from collections import defaultdict\n",
    "\n",
    "\n",
    "def f(arr: list, m: int):\n",
    "    i2len = defaultdict(int)\n",
    "    len2cnt = defaultdict(int)  # 初始为0\n",
    "    ans = -1\n",
    "    for i, n in enumerate(arr):\n",
    "        x = n - 1\n",
    "        left = right = 0  # 原来左右侧连续1的长度\n",
    "        start = end = x  # 新的连续1的起点终点\n",
    "        if x - 1 >= 0 and i2len[x - 1] > 0:\n",
    "            left = i2len[x - 1]\n",
    "            start -= left\n",
    "        if x + 1 < len(arr) and i2len[x + 1] > 0:\n",
    "            right = i2len[x + 1]\n",
    "            end += right\n",
    "        length = left + right + 1  # 新的连续1长度\n",
    "        i2len[start] = length  # 更新结尾索引长度\n",
    "        i2len[end] = length\n",
    "        len2cnt[left] -= 1 # 更新长度left right length次数\n",
    "        len2cnt[right] -= 1\n",
    "        len2cnt[length] += 1\n",
    "        if len2cnt[m] > 0:\n",
    "            ans = i + 1\n",
    "    return ans\n",
    "\n",
    "\n",
    "f([3, 5, 1, 2, 4], 1), f([1], 1), f([2, 1], 2)\n"
   ]
  },
  {
   "cell_type": "code",
   "execution_count": 30,
   "metadata": {},
   "outputs": [
    {
     "data": {
      "text/plain": [
       "(4, 1, 2)"
      ]
     },
     "execution_count": 30,
     "metadata": {},
     "output_type": "execute_result"
    }
   ],
   "source": [
    "# 并查集\n",
    "\n",
    "\n",
    "def f(arr: list, m: int):\n",
    "    count = len(arr)\n",
    "    roots = list(range(count))\n",
    "    rank = [1] * count\n",
    "    cnt = [1] * count  # 各根节点连通量个数 通过根节点查询\n",
    "    bit = [0] * count\n",
    "    equalM = set() # 长度为m的节点\n",
    "\n",
    "    def find(x):\n",
    "        if roots[x] != x:\n",
    "            roots[x] = find(roots[x])\n",
    "        return roots[x]\n",
    "\n",
    "    def union(x, y):\n",
    "        rx, ry = find(x), find(y)\n",
    "        if rx != ry:\n",
    "            if rank[rx] < rank[ry]:\n",
    "                roots[rx] = ry  # 小树附到大树上\n",
    "                cnt[ry] += cnt[rx]  # 小树连通量加到大树上\n",
    "            elif rank[ry] < rank[rx]:\n",
    "                roots[ry] = rx\n",
    "                cnt[rx] += cnt[ry]\n",
    "            else:\n",
    "                roots[rx] = ry\n",
    "                cnt[ry] += cnt[rx]\n",
    "                rank[ry] += 1\n",
    "\n",
    "    ans = -1\n",
    "    for i, n in enumerate(arr):\n",
    "        x = n - 1\n",
    "        bit[x] = 1\n",
    "        for nei in {x - 1, x + 1}:\n",
    "            if 0 <= nei < count:\n",
    "                if bit[nei] == 1:\n",
    "                    union(nei, x)  # 邻居有1就union\n",
    "        # 加入长度为m节点\n",
    "        if cnt[find(x)] == m:\n",
    "            equalM.add(x)\n",
    "        removeKey = set()\n",
    "        # 经过union操作可能出现有些节点长度不为m需要去掉\n",
    "        for k in equalM:\n",
    "            if cnt[find(k)] != m:\n",
    "                removeKey.add(k)\n",
    "        for k in removeKey:\n",
    "            equalM.remove(k)\n",
    "        if len(equalM):\n",
    "            ans = i + 1\n",
    "    return ans\n",
    "\n",
    "\n",
    "f([3, 5, 1, 2, 4], 1), f([1], 1), f([2, 1], 2)\n"
   ]
  },
  {
   "cell_type": "code",
   "execution_count": null,
   "metadata": {},
   "outputs": [],
   "source": []
  }
 ],
 "metadata": {
  "interpreter": {
   "hash": "aee8b7b246df8f9039afb4144a1f6fd8d2ca17a180786b69acc140d282b71a49"
  },
  "kernelspec": {
   "display_name": "Python 3.10.1 64-bit",
   "language": "python",
   "name": "python3"
  },
  "language_info": {
   "codemirror_mode": {
    "name": "ipython",
    "version": 3
   },
   "file_extension": ".py",
   "mimetype": "text/x-python",
   "name": "python",
   "nbconvert_exporter": "python",
   "pygments_lexer": "ipython3",
   "version": "3.10.1"
  },
  "orig_nbformat": 4
 },
 "nbformat": 4,
 "nbformat_minor": 2
}
