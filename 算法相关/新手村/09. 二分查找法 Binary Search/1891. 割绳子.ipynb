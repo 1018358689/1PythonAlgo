{
 "cells": [
  {
   "cell_type": "code",
   "execution_count": null,
   "metadata": {},
   "outputs": [],
   "source": [
    "from typing import List\n",
    "\n",
    "\n",
    "class Solution:\n",
    "\n",
    "    def maxLength(self, ribbons: List[int], k: int) -> int:\n",
    "\n",
    "        def lgh2cnt(lgh):  # 每根长度及根数 长度越长 根数越少\n",
    "            ans = 0\n",
    "            for r in ribbons:\n",
    "                ans += r // lgh\n",
    "            return ans\n",
    "\n",
    "        l, r = 1, max(ribbons)\n",
    "        while l <= r:\n",
    "            m = l + r >> 1\n",
    "            if lgh2cnt(m) >= k:\n",
    "                l = m + 1\n",
    "            else:\n",
    "                r = m - 1\n",
    "        return r if r >= 0 else 0\n"
   ]
  }
 ],
 "metadata": {
  "language_info": {
   "name": "python"
  },
  "orig_nbformat": 4
 },
 "nbformat": 4,
 "nbformat_minor": 2
}
