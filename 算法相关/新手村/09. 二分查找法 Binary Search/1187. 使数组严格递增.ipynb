{
 "cells": [
  {
   "cell_type": "code",
   "execution_count": 1,
   "metadata": {},
   "outputs": [],
   "source": [
    "from bisect import bisect_left\n",
    "from functools import lru_cache\n",
    "from math import inf\n",
    "from typing import List\n",
    "\n",
    "\n",
    "class Solution:\n",
    "\n",
    "    def makeArrayIncreasing(self, arr1: List[int], arr2: List[int]) -> int:\n",
    "        arr2.sort()\n",
    "        n = len(arr1)\n",
    "\n",
    "        @lru_cache(None)\n",
    "        def dfs(i, mx):\n",
    "            # 前i个数 且arr1[i-1]不超过mx的最小操作数\n",
    "            if i == 0:\n",
    "                return 0\n",
    "            ans = inf\n",
    "            if arr1[i - 1] < mx:\n",
    "                # 扩大或不变\n",
    "                r = bisect_left(arr2, mx) - 1  # <mx\n",
    "                if r >= 0 and arr2[r] > arr1[i - 1]:\n",
    "                    ans = min(ans, 1 + dfs(i - 1, arr2[r]))\n",
    "                ans = min(ans, dfs(i - 1, arr1[i - 1]))\n",
    "            else:\n",
    "                # 只能缩小\n",
    "                r = bisect_left(arr2, mx) - 1  # <mx\n",
    "                if r >= 0:\n",
    "                    ans = min(ans, 1 + dfs(i - 1, arr2[r]))\n",
    "            return ans\n",
    "\n",
    "        return res if (res := dfs(n, inf)) != inf else -1\n"
   ]
  },
  {
   "cell_type": "code",
   "execution_count": 4,
   "metadata": {},
   "outputs": [
    {
     "data": {
      "text/plain": [
       "1000000007"
      ]
     },
     "execution_count": 4,
     "metadata": {},
     "output_type": "execute_result"
    }
   ],
   "source": [
    "int(1e9+7)"
   ]
  },
  {
   "cell_type": "code",
   "execution_count": 5,
   "metadata": {},
   "outputs": [
    {
     "data": {
      "text/plain": [
       "6"
      ]
     },
     "execution_count": 5,
     "metadata": {},
     "output_type": "execute_result"
    }
   ],
   "source": [
    "pow(26,2,10)"
   ]
  },
  {
   "cell_type": "code",
   "execution_count": 6,
   "metadata": {},
   "outputs": [
    {
     "data": {
      "text/plain": [
       "9223372036854775807"
      ]
     },
     "execution_count": 6,
     "metadata": {},
     "output_type": "execute_result"
    }
   ],
   "source": [
    "2**63 - 1"
   ]
  },
  {
   "cell_type": "code",
   "execution_count": null,
   "metadata": {},
   "outputs": [],
   "source": []
  }
 ],
 "metadata": {
  "kernelspec": {
   "display_name": "Python 3",
   "language": "python",
   "name": "python3"
  },
  "language_info": {
   "codemirror_mode": {
    "name": "ipython",
    "version": 3
   },
   "file_extension": ".py",
   "mimetype": "text/x-python",
   "name": "python",
   "nbconvert_exporter": "python",
   "pygments_lexer": "ipython3",
   "version": "3.10.5"
  },
  "orig_nbformat": 4,
  "vscode": {
   "interpreter": {
    "hash": "3196968d684371006099b3d55edeef8ed90365227a30deaef86e5d4aa8519be0"
   }
  }
 },
 "nbformat": 4,
 "nbformat_minor": 2
}
