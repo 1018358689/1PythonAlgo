{
 "cells": [
  {
   "cell_type": "code",
   "execution_count": 1,
   "metadata": {},
   "outputs": [
    {
     "data": {
      "text/plain": [
       "[2, 4, 1, 2, 0]"
      ]
     },
     "execution_count": 1,
     "metadata": {},
     "output_type": "execute_result"
    }
   ],
   "source": [
    "from typing import List\n",
    "import bisect\n",
    "\n",
    "\n",
    "class Solution:\n",
    "\n",
    "    def advantageCount(self, nums1: List[int], nums2: List[int]) -> List[int]:\n",
    "        nums1.sort()\n",
    "        ans = []\n",
    "        for n in nums2:\n",
    "            idx = bisect.bisect_right(nums1, n)  # <=n的数目\n",
    "            if idx == len(nums1):\n",
    "                ans.append(nums1.pop(0))\n",
    "            else:\n",
    "                ans.append(nums1.pop(idx))\n",
    "        return ans\n",
    "\n",
    "\n",
    "s = Solution()\n",
    "s.advantageCount([2, 0, 4, 1, 2], [1, 3, 0, 0, 2])\n",
    "# [0,1,2,2,4]"
   ]
  },
  {
   "cell_type": "code",
   "execution_count": null,
   "metadata": {},
   "outputs": [],
   "source": []
  }
 ],
 "metadata": {
  "kernelspec": {
   "display_name": "Python 3.10.5 64-bit",
   "language": "python",
   "name": "python3"
  },
  "language_info": {
   "codemirror_mode": {
    "name": "ipython",
    "version": 3
   },
   "file_extension": ".py",
   "mimetype": "text/x-python",
   "name": "python",
   "nbconvert_exporter": "python",
   "pygments_lexer": "ipython3",
   "version": "3.10.5"
  },
  "orig_nbformat": 4,
  "vscode": {
   "interpreter": {
    "hash": "3196968d684371006099b3d55edeef8ed90365227a30deaef86e5d4aa8519be0"
   }
  }
 },
 "nbformat": 4,
 "nbformat_minor": 2
}
