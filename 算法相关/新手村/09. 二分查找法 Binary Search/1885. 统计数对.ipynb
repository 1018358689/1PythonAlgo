{
 "cells": [
  {
   "cell_type": "code",
   "execution_count": null,
   "metadata": {},
   "outputs": [],
   "source": [
    "from bisect import bisect_right\n",
    "from typing import List\n",
    "\n",
    "\n",
    "class Solution:\n",
    "\n",
    "    def countPairs(self, nums1: List[int], nums2: List[int]) -> int:\n",
    "        nums = sorted(n1 - n2 for n1, n2 in zip(nums1, nums2))\n",
    "        n = len(nums)\n",
    "        ans = 0\n",
    "        for i, num in enumerate(nums):\n",
    "            traget = -num\n",
    "            lim = bisect_right(nums, traget, i + 1, n)\n",
    "            if lim < n:\n",
    "                ans += n - lim\n",
    "        return ans"
   ]
  }
 ],
 "metadata": {
  "language_info": {
   "name": "python"
  },
  "orig_nbformat": 4
 },
 "nbformat": 4,
 "nbformat_minor": 2
}
