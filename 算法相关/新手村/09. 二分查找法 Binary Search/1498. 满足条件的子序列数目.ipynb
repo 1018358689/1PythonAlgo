{
 "cells": [
  {
   "cell_type": "code",
   "execution_count": 12,
   "metadata": {},
   "outputs": [
    {
     "data": {
      "text/plain": [
       "(61, 5)"
      ]
     },
     "execution_count": 12,
     "metadata": {},
     "output_type": "execute_result"
    }
   ],
   "source": [
    "# 遍历左端点 i ，查找小于等于 target-nums[i]的最后一个数 j\n",
    "# 包含左端点 i 的满足条件的子序列个数为：2^{j-i}个\n",
    "def f(nums: list, target: int):\n",
    "    nums.sort()\n",
    "    ans = 0\n",
    "    for i, n in enumerate(nums):\n",
    "        need = target - n\n",
    "        if need < n: # need随n增大减小 当前need比n还小的话 后面更不符合\n",
    "            break\n",
    "        l, r = i, len(nums) - 1\n",
    "        while l <= r:\n",
    "            m = (l + r) >> 1\n",
    "            if nums[m] <= need:\n",
    "                l = m + 1\n",
    "            else:\n",
    "                r = m - 1\n",
    "        if r >= i:\n",
    "            ans += 1 << (r - i)  # 2**(r - i)\n",
    "    return ans % (10**9 + 7)\n",
    "\n",
    "\n",
    "# f([3, 5, 6, 7], 9), f([3, 3, 6, 8], 10)\n",
    "\n",
    "f([2, 3, 3, 4, 6, 7], 12), f([2, 3, 5], 7)\n"
   ]
  },
  {
   "cell_type": "code",
   "execution_count": null,
   "metadata": {},
   "outputs": [],
   "source": []
  }
 ],
 "metadata": {
  "interpreter": {
   "hash": "a5f34674cfcc9b13426a2d112c686bc132e4ef443f1487e707e7c3787d6bcf89"
  },
  "kernelspec": {
   "display_name": "Python 3.10.4 64-bit (windows store)",
   "language": "python",
   "name": "python3"
  },
  "language_info": {
   "codemirror_mode": {
    "name": "ipython",
    "version": 3
   },
   "file_extension": ".py",
   "mimetype": "text/x-python",
   "name": "python",
   "nbconvert_exporter": "python",
   "pygments_lexer": "ipython3",
   "version": "3.10.4"
  },
  "orig_nbformat": 4
 },
 "nbformat": 4,
 "nbformat_minor": 2
}
