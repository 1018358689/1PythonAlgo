{
 "cells": [
  {
   "cell_type": "code",
   "execution_count": null,
   "metadata": {},
   "outputs": [],
   "source": [
    "from typing import List\n",
    "\n",
    "\n",
    "class Solution:\n",
    "    def kthSmallest(self, mat: List[List[int]], k: int) -> int:\n",
    "        rows,cols = len(mat),len(mat[0])\n",
    "        mn = sum(mat[i][0] for i in range(rows))\n",
    "        mx = sum(mat[i][-1] for i in range(rows))\n",
    "        def dfs(r,s,target): # 和<=target 的数组数  target越大 数量越多\n",
    "            nonlocal cnt\n",
    "            if s > target or r == rows or cnt >= k:\n",
    "                return\n",
    "            dfs(r+1,s,target)\n",
    "            for i in range(1,cols):\n",
    "                ns = s - mat[r][0] + mat[r][i]\n",
    "                if ns > target:\n",
    "                    break\n",
    "                cnt += 1\n",
    "                dfs(r+1,ns,target)\n",
    "        l,r = mn,mx\n",
    "        while l<=r:\n",
    "            m = l+r>>1\n",
    "            cnt = 1\n",
    "            dfs(0,mn,m)\n",
    "            if cnt>=k:\n",
    "                r = m-1\n",
    "            else:\n",
    "                l = m+1\n",
    "        return l"
   ]
  }
 ],
 "metadata": {
  "language_info": {
   "name": "python"
  },
  "orig_nbformat": 4
 },
 "nbformat": 4,
 "nbformat_minor": 2
}
