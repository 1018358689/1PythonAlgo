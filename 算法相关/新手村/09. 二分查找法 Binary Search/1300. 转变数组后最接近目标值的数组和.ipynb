{
 "cells": [
  {
   "cell_type": "code",
   "execution_count": 5,
   "metadata": {},
   "outputs": [
    {
     "data": {
      "text/plain": [
       "11361"
      ]
     },
     "execution_count": 5,
     "metadata": {},
     "output_type": "execute_result"
    }
   ],
   "source": [
    "def f(arr, target):\n",
    "    absd = float('inf')\n",
    "    ans = 0\n",
    "    for i in range(max(arr), -1, -1):\n",
    "        s = 0\n",
    "        for j in arr:\n",
    "            if j > i:\n",
    "                s += i\n",
    "            else:\n",
    "                s += j\n",
    "        a = abs(target - s)\n",
    "        if a <= absd:\n",
    "            ans = i\n",
    "            absd = a\n",
    "    return ans\n",
    "\n",
    "\n",
    "f([4, 9, 3], 10)\n",
    "f([60864, 25176, 27249, 21296, 20204], 56803)\n"
   ]
  },
  {
   "cell_type": "code",
   "execution_count": 6,
   "metadata": {},
   "outputs": [
    {
     "data": {
      "text/plain": [
       "11361"
      ]
     },
     "execution_count": 6,
     "metadata": {},
     "output_type": "execute_result"
    }
   ],
   "source": [
    "def f(arr: list, target: int):\n",
    "    arr.sort()\n",
    "    preSum = [0] * (len(arr) + 1)\n",
    "    for i in range(len(arr)):\n",
    "        preSum[i + 1] = preSum[i] + arr[i]\n",
    "\n",
    "    def threshold2sum(threshold):  # >=threshold变成threshold后的和\n",
    "        l, r = 0, len(arr) - 1  # 递增函数\n",
    "        while l <= r:\n",
    "            m = (l + r) >> 1\n",
    "            if arr[m] <= threshold:\n",
    "                l = m + 1\n",
    "            else:\n",
    "                r = m - 1\n",
    "        return preSum[r + 1] + (len(arr) - 1 - r) * threshold\n",
    "\n",
    "    l, r = 0, arr[-1]  # 结果范围\n",
    "    while l <= r:\n",
    "        m = (l + r) >> 1\n",
    "        if threshold2sum(m) >= target:\n",
    "            r = m - 1\n",
    "        else:\n",
    "            l = m + 1\n",
    "    # if l <= arr[-1]:\n",
    "    #     absRight = abs(threshold2sum(l) - target)\n",
    "    #     absLeft = abs(threshold2sum(l - 1) - target)\n",
    "    #     return l if absRight < absLeft else l - 1\n",
    "    # return arr[-1]  # 可以并到上面 相当于absRight==absLeft 取l-1\n",
    "    absRight = abs(threshold2sum(l) - target)\n",
    "    absLeft = abs(threshold2sum(l - 1) - target)\n",
    "    return l if absRight < absLeft else l - 1\n",
    "\n",
    "\n",
    "f([4, 9, 3], 10)\n",
    "f([60864, 25176, 27249, 21296, 20204], 56803)"
   ]
  },
  {
   "cell_type": "code",
   "execution_count": null,
   "metadata": {},
   "outputs": [],
   "source": []
  }
 ],
 "metadata": {
  "interpreter": {
   "hash": "aee8b7b246df8f9039afb4144a1f6fd8d2ca17a180786b69acc140d282b71a49"
  },
  "kernelspec": {
   "display_name": "Python 3.10.1 64-bit",
   "language": "python",
   "name": "python3"
  },
  "language_info": {
   "codemirror_mode": {
    "name": "ipython",
    "version": 3
   },
   "file_extension": ".py",
   "mimetype": "text/x-python",
   "name": "python",
   "nbconvert_exporter": "python",
   "pygments_lexer": "ipython3",
   "version": "3.10.1"
  },
  "orig_nbformat": 4
 },
 "nbformat": 4,
 "nbformat_minor": 2
}
