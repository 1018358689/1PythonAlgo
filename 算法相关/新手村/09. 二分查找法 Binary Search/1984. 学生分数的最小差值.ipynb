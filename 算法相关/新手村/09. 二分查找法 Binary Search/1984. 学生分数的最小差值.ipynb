{
 "cells": [
  {
   "cell_type": "code",
   "execution_count": 1,
   "metadata": {},
   "outputs": [],
   "source": [
    "from typing import List\n",
    "\n",
    "\n",
    "class Solution:\n",
    "\n",
    "    def minimumDifference(self, nums: List[int], k: int) -> int:\n",
    "        nums.sort()\n",
    "        l = 0\n",
    "        ans = float('inf')\n",
    "        for r in range(len(nums)):\n",
    "            while r - l + 1 > k:\n",
    "                l += 1\n",
    "            if r + 1 >= k:\n",
    "                ans = min(ans, nums[r] - nums[l])\n",
    "        return ans"
   ]
  },
  {
   "cell_type": "code",
   "execution_count": null,
   "metadata": {},
   "outputs": [],
   "source": [
    "from typing import List\n",
    "\n",
    "\n",
    "class Solution:\n",
    "\n",
    "    def minimumDifference(self, nums: List[int], k: int) -> int:\n",
    "        nums.sort()\n",
    "        l = 0\n",
    "        ans = float('inf')\n",
    "        for l in range(len(nums) - k + 1):\n",
    "            ans = min(ans, nums[l + k - 1] - nums[l])\n",
    "        return ans"
   ]
  }
 ],
 "metadata": {
  "interpreter": {
   "hash": "97367d2de1780ea7c502b529f25888c1b53c0430a7611816b6c7cf19d8435228"
  },
  "kernelspec": {
   "display_name": "Python 3.10.4 64-bit (windows store)",
   "language": "python",
   "name": "python3"
  },
  "language_info": {
   "codemirror_mode": {
    "name": "ipython",
    "version": 3
   },
   "file_extension": ".py",
   "mimetype": "text/x-python",
   "name": "python",
   "nbconvert_exporter": "python",
   "pygments_lexer": "ipython3",
   "version": "3.10.4"
  },
  "orig_nbformat": 4
 },
 "nbformat": 4,
 "nbformat_minor": 2
}
