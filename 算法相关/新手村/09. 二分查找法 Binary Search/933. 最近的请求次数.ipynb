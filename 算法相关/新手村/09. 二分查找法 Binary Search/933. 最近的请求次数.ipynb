{
 "cells": [
  {
   "cell_type": "code",
   "execution_count": 1,
   "metadata": {},
   "outputs": [],
   "source": [
    "class RecentCounter:\n",
    "\n",
    "    def __init__(self):\n",
    "        self.request = []\n",
    "        self.cnt = []\n",
    "\n",
    "    def ping(self, t: int) -> int:\n",
    "        self.cnt.append((self.cnt[-1] if self.cnt else 0) + 1)\n",
    "        self.request.append(t)\n",
    "        l, r = 0, len(self.request) - 1\n",
    "        while l <= r:\n",
    "            m = (l + r) >> 1\n",
    "            if self.request[m] >= t - 3000:\n",
    "                r = m - 1\n",
    "            else:\n",
    "                l = m + 1\n",
    "        return self.cnt[-1] - self.cnt[l] + 1\n",
    "\n",
    "\n",
    "# Your RecentCounter object will be instantiated and called as such:\n",
    "# obj = RecentCounter()\n",
    "# param_1 = obj.ping(t)"
   ]
  },
  {
   "cell_type": "code",
   "execution_count": null,
   "metadata": {},
   "outputs": [],
   "source": [
    "class RecentCounter:\n",
    "\n",
    "    def __init__(self):\n",
    "        self.request = []\n",
    "\n",
    "    def ping(self, t: int) -> int:\n",
    "        self.request.append(t)\n",
    "        l, r = 0, len(self.request) - 1\n",
    "        while l <= r:\n",
    "            m = (l + r) >> 1\n",
    "            if self.request[m] >= t - 3000:\n",
    "                r = m - 1\n",
    "            else:\n",
    "                l = m + 1\n",
    "        return len(self.request) - l\n",
    "\n",
    "\n",
    "# Your RecentCounter object will be instantiated and called as such:\n",
    "# obj = RecentCounter()\n",
    "# param_1 = obj.ping(t)"
   ]
  }
 ],
 "metadata": {
  "interpreter": {
   "hash": "a5f34674cfcc9b13426a2d112c686bc132e4ef443f1487e707e7c3787d6bcf89"
  },
  "kernelspec": {
   "display_name": "Python 3.10.4 64-bit (windows store)",
   "language": "python",
   "name": "python3"
  },
  "language_info": {
   "codemirror_mode": {
    "name": "ipython",
    "version": 3
   },
   "file_extension": ".py",
   "mimetype": "text/x-python",
   "name": "python",
   "nbconvert_exporter": "python",
   "pygments_lexer": "ipython3",
   "version": "3.10.4"
  },
  "orig_nbformat": 4
 },
 "nbformat": 4,
 "nbformat_minor": 2
}
