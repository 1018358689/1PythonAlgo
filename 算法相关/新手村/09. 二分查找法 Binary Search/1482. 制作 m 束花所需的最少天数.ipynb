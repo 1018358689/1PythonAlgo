{
 "cells": [
  {
   "cell_type": "code",
   "execution_count": 17,
   "metadata": {},
   "outputs": [
    {
     "data": {
      "text/plain": [
       "9"
      ]
     },
     "execution_count": 17,
     "metadata": {},
     "output_type": "execute_result"
    }
   ],
   "source": [
    "# 1132ms\n",
    "from itertools import groupby\n",
    "\n",
    "\n",
    "def f(bloomDay: list, m: int, k: int):\n",
    "\n",
    "    def day2bunch(day: int):  # 天数-花束 递增函数\n",
    "        localBloom = bloomDay[:]\n",
    "        for i, n in enumerate(localBloom):\n",
    "            if n <= day:\n",
    "                localBloom[i] = 0\n",
    "        ans = 0\n",
    "        for b, c in groupby(localBloom):\n",
    "            if b == 0 and (cnt := len(list(c))) >= k:\n",
    "                ans += cnt // k\n",
    "        return ans\n",
    "\n",
    "    # print(day2bunch(12))\n",
    "    l, r = 1, max(bloomDay)\n",
    "    while l <= r:\n",
    "        mid = (l + r) >> 1\n",
    "        if day2bunch(mid) < m:\n",
    "            l = mid + 1\n",
    "        else:\n",
    "            r = mid - 1\n",
    "    if l > max(bloomDay):\n",
    "        return -1\n",
    "    return l\n",
    "\n",
    "\n",
    "f([1, 10, 3, 10, 2], 3, 2)\n",
    "f([7, 7, 7, 7, 12, 7, 7], 2, 3)\n",
    "f([1, 10, 2, 9, 3, 8, 4, 7, 5, 6], 4, 2)\n"
   ]
  },
  {
   "cell_type": "code",
   "execution_count": 20,
   "metadata": {},
   "outputs": [
    {
     "data": {
      "text/plain": [
       "9"
      ]
     },
     "execution_count": 20,
     "metadata": {},
     "output_type": "execute_result"
    }
   ],
   "source": [
    "# 816ms\n",
    "def f(bloomDay: list, m: int, k: int):\n",
    "\n",
    "    def day2bunch(day: int):  # 天数-花束 递增函数\n",
    "        ans = 0  # 花束\n",
    "        flower = 0  # 连续数量\n",
    "        for i in range(len(bloomDay)):\n",
    "            if bloomDay[i] <= day:\n",
    "                flower += 1\n",
    "                if flower == k: # 记录并重置连续数量\n",
    "                    ans += 1\n",
    "                    flower = 0\n",
    "            else: # 一旦碰到>day 则重置连续数量\n",
    "                flower = 0\n",
    "        return ans\n",
    "\n",
    "    # print(day2bunch(12))\n",
    "    l, r = 1, max(bloomDay)\n",
    "    while l <= r:\n",
    "        mid = (l + r) >> 1\n",
    "        if day2bunch(mid) < m:\n",
    "            l = mid + 1\n",
    "        else:\n",
    "            r = mid - 1\n",
    "    if l > max(bloomDay):\n",
    "        return -1\n",
    "    return l\n",
    "\n",
    "\n",
    "f([1, 10, 3, 10, 2], 3, 2)\n",
    "f([7, 7, 7, 7, 12, 7, 7], 2, 3)\n",
    "f([1, 10, 2, 9, 3, 8, 4, 7, 5, 6], 4, 2)\n"
   ]
  },
  {
   "cell_type": "code",
   "execution_count": 22,
   "metadata": {},
   "outputs": [
    {
     "data": {
      "text/plain": [
       "9"
      ]
     },
     "execution_count": 22,
     "metadata": {},
     "output_type": "execute_result"
    }
   ],
   "source": [
    "# 652ms\n",
    "def f(bloomDay: list, m: int, k: int):\n",
    "\n",
    "    def day2bunch(day: int):  # 天数-花束 递增函数\n",
    "        ans = 0  # 花束\n",
    "        flower = 0  # 连续数量\n",
    "        for n in bloomDay:\n",
    "            if n <= day:\n",
    "                flower += 1\n",
    "                if flower == k:  # 记录并重置连续数量\n",
    "                    ans += 1\n",
    "                    flower = 0\n",
    "            else:  # 一旦碰到>day 则重置连续数量\n",
    "                flower = 0\n",
    "        return ans\n",
    "\n",
    "    # print(day2bunch(12))\n",
    "    l, r = 1, max(bloomDay)\n",
    "    while l <= r:\n",
    "        mid = (l + r) >> 1\n",
    "        if day2bunch(mid) < m:\n",
    "            l = mid + 1\n",
    "        else:\n",
    "            r = mid - 1\n",
    "    if l > max(bloomDay):\n",
    "        return -1\n",
    "    return l\n",
    "\n",
    "\n",
    "f([1, 10, 3, 10, 2], 3, 2)\n",
    "f([7, 7, 7, 7, 12, 7, 7], 2, 3)\n",
    "f([1, 10, 2, 9, 3, 8, 4, 7, 5, 6], 4, 2)\n"
   ]
  },
  {
   "cell_type": "code",
   "execution_count": 23,
   "metadata": {},
   "outputs": [
    {
     "data": {
      "text/plain": [
       "9"
      ]
     },
     "execution_count": 23,
     "metadata": {},
     "output_type": "execute_result"
    }
   ],
   "source": [
    "# 700ms 提前判断没啥提速\n",
    "def f(bloomDay: list, m: int, k: int):\n",
    "\n",
    "    def day2bunch(day: int):  # 天数-花束 递增函数\n",
    "        ans = 0  # 花束\n",
    "        flower = 0  # 连续数量\n",
    "        for n in bloomDay:\n",
    "            if n <= day:\n",
    "                flower += 1\n",
    "                if flower == k:  # 记录并重置连续数量\n",
    "                    ans += 1\n",
    "                    flower = 0\n",
    "            else:  # 一旦碰到>day 则重置连续数量\n",
    "                flower = 0\n",
    "            if ans >= m:\n",
    "                return True\n",
    "        return False\n",
    "\n",
    "    l, r = 1, max(bloomDay)\n",
    "    while l <= r:\n",
    "        mid = (l + r) >> 1\n",
    "        if not day2bunch(mid):\n",
    "            l = mid + 1\n",
    "        else:\n",
    "            r = mid - 1\n",
    "    if l > max(bloomDay):\n",
    "        return -1\n",
    "    return l\n",
    "\n",
    "\n",
    "f([1, 10, 3, 10, 2], 3, 2)\n",
    "f([7, 7, 7, 7, 12, 7, 7], 2, 3)\n",
    "f([1, 10, 2, 9, 3, 8, 4, 7, 5, 6], 4, 2)\n"
   ]
  },
  {
   "cell_type": "code",
   "execution_count": 27,
   "metadata": {},
   "outputs": [
    {
     "data": {
      "text/plain": [
       "9"
      ]
     },
     "execution_count": 27,
     "metadata": {},
     "output_type": "execute_result"
    }
   ],
   "source": [
    "# 612ms\n",
    "def f(bloomDay: list, m: int, k: int):\n",
    "\n",
    "    def day2bunch(day: int):  # 天数-花束 递增函数\n",
    "        ans = 0  # 花束\n",
    "        flower = 0  # 连续数量\n",
    "        bloomDay2 = bloomDay + [float('inf')] # 方便最后连续花束可以统计到\n",
    "        for n in bloomDay2:\n",
    "            if n <= day:\n",
    "                flower += 1\n",
    "            else:  # 一旦碰到>day 则重置连续数量\n",
    "                ans += flower // k\n",
    "                flower = 0\n",
    "            if ans >= m:\n",
    "                return True\n",
    "        return False\n",
    "\n",
    "    # print(day2bunch(12))\n",
    "    l, r = 1, max(bloomDay)\n",
    "    while l <= r:\n",
    "        mid = (l + r) >> 1\n",
    "        if not day2bunch(mid):\n",
    "            l = mid + 1\n",
    "        else:\n",
    "            r = mid - 1\n",
    "    if l > max(bloomDay):\n",
    "        return -1\n",
    "    return l\n",
    "\n",
    "\n",
    "f([1, 10, 3, 10, 2], 3, 2)\n",
    "f([7, 7, 7, 7, 12, 7, 7], 2, 3)\n",
    "f([1, 10, 2, 9, 3, 8, 4, 7, 5, 6], 4, 2)\n"
   ]
  },
  {
   "cell_type": "code",
   "execution_count": null,
   "metadata": {},
   "outputs": [],
   "source": []
  }
 ],
 "metadata": {
  "interpreter": {
   "hash": "aee8b7b246df8f9039afb4144a1f6fd8d2ca17a180786b69acc140d282b71a49"
  },
  "kernelspec": {
   "display_name": "Python 3.10.1 64-bit",
   "language": "python",
   "name": "python3"
  },
  "language_info": {
   "codemirror_mode": {
    "name": "ipython",
    "version": 3
   },
   "file_extension": ".py",
   "mimetype": "text/x-python",
   "name": "python",
   "nbconvert_exporter": "python",
   "pygments_lexer": "ipython3",
   "version": "3.10.1"
  },
  "orig_nbformat": 4
 },
 "nbformat": 4,
 "nbformat_minor": 2
}
