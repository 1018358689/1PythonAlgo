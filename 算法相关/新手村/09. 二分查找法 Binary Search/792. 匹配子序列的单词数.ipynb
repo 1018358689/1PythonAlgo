{
 "cells": [
  {
   "cell_type": "code",
   "execution_count": null,
   "metadata": {},
   "outputs": [],
   "source": [
    "from typing import List\n",
    "from collections import defaultdict\n",
    "\n",
    "\n",
    "class Solution:\n",
    "\n",
    "    def numMatchingSubseq(self, s: str, words: List[str]) -> int:\n",
    "        n2idx = defaultdict(list)\n",
    "        for i, n in enumerate(s):\n",
    "            n2idx[n].append(i)\n",
    "\n",
    "        def search(nums, target):  # >target\n",
    "            l, r = 0, len(nums) - 1\n",
    "            while l <= r:\n",
    "                m = l + r >> 1\n",
    "                if nums[m] > target:\n",
    "                    r = m - 1\n",
    "                else:\n",
    "                    l = m + 1\n",
    "            return l if l != len(nums) else None\n",
    "\n",
    "        def check(word):\n",
    "            i = -1\n",
    "            for w in word:\n",
    "                idx = search(n2idx[w], i)\n",
    "                if idx is not None:\n",
    "                    i = n2idx[w][idx]\n",
    "                else:\n",
    "                    return False\n",
    "            return True\n",
    "\n",
    "        return sum(check(word) for word in words)"
   ]
  }
 ],
 "metadata": {
  "kernelspec": {
   "display_name": "Python 3.10.5 64-bit",
   "language": "python",
   "name": "python3"
  },
  "language_info": {
   "name": "python",
   "version": "3.10.5"
  },
  "orig_nbformat": 4,
  "vscode": {
   "interpreter": {
    "hash": "3196968d684371006099b3d55edeef8ed90365227a30deaef86e5d4aa8519be0"
   }
  }
 },
 "nbformat": 4,
 "nbformat_minor": 2
}
