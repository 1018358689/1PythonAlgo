{
 "cells": [
  {
   "cell_type": "markdown",
   "metadata": {},
   "source": [
    "排序完的people：\n",
    "[[7,0], [7,1], [6,1], [5,0], [5,2]，[4,4]]\n",
    "\n",
    "插入的过程：\n",
    "插入[7,0]：[[7,0]]\n",
    "插入[7,1]：[[7,0],[7,1]]\n",
    "插入[6,1]：[[7,0],[6,1],[7,1]]\n",
    "插入[5,0]：[[5,0],[7,0],[6,1],[7,1]]\n",
    "插入[5,2]：[[5,0],[7,0],[5,2],[6,1],[7,1]]\n",
    "插入[4,4]：[[5,0],[7,0],[5,2],[6,1],[4,4],[7,1]]\n",
    "\n",
    "作者：carlsun-2\n",
    "链接：https://leetcode.cn/problems/queue-reconstruction-by-height/solution/406du-shuo-shi-tan-xin-na-yao-wei-shi-yao-yong-tan/\n",
    "来源：力扣（LeetCode）\n",
    "著作权归作者所有。商业转载请联系作者获得授权，非商业转载请注明出处。"
   ]
  },
  {
   "cell_type": "code",
   "execution_count": null,
   "metadata": {},
   "outputs": [],
   "source": [
    "from typing import List\n",
    "\n",
    "\n",
    "class Solution:\n",
    "\n",
    "    def reconstructQueue(self, people: List[List[int]]) -> List[List[int]]:\n",
    "        people.sort(key=lambda x: (-x[0], x[1]))\n",
    "        ans = []\n",
    "        for h, k in people:\n",
    "            ans.insert(k, [h, k])\n",
    "        return ans"
   ]
  }
 ],
 "metadata": {
  "language_info": {
   "name": "python"
  },
  "orig_nbformat": 4
 },
 "nbformat": 4,
 "nbformat_minor": 2
}
