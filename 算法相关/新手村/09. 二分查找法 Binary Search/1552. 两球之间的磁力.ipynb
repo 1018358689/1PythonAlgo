{
 "cells": [
  {
   "cell_type": "code",
   "execution_count": 2,
   "metadata": {},
   "outputs": [
    {
     "data": {
      "text/plain": [
       "3"
      ]
     },
     "execution_count": 2,
     "metadata": {},
     "output_type": "execute_result"
    }
   ],
   "source": [
    "# 翻译一下题意, m个男生一起上厕所(小号), 怎样才能最大程度的避免尴尬.\n",
    "def f(position: list, m: int):\n",
    "    position.sort()\n",
    "\n",
    "    def force2cnt(force: int):  # 力和个数 单调递减\n",
    "        pre = position[0]\n",
    "        ans = 1\n",
    "        for p in position[1:]:\n",
    "            if p - pre >= force:  # 任意两球的最小磁力>=force\n",
    "                ans += 1\n",
    "                pre = p\n",
    "        return ans\n",
    "\n",
    "    l, r = 1, position[-1] - position[0]  # 力的范围\n",
    "    while l <= r:\n",
    "        mid = (l + r) >> 1\n",
    "        if force2cnt(mid) >= m:  # 在递减曲线上方\n",
    "            l = mid + 1\n",
    "        else:\n",
    "            r = mid - 1\n",
    "    return r\n",
    "\n",
    "\n",
    "f([1, 2, 3, 4, 7], 3)\n"
   ]
  },
  {
   "cell_type": "code",
   "execution_count": null,
   "metadata": {},
   "outputs": [],
   "source": []
  }
 ],
 "metadata": {
  "interpreter": {
   "hash": "aee8b7b246df8f9039afb4144a1f6fd8d2ca17a180786b69acc140d282b71a49"
  },
  "kernelspec": {
   "display_name": "Python 3.10.1 64-bit",
   "language": "python",
   "name": "python3"
  },
  "language_info": {
   "codemirror_mode": {
    "name": "ipython",
    "version": 3
   },
   "file_extension": ".py",
   "mimetype": "text/x-python",
   "name": "python",
   "nbconvert_exporter": "python",
   "pygments_lexer": "ipython3",
   "version": "3.10.1"
  },
  "orig_nbformat": 4
 },
 "nbformat": 4,
 "nbformat_minor": 2
}
