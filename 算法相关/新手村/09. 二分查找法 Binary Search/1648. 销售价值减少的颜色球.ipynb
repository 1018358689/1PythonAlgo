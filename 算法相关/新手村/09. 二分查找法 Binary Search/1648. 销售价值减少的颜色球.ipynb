{
 "cells": [
  {
   "cell_type": "code",
   "execution_count": 15,
   "metadata": {},
   "outputs": [
    {
     "data": {
      "text/plain": [
       "(14, 19, 110)"
      ]
     },
     "execution_count": 15,
     "metadata": {},
     "output_type": "execute_result"
    }
   ],
   "source": [
    "import heapq\n",
    "\n",
    "\n",
    "def f(inventory: list, orders: int):\n",
    "    Mod = 10**9 + 7\n",
    "    pq = []\n",
    "    for i in inventory:\n",
    "        heapq.heappush(pq, -i)\n",
    "    ans = 0\n",
    "    for _ in range(orders):\n",
    "        cur = -heapq.heappop(pq)\n",
    "        ans += cur\n",
    "        ans %= Mod\n",
    "        nei = cur - 1\n",
    "        if nei > 0:\n",
    "            heapq.heappush(pq, -nei)\n",
    "    return ans % Mod\n",
    "\n",
    "\n",
    "f([2, 5], 4), f([3, 5], 6), f([2, 8, 4, 10, 6], 20)\n",
    "# f([1000000000], 1000000000)\n"
   ]
  },
  {
   "cell_type": "markdown",
   "metadata": {},
   "source": [
    "我们可以二分查找 最后一次卖出时，球的价格 x。\n",
    "最后的答案由两部分组成：\n",
    "\n",
    "对于所有数量 > x 的颜色，其肯定会减小到 x，因此用等差数列求和公式求和即可。\n",
    "如果执行完第 1 步，仍有剩余的 orders，则这些 orders 一定会以价格 x 卖出。"
   ]
  },
  {
   "cell_type": "code",
   "execution_count": 23,
   "metadata": {},
   "outputs": [
    {
     "data": {
      "text/plain": [
       "21"
      ]
     },
     "execution_count": 23,
     "metadata": {},
     "output_type": "execute_result"
    }
   ],
   "source": [
    "# 2 8 4 10 6  - 17\n",
    "# 2 3 3  3 3\n",
    "#   5 1  7 3  -16\n",
    "def f(inventory: list, orders: int):\n",
    "    Mod = 10**9 + 7\n",
    "\n",
    "    # 目标1:先求出最后限制次数orders的球价\n",
    "    def last2cnt(x):  # 最后卖出球价格x - 操作次数 单调递减函数\n",
    "        cnt = 0\n",
    "        for i in inventory:\n",
    "            if i > x:\n",
    "                cnt += i - x\n",
    "        return cnt\n",
    "\n",
    "    l, r = 0, max(inventory)\n",
    "    while l <= r:\n",
    "        m = (l + r) >> 1\n",
    "        if last2cnt(m) <= orders:\n",
    "            r = m - 1\n",
    "        else:\n",
    "            l = m + 1\n",
    "    # 目标2:计算有无多余次数 以及利用等差算价格\n",
    "    cnt = last2cnt(l)\n",
    "    ans = 0\n",
    "    for i in inventory:\n",
    "        if i > l:\n",
    "            ans += (i + l + 1) * (i - l) // 2\n",
    "    ans += (orders - cnt) * l # 多于要加的价格\n",
    "    return ans % Mod\n",
    "\n",
    "\n",
    "f([2, 5], 4), f([3, 5], 6), f([2, 8, 4, 10, 6], 20)\n",
    "f([1000000000], 1000000000)\n",
    "# f([2, 8, 4, 10, 6], 17)\n"
   ]
  },
  {
   "cell_type": "code",
   "execution_count": null,
   "metadata": {},
   "outputs": [],
   "source": []
  }
 ],
 "metadata": {
  "interpreter": {
   "hash": "aee8b7b246df8f9039afb4144a1f6fd8d2ca17a180786b69acc140d282b71a49"
  },
  "kernelspec": {
   "display_name": "Python 3.10.1 64-bit",
   "language": "python",
   "name": "python3"
  },
  "language_info": {
   "codemirror_mode": {
    "name": "ipython",
    "version": 3
   },
   "file_extension": ".py",
   "mimetype": "text/x-python",
   "name": "python",
   "nbconvert_exporter": "python",
   "pygments_lexer": "ipython3",
   "version": "3.10.1"
  },
  "orig_nbformat": 4
 },
 "nbformat": 4,
 "nbformat_minor": 2
}
