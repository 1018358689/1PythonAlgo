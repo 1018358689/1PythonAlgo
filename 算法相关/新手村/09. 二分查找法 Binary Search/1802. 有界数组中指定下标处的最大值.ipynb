{
 "cells": [
  {
   "cell_type": "code",
   "execution_count": 2,
   "metadata": {},
   "outputs": [
    {
     "data": {
      "text/plain": [
       "(2, 3)"
      ]
     },
     "execution_count": 2,
     "metadata": {},
     "output_type": "execute_result"
    }
   ],
   "source": [
    "def f(n, index, maxSum):\n",
    "\n",
    "    def num2sum(num):  # index处值-总和 递增\n",
    "        s = 0\n",
    "        local = num\n",
    "        for _ in range(index, -1, -1):\n",
    "            if local > 1:\n",
    "                s += local\n",
    "                local -= 1\n",
    "            else:\n",
    "                s += local\n",
    "        local = num\n",
    "        for _ in range(index, n):\n",
    "            if local > 1:\n",
    "                s += local\n",
    "                local -= 1\n",
    "            else:\n",
    "                s += local\n",
    "        return s - num\n",
    "\n",
    "    l, r = 1, maxSum\n",
    "    while l <= r:\n",
    "        m = (l + r) >> 1\n",
    "        if num2sum(m) <= maxSum:\n",
    "            l = m + 1\n",
    "        else:\n",
    "            r = m - 1\n",
    "    return r\n",
    "\n",
    "\n",
    "f(4, 2, 6), f(6, 1, 10)\n"
   ]
  },
  {
   "cell_type": "code",
   "execution_count": 3,
   "metadata": {},
   "outputs": [
    {
     "data": {
      "text/plain": [
       "(2, 3)"
      ]
     },
     "execution_count": 3,
     "metadata": {},
     "output_type": "execute_result"
    }
   ],
   "source": [
    "def f(n, index, maxSum):\n",
    "\n",
    "    def num2sum(num):  # index处值-最小总和 递增\n",
    "        if num > index:\n",
    "            left = (num + (num - index)) * (index + 1) // 2 # 等差\n",
    "        else:\n",
    "            left = (1 + num) * num // 2 + index + 1 - num # 等差+连续1\n",
    "        if num > (rightSz := n - 1 - index):\n",
    "            right = (num + (num - rightSz)) * (rightSz + 1) // 2 # 等差\n",
    "        else:\n",
    "            right = (1 + num) * num // 2 + rightSz + 1 - num # 等差+连续1\n",
    "        return left + right - num # nums[index]重复计算需要减去\n",
    "\n",
    "    l, r = 1, maxSum  # nums[index]确定范围 再二分查找\n",
    "    while l <= r:\n",
    "        m = (l + r) >> 1\n",
    "        if num2sum(m) <= maxSum:\n",
    "            l = m + 1\n",
    "        else:\n",
    "            r = m - 1\n",
    "    return r\n",
    "\n",
    "\n",
    "f(4, 2, 6), f(6, 1, 10)\n"
   ]
  },
  {
   "cell_type": "code",
   "execution_count": null,
   "metadata": {},
   "outputs": [],
   "source": []
  }
 ],
 "metadata": {
  "interpreter": {
   "hash": "a5f34674cfcc9b13426a2d112c686bc132e4ef443f1487e707e7c3787d6bcf89"
  },
  "kernelspec": {
   "display_name": "Python 3.10.4 64-bit (windows store)",
   "language": "python",
   "name": "python3"
  },
  "language_info": {
   "codemirror_mode": {
    "name": "ipython",
    "version": 3
   },
   "file_extension": ".py",
   "mimetype": "text/x-python",
   "name": "python",
   "nbconvert_exporter": "python",
   "pygments_lexer": "ipython3",
   "version": "3.10.4"
  },
  "orig_nbformat": 4
 },
 "nbformat": 4,
 "nbformat_minor": 2
}
