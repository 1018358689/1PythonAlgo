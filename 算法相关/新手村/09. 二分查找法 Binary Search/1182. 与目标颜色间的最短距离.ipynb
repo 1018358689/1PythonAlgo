{
 "cells": [
  {
   "cell_type": "code",
   "execution_count": 1,
   "metadata": {},
   "outputs": [],
   "source": [
    "from math import inf\n",
    "from typing import List\n",
    "from collections import defaultdict\n",
    "from bisect import bisect\n",
    "\n",
    "\n",
    "class Solution:\n",
    "\n",
    "    def shortestDistanceColor(self, colors: List[int], queries: List[List[int]]) -> List[int]:\n",
    "\n",
    "        def search(nums, target):  # [1,3,4,6,8] >=target\n",
    "            l, r = 0, len(nums) - 1\n",
    "            while l <= r:\n",
    "                m = l + r >> 1\n",
    "                if nums[m] >= target:\n",
    "                    r = m - 1\n",
    "                else:\n",
    "                    l = m + 1\n",
    "            return l\n",
    "\n",
    "        ha = defaultdict(list)\n",
    "\n",
    "        for i, c in enumerate(colors):\n",
    "            ha[c].append(i)\n",
    "        ans = [-1] * len(queries)\n",
    "        for j, (i, c) in enumerate(queries):\n",
    "            lst = ha[c]\n",
    "            r = search(lst, i)\n",
    "            l = r - 1\n",
    "            tmp = inf\n",
    "            if r < len(lst):\n",
    "                tmp = min(tmp, lst[r] - i)\n",
    "            if l >= 0:\n",
    "                tmp = min(tmp, i - lst[l])\n",
    "            ans[j] = tmp if tmp != inf else -1\n",
    "\n",
    "        return ans"
   ]
  },
  {
   "cell_type": "code",
   "execution_count": null,
   "metadata": {},
   "outputs": [],
   "source": [
    "# bisect_left >=target 对应rl的l\n",
    "# bisect_right-1 <=target 对应rl的r"
   ]
  },
  {
   "cell_type": "code",
   "execution_count": null,
   "metadata": {},
   "outputs": [],
   "source": [
    "from math import inf\n",
    "from typing import List\n",
    "from collections import defaultdict\n",
    "from bisect import bisect_left\n",
    "\n",
    "\n",
    "class Solution:\n",
    "\n",
    "    def shortestDistanceColor(self, colors: List[int], queries: List[List[int]]) -> List[int]:\n",
    "\n",
    "        ha = defaultdict(list)\n",
    "\n",
    "        for i, c in enumerate(colors):\n",
    "            ha[c].append(i)\n",
    "        ans = [-1] * len(queries)\n",
    "        for j, (i, c) in enumerate(queries):\n",
    "            lst = ha[c]\n",
    "            r = bisect_left(lst, i)\n",
    "            l = r - 1\n",
    "            tmp = inf\n",
    "            if r < len(lst):\n",
    "                tmp = min(tmp, lst[r] - i)\n",
    "            if l >= 0:\n",
    "                tmp = min(tmp, i - lst[l])\n",
    "            ans[j] = tmp if tmp != inf else -1\n",
    "\n",
    "        return ans"
   ]
  }
 ],
 "metadata": {
  "kernelspec": {
   "display_name": "Python 3",
   "language": "python",
   "name": "python3"
  },
  "language_info": {
   "codemirror_mode": {
    "name": "ipython",
    "version": 3
   },
   "file_extension": ".py",
   "mimetype": "text/x-python",
   "name": "python",
   "nbconvert_exporter": "python",
   "pygments_lexer": "ipython3",
   "version": "3.10.5"
  },
  "orig_nbformat": 4,
  "vscode": {
   "interpreter": {
    "hash": "3196968d684371006099b3d55edeef8ed90365227a30deaef86e5d4aa8519be0"
   }
  }
 },
 "nbformat": 4,
 "nbformat_minor": 2
}
