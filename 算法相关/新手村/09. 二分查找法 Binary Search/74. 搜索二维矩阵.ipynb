{
 "cells": [
  {
   "cell_type": "code",
   "execution_count": 3,
   "metadata": {},
   "outputs": [
    {
     "data": {
      "text/plain": [
       "True"
      ]
     },
     "execution_count": 3,
     "metadata": {},
     "output_type": "execute_result"
    }
   ],
   "source": [
    "def f(matrix: list, target: int):\n",
    "    for i in range(len(matrix) - 1, -1, -1):\n",
    "        matrix[i:i + 1] = matrix[i]\n",
    "    l, r = 0, len(matrix) - 1\n",
    "    while l <= r:\n",
    "        m = (l + r) >> 1\n",
    "        if matrix[m] >= target:\n",
    "            r = m - 1\n",
    "        else:\n",
    "            l = m + 1\n",
    "    return l != len(matrix) and matrix[l] == target\n",
    "\n",
    "\n",
    "f([[1, 3, 5, 7], [10, 11, 16, 20], [23, 30, 34, 60]], 3)\n"
   ]
  },
  {
   "cell_type": "code",
   "execution_count": 4,
   "metadata": {},
   "outputs": [
    {
     "data": {
      "text/plain": [
       "True"
      ]
     },
     "execution_count": 4,
     "metadata": {},
     "output_type": "execute_result"
    }
   ],
   "source": [
    "def f(matrix: list, target: int):\n",
    "    rows, cols = len(matrix), len(matrix[0])\n",
    "    l, r = 0, rows * cols - 1\n",
    "    while l <= r:\n",
    "        m = (l + r) >> 1\n",
    "        row, col = divmod(m, cols)\n",
    "        if matrix[row][col] >= target:\n",
    "            r = m - 1\n",
    "        else:\n",
    "            l = m + 1\n",
    "    row, col = divmod(l, cols)\n",
    "    return l != rows * cols and matrix[row][col] == target\n",
    "\n",
    "\n",
    "f([[1, 3, 5, 7], [10, 11, 16, 20], [23, 30, 34, 60]], 3)\n"
   ]
  },
  {
   "cell_type": "code",
   "execution_count": null,
   "metadata": {},
   "outputs": [],
   "source": []
  }
 ],
 "metadata": {
  "interpreter": {
   "hash": "a5f34674cfcc9b13426a2d112c686bc132e4ef443f1487e707e7c3787d6bcf89"
  },
  "kernelspec": {
   "display_name": "Python 3.10.4 64-bit (windows store)",
   "language": "python",
   "name": "python3"
  },
  "language_info": {
   "codemirror_mode": {
    "name": "ipython",
    "version": 3
   },
   "file_extension": ".py",
   "mimetype": "text/x-python",
   "name": "python",
   "nbconvert_exporter": "python",
   "pygments_lexer": "ipython3",
   "version": "3.10.4"
  },
  "orig_nbformat": 4
 },
 "nbformat": 4,
 "nbformat_minor": 2
}
