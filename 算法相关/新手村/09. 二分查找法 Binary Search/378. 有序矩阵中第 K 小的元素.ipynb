{
 "cells": [
  {
   "cell_type": "code",
   "execution_count": 1,
   "metadata": {},
   "outputs": [],
   "source": [
    "from bisect import bisect_left, bisect_right\n",
    "from typing import List\n",
    "\n",
    "\n",
    "class Solution:\n",
    "\n",
    "    def kthSmallest(self, matrix: List[List[int]], k: int) -> int:\n",
    "        m, n = len(matrix), len(matrix[0])\n",
    "\n",
    "        def num2rank(num):  # num对应排名 即<=num的个数\n",
    "            ans = 0\n",
    "            for i in range(m):\n",
    "                r = bisect_right(matrix[i], num) - 1\n",
    "                if r < 0: break\n",
    "                ans += r + 1\n",
    "            return ans\n",
    "\n",
    "        # 找到某个数 其rank >= k 的最小数\n",
    "        return bisect_left(range(matrix[0][0], matrix[-1][-1]), k, key=num2rank) + matrix[0][0]\n"
   ]
  },
  {
   "cell_type": "code",
   "execution_count": null,
   "metadata": {},
   "outputs": [],
   "source": [
    "# lc378. 有序矩阵中第 K 小的元素\n",
    "class Solution:\n",
    "\n",
    "    def kthSmallest(self, matrix: List[List[int]], k: int) -> int:\n",
    "        n = len(matrix)\n",
    "\n",
    "        def num2cnt(num):  # <=num个数\n",
    "            i, j = 0, n - 1\n",
    "            # 指针从第一行最右边开始比较\n",
    "            # 如果num大于其值就以为大于其左边所有 指针下移\n",
    "            # 如果小于则 指针左移\n",
    "            cnt = 0\n",
    "            while i <= n - 1 and j >= 0:\n",
    "                if num >= matrix[i][j]:\n",
    "                    cnt += j + 1\n",
    "                    i += 1\n",
    "                else:\n",
    "                    j -= 1\n",
    "            return cnt\n",
    "\n",
    "        l, r = matrix[0][0], matrix[-1][-1]\n",
    "        while l <= r:\n",
    "            m = l + r >> 1\n",
    "            if num2cnt(m) >= k:\n",
    "                r = m - 1\n",
    "            else:\n",
    "                l = m + 1\n",
    "        return l"
   ]
  }
 ],
 "metadata": {
  "kernelspec": {
   "display_name": "Python 3",
   "language": "python",
   "name": "python3"
  },
  "language_info": {
   "codemirror_mode": {
    "name": "ipython",
    "version": 3
   },
   "file_extension": ".py",
   "mimetype": "text/x-python",
   "name": "python",
   "nbconvert_exporter": "python",
   "pygments_lexer": "ipython3",
   "version": "3.10.5"
  },
  "orig_nbformat": 4,
  "vscode": {
   "interpreter": {
    "hash": "3196968d684371006099b3d55edeef8ed90365227a30deaef86e5d4aa8519be0"
   }
  }
 },
 "nbformat": 4,
 "nbformat_minor": 2
}
