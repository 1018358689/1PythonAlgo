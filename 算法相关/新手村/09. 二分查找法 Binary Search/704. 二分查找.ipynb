{
 "cells": [
  {
   "cell_type": "code",
   "execution_count": null,
   "metadata": {},
   "outputs": [],
   "source": [
    "def f(nums: list, target: int):\n",
    "    l, r = 0, len(nums) - 1\n",
    "    while l <= r:\n",
    "        m = (l + r) // 2\n",
    "        if nums[m] >= target:\n",
    "            r = m - 1\n",
    "        else:\n",
    "            l = m + 1\n",
    "    if l == len(nums) or nums[l] != target:\n",
    "        return -1\n",
    "    return l"
   ]
  }
 ],
 "metadata": {
  "language_info": {
   "name": "python"
  },
  "orig_nbformat": 4
 },
 "nbformat": 4,
 "nbformat_minor": 2
}
