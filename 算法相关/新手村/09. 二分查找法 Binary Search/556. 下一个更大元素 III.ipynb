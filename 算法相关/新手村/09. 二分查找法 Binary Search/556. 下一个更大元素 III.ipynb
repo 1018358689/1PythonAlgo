{
 "cells": [
  {
   "cell_type": "code",
   "execution_count": 5,
   "metadata": {},
   "outputs": [
    {
     "name": "stdout",
     "output_type": "stream",
     "text": [
      "7\n"
     ]
    },
    {
     "data": {
      "text/plain": [
       "2147483647"
      ]
     },
     "execution_count": 5,
     "metadata": {},
     "output_type": "execute_result"
    }
   ],
   "source": [
    "class Solution:\n",
    "\n",
    "    def search(self, nums, left, right, target):  # 递减序列[left,right] 找>target\n",
    "        l, r = left, right\n",
    "        while l <= r:\n",
    "            m = l + r >> 1\n",
    "            if nums[m] > target:\n",
    "                l = m + 1\n",
    "            else:\n",
    "                r = m - 1\n",
    "        return r if r >= left else -1\n",
    "\n",
    "    def nextGreaterElement(self, n: int) -> int:\n",
    "        n = list(map(int, str(n)))  # [1,2,4,3,2,1]\n",
    "        lgh = len(n)\n",
    "        i = lgh - 2\n",
    "        # 1.逆序找第一个开始减小的数字索引\n",
    "        while i >= 0 and n[i] >= n[i + 1]:\n",
    "            i -= 1\n",
    "        if i == -1:\n",
    "            return -1\n",
    "        else:\n",
    "            # 2.交换右边递减序列中稍大于它的数字\n",
    "            change = self.search(n, i + 1, lgh - 1, n[i])\n",
    "            n[i], n[change] = n[change], n[i]\n",
    "            l, r = i + 1, lgh - 1\n",
    "            # 3.右边递减变递增\n",
    "            while l < r:\n",
    "                n[l], n[r] = n[r], n[l]\n",
    "                l += 1\n",
    "                r -= 1\n",
    "            ans = int(''.join(map(str, n)))\n",
    "            return ans if ans < 2**31 else -1\n",
    "\n",
    "\n",
    "s = Solution()\n",
    "s.nextGreaterElement(2147483476)"
   ]
  },
  {
   "cell_type": "code",
   "execution_count": null,
   "metadata": {},
   "outputs": [],
   "source": []
  }
 ],
 "metadata": {
  "kernelspec": {
   "display_name": "Python 3.10.1 64-bit",
   "language": "python",
   "name": "python3"
  },
  "language_info": {
   "codemirror_mode": {
    "name": "ipython",
    "version": 3
   },
   "file_extension": ".py",
   "mimetype": "text/x-python",
   "name": "python",
   "nbconvert_exporter": "python",
   "pygments_lexer": "ipython3",
   "version": "3.10.1"
  },
  "orig_nbformat": 4,
  "vscode": {
   "interpreter": {
    "hash": "aee8b7b246df8f9039afb4144a1f6fd8d2ca17a180786b69acc140d282b71a49"
   }
  }
 },
 "nbformat": 4,
 "nbformat_minor": 2
}
