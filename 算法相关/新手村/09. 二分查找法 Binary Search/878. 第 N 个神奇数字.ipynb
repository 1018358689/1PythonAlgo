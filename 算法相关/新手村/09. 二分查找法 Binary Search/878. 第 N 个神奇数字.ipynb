{
 "cells": [
  {
   "cell_type": "code",
   "execution_count": null,
   "metadata": {},
   "outputs": [],
   "source": [
    "from math import lcm\n",
    "\n",
    "\n",
    "class Solution:\n",
    "\n",
    "    def nthMagicalNumber(self, n: int, a: int, b: int) -> int:\n",
    "        LCM = lcm(a, b)\n",
    "\n",
    "        def x2n(x: int):  # x前有几个神奇数字 递增函数\n",
    "            return x // a + x // b - x // LCM\n",
    "\n",
    "        l, r = 1, min(a, b) * n\n",
    "        while l <= r:\n",
    "            m = l + r >> 1\n",
    "            if x2n(m) >= n:\n",
    "                r = m - 1\n",
    "            else:\n",
    "                l = m + 1\n",
    "        return l % (10**9 + 7)\n"
   ]
  }
 ],
 "metadata": {
  "language_info": {
   "name": "python"
  },
  "orig_nbformat": 4
 },
 "nbformat": 4,
 "nbformat_minor": 2
}
