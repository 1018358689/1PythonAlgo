{
 "cells": [
  {
   "cell_type": "code",
   "execution_count": null,
   "metadata": {},
   "outputs": [],
   "source": [
    "# 1 3 2\n",
    "# r l\n",
    "# ! @ @ 1满足nums[m] < nums[m + 1] 而3不满足 因此1 3为分割处\n",
    "def f(nums: list):\n",
    "    nums = [float('-inf')] + nums + [float('-inf')]\n",
    "    l, r = 0, len(nums) - 1\n",
    "    while l <= r:\n",
    "        m = (l + r) >> 1\n",
    "        if nums[m] < nums[m + 1]:\n",
    "            l = m + 1\n",
    "        else:\n",
    "            r = m - 1\n",
    "    return l - 1  # 因为nums左边加了inf 索引+1了 所以减回来\n"
   ]
  }
 ],
 "metadata": {
  "language_info": {
   "name": "python"
  },
  "orig_nbformat": 4
 },
 "nbformat": 4,
 "nbformat_minor": 2
}
