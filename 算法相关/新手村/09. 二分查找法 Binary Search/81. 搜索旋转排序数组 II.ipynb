{
 "cells": [
  {
   "cell_type": "code",
   "execution_count": 9,
   "metadata": {},
   "outputs": [
    {
     "name": "stdout",
     "output_type": "stream",
     "text": [
      "0 1\n",
      "1 1\n"
     ]
    },
    {
     "data": {
      "text/plain": [
       "True"
      ]
     },
     "execution_count": 9,
     "metadata": {},
     "output_type": "execute_result"
    }
   ],
   "source": [
    "def f(nums: list, target: int):\n",
    "    l, r = 0, len(nums) - 1\n",
    "    while l < r and nums[r] == nums[0]:  # 保证两段性 一段>=nums[0] 一段<nums[0]\n",
    "        r -= 1\n",
    "    right = r\n",
    "    while l <= r:\n",
    "        m = (l + r) >> 1\n",
    "        if nums[m] >= nums[0]:\n",
    "            l = m + 1\n",
    "        else:\n",
    "            r = m - 1\n",
    "    # if l>len(nums)-1:\n",
    "    #     l,r = 0,len(nums)-1\n",
    "    if nums[0] <= target <= nums[r]:\n",
    "        l = 0\n",
    "    else:\n",
    "        r = right\n",
    "    while l <= r:\n",
    "        m = (l + r) >> 1\n",
    "        if nums[m] == target:\n",
    "            return True\n",
    "        elif nums[m] > target:\n",
    "            r = m - 1\n",
    "        else:\n",
    "            l = m + 1\n",
    "    return False\n",
    "\n",
    "\n",
    "# f([2, 5, 6, 0, 0, 1, 2], 0), f([2, 5, 6, 0, 0, 1, 2], 3)\n",
    "f([1, 0, 1, 1, 1], 0)\n"
   ]
  },
  {
   "cell_type": "code",
   "execution_count": 12,
   "metadata": {},
   "outputs": [
    {
     "data": {
      "text/plain": [
       "True"
      ]
     },
     "execution_count": 12,
     "metadata": {},
     "output_type": "execute_result"
    }
   ],
   "source": [
    "def f(nums: list, target: int):\n",
    "    l, r = 0, len(nums) - 1\n",
    "    while l < r and nums[r] == nums[0]:  # 保证两段性 一段>=nums[0] 一段<nums[0]\n",
    "        r -= 1\n",
    "    right = r\n",
    "    while l <= r:\n",
    "        m = (l + r) >> 1\n",
    "        if nums[m] == target:\n",
    "            return True\n",
    "        if nums[m] >= nums[0]:\n",
    "            if nums[0] <= target < nums[m]:\n",
    "                r = m - 1\n",
    "            else:\n",
    "                l = m + 1\n",
    "        else:\n",
    "            if nums[m] < target <= nums[right]:\n",
    "                l = m + 1\n",
    "            else:\n",
    "                r = m - 1\n",
    "    return False\n",
    "\n",
    "\n",
    "# f([2, 5, 6, 0, 0, 1, 2], 0), f([2, 5, 6, 0, 0, 1, 2], 3)\n",
    "f([1, 0, 1, 1, 1], 0)\n"
   ]
  },
  {
   "cell_type": "code",
   "execution_count": null,
   "metadata": {},
   "outputs": [],
   "source": []
  }
 ],
 "metadata": {
  "interpreter": {
   "hash": "aee8b7b246df8f9039afb4144a1f6fd8d2ca17a180786b69acc140d282b71a49"
  },
  "kernelspec": {
   "display_name": "Python 3.10.1 64-bit",
   "language": "python",
   "name": "python3"
  },
  "language_info": {
   "codemirror_mode": {
    "name": "ipython",
    "version": 3
   },
   "file_extension": ".py",
   "mimetype": "text/x-python",
   "name": "python",
   "nbconvert_exporter": "python",
   "pygments_lexer": "ipython3",
   "version": "3.10.1"
  },
  "orig_nbformat": 4
 },
 "nbformat": 4,
 "nbformat_minor": 2
}
