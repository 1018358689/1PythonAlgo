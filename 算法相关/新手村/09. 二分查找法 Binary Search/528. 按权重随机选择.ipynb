{
 "cells": [
  {
   "cell_type": "code",
   "execution_count": null,
   "metadata": {},
   "outputs": [],
   "source": [
    "from typing import List\n",
    "from random import randint\n",
    "# 得画图\n",
    "# 0 1 2 3 index\n",
    "# 2 3 4   w\n",
    "# 0 2 5 9 preSum\n",
    "# [1,2]->2 [3,4,5]->5 [6,7,8,9]->9\n",
    "class Solution:\n",
    "\n",
    "    def __init__(self, w: List[int]):\n",
    "        self.preSum = [0] * (len(w) + 1)\n",
    "        for i in range(len(w)):\n",
    "            self.preSum[i + 1] = self.preSum[i] + w[i]\n",
    "\n",
    "    def pickIndex(self) -> int:\n",
    "        target = randint(1, self.preSum[-1])\n",
    "        l, r = 0, len(self.preSum) - 1\n",
    "        while l <= r:\n",
    "            m = (l + r) >> 1\n",
    "            if self.preSum[m] >= target:\n",
    "                r = m - 1\n",
    "            else:\n",
    "                l = m + 1\n",
    "        return l - 1\n",
    "\n",
    "\n",
    "# Your Solution object will be instantiated and called as such:\n",
    "# obj = Solution(w)\n",
    "# param_1 = obj.pickIndex()"
   ]
  }
 ],
 "metadata": {
  "language_info": {
   "name": "python"
  },
  "orig_nbformat": 4
 },
 "nbformat": 4,
 "nbformat_minor": 2
}
