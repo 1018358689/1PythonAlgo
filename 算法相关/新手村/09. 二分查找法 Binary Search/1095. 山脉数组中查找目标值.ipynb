{
 "cells": [
  {
   "cell_type": "code",
   "execution_count": null,
   "metadata": {},
   "outputs": [],
   "source": [
    "# \"\"\"\n",
    "# This is MountainArray's API interface.\n",
    "# You should not implement it, or speculate about its implementation\n",
    "# \"\"\"\n",
    "#class MountainArray:\n",
    "#    def get(self, index: int) -> int:\n",
    "#    def length(self) -> int:\n",
    "\n",
    "\n",
    "class Solution:\n",
    "\n",
    "    def findInMountainArray(self, target: int, mountain_arr: 'MountainArray') -> int:\n",
    "        n = mountain_arr.length()\n",
    "        l, r = 0, n - 1\n",
    "        while l <= r:\n",
    "            m = l + r >> 1\n",
    "            if mountain_arr.get(m) < mountain_arr.get(m + 1):\n",
    "                l = m + 1\n",
    "            else:\n",
    "                r = m - 1\n",
    "        top = r + 1\n",
    "        l, r = 0, top\n",
    "        while l <= r:\n",
    "            m = l + r >> 1\n",
    "            if (num := mountain_arr.get(m)) == target:\n",
    "                return m\n",
    "            elif num > target:\n",
    "                r = m - 1\n",
    "            else:\n",
    "                l = m + 1\n",
    "        l, r = top + 1, n - 1\n",
    "        while l <= r:\n",
    "            m = l + r >> 1\n",
    "            if (num := mountain_arr.get(m)) == target:\n",
    "                return m\n",
    "            elif num > target:\n",
    "                l = m + 1\n",
    "            else:\n",
    "                r = m - 1\n",
    "        return -1"
   ]
  }
 ],
 "metadata": {
  "language_info": {
   "name": "python"
  },
  "orig_nbformat": 4
 },
 "nbformat": 4,
 "nbformat_minor": 2
}
