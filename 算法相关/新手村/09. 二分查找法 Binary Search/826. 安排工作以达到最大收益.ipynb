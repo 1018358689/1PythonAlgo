{
 "cells": [
  {
   "cell_type": "code",
   "execution_count": 12,
   "metadata": {},
   "outputs": [
    {
     "data": {
      "text/plain": [
       "100"
      ]
     },
     "execution_count": 12,
     "metadata": {},
     "output_type": "execute_result"
    }
   ],
   "source": [
    "def f(difficulty: list, profit: list, worker: list):\n",
    "    diff2pro = sorted(zip(difficulty, profit))\n",
    "    maxpro = 0\n",
    "    for i, (d, p) in enumerate(diff2pro):\n",
    "        if p > maxpro:\n",
    "            maxpro = p\n",
    "        diff2pro[i] = (d, maxpro)\n",
    "    ans = 0\n",
    "\n",
    "    def search(nums, target):\n",
    "        l, r = 0, len(nums) - 1\n",
    "        while l <= r:\n",
    "            m = (l + r) >> 1\n",
    "            if nums[m][0] <= target:\n",
    "                l = m + 1\n",
    "            else:\n",
    "                r = m - 1\n",
    "        return r if r >= 0 else -1\n",
    "\n",
    "    for n in worker:\n",
    "        d = search(diff2pro, n)\n",
    "        if d != -1:\n",
    "            ans += diff2pro[d][1]\n",
    "    return ans"
   ]
  }
 ],
 "metadata": {
  "interpreter": {
   "hash": "aee8b7b246df8f9039afb4144a1f6fd8d2ca17a180786b69acc140d282b71a49"
  },
  "kernelspec": {
   "display_name": "Python 3.10.1 64-bit",
   "language": "python",
   "name": "python3"
  },
  "language_info": {
   "codemirror_mode": {
    "name": "ipython",
    "version": 3
   },
   "file_extension": ".py",
   "mimetype": "text/x-python",
   "name": "python",
   "nbconvert_exporter": "python",
   "pygments_lexer": "ipython3",
   "version": "3.10.1"
  },
  "orig_nbformat": 4
 },
 "nbformat": 4,
 "nbformat_minor": 2
}
