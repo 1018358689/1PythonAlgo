{
 "cells": [
  {
   "cell_type": "code",
   "execution_count": 1,
   "metadata": {},
   "outputs": [],
   "source": [
    "from collections import defaultdict\n",
    "\n",
    "\n",
    "class TimeMap:\n",
    "\n",
    "    def __init__(self):\n",
    "        self.ha = defaultdict(list)\n",
    "\n",
    "    def set(self, key: str, value: str, timestamp: int) -> None:\n",
    "        self.ha[key].append((value, timestamp))\n",
    "\n",
    "    def get(self, key: str, timestamp: int) -> str:\n",
    "        if key not in self.ha:\n",
    "            return ''\n",
    "        # haKey = sorted(self.ha[key], key=lambda x: x[1])\n",
    "        haKey = self.ha[key]\n",
    "        l, r = 0, len(haKey) - 1\n",
    "        while l <= r:\n",
    "            m = (l + r) >> 1\n",
    "            if haKey[m][1] <= timestamp:\n",
    "                l = m + 1\n",
    "            else:\n",
    "                r = m - 1\n",
    "        if r >= 0:\n",
    "            return haKey[r][0]\n",
    "        return ''\n",
    "\n",
    "\n",
    "# Your TimeMap object will be instantiated and called as such:\n",
    "# obj = TimeMap()\n",
    "# obj.set(key,value,timestamp)\n",
    "# param_2 = obj.get(key,timestamp)"
   ]
  },
  {
   "cell_type": "code",
   "execution_count": null,
   "metadata": {},
   "outputs": [],
   "source": [
    "from collections import defaultdict\n",
    "import bisect\n",
    "\n",
    "\n",
    "class TimeMap:\n",
    "\n",
    "    def __init__(self):\n",
    "        self.ha = defaultdict(list)\n",
    "\n",
    "    def set(self, key: str, value: str, timestamp: int) -> None:\n",
    "        self.ha[key].append((value, timestamp))\n",
    "\n",
    "    def get(self, key: str, timestamp: int) -> str:\n",
    "        idx = bisect.bisect_right(self.ha[key], timestamp, key=lambda x: x[1])\n",
    "        return '' if idx == 0 else self.ha[key][idx - 1][0]\n",
    "\n",
    "\n",
    "# Your TimeMap object will be instantiated and called as such:\n",
    "# obj = TimeMap()\n",
    "# obj.set(key,value,timestamp)\n",
    "# param_2 = obj.get(key,timestamp)"
   ]
  }
 ],
 "metadata": {
  "kernelspec": {
   "display_name": "Python 3.10.6 64-bit",
   "language": "python",
   "name": "python3"
  },
  "language_info": {
   "codemirror_mode": {
    "name": "ipython",
    "version": 3
   },
   "file_extension": ".py",
   "mimetype": "text/x-python",
   "name": "python",
   "nbconvert_exporter": "python",
   "pygments_lexer": "ipython3",
   "version": "3.10.6"
  },
  "orig_nbformat": 4,
  "vscode": {
   "interpreter": {
    "hash": "dfbf064e0f2c8839bc658dd75dfc0b8f09a0440078cae3024109b27659b69d06"
   }
  }
 },
 "nbformat": 4,
 "nbformat_minor": 2
}
