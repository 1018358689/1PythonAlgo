{
 "cells": [
  {
   "cell_type": "code",
   "execution_count": null,
   "metadata": {},
   "outputs": [],
   "source": [
    "from collections import defaultdict\n",
    "\n",
    "\n",
    "class TimeMap:\n",
    "\n",
    "    def __init__(self):\n",
    "        self.ha = defaultdict(list)\n",
    "\n",
    "    def set(self, key: str, value: str, timestamp: int) -> None:\n",
    "        self.ha[key].append((value, timestamp))\n",
    "\n",
    "    def get(self, key: str, timestamp: int) -> str:\n",
    "        if key not in self.ha:\n",
    "            return ''\n",
    "        # haKey = sorted(self.ha[key], key=lambda x: x[1])\n",
    "        haKey = self.ha[key]\n",
    "        l, r = 0, len(haKey) - 1\n",
    "        while l <= r:\n",
    "            m = (l + r) >> 1\n",
    "            if haKey[m][1] <= timestamp:\n",
    "                l = m + 1\n",
    "            else:\n",
    "                r = m - 1\n",
    "        if r >= 0:\n",
    "            return haKey[r][0]\n",
    "        return ''\n",
    "\n",
    "\n",
    "# Your TimeMap object will be instantiated and called as such:\n",
    "# obj = TimeMap()\n",
    "# obj.set(key,value,timestamp)\n",
    "# param_2 = obj.get(key,timestamp)"
   ]
  }
 ],
 "metadata": {
  "language_info": {
   "name": "python"
  },
  "orig_nbformat": 4
 },
 "nbformat": 4,
 "nbformat_minor": 2
}
