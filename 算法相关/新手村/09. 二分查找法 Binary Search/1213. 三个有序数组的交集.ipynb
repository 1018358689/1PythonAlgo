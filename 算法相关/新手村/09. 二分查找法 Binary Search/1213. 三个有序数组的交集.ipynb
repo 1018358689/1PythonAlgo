{
 "cells": [
  {
   "cell_type": "code",
   "execution_count": null,
   "metadata": {},
   "outputs": [],
   "source": [
    "from typing import List\n",
    "\n",
    "\n",
    "class Solution:\n",
    "\n",
    "    def arraysIntersection(self, arr1: List[int], arr2: List[int], arr3: List[int]) -> List[int]:\n",
    "\n",
    "        def search(nums, target):\n",
    "            l, r = 0, len(nums) - 1\n",
    "            while l <= r:\n",
    "                m = l + r >> 1\n",
    "                num = nums[m]\n",
    "                if num > target:\n",
    "                    r = m - 1\n",
    "                elif num < target:\n",
    "                    l = m + 1\n",
    "                else:\n",
    "                    return True\n",
    "            return False\n",
    "\n",
    "        return [n for n in arr1 if search(arr2, n) and search(arr3, n)]"
   ]
  },
  {
   "cell_type": "code",
   "execution_count": null,
   "metadata": {},
   "outputs": [],
   "source": [
    "from typing import List\n",
    "\n",
    "\n",
    "class Solution:\n",
    "\n",
    "    def arraysIntersection(self, arr1: List[int], arr2: List[int], arr3: List[int]) -> List[int]:\n",
    "        n1, n2, n3 = len(arr1), len(arr2), len(arr3)\n",
    "        p1 = p2 = p3 = 0\n",
    "        ans = []\n",
    "        while p1 < n1 and p2 < n2 and p3 < n3:\n",
    "            num1, num2, num3 = arr1[p1], arr2[p2], arr3[p3]\n",
    "            if num1 == num2 == num3:\n",
    "                ans.append(num1)\n",
    "                p1 += 1\n",
    "                p2 += 1\n",
    "                p3 += 1\n",
    "            else:\n",
    "                mx = max(num1, num2, num3)\n",
    "                if num1 < mx:\n",
    "                    p1 += 1\n",
    "                if num2 < mx:\n",
    "                    p2 += 1\n",
    "                if num3 < mx:\n",
    "                    p3 += 1\n",
    "        return ans"
   ]
  }
 ],
 "metadata": {
  "language_info": {
   "name": "python"
  },
  "orig_nbformat": 4
 },
 "nbformat": 4,
 "nbformat_minor": 2
}
