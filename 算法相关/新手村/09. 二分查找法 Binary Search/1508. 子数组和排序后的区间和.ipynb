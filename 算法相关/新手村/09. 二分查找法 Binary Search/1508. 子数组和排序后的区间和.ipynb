{
 "cells": [
  {
   "cell_type": "code",
   "execution_count": 13,
   "metadata": {},
   "outputs": [
    {
     "data": {
      "text/plain": [
       "50"
      ]
     },
     "execution_count": 13,
     "metadata": {},
     "output_type": "execute_result"
    }
   ],
   "source": [
    "def f(nums, n, left, right):\n",
    "    preSum = [0] * (n + 1)\n",
    "    for i in range(n):\n",
    "        preSum[i + 1] = preSum[i] + nums[i]\n",
    "    ans = []\n",
    "    for i in range(n):\n",
    "        for j in range(i + 1, n + 1):\n",
    "            ans.append(preSum[j] - preSum[i])\n",
    "\n",
    "    return sum(sorted(ans)[left - 1:right]) % (10**9 + 7)\n",
    "\n",
    "\n",
    "f([1, 2, 3, 4], 4, 1, 10)\n"
   ]
  },
  {
   "cell_type": "code",
   "execution_count": null,
   "metadata": {},
   "outputs": [],
   "source": []
  }
 ],
 "metadata": {
  "interpreter": {
   "hash": "a5f34674cfcc9b13426a2d112c686bc132e4ef443f1487e707e7c3787d6bcf89"
  },
  "kernelspec": {
   "display_name": "Python 3.10.4 64-bit (windows store)",
   "language": "python",
   "name": "python3"
  },
  "language_info": {
   "codemirror_mode": {
    "name": "ipython",
    "version": 3
   },
   "file_extension": ".py",
   "mimetype": "text/x-python",
   "name": "python",
   "nbconvert_exporter": "python",
   "pygments_lexer": "ipython3",
   "version": "3.10.4"
  },
  "orig_nbformat": 4
 },
 "nbformat": 4,
 "nbformat_minor": 2
}
