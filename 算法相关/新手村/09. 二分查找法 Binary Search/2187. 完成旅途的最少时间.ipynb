{
 "cells": [
  {
   "cell_type": "code",
   "execution_count": null,
   "metadata": {},
   "outputs": [],
   "source": [
    "class Solution:\n",
    "\n",
    "    def minimumTime(self, time: List[int], totalTrips: int) -> int:\n",
    "\n",
    "        def f(t):  # t时间能否完成多少趟旅途   t越大完成越多\n",
    "            return sum(t // x for x in time)\n",
    "\n",
    "        return bisect_left(range(min(time) * totalTrips), totalTrips, key=f)\n"
   ]
  }
 ],
 "metadata": {
  "language_info": {
   "name": "python"
  },
  "orig_nbformat": 4
 },
 "nbformat": 4,
 "nbformat_minor": 2
}
