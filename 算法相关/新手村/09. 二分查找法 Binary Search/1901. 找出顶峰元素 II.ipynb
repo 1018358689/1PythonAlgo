{
 "cells": [
  {
   "cell_type": "code",
   "execution_count": null,
   "metadata": {},
   "outputs": [],
   "source": [
    "# https://leetcode.cn/problems/find-a-peak-element-ii/solutions/1440266/by-1018358689-lw8x/?languageTags=python%2Cpython3"
   ]
  },
  {
   "cell_type": "code",
   "execution_count": 2,
   "metadata": {},
   "outputs": [],
   "source": [
    "from typing import List\n",
    "\n",
    "\n",
    "class Solution:\n",
    "\n",
    "    def findPeakGrid(self, mat: List[List[int]]) -> List[int]:\n",
    "        rows = len(mat)\n",
    "        l, r = 0, rows - 1\n",
    "        while l <= r:  # 二分行\n",
    "            m = l + r >> 1\n",
    "            rmax = max(mat[m])  # 该行最大值\n",
    "            rmax_idx = mat[m].index(rmax)  # 对应索引\n",
    "            if m + 1 < rows and mat[m + 1][rmax_idx] > rmax:  # 下面有更大的 往下\n",
    "                l = m + 1\n",
    "            elif m >= 1 and mat[m - 1][rmax_idx] > rmax:  # 上面有更大的 网上\n",
    "                r = m - 1\n",
    "            else:\n",
    "                return [m, rmax_idx]\n"
   ]
  },
  {
   "cell_type": "code",
   "execution_count": null,
   "metadata": {},
   "outputs": [],
   "source": [
    "ans = []\n",
    "for i in range(10):\n",
    "    ans.append(i)\n",
    "ans"
   ]
  }
 ],
 "metadata": {
  "kernelspec": {
   "display_name": "Python 3",
   "language": "python",
   "name": "python3"
  },
  "language_info": {
   "codemirror_mode": {
    "name": "ipython",
    "version": 3
   },
   "file_extension": ".py",
   "mimetype": "text/x-python",
   "name": "python",
   "nbconvert_exporter": "python",
   "pygments_lexer": "ipython3",
   "version": "3.10.6 (main, Nov 14 2022, 16:10:14) [GCC 11.3.0]"
  },
  "orig_nbformat": 4,
  "vscode": {
   "interpreter": {
    "hash": "916dbcbb3f70747c44a77c7bcd40155683ae19c65e1c03b4aa3499c5328201f1"
   }
  }
 },
 "nbformat": 4,
 "nbformat_minor": 2
}
