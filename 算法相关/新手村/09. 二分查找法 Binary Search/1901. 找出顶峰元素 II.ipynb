{
 "cells": [
  {
   "cell_type": "code",
   "execution_count": 2,
   "metadata": {},
   "outputs": [
    {
     "data": {
      "text/plain": [
       "([0, 1], [1, 1])"
      ]
     },
     "execution_count": 2,
     "metadata": {},
     "output_type": "execute_result"
    }
   ],
   "source": [
    "def f(mat: list):\n",
    "    l, r = 0, len(mat) - 1 # 行\n",
    "    while l <= r:\n",
    "        m = (l + r) >> 1\n",
    "        localMax = max(mat[m]) # 改行最大值\n",
    "        localCol = mat[m].index(localMax) # 对应索引\n",
    "        if m + 1 < len(mat) and mat[m + 1][localCol] > localMax: # 下面更大 则说明下方存在极大值\n",
    "            l = m + 1\n",
    "        elif m - 1 >= 0 and mat[m - 1][localCol] > localMax: # 上面更大 则说明上方存在极大值\n",
    "            r = m - 1\n",
    "        else: # 本身更大 他就是极大值\n",
    "            return [m, localCol]\n",
    "\n",
    "\n",
    "f([[1, 4], [3, 2]]), f([[10, 20, 15], [21, 30, 14], [7, 16, 32]])\n"
   ]
  },
  {
   "cell_type": "code",
   "execution_count": null,
   "metadata": {},
   "outputs": [],
   "source": [
    "l = [1,2,3]\n",
    "l.index()"
   ]
  }
 ],
 "metadata": {
  "interpreter": {
   "hash": "a5f34674cfcc9b13426a2d112c686bc132e4ef443f1487e707e7c3787d6bcf89"
  },
  "kernelspec": {
   "display_name": "Python 3.10.4 64-bit (windows store)",
   "language": "python",
   "name": "python3"
  },
  "language_info": {
   "codemirror_mode": {
    "name": "ipython",
    "version": 3
   },
   "file_extension": ".py",
   "mimetype": "text/x-python",
   "name": "python",
   "nbconvert_exporter": "python",
   "pygments_lexer": "ipython3",
   "version": "3.10.4"
  },
  "orig_nbformat": 4
 },
 "nbformat": 4,
 "nbformat_minor": 2
}
