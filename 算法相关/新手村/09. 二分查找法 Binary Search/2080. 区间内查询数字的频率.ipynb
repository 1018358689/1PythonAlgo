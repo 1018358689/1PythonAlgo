{
 "cells": [
  {
   "cell_type": "code",
   "execution_count": 1,
   "metadata": {},
   "outputs": [
    {
     "name": "stdout",
     "output_type": "stream",
     "text": [
      "1\n"
     ]
    }
   ],
   "source": [
    "# 前缀哈希表 超时\n",
    "from typing import List\n",
    "from collections import Counter\n",
    "from copy import deepcopy\n",
    "\n",
    "\n",
    "class RangeFreqQuery:\n",
    "\n",
    "    def __init__(self, arr: List[int]):\n",
    "        self.d = {0: Counter()}\n",
    "        cnt = Counter()\n",
    "        for i in range(len(arr)):\n",
    "            cnt[arr[i]] += 1\n",
    "            tmp = deepcopy(cnt)\n",
    "            self.d[i + 1] = tmp\n",
    "\n",
    "    def query(self, left: int, right: int, value: int) -> int:\n",
    "        return (self.d[right + 1] - self.d[left])[value]\n",
    "\n",
    "\n",
    "# Your RangeFreqQuery object will be instantiated and called as such:\n",
    "obj = RangeFreqQuery([12, 33, 4, 56, 22, 2, 34, 33, 22, 12, 34, 56])\n",
    "print(obj.query(1, 2, 4))"
   ]
  },
  {
   "cell_type": "code",
   "execution_count": 7,
   "metadata": {},
   "outputs": [
    {
     "name": "stdout",
     "output_type": "stream",
     "text": [
      "1\n"
     ]
    }
   ],
   "source": [
    "from collections import defaultdict\n",
    "\n",
    "\n",
    "class RangeFreqQuery:\n",
    "\n",
    "    def __init__(self, arr: List[int]):\n",
    "        self.num2pos = defaultdict(list)\n",
    "        for i, n in enumerate(arr):\n",
    "            self.num2pos[n].append(i)\n",
    "\n",
    "    def searchLeft(self, nums, target):\n",
    "        l, r = 0, len(nums) - 1\n",
    "        while l <= r:\n",
    "            m = l + r >> 1\n",
    "            if nums[m] >= target:\n",
    "                r = m - 1\n",
    "            else:\n",
    "                l = m + 1\n",
    "        return l if l < len(nums) else -1\n",
    "\n",
    "    def searchRight(self, nums, target):\n",
    "        l, r = 0, len(nums) - 1\n",
    "        while l <= r:\n",
    "            m = l + r >> 1\n",
    "            if nums[m] <= target:\n",
    "                l = m + 1\n",
    "            else:\n",
    "                r = m - 1\n",
    "        return r if r >= 0 else -1\n",
    "\n",
    "    def query(self, left: int, right: int, value: int) -> int:\n",
    "        pos = self.num2pos[value]\n",
    "        return self.searchRight(pos, right) - l + 1 if (l := self.searchLeft(pos, left)) != -1 else 0\n",
    "\n",
    "\n",
    "# Your RangeFreqQuery object will be instantiated and called as such:\n",
    "# Your RangeFreqQuery object will be instantiated and called as such:\n",
    "obj = RangeFreqQuery([12, 33, 4, 56, 22, 2, 34, 33, 22, 12, 34, 56])\n",
    "print(obj.query(0, 1, 12))"
   ]
  },
  {
   "cell_type": "code",
   "execution_count": null,
   "metadata": {},
   "outputs": [],
   "source": []
  }
 ],
 "metadata": {
  "interpreter": {
   "hash": "aee8b7b246df8f9039afb4144a1f6fd8d2ca17a180786b69acc140d282b71a49"
  },
  "kernelspec": {
   "display_name": "Python 3.10.2 64-bit",
   "language": "python",
   "name": "python3"
  },
  "language_info": {
   "codemirror_mode": {
    "name": "ipython",
    "version": 3
   },
   "file_extension": ".py",
   "mimetype": "text/x-python",
   "name": "python",
   "nbconvert_exporter": "python",
   "pygments_lexer": "ipython3",
   "version": "3.10.2"
  },
  "orig_nbformat": 4
 },
 "nbformat": 4,
 "nbformat_minor": 2
}
