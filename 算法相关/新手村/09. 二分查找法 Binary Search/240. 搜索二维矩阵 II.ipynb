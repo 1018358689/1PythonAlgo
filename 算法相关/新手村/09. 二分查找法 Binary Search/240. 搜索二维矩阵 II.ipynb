{
 "cells": [
  {
   "cell_type": "code",
   "execution_count": 1,
   "metadata": {},
   "outputs": [],
   "source": [
    "def f(matrix: list, target: int):\n",
    "    rows, cols = len(matrix), len(matrix[0])\n",
    "    end = cols - 1\n",
    "    for row in range(rows):\n",
    "        l, r = 0, end\n",
    "        while l <= r:\n",
    "            m = (l + r) >> 1\n",
    "            if matrix[row][m] >= target:\n",
    "                r = m - 1\n",
    "            else:\n",
    "                l = m + 1\n",
    "        if l <= end and matrix[row][l] == target:\n",
    "            return True\n",
    "        end = l - 1\n",
    "        if end < 0:\n",
    "            return False"
   ]
  }
 ],
 "metadata": {
  "interpreter": {
   "hash": "aee8b7b246df8f9039afb4144a1f6fd8d2ca17a180786b69acc140d282b71a49"
  },
  "kernelspec": {
   "display_name": "Python 3.10.1 64-bit",
   "language": "python",
   "name": "python3"
  },
  "language_info": {
   "codemirror_mode": {
    "name": "ipython",
    "version": 3
   },
   "file_extension": ".py",
   "mimetype": "text/x-python",
   "name": "python",
   "nbconvert_exporter": "python",
   "pygments_lexer": "ipython3",
   "version": "3.10.1"
  },
  "orig_nbformat": 4
 },
 "nbformat": 4,
 "nbformat_minor": 2
}
