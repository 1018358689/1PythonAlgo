{
 "cells": [
  {
   "cell_type": "code",
   "execution_count": null,
   "metadata": {},
   "outputs": [],
   "source": [
    "class Solution:\n",
    "\n",
    "    def minimizeMax(self, nums: List[int], p: int) -> int:\n",
    "        nums.sort()\n",
    "        n = len(nums)\n",
    "\n",
    "        def mx2cnt(mx):  # 最大差值 对应 的对数 最大差值越大对应对数越多\n",
    "            # 贪心优先选连续前两个\n",
    "            cnt = 0  # 对数\n",
    "            p = 0\n",
    "            while p < n - 1:\n",
    "                if nums[p + 1] - nums[p] <= mx:\n",
    "                    cnt += 1\n",
    "                    p += 2\n",
    "                else:\n",
    "                    p += 1\n",
    "            return cnt\n",
    "\n",
    "        return bisect_left(range(nums[-1] - nums[0]), p, key=mx2cnt)\n"
   ]
  }
 ],
 "metadata": {
  "language_info": {
   "name": "python"
  },
  "orig_nbformat": 4
 },
 "nbformat": 4,
 "nbformat_minor": 2
}
