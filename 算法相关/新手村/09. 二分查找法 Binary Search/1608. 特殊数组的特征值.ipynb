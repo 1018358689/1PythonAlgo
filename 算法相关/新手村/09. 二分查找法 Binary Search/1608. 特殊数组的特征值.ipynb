{
 "cells": [
  {
   "cell_type": "code",
   "execution_count": 2,
   "metadata": {},
   "outputs": [
    {
     "data": {
      "text/plain": [
       "4"
      ]
     },
     "execution_count": 2,
     "metadata": {},
     "output_type": "execute_result"
    }
   ],
   "source": [
    "from typing import List\n",
    "\n",
    "\n",
    "class Solution:\n",
    "\n",
    "    def specialArray(self, nums: List[int]) -> int:\n",
    "\n",
    "        def search(nums, target):  # >=target的索引\n",
    "            l, r = 0, len(nums) - 1\n",
    "            while l <= r:\n",
    "                m = l + r >> 1\n",
    "                if nums[m] >= target:\n",
    "                    r = m - 1\n",
    "                else:\n",
    "                    l = m + 1\n",
    "            return l if l < len(nums) else -1\n",
    "\n",
    "        nums.sort()\n",
    "        for n in range(1, len(nums) + 1):\n",
    "            idx = search(nums, n)\n",
    "            if idx == -1:\n",
    "                return -1\n",
    "            if len(nums) - idx == n:\n",
    "                return n\n",
    "        return -1\n",
    "\n",
    "\n",
    "s = Solution()\n",
    "s.specialArray([1, 2, 3, 4, 4, 6, 7])\n"
   ]
  },
  {
   "cell_type": "code",
   "execution_count": 4,
   "metadata": {},
   "outputs": [
    {
     "data": {
      "text/plain": [
       "-1"
      ]
     },
     "execution_count": 4,
     "metadata": {},
     "output_type": "execute_result"
    }
   ],
   "source": [
    "# 0,2,3,4,4,6,7\n",
    "# 0,1,2,3,4,5,6\n",
    "# 7,6,6,5,4,2,2\n",
    "class Solution:\n",
    "\n",
    "    def specialArray(self, nums: List[int]) -> int:\n",
    "\n",
    "        def search(nums, target):  # >=target的索引\n",
    "            l, r = 0, len(nums) - 1\n",
    "            while l <= r:\n",
    "                m = l + r >> 1\n",
    "                if nums[m] >= target:\n",
    "                    r = m - 1\n",
    "                else:\n",
    "                    l = m + 1\n",
    "            return l if l < len(nums) else -1\n",
    "\n",
    "        nums.sort()\n",
    "        l, r = 0, len(nums) - 1\n",
    "        while l <= r:\n",
    "            m = l + r >> 1\n",
    "            if m - (len(nums) - search(nums, m)) >= 0:\n",
    "                r = m - 1\n",
    "            else:\n",
    "                l = m + 1\n",
    "        return l if l == len(nums) - search(nums, l) else -1\n",
    "\n",
    "\n",
    "s = Solution()\n",
    "s.specialArray([3, 6, 7, 7, 0])\n"
   ]
  },
  {
   "cell_type": "code",
   "execution_count": null,
   "metadata": {},
   "outputs": [],
   "source": [
    "# 0,0\n",
    "# 0,1\n",
    "# 2,0"
   ]
  }
 ],
 "metadata": {
  "kernelspec": {
   "display_name": "Python 3.10.5 64-bit",
   "language": "python",
   "name": "python3"
  },
  "language_info": {
   "codemirror_mode": {
    "name": "ipython",
    "version": 3
   },
   "file_extension": ".py",
   "mimetype": "text/x-python",
   "name": "python",
   "nbconvert_exporter": "python",
   "pygments_lexer": "ipython3",
   "version": "3.10.5"
  },
  "orig_nbformat": 4,
  "vscode": {
   "interpreter": {
    "hash": "3196968d684371006099b3d55edeef8ed90365227a30deaef86e5d4aa8519be0"
   }
  }
 },
 "nbformat": 4,
 "nbformat_minor": 2
}
