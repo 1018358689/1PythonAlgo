{
 "cells": [
  {
   "cell_type": "code",
   "execution_count": 3,
   "metadata": {},
   "outputs": [
    {
     "name": "stdout",
     "output_type": "stream",
     "text": [
      "8 1\n",
      "4 3\n",
      "6 2\n",
      "5 3\n"
     ]
    },
    {
     "data": {
      "text/plain": [
       "5"
      ]
     },
     "execution_count": 3,
     "metadata": {},
     "output_type": "execute_result"
    }
   ],
   "source": [
    "from typing import List\n",
    "\n",
    "\n",
    "class Solution:\n",
    "\n",
    "    def maximizeSweetness(self, sweetness: List[int], k: int) -> int:\n",
    "        # 最小值最大化\n",
    "        def minsweet2cnt(minsweet: int):  # 每份至少的甜度 及所等分的份数\n",
    "            # 递减 但不单调\n",
    "            s = cnt = 0\n",
    "            for c in sweetness:\n",
    "                s += c\n",
    "                if s >= minsweet:\n",
    "                    cnt += 1\n",
    "                    s = 0\n",
    "                # 最后多余的作为最后一组\n",
    "            return cnt\n",
    "\n",
    "        l, r = min(sweetness), sum(sweetness) // (k + 1)  # sum(sweetness)\n",
    "        while l <= r:\n",
    "            m = l + r >> 1\n",
    "            if minsweet2cnt(m) >= k + 1:\n",
    "                l = m + 1\n",
    "            else:\n",
    "                r = m - 1\n",
    "        return r\n",
    "\n",
    "\n",
    "s = Solution()\n",
    "s.maximizeSweetness([1, 2, 2, 1, 2, 2, 1, 2, 2], 2)\n"
   ]
  },
  {
   "cell_type": "code",
   "execution_count": null,
   "metadata": {},
   "outputs": [],
   "source": []
  }
 ],
 "metadata": {
  "kernelspec": {
   "display_name": "Python 3",
   "language": "python",
   "name": "python3"
  },
  "language_info": {
   "codemirror_mode": {
    "name": "ipython",
    "version": 3
   },
   "file_extension": ".py",
   "mimetype": "text/x-python",
   "name": "python",
   "nbconvert_exporter": "python",
   "pygments_lexer": "ipython3",
   "version": "3.10.5"
  },
  "orig_nbformat": 4,
  "vscode": {
   "interpreter": {
    "hash": "3196968d684371006099b3d55edeef8ed90365227a30deaef86e5d4aa8519be0"
   }
  }
 },
 "nbformat": 4,
 "nbformat_minor": 2
}
