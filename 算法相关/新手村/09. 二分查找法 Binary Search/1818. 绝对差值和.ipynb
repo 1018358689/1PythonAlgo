{
 "cells": [
  {
   "cell_type": "code",
   "execution_count": 15,
   "metadata": {},
   "outputs": [
    {
     "data": {
      "text/plain": [
       "3"
      ]
     },
     "execution_count": 15,
     "metadata": {},
     "output_type": "execute_result"
    }
   ],
   "source": [
    "def f(nums1: list, nums2: list):\n",
    "    Mod = 10**9 + 7\n",
    "    sortNum = sorted(nums1)\n",
    "\n",
    "    def theClosest(target: int): # nums1中最接近target的值\n",
    "        l, r = 0, len(sortNum) - 1\n",
    "        while l <= r:\n",
    "            m = (l + r) >> 1\n",
    "            if sortNum[m] >= target:\n",
    "                r = m - 1\n",
    "            else:\n",
    "                l = m + 1\n",
    "        leftMin = sortNum[r] if r >= 0 else float('inf')\n",
    "        rightMin = sortNum[l] if l < len(sortNum) else float('inf')\n",
    "        return min(leftMin, rightMin, key=lambda x: abs(x - target))\n",
    "\n",
    "    absoluteSum = sum(abs(nums1[i] - nums2[i]) for i in range(len(nums1)))\n",
    "    d = float('inf')\n",
    "    for i, n in enumerate(nums2):\n",
    "        dt = abs(theClosest(n) - n) - abs(nums1[i] - n)\n",
    "        d = min(d, dt)\n",
    "    return (absoluteSum + d) % Mod\n",
    "\n",
    "\n",
    "f([1, 7, 5], [2, 3, 5])\n",
    "# f([1, 10, 4, 4, 2, 7], [9, 3, 5, 1, 7, 4])\n"
   ]
  },
  {
   "cell_type": "code",
   "execution_count": null,
   "metadata": {},
   "outputs": [],
   "source": []
  }
 ],
 "metadata": {
  "interpreter": {
   "hash": "aee8b7b246df8f9039afb4144a1f6fd8d2ca17a180786b69acc140d282b71a49"
  },
  "kernelspec": {
   "display_name": "Python 3.10.1 64-bit",
   "language": "python",
   "name": "python3"
  },
  "language_info": {
   "codemirror_mode": {
    "name": "ipython",
    "version": 3
   },
   "file_extension": ".py",
   "mimetype": "text/x-python",
   "name": "python",
   "nbconvert_exporter": "python",
   "pygments_lexer": "ipython3",
   "version": "3.10.1"
  },
  "orig_nbformat": 4
 },
 "nbformat": 4,
 "nbformat_minor": 2
}
