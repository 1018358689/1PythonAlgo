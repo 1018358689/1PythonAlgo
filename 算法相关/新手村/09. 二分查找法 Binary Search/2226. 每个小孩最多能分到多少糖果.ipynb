{
 "cells": [
  {
   "cell_type": "code",
   "execution_count": null,
   "metadata": {},
   "outputs": [],
   "source": [
    "class Solution:\n",
    "\n",
    "    def maximumCandies(self, candies: List[int], k: int) -> int:\n",
    "        # s = sum(candies)\n",
    "        # if s < k: return 0\n",
    "        def f(m):  # 每个小孩m个糖 可以分几个小孩  递减\n",
    "            return sum(x // m for x in candies)\n",
    "\n",
    "        l, r = 1, max(candies)\n",
    "        while l <= r:\n",
    "            m = l + r >> 1\n",
    "            if f(m) >= k:\n",
    "                l = m + 1\n",
    "            else:\n",
    "                r = m - 1\n",
    "        return r"
   ]
  }
 ],
 "metadata": {
  "language_info": {
   "name": "python"
  },
  "orig_nbformat": 4
 },
 "nbformat": 4,
 "nbformat_minor": 2
}
