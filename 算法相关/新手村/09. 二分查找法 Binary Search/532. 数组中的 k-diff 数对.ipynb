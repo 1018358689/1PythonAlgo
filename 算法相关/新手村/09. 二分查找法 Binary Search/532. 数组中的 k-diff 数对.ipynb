{
 "cells": [
  {
   "cell_type": "code",
   "execution_count": 1,
   "metadata": {},
   "outputs": [
    {
     "data": {
      "text/plain": [
       "1"
      ]
     },
     "execution_count": 1,
     "metadata": {},
     "output_type": "execute_result"
    }
   ],
   "source": [
    "from typing import List\n",
    "\n",
    "\n",
    "class Solution:\n",
    "    def findPairs(self, nums: List[int], k: int) -> int:\n",
    "        def search(l, r, target):\n",
    "            right = r\n",
    "            while l <= r:\n",
    "                m = l + r >> 1\n",
    "                if nums[m] >= target:\n",
    "                    r = m - 1\n",
    "                else:\n",
    "                    l = m + 1\n",
    "            if l <= right and nums[l] == target:\n",
    "                return l\n",
    "            return None\n",
    "\n",
    "        nums.sort()\n",
    "        ha = set()\n",
    "        cnt = 0\n",
    "        for i, n in enumerate(nums):\n",
    "            if n in ha:\n",
    "                continue\n",
    "            ha.add(n)\n",
    "            target = n + k\n",
    "            tmp = search(i + 1, len(nums) - 1, target)\n",
    "            if tmp is None:\n",
    "                continue\n",
    "            cnt += 1\n",
    "        return cnt\n",
    "\n",
    "\n",
    "s = Solution()\n",
    "s.findPairs([3, 1, 4, 1, 5], 2)\n",
    "s.findPairs([1, 3, 1, 5, 4], 0)\n"
   ]
  },
  {
   "cell_type": "code",
   "execution_count": 2,
   "metadata": {},
   "outputs": [
    {
     "data": {
      "text/plain": [
       "1"
      ]
     },
     "execution_count": 2,
     "metadata": {},
     "output_type": "execute_result"
    }
   ],
   "source": [
    "from typing import List\n",
    "\n",
    "\n",
    "class Solution:\n",
    "    def findPairs(self, nums: List[int], k: int) -> int:\n",
    "        vis = set()\n",
    "        ans = set()\n",
    "        for n in nums:\n",
    "            if n - k in vis:\n",
    "                ans.add((n - k, n))\n",
    "            if n + k in vis:\n",
    "                ans.add((n, n + k))\n",
    "            vis.add(n)\n",
    "        return len(ans)\n",
    "\n",
    "\n",
    "s = Solution()\n",
    "s.findPairs([3, 1, 4, 1, 5], 2)\n",
    "s.findPairs([1, 3, 1, 5, 4], 0)\n"
   ]
  },
  {
   "cell_type": "code",
   "execution_count": null,
   "metadata": {},
   "outputs": [],
   "source": []
  }
 ],
 "metadata": {
  "kernelspec": {
   "display_name": "Python 3.8.10 64-bit",
   "language": "python",
   "name": "python3"
  },
  "language_info": {
   "codemirror_mode": {
    "name": "ipython",
    "version": 3
   },
   "file_extension": ".py",
   "mimetype": "text/x-python",
   "name": "python",
   "nbconvert_exporter": "python",
   "pygments_lexer": "ipython3",
   "version": "3.8.10"
  },
  "orig_nbformat": 4,
  "vscode": {
   "interpreter": {
    "hash": "de72d97932d649c6d75aa79b73261cc3e8a1ae5e7cab8a9115f0bbb1518a7af2"
   }
  }
 },
 "nbformat": 4,
 "nbformat_minor": 2
}
