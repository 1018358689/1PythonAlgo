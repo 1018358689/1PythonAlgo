{
 "cells": [
  {
   "cell_type": "code",
   "execution_count": 11,
   "metadata": {},
   "outputs": [
    {
     "data": {
      "text/plain": [
       "2"
      ]
     },
     "execution_count": 11,
     "metadata": {},
     "output_type": "execute_result"
    }
   ],
   "source": [
    "def f(mat: list, threshold: int):\n",
    "    rows, cols = len(mat), len(mat[0])\n",
    "    preSum = [[0] * (cols + 1) for _ in range(rows + 1)]\n",
    "    for r in range(rows):\n",
    "        for c in range(cols):\n",
    "            preSum[r + 1][c + 1] = preSum[r][c + 1] + preSum[r + 1][c] - preSum[r][c] + mat[r][c]\n",
    "    ans = 0\n",
    "    for row in range(rows):\n",
    "        for col in range(cols):\n",
    "            l, r = 1, min(rows - row, cols - col) # 以(row,col)作为正方形左上角 边长取值范围 显然边长和面积递增函数\n",
    "            while l <= r:\n",
    "                m = (l + r) >> 1\n",
    "                area = preSum[row + m][col + m] - (preSum[row + m][col] + preSum[row][col + m] - preSum[row][col])\n",
    "                if area > threshold:\n",
    "                    r = m - 1\n",
    "                else:\n",
    "                    l = m + 1\n",
    "            if r >= 1:\n",
    "                ans = max(ans, r)\n",
    "    return ans\n",
    "\n",
    "\n",
    "f([[1, 1, 3, 2, 4, 3, 2], [1, 1, 3, 2, 4, 3, 2], [1, 1, 3, 2, 4, 3, 2]], 4)\n"
   ]
  },
  {
   "cell_type": "code",
   "execution_count": 14,
   "metadata": {},
   "outputs": [
    {
     "data": {
      "text/plain": [
       "2"
      ]
     },
     "execution_count": 14,
     "metadata": {},
     "output_type": "execute_result"
    }
   ],
   "source": [
    "# 稍微加点速\n",
    "def f(mat: list, threshold: int):\n",
    "    rows, cols = len(mat), len(mat[0])\n",
    "    preSum = [[0] * (cols + 1) for _ in range(rows + 1)]\n",
    "    for r in range(rows):\n",
    "        for c in range(cols):\n",
    "            preSum[r + 1][c + 1] = preSum[r][c + 1] + preSum[r + 1][c] - preSum[r][c] + mat[r][c]\n",
    "    ans = 0\n",
    "    for row in range(rows):\n",
    "        for col in range(cols):\n",
    "            l, r = ans, min(rows - row, cols - col)\n",
    "            while l <= r:\n",
    "                m = (l + r) >> 1\n",
    "                area = preSum[row + m][col + m] - (preSum[row + m][col] + preSum[row][col + m] - preSum[row][col])\n",
    "                if area > threshold:\n",
    "                    r = m - 1\n",
    "                else:\n",
    "                    l = m + 1\n",
    "            if r >= ans:\n",
    "                ans = r\n",
    "    return ans\n",
    "\n",
    "\n",
    "f([[1, 1, 3, 2, 4, 3, 2], [1, 1, 3, 2, 4, 3, 2], [1, 1, 3, 2, 4, 3, 2]], 10)\n"
   ]
  },
  {
   "cell_type": "code",
   "execution_count": 27,
   "metadata": {},
   "outputs": [
    {
     "data": {
      "text/plain": [
       "2"
      ]
     },
     "execution_count": 27,
     "metadata": {},
     "output_type": "execute_result"
    }
   ],
   "source": [
    "def f(mat: list, threshold: int):\n",
    "    rows, cols = len(mat), len(mat[0])\n",
    "    preSum = [[0] * (cols + 1) for _ in range(rows + 1)]\n",
    "    for r in range(rows):\n",
    "        for c in range(cols):\n",
    "            preSum[r + 1][c + 1] = preSum[r][c + 1] + preSum[r + 1][c] - preSum[r][c] + mat[r][c]\n",
    "\n",
    "    def side2area(side):  # 边长-最小面积 显然递增函数 为什么找最小面积 因为只要最小面积<=阈值就说明该边长存在了\n",
    "        minArea = float('inf') # 归根到底判断边长side下是否存在面积<=阈值  是个二段性问题  优化代码在下方\n",
    "        for r in range(rows):\n",
    "            for c in range(cols):\n",
    "                if (er := r + side) <= rows and (ec := c + side) <= cols:  # 好像不会触发出界 因为有r=min(rows,cols)\n",
    "                    area = preSum[er][ec] - (preSum[er][c] + preSum[r][ec] - preSum[r][c])\n",
    "                    minArea = min(minArea, area)\n",
    "        return minArea\n",
    "\n",
    "    l, r = 0, min(rows, cols)\n",
    "    while l <= r:\n",
    "        m = (l + r) >> 1\n",
    "        if side2area(m) <= threshold:\n",
    "            l = m + 1\n",
    "        else:\n",
    "            r = m - 1\n",
    "    if r >= 0:\n",
    "        return r\n",
    "    return 0\n",
    "\n",
    "\n",
    "f([[1, 1, 3, 2, 4, 3, 2], [1, 1, 3, 2, 4, 3, 2], [1, 1, 3, 2, 4, 3, 2]], 4)\n"
   ]
  },
  {
   "cell_type": "code",
   "execution_count": 28,
   "metadata": {},
   "outputs": [
    {
     "data": {
      "text/plain": [
       "2"
      ]
     },
     "execution_count": 28,
     "metadata": {},
     "output_type": "execute_result"
    }
   ],
   "source": [
    "def f(mat: list, threshold: int):\n",
    "    rows, cols = len(mat), len(mat[0])\n",
    "    preSum = [[0] * (cols + 1) for _ in range(rows + 1)]\n",
    "    for r in range(rows):\n",
    "        for c in range(cols):\n",
    "            preSum[r + 1][c + 1] = preSum[r][c + 1] + preSum[r + 1][c] - preSum[r][c] + mat[r][c]\n",
    "\n",
    "    def side2area(side):  # 边长- 面积<=阈值\n",
    "        for r in range(rows):\n",
    "            for c in range(cols):\n",
    "                if (er := r + side) <= rows and (ec := c + side) <= cols:  # 好像不会触发出界 因为有r=min(rows,cols)\n",
    "                    area = preSum[er][ec] - (preSum[er][c] + preSum[r][ec] - preSum[r][c])\n",
    "                    if area <= threshold:\n",
    "                        return True\n",
    "        return False\n",
    "\n",
    "    l, r = 0, min(rows, cols)\n",
    "    while l <= r:\n",
    "        m = (l + r) >> 1\n",
    "        if side2area(m):\n",
    "            l = m + 1\n",
    "        else:\n",
    "            r = m - 1\n",
    "    if r >= 0:\n",
    "        return r\n",
    "    return 0\n",
    "\n",
    "\n",
    "f([[1, 1, 3, 2, 4, 3, 2], [1, 1, 3, 2, 4, 3, 2], [1, 1, 3, 2, 4, 3, 2]], 4)\n"
   ]
  },
  {
   "cell_type": "code",
   "execution_count": null,
   "metadata": {},
   "outputs": [],
   "source": []
  }
 ],
 "metadata": {
  "interpreter": {
   "hash": "aee8b7b246df8f9039afb4144a1f6fd8d2ca17a180786b69acc140d282b71a49"
  },
  "kernelspec": {
   "display_name": "Python 3.10.1 64-bit",
   "language": "python",
   "name": "python3"
  },
  "language_info": {
   "codemirror_mode": {
    "name": "ipython",
    "version": 3
   },
   "file_extension": ".py",
   "mimetype": "text/x-python",
   "name": "python",
   "nbconvert_exporter": "python",
   "pygments_lexer": "ipython3",
   "version": "3.10.1"
  },
  "orig_nbformat": 4
 },
 "nbformat": 4,
 "nbformat_minor": 2
}
