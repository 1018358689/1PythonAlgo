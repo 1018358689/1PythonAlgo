{
 "cells": [
  {
   "cell_type": "code",
   "execution_count": null,
   "metadata": {},
   "outputs": [],
   "source": [
    "class Solution:\n",
    "\n",
    "    def numSmallerByFrequency(self, queries: List[str], words: List[str]) -> List[int]:\n",
    "\n",
    "        def f(s):\n",
    "            return Counter(s)[min(s)]\n",
    "\n",
    "        words = sorted(f(s) for s in words)\n",
    "        n = len(words)\n",
    "        return [n - bisect_right(words, f(q)) for q in queries]"
   ]
  }
 ],
 "metadata": {
  "language_info": {
   "name": "python"
  },
  "orig_nbformat": 4
 },
 "nbformat": 4,
 "nbformat_minor": 2
}
