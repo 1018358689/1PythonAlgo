{
 "cells": [
  {
   "cell_type": "code",
   "execution_count": 4,
   "metadata": {},
   "outputs": [
    {
     "data": {
      "text/plain": [
       "(3, 2)"
      ]
     },
     "execution_count": 4,
     "metadata": {},
     "output_type": "execute_result"
    }
   ],
   "source": [
    "def f(citations: list):\n",
    "\n",
    "    def check(mid): # 当前分割点能否作为h分割点\n",
    "        return citations[mid] >= len(citations) - mid\n",
    "\n",
    "    l, r = 0, len(citations) - 1\n",
    "    while l <= r:\n",
    "        m = (l + r) >> 1\n",
    "        if check(m):\n",
    "            r = m - 1\n",
    "        else:\n",
    "            l = m + 1\n",
    "    return len(citations) - l\n",
    "\n",
    "\n",
    "f([0, 1, 3, 5, 6]), f([1, 2, 100])\n"
   ]
  },
  {
   "cell_type": "code",
   "execution_count": null,
   "metadata": {},
   "outputs": [],
   "source": []
  }
 ],
 "metadata": {
  "interpreter": {
   "hash": "aee8b7b246df8f9039afb4144a1f6fd8d2ca17a180786b69acc140d282b71a49"
  },
  "kernelspec": {
   "display_name": "Python 3.10.1 64-bit",
   "language": "python",
   "name": "python3"
  },
  "language_info": {
   "codemirror_mode": {
    "name": "ipython",
    "version": 3
   },
   "file_extension": ".py",
   "mimetype": "text/x-python",
   "name": "python",
   "nbconvert_exporter": "python",
   "pygments_lexer": "ipython3",
   "version": "3.10.1"
  },
  "orig_nbformat": 4
 },
 "nbformat": 4,
 "nbformat_minor": 2
}
