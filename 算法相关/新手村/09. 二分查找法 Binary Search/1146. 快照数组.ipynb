{
 "cells": [
  {
   "cell_type": "code",
   "execution_count": 1,
   "metadata": {},
   "outputs": [],
   "source": [
    "# 超时\n",
    "class SnapshotArray:\n",
    "\n",
    "    def __init__(self, length: int):\n",
    "        self.cnt = -1\n",
    "        self.arr = [0] * length\n",
    "        self.photo = []\n",
    "\n",
    "    def set(self, index: int, val: int) -> None:\n",
    "        self.arr[index] = val\n",
    "\n",
    "    def snap(self) -> int:\n",
    "        self.photo.append(self.arr[:])\n",
    "        self.cnt += 1\n",
    "        return self.cnt\n",
    "\n",
    "    def get(self, index: int, snap_id: int) -> int:\n",
    "        return self.photo[snap_id][index]\n",
    "\n",
    "\n",
    "# Your SnapshotArray object will be instantiated and called as such:\n",
    "# obj = SnapshotArray(length)\n",
    "# obj.set(index,val)\n",
    "# param_2 = obj.snap()\n",
    "# param_3 = obj.get(index,snap_id)"
   ]
  },
  {
   "cell_type": "markdown",
   "metadata": {},
   "source": [
    "由于快照功能 snap() 的调用次数可能很多，所以我们如果采用每次快照都整体保存一次数组的方法，无论在时间复杂度还是空间复杂度上，都是行不通的。那么更优化的方法是，只保存每次快照变化的部分。所以我们建立的不是一个数组，而是要建立一个哈希字典数组，每个字典的索引是快照的 snap_id，这样，我们在返回某个快照的元素值时，只需要查找这个快照 snap_id 前的最后一次修改即可。\n",
    "\n",
    "查找的方式可以采用二分搜索的方式来降低时间复杂度。"
   ]
  },
  {
   "cell_type": "code",
   "execution_count": 8,
   "metadata": {},
   "outputs": [
    {
     "name": "stdout",
     "output_type": "stream",
     "text": [
      "None\n",
      "0\n",
      "1\n",
      "0\n"
     ]
    }
   ],
   "source": [
    "# 关键是输出某个位置的值 而不是所有位置值\n",
    "# set操作之影响下一次快照的记录值\n",
    "class SnapshotArray:\n",
    "\n",
    "    def __init__(self, length: int):\n",
    "        self.cnt = -1  # 快照编号\n",
    "        self.arr = [{-1: 0} for _ in range(length)]  # 快照编号-该位置值 不能直接*length因为字典是可变数据类型\n",
    "\n",
    "    def set(self, index: int, val: int) -> None:\n",
    "        self.arr[index][self.cnt + 1] = val  # 下一次拍照该位置变化后的值\n",
    "\n",
    "    def snap(self) -> int:\n",
    "        self.cnt += 1\n",
    "        return self.cnt  # 快照编号\n",
    "\n",
    "    def get(self, index: int, snap_id: int) -> int:\n",
    "        keys = list(self.arr[index].keys())\n",
    "        # 二分查找该位置<=snap_id的最近快照\n",
    "        l, r = 0, len(keys) - 1\n",
    "        while l <= r:\n",
    "            m = (l + r) >> 1\n",
    "            if keys[m] <= snap_id:\n",
    "                l = m + 1\n",
    "            else:\n",
    "                r = m - 1\n",
    "        return self.arr[index][keys[r]]\n",
    "\n",
    "\n",
    "# Your SnapshotArray object will be instantiated and called as such:\n",
    "obj = SnapshotArray(2)\n",
    "print(obj.set(0, 12))\n",
    "print(obj.snap())\n",
    "print(obj.snap())\n",
    "print(obj.get(1, 0))\n"
   ]
  },
  {
   "cell_type": "code",
   "execution_count": 3,
   "metadata": {},
   "outputs": [
    {
     "data": {
      "text/plain": [
       "dict_keys([1, 2, 3])"
      ]
     },
     "execution_count": 3,
     "metadata": {},
     "output_type": "execute_result"
    }
   ],
   "source": [
    "d = {1:2,2:3,3:4}\n",
    "d.keys()"
   ]
  },
  {
   "cell_type": "code",
   "execution_count": null,
   "metadata": {},
   "outputs": [],
   "source": []
  }
 ],
 "metadata": {
  "interpreter": {
   "hash": "a5f34674cfcc9b13426a2d112c686bc132e4ef443f1487e707e7c3787d6bcf89"
  },
  "kernelspec": {
   "display_name": "Python 3.10.4 64-bit (windows store)",
   "language": "python",
   "name": "python3"
  },
  "language_info": {
   "codemirror_mode": {
    "name": "ipython",
    "version": 3
   },
   "file_extension": ".py",
   "mimetype": "text/x-python",
   "name": "python",
   "nbconvert_exporter": "python",
   "pygments_lexer": "ipython3",
   "version": "3.10.4"
  },
  "orig_nbformat": 4
 },
 "nbformat": 4,
 "nbformat_minor": 2
}
