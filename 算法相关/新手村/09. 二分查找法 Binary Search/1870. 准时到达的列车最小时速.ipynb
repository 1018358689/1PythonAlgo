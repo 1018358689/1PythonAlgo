{
 "cells": [
  {
   "cell_type": "code",
   "execution_count": 5,
   "metadata": {},
   "outputs": [
    {
     "data": {
      "text/plain": [
       "-1"
      ]
     },
     "execution_count": 5,
     "metadata": {},
     "output_type": "execute_result"
    }
   ],
   "source": [
    "def f(dist: list, hour: int):\n",
    "\n",
    "    def speed2hour(speed: int):  # 列车时速-总时间 递减\n",
    "        ans = 0\n",
    "        for distance in dist[:-1]:\n",
    "            quo, rem = divmod(distance, speed)\n",
    "            if rem:\n",
    "                quo += 1\n",
    "            ans += quo\n",
    "        ans += dist[-1] / speed\n",
    "        return ans\n",
    "\n",
    "    l, r = 1, 10**7 + 1\n",
    "    while l <= r:\n",
    "        m = (l + r) >> 1\n",
    "        if speed2hour(m) <= hour:\n",
    "            r = m - 1\n",
    "        else:\n",
    "            l = m + 1\n",
    "    if l > 10**7 + 1:\n",
    "        return -1\n",
    "    return l\n",
    "\n",
    "\n",
    "f([1, 3, 2], 1.9)\n"
   ]
  },
  {
   "cell_type": "code",
   "execution_count": 6,
   "metadata": {},
   "outputs": [
    {
     "data": {
      "text/plain": [
       "-1"
      ]
     },
     "execution_count": 6,
     "metadata": {},
     "output_type": "execute_result"
    }
   ],
   "source": [
    "# 用ceil能提速\n",
    "from math import ceil\n",
    "\n",
    "\n",
    "def f(dist: list, hour: int):\n",
    "\n",
    "    def speed2hour(speed: int):  # 列车时速-总时间 递减\n",
    "        ans = 0\n",
    "        for distance in dist[:-1]:\n",
    "            ans += ceil(distance / speed)\n",
    "        ans += dist[-1] / speed\n",
    "        return ans\n",
    "\n",
    "    l, r = 1, 10**7 + 1\n",
    "    while l <= r:\n",
    "        m = (l + r) >> 1\n",
    "        if speed2hour(m) <= hour:\n",
    "            r = m - 1\n",
    "        else:\n",
    "            l = m + 1\n",
    "    if l > 10**7 + 1:\n",
    "        return -1\n",
    "    return l\n",
    "\n",
    "\n",
    "f([1, 3, 2], 1.9)\n"
   ]
  },
  {
   "cell_type": "code",
   "execution_count": null,
   "metadata": {},
   "outputs": [],
   "source": []
  }
 ],
 "metadata": {
  "interpreter": {
   "hash": "aee8b7b246df8f9039afb4144a1f6fd8d2ca17a180786b69acc140d282b71a49"
  },
  "kernelspec": {
   "display_name": "Python 3.10.1 64-bit",
   "language": "python",
   "name": "python3"
  },
  "language_info": {
   "codemirror_mode": {
    "name": "ipython",
    "version": 3
   },
   "file_extension": ".py",
   "mimetype": "text/x-python",
   "name": "python",
   "nbconvert_exporter": "python",
   "pygments_lexer": "ipython3",
   "version": "3.10.1"
  },
  "orig_nbformat": 4
 },
 "nbformat": 4,
 "nbformat_minor": 2
}
