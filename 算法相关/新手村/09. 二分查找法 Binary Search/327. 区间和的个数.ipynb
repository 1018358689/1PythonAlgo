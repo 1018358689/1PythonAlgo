{
 "cells": [
  {
   "cell_type": "code",
   "execution_count": 12,
   "metadata": {},
   "outputs": [
    {
     "data": {
      "text/plain": [
       "3"
      ]
     },
     "execution_count": 12,
     "metadata": {},
     "output_type": "execute_result"
    }
   ],
   "source": [
    "from typing import List\n",
    "from sortedcontainers import SortedList\n",
    "\n",
    "\n",
    "class Solution:\n",
    "\n",
    "    def countRangeSum(self, nums: List[int], lower: int, upper: int) -> int:\n",
    "        ans = 0\n",
    "        sl = SortedList()\n",
    "        p = 0\n",
    "        sz = 0\n",
    "\n",
    "        # sum(i,j) = p[j+1]-p[i]  i<=j\n",
    "        # lower<=p[j+1]-p[i]<=upper\n",
    "        # p[j+1]-upper<=p[i]<=p[j+1]-lower\n",
    "        def search1(nums, sz, target):  # >=target的索引 小于target个数\n",
    "            l, r = 0, sz - 1\n",
    "            while l <= r:\n",
    "                m = l + r >> 1\n",
    "                if nums[m] >= target:\n",
    "                    r = m - 1\n",
    "                else:\n",
    "                    l = m + 1\n",
    "            return l\n",
    "\n",
    "        def search2(nums, sz, target):  # <=target的索引+1 小于等于target个数\n",
    "            l, r = 0, sz - 1\n",
    "            while l <= r:\n",
    "                m = l + r >> 1\n",
    "                if nums[m] <= target:\n",
    "                    l = m + 1\n",
    "                else:\n",
    "                    r = m - 1\n",
    "            return r + 1\n",
    "\n",
    "        for j in range(len(nums) + 1):\n",
    "            ans += search2(sl, sz, p - lower) - search1(sl, sz, p - upper)\n",
    "            sl.add(p)\n",
    "            sz += 1\n",
    "            p += nums[j] if j < len(nums) else 0\n",
    "        return ans\n",
    "\n",
    "\n",
    "s = Solution()\n",
    "s.countRangeSum([-2, 5, -1], -2, 2)\n"
   ]
  },
  {
   "cell_type": "code",
   "execution_count": null,
   "metadata": {},
   "outputs": [],
   "source": [
    "from sortedcontainers import SortedList\n",
    "\n",
    "\n",
    "class Solution(object):\n",
    "\n",
    "    def countRangeSum(self, nums, lower, upper):\n",
    "        s, n, ans, p = SortedList(), len(nums), 0, 0\n",
    "        for i in range(n + 1):\n",
    "            ans += s.bisect_right(p - lower) - s.bisect_left(p - upper)\n",
    "            s.add(p)\n",
    "            p += nums[i] if i < n else 0\n",
    "        return ans"
   ]
  }
 ],
 "metadata": {
  "kernelspec": {
   "display_name": "Python 3.10.5 64-bit",
   "language": "python",
   "name": "python3"
  },
  "language_info": {
   "codemirror_mode": {
    "name": "ipython",
    "version": 3
   },
   "file_extension": ".py",
   "mimetype": "text/x-python",
   "name": "python",
   "nbconvert_exporter": "python",
   "pygments_lexer": "ipython3",
   "version": "3.10.5"
  },
  "orig_nbformat": 4,
  "vscode": {
   "interpreter": {
    "hash": "3196968d684371006099b3d55edeef8ed90365227a30deaef86e5d4aa8519be0"
   }
  }
 },
 "nbformat": 4,
 "nbformat_minor": 2
}
