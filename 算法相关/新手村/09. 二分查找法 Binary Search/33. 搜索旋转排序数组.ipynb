{
 "cells": [
  {
   "cell_type": "code",
   "execution_count": 1,
   "metadata": {},
   "outputs": [],
   "source": [
    "def f(nums: list, target: int):\n",
    "    l, r = 0, len(nums) - 1\n",
    "    while l <= r:\n",
    "        m = (l + r) >> 1\n",
    "        if nums[m] >= nums[0]:\n",
    "            l = m + 1\n",
    "        else:\n",
    "            r = m - 1\n",
    "    right, left = r, l # 分割点\n",
    "    if target < nums[0]:\n",
    "        l, r = left, len(nums) - 1\n",
    "    else:\n",
    "        l, r = 0, right\n",
    "    while l <= r:\n",
    "        m = (l + r) >> 1\n",
    "        if nums[m] >= target:\n",
    "            r = m - 1\n",
    "        else:\n",
    "            l = m + 1\n",
    "    if l < len(nums) and nums[l] == target:\n",
    "        return l\n",
    "    return -1"
   ]
  },
  {
   "cell_type": "code",
   "execution_count": null,
   "metadata": {},
   "outputs": [],
   "source": [
    "def f(nums: list, target: int):\n",
    "    l, r = 0, len(nums) - 1\n",
    "    while l <= r:\n",
    "        m = (l + r) >> 1\n",
    "        if nums[m] == target:\n",
    "            return m\n",
    "        if nums[m] >= nums[0]:  # m在左上升区\n",
    "            if nums[l] <= target < nums[m]:  # 根据两段性 该范围内是可以确定target\n",
    "                r = m - 1\n",
    "            else:\n",
    "                l = m + 1\n",
    "        else:\n",
    "            if nums[m] < target <= nums[r]:\n",
    "                l = m + 1\n",
    "            else:\n",
    "                r = m - 1\n",
    "    return -1"
   ]
  }
 ],
 "metadata": {
  "interpreter": {
   "hash": "aee8b7b246df8f9039afb4144a1f6fd8d2ca17a180786b69acc140d282b71a49"
  },
  "kernelspec": {
   "display_name": "Python 3.10.1 64-bit",
   "language": "python",
   "name": "python3"
  },
  "language_info": {
   "codemirror_mode": {
    "name": "ipython",
    "version": 3
   },
   "file_extension": ".py",
   "mimetype": "text/x-python",
   "name": "python",
   "nbconvert_exporter": "python",
   "pygments_lexer": "ipython3",
   "version": "3.10.1"
  },
  "orig_nbformat": 4
 },
 "nbformat": 4,
 "nbformat_minor": 2
}
