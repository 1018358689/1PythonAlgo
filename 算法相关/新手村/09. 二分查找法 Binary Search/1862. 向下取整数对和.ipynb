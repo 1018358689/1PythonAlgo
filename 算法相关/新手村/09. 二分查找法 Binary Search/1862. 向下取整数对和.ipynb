{
 "cells": [
  {
   "cell_type": "code",
   "execution_count": null,
   "metadata": {},
   "outputs": [],
   "source": [
    "'''\n",
    "原理也不难，先把数组排序。比如 [2, 5, 9] 当前我们遍历到2，\n",
    "\n",
    "第一步：找到 2的两倍的位置，通过二分法很快就能找到大于等于2的两倍的位置，那这个位置前面一个元素到2的位置都是1倍的关系\n",
    "2的位置是0， 2的两倍的位置是1， 所以一倍的个数是 1-0 = 1， 乘以当前倍数1\n",
    "起始位置变为 1\n",
    "第二个：找 2的三倍数：6 的位置，这个位置的前面一个位置到第一步查到的位置，都是2倍的关系\n",
    "大于等于6的第一个位置是2，所以2倍的数为 2-1 = 1， 乘以当前倍数 2， 以此类推，直到超出边界\n",
    "'''\n",
    "from bisect import bisect_left\n",
    "from typing import List\n",
    "\n",
    "\n",
    "class Solution:\n",
    "\n",
    "    def sumOfFlooredPairs(self, nums: List[int]) -> int:\n",
    "        mod = 10**9 + 7\n",
    "        ans = 0\n",
    "        n = len(nums)\n",
    "        nums.sort()\n",
    "        cache = {}\n",
    "        for i, num in enumerate(nums):\n",
    "            if num not in cache:\n",
    "                t = 2\n",
    "                left = i\n",
    "                tmp = 0\n",
    "                while left < n:\n",
    "                    l = bisect_left(nums, num * t)\n",
    "                    d = ((l - left) * (t - 1)) % mod\n",
    "                    tmp = (tmp + d) % mod\n",
    "                    if l < n:\n",
    "                        t = nums[l] // num\n",
    "                        t += 1\n",
    "                    left = l\n",
    "                cache[num] = tmp\n",
    "            ans = (ans + cache[num]) % mod\n",
    "        return ans"
   ]
  }
 ],
 "metadata": {
  "language_info": {
   "name": "python"
  },
  "orig_nbformat": 4
 },
 "nbformat": 4,
 "nbformat_minor": 2
}
