{
 "cells": [
  {
   "cell_type": "code",
   "execution_count": 1,
   "metadata": {},
   "outputs": [
    {
     "data": {
      "text/plain": [
       "3"
      ]
     },
     "execution_count": 1,
     "metadata": {},
     "output_type": "execute_result"
    }
   ],
   "source": [
    "def f(nums: list):\n",
    "    # [1,3,4,3,2]\n",
    "    # num2cnt 1:1 2:2 3:4 4:5\n",
    "    # [1,2,2,2,3]\n",
    "    # 1:1 2:4 3:5 4:5\n",
    "    def num2cnt(num):\n",
    "        ans = 0\n",
    "        for n in nums:\n",
    "            if n <= num:\n",
    "                ans += 1\n",
    "        return ans\n",
    "\n",
    "    l, r = 1, len(nums) - 1\n",
    "    while l <= r:\n",
    "        m = (l + r) >> 1\n",
    "        if num2cnt(m) <= m: \n",
    "            l = m + 1\n",
    "        else:\n",
    "            r = m - 1\n",
    "    return l\n",
    "\n",
    "\n",
    "f([1, 3, 4, 3, 2])\n"
   ]
  },
  {
   "cell_type": "code",
   "execution_count": null,
   "metadata": {},
   "outputs": [],
   "source": []
  }
 ],
 "metadata": {
  "interpreter": {
   "hash": "aee8b7b246df8f9039afb4144a1f6fd8d2ca17a180786b69acc140d282b71a49"
  },
  "kernelspec": {
   "display_name": "Python 3.10.1 64-bit",
   "language": "python",
   "name": "python3"
  },
  "language_info": {
   "codemirror_mode": {
    "name": "ipython",
    "version": 3
   },
   "file_extension": ".py",
   "mimetype": "text/x-python",
   "name": "python",
   "nbconvert_exporter": "python",
   "pygments_lexer": "ipython3",
   "version": "3.10.1"
  },
  "orig_nbformat": 4
 },
 "nbformat": 4,
 "nbformat_minor": 2
}
