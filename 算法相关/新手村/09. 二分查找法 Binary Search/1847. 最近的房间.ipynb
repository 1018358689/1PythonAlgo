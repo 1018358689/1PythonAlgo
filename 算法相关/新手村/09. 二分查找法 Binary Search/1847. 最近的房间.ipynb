{
 "cells": [
  {
   "cell_type": "code",
   "execution_count": 15,
   "metadata": {},
   "outputs": [
    {
     "name": "stdout",
     "output_type": "stream",
     "text": [
      "-1 0 SortedList([])\n",
      "2 3 SortedList([1, 2, 3])\n",
      "1 2 SortedList([1, 2, 3])\n"
     ]
    },
    {
     "data": {
      "text/plain": [
       "[3, -1, 3]"
      ]
     },
     "execution_count": 15,
     "metadata": {},
     "output_type": "execute_result"
    }
   ],
   "source": [
    "from typing import List\n",
    "from sortedcontainers import SortedList\n",
    "\n",
    "\n",
    "class Solution:\n",
    "\n",
    "    def search(self, nums, target):\n",
    "        l, r = 0, len(nums) - 1\n",
    "        while l <= r:\n",
    "            m = l + r >> 1\n",
    "            if nums[m] >= target:\n",
    "                r = m - 1\n",
    "            else:\n",
    "                l = m + 1\n",
    "        return r, l\n",
    "\n",
    "    def closestRoom(self, rooms: List[List[int]], queries: List[List[int]]) -> List[int]:\n",
    "        rooms.sort(key=lambda x: -x[1])\n",
    "        for i in range(len(queries)):\n",
    "            queries[i].append(i)\n",
    "        queries.sort(key=lambda x: -x[1])\n",
    "        ans = [-1] * len(queries)\n",
    "        ri = 0\n",
    "        sl = SortedList()\n",
    "        for p, m, i in queries:\n",
    "            while ri < len(rooms) and rooms[ri][1] >= m:\n",
    "                sl.add(rooms[ri][0])\n",
    "                ri += 1\n",
    "            left, right = self.search(sl, p)\n",
    "            left = sl[left] if left >= 0 else float('-inf')\n",
    "            right = sl[right] if right < len(sl) else float('inf')\n",
    "            localAns = min(left, right, key=lambda x: abs(x - p))\n",
    "            if localAns != float('-inf'):\n",
    "                ans[i] = localAns\n",
    "        return ans\n",
    "\n",
    "\n",
    "s = Solution()\n",
    "s.closestRoom([[2, 2], [1, 2], [3, 2]], [[3, 1], [3, 3], [5, 2]])\n",
    "# s.closestRoom([[1, 4], [2, 3], [3, 5], [4, 1], [5, 2]], [[2, 3], [2, 4], [2, 5]])\n"
   ]
  },
  {
   "cell_type": "code",
   "execution_count": null,
   "metadata": {},
   "outputs": [],
   "source": []
  }
 ],
 "metadata": {
  "interpreter": {
   "hash": "aee8b7b246df8f9039afb4144a1f6fd8d2ca17a180786b69acc140d282b71a49"
  },
  "kernelspec": {
   "display_name": "Python 3.10.2 64-bit",
   "language": "python",
   "name": "python3"
  },
  "language_info": {
   "codemirror_mode": {
    "name": "ipython",
    "version": 3
   },
   "file_extension": ".py",
   "mimetype": "text/x-python",
   "name": "python",
   "nbconvert_exporter": "python",
   "pygments_lexer": "ipython3",
   "version": "3.10.2"
  },
  "orig_nbformat": 4
 },
 "nbformat": 4,
 "nbformat_minor": 2
}
