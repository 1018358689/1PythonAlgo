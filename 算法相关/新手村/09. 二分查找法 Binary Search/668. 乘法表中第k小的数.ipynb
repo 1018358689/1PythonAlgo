{
 "cells": [
  {
   "cell_type": "code",
   "execution_count": null,
   "metadata": {},
   "outputs": [],
   "source": [
    "from bisect import bisect_left, bisect_right\n",
    "\n",
    "\n",
    "class Solution:\n",
    "\n",
    "    def findKthNumber(self, m: int, n: int, k: int) -> int:\n",
    "\n",
    "        def num2rank(num):  # 某个数的最大排名 (如例1中 3排名5)  数越大 排名越大\n",
    "            ans = 0\n",
    "            for i in range(m):\n",
    "                r = bisect_right(range(i + 1, (i + 1) * n + 1, i + 1), num) - 1  # <=\n",
    "                if r < 0: break\n",
    "                ans += r + 1\n",
    "            return ans\n",
    "\n",
    "        # 第k小的数字 即 排名>=k的最小数字\n",
    "        return bisect_left(range(1, m * n), k, key=num2rank) + 1\n"
   ]
  },
  {
   "cell_type": "code",
   "execution_count": 1,
   "metadata": {},
   "outputs": [
    {
     "data": {
      "text/plain": [
       "3"
      ]
     },
     "execution_count": 1,
     "metadata": {},
     "output_type": "execute_result"
    }
   ],
   "source": [
    "class Solution:\n",
    "\n",
    "    def findKthNumber(self, m: int, n: int, k: int) -> int:\n",
    "\n",
    "        def num2cnt(num: int):  # <=num的数字数量 递增函数\n",
    "            ans = 0\n",
    "            for r in range(1, m + 1):\n",
    "                ans += min(num // r, n)\n",
    "            return ans\n",
    "\n",
    "        l, r = 1, m * n\n",
    "        while l <= r:\n",
    "            mid = l + r >> 1\n",
    "            if num2cnt(mid) >= k:\n",
    "                r = mid - 1\n",
    "            else:\n",
    "                l = mid + 1\n",
    "        return l\n",
    "\n",
    "\n",
    "s = Solution()\n",
    "s.findKthNumber(3, 3, 5)\n"
   ]
  },
  {
   "cell_type": "code",
   "execution_count": null,
   "metadata": {},
   "outputs": [],
   "source": [
    "class Solution:\n",
    "\n",
    "    def findKthNumber(self, m: int, n: int, k: int) -> int:\n",
    "        p2num = lambda x, y: (x + 1) * (y + 1)\n",
    "\n",
    "        def num2rank(num):  # 某个数的最大排名 (如例1中 3排名5)  数越大 排名越大\n",
    "            ans = 0\n",
    "            i, j = 0, n - 1\n",
    "            while i < m and j >= 0:\n",
    "                if p2num(i, j) <= num:  # 左边全 <=\n",
    "                    ans += j + 1\n",
    "                    i += 1\n",
    "                else:\n",
    "                    j -= 1\n",
    "            return ans\n",
    "\n",
    "        # 第k小的数字 即 排名>=k的最小数字\n",
    "        return bisect_left(range(1, m * n), k, key=num2rank) + 1\n"
   ]
  }
 ],
 "metadata": {
  "interpreter": {
   "hash": "97367d2de1780ea7c502b529f25888c1b53c0430a7611816b6c7cf19d8435228"
  },
  "kernelspec": {
   "display_name": "Python 3.10.4 64-bit (windows store)",
   "language": "python",
   "name": "python3"
  },
  "language_info": {
   "codemirror_mode": {
    "name": "ipython",
    "version": 3
   },
   "file_extension": ".py",
   "mimetype": "text/x-python",
   "name": "python",
   "nbconvert_exporter": "python",
   "pygments_lexer": "ipython3",
   "version": "3.10.4"
  },
  "orig_nbformat": 4
 },
 "nbformat": 4,
 "nbformat_minor": 2
}
