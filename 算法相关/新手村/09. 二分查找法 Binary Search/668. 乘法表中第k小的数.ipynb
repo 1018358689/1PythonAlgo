{
 "cells": [
  {
   "cell_type": "code",
   "execution_count": 1,
   "metadata": {},
   "outputs": [
    {
     "data": {
      "text/plain": [
       "3"
      ]
     },
     "execution_count": 1,
     "metadata": {},
     "output_type": "execute_result"
    }
   ],
   "source": [
    "class Solution:\n",
    "\n",
    "    def findKthNumber(self, m: int, n: int, k: int) -> int:\n",
    "\n",
    "        def num2cnt(num: int):  # <=num的数字数量 递增函数\n",
    "            ans = 0\n",
    "            for r in range(1, m + 1):\n",
    "                ans += min(num // r, n)\n",
    "            return ans\n",
    "\n",
    "        l, r = 1, m * n\n",
    "        while l <= r:\n",
    "            mid = l + r >> 1\n",
    "            if num2cnt(mid) >= k:\n",
    "                r = mid - 1\n",
    "            else:\n",
    "                l = mid + 1\n",
    "        return l\n",
    "\n",
    "\n",
    "s = Solution()\n",
    "s.findKthNumber(3, 3, 5)\n"
   ]
  },
  {
   "cell_type": "code",
   "execution_count": 6,
   "metadata": {},
   "outputs": [
    {
     "name": "stdout",
     "output_type": "stream",
     "text": [
      "3\n",
      "2\n",
      "1\n"
     ]
    },
    {
     "data": {
      "text/plain": [
       "6"
      ]
     },
     "execution_count": 6,
     "metadata": {},
     "output_type": "execute_result"
    }
   ],
   "source": [
    "def num2cnt(num: int):  # <=num的数字数量 递增函数\n",
    "    ans = 0\n",
    "    for r in range(1, 3 + 1):\n",
    "        print(min(num // r, 3))\n",
    "        ans += min(num // r, 3)\n",
    "    return ans\n",
    "num2cnt(4)"
   ]
  },
  {
   "cell_type": "code",
   "execution_count": null,
   "metadata": {},
   "outputs": [],
   "source": []
  }
 ],
 "metadata": {
  "interpreter": {
   "hash": "97367d2de1780ea7c502b529f25888c1b53c0430a7611816b6c7cf19d8435228"
  },
  "kernelspec": {
   "display_name": "Python 3.10.4 64-bit (windows store)",
   "language": "python",
   "name": "python3"
  },
  "language_info": {
   "codemirror_mode": {
    "name": "ipython",
    "version": 3
   },
   "file_extension": ".py",
   "mimetype": "text/x-python",
   "name": "python",
   "nbconvert_exporter": "python",
   "pygments_lexer": "ipython3",
   "version": "3.10.4"
  },
  "orig_nbformat": 4
 },
 "nbformat": 4,
 "nbformat_minor": 2
}
