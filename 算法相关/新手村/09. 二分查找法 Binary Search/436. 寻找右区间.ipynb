{
 "cells": [
  {
   "cell_type": "code",
   "execution_count": 4,
   "metadata": {},
   "outputs": [
    {
     "data": {
      "text/plain": [
       "([-1, 0, 1], [-1], [-1, 2, -1])"
      ]
     },
     "execution_count": 4,
     "metadata": {},
     "output_type": "execute_result"
    }
   ],
   "source": [
    "def f(intervals: list):\n",
    "\n",
    "    def search(nums, target):\n",
    "        l, r = 0, len(nums) - 1\n",
    "        while l <= r:\n",
    "            m = (l + r) >> 1\n",
    "            if nums[m][0] >= target:\n",
    "                r = m - 1\n",
    "            else:\n",
    "                l = m + 1\n",
    "        return l if l < len(nums) else -1\n",
    "\n",
    "    ha = {}\n",
    "    for i, v in enumerate(intervals):\n",
    "        ha[v[0]] = i\n",
    "    intervals.sort()\n",
    "    ans = [-1] * len(intervals)\n",
    "    for s, e in intervals:\n",
    "        index = search(intervals, e)\n",
    "        if index != -1:\n",
    "            ans[ha[s]] = ha[intervals[index][0]]\n",
    "    return ans\n",
    "\n",
    "\n",
    "f([[3, 4], [2, 3], [1, 2]]), f([[1, 2]]), f([[1, 4], [2, 3], [3, 4]])\n"
   ]
  },
  {
   "cell_type": "code",
   "execution_count": 6,
   "metadata": {},
   "outputs": [
    {
     "data": {
      "text/plain": [
       "([-1, 0, 1], [-1], [-1, 2, -1])"
      ]
     },
     "execution_count": 6,
     "metadata": {},
     "output_type": "execute_result"
    }
   ],
   "source": [
    "def f(intervals: list):\n",
    "\n",
    "    def search(nums, target):\n",
    "        l, r = 0, len(nums) - 1\n",
    "        while l <= r:\n",
    "            m = (l + r) >> 1\n",
    "            if nums[m][0] >= target:\n",
    "                r = m - 1\n",
    "            else:\n",
    "                l = m + 1\n",
    "        return l if l < len(nums) else -1\n",
    "\n",
    "    for i in range(len(intervals)):\n",
    "        intervals[i].append(i)\n",
    "    intervals.sort()\n",
    "    ans = [-1] * len(intervals)\n",
    "    for s, e, i in intervals:\n",
    "        index = search(intervals, e)\n",
    "        if index != -1:\n",
    "            ans[i] = intervals[index][2]\n",
    "    return ans\n",
    "\n",
    "\n",
    "f([[3, 4], [2, 3], [1, 2]]), f([[1, 2]]), f([[1, 4], [2, 3], [3, 4]])\n"
   ]
  },
  {
   "cell_type": "code",
   "execution_count": null,
   "metadata": {},
   "outputs": [],
   "source": []
  }
 ],
 "metadata": {
  "interpreter": {
   "hash": "aee8b7b246df8f9039afb4144a1f6fd8d2ca17a180786b69acc140d282b71a49"
  },
  "kernelspec": {
   "display_name": "Python 3.10.1 64-bit",
   "language": "python",
   "name": "python3"
  },
  "language_info": {
   "codemirror_mode": {
    "name": "ipython",
    "version": 3
   },
   "file_extension": ".py",
   "mimetype": "text/x-python",
   "name": "python",
   "nbconvert_exporter": "python",
   "pygments_lexer": "ipython3",
   "version": "3.10.1"
  },
  "orig_nbformat": 4
 },
 "nbformat": 4,
 "nbformat_minor": 2
}
