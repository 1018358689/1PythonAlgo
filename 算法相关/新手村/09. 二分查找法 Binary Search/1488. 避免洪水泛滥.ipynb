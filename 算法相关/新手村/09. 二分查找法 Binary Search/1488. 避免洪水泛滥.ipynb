{
 "cells": [
  {
   "cell_type": "markdown",
   "metadata": {},
   "source": [
    "贪心+优先队列, 从前向后遍历, 将已经满了的湖的下一个下雨日期加入优先队列中, 遇到0优先抽当前已满的湖中下次下雨日期距离现在最近的湖."
   ]
  },
  {
   "cell_type": "code",
   "execution_count": 19,
   "metadata": {},
   "outputs": [
    {
     "data": {
      "text/plain": [
       "[-1, -1, 1, 2, 1]"
      ]
     },
     "execution_count": 19,
     "metadata": {},
     "output_type": "execute_result"
    }
   ],
   "source": [
    "import heapq\n",
    "from collections import defaultdict\n",
    "\n",
    "\n",
    "def f(rains: list):\n",
    "    ans = []\n",
    "    pq = []\n",
    "    isLake = set()\n",
    "    lake2rain = defaultdict(list)\n",
    "    for i, lake in enumerate(rains):\n",
    "        lake2rain[lake].append(i)\n",
    "    for i, lake in enumerate(rains):\n",
    "        if lake in isLake:\n",
    "            return []\n",
    "        if lake != 0:\n",
    "            isLake.add(lake)\n",
    "            rain = lake2rain[lake]\n",
    "            l, r = 0, len(rain) - 1\n",
    "            while l <= r:\n",
    "                m = (l + r) >> 1\n",
    "                if rain[m] > i:\n",
    "                    r = m - 1\n",
    "                else:\n",
    "                    l = m + 1\n",
    "            nextRain = rain[l] if l < len(rain) else float('inf')\n",
    "            heapq.heappush(pq, (nextRain, lake))\n",
    "            ans.append(-1)\n",
    "        else:\n",
    "            if pq:\n",
    "                rainDay, needLake = heapq.heappop(pq)\n",
    "                isLake.remove(needLake)\n",
    "                ans.append(needLake)\n",
    "            else:\n",
    "                ans.append(1)\n",
    "    return ans\n",
    "\n",
    "\n",
    "f([1, 2, 0, 0, 2, 1]), f([1, 2, 3, 4]), f([1, 2, 0, 1, 2])\n",
    "# f([1, 2, 0, 2, 0, 1])\n",
    "f([1, 2, 0, 0, 0])\n"
   ]
  },
  {
   "cell_type": "code",
   "execution_count": null,
   "metadata": {},
   "outputs": [],
   "source": []
  }
 ],
 "metadata": {
  "interpreter": {
   "hash": "a5f34674cfcc9b13426a2d112c686bc132e4ef443f1487e707e7c3787d6bcf89"
  },
  "kernelspec": {
   "display_name": "Python 3.10.4 64-bit (windows store)",
   "language": "python",
   "name": "python3"
  },
  "language_info": {
   "codemirror_mode": {
    "name": "ipython",
    "version": 3
   },
   "file_extension": ".py",
   "mimetype": "text/x-python",
   "name": "python",
   "nbconvert_exporter": "python",
   "pygments_lexer": "ipython3",
   "version": "3.10.4"
  },
  "orig_nbformat": 4
 },
 "nbformat": 4,
 "nbformat_minor": 2
}
