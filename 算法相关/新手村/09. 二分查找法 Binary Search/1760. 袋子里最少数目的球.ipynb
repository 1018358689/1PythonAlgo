{
 "cells": [
  {
   "cell_type": "code",
   "execution_count": null,
   "metadata": {},
   "outputs": [],
   "source": [
    "from typing import List\n",
    "\n",
    "\n",
    "# 最大值的最小化 二分法\n",
    "class Solution:\n",
    "\n",
    "    def minimumSize(self, nums: List[int], maxOperations: int) -> int:\n",
    "\n",
    "        def mx2cnt(mx):  # 每个袋子最大数量->操作次数 递减\n",
    "            cnt = 0\n",
    "            for c in nums:\n",
    "                if c > mx:\n",
    "                    cnt += c // mx if c % mx else c // mx - 1\n",
    "            return cnt\n",
    "\n",
    "        l, r = 1, max(nums)\n",
    "        while l <= r:\n",
    "            m = l + r >> 1\n",
    "            if mx2cnt(m) <= maxOperations:\n",
    "                r = m - 1\n",
    "            else:\n",
    "                l = m + 1\n",
    "        return l"
   ]
  }
 ],
 "metadata": {
  "kernelspec": {
   "display_name": "Python 3",
   "language": "python",
   "name": "python3"
  },
  "language_info": {
   "name": "python",
   "version": "3.11.1 (tags/v3.11.1:a7a450f, Dec  6 2022, 19:58:39) [MSC v.1934 64 bit (AMD64)]"
  },
  "orig_nbformat": 4,
  "vscode": {
   "interpreter": {
    "hash": "ff4b1fca65a764b45acb559e482afe389d289dd599b9f8c5fd12ff5c2ea46a65"
   }
  }
 },
 "nbformat": 4,
 "nbformat_minor": 2
}
