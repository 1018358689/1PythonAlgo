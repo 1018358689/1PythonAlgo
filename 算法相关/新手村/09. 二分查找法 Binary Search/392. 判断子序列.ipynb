{
 "cells": [
  {
   "cell_type": "code",
   "execution_count": 1,
   "metadata": {},
   "outputs": [
    {
     "data": {
      "text/plain": [
       "True"
      ]
     },
     "execution_count": 1,
     "metadata": {},
     "output_type": "execute_result"
    }
   ],
   "source": [
    "class Solution:\n",
    "\n",
    "    def isSubsequence(self, s: str, t: str) -> bool:\n",
    "        p1 = p2 = 0\n",
    "        while p1 < len(s) and p2 < len(t):\n",
    "            if s[p1] == s[p2]:\n",
    "                p1 += 1\n",
    "            p2 += 1\n",
    "        return p1 == len(s)\n",
    "\n",
    "\n",
    "s = Solution()\n",
    "s.isSubsequence('abc', 'ahbgdc')\n"
   ]
  },
  {
   "cell_type": "code",
   "execution_count": 2,
   "metadata": {},
   "outputs": [
    {
     "data": {
      "text/plain": [
       "True"
      ]
     },
     "execution_count": 2,
     "metadata": {},
     "output_type": "execute_result"
    }
   ],
   "source": [
    "from collections import defaultdict\n",
    "\n",
    "\n",
    "class Solution:\n",
    "\n",
    "    def search(self, nums, target):\n",
    "        l, r = 0, len(nums) - 1\n",
    "        while l <= r:\n",
    "            m = l + r >> 1\n",
    "            if nums[m] > target:\n",
    "                r = m - 1\n",
    "            else:\n",
    "                l = m + 1\n",
    "        return nums[l] if l < len(nums) else -1\n",
    "\n",
    "    def isSubsequence(self, s: str, t: str) -> bool:\n",
    "        ha = defaultdict(list)\n",
    "        for i, n in enumerate(t):\n",
    "            ha[n].append(i)\n",
    "        index = -1\n",
    "        for n in s:\n",
    "            nums = ha.get(n)\n",
    "            if nums is None:\n",
    "                return False\n",
    "            index = self.search(nums, index)\n",
    "            if index == -1:\n",
    "                return False\n",
    "        return True\n",
    "\n",
    "\n",
    "s = Solution()\n",
    "s.isSubsequence('abc', 'ahbgdc')"
   ]
  },
  {
   "cell_type": "code",
   "execution_count": null,
   "metadata": {},
   "outputs": [],
   "source": []
  }
 ],
 "metadata": {
  "interpreter": {
   "hash": "97367d2de1780ea7c502b529f25888c1b53c0430a7611816b6c7cf19d8435228"
  },
  "kernelspec": {
   "display_name": "Python 3.10.4 64-bit (windows store)",
   "language": "python",
   "name": "python3"
  },
  "language_info": {
   "codemirror_mode": {
    "name": "ipython",
    "version": 3
   },
   "file_extension": ".py",
   "mimetype": "text/x-python",
   "name": "python",
   "nbconvert_exporter": "python",
   "pygments_lexer": "ipython3",
   "version": "3.10.4"
  },
  "orig_nbformat": 4
 },
 "nbformat": 4,
 "nbformat_minor": 2
}
