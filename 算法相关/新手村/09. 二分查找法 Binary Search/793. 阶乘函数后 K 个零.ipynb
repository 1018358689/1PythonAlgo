{
 "cells": [
  {
   "cell_type": "code",
   "execution_count": null,
   "metadata": {},
   "outputs": [],
   "source": [
    "from bisect import bisect_left, bisect_right\n",
    "\n",
    "\n",
    "class Solution:\n",
    "\n",
    "    def preimageSizeFZF(self, k: int) -> int:\n",
    "\n",
    "        def fac(x):  # x!末尾有多少个零  x越大末尾0越多\n",
    "            # 因子5的个数\n",
    "            ans, d = 0, 5\n",
    "            while d <= x:\n",
    "                ans += x // d  # 如11//5=2 表示 1和2可以 1*5=5 2*5=10 各贡献一个因子5\n",
    "                d *= 5\n",
    "            return ans\n",
    "\n",
    "        return bisect_right(range(5 * (k + 1)), k, key=fac) - bisect_left(range(5 * (k + 1)), k, key=fac)\n"
   ]
  }
 ],
 "metadata": {
  "language_info": {
   "name": "python"
  },
  "orig_nbformat": 4
 },
 "nbformat": 4,
 "nbformat_minor": 2
}
