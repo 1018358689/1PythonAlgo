{
 "cells": [
  {
   "cell_type": "code",
   "execution_count": 14,
   "metadata": {},
   "outputs": [
    {
     "name": "stdout",
     "output_type": "stream",
     "text": [
      "1 2 4\n",
      "2 3 4\n",
      "3 4 4\n"
     ]
    },
    {
     "data": {
      "text/plain": [
       "6"
      ]
     },
     "execution_count": 14,
     "metadata": {},
     "output_type": "execute_result"
    }
   ],
   "source": [
    "# [1,2,2,2,5,0]\n",
    "# [1] [2] [2,2,5,0]\n",
    "# [1] [2,2] [2,5,0]\n",
    "# [1,2] [2,2] [5,0]\n",
    "def f(nums: list):\n",
    "    Mod = 10**9 + 7\n",
    "    preSum = [0] * (len(nums) + 1)\n",
    "    for i in range(len(nums)):\n",
    "        preSum[i + 1] = preSum[i] + nums[i]\n",
    "\n",
    "    def searchLeft(nums, target):\n",
    "        l, r = 0, len(nums) - 1\n",
    "        while l <= r:\n",
    "            m = (l + r) >> 1\n",
    "            if nums[m] >= target:\n",
    "                r = m - 1\n",
    "            else:\n",
    "                l = m + 1\n",
    "        return l\n",
    "\n",
    "    def searchRight(nums, target):\n",
    "        l, r = 0, len(nums) - 1\n",
    "        while l <= r:\n",
    "            m = (l + r) >> 1\n",
    "            if nums[m] <= target:\n",
    "                l = m + 1\n",
    "            else:\n",
    "                r = m - 1\n",
    "        return r\n",
    "\n",
    "    ans = 0\n",
    "    for p1 in range(1, len(preSum) - 2):\n",
    "        a = preSum[p1]\n",
    "        p2left = max(p1 + 1, searchLeft(preSum, a + a))  # max是为了防止前面都是0 让p2left到最左边去了\n",
    "        p2right = min(len(preSum) - 2, searchRight(preSum, (preSum[-1] + a) // 2))  # min是为了防止后面都是0 让p2right到最右边去了\n",
    "        # print(p1, p2left, p2right)\n",
    "        ans = (ans + max(0, p2right - p2left + 1)) % Mod  # max是防止右指针到左指针左边去了 就不计数\n",
    "    return ans % Mod\n",
    "\n",
    "\n",
    "# f([1, 2, 2, 2, 5, 0])\n",
    "# f([1, 1, 1])\n",
    "# f([0, 3, 3])\n",
    "f([0, 0, 0, 0, 0])\n"
   ]
  },
  {
   "cell_type": "code",
   "execution_count": null,
   "metadata": {},
   "outputs": [],
   "source": []
  }
 ],
 "metadata": {
  "interpreter": {
   "hash": "a5f34674cfcc9b13426a2d112c686bc132e4ef443f1487e707e7c3787d6bcf89"
  },
  "kernelspec": {
   "display_name": "Python 3.10.4 64-bit (windows store)",
   "language": "python",
   "name": "python3"
  },
  "language_info": {
   "codemirror_mode": {
    "name": "ipython",
    "version": 3
   },
   "file_extension": ".py",
   "mimetype": "text/x-python",
   "name": "python",
   "nbconvert_exporter": "python",
   "pygments_lexer": "ipython3",
   "version": "3.10.4"
  },
  "orig_nbformat": 4
 },
 "nbformat": 4,
 "nbformat_minor": 2
}
