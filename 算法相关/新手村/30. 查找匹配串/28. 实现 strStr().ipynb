{
 "cells": [
  {
   "cell_type": "code",
   "execution_count": 1,
   "metadata": {},
   "outputs": [],
   "source": [
    "# kmp算法\n",
    "class Solution:\n",
    "\n",
    "    def strStr(self, haystack: str, needle: str) -> int:\n",
    "\n",
    "        def getNext(needle: str):\n",
    "            next = [0] * len(needle)\n",
    "            i = 1\n",
    "            now = 0\n",
    "            while i < len(needle):\n",
    "                if needle[now] == needle[i]:\n",
    "                    next[i] = now + 1\n",
    "                    i += 1\n",
    "                    now += 1\n",
    "                elif now:\n",
    "                    now = next[now - 1]\n",
    "                else:\n",
    "                    next[i] = 0\n",
    "                    i += 1\n",
    "            return next\n",
    "\n",
    "        next = getNext(needle)\n",
    "        i = j = 0  # i匹配串 j模式串\n",
    "        while i < len(haystack):\n",
    "            if haystack[i] == needle[j]:\n",
    "                i += 1\n",
    "                j += 1\n",
    "            elif j:\n",
    "                j = next[j - 1]\n",
    "            else:\n",
    "                i += 1\n",
    "            if j == len(needle):\n",
    "                return i - j\n",
    "        return -1"
   ]
  },
  {
   "cell_type": "code",
   "execution_count": null,
   "metadata": {},
   "outputs": [],
   "source": [
    "# Rabin-Karp算法\n",
    "class Solution:\n",
    "\n",
    "    def strStr(self, haystack: str, needle: str) -> int:\n",
    "        target = 0\n",
    "        for n in needle:\n",
    "            target = 256 * target + ord(n)\n",
    "        l = 0\n",
    "        num = 0\n",
    "        lgh = len(needle)\n",
    "        for r in range(len(haystack)):\n",
    "            num = 256 * num + ord(haystack[r])\n",
    "            while r - l + 1 > lgh:\n",
    "                num -= ord(haystack[l]) * (256**lgh)\n",
    "                l += 1\n",
    "            if r - l + 1 == lgh and num == target:\n",
    "                return l\n",
    "        return -1"
   ]
  }
 ],
 "metadata": {
  "kernelspec": {
   "display_name": "Python 3.10.5 64-bit (windows store)",
   "language": "python",
   "name": "python3"
  },
  "language_info": {
   "codemirror_mode": {
    "name": "ipython",
    "version": 3
   },
   "file_extension": ".py",
   "mimetype": "text/x-python",
   "name": "python",
   "nbconvert_exporter": "python",
   "pygments_lexer": "ipython3",
   "version": "3.10.5"
  },
  "orig_nbformat": 4,
  "vscode": {
   "interpreter": {
    "hash": "97367d2de1780ea7c502b529f25888c1b53c0430a7611816b6c7cf19d8435228"
   }
  }
 },
 "nbformat": 4,
 "nbformat_minor": 2
}
