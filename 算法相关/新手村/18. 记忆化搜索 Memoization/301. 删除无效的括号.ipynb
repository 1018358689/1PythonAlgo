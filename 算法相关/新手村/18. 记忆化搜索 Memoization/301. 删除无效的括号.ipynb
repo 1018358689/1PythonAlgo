{
 "cells": [
  {
   "cell_type": "code",
   "execution_count": 1,
   "metadata": {},
   "outputs": [],
   "source": [
    "from typing import List\n",
    "from functools import lru_cache\n",
    "\n",
    "\n",
    "class Solution:\n",
    "\n",
    "    def removeInvalidParentheses(self, s: str) -> List[str]:\n",
    "        sl = sr = 0  # 左右括号的分数 (多余的左右括号)\n",
    "        for n in s:\n",
    "            if n == '(':\n",
    "                sl += 1\n",
    "            elif n == ')':\n",
    "                if sl:\n",
    "                    sl -= 1\n",
    "                else:\n",
    "                    sr += 1\n",
    "        ans = []\n",
    "\n",
    "        @lru_cache(None) # 搞不明白用这个能去重\n",
    "        def dfs(idx, cl, cr, sl, sr, path):  # 位置,现存左右括号数,左右括号分数,路径\n",
    "            if idx == len(s):\n",
    "                if not sl and not sr:  # 分数都为0则为最长有效括号\n",
    "                    ans.append(path)\n",
    "                return\n",
    "            if cr > cl or sl < 0 or sr < 0:  # 现存右括号>左括号或 分数<0 则回溯\n",
    "                return\n",
    "            if (cur := s[idx]) == '(':\n",
    "                dfs(idx + 1, cl, cr, sl - 1, sr, path)  # 删除左括号\n",
    "            elif cur == ')':\n",
    "                dfs(idx + 1, cl, cr, sl, sr - 1, path)  # 删除右括号\n",
    "            dfs(idx + 1, cl + (cur == '('), cr + (cur == ')'), sl, sr, path + cur)  # 不删除 (加入左右括号或字母)\n",
    "\n",
    "        dfs(0, 0, 0, sl, sr, '')\n",
    "        return ans"
   ]
  },
  {
   "cell_type": "code",
   "execution_count": null,
   "metadata": {},
   "outputs": [],
   "source": [
    "from typing import List\n",
    "from functools import lru_cache\n",
    "\n",
    "\n",
    "class Solution:\n",
    "\n",
    "    def removeInvalidParentheses(self, s: str) -> List[str]:\n",
    "        sl = sr = 0  # 左右括号的分数 (多余的左右括号)\n",
    "        for n in s:\n",
    "            if n == '(':\n",
    "                sl += 1\n",
    "            elif n == ')':\n",
    "                if sl:\n",
    "                    sl -= 1\n",
    "                else:\n",
    "                    sr += 1\n",
    "        ans = set()\n",
    "\n",
    "        def dfs(idx, cl, cr, sl, sr, path):  # 位置,现存左右括号数,左右括号分数,路径\n",
    "            if idx == len(s):\n",
    "                if not sl and not sr:  # 分数都为0则为最长有效括号\n",
    "                    ans.add(path)\n",
    "                return\n",
    "            if cr > cl or sl < 0 or sr < 0:  # 现存右括号>左括号或 分数<0 则回溯\n",
    "                return\n",
    "            if (cur := s[idx]) == '(':\n",
    "                dfs(idx + 1, cl, cr, sl - 1, sr, path)  # 删除左括号\n",
    "            elif cur == ')':\n",
    "                dfs(idx + 1, cl, cr, sl, sr - 1, path)  # 删除右括号\n",
    "            dfs(idx + 1, cl + (cur == '('), cr + (cur == ')'), sl, sr, path + cur)  # 不删除 (加入左右括号或字母)\n",
    "\n",
    "        dfs(0, 0, 0, sl, sr, '')\n",
    "        return list(ans)"
   ]
  }
 ],
 "metadata": {
  "kernelspec": {
   "display_name": "Python 3.10.5 64-bit",
   "language": "python",
   "name": "python3"
  },
  "language_info": {
   "codemirror_mode": {
    "name": "ipython",
    "version": 3
   },
   "file_extension": ".py",
   "mimetype": "text/x-python",
   "name": "python",
   "nbconvert_exporter": "python",
   "pygments_lexer": "ipython3",
   "version": "3.10.5"
  },
  "orig_nbformat": 4,
  "vscode": {
   "interpreter": {
    "hash": "3196968d684371006099b3d55edeef8ed90365227a30deaef86e5d4aa8519be0"
   }
  }
 },
 "nbformat": 4,
 "nbformat_minor": 2
}
