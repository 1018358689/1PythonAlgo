{
 "cells": [
  {
   "cell_type": "code",
   "execution_count": 4,
   "metadata": {},
   "outputs": [
    {
     "data": {
      "text/plain": [
       "3"
      ]
     },
     "execution_count": 4,
     "metadata": {},
     "output_type": "execute_result"
    }
   ],
   "source": [
    "def f(coins: list, amount: int):\n",
    "    mem = {0: 0}\n",
    "\n",
    "    def dfs(amount):\n",
    "        if amount in mem:\n",
    "            return mem[amount]\n",
    "        mem[amount] = float('inf')\n",
    "        for c in coins:\n",
    "            if c <= amount:\n",
    "                mem[amount] = min(mem[amount], dfs(amount - c) + 1)\n",
    "        return mem[amount]\n",
    "\n",
    "    return r if (r := dfs(amount)) != float('inf') else -1\n",
    "\n",
    "\n",
    "f([1, 2, 5], 11)\n"
   ]
  },
  {
   "cell_type": "code",
   "execution_count": 6,
   "metadata": {},
   "outputs": [
    {
     "data": {
      "text/plain": [
       "3"
      ]
     },
     "execution_count": 6,
     "metadata": {},
     "output_type": "execute_result"
    }
   ],
   "source": [
    "def f(coins: list, amount: int):\n",
    "    # dp[i] 凑i所需最少硬币数 i:[0,amount]\n",
    "    dp = [float('inf')] * (amount + 1)\n",
    "    dp[0] = 0\n",
    "    for c in coins:\n",
    "        for i in range(1, amount + 1):\n",
    "            if c <= i:\n",
    "                dp[i] = min(dp[i], dp[i - c] + 1)\n",
    "    return r if (r := dp[-1]) != float('inf') else -1\n",
    "\n",
    "\n",
    "f([1, 2, 5], 11)\n"
   ]
  },
  {
   "cell_type": "code",
   "execution_count": 8,
   "metadata": {},
   "outputs": [
    {
     "data": {
      "text/plain": [
       "(3, -1)"
      ]
     },
     "execution_count": 8,
     "metadata": {},
     "output_type": "execute_result"
    }
   ],
   "source": [
    "def f(coins: list, amount: int):\n",
    "    # dp[i][j] 有i枚硬币凑j所需最少硬币数 i:[0,len] j:[0,amount]\n",
    "    dp = [[0] * (amount + 1) for _ in range(len(coins) + 1)]\n",
    "    for j in range(amount + 1):\n",
    "        dp[0][j] = float('inf')\n",
    "    for i in range(len(coins) + 1):\n",
    "        dp[i][0] = 0\n",
    "    for i in range(1, len(coins) + 1):\n",
    "        for j in range(1, amount + 1):\n",
    "            curCoin = coins[i - 1]\n",
    "            if curCoin > j:  # 只能不用这枚硬币\n",
    "                dp[i][j] = dp[i - 1][j]\n",
    "            else:\n",
    "                dp[i][j] = min(dp[i - 1][j], dp[i][j - curCoin] + 1)\n",
    "    return r if (r := dp[-1][-1]) != float('inf') else -1\n",
    "\n",
    "\n",
    "f([1, 2, 5], 11), f([2], 3)\n"
   ]
  },
  {
   "cell_type": "code",
   "execution_count": null,
   "metadata": {},
   "outputs": [],
   "source": []
  }
 ],
 "metadata": {
  "interpreter": {
   "hash": "aee8b7b246df8f9039afb4144a1f6fd8d2ca17a180786b69acc140d282b71a49"
  },
  "kernelspec": {
   "display_name": "Python 3.10.1 64-bit",
   "language": "python",
   "name": "python3"
  },
  "language_info": {
   "codemirror_mode": {
    "name": "ipython",
    "version": 3
   },
   "file_extension": ".py",
   "mimetype": "text/x-python",
   "name": "python",
   "nbconvert_exporter": "python",
   "pygments_lexer": "ipython3",
   "version": "3.10.1"
  },
  "orig_nbformat": 4
 },
 "nbformat": 4,
 "nbformat_minor": 2
}
