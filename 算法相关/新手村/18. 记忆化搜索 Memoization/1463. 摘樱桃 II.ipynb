{
 "cells": [
  {
   "cell_type": "code",
   "execution_count": 1,
   "metadata": {},
   "outputs": [
    {
     "data": {
      "text/plain": [
       "24"
      ]
     },
     "execution_count": 1,
     "metadata": {},
     "output_type": "execute_result"
    }
   ],
   "source": [
    "from typing import List\n",
    "from functools import lru_cache\n",
    "\n",
    "\n",
    "class Solution:\n",
    "    def cherryPickup(self, grid: List[List[int]]) -> int:\n",
    "        rows, cols = len(grid), len(grid[0])\n",
    "\n",
    "        @lru_cache(None)\n",
    "        def dfs(r1, c1, r2, c2):\n",
    "            if r1 < 0 or r2 < 0 or c1 < 0 or c2 < 0 or r1 > rows - 1 or r2 > rows - 1 or c1 > cols - 1 or c2 > cols - 1:\n",
    "                return float('-inf')\n",
    "            if r1 == rows - 1:\n",
    "                return grid[r1][c1] if (r1, c1) == (r2, c2) else grid[r1][c1] + grid[r2][c2]\n",
    "            ans = 0\n",
    "            if (r1, c1) == (r2, c2):\n",
    "                ans += grid[r1][c1]\n",
    "            else:\n",
    "                ans += grid[r1][c1] + grid[r2][c2]\n",
    "            tmp = float('-inf')\n",
    "            for nr1, nc1 in ((r1 + 1, c1 - 1), (r1 + 1, c1), (r1 + 1, c1 + 1)):\n",
    "                for nr2, nc2 in ((r2 + 1, c2 - 1), (r2 + 1, c2), (r2 + 1, c2 + 1)):\n",
    "                    tmp = max(tmp, dfs(nr1, nc1, nr2, nc2))\n",
    "            ans += tmp\n",
    "            return ans\n",
    "\n",
    "        return dfs(0, 0, 0, cols - 1)\n",
    "\n",
    "\n",
    "s = Solution()\n",
    "s.cherryPickup([[3, 1, 1], [2, 5, 1], [1, 5, 5], [2, 1, 1]])\n"
   ]
  },
  {
   "cell_type": "code",
   "execution_count": 3,
   "metadata": {},
   "outputs": [
    {
     "data": {
      "text/plain": [
       "24"
      ]
     },
     "execution_count": 3,
     "metadata": {},
     "output_type": "execute_result"
    }
   ],
   "source": [
    "from typing import List\n",
    "from functools import lru_cache\n",
    "\n",
    "\n",
    "class Solution:\n",
    "    def cherryPickup(self, grid: List[List[int]]) -> int:\n",
    "        rows, cols = len(grid), len(grid[0])\n",
    "\n",
    "        @lru_cache(None)\n",
    "        def dfs(r, c1, c2):\n",
    "            if r < 0 or c1 < 0 or c2 < 0 or r > rows - 1 or c1 > cols - 1 or c2 > cols - 1:\n",
    "                return float('-inf')\n",
    "            if r == rows - 1:\n",
    "                return grid[r][c1] if c1 == c2 else grid[r][c1] + grid[r][c2]\n",
    "            ans = 0\n",
    "            if c1 == c2:\n",
    "                ans += grid[r][c1]\n",
    "            else:\n",
    "                ans += grid[r][c1] + grid[r][c2]\n",
    "            tmp = float('-inf')\n",
    "            for nc1 in (c1 - 1, c1, c1 + 1):\n",
    "                for nc2 in (c2 - 1, c2, c2 + 1):\n",
    "                    tmp = max(tmp, dfs(r + 1, nc1, nc2))\n",
    "            ans += tmp\n",
    "            return ans\n",
    "\n",
    "        return dfs(0, 0, cols - 1)\n",
    "\n",
    "\n",
    "s = Solution()\n",
    "s.cherryPickup([[3, 1, 1], [2, 5, 1], [1, 5, 5], [2, 1, 1]])\n"
   ]
  },
  {
   "cell_type": "code",
   "execution_count": 4,
   "metadata": {},
   "outputs": [
    {
     "data": {
      "text/plain": [
       "24"
      ]
     },
     "execution_count": 4,
     "metadata": {},
     "output_type": "execute_result"
    }
   ],
   "source": [
    "from typing import List\n",
    "from functools import lru_cache\n",
    "\n",
    "\n",
    "class Solution:\n",
    "    def cherryPickup(self, grid: List[List[int]]) -> int:\n",
    "        rows, cols = len(grid), len(grid[0])\n",
    "\n",
    "        @lru_cache(None)\n",
    "        def dfs(r, c1, c2):\n",
    "            if r < 0 or c1 < 0 or c2 < 0 or r > rows - 1 or c1 > cols - 1 or c2 > cols - 1:\n",
    "                return float('-inf')\n",
    "            if c1 > c2: # 保证c1一直在c2左边\n",
    "                return float('-inf')\n",
    "            if r == rows - 1:\n",
    "                return grid[r][c1] if c1 == c2 else grid[r][c1] + grid[r][c2]\n",
    "            ans = 0\n",
    "            if c1 == c2:\n",
    "                ans += grid[r][c1]\n",
    "            else:\n",
    "                ans += grid[r][c1] + grid[r][c2]\n",
    "            tmp = float('-inf')\n",
    "            for nc1 in (c1 - 1, c1, c1 + 1):\n",
    "                for nc2 in (c2 - 1, c2, c2 + 1):\n",
    "                    tmp = max(tmp, dfs(r + 1, nc1, nc2))\n",
    "            ans += tmp\n",
    "            return ans\n",
    "\n",
    "        return dfs(0, 0, cols - 1)\n",
    "\n",
    "\n",
    "s = Solution()\n",
    "s.cherryPickup([[3, 1, 1], [2, 5, 1], [1, 5, 5], [2, 1, 1]])\n"
   ]
  },
  {
   "cell_type": "code",
   "execution_count": null,
   "metadata": {},
   "outputs": [],
   "source": [
    "class Solution:\n",
    "    def cherryPickup(self, grid: List[List[int]]) -> int:\n",
    "        # j-1, j, j+1\n",
    "        m = len(grid)\n",
    "        n = len(grid[0])\n",
    "\n",
    "        @lru_cache(None)\n",
    "        def cherryPickup(row, i, j):\n",
    "            # i -> robot1, j -> robot2.\n",
    "            if row == m: return 0\n",
    "            res = 0\n",
    "            for r2 in range(max(0, j - 1), min(j + 2, n)):\n",
    "                for r1 in range(max(0, i - 1), min(i + 2, n)):\n",
    "                    res = max(res, cherryPickup(row + 1, r1, r2))\n",
    "            res += grid[row][i] + grid[row][j]\n",
    "            if i == j: res -= grid[row][i]\n",
    "            return res\n",
    "\n",
    "        return cherryPickup(0, 0, n - 1)\n",
    "\n",
    "\n",
    "# 作者：reylax\n",
    "# 链接：https://leetcode.cn/problems/cherry-pickup-ii/solution/zi-ding-xiang-xia-zi-di-xiang-shang-yi-kan-jiu-don/\n",
    "# 来源：力扣（LeetCode）\n",
    "# 著作权归作者所有。商业转载请联系作者获得授权，非商业转载请注明出处。"
   ]
  }
 ],
 "metadata": {
  "kernelspec": {
   "display_name": "Python 3.8.10 64-bit",
   "language": "python",
   "name": "python3"
  },
  "language_info": {
   "codemirror_mode": {
    "name": "ipython",
    "version": 3
   },
   "file_extension": ".py",
   "mimetype": "text/x-python",
   "name": "python",
   "nbconvert_exporter": "python",
   "pygments_lexer": "ipython3",
   "version": "3.8.10"
  },
  "orig_nbformat": 4,
  "vscode": {
   "interpreter": {
    "hash": "570feb405e2e27c949193ac68f46852414290d515b0ba6e5d90d076ed2284471"
   }
  }
 },
 "nbformat": 4,
 "nbformat_minor": 2
}
