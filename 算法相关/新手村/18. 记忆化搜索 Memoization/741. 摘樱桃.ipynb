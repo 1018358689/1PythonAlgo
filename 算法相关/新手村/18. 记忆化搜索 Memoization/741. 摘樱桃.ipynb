{
 "cells": [
  {
   "cell_type": "code",
   "execution_count": 3,
   "metadata": {},
   "outputs": [
    {
     "data": {
      "text/plain": [
       "5"
      ]
     },
     "execution_count": 3,
     "metadata": {},
     "output_type": "execute_result"
    }
   ],
   "source": [
    "from typing import List\n",
    "from functools import lru_cache\n",
    "\n",
    "\n",
    "class Solution:\n",
    "    def cherryPickup(self, grid: List[List[int]]) -> int:\n",
    "        rows, cols = len(grid), len(grid[0])\n",
    "\n",
    "        @lru_cache(None)\n",
    "        def dfs(r1, c1, r2, c2):\n",
    "            # r1+c1=r2+c2\n",
    "            if r1 < 0 or r2 < 0 or c1 < 0 or c2 < 0 or r1 > rows - 1 or r2 > rows - 1 or c1 > cols - 1 or c2 > cols - 1:\n",
    "                return float('-inf')\n",
    "            if grid[r1][c1] == -1 or grid[r2][c2] == -1:\n",
    "                return float('-inf')\n",
    "            if (r1, c1) == (rows - 1, cols - 1):\n",
    "                return grid[r1][c1]\n",
    "            ans = 0\n",
    "            if (r1, c1) == (r2, c2):\n",
    "                ans += grid[r1][c1]\n",
    "            else:\n",
    "                ans += grid[r1][c1] + grid[r2][c2]\n",
    "            ans += max(dfs(r1 + 1, c1, r2 + 1, c2), dfs(r1, c1 + 1, r2, c2 + 1), dfs(r1 + 1, c1, r2, c2 + 1), dfs(r1, c1 + 1, r2 + 1, c2))\n",
    "            return ans\n",
    "\n",
    "        return max(0, dfs(0, 0, 0, 0))\n",
    "\n",
    "\n",
    "s = Solution()\n",
    "s.cherryPickup([[0, 1, -1], [1, 0, -1], [1, 1, 1]])\n"
   ]
  },
  {
   "cell_type": "code",
   "execution_count": null,
   "metadata": {},
   "outputs": [],
   "source": []
  }
 ],
 "metadata": {
  "kernelspec": {
   "display_name": "Python 3.8.10 64-bit",
   "language": "python",
   "name": "python3"
  },
  "language_info": {
   "codemirror_mode": {
    "name": "ipython",
    "version": 3
   },
   "file_extension": ".py",
   "mimetype": "text/x-python",
   "name": "python",
   "nbconvert_exporter": "python",
   "pygments_lexer": "ipython3",
   "version": "3.8.10"
  },
  "orig_nbformat": 4,
  "vscode": {
   "interpreter": {
    "hash": "570feb405e2e27c949193ac68f46852414290d515b0ba6e5d90d076ed2284471"
   }
  }
 },
 "nbformat": 4,
 "nbformat_minor": 2
}
