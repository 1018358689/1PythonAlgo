{
 "cells": [
  {
   "cell_type": "code",
   "execution_count": null,
   "metadata": {},
   "outputs": [],
   "source": [
    "class Solution:\n",
    "\n",
    "    def maxMoves(self, grid: List[List[int]]) -> int:\n",
    "        m, n = len(grid), len(grid[0])\n",
    "\n",
    "        f = [0] * m\n",
    "        for j in range(n - 2, -1, -1):  # n-1均为0\n",
    "            tmp = [0] * m\n",
    "            for i in range(m):\n",
    "                x = grid[i][j]\n",
    "                for ni in range(max(0, i - 1), min(m - 1, i + 1) + 1):\n",
    "                    if grid[ni][j + 1] > x:\n",
    "                        tmp[i] = max(tmp[i], 1 + f[ni])\n",
    "            f = tmp[:]\n",
    "        return max(f)\n",
    "\n",
    "        # # 可以发现j从j+1转移 因此j要倒着来 且可以消去 i从[i-1,i+1]转移\n",
    "        # f = [[0] * m for _ in range(n)]\n",
    "        # for j in range(n - 2, -1, -1): # n-1均为0\n",
    "        #     for i in range(m):\n",
    "        #         x = grid[i][j]\n",
    "        #         for ni in range(max(0, i - 1), min(m - 1, i + 1) + 1):\n",
    "        #             if grid[ni][j + 1] > x:\n",
    "        #                 f[j][i] = max(f[j][i], 1 + f[j + 1][ni])\n",
    "        # return max(f[0])\n",
    "\n",
    "        # @lru_cache(None)\n",
    "        # def dfs(i, j): # 从(i,j)出发的最大移动次数\n",
    "        #     if j == n - 1: return 0\n",
    "        #     ans = 0\n",
    "        #     x = grid[i][j]\n",
    "        #     for ni in range(max(0, i - 1), min(m - 1, i + 1) + 1):\n",
    "        #         if grid[ni][j + 1] > x:\n",
    "        #             ans = max(ans, 1 + dfs(ni, j + 1))\n",
    "        #     return ans\n",
    "        # return max(dfs(i, 0) for i in range(m))\n"
   ]
  },
  {
   "cell_type": "code",
   "execution_count": null,
   "metadata": {},
   "outputs": [],
   "source": [
    "class Solution:\n",
    "    def maxMoves(self, grid: List[List[int]]) -> int:\n",
    "        rows, cols = len(grid), len(grid[0])\n",
    "        # 利用bfs看能最远到哪里\n",
    "        q = deque([(r, 0) for r in range(rows)])\n",
    "        vis = set()\n",
    "        step = -1\n",
    "        while q:\n",
    "            for _ in range(len(q)):\n",
    "                r, c = q.popleft()\n",
    "                if c == cols - 1: return cols - 1\n",
    "                for nr in range(max(0, r - 1), min(rows - 1, r + 1) + 1):\n",
    "                    if grid[nr][c + 1] > grid[r][c] and (nr, c + 1) not in vis:\n",
    "                        vis.add((nr, c + 1))\n",
    "                        q.append((nr, c + 1))\n",
    "            step += 1\n",
    "        return step"
   ]
  },
  {
   "cell_type": "code",
   "execution_count": 3,
   "metadata": {},
   "outputs": [
    {
     "data": {
      "text/plain": [
       "True"
      ]
     },
     "execution_count": 3,
     "metadata": {},
     "output_type": "execute_result"
    }
   ],
   "source": [
    "a = [1,1,0,0]\n",
    "b = [-1,1,1,0]\n",
    "a > b"
   ]
  },
  {
   "cell_type": "code",
   "execution_count": null,
   "metadata": {},
   "outputs": [],
   "source": []
  }
 ],
 "metadata": {
  "kernelspec": {
   "display_name": "Python 3",
   "language": "python",
   "name": "python3"
  },
  "language_info": {
   "codemirror_mode": {
    "name": "ipython",
    "version": 3
   },
   "file_extension": ".py",
   "mimetype": "text/x-python",
   "name": "python",
   "nbconvert_exporter": "python",
   "pygments_lexer": "ipython3",
   "version": "3.10.5"
  },
  "orig_nbformat": 4
 },
 "nbformat": 4,
 "nbformat_minor": 2
}
