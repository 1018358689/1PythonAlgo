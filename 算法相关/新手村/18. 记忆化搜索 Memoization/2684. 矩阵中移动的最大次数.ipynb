{
 "cells": [
  {
   "cell_type": "code",
   "execution_count": null,
   "metadata": {},
   "outputs": [],
   "source": [
    "class Solution:\n",
    "    def maxMoves(self, grid: List[List[int]]) -> int:\n",
    "        rows, cols = len(grid), len(grid[0])\n",
    "        f = [0] * rows\n",
    "        for j in range(cols - 2, -1, -1):\n",
    "            tmp = [0] * rows\n",
    "            for i in range(rows):\n",
    "                for ni in range(max(0, i - 1), min(rows - 1, i + 1) + 1):\n",
    "                    if grid[ni][j + 1] > grid[i][j]:\n",
    "                        tmp[i] = max(tmp[i], f[ni] + 1)\n",
    "            f = tmp\n",
    "        return max(f)\n",
    "        # @lru_cache(None)\n",
    "        # def dfs(i, j): # (i,j)出发的最大移动次数\n",
    "        #     if j == cols - 1:\n",
    "        #         return 0\n",
    "        #     ans = 0\n",
    "        #     for ni in range(max(0, i - 1), min(rows - 1, i + 1) + 1):\n",
    "        #         if grid[ni][j + 1] > grid[i][j]:\n",
    "        #             ans = max(ans, dfs(ni, j + 1) + 1)\n",
    "        #     return ans\n",
    "        # return max(dfs(i, 0) for i in range(rows))"
   ]
  },
  {
   "cell_type": "code",
   "execution_count": null,
   "metadata": {},
   "outputs": [],
   "source": [
    "class Solution:\n",
    "    def maxMoves(self, grid: List[List[int]]) -> int:\n",
    "        rows, cols = len(grid), len(grid[0])\n",
    "        # 利用bfs看能最远到哪里\n",
    "        q = deque([(r, 0) for r in range(rows)])\n",
    "        vis = set()\n",
    "        step = -1\n",
    "        while q:\n",
    "            for _ in range(len(q)):\n",
    "                r, c = q.popleft()\n",
    "                if c == cols - 1: return cols - 1\n",
    "                for nr in range(max(0, r - 1), min(rows - 1, r + 1) + 1):\n",
    "                    if grid[nr][c + 1] > grid[r][c] and (nr, c + 1) not in vis:\n",
    "                        vis.add((nr, c + 1))\n",
    "                        q.append((nr, c + 1))\n",
    "            step += 1\n",
    "        return step"
   ]
  }
 ],
 "metadata": {
  "language_info": {
   "name": "python"
  },
  "orig_nbformat": 4
 },
 "nbformat": 4,
 "nbformat_minor": 2
}
