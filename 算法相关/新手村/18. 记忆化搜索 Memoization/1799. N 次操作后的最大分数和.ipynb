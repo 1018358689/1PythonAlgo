{
 "cells": [
  {
   "cell_type": "code",
   "execution_count": 1,
   "metadata": {},
   "outputs": [
    {
     "data": {
      "text/plain": [
       "11"
      ]
     },
     "execution_count": 1,
     "metadata": {},
     "output_type": "execute_result"
    }
   ],
   "source": [
    "from math import gcd\n",
    "from typing import List\n",
    "from functools import lru_cache\n",
    "\n",
    "\n",
    "class Solution:\n",
    "\n",
    "    def maxScore(self, nums: List[int]) -> int:\n",
    "        n = len(nums)\n",
    "\n",
    "        @lru_cache(None)\n",
    "        def dfs(state, cnt):  # 当前状态 及 当前编号 的最大分数和\n",
    "            if not state:\n",
    "                return 0\n",
    "            # 可选位置\n",
    "            remain = []\n",
    "            for i in range(n):\n",
    "                if (1 << i) & state:\n",
    "                    remain.append(i)\n",
    "            # 选出两个\n",
    "            res = 0\n",
    "            for i in range(len(remain) - 1):\n",
    "                for j in range(i + 1, len(remain)):\n",
    "                    x, y = remain[i], remain[j]\n",
    "                    choose = (1 << x) | (1 << y)\n",
    "                    res = max(res, cnt * gcd(nums[x], nums[y]) + dfs(state - choose, cnt + 1))\n",
    "            return res\n",
    "\n",
    "        return dfs((1 << n) - 1, 1)\n",
    "\n",
    "\n",
    "s = Solution()\n",
    "s.maxScore([3, 4, 6, 8])\n"
   ]
  },
  {
   "cell_type": "code",
   "execution_count": null,
   "metadata": {},
   "outputs": [],
   "source": []
  }
 ],
 "metadata": {
  "kernelspec": {
   "display_name": "Python 3",
   "language": "python",
   "name": "python3"
  },
  "language_info": {
   "codemirror_mode": {
    "name": "ipython",
    "version": 3
   },
   "file_extension": ".py",
   "mimetype": "text/x-python",
   "name": "python",
   "nbconvert_exporter": "python",
   "pygments_lexer": "ipython3",
   "version": "3.11.1"
  },
  "orig_nbformat": 4,
  "vscode": {
   "interpreter": {
    "hash": "ff4b1fca65a764b45acb559e482afe389d289dd599b9f8c5fd12ff5c2ea46a65"
   }
  }
 },
 "nbformat": 4,
 "nbformat_minor": 2
}
