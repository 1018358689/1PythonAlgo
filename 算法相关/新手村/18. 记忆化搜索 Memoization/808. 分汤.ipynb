{
 "cells": [
  {
   "cell_type": "code",
   "execution_count": null,
   "metadata": {},
   "outputs": [],
   "source": [
    "# https://leetcode.cn/problems/soup-servings/solution/by-lcbin-44pu/"
   ]
  },
  {
   "cell_type": "code",
   "execution_count": null,
   "metadata": {},
   "outputs": [],
   "source": [
    "from functools import lru_cache\n",
    "\n",
    "\n",
    "class Solution:\n",
    "\n",
    "    def soupServings(self, n: int) -> float:\n",
    "\n",
    "        @lru_cache(None)\n",
    "        def dfs(i, j):  # 汤A剩余i毫升 汤B剩余j毫升 的概率\n",
    "            if i <= 0 and j <= 0:\n",
    "                return 1 / 2\n",
    "            elif i <= 0:\n",
    "                return 1\n",
    "            elif j <= 0:\n",
    "                return 0\n",
    "            return 1 / 4 * (dfs(i - 100, j) + dfs(i - 75, j - 25) + dfs(i - 50, j - 50) + dfs(i - 25, j - 75))\n",
    "\n",
    "        return 1 if n > 4800 else dfs(n, n)\n"
   ]
  }
 ],
 "metadata": {
  "language_info": {
   "name": "python"
  },
  "orig_nbformat": 4
 },
 "nbformat": 4,
 "nbformat_minor": 2
}
