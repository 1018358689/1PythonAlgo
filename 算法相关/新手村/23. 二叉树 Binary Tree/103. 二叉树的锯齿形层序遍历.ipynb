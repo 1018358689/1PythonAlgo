{
 "cells": [
  {
   "cell_type": "code",
   "execution_count": null,
   "metadata": {},
   "outputs": [],
   "source": [
    "# Definition for a binary tree node.\n",
    "class TreeNode:\n",
    "\n",
    "    def __init__(self, val=0, left=None, right=None):\n",
    "        self.val = val\n",
    "        self.left = left\n",
    "        self.right = right\n",
    "\n",
    "\n",
    "from typing import Optional, List\n",
    "from collections import deque\n",
    "\n",
    "\n",
    "class Solution:\n",
    "\n",
    "    def zigzagLevelOrder(self, root: Optional[TreeNode]) -> List[List[int]]:\n",
    "        if not root:\n",
    "            return []\n",
    "        sig = 1\n",
    "        q = deque([root])\n",
    "        ans = []\n",
    "        while q:\n",
    "            tmp = []\n",
    "            for _ in range(len(q)):\n",
    "                cur = q.popleft()\n",
    "                tmp.append(cur.val)\n",
    "                if cur.left: q.append(cur.left)\n",
    "                if cur.right: q.append(cur.right)\n",
    "            ans.append(tmp[::sig])\n",
    "            sig *= -1\n",
    "        return ans"
   ]
  }
 ],
 "metadata": {
  "language_info": {
   "name": "python"
  },
  "orig_nbformat": 4
 },
 "nbformat": 4,
 "nbformat_minor": 2
}
