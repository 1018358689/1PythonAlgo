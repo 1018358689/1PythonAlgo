{
 "cells": [
  {
   "cell_type": "code",
   "execution_count": null,
   "metadata": {},
   "outputs": [],
   "source": [
    "# Definition for singly-linked list.\n",
    "# class ListNode:\n",
    "#     def __init__(self, val=0, next=None):\n",
    "#         self.val = val\n",
    "#         self.next = next\n",
    "# Definition for a binary tree node.\n",
    "# class TreeNode:\n",
    "#     def __init__(self, val=0, left=None, right=None):\n",
    "#         self.val = val\n",
    "#         self.left = left\n",
    "#         self.right = right\n",
    "class Solution:\n",
    "\n",
    "    def isSubPath(self, head: Optional[ListNode], root: Optional[TreeNode]) -> bool:\n",
    "\n",
    "        def check(x, p):  # 以x为根 为起点 是否与p重合\n",
    "            if not p: return True\n",
    "            if not x or x.val != p.val: return False\n",
    "            return check(x.left, p.next) or check(x.right, p.next)\n",
    "\n",
    "        def dfs(x):  # 以x为根整棵树 是否有与p重合\n",
    "            if not x: return False\n",
    "            if x.val == head.val and check(x, head):\n",
    "                return True\n",
    "            return dfs(x.left) or dfs(x.right)\n",
    "\n",
    "        return dfs(root)\n"
   ]
  },
  {
   "cell_type": "code",
   "execution_count": 1,
   "metadata": {},
   "outputs": [
    {
     "name": "stdout",
     "output_type": "stream",
     "text": [
      "(3, 1, 2)\n",
      "(2, 7, 7)\n",
      "(1, 6, 7)\n"
     ]
    }
   ],
   "source": [
    "grid = [[3,2,1],[1,7,6],[2,7,7]]\n",
    "for col in zip(*grid):\n",
    "    print(col)"
   ]
  },
  {
   "cell_type": "code",
   "execution_count": null,
   "metadata": {},
   "outputs": [],
   "source": []
  }
 ],
 "metadata": {
  "kernelspec": {
   "display_name": "Python 3.10.6 64-bit",
   "language": "python",
   "name": "python3"
  },
  "language_info": {
   "codemirror_mode": {
    "name": "ipython",
    "version": 3
   },
   "file_extension": ".py",
   "mimetype": "text/x-python",
   "name": "python",
   "nbconvert_exporter": "python",
   "pygments_lexer": "ipython3",
   "version": "3.10.5"
  },
  "orig_nbformat": 4,
  "vscode": {
   "interpreter": {
    "hash": "dfbf064e0f2c8839bc658dd75dfc0b8f09a0440078cae3024109b27659b69d06"
   }
  }
 },
 "nbformat": 4,
 "nbformat_minor": 2
}
