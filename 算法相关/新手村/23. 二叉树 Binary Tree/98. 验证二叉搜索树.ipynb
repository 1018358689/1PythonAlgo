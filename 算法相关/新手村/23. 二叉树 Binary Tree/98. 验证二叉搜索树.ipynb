{
 "cells": [
  {
   "cell_type": "code",
   "execution_count": null,
   "metadata": {},
   "outputs": [],
   "source": [
    "# Definition for a binary tree node.\n",
    "class TreeNode:\n",
    "\n",
    "    def __init__(self, val=0, left=None, right=None):\n",
    "        self.val = val\n",
    "        self.left = left\n",
    "        self.right = right\n",
    "\n",
    "\n",
    "from math import inf\n",
    "from typing import Optional\n",
    "\n",
    "\n",
    "class Solution:\n",
    "\n",
    "    def isValidBST(self, root: Optional[TreeNode]) -> bool:\n",
    "\n",
    "        def dfs(o):  # 返回以o为根的最小值和最大值\n",
    "            if not o:\n",
    "                return inf, -inf  # 因为当前要大于左子树最大值 小于右子树最小值\n",
    "            lmn, lmx = dfs(o.left)\n",
    "            rmn, rmx = dfs(o.right)\n",
    "            x = o.val\n",
    "            if x <= lmx or x >= rmn:\n",
    "                return -inf, inf  # 使得恒不成立\n",
    "            return min(lmn, x), max(rmx, x)\n",
    "\n",
    "        return dfs(root) != (-inf, inf)"
   ]
  },
  {
   "cell_type": "code",
   "execution_count": 1,
   "metadata": {},
   "outputs": [],
   "source": [
    "# Definition for a binary tree node.\n",
    "class TreeNode:\n",
    "\n",
    "    def __init__(self, val=0, left=None, right=None):\n",
    "        self.val = val\n",
    "        self.left = left\n",
    "        self.right = right\n",
    "\n",
    "\n",
    "from typing import Optional\n",
    "\n",
    "# 根据bst特性 单调递增\n",
    "class Solution:\n",
    "\n",
    "    def isValidBST(self, root: Optional[TreeNode]) -> bool:\n",
    "        pre = float('-inf')\n",
    "\n",
    "        def dfs(root):\n",
    "            nonlocal pre\n",
    "            if not root:\n",
    "                return\n",
    "            if dfs(root.left): return True\n",
    "            if pre >= root.val:\n",
    "                return True\n",
    "            else:\n",
    "                pre = root.val\n",
    "            if dfs(root.right): return True\n",
    "\n",
    "        return not dfs(root)"
   ]
  },
  {
   "cell_type": "code",
   "execution_count": null,
   "metadata": {},
   "outputs": [],
   "source": [
    "# Definition for a binary tree node.\n",
    "class TreeNode:\n",
    "\n",
    "    def __init__(self, val=0, left=None, right=None):\n",
    "        self.val = val\n",
    "        self.left = left\n",
    "        self.right = right\n",
    "\n",
    "\n",
    "from typing import Optional\n",
    "\n",
    "\n",
    "class Solution:\n",
    "\n",
    "    def isValidBST(self, root: Optional[TreeNode]) -> bool:\n",
    "\n",
    "        def dfs(root, low, high):  # root为根的树在(low,high)范围内\n",
    "            if not root:\n",
    "                return True\n",
    "            if root.val <= low or root.val >= high:\n",
    "                return False\n",
    "            return dfs(root.left, low, root.val) and dfs(root.right, root.val, high)\n",
    "\n",
    "        return dfs(root, float('-inf'), float('inf'))\n"
   ]
  }
 ],
 "metadata": {
  "kernelspec": {
   "display_name": "Python 3.10.6 64-bit",
   "language": "python",
   "name": "python3"
  },
  "language_info": {
   "codemirror_mode": {
    "name": "ipython",
    "version": 3
   },
   "file_extension": ".py",
   "mimetype": "text/x-python",
   "name": "python",
   "nbconvert_exporter": "python",
   "pygments_lexer": "ipython3",
   "version": "3.10.6"
  },
  "orig_nbformat": 4,
  "vscode": {
   "interpreter": {
    "hash": "dfbf064e0f2c8839bc658dd75dfc0b8f09a0440078cae3024109b27659b69d06"
   }
  }
 },
 "nbformat": 4,
 "nbformat_minor": 2
}
