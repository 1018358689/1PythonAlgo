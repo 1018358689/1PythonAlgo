{
 "cells": [
  {
   "cell_type": "code",
   "execution_count": null,
   "metadata": {},
   "outputs": [],
   "source": [
    "# Definition for a binary tree node.\n",
    "from collections import deque\n",
    "\n",
    "\n",
    "class TreeNode:\n",
    "    def __init__(self, val=0, left=None, right=None):\n",
    "        self.val = val\n",
    "        self.left = left\n",
    "        self.right = right\n",
    "\n",
    "\n",
    "class CBTInserter:\n",
    "\n",
    "    def __init__(self, root: TreeNode):\n",
    "        q = deque([root])\n",
    "        self.l = []\n",
    "        while q:\n",
    "            cur = q.popleft()\n",
    "            self.l.append(cur)\n",
    "            if cur.left:\n",
    "                q.append(cur.left)\n",
    "            if cur.right:\n",
    "                q.append(cur.right)\n",
    "\n",
    "    def insert(self, val: int) -> int:\n",
    "        node = TreeNode(val)\n",
    "        idx = len(self.l)\n",
    "        self.l.append(node)\n",
    "        pidx = idx-1 >> 1\n",
    "        parent = self.l[pidx]\n",
    "        if parent.left:\n",
    "            parent.right = node\n",
    "        else:\n",
    "            parent.left = node\n",
    "        return parent.val\n",
    "\n",
    "    def get_root(self) -> TreeNode:\n",
    "        return self.l[0]\n",
    "\n",
    "\n",
    "# Your CBTInserter object will be instantiated and called as such:\n",
    "# obj = CBTInserter(root)\n",
    "# param_1 = obj.insert(val)\n",
    "# param_2 = obj.get_root()\n"
   ]
  }
 ],
 "metadata": {
  "kernelspec": {
   "display_name": "Python 3.10.5 64-bit",
   "language": "python",
   "name": "python3"
  },
  "language_info": {
   "name": "python",
   "version": "3.10.5"
  },
  "orig_nbformat": 4,
  "vscode": {
   "interpreter": {
    "hash": "3196968d684371006099b3d55edeef8ed90365227a30deaef86e5d4aa8519be0"
   }
  }
 },
 "nbformat": 4,
 "nbformat_minor": 2
}
