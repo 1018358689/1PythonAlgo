{
 "cells": [
  {
   "cell_type": "code",
   "execution_count": null,
   "metadata": {},
   "outputs": [],
   "source": [
    "# Definition for a binary tree node.\n",
    "# class TreeNode:\n",
    "#     def __init__(self, val=0, left=None, right=None):\n",
    "#         self.val = val\n",
    "#         self.left = left\n",
    "#         self.right = right\n",
    "class Solution:\n",
    "\n",
    "    def subtreeWithAllDeepest(self, root: TreeNode) -> TreeNode:\n",
    "        q = deque([root])\n",
    "        while q:\n",
    "            nodes = list(q)\n",
    "            for _ in range(len(q)):\n",
    "                x = q.popleft()\n",
    "                if x.left: q.append(x.left)\n",
    "                if x.right: q.append(x.right)\n",
    "        ha = set(nodes) | {None}\n",
    "\n",
    "        def lca(root):\n",
    "            if root in ha:\n",
    "                return root\n",
    "            l, r = lca(root.left), lca(root.right)\n",
    "            if l and r: return root\n",
    "            return l if l else r\n",
    "\n",
    "        return lca(root)"
   ]
  },
  {
   "cell_type": "code",
   "execution_count": null,
   "metadata": {},
   "outputs": [],
   "source": [
    "# Definition for a binary tree node.\n",
    "# class TreeNode:\n",
    "#     def __init__(self, val=0, left=None, right=None):\n",
    "#         self.val = val\n",
    "#         self.left = left\n",
    "#         self.right = right\n",
    "class Solution:\n",
    "\n",
    "    def subtreeWithAllDeepest(self, root: TreeNode) -> TreeNode:\n",
    "        # 如果左右子树的深度一样，那么返回的是当前父节点；否则谁的深度更深就把谁给返回去。逻辑就是这个样子\n",
    "        def dfs(x):  # 返回lca和当前节点深度\n",
    "            if not x:\n",
    "                return x, 0\n",
    "            l, ld = dfs(x.left)\n",
    "            r, rd = dfs(x.right)\n",
    "            if ld == rd: return x, ld + 1\n",
    "            elif ld > rd: return l, ld + 1\n",
    "            else: return r, rd + 1\n",
    "\n",
    "        return dfs(root)[0]"
   ]
  }
 ],
 "metadata": {
  "language_info": {
   "name": "python"
  },
  "orig_nbformat": 4
 },
 "nbformat": 4,
 "nbformat_minor": 2
}
