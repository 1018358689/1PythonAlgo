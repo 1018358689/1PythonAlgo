{
 "cells": [
  {
   "cell_type": "code",
   "execution_count": null,
   "metadata": {},
   "outputs": [],
   "source": [
    "# Definition for a binary tree node.\n",
    "# class TreeNode:\n",
    "#     def __init__(self, val=0, left=None, right=None):\n",
    "#         self.val = val\n",
    "#         self.left = left\n",
    "#         self.right = right\n",
    "class Solution:\n",
    "    def sufficientSubset(self, root: Optional[TreeNode], limit: int) -> Optional[TreeNode]:\n",
    "        def dfs(o, s): # 当前节点和当前节点累计值 返回是否删除 None为删除 否则保留\n",
    "            if not o: return None\n",
    "            # 1.入o  累计和 & 判断叶子是否删除\n",
    "            s += o.val\n",
    "            if not o.left and not o.right: # 叶子节点符合条件就删除 否则保留\n",
    "                return None if s < limit else o\n",
    "            o.left = dfs(o.left, s)\n",
    "            o.right = dfs(o.right, s)\n",
    "            # 2.出o  判断子节点是否都删除\n",
    "            return None if not o.left and not o.right else o # 子节点都删除意味着符合条件\n",
    "        return dfs(root, 0) # 不能直接返回root 因为还没更新"
   ]
  },
  {
   "cell_type": "code",
   "execution_count": 2,
   "metadata": {},
   "outputs": [
    {
     "data": {
      "text/plain": [
       "('cd', ['a', 'b', 'c', 'd'])"
      ]
     },
     "execution_count": 2,
     "metadata": {},
     "output_type": "execute_result"
    }
   ],
   "source": [
    "s = 'abcd'\n",
    "s.replace('ab', ''), list(s)"
   ]
  },
  {
   "cell_type": "code",
   "execution_count": null,
   "metadata": {},
   "outputs": [],
   "source": []
  }
 ],
 "metadata": {
  "kernelspec": {
   "display_name": "yy",
   "language": "python",
   "name": "python3"
  },
  "language_info": {
   "codemirror_mode": {
    "name": "ipython",
    "version": 3
   },
   "file_extension": ".py",
   "mimetype": "text/x-python",
   "name": "python",
   "nbconvert_exporter": "python",
   "pygments_lexer": "ipython3",
   "version": "3.9.16"
  },
  "orig_nbformat": 4
 },
 "nbformat": 4,
 "nbformat_minor": 2
}
