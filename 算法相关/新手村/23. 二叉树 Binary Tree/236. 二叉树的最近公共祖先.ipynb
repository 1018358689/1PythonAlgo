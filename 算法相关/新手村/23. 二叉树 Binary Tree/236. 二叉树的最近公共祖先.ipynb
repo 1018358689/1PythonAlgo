{
 "cells": [
  {
   "cell_type": "code",
   "execution_count": null,
   "metadata": {},
   "outputs": [],
   "source": [
    "# https://mp.weixin.qq.com/s/njl6nuid0aalZdH5tuDpqQ"
   ]
  },
  {
   "cell_type": "code",
   "execution_count": null,
   "metadata": {},
   "outputs": [],
   "source": [
    "# Definition for a binary tree node.\n",
    "# 类似在二叉树查找p或q\n",
    "# 是一道经典题 值得思考\n",
    "class TreeNode:\n",
    "\n",
    "    def __init__(self, x):\n",
    "        self.val = x\n",
    "        self.left = None\n",
    "        self.right = None\n",
    "\n",
    "\n",
    "class Solution:\n",
    "\n",
    "    def lowestCommonAncestor(self, root: 'TreeNode', p: 'TreeNode', q: 'TreeNode') -> 'TreeNode':\n",
    "        if not root:\n",
    "            return None\n",
    "        if root == p or root == q:  # 如果遇到目标值，直接返回\n",
    "            return root\n",
    "        l, r = self.lowestCommonAncestor(root.left, p, q), self.lowestCommonAncestor(root.right, p, q)\n",
    "        if l and r:  # 左边右边都找到目标值 则返回根\n",
    "            return root\n",
    "        elif l and not r:  # 左边找到右边没找到 意味左边先找到p 而q在p的左右子树里\n",
    "            return l\n",
    "        elif not l and r:\n",
    "            return r\n",
    "        elif not l and not r:  # 都没找到\n",
    "            return None"
   ]
  }
 ],
 "metadata": {
  "language_info": {
   "name": "python"
  },
  "orig_nbformat": 4
 },
 "nbformat": 4,
 "nbformat_minor": 2
}
