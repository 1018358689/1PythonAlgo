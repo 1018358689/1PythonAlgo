{
 "cells": [
  {
   "cell_type": "code",
   "execution_count": 1,
   "metadata": {},
   "outputs": [],
   "source": [
    "# Definition for a binary tree node.\n",
    "from typing import Optional, List\n",
    "\n",
    "\n",
    "class TreeNode:\n",
    "\n",
    "    def __init__(self, val=0, left=None, right=None):\n",
    "        self.val = val\n",
    "        self.left = left\n",
    "        self.right = right\n",
    "\n",
    "\n",
    "class Solution:\n",
    "\n",
    "    def findDuplicateSubtrees(self, root: Optional[TreeNode]) -> List[Optional[TreeNode]]:\n",
    "        ha = {}\n",
    "        ans = []\n",
    "\n",
    "        def dfs(root):  # 返回root树的序列化\n",
    "            if not root:\n",
    "                return '#,'\n",
    "            l = dfs(root.left)\n",
    "            r = dfs(root.right)\n",
    "            cur = f'{l}{r}{root.val},'\n",
    "            if cur not in ha:\n",
    "                ha[cur] = 1\n",
    "            elif ha[cur] == 1:\n",
    "                ans.append(root)\n",
    "                ha[cur] += 1\n",
    "            return cur\n",
    "\n",
    "        dfs(root)\n",
    "        return ans"
   ]
  },
  {
   "cell_type": "code",
   "execution_count": null,
   "metadata": {},
   "outputs": [],
   "source": [
    "# Definition for a binary tree node.\n",
    "from typing import Optional, List\n",
    " # 这样是不行的\n",
    "\n",
    "class TreeNode:\n",
    "\n",
    "    def __init__(self, val=0, left=None, right=None):\n",
    "        self.val = val\n",
    "        self.left = left\n",
    "        self.right = right\n",
    "\n",
    "\n",
    "class Solution:\n",
    "\n",
    "    def findDuplicateSubtrees(self, root: Optional[TreeNode]) -> List[Optional[TreeNode]]:\n",
    "        ha = {}\n",
    "        ans = []\n",
    "\n",
    "        def dfs(root):  # 返回root树的序列化\n",
    "            if not root:\n",
    "                return\n",
    "            if root not in ha:\n",
    "                ha[root] = 1\n",
    "            elif ha[root] == 1:\n",
    "                ans.append(root)\n",
    "                ha[root] += 1\n",
    "            dfs(root.left)\n",
    "            dfs(root.right)\n",
    "\n",
    "        dfs(root)\n",
    "        return ans"
   ]
  }
 ],
 "metadata": {
  "interpreter": {
   "hash": "97367d2de1780ea7c502b529f25888c1b53c0430a7611816b6c7cf19d8435228"
  },
  "kernelspec": {
   "display_name": "Python 3.10.4 64-bit (windows store)",
   "language": "python",
   "name": "python3"
  },
  "language_info": {
   "codemirror_mode": {
    "name": "ipython",
    "version": 3
   },
   "file_extension": ".py",
   "mimetype": "text/x-python",
   "name": "python",
   "nbconvert_exporter": "python",
   "pygments_lexer": "ipython3",
   "version": "3.10.5"
  },
  "orig_nbformat": 4
 },
 "nbformat": 4,
 "nbformat_minor": 2
}
