{
 "cells": [
  {
   "cell_type": "code",
   "execution_count": 1,
   "metadata": {},
   "outputs": [],
   "source": [
    "# Definition for a binary tree node.\n",
    "from typing import List\n",
    "\n",
    "\n",
    "class TreeNode:\n",
    "\n",
    "    def __init__(self, val=0, left=None, right=None):\n",
    "        self.val = val\n",
    "        self.left = left\n",
    "        self.right = right\n",
    "\n",
    "\n",
    "class Solution:\n",
    "\n",
    "    def buildTree(self, preorder: List[int], inorder: List[int]) -> TreeNode:  # 根据前序中序构造二叉树返回根\n",
    "        if not preorder:\n",
    "            return None\n",
    "        root = TreeNode(preorder[0])\n",
    "        m = inorder.index(root.val)\n",
    "        l, r = self.buildTree(preorder[1:m + 1], inorder[:m]), self.buildTree(preorder[m + 1:], inorder[m + 1:])\n",
    "        root.left = l\n",
    "        root.right = r\n",
    "        return root"
   ]
  },
  {
   "cell_type": "code",
   "execution_count": 2,
   "metadata": {},
   "outputs": [],
   "source": [
    "# Definition for a binary tree node.\n",
    "from typing import List\n",
    "\n",
    "\n",
    "class TreeNode:\n",
    "\n",
    "    def __init__(self, val=0, left=None, right=None):\n",
    "        self.val = val\n",
    "        self.left = left\n",
    "        self.right = right\n",
    "\n",
    "\n",
    "class Solution:\n",
    "\n",
    "    def buildTree(self, preorder: List[int], inorder: List[int]) -> TreeNode:  # 根据前序中序构造二叉树返回根\n",
    "        ha = {}\n",
    "        for i, n in enumerate(inorder):\n",
    "            ha[n] = i\n",
    "\n",
    "        def dfs(l1, r1, l2, r2):\n",
    "            if l1 > r1:\n",
    "                return None\n",
    "            root = TreeNode(preorder[l1])\n",
    "            m = ha[root.val]\n",
    "            l, r = dfs(l1 + 1, m - l2 + l1, l2, m - 1), dfs(m - l2 + l1 + 1, r1, m + 1, r2)\n",
    "            root.left = l\n",
    "            root.right = r\n",
    "            return root\n",
    "\n",
    "        return dfs(0, len(preorder) - 1, 0, len(inorder) - 1)\n"
   ]
  },
  {
   "cell_type": "code",
   "execution_count": null,
   "metadata": {},
   "outputs": [],
   "source": [
    "# Definition for a binary tree node.\n",
    "from typing import List\n",
    "\n",
    "\n",
    "class TreeNode:\n",
    "\n",
    "    def __init__(self, val=0, left=None, right=None):\n",
    "        self.val = val\n",
    "        self.left = left\n",
    "        self.right = right\n",
    "\n",
    "\n",
    "class Solution:\n",
    "\n",
    "    def buildTree(self, preorder: List[int], inorder: List[int]) -> TreeNode:  # 根据前序中序构造二叉树返回根\n",
    "        ha = {}\n",
    "        for i, n in enumerate(inorder):\n",
    "            ha[n] = i\n",
    "\n",
    "        def dfs(l1, r1, l2, r2):\n",
    "            if l1 > r1:\n",
    "                return None\n",
    "            root = TreeNode(preorder[l1])\n",
    "            m = ha[root.val]\n",
    "            l, r = dfs(l1 + 1, r1 - r2 + m, l2, m - 1), dfs(r1 - r2 + m + 1, r1, m + 1, r2)\n",
    "            root.left = l\n",
    "            root.right = r\n",
    "            return root\n",
    "\n",
    "        return dfs(0, len(preorder) - 1, 0, len(inorder) - 1)\n"
   ]
  }
 ],
 "metadata": {
  "interpreter": {
   "hash": "97367d2de1780ea7c502b529f25888c1b53c0430a7611816b6c7cf19d8435228"
  },
  "kernelspec": {
   "display_name": "Python 3.10.4 64-bit (windows store)",
   "language": "python",
   "name": "python3"
  },
  "language_info": {
   "codemirror_mode": {
    "name": "ipython",
    "version": 3
   },
   "file_extension": ".py",
   "mimetype": "text/x-python",
   "name": "python",
   "nbconvert_exporter": "python",
   "pygments_lexer": "ipython3",
   "version": "3.10.4"
  },
  "orig_nbformat": 4
 },
 "nbformat": 4,
 "nbformat_minor": 2
}
