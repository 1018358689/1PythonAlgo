{
 "cells": [
  {
   "cell_type": "code",
   "execution_count": null,
   "metadata": {},
   "outputs": [],
   "source": [
    "# Definition for a binary tree node.\n",
    "from typing import List\n",
    "\n",
    "\n",
    "class TreeNode:\n",
    "\n",
    "    def __init__(self, val=0, left=None, right=None):\n",
    "        self.val = val\n",
    "        self.left = left\n",
    "        self.right = right\n",
    "\n",
    "\n",
    "class Solution:\n",
    "\n",
    "    def constructMaximumBinaryTree(self, nums: List[int]) -> TreeNode:  # 根据nums构造最大二叉树并返回根节点\n",
    "        if not nums:\n",
    "            return None\n",
    "        maxNum = max(nums)\n",
    "        maxIndex = nums.index(maxNum)\n",
    "        root = TreeNode(maxNum)\n",
    "        l, r = self.constructMaximumBinaryTree(nums[:maxIndex]), self.constructMaximumBinaryTree(nums[maxIndex + 1:])\n",
    "        root.left = l\n",
    "        root.right = r\n",
    "        return root\n"
   ]
  },
  {
   "cell_type": "code",
   "execution_count": null,
   "metadata": {},
   "outputs": [],
   "source": [
    "# Definition for a binary tree node.\n",
    "from typing import List\n",
    "\n",
    "\n",
    "class TreeNode:\n",
    "\n",
    "    def __init__(self, val=0, left=None, right=None):\n",
    "        self.val = val\n",
    "        self.left = left\n",
    "        self.right = right\n",
    "\n",
    "\n",
    "class Solution:\n",
    "\n",
    "    def constructMaximumBinaryTree(self, nums: List[int]) -> TreeNode:\n",
    "        ha = {}\n",
    "        for i, n in enumerate(nums):\n",
    "            ha[n] = i\n",
    "\n",
    "        def dfs(si, ei):  # 根据[si,ei]构造最大二叉树并返回根节点\n",
    "            if si > ei:\n",
    "                return None\n",
    "            maxNum = max(nums[si:ei + 1])\n",
    "            maxIndex = ha[maxNum]\n",
    "            root = TreeNode(maxNum)\n",
    "            l, r = dfs(si, maxIndex - 1), dfs(maxIndex + 1, ei)\n",
    "            root.left = l\n",
    "            root.right = r\n",
    "            return root\n",
    "\n",
    "        return dfs(0, len(nums) - 1)\n"
   ]
  }
 ],
 "metadata": {
  "language_info": {
   "name": "python"
  },
  "orig_nbformat": 4
 },
 "nbformat": 4,
 "nbformat_minor": 2
}
