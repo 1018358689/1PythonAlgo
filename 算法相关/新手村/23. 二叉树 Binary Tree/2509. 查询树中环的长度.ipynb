{
 "cells": [
  {
   "cell_type": "code",
   "execution_count": 1,
   "metadata": {},
   "outputs": [],
   "source": [
    "from functools import lru_cache\n",
    "from typing import List\n",
    "\n",
    "\n",
    "class Solution:\n",
    "    def cycleLengthQueries(self, n: int, queries: List[List[int]]) -> List[int]:\n",
    "        size = 2**n-1\n",
    "        @lru_cache(None)\n",
    "        def dfs(node): # node的高度\n",
    "            if node>size:\n",
    "                return 0\n",
    "            l= dfs(2*node)\n",
    "            return l+1\n",
    "        def lcof(node,p1,p2):\n",
    "            if node>size:\n",
    "                return None\n",
    "            if node in {p1,p2}:\n",
    "                return node\n",
    "            l,r = lcof(2*node,p1,p2),lcof(2*node+1,p1,p2)\n",
    "            if l and r:\n",
    "                return node\n",
    "            return l if l else r\n",
    "        ans = []\n",
    "        for x,y in queries:\n",
    "            fa = lcof(1,x,y)\n",
    "            ans.append(dfs(fa)-dfs(x)+dfs(fa)-dfs(y)+1)        \n",
    "        return ans"
   ]
  },
  {
   "attachments": {},
   "cell_type": "markdown",
   "metadata": {},
   "source": [
    "![](2022-12-26-10-05-21.png)"
   ]
  },
  {
   "cell_type": "code",
   "execution_count": 2,
   "metadata": {},
   "outputs": [],
   "source": [
    "class Solution:\n",
    "\n",
    "    def cycleLengthQueries(self, n: int, queries: List[List[int]]) -> List[int]:\n",
    "        ans = [-1] * len(queries)\n",
    "        for i, (x, y) in enumerate(queries):\n",
    "            res = 1\n",
    "            while x != y:\n",
    "                if x > y:\n",
    "                    x //= 2\n",
    "                else:\n",
    "                    y //= 2\n",
    "                res += 1\n",
    "            ans[i] = res\n",
    "        return ans"
   ]
  },
  {
   "attachments": {},
   "cell_type": "markdown",
   "metadata": {},
   "source": [
    "![](2022-12-26-10-16-24.png)"
   ]
  },
  {
   "cell_type": "code",
   "execution_count": null,
   "metadata": {},
   "outputs": [],
   "source": [
    "class Solution:\n",
    "\n",
    "    def cycleLengthQueries(self, n: int, queries: List[List[int]]) -> List[int]:\n",
    "        ans = [-1] * len(queries)\n",
    "        for i, (x, y) in enumerate(queries):\n",
    "            if x < y:  # 保证 x>=y\n",
    "                x, y = y, x\n",
    "            d = x.bit_length() - y.bit_length()  # 深度差\n",
    "            l = ((x >> d) ^ y).bit_length()  # x向上跳到和y同层 然后抹去前面相同的 即各需要往上跳多少步才相同\n",
    "            ans[i] = d + 2 * l + 1\n",
    "        return ans\n"
   ]
  }
 ],
 "metadata": {
  "kernelspec": {
   "display_name": "Python 3",
   "language": "python",
   "name": "python3"
  },
  "language_info": {
   "codemirror_mode": {
    "name": "ipython",
    "version": 3
   },
   "file_extension": ".py",
   "mimetype": "text/x-python",
   "name": "python",
   "nbconvert_exporter": "python",
   "pygments_lexer": "ipython3",
   "version": "3.11.1"
  },
  "orig_nbformat": 4,
  "vscode": {
   "interpreter": {
    "hash": "ff4b1fca65a764b45acb559e482afe389d289dd599b9f8c5fd12ff5c2ea46a65"
   }
  }
 },
 "nbformat": 4,
 "nbformat_minor": 2
}
