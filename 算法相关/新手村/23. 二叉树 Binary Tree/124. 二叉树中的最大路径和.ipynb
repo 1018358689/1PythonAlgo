{
 "cells": [
  {
   "cell_type": "code",
   "execution_count": 1,
   "metadata": {},
   "outputs": [],
   "source": [
    "# Definition for a binary tree node.\n",
    "from typing import Optional\n",
    "\n",
    "\n",
    "class TreeNode:\n",
    "\n",
    "    def __init__(self, val=0, left=None, right=None):\n",
    "        self.val = val\n",
    "        self.left = left\n",
    "        self.right = right\n",
    "\n",
    "\n",
    "class Solution:\n",
    "\n",
    "    def maxPathSum(self, root: Optional[TreeNode]) -> int:\n",
    "        ans = float('-inf')\n",
    "\n",
    "        def dfs(root):  # 以root为根的单边最大路径\n",
    "            nonlocal ans\n",
    "            if not root:\n",
    "                return 0\n",
    "            left = dfs(root.left)\n",
    "            right = dfs(root.right)\n",
    "            ans = max(ans, left + right + root.val, left + root.val, right + root.val, root.val)  # 以root为根的双边最大路径\n",
    "            return max(left + root.val, right + root.val, root.val)\n",
    "\n",
    "        dfs(root)\n",
    "        return ans"
   ]
  }
 ],
 "metadata": {
  "kernelspec": {
   "display_name": "Python 3.10.5 64-bit",
   "language": "python",
   "name": "python3"
  },
  "language_info": {
   "codemirror_mode": {
    "name": "ipython",
    "version": 3
   },
   "file_extension": ".py",
   "mimetype": "text/x-python",
   "name": "python",
   "nbconvert_exporter": "python",
   "pygments_lexer": "ipython3",
   "version": "3.10.5"
  },
  "orig_nbformat": 4,
  "vscode": {
   "interpreter": {
    "hash": "3196968d684371006099b3d55edeef8ed90365227a30deaef86e5d4aa8519be0"
   }
  }
 },
 "nbformat": 4,
 "nbformat_minor": 2
}
