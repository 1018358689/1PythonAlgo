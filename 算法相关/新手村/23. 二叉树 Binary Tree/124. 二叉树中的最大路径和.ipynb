{
 "cells": [
  {
   "cell_type": "code",
   "execution_count": null,
   "metadata": {},
   "outputs": [],
   "source": [
    "# Definition for a binary tree node.\n",
    "from typing import Optional\n",
    "\n",
    "\n",
    "class TreeNode:\n",
    "\n",
    "    def __init__(self, val=0, left=None, right=None):\n",
    "        self.val = val\n",
    "        self.left = left\n",
    "        self.right = right\n",
    "\n",
    "\n",
    "class Solution:\n",
    "\n",
    "    def maxPathSum(self, root: Optional[TreeNode]) -> int:\n",
    "        ans = float('-inf')\n",
    "\n",
    "        def dfs(root):  # 以root为根的单边最大路径\n",
    "            nonlocal ans\n",
    "            if not root:\n",
    "                return 0\n",
    "            left = dfs(root.left)\n",
    "            right = dfs(root.right)\n",
    "            ans = max(ans, left + right + root.val, left + root.val, right + root.val, root.val)  # 以root为根的双边最大路径\n",
    "            return max(left + root.val, right + root.val, root.val)\n",
    "\n",
    "        dfs(root)\n",
    "        return ans"
   ]
  }
 ],
 "metadata": {
  "language_info": {
   "name": "python"
  },
  "orig_nbformat": 4
 },
 "nbformat": 4,
 "nbformat_minor": 2
}
