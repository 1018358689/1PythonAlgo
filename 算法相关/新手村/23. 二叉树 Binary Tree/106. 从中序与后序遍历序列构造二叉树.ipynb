{
 "cells": [
  {
   "cell_type": "code",
   "execution_count": null,
   "metadata": {},
   "outputs": [],
   "source": [
    "# Definition for a binary tree node.\n",
    "from typing import List\n",
    "\n",
    "\n",
    "class TreeNode:\n",
    "\n",
    "    def __init__(self, val=0, left=None, right=None):\n",
    "        self.val = val\n",
    "        self.left = left\n",
    "        self.right = right\n",
    "\n",
    "\n",
    "class Solution:\n",
    "\n",
    "    def buildTree(self, inorder: List[int], postorder: List[int]) -> TreeNode:\n",
    "        if not postorder:\n",
    "            return None\n",
    "        root = TreeNode(postorder[-1])\n",
    "        m = inorder.index(root.val)\n",
    "        l, r = self.buildTree(inorder[:m], postorder[:m]), self.buildTree(inorder[m + 1:], postorder[m:len(postorder) - 1])\n",
    "        root.left = l\n",
    "        root.right = r\n",
    "        return root\n"
   ]
  },
  {
   "cell_type": "code",
   "execution_count": null,
   "metadata": {},
   "outputs": [],
   "source": [
    "# Definition for a binary tree node.\n",
    "from typing import List\n",
    "\n",
    "\n",
    "class TreeNode:\n",
    "\n",
    "    def __init__(self, val=0, left=None, right=None):\n",
    "        self.val = val\n",
    "        self.left = left\n",
    "        self.right = right\n",
    "\n",
    "\n",
    "class Solution:\n",
    "\n",
    "    def buildTree(self, inorder: List[int], postorder: List[int]) -> TreeNode:\n",
    "        ha = {}\n",
    "        for i, n in enumerate(inorder):\n",
    "            ha[n] = i\n",
    "\n",
    "        def dfs(l1, r1, l2, r2):\n",
    "            if l1 > r1:\n",
    "                return None\n",
    "            root = TreeNode(postorder[r2])\n",
    "            m = ha[root.val]\n",
    "            l = dfs(l1, m - 1, l2, r2 - r1 + m - 1)\n",
    "            r = dfs(m + 1, r1, r2 - r1 + m, r2 - 1)\n",
    "            root.left = l\n",
    "            root.right = r\n",
    "            return root\n",
    "\n",
    "        return dfs(0, len(inorder) - 1, 0, len(postorder) - 1)\n"
   ]
  }
 ],
 "metadata": {
  "language_info": {
   "name": "python"
  },
  "orig_nbformat": 4
 },
 "nbformat": 4,
 "nbformat_minor": 2
}
