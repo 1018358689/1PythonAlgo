{
 "cells": [
  {
   "cell_type": "code",
   "execution_count": null,
   "metadata": {},
   "outputs": [],
   "source": [
    "# Definition for a binary tree node.\n",
    "class TreeNode:\n",
    "\n",
    "    def __init__(self, val=0, left=None, right=None):\n",
    "        self.val = val\n",
    "        self.left = left\n",
    "        self.right = right\n",
    "\n",
    "\n",
    "class Solution:\n",
    "\n",
    "    def getAllElements(self, root1: TreeNode, root2: TreeNode):\n",
    "\n",
    "        def bst(node, res):\n",
    "            if node:\n",
    "                bst(node.left, res)\n",
    "                res.append(node.val)\n",
    "                bst(node.right, res)\n",
    "\n",
    "        nums1, nums2 = [], []\n",
    "        bst(root1, nums1)\n",
    "        bst(root2, nums2)\n",
    "        ans, p1, p2 = [], 0, 0\n",
    "        while p1 < len(nums1) and p2 < len(nums2):\n",
    "            if (n1 := nums1[p1]) < (n2 := nums2[p2]):\n",
    "                ans.append(n1)\n",
    "                p1 += 1\n",
    "            else:\n",
    "                ans.append(n2)\n",
    "                p2 += 1\n",
    "        ans += nums1[p1:] + nums2[p2:]\n",
    "        return ans\n"
   ]
  }
 ],
 "metadata": {
  "language_info": {
   "name": "python"
  },
  "orig_nbformat": 4
 },
 "nbformat": 4,
 "nbformat_minor": 2
}
