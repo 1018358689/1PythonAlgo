{
 "cells": [
  {
   "cell_type": "code",
   "execution_count": null,
   "metadata": {},
   "outputs": [],
   "source": [
    "# Definition for a binary tree node.\n",
    "from typing import Optional\n",
    "\n",
    "\n",
    "class TreeNode:\n",
    "\n",
    "    def __init__(self, val=0, left=None, right=None):\n",
    "        self.val = val\n",
    "        self.left = left\n",
    "        self.right = right\n",
    "\n",
    "\n",
    "class Solution:\n",
    "\n",
    "    def binaryTreePaths(self, root: Optional[TreeNode]) -> List[str]:\n",
    "        ans = []\n",
    "\n",
    "        def dfs(root: TreeNode, path: str):\n",
    "            if not root:\n",
    "                return\n",
    "            path += f'->{root.val}'\n",
    "            if root.left is None and root.right is None:\n",
    "                ans.append(path[1:])\n",
    "            dfs(root.left, path)\n",
    "            dfs(root.right, path)\n",
    "\n",
    "        dfs(root, '')\n",
    "        return ans"
   ]
  },
  {
   "cell_type": "code",
   "execution_count": null,
   "metadata": {},
   "outputs": [],
   "source": [
    "# Definition for a binary tree node.\n",
    "from typing import Optional\n",
    "# 值得思考的另一种写法\n",
    "# 因为列表是可变对象 回溯到上一层时候 他在前一层也改变了 必须pop回溯\n",
    "class TreeNode:\n",
    "\n",
    "    def __init__(self, val=0, left=None, right=None):\n",
    "        self.val = val\n",
    "        self.left = left\n",
    "        self.right = right\n",
    "\n",
    "\n",
    "class Solution:\n",
    "\n",
    "    def binaryTreePaths(self, root: Optional[TreeNode]) -> List[str]:\n",
    "        ans = []\n",
    "\n",
    "        def dfs(root: TreeNode, path: list):\n",
    "            if not root:\n",
    "                return\n",
    "            path.append(str(root.val))\n",
    "            if root.left is None and root.right is None:\n",
    "                ans.append('->'.join(path))\n",
    "            dfs(root.left, path)\n",
    "            dfs(root.right, path)\n",
    "            path.pop()\n",
    "\n",
    "        dfs(root, [])\n",
    "        return ans"
   ]
  }
 ],
 "metadata": {
  "language_info": {
   "name": "python"
  },
  "orig_nbformat": 4
 },
 "nbformat": 4,
 "nbformat_minor": 2
}
