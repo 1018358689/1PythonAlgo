{
 "cells": [
  {
   "cell_type": "code",
   "execution_count": null,
   "metadata": {},
   "outputs": [],
   "source": [
    "# Definition for a binary tree node.\n",
    "# class TreeNode:\n",
    "#     def __init__(self, val=0, left=None, right=None):\n",
    "#         self.val = val\n",
    "#         self.left = left\n",
    "#         self.right = right\n",
    "class Solution:\n",
    "\n",
    "    def lcaDeepestLeaves(self, root: Optional[TreeNode]) -> Optional[TreeNode]:\n",
    "\n",
    "        @lru_cache(None)\n",
    "        def dep(x):  # x的深度\n",
    "            if not x: return 0\n",
    "            return max(dep(x.left), dep(x.right)) + 1\n",
    "\n",
    "        def dfs(x):  # x为根的最深叶子的LCA\n",
    "            if not x: return x\n",
    "            ld, rd = dep(x.left), dep(x.right)\n",
    "            if ld == rd: return x\n",
    "            if ld > rd: return dfs(x.left)\n",
    "            return dfs(x.right)\n",
    "\n",
    "        return dfs(root)"
   ]
  },
  {
   "cell_type": "code",
   "execution_count": null,
   "metadata": {},
   "outputs": [],
   "source": [
    "# Definition for a binary tree node.\n",
    "# class TreeNode:\n",
    "#     def __init__(self, val=0, left=None, right=None):\n",
    "#         self.val = val\n",
    "#         self.left = left\n",
    "#         self.right = right\n",
    "class Solution:\n",
    "\n",
    "    def lcaDeepestLeaves(self, root: Optional[TreeNode]) -> Optional[TreeNode]:\n",
    "\n",
    "        def dfs(x):  # 返回以x为根子树中，最深叶子的LCA和深度\n",
    "            if not x:\n",
    "                return x, 0\n",
    "            (l, ld), (r, rd) = dfs(x.left), dfs(x.right)\n",
    "            if ld == rd:\n",
    "                return x, ld + 1\n",
    "            elif ld > rd:\n",
    "                return l, ld + 1\n",
    "            return r, rd + 1\n",
    "\n",
    "        return dfs(root)[0]"
   ]
  }
 ],
 "metadata": {
  "language_info": {
   "name": "python"
  },
  "orig_nbformat": 4
 },
 "nbformat": 4,
 "nbformat_minor": 2
}
