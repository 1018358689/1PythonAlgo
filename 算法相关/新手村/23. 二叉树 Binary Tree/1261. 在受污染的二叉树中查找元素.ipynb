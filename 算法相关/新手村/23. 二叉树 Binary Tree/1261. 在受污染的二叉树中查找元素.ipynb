{
 "cells": [
  {
   "cell_type": "code",
   "execution_count": 1,
   "metadata": {},
   "outputs": [],
   "source": [
    "# Definition for a binary tree node.\n",
    "class TreeNode:\n",
    "\n",
    "    def __init__(self, val=0, left=None, right=None):\n",
    "        self.val = val\n",
    "        self.left = left\n",
    "        self.right = right\n",
    "\n",
    "\n",
    "from typing import Optional\n",
    "\n",
    "\n",
    "class FindElements:\n",
    "\n",
    "    def __init__(self, root: Optional[TreeNode]):\n",
    "        self.ha = {0}\n",
    "        root.val = 0\n",
    "        self.dfs(root, 0)\n",
    "\n",
    "    def find(self, target: int) -> bool:\n",
    "        return target in self.ha\n",
    "\n",
    "    def dfs(self, root, val):\n",
    "        if root.left:\n",
    "            tmp = val * 2 + 1\n",
    "            root.left.val = tmp\n",
    "            self.ha.add(tmp)\n",
    "            self.dfs(root.left, tmp)\n",
    "        if root.right:\n",
    "            tmp = val * 2 + 2\n",
    "            root.right.val = tmp\n",
    "            self.ha.add(tmp)\n",
    "            self.dfs(root.right, tmp)\n",
    "\n",
    "\n",
    "# Your FindElements object will be instantiated and called as such:\n",
    "# obj = FindElements(root)\n",
    "# param_1 = obj.find(target)"
   ]
  },
  {
   "cell_type": "code",
   "execution_count": 2,
   "metadata": {},
   "outputs": [],
   "source": [
    "# Definition for a binary tree node.\n",
    "class TreeNode:\n",
    "\n",
    "    def __init__(self, val=0, left=None, right=None):\n",
    "        self.val = val\n",
    "        self.left = left\n",
    "        self.right = right\n",
    "\n",
    "\n",
    "from typing import Optional\n",
    "\n",
    "\n",
    "class FindElements:\n",
    "\n",
    "    def __init__(self, root: Optional[TreeNode]):\n",
    "        self.ha = set()\n",
    "        self.dfs(root, 0)\n",
    "\n",
    "    def find(self, target: int) -> bool:\n",
    "        return target in self.ha\n",
    "\n",
    "    def dfs(self, root, val):\n",
    "        if not root:\n",
    "            return\n",
    "        root.val = val\n",
    "        self.ha.add(val)\n",
    "        self.dfs(root.left, 2 * val + 1)\n",
    "        self.dfs(root.right, 2 * val + 2)\n",
    "\n",
    "\n",
    "# Your FindElements object will be instantiated and called as such:\n",
    "# obj = FindElements(root)\n",
    "# param_1 = obj.find(target)"
   ]
  }
 ],
 "metadata": {
  "interpreter": {
   "hash": "97367d2de1780ea7c502b529f25888c1b53c0430a7611816b6c7cf19d8435228"
  },
  "kernelspec": {
   "display_name": "Python 3.10.5 64-bit (windows store)",
   "language": "python",
   "name": "python3"
  },
  "language_info": {
   "codemirror_mode": {
    "name": "ipython",
    "version": 3
   },
   "file_extension": ".py",
   "mimetype": "text/x-python",
   "name": "python",
   "nbconvert_exporter": "python",
   "pygments_lexer": "ipython3",
   "version": "3.10.5"
  },
  "orig_nbformat": 4
 },
 "nbformat": 4,
 "nbformat_minor": 2
}
