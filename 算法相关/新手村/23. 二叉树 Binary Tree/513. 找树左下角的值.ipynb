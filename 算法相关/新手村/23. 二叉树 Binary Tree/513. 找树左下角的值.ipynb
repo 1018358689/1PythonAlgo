{
 "cells": [
  {
   "cell_type": "code",
   "execution_count": 1,
   "metadata": {},
   "outputs": [],
   "source": [
    "# Definition for a binary tree node.\n",
    "from typing import Optional\n",
    "from collections import deque\n",
    "\n",
    "\n",
    "class TreeNode:\n",
    "\n",
    "    def __init__(self, val=0, left=None, right=None):\n",
    "        self.val = val\n",
    "        self.left = left\n",
    "        self.right = right\n",
    "\n",
    "\n",
    "class Solution:\n",
    "\n",
    "    def findBottomLeftValue(self, root: Optional[TreeNode]) -> int:\n",
    "        q = deque([root])\n",
    "        ans = 0\n",
    "        while q:\n",
    "            for i in range(len(q)):\n",
    "                cur = q.popleft()\n",
    "                if i == 0:\n",
    "                    ans = cur.val\n",
    "                if cur.left: q.append(cur.left)\n",
    "                if cur.right: q.append(cur.right)\n",
    "        return ans\n"
   ]
  },
  {
   "cell_type": "code",
   "execution_count": null,
   "metadata": {},
   "outputs": [],
   "source": [
    "# Definition for a binary tree node.\n",
    "from typing import Optional\n",
    "# 遍历的第一个深度最大的结点就是最底层第一个结点\n",
    "\n",
    "\n",
    "class TreeNode:\n",
    "\n",
    "    def __init__(self, val=0, left=None, right=None):\n",
    "        self.val = val\n",
    "        self.left = left\n",
    "        self.right = right\n",
    "\n",
    "\n",
    "class Solution:\n",
    "\n",
    "    def findBottomLeftValue(self, root: Optional[TreeNode]) -> int:\n",
    "        ans = 0\n",
    "        maxDeepth = 0\n",
    "\n",
    "        def dfs(node, deepth):\n",
    "            nonlocal ans, maxDeepth\n",
    "            if not node:\n",
    "                return\n",
    "            if deepth > maxDeepth:\n",
    "                maxDeepth = deepth\n",
    "                ans = node.val\n",
    "            dfs(node.left, deepth + 1)\n",
    "            dfs(node.right, deepth + 1)\n",
    "\n",
    "        dfs(root, 1)\n",
    "        return ans\n"
   ]
  }
 ],
 "metadata": {
  "kernelspec": {
   "display_name": "Python 3.10.5 64-bit (windows store)",
   "language": "python",
   "name": "python3"
  },
  "language_info": {
   "codemirror_mode": {
    "name": "ipython",
    "version": 3
   },
   "file_extension": ".py",
   "mimetype": "text/x-python",
   "name": "python",
   "nbconvert_exporter": "python",
   "pygments_lexer": "ipython3",
   "version": "3.10.5"
  },
  "orig_nbformat": 4,
  "vscode": {
   "interpreter": {
    "hash": "97367d2de1780ea7c502b529f25888c1b53c0430a7611816b6c7cf19d8435228"
   }
  }
 },
 "nbformat": 4,
 "nbformat_minor": 2
}
