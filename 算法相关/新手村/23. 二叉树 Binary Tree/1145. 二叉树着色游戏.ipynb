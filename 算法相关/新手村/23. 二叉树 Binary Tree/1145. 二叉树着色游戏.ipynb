{
 "cells": [
  {
   "cell_type": "code",
   "execution_count": null,
   "metadata": {},
   "outputs": [],
   "source": [
    "# Definition for a binary tree node.\n",
    "from typing import Optional\n",
    "\n",
    "\n",
    "class TreeNode:\n",
    "\n",
    "    def __init__(self, val=0, left=None, right=None):\n",
    "        self.val = val\n",
    "        self.left = left\n",
    "        self.right = right\n",
    "\n",
    "\n",
    "class Solution:\n",
    "\n",
    "    def btreeGameWinningMove(self, root: Optional[TreeNode], n: int, x: int) -> bool:\n",
    "        lsz, rsz = 0, 0\n",
    "\n",
    "        def dfs(root):  # 返回root树的大小\n",
    "            if not root:\n",
    "                return 0\n",
    "            l, r = dfs(root.left), dfs(root.right)\n",
    "            if root.val == x:\n",
    "                nonlocal lsz, rsz\n",
    "                lsz, rsz = l, r\n",
    "            return 1 + l + r\n",
    "\n",
    "        dfs(root)\n",
    "        n2 = max(lsz, rsz, n - 1 - lsz - rsz)\n",
    "        n1 = n - n2\n",
    "        return n2 > n1\n"
   ]
  }
 ],
 "metadata": {
  "kernelspec": {
   "display_name": "Python 3",
   "language": "python",
   "name": "python3"
  },
  "language_info": {
   "name": "python",
   "version": "3.10.5"
  },
  "orig_nbformat": 4,
  "vscode": {
   "interpreter": {
    "hash": "3196968d684371006099b3d55edeef8ed90365227a30deaef86e5d4aa8519be0"
   }
  }
 },
 "nbformat": 4,
 "nbformat_minor": 2
}
