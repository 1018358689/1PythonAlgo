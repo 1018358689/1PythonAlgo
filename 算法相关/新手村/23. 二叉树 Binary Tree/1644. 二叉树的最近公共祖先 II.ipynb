{
 "cells": [
  {
   "cell_type": "code",
   "execution_count": null,
   "metadata": {},
   "outputs": [],
   "source": [
    "# Definition for a binary tree node.\n",
    "# class TreeNode:\n",
    "#     def __init__(self, x):\n",
    "#         self.val = x\n",
    "#         self.left = None\n",
    "#         self.right = None\n",
    "\n",
    "\n",
    "class Solution:\n",
    "\n",
    "    def lowestCommonAncestor(self, root: 'TreeNode', p: 'TreeNode', q: 'TreeNode') -> 'TreeNode':\n",
    "        roots = {}\n",
    "\n",
    "        def find(x):\n",
    "            if roots[x] != x:\n",
    "                roots[x] = find(roots[x])\n",
    "            return roots[x]\n",
    "\n",
    "        query = {p: q, q: p}\n",
    "        ans = None\n",
    "\n",
    "        def tarjan(x):\n",
    "            roots[x] = x\n",
    "            for y in x.left, x.right:\n",
    "                if not y: continue\n",
    "                if tarjan(y): return True\n",
    "                roots[y] = x\n",
    "            if x in query and query[x] in roots:\n",
    "                nonlocal ans\n",
    "                ans = find(query[x])\n",
    "                return True\n",
    "\n",
    "        tarjan(root)\n",
    "        return ans"
   ]
  }
 ],
 "metadata": {
  "language_info": {
   "name": "python"
  },
  "orig_nbformat": 4
 },
 "nbformat": 4,
 "nbformat_minor": 2
}
