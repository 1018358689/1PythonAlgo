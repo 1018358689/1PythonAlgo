{
 "cells": [
  {
   "cell_type": "code",
   "execution_count": null,
   "metadata": {},
   "outputs": [],
   "source": [
    "# Definition for a binary tree node.\n",
    "# class TreeNode:\n",
    "#     def __init__(self, val=0, left=None, right=None):\n",
    "#         self.val = val\n",
    "#         self.left = left\n",
    "#         self.right = right\n",
    "class Solution:\n",
    "\n",
    "    def createBinaryTree(self, descriptions: List[List[int]]) -> Optional[TreeNode]:\n",
    "        # 1. 建树\n",
    "        adj = defaultdict(TreeNode)\n",
    "        chils = set()\n",
    "        for x, y, left in descriptions:\n",
    "            if left:\n",
    "                adj[x].left = adj[y]\n",
    "            else:\n",
    "                adj[x].right = adj[y]\n",
    "            chils.add(y)\n",
    "        # 2. 设值\n",
    "        for k, v in adj.items():\n",
    "            v.val = k\n",
    "        # 3. 找根\n",
    "        return next(adj[x] for x in adj if x not in chils)"
   ]
  }
 ],
 "metadata": {
  "language_info": {
   "name": "python"
  },
  "orig_nbformat": 4
 },
 "nbformat": 4,
 "nbformat_minor": 2
}
