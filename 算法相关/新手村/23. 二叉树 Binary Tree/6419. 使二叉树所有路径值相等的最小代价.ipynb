{
 "cells": [
  {
   "cell_type": "code",
   "execution_count": null,
   "metadata": {},
   "outputs": [],
   "source": [
    "class Solution:\n",
    "\n",
    "    def minIncrements(self, n: int, cost: List[int]) -> int:\n",
    "        ans = 0\n",
    "        cost = [0] + cost\n",
    "        for fa in range(n // 2, 0, -1):\n",
    "            ans += abs(cost[fa * 2] - cost[fa * 2 + 1])\n",
    "            cost[fa] += max(cost[fa * 2], cost[fa * 2 + 1])\n",
    "        return ans"
   ]
  },
  {
   "cell_type": "code",
   "execution_count": null,
   "metadata": {},
   "outputs": [],
   "source": [
    "class Solution:\n",
    "\n",
    "    def minIncrements(self, n: int, cost: List[int]) -> int:\n",
    "        ans = 0\n",
    "\n",
    "        def dfs(x):  # 节点x以下最大路径(含x)\n",
    "            if x > n: return 0\n",
    "            nonlocal ans\n",
    "            l, r = dfs(x * 2), dfs(x * 2 + 1)\n",
    "            ans += abs(l - r)\n",
    "            return max(l, r) + cost[x - 1]\n",
    "\n",
    "        dfs(1)\n",
    "        return ans"
   ]
  }
 ],
 "metadata": {
  "language_info": {
   "name": "python"
  },
  "orig_nbformat": 4
 },
 "nbformat": 4,
 "nbformat_minor": 2
}
