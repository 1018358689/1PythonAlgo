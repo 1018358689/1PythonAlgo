{
 "cells": [
  {
   "cell_type": "code",
   "execution_count": null,
   "metadata": {},
   "outputs": [],
   "source": [
    "# Definition for a binary tree node.\n",
    "# class TreeNode:\n",
    "#     def __init__(self, val=0, left=None, right=None):\n",
    "#         self.val = val\n",
    "#         self.left = left\n",
    "#         self.right = right\n",
    "class Solution:\n",
    "    def delNodes(self, root: Optional[TreeNode], to_delete: List[int]) -> List[TreeNode]:\n",
    "        # 在一个节点自己将被删除，但是子节点不需要被删除时，将子节点加入答案中（灵神的思路）\n",
    "        to_delete = set(to_delete)\n",
    "        ans = []\n",
    "        def dfs(x): # 返回删除后节点\n",
    "            # 入x\n",
    "            if not x: return None # None表示删除\n",
    "            x.left, x.right = dfs(x.left), dfs(x.right)\n",
    "            # 离x\n",
    "            if x.val not in to_delete: return x # x不被删\n",
    "            if x.left: ans.append(x.left) # x被删 但是l不被删 即 l和父节点断开连接独立出来\n",
    "            if x.right: ans.append(x.right)\n",
    "            return None # 全被删\n",
    "        if dfs(root): ans.append(root)\n",
    "        return ans"
   ]
  }
 ],
 "metadata": {
  "language_info": {
   "name": "python"
  },
  "orig_nbformat": 4
 },
 "nbformat": 4,
 "nbformat_minor": 2
}
