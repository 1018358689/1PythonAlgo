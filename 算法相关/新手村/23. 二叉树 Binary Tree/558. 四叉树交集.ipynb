{
 "cells": [
  {
   "cell_type": "code",
   "execution_count": null,
   "metadata": {},
   "outputs": [],
   "source": [
    "# Definition for a QuadTree node.\n",
    "class Node:\n",
    "    def __init__(self, val, isLeaf, topLeft, topRight, bottomLeft, bottomRight):\n",
    "        self.val = val\n",
    "        self.isLeaf = isLeaf\n",
    "        self.topLeft = topLeft\n",
    "        self.topRight = topRight\n",
    "        self.bottomLeft = bottomLeft\n",
    "        self.bottomRight = bottomRight\n",
    "\n",
    "\n",
    "class Solution:\n",
    "    def intersect(self, quadTree1: 'Node', quadTree2: 'Node') -> 'Node':\n",
    "        if quadTree1.isLeaf:  # quadTree1是叶子结点\n",
    "            return quadTree1 if quadTree1.val == 1 else quadTree2\n",
    "        elif quadTree2.isLeaf:  # quadTree2是叶子结点\n",
    "            return quadTree2 if quadTree2.val == 1 else quadTree1\n",
    "        else:  # 都不是叶子结点\n",
    "            tl = self.intersect(quadTree1.topLeft, quadTree2.topLeft)\n",
    "            tr = self.intersect(quadTree1.topRight, quadTree2.topRight)\n",
    "            bl = self.intersect(quadTree1.bottomLeft, quadTree2.bottomLeft)\n",
    "            br = self.intersect(quadTree1.bottomRight, quadTree2.bottomRight)\n",
    "            if all(t.isLeaf and t.val == tl.val for t in (tl, tr, bl, br)):\n",
    "                return Node(tl.val, True, None, None, None, None)\n",
    "            else:\n",
    "                return Node(0, False, tl, tr, bl, br)\n"
   ]
  }
 ],
 "metadata": {
  "kernelspec": {
   "display_name": "Python 3.8.10 64-bit",
   "language": "python",
   "name": "python3"
  },
  "language_info": {
   "name": "python",
   "version": "3.8.10"
  },
  "orig_nbformat": 4,
  "vscode": {
   "interpreter": {
    "hash": "570feb405e2e27c949193ac68f46852414290d515b0ba6e5d90d076ed2284471"
   }
  }
 },
 "nbformat": 4,
 "nbformat_minor": 2
}
