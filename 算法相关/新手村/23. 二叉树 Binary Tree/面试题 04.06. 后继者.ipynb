{
 "cells": [
  {
   "cell_type": "code",
   "execution_count": 4,
   "metadata": {},
   "outputs": [],
   "source": [
    "# Definition for a binary tree node.\n",
    "class TreeNode:\n",
    "\n",
    "    def __init__(self, x):\n",
    "        self.val = x\n",
    "        self.left = None\n",
    "        self.right = None\n",
    "\n",
    "\n",
    "class Solution:\n",
    "\n",
    "    def inorderSuccessor(self, root: TreeNode, p: TreeNode) -> TreeNode:\n",
    "        ans = []\n",
    "\n",
    "        def dfs(root: TreeNode):\n",
    "            if not root:\n",
    "                return\n",
    "            dfs(root.right)\n",
    "            ans.append(root)\n",
    "            dfs(root.left)\n",
    "        dfs(root)\n",
    "        parent = None\n",
    "        for i in range(len(ans)):\n",
    "            if ans[i] == p:\n",
    "                return parent\n",
    "            parent = ans[i]\n",
    "        return None"
   ]
  },
  {
   "cell_type": "code",
   "execution_count": 5,
   "metadata": {},
   "outputs": [],
   "source": [
    "# Definition for a binary tree node.\n",
    "class TreeNode:\n",
    "\n",
    "    def __init__(self, x):\n",
    "        self.val = x\n",
    "        self.left = None\n",
    "        self.right = None\n",
    "\n",
    "\n",
    "class Solution:\n",
    "\n",
    "    def inorderSuccessor(self, root: TreeNode, p: TreeNode) -> TreeNode:\n",
    "        parent = None\n",
    "        ans = None\n",
    "        def dfs(root: TreeNode):\n",
    "            nonlocal parent,ans\n",
    "            if not root or ans:\n",
    "                return\n",
    "            dfs(root.right)\n",
    "            if root==p:\n",
    "                ans = parent\n",
    "            parent = root\n",
    "            dfs(root.left)\n",
    "        dfs(root)\n",
    "        return ans"
   ]
  }
 ],
 "metadata": {
  "interpreter": {
   "hash": "97367d2de1780ea7c502b529f25888c1b53c0430a7611816b6c7cf19d8435228"
  },
  "kernelspec": {
   "display_name": "Python 3.10.4 64-bit (windows store)",
   "language": "python",
   "name": "python3"
  },
  "language_info": {
   "codemirror_mode": {
    "name": "ipython",
    "version": 3
   },
   "file_extension": ".py",
   "mimetype": "text/x-python",
   "name": "python",
   "nbconvert_exporter": "python",
   "pygments_lexer": "ipython3",
   "version": "3.10.4"
  },
  "orig_nbformat": 4
 },
 "nbformat": 4,
 "nbformat_minor": 2
}
