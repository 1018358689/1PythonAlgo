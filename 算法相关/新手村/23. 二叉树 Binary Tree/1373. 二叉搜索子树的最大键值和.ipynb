{
 "cells": [
  {
   "cell_type": "code",
   "execution_count": null,
   "metadata": {},
   "outputs": [],
   "source": [
    "# Definition for a binary tree node.\n",
    "# class TreeNode:\n",
    "#     def __init__(self, val=0, left=None, right=None):\n",
    "#         self.val = val\n",
    "#         self.left = left\n",
    "#         self.right = right\n",
    "class Solution:\n",
    "\n",
    "    def maxSumBST(self, root: Optional[TreeNode]) -> int:\n",
    "        ans = 0\n",
    "\n",
    "        def dfs(o):  # 返回以o为根子树的 最小值最大值及键值和\n",
    "            if not o:\n",
    "                return inf, -inf, 0\n",
    "            lmn, lmx, ls = dfs(o.left)\n",
    "            rmn, rmx, rs = dfs(o.right)\n",
    "            x = o.val\n",
    "            if x <= lmx or x >= rmn:\n",
    "                return -inf, inf, 0\n",
    "            s = ls + rs + x\n",
    "            nonlocal ans\n",
    "            if s > ans: ans = s\n",
    "            return min(lmn, x), max(rmx, x), s\n",
    "\n",
    "        dfs(root)\n",
    "        return ans"
   ]
  }
 ],
 "metadata": {
  "language_info": {
   "name": "python"
  },
  "orig_nbformat": 4
 },
 "nbformat": 4,
 "nbformat_minor": 2
}
