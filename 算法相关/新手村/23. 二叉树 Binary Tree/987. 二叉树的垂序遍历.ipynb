{
 "cells": [
  {
   "cell_type": "code",
   "execution_count": 1,
   "metadata": {},
   "outputs": [
    {
     "name": "stdout",
     "output_type": "stream",
     "text": [
      "(1, 1, 2)\n",
      "(1, 2, 3)\n"
     ]
    }
   ],
   "source": [
    "import heapq\n",
    "l = []\n",
    "for x in ((1,2,3),(1,1,2)):\n",
    "    heapq.heappush(l,x)\n",
    "for _ in range(2):\n",
    "    print(heapq.heappop(l))"
   ]
  },
  {
   "cell_type": "code",
   "execution_count": 2,
   "metadata": {},
   "outputs": [],
   "source": [
    "# Definition for a binary tree node.\n",
    "class TreeNode:\n",
    "\n",
    "    def __init__(self, val=0, left=None, right=None):\n",
    "        self.val = val\n",
    "        self.left = left\n",
    "        self.right = right\n",
    "\n",
    "\n",
    "from typing import List\n",
    "import heapq\n",
    "\n",
    "\n",
    "class Solution:\n",
    "\n",
    "    def verticalTraversal(self, root: TreeNode) -> List[List[int]]:\n",
    "        pq = []\n",
    "\n",
    "        def dfs(root, row, col):  # 结点rooot坐标row,col前序遍历\n",
    "            if not root:\n",
    "                return\n",
    "            heapq.heappush(pq, (col, row, root.val))\n",
    "            dfs(root.left, row + 1, col - 1)\n",
    "            dfs(root.right, row + 1, col + 1)\n",
    "\n",
    "        dfs(root, 0, 0)\n",
    "        print(pq)\n",
    "        ans = []\n",
    "        tmp = []\n",
    "        last = None\n",
    "        while pq:\n",
    "            c, r, v = heapq.heappop(pq)\n",
    "            if not tmp or last == c:\n",
    "                tmp.append(v)\n",
    "            else:\n",
    "                ans.append(tmp)\n",
    "                tmp = [v]\n",
    "            last = c\n",
    "        ans.append(tmp)\n",
    "        return ans\n"
   ]
  },
  {
   "cell_type": "code",
   "execution_count": null,
   "metadata": {},
   "outputs": [],
   "source": [
    "# Definition for a binary tree node.\n",
    "class TreeNode:\n",
    "\n",
    "    def __init__(self, val=0, left=None, right=None):\n",
    "        self.val = val\n",
    "        self.left = left\n",
    "        self.right = right\n",
    "\n",
    "\n",
    "from typing import List\n",
    "from collections import defaultdict\n",
    "from sortedcontainers import SortedList\n",
    "\n",
    "\n",
    "class Solution:\n",
    "\n",
    "    def verticalTraversal(self, root: TreeNode) -> List[List[int]]:\n",
    "        colHa = defaultdict(SortedList)\n",
    "\n",
    "        def dfs(root, row, col):  # 结点rooot坐标row,col前序遍历\n",
    "            if not root:\n",
    "                return\n",
    "            colHa[col].add((row, root.val))\n",
    "            dfs(root.left, row + 1, col - 1)\n",
    "            dfs(root.right, row + 1, col + 1)\n",
    "\n",
    "        dfs(root, 0, 0)\n",
    "        ans = []\n",
    "        for c in sorted(colHa.keys()):\n",
    "            ans.append([v for r, v in colHa[c]])\n",
    "        return ans\n"
   ]
  }
 ],
 "metadata": {
  "kernelspec": {
   "display_name": "Python 3.10.5 64-bit",
   "language": "python",
   "name": "python3"
  },
  "language_info": {
   "codemirror_mode": {
    "name": "ipython",
    "version": 3
   },
   "file_extension": ".py",
   "mimetype": "text/x-python",
   "name": "python",
   "nbconvert_exporter": "python",
   "pygments_lexer": "ipython3",
   "version": "3.10.5"
  },
  "orig_nbformat": 4,
  "vscode": {
   "interpreter": {
    "hash": "3196968d684371006099b3d55edeef8ed90365227a30deaef86e5d4aa8519be0"
   }
  }
 },
 "nbformat": 4,
 "nbformat_minor": 2
}
