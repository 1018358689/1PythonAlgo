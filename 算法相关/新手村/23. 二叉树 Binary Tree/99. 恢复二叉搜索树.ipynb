{
 "cells": [
  {
   "cell_type": "markdown",
   "metadata": {},
   "source": [
    "![](2022-06-09-14-04-47.png)"
   ]
  },
  {
   "cell_type": "code",
   "execution_count": null,
   "metadata": {},
   "outputs": [],
   "source": [
    "# Definition for a binary tree node.\n",
    "from typing import Optional\n",
    "\n",
    "\n",
    "class TreeNode:\n",
    "\n",
    "    def __init__(self, val=0, left=None, right=None):\n",
    "        self.val = val\n",
    "        self.left = left\n",
    "        self.right = right\n",
    "\n",
    "\n",
    "class Solution:\n",
    "\n",
    "    def recoverTree(self, root: Optional[TreeNode]) -> None:\n",
    "        \"\"\"\n",
    "        Do not return anything, modify root in-place instead.\n",
    "        \"\"\"\n",
    "        first = second = None\n",
    "        pre = TreeNode(float('-inf'))\n",
    "\n",
    "        def dfs(root: TreeNode):\n",
    "            nonlocal first, second, pre\n",
    "            if not root:\n",
    "                return\n",
    "            dfs(root.left)\n",
    "            if root.val < pre.val:\n",
    "                if first is None:\n",
    "                    first = pre\n",
    "                second = root\n",
    "            pre = root\n",
    "            dfs(root.right)\n",
    "\n",
    "        dfs(root)\n",
    "        first.val, second.val = second.val, first.val\n",
    "        return root"
   ]
  }
 ],
 "metadata": {
  "language_info": {
   "name": "python"
  },
  "orig_nbformat": 4
 },
 "nbformat": 4,
 "nbformat_minor": 2
}
