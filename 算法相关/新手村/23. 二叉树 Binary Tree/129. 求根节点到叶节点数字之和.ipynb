{
 "cells": [
  {
   "cell_type": "code",
   "execution_count": null,
   "metadata": {},
   "outputs": [],
   "source": [
    "# Definition for a binary tree node.\n",
    "class TreeNode:\n",
    "\n",
    "    def __init__(self, val=0, left=None, right=None):\n",
    "        self.val = val\n",
    "        self.left = left\n",
    "        self.right = right\n",
    "\n",
    "\n",
    "class Solution:\n",
    "\n",
    "    def sumNumbers(self, root: TreeNode) -> int:\n",
    "        ans = 0\n",
    "\n",
    "        def dfs(root: TreeNode, sum: int): # sum是前缀和(不含root值)\n",
    "            nonlocal ans\n",
    "            if root.left is None and root.right is None: # 叶子节点则回溯返回\n",
    "                ans += sum * 10 + root.val\n",
    "                return\n",
    "            # 非叶子节点\n",
    "            if root.left:\n",
    "                dfs(root.left, sum * 10 + root.val)\n",
    "            if root.right:\n",
    "                dfs(root.right, sum * 10 + root.val)\n",
    "\n",
    "        dfs(root, 0)\n",
    "        return ans"
   ]
  },
  {
   "cell_type": "code",
   "execution_count": null,
   "metadata": {},
   "outputs": [],
   "source": [
    "# Definition for a binary tree node.\n",
    "class TreeNode:\n",
    "\n",
    "    def __init__(self, val=0, left=None, right=None):\n",
    "        self.val = val\n",
    "        self.left = left\n",
    "        self.right = right\n",
    "\n",
    "\n",
    "class Solution:\n",
    "\n",
    "    def sumNumbers(self, root: TreeNode) -> int:\n",
    "        ans = 0\n",
    "\n",
    "        def dfs(root: TreeNode, sum: int):  # sum是前缀和(不含root值)\n",
    "            nonlocal ans\n",
    "            if not root:\n",
    "                return\n",
    "            sum = sum * 10 + root.val\n",
    "            if root.left is None and root.right is None:\n",
    "                ans += sum\n",
    "            dfs(root.left, sum)\n",
    "            dfs(root.right, sum)\n",
    "\n",
    "        dfs(root, 0)\n",
    "        return ans"
   ]
  }
 ],
 "metadata": {
  "language_info": {
   "name": "python"
  },
  "orig_nbformat": 4
 },
 "nbformat": 4,
 "nbformat_minor": 2
}
