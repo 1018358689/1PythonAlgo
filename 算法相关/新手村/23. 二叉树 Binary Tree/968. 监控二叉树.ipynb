{
 "cells": [
  {
   "cell_type": "markdown",
   "metadata": {},
   "source": [
    "https://leetcode.cn/problems/binary-tree-cameras/solution/968-jian-kong-er-cha-shu-di-gui-shang-de-zhuang-ta/"
   ]
  },
  {
   "cell_type": "code",
   "execution_count": null,
   "metadata": {},
   "outputs": [],
   "source": [
    "# Definition for a binary tree node.\n",
    "class TreeNode:\n",
    "\n",
    "    def __init__(self, val=0, left=None, right=None):\n",
    "        self.val = val\n",
    "        self.left = left\n",
    "        self.right = right\n",
    "\n",
    "\n",
    "from typing import Optional\n",
    "\n",
    "\n",
    "class Solution:\n",
    "\n",
    "    def minCameraCover(self, root: Optional[TreeNode]) -> int:\n",
    "        ans = 0\n",
    "\n",
    "        # 0:无覆盖 1:有覆盖 2:有摄像头\n",
    "        # (00,01,02,10,11,12,20,21,22) 九种状态\n",
    "        def dfs(root: Optional[TreeNode]):\n",
    "            if not root:\n",
    "                return 1\n",
    "            l, r = dfs(root.left), dfs(root.right)\n",
    "            if l == 1 and r == 1:  # 都有覆盖 22 则父节点无需覆盖\n",
    "                return 0\n",
    "            elif l == 0 or r == 0:  # 至少一个无覆盖 00 01 02 10 20 则父节点需要有摄像头\n",
    "                nonlocal ans\n",
    "                ans += 1\n",
    "                return 2\n",
    "            elif l == 2 or r == 2:  # 至少一个有摄像头 10 11 12 01 21 则父节点有覆盖\n",
    "                return 1\n",
    "\n",
    "        if dfs(root) == 0:  # 最后检查根节点是否覆盖\n",
    "            ans += 1\n",
    "        return ans"
   ]
  }
 ],
 "metadata": {
  "kernelspec": {
   "display_name": "Python 3.10.5 64-bit",
   "language": "python",
   "name": "python3"
  },
  "language_info": {
   "name": "python",
   "version": "3.10.5"
  },
  "orig_nbformat": 4,
  "vscode": {
   "interpreter": {
    "hash": "3196968d684371006099b3d55edeef8ed90365227a30deaef86e5d4aa8519be0"
   }
  }
 },
 "nbformat": 4,
 "nbformat_minor": 2
}
