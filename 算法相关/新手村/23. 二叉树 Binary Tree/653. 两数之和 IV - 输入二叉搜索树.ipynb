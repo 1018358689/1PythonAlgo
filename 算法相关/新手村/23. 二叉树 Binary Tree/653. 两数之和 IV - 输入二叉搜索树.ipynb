{
 "cells": [
  {
   "cell_type": "code",
   "execution_count": 1,
   "metadata": {},
   "outputs": [],
   "source": [
    "# Definition for a binary tree node.\n",
    "class TreeNode:\n",
    "\n",
    "    def __init__(self, val=0, left=None, right=None):\n",
    "        self.val = val\n",
    "        self.left = left\n",
    "        self.right = right\n",
    "\n",
    "\n",
    "from typing import Optional\n",
    "\n",
    "\n",
    "class Solution:\n",
    "\n",
    "    def findTarget(self, root: Optional[TreeNode], k: int) -> bool:\n",
    "        ha = set()\n",
    "\n",
    "        def dfs(root):\n",
    "            if not root:\n",
    "                return False\n",
    "            if dfs(root.left):\n",
    "                return True\n",
    "            if k - root.val in ha:\n",
    "                return True\n",
    "            else:\n",
    "                ha.add(root.val)\n",
    "            return bool(dfs(root.right))\n",
    "\n",
    "        return dfs(root)"
   ]
  },
  {
   "cell_type": "code",
   "execution_count": null,
   "metadata": {},
   "outputs": [],
   "source": [
    "# Definition for a binary tree node.\n",
    "class TreeNode:\n",
    "\n",
    "    def __init__(self, val=0, left=None, right=None):\n",
    "        self.val = val\n",
    "        self.left = left\n",
    "        self.right = right\n",
    "\n",
    "\n",
    "from typing import Optional\n",
    "\n",
    "\n",
    "class Solution:\n",
    "\n",
    "    def findTarget(self, root: Optional[TreeNode], k: int) -> bool:\n",
    "\n",
    "        def vlr(root):\n",
    "            if not root:\n",
    "                return\n",
    "            yield from vlr(root.left)\n",
    "            yield root.val\n",
    "            yield from vlr(root.right)\n",
    "\n",
    "        def lrd(root):\n",
    "            if not root:\n",
    "                return\n",
    "            yield from lrd(root.right)\n",
    "            yield root.val\n",
    "            yield from lrd(root.left)\n",
    "\n",
    "        gl, gr = vlr(root), lrd(root)\n",
    "        l, r = next(gl), next(gr)\n",
    "        while l < r:\n",
    "            if l + r > k:\n",
    "                r = next(gr)\n",
    "            elif l + r < k:\n",
    "                l = next(gl)\n",
    "            else:\n",
    "                return True\n",
    "        return False"
   ]
  }
 ],
 "metadata": {
  "kernelspec": {
   "display_name": "Python 3.10.6 64-bit",
   "language": "python",
   "name": "python3"
  },
  "language_info": {
   "codemirror_mode": {
    "name": "ipython",
    "version": 3
   },
   "file_extension": ".py",
   "mimetype": "text/x-python",
   "name": "python",
   "nbconvert_exporter": "python",
   "pygments_lexer": "ipython3",
   "version": "3.10.6"
  },
  "orig_nbformat": 4,
  "vscode": {
   "interpreter": {
    "hash": "dfbf064e0f2c8839bc658dd75dfc0b8f09a0440078cae3024109b27659b69d06"
   }
  }
 },
 "nbformat": 4,
 "nbformat_minor": 2
}
