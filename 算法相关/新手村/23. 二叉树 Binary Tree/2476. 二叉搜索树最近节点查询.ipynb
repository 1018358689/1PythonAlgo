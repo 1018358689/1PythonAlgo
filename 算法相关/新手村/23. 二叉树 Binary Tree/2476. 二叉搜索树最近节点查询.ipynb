{
 "cells": [
  {
   "cell_type": "code",
   "execution_count": 1,
   "metadata": {},
   "outputs": [],
   "source": [
    "from typing import Optional, List\n",
    "\n",
    "\n",
    "# Definition for a binary tree node.\n",
    "class TreeNode:\n",
    "\n",
    "    def __init__(self, val=0, left=None, right=None):\n",
    "        self.val = val\n",
    "        self.left = left\n",
    "        self.right = right\n",
    "\n",
    "\n",
    "class Solution:\n",
    "\n",
    "    def closestNodes(self, root: Optional[TreeNode], queries: List[int]) -> List[List[int]]:\n",
    "        ans = []\n",
    "        lst = []\n",
    "\n",
    "        def bst(root):\n",
    "            if not root:\n",
    "                return\n",
    "            bst(root.left)\n",
    "            lst.append(root.val)\n",
    "            bst(root.right)\n",
    "\n",
    "        bst(root)\n",
    "        n = len(lst)\n",
    "        for q in queries:\n",
    "            l, r = 0, n - 1\n",
    "            while l <= r:\n",
    "                m = l + r >> 1\n",
    "                if lst[m] <= q:\n",
    "                    l = m + 1\n",
    "                else:\n",
    "                    r = m - 1\n",
    "            if r < 0:\n",
    "                ans.append([-1, lst[0]])\n",
    "            else:\n",
    "                left = lst[r]\n",
    "                if left == q:\n",
    "                    ans.append([left, left])\n",
    "                elif l == n:\n",
    "                    ans.append([left, -1])\n",
    "                else:\n",
    "                    ans.append([left, lst[l]])\n",
    "        return ans"
   ]
  },
  {
   "cell_type": "code",
   "execution_count": null,
   "metadata": {},
   "outputs": [],
   "source": [
    "from typing import Optional, List\n",
    "from bisect import bisect_left, bisect_right\n",
    "\n",
    "\n",
    "# Definition for a binary tree node.\n",
    "class TreeNode:\n",
    "\n",
    "    def __init__(self, val=0, left=None, right=None):\n",
    "        self.val = val\n",
    "        self.left = left\n",
    "        self.right = right\n",
    "\n",
    "\n",
    "class Solution:\n",
    "\n",
    "    def closestNodes(self, root: Optional[TreeNode], queries: List[int]) -> List[List[int]]:\n",
    "        ans = []\n",
    "        lst = []\n",
    "\n",
    "        def bst(root):\n",
    "            if not root:\n",
    "                return\n",
    "            bst(root.left)\n",
    "            lst.append(root.val)\n",
    "            bst(root.right)\n",
    "\n",
    "        bst(root)\n",
    "        n = len(lst)\n",
    "        for q in queries:\n",
    "            j = bisect_right(lst, q)\n",
    "            l = lst[j - 1] if j else -1\n",
    "            j = bisect_left(lst, q)\n",
    "            r = lst[j] if j < n else -1\n",
    "            ans.append([l, r])\n",
    "        return ans\n"
   ]
  }
 ],
 "metadata": {
  "kernelspec": {
   "display_name": "Python 3.10.5 64-bit",
   "language": "python",
   "name": "python3"
  },
  "language_info": {
   "codemirror_mode": {
    "name": "ipython",
    "version": 3
   },
   "file_extension": ".py",
   "mimetype": "text/x-python",
   "name": "python",
   "nbconvert_exporter": "python",
   "pygments_lexer": "ipython3",
   "version": "3.10.5"
  },
  "orig_nbformat": 4,
  "vscode": {
   "interpreter": {
    "hash": "3196968d684371006099b3d55edeef8ed90365227a30deaef86e5d4aa8519be0"
   }
  }
 },
 "nbformat": 4,
 "nbformat_minor": 2
}
