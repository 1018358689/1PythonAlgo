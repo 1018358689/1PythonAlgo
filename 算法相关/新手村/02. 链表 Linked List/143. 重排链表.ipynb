{
 "cells": [
  {
   "cell_type": "code",
   "execution_count": 1,
   "metadata": {},
   "outputs": [],
   "source": [
    "# 超时\n",
    "# Definition for singly-linked list.\n",
    "from typing import Optional\n",
    "\n",
    "\n",
    "class ListNode:\n",
    "\n",
    "    def __init__(self, val=0, next=None):\n",
    "        self.val = val\n",
    "        self.next = next\n",
    "\n",
    "\n",
    "class Solution:\n",
    "\n",
    "    def reorderList(self, head: Optional[ListNode]) -> None:\n",
    "        \"\"\"\n",
    "        Do not return anything, modify head in-place instead.\n",
    "        \"\"\"\n",
    "        if not head or not head.next or not head.next.next:\n",
    "            return head\n",
    "        pre = None\n",
    "        last = head\n",
    "        while last.next:\n",
    "            pre = last\n",
    "            last = last.next\n",
    "        pre.next = None\n",
    "        sub = self.reorderList(head.next)\n",
    "        head.next = last\n",
    "        last.next = sub\n",
    "        return head"
   ]
  },
  {
   "cell_type": "code",
   "execution_count": null,
   "metadata": {},
   "outputs": [],
   "source": [
    "# Definition for singly-linked list.\n",
    "from typing import Optional\n",
    "\n",
    "\n",
    "class ListNode:\n",
    "\n",
    "    def __init__(self, val=0, next=None):\n",
    "        self.val = val\n",
    "        self.next = next\n",
    "\n",
    "\n",
    "class Solution:\n",
    "\n",
    "    def reorderList(self, head: Optional[ListNode]) -> None:\n",
    "        \"\"\"\n",
    "        Do not return anything, modify head in-place instead.\n",
    "        \"\"\"\n",
    "        ha = {}\n",
    "        lgh = 0\n",
    "        i = 0\n",
    "        cur = head\n",
    "        while cur:\n",
    "            ha[i] = cur\n",
    "            cur = cur.next\n",
    "            i += 1\n",
    "\n",
    "        def dfs(head, i):\n",
    "            if not head or not head.next or not head.next.next:\n",
    "                return head\n",
    "            ha[i - 1].next = None\n",
    "            sub = dfs(head.next, i - 1)\n",
    "            head.next = ha[i]\n",
    "            ha[i].next = sub\n",
    "            return head\n",
    "\n",
    "        return dfs(head, i - 1)\n"
   ]
  }
 ],
 "metadata": {
  "kernelspec": {
   "display_name": "Python 3.10.5 64-bit",
   "language": "python",
   "name": "python3"
  },
  "language_info": {
   "codemirror_mode": {
    "name": "ipython",
    "version": 3
   },
   "file_extension": ".py",
   "mimetype": "text/x-python",
   "name": "python",
   "nbconvert_exporter": "python",
   "pygments_lexer": "ipython3",
   "version": "3.10.5"
  },
  "orig_nbformat": 4,
  "vscode": {
   "interpreter": {
    "hash": "3196968d684371006099b3d55edeef8ed90365227a30deaef86e5d4aa8519be0"
   }
  }
 },
 "nbformat": 4,
 "nbformat_minor": 2
}
