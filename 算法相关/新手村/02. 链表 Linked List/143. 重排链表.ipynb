{
 "cells": [
  {
   "cell_type": "code",
   "execution_count": 1,
   "metadata": {},
   "outputs": [],
   "source": [
    "# 超时\n",
    "# Definition for singly-linked list.\n",
    "from typing import Optional\n",
    "\n",
    "\n",
    "class ListNode:\n",
    "\n",
    "    def __init__(self, val=0, next=None):\n",
    "        self.val = val\n",
    "        self.next = next\n",
    "\n",
    "\n",
    "class Solution:\n",
    "\n",
    "    def reorderList(self, head: Optional[ListNode]) -> None:\n",
    "        \"\"\"\n",
    "        Do not return anything, modify head in-place instead.\n",
    "        \"\"\"\n",
    "        if not head or not head.next or not head.next.next:\n",
    "            return head\n",
    "        pre = None\n",
    "        last = head\n",
    "        while last.next:\n",
    "            pre = last\n",
    "            last = last.next\n",
    "        pre.next = None\n",
    "        sub = self.reorderList(head.next)\n",
    "        head.next = last\n",
    "        last.next = sub\n",
    "        return head"
   ]
  },
  {
   "cell_type": "code",
   "execution_count": null,
   "metadata": {},
   "outputs": [],
   "source": [
    "# Definition for singly-linked list.\n",
    "class ListNode:\n",
    "\n",
    "    def __init__(self, val=0, next=None):\n",
    "        self.val = val\n",
    "        self.next = next\n",
    "\n",
    "\n",
    "from typing import List\n",
    "\n",
    "\n",
    "class Solution:\n",
    "\n",
    "    def reorderList(self, head: Optional[ListNode]) -> None:\n",
    "        \"\"\"\n",
    "        Do not return anything, modify head in-place instead.\n",
    "        \"\"\"\n",
    "        # 索引及对应位置\n",
    "        lgh = 0\n",
    "        ha = {}\n",
    "        cur = head\n",
    "        while cur:\n",
    "            ha[lgh] = cur\n",
    "            cur = cur.next\n",
    "            lgh += 1\n",
    "\n",
    "        def dfs(head, idx):\n",
    "            if not head or not head.next or not head.next.next:\n",
    "                return head\n",
    "            ha[idx - 1].next = None\n",
    "            ha[idx].next = dfs(head.next, idx - 1)\n",
    "            head.next = ha[idx]\n",
    "            return head\n",
    "\n",
    "        dfs(head, lgh - 1)\n"
   ]
  }
 ],
 "metadata": {
  "kernelspec": {
   "display_name": "Python 3.10.6 64-bit",
   "language": "python",
   "name": "python3"
  },
  "language_info": {
   "codemirror_mode": {
    "name": "ipython",
    "version": 3
   },
   "file_extension": ".py",
   "mimetype": "text/x-python",
   "name": "python",
   "nbconvert_exporter": "python",
   "pygments_lexer": "ipython3",
   "version": "3.10.6"
  },
  "orig_nbformat": 4,
  "vscode": {
   "interpreter": {
    "hash": "dfbf064e0f2c8839bc658dd75dfc0b8f09a0440078cae3024109b27659b69d06"
   }
  }
 },
 "nbformat": 4,
 "nbformat_minor": 2
}
