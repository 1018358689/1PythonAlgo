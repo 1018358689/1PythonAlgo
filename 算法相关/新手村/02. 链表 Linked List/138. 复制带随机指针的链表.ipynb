{
 "cells": [
  {
   "cell_type": "code",
   "execution_count": null,
   "metadata": {},
   "outputs": [],
   "source": [
    "# Definition for a Node.\n",
    "class Node:\n",
    "\n",
    "    def __init__(self, x: int, next: 'Node' = None, random: 'Node' = None):\n",
    "        self.val = int(x)\n",
    "        self.next = next\n",
    "        self.random = random\n",
    "\n",
    "\n",
    "from typing import Optional\n",
    "\n",
    "\n",
    "class Solution:\n",
    "\n",
    "    def copyRandomList(self, head: 'Optional[Node]') -> 'Optional[Node]':\n",
    "        if not head:\n",
    "            return None\n",
    "        ha = {}  # key:原始 val:新建\n",
    "        cur = head\n",
    "        while cur:\n",
    "            new_node = Node(cur.val, None, None)\n",
    "            ha[cur] = new_node\n",
    "            cur = cur.next\n",
    "        cur = head\n",
    "        while cur:\n",
    "            if cur.next:\n",
    "                ha[cur].next = ha[cur.next]\n",
    "            if cur.random:\n",
    "                ha[cur].random = ha[cur.random]\n",
    "            cur = cur.next\n",
    "        return ha[head]"
   ]
  }
 ],
 "metadata": {
  "language_info": {
   "name": "python"
  },
  "orig_nbformat": 4
 },
 "nbformat": 4,
 "nbformat_minor": 2
}
