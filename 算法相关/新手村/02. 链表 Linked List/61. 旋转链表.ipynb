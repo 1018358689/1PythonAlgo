{
 "cells": [
  {
   "cell_type": "code",
   "execution_count": 1,
   "metadata": {},
   "outputs": [],
   "source": [
    "# Definition for singly-linked list.\n",
    "from typing import Optional\n",
    "\n",
    "\n",
    "class ListNode:\n",
    "\n",
    "    def __init__(self, val=0, next=None):\n",
    "        self.val = val\n",
    "        self.next = next\n",
    "\n",
    "\n",
    "class Solution:\n",
    "\n",
    "    def rotateRight(self, head: Optional[ListNode], k: int) -> Optional[ListNode]:\n",
    "        if not head: return head\n",
    "        lgh = 0\n",
    "        cur = head\n",
    "        while cur.next:\n",
    "            lgh += 1\n",
    "            cur = cur.next\n",
    "        lgh += 1\n",
    "        cur.next = head\n",
    "        k %= lgh\n",
    "        cur = head\n",
    "        for _ in range(lgh - k - 1):\n",
    "            cur = cur.next\n",
    "        ans = cur.next\n",
    "        cur.next = None\n",
    "        return ans"
   ]
  },
  {
   "cell_type": "code",
   "execution_count": null,
   "metadata": {},
   "outputs": [],
   "source": [
    "# Definition for singly-linked list.\n",
    "# 类似lc19.删除链表的倒数第N个结点\n",
    "class ListNode:\n",
    "\n",
    "    def __init__(self, val=0, next=None):\n",
    "        self.val = val\n",
    "        self.next = next\n",
    "\n",
    "\n",
    "from typing import Optional\n",
    "\n",
    "\n",
    "class Solution:\n",
    "\n",
    "    def rotateRight(self, head: Optional[ListNode], k: int) -> Optional[ListNode]:\n",
    "        if not head:\n",
    "            return head\n",
    "        lgh = 0\n",
    "        cur = head\n",
    "        while cur:\n",
    "            cur = cur.next\n",
    "            lgh += 1\n",
    "        k %= lgh\n",
    "        if not k:\n",
    "            return head\n",
    "        pre = cur = head\n",
    "        for _ in range(k):\n",
    "            cur = cur.next\n",
    "        if not cur:\n",
    "            return head\n",
    "        while cur.next:\n",
    "            pre = pre.next\n",
    "            cur = cur.next\n",
    "        head2 = pre.next\n",
    "        pre.next = None\n",
    "        cur.next = head\n",
    "        return head2\n"
   ]
  }
 ],
 "metadata": {
  "kernelspec": {
   "display_name": "Python 3.10.1 64-bit",
   "language": "python",
   "name": "python3"
  },
  "language_info": {
   "codemirror_mode": {
    "name": "ipython",
    "version": 3
   },
   "file_extension": ".py",
   "mimetype": "text/x-python",
   "name": "python",
   "nbconvert_exporter": "python",
   "pygments_lexer": "ipython3",
   "version": "3.10.1"
  },
  "orig_nbformat": 4,
  "vscode": {
   "interpreter": {
    "hash": "aee8b7b246df8f9039afb4144a1f6fd8d2ca17a180786b69acc140d282b71a49"
   }
  }
 },
 "nbformat": 4,
 "nbformat_minor": 2
}
