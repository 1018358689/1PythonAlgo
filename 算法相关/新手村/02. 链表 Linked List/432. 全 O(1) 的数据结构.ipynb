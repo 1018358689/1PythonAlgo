{
 "cells": [
  {
   "cell_type": "code",
   "execution_count": 10,
   "metadata": {},
   "outputs": [
    {
     "data": {
      "text/plain": [
       "(None, None, None, None, None)"
      ]
     },
     "execution_count": 10,
     "metadata": {},
     "output_type": "execute_result"
    }
   ],
   "source": [
    "class Node:\n",
    "\n",
    "    def __init__(self, count=0, key='', pre=None, next=None):  # 出现次数count节点的集合\n",
    "        self.keys = set([key])\n",
    "        self.count = count\n",
    "        self.pre = pre\n",
    "        self.next = next\n",
    "\n",
    "\n",
    "class DoubleList:\n",
    "\n",
    "    def __init__(self):\n",
    "        self.head = Node()\n",
    "        self.end = Node()\n",
    "        self.head.next = self.end\n",
    "        self.end.pre = self.head\n",
    "\n",
    "    def addNodeAfter(self, node: Node, preNode: Node):\n",
    "        node.next = preNode.next\n",
    "        node.pre = preNode\n",
    "        preNode.next.pre = node\n",
    "        preNode.next = node\n",
    "\n",
    "    def remove(self, node: Node):\n",
    "        node.pre.next = node.next\n",
    "        node.next.pre = node.pre\n",
    "\n",
    "\n",
    "class AllOne:\n",
    "\n",
    "    def __init__(self):\n",
    "        self.key2node = {}\n",
    "        self.dl = DoubleList()\n",
    "\n",
    "    def inc(self, key: str) -> None:\n",
    "        node = self.key2node.get(key)\n",
    "        if node is None:  # 不存在对应节点 说明新添加key\n",
    "            if self.dl.head.next == self.dl.end or self.dl.head.next.count > 1:  # 1号节点>1或链表为空都需要新添加该节点\n",
    "                self.dl.addNodeAfter(Node(1, key), self.dl.head)\n",
    "            else:  # 否则将该key加入到1号节点\n",
    "                self.dl.head.next.keys.add(key)\n",
    "            self.key2node[key] = self.dl.head.next\n",
    "        else:  # 存在对应节点 说明之前>=1\n",
    "            node.keys.remove(key)\n",
    "            if node.next == self.dl.end or node.next.count > node.count + 1:  # 右节点差值>1或无右节点 则新建一个节点\n",
    "                newNode = Node(node.count + 1, key)\n",
    "                self.dl.addNodeAfter(newNode, node)\n",
    "                self.key2node[key] = newNode\n",
    "            else:  # 否则将该key转移到右边节点\n",
    "                node.next.keys.add(key)\n",
    "                self.key2node[key] = node.next\n",
    "            if not node.keys:\n",
    "                self.dl.remove(node)\n",
    "\n",
    "    def dec(self, key: str) -> None:\n",
    "        node = self.key2node[key]\n",
    "        node.keys.remove(key)\n",
    "        if node.count == 1:  # 该节点计数1 则直接删除\n",
    "            self.key2node.pop(key)\n",
    "        else:\n",
    "            if node == self.dl.head.next or node.pre.count < node.count - 1:  # 该节点在开头或该节点与上一个节点差值>1 则新建节点\n",
    "                newNode = Node(node.count - 1, key)\n",
    "                self.dl.addNodeAfter(newNode, node.pre)\n",
    "                self.key2node[key] = newNode\n",
    "            else:  # 否则转移到上一个节点\n",
    "                node.pre.keys.add(key)\n",
    "                self.key2node[key] = node.pre\n",
    "        if not node.keys:\n",
    "            self.dl.remove(node)\n",
    "\n",
    "    def getMaxKey(self) -> str:\n",
    "        if not self.key2node:\n",
    "            return ''\n",
    "        return tuple(self.dl.end.pre.keys)[0]\n",
    "\n",
    "    def getMinKey(self) -> str:\n",
    "\n",
    "        if not self.key2node:\n",
    "            return ''\n",
    "        return tuple(self.dl.head.next.keys)[0]\n",
    "\n",
    "\n",
    "# Your AllOne object will be instantiated and called as such:\n",
    "# obj = AllOne()\n",
    "# obj.inc(key)\n",
    "# obj.dec(key)\n",
    "# param_3 = obj.getMaxKey()\n",
    "# param_4 = obj.getMinKey()\n",
    "s =AllOne()\n",
    "s.inc('hello'),s.inc('goodbye'),s.inc('goodbye'),s.inc('hello'),s.dec('hello')"
   ]
  },
  {
   "cell_type": "code",
   "execution_count": 3,
   "metadata": {},
   "outputs": [
    {
     "data": {
      "text/plain": [
       "(1, 2, 3, 4, 5)"
      ]
     },
     "execution_count": 3,
     "metadata": {},
     "output_type": "execute_result"
    }
   ],
   "source": [
    "s = {1,2,3,4,5}\n",
    "tuple(s)"
   ]
  },
  {
   "cell_type": "code",
   "execution_count": null,
   "metadata": {},
   "outputs": [],
   "source": []
  }
 ],
 "metadata": {
  "interpreter": {
   "hash": "97367d2de1780ea7c502b529f25888c1b53c0430a7611816b6c7cf19d8435228"
  },
  "kernelspec": {
   "display_name": "Python 3.10.4 64-bit (windows store)",
   "language": "python",
   "name": "python3"
  },
  "language_info": {
   "codemirror_mode": {
    "name": "ipython",
    "version": 3
   },
   "file_extension": ".py",
   "mimetype": "text/x-python",
   "name": "python",
   "nbconvert_exporter": "python",
   "pygments_lexer": "ipython3",
   "version": "3.10.4"
  },
  "orig_nbformat": 4
 },
 "nbformat": 4,
 "nbformat_minor": 2
}
