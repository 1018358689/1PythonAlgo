{
 "cells": [
  {
   "cell_type": "code",
   "execution_count": null,
   "metadata": {},
   "outputs": [],
   "source": [
    "# Definition for singly-linked list.\n",
    "# class ListNode:\n",
    "#     def __init__(self, val=0, next=None):\n",
    "#         self.val = val\n",
    "#         self.next = next\n",
    "class Solution:\n",
    "\n",
    "    def removeZeroSumSublists(self, head: Optional[ListNode]) -> Optional[ListNode]:\n",
    "        x = dummy = ListNode(next=head)\n",
    "        last = {}  # 同值最后出现的点\n",
    "        s = 0\n",
    "        while x:\n",
    "            s += x.val\n",
    "            last[s] = x\n",
    "            x = x.next\n",
    "        x = dummy\n",
    "        s = 0\n",
    "        while x:\n",
    "            s += x.val\n",
    "            x.next = last[s].next  # 后面出现相同前缀则覆盖\n",
    "            x = x.next\n",
    "        return dummy.next"
   ]
  }
 ],
 "metadata": {
  "language_info": {
   "name": "python"
  },
  "orig_nbformat": 4
 },
 "nbformat": 4,
 "nbformat_minor": 2
}
