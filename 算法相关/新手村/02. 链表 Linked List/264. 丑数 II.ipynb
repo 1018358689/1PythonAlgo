{
 "cells": [
  {
   "cell_type": "code",
   "execution_count": 8,
   "metadata": {},
   "outputs": [
    {
     "data": {
      "text/plain": [
       "12"
      ]
     },
     "execution_count": 8,
     "metadata": {},
     "output_type": "execute_result"
    }
   ],
   "source": [
    "class Solution:\n",
    "\n",
    "    def nthUglyNumber(self, n: int) -> int:\n",
    "        p1, p2, p3 = 1, 1, 1\n",
    "        v1, v2, v3 = 1, 1, 1\n",
    "        ugly = [0] * (n + 1)\n",
    "        for p in range(1, n + 1):\n",
    "            tmp = min(v1, v2, v3)\n",
    "            ugly[p] = tmp\n",
    "            if tmp == v1:\n",
    "                v1 = ugly[p1] * 2\n",
    "                p1 += 1\n",
    "            if tmp == v2:\n",
    "                v2 = ugly[p2] * 3\n",
    "                p2 += 1\n",
    "            if tmp == v3:\n",
    "                v3 = ugly[p3] * 5\n",
    "                p3 += 1\n",
    "        return ugly[-1]\n",
    "\n",
    "\n",
    "s = Solution()\n",
    "s.nthUglyNumber(10)"
   ]
  },
  {
   "cell_type": "code",
   "execution_count": null,
   "metadata": {},
   "outputs": [],
   "source": []
  }
 ],
 "metadata": {
  "kernelspec": {
   "display_name": "Python 3.10.5 64-bit",
   "language": "python",
   "name": "python3"
  },
  "language_info": {
   "codemirror_mode": {
    "name": "ipython",
    "version": 3
   },
   "file_extension": ".py",
   "mimetype": "text/x-python",
   "name": "python",
   "nbconvert_exporter": "python",
   "pygments_lexer": "ipython3",
   "version": "3.10.5"
  },
  "orig_nbformat": 4,
  "vscode": {
   "interpreter": {
    "hash": "3196968d684371006099b3d55edeef8ed90365227a30deaef86e5d4aa8519be0"
   }
  }
 },
 "nbformat": 4,
 "nbformat_minor": 2
}
