{
 "cells": [
  {
   "cell_type": "code",
   "execution_count": 1,
   "metadata": {},
   "outputs": [],
   "source": [
    "# Definition for singly-linked list.\n",
    "from typing import Optional\n",
    "\n",
    "\n",
    "class ListNode:\n",
    "    def __init__(self, val=0, next=None):\n",
    "        self.val = val\n",
    "        self.next = next\n",
    "\n",
    "\n",
    "class Solution:\n",
    "    def sortList(self, head: Optional[ListNode]) -> Optional[ListNode]:\n",
    "        def getMid(head):\n",
    "            pre, slow, fast = None, head, head\n",
    "            while fast and fast.next:\n",
    "                pre = slow\n",
    "                slow = slow.next\n",
    "                fast = fast.next.next\n",
    "            return pre\n",
    "\n",
    "        def merge(l1, l2):\n",
    "            dummy = cur = ListNode()\n",
    "            while l1 and l2:\n",
    "                if l1.val < l2.val:\n",
    "                    cur.next = l1\n",
    "                    l1 = l1.next\n",
    "                else:\n",
    "                    cur.next = l2\n",
    "                    l2 = l2.next\n",
    "                cur = cur.next\n",
    "            cur.next = l1 if l1 else l2\n",
    "            return dummy.next\n",
    "\n",
    "        def dc(head):\n",
    "            if not head or not head.next:\n",
    "                return head\n",
    "            mid = getMid(head)\n",
    "            secondList = mid.next\n",
    "            mid.next = None\n",
    "            left = dc(head)\n",
    "            right = dc(secondList)\n",
    "            return merge(left, right)\n",
    "\n",
    "        return dc(head)"
   ]
  },
  {
   "cell_type": "code",
   "execution_count": null,
   "metadata": {},
   "outputs": [],
   "source": [
    "from collections import defaultdict"
   ]
  }
 ],
 "metadata": {
  "kernelspec": {
   "display_name": "Python 3.8.10 64-bit",
   "language": "python",
   "name": "python3"
  },
  "language_info": {
   "codemirror_mode": {
    "name": "ipython",
    "version": 3
   },
   "file_extension": ".py",
   "mimetype": "text/x-python",
   "name": "python",
   "nbconvert_exporter": "python",
   "pygments_lexer": "ipython3",
   "version": "3.8.10"
  },
  "orig_nbformat": 4,
  "vscode": {
   "interpreter": {
    "hash": "570feb405e2e27c949193ac68f46852414290d515b0ba6e5d90d076ed2284471"
   }
  }
 },
 "nbformat": 4,
 "nbformat_minor": 2
}
