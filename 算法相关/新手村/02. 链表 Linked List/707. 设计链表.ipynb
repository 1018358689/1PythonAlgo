{
 "cells": [
  {
   "cell_type": "code",
   "execution_count": 1,
   "metadata": {},
   "outputs": [],
   "source": [
    "class Node:\n",
    "\n",
    "    def __init__(self, val) -> None:\n",
    "        self.val = val\n",
    "        self.pre = None\n",
    "        self.next = None\n",
    "\n",
    "\n",
    "class DoubleList:\n",
    "\n",
    "    def __init__(self) -> None:\n",
    "        self.head = Node(-1)\n",
    "        self.end = Node(-1)\n",
    "        self.head.next = self.end\n",
    "        self.end.pre = self.head\n",
    "\n",
    "    def addAfter(self, node: Node, preNode: Node):\n",
    "        nxt = preNode.next\n",
    "        node.next = nxt\n",
    "        node.pre = preNode\n",
    "        preNode.next = node\n",
    "        nxt.pre = node\n",
    "\n",
    "    def delNode(self, node: Node):\n",
    "        pre, nxt = node.pre, node.next\n",
    "        pre.next = nxt\n",
    "        nxt.pre = pre\n",
    "\n",
    "\n",
    "class MyLinkedList:\n",
    "\n",
    "    def __init__(self):\n",
    "        self.l = []\n",
    "        self.dl = DoubleList()\n",
    "\n",
    "    def get(self, index: int) -> int:\n",
    "        return self.l[index].val if 0 <= index < len(self.l) else -1\n",
    "\n",
    "    def addAtHead(self, val: int) -> None:\n",
    "        node = Node(val)\n",
    "        self.l = [node] + self.l\n",
    "        self.dl.addAfter(node, self.dl.head)\n",
    "\n",
    "    def addAtTail(self, val: int) -> None:\n",
    "        node = Node(val)\n",
    "        self.l.append(node)\n",
    "        self.dl.addAfter(node, self.dl.end.pre)\n",
    "\n",
    "    def addAtIndex(self, index: int, val: int) -> None:\n",
    "        if index == len(self.l):\n",
    "            self.addAtTail(val)\n",
    "        elif index <= 0:\n",
    "            self.addAtHead(val)\n",
    "        elif 0 <= index < len(self.l):\n",
    "            node = Node(val)\n",
    "            self.dl.addAfter(node, self.l[index - 1])\n",
    "            self.l = self.l[:index] + [node] + self.l[index:]\n",
    "\n",
    "    def deleteAtIndex(self, index: int) -> None:\n",
    "        if 0 <= index < len(self.l):\n",
    "            node = self.l.pop(index)\n",
    "            self.dl.delNode(node)\n",
    "\n",
    "\n",
    "# Your MyLinkedList object will be instantiated and called as such:\n",
    "# obj = MyLinkedList()\n",
    "# param_1 = obj.get(index)\n",
    "# obj.addAtHead(val)\n",
    "# obj.addAtTail(val)\n",
    "# obj.addAtIndex(index,val)\n",
    "# obj.deleteAtIndex(index)"
   ]
  },
  {
   "cell_type": "code",
   "execution_count": 5,
   "metadata": {},
   "outputs": [
    {
     "ename": "TypeError",
     "evalue": "sequence index must be integer, not 'slice'",
     "output_type": "error",
     "traceback": [
      "\u001b[1;31m---------------------------------------------------------------------------\u001b[0m",
      "\u001b[1;31mTypeError\u001b[0m                                 Traceback (most recent call last)",
      "Cell \u001b[1;32mIn [5], line 3\u001b[0m\n\u001b[0;32m      1\u001b[0m \u001b[38;5;28;01mfrom\u001b[39;00m \u001b[38;5;21;01mcollections\u001b[39;00m \u001b[38;5;28;01mimport\u001b[39;00m deque\n\u001b[0;32m      2\u001b[0m l \u001b[38;5;241m=\u001b[39m deque([Node(\u001b[38;5;241m1\u001b[39m),Node(\u001b[38;5;241m2\u001b[39m),Node(\u001b[38;5;241m3\u001b[39m)])\n\u001b[1;32m----> 3\u001b[0m l \u001b[38;5;241m=\u001b[39m \u001b[43ml\u001b[49m\u001b[43m[\u001b[49m\u001b[43m:\u001b[49m\u001b[38;5;241;43m2\u001b[39;49m\u001b[43m]\u001b[49m\u001b[38;5;241m+\u001b[39m[Node(\u001b[38;5;241m5\u001b[39m)]\u001b[38;5;241m+\u001b[39ml[\u001b[38;5;241m2\u001b[39m:]\n\u001b[0;32m      4\u001b[0m l\n",
      "\u001b[1;31mTypeError\u001b[0m: sequence index must be integer, not 'slice'"
     ]
    }
   ],
   "source": [
    "from collections import deque\n",
    "l = deque([Node(1),Node(2),Node(3)])\n",
    "l = l[:2]+[Node(5)]+l[2:]\n",
    "l"
   ]
  },
  {
   "cell_type": "code",
   "execution_count": null,
   "metadata": {},
   "outputs": [],
   "source": []
  }
 ],
 "metadata": {
  "kernelspec": {
   "display_name": "Python 3.10.6 64-bit",
   "language": "python",
   "name": "python3"
  },
  "language_info": {
   "codemirror_mode": {
    "name": "ipython",
    "version": 3
   },
   "file_extension": ".py",
   "mimetype": "text/x-python",
   "name": "python",
   "nbconvert_exporter": "python",
   "pygments_lexer": "ipython3",
   "version": "3.10.6"
  },
  "orig_nbformat": 4,
  "vscode": {
   "interpreter": {
    "hash": "dfbf064e0f2c8839bc658dd75dfc0b8f09a0440078cae3024109b27659b69d06"
   }
  }
 },
 "nbformat": 4,
 "nbformat_minor": 2
}
