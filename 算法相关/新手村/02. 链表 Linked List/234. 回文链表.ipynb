{
 "cells": [
  {
   "cell_type": "code",
   "execution_count": 1,
   "metadata": {},
   "outputs": [],
   "source": [
    "# Definition for singly-linked list.\n",
    "class ListNode:\n",
    "    def __init__(self, val=0, next=None):\n",
    "        self.val = val\n",
    "        self.next = next\n",
    "\n",
    "\n",
    "class Solution:\n",
    "    def isPalindrome(self, head: ListNode) -> bool:\n",
    "        def getMid(head):\n",
    "            pre, slow, fast = None, head, head\n",
    "            while fast and fast.next:\n",
    "                pre = slow\n",
    "                slow = slow.next\n",
    "                fast = fast.next.next\n",
    "            if fast:  # 奇数长度\n",
    "                slow = slow.next\n",
    "            return pre, slow\n",
    "\n",
    "        def reverse(head):\n",
    "            if not head or not head.next:\n",
    "                return head\n",
    "            sub = reverse(head.next)\n",
    "            head.next.next = head\n",
    "            head.next = None\n",
    "            return sub\n",
    "\n",
    "        if not head or not head.next:\n",
    "            return True\n",
    "        pre, mid = getMid(head)\n",
    "        pre.next = None\n",
    "        secondList = reverse(mid)\n",
    "        while head:\n",
    "            if head.val != secondList.val:\n",
    "                return False\n",
    "            head = head.next\n",
    "            secondList = secondList.next\n",
    "        return True\n"
   ]
  },
  {
   "cell_type": "code",
   "execution_count": null,
   "metadata": {},
   "outputs": [],
   "source": [
    "# Definition for singly-linked list.\n",
    "class ListNode:\n",
    "    def __init__(self, val=0, next=None):\n",
    "        self.val = val\n",
    "        self.next = next\n",
    "\n",
    "\n",
    "class Solution:\n",
    "    def isPalindrome(self, head: ListNode) -> bool:\n",
    "        def getMid(head):\n",
    "            pre, slow, fast = None, head, head\n",
    "            while fast and fast.next:\n",
    "                pre = slow\n",
    "                slow = slow.next\n",
    "                fast = fast.next.next\n",
    "            if fast:  # 奇数长度\n",
    "                slow = slow.next\n",
    "            return pre, slow\n",
    "\n",
    "        def reverse(head):\n",
    "            pre, cur = None, head\n",
    "            while cur:\n",
    "                tpre, tcur = cur, cur.next\n",
    "                cur.next = pre\n",
    "                pre, cur = tpre, tcur\n",
    "            return pre\n",
    "\n",
    "        if not head or not head.next:\n",
    "            return True\n",
    "        pre, mid = getMid(head)\n",
    "        pre.next = None\n",
    "        secondList = reverse(mid)\n",
    "        while head:\n",
    "            if head.val != secondList.val:\n",
    "                return False\n",
    "            head = head.next\n",
    "            secondList = secondList.next\n",
    "        return True\n"
   ]
  }
 ],
 "metadata": {
  "kernelspec": {
   "display_name": "Python 3.8.10 64-bit",
   "language": "python",
   "name": "python3"
  },
  "language_info": {
   "codemirror_mode": {
    "name": "ipython",
    "version": 3
   },
   "file_extension": ".py",
   "mimetype": "text/x-python",
   "name": "python",
   "nbconvert_exporter": "python",
   "pygments_lexer": "ipython3",
   "version": "3.8.10"
  },
  "orig_nbformat": 4,
  "vscode": {
   "interpreter": {
    "hash": "570feb405e2e27c949193ac68f46852414290d515b0ba6e5d90d076ed2284471"
   }
  }
 },
 "nbformat": 4,
 "nbformat_minor": 2
}
