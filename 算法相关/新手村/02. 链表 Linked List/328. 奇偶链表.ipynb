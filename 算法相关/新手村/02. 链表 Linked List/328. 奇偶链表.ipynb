{
 "cells": [
  {
   "cell_type": "code",
   "execution_count": 1,
   "metadata": {},
   "outputs": [],
   "source": [
    "# Definition for singly-linked list.\n",
    "from typing import Optional\n",
    "\n",
    "\n",
    "class ListNode:\n",
    "    def __init__(self, val=0, next=None):\n",
    "        self.val = val\n",
    "        self.next = next\n",
    "\n",
    "\n",
    "class Solution:\n",
    "    def getMid(self, head):\n",
    "        pre, slow, fast = None, head, head\n",
    "        while fast and fast.next:\n",
    "            pre = slow\n",
    "            slow = slow.next\n",
    "            fast = fast.next.next\n",
    "        if fast:\n",
    "            return slow\n",
    "        return pre\n",
    "\n",
    "    def oddEvenList(self, head: Optional[ListNode]) -> Optional[ListNode]:\n",
    "        if not head or not head.next or not head.next.next:\n",
    "            return head\n",
    "        sub = self.oddEvenList(head.next.next)\n",
    "        mid = self.getMid(sub)\n",
    "        tmp = head.next\n",
    "        head.next = tmp.next\n",
    "        tmp.next = mid.next\n",
    "        mid.next = tmp\n",
    "        return head"
   ]
  },
  {
   "cell_type": "code",
   "execution_count": null,
   "metadata": {},
   "outputs": [],
   "source": [
    "# Definition for singly-linked list.\n",
    "from typing import Optional\n",
    "\n",
    "\n",
    "class ListNode:\n",
    "    def __init__(self, val=0, next=None):\n",
    "        self.val = val\n",
    "        self.next = next\n",
    "\n",
    "\n",
    "class Solution:\n",
    "    def oddEvenList(self, head: Optional[ListNode]) -> Optional[ListNode]:\n",
    "        if not head or not head.next or not head.next.next:\n",
    "            return head\n",
    "        odd, even = head, head.next  # 奇数偶数结点\n",
    "        firstEven = even\n",
    "        while even and even.next:\n",
    "            oddNext = even.next\n",
    "            evenNext = even.next.next\n",
    "\n",
    "            odd.next = oddNext\n",
    "            even.next = evenNext\n",
    "\n",
    "            odd = oddNext\n",
    "            even = evenNext\n",
    "        odd.next = firstEven\n",
    "        return head"
   ]
  }
 ],
 "metadata": {
  "kernelspec": {
   "display_name": "Python 3.8.10 64-bit",
   "language": "python",
   "name": "python3"
  },
  "language_info": {
   "codemirror_mode": {
    "name": "ipython",
    "version": 3
   },
   "file_extension": ".py",
   "mimetype": "text/x-python",
   "name": "python",
   "nbconvert_exporter": "python",
   "pygments_lexer": "ipython3",
   "version": "3.8.10"
  },
  "orig_nbformat": 4,
  "vscode": {
   "interpreter": {
    "hash": "570feb405e2e27c949193ac68f46852414290d515b0ba6e5d90d076ed2284471"
   }
  }
 },
 "nbformat": 4,
 "nbformat_minor": 2
}
