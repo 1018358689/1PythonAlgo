{
 "cells": [
  {
   "cell_type": "code",
   "execution_count": 1,
   "metadata": {},
   "outputs": [],
   "source": [
    "# 2616ms\n",
    "from typing import List,Optional\n",
    "# Definition for singly-linked list.\n",
    "class ListNode:\n",
    "    def __init__(self, val=0, next=None):\n",
    "        self.val = val\n",
    "        self.next = next\n",
    "class Solution:\n",
    "    def mergeKLists(self, lists: List[Optional[ListNode]]) -> Optional[ListNode]:\n",
    "        def merge(l1,l2):\n",
    "            dummy = cur = ListNode()\n",
    "            while l1 and l2:\n",
    "                if l1.val<l2.val:\n",
    "                    cur.next=l1\n",
    "                    l1=l1.next\n",
    "                else:\n",
    "                    cur.next=l2\n",
    "                    l2=l2.next\n",
    "                cur = cur.next\n",
    "            cur.next = l1 if l1 else l2\n",
    "            return dummy.next\n",
    "        ans = None\n",
    "        for l in lists:\n",
    "            ans = merge(ans,l)\n",
    "        return ans"
   ]
  },
  {
   "cell_type": "code",
   "execution_count": 2,
   "metadata": {},
   "outputs": [],
   "source": [
    "# 80ms\n",
    "from typing import List, Optional\n",
    "# Definition for singly-linked list.\n",
    "class ListNode:\n",
    "\n",
    "    def __init__(self, val=0, next=None):\n",
    "        self.val = val\n",
    "        self.next = next\n",
    "\n",
    "\n",
    "class Solution:\n",
    "\n",
    "    def mergeKLists(self, lists: List[Optional[ListNode]]) -> Optional[ListNode]:\n",
    "        if not lists:\n",
    "            return None\n",
    "\n",
    "        def merge(l1, l2):\n",
    "            dummy = cur = ListNode()\n",
    "            while l1 and l2:\n",
    "                if l1.val < l2.val:\n",
    "                    cur.next = l1\n",
    "                    l1 = l1.next\n",
    "                else:\n",
    "                    cur.next = l2\n",
    "                    l2 = l2.next\n",
    "                cur = cur.next\n",
    "            cur.next = l1 if l1 else l2\n",
    "            return dummy.next\n",
    "\n",
    "        # 归并\n",
    "        def dc(si, ei):  # 合并 [si,ei] 的结果\n",
    "            if si == ei:\n",
    "                return lists[si]\n",
    "            mi = si + ei >> 1\n",
    "            left = dc(si, mi)\n",
    "            right = dc(mi + 1, ei)\n",
    "            return merge(left, right)\n",
    "\n",
    "        return dc(0, len(lists) - 1)\n"
   ]
  },
  {
   "cell_type": "code",
   "execution_count": 4,
   "metadata": {},
   "outputs": [],
   "source": [
    "# 52ms\n",
    "from typing import List, Optional\n",
    "import heapq\n",
    "\n",
    "\n",
    "# Definition for singly-linked list.\n",
    "class ListNode:\n",
    "\n",
    "    def __init__(self, val=0, next=None):\n",
    "        self.val = val\n",
    "        self.next = next\n",
    "\n",
    "\n",
    "class Solution:\n",
    "\n",
    "    def mergeKLists(self, lists: List[Optional[ListNode]]) -> Optional[ListNode]:\n",
    "        dummy = cur = ListNode()\n",
    "        pq = []\n",
    "        for i, l in enumerate(lists):\n",
    "            if l:\n",
    "                heapq.heappush(pq, (l.val, i, l))\n",
    "        while pq:\n",
    "            _, i, node = heapq.heappop(pq)\n",
    "            cur.next = node\n",
    "            if node.next:\n",
    "                heapq.heappush(pq, (node.next.val, i, node.next))\n",
    "            cur = cur.next\n",
    "        return dummy.next"
   ]
  }
 ],
 "metadata": {
  "kernelspec": {
   "display_name": "Python 3.10.5 64-bit",
   "language": "python",
   "name": "python3"
  },
  "language_info": {
   "codemirror_mode": {
    "name": "ipython",
    "version": 3
   },
   "file_extension": ".py",
   "mimetype": "text/x-python",
   "name": "python",
   "nbconvert_exporter": "python",
   "pygments_lexer": "ipython3",
   "version": "3.10.5"
  },
  "orig_nbformat": 4,
  "vscode": {
   "interpreter": {
    "hash": "3196968d684371006099b3d55edeef8ed90365227a30deaef86e5d4aa8519be0"
   }
  }
 },
 "nbformat": 4,
 "nbformat_minor": 2
}
