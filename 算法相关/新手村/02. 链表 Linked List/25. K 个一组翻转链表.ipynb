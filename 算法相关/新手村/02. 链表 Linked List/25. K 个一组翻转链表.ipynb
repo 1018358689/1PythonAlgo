{
 "cells": [
  {
   "cell_type": "code",
   "execution_count": 13,
   "metadata": {},
   "outputs": [],
   "source": [
    "# Definition for singly-linked list.\n",
    "from typing import Optional\n",
    "\n",
    "\n",
    "class ListNode:\n",
    "    def __init__(self, val=0, next=None):\n",
    "        self.val = val\n",
    "        self.next = next\n",
    "\n",
    "\n",
    "class Solution:\n",
    "    def reverse(self, a: Optional[ListNode], b: Optional[ListNode]):  # 反转[a,b)链表\n",
    "        pre, cur = None, a\n",
    "        while cur != b:\n",
    "            tmp = cur.next\n",
    "            cur.next = pre\n",
    "            pre = cur\n",
    "            cur = tmp\n",
    "        return pre\n",
    "\n",
    "    def reverseKGroup(self, head: Optional[ListNode], k: int) -> Optional[ListNode]:\n",
    "        if not head:\n",
    "            return None\n",
    "        a = b = head\n",
    "        for _ in range(k):\n",
    "            if not b:\n",
    "                return head\n",
    "            b = b.next\n",
    "        tmp = self.reverse(a, b)\n",
    "        a.next = self.reverseKGroup(b, k)\n",
    "        return tmp\n"
   ]
  },
  {
   "cell_type": "code",
   "execution_count": null,
   "metadata": {},
   "outputs": [],
   "source": [
    "# Definition for singly-linked list.\n",
    "from typing import Optional\n",
    "\n",
    "\n",
    "class ListNode:\n",
    "\n",
    "    def __init__(self, val=0, next=None):\n",
    "        self.val = val\n",
    "        self.next = next\n",
    "\n",
    "\n",
    "class Solution:\n",
    "\n",
    "    def reverse(self, a: Optional[ListNode], b: Optional[ListNode]):  # 反转[a,b)链表\n",
    "        if a == b or a.next == b:\n",
    "            return a\n",
    "        tmp = self.reverse(a.next, b)\n",
    "        a.next.next = a\n",
    "        a.next = b\n",
    "        return tmp\n",
    "\n",
    "    def reverseKGroup(self, head: Optional[ListNode], k: int) -> Optional[ListNode]:\n",
    "        if not head:\n",
    "            return None\n",
    "        a = b = head\n",
    "        for _ in range(k):\n",
    "            if not b:\n",
    "                return head\n",
    "            b = b.next\n",
    "        tmp = self.reverse(a, b)\n",
    "        a.next = self.reverseKGroup(b, k)\n",
    "        return tmp\n"
   ]
  }
 ],
 "metadata": {
  "kernelspec": {
   "display_name": "Python 3.10.5 64-bit",
   "language": "python",
   "name": "python3"
  },
  "language_info": {
   "codemirror_mode": {
    "name": "ipython",
    "version": 3
   },
   "file_extension": ".py",
   "mimetype": "text/x-python",
   "name": "python",
   "nbconvert_exporter": "python",
   "pygments_lexer": "ipython3",
   "version": "3.10.5"
  },
  "orig_nbformat": 4,
  "vscode": {
   "interpreter": {
    "hash": "3196968d684371006099b3d55edeef8ed90365227a30deaef86e5d4aa8519be0"
   }
  }
 },
 "nbformat": 4,
 "nbformat_minor": 2
}
