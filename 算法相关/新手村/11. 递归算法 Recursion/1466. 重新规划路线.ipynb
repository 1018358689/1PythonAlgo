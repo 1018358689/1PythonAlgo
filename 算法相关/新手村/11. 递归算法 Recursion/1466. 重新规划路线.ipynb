{
 "cells": [
  {
   "cell_type": "code",
   "execution_count": null,
   "metadata": {},
   "outputs": [],
   "source": [
    "class Solution:\n",
    "\n",
    "    def minReorder(self, n: int, connections: List[List[int]]) -> int:\n",
    "        # 路线网形成一颗树 意味着0到其他点 路线唯一\n",
    "        adj = [[] for _ in range(n)]\n",
    "        dirs = set(map(tuple, connections))\n",
    "        for x, y in connections:\n",
    "            adj[x].append(y)\n",
    "            adj[y].append(x)\n",
    "        ans = 0\n",
    "\n",
    "        def dfs(x, fa):\n",
    "            for y in adj[x]:\n",
    "                if y == fa: continue\n",
    "                nonlocal ans\n",
    "                ans += (y, x) not in dirs\n",
    "                dfs(y, x)\n",
    "\n",
    "        dfs(0, -1)\n",
    "        return ans"
   ]
  }
 ],
 "metadata": {
  "language_info": {
   "name": "python"
  },
  "orig_nbformat": 4
 },
 "nbformat": 4,
 "nbformat_minor": 2
}
