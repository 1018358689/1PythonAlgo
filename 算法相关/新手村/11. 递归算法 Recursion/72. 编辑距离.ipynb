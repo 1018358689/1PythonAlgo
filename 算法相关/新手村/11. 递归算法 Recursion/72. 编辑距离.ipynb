{
 "cells": [
  {
   "cell_type": "code",
   "execution_count": 1,
   "metadata": {},
   "outputs": [
    {
     "data": {
      "text/plain": [
       "3"
      ]
     },
     "execution_count": 1,
     "metadata": {},
     "output_type": "execute_result"
    }
   ],
   "source": [
    "def f(s1: str, s2: str):\n",
    "\n",
    "    def dfs(i, j):\n",
    "        if i == 0:\n",
    "            return j\n",
    "        if j == 0:\n",
    "            return i\n",
    "        if s1[i - 1] == s2[j - 1]:\n",
    "            return dfs(i - 1, j - 1)\n",
    "        else:\n",
    "            return min(dfs(i, j - 1), dfs(i - 1, j), dfs(i - 1, j - 1)) + 1\n",
    "\n",
    "    return dfs(len(s1), len(s2))\n",
    "\n",
    "\n",
    "f('horse', 'ros')\n"
   ]
  },
  {
   "cell_type": "code",
   "execution_count": 2,
   "metadata": {},
   "outputs": [
    {
     "data": {
      "text/plain": [
       "3"
      ]
     },
     "execution_count": 2,
     "metadata": {},
     "output_type": "execute_result"
    }
   ],
   "source": [
    "def f(s1: str, s2: str):\n",
    "    mem = {}\n",
    "    def dfs(i, j):\n",
    "        if i == 0:\n",
    "            return j\n",
    "        if j == 0:\n",
    "            return i\n",
    "        if (i,j) not in mem:\n",
    "            if s1[i - 1] == s2[j - 1]:\n",
    "                mem[(i,j)] =dfs(i - 1, j - 1)\n",
    "            else:\n",
    "                mem[(i,j)] = min(dfs(i, j - 1), dfs(i - 1, j), dfs(i - 1, j - 1)) + 1\n",
    "        return mem[(i,j)]\n",
    "    return dfs(len(s1), len(s2))\n",
    "\n",
    "\n",
    "f('horse', 'ros')\n"
   ]
  },
  {
   "cell_type": "code",
   "execution_count": 5,
   "metadata": {},
   "outputs": [
    {
     "data": {
      "text/plain": [
       "(3, 0)"
      ]
     },
     "execution_count": 5,
     "metadata": {},
     "output_type": "execute_result"
    }
   ],
   "source": [
    "def f(s1: str, s2: str):\n",
    "    # dp[i][j] 前i个字符s1和前j个字符的s2最少编辑次数\n",
    "    # basecase dp[0][j] dp[i][j] = i j\n",
    "    dp = [[0] * (len(s2) + 1) for _ in range(len(s1) + 1)]\n",
    "    for i in range(len(s1) + 1):\n",
    "        dp[i][0] = i\n",
    "    for j in range(len(s2) + 1):\n",
    "        dp[0][j] = j\n",
    "    for i in range(1, len(s1) + 1):\n",
    "        for j in range(1, len(s2) + 1):\n",
    "            if s1[i - 1] == s2[j - 1]:\n",
    "                dp[i][j] = dp[i - 1][j - 1]\n",
    "            else:\n",
    "                dp[i][j] = min(dp[i][j - 1], dp[i - 1][j], dp[i - 1][j - 1]) + 1\n",
    "    return dp[-1][-1]\n",
    "\n",
    "\n",
    "f('horse', 'ros'),f(\"islander\", \"islander\")\n",
    "\n"
   ]
  },
  {
   "cell_type": "code",
   "execution_count": null,
   "metadata": {},
   "outputs": [],
   "source": []
  }
 ],
 "metadata": {
  "interpreter": {
   "hash": "aee8b7b246df8f9039afb4144a1f6fd8d2ca17a180786b69acc140d282b71a49"
  },
  "kernelspec": {
   "display_name": "Python 3.10.2 64-bit",
   "language": "python",
   "name": "python3"
  },
  "language_info": {
   "codemirror_mode": {
    "name": "ipython",
    "version": 3
   },
   "file_extension": ".py",
   "mimetype": "text/x-python",
   "name": "python",
   "nbconvert_exporter": "python",
   "pygments_lexer": "ipython3",
   "version": "3.10.2"
  },
  "orig_nbformat": 4
 },
 "nbformat": 4,
 "nbformat_minor": 2
}
