{
 "cells": [
  {
   "cell_type": "code",
   "execution_count": null,
   "metadata": {},
   "outputs": [],
   "source": [
    "from typing import List\n",
    "\n",
    "\n",
    "class Solution:\n",
    "\n",
    "    def numOfMinutes(self, n: int, headID: int, manager: List[int], informTime: List[int]) -> int:\n",
    "        adj = [[] for _ in range(n)]\n",
    "        for i in range(n):\n",
    "            if i != headID:\n",
    "                adj[manager[i]].append(i)\n",
    "        ans = 0\n",
    "\n",
    "        def dfs(cur, totalCost):  # 到当前节点 已经所用时间\n",
    "            if not adj[cur]:\n",
    "                nonlocal ans\n",
    "                ans = max(ans, totalCost)\n",
    "                return\n",
    "            for nei in adj[cur]:\n",
    "                dfs(nei, totalCost + informTime[cur])\n",
    "\n",
    "        dfs(headID, 0)\n",
    "        return ans\n"
   ]
  }
 ],
 "metadata": {
  "language_info": {
   "name": "python"
  },
  "orig_nbformat": 4
 },
 "nbformat": 4,
 "nbformat_minor": 2
}
