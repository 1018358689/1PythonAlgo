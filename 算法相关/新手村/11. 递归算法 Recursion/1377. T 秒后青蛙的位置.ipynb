{
 "cells": [
  {
   "cell_type": "code",
   "execution_count": null,
   "metadata": {},
   "outputs": [],
   "source": [
    "class Solution:\n",
    "\n",
    "    def frogPosition(self, n: int, edges: List[List[int]], t: int, target: int) -> float:\n",
    "        outs = [-1] * (n + 1)\n",
    "        adj = [[] for _ in range(n + 1)]\n",
    "        for x, y in edges + [[0, 1]]:\n",
    "            adj[x].append(y)\n",
    "            adj[y].append(x)\n",
    "            outs[x] += 1\n",
    "            outs[y] += 1\n",
    "\n",
    "        def dfs(x, fa, time, p):  # 当前点 父节点 时间 概率\n",
    "            if x == target:\n",
    "                if outs[x] == 0 or time == t:  # 到达目标点 且 目标点是叶子节点原地跳 或 时间刚好到\n",
    "                    return p\n",
    "                return 0\n",
    "            if time == t:  # 没到目标点 时间也用完了\n",
    "                return 0\n",
    "            ans = 0\n",
    "            for y in adj[x]:\n",
    "                if y == fa: continue\n",
    "                ans = max(ans, dfs(y, x, time + 1, p / outs[x]))  # 0概率尽量舍去\n",
    "            return ans\n",
    "\n",
    "        return dfs(1, 0, 0, 1)"
   ]
  },
  {
   "cell_type": "code",
   "execution_count": null,
   "metadata": {},
   "outputs": [],
   "source": [
    "class Solution:\n",
    "\n",
    "    def frogPosition(self, n: int, edges: List[List[int]], t: int, target: int) -> float:\n",
    "        outs = [-1] * (n + 1)\n",
    "        adj = [[] for _ in range(n + 1)]\n",
    "        for x, y in edges + [[0, 1]]:\n",
    "            adj[x].append(y)\n",
    "            adj[y].append(x)\n",
    "            outs[x] += 1\n",
    "            outs[y] += 1\n",
    "\n",
    "        def dfs(x, fa, time, p):  # 当前点 父节点 时间 概率\n",
    "            if x == target:\n",
    "                if outs[x] == 0 or time == t:  # 到达目标点 且 目标点是叶子节点原地跳 或 时间刚好到\n",
    "                    return p\n",
    "                return 0\n",
    "            if time == t:  # 没到目标点 时间也用完了\n",
    "                return 0\n",
    "            for y in adj[x]:\n",
    "                if y == fa: continue\n",
    "                if (sub := dfs(y, x, time + 1, p / outs[x])):  # 非0 即找到了目标点且能停住\n",
    "                    return sub\n",
    "            return 0\n",
    "\n",
    "        return dfs(1, 0, 0, 1)"
   ]
  }
 ],
 "metadata": {
  "language_info": {
   "name": "python"
  },
  "orig_nbformat": 4
 },
 "nbformat": 4,
 "nbformat_minor": 2
}
