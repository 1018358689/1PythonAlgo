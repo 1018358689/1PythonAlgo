{
 "cells": [
  {
   "cell_type": "code",
   "execution_count": 16,
   "metadata": {},
   "outputs": [
    {
     "data": {
      "text/plain": [
       "7"
      ]
     },
     "execution_count": 16,
     "metadata": {},
     "output_type": "execute_result"
    }
   ],
   "source": [
    "from typing import List\n",
    "from functools import lru_cache\n",
    "\n",
    "\n",
    "class Solution:\n",
    "\n",
    "    def calculateMinimumHP(self, dungeon: List[List[int]]) -> int:\n",
    "        rows, cols = len(dungeon), len(dungeon[0])\n",
    "\n",
    "        @lru_cache(None)\n",
    "        def dfs(r, c):  # 从(r,c)到右下角的最低健康值\n",
    "            # basecase\n",
    "            if (r, c) == (rows - 1, cols - 1):\n",
    "                return max(-dungeon[rows - 1][cols - 1] + 1, 1)\n",
    "            if r == rows - 1:\n",
    "                tmp = dfs(r, c + 1) - dungeon[r][c]\n",
    "                return tmp if tmp >= 1 else 1\n",
    "            if c == cols - 1:\n",
    "                tmp = dfs(r + 1, c) - dungeon[r][c]\n",
    "                return tmp if tmp >= 1 else 1\n",
    "            # subProblem\n",
    "            sub1 = dfs(r + 1, c) - dungeon[r][c]\n",
    "            sub1 = sub1 if sub1 >= 1 else 1\n",
    "            sub2 = dfs(r, c + 1) - dungeon[r][c]\n",
    "            sub2 = sub2 if sub2 >= 1 else 1\n",
    "            return min(sub1, sub2)\n",
    "\n",
    "        return dfs(0, 0)\n",
    "\n",
    "\n",
    "s = Solution()\n",
    "s.calculateMinimumHP([[-2, -3, 3], [-5, -10, 1], [10, 30, -5]])\n"
   ]
  },
  {
   "cell_type": "code",
   "execution_count": 1,
   "metadata": {},
   "outputs": [
    {
     "data": {
      "text/plain": [
       "7"
      ]
     },
     "execution_count": 1,
     "metadata": {},
     "output_type": "execute_result"
    }
   ],
   "source": [
    "from functools import lru_cache\n",
    "from typing import List\n",
    "\n",
    "\n",
    "class Solution:\n",
    "\n",
    "    def calculateMinimumHP(self, dungeon: List[List[int]]) -> int:\n",
    "        rows, cols = len(dungeon), len(dungeon[0])\n",
    "\n",
    "        @lru_cache(None)\n",
    "        def dfs(r, c):  # 从(r,c)到右下角的最低健康值\n",
    "            # basecase 终点 下边和右边\n",
    "            if (r, c) == (rows - 1, cols - 1):\n",
    "                return max(-dungeon[rows - 1][cols - 1] + 1, 1)\n",
    "            if r == rows - 1:\n",
    "                return max(dfs(r, c + 1) - dungeon[r][c], 1)\n",
    "            if c == cols - 1:\n",
    "                return max(dfs(r + 1, c) - dungeon[r][c], 1)\n",
    "            # subProblem\n",
    "            sub1 = dfs(r + 1, c)\n",
    "            sub2 = dfs(r, c + 1)\n",
    "            return min(max(sub1 - dungeon[r][c], 1), max(sub2 - dungeon[r][c], 1))\n",
    "\n",
    "        return dfs(0, 0)\n",
    "\n",
    "\n",
    "s = Solution()\n",
    "s.calculateMinimumHP([[-2, -3, 3], [-5, -10, 1], [10, 30, -5]])"
   ]
  },
  {
   "cell_type": "code",
   "execution_count": null,
   "metadata": {},
   "outputs": [],
   "source": []
  }
 ],
 "metadata": {
  "interpreter": {
   "hash": "aee8b7b246df8f9039afb4144a1f6fd8d2ca17a180786b69acc140d282b71a49"
  },
  "kernelspec": {
   "display_name": "Python 3.10.1 64-bit",
   "language": "python",
   "name": "python3"
  },
  "language_info": {
   "codemirror_mode": {
    "name": "ipython",
    "version": 3
   },
   "file_extension": ".py",
   "mimetype": "text/x-python",
   "name": "python",
   "nbconvert_exporter": "python",
   "pygments_lexer": "ipython3",
   "version": "3.11.1"
  },
  "orig_nbformat": 4
 },
 "nbformat": 4,
 "nbformat_minor": 2
}
