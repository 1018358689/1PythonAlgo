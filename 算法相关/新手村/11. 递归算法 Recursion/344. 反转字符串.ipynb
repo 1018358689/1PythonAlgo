{
 "cells": [
  {
   "cell_type": "code",
   "execution_count": 17,
   "metadata": {},
   "outputs": [
    {
     "data": {
      "text/plain": [
       "(['o', 'l', 'l', 'l', 'e', 'h'], ['h', 'e', 'l', 'l', 'o'])"
      ]
     },
     "execution_count": 17,
     "metadata": {},
     "output_type": "execute_result"
    }
   ],
   "source": [
    "# 不是原地\n",
    "def reverseString(s: list) -> None:\n",
    "    \"\"\"\n",
    "    Do not return anything, modify s in-place instead.\n",
    "    \"\"\"\n",
    "    if not s:\n",
    "        return s\n",
    "    return [s[-1]] + reverseString(s[1:len(s) - 1]) + [s[0]]\n",
    "\n",
    "\n",
    "s = [\"h\", \"e\", \"l\", \"l\", \"o\"]\n",
    "reverseString(s), s\n"
   ]
  },
  {
   "cell_type": "code",
   "execution_count": 16,
   "metadata": {},
   "outputs": [
    {
     "data": {
      "text/plain": [
       "(None, ['o', 'l', 'l', 'e', 'h'])"
      ]
     },
     "execution_count": 16,
     "metadata": {},
     "output_type": "execute_result"
    }
   ],
   "source": [
    "def reverseString(s: list) -> None:\n",
    "    \"\"\"\n",
    "    Do not return anything, modify s in-place instead.\n",
    "    \"\"\"\n",
    "\n",
    "    def rev(s, l, r):\n",
    "        if l >= r:\n",
    "            return\n",
    "        s[l], s[r] = s[r], s[l]\n",
    "        rev(s, l + 1, r - 1)\n",
    "\n",
    "    rev(s, 0, len(s) - 1)\n",
    "\n",
    "\n",
    "s = [\"h\", \"e\", \"l\", \"l\", \"o\"]\n",
    "reverseString(s), s"
   ]
  },
  {
   "cell_type": "code",
   "execution_count": null,
   "metadata": {},
   "outputs": [],
   "source": []
  }
 ],
 "metadata": {
  "interpreter": {
   "hash": "aee8b7b246df8f9039afb4144a1f6fd8d2ca17a180786b69acc140d282b71a49"
  },
  "kernelspec": {
   "display_name": "Python 3.10.1 64-bit",
   "language": "python",
   "name": "python3"
  },
  "language_info": {
   "codemirror_mode": {
    "name": "ipython",
    "version": 3
   },
   "file_extension": ".py",
   "mimetype": "text/x-python",
   "name": "python",
   "nbconvert_exporter": "python",
   "pygments_lexer": "ipython3",
   "version": "3.10.1"
  },
  "orig_nbformat": 4
 },
 "nbformat": 4,
 "nbformat_minor": 2
}
