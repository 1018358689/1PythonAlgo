{
 "cells": [
  {
   "cell_type": "code",
   "execution_count": 1,
   "metadata": {},
   "outputs": [],
   "source": [
    "# Definition for a binary tree node.\n",
    "class TreeNode:\n",
    "\n",
    "    def __init__(self, val=0, left=None, right=None):\n",
    "        self.val = val\n",
    "        self.left = left\n",
    "        self.right = right\n",
    "\n",
    "\n",
    "class Solution:\n",
    "\n",
    "    def diameterOfBinaryTree(self, root: TreeNode) -> int:\n",
    "        res = 0\n",
    "\n",
    "        def maxDepth(node: TreeNode):  # 以node为根的最大节点个数\n",
    "            nonlocal res\n",
    "            if not node:\n",
    "                return 0\n",
    "            leftMax = maxDepth(node.left)\n",
    "            rightMax = maxDepth(node.right)\n",
    "            res = max(res, leftMax + rightMax)\n",
    "            return 1 + max(leftMax, rightMax)\n",
    "\n",
    "        maxDepth(root)\n",
    "        return res"
   ]
  },
  {
   "cell_type": "code",
   "execution_count": null,
   "metadata": {},
   "outputs": [],
   "source": [
    "# Definition for a binary tree node.\n",
    "class TreeNode:\n",
    "\n",
    "    def __init__(self, val=0, left=None, right=None):\n",
    "        self.val = val\n",
    "        self.left = left\n",
    "        self.right = right\n",
    "\n",
    "\n",
    "class Solution:\n",
    "\n",
    "    def diameterOfBinaryTree(self, root: TreeNode) -> int:\n",
    "        res = 0\n",
    "\n",
    "        def maxDepth(node: TreeNode):  # 以node为根的最大深度\n",
    "            nonlocal res\n",
    "            if not node: # 空节点深度-1 无孩子节点才是0\n",
    "                return -1\n",
    "            leftMax = maxDepth(node.left)\n",
    "            rightMax = maxDepth(node.right)\n",
    "            res = max(res, leftMax + rightMax + 2)\n",
    "            return 1 + max(leftMax, rightMax)\n",
    "\n",
    "        maxDepth(root)\n",
    "        return res"
   ]
  }
 ],
 "metadata": {
  "interpreter": {
   "hash": "aee8b7b246df8f9039afb4144a1f6fd8d2ca17a180786b69acc140d282b71a49"
  },
  "kernelspec": {
   "display_name": "Python 3.10.1 64-bit",
   "language": "python",
   "name": "python3"
  },
  "language_info": {
   "codemirror_mode": {
    "name": "ipython",
    "version": 3
   },
   "file_extension": ".py",
   "mimetype": "text/x-python",
   "name": "python",
   "nbconvert_exporter": "python",
   "pygments_lexer": "ipython3",
   "version": "3.10.1"
  },
  "orig_nbformat": 4
 },
 "nbformat": 4,
 "nbformat_minor": 2
}
