{
 "cells": [
  {
   "cell_type": "code",
   "execution_count": null,
   "metadata": {},
   "outputs": [],
   "source": [
    "class Solution:\n",
    "\n",
    "    def allPathsSourceTarget(self, graph: List[List[int]]) -> List[List[int]]:\n",
    "        # 有向无环图 意味着0到n-1多条路线不会进入环\n",
    "        n = len(graph)\n",
    "        ans = []\n",
    "\n",
    "        def dfs(x, path):\n",
    "            if x == n - 1:\n",
    "                ans.append(path[:])\n",
    "                return\n",
    "            for y in graph[x]:\n",
    "                dfs(y, path + [y])\n",
    "\n",
    "        dfs(0, [0])\n",
    "        return ans"
   ]
  }
 ],
 "metadata": {
  "language_info": {
   "name": "python"
  },
  "orig_nbformat": 4
 },
 "nbformat": 4,
 "nbformat_minor": 2
}
