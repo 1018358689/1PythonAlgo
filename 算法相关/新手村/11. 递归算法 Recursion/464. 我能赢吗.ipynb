{
 "cells": [
  {
   "cell_type": "code",
   "execution_count": 21,
   "metadata": {},
   "outputs": [
    {
     "data": {
      "text/plain": [
       "True"
      ]
     },
     "execution_count": 21,
     "metadata": {},
     "output_type": "execute_result"
    }
   ],
   "source": [
    "class Solution:\n",
    "\n",
    "    def canIWin(self, maxChoosableInteger: int, desiredTotal: int) -> bool:\n",
    "\n",
    "        def dfs(choosable, sum):\n",
    "            for choose in choosable:\n",
    "                if choose + sum >= desiredTotal:\n",
    "                    return True\n",
    "                else:\n",
    "                    newchoosable = choosable - {choose}\n",
    "                    if not dfs(newchoosable, sum + choose):\n",
    "                        return True\n",
    "            return False\n",
    "\n",
    "        choosable = set(range(1, maxChoosableInteger + 1))\n",
    "        return dfs(choosable, 0)\n",
    "\n",
    "\n",
    "s = Solution()\n",
    "s.canIWin(5, 50)\n"
   ]
  },
  {
   "cell_type": "code",
   "execution_count": 25,
   "metadata": {},
   "outputs": [
    {
     "data": {
      "text/plain": [
       "True"
      ]
     },
     "execution_count": 25,
     "metadata": {},
     "output_type": "execute_result"
    }
   ],
   "source": [
    "from functools import lru_cache\n",
    "\n",
    "\n",
    "class Solution:\n",
    "\n",
    "    def canIWin(self, maxChoosableInteger: int, desiredTotal: int) -> bool:\n",
    "        # if maxChoosableInteger >= desiredTotal: return True\n",
    "        # if (1 + maxChoosableInteger) * maxChoosableInteger / 2 < desiredTotal: return False\n",
    "\n",
    "        @lru_cache(None)\n",
    "        def dfs(state, curSum):  # 已选的数字状态&累计和\n",
    "            for choose in range(1, maxChoosableInteger + 1):\n",
    "                if (1 << choose) & state:\n",
    "                    continue\n",
    "                if curSum + choose >= desiredTotal:\n",
    "                    return True\n",
    "                else:\n",
    "                    if not dfs((1 << choose) | state, curSum + choose):\n",
    "                        return True\n",
    "            return False\n",
    "\n",
    "        return dfs(0, 0)\n",
    "\n",
    "\n",
    "s = Solution()\n",
    "s.canIWin(5, 50)\n"
   ]
  },
  {
   "cell_type": "code",
   "execution_count": 13,
   "metadata": {},
   "outputs": [
    {
     "data": {
      "text/plain": [
       "False"
      ]
     },
     "execution_count": 13,
     "metadata": {},
     "output_type": "execute_result"
    }
   ],
   "source": [
    "from functools import lru_cache\n",
    "\n",
    "\n",
    "class Solution:\n",
    "\n",
    "    def canIWin(self, m: int, d: int) -> bool:\n",
    "\n",
    "        # if d <= m: return True\n",
    "        # if sum(range(m + 1)) < d: return False\n",
    "\n",
    "        @lru_cache(None)\n",
    "        def dfs(mask, cursum):\n",
    "            for i in range(1, m + 1):\n",
    "                cur = 1 << i\n",
    "                if cur & mask == 0:\n",
    "                    if cursum + i >= d or not dfs(cur | mask, cursum + i):\n",
    "                        return True\n",
    "            return False\n",
    "\n",
    "        return dfs(0, 0)\n",
    "\n",
    "\n",
    "s = Solution()\n",
    "s.canIWin(10, 40)"
   ]
  },
  {
   "cell_type": "code",
   "execution_count": null,
   "metadata": {},
   "outputs": [],
   "source": []
  }
 ],
 "metadata": {
  "interpreter": {
   "hash": "aee8b7b246df8f9039afb4144a1f6fd8d2ca17a180786b69acc140d282b71a49"
  },
  "kernelspec": {
   "display_name": "Python 3.10.1 64-bit",
   "language": "python",
   "name": "python3"
  },
  "language_info": {
   "codemirror_mode": {
    "name": "ipython",
    "version": 3
   },
   "file_extension": ".py",
   "mimetype": "text/x-python",
   "name": "python",
   "nbconvert_exporter": "python",
   "pygments_lexer": "ipython3",
   "version": "3.10.1"
  },
  "orig_nbformat": 4
 },
 "nbformat": 4,
 "nbformat_minor": 2
}
