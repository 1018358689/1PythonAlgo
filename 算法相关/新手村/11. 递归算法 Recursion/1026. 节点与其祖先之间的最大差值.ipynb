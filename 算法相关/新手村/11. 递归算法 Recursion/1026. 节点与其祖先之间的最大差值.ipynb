{
 "cells": [
  {
   "cell_type": "code",
   "execution_count": null,
   "metadata": {},
   "outputs": [],
   "source": [
    "# Definition for a binary tree node.\n",
    "# class TreeNode:\n",
    "#     def __init__(self, val=0, left=None, right=None):\n",
    "#         self.val = val\n",
    "#         self.left = left\n",
    "#         self.right = right\n",
    "class Solution:\n",
    "    def maxAncestorDiff(self, root: Optional[TreeNode]) -> int:\n",
    "        ans = 0\n",
    "        def dfs(o): # 返回o为根子树的最大和最小值(含根)\n",
    "            nonlocal ans\n",
    "            mx = mn = o.val\n",
    "            if o.left:\n",
    "                l_mx, l_mn = dfs(o.left)\n",
    "                mx = max(mx, l_mx)\n",
    "                mn = min(mn, l_mn)\n",
    "                ans = max(ans, abs(o.val - l_mx), abs(o.val - l_mn))\n",
    "            if o.right:\n",
    "                r_mx, r_mn = dfs(o.right)\n",
    "                mx = max(mx, r_mx)\n",
    "                mn = min(mn, r_mn)\n",
    "                ans = max(ans, abs(o.val - r_mx), abs(o.val - r_mn))\n",
    "            return mx, mn\n",
    "        dfs(root)\n",
    "        return ans"
   ]
  },
  {
   "cell_type": "code",
   "execution_count": null,
   "metadata": {},
   "outputs": [],
   "source": [
    "# Definition for a binary tree node.\n",
    "# class TreeNode:\n",
    "#     def __init__(self, val=0, left=None, right=None):\n",
    "#         self.val = val\n",
    "#         self.left = left\n",
    "#         self.right = right\n",
    "class Solution:\n",
    "    def maxAncestorDiff(self, root: Optional[TreeNode]) -> int:\n",
    "        ans = 0\n",
    "        def dfs(o, mx, mn): # 自顶向下到o的最大最小放参数存着(不含o)\n",
    "            if not o: \n",
    "                return\n",
    "            mx = max(mx, o.val)\n",
    "            mn = min(mn, o.val)\n",
    "            nonlocal ans\n",
    "            # mn <= o.val <= mx\n",
    "            ans = max(ans, mx - o.val, o.val - mn)\n",
    "            dfs(o.left, mx, mn)\n",
    "            dfs(o.right, mx, mn)\n",
    "        dfs(root, -inf, inf)\n",
    "        return ans"
   ]
  },
  {
   "cell_type": "code",
   "execution_count": null,
   "metadata": {},
   "outputs": [],
   "source": [
    "# Definition for a binary tree node.\n",
    "# class TreeNode:\n",
    "#     def __init__(self, val=0, left=None, right=None):\n",
    "#         self.val = val\n",
    "#         self.left = left\n",
    "#         self.right = right\n",
    "class Solution:\n",
    "    def maxAncestorDiff(self, root: Optional[TreeNode]) -> int:\n",
    "        ans = 0\n",
    "        def dfs(o): # 返回o为根子树的最大和最小值(含根)\n",
    "            if not o:\n",
    "                return -inf, inf\n",
    "            mx = mn = o.val\n",
    "            l_mx, l_mn = dfs(o.left)\n",
    "            r_mx, r_mn = dfs(o.right)\n",
    "            mx = max(mx, l_mx, r_mx)\n",
    "            mn = min(mn, l_mn, r_mn)\n",
    "            nonlocal ans\n",
    "            # mn <= o.val <= mx\n",
    "            ans = max(ans, mx - o.val, o.val - mn)\n",
    "            return mx, mn\n",
    "        dfs(root)\n",
    "        return ans"
   ]
  }
 ],
 "metadata": {
  "language_info": {
   "name": "python"
  },
  "orig_nbformat": 4
 },
 "nbformat": 4,
 "nbformat_minor": 2
}
