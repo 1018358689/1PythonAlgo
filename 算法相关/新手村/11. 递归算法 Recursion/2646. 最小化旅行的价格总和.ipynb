{
 "cells": [
  {
   "cell_type": "code",
   "execution_count": null,
   "metadata": {},
   "outputs": [],
   "source": [
    "class Solution:\n",
    "\n",
    "    def minimumTotalPrice(self, n: int, edges: List[List[int]], price: List[int], trips: List[List[int]]) -> int:\n",
    "        # 树。意味着从一个点到另一个点的路径是固定的\n",
    "        # 可以先计算查询 经过各点的次数\n",
    "        adj = defaultdict(list)\n",
    "        for x, y in edges:\n",
    "            adj[x].append(y)\n",
    "            adj[y].append(x)\n",
    "        cnts = [0] * n\n",
    "        for start, end in trips:\n",
    "            cnts[start] += 1\n",
    "\n",
    "            def dfs(x, fa):\n",
    "                if x == end:\n",
    "                    return True\n",
    "                for y in adj[x]:\n",
    "                    if y == fa: continue\n",
    "                    if dfs(y, x):\n",
    "                        cnts[y] += 1\n",
    "                        return True\n",
    "                return False\n",
    "\n",
    "            dfs(start, -1)\n",
    "        # 337. 打家劫舍 III\n",
    "        def dfs(x, fa):  # x节点偷与不偷分别能得到的价格 (减半与不减半)\n",
    "            xnorob = price[x] * cnts[x]\n",
    "            xrob = xnorob // 2\n",
    "            for y in adj[x]:\n",
    "                if y == fa: continue\n",
    "                rob, norob = dfs(y, x)\n",
    "                # 偷x 那么y只能不偷\n",
    "                xrob += norob\n",
    "                # 不偷x 那么y可偷可不偷\n",
    "                xnorob += min(rob, norob)\n",
    "            return xrob, xnorob\n",
    "\n",
    "        return min(dfs(0, -1))\n"
   ]
  }
 ],
 "metadata": {
  "language_info": {
   "name": "python"
  },
  "orig_nbformat": 4
 },
 "nbformat": 4,
 "nbformat_minor": 2
}
