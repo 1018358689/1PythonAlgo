{
 "cells": [
  {
   "cell_type": "code",
   "execution_count": null,
   "metadata": {},
   "outputs": [],
   "source": [
    "# https://leetcode.cn/problems/minimum-fuel-cost-to-report-to-the-capital/solution/by-shen-zhuo-hui-k36m/"
   ]
  },
  {
   "cell_type": "code",
   "execution_count": null,
   "metadata": {},
   "outputs": [],
   "source": [
    "from typing import List\n",
    "from math import ceil\n",
    "\n",
    "\n",
    "class Solution:\n",
    "\n",
    "    def minimumFuelCost(self, roads: List[List[int]], seats: int) -> int:\n",
    "        n = len(roads) + 1\n",
    "        adj = [[] for _ in range(n)]\n",
    "        for i, j in roads:\n",
    "            adj[i].append(j)\n",
    "            adj[j].append(i)\n",
    "        ans = 0\n",
    "\n",
    "        def dfs(x, fa):  # x为根树的大小\n",
    "            size = 1\n",
    "            for y in adj[x]:\n",
    "                if y != fa:\n",
    "                    size += dfs(y, x)\n",
    "            if x != 0:\n",
    "                nonlocal ans\n",
    "                ans += ceil(size / seats)\n",
    "            return size\n",
    "\n",
    "        dfs(0, -1)\n",
    "        return ans"
   ]
  }
 ],
 "metadata": {
  "kernelspec": {
   "display_name": "Python 3.10.6 64-bit",
   "language": "python",
   "name": "python3"
  },
  "language_info": {
   "name": "python",
   "version": "3.10.6"
  },
  "orig_nbformat": 4,
  "vscode": {
   "interpreter": {
    "hash": "dfbf064e0f2c8839bc658dd75dfc0b8f09a0440078cae3024109b27659b69d06"
   }
  }
 },
 "nbformat": 4,
 "nbformat_minor": 2
}
