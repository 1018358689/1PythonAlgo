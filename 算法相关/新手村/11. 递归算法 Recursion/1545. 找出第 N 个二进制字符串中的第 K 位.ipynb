{
 "cells": [
  {
   "cell_type": "code",
   "execution_count": 15,
   "metadata": {},
   "outputs": [
    {
     "data": {
      "text/plain": [
       "'100011001001110'"
      ]
     },
     "execution_count": 15,
     "metadata": {},
     "output_type": "execute_result"
    }
   ],
   "source": [
    "int('011100110110001',2)\n",
    "x = '011100110110001'\n"
   ]
  },
  {
   "cell_type": "code",
   "execution_count": null,
   "metadata": {},
   "outputs": [],
   "source": [
    "class Solution:\n",
    "    def findKthBit(self, n: int, k: int) -> str:\n",
    "        dp = [0]*(n+1)\n",
    "        dp[1] = '0'\n",
    "        def g(x): return ''.join(str(int(not(int(i)))) for i in x)\n",
    "        for i in range(2, n+1):\n",
    "            dp[i] = dp[i-1]+'1'+g(dp[i-1])[::-1]\n",
    "        return dp[-1][k-1]\n"
   ]
  }
 ],
 "metadata": {
  "kernelspec": {
   "display_name": "Python 3.8.10 64-bit",
   "language": "python",
   "name": "python3"
  },
  "language_info": {
   "name": "python",
   "version": "3.8.10"
  },
  "orig_nbformat": 4,
  "vscode": {
   "interpreter": {
    "hash": "570feb405e2e27c949193ac68f46852414290d515b0ba6e5d90d076ed2284471"
   }
  }
 },
 "nbformat": 4,
 "nbformat_minor": 2
}
