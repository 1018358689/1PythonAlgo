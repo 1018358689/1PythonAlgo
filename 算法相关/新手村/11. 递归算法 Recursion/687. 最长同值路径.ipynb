{
 "cells": [
  {
   "cell_type": "code",
   "execution_count": 1,
   "metadata": {},
   "outputs": [],
   "source": [
    "# Definition for a binary tree node.\n",
    "class TreeNode:\n",
    "\n",
    "    def __init__(self, val=0, left=None, right=None):\n",
    "        self.val = val\n",
    "        self.left = left\n",
    "        self.right = right\n",
    "\n",
    "\n",
    "class Solution:\n",
    "\n",
    "    def longestUnivaluePath(self, root: TreeNode) -> int:\n",
    "        if not root:\n",
    "            return 0\n",
    "        res = 0\n",
    "\n",
    "        def longPath(node: TreeNode, parentVal: int):  # 以node为根节点val值的最大个数\n",
    "            nonlocal res\n",
    "            if not node:\n",
    "                return 0\n",
    "            left = longPath(node.left, node.val)\n",
    "            right = longPath(node.right, node.val)\n",
    "            res = max(res, left + right)\n",
    "            if node.val != parentVal:\n",
    "                return 0\n",
    "            return 1 + max(left, right)\n",
    "\n",
    "        longPath(root, root.val)\n",
    "        return res"
   ]
  },
  {
   "cell_type": "code",
   "execution_count": null,
   "metadata": {},
   "outputs": [],
   "source": [
    "# Definition for a binary tree node.\n",
    "class TreeNode:\n",
    "\n",
    "    def __init__(self, val=0, left=None, right=None):\n",
    "        self.val = val\n",
    "        self.left = left\n",
    "        self.right = right\n",
    "\n",
    "\n",
    "class Solution:\n",
    "\n",
    "    def longestUnivaluePath(self, root: TreeNode) -> int:\n",
    "        res = 0\n",
    "\n",
    "        def longPath(node: TreeNode):  # 以node为根节点同值的最大个数 \n",
    "            nonlocal res\n",
    "            if not node:\n",
    "                return 0\n",
    "            left = longPath(node.left)\n",
    "            right = longPath(node.right)\n",
    "            if not node.left or node.left.val != node.val:\n",
    "                left = 0\n",
    "            if not node.right or node.right.val != node.val:\n",
    "                right = 0\n",
    "            res = max(res, left + right)\n",
    "            return 1 + max(left, right)\n",
    "\n",
    "        longPath(root)\n",
    "        return res"
   ]
  }
 ],
 "metadata": {
  "interpreter": {
   "hash": "aee8b7b246df8f9039afb4144a1f6fd8d2ca17a180786b69acc140d282b71a49"
  },
  "kernelspec": {
   "display_name": "Python 3.10.1 64-bit",
   "language": "python",
   "name": "python3"
  },
  "language_info": {
   "codemirror_mode": {
    "name": "ipython",
    "version": 3
   },
   "file_extension": ".py",
   "mimetype": "text/x-python",
   "name": "python",
   "nbconvert_exporter": "python",
   "pygments_lexer": "ipython3",
   "version": "3.10.1"
  },
  "orig_nbformat": 4
 },
 "nbformat": 4,
 "nbformat_minor": 2
}
