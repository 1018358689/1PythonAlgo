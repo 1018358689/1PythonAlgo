{
 "cells": [
  {
   "cell_type": "code",
   "execution_count": 7,
   "metadata": {},
   "outputs": [
    {
     "data": {
      "text/plain": [
       "(True, True)"
      ]
     },
     "execution_count": 7,
     "metadata": {},
     "output_type": "execute_result"
    }
   ],
   "source": [
    "# 双指针\n",
    "def f(s1: str, s2: str):\n",
    "    m, n = len(s1), len(s2)\n",
    "    if abs(m - n) > 1:\n",
    "        return False\n",
    "    if m > n:  # 保证m<n\n",
    "        s1, s2 = s2, s1\n",
    "        m, n = n, m\n",
    "    i = j = cnt = 0\n",
    "    while i < m and j < n:\n",
    "        if s1[i] == s2[j]:  # 相同就不用编辑 双指针都往前\n",
    "            i += 1\n",
    "            j += 1\n",
    "        else:  # 不相同需要编辑\n",
    "            if m < n:  # 长度不等\n",
    "                j += 1  # 则删除s2的j位置字母\n",
    "                cnt += 1  # 编辑次数+1\n",
    "            else:  # 长度相等 则修改任意一个即可\n",
    "                i += 1\n",
    "                j += 1\n",
    "                cnt += 1\n",
    "        if cnt > 1:  # 编辑次数大于1则False\n",
    "            return False\n",
    "    return True\n",
    "\n",
    "\n",
    "f('pale', 'ple'), f(\"islander\", \"islander\")\n"
   ]
  },
  {
   "cell_type": "code",
   "execution_count": 10,
   "metadata": {},
   "outputs": [
    {
     "data": {
      "text/plain": [
       "True"
      ]
     },
     "execution_count": 10,
     "metadata": {},
     "output_type": "execute_result"
    }
   ],
   "source": [
    "# 编辑距离\n",
    "def f(s1: str, s2: str):\n",
    "    m, n = len(s1), len(s2)\n",
    "    if abs(m - n) > 1:\n",
    "        return False\n",
    "    dp = [[0] * (n + 1) for _ in range(m + 1)]\n",
    "    for i in range(m + 1):\n",
    "        dp[i][0] = i\n",
    "    for j in range(n + 1):\n",
    "        dp[0][j] = j\n",
    "    for i in range(1, m + 1):\n",
    "        for j in range(1, n + 1):\n",
    "            if s1[i - 1] == s2[j - 1]:\n",
    "                dp[i][j] = dp[i - 1][j - 1]\n",
    "            else:\n",
    "                dp[i][j] = min(dp[i][j - 1], dp[i - 1][j], dp[i - 1][j - 1]) + 1\n",
    "    return dp[-1][-1] < 2\n",
    "\n",
    "\n",
    "f(\"islander\", \"islander\")\n"
   ]
  },
  {
   "cell_type": "code",
   "execution_count": 13,
   "metadata": {},
   "outputs": [
    {
     "data": {
      "text/plain": [
       "(False, True)"
      ]
     },
     "execution_count": 13,
     "metadata": {},
     "output_type": "execute_result"
    }
   ],
   "source": [
    "# lcs 最长公共子序列\n",
    "def f(s1: str, s2: str):\n",
    "    m, n = len(s1), len(s2)\n",
    "    if abs(m - n) > 1:\n",
    "        return False\n",
    "\n",
    "    def lcs(s1: str, s2: str):\n",
    "        # dp[i][j] i个字符的s1和j个字符的s2的lcs\n",
    "        # basecase dp[0][j] dp[i][0] = 0\n",
    "        dp = [[0] * (len(s2) + 1) for _ in range(len(s1) + 1)]\n",
    "        for i in range(1, len(s1) + 1):\n",
    "            for j in range(1, len(s2) + 1):\n",
    "                if s1[i - 1] == s2[j - 1]:\n",
    "                    dp[i][j] = dp[i - 1][j - 1] + 1\n",
    "                else:\n",
    "                    dp[i][j] = max(dp[i - 1][j], dp[i][j - 1])\n",
    "        return dp[-1][-1]\n",
    "\n",
    "    if m != n:  # 不一样长 只能通过s1添加一个变成s2\n",
    "        lcsSz = lcs(s1, s2)\n",
    "        return lcsSz == min(m, n)\n",
    "    else:  # 一样长 只能通过替换或者不变\n",
    "        if s1 == s2:  # 不变\n",
    "            return True\n",
    "        else:  # 只能替换\n",
    "            cnt = 0\n",
    "            for x, y in zip(s1, s2):\n",
    "                if x != y:\n",
    "                    cnt += 1\n",
    "                if cnt == 2:\n",
    "                    return False\n",
    "            return True\n",
    "\n",
    "\n",
    "f('pale', 'ple'), f(\"islander\", \"islander\")\n"
   ]
  },
  {
   "cell_type": "code",
   "execution_count": null,
   "metadata": {},
   "outputs": [],
   "source": []
  }
 ],
 "metadata": {
  "interpreter": {
   "hash": "aee8b7b246df8f9039afb4144a1f6fd8d2ca17a180786b69acc140d282b71a49"
  },
  "kernelspec": {
   "display_name": "Python 3.10.2 64-bit",
   "language": "python",
   "name": "python3"
  },
  "language_info": {
   "codemirror_mode": {
    "name": "ipython",
    "version": 3
   },
   "file_extension": ".py",
   "mimetype": "text/x-python",
   "name": "python",
   "nbconvert_exporter": "python",
   "pygments_lexer": "ipython3",
   "version": "3.10.2"
  },
  "orig_nbformat": 4
 },
 "nbformat": 4,
 "nbformat_minor": 2
}
