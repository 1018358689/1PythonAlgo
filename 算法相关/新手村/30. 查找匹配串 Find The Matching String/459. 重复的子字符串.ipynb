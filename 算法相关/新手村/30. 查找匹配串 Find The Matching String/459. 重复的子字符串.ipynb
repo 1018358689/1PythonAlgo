{
 "cells": [
  {
   "cell_type": "markdown",
   "metadata": {},
   "source": [
    "但是虽说是 KMP，但是用到的只是求 next 的那一块，剩下的，得靠推公式...\n",
    "\n",
    "我直接先来说下公式：\n",
    "\n",
    "\n",
    "len(s) % (len(s) -  maxLen) = 0\n",
    "其中 len(s) 为字符串 s 的长度，maxLen 为最长公共前后缀的长度。\n",
    "\n",
    "所以这个公式翻译一下就是：如果 s 是周期串，那【s 的长度】是【s 的长度减去最长公共前后缀的长度】的倍数，那字符串 s 就是周期串。\n",
    "\n",
    "作者：rocky0429-2\n",
    "链接：https://leetcode.cn/problems/repeated-substring-pattern/solution/acm-xuan-shou-tu-jie-leetcode-zhong-fu-d-vl7i/\n",
    "来源：力扣（LeetCode）\n",
    "著作权归作者所有。商业转载请联系作者获得授权，非商业转载请注明出处。"
   ]
  },
  {
   "cell_type": "code",
   "execution_count": null,
   "metadata": {},
   "outputs": [],
   "source": [
    "# https://writings.sh/post/algorithm-repeated-string-pattern"
   ]
  },
  {
   "cell_type": "code",
   "execution_count": null,
   "metadata": {},
   "outputs": [],
   "source": [
    "class Solution:\n",
    "\n",
    "    def repeatedSubstringPattern(self, s: str) -> bool:\n",
    "        # 如果s由m个t重复形成 那么s的最长前后缀长度是 sn - tn == (m - 1) * tn\n",
    "        # -> sn = m * tn -> 也就是 sn是tn的倍数\n",
    "        n = len(s)\n",
    "        nxt = [0] * n  # [0,i] 最长前后缀 前缀的结尾索引\n",
    "        nxt[0] = -1\n",
    "        j = -1\n",
    "        for i in range(1, n):\n",
    "            while j >= 0 and s[i] != s[j + 1]:\n",
    "                j = nxt[j]\n",
    "            if s[i] == s[j + 1]:\n",
    "                j += 1\n",
    "            nxt[i] = j\n",
    "        mx = nxt[-1] + 1\n",
    "        return mx != 0 and n % (n - mx) == 0"
   ]
  },
  {
   "cell_type": "code",
   "execution_count": 1,
   "metadata": {},
   "outputs": [],
   "source": [
    "class Solution:\n",
    "\n",
    "    def repeatedSubstringPattern(self, s: str) -> bool:\n",
    "        next = [0] * len(s)\n",
    "        now = 0\n",
    "        i = 1\n",
    "        while i < len(s):\n",
    "            if s[i] == s[now]:\n",
    "                next[i] = now + 1\n",
    "                now += 1\n",
    "                i += 1\n",
    "            elif now:\n",
    "                now = next[now - 1]\n",
    "            else:\n",
    "                i += 1\n",
    "        return len(s) % (len(s) - now) == 0 and now != 0\n"
   ]
  },
  {
   "cell_type": "code",
   "execution_count": 1,
   "metadata": {},
   "outputs": [],
   "source": [
    "class Solution:\n",
    "\n",
    "    def repeatedSubstringPattern(self, s: str) -> bool:\n",
    "\n",
    "        def kmp(s, p):\n",
    "            next = [0] * len(p)\n",
    "            now, i = 0, 1\n",
    "            while i < len(p):\n",
    "                if p[i] == p[now]:\n",
    "                    next[i] = now + 1\n",
    "                    now += 1\n",
    "                    i += 1\n",
    "                elif now:\n",
    "                    now = next[now - 1]\n",
    "                else:\n",
    "                    next[i] = 0\n",
    "                    i += 1\n",
    "            i = 1\n",
    "            j = 0  # i:匹配串 j:模式串\n",
    "            while i < len(s) - 1:\n",
    "                if s[i] == p[j]:\n",
    "                    i += 1\n",
    "                    j += 1\n",
    "                elif j:\n",
    "                    j = next[j - 1]\n",
    "                else:\n",
    "                    i += 1\n",
    "                if j == len(p):\n",
    "                    return True\n",
    "            return False\n",
    "\n",
    "        return kmp(s + s, s)\n"
   ]
  },
  {
   "cell_type": "markdown",
   "metadata": {},
   "source": [
    "# 假设母串S是由子串s重复N次而成， 则 S+S则有子串s重复2N次， 那么现在有： S=Ns， S+S=2Ns， 其中N>=2。 如果条件成立， S+S=2Ns, 掐头去尾破坏2个s，S+S中还包含2*（N-1）s, 又因为N>=2, 因此S在(S+S)[1:-1]中必出现一次以上"
   ]
  },
  {
   "cell_type": "code",
   "execution_count": 4,
   "metadata": {},
   "outputs": [
    {
     "name": "stdout",
     "output_type": "stream",
     "text": [
      "bcabcabcabcabcabcabcab abcabcabcabc\n"
     ]
    },
    {
     "data": {
      "text/plain": [
       "True"
      ]
     },
     "execution_count": 4,
     "metadata": {},
     "output_type": "execute_result"
    }
   ],
   "source": [
    "# 超时\n",
    "class Solution:\n",
    "\n",
    "    def RabinKarp(self, s, p):  # p是否是s的字串 题目要求小写字母 因此26位即可\n",
    "        getNum = lambda x: ord(x) - ord('a') # 不减ord('a)基准 也超时\n",
    "        target = 0\n",
    "        for n in p:\n",
    "            target = target * 26 + getNum(n)\n",
    "        num = 0\n",
    "        l = 0\n",
    "        lgh = len(p)\n",
    "        for r in range(len(s)):\n",
    "            num = num * 26 + getNum(s[r])\n",
    "            while r - l + 1 > lgh:\n",
    "                num -= getNum(s[l]) * (26**lgh)\n",
    "                l += 1\n",
    "            if r - l + 1 == lgh and num == target:\n",
    "                return True\n",
    "        return False\n",
    "\n",
    "    def repeatedSubstringPattern(self, s: str) -> bool:\n",
    "        return self.RabinKarp((s + s)[1:-1], s)\n",
    "\n",
    "\n",
    "s = Solution()\n",
    "s.repeatedSubstringPattern('abcabcabcabc')"
   ]
  },
  {
   "cell_type": "code",
   "execution_count": 11,
   "metadata": {},
   "outputs": [
    {
     "data": {
      "text/plain": [
       "True"
      ]
     },
     "execution_count": 11,
     "metadata": {},
     "output_type": "execute_result"
    }
   ],
   "source": [
    "# Rabin-Karp算法\n",
    "# 不超时 这样防止溢出 同时减小内存占用 因为python整形长度靠内存\n",
    "# 632ms\n",
    "\n",
    "\n",
    "class Solution:\n",
    "\n",
    "    def quickPower(self, num, k): # 没什么提速\n",
    "        if k < 0:\n",
    "            num = 1 / num\n",
    "            k *= -1\n",
    "        ans = 1\n",
    "        while k:\n",
    "            if k & 1 == 1:\n",
    "                ans *= num\n",
    "            num *= num\n",
    "            k >>= 1\n",
    "        return ans\n",
    "\n",
    "    def strStr(self, haystack: str, needle: str) -> int:\n",
    "        target = 0\n",
    "        q = 1658598167  # 比较大的质数\n",
    "        for n in needle:\n",
    "            target = (256 * target % q + ord(n) % q) % q\n",
    "        l = 0\n",
    "        num = 0\n",
    "        lgh = len(needle)\n",
    "        rl = self.quickPower(256, lgh) % q\n",
    "        for r in range(len(haystack)):\n",
    "            num = (256 * num % q + ord(haystack[r]) % q) % q\n",
    "            while r - l + 1 > lgh:\n",
    "                num = (num % q - ord(haystack[l]) * rl % q + q) % q\n",
    "                l += 1\n",
    "            if r - l + 1 == lgh and num == target:\n",
    "                if haystack[l:r + 1] == needle:\n",
    "                    return True\n",
    "        return False\n",
    "\n",
    "    def repeatedSubstringPattern(self, s: str) -> bool:\n",
    "        return self.strStr((s + s)[1:-1], s)\n",
    "\n",
    "\n",
    "s = Solution()\n",
    "s.repeatedSubstringPattern('abcabcabcabc')"
   ]
  },
  {
   "cell_type": "code",
   "execution_count": 10,
   "metadata": {},
   "outputs": [
    {
     "data": {
      "text/plain": [
       "(17596287801, 17596287801)"
      ]
     },
     "execution_count": 10,
     "metadata": {},
     "output_type": "execute_result"
    }
   ],
   "source": [
    "def quickPower(num, k):\n",
    "    if k < 0:\n",
    "        num = 1 / num\n",
    "        k *= -1\n",
    "    ans = 1\n",
    "    while k:\n",
    "        if k & 1 == 1:\n",
    "            ans *= num\n",
    "        num *= num\n",
    "        k >>= 1\n",
    "    return ans\n",
    "\n",
    "\n",
    "quickPower(51, 6), 51**6\n"
   ]
  },
  {
   "cell_type": "code",
   "execution_count": null,
   "metadata": {},
   "outputs": [],
   "source": []
  }
 ],
 "metadata": {
  "kernelspec": {
   "display_name": "Python 3.10.5 64-bit (windows store)",
   "language": "python",
   "name": "python3"
  },
  "language_info": {
   "codemirror_mode": {
    "name": "ipython",
    "version": 3
   },
   "file_extension": ".py",
   "mimetype": "text/x-python",
   "name": "python",
   "nbconvert_exporter": "python",
   "pygments_lexer": "ipython3",
   "version": "3.10.5"
  },
  "orig_nbformat": 4,
  "vscode": {
   "interpreter": {
    "hash": "97367d2de1780ea7c502b529f25888c1b53c0430a7611816b6c7cf19d8435228"
   }
  }
 },
 "nbformat": 4,
 "nbformat_minor": 2
}
