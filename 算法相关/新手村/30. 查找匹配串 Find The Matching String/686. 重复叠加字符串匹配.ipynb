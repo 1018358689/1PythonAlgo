{
 "cells": [
  {
   "cell_type": "code",
   "execution_count": 1,
   "metadata": {},
   "outputs": [
    {
     "data": {
      "text/plain": [
       "'aaaa'"
      ]
     },
     "execution_count": 1,
     "metadata": {},
     "output_type": "execute_result"
    }
   ],
   "source": [
    "'aa'*2"
   ]
  },
  {
   "cell_type": "code",
   "execution_count": 1,
   "metadata": {},
   "outputs": [],
   "source": [
    "from math import ceil\n",
    "\n",
    "\n",
    "class Solution:\n",
    "\n",
    "    def strStr(self, s, p):  # p是否是s的子串\n",
    "        q = 1658598167\n",
    "        target = 0\n",
    "        for n in p:\n",
    "            target = (target * 256 % q + ord(n) % q) % q\n",
    "        l = 0\n",
    "        num = 0\n",
    "        lgh = len(p)\n",
    "        rl = 256**lgh % q\n",
    "        for r in range(len(s)):\n",
    "            num = (num * 256 % q + ord(s[r]) % q) % q\n",
    "            while r - l + 1 > lgh:\n",
    "                num = (num % q - ord(s[l]) * rl % q + q) % q\n",
    "                l += 1\n",
    "            if r - l + 1 == lgh and num == target:\n",
    "                if s[l:r + 1] == p:\n",
    "                    return True\n",
    "        return False\n",
    "\n",
    "    def repeatedStringMatch(self, a: str, b: str) -> int:\n",
    "        cnt1 = ceil(len(b) / len(a))\n",
    "        cnt2 = cnt1 + 1\n",
    "        if self.strStr(a * cnt1, b):\n",
    "            return cnt1\n",
    "        elif self.strStr(a * cnt2, b):\n",
    "            return cnt2\n",
    "        return -1"
   ]
  },
  {
   "cell_type": "code",
   "execution_count": 4,
   "metadata": {},
   "outputs": [
    {
     "data": {
      "text/plain": [
       "[[1, 2], []]"
      ]
     },
     "execution_count": 4,
     "metadata": {},
     "output_type": "execute_result"
    }
   ],
   "source": [
    "# Definition for singly-linked list.\n",
    "class ListNode:\n",
    "\n",
    "    def __init__(self, val=0, next=None):\n",
    "        self.val = val\n",
    "        self.next = next\n",
    "\n",
    "\n",
    "class Solution:\n",
    "    # 思路:先让一个指针1走n步, 接着该指针1和指针2一起走,他们本身距离差就是n,\n",
    "    # 当指针1走到最后一个节点意味着指针2走到待删节点前了,只要删除后一个节点即可\n",
    "    def removeNthFromEnd(self, head: ListNode, n: int) -> ListNode:\n",
    "        pre, p = head, head  # 待删节点前 和当前指针\n",
    "        for _ in range(n):\n",
    "            p = p.next\n",
    "        if not p:  # 特殊情况 当n长度和链表一样长 直接删除第一个\n",
    "            return head.next\n",
    "        while p.next:  # 一起走\n",
    "            p = p.next\n",
    "            pre = pre.next\n",
    "        pre.next = pre.next.next  # 删除后节点\n",
    "        return head"
   ]
  }
 ],
 "metadata": {
  "kernelspec": {
   "display_name": "Python 3.10.2 64-bit",
   "language": "python",
   "name": "python3"
  },
  "language_info": {
   "codemirror_mode": {
    "name": "ipython",
    "version": 3
   },
   "file_extension": ".py",
   "mimetype": "text/x-python",
   "name": "python",
   "nbconvert_exporter": "python",
   "pygments_lexer": "ipython3",
   "version": "3.10.2"
  },
  "orig_nbformat": 4,
  "vscode": {
   "interpreter": {
    "hash": "aee8b7b246df8f9039afb4144a1f6fd8d2ca17a180786b69acc140d282b71a49"
   }
  }
 },
 "nbformat": 4,
 "nbformat_minor": 2
}
