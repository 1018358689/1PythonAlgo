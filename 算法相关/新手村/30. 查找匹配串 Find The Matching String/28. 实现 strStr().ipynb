{
 "cells": [
  {
   "attachments": {},
   "cell_type": "markdown",
   "metadata": {},
   "source": [
    "![](2023-06-06-19-31-56.png)"
   ]
  },
  {
   "attachments": {},
   "cell_type": "markdown",
   "metadata": {},
   "source": [
    "![](2023-06-06-19-32-54.png)"
   ]
  },
  {
   "cell_type": "code",
   "execution_count": null,
   "metadata": {},
   "outputs": [],
   "source": [
    "# KMP\n",
    "class Solution:\n",
    "\n",
    "    def strStr(self, haystack: str, needle: str) -> int:\n",
    "        m, n = len(haystack), len(needle)\n",
    "        # haystack, needle的索引从1开始\n",
    "        nxt = [0] * (n + 1)  # needle [:i]的最长相同前后缀长度\n",
    "        nxt[1] = 0\n",
    "        j = 0\n",
    "        for i in range(2, n + 1):\n",
    "            while j and needle[i - 1] != needle[j + 1 - 1]:  # 预判：进可攻\n",
    "                j = nxt[j]  # 回跳：退而求其次 退可守\n",
    "            if needle[i - 1] == needle[j + 1 - 1]:  # 进攻成功：成功找到前后缀 那就j按照预判往前\n",
    "                j += 1\n",
    "            nxt[i] = j\n",
    "        j = 0\n",
    "        for i in range(1, m + 1):\n",
    "            while j and haystack[i - 1] != needle[j + 1 - 1]:\n",
    "                j = nxt[j]\n",
    "            if haystack[i - 1] == needle[j + 1 - 1]:\n",
    "                j += 1\n",
    "            if j == n: return i - j\n",
    "        return -1"
   ]
  },
  {
   "cell_type": "code",
   "execution_count": null,
   "metadata": {},
   "outputs": [],
   "source": [
    "# KMP\n",
    "class Solution:\n",
    "\n",
    "    def strStr(self, haystack: str, needle: str) -> int:\n",
    "        m, n = len(haystack), len(needle)\n",
    "        # haystack, needle的索引从0开始\n",
    "        nxt = [0] * n  # needle [,i]的最长相同前后缀长度\n",
    "        nxt[0] = 0\n",
    "        j = -1\n",
    "        for i in range(1, n):\n",
    "            while j >= 0 and needle[i] != needle[j + 1]:  # 预判：进可攻\n",
    "                j = nxt[j] - 1 # 长度转换成索引  # 回跳：退而求其次 退可守\n",
    "            if needle[i] == needle[j + 1]:  # 进攻成功：成功找到前后缀 那就j按照预判往前\n",
    "                j += 1\n",
    "            nxt[i] = j + 1\n",
    "        j = -1\n",
    "        for i in range(m):\n",
    "            while j >= 0 and haystack[i] != needle[j + 1]:\n",
    "                j = nxt[j] - 1\n",
    "            if haystack[i] == needle[j + 1]:\n",
    "                j += 1\n",
    "            if j == n - 1: return i - j # i - x + 1 = j + 1\n",
    "        return -1"
   ]
  },
  {
   "cell_type": "code",
   "execution_count": null,
   "metadata": {},
   "outputs": [],
   "source": [
    "# KMP 再优化\n",
    "class Solution:\n",
    "\n",
    "    def strStr(self, haystack: str, needle: str) -> int:\n",
    "        m, n = len(haystack), len(needle)\n",
    "        # haystack, needle的索引从0开始\n",
    "        # 1.获取next数组\n",
    "        nxt = [0] * n  # needle [,i]的最长相同前后缀 前缀的末尾索引 -1表示不存在前后缀\n",
    "        nxt[0] = -1\n",
    "        j = -1  # 可匹配 辅助 needle末尾索引 初始无匹配\n",
    "        for i in range(1, n):\n",
    "            while j >= 0 and needle[i] != needle[j + 1]:  # 预判：进可攻\n",
    "                j = nxt[j]  # 长度转换成索引  # 回跳：退而求其次 退可守\n",
    "            if needle[i] == needle[j + 1]:  # 进攻成功：成功找到前后缀 那就j按照预判往前\n",
    "                j += 1\n",
    "            nxt[i] = j\n",
    "        # 2.开始匹配haystack和needle\n",
    "        j = -1  # 可匹配needle末尾索引 初始无匹配\n",
    "        for i in range(m): # i:主串当前需要匹配的位置  j:模式串已经匹配的主串i前的结尾位置\n",
    "            while j >= 0 and haystack[i] != needle[j + 1]:\n",
    "                j = nxt[j]\n",
    "            if haystack[i] == needle[j + 1]:\n",
    "                j += 1\n",
    "            if j == n - 1: return i - j  # i - x + 1 = j + 1\n",
    "        return -1"
   ]
  },
  {
   "cell_type": "code",
   "execution_count": 1,
   "metadata": {},
   "outputs": [],
   "source": [
    "# kmp算法\n",
    "class Solution:\n",
    "\n",
    "    def strStr(self, haystack: str, needle: str) -> int:\n",
    "\n",
    "        def getNext(needle: str):\n",
    "            next = [0] * len(needle)\n",
    "            i = 1\n",
    "            now = 0\n",
    "            while i < len(needle):\n",
    "                if needle[now] == needle[i]:\n",
    "                    next[i] = now + 1\n",
    "                    i += 1\n",
    "                    now += 1\n",
    "                elif now:\n",
    "                    now = next[now - 1]\n",
    "                else:\n",
    "                    next[i] = 0\n",
    "                    i += 1\n",
    "            return next\n",
    "\n",
    "        next = getNext(needle)\n",
    "        i = j = 0  # i匹配串 j模式串\n",
    "        while i < len(haystack):\n",
    "            if haystack[i] == needle[j]:\n",
    "                i += 1\n",
    "                j += 1\n",
    "            elif j:\n",
    "                j = next[j - 1]\n",
    "            else:\n",
    "                i += 1\n",
    "            if j == len(needle):\n",
    "                return i - j\n",
    "        return -1"
   ]
  },
  {
   "cell_type": "code",
   "execution_count": 1,
   "metadata": {},
   "outputs": [],
   "source": [
    "# Rabin-Karp算法\n",
    "class Solution:\n",
    "\n",
    "    def strStr(self, haystack: str, needle: str) -> int:\n",
    "        target = 0\n",
    "        for n in needle:\n",
    "            target = 256 * target + ord(n)\n",
    "        l = 0\n",
    "        num = 0\n",
    "        lgh = len(needle)\n",
    "        for r in range(len(haystack)):\n",
    "            num = 256 * num + ord(haystack[r])\n",
    "            while r - l + 1 > lgh:\n",
    "                num -= ord(haystack[l]) * (256**lgh)\n",
    "                l += 1\n",
    "            if r - l + 1 == lgh and num == target:\n",
    "                return l\n",
    "        return -1"
   ]
  },
  {
   "cell_type": "code",
   "execution_count": null,
   "metadata": {},
   "outputs": [],
   "source": [
    "class Solution:\n",
    "\n",
    "    def strStr(self, haystack: str, needle: str) -> int:\n",
    "        return haystack.find(needle)"
   ]
  },
  {
   "cell_type": "code",
   "execution_count": 1,
   "metadata": {},
   "outputs": [
    {
     "data": {
      "text/plain": [
       "(97, 122, 65, 90)"
      ]
     },
     "execution_count": 1,
     "metadata": {},
     "output_type": "execute_result"
    }
   ],
   "source": [
    "ord('a'), ord('z'), ord('A'), ord('Z')"
   ]
  },
  {
   "cell_type": "code",
   "execution_count": null,
   "metadata": {},
   "outputs": [],
   "source": []
  }
 ],
 "metadata": {
  "kernelspec": {
   "display_name": "Python 3.10.5 64-bit",
   "language": "python",
   "name": "python3"
  },
  "language_info": {
   "codemirror_mode": {
    "name": "ipython",
    "version": 3
   },
   "file_extension": ".py",
   "mimetype": "text/x-python",
   "name": "python",
   "nbconvert_exporter": "python",
   "pygments_lexer": "ipython3",
   "version": "3.11.3"
  },
  "orig_nbformat": 4,
  "vscode": {
   "interpreter": {
    "hash": "3196968d684371006099b3d55edeef8ed90365227a30deaef86e5d4aa8519be0"
   }
  }
 },
 "nbformat": 4,
 "nbformat_minor": 2
}
