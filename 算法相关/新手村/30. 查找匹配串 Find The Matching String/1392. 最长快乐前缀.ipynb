{
 "cells": [
  {
   "cell_type": "code",
   "execution_count": 2,
   "metadata": {},
   "outputs": [
    {
     "data": {
      "text/plain": [
       "''"
      ]
     },
     "execution_count": 2,
     "metadata": {},
     "output_type": "execute_result"
    }
   ],
   "source": [
    "# 超时\n",
    "class Solution:\n",
    "\n",
    "    def longestPrefix(self, s: str) -> str:\n",
    "        lgh = len(s)\n",
    "        pre = suf = 0\n",
    "        happy = -1\n",
    "        for p1 in range(lgh - 1):\n",
    "            p2 = lgh - 1 - p1\n",
    "            pre = pre * 256 + ord(s[p1])\n",
    "            suf = ord(s[p2]) * (256**p1) + suf\n",
    "            if pre == suf:\n",
    "                happy = p1\n",
    "        return s[:happy + 1]\n",
    "\n",
    "\n",
    "s = Solution()\n",
    "s.longestPrefix('a')"
   ]
  },
  {
   "cell_type": "code",
   "execution_count": null,
   "metadata": {},
   "outputs": [],
   "source": [
    "class Solution:\n",
    "\n",
    "    def longestPrefix(self, s: str) -> str:\n",
    "        MOD = 10**9 + 7  # 模底\n",
    "        base = 26  # 进制\n",
    "        mul = 1  # 存储base的幂\n",
    "        '''字符编码'''\n",
    "\n",
    "        def encode(ch):\n",
    "            return ord(ch) - ord('a')\n",
    "\n",
    "        prefix, suffix = 0, 0\n",
    "        n = len(s)\n",
    "        happy = 0\n",
    "        for i in range(n - 1):\n",
    "            prefix = (prefix * base + encode(s[i])) % MOD  # 前缀哈希\n",
    "            suffix = (suffix + encode(s[n - 1 - i]) * mul) % MOD  # 后缀哈希\n",
    "            mul = mul * base % MOD\n",
    "\n",
    "            if prefix == suffix:\n",
    "                happy = i + 1\n",
    "\n",
    "        return s[:happy]"
   ]
  }
 ],
 "metadata": {
  "kernelspec": {
   "display_name": "Python 3.10.5 64-bit",
   "language": "python",
   "name": "python3"
  },
  "language_info": {
   "codemirror_mode": {
    "name": "ipython",
    "version": 3
   },
   "file_extension": ".py",
   "mimetype": "text/x-python",
   "name": "python",
   "nbconvert_exporter": "python",
   "pygments_lexer": "ipython3",
   "version": "3.10.5"
  },
  "orig_nbformat": 4,
  "vscode": {
   "interpreter": {
    "hash": "3196968d684371006099b3d55edeef8ed90365227a30deaef86e5d4aa8519be0"
   }
  }
 },
 "nbformat": 4,
 "nbformat_minor": 2
}
