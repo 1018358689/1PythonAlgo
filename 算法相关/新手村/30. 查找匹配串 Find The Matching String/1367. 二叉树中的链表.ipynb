{
 "cells": [
  {
   "cell_type": "code",
   "execution_count": null,
   "metadata": {},
   "outputs": [],
   "source": [
    "# Definition for singly-linked list.\n",
    "# class ListNode:\n",
    "#     def __init__(self, val=0, next=None):\n",
    "#         self.val = val\n",
    "#         self.next = next\n",
    "# Definition for a binary tree node.\n",
    "# class TreeNode:\n",
    "#     def __init__(self, val=0, left=None, right=None):\n",
    "#         self.val = val\n",
    "#         self.left = left\n",
    "#         self.right = right\n",
    "class Solution:\n",
    "\n",
    "    def isSubPath(self, head: Optional[ListNode], root: Optional[TreeNode]) -> bool:\n",
    "        # kmp\n",
    "        t = []\n",
    "        while head:\n",
    "            t.append(head.val)\n",
    "            head = head.next\n",
    "        n = len(t)\n",
    "        nxt = [-1] * n  # [0,i] 最长前后缀 前缀的结尾索引 -1表示无前后缀\n",
    "        nxt[0] = -1  # 单点无前后缀\n",
    "        j = -1\n",
    "        for i in range(1, n):\n",
    "            while j >= 0 and t[i] != t[j + 1]:  # [x,i-1]一串已经和[0,j]匹配 现在尝试i和j+1进行匹配\n",
    "                j = nxt[j]\n",
    "            if t[i] == t[j + 1]:\n",
    "                j += 1\n",
    "            nxt[i] = j\n",
    "\n",
    "        def dfs(x, j):  # 判断的主串x 和 x前已经匹配的模式串j的末尾索引\n",
    "            if not x: return False\n",
    "            while j >= 0 and x.val != t[j + 1]:\n",
    "                j = nxt[j]\n",
    "            if x.val == t[j + 1]:\n",
    "                j += 1\n",
    "            if j == n - 1: return True\n",
    "            for y in x.left, x.right:\n",
    "                if dfs(y, j):\n",
    "                    return True\n",
    "            return False\n",
    "\n",
    "        return dfs(root, -1)"
   ]
  }
 ],
 "metadata": {
  "language_info": {
   "name": "python"
  },
  "orig_nbformat": 4
 },
 "nbformat": 4,
 "nbformat_minor": 2
}
