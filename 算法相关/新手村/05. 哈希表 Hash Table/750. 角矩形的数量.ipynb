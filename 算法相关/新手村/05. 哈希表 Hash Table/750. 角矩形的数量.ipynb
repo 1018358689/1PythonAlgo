{
 "cells": [
  {
   "cell_type": "code",
   "execution_count": null,
   "metadata": {},
   "outputs": [],
   "source": [
    "class Solution:\n",
    "\n",
    "    def countCornerRectangles(self, grid: List[List[int]]) -> int:\n",
    "        # 类似两数之和 哈希表存取前面数据 快速计算\n",
    "        # cnts[(i,j)] 前面 同行i和j列都为1的个数\n",
    "        m, n = len(grid), len(grid[0])\n",
    "        cnts = Counter()\n",
    "        ans = 0\n",
    "        for i in range(m):\n",
    "            if sum(grid[i]) < 2: continue\n",
    "            for j in range(n - 1):\n",
    "                if grid[i][j] == 1:\n",
    "                    for k in range(j + 1, n):\n",
    "                        if grid[i][k] == 1:\n",
    "                            ans += cnts[(j, k)]\n",
    "                            cnts[(j, k)] += 1\n",
    "        return ans"
   ]
  }
 ],
 "metadata": {
  "language_info": {
   "name": "python"
  },
  "orig_nbformat": 4
 },
 "nbformat": 4,
 "nbformat_minor": 2
}
