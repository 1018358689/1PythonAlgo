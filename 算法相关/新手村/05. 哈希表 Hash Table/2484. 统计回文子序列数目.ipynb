{
 "cells": [
  {
   "cell_type": "code",
   "execution_count": 1,
   "metadata": {},
   "outputs": [
    {
     "data": {
      "text/plain": [
       "['1', '2', '3']"
      ]
     },
     "execution_count": 1,
     "metadata": {},
     "output_type": "execute_result"
    }
   ],
   "source": [
    "list('123')"
   ]
  },
  {
   "cell_type": "code",
   "execution_count": null,
   "metadata": {},
   "outputs": [],
   "source": [
    "# 每个数为中心 前面后面 各个组合数数量 对应相乘"
   ]
  },
  {
   "cell_type": "code",
   "execution_count": 40,
   "metadata": {},
   "outputs": [
    {
     "data": {
      "text/plain": [
       "2"
      ]
     },
     "execution_count": 40,
     "metadata": {},
     "output_type": "execute_result"
    }
   ],
   "source": [
    "class Solution:\n",
    "\n",
    "    def countPalindromes(self, s: str) -> int:\n",
    "        MOD = 10**9 + 7\n",
    "        nums = list(map(int, s))\n",
    "        n = len(nums)\n",
    "        suf = [0] * 10  # 后面各数字(0-9)数量\n",
    "        suf2 = [0] * 100  # 后面各组合数字(00-99)数量\n",
    "        for i in range(n - 1, -1, -1):\n",
    "            cur = nums[i]\n",
    "            for j, c in enumerate(suf):\n",
    "                suf2[10 * cur + j] += c\n",
    "            suf[cur] += 1\n",
    "        pre = [0] * 10  # 前面各数字(0-9)数量\n",
    "        pre2 = [0] * 100  # 前面各组合数字(00-99)数量\n",
    "        ans = 0\n",
    "        for i in range(n):\n",
    "            cur = nums[i]\n",
    "            # 回溯\n",
    "            suf[cur] -= 1\n",
    "            for j, c in enumerate(suf):\n",
    "                suf2[10 * cur + j] -= c\n",
    "            # 统计\n",
    "            ans += sum(x * y for x, y in zip(pre2, suf2))\n",
    "            # 计算前缀\n",
    "            for j, c in enumerate(pre):\n",
    "                pre2[10 * cur + j] += c\n",
    "            pre[cur] += 1\n",
    "        return ans % MOD\n",
    "\n",
    "\n",
    "s = Solution()\n",
    "s.countPalindromes('103301')"
   ]
  },
  {
   "cell_type": "code",
   "execution_count": 55,
   "metadata": {},
   "outputs": [
    {
     "name": "stdout",
     "output_type": "stream",
     "text": [
      "defaultdict(<class 'int'>, {1: 1, 31: 1, 30: 1})\n"
     ]
    },
    {
     "data": {
      "text/plain": [
       "2"
      ]
     },
     "execution_count": 55,
     "metadata": {},
     "output_type": "execute_result"
    }
   ],
   "source": [
    "from collections import defaultdict\n",
    "from copy import copy\n",
    "\n",
    "\n",
    "class Solution:\n",
    "\n",
    "    def countPalindromes(self, s: str) -> int:\n",
    "        MOD = 10**9 + 7\n",
    "        nums = list(map(int, s))\n",
    "        n = len(nums)\n",
    "        pre = defaultdict(int)  # 前面各数字(0-9)数量\n",
    "        pre2 = defaultdict(lambda: defaultdict(int))  # 包含当前位置 前面各组合数字(00-99)数量\n",
    "        suf = defaultdict(int)  # 后面各数字(0-9)数量\n",
    "        suf2 = defaultdict(lambda: defaultdict(int))  # 包含当前位置 后面各组合数字(00-99)数量\n",
    "        for i in range(n):\n",
    "            # 前缀\n",
    "            pre_cur = nums[i]\n",
    "            pre2[i] = copy(pre2[i - 1]) # 继承\n",
    "            for k, v in pre.items():\n",
    "                pre2[i][10 * pre_cur + k] += v\n",
    "            pre[pre_cur] += 1\n",
    "            # 后缀\n",
    "            suf_cur = nums[n - 1 - i]\n",
    "            suf2[n - 1 - i] = copy(suf2[n - i]) # 继承\n",
    "            for k, v in suf.items():\n",
    "                suf2[n - 1 - i][10 * suf_cur + k] += v\n",
    "            suf[suf_cur] += 1\n",
    "        ans = 0\n",
    "        for i in range(n - 2):\n",
    "            for j in range(100):\n",
    "                ans += pre2[i][j] * suf2[i + 2][j]\n",
    "        return ans % MOD\n",
    "\n",
    "\n",
    "s = Solution()\n",
    "s.countPalindromes('103301')"
   ]
  },
  {
   "cell_type": "code",
   "execution_count": null,
   "metadata": {},
   "outputs": [],
   "source": []
  }
 ],
 "metadata": {
  "kernelspec": {
   "display_name": "Python 3.10.5 64-bit",
   "language": "python",
   "name": "python3"
  },
  "language_info": {
   "codemirror_mode": {
    "name": "ipython",
    "version": 3
   },
   "file_extension": ".py",
   "mimetype": "text/x-python",
   "name": "python",
   "nbconvert_exporter": "python",
   "pygments_lexer": "ipython3",
   "version": "3.10.5"
  },
  "orig_nbformat": 4,
  "vscode": {
   "interpreter": {
    "hash": "3196968d684371006099b3d55edeef8ed90365227a30deaef86e5d4aa8519be0"
   }
  }
 },
 "nbformat": 4,
 "nbformat_minor": 2
}
