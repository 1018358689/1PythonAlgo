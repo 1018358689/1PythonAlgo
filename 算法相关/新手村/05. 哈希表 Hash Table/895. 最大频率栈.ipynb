{
 "cells": [
  {
   "cell_type": "markdown",
   "metadata": {},
   "source": [
    "![](2022-11-30-08-48-18.png)"
   ]
  },
  {
   "cell_type": "code",
   "execution_count": null,
   "metadata": {},
   "outputs": [],
   "source": [
    "from collections import Counter\n",
    "\n",
    "\n",
    "class FreqStack:\n",
    "\n",
    "    def __init__(self):\n",
    "        self.ha = Counter()\n",
    "        self.stk = [[None]]  # 索引代表频率栈\n",
    "\n",
    "    def push(self, val: int) -> None:\n",
    "        self.ha[val] += 1\n",
    "        if len(self.stk) - 1 < self.ha[val]:  # 栈不够(最大频率还不够)\n",
    "            self.stk.append([val])\n",
    "        else:\n",
    "            self.stk[self.ha[val]].append(val)\n",
    "\n",
    "    def pop(self) -> int:\n",
    "        val = self.stk[-1].pop()\n",
    "        if not self.stk[-1]:  # 空了就弹出\n",
    "            self.stk.pop()\n",
    "        self.ha[val] -= 1\n",
    "        return val\n",
    "\n",
    "\n",
    "# Your FreqStack object will be instantiated and called as such:\n",
    "# obj = FreqStack()\n",
    "# obj.push(val)\n",
    "# param_2 = obj.pop()"
   ]
  }
 ],
 "metadata": {
  "language_info": {
   "name": "python"
  },
  "orig_nbformat": 4
 },
 "nbformat": 4,
 "nbformat_minor": 2
}
