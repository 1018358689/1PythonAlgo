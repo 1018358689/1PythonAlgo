{
 "cells": [
  {
   "cell_type": "code",
   "execution_count": 1,
   "metadata": {},
   "outputs": [],
   "source": [
    "from typing import List\n",
    "\n",
    "\n",
    "class Solution:\n",
    "\n",
    "    def findAndReplacePattern(self, words: List[str], pattern: str) -> List[str]:\n",
    "\n",
    "        def check(s, p):\n",
    "            if len(s) != len(p):\n",
    "                return False\n",
    "            return len(set(s)) == len(set(p)) == len(set(zip(s, p)))\n",
    "\n",
    "        return [w for w in words if check(w, pattern)]\n"
   ]
  },
  {
   "cell_type": "code",
   "execution_count": 10,
   "metadata": {},
   "outputs": [
    {
     "data": {
      "text/plain": [
       "('c', {'a': 'b', 'd': 'c'})"
      ]
     },
     "execution_count": 10,
     "metadata": {},
     "output_type": "execute_result"
    }
   ],
   "source": [
    "list(zip('ab','cde'))\n",
    "a = {'a':'b'}\n",
    "# a.get('d','c'),a\n",
    "a.setdefault('d','c'),a"
   ]
  },
  {
   "cell_type": "code",
   "execution_count": 11,
   "metadata": {},
   "outputs": [],
   "source": [
    "from typing import List\n",
    "\n",
    "\n",
    "class Solution:\n",
    "\n",
    "    def findAndReplacePattern(self, words: List[str], pattern: str) -> List[str]:\n",
    "\n",
    "        def check(s, p):\n",
    "            if len(s) != len(p):\n",
    "                return False\n",
    "            s2p = {}\n",
    "            p2s = {}\n",
    "            for a, b in zip(s, p):\n",
    "                need1 = s2p.setdefault(a, b)\n",
    "                need2 = p2s.setdefault(b, a)\n",
    "                if need1 != b or need2 != a:\n",
    "                    return False\n",
    "            return True\n",
    "\n",
    "        return [w for w in words if check(w, pattern)]\n"
   ]
  },
  {
   "cell_type": "code",
   "execution_count": 13,
   "metadata": {},
   "outputs": [],
   "source": [
    "from typing import List\n",
    "\n",
    "\n",
    "class Solution:\n",
    "\n",
    "    def findAndReplacePattern(self, words: List[str], pattern: str) -> List[str]:\n",
    "\n",
    "        def check(s, p):\n",
    "            if len(s) != len(p):\n",
    "                return False\n",
    "            s2p, p2s = {}, {}\n",
    "            for a, b in zip(s, p):\n",
    "                if s2p.setdefault(a, b) != b or p2s.setdefault(b, a) != a:\n",
    "                    return False\n",
    "            return True\n",
    "\n",
    "        return [w for w in words if check(w, pattern)]\n"
   ]
  },
  {
   "cell_type": "code",
   "execution_count": null,
   "metadata": {},
   "outputs": [],
   "source": [
    "from typing import List\n",
    "\n",
    "\n",
    "class Solution:\n",
    "\n",
    "    def findAndReplacePattern(self, words: List[str], pattern: str) -> List[str]:\n",
    "\n",
    "        def check(s, p):\n",
    "            s2p, p2s = {}, {}\n",
    "            return all(s2p.setdefault(a, b) == b and p2s.setdefault(b, a) == a for a, b in zip(s, p))\n",
    "\n",
    "        return [w for w in words if check(w, pattern)]\n"
   ]
  }
 ],
 "metadata": {
  "kernelspec": {
   "display_name": "Python 3.10.1 64-bit",
   "language": "python",
   "name": "python3"
  },
  "language_info": {
   "codemirror_mode": {
    "name": "ipython",
    "version": 3
   },
   "file_extension": ".py",
   "mimetype": "text/x-python",
   "name": "python",
   "nbconvert_exporter": "python",
   "pygments_lexer": "ipython3",
   "version": "3.10.1"
  },
  "orig_nbformat": 4,
  "vscode": {
   "interpreter": {
    "hash": "aee8b7b246df8f9039afb4144a1f6fd8d2ca17a180786b69acc140d282b71a49"
   }
  }
 },
 "nbformat": 4,
 "nbformat_minor": 2
}
