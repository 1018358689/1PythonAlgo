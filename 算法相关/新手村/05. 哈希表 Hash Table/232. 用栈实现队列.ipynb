{
 "cells": [
  {
   "cell_type": "code",
   "execution_count": null,
   "metadata": {},
   "outputs": [],
   "source": [
    "class MyQueue:\n",
    "\n",
    "    def __init__(self):\n",
    "        self.stack1 = []\n",
    "        self.stack2 = []\n",
    "\n",
    "    def push(self, x: int) -> None:\n",
    "        while self.stack1:\n",
    "            self.stack2.append(self.stack1.pop())\n",
    "        self.stack2.append(x)\n",
    "        while self.stack2:\n",
    "            self.stack1.append(self.stack2.pop())\n",
    "\n",
    "    def pop(self) -> int:\n",
    "        return self.stack1.pop()\n",
    "\n",
    "    def peek(self) -> int:\n",
    "        return self.stack1[-1]\n",
    "\n",
    "    def empty(self) -> bool:\n",
    "        return len(self.stack1) == 0\n",
    "\n",
    "\n",
    "# Your MyQueue object will be instantiated and called as such:\n",
    "# obj = MyQueue()\n",
    "# obj.push(x)\n",
    "# param_2 = obj.pop()\n",
    "# param_3 = obj.peek()\n",
    "# param_4 = obj.empty()"
   ]
  }
 ],
 "metadata": {
  "language_info": {
   "name": "python"
  },
  "orig_nbformat": 4
 },
 "nbformat": 4,
 "nbformat_minor": 2
}
