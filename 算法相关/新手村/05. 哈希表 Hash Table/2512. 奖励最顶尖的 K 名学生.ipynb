{
 "cells": [
  {
   "cell_type": "code",
   "execution_count": 1,
   "metadata": {},
   "outputs": [],
   "source": [
    "from collections import Counter\n",
    "from heapq import heappop, heappush\n",
    "from typing import List\n",
    "\n",
    "\n",
    "class Solution:\n",
    "\n",
    "    def topStudents(self, positive_feedback: List[str], negative_feedback: List[str], report: List[str], student_id: List[int], k: int) -> List[int]:\n",
    "        pq = []\n",
    "        pos = set(positive_feedback)\n",
    "        neg = set(negative_feedback)\n",
    "        for r, id in zip(report, student_id):\n",
    "            r = Counter(r.split())\n",
    "            scores = 3 * sum(v for k, v in r.items() if k in pos) - sum(v for k, v in r.items() if k in neg)\n",
    "            heappush(pq, (-scores, id))\n",
    "        return [heappop(pq)[1] for _ in range(k)]"
   ]
  },
  {
   "cell_type": "code",
   "execution_count": 2,
   "metadata": {},
   "outputs": [],
   "source": [
    "from collections import Counter\n",
    "from heapq import heappop, heappush\n",
    "from typing import List\n",
    "\n",
    "\n",
    "class Solution:\n",
    "\n",
    "    def topStudents(self, positive_feedback: List[str], negative_feedback: List[str], report: List[str], student_id: List[int], k: int) -> List[int]:\n",
    "        pq = []\n",
    "        w2s = Counter()\n",
    "        for w in positive_feedback:\n",
    "            w2s[w] = 3\n",
    "        for w in negative_feedback:\n",
    "            w2s[w] -= 1\n",
    "        for r, id in zip(report, student_id):\n",
    "            scores = sum(w2s[k] * v for k, v in Counter(r.split()).items())\n",
    "            heappush(pq, (-scores, id))\n",
    "        return [heappop(pq)[1] for _ in range(k)]"
   ]
  },
  {
   "cell_type": "code",
   "execution_count": null,
   "metadata": {},
   "outputs": [],
   "source": [
    "from collections import Counter\n",
    "from heapq import heappop, heappush\n",
    "from typing import List\n",
    "\n",
    "\n",
    "class Solution:\n",
    "\n",
    "    def topStudents(self, positive_feedback: List[str], negative_feedback: List[str], report: List[str], student_id: List[int], k: int) -> List[int]:\n",
    "        pq = []\n",
    "        w2s = Counter()\n",
    "        for w in positive_feedback:\n",
    "            w2s[w] = 3\n",
    "        for w in negative_feedback:\n",
    "            w2s[w] -= 1\n",
    "        for r, id in zip(report, student_id):\n",
    "            scores = sum(w2s[k] for k in r.split())\n",
    "            heappush(pq, (-scores, id))\n",
    "        return [heappop(pq)[1] for _ in range(k)]"
   ]
  }
 ],
 "metadata": {
  "kernelspec": {
   "display_name": "Python 3",
   "language": "python",
   "name": "python3"
  },
  "language_info": {
   "codemirror_mode": {
    "name": "ipython",
    "version": 3
   },
   "file_extension": ".py",
   "mimetype": "text/x-python",
   "name": "python",
   "nbconvert_exporter": "python",
   "pygments_lexer": "ipython3",
   "version": "3.11.1 (tags/v3.11.1:a7a450f, Dec  6 2022, 19:58:39) [MSC v.1934 64 bit (AMD64)]"
  },
  "orig_nbformat": 4,
  "vscode": {
   "interpreter": {
    "hash": "ff4b1fca65a764b45acb559e482afe389d289dd599b9f8c5fd12ff5c2ea46a65"
   }
  }
 },
 "nbformat": 4,
 "nbformat_minor": 2
}
