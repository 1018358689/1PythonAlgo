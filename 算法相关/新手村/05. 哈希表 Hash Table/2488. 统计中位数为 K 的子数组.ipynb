{
 "cells": [
  {
   "cell_type": "code",
   "execution_count": 9,
   "metadata": {},
   "outputs": [
    {
     "data": {
      "text/plain": [
       "3"
      ]
     },
     "execution_count": 9,
     "metadata": {},
     "output_type": "execute_result"
    }
   ],
   "source": [
    "from typing import List\n",
    "from collections import defaultdict\n",
    "\n",
    "\n",
    "class Solution:\n",
    "\n",
    "    def countSubarrays(self, nums: List[int], k: int) -> int:\n",
    "        n = 0\n",
    "        tmp = []\n",
    "        k_idx = 0\n",
    "        for i, c in enumerate(nums):\n",
    "            n += 1\n",
    "            if c == k:\n",
    "                k_idx = i\n",
    "                tmp.append(0)\n",
    "            elif c > k:\n",
    "                tmp.append(1)\n",
    "            else:\n",
    "                tmp.append(-1)\n",
    "        # -> 含k的和为0 或 1 的子数组个数\n",
    "        cnt = defaultdict(int)  # k右边和 的个数\n",
    "        cnt[0] = 1\n",
    "        s = 0\n",
    "        for i in range(k_idx + 1, n):\n",
    "            s += tmp[i]\n",
    "            cnt[s] += 1\n",
    "        ans = cnt[0] + cnt[1]  # 右边 0 or 1直接构成\n",
    "        s = 0\n",
    "        for i in range(k_idx - 1, -1, -1):\n",
    "            s += tmp[i]\n",
    "            # s+s' = 1 or 0 -> s' = 1-s or -s\n",
    "            ans += cnt[1 - s] + cnt[-s]\n",
    "        return ans\n",
    "\n",
    "\n",
    "s = Solution()\n",
    "s.countSubarrays([3, 2, 1, 4, 5], 4)\n",
    "# s.countSubarrays([2, 3, 1], 3)\n"
   ]
  },
  {
   "cell_type": "code",
   "execution_count": null,
   "metadata": {},
   "outputs": [],
   "source": []
  }
 ],
 "metadata": {
  "kernelspec": {
   "display_name": "Python 3.10.5 64-bit",
   "language": "python",
   "name": "python3"
  },
  "language_info": {
   "codemirror_mode": {
    "name": "ipython",
    "version": 3
   },
   "file_extension": ".py",
   "mimetype": "text/x-python",
   "name": "python",
   "nbconvert_exporter": "python",
   "pygments_lexer": "ipython3",
   "version": "3.10.5"
  },
  "orig_nbformat": 4,
  "vscode": {
   "interpreter": {
    "hash": "3196968d684371006099b3d55edeef8ed90365227a30deaef86e5d4aa8519be0"
   }
  }
 },
 "nbformat": 4,
 "nbformat_minor": 2
}
