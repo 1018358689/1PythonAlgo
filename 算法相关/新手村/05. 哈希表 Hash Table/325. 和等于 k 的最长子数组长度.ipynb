{
 "cells": [
  {
   "cell_type": "code",
   "execution_count": null,
   "metadata": {},
   "outputs": [],
   "source": [
    "from typing import List\n",
    "\n",
    "\n",
    "class Solution:\n",
    "\n",
    "    def maxSubArrayLen(self, nums: List[int], k: int) -> int:\n",
    "        n = len(nums)\n",
    "        ps = {0: 0}  # 前0个数和为0\n",
    "        ans = 0\n",
    "        s = 0\n",
    "        for i in range(n):\n",
    "            s += nums[i]\n",
    "            if s - k in ps and i + 1 - ps[s - k] > ans:\n",
    "                ans = i + 1 - ps[s - k]\n",
    "            if s not in ps:  # 前缀和不要更新\n",
    "                ps[s] = i + 1\n",
    "        return ans\n"
   ]
  }
 ],
 "metadata": {
  "language_info": {
   "name": "python"
  },
  "orig_nbformat": 4
 },
 "nbformat": 4,
 "nbformat_minor": 2
}
