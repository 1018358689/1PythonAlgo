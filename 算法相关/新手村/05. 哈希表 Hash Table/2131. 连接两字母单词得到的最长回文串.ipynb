{
 "cells": [
  {
   "cell_type": "code",
   "execution_count": 2,
   "metadata": {},
   "outputs": [
    {
     "data": {
      "text/plain": [
       "0"
      ]
     },
     "execution_count": 2,
     "metadata": {},
     "output_type": "execute_result"
    }
   ],
   "source": [
    "from collections import Counter\n",
    "cnt = Counter()\n",
    "cnt['a']"
   ]
  },
  {
   "cell_type": "code",
   "execution_count": 3,
   "metadata": {},
   "outputs": [],
   "source": [
    "from typing import List\n",
    "from collections import Counter\n",
    "\n",
    "\n",
    "class Solution:\n",
    "\n",
    "    def longestPalindrome(self, words: List[str]) -> int:\n",
    "        cnt = Counter()\n",
    "        ans = 0\n",
    "        for word in words:\n",
    "            lWord = word[1] + word[0]\n",
    "            if cnt[lWord] >= 1:\n",
    "                cnt[lWord] -= 1\n",
    "                ans += 4\n",
    "            else:\n",
    "                cnt[word] += 1\n",
    "        for word in words:\n",
    "            if word[0] == word[1] and cnt[word] == 1:  # 最多1个 大于1个都被抵消了\n",
    "                return ans + 2\n",
    "        return ans\n"
   ]
  },
  {
   "cell_type": "code",
   "execution_count": null,
   "metadata": {},
   "outputs": [],
   "source": [
    "class Solution:\n",
    "\n",
    "    def longestPalindrome(self, words: List[str]) -> int:\n",
    "        freq = Counter(words)  # 单词出现次数\n",
    "        res = 0  # 最长回文串长度\n",
    "        mid = False  # 是否含有单个的自身回文单词，因为即使有多个，最终的回文串也只能用一个（在最中间位置），而且并不需要记录它是什么，所以用布尔值即可\n",
    "        for word, cnt in freq.items():\n",
    "            # 遍历出现的单词，并更新长度\n",
    "            rev = word[1] + word[0]  # 反转后的单词\n",
    "            if word == rev:\n",
    "                if cnt % 2 == 1:  # 说明存在单个的自身回文子串\n",
    "                    mid = True\n",
    "                res += cnt // 2 * 4  # cnt//2是对数，每出现一对（即两个单词），最终回文串长度多4\n",
    "            elif word > rev:  # 避免重复遍历\n",
    "                pair = min(freq[word], freq[rev])  # 对数，取单词和反转单词二者中个数小者的个数\n",
    "                res += 4 * pair  # 每出现一对（即两个单词），最终回文串长度多4\n",
    "        if mid:\n",
    "            res += 2  # 含有单个的自身回文单词，只能选一个放在最终回文串最中间位置，所以长度加2\n",
    "        return res\n"
   ]
  }
 ],
 "metadata": {
  "kernelspec": {
   "display_name": "Python 3.10.5 64-bit",
   "language": "python",
   "name": "python3"
  },
  "language_info": {
   "codemirror_mode": {
    "name": "ipython",
    "version": 3
   },
   "file_extension": ".py",
   "mimetype": "text/x-python",
   "name": "python",
   "nbconvert_exporter": "python",
   "pygments_lexer": "ipython3",
   "version": "3.10.5"
  },
  "orig_nbformat": 4,
  "vscode": {
   "interpreter": {
    "hash": "3196968d684371006099b3d55edeef8ed90365227a30deaef86e5d4aa8519be0"
   }
  }
 },
 "nbformat": 4,
 "nbformat_minor": 2
}
