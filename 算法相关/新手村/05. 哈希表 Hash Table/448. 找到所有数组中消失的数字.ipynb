{
 "cells": [
  {
   "cell_type": "code",
   "execution_count": 7,
   "metadata": {},
   "outputs": [
    {
     "data": {
      "text/plain": [
       "[5, 6, 8]"
      ]
     },
     "execution_count": 7,
     "metadata": {},
     "output_type": "execute_result"
    }
   ],
   "source": [
    "# 原地哈希\n",
    "from typing import List\n",
    "\n",
    "\n",
    "class Solution:\n",
    "\n",
    "    def findDisappearedNumbers(self, nums: List[int]) -> List[int]:\n",
    "        for n in nums:\n",
    "            while n : # 0表示访问过\n",
    "                nums[n - 1], n = 0, nums[n - 1]\n",
    "        return [i + 1 for i, n in enumerate(nums) if n]\n",
    "\n",
    "\n",
    "s = Solution()\n",
    "s.findDisappearedNumbers([4, 3, 2, 7, 7, 2, 3, 1])\n"
   ]
  },
  {
   "cell_type": "code",
   "execution_count": null,
   "metadata": {},
   "outputs": [],
   "source": [
    "class Solution:\n",
    "\n",
    "    def findDisappearedNumbers(self, nums: List[int]) -> List[int]:\n",
    "        for n in nums:\n",
    "            pos = abs(n) - 1\n",
    "            if nums[pos] > 0:  # <0表示访问过\n",
    "                nums[pos] *= -1\n",
    "        return [i + 1 for i, n in enumerate(nums) if n > 0]\n"
   ]
  },
  {
   "cell_type": "code",
   "execution_count": null,
   "metadata": {},
   "outputs": [],
   "source": []
  }
 ],
 "metadata": {
  "kernelspec": {
   "display_name": "Python 3.10.5 64-bit",
   "language": "python",
   "name": "python3"
  },
  "language_info": {
   "codemirror_mode": {
    "name": "ipython",
    "version": 3
   },
   "file_extension": ".py",
   "mimetype": "text/x-python",
   "name": "python",
   "nbconvert_exporter": "python",
   "pygments_lexer": "ipython3",
   "version": "3.10.5"
  },
  "orig_nbformat": 4,
  "vscode": {
   "interpreter": {
    "hash": "3196968d684371006099b3d55edeef8ed90365227a30deaef86e5d4aa8519be0"
   }
  }
 },
 "nbformat": 4,
 "nbformat_minor": 2
}
