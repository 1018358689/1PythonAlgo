{
 "cells": [
  {
   "cell_type": "code",
   "execution_count": 1,
   "metadata": {},
   "outputs": [
    {
     "data": {
      "text/plain": [
       "1"
      ]
     },
     "execution_count": 1,
     "metadata": {},
     "output_type": "execute_result"
    }
   ],
   "source": [
    "from typing import List\n",
    "\n",
    "\n",
    "class Solution:\n",
    "\n",
    "    def findClosest(self, words: List[str], word1: str, word2: str) -> int:\n",
    "        ans = float('inf')\n",
    "        ha = {word1: float('-inf'), word2: float('-inf')}\n",
    "        for i, n in enumerate(words):\n",
    "            if n == word1:\n",
    "                ans = min(ans, i - ha[word2])\n",
    "                ha[word1] = i\n",
    "            elif n == word2:\n",
    "                ans = min(ans, i - ha[word1])\n",
    "                ha[word2] = i\n",
    "        return ans\n",
    "\n",
    "\n",
    "s = Solution()\n",
    "s.findClosest([\"I\", \"am\", \"a\", \"student\", \"from\", \"a\", \"university\", \"in\", \"a\", \"city\"], 'a', 'student')\n"
   ]
  },
  {
   "cell_type": "code",
   "execution_count": 2,
   "metadata": {},
   "outputs": [
    {
     "data": {
      "text/plain": [
       "1"
      ]
     },
     "execution_count": 2,
     "metadata": {},
     "output_type": "execute_result"
    }
   ],
   "source": [
    "from typing import List\n",
    "from collections import defaultdict\n",
    "\n",
    "\n",
    "class Solution:\n",
    "\n",
    "    def theClosest(self, nums, target):\n",
    "        l, r = 0, len(nums) - 1\n",
    "        while l <= r:\n",
    "            m = l + r >> 1\n",
    "            if nums[m] >= target:\n",
    "                r = m - 1\n",
    "            else:\n",
    "                l = m + 1\n",
    "        left = nums[r] if r >= 0 else float('-inf')\n",
    "        right = nums[l] if l < len(nums) else float('inf')\n",
    "        return min(right - target, target - left)\n",
    "\n",
    "    def findClosest(self, words: List[str], word1: str, word2: str) -> int:\n",
    "        num2pos = defaultdict(list)\n",
    "        for i, n in enumerate(words):\n",
    "            num2pos[n].append(i)\n",
    "        ans = float('inf')\n",
    "        for i in num2pos[word1]:\n",
    "            ans = min(ans, self.theClosest(num2pos[word2], i))\n",
    "        return ans\n",
    "\n",
    "\n",
    "s = Solution()\n",
    "s.findClosest([\"I\", \"am\", \"a\", \"student\", \"from\", \"a\", \"university\", \"in\", \"a\", \"city\"], 'a', 'student')\n"
   ]
  },
  {
   "cell_type": "code",
   "execution_count": null,
   "metadata": {},
   "outputs": [],
   "source": []
  }
 ],
 "metadata": {
  "interpreter": {
   "hash": "97367d2de1780ea7c502b529f25888c1b53c0430a7611816b6c7cf19d8435228"
  },
  "kernelspec": {
   "display_name": "Python 3.10.4 64-bit (windows store)",
   "language": "python",
   "name": "python3"
  },
  "language_info": {
   "codemirror_mode": {
    "name": "ipython",
    "version": 3
   },
   "file_extension": ".py",
   "mimetype": "text/x-python",
   "name": "python",
   "nbconvert_exporter": "python",
   "pygments_lexer": "ipython3",
   "version": "3.10.4"
  },
  "orig_nbformat": 4
 },
 "nbformat": 4,
 "nbformat_minor": 2
}
