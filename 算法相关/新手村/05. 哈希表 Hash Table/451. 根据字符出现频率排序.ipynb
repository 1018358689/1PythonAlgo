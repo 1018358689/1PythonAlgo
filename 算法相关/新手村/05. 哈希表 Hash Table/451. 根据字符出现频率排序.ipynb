{
 "cells": [
  {
   "cell_type": "code",
   "execution_count": 5,
   "metadata": {},
   "outputs": [
    {
     "data": {
      "text/plain": [
       "'eetr'"
      ]
     },
     "execution_count": 5,
     "metadata": {},
     "output_type": "execute_result"
    }
   ],
   "source": [
    "from collections import Counter\n",
    "\n",
    "\n",
    "class Solution:\n",
    "\n",
    "    def frequencySort(self, s: str) -> str:\n",
    "        cnt = [(v, k) for k, v in Counter(s).items()]\n",
    "        cnt.sort(reverse=True)\n",
    "        return ''.join(v * k for v, k in cnt)\n",
    "\n",
    "\n",
    "s = Solution()\n",
    "s.frequencySort('tree')"
   ]
  },
  {
   "cell_type": "code",
   "execution_count": 6,
   "metadata": {},
   "outputs": [
    {
     "data": {
      "text/plain": [
       "'eetr'"
      ]
     },
     "execution_count": 6,
     "metadata": {},
     "output_type": "execute_result"
    }
   ],
   "source": [
    "from collections import Counter\n",
    "\n",
    "\n",
    "class Solution:\n",
    "\n",
    "    def frequencySort(self, s: str) -> str:\n",
    "        return ''.join(v * k for v, k in Counter(s).most_common())\n",
    "\n",
    "\n",
    "s = Solution()\n",
    "s.frequencySort('tree')"
   ]
  },
  {
   "cell_type": "code",
   "execution_count": 7,
   "metadata": {},
   "outputs": [],
   "source": [
    "from heapq import heappop, heappush\n",
    "\n",
    "\n",
    "class Solution:\n",
    "\n",
    "    def frequencySort(self, s: str) -> str:\n",
    "        ha = {}\n",
    "        for n in s:\n",
    "            ha[n] = ha.get(n, 0) + 1\n",
    "        pq = []\n",
    "        for n, c in ha.items():\n",
    "            heappush(pq, (-c, n))\n",
    "        ans = ''\n",
    "        while pq:\n",
    "            c, n = heappop(pq)\n",
    "            ans += n * (-c)\n",
    "        return ans"
   ]
  },
  {
   "cell_type": "code",
   "execution_count": 12,
   "metadata": {},
   "outputs": [
    {
     "data": {
      "text/plain": [
       "(48, 57, 97, 65, '\\x80')"
      ]
     },
     "execution_count": 12,
     "metadata": {},
     "output_type": "execute_result"
    }
   ],
   "source": [
    "ord('0'),ord('9'),ord('a'),ord('A'),chr(128)"
   ]
  }
 ],
 "metadata": {
  "kernelspec": {
   "display_name": "Python 3.10.5 64-bit",
   "language": "python",
   "name": "python3"
  },
  "language_info": {
   "codemirror_mode": {
    "name": "ipython",
    "version": 3
   },
   "file_extension": ".py",
   "mimetype": "text/x-python",
   "name": "python",
   "nbconvert_exporter": "python",
   "pygments_lexer": "ipython3",
   "version": "3.10.5"
  },
  "orig_nbformat": 4,
  "vscode": {
   "interpreter": {
    "hash": "3196968d684371006099b3d55edeef8ed90365227a30deaef86e5d4aa8519be0"
   }
  }
 },
 "nbformat": 4,
 "nbformat_minor": 2
}
