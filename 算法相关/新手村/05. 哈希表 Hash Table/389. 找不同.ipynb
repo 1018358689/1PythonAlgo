{
 "cells": [
  {
   "cell_type": "code",
   "execution_count": null,
   "metadata": {},
   "outputs": [],
   "source": [
    "def f(s: str, t: str):\n",
    "    ha = {}\n",
    "    for i in s:\n",
    "        ha[i] = ha.get(i, 0) + 1\n",
    "    for i in t:\n",
    "        if i not in ha or ha[i] == 0:\n",
    "            return i\n",
    "        ha[i] -= 1\n"
   ]
  }
 ],
 "metadata": {
  "language_info": {
   "name": "python"
  },
  "orig_nbformat": 4
 },
 "nbformat": 4,
 "nbformat_minor": 2
}
