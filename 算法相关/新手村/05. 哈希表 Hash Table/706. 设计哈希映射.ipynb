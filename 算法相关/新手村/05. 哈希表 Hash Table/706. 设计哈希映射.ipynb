{
 "cells": [
  {
   "cell_type": "code",
   "execution_count": 1,
   "metadata": {},
   "outputs": [],
   "source": [
    "class MyHashMap:\n",
    "\n",
    "    def __init__(self):\n",
    "        self.bucket = [None] * 1000\n",
    "\n",
    "    def put(self, key: int, value: int) -> None:\n",
    "        pos, id = divmod(key, 1000) # id[0,999] pos[0,1000]\n",
    "        if self.bucket[id] is None:\n",
    "            self.bucket[id] = [None] * 1001\n",
    "        self.bucket[id][pos] = value\n",
    "\n",
    "    def get(self, key: int) -> int:\n",
    "        pos, id = divmod(key, 1000)\n",
    "        if self.bucket[id] is None or self.bucket[id][pos] is None:\n",
    "            return -1\n",
    "        return self.bucket[id][pos]\n",
    "\n",
    "    def remove(self, key: int) -> None:\n",
    "        pos, id = divmod(key, 1000)\n",
    "        if self.bucket[id] is None or self.bucket[id][pos] is None:\n",
    "            return\n",
    "        self.bucket[id][pos] = None\n",
    "\n",
    "\n",
    "# Your MyHashMap object will be instantiated and called as such:\n",
    "# obj = MyHashMap()\n",
    "# obj.put(key,value)\n",
    "# param_2 = obj.get(key)\n",
    "# obj.remove(key)"
   ]
  },
  {
   "cell_type": "code",
   "execution_count": 2,
   "metadata": {},
   "outputs": [],
   "source": [
    "class MyHashMap:\n",
    "\n",
    "    def __init__(self):\n",
    "        self.bucket = [[] for _ in range(1000)]\n",
    "\n",
    "    def put(self, key: int, value: int) -> None:\n",
    "        pos, id = divmod(key, 1000)\n",
    "        for item in self.bucket[id]:\n",
    "            if item[0] == pos:\n",
    "                item[1] = value\n",
    "                return\n",
    "        self.bucket[id].append([pos, value])\n",
    "\n",
    "    def get(self, key: int) -> int:\n",
    "        pos, id = divmod(key, 1000)\n",
    "        for item in self.bucket[id]:\n",
    "            if item[0] == pos:\n",
    "                return item[1]\n",
    "        return -1\n",
    "        # return next((item[1] for item in self.bucket[id] if item[0]==pos), -1)\n",
    "\n",
    "    def remove(self, key: int) -> None:\n",
    "        pos, id = divmod(key, 1000)\n",
    "        for item in self.bucket[id]:\n",
    "            if item[0] == pos:\n",
    "                item[1] = -1\n",
    "                return\n",
    "\n",
    "\n",
    "# Your MyHashMap object will be instantiated and called as such:\n",
    "# obj = MyHashMap()\n",
    "# obj.put(key,value)\n",
    "# param_2 = obj.get(key)\n",
    "# obj.remove(key)"
   ]
  },
  {
   "cell_type": "code",
   "execution_count": 6,
   "metadata": {},
   "outputs": [],
   "source": [
    "from sortedcontainers import SortedList\n",
    "\n",
    "\n",
    "class MyHashMap:\n",
    "\n",
    "    def __init__(self):\n",
    "        self.buckets = 1000\n",
    "        self.table = [SortedList([]) for _ in range(self.buckets)]\n",
    "\n",
    "    def hash(self, key):\n",
    "        return key % self.buckets\n",
    "\n",
    "    def pos(self, key):\n",
    "        return key // self.buckets\n",
    "\n",
    "    def search(self, arr, target):\n",
    "        l, r = 0, len(arr) - 1\n",
    "        while l <= r:\n",
    "            m = (l + r) >> 1\n",
    "            if arr[m][0] >= target:\n",
    "                r = m - 1\n",
    "            else:\n",
    "                l = m + 1\n",
    "        if l < len(arr) and arr[l][0] == target:\n",
    "            return l\n",
    "        return -1\n",
    "\n",
    "    def put(self, key: int, value: int) -> None:\n",
    "        hashKey = self.hash(key)\n",
    "        posKey = self.pos(key)\n",
    "        index = self.search(self.table[hashKey], posKey)\n",
    "        if index != -1:\n",
    "            self.table[hashKey][index][1] = value\n",
    "        else:\n",
    "            self.table[hashKey].add([posKey, value])\n",
    "\n",
    "    def get(self, key: int) -> int:\n",
    "        hashKey = self.hash(key)\n",
    "        posKey = self.pos(key)\n",
    "        index = self.search(self.table[hashKey], posKey)\n",
    "        if index != -1:\n",
    "            return self.table[hashKey][index][1]\n",
    "        else:\n",
    "            return -1\n",
    "\n",
    "    def remove(self, key: int) -> None:\n",
    "        hashKey = self.hash(key)\n",
    "        posKey = self.pos(key)\n",
    "        index = self.search(self.table[hashKey], posKey)\n",
    "        if index != -1:\n",
    "            self.table[hashKey][index][1] = -1\n",
    "\n",
    "\n",
    "# Your MyHashMap object will be instantiated and called as such:\n",
    "# obj = MyHashMap()\n",
    "# obj.put(key,value)\n",
    "# param_2 = obj.get(key)\n",
    "# obj.remove(key)"
   ]
  },
  {
   "cell_type": "code",
   "execution_count": 11,
   "metadata": {},
   "outputs": [
    {
     "data": {
      "text/plain": [
       "(None, SortedList([[1, 1], [1, 2], [2, 1]]))"
      ]
     },
     "execution_count": 11,
     "metadata": {},
     "output_type": "execute_result"
    }
   ],
   "source": [
    "l = SortedList([[1,2],[2,1]])\n",
    "l.add([1,1]),l"
   ]
  }
 ],
 "metadata": {
  "kernelspec": {
   "display_name": "Python 3.10.5 64-bit",
   "language": "python",
   "name": "python3"
  },
  "language_info": {
   "codemirror_mode": {
    "name": "ipython",
    "version": 3
   },
   "file_extension": ".py",
   "mimetype": "text/x-python",
   "name": "python",
   "nbconvert_exporter": "python",
   "pygments_lexer": "ipython3",
   "version": "3.10.5"
  },
  "orig_nbformat": 4,
  "vscode": {
   "interpreter": {
    "hash": "3196968d684371006099b3d55edeef8ed90365227a30deaef86e5d4aa8519be0"
   }
  }
 },
 "nbformat": 4,
 "nbformat_minor": 2
}
