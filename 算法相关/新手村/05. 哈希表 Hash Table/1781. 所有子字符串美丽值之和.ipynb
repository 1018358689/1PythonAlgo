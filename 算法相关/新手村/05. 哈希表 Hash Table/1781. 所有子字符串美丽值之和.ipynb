{
 "cells": [
  {
   "cell_type": "code",
   "execution_count": 1,
   "metadata": {},
   "outputs": [
    {
     "data": {
      "text/plain": [
       "17"
      ]
     },
     "execution_count": 1,
     "metadata": {},
     "output_type": "execute_result"
    }
   ],
   "source": [
    "from collections import Counter\n",
    "\n",
    "\n",
    "class Solution:\n",
    "\n",
    "    def beautySum(self, s: str) -> int:\n",
    "        ans = 0\n",
    "        n = len(s)\n",
    "        for i in range(n):\n",
    "            cnt = Counter()\n",
    "            for j in range(i, n):\n",
    "                cnt[s[j]] += 1\n",
    "                ans += max(cnt.values()) - min(cnt.values())\n",
    "        return ans\n",
    "\n",
    "\n",
    "s = Solution()\n",
    "s.beautySum('aabcbaa')"
   ]
  },
  {
   "cell_type": "code",
   "execution_count": 1,
   "metadata": {},
   "outputs": [
    {
     "data": {
      "text/plain": [
       "17"
      ]
     },
     "execution_count": 1,
     "metadata": {},
     "output_type": "execute_result"
    }
   ],
   "source": [
    "from collections import Counter\n",
    "\n",
    "\n",
    "class Solution:\n",
    "\n",
    "    def beautySum(self, s: str) -> int:\n",
    "        ans = 0\n",
    "        n = len(s)\n",
    "        for i in range(n):\n",
    "            cnt = Counter()\n",
    "            for j in range(i, -1, -1):\n",
    "                cnt[s[j]] += 1\n",
    "                ans += max(cnt.values()) - min(cnt.values())\n",
    "        return ans\n",
    "\n",
    "\n",
    "s = Solution()\n",
    "s.beautySum('aabcbaa')"
   ]
  },
  {
   "cell_type": "code",
   "execution_count": 2,
   "metadata": {},
   "outputs": [
    {
     "data": {
      "text/plain": [
       "17"
      ]
     },
     "execution_count": 2,
     "metadata": {},
     "output_type": "execute_result"
    }
   ],
   "source": [
    "from collections import Counter\n",
    "\n",
    "\n",
    "class Solution:\n",
    "\n",
    "    def beautySum(self, s: str) -> int:\n",
    "        ans = 0\n",
    "        n = len(s)\n",
    "        cs = []\n",
    "        for i in range(n):\n",
    "            cur = Counter()\n",
    "            cur[s[i]] += 1\n",
    "            for cnt in cs:\n",
    "                cnt[s[i]] += 1\n",
    "                ans += max(cnt.values()) - min(cnt.values())\n",
    "            cs.append(cur)\n",
    "        return ans\n",
    "\n",
    "\n",
    "s = Solution()\n",
    "s.beautySum('aabcbaa')"
   ]
  }
 ],
 "metadata": {
  "kernelspec": {
   "display_name": "Python 3",
   "language": "python",
   "name": "python3"
  },
  "language_info": {
   "codemirror_mode": {
    "name": "ipython",
    "version": 3
   },
   "file_extension": ".py",
   "mimetype": "text/x-python",
   "name": "python",
   "nbconvert_exporter": "python",
   "pygments_lexer": "ipython3",
   "version": "3.10.5 (tags/v3.10.5:f377153, Jun  6 2022, 16:14:13) [MSC v.1929 64 bit (AMD64)]"
  },
  "orig_nbformat": 4,
  "vscode": {
   "interpreter": {
    "hash": "3196968d684371006099b3d55edeef8ed90365227a30deaef86e5d4aa8519be0"
   }
  }
 },
 "nbformat": 4,
 "nbformat_minor": 2
}
