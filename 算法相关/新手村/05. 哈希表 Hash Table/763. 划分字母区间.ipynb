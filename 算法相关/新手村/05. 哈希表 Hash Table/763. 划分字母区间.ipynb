{
 "cells": [
  {
   "cell_type": "code",
   "execution_count": 5,
   "metadata": {},
   "outputs": [
    {
     "data": {
      "text/plain": [
       "[9, 7, 8]"
      ]
     },
     "execution_count": 5,
     "metadata": {},
     "output_type": "execute_result"
    }
   ],
   "source": [
    "from typing import List\n",
    "from collections import defaultdict\n",
    "\n",
    "\n",
    "class Solution:\n",
    "\n",
    "    def partitionLabels(self, s: str) -> List[int]:\n",
    "        pos = {}\n",
    "        for i, n in enumerate(s):\n",
    "            if n not in pos:\n",
    "                pos[n] = [i, i]\n",
    "            else:\n",
    "                pos[n][1] = i\n",
    "        pos = list(pos.values())\n",
    "\n",
    "        # print(pos)\n",
    "\n",
    "        def check(l1, l2):\n",
    "            if l1[1] < l2[0] or l2[1] < l1[0]:\n",
    "                return False\n",
    "            return True\n",
    "\n",
    "        def merge(l1, l2):\n",
    "            return [min(l1[0], l2[0]), max(l1[1], l2[1])]\n",
    "\n",
    "        ans = [pos[0]]\n",
    "        for p in pos[1:]:\n",
    "            if check(ans[-1], p):\n",
    "                ans[-1] = merge(ans[-1], p)\n",
    "            else:\n",
    "                ans.append(p)\n",
    "        return [j - i + 1 for i, j in ans]\n",
    "\n",
    "\n",
    "s = Solution()\n",
    "s.partitionLabels('ababcbacadefegdehijhklij')"
   ]
  },
  {
   "cell_type": "code",
   "execution_count": null,
   "metadata": {},
   "outputs": [],
   "source": []
  }
 ],
 "metadata": {
  "kernelspec": {
   "display_name": "Python 3.10.6 64-bit",
   "language": "python",
   "name": "python3"
  },
  "language_info": {
   "codemirror_mode": {
    "name": "ipython",
    "version": 3
   },
   "file_extension": ".py",
   "mimetype": "text/x-python",
   "name": "python",
   "nbconvert_exporter": "python",
   "pygments_lexer": "ipython3",
   "version": "3.10.6"
  },
  "orig_nbformat": 4,
  "vscode": {
   "interpreter": {
    "hash": "dfbf064e0f2c8839bc658dd75dfc0b8f09a0440078cae3024109b27659b69d06"
   }
  }
 },
 "nbformat": 4,
 "nbformat_minor": 2
}
