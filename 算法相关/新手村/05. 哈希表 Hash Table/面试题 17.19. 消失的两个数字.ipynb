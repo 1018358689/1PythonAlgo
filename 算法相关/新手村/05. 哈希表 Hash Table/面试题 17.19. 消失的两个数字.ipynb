{
 "cells": [
  {
   "cell_type": "code",
   "execution_count": 1,
   "metadata": {},
   "outputs": [],
   "source": [
    "from typing import List\n",
    "class Solution:\n",
    "\n",
    "    def missingTwo(self, nums: List[int]) -> List[int]:\n",
    "        return list(set(range(1, len(nums) + 3)) - set(nums))\n"
   ]
  },
  {
   "cell_type": "code",
   "execution_count": 3,
   "metadata": {},
   "outputs": [],
   "source": [
    "class Solution:\n",
    "\n",
    "    def missingTwo(self, nums: List[int]) -> List[int]:\n",
    "        nums += list(range(1, len(nums) + 3))\n",
    "        ans = [0, 0]\n",
    "        xor = 0\n",
    "        for n in nums:\n",
    "            xor ^= n\n",
    "        sep = 1\n",
    "        while xor & sep == 0:\n",
    "            sep <<= 1\n",
    "        for n in nums:\n",
    "            if sep & n == 0:\n",
    "                ans[0] ^= n\n",
    "            else:\n",
    "                ans[1] ^= n\n",
    "        return ans"
   ]
  },
  {
   "cell_type": "code",
   "execution_count": null,
   "metadata": {},
   "outputs": [],
   "source": []
  }
 ],
 "metadata": {
  "kernelspec": {
   "display_name": "Python 3.10.6 64-bit",
   "language": "python",
   "name": "python3"
  },
  "language_info": {
   "codemirror_mode": {
    "name": "ipython",
    "version": 3
   },
   "file_extension": ".py",
   "mimetype": "text/x-python",
   "name": "python",
   "nbconvert_exporter": "python",
   "pygments_lexer": "ipython3",
   "version": "3.10.6"
  },
  "orig_nbformat": 4,
  "vscode": {
   "interpreter": {
    "hash": "dfbf064e0f2c8839bc658dd75dfc0b8f09a0440078cae3024109b27659b69d06"
   }
  }
 },
 "nbformat": 4,
 "nbformat_minor": 2
}
