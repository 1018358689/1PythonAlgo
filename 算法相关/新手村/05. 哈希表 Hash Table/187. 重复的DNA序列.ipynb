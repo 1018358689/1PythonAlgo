{
 "cells": [
  {
   "cell_type": "code",
   "execution_count": 7,
   "metadata": {},
   "outputs": [
    {
     "data": {
      "text/plain": [
       "['AAAAACCCCC', 'CCCCCAAAAA']"
      ]
     },
     "execution_count": 7,
     "metadata": {},
     "output_type": "execute_result"
    }
   ],
   "source": [
    "# https://mp.weixin.qq.com/s/HiEft8sW5QzHcM5mb5_V6g\n",
    "from typing import List\n",
    "from collections import defaultdict\n",
    "\n",
    "\n",
    "class Solution:\n",
    "    def findRepeatedDnaSequences(self, s: str) -> List[str]:\n",
    "        ha = {'A': 0, 'C': 1, 'G': 2, 'T': 3}\n",
    "        cnt = defaultdict(int)\n",
    "        l = 0\n",
    "        ans = []\n",
    "        num = 0\n",
    "        for r in range(len(s)):\n",
    "            num = 4 * num + ha[s[r]] # 添加最低位\n",
    "            if r - l + 1 > 10:\n",
    "                num -= ha[s[l]] * (4**10) # 删除最高位(第11位)\n",
    "                l += 1\n",
    "            if r - l + 1 == 10:\n",
    "                if cnt[num] == 1:\n",
    "                    ans.append(s[l:r + 1])\n",
    "                cnt[num] += 1\n",
    "        return ans\n",
    "\n",
    "\n",
    "s = Solution()\n",
    "s.findRepeatedDnaSequences('AAAAACCCCCAAAAACCCCCCAAAAAGGGTTT')"
   ]
  },
  {
   "cell_type": "code",
   "execution_count": 8,
   "metadata": {},
   "outputs": [
    {
     "data": {
      "text/plain": [
       "['AAAAACCCCC', 'CCCCCAAAAA']"
      ]
     },
     "execution_count": 8,
     "metadata": {},
     "output_type": "execute_result"
    }
   ],
   "source": [
    "class NumOp:\n",
    "    def __init__(self, R):\n",
    "        self.num = 0\n",
    "        self.R = R  # 进制\n",
    "        self.L = 0  # 此时的位数\n",
    "\n",
    "    def add(self, appendVal):  # 结尾追加appendVal\n",
    "        self.num = self.R * self.num + appendVal\n",
    "        self.L += 1\n",
    "\n",
    "    def delete(self, deleteVal):  # 删除最高位\n",
    "        self.num -= deleteVal * (self.R**(self.L - 1))\n",
    "        self.L -= 1\n",
    "\n",
    "\n",
    "# https://mp.weixin.qq.com/s/HiEft8sW5QzHcM5mb5_V6g\n",
    "from typing import List\n",
    "from collections import defaultdict\n",
    "\n",
    "\n",
    "class Solution:\n",
    "    def findRepeatedDnaSequences(self, s: str) -> List[str]:\n",
    "        ha = {'A': 0, 'C': 1, 'G': 2, 'T': 3}\n",
    "        cnt = defaultdict(int)\n",
    "        l = 0\n",
    "        ans = []\n",
    "        number = NumOp(4)\n",
    "        for r in range(len(s)):\n",
    "            number.add(ha[s[r]])\n",
    "            if r - l + 1 > 10:\n",
    "                number.delete(ha[s[l]])\n",
    "                l += 1\n",
    "            if r - l + 1 == 10:\n",
    "                if cnt[number.num] == 1:\n",
    "                    ans.append(s[l:r + 1])\n",
    "                cnt[number.num] += 1\n",
    "        return ans\n",
    "\n",
    "\n",
    "s = Solution()\n",
    "s.findRepeatedDnaSequences('AAAAACCCCCAAAAACCCCCCAAAAAGGGTTT')"
   ]
  },
  {
   "cell_type": "code",
   "execution_count": null,
   "metadata": {},
   "outputs": [],
   "source": [
    "from typing import List\n",
    "from collections import defaultdict\n",
    "\n",
    "\n",
    "class Solution:\n",
    "    def findRepeatedDnaSequences(self, s: str) -> List[str]:\n",
    "        cnt = defaultdict(int)\n",
    "        l = 0\n",
    "        ans = []\n",
    "        for r in range(len(s)):\n",
    "            while r - l + 1 > 10:\n",
    "                l += 1\n",
    "            if r - l + 1 == 10:\n",
    "                tmp = s[l:r + 1]\n",
    "                if cnt[tmp] == 1:\n",
    "                    ans.append(tmp)\n",
    "                cnt[tmp] += 1\n",
    "        return ans"
   ]
  }
 ],
 "metadata": {
  "kernelspec": {
   "display_name": "Python 3.8.10 64-bit",
   "language": "python",
   "name": "python3"
  },
  "language_info": {
   "codemirror_mode": {
    "name": "ipython",
    "version": 3
   },
   "file_extension": ".py",
   "mimetype": "text/x-python",
   "name": "python",
   "nbconvert_exporter": "python",
   "pygments_lexer": "ipython3",
   "version": "3.8.10"
  },
  "orig_nbformat": 4,
  "vscode": {
   "interpreter": {
    "hash": "de72d97932d649c6d75aa79b73261cc3e8a1ae5e7cab8a9115f0bbb1518a7af2"
   }
  }
 },
 "nbformat": 4,
 "nbformat_minor": 2
}
