{
 "cells": [
  {
   "cell_type": "code",
   "execution_count": 3,
   "metadata": {},
   "outputs": [
    {
     "data": {
      "text/plain": [
       "'l'"
      ]
     },
     "execution_count": 3,
     "metadata": {},
     "output_type": "execute_result"
    }
   ],
   "source": [
    "class Solution:\n",
    "\n",
    "    def longestPrefix(self, s: str) -> str:\n",
    "\n",
    "        def encode(w):\n",
    "            return ord(w) - ord('a')\n",
    "\n",
    "        mod = 10**9 + 7\n",
    "        mul = 1\n",
    "        happy = -1\n",
    "        pre = suf = 0\n",
    "        lgh = len(s)\n",
    "        for i in range(lgh - 1):\n",
    "            pre = (pre * 26 + encode(s[i])) % mod\n",
    "            suf = (encode(s[-i - 1]) * mul + suf) % mod\n",
    "            mul = mul * 26 % mod\n",
    "            if pre == suf:\n",
    "                happy = i\n",
    "        return s[:happy + 1]\n",
    "\n",
    "\n",
    "s = Solution()\n",
    "s.longestPrefix('level')"
   ]
  },
  {
   "cell_type": "code",
   "execution_count": null,
   "metadata": {},
   "outputs": [],
   "source": []
  }
 ],
 "metadata": {
  "kernelspec": {
   "display_name": "Python 3.10.6 64-bit",
   "language": "python",
   "name": "python3"
  },
  "language_info": {
   "codemirror_mode": {
    "name": "ipython",
    "version": 3
   },
   "file_extension": ".py",
   "mimetype": "text/x-python",
   "name": "python",
   "nbconvert_exporter": "python",
   "pygments_lexer": "ipython3",
   "version": "3.10.6"
  },
  "orig_nbformat": 4,
  "vscode": {
   "interpreter": {
    "hash": "dfbf064e0f2c8839bc658dd75dfc0b8f09a0440078cae3024109b27659b69d06"
   }
  }
 },
 "nbformat": 4,
 "nbformat_minor": 2
}
