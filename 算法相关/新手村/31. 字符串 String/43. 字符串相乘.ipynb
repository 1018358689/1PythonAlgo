{
 "cells": [
  {
   "cell_type": "code",
   "execution_count": 17,
   "metadata": {},
   "outputs": [
    {
     "name": "stdout",
     "output_type": "stream",
     "text": [
      "0 6 6\n",
      "1 2 26\n",
      "0 7 726\n"
     ]
    },
    {
     "data": {
      "text/plain": [
       "726"
      ]
     },
     "execution_count": 17,
     "metadata": {},
     "output_type": "execute_result"
    }
   ],
   "source": [
    "def product(n1, n2):\n",
    "    n2 = ord(n2) - ord('0')\n",
    "    sig = 0\n",
    "    ans = 0\n",
    "    for i in range(len(n1) - 1, -1, -1):\n",
    "        sig, rem = divmod((ord(n1[i]) - ord('0')) * n2 + sig, 10)\n",
    "        ans = rem * (10**(len(n1) - i - 1)) + ans\n",
    "        print(sig, rem, ans)\n",
    "    ans = sig * (10**len(n1)) + ans if sig else ans\n",
    "    return ans\n",
    "\n",
    "\n",
    "product('242', '3')\n"
   ]
  },
  {
   "cell_type": "code",
   "execution_count": 19,
   "metadata": {},
   "outputs": [
    {
     "data": {
      "text/plain": [
       "56088"
      ]
     },
     "execution_count": 19,
     "metadata": {},
     "output_type": "execute_result"
    }
   ],
   "source": [
    "class Solution:\n",
    "\n",
    "    def multiply(self, num1: str, num2: str) -> str:\n",
    "\n",
    "        def product(n1, n2):\n",
    "            n2 = ord(n2) - ord('0')\n",
    "            sig = 0\n",
    "            ans = 0\n",
    "            for i in range(len(n1) - 1, -1, -1):\n",
    "                sig, rem = divmod((ord(n1[i]) - ord('0')) * n2 + sig, 10)\n",
    "                ans = rem * (10**(len(n1) - i - 1)) + ans\n",
    "            ans = sig * (10**len(n1)) + ans if sig else ans\n",
    "            return ans\n",
    "\n",
    "        if len(num1) > len(num2):\n",
    "            num1, num2 = num2, num1\n",
    "        ans = 0\n",
    "        for i in range(len(num2) - 1, -1, -1):\n",
    "            n2 = num2[i]\n",
    "            local = product(num1, n2)\n",
    "            ans = local * (10**(len(num2) - i - 1)) + ans\n",
    "        return str(ans)\n",
    "\n",
    "\n",
    "s = Solution()\n",
    "s.multiply('123', '456')\n"
   ]
  },
  {
   "cell_type": "code",
   "execution_count": null,
   "metadata": {},
   "outputs": [],
   "source": []
  }
 ],
 "metadata": {
  "kernelspec": {
   "display_name": "Python 3.10.1 64-bit",
   "language": "python",
   "name": "python3"
  },
  "language_info": {
   "codemirror_mode": {
    "name": "ipython",
    "version": 3
   },
   "file_extension": ".py",
   "mimetype": "text/x-python",
   "name": "python",
   "nbconvert_exporter": "python",
   "pygments_lexer": "ipython3",
   "version": "3.10.1"
  },
  "orig_nbformat": 4,
  "vscode": {
   "interpreter": {
    "hash": "aee8b7b246df8f9039afb4144a1f6fd8d2ca17a180786b69acc140d282b71a49"
   }
  }
 },
 "nbformat": 4,
 "nbformat_minor": 2
}
