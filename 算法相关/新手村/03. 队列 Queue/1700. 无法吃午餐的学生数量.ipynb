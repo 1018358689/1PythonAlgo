{
 "cells": [
  {
   "cell_type": "code",
   "execution_count": 1,
   "metadata": {},
   "outputs": [],
   "source": [
    "from typing import List\n",
    "from collections import deque\n",
    "\n",
    "\n",
    "class Solution:\n",
    "\n",
    "    def countStudents(self, students: List[int], sandwiches: List[int]) -> int:\n",
    "        q1, q2 = deque(students), deque(sandwiches)\n",
    "        while q1:\n",
    "            for _ in range(len(q1)):\n",
    "                if q1[0] == q2[0]:\n",
    "                    q1.popleft()\n",
    "                    q2.popleft()\n",
    "                    break\n",
    "                else:\n",
    "                    q1.append(q1.popleft())\n",
    "            else:\n",
    "                return len(q1)\n",
    "        return len(q1)\n"
   ]
  },
  {
   "cell_type": "code",
   "execution_count": 15,
   "metadata": {},
   "outputs": [
    {
     "data": {
      "text/plain": [
       "3"
      ]
     },
     "execution_count": 15,
     "metadata": {},
     "output_type": "execute_result"
    }
   ],
   "source": [
    "# 拿起三明治，喊，有人要么？只要有喜欢的，就给他。\n",
    "from typing import List\n",
    "from collections import Counter\n",
    "\n",
    "\n",
    "class Solution:\n",
    "\n",
    "    def countStudents(self, students: List[int], sandwiches: List[int]) -> int:\n",
    "        cnt = Counter(students)\n",
    "        for s in sandwiches:\n",
    "            if cnt[s] == 0:\n",
    "                break\n",
    "            cnt[s] -= 1\n",
    "        return sum(cnt.values())\n",
    "\n",
    "\n",
    "s = Solution()\n",
    "s.countStudents([1, 1, 0, 0], [0, 1, 0, 1])\n",
    "s.countStudents([1, 1, 1, 0, 0, 1], [1, 0, 0, 0, 1, 1])\n"
   ]
  },
  {
   "cell_type": "code",
   "execution_count": 19,
   "metadata": {},
   "outputs": [
    {
     "data": {
      "text/plain": [
       "0"
      ]
     },
     "execution_count": 19,
     "metadata": {},
     "output_type": "execute_result"
    }
   ],
   "source": [
    "# 拿起三明治，喊，有人要么？只要有喜欢的，就给他。\n",
    "from typing import List\n",
    "\n",
    "\n",
    "class Solution:\n",
    "\n",
    "    def countStudents(self, students: List[int], sandwiches: List[int]) -> int:\n",
    "        zero = one = 0\n",
    "        for s in students:\n",
    "            if s == 0:\n",
    "                zero += 1\n",
    "            else:\n",
    "                one += 1\n",
    "        for s in sandwiches:\n",
    "            if s == 0:\n",
    "                if zero == 0:\n",
    "                    break\n",
    "                zero -= 1\n",
    "            else:\n",
    "                if one == 0:\n",
    "                    break\n",
    "                one -= 1\n",
    "        return zero + one\n",
    "\n",
    "\n",
    "s = Solution()\n",
    "s.countStudents([1, 1, 0, 0], [0, 1, 0, 1])\n",
    "# s.countStudents([1, 1, 1, 0, 0, 1], [1, 0, 0, 0, 1, 1])\n"
   ]
  },
  {
   "cell_type": "code",
   "execution_count": null,
   "metadata": {},
   "outputs": [],
   "source": []
  }
 ],
 "metadata": {
  "kernelspec": {
   "display_name": "Python 3.10.6 64-bit",
   "language": "python",
   "name": "python3"
  },
  "language_info": {
   "codemirror_mode": {
    "name": "ipython",
    "version": 3
   },
   "file_extension": ".py",
   "mimetype": "text/x-python",
   "name": "python",
   "nbconvert_exporter": "python",
   "pygments_lexer": "ipython3",
   "version": "3.10.6"
  },
  "orig_nbformat": 4,
  "vscode": {
   "interpreter": {
    "hash": "dfbf064e0f2c8839bc658dd75dfc0b8f09a0440078cae3024109b27659b69d06"
   }
  }
 },
 "nbformat": 4,
 "nbformat_minor": 2
}
