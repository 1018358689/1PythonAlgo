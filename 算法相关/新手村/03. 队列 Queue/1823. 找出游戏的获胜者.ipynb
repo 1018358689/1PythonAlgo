{
 "cells": [
  {
   "cell_type": "code",
   "execution_count": 1,
   "metadata": {},
   "outputs": [],
   "source": [
    "from collections import deque\n",
    "\n",
    "\n",
    "class Solution:\n",
    "\n",
    "    def findTheWinner(self, n: int, k: int) -> int:\n",
    "        q = deque(range(1, n + 1))\n",
    "        while len(q) > 1:\n",
    "            for _ in range((k - 1) % len(q)):\n",
    "                q.append(q.popleft())\n",
    "            q.popleft()\n",
    "        return q[0]"
   ]
  },
  {
   "cell_type": "code",
   "execution_count": null,
   "metadata": {},
   "outputs": [],
   "source": [
    "# 约瑟夫环\n",
    "# https://blog.csdn.net/u011500062/article/details/72855826\n",
    "class Solution(object):\n",
    "\n",
    "    def findTheWinner(self, n, k):\n",
    "        pos = 0\n",
    "        for i in range(2, n + 1):\n",
    "            pos = (pos + k) % i\n",
    "        return pos + 1"
   ]
  }
 ],
 "metadata": {
  "kernelspec": {
   "display_name": "Python 3.10.6 64-bit",
   "language": "python",
   "name": "python3"
  },
  "language_info": {
   "codemirror_mode": {
    "name": "ipython",
    "version": 3
   },
   "file_extension": ".py",
   "mimetype": "text/x-python",
   "name": "python",
   "nbconvert_exporter": "python",
   "pygments_lexer": "ipython3",
   "version": "3.10.6"
  },
  "orig_nbformat": 4,
  "vscode": {
   "interpreter": {
    "hash": "dfbf064e0f2c8839bc658dd75dfc0b8f09a0440078cae3024109b27659b69d06"
   }
  }
 },
 "nbformat": 4,
 "nbformat_minor": 2
}
