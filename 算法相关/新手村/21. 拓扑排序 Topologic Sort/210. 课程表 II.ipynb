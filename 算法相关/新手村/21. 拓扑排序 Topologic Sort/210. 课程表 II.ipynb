{
 "cells": [
  {
   "cell_type": "code",
   "execution_count": 2,
   "metadata": {},
   "outputs": [
    {
     "data": {
      "text/plain": [
       "[0, 1, 2, 3]"
      ]
     },
     "execution_count": 2,
     "metadata": {},
     "output_type": "execute_result"
    }
   ],
   "source": [
    "import collections\n",
    "\n",
    "\n",
    "def f(numCourses: int, prerequisites: list):\n",
    "    adj = collections.defaultdict(set)\n",
    "    indegree = collections.defaultdict(int)\n",
    "    for nei, cur in prerequisites:\n",
    "        adj[cur].add(nei)\n",
    "        indegree[nei] += 1\n",
    "    q = collections.deque([])\n",
    "    for i in range(numCourses):\n",
    "        if indegree[i] == 0:\n",
    "            q.append(i)\n",
    "    ans = []\n",
    "    while q:\n",
    "        cur = q.popleft()\n",
    "        ans.append(cur)\n",
    "        for nei in adj[cur]:\n",
    "            indegree[nei] -= 1\n",
    "            if indegree[nei] == 0:\n",
    "                q.append(nei)\n",
    "    return ans if len(ans) == numCourses else []\n",
    "\n",
    "\n",
    "f(4, [[1, 0], [2, 0], [3, 1], [3, 2]])\n"
   ]
  },
  {
   "cell_type": "code",
   "execution_count": null,
   "metadata": {},
   "outputs": [],
   "source": []
  }
 ],
 "metadata": {
  "interpreter": {
   "hash": "aee8b7b246df8f9039afb4144a1f6fd8d2ca17a180786b69acc140d282b71a49"
  },
  "kernelspec": {
   "display_name": "Python 3.10.1 64-bit",
   "language": "python",
   "name": "python3"
  },
  "language_info": {
   "codemirror_mode": {
    "name": "ipython",
    "version": 3
   },
   "file_extension": ".py",
   "mimetype": "text/x-python",
   "name": "python",
   "nbconvert_exporter": "python",
   "pygments_lexer": "ipython3",
   "version": "3.10.1"
  },
  "orig_nbformat": 4
 },
 "nbformat": 4,
 "nbformat_minor": 2
}
