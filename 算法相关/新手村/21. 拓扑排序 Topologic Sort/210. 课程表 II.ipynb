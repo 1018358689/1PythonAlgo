{
 "cells": [
  {
   "cell_type": "code",
   "execution_count": 2,
   "metadata": {},
   "outputs": [
    {
     "data": {
      "text/plain": [
       "[0, 1, 2, 3]"
      ]
     },
     "execution_count": 2,
     "metadata": {},
     "output_type": "execute_result"
    }
   ],
   "source": [
    "class Solution:\n",
    "\n",
    "    def findOrder(self, numCourses: int, prerequisites: List[List[int]]) -> List[int]:\n",
    "        adj = [[] for _ in range(numCourses)]\n",
    "        ins = [0] * numCourses\n",
    "        for a, b in prerequisites:\n",
    "            adj[b].append(a)\n",
    "            ins[a] += 1\n",
    "        q = deque([i for i in range(numCourses) if ins[i] == 0])\n",
    "        ans = []\n",
    "        while q:\n",
    "            x = q.popleft()\n",
    "            ans.append(x)\n",
    "            for y in adj[x]:\n",
    "                ins[y] -= 1\n",
    "                if ins[y] == 0:\n",
    "                    q.append(y)\n",
    "        return ans if len(ans) == numCourses else []\n"
   ]
  },
  {
   "cell_type": "code",
   "execution_count": null,
   "metadata": {},
   "outputs": [],
   "source": [
    "class Solution:\n",
    "\n",
    "    def findOrder(self, n: int, prerequisites: List[List[int]]) -> List[int]:\n",
    "        adj = [[] for _ in range(n)]\n",
    "        for y, x in prerequisites:\n",
    "            adj[y].append(x)  # 前驱  因为出x才判断是否是安全节点 所以要 反过来\n",
    "        colors = [0] * n  # 0未访问 -1当前路径已访问 1安全节点（前面已经能走到底且无环） 后序回溯更新\n",
    "\n",
    "        def dfs(x):\n",
    "            if colors[x] == 1: return False  # 无环\n",
    "            if colors[x] == -1: return True  # 有环\n",
    "            colors[x] = -1\n",
    "            for y in adj[x]:\n",
    "                if dfs(y):\n",
    "                    return True\n",
    "            colors[x] = 1\n",
    "            res.append(x)\n",
    "            return False\n",
    "\n",
    "        res = []\n",
    "        for x in range(n):\n",
    "            if dfs(x):\n",
    "                return []\n",
    "        return res"
   ]
  }
 ],
 "metadata": {
  "interpreter": {
   "hash": "aee8b7b246df8f9039afb4144a1f6fd8d2ca17a180786b69acc140d282b71a49"
  },
  "kernelspec": {
   "display_name": "Python 3.10.1 64-bit",
   "language": "python",
   "name": "python3"
  },
  "language_info": {
   "codemirror_mode": {
    "name": "ipython",
    "version": 3
   },
   "file_extension": ".py",
   "mimetype": "text/x-python",
   "name": "python",
   "nbconvert_exporter": "python",
   "pygments_lexer": "ipython3",
   "version": "3.10.1"
  },
  "orig_nbformat": 4
 },
 "nbformat": 4,
 "nbformat_minor": 2
}
