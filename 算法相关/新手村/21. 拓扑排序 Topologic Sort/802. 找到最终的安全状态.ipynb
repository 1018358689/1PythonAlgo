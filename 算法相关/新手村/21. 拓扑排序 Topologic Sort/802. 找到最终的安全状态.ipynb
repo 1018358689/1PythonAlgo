{
 "cells": [
  {
   "cell_type": "code",
   "execution_count": null,
   "metadata": {},
   "outputs": [],
   "source": [
    "# 本题环形检测(入度出度需反转) 用拓扑排序 首先找入度为0的点 也就是安全结点\n",
    "from typing import List\n",
    "from collections import deque\n",
    "\n",
    "\n",
    "class Solution:\n",
    "    def eventualSafeNodes(self, graph: List[List[int]]) -> List[int]:\n",
    "        lgh = len(graph)\n",
    "        indegree = [0] * lgh\n",
    "        adj = [[] for _ in range(lgh)]\n",
    "        for i, nei in enumerate(graph):  # 方向需要反转\n",
    "            for start in nei:\n",
    "                adj[start].append(i)\n",
    "                indegree[i] += 1\n",
    "        q = deque([i for i in range(lgh) if indegree[i] == 0])\n",
    "        ans = []\n",
    "        while q:\n",
    "            cur = q.popleft()\n",
    "            ans.append(cur)\n",
    "            for nei in adj[cur]:\n",
    "                indegree[nei] -= 1\n",
    "                if indegree[nei] == 0:\n",
    "                    q.append(nei)\n",
    "        return sorted(ans)"
   ]
  }
 ],
 "metadata": {
  "kernelspec": {
   "display_name": "Python 3.8.10 64-bit",
   "language": "python",
   "name": "python3"
  },
  "language_info": {
   "name": "python",
   "version": "3.8.10"
  },
  "orig_nbformat": 4,
  "vscode": {
   "interpreter": {
    "hash": "570feb405e2e27c949193ac68f46852414290d515b0ba6e5d90d076ed2284471"
   }
  }
 },
 "nbformat": 4,
 "nbformat_minor": 2
}
