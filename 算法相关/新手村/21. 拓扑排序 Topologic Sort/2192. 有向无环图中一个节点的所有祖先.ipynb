{
 "cells": [
  {
   "cell_type": "code",
   "execution_count": null,
   "metadata": {},
   "outputs": [],
   "source": [
    "class Solution:\n",
    "    def getAncestors(self, n: int, edges: List[List[int]]) -> List[List[int]]:\n",
    "        ins = [0] * n\n",
    "        ans = [[] for _ in range(n)]\n",
    "        adj = defaultdict(list)\n",
    "        for x, y in edges:\n",
    "            adj[x].append(y)\n",
    "            ins[y] += 1\n",
    "        q = deque([x for x in range(n) if ins[x] == 0])\n",
    "        while q:\n",
    "            x = q.popleft()\n",
    "            ans[x] = sorted(set(ans[x]))\n",
    "            for y in adj[x]:\n",
    "                ins[y] -= 1\n",
    "                ans[y] += [x] +ans[x]\n",
    "                if ins[y] == 0:\n",
    "                    q.append(y)\n",
    "        return ans"
   ]
  },
  {
   "cell_type": "code",
   "execution_count": null,
   "metadata": {},
   "outputs": [],
   "source": [
    "class Solution:\n",
    "    def getAncestors(self, n: int, edges: List[List[int]]) -> List[List[int]]:\n",
    "        ins = [0] * n\n",
    "        ans = [set() for _ in range(n)]\n",
    "        adj = defaultdict(list)\n",
    "        for x, y in edges:\n",
    "            adj[x].append(y)\n",
    "            ins[y] += 1\n",
    "        q = deque([x for x in range(n) if ins[x] == 0])\n",
    "        while q:\n",
    "            x = q.popleft()\n",
    "            for y in adj[x]:\n",
    "                ins[y] -= 1\n",
    "                ans[y] |= {x} | ans[x]\n",
    "                if ins[y] == 0:\n",
    "                    q.append(y)\n",
    "        return [sorted(x) for x in ans]"
   ]
  }
 ],
 "metadata": {
  "language_info": {
   "name": "python"
  },
  "orig_nbformat": 4
 },
 "nbformat": 4,
 "nbformat_minor": 2
}
