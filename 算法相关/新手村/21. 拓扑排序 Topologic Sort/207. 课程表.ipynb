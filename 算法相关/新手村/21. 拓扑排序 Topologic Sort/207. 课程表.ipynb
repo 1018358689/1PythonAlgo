{
 "cells": [
  {
   "cell_type": "code",
   "execution_count": null,
   "metadata": {},
   "outputs": [],
   "source": [
    "# 成环检测\n",
    "import collections\n",
    "\n",
    "\n",
    "def f(numCourses: int, prerequisites: list):\n",
    "    indegree = [0] * numCourses\n",
    "    adj = [[] for _ in range(numCourses)]\n",
    "    for nei, cur in prerequisites:\n",
    "        adj[cur].append(nei)\n",
    "        indegree[nei] += 1\n",
    "    q = collections.deque([])\n",
    "    for i in range(numCourses):\n",
    "        if indegree[i] == 0:\n",
    "            q.append(i)\n",
    "    cnt = 0\n",
    "    while q:\n",
    "        cur = q.popleft()\n",
    "        cnt += 1\n",
    "        for nei in adj[cur]:\n",
    "            indegree[nei] -= 1\n",
    "            if indegree[nei] == 0:\n",
    "                q.append(nei)\n",
    "    return cnt == numCourses\n"
   ]
  }
 ],
 "metadata": {
  "language_info": {
   "name": "python"
  },
  "orig_nbformat": 4
 },
 "nbformat": 4,
 "nbformat_minor": 2
}
