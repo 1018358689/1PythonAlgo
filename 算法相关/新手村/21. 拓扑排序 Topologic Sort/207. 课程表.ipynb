{
 "cells": [
  {
   "cell_type": "code",
   "execution_count": null,
   "metadata": {},
   "outputs": [],
   "source": [
    "class Solution:\n",
    "\n",
    "    def canFinish(self, n: int, prerequisites: List[List[int]]) -> bool:\n",
    "        adj = [[] for _ in range(n)]\n",
    "        colors = [0] * n  # 0未访问 -1当前路径已访问 1安全节点（前面已经能走到底且无环） 后序回溯更新\n",
    "        for y, x in prerequisites:\n",
    "            adj[x].append(y)\n",
    "\n",
    "        def dfs(x):  # 是否有循环的环（不是环的样子）\n",
    "            # 1.入x 判断&打标记\n",
    "            if colors[x] == 1: return False\n",
    "            if colors[x] == -1: return True\n",
    "            colors[x] = -1\n",
    "            for y in adj[x]:\n",
    "                if dfs(y):\n",
    "                    return True\n",
    "            # 出x 且安全 则标记1\n",
    "            colors[x] = 1\n",
    "            return False\n",
    "\n",
    "        return all(not dfs(x) for x in range(n))"
   ]
  },
  {
   "cell_type": "code",
   "execution_count": null,
   "metadata": {},
   "outputs": [],
   "source": [
    "class Solution:\n",
    "\n",
    "    def canFinish(self, n: int, prerequisites: List[List[int]]) -> bool:\n",
    "        ins = [0] * n\n",
    "        adj = [[] for _ in range(n)]\n",
    "        for y, x in prerequisites:\n",
    "            adj[x].append(y)\n",
    "            ins[y] += 1\n",
    "        q = deque([x for x in range(n) if ins[x] == 0])\n",
    "        cnt = 0\n",
    "        while q:\n",
    "            x = q.popleft()\n",
    "            cnt += 1\n",
    "            for y in adj[x]:\n",
    "                ins[y] -= 1\n",
    "                if ins[y] == 0:\n",
    "                    q.append(y)\n",
    "        return cnt == n"
   ]
  }
 ],
 "metadata": {
  "language_info": {
   "name": "python"
  },
  "orig_nbformat": 4
 },
 "nbformat": 4,
 "nbformat_minor": 2
}
