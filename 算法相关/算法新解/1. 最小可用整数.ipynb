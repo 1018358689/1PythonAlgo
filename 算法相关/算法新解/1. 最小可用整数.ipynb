{
 "cells": [
  {
   "cell_type": "code",
   "execution_count": 1,
   "metadata": {},
   "outputs": [],
   "source": [
    "# 找出不在一个列表中出现的最小自然数\n",
    "# [6,0,3,2,1]  -> 4"
   ]
  },
  {
   "cell_type": "code",
   "execution_count": 2,
   "metadata": {},
   "outputs": [
    {
     "data": {
      "text/plain": [
       "4"
      ]
     },
     "execution_count": 2,
     "metadata": {},
     "output_type": "execute_result"
    }
   ],
   "source": [
    "def minFreeV1(nums: list):\n",
    "    ans = 0\n",
    "    nums = set(nums)\n",
    "    while True:\n",
    "        if ans not in nums:\n",
    "            return ans\n",
    "        ans += 1\n",
    "\n",
    "\n",
    "minFreeV1([6, 0, 3, 2, 1])\n"
   ]
  },
  {
   "cell_type": "markdown",
   "metadata": {},
   "source": [
    "![](2022-05-13-09-02-46.png)"
   ]
  },
  {
   "cell_type": "code",
   "execution_count": 9,
   "metadata": {},
   "outputs": [
    {
     "name": "stdout",
     "output_type": "stream",
     "text": [
      "4 4\n",
      "4 4\n"
     ]
    }
   ],
   "source": [
    "def minFreeV2_1(nums: list):\n",
    "    F = [0] * (len(nums))\n",
    "    for n in nums:\n",
    "        if n < len(nums):\n",
    "            F[n] = 1\n",
    "    for i in range(0, len(nums)):\n",
    "        if F[i] == 0:\n",
    "            return i\n",
    "    return len(nums)\n",
    "\n",
    "\n",
    "print(minFreeV2_1([6, 0, 3, 2, 1]), minFreeV2_1([0, 3, 2, 1]))\n",
    "\n",
    "\n",
    "def minFreeV2_2(nums: list):\n",
    "    F = [0] * (len(nums) + 1)\n",
    "    for n in nums:\n",
    "        if n < len(nums):\n",
    "            F[n] = 1\n",
    "    for i in range(0, len(nums) + 1):\n",
    "        if F[i] == 0:\n",
    "            return i\n",
    "\n",
    "\n",
    "print(minFreeV2_2([6, 0, 3, 2, 1]), minFreeV2_2([0, 3, 2, 1]))\n"
   ]
  },
  {
   "cell_type": "code",
   "execution_count": 18,
   "metadata": {},
   "outputs": [
    {
     "name": "stdout",
     "output_type": "stream",
     "text": [
      "4 4\n"
     ]
    }
   ],
   "source": [
    "class BitMap:\n",
    "\n",
    "    def __init__(self, size: int):\n",
    "        self.map = [0] * (self.getGroup(size - 1) + 1)\n",
    "\n",
    "    def getGroup(self, id: int):\n",
    "        return id >> 6\n",
    "\n",
    "    def getPos(self, id: int):\n",
    "        return id & ((1 << 6) - 1)\n",
    "\n",
    "    def setBit(self, id: int):\n",
    "        g, p = self.getGroup(id), self.getPos(id)\n",
    "        self.map[g] |= (1 << p)\n",
    "\n",
    "    def findBit(self, id: int):\n",
    "        g, p = self.getGroup(id), self.getPos(id)\n",
    "        return self.map[g] & (1 << p)\n",
    "\n",
    "\n",
    "def minFreeV3(nums: list):\n",
    "    bitmap = BitMap(len(nums))  # BitMap(10**6)\n",
    "    for n in nums:\n",
    "        if n < len(nums):\n",
    "            bitmap.setBit(n)\n",
    "    for i in range(0, len(nums) + 1):\n",
    "        if bitmap.findBit(i) == 0:\n",
    "            return i\n",
    "\n",
    "\n",
    "print(minFreeV3([6, 0, 3, 2, 1]), minFreeV3([0, 3, 2, 1]))\n"
   ]
  },
  {
   "cell_type": "markdown",
   "metadata": {},
   "source": [
    "![](2022-05-13-10-49-52.png)"
   ]
  },
  {
   "cell_type": "code",
   "execution_count": null,
   "metadata": {},
   "outputs": [],
   "source": [
    "def minFreeV4(nums: list):\n",
    "\n",
    "    def search(nums: list, si: int, ei: int):  # 前后包[si,ei] si ei作用是确定mid个nums比数量\n",
    "        print(nums, si, ei)\n",
    "        if not nums:\n",
    "            return si\n",
    "        mi = si + ei >> 1 # [si,mi]\n",
    "        nums1, nums2 = [], []\n",
    "        for n in nums:\n",
    "            if n <= mi:\n",
    "                nums1.append(n)\n",
    "            else:\n",
    "                nums2.append(n)\n",
    "        if len(nums1) == mi - si + 1: # 长度正好是[si,mi]范围长度 说明nums1满了 目标在nums2\n",
    "            return search(nums2, mi + 1, ei)\n",
    "        else:\n",
    "            return search(nums1, si, mi)\n",
    "\n",
    "    return search(nums, 0, len(nums) - 1)\n",
    "\n",
    "\n",
    "minFreeV4([6, 0, 3, 2, 1])\n",
    "# minFreeV4([0, 3, 2, 1])\n"
   ]
  },
  {
   "cell_type": "code",
   "execution_count": null,
   "metadata": {},
   "outputs": [],
   "source": []
  }
 ],
 "metadata": {
  "interpreter": {
   "hash": "97367d2de1780ea7c502b529f25888c1b53c0430a7611816b6c7cf19d8435228"
  },
  "kernelspec": {
   "display_name": "Python 3.10.4 64-bit (windows store)",
   "language": "python",
   "name": "python3"
  },
  "language_info": {
   "codemirror_mode": {
    "name": "ipython",
    "version": 3
   },
   "file_extension": ".py",
   "mimetype": "text/x-python",
   "name": "python",
   "nbconvert_exporter": "python",
   "pygments_lexer": "ipython3",
   "version": "3.10.4"
  },
  "orig_nbformat": 4
 },
 "nbformat": 4,
 "nbformat_minor": 2
}
