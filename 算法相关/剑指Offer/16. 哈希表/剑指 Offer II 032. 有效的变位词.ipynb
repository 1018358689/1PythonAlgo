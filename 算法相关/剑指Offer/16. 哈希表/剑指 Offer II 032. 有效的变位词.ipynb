{
 "cells": [
  {
   "cell_type": "code",
   "execution_count": 1,
   "metadata": {},
   "outputs": [],
   "source": [
    "class Solution:\n",
    "    def isAnagram(self, s: str, t: str) -> bool:\n",
    "        return sorted(s)==sorted(t) and s!=t"
   ]
  },
  {
   "cell_type": "code",
   "execution_count": null,
   "metadata": {},
   "outputs": [],
   "source": [
    "class Solution:\n",
    "\n",
    "    def isAnagram(self, s: str, t: str) -> bool:\n",
    "        if s == t or len(s) != len(t):\n",
    "            return False\n",
    "        countArr1 = [0] * 26\n",
    "        countArr2 = [0] * 26\n",
    "        for i in range(len(s)):\n",
    "            countArr1[ord(s[i]) - ord('a')] += 1\n",
    "            countArr2[ord(t[i]) - ord('a')] += 1\n",
    "        return countArr1 == countArr2\n"
   ]
  }
 ],
 "metadata": {
  "kernelspec": {
   "display_name": "Python 3.10.5 64-bit (windows store)",
   "language": "python",
   "name": "python3"
  },
  "language_info": {
   "codemirror_mode": {
    "name": "ipython",
    "version": 3
   },
   "file_extension": ".py",
   "mimetype": "text/x-python",
   "name": "python",
   "nbconvert_exporter": "python",
   "pygments_lexer": "ipython3",
   "version": "3.10.5"
  },
  "orig_nbformat": 4,
  "vscode": {
   "interpreter": {
    "hash": "97367d2de1780ea7c502b529f25888c1b53c0430a7611816b6c7cf19d8435228"
   }
  }
 },
 "nbformat": 4,
 "nbformat_minor": 2
}
