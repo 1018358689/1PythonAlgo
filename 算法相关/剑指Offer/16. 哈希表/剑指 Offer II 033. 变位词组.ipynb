{
 "cells": [
  {
   "cell_type": "code",
   "execution_count": 2,
   "metadata": {},
   "outputs": [
    {
     "data": {
      "text/plain": [
       "[['eat', 'tea', 'ate'], ['tan', 'nat'], ['bat']]"
      ]
     },
     "execution_count": 2,
     "metadata": {},
     "output_type": "execute_result"
    }
   ],
   "source": [
    "from typing import List\n",
    "from collections import defaultdict\n",
    "\n",
    "\n",
    "class Solution:\n",
    "\n",
    "    def groupAnagrams(self, strs: List[str]) -> List[List[str]]:\n",
    "\n",
    "        def count(s):\n",
    "            countArr = [0] * 26\n",
    "            for n in s:\n",
    "                countArr[ord(n) - ord('a')] += 1\n",
    "            return tuple(countArr)\n",
    "\n",
    "        ha = defaultdict(list)\n",
    "        for s in strs:\n",
    "            cnt = count(s)\n",
    "            ha[cnt].append(s)\n",
    "        return list(ha.values())\n",
    "\n",
    "\n",
    "s = Solution()\n",
    "s.groupAnagrams([\"eat\", \"tea\", \"tan\", \"ate\", \"nat\", \"bat\"])"
   ]
  },
  {
   "cell_type": "code",
   "execution_count": null,
   "metadata": {},
   "outputs": [],
   "source": []
  }
 ],
 "metadata": {
  "kernelspec": {
   "display_name": "Python 3.10.5 64-bit (windows store)",
   "language": "python",
   "name": "python3"
  },
  "language_info": {
   "codemirror_mode": {
    "name": "ipython",
    "version": 3
   },
   "file_extension": ".py",
   "mimetype": "text/x-python",
   "name": "python",
   "nbconvert_exporter": "python",
   "pygments_lexer": "ipython3",
   "version": "3.10.5"
  },
  "orig_nbformat": 4,
  "vscode": {
   "interpreter": {
    "hash": "97367d2de1780ea7c502b529f25888c1b53c0430a7611816b6c7cf19d8435228"
   }
  }
 },
 "nbformat": 4,
 "nbformat_minor": 2
}
