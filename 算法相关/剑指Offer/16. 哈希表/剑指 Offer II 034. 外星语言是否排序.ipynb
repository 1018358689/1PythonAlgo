{
 "cells": [
  {
   "cell_type": "code",
   "execution_count": 3,
   "metadata": {},
   "outputs": [
    {
     "data": {
      "text/plain": [
       "True"
      ]
     },
     "execution_count": 3,
     "metadata": {},
     "output_type": "execute_result"
    }
   ],
   "source": [
    "'abc'>'ab'"
   ]
  },
  {
   "cell_type": "code",
   "execution_count": 12,
   "metadata": {},
   "outputs": [
    {
     "data": {
      "text/plain": [
       "True"
      ]
     },
     "execution_count": 12,
     "metadata": {},
     "output_type": "execute_result"
    }
   ],
   "source": [
    "from typing import List\n",
    "\n",
    "\n",
    "class Solution:\n",
    "\n",
    "    def isAlienSorted(self, words: List[str], order: str) -> bool:\n",
    "        ha = {n: i for i, n in enumerate(order)}  # 字母-序号 序号越小越靠前\n",
    "        for i in range(len(words) - 1):  # 两两比较\n",
    "            w1, lgh1 = words[i], len(words[i])\n",
    "            w2, lgh2 = words[i + 1], len(words[i + 1])\n",
    "            for i in range(max(lgh1, lgh2)):\n",
    "                p1 = ha[w1[i]] if i < lgh1 else -1  # 空的序号最靠前\n",
    "                p2 = ha[w2[i]] if i < lgh2 else -1\n",
    "                if p1 < p2:  # 说明p1出现在前\n",
    "                    break\n",
    "                elif p1 > p2:  # p2出现在前直接False\n",
    "                    return False\n",
    "                # 相等则继续判断\n",
    "        return True\n",
    "\n",
    "\n",
    "s = Solution()\n",
    "s.isAlienSorted([\"apple\", \"app\"], \"abcdefghijklmnopqrstuvwxyz\")\n"
   ]
  },
  {
   "cell_type": "code",
   "execution_count": null,
   "metadata": {},
   "outputs": [],
   "source": []
  }
 ],
 "metadata": {
  "kernelspec": {
   "display_name": "Python 3.10.5 64-bit (windows store)",
   "language": "python",
   "name": "python3"
  },
  "language_info": {
   "codemirror_mode": {
    "name": "ipython",
    "version": 3
   },
   "file_extension": ".py",
   "mimetype": "text/x-python",
   "name": "python",
   "nbconvert_exporter": "python",
   "pygments_lexer": "ipython3",
   "version": "3.10.5"
  },
  "orig_nbformat": 4,
  "vscode": {
   "interpreter": {
    "hash": "97367d2de1780ea7c502b529f25888c1b53c0430a7611816b6c7cf19d8435228"
   }
  }
 },
 "nbformat": 4,
 "nbformat_minor": 2
}
