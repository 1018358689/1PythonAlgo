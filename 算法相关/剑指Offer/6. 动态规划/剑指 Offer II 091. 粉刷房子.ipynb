{
 "cells": [
  {
   "cell_type": "code",
   "execution_count": null,
   "metadata": {},
   "outputs": [],
   "source": [
    "from typing import List\n",
    "\n",
    "\n",
    "class Solution:\n",
    "\n",
    "    def minCost(self, costs: List[List[int]]) -> int:\n",
    "        # dp[i][0,1,2] i号房子刷成相应颜色的最少花费成本\n",
    "        # dp[0][0,1,2]\n",
    "        dp = [[0] * 3 for _ in range(len(costs))]\n",
    "        dp[0][0] = costs[0][0]\n",
    "        dp[0][1] = costs[0][1]\n",
    "        dp[0][2] = costs[0][2]\n",
    "        for i in range(1, len(costs)):\n",
    "            dp[i][0] = costs[i][0] + min(dp[i - 1][1], dp[i - 1][2])\n",
    "            dp[i][1] = costs[i][1] + min(dp[i - 1][0], dp[i - 1][2])\n",
    "            dp[i][2] = costs[i][2] + min(dp[i - 1][0], dp[i - 1][1])\n",
    "        return min(dp[-1])\n"
   ]
  }
 ],
 "metadata": {
  "language_info": {
   "name": "python"
  },
  "orig_nbformat": 4
 },
 "nbformat": 4,
 "nbformat_minor": 2
}
