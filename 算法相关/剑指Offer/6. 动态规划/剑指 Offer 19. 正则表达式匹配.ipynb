{
 "cells": [
  {
   "cell_type": "code",
   "execution_count": null,
   "metadata": {},
   "outputs": [],
   "source": [
    "from functools import lru_cache\n",
    "\n",
    "\n",
    "class Solution:\n",
    "    def isMatch(self, s: str, p: str) -> bool:\n",
    "        @lru_cache(None)\n",
    "        def dfs(i, j):  # s[:i] p[:j]能否正常匹配\n",
    "            # basecase\n",
    "            if i == 0 and j == 0:  # 两个都是空字符\n",
    "                return True\n",
    "            elif i == 0:  # 匹配串空 模式串非空\n",
    "                if p[j - 1] == '*' and j >= 2:  # 利用*使p[j-2]出现次数0\n",
    "                    return dfs(0, j - 2)\n",
    "                else:\n",
    "                    return False\n",
    "            elif j == 0:  # 空模式串\n",
    "                return False\n",
    "            # dp\n",
    "            if s[i - 1] == p[j - 1] or p[j - 1] == '.':  # s[-1]与p[-1]相等或p[-1]为. 则状态转移到dfs(i - 1, j - 1)\n",
    "                return dfs(i - 1, j - 1)\n",
    "            elif p[j - 1] != '*':  # s[-1]与p[-1]不等且p[-1]不为.也不为* 则直接False\n",
    "                return False\n",
    "            else:  # s[-1]与p[-1]不等且p[-1]为* 则要考虑 p[-2]和s[-1]关系 p[-2]代表他重复出现多次\n",
    "                if j == 1:  # 题目要求不可能出现\n",
    "                    pass\n",
    "                elif p[j - 2] == s[i - 1] or p[j - 2] == '.':  # p[-2]和s[-1]相等 则考虑使用1次* 或0次* 前面可能有*\n",
    "                    return dfs(i - 1, j) or dfs(i, j - 2)\n",
    "                else:  # p[-2]和s[-1]不等 则使用1次* 是匹配s[-1]\n",
    "                    return dfs(i, j - 2)\n",
    "\n",
    "        return dfs(len(s), len(p))\n",
    "\n",
    "\n",
    "s = Solution()\n",
    "# s.isMatch('aa', 'a*')\n",
    "# s.isMatch('ab', '.*')\n",
    "# s.isMatch('aaa','aaaa')\n",
    "# s.isMatch(\"aaa\", \"ab*a*c*a\")\n",
    "s.isMatch(\"aasdfasdfasdfasdfas\", \"aasdf.*asdf.*asdf.*asdf.*s\")\n"
   ]
  },
  {
   "cell_type": "code",
   "execution_count": 15,
   "metadata": {},
   "outputs": [
    {
     "data": {
      "text/plain": [
       "False"
      ]
     },
     "execution_count": 15,
     "metadata": {},
     "output_type": "execute_result"
    }
   ],
   "source": [
    "from functools import lru_cache\n",
    "\n",
    "\n",
    "class Solution:\n",
    "    def isMatch(self, s: str, p: str) -> bool:\n",
    "        @lru_cache(None)\n",
    "        def dfs(i, j):  # s[:i] p[:j]能否正常匹配\n",
    "            # basecase\n",
    "            if i == 0 and j == 0:  # 两个都是空字符\n",
    "                return True\n",
    "            elif i == 0:  # 匹配串空 模式串非空\n",
    "                if p[j - 1] == '*' and j >= 2:  # 利用*使p[j-2]出现次数0\n",
    "                    return dfs(0, j - 2)\n",
    "                else:\n",
    "                    return False\n",
    "            elif j == 0:  # 空模式串\n",
    "                return False\n",
    "            # dp\n",
    "            if p[j - 1] != '*':  # 最后一个不是* 那么最后一个字符相同或为. 转移状态到(i-1,j-1)\n",
    "                if p[j - 1] == s[i - 1] or p[j - 1] == '.':\n",
    "                    return dfs(i - 1, j - 1)\n",
    "            elif p[j - 1] == '*':  # 最后一个是* 分为利用*使p[j-2]出现次数0 或利用*使p[j-2]出现次数>=1\n",
    "                if p[j - 2] == s[i - 1] or p[j - 2] == '.':\n",
    "                    return dfs(i, j - 2) or dfs(i - 1, j)  # 可以出现0也可以>=1\n",
    "                else:\n",
    "                    return dfs(i, j - 2)  # 只能出现次数0\n",
    "            return False\n",
    "\n",
    "        return dfs(len(s), len(p))\n",
    "\n",
    "\n",
    "s = Solution()\n",
    "# s.isMatch('aa', 'a*')\n",
    "# s.isMatch('ab', '.*')\n",
    "# s.isMatch('aaa','aaaa')\n",
    "# s.isMatch(\"aaa\", \"ab*a*c*a\")\n",
    "s.isMatch(\"aasdfasdfasdfasdfas\", \"aasdf.*asdf.*asdf.*asdf.*s\")\n"
   ]
  },
  {
   "cell_type": "code",
   "execution_count": null,
   "metadata": {},
   "outputs": [],
   "source": []
  }
 ],
 "metadata": {
  "kernelspec": {
   "display_name": "Python 3.8.10 64-bit",
   "language": "python",
   "name": "python3"
  },
  "language_info": {
   "codemirror_mode": {
    "name": "ipython",
    "version": 3
   },
   "file_extension": ".py",
   "mimetype": "text/x-python",
   "name": "python",
   "nbconvert_exporter": "python",
   "pygments_lexer": "ipython3",
   "version": "3.8.10"
  },
  "orig_nbformat": 4,
  "vscode": {
   "interpreter": {
    "hash": "de72d97932d649c6d75aa79b73261cc3e8a1ae5e7cab8a9115f0bbb1518a7af2"
   }
  }
 },
 "nbformat": 4,
 "nbformat_minor": 2
}
