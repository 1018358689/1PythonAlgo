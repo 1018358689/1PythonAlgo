{
 "cells": [
  {
   "cell_type": "code",
   "execution_count": null,
   "metadata": {},
   "outputs": [],
   "source": [
    "from typing import List\n",
    "\n",
    "\n",
    "class Solution:\n",
    "\n",
    "    def maxProfit(self, prices: List[int]) -> int:\n",
    "        minPrice = float('-inf')\n",
    "        ans = 0\n",
    "        for n in prices:\n",
    "            ans = max(ans, n - minPrice)\n",
    "            minPrice = min(minPrice, n)\n",
    "        return ans"
   ]
  }
 ],
 "metadata": {
  "language_info": {
   "name": "python"
  },
  "orig_nbformat": 4
 },
 "nbformat": 4,
 "nbformat_minor": 2
}
