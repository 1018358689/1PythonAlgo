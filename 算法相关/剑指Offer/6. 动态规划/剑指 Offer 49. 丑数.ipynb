{
 "cells": [
  {
   "cell_type": "code",
   "execution_count": 1,
   "metadata": {},
   "outputs": [],
   "source": [
    "import heapq\n",
    "class Solution:\n",
    "    def nthUglyNumber(self, n: int) -> int:\n",
    "        # 1 2 4 6 8 10 12 14 16 18 20\n",
    "        # 1 3 6 9 12 15 18 21\n",
    "        # 1 5 10 15 20\n",
    "        pq = [1]\n",
    "        cnt = 0\n",
    "        ha = set()\n",
    "        while cnt<n:\n",
    "            ans = heapq.heappop(pq)\n",
    "            if ans in ha:\n",
    "                continue\n",
    "            ha.add(ans)\n",
    "            cnt+=1\n",
    "            heapq.heappush(pq,ans*2)\n",
    "            heapq.heappush(pq,ans*3)\n",
    "            heapq.heappush(pq,ans*5)\n",
    "        return ans"
   ]
  },
  {
   "cell_type": "markdown",
   "metadata": {},
   "source": [
    "其实就是三个指针，一开始都指向第一个位置，然后三个指针从第一个位置开始求最小值，然后最小值对应的指针往后移动，再求最小值，最小值的指针再往后移动，一直求出目标。"
   ]
  },
  {
   "cell_type": "code",
   "execution_count": null,
   "metadata": {},
   "outputs": [],
   "source": [
    "class Solution:\n",
    "\n",
    "    def nthUglyNumber(self, n: int) -> int:\n",
    "        # 1 2 4 6 8 10 12 14 16 18 20\n",
    "        # 1 3 6 9 12 15 18 21\n",
    "        # 1 5 10 15 20\n",
    "        ### 当前位置丑数 = 前面所有丑数分别 *2 *3 *5的最小值 (因为前面丑数肯定是2 3 5倍数 再乘2 3 5 还是2 3 5 倍数)\n",
    "        ### 优化计算找前面丑数*2 *3 *5的最小值 因此用3个指针i2 i3 i5分别表示丑数集合中还没乘过2,3,5 的丑数位置.\n",
    "        ### 乘了不是最小值没被选上也算没乘过\n",
    "        dp = [0] * (n + 1)\n",
    "        dp[1] = 1\n",
    "        i2 = i3 = i5 = 1 # 游走的三个指针 每个质因子现在该乘哪个丑数 分别表示丑数集合中还没乘过 2,3,5 的丑数位置。\n",
    "        for i in range(2, n + 1):\n",
    "            a, b, c = dp[i2] * 2, dp[i3] * 3, dp[i5] * 5\n",
    "            m = min(a, b, c)\n",
    "            dp[i] = m\n",
    "            if m == a:\n",
    "                i2 += 1\n",
    "            if m == b:\n",
    "                i3 += 1\n",
    "            if m == c:\n",
    "                i5 += 1\n",
    "        return dp[-1]"
   ]
  }
 ],
 "metadata": {
  "kernelspec": {
   "display_name": "Python 3.10.2 64-bit",
   "language": "python",
   "name": "python3"
  },
  "language_info": {
   "codemirror_mode": {
    "name": "ipython",
    "version": 3
   },
   "file_extension": ".py",
   "mimetype": "text/x-python",
   "name": "python",
   "nbconvert_exporter": "python",
   "pygments_lexer": "ipython3",
   "version": "3.10.2"
  },
  "orig_nbformat": 4,
  "vscode": {
   "interpreter": {
    "hash": "aee8b7b246df8f9039afb4144a1f6fd8d2ca17a180786b69acc140d282b71a49"
   }
  }
 },
 "nbformat": 4,
 "nbformat_minor": 2
}
