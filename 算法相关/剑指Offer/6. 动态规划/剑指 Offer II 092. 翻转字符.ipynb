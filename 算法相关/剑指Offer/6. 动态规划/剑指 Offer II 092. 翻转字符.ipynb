{
 "cells": [
  {
   "cell_type": "code",
   "execution_count": 4,
   "metadata": {},
   "outputs": [
    {
     "name": "stdout",
     "output_type": "stream",
     "text": [
      "[[0, 1], [0, 1], [1, 0], [2, 0], [2, 1]]\n"
     ]
    },
    {
     "data": {
      "text/plain": [
       "1"
      ]
     },
     "execution_count": 4,
     "metadata": {},
     "output_type": "execute_result"
    }
   ],
   "source": [
    "class Solution:\n",
    "    def minFlipsMonoIncr(self, s: str) -> int:\n",
    "        # dp[i][0/1] 翻转i索引为0或1的最小次数\n",
    "        # dp[i][0] = dp[i-1][0]+int(s[i]==0)\n",
    "        # dp[i][1] = min(dp[i-1][0],dp[i-1][1])+int(s[i]==1)\n",
    "        dp = [[0] * 2 for _ in range(len(s))]\n",
    "        dp[0][0] = int(s[0] != '0')\n",
    "        dp[0][1] = int(s[0] != '1')\n",
    "        for i in range(1, len(s)):\n",
    "            dp[i][0] = dp[i - 1][0] + int(s[i] != '0')\n",
    "            dp[i][1] = min(dp[i - 1][0], dp[i - 1][1]) + int(s[i] != '1')\n",
    "        return min(dp[-1])\n",
    "\n",
    "\n",
    "s = Solution()\n",
    "s.minFlipsMonoIncr('00110')"
   ]
  },
  {
   "cell_type": "code",
   "execution_count": null,
   "metadata": {},
   "outputs": [],
   "source": []
  }
 ],
 "metadata": {
  "kernelspec": {
   "display_name": "Python 3.8.10 64-bit",
   "language": "python",
   "name": "python3"
  },
  "language_info": {
   "codemirror_mode": {
    "name": "ipython",
    "version": 3
   },
   "file_extension": ".py",
   "mimetype": "text/x-python",
   "name": "python",
   "nbconvert_exporter": "python",
   "pygments_lexer": "ipython3",
   "version": "3.8.10"
  },
  "orig_nbformat": 4,
  "vscode": {
   "interpreter": {
    "hash": "570feb405e2e27c949193ac68f46852414290d515b0ba6e5d90d076ed2284471"
   }
  }
 },
 "nbformat": 4,
 "nbformat_minor": 2
}
