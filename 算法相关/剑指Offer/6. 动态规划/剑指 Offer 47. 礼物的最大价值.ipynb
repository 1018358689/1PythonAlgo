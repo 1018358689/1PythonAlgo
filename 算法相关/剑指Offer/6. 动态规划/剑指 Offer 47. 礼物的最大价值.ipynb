{
 "cells": [
  {
   "cell_type": "code",
   "execution_count": null,
   "metadata": {},
   "outputs": [],
   "source": [
    "from typing import List\n",
    "\n",
    "\n",
    "class Solution:\n",
    "\n",
    "    def maxValue(self, grid: List[List[int]]) -> int:\n",
    "        # dp[i][j] 在grid[i][j]可以累积拿到的价值\n",
    "        # dp[i][j] = max(dp[i-1][j]+grid[i][j],dp[i][j-1]+grid[i][j])\n",
    "        rows, cols = len(grid), len(grid[0])\n",
    "        dp = [[0] * cols for _ in range(rows)]\n",
    "        dp[0][0] = grid[0][0]\n",
    "        for c in range(1, cols):\n",
    "            dp[0][c] = dp[0][c - 1] + grid[0][c]\n",
    "        for r in range(1, rows):\n",
    "            dp[r][0] = dp[r - 1][0] + grid[r][0]\n",
    "        for r in range(1, rows):\n",
    "            for c in range(1, cols):\n",
    "                dp[r][c] = max(dp[r - 1][c] + grid[r][c], dp[r][c - 1] + grid[r][c])\n",
    "        return dp[-1][-1]"
   ]
  }
 ],
 "metadata": {
  "language_info": {
   "name": "python"
  },
  "orig_nbformat": 4
 },
 "nbformat": 4,
 "nbformat_minor": 2
}
