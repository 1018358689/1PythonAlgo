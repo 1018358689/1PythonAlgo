{
 "cells": [
  {
   "cell_type": "code",
   "execution_count": 13,
   "metadata": {},
   "outputs": [
    {
     "data": {
      "text/plain": [
       "[0.004629629629629629,\n",
       " 0.013888888888888888,\n",
       " 0.027777777777777776,\n",
       " 0.046296296296296294,\n",
       " 0.06944444444444445,\n",
       " 0.09722222222222224,\n",
       " 0.11574074074074074,\n",
       " 0.125,\n",
       " 0.125,\n",
       " 0.11574074074074074,\n",
       " 0.09722222222222222,\n",
       " 0.06944444444444445,\n",
       " 0.046296296296296294,\n",
       " 0.027777777777777776,\n",
       " 0.013888888888888888,\n",
       " 0.004629629629629629]"
      ]
     },
     "execution_count": 13,
     "metadata": {},
     "output_type": "execute_result"
    }
   ],
   "source": [
    "from typing import List\n",
    "\n",
    "\n",
    "class Solution:\n",
    "    def dicesProbability(self, n: int) -> List[float]:\n",
    "        # dp[i][j] i个骰子掷出j的概率\n",
    "        # dp[i][j] = dp[i-1][j-1]*1/6+dp[i-1][j-2]*1/6... i<=j<=6*i\n",
    "        dp = [[0] * (6 * n + 1) for _ in range(n + 1)]\n",
    "        for i in range(1, 7):\n",
    "            dp[1][i] = 1 / 6\n",
    "        for i in range(2, n + 1):\n",
    "            for j in range(i, 6 * i + 1):\n",
    "                for k in range(1, 7):\n",
    "                    if j>k:\n",
    "                        dp[i][j] += dp[i - 1][j - k] * 1 / 6\n",
    "        return dp[-1][n:]\n",
    "\n",
    "\n",
    "s = Solution()\n",
    "s.dicesProbability(3)"
   ]
  },
  {
   "cell_type": "code",
   "execution_count": null,
   "metadata": {},
   "outputs": [],
   "source": []
  }
 ],
 "metadata": {
  "kernelspec": {
   "display_name": "Python 3.8.10 64-bit",
   "language": "python",
   "name": "python3"
  },
  "language_info": {
   "codemirror_mode": {
    "name": "ipython",
    "version": 3
   },
   "file_extension": ".py",
   "mimetype": "text/x-python",
   "name": "python",
   "nbconvert_exporter": "python",
   "pygments_lexer": "ipython3",
   "version": "3.8.10"
  },
  "orig_nbformat": 4,
  "vscode": {
   "interpreter": {
    "hash": "de72d97932d649c6d75aa79b73261cc3e8a1ae5e7cab8a9115f0bbb1518a7af2"
   }
  }
 },
 "nbformat": 4,
 "nbformat_minor": 2
}
