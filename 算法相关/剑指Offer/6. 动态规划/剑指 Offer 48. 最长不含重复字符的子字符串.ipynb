{
 "cells": [
  {
   "cell_type": "code",
   "execution_count": null,
   "metadata": {},
   "outputs": [],
   "source": [
    "class Solution:\n",
    "\n",
    "    def lengthOfLongestSubstring(self, s: str) -> int:\n",
    "        ans = 0\n",
    "        l = 0\n",
    "        ha = set()\n",
    "        for r in range(len(s)):\n",
    "            while s[r] in ha:\n",
    "                ha.remove(s[l])\n",
    "                l += 1\n",
    "            ans = max(ans, r - l + 1)\n",
    "            ha.add(s[r])\n",
    "        return ans"
   ]
  },
  {
   "cell_type": "code",
   "execution_count": 1,
   "metadata": {},
   "outputs": [],
   "source": [
    "class Solution:\n",
    "\n",
    "    def lengthOfLongestSubstring(self, s: str) -> int:\n",
    "        # dp[i]以s[i]结尾的不含重复字符的字串长度\n",
    "        # dp[i]= if j:=ha.get(s[i])<0:dp[i-1]+1\n",
    "        # if i-j>dp[i-1]+1:dp[i-1]+1\n",
    "        # i-j<=dp[i-1]:i-j\n",
    "        if not s: return 0\n",
    "        dp = [1] * len(s)\n",
    "        ha = {s[0]: 0}\n",
    "        for i in range(1, len(s)):\n",
    "            if (j := ha.get(s[i])) is None:\n",
    "                dp[i] = dp[i - 1] + 1\n",
    "            elif i - j > dp[i - 1] + 1:\n",
    "                dp[i] = dp[i - 1] + 1\n",
    "            else:\n",
    "                dp[i] = i - j\n",
    "            ha[s[i]] = i\n",
    "        return max(dp)"
   ]
  }
 ],
 "metadata": {
  "interpreter": {
   "hash": "aee8b7b246df8f9039afb4144a1f6fd8d2ca17a180786b69acc140d282b71a49"
  },
  "kernelspec": {
   "display_name": "Python 3.10.2 64-bit",
   "language": "python",
   "name": "python3"
  },
  "language_info": {
   "codemirror_mode": {
    "name": "ipython",
    "version": 3
   },
   "file_extension": ".py",
   "mimetype": "text/x-python",
   "name": "python",
   "nbconvert_exporter": "python",
   "pygments_lexer": "ipython3",
   "version": "3.10.2"
  },
  "orig_nbformat": 4
 },
 "nbformat": 4,
 "nbformat_minor": 2
}
