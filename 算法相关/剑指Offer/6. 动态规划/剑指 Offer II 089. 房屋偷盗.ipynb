{
 "cells": [
  {
   "cell_type": "code",
   "execution_count": null,
   "metadata": {},
   "outputs": [],
   "source": [
    "from typing import List\n",
    "\n",
    "\n",
    "class Solution:\n",
    "    def rob(self, nums: List[int]) -> int:\n",
    "        # dp[i] nums[0..i]能偷最多的钱\n",
    "        # i:[0,lgh-1]\n",
    "        # dp[i]=max(dp[i-2]+nums[i],dp[i-1])\n",
    "        # basecase dp[0]=nums[0],dp[1]=max(nums[0],nums[1])\n",
    "        if len(nums) == 1:\n",
    "            return nums[0]\n",
    "        dp = [0] * len(nums)\n",
    "        dp[0] = nums[0]\n",
    "        dp[1] = max(nums[0], nums[1])\n",
    "        for i in range(2, len(nums)):\n",
    "            dp[i] = max(dp[i - 2] + nums[i], dp[i - 1])\n",
    "        return dp[-1]"
   ]
  }
 ],
 "metadata": {
  "kernelspec": {
   "display_name": "Python 3.8.10 64-bit",
   "language": "python",
   "name": "python3"
  },
  "language_info": {
   "name": "python",
   "version": "3.8.10"
  },
  "orig_nbformat": 4,
  "vscode": {
   "interpreter": {
    "hash": "570feb405e2e27c949193ac68f46852414290d515b0ba6e5d90d076ed2284471"
   }
  }
 },
 "nbformat": 4,
 "nbformat_minor": 2
}
