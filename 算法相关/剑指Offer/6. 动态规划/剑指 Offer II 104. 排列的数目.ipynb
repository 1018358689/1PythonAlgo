{
 "cells": [
  {
   "cell_type": "code",
   "execution_count": null,
   "metadata": {},
   "outputs": [],
   "source": [
    "# https://leetcode.cn/problems/combination-sum-iv/solution/gong-shui-san-xie-yu-wan-quan-bei-bao-we-x0kn/"
   ]
  },
  {
   "cell_type": "code",
   "execution_count": null,
   "metadata": {},
   "outputs": [],
   "source": [
    "from typing import List\n",
    "\n",
    "\n",
    "class Solution:\n",
    "    def combinationSum4(self, nums: List[int], target: int) -> int:\n",
    "        # dp[i][j] 组合长度为i 凑成j的方法数\n",
    "        # i:[0,target] j:[0,target]\n",
    "        # dp[i][j] = sum(dp[i-1][j-n] for n in nums if j>=n)\n",
    "        # dp[0][j]=0 dp[0][0]=1\n",
    "        dp = [[0] * (target + 1) for _ in range(target + 1)]\n",
    "        dp[0][0] = 1\n",
    "        ans = 0\n",
    "        for i in range(1, target + 1):\n",
    "            for j in range(target + 1):\n",
    "                dp[i][j] = sum(dp[i - 1][j - n] for n in nums if j >= n)\n",
    "            ans += dp[i][target]\n",
    "        return ans"
   ]
  }
 ],
 "metadata": {
  "kernelspec": {
   "display_name": "Python 3.8.10 64-bit",
   "language": "python",
   "name": "python3"
  },
  "language_info": {
   "name": "python",
   "version": "3.8.10"
  },
  "orig_nbformat": 4,
  "vscode": {
   "interpreter": {
    "hash": "570feb405e2e27c949193ac68f46852414290d515b0ba6e5d90d076ed2284471"
   }
  }
 },
 "nbformat": 4,
 "nbformat_minor": 2
}
