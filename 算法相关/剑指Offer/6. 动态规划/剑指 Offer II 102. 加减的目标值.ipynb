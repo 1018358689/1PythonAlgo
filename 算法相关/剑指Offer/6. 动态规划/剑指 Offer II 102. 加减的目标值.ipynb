{
 "cells": [
  {
   "cell_type": "code",
   "execution_count": 1,
   "metadata": {},
   "outputs": [],
   "source": [
    "from typing import List\n",
    "\n",
    "\n",
    "class Solution:\n",
    "    def findTargetSumWays(self, nums: List[int], target: int) -> int:\n",
    "        # nums[i]>=0\n",
    "        # 正-负=abs(t)>=0\n",
    "        # 正+负=s\n",
    "        # 正=(abs(t)+s)/2\n",
    "        total = abs(target) + sum(nums)\n",
    "        if abs(target) > sum(nums) or total % 2 == 1:\n",
    "            return 0\n",
    "        target = total // 2\n",
    "        # -> 01背包问题\n",
    "        # dp[i][j] nums[0:i] 和为j的方法数\n",
    "        # i[0,lgh] j:[0,target]\n",
    "        # dp[i][j] = dp[i-1][j] if nums[i-1]>j else dp[i-1][j]+dp[i-1][j-nums[i-1]]\n",
    "        # basecase dp[0][j]=0 dp[0][0]=1\n",
    "        lgh = len(nums)\n",
    "        dp = [[0] * (target + 1) for _ in range(lgh + 1)]\n",
    "        dp[0][0] = 1\n",
    "        for i in range(1, lgh + 1):\n",
    "            for j in range(target + 1):\n",
    "                dp[i][j] = dp[i - 1][j] if nums[i - 1] > j else dp[i - 1][j] + dp[i - 1][j - nums[i - 1]]\n",
    "        return dp[-1][-1]"
   ]
  },
  {
   "cell_type": "code",
   "execution_count": 5,
   "metadata": {},
   "outputs": [
    {
     "data": {
      "text/plain": [
       "5"
      ]
     },
     "execution_count": 5,
     "metadata": {},
     "output_type": "execute_result"
    }
   ],
   "source": [
    "from typing import List\n",
    "\n",
    "\n",
    "class Solution:\n",
    "    def findTargetSumWays(self, nums: List[int], target: int) -> int:\n",
    "        # dp[i][j] i个数目标和为j的方法数\n",
    "        # i[0,lgh] j:[-s,s]\n",
    "        # dp[i][j]= dp[i-1][j-nums[i-1]]+dp[i-1][j+nums[j-1]]\n",
    "        # dp[0][j]=0 dp[0][0]=1\n",
    "        lgh = len(nums)\n",
    "        s = sum(nums)\n",
    "        if s < target:\n",
    "            return 0\n",
    "        dp = [[0] * (2 * s + 1) for _ in range(lgh + 1)]\n",
    "        dp[0][0] = 1\n",
    "        for i in range(1, lgh + 1):\n",
    "            for j in range(-s, s + 1):\n",
    "                if -s <= j - nums[i - 1]:\n",
    "                    dp[i][j] += dp[i - 1][j - nums[i - 1]]\n",
    "                if j + nums[i - 1] <= s:\n",
    "                    dp[i][j] += dp[i - 1][j + nums[i - 1]]\n",
    "        return dp[lgh][target]\n",
    "\n",
    "\n",
    "s = Solution()\n",
    "s.findTargetSumWays([1, 1, 1, 1, 1], 3)\n"
   ]
  },
  {
   "cell_type": "code",
   "execution_count": null,
   "metadata": {},
   "outputs": [],
   "source": []
  }
 ],
 "metadata": {
  "kernelspec": {
   "display_name": "Python 3.8.10 64-bit",
   "language": "python",
   "name": "python3"
  },
  "language_info": {
   "codemirror_mode": {
    "name": "ipython",
    "version": 3
   },
   "file_extension": ".py",
   "mimetype": "text/x-python",
   "name": "python",
   "nbconvert_exporter": "python",
   "pygments_lexer": "ipython3",
   "version": "3.8.10"
  },
  "orig_nbformat": 4,
  "vscode": {
   "interpreter": {
    "hash": "570feb405e2e27c949193ac68f46852414290d515b0ba6e5d90d076ed2284471"
   }
  }
 },
 "nbformat": 4,
 "nbformat_minor": 2
}
