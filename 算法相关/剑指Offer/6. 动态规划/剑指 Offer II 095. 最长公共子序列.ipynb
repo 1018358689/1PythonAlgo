{
 "cells": [
  {
   "cell_type": "code",
   "execution_count": null,
   "metadata": {},
   "outputs": [],
   "source": [
    "class Solution:\n",
    "    def longestCommonSubsequence(self, s1: str, s2: str) -> int:\n",
    "        # 这个二维DP的思维要点在于，要假设永远将最新读入的两个字符尝试放入公共子序列。\n",
    "        # dp[i][j] s1[0:i] s2[0:j]的最长公共子序列长度\n",
    "        # i:[0,lgh1] j:[0,lgh2]\n",
    "        # dp[i][j] = dp[i-1][j-1]+1 if s1[i-1]==s2[j-1] else max(dp[i-1][j],dp[i][j-1])+1\n",
    "        # basecase dp[0][...]=0 dp[...][0]=0\n",
    "        lgh1, lgh2 = len(s1), len(s2)\n",
    "        dp = [[0] * (lgh2 + 1) for _ in range(lgh1 + 1)]\n",
    "        for i in range(1, lgh1 + 1):\n",
    "            for j in range(1, lgh2 + 1):\n",
    "                dp[i][j] = dp[i - 1][j - 1] + 1 if s1[i - 1] == s2[j - 1] else max(dp[i - 1][j], dp[i][j - 1])\n",
    "        return dp[-1][-1]"
   ]
  }
 ],
 "metadata": {
  "language_info": {
   "name": "python"
  },
  "orig_nbformat": 4
 },
 "nbformat": 4,
 "nbformat_minor": 2
}
