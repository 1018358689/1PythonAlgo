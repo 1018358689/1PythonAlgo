{
 "cells": [
  {
   "cell_type": "code",
   "execution_count": null,
   "metadata": {},
   "outputs": [],
   "source": [
    "# 01背包\n",
    "from typing import List\n",
    "\n",
    "\n",
    "class Solution:\n",
    "    def canPartition(self, nums: List[int]) -> bool:\n",
    "        total = sum(nums)\n",
    "        if total % 2 == 1:\n",
    "            return False\n",
    "        target = total // 2\n",
    "        lgh = len(nums)\n",
    "        # dp[i][j] nums[0:i]是否可以凑出j\n",
    "        # i:[0,lgh] j:[0,target]\n",
    "        # dp[i][j] = dp[i-1][j] if nums[i-1]>j else dp[i-1][j] or dp[i-1][j-nums[i-1]]\n",
    "        # basecase dp[0][j]=False dp[i][0]=True\n",
    "        dp = [[False] * (target + 1) for _ in range(lgh + 1)]\n",
    "        for i in range(lgh + 1):\n",
    "            dp[i][0] = True\n",
    "        for i in range(1, lgh + 1):\n",
    "            for j in range(1, target + 1):\n",
    "                dp[i][j] = dp[i - 1][j] if nums[i - 1] > j else dp[i - 1][j] or dp[i - 1][j - nums[i - 1]]\n",
    "            if dp[i][-1]:\n",
    "                return True\n",
    "        return False  # return dp[-1][-1]\n"
   ]
  }
 ],
 "metadata": {
  "kernelspec": {
   "display_name": "Python 3.8.10 64-bit",
   "language": "python",
   "name": "python3"
  },
  "language_info": {
   "name": "python",
   "version": "3.8.10"
  },
  "orig_nbformat": 4,
  "vscode": {
   "interpreter": {
    "hash": "570feb405e2e27c949193ac68f46852414290d515b0ba6e5d90d076ed2284471"
   }
  }
 },
 "nbformat": 4,
 "nbformat_minor": 2
}
