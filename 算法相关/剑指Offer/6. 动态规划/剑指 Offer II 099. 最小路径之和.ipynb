{
 "cells": [
  {
   "cell_type": "code",
   "execution_count": null,
   "metadata": {},
   "outputs": [],
   "source": [
    "from typing import List\n",
    "\n",
    "\n",
    "class Solution:\n",
    "    def minPathSum(self, grid: List[List[int]]) -> int:\n",
    "        rows, cols = len(grid), len(grid[0])\n",
    "        # dp[i][j] 到[i,j]的最小路径和\n",
    "        # i[0,rows] j[0,cols]\n",
    "        # dp[i][j] = min(dp[i-1][j],dp[i][j-1])+grid[i][j]\n",
    "        # basecase dp[-1][j] dp[i][-1]=floast('inf') dp[0][0]=grid[i][j]\n",
    "        dp = [[float('inf')] * cols for _ in range(rows)]\n",
    "        for i in range(rows):\n",
    "            for j in range(cols):\n",
    "                if (i, j) == (0, 0):\n",
    "                    dp[i][j] = grid[0][0]\n",
    "                else:\n",
    "                    dp[i][j] = min(dp[i - 1][j], dp[i][j - 1]) + grid[i][j]\n",
    "        return dp[-1][-1]"
   ]
  }
 ],
 "metadata": {
  "language_info": {
   "name": "python"
  },
  "orig_nbformat": 4
 },
 "nbformat": 4,
 "nbformat_minor": 2
}
