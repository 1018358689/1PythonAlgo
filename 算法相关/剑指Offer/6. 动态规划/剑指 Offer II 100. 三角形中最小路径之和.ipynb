{
 "cells": [
  {
   "cell_type": "code",
   "execution_count": 1,
   "metadata": {},
   "outputs": [
    {
     "data": {
      "text/plain": [
       "11"
      ]
     },
     "execution_count": 1,
     "metadata": {},
     "output_type": "execute_result"
    }
   ],
   "source": [
    "from typing import List\n",
    "from collections import defaultdict\n",
    "\n",
    "\n",
    "class Solution:\n",
    "    def minimumTotal(self, triangle: List[List[int]]) -> int:\n",
    "        # dp[i][j]移动到triangle[i][j]的最小路径和\n",
    "        # dp[i][j] = min(dp[i-1][j],dp[i-1][j-1])+triangle[i][j]\n",
    "        dp = defaultdict(lambda: defaultdict(lambda: float('inf')))\n",
    "        lgh = len(triangle)\n",
    "        dp[0][0] = triangle[0][0]\n",
    "        for i in range(1, lgh):\n",
    "            for j in range(i + 1):\n",
    "                dp[i][j] = min(dp[i - 1][j], dp[i - 1][j - 1]) + triangle[i][j]\n",
    "        return min(dp[lgh - 1].values())\n",
    "\n",
    "\n",
    "s = Solution()\n",
    "s.minimumTotal([[2], [3, 4], [6, 5, 7], [4, 1, 8, 3]])\n"
   ]
  },
  {
   "cell_type": "code",
   "execution_count": 3,
   "metadata": {},
   "outputs": [
    {
     "data": {
      "text/plain": [
       "11"
      ]
     },
     "execution_count": 3,
     "metadata": {},
     "output_type": "execute_result"
    }
   ],
   "source": [
    "from typing import List\n",
    "from collections import defaultdict\n",
    "\n",
    "\n",
    "class Solution:\n",
    "    def minimumTotal(self, triangle: List[List[int]]) -> int:\n",
    "        # dp[i][j]移动到triangle[i][j]的最小路径和\n",
    "        # dp[i][j] = min(dp[i-1][j],dp[i-1][j-1])+triangle[i][j]\n",
    "        lgh = len(triangle)\n",
    "        dp = [[0] * lgh for _ in range(lgh)]\n",
    "        dp[0][0] = triangle[0][0]\n",
    "        for i in range(1, lgh):\n",
    "            for j in range(i + 1):\n",
    "                if j == 0:\n",
    "                    dp[i][j] = dp[i - 1][j] + triangle[i][j]\n",
    "                elif j == i:\n",
    "                    dp[i][j] = dp[i - 1][j - 1] + triangle[i][j]\n",
    "                else:\n",
    "                    dp[i][j] = min(dp[i - 1][j], dp[i - 1][j - 1]) + triangle[i][j]\n",
    "        return min(dp[-1])\n",
    "\n",
    "\n",
    "s = Solution()\n",
    "s.minimumTotal([[2], [3, 4], [6, 5, 7], [4, 1, 8, 3]])\n"
   ]
  },
  {
   "cell_type": "code",
   "execution_count": null,
   "metadata": {},
   "outputs": [],
   "source": []
  }
 ],
 "metadata": {
  "kernelspec": {
   "display_name": "Python 3.8.10 64-bit",
   "language": "python",
   "name": "python3"
  },
  "language_info": {
   "codemirror_mode": {
    "name": "ipython",
    "version": 3
   },
   "file_extension": ".py",
   "mimetype": "text/x-python",
   "name": "python",
   "nbconvert_exporter": "python",
   "pygments_lexer": "ipython3",
   "version": "3.8.10"
  },
  "orig_nbformat": 4,
  "vscode": {
   "interpreter": {
    "hash": "570feb405e2e27c949193ac68f46852414290d515b0ba6e5d90d076ed2284471"
   }
  }
 },
 "nbformat": 4,
 "nbformat_minor": 2
}
