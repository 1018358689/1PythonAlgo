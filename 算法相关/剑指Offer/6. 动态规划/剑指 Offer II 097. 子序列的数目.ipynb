{
 "cells": [
  {
   "cell_type": "code",
   "execution_count": 10,
   "metadata": {},
   "outputs": [
    {
     "name": "stdout",
     "output_type": "stream",
     "text": [
      "[[1, 0, 0, 0, 0, 0, 0], [1, 1, 0, 0, 0, 0, 0], [1, 0, 1, 0, 0, 0, 0], [1, 0, 0, 1, 0, 0, 0], [1, 0, 0, 0, 1, 0, 0], [1, 0, 0, 0, 0, 0, 0], [1, 0, 0, 0, 0, 0, 0], [1, 0, 0, 0, 0, 0, 0]]\n"
     ]
    },
    {
     "data": {
      "text/plain": [
       "0"
      ]
     },
     "execution_count": 10,
     "metadata": {},
     "output_type": "execute_result"
    }
   ],
   "source": [
    "class Solution:\n",
    "    def numDistinct(self, s: str, t: str) -> int:\n",
    "        # dp[i][j] s[0:i]子序列中t[0:j]出现个数\n",
    "        # i:[0,lgh1] j:[0,lgh2] i>=j -> j:[0,i]\n",
    "        # dp[i][j]=if s[i-1]==t[j-1]->dp[i-1][j-1]+dp[i-1][j] else->dp[i-1][j]\n",
    "        # basecase dp[0][j]=0 dp[i][0]=1 i<j->0\n",
    "        lgh1, lgh2 = len(s), len(t)\n",
    "        dp = [[0] * (lgh2 + 1) for _ in range(lgh1 + 1)]\n",
    "        for i in range(lgh1 + 1):\n",
    "            dp[i][0] = 1\n",
    "        for i in range(1, lgh1 + 1):\n",
    "            for j in range(1, lgh2 + 1):\n",
    "                if i < j:\n",
    "                    dp[i][j] = 0\n",
    "                else:\n",
    "                    dp[i][j] = dp[i - 1][j - 1] + dp[i - 1][j] if s[i - 1] == t[j - 1] else dp[i - 1][j]\n",
    "        # print(dp)\n",
    "        return dp[-1][-1]\n",
    "\n",
    "\n",
    "s = Solution()\n",
    "s.numDistinct('rabbbit', 'rabbit')\n"
   ]
  },
  {
   "cell_type": "code",
   "execution_count": 13,
   "metadata": {},
   "outputs": [
    {
     "data": {
      "text/plain": [
       "3"
      ]
     },
     "execution_count": 13,
     "metadata": {},
     "output_type": "execute_result"
    }
   ],
   "source": [
    "class Solution:\n",
    "    def numDistinct(self, s: str, t: str) -> int:\n",
    "        # dp[i][j] s[0:i]子序列中t[0:j]出现个数\n",
    "        # i:[0,lgh1] j:[0,lgh2] i>=j -> j:[0,i]\n",
    "        # dp[i][j]=if s[i-1]==t[j-1]->dp[i-1][j-1]+dp[i-1][j] else->dp[i-1][j]\n",
    "        # basecase dp[0][j]=0 dp[i][0]=1 i<j->0\n",
    "        lgh1, lgh2 = len(s), len(t)\n",
    "        dp = [[0] * (lgh2 + 1) for _ in range(lgh1 + 1)]\n",
    "        for i in range(lgh1 + 1):\n",
    "            dp[i][0] = 1\n",
    "        for i in range(1, lgh1 + 1):\n",
    "            for j in range(1, min(lgh2 + 1, i + 1)):\n",
    "                dp[i][j] = dp[i - 1][j - 1] + dp[i - 1][j] if s[i - 1] == t[j - 1] else dp[i - 1][j]\n",
    "        # print(dp)\n",
    "        return dp[-1][-1]\n",
    "\n",
    "\n",
    "s = Solution()\n",
    "s.numDistinct('rabbbit', 'rabbit')\n"
   ]
  },
  {
   "cell_type": "code",
   "execution_count": 15,
   "metadata": {},
   "outputs": [
    {
     "name": "stdout",
     "output_type": "stream",
     "text": [
      "defaultdict(<function Solution.numDistinct.<locals>.<lambda> at 0x0000000007F21D30>, {0: defaultdict(<function Solution.numDistinct.<locals>.<lambda>.<locals>.<lambda> at 0x0000000007F21A60>, {0: 1, 1: 0}), 1: defaultdict(<function Solution.numDistinct.<locals>.<lambda>.<locals>.<lambda> at 0x0000000007F21CA0>, {0: 1, 1: 1, 2: 0}), 2: defaultdict(<function Solution.numDistinct.<locals>.<lambda>.<locals>.<lambda> at 0x0000000007F21C10>, {0: 1, 1: 1, 2: 1, 3: 0}), 3: defaultdict(<function Solution.numDistinct.<locals>.<lambda>.<locals>.<lambda> at 0x0000000007F21DC0>, {0: 1, 1: 1, 2: 1, 3: 1, 4: 0}), 4: defaultdict(<function Solution.numDistinct.<locals>.<lambda>.<locals>.<lambda> at 0x0000000007F21AF0>, {0: 1, 1: 1, 2: 1, 3: 2, 4: 1, 5: 0}), 5: defaultdict(<function Solution.numDistinct.<locals>.<lambda>.<locals>.<lambda> at 0x0000000007F211F0>, {0: 1, 1: 1, 2: 1, 3: 3, 4: 3, 5: 0, 6: 0}), 6: defaultdict(<function Solution.numDistinct.<locals>.<lambda>.<locals>.<lambda> at 0x0000000007F21430>, {0: 1, 1: 1, 2: 1, 3: 3, 4: 3, 5: 3, 6: 0}), 7: defaultdict(<function Solution.numDistinct.<locals>.<lambda>.<locals>.<lambda> at 0x0000000007F21940>, {0: 1, 1: 1, 2: 1, 3: 3, 4: 3, 5: 3, 6: 3})})\n"
     ]
    },
    {
     "data": {
      "text/plain": [
       "3"
      ]
     },
     "execution_count": 15,
     "metadata": {},
     "output_type": "execute_result"
    }
   ],
   "source": [
    "from collections import defaultdict\n",
    "\n",
    "\n",
    "class Solution:\n",
    "    def numDistinct(self, s: str, t: str) -> int:\n",
    "        # dp[i][j] s[0:i]子序列中t[0:j]出现个数\n",
    "        # i:[0,lgh1] j:[0,lgh2] i>=j -> j:[0,i]\n",
    "        # dp[i][j]=if s[i-1]==t[j-1]->dp[i-1][j-1]+dp[i-1][j] else->dp[i-1][j]\n",
    "        # basecase dp[0][j]=0 dp[i][0]=1 i<j->0\n",
    "        lgh1, lgh2 = len(s), len(t)\n",
    "        dp = defaultdict(lambda: defaultdict(lambda: 0))\n",
    "        for i in range(lgh1 + 1):\n",
    "            dp[i][0] = 1\n",
    "        for i in range(1, lgh1 + 1):\n",
    "            for j in range(1, min(lgh2 + 1, i + 1)):\n",
    "                dp[i][j] = dp[i - 1][j - 1] + dp[i - 1][j] if s[i - 1] == t[j - 1] else dp[i - 1][j]\n",
    "        # print(dp)\n",
    "        return dp[lgh1][lgh2]\n",
    "\n",
    "\n",
    "s = Solution()\n",
    "s.numDistinct('rabbbit', 'rabbit')\n"
   ]
  },
  {
   "cell_type": "code",
   "execution_count": null,
   "metadata": {},
   "outputs": [],
   "source": []
  }
 ],
 "metadata": {
  "kernelspec": {
   "display_name": "Python 3.8.10 64-bit",
   "language": "python",
   "name": "python3"
  },
  "language_info": {
   "codemirror_mode": {
    "name": "ipython",
    "version": 3
   },
   "file_extension": ".py",
   "mimetype": "text/x-python",
   "name": "python",
   "nbconvert_exporter": "python",
   "pygments_lexer": "ipython3",
   "version": "3.8.10"
  },
  "orig_nbformat": 4,
  "vscode": {
   "interpreter": {
    "hash": "570feb405e2e27c949193ac68f46852414290d515b0ba6e5d90d076ed2284471"
   }
  }
 },
 "nbformat": 4,
 "nbformat_minor": 2
}
