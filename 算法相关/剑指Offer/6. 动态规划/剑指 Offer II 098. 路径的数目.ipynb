{
 "cells": [
  {
   "cell_type": "code",
   "execution_count": null,
   "metadata": {},
   "outputs": [],
   "source": [
    "class Solution:\n",
    "    def uniquePaths(self, m: int, n: int) -> int:\n",
    "        # dp[i][j] 移动到[i,j]的路径数\n",
    "        # i:[0,m-1] j:[0,n-1]\n",
    "        # dp[i][j]=dp[i-1][j]+dp[i][j-1]\n",
    "        # basecase dp[0][j]=1 dp[i][0]=1\n",
    "        dp = [[1] * n for _ in range(m)]\n",
    "        for i in range(1, m):\n",
    "            for j in range(1, n):\n",
    "                dp[i][j] = dp[i - 1][j] + dp[i][j - 1]\n",
    "        return dp[-1][-1]"
   ]
  }
 ],
 "metadata": {
  "language_info": {
   "name": "python"
  },
  "orig_nbformat": 4
 },
 "nbformat": 4,
 "nbformat_minor": 2
}
