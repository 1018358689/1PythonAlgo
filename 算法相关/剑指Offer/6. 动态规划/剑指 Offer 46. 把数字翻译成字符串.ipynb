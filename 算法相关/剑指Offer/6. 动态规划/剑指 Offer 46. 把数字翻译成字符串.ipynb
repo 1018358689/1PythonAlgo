{
 "cells": [
  {
   "cell_type": "code",
   "execution_count": null,
   "metadata": {},
   "outputs": [],
   "source": [
    "class Solution:\n",
    "\n",
    "    def translateNum(self, num: int) -> int:\n",
    "        # dp[i] 以num[i]结尾的翻译方法数\n",
    "        num = str(num)\n",
    "        if len(num) == 1:\n",
    "            return 1\n",
    "        dp = [1] * len(num)\n",
    "        dp[0] = 1\n",
    "        if '10' <= num[:2] <= '25':\n",
    "            dp[1] = 2\n",
    "        else:\n",
    "            dp[1] = 1\n",
    "        for i in range(2, len(num)):\n",
    "            if '10' <= num[i - 1:i + 1] <= '25':\n",
    "                dp[i] = dp[i - 2] + dp[i - 1]\n",
    "            else:\n",
    "                dp[i] = dp[i - 1]\n",
    "        return dp[-1]\n"
   ]
  },
  {
   "cell_type": "code",
   "execution_count": 1,
   "metadata": {},
   "outputs": [],
   "source": [
    "class Solution:\n",
    "\n",
    "    def translateNum(self, num: int) -> int:\n",
    "        # dp[i] 以num[i]结尾的翻译方法数\n",
    "        num = str(num)\n",
    "        if len(num) == 1:\n",
    "            return 1\n",
    "        dp = [1] * len(num)\n",
    "        dp[0] = 1\n",
    "        if num[0] == '1':\n",
    "            dp[1] = 2\n",
    "        elif num[0] == '2':\n",
    "            if num[1] >= '6':\n",
    "                dp[1] = 1\n",
    "            else:\n",
    "                dp[1] = 2\n",
    "        else:\n",
    "            dp[1] = 1\n",
    "        for i in range(2, len(num)):\n",
    "            if '10' <= num[i - 1:i + 1] <= '25':\n",
    "                dp[i] = dp[i - 2] + dp[i - 1]\n",
    "            else:\n",
    "                dp[i] = dp[i - 1]\n",
    "        return dp[-1]\n"
   ]
  }
 ],
 "metadata": {
  "interpreter": {
   "hash": "aee8b7b246df8f9039afb4144a1f6fd8d2ca17a180786b69acc140d282b71a49"
  },
  "kernelspec": {
   "display_name": "Python 3.10.2 64-bit",
   "language": "python",
   "name": "python3"
  },
  "language_info": {
   "codemirror_mode": {
    "name": "ipython",
    "version": 3
   },
   "file_extension": ".py",
   "mimetype": "text/x-python",
   "name": "python",
   "nbconvert_exporter": "python",
   "pygments_lexer": "ipython3",
   "version": "3.10.2"
  },
  "orig_nbformat": 4
 },
 "nbformat": 4,
 "nbformat_minor": 2
}
