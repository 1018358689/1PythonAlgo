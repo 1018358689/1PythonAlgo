{
 "cells": [
  {
   "cell_type": "code",
   "execution_count": 13,
   "metadata": {},
   "outputs": [
    {
     "name": "stdout",
     "output_type": "stream",
     "text": [
      "0 2 4 3\n",
      "0 3 5 3\n",
      "2 3 7 3\n",
      "1 5 6 3\n",
      "3 5 8 4\n",
      "1 6 8 4\n",
      "4 6 9 4\n",
      "3 7 9 4\n",
      "6 8 10 4\n",
      "4 9 10 4\n",
      "8 10 11 5\n"
     ]
    },
    {
     "data": {
      "text/plain": [
       "5"
      ]
     },
     "execution_count": 13,
     "metadata": {},
     "output_type": "execute_result"
    }
   ],
   "source": [
    "from typing import List\n",
    "from collections import defaultdict\n",
    "\n",
    "\n",
    "class Solution:\n",
    "    def lenLongestFibSubseq(self, arr: List[int]) -> int:\n",
    "        # dp[i][j] 以arr[i] arr[j]结尾的最长fib数列\n",
    "        # i:[1,lgh-2] j:[i+1,lgh-1]\n",
    "        # dp[i][j] = dp[k][i]+1 if arr[j]=arr[i]+arr[k] k<i\n",
    "        ha = {arr[0]: 0}\n",
    "        lgh = len(arr)\n",
    "        dp = defaultdict(lambda: defaultdict(lambda: 2))\n",
    "        ans = 0\n",
    "        for i in range(1, lgh - 1):\n",
    "            for j in range(i + 1, lgh):\n",
    "                k = ha.get(arr[j] - arr[i])\n",
    "                if k is not None:\n",
    "                    dp[i][j] = dp[k][i] + 1\n",
    "                    ans = max(ans, dp[i][j])\n",
    "            ha[arr[i]] = i # 后加可以保证k<i\n",
    "        return ans\n",
    "\n",
    "\n",
    "s = Solution()\n",
    "# s.lenLongestFibSubseq([1, 2, 3, 4, 5, 6, 7, 8])\n",
    "s.lenLongestFibSubseq([2, 4, 7, 8, 9, 10, 14, 15, 18, 23, 32, 50])\n"
   ]
  },
  {
   "cell_type": "code",
   "execution_count": 19,
   "metadata": {},
   "outputs": [
    {
     "name": "stdout",
     "output_type": "stream",
     "text": [
      "0 2 4 2 7 9 3\n",
      "0 3 5 2 8 10 3\n",
      "2 3 7 7 8 15 3\n",
      "1 5 6 4 10 14 3\n",
      "3 5 8 8 10 18 4\n",
      "1 6 8 4 14 18 4\n",
      "4 6 9 9 14 23 4\n",
      "3 7 9 8 15 23 4\n",
      "6 8 10 14 18 32 4\n",
      "4 9 10 9 23 32 4\n",
      "8 10 11 18 32 50 5\n"
     ]
    },
    {
     "data": {
      "text/plain": [
       "5"
      ]
     },
     "execution_count": 19,
     "metadata": {},
     "output_type": "execute_result"
    }
   ],
   "source": [
    "from typing import List\n",
    "from collections import defaultdict\n",
    "\n",
    "\n",
    "class Solution:\n",
    "    def search(self, nums, l, r, target):\n",
    "        while l <= r:\n",
    "            m = l + r >> 1\n",
    "            if nums[m] == target:\n",
    "                return m\n",
    "            elif nums[m] > target:\n",
    "                r = m - 1\n",
    "            else:\n",
    "                l = m + 1\n",
    "        return -1\n",
    "\n",
    "    def lenLongestFibSubseq(self, arr: List[int]) -> int:\n",
    "        # dp[i][j] 以arr[i] arr[j]结尾的最长fib数列\n",
    "        # i:[1,lgh-2] j:[i+1,lgh-1]\n",
    "        # dp[i][j] = dp[k][i]+1 if arr[j]=arr[i]+arr[k] k<i\n",
    "        lgh = len(arr)\n",
    "        dp = defaultdict(lambda: defaultdict(lambda: 2))\n",
    "        ans = 0\n",
    "        for i in range(1, lgh - 1):\n",
    "            for j in range(i + 1, lgh):\n",
    "                k = self.search(arr, 0, i - 1, arr[j] - arr[i])\n",
    "                if k != -1:\n",
    "                    dp[i][j] = dp[k][i] + 1\n",
    "                    ans = max(ans, dp[i][j])\n",
    "        return ans\n",
    "\n",
    "\n",
    "s = Solution()\n",
    "# s.lenLongestFibSubseq([1, 2, 3, 4, 5, 6, 7, 8])\n",
    "s.lenLongestFibSubseq([2, 4, 7, 8, 9, 10, 14, 15, 18, 23, 32, 50])\n"
   ]
  },
  {
   "cell_type": "code",
   "execution_count": 23,
   "metadata": {},
   "outputs": [
    {
     "ename": "StopIteration",
     "evalue": "",
     "output_type": "error",
     "traceback": [
      "\u001b[1;31m---------------------------------------------------------------------------\u001b[0m",
      "\u001b[1;31mStopIteration\u001b[0m                             Traceback (most recent call last)",
      "\u001b[1;32m~\\AppData\\Local\\Temp/ipykernel_4348/548283897.py\u001b[0m in \u001b[0;36m<module>\u001b[1;34m\u001b[0m\n\u001b[0;32m      5\u001b[0m \u001b[0mnext\u001b[0m\u001b[1;33m(\u001b[0m\u001b[0mx\u001b[0m\u001b[1;33m)\u001b[0m\u001b[1;33m\u001b[0m\u001b[1;33m\u001b[0m\u001b[0m\n\u001b[0;32m      6\u001b[0m \u001b[0mnext\u001b[0m\u001b[1;33m(\u001b[0m\u001b[0mx\u001b[0m\u001b[1;33m)\u001b[0m\u001b[1;33m\u001b[0m\u001b[1;33m\u001b[0m\u001b[0m\n\u001b[1;32m----> 7\u001b[1;33m \u001b[0mnext\u001b[0m\u001b[1;33m(\u001b[0m\u001b[0mx\u001b[0m\u001b[1;33m)\u001b[0m\u001b[1;33m\u001b[0m\u001b[1;33m\u001b[0m\u001b[0m\n\u001b[0m",
      "\u001b[1;31mStopIteration\u001b[0m: "
     ]
    }
   ],
   "source": [
    "def g():\n",
    "    yield from [1,2,3]\n",
    "x = g()\n",
    "next(x)\n",
    "next(x)\n",
    "next(x)\n"
   ]
  },
  {
   "cell_type": "code",
   "execution_count": null,
   "metadata": {},
   "outputs": [],
   "source": []
  }
 ],
 "metadata": {
  "kernelspec": {
   "display_name": "Python 3.8.10 64-bit",
   "language": "python",
   "name": "python3"
  },
  "language_info": {
   "codemirror_mode": {
    "name": "ipython",
    "version": 3
   },
   "file_extension": ".py",
   "mimetype": "text/x-python",
   "name": "python",
   "nbconvert_exporter": "python",
   "pygments_lexer": "ipython3",
   "version": "3.8.10"
  },
  "orig_nbformat": 4,
  "vscode": {
   "interpreter": {
    "hash": "570feb405e2e27c949193ac68f46852414290d515b0ba6e5d90d076ed2284471"
   }
  }
 },
 "nbformat": 4,
 "nbformat_minor": 2
}
