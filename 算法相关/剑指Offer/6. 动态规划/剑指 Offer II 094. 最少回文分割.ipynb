{
 "cells": [
  {
   "cell_type": "code",
   "execution_count": 2,
   "metadata": {},
   "outputs": [
    {
     "data": {
      "text/plain": [
       "1"
      ]
     },
     "execution_count": 2,
     "metadata": {},
     "output_type": "execute_result"
    }
   ],
   "source": [
    "class Solution:\n",
    "    def minCut(self, s: str) -> int:\n",
    "        # dp[i] s[0...i]的最少分割次数\n",
    "        # dp[i] = min(dp[i],dp[j]+1) s[j+1...i]也是回文串\n",
    "        # i:[1,lgh-1] j:[0,i-1]\n",
    "        lgh = len(s)\n",
    "        dp = [float('inf')] * lgh\n",
    "        dp[0] = 0\n",
    "        for i in range(1, lgh):\n",
    "            if s[:i + 1] == s[:i + 1][::-1]:  #本身就是回文则直接0\n",
    "                dp[i] = 0\n",
    "                continue  # 本身不是回文则去前面找 能和i构成回文的 进行状态转移\n",
    "            for j in range(i):\n",
    "                if s[j + 1:i + 1] == s[j + 1:i + 1][::-1]:\n",
    "                    dp[i] = min(dp[i], dp[j] + 1)\n",
    "        return dp[-1]\n",
    "\n",
    "\n",
    "s = Solution()\n",
    "s.minCut('aab')"
   ]
  },
  {
   "cell_type": "code",
   "execution_count": 10,
   "metadata": {},
   "outputs": [
    {
     "data": {
      "text/plain": [
       "0"
      ]
     },
     "execution_count": 10,
     "metadata": {},
     "output_type": "execute_result"
    }
   ],
   "source": [
    "from collections import defaultdict\n",
    "\n",
    "\n",
    "class Solution:\n",
    "    def minCut(self, s: str) -> int:\n",
    "        # sourcery skip: simplify-numeric-comparison\n",
    "        # dp[i][j] s[i...j]能否构成回文串\n",
    "        # i:[0,lgh-1] j:[i,lgh-1]\n",
    "        # dp[i][j] = i==j or (j-i+1==2 and s[i]==s[j]) or (j-i+1>2 and s[i]==s[j] and dp[i+1][j-1])\n",
    "        # basecase i==j->True [lgh-1][lgh-1]->True\n",
    "        lgh = len(s)\n",
    "        check = defaultdict(lambda: defaultdict(lambda: False))\n",
    "        # check = [[False] * len(s) for _ in range(len(s))]\n",
    "\n",
    "        for i in range(lgh - 1, -1, -1):\n",
    "            for j in range(i, lgh):\n",
    "                check[i][j] = (i == j) or (j - i + 1 == 2 and s[i] == s[j]) or (j - i + 1 > 2 and s[i] == s[j] and check[i + 1][j - 1])\n",
    "        # dp[i] s[0...i]的最少分割次数\n",
    "        # dp[i] = min(dp[i],dp[j]+1) s[j+1...i]也是回文串\n",
    "        # i:[1,lgh-1] j:[0,i-1]\n",
    "        dp = [float('inf')] * lgh\n",
    "        dp[0] = 0\n",
    "        for i in range(1, lgh):\n",
    "            if check[0][i]:  #本身就是回文则直接0\n",
    "                dp[i] = 0\n",
    "                continue  # 本身不是回文则去前面找 能和i构成回文的 进行状态转移\n",
    "            for j in range(i):\n",
    "                if check[j + 1][i]:\n",
    "                    dp[i] = min(dp[i], dp[j] + 1)\n",
    "        return dp[-1]\n",
    "\n",
    "\n",
    "s = Solution()\n",
    "s.minCut('efe')"
   ]
  },
  {
   "cell_type": "code",
   "execution_count": null,
   "metadata": {},
   "outputs": [],
   "source": [
    "from collections import defaultdict\n",
    "\n",
    "\n",
    "class Solution:\n",
    "    def minCut(self, s: str) -> int:\n",
    "        # sourcery skip: simplify-numeric-comparison\n",
    "        # dp[i][j] s[i...j]能否构成回文串\n",
    "        # i:[0,lgh-1] j:[i,lgh-1]\n",
    "        # dp[i][j] = i==j or (j-i+1==2 and s[i]==s[j]) or (j-i+1>2 and s[i]==s[j] and dp[i+1][j-1])\n",
    "        # basecase i==j->True [lgh-1][lgh-1]->True\n",
    "        lgh = len(s)\n",
    "        dp_sym = [[False] * len(s) for _ in range(len(s))]\n",
    "\n",
    "        # 建立是否为回文串的dp数组\n",
    "        for i in range(len(s)-1, -1, -1): # 从下往上\n",
    "            dp_sym[i][i] = True # 单个字母一定是回文串\n",
    "            for j in range(i + 1, len(s)): # 从左往右\n",
    "                if s[i] == s[j] and (j - i == 1 or dp_sym[i + 1][j - 1]):\n",
    "                    dp_sym[i][j] = True\n",
    "        # dp[i] s[0...i]的最少分割次数\n",
    "        # dp[i] = min(dp[i],dp[j]+1) s[j+1...i]也是回文串\n",
    "        # i:[1,lgh-1] j:[0,i-1]\n",
    "        dp = [float('inf')] * lgh\n",
    "        dp[0] = 0\n",
    "        for i in range(1, lgh):\n",
    "            if dp_sym[0][i]:  #本身就是回文则直接0\n",
    "                dp[i] = 0\n",
    "                continue  # 本身不是回文则去前面找 能和i构成回文的 进行状态转移\n",
    "            for j in range(i):\n",
    "                if dp_sym[j + 1][i]:\n",
    "                    dp[i] = min(dp[i], dp[j] + 1)\n",
    "        return dp[-1]\n",
    "\n",
    "\n",
    "s = Solution()\n",
    "s.minCut('efe')"
   ]
  }
 ],
 "metadata": {
  "kernelspec": {
   "display_name": "Python 3.8.10 64-bit",
   "language": "python",
   "name": "python3"
  },
  "language_info": {
   "codemirror_mode": {
    "name": "ipython",
    "version": 3
   },
   "file_extension": ".py",
   "mimetype": "text/x-python",
   "name": "python",
   "nbconvert_exporter": "python",
   "pygments_lexer": "ipython3",
   "version": "3.8.10"
  },
  "orig_nbformat": 4,
  "vscode": {
   "interpreter": {
    "hash": "570feb405e2e27c949193ac68f46852414290d515b0ba6e5d90d076ed2284471"
   }
  }
 },
 "nbformat": 4,
 "nbformat_minor": 2
}
