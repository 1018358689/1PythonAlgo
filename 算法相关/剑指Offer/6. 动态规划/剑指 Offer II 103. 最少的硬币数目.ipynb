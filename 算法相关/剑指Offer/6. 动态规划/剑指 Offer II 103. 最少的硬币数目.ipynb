{
 "cells": [
  {
   "cell_type": "code",
   "execution_count": 1,
   "metadata": {},
   "outputs": [
    {
     "data": {
      "text/plain": [
       "3"
      ]
     },
     "execution_count": 1,
     "metadata": {},
     "output_type": "execute_result"
    }
   ],
   "source": [
    "from typing import List\n",
    "from functools import lru_cache\n",
    "\n",
    "\n",
    "class Solution:\n",
    "    def coinChange(self, coins: List[int], amount: int) -> int:\n",
    "        # dp[i][j] coins[0:i] 凑 j所需最少硬币个数\n",
    "        # dp[i][j] = dp[i-1][j] if coins[i-1]>j min(dp[i-1][j],dp[i][j-coins[i-1]]+1)\n",
    "        # basecase dp[i][0]=0 dp[0][j]=-1\n",
    "        @lru_cache(None)\n",
    "        def dp(i, j):\n",
    "            if j == 0:\n",
    "                return 0\n",
    "            if i == 0:\n",
    "                return float('inf')\n",
    "            cur = coins[i - 1]\n",
    "            return dp(i - 1, j) if cur > j else min(dp(i - 1, j), dp(i, j - cur) + 1)\n",
    "\n",
    "        return ans if (ans := dp(len(coins), amount)) != float('inf') else -1\n",
    "\n",
    "\n",
    "s = Solution()\n",
    "s.coinChange([1, 2, 5], 11)\n"
   ]
  }
 ],
 "metadata": {
  "kernelspec": {
   "display_name": "Python 3.8.10 64-bit",
   "language": "python",
   "name": "python3"
  },
  "language_info": {
   "codemirror_mode": {
    "name": "ipython",
    "version": 3
   },
   "file_extension": ".py",
   "mimetype": "text/x-python",
   "name": "python",
   "nbconvert_exporter": "python",
   "pygments_lexer": "ipython3",
   "version": "3.8.10"
  },
  "orig_nbformat": 4,
  "vscode": {
   "interpreter": {
    "hash": "570feb405e2e27c949193ac68f46852414290d515b0ba6e5d90d076ed2284471"
   }
  }
 },
 "nbformat": 4,
 "nbformat_minor": 2
}
