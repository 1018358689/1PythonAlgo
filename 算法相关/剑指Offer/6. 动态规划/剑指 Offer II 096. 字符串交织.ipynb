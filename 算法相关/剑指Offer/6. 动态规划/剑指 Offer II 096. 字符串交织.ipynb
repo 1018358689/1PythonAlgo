{
 "cells": [
  {
   "cell_type": "code",
   "execution_count": 36,
   "metadata": {},
   "outputs": [
    {
     "data": {
      "text/plain": [
       "False"
      ]
     },
     "execution_count": 36,
     "metadata": {},
     "output_type": "execute_result"
    }
   ],
   "source": [
    "from pprint import pprint\n",
    "\n",
    "\n",
    "class Solution:\n",
    "    def isInterleave(self, s1: str, s2: str, s3: str) -> bool:\n",
    "        lgh1, lgh2, lgh3 = len(s1), len(s2), len(s3)\n",
    "        if lgh1 + lgh2 != lgh3:\n",
    "            return False\n",
    "        # dp[i][j][k] s3[0:i]是否可以由s1[0:j] s2[0:k]交织成\n",
    "        # i:[0:lgh3] j:[0:lgh1] k:[0:lgh2]\n",
    "        # dp[i][j] = (s1[j-1]==s3[i-1] and dp[i-1][j-1][k]) or (s2[k-1]==s3[i-1] and dp[i-1][j][k-1])\n",
    "        # i=j+k\n",
    "        # dp[0][j][k]= False dp[0][0][0]=True\n",
    "        # dp[i][j][0]= i == j and s3[i - 1] == s1[j - 1] and dp[i - 1][j - 1][0]\n",
    "        # dp[i][0][k]= i == k and s3[i - 1] == s2[k - 1] and dp[i - 1][0][k - 1]\n",
    "        dp = [[[False] * (lgh2 + 1) for _ in range(lgh1 + 1)] for _ in range(lgh3 + 1)]\n",
    "        for j in range(lgh1 + 1):\n",
    "            for k in range(lgh2 + 1):\n",
    "                dp[0][j][k] = False\n",
    "        dp[0][0][0] = True\n",
    "        for i in range(1, lgh3 + 1):\n",
    "            for j in range(lgh1 + 1):\n",
    "                dp[i][j][0] = i == j and s3[i - 1] == s1[j - 1] and dp[i - 1][j - 1][0]\n",
    "            for k in range(lgh2 + 1):\n",
    "                dp[i][0][k] = i == k and s3[i - 1] == s2[k - 1] and dp[i - 1][0][k - 1]\n",
    "        for i in range(1, lgh3 + 1):\n",
    "            for j in range(1, lgh1 + 1):\n",
    "                for k in range(1, lgh2 + 1):\n",
    "                    dp[i][j][k] = (i == j + k and s1[j - 1] == s3[i - 1] and dp[i - 1][j - 1][k]) or (i == j + k and s2[k - 1] == s3[i - 1] and dp[i - 1][j][k - 1])\n",
    "        return dp[-1][-1][-1]\n",
    "\n",
    "\n",
    "s = Solution()\n",
    "# s.isInterleave(\"aabcc\", \"dbbca\", \"aadbbcbcac\")\n",
    "# s.isInterleave('abc','d','abcd')\n",
    "# s.isInterleave('','','')\n",
    "s.isInterleave(\"eb\", \"b\", \"cbb\")\n"
   ]
  },
  {
   "cell_type": "code",
   "execution_count": null,
   "metadata": {},
   "outputs": [],
   "source": []
  }
 ],
 "metadata": {
  "kernelspec": {
   "display_name": "Python 3.8.10 64-bit",
   "language": "python",
   "name": "python3"
  },
  "language_info": {
   "codemirror_mode": {
    "name": "ipython",
    "version": 3
   },
   "file_extension": ".py",
   "mimetype": "text/x-python",
   "name": "python",
   "nbconvert_exporter": "python",
   "pygments_lexer": "ipython3",
   "version": "3.8.10"
  },
  "orig_nbformat": 4,
  "vscode": {
   "interpreter": {
    "hash": "570feb405e2e27c949193ac68f46852414290d515b0ba6e5d90d076ed2284471"
   }
  }
 },
 "nbformat": 4,
 "nbformat_minor": 2
}
