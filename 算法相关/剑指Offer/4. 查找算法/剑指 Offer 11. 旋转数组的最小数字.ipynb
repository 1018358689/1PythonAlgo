{
 "cells": [
  {
   "cell_type": "code",
   "execution_count": null,
   "metadata": {},
   "outputs": [],
   "source": [
    "from typing import List\n",
    "\n",
    "\n",
    "class Solution:\n",
    "\n",
    "    def minArray(self, numbers: List[int]) -> int:\n",
    "        l, r = 0, len(numbers) - 1\n",
    "        while l < r and numbers[r] == numbers[0]:\n",
    "            r -= 1\n",
    "        while l <= r:\n",
    "            m = l + r >> 1\n",
    "            if numbers[m] >= numbers[0]:\n",
    "                l = m + 1\n",
    "            else:\n",
    "                r = m - 1\n",
    "        if l > len(numbers) - 1:\n",
    "            return numbers[0]\n",
    "        return numbers[l]"
   ]
  }
 ],
 "metadata": {
  "language_info": {
   "name": "python"
  },
  "orig_nbformat": 4
 },
 "nbformat": 4,
 "nbformat_minor": 2
}
