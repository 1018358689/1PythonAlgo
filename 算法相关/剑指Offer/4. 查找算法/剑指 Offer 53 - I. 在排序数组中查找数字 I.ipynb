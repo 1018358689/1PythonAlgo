{
 "cells": [
  {
   "cell_type": "code",
   "execution_count": 3,
   "metadata": {},
   "outputs": [
    {
     "data": {
      "text/plain": [
       "(2, 0)"
      ]
     },
     "execution_count": 3,
     "metadata": {},
     "output_type": "execute_result"
    }
   ],
   "source": [
    "from typing import List\n",
    "\n",
    "\n",
    "class Solution:\n",
    "\n",
    "    def search(self, nums: List[int], target: int) -> int:\n",
    "        l, r = 0, len(nums) - 1\n",
    "        while l <= r:\n",
    "            m = l + r >> 1\n",
    "            if nums[m] >= target:\n",
    "                r = m - 1\n",
    "            else:\n",
    "                l = m + 1\n",
    "        if l > len(nums) - 1:\n",
    "            return 0\n",
    "        left = l\n",
    "        l, r = left, len(nums) - 1\n",
    "        while l <= r:\n",
    "            m = l + r >> 1\n",
    "            if nums[m] <= target:\n",
    "                l = m + 1\n",
    "            else:\n",
    "                r = m - 1\n",
    "        return r - left + 1\n",
    "\n",
    "\n",
    "s = Solution()\n",
    "s.search([5, 7, 7, 8, 8, 10], 8), s.search([5, 7, 7, 8, 8, 10], 6)\n"
   ]
  },
  {
   "cell_type": "code",
   "execution_count": 5,
   "metadata": {},
   "outputs": [
    {
     "data": {
      "text/plain": [
       "(2, 0)"
      ]
     },
     "execution_count": 5,
     "metadata": {},
     "output_type": "execute_result"
    }
   ],
   "source": [
    "from typing import List\n",
    "\n",
    "\n",
    "class Solution:\n",
    "\n",
    "    def search(self, nums: List[int], target: int) -> int:\n",
    "\n",
    "        def searchLeft(target):\n",
    "            l, r = 0, len(nums) - 1\n",
    "            while l <= r:\n",
    "                m = l + r >> 1\n",
    "                if nums[m] >= target:\n",
    "                    r = m - 1\n",
    "                else:\n",
    "                    l = m + 1\n",
    "            return l\n",
    "\n",
    "        return searchLeft(target + 1) - searchLeft(target)\n",
    "\n",
    "\n",
    "s = Solution()\n",
    "s.search([5, 7, 7, 8, 8, 10], 8), s.search([5, 7, 7, 8, 8, 10], 6)\n"
   ]
  },
  {
   "cell_type": "code",
   "execution_count": null,
   "metadata": {},
   "outputs": [],
   "source": []
  }
 ],
 "metadata": {
  "interpreter": {
   "hash": "97367d2de1780ea7c502b529f25888c1b53c0430a7611816b6c7cf19d8435228"
  },
  "kernelspec": {
   "display_name": "Python 3.10.4 64-bit (windows store)",
   "language": "python",
   "name": "python3"
  },
  "language_info": {
   "codemirror_mode": {
    "name": "ipython",
    "version": 3
   },
   "file_extension": ".py",
   "mimetype": "text/x-python",
   "name": "python",
   "nbconvert_exporter": "python",
   "pygments_lexer": "ipython3",
   "version": "3.10.4"
  },
  "orig_nbformat": 4
 },
 "nbformat": 4,
 "nbformat_minor": 2
}
