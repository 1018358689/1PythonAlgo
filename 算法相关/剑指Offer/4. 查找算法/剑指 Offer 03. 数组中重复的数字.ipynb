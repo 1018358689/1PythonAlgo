{
 "cells": [
  {
   "cell_type": "code",
   "execution_count": 1,
   "metadata": {},
   "outputs": [
    {
     "data": {
      "text/plain": [
       "2"
      ]
     },
     "execution_count": 1,
     "metadata": {},
     "output_type": "execute_result"
    }
   ],
   "source": [
    "from typing import List\n",
    "\n",
    "\n",
    "class Solution:\n",
    "\n",
    "    def findRepeatNumber(self, nums: List[int]) -> int:\n",
    "        ha = set()\n",
    "        for n in nums:\n",
    "            if n in ha:\n",
    "                return n\n",
    "            ha.add(n)\n",
    "\n",
    "\n",
    "s = Solution()\n",
    "s.findRepeatNumber(([2, 3, 1, 0, 2, 5, 3]))\n"
   ]
  },
  {
   "cell_type": "code",
   "execution_count": 2,
   "metadata": {},
   "outputs": [
    {
     "data": {
      "text/plain": [
       "2"
      ]
     },
     "execution_count": 2,
     "metadata": {},
     "output_type": "execute_result"
    }
   ],
   "source": [
    "# 0 1 2 3 4 5 6\n",
    "# 2 3 1 0 2 5 3\n",
    "from typing import List\n",
    "\n",
    "\n",
    "class Solution:\n",
    "\n",
    "    def findRepeatNumber(self, nums: List[int]) -> int:\n",
    "        sz = len(nums)\n",
    "        for n in nums:\n",
    "            if n < 0:\n",
    "                n = n + sz\n",
    "            if nums[n] < 0:\n",
    "                return n\n",
    "            else:\n",
    "                nums[n] -= sz\n",
    "\n",
    "\n",
    "s = Solution()\n",
    "s.findRepeatNumber(([2, 3, 1, 0, 2, 5, 3]))"
   ]
  },
  {
   "cell_type": "code",
   "execution_count": 4,
   "metadata": {},
   "outputs": [
    {
     "data": {
      "text/plain": [
       "2"
      ]
     },
     "execution_count": 4,
     "metadata": {},
     "output_type": "execute_result"
    }
   ],
   "source": [
    "from typing import List\n",
    "\n",
    "\n",
    "class Solution:\n",
    "\n",
    "    def findRepeatNumber(self, nums: List[int]) -> int:\n",
    "        for n in nums:\n",
    "            if n < 0:\n",
    "                n = n + 10**5\n",
    "            if nums[n] < 0:\n",
    "                return n\n",
    "            else:\n",
    "                nums[n] -= 10**5\n",
    "\n",
    "\n",
    "s = Solution()\n",
    "s.findRepeatNumber(([2, 3, 1, 0, 2, 5, 3]))"
   ]
  },
  {
   "cell_type": "code",
   "execution_count": null,
   "metadata": {},
   "outputs": [],
   "source": []
  }
 ],
 "metadata": {
  "interpreter": {
   "hash": "97367d2de1780ea7c502b529f25888c1b53c0430a7611816b6c7cf19d8435228"
  },
  "kernelspec": {
   "display_name": "Python 3.10.4 64-bit (windows store)",
   "language": "python",
   "name": "python3"
  },
  "language_info": {
   "codemirror_mode": {
    "name": "ipython",
    "version": 3
   },
   "file_extension": ".py",
   "mimetype": "text/x-python",
   "name": "python",
   "nbconvert_exporter": "python",
   "pygments_lexer": "ipython3",
   "version": "3.10.4"
  },
  "orig_nbformat": 4
 },
 "nbformat": 4,
 "nbformat_minor": 2
}
