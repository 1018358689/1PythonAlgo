{
 "cells": [
  {
   "cell_type": "code",
   "execution_count": 1,
   "metadata": {},
   "outputs": [],
   "source": [
    "from collections import Counter\n",
    "\n",
    "\n",
    "class Solution:\n",
    "\n",
    "    def firstUniqChar(self, s: str) -> str:\n",
    "        cnt = Counter(s)\n",
    "        for i in s:\n",
    "            if cnt[i] == 1:\n",
    "                return i\n",
    "        return ' '"
   ]
  },
  {
   "cell_type": "code",
   "execution_count": 2,
   "metadata": {},
   "outputs": [],
   "source": [
    "class Solution:\n",
    "\n",
    "    def firstUniqChar(self, s: str) -> str:\n",
    "        d = {}\n",
    "        for i in s:\n",
    "            d[i] = not (i in d) # 第一次出现d[i]=1 多次出现 d[i]=0\n",
    "        for k, v in d.items():\n",
    "            if v:\n",
    "                return k\n",
    "        return ' '"
   ]
  },
  {
   "cell_type": "code",
   "execution_count": 3,
   "metadata": {},
   "outputs": [],
   "source": [
    "class Solution:\n",
    "\n",
    "    def firstUniqChar(self, s: str) -> str:\n",
    "        countArr = [0] * 26 # 计数\n",
    "        for i in s:\n",
    "            countArr[ord(i) - ord('a')] += 1\n",
    "        for i in s:\n",
    "            if countArr[ord(i) - ord('a')] == 1:\n",
    "                return i\n",
    "        return ' '\n"
   ]
  },
  {
   "cell_type": "code",
   "execution_count": 22,
   "metadata": {},
   "outputs": [
    {
     "data": {
      "text/plain": [
       "' '"
      ]
     },
     "execution_count": 22,
     "metadata": {},
     "output_type": "execute_result"
    }
   ],
   "source": [
    "class Node:\n",
    "\n",
    "    def __init__(self, key, val):\n",
    "        self.key = key\n",
    "        self.val = val\n",
    "        self.pre = None\n",
    "        self.next = None\n",
    "\n",
    "\n",
    "class DoubleList:\n",
    "\n",
    "    def __init__(self):\n",
    "        self.head = Node(-1, -1)\n",
    "        self.end = Node(-1, -1)\n",
    "        self.head.next = self.end\n",
    "        self.end.pre = self.head\n",
    "\n",
    "    def addNodeAfter(self, node: Node, preNode: Node):\n",
    "        node.next = preNode.next\n",
    "        node.pre = preNode\n",
    "        preNode.next.pre = node\n",
    "        preNode.next = node\n",
    "\n",
    "    def removeNode(self, node):\n",
    "        node.pre.next = node.next\n",
    "        node.next.pre = node.pre\n",
    "\n",
    "    def move2last(self, node):\n",
    "        if node != self.end.pre:\n",
    "            self.removeNode(node)\n",
    "            self.addNodeAfter(node, self.end.pre)\n",
    "\n",
    "    def test(self):\n",
    "        p = self.head\n",
    "        l = []\n",
    "        while p != self.end:\n",
    "            l.append((p.key, p.val))\n",
    "            p = p.next\n",
    "        return l\n",
    "\n",
    "\n",
    "class Solution:\n",
    "\n",
    "    def firstUniqChar(self, s: str) -> str:\n",
    "        dl = DoubleList()\n",
    "        ha = {}\n",
    "        for i in s:\n",
    "            # print(dl.test())\n",
    "            if i in ha:\n",
    "                node = ha[i]\n",
    "                node.val += 1\n",
    "                dl.move2last(node)\n",
    "            else:\n",
    "                node = Node(i, 1)\n",
    "                ha[i] = node\n",
    "                if dl.head.next == dl.end or dl.head.next.val > 1:\n",
    "                    dl.addNodeAfter(node, dl.head)\n",
    "                else:\n",
    "                    p = dl.head.next\n",
    "                    while p != dl.end and p.val == 1:\n",
    "                        p = p.next\n",
    "                    dl.addNodeAfter(node, p.pre)\n",
    "        return dl.head.next.key if dl.head.next.val == 1 else ' '\n",
    "\n",
    "\n",
    "s = Solution()\n",
    "s.firstUniqChar('aabbccww')"
   ]
  },
  {
   "cell_type": "code",
   "execution_count": null,
   "metadata": {},
   "outputs": [],
   "source": []
  }
 ],
 "metadata": {
  "interpreter": {
   "hash": "97367d2de1780ea7c502b529f25888c1b53c0430a7611816b6c7cf19d8435228"
  },
  "kernelspec": {
   "display_name": "Python 3.10.4 64-bit (windows store)",
   "language": "python",
   "name": "python3"
  },
  "language_info": {
   "codemirror_mode": {
    "name": "ipython",
    "version": 3
   },
   "file_extension": ".py",
   "mimetype": "text/x-python",
   "name": "python",
   "nbconvert_exporter": "python",
   "pygments_lexer": "ipython3",
   "version": "3.10.4"
  },
  "orig_nbformat": 4
 },
 "nbformat": 4,
 "nbformat_minor": 2
}
