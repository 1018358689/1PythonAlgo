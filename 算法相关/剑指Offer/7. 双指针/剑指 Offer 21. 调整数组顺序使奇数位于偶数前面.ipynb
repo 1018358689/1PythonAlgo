{
 "cells": [
  {
   "cell_type": "code",
   "execution_count": null,
   "metadata": {},
   "outputs": [],
   "source": [
    "# 类似快速排序找基准"
   ]
  },
  {
   "cell_type": "code",
   "execution_count": null,
   "metadata": {},
   "outputs": [],
   "source": [
    "from typing import List\n",
    "\n",
    "\n",
    "class Solution:\n",
    "\n",
    "    def exchange(self, nums: List[int]) -> List[int]:\n",
    "        p1, p2 = 0, len(nums) - 1\n",
    "        while p1 < p2:\n",
    "            while p1 < p2 and nums[p1] & 1 == 1:\n",
    "                p1 += 1\n",
    "            while p1 < p2 and nums[p2] & 1 == 0:\n",
    "                p2 -= 1\n",
    "            nums[p1], nums[p2] = nums[p2], nums[p1]\n",
    "        return nums"
   ]
  },
  {
   "cell_type": "code",
   "execution_count": null,
   "metadata": {},
   "outputs": [],
   "source": [
    "from typing import List\n",
    "\n",
    "\n",
    "class Solution:\n",
    "\n",
    "    def exchange(self, nums: List[int]) -> List[int]:\n",
    "        if not nums: return []\n",
    "        mark = 0\n",
    "        for i in range(1, len(nums)):\n",
    "            if nums[i] & 1 == 1:\n",
    "                mark += 1\n",
    "                nums[i], nums[mark] = nums[mark], nums[i]\n",
    "        nums[mark], nums[0] = nums[0], nums[mark]\n",
    "        return nums"
   ]
  },
  {
   "cell_type": "code",
   "execution_count": null,
   "metadata": {},
   "outputs": [],
   "source": [
    "from typing import List\n",
    "\n",
    "\n",
    "class Solution:\n",
    "\n",
    "    def exchange(self, nums: List[int]) -> List[int]:\n",
    "        p1, p2 = 0, len(nums) - 1\n",
    "        while p1 < p2:\n",
    "            if nums[p1] & 1 == 0 and nums[p2] & 1 == 1:\n",
    "                nums[p1], nums[p2] = nums[p2], nums[p1]\n",
    "                p1 += 1\n",
    "                p2 -= 1\n",
    "            elif nums[p1] & 1 == 1:\n",
    "                p1 += 1\n",
    "            elif nums[p2] & 1 == 0:\n",
    "                p2 -= 1\n",
    "            else:\n",
    "                p1 += 1\n",
    "                p2 -= 1\n",
    "        return nums"
   ]
  }
 ],
 "metadata": {
  "language_info": {
   "name": "python"
  },
  "orig_nbformat": 4
 },
 "nbformat": 4,
 "nbformat_minor": 2
}
