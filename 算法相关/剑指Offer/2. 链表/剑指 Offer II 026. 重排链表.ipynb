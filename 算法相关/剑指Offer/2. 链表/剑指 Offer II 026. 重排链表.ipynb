{
 "cells": [
  {
   "cell_type": "code",
   "execution_count": null,
   "metadata": {},
   "outputs": [],
   "source": [
    "# Definition for singly-linked list.\n",
    "class ListNode:\n",
    "\n",
    "    def __init__(self, val=0, next=None):\n",
    "        self.val = val\n",
    "        self.next = next\n",
    "\n",
    "\n",
    "class Solution:\n",
    "\n",
    "    def reorderList(self, head: ListNode) -> None:\n",
    "        \"\"\"\n",
    "        Do not return anything, modify head in-place instead.\n",
    "        \"\"\"\n",
    "\n",
    "        def getMid(head: ListNode):\n",
    "            pre = None\n",
    "            slow, fast = head, head\n",
    "            while fast and fast.next:\n",
    "                pre = slow\n",
    "                slow = slow.next\n",
    "                fast = fast.next.next\n",
    "            return pre, slow\n",
    "\n",
    "        def reverse(head: ListNode):\n",
    "            if not head or not head.next:\n",
    "                return head\n",
    "            sub = reverse(head.next)\n",
    "            head.next.next = head\n",
    "            head.next = None\n",
    "            return sub\n",
    "\n",
    "        if not head or not head.next or not head.next.next:\n",
    "            return head\n",
    "        pre, mid = getMid(head)  # 获取中点 奇数会后面一个\n",
    "        pre.next = None  # 切断\n",
    "        mid = reverse(mid)  # 翻转\n",
    "        cur = head\n",
    "        # 合并\n",
    "        while cur.next:\n",
    "            tmp1 = mid.next\n",
    "            tmp2 = cur.next\n",
    "            mid.next = cur.next\n",
    "            cur.next = mid\n",
    "            mid, cur = tmp1, tmp2\n",
    "        cur.next = mid\n",
    "        return head\n"
   ]
  }
 ],
 "metadata": {
  "language_info": {
   "name": "python"
  },
  "orig_nbformat": 4
 },
 "nbformat": 4,
 "nbformat_minor": 2
}
