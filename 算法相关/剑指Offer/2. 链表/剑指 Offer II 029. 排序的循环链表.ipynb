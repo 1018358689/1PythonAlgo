{
 "cells": [
  {
   "cell_type": "code",
   "execution_count": null,
   "metadata": {},
   "outputs": [],
   "source": [
    "# Definition for a Node.\n",
    "class Node:\n",
    "\n",
    "    def __init__(self, val=None, next=None):\n",
    "        self.val = val\n",
    "        self.next = next\n",
    "\n",
    "\n",
    "class Solution:\n",
    "\n",
    "    def insert(self, head: 'Node', insertVal: int) -> 'Node':\n",
    "        if not head:\n",
    "            t = Node(insertVal)\n",
    "            t.next = t\n",
    "            return t\n",
    "        cur = head\n",
    "        while True:\n",
    "            # 合适的中间位置 直接插入\n",
    "            if cur.val <= insertVal <= cur.next.val:\n",
    "                cur.next = Node(insertVal, cur.next)\n",
    "                return head\n",
    "            # 循环点 则需要比最大值大或比最小值小\n",
    "            elif cur.val > cur.next.val:\n",
    "                if insertVal >= cur.val or insertVal <= cur.next.val:\n",
    "                    cur.next = Node(insertVal, cur.next)\n",
    "                    return head\n",
    "            # 以上都不满足 且下一步回到起点 则说明链表只有一个值 直接插入\n",
    "            elif cur.next == head:\n",
    "                cur.next = Node(insertVal, cur.next)\n",
    "                return head\n",
    "            cur = cur.next"
   ]
  }
 ],
 "metadata": {
  "language_info": {
   "name": "python"
  },
  "orig_nbformat": 4
 },
 "nbformat": 4,
 "nbformat_minor": 2
}
