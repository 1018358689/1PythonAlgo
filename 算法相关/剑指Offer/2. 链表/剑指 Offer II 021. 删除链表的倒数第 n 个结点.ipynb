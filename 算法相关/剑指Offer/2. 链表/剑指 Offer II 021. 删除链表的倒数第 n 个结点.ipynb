{
 "cells": [
  {
   "cell_type": "code",
   "execution_count": null,
   "metadata": {},
   "outputs": [],
   "source": [
    "# Definition for singly-linked list.\n",
    "class ListNode:\n",
    "\n",
    "    def __init__(self, val=0, next=None):\n",
    "        self.val = val\n",
    "        self.next = next\n",
    "\n",
    "\n",
    "class Solution:\n",
    "\n",
    "    def removeNthFromEnd(self, head: ListNode, n: int) -> ListNode:\n",
    "        suc = head\n",
    "        for _ in range(n):\n",
    "            suc = suc.next\n",
    "        if suc is None:\n",
    "            return head.next\n",
    "        cur = head\n",
    "        while suc.next:\n",
    "            suc = suc.next\n",
    "            cur = cur.next\n",
    "        cur.next = cur.next.next\n",
    "        return head\n"
   ]
  }
 ],
 "metadata": {
  "language_info": {
   "name": "python"
  },
  "orig_nbformat": 4
 },
 "nbformat": 4,
 "nbformat_minor": 2
}
