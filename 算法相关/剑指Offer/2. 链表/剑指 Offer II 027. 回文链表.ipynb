{
 "cells": [
  {
   "cell_type": "code",
   "execution_count": null,
   "metadata": {},
   "outputs": [],
   "source": [
    "# Definition for singly-linked list.\n",
    "class ListNode:\n",
    "\n",
    "    def __init__(self, val=0, next=None):\n",
    "        self.val = val\n",
    "        self.next = next\n",
    "\n",
    "\n",
    "class Solution:\n",
    "\n",
    "    def isPalindrome(self, head: ListNode) -> bool:\n",
    "\n",
    "        def getMid(head):\n",
    "            slow, fast, pre = head, head, None\n",
    "            while fast and fast.next:\n",
    "                pre = slow\n",
    "                slow = slow.next\n",
    "                fast = fast.next.next\n",
    "            if fast:  # 奇数\n",
    "                slow = slow.next\n",
    "            return pre, slow\n",
    "\n",
    "        def reverse(head):\n",
    "            if not head or not head.next:\n",
    "                return head\n",
    "            sub = reverse(head.next)\n",
    "            head.next.next = head\n",
    "            head.next = None\n",
    "            return sub\n",
    "\n",
    "        if not head or not head.next:\n",
    "            return True\n",
    "        pre, mid = getMid(head)\n",
    "        pre.next = None  # 断开\n",
    "        mid = reverse(mid)\n",
    "        p1, p2 = head, mid\n",
    "        while p1:\n",
    "            if p1.val != p2.val:\n",
    "                return False\n",
    "            p1 = p1.next\n",
    "            p2 = p2.next\n",
    "        return True"
   ]
  }
 ],
 "metadata": {
  "language_info": {
   "name": "python"
  },
  "orig_nbformat": 4
 },
 "nbformat": 4,
 "nbformat_minor": 2
}
