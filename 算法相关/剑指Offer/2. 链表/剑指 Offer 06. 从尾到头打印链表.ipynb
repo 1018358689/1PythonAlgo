{
 "cells": [
  {
   "cell_type": "code",
   "execution_count": 1,
   "metadata": {},
   "outputs": [],
   "source": [
    "# Definition for singly-linked list.\n",
    "from typing import List\n",
    "\n",
    "\n",
    "class ListNode:\n",
    "\n",
    "    def __init__(self, x):\n",
    "        self.val = x\n",
    "        self.next = None\n",
    "\n",
    "\n",
    "class Solution:\n",
    "\n",
    "    def reversePrint(self, head: ListNode) -> List[int]:\n",
    "        if head is None:\n",
    "            return []\n",
    "        return self.reversePrint(head.next) + [head.val]\n"
   ]
  },
  {
   "cell_type": "code",
   "execution_count": null,
   "metadata": {},
   "outputs": [],
   "source": [
    "# Definition for singly-linked list.\n",
    "from typing import List\n",
    "\n",
    "\n",
    "class ListNode:\n",
    "\n",
    "    def __init__(self, x):\n",
    "        self.val = x\n",
    "        self.next = None\n",
    "\n",
    "\n",
    "class Solution:\n",
    "\n",
    "    def reversePrint(self, head: ListNode) -> List[int]:\n",
    "        if head is None:\n",
    "            return []\n",
    "        sub = self.reversePrint(head.next)\n",
    "        return sub + [head.val]\n"
   ]
  },
  {
   "cell_type": "code",
   "execution_count": 2,
   "metadata": {},
   "outputs": [],
   "source": [
    "# Definition for singly-linked list.\n",
    "from typing import List\n",
    "\n",
    "\n",
    "class ListNode:\n",
    "\n",
    "    def __init__(self, x):\n",
    "        self.val = x\n",
    "        self.next = None\n",
    "\n",
    "\n",
    "class Solution:\n",
    "\n",
    "    def reversePrint(self, head: ListNode) -> List[int]:\n",
    "        res = []\n",
    "\n",
    "        def dfs(node: ListNode):\n",
    "            if node is None:\n",
    "                return\n",
    "            dfs(node.next) # 到空回溯\n",
    "            res.append(node.val)\n",
    "\n",
    "        dfs(head)\n",
    "        return res\n"
   ]
  },
  {
   "cell_type": "code",
   "execution_count": null,
   "metadata": {},
   "outputs": [],
   "source": [
    "# Definition for singly-linked list.\n",
    "from typing import List\n",
    "\n",
    "\n",
    "class ListNode:\n",
    "\n",
    "    def __init__(self, x):\n",
    "        self.val = x\n",
    "        self.next = None\n",
    "\n",
    "\n",
    "class Solution:\n",
    "\n",
    "    def reversePrint(self, head: ListNode) -> List[int]:\n",
    "        stack = []\n",
    "        p = head\n",
    "        while p:\n",
    "            stack.append(p.val)\n",
    "            p = p.next\n",
    "        return stack[::-1]\n"
   ]
  }
 ],
 "metadata": {
  "interpreter": {
   "hash": "aee8b7b246df8f9039afb4144a1f6fd8d2ca17a180786b69acc140d282b71a49"
  },
  "kernelspec": {
   "display_name": "Python 3.10.2 64-bit",
   "language": "python",
   "name": "python3"
  },
  "language_info": {
   "codemirror_mode": {
    "name": "ipython",
    "version": 3
   },
   "file_extension": ".py",
   "mimetype": "text/x-python",
   "name": "python",
   "nbconvert_exporter": "python",
   "pygments_lexer": "ipython3",
   "version": "3.10.2"
  },
  "orig_nbformat": 4
 },
 "nbformat": 4,
 "nbformat_minor": 2
}
