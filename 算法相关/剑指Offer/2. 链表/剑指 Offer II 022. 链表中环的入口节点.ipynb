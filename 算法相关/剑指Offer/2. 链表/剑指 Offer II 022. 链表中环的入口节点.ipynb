{
 "cells": [
  {
   "cell_type": "code",
   "execution_count": null,
   "metadata": {},
   "outputs": [],
   "source": [
    "# https://leetcode.cn/problems/c32eOV/solution/jian-zhi-offer-ii-022-lian-biao-zhong-hu-8f1m/"
   ]
  },
  {
   "cell_type": "code",
   "execution_count": 1,
   "metadata": {},
   "outputs": [],
   "source": [
    "# Definition for singly-linked list.\n",
    "class ListNode:\n",
    "\n",
    "    def __init__(self, x):\n",
    "        self.val = x\n",
    "        self.next = None\n",
    "\n",
    "\n",
    "class Solution:\n",
    "\n",
    "    def detectCycle(self, head: ListNode) -> ListNode:\n",
    "        p1 = p2 = head\n",
    "        while True:\n",
    "            if not p2 or not p2.next:\n",
    "                return None\n",
    "            p1 = p1.next\n",
    "            p2 = p2.next.next\n",
    "            if p1 == p2:\n",
    "                break\n",
    "        p2 = head\n",
    "        while p1 != p2:\n",
    "            p1 = p1.next\n",
    "            p2 = p2.next\n",
    "        return p1"
   ]
  },
  {
   "cell_type": "code",
   "execution_count": null,
   "metadata": {},
   "outputs": [],
   "source": [
    "# Definition for singly-linked list.\n",
    "class ListNode:\n",
    "\n",
    "    def __init__(self, x):\n",
    "        self.val = x\n",
    "        self.next = None\n",
    "\n",
    "\n",
    "class Solution:\n",
    "\n",
    "    def detectCycle(self, head: ListNode) -> ListNode:\n",
    "        p1 = p2 = head\n",
    "        while p2 and p2.next:\n",
    "            p1 = p1.next\n",
    "            p2 = p2.next.next\n",
    "            if p1 == p2:\n",
    "                p3 = head\n",
    "                while p1 != p3:\n",
    "                    p1 = p1.next\n",
    "                    p3 = p3.next\n",
    "                return p1\n",
    "        return None"
   ]
  }
 ],
 "metadata": {
  "kernelspec": {
   "display_name": "Python 3.10.5 64-bit (windows store)",
   "language": "python",
   "name": "python3"
  },
  "language_info": {
   "codemirror_mode": {
    "name": "ipython",
    "version": 3
   },
   "file_extension": ".py",
   "mimetype": "text/x-python",
   "name": "python",
   "nbconvert_exporter": "python",
   "pygments_lexer": "ipython3",
   "version": "3.10.5"
  },
  "orig_nbformat": 4,
  "vscode": {
   "interpreter": {
    "hash": "97367d2de1780ea7c502b529f25888c1b53c0430a7611816b6c7cf19d8435228"
   }
  }
 },
 "nbformat": 4,
 "nbformat_minor": 2
}
