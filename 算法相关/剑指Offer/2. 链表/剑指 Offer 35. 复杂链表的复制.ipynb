{
 "cells": [
  {
   "cell_type": "code",
   "execution_count": 1,
   "metadata": {},
   "outputs": [],
   "source": [
    "# Definition for a Node.\n",
    "class Node:\n",
    "\n",
    "    def __init__(self, x: int, next: 'Node' = None, random: 'Node' = None):\n",
    "        self.val = int(x)\n",
    "        self.next = next\n",
    "        self.random = random\n",
    "\n",
    "\n",
    "class Solution:\n",
    "\n",
    "    def copyRandomList(self, head: 'Node') -> 'Node':\n",
    "        ha = {}\n",
    "        p = head\n",
    "        while p:\n",
    "            ha[p] = Node(p.val)\n",
    "            p = p.next\n",
    "        p = head\n",
    "        while p:\n",
    "            ha[p].next = ha.get(p.next)\n",
    "            ha[p].random = ha.get(p.random)\n",
    "            p = p.next\n",
    "        return ha[head]"
   ]
  },
  {
   "cell_type": "code",
   "execution_count": null,
   "metadata": {},
   "outputs": [],
   "source": [
    "# Definition for a Node.\n",
    "# https://leetcode.cn/problems/fu-za-lian-biao-de-fu-zhi-lcof/solution/jian-zhi-offer-35-fu-za-lian-biao-de-fu-zhi-ha-xi-/\n",
    "class Node:\n",
    "\n",
    "    def __init__(self, x: int, next: 'Node' = None, random: 'Node' = None):\n",
    "        self.val = int(x)\n",
    "        self.next = next\n",
    "        self.random = random\n",
    "\n",
    "\n",
    "class Solution:\n",
    "\n",
    "    def copyRandomList(self, head: 'Node') -> 'Node':\n",
    "        if not head: return None\n",
    "        cur = head\n",
    "        while cur:\n",
    "            tmp = Node(cur.val)\n",
    "            tmp.next = cur.next\n",
    "            cur.next = tmp\n",
    "            cur = tmp.next\n",
    "        cur = head\n",
    "        while cur:\n",
    "            if cur.random:\n",
    "                cur.next.random = cur.random.next\n",
    "            cur = cur.next.next\n",
    "        pre = head\n",
    "        cur = res = head.next\n",
    "        while cur.next:\n",
    "            pre.next = pre.next.next\n",
    "            cur.next = cur.next.next\n",
    "            pre = pre.next\n",
    "            cur = cur.next\n",
    "        pre.next = None\n",
    "        return res"
   ]
  }
 ],
 "metadata": {
  "interpreter": {
   "hash": "aee8b7b246df8f9039afb4144a1f6fd8d2ca17a180786b69acc140d282b71a49"
  },
  "kernelspec": {
   "display_name": "Python 3.10.2 64-bit",
   "language": "python",
   "name": "python3"
  },
  "language_info": {
   "codemirror_mode": {
    "name": "ipython",
    "version": 3
   },
   "file_extension": ".py",
   "mimetype": "text/x-python",
   "name": "python",
   "nbconvert_exporter": "python",
   "pygments_lexer": "ipython3",
   "version": "3.10.2"
  },
  "orig_nbformat": 4
 },
 "nbformat": 4,
 "nbformat_minor": 2
}
