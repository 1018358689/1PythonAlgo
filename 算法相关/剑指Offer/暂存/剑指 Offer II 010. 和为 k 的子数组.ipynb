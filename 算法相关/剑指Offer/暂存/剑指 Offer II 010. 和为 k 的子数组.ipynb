{
 "cells": [
  {
   "cell_type": "code",
   "execution_count": 1,
   "metadata": {},
   "outputs": [],
   "source": [
    "from typing import List\n",
    "from collections import defaultdict\n",
    "\n",
    "\n",
    "class Solution:\n",
    "\n",
    "    def subarraySum(self, nums: List[int], k: int) -> int:\n",
    "        cnt = defaultdict(int)  # 前缀和出现次数\n",
    "        cnt[0] = 1  # 初始化前缀和0出现1次 方便计算整个前缀和为k\n",
    "        res = 0  # 记录结果\n",
    "        sum = 0  # 局部前缀和\n",
    "        for n in nums:\n",
    "            sum += n  # 当前前缀和\n",
    "            res += cnt[sum - k]  # 目标前缀和sum-k出现次数\n",
    "            cnt[sum] += 1  # 记录前缀和次数\n",
    "        return res"
   ]
  },
  {
   "cell_type": "code",
   "execution_count": 2,
   "metadata": {},
   "outputs": [],
   "source": [
    "from typing import List\n",
    "\n",
    "\n",
    "class Solution:\n",
    "    def subarraySum(self, nums: List[int], k: int) -> int:\n",
    "        cnt = {}  # 前缀和出现次数\n",
    "        cnt[0] = 1  # 初始化前缀和0出现1次 方便计算整个前缀和为k\n",
    "        res = 0  # 记录结果\n",
    "        sum = 0  # 局部前缀和\n",
    "        for n in nums:\n",
    "            sum += n  # 当前前缀和\n",
    "            if sum - k in cnt:\n",
    "                res += cnt[sum - k]  # 目标前缀和sum-k出现次数\n",
    "            # 记录前缀和次数\n",
    "            if sum not in cnt:  # 如果没出现过则初始化避免键值匹配错误\n",
    "                cnt[sum] = 0\n",
    "            cnt[sum] += 1\n",
    "        return res"
   ]
  },
  {
   "cell_type": "code",
   "execution_count": null,
   "metadata": {},
   "outputs": [],
   "source": []
  }
 ],
 "metadata": {
  "interpreter": {
   "hash": "97367d2de1780ea7c502b529f25888c1b53c0430a7611816b6c7cf19d8435228"
  },
  "kernelspec": {
   "display_name": "Python 3.10.4 64-bit (windows store)",
   "language": "python",
   "name": "python3"
  },
  "language_info": {
   "codemirror_mode": {
    "name": "ipython",
    "version": 3
   },
   "file_extension": ".py",
   "mimetype": "text/x-python",
   "name": "python",
   "nbconvert_exporter": "python",
   "pygments_lexer": "ipython3",
   "version": "3.10.4"
  },
  "orig_nbformat": 4
 },
 "nbformat": 4,
 "nbformat_minor": 2
}
