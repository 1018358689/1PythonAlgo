{
 "cells": [
  {
   "cell_type": "code",
   "execution_count": 6,
   "metadata": {},
   "outputs": [
    {
     "data": {
      "text/plain": [
       "[]"
      ]
     },
     "execution_count": 6,
     "metadata": {},
     "output_type": "execute_result"
    }
   ],
   "source": [
    "from typing import List\n",
    "\n",
    "\n",
    "class Solution:\n",
    "\n",
    "    def getLeastNumbers(self, arr: List[int], k: int) -> List[int]:\n",
    "        arr.sort()\n",
    "        return arr[:k]\n",
    "\n",
    "\n",
    "s = Solution()\n",
    "# s.getLeastNumbers([3, 2, 1], 2), s.getLeastNumbers([0, 1, 2, 1], 2)\n",
    "s.getLeastNumbers([0, 0, 0, 2, 0, 5], 0)"
   ]
  },
  {
   "cell_type": "code",
   "execution_count": 1,
   "metadata": {},
   "outputs": [
    {
     "data": {
      "text/plain": [
       "[]"
      ]
     },
     "execution_count": 1,
     "metadata": {},
     "output_type": "execute_result"
    }
   ],
   "source": [
    "from typing import List\n",
    "\n",
    "\n",
    "class Solution:\n",
    "\n",
    "    def getLeastNumbers(self, nums: List[int], k: int) -> List[int]:\n",
    "        if k == 0 or k > len(nums): return []\n",
    "\n",
    "        def getPivot(si, ei):\n",
    "            mark = si\n",
    "            for i in range(si + 1, ei + 1):\n",
    "                if nums[i] < nums[si]:\n",
    "                    mark += 1\n",
    "                    nums[i], nums[mark] = nums[mark], nums[i]\n",
    "            nums[mark], nums[si] = nums[si], nums[mark]\n",
    "            return mark\n",
    "\n",
    "        index = getPivot(0, len(nums) - 1)\n",
    "        while index != k - 1:\n",
    "            if index > k - 1:\n",
    "                index = getPivot(0, index - 1)\n",
    "            else:\n",
    "                index = getPivot(index + 1, len(nums) - 1)\n",
    "        return nums[:index + 1]\n",
    "\n",
    "\n",
    "s = Solution()\n",
    "# s.getLeastNumbers([3, 2, 1], 2), s.getLeastNumbers([0, 1, 2, 1], 2)\n",
    "s.getLeastNumbers([0, 0, 0, 2, 0, 5], 0)\n"
   ]
  },
  {
   "cell_type": "code",
   "execution_count": 1,
   "metadata": {},
   "outputs": [
    {
     "data": {
      "text/plain": [
       "[]"
      ]
     },
     "execution_count": 1,
     "metadata": {},
     "output_type": "execute_result"
    }
   ],
   "source": [
    "from typing import List\n",
    "\n",
    "\n",
    "class Solution:\n",
    "\n",
    "    def getLeastNumbers(self, nums: List[int], k: int) -> List[int]:\n",
    "        if k == 0 or k > len(nums): return []\n",
    "\n",
    "        def getPivot(si, ei):\n",
    "            mark = si\n",
    "            for i in range(si + 1, ei + 1):\n",
    "                if nums[i] < nums[si]:\n",
    "                    mark += 1\n",
    "                    nums[i], nums[mark] = nums[mark], nums[i]\n",
    "            nums[mark], nums[si] = nums[si], nums[mark]\n",
    "            return mark\n",
    "\n",
    "        def dc(si, ei):\n",
    "            pivot = getPivot(si, ei)\n",
    "            if pivot > k - 1:\n",
    "                return dc(si, pivot - 1)\n",
    "            elif pivot < k - 1:\n",
    "                return dc(pivot + 1, ei)\n",
    "            return nums[:pivot + 1]\n",
    "\n",
    "        return dc(0, len(nums) - 1)\n",
    "\n",
    "\n",
    "s = Solution()\n",
    "s.getLeastNumbers([3, 2, 1], 2), s.getLeastNumbers([0, 1, 2, 1], 2)\n",
    "s.getLeastNumbers([0, 0, 0, 2, 0, 5], 0)\n"
   ]
  },
  {
   "cell_type": "code",
   "execution_count": null,
   "metadata": {},
   "outputs": [],
   "source": []
  }
 ],
 "metadata": {
  "interpreter": {
   "hash": "97367d2de1780ea7c502b529f25888c1b53c0430a7611816b6c7cf19d8435228"
  },
  "kernelspec": {
   "display_name": "Python 3.10.4 64-bit (windows store)",
   "language": "python",
   "name": "python3"
  },
  "language_info": {
   "codemirror_mode": {
    "name": "ipython",
    "version": 3
   },
   "file_extension": ".py",
   "mimetype": "text/x-python",
   "name": "python",
   "nbconvert_exporter": "python",
   "pygments_lexer": "ipython3",
   "version": "3.10.4"
  },
  "orig_nbformat": 4
 },
 "nbformat": 4,
 "nbformat_minor": 2
}
