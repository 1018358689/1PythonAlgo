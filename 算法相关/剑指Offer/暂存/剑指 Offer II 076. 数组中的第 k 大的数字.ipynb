{
 "cells": [
  {
   "cell_type": "code",
   "execution_count": 11,
   "metadata": {},
   "outputs": [
    {
     "data": {
      "text/plain": [
       "1"
      ]
     },
     "execution_count": 11,
     "metadata": {},
     "output_type": "execute_result"
    }
   ],
   "source": [
    "from typing import List\n",
    "\n",
    "\n",
    "class Solution:\n",
    "\n",
    "    def findKthLargest(self, nums: List[int], k: int) -> int:\n",
    "\n",
    "        def getPivot(si, ei):\n",
    "            mark = si\n",
    "            for i in range(si + 1, ei + 1):\n",
    "                if nums[i] < nums[si]:\n",
    "                    mark += 1\n",
    "                    nums[i], nums[mark] = nums[mark], nums[i]\n",
    "            nums[mark], nums[si] = nums[si], nums[mark]\n",
    "            return mark\n",
    "\n",
    "        def dc(si, ei):\n",
    "            pivot = getPivot(si, ei)\n",
    "            if pivot > len(nums) - k:\n",
    "                return dc(si, pivot - 1)\n",
    "            elif pivot < len(nums) - k:\n",
    "                return dc(pivot + 1, ei)\n",
    "            else:\n",
    "                return nums[pivot]\n",
    "\n",
    "        return dc(0, len(nums) - 1)\n",
    "\n",
    "\n",
    "s = Solution()\n",
    "s.findKthLargest([3, 2, 1, 5, 6, 4], 2)\n",
    "# s.findKthLargest([3,2,3,1,2,4,5,5,6],4)\n",
    "s.findKthLargest([1,1,1,1,2],3)"
   ]
  },
  {
   "cell_type": "code",
   "execution_count": 9,
   "metadata": {},
   "outputs": [
    {
     "data": {
      "text/plain": [
       "1"
      ]
     },
     "execution_count": 9,
     "metadata": {},
     "output_type": "execute_result"
    }
   ],
   "source": [
    "from typing import List\n",
    "import heapq\n",
    "\n",
    "\n",
    "class Solution:\n",
    "\n",
    "    def findKthLargest(self, nums: List[int], k: int) -> int:\n",
    "        nums = [-n for n in nums]\n",
    "        heapq.heapify(nums)\n",
    "        for _ in range(k - 1):\n",
    "            heapq.heappop(nums)\n",
    "        return -heapq.heappop(nums)\n",
    "\n",
    "\n",
    "s = Solution()\n",
    "s.findKthLargest([3, 2, 1, 5, 6, 4], 2)\n",
    "# s.findKthLargest([3,2,3,1,2,4,5,5,6],4)\n",
    "s.findKthLargest([1, 1, 1, 1, 2], 3)\n"
   ]
  },
  {
   "cell_type": "code",
   "execution_count": 11,
   "metadata": {},
   "outputs": [
    {
     "data": {
      "text/plain": [
       "5"
      ]
     },
     "execution_count": 11,
     "metadata": {},
     "output_type": "execute_result"
    }
   ],
   "source": [
    "from typing import List\n",
    "import heapq\n",
    "\n",
    "\n",
    "class Solution:\n",
    "\n",
    "    def findKthLargest(self, nums: List[int], k: int) -> int:\n",
    "        pq = []\n",
    "        for n in nums:\n",
    "            heapq.heappush(pq, n)\n",
    "            if len(pq) > k:\n",
    "                heapq.heappop(pq)\n",
    "        return heapq.heappop(pq)\n",
    "\n",
    "\n",
    "s = Solution()\n",
    "s.findKthLargest([3, 2, 1, 5, 6, 4], 2)\n",
    "# s.findKthLargest([3,2,3,1,2,4,5,5,6],4)\n",
    "# s.findKthLargest([1, 1, 1, 1, 2], 3)\n"
   ]
  },
  {
   "cell_type": "code",
   "execution_count": 13,
   "metadata": {},
   "outputs": [
    {
     "data": {
      "text/plain": [
       "1"
      ]
     },
     "execution_count": 13,
     "metadata": {},
     "output_type": "execute_result"
    }
   ],
   "source": [
    "from typing import List\n",
    "import heapq\n",
    "\n",
    "\n",
    "class Solution:\n",
    "\n",
    "    def findKthLargest(self, nums: List[int], k: int) -> int:\n",
    "        pq = []\n",
    "        for i in range(k):\n",
    "            heapq.heappush(pq, nums[i])\n",
    "        for i in range(k, len(nums)):\n",
    "            if nums[i] > pq[0]:\n",
    "                heapq.heappop(pq)\n",
    "                heapq.heappush(pq, nums[i])\n",
    "        return heapq.heappop(pq)\n",
    "\n",
    "\n",
    "s = Solution()\n",
    "s.findKthLargest([3, 2, 1, 5, 6, 4], 2)\n",
    "# s.findKthLargest([3,2,3,1,2,4,5,5,6],4)\n",
    "s.findKthLargest([1, 1, 1, 1, 2], 3)\n"
   ]
  },
  {
   "cell_type": "code",
   "execution_count": null,
   "metadata": {},
   "outputs": [],
   "source": []
  }
 ],
 "metadata": {
  "interpreter": {
   "hash": "97367d2de1780ea7c502b529f25888c1b53c0430a7611816b6c7cf19d8435228"
  },
  "kernelspec": {
   "display_name": "Python 3.10.4 64-bit (windows store)",
   "language": "python",
   "name": "python3"
  },
  "language_info": {
   "codemirror_mode": {
    "name": "ipython",
    "version": 3
   },
   "file_extension": ".py",
   "mimetype": "text/x-python",
   "name": "python",
   "nbconvert_exporter": "python",
   "pygments_lexer": "ipython3",
   "version": "3.10.4"
  },
  "orig_nbformat": 4
 },
 "nbformat": 4,
 "nbformat_minor": 2
}
