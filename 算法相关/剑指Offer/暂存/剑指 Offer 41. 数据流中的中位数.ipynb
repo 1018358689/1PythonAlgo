{
 "cells": [
  {
   "cell_type": "code",
   "execution_count": null,
   "metadata": {},
   "outputs": [],
   "source": [
    "import heapq\n",
    "\n",
    "\n",
    "class MedianFinder:\n",
    "\n",
    "    def __init__(self):\n",
    "        \"\"\"\n",
    "        initialize your data structure here.\n",
    "        \"\"\"\n",
    "        self.smallHeap = []\n",
    "        self.bigHeap = []\n",
    "        self.cnt = 0\n",
    "\n",
    "    def addNum(self, num: int) -> None:\n",
    "        heapq.heappush(self.smallHeap, num)\n",
    "        heapq.heappush(self.bigHeap, -heapq.heappop(self.smallHeap))\n",
    "        if len(self.bigHeap) - len(self.smallHeap) > 1:\n",
    "            heapq.heappush(self.smallHeap, -heapq.heappop(self.bigHeap))\n",
    "        self.cnt += 1\n",
    "\n",
    "    def findMedian(self) -> float:\n",
    "        if self.cnt & 1 == 1:\n",
    "            return -self.bigHeap[0]\n",
    "        return (self.smallHeap[0] - self.bigHeap[0]) / 2\n",
    "\n",
    "\n",
    "# Your MedianFinder object will be instantiated and called as such:\n",
    "# obj = MedianFinder()\n",
    "# obj.addNum(num)\n",
    "# param_2 = obj.findMedian()"
   ]
  }
 ],
 "metadata": {
  "language_info": {
   "name": "python"
  },
  "orig_nbformat": 4
 },
 "nbformat": 4,
 "nbformat_minor": 2
}
