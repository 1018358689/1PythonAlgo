{
 "cells": [
  {
   "cell_type": "code",
   "execution_count": 2,
   "metadata": {},
   "outputs": [
    {
     "data": {
      "text/plain": [
       "1"
      ]
     },
     "execution_count": 2,
     "metadata": {},
     "output_type": "execute_result"
    }
   ],
   "source": [
    "from typing import List\n",
    "\n",
    "\n",
    "class Solution:\n",
    "\n",
    "    def majorityElement(self, nums: List[int]) -> int:\n",
    "\n",
    "        def getPivot(si, ei):\n",
    "            mark = si\n",
    "            for i in range(si + 1, ei + 1):\n",
    "                if nums[i] < nums[si]:\n",
    "                    mark += 1\n",
    "                    nums[i], nums[mark] = nums[mark], nums[i]\n",
    "            nums[mark], nums[si] = nums[si], nums[mark]\n",
    "            return mark\n",
    "\n",
    "        mi = len(nums) // 2\n",
    "\n",
    "        def dc(si, ei):\n",
    "            pivot = getPivot(si, ei)\n",
    "            if pivot > mi:\n",
    "                return dc(si, pivot - 1)\n",
    "            elif pivot < mi:\n",
    "                return dc(pivot + 1, ei)\n",
    "            return nums[pivot]\n",
    "\n",
    "        return dc(0, len(nums) - 1)\n",
    "\n",
    "\n",
    "s = Solution()\n",
    "s.majorityElement([1, 2, 3, 2, 2, 2, 5, 4, 2])\n",
    "s.majorityElement([1, 1, 1, 1, 1])\n"
   ]
  },
  {
   "cell_type": "code",
   "execution_count": 1,
   "metadata": {},
   "outputs": [],
   "source": [
    "from typing import List\n",
    "\n",
    "\n",
    "class Solution:\n",
    "\n",
    "    def majorityElement(self, nums: List[int]) -> int:\n",
    "        nums.sort()\n",
    "        return nums[len(nums) // 2]\n"
   ]
  }
 ],
 "metadata": {
  "interpreter": {
   "hash": "aee8b7b246df8f9039afb4144a1f6fd8d2ca17a180786b69acc140d282b71a49"
  },
  "kernelspec": {
   "display_name": "Python 3.10.2 64-bit",
   "language": "python",
   "name": "python3"
  },
  "language_info": {
   "codemirror_mode": {
    "name": "ipython",
    "version": 3
   },
   "file_extension": ".py",
   "mimetype": "text/x-python",
   "name": "python",
   "nbconvert_exporter": "python",
   "pygments_lexer": "ipython3",
   "version": "3.10.2"
  },
  "orig_nbformat": 4
 },
 "nbformat": 4,
 "nbformat_minor": 2
}
