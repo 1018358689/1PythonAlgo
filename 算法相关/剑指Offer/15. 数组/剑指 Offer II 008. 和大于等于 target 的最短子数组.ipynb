{
 "cells": [
  {
   "cell_type": "code",
   "execution_count": 1,
   "metadata": {},
   "outputs": [
    {
     "data": {
      "text/plain": [
       "2"
      ]
     },
     "execution_count": 1,
     "metadata": {},
     "output_type": "execute_result"
    }
   ],
   "source": [
    "from typing import List\n",
    "\n",
    "\n",
    "class Solution:\n",
    "\n",
    "    def minSubArrayLen(self, target: int, nums: List[int]) -> int:\n",
    "        ans = float('inf')\n",
    "        l = 0\n",
    "        s = 0\n",
    "        for r in range(len(nums)):\n",
    "            s += nums[r]\n",
    "            while s >= target:\n",
    "                ans = min(ans, r - l + 1)\n",
    "                s -= nums[l]\n",
    "                l += 1\n",
    "        return ans if ans != float('inf') else 0\n",
    "\n",
    "\n",
    "s = Solution()\n",
    "s.minSubArrayLen(7, [2, 3, 1, 2, 4, 3])\n"
   ]
  },
  {
   "cell_type": "code",
   "execution_count": null,
   "metadata": {},
   "outputs": [],
   "source": [
    "from typing import List\n",
    "\n",
    "\n",
    "class Solution:\n",
    "\n",
    "    def search(self, nums, target):  # >=target\n",
    "        l, r = 0, len(nums) - 1\n",
    "        while l <= r:\n",
    "            m = l + r >> 1\n",
    "            if nums[m] >= target:\n",
    "                r = m - 1\n",
    "            else:\n",
    "                l = m + 1\n",
    "        return l if l < len(nums) else -1\n",
    "\n",
    "    def minSubArrayLen(self, target: int, nums: List[int]) -> int:\n",
    "        ans = float('inf')\n",
    "        preSum = [0] * (len(nums) + 1)\n",
    "        for i in range(len(nums)):\n",
    "            preSum[i + 1] = preSum[i] + nums[i]\n",
    "        for i in range(len(nums)):\n",
    "            j = self.search(preSum, preSum[i] + target)\n",
    "            if j != -1:\n",
    "                ans = min(ans, j - i)\n",
    "        return ans if ans != float('inf') else 0\n"
   ]
  }
 ],
 "metadata": {
  "kernelspec": {
   "display_name": "Python 3.10.5 64-bit (windows store)",
   "language": "python",
   "name": "python3"
  },
  "language_info": {
   "codemirror_mode": {
    "name": "ipython",
    "version": 3
   },
   "file_extension": ".py",
   "mimetype": "text/x-python",
   "name": "python",
   "nbconvert_exporter": "python",
   "pygments_lexer": "ipython3",
   "version": "3.10.5"
  },
  "orig_nbformat": 4,
  "vscode": {
   "interpreter": {
    "hash": "97367d2de1780ea7c502b529f25888c1b53c0430a7611816b6c7cf19d8435228"
   }
  }
 },
 "nbformat": 4,
 "nbformat_minor": 2
}
