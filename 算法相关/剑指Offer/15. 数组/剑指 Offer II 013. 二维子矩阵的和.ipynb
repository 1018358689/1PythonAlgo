{
 "cells": [
  {
   "cell_type": "code",
   "execution_count": null,
   "metadata": {},
   "outputs": [],
   "source": [
    "from typing import List\n",
    "\n",
    "\n",
    "class NumMatrix:\n",
    "\n",
    "    def __init__(self, matrix: List[List[int]]):\n",
    "        rows, cols = len(matrix), len(matrix[0])\n",
    "        preSum = [[0] * (cols + 1) for _ in range(rows + 1)]\n",
    "        for r in range(rows):\n",
    "            for c in range(cols):\n",
    "                preSum[r + 1][c + 1] = preSum[r][c + 1] + preSum[r + 1][c] - preSum[r][c] + matrix[r][c]\n",
    "        self.preSum = preSum\n",
    "\n",
    "    def sumRegion(self, row1: int, col1: int, row2: int, col2: int) -> int:\n",
    "        return self.preSum[row2 + 1][col2 + 1] - (self.preSum[row1][col2 + 1] + self.preSum[row2 + 1][col1] - self.preSum[row1][col1])\n",
    "\n",
    "\n",
    "# Your NumMatrix object will be instantiated and called as such:\n",
    "# obj = NumMatrix(matrix)\n",
    "# param_1 = obj.sumRegion(row1,col1,row2,col2)"
   ]
  }
 ],
 "metadata": {
  "language_info": {
   "name": "python"
  },
  "orig_nbformat": 4
 },
 "nbformat": 4,
 "nbformat_minor": 2
}
