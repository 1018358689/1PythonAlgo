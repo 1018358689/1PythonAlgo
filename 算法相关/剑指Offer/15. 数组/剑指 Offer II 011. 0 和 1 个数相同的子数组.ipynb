{
 "cells": [
  {
   "cell_type": "code",
   "execution_count": 29,
   "metadata": {},
   "outputs": [
    {
     "name": "stdout",
     "output_type": "stream",
     "text": [
      "-1 None\n",
      "-2 None\n",
      "-1 0\n"
     ]
    },
    {
     "data": {
      "text/plain": [
       "2"
      ]
     },
     "execution_count": 29,
     "metadata": {},
     "output_type": "execute_result"
    }
   ],
   "source": [
    "from typing import List\n",
    "# 转换题目成和为k的子数组最大长度 类似offer2:10\n",
    "\n",
    "\n",
    "class Solution:\n",
    "\n",
    "    def findMaxLength(self, nums: List[int]) -> int:\n",
    "        # 将0变成-1 求和为0的最长子数组长度\n",
    "        ha = {0: -1}  # 存和及位置\n",
    "        ans = 0\n",
    "        s = 0\n",
    "        for r in range(len(nums)):\n",
    "            s += nums[r] if nums[r] == 1 else -1\n",
    "            target = s\n",
    "            l = ha.get(target)\n",
    "            if l is not None:\n",
    "                ans = max(ans, r - l)\n",
    "            # ha[s] = min(ha.get(s, float('inf')), r)\n",
    "            ha[s] = ha.get(s, r)\n",
    "        return ans\n",
    "\n",
    "\n",
    "s = Solution()\n",
    "# s.findMaxLength([0, 1, 0, 1])\n",
    "s.findMaxLength([0, 0, 1])\n"
   ]
  },
  {
   "cell_type": "code",
   "execution_count": null,
   "metadata": {},
   "outputs": [],
   "source": []
  }
 ],
 "metadata": {
  "kernelspec": {
   "display_name": "Python 3.10.5 64-bit (windows store)",
   "language": "python",
   "name": "python3"
  },
  "language_info": {
   "codemirror_mode": {
    "name": "ipython",
    "version": 3
   },
   "file_extension": ".py",
   "mimetype": "text/x-python",
   "name": "python",
   "nbconvert_exporter": "python",
   "pygments_lexer": "ipython3",
   "version": "3.10.5"
  },
  "orig_nbformat": 4,
  "vscode": {
   "interpreter": {
    "hash": "97367d2de1780ea7c502b529f25888c1b53c0430a7611816b6c7cf19d8435228"
   }
  }
 },
 "nbformat": 4,
 "nbformat_minor": 2
}
