{
 "cells": [
  {
   "cell_type": "code",
   "execution_count": 3,
   "metadata": {},
   "outputs": [
    {
     "data": {
      "text/plain": [
       "-1"
      ]
     },
     "execution_count": 3,
     "metadata": {},
     "output_type": "execute_result"
    }
   ],
   "source": [
    "from typing import List\n",
    "\n",
    "\n",
    "class Solution:\n",
    "\n",
    "    def pivotIndex(self, nums: List[int]) -> int:\n",
    "        lgh = len(nums)\n",
    "        preSum = [0] * (lgh + 1)\n",
    "        sufSum = [0] * (lgh + 1)\n",
    "        for i in range(lgh):\n",
    "            preSum[i + 1] = preSum[i] + nums[i]\n",
    "            sufSum[lgh - 2 - i] = sufSum[lgh - 1 - i] + nums[lgh - 1 - i]\n",
    "        for i in range(lgh):\n",
    "            if preSum[i] == sufSum[i]:\n",
    "                return i\n",
    "        return -1\n",
    "\n",
    "\n",
    "s = Solution()\n",
    "s.pivotIndex([1, 7, 3, 6, 5, 6])\n",
    "s.pivotIndex([-1, 1])\n"
   ]
  },
  {
   "cell_type": "code",
   "execution_count": 5,
   "metadata": {},
   "outputs": [
    {
     "data": {
      "text/plain": [
       "-1"
      ]
     },
     "execution_count": 5,
     "metadata": {},
     "output_type": "execute_result"
    }
   ],
   "source": [
    "from typing import List\n",
    "\n",
    "\n",
    "class Solution:\n",
    "\n",
    "    def pivotIndex(self, nums: List[int]) -> int:\n",
    "        lgh = len(nums)\n",
    "        preSum = [0] * (lgh + 1)\n",
    "        totalSum = sum(nums)\n",
    "        for i in range(lgh):\n",
    "            preSum[i + 1] = preSum[i] + nums[i]\n",
    "        for i in range(lgh):\n",
    "            if preSum[i] == totalSum - nums[i] - preSum[i]:\n",
    "                return i\n",
    "        return -1\n",
    "\n",
    "\n",
    "s = Solution()\n",
    "s.pivotIndex([1, 7, 3, 6, 5, 6])\n",
    "s.pivotIndex([-1, 1])\n"
   ]
  },
  {
   "cell_type": "code",
   "execution_count": 7,
   "metadata": {},
   "outputs": [
    {
     "data": {
      "text/plain": [
       "3"
      ]
     },
     "execution_count": 7,
     "metadata": {},
     "output_type": "execute_result"
    }
   ],
   "source": [
    "from typing import List\n",
    "\n",
    "\n",
    "class Solution:\n",
    "\n",
    "    def pivotIndex(self, nums: List[int]) -> int:\n",
    "        lgh = len(nums)\n",
    "        preSum = 0\n",
    "        totalSum = sum(nums)\n",
    "        for i in range(lgh):\n",
    "            if preSum == totalSum - nums[i] - preSum:\n",
    "                return i\n",
    "            preSum += nums[i]\n",
    "        return -1\n",
    "\n",
    "\n",
    "s = Solution()\n",
    "s.pivotIndex([1, 7, 3, 6, 5, 6])\n",
    "# s.pivotIndex([-1, 1])\n"
   ]
  },
  {
   "cell_type": "code",
   "execution_count": null,
   "metadata": {},
   "outputs": [],
   "source": []
  }
 ],
 "metadata": {
  "kernelspec": {
   "display_name": "Python 3.10.5 64-bit (windows store)",
   "language": "python",
   "name": "python3"
  },
  "language_info": {
   "codemirror_mode": {
    "name": "ipython",
    "version": 3
   },
   "file_extension": ".py",
   "mimetype": "text/x-python",
   "name": "python",
   "nbconvert_exporter": "python",
   "pygments_lexer": "ipython3",
   "version": "3.10.5"
  },
  "orig_nbformat": 4,
  "vscode": {
   "interpreter": {
    "hash": "97367d2de1780ea7c502b529f25888c1b53c0430a7611816b6c7cf19d8435228"
   }
  }
 },
 "nbformat": 4,
 "nbformat_minor": 2
}
