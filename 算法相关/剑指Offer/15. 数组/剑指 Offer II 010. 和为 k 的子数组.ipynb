{
 "cells": [
  {
   "cell_type": "code",
   "execution_count": 2,
   "metadata": {},
   "outputs": [
    {
     "data": {
      "text/plain": [
       "2"
      ]
     },
     "execution_count": 2,
     "metadata": {},
     "output_type": "execute_result"
    }
   ],
   "source": [
    "from typing import List\n",
    "\n",
    "\n",
    "class Solution:\n",
    "\n",
    "    def subarraySum(self, nums: List[int], k: int) -> int:\n",
    "        ans = 0\n",
    "        cnt = {0: 1}\n",
    "        s = 0\n",
    "        for n in nums:\n",
    "            s += n\n",
    "            ans += cnt.get(s - k, 0)\n",
    "            cnt[s] = cnt.get(s, 0) + 1\n",
    "        return ans\n",
    "\n",
    "\n",
    "s = Solution()\n",
    "s.subarraySum([1, 2, 3], 3)\n"
   ]
  },
  {
   "cell_type": "code",
   "execution_count": null,
   "metadata": {},
   "outputs": [],
   "source": []
  }
 ],
 "metadata": {
  "kernelspec": {
   "display_name": "Python 3.10.5 64-bit (windows store)",
   "language": "python",
   "name": "python3"
  },
  "language_info": {
   "codemirror_mode": {
    "name": "ipython",
    "version": 3
   },
   "file_extension": ".py",
   "mimetype": "text/x-python",
   "name": "python",
   "nbconvert_exporter": "python",
   "pygments_lexer": "ipython3",
   "version": "3.10.5"
  },
  "orig_nbformat": 4,
  "vscode": {
   "interpreter": {
    "hash": "97367d2de1780ea7c502b529f25888c1b53c0430a7611816b6c7cf19d8435228"
   }
  }
 },
 "nbformat": 4,
 "nbformat_minor": 2
}
