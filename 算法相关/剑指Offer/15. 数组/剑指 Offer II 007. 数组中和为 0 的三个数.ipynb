{
 "cells": [
  {
   "cell_type": "code",
   "execution_count": 5,
   "metadata": {},
   "outputs": [
    {
     "data": {
      "text/plain": [
       "[[-1, -1, 2], [-1, 0, 1]]"
      ]
     },
     "execution_count": 5,
     "metadata": {},
     "output_type": "execute_result"
    }
   ],
   "source": [
    "from typing import List\n",
    "\n",
    "\n",
    "class Solution:\n",
    "\n",
    "    def threeSum(self, nums: List[int]) -> List[List[int]]:\n",
    "        nums.sort()\n",
    "        ans = []\n",
    "        for i in range(len(nums) - 2):\n",
    "            a = nums[i]\n",
    "            if a > 0:\n",
    "                break\n",
    "            if i > 0 and nums[i] == nums[i - 1]:\n",
    "                continue\n",
    "            l, r = i + 1, len(nums) - 1\n",
    "            while l < r:\n",
    "                b = nums[l]\n",
    "                c = nums[r]\n",
    "                s = a + b + c\n",
    "                if s > 0:\n",
    "                    r -= 1\n",
    "                    while l < r and nums[r] == c:\n",
    "                        r -= 1\n",
    "                elif s < 0:\n",
    "                    l += 1\n",
    "                    while l < r and nums[l] == b:\n",
    "                        l += 1\n",
    "                else:\n",
    "                    ans.append([a, b, c])\n",
    "                    l += 1\n",
    "                    r -= 1\n",
    "                    while l < r and nums[r] == c:\n",
    "                        r -= 1\n",
    "                    while l < r and nums[l] == b:\n",
    "                        l += 1\n",
    "        return ans\n",
    "\n",
    "\n",
    "s = Solution()\n",
    "s.threeSum([-1, 0, 1, 2, -1, -4])\n"
   ]
  },
  {
   "cell_type": "code",
   "execution_count": null,
   "metadata": {},
   "outputs": [],
   "source": []
  }
 ],
 "metadata": {
  "kernelspec": {
   "display_name": "Python 3.10.5 64-bit (windows store)",
   "language": "python",
   "name": "python3"
  },
  "language_info": {
   "codemirror_mode": {
    "name": "ipython",
    "version": 3
   },
   "file_extension": ".py",
   "mimetype": "text/x-python",
   "name": "python",
   "nbconvert_exporter": "python",
   "pygments_lexer": "ipython3",
   "version": "3.10.5"
  },
  "orig_nbformat": 4,
  "vscode": {
   "interpreter": {
    "hash": "97367d2de1780ea7c502b529f25888c1b53c0430a7611816b6c7cf19d8435228"
   }
  }
 },
 "nbformat": 4,
 "nbformat_minor": 2
}
