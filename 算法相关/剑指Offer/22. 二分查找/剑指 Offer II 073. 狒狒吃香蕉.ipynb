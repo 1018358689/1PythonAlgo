{
 "cells": [
  {
   "cell_type": "code",
   "execution_count": 1,
   "metadata": {},
   "outputs": [
    {
     "data": {
      "text/plain": [
       "23"
      ]
     },
     "execution_count": 1,
     "metadata": {},
     "output_type": "execute_result"
    }
   ],
   "source": [
    "from typing import List\n",
    "from math import ceil\n",
    "\n",
    "\n",
    "class Solution:\n",
    "\n",
    "    def minEatingSpeed(self, piles: List[int], h: int) -> int:\n",
    "\n",
    "        def k2h(k):  # k-h函数  递减函数\n",
    "            ans = 0\n",
    "            for p in piles:\n",
    "                if k >= p:\n",
    "                    ans += 1\n",
    "                else:\n",
    "                    ans += ceil(p / k)\n",
    "            return ans\n",
    "\n",
    "        l, r = 1, max(piles)\n",
    "        while l <= r:\n",
    "            m = l + r >> 1\n",
    "            if k2h(m) <= h:\n",
    "                r = m - 1\n",
    "            else:\n",
    "                l = m + 1\n",
    "        return l\n",
    "\n",
    "\n",
    "s = Solution()\n",
    "s.minEatingSpeed([30, 11, 23, 4, 20], 6)\n"
   ]
  },
  {
   "cell_type": "code",
   "execution_count": 2,
   "metadata": {},
   "outputs": [
    {
     "data": {
      "text/plain": [
       "23"
      ]
     },
     "execution_count": 2,
     "metadata": {},
     "output_type": "execute_result"
    }
   ],
   "source": [
    "from typing import List\n",
    "from math import ceil\n",
    "\n",
    "\n",
    "class Solution:\n",
    "\n",
    "    def minEatingSpeed(self, piles: List[int], h: int) -> int:\n",
    "\n",
    "        def k2h(k):  # k-h函数  递减函数 能否h小时内吃完\n",
    "            ans = 0\n",
    "            for p in piles:\n",
    "                if k >= p:\n",
    "                    ans += 1\n",
    "                else:\n",
    "                    ans += ceil(p / k)\n",
    "                if ans > h:\n",
    "                    return False\n",
    "            return True\n",
    "\n",
    "        l, r = 1, max(piles)\n",
    "        while l <= r:\n",
    "            m = l + r >> 1\n",
    "            if k2h(m):\n",
    "                r = m - 1\n",
    "            else:\n",
    "                l = m + 1\n",
    "        return l  # 左段不能h小时吃完 右段可以h小时吃完\n",
    "\n",
    "\n",
    "s = Solution()\n",
    "s.minEatingSpeed([30, 11, 23, 4, 20], 6)\n"
   ]
  },
  {
   "cell_type": "code",
   "execution_count": null,
   "metadata": {},
   "outputs": [],
   "source": [
    "# 大大提速\n",
    "from math import ceil\n",
    "class Solution:\n",
    "    def minEatingSpeed(self, piles: list[int], h: int) -> int:\n",
    "        # piles.sort(reverse=True)\n",
    "        if h == len(piles): #香蕉的堆数刚好等于时间数，直接返回最大堆的香蕉数\n",
    "            return max(piles)\n",
    "        s = sum(piles)\n",
    "        l, r = ceil(s/h), min(max(piles),s//(h-len(piles)))\n",
    "\n",
    "        def k2h(k):  # k-h函数  递减函数 能否h小时内吃完\n",
    "            ans = 0\n",
    "            for p in piles:\n",
    "                if k >= p:\n",
    "                    ans += 1\n",
    "                else:\n",
    "                    ans += ceil(p / k)\n",
    "                if ans > h:\n",
    "                    return False\n",
    "            return True\n",
    "\n",
    "        while l <= r:\n",
    "            m = l + r >> 1\n",
    "            if k2h(m):\n",
    "                r = m - 1\n",
    "            else:\n",
    "                l = m + 1\n",
    "        return l  # 左段不能h小时吃完 右段可以h小时吃完"
   ]
  }
 ],
 "metadata": {
  "kernelspec": {
   "display_name": "Python 3.10.5 64-bit (windows store)",
   "language": "python",
   "name": "python3"
  },
  "language_info": {
   "codemirror_mode": {
    "name": "ipython",
    "version": 3
   },
   "file_extension": ".py",
   "mimetype": "text/x-python",
   "name": "python",
   "nbconvert_exporter": "python",
   "pygments_lexer": "ipython3",
   "version": "3.10.5"
  },
  "orig_nbformat": 4,
  "vscode": {
   "interpreter": {
    "hash": "97367d2de1780ea7c502b529f25888c1b53c0430a7611816b6c7cf19d8435228"
   }
  }
 },
 "nbformat": 4,
 "nbformat_minor": 2
}
