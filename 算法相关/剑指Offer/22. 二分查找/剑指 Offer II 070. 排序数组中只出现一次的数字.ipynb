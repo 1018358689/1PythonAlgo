{
 "cells": [
  {
   "cell_type": "code",
   "execution_count": 6,
   "metadata": {},
   "outputs": [
    {
     "data": {
      "text/plain": [
       "12"
      ]
     },
     "execution_count": 6,
     "metadata": {},
     "output_type": "execute_result"
    }
   ],
   "source": [
    "from typing import List\n",
    "\n",
    "\n",
    "class Solution:\n",
    "\n",
    "    def singleNonDuplicate(self, nums: List[int]) -> int:\n",
    "        l, r = 0, len(nums) - 1\n",
    "        # 长度必然奇数 最后一个索引必然偶数\n",
    "        while l <= r:\n",
    "            m = l + r >> 1\n",
    "            # 找到target左边的特点 使得分成两段\n",
    "            if (m & 1 and nums[m] == nums[m - 1]) or (not m & 1 and m < len(nums) - 1 and nums[m] == nums[m + 1]):\n",
    "                l = m + 1\n",
    "            else:\n",
    "                r = m - 1\n",
    "        return nums[l]\n",
    "\n",
    "\n",
    "s = Solution()\n",
    "s.singleNonDuplicate([3, 3, 7, 7, 11, 11, 12])\n"
   ]
  },
  {
   "cell_type": "code",
   "execution_count": null,
   "metadata": {},
   "outputs": [],
   "source": []
  }
 ],
 "metadata": {
  "kernelspec": {
   "display_name": "Python 3.10.5 64-bit (windows store)",
   "language": "python",
   "name": "python3"
  },
  "language_info": {
   "codemirror_mode": {
    "name": "ipython",
    "version": 3
   },
   "file_extension": ".py",
   "mimetype": "text/x-python",
   "name": "python",
   "nbconvert_exporter": "python",
   "pygments_lexer": "ipython3",
   "version": "3.10.5"
  },
  "orig_nbformat": 4,
  "vscode": {
   "interpreter": {
    "hash": "97367d2de1780ea7c502b529f25888c1b53c0430a7611816b6c7cf19d8435228"
   }
  }
 },
 "nbformat": 4,
 "nbformat_minor": 2
}
