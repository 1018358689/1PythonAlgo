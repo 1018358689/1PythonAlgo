{
 "cells": [
  {
   "cell_type": "code",
   "execution_count": null,
   "metadata": {},
   "outputs": [],
   "source": [
    "from typing import List\n",
    "from random import randint\n",
    "\n",
    "\n",
    "class Solution:\n",
    "\n",
    "    def __init__(self, w: List[int]):\n",
    "        self.ps = [0] * len(w)\n",
    "        self.ps[0] = w[0]\n",
    "        for i in range(1, len(w)):\n",
    "            self.ps[i] = self.ps[i - 1] + w[i]\n",
    "\n",
    "    def pickIndex(self) -> int:\n",
    "        target = randint(1, self.ps[-1])\n",
    "        # 二分查找所属索引\n",
    "        l, r = 0, len(self.ps) - 1\n",
    "        while l <= r:\n",
    "            m = l + r >> 1\n",
    "            if self.ps[m] >= target:\n",
    "                r = m - 1\n",
    "            else:\n",
    "                l = m + 1\n",
    "        return l\n",
    "\n",
    "\n",
    "# Your Solution object will be instantiated and called as such:\n",
    "# obj = Solution(w)\n",
    "# param_1 = obj.pickIndex()"
   ]
  }
 ],
 "metadata": {
  "language_info": {
   "name": "python"
  },
  "orig_nbformat": 4
 },
 "nbformat": 4,
 "nbformat_minor": 2
}
