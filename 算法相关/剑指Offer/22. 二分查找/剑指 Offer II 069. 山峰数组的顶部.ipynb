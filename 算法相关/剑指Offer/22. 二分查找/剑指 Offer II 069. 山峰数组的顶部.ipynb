{
 "cells": [
  {
   "cell_type": "code",
   "execution_count": 4,
   "metadata": {},
   "outputs": [
    {
     "data": {
      "text/plain": [
       "2"
      ]
     },
     "execution_count": 4,
     "metadata": {},
     "output_type": "execute_result"
    }
   ],
   "source": [
    "from typing import List\n",
    "\n",
    "\n",
    "class Solution:\n",
    "\n",
    "    def peakIndexInMountainArray(self, arr: List[int]) -> int:\n",
    "        l, r = 1, len(arr) - 2\n",
    "        while l <= r:\n",
    "            m = l + r >> 1\n",
    "            if arr[m] > arr[m + 1]:  # 峰顶右侧满足\n",
    "                r = m - 1\n",
    "            else:\n",
    "                l = m + 1\n",
    "        return l  # 峰顶及右侧 和左侧 形成两端 峰顶在右侧[r,l] 故选l\n",
    "\n",
    "\n",
    "s = Solution()\n",
    "s.peakIndexInMountainArray([1, 3, 5, 4, 2])\n"
   ]
  },
  {
   "cell_type": "code",
   "execution_count": null,
   "metadata": {},
   "outputs": [],
   "source": []
  }
 ],
 "metadata": {
  "kernelspec": {
   "display_name": "Python 3.10.5 64-bit (windows store)",
   "language": "python",
   "name": "python3"
  },
  "language_info": {
   "codemirror_mode": {
    "name": "ipython",
    "version": 3
   },
   "file_extension": ".py",
   "mimetype": "text/x-python",
   "name": "python",
   "nbconvert_exporter": "python",
   "pygments_lexer": "ipython3",
   "version": "3.10.5"
  },
  "orig_nbformat": 4,
  "vscode": {
   "interpreter": {
    "hash": "97367d2de1780ea7c502b529f25888c1b53c0430a7611816b6c7cf19d8435228"
   }
  }
 },
 "nbformat": 4,
 "nbformat_minor": 2
}
