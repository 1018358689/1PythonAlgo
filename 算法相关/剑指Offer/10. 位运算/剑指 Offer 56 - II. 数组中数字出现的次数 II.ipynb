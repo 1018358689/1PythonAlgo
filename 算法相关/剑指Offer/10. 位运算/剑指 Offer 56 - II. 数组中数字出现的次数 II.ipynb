{
 "cells": [
  {
   "cell_type": "code",
   "execution_count": 2,
   "metadata": {},
   "outputs": [
    {
     "data": {
      "text/plain": [
       "4"
      ]
     },
     "execution_count": 2,
     "metadata": {},
     "output_type": "execute_result"
    }
   ],
   "source": [
    "from typing import List\n",
    "\n",
    "\n",
    "class Solution:\n",
    "\n",
    "    def singleNumber(self, nums: List[int]) -> int:\n",
    "        return sum(list(set(nums)) * 3) - sum(nums) >> 1\n",
    "\n",
    "\n",
    "s = Solution()\n",
    "s.singleNumber([3, 4, 3, 3])\n"
   ]
  },
  {
   "cell_type": "markdown",
   "metadata": {},
   "source": [
    "一个容易理解的思路：把数组中所有数字的二进制表示的每一位加起来，如果某一位的和可以被 3 整除，那么那个只出现一次的数字二进制表示中对应的那一位是 0，否则是 1。\n",
    "https://leetcode.cn/problems/shu-zu-zhong-shu-zi-chu-xian-de-ci-shu-ii-lcof/solution/mian-shi-ti-56-ii-shu-zu-zhong-shu-zi-chu-xian-d-4/"
   ]
  },
  {
   "cell_type": "code",
   "execution_count": 10,
   "metadata": {},
   "outputs": [
    {
     "data": {
      "text/plain": [
       "(4, 1)"
      ]
     },
     "execution_count": 10,
     "metadata": {},
     "output_type": "execute_result"
    }
   ],
   "source": [
    "from typing import List\n",
    "\n",
    "\n",
    "class Solution:\n",
    "\n",
    "    def singleNumber(self, nums: List[int]) -> int:\n",
    "        countArr = [0] * 32  # 第0-31位出现1个数\n",
    "        for n in nums:\n",
    "            for p in range(32):\n",
    "                countArr[p] += n & 1\n",
    "                n >>= 1\n",
    "        # print(countArr)\n",
    "        res = 0\n",
    "        for i, cnt in enumerate(countArr):\n",
    "            if cnt % 3 == 1:\n",
    "                res |= 1 << i\n",
    "        return res\n",
    "\n",
    "\n",
    "s = Solution()\n",
    "s.singleNumber([3, 4, 3, 3]), s.singleNumber([9, 1, 7, 9, 7, 9, 7])\n"
   ]
  },
  {
   "cell_type": "code",
   "execution_count": 8,
   "metadata": {},
   "outputs": [
    {
     "data": {
      "text/plain": [
       "('0b11', '0b100')"
      ]
     },
     "execution_count": 8,
     "metadata": {},
     "output_type": "execute_result"
    }
   ],
   "source": [
    "bin(3),bin(4)"
   ]
  },
  {
   "cell_type": "code",
   "execution_count": 11,
   "metadata": {},
   "outputs": [
    {
     "data": {
      "text/plain": [
       "(4, 1)"
      ]
     },
     "execution_count": 11,
     "metadata": {},
     "output_type": "execute_result"
    }
   ],
   "source": [
    "from typing import List\n",
    "\n",
    "# https://leetcode.cn/problems/shu-zu-zhong-shu-zi-chu-xian-de-ci-shu-ii-lcof/solution/shu-zu-zhong-chu-xian-1ci-2ci-de-shu-zi-emt54/\n",
    "class Solution:\n",
    "\n",
    "    def singleNumber(self, nums: List[int]) -> int:\n",
    "        res = 0\n",
    "        for i in range(32):\n",
    "            cnt = 0\n",
    "            for n in nums:\n",
    "                cnt += n >> i & 1\n",
    "            if cnt % 3 == 1:\n",
    "                res |= 1 << i\n",
    "        return res\n",
    "\n",
    "\n",
    "s = Solution()\n",
    "s.singleNumber([3, 4, 3, 3]), s.singleNumber([9, 1, 7, 9, 7, 9, 7])\n"
   ]
  },
  {
   "cell_type": "code",
   "execution_count": null,
   "metadata": {},
   "outputs": [],
   "source": []
  }
 ],
 "metadata": {
  "interpreter": {
   "hash": "97367d2de1780ea7c502b529f25888c1b53c0430a7611816b6c7cf19d8435228"
  },
  "kernelspec": {
   "display_name": "Python 3.10.4 64-bit (windows store)",
   "language": "python",
   "name": "python3"
  },
  "language_info": {
   "codemirror_mode": {
    "name": "ipython",
    "version": 3
   },
   "file_extension": ".py",
   "mimetype": "text/x-python",
   "name": "python",
   "nbconvert_exporter": "python",
   "pygments_lexer": "ipython3",
   "version": "3.10.4"
  },
  "orig_nbformat": 4
 },
 "nbformat": 4,
 "nbformat_minor": 2
}
