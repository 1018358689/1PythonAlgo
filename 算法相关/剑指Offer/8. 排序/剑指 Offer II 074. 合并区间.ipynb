{
 "cells": [
  {
   "cell_type": "code",
   "execution_count": null,
   "metadata": {},
   "outputs": [],
   "source": [
    "from typing import List\n",
    "\n",
    "\n",
    "class Solution:\n",
    "    def merge(self, intervals: List[List[int]]) -> List[List[int]]:\n",
    "        def check(l1, l2):\n",
    "            if l1[1] < l2[0] or l1[0] > l2[1]:\n",
    "                return False\n",
    "            return True\n",
    "\n",
    "        def merge(l1, l2):\n",
    "            return [min(l1[0], l2[0]), max(l1[1], l2[1])]\n",
    "\n",
    "        intervals.sort(key=lambda x: x[0])\n",
    "        ans = [intervals[0]]\n",
    "        for i in range(1, len(intervals)):\n",
    "            cur = intervals[i]\n",
    "            last = ans[-1]\n",
    "            if check(last, cur):\n",
    "                ans[-1] = merge(last, cur)\n",
    "            else:\n",
    "                ans.append(cur)\n",
    "        return ans\n"
   ]
  }
 ],
 "metadata": {
  "language_info": {
   "name": "python"
  },
  "orig_nbformat": 4
 },
 "nbformat": 4,
 "nbformat_minor": 2
}
