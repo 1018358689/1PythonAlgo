{
 "cells": [
  {
   "cell_type": "code",
   "execution_count": 10,
   "metadata": {},
   "outputs": [
    {
     "data": {
      "text/plain": [
       "'120'"
      ]
     },
     "execution_count": 10,
     "metadata": {},
     "output_type": "execute_result"
    }
   ],
   "source": [
    "from typing import List\n",
    "\n",
    "\n",
    "class Solution:\n",
    "\n",
    "    def minNumber(self, nums: List[int]) -> str:\n",
    "\n",
    "        def getPivot(si, ei):\n",
    "            pivot = nums[si]\n",
    "            mark = si\n",
    "            for i in range(si + 1, ei + 1):\n",
    "                if nums[i] + pivot < pivot + nums[i]:\n",
    "                    mark += 1\n",
    "                    nums[i], nums[mark] = nums[mark], nums[i]\n",
    "            nums[si], nums[mark] = nums[mark], nums[si]\n",
    "            return mark\n",
    "\n",
    "        def dc(nums, si, ei):\n",
    "            if si >= ei:\n",
    "                return\n",
    "            pivot = getPivot(si, ei)\n",
    "            dc(nums, si, pivot - 1)\n",
    "            dc(nums, pivot + 1, ei)\n",
    "\n",
    "        nums = list(map(str, nums))\n",
    "        dc(nums, 0, len(nums) - 1)\n",
    "        return ''.join(nums)  # .lstrip('0')\n",
    "\n",
    "\n",
    "s = Solution()\n",
    "s.minNumber([3, 30, 34, 5, 9])\n",
    "s.minNumber([10, 2])\n",
    "s.minNumber([20, 1])\n"
   ]
  },
  {
   "cell_type": "code",
   "execution_count": null,
   "metadata": {},
   "outputs": [],
   "source": []
  }
 ],
 "metadata": {
  "interpreter": {
   "hash": "97367d2de1780ea7c502b529f25888c1b53c0430a7611816b6c7cf19d8435228"
  },
  "kernelspec": {
   "display_name": "Python 3.10.4 64-bit (windows store)",
   "language": "python",
   "name": "python3"
  },
  "language_info": {
   "codemirror_mode": {
    "name": "ipython",
    "version": 3
   },
   "file_extension": ".py",
   "mimetype": "text/x-python",
   "name": "python",
   "nbconvert_exporter": "python",
   "pygments_lexer": "ipython3",
   "version": "3.10.4"
  },
  "orig_nbformat": 4
 },
 "nbformat": 4,
 "nbformat_minor": 2
}
