{
 "cells": [
  {
   "cell_type": "code",
   "execution_count": 3,
   "metadata": {},
   "outputs": [
    {
     "name": "stdout",
     "output_type": "stream",
     "text": [
      "[0, 1439, 1440]\n"
     ]
    },
    {
     "data": {
      "text/plain": [
       "1"
      ]
     },
     "execution_count": 3,
     "metadata": {},
     "output_type": "execute_result"
    }
   ],
   "source": [
    "from typing import List\n",
    "\n",
    "\n",
    "class Solution:\n",
    "\n",
    "    def findMinDifference(self, timePoints: List[str]) -> int:\n",
    "        if len(timePoints) > 24 * 60:\n",
    "            return 0\n",
    "\n",
    "        def trans(s):\n",
    "            return int(s[:2]) * 60 + int(s[3:])\n",
    "\n",
    "        timePoints = sorted(map(trans, timePoints))\n",
    "        timePoints.append(timePoints[0] + 24 * 60)\n",
    "        # print(timePoints)\n",
    "        ans = float('inf')\n",
    "        for i in range(len(timePoints) - 1):\n",
    "            d = timePoints[i + 1] - timePoints[i]\n",
    "            if d == 0:\n",
    "                return 0\n",
    "            else:\n",
    "                ans = min(ans, d)\n",
    "        return ans\n",
    "\n",
    "\n",
    "s = Solution()\n",
    "s.findMinDifference([\"23:59\", \"00:00\"])\n"
   ]
  },
  {
   "cell_type": "code",
   "execution_count": null,
   "metadata": {},
   "outputs": [],
   "source": []
  }
 ],
 "metadata": {
  "kernelspec": {
   "display_name": "Python 3.10.5 64-bit (windows store)",
   "language": "python",
   "name": "python3"
  },
  "language_info": {
   "codemirror_mode": {
    "name": "ipython",
    "version": 3
   },
   "file_extension": ".py",
   "mimetype": "text/x-python",
   "name": "python",
   "nbconvert_exporter": "python",
   "pygments_lexer": "ipython3",
   "version": "3.10.5"
  },
  "orig_nbformat": 4,
  "vscode": {
   "interpreter": {
    "hash": "97367d2de1780ea7c502b529f25888c1b53c0430a7611816b6c7cf19d8435228"
   }
  }
 },
 "nbformat": 4,
 "nbformat_minor": 2
}
