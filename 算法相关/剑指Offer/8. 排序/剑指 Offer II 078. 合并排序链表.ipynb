{
 "cells": [
  {
   "cell_type": "code",
   "execution_count": 1,
   "metadata": {},
   "outputs": [],
   "source": [
    "# Definition for singly-linked list.\n",
    "from typing import List\n",
    "\n",
    "\n",
    "class ListNode:\n",
    "    def __init__(self, val=0, next=None):\n",
    "        self.val = val\n",
    "        self.next = next\n",
    "\n",
    "\n",
    "class Solution:\n",
    "    def mergeKLists(self, lists: List[ListNode]) -> ListNode:\n",
    "        def merge(l1, l2):\n",
    "            dummy = cur = ListNode()\n",
    "            while l1 and l2:\n",
    "                if l1.val < l2.val:\n",
    "                    cur.next = l1\n",
    "                    l1 = l1.next\n",
    "                else:\n",
    "                    cur.next = l2\n",
    "                    l2 = l2.next\n",
    "                cur = cur.next\n",
    "            cur.next = l1 if l1 else l2\n",
    "            return dummy.next\n",
    "\n",
    "        if not lists:\n",
    "            return None\n",
    "        ans = lists[0]\n",
    "        for i in range(1, len(lists)):\n",
    "            ans = merge(ans, lists[i])\n",
    "        return ans\n"
   ]
  },
  {
   "cell_type": "code",
   "execution_count": 2,
   "metadata": {},
   "outputs": [],
   "source": [
    "# Definition for singly-linked list.\n",
    "from typing import List\n",
    "\n",
    "\n",
    "class ListNode:\n",
    "    def __init__(self, val=0, next=None):\n",
    "        self.val = val\n",
    "        self.next = next\n",
    "\n",
    "\n",
    "class Solution:\n",
    "    def mergeKLists(self, lists: List[ListNode]) -> ListNode:\n",
    "        def merge(l1, l2):\n",
    "            dummy = cur = ListNode()\n",
    "            while l1 and l2:\n",
    "                if l1.val < l2.val:\n",
    "                    cur.next = l1\n",
    "                    l1 = l1.next\n",
    "                else:\n",
    "                    cur.next = l2\n",
    "                    l2 = l2.next\n",
    "                cur = cur.next\n",
    "            cur.next = l1 if l1 else l2\n",
    "            return dummy.next\n",
    "\n",
    "        if not lists:\n",
    "            return None\n",
    "\n",
    "        def dc(si, ei):\n",
    "            if si == ei:\n",
    "                return lists[si]\n",
    "            mi = si + ei >> 1\n",
    "            left = dc(si, mi)\n",
    "            right = dc(mi + 1, ei)\n",
    "            return merge(left, right)\n",
    "\n",
    "        return dc(0, len(lists) - 1)\n"
   ]
  },
  {
   "cell_type": "code",
   "execution_count": 3,
   "metadata": {},
   "outputs": [],
   "source": [
    "# Definition for singly-linked list.\n",
    "from typing import List\n",
    "import heapq\n",
    "\n",
    "\n",
    "class ListNode:\n",
    "    def __init__(self, val=0, next=None):\n",
    "        self.val = val\n",
    "        self.next = next\n",
    "\n",
    "\n",
    "class Solution:\n",
    "    def mergeKLists(self, lists: List[ListNode]) -> ListNode:\n",
    "        if not lists:\n",
    "            return None\n",
    "        pq = []\n",
    "        for l in lists:\n",
    "            while l:\n",
    "                heapq.heappush(pq, l.val)\n",
    "                l = l.next\n",
    "        dummy = cur = ListNode()\n",
    "        while pq:\n",
    "            cur.next = ListNode(heapq.heappop(pq))\n",
    "            cur = cur.next\n",
    "        return dummy.next"
   ]
  },
  {
   "cell_type": "code",
   "execution_count": null,
   "metadata": {},
   "outputs": [],
   "source": []
  }
 ],
 "metadata": {
  "kernelspec": {
   "display_name": "Python 3.8.10 64-bit",
   "language": "python",
   "name": "python3"
  },
  "language_info": {
   "codemirror_mode": {
    "name": "ipython",
    "version": 3
   },
   "file_extension": ".py",
   "mimetype": "text/x-python",
   "name": "python",
   "nbconvert_exporter": "python",
   "pygments_lexer": "ipython3",
   "version": "3.8.10"
  },
  "orig_nbformat": 4,
  "vscode": {
   "interpreter": {
    "hash": "570feb405e2e27c949193ac68f46852414290d515b0ba6e5d90d076ed2284471"
   }
  }
 },
 "nbformat": 4,
 "nbformat_minor": 2
}
