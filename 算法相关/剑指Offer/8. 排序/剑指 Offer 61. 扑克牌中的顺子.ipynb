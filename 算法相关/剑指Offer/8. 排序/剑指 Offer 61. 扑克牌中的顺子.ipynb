{
 "cells": [
  {
   "cell_type": "markdown",
   "metadata": {},
   "source": [
    "根据题意，此 55 张牌是顺子的 充分条件 如下：\n",
    "\n",
    "除大小王外，所有牌 无重复 ；\n",
    "设此 55 张牌中最大的牌为 maxmax ，最小的牌为 minmin （大小王除外），则需满足：\n",
    "max - min < 5\n",
    "\n",
    "作者：jyd\n",
    "链接：https://leetcode.cn/problems/bu-ke-pai-zhong-de-shun-zi-lcof/solution/mian-shi-ti-61-bu-ke-pai-zhong-de-shun-zi-ji-he-se/\n",
    "来源：力扣（LeetCode）\n",
    "著作权归作者所有。商业转载请联系作者获得授权，非商业转载请注明出处。"
   ]
  },
  {
   "cell_type": "code",
   "execution_count": null,
   "metadata": {},
   "outputs": [],
   "source": [
    "from typing import List\n",
    "\n",
    "\n",
    "class Solution:\n",
    "\n",
    "    def isStraight(self, nums: List[int]) -> bool:\n",
    "        ha = set()\n",
    "        maxNum, minNum = float('-inf'), float('inf')\n",
    "        for n in nums:\n",
    "            if n == 0: continue\n",
    "            if n in ha: return False\n",
    "            ha.add(n)\n",
    "            maxNum = max(maxNum, n)\n",
    "            minNum = min(minNum, n)\n",
    "        return maxNum - minNum < 5\n"
   ]
  },
  {
   "cell_type": "code",
   "execution_count": null,
   "metadata": {},
   "outputs": [],
   "source": [
    "from typing import List\n",
    "\n",
    "\n",
    "class Solution:\n",
    "\n",
    "    def isStraight(self, nums: List[int]) -> bool:\n",
    "        nums.sort()\n",
    "        joker = 0  # 大小王数量也是第一个非0位置\n",
    "        for i in range(4):\n",
    "            if nums[i] == 0:\n",
    "                joker += 1\n",
    "                continue\n",
    "            if nums[i] == nums[i + 1]:\n",
    "                return False\n",
    "        return nums[-1] - nums[joker] < 5\n"
   ]
  }
 ],
 "metadata": {
  "language_info": {
   "name": "python"
  },
  "orig_nbformat": 4
 },
 "nbformat": 4,
 "nbformat_minor": 2
}
