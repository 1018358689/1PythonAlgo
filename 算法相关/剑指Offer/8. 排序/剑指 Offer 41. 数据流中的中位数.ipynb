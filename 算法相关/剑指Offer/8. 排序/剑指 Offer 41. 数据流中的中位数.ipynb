{
 "cells": [
  {
   "cell_type": "code",
   "execution_count": null,
   "metadata": {},
   "outputs": [],
   "source": [
    "import heapq\n",
    "\n",
    "\n",
    "class MedianFinder:\n",
    "\n",
    "    def __init__(self):\n",
    "        \"\"\"\n",
    "        initialize your data structure here.\n",
    "        \"\"\"\n",
    "        self.len = 0\n",
    "        self.minHeap = []\n",
    "        self.maxHeap = []\n",
    "\n",
    "    def addNum(self, num: int) -> None:\n",
    "        # 把元素先放入最小堆 再从最小堆弹出放入最大堆 保证最小堆所有元素都大于最大堆\n",
    "        heapq.heappush(self.minHeap, num)\n",
    "        heapq.heappush(self.maxHeap, -heapq.heappop(self.minHeap))\n",
    "        if len(self.maxHeap) - len(self.minHeap) > 1:\n",
    "            heapq.heappush(self.minHeap, -heapq.heappop(self.maxHeap))\n",
    "        self.len += 1\n",
    "\n",
    "    def findMedian(self) -> float:\n",
    "        if self.len & 1 == 1:\n",
    "            return -self.maxHeap[0]\n",
    "        else:\n",
    "            return (-self.maxHeap[0] + self.minHeap[0]) / 2\n",
    "\n",
    "\n",
    "# Your MedianFinder object will be instantiated and called as such:\n",
    "# obj = MedianFinder()\n",
    "# obj.addNum(num)\n",
    "# param_2 = obj.findMedian()"
   ]
  }
 ],
 "metadata": {
  "interpreter": {
   "hash": "97367d2de1780ea7c502b529f25888c1b53c0430a7611816b6c7cf19d8435228"
  },
  "kernelspec": {
   "display_name": "Python 3.10.4 64-bit (windows store)",
   "language": "python",
   "name": "python3"
  },
  "language_info": {
   "codemirror_mode": {
    "name": "ipython",
    "version": 3
   },
   "file_extension": ".py",
   "mimetype": "text/x-python",
   "name": "python",
   "nbconvert_exporter": "python",
   "pygments_lexer": "ipython3",
   "version": "3.10.4"
  },
  "orig_nbformat": 4
 },
 "nbformat": 4,
 "nbformat_minor": 2
}
