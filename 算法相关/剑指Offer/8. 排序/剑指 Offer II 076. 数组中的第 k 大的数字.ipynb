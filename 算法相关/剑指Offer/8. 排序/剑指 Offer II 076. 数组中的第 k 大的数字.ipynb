{
 "cells": [
  {
   "cell_type": "code",
   "execution_count": 1,
   "metadata": {},
   "outputs": [
    {
     "data": {
      "text/plain": [
       "5"
      ]
     },
     "execution_count": 1,
     "metadata": {},
     "output_type": "execute_result"
    }
   ],
   "source": [
    "from typing import List\n",
    "from random import randint\n",
    "\n",
    "\n",
    "class Solution:\n",
    "    def findKthLargest(self, nums: List[int], k: int) -> int:\n",
    "        def swap(i, j):\n",
    "            nums[i], nums[j] = nums[j], nums[i]\n",
    "\n",
    "        def getPivot(si, ei):  # 找基准 使 [si,pivot-1] [pivot+1,ei]\n",
    "            pivot = randint(si, ei)\n",
    "            swap(si, pivot)\n",
    "            mark = si\n",
    "            for i in range(si + 1, ei + 1):\n",
    "                if nums[i] < nums[si]:\n",
    "                    mark += 1\n",
    "                    swap(mark, i)\n",
    "            swap(mark, si)\n",
    "            return mark\n",
    "\n",
    "        target = len(nums) - k\n",
    "\n",
    "        def dc(si, ei):\n",
    "            pivot = getPivot(si, ei)\n",
    "            if pivot > target:\n",
    "                return dc(si, pivot - 1)\n",
    "            elif pivot < target:\n",
    "                return dc(pivot + 1, ei)\n",
    "            else:\n",
    "                return nums[pivot]\n",
    "\n",
    "        return dc(0, len(nums) - 1)\n",
    "\n",
    "\n",
    "s = Solution()\n",
    "s.findKthLargest([3, 2, 1, 5, 6, 4], 2)\n"
   ]
  },
  {
   "cell_type": "code",
   "execution_count": null,
   "metadata": {},
   "outputs": [],
   "source": []
  }
 ],
 "metadata": {
  "kernelspec": {
   "display_name": "Python 3.8.10 64-bit",
   "language": "python",
   "name": "python3"
  },
  "language_info": {
   "codemirror_mode": {
    "name": "ipython",
    "version": 3
   },
   "file_extension": ".py",
   "mimetype": "text/x-python",
   "name": "python",
   "nbconvert_exporter": "python",
   "pygments_lexer": "ipython3",
   "version": "3.8.10"
  },
  "orig_nbformat": 4,
  "vscode": {
   "interpreter": {
    "hash": "570feb405e2e27c949193ac68f46852414290d515b0ba6e5d90d076ed2284471"
   }
  }
 },
 "nbformat": 4,
 "nbformat_minor": 2
}
