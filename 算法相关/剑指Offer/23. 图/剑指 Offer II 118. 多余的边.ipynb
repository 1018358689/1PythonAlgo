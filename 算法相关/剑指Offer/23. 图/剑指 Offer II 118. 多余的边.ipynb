{
 "cells": [
  {
   "cell_type": "code",
   "execution_count": null,
   "metadata": {},
   "outputs": [],
   "source": [
    "from typing import List\n",
    "\n",
    "\n",
    "class Solution:\n",
    "    def findRedundantConnection(self, edges: List[List[int]]) -> List[int]:\n",
    "        count = len(edges)\n",
    "        roots = list(range(count+1))\n",
    "        rank = [1]*(count+1)\n",
    "\n",
    "        def find(x):\n",
    "            if roots[x] != x:\n",
    "                roots[x] = find(roots[x])\n",
    "            return roots[x]\n",
    "\n",
    "        def union(x, y):\n",
    "            rx, ry = find(x), find(y)\n",
    "            if rx != ry:\n",
    "                if rank[rx] < rank[ry]:\n",
    "                    roots[rx] = ry\n",
    "                elif rank[ry] < rank[rx]:\n",
    "                    roots[ry] = rx\n",
    "                else:\n",
    "                    roots[rx] = ry\n",
    "                    rank[ry] += 1\n",
    "\n",
    "        def isConnected(x, y):\n",
    "            return find(x) == find(y)\n",
    "\n",
    "        for x, y in edges:\n",
    "            if not isConnected(x, y):\n",
    "                union(x, y)\n",
    "            else:\n",
    "                return [x, y]\n"
   ]
  }
 ],
 "metadata": {
  "kernelspec": {
   "display_name": "Python 3.10.5 64-bit",
   "language": "python",
   "name": "python3"
  },
  "language_info": {
   "name": "python",
   "version": "3.10.5"
  },
  "orig_nbformat": 4,
  "vscode": {
   "interpreter": {
    "hash": "3196968d684371006099b3d55edeef8ed90365227a30deaef86e5d4aa8519be0"
   }
  }
 },
 "nbformat": 4,
 "nbformat_minor": 2
}
