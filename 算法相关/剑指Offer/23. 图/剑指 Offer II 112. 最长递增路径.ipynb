{
 "cells": [
  {
   "cell_type": "code",
   "execution_count": 9,
   "metadata": {},
   "outputs": [
    {
     "data": {
      "text/plain": [
       "4"
      ]
     },
     "execution_count": 9,
     "metadata": {},
     "output_type": "execute_result"
    }
   ],
   "source": [
    "from typing import List\n",
    "\n",
    "\n",
    "class Solution:\n",
    "    def longestIncreasingPath(self, matrix: List[List[int]]) -> int:\n",
    "        rows, cols = len(matrix), len(matrix[0])\n",
    "        ha = {}\n",
    "\n",
    "        def dfs(r, c):\n",
    "            if (r, c) in ha:\n",
    "                return ha[(r, c)]\n",
    "            ha[(r, c)] = 1\n",
    "            cur = matrix[r][c]\n",
    "            if (r-1 < 0 or matrix[r-1][c] <= cur) and (r+1 >= rows or matrix[r+1][c] <= cur) and (c-1 < 0 or matrix[r][c-1] <= cur) and (c+1 >= cols or matrix[r][c+1] <= cur):\n",
    "                return ha[(r, c)]\n",
    "\n",
    "            for nr, nc in ((r+1, c), (r-1, c), (r, c+1), (r, c-1)):\n",
    "                if 0 <= nr < rows and 0 <= nc < cols and matrix[nr][nc] > cur:\n",
    "                    ha[(r, c)] = max(ha[(r, c)], dfs(nr, nc)+1)\n",
    "            return ha[(r, c)]\n",
    "        ans = 0\n",
    "        for r in range(rows):\n",
    "            for c in range(cols):\n",
    "                # print(r, c, (r, c) in ha, (dfs(r, c)))\n",
    "                # print(ha)\n",
    "                if (r, c) not in ha:\n",
    "                    ans = max(ans, dfs(r, c))\n",
    "        return ans\n",
    "\n",
    "\n",
    "s = Solution()\n",
    "s.longestIncreasingPath([[9, 9, 4], [6, 6, 8], [2, 1, 1]])\n"
   ]
  },
  {
   "cell_type": "code",
   "execution_count": 12,
   "metadata": {},
   "outputs": [
    {
     "data": {
      "text/plain": [
       "4"
      ]
     },
     "execution_count": 12,
     "metadata": {},
     "output_type": "execute_result"
    }
   ],
   "source": [
    "from typing import List\n",
    "\n",
    "\n",
    "class Solution:\n",
    "    def longestIncreasingPath(self, matrix: List[List[int]]) -> int:\n",
    "        rows, cols = len(matrix), len(matrix[0])\n",
    "        ha = {}\n",
    "\n",
    "        def dfs(r, c):\n",
    "            if (r, c) in ha:\n",
    "                return ha[(r, c)]\n",
    "            ha[(r, c)] = 1\n",
    "            cur = matrix[r][c]\n",
    "            for nr, nc in ((r+1, c), (r-1, c), (r, c+1), (r, c-1)):\n",
    "                if 0 <= nr < rows and 0 <= nc < cols and matrix[nr][nc] > cur:\n",
    "                    ha[(r, c)] = max(ha[(r, c)], dfs(nr, nc)+1)\n",
    "            return ha[(r, c)]\n",
    "        ans = 0\n",
    "        for r in range(rows):\n",
    "            for c in range(cols):\n",
    "                # print(r, c, (r, c) in ha, (dfs(r, c)))\n",
    "                # print(ha)\n",
    "                if (r, c) not in ha:\n",
    "                    ans = max(ans, dfs(r, c))\n",
    "        return ans\n",
    "\n",
    "\n",
    "s = Solution()\n",
    "s.longestIncreasingPath([[9, 9, 4], [6, 6, 8], [2, 1, 1]])\n"
   ]
  },
  {
   "cell_type": "code",
   "execution_count": null,
   "metadata": {},
   "outputs": [],
   "source": []
  }
 ],
 "metadata": {
  "kernelspec": {
   "display_name": "Python 3.8.10 64-bit",
   "language": "python",
   "name": "python3"
  },
  "language_info": {
   "codemirror_mode": {
    "name": "ipython",
    "version": 3
   },
   "file_extension": ".py",
   "mimetype": "text/x-python",
   "name": "python",
   "nbconvert_exporter": "python",
   "pygments_lexer": "ipython3",
   "version": "3.8.10"
  },
  "orig_nbformat": 4,
  "vscode": {
   "interpreter": {
    "hash": "570feb405e2e27c949193ac68f46852414290d515b0ba6e5d90d076ed2284471"
   }
  }
 },
 "nbformat": 4,
 "nbformat_minor": 2
}
