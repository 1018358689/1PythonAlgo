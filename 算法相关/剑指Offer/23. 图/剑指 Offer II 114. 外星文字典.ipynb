{
 "cells": [
  {
   "cell_type": "code",
   "execution_count": 7,
   "metadata": {},
   "outputs": [
    {
     "name": "stdout",
     "output_type": "stream",
     "text": [
      "1\n",
      "2\n",
      "3\n"
     ]
    }
   ],
   "source": [
    "s = {1,2,3}\n",
    "for i in s:\n",
    "    print(i)"
   ]
  },
  {
   "cell_type": "code",
   "execution_count": 8,
   "metadata": {},
   "outputs": [
    {
     "data": {
      "text/plain": [
       "'wdertf'"
      ]
     },
     "execution_count": 8,
     "metadata": {},
     "output_type": "execute_result"
    }
   ],
   "source": [
    "from typing import List\n",
    "from collections import deque, defaultdict\n",
    "\n",
    "\n",
    "class Solution:\n",
    "    def alienOrder(self, words: List[str]) -> str:\n",
    "        adj = defaultdict(list)\n",
    "        ind = defaultdict(int)\n",
    "        s = set()\n",
    "        for w in words:\n",
    "            s |= set(w)\n",
    "        for i in range(len(words)-1):\n",
    "            for x, y in zip(words[i], words[i+1]):\n",
    "                if x != y:\n",
    "                    adj[x].append(y)\n",
    "                    ind[y] += 1\n",
    "                    break\n",
    "            else:\n",
    "                if len(words[i]) > len(words[i+1]):\n",
    "                    return ''\n",
    "        q = deque([n for n in s if not ind[n]])\n",
    "        ans = ''\n",
    "        while q:\n",
    "            cur = q.popleft()\n",
    "            ans += cur\n",
    "            for nei in adj[cur]:\n",
    "                ind[nei] -= 1\n",
    "                if not ind[nei]:\n",
    "                    q.append(nei)\n",
    "        return ans if len(ans) == len(s) else ''\n",
    "\n",
    "\n",
    "s = Solution()\n",
    "s.alienOrder([\"wrt\", \"wrfd\", \"er\", \"ett\", \"rftt\"])\n"
   ]
  },
  {
   "cell_type": "code",
   "execution_count": null,
   "metadata": {},
   "outputs": [],
   "source": []
  }
 ],
 "metadata": {
  "kernelspec": {
   "display_name": "Python 3.10.5 64-bit",
   "language": "python",
   "name": "python3"
  },
  "language_info": {
   "codemirror_mode": {
    "name": "ipython",
    "version": 3
   },
   "file_extension": ".py",
   "mimetype": "text/x-python",
   "name": "python",
   "nbconvert_exporter": "python",
   "pygments_lexer": "ipython3",
   "version": "3.10.5"
  },
  "orig_nbformat": 4,
  "vscode": {
   "interpreter": {
    "hash": "3196968d684371006099b3d55edeef8ed90365227a30deaef86e5d4aa8519be0"
   }
  }
 },
 "nbformat": 4,
 "nbformat_minor": 2
}
