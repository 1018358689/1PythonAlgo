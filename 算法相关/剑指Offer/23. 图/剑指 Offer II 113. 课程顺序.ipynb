{
 "cells": [
  {
   "cell_type": "code",
   "execution_count": null,
   "metadata": {},
   "outputs": [],
   "source": [
    "from typing import List\n",
    "from collections import deque\n",
    "\n",
    "\n",
    "class Solution:\n",
    "    def findOrder(self, numCourses: int, prerequisites: List[List[int]]) -> List[int]:\n",
    "        adj = [[] for _ in range(numCourses)]\n",
    "        ins = [0]*numCourses\n",
    "        for y, x in prerequisites:\n",
    "            adj[x].append(y)\n",
    "            ins[y] += 1\n",
    "        q = deque([i for i in range(numCourses) if not ins[i]])\n",
    "        # 入度为0含义 安全结点 不在环内\n",
    "        ans = []\n",
    "        cnt = 0\n",
    "        while q:\n",
    "            cur = q.popleft()\n",
    "            ans.append(cur)\n",
    "            cnt += 1\n",
    "            for nei in adj[cur]:\n",
    "                ins[nei] -= 1\n",
    "                if ins[nei] == 0:\n",
    "                    q.append(nei)\n",
    "        return ans if cnt == numCourses else []\n"
   ]
  }
 ],
 "metadata": {
  "language_info": {
   "name": "python"
  },
  "orig_nbformat": 4
 },
 "nbformat": 4,
 "nbformat_minor": 2
}
