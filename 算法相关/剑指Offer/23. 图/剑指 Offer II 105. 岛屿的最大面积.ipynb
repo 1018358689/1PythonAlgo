{
 "cells": [
  {
   "cell_type": "code",
   "execution_count": 3,
   "metadata": {},
   "outputs": [
    {
     "data": {
      "text/plain": [
       "6"
      ]
     },
     "execution_count": 3,
     "metadata": {},
     "output_type": "execute_result"
    }
   ],
   "source": [
    "from typing import List\n",
    "\n",
    "\n",
    "class Solution:\n",
    "    def maxAreaOfIsland(self, grid: List[List[int]]) -> int:\n",
    "        rows, cols = len(grid), len(grid[0])\n",
    "\n",
    "        def dfs(r, c):\n",
    "            if grid[r][c] == 0:\n",
    "                return 0\n",
    "            grid[r][c] = 0\n",
    "            ans = 1\n",
    "            for dx, dy in (1, 0), (-1, 0), (0, 1), (0, -1):\n",
    "                if 0 <= (nr := r + dx) < rows and 0 <= (nc := c + dy) < cols:\n",
    "                    ans += dfs(nr, nc)\n",
    "            return ans\n",
    "\n",
    "        ans = 0\n",
    "        for r in range(rows):\n",
    "            for c in range(cols):\n",
    "                if grid[r][c] == 1:\n",
    "                    ans = max(ans, dfs(r, c))\n",
    "        return ans\n",
    "\n",
    "\n",
    "s = Solution()\n",
    "s.maxAreaOfIsland([[0, 0, 1, 0, 0, 0, 0, 1, 0, 0, 0, 0, 0], [0, 0, 0, 0, 0, 0, 0, 1, 1, 1, 0, 0, 0], [0, 1, 1, 0, 1, 0, 0, 0, 0, 0, 0, 0, 0], [0, 1, 0, 0, 1, 1, 0, 0, 1, 0, 1, 0, 0], [0, 1, 0, 0, 1, 1, 0, 0, 1, 1, 1, 0, 0],\n",
    "                   [0, 0, 0, 0, 0, 0, 0, 0, 0, 0, 1, 0, 0], [0, 0, 0, 0, 0, 0, 0, 1, 1, 1, 0, 0, 0], [0, 0, 0, 0, 0, 0, 0, 1, 1, 0, 0, 0, 0]])\n"
   ]
  },
  {
   "cell_type": "code",
   "execution_count": 1,
   "metadata": {},
   "outputs": [
    {
     "data": {
      "text/plain": [
       "6"
      ]
     },
     "execution_count": 1,
     "metadata": {},
     "output_type": "execute_result"
    }
   ],
   "source": [
    "from typing import List\n",
    "\n",
    "\n",
    "class Solution:\n",
    "    def maxAreaOfIsland(self, grid: List[List[int]]) -> int:\n",
    "        rows, cols = len(grid), len(grid[0])\n",
    "\n",
    "        def dfs(r, c):\n",
    "            if grid[r][c] == 0 or (r, c) in vis:\n",
    "                return 0\n",
    "            vis.add((r, c))\n",
    "            ans = 1\n",
    "            for dx, dy in (1, 0), (-1, 0), (0, 1), (0, -1):\n",
    "                if 0 <= (nr := r + dx) < rows and 0 <= (nc := c + dy) < cols:\n",
    "                    ans += dfs(nr, nc)\n",
    "            return ans\n",
    "\n",
    "        ans = 0\n",
    "        vis = set()\n",
    "        for r in range(rows):\n",
    "            for c in range(cols):\n",
    "                if grid[r][c] == 1 and (r, c) not in vis:\n",
    "                    ans = max(ans, dfs(r, c))\n",
    "        return ans\n",
    "\n",
    "\n",
    "s = Solution()\n",
    "s.maxAreaOfIsland([[0, 0, 1, 0, 0, 0, 0, 1, 0, 0, 0, 0, 0], [0, 0, 0, 0, 0, 0, 0, 1, 1, 1, 0, 0, 0], [0, 1, 1, 0, 1, 0, 0, 0, 0, 0, 0, 0, 0], [0, 1, 0, 0, 1, 1, 0, 0, 1, 0, 1, 0, 0], [0, 1, 0, 0, 1, 1, 0, 0, 1, 1, 1, 0, 0],\n",
    "                   [0, 0, 0, 0, 0, 0, 0, 0, 0, 0, 1, 0, 0], [0, 0, 0, 0, 0, 0, 0, 1, 1, 1, 0, 0, 0], [0, 0, 0, 0, 0, 0, 0, 1, 1, 0, 0, 0, 0]])\n"
   ]
  },
  {
   "cell_type": "code",
   "execution_count": 3,
   "metadata": {},
   "outputs": [
    {
     "data": {
      "text/plain": [
       "6"
      ]
     },
     "execution_count": 3,
     "metadata": {},
     "output_type": "execute_result"
    }
   ],
   "source": [
    "from typing import List\n",
    "from collections import deque\n",
    "\n",
    "\n",
    "class Solution:\n",
    "    def maxAreaOfIsland(self, grid: List[List[int]]) -> int:\n",
    "        rows, cols = len(grid), len(grid[0])\n",
    "\n",
    "        def bfs(r, c):\n",
    "            q = deque([(r, c)])\n",
    "            cnt = 0\n",
    "            while q:\n",
    "                r, c = q.popleft()\n",
    "                if grid[r][c] == 0:\n",
    "                    continue\n",
    "                cnt += 1\n",
    "                grid[r][c] = 0\n",
    "                for dr, dc in (1, 0), (-1, 0), (0, 1), (0, -1):\n",
    "                    if 0 <= (nr := r + dr) < rows and 0 <= (nc := c + dc) < cols:\n",
    "                        q.append((nr, nc))\n",
    "            return cnt\n",
    "\n",
    "        ans = 0\n",
    "        for r in range(rows):\n",
    "            for c in range(cols):\n",
    "                if grid[r][c] == 1:\n",
    "                    ans = max(ans, bfs(r, c))\n",
    "        return ans\n",
    "\n",
    "\n",
    "s = Solution()\n",
    "s.maxAreaOfIsland([[0, 0, 1, 0, 0, 0, 0, 1, 0, 0, 0, 0, 0], [0, 0, 0, 0, 0, 0, 0, 1, 1, 1, 0, 0, 0], [0, 1, 1, 0, 1, 0, 0, 0, 0, 0, 0, 0, 0], [0, 1, 0, 0, 1, 1, 0, 0, 1, 0, 1, 0, 0], [0, 1, 0, 0, 1, 1, 0, 0, 1, 1, 1, 0, 0],\n",
    "                   [0, 0, 0, 0, 0, 0, 0, 0, 0, 0, 1, 0, 0], [0, 0, 0, 0, 0, 0, 0, 1, 1, 1, 0, 0, 0], [0, 0, 0, 0, 0, 0, 0, 1, 1, 0, 0, 0, 0]])\n"
   ]
  },
  {
   "cell_type": "code",
   "execution_count": 4,
   "metadata": {},
   "outputs": [
    {
     "data": {
      "text/plain": [
       "6"
      ]
     },
     "execution_count": 4,
     "metadata": {},
     "output_type": "execute_result"
    }
   ],
   "source": [
    "from typing import List\n",
    "from collections import deque\n",
    "\n",
    "\n",
    "class Solution:\n",
    "    def maxAreaOfIsland(self, grid: List[List[int]]) -> int:\n",
    "        rows, cols = len(grid), len(grid[0])\n",
    "\n",
    "        def bfs(r, c):\n",
    "            q = deque([(r, c)])\n",
    "            cnt = 0\n",
    "            while q:\n",
    "                r, c = q.popleft()\n",
    "                if grid[r][c] == 0 or (r, c) in vis:\n",
    "                    continue\n",
    "                cnt += 1\n",
    "                vis.add((r, c))\n",
    "                for dr, dc in (1, 0), (-1, 0), (0, 1), (0, -1):\n",
    "                    if 0 <= (nr := r + dr) < rows and 0 <= (nc := c + dc) < cols:\n",
    "                        q.append((nr, nc))\n",
    "            return cnt\n",
    "\n",
    "        ans = 0\n",
    "        vis = set()\n",
    "        for r in range(rows):\n",
    "            for c in range(cols):\n",
    "                if grid[r][c] == 1 and (r, c) not in vis:\n",
    "                    ans = max(ans, bfs(r, c))\n",
    "        return ans\n",
    "\n",
    "\n",
    "s = Solution()\n",
    "s.maxAreaOfIsland([[0, 0, 1, 0, 0, 0, 0, 1, 0, 0, 0, 0, 0], [0, 0, 0, 0, 0, 0, 0, 1, 1, 1, 0, 0, 0], [0, 1, 1, 0, 1, 0, 0, 0, 0, 0, 0, 0, 0], [0, 1, 0, 0, 1, 1, 0, 0, 1, 0, 1, 0, 0], [0, 1, 0, 0, 1, 1, 0, 0, 1, 1, 1, 0, 0],\n",
    "                   [0, 0, 0, 0, 0, 0, 0, 0, 0, 0, 1, 0, 0], [0, 0, 0, 0, 0, 0, 0, 1, 1, 1, 0, 0, 0], [0, 0, 0, 0, 0, 0, 0, 1, 1, 0, 0, 0, 0]])\n"
   ]
  },
  {
   "cell_type": "code",
   "execution_count": 5,
   "metadata": {},
   "outputs": [
    {
     "data": {
      "text/plain": [
       "6"
      ]
     },
     "execution_count": 5,
     "metadata": {},
     "output_type": "execute_result"
    }
   ],
   "source": [
    "from typing import List\n",
    "from collections import deque\n",
    "\n",
    "\n",
    "class Solution:\n",
    "    def maxAreaOfIsland(self, grid: List[List[int]]) -> int:\n",
    "        rows, cols = len(grid), len(grid[0])\n",
    "\n",
    "        def bfs(r, c):\n",
    "            q = deque([(r, c)])\n",
    "            vis.add((r, c))\n",
    "            cnt = 1\n",
    "            while q:\n",
    "                r, c = q.popleft()\n",
    "                for dr, dc in (1, 0), (-1, 0), (0, 1), (0, -1):\n",
    "                    if 0 <= (nr := r + dr) < rows and 0 <= (nc := c + dc) < cols and grid[nr][nc] == 1 and (nr, nc) not in vis:\n",
    "                        vis.add((nr, nc))\n",
    "                        cnt += 1\n",
    "                        q.append((nr, nc))\n",
    "            return cnt\n",
    "\n",
    "        ans = 0\n",
    "        vis = set()\n",
    "        for r in range(rows):\n",
    "            for c in range(cols):\n",
    "                if grid[r][c] == 1 and (r, c) not in vis:\n",
    "                    ans = max(ans, bfs(r, c))\n",
    "        return ans\n",
    "\n",
    "\n",
    "s = Solution()\n",
    "s.maxAreaOfIsland([[0, 0, 1, 0, 0, 0, 0, 1, 0, 0, 0, 0, 0], [0, 0, 0, 0, 0, 0, 0, 1, 1, 1, 0, 0, 0], [0, 1, 1, 0, 1, 0, 0, 0, 0, 0, 0, 0, 0], [0, 1, 0, 0, 1, 1, 0, 0, 1, 0, 1, 0, 0], [0, 1, 0, 0, 1, 1, 0, 0, 1, 1, 1, 0, 0],\n",
    "                   [0, 0, 0, 0, 0, 0, 0, 0, 0, 0, 1, 0, 0], [0, 0, 0, 0, 0, 0, 0, 1, 1, 1, 0, 0, 0], [0, 0, 0, 0, 0, 0, 0, 1, 1, 0, 0, 0, 0]])\n"
   ]
  },
  {
   "cell_type": "code",
   "execution_count": 6,
   "metadata": {},
   "outputs": [
    {
     "data": {
      "text/plain": [
       "6"
      ]
     },
     "execution_count": 6,
     "metadata": {},
     "output_type": "execute_result"
    }
   ],
   "source": [
    "from typing import List\n",
    "from collections import deque, Counter\n",
    "\n",
    "\n",
    "class Solution:\n",
    "    def maxAreaOfIsland(self, grid: List[List[int]]) -> int:\n",
    "        rows, cols = len(grid), len(grid[0])\n",
    "        roots = list(range(rows * cols))\n",
    "        rank = [1] * (rows * cols)\n",
    "\n",
    "        def find(x):\n",
    "            if roots[x] != x:\n",
    "                roots[x] = find(roots[x])\n",
    "            return roots[x]\n",
    "\n",
    "        def union(x, y):\n",
    "            rx, ry = find(x), find(y)\n",
    "            if rx != ry:\n",
    "                if rank[rx] < rank[ry]:\n",
    "                    roots[rx] = ry\n",
    "                elif rank[ry] < rank[rx]:\n",
    "                    roots[ry] = rx\n",
    "                else:\n",
    "                    roots[rx] = ry\n",
    "                    rank[ry] += 1\n",
    "\n",
    "        for r in range(rows):\n",
    "            for c in range(cols):\n",
    "                if grid[r][c] == 1:\n",
    "                    for dr, dc in (1, 0), (0, 1):\n",
    "                        if 0 <= (nr := r + dr) < rows and 0 <= (nc := c + dc) < cols and grid[nr][nc] == 1:\n",
    "                            union(r * cols + c, nr * cols + nc)\n",
    "        cnt = Counter()\n",
    "        ans = 0\n",
    "        for r in range(rows):\n",
    "            for c in range(cols):\n",
    "                if grid[r][c] == 1:\n",
    "                    cnt[find(r * cols + c)] += 1\n",
    "        return max(cnt.values()) if cnt else 0\n",
    "\n",
    "\n",
    "s = Solution()\n",
    "s.maxAreaOfIsland([[0, 0, 1, 0, 0, 0, 0, 1, 0, 0, 0, 0, 0], [0, 0, 0, 0, 0, 0, 0, 1, 1, 1, 0, 0, 0], [0, 1, 1, 0, 1, 0, 0, 0, 0, 0, 0, 0, 0], [0, 1, 0, 0, 1, 1, 0, 0, 1, 0, 1, 0, 0], [0, 1, 0, 0, 1, 1, 0, 0, 1, 1, 1, 0, 0],\n",
    "                   [0, 0, 0, 0, 0, 0, 0, 0, 0, 0, 1, 0, 0], [0, 0, 0, 0, 0, 0, 0, 1, 1, 1, 0, 0, 0], [0, 0, 0, 0, 0, 0, 0, 1, 1, 0, 0, 0, 0]])\n"
   ]
  },
  {
   "cell_type": "code",
   "execution_count": null,
   "metadata": {},
   "outputs": [],
   "source": []
  }
 ],
 "metadata": {
  "kernelspec": {
   "display_name": "Python 3.8.10 64-bit",
   "language": "python",
   "name": "python3"
  },
  "language_info": {
   "codemirror_mode": {
    "name": "ipython",
    "version": 3
   },
   "file_extension": ".py",
   "mimetype": "text/x-python",
   "name": "python",
   "nbconvert_exporter": "python",
   "pygments_lexer": "ipython3",
   "version": "3.8.10"
  },
  "orig_nbformat": 4,
  "vscode": {
   "interpreter": {
    "hash": "570feb405e2e27c949193ac68f46852414290d515b0ba6e5d90d076ed2284471"
   }
  }
 },
 "nbformat": 4,
 "nbformat_minor": 2
}
