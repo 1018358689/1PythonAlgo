{
 "cells": [
  {
   "cell_type": "code",
   "execution_count": 3,
   "metadata": {},
   "outputs": [
    {
     "data": {
      "text/plain": [
       "'abcdefghijklmnopqrstuvwxyz'"
      ]
     },
     "execution_count": 3,
     "metadata": {},
     "output_type": "execute_result"
    }
   ],
   "source": [
    "ha = ''.join(chr(i) for i in range(ord('a'),ord('z')+1))\n",
    "ha"
   ]
  },
  {
   "cell_type": "code",
   "execution_count": 11,
   "metadata": {},
   "outputs": [
    {
     "name": "stdout",
     "output_type": "stream",
     "text": [
      "1 hit\n",
      "2 hot\n",
      "3 dot\n",
      "3 lot\n",
      "4 dog\n",
      "4 log\n",
      "5 cog\n"
     ]
    },
    {
     "data": {
      "text/plain": [
       "5"
      ]
     },
     "execution_count": 11,
     "metadata": {},
     "output_type": "execute_result"
    }
   ],
   "source": [
    "from typing import List\n",
    "from collections import deque\n",
    "\n",
    "\n",
    "class Solution:\n",
    "    def ladderLength(self, beginWord: str, endWord: str, wordList: List[str]) -> int:\n",
    "        wordList = set(wordList)\n",
    "        if endWord not in wordList:\n",
    "            return 0\n",
    "        ha = ''.join(chr(i) for i in range(ord('a'), ord('z') + 1))\n",
    "        vis = set()\n",
    "        q = deque([(1, beginWord)])\n",
    "        while q:\n",
    "            step, cur = q.popleft()\n",
    "            # print(step,cur)\n",
    "            if cur == endWord:\n",
    "                return step\n",
    "            for i in range(len(cur)):\n",
    "                for j in ha:\n",
    "                    nei = cur[:i] + j + cur[i + 1:]\n",
    "                    if nei in wordList and nei != cur and nei not in vis:\n",
    "                        vis.add(nei)\n",
    "                        q.append((step + 1, nei))\n",
    "        return 0\n",
    "\n",
    "\n",
    "s = Solution()\n",
    "s.ladderLength(\"hit\", \"cog\", [\"hot\", \"dot\", \"dog\", \"lot\", \"log\", \"cog\"])\n"
   ]
  },
  {
   "cell_type": "code",
   "execution_count": null,
   "metadata": {},
   "outputs": [],
   "source": []
  }
 ],
 "metadata": {
  "kernelspec": {
   "display_name": "Python 3.8.10 64-bit",
   "language": "python",
   "name": "python3"
  },
  "language_info": {
   "codemirror_mode": {
    "name": "ipython",
    "version": 3
   },
   "file_extension": ".py",
   "mimetype": "text/x-python",
   "name": "python",
   "nbconvert_exporter": "python",
   "pygments_lexer": "ipython3",
   "version": "3.8.10"
  },
  "orig_nbformat": 4,
  "vscode": {
   "interpreter": {
    "hash": "570feb405e2e27c949193ac68f46852414290d515b0ba6e5d90d076ed2284471"
   }
  }
 },
 "nbformat": 4,
 "nbformat_minor": 2
}
