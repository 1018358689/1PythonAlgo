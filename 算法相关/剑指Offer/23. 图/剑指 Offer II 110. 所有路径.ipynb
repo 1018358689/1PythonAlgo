{
 "cells": [
  {
   "cell_type": "code",
   "execution_count": null,
   "metadata": {},
   "outputs": [],
   "source": [
    "from typing import List\n",
    "\n",
    "\n",
    "class Solution:\n",
    "    def allPathsSourceTarget(self, graph: List[List[int]]) -> List[List[int]]:\n",
    "        ans = []\n",
    "        lgh = len(graph)\n",
    "        target = lgh-1\n",
    "\n",
    "        def dfs(cur, path):  # path 已经走过的路径\n",
    "            if cur == target:\n",
    "                ans.append(path[:])\n",
    "                return\n",
    "            for nei in graph[cur]:\n",
    "                dfs(nei, path+[nei])\n",
    "        dfs(0, [0])\n",
    "        return ans\n"
   ]
  }
 ],
 "metadata": {
  "kernelspec": {
   "display_name": "Python 3.8.10 64-bit",
   "language": "python",
   "name": "python3"
  },
  "language_info": {
   "name": "python",
   "version": "3.8.10"
  },
  "orig_nbformat": 4,
  "vscode": {
   "interpreter": {
    "hash": "570feb405e2e27c949193ac68f46852414290d515b0ba6e5d90d076ed2284471"
   }
  }
 },
 "nbformat": 4,
 "nbformat_minor": 2
}
