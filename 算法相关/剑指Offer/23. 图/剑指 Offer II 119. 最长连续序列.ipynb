{
 "cells": [
  {
   "cell_type": "code",
   "execution_count": 1,
   "metadata": {},
   "outputs": [],
   "source": [
    "from typing import List\n",
    "\n",
    "\n",
    "class Solution:\n",
    "    def longestConsecutive(self, nums: List[int]) -> int:\n",
    "        if not nums:\n",
    "            return 0\n",
    "        nums = set(nums)\n",
    "        ha = {}\n",
    "\n",
    "        def dfs(n):\n",
    "            if n in ha:\n",
    "                return ha[n]\n",
    "            if n not in nums:\n",
    "                return 0\n",
    "            ha[n] = dfs(n+1)+1\n",
    "            return ha[n]\n",
    "        ans = 1\n",
    "        for n in nums:\n",
    "            if n not in ha:\n",
    "                ans = max(ans, dfs(n))\n",
    "        return ans\n"
   ]
  },
  {
   "cell_type": "code",
   "execution_count": null,
   "metadata": {},
   "outputs": [],
   "source": [
    "from typing import List\n",
    "\n",
    "\n",
    "class Solution:\n",
    "    def longestConsecutive(self, nums: List[int]) -> int:\n",
    "        if not nums:\n",
    "            return 0\n",
    "        nums = set(nums)\n",
    "        roots = {n: n for n in nums}\n",
    "        rank = {n: 1 for n in nums}\n",
    "        cnt = {n: 1 for n in nums}\n",
    "\n",
    "        def find(x):\n",
    "            if roots[x] != x:\n",
    "                roots[x] = find(roots[x])\n",
    "            return roots[x]\n",
    "\n",
    "        def union(x, y):\n",
    "            rx, ry = find(x), find(y)\n",
    "            if rx != ry:\n",
    "                if rank[rx] < rank[ry]:\n",
    "                    roots[rx] = ry\n",
    "                    cnt[ry] += cnt[rx]\n",
    "                elif rank[ry] < rank[rx]:\n",
    "                    roots[ry] = rx\n",
    "                    cnt[rx] += cnt[ry]\n",
    "                else:\n",
    "                    roots[rx] = ry\n",
    "                    rank[ry] += 1\n",
    "                    cnt[ry] += cnt[rx]\n",
    "        for n in nums:\n",
    "            if (l := n-1) in nums:\n",
    "                union(l, n)\n",
    "            if (r := n-1) in nums:\n",
    "                union(r, n)\n",
    "        return max(cnt.values())\n"
   ]
  }
 ],
 "metadata": {
  "kernelspec": {
   "display_name": "Python 3.10.5 64-bit",
   "language": "python",
   "name": "python3"
  },
  "language_info": {
   "codemirror_mode": {
    "name": "ipython",
    "version": 3
   },
   "file_extension": ".py",
   "mimetype": "text/x-python",
   "name": "python",
   "nbconvert_exporter": "python",
   "pygments_lexer": "ipython3",
   "version": "3.10.5"
  },
  "orig_nbformat": 4,
  "vscode": {
   "interpreter": {
    "hash": "3196968d684371006099b3d55edeef8ed90365227a30deaef86e5d4aa8519be0"
   }
  }
 },
 "nbformat": 4,
 "nbformat_minor": 2
}
