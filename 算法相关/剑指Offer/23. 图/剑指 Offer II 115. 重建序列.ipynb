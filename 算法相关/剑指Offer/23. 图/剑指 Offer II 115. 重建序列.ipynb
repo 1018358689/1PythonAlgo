{
 "cells": [
  {
   "cell_type": "code",
   "execution_count": null,
   "metadata": {},
   "outputs": [],
   "source": [
    "from collections import deque\n",
    "from typing import List\n",
    "\n",
    "\n",
    "class Solution:\n",
    "    def sequenceReconstruction(self, nums: List[int], sequences: List[List[int]]) -> bool:\n",
    "        lgh = len(nums)\n",
    "        adj = [[] for _ in range(lgh+1)]\n",
    "        indegree = [0]*(lgh+1)\n",
    "        for seq in sequences:\n",
    "            for i in range(len(seq)-1):\n",
    "                adj[seq[i]].append(seq[i+1])\n",
    "                indegree[seq[i+1]] += 1\n",
    "        q = deque([i for i in range(1, lgh+1) if not indegree[i]])\n",
    "        ans = []\n",
    "        while q:\n",
    "            if len(q) > 1:\n",
    "                return False\n",
    "            cur = q.popleft()\n",
    "            ans.append(cur)\n",
    "            for nei in adj[cur]:\n",
    "                indegree[nei] -= 1\n",
    "                if indegree[nei] == 0:\n",
    "                    q.append(nei)\n",
    "        return ans == nums\n"
   ]
  }
 ],
 "metadata": {
  "language_info": {
   "name": "python"
  },
  "orig_nbformat": 4
 },
 "nbformat": 4,
 "nbformat_minor": 2
}
