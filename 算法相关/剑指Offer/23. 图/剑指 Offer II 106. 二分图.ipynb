{
 "cells": [
  {
   "cell_type": "code",
   "execution_count": 2,
   "metadata": {},
   "outputs": [
    {
     "data": {
      "text/plain": [
       "False"
      ]
     },
     "execution_count": 2,
     "metadata": {},
     "output_type": "execute_result"
    }
   ],
   "source": [
    "from typing import List\n",
    "from collections import deque\n",
    "\n",
    "\n",
    "class Solution:\n",
    "    def isBipartite(self, graph: List[List[int]]) -> bool:\n",
    "        lgh = len(graph)\n",
    "        color = [0] * lgh  # 0未染色 1 -1 色\n",
    "        vis = set()\n",
    "\n",
    "        def bfs(i):\n",
    "            q = deque([i])\n",
    "            while q:\n",
    "                cur = q.popleft()\n",
    "                curColor = color[cur]\n",
    "                for nei in graph[cur]:\n",
    "                    if nei not in vis:  # 未访问过 标记相反颜色 且入队\n",
    "                        vis.add(nei)\n",
    "                        color[nei] = -curColor\n",
    "                        q.append(nei)\n",
    "                    elif color[nei] != -curColor:  # 访问过成环且颜色不相反\n",
    "                        return False\n",
    "            return True\n",
    "\n",
    "        for i in range(lgh):\n",
    "            if i not in vis:  # 访问过不用访问 以及对单独成图的进行访问\n",
    "                vis.add(i)\n",
    "                color[i] = 1\n",
    "                if not bfs(i):\n",
    "                    return False\n",
    "        return True\n",
    "\n",
    "\n",
    "s = Solution()\n",
    "s.isBipartite([[1, 2, 3], [0, 2], [0, 1, 3], [0, 2]])\n"
   ]
  },
  {
   "cell_type": "code",
   "execution_count": 5,
   "metadata": {},
   "outputs": [
    {
     "data": {
      "text/plain": [
       "False"
      ]
     },
     "execution_count": 5,
     "metadata": {},
     "output_type": "execute_result"
    }
   ],
   "source": [
    "from typing import List\n",
    "from collections import deque\n",
    "\n",
    "\n",
    "class Solution:\n",
    "    def isBipartite(self, graph: List[List[int]]) -> bool:\n",
    "        lgh = len(graph)\n",
    "        color = [0] * lgh  # 0未染色(未访问) 1 -1 色\n",
    "\n",
    "        def bfs(i):\n",
    "            q = deque([i])\n",
    "            while q:\n",
    "                cur = q.popleft()\n",
    "                curColor = color[cur]\n",
    "                for nei in graph[cur]:\n",
    "                    if color[nei]==0:  # 未访问过 标记相反颜色 且入队\n",
    "                        color[nei] = -curColor\n",
    "                        q.append(nei)\n",
    "                    elif color[nei] != -curColor:  # 访问过颜色不相反\n",
    "                        return False\n",
    "            return True\n",
    "\n",
    "        for i in range(lgh):\n",
    "            if color[i]==0:  # 访问过不用访问 以及对单独成图的进行访问\n",
    "                color[i] = 1\n",
    "                if not bfs(i):\n",
    "                    return False\n",
    "        return True\n",
    "\n",
    "\n",
    "s = Solution()\n",
    "s.isBipartite([[1, 2, 3], [0, 2], [0, 1, 3], [0, 2]])\n"
   ]
  },
  {
   "cell_type": "code",
   "execution_count": null,
   "metadata": {},
   "outputs": [],
   "source": [
    "from typing import List\n",
    "# 二分图 当前结点的所有邻接点一个颜色  且和当前结点颜色相反\n",
    "\n",
    "\n",
    "class Solution:\n",
    "    def isBipartite(self, graph: List[List[int]]) -> bool:\n",
    "        lgh = len(graph)\n",
    "        roots = list(range(lgh))\n",
    "        rank = [1] * lgh\n",
    "\n",
    "        def find(x):\n",
    "            if roots[x] != x:\n",
    "                roots[x] = find(roots[x])\n",
    "            return roots[x]\n",
    "\n",
    "        def union(x, y):\n",
    "            rx, ry = find(x), find(y)\n",
    "            if rx != ry:\n",
    "                if rank[rx] < rank[ry]:\n",
    "                    roots[rx] = ry\n",
    "                elif rank[ry] < rank[rx]:\n",
    "                    roots[ry] = rx\n",
    "                else:\n",
    "                    roots[rx] = ry\n",
    "                    rank[ry] += 1\n",
    "\n",
    "        for cur in range(lgh):\n",
    "            if graph[cur]:\n",
    "                for nei in graph[cur]:\n",
    "                    if find(nei) == find(cur):\n",
    "                        return False\n",
    "                    union(nei, graph[cur][0])\n",
    "        return True"
   ]
  }
 ],
 "metadata": {
  "kernelspec": {
   "display_name": "Python 3.8.10 64-bit",
   "language": "python",
   "name": "python3"
  },
  "language_info": {
   "codemirror_mode": {
    "name": "ipython",
    "version": 3
   },
   "file_extension": ".py",
   "mimetype": "text/x-python",
   "name": "python",
   "nbconvert_exporter": "python",
   "pygments_lexer": "ipython3",
   "version": "3.8.10"
  },
  "orig_nbformat": 4,
  "vscode": {
   "interpreter": {
    "hash": "570feb405e2e27c949193ac68f46852414290d515b0ba6e5d90d076ed2284471"
   }
  }
 },
 "nbformat": 4,
 "nbformat_minor": 2
}
