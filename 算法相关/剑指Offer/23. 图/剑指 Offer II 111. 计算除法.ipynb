{
 "cells": [
  {
   "cell_type": "code",
   "execution_count": 4,
   "metadata": {},
   "outputs": [
    {
     "data": {
      "text/plain": [
       "[6.0, 0.5, -1, 1, -1]"
      ]
     },
     "execution_count": 4,
     "metadata": {},
     "output_type": "execute_result"
    }
   ],
   "source": [
    "from typing import List\n",
    "from collections import defaultdict, deque\n",
    "\n",
    "\n",
    "class Solution:\n",
    "    def calcEquation(self, equations: List[List[str]], values: List[float], queries: List[List[str]]) -> List[float]:\n",
    "        adj = defaultdict(lambda: defaultdict(int))\n",
    "        for (a, b), v in zip(equations, values):\n",
    "            adj[a][b] = v\n",
    "            adj[b][a] = 1/v\n",
    "\n",
    "        def bfs(start, target):\n",
    "            if start not in adj or target not in adj:\n",
    "                return -1\n",
    "            q = deque([(1, start)])  # res,cur\n",
    "            vis = {start}\n",
    "            while q:\n",
    "                res, cur = q.popleft()\n",
    "                if cur == target:\n",
    "                    return res\n",
    "                for nei, cost in adj[cur].items():\n",
    "                    if nei not in vis:\n",
    "                        vis.add(nei)\n",
    "                        q.append((res*cost, nei))\n",
    "            return -1\n",
    "        ans = []\n",
    "        for start, target in queries:\n",
    "            ans.append(bfs(start, target))\n",
    "        return ans\n",
    "\n",
    "\n",
    "s = Solution()\n",
    "s.calcEquation([[\"a\", \"b\"], [\"b\", \"c\"]],  [2.0, 3.0],  [\n",
    "               [\"a\", \"c\"], [\"b\", \"a\"], [\"a\", \"e\"], [\"a\", \"a\"], [\"x\", \"x\"]])\n"
   ]
  }
 ],
 "metadata": {
  "kernelspec": {
   "display_name": "Python 3.8.10 64-bit",
   "language": "python",
   "name": "python3"
  },
  "language_info": {
   "codemirror_mode": {
    "name": "ipython",
    "version": 3
   },
   "file_extension": ".py",
   "mimetype": "text/x-python",
   "name": "python",
   "nbconvert_exporter": "python",
   "pygments_lexer": "ipython3",
   "version": "3.8.10"
  },
  "orig_nbformat": 4,
  "vscode": {
   "interpreter": {
    "hash": "570feb405e2e27c949193ac68f46852414290d515b0ba6e5d90d076ed2284471"
   }
  }
 },
 "nbformat": 4,
 "nbformat_minor": 2
}
