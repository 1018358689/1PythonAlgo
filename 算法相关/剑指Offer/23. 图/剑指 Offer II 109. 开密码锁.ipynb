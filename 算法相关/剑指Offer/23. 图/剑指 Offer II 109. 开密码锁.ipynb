{
 "cells": [
  {
   "cell_type": "code",
   "execution_count": 2,
   "metadata": {},
   "outputs": [
    {
     "data": {
      "text/plain": [
       "8"
      ]
     },
     "execution_count": 2,
     "metadata": {},
     "output_type": "execute_result"
    }
   ],
   "source": [
    "-2%10"
   ]
  },
  {
   "cell_type": "code",
   "execution_count": 2,
   "metadata": {},
   "outputs": [
    {
     "data": {
      "text/plain": [
       "6"
      ]
     },
     "execution_count": 2,
     "metadata": {},
     "output_type": "execute_result"
    }
   ],
   "source": [
    "from typing import List\n",
    "from collections import deque\n",
    "\n",
    "\n",
    "class Solution:\n",
    "    def openLock(self, deadends: List[str], target: str) -> int:\n",
    "        deadends = set(deadends)\n",
    "        if '0000' in deadends:\n",
    "            return -1\n",
    "\n",
    "        def rotate(state):\n",
    "            for i in range(4):\n",
    "                for j in (-1, 1):\n",
    "                    yield state[:i] + str((int(state[i]) + j) % 10) + state[i + 1:]\n",
    "\n",
    "        q = deque([(0, '0000')])\n",
    "        deadends.add('0000')\n",
    "        while q:\n",
    "            step, cur = q.popleft()\n",
    "            if cur == target:\n",
    "                return step\n",
    "            for nei in rotate(cur):\n",
    "                if nei not in deadends:\n",
    "                    deadends.add(nei)\n",
    "                    q.append((step + 1, nei))\n",
    "        return -1\n",
    "\n",
    "\n",
    "s = Solution()\n",
    "s.openLock([\"0201\", \"0101\", \"0102\", \"1212\", \"2002\"], \"0202\")\n"
   ]
  },
  {
   "cell_type": "code",
   "execution_count": 5,
   "metadata": {},
   "outputs": [
    {
     "data": {
      "text/plain": [
       "6"
      ]
     },
     "execution_count": 5,
     "metadata": {},
     "output_type": "execute_result"
    }
   ],
   "source": [
    "# A*算法\n",
    "from typing import List\n",
    "import heapq\n",
    "\n",
    "\n",
    "class Solution:\n",
    "    def openLock(self, deadends: List[str], target: str) -> int:\n",
    "        deadends = set(deadends)\n",
    "        if '0000' in deadends:\n",
    "            return -1\n",
    "\n",
    "        def rotate(state):\n",
    "            for i in range(4):\n",
    "                for j in (-1, 1):\n",
    "                    yield state[:i] + str((int(state[i]) + j) % 10) + state[i + 1:]\n",
    "\n",
    "        def h(state):\n",
    "            res = 0\n",
    "            for i, j in zip(state, target):\n",
    "                d = abs(int(i) - int(j))\n",
    "                res += min(d, 10 - d)\n",
    "            return res\n",
    "\n",
    "        pq = [(h('0000'), 0, '0000')]\n",
    "        best = set()\n",
    "        costs = {'0000': 0}\n",
    "        while pq:\n",
    "            _, step, cur = heapq.heappop(pq)\n",
    "            if cur == target:\n",
    "                return step\n",
    "            best.add(cur)\n",
    "            for nei in rotate(cur):\n",
    "                if nei not in best and nei not in deadends:\n",
    "                    if nei not in costs or step + 1 < costs[nei]:\n",
    "                        costs[nei] = step + 1\n",
    "                        priority = costs[nei] + h(nei)\n",
    "                        heapq.heappush(pq, (priority, step + 1, nei))\n",
    "        return -1\n",
    "\n",
    "\n",
    "s = Solution()\n",
    "s.openLock([\"0201\", \"0101\", \"0102\", \"1212\", \"2002\"], \"0202\")\n"
   ]
  },
  {
   "cell_type": "code",
   "execution_count": null,
   "metadata": {},
   "outputs": [],
   "source": []
  }
 ],
 "metadata": {
  "kernelspec": {
   "display_name": "Python 3.8.10 64-bit",
   "language": "python",
   "name": "python3"
  },
  "language_info": {
   "codemirror_mode": {
    "name": "ipython",
    "version": 3
   },
   "file_extension": ".py",
   "mimetype": "text/x-python",
   "name": "python",
   "nbconvert_exporter": "python",
   "pygments_lexer": "ipython3",
   "version": "3.8.10"
  },
  "orig_nbformat": 4,
  "vscode": {
   "interpreter": {
    "hash": "570feb405e2e27c949193ac68f46852414290d515b0ba6e5d90d076ed2284471"
   }
  }
 },
 "nbformat": 4,
 "nbformat_minor": 2
}
