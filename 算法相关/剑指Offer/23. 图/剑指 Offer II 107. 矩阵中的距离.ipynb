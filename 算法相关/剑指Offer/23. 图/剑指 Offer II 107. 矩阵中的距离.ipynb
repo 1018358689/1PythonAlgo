{
 "cells": [
  {
   "cell_type": "code",
   "execution_count": 5,
   "metadata": {},
   "outputs": [],
   "source": [
    "from typing import List\n",
    "from collections import deque\n",
    "\n",
    "\n",
    "class Solution:\n",
    "    def updateMatrix(self, mat: List[List[int]]) -> List[List[int]]:\n",
    "        rows, cols = len(mat), len(mat[0])\n",
    "\n",
    "        def bfs(r, c):\n",
    "            q = deque([(r, c, 0)])\n",
    "            vis = {(r, c)}\n",
    "            while q:\n",
    "                r, c, step = q.popleft()\n",
    "                if mat[r][c] == 0:\n",
    "                    return step\n",
    "                for nr, nc in ((r + 1, c), (r - 1, c), (r, c + 1), (r, c - 1)):\n",
    "                    if 0 <= nr < rows and 0 <= nc < cols and (nr, nc) not in vis:\n",
    "                        vis.add((nr, nc))\n",
    "                        q.append((nr, nc, step + 1))\n",
    "\n",
    "        ans = [[0] * cols for _ in range(rows)]\n",
    "        for r in range(rows):\n",
    "            for c in range(cols):\n",
    "                ans[r][c] = bfs(r, c)\n",
    "        return ans"
   ]
  },
  {
   "cell_type": "code",
   "execution_count": null,
   "metadata": {},
   "outputs": [],
   "source": [
    "import itertools\n",
    "from typing import List\n",
    "from collections import deque\n",
    "\n",
    "\n",
    "class Solution:\n",
    "    def updateMatrix(self, mat: List[List[int]]) -> List[List[int]]:\n",
    "        rows, cols = len(mat), len(mat[0])\n",
    "        q = deque([])\n",
    "        vis = set()\n",
    "        for r, c in itertools.product(range(rows), range(cols)):\n",
    "            if mat[r][c] == 0:\n",
    "                q.append((r, c, 0))\n",
    "                vis.add((r, c))\n",
    "        ans = [[0] * cols for _ in range(rows)]\n",
    "        while q:\n",
    "            r, c, step = q.popleft()\n",
    "            for nr, nc in ((r + 1, c), (r - 1, c), (r, c + 1), (r, c - 1)):\n",
    "                if 0 <= nr < rows and 0 <= nc < cols and (nr, nc) not in vis:  # and mat[nr][nc] == 1\n",
    "                    q.append((nr, nc, step + 1))\n",
    "                    vis.add((nr, nc))\n",
    "                    ans[nr][nc] = step + 1\n",
    "        return ans"
   ]
  }
 ],
 "metadata": {
  "kernelspec": {
   "display_name": "Python 3.8.10 64-bit",
   "language": "python",
   "name": "python3"
  },
  "language_info": {
   "codemirror_mode": {
    "name": "ipython",
    "version": 3
   },
   "file_extension": ".py",
   "mimetype": "text/x-python",
   "name": "python",
   "nbconvert_exporter": "python",
   "pygments_lexer": "ipython3",
   "version": "3.8.10"
  },
  "orig_nbformat": 4,
  "vscode": {
   "interpreter": {
    "hash": "570feb405e2e27c949193ac68f46852414290d515b0ba6e5d90d076ed2284471"
   }
  }
 },
 "nbformat": 4,
 "nbformat_minor": 2
}
