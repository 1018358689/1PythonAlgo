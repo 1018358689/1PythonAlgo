{
 "cells": [
  {
   "cell_type": "code",
   "execution_count": null,
   "metadata": {},
   "outputs": [],
   "source": [
    "from typing import List\n",
    "import heapq\n",
    "\n",
    "\n",
    "class Solution:\n",
    "    def kSmallestPairs(self, nums1: List[int], nums2: List[int], k: int) -> List[List[int]]:\n",
    "        pq = []\n",
    "        for i in nums1:\n",
    "            for j in nums2:\n",
    "                heapq.heappush(pq, (i + j, (i, j)))\n",
    "        ans = []\n",
    "        for _ in range(k):\n",
    "            if pq:\n",
    "                ans.append(heapq.heappop(pq)[1])\n",
    "            else:\n",
    "                break\n",
    "        return ans\n"
   ]
  }
 ],
 "metadata": {
  "language_info": {
   "name": "python"
  },
  "orig_nbformat": 4
 },
 "nbformat": 4,
 "nbformat_minor": 2
}
