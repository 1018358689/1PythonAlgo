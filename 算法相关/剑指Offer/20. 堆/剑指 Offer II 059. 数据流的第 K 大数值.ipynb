{
 "cells": [
  {
   "cell_type": "code",
   "execution_count": null,
   "metadata": {},
   "outputs": [],
   "source": [
    "import heapq\n",
    "from typing import List\n",
    "\n",
    "\n",
    "class KthLargest:\n",
    "    def __init__(self, k: int, nums: List[int]):\n",
    "        self.pq = []\n",
    "        self.k = k\n",
    "        for n in nums:\n",
    "            heapq.heappush(self.pq, n)\n",
    "            if len(self.pq) > k:\n",
    "                heapq.heappop(self.pq)\n",
    "\n",
    "    def add(self, val: int) -> int:\n",
    "        heapq.heappush(self.pq, val)\n",
    "        if len(self.pq) > self.k:\n",
    "            heapq.heappop(self.pq)\n",
    "        return self.pq[0]\n",
    "\n",
    "\n",
    "# Your KthLargest object will be instantiated and called as such:\n",
    "# obj = KthLargest(k, nums)\n",
    "# param_1 = obj.add(val)"
   ]
  }
 ],
 "metadata": {
  "language_info": {
   "name": "python"
  },
  "orig_nbformat": 4
 },
 "nbformat": 4,
 "nbformat_minor": 2
}
