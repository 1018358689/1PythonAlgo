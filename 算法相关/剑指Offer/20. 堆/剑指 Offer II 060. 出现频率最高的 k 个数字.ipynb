{
 "cells": [
  {
   "cell_type": "code",
   "execution_count": null,
   "metadata": {},
   "outputs": [],
   "source": [
    "from typing import List\n",
    "from collections import Counter\n",
    "import heapq\n",
    "\n",
    "\n",
    "class Solution:\n",
    "    def topKFrequent(self, nums: List[int], n: int) -> List[int]:\n",
    "        pq = []\n",
    "        for k, c in Counter(nums).items():\n",
    "            heapq.heappush(pq, (-c, k))\n",
    "        ans = []\n",
    "        for _ in range(n):\n",
    "            ans.append(heapq.heappop(pq)[1])\n",
    "        return ans"
   ]
  }
 ],
 "metadata": {
  "language_info": {
   "name": "python"
  },
  "orig_nbformat": 4
 },
 "nbformat": 4,
 "nbformat_minor": 2
}
