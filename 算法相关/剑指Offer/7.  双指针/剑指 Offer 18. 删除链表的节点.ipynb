{
 "cells": [
  {
   "cell_type": "code",
   "execution_count": 1,
   "metadata": {},
   "outputs": [],
   "source": [
    "# Definition for singly-linked list.\n",
    "class ListNode:\n",
    "    def __init__(self, x):\n",
    "        self.val = x\n",
    "        self.next = None\n",
    "\n",
    "\n",
    "class Solution:\n",
    "    def deleteNode(self, head: ListNode, val: int) -> ListNode:\n",
    "        if head.val == val: return head.next\n",
    "        cur, pre = head, None\n",
    "        while cur:\n",
    "            if cur.val == val:\n",
    "                pre.next = cur.next\n",
    "                break\n",
    "            pre, cur = cur, cur.next\n",
    "        return head"
   ]
  },
  {
   "cell_type": "code",
   "execution_count": 2,
   "metadata": {},
   "outputs": [],
   "source": [
    "# Definition for singly-linked list.\n",
    "class ListNode:\n",
    "    def __init__(self, x):\n",
    "        self.val = x\n",
    "        self.next = None\n",
    "\n",
    "\n",
    "class Solution:\n",
    "    def deleteNode(self, head: ListNode, val: int) -> ListNode:\n",
    "        dummy = ListNode(0)\n",
    "        dummy.next = head\n",
    "        cur, pre = head, dummy\n",
    "        while cur:\n",
    "            if cur.val == val:\n",
    "                pre.next = cur.next\n",
    "                break\n",
    "            pre, cur = cur, cur.next\n",
    "        return dummy.next"
   ]
  },
  {
   "cell_type": "code",
   "execution_count": null,
   "metadata": {},
   "outputs": [],
   "source": [
    "# Definition for singly-linked list.\n",
    "class ListNode:\n",
    "    def __init__(self, x):\n",
    "        self.val = x\n",
    "        self.next = None\n",
    "\n",
    "\n",
    "class Solution:\n",
    "    def deleteNode(self, head: ListNode, val: int) -> ListNode:\n",
    "        if head.val == val:\n",
    "            return head.next\n",
    "        head.next = self.deleteNode(head.next, val)\n",
    "        return head"
   ]
  }
 ],
 "metadata": {
  "interpreter": {
   "hash": "de72d97932d649c6d75aa79b73261cc3e8a1ae5e7cab8a9115f0bbb1518a7af2"
  },
  "kernelspec": {
   "display_name": "Python 3.8.10 64-bit",
   "language": "python",
   "name": "python3"
  },
  "language_info": {
   "codemirror_mode": {
    "name": "ipython",
    "version": 3
   },
   "file_extension": ".py",
   "mimetype": "text/x-python",
   "name": "python",
   "nbconvert_exporter": "python",
   "pygments_lexer": "ipython3",
   "version": "3.8.10"
  },
  "orig_nbformat": 4
 },
 "nbformat": 4,
 "nbformat_minor": 2
}
