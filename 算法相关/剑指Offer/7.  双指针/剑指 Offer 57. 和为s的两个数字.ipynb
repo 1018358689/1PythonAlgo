{
 "cells": [
  {
   "cell_type": "code",
   "execution_count": 1,
   "metadata": {},
   "outputs": [
    {
     "data": {
      "text/plain": [
       "[2, 7]"
      ]
     },
     "execution_count": 1,
     "metadata": {},
     "output_type": "execute_result"
    }
   ],
   "source": [
    "from typing import List\n",
    "\n",
    "\n",
    "class Solution:\n",
    "\n",
    "    def twoSum(self, nums: List[int], target: int) -> List[int]:\n",
    "        l, r = 0, len(nums) - 1\n",
    "        while l < r:\n",
    "            if (s := nums[l] + nums[r]) > target:\n",
    "                r -= 1\n",
    "            elif s < target:\n",
    "                l += 1\n",
    "            else:\n",
    "                return [nums[l], nums[r]]\n",
    "\n",
    "\n",
    "s = Solution()\n",
    "s.twoSum([2, 7, 11, 15], 9)\n"
   ]
  },
  {
   "cell_type": "code",
   "execution_count": 2,
   "metadata": {},
   "outputs": [],
   "source": [
    "from typing import List\n",
    "\n",
    "\n",
    "class Solution:\n",
    "\n",
    "    def twoSum(self, nums: List[int], target: int) -> List[int]:\n",
    "        ha = set()\n",
    "        for n in nums:\n",
    "            if (need := target - n) in ha:\n",
    "                return [need, n]\n",
    "            ha.add(n)"
   ]
  },
  {
   "cell_type": "code",
   "execution_count": null,
   "metadata": {},
   "outputs": [],
   "source": [
    "from typing import List\n",
    "\n",
    "\n",
    "class Solution:\n",
    "\n",
    "    def search(self, nums, si, ei, target):\n",
    "        l, r = si, ei\n",
    "        while l <= r:\n",
    "            m = l + r >> 1\n",
    "            if nums[m] > target:\n",
    "                r = m - 1\n",
    "            elif nums[m] < target:\n",
    "                l = m + 1\n",
    "            else:\n",
    "                return nums[m]\n",
    "        return None\n",
    "\n",
    "    def twoSum(self, nums: List[int], target: int) -> List[int]:\n",
    "        for i, left in enumerate(nums):\n",
    "            right = self.search(nums, i + 1, len(nums) - 1, target - left)\n",
    "            if right is not None:\n",
    "                return [left, right]\n"
   ]
  }
 ],
 "metadata": {
  "interpreter": {
   "hash": "97367d2de1780ea7c502b529f25888c1b53c0430a7611816b6c7cf19d8435228"
  },
  "kernelspec": {
   "display_name": "Python 3.10.4 64-bit (windows store)",
   "language": "python",
   "name": "python3"
  },
  "language_info": {
   "codemirror_mode": {
    "name": "ipython",
    "version": 3
   },
   "file_extension": ".py",
   "mimetype": "text/x-python",
   "name": "python",
   "nbconvert_exporter": "python",
   "pygments_lexer": "ipython3",
   "version": "3.10.4"
  },
  "orig_nbformat": 4
 },
 "nbformat": 4,
 "nbformat_minor": 2
}
