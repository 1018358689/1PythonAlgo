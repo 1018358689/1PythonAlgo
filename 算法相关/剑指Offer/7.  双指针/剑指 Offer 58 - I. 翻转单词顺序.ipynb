{
 "cells": [
  {
   "cell_type": "code",
   "execution_count": 1,
   "metadata": {},
   "outputs": [],
   "source": [
    "class Solution:\n",
    "\n",
    "    def reverseWords(self, s: str) -> str:\n",
    "        x = s.split()\n",
    "        return ' '.join(x[::-1])"
   ]
  },
  {
   "cell_type": "code",
   "execution_count": null,
   "metadata": {},
   "outputs": [],
   "source": [
    "class Solution:\n",
    "\n",
    "    def reverseWords(self, s: str) -> str:\n",
    "        x = s.split()\n",
    "        l, r = 0, len(x) - 1\n",
    "        while l < r:\n",
    "            x[l], x[r] = x[r], x[l]\n",
    "            l += 1\n",
    "            r -= 1\n",
    "        return ' '.join(x)"
   ]
  }
 ],
 "metadata": {
  "interpreter": {
   "hash": "97367d2de1780ea7c502b529f25888c1b53c0430a7611816b6c7cf19d8435228"
  },
  "kernelspec": {
   "display_name": "Python 3.10.4 64-bit (windows store)",
   "language": "python",
   "name": "python3"
  },
  "language_info": {
   "codemirror_mode": {
    "name": "ipython",
    "version": 3
   },
   "file_extension": ".py",
   "mimetype": "text/x-python",
   "name": "python",
   "nbconvert_exporter": "python",
   "pygments_lexer": "ipython3",
   "version": "3.10.4"
  },
  "orig_nbformat": 4
 },
 "nbformat": 4,
 "nbformat_minor": 2
}
