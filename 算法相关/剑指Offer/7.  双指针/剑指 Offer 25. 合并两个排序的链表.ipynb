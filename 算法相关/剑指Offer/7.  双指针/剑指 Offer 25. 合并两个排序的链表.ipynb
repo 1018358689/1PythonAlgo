{
 "cells": [
  {
   "cell_type": "code",
   "execution_count": 1,
   "metadata": {},
   "outputs": [],
   "source": [
    "# Definition for singly-linked list.\n",
    "class ListNode:\n",
    "    def __init__(self, x):\n",
    "        self.val = x\n",
    "        self.next = None\n",
    "\n",
    "\n",
    "class Solution:\n",
    "    def mergeTwoLists(self, l1: ListNode, l2: ListNode) -> ListNode:\n",
    "        p1, p2 = l1, l2\n",
    "        dummy = cur = ListNode(0)\n",
    "        while p1 and p2:\n",
    "            if p1.val < p2.val:\n",
    "                cur.next = p1\n",
    "                p1 = p1.next\n",
    "            else:\n",
    "                cur.next = p2\n",
    "                p2 = p2.next\n",
    "            cur = cur.next\n",
    "        if p1:\n",
    "            cur.next = p1\n",
    "        else:\n",
    "            cur.next = p2\n",
    "        return dummy.next"
   ]
  },
  {
   "cell_type": "code",
   "execution_count": null,
   "metadata": {},
   "outputs": [],
   "source": [
    "# Definition for singly-linked list.\n",
    "class ListNode:\n",
    "    def __init__(self, x):\n",
    "        self.val = x\n",
    "        self.next = None\n",
    "\n",
    "\n",
    "class Solution:\n",
    "    def mergeTwoLists(self, l1: ListNode, l2: ListNode) -> ListNode:\n",
    "        p1, p2 = l1, l2\n",
    "        dummy = cur = ListNode(0)\n",
    "        while p1 and p2:\n",
    "            if p1.val < p2.val:\n",
    "                tmp = ListNode(p1.val)\n",
    "                cur.next = tmp\n",
    "                p1 = p1.next\n",
    "            else:\n",
    "                tmp = ListNode(p2.val)\n",
    "                cur.next = tmp\n",
    "                p2 = p2.next\n",
    "            cur = cur.next\n",
    "        if p1:\n",
    "            cur.next = p1\n",
    "        else:\n",
    "            cur.next = p2\n",
    "        return dummy.next"
   ]
  }
 ],
 "metadata": {
  "interpreter": {
   "hash": "de72d97932d649c6d75aa79b73261cc3e8a1ae5e7cab8a9115f0bbb1518a7af2"
  },
  "kernelspec": {
   "display_name": "Python 3.8.10 64-bit",
   "language": "python",
   "name": "python3"
  },
  "language_info": {
   "codemirror_mode": {
    "name": "ipython",
    "version": 3
   },
   "file_extension": ".py",
   "mimetype": "text/x-python",
   "name": "python",
   "nbconvert_exporter": "python",
   "pygments_lexer": "ipython3",
   "version": "3.8.10"
  },
  "orig_nbformat": 4
 },
 "nbformat": 4,
 "nbformat_minor": 2
}
