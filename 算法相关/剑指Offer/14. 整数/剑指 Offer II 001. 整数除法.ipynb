{
 "cells": [
  {
   "cell_type": "markdown",
   "metadata": {},
   "source": [
    "![](2022-06-16-09-39-31.png)"
   ]
  },
  {
   "cell_type": "code",
   "execution_count": 1,
   "metadata": {},
   "outputs": [
    {
     "data": {
      "text/plain": [
       "(5, 10, 20, 40, 80, 160)"
      ]
     },
     "execution_count": 1,
     "metadata": {},
     "output_type": "execute_result"
    }
   ],
   "source": [
    "divmod(64, 5)\n",
    "5 << 0, 5 << 1, 5 << 2, 5 << 3, 5 << 4, 5 << 5\n"
   ]
  },
  {
   "cell_type": "code",
   "execution_count": 9,
   "metadata": {},
   "outputs": [
    {
     "data": {
      "text/plain": [
       "12"
      ]
     },
     "execution_count": 9,
     "metadata": {},
     "output_type": "execute_result"
    }
   ],
   "source": [
    "class Solution:\n",
    "    def divide(self, a: int, b: int) -> int:\n",
    "        if (a > 0 and b > 0) or (a < 0 and b < 0):\n",
    "            sig = 1\n",
    "        else:\n",
    "            sig = -1\n",
    "        a, b = abs(a), abs(b)\n",
    "        quo = 0\n",
    "\n",
    "        def dfs(a, b):\n",
    "            if a < b:\n",
    "                return\n",
    "            tmp = b\n",
    "            cnt = 0\n",
    "            while tmp <= a:\n",
    "                cnt += 1\n",
    "                tmp = b<<cnt\n",
    "                # tmp <<= 1\n",
    "                # cnt += 1\n",
    "            cnt -= 1\n",
    "            nonlocal quo\n",
    "            quo += 1 << cnt\n",
    "            dfs(a - (tmp >> 1), b)\n",
    "\n",
    "        dfs(a, b)\n",
    "        res = sig * quo\n",
    "        if -(1 << 31) <= res <= (1 << 31) - 1:\n",
    "            return res\n",
    "        else:\n",
    "            return (1 << 31) - 1\n",
    "\n",
    "\n",
    "s = Solution()\n",
    "s.divide(64, 5)\n"
   ]
  },
  {
   "cell_type": "code",
   "execution_count": null,
   "metadata": {},
   "outputs": [],
   "source": []
  }
 ],
 "metadata": {
  "kernelspec": {
   "display_name": "Python 3.8.10 64-bit",
   "language": "python",
   "name": "python3"
  },
  "language_info": {
   "codemirror_mode": {
    "name": "ipython",
    "version": 3
   },
   "file_extension": ".py",
   "mimetype": "text/x-python",
   "name": "python",
   "nbconvert_exporter": "python",
   "pygments_lexer": "ipython3",
   "version": "3.8.10"
  },
  "orig_nbformat": 4,
  "vscode": {
   "interpreter": {
    "hash": "de72d97932d649c6d75aa79b73261cc3e8a1ae5e7cab8a9115f0bbb1518a7af2"
   }
  }
 },
 "nbformat": 4,
 "nbformat_minor": 2
}
