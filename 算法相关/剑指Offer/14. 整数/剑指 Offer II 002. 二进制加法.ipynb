{
 "cells": [
  {
   "cell_type": "code",
   "execution_count": 1,
   "metadata": {},
   "outputs": [],
   "source": [
    "class Solution:\n",
    "    def addBinary(self, a: str, b: str) -> str:\n",
    "        maxlgh = max(len(a), len(b))\n",
    "\n",
    "        def get(s, i): # 补位获取\n",
    "            d = maxlgh - len(s)\n",
    "            if i - d >= 0:\n",
    "                return int(s[i - d])\n",
    "            else:\n",
    "                return 0\n",
    "\n",
    "        ans = ''\n",
    "        carry = 0\n",
    "        for i in range(maxlgh - 1, -1, -1):\n",
    "            n1, n2 = get(a, i), get(b, i)\n",
    "            carry, tmp = divmod(n1 + n2 + carry, 2)\n",
    "            ans += str(tmp)\n",
    "        if carry == 1:\n",
    "            ans += '1'\n",
    "        return ans[::-1]\n"
   ]
  },
  {
   "cell_type": "code",
   "execution_count": null,
   "metadata": {},
   "outputs": [],
   "source": []
  }
 ],
 "metadata": {
  "kernelspec": {
   "display_name": "Python 3.8.10 64-bit",
   "language": "python",
   "name": "python3"
  },
  "language_info": {
   "codemirror_mode": {
    "name": "ipython",
    "version": 3
   },
   "file_extension": ".py",
   "mimetype": "text/x-python",
   "name": "python",
   "nbconvert_exporter": "python",
   "pygments_lexer": "ipython3",
   "version": "3.8.10"
  },
  "orig_nbformat": 4,
  "vscode": {
   "interpreter": {
    "hash": "de72d97932d649c6d75aa79b73261cc3e8a1ae5e7cab8a9115f0bbb1518a7af2"
   }
  }
 },
 "nbformat": 4,
 "nbformat_minor": 2
}
