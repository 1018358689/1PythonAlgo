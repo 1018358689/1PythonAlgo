{
 "cells": [
  {
   "cell_type": "code",
   "execution_count": 6,
   "metadata": {},
   "outputs": [
    {
     "data": {
      "text/plain": [
       "(3, 100)"
      ]
     },
     "execution_count": 6,
     "metadata": {},
     "output_type": "execute_result"
    }
   ],
   "source": [
    "from typing import List\n",
    "\n",
    "\n",
    "class Solution:\n",
    "    def singleNumber(self, nums: List[int]) -> int:\n",
    "        countArr = [0] * 32  # 第i位总共有多少1\n",
    "        for i in range(32):\n",
    "            for n in nums:\n",
    "                countArr[i] += n >> i & 1\n",
    "                # countArr[i] %= 3\n",
    "        for i in range(32):\n",
    "            countArr[i] %= 3\n",
    "        ans = 0\n",
    "        for i, n in enumerate(countArr):\n",
    "            ans |= n << i\n",
    "        return ans if countArr[31] == 0 else ~(ans ^ 0xffffffff)\n",
    "\n",
    "\n",
    "s = Solution()\n",
    "s.singleNumber([2, 2, 3, 2]), s.singleNumber([0, 1, 0, 1, 0, 1, 100])\n"
   ]
  }
 ],
 "metadata": {
  "kernelspec": {
   "display_name": "Python 3.8.10 64-bit",
   "language": "python",
   "name": "python3"
  },
  "language_info": {
   "codemirror_mode": {
    "name": "ipython",
    "version": 3
   },
   "file_extension": ".py",
   "mimetype": "text/x-python",
   "name": "python",
   "nbconvert_exporter": "python",
   "pygments_lexer": "ipython3",
   "version": "3.8.10"
  },
  "orig_nbformat": 4,
  "vscode": {
   "interpreter": {
    "hash": "de72d97932d649c6d75aa79b73261cc3e8a1ae5e7cab8a9115f0bbb1518a7af2"
   }
  }
 },
 "nbformat": 4,
 "nbformat_minor": 2
}
