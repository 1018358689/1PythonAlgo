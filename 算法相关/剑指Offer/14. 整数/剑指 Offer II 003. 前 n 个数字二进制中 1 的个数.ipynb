{
 "cells": [
  {
   "cell_type": "code",
   "execution_count": 1,
   "metadata": {},
   "outputs": [],
   "source": [
    "from typing import List\n",
    "\n",
    "\n",
    "class Solution:\n",
    "    def countBits(self, n: int) -> List[int]:\n",
    "        def cal(n):\n",
    "            cnt = 0\n",
    "            while n:\n",
    "                if n & 1 == 1:\n",
    "                    cnt += 1\n",
    "                n >>= 1\n",
    "            return cnt\n",
    "\n",
    "        ans = []\n",
    "        for n in range(n + 1):\n",
    "            ans += [cal(n)]\n",
    "        return ans"
   ]
  },
  {
   "cell_type": "code",
   "execution_count": 2,
   "metadata": {},
   "outputs": [],
   "source": [
    "# lowbit\n",
    "from typing import List\n",
    "\n",
    "\n",
    "class Solution:\n",
    "    def countBits(self, n: int) -> List[int]:\n",
    "        def cal(n):\n",
    "            cnt = 0\n",
    "            while n:\n",
    "                cnt += 1\n",
    "                n = n & (n - 1)\n",
    "            return cnt\n",
    "\n",
    "        ans = []\n",
    "        for n in range(n + 1):\n",
    "            ans += [cal(n)]\n",
    "        return ans"
   ]
  },
  {
   "cell_type": "code",
   "execution_count": 3,
   "metadata": {},
   "outputs": [],
   "source": [
    "# dp\n",
    "from typing import List\n",
    "\n",
    "\n",
    "class Solution:\n",
    "    def countBits(self, n: int) -> List[int]:\n",
    "        # dp[i] i的二进制数\n",
    "        # dp[i] = dp[i-1]+1 if i&1==1 else dp[i>>1]\n",
    "        # basecase dp[0]=0\n",
    "        dp = [0] * (n + 1)\n",
    "        for i in range(1, n + 1):\n",
    "            dp[i] = dp[i - 1] + 1 if i & 1 == 1 else dp[i >> 1]\n",
    "        return dp"
   ]
  },
  {
   "cell_type": "code",
   "execution_count": null,
   "metadata": {},
   "outputs": [],
   "source": [
    "# dp\n",
    "from typing import List\n",
    "\n",
    "\n",
    "class Solution:\n",
    "    def countBits(self, n: int) -> List[int]:\n",
    "        # dp[i] i的二进制数\n",
    "        # dp[i] = dp[i>>1] + (i&1)\n",
    "        # basecase dp[0]=0\n",
    "        dp = [0] * (n + 1)\n",
    "        for i in range(1, n + 1):\n",
    "            dp[i] = dp[i >> 1] + (i & 1)\n",
    "        return dp"
   ]
  }
 ],
 "metadata": {
  "kernelspec": {
   "display_name": "Python 3.8.10 64-bit",
   "language": "python",
   "name": "python3"
  },
  "language_info": {
   "codemirror_mode": {
    "name": "ipython",
    "version": 3
   },
   "file_extension": ".py",
   "mimetype": "text/x-python",
   "name": "python",
   "nbconvert_exporter": "python",
   "pygments_lexer": "ipython3",
   "version": "3.8.10"
  },
  "orig_nbformat": 4,
  "vscode": {
   "interpreter": {
    "hash": "de72d97932d649c6d75aa79b73261cc3e8a1ae5e7cab8a9115f0bbb1518a7af2"
   }
  }
 },
 "nbformat": 4,
 "nbformat_minor": 2
}
