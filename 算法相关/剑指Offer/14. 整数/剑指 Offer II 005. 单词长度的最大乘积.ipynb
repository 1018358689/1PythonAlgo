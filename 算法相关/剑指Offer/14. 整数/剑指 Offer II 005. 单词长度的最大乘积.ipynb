{
 "cells": [
  {
   "cell_type": "code",
   "execution_count": 6,
   "metadata": {},
   "outputs": [
    {
     "data": {
      "text/plain": [
       "4"
      ]
     },
     "execution_count": 6,
     "metadata": {},
     "output_type": "execute_result"
    }
   ],
   "source": [
    "from typing import List\n",
    "\n",
    "\n",
    "class Solution:\n",
    "\n",
    "    def maxProduct(self, words: List[str]) -> int:\n",
    "\n",
    "        def tran(word: str):\n",
    "            ans = 0\n",
    "            for w in word:\n",
    "                ans |= 1 << (ord(w) - ord('a'))\n",
    "            return ans\n",
    "\n",
    "        words = [(tran(word), len(word)) for word in words]\n",
    "        ans = 0\n",
    "        for i in range(len(words) - 1):\n",
    "            w1, l1 = words[i]\n",
    "            for j in range(i + 1, len(words)):\n",
    "                w2, l2 = words[j]\n",
    "                if w1 & w2 == 0:\n",
    "                    ans = max(ans, l1 * l2)\n",
    "        return ans\n",
    "\n",
    "\n",
    "s = Solution()\n",
    "s.maxProduct([\"a\", \"ab\", \"abc\", \"d\", \"cd\", \"bcd\", \"abcd\"])\n"
   ]
  },
  {
   "cell_type": "code",
   "execution_count": 7,
   "metadata": {},
   "outputs": [
    {
     "data": {
      "text/plain": [
       "4"
      ]
     },
     "execution_count": 7,
     "metadata": {},
     "output_type": "execute_result"
    }
   ],
   "source": [
    "from typing import List\n",
    "\n",
    "\n",
    "class Solution:\n",
    "\n",
    "    def maxProduct(self, words: List[str]) -> int:\n",
    "\n",
    "        def tran(word: str):\n",
    "            ans = 0\n",
    "            for w in word:\n",
    "                ans |= 1 << (ord(w) - ord('a'))\n",
    "            return ans\n",
    "\n",
    "        words = [(tran(word), len(word)) for word in words]\n",
    "        words.sort(key=lambda x: x[1], reverse=True)\n",
    "        ans = 0\n",
    "        for i in range(len(words) - 1):\n",
    "            w1, l1 = words[i]\n",
    "            for j in range(i + 1, len(words)):\n",
    "                w2, l2 = words[j]\n",
    "                if l1 * l2 <= ans: # 加个剪枝\n",
    "                    break\n",
    "                if w1 & w2 == 0:\n",
    "                    ans = l1 * l2  # max(ans, l1 * l2)\n",
    "        return ans\n",
    "\n",
    "\n",
    "s = Solution()\n",
    "s.maxProduct([\"a\", \"ab\", \"abc\", \"d\", \"cd\", \"bcd\", \"abcd\"])\n"
   ]
  },
  {
   "cell_type": "code",
   "execution_count": null,
   "metadata": {},
   "outputs": [],
   "source": []
  }
 ],
 "metadata": {
  "kernelspec": {
   "display_name": "Python 3.10.5 64-bit (windows store)",
   "language": "python",
   "name": "python3"
  },
  "language_info": {
   "codemirror_mode": {
    "name": "ipython",
    "version": 3
   },
   "file_extension": ".py",
   "mimetype": "text/x-python",
   "name": "python",
   "nbconvert_exporter": "python",
   "pygments_lexer": "ipython3",
   "version": "3.10.5"
  },
  "orig_nbformat": 4,
  "vscode": {
   "interpreter": {
    "hash": "97367d2de1780ea7c502b529f25888c1b53c0430a7611816b6c7cf19d8435228"
   }
  }
 },
 "nbformat": 4,
 "nbformat_minor": 2
}
