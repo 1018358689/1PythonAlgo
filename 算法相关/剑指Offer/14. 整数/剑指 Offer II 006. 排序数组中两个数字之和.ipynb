{
 "cells": [
  {
   "cell_type": "code",
   "execution_count": null,
   "metadata": {},
   "outputs": [],
   "source": [
    "from typing import List\n",
    "\n",
    "\n",
    "class Solution:\n",
    "\n",
    "    def twoSum(self, numbers: List[int], target: int) -> List[int]:\n",
    "        l = 0\n",
    "        r = len(numbers) - 1\n",
    "        while l < r:\n",
    "            s = numbers[l] + numbers[r]\n",
    "            if s > target:\n",
    "                r -= 1\n",
    "            elif s < target:\n",
    "                l += 1\n",
    "            else:\n",
    "                return [l, r]\n"
   ]
  }
 ],
 "metadata": {
  "language_info": {
   "name": "python"
  },
  "orig_nbformat": 4
 },
 "nbformat": 4,
 "nbformat_minor": 2
}
