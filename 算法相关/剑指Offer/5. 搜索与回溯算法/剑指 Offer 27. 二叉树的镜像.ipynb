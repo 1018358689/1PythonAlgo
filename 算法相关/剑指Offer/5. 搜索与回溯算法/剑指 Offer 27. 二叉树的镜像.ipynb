{
 "cells": [
  {
   "cell_type": "code",
   "execution_count": 1,
   "metadata": {},
   "outputs": [],
   "source": [
    "# Definition for a binary tree node.\n",
    "class TreeNode:\n",
    "\n",
    "    def __init__(self, x):\n",
    "        self.val = x\n",
    "        self.left = None\n",
    "        self.right = None\n",
    "\n",
    "\n",
    "class Solution:\n",
    "\n",
    "    def mirrorTree(self, root: TreeNode) -> TreeNode:\n",
    "        if not root:\n",
    "            return None\n",
    "        tmp = root.left\n",
    "        root.left = self.mirrorTree(root.right)\n",
    "        root.right = self.mirrorTree(tmp)\n",
    "        return root\n"
   ]
  },
  {
   "cell_type": "code",
   "execution_count": 2,
   "metadata": {},
   "outputs": [],
   "source": [
    "# Definition for a binary tree node.\n",
    "class TreeNode:\n",
    "\n",
    "    def __init__(self, x):\n",
    "        self.val = x\n",
    "        self.left = None\n",
    "        self.right = None\n",
    "\n",
    "\n",
    "from collections import deque\n",
    "\n",
    "\n",
    "class Solution:\n",
    "\n",
    "    def mirrorTree(self, root: TreeNode) -> TreeNode:\n",
    "        if not root: return None\n",
    "        q = deque([root])\n",
    "        while q:\n",
    "            for _ in range(len(q)):\n",
    "                cur = q.popleft()\n",
    "                if cur.left: q.append(cur.left)\n",
    "                if cur.right: q.append(cur.right)\n",
    "                cur.left, cur.right = cur.right, cur.left\n",
    "        return root\n"
   ]
  },
  {
   "cell_type": "code",
   "execution_count": null,
   "metadata": {},
   "outputs": [],
   "source": [
    "# Definition for a binary tree node.\n",
    "class TreeNode:\n",
    "\n",
    "    def __init__(self, x):\n",
    "        self.val = x\n",
    "        self.left = None\n",
    "        self.right = None\n",
    "\n",
    "\n",
    "class Solution:\n",
    "\n",
    "    def mirrorTree(self, root: TreeNode) -> TreeNode:\n",
    "\n",
    "        def dfs(root: TreeNode):\n",
    "            if not root:\n",
    "                return None\n",
    "            dfs(root.left)\n",
    "            dfs(root.right)\n",
    "            root.left, root.right = root.right, root.left\n",
    "\n",
    "        dfs(root)\n",
    "        return root\n"
   ]
  }
 ],
 "metadata": {
  "interpreter": {
   "hash": "aee8b7b246df8f9039afb4144a1f6fd8d2ca17a180786b69acc140d282b71a49"
  },
  "kernelspec": {
   "display_name": "Python 3.10.2 64-bit",
   "language": "python",
   "name": "python3"
  },
  "language_info": {
   "codemirror_mode": {
    "name": "ipython",
    "version": 3
   },
   "file_extension": ".py",
   "mimetype": "text/x-python",
   "name": "python",
   "nbconvert_exporter": "python",
   "pygments_lexer": "ipython3",
   "version": "3.10.2"
  },
  "orig_nbformat": 4
 },
 "nbformat": 4,
 "nbformat_minor": 2
}
