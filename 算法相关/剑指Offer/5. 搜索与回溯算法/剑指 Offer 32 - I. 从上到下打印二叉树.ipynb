{
 "cells": [
  {
   "cell_type": "code",
   "execution_count": null,
   "metadata": {},
   "outputs": [],
   "source": [
    "# Definition for a binary tree node.\n",
    "class TreeNode:\n",
    "\n",
    "    def __init__(self, x):\n",
    "        self.val = x\n",
    "        self.left = None\n",
    "        self.right = None\n",
    "\n",
    "\n",
    "from typing import List\n",
    "from collections import deque\n",
    "\n",
    "\n",
    "class Solution:\n",
    "\n",
    "    def levelOrder(self, root: TreeNode) -> List[int]:\n",
    "        if not root: return []\n",
    "        ans = []\n",
    "        q = deque([root])\n",
    "        while q:\n",
    "            cur = q.popleft()\n",
    "            ans.append(cur.val)\n",
    "            if cur.left: q.append(cur.left)\n",
    "            if cur.right: q.append(cur.right)\n",
    "        return ans"
   ]
  }
 ],
 "metadata": {
  "language_info": {
   "name": "python"
  },
  "orig_nbformat": 4
 },
 "nbformat": 4,
 "nbformat_minor": 2
}
