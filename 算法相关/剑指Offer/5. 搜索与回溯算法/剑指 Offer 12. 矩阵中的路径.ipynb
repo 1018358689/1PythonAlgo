{
 "cells": [
  {
   "cell_type": "code",
   "execution_count": null,
   "metadata": {},
   "outputs": [],
   "source": [
    "from typing import List\n",
    "# 超时\n",
    "\n",
    "class Solution:\n",
    "\n",
    "    def exist(self, board: List[List[str]], word: str) -> bool:\n",
    "        rows, cols = len(board), len(board[0])\n",
    "\n",
    "        def dfs(s, r, c, vis):\n",
    "            if s == word:\n",
    "                return True\n",
    "            if len(vis) == len(word):\n",
    "                return False\n",
    "            for nr, nc in ((r - 1, c), (r + 1, c), (r, c - 1), (r, c + 1)):\n",
    "                if 0 <= nr < rows and 0 <= nc < cols and (nr, nc) not in vis:\n",
    "                    if dfs(s + board[nr][nc], nr, nc, vis | {(nr, nc)}):\n",
    "                        return True\n",
    "\n",
    "        for r in range(rows):\n",
    "            for c in range(cols):\n",
    "                if dfs(board[r][c], r, c, {(r, c)}):\n",
    "                    return True\n",
    "        return False"
   ]
  },
  {
   "cell_type": "code",
   "execution_count": null,
   "metadata": {},
   "outputs": [],
   "source": [
    "from typing import List\n",
    "\n",
    "\n",
    "class Solution:\n",
    "\n",
    "    def exist(self, board: List[List[str]], word: str) -> bool:\n",
    "        rows, cols = len(board), len(board[0])\n",
    "\n",
    "        def dfs(r, c, index, vis):\n",
    "            if index == len(word):\n",
    "                return True\n",
    "            for nr, nc in ((r - 1, c), (r + 1, c), (r, c - 1), (r, c + 1)):\n",
    "                if 0 <= nr < rows and 0 <= nc < cols and (nr,nc) not in vis and board[nr][nc] == word[index]:\n",
    "                    if dfs(nr, nc, index + 1, vis | {(nr, nc)}):\n",
    "                        return True\n",
    "\n",
    "        for r in range(rows):\n",
    "            for c in range(cols):\n",
    "                if board[r][c] == word[0]:\n",
    "                    if dfs(r, c, 1, {(r, c)}):\n",
    "                        return True\n",
    "        return False"
   ]
  }
 ],
 "metadata": {
  "language_info": {
   "name": "python"
  },
  "orig_nbformat": 4
 },
 "nbformat": 4,
 "nbformat_minor": 2
}
