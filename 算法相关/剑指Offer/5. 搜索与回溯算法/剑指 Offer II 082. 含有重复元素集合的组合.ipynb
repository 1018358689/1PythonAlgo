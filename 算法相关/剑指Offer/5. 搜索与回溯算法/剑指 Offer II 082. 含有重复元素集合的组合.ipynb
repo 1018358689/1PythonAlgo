{
 "cells": [
  {
   "cell_type": "code",
   "execution_count": 2,
   "metadata": {},
   "outputs": [
    {
     "data": {
      "text/plain": [
       "[[1, 1, 6], [1, 2, 5], [1, 7], [2, 6]]"
      ]
     },
     "execution_count": 2,
     "metadata": {},
     "output_type": "execute_result"
    }
   ],
   "source": [
    "from typing import List\n",
    "\n",
    "\n",
    "class Solution:\n",
    "    def combinationSum2(self, candidates: List[int], target: int) -> List[List[int]]:\n",
    "        ans = []\n",
    "        lgh = len(candidates)\n",
    "        candidates.sort()\n",
    "\n",
    "        def dfs(path, si, sum):\n",
    "            if sum == target:\n",
    "                ans.append(path[:])\n",
    "                return\n",
    "            if sum > target:\n",
    "                return\n",
    "            for i in range(si, lgh):\n",
    "                if i > si and candidates[i] == candidates[i - 1]:\n",
    "                    continue\n",
    "                dfs(path + [candidates[i]], i + 1, sum + candidates[i])\n",
    "\n",
    "        dfs([], 0, 0)\n",
    "        return ans\n",
    "\n",
    "\n",
    "s = Solution()\n",
    "s.combinationSum2([10, 1, 2, 7, 6, 1, 5], 8)\n"
   ]
  }
 ],
 "metadata": {
  "kernelspec": {
   "display_name": "Python 3.8.10 64-bit",
   "language": "python",
   "name": "python3"
  },
  "language_info": {
   "codemirror_mode": {
    "name": "ipython",
    "version": 3
   },
   "file_extension": ".py",
   "mimetype": "text/x-python",
   "name": "python",
   "nbconvert_exporter": "python",
   "pygments_lexer": "ipython3",
   "version": "3.8.10"
  },
  "orig_nbformat": 4,
  "vscode": {
   "interpreter": {
    "hash": "570feb405e2e27c949193ac68f46852414290d515b0ba6e5d90d076ed2284471"
   }
  }
 },
 "nbformat": 4,
 "nbformat_minor": 2
}
