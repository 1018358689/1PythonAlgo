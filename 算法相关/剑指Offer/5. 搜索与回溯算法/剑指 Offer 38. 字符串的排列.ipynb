{
 "cells": [
  {
   "cell_type": "code",
   "execution_count": 3,
   "metadata": {},
   "outputs": [
    {
     "data": {
      "text/plain": [
       "['a', 'b', 'b', 'b', 'c']"
      ]
     },
     "execution_count": 3,
     "metadata": {},
     "output_type": "execute_result"
    }
   ],
   "source": [
    "sorted('bbacb')"
   ]
  },
  {
   "cell_type": "code",
   "execution_count": 2,
   "metadata": {},
   "outputs": [
    {
     "data": {
      "text/plain": [
       "['abc', 'acb', 'bac', 'bca', 'cab', 'cba']"
      ]
     },
     "execution_count": 2,
     "metadata": {},
     "output_type": "execute_result"
    }
   ],
   "source": [
    "from typing import List\n",
    "\n",
    "\n",
    "class Solution:\n",
    "\n",
    "    def permutation(self, s: str) -> List[str]:\n",
    "        s = sorted(ord(n) for n in s)\n",
    "        ans = []\n",
    "\n",
    "        def dfs(path: str, used: set):\n",
    "            if len(path) == len(s):\n",
    "                ans.append(path)\n",
    "                return\n",
    "            for i in range(len(s)):\n",
    "                if i in used:\n",
    "                    continue\n",
    "                if i > 0 and s[i] == s[i - 1] and i - 1 not in used:\n",
    "                    continue\n",
    "                dfs(path + chr(s[i]), used | {i})\n",
    "\n",
    "        dfs('', set())\n",
    "        return ans\n",
    "\n",
    "\n",
    "s = Solution()\n",
    "s.permutation('abc')"
   ]
  },
  {
   "cell_type": "code",
   "execution_count": 4,
   "metadata": {},
   "outputs": [
    {
     "data": {
      "text/plain": [
       "['abc', 'acb', 'bac', 'bca', 'cab', 'cba']"
      ]
     },
     "execution_count": 4,
     "metadata": {},
     "output_type": "execute_result"
    }
   ],
   "source": [
    "from typing import List\n",
    "\n",
    "\n",
    "class Solution:\n",
    "\n",
    "    def permutation(self, s: str) -> List[str]:\n",
    "        s = sorted(s)\n",
    "        ans = []\n",
    "\n",
    "        def dfs(path: str, used: set):\n",
    "            if len(path) == len(s):\n",
    "                ans.append(path)\n",
    "                return\n",
    "            for i in range(len(s)):\n",
    "                if i in used:\n",
    "                    continue\n",
    "                if i > 0 and s[i] == s[i - 1] and i - 1 not in used:\n",
    "                    continue\n",
    "                dfs(path + s[i], used | {i})\n",
    "\n",
    "        dfs('', set())\n",
    "        return ans\n",
    "\n",
    "\n",
    "s = Solution()\n",
    "s.permutation('abc')"
   ]
  },
  {
   "cell_type": "code",
   "execution_count": null,
   "metadata": {},
   "outputs": [],
   "source": []
  }
 ],
 "metadata": {
  "kernelspec": {
   "display_name": "Python 3.10.1 64-bit",
   "language": "python",
   "name": "python3"
  },
  "language_info": {
   "codemirror_mode": {
    "name": "ipython",
    "version": 3
   },
   "file_extension": ".py",
   "mimetype": "text/x-python",
   "name": "python",
   "nbconvert_exporter": "python",
   "pygments_lexer": "ipython3",
   "version": "3.10.1"
  },
  "orig_nbformat": 4,
  "vscode": {
   "interpreter": {
    "hash": "aee8b7b246df8f9039afb4144a1f6fd8d2ca17a180786b69acc140d282b71a49"
   }
  }
 },
 "nbformat": 4,
 "nbformat_minor": 2
}
