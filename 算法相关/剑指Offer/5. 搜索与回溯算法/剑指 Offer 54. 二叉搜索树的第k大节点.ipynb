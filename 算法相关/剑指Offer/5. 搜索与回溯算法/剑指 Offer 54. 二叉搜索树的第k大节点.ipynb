{
 "cells": [
  {
   "cell_type": "code",
   "execution_count": null,
   "metadata": {},
   "outputs": [],
   "source": [
    "# Definition for a binary tree node.\n",
    "class TreeNode:\n",
    "\n",
    "    def __init__(self, x):\n",
    "        self.val = x\n",
    "        self.left = None\n",
    "        self.right = None\n",
    "\n",
    "\n",
    "class Solution:\n",
    "\n",
    "    def kthLargest(self, root: TreeNode, k: int) -> int:\n",
    "        res = 0\n",
    "        cnt = 0\n",
    "\n",
    "        def dfs(node):\n",
    "            nonlocal res, cnt\n",
    "            if not node:\n",
    "                return\n",
    "            if dfs(node.right): return True\n",
    "            cnt += 1\n",
    "            if cnt == k:\n",
    "                res = node.val\n",
    "                return True\n",
    "            if dfs(node.left): return True\n",
    "\n",
    "        dfs(root)\n",
    "        return res"
   ]
  },
  {
   "cell_type": "code",
   "execution_count": null,
   "metadata": {},
   "outputs": [],
   "source": [
    "class Solution:\n",
    "\n",
    "    def kthLargest(self, root: TreeNode, k: int) -> int:\n",
    "        res = 0\n",
    "        cnt = 0\n",
    "\n",
    "        def dfs(node: TreeNode):\n",
    "            nonlocal res, cnt\n",
    "            if cnt >= k or not node: return\n",
    "            dfs(node.right)\n",
    "            cnt += 1\n",
    "            if cnt == k:\n",
    "                res = node.val\n",
    "            dfs(node.left)\n",
    "\n",
    "        dfs(root)\n",
    "        return res\n"
   ]
  }
 ],
 "metadata": {
  "language_info": {
   "name": "python"
  },
  "orig_nbformat": 4
 },
 "nbformat": 4,
 "nbformat_minor": 2
}
