{
 "cells": [
  {
   "cell_type": "code",
   "execution_count": 3,
   "metadata": {},
   "outputs": [
    {
     "data": {
      "text/plain": [
       "['255.255.11.135', '255.255.111.35']"
      ]
     },
     "execution_count": 3,
     "metadata": {},
     "output_type": "execute_result"
    }
   ],
   "source": [
    "from typing import List\n",
    "\n",
    "\n",
    "class Solution:\n",
    "    def restoreIpAddresses(self, s: str) -> List[str]:\n",
    "        ans = []\n",
    "        lgh = len(s)\n",
    "\n",
    "        def dfs(path, si, cnt):  # si:开始位置 cnt:已经确定的整数\n",
    "            if cnt > 4:\n",
    "                return\n",
    "            if si == lgh and cnt == 4:\n",
    "                ans.append('.'.join(path))\n",
    "                return\n",
    "            for i in range(si + 1, min(lgh + 1, si + 4)):  # s[si:i] 1<=i-si<=3 1+si<=i<=3+si\n",
    "                cur = s[si:i]\n",
    "                if (i - si > 1 and cur[0] == '0') or int(cur) > 255:\n",
    "                    break\n",
    "                dfs(path + [cur], i, cnt + 1)\n",
    "\n",
    "        dfs([], 0, 0)\n",
    "        return ans\n",
    "\n",
    "\n",
    "s = Solution()\n",
    "s.restoreIpAddresses('25525511135')\n"
   ]
  },
  {
   "cell_type": "code",
   "execution_count": null,
   "metadata": {},
   "outputs": [],
   "source": []
  }
 ],
 "metadata": {
  "kernelspec": {
   "display_name": "Python 3.8.10 64-bit",
   "language": "python",
   "name": "python3"
  },
  "language_info": {
   "codemirror_mode": {
    "name": "ipython",
    "version": 3
   },
   "file_extension": ".py",
   "mimetype": "text/x-python",
   "name": "python",
   "nbconvert_exporter": "python",
   "pygments_lexer": "ipython3",
   "version": "3.8.10"
  },
  "orig_nbformat": 4,
  "vscode": {
   "interpreter": {
    "hash": "570feb405e2e27c949193ac68f46852414290d515b0ba6e5d90d076ed2284471"
   }
  }
 },
 "nbformat": 4,
 "nbformat_minor": 2
}
