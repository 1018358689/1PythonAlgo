{
 "cells": [
  {
   "cell_type": "code",
   "execution_count": null,
   "metadata": {},
   "outputs": [],
   "source": [
    "# Definition for a binary tree node.\n",
    "class TreeNode:\n",
    "\n",
    "    def __init__(self, x):\n",
    "        self.val = x\n",
    "        self.left = None\n",
    "        self.right = None\n",
    "\n",
    "\n",
    "class Solution:\n",
    "\n",
    "    def isSymmetric(self, root: TreeNode) -> bool:\n",
    "        if not root:return True\n",
    "        def dfs(node1: TreeNode, node2: TreeNode):\n",
    "            if not node1 and not node2: # 两个节点都不存在\n",
    "                return True\n",
    "            elif (node1 and node2) and node1.val==node2.val:\n",
    "                if dfs(node1.left, node2.right) and dfs(node1.right, node2.left):\n",
    "                    return True\n",
    "                return False\n",
    "            return False # 只有一个节点 或两个节点但值不同\n",
    "\n",
    "        return dfs(root.left, root.right)\n"
   ]
  }
 ],
 "metadata": {
  "language_info": {
   "name": "python"
  },
  "orig_nbformat": 4
 },
 "nbformat": 4,
 "nbformat_minor": 2
}
