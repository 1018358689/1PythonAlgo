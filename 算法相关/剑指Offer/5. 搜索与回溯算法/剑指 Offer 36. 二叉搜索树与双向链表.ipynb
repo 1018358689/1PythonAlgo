{
 "cells": [
  {
   "cell_type": "code",
   "execution_count": null,
   "metadata": {},
   "outputs": [],
   "source": [
    "# Definition for a Node.\n",
    "class Node:\n",
    "\n",
    "    def __init__(self, val, left=None, right=None):\n",
    "        self.val = val\n",
    "        self.left = left\n",
    "        self.right = right\n",
    "\n",
    "\n",
    "class Solution:\n",
    "\n",
    "    def treeToDoublyList(self, root: 'Node') -> 'Node':\n",
    "        if not root: return None\n",
    "        head = None\n",
    "        pre = None\n",
    "\n",
    "        def dfs(node):\n",
    "            nonlocal head, pre\n",
    "            if not node:\n",
    "                return\n",
    "            dfs(node.left)\n",
    "            if pre is None:\n",
    "                head = node\n",
    "            else:\n",
    "                pre.right = node\n",
    "                node.left = pre\n",
    "            pre = node  # node自己会往前走 pre需要我们自己更新\n",
    "            dfs(node.right)\n",
    "\n",
    "        dfs(root)\n",
    "        head.left = pre  # 结束时候head在头 pre在尾\n",
    "        pre.right = head\n",
    "        return head"
   ]
  }
 ],
 "metadata": {
  "language_info": {
   "name": "python"
  },
  "orig_nbformat": 4
 },
 "nbformat": 4,
 "nbformat_minor": 2
}
