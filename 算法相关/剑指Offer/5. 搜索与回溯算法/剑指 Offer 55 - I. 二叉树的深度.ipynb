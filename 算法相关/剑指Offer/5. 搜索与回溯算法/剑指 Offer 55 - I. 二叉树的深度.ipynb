{
 "cells": [
  {
   "cell_type": "code",
   "execution_count": null,
   "metadata": {},
   "outputs": [],
   "source": [
    "# Definition for a binary tree node.\n",
    "class TreeNode:\n",
    "\n",
    "    def __init__(self, x):\n",
    "        self.val = x\n",
    "        self.left = None\n",
    "        self.right = None\n",
    "\n",
    "\n",
    "class Solution:\n",
    "\n",
    "    def maxDepth(self, root: TreeNode) -> int:\n",
    "        ans = 0\n",
    "\n",
    "        def dfs(node: TreeNode, deepth: int):\n",
    "            nonlocal ans\n",
    "            if not node:\n",
    "                ans = max(ans, deepth)\n",
    "                return\n",
    "            dfs(node.left, deepth + 1)\n",
    "            dfs(node.right, deepth + 1)\n",
    "\n",
    "        dfs(root, 0)\n",
    "        return ans\n"
   ]
  },
  {
   "cell_type": "code",
   "execution_count": null,
   "metadata": {},
   "outputs": [],
   "source": [
    "# Definition for a binary tree node.\n",
    "class TreeNode:\n",
    "\n",
    "    def __init__(self, x):\n",
    "        self.val = x\n",
    "        self.left = None\n",
    "        self.right = None\n",
    "\n",
    "# 假设已经知道左右树的高度 只要取最大值+1 即为根的高度\n",
    "class Solution:\n",
    "\n",
    "    def maxDepth(self, root: TreeNode) -> int:\n",
    "\n",
    "        def dfs(node: TreeNode):\n",
    "            if not node:\n",
    "                return 0\n",
    "            return max(dfs(node.left), dfs(node.right)) + 1\n",
    "\n",
    "        return dfs(root)\n"
   ]
  },
  {
   "cell_type": "code",
   "execution_count": null,
   "metadata": {},
   "outputs": [],
   "source": [
    "# Definition for a binary tree node.\n",
    "class TreeNode:\n",
    "\n",
    "    def __init__(self, x):\n",
    "        self.val = x\n",
    "        self.left = None\n",
    "        self.right = None\n",
    "\n",
    "\n",
    "from collections import deque\n",
    "\n",
    "\n",
    "class Solution:\n",
    "\n",
    "    def maxDepth(self, root: TreeNode) -> int:\n",
    "        if not root: return 0\n",
    "        q = deque([(root, 1)])\n",
    "        ans = 0\n",
    "        while q:\n",
    "            cur, deepth = q.popleft()\n",
    "            ans = deepth\n",
    "            for nei in {cur.left, cur.right}:\n",
    "                if nei:\n",
    "                    q.append((nei, deepth + 1))\n",
    "        return ans\n",
    "\n"
   ]
  }
 ],
 "metadata": {
  "language_info": {
   "name": "python"
  },
  "orig_nbformat": 4
 },
 "nbformat": 4,
 "nbformat_minor": 2
}
