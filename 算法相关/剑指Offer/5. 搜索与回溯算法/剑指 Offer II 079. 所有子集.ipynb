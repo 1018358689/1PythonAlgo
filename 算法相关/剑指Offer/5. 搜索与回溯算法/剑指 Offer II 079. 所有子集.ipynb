{
 "cells": [
  {
   "cell_type": "code",
   "execution_count": null,
   "metadata": {},
   "outputs": [],
   "source": [
    "from typing import List\n",
    "\n",
    "\n",
    "class Solution:\n",
    "\n",
    "    def subsets(self, nums: List[int]) -> List[List[int]]:\n",
    "        ans = []\n",
    "        lgh = len(nums)\n",
    "\n",
    "        def dfs(path, si):\n",
    "            ans.append(path[:])\n",
    "            for i in range(si, lgh):\n",
    "                dfs(path + [nums[i]], i + 1)\n",
    "\n",
    "        dfs([], 0)\n",
    "        return ans"
   ]
  }
 ],
 "metadata": {
  "kernelspec": {
   "display_name": "Python 3.10.5 64-bit",
   "language": "python",
   "name": "python3"
  },
  "language_info": {
   "name": "python",
   "version": "3.10.5"
  },
  "orig_nbformat": 4,
  "vscode": {
   "interpreter": {
    "hash": "3196968d684371006099b3d55edeef8ed90365227a30deaef86e5d4aa8519be0"
   }
  }
 },
 "nbformat": 4,
 "nbformat_minor": 2
}
