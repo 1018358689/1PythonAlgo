{
 "cells": [
  {
   "cell_type": "code",
   "execution_count": 1,
   "metadata": {},
   "outputs": [],
   "source": [
    "from collections import deque\n",
    "\n",
    "\n",
    "class Solution:\n",
    "\n",
    "    def movingCount(self, m: int, n: int, k: int) -> int:\n",
    "\n",
    "        def check(r, c):\n",
    "            ans = 0\n",
    "            while r:\n",
    "                r, tmp = divmod(r, 10)\n",
    "                ans += tmp\n",
    "            while c:\n",
    "                c, tmp = divmod(c, 10)\n",
    "                ans += tmp\n",
    "            return ans <= k\n",
    "\n",
    "        q = deque([(0, 0)])\n",
    "        vis = {(0, 0)}\n",
    "        while q:\n",
    "            r, c = q.popleft()\n",
    "            for nr, nc in ((r - 1, c), (r + 1, c), (r, c - 1), (r, c + 1)):\n",
    "                if 0 <= nr < m and 0 <= nc < n and (nr, nc) not in vis and check(nr, nc):\n",
    "                    vis.add((nr, nc))\n",
    "                    q.append((nr, nc))\n",
    "        return len(vis)\n"
   ]
  },
  {
   "cell_type": "code",
   "execution_count": null,
   "metadata": {},
   "outputs": [],
   "source": [
    "class Solution:\n",
    "\n",
    "    def movingCount(self, m: int, n: int, k: int) -> int:\n",
    "\n",
    "        def check(r, c):\n",
    "            ans = 0\n",
    "            while r:\n",
    "                r, tmp = divmod(r, 10)\n",
    "                ans += tmp\n",
    "            while c:\n",
    "                c, tmp = divmod(c, 10)\n",
    "                ans += tmp\n",
    "            return ans <= k\n",
    "\n",
    "        vis = set()\n",
    "\n",
    "        def dfs(r, c):\n",
    "            if 0 <= r < m and 0 <= c < n and (r, c) not in vis and check(r, c):\n",
    "                vis.add((r, c))\n",
    "                for nr, nc in ((r - 1, c), (r + 1, c), (r, c - 1), (r, c + 1)):\n",
    "                    dfs(nr, nc)\n",
    "\n",
    "        dfs(0, 0)\n",
    "        return len(vis)\n"
   ]
  }
 ],
 "metadata": {
  "interpreter": {
   "hash": "97367d2de1780ea7c502b529f25888c1b53c0430a7611816b6c7cf19d8435228"
  },
  "kernelspec": {
   "display_name": "Python 3.10.4 64-bit (windows store)",
   "language": "python",
   "name": "python3"
  },
  "language_info": {
   "codemirror_mode": {
    "name": "ipython",
    "version": 3
   },
   "file_extension": ".py",
   "mimetype": "text/x-python",
   "name": "python",
   "nbconvert_exporter": "python",
   "pygments_lexer": "ipython3",
   "version": "3.10.4"
  },
  "orig_nbformat": 4
 },
 "nbformat": 4,
 "nbformat_minor": 2
}
