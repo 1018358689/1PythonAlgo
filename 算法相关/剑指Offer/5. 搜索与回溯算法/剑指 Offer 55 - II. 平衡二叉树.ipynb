{
 "cells": [
  {
   "cell_type": "code",
   "execution_count": 1,
   "metadata": {},
   "outputs": [],
   "source": [
    "# Definition for a binary tree node.\n",
    "class TreeNode:\n",
    "\n",
    "    def __init__(self, x):\n",
    "        self.val = x\n",
    "        self.left = None\n",
    "        self.right = None\n",
    "\n",
    "\n",
    "class Solution:\n",
    "\n",
    "    def isBalanced(self, root: TreeNode) -> bool:\n",
    "\n",
    "        def dfs(node):  # 平衡则返回node的高度 否则返回-1\n",
    "            if not node:\n",
    "                return 0\n",
    "            l, r = dfs(node.left), dfs(node.right)\n",
    "            if l == -1:\n",
    "                return -1\n",
    "            if r == -1:\n",
    "                return -1\n",
    "            return max(l, r) + 1 if abs(l - r) <= 1 else -1\n",
    "\n",
    "        return dfs(root) != -1\n"
   ]
  },
  {
   "cell_type": "code",
   "execution_count": 2,
   "metadata": {},
   "outputs": [],
   "source": [
    "# Definition for a binary tree node.\n",
    "class TreeNode:\n",
    "\n",
    "    def __init__(self, x):\n",
    "        self.val = x\n",
    "        self.left = None\n",
    "        self.right = None\n",
    "\n",
    "\n",
    "class Solution:\n",
    "\n",
    "    def deepth(self, node):\n",
    "        if not node:\n",
    "            return 0\n",
    "        return max(self.deepth(node.left), self.deepth(node.right)) + 1\n",
    "\n",
    "    def isBalanced(self, root: TreeNode) -> bool:\n",
    "        if not root:\n",
    "            return True\n",
    "        # 满足当前节点左右树高度差<=1 并且 左右子树也是平衡二叉树才可以\n",
    "        if abs(self.deepth(root.left) - self.deepth(root.right)) <= 1 and self.isBalanced(root.left) and self.isBalanced(root.right):\n",
    "            return True\n",
    "        else:\n",
    "            return False\n"
   ]
  },
  {
   "cell_type": "code",
   "execution_count": null,
   "metadata": {},
   "outputs": [],
   "source": [
    "# Definition for a binary tree node.\n",
    "class TreeNode:\n",
    "\n",
    "    def __init__(self, x):\n",
    "        self.val = x\n",
    "        self.left = None\n",
    "        self.right = None\n",
    "\n",
    "\n",
    "class Solution:\n",
    "\n",
    "    def isBalanced(self, root: TreeNode) -> bool:\n",
    "        flag = True\n",
    "\n",
    "        def dfs(node):\n",
    "            nonlocal flag\n",
    "            if not node:\n",
    "                return 0\n",
    "            l, r = dfs(node.left), dfs(node.right)\n",
    "            if abs(l - r) > 1:\n",
    "                flag = False\n",
    "            return max(l, r) + 1\n",
    "\n",
    "        dfs(root)\n",
    "        return flag\n"
   ]
  }
 ],
 "metadata": {
  "interpreter": {
   "hash": "97367d2de1780ea7c502b529f25888c1b53c0430a7611816b6c7cf19d8435228"
  },
  "kernelspec": {
   "display_name": "Python 3.10.4 64-bit (windows store)",
   "language": "python",
   "name": "python3"
  },
  "language_info": {
   "codemirror_mode": {
    "name": "ipython",
    "version": 3
   },
   "file_extension": ".py",
   "mimetype": "text/x-python",
   "name": "python",
   "nbconvert_exporter": "python",
   "pygments_lexer": "ipython3",
   "version": "3.10.4"
  },
  "orig_nbformat": 4
 },
 "nbformat": 4,
 "nbformat_minor": 2
}
