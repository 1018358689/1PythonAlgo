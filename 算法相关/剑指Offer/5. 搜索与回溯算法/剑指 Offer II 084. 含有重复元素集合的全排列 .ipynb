{
 "cells": [
  {
   "cell_type": "code",
   "execution_count": 7,
   "metadata": {},
   "outputs": [
    {
     "data": {
      "text/plain": [
       "[[1, 1, 2], [1, 2, 1], [2, 1, 1]]"
      ]
     },
     "execution_count": 7,
     "metadata": {},
     "output_type": "execute_result"
    }
   ],
   "source": [
    "from typing import List\n",
    "\n",
    "\n",
    "class Solution:\n",
    "    def permuteUnique(self, nums: List[int]) -> List[List[int]]:\n",
    "        ans = []\n",
    "        lgh = len(nums)\n",
    "        nums.sort()\n",
    "\n",
    "        def dfs(path, vis, deepth):\n",
    "            if deepth == lgh:\n",
    "                ans.append(path[:])\n",
    "                return\n",
    "            for i in range(lgh):\n",
    "                if vis & (1 << i):\n",
    "                    continue  # 纵向相同跳过\n",
    "                if i > 0 and nums[i] == nums[i - 1] and not vis & (1 << i - 1):\n",
    "                    continue  # 横向相同跳过\n",
    "                dfs(path + [nums[i]], vis | (1 << i), deepth + 1)\n",
    "\n",
    "        dfs([], 0, 0)\n",
    "        return ans\n",
    "\n",
    "\n",
    "s = Solution()\n",
    "s.permuteUnique([1, 1, 2])\n"
   ]
  },
  {
   "cell_type": "code",
   "execution_count": 8,
   "metadata": {},
   "outputs": [
    {
     "data": {
      "text/plain": [
       "[[1, 1, 2], [1, 2, 1], [2, 1, 1]]"
      ]
     },
     "execution_count": 8,
     "metadata": {},
     "output_type": "execute_result"
    }
   ],
   "source": [
    "from typing import List\n",
    "\n",
    "\n",
    "class Solution:\n",
    "    def permuteUnique(self, nums: List[int]) -> List[List[int]]:\n",
    "        ans = []\n",
    "        lgh = len(nums)\n",
    "        nums.sort()\n",
    "\n",
    "        def dfs(path, vis, deepth):\n",
    "            if deepth == lgh:\n",
    "                ans.append(path[:])\n",
    "                return\n",
    "            pre = 999\n",
    "            for i in range(lgh):\n",
    "                if vis & (1 << i):\n",
    "                    continue  # 纵向相同跳过\n",
    "                if nums[i] == pre:\n",
    "                    continue  # 横向相同跳过\n",
    "                pre = nums[i]\n",
    "                dfs(path + [nums[i]], vis | (1 << i), deepth + 1)\n",
    "\n",
    "        dfs([], 0, 0)\n",
    "        return ans\n",
    "\n",
    "\n",
    "s = Solution()\n",
    "s.permuteUnique([1, 1, 2])\n"
   ]
  },
  {
   "cell_type": "code",
   "execution_count": null,
   "metadata": {},
   "outputs": [],
   "source": []
  }
 ],
 "metadata": {
  "kernelspec": {
   "display_name": "Python 3.8.10 64-bit",
   "language": "python",
   "name": "python3"
  },
  "language_info": {
   "codemirror_mode": {
    "name": "ipython",
    "version": 3
   },
   "file_extension": ".py",
   "mimetype": "text/x-python",
   "name": "python",
   "nbconvert_exporter": "python",
   "pygments_lexer": "ipython3",
   "version": "3.8.10"
  },
  "orig_nbformat": 4,
  "vscode": {
   "interpreter": {
    "hash": "570feb405e2e27c949193ac68f46852414290d515b0ba6e5d90d076ed2284471"
   }
  }
 },
 "nbformat": 4,
 "nbformat_minor": 2
}
