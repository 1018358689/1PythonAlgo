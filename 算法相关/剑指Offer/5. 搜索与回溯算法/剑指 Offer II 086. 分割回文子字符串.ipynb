{
 "cells": [
  {
   "cell_type": "code",
   "execution_count": 2,
   "metadata": {},
   "outputs": [
    {
     "data": {
      "text/plain": [
       "[['g', 'o', 'o', 'g', 'l', 'e'],\n",
       " ['g', 'oo', 'g', 'l', 'e'],\n",
       " ['goog', 'l', 'e']]"
      ]
     },
     "execution_count": 2,
     "metadata": {},
     "output_type": "execute_result"
    }
   ],
   "source": [
    "from typing import List\n",
    "\n",
    "\n",
    "class Solution:\n",
    "    def partition(self, s: str) -> List[List[str]]:\n",
    "        ans = []\n",
    "        lgh = len(s)\n",
    "\n",
    "        def dfs(path, si): # 开始位置\n",
    "            if si == lgh:\n",
    "                ans.append(path[:])\n",
    "                return\n",
    "            for i in range(si + 1, lgh + 1):\n",
    "                cur = s[si:i]\n",
    "                if cur != cur[::-1]:\n",
    "                    continue\n",
    "                dfs(path + [cur], i)\n",
    "\n",
    "        dfs([], 0)\n",
    "        return ans\n",
    "\n",
    "\n",
    "s = Solution()\n",
    "s.partition('google')"
   ]
  },
  {
   "cell_type": "code",
   "execution_count": 8,
   "metadata": {},
   "outputs": [
    {
     "data": {
      "text/plain": [
       "[['g', 'o', 'o', 'g', 'l', 'e'],\n",
       " ['g', 'oo', 'g', 'l', 'e'],\n",
       " ['goog', 'l', 'e']]"
      ]
     },
     "execution_count": 8,
     "metadata": {},
     "output_type": "execute_result"
    }
   ],
   "source": [
    "from typing import List\n",
    "from collections import defaultdict\n",
    "\n",
    "\n",
    "class Solution:\n",
    "    def partition(self, s: str) -> List[List[str]]:\n",
    "        # dp[i][j] 判断s[i...j]是否死回文串\n",
    "        # i:[0,lgh-1] j:[i,lgh-1]\n",
    "        # dp[i][j] = s[i]==s[j] and dp[i+1][j-1] and j-i+1>2\n",
    "        ans = []\n",
    "        lgh = len(s)\n",
    "        dp = defaultdict(lambda: defaultdict(lambda: False))\n",
    "        dp[0][0] = True\n",
    "        dp[lgh - 1][lgh - 1] = True\n",
    "        for i in range(lgh - 1, -1, -1):\n",
    "            for j in range(i, lgh):\n",
    "                if i == j:\n",
    "                    dp[i][j] = True\n",
    "                elif s[i] == s[j]:\n",
    "                    if j - i + 1 == 2:\n",
    "                        dp[i][j] = True\n",
    "                    elif j - i + 1 > 2:\n",
    "                        dp[i][j] = dp[i + 1][j - 1]\n",
    "\n",
    "        def dfs(path, si):  # 开始位置\n",
    "            if si == lgh:\n",
    "                ans.append(path[:])\n",
    "                return\n",
    "            for i in range(si + 1, lgh + 1):\n",
    "                if not dp[si][i - 1]:\n",
    "                    continue\n",
    "                dfs(path + [s[si:i]], i)\n",
    "\n",
    "        dfs([], 0)\n",
    "        return ans\n",
    "\n",
    "\n",
    "s = Solution()\n",
    "s.partition('google')"
   ]
  }
 ],
 "metadata": {
  "kernelspec": {
   "display_name": "Python 3.8.10 64-bit",
   "language": "python",
   "name": "python3"
  },
  "language_info": {
   "codemirror_mode": {
    "name": "ipython",
    "version": 3
   },
   "file_extension": ".py",
   "mimetype": "text/x-python",
   "name": "python",
   "nbconvert_exporter": "python",
   "pygments_lexer": "ipython3",
   "version": "3.8.10"
  },
  "orig_nbformat": 4,
  "vscode": {
   "interpreter": {
    "hash": "570feb405e2e27c949193ac68f46852414290d515b0ba6e5d90d076ed2284471"
   }
  }
 },
 "nbformat": 4,
 "nbformat_minor": 2
}
