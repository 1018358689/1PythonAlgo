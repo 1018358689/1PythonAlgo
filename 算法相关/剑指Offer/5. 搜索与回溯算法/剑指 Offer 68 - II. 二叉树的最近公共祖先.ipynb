{
 "cells": [
  {
   "cell_type": "code",
   "execution_count": 5,
   "metadata": {},
   "outputs": [],
   "source": [
    "# Definition for a binary tree node.\n",
    "# https://mp.weixin.qq.com/s/njl6nuid0aalZdH5tuDpqQ\n",
    "# https://leetcode.cn/problems/lowest-common-ancestor-of-a-binary-tree/solution/acm-xuan-shou-tu-jie-leetcode-by-rocky04-2eob/\n",
    "# 最近公共祖先，我感觉你们就记住，对于节点 p 和 q 来说，如果 node 为其最近公共祖先，那么 node 的左孩子和右孩子一定不是 p 和 q 的公共祖先。\n",
    "# 类似在二叉树查找p或q\n",
    "# 是一道经典题 值得思考\n",
    "class TreeNode:\n",
    "\n",
    "    def __init__(self, x):\n",
    "        self.val = x\n",
    "        self.left = None\n",
    "        self.right = None\n",
    "\n",
    "\n",
    "class Solution:\n",
    "\n",
    "    def lowestCommonAncestor(self, root: TreeNode, p: TreeNode, q: TreeNode) -> TreeNode:\n",
    "        if not root or root == p or root == q:\n",
    "            return root\n",
    "        # 前序找到p或q或都没找到 # 如果遇到目标值，直接返回\n",
    "        left = self.lowestCommonAncestor(root.left, p, q)\n",
    "        right = self.lowestCommonAncestor(root.right, p, q)\n",
    "        # 回溯判断left和right情况\n",
    "        if left and right:  # 左边右边都找到目标值 则返回根\n",
    "            return root\n",
    "        elif left and not right:  # 左边找到右边没找到 意味左边先找到p 而q在p的左右子树里\n",
    "            return left\n",
    "        elif right and not left:\n",
    "            return right\n",
    "        elif not left and not right:  # 都没找到\n",
    "            return None"
   ]
  }
 ],
 "metadata": {
  "interpreter": {
   "hash": "97367d2de1780ea7c502b529f25888c1b53c0430a7611816b6c7cf19d8435228"
  },
  "kernelspec": {
   "display_name": "Python 3.10.4 64-bit (windows store)",
   "language": "python",
   "name": "python3"
  },
  "language_info": {
   "codemirror_mode": {
    "name": "ipython",
    "version": 3
   },
   "file_extension": ".py",
   "mimetype": "text/x-python",
   "name": "python",
   "nbconvert_exporter": "python",
   "pygments_lexer": "ipython3",
   "version": "3.10.4"
  },
  "orig_nbformat": 4
 },
 "nbformat": 4,
 "nbformat_minor": 2
}
