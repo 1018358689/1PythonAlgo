{
 "cells": [
  {
   "cell_type": "code",
   "execution_count": 2,
   "metadata": {},
   "outputs": [
    {
     "data": {
      "text/plain": [
       "(6, 45)"
      ]
     },
     "execution_count": 2,
     "metadata": {},
     "output_type": "execute_result"
    }
   ],
   "source": [
    "class Solution:\n",
    "\n",
    "    def sumNums(self, n: int) -> int:\n",
    "        ans = 0\n",
    "\n",
    "        def dfs(i):\n",
    "            nonlocal ans\n",
    "            ans += i\n",
    "            if i == n:\n",
    "                return\n",
    "            dfs(i + 1)\n",
    "\n",
    "        dfs(1)\n",
    "        return ans\n",
    "\n",
    "\n",
    "s = Solution()\n",
    "s.sumNums(3), s.sumNums(9)\n"
   ]
  },
  {
   "cell_type": "code",
   "execution_count": 4,
   "metadata": {},
   "outputs": [
    {
     "data": {
      "text/plain": [
       "(6, 45)"
      ]
     },
     "execution_count": 4,
     "metadata": {},
     "output_type": "execute_result"
    }
   ],
   "source": [
    "class Solution:\n",
    "\n",
    "    def sumNums(self, n: int) -> int:\n",
    "        if n == 1:\n",
    "            return 1\n",
    "        return self.sumNums(n - 1) + n\n",
    "\n",
    "\n",
    "s = Solution()\n",
    "s.sumNums(3), s.sumNums(9)"
   ]
  },
  {
   "cell_type": "code",
   "execution_count": 6,
   "metadata": {},
   "outputs": [
    {
     "data": {
      "text/plain": [
       "(6, 45)"
      ]
     },
     "execution_count": 6,
     "metadata": {},
     "output_type": "execute_result"
    }
   ],
   "source": [
    "class Solution:\n",
    "\n",
    "    def sumNums(self, n: int) -> int:\n",
    "        return n == 1 and 1 or self.sumNums(n - 1) + n\n",
    "\n",
    "\n",
    "s = Solution()\n",
    "s.sumNums(3), s.sumNums(9)"
   ]
  },
  {
   "cell_type": "code",
   "execution_count": 7,
   "metadata": {},
   "outputs": [
    {
     "data": {
      "text/plain": [
       "(6, 45)"
      ]
     },
     "execution_count": 7,
     "metadata": {},
     "output_type": "execute_result"
    }
   ],
   "source": [
    "class Solution:\n",
    "\n",
    "    def sumNums(self, n: int) -> int:\n",
    "        return n and self.sumNums(n - 1) + n\n",
    "\n",
    "\n",
    "s = Solution()\n",
    "s.sumNums(3), s.sumNums(9)"
   ]
  },
  {
   "cell_type": "code",
   "execution_count": null,
   "metadata": {},
   "outputs": [],
   "source": []
  }
 ],
 "metadata": {
  "interpreter": {
   "hash": "aee8b7b246df8f9039afb4144a1f6fd8d2ca17a180786b69acc140d282b71a49"
  },
  "kernelspec": {
   "display_name": "Python 3.10.2 64-bit",
   "language": "python",
   "name": "python3"
  },
  "language_info": {
   "codemirror_mode": {
    "name": "ipython",
    "version": 3
   },
   "file_extension": ".py",
   "mimetype": "text/x-python",
   "name": "python",
   "nbconvert_exporter": "python",
   "pygments_lexer": "ipython3",
   "version": "3.10.2"
  },
  "orig_nbformat": 4
 },
 "nbformat": 4,
 "nbformat_minor": 2
}
