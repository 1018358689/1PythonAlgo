{
 "cells": [
  {
   "cell_type": "markdown",
   "metadata": {},
   "source": [
    "打印方向\t1. 根据边界打印\t2. 边界向内收缩\t3. 是否打印完毕\n",
    "从左向右\t左边界l ，右边界 r\t上边界 t 加 11\t是否 t > b\n",
    "从上向下\t上边界 t ，下边界b\t右边界 r 减 11\t是否 l > r\n",
    "从右向左\t右边界 r ，左边界l\t下边界 b 减 11\t是否 t > b\n",
    "从下向上\t下边界 b ，上边界t\t左边界 l 加 11\t是否 l > r\n",
    "\n",
    "作者：jyd\n",
    "链接：https://leetcode.cn/problems/shun-shi-zhen-da-yin-ju-zhen-lcof/solution/mian-shi-ti-29-shun-shi-zhen-da-yin-ju-zhen-she-di/\n",
    "来源：力扣（LeetCode）\n",
    "著作权归作者所有。商业转载请联系作者获得授权，非商业转载请注明出处。"
   ]
  },
  {
   "cell_type": "code",
   "execution_count": 3,
   "metadata": {},
   "outputs": [
    {
     "data": {
      "text/plain": [
       "[1, 2, 3, 4, 8, 12, 11, 10, 9, 5, 6, 7]"
      ]
     },
     "execution_count": 3,
     "metadata": {},
     "output_type": "execute_result"
    }
   ],
   "source": [
    "from typing import List\n",
    "\n",
    "\n",
    "class Solution:\n",
    "\n",
    "    def spiralOrder(self, matrix: List[List[int]]) -> List[int]:\n",
    "        if not matrix: return []\n",
    "        ans = []\n",
    "        l, r, t, b = 0, len(matrix[0]) - 1, 0, len(matrix) - 1\n",
    "        # 左右上下边界(含)\n",
    "        while True:\n",
    "            for i in range(l, r + 1): # 左->右\n",
    "                ans.append(matrix[t][i])\n",
    "            t += 1\n",
    "            if t > b:\n",
    "                break\n",
    "            for i in range(t, b + 1): # 上->下\n",
    "                ans.append(matrix[i][r])\n",
    "            r -= 1\n",
    "            if l > r:\n",
    "                break\n",
    "            for i in range(r, l - 1, -1): # 右->左\n",
    "                ans.append(matrix[b][i])\n",
    "            b -= 1\n",
    "            if t > b:\n",
    "                break\n",
    "            for i in range(b, t - 1, -1): # 下->上\n",
    "                ans.append(matrix[i][l])\n",
    "            l += 1\n",
    "            if l > r:\n",
    "                break\n",
    "        return ans\n",
    "\n",
    "\n",
    "s = Solution()\n",
    "s.spiralOrder([[1, 2, 3, 4], [5, 6, 7, 8], [9, 10, 11, 12]])\n"
   ]
  },
  {
   "cell_type": "code",
   "execution_count": 2,
   "metadata": {},
   "outputs": [
    {
     "data": {
      "text/plain": [
       "[1, 2, 3, 4, 8, 12, 11, 10, 9, 5, 6, 7]"
      ]
     },
     "execution_count": 2,
     "metadata": {},
     "output_type": "execute_result"
    }
   ],
   "source": [
    "from typing import List\n",
    "\n",
    "\n",
    "class Solution:\n",
    "\n",
    "    def spiralOrder(self, matrix: List[List[int]]) -> List[int]:\n",
    "        if not matrix: return []\n",
    "        ans = []\n",
    "        while matrix:\n",
    "            ans += matrix.pop(0)  # 添加最上一行\n",
    "            matrix = list(zip(*matrix))[::-1]  # 逆时针旋转\n",
    "        return ans\n",
    "\n",
    "\n",
    "s = Solution()\n",
    "s.spiralOrder([[1, 2, 3, 4], [5, 6, 7, 8], [9, 10, 11, 12]])\n"
   ]
  },
  {
   "cell_type": "code",
   "execution_count": 3,
   "metadata": {},
   "outputs": [
    {
     "data": {
      "text/plain": [
       "True"
      ]
     },
     "execution_count": 3,
     "metadata": {},
     "output_type": "execute_result"
    }
   ],
   "source": [
    "'77'>'62312'"
   ]
  },
  {
   "cell_type": "code",
   "execution_count": 3,
   "metadata": {},
   "outputs": [
    {
     "data": {
      "text/plain": [
       "((2, 1), (1, 2))"
      ]
     },
     "execution_count": 3,
     "metadata": {},
     "output_type": "execute_result"
    }
   ],
   "source": [
    "a = (1,2)\n",
    "a[::-1]"
   ]
  },
  {
   "cell_type": "code",
   "execution_count": null,
   "metadata": {},
   "outputs": [],
   "source": []
  }
 ],
 "metadata": {
  "kernelspec": {
   "display_name": "Python 3.8.10 64-bit",
   "language": "python",
   "name": "python3"
  },
  "language_info": {
   "codemirror_mode": {
    "name": "ipython",
    "version": 3
   },
   "file_extension": ".py",
   "mimetype": "text/x-python",
   "name": "python",
   "nbconvert_exporter": "python",
   "pygments_lexer": "ipython3",
   "version": "3.8.10"
  },
  "orig_nbformat": 4,
  "vscode": {
   "interpreter": {
    "hash": "de72d97932d649c6d75aa79b73261cc3e8a1ae5e7cab8a9115f0bbb1518a7af2"
   }
  }
 },
 "nbformat": 4,
 "nbformat_minor": 2
}
