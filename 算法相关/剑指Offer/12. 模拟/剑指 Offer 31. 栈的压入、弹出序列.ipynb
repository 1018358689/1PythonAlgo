{
 "cells": [
  {
   "cell_type": "code",
   "execution_count": 3,
   "metadata": {},
   "outputs": [
    {
     "data": {
      "text/plain": [
       "False"
      ]
     },
     "execution_count": 3,
     "metadata": {},
     "output_type": "execute_result"
    }
   ],
   "source": [
    "from typing import List\n",
    "from collections import deque\n",
    "\n",
    "\n",
    "class Solution:\n",
    "\n",
    "    def validateStackSequences(self, pushed: List[int], popped: List[int]) -> bool:\n",
    "        queue = deque(pushed)\n",
    "        stack = []\n",
    "        for n in popped: # 以出栈为角度\n",
    "            if stack and stack[-1] == n: # 如果栈顶和目标出栈元素对应则正常出栈\n",
    "                stack.pop()\n",
    "            else: # 否则一直入栈直到相等或无元素可以入栈\n",
    "                while queue and n != queue[0]:\n",
    "                    stack.append(queue.popleft())\n",
    "                if queue:\n",
    "                    queue.popleft()\n",
    "                else:\n",
    "                    return False\n",
    "        return True\n",
    "\n",
    "\n",
    "s = Solution()\n",
    "s.validateStackSequences([1, 2, 3, 4, 5], [4, 5, 3, 2, 1])\n",
    "s.validateStackSequences([1, 2, 3, 4, 5], [4, 3, 5, 1, 2])\n"
   ]
  },
  {
   "cell_type": "code",
   "execution_count": null,
   "metadata": {},
   "outputs": [],
   "source": [
    "from typing import List\n",
    "from collections import deque\n",
    "# 模拟压栈出栈\n",
    "\n",
    "class Solution:\n",
    "\n",
    "    def validateStackSequences(self, pushed: List[int], popped: List[int]) -> bool:\n",
    "        stack = []\n",
    "        i = 0\n",
    "        for n in pushed: # 以入栈为角度\n",
    "            stack.append(n) # 模拟入栈\n",
    "            while stack and stack[-1] == popped[i]: # 栈顶和目标出栈元素对应上则出栈 继续比较 直到不对应\n",
    "                stack.pop()\n",
    "                i += 1\n",
    "        return not stack # i==len(popped)\n",
    "\n",
    "\n",
    "s = Solution()\n",
    "s.validateStackSequences([1, 2, 3, 4, 5], [4, 5, 3, 2, 1])\n",
    "# s.validateStackSequences([1, 2, 3, 4, 5], [4, 3, 5, 1, 2])\n"
   ]
  },
  {
   "cell_type": "code",
   "execution_count": 9,
   "metadata": {},
   "outputs": [
    {
     "data": {
      "text/plain": [
       "True"
      ]
     },
     "execution_count": 9,
     "metadata": {},
     "output_type": "execute_result"
    }
   ],
   "source": [
    "from typing import List\n",
    "from collections import deque\n",
    "\n",
    "\n",
    "class Solution:\n",
    "\n",
    "    def validateStackSequences(self, pushed: List[int], popped: List[int]) -> bool:\n",
    "        i = 0\n",
    "        stack = []\n",
    "        for n in popped:\n",
    "            if stack and stack[-1] == n:\n",
    "                stack.pop()\n",
    "            else:\n",
    "                while i < len(pushed) and pushed[i] != n:\n",
    "                    stack.append(pushed[i])\n",
    "                    i += 1\n",
    "                if i < len(pushed):\n",
    "                    i += 1\n",
    "                else:\n",
    "                    print(i, n)\n",
    "                    return False\n",
    "        return True\n",
    "\n",
    "\n",
    "s = Solution()\n",
    "s.validateStackSequences([1, 2, 3, 4, 5], [4, 5, 3, 2, 1])\n",
    "# s.validateStackSequences([1, 2, 3, 4, 5], [4, 3, 5, 1, 2])\n"
   ]
  }
 ],
 "metadata": {
  "interpreter": {
   "hash": "97367d2de1780ea7c502b529f25888c1b53c0430a7611816b6c7cf19d8435228"
  },
  "kernelspec": {
   "display_name": "Python 3.10.4 64-bit (windows store)",
   "language": "python",
   "name": "python3"
  },
  "language_info": {
   "codemirror_mode": {
    "name": "ipython",
    "version": 3
   },
   "file_extension": ".py",
   "mimetype": "text/x-python",
   "name": "python",
   "nbconvert_exporter": "python",
   "pygments_lexer": "ipython3",
   "version": "3.10.4"
  },
  "orig_nbformat": 4
 },
 "nbformat": 4,
 "nbformat_minor": 2
}
