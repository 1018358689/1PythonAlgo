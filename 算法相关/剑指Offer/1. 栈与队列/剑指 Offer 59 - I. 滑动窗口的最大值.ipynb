{
 "cells": [
  {
   "cell_type": "code",
   "execution_count": 2,
   "metadata": {},
   "outputs": [],
   "source": [
    "from typing import List\n",
    "from sortedcontainers import SortedList\n",
    "\n",
    "\n",
    "class Solution:\n",
    "\n",
    "    def maxSlidingWindow(self, nums: List[int], k: int) -> List[int]:\n",
    "        sl = SortedList()\n",
    "        ans = []\n",
    "        l = 0\n",
    "        for r in range(len(nums)):\n",
    "            sl.add(nums[r])\n",
    "            while r - l + 1 > k:\n",
    "                sl.remove(nums[l])\n",
    "                l += 1\n",
    "            if r - l + 1 == k:\n",
    "                ans.append(sl[-1])\n",
    "        return ans"
   ]
  },
  {
   "cell_type": "code",
   "execution_count": 3,
   "metadata": {},
   "outputs": [],
   "source": [
    "from typing import List\n",
    "from sortedcontainers import SortedList\n",
    "\n",
    "\n",
    "class Solution:\n",
    "\n",
    "    def maxSlidingWindow(self, nums: List[int], k: int) -> List[int]:\n",
    "        if not nums:return []\n",
    "        sl = SortedList(nums[:k])\n",
    "        ans = [sl[-1]]\n",
    "        l = 0\n",
    "        for r in range(k, len(nums)):\n",
    "            sl.add(nums[r])\n",
    "            while r - l + 1 > k:\n",
    "                sl.remove(nums[l])\n",
    "                l += 1\n",
    "            ans.append(sl[-1])\n",
    "        return ans"
   ]
  },
  {
   "cell_type": "code",
   "execution_count": 4,
   "metadata": {},
   "outputs": [],
   "source": [
    "from typing import List\n",
    "from sortedcontainers import SortedList\n",
    "\n",
    "\n",
    "class Solution:\n",
    "\n",
    "    def maxSlidingWindow(self, nums: List[int], k: int) -> List[int]:\n",
    "        if not nums: return []\n",
    "        sl = SortedList(nums[:k])\n",
    "        ans = [sl[-1]]\n",
    "        for r in range(k, len(nums)):\n",
    "            sl.add(nums[r])\n",
    "            sl.remove(nums[r - k])\n",
    "            ans.append(sl[-1])\n",
    "        return ans"
   ]
  },
  {
   "cell_type": "code",
   "execution_count": 8,
   "metadata": {},
   "outputs": [
    {
     "data": {
      "text/plain": [
       "[-1, -3, -3, -3, 3, 3]"
      ]
     },
     "execution_count": 8,
     "metadata": {},
     "output_type": "execute_result"
    }
   ],
   "source": [
    "from collections import deque\n",
    "\n",
    "\n",
    "class maxDeque:\n",
    "\n",
    "    def __init__(self):\n",
    "        self.que = deque([])\n",
    "        self.maxQue = deque([])\n",
    "\n",
    "    def push(self, value):\n",
    "        self.que.append(value)\n",
    "        while self.maxQue and self.maxQue[-1] < value:\n",
    "            self.maxQue.pop()\n",
    "        self.maxQue.append(value)\n",
    "\n",
    "    def pop(self):\n",
    "        if not self.que:\n",
    "            return None\n",
    "        if self.que[0] == self.maxQue[0]:\n",
    "            self.maxQue.popleft()\n",
    "        return self.que.popleft()\n",
    "\n",
    "    def maxValue(self):\n",
    "        if not self.que:\n",
    "            return None\n",
    "        return self.maxQue[0]\n",
    "\n",
    "\n",
    "class Solution:\n",
    "\n",
    "    def maxSlidingWindow(self, nums: List[int], k: int) -> List[int]:\n",
    "        mq = maxDeque()\n",
    "        ans = []\n",
    "        l = 0\n",
    "        for r in range(len(nums)):\n",
    "            mq.push(nums[r])\n",
    "            while r - l + 1 > k:\n",
    "                mq.pop()\n",
    "                l += 1\n",
    "            if r - l + 1 == k:\n",
    "                ans.append(mq.maxValue())\n",
    "        return ans\n",
    "\n",
    "\n",
    "s = Solution()\n",
    "s.maxSlidingWindow([1, 3, -1, -3, 5, 3, 6, 7], 3)\n"
   ]
  },
  {
   "cell_type": "code",
   "execution_count": null,
   "metadata": {},
   "outputs": [],
   "source": []
  }
 ],
 "metadata": {
  "kernelspec": {
   "display_name": "Python 3.10.1 64-bit",
   "language": "python",
   "name": "python3"
  },
  "language_info": {
   "codemirror_mode": {
    "name": "ipython",
    "version": 3
   },
   "file_extension": ".py",
   "mimetype": "text/x-python",
   "name": "python",
   "nbconvert_exporter": "python",
   "pygments_lexer": "ipython3",
   "version": "3.10.1"
  },
  "orig_nbformat": 4,
  "vscode": {
   "interpreter": {
    "hash": "aee8b7b246df8f9039afb4144a1f6fd8d2ca17a180786b69acc140d282b71a49"
   }
  }
 },
 "nbformat": 4,
 "nbformat_minor": 2
}
