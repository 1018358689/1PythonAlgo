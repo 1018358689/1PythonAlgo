{
 "cells": [
  {
   "cell_type": "code",
   "execution_count": null,
   "metadata": {},
   "outputs": [],
   "source": [
    "class CQueue:\n",
    "\n",
    "    def __init__(self):\n",
    "        self.inStack = []\n",
    "        self.outStack = []\n",
    "\n",
    "    def appendTail(self, value: int) -> None:\n",
    "        self.inStack.append(value)\n",
    "\n",
    "    def deleteHead(self) -> int:\n",
    "        if not self.inStack and not self.outStack: # 没有元素\n",
    "            return -1\n",
    "        if not self.outStack: # 如果outStack没有元素则把inStack全部倒着放入(栈完美实现倒着放入)\n",
    "            while self.inStack:\n",
    "                self.outStack.append(self.inStack.pop())\n",
    "        return self.outStack.pop()\n",
    "\n",
    "\n",
    "# Your CQueue object will be instantiated and called as such:\n",
    "# obj = CQueue()\n",
    "# obj.appendTail(value)\n",
    "# param_2 = obj.deleteHead()"
   ]
  }
 ],
 "metadata": {
  "language_info": {
   "name": "python"
  },
  "orig_nbformat": 4
 },
 "nbformat": 4,
 "nbformat_minor": 2
}
