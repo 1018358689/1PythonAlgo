{
 "cells": [
  {
   "cell_type": "code",
   "execution_count": 1,
   "metadata": {},
   "outputs": [],
   "source": [
    "from collections import deque\n",
    "\n",
    "\n",
    "class MaxQueue:\n",
    "\n",
    "    def __init__(self):\n",
    "        self.q = deque([])\n",
    "        self.hq = deque([])\n",
    "\n",
    "    def max_value(self) -> int:\n",
    "        if not self.q:\n",
    "            return -1\n",
    "        return self.hq[0]\n",
    "\n",
    "    def push_back(self, value: int) -> None:\n",
    "        self.q.append(value)\n",
    "        while self.hq and self.hq[-1] < value:\n",
    "            self.hq.pop()\n",
    "        self.hq.append(value)\n",
    "\n",
    "    def pop_front(self) -> int:\n",
    "        if not self.q:\n",
    "            return -1\n",
    "        if self.q[0] == self.hq[0]:\n",
    "            self.hq.popleft()\n",
    "        return self.q.popleft()\n",
    "\n",
    "\n",
    "# Your MaxQueue object will be instantiated and called as such:\n",
    "# obj = MaxQueue()\n",
    "# param_1 = obj.max_value()\n",
    "# obj.push_back(value)\n",
    "# param_3 = obj.pop_front()"
   ]
  },
  {
   "cell_type": "code",
   "execution_count": null,
   "metadata": {},
   "outputs": [],
   "source": []
  }
 ],
 "metadata": {
  "kernelspec": {
   "display_name": "Python 3.10.1 64-bit",
   "language": "python",
   "name": "python3"
  },
  "language_info": {
   "codemirror_mode": {
    "name": "ipython",
    "version": 3
   },
   "file_extension": ".py",
   "mimetype": "text/x-python",
   "name": "python",
   "nbconvert_exporter": "python",
   "pygments_lexer": "ipython3",
   "version": "3.10.1"
  },
  "orig_nbformat": 4,
  "vscode": {
   "interpreter": {
    "hash": "aee8b7b246df8f9039afb4144a1f6fd8d2ca17a180786b69acc140d282b71a49"
   }
  }
 },
 "nbformat": 4,
 "nbformat_minor": 2
}
