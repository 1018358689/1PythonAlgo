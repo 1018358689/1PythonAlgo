{
 "cells": [
  {
   "cell_type": "code",
   "execution_count": 1,
   "metadata": {},
   "outputs": [],
   "source": [
    "from typing import List\n",
    "# 角度1： 找某个数左边比他大的数个数\n",
    "\n",
    "class Solution:\n",
    "    def reversePairs(self, nums: List[int]) -> int:\n",
    "        cnt = 0\n",
    "\n",
    "        def merge(si, mi, ei):  # [si,mi] [mi+1,ei]\n",
    "            nonlocal cnt\n",
    "            tmp = []\n",
    "            p1, p2 = si, mi + 1\n",
    "            while p1 <= mi and p2 <= ei:\n",
    "                if nums[p1] > nums[p2]:\n",
    "                    cnt += mi - p1 + 1  # 找[si,mi]比nums[p2]大的数\n",
    "                    tmp.append(nums[p2])\n",
    "                    p2 += 1\n",
    "                else:\n",
    "                    tmp.append(nums[p1])\n",
    "                    p1 += 1\n",
    "            tmp+=nums[p1:mi+1]+nums[p2:ei+1]\n",
    "            nums[si:ei + 1] = tmp\n",
    "\n",
    "        def dc(si, ei):\n",
    "            if si >= ei:\n",
    "                return\n",
    "            mi = si + ei >> 1\n",
    "            dc(si, mi)\n",
    "            dc(mi + 1, ei)\n",
    "            merge(si, mi, ei)\n",
    "\n",
    "        dc(0, len(nums) - 1)\n",
    "        return cnt\n",
    "    "
   ]
  },
  {
   "cell_type": "code",
   "execution_count": null,
   "metadata": {},
   "outputs": [],
   "source": [
    "from typing import List\n",
    "# 角度2： 找某个数右边比他小的数个数\n",
    "\n",
    "\n",
    "class Solution:\n",
    "    def reversePairs(self, nums: List[int]) -> int:\n",
    "        cnt = 0\n",
    "\n",
    "        def merge(si, mi, ei):  # [si,mi] [mi+1,ei]\n",
    "            nonlocal cnt\n",
    "            tmp = []\n",
    "            p1, p2 = si, mi + 1\n",
    "            while p1 <= mi and p2 <= ei:\n",
    "                if nums[p1] <= nums[p2]:\n",
    "                    cnt += p2 - mi - 1  # 找[si,p2-1]比nums[p1]小的数\n",
    "                    tmp.append(nums[p1])\n",
    "                    p1 += 1\n",
    "                else:\n",
    "                    tmp.append(nums[p2])\n",
    "                    p2 += 1\n",
    "            tmp += nums[p1:mi + 1] + nums[p2:ei + 1]\n",
    "            cnt += (mi - p1 + 1) * (ei - mi)\n",
    "            nums[si:ei + 1] = tmp\n",
    "\n",
    "        def dc(si, ei):\n",
    "            if si >= ei:\n",
    "                return\n",
    "            mi = si + ei >> 1\n",
    "            dc(si, mi)\n",
    "            dc(mi + 1, ei)\n",
    "            merge(si, mi, ei)\n",
    "\n",
    "        dc(0, len(nums) - 1)\n",
    "        return cnt\n"
   ]
  }
 ],
 "metadata": {
  "kernelspec": {
   "display_name": "Python 3.8.10 64-bit",
   "language": "python",
   "name": "python3"
  },
  "language_info": {
   "codemirror_mode": {
    "name": "ipython",
    "version": 3
   },
   "file_extension": ".py",
   "mimetype": "text/x-python",
   "name": "python",
   "nbconvert_exporter": "python",
   "pygments_lexer": "ipython3",
   "version": "3.8.10"
  },
  "orig_nbformat": 4,
  "vscode": {
   "interpreter": {
    "hash": "de72d97932d649c6d75aa79b73261cc3e8a1ae5e7cab8a9115f0bbb1518a7af2"
   }
  }
 },
 "nbformat": 4,
 "nbformat_minor": 2
}
