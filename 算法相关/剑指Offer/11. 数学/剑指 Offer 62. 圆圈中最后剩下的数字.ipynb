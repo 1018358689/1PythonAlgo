{
 "cells": [
  {
   "cell_type": "code",
   "execution_count": 3,
   "metadata": {},
   "outputs": [
    {
     "data": {
      "text/plain": [
       "(3, 2)"
      ]
     },
     "execution_count": 3,
     "metadata": {},
     "output_type": "execute_result"
    }
   ],
   "source": [
    "# 全真模拟 超时\n",
    "class Solution:\n",
    "\n",
    "    def lastRemaining(self, n: int, m: int) -> int:\n",
    "        # 0 1 2 3 4  n:5 m:3\n",
    "        # 2 0 4 1\n",
    "        q = list(range(n))\n",
    "        i = 0\n",
    "        while len(q) > 1:\n",
    "            i = (i + m - 1) % len(q)  # 击鼓传花 m-1是偏移量\n",
    "            q.pop(i)\n",
    "        return q[0]\n",
    "\n",
    "\n",
    "s = Solution()\n",
    "s.lastRemaining(5, 3), s.lastRemaining(10, 17)\n"
   ]
  },
  {
   "cell_type": "code",
   "execution_count": null,
   "metadata": {},
   "outputs": [],
   "source": [
    "# 约瑟夫环 f(n,m) = f(n-1,m) + m 如果溢出超过n,则对n取余\n",
    "class Solution:\n",
    "\n",
    "    def lastRemaining(self, n: int, m: int) -> int:\n",
    "        # dp[i] i个元素每隔m个数删后最后剩下的那个数的索引\n",
    "        # dp[i] = (dp[i-1]+m)%i\n",
    "        # dp[1] = 0\n",
    "        dp = [0] * (n + 1)\n",
    "        for i in range(2, n + 1):\n",
    "            dp[i] = (dp[i - 1] + m) % i\n",
    "        return dp[-1]"
   ]
  }
 ],
 "metadata": {
  "interpreter": {
   "hash": "aee8b7b246df8f9039afb4144a1f6fd8d2ca17a180786b69acc140d282b71a49"
  },
  "kernelspec": {
   "display_name": "Python 3.10.2 64-bit",
   "language": "python",
   "name": "python3"
  },
  "language_info": {
   "codemirror_mode": {
    "name": "ipython",
    "version": 3
   },
   "file_extension": ".py",
   "mimetype": "text/x-python",
   "name": "python",
   "nbconvert_exporter": "python",
   "pygments_lexer": "ipython3",
   "version": "3.10.2"
  },
  "orig_nbformat": 4
 },
 "nbformat": 4,
 "nbformat_minor": 2
}
