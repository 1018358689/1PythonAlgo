{
 "cells": [
  {
   "cell_type": "code",
   "execution_count": 10,
   "metadata": {},
   "outputs": [
    {
     "data": {
      "text/plain": [
       "[[1, 2]]"
      ]
     },
     "execution_count": 10,
     "metadata": {},
     "output_type": "execute_result"
    }
   ],
   "source": [
    "from typing import List\n",
    "\n",
    "\n",
    "class Solution:\n",
    "\n",
    "    def findContinuousSequence(self, target: int) -> List[List[int]]:\n",
    "        ans = []\n",
    "        s = 0\n",
    "        l = 1\n",
    "        for r in range(1, target):\n",
    "            s += r\n",
    "            while s > target:\n",
    "                s -= l\n",
    "                l += 1\n",
    "            if s == target:\n",
    "                ans.append(list(range(l, r + 1)))\n",
    "        return ans\n",
    "\n",
    "\n",
    "s = Solution()\n",
    "s.findContinuousSequence(9), s.findContinuousSequence(15)\n",
    "s.findContinuousSequence(3)"
   ]
  },
  {
   "cell_type": "code",
   "execution_count": 22,
   "metadata": {},
   "outputs": [
    {
     "name": "stdout",
     "output_type": "stream",
     "text": [
      "[(0, 0)]\n"
     ]
    },
    {
     "data": {
      "text/plain": [
       "[]"
      ]
     },
     "execution_count": 22,
     "metadata": {},
     "output_type": "execute_result"
    }
   ],
   "source": [
    "from typing import List\n",
    "\n",
    "\n",
    "class Solution:\n",
    "\n",
    "    def findContinuousSequence(self, target: int) -> List[List[int]]:\n",
    "        ans = []\n",
    "        # [1,2,3,target-1]\n",
    "        # 求sum[i,j] p[j+1]-p[i]\n",
    "        preSum = [(0, 0)] * target\n",
    "        for i in range(1, target):\n",
    "            preSum[i] = (preSum[i - 1][0] + i, i)\n",
    "        print(preSum)\n",
    "        ha = {0: 0}\n",
    "        for j in range(target - 1):\n",
    "            need = preSum[j + 1][0] - target\n",
    "            if need in ha:\n",
    "                ans.append(list(range(ha[need] + 1, j + 2)))\n",
    "            ha[preSum[j + 1][0]] = preSum[j + 1][1]\n",
    "        return ans\n",
    "\n",
    "\n",
    "s = Solution()\n",
    "s.findContinuousSequence(1)"
   ]
  },
  {
   "cell_type": "code",
   "execution_count": null,
   "metadata": {},
   "outputs": [],
   "source": []
  }
 ],
 "metadata": {
  "interpreter": {
   "hash": "aee8b7b246df8f9039afb4144a1f6fd8d2ca17a180786b69acc140d282b71a49"
  },
  "kernelspec": {
   "display_name": "Python 3.10.2 64-bit",
   "language": "python",
   "name": "python3"
  },
  "language_info": {
   "codemirror_mode": {
    "name": "ipython",
    "version": 3
   },
   "file_extension": ".py",
   "mimetype": "text/x-python",
   "name": "python",
   "nbconvert_exporter": "python",
   "pygments_lexer": "ipython3",
   "version": "3.10.2"
  },
  "orig_nbformat": 4
 },
 "nbformat": 4,
 "nbformat_minor": 2
}
