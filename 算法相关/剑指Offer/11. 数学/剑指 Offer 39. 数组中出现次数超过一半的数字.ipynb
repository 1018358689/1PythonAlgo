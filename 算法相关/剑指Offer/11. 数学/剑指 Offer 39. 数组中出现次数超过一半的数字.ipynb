{
 "cells": [
  {
   "cell_type": "markdown",
   "metadata": {},
   "source": [
    " “投票法简单来说就是不同则抵消，占半数以上的数字必然留到最后。”这句话是摩尔投票法的精髓\n",
    "# 假设有一个擂台，有一组人，每个人有编号，相同编号为一组，依次上场，没人时上去的便是擂主（x），若有人，编号相同则继续站着（人数+1），若不同，假设每个人战斗力相同，都同归于尽，则人数-1；那么到最后站着的肯定是人数占绝对优势的那一组啦~"
   ]
  },
  {
   "cell_type": "code",
   "execution_count": 3,
   "metadata": {},
   "outputs": [
    {
     "data": {
      "text/plain": [
       "2"
      ]
     },
     "execution_count": 3,
     "metadata": {},
     "output_type": "execute_result"
    }
   ],
   "source": [
    "from typing import List\n",
    "\n",
    "\n",
    "class Solution:\n",
    "\n",
    "    def majorityElement(self, nums: List[int]) -> int:\n",
    "        cnt = 0  # 擂台人数\n",
    "        for n in nums:\n",
    "            if cnt == 0:  # 擂台没人\n",
    "                champion = n  # 当前的人充当擂主\n",
    "            cnt += 1 if champion == n else -1  # 擂主和当前的人一样则擂台人数+1 不一样则打一架同归于尽一个人\n",
    "        # return champion # 绝对人数的人当擂主\n",
    "        # 如果不存在超过一半的人 得到的擂主可能是任意数 所以要验证 本题明确规定存在众数 所以可以不用验证\n",
    "        cnt = 0\n",
    "        for n in nums:\n",
    "            if n == champion:\n",
    "                cnt += 1\n",
    "        return champion if cnt > len(nums) // 2 else -1\n",
    "s = Solution()\n",
    "s.majorityElement([1,2,2,3,2,2])"
   ]
  },
  {
   "cell_type": "code",
   "execution_count": null,
   "metadata": {},
   "outputs": [],
   "source": []
  }
 ],
 "metadata": {
  "interpreter": {
   "hash": "97367d2de1780ea7c502b529f25888c1b53c0430a7611816b6c7cf19d8435228"
  },
  "kernelspec": {
   "display_name": "Python 3.10.4 64-bit (windows store)",
   "language": "python",
   "name": "python3"
  },
  "language_info": {
   "codemirror_mode": {
    "name": "ipython",
    "version": 3
   },
   "file_extension": ".py",
   "mimetype": "text/x-python",
   "name": "python",
   "nbconvert_exporter": "python",
   "pygments_lexer": "ipython3",
   "version": "3.10.5"
  },
  "orig_nbformat": 4
 },
 "nbformat": 4,
 "nbformat_minor": 2
}
