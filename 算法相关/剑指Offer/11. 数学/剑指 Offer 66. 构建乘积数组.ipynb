{
 "cells": [
  {
   "cell_type": "code",
   "execution_count": null,
   "metadata": {},
   "outputs": [],
   "source": [
    "from typing import List\n",
    "class Solution:\n",
    "    def constructArr(self, a: List[int]) -> List[int]:\n",
    "        preProduct = [1]*(len(a)+1) # 前缀积\n",
    "        sufProduct = [1]*(len(a)+1) # 后缀积\n",
    "        for i in range(len(a)):\n",
    "            preProduct[i+1]=preProduct[i]*a[i]\n",
    "            sufProduct[len(a)-2-i]=sufProduct[len(a)-1-i]*a[len(a)-1-i]\n",
    "        ans = []\n",
    "        for i in range(len(a)):\n",
    "            ans.append(preProduct[i]*sufProduct[i])\n",
    "        return ans\n",
    "\n"
   ]
  }
 ],
 "metadata": {
  "language_info": {
   "name": "python"
  },
  "orig_nbformat": 4
 },
 "nbformat": 4,
 "nbformat_minor": 2
}
