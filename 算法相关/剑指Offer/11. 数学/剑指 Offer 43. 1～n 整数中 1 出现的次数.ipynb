{
 "cells": [
  {
   "cell_type": "markdown",
   "metadata": {},
   "source": [
    "https://leetcode.cn/problems/1nzheng-shu-zhong-1chu-xian-de-ci-shu-lcof/solution/mian-shi-ti-43-1n-zheng-shu-zhong-1-chu-xian-de-2/\n",
    "受益匪浅"
   ]
  },
  {
   "cell_type": "code",
   "execution_count": 5,
   "metadata": {},
   "outputs": [
    {
     "data": {
      "text/plain": [
       "5"
      ]
     },
     "execution_count": 5,
     "metadata": {},
     "output_type": "execute_result"
    }
   ],
   "source": [
    "class Solution:\n",
    "    def countDigitOne(self, n: int) -> int:\n",
    "        high = n // 10\n",
    "        cur = n % 10\n",
    "        low = 0\n",
    "        dig = 1\n",
    "        cnt = 0\n",
    "        while high != 0 or cur != 0: # 高位和当前值都为0算结束\n",
    "            if cur == 0:\n",
    "                cnt += high * dig\n",
    "            elif cur == 1:\n",
    "                cnt += high * dig + low + 1\n",
    "            else:\n",
    "                cnt += (high + 1) * dig\n",
    "            low = cur * dig + low\n",
    "            dig = dig * 10\n",
    "            cur = high % 10\n",
    "            high = high // 10\n",
    "\n",
    "        return cnt\n",
    "\n",
    "\n",
    "s = Solution()\n",
    "s.countDigitOne(12)"
   ]
  },
  {
   "cell_type": "code",
   "execution_count": null,
   "metadata": {},
   "outputs": [],
   "source": []
  }
 ],
 "metadata": {
  "kernelspec": {
   "display_name": "Python 3.8.10 64-bit",
   "language": "python",
   "name": "python3"
  },
  "language_info": {
   "codemirror_mode": {
    "name": "ipython",
    "version": 3
   },
   "file_extension": ".py",
   "mimetype": "text/x-python",
   "name": "python",
   "nbconvert_exporter": "python",
   "pygments_lexer": "ipython3",
   "version": "3.8.10"
  },
  "orig_nbformat": 4,
  "vscode": {
   "interpreter": {
    "hash": "de72d97932d649c6d75aa79b73261cc3e8a1ae5e7cab8a9115f0bbb1518a7af2"
   }
  }
 },
 "nbformat": 4,
 "nbformat_minor": 2
}
