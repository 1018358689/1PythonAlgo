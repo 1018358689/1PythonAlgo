{
 "cells": [
  {
   "cell_type": "markdown",
   "metadata": {},
   "source": [
    "![](2022-06-08-15-24-09.png)"
   ]
  },
  {
   "cell_type": "markdown",
   "metadata": {},
   "source": [
    "这题用动态规划是比较好理解的\n",
    "\n",
    "我们想要求长度为n的绳子剪掉后的最大乘积，可以从前面比n小的绳子转移而来\n",
    "用一个dp数组记录从0到n长度的绳子剪掉后的最大乘积，也就是dp[i]表示长度为i的绳子剪成m段后的最大乘积，初始化dp[2] = 1\n",
    "我们先把绳子剪掉第一段（长度为j），如果只剪掉长度为1，对最后的乘积无任何增益，所以从长度为2开始剪\n",
    "剪了第一段后，剩下(i - j)长度可以剪也可以不剪。如果不剪的话长度乘积即为j * (i - j)；如果剪的话长度乘积即为j * dp[i - j]。取两者最大值max(j * (i - j), j * dp[i - j])\n",
    "第一段长度j可以取的区间为[2,i)，对所有j不同的情况取最大值，因此最终dp[i]的转移方程为\n",
    "dp[i] = max(dp[i], max(j * (i - j), j * dp[i - j]))\n",
    "最后返回dp[n]即可\n",
    "\n",
    "作者：smooth-b\n",
    "链接：https://leetcode.cn/problems/jian-sheng-zi-lcof/solution/jian-zhi-offer-14-i-jian-sheng-zi-dong-t-c7ou/\n",
    "来源：力扣（LeetCode）\n",
    "著作权归作者所有。商业转载请联系作者获得授权，非商业转载请注明出处。"
   ]
  },
  {
   "cell_type": "code",
   "execution_count": 3,
   "metadata": {},
   "outputs": [
    {
     "data": {
      "text/plain": [
       "18"
      ]
     },
     "execution_count": 3,
     "metadata": {},
     "output_type": "execute_result"
    }
   ],
   "source": [
    "class Solution:\n",
    "\n",
    "    def cuttingRope(self, n: int) -> int:\n",
    "        # dp[i] 长度i的绳子剪成若干段的最大乘积\n",
    "        # dp[i] = max(dp[i], j * (i - j), j * dp[i - j])\n",
    "        # 剪第一刀的长度j 后面可以剪也可以不剪\n",
    "        # dp[1]=1 dp[2]=1\n",
    "        dp = [1] * (n + 1)\n",
    "        for i in range(3, n + 1):\n",
    "            for j in range(2, i):\n",
    "                dp[i] = max(dp[i], j * (i - j), j * dp[i - j])\n",
    "        return dp[-1]\n",
    "\n",
    "\n",
    "s = Solution()\n",
    "s.cuttingRope(8)"
   ]
  },
  {
   "cell_type": "code",
   "execution_count": null,
   "metadata": {},
   "outputs": [],
   "source": []
  }
 ],
 "metadata": {
  "interpreter": {
   "hash": "97367d2de1780ea7c502b529f25888c1b53c0430a7611816b6c7cf19d8435228"
  },
  "kernelspec": {
   "display_name": "Python 3.10.4 64-bit (windows store)",
   "language": "python",
   "name": "python3"
  },
  "language_info": {
   "codemirror_mode": {
    "name": "ipython",
    "version": 3
   },
   "file_extension": ".py",
   "mimetype": "text/x-python",
   "name": "python",
   "nbconvert_exporter": "python",
   "pygments_lexer": "ipython3",
   "version": "3.10.5"
  },
  "orig_nbformat": 4
 },
 "nbformat": 4,
 "nbformat_minor": 2
}
