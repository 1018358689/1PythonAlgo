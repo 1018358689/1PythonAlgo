{
 "cells": [
  {
   "cell_type": "code",
   "execution_count": null,
   "metadata": {},
   "outputs": [],
   "source": [
    "# Definition for a binary tree node.\n",
    "class TreeNode:\n",
    "\n",
    "    def __init__(self, val=0, left=None, right=None):\n",
    "        self.val = val\n",
    "        self.left = left\n",
    "        self.right = right\n",
    "\n",
    "\n",
    "from collections import deque\n",
    "\n",
    "\n",
    "class BSTIterator:\n",
    "\n",
    "    def __init__(self, root: TreeNode):\n",
    "        self.q = deque([])\n",
    "\n",
    "        def dfs(root: TreeNode):\n",
    "            if not root:\n",
    "                return\n",
    "            dfs(root.left)\n",
    "            self.q.append(root.val)\n",
    "            dfs(root.right)\n",
    "\n",
    "        dfs(root)\n",
    "\n",
    "    def next(self) -> int:\n",
    "        return self.q.popleft()\n",
    "\n",
    "    def hasNext(self) -> bool:\n",
    "        return bool(self.q)\n",
    "\n",
    "\n",
    "# Your BSTIterator object will be instantiated and called as such:\n",
    "# obj = BSTIterator(root)\n",
    "# param_1 = obj.next()\n",
    "# param_2 = obj.hasNext()"
   ]
  }
 ],
 "metadata": {
  "language_info": {
   "name": "python"
  },
  "orig_nbformat": 4
 },
 "nbformat": 4,
 "nbformat_minor": 2
}
