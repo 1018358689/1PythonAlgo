{
 "cells": [
  {
   "cell_type": "code",
   "execution_count": 1,
   "metadata": {},
   "outputs": [],
   "source": [
    "# Definition for a binary tree node.\n",
    "class TreeNode:\n",
    "\n",
    "    def __init__(self, val=0, left=None, right=None):\n",
    "        self.val = val\n",
    "        self.left = left\n",
    "        self.right = right\n",
    "\n",
    "\n",
    "class Solution:\n",
    "\n",
    "    def convertBST(self, root: TreeNode) -> TreeNode:\n",
    "        l = []\n",
    "\n",
    "        def dfs(root: TreeNode):  # 获得该节点和\n",
    "            if not root:\n",
    "                return\n",
    "            dfs(root.left)\n",
    "            l.append(root)\n",
    "            dfs(root.right)\n",
    "\n",
    "        dfs(root)\n",
    "        s = 0\n",
    "        for i in range(len(l) - 1, -1, -1):\n",
    "            s += l[i].val\n",
    "            l[i].val = s\n",
    "        return root\n"
   ]
  },
  {
   "cell_type": "code",
   "execution_count": null,
   "metadata": {},
   "outputs": [],
   "source": [
    "# Definition for a binary tree node.\n",
    "class TreeNode:\n",
    "\n",
    "    def __init__(self, val=0, left=None, right=None):\n",
    "        self.val = val\n",
    "        self.left = left\n",
    "        self.right = right\n",
    "\n",
    "\n",
    "class Solution:\n",
    "\n",
    "    def convertBST(self, root: TreeNode) -> TreeNode:\n",
    "        s = 0\n",
    "\n",
    "        def dfs(root: TreeNode):  # 获得该节点和\n",
    "            if not root:\n",
    "                return\n",
    "            dfs(root.right)\n",
    "            nonlocal s\n",
    "            s += root.val\n",
    "            root.val = s\n",
    "            dfs(root.left)\n",
    "\n",
    "        dfs(root)\n",
    "        return root\n"
   ]
  }
 ],
 "metadata": {
  "kernelspec": {
   "display_name": "Python 3.10.5 64-bit (windows store)",
   "language": "python",
   "name": "python3"
  },
  "language_info": {
   "codemirror_mode": {
    "name": "ipython",
    "version": 3
   },
   "file_extension": ".py",
   "mimetype": "text/x-python",
   "name": "python",
   "nbconvert_exporter": "python",
   "pygments_lexer": "ipython3",
   "version": "3.10.5"
  },
  "orig_nbformat": 4,
  "vscode": {
   "interpreter": {
    "hash": "97367d2de1780ea7c502b529f25888c1b53c0430a7611816b6c7cf19d8435228"
   }
  }
 },
 "nbformat": 4,
 "nbformat_minor": 2
}
