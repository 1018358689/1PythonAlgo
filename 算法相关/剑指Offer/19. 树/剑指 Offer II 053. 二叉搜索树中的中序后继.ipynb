{
 "cells": [
  {
   "cell_type": "code",
   "execution_count": 1,
   "metadata": {},
   "outputs": [],
   "source": [
    "# Definition for a binary tree node.\n",
    "class TreeNode:\n",
    "\n",
    "    def __init__(self, x):\n",
    "        self.val = x\n",
    "        self.left = None\n",
    "        self.right = None\n",
    "\n",
    "\n",
    "class Solution:\n",
    "\n",
    "    def inorderSuccessor(self, root: 'TreeNode', p: 'TreeNode') -> 'TreeNode':\n",
    "        l = [None]\n",
    "\n",
    "        def dfs(root: TreeNode):\n",
    "            if not root:\n",
    "                return\n",
    "            if dfs(root.right):\n",
    "                return True\n",
    "            l.append(root)\n",
    "            if root == p:\n",
    "                return True\n",
    "            if dfs(root.left):\n",
    "                return True\n",
    "\n",
    "        dfs(root)\n",
    "        return l[-2]"
   ]
  },
  {
   "cell_type": "code",
   "execution_count": 2,
   "metadata": {},
   "outputs": [],
   "source": [
    "# Definition for a binary tree node.\n",
    "class TreeNode:\n",
    "\n",
    "    def __init__(self, x):\n",
    "        self.val = x\n",
    "        self.left = None\n",
    "        self.right = None\n",
    "\n",
    "\n",
    "class Solution:\n",
    "\n",
    "    def inorderSuccessor(self, root: 'TreeNode', p: 'TreeNode') -> 'TreeNode':\n",
    "        l = [None]\n",
    "\n",
    "        def dfs(root: TreeNode):\n",
    "            if not root:\n",
    "                return\n",
    "            if dfs(root.right):\n",
    "                return True\n",
    "            l.append(root)\n",
    "            if root == p:\n",
    "                return True\n",
    "            if dfs(root.left):\n",
    "                return True\n",
    "\n",
    "        dfs(root)\n",
    "        return l[-2]"
   ]
  },
  {
   "cell_type": "code",
   "execution_count": null,
   "metadata": {},
   "outputs": [],
   "source": [
    "# Definition for a binary tree node.\n",
    "class TreeNode:\n",
    "\n",
    "    def __init__(self, x):\n",
    "        self.val = x\n",
    "        self.left = None\n",
    "        self.right = None\n",
    "\n",
    "\n",
    "class Solution:\n",
    "\n",
    "    def inorderSuccessor(self, root: 'TreeNode', p: 'TreeNode') -> 'TreeNode':\n",
    "        if p.right:  # 当p有右子树 后继节点在右子树最左下方\n",
    "            cur = p.right\n",
    "            while cur.left:\n",
    "                cur = cur.left\n",
    "            return cur\n",
    "        else:  # 无右子树 后继节点在上方\n",
    "            tmp = None\n",
    "            cur = root\n",
    "            while cur:\n",
    "                if cur.val > p.val:  # 记录由根至p，遇到的最小的一个大于p的值\n",
    "                    tmp = cur\n",
    "                    cur = cur.left\n",
    "                else:  # 当cur==p cur=cur.right cur=None 会直接退出\n",
    "                    cur = cur.right\n",
    "            return tmp"
   ]
  }
 ],
 "metadata": {
  "kernelspec": {
   "display_name": "Python 3.10.5 64-bit (windows store)",
   "language": "python",
   "name": "python3"
  },
  "language_info": {
   "codemirror_mode": {
    "name": "ipython",
    "version": 3
   },
   "file_extension": ".py",
   "mimetype": "text/x-python",
   "name": "python",
   "nbconvert_exporter": "python",
   "pygments_lexer": "ipython3",
   "version": "3.10.5"
  },
  "orig_nbformat": 4,
  "vscode": {
   "interpreter": {
    "hash": "97367d2de1780ea7c502b529f25888c1b53c0430a7611816b6c7cf19d8435228"
   }
  }
 },
 "nbformat": 4,
 "nbformat_minor": 2
}
