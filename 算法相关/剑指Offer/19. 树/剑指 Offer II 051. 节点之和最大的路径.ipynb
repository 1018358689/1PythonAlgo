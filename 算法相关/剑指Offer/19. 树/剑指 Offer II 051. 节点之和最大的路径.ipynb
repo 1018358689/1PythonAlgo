{
 "cells": [
  {
   "cell_type": "code",
   "execution_count": null,
   "metadata": {},
   "outputs": [],
   "source": [
    "# Definition for a binary tree node.\n",
    "class TreeNode:\n",
    "\n",
    "    def __init__(self, val=0, left=None, right=None):\n",
    "        self.val = val\n",
    "        self.left = left\n",
    "        self.right = right\n",
    "\n",
    "\n",
    "class Solution:\n",
    "\n",
    "    def maxPathSum(self, root: TreeNode) -> int:\n",
    "        ans = float('-inf')\n",
    "\n",
    "        def dfs(node: TreeNode):  # 计算node为根的最大单边路径和\n",
    "            if not node:\n",
    "                return 0\n",
    "            leftSub = dfs(node.left)\n",
    "            rightSub = dfs(node.right)\n",
    "            left = max(0, leftSub)  # 左边贡献 <0则不需要他贡献\n",
    "            right = max(0, rightSub)  # 右边贡献\n",
    "            pathMaxSum = node.val + left + right\n",
    "            nonlocal ans\n",
    "            ans = max(ans, pathMaxSum)\n",
    "            return max(left, right) + node.val\n",
    "\n",
    "        dfs(root)\n",
    "        return ans"
   ]
  }
 ],
 "metadata": {
  "language_info": {
   "name": "python"
  },
  "orig_nbformat": 4
 },
 "nbformat": 4,
 "nbformat_minor": 2
}
