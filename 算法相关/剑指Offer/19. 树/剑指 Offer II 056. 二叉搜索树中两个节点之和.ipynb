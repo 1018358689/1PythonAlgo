{
 "cells": [
  {
   "cell_type": "code",
   "execution_count": 2,
   "metadata": {},
   "outputs": [],
   "source": [
    "# Definition for a binary tree node.\n",
    "# 哈希集合\n",
    "class TreeNode:\n",
    "\n",
    "    def __init__(self, val=0, left=None, right=None):\n",
    "        self.val = val\n",
    "        self.left = left\n",
    "        self.right = right\n",
    "\n",
    "\n",
    "class Solution:\n",
    "\n",
    "    def findTarget(self, root: TreeNode, k: int) -> bool:\n",
    "        ha = set()\n",
    "\n",
    "        def dfs(root: TreeNode):\n",
    "            if not root:\n",
    "                return\n",
    "            if dfs(root.left):\n",
    "                return True\n",
    "            if 2 * root.val > k and k - root.val in ha:\n",
    "                return True\n",
    "            ha.add(root.val)\n",
    "            if dfs(root.right):\n",
    "                return True\n",
    "            return False\n",
    "\n",
    "        return dfs(root)"
   ]
  },
  {
   "cell_type": "code",
   "execution_count": 3,
   "metadata": {},
   "outputs": [
    {
     "ename": "IndentationError",
     "evalue": "expected an indented block after function definition on line 20 (2974297657.py, line 21)",
     "output_type": "error",
     "traceback": [
      "\u001b[0;36m  Input \u001b[0;32mIn [3]\u001b[0;36m\u001b[0m\n\u001b[0;31m    \u001b[0m\n\u001b[0m    ^\u001b[0m\n\u001b[0;31mIndentationError\u001b[0m\u001b[0;31m:\u001b[0m expected an indented block after function definition on line 20\n"
     ]
    }
   ],
   "source": [
    "# Definition for a binary tree node.\n",
    "# 双指针\n",
    "class TreeNode:\n",
    "\n",
    "    def __init__(self, val=0, left=None, right=None):\n",
    "        self.val = val\n",
    "        self.left = left\n",
    "        self.right = right\n",
    "\n",
    "\n",
    "class Solution:\n",
    "\n",
    "    def findTarget(self, root: TreeNode, k: int) -> bool:\n",
    "\n",
    "        def inOrder(root):\n",
    "            if not root:\n",
    "                return\n",
    "            yield from inOrder(root.left)\n",
    "            yield root.val\n",
    "            yield from inOrder(root.right)\n",
    "\n",
    "        def inOrderReverse(root):\n",
    "            if not root:\n",
    "                return\n",
    "            yield from inOrderReverse(root.right)\n",
    "            yield root.val\n",
    "            yield from inOrderReverse(root.left)\n",
    "\n",
    "        leftGen, rightGen = inOrder(root), inOrderReverse(root)\n",
    "        l, r = next(leftGen), next(rightGen)\n",
    "        while l < r:\n",
    "            s = l + r\n",
    "            if s > k:\n",
    "                r = next(rightGen)\n",
    "            elif s < k:\n",
    "                l = next(leftGen)\n",
    "            else:\n",
    "                return True\n",
    "        return False"
   ]
  }
 ],
 "metadata": {
  "kernelspec": {
   "display_name": "Python 3.10.1 64-bit",
   "language": "python",
   "name": "python3"
  },
  "language_info": {
   "codemirror_mode": {
    "name": "ipython",
    "version": 3
   },
   "file_extension": ".py",
   "mimetype": "text/x-python",
   "name": "python",
   "nbconvert_exporter": "python",
   "pygments_lexer": "ipython3",
   "version": "3.10.1"
  },
  "orig_nbformat": 4,
  "vscode": {
   "interpreter": {
    "hash": "aee8b7b246df8f9039afb4144a1f6fd8d2ca17a180786b69acc140d282b71a49"
   }
  }
 },
 "nbformat": 4,
 "nbformat_minor": 2
}
