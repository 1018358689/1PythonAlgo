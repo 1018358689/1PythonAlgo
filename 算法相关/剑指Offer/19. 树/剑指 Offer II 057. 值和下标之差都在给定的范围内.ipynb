{
 "cells": [
  {
   "cell_type": "code",
   "execution_count": 8,
   "metadata": {},
   "outputs": [
    {
     "data": {
      "text/plain": [
       "(SortedSet([1, 3]), 1, None, SortedSet([1, 3]))"
      ]
     },
     "execution_count": 8,
     "metadata": {},
     "output_type": "execute_result"
    }
   ],
   "source": [
    "from sortedcontainers import SortedSet\n",
    "ss = SortedSet()\n",
    "ss.add(3)\n",
    "ss.add(1)\n",
    "ss.add(2)\n",
    "ss.add(3)\n",
    "ss,ss[0],ss.remove(2),ss"
   ]
  },
  {
   "cell_type": "code",
   "execution_count": null,
   "metadata": {},
   "outputs": [],
   "source": [
    "from sortedcontainers import SortedList\n",
    "from typing import List\n",
    "\n",
    "\n",
    "class Solution:\n",
    "\n",
    "    def search(self, nums, left, right):  # 是否存在[left,right]范围内数字\n",
    "        l, r = 0, len(nums) - 1\n",
    "        while l <= r:\n",
    "            m = l + r >> 1\n",
    "            if nums[m] >= left:\n",
    "                r = m - 1\n",
    "            else:\n",
    "                l = m + 1\n",
    "        if l < len(nums) and nums[l] <= right:\n",
    "            return True\n",
    "        return False\n",
    "\n",
    "    def containsNearbyAlmostDuplicate(self, nums: List[int], k: int, t: int) -> bool:\n",
    "        sl = SortedList()\n",
    "        windowSz = k + 1\n",
    "        l = 0\n",
    "        # 滑动窗口保持k+1大小\n",
    "        for r in range(len(nums)):\n",
    "            # sl.add(nums[r]) # 要后加 因为题目要求ij不同坐标\n",
    "            while r - l + 1 > windowSz:\n",
    "                sl.remove(nums[l])\n",
    "                l += 1\n",
    "            # 因为r会一步一步遍历 以nums[r]为基准 找范围内数字\n",
    "            if self.search(sl, nums[r] - t, nums[r] + t):\n",
    "                return True\n",
    "            sl.add(nums[r])\n",
    "        return False"
   ]
  }
 ],
 "metadata": {
  "kernelspec": {
   "display_name": "Python 3.10.1 64-bit",
   "language": "python",
   "name": "python3"
  },
  "language_info": {
   "codemirror_mode": {
    "name": "ipython",
    "version": 3
   },
   "file_extension": ".py",
   "mimetype": "text/x-python",
   "name": "python",
   "nbconvert_exporter": "python",
   "pygments_lexer": "ipython3",
   "version": "3.10.1"
  },
  "orig_nbformat": 4,
  "vscode": {
   "interpreter": {
    "hash": "aee8b7b246df8f9039afb4144a1f6fd8d2ca17a180786b69acc140d282b71a49"
   }
  }
 },
 "nbformat": 4,
 "nbformat_minor": 2
}
