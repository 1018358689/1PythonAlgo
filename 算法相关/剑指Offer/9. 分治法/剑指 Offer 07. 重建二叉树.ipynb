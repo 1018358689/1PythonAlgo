{
 "cells": [
  {
   "cell_type": "code",
   "execution_count": 1,
   "metadata": {},
   "outputs": [
    {
     "data": {
      "text/plain": [
       "<__main__.TreeNode at 0x109e33850>"
      ]
     },
     "execution_count": 1,
     "metadata": {},
     "output_type": "execute_result"
    }
   ],
   "source": [
    "# Definition for a binary tree node.\n",
    "class TreeNode:\n",
    "\n",
    "    def __init__(self, x):\n",
    "        self.val = x\n",
    "        self.left = None\n",
    "        self.right = None\n",
    "\n",
    "\n",
    "from typing import List\n",
    "\n",
    "\n",
    "class Solution:\n",
    "\n",
    "    def buildTree(self, preorder: List[int], inorder: List[int]) -> TreeNode:\n",
    "\n",
    "        def dfs(preorder, inorder):\n",
    "            if not preorder:\n",
    "                return None\n",
    "            node = TreeNode(preorder[0])\n",
    "            pivot = inorder.index(preorder[0])\n",
    "            node.left = dfs(preorder[1:pivot + 1], inorder[:pivot])\n",
    "            node.right = dfs(preorder[pivot + 1:], inorder[pivot + 1:])\n",
    "            return node\n",
    "\n",
    "        return dfs(preorder, inorder)\n",
    "\n",
    "\n",
    "s = Solution()\n",
    "s.buildTree([3, 9, 20, 15, 7], [9, 3, 15, 20, 7])\n"
   ]
  },
  {
   "cell_type": "code",
   "execution_count": null,
   "metadata": {},
   "outputs": [],
   "source": []
  },
  {
   "cell_type": "code",
   "execution_count": null,
   "metadata": {},
   "outputs": [],
   "source": [
    "# Definition for a binary tree node.\n",
    "class TreeNode:\n",
    "\n",
    "    def __init__(self, x):\n",
    "        self.val = x\n",
    "        self.left = None\n",
    "        self.right = None\n",
    "\n",
    "\n",
    "from typing import List\n",
    "\n",
    "\n",
    "class Solution:\n",
    "\n",
    "    def buildTree(self, preorder: List[int], inorder: List[int]) -> TreeNode:\n",
    "        ha = {}\n",
    "        for i, n in enumerate(inorder):\n",
    "            ha[n] = i\n",
    "\n",
    "        def dfs(preorderLeft, preorderRight, inorderLeft, inorderRight):\n",
    "            if preorderLeft > preorderRight:\n",
    "                return\n",
    "            node = TreeNode(preorder[preorderLeft])\n",
    "            pivot = ha[preorder[preorderLeft]]\n",
    "            node.left = dfs(preorderLeft + 1, pivot - inorderLeft + preorderLeft, inorderLeft, pivot - 1)\n",
    "            node.right = dfs(pivot - inorderLeft + preorderLeft + 1, preorderRight, pivot + 1, inorderRight)\n",
    "            return node\n",
    "\n",
    "        return dfs(0, len(preorder) - 1, 0, len(inorder) - 1)\n"
   ]
  }
 ],
 "metadata": {
  "interpreter": {
   "hash": "aee8b7b246df8f9039afb4144a1f6fd8d2ca17a180786b69acc140d282b71a49"
  },
  "kernelspec": {
   "display_name": "Python 3.10.2 64-bit",
   "language": "python",
   "name": "python3"
  },
  "language_info": {
   "codemirror_mode": {
    "name": "ipython",
    "version": 3
   },
   "file_extension": ".py",
   "mimetype": "text/x-python",
   "name": "python",
   "nbconvert_exporter": "python",
   "pygments_lexer": "ipython3",
   "version": "3.10.2"
  },
  "orig_nbformat": 4
 },
 "nbformat": 4,
 "nbformat_minor": 2
}
