{
 "cells": [
  {
   "cell_type": "code",
   "execution_count": 1,
   "metadata": {},
   "outputs": [
    {
     "data": {
      "text/plain": [
       "True"
      ]
     },
     "execution_count": 1,
     "metadata": {},
     "output_type": "execute_result"
    }
   ],
   "source": [
    "from typing import List\n",
    "\n",
    "\n",
    "class Solution:\n",
    "\n",
    "    def verifyPostorder(self, postorder: List[int]) -> bool:\n",
    "        if len(postorder) <= 1:\n",
    "            return True\n",
    "        p = 0\n",
    "        while postorder[p] < postorder[-1]:\n",
    "            p += 1\n",
    "        for i in range(p, len(postorder) - 1):\n",
    "            if postorder[i] < postorder[-1]:\n",
    "                return False\n",
    "        left = self.verifyPostorder(postorder[:p])\n",
    "        right = self.verifyPostorder(postorder[p:len(postorder) - 1])\n",
    "        return left and right\n",
    "\n",
    "\n",
    "s = Solution()\n",
    "# s.verifyPostorder([1, 2, 5, 10, 6, 9, 4, 3])\n",
    "# s.verifyPostorder([1, 3, 2, 6, 5])\n",
    "s.verifyPostorder([4, 8, 6, 12, 16, 14, 10])"
   ]
  },
  {
   "cell_type": "code",
   "execution_count": 21,
   "metadata": {},
   "outputs": [
    {
     "data": {
      "text/plain": [
       "False"
      ]
     },
     "execution_count": 21,
     "metadata": {},
     "output_type": "execute_result"
    }
   ],
   "source": [
    "from typing import List\n",
    "\n",
    "\n",
    "class Solution:\n",
    "\n",
    "    def verifyPostorder(self, postorder: List[int]) -> bool:\n",
    "\n",
    "        def dfs(si, ei):\n",
    "            if si >= ei:\n",
    "                return True\n",
    "            p = si\n",
    "            while postorder[p] < postorder[ei]:\n",
    "                p += 1\n",
    "            if any(postorder[i] < postorder[ei] for i in range(p, ei)):\n",
    "                return False\n",
    "            left = dfs(si, p - 1)\n",
    "            right = dfs(p, ei - 1)\n",
    "            return left and right\n",
    "\n",
    "        return dfs(0, len(postorder) - 1)\n",
    "\n",
    "\n",
    "s = Solution()\n",
    "s.verifyPostorder([1, 2, 5, 10, 6, 9, 4, 3])\n",
    "# s.verifyPostorder([1, 3, 2, 6, 5])\n",
    "# s.verifyPostorder([4, 8, 6, 12, 16, 14, 10])"
   ]
  },
  {
   "cell_type": "code",
   "execution_count": null,
   "metadata": {},
   "outputs": [],
   "source": []
  }
 ],
 "metadata": {
  "interpreter": {
   "hash": "aee8b7b246df8f9039afb4144a1f6fd8d2ca17a180786b69acc140d282b71a49"
  },
  "kernelspec": {
   "display_name": "Python 3.10.2 64-bit",
   "language": "python",
   "name": "python3"
  },
  "language_info": {
   "codemirror_mode": {
    "name": "ipython",
    "version": 3
   },
   "file_extension": ".py",
   "mimetype": "text/x-python",
   "name": "python",
   "nbconvert_exporter": "python",
   "pygments_lexer": "ipython3",
   "version": "3.10.2"
  },
  "orig_nbformat": 4
 },
 "nbformat": 4,
 "nbformat_minor": 2
}
