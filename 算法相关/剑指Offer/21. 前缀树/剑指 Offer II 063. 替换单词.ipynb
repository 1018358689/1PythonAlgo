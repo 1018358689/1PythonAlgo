{
 "cells": [
  {
   "cell_type": "code",
   "execution_count": null,
   "metadata": {},
   "outputs": [],
   "source": [
    "class Node:\n",
    "    def __init__(self):\n",
    "        self.word = ''\n",
    "        self.end = False\n",
    "        self.children = {}\n",
    "\n",
    "\n",
    "class SegmentTree:\n",
    "    def __init__(self):\n",
    "        self.root = Node()\n",
    "\n",
    "    def add(self, word):\n",
    "        cur = self.root\n",
    "        for w in word:\n",
    "            if w not in cur.children:\n",
    "                cur.children[w] = Node()\n",
    "            cur = cur.children[w]\n",
    "        cur.end = True\n",
    "        cur.word = word\n",
    "\n",
    "    def search(self, prefix):\n",
    "        cur = self.root\n",
    "        for w in prefix:\n",
    "            if w not in cur.children:\n",
    "                return prefix\n",
    "            cur = cur.children[w]\n",
    "            if cur.end:\n",
    "                return cur.word\n",
    "        return prefix\n",
    "\n",
    "\n",
    "class Solution:\n",
    "    def replaceWords(self, dictionary: List[str], sentence: str) -> str:\n",
    "        st = SegmentTree()\n",
    "        for word in dictionary:\n",
    "            st.add(word)\n",
    "        ans = ''\n",
    "        for word in sentence.split():\n",
    "            ans += st.search(word) + ' '\n",
    "        return ans[:-1]"
   ]
  }
 ],
 "metadata": {
  "language_info": {
   "name": "python"
  },
  "orig_nbformat": 4
 },
 "nbformat": 4,
 "nbformat_minor": 2
}
