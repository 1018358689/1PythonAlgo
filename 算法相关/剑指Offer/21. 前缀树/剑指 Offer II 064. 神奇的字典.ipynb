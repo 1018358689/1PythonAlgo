{
 "cells": [
  {
   "cell_type": "code",
   "execution_count": 1,
   "metadata": {},
   "outputs": [],
   "source": [
    "from typing import List\n",
    "\n",
    "\n",
    "class Node:\n",
    "\n",
    "    def __init__(self):\n",
    "        self.end = False\n",
    "        self.children = {}\n",
    "\n",
    "\n",
    "class SegmentTree:\n",
    "\n",
    "    def __init__(self):\n",
    "        self.root = Node()\n",
    "\n",
    "    def add(self, word):\n",
    "        cur = self.root\n",
    "        for w in word:\n",
    "            if w not in cur.children:\n",
    "                cur.children[w] = Node()\n",
    "            cur = cur.children[w]\n",
    "        cur.end = True\n",
    "\n",
    "    def dfs(self, cur, word, i, cnt):  # cur初始self.root\n",
    "        # 前驱指针 单词 所查索引 不同字母次数\n",
    "        if cnt > 1:\n",
    "            return False\n",
    "        if i == len(word):\n",
    "            return cnt == 1 and cur.end  # 必须要更换一个字符（坑）\n",
    "        for nei in cur.children:\n",
    "            if self.dfs(cur.children[nei], word, i + 1, cnt + int(word[i] != nei)):\n",
    "                return True\n",
    "        return False\n",
    "\n",
    "\n",
    "class MagicDictionary:\n",
    "\n",
    "    def __init__(self):\n",
    "        \"\"\"\n",
    "        Initialize your data structure here.\n",
    "        \"\"\"\n",
    "        self.st = SegmentTree()\n",
    "\n",
    "    def buildDict(self, dictionary: List[str]) -> None:\n",
    "        for word in dictionary:\n",
    "            self.st.add(word)\n",
    "\n",
    "    def search(self, searchWord: str) -> bool:\n",
    "        return self.st.dfs(self.st.root, searchWord, 0, 0)\n",
    "\n",
    "\n",
    "# Your MagicDictionary object will be instantiated and called as such:\n",
    "# obj = MagicDictionary()\n",
    "# obj.buildDict(dictionary)\n",
    "# param_2 = obj.search(searchWord)"
   ]
  }
 ],
 "metadata": {
  "kernelspec": {
   "display_name": "Python 3.10.5 64-bit (windows store)",
   "language": "python",
   "name": "python3"
  },
  "language_info": {
   "codemirror_mode": {
    "name": "ipython",
    "version": 3
   },
   "file_extension": ".py",
   "mimetype": "text/x-python",
   "name": "python",
   "nbconvert_exporter": "python",
   "pygments_lexer": "ipython3",
   "version": "3.10.6"
  },
  "orig_nbformat": 4,
  "vscode": {
   "interpreter": {
    "hash": "97367d2de1780ea7c502b529f25888c1b53c0430a7611816b6c7cf19d8435228"
   }
  }
 },
 "nbformat": 4,
 "nbformat_minor": 2
}
