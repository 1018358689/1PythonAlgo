{
 "cells": [
  {
   "cell_type": "code",
   "execution_count": 6,
   "metadata": {},
   "outputs": [
    {
     "data": {
      "text/plain": [
       "(28, '0b1010', 10, 2)"
      ]
     },
     "execution_count": 6,
     "metadata": {},
     "output_type": "execute_result"
    }
   ],
   "source": [
    "5 ^ 25, bin(10), int('1010', 2),1<<1\n"
   ]
  },
  {
   "cell_type": "code",
   "execution_count": 4,
   "metadata": {},
   "outputs": [
    {
     "data": {
      "text/plain": [
       "28"
      ]
     },
     "execution_count": 4,
     "metadata": {},
     "output_type": "execute_result"
    }
   ],
   "source": [
    "class Node:\n",
    "\n",
    "    def __init__(self):\n",
    "        self.children = {}\n",
    "\n",
    "\n",
    "class SegmentTree:\n",
    "\n",
    "    def __init__(self):\n",
    "        self.root = Node()\n",
    "\n",
    "    def add(self, num):\n",
    "        num = bin(num)[2:]\n",
    "        num = '0' * (32 - len(num)) + num\n",
    "        cur = self.root\n",
    "        for n in num:\n",
    "            if n not in cur.children:\n",
    "                cur.children[n] = Node()\n",
    "            cur = cur.children[n]\n",
    "\n",
    "    def xor(self, num):\n",
    "        num = bin(num)[2:]\n",
    "        num = '0' * (32 - len(num)) + num\n",
    "        cur = self.root\n",
    "        ans = ''\n",
    "        ha = {'0': '1', '1': '0'}\n",
    "        for n in num:\n",
    "            # 从高位开始找 优先找不同的\n",
    "            if (t := ha[n]) in cur.children:\n",
    "                cur = cur.children[t]\n",
    "                ans += '1'\n",
    "            else:\n",
    "                cur = cur.children[n]\n",
    "                ans += '0'\n",
    "        return int(ans, 2)\n",
    "\n",
    "\n",
    "from typing import List\n",
    "\n",
    "\n",
    "class Solution:\n",
    "\n",
    "    def findMaximumXOR(self, nums: List[int]) -> int:\n",
    "        st = SegmentTree()\n",
    "        for n in nums:\n",
    "            st.add(n)\n",
    "        return max(st.xor(n) for n in nums)\n",
    "\n",
    "\n",
    "s = Solution()\n",
    "s.findMaximumXOR([3, 10, 5, 25, 2, 8])\n"
   ]
  },
  {
   "cell_type": "code",
   "execution_count": 9,
   "metadata": {},
   "outputs": [
    {
     "data": {
      "text/plain": [
       "28"
      ]
     },
     "execution_count": 9,
     "metadata": {},
     "output_type": "execute_result"
    }
   ],
   "source": [
    "class Node:\n",
    "\n",
    "    def __init__(self):\n",
    "        self.children = {}\n",
    "\n",
    "\n",
    "class SegmentTree:\n",
    "\n",
    "    def __init__(self):\n",
    "        self.root = Node()\n",
    "\n",
    "    def add(self, num, lgh):\n",
    "        num = bin(num)[2:]\n",
    "        num = '0' * (lgh - len(num)) + num\n",
    "        cur = self.root\n",
    "        for n in num:\n",
    "            if n not in cur.children:\n",
    "                cur.children[n] = Node()\n",
    "            cur = cur.children[n]\n",
    "\n",
    "    def xor(self, num, lgh):\n",
    "        num = bin(num)[2:]\n",
    "        num = '0' * (lgh - len(num)) + num\n",
    "        cur = self.root\n",
    "        ans = 0\n",
    "        ha = {'0': '1', '1': '0'}\n",
    "        for i, n in enumerate(num):\n",
    "            # 从高位开始找 优先找不同的\n",
    "            if (t := ha[n]) in cur.children:\n",
    "                cur = cur.children[t]\n",
    "                ans |= (1 << (lgh - 1 - i))\n",
    "            else:\n",
    "                cur = cur.children[n]\n",
    "        return ans\n",
    "\n",
    "\n",
    "from typing import List\n",
    "\n",
    "\n",
    "class Solution:\n",
    "\n",
    "    def findMaximumXOR(self, nums: List[int]) -> int:\n",
    "        maxlgh = max(len(bin(n)) for n in nums) - 2\n",
    "        st = SegmentTree()\n",
    "        for n in nums:\n",
    "            st.add(n, maxlgh)\n",
    "        return max(st.xor(n, maxlgh) for n in nums)\n",
    "\n",
    "\n",
    "s = Solution()\n",
    "s.findMaximumXOR([3, 10, 5, 25, 2, 8])\n"
   ]
  },
  {
   "cell_type": "code",
   "execution_count": null,
   "metadata": {},
   "outputs": [],
   "source": []
  }
 ],
 "metadata": {
  "kernelspec": {
   "display_name": "Python 3.10.5 64-bit (windows store)",
   "language": "python",
   "name": "python3"
  },
  "language_info": {
   "codemirror_mode": {
    "name": "ipython",
    "version": 3
   },
   "file_extension": ".py",
   "mimetype": "text/x-python",
   "name": "python",
   "nbconvert_exporter": "python",
   "pygments_lexer": "ipython3",
   "version": "3.10.5"
  },
  "orig_nbformat": 4,
  "vscode": {
   "interpreter": {
    "hash": "97367d2de1780ea7c502b529f25888c1b53c0430a7611816b6c7cf19d8435228"
   }
  }
 },
 "nbformat": 4,
 "nbformat_minor": 2
}
