{
 "cells": [
  {
   "cell_type": "code",
   "execution_count": 5,
   "metadata": {},
   "outputs": [
    {
     "data": {
      "text/plain": [
       "2"
      ]
     },
     "execution_count": 5,
     "metadata": {},
     "output_type": "execute_result"
    }
   ],
   "source": [
    "from typing import List\n",
    "\n",
    "\n",
    "class Solution:\n",
    "    def minimumLengthEncoding(self, words: List[str]) -> int:\n",
    "        pass\n",
    "\n",
    "\n",
    "class Node:\n",
    "    def __init__(self):\n",
    "        self.end = False\n",
    "        self.children = {}\n",
    "        self.lgh = 0\n",
    "\n",
    "\n",
    "class SegmentTree:\n",
    "    def __init__(self):\n",
    "        self.root = Node()\n",
    "        self.totalLgh = 0\n",
    "        self.cnt = 0\n",
    "\n",
    "    def add(self, word):\n",
    "        cur = self.root\n",
    "        for w in word:\n",
    "            if w not in cur.children:\n",
    "                cur.children[w] = Node()\n",
    "            cur = cur.children[w]\n",
    "        cur.end = True\n",
    "        cur.lgh = len(word)\n",
    "\n",
    "    def _dfs(self, cur):  # cur:前驱结点\n",
    "        if not cur.children:\n",
    "            self.totalLgh += cur.lgh\n",
    "            self.cnt += 1\n",
    "            return\n",
    "        for nei in cur.children:\n",
    "            self._dfs(cur.children[nei])\n",
    "\n",
    "    def cal(self):\n",
    "        self._dfs(self.root)\n",
    "        return self.totalLgh + self.cnt\n",
    "\n",
    "\n",
    "class Solution:\n",
    "    def minimumLengthEncoding(self, words: List[str]) -> int:\n",
    "        st = SegmentTree()\n",
    "        for word in words:\n",
    "            st.add(word[::-1])\n",
    "        return st.cal()\n",
    "\n",
    "\n",
    "s = Solution()\n",
    "s.minimumLengthEncoding([\"time\", \"me\", \"bell\"])\n",
    "s.minimumLengthEncoding([\"t\"])"
   ]
  },
  {
   "cell_type": "code",
   "execution_count": null,
   "metadata": {},
   "outputs": [],
   "source": []
  }
 ],
 "metadata": {
  "kernelspec": {
   "display_name": "Python 3.8.10 64-bit",
   "language": "python",
   "name": "python3"
  },
  "language_info": {
   "codemirror_mode": {
    "name": "ipython",
    "version": 3
   },
   "file_extension": ".py",
   "mimetype": "text/x-python",
   "name": "python",
   "nbconvert_exporter": "python",
   "pygments_lexer": "ipython3",
   "version": "3.8.10"
  },
  "orig_nbformat": 4,
  "vscode": {
   "interpreter": {
    "hash": "570feb405e2e27c949193ac68f46852414290d515b0ba6e5d90d076ed2284471"
   }
  }
 },
 "nbformat": 4,
 "nbformat_minor": 2
}
