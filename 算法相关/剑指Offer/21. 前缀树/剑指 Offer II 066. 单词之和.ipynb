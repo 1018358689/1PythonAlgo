{
 "cells": [
  {
   "cell_type": "code",
   "execution_count": 1,
   "metadata": {},
   "outputs": [],
   "source": [
    "class Node:\n",
    "    def __init__(self):\n",
    "        self.val = 0\n",
    "        self.end = False\n",
    "        self.children = {}\n",
    "\n",
    "\n",
    "class SegmentTree:\n",
    "    def __init__(self):\n",
    "        self.root = Node()\n",
    "        self.ha = {}\n",
    "\n",
    "    def add(self, word, val):\n",
    "        if word in self.ha:\n",
    "            d = val - self.ha[word]\n",
    "        else:\n",
    "            d = val\n",
    "        self.ha[word] = val\n",
    "        cur = self.root\n",
    "        for w in word:\n",
    "            if w not in cur.children:\n",
    "                cur.children[w] = Node()\n",
    "            cur = cur.children[w]\n",
    "            cur.val += d\n",
    "        cur.end = True\n",
    "\n",
    "    def cal(self, prefix):\n",
    "        cur = self.root\n",
    "        for w in prefix:\n",
    "            if w not in cur.children:\n",
    "                return 0\n",
    "            cur = cur.children[w]\n",
    "        return cur.val\n",
    "\n",
    "\n",
    "class MapSum:\n",
    "    def __init__(self):\n",
    "        \"\"\"\n",
    "        Initialize your data structure here.\n",
    "        \"\"\"\n",
    "        self.st = SegmentTree()\n",
    "\n",
    "    def insert(self, key: str, val: int) -> None:\n",
    "        self.st.add(key, val)\n",
    "\n",
    "    def sum(self, prefix: str) -> int:\n",
    "        return self.st.cal(prefix)\n",
    "\n",
    "\n",
    "# Your MapSum object will be instantiated and called as such:\n",
    "# obj = MapSum()\n",
    "# obj.insert(key,val)\n",
    "# param_2 = obj.sum(prefix)"
   ]
  }
 ],
 "metadata": {
  "kernelspec": {
   "display_name": "Python 3.8.10 64-bit",
   "language": "python",
   "name": "python3"
  },
  "language_info": {
   "codemirror_mode": {
    "name": "ipython",
    "version": 3
   },
   "file_extension": ".py",
   "mimetype": "text/x-python",
   "name": "python",
   "nbconvert_exporter": "python",
   "pygments_lexer": "ipython3",
   "version": "3.8.10"
  },
  "orig_nbformat": 4,
  "vscode": {
   "interpreter": {
    "hash": "570feb405e2e27c949193ac68f46852414290d515b0ba6e5d90d076ed2284471"
   }
  }
 },
 "nbformat": 4,
 "nbformat_minor": 2
}
