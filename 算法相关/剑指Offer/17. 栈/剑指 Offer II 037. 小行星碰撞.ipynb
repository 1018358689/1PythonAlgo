{
 "cells": [
  {
   "cell_type": "code",
   "execution_count": 2,
   "metadata": {},
   "outputs": [
    {
     "data": {
      "text/plain": [
       "[5, 10]"
      ]
     },
     "execution_count": 2,
     "metadata": {},
     "output_type": "execute_result"
    }
   ],
   "source": [
    "from typing import List\n",
    "\n",
    "\n",
    "class Solution:\n",
    "\n",
    "    def asteroidCollision(self, asteroids: List[int]) -> List[int]:\n",
    "        stack = []\n",
    "        for n in asteroids:\n",
    "            if not stack:\n",
    "                stack.append(n)\n",
    "            else:\n",
    "                if n < 0:\n",
    "                    while stack and stack[-1] > 0 and stack[-1] < -n:\n",
    "                        stack.pop()\n",
    "                    if not stack or (stack and stack[-1] < 0):\n",
    "                        stack.append((n))\n",
    "                    elif stack and stack[-1] == -n:\n",
    "                        stack.pop()\n",
    "                else:\n",
    "                    stack.append(n)\n",
    "        return stack\n",
    "\n",
    "\n",
    "s = Solution()\n",
    "s.asteroidCollision([5, 10, -5])\n"
   ]
  },
  {
   "cell_type": "code",
   "execution_count": null,
   "metadata": {},
   "outputs": [],
   "source": []
  }
 ],
 "metadata": {
  "kernelspec": {
   "display_name": "Python 3.10.5 64-bit (windows store)",
   "language": "python",
   "name": "python3"
  },
  "language_info": {
   "codemirror_mode": {
    "name": "ipython",
    "version": 3
   },
   "file_extension": ".py",
   "mimetype": "text/x-python",
   "name": "python",
   "nbconvert_exporter": "python",
   "pygments_lexer": "ipython3",
   "version": "3.10.5"
  },
  "orig_nbformat": 4,
  "vscode": {
   "interpreter": {
    "hash": "97367d2de1780ea7c502b529f25888c1b53c0430a7611816b6c7cf19d8435228"
   }
  }
 },
 "nbformat": 4,
 "nbformat_minor": 2
}
