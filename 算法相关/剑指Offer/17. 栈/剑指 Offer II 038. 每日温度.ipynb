{
 "cells": [
  {
   "cell_type": "code",
   "execution_count": 3,
   "metadata": {},
   "outputs": [
    {
     "data": {
      "text/plain": [
       "[8, 1, 5, 4, 3, 2, 1, 1, 0, 0]"
      ]
     },
     "execution_count": 3,
     "metadata": {},
     "output_type": "execute_result"
    }
   ],
   "source": [
    "from typing import List\n",
    "\n",
    "\n",
    "class Solution:\n",
    "\n",
    "    def dailyTemperatures(self, temperatures: List[int]) -> List[int]:\n",
    "        stack = []\n",
    "        ans = [0] * len(temperatures)\n",
    "        for i in range(len(temperatures) - 1, -1, -1):\n",
    "            cur = temperatures[i]\n",
    "            while stack and temperatures[stack[-1]] <= cur:\n",
    "                stack.pop()\n",
    "            if stack:\n",
    "                ans[i] = stack[-1] - i\n",
    "            stack.append(i)\n",
    "        return ans\n",
    "\n",
    "\n",
    "s = Solution()\n",
    "s.dailyTemperatures([73, 74, 75, 71, 69, 72, 76, 73])\n",
    "s.dailyTemperatures([89, 62, 70, 58, 47, 47, 46, 76, 100, 70])\n"
   ]
  },
  {
   "cell_type": "code",
   "execution_count": null,
   "metadata": {},
   "outputs": [],
   "source": []
  }
 ],
 "metadata": {
  "kernelspec": {
   "display_name": "Python 3.10.5 64-bit (windows store)",
   "language": "python",
   "name": "python3"
  },
  "language_info": {
   "codemirror_mode": {
    "name": "ipython",
    "version": 3
   },
   "file_extension": ".py",
   "mimetype": "text/x-python",
   "name": "python",
   "nbconvert_exporter": "python",
   "pygments_lexer": "ipython3",
   "version": "3.10.5"
  },
  "orig_nbformat": 4,
  "vscode": {
   "interpreter": {
    "hash": "97367d2de1780ea7c502b529f25888c1b53c0430a7611816b6c7cf19d8435228"
   }
  }
 },
 "nbformat": 4,
 "nbformat_minor": 2
}
