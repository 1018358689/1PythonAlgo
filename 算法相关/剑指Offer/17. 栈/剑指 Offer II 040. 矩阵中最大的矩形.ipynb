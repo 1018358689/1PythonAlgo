{
 "cells": [
  {
   "cell_type": "code",
   "execution_count": 3,
   "metadata": {},
   "outputs": [
    {
     "data": {
      "text/plain": [
       "0"
      ]
     },
     "execution_count": 3,
     "metadata": {},
     "output_type": "execute_result"
    }
   ],
   "source": [
    "from typing import List\n",
    "\n",
    "\n",
    "class Solution:\n",
    "\n",
    "    def getMaxArea(self, heights: list):\n",
    "        heights = [float('-inf')] + heights + [float('-inf')]\n",
    "        lgh = len(heights)\n",
    "        leftMin = [0] * lgh\n",
    "        stack = []\n",
    "        for i in range(lgh):\n",
    "            cur = heights[i]\n",
    "            while stack and cur <= heights[stack[-1]]:\n",
    "                stack.pop()\n",
    "            if stack:\n",
    "                leftMin[i] = stack[-1]\n",
    "            stack.append(i)\n",
    "        rightMin = [0] * lgh\n",
    "        stack = []\n",
    "        for i in range(lgh - 1, -1, -1):\n",
    "            cur = heights[i]\n",
    "            while stack and cur <= heights[stack[-1]]:\n",
    "                stack.pop()\n",
    "            if stack:\n",
    "                rightMin[i] = stack[-1]\n",
    "            stack.append(i)\n",
    "        ans = 0\n",
    "        for i in range(1, lgh - 1):\n",
    "            area = heights[i] * (rightMin[i] - leftMin[i] - 1)\n",
    "            ans = max(ans, area)\n",
    "        return ans\n",
    "\n",
    "    def maximalRectangle(self, matrix: List[str]) -> int:\n",
    "        if not matrix:\n",
    "            return 0\n",
    "        rows, cols = len(matrix), len(matrix[0])\n",
    "        ans = 0\n",
    "        height = [0] * cols\n",
    "        for r in range(rows):\n",
    "            for c in range(cols):\n",
    "                if r == 0: # 第一行直接构造height\n",
    "                    height[c] = int(matrix[r][c])\n",
    "                else: # 后面的行根据其值 若为0 直接0 若为1 则+=1\n",
    "                    if matrix[r][c] == '0':\n",
    "                        height[c] = 0\n",
    "                    else:\n",
    "                        height[c] += 1\n",
    "            area = self.getMaxArea(height)\n",
    "            ans = max(ans, area)\n",
    "        return ans\n",
    "\n",
    "\n",
    "s = Solution()\n",
    "s.maximalRectangle([[\"1\", \"0\", \"1\", \"0\", \"0\"], [\"1\", \"0\", \"1\", \"1\", \"1\"], [\"1\", \"1\", \"1\", \"1\", \"1\"], [\"1\", \"0\", \"0\", \"1\", \"0\"]])\n",
    "s.maximalRectangle([])"
   ]
  },
  {
   "cell_type": "code",
   "execution_count": null,
   "metadata": {},
   "outputs": [],
   "source": []
  }
 ],
 "metadata": {
  "kernelspec": {
   "display_name": "Python 3.10.5 64-bit (windows store)",
   "language": "python",
   "name": "python3"
  },
  "language_info": {
   "codemirror_mode": {
    "name": "ipython",
    "version": 3
   },
   "file_extension": ".py",
   "mimetype": "text/x-python",
   "name": "python",
   "nbconvert_exporter": "python",
   "pygments_lexer": "ipython3",
   "version": "3.10.5"
  },
  "orig_nbformat": 4,
  "vscode": {
   "interpreter": {
    "hash": "97367d2de1780ea7c502b529f25888c1b53c0430a7611816b6c7cf19d8435228"
   }
  }
 },
 "nbformat": 4,
 "nbformat_minor": 2
}
