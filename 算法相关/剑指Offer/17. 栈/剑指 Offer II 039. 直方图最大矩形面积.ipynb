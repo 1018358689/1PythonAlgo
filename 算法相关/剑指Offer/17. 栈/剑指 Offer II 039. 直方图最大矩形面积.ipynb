{
 "cells": [
  {
   "cell_type": "code",
   "execution_count": 3,
   "metadata": {},
   "outputs": [
    {
     "data": {
      "text/plain": [
       "(10, 2)"
      ]
     },
     "execution_count": 3,
     "metadata": {},
     "output_type": "execute_result"
    }
   ],
   "source": [
    "from typing import List\n",
    "\n",
    "\n",
    "class Solution:\n",
    "\n",
    "    def largestRectangleArea(self, heights: List[int]) -> int:\n",
    "        # 0.前后加无穷小方便构造最近小值\n",
    "        heights = [float('-inf')] + heights + [float('-inf')]\n",
    "        lgh = len(heights)\n",
    "        # 1.构造左边/右边最近小值索引\n",
    "        leftMin = [0] * lgh\n",
    "        stack = []  # 递增栈\n",
    "        for i in range(lgh):\n",
    "            cur = heights[i]\n",
    "            while stack and heights[stack[-1]] >= cur:\n",
    "                stack.pop()\n",
    "            if stack:\n",
    "                leftMin[i] = stack[-1]\n",
    "            stack.append(i)\n",
    "        rightMin = [0] * lgh\n",
    "        stack = []\n",
    "        for i in range(lgh - 1, -1, -1):\n",
    "            cur = heights[i]\n",
    "            while stack and heights[stack[-1]] >= cur:\n",
    "                stack.pop()\n",
    "            if stack:\n",
    "                rightMin[i] = stack[-1]\n",
    "            stack.append(i)\n",
    "        # 2.计算局部面积\n",
    "        ans = 0\n",
    "        for i in range(1, lgh - 1):\n",
    "            cur = heights[i]\n",
    "            area = cur * (rightMin[i] - leftMin[i] - 1)\n",
    "            ans = max(ans, area)\n",
    "        return ans\n",
    "\n",
    "\n",
    "s = Solution()\n",
    "s.largestRectangleArea([2, 1, 5, 6, 2, 3]), s.largestRectangleArea([2])\n"
   ]
  },
  {
   "cell_type": "code",
   "execution_count": null,
   "metadata": {},
   "outputs": [],
   "source": []
  }
 ],
 "metadata": {
  "kernelspec": {
   "display_name": "Python 3.10.5 64-bit (windows store)",
   "language": "python",
   "name": "python3"
  },
  "language_info": {
   "codemirror_mode": {
    "name": "ipython",
    "version": 3
   },
   "file_extension": ".py",
   "mimetype": "text/x-python",
   "name": "python",
   "nbconvert_exporter": "python",
   "pygments_lexer": "ipython3",
   "version": "3.10.5"
  },
  "orig_nbformat": 4,
  "vscode": {
   "interpreter": {
    "hash": "97367d2de1780ea7c502b529f25888c1b53c0430a7611816b6c7cf19d8435228"
   }
  }
 },
 "nbformat": 4,
 "nbformat_minor": 2
}
