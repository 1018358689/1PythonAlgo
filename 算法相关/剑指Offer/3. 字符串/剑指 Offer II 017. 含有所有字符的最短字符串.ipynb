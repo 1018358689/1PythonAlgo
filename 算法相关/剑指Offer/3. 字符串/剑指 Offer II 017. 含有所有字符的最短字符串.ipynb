{
 "cells": [
  {
   "cell_type": "code",
   "execution_count": 16,
   "metadata": {},
   "outputs": [
    {
     "data": {
      "text/plain": [
       "Counter({'a': 1})"
      ]
     },
     "execution_count": 16,
     "metadata": {},
     "output_type": "execute_result"
    }
   ],
   "source": [
    "from collections import Counter\n",
    "\n",
    "Counter([2]) - Counter([1, 1, 2])\n",
    "Counter('aa')-Counter('a')"
   ]
  },
  {
   "cell_type": "code",
   "execution_count": 20,
   "metadata": {},
   "outputs": [
    {
     "name": "stdout",
     "output_type": "stream",
     "text": [
      "Counter({'a': 2}) Counter({'a': 1}) Counter({'a': 1})\n"
     ]
    },
    {
     "data": {
      "text/plain": [
       "''"
      ]
     },
     "execution_count": 20,
     "metadata": {},
     "output_type": "execute_result"
    }
   ],
   "source": [
    "from collections import Counter\n",
    "\n",
    "\n",
    "class Solution:\n",
    "    def minWindow(self, s: str, t: str) -> str:\n",
    "        target = Counter(t)\n",
    "        cnt = Counter()\n",
    "        left, right = 0, float('inf')\n",
    "        l = 0\n",
    "        for r in range(len(s)):\n",
    "            cnt[s[r]] += 1\n",
    "            # print(target, cnt, target - cnt)\n",
    "            while not target - cnt:\n",
    "                if r - l < right - left:\n",
    "                    left, right = l, r\n",
    "                cnt[s[l]] -= 1\n",
    "                l += 1\n",
    "        return s[left:right + 1] if right != float('inf') else ''\n",
    "\n",
    "\n",
    "s = Solution()\n",
    "# s.minWindow('ADOBECODEBANC', 'ABC')\n",
    "s.minWindow('a', 'aa')\n"
   ]
  },
  {
   "cell_type": "code",
   "execution_count": 22,
   "metadata": {},
   "outputs": [
    {
     "data": {
      "text/plain": [
       "'BANC'"
      ]
     },
     "execution_count": 22,
     "metadata": {},
     "output_type": "execute_result"
    }
   ],
   "source": [
    "from collections import Counter\n",
    "\n",
    "\n",
    "class Solution:\n",
    "    def minWindow(self, s: str, t: str) -> str:\n",
    "        target = Counter(t)\n",
    "        cnt = Counter()\n",
    "        left, right = 0, float('inf')\n",
    "        suc = 0 # 成功匹配单词数\n",
    "        l = 0\n",
    "        for r in range(len(s)):\n",
    "            cnt[s[r]] += 1\n",
    "            if cnt[s[r]] == target[s[r]]:\n",
    "                suc += 1\n",
    "            while suc == len(target):\n",
    "                if r - l < right - left:\n",
    "                    left, right = l, r\n",
    "                cnt[s[l]] -= 1\n",
    "                if cnt[s[l]] < target[s[l]]:\n",
    "                    suc -= 1\n",
    "                l += 1\n",
    "        return s[left:right + 1] if right != float('inf') else ''\n",
    "\n",
    "\n",
    "s = Solution()\n",
    "s.minWindow('ADOBECODEBANC', 'ABC')\n",
    "# s.minWindow('a', 'aa')\n"
   ]
  },
  {
   "cell_type": "code",
   "execution_count": null,
   "metadata": {},
   "outputs": [],
   "source": []
  }
 ],
 "metadata": {
  "kernelspec": {
   "display_name": "Python 3.8.10 64-bit",
   "language": "python",
   "name": "python3"
  },
  "language_info": {
   "codemirror_mode": {
    "name": "ipython",
    "version": 3
   },
   "file_extension": ".py",
   "mimetype": "text/x-python",
   "name": "python",
   "nbconvert_exporter": "python",
   "pygments_lexer": "ipython3",
   "version": "3.8.10"
  },
  "orig_nbformat": 4,
  "vscode": {
   "interpreter": {
    "hash": "de72d97932d649c6d75aa79b73261cc3e8a1ae5e7cab8a9115f0bbb1518a7af2"
   }
  }
 },
 "nbformat": 4,
 "nbformat_minor": 2
}
