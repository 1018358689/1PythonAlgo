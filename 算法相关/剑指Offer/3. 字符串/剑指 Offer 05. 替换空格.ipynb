{
 "cells": [
  {
   "cell_type": "code",
   "execution_count": 1,
   "metadata": {},
   "outputs": [
    {
     "data": {
      "text/plain": [
       "'We%20are%20happy.'"
      ]
     },
     "execution_count": 1,
     "metadata": {},
     "output_type": "execute_result"
    }
   ],
   "source": [
    "class Solution:\n",
    "\n",
    "    def replaceSpace(self, s: str) -> str:\n",
    "        return s.replace(' ', '%20')\n",
    "\n",
    "\n",
    "s = Solution()\n",
    "s.replaceSpace(\"We are happy.\")"
   ]
  },
  {
   "cell_type": "code",
   "execution_count": 4,
   "metadata": {},
   "outputs": [
    {
     "data": {
      "text/plain": [
       "('We%20are%20happy.', '%20%20%20%20%20')"
      ]
     },
     "execution_count": 4,
     "metadata": {},
     "output_type": "execute_result"
    }
   ],
   "source": [
    "class Solution:\n",
    "\n",
    "    def replaceSpace(self, s: str) -> str:\n",
    "        return '%20'.join(s.split(' '))\n",
    "\n",
    "\n",
    "s = Solution()\n",
    "s.replaceSpace(\"We are happy.\"),s.replaceSpace(\"     \")"
   ]
  },
  {
   "cell_type": "code",
   "execution_count": 5,
   "metadata": {},
   "outputs": [
    {
     "data": {
      "text/plain": [
       "('We%20are%20happy.', '%20%20%20%20%20')"
      ]
     },
     "execution_count": 5,
     "metadata": {},
     "output_type": "execute_result"
    }
   ],
   "source": [
    "class Solution:\n",
    "\n",
    "    def replaceSpace(self, s: str) -> str:\n",
    "        res = ''\n",
    "        for i in s:\n",
    "            if i == ' ':\n",
    "                res += '%20'\n",
    "            else:\n",
    "                res += i\n",
    "        return res\n",
    "\n",
    "\n",
    "s = Solution()\n",
    "s.replaceSpace(\"We are happy.\"), s.replaceSpace(\"     \")\n"
   ]
  },
  {
   "cell_type": "code",
   "execution_count": null,
   "metadata": {},
   "outputs": [],
   "source": []
  }
 ],
 "metadata": {
  "interpreter": {
   "hash": "aee8b7b246df8f9039afb4144a1f6fd8d2ca17a180786b69acc140d282b71a49"
  },
  "kernelspec": {
   "display_name": "Python 3.10.2 64-bit",
   "language": "python",
   "name": "python3"
  },
  "language_info": {
   "codemirror_mode": {
    "name": "ipython",
    "version": 3
   },
   "file_extension": ".py",
   "mimetype": "text/x-python",
   "name": "python",
   "nbconvert_exporter": "python",
   "pygments_lexer": "ipython3",
   "version": "3.10.2"
  },
  "orig_nbformat": 4
 },
 "nbformat": 4,
 "nbformat_minor": 2
}
