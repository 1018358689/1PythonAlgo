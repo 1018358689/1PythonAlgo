{
 "cells": [
  {
   "cell_type": "code",
   "execution_count": 13,
   "metadata": {},
   "outputs": [
    {
     "data": {
      "text/plain": [
       "4"
      ]
     },
     "execution_count": 13,
     "metadata": {},
     "output_type": "execute_result"
    }
   ],
   "source": [
    "class Solution:\n",
    "    def countSubstrings(self, s: str) -> int:\n",
    "        def expand(i, j):  # 以s[i]和s[j]为中心的回文子串个数\n",
    "            cnt = 0\n",
    "            while i >= 0 and j < len(s) and s[i] == s[j]:\n",
    "                cnt += 1\n",
    "                i -= 1\n",
    "                j += 1\n",
    "            return cnt\n",
    "\n",
    "        ans = 0\n",
    "        for i in range(len(s)):  # 取到最后一个没事 expand会直接退出\n",
    "            ans += expand(i, i)\n",
    "            ans += expand(i, i + 1)\n",
    "        return ans\n",
    "\n",
    "\n",
    "s = Solution()\n",
    "s.countSubstrings('aba')"
   ]
  },
  {
   "cell_type": "code",
   "execution_count": 41,
   "metadata": {},
   "outputs": [
    {
     "data": {
      "text/plain": [
       "6"
      ]
     },
     "execution_count": 41,
     "metadata": {},
     "output_type": "execute_result"
    }
   ],
   "source": [
    "class Solution:\n",
    "    def countSubstrings(self, s: str) -> int:\n",
    "        # dp[i][j] s[i...j]是否回文 i[0,lgh-1] j[i,lgh-1]\n",
    "        dp = [[False] * len(s) for _ in range(len(s))]\n",
    "        result = 0\n",
    "        for i in range(len(s) - 1, -1, -1):  #注意遍历顺序\n",
    "            for j in range(i, len(s)):\n",
    "                if s[i] == s[j] and (j - i <= 1 or dp[i + 1][j - 1]):\n",
    "                    result += 1\n",
    "                    dp[i][j] = True\n",
    "        return result\n",
    "\n",
    "\n",
    "s = Solution()\n",
    "s.countSubstrings('aaa')"
   ]
  },
  {
   "cell_type": "code",
   "execution_count": null,
   "metadata": {},
   "outputs": [],
   "source": []
  }
 ],
 "metadata": {
  "kernelspec": {
   "display_name": "Python 3.8.10 64-bit",
   "language": "python",
   "name": "python3"
  },
  "language_info": {
   "codemirror_mode": {
    "name": "ipython",
    "version": 3
   },
   "file_extension": ".py",
   "mimetype": "text/x-python",
   "name": "python",
   "nbconvert_exporter": "python",
   "pygments_lexer": "ipython3",
   "version": "3.8.10"
  },
  "orig_nbformat": 4,
  "vscode": {
   "interpreter": {
    "hash": "de72d97932d649c6d75aa79b73261cc3e8a1ae5e7cab8a9115f0bbb1518a7af2"
   }
  }
 },
 "nbformat": 4,
 "nbformat_minor": 2
}
