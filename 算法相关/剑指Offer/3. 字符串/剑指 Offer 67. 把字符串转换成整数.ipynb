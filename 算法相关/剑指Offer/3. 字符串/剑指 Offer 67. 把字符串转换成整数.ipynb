{
 "cells": [
  {
   "cell_type": "markdown",
   "metadata": {},
   "source": [
    "在每轮数字拼接前，判断 resres 在此轮拼接后是否超过 21474836472147483647 ，若超过则加上符号位直接返回。\n",
    "设数字拼接边界 bndry = 2147483647 // 10 = 214748364  bndry=2147483647//10=214748364 ，则以下两种情况越界：\n",
    "res > bndry & 情况一：执行拼接 10*res>2147483650 越界 \n",
    "res = bndry, x > 7 & 情况二：拼接后是 2147483648 或 2147483649 越界\n",
    "  \n",
    "情况一：执行拼接10×res≥2147483650越界\n",
    "情况二：拼接后是2147483648或2147483649越界\n",
    "\n",
    "作者：jyd\n",
    "链接：https://leetcode.cn/problems/ba-zi-fu-chuan-zhuan-huan-cheng-zheng-shu-lcof/solution/mian-shi-ti-67-ba-zi-fu-chuan-zhuan-huan-cheng-z-4/\n",
    "来源：力扣（LeetCode）\n",
    "著作权归作者所有。商业转载请联系作者获得授权，非商业转载请注明出处。"
   ]
  },
  {
   "cell_type": "code",
   "execution_count": 1,
   "metadata": {},
   "outputs": [
    {
     "data": {
      "text/plain": [
       "-2147483648"
      ]
     },
     "execution_count": 1,
     "metadata": {},
     "output_type": "execute_result"
    }
   ],
   "source": [
    "class Solution:\n",
    "\n",
    "    def strToInt(self, str: str) -> int:\n",
    "        str = str.strip()\n",
    "        if not str: return 0\n",
    "        res, sig, si = 0, 1, 0\n",
    "        int_max, int_min, bndry = 2**31 - 1, -2**31, 2**31 // 10\n",
    "        if str[0] == '-':\n",
    "            sig = -1\n",
    "        if str[0] in '-+':\n",
    "            si += 1\n",
    "        for i in range(si, len(str)):\n",
    "            cur = str[i]\n",
    "            if not cur.isdigit():\n",
    "                break\n",
    "            if res > bndry or res == bndry and cur > '7':\n",
    "                return int_max if sig == 1 else int_min\n",
    "            res = 10 * res + int(cur)\n",
    "        return sig * res\n",
    "\n",
    "\n",
    "s = Solution()\n",
    "s.strToInt('   -2147483648')"
   ]
  },
  {
   "cell_type": "code",
   "execution_count": 2,
   "metadata": {},
   "outputs": [
    {
     "data": {
      "text/plain": [
       "(2147483647, -2147483648, '')"
      ]
     },
     "execution_count": 2,
     "metadata": {},
     "output_type": "execute_result"
    }
   ],
   "source": [
    "2**31 - 1, -2**31, ''.strip()"
   ]
  },
  {
   "cell_type": "code",
   "execution_count": 3,
   "metadata": {},
   "outputs": [
    {
     "data": {
      "text/plain": [
       "-42"
      ]
     },
     "execution_count": 3,
     "metadata": {},
     "output_type": "execute_result"
    }
   ],
   "source": [
    "class Solution:\n",
    "\n",
    "    def strToInt(self, s: str) -> int:\n",
    "        s = s.strip()\n",
    "        if not s:\n",
    "            return 0\n",
    "        p = 0\n",
    "        sig = 1\n",
    "        if s[0] in '-+':\n",
    "            p += 1\n",
    "        if s[0] == '-':\n",
    "            sig = -1\n",
    "\n",
    "        ans = 0\n",
    "        while p < len(s) and s[p].isdigit():\n",
    "            # if ans >= 214748365 or (sig == 1 and ans == 214748364 and s[p] > '7') or (sig == -1 and ans == 214748364 and s[p] > '8'):\n",
    "            if ans >= 214748365 or ans == 214748364 and s[p] > '7':\n",
    "                return -2**31 if sig == -1 else 2**31 - 1\n",
    "            ans = ans * 10 + ord(s[p]) - ord('0')\n",
    "            p += 1\n",
    "        return sig * ans\n",
    "\n",
    "\n",
    "s = Solution()\n",
    "s.strToInt('  -42')"
   ]
  },
  {
   "cell_type": "code",
   "execution_count": null,
   "metadata": {},
   "outputs": [],
   "source": []
  }
 ],
 "metadata": {
  "kernelspec": {
   "display_name": "Python 3.10.5 64-bit (windows store)",
   "language": "python",
   "name": "python3"
  },
  "language_info": {
   "codemirror_mode": {
    "name": "ipython",
    "version": 3
   },
   "file_extension": ".py",
   "mimetype": "text/x-python",
   "name": "python",
   "nbconvert_exporter": "python",
   "pygments_lexer": "ipython3",
   "version": "3.10.5"
  },
  "orig_nbformat": 4,
  "vscode": {
   "interpreter": {
    "hash": "97367d2de1780ea7c502b529f25888c1b53c0430a7611816b6c7cf19d8435228"
   }
  }
 },
 "nbformat": 4,
 "nbformat_minor": 2
}
