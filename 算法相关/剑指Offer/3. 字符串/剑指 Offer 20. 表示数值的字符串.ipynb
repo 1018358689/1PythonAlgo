{
 "cells": [
  {
   "cell_type": "code",
   "execution_count": 1,
   "metadata": {},
   "outputs": [],
   "source": [
    "class Solution:\n",
    "    def isNumber(self, s: str) -> bool:\n",
    "        try:\n",
    "            float(s)\n",
    "        except:\n",
    "            return False\n",
    "        else:\n",
    "            return True"
   ]
  },
  {
   "cell_type": "markdown",
   "metadata": {},
   "source": [
    "![](2022-06-16-20-45-21.png)"
   ]
  },
  {
   "cell_type": "code",
   "execution_count": 26,
   "metadata": {},
   "outputs": [
    {
     "data": {
      "text/plain": [
       "True"
      ]
     },
     "execution_count": 26,
     "metadata": {},
     "output_type": "execute_result"
    }
   ],
   "source": [
    "class Solution:\n",
    "    def isNumber(self, s: str) -> bool:\n",
    "        states = {\n",
    "            1:{'b':1,'.':9,'s':2,'d':3},\n",
    "            2:{'.':9,'d':3},\n",
    "            3:{'d':3,'e':6,'.':4,'b':10},\n",
    "            4:{'d':5,'e':6,'b':10},\n",
    "            5:{'d':5,'e':6,'b':10},\n",
    "            6:{'s':7,'d':8},\n",
    "            7:{'d':8},\n",
    "            8:{'d':8,'b':10},\n",
    "            9:{'d':5},\n",
    "            10:{'b':10},\n",
    "        }\n",
    "        p = 1\n",
    "        for n in s:\n",
    "            if n in '+-': t='s'\n",
    "            elif n.isdigit(): t='d'\n",
    "            elif n==' ': t='b'\n",
    "            elif n in 'eE': t='e'\n",
    "            elif n=='.': t='.'\n",
    "            else: t='?'\n",
    "            if t not in states[p]:return False\n",
    "            p = states[p][t]\n",
    "        return p in {3,4,5,8,10}\n",
    "\n",
    "s = Solution()\n",
    "s.isNumber(' 0')\n",
    "            "
   ]
  },
  {
   "cell_type": "code",
   "execution_count": null,
   "metadata": {},
   "outputs": [],
   "source": []
  }
 ],
 "metadata": {
  "kernelspec": {
   "display_name": "Python 3.10.1 64-bit",
   "language": "python",
   "name": "python3"
  },
  "language_info": {
   "codemirror_mode": {
    "name": "ipython",
    "version": 3
   },
   "file_extension": ".py",
   "mimetype": "text/x-python",
   "name": "python",
   "nbconvert_exporter": "python",
   "pygments_lexer": "ipython3",
   "version": "3.10.2"
  },
  "orig_nbformat": 4,
  "vscode": {
   "interpreter": {
    "hash": "aee8b7b246df8f9039afb4144a1f6fd8d2ca17a180786b69acc140d282b71a49"
   }
  }
 },
 "nbformat": 4,
 "nbformat_minor": 2
}
