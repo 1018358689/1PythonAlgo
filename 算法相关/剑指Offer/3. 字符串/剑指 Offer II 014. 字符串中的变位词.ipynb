{
 "cells": [
  {
   "cell_type": "code",
   "execution_count": null,
   "metadata": {},
   "outputs": [],
   "source": [
    "from collections import Counter\n",
    "\n",
    "\n",
    "class Solution:\n",
    "\n",
    "    def checkInclusion(self, s1: str, s2: str) -> bool:\n",
    "        target = Counter(s1)\n",
    "        sz = len(s1)\n",
    "        cnt = Counter()\n",
    "        l = 0\n",
    "        for r in range(len(s2)):\n",
    "            cnt[s2[r]] += 1\n",
    "            while r - l + 1 > sz:\n",
    "                cnt[s2[l]] -= 1\n",
    "                l += 1\n",
    "            if r - l + 1 == sz and cnt == target:\n",
    "                return True\n",
    "        return False\n"
   ]
  }
 ],
 "metadata": {
  "language_info": {
   "name": "python"
  },
  "orig_nbformat": 4
 },
 "nbformat": 4,
 "nbformat_minor": 2
}
