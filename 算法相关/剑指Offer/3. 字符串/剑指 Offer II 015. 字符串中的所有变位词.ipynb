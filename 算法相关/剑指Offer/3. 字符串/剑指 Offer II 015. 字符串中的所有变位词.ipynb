{
 "cells": [
  {
   "cell_type": "code",
   "execution_count": 1,
   "metadata": {},
   "outputs": [],
   "source": [
    "from typing import List\n",
    "from collections import Counter\n",
    "\n",
    "\n",
    "class Solution:\n",
    "\n",
    "    def findAnagrams(self, s: str, p: str) -> List[int]:\n",
    "        target = Counter(p)\n",
    "        sz = len(p)\n",
    "        cnt = Counter()\n",
    "        l = 0\n",
    "        ans = []\n",
    "        for r in range(len(s)):\n",
    "            cnt[s[r]] += 1\n",
    "            while r - l + 1 > sz:\n",
    "                cnt[s[l]] -= 1\n",
    "                l += 1\n",
    "            if r - l + 1 == sz and cnt == target:\n",
    "                ans.append(l)\n",
    "        return ans"
   ]
  },
  {
   "cell_type": "code",
   "execution_count": null,
   "metadata": {},
   "outputs": [],
   "source": [
    "from typing import List\n",
    "\n",
    "\n",
    "class Solution:\n",
    "\n",
    "    def tran(self, s):\n",
    "        cnt = [0] * 26\n",
    "        for i in s:\n",
    "            cnt[ord(i) - ord('a')] += 1\n",
    "        return cnt\n",
    "\n",
    "    def findAnagrams(self, s: str, p: str) -> List[int]:\n",
    "        target = self.tran(p)\n",
    "        sz = len(p)\n",
    "        cnt = [0] * 26\n",
    "        l = 0\n",
    "        ans = []\n",
    "        for r in range(len(s)):\n",
    "            cnt[ord(s[r]) - ord('a')] += 1\n",
    "            while r - l + 1 > sz:\n",
    "                cnt[ord(s[l]) - ord('a')] -= 1\n",
    "                l += 1\n",
    "            if r - l + 1 == sz and cnt == target:\n",
    "                ans.append(l)\n",
    "        return ans"
   ]
  }
 ],
 "metadata": {
  "kernelspec": {
   "display_name": "Python 3.10.5 64-bit (windows store)",
   "language": "python",
   "name": "python3"
  },
  "language_info": {
   "codemirror_mode": {
    "name": "ipython",
    "version": 3
   },
   "file_extension": ".py",
   "mimetype": "text/x-python",
   "name": "python",
   "nbconvert_exporter": "python",
   "pygments_lexer": "ipython3",
   "version": "3.10.5"
  },
  "orig_nbformat": 4,
  "vscode": {
   "interpreter": {
    "hash": "97367d2de1780ea7c502b529f25888c1b53c0430a7611816b6c7cf19d8435228"
   }
  }
 },
 "nbformat": 4,
 "nbformat_minor": 2
}
