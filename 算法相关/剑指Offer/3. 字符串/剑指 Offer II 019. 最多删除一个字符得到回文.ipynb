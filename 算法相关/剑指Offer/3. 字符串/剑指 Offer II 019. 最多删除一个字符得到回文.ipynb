{
 "cells": [
  {
   "cell_type": "code",
   "execution_count": 2,
   "metadata": {},
   "outputs": [
    {
     "data": {
      "text/plain": [
       "False"
      ]
     },
     "execution_count": 2,
     "metadata": {},
     "output_type": "execute_result"
    }
   ],
   "source": [
    "class Solution:\n",
    "    def validPalindrome(self, s: str) -> bool:\n",
    "        # dp[i][j] s[i...j]能否只删除一个字符形成回文\n",
    "        def dfs(i, j, sig):  # sig含义是否还可删除\n",
    "            # basecase\n",
    "            if i == j:  # 一个字符\n",
    "                return True\n",
    "            elif j - i == 1:  # 两个字符 则可删除 或 不可删除且两个字符相同\n",
    "                return sig or (not sig and s[i] == s[j])\n",
    "            # dp\n",
    "            if s[i] == s[j]:  # 两端相等 转移状态\n",
    "                return dfs(i + 1, j - 1, sig)\n",
    "            elif sig:  # 两端不相等 且还可删除 则删除转移状态\n",
    "                return dfs(i + 1, j, not sig) or dfs(i, j - 1, not sig)\n",
    "            return False  # 两端不等且不可删除 直接退出\n",
    "\n",
    "        return dfs(0, len(s) - 1, True)\n",
    "\n",
    "\n",
    "s = Solution()\n",
    "s.validPalindrome('aba')\n",
    "s.validPalindrome('abc')"
   ]
  },
  {
   "cell_type": "code",
   "execution_count": null,
   "metadata": {},
   "outputs": [],
   "source": [
    "class Solution:\n",
    "    def validPalindrome(self, s: str) -> bool:\n",
    "        def check(si, ei):  # [si,ei]能否构成回文\n",
    "            while si < ei:\n",
    "                if s[si] == s[ei]:\n",
    "                    si += 1\n",
    "                    ei -= 1\n",
    "                else:\n",
    "                    return False\n",
    "            return True\n",
    "\n",
    "        l, r = 0, len(s) - 1\n",
    "        while l < r:\n",
    "            if s[l] == s[r]:\n",
    "                l += 1\n",
    "                r -= 1\n",
    "            else:\n",
    "                return check(l + 1, r) or check(l, r - 1)\n",
    "        return True"
   ]
  }
 ],
 "metadata": {
  "kernelspec": {
   "display_name": "Python 3.8.10 64-bit",
   "language": "python",
   "name": "python3"
  },
  "language_info": {
   "codemirror_mode": {
    "name": "ipython",
    "version": 3
   },
   "file_extension": ".py",
   "mimetype": "text/x-python",
   "name": "python",
   "nbconvert_exporter": "python",
   "pygments_lexer": "ipython3",
   "version": "3.8.10"
  },
  "orig_nbformat": 4,
  "vscode": {
   "interpreter": {
    "hash": "de72d97932d649c6d75aa79b73261cc3e8a1ae5e7cab8a9115f0bbb1518a7af2"
   }
  }
 },
 "nbformat": 4,
 "nbformat_minor": 2
}
