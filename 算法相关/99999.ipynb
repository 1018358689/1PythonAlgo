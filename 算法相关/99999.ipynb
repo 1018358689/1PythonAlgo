{
 "cells": [
  {
   "cell_type": "code",
   "execution_count": 1,
   "metadata": {},
   "outputs": [
    {
     "data": {
      "text/plain": [
       "3"
      ]
     },
     "execution_count": 1,
     "metadata": {},
     "output_type": "execute_result"
    }
   ],
   "source": [
    "from itertools import groupby\n",
    "\n",
    "nums = [1, 1, 0, 1, 1, 1]\n",
    "max(len(list(g)) for i, g in groupby(nums) if i == 1) if 1 in nums else 0\n"
   ]
  },
  {
   "cell_type": "code",
   "execution_count": 6,
   "metadata": {},
   "outputs": [
    {
     "data": {
      "text/plain": [
       "True"
      ]
     },
     "execution_count": 6,
     "metadata": {},
     "output_type": "execute_result"
    }
   ],
   "source": [
    "a = 'Hello'\n",
    "a.istitle()"
   ]
  },
  {
   "cell_type": "code",
   "execution_count": 8,
   "metadata": {},
   "outputs": [
    {
     "data": {
      "text/plain": [
       "['g1 act car', 'a8 act zoo', 'ab1 off key dog', 'a1 9 2 3 1', 'zo4 4 7']"
      ]
     },
     "execution_count": 8,
     "metadata": {},
     "output_type": "execute_result"
    }
   ],
   "source": [
    "def f(logs):\n",
    "\n",
    "    def helper(s: str):\n",
    "        # log,content = s.split(' ',maxsplit=1)\n",
    "        if s[-1].isdigit():\n",
    "            return (1, )\n",
    "        else:\n",
    "            return (0, s.split()[1:], s.split()[0])\n",
    "\n",
    "    logs.sort(key=helper)\n",
    "    return logs\n",
    "\n",
    "\n",
    "f([\"a1 9 2 3 1\", \"g1 act car\", \"zo4 4 7\", \"ab1 off key dog\", \"a8 act zoo\"])\n"
   ]
  },
  {
   "cell_type": "code",
   "execution_count": 13,
   "metadata": {},
   "outputs": [
    {
     "data": {
      "text/plain": [
       "([6, 6], [3, 2, 2, 2], [], [5])"
      ]
     },
     "execution_count": 13,
     "metadata": {},
     "output_type": "execute_result"
    }
   ],
   "source": [
    "def f(rolls: list, mean: int, n: int):\n",
    "    m = len(rolls)\n",
    "    needSum = mean * (m + n) - sum(rolls)\n",
    "    if needSum > n * 6 or needSum < n:\n",
    "        return []\n",
    "    localMean, rem = divmod(needSum, n)\n",
    "    return [localMean + 1] * rem + [localMean] * (n - rem)\n",
    "\n",
    "\n",
    "f([3, 2, 4, 3], 4, 2), f([1, 5, 6], 3, 4), f([1, 2, 3, 4], 6, 4), f([1], 3, 1)\n",
    "# f([6, 3, 4, 3, 5, 3], 1, 6)\n",
    "# f([4, 5, 6, 2, 3, 6, 5, 4, 6, 4, 5, 1, 6, 3, 1, 4, 5, 5, 3, 2, 3, 5, 3, 2, 1, 5, 4, 3, 5, 1, 5], 4, 40)\n"
   ]
  },
  {
   "cell_type": "code",
   "execution_count": 5,
   "metadata": {},
   "outputs": [
    {
     "data": {
      "text/plain": [
       "[[2, 5], [7, 9], [12, 15]]"
      ]
     },
     "execution_count": 5,
     "metadata": {},
     "output_type": "execute_result"
    }
   ],
   "source": [
    "s = 'whooooisssbesssst'\n",
    "from itertools import groupby\n",
    "\n",
    "start = 0\n",
    "res = []\n",
    "for i, g in groupby(s):\n",
    "    if (l := len(list(g))) > 2:\n",
    "        res.append([start, start + l - 1])\n",
    "    start += l\n",
    "res"
   ]
  },
  {
   "cell_type": "code",
   "execution_count": 22,
   "metadata": {},
   "outputs": [
    {
     "data": {
      "text/plain": [
       "[[2, 5], [7, 9], [12, 15]]"
      ]
     },
     "execution_count": 22,
     "metadata": {},
     "output_type": "execute_result"
    }
   ],
   "source": [
    "def f(s):\n",
    "    s += '_'\n",
    "    res = []\n",
    "    l = 0\n",
    "    for r in range(1, len(s)):\n",
    "        if s[r] != s[r - 1]:\n",
    "            if r - l > 2:\n",
    "                res.append([l, r - 1])\n",
    "            l = r\n",
    "    return res\n",
    "\n",
    "\n",
    "f('whooooisssbesssst')"
   ]
  },
  {
   "cell_type": "code",
   "execution_count": 18,
   "metadata": {},
   "outputs": [
    {
     "data": {
      "text/plain": [
       "[[3, 6], [8, 10], [13, 16]]"
      ]
     },
     "execution_count": 18,
     "metadata": {},
     "output_type": "execute_result"
    }
   ],
   "source": [
    "s = 'wwhooooisssbessss'\n",
    "s += '?'\n",
    "res = []\n",
    "l = -1\n",
    "for r in range(len(s) - 1):\n",
    "    if s[r] != s[r + 1]:\n",
    "        if r - l > 2:\n",
    "            res.append([l + 1, r])\n",
    "        l = r\n",
    "res"
   ]
  },
  {
   "cell_type": "code",
   "execution_count": 1,
   "metadata": {},
   "outputs": [
    {
     "data": {
      "text/plain": [
       "'I Want To Go Home'"
      ]
     },
     "execution_count": 1,
     "metadata": {},
     "output_type": "execute_result"
    }
   ],
   "source": [
    "s = \"i want to go home\"\n",
    "s.title()"
   ]
  },
  {
   "cell_type": "code",
   "execution_count": 17,
   "metadata": {},
   "outputs": [
    {
     "data": {
      "text/plain": [
       "'I Want To Go Home'"
      ]
     },
     "execution_count": 17,
     "metadata": {},
     "output_type": "execute_result"
    }
   ],
   "source": [
    "s = \"i want to go home\"\n",
    "def f(s):\n",
    "    res = ''\n",
    "    for i in map(list,s.split()):\n",
    "        i[:1]=chr(ord(i[0])-32)\n",
    "        res+=''.join(i)+' '\n",
    "    return res[:-1]\n",
    "f(s)"
   ]
  },
  {
   "cell_type": "code",
   "execution_count": 9,
   "metadata": {},
   "outputs": [
    {
     "data": {
      "text/plain": [
       "-32"
      ]
     },
     "execution_count": 9,
     "metadata": {},
     "output_type": "execute_result"
    }
   ],
   "source": [
    "ord('A')-ord('a')"
   ]
  },
  {
   "cell_type": "code",
   "execution_count": 1,
   "metadata": {},
   "outputs": [],
   "source": [
    "def f(left, right):\n",
    "\n",
    "    def check(n):\n",
    "        x = n\n",
    "        while n and (rem := n % 10) and not x % rem:\n",
    "            n //= 10\n",
    "        return not n\n",
    "\n",
    "    return [i for i in range(left, right + 1) if check(i)]\n"
   ]
  },
  {
   "cell_type": "code",
   "execution_count": 1,
   "metadata": {},
   "outputs": [],
   "source": [
    "def f(left, right):\n",
    "\n",
    "    def check(n):\n",
    "        x = n\n",
    "        for i in str(n):\n",
    "            if i == '0' or x % int(i) != 0:\n",
    "                return False\n",
    "        return True\n",
    "\n",
    "    return [i for i in range(left, right + 1) if check(i)]\n"
   ]
  },
  {
   "cell_type": "code",
   "execution_count": 9,
   "metadata": {},
   "outputs": [
    {
     "data": {
      "text/plain": [
       "2"
      ]
     },
     "execution_count": 9,
     "metadata": {},
     "output_type": "execute_result"
    }
   ],
   "source": [
    "def f(a: list):\n",
    "    a.sort()\n",
    "    l, r = 0, len(a) - 1\n",
    "    ans = 0\n",
    "    while l <= r:\n",
    "        if a[l] + a[r] > 4:\n",
    "            r -= 1\n",
    "        else:\n",
    "            l += 1\n",
    "            r -= 1\n",
    "        ans += 1\n",
    "    return ans\n",
    "\n",
    "\n",
    "f([1, 2, 3, 4]), f([1, 2, 3, 3, 4])\n",
    "f([1,2,2,2])"
   ]
  },
  {
   "cell_type": "code",
   "execution_count": 2,
   "metadata": {},
   "outputs": [
    {
     "data": {
      "text/plain": [
       "False"
      ]
     },
     "execution_count": 2,
     "metadata": {},
     "output_type": "execute_result"
    }
   ],
   "source": [
    "def f(arr: list):\n",
    "    for i in range(len(arr) // 2):\n",
    "        if arr[2 * i + 1] != 2 * arr[2 * i]:\n",
    "            return False\n",
    "    return True\n",
    "\n",
    "\n",
    "f([3, 1, 3, 6])\n",
    "f([4, -2, 2, -4])\n"
   ]
  },
  {
   "cell_type": "code",
   "execution_count": 23,
   "metadata": {},
   "outputs": [
    {
     "data": {
      "text/plain": [
       "True"
      ]
     },
     "execution_count": 23,
     "metadata": {},
     "output_type": "execute_result"
    }
   ],
   "source": [
    "import collections\n",
    "import heapq\n",
    "\n",
    "\n",
    "def f(arr: list):\n",
    "    pq = []\n",
    "    for n in arr:\n",
    "        priority = abs(n)\n",
    "        heapq.heappush(pq, (priority, n))\n",
    "    cnt = collections.defaultdict(int)\n",
    "    while pq:\n",
    "        _, cur = heapq.heappop(pq)\n",
    "        if cnt[cur] > 0:  # cur已经被需求\n",
    "            cnt[cur] -= 1\n",
    "        else:\n",
    "            need = cur * 2\n",
    "            cnt[need] += 1  # need现需求\n",
    "        # print(cur, cnt)\n",
    "    # for c in cnt.values():\n",
    "    #     if c > 0: return False\n",
    "    # return True\n",
    "    return not any(cnt.values()) # 保证所有需求都被消耗掉\n",
    "\n",
    "\n",
    "# f([3, 1, 3, 6])\n",
    "f([4, -2, 2, -4])\n",
    "# f([2, 1, 2, 6])\n"
   ]
  },
  {
   "cell_type": "code",
   "execution_count": 1,
   "metadata": {},
   "outputs": [
    {
     "name": "stdout",
     "output_type": "stream",
     "text": [
      "[1, 2, 3, 4]\n"
     ]
    }
   ],
   "source": [
    "a = [1, 2, 3]  # 变量a\n",
    "b = a  # a赋值给b\n",
    "a.append(4)  # a增加元素4\n",
    "print(b)  # 输出b\n"
   ]
  },
  {
   "cell_type": "code",
   "execution_count": 1,
   "metadata": {},
   "outputs": [
    {
     "name": "stdout",
     "output_type": "stream",
     "text": [
      "对象创建了!\n",
      "对象创建了!\n"
     ]
    },
    {
     "ename": "TypeError",
     "evalue": "unsupported operand type(s) for +: 'people' and 'int'",
     "output_type": "error",
     "traceback": [
      "\u001b[1;31m---------------------------------------------------------------------------\u001b[0m",
      "\u001b[1;31mTypeError\u001b[0m                                 Traceback (most recent call last)",
      "\u001b[1;32md:\\OneDrive\\PythonProject\\1python教学\\算法相关\\99999.ipynb Cell 16'\u001b[0m in \u001b[0;36m<cell line: 8>\u001b[1;34m()\u001b[0m\n\u001b[0;32m      <a href='vscode-notebook-cell:/d%3A/OneDrive/PythonProject/1python%E6%95%99%E5%AD%A6/%E7%AE%97%E6%B3%95%E7%9B%B8%E5%85%B3/99999.ipynb#ch0000015?line=3'>4</a>\u001b[0m         \u001b[39mprint\u001b[39m(\u001b[39m'\u001b[39m\u001b[39m对象创建了!\u001b[39m\u001b[39m'\u001b[39m)\n\u001b[0;32m      <a href='vscode-notebook-cell:/d%3A/OneDrive/PythonProject/1python%E6%95%99%E5%AD%A6/%E7%AE%97%E6%B3%95%E7%9B%B8%E5%85%B3/99999.ipynb#ch0000015?line=6'>7</a>\u001b[0m x \u001b[39m=\u001b[39m people()\n\u001b[1;32m----> <a href='vscode-notebook-cell:/d%3A/OneDrive/PythonProject/1python%E6%95%99%E5%AD%A6/%E7%AE%97%E6%B3%95%E7%9B%B8%E5%85%B3/99999.ipynb#ch0000015?line=7'>8</a>\u001b[0m y \u001b[39m=\u001b[39m people() \u001b[39m+\u001b[39;49m \u001b[39m1\u001b[39;49m\n",
      "\u001b[1;31mTypeError\u001b[0m: unsupported operand type(s) for +: 'people' and 'int'"
     ]
    }
   ],
   "source": [
    "class people:\n",
    "\n",
    "    def __init__(self):\n",
    "        print('对象创建了!')\n",
    "\n",
    "\n",
    "x = people()\n",
    "y = people() + 1\n"
   ]
  },
  {
   "cell_type": "code",
   "execution_count": 11,
   "metadata": {},
   "outputs": [
    {
     "data": {
      "text/plain": [
       "['In',\n",
       " 'Out',\n",
       " '_',\n",
       " '_2',\n",
       " '_6',\n",
       " '_7',\n",
       " '_8',\n",
       " '_9',\n",
       " '__',\n",
       " '___',\n",
       " '__builtin__',\n",
       " '__builtins__',\n",
       " '__doc__',\n",
       " '__loader__',\n",
       " '__name__',\n",
       " '__package__',\n",
       " '__spec__',\n",
       " '__vsc_ipynb_file__',\n",
       " '_dh',\n",
       " '_i',\n",
       " '_i1',\n",
       " '_i10',\n",
       " '_i11',\n",
       " '_i2',\n",
       " '_i3',\n",
       " '_i4',\n",
       " '_i5',\n",
       " '_i6',\n",
       " '_i7',\n",
       " '_i8',\n",
       " '_i9',\n",
       " '_ih',\n",
       " '_ii',\n",
       " '_iii',\n",
       " '_oh',\n",
       " 'a',\n",
       " 'b',\n",
       " 'exit',\n",
       " 'get_ipython',\n",
       " 'os',\n",
       " 'people',\n",
       " 'quit',\n",
       " 'site',\n",
       " 'sys',\n",
       " 'x']"
      ]
     },
     "execution_count": 11,
     "metadata": {},
     "output_type": "execute_result"
    }
   ],
   "source": [
    "dir()"
   ]
  },
  {
   "cell_type": "code",
   "execution_count": 1,
   "metadata": {},
   "outputs": [
    {
     "name": "stdout",
     "output_type": "stream",
     "text": [
      "True\n",
      "[2, 2, 3]\n"
     ]
    }
   ],
   "source": [
    "a = [1, 2, 3]\n",
    "b = a\n",
    "print(a is b)  # True\n",
    "a[0] = 2\n",
    "print(b)  # [2,2,3]"
   ]
  },
  {
   "cell_type": "code",
   "execution_count": 2,
   "metadata": {},
   "outputs": [],
   "source": [
    "s = 'pjxx'"
   ]
  },
  {
   "cell_type": "code",
   "execution_count": 4,
   "metadata": {},
   "outputs": [
    {
     "data": {
      "text/plain": [
       "[(10, 1), (14, 2), (21, 3), (8, 4)]"
      ]
     },
     "execution_count": 4,
     "metadata": {},
     "output_type": "execute_result"
    }
   ],
   "source": [
    "a = [(14,2),(21,3),(10,1),(8,4)]\n",
    "a.sort(key=lambda x:x[1])\n",
    "a"
   ]
  },
  {
   "cell_type": "code",
   "execution_count": 5,
   "metadata": {},
   "outputs": [
    {
     "data": {
      "text/plain": [
       "[(14, 2), (21, 3), (10, 1), (8, 4)]"
      ]
     },
     "execution_count": 5,
     "metadata": {},
     "output_type": "execute_result"
    }
   ],
   "source": [
    "[(14,2),(21,3),(10,1),(8,4)]"
   ]
  },
  {
   "cell_type": "code",
   "execution_count": 3,
   "metadata": {},
   "outputs": [
    {
     "data": {
      "text/plain": [
       "8"
      ]
     },
     "execution_count": 3,
     "metadata": {},
     "output_type": "execute_result"
    }
   ],
   "source": [
    "# 自顶向下\n",
    "def f(n):\n",
    "    # n只和1，2台阶相关\n",
    "    if n==1:\n",
    "        return 1\n",
    "    elif n==2:\n",
    "        return 2\n",
    "    else:\n",
    "        return f(n-1)+f(n-2) # n由n-1和n-2方法数相加得来\n",
    "f(5)"
   ]
  },
  {
   "cell_type": "code",
   "execution_count": 6,
   "metadata": {},
   "outputs": [
    {
     "data": {
      "text/plain": [
       "8"
      ]
     },
     "execution_count": 6,
     "metadata": {},
     "output_type": "execute_result"
    }
   ],
   "source": [
    "# 自底向上\n",
    "def f(n):\n",
    "    if n == 1: return 1 # 特判\n",
    "    dp = [0] * (n + 1) # 往dp数组填内容\n",
    "    # n只和1，2台阶相关\n",
    "    dp[1] = 1\n",
    "    dp[2] = 2\n",
    "    # # n由n-1和n-2方法数相加得来\n",
    "    for i in range(3, n + 1):\n",
    "        dp[i] = dp[i - 1] + dp[i - 2]\n",
    "    return dp[n]\n",
    "\n",
    "f(5)"
   ]
  },
  {
   "cell_type": "code",
   "execution_count": 8,
   "metadata": {},
   "outputs": [
    {
     "data": {
      "text/plain": [
       "8.0"
      ]
     },
     "execution_count": 8,
     "metadata": {},
     "output_type": "execute_result"
    }
   ],
   "source": [
    "# 数学方法找n和1，2台阶数量关系\n",
    "def f(n):\n",
    "    sqrt5 = 5**0.5\n",
    "    fibN = ((1 + sqrt5) / 2)**(n + 1) - ((1 - sqrt5) / 2)**(n + 1)\n",
    "    return round(fibN / sqrt5)\n",
    "\n",
    "\n",
    "f(5)"
   ]
  },
  {
   "cell_type": "code",
   "execution_count": 3,
   "metadata": {},
   "outputs": [
    {
     "data": {
      "text/plain": [
       "[2, 2]"
      ]
     },
     "execution_count": 3,
     "metadata": {},
     "output_type": "execute_result"
    }
   ],
   "source": [
    "nums1 = [1,2,2,1]\n",
    "nums2 = [2,2]\n",
    "from collections import Counter\n",
    "list((Counter(nums1)&Counter(nums2)).elements())"
   ]
  },
  {
   "cell_type": "code",
   "execution_count": 13,
   "metadata": {},
   "outputs": [
    {
     "data": {
      "text/plain": [
       "' 朱天丽 周歆楠 周丹妮 张静 杨梓 杨钰烨 颜妙林 徐弋越 翁嘉颖 王珏 苏蕾蕾 任梦甜 钱锡琴 钱江晟 潘邵杰 马立军 陆钰敏 刘威 刘睿欣 刘梦影 凌陈 李欣瑜了 江慧 霍光烁 方文 陈子凡 陈针妮 陈鹭 陈菲菲 常莉莉 产纪元'"
      ]
     },
     "execution_count": 13,
     "metadata": {},
     "output_type": "execute_result"
    }
   ],
   "source": [
    "s = '''\n",
    "朱天丽\n",
    "周歆楠\n",
    "周丹妮\n",
    "张静\n",
    "杨梓\n",
    "杨钰烨\n",
    "颜妙林\n",
    "徐弋越\n",
    "翁嘉颖\n",
    "王珏\n",
    "苏蕾蕾\n",
    "任梦甜\n",
    "钱锡琴\n",
    "钱江晟\n",
    "潘邵杰\n",
    "马立军\n",
    "陆钰敏\n",
    "刘威\n",
    "刘睿欣\n",
    "刘梦影\n",
    "凌陈\n",
    "李欣瑜了\n",
    "江慧\n",
    "霍光烁\n",
    "方文\n",
    "陈子凡\n",
    "陈针妮\n",
    "陈鹭\n",
    "陈菲菲\n",
    "常莉莉\n",
    "产纪元'''\n",
    "s.replace('\\n',' ')"
   ]
  },
  {
   "cell_type": "code",
   "execution_count": 18,
   "metadata": {},
   "outputs": [
    {
     "data": {
      "text/plain": [
       "'ball'"
      ]
     },
     "execution_count": 18,
     "metadata": {},
     "output_type": "execute_result"
    }
   ],
   "source": [
    "import re\n",
    "from collections import Counter\n",
    "\n",
    "paragraph = \"Bob hit a ball, the hit BALL flew far after it was hit.\"\n",
    "banned = [\"hit\"]\n",
    "\n",
    "\n",
    "def f(paragraph, banned):\n",
    "    c = Counter(re.findall(r'\\w+', paragraph.lower()))\n",
    "    for n in banned:\n",
    "        c.pop(n, None)\n",
    "    return max(c, key=lambda x: c[x])\n"
   ]
  },
  {
   "cell_type": "code",
   "execution_count": 25,
   "metadata": {},
   "outputs": [
    {
     "data": {
      "text/plain": [
       "(None, {1: 2, 3: 2})"
      ]
     },
     "execution_count": 25,
     "metadata": {},
     "output_type": "execute_result"
    }
   ],
   "source": [
    "d = {1:2,3:2}\n",
    "d.pop(2,None),d"
   ]
  },
  {
   "cell_type": "code",
   "execution_count": 28,
   "metadata": {},
   "outputs": [
    {
     "data": {
      "text/plain": [
       "'ball'"
      ]
     },
     "execution_count": 28,
     "metadata": {},
     "output_type": "execute_result"
    }
   ],
   "source": [
    "import re\n",
    "from collections import Counter\n",
    "\n",
    "paragraph = \"Bob hit a ball, the hit BALL flew far after it was hit.\"\n",
    "banned = [\"hit\"]\n",
    "c = Counter(w for w in re.findall(r'\\w+', paragraph.lower()) if w not in set(banned))\n",
    "c.most_common(1)[0][0]"
   ]
  },
  {
   "cell_type": "code",
   "execution_count": 3,
   "metadata": {},
   "outputs": [
    {
     "data": {
      "text/plain": [
       "'ab'"
      ]
     },
     "execution_count": 3,
     "metadata": {},
     "output_type": "execute_result"
    }
   ],
   "source": [
    "a,b='a','b'\n",
    "a+b"
   ]
  },
  {
   "cell_type": "code",
   "execution_count": 7,
   "metadata": {},
   "outputs": [
    {
     "data": {
      "text/plain": [
       "'Imaa peaksmaaa oatGmaaaa atinLmaaaaa'"
      ]
     },
     "execution_count": 7,
     "metadata": {},
     "output_type": "execute_result"
    }
   ],
   "source": [
    "sentence = \"I speak Goat Latin\"\n",
    "sentence = sentence.split()\n",
    "ha = {'a', 'e', 'i', 'o', 'u', 'A', 'E', 'I', 'O', 'U'}\n",
    "for i, n in enumerate(sentence):\n",
    "    if n[0] not in ha:\n",
    "        sentence[i] = sentence[i][1:] + sentence[i][:1]\n",
    "    sentence[i] += 'ma' + 'a' * (i + 1)\n",
    "' '.join(sentence)"
   ]
  },
  {
   "cell_type": "code",
   "execution_count": 1,
   "metadata": {},
   "outputs": [
    {
     "data": {
      "text/plain": [
       "6"
      ]
     },
     "execution_count": 1,
     "metadata": {},
     "output_type": "execute_result"
    }
   ],
   "source": [
    "def f(nums: list):\n",
    "    # dp[i] 以nums[i]结尾的最大子数组和\n",
    "    # dp[i] = max(dp[i-1]+nums[i],nums[i])\n",
    "    # basecase dp[0]=nums[0]\n",
    "    for i in range(1, len(nums)):\n",
    "        nums[i] = max(nums[i - 1] + nums[i], nums[i])\n",
    "    return max(nums)\n",
    "\n",
    "\n",
    "f([-2, 1, -3, 4, -1, 2, 1, -5, 4])\n"
   ]
  },
  {
   "cell_type": "code",
   "execution_count": 3,
   "metadata": {},
   "outputs": [
    {
     "data": {
      "text/plain": [
       "(2, 0, 2)"
      ]
     },
     "execution_count": 3,
     "metadata": {},
     "output_type": "execute_result"
    }
   ],
   "source": [
    "def f(n: int):\n",
    "    b = bin(n)[2:]\n",
    "    ans = 0\n",
    "    pos = float('inf')\n",
    "    for i, n in enumerate(b):\n",
    "        if n == '1':\n",
    "            ans = max(ans, i - pos)\n",
    "            pos = i\n",
    "    return ans\n",
    "\n",
    "\n",
    "f(22), f(8), f(5)\n"
   ]
  },
  {
   "cell_type": "code",
   "execution_count": 6,
   "metadata": {},
   "outputs": [
    {
     "data": {
      "text/plain": [
       "1"
      ]
     },
     "execution_count": 6,
     "metadata": {},
     "output_type": "execute_result"
    }
   ],
   "source": [
    "x = 5\n",
    "x&(-x)"
   ]
  },
  {
   "cell_type": "code",
   "execution_count": 1,
   "metadata": {},
   "outputs": [
    {
     "data": {
      "text/plain": [
       "[(1, 2), (2, 3)]"
      ]
     },
     "execution_count": 1,
     "metadata": {},
     "output_type": "execute_result"
    }
   ],
   "source": [
    "a,b=[1,2,3],[2,3]\n",
    "list(zip(a,b))"
   ]
  },
  {
   "cell_type": "code",
   "execution_count": 1,
   "metadata": {},
   "outputs": [],
   "source": [
    "from collections import defaultdict\n",
    "from typing import List\n",
    "from random import choice\n",
    "\n",
    "\n",
    "class Solution:\n",
    "\n",
    "    def __init__(self, nums: List[int]):\n",
    "        self.rand = defaultdict(list)\n",
    "        for i, n in enumerate(nums):\n",
    "            self.rand[n].append(i)\n",
    "\n",
    "    def pick(self, target: int) -> int:\n",
    "        return choice(self.rand[target])\n",
    "\n",
    "\n",
    "# Your Solution object will be instantiated and called as such:\n",
    "# obj = Solution(nums)\n",
    "# param_1 = obj.pick(target)"
   ]
  },
  {
   "cell_type": "code",
   "execution_count": 3,
   "metadata": {},
   "outputs": [
    {
     "data": {
      "text/plain": [
       "5"
      ]
     },
     "execution_count": 3,
     "metadata": {},
     "output_type": "execute_result"
    }
   ],
   "source": [
    "def f(grid: list):\n",
    "    rows, cols = len(grid), len(grid[0])\n",
    "    x = y = z = 0\n",
    "    for r in range(rows):\n",
    "        y += max(grid[r])\n",
    "        for c in range(cols):\n",
    "            if grid[r][c] != 0:\n",
    "                x += 1\n",
    "    for c in range(cols):\n",
    "        local = 0\n",
    "        for r in range(rows):\n",
    "            local = max(local, grid[r][c])\n",
    "        z += local\n",
    "    return x + y + z\n",
    "\n",
    "\n",
    "f([[1, 2], [3, 4]])\n",
    "f([[2]])"
   ]
  },
  {
   "cell_type": "code",
   "execution_count": 1,
   "metadata": {},
   "outputs": [],
   "source": [
    "def f(grid: list):\n",
    "    xy = sum(max(g) + sum(v > 0 for v in g) for g in grid)\n",
    "    z = sum(max(g) for g in zip(*grid))\n",
    "    return xy + z\n"
   ]
  },
  {
   "cell_type": "code",
   "execution_count": 3,
   "metadata": {},
   "outputs": [
    {
     "data": {
      "text/plain": [
       "1024"
      ]
     },
     "execution_count": 3,
     "metadata": {},
     "output_type": "execute_result"
    }
   ],
   "source": [
    "def f(n):\n",
    "    if n == 1:\n",
    "        return 1\n",
    "    return 2 * f(n - 1)\n",
    "\n",
    "\n",
    "f(11)"
   ]
  },
  {
   "cell_type": "code",
   "execution_count": 8,
   "metadata": {},
   "outputs": [
    {
     "data": {
      "text/plain": [
       "[2,\n",
       " 3,\n",
       " 5,\n",
       " 7,\n",
       " 11,\n",
       " 13,\n",
       " 17,\n",
       " 19,\n",
       " 23,\n",
       " 29,\n",
       " 31,\n",
       " 37,\n",
       " 41,\n",
       " 43,\n",
       " 47,\n",
       " 53,\n",
       " 59,\n",
       " 61,\n",
       " 67,\n",
       " 71,\n",
       " 73,\n",
       " 79,\n",
       " 83,\n",
       " 89,\n",
       " 97,\n",
       " 101,\n",
       " 103,\n",
       " 107,\n",
       " 109,\n",
       " 113,\n",
       " 127,\n",
       " 131,\n",
       " 137,\n",
       " 139,\n",
       " 149,\n",
       " 151,\n",
       " 157,\n",
       " 163,\n",
       " 167,\n",
       " 173,\n",
       " 179,\n",
       " 181,\n",
       " 191,\n",
       " 193,\n",
       " 197,\n",
       " 199,\n",
       " 211,\n",
       " 223,\n",
       " 227,\n",
       " 229,\n",
       " 233,\n",
       " 239,\n",
       " 241,\n",
       " 251,\n",
       " 257,\n",
       " 263,\n",
       " 269,\n",
       " 271,\n",
       " 277,\n",
       " 281,\n",
       " 283,\n",
       " 293,\n",
       " 307,\n",
       " 311,\n",
       " 313,\n",
       " 317,\n",
       " 331,\n",
       " 337,\n",
       " 347,\n",
       " 349,\n",
       " 353,\n",
       " 359,\n",
       " 367,\n",
       " 373,\n",
       " 379,\n",
       " 383,\n",
       " 389,\n",
       " 397,\n",
       " 401,\n",
       " 409,\n",
       " 419,\n",
       " 421,\n",
       " 431,\n",
       " 433,\n",
       " 439,\n",
       " 443,\n",
       " 449,\n",
       " 457,\n",
       " 461,\n",
       " 463,\n",
       " 467,\n",
       " 479,\n",
       " 487,\n",
       " 491,\n",
       " 499,\n",
       " 503,\n",
       " 509,\n",
       " 521,\n",
       " 523,\n",
       " 541,\n",
       " 547,\n",
       " 557,\n",
       " 563,\n",
       " 569,\n",
       " 571,\n",
       " 577,\n",
       " 587,\n",
       " 593,\n",
       " 599,\n",
       " 601,\n",
       " 607,\n",
       " 613,\n",
       " 617,\n",
       " 619,\n",
       " 631,\n",
       " 641,\n",
       " 643,\n",
       " 647,\n",
       " 653,\n",
       " 659,\n",
       " 661,\n",
       " 673,\n",
       " 677,\n",
       " 683,\n",
       " 691,\n",
       " 701,\n",
       " 709,\n",
       " 719,\n",
       " 727,\n",
       " 733,\n",
       " 739,\n",
       " 743,\n",
       " 751,\n",
       " 757,\n",
       " 761,\n",
       " 769,\n",
       " 773,\n",
       " 787,\n",
       " 797,\n",
       " 809,\n",
       " 811,\n",
       " 821,\n",
       " 823,\n",
       " 827,\n",
       " 829,\n",
       " 839,\n",
       " 853,\n",
       " 857,\n",
       " 859,\n",
       " 863,\n",
       " 877,\n",
       " 881,\n",
       " 883,\n",
       " 887,\n",
       " 907,\n",
       " 911,\n",
       " 919,\n",
       " 929,\n",
       " 937,\n",
       " 941,\n",
       " 947,\n",
       " 953,\n",
       " 967,\n",
       " 971,\n",
       " 977,\n",
       " 983,\n",
       " 991,\n",
       " 997,\n",
       " 1009,\n",
       " 1013,\n",
       " 1019,\n",
       " 1021,\n",
       " 1031,\n",
       " 1033,\n",
       " 1039,\n",
       " 1049,\n",
       " 1051,\n",
       " 1061,\n",
       " 1063,\n",
       " 1069,\n",
       " 1087,\n",
       " 1091,\n",
       " 1093,\n",
       " 1097,\n",
       " 1103,\n",
       " 1109,\n",
       " 1117,\n",
       " 1123,\n",
       " 1129,\n",
       " 1151,\n",
       " 1153,\n",
       " 1163,\n",
       " 1171,\n",
       " 1181,\n",
       " 1187,\n",
       " 1193,\n",
       " 1201,\n",
       " 1213,\n",
       " 1217,\n",
       " 1223,\n",
       " 1229,\n",
       " 1231,\n",
       " 1237,\n",
       " 1249,\n",
       " 1259,\n",
       " 1277,\n",
       " 1279,\n",
       " 1283,\n",
       " 1289,\n",
       " 1291,\n",
       " 1297,\n",
       " 1301,\n",
       " 1303,\n",
       " 1307,\n",
       " 1319,\n",
       " 1321,\n",
       " 1327,\n",
       " 1361,\n",
       " 1367,\n",
       " 1373,\n",
       " 1381,\n",
       " 1399,\n",
       " 1409,\n",
       " 1423,\n",
       " 1427,\n",
       " 1429,\n",
       " 1433,\n",
       " 1439,\n",
       " 1447,\n",
       " 1451,\n",
       " 1453,\n",
       " 1459,\n",
       " 1471,\n",
       " 1481,\n",
       " 1483,\n",
       " 1487,\n",
       " 1489,\n",
       " 1493,\n",
       " 1499,\n",
       " 1511,\n",
       " 1523,\n",
       " 1531,\n",
       " 1543,\n",
       " 1549,\n",
       " 1553,\n",
       " 1559,\n",
       " 1567,\n",
       " 1571,\n",
       " 1579,\n",
       " 1583,\n",
       " 1597,\n",
       " 1601,\n",
       " 1607,\n",
       " 1609,\n",
       " 1613,\n",
       " 1619,\n",
       " 1621,\n",
       " 1627,\n",
       " 1637,\n",
       " 1657,\n",
       " 1663,\n",
       " 1667,\n",
       " 1669,\n",
       " 1693,\n",
       " 1697,\n",
       " 1699,\n",
       " 1709,\n",
       " 1721,\n",
       " 1723,\n",
       " 1733,\n",
       " 1741,\n",
       " 1747,\n",
       " 1753,\n",
       " 1759,\n",
       " 1777,\n",
       " 1783,\n",
       " 1787,\n",
       " 1789,\n",
       " 1801,\n",
       " 1811,\n",
       " 1823,\n",
       " 1831,\n",
       " 1847,\n",
       " 1861,\n",
       " 1867,\n",
       " 1871,\n",
       " 1873,\n",
       " 1877,\n",
       " 1879,\n",
       " 1889,\n",
       " 1901,\n",
       " 1907,\n",
       " 1913,\n",
       " 1931,\n",
       " 1933,\n",
       " 1949,\n",
       " 1951,\n",
       " 1973,\n",
       " 1979,\n",
       " 1987,\n",
       " 1993,\n",
       " 1997,\n",
       " 1999,\n",
       " 2003,\n",
       " 2011,\n",
       " 2017,\n",
       " 2027,\n",
       " 2029,\n",
       " 2039,\n",
       " 2053,\n",
       " 2063,\n",
       " 2069,\n",
       " 2081,\n",
       " 2083,\n",
       " 2087,\n",
       " 2089,\n",
       " 2099,\n",
       " 2111,\n",
       " 2113,\n",
       " 2129,\n",
       " 2131,\n",
       " 2137,\n",
       " 2141,\n",
       " 2143,\n",
       " 2153,\n",
       " 2161,\n",
       " 2179,\n",
       " 2203,\n",
       " 2207,\n",
       " 2213,\n",
       " 2221,\n",
       " 2237,\n",
       " 2239,\n",
       " 2243,\n",
       " 2251,\n",
       " 2267,\n",
       " 2269,\n",
       " 2273,\n",
       " 2281,\n",
       " 2287,\n",
       " 2293,\n",
       " 2297,\n",
       " 2309,\n",
       " 2311,\n",
       " 2333,\n",
       " 2339,\n",
       " 2341,\n",
       " 2347,\n",
       " 2351,\n",
       " 2357,\n",
       " 2371,\n",
       " 2377,\n",
       " 2381,\n",
       " 2383,\n",
       " 2389,\n",
       " 2393,\n",
       " 2399,\n",
       " 2411,\n",
       " 2417,\n",
       " 2423,\n",
       " 2437,\n",
       " 2441,\n",
       " 2447,\n",
       " 2459,\n",
       " 2467,\n",
       " 2473,\n",
       " 2477,\n",
       " 2503,\n",
       " 2521,\n",
       " 2531,\n",
       " 2539,\n",
       " 2543,\n",
       " 2549,\n",
       " 2551,\n",
       " 2557,\n",
       " 2579,\n",
       " 2591,\n",
       " 2593,\n",
       " 2609,\n",
       " 2617,\n",
       " 2621,\n",
       " 2633,\n",
       " 2647,\n",
       " 2657,\n",
       " 2659,\n",
       " 2663,\n",
       " 2671,\n",
       " 2677,\n",
       " 2683,\n",
       " 2687,\n",
       " 2689,\n",
       " 2693,\n",
       " 2699,\n",
       " 2707,\n",
       " 2711,\n",
       " 2713,\n",
       " 2719,\n",
       " 2729,\n",
       " 2731,\n",
       " 2741,\n",
       " 2749,\n",
       " 2753,\n",
       " 2767,\n",
       " 2777,\n",
       " 2789,\n",
       " 2791,\n",
       " 2797,\n",
       " 2801,\n",
       " 2803,\n",
       " 2819,\n",
       " 2833,\n",
       " 2837,\n",
       " 2843,\n",
       " 2851,\n",
       " 2857,\n",
       " 2861,\n",
       " 2879,\n",
       " 2887,\n",
       " 2897,\n",
       " 2903,\n",
       " 2909,\n",
       " 2917,\n",
       " 2927,\n",
       " 2939,\n",
       " 2953,\n",
       " 2957,\n",
       " 2963,\n",
       " 2969,\n",
       " 2971,\n",
       " 2999,\n",
       " 3001,\n",
       " 3011,\n",
       " 3019,\n",
       " 3023,\n",
       " 3037,\n",
       " 3041,\n",
       " 3049,\n",
       " 3061,\n",
       " 3067,\n",
       " 3079,\n",
       " 3083,\n",
       " 3089,\n",
       " 3109,\n",
       " 3119,\n",
       " 3121,\n",
       " 3137,\n",
       " 3163,\n",
       " 3167,\n",
       " 3169,\n",
       " 3181,\n",
       " 3187,\n",
       " 3191,\n",
       " 3203,\n",
       " 3209,\n",
       " 3217,\n",
       " 3221,\n",
       " 3229,\n",
       " 3251,\n",
       " 3253,\n",
       " 3257,\n",
       " 3259,\n",
       " 3271,\n",
       " 3299,\n",
       " 3301,\n",
       " 3307,\n",
       " 3313,\n",
       " 3319,\n",
       " 3323,\n",
       " 3329,\n",
       " 3331,\n",
       " 3343,\n",
       " 3347,\n",
       " 3359,\n",
       " 3361,\n",
       " 3371,\n",
       " 3373,\n",
       " 3389,\n",
       " 3391,\n",
       " 3407,\n",
       " 3413,\n",
       " 3433,\n",
       " 3449,\n",
       " 3457,\n",
       " 3461,\n",
       " 3463,\n",
       " 3467,\n",
       " 3469,\n",
       " 3491,\n",
       " 3499,\n",
       " 3511,\n",
       " 3517,\n",
       " 3527,\n",
       " 3529,\n",
       " 3533,\n",
       " 3539,\n",
       " 3541,\n",
       " 3547,\n",
       " 3557,\n",
       " 3559,\n",
       " 3571,\n",
       " 3581,\n",
       " 3583,\n",
       " 3593,\n",
       " 3607,\n",
       " 3613,\n",
       " 3617,\n",
       " 3623,\n",
       " 3631,\n",
       " 3637,\n",
       " 3643,\n",
       " 3659,\n",
       " 3671,\n",
       " 3673,\n",
       " 3677,\n",
       " 3691,\n",
       " 3697,\n",
       " 3701,\n",
       " 3709,\n",
       " 3719,\n",
       " 3727,\n",
       " 3733,\n",
       " 3739,\n",
       " 3761,\n",
       " 3767,\n",
       " 3769,\n",
       " 3779,\n",
       " 3793,\n",
       " 3797,\n",
       " 3803,\n",
       " 3821,\n",
       " 3823,\n",
       " 3833,\n",
       " 3847,\n",
       " 3851,\n",
       " 3853,\n",
       " 3863,\n",
       " 3877,\n",
       " 3881,\n",
       " 3889,\n",
       " 3907,\n",
       " 3911,\n",
       " 3917,\n",
       " 3919,\n",
       " 3923,\n",
       " 3929,\n",
       " 3931,\n",
       " 3943,\n",
       " 3947,\n",
       " 3967,\n",
       " 3989,\n",
       " 4001,\n",
       " 4003,\n",
       " 4007,\n",
       " 4013,\n",
       " 4019,\n",
       " 4021,\n",
       " 4027,\n",
       " 4049,\n",
       " 4051,\n",
       " 4057,\n",
       " 4073,\n",
       " 4079,\n",
       " 4091,\n",
       " 4093,\n",
       " 4099,\n",
       " 4111,\n",
       " 4127,\n",
       " 4129,\n",
       " 4133,\n",
       " 4139,\n",
       " 4153,\n",
       " 4157,\n",
       " 4159,\n",
       " 4177,\n",
       " 4201,\n",
       " 4211,\n",
       " 4217,\n",
       " 4219,\n",
       " 4229,\n",
       " 4231,\n",
       " 4241,\n",
       " 4243,\n",
       " 4253,\n",
       " 4259,\n",
       " 4261,\n",
       " 4271,\n",
       " 4273,\n",
       " 4283,\n",
       " 4289,\n",
       " 4297,\n",
       " 4327,\n",
       " 4337,\n",
       " 4339,\n",
       " 4349,\n",
       " 4357,\n",
       " 4363,\n",
       " 4373,\n",
       " 4391,\n",
       " 4397,\n",
       " 4409,\n",
       " 4421,\n",
       " 4423,\n",
       " 4441,\n",
       " 4447,\n",
       " 4451,\n",
       " 4457,\n",
       " 4463,\n",
       " 4481,\n",
       " 4483,\n",
       " 4493,\n",
       " 4507,\n",
       " 4513,\n",
       " 4517,\n",
       " 4519,\n",
       " 4523,\n",
       " 4547,\n",
       " 4549,\n",
       " 4561,\n",
       " 4567,\n",
       " 4583,\n",
       " 4591,\n",
       " 4597,\n",
       " 4603,\n",
       " 4621,\n",
       " 4637,\n",
       " 4639,\n",
       " 4643,\n",
       " 4649,\n",
       " 4651,\n",
       " 4657,\n",
       " 4663,\n",
       " 4673,\n",
       " 4679,\n",
       " 4691,\n",
       " 4703,\n",
       " 4721,\n",
       " 4723,\n",
       " 4729,\n",
       " 4733,\n",
       " 4751,\n",
       " 4759,\n",
       " 4783,\n",
       " 4787,\n",
       " 4789,\n",
       " 4793,\n",
       " 4799,\n",
       " 4801,\n",
       " 4813,\n",
       " 4817,\n",
       " 4831,\n",
       " 4861,\n",
       " 4871,\n",
       " 4877,\n",
       " 4889,\n",
       " 4903,\n",
       " 4909,\n",
       " 4919,\n",
       " 4931,\n",
       " 4933,\n",
       " 4937,\n",
       " 4943,\n",
       " 4951,\n",
       " 4957,\n",
       " 4967,\n",
       " 4969,\n",
       " 4973,\n",
       " 4987,\n",
       " 4993,\n",
       " 4999,\n",
       " 5003,\n",
       " 5009,\n",
       " 5011,\n",
       " 5021,\n",
       " 5023,\n",
       " 5039,\n",
       " 5051,\n",
       " 5059,\n",
       " 5077,\n",
       " 5081,\n",
       " 5087,\n",
       " 5099,\n",
       " 5101,\n",
       " 5107,\n",
       " 5113,\n",
       " 5119,\n",
       " 5147,\n",
       " 5153,\n",
       " 5167,\n",
       " 5171,\n",
       " 5179,\n",
       " 5189,\n",
       " 5197,\n",
       " 5209,\n",
       " 5227,\n",
       " 5231,\n",
       " 5233,\n",
       " 5237,\n",
       " 5261,\n",
       " 5273,\n",
       " 5279,\n",
       " 5281,\n",
       " 5297,\n",
       " 5303,\n",
       " 5309,\n",
       " 5323,\n",
       " 5333,\n",
       " 5347,\n",
       " 5351,\n",
       " 5381,\n",
       " 5387,\n",
       " 5393,\n",
       " 5399,\n",
       " 5407,\n",
       " 5413,\n",
       " 5417,\n",
       " 5419,\n",
       " 5431,\n",
       " 5437,\n",
       " 5441,\n",
       " 5443,\n",
       " 5449,\n",
       " 5471,\n",
       " 5477,\n",
       " 5479,\n",
       " 5483,\n",
       " 5501,\n",
       " 5503,\n",
       " 5507,\n",
       " 5519,\n",
       " 5521,\n",
       " 5527,\n",
       " 5531,\n",
       " 5557,\n",
       " 5563,\n",
       " 5569,\n",
       " 5573,\n",
       " 5581,\n",
       " 5591,\n",
       " 5623,\n",
       " 5639,\n",
       " 5641,\n",
       " 5647,\n",
       " 5651,\n",
       " 5653,\n",
       " 5657,\n",
       " 5659,\n",
       " 5669,\n",
       " 5683,\n",
       " 5689,\n",
       " 5693,\n",
       " 5701,\n",
       " 5711,\n",
       " 5717,\n",
       " 5737,\n",
       " 5741,\n",
       " 5743,\n",
       " 5749,\n",
       " 5779,\n",
       " 5783,\n",
       " 5791,\n",
       " 5801,\n",
       " 5807,\n",
       " 5813,\n",
       " 5821,\n",
       " 5827,\n",
       " 5839,\n",
       " 5843,\n",
       " 5849,\n",
       " 5851,\n",
       " 5857,\n",
       " 5861,\n",
       " 5867,\n",
       " 5869,\n",
       " 5879,\n",
       " 5881,\n",
       " 5897,\n",
       " 5903,\n",
       " 5923,\n",
       " 5927,\n",
       " 5939,\n",
       " 5953,\n",
       " 5981,\n",
       " 5987,\n",
       " 6007,\n",
       " 6011,\n",
       " 6029,\n",
       " 6037,\n",
       " 6043,\n",
       " 6047,\n",
       " 6053,\n",
       " 6067,\n",
       " 6073,\n",
       " 6079,\n",
       " 6089,\n",
       " 6091,\n",
       " 6101,\n",
       " 6113,\n",
       " 6121,\n",
       " 6131,\n",
       " 6133,\n",
       " 6143,\n",
       " 6151,\n",
       " 6163,\n",
       " 6173,\n",
       " 6197,\n",
       " 6199,\n",
       " 6203,\n",
       " 6211,\n",
       " 6217,\n",
       " 6221,\n",
       " 6229,\n",
       " 6247,\n",
       " 6257,\n",
       " 6263,\n",
       " 6269,\n",
       " 6271,\n",
       " 6277,\n",
       " 6287,\n",
       " 6299,\n",
       " 6301,\n",
       " 6311,\n",
       " 6317,\n",
       " 6323,\n",
       " 6329,\n",
       " 6337,\n",
       " 6343,\n",
       " 6353,\n",
       " 6359,\n",
       " 6361,\n",
       " 6367,\n",
       " 6373,\n",
       " 6379,\n",
       " 6389,\n",
       " 6397,\n",
       " 6421,\n",
       " 6427,\n",
       " 6449,\n",
       " 6451,\n",
       " 6469,\n",
       " 6473,\n",
       " 6481,\n",
       " 6491,\n",
       " 6521,\n",
       " 6529,\n",
       " 6547,\n",
       " 6551,\n",
       " 6553,\n",
       " 6563,\n",
       " 6569,\n",
       " 6571,\n",
       " 6577,\n",
       " 6581,\n",
       " 6599,\n",
       " 6607,\n",
       " 6619,\n",
       " 6637,\n",
       " 6653,\n",
       " 6659,\n",
       " 6661,\n",
       " 6673,\n",
       " 6679,\n",
       " 6689,\n",
       " 6691,\n",
       " 6701,\n",
       " 6703,\n",
       " 6709,\n",
       " 6719,\n",
       " 6733,\n",
       " 6737,\n",
       " 6761,\n",
       " 6763,\n",
       " 6779,\n",
       " 6781,\n",
       " 6791,\n",
       " 6793,\n",
       " 6803,\n",
       " 6823,\n",
       " 6827,\n",
       " 6829,\n",
       " 6833,\n",
       " 6841,\n",
       " 6857,\n",
       " 6863,\n",
       " 6869,\n",
       " 6871,\n",
       " 6883,\n",
       " 6899,\n",
       " 6907,\n",
       " 6911,\n",
       " 6917,\n",
       " 6947,\n",
       " 6949,\n",
       " 6959,\n",
       " 6961,\n",
       " 6967,\n",
       " 6971,\n",
       " 6977,\n",
       " 6983,\n",
       " 6991,\n",
       " 6997,\n",
       " 7001,\n",
       " 7013,\n",
       " 7019,\n",
       " 7027,\n",
       " 7039,\n",
       " 7043,\n",
       " 7057,\n",
       " 7069,\n",
       " 7079,\n",
       " 7103,\n",
       " 7109,\n",
       " 7121,\n",
       " 7127,\n",
       " 7129,\n",
       " 7151,\n",
       " 7159,\n",
       " 7177,\n",
       " 7187,\n",
       " 7193,\n",
       " 7207,\n",
       " 7211,\n",
       " 7213,\n",
       " 7219,\n",
       " 7229,\n",
       " 7237,\n",
       " 7243,\n",
       " 7247,\n",
       " 7253,\n",
       " 7283,\n",
       " 7297,\n",
       " 7307,\n",
       " 7309,\n",
       " 7321,\n",
       " 7331,\n",
       " 7333,\n",
       " 7349,\n",
       " 7351,\n",
       " 7369,\n",
       " 7393,\n",
       " 7411,\n",
       " 7417,\n",
       " 7433,\n",
       " 7451,\n",
       " 7457,\n",
       " 7459,\n",
       " 7477,\n",
       " 7481,\n",
       " 7487,\n",
       " 7489,\n",
       " 7499,\n",
       " 7507,\n",
       " 7517,\n",
       " 7523,\n",
       " 7529,\n",
       " 7537,\n",
       " 7541,\n",
       " 7547,\n",
       " 7549,\n",
       " 7559,\n",
       " 7561,\n",
       " 7573,\n",
       " 7577,\n",
       " 7583,\n",
       " 7589,\n",
       " 7591,\n",
       " 7603,\n",
       " 7607,\n",
       " 7621,\n",
       " 7639,\n",
       " 7643,\n",
       " 7649,\n",
       " 7669,\n",
       " 7673,\n",
       " 7681,\n",
       " 7687,\n",
       " 7691,\n",
       " 7699,\n",
       " 7703,\n",
       " 7717,\n",
       " 7723,\n",
       " 7727,\n",
       " 7741,\n",
       " 7753,\n",
       " 7757,\n",
       " 7759,\n",
       " 7789,\n",
       " 7793,\n",
       " 7817,\n",
       " 7823,\n",
       " 7829,\n",
       " 7841,\n",
       " 7853,\n",
       " 7867,\n",
       " 7873,\n",
       " 7877,\n",
       " 7879,\n",
       " 7883,\n",
       " 7901,\n",
       " 7907,\n",
       " 7919,\n",
       " ...]"
      ]
     },
     "execution_count": 8,
     "metadata": {},
     "output_type": "execute_result"
    }
   ],
   "source": [
    "def f():\n",
    "\n",
    "    def isPrime(n):\n",
    "        if n == 1: return False\n",
    "        for i in range(2, int(n**.5) + 1):\n",
    "            if not n % i:\n",
    "                return False\n",
    "        return True\n",
    "\n",
    "    # return list(filter(isPrime, range(1, 10001)))\n",
    "    return [n for n in range(1, 10001) if isPrime(n)]\n",
    "\n",
    "\n",
    "f()\n"
   ]
  },
  {
   "cell_type": "code",
   "execution_count": 3,
   "metadata": {},
   "outputs": [
    {
     "data": {
      "text/plain": [
       "(832040, 21)"
      ]
     },
     "execution_count": 3,
     "metadata": {},
     "output_type": "execute_result"
    }
   ],
   "source": [
    "def f(n):\n",
    "    mem = {1: 1, 2: 1}\n",
    "\n",
    "    def dfs(n):\n",
    "        if n not in mem:\n",
    "            mem[n] = dfs(n - 1) + dfs(n - 2)\n",
    "        return mem[n]\n",
    "\n",
    "    return dfs(n)\n",
    "\n",
    "\n",
    "f(30),f(8)"
   ]
  },
  {
   "cell_type": "code",
   "execution_count": 5,
   "metadata": {},
   "outputs": [
    {
     "name": "stdout",
     "output_type": "stream",
     "text": [
      "1 1\n",
      "2 1\n",
      "3 2\n",
      "4 3\n",
      "5 5\n",
      "6 6\n",
      "7 10\n",
      "8 14\n",
      "9 21\n"
     ]
    }
   ],
   "source": [
    "def f(n):\n",
    "    mem = {1: 1, 2: 1, 6: 6}\n",
    "\n",
    "    def dfs(n):\n",
    "        if n in mem:\n",
    "            return mem[n]\n",
    "        if n < 6:\n",
    "            mem[n] = dfs(n - 1) + dfs(n - 2)\n",
    "        else:\n",
    "            mem[n] = dfs(n - 1) + dfs(n - 2) - n + 6\n",
    "        return mem[n]\n",
    "\n",
    "    return dfs(n)\n",
    "\n",
    "\n",
    "for i in range(1, 10):\n",
    "    print(i, f(i))\n"
   ]
  },
  {
   "cell_type": "code",
   "execution_count": 10,
   "metadata": {},
   "outputs": [
    {
     "data": {
      "text/plain": [
       "['abc', 'abcd']"
      ]
     },
     "execution_count": 10,
     "metadata": {},
     "output_type": "execute_result"
    }
   ],
   "source": [
    "a = ['abc','abcd']\n",
    "sorted(a)"
   ]
  },
  {
   "cell_type": "code",
   "execution_count": 12,
   "metadata": {},
   "outputs": [
    {
     "data": {
      "text/plain": [
       "['b', 'c', 'd']"
      ]
     },
     "execution_count": 12,
     "metadata": {},
     "output_type": "execute_result"
    }
   ],
   "source": [
    "a = 'a b c d'\n",
    "a.split()[1:],a.is"
   ]
  },
  {
   "cell_type": "code",
   "execution_count": null,
   "metadata": {},
   "outputs": [],
   "source": []
  }
 ],
 "metadata": {
  "interpreter": {
   "hash": "e7370f93d1d0cde622a1f8e1c04877d8463912d04d973331ad4851f04de6915a"
  },
  "kernelspec": {
   "display_name": "Python 3.9.2 64-bit",
   "language": "python",
   "name": "python3"
  },
  "language_info": {
   "codemirror_mode": {
    "name": "ipython",
    "version": 3
   },
   "file_extension": ".py",
   "mimetype": "text/x-python",
   "name": "python",
   "nbconvert_exporter": "python",
   "pygments_lexer": "ipython3",
   "version": "3.9.2"
  },
  "orig_nbformat": 4
 },
 "nbformat": 4,
 "nbformat_minor": 2
}
