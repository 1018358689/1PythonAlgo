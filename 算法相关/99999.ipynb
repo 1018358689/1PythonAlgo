{
 "cells": [
  {
   "cell_type": "code",
   "execution_count": 8,
   "metadata": {},
   "outputs": [
    {
     "data": {
      "text/plain": [
       "[1, 10, 18]"
      ]
     },
     "execution_count": 8,
     "metadata": {},
     "output_type": "execute_result"
    }
   ],
   "source": [
    "from typing import List\n",
    "\n",
    "\n",
    "class Solution:\n",
    "\n",
    "    def fallingSquares(self, positions: List[List[int]]) -> List[int]:\n",
    "        ha = {}\n",
    "        ans = [0] * len(positions)\n",
    "        for i in range(len(positions)):\n",
    "            left = positions[i][0]\n",
    "            right = left + positions[i][1]\n",
    "            height = 0\n",
    "            for (l, r) in ha:\n",
    "                if (l <= left < r or l < right <= r or left <= l < r <= right) and (newHeight := ha[(l, r)]) > height:\n",
    "                    height = newHeight\n",
    "            height += positions[i][1]\n",
    "            ha[(left, right)] = height\n",
    "            ans[i] = max(ans[i - 1], height)\n",
    "        return ans\n",
    "\n",
    "\n",
    "s = Solution()\n",
    "s.fallingSquares([[1, 2], [2, 3], [6, 1]])\n",
    "s.fallingSquares([[2, 1], [2, 9], [1, 8]])\n"
   ]
  },
  {
   "cell_type": "code",
   "execution_count": 10,
   "metadata": {},
   "outputs": [
    {
     "data": {
      "text/plain": [
       "[0, 0, 9, 0, 0]"
      ]
     },
     "execution_count": 10,
     "metadata": {},
     "output_type": "execute_result"
    }
   ],
   "source": [
    "def f(nums: list):\n",
    "    pre = [1] * (len(nums) + 1)\n",
    "    suf = [1] * (len(nums) + 1)\n",
    "    ans = []\n",
    "    for i in range(len(nums)):\n",
    "        pre[i + 1] = pre[i] * nums[i]\n",
    "    for i in range(len(nums) - 1, -1, -1):\n",
    "        suf[i - 1] = suf[i] * nums[i]\n",
    "    for i in range(len(nums)):\n",
    "        ans.append(pre[i] * suf[i])\n",
    "    return ans\n",
    "\n",
    "\n",
    "f([1, 2, 3, 4])\n",
    "f([-1, -1, 0, -3, -3])\n"
   ]
  },
  {
   "cell_type": "code",
   "execution_count": 12,
   "metadata": {},
   "outputs": [
    {
     "data": {
      "text/plain": [
       "[0, 0, 9, 0, 0]"
      ]
     },
     "execution_count": 12,
     "metadata": {},
     "output_type": "execute_result"
    }
   ],
   "source": [
    "def f(nums: list):\n",
    "    pre = [1] * (len(nums) + 1)\n",
    "    suf = [1] * (len(nums) + 1)\n",
    "    ans = []\n",
    "    for i in range(len(nums)):\n",
    "        pre[i + 1] = pre[i] * nums[i]\n",
    "        suf[len(nums)-2-i] = suf[len(nums)-1-i]*nums[len(nums)-1-i]\n",
    "    for i in range(len(nums)):\n",
    "        ans.append(pre[i] * suf[i])\n",
    "    return ans\n",
    "\n",
    "\n",
    "f([1, 2, 3, 4])\n",
    "f([-1, -1, 0, -3, -3])\n"
   ]
  },
  {
   "cell_type": "code",
   "execution_count": null,
   "metadata": {},
   "outputs": [],
   "source": []
  }
 ],
 "metadata": {
  "interpreter": {
   "hash": "97367d2de1780ea7c502b529f25888c1b53c0430a7611816b6c7cf19d8435228"
  },
  "kernelspec": {
   "display_name": "Python 3.10.4 64-bit (windows store)",
   "language": "python",
   "name": "python3"
  },
  "language_info": {
   "codemirror_mode": {
    "name": "ipython",
    "version": 3
   },
   "file_extension": ".py",
   "mimetype": "text/x-python",
   "name": "python",
   "nbconvert_exporter": "python",
   "pygments_lexer": "ipython3",
   "version": "3.10.4"
  },
  "orig_nbformat": 4
 },
 "nbformat": 4,
 "nbformat_minor": 2
}
