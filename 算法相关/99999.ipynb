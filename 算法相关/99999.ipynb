{
 "cells": [
  {
   "cell_type": "code",
   "execution_count": 8,
   "metadata": {},
   "outputs": [
    {
     "data": {
      "text/plain": [
       "[1, 10, 18]"
      ]
     },
     "execution_count": 8,
     "metadata": {},
     "output_type": "execute_result"
    }
   ],
   "source": [
    "from typing import List\n",
    "\n",
    "\n",
    "class Solution:\n",
    "\n",
    "    def fallingSquares(self, positions: List[List[int]]) -> List[int]:\n",
    "        ha = {}\n",
    "        ans = [0] * len(positions)\n",
    "        for i in range(len(positions)):\n",
    "            left = positions[i][0]\n",
    "            right = left + positions[i][1]\n",
    "            height = 0\n",
    "            for l, r in ha.items():\n",
    "                if (l <= left < r or l < right <= r or left <= l < r <= right) and (newHeight := ha[(l, r)]) > height:\n",
    "                    height = newHeight\n",
    "            height += positions[i][1]\n",
    "            ha[(left, right)] = height\n",
    "            ans[i] = max(ans[i - 1], height)\n",
    "        return ans\n",
    "\n",
    "\n",
    "s = Solution()\n",
    "s.fallingSquares([[1, 2], [2, 3], [6, 1]])\n",
    "s.fallingSquares([[2, 1], [2, 9], [1, 8]])\n"
   ]
  },
  {
   "cell_type": "code",
   "execution_count": 1,
   "metadata": {},
   "outputs": [
    {
     "data": {
      "text/plain": [
       "[0, 0, 9, 0, 0]"
      ]
     },
     "execution_count": 1,
     "metadata": {},
     "output_type": "execute_result"
    }
   ],
   "source": [
    "def f(nums: list):\n",
    "    pre = [1] * (len(nums) + 1)\n",
    "    suf = [1] * (len(nums) + 1)\n",
    "    ans = []\n",
    "    for i in range(len(nums)):\n",
    "        pre[i + 1] = pre[i] * nums[i]\n",
    "    for i in range(len(nums) - 1, -1, -1):\n",
    "        suf[i - 1] = suf[i] * nums[i]\n",
    "    for i in range(len(nums)):\n",
    "        ans.append(pre[i] * suf[i])\n",
    "    return ans\n",
    "\n",
    "\n",
    "f([1, 2, 3, 4])\n",
    "f([-1, -1, 0, -3, -3])\n"
   ]
  },
  {
   "cell_type": "code",
   "execution_count": 12,
   "metadata": {},
   "outputs": [
    {
     "data": {
      "text/plain": [
       "[0, 0, 9, 0, 0]"
      ]
     },
     "execution_count": 12,
     "metadata": {},
     "output_type": "execute_result"
    }
   ],
   "source": [
    "def f(nums: list):\n",
    "    pre = [1] * (len(nums) + 1)\n",
    "    suf = [1] * (len(nums) + 1)\n",
    "    ans = []\n",
    "    for i in range(len(nums)):\n",
    "        pre[i + 1] = pre[i] * nums[i]\n",
    "        suf[len(nums)-2-i] = suf[len(nums)-1-i]*nums[len(nums)-1-i]\n",
    "    for i in range(len(nums)):\n",
    "        ans.append(pre[i] * suf[i])\n",
    "    return ans\n",
    "\n",
    "\n",
    "f([1, 2, 3, 4])\n",
    "f([-1, -1, 0, -3, -3])\n"
   ]
  },
  {
   "cell_type": "code",
   "execution_count": 3,
   "metadata": {},
   "outputs": [
    {
     "data": {
      "text/plain": [
       "['1', '1', '1']"
      ]
     },
     "execution_count": 3,
     "metadata": {},
     "output_type": "execute_result"
    }
   ],
   "source": [
    "import re\n",
    "nums =  [1,0,0,0,1,0,0,1]\n",
    "nums = ''.join(map(str,nums))\n",
    "re.findall(r'1',nums)"
   ]
  },
  {
   "cell_type": "code",
   "execution_count": 3,
   "metadata": {},
   "outputs": [
    {
     "data": {
      "text/plain": [
       "[45, 2, 77, 999, 256, 233, 12]"
      ]
     },
     "execution_count": 3,
     "metadata": {},
     "output_type": "execute_result"
    }
   ],
   "source": [
    "class queue:\n",
    "\n",
    "    def __init__(self, initialState=[]):\n",
    "        self.stack = initialState + [999]\n",
    "        self.popStack = []\n",
    "\n",
    "    def push(self, id: int):\n",
    "        self.stack.append(id)\n",
    "\n",
    "    def pop(self):\n",
    "        if not self.stack and not self.popStack:\n",
    "            return None\n",
    "        if not self.popStack:\n",
    "            while self.stack:\n",
    "                self.popStack.append(self.stack.pop())\n",
    "        return self.popStack.pop()\n",
    "\n",
    "    def state(self):\n",
    "        return self.popStack[::-1] + self.stack\n",
    "\n",
    "\n",
    "q = queue([23, 10, 45, 2, 77])\n",
    "q.push(256), q.push(233), q.pop(), q.push(12), q.pop()\n",
    "q.state()"
   ]
  },
  {
   "cell_type": "code",
   "execution_count": 4,
   "metadata": {},
   "outputs": [
    {
     "data": {
      "text/plain": [
       "(True, True, False, False)"
      ]
     },
     "execution_count": 4,
     "metadata": {},
     "output_type": "execute_result"
    }
   ],
   "source": [
    "def check(l1: list, l2: list):\n",
    "    j = 0\n",
    "    stack = [] # 栈\n",
    "    for i in l1:\n",
    "        stack.append(i) # 入栈\n",
    "        while stack and stack[-1] == l2[j]: # 符合出栈\n",
    "            stack.pop()\n",
    "            j += 1\n",
    "    return not stack # 是否栈空\n",
    "\n",
    "\n",
    "check([1, 2, 3], [1, 3, 2]), check([1, 2, 3, 4], [3, 4, 2, 1]), check([1, 2, 3, 4], [4, 2, 1, 3]), check([1, 2, 3, 4, 5], [4, 5, 2, 1, 3])\n"
   ]
  },
  {
   "cell_type": "code",
   "execution_count": 2,
   "metadata": {},
   "outputs": [
    {
     "name": "stdout",
     "output_type": "stream",
     "text": [
      "1 1\n",
      "2 1\n"
     ]
    },
    {
     "data": {
      "text/plain": [
       "[1, 2]"
      ]
     },
     "execution_count": 2,
     "metadata": {},
     "output_type": "execute_result"
    }
   ],
   "source": [
    "from collections import Counter\n",
    "from typing import List\n",
    "\n",
    "class Solution:\n",
    "\n",
    "    def intersect(self, nums1: List[int], nums2: List[int]) -> List[int]:\n",
    "        ans = []\n",
    "        for n, c in (Counter(nums1) & Counter(nums2)).items():\n",
    "            print(n,c)\n",
    "            ans += [n] * c\n",
    "        return ans\n",
    "s=Solution()\n",
    "s.intersect([1,2,2,3],[4,2,1])"
   ]
  },
  {
   "cell_type": "code",
   "execution_count": 1,
   "metadata": {},
   "outputs": [
    {
     "data": {
      "text/plain": [
       "'123'"
      ]
     },
     "execution_count": 1,
     "metadata": {},
     "output_type": "execute_result"
    }
   ],
   "source": [
    "a = '123  '\n",
    "a.rstrip()"
   ]
  },
  {
   "cell_type": "code",
   "execution_count": 9,
   "metadata": {},
   "outputs": [
    {
     "data": {
      "text/plain": [
       "(-2, -1.6666666666666667, -1)"
      ]
     },
     "execution_count": 9,
     "metadata": {},
     "output_type": "execute_result"
    }
   ],
   "source": [
    "-5//3,-5/3,int(-5/3)"
   ]
  },
  {
   "cell_type": "code",
   "execution_count": 3,
   "metadata": {},
   "outputs": [
    {
     "ename": "TypeError",
     "evalue": "int() argument must be a string, a bytes-like object or a real number, not 'list'",
     "output_type": "error",
     "traceback": [
      "\u001b[1;31m---------------------------------------------------------------------------\u001b[0m",
      "\u001b[1;31mTypeError\u001b[0m                                 Traceback (most recent call last)",
      "\u001b[1;32mc:\\Users\\Administrator\\OneDrive\\PythonProject\\1PythonAlgo\\算法相关\\99999.ipynb Cell 10\u001b[0m in \u001b[0;36m<cell line: 1>\u001b[1;34m()\u001b[0m\n\u001b[1;32m----> <a href='vscode-notebook-cell:/c%3A/Users/Administrator/OneDrive/PythonProject/1PythonAlgo/%E7%AE%97%E6%B3%95%E7%9B%B8%E5%85%B3/99999.ipynb#X12sZmlsZQ%3D%3D?line=0'>1</a>\u001b[0m \u001b[39mlist\u001b[39m(\u001b[39mstr\u001b[39m(\u001b[39m1651\u001b[39m)),\u001b[39mint\u001b[39;49m([\u001b[39m'\u001b[39;49m\u001b[39m1\u001b[39;49m\u001b[39m'\u001b[39;49m,\u001b[39m'\u001b[39;49m\u001b[39m3\u001b[39;49m\u001b[39m'\u001b[39;49m])\n",
      "\u001b[1;31mTypeError\u001b[0m: int() argument must be a string, a bytes-like object or a real number, not 'list'"
     ]
    }
   ],
   "source": [
    "list(str(1651)),int(['1','3'])"
   ]
  },
  {
   "cell_type": "code",
   "execution_count": 1,
   "metadata": {},
   "outputs": [
    {
     "data": {
      "text/plain": [
       "2"
      ]
     },
     "execution_count": 1,
     "metadata": {},
     "output_type": "execute_result"
    }
   ],
   "source": [
    "def f():\n",
    "    yield from range(3)\n",
    "g = f()\n",
    "g.__next__()\n",
    "g.__next__()\n",
    "g.__next__()"
   ]
  },
  {
   "cell_type": "code",
   "execution_count": 2,
   "metadata": {},
   "outputs": [
    {
     "data": {
      "text/plain": [
       "('100', '10101')"
      ]
     },
     "execution_count": 2,
     "metadata": {},
     "output_type": "execute_result"
    }
   ],
   "source": [
    "def f(a, b):\n",
    "    carry = 0\n",
    "    p1, p2 = len(a) - 1, len(b) - 1\n",
    "    ans = ''\n",
    "    while p1 >= 0 or p2 >= 0:\n",
    "        n1 = int(a[p1]) if p1 >= 0 else 0\n",
    "        n2 = int(b[p2]) if p2 >= 0 else 0\n",
    "        carry, tmp = divmod(n1 + n2 + carry, 2)\n",
    "        ans = f'{tmp}{ans}'\n",
    "        p1 -= 1\n",
    "        p2 -= 1\n",
    "    if carry:\n",
    "        ans = f'1{ans}'\n",
    "    return ans\n",
    "\n",
    "\n",
    "f('11', '1'), f('1010', '1011')\n"
   ]
  },
  {
   "cell_type": "code",
   "execution_count": 1,
   "metadata": {},
   "outputs": [
    {
     "name": "stdout",
     "output_type": "stream",
     "text": [
      "[101, 103, 107, 109, 113, 127, 131, 137, 139, 149, 151, 157, 163, 167, 173, 179, 181, 191, 193, 197, 199]\n",
      "21\n"
     ]
    }
   ],
   "source": [
    "# 101-200\n",
    "prime = [1] * 201\n",
    "for i in range(2, int(200**.5) + 1):\n",
    "    if prime[i]:\n",
    "        for j in range(i**2, 201, i):\n",
    "            prime[j] = 0\n",
    "print([i for i in range(101, 201) if prime[i]])\n",
    "print(sum(prime[101:201]))"
   ]
  },
  {
   "cell_type": "code",
   "execution_count": 3,
   "metadata": {},
   "outputs": [
    {
     "data": {
      "text/plain": [
       "0.56"
      ]
     },
     "execution_count": 3,
     "metadata": {},
     "output_type": "execute_result"
    }
   ],
   "source": [
    "from random import randint\n",
    "randint(51, 188) / 100"
   ]
  },
  {
   "cell_type": "code",
   "execution_count": 2,
   "metadata": {},
   "outputs": [
    {
     "name": "stdout",
     "output_type": "stream",
     "text": [
      "Mozilla/5.0 (Windows NT 6.1; rv:21.0) Gecko/20130401 Firefox/21.0\n",
      "Mozilla/5.0 (Windows NT 6.2; WOW64) AppleWebKit/537.36 (KHTML, like Gecko) Chrome/30.0.1599.17 Safari/537.36\n",
      "Mozilla/5.0 (X11; Ubuntu; Linux x86_64; rv:17.0) Gecko/20100101 Firefox/17.0.6\n",
      "Mozilla/5.0 (Windows NT 6.3; WOW64) AppleWebKit/537.36 (KHTML, like Gecko) Chrome/41.0.2225.0 Safari/537.36\n",
      "Mozilla/5.0 (Macintosh; Intel Mac OS X 10_8_2) AppleWebKit/537.17 (KHTML, like Gecko) Chrome/24.0.1309.0 Safari/537.17\n",
      "Mozilla/5.0 (Windows NT 5.1) AppleWebKit/537.36 (KHTML, like Gecko) Chrome/35.0.3319.102 Safari/537.36\n",
      "Mozilla/5.0 (Windows NT 6.2) AppleWebKit/537.36 (KHTML, like Gecko) Chrome/28.0.1467.0 Safari/537.36\n",
      "Mozilla/5.0 (X11; CrOS i686 3912.101.0) AppleWebKit/537.36 (KHTML, like Gecko) Chrome/27.0.1453.116 Safari/537.36\n",
      "Mozilla/5.0 (Macintosh; Intel Mac OS X 10_8_3) AppleWebKit/537.36 (KHTML, like Gecko) Chrome/27.0.1453.93 Safari/537.36\n",
      "Mozilla/5.0 (Windows NT 5.1; rv:31.0) Gecko/20100101 Firefox/31.0\n"
     ]
    }
   ],
   "source": [
    "from fake_useragent import UserAgent\n",
    "\n",
    "ua = UserAgent()\n",
    "for _ in range(10):\n",
    "    print(ua.random)"
   ]
  },
  {
   "cell_type": "code",
   "execution_count": 3,
   "metadata": {},
   "outputs": [
    {
     "name": "stdout",
     "output_type": "stream",
     "text": [
      "1x1==1\t\n",
      "2x1==2\t\n",
      "2x2==4\t\n",
      "3x1==3\t\n",
      "3x2==6\t\n",
      "3x3==9\t\n",
      "4x1==4\t\n",
      "4x2==8\t\n",
      "4x3==12\t\n",
      "4x4==16\t\n",
      "5x1==5\t\n",
      "5x2==10\t\n",
      "5x3==15\t\n",
      "5x4==20\t\n",
      "5x5==25\t\n",
      "6x1==6\t\n",
      "6x2==12\t\n",
      "6x3==18\t\n",
      "6x4==24\t\n",
      "6x5==30\t\n",
      "6x6==36\t\n",
      "7x1==7\t\n",
      "7x2==14\t\n",
      "7x3==21\t\n",
      "7x4==28\t\n",
      "7x5==35\t\n",
      "7x6==42\t\n",
      "7x7==49\t\n",
      "8x1==8\t\n",
      "8x2==16\t\n",
      "8x3==24\t\n",
      "8x4==32\t\n",
      "8x5==40\t\n",
      "8x6==48\t\n",
      "8x7==56\t\n",
      "8x8==64\t\n",
      "9x1==9\t\n",
      "9x2==18\t\n",
      "9x3==27\t\n",
      "9x4==36\t\n",
      "9x5==45\t\n",
      "9x6==54\t\n",
      "9x7==63\t\n",
      "9x8==72\t\n",
      "9x9==81\t\n"
     ]
    }
   ],
   "source": [
    "for x in range(1, 10):\n",
    "    for y in range(1, x + 1):\n",
    "        print(f'{x}x{y}=={x*y}\\t')\n",
    "    print('\\n')"
   ]
  },
  {
   "cell_type": "code",
   "execution_count": null,
   "metadata": {},
   "outputs": [],
   "source": []
  }
 ],
 "metadata": {
  "kernelspec": {
   "display_name": "Python 3.10.6 64-bit",
   "language": "python",
   "name": "python3"
  },
  "language_info": {
   "codemirror_mode": {
    "name": "ipython",
    "version": 3
   },
   "file_extension": ".py",
   "mimetype": "text/x-python",
   "name": "python",
   "nbconvert_exporter": "python",
   "pygments_lexer": "ipython3",
   "version": "3.10.6"
  },
  "orig_nbformat": 4,
  "vscode": {
   "interpreter": {
    "hash": "dfbf064e0f2c8839bc658dd75dfc0b8f09a0440078cae3024109b27659b69d06"
   }
  }
 },
 "nbformat": 4,
 "nbformat_minor": 2
}
