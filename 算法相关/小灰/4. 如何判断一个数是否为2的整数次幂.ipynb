{
 "cells": [
  {
   "cell_type": "code",
   "execution_count": 20,
   "metadata": {},
   "outputs": [
    {
     "data": {
      "text/plain": [
       "True"
      ]
     },
     "execution_count": 20,
     "metadata": {},
     "output_type": "execute_result"
    }
   ],
   "source": [
    "def isPowerOf2(num: int):\n",
    "    return num.bit_length() - 1 == (num - 1).bit_count()\n",
    "\n",
    "\n",
    "isPowerOf2(8)"
   ]
  },
  {
   "cell_type": "code",
   "execution_count": 21,
   "metadata": {},
   "outputs": [
    {
     "data": {
      "text/plain": [
       "('0b1000', 1, 4, '0b111')"
      ]
     },
     "execution_count": 21,
     "metadata": {},
     "output_type": "execute_result"
    }
   ],
   "source": [
    "bin(8), (8).bit_count(), (8).bit_length(), bin(7)\n"
   ]
  },
  {
   "cell_type": "code",
   "execution_count": 35,
   "metadata": {},
   "outputs": [
    {
     "data": {
      "text/plain": [
       "(True, '0b1000', '0b111')"
      ]
     },
     "execution_count": 35,
     "metadata": {},
     "output_type": "execute_result"
    }
   ],
   "source": [
    "def isPowerOf2(num: int):\n",
    "    return (num & (num - 1)) == 0\n",
    "\n",
    "\n",
    "isPowerOf2(8), bin(8), bin(7)\n"
   ]
  },
  {
   "cell_type": "code",
   "execution_count": 29,
   "metadata": {},
   "outputs": [
    {
     "name": "stdout",
     "output_type": "stream",
     "text": [
      "True False\n",
      "4 16\n",
      "8 0\n",
      "0b1011 0 0\n",
      "0b1011 0b1111\n",
      "0b1011 0b1001\n"
     ]
    }
   ],
   "source": [
    "# 判断奇数偶数\n",
    "print(8 & 1 == 0, 7 & 1 == 0)\n",
    "# 除以2 乘以2\n",
    "print(8 >> 1, 8 << 1)\n",
    "# 乘以2**n 除以2**n\n",
    "print(1 << 3, 4 * (1 >> 2))\n",
    "# 读取x位的值\n",
    "x = 2\n",
    "print(bin(11), (11 >> x) & 1, (1 << x) & 11)\n",
    "# 标记x位为1\n",
    "x = 2\n",
    "print(bin(11), bin(11 | (1 << x)))\n",
    "# 标记x位为0\n",
    "x = 1\n",
    "print(bin(11), bin(11 & ~(1 << x)))  # bin(11 & ((1 << x) - 1))\n"
   ]
  },
  {
   "cell_type": "markdown",
   "metadata": {},
   "source": [
    "11的二进制是1011，如果右移一位的话，将变成0101，也就是5。\n",
    "\n",
    "现在我们考虑11除以8的余数，很显然是3；因为8是2的3次幂，求余时相当于除以2的3次幂，也就是把1011右移3位，该过程会把1011的低3位011给移走，事实上，这个被移走的011就是11除以8的余数！但是，我们该如何把这个011给保存下来呢？\n",
    "\n",
    "现在的问题就转化为如何保存11的二进制1011的低三位数字了——这时就是按位与运算出马的时候了！和1做与运算会保存原来的数字，所以我们就可以用1011&0111来计算。那么这个0111又是如何得到的呢？有两种方法，第一种是2^N-1，比如8按照此公式就得出了0111；# error 第二种是8的二进制取反，即1000取反得到0111。\n",
    "\n",
    "综上所述，位运算求余一定要注意，只适合于除数是2的N次方的情况。其原理就是：对2的N次方求余，就预示着数字将向右移N位；这被右移的N位，就是余数！只要我们再用与运算将这N位保存下来即可！"
   ]
  },
  {
   "cell_type": "code",
   "execution_count": 27,
   "metadata": {},
   "outputs": [
    {
     "data": {
      "text/plain": [
       "(7, 7, 7, 11111)"
      ]
     },
     "execution_count": 27,
     "metadata": {},
     "output_type": "execute_result"
    }
   ],
   "source": [
    "# 取余数 https://blog.csdn.net/actionzh/article/details/78976082\n",
    "x = 11111\n",
    "x % (1 << 3), x & ((1 << 3) - 1), x % 8 # x & ~(1 << 3)\n"
   ]
  },
  {
   "cell_type": "code",
   "execution_count": 21,
   "metadata": {},
   "outputs": [
    {
     "data": {
      "text/plain": [
       "('0b111', '0b1011')"
      ]
     },
     "execution_count": 21,
     "metadata": {},
     "output_type": "execute_result"
    }
   ],
   "source": [
    "bin(((1 << 3) - 1)),bin(11)"
   ]
  },
  {
   "cell_type": "code",
   "execution_count": null,
   "metadata": {},
   "outputs": [],
   "source": []
  }
 ],
 "metadata": {
  "interpreter": {
   "hash": "97367d2de1780ea7c502b529f25888c1b53c0430a7611816b6c7cf19d8435228"
  },
  "kernelspec": {
   "display_name": "Python 3.10.4 64-bit (windows store)",
   "language": "python",
   "name": "python3"
  },
  "language_info": {
   "codemirror_mode": {
    "name": "ipython",
    "version": 3
   },
   "file_extension": ".py",
   "mimetype": "text/x-python",
   "name": "python",
   "nbconvert_exporter": "python",
   "pygments_lexer": "ipython3",
   "version": "3.10.4"
  },
  "orig_nbformat": 4
 },
 "nbformat": 4,
 "nbformat_minor": 2
}
