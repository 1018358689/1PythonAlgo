{
 "cells": [
  {
   "cell_type": "code",
   "execution_count": 1,
   "metadata": {},
   "outputs": [
    {
     "data": {
      "text/plain": [
       "['ape', 'apple', 'banana', 'he', 'orange']"
      ]
     },
     "execution_count": 1,
     "metadata": {},
     "output_type": "execute_result"
    }
   ],
   "source": [
    "# ['banana','apple','orange','ape','he']\n",
    "def radixSort(words: list):\n",
    "    minAscii = ord('a') - 1 # 基准\n",
    "\n",
    "    def getAscii(word: str, index: int):\n",
    "        if index > len(word) - 1:\n",
    "            return minAscii\n",
    "        return ord(word[index])\n",
    "\n",
    "    maxSz = len(max(words, key=len))\n",
    "    for i in range(maxSz - 1, -1, -1): # 从后往前\n",
    "        # 稳定计数排序\n",
    "        countSort = [0] * 27\n",
    "        for word in words:\n",
    "            curAscii = getAscii(word, i)\n",
    "            countSort[curAscii - minAscii] += 1\n",
    "        for j in range(1, len(countSort)):\n",
    "            countSort[j] += countSort[j - 1]\n",
    "        localRes = [0] * len(words)\n",
    "        for word in words[::-1]:\n",
    "            curAscii = getAscii(word, i)\n",
    "            localRes[countSort[curAscii - minAscii] - 1] = word\n",
    "            countSort[curAscii - minAscii] -= 1\n",
    "        words[:] = localRes\n",
    "    return words\n",
    "\n",
    "\n",
    "radixSort(['banana', 'apple', 'orange', 'ape', 'he'])\n"
   ]
  },
  {
   "cell_type": "code",
   "execution_count": 3,
   "metadata": {},
   "outputs": [
    {
     "data": {
      "text/plain": [
       "['ape', 'apple', 'banana', 'he', 'orange']"
      ]
     },
     "execution_count": 3,
     "metadata": {},
     "output_type": "execute_result"
    }
   ],
   "source": [
    "# ['banana','apple','orange','ape','he']\n",
    "def radixSort(words: list):\n",
    "    minAscii = ord('a') - 1  # 补足时候最小ascii\n",
    "\n",
    "    def getAscii(word: str, index: int):\n",
    "        if index > len(word) - 1:\n",
    "            return minAscii\n",
    "        return ord(word[index])\n",
    "\n",
    "    maxSz = len(max(words, key=len))\n",
    "    for i in range(maxSz - 1, -1, -1):  # 从后往前\n",
    "        # 稳定计数排序\n",
    "        localMaxAscii = getAscii(max(words, key=lambda x: getAscii(x, i)), i)  # 局部最大ascii\n",
    "        localMinAscii = getAscii(min(words, key=lambda x: getAscii(x, i)), i)  # 基准\n",
    "        d = localMaxAscii - localMinAscii\n",
    "        countSort = [0] * (d + 1)\n",
    "        for word in words:\n",
    "            curAscii = getAscii(word, i)\n",
    "            countSort[curAscii - localMinAscii] += 1\n",
    "        for j in range(1, len(countSort)):\n",
    "            countSort[j] += countSort[j - 1]\n",
    "        localRes = [0] * len(words)\n",
    "        for word in words[::-1]:\n",
    "            curAscii = getAscii(word, i)\n",
    "            localRes[countSort[curAscii - localMinAscii] - 1] = word\n",
    "            countSort[curAscii - localMinAscii] -= 1\n",
    "        words[:] = localRes\n",
    "    return words\n",
    "\n",
    "\n",
    "radixSort(['banana', 'apple', 'orange', 'ape', 'he'])\n"
   ]
  },
  {
   "cell_type": "code",
   "execution_count": null,
   "metadata": {},
   "outputs": [],
   "source": []
  }
 ],
 "metadata": {
  "interpreter": {
   "hash": "97367d2de1780ea7c502b529f25888c1b53c0430a7611816b6c7cf19d8435228"
  },
  "kernelspec": {
   "display_name": "Python 3.10.4 64-bit (windows store)",
   "language": "python",
   "name": "python3"
  },
  "language_info": {
   "codemirror_mode": {
    "name": "ipython",
    "version": 3
   },
   "file_extension": ".py",
   "mimetype": "text/x-python",
   "name": "python",
   "nbconvert_exporter": "python",
   "pygments_lexer": "ipython3",
   "version": "3.10.4"
  },
  "orig_nbformat": 4
 },
 "nbformat": 4,
 "nbformat_minor": 2
}
