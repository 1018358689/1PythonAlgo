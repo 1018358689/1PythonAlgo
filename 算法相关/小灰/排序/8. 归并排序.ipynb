{
 "cells": [
  {
   "cell_type": "code",
   "execution_count": 10,
   "metadata": {},
   "outputs": [
    {
     "data": {
      "text/plain": [
       "[1, 2, 5, 6]"
      ]
     },
     "execution_count": 10,
     "metadata": {},
     "output_type": "execute_result"
    }
   ],
   "source": [
    "nums = [1,2,3,4]\n",
    "s = [5,6]\n",
    "nums[2:]=[]+s[:]+[]\n",
    "nums"
   ]
  },
  {
   "cell_type": "code",
   "execution_count": 2,
   "metadata": {},
   "outputs": [
    {
     "name": "stdout",
     "output_type": "stream",
     "text": [
      "[2, 2, 3, 4, 4, 5, 5, 6, 8]\n"
     ]
    }
   ],
   "source": [
    "def mergeSort(nums: list, si: int, ei: int):\n",
    "    # 需要参考 https://mp.weixin.qq.com/s/885uGVhlffWAxjgIEW-TiA 归并树状图方便理解 前序分后序治\n",
    "    def dc(si: int, ei: int):\n",
    "        if si >= ei: # 一个元素无需操作\n",
    "            return\n",
    "        # 折半拆成两个小集合,分别进行向下递归直到小集合大小为1\n",
    "        mid = si + ei >> 1\n",
    "        dc(si, mid) # 集合1范围 [si,mid]\n",
    "        dc(mid + 1, ei) # 集合2范围 [mid+1,ei]\n",
    "        # 向上归并,将两个有序小集合归并成一个大集合\n",
    "        merge(si, mid, ei)\n",
    "\n",
    "    def merge(si: int, mid: int, ei: int):  # [si,mid][mid+1,ei]\n",
    "        sortNum = [0] * (ei - si + 1)\n",
    "        p, p1, p2 = 0, si, mid + 1\n",
    "        while p1 <= mid and p2 <= ei:\n",
    "            if nums[p1] < nums[p2]:\n",
    "                sortNum[p] = nums[p1]\n",
    "                p1 += 1\n",
    "            else:\n",
    "                sortNum[p] = nums[p2]\n",
    "                p2 += 1\n",
    "            p += 1\n",
    "        sortNum[p:] = nums[p1:mid + 1] + nums[p2:ei + 1]\n",
    "        nums[si:ei + 1] = sortNum\n",
    "\n",
    "    dc(si, ei)\n",
    "    print(nums)\n",
    "\n",
    "\n",
    "nums = [4, 5, 3, 2, 8, 6, 2, 5, 4]\n",
    "mergeSort(nums, 0, len(nums) - 1)\n"
   ]
  },
  {
   "cell_type": "code",
   "execution_count": 3,
   "metadata": {},
   "outputs": [
    {
     "data": {
      "text/plain": [
       "[2, 2, 3, 4, 4, 5, 5, 6, 8]"
      ]
     },
     "execution_count": 3,
     "metadata": {},
     "output_type": "execute_result"
    }
   ],
   "source": [
    "def mergeSort(nums: list):\n",
    "\n",
    "    def dc(nums:list):\n",
    "        if len(nums)==1:\n",
    "            return nums\n",
    "        mid = len(nums)>> 1\n",
    "        left = dc(nums[:mid])\n",
    "        right = dc(nums[mid:])\n",
    "        return merge(left, right)\n",
    "\n",
    "    def merge(nums1: list, nums2: list):\n",
    "        sz1, sz2 = len(nums1), len(nums2)\n",
    "        sortNum = [0] * (sz1 + sz2)\n",
    "        p = p1 = p2 = 0\n",
    "        while p1 < sz1 and p2 < sz2:\n",
    "            if nums1[p1] < nums2[p2]:\n",
    "                sortNum[p] = nums1[p1]\n",
    "                p1 += 1\n",
    "            else:\n",
    "                sortNum[p] = nums2[p2]\n",
    "                p2 += 1\n",
    "            p += 1\n",
    "        sortNum[p:] = nums1[p1:] + nums2[p2:]\n",
    "        return sortNum\n",
    "\n",
    "    return dc(nums)\n",
    "\n",
    "\n",
    "nums = [4, 5, 3, 2, 8, 6, 2, 5, 4]\n",
    "mergeSort(nums)\n"
   ]
  },
  {
   "cell_type": "code",
   "execution_count": null,
   "metadata": {},
   "outputs": [],
   "source": []
  }
 ],
 "metadata": {
  "interpreter": {
   "hash": "97367d2de1780ea7c502b529f25888c1b53c0430a7611816b6c7cf19d8435228"
  },
  "kernelspec": {
   "display_name": "Python 3.10.4 64-bit (windows store)",
   "language": "python",
   "name": "python3"
  },
  "language_info": {
   "codemirror_mode": {
    "name": "ipython",
    "version": 3
   },
   "file_extension": ".py",
   "mimetype": "text/x-python",
   "name": "python",
   "nbconvert_exporter": "python",
   "pygments_lexer": "ipython3",
   "version": "3.10.4"
  },
  "orig_nbformat": 4
 },
 "nbformat": 4,
 "nbformat_minor": 2
}
