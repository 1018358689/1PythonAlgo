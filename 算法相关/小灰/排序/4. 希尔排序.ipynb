{
 "cells": [
  {
   "cell_type": "code",
   "execution_count": 2,
   "metadata": {},
   "outputs": [
    {
     "name": "stdout",
     "output_type": "stream",
     "text": [
      "[5, 2, 1, 3, 9, 8, 6, 7]\n",
      "[1, 2, 5, 3, 6, 7, 9, 8]\n",
      "[1, 2, 3, 5, 6, 7, 8, 9]\n"
     ]
    }
   ],
   "source": [
    "# 希尔排序是插入排序的升级 插入排序比较移动的步长是1，希尔排序中改进该步长，从大缩小到1\n",
    "# 希尔排序朴素方法 希尔增量 每次折半步长\n",
    "def shellSort(nums: list) -> None:\n",
    "    d = len(nums) # 希尔排序的增量\n",
    "    while d > 1:\n",
    "        d //= 2\n",
    "        for start in range(d):\n",
    "            # 插入排序\n",
    "            # [start,start+d,start+2d,start+3d,start+4d]\n",
    "            for i in range(start + d, len(nums), d): # 插入的范围 除第一个外\n",
    "                insertValue = nums[i]\n",
    "                j = i - d\n",
    "                while j >= start and nums[j] > insertValue:\n",
    "                    nums[j + d] = nums[j]\n",
    "                    j -= d\n",
    "                nums[j + d] = insertValue\n",
    "        print(nums)\n",
    "\n",
    "\n",
    "shellSort([5, 8, 6, 3, 9, 2, 1, 7])\n"
   ]
  },
  {
   "cell_type": "code",
   "execution_count": 4,
   "metadata": {},
   "outputs": [
    {
     "name": "stdout",
     "output_type": "stream",
     "text": [
      "7 [5, 8, 6, 3, 9, 2, 1, 7]\n",
      "3 [1, 7, 2, 3, 8, 6, 5, 9]\n",
      "1 [1, 2, 3, 5, 6, 7, 8, 9]\n"
     ]
    }
   ],
   "source": [
    "# Hibbard增量 [1,3,7,15...] \n",
    "# 通项2^k-1 k从1开始\n",
    "def shellSort(nums: list) -> None:\n",
    "    hibbard = []\n",
    "    k = 1\n",
    "    h = 1\n",
    "    while h < len(nums):\n",
    "        hibbard.append(h)\n",
    "        k += 1\n",
    "        h = (1 << k) - 1\n",
    "    for d in hibbard[::-1]:\n",
    "        for start in range(d):\n",
    "            for i in range(start + d, len(nums), d):\n",
    "                insertValue = nums[i]\n",
    "                j = i - d\n",
    "                while j >= start and nums[j] > insertValue:\n",
    "                    nums[j + d] = nums[j]\n",
    "                    j -= d\n",
    "                nums[j + d] = insertValue\n",
    "        print(d,nums)\n",
    "\n",
    "\n",
    "shellSort([5, 8, 6, 3, 9, 2, 1, 7])\n"
   ]
  },
  {
   "cell_type": "code",
   "execution_count": 7,
   "metadata": {},
   "outputs": [
    {
     "name": "stdout",
     "output_type": "stream",
     "text": [
      "5 [2, 1, 6, 3, 9, 5, 8, 7]\n",
      "1 [1, 2, 3, 5, 6, 7, 8, 9]\n"
     ]
    }
   ],
   "source": [
    "# Sedgewick增量 [1,5,19,41,109]\n",
    "# 通项 9*4^k-9*2^k+1 与 4^(k+2)-3*2^(k+2)+1 交替 k从0开始\n",
    "# 通项2可以改写成 16*4^k-12*2^k+1  其中4^k=2^(2*k)\n",
    "def shellSort(nums: list) -> None:\n",
    "    sedgewick = []\n",
    "    cnt = 0\n",
    "    s = 1\n",
    "    while s < len(nums):\n",
    "        sedgewick.append(s)\n",
    "        cnt += 1\n",
    "        k = cnt // 2\n",
    "        if cnt & 1 == 0:  # 偶数\n",
    "            s = 9 * (1 << (k << 1)) - 9 * (1 << k) + 1\n",
    "        else:\n",
    "            s = 16 * (1 << (k << 1)) - 12 * (1 << k) + 1\n",
    "\n",
    "    for d in sedgewick[::-1]:\n",
    "        for start in range(d):\n",
    "            for i in range(start + d, len(nums), d):\n",
    "                insertValue = nums[i]\n",
    "                j = i - d\n",
    "                while j >= start and nums[j] > insertValue:\n",
    "                    nums[j + d] = nums[j]\n",
    "                    j -= d\n",
    "                nums[j + d] = insertValue\n",
    "        print(d, nums)\n",
    "\n",
    "\n",
    "shellSort([5, 8, 6, 3, 9, 2, 1, 7])\n"
   ]
  },
  {
   "cell_type": "code",
   "execution_count": 9,
   "metadata": {},
   "outputs": [
    {
     "data": {
      "text/plain": [
       "[1, 3, 7, 15, 31, 63, 127, 255, 511]"
      ]
     },
     "execution_count": 9,
     "metadata": {},
     "output_type": "execute_result"
    }
   ],
   "source": [
    "hibbard = []\n",
    "k = 1\n",
    "h = 1\n",
    "while h < 1000:\n",
    "    hibbard.append(h)\n",
    "    k += 1\n",
    "    h = (1 << k) - 1\n",
    "hibbard"
   ]
  },
  {
   "cell_type": "code",
   "execution_count": 8,
   "metadata": {},
   "outputs": [
    {
     "data": {
      "text/plain": [
       "[1, 5, 19, 41, 109, 209, 505, 929]"
      ]
     },
     "execution_count": 8,
     "metadata": {},
     "output_type": "execute_result"
    }
   ],
   "source": [
    "sedgewick = []\n",
    "cnt = 0\n",
    "s = 1\n",
    "while s < 1000:\n",
    "    sedgewick.append(s)\n",
    "    cnt += 1\n",
    "    k = cnt // 2\n",
    "    if cnt & 1 == 0:  # 偶数\n",
    "        s = 9 * (1 << (k << 1)) - 9 * (1 << k) + 1\n",
    "    else:\n",
    "        s = 16 * (1 << (k << 1)) - 12 * (1 << k) + 1\n",
    "sedgewick"
   ]
  },
  {
   "cell_type": "code",
   "execution_count": null,
   "metadata": {},
   "outputs": [],
   "source": []
  }
 ],
 "metadata": {
  "interpreter": {
   "hash": "97367d2de1780ea7c502b529f25888c1b53c0430a7611816b6c7cf19d8435228"
  },
  "kernelspec": {
   "display_name": "Python 3.10.4 64-bit (windows store)",
   "language": "python",
   "name": "python3"
  },
  "language_info": {
   "codemirror_mode": {
    "name": "ipython",
    "version": 3
   },
   "file_extension": ".py",
   "mimetype": "text/x-python",
   "name": "python",
   "nbconvert_exporter": "python",
   "pygments_lexer": "ipython3",
   "version": "3.10.4"
  },
  "orig_nbformat": 4
 },
 "nbformat": 4,
 "nbformat_minor": 2
}
