{
 "cells": [
  {
   "cell_type": "code",
   "execution_count": 2,
   "metadata": {},
   "outputs": [
    {
     "data": {
      "text/plain": [
       "[0, 3, 4, 4, 5, 5, 7, 8]"
      ]
     },
     "execution_count": 2,
     "metadata": {},
     "output_type": "execute_result"
    }
   ],
   "source": [
    "# [7,8,5,0,4,3,5,4]\n",
    "# 从0开始\n",
    "def countSortV1(nums: list):\n",
    "    maxNum = max(nums)\n",
    "    numsSort = [0] * (maxNum + 1)\n",
    "    for num in nums:\n",
    "        numsSort[num] += 1\n",
    "    ans = []\n",
    "    for num, cnt in enumerate(numsSort):\n",
    "        ans += [num] * cnt\n",
    "    return ans\n",
    "\n",
    "\n",
    "countSortV1([7, 8, 5, 0, 4, 3, 5, 4])\n"
   ]
  },
  {
   "cell_type": "code",
   "execution_count": 1,
   "metadata": {},
   "outputs": [
    {
     "data": {
      "text/plain": [
       "[86, 91, 92, 92, 93, 100]"
      ]
     },
     "execution_count": 1,
     "metadata": {},
     "output_type": "execute_result"
    }
   ],
   "source": [
    "# 从任何整数开始\n",
    "def countSortV2(nums: list):\n",
    "    maxNum, minNum = max(nums), min(nums)\n",
    "    d = maxNum - minNum\n",
    "    numsSort = [0] * (d + 1)\n",
    "    for num in nums:\n",
    "        numsSort[num - minNum] += 1\n",
    "    ans = []\n",
    "    for num, cnt in enumerate(numsSort):\n",
    "        num += minNum\n",
    "        ans += [num] * cnt\n",
    "    return ans\n",
    "\n",
    "\n",
    "countSortV2([91, 100, 92, 93, 86, 92])\n"
   ]
  },
  {
   "cell_type": "code",
   "execution_count": 10,
   "metadata": {},
   "outputs": [
    {
     "name": "stdout",
     "output_type": "stream",
     "text": [
      "2223535426640 2223535426640\n",
      "[86, 91, 92, 92, 93, 100]\n",
      "2223535426640 2223535426640\n"
     ]
    }
   ],
   "source": [
    "# 稳定的计数排序\n",
    "def countSortV3(nums: list):\n",
    "    maxNum, minNum = max(nums), min(nums)\n",
    "    d = maxNum - minNum\n",
    "    countArr = [0] * (d + 1)\n",
    "    for n in nums:\n",
    "        countArr[n - minNum] += 1\n",
    "    for i in range(1, len(countArr)):\n",
    "        countArr[i] += countArr[i - 1]\n",
    "    ans = [0] * len(nums)\n",
    "    for n in nums[::-1]:\n",
    "        ans[countArr[n - minNum] - 1] = n\n",
    "        countArr[n - minNum] -= 1\n",
    "    nums[:] = ans\n",
    "\n",
    "\n",
    "nums = [91, 100, 92, 93, 86, 92]\n",
    "print(id(nums[2]), id(nums[5]))\n",
    "countSortV3(nums)\n",
    "print(nums)\n",
    "print(id(nums[2]), id(nums[3]))\n"
   ]
  },
  {
   "cell_type": "code",
   "execution_count": null,
   "metadata": {},
   "outputs": [],
   "source": []
  }
 ],
 "metadata": {
  "interpreter": {
   "hash": "97367d2de1780ea7c502b529f25888c1b53c0430a7611816b6c7cf19d8435228"
  },
  "kernelspec": {
   "display_name": "Python 3.10.4 64-bit (windows store)",
   "language": "python",
   "name": "python3"
  },
  "language_info": {
   "codemirror_mode": {
    "name": "ipython",
    "version": 3
   },
   "file_extension": ".py",
   "mimetype": "text/x-python",
   "name": "python",
   "nbconvert_exporter": "python",
   "pygments_lexer": "ipython3",
   "version": "3.10.4"
  },
  "orig_nbformat": 4
 },
 "nbformat": 4,
 "nbformat_minor": 2
}
