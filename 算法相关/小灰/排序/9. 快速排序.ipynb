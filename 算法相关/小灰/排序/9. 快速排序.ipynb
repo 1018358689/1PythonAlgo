{
 "cells": [
  {
   "cell_type": "code",
   "execution_count": 4,
   "metadata": {},
   "outputs": [
    {
     "name": "stdout",
     "output_type": "stream",
     "text": [
      "[2, 2, 3, 4, 4, 5, 5, 6, 8]\n",
      "...\n",
      "[1, 2, 3, 4, 5, 6, 7, 8, 9]\n"
     ]
    }
   ],
   "source": [
    "def quickSort(arr: list) -> None:\n",
    "    # 分治\n",
    "    def dc(si, ei):  # 分治范围 前后包\n",
    "        # basecase\n",
    "        if si >= ei:\n",
    "            return\n",
    "        # 1.找到基准点\n",
    "        pivot = getPivot(si, ei)  # [si,ei]\n",
    "        # 2.基准点两边分治\n",
    "        dc(si, pivot - 1)\n",
    "        dc(pivot + 1, ei)\n",
    "\n",
    "    # 单循环寻找基准点\n",
    "    def getPivot(si, ei):\n",
    "        pivot = arr[si]  # 默认以第一个元素作为基准点\n",
    "        mark = si  # mark:小于基准点的范围边界[si,mark]\n",
    "        for i in range(si + 1, ei + 1):\n",
    "            # 如果小于基准点 则边界右移+1 然后调换位置把小的换过来\n",
    "            if arr[i] < pivot:\n",
    "                mark += 1\n",
    "                arr[i], arr[mark] = arr[mark], arr[i]\n",
    "        arr[si], arr[mark] = arr[mark], arr[si]  # 最后把mark和原来基准点换位 基准点到范围边界\n",
    "        return mark\n",
    "\n",
    "    dc(0, len(arr) - 1)\n",
    "    print(arr)\n",
    "\n",
    "\n",
    "quickSort([4, 5, 3, 2, 8, 6, 2, 5, 4])\n",
    "print('...')\n",
    "quickSort([9, 8, 7, 6, 5, 4, 3, 2, 1])"
   ]
  },
  {
   "cell_type": "code",
   "execution_count": 1,
   "metadata": {},
   "outputs": [
    {
     "name": "stdout",
     "output_type": "stream",
     "text": [
      "[1, 3, 1, 2]\n"
     ]
    }
   ],
   "source": [
    "# 只对其中部分排序 随机基准\n",
    "from random import randint\n",
    "\n",
    "\n",
    "def quickSort(nums: list, l: int, r: int):\n",
    "\n",
    "    def dc(l, r):\n",
    "        if l >= r:\n",
    "            return\n",
    "        pivot = getPivot(l, r)\n",
    "        dc(l, pivot - 1)\n",
    "        dc(pivot + 1, r)\n",
    "\n",
    "    def getPivot(l, r):\n",
    "        pivot = randint(l, r)\n",
    "        nums[l], nums[pivot] = nums[pivot], nums[l]\n",
    "        mark = l\n",
    "        for i in range(l + 1, r + 1):\n",
    "            if nums[i] < nums[l]:\n",
    "                mark += 1\n",
    "                nums[i], nums[mark] = nums[mark], nums[i]\n",
    "        nums[mark], nums[l] = nums[l], nums[mark]\n",
    "        return mark\n",
    "\n",
    "    dc(l, r)\n",
    "    print(nums)\n",
    "\n",
    "\n",
    "quickSort([1, 3, 2, 1], 2, 3)\n"
   ]
  },
  {
   "cell_type": "code",
   "execution_count": 5,
   "metadata": {},
   "outputs": [
    {
     "name": "stdout",
     "output_type": "stream",
     "text": [
      "[1, 3, 1, 2]\n",
      "[1, 1, 2, 3]\n"
     ]
    },
    {
     "data": {
      "text/plain": [
       "(None, None)"
      ]
     },
     "execution_count": 5,
     "metadata": {},
     "output_type": "execute_result"
    }
   ],
   "source": [
    "# 三数取中\n",
    "def quickSort(nums: list, l: int, r: int):\n",
    "\n",
    "    def dc(l, r):\n",
    "        if l >= r:\n",
    "            return\n",
    "        pivot = getPivot(l, r)\n",
    "        dc(l, pivot - 1)\n",
    "        dc(pivot + 1, r)\n",
    "\n",
    "    def getPivot(l, r):\n",
    "        mi = l + r >> 1\n",
    "        if nums[l] > nums[r]:  # 保证r>l\n",
    "            nums[l], nums[r] = nums[r], nums[l]\n",
    "        if nums[mi] > nums[r]:  # 保证r>m\n",
    "            nums[mi], nums[r] = nums[r], nums[mi]\n",
    "        # 前两步保证r最大\n",
    "        if nums[mi] > nums[l]:  # 说明mi是中间值 交换到最前面\n",
    "            nums[l], nums[mi] = nums[mi], nums[l]\n",
    "        # 基准点l 三数取中结果\n",
    "        mark = l\n",
    "        for i in range(l + 1, r + 1):\n",
    "            if nums[i] < nums[l]:\n",
    "                mark += 1\n",
    "                nums[i], nums[mark] = nums[mark], nums[i]\n",
    "        nums[l], nums[mark] = nums[mark], nums[l]\n",
    "        return mark\n",
    "\n",
    "    dc(l, r)\n",
    "    print(nums)\n",
    "\n",
    "\n",
    "quickSort([1, 3, 2, 1], 2, 3), quickSort([1, 3, 2, 1], 0, 3)\n"
   ]
  },
  {
   "cell_type": "code",
   "execution_count": 10,
   "metadata": {},
   "outputs": [
    {
     "name": "stdout",
     "output_type": "stream",
     "text": [
      "[2, 2, 3, 4, 4, 5, 5, 6, 8]\n",
      "...\n",
      "[1, 2, 3, 4, 5, 6, 7, 8, 9]\n"
     ]
    }
   ],
   "source": [
    "def quickSort(arr: list) -> None:\n",
    "    # 分治\n",
    "    def dc(si, ei):  # 分治范围 前后包\n",
    "        # basecase\n",
    "        if si >= ei:\n",
    "            return\n",
    "        # 1.找到基准点\n",
    "        pivot = getPivot(si, ei)  # [si,ei]\n",
    "        # 2.基准点两边分治\n",
    "        dc(si, pivot - 1)\n",
    "        dc(pivot + 1, ei)\n",
    "\n",
    "    # 单循环排序寻找基准点\n",
    "    def getPivot(si, ei):\n",
    "        pivot = arr[si]  # 默认以第一个元素作为基准点\n",
    "        l, r = si, ei\n",
    "        while l < r:\n",
    "            while l < r and arr[r] > pivot:\n",
    "                r -= 1\n",
    "            while l < r and arr[l] <= pivot:\n",
    "                l += 1\n",
    "            if l < r:\n",
    "                arr[l], arr[r] = arr[r], arr[l]\n",
    "        arr[si], arr[l] = arr[l], arr[si]\n",
    "        return l\n",
    "\n",
    "    dc(0, len(arr) - 1)\n",
    "    print(arr)\n",
    "\n",
    "\n",
    "quickSort([4, 5, 3, 2, 8, 6, 2, 5, 4])\n",
    "print('...')\n",
    "quickSort([9, 8, 7, 6, 5, 4, 3, 2, 1])"
   ]
  },
  {
   "cell_type": "code",
   "execution_count": null,
   "metadata": {},
   "outputs": [],
   "source": []
  }
 ],
 "metadata": {
  "kernelspec": {
   "display_name": "Python 3",
   "language": "python",
   "name": "python3"
  },
  "language_info": {
   "codemirror_mode": {
    "name": "ipython",
    "version": 3
   },
   "file_extension": ".py",
   "mimetype": "text/x-python",
   "name": "python",
   "nbconvert_exporter": "python",
   "pygments_lexer": "ipython3",
   "version": "3.10.5"
  },
  "orig_nbformat": 4,
  "vscode": {
   "interpreter": {
    "hash": "ff4b1fca65a764b45acb559e482afe389d289dd599b9f8c5fd12ff5c2ea46a65"
   }
  }
 },
 "nbformat": 4,
 "nbformat_minor": 2
}
