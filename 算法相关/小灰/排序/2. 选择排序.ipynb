{
 "cells": [
  {
   "cell_type": "code",
   "execution_count": 2,
   "metadata": {},
   "outputs": [
    {
     "name": "stdout",
     "output_type": "stream",
     "text": [
      "[1, 8, 7, 6, 5, 4, 3, 2, 9]\n",
      "[1, 2, 7, 6, 5, 4, 3, 8, 9]\n",
      "[1, 2, 3, 6, 5, 4, 7, 8, 9]\n",
      "[1, 2, 3, 4, 5, 6, 7, 8, 9]\n",
      "[1, 2, 3, 4, 5, 6, 7, 8, 9]\n",
      "[1, 2, 3, 4, 5, 6, 7, 8, 9]\n",
      "[1, 2, 3, 4, 5, 6, 7, 8, 9]\n",
      "[1, 2, 3, 4, 5, 6, 7, 8, 9]\n"
     ]
    }
   ],
   "source": [
    "def selectionSort(nums: list) -> None:\n",
    "    for i in range(len(nums) - 1):  # i:要确定的index\n",
    "        minIndex = i\n",
    "        for j in range(i + 1, len(nums)):  # 线性查找最小值\n",
    "            if nums[j] < nums[minIndex]:\n",
    "                minIndex = j\n",
    "        if minIndex != i:  # i就是最小值 则无需交换\n",
    "            nums[i], nums[minIndex] = nums[minIndex], nums[i]\n",
    "\n",
    "        print(nums)\n",
    "\n",
    "\n",
    "selectionSort([9, 8, 7, 6, 5, 4, 3, 2, 1])\n"
   ]
  },
  {
   "cell_type": "code",
   "execution_count": 6,
   "metadata": {},
   "outputs": [
    {
     "name": "stdout",
     "output_type": "stream",
     "text": [
      "[1, 8, 7, 6, 5, 4, 3, 2, 9]\n",
      "[1, 2, 7, 6, 5, 4, 3, 8, 9]\n",
      "[1, 2, 3, 6, 5, 4, 7, 8, 9]\n",
      "[1, 2, 3, 4, 5, 6, 7, 8, 9]\n",
      "[1, 2, 3, 4, 5, 6, 7, 8, 9]\n",
      "[1, 2, 3, 4, 5, 6, 7, 8, 9]\n",
      "[1, 2, 3, 4, 5, 6, 7, 8, 9]\n",
      "[1, 2, 3, 4, 5, 6, 7, 8, 9]\n"
     ]
    }
   ],
   "source": [
    "def f(arr: list) -> None:\n",
    "    def Min(arr: list) -> int:  # 线性查找最小值的索引\n",
    "        M = 0\n",
    "        for i in range(1, len(arr)):\n",
    "            if arr[i] < arr[M]:\n",
    "                M = i\n",
    "        return M\n",
    "\n",
    "    for i in range(len(arr) - 1):  # i:要确定的index [0,last-1]\n",
    "        M = i + Min(arr[i:len(arr)])  # 线性查找最小值的索引\n",
    "        arr[i], arr[M] = arr[M], arr[i]  # 与i进行互换\n",
    "        print(arr)\n",
    "\n",
    "\n",
    "f([9, 8, 7, 6, 5, 4, 3, 2, 1])\n"
   ]
  },
  {
   "cell_type": "code",
   "execution_count": null,
   "metadata": {},
   "outputs": [],
   "source": []
  }
 ],
 "metadata": {
  "kernelspec": {
   "display_name": "Python 3.10.6 64-bit",
   "language": "python",
   "name": "python3"
  },
  "language_info": {
   "codemirror_mode": {
    "name": "ipython",
    "version": 3
   },
   "file_extension": ".py",
   "mimetype": "text/x-python",
   "name": "python",
   "nbconvert_exporter": "python",
   "pygments_lexer": "ipython3",
   "version": "3.10.6"
  },
  "orig_nbformat": 4,
  "vscode": {
   "interpreter": {
    "hash": "dfbf064e0f2c8839bc658dd75dfc0b8f09a0440078cae3024109b27659b69d06"
   }
  }
 },
 "nbformat": 4,
 "nbformat_minor": 2
}
