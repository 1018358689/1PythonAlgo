{
 "cells": [
  {
   "cell_type": "markdown",
   "metadata": {},
   "source": [
    "![](2022-05-13-14-30-27.png)"
   ]
  },
  {
   "cell_type": "code",
   "execution_count": 5,
   "metadata": {},
   "outputs": [
    {
     "name": "stdout",
     "output_type": "stream",
     "text": [
      "[1, 8, 7, 6, 5, 4, 3, 2, 9]\n",
      "[1, 2, 7, 6, 5, 4, 3, 8, 9]\n",
      "[1, 2, 3, 6, 5, 4, 7, 8, 9]\n",
      "[1, 2, 3, 4, 5, 6, 7, 8, 9]\n"
     ]
    }
   ],
   "source": [
    "# 鸡尾酒排序 选择排序升级版\n",
    "def cocktailSort(nums: list) -> None:\n",
    "    sz = len(nums)\n",
    "    for i in range(sz >> 1):  # 轮次\n",
    "        minIndex, maxIndex = i, sz - 1 - i  # 初始最大最小值索引\n",
    "        if nums[maxIndex] < nums[minIndex]:  # 初始化\n",
    "            nums[minIndex], nums[maxIndex] = nums[maxIndex], nums[minIndex]\n",
    "        for j in range(i + 1, sz - 1 - i):  # 一次遍历找到最大最小值索引\n",
    "            if nums[j] < nums[minIndex]:\n",
    "                minIndex = j\n",
    "            if nums[j] > nums[maxIndex]:\n",
    "                maxIndex = j\n",
    "        # 最大最小值索引有无易主\n",
    "        if minIndex != i:\n",
    "            nums[i], nums[minIndex] = nums[minIndex], nums[i]\n",
    "        if maxIndex != (mx := sz - 1 - i):\n",
    "            nums[mx], nums[maxIndex] = nums[maxIndex], nums[mx]\n",
    "        print(nums)\n",
    "\n",
    "\n",
    "cocktailSort([9, 8, 7, 6, 5, 4, 3, 2, 1])"
   ]
  },
  {
   "cell_type": "code",
   "execution_count": null,
   "metadata": {},
   "outputs": [],
   "source": []
  }
 ],
 "metadata": {
  "interpreter": {
   "hash": "97367d2de1780ea7c502b529f25888c1b53c0430a7611816b6c7cf19d8435228"
  },
  "kernelspec": {
   "display_name": "Python 3.10.4 64-bit (windows store)",
   "language": "python",
   "name": "python3"
  },
  "language_info": {
   "codemirror_mode": {
    "name": "ipython",
    "version": 3
   },
   "file_extension": ".py",
   "mimetype": "text/x-python",
   "name": "python",
   "nbconvert_exporter": "python",
   "pygments_lexer": "ipython3",
   "version": "3.10.4"
  },
  "orig_nbformat": 4
 },
 "nbformat": 4,
 "nbformat_minor": 2
}
