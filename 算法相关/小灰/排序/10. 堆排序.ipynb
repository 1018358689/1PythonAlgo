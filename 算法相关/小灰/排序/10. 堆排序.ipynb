{
 "cells": [
  {
   "cell_type": "code",
   "execution_count": 9,
   "metadata": {},
   "outputs": [
    {
     "name": "stdout",
     "output_type": "stream",
     "text": [
      "8 [2, 8, 6, 5, 4, 3, 5, 2, 8]\n",
      "7 [2, 5, 6, 2, 4, 3, 5, 8, 8]\n",
      "6 [2, 5, 5, 2, 4, 3, 6, 8, 8]\n",
      "5 [3, 4, 5, 2, 2, 5, 6, 8, 8]\n",
      "4 [2, 4, 3, 2, 5, 5, 6, 8, 8]\n",
      "3 [2, 2, 3, 4, 5, 5, 6, 8, 8]\n",
      "2 [2, 2, 3, 4, 5, 5, 6, 8, 8]\n",
      "1 [2, 2, 3, 4, 5, 5, 6, 8, 8]\n"
     ]
    }
   ],
   "source": [
    "# 大顶堆实现 从小到大正序\n",
    "def heapSort(nums: list):\n",
    "\n",
    "    def downAdjust(parentIndex: int, length: int):  # 无插入操作 只有删除操作 所以无序上浮 只需下沉\n",
    "        insertValue = nums[parentIndex]\n",
    "        childIndex = (parentIndex << 1) + 1\n",
    "        while childIndex < length:\n",
    "            if (r := childIndex + 1) < length and nums[r] > nums[childIndex]:\n",
    "                childIndex += 1\n",
    "            if nums[childIndex] > insertValue:\n",
    "                nums[parentIndex] = nums[childIndex]\n",
    "                parentIndex = childIndex\n",
    "                childIndex = (parentIndex << 1) + 1\n",
    "            else:\n",
    "                break\n",
    "        nums[parentIndex] = insertValue\n",
    "\n",
    "    for i in range((len(nums) - 1 - 1) >> 1, -1, -1):\n",
    "        downAdjust(i, len(nums))\n",
    "    for i in range(len(nums) - 1, 0, -1):\n",
    "        nums[i], nums[0] = nums[0], nums[i]\n",
    "        print(i, nums)\n",
    "        downAdjust(0, i)\n",
    "\n",
    "\n",
    "heapSort([4, 5, 3, 2, 8, 6, 5, 8, 2])\n"
   ]
  },
  {
   "cell_type": "code",
   "execution_count": null,
   "metadata": {},
   "outputs": [],
   "source": []
  }
 ],
 "metadata": {
  "interpreter": {
   "hash": "97367d2de1780ea7c502b529f25888c1b53c0430a7611816b6c7cf19d8435228"
  },
  "kernelspec": {
   "display_name": "Python 3.10.4 64-bit (windows store)",
   "language": "python",
   "name": "python3"
  },
  "language_info": {
   "codemirror_mode": {
    "name": "ipython",
    "version": 3
   },
   "file_extension": ".py",
   "mimetype": "text/x-python",
   "name": "python",
   "nbconvert_exporter": "python",
   "pygments_lexer": "ipython3",
   "version": "3.10.4"
  },
  "orig_nbformat": 4
 },
 "nbformat": 4,
 "nbformat_minor": 2
}
