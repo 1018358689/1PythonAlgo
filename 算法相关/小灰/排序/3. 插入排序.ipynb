{
 "cells": [
  {
   "cell_type": "code",
   "execution_count": 3,
   "metadata": {},
   "outputs": [
    {
     "name": "stdout",
     "output_type": "stream",
     "text": [
      "[8, 9, 7, 6, 5, 4, 3, 2, 1]\n",
      "[7, 8, 9, 6, 5, 4, 3, 2, 1]\n",
      "[6, 7, 8, 9, 5, 4, 3, 2, 1]\n",
      "[5, 6, 7, 8, 9, 4, 3, 2, 1]\n",
      "[4, 5, 6, 7, 8, 9, 3, 2, 1]\n",
      "[3, 4, 5, 6, 7, 8, 9, 2, 1]\n",
      "[2, 3, 4, 5, 6, 7, 8, 9, 1]\n",
      "[1, 2, 3, 4, 5, 6, 7, 8, 9]\n"
     ]
    }
   ],
   "source": [
    "def insertSort(nums: list) -> None:\n",
    "    for i in range(1, len(nums)):  # 要插入扑克的范围\n",
    "        insertValue = nums[i]  # 要插入的扑克牌\n",
    "        j = i - 1  # 要插入的有序区域范围 [0,j]\n",
    "        while j >= 0 and insertValue < nums[j]:\n",
    "            nums[j + 1] = nums[j]  # 如果插入值比当前值小,当前扑克往右边挪一下\n",
    "            j -= 1\n",
    "        nums[j + 1] = insertValue  # 如果插入值比当前值大,扑克插入当前扑克右边\n",
    "        print(nums)\n",
    "\n",
    "\n",
    "insertSort([9, 8, 7, 6, 5, 4, 3, 2, 1])"
   ]
  },
  {
   "cell_type": "code",
   "execution_count": 5,
   "metadata": {},
   "outputs": [
    {
     "name": "stdout",
     "output_type": "stream",
     "text": [
      "[8, 9, 7, 6, 5, 4, 3, 2, 1]\n",
      "[7, 8, 9, 6, 5, 4, 3, 2, 1]\n",
      "[6, 7, 8, 9, 5, 4, 3, 2, 1]\n",
      "[5, 6, 7, 8, 9, 4, 3, 2, 1]\n",
      "[4, 5, 6, 7, 8, 9, 3, 2, 1]\n",
      "[3, 4, 5, 6, 7, 8, 9, 2, 1]\n",
      "[2, 3, 4, 5, 6, 7, 8, 9, 1]\n",
      "[1, 2, 3, 4, 5, 6, 7, 8, 9]\n"
     ]
    }
   ],
   "source": [
    "# 利用二分查找 减少比较次数 但不能减少移位和插入次数\n",
    "def insertSort(nums: list) -> None:\n",
    "\n",
    "    def search(si: int, ei: int, target: int):  # [si,ei]\n",
    "        l, r = si, ei\n",
    "        while l <= r:\n",
    "            m = l + r >> 1\n",
    "            if nums[m] > target:\n",
    "                r = m - 1\n",
    "            else:\n",
    "                l = m + 1\n",
    "        return l\n",
    "\n",
    "    for i in range(1, len(nums)):\n",
    "        insertValue = nums[i]\n",
    "        ei = i - 1  # 要插入范围 [0,ei]\n",
    "        insertIndex = search(0, ei, insertValue)  # 插入位置\n",
    "        for j in range(ei, insertIndex - 1, -1):  # 从后往前把[ei,insertIndex]往后移一位\n",
    "            nums[j + 1] = nums[j]\n",
    "        nums[insertIndex] = insertValue\n",
    "        print(nums)\n",
    "\n",
    "\n",
    "insertSort([9, 8, 7, 6, 5, 4, 3, 2, 1])"
   ]
  },
  {
   "cell_type": "code",
   "execution_count": 3,
   "metadata": {},
   "outputs": [
    {
     "name": "stdout",
     "output_type": "stream",
     "text": [
      "[8, 9, 7, 6, 5, 4, 3, 2, 1]\n",
      "[7, 8, 9, 6, 5, 4, 3, 2, 1]\n",
      "[6, 7, 8, 9, 5, 4, 3, 2, 1]\n",
      "[5, 6, 7, 8, 9, 4, 3, 2, 1]\n",
      "[4, 5, 6, 7, 8, 9, 3, 2, 1]\n",
      "[3, 4, 5, 6, 7, 8, 9, 2, 1]\n",
      "[2, 3, 4, 5, 6, 7, 8, 9, 1]\n",
      "[1, 2, 3, 4, 5, 6, 7, 8, 9]\n"
     ]
    }
   ],
   "source": [
    "# 研究二叉堆上浮操作\n",
    "def insertSort(nums: list) -> None:\n",
    "    for i in range(1, len(nums)):  # 要插入范围\n",
    "        insertValue = nums[i]  # 要插入的扑克牌\n",
    "        childIndex = i\n",
    "        parentIndex = childIndex - 1  # 要插入的范围 [0,j]\n",
    "        while parentIndex >= 0 and insertValue < nums[parentIndex]:\n",
    "            nums[childIndex] = nums[parentIndex]  # 如果插入值比当前值小,当前扑克往右边挪一下\n",
    "            childIndex = parentIndex\n",
    "            parentIndex -= 1\n",
    "        nums[childIndex] = insertValue  # 如果插入值比当前值大,扑克插入当前扑克右边\n",
    "        print(nums)\n",
    "\n",
    "\n",
    "insertSort([9, 8, 7, 6, 5, 4, 3, 2, 1])"
   ]
  }
 ],
 "metadata": {
  "interpreter": {
   "hash": "aee8b7b246df8f9039afb4144a1f6fd8d2ca17a180786b69acc140d282b71a49"
  },
  "kernelspec": {
   "display_name": "Python 3.10.2 64-bit",
   "language": "python",
   "name": "python3"
  },
  "language_info": {
   "codemirror_mode": {
    "name": "ipython",
    "version": 3
   },
   "file_extension": ".py",
   "mimetype": "text/x-python",
   "name": "python",
   "nbconvert_exporter": "python",
   "pygments_lexer": "ipython3",
   "version": "3.10.2"
  },
  "orig_nbformat": 4
 },
 "nbformat": 4,
 "nbformat_minor": 2
}
