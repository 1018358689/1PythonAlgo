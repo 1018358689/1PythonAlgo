{
 "cells": [
  {
   "cell_type": "code",
   "execution_count": 1,
   "metadata": {},
   "outputs": [
    {
     "name": "stdout",
     "output_type": "stream",
     "text": [
      "6 [(0, 3), (3, 1), (1, 2)]\n"
     ]
    }
   ],
   "source": [
    "def floyd(grid: list, start: int, end: int):  # [[0,1,100],[1,2,100],[0,2,500]] src dst cost\n",
    "    sz = len(grid)\n",
    "    neis = [[float('inf')] * sz for _ in range(sz)]\n",
    "    path = [[-1] * sz for _ in range(sz)]\n",
    "    for i, j, c in grid:\n",
    "        neis[i][j] = c\n",
    "    for k in range(sz):\n",
    "        for i in range(sz):\n",
    "            for j in range(sz):\n",
    "                if i == j or i == k or j == k or neis[i][k] == float('inf') or neis[k][j] == float('inf'):\n",
    "                    continue\n",
    "                if neis[i][k] + neis[k][j] < neis[i][j]:\n",
    "                    neis[i][j] = neis[i][k] + neis[k][j]\n",
    "                    path[i][j] = k\n",
    "    # 此时neis存储任意两点间最短距离\n",
    "    ijPath = []\n",
    "\n",
    "    def showPath(i, j):\n",
    "        m = path[i][j]\n",
    "        if m == -1: # 直接相连 不需要经过中转的点\n",
    "            ijPath.append((i, j))\n",
    "        else:\n",
    "            showPath(i, m)\n",
    "            showPath(m, j)\n",
    "\n",
    "    showPath(start, end)\n",
    "    print(neis[start][end], ijPath)\n",
    "\n",
    "\n",
    "floyd([[4, 1, 1], [1, 2, 3], [0, 3, 2], [0, 4, 10], [3, 1, 1], [1, 4, 3]], 0, 2)\n"
   ]
  },
  {
   "cell_type": "code",
   "execution_count": null,
   "metadata": {},
   "outputs": [],
   "source": []
  }
 ],
 "metadata": {
  "interpreter": {
   "hash": "97367d2de1780ea7c502b529f25888c1b53c0430a7611816b6c7cf19d8435228"
  },
  "kernelspec": {
   "display_name": "Python 3.10.4 64-bit (windows store)",
   "language": "python",
   "name": "python3"
  },
  "language_info": {
   "codemirror_mode": {
    "name": "ipython",
    "version": 3
   },
   "file_extension": ".py",
   "mimetype": "text/x-python",
   "name": "python",
   "nbconvert_exporter": "python",
   "pygments_lexer": "ipython3",
   "version": "3.10.4"
  },
  "orig_nbformat": 4
 },
 "nbformat": 4,
 "nbformat_minor": 2
}
