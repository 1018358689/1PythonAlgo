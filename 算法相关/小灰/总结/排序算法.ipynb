{
 "cells": [
  {
   "cell_type": "code",
   "execution_count": 2,
   "metadata": {},
   "outputs": [
    {
     "data": {
      "text/plain": [
       "[1.6, 2, 4, 23, 34, 51, 95, 641, 48421]"
      ]
     },
     "execution_count": 2,
     "metadata": {},
     "output_type": "execute_result"
    }
   ],
   "source": [
    "# 冒泡排序\n",
    "def bubbleSort(nums: list):\n",
    "    for i in range(len(nums) - 1): # 要确定的索引\n",
    "        for j in range(len(nums) - 1, i, -1):\n",
    "            if nums[j] < nums[j - 1]: # 从后往前冒泡 后面小的就交换到前面\n",
    "                nums[j], nums[j - 1] = nums[j - 1], nums[j]\n",
    "    return nums\n",
    "\n",
    "\n",
    "bubbleSort([2, 4, 95, 34, 51, 23, 48421, 641, 1.6])\n"
   ]
  },
  {
   "cell_type": "code",
   "execution_count": 3,
   "metadata": {},
   "outputs": [
    {
     "data": {
      "text/plain": [
       "[1.6, 4, 95, 34, 51, 23, 48421, 641, 2]"
      ]
     },
     "execution_count": 3,
     "metadata": {},
     "output_type": "execute_result"
    }
   ],
   "source": [
    "# 选择排序\n",
    "def selectionSort(nums: list):\n",
    "    for i in range(len(nums) - 1): # 要确定的索引\n",
    "        minIndex = i\n",
    "        for j in range(i + 1, len(nums)):\n",
    "            if nums[j] < nums[minIndex]:\n",
    "                minIndex = j\n",
    "        if minIndex != i:\n",
    "            nums[minIndex], nums[i] = nums[i], nums[minIndex]\n",
    "        return nums\n",
    "\n",
    "\n",
    "selectionSort([2, 4, 95, 34, 51, 23, 48421, 641, 1.6])\n"
   ]
  },
  {
   "cell_type": "code",
   "execution_count": 4,
   "metadata": {},
   "outputs": [
    {
     "data": {
      "text/plain": [
       "[1.6, 2, 4, 23, 34, 51, 95, 641, 48421]"
      ]
     },
     "execution_count": 4,
     "metadata": {},
     "output_type": "execute_result"
    }
   ],
   "source": [
    "# 插入排序\n",
    "def insertSort(nums: list):\n",
    "    for i in range(1, len(nums)): # 要插入的牌 (已排好序的边界)\n",
    "        insertVal = nums[i]\n",
    "        j = i - 1 # 手上的牌范围[0,j]\n",
    "        while j >= 0 and nums[j] > insertVal:\n",
    "            nums[j + 1] = nums[j] # 大牌右移\n",
    "            j -= 1\n",
    "        nums[j + 1] = insertVal # 插入牌\n",
    "    return nums\n",
    "\n",
    "\n",
    "insertSort([2, 4, 95, 34, 51, 23, 48421, 641, 1.6])\n"
   ]
  },
  {
   "cell_type": "code",
   "execution_count": 5,
   "metadata": {},
   "outputs": [
    {
     "data": {
      "text/plain": [
       "[1.6, 2, 4, 23, 34, 51, 95, 641, 48421]"
      ]
     },
     "execution_count": 5,
     "metadata": {},
     "output_type": "execute_result"
    }
   ],
   "source": [
    "# 希尔排序\n",
    "def shellSort(nums: list):\n",
    "    d = len(nums)\n",
    "    while d > 1:\n",
    "        d >>= 1\n",
    "        for start in range(d): # 各个起始位置\n",
    "            for i in range(start + d, len(nums), d): # 要插入的牌\n",
    "                insertVal = nums[i]\n",
    "                j = i - d# 手上的牌范围[0,j]\n",
    "                while j >= start and nums[j] > insertVal:\n",
    "                    nums[j + d] = nums[j] # 大牌右移\n",
    "                    j -= d\n",
    "                nums[j + d] = insertVal # 插入牌\n",
    "    return nums\n",
    "\n",
    "\n",
    "shellSort([2, 4, 95, 34, 51, 23, 48421, 641, 1.6])\n"
   ]
  },
  {
   "cell_type": "code",
   "execution_count": 1,
   "metadata": {},
   "outputs": [
    {
     "data": {
      "text/plain": [
       "[1, 1, 2, 2, 2, 3, 9, 22, 29, 33, 33]"
      ]
     },
     "execution_count": 1,
     "metadata": {},
     "output_type": "execute_result"
    }
   ],
   "source": [
    "# 计数排序\n",
    "def countSort(nums:list):\n",
    "    maxNum = max(nums)\n",
    "    countArr = [0]*(maxNum+1) # 索引代表数  值代表频数\n",
    "    # 1.计数\n",
    "    for n in nums:\n",
    "        countArr[n]+=1\n",
    "    # 2.恢复\n",
    "    res = []\n",
    "    for n,cnt in enumerate(countArr):\n",
    "        res+=[n]*cnt\n",
    "    return res\n",
    "\n",
    "countSort([22,3,1,2,1,33,2,33,2,9,29])"
   ]
  },
  {
   "cell_type": "code",
   "execution_count": 20,
   "metadata": {},
   "outputs": [
    {
     "data": {
      "text/plain": [
       "[1, 1, 2, 2, 2, 3, 9, 22, 29, 33, 33]"
      ]
     },
     "execution_count": 20,
     "metadata": {},
     "output_type": "execute_result"
    }
   ],
   "source": [
    "# 稳定的计数排序\n",
    "def stableCountSort(nums: list):\n",
    "    maxNum = max(nums)\n",
    "    countArr = [0] * (maxNum + 1)  # 索引代表数  值代表频数\n",
    "    for n in nums:\n",
    "        countArr[n] += 1\n",
    "    for i in range(1, len(countArr)):\n",
    "        countArr[i] += countArr[i - 1]  # 此时 索引仍代表数 但值代表排在第几位\n",
    "    res = [0] * len(nums)\n",
    "    for n in nums[::-1]:\n",
    "        res[countArr[n] - 1] = n\n",
    "        countArr[n] -= 1\n",
    "    return res\n",
    "\n",
    "\n",
    "stableCountSort([22, 3, 1, 2, 1, 33, 2, 33, 2, 9, 29])\n"
   ]
  },
  {
   "cell_type": "code",
   "execution_count": 2,
   "metadata": {},
   "outputs": [
    {
     "data": {
      "text/plain": [
       "[1.1, 1.9, 2, 2.3, 3, 3.2]"
      ]
     },
     "execution_count": 2,
     "metadata": {},
     "output_type": "execute_result"
    }
   ],
   "source": [
    "# 桶排序\n",
    "def bucketSort(nums: list):\n",
    "    # 1.确定桶数 基准 跨度等\n",
    "    numBucket = len(nums)\n",
    "    maxNum, minNum = max(nums), min(nums)\n",
    "    d = maxNum - minNum\n",
    "    pivot = minNum\n",
    "    buckets = [[] for _ in range(numBucket)]\n",
    "    # 2.把值放入对应的桶\n",
    "    for n in nums:\n",
    "        bucketIndex = int((n - pivot) / (d / (numBucket - 1)))\n",
    "        buckets[bucketIndex].append(n)\n",
    "    # 3.桶内排序\n",
    "    for b in buckets:\n",
    "        b.sort()\n",
    "    # 4.取出内容\n",
    "    res = []\n",
    "    for b in buckets:\n",
    "        res += b\n",
    "    return res\n",
    "\n",
    "\n",
    "bucketSort([1.1, 2, 3, 2.3, 1.9, 3.2])\n"
   ]
  },
  {
   "cell_type": "code",
   "execution_count": 3,
   "metadata": {},
   "outputs": [
    {
     "data": {
      "text/plain": [
       "['ape', 'apple', 'banana', 'he', 'orange']"
      ]
     },
     "execution_count": 3,
     "metadata": {},
     "output_type": "execute_result"
    }
   ],
   "source": [
    "# 基数排序\n",
    "def radixSort(words: list):\n",
    "    # 1.解决对齐问题\n",
    "    def get(word: str, index: int):\n",
    "        if index > len(word) - 1:\n",
    "            return 0\n",
    "        return ord(word[index]) - ord('a') + 1\n",
    "\n",
    "    maxLgh = len(max(words, key=len))\n",
    "    # 2.从低位开始稳定排序\n",
    "    for index in range(maxLgh - 1, -1, -1): # 低位优先排序\n",
    "        # 3.稳定的计数排序\n",
    "        countArr = [0] * 27\n",
    "        for word in words:\n",
    "            countArr[get(word, index)] += 1 # 计数 index:cnt 索引是get的ascii相对值\n",
    "        for i in range(1, 27):\n",
    "            countArr[i] += countArr[i - 1] # index:排第几个\n",
    "        tmp = [0] * len(words)\n",
    "        for word in words[::-1]:\n",
    "            pos = get(word, index)\n",
    "            tmp[countArr[pos] - 1] = word # 相对索引要-1\n",
    "            countArr[pos] -= 1 # 用掉一个也要-1\n",
    "        words[:] = tmp\n",
    "    return words\n",
    "\n",
    "\n",
    "radixSort(['banana', 'apple', 'orange', 'ape', 'he'])\n"
   ]
  },
  {
   "cell_type": "code",
   "execution_count": 17,
   "metadata": {},
   "outputs": [
    {
     "data": {
      "text/plain": [
       "[1.6, 2, 4, 23, 34, 51, 95, 641, 48421]"
      ]
     },
     "execution_count": 17,
     "metadata": {},
     "output_type": "execute_result"
    }
   ],
   "source": [
    "# 归并排序\n",
    "def mergeSort(nums: list, si: int, ei: int):\n",
    "\n",
    "    def merge(si, mi, ei):  # [si,mi] [mi+1,ei]\n",
    "        tmp = []\n",
    "        p1, p2 = si, mi + 1\n",
    "        while p1 <= mi and p2 <= ei:\n",
    "            if nums[p1] < nums[p2]:\n",
    "                tmp.append(nums[p1])\n",
    "                p1 += 1\n",
    "            else:\n",
    "                tmp.append(nums[p2])\n",
    "                p2 += 1\n",
    "        tmp += nums[p1:mi + 1] + nums[p2:ei + 1]\n",
    "        nums[si:ei + 1] = tmp\n",
    "\n",
    "    def dc(si, ei):\n",
    "        # 1.basecase\n",
    "        if si >= ei:\n",
    "            return\n",
    "        # 2.往下归直到 mi-si=ei-(mi-1)=0 长度为1\n",
    "        mi = si + ei >> 1\n",
    "        dc(si, mi)\n",
    "        dc(mi + 1, ei)\n",
    "        # 3.向上并 把两个有序数组合并\n",
    "        merge(si, mi, ei)\n",
    "\n",
    "    dc(si, ei)\n",
    "    return nums\n",
    "\n",
    "\n",
    "mergeSort([2, 4, 95, 34, 51, 23, 48421, 641, 1.6], 0, 8)\n"
   ]
  },
  {
   "cell_type": "code",
   "execution_count": 7,
   "metadata": {},
   "outputs": [
    {
     "data": {
      "text/plain": [
       "[1.6, 2, 4, 23, 34, 51, 95, 641, 48421]"
      ]
     },
     "execution_count": 7,
     "metadata": {},
     "output_type": "execute_result"
    }
   ],
   "source": [
    "# 快速排序\n",
    "def quickSort(nums: list, si: int, ei: int):\n",
    "\n",
    "    def getPivot(si, ei):\n",
    "        pivot = nums[si]\n",
    "        mark = si\n",
    "        for i in range(si + 1, ei + 1):\n",
    "            if nums[i] < pivot:\n",
    "                mark += 1\n",
    "                nums[mark], nums[i] = nums[i], nums[mark]\n",
    "        nums[si], nums[mark] = nums[mark], nums[si]\n",
    "        return mark\n",
    "\n",
    "    def dc(si, ei):\n",
    "        # 1.basecase\n",
    "        if si >= ei:\n",
    "            return\n",
    "        # 2.获取基准点同时 保证左<基准<右\n",
    "        pivot = getPivot(si, ei)\n",
    "        # 3.向下递归\n",
    "        dc(si, pivot - 1)\n",
    "        dc(pivot + 1, ei)\n",
    "\n",
    "    dc(si, ei)\n",
    "    return nums\n",
    "\n",
    "\n",
    "quickSort([2, 4, 95, 34, 51, 23, 48421, 641, 1.6], 0, 8)\n"
   ]
  },
  {
   "cell_type": "code",
   "execution_count": 12,
   "metadata": {},
   "outputs": [
    {
     "data": {
      "text/plain": [
       "[1.6, 2, 4, 23, 34, 51, 95, 641, 48421]"
      ]
     },
     "execution_count": 12,
     "metadata": {},
     "output_type": "execute_result"
    }
   ],
   "source": [
    "# 堆排序\n",
    "\n",
    "\n",
    "# 大顶堆实现 从小到大正序\n",
    "def heapSort(nums: list):\n",
    "    # 下沉自适应\n",
    "    def downAdjust(parent: int, length: int):  # 小的往下沉 大的相对上浮\n",
    "        insertVal = nums[parent]\n",
    "        children = (parent << 1) + 1\n",
    "        while children < length:\n",
    "            if children + 1 < length and nums[children + 1] > nums[children]:\n",
    "                children += 1\n",
    "            if nums[children] > insertVal:\n",
    "                nums[parent] = nums[children]\n",
    "                parent = children\n",
    "                children = (parent << 1) + 1\n",
    "            else:\n",
    "                break\n",
    "        nums[parent] = insertVal\n",
    "    # 1.变成二叉堆结构\n",
    "    for i in range((len(nums) - 2) >> 1, -1, -1):\n",
    "        downAdjust(i, len(nums))\n",
    "    # 2.把第一个最大值放最后 继续把新的首位下沉以满足二叉堆结构\n",
    "    for i in range(len(nums) - 1, 0, -1):\n",
    "        nums[i], nums[0] = nums[0], nums[i]\n",
    "        downAdjust(0, i)\n",
    "    return nums\n",
    "\n",
    "\n",
    "heapSort([2, 4, 95, 34, 51, 23, 48421, 641, 1.6])\n"
   ]
  },
  {
   "cell_type": "code",
   "execution_count": 13,
   "metadata": {},
   "outputs": [
    {
     "data": {
      "text/plain": [
       "[1.6, 2, 4, 23, 34, 51, 95, 641, 48421]"
      ]
     },
     "execution_count": 13,
     "metadata": {},
     "output_type": "execute_result"
    }
   ],
   "source": [
    "# 鸡尾酒排序\n",
    "def cocktailSort(nums: list):\n",
    "    for i in range(len(nums) >> 1):\n",
    "        # 1.找最小最大值\n",
    "        minIndex, maxIndex = i, len(nums) - 1 - i\n",
    "        if nums[minIndex] > nums[maxIndex]:\n",
    "            nums[maxIndex], nums[minIndex] = nums[minIndex], nums[maxIndex]\n",
    "        for j in range(i + 1, len(nums) - 1 - i):\n",
    "            if nums[j] < nums[minIndex]:\n",
    "                minIndex = j\n",
    "            if nums[j] > nums[maxIndex]:\n",
    "                maxIndex = j\n",
    "        # 2.交换到指定位置\n",
    "        if minIndex != i:\n",
    "            nums[minIndex], nums[i] = nums[i], nums[minIndex]\n",
    "        if maxIndex != len(nums) - 1 - i:\n",
    "            nums[len(nums) - 1 - i], nums[maxIndex] = nums[maxIndex], nums[len(nums) - 1 - i]\n",
    "    return nums\n",
    "\n",
    "cocktailSort([2, 4, 95, 34, 51, 23, 48421, 641, 1.6])\n"
   ]
  }
 ],
 "metadata": {
  "interpreter": {
   "hash": "aee8b7b246df8f9039afb4144a1f6fd8d2ca17a180786b69acc140d282b71a49"
  },
  "kernelspec": {
   "display_name": "Python 3.10.2 64-bit",
   "language": "python",
   "name": "python3"
  },
  "language_info": {
   "codemirror_mode": {
    "name": "ipython",
    "version": 3
   },
   "file_extension": ".py",
   "mimetype": "text/x-python",
   "name": "python",
   "nbconvert_exporter": "python",
   "pygments_lexer": "ipython3",
   "version": "3.10.2"
  },
  "orig_nbformat": 4
 },
 "nbformat": 4,
 "nbformat_minor": 2
}
