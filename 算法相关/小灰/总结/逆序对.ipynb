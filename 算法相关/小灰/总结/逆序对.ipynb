{
 "cells": [
  {
   "cell_type": "markdown",
   "metadata": {},
   "source": [
    "# lc offer 51\n",
    "在数组中的两个数字，如果前面一个数字大于后面的数字，则这两个数字组成一个逆序对。输入一个数组，求出这个数组中的逆序对的总数。\n",
    " \n",
    "示例 1:\n",
    "输入: [7,5,6,4]\n",
    "输出: 5\n",
    "\n",
    "来源：力扣（LeetCode）\n",
    "链接：https://leetcode.cn/problems/shu-zu-zhong-de-ni-xu-dui-lcof\n",
    "著作权归领扣网络所有。商业转载请联系官方授权，非商业转载请注明出处。"
   ]
  },
  {
   "cell_type": "code",
   "execution_count": null,
   "metadata": {},
   "outputs": [],
   "source": [
    "# 利用归并排序\n",
    "from typing import List\n",
    "\n",
    "\n",
    "class Solution:\n",
    "\n",
    "    def reversePairs(self, nums: List[int]) -> int:\n",
    "        cnt = 0\n",
    "\n",
    "        def merge(si, mi, ei):  # 对[si,mi] [mi+1,ei]进行归并排序\n",
    "            tmp = []\n",
    "            p1, p2 = si, mi + 1\n",
    "            while p1 <= mi and p2 <= ei:\n",
    "                if nums[p1] <= nums[p2]:\n",
    "                    tmp.append(nums[p1])\n",
    "                    p1 += 1\n",
    "                elif nums[p1] > nums[p2]:  # 触发逆序对要求:前面数字大于后面\n",
    "                    nonlocal cnt\n",
    "                    tmp.append(nums[p2])\n",
    "                    p2 += 1\n",
    "                    cnt += mi - p1 + 1  # [p1,mi]的数字 和 nums[p2]组合成逆序对\n",
    "            tmp += nums[p1:mi + 1] + nums[p2:ei + 1]  # 这个千万别忘了 多余的数全放后面\n",
    "            nums[si:ei + 1] = tmp\n",
    "\n",
    "        def dc(si, ei):\n",
    "            if si >= ei:\n",
    "                return\n",
    "            mi = si + ei >> 1\n",
    "            dc(si, mi)\n",
    "            dc(mi + 1, ei)\n",
    "            merge(si, mi, ei)\n",
    "\n",
    "        dc(0, len(nums) - 1)\n",
    "        return cnt\n"
   ]
  }
 ],
 "metadata": {
  "language_info": {
   "name": "python"
  },
  "orig_nbformat": 4
 },
 "nbformat": 4,
 "nbformat_minor": 2
}
