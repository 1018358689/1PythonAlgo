{
 "cells": [
  {
   "cell_type": "markdown",
   "metadata": {},
   "source": [
    "    (a + b) mod m = (a mod m + b mod m) mod m\n",
    "\n",
    "    (a * b) mod m = ((a mod m) * (b mod m)) mod m"
   ]
  },
  {
   "cell_type": "markdown",
   "metadata": {},
   "source": [
    "设 a = k1 * m + r1，b = k2 * m + r2\n",
    "则 (a + b) % m = ((k1 * m + r1) + (k2 * m + r2)) % m\n",
    "               = ((k1 + k2) * m + (r1 + r2)) % m\n",
    "               = (r1 + r2) % m\n",
    "               = (a % m + b % m) % m\n",
    "所以 (a + b) % m = (a % m + b % m) % m"
   ]
  },
  {
   "cell_type": "code",
   "execution_count": 3,
   "metadata": {},
   "outputs": [
    {
     "data": {
      "text/plain": [
       "(6, 2, 2)"
      ]
     },
     "execution_count": 3,
     "metadata": {},
     "output_type": "execute_result"
    }
   ],
   "source": [
    "3 % 4 + 3 % 4, 6 % 4, (3 % 4 + 3 % 4) % 4\n"
   ]
  },
  {
   "cell_type": "code",
   "execution_count": 5,
   "metadata": {},
   "outputs": [
    {
     "data": {
      "text/plain": [
       "(5, 1, 1)"
      ]
     },
     "execution_count": 5,
     "metadata": {},
     "output_type": "execute_result"
    }
   ],
   "source": [
    "3%4+6%4,9%4,(3%4+6%4)%4"
   ]
  },
  {
   "cell_type": "code",
   "execution_count": null,
   "metadata": {},
   "outputs": [],
   "source": []
  }
 ],
 "metadata": {
  "kernelspec": {
   "display_name": "Python 3.10.5 64-bit",
   "language": "python",
   "name": "python3"
  },
  "language_info": {
   "codemirror_mode": {
    "name": "ipython",
    "version": 3
   },
   "file_extension": ".py",
   "mimetype": "text/x-python",
   "name": "python",
   "nbconvert_exporter": "python",
   "pygments_lexer": "ipython3",
   "version": "3.10.5"
  },
  "orig_nbformat": 4,
  "vscode": {
   "interpreter": {
    "hash": "3196968d684371006099b3d55edeef8ed90365227a30deaef86e5d4aa8519be0"
   }
  }
 },
 "nbformat": 4,
 "nbformat_minor": 2
}
