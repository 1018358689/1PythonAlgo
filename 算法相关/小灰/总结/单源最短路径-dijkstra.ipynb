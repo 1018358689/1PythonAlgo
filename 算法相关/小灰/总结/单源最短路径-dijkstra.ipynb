{
 "cells": [
  {
   "cell_type": "code",
   "execution_count": 6,
   "metadata": {},
   "outputs": [
    {
     "name": "stdout",
     "output_type": "stream",
     "text": [
      "[0, 3, 1, 2] 6\n"
     ]
    }
   ],
   "source": [
    "import heapq\n",
    "\n",
    "\n",
    "def dijkstra(grid: list, start: int, end: int):  # [[0,1,100],[1,2,100],[0,2,500]] src dst cost\n",
    "    sz = len(grid)\n",
    "    neis = [[] for _ in range(sz)]\n",
    "    for i, j, c in grid:\n",
    "        neis[i].append((j, c))\n",
    "    # parents = [0] * sz\n",
    "    parents = {start: None}\n",
    "    pq = [(0, start)]  # cost cur\n",
    "    costs = {start: 0}  # 有些题某个位置状态不一定只是位置参数 还有其他 如lc787 状态由位置和步数一起决定\n",
    "    best = set()\n",
    "    while pq:\n",
    "        cost, cur = heapq.heappop(pq)\n",
    "        if cur == end:\n",
    "            break\n",
    "        best.add(cur)\n",
    "        for nei, c in neis[cur]:\n",
    "            neiCost = cost + c\n",
    "            if nei not in costs or neiCost < costs[nei]:\n",
    "                parents[nei] = cur\n",
    "                costs[nei] = neiCost\n",
    "                heapq.heappush(pq, (neiCost, nei))\n",
    "    path = []\n",
    "    cur = end\n",
    "    while cur is not None:\n",
    "        path.append(cur)\n",
    "        cur = parents[cur]\n",
    "    print(path[::-1], costs[end])\n",
    "\n",
    "\n",
    "dijkstra([[4, 1, 1], [1, 2, 3], [0, 3, 2], [0, 4, 10], [3, 1, 1], [1, 4, 3]], 0, 2)\n"
   ]
  },
  {
   "cell_type": "code",
   "execution_count": null,
   "metadata": {},
   "outputs": [],
   "source": []
  }
 ],
 "metadata": {
  "interpreter": {
   "hash": "97367d2de1780ea7c502b529f25888c1b53c0430a7611816b6c7cf19d8435228"
  },
  "kernelspec": {
   "display_name": "Python 3.10.4 64-bit (windows store)",
   "language": "python",
   "name": "python3"
  },
  "language_info": {
   "codemirror_mode": {
    "name": "ipython",
    "version": 3
   },
   "file_extension": ".py",
   "mimetype": "text/x-python",
   "name": "python",
   "nbconvert_exporter": "python",
   "pygments_lexer": "ipython3",
   "version": "3.10.4"
  },
  "orig_nbformat": 4
 },
 "nbformat": 4,
 "nbformat_minor": 2
}
