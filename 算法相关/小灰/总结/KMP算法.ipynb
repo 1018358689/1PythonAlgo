{
 "cells": [
  {
   "cell_type": "code",
   "execution_count": null,
   "metadata": {},
   "outputs": [],
   "source": [
    "# https://www.zhihu.com/question/21923021\n",
    "def KMP(s: str, p: str):\n",
    "\n",
    "    def getNext(p: str):  # next[i]代表 p[0:i]的最大前后缀的字符个数\n",
    "        next = [0] * len(p)\n",
    "        now = 0  # now指的是next[i-1] 表示p[0:i-1]的最大前后缀的字符个数 也表示已匹配前缀下一个位置\n",
    "        i = 1\n",
    "        while i < len(p): # 当前要确定的next位置\n",
    "            if p[now] == p[i]: # 如果已匹配前缀下一个位置和当前位置相同则可扩展\n",
    "                next[i] = now + 1 # 相当于 next[i]=next[i-1]+1\n",
    "                now += 1\n",
    "                i += 1\n",
    "            elif now == 0: # 已匹配前缀没有相同前后缀 now无法再缩小 \n",
    "                next[i] = 0\n",
    "                i += 1\n",
    "            else:\n",
    "                now = next[now - 1] # 缩小now继续找最大前后缀的下一个位置\n",
    "        return next\n",
    "\n",
    "    next = getNext(p)\n",
    "    i = j = 0  # i对应模式串指针 j对应主串指针\n",
    "    while j < len(s):\n",
    "        if s[j] == p[i]: # 两个指针都前移\n",
    "            i += 1\n",
    "            j += 1\n",
    "        elif i == 0: # 两指针不想等情况 且模式串已经在第一个位置 则主串移动继续和模式串匹配\n",
    "            j += 1\n",
    "        else:\n",
    "            i = next[i - 1] # 根据next数组移动模式串标标尺\n",
    "        if i == len(p): # 匹配成功\n",
    "            return j - i\n",
    "    return -1\n"
   ]
  },
  {
   "cell_type": "code",
   "execution_count": 2,
   "metadata": {},
   "outputs": [],
   "source": [
    "class Solution:\n",
    "\n",
    "    def strStr(self, haystack: str, needle: str) -> int:\n",
    "\n",
    "        def getNext(needle: str): \n",
    "            # 索引j代表j个字符也表示已匹配前缀的下一个位置\n",
    "            # 值i代表needle[0:j-1]的最长相同前后缀字符个数 也表示最长可匹配前缀的下一个位置\n",
    "            next = [0] * (len(needle) + 1)\n",
    "            i = 0\n",
    "            for j in range(2, len(needle) + 1):\n",
    "                while i != 0 and needle[j - 1] != needle[i]:\n",
    "                    i = next[i]\n",
    "                if needle[j - 1] == needle[i]:\n",
    "                    i += 1\n",
    "                next[j] = i\n",
    "            return next\n",
    "\n",
    "        next = getNext(needle)\n",
    "        i = 0\n",
    "        for j in range(len(haystack)):\n",
    "            while i > 0 and haystack[j] != needle[i]:\n",
    "                i = next[i]\n",
    "            if haystack[j] == needle[i]:\n",
    "                i += 1\n",
    "            if i == len(needle):\n",
    "                return j - i + 1\n",
    "        return -1"
   ]
  },
  {
   "cell_type": "code",
   "execution_count": 10,
   "metadata": {},
   "outputs": [
    {
     "data": {
      "text/plain": [
       "[]"
      ]
     },
     "execution_count": 10,
     "metadata": {},
     "output_type": "execute_result"
    }
   ],
   "source": [
    "# https://www.zhihu.com/question/21923021\n",
    "def KMP(s: str, p: str):\n",
    "\n",
    "    def getNext(p: str):  # next[i]代表 p[0:i]的最大前后缀的字符个数\n",
    "        next = [0] * len(p)\n",
    "        now = 0  # now指的是next[i-1] 表示p[0:i-1]的最大前后缀的字符个数 也表示已匹配前缀下一个位置\n",
    "        i = 1\n",
    "        while i < len(p):  # 当前要确定的next位置\n",
    "            if p[now] == p[i]:  # 如果已匹配前缀下一个位置和当前位置相同则可扩展\n",
    "                next[i] = now + 1  # 相当于 next[i]=next[i-1]+1\n",
    "                now += 1\n",
    "                i += 1\n",
    "            elif now == 0:  # 已匹配前缀没有相同前后缀 now无法再缩小\n",
    "                next[i] = 0\n",
    "                i += 1\n",
    "            else:\n",
    "                now = next[now - 1]  # 缩小now继续找最大前后缀的下一个位置\n",
    "        return next\n",
    "\n",
    "    next = getNext(p)\n",
    "    i = j = 0  # i对应模式串指针 j对应主串指针\n",
    "    ans = []\n",
    "    while j < len(s):\n",
    "        if s[j] == p[i]:  # 两个指针都前移\n",
    "            i += 1\n",
    "            j += 1\n",
    "        elif i == 0:  # 两指针不想等情况 且模式串已经在第一个位置 则主串移动继续和模式串匹配\n",
    "            j += 1\n",
    "        else:\n",
    "            i = next[i - 1]  # 根据next数组移动模式串标标尺\n",
    "        if i == len(p):  # 匹配成功\n",
    "            ans.append(j - i)\n",
    "            i = next[i - 1]\n",
    "    return ans\n",
    "\n",
    "\n",
    "KMP('hellollo', 'llx')\n"
   ]
  },
  {
   "cell_type": "code",
   "execution_count": null,
   "metadata": {},
   "outputs": [],
   "source": []
  }
 ],
 "metadata": {
  "interpreter": {
   "hash": "97367d2de1780ea7c502b529f25888c1b53c0430a7611816b6c7cf19d8435228"
  },
  "kernelspec": {
   "display_name": "Python 3.10.4 64-bit (windows store)",
   "language": "python",
   "name": "python3"
  },
  "language_info": {
   "codemirror_mode": {
    "name": "ipython",
    "version": 3
   },
   "file_extension": ".py",
   "mimetype": "text/x-python",
   "name": "python",
   "nbconvert_exporter": "python",
   "pygments_lexer": "ipython3",
   "version": "3.10.4"
  },
  "orig_nbformat": 4
 },
 "nbformat": 4,
 "nbformat_minor": 2
}
