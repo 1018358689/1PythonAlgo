{
 "cells": [
  {
   "cell_type": "code",
   "execution_count": 1,
   "metadata": {},
   "outputs": [],
   "source": [
    "# 摩尔投票是用来找 出现次数超过数组长度一半的数 如果不存在也会返回一个其他数 因此需要再次验证出现次数"
   ]
  },
  {
   "cell_type": "code",
   "execution_count": 2,
   "metadata": {},
   "outputs": [],
   "source": [
    "# lc169 多数元素\n",
    "# https://leetcode.cn/problems/majority-element/"
   ]
  },
  {
   "cell_type": "markdown",
   "metadata": {},
   "source": [
    "摩尔投票\n",
    "投票法简单来说就是不同则抵消，占半数以上的数字必然留到最后。”这句话是摩尔投票法的精髓\n",
    "# 假设有一个擂台，有一组人，每个人有编号，相同编号为一组，依次上场，没人时上去的便是擂主（x），若有人，编号相同则继续站着（人数+1），若不同，假设每个人战斗力相同，都同归于尽，则人数-1；那么到最后站着的肯定是人数占绝对优势的那一组啦~"
   ]
  },
  {
   "cell_type": "code",
   "execution_count": 3,
   "metadata": {},
   "outputs": [],
   "source": [
    "# 摩尔投票\n",
    "from typing import List\n",
    "\n",
    "\n",
    "class Solution:\n",
    "\n",
    "    def majorityElement(self, nums: List[int]) -> int:\n",
    "        cnt = 0  # 擂台上人数\n",
    "        for n in nums:\n",
    "            if cnt == 0:\n",
    "                champion = n  # 擂台没人 我上去就是擂主\n",
    "            cnt += 1 if champion == n else -1  # 碰到自己人一起当擂主 碰到其他帮派的人 派个人取同归于尽\n",
    "        # return champion # 最后的擂主的帮派肯定人数超过一半 不然没法最坏情况同归于尽后还站在擂台上\n",
    "        # 验证champion出现次数 # 本题无需验证 因为明确存在超过一半的数 因此下面解法都不验证\n",
    "        cnt = sum(champion == n for n in nums)\n",
    "        return champion if cnt > len(nums) / 2 else -1\n"
   ]
  },
  {
   "cell_type": "code",
   "execution_count": 4,
   "metadata": {},
   "outputs": [],
   "source": [
    "# 内置计数\n",
    "from typing import List\n",
    "from collections import Counter\n",
    "\n",
    "\n",
    "class Solution:\n",
    "\n",
    "    def majorityElement(self, nums: List[int]) -> int:\n",
    "        cnt = Counter(nums)\n",
    "        for k, v in cnt.items():\n",
    "            if v > len(nums) / 2:\n",
    "                return k"
   ]
  },
  {
   "cell_type": "code",
   "execution_count": 5,
   "metadata": {},
   "outputs": [],
   "source": [
    "# 排序中间位置\n",
    "from typing import List\n",
    "\n",
    "\n",
    "class Solution:\n",
    "\n",
    "    def majorityElement(self, nums: List[int]) -> int:\n",
    "        nums.sort()\n",
    "        return nums[len(nums) // 2]\n"
   ]
  },
  {
   "cell_type": "code",
   "execution_count": null,
   "metadata": {},
   "outputs": [],
   "source": [
    "from typing import List\n",
    "\n",
    "\n",
    "class Solution:\n",
    "    def majorityElement(self, nums: List[int]) -> int:\n",
    "        cnt = 0\n",
    "        maj = None\n",
    "        for n in nums:\n",
    "            if cnt == 0:\n",
    "                maj = n\n",
    "                cnt = 1\n",
    "            elif maj == n:\n",
    "                cnt += 1\n",
    "            else:\n",
    "                cnt -= 1\n",
    "        cnt = sum(maj == n for n in nums)\n",
    "        return maj if cnt > len(nums) / 2 else -1"
   ]
  },
  {
   "cell_type": "code",
   "execution_count": 1,
   "metadata": {},
   "outputs": [],
   "source": [
    "# 排序中间位置 利用快排 找中间位置\n",
    "from typing import List\n",
    "from random import randint\n",
    "\n",
    "\n",
    "class Solution:\n",
    "\n",
    "    def majorityElement(self, nums: List[int]) -> int:\n",
    "\n",
    "        def getPivot(si, ei):\n",
    "            pivot = randint(si, ei)\n",
    "            nums[si], nums[pivot] = nums[pivot], nums[si]\n",
    "            pivot = si\n",
    "            mark = si\n",
    "            for i in range(si + 1, ei + 1):\n",
    "                if nums[i] < nums[pivot]:\n",
    "                    mark += 1\n",
    "                    nums[mark], nums[i] = nums[i], nums[mark]\n",
    "            nums[si], nums[mark] = nums[mark], nums[si]\n",
    "            return mark\n",
    "\n",
    "        def dc(si, ei):\n",
    "            # if si>=ei: # 逼近len(nums)//2 不可能让si>=ei\n",
    "            #     return\n",
    "            pivot = getPivot(si, ei)\n",
    "            if pivot < len(nums) // 2:\n",
    "                return dc(pivot + 1, ei)\n",
    "            elif pivot > len(nums) // 2:\n",
    "                return dc(si, pivot - 1)\n",
    "            return nums[pivot]\n",
    "\n",
    "        return dc(0, len(nums) - 1)\n"
   ]
  }
 ],
 "metadata": {
  "kernelspec": {
   "display_name": "Python 3.10.6 64-bit",
   "language": "python",
   "name": "python3"
  },
  "language_info": {
   "codemirror_mode": {
    "name": "ipython",
    "version": 3
   },
   "file_extension": ".py",
   "mimetype": "text/x-python",
   "name": "python",
   "nbconvert_exporter": "python",
   "pygments_lexer": "ipython3",
   "version": "3.10.6"
  },
  "orig_nbformat": 4,
  "vscode": {
   "interpreter": {
    "hash": "dfbf064e0f2c8839bc658dd75dfc0b8f09a0440078cae3024109b27659b69d06"
   }
  }
 },
 "nbformat": 4,
 "nbformat_minor": 2
}
