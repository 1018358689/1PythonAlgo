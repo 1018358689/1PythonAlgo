{
 "cells": [
  {
   "cell_type": "code",
   "execution_count": 1,
   "metadata": {},
   "outputs": [
    {
     "data": {
      "text/plain": [
       "[[0, 0, 9, 9, 9, 9, 0],\n",
       " [0, 0, 9, 1, 0, 9, 0],\n",
       " [0, 9, 9, 1, 0, 9, 0],\n",
       " [0, 0, 0, 1, 0, 0, 0],\n",
       " [0, 0, 0, 0, 0, 0, 0]]"
      ]
     },
     "execution_count": 1,
     "metadata": {},
     "output_type": "execute_result"
    }
   ],
   "source": [
    "import heapq\n",
    "from copy import deepcopy\n",
    "# 迷宫地图\n",
    "MAZE = [[0, 0, 0, 0, 0, 0, 0], [0, 0, 0, 1, 0, 0, 0], [0, 0, 0, 1, 0, 0, 0], [0, 0, 0, 1, 0, 0, 0], [0, 0, 0, 0, 0, 0, 0]]\n",
    "\n",
    "# 设置起点和终点\n",
    "start = (2, 1)\n",
    "end = (2, 5)\n",
    "\n",
    "\n",
    "def Astar(start: tuple, end: tuple, maze: list):\n",
    "    rows, cols = len(maze), len(maze[0])\n",
    "\n",
    "    def h(r, c):\n",
    "        return abs(end[0] - r) + abs(end[1] - c)\n",
    "\n",
    "    pq = [(0 + h(*start), 0, start)]\n",
    "    costs = {start: 0}\n",
    "    best = set()\n",
    "    parent = {start: None}\n",
    "    while pq:\n",
    "        _, cost, (r, c) = heapq.heappop(pq)\n",
    "        if (r, c) == end:\n",
    "            break\n",
    "        best.add((r, c))\n",
    "        for nr, nc in ((r - 1, c), (r + 1, c), (r, c - 1), (r, c + 1)):\n",
    "            if 0 <= nr < rows and 0 <= nc < cols and maze[nr][nc] != 1 and (nr, nc) not in best:\n",
    "                nCost = cost + 1\n",
    "                if (nr, nc) not in costs or nCost < costs[(nr, nc)]:\n",
    "                    costs[(nr, nc)] = nCost\n",
    "                    parent[(nr, nc)] = (r, c)\n",
    "                    priority = nCost + h(nr, nc)\n",
    "                    heapq.heappush(pq, (priority, nCost, (nr, nc)))\n",
    "    thePath = deepcopy(maze)\n",
    "    p = end\n",
    "    while p:\n",
    "        thePath[p[0]][p[1]] = 9\n",
    "        p = parent[p]\n",
    "        # print(p)\n",
    "    return thePath\n",
    "\n",
    "\n",
    "Astar(start, end, MAZE)\n"
   ]
  },
  {
   "cell_type": "code",
   "execution_count": null,
   "metadata": {},
   "outputs": [],
   "source": []
  }
 ],
 "metadata": {
  "kernelspec": {
   "display_name": "Python 3.8.10 64-bit",
   "language": "python",
   "name": "python3"
  },
  "language_info": {
   "codemirror_mode": {
    "name": "ipython",
    "version": 3
   },
   "file_extension": ".py",
   "mimetype": "text/x-python",
   "name": "python",
   "nbconvert_exporter": "python",
   "pygments_lexer": "ipython3",
   "version": "3.8.10"
  },
  "orig_nbformat": 4,
  "vscode": {
   "interpreter": {
    "hash": "570feb405e2e27c949193ac68f46852414290d515b0ba6e5d90d076ed2284471"
   }
  }
 },
 "nbformat": 4,
 "nbformat_minor": 2
}
