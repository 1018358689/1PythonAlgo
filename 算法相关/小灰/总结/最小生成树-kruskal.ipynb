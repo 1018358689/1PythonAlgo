{
 "cells": [
  {
   "cell_type": "markdown",
   "metadata": {},
   "source": [
    "图论的最小生成树问题，就是让你从图中找若干边形成一个边的集合 mst，这些边有以下特性：\n",
    "\n",
    "1、这些边组成的是一棵树（树和图的区别在于不能包含环）。\n",
    "2、这些边形成的树要包含所有节点。\n",
    "3、这些边的权重之和要尽可能小。\n",
    "\n",
    "\n",
    "首先，Kruskal 算法用到了贪心思想，来满足权重之和尽可能小的问题：\n",
    "\n",
    "！先对所有边按照权重从小到大排序，从权重最小的边开始，选择合适的边加入 mst 集合，这样挑出来的边组成的树就是权重和最小的。\n",
    "其次，Kruskal 算法用到了 Union-Find 并查集算法，来保证挑选出来的这些边组成的一定是一棵「树」，而不会包含环或者形成一片「森林」：\n",
    "\n",
    "如果一条边的两个节点已经是连通的，则这条边会使树中出现环；如果最后的连通分量总数大于 1，则说明形成的是「森林」而不是一棵「树」。\n",
    "\n",
    "\n",
    "首先，Prim 算法也使用贪心思想来让生成树的权重尽可能小，也就是「切分定理」。\n",
    "\n",
    "其次，Prim 算法使用 BFS 算法思想 和 visited 布尔数组避免成环，来保证选出来的边最终形成的一定是一棵树。\n",
    "\n",
    "Prim 算法不需要事先对所有边排序，而是利用优先级队列动态实现排序的效果，所以我觉得 Prim 算法类似于 Kruskal 的动态过程。\n",
    "\n",
    "下面以一道题为例\n",
    "1584. 连接所有点的最小费用\n",
    "https://leetcode-cn.com/problems/min-cost-to-connect-all-points/"
   ]
  },
  {
   "cell_type": "code",
   "execution_count": 3,
   "metadata": {},
   "outputs": [
    {
     "data": {
      "text/plain": [
       "20"
      ]
     },
     "execution_count": 3,
     "metadata": {},
     "output_type": "execute_result"
    }
   ],
   "source": [
    "from typing import List\n",
    "\n",
    "\n",
    "class Solution:\n",
    "\n",
    "    def minCostConnectPoints(self, points: List[List[int]]) -> int:\n",
    "        count = len(points)  # 联通分量 最后用来确定是否全部连上即为1\n",
    "        roots = list(range(count))\n",
    "        rank = [1] * count\n",
    "\n",
    "        def find(x):\n",
    "            if roots[x] != x:\n",
    "                roots[x] = find(roots[x])\n",
    "            return roots[x]\n",
    "\n",
    "        def union(x, y):\n",
    "            rx, ry = find(x), find(y)\n",
    "            if rx != ry:\n",
    "                if rank[rx] < rank[ry]:\n",
    "                    roots[rx] = ry\n",
    "                elif rank[ry] < rank[rx]:\n",
    "                    roots[ry] = rx\n",
    "                else:\n",
    "                    roots[rx] = ry\n",
    "                    rank[ry] += 1\n",
    "                nonlocal count\n",
    "                count -= 1\n",
    "\n",
    "        def d(i, j):\n",
    "            x1, y1 = points[i]\n",
    "            x2, y2 = points[j]\n",
    "            return abs(x1 - x2) + abs(y1 - y2)\n",
    "\n",
    "        # 1.建立节点的cost排序\n",
    "        costs = []\n",
    "        for i in range(len(points) - 1):\n",
    "            for j in range(i + 1, len(points)):\n",
    "                if i != j:\n",
    "                    costs.append((d(i, j), i, j))\n",
    "        costs.sort(key=lambda x: x[0])\n",
    "\n",
    "        # 2.创建最小生成树\n",
    "        mst = 0\n",
    "        for c, i, j in costs:\n",
    "            if find(i) == find(j):  # 2.1成环跳过\n",
    "                continue\n",
    "            union(i, j)  # 2.2不成环 连接作为最小生成树\n",
    "            mst += c\n",
    "        # 3.检查联通分量 看是否存在孤岛\n",
    "        return mst if count == 1 else -1\n",
    "\n",
    "\n",
    "s = Solution()\n",
    "s.minCostConnectPoints([[0, 0], [2, 2], [3, 10], [5, 2], [7, 0]])\n"
   ]
  },
  {
   "cell_type": "code",
   "execution_count": null,
   "metadata": {},
   "outputs": [],
   "source": []
  }
 ],
 "metadata": {
  "interpreter": {
   "hash": "97367d2de1780ea7c502b529f25888c1b53c0430a7611816b6c7cf19d8435228"
  },
  "kernelspec": {
   "display_name": "Python 3.10.4 64-bit (windows store)",
   "language": "python",
   "name": "python3"
  },
  "language_info": {
   "codemirror_mode": {
    "name": "ipython",
    "version": 3
   },
   "file_extension": ".py",
   "mimetype": "text/x-python",
   "name": "python",
   "nbconvert_exporter": "python",
   "pygments_lexer": "ipython3",
   "version": "3.10.4"
  },
  "orig_nbformat": 4
 },
 "nbformat": 4,
 "nbformat_minor": 2
}
