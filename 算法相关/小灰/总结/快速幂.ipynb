{
 "cells": [
  {
   "cell_type": "markdown",
   "metadata": {},
   "source": [
    "![](2022-06-06-14-56-36.png)\n",
    "![](2022-06-06-14-58-43.png)"
   ]
  },
  {
   "cell_type": "code",
   "execution_count": 5,
   "metadata": {},
   "outputs": [
    {
     "data": {
      "text/plain": [
       "729"
      ]
     },
     "execution_count": 5,
     "metadata": {},
     "output_type": "execute_result"
    }
   ],
   "source": [
    "class Solution:\n",
    "\n",
    "    def myPow(self, x: float, n: int) -> float:\n",
    "        if n < 0:\n",
    "            x = 1 / x\n",
    "            n = -n\n",
    "        res = 1\n",
    "        while n:\n",
    "            if n & 1 == 1:  # 该位是1 则乘蓝色部分即x\n",
    "                res *= x\n",
    "            x *= x  # 每往右一位 蓝色*=自己\n",
    "            n >>= 1  # 右移\n",
    "        return res\n",
    "\n",
    "\n",
    "s = Solution()\n",
    "s.myPow(9, 3)\n"
   ]
  },
  {
   "cell_type": "code",
   "execution_count": null,
   "metadata": {},
   "outputs": [],
   "source": [
    "class Solution:\n",
    "\n",
    "    def myPow(self, x: float, n: int) -> float:\n",
    "        if n == 0:\n",
    "            return 1\n",
    "        elif n < 0:\n",
    "            return 1 / self.myPow(x, -n)\n",
    "        elif n & 1 == 1:  # 奇数\n",
    "            return x * self.myPow(x, n - 1)\n",
    "        elif n & 1 == 0:  # 偶数\n",
    "            return self.myPow(x * x, n >> 1)\n",
    "\n",
    "\n",
    "s = Solution()\n",
    "s.myPow(9, 3)\n"
   ]
  }
 ],
 "metadata": {
  "interpreter": {
   "hash": "97367d2de1780ea7c502b529f25888c1b53c0430a7611816b6c7cf19d8435228"
  },
  "kernelspec": {
   "display_name": "Python 3.10.4 64-bit (windows store)",
   "language": "python",
   "name": "python3"
  },
  "language_info": {
   "codemirror_mode": {
    "name": "ipython",
    "version": 3
   },
   "file_extension": ".py",
   "mimetype": "text/x-python",
   "name": "python",
   "nbconvert_exporter": "python",
   "pygments_lexer": "ipython3",
   "version": "3.10.4"
  },
  "orig_nbformat": 4
 },
 "nbformat": 4,
 "nbformat_minor": 2
}
