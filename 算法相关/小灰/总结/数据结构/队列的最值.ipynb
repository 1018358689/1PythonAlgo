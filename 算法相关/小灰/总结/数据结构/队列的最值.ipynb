{
 "cells": [
  {
   "cell_type": "code",
   "execution_count": null,
   "metadata": {},
   "outputs": [],
   "source": [
    "# 维护最值的辅助队列 对头就是当前的最值 "
   ]
  },
  {
   "cell_type": "code",
   "execution_count": null,
   "metadata": {},
   "outputs": [],
   "source": [
    "from collections import deque\n",
    "\n",
    "\n",
    "class MinMaxQueue:\n",
    "\n",
    "    def __init__(self):\n",
    "        self.que = deque([])\n",
    "        self.maxQue = deque([])\n",
    "        self.minQue = deque([])\n",
    "\n",
    "    def max_value(self) -> int:\n",
    "        if not self.que:\n",
    "            return -1\n",
    "        return self.maxQue[0]\n",
    "\n",
    "    def min_value(self) -> int:\n",
    "        if not self.que:\n",
    "            return -1\n",
    "        return self.minQue[0]\n",
    "\n",
    "    def push_back(self, value: int) -> None:\n",
    "        self.que.append(value)\n",
    "        while self.maxQue and self.maxQue[-1] < value:\n",
    "            self.maxQue.pop()\n",
    "        self.maxQue.append(value)\n",
    "        while self.minQue and self.minQue[-1] > value:\n",
    "            self.minQue.pop()\n",
    "        self.minQue.append(value)\n",
    "\n",
    "    def pop_front(self) -> int:\n",
    "        if not self.que:\n",
    "            return -1\n",
    "        if self.que[0] == self.maxQue[0]:\n",
    "            self.maxQue.popleft()\n",
    "        if self.que[0] == self.minQue[0]:\n",
    "            self.minQue.popleft()\n",
    "        return self.que.popleft()\n"
   ]
  }
 ],
 "metadata": {
  "language_info": {
   "name": "python"
  },
  "orig_nbformat": 4
 },
 "nbformat": 4,
 "nbformat_minor": 2
}
