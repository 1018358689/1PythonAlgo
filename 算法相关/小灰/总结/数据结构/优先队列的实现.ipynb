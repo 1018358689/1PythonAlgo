{
 "cells": [
  {
   "cell_type": "code",
   "execution_count": 5,
   "metadata": {},
   "outputs": [
    {
     "name": "stdout",
     "output_type": "stream",
     "text": [
      "[2, 4, 8, 41, 6, 88, 45, 66, 359, 99]\n"
     ]
    },
    {
     "data": {
      "text/plain": [
       "(2, 4)"
      ]
     },
     "execution_count": 5,
     "metadata": {},
     "output_type": "execute_result"
    }
   ],
   "source": [
    "# 最小元素优先出队的优先队列\n",
    "# 关键是上浮是添加元素 从结尾上浮    下沉是删除元素 从结尾换小的来头部 进行下沉\n",
    "# 更关键是 上浮下沉的插入操作 需要画图\n",
    "class PriorityQueue:\n",
    "\n",
    "    def __init__(self):\n",
    "        self.arr = []\n",
    "\n",
    "    def upAdjust(self):\n",
    "        childIndex = len(self.arr) - 1\n",
    "        parentIndex = (childIndex - 1) >> 1\n",
    "        insertValue = self.arr[childIndex]\n",
    "        while parentIndex >= 0 and self.arr[parentIndex] > insertValue:\n",
    "            self.arr[childIndex] = self.arr[parentIndex]\n",
    "            childIndex = parentIndex\n",
    "            parentIndex = (childIndex - 1) >> 1\n",
    "        self.arr[childIndex] = insertValue\n",
    "\n",
    "    def downAdjust(self, parentIndex: int):\n",
    "        childIndex = (parentIndex << 1) + 1\n",
    "        insertValue = self.arr[parentIndex]\n",
    "        while childIndex < len(self.arr):\n",
    "            if childIndex + 1 < len(self.arr) and self.arr[childIndex + 1] < self.arr[childIndex]:\n",
    "                childIndex += 1\n",
    "            if self.arr[childIndex] < insertValue:\n",
    "                self.arr[parentIndex] = self.arr[childIndex]\n",
    "                parentIndex = childIndex\n",
    "                childIndex = (parentIndex << 1) + 1\n",
    "            else:\n",
    "                break\n",
    "        self.arr[parentIndex] = insertValue\n",
    "\n",
    "    def push(self, val: int):\n",
    "        self.arr.append(val)\n",
    "        self.upAdjust()\n",
    "\n",
    "    def pop(self):\n",
    "        minNum = self.arr[0]\n",
    "        self.arr[0] = self.arr.pop()\n",
    "        self.downAdjust(0)\n",
    "        return minNum\n",
    "\n",
    "\n",
    "priorityQueue = PriorityQueue()\n",
    "for n in [66, 2, 88, 6, 4, 45, 8, 41, 359, 99]:\n",
    "    priorityQueue.push(n)\n",
    "print(priorityQueue.arr)\n",
    "priorityQueue.pop(), priorityQueue.pop()\n"
   ]
  },
  {
   "cell_type": "code",
   "execution_count": 6,
   "metadata": {},
   "outputs": [
    {
     "name": "stdout",
     "output_type": "stream",
     "text": [
      "[359, 99, 66, 41, 88, 45, 8, 2, 6, 4]\n"
     ]
    },
    {
     "data": {
      "text/plain": [
       "(359, 99)"
      ]
     },
     "execution_count": 6,
     "metadata": {},
     "output_type": "execute_result"
    }
   ],
   "source": [
    "# 最大元素优先出队的优先队列\n",
    "class PriorityQueue:\n",
    "\n",
    "    def __init__(self):\n",
    "        self.arr = []\n",
    "\n",
    "    def upAdjust(self):\n",
    "        childIndex = len(self.arr) - 1\n",
    "        parentIndex = (childIndex - 1) >> 1\n",
    "        insertValue = self.arr[childIndex]\n",
    "        while parentIndex >= 0 and self.arr[parentIndex] < insertValue:\n",
    "            self.arr[childIndex] = self.arr[parentIndex]\n",
    "            childIndex = parentIndex\n",
    "            parentIndex = (childIndex - 1) >> 1\n",
    "        self.arr[childIndex] = insertValue\n",
    "\n",
    "    def downAdjust(self, parentIndex: int):\n",
    "        childIndex = (parentIndex << 1) + 1\n",
    "        insertValue = self.arr[parentIndex]\n",
    "        while childIndex < len(self.arr):\n",
    "            if childIndex + 1 < len(self.arr) and self.arr[childIndex + 1] > self.arr[childIndex]:\n",
    "                childIndex += 1\n",
    "            if self.arr[childIndex] > insertValue:\n",
    "                self.arr[parentIndex] = self.arr[childIndex]\n",
    "                parentIndex = childIndex\n",
    "                childIndex = (parentIndex << 1) + 1\n",
    "            else:\n",
    "                break\n",
    "        self.arr[parentIndex] = insertValue\n",
    "\n",
    "    def push(self, val: int):\n",
    "        self.arr.append(val)\n",
    "        self.upAdjust()\n",
    "\n",
    "    def pop(self):\n",
    "        minNum = self.arr[0]\n",
    "        self.arr[0] = self.arr.pop()\n",
    "        self.downAdjust(0)\n",
    "        return minNum\n",
    "\n",
    "\n",
    "priorityQueue = PriorityQueue()\n",
    "for n in [66, 2, 88, 6, 4, 45, 8, 41, 359, 99]:\n",
    "    priorityQueue.push(n)\n",
    "print(priorityQueue.arr)\n",
    "priorityQueue.pop(), priorityQueue.pop()\n"
   ]
  },
  {
   "cell_type": "markdown",
   "metadata": {},
   "source": []
  }
 ],
 "metadata": {
  "interpreter": {
   "hash": "97367d2de1780ea7c502b529f25888c1b53c0430a7611816b6c7cf19d8435228"
  },
  "kernelspec": {
   "display_name": "Python 3.10.4 64-bit (windows store)",
   "language": "python",
   "name": "python3"
  },
  "language_info": {
   "codemirror_mode": {
    "name": "ipython",
    "version": 3
   },
   "file_extension": ".py",
   "mimetype": "text/x-python",
   "name": "python",
   "nbconvert_exporter": "python",
   "pygments_lexer": "ipython3",
   "version": "3.10.4"
  },
  "orig_nbformat": 4
 },
 "nbformat": 4,
 "nbformat_minor": 2
}
