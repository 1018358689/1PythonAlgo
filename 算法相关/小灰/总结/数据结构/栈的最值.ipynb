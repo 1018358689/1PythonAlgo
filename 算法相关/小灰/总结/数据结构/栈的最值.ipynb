{
 "cells": [
  {
   "cell_type": "code",
   "execution_count": null,
   "metadata": {},
   "outputs": [],
   "source": [
    "# 维护最值的辅助栈 栈尾就是当前的最值 "
   ]
  },
  {
   "cell_type": "code",
   "execution_count": 8,
   "metadata": {},
   "outputs": [
    {
     "data": {
      "text/plain": [
       "(6, 6, 4, 2, 2, 4)"
      ]
     },
     "execution_count": 8,
     "metadata": {},
     "output_type": "execute_result"
    }
   ],
   "source": [
    "class MinMaxStack:\n",
    "\n",
    "    def __init__(self):\n",
    "        \"\"\"\n",
    "        initialize your data structure here.\n",
    "        \"\"\"\n",
    "        self.stack = []\n",
    "        self.minStack = []\n",
    "        self.maxStack = []\n",
    "\n",
    "    def push(self, x: int) -> None:\n",
    "        self.stack.append(x)\n",
    "        if not self.minStack or self.minStack[-1] >= x:\n",
    "            self.minStack.append(x)\n",
    "        if not self.maxStack or self.maxStack[-1] <= x:\n",
    "            self.maxStack.append(x)\n",
    "\n",
    "    def pop(self) -> None:\n",
    "        if not self.stack:\n",
    "            return None\n",
    "        if self.stack[-1] == self.minStack[-1]:\n",
    "            self.minStack.pop()\n",
    "        if self.stack[-1] == self.maxStack[-1]:\n",
    "            self.maxStack.pop()\n",
    "        return self.stack.pop()\n",
    "\n",
    "    def min(self) -> int:\n",
    "        if not self.stack:\n",
    "            return None\n",
    "        return self.minStack[-1]\n",
    "\n",
    "    def max(self) -> int:\n",
    "        if not self.stack:\n",
    "            return None\n",
    "        return self.maxStack[-1]\n",
    "\n",
    "\n",
    "obj = MinMaxStack()\n",
    "obj.push(4), obj.push(2), obj.push(6)\n",
    "obj.max(), obj.pop(), obj.max(), obj.min(), obj.pop(), obj.min()\n"
   ]
  },
  {
   "cell_type": "code",
   "execution_count": null,
   "metadata": {},
   "outputs": [],
   "source": []
  }
 ],
 "metadata": {
  "kernelspec": {
   "display_name": "Python 3.10.1 64-bit",
   "language": "python",
   "name": "python3"
  },
  "language_info": {
   "codemirror_mode": {
    "name": "ipython",
    "version": 3
   },
   "file_extension": ".py",
   "mimetype": "text/x-python",
   "name": "python",
   "nbconvert_exporter": "python",
   "pygments_lexer": "ipython3",
   "version": "3.10.1"
  },
  "orig_nbformat": 4,
  "vscode": {
   "interpreter": {
    "hash": "aee8b7b246df8f9039afb4144a1f6fd8d2ca17a180786b69acc140d282b71a49"
   }
  }
 },
 "nbformat": 4,
 "nbformat_minor": 2
}
