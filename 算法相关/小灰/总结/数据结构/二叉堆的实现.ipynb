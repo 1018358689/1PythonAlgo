{
 "cells": [
  {
   "cell_type": "code",
   "execution_count": 1,
   "metadata": {},
   "outputs": [
    {
     "data": {
      "text/plain": [
       "(0, [2, 3, 7, 6, 5, 8, 8, 9, 10])"
      ]
     },
     "execution_count": 1,
     "metadata": {},
     "output_type": "execute_result"
    }
   ],
   "source": [
    "# 二叉堆 最小堆实现\n",
    "class BinaryHeap:\n",
    "\n",
    "    def __init__(self, arr: list):\n",
    "        self.arr = arr\n",
    "\n",
    "    def upAdjust(self): # 插入操作用到上浮\n",
    "        # 二叉堆的尾节点上浮操作 小的上浮 相对运动 本质把大的沉下去\n",
    "        childIndex = len(self.arr) - 1\n",
    "        parentIndex = (childIndex - 1) >> 1\n",
    "        insertValue = self.arr[childIndex]\n",
    "        while parentIndex >= 0 and self.arr[parentIndex] > insertValue:\n",
    "            self.arr[childIndex] = self.arr[parentIndex]\n",
    "            childIndex = parentIndex\n",
    "            parentIndex = (parentIndex - 1) >> 1\n",
    "        self.arr[childIndex] = insertValue\n",
    "\n",
    "    def downAdjust(self, parentIndex: int): # 删除操作用到下沉\n",
    "        # 二叉堆的父节点下沉操作 大的下沉 相对运动 本质把小的浮上来\n",
    "        insertValue = self.arr[parentIndex]\n",
    "        childIndex = (parentIndex << 1) + 1\n",
    "        while childIndex < len(self.arr):\n",
    "            if childIndex + 1 < len(self.arr) and self.arr[childIndex + 1] < self.arr[childIndex]:\n",
    "                childIndex += 1\n",
    "            if self.arr[childIndex] < insertValue:\n",
    "                self.arr[parentIndex] = self.arr[childIndex]\n",
    "                parentIndex = childIndex\n",
    "                childIndex = (childIndex << 1) + 1\n",
    "            else:\n",
    "                break\n",
    "        self.arr[parentIndex] = insertValue\n",
    "\n",
    "    def buildHeap(self):\n",
    "        # 二叉堆的构建操作 从最后一个非叶子结点开始下沉\n",
    "        for i in range((len(self.arr) - 1 - 1) >> 1, -1, -1):\n",
    "            self.downAdjust(i)\n",
    "\n",
    "    def push(self, num: int):\n",
    "        # 二叉堆插入元素\n",
    "        self.arr.append(num)\n",
    "        self.upAdjust()\n",
    "\n",
    "    def delete(self):\n",
    "        # 二叉堆删除是删除 堆顶元素\n",
    "        top = self.arr[0]\n",
    "        self.arr[0] = self.arr.pop()\n",
    "        self.downAdjust(0)\n",
    "        return top\n",
    "\n",
    "\n",
    "myArr = [8, 3, 2, 6, 5, 7, 8, 9, 10, 0]\n",
    "binaryHeap = BinaryHeap(myArr)\n",
    "binaryHeap.buildHeap()\n",
    "binaryHeap.delete(), binaryHeap.arr\n"
   ]
  },
  {
   "cell_type": "code",
   "execution_count": 3,
   "metadata": {},
   "outputs": [
    {
     "data": {
      "text/plain": [
       "(10, [9, 8, 8, 6, 5, 7, 2, 3, 0])"
      ]
     },
     "execution_count": 3,
     "metadata": {},
     "output_type": "execute_result"
    }
   ],
   "source": [
    "# 二叉堆 最大堆实现\n",
    "class BinaryHeap:\n",
    "\n",
    "    def __init__(self, arr: list):\n",
    "        self.arr = arr\n",
    "\n",
    "    def upAdjust(self):  # 插入操作用到上浮\n",
    "        # 二叉堆的尾节点上浮操作 大的上浮 相对运动 本质把小的沉下去\n",
    "        childIndex = len(self.arr) - 1\n",
    "        parentIndex = (childIndex - 1) >> 1\n",
    "        insertValue = self.arr[childIndex]\n",
    "        while parentIndex >= 0 and self.arr[parentIndex] < insertValue:\n",
    "            self.arr[childIndex] = self.arr[parentIndex]\n",
    "            childIndex = parentIndex\n",
    "            parentIndex = (parentIndex - 1) >> 1\n",
    "        self.arr[childIndex] = insertValue\n",
    "\n",
    "    def downAdjust(self, parentIndex: int):  # 删除操作用到下沉\n",
    "        # 二叉堆的父节点下沉操作 小的下沉 相对运动 本质把大的浮上来\n",
    "        insertValue = self.arr[parentIndex]\n",
    "        childIndex = (parentIndex << 1) + 1\n",
    "        while childIndex < len(self.arr):\n",
    "            if childIndex + 1 < len(self.arr) and self.arr[childIndex + 1] > self.arr[childIndex]:\n",
    "                childIndex += 1\n",
    "            if self.arr[childIndex] > insertValue:\n",
    "                self.arr[parentIndex] = self.arr[childIndex]\n",
    "                parentIndex = childIndex\n",
    "                childIndex = (childIndex << 1) + 1\n",
    "            else:\n",
    "                break\n",
    "        self.arr[parentIndex] = insertValue\n",
    "\n",
    "    def buildHeap(self):\n",
    "        # 二叉堆的构建操作 从最后一个非叶子结点开始下沉\n",
    "        for i in range((len(self.arr) - 1 - 1) >> 1, -1, -1):\n",
    "            self.downAdjust(i)\n",
    "\n",
    "    def push(self, num: int):\n",
    "        # 二叉堆插入元素\n",
    "        self.arr.append(num)\n",
    "        self.upAdjust()\n",
    "\n",
    "    def delete(self):\n",
    "        # 二叉堆删除是删除 堆顶元素\n",
    "        top = self.arr[0]\n",
    "        self.arr[0] = self.arr.pop()\n",
    "        self.downAdjust(0)\n",
    "        return top\n",
    "\n",
    "\n",
    "myArr = [8, 3, 2, 6, 5, 7, 8, 9, 10, 0]\n",
    "binaryHeap = BinaryHeap(myArr)\n",
    "binaryHeap.buildHeap()\n",
    "binaryHeap.delete(), binaryHeap.arr\n"
   ]
  },
  {
   "cell_type": "code",
   "execution_count": null,
   "metadata": {},
   "outputs": [],
   "source": []
  }
 ],
 "metadata": {
  "interpreter": {
   "hash": "97367d2de1780ea7c502b529f25888c1b53c0430a7611816b6c7cf19d8435228"
  },
  "kernelspec": {
   "display_name": "Python 3.10.4 64-bit (windows store)",
   "language": "python",
   "name": "python3"
  },
  "language_info": {
   "codemirror_mode": {
    "name": "ipython",
    "version": 3
   },
   "file_extension": ".py",
   "mimetype": "text/x-python",
   "name": "python",
   "nbconvert_exporter": "python",
   "pygments_lexer": "ipython3",
   "version": "3.10.4"
  },
  "orig_nbformat": 4
 },
 "nbformat": 4,
 "nbformat_minor": 2
}
