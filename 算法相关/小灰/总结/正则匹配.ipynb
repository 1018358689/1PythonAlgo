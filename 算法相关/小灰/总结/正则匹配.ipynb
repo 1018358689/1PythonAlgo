{
 "cells": [
  {
   "cell_type": "markdown",
   "metadata": {},
   "source": [
    "https://www.runoob.com/python/python-reg-expressions.html\n",
    "\n",
    "正则表达式中的小括号\"()\"。是代表分组的意思。 如果再其后面出现\\1则是代表与第一个小括号中要匹配的内容相同。\n",
    "\n",
    "注意：\\1必须与小括号配合使用"
   ]
  },
  {
   "cell_type": "code",
   "execution_count": 3,
   "metadata": {},
   "outputs": [
    {
     "data": {
      "text/plain": [
       "['7', '0']"
      ]
     },
     "execution_count": 3,
     "metadata": {},
     "output_type": "execute_result"
    }
   ],
   "source": [
    "# lc2264\n",
    "import re\n",
    "re.findall(r'(\\d)\\1{2}','6777133000339')"
   ]
  },
  {
   "cell_type": "code",
   "execution_count": null,
   "metadata": {},
   "outputs": [],
   "source": [
    "class Solution:\n",
    "\n",
    "    def largestGoodInteger(self, num: str) -> str:\n",
    "        r = re.findall(r'(\\d)\\1{2}', num)\n",
    "        return max(i * 3 for i in r)\n"
   ]
  }
 ],
 "metadata": {
  "interpreter": {
   "hash": "97367d2de1780ea7c502b529f25888c1b53c0430a7611816b6c7cf19d8435228"
  },
  "kernelspec": {
   "display_name": "Python 3.10.5 64-bit (windows store)",
   "language": "python",
   "name": "python3"
  },
  "language_info": {
   "codemirror_mode": {
    "name": "ipython",
    "version": 3
   },
   "file_extension": ".py",
   "mimetype": "text/x-python",
   "name": "python",
   "nbconvert_exporter": "python",
   "pygments_lexer": "ipython3",
   "version": "3.10.5"
  },
  "orig_nbformat": 4
 },
 "nbformat": 4,
 "nbformat_minor": 2
}
