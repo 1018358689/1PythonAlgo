{
 "cells": [
  {
   "cell_type": "code",
   "execution_count": 9,
   "metadata": {},
   "outputs": [
    {
     "data": {
      "text/plain": [
       "[2, 3, 5, 7, 11]"
      ]
     },
     "execution_count": 9,
     "metadata": {},
     "output_type": "execute_result"
    }
   ],
   "source": [
    "# 找n以内的质数\n",
    "def primeNumbers(n):\n",
    "    ans = []\n",
    "    for i in range(2, n + 1):\n",
    "        for j in range(2, int(i**.5) + 1):\n",
    "            if i % j == 0:\n",
    "                break\n",
    "        else:\n",
    "            ans.append(i)\n",
    "    return ans\n",
    "\n",
    "\n",
    "primeNumbers(11)"
   ]
  },
  {
   "cell_type": "markdown",
   "metadata": {},
   "source": [
    "先将2到n范围内的所有整数写下来。其中最小的数字2是素数。将表中所有2的倍数都划去。\n",
    "\n",
    "表中剩余的最小数字是3，它不能被更小的数整除，所以是素数。再将表中所有3的倍数都划去。\n",
    "\n",
    "依次类推，如果表中剩余的最小数字是m时，m就是素数。然后将表中的所有m的倍数都划去。像这样反复操作，就能依次枚举n以内的素数。"
   ]
  },
  {
   "cell_type": "code",
   "execution_count": null,
   "metadata": {},
   "outputs": [],
   "source": [
    "def f(n):\n",
    "    is_prime = [True] * (n + 1)\n",
    "    for i in range(2, int(n**.5) + 1):\n",
    "        if is_prime[i]:  # 找到最近质数\n",
    "            for j in range(i * i, n + 1, i):\n",
    "                is_prime[j] = False  # 质数倍数都是合数 标记1\n",
    "    return [i for i in range(2, n + 1) if is_prime[i]]\n",
    "\n",
    "\n",
    "f(10 ** 5)"
   ]
  },
  {
   "cell_type": "code",
   "execution_count": 3,
   "metadata": {},
   "outputs": [
    {
     "data": {
      "text/plain": [
       "[2, 7]"
      ]
     },
     "execution_count": 3,
     "metadata": {},
     "output_type": "execute_result"
    }
   ],
   "source": [
    "# 因式分解\n",
    "def f(num):\n",
    "    x = num\n",
    "    p = 2\n",
    "    ans = []\n",
    "    while p * p <= x:\n",
    "        if x % p == 0:\n",
    "            while x % p == 0:\n",
    "                x //= p\n",
    "            ans.append(p)\n",
    "        p += 1\n",
    "    if x > 1:\n",
    "        ans.append(x)\n",
    "    return ans\n",
    "\n",
    "f(28)"
   ]
  },
  {
   "cell_type": "code",
   "execution_count": 9,
   "metadata": {},
   "outputs": [
    {
     "data": {
      "text/plain": [
       "1"
      ]
     },
     "execution_count": 9,
     "metadata": {},
     "output_type": "execute_result"
    }
   ],
   "source": [
    "# lc1175. 质数排列\n",
    "class Solution:\n",
    "\n",
    "    def factorial(self, n):\n",
    "        return 1 if n == 0 else n * self.factorial(n - 1)\n",
    "\n",
    "    def numPrimeArrangements(self, n: int) -> int:\n",
    "        prime = 0  # 0是质数 1是合数\n",
    "        for i in range(2, int(n**.5) + 1): # 15=3*5 15已经被3筛选掉了 没必要被5反复筛选\n",
    "            if prime >> i & 1 == 0:\n",
    "                for j in range(i * i, n + 1, i): # 2*i 3*i ... (i-1)*i 已经分别被 2,3...i-1筛选掉了\n",
    "                    prime |= 1 << j\n",
    "        # 求质数和合数个数\n",
    "        primeNum = n - (prime.bit_count() + 1)  # 加上1这个合数\n",
    "        # 全排列个数相乘\n",
    "        return self.factorial(primeNum) * self.factorial(n - primeNum) % (10**9 + 7)\n",
    "\n",
    "\n",
    "s = Solution()\n",
    "s.numPrimeArrangements(1)"
   ]
  },
  {
   "cell_type": "code",
   "execution_count": 7,
   "metadata": {},
   "outputs": [
    {
     "data": {
      "text/plain": [
       "682289015"
      ]
     },
     "execution_count": 7,
     "metadata": {},
     "output_type": "execute_result"
    }
   ],
   "source": [
    "# lc1175. 质数排列\n",
    "class Solution:\n",
    "\n",
    "    def factorial(self, n):\n",
    "        if n == 0:\n",
    "            return 1\n",
    "        return n * self.factorial(n - 1)\n",
    "\n",
    "    def numPrimeArrangements(self, n: int) -> int:\n",
    "        prime = 0  # 0是质数 1是合数\n",
    "        com = 1  # 合数个数\n",
    "        for i in range(2, int(n**.5) + 1):\n",
    "            if prime >> i & 1 == 0:\n",
    "                for j in range(i * i, n + 1, i):\n",
    "                    if prime >> j & 1 == 0:\n",
    "                        prime |= 1 << j\n",
    "                        com += 1\n",
    "        # 求质数和合数个数\n",
    "        primeNum = n - com  # 加上1这个合数\n",
    "        # 全排列个数相乘\n",
    "        return self.factorial(primeNum) * self.factorial(com) % (10**9 + 7)\n",
    "\n",
    "\n",
    "s = Solution()\n",
    "s.numPrimeArrangements(100)"
   ]
  },
  {
   "cell_type": "code",
   "execution_count": null,
   "metadata": {},
   "outputs": [],
   "source": []
  }
 ],
 "metadata": {
  "kernelspec": {
   "display_name": "Python 3.10.5 64-bit",
   "language": "python",
   "name": "python3"
  },
  "language_info": {
   "codemirror_mode": {
    "name": "ipython",
    "version": 3
   },
   "file_extension": ".py",
   "mimetype": "text/x-python",
   "name": "python",
   "nbconvert_exporter": "python",
   "pygments_lexer": "ipython3",
   "version": "3.9.16"
  },
  "orig_nbformat": 4,
  "vscode": {
   "interpreter": {
    "hash": "3196968d684371006099b3d55edeef8ed90365227a30deaef86e5d4aa8519be0"
   }
  }
 },
 "nbformat": 4,
 "nbformat_minor": 2
}
