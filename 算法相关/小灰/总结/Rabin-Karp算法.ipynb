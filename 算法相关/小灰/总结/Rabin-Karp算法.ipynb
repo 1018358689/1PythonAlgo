{
 "cells": [
  {
   "cell_type": "code",
   "execution_count": 1,
   "metadata": {},
   "outputs": [
    {
     "data": {
      "text/plain": [
       "['AAAAACCCCC', 'CCCCCAAAAA']"
      ]
     },
     "execution_count": 1,
     "metadata": {},
     "output_type": "execute_result"
    }
   ],
   "source": [
    "# lc187. 重复的DNA序列\n",
    "class NumOp:\n",
    "    def __init__(self, R):\n",
    "        self.num = 0\n",
    "        self.R = R  # 进制\n",
    "        self.L = 0  # 此时的位数\n",
    "\n",
    "    def add(self, appendVal):  # 结尾追加appendVal\n",
    "        self.num = self.R * self.num + appendVal\n",
    "        self.L += 1\n",
    "\n",
    "    def delete(self, deleteVal):  # 删除最高位\n",
    "        self.num -= deleteVal * (self.R**(self.L - 1))\n",
    "        self.L -= 1\n",
    "\n",
    "\n",
    "# https://mp.weixin.qq.com/s/HiEft8sW5QzHcM5mb5_V6g\n",
    "from typing import List\n",
    "from collections import defaultdict\n",
    "\n",
    "\n",
    "class Solution:\n",
    "    def findRepeatedDnaSequences(self, s: str) -> List[str]:\n",
    "        ha = {'A': 0, 'C': 1, 'G': 2, 'T': 3}\n",
    "        cnt = defaultdict(int)\n",
    "        l = 0\n",
    "        ans = []\n",
    "        number = NumOp(4)\n",
    "        for r in range(len(s)):\n",
    "            number.add(ha[s[r]])\n",
    "            if r - l + 1 > 10:\n",
    "                number.delete(ha[s[l]])\n",
    "                l += 1\n",
    "            if r - l + 1 == 10:\n",
    "                if cnt[number.num] == 1:\n",
    "                    ans.append(s[l:r + 1])\n",
    "                cnt[number.num] += 1\n",
    "        return ans\n",
    "\n",
    "\n",
    "s = Solution()\n",
    "s.findRepeatedDnaSequences('AAAAACCCCCAAAAACCCCCCAAAAAGGGTTT')"
   ]
  },
  {
   "cell_type": "code",
   "execution_count": 2,
   "metadata": {},
   "outputs": [],
   "source": [
    "from typing import List\n",
    "from collections import defaultdict\n",
    "\n",
    "\n",
    "class Solution:\n",
    "    def findRepeatedDnaSequences(self, s: str) -> List[str]:\n",
    "        cnt = defaultdict(int)\n",
    "        l = 0\n",
    "        ans = []\n",
    "        for r in range(len(s)):\n",
    "            while r - l + 1 > 10:\n",
    "                l += 1\n",
    "            if r - l + 1 == 10:\n",
    "                tmp = s[l:r + 1]\n",
    "                if cnt[tmp] == 1:\n",
    "                    ans.append(tmp)\n",
    "                cnt[tmp] += 1\n",
    "        return ans"
   ]
  },
  {
   "cell_type": "code",
   "execution_count": 3,
   "metadata": {},
   "outputs": [
    {
     "data": {
      "text/plain": [
       "97"
      ]
     },
     "execution_count": 3,
     "metadata": {},
     "output_type": "execute_result"
    }
   ],
   "source": [
    "ord('a')"
   ]
  },
  {
   "cell_type": "code",
   "execution_count": 4,
   "metadata": {},
   "outputs": [],
   "source": [
    "# lc28. 实现 strStr()\n",
    "class NumOp:\n",
    "\n",
    "    def __init__(self, R):\n",
    "        self.num = 0\n",
    "        self.R = R  # 进制\n",
    "        self.L = 0  # 此时的位数\n",
    "\n",
    "    def initialize(self):  # 初始化\n",
    "        self.num = 0\n",
    "        self.L = 0\n",
    "\n",
    "    def add(self, appendVal):  # 结尾追加appendVal\n",
    "        self.num = self.R * self.num + appendVal\n",
    "        self.L += 1\n",
    "\n",
    "    def delete(self, deleteVal):  # 删除最高位\n",
    "        self.num -= deleteVal * (self.R**(self.L - 1))\n",
    "        self.L -= 1\n",
    "\n",
    "\n",
    "class Solution:\n",
    "\n",
    "    def strStr(self, haystack: str, needle: str) -> int:\n",
    "        number = NumOp(256)\n",
    "        for s in needle:\n",
    "            number.add(ord(s))\n",
    "        target = number.num\n",
    "        number.initialize()\n",
    "\n",
    "        lgh = len(needle)\n",
    "        l = 0\n",
    "        for r in range(len(haystack)):\n",
    "            number.add(ord(haystack[r]))\n",
    "            while r - l + 1 > lgh:\n",
    "                number.delete(ord(haystack[l]))\n",
    "                l += 1\n",
    "            if r - l + 1 == lgh and number.num == target:\n",
    "                return l\n",
    "        return -1\n"
   ]
  },
  {
   "cell_type": "code",
   "execution_count": null,
   "metadata": {},
   "outputs": [],
   "source": [
    "# X % Q == (X + Q) % Q\n",
    "# (X + Y) % Q == (X % Q + Y % Q) % Q"
   ]
  },
  {
   "cell_type": "code",
   "execution_count": 5,
   "metadata": {},
   "outputs": [],
   "source": [
    "# lc28. 实现 strStr()\n",
    "# https://mp.weixin.qq.com/s/HiEft8sW5QzHcM5mb5_V6g\n",
    "# 避免溢出 添加取余 python3基本不会溢出\n",
    "class NumOp:\n",
    "\n",
    "    def __init__(self, R):\n",
    "        self.num = 0\n",
    "        self.R = R  # 进制\n",
    "        self.L = 0  # 此时的位数\n",
    "        self.Q = 1658598167  # 比较大的质数\n",
    "\n",
    "    def initialize(self):  # 初始化\n",
    "        self.num = 0\n",
    "        self.L = 0\n",
    "\n",
    "    def add(self, appendVal):  # 结尾追加appendVal\n",
    "        self.num = (self.R * self.num % self.Q + appendVal % self.Q) % self.Q\n",
    "        self.L += 1\n",
    "\n",
    "    def delete(self, deleteVal):  # 删除最高位\n",
    "        self.num = (self.num % self.Q - deleteVal * (self.R**(self.L - 1)) % self.Q + self.Q) % self.Q\n",
    "        self.L -= 1\n",
    "\n",
    "\n",
    "class Solution:\n",
    "\n",
    "    def strStr(self, haystack: str, needle: str) -> int:\n",
    "        number = NumOp(256)\n",
    "        for s in needle:\n",
    "            number.add(ord(s))\n",
    "        target = number.num\n",
    "        number.initialize()\n",
    "\n",
    "        lgh = len(needle)\n",
    "        l = 0\n",
    "        for r in range(len(haystack)):\n",
    "            number.add(ord(haystack[r]))\n",
    "            while r - l + 1 > lgh:\n",
    "                number.delete(ord(haystack[l]))\n",
    "                l += 1\n",
    "            if r - l + 1 == lgh and number.num == target:\n",
    "                if haystack[l:r + 1] == needle:  # 避免哈希冲突\n",
    "                    return l\n",
    "        return -1\n"
   ]
  },
  {
   "cell_type": "code",
   "execution_count": null,
   "metadata": {},
   "outputs": [],
   "source": [
    "# lc28. 实现 strStr()\n",
    "# 整合版\n",
    "# Rabin-Karp算法\n",
    "class Solution:\n",
    "\n",
    "    def strStr(self, haystack: str, needle: str) -> int:\n",
    "        target = 0\n",
    "        for n in needle:\n",
    "            target = 256 * target + ord(n)\n",
    "        l = 0\n",
    "        num = 0\n",
    "        lgh = len(needle)\n",
    "        for r in range(len(haystack)):\n",
    "            num = 256 * num + ord(haystack[r])\n",
    "            while r - l + 1 > lgh:\n",
    "                num -= ord(haystack[l]) * (256**lgh)\n",
    "                l += 1\n",
    "            if r - l + 1 == lgh and num == target:\n",
    "                return l\n",
    "        return -1"
   ]
  }
 ],
 "metadata": {
  "kernelspec": {
   "display_name": "Python 3.10.5 64-bit",
   "language": "python",
   "name": "python3"
  },
  "language_info": {
   "codemirror_mode": {
    "name": "ipython",
    "version": 3
   },
   "file_extension": ".py",
   "mimetype": "text/x-python",
   "name": "python",
   "nbconvert_exporter": "python",
   "pygments_lexer": "ipython3",
   "version": "3.10.5"
  },
  "orig_nbformat": 4,
  "vscode": {
   "interpreter": {
    "hash": "3196968d684371006099b3d55edeef8ed90365227a30deaef86e5d4aa8519be0"
   }
  }
 },
 "nbformat": 4,
 "nbformat_minor": 2
}
