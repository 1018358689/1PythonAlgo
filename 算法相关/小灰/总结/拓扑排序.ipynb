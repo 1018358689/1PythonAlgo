{
 "cells": [
  {
   "cell_type": "code",
   "execution_count": 1,
   "metadata": {},
   "outputs": [],
   "source": [
    "# https://leetcode.cn/problems/course-schedule-ii/"
   ]
  },
  {
   "cell_type": "code",
   "execution_count": 2,
   "metadata": {},
   "outputs": [
    {
     "data": {
      "text/plain": [
       "[0, 1, 2, 3]"
      ]
     },
     "execution_count": 2,
     "metadata": {},
     "output_type": "execute_result"
    }
   ],
   "source": [
    "from typing import List\n",
    "from collections import deque\n",
    "\n",
    "\n",
    "class Solution:\n",
    "\n",
    "    def findOrder(self, numCourses: int, prerequisites: List[List[int]]) -> List[int]:\n",
    "        neis = [[] for _ in range(numCourses)]  # 入度表\n",
    "        indegree = [0] * numCourses  # 邻接表\n",
    "        for j, i in prerequisites:\n",
    "            neis[i].append(j)\n",
    "            indegree[j] += 1\n",
    "        q = deque([i for i in range(numCourses) if indegree[i] == 0])  # 入度为0的入队\n",
    "        ans = []\n",
    "        while q:\n",
    "            cur = q.popleft()\n",
    "            ans.append(cur)\n",
    "            for nei in neis[cur]:\n",
    "                indegree[nei] -= 1  # 通过cur访问到该节点 则该节点入度-1\n",
    "                if indegree[nei] == 0:\n",
    "                    q.append(nei)\n",
    "        return ans if len(ans) == numCourses else []\n",
    "\n",
    "\n",
    "s = Solution()\n",
    "s.findOrder(4, [[1, 0], [2, 0], [3, 1], [3, 2]])\n"
   ]
  },
  {
   "cell_type": "code",
   "execution_count": null,
   "metadata": {},
   "outputs": [],
   "source": []
  }
 ],
 "metadata": {
  "kernelspec": {
   "display_name": "Python 3.8.10 64-bit",
   "language": "python",
   "name": "python3"
  },
  "language_info": {
   "codemirror_mode": {
    "name": "ipython",
    "version": 3
   },
   "file_extension": ".py",
   "mimetype": "text/x-python",
   "name": "python",
   "nbconvert_exporter": "python",
   "pygments_lexer": "ipython3",
   "version": "3.8.10"
  },
  "orig_nbformat": 4,
  "vscode": {
   "interpreter": {
    "hash": "570feb405e2e27c949193ac68f46852414290d515b0ba6e5d90d076ed2284471"
   }
  }
 },
 "nbformat": 4,
 "nbformat_minor": 2
}
