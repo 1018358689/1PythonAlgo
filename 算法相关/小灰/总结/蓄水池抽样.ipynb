{
 "cells": [
  {
   "cell_type": "markdown",
   "metadata": {},
   "source": [
    "## 蓄水池抽样 优点1 数据量未知 优点2 不使用额外空间\n",
    "\n",
    "# https://leetcode.cn/problems/linked-list-random-node/solution/xu-shui-chi-chou-yang-suan-fa-by-jackwener/\n",
    "# https://leetcode.cn/problems/linked-list-random-node/solution/gong-shui-san-xie-xu-shui-chi-chou-yang-1lp9d/\n",
    "\n",
    "#整理题意：总的样本数量未知，从所有样本中抽取若干个，要求每个样本被抽到的概率相等。\n",
    "\n",
    "具体做法为：从前往后处理每个样本，每个样本成为答案的概率为 1/i,\n",
    "其中 i 为样本编号（编号从 1 开始），最终可以确保每个样本成为答案的概率均为 1/n（其中 n 为样本总数）。"
   ]
  },
  {
   "cell_type": "code",
   "execution_count": 1,
   "metadata": {},
   "outputs": [],
   "source": [
    "# lc382 链表随机节点\n",
    "from typing import Optional\n",
    "from random import randint  # 前后包\n",
    "\n",
    "\n",
    "# Definition for singly-linked list.\n",
    "class ListNode:\n",
    "\n",
    "    def __init__(self, val=0, next=None):\n",
    "        self.val = val\n",
    "        self.next = next\n",
    "\n",
    "\n",
    "class Solution:\n",
    "\n",
    "    def __init__(self, head: Optional[ListNode]):\n",
    "        self.root = head\n",
    "\n",
    "    def getRandom(self) -> int:\n",
    "        node, ans, cnt = self.root, None, 1\n",
    "        while node:\n",
    "            if randint(1, cnt) == 1: # 当前抽到概率为1/cnt\n",
    "                ans = node.val\n",
    "            node = node.next\n",
    "            cnt += 1\n",
    "        return ans"
   ]
  },
  {
   "cell_type": "code",
   "execution_count": 2,
   "metadata": {},
   "outputs": [],
   "source": [
    "# lc398随机数索引\n",
    "from typing import List\n",
    "from random import randint  # 前后包\n",
    "\n",
    "\n",
    "class Solution:\n",
    "\n",
    "    def __init__(self, nums: List[int]):\n",
    "        self.nums = nums\n",
    "\n",
    "    def pick(self, target: int) -> int:\n",
    "        ans, cnt = None, 1\n",
    "        for i, n in enumerate(self.nums):\n",
    "            if n == target:  # 只考虑目标值\n",
    "                if randint(1, cnt) == 1:  # 当前抽到n的概率 1/cnt\n",
    "                    ans = i\n",
    "                cnt += 1\n",
    "        return ans\n",
    "\n",
    "\n",
    "# Your Solution object will be instantiated and called as such:\n",
    "# obj = Solution(nums)\n",
    "# param_1 = obj.pick(target)"
   ]
  },
  {
   "cell_type": "code",
   "execution_count": null,
   "metadata": {},
   "outputs": [],
   "source": [
    "# lc398随机数索引\n",
    "# 定长数组可以不必用蓄水池抽样\n",
    "from typing import List\n",
    "from random import choice\n",
    "from collections import defaultdict\n",
    "\n",
    "\n",
    "class Solution:\n",
    "\n",
    "    def __init__(self, nums: List[int]):\n",
    "        self.ha = defaultdict(list)\n",
    "        for i, n in enumerate(nums):\n",
    "            self.ha[n].append(i)\n",
    "\n",
    "    def pick(self, target: int) -> int:\n",
    "        return choice(self.ha[target])\n",
    "\n",
    "\n",
    "# Your Solution object will be instantiated and called as such:\n",
    "# obj = Solution(nums)\n",
    "# param_1 = obj.pick(target)"
   ]
  }
 ],
 "metadata": {
  "interpreter": {
   "hash": "aee8b7b246df8f9039afb4144a1f6fd8d2ca17a180786b69acc140d282b71a49"
  },
  "kernelspec": {
   "display_name": "Python 3.10.2 64-bit",
   "language": "python",
   "name": "python3"
  },
  "language_info": {
   "codemirror_mode": {
    "name": "ipython",
    "version": 3
   },
   "file_extension": ".py",
   "mimetype": "text/x-python",
   "name": "python",
   "nbconvert_exporter": "python",
   "pygments_lexer": "ipython3",
   "version": "3.10.2"
  },
  "orig_nbformat": 4
 },
 "nbformat": 4,
 "nbformat_minor": 2
}
