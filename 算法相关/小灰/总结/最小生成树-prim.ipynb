{
 "cells": [
  {
   "cell_type": "code",
   "execution_count": 1,
   "metadata": {},
   "outputs": [
    {
     "data": {
      "text/plain": [
       "20"
      ]
     },
     "execution_count": 1,
     "metadata": {},
     "output_type": "execute_result"
    }
   ],
   "source": [
    "# Prim算法\n",
    "# https://labuladong.gitee.io/algo/2/20/43/\n",
    "from typing import List\n",
    "import heapq\n",
    "\n",
    "\n",
    "class Solution:\n",
    "\n",
    "    def minCostConnectPoints(self, points: List[List[int]]) -> int:\n",
    "\n",
    "        sz = len(points)\n",
    "        # 1.建立邻接表\n",
    "        neis = [[] for _ in range(sz)]\n",
    "        for cur in range(sz):\n",
    "            for nei in range(sz):\n",
    "                if cur != nei:\n",
    "                    cost = abs(points[cur][0] - points[nei][0]) + abs(points[cur][1] - points[nei][1])\n",
    "                    neis[cur].append((nei, cost))\n",
    "        # 2.准备工作 优先队列 最小生成树集合 切分函数\n",
    "        pq = []\n",
    "        inMst = {0}\n",
    "        mst = 0\n",
    "\n",
    "        def cut(node): # 切分函数 把该点邻接边切掉==邻接点入队 已经在最小生成树集合的跳过\n",
    "            for nei, cost in neis[node]:\n",
    "                if nei not in inMst:\n",
    "                    heapq.heappush(pq, (cost, nei))\n",
    "        # 3.任意找一个节点先切\n",
    "        cut(0)\n",
    "        # 4.开始循环切分\n",
    "        while pq:\n",
    "            # 4.1先找成本最低的点作为最小生成树一部分 如果已经在最小生成树就跳过 防止成环\n",
    "            curCost, cur = heapq.heappop(pq)\n",
    "            if cur in inMst:\n",
    "                continue\n",
    "            inMst.add(cur)\n",
    "            mst += curCost\n",
    "            # 4.2对新加入的最小生成树的点进行切分\n",
    "            cut(cur)\n",
    "        # 5.检查是否有孤岛\n",
    "        return mst if len(inMst) == sz else -1\n",
    "\n",
    "\n",
    "s = Solution()\n",
    "s.minCostConnectPoints([[0, 0], [2, 2], [3, 10], [5, 2], [7, 0]])\n"
   ]
  },
  {
   "cell_type": "code",
   "execution_count": null,
   "metadata": {},
   "outputs": [],
   "source": []
  }
 ],
 "metadata": {
  "interpreter": {
   "hash": "97367d2de1780ea7c502b529f25888c1b53c0430a7611816b6c7cf19d8435228"
  },
  "kernelspec": {
   "display_name": "Python 3.10.4 64-bit (windows store)",
   "language": "python",
   "name": "python3"
  },
  "language_info": {
   "codemirror_mode": {
    "name": "ipython",
    "version": 3
   },
   "file_extension": ".py",
   "mimetype": "text/x-python",
   "name": "python",
   "nbconvert_exporter": "python",
   "pygments_lexer": "ipython3",
   "version": "3.10.4"
  },
  "orig_nbformat": 4
 },
 "nbformat": 4,
 "nbformat_minor": 2
}
