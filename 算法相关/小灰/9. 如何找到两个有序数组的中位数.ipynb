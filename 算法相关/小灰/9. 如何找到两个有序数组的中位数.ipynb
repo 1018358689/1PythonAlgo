{
 "cells": [
  {
   "cell_type": "code",
   "execution_count": 52,
   "metadata": {},
   "outputs": [
    {
     "data": {
      "text/plain": [
       "-1"
      ]
     },
     "execution_count": 52,
     "metadata": {},
     "output_type": "execute_result"
    }
   ],
   "source": [
    "# LeetCode 4\n",
    "# 快速排序\n",
    "# O(m+n)\n",
    "from random import randint\n",
    "\n",
    "\n",
    "def f(nums1: list, nums2: list):\n",
    "    m, n = len(nums1), len(nums2)\n",
    "\n",
    "    def quickSort(nums, l, r):\n",
    "\n",
    "        def getPivot(nums, l, r):\n",
    "            pivot = randint(l, r)\n",
    "            nums[l], nums[pivot] = nums[pivot], nums[l]\n",
    "            mark = l\n",
    "            for i in range(l + 1, r + 1):\n",
    "                if nums[i] < nums[l]:\n",
    "                    mark += 1\n",
    "                    nums[mark], nums[i] = nums[i], nums[mark]\n",
    "            nums[mark], nums[l] = nums[l], nums[mark]\n",
    "            return mark\n",
    "\n",
    "        def dc(nums, l, r):\n",
    "            if l >= r:\n",
    "                return\n",
    "            pivot = getPivot(nums, l, r)\n",
    "            dc(nums, l, pivot - 1)\n",
    "            dc(nums, pivot + 1, r)\n",
    "\n",
    "        dc(nums, l, r)\n",
    "\n",
    "    nums = nums1 + nums2\n",
    "    quickSort(nums, 0, m + n - 1)\n",
    "    if (m + n) & 1 == 0:\n",
    "        return (nums[(m + n) // 2] + nums[(m + n - 1) // 2]) / 2.0\n",
    "    else:\n",
    "        return nums[(m + n) // 2]\n",
    "\n",
    "\n",
    "f([1, 3], [2]), f([1, 2], [3, 4])\n",
    "f([10, 11, 12], [1, 2, 3])\n",
    "f([10, 11, 12], [1, 2, 3, 4, 5, 6]), f([10, 11, 12, 13], [1, 2, 3, 4, 5, 6])\n",
    "f([3], [-2, -1])\n"
   ]
  },
  {
   "cell_type": "code",
   "execution_count": 85,
   "metadata": {},
   "outputs": [
    {
     "name": "stdout",
     "output_type": "stream",
     "text": [
      "-1 1\n"
     ]
    },
    {
     "data": {
      "text/plain": [
       "-1"
      ]
     },
     "execution_count": 85,
     "metadata": {},
     "output_type": "execute_result"
    }
   ],
   "source": [
    "# 二分查找\n",
    "# O(log min(m+n))\n",
    "def f(nums1: list, nums2: list):\n",
    "    m, n = len(nums1), len(nums2)\n",
    "    if m > n:\n",
    "        nums1, nums2 = nums2, nums1\n",
    "        m, n = n, m\n",
    "    l, r = -1, m - 1  # i取值范围 i:nums1对左半部分贡献临界点 j同理\n",
    "    while l <= r:\n",
    "        i = l + r >> 1\n",
    "        j = (m + n + 1 >> 1) - i - 2  # 奇数的中位数包含在左部分\n",
    "        # if 0 <= i < m and nums1[i] > nums2[j + 1]:\n",
    "        #     r = i - 1\n",
    "        # elif 0 <= i + 1 < m and nums2[j] > nums1[i + 1]:\n",
    "        #     l = i + 1\n",
    "        if 0 <= i and nums1[i] > nums2[j + 1]:  # i偏大需要左移\n",
    "            r = i - 1\n",
    "        elif i + 1 < m and nums2[j] > nums1[i + 1]:\n",
    "            l = i + 1\n",
    "        else:\n",
    "            if i == -1:  # nums1全比nums2大 意味nums1对左半部分贡献0\n",
    "                leftMax = nums2[j]\n",
    "            elif j == -1:  # 针对nums1全比nums2小 且m==n\n",
    "                leftMax = nums1[i]\n",
    "            else:\n",
    "                leftMax = max(nums1[i], nums2[j])\n",
    "            if m + n & 1 == 1:  # 奇数直接输出左最大\n",
    "                return leftMax\n",
    "            if i == m - 1:  # nums1全比nums2小 意味num1全部贡献给左半部分\n",
    "                rightMin = nums2[j + 1]\n",
    "            elif j == n - 1:  # 针对nums1全比nums2大 且m==n\n",
    "                rightMin = nums1[i + 1]\n",
    "            else:\n",
    "                rightMin = min(nums1[i + 1], nums2[j + 1])\n",
    "            return (leftMax + rightMin) / 2.0  # 偶数情况\n",
    "\n",
    "\n",
    "# f([1, 2], [3, 4]), f([1, 3], [2])\n",
    "# f([10, 11, 12], [1, 2, 3])\n",
    "# f([10, 11, 12], [1, 2, 3, 4, 5, 6]), f([10, 11, 12, 13], [1, 2, 3, 4, 5, 6])\n",
    "# f([1], [1])\n",
    "# f([10, 11, 12], [1, 2, 3, 4, 5, 6])\n",
    "# f([1, 3], [2])\n",
    "f([3], [-2, -1])\n"
   ]
  },
  {
   "cell_type": "code",
   "execution_count": 78,
   "metadata": {},
   "outputs": [
    {
     "name": "stdout",
     "output_type": "stream",
     "text": [
      "0 2\n"
     ]
    },
    {
     "data": {
      "text/plain": [
       "-1"
      ]
     },
     "execution_count": 78,
     "metadata": {},
     "output_type": "execute_result"
    }
   ],
   "source": [
    "# 二分查找\n",
    "# O(log min(m+n))\n",
    "def f(nums1: list, nums2: list):\n",
    "    m, n = len(nums1), len(nums2)\n",
    "    if m > n:\n",
    "        nums1, nums2 = nums2, nums1\n",
    "        m, n = n, m\n",
    "    l, r = 0, m  # i取值范围 i:nums2对右半部分贡献临界点 j同理\n",
    "    while l <= r:\n",
    "        i = l + r >> 1\n",
    "        j = (m + n + 1 >> 1) - i\n",
    "        # if 0 <= i - 1 <= m - 1 and nums1[i - 1] > nums2[j]:\n",
    "        #     r = i - 1\n",
    "        # elif 0 <= i <= m - 1 and nums2[j - 1] > nums1[i]:\n",
    "        #     l = i + 1\n",
    "        if i > 0 and nums1[i - 1] > nums2[j]:\n",
    "            r = i - 1\n",
    "        elif i < m and nums2[j - 1] > nums1[i]:\n",
    "            l = i + 1\n",
    "        else:\n",
    "            print(i, j)\n",
    "            if i == 0:\n",
    "                maxLeft = nums2[j - 1]\n",
    "            elif j == 0:  # 不能省去 针对两个数组长度一样时候\n",
    "                maxLeft = nums1[i - 1]\n",
    "            else:\n",
    "                maxLeft = max(nums1[i - 1], nums2[j - 1])\n",
    "            if m + n & 1 == 1:\n",
    "                return maxLeft\n",
    "\n",
    "            if i == m:\n",
    "                minRight = nums2[j]\n",
    "            elif j == n:\n",
    "                minRight = nums1[i]\n",
    "            else:\n",
    "                minRight = min(nums1[i], nums2[j])\n",
    "            return (maxLeft + minRight) / 2.0\n",
    "\n",
    "\n",
    "# f([1, 2], [3, 4]), f([1, 3], [2])\n",
    "# f([10, 11, 12], [1, 2, 3])\n",
    "# f([10, 11, 12], [1, 2, 3, 4, 5, 6]), f([10, 11, 12, 13], [1, 2, 3, 4, 5, 6])\n",
    "# f([1], [1])\n",
    "# f([10, 11, 12], [1, 2, 3, 4, 5, 6])\n",
    "# f([3], [-2, -1])\n",
    "# f([1, 3], [2])\n",
    "f([3], [-2, -1])\n"
   ]
  },
  {
   "cell_type": "code",
   "execution_count": null,
   "metadata": {},
   "outputs": [],
   "source": []
  }
 ],
 "metadata": {
  "interpreter": {
   "hash": "97367d2de1780ea7c502b529f25888c1b53c0430a7611816b6c7cf19d8435228"
  },
  "kernelspec": {
   "display_name": "Python 3.10.4 64-bit (windows store)",
   "language": "python",
   "name": "python3"
  },
  "language_info": {
   "codemirror_mode": {
    "name": "ipython",
    "version": 3
   },
   "file_extension": ".py",
   "mimetype": "text/x-python",
   "name": "python",
   "nbconvert_exporter": "python",
   "pygments_lexer": "ipython3",
   "version": "3.10.4"
  },
  "orig_nbformat": 4
 },
 "nbformat": 4,
 "nbformat_minor": 2
}
