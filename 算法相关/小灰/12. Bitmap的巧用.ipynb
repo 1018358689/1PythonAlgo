{
 "cells": [
  {
   "cell_type": "code",
   "execution_count": 9,
   "metadata": {},
   "outputs": [
    {
     "data": {
      "text/plain": [
       "4294967296"
      ]
     },
     "execution_count": 9,
     "metadata": {},
     "output_type": "execute_result"
    }
   ],
   "source": [
    "2**32"
   ]
  },
  {
   "cell_type": "code",
   "execution_count": 10,
   "metadata": {},
   "outputs": [],
   "source": [
    "class MyBitmap:\n",
    "\n",
    "    def __init__(self, size: int):  # size总共人数\n",
    "        self.words = [0] * (self.getWordIndex(size - 1) + 1)\n",
    "        self.size = size\n",
    "\n",
    "    def getWordIndex(id: int):  # id也是指第几个人 id值\n",
    "        return id >> 6  # 相当于//64 表示每个int元素控制64位 python3的int是长整型\n",
    "\n",
    "    def getBitIndex(id: int):\n",
    "        return id & ((1 << 6) - 1)  # id % 64\n",
    "\n",
    "    def findBit(self, id: int):\n",
    "        if id < 0 or id > self.size - 1:\n",
    "            raise Exception('超过Bitmap有效范围!')\n",
    "        wordIndex = self.getWordIndex(id)\n",
    "        bitIndex = self.getBitIndex(id)\n",
    "        return self.words[wordIndex] & (1 << bitIndex) == 1\n",
    "\n",
    "    def setBit(self, id: int):\n",
    "        if id < 0 or id > self.size - 1:\n",
    "            raise Exception('超过Bitmap有效范围!')\n",
    "        wordIndex = self.getWordIndex(id)\n",
    "        bitIndex = self.getBitIndex(id)\n",
    "        self.words[wordIndex] |= (1 << bitIndex)\n"
   ]
  },
  {
   "cell_type": "code",
   "execution_count": 1,
   "metadata": {},
   "outputs": [
    {
     "data": {
      "text/plain": [
       "(63, 63, 1)"
      ]
     },
     "execution_count": 1,
     "metadata": {},
     "output_type": "execute_result"
    }
   ],
   "source": [
    "x = 63\n",
    "x % (1 << 6), x & ((1 << 6) - 1), 1\n"
   ]
  },
  {
   "cell_type": "code",
   "execution_count": null,
   "metadata": {},
   "outputs": [],
   "source": []
  }
 ],
 "metadata": {
  "interpreter": {
   "hash": "97367d2de1780ea7c502b529f25888c1b53c0430a7611816b6c7cf19d8435228"
  },
  "kernelspec": {
   "display_name": "Python 3.10.4 64-bit (windows store)",
   "language": "python",
   "name": "python3"
  },
  "language_info": {
   "codemirror_mode": {
    "name": "ipython",
    "version": 3
   },
   "file_extension": ".py",
   "mimetype": "text/x-python",
   "name": "python",
   "nbconvert_exporter": "python",
   "pygments_lexer": "ipython3",
   "version": "3.10.4"
  },
  "orig_nbformat": 4
 },
 "nbformat": 4,
 "nbformat_minor": 2
}
