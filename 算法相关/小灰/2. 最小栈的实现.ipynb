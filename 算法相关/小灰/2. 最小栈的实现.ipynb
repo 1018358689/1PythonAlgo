{
 "cells": [
  {
   "cell_type": "code",
   "execution_count": null,
   "metadata": {},
   "outputs": [],
   "source": [
    "# 实现一个栈有出栈(pop),入栈(push),取最小值(getMin) 保证三个方法复杂度都为O(1)"
   ]
  },
  {
   "cell_type": "code",
   "execution_count": null,
   "metadata": {},
   "outputs": [],
   "source": [
    "class MinStack:\n",
    "\n",
    "    def __init__(self):\n",
    "        self.stack = []\n",
    "        self.minstack = []  # 辅助栈存局部最小元素,曾经的最小值作为备胎\n",
    "\n",
    "    # 出栈元素和辅助栈栈顶一样 辅助栈也出栈\n",
    "    def pop(self):\n",
    "        if self.minstack[-1] == self.stack[-1]:\n",
    "            self.minstack.pop()\n",
    "        return self.stack.pop()\n",
    "\n",
    "    # 辅助栈为空或新元素更小则入辅助栈\n",
    "    def push(self, val):\n",
    "        if not self.minSatck or val <= self.minstack[-1]:  # 注意是小于等于,否则pop会过头\n",
    "            self.minstack.append(val)\n",
    "        self.stack.append(val)\n",
    "\n",
    "    # 辅助栈栈顶即最小值\n",
    "    def getMin(self):\n",
    "        return self.minstack[-1] if self.minstack else None"
   ]
  }
 ],
 "metadata": {
  "interpreter": {
   "hash": "a5f34674cfcc9b13426a2d112c686bc132e4ef443f1487e707e7c3787d6bcf89"
  },
  "kernelspec": {
   "display_name": "Python 3.10.4 64-bit (windows store)",
   "language": "python",
   "name": "python3"
  },
  "language_info": {
   "codemirror_mode": {
    "name": "ipython",
    "version": 3
   },
   "file_extension": ".py",
   "mimetype": "text/x-python",
   "name": "python",
   "nbconvert_exporter": "python",
   "pygments_lexer": "ipython3",
   "version": "3.10.4"
  },
  "orig_nbformat": 4
 },
 "nbformat": 4,
 "nbformat_minor": 2
}
