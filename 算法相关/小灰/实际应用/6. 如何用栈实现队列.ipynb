{
 "cells": [
  {
   "cell_type": "code",
   "execution_count": 1,
   "metadata": {},
   "outputs": [],
   "source": [
    "# leetcode 232\n",
    "class MyQueue:\n",
    "\n",
    "    def __init__(self):\n",
    "        self.inStack = [] # 入栈: 模拟入队\n",
    "        self.outStack = [] # 出栈: 模拟出队 把入栈反转 不一定为空\n",
    "\n",
    "    def push(self, x: int) -> None:\n",
    "        self.inStack.append(x)\n",
    "\n",
    "    def pop(self) -> int:\n",
    "        # 如果出栈为空 则把入栈反转放进出栈\n",
    "        if not self.outStack:\n",
    "            while self.inStack:\n",
    "                self.outStack.append(self.inStack.pop())\n",
    "        return self.outStack.pop()\n",
    "\n",
    "    def peek(self) -> int:\n",
    "        if not self.outStack:\n",
    "            while self.inStack:\n",
    "                self.outStack.append(self.inStack.pop())\n",
    "        return self.outStack[-1]\n",
    "\n",
    "    def empty(self) -> bool:\n",
    "        return not (self.inStack or self.outStack)\n",
    "\n",
    "\n",
    "# Your MyQueue object will be instantiated and called as such:\n",
    "# obj = MyQueue()\n",
    "# obj.push(x)\n",
    "# param_2 = obj.pop()\n",
    "# param_3 = obj.peek()\n",
    "# param_4 = obj.empty()"
   ]
  },
  {
   "cell_type": "code",
   "execution_count": null,
   "metadata": {},
   "outputs": [],
   "source": [
    "# 225. 用队列实现栈\n",
    "from collections import deque\n",
    "\n",
    "\n",
    "class MyStack:\n",
    "\n",
    "    def __init__(self):\n",
    "        self.que = deque([])  # 主队列模拟栈\n",
    "        self.helpQue = deque([])  # 辅助队列 用于找出主队列队尾 保持为空\n",
    "\n",
    "    def push(self, x: int) -> None:\n",
    "        self.que.append(x)\n",
    "\n",
    "    def pop(self) -> int:\n",
    "        # 利用辅助队列 找出队尾 抛出队尾\n",
    "        while len(self.que) > 1:\n",
    "            self.helpQue.append(self.que.popleft())\n",
    "        ans = self.que.popleft()\n",
    "        self.que, self.helpQue = self.helpQue, self.que\n",
    "        return ans\n",
    "\n",
    "    def top(self) -> int:\n",
    "        # 利用辅助队列 找出队尾 记录队尾\n",
    "        while len(self.que) > 1:\n",
    "            self.helpQue.append(self.que.popleft())\n",
    "        ans = self.que[0]\n",
    "        self.helpQue.append(self.que.popleft())\n",
    "        self.que, self.helpQue = self.helpQue, self.que\n",
    "        return ans\n",
    "\n",
    "    def empty(self) -> bool:\n",
    "        return not self.que\n",
    "\n",
    "\n",
    "# Your MyStack object will be instantiated and called as such:\n",
    "# obj = MyStack()\n",
    "# obj.push(x)\n",
    "# param_2 = obj.pop()\n",
    "# param_3 = obj.top()\n",
    "# param_4 = obj.empty()"
   ]
  }
 ],
 "metadata": {
  "interpreter": {
   "hash": "97367d2de1780ea7c502b529f25888c1b53c0430a7611816b6c7cf19d8435228"
  },
  "kernelspec": {
   "display_name": "Python 3.10.4 64-bit (windows store)",
   "language": "python",
   "name": "python3"
  },
  "language_info": {
   "codemirror_mode": {
    "name": "ipython",
    "version": 3
   },
   "file_extension": ".py",
   "mimetype": "text/x-python",
   "name": "python",
   "nbconvert_exporter": "python",
   "pygments_lexer": "ipython3",
   "version": "3.10.4"
  },
  "orig_nbformat": 4
 },
 "nbformat": 4,
 "nbformat_minor": 2
}
