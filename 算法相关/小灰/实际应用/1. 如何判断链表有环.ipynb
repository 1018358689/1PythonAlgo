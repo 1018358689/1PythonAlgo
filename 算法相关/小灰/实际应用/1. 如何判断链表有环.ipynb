{
 "cells": [
  {
   "cell_type": "code",
   "execution_count": null,
   "metadata": {},
   "outputs": [],
   "source": [
    "# 追及问题 一个速度快一个速度慢 有环肯定能追上"
   ]
  },
  {
   "cell_type": "code",
   "execution_count": 6,
   "metadata": {},
   "outputs": [
    {
     "data": {
      "text/plain": [
       "True"
      ]
     },
     "execution_count": 6,
     "metadata": {},
     "output_type": "execute_result"
    }
   ],
   "source": [
    "class ListNode:\n",
    "\n",
    "    def __init__(self, x):\n",
    "        self.val = x\n",
    "        self.next = None\n",
    "\n",
    "\n",
    "def hasCycle(head: ListNode) -> bool:\n",
    "    p1, p2 = head, head\n",
    "    while p2 and p2.next:  # 无环则p2先到头\n",
    "        p1 = p1.next\n",
    "        p2 = p2.next.next\n",
    "        if p1 == p2:\n",
    "            return True\n",
    "    return False\n",
    "\n",
    "\n",
    "node1 = ListNode(5)\n",
    "node2 = ListNode(2)\n",
    "node3 = ListNode(3)\n",
    "node4 = ListNode(6)\n",
    "node1.next = node2\n",
    "node2.next = node3\n",
    "node3.next = node4\n",
    "node4.next = node2\n",
    "\n",
    "hasCycle(node1)"
   ]
  },
  {
   "cell_type": "code",
   "execution_count": 7,
   "metadata": {},
   "outputs": [
    {
     "data": {
      "text/plain": [
       "3"
      ]
     },
     "execution_count": 7,
     "metadata": {},
     "output_type": "execute_result"
    }
   ],
   "source": [
    "# 扩展1:如果链表有环,环长度多少\n",
    "# 第一次相遇后作为起点继续前进计数距离 直到第二次相遇\n",
    "\n",
    "class ListNode:\n",
    "\n",
    "    def __init__(self, x):\n",
    "        self.val = x\n",
    "        self.next = None\n",
    "\n",
    "\n",
    "def theLength(head: ListNode) -> bool:\n",
    "    p1, p2 = head, head\n",
    "    while True:  # 无环则p2先到头\n",
    "        p1 = p1.next\n",
    "        p2 = p2.next.next\n",
    "        if p1 == p2:\n",
    "            break\n",
    "    ans = 0\n",
    "    while True:\n",
    "        p1 = p1.next\n",
    "        p2 = p2.next.next\n",
    "        ans += 1\n",
    "        if p1 == p2:\n",
    "            break\n",
    "    return ans\n",
    "\n",
    "\n",
    "node1 = ListNode(5)\n",
    "node2 = ListNode(2)\n",
    "node3 = ListNode(3)\n",
    "node4 = ListNode(6)\n",
    "node1.next = node2\n",
    "node2.next = node3\n",
    "node3.next = node4\n",
    "node4.next = node2\n",
    "theLength(node1)"
   ]
  },
  {
   "cell_type": "code",
   "execution_count": 9,
   "metadata": {},
   "outputs": [
    {
     "data": {
      "text/plain": [
       "2"
      ]
     },
     "execution_count": 9,
     "metadata": {},
     "output_type": "execute_result"
    }
   ],
   "source": [
    "# 扩展1:如果链表有环,求出入环节点\n",
    "'''假设\n",
    "s1为入环点-首次相遇点\n",
    "s2为首次相遇点-入环点\n",
    "d为起点-入环点\n",
    "则2*(d+s1)=d+s1+n(s1+s2) n>=1\n",
    "得d=(n-1)*(s1+s2)+s2\n",
    "起点到入环点=首次相遇点绕环(n-1)圈再回到入环点\n",
    "放置起点和首次相遇点指针 速度1 相遇即入环点\n",
    "'''\n",
    "\n",
    "\n",
    "class ListNode:\n",
    "\n",
    "    def __init__(self, x):\n",
    "        self.val = x\n",
    "        self.next = None\n",
    "\n",
    "\n",
    "def hasCycle(head: ListNode) -> bool:\n",
    "    p1, p2, p3 = head, head, head\n",
    "    while True:\n",
    "        p1 = p1.next\n",
    "        p2 = p2.next.next\n",
    "        if p1 == p2:\n",
    "            break\n",
    "    while p1 != p3:\n",
    "        p1 = p1.next\n",
    "        p3 = p3.next\n",
    "    return p1.val # p1\n",
    "\n",
    "\n",
    "node1 = ListNode(5)\n",
    "node2 = ListNode(2)\n",
    "node3 = ListNode(3)\n",
    "node4 = ListNode(6)\n",
    "node1.next = node2\n",
    "node2.next = node3\n",
    "node3.next = node4\n",
    "node4.next = node2\n",
    "\n",
    "hasCycle(node1)"
   ]
  },
  {
   "cell_type": "code",
   "execution_count": null,
   "metadata": {},
   "outputs": [],
   "source": []
  }
 ],
 "metadata": {
  "interpreter": {
   "hash": "a5f34674cfcc9b13426a2d112c686bc132e4ef443f1487e707e7c3787d6bcf89"
  },
  "kernelspec": {
   "display_name": "Python 3.10.4 64-bit (windows store)",
   "language": "python",
   "name": "python3"
  },
  "language_info": {
   "codemirror_mode": {
    "name": "ipython",
    "version": 3
   },
   "file_extension": ".py",
   "mimetype": "text/x-python",
   "name": "python",
   "nbconvert_exporter": "python",
   "pygments_lexer": "ipython3",
   "version": "3.10.4"
  },
  "orig_nbformat": 4
 },
 "nbformat": 4,
 "nbformat_minor": 2
}
