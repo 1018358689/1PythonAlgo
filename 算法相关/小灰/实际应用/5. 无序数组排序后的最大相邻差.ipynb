{
 "cells": [
  {
   "cell_type": "code",
   "execution_count": 4,
   "metadata": {},
   "outputs": [
    {
     "data": {
      "text/plain": [
       "(3, 0, 0)"
      ]
     },
     "execution_count": 4,
     "metadata": {},
     "output_type": "execute_result"
    }
   ],
   "source": [
    "# LeetCode 164\n",
    "# 桶排序扩展 复杂度O(n)\n",
    "# 需要明确最大相邻差在桶间产生 不会出现在桶内相邻元素间\n",
    "def f(arr: list):\n",
    "    maxNum, minNum = max(arr), min(arr)\n",
    "    d = maxNum - minNum\n",
    "    sz = len(arr)\n",
    "    if d == 0:\n",
    "        return 0\n",
    "    buckets = [[float('inf'), float('-inf')] for _ in range(sz)]  # 每个桶显示桶内最小值和最大值\n",
    "    # 记录每个桶内最小值和最大值\n",
    "    for num in arr:\n",
    "        bi = int((num - minNum) / (d / (sz - 1)))\n",
    "        if num < buckets[bi][0]:\n",
    "            buckets[bi][0] = num\n",
    "        if num > buckets[bi][1]:\n",
    "            buckets[bi][1] = num\n",
    "    ans = 0\n",
    "    perMax = buckets[0][1]  # 前最大值\n",
    "    for minIn, maxIn in buckets[1:]:\n",
    "        if minIn == float('inf'):  # 空桶跳过\n",
    "            continue\n",
    "        ans = max(ans, minIn - perMax)  # 后最小值-前最大值 更新结果\n",
    "        perMax = maxIn  # 更新前最大值\n",
    "    return ans\n",
    "\n",
    "\n",
    "f([3, 6, 9, 1]), f([10]), f([1, 1, 1])\n"
   ]
  },
  {
   "cell_type": "code",
   "execution_count": null,
   "metadata": {},
   "outputs": [],
   "source": []
  }
 ],
 "metadata": {
  "interpreter": {
   "hash": "97367d2de1780ea7c502b529f25888c1b53c0430a7611816b6c7cf19d8435228"
  },
  "kernelspec": {
   "display_name": "Python 3.10.4 64-bit (windows store)",
   "language": "python",
   "name": "python3"
  },
  "language_info": {
   "codemirror_mode": {
    "name": "ipython",
    "version": 3
   },
   "file_extension": ".py",
   "mimetype": "text/x-python",
   "name": "python",
   "nbconvert_exporter": "python",
   "pygments_lexer": "ipython3",
   "version": "3.10.4"
  },
  "orig_nbformat": 4
 },
 "nbformat": 4,
 "nbformat_minor": 2
}
