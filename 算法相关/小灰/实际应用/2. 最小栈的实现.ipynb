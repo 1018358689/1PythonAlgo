{
 "cells": [
  {
   "cell_type": "code",
   "execution_count": null,
   "metadata": {},
   "outputs": [],
   "source": [
    "# 实现一个栈有入栈(push),出栈(pop 不用返回),栈顶(top),取最小值(getMin) 保证三个方法复杂度都为O(1)"
   ]
  },
  {
   "cell_type": "code",
   "execution_count": 2,
   "metadata": {},
   "outputs": [],
   "source": [
    "# 两个栈不同步\n",
    "class MinStack:\n",
    "\n",
    "    def __init__(self):\n",
    "        self.stack = []\n",
    "        self.minStack = []  # 辅助栈存累积最小元素,曾经的最小值作为备胎\n",
    "\n",
    "    def push(self, val: int) -> None:\n",
    "        self.stack.append(val)\n",
    "        if not self.minStack or val <= self.minStack[-1]:  # 初始或遇到最小值则入栈 注意<= 避免pop出错\n",
    "            self.minStack.append(val)\n",
    "\n",
    "    def pop(self) -> None:\n",
    "        localMin = self.stack.pop()\n",
    "        if localMin == self.minStack[-1]:  # pop考虑minStack是否需要pop\n",
    "            self.minStack.pop()\n",
    "\n",
    "    def top(self) -> int:\n",
    "        return self.stack[-1]\n",
    "\n",
    "    def getMin(self) -> int:\n",
    "        return self.minStack[-1]\n",
    "\n",
    "\n",
    "# Your MinStack object will be instantiated and called as such:\n",
    "# obj = MinStack()\n",
    "# obj.push(val)\n",
    "# obj.pop()\n",
    "# param_3 = obj.top()\n",
    "# param_4 = obj.getMin()"
   ]
  },
  {
   "cell_type": "code",
   "execution_count": null,
   "metadata": {},
   "outputs": [],
   "source": [
    "# 两个栈同步 比较好理解\n",
    "class MinStack:\n",
    "\n",
    "    def __init__(self):\n",
    "        self.stack = []\n",
    "        self.minStack = []  # 辅助栈存累积最小元素,曾经的最小值作为备胎\n",
    "\n",
    "    def push(self, val: int) -> None:\n",
    "        self.stack.append(val)\n",
    "        if not self.minStack or val < self.minStack[-1]:  # 两个栈同步 小于和 小于等于 都可以\n",
    "            self.minStack.append(val)\n",
    "        else:\n",
    "            self.minStack.append(self.minStack[-1])\n",
    "\n",
    "    def pop(self) -> None:\n",
    "        self.stack.pop()\n",
    "        self.minStack.pop()\n",
    "\n",
    "    def top(self) -> int:\n",
    "        return self.stack[-1]\n",
    "\n",
    "    def getMin(self) -> int:\n",
    "        return self.minStack[-1]\n",
    "\n",
    "\n",
    "# Your MinStack object will be instantiated and called as such:\n",
    "# obj = MinStack()\n",
    "# obj.push(val)\n",
    "# obj.pop()\n",
    "# param_3 = obj.top()\n",
    "# param_4 = obj.getMin()"
   ]
  }
 ],
 "metadata": {
  "interpreter": {
   "hash": "aee8b7b246df8f9039afb4144a1f6fd8d2ca17a180786b69acc140d282b71a49"
  },
  "kernelspec": {
   "display_name": "Python 3.10.2 64-bit",
   "language": "python",
   "name": "python3"
  },
  "language_info": {
   "codemirror_mode": {
    "name": "ipython",
    "version": 3
   },
   "file_extension": ".py",
   "mimetype": "text/x-python",
   "name": "python",
   "nbconvert_exporter": "python",
   "pygments_lexer": "ipython3",
   "version": "3.10.2"
  },
  "orig_nbformat": 4
 },
 "nbformat": 4,
 "nbformat_minor": 2
}
