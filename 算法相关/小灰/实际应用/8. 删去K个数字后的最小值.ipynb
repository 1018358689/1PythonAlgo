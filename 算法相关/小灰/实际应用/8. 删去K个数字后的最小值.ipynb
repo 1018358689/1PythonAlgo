{
 "cells": [
  {
   "cell_type": "code",
   "execution_count": 25,
   "metadata": {},
   "outputs": [
    {
     "data": {
      "text/plain": [
       "('1219', '200', '0', '0')"
      ]
     },
     "execution_count": 25,
     "metadata": {},
     "output_type": "execute_result"
    }
   ],
   "source": [
    "# LeetCode 402\n",
    "def f(num: str, k: int):\n",
    "    if len(num) == k:\n",
    "        return '0'\n",
    "    stack = []  # 不严格递增栈\n",
    "    for n in num:\n",
    "        while stack and n < stack[-1] and k > 0:\n",
    "            stack.pop()\n",
    "            k -= 1\n",
    "        stack.append(n)\n",
    "    # print(stack)\n",
    "    return str(int(''.join(stack[:len(stack) - k])))\n",
    "\n",
    "\n",
    "f('1432219', 3), f('10200', 1), f('11', 2), f('9', 1)\n",
    "# f('112',1)"
   ]
  },
  {
   "cell_type": "code",
   "execution_count": 11,
   "metadata": {},
   "outputs": [
    {
     "data": {
      "text/plain": [
       "200"
      ]
     },
     "execution_count": 11,
     "metadata": {},
     "output_type": "execute_result"
    }
   ],
   "source": [
    "x = '0200'\n",
    "x.lstrip('0')\n",
    "int(x)"
   ]
  },
  {
   "cell_type": "code",
   "execution_count": 28,
   "metadata": {},
   "outputs": [
    {
     "name": "stdout",
     "output_type": "stream",
     "text": [
      "['1', '2', '1', '9']\n",
      "['0', '2', '0', '0']\n",
      "['1', '1']\n",
      "['9']\n"
     ]
    },
    {
     "data": {
      "text/plain": [
       "('1219', '200', '0', '0')"
      ]
     },
     "execution_count": 28,
     "metadata": {},
     "output_type": "execute_result"
    }
   ],
   "source": [
    "# LeetCode 402\n",
    "# 维护一个不严格递增栈 保证里面数字最小\n",
    "# 或删掉数字补高位 所以被删掉数字比左边要补的高位小\n",
    "def f(num: str, k: int):\n",
    "    stack = []  # 不严格递增栈\n",
    "    # 存在k提早用完 后面全不删\n",
    "    for n in num:\n",
    "        while stack and n < stack[-1] and k > 0:\n",
    "            stack.pop()\n",
    "            k -= 1\n",
    "        stack.append(n)\n",
    "    # print(stack)\n",
    "    # 存在k没用完 那么后面k个都删掉\n",
    "    # 存在都删完为空 所以或取'0'\n",
    "    return ''.join(stack[:len(stack) - k]).lstrip('0') or '0'\n",
    "\n",
    "\n",
    "f('1432219', 3), f('10200', 1), f('11', 2), f('9', 1)\n",
    "# f('112',1)"
   ]
  },
  {
   "cell_type": "code",
   "execution_count": null,
   "metadata": {},
   "outputs": [],
   "source": []
  }
 ],
 "metadata": {
  "interpreter": {
   "hash": "97367d2de1780ea7c502b529f25888c1b53c0430a7611816b6c7cf19d8435228"
  },
  "kernelspec": {
   "display_name": "Python 3.10.4 64-bit (windows store)",
   "language": "python",
   "name": "python3"
  },
  "language_info": {
   "codemirror_mode": {
    "name": "ipython",
    "version": 3
   },
   "file_extension": ".py",
   "mimetype": "text/x-python",
   "name": "python",
   "nbconvert_exporter": "python",
   "pygments_lexer": "ipython3",
   "version": "3.10.4"
  },
  "orig_nbformat": 4
 },
 "nbformat": 4,
 "nbformat_minor": 2
}
