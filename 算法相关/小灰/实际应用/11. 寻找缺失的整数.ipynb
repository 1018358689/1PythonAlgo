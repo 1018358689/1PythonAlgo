{
 "cells": [
  {
   "cell_type": "markdown",
   "metadata": {},
   "source": [
    "1.在一个无序数组里有99个不重复正整数,范围1-100,唯独缺少1个1-100中的整数,如何找出缺失的整数?"
   ]
  },
  {
   "cell_type": "code",
   "execution_count": 4,
   "metadata": {},
   "outputs": [
    {
     "data": {
      "text/plain": [
       "2"
      ]
     },
     "execution_count": 4,
     "metadata": {},
     "output_type": "execute_result"
    }
   ],
   "source": [
    "def findLostNum(n: int, nums: list):  # nums在1-n范围内缺少的数字\n",
    "    for i in range(1, n + 1):\n",
    "        if i not in nums:\n",
    "            return i\n",
    "\n",
    "\n",
    "findLostNum(5, [5, 3, 4, 1])\n"
   ]
  },
  {
   "cell_type": "code",
   "execution_count": 6,
   "metadata": {},
   "outputs": [
    {
     "data": {
      "text/plain": [
       "2"
      ]
     },
     "execution_count": 6,
     "metadata": {},
     "output_type": "execute_result"
    }
   ],
   "source": [
    "def findLostNum(n: int, nums: list):\n",
    "    s1 = (1 + n) * n // 2\n",
    "    s2 = sum(nums)\n",
    "    return s1 - s2\n",
    "\n",
    "\n",
    "findLostNum(5, [5, 3, 4, 1])\n"
   ]
  },
  {
   "cell_type": "code",
   "execution_count": 7,
   "metadata": {},
   "outputs": [
    {
     "data": {
      "text/plain": [
       "2"
      ]
     },
     "execution_count": 7,
     "metadata": {},
     "output_type": "execute_result"
    }
   ],
   "source": [
    "from random import randint\n",
    "\n",
    "# 复习桶排序和快速排序\n",
    "def findLostNum(n: int, nums: list):  # nums在1-n范围内缺少的数字\n",
    "\n",
    "    def BucketSort(nums: list):\n",
    "        sz = len(nums)\n",
    "        buckets = [[] for _ in range(sz)]\n",
    "        maxNum, minNum = max(nums), min(nums)\n",
    "        d = maxNum - minNum\n",
    "        for n in nums:\n",
    "            bi = int((n - minNum) / (d / (sz - 1)))\n",
    "            buckets[bi].append(n)\n",
    "        res = []\n",
    "        for bu in buckets:\n",
    "            # bu.sort()\n",
    "            quickSort(bu, 0, len(bu) - 1)\n",
    "            res += bu\n",
    "        return res\n",
    "\n",
    "    def quickSort(nums: list, si: int, ei: int):  # 前后包括\n",
    "\n",
    "        def getPivot(si: int, ei: int):\n",
    "            pivot = randint(si, ei)\n",
    "            nums[si], nums[pivot] = nums[pivot], nums[si]\n",
    "            mark = si\n",
    "            for i in range(si + 1, ei + 1):\n",
    "                if nums[i] < nums[si]:\n",
    "                    mark += 1\n",
    "                    nums[i], nums[mark] = nums[mark], nums[i]\n",
    "            nums[si], nums[mark] = nums[mark], nums[si]\n",
    "            return mark\n",
    "\n",
    "        def dc(si: int, ei: int):\n",
    "            if si >= ei:\n",
    "                return\n",
    "            pivot = getPivot(si, ei)\n",
    "            dc(si, pivot - 1)\n",
    "            dc(pivot + 1, ei)\n",
    "\n",
    "        dc(si, ei)\n",
    "\n",
    "    sortNum = BucketSort(nums)\n",
    "    if sortNum[0] != 1:\n",
    "        return 1\n",
    "    elif sortNum[-1] != n:\n",
    "        return n\n",
    "    else:\n",
    "        for i in range(1, len(sortNum)):\n",
    "            if sortNum[i] - sortNum[i - 1] > 1:\n",
    "                return sortNum[i] - 1\n",
    "\n",
    "\n",
    "findLostNum(5, [5, 3, 4, 1])\n"
   ]
  },
  {
   "cell_type": "markdown",
   "metadata": {},
   "source": [
    "2.在一个无序数组里有若干个正整数,范围1-100,其中99个整数都出现了偶数次,1个整数出现了奇数次,如何找出缺失的整数?"
   ]
  },
  {
   "cell_type": "code",
   "execution_count": 8,
   "metadata": {},
   "outputs": [
    {
     "data": {
      "text/plain": [
       "3"
      ]
     },
     "execution_count": 8,
     "metadata": {},
     "output_type": "execute_result"
    }
   ],
   "source": [
    "def findLostNum(nums: list):\n",
    "    ans = 0\n",
    "    for n in nums:\n",
    "        ans ^= n\n",
    "    return ans\n",
    "\n",
    "\n",
    "findLostNum([3, 3, 3, 2, 2, 11, 11, 4, 4])\n"
   ]
  },
  {
   "cell_type": "markdown",
   "metadata": {},
   "source": [
    "3.在一个无序数组里有若干个正整数,范围1-100,其中98个整数都出现了偶数次,2个整数出现了奇数次,如何找出缺失的整数?"
   ]
  },
  {
   "cell_type": "code",
   "execution_count": 11,
   "metadata": {},
   "outputs": [
    {
     "data": {
      "text/plain": [
       "[4, 3]"
      ]
     },
     "execution_count": 11,
     "metadata": {},
     "output_type": "execute_result"
    }
   ],
   "source": [
    "def findLostNum(nums: list):\n",
    "    ans = [0, 0]\n",
    "    xor = 0\n",
    "    for n in nums:\n",
    "        xor ^= n\n",
    "    # separator = 0\n",
    "    # while ((xor >> separator) & 1) == 0:\n",
    "    #     separator += 1\n",
    "    # separator = 1 << separator\n",
    "    separator = 1\n",
    "    while (separator & xor) == 0:\n",
    "        separator <<= 1\n",
    "    for n in nums:\n",
    "        if (n & separator) == 0:\n",
    "            ans[0] ^= n\n",
    "        else:\n",
    "            ans[1] ^= n\n",
    "    return ans\n",
    "\n",
    "\n",
    "findLostNum([3, 3, 3, 2, 2, 11, 11, 4])\n"
   ]
  },
  {
   "cell_type": "code",
   "execution_count": null,
   "metadata": {},
   "outputs": [],
   "source": []
  }
 ],
 "metadata": {
  "interpreter": {
   "hash": "97367d2de1780ea7c502b529f25888c1b53c0430a7611816b6c7cf19d8435228"
  },
  "kernelspec": {
   "display_name": "Python 3.10.4 64-bit (windows store)",
   "language": "python",
   "name": "python3"
  },
  "language_info": {
   "codemirror_mode": {
    "name": "ipython",
    "version": 3
   },
   "file_extension": ".py",
   "mimetype": "text/x-python",
   "name": "python",
   "nbconvert_exporter": "python",
   "pygments_lexer": "ipython3",
   "version": "3.10.4"
  },
  "orig_nbformat": 4
 },
 "nbformat": 4,
 "nbformat_minor": 2
}
