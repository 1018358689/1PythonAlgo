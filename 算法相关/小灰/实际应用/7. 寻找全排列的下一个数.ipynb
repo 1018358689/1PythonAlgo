{
 "cells": [
  {
   "cell_type": "code",
   "execution_count": 13,
   "metadata": {},
   "outputs": [
    {
     "data": {
      "text/plain": [
       "([1, 3, 2, 2], [1, 2, 3])"
      ]
     },
     "execution_count": 13,
     "metadata": {},
     "output_type": "execute_result"
    }
   ],
   "source": [
    "# leetcode 31\n",
    "# 前置知识 倒序最大 正序最小\n",
    "def nextPermutation(nums: list) -> None:\n",
    "    \"\"\"\n",
    "    Do not return anything, modify nums in-place instead.\n",
    "    \"\"\"\n",
    "    sz = len(nums)\n",
    "    sig = None  # 标记点:倒序第一个出现变小的点\n",
    "    for i in range(sz - 1, 0, -1):\n",
    "        if nums[i - 1] < nums[i]:\n",
    "            sig = i - 1\n",
    "            break\n",
    "    if sig is None:  # 已经倒序最大\n",
    "        nums.sort()  # 下一个排列是正序最小\n",
    "    else:\n",
    "        # 二分查找[sig+1,sz-1]大于标记点的索引\n",
    "        l, r = sig + 1, sz - 1\n",
    "        while l <= r:\n",
    "            m = l + r >> 1\n",
    "            if nums[m] > nums[sig]:\n",
    "                l = m + 1\n",
    "            else:\n",
    "                r = m - 1\n",
    "        nums[sig], nums[r] = nums[r], nums[sig]  # 交换标记点和二分查找的点\n",
    "        # nums[sig + 1:].sort()  # 后面数字正序保证最小 这样sort不对\n",
    "        # 已经倒序 首尾互换即可\n",
    "        l, r = sig + 1, sz - 1\n",
    "        while l < r:\n",
    "            nums[l], nums[r] = nums[r], nums[l]\n",
    "            l += 1\n",
    "            r -= 1\n",
    "    return nums\n",
    "\n",
    "\n",
    "nextPermutation([1, 2, 3, 2]), nextPermutation([3, 2, 1])\n",
    "# nextPermutation([1, 3, 2])\n"
   ]
  },
  {
   "cell_type": "code",
   "execution_count": 5,
   "metadata": {},
   "outputs": [
    {
     "data": {
      "text/plain": [
       "([1, 2, 3], [1, 3, 2, 1])"
      ]
     },
     "execution_count": 5,
     "metadata": {},
     "output_type": "execute_result"
    }
   ],
   "source": [
    "a = [1,3,2,1]\n",
    "# a[1:].sort,a\n",
    "a[1:][::-1],a"
   ]
  },
  {
   "cell_type": "code",
   "execution_count": 21,
   "metadata": {},
   "outputs": [
    {
     "data": {
      "text/plain": [
       "[1, 3, 2, 2]"
      ]
     },
     "execution_count": 21,
     "metadata": {},
     "output_type": "execute_result"
    }
   ],
   "source": [
    "# 原地快排复习\n",
    "from random import randint\n",
    "\n",
    "\n",
    "def nextPermutation(nums: list) -> None:\n",
    "    \"\"\"\n",
    "    Do not return anything, modify nums in-place instead.\n",
    "    \"\"\"\n",
    "\n",
    "    def quickSort(nums: list, l: int, r: int):\n",
    "\n",
    "        def dc(l, r):\n",
    "            if l >= r:\n",
    "                return\n",
    "            pivot = getPivot(l, r)\n",
    "            dc(l, pivot - 1)\n",
    "            dc(pivot + 1, r)\n",
    "\n",
    "        def getPivot(l, r):\n",
    "            pivot = randint(l, r)\n",
    "            nums[l], nums[pivot] = nums[pivot], nums[l]\n",
    "            mark = l\n",
    "            for i in range(l + 1, r + 1):\n",
    "                if nums[i] < nums[l]:\n",
    "                    mark += 1\n",
    "                    nums[i], nums[mark] = nums[mark], nums[i]\n",
    "            nums[mark], nums[l] = nums[l], nums[mark]\n",
    "            return mark\n",
    "\n",
    "        dc(l, r)\n",
    "\n",
    "    sz = len(nums)\n",
    "    sig = None\n",
    "    for i in range(sz - 1, 0, -1):\n",
    "        if nums[i - 1] < nums[i]:\n",
    "            sig = i - 1\n",
    "            break\n",
    "    if sig is None:\n",
    "        quickSort(nums, 0, sz - 1)\n",
    "    else:\n",
    "        l, r = sig + 1, sz - 1\n",
    "        while l <= r:\n",
    "            m = l + r >> 1\n",
    "            if nums[m] > nums[sig]:\n",
    "                l = m + 1\n",
    "            else:\n",
    "                r = m - 1\n",
    "        nums[sig], nums[r] = nums[r], nums[sig]\n",
    "        quickSort(nums, sig + 1, sz - 1)\n",
    "    # return nums\n",
    "\n",
    "\n",
    "nextPermutation([1, 2, 3, 2])\n",
    "# nextPermutation([3, 2, 1])\n",
    "# nextPermutation([1, 3, 2])"
   ]
  },
  {
   "cell_type": "code",
   "execution_count": null,
   "metadata": {},
   "outputs": [],
   "source": []
  }
 ],
 "metadata": {
  "interpreter": {
   "hash": "97367d2de1780ea7c502b529f25888c1b53c0430a7611816b6c7cf19d8435228"
  },
  "kernelspec": {
   "display_name": "Python 3.10.4 64-bit (windows store)",
   "language": "python",
   "name": "python3"
  },
  "language_info": {
   "codemirror_mode": {
    "name": "ipython",
    "version": 3
   },
   "file_extension": ".py",
   "mimetype": "text/x-python",
   "name": "python",
   "nbconvert_exporter": "python",
   "pygments_lexer": "ipython3",
   "version": "3.10.4"
  },
  "orig_nbformat": 4
 },
 "nbformat": 4,
 "nbformat_minor": 2
}
