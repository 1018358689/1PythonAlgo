{
 "cells": [
  {
   "attachments": {},
   "cell_type": "markdown",
   "metadata": {},
   "source": [
    "# 变大 那就把 前面小数和后面大数交换 也就是从后往前递增 第一个变小的数\n",
    "如何得到这样的排列顺序？这是本文的重点。我们可以这样来分析：\n",
    "\n",
    "我们希望下一个数 比当前数大，这样才满足 “下一个排列” 的定义。因此只需要 将后面的「大数」与前面的「小数」交换，就能得到一个更大的数。比如 123456，将 5 和 6 交换就能得到一个更大的数 123465。\n",
    "我们还希望下一个数 增加的幅度尽可能的小，这样才满足“下一个排列与当前排列紧邻“的要求。为了满足这个要求，我们需要：\n",
    "在 尽可能靠右的低位 进行交换，需要 从后向前 查找\n",
    "将一个 尽可能小的「大数」 与前面的「小数」交换。比如 123465，下一个排列应该把 5 和 4 交换而不是把 6 和 4 交换\n",
    "将「大数」换到前面后，需要将「大数」后面的所有数 重置为升序，升序排列就是最小的排列。以 123465 为例：首先按照上一步，交换 5 和 4，得到 123564；然后需要将 5 之后的数重置为升序，得到 123546。显然 123546 比 123564 更小，123546 就是 123465 的下一个排列\n",
    "以上就是求 “下一个排列” 的分析过程。"
   ]
  },
  {
   "cell_type": "code",
   "execution_count": 13,
   "metadata": {},
   "outputs": [
    {
     "data": {
      "text/plain": [
       "([1, 3, 2, 2], [1, 2, 3])"
      ]
     },
     "execution_count": 13,
     "metadata": {},
     "output_type": "execute_result"
    }
   ],
   "source": [
    "# leetcode 31\n",
    "# 前置知识 倒序最大 正序最小\n",
    "def nextPermutation(nums: list) -> None:\n",
    "    \"\"\"\n",
    "    Do not return anything, modify nums in-place instead.\n",
    "    \"\"\"\n",
    "    sz = len(nums)\n",
    "    sig = None  # 标记点:倒序第一个出现变小的点\n",
    "    for i in range(sz - 1, 0, -1):\n",
    "        if nums[i - 1] < nums[i]:\n",
    "            sig = i - 1\n",
    "            break\n",
    "    if sig is None:  # 已经倒序最大\n",
    "        nums.sort()  # 下一个排列是正序最小\n",
    "    else:\n",
    "        # 二分查找[sig+1,sz-1]大于标记点的索引\n",
    "        l, r = sig + 1, sz - 1\n",
    "        while l <= r:\n",
    "            m = l + r >> 1\n",
    "            if nums[m] > nums[sig]:\n",
    "                l = m + 1\n",
    "            else:\n",
    "                r = m - 1\n",
    "        nums[sig], nums[r] = nums[r], nums[sig]  # 交换标记点和二分查找的点\n",
    "        # nums[sig + 1:].sort()  # 后面数字正序保证最小 这样sort不对\n",
    "        # 已经倒序 首尾互换即可\n",
    "        l, r = sig + 1, sz - 1\n",
    "        while l < r:\n",
    "            nums[l], nums[r] = nums[r], nums[l]\n",
    "            l += 1\n",
    "            r -= 1\n",
    "    return nums\n",
    "\n",
    "\n",
    "nextPermutation([1, 2, 3, 2]), nextPermutation([3, 2, 1])\n",
    "# nextPermutation([1, 3, 2])\n"
   ]
  },
  {
   "cell_type": "code",
   "execution_count": 5,
   "metadata": {},
   "outputs": [
    {
     "data": {
      "text/plain": [
       "([1, 2, 3], [1, 3, 2, 1])"
      ]
     },
     "execution_count": 5,
     "metadata": {},
     "output_type": "execute_result"
    }
   ],
   "source": [
    "a = [1,3,2,1]\n",
    "# a[1:].sort,a\n",
    "a[1:][::-1],a"
   ]
  },
  {
   "cell_type": "code",
   "execution_count": 21,
   "metadata": {},
   "outputs": [
    {
     "data": {
      "text/plain": [
       "[1, 3, 2, 2]"
      ]
     },
     "execution_count": 21,
     "metadata": {},
     "output_type": "execute_result"
    }
   ],
   "source": [
    "# 原地快排复习\n",
    "from random import randint\n",
    "\n",
    "\n",
    "def nextPermutation(nums: list) -> None:\n",
    "    \"\"\"\n",
    "    Do not return anything, modify nums in-place instead.\n",
    "    \"\"\"\n",
    "\n",
    "    def quickSort(nums: list, l: int, r: int):\n",
    "\n",
    "        def dc(l, r):\n",
    "            if l >= r:\n",
    "                return\n",
    "            pivot = getPivot(l, r)\n",
    "            dc(l, pivot - 1)\n",
    "            dc(pivot + 1, r)\n",
    "\n",
    "        def getPivot(l, r):\n",
    "            pivot = randint(l, r)\n",
    "            nums[l], nums[pivot] = nums[pivot], nums[l]\n",
    "            mark = l\n",
    "            for i in range(l + 1, r + 1):\n",
    "                if nums[i] < nums[l]:\n",
    "                    mark += 1\n",
    "                    nums[i], nums[mark] = nums[mark], nums[i]\n",
    "            nums[mark], nums[l] = nums[l], nums[mark]\n",
    "            return mark\n",
    "\n",
    "        dc(l, r)\n",
    "\n",
    "    sz = len(nums)\n",
    "    sig = None\n",
    "    for i in range(sz - 1, 0, -1):\n",
    "        if nums[i - 1] < nums[i]:\n",
    "            sig = i - 1\n",
    "            break\n",
    "    if sig is None:\n",
    "        quickSort(nums, 0, sz - 1)\n",
    "    else:\n",
    "        l, r = sig + 1, sz - 1\n",
    "        while l <= r:\n",
    "            m = l + r >> 1\n",
    "            if nums[m] > nums[sig]:\n",
    "                l = m + 1\n",
    "            else:\n",
    "                r = m - 1\n",
    "        nums[sig], nums[r] = nums[r], nums[sig]\n",
    "        quickSort(nums, sig + 1, sz - 1)\n",
    "    # return nums\n",
    "\n",
    "\n",
    "nextPermutation([1, 2, 3, 2])\n",
    "# nextPermutation([3, 2, 1])\n",
    "# nextPermutation([1, 3, 2])"
   ]
  },
  {
   "cell_type": "code",
   "execution_count": null,
   "metadata": {},
   "outputs": [],
   "source": [
    "# lc1053\n",
    "class Solution:\n",
    "\n",
    "    def prevPermOpt1(self, arr: List[int]) -> List[int]:\n",
    "        n = len(arr)\n",
    "        if n == 1: return arr\n",
    "        p = n - 2\n",
    "        while p >= 0 and arr[p] <= arr[p + 1]:\n",
    "            p -= 1\n",
    "        if p < 0: return arr\n",
    "        r = bisect_left(arr, arr[p], p + 1, n) - 1  # 直接找到r 互换还不行 比如 [3,1,1,3]例子 还要找 相同1里的第一个1\n",
    "        l = bisect_left(arr, arr[r], p + 1, n)\n",
    "        arr[p], arr[l] = arr[l], arr[p]\n",
    "        return arr"
   ]
  }
 ],
 "metadata": {
  "interpreter": {
   "hash": "97367d2de1780ea7c502b529f25888c1b53c0430a7611816b6c7cf19d8435228"
  },
  "kernelspec": {
   "display_name": "Python 3.10.4 64-bit (windows store)",
   "language": "python",
   "name": "python3"
  },
  "language_info": {
   "codemirror_mode": {
    "name": "ipython",
    "version": 3
   },
   "file_extension": ".py",
   "mimetype": "text/x-python",
   "name": "python",
   "nbconvert_exporter": "python",
   "pygments_lexer": "ipython3",
   "version": "3.10.4"
  },
  "orig_nbformat": 4
 },
 "nbformat": 4,
 "nbformat_minor": 2
}
