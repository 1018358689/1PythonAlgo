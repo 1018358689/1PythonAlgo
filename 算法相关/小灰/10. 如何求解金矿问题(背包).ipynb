{
 "cells": [
  {
   "cell_type": "markdown",
   "metadata": {},
   "source": [
    "'''\n",
    "各参数如下\n",
    "w:工人数\n",
    "n:金矿数\n",
    "p:每个金矿开采所需工人数量\n",
    "g:每个金矿的储量\n",
    "\n",
    "目标:求最优收益\n",
    "'''    \n",
    "01背包问题 要么采 要不不采"
   ]
  },
  {
   "cell_type": "code",
   "execution_count": 6,
   "metadata": {},
   "outputs": [
    {
     "data": {
      "text/plain": [
       "900"
      ]
     },
     "execution_count": 6,
     "metadata": {},
     "output_type": "execute_result"
    }
   ],
   "source": [
    "def getGoldMining(w: int, n: int, p: list, g: list):\n",
    "    # basecase\n",
    "    if w == 0 or n == 0:\n",
    "        return 0\n",
    "    if w < p[n - 1]:  # 人数没法满足最后一个金矿所需工人数 选择不采最后一个\n",
    "        return getGoldMining(w, n - 1, p, g)\n",
    "    else:  # 人数满足则 max(不采最后一个,采最后一个)\n",
    "        return max(getGoldMining(w, n - 1, p, g), getGoldMining(w - p[n - 1], n - 1, p, g) + g[n - 1])\n",
    "\n",
    "\n",
    "getGoldMining(10, 5, [5, 5, 4, 5, 4], [400, 500, 200, 300, 350])\n"
   ]
  },
  {
   "cell_type": "code",
   "execution_count": 4,
   "metadata": {},
   "outputs": [
    {
     "data": {
      "text/plain": [
       "900"
      ]
     },
     "execution_count": 4,
     "metadata": {},
     "output_type": "execute_result"
    }
   ],
   "source": [
    "mem = {}\n",
    "\n",
    "\n",
    "def getGoldMining(w: int, n: int, p: list, g: list):\n",
    "    # basecase\n",
    "    if w == 0 or n == 0:\n",
    "        return 0\n",
    "    if (w, n) not in mem:\n",
    "        if w < p[n - 1]:  # 人数没法满足最后一个金矿所需工人数 选择不采最后一个\n",
    "            mem[(w, n)] = getGoldMining(w, n - 1, p, g)\n",
    "        else:  # 人数满足则 max(不采最后一个,采最后一个)\n",
    "            mem[(w, n)] = max(getGoldMining(w, n - 1, p, g), getGoldMining(w - p[n - 1], n - 1, p, g) + g[n - 1])\n",
    "    return mem[(w, n)]\n",
    "\n",
    "\n",
    "getGoldMining(10, 5, [5, 5, 4, 5, 4], [400, 500, 200, 300, 350])\n"
   ]
  },
  {
   "cell_type": "code",
   "execution_count": 10,
   "metadata": {},
   "outputs": [
    {
     "data": {
      "text/plain": [
       "900"
      ]
     },
     "execution_count": 10,
     "metadata": {},
     "output_type": "execute_result"
    }
   ],
   "source": [
    "def getGoldMining(w: int, n: int, p: list, g: list):\n",
    "    dp = [[0] * (w + 1) for _ in range(n + 1)]\n",
    "    # besecase\n",
    "    for i in range(n + 1):\n",
    "        dp[i][0] = 0\n",
    "    for j in range(w + 1):\n",
    "        dp[0][j] = 0\n",
    "    # i:矿 j:人\n",
    "    for i in range(1, n + 1):\n",
    "        curGold, curPeople = g[i - 1], p[i - 1]\n",
    "        for j in range(1, w + 1):\n",
    "            if j < curPeople:  # 不采\n",
    "                dp[i][j] = dp[i - 1][j]\n",
    "            else:  # max(不采,采)\n",
    "                dp[i][j] = max(dp[i - 1][j], dp[i - 1][j - curPeople] + curGold)\n",
    "    return dp[-1][-1]\n",
    "\n",
    "\n",
    "getGoldMining(10, 5, [5, 5, 4, 5, 4], [400, 500, 200, 300, 350])\n"
   ]
  },
  {
   "cell_type": "code",
   "execution_count": null,
   "metadata": {},
   "outputs": [],
   "source": []
  }
 ],
 "metadata": {
  "interpreter": {
   "hash": "97367d2de1780ea7c502b529f25888c1b53c0430a7611816b6c7cf19d8435228"
  },
  "kernelspec": {
   "display_name": "Python 3.10.4 64-bit (windows store)",
   "language": "python",
   "name": "python3"
  },
  "language_info": {
   "codemirror_mode": {
    "name": "ipython",
    "version": 3
   },
   "file_extension": ".py",
   "mimetype": "text/x-python",
   "name": "python",
   "nbconvert_exporter": "python",
   "pygments_lexer": "ipython3",
   "version": "3.10.4"
  },
  "orig_nbformat": 4
 },
 "nbformat": 4,
 "nbformat_minor": 2
}
