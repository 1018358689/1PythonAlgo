{
 "cells": [
  {
   "cell_type": "code",
   "execution_count": 5,
   "metadata": {},
   "outputs": [
    {
     "data": {
      "text/plain": [
       "(1, 3)"
      ]
     },
     "execution_count": 5,
     "metadata": {},
     "output_type": "execute_result"
    }
   ],
   "source": [
    "def getGreatestCommonDivisor(a, b):\n",
    "    big, small = max(a, b), min(a, b)\n",
    "    if big % small == 0:\n",
    "        return small\n",
    "    for n in range(small // 2, 0, -1):\n",
    "        if big % n == 0 and small % n == 0:\n",
    "            return n\n",
    "\n",
    "\n",
    "getGreatestCommonDivisor(2, 3), getGreatestCommonDivisor(6, 9)\n"
   ]
  },
  {
   "cell_type": "code",
   "execution_count": 1,
   "metadata": {},
   "outputs": [
    {
     "data": {
      "text/plain": [
       "(1, 3)"
      ]
     },
     "execution_count": 1,
     "metadata": {},
     "output_type": "execute_result"
    }
   ],
   "source": [
    "# 辗转相除法\n",
    "# 缺点:取模运算性能差\n",
    "def getGreatestCommonDivisor(a, b):\n",
    "    big, small = max(a, b), min(a, b)\n",
    "    if (div := big % small) == 0:\n",
    "        return small\n",
    "    return getGreatestCommonDivisor(div, small)\n",
    "\n",
    "\n",
    "getGreatestCommonDivisor(2, 3), getGreatestCommonDivisor(6, 9)\n"
   ]
  },
  {
   "cell_type": "code",
   "execution_count": 3,
   "metadata": {},
   "outputs": [
    {
     "data": {
      "text/plain": [
       "(1, 3)"
      ]
     },
     "execution_count": 3,
     "metadata": {},
     "output_type": "execute_result"
    }
   ],
   "source": [
    "# 更相减损术\n",
    "# 缺点:递归次数大 如求1,10000需要递归9999次\n",
    "def getGreatestCommonDivisor(a, b):\n",
    "    if a == b:\n",
    "        return a\n",
    "    big, small = max(a, b), min(a, b)\n",
    "    return getGreatestCommonDivisor(big - small, small)\n",
    "\n",
    "\n",
    "getGreatestCommonDivisor(2, 3), getGreatestCommonDivisor(6, 9)\n"
   ]
  },
  {
   "cell_type": "code",
   "execution_count": 3,
   "metadata": {},
   "outputs": [
    {
     "data": {
      "text/plain": [
       "(1, 3)"
      ]
     },
     "execution_count": 3,
     "metadata": {},
     "output_type": "execute_result"
    }
   ],
   "source": [
    "# 辗转相除+更相减损术集合 基于更相减损术\n",
    "def getGreatestCommonDivisor(a, b):\n",
    "    if a == b:\n",
    "        return a\n",
    "    if (a & 1) == 0 and (b & 1) == 0:\n",
    "        return getGreatestCommonDivisor(a >> 1, b >> 1) << 1\n",
    "    elif (a & 1) == 0 and (b & 1) != 0:\n",
    "        return getGreatestCommonDivisor(a >> 1, b)\n",
    "    elif (a & 1) != 0 and (b & 1) == 0:\n",
    "        return getGreatestCommonDivisor(a, b >> 1)\n",
    "    else:\n",
    "        big, small = max(a, b), min(a, b)\n",
    "        return getGreatestCommonDivisor(big - small, small)\n",
    "\n",
    "\n",
    "getGreatestCommonDivisor(2, 3), getGreatestCommonDivisor(6, 9)\n"
   ]
  },
  {
   "cell_type": "code",
   "execution_count": null,
   "metadata": {},
   "outputs": [],
   "source": []
  }
 ],
 "metadata": {
  "interpreter": {
   "hash": "a5f34674cfcc9b13426a2d112c686bc132e4ef443f1487e707e7c3787d6bcf89"
  },
  "kernelspec": {
   "display_name": "Python 3.10.4 64-bit (windows store)",
   "language": "python",
   "name": "python3"
  },
  "language_info": {
   "codemirror_mode": {
    "name": "ipython",
    "version": 3
   },
   "file_extension": ".py",
   "mimetype": "text/x-python",
   "name": "python",
   "nbconvert_exporter": "python",
   "pygments_lexer": "ipython3",
   "version": "3.10.4"
  },
  "orig_nbformat": 4
 },
 "nbformat": 4,
 "nbformat_minor": 2
}
