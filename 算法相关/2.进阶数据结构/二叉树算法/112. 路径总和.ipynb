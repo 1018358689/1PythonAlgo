{
 "cells": [
  {
   "cell_type": "markdown",
   "metadata": {},
   "source": [
    "给你二叉树的根节点 root 和一个表示目标和的整数 targetSum 。判断该树中是否存在 根节点到叶子节点 的路径，这条路径上所有节点值相加等于目标和 targetSum 。如果存在，返回 true ；否则，返回 false 。\n",
    "\n",
    "叶子节点 是指没有子节点的节点。\n",
    "\n",
    "\n",
    "示例 1：\n",
    "输入：root = [5,4,8,11,null,13,4,7,2,null,null,null,1], targetSum = 22\n",
    "输出：true\n",
    "解释：等于目标和的根节点到叶节点路径如上图所示。\n",
    "\n",
    "示例 2：\n",
    "输入：root = [1,2,3], targetSum = 5\n",
    "输出：false\n",
    "解释：树中存在两条根节点到叶子节点的路径：\n",
    "(1 --> 2): 和为 3\n",
    "(1 --> 3): 和为 4\n",
    "不存在 sum = 5 的根节点到叶子节点的路径。\n",
    "\n",
    "示例 3：\n",
    "输入：root = [], targetSum = 0\n",
    "输出：false\n",
    "解释：由于树是空的，所以不存在根节点到叶子节点的路径。\n",
    "\n",
    "来源：力扣（LeetCode）\n",
    "链接：https://leetcode-cn.com/problems/path-sum\n",
    "著作权归领扣网络所有。商业转载请联系官方授权，非商业转载请注明出处。"
   ]
  },
  {
   "cell_type": "code",
   "execution_count": 1,
   "metadata": {},
   "outputs": [],
   "source": [
    "# Definition for a binary tree node.\n",
    "from typing import Optional\n",
    "\n",
    "\n",
    "class TreeNode:\n",
    "    def __init__(self, val=0, left=None, right=None):\n",
    "        self.val = val\n",
    "        self.left = left\n",
    "        self.right = right\n",
    "\n",
    "\n",
    "class Solution:\n",
    "    def hasPathSum(self, root: Optional[TreeNode], targetSum: int) -> bool:\n",
    "        if not root: return False\n",
    "        signal = False\n",
    "\n",
    "        def dfs(node: TreeNode, Sum: int):\n",
    "            nonlocal signal\n",
    "            Sum += node.val\n",
    "            if not node.left and not node.right:\n",
    "                if Sum == targetSum:\n",
    "                    signal = True\n",
    "                return\n",
    "            if node.left:\n",
    "                dfs(node.left, Sum)\n",
    "            if node.right:\n",
    "                dfs(node.right, Sum)\n",
    "\n",
    "        dfs(root, 0)\n",
    "        return signal"
   ]
  },
  {
   "cell_type": "code",
   "execution_count": null,
   "metadata": {},
   "outputs": [],
   "source": [
    "# Definition for a binary tree node.\n",
    "from typing import Optional\n",
    "\n",
    "\n",
    "class TreeNode:\n",
    "    def __init__(self, val=0, left=None, right=None):\n",
    "        self.val = val\n",
    "        self.left = left\n",
    "        self.right = right\n",
    "\n",
    "\n",
    "class Solution:\n",
    "    def hasPathSum(self, root: Optional[TreeNode], targetSum: int) -> bool:\n",
    "        if not root: return False\n",
    "        path = [root.val]\n",
    "        signal = False\n",
    "\n",
    "        def dfs(node: TreeNode):\n",
    "            nonlocal signal\n",
    "            if node.left is None and node.right is None:\n",
    "                if sum(path) == targetSum:\n",
    "                    signal = True\n",
    "                return\n",
    "            for n in [node.left, node.right]:\n",
    "                if n: \n",
    "                    path.append(n.val)\n",
    "                    dfs(n)\n",
    "                    path.pop()\n",
    "\n",
    "        dfs(root)\n",
    "        return signal"
   ]
  }
 ],
 "metadata": {
  "interpreter": {
   "hash": "004de6046f1b3d314f33fdb43a2dc798b2646e5600efd8df5066c8b63a00ff6d"
  },
  "kernelspec": {
   "display_name": "Python 3.8.10 64-bit",
   "language": "python",
   "name": "python3"
  },
  "language_info": {
   "codemirror_mode": {
    "name": "ipython",
    "version": 3
   },
   "file_extension": ".py",
   "mimetype": "text/x-python",
   "name": "python",
   "nbconvert_exporter": "python",
   "pygments_lexer": "ipython3",
   "version": "3.8.10"
  },
  "orig_nbformat": 4
 },
 "nbformat": 4,
 "nbformat_minor": 2
}
