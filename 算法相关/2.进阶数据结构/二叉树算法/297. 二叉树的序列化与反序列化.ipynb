{
 "cells": [
  {
   "cell_type": "markdown",
   "metadata": {},
   "source": [
    "序列化是将一个数据结构或者对象转换为连续的比特位的操作，进而可以将转换后的数据存储在一个文件或者内存中，同时也可以通过网络传输到另一个计算机环境，采取相反方式重构得到原数据。\n",
    "\n",
    "请设计一个算法来实现二叉树的序列化与反序列化。这里不限定你的序列 / 反序列化算法执行逻辑，你只需要保证一个二叉树可以被序列化为一个字符串并且将这个字符串反序列化为原始的树结构。\n",
    "\n",
    "提示: 输入输出格式与 LeetCode 目前使用的方式一致，详情请参阅 LeetCode 序列化二叉树的格式。你并非必须采取这种方式，你也可以采用其他的方法解决这个问题。\n",
    "\n",
    " \n",
    "\n",
    "示例 1：\n",
    "\n",
    "\n",
    "输入：root = [1,2,3,null,null,4,5]\n",
    "输出：[1,2,3,null,null,4,5]\n",
    "示例 2：\n",
    "\n",
    "输入：root = []\n",
    "输出：[]\n",
    "示例 3：\n",
    "\n",
    "输入：root = [1]\n",
    "输出：[1]\n",
    "示例 4：\n",
    "\n",
    "输入：root = [1,2]\n",
    "输出：[1,2]"
   ]
  },
  {
   "cell_type": "code",
   "execution_count": 1,
   "metadata": {},
   "outputs": [
    {
     "data": {
      "text/plain": [
       "'\\n    A\\n   /   B  C\\n    /    D   E\\n'"
      ]
     },
     "execution_count": 1,
     "metadata": {},
     "output_type": "execute_result"
    }
   ],
   "source": [
    "class TreeNode(object):\n",
    "    def __init__(self, val=None, left=None, right=None):\n",
    "        self.val = val\n",
    "        self.left = left\n",
    "        self.right = right\n",
    "\n",
    "    # 这一步是在每次调用某个结点时，自动调用.val的方法\n",
    "    def __str__(self):\n",
    "        return str(self.val)\n",
    "\n",
    "\n",
    "A, B, C, D, E= [TreeNode(x) for x in 'ABCDE']\n",
    "A.left, A.right = B, C\n",
    "C.left, C.right = D, E\n",
    "'''\n",
    "    A\n",
    "   / \\\n",
    "  B  C\n",
    "    / \\\n",
    "   D   E\n",
    "'''"
   ]
  },
  {
   "cell_type": "code",
   "execution_count": 2,
   "metadata": {},
   "outputs": [
    {
     "data": {
      "text/plain": [
       "'A,B,#,#,C,D,#,#,E,#,#'"
      ]
     },
     "execution_count": 2,
     "metadata": {},
     "output_type": "execute_result"
    }
   ],
   "source": [
    "class Codec:\n",
    "    def serialize(self, root: TreeNode):\n",
    "        \"\"\"Encodes a tree to a single string.\n",
    "        \n",
    "        :type root: TreeNode\n",
    "        :rtype: str\n",
    "        \"\"\"\n",
    "        res = []\n",
    "\n",
    "        def dfs(node):\n",
    "            nonlocal res\n",
    "            if not node:\n",
    "                res.append('#')\n",
    "                return\n",
    "            res.append(str(node.val))\n",
    "            dfs(node.left)\n",
    "            dfs(node.right)\n",
    "\n",
    "        dfs(root)\n",
    "        return ','.join(res)\n",
    "\n",
    "    def deserialize(self, data: str):\n",
    "        \"\"\"Decodes your encoded data to tree.\n",
    "        \n",
    "        :type data: str\n",
    "        :rtype: TreeNode\n",
    "        \"\"\"\n",
    "        def dfs(dataList):\n",
    "            if not dataList:\n",
    "                return None\n",
    "            root_val = dataList.pop(0)\n",
    "            if root_val == '#':\n",
    "                return None\n",
    "            root = TreeNode(int(root_val))\n",
    "            root.left = dfs(dataList)\n",
    "            root.right = dfs(dataList)\n",
    "            return root\n",
    "\n",
    "        dataList = data.split(',')\n",
    "        return dfs(dataList)\n",
    "\n",
    "\n",
    "# Your Codec object will be instantiated and called as such:\n",
    "ser = Codec()\n",
    "deser = Codec()\n",
    "deser.serialize(A)\n",
    "# a = deser.deserialize('A,B,#,#,C,D,#,#,E,#,#')\n",
    "# deser.deserialize(ser.serialize(A))"
   ]
  },
  {
   "cell_type": "code",
   "execution_count": 3,
   "metadata": {},
   "outputs": [
    {
     "data": {
      "text/plain": [
       "['A', 'B', '#', '#', 'C', 'D', '#', '#', 'E', '#', '#']"
      ]
     },
     "execution_count": 3,
     "metadata": {},
     "output_type": "execute_result"
    }
   ],
   "source": [
    "data = 'AB##CD##E##'\n",
    "list(data)"
   ]
  },
  {
   "cell_type": "code",
   "execution_count": 4,
   "metadata": {},
   "outputs": [
    {
     "data": {
      "text/plain": [
       "<__main__.TreeNode at 0x1e06bdd2640>"
      ]
     },
     "execution_count": 4,
     "metadata": {},
     "output_type": "execute_result"
    }
   ],
   "source": [
    "class Codec:\n",
    "    def serialize(self, root: TreeNode):\n",
    "        \"\"\"Encodes a tree to a single string.\n",
    "        \n",
    "        :type root: TreeNode\n",
    "        :rtype: str\n",
    "        \"\"\"\n",
    "        if not root: return ''\n",
    "        res = [str(root.val)]\n",
    "        deque = [root]\n",
    "        while deque:\n",
    "            sz = len(deque)\n",
    "            for _ in range(sz):\n",
    "                node = deque.pop(0)\n",
    "                if node.left:\n",
    "                    deque.append(node.left)\n",
    "                    res.append(str(node.left.val))\n",
    "                else:\n",
    "                    res.append('#')\n",
    "                if node.right:\n",
    "                    deque.append(node.right)\n",
    "                    res.append(str(node.right.val))\n",
    "                else:\n",
    "                    res.append('#')\n",
    "        return ','.join(res)\n",
    "\n",
    "    def deserialize(self, data: str):\n",
    "        \"\"\"Decodes your encoded data to tree.\n",
    "        \n",
    "        :type data: str\n",
    "        :rtype: TreeNode\n",
    "        \"\"\"\n",
    "        if not data: return None\n",
    "        dataList = data.split(',')\n",
    "        root = TreeNode((dataList[0]))\n",
    "        queue = [root]\n",
    "        i = 1\n",
    "        while i < len(dataList):\n",
    "            node = queue.pop(0)\n",
    "            left = dataList[i]\n",
    "            if left == '#':\n",
    "                node.left = None\n",
    "            else:\n",
    "                node.left = TreeNode((left))\n",
    "                queue.append(node.left)\n",
    "            i += 1\n",
    "            right = dataList[i]\n",
    "            if right == '#':\n",
    "                node.right = None\n",
    "            else:\n",
    "                node.right = TreeNode((right))\n",
    "                queue.append(node.right)\n",
    "            i += 1\n",
    "        return root\n",
    "\n",
    "\n",
    "# Your Codec object will be instantiated and called as such:\n",
    "ser = Codec()\n",
    "deser = Codec()\n",
    "# deser.serialize(A)\n",
    "deser.deserialize('A,B,C,#,#,D,E,#,#,#,#')\n",
    "# deser.deserialize(ser.serialize(A))"
   ]
  },
  {
   "cell_type": "code",
   "execution_count": 5,
   "metadata": {},
   "outputs": [],
   "source": [
    "# test\n",
    "class Codec:\n",
    "    def serialize(self, root: TreeNode):\n",
    "        \"\"\"Encodes a tree to a single string.\n",
    "        \n",
    "        :type root: TreeNode\n",
    "        :rtype: str\n",
    "        \"\"\"\n",
    "        res = ''\n",
    "\n",
    "        def dfs(node: TreeNode):\n",
    "            nonlocal res\n",
    "            if node is None:\n",
    "                res += '#,'\n",
    "                return\n",
    "\n",
    "            res += str(node.val)+','\n",
    "            dfs(node.left)\n",
    "            dfs(node.right)\n",
    "\n",
    "        dfs(root)\n",
    "        return res\n",
    "\n",
    "    def deserialize(self, data: str):\n",
    "        deque = data.split(',')\n",
    "\n",
    "        def dfs(deque):\n",
    "            # BaseCase\n",
    "            if not deque:\n",
    "                return\n",
    "            # BaseCase 递归\n",
    "            value = deque.pop(0)\n",
    "            if value == '#':\n",
    "                return None\n",
    "            root = TreeNode(int(value))\n",
    "            root.left = dfs(deque)\n",
    "            root.right = dfs(deque)\n",
    "            # 回溯\n",
    "            return root\n",
    "\n",
    "        return dfs(deque)\n"
   ]
  }
 ],
 "metadata": {
  "interpreter": {
   "hash": "004de6046f1b3d314f33fdb43a2dc798b2646e5600efd8df5066c8b63a00ff6d"
  },
  "kernelspec": {
   "display_name": "Python 3.8.10 64-bit",
   "language": "python",
   "name": "python3"
  },
  "language_info": {
   "codemirror_mode": {
    "name": "ipython",
    "version": 3
   },
   "file_extension": ".py",
   "mimetype": "text/x-python",
   "name": "python",
   "nbconvert_exporter": "python",
   "pygments_lexer": "ipython3",
   "version": "3.8.10"
  },
  "orig_nbformat": 4
 },
 "nbformat": 4,
 "nbformat_minor": 2
}
