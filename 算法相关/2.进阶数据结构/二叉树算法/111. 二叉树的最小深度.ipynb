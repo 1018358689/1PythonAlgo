{
 "cells": [
  {
   "cell_type": "markdown",
   "metadata": {},
   "source": [
    "给定一个二叉树，找出其最小深度，最小深度是从根节点到最近叶子节点（没有子节点的节点）的最短路径上的节点数量。\n",
    "\n",
    "示例 1：\n",
    "\n",
    "输入：root = [3,9,20,null,null,15,7]\n",
    "输出：2"
   ]
  },
  {
   "cell_type": "code",
   "execution_count": 1,
   "metadata": {},
   "outputs": [
    {
     "data": {
      "text/plain": [
       "'\\n    A\\n   /   B  C\\n    /    D   E\\n'"
      ]
     },
     "execution_count": 1,
     "metadata": {},
     "output_type": "execute_result"
    }
   ],
   "source": [
    "class TreeNode(object):\n",
    "    def __init__(self, val=None, left=None, right=None):\n",
    "        self.val = val\n",
    "        self.left = left\n",
    "        self.right = right\n",
    "\n",
    "    # 这一步是在每次调用某个结点时，自动调用.data的方法\n",
    "    def __str__(self):\n",
    "        return str(self.val)\n",
    "\n",
    "\n",
    "A, B, C, D, E, F, G, H, I = [TreeNode(x) for x in 'ABCDEFGHI']\n",
    "A.left, A.right = B, C\n",
    "C.left, C.right = D, E\n",
    "'''\n",
    "    A\n",
    "   / \\\n",
    "  B  C\n",
    "    / \\\n",
    "   D   E\n",
    "'''"
   ]
  },
  {
   "cell_type": "code",
   "execution_count": 5,
   "metadata": {},
   "outputs": [
    {
     "data": {
      "text/plain": [
       "2"
      ]
     },
     "execution_count": 5,
     "metadata": {},
     "output_type": "execute_result"
    }
   ],
   "source": [
    "def f(root: TreeNode):\n",
    "    if not root: return 0\n",
    "    deque = [root]\n",
    "    deepth = 0\n",
    "    signal = False\n",
    "    while deque:\n",
    "        size = len(deque)\n",
    "        for _ in range(size):\n",
    "            node = deque.pop(0)\n",
    "            if node.left == None and node.right == None: \n",
    "                signal = True\n",
    "                break\n",
    "            if node.left: deque.append(node.left)\n",
    "            if node.right: deque.append(node.right)\n",
    "        deepth += 1\n",
    "        if signal: break\n",
    "    return deepth\n",
    "\n",
    "\n",
    "f(A)\n"
   ]
  },
  {
   "cell_type": "code",
   "execution_count": 6,
   "metadata": {},
   "outputs": [
    {
     "data": {
      "text/plain": [
       "2"
      ]
     },
     "execution_count": 6,
     "metadata": {},
     "output_type": "execute_result"
    }
   ],
   "source": [
    "def f(root: TreeNode):\n",
    "    if not root: return 0\n",
    "    deque = [root]\n",
    "    deepth = 1\n",
    "    while deque:\n",
    "        size = len(deque)\n",
    "        for _ in range(size):\n",
    "            node = deque.pop(0)\n",
    "            if node.left == None and node.right == None: \n",
    "                return deepth\n",
    "            if node.left: deque.append(node.left)\n",
    "            if node.right: deque.append(node.right)\n",
    "        deepth += 1\n",
    "    return deepth\n",
    "\n",
    "\n",
    "f(A)\n"
   ]
  },
  {
   "cell_type": "code",
   "execution_count": 17,
   "metadata": {},
   "outputs": [
    {
     "data": {
      "text/plain": [
       "(2, 0)"
      ]
     },
     "execution_count": 17,
     "metadata": {},
     "output_type": "execute_result"
    }
   ],
   "source": [
    "def f(root: TreeNode):\n",
    "    if not root: return 0\n",
    "    res = float('inf')\n",
    "\n",
    "    def dfs(node, deepth):\n",
    "        nonlocal res\n",
    "        if node.left == None and node.right == None:\n",
    "            res = min(res, deepth)\n",
    "            return\n",
    "        if node.left: dfs(node.left, deepth + 1)\n",
    "        if node.right: dfs(node.right, deepth + 1)\n",
    "\n",
    "    dfs(root, 1)\n",
    "    return res\n",
    "\n",
    "\n",
    "f(A), f([])\n"
   ]
  },
  {
   "cell_type": "code",
   "execution_count": 29,
   "metadata": {},
   "outputs": [
    {
     "data": {
      "text/plain": [
       "(2, 0)"
      ]
     },
     "execution_count": 29,
     "metadata": {},
     "output_type": "execute_result"
    }
   ],
   "source": [
    "def f(root: TreeNode):\n",
    "    if not root: return 0\n",
    "\n",
    "    def dfs(node):\n",
    "        \"\"\"\n",
    "        和最大深度不同的是，如果树的一边是缺的，是不可以进行min比较的\n",
    "        因为缺了的那一边在递归看来深度是0+1，那么最小值就是2但是这是不符合实际的\n",
    "        所以如果一边缺了，但是另一边不缺，则走不缺的那边\n",
    "        \"\"\"\n",
    "        if not node:\n",
    "            return 0\n",
    "        elif not node.left:  # 如果没有左子，就以右边的为准\n",
    "            return dfs(node.right) + 1\n",
    "        elif not node.right:  # 同理没有右子，就以左边为准\n",
    "            return dfs(node.left) + 1\n",
    "        left_height = dfs(node.left)\n",
    "        right_height = dfs(node.right)\n",
    "        min_height = 1 + min(left_height, right_height)\n",
    "        return min_height\n",
    "\n",
    "    return dfs(root)\n",
    "\n",
    "\n",
    "f(A), f([])\n"
   ]
  },
  {
   "cell_type": "code",
   "execution_count": null,
   "metadata": {},
   "outputs": [],
   "source": []
  }
 ],
 "metadata": {
  "interpreter": {
   "hash": "aee8b7b246df8f9039afb4144a1f6fd8d2ca17a180786b69acc140d282b71a49"
  },
  "kernelspec": {
   "display_name": "Python 3.8.10 64-bit",
   "language": "python",
   "name": "python3"
  },
  "language_info": {
   "codemirror_mode": {
    "name": "ipython",
    "version": 3
   },
   "file_extension": ".py",
   "mimetype": "text/x-python",
   "name": "python",
   "nbconvert_exporter": "python",
   "pygments_lexer": "ipython3",
   "version": "3.8.10"
  },
  "orig_nbformat": 4
 },
 "nbformat": 4,
 "nbformat_minor": 2
}
