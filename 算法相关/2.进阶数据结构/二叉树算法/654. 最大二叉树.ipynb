{
 "cells": [
  {
   "cell_type": "markdown",
   "metadata": {},
   "source": [
    "给定一个不含重复元素的整数数组 nums 。一个以此数组直接递归构建的 最大二叉树 定义如下：\n",
    "\n",
    "二叉树的根是数组 nums 中的最大元素。\n",
    "左子树是通过数组中 最大值左边部分 递归构造出的最大二叉树。\n",
    "右子树是通过数组中 最大值右边部分 递归构造出的最大二叉树。\n",
    "返回有给定数组 nums 构建的 最大二叉树 。\n",
    "\n",
    "示例 1：\n",
    "输入：nums = [3,2,1,6,0,5]\n",
    "输出：[6,3,5,null,2,0,null,null,1]\n",
    "解释：递归调用如下所示：\n",
    "- [3,2,1,6,0,5] 中的最大值是 6 ，左边部分是 [3,2,1] ，右边部分是 [0,5] 。\n",
    "    - [3,2,1] 中的最大值是 3 ，左边部分是 [] ，右边部分是 [2,1] 。\n",
    "        - 空数组，无子节点。\n",
    "        - [2,1] 中的最大值是 2 ，左边部分是 [] ，右边部分是 [1] 。\n",
    "            - 空数组，无子节点。\n",
    "            - 只有一个元素，所以子节点是一个值为 1 的节点。\n",
    "    - [0,5] 中的最大值是 5 ，左边部分是 [0] ，右边部分是 [] 。\n",
    "        - 只有一个元素，所以子节点是一个值为 0 的节点。\n",
    "        - 空数组，无子节点。\n",
    "        \n",
    "示例 2：\n",
    "输入：nums = [3,2,1]\n",
    "输出：[3,null,2,null,1]"
   ]
  },
  {
   "cell_type": "code",
   "execution_count": null,
   "metadata": {},
   "outputs": [],
   "source": [
    "class TreeNode:\n",
    "    def __init__(self, val=0, left=None, right=None):\n",
    "        self.val = val\n",
    "        self.left = left\n",
    "        self.right = right\n",
    "\n",
    "\n",
    "class Solution:\n",
    "    def constructMaximumBinaryTree(self, nums: list) -> TreeNode:\n",
    "        if not nums:\n",
    "            return\n",
    "        root = TreeNode(max(nums))\n",
    "        root_index = nums.index(root.val)\n",
    "        root.left = self.constructMaximumBinaryTree(nums[:root_index])\n",
    "        root.right = self.constructMaximumBinaryTree(nums[root_index + 1:])\n",
    "        return root"
   ]
  }
 ],
 "metadata": {
  "interpreter": {
   "hash": "004de6046f1b3d314f33fdb43a2dc798b2646e5600efd8df5066c8b63a00ff6d"
  },
  "kernelspec": {
   "display_name": "Python 3.8.10 64-bit",
   "language": "python",
   "name": "python3"
  },
  "language_info": {
   "codemirror_mode": {
    "name": "ipython",
    "version": 3
   },
   "file_extension": ".py",
   "mimetype": "text/x-python",
   "name": "python",
   "nbconvert_exporter": "python",
   "pygments_lexer": "ipython3",
   "version": "3.8.10"
  },
  "orig_nbformat": 4
 },
 "nbformat": 4,
 "nbformat_minor": 2
}
