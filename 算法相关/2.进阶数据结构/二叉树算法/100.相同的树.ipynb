{
 "cells": [
  {
   "cell_type": "markdown",
   "metadata": {},
   "source": [
    "给你两棵二叉树的根节点 p 和 q ，编写一个函数来检验这两棵树是否相同。\n",
    "\n",
    "如果两个树在结构上相同，并且节点具有相同的值，则认为它们是相同的。\n",
    "\n",
    "示例 1：\n",
    "\n",
    "输入：p = [1,2,3], q = [1,2,3]\n",
    "输出：true\n",
    "示例 2：\n",
    "\n",
    "\n",
    "输入：p = [1,2], q = [1,null,2]\n",
    "输出：false\n",
    "示例 3：\n",
    "\n",
    "\n",
    "输入：p = [1,2,1], q = [1,1,2]\n",
    "输出：false\n",
    "\n",
    "来源：力扣（LeetCode）\n",
    "链接：https://leetcode-cn.com/problems/same-tree\n",
    "著作权归领扣网络所有。商业转载请联系官方授权，非商业转载请注明出处。"
   ]
  },
  {
   "cell_type": "code",
   "execution_count": 2,
   "metadata": {},
   "outputs": [],
   "source": [
    "class TreeNode:\n",
    "    def __init__(self, val=0, left=None, right=None):\n",
    "        self.val = val\n",
    "        self.left = left\n",
    "        self.right = right\n",
    "\n",
    "\n",
    "class Solution:\n",
    "    def isSameTree(self, p: TreeNode, q: TreeNode) -> bool:\n",
    "        def toStr(node: TreeNode):\n",
    "            if not node:\n",
    "                return '#'\n",
    "            left = toStr(node.left)\n",
    "            right = toStr(node.right)\n",
    "            return left + right + str(node.val)\n",
    "\n",
    "        return toStr(p) == toStr(q)\n"
   ]
  },
  {
   "cell_type": "code",
   "execution_count": null,
   "metadata": {},
   "outputs": [],
   "source": [
    "class TreeNode:\n",
    "    def __init__(self, val=0, left=None, right=None):\n",
    "        self.val = val\n",
    "        self.left = left\n",
    "        self.right = right\n",
    "\n",
    "\n",
    "class Solution:\n",
    "    def isSameTree(self, p: TreeNode, q: TreeNode) -> bool:\n",
    "        if not p and not q:  # p q 都不存在\n",
    "            return True\n",
    "        elif not p or not q:  # 有前一个条件限制 此处意思为有一个为空\n",
    "            return False\n",
    "        elif p.val != q.val:  # p q 都存在 但值不同\n",
    "            return False  # 以上前序 进入节点时\n",
    "        # 剩下p q都存在 且值相同 这时候就看子树了 子树都True才可以\n",
    "        bool_left = self.isSameTree(p.left, q.left)\n",
    "        bool_right = self.isSameTree(p.right, q.right)\n",
    "        return bool_left and bool_right  # 后序 离开节点时\n"
   ]
  }
 ],
 "metadata": {
  "interpreter": {
   "hash": "004de6046f1b3d314f33fdb43a2dc798b2646e5600efd8df5066c8b63a00ff6d"
  },
  "kernelspec": {
   "display_name": "Python 3.8.10 64-bit",
   "language": "python",
   "name": "python3"
  },
  "language_info": {
   "codemirror_mode": {
    "name": "ipython",
    "version": 3
   },
   "file_extension": ".py",
   "mimetype": "text/x-python",
   "name": "python",
   "nbconvert_exporter": "python",
   "pygments_lexer": "ipython3",
   "version": "3.8.10"
  },
  "orig_nbformat": 4
 },
 "nbformat": 4,
 "nbformat_minor": 2
}
