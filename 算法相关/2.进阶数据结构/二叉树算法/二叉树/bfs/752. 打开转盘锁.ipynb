{
 "cells": [
  {
   "cell_type": "code",
   "execution_count": 15,
   "metadata": {},
   "outputs": [
    {
     "data": {
      "text/plain": [
       "9"
      ]
     },
     "execution_count": 15,
     "metadata": {},
     "output_type": "execute_result"
    }
   ],
   "source": [
    "from typing import List\n",
    "from collections import deque\n",
    "\n",
    "\n",
    "def openLock(deadends: List[str], target: str) -> int:\n",
    "    cnt = 0\n",
    "    queue = deque([[0, 0, 0, 0]])\n",
    "    visited = [[0, 0, 0, 0]]\n",
    "    deadends = [[int(j) for j in i] for i in deadends]\n",
    "    target = [int(i) for i in target]\n",
    "\n",
    "    def up(content, index):\n",
    "        tmp = content[:]\n",
    "        tmp[index] = (tmp[index] + 1) % 10\n",
    "        return tmp\n",
    "\n",
    "    def down(content, index):\n",
    "        tmp = content[:]\n",
    "        tmp[index] = (tmp[index] - 1) % 10\n",
    "        return tmp\n",
    "\n",
    "    while queue:\n",
    "        size = len(queue)\n",
    "        for _ in range(size):\n",
    "            root = queue.popleft()\n",
    "            if root in deadends:\n",
    "                continue\n",
    "            if root == target:\n",
    "                return cnt\n",
    "            for i in range(4):\n",
    "                tmp = up(root, i)\n",
    "                if tmp not in visited:\n",
    "                    queue.append(tmp)\n",
    "                    visited.append(tmp)\n",
    "                tmp = down(root, i)\n",
    "                if tmp not in visited:\n",
    "                    queue.append(tmp)\n",
    "                    visited.append(tmp)\n",
    "        cnt += 1\n",
    "    return -1\n",
    "\n",
    "\n",
    "# openLock(['0201', '0101', '0102', '1212', '2002'], '0202'), openLock(['8888'], '0009')\n",
    "# openLock(['8887','8889','8878','8898','8788','8988','7888','9888'],'8888')\n",
    "openLock(['1131', '1303', '3113', '0132', '1301', '1303', '2200', '0232', '0020', '2223'], '3312')\n"
   ]
  },
  {
   "cell_type": "code",
   "execution_count": 21,
   "metadata": {},
   "outputs": [
    {
     "data": {
      "text/plain": [
       "9"
      ]
     },
     "execution_count": 21,
     "metadata": {},
     "output_type": "execute_result"
    }
   ],
   "source": [
    "# 改集合 提高运行效率\n",
    "from typing import List\n",
    "from collections import deque\n",
    "\n",
    "\n",
    "def openLock(deadends: List[str], target: str) -> int:\n",
    "    cnt = 0\n",
    "    queue = deque(['0000'])\n",
    "    visited = set()\n",
    "    visited.add('0000')\n",
    "    deadends = set(deadends)\n",
    "\n",
    "    def up(content, index):\n",
    "        tmp = list(map(int, list(content)))\n",
    "        tmp[index] = (tmp[index] + 1) % 10\n",
    "        tmp = map(str, tmp)\n",
    "        return ''.join(tmp)\n",
    "\n",
    "    def down(content, index):\n",
    "        tmp = list(map(int, list(content)))\n",
    "        tmp[index] = (tmp[index] - 1) % 10\n",
    "        tmp = map(str, tmp)\n",
    "        return ''.join(tmp)\n",
    "\n",
    "    while queue:\n",
    "        size = len(queue)\n",
    "        for _ in range(size):\n",
    "            root = queue.popleft()\n",
    "            if root in deadends:\n",
    "                continue\n",
    "            if root == target:\n",
    "                return cnt\n",
    "            # visited.add(root)\n",
    "            for i in range(4):\n",
    "                tmp = up(root, i)\n",
    "                if tmp not in visited:\n",
    "                    queue.append(tmp)\n",
    "                    visited.add(tmp)\n",
    "                tmp = down(root, i)\n",
    "                if tmp not in visited:\n",
    "                    queue.append(tmp)\n",
    "                    visited.add(tmp)\n",
    "        cnt += 1\n",
    "    return -1\n",
    "\n",
    "\n",
    "# openLock(['0201', '0101', '0102', '1212', '2002'], '0202'), openLock(['8888'], '0009')\n",
    "# openLock(['8887', '8889', '8878', '8898', '8788', '8988', '7888', '9888'], '8888')\n",
    "openLock(['1131', '1303', '3113', '0132', '1301', '1303', '2200', '0232', '0020', '2223'], '3312')\n"
   ]
  },
  {
   "cell_type": "code",
   "execution_count": 16,
   "metadata": {},
   "outputs": [
    {
     "data": {
      "text/plain": [
       "9"
      ]
     },
     "execution_count": 16,
     "metadata": {},
     "output_type": "execute_result"
    }
   ],
   "source": [
    "# 双向bfs\n",
    "from typing import List\n",
    "from collections import deque\n",
    "\n",
    "\n",
    "def openLock(deadends: List[str], target: str) -> int:\n",
    "    cnt = 0\n",
    "    q1 = set()\n",
    "    q1.add('0000')\n",
    "    q2 = set()\n",
    "    q2.add(target)\n",
    "    visited = set()\n",
    "    deadends = set(deadends)\n",
    "\n",
    "    def up(content, index):\n",
    "        tmp = list(map(int, list(content)))\n",
    "        tmp[index] = (tmp[index] + 1) % 10\n",
    "        tmp = map(str, tmp)\n",
    "        return ''.join(tmp)\n",
    "\n",
    "    def down(content, index):\n",
    "        tmp = list(map(int, list(content)))\n",
    "        tmp[index] = (tmp[index] - 1) % 10\n",
    "        tmp = map(str, tmp)\n",
    "        return ''.join(tmp)\n",
    "\n",
    "    while q1 and q2:\n",
    "        tmp_q = set()\n",
    "        for root in q1:\n",
    "            if root in deadends:\n",
    "                continue\n",
    "            if root in q2:\n",
    "                return cnt\n",
    "            visited.add(root)\n",
    "            for i in range(4):\n",
    "                tmp = up(root, i)\n",
    "                if tmp not in visited:\n",
    "                    tmp_q.add(tmp)\n",
    "                tmp = down(root, i)\n",
    "                if tmp not in visited:\n",
    "                    tmp_q.add(tmp)\n",
    "                    \n",
    "        cnt += 1\n",
    "        q1 = q2\n",
    "        q2 = tmp_q\n",
    "    return -1\n",
    "\n",
    "\n",
    "# openLock(['0201', '0101', '0102', '1212', '2002'], '0202'), openLock(['8888'], '0009')\n",
    "# openLock(['8887', '8889', '8878', '8898', '8788', '8988', '7888', '9888'], '8888')\n",
    "openLock(['1131', '1303', '3113', '0132', '1301', '1303', '2200', '0232', '0020', '2223'], '3312')\n",
    "# openLock(['0201', '0101', '0102', '1212', '2002'], '0202')"
   ]
  },
  {
   "cell_type": "code",
   "execution_count": 18,
   "metadata": {},
   "outputs": [
    {
     "data": {
      "text/plain": [
       "(6, 1)"
      ]
     },
     "execution_count": 18,
     "metadata": {},
     "output_type": "execute_result"
    }
   ],
   "source": [
    "# 双向bfs visted优化\n",
    "from typing import List\n",
    "from collections import deque\n",
    "\n",
    "\n",
    "def openLock(deadends: List[str], target: str) -> int:\n",
    "    cnt = 0\n",
    "    q1 = set()\n",
    "    q1.add('0000')\n",
    "    q2 = set()\n",
    "    q2.add(target)\n",
    "    visited1 = set()\n",
    "    visited1.add('0000')\n",
    "    visited2 = set()\n",
    "    visited2.add(target)\n",
    "    deadends = set(deadends)\n",
    "    q12 = 1\n",
    "\n",
    "    def up(content, index):\n",
    "        tmp = list(map(int, list(content)))\n",
    "        tmp[index] = (tmp[index] + 1) % 10\n",
    "        tmp = map(str, tmp)\n",
    "        return ''.join(tmp)\n",
    "\n",
    "    def down(content, index):\n",
    "        tmp = list(map(int, list(content)))\n",
    "        tmp[index] = (tmp[index] - 1) % 10\n",
    "        tmp = map(str, tmp)\n",
    "        return ''.join(tmp)\n",
    "\n",
    "    while q1 and q2:\n",
    "        tmp_q = set()\n",
    "        for root in q1:\n",
    "            if root in deadends:\n",
    "                continue\n",
    "            if root in q2:\n",
    "                return cnt\n",
    "            # visited.add(root)\n",
    "            if q12 % 2 == 1: # 判断哪个方向bfs\n",
    "                for i in range(4):\n",
    "                    tmp = up(root, i)\n",
    "                    if tmp not in visited1:\n",
    "                        tmp_q.add(tmp)\n",
    "                        visited1.add(root)\n",
    "                    tmp = down(root, i)\n",
    "                    if tmp not in visited1:\n",
    "                        tmp_q.add(tmp)\n",
    "                        visited1.add(root)\n",
    "            else:\n",
    "                for i in range(4):\n",
    "                    tmp = up(root, i)\n",
    "                    if tmp not in visited2:\n",
    "                        tmp_q.add(tmp)\n",
    "                        visited2.add(root)\n",
    "                    tmp = down(root, i)\n",
    "                    if tmp not in visited2:\n",
    "                        tmp_q.add(tmp)\n",
    "                        visited2.add(root)\n",
    "        q12 += 1\n",
    "        cnt += 1\n",
    "        q1 = q2\n",
    "        q2 = tmp_q\n",
    "    return -1\n",
    "\n",
    "\n",
    "openLock(['0201', '0101', '0102', '1212', '2002'], '0202'), openLock(['8888'], '0009')\n",
    "# openLock(['8887', '8889', '8878', '8898', '8788', '8988', '7888', '9888'], '8888')\n",
    "# openLock(['1131', '1303', '3113', '0132', '1301', '1303', '2200', '0232', '0020', '2223'], '3312')\n",
    "# openLock(['0201', '0101', '0102', '1212', '2002'], '0202')"
   ]
  },
  {
   "cell_type": "code",
   "execution_count": 22,
   "metadata": {},
   "outputs": [
    {
     "data": {
      "text/plain": [
       "9"
      ]
     },
     "execution_count": 22,
     "metadata": {},
     "output_type": "execute_result"
    }
   ],
   "source": [
    "# 双向bfs\n",
    "from typing import List\n",
    "from collections import deque\n",
    "\n",
    "\n",
    "def openLock(deadends: List[str], target: str) -> int:\n",
    "    cnt = 0\n",
    "    q1 = set()\n",
    "    q1.add('0000')\n",
    "    q2 = set()\n",
    "    q2.add(target)\n",
    "    visited = set()\n",
    "    deadends = set(deadends)\n",
    "\n",
    "    def up(content, index):\n",
    "        tmp = list(map(int, list(content)))\n",
    "        tmp[index] = (tmp[index] + 1) % 10\n",
    "        tmp = map(str, tmp)\n",
    "        return ''.join(tmp)\n",
    "\n",
    "    def down(content, index):\n",
    "        tmp = list(map(int, list(content)))\n",
    "        tmp[index] = (tmp[index] - 1) % 10\n",
    "        tmp = map(str, tmp)\n",
    "        return ''.join(tmp)\n",
    "\n",
    "    while q1 and q2:\n",
    "        if len(q1) > len(q2):\n",
    "            q1, q2 = q2, q1\n",
    "        tmp_q = set()\n",
    "        for root in q1:\n",
    "            if root in deadends:\n",
    "                continue\n",
    "            if root in q2:\n",
    "                return cnt\n",
    "            visited.add(root)\n",
    "            for i in range(4):\n",
    "                tmp = up(root, i)\n",
    "                if tmp not in visited:\n",
    "                    tmp_q.add(tmp)\n",
    "                tmp = down(root, i)\n",
    "                if tmp not in visited:\n",
    "                    tmp_q.add(tmp)\n",
    "\n",
    "        cnt += 1\n",
    "        q1 = q2\n",
    "        q2 = tmp_q\n",
    "    return -1\n",
    "\n",
    "\n",
    "# openLock(['0201', '0101', '0102', '1212', '2002'], '0202'), openLock(['8888'], '0009')\n",
    "# openLock(['8887', '8889', '8878', '8898', '8788', '8988', '7888', '9888'], '8888')\n",
    "openLock(['1131', '1303', '3113', '0132', '1301', '1303', '2200', '0232', '0020', '2223'], '3312')\n",
    "# openLock(['0201', '0101', '0102', '1212', '2002'], '0202')"
   ]
  },
  {
   "cell_type": "code",
   "execution_count": 9,
   "metadata": {},
   "outputs": [
    {
     "data": {
      "text/plain": [
       "('0000', '9010')"
      ]
     },
     "execution_count": 9,
     "metadata": {},
     "output_type": "execute_result"
    }
   ],
   "source": [
    "def up(content,index):\n",
    "    tmp = list(map(int,list(content)))\n",
    "    tmp[index]=(tmp[index]+1)%10\n",
    "    tmp = map(str,tmp)\n",
    "    return ''.join(tmp)\n",
    "up('9000',0),up('9000',2)"
   ]
  },
  {
   "cell_type": "code",
   "execution_count": 8,
   "metadata": {},
   "outputs": [
    {
     "data": {
      "text/plain": [
       "[[0, 2, 0, 1], [0, 1, 0, 1], [0, 1, 0, 2], [1, 2, 1, 2], [2, 0, 0, 2]]"
      ]
     },
     "execution_count": 8,
     "metadata": {},
     "output_type": "execute_result"
    }
   ],
   "source": [
    "deadends = ['0201','0101','0102','1212','2002']\n",
    "deadends = [[int(j) for j in i] for i in deadends]\n",
    "deadends"
   ]
  },
  {
   "cell_type": "code",
   "execution_count": 11,
   "metadata": {},
   "outputs": [
    {
     "data": {
      "text/plain": [
       "[[0, 2, 0, 1], [0, 1, 0, 1], [0, 1, 0, 2], [1, 2, 1, 2], [2, 0, 0, 2]]"
      ]
     },
     "execution_count": 11,
     "metadata": {},
     "output_type": "execute_result"
    }
   ],
   "source": [
    "deadends = ['0201','0101','0102','1212','2002']\n",
    "deadends = [list(map(int,i)) for i in map(list,deadends)]\n",
    "deadends"
   ]
  },
  {
   "cell_type": "code",
   "execution_count": 12,
   "metadata": {},
   "outputs": [
    {
     "name": "stdout",
     "output_type": "stream",
     "text": [
      "1\n",
      "2\n",
      "4\n",
      "5\n"
     ]
    }
   ],
   "source": [
    "for i in [[1,2],[4,5]]:\n",
    "    for j in i:\n",
    "        print(j)"
   ]
  },
  {
   "cell_type": "code",
   "execution_count": 14,
   "metadata": {},
   "outputs": [
    {
     "data": {
      "text/plain": [
       "[1, 2, 4, 5]"
      ]
     },
     "execution_count": 14,
     "metadata": {},
     "output_type": "execute_result"
    }
   ],
   "source": [
    "[j for i in [[1, 2], [4, 5]] for j in i]\n"
   ]
  },
  {
   "cell_type": "code",
   "execution_count": null,
   "metadata": {},
   "outputs": [],
   "source": []
  }
 ],
 "metadata": {
  "interpreter": {
   "hash": "aee8b7b246df8f9039afb4144a1f6fd8d2ca17a180786b69acc140d282b71a49"
  },
  "kernelspec": {
   "display_name": "Python 3.8.10 64-bit",
   "language": "python",
   "name": "python3"
  },
  "language_info": {
   "codemirror_mode": {
    "name": "ipython",
    "version": 3
   },
   "file_extension": ".py",
   "mimetype": "text/x-python",
   "name": "python",
   "nbconvert_exporter": "python",
   "pygments_lexer": "ipython3",
   "version": "3.8.10"
  },
  "orig_nbformat": 4
 },
 "nbformat": 4,
 "nbformat_minor": 2
}
