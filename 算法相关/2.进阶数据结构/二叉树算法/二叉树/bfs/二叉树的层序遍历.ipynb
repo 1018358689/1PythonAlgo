{
 "cells": [
  {
   "cell_type": "code",
   "execution_count": 1,
   "metadata": {},
   "outputs": [],
   "source": [
    "# bfs\n",
    "def levelOrder(root):\n",
    "    if not root: return []\n",
    "    res = []\n",
    "    queue = [root]\n",
    "    while queue:\n",
    "        res.append([i.val for i in queue[:]])\n",
    "        r = []\n",
    "        for i in queue:\n",
    "            if i.left: r.append(i.left)\n",
    "            if i.right: r.append(i.right)\n",
    "        queue = r\n",
    "    return res\n"
   ]
  },
  {
   "cell_type": "code",
   "execution_count": null,
   "metadata": {},
   "outputs": [],
   "source": [
    "# bfs\n",
    "def levelOrder(root):\n",
    "    if not root: return []\n",
    "    res = []\n",
    "    queue = [root]\n",
    "    while queue:\n",
    "        size = len(queue)\n",
    "        r = []\n",
    "        for _ in range(size):\n",
    "            root = queue.pop(0)\n",
    "            r.append(root.val)\n",
    "            if root.left: queue.append(root.left)\n",
    "            if root.right: queue.append(root.right)\n",
    "        res.append(r)\n",
    "    return res\n"
   ]
  },
  {
   "cell_type": "code",
   "execution_count": null,
   "metadata": {},
   "outputs": [],
   "source": [
    "# dfs\n",
    "def levelOrder(root):\n",
    "    if not root: return []\n",
    "    res = []\n",
    "    deepth = 0\n",
    "\n",
    "    def dfs(root, deepth):\n",
    "        if len(res) == deepth:\n",
    "            res.append([])\n",
    "        res[deepth].append(root.val)\n",
    "        if root.left: dfs(root.left, deepth + 1)\n",
    "        if root.right: dfs(root.right, deepth + 1)\n",
    "\n",
    "    dfs(root, deepth)\n",
    "    return res"
   ]
  },
  {
   "cell_type": "code",
   "execution_count": null,
   "metadata": {},
   "outputs": [],
   "source": [
    "# dfs\n",
    "def levelOrder(root):\n",
    "    if not root: return []\n",
    "    res = []\n",
    "    deepth = 0\n",
    "\n",
    "    def dfs(root, deepth):\n",
    "        if root == None:\n",
    "            return\n",
    "        if len(res) == deepth:\n",
    "            res.append([])\n",
    "        res[deepth].append(root.val)\n",
    "        dfs(root.left, deepth + 1)\n",
    "        dfs(root.right, deepth + 1)\n",
    "\n",
    "    dfs(root, deepth)\n",
    "    return res"
   ]
  }
 ],
 "metadata": {
  "interpreter": {
   "hash": "004de6046f1b3d314f33fdb43a2dc798b2646e5600efd8df5066c8b63a00ff6d"
  },
  "kernelspec": {
   "display_name": "Python 3.8.10 64-bit",
   "language": "python",
   "name": "python3"
  },
  "language_info": {
   "codemirror_mode": {
    "name": "ipython",
    "version": 3
   },
   "file_extension": ".py",
   "mimetype": "text/x-python",
   "name": "python",
   "nbconvert_exporter": "python",
   "pygments_lexer": "ipython3",
   "version": "3.8.10"
  },
  "orig_nbformat": 4
 },
 "nbformat": 4,
 "nbformat_minor": 2
}
