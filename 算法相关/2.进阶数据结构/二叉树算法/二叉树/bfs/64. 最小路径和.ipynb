{
 "cells": [
  {
   "cell_type": "code",
   "execution_count": 2,
   "metadata": {},
   "outputs": [
    {
     "data": {
      "text/plain": [
       "12"
      ]
     },
     "execution_count": 2,
     "metadata": {},
     "output_type": "execute_result"
    }
   ],
   "source": [
    "import heapq\n",
    "\n",
    "\n",
    "def f(grid: list):\n",
    "    rows, cols = len(grid), len(grid[0])\n",
    "    target = (rows - 1, cols - 1)\n",
    "    pq = []\n",
    "    heapq.heappush(pq, (0, grid[0][0], 0, 0))\n",
    "\n",
    "    def distance(x, y):\n",
    "        return abs(x - target[0]) + abs(y - target[1])\n",
    "\n",
    "    costs = dict()\n",
    "    costs[(0, 0)] = grid[0][0]\n",
    "    best = set()\n",
    "    while pq:\n",
    "        pri, cost, r, c = heapq.heappop(pq)\n",
    "        if (r, c) == target:\n",
    "            return cost\n",
    "        best.add((r, c))\n",
    "        for nr, nc in ((r + 1, c), (r, c + 1)):\n",
    "            if (nr, nc) not in best and 0 <= nr < rows and 0 <= nc < cols:\n",
    "                if (nr, nc) not in costs or costs[(r, c)] + grid[nr][nc] < costs[(nr, nc)]:\n",
    "                    costs[(nr, nc)] = costs[(r, c)] + grid[nr][nc]\n",
    "                    priority = costs[(r, c)] + distance(nr, nc)\n",
    "                    heapq.heappush(pq, (priority, costs[(nr, nc)], nr, nc))\n",
    "\n",
    "\n",
    "f([[1, 3, 1], [1, 5, 1], [4, 2, 1]])\n",
    "f([[1, 2, 3], [4, 5, 6]])\n"
   ]
  },
  {
   "cell_type": "code",
   "execution_count": 3,
   "metadata": {},
   "outputs": [
    {
     "data": {
      "text/plain": [
       "12"
      ]
     },
     "execution_count": 3,
     "metadata": {},
     "output_type": "execute_result"
    }
   ],
   "source": [
    "# dp[m][n] 到索引(m,n)的最小费用\n",
    "# dp[m][n] = min(dp[m-1][n],dp[m][n-1])+grid[m][n] m>=1 n>=1\n",
    "# basecase dp[0][x] dp[x][0]\n",
    "def f(grid: list):\n",
    "    rows, cols = len(grid), len(grid[0])\n",
    "    dp = [[0] * cols for _ in range(rows)]\n",
    "    dp[0][0] = grid[0][0]\n",
    "    for r in range(1, rows):\n",
    "        dp[r][0] = dp[r - 1][0] + grid[r][0]\n",
    "    for c in range(1, cols):\n",
    "        dp[0][c] = dp[0][c - 1] + grid[0][c]\n",
    "    for r in range(1, rows):\n",
    "        for c in range(1, cols):\n",
    "            dp[r][c] = min(dp[r - 1][c], dp[r][c - 1]) + grid[r][c]\n",
    "    return dp[-1][-1]\n",
    "\n",
    "\n",
    "f([[1, 3, 1], [1, 5, 1], [4, 2, 1]])\n",
    "f([[1, 2, 3], [4, 5, 6]])"
   ]
  },
  {
   "cell_type": "code",
   "execution_count": null,
   "metadata": {},
   "outputs": [],
   "source": []
  }
 ],
 "metadata": {
  "interpreter": {
   "hash": "aee8b7b246df8f9039afb4144a1f6fd8d2ca17a180786b69acc140d282b71a49"
  },
  "kernelspec": {
   "display_name": "Python 3.10.1 64-bit",
   "language": "python",
   "name": "python3"
  },
  "language_info": {
   "codemirror_mode": {
    "name": "ipython",
    "version": 3
   },
   "file_extension": ".py",
   "mimetype": "text/x-python",
   "name": "python",
   "nbconvert_exporter": "python",
   "pygments_lexer": "ipython3",
   "version": "3.10.1"
  },
  "orig_nbformat": 4
 },
 "nbformat": 4,
 "nbformat_minor": 2
}
