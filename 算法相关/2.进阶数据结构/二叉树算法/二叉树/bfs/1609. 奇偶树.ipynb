{
 "cells": [
  {
   "cell_type": "code",
   "execution_count": 1,
   "metadata": {},
   "outputs": [],
   "source": [
    "from typing import Optional\n",
    "import collections\n",
    "\n",
    "\n",
    "class TreeNode:\n",
    "\n",
    "    def __init__(self, val=0, left=None, right=None):\n",
    "        self.val = val\n",
    "        self.left = left\n",
    "        self.right = right\n",
    "\n",
    "\n",
    "class Solution:\n",
    "\n",
    "    def isEvenOddTree(self, root: Optional[TreeNode]) -> bool:\n",
    "        q = collections.deque([(root, True)])  # True表示偶数层 False表示奇数层\n",
    "        while q:\n",
    "            local = []\n",
    "            for _ in range(len(q)):\n",
    "                cur, sig = q.popleft()\n",
    "                if (not cur.val % 2) is sig:\n",
    "                    return False\n",
    "                local.append(cur.val)\n",
    "                if len(local) > 1 and ((sig and local[-2] >= cur.val) or (not sig and local[-2] <= cur.val)):\n",
    "                    return False\n",
    "                if cur.left: q.append((cur.left, not sig))\n",
    "                if cur.right: q.append((cur.right, not sig))\n",
    "        return True"
   ]
  },
  {
   "cell_type": "code",
   "execution_count": null,
   "metadata": {},
   "outputs": [],
   "source": [
    "from typing import Optional\n",
    "import collections\n",
    "\n",
    "\n",
    "class TreeNode:\n",
    "\n",
    "    def __init__(self, val=0, left=None, right=None):\n",
    "        self.val = val\n",
    "        self.left = left\n",
    "        self.right = right\n",
    "\n",
    "\n",
    "class Solution:\n",
    "\n",
    "    def isEvenOddTree(self, root: Optional[TreeNode]) -> bool:\n",
    "        q = collections.deque([(root, True)])  # True表示偶数层 False表示奇数层\n",
    "        while q:\n",
    "            pre = 0\n",
    "            for _ in range(len(q)):\n",
    "                cur, sig = q.popleft()\n",
    "                if (not cur.val % 2) is sig:\n",
    "                    return False\n",
    "                if pre > 0 and ((sig and pre >= cur.val) or (not sig and pre <= cur.val)):\n",
    "                    return False\n",
    "                pre = cur.val\n",
    "                if cur.left: q.append((cur.left, not sig))\n",
    "                if cur.right: q.append((cur.right, not sig))\n",
    "        return True"
   ]
  }
 ],
 "metadata": {
  "interpreter": {
   "hash": "aee8b7b246df8f9039afb4144a1f6fd8d2ca17a180786b69acc140d282b71a49"
  },
  "kernelspec": {
   "display_name": "Python 3.10.1 64-bit",
   "language": "python",
   "name": "python3"
  },
  "language_info": {
   "codemirror_mode": {
    "name": "ipython",
    "version": 3
   },
   "file_extension": ".py",
   "mimetype": "text/x-python",
   "name": "python",
   "nbconvert_exporter": "python",
   "pygments_lexer": "ipython3",
   "version": "3.10.1"
  },
  "orig_nbformat": 4
 },
 "nbformat": 4,
 "nbformat_minor": 2
}
