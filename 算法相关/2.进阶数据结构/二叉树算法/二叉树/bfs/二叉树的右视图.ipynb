{
 "cells": [
  {
   "cell_type": "code",
   "execution_count": null,
   "metadata": {},
   "outputs": [],
   "source": [
    "def rightSideView(root: TreeNode):\n",
    "    if not root: return []\n",
    "    res = []\n",
    "    queue = [root]\n",
    "    while queue:\n",
    "        res.append(queue[-1].val)\n",
    "        tmp = []\n",
    "        for root in queue:\n",
    "            if root.left: tmp.append(root.left)\n",
    "            if root.right: tmp.append(root.right)\n",
    "        queue = tmp\n",
    "    return res"
   ]
  }
 ],
 "metadata": {
  "language_info": {
   "name": "python"
  },
  "orig_nbformat": 4
 },
 "nbformat": 4,
 "nbformat_minor": 2
}
