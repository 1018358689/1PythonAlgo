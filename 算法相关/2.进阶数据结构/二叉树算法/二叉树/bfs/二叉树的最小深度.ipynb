{
 "cells": [
  {
   "cell_type": "code",
   "execution_count": null,
   "metadata": {},
   "outputs": [],
   "source": [
    "class Solution:\n",
    "    def minDepth(self, root: TreeNode) -> int:\n",
    "        if root == None: return 0\n",
    "        res = float('inf')\n",
    "\n",
    "        def dfs(root, deepth):\n",
    "            nonlocal res\n",
    "            if root.left == None and root.right == None:\n",
    "                res = min(res, deepth)\n",
    "                return\n",
    "            if root.left:\n",
    "                deepth += 1\n",
    "                dfs(root.left, deepth)\n",
    "                deepth -= 1\n",
    "            if root.right:\n",
    "                deepth += 1\n",
    "                dfs(root.right, deepth)\n",
    "                deepth -= 1\n",
    "\n",
    "        dfs(root, 1)\n",
    "        return res\n"
   ]
  },
  {
   "cell_type": "code",
   "execution_count": null,
   "metadata": {},
   "outputs": [],
   "source": [
    "from collections import deque\n",
    "class Solution:\n",
    "    def minDepth(self, root: TreeNode) -> int:\n",
    "        if root == None: return 0\n",
    "        queue = deque([root])\n",
    "        min_deepth = 1 # root 本身就是一层，depth 初始化为 1\n",
    "        while queue:\n",
    "            size = len(queue)\n",
    "            for _ in range(size):\n",
    "                root = queue.popleft()\n",
    "                if root.left == None and root.right == None: return min_deepth\n",
    "                if root.left: queue.append(root.left)\n",
    "                if root.right: queue.append(root.right)\n",
    "            min_deepth += 1\n",
    "        # return min_deepth\n"
   ]
  }
 ],
 "metadata": {
  "interpreter": {
   "hash": "aee8b7b246df8f9039afb4144a1f6fd8d2ca17a180786b69acc140d282b71a49"
  },
  "kernelspec": {
   "display_name": "Python 3.8.10 64-bit",
   "language": "python",
   "name": "python3"
  },
  "language_info": {
   "codemirror_mode": {
    "name": "ipython",
    "version": 3
   },
   "file_extension": ".py",
   "mimetype": "text/x-python",
   "name": "python",
   "nbconvert_exporter": "python",
   "pygments_lexer": "ipython3",
   "version": "3.8.10"
  },
  "orig_nbformat": 4
 },
 "nbformat": 4,
 "nbformat_minor": 2
}
