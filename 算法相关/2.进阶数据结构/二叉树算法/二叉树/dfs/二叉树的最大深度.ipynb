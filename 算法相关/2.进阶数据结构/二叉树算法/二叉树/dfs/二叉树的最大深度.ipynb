{
 "cells": [
  {
   "cell_type": "code",
   "execution_count": null,
   "metadata": {},
   "outputs": [],
   "source": [
    "# Definition for a binary tree node.\n",
    "# class TreeNode:\n",
    "#     def __init__(self, val=0, left=None, right=None):\n",
    "#         self.val = val\n",
    "#         self.left = left\n",
    "#         self.right = right\n",
    "# 后序求高度\n",
    "class Solution:\n",
    "    def maxDepth(self, root: TreeNode) -> int:\n",
    "        def dfs(root):\n",
    "            if root == None:\n",
    "                return 0\n",
    "            left_height = dfs(root.left)\n",
    "            right_height = dfs(root.right)\n",
    "            max_height = 1 + max(left_height, right_height)\n",
    "            return max_height\n",
    "\n",
    "        return dfs(root)\n"
   ]
  },
  {
   "cell_type": "code",
   "execution_count": null,
   "metadata": {},
   "outputs": [],
   "source": [
    "# Definition for a binary tree node.\n",
    "# class TreeNode:\n",
    "#     def __init__(self, val=0, left=None, right=None):\n",
    "#         self.val = val\n",
    "#         self.left = left\n",
    "#         self.right = right\n",
    "# 前序回溯求深度\n",
    "class Solution:\n",
    "    def maxDepth(self, root: TreeNode) -> int:\n",
    "        if not root: return 0\n",
    "        result = 0\n",
    "\n",
    "        def dfs(root, deepth):\n",
    "            nonlocal result\n",
    "            if root.left == None and root.right == None:\n",
    "                result = max(result, deepth) # 不断记录最大深度\n",
    "                return\n",
    "            if root.left: # 向左\n",
    "                deepth += 1 # 深度+1\n",
    "                dfs(root.left, deepth) # 递归向下\n",
    "                deepth -= 1 # 回溯，深度-1\n",
    "            if root.right: # 向右\n",
    "                deepth += 1 # 深度+1\n",
    "                dfs(root.right, deepth) # 递归向下\n",
    "                deepth -= 1 # 回溯，深度-1\n",
    "\n",
    "        dfs(root, 1)\n",
    "        return result\n"
   ]
  },
  {
   "cell_type": "code",
   "execution_count": null,
   "metadata": {},
   "outputs": [],
   "source": [
    "# Definition for a binary tree node.\n",
    "# class TreeNode:\n",
    "#     def __init__(self, val=0, left=None, right=None):\n",
    "#         self.val = val\n",
    "#         self.left = left\n",
    "#         self.right = right\n",
    "# error\n",
    "class Solution:\n",
    "    def maxDepth(self, root: TreeNode) -> int:\n",
    "        if not root: return 0\n",
    "        res = 0\n",
    "        deepth = 1\n",
    "        stack = [root]\n",
    "        while stack:\n",
    "            root = stack.pop()\n",
    "            res = max(res, deepth)\n",
    "            if root:\n",
    "                deepth += 1\n",
    "                stack.append(root)\n",
    "                stack.append(None)\n",
    "                if root.left: stack.append(root.left)\n",
    "                if root.right: stack.append(root.right)\n",
    "            else:\n",
    "                root = stack.pop()\n",
    "                deepth -= 1\n",
    "        return deepth"
   ]
  }
 ],
 "metadata": {
  "language_info": {
   "name": "python"
  },
  "orig_nbformat": 4
 },
 "nbformat": 4,
 "nbformat_minor": 2
}
