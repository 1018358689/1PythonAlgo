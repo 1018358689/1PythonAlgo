{
 "cells": [
  {
   "cell_type": "code",
   "execution_count": 1,
   "metadata": {},
   "outputs": [],
   "source": [
    "#\n",
    "# @lc app=leetcode.cn id=145 lang=python\n",
    "#\n",
    "# [145] 二叉树的后序遍历\n",
    "#\n",
    "\n",
    "\n",
    "# @lc code=start\n",
    "# Definition for a binary tree node.\n",
    "# class TreeNode(object):\n",
    "#     def __init__(self, val=0, left=None, right=None):\n",
    "#         self.val = val\n",
    "#         self.left = left\n",
    "#         self.right = right\n",
    "class Solution(object):\n",
    "    def postorderTraversal(self, root):\n",
    "        \"\"\"\n",
    "        :type root: TreeNode\n",
    "        :rtype: List[int]\n",
    "        \"\"\"\n",
    "        res = []\n",
    "\n",
    "        def dfs(root):\n",
    "            if root == None: return\n",
    "            dfs(root.left)\n",
    "            dfs(root.right)\n",
    "            res.append(root.val)\n",
    "\n",
    "        dfs(root)\n",
    "        return res\n",
    "\n",
    "\n",
    "# @lc code=end\n"
   ]
  },
  {
   "cell_type": "code",
   "execution_count": null,
   "metadata": {},
   "outputs": [],
   "source": [
    "# 左右中\n",
    "# 前序（中左右）-中右左-反序：左右中  所以需要 左右入栈\n",
    "class Solution(object):\n",
    "    def postorderTraversal(self, root):\n",
    "        \"\"\"\n",
    "        :type root: TreeNode\n",
    "        :rtype: List[int]\n",
    "        \"\"\"\n",
    "        res = []\n",
    "        stack = []\n",
    "        if root: stack.append(root)\n",
    "        while stack:\n",
    "            root = stack.pop()\n",
    "            res.append(root.val)\n",
    "            if root.left: stack.append(root.left)\n",
    "            if root.right: stack.append(root.right)\n",
    "        return res[::-1]"
   ]
  },
  {
   "cell_type": "code",
   "execution_count": 1,
   "metadata": {},
   "outputs": [],
   "source": [
    "# 左右中\n",
    "# 前中后通用迭代模板 标记法 入栈 中右左\n",
    "class Solution(object):\n",
    "    def postorderTraversal(self, root):\n",
    "        \"\"\"\n",
    "        :type root: TreeNode\n",
    "        :rtype: List[int]\n",
    "        \"\"\"\n",
    "        res = []\n",
    "        stack = []\n",
    "        if root: stack.append(root)\n",
    "        while stack:\n",
    "            root = stack.pop()\n",
    "            if root:\n",
    "                stack.append(root)\n",
    "                stack.append(None)\n",
    "                if root.right: stack.append(root.right)\n",
    "                if root.left: stack.append(root.left)\n",
    "            else:\n",
    "                root = stack.pop()\n",
    "                res.append(root.val)\n",
    "        return res"
   ]
  },
  {
   "cell_type": "code",
   "execution_count": null,
   "metadata": {},
   "outputs": [],
   "source": []
  }
 ],
 "metadata": {
  "interpreter": {
   "hash": "004de6046f1b3d314f33fdb43a2dc798b2646e5600efd8df5066c8b63a00ff6d"
  },
  "kernelspec": {
   "display_name": "Python 3.8.10 64-bit",
   "language": "python",
   "name": "python3"
  },
  "language_info": {
   "codemirror_mode": {
    "name": "ipython",
    "version": 3
   },
   "file_extension": ".py",
   "mimetype": "text/x-python",
   "name": "python",
   "nbconvert_exporter": "python",
   "pygments_lexer": "ipython3",
   "version": "3.8.10"
  },
  "orig_nbformat": 4
 },
 "nbformat": 4,
 "nbformat_minor": 2
}
