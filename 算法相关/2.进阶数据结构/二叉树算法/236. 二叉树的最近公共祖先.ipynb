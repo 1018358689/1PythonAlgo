{
 "cells": [
  {
   "cell_type": "markdown",
   "metadata": {},
   "source": [
    "给定一个二叉树, 找到该树中两个指定节点的最近公共祖先。\n",
    "\n",
    "百度百科中最近公共祖先的定义为：“对于有根树 T 的两个节点 p、q，最近公共祖先表示为一个节点 x，满足 x 是 p、q 的祖先且 x 的深度尽可能大（一个节点也可以是它自己的祖先）。”\n",
    "\n",
    "示例 1：\n",
    "输入：root = [3,5,1,6,2,0,8,null,null,7,4], p = 5, q = 1\n",
    "输出：3\n",
    "解释：节点 5 和节点 1 的最近公共祖先是节点 3 。\n",
    "\n",
    "示例 2：\n",
    "输入：root = [3,5,1,6,2,0,8,null,null,7,4], p = 5, q = 4\n",
    "输出：5\n",
    "解释：节点 5 和节点 4 的最近公共祖先是节点 5 。因为根据定义最近公共祖先节点可以为节点本身。\n",
    "\n",
    "示例 3：\n",
    "输入：root = [1,2], p = 1, q = 2\n",
    "输出：1\n",
    " \n",
    "提示：\n",
    "树中节点数目在范围 [2, 105] 内。\n",
    "-109 <= Node.val <= 109\n",
    "所有 Node.val 互不相同 。\n",
    "p != q\n",
    "p 和 q 均存在于给定的二叉树中。"
   ]
  },
  {
   "cell_type": "code",
   "execution_count": null,
   "metadata": {},
   "outputs": [],
   "source": [
    "# https://leetcode-cn.com/problems/lowest-common-ancestor-of-a-binary-tree/solution/236-er-cha-shu-de-zui-jin-gong-gong-zu-xian-hou-xu/\n",
    "# 经典问题了，先给出递归函数的定义：给该函数输入三个参数 root，p，q，它会返回一个节点：\n",
    "# 情况 1，如果 p 和 q 都在以 root 为根的树中，函数返回的即使 p 和 q 的最近公共祖先节点。\n",
    "# 情况 2，那如果 p 和 q 都不在以 root 为根的树中怎么办呢？函数理所当然地返回 null 呗。\n",
    "# 情况 3，那如果 p 和 q 只有一个存在于 root 为根的树中呢？函数就会返回那个节点。\n",
    "# 根据这个定义，分情况讨论：\n",
    "# 情况 1，如果 p 和 q 都在以 root 为根的树中，那么 left 和 right 一定分别是 p 和 q（从 base case 看出来的）。\n",
    "# 情况 2，如果 p 和 q 都不在以 root 为根的树中，直接返回 null。\n",
    "# 情况 3，如果 p 和 q 只有一个存在于 root 为根的树中，函数返回该节点。\n",
    "class TreeNode:\n",
    "    def __init__(self, x):\n",
    "        self.val = x\n",
    "        self.left = None\n",
    "        self.right = None\n",
    "\n",
    "\n",
    "class Solution:\n",
    "    def lowestCommonAncestor(self, root: 'TreeNode', p: 'TreeNode', q: 'TreeNode') -> 'TreeNode':\n",
    "        def dfs(node: TreeNode):\n",
    "            # BaseCase (递归)\n",
    "            if node is None:\n",
    "                return None\n",
    "            if node == p or node == q:\n",
    "                return node\n",
    "            # 前序位置 (递归)\n",
    "            left = dfs(node.left) # 回溯前会返回None或node\n",
    "            right = dfs(node.right) # 回溯会带着p或q或node或None\n",
    "            # 后序 (回溯)\n",
    "            if left and right:  # 都存在 最后必然会发生\n",
    "                return node\n",
    "            elif left is None and right is None:  # 都不存在\n",
    "                return None\n",
    "            elif left and right is None:  # 存在左\n",
    "                return left\n",
    "            else:  # 存在右\n",
    "                return right\n",
    "\n",
    "        return dfs(root)"
   ]
  }
 ],
 "metadata": {
  "interpreter": {
   "hash": "004de6046f1b3d314f33fdb43a2dc798b2646e5600efd8df5066c8b63a00ff6d"
  },
  "kernelspec": {
   "display_name": "Python 3.8.10 64-bit",
   "language": "python",
   "name": "python3"
  },
  "language_info": {
   "codemirror_mode": {
    "name": "ipython",
    "version": 3
   },
   "file_extension": ".py",
   "mimetype": "text/x-python",
   "name": "python",
   "nbconvert_exporter": "python",
   "pygments_lexer": "ipython3",
   "version": "3.8.10"
  },
  "orig_nbformat": 4
 },
 "nbformat": 4,
 "nbformat_minor": 2
}
