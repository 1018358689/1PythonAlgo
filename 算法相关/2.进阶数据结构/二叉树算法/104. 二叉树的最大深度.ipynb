{
 "cells": [
  {
   "cell_type": "markdown",
   "metadata": {},
   "source": [
    "给定一个二叉树，找出其最大深度。\n",
    "\n",
    "二叉树的深度为根节点到最远叶子节点的最长路径上的节点数。\n",
    "\n",
    "说明: 叶子节点是指没有子节点的节点。\n",
    "\n",
    "示例：\n",
    "给定二叉树 [3,9,20,null,null,15,7]，\n",
    "\n",
    "    3\n",
    "   / \\\n",
    "  9  20\n",
    "    /  \\\n",
    "   15   7\n",
    "返回它的最大深度 3 。"
   ]
  },
  {
   "cell_type": "code",
   "execution_count": null,
   "metadata": {},
   "outputs": [],
   "source": [
    "class TreeNode(object):\n",
    "    def __init__(self, data=None, left=None, right=None):\n",
    "        self.data = data\n",
    "        self.left = left\n",
    "        self.right = right\n",
    "\n",
    "    # 这一步是在每次调用某个结点时，自动调用.data的方法\n",
    "    def __str__(self):\n",
    "        return str(self.data)\n",
    "\n",
    "\n",
    "A, B, C, D, E, F, G, H, I = [TreeNode(x) for x in 'ABCDEFGHI']\n",
    "A.left, A.right = B, C\n",
    "C.left, C.right = D, E\n",
    "'''\n",
    "    A\n",
    "   / \\\n",
    "  B  C\n",
    "    / \\\n",
    "   D   E\n",
    "'''"
   ]
  },
  {
   "cell_type": "code",
   "execution_count": 2,
   "metadata": {},
   "outputs": [
    {
     "data": {
      "text/plain": [
       "3"
      ]
     },
     "execution_count": 2,
     "metadata": {},
     "output_type": "execute_result"
    }
   ],
   "source": [
    "# dfs 回溯 前序\n",
    "def maxDepth(root: TreeNode) -> int:\n",
    "    if not root: return 0\n",
    "    res = 0\n",
    "    deepth = 1\n",
    "\n",
    "    def dfs(node):\n",
    "        nonlocal res, deepth\n",
    "        if node.left == None and node.right == None:\n",
    "            res = max(res, deepth)\n",
    "            return\n",
    "        if node.left:\n",
    "            deepth += 1\n",
    "            dfs(node.left)\n",
    "            deepth -= 1\n",
    "        if node.right:\n",
    "            deepth += 1\n",
    "            dfs(node.right)\n",
    "            deepth -= 1\n",
    "\n",
    "    dfs(root)\n",
    "    return res\n",
    "\n",
    "maxDepth(A)"
   ]
  },
  {
   "cell_type": "code",
   "execution_count": 3,
   "metadata": {},
   "outputs": [
    {
     "data": {
      "text/plain": [
       "3"
      ]
     },
     "execution_count": 3,
     "metadata": {},
     "output_type": "execute_result"
    }
   ],
   "source": [
    "# dfs 回溯 前序\n",
    "def maxDepth(root: TreeNode) -> int:\n",
    "    if not root: return 0\n",
    "    res = 0\n",
    "    deepth = 0\n",
    "\n",
    "    def dfs(node):\n",
    "        nonlocal res, deepth\n",
    "        if node == None:\n",
    "            return\n",
    "        # 前序遍历位置\n",
    "        deepth += 1\n",
    "        # 遍历的过程中记录最大深度\n",
    "        res = max(res, deepth)\n",
    "        dfs(node.left)\n",
    "        dfs(node.right)\n",
    "        # 后序遍历位置\n",
    "        deepth -= 1\n",
    "\n",
    "    dfs(root)\n",
    "    return res\n",
    "\n",
    "maxDepth(A)"
   ]
  },
  {
   "cell_type": "code",
   "execution_count": 21,
   "metadata": {},
   "outputs": [
    {
     "data": {
      "text/plain": [
       "3"
      ]
     },
     "execution_count": 21,
     "metadata": {},
     "output_type": "execute_result"
    }
   ],
   "source": [
    "# dfs 递归 前序\n",
    "def maxDepth(root: TreeNode) -> int:\n",
    "    # if not root: return 0\n",
    "    res = 0\n",
    "\n",
    "    def dfs(node, depth):\n",
    "        nonlocal res\n",
    "        if node == None:\n",
    "            res = max(res, depth)\n",
    "            return\n",
    "        # 前序遍历位置\n",
    "        dfs(node.left, depth + 1)\n",
    "        dfs(node.right, depth + 1)\n",
    "\n",
    "    dfs(root, 0)\n",
    "    return res\n",
    "\n",
    "\n",
    "maxDepth(A)"
   ]
  },
  {
   "cell_type": "code",
   "execution_count": null,
   "metadata": {},
   "outputs": [],
   "source": [
    "# bfs\n",
    "from collections import deque\n",
    "\n",
    "\n",
    "class Solution:\n",
    "    def maxDepth(self, root: TreeNode) -> int:\n",
    "        if not root: return 0\n",
    "        deepth = 0\n",
    "        queue = deque([root])\n",
    "        while queue:\n",
    "            size = len(queue)\n",
    "            for _ in range(size):\n",
    "                node = queue.popleft()\n",
    "                if node.left:\n",
    "                    queue.append(node.left)\n",
    "                if node.right:\n",
    "                    queue.append(node.right)\n",
    "            deepth += 1\n",
    "        return deepth\n"
   ]
  },
  {
   "cell_type": "code",
   "execution_count": null,
   "metadata": {},
   "outputs": [],
   "source": [
    "# 后序求高度\n",
    "class Solution:\n",
    "    def maxDepth(self, root: TreeNode) -> int:\n",
    "        def dfs(root):\n",
    "            if root == None:\n",
    "                return 0\n",
    "            left_height = dfs(root.left)\n",
    "            right_height = dfs(root.right)\n",
    "            max_height = 1 + max(left_height, right_height)\n",
    "            return max_height\n",
    "\n",
    "        return dfs(root)"
   ]
  }
 ],
 "metadata": {
  "interpreter": {
   "hash": "004de6046f1b3d314f33fdb43a2dc798b2646e5600efd8df5066c8b63a00ff6d"
  },
  "kernelspec": {
   "display_name": "Python 3.8.10 64-bit",
   "language": "python",
   "name": "python3"
  },
  "language_info": {
   "codemirror_mode": {
    "name": "ipython",
    "version": 3
   },
   "file_extension": ".py",
   "mimetype": "text/x-python",
   "name": "python",
   "nbconvert_exporter": "python",
   "pygments_lexer": "ipython3",
   "version": "3.8.10"
  },
  "orig_nbformat": 4
 },
 "nbformat": 4,
 "nbformat_minor": 2
}
