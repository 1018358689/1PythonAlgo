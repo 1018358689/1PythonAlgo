{
 "cells": [
  {
   "cell_type": "markdown",
   "metadata": {},
   "source": [
    "路径 被定义为一条从树中任意节点出发，沿父节点-子节点连接，达到任意节点的序列。同一个节点在一条路径序列中 至多出现一次 。该路径 至少包含一个 节点，且不一定经过根节点。\n",
    "\n",
    "路径和 是路径中各节点值的总和。\n",
    "\n",
    "给你一个二叉树的根节点 root ，返回其 最大路径和 。\n",
    "\n",
    "示例 1：\n",
    "输入：root = [1,2,3]\n",
    "输出：6\n",
    "解释：最优路径是 2 -> 1 -> 3 ，路径和为 2 + 1 + 3 = 6\n",
    "\n",
    "示例 2：\n",
    "输入：root = [-10,9,20,null,null,15,7]\n",
    "输出：42\n",
    "解释：最优路径是 15 -> 20 -> 7 ，路径和为 15 + 20 + 7 = 42"
   ]
  },
  {
   "cell_type": "code",
   "execution_count": null,
   "metadata": {},
   "outputs": [],
   "source": [
    "from typing import Optional\n",
    "\n",
    "\n",
    "class TreeNode:\n",
    "    def __init__(self, val=0, left=None, right=None):\n",
    "        self.val = val\n",
    "        self.left = left\n",
    "        self.right = right\n",
    "\n",
    "\n",
    "class Solution:\n",
    "    def maxPathSum(self, root: Optional[TreeNode]) -> int:\n",
    "        res = float('-inf')\n",
    "\n",
    "        def dfs(node: TreeNode): # 该节点为起点的最大路径和  小于0则舍弃\n",
    "            nonlocal res\n",
    "            if not node:\n",
    "                return 0\n",
    "            left = dfs(node.left)\n",
    "            right = dfs(node.right)\n",
    "            res = max(res, left + right + node.val)\n",
    "            return max(left + node.val, right + node.val, node.val, 0) # left 和 right必大于等于0 所以 node.val可以从括号舍弃\n",
    "\n",
    "        dfs(root)\n",
    "        return res"
   ]
  }
 ],
 "metadata": {
  "interpreter": {
   "hash": "004de6046f1b3d314f33fdb43a2dc798b2646e5600efd8df5066c8b63a00ff6d"
  },
  "kernelspec": {
   "display_name": "Python 3.8.10 64-bit",
   "language": "python",
   "name": "python3"
  },
  "language_info": {
   "codemirror_mode": {
    "name": "ipython",
    "version": 3
   },
   "file_extension": ".py",
   "mimetype": "text/x-python",
   "name": "python",
   "nbconvert_exporter": "python",
   "pygments_lexer": "ipython3",
   "version": "3.8.10"
  },
  "orig_nbformat": 4
 },
 "nbformat": 4,
 "nbformat_minor": 2
}
