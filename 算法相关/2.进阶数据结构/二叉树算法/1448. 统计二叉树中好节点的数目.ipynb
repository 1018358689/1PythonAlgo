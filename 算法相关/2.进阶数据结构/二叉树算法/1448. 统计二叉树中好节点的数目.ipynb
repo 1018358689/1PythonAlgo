{
 "cells": [
  {
   "cell_type": "markdown",
   "metadata": {},
   "source": [
    "给你一棵根为 root 的二叉树，请你返回二叉树中好节点的数目。\n",
    "\n",
    "「好节点」X 定义为：从根到该节点 X 所经过的节点中，没有任何节点的值大于 X 的值。\n",
    " \n",
    "示例 1：\n",
    "输入：root = [3,1,4,3,null,1,5]\n",
    "输出：4\n",
    "解释：图中蓝色节点为好节点。\n",
    "根节点 (3) 永远是个好节点。\n",
    "节点 4 -> (3,4) 是路径中的最大值。\n",
    "节点 5 -> (3,4,5) 是路径中的最大值。\n",
    "节点 3 -> (3,1,3) 是路径中的最大值。\n",
    "\n",
    "示例 2：\n",
    "输入：root = [3,3,null,4,2]\n",
    "输出：3\n",
    "解释：节点 2 -> (3, 3, 2) 不是好节点，因为 \"3\" 比它大。\n",
    "\n",
    "示例 3：\n",
    "输入：root = [1]\n",
    "输出：1\n",
    "解释：根节点是好节点。"
   ]
  },
  {
   "cell_type": "code",
   "execution_count": null,
   "metadata": {},
   "outputs": [],
   "source": [
    "# Definition for a binary tree node.\n",
    "class TreeNode:\n",
    "    def __init__(self, val=0, left=None, right=None):\n",
    "        self.val = val\n",
    "        self.left = left\n",
    "        self.right = right\n",
    "\n",
    "\n",
    "class Solution:\n",
    "    def goodNodes(self, root: TreeNode) -> int:\n",
    "        cnt = 0\n",
    "\n",
    "        def dfs(node: TreeNode, m):\n",
    "            nonlocal cnt\n",
    "            if not node:\n",
    "                return\n",
    "            if node.val >= m:\n",
    "                m = node.val\n",
    "                cnt += 1\n",
    "            dfs(node.left, m)\n",
    "            dfs(node.right, m)\n",
    "\n",
    "        dfs(root, float('-inf'))\n",
    "        return cnt"
   ]
  },
  {
   "cell_type": "code",
   "execution_count": null,
   "metadata": {},
   "outputs": [],
   "source": [
    "# Definition for a binary tree node.\n",
    "class TreeNode:\n",
    "    def __init__(self, val=0, left=None, right=None):\n",
    "        self.val = val\n",
    "        self.left = left\n",
    "        self.right = right\n",
    "\n",
    "\n",
    "class Solution:\n",
    "    def goodNodes(self, root: TreeNode) -> int:\n",
    "        cnt = 0\n",
    "\n",
    "        def dfs(node: TreeNode, m):\n",
    "            nonlocal cnt\n",
    "            if not node:\n",
    "                return\n",
    "            if node.val >= m:\n",
    "                # print(node.val, m)\n",
    "                cnt += 1\n",
    "            m = max(m, node.val)\n",
    "            dfs(node.left, m)\n",
    "            dfs(node.right, m)\n",
    "\n",
    "        dfs(root, float('-inf'))\n",
    "        return cnt"
   ]
  }
 ],
 "metadata": {
  "language_info": {
   "name": "python"
  },
  "orig_nbformat": 4
 },
 "nbformat": 4,
 "nbformat_minor": 2
}
