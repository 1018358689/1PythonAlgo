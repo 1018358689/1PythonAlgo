{
 "cells": [
  {
   "cell_type": "markdown",
   "metadata": {},
   "source": [
    "给定一棵二叉树，你需要计算它的直径长度。一棵二叉树的直径长度是任意两个结点路径长度中的最大值。这条路径可能穿过也可能不穿过根结点。\n",
    "\n",
    "\n",
    "示例 :\n",
    "给定二叉树\n",
    "\n",
    "          1\n",
    "         / \\\n",
    "        2   3\n",
    "       / \\     \n",
    "      4   5    \n",
    "返回 3, 它的长度是路径 [4,2,1,3] 或者 [5,2,1,3]。\n",
    "\n",
    " \n",
    "\n",
    "注意：两结点之间的路径长度是以它们之间边的数目表示。"
   ]
  },
  {
   "cell_type": "code",
   "execution_count": 2,
   "metadata": {},
   "outputs": [],
   "source": [
    "# Definition for a binary tree node.\n",
    "class TreeNode:\n",
    "    def __init__(self, val=0, left=None, right=None):\n",
    "        self.val = val\n",
    "        self.left = left\n",
    "        self.right = right\n",
    "\n",
    "\n",
    "class Solution:\n",
    "    def diameterOfBinaryTree(self, root: TreeNode) -> int:\n",
    "        if not root: return False\n",
    "        max_diameter = 0\n",
    "\n",
    "        def dfs(node: TreeNode):  # 该节点为起点的高度\n",
    "            nonlocal max_diameter\n",
    "            if node is None:\n",
    "                return 0\n",
    "            max_left = dfs(node.left)\n",
    "            max_right = dfs(node.right)\n",
    "            max_diameter = max(max_diameter, max_left + max_right)\n",
    "            return 1 + max(max_left, max_right)\n",
    "\n",
    "        dfs(root)\n",
    "        return max_diameter"
   ]
  },
  {
   "cell_type": "code",
   "execution_count": 3,
   "metadata": {},
   "outputs": [],
   "source": [
    "class Solution:\n",
    "    def diameterOfBinaryTree(self, root: TreeNode) -> int:\n",
    "        if not root: return False\n",
    "        max_diameter = 0\n",
    "\n",
    "        def dfs(node: TreeNode):  # 该节点为起点的最长路径\n",
    "            nonlocal max_diameter\n",
    "            if node is None:\n",
    "                return -1\n",
    "            max_left = dfs(node.left)\n",
    "            max_right = dfs(node.right)\n",
    "            max_diameter = max(max_diameter, 2 + max_left + max_right)\n",
    "            return 1 + max(max_left, max_right)\n",
    "\n",
    "        dfs(root)\n",
    "        return max_diameter"
   ]
  },
  {
   "cell_type": "code",
   "execution_count": null,
   "metadata": {},
   "outputs": [],
   "source": []
  }
 ],
 "metadata": {
  "interpreter": {
   "hash": "004de6046f1b3d314f33fdb43a2dc798b2646e5600efd8df5066c8b63a00ff6d"
  },
  "kernelspec": {
   "display_name": "Python 3.8.10 64-bit",
   "language": "python",
   "name": "python3"
  },
  "language_info": {
   "codemirror_mode": {
    "name": "ipython",
    "version": 3
   },
   "file_extension": ".py",
   "mimetype": "text/x-python",
   "name": "python",
   "nbconvert_exporter": "python",
   "pygments_lexer": "ipython3",
   "version": "3.8.10"
  },
  "orig_nbformat": 4
 },
 "nbformat": 4,
 "nbformat_minor": 2
}
