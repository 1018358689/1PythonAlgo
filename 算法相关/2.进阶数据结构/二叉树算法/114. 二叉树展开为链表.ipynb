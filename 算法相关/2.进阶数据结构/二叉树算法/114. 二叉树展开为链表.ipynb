{
 "cells": [
  {
   "cell_type": "markdown",
   "metadata": {},
   "source": [
    "给你二叉树的根结点 root ，请你将它展开为一个单链表：\n",
    "\n",
    "展开后的单链表应该同样使用 TreeNode ，其中 right 子指针指向链表中下一个结点，而左子指针始终为 null 。\n",
    "展开后的单链表应该与二叉树 先序遍历 顺序相同。\n",
    " \n",
    "示例 1：\n",
    "输入：root = [1,2,5,3,4,null,6]\n",
    "输出：[1,null,2,null,3,null,4,null,5,null,6]\n",
    "\n",
    "示例 2：\n",
    "输入：root = []\n",
    "输出：[]\n",
    "\n",
    "示例 3：\n",
    "输入：root = [0]\n",
    "输出：[0]"
   ]
  },
  {
   "cell_type": "code",
   "execution_count": null,
   "metadata": {},
   "outputs": [],
   "source": [
    "class TreeNode:\n",
    "    def __init__(self, val=0, left=None, right=None):\n",
    "        self.val = val\n",
    "        self.left = left\n",
    "        self.right = right\n",
    "\n",
    "\n",
    "class Solution:\n",
    "    def flatten(self, root: TreeNode) -> None:\n",
    "        \"\"\"\n",
    "        Do not return anything, modify root in-place instead.\n",
    "        \"\"\"\n",
    "        # BaseCase\n",
    "        if not root:\n",
    "            return\n",
    "        # 递归拉平左右子树\n",
    "        self.flatten(root.left)\n",
    "        self.flatten(root.right)\n",
    "        # 后序位置 拉平后操作\n",
    "        left = root.left  # 存储一下左右\n",
    "        right = root.right\n",
    "\n",
    "        root.left = None  # 左为None\n",
    "        root.right = left  # 右为left\n",
    "\n",
    "        node = root\n",
    "        while node.right != None:\n",
    "            node = node.right  # 一直走到最右下方\n",
    "        node.right = right  # 把原来的右放到现在的右\n"
   ]
  }
 ],
 "metadata": {
  "interpreter": {
   "hash": "004de6046f1b3d314f33fdb43a2dc798b2646e5600efd8df5066c8b63a00ff6d"
  },
  "kernelspec": {
   "display_name": "Python 3.8.10 64-bit",
   "language": "python",
   "name": "python3"
  },
  "language_info": {
   "codemirror_mode": {
    "name": "ipython",
    "version": 3
   },
   "file_extension": ".py",
   "mimetype": "text/x-python",
   "name": "python",
   "nbconvert_exporter": "python",
   "pygments_lexer": "ipython3",
   "version": "3.8.10"
  },
  "orig_nbformat": 4
 },
 "nbformat": 4,
 "nbformat_minor": 2
}
