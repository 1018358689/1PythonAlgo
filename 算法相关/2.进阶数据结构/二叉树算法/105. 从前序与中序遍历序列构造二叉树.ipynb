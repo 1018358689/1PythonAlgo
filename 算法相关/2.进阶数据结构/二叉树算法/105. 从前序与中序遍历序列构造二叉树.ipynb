{
 "cells": [
  {
   "cell_type": "markdown",
   "metadata": {},
   "source": [
    "给定一棵树的前序遍历 preorder 与中序遍历  inorder。请构造二叉树并返回其根节点。\n",
    "\n",
    " \n",
    "示例 1:\n",
    "Input: preorder = [3,9,20,15,7], inorder = [9,3,15,20,7]\n",
    "Output: [3,9,20,null,null,15,7]\n",
    "示例 2:\n",
    "\n",
    "Input: preorder = [-1], inorder = [-1]\n",
    "Output: [-1]"
   ]
  },
  {
   "cell_type": "code",
   "execution_count": 9,
   "metadata": {},
   "outputs": [
    {
     "data": {
      "text/plain": [
       "'\\n    A\\n   /   B  C\\n    /    D   E\\n'"
      ]
     },
     "execution_count": 9,
     "metadata": {},
     "output_type": "execute_result"
    }
   ],
   "source": [
    "class TreeNode(object):\n",
    "    def __init__(self, val=None, left=None, right=None):\n",
    "        self.val = val\n",
    "        self.left = left\n",
    "        self.right = right\n",
    "\n",
    "    # 这一步是在每次调用某个结点时，自动调用.data的方法\n",
    "    def __str__(self):\n",
    "        return str(self.val)\n",
    "\n",
    "\n",
    "A, B, C, D, E, F, G, H, I = [TreeNode(x) for x in 'ABCDEFGHI']\n",
    "A.left, A.right = B, C\n",
    "C.left, C.right = D, E\n",
    "'''\n",
    "    A\n",
    "   / \\\n",
    "  B  C\n",
    "    / \\\n",
    "   D   E\n",
    "'''"
   ]
  },
  {
   "cell_type": "code",
   "execution_count": 13,
   "metadata": {},
   "outputs": [],
   "source": [
    "def buildTree(preorder: list, inorder: list):\n",
    "    if not (preorder and inorder):\n",
    "        return None\n",
    "    root = TreeNode(preorder[0])\n",
    "    mid_index = inorder.index(root.val)\n",
    "    root.left = buildTree(preorder[1:mid_index + 1], inorder[:mid_index])\n",
    "    root.right = buildTree(preorder[mid_index + 1:], inorder[mid_index + 1:])\n",
    "    return root\n",
    "    "
   ]
  },
  {
   "cell_type": "code",
   "execution_count": 11,
   "metadata": {},
   "outputs": [],
   "source": [
    "def buildTree(preorder: list, inorder: list):\n",
    "\n",
    "    if not (preorder and inorder):\n",
    "        return None\n",
    "    # 根据前序数组的第一个元素，就可以确定根节点\n",
    "    root = TreeNode(preorder[0])\n",
    "    # 用preorder[0]去中序数组中查找对应的元素\n",
    "    mid_idx = inorder.index(preorder[0])\n",
    "    # 递归的处理前序数组的左边部分和中序数组的左边部分\n",
    "    # 递归处理前序数组右边部分和中序数组右边部分\n",
    "    root.left = buildTree(preorder[1:mid_idx + 1], inorder[:mid_idx])\n",
    "    root.right = buildTree(preorder[mid_idx + 1:], inorder[mid_idx + 1:])\n",
    "    return root\n"
   ]
  },
  {
   "cell_type": "code",
   "execution_count": null,
   "metadata": {},
   "outputs": [],
   "source": []
  }
 ],
 "metadata": {
  "interpreter": {
   "hash": "004de6046f1b3d314f33fdb43a2dc798b2646e5600efd8df5066c8b63a00ff6d"
  },
  "kernelspec": {
   "display_name": "Python 3.8.10 64-bit",
   "language": "python",
   "name": "python3"
  },
  "language_info": {
   "codemirror_mode": {
    "name": "ipython",
    "version": 3
   },
   "file_extension": ".py",
   "mimetype": "text/x-python",
   "name": "python",
   "nbconvert_exporter": "python",
   "pygments_lexer": "ipython3",
   "version": "3.8.10"
  },
  "orig_nbformat": 4
 },
 "nbformat": 4,
 "nbformat_minor": 2
}
