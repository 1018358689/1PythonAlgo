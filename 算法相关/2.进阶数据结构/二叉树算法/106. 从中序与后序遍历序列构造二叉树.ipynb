{
 "cells": [
  {
   "cell_type": "code",
   "execution_count": null,
   "metadata": {},
   "outputs": [],
   "source": [
    "class TreeNode:\n",
    "    def __init__(self, val=0, left=None, right=None):\n",
    "        self.val = val\n",
    "        self.left = left\n",
    "        self.right = right\n",
    "\n",
    "\n",
    "class Solution:\n",
    "    def buildTree(self, inorder: list, postorder: list):\n",
    "        if not (inorder and postorder):\n",
    "            return None\n",
    "        root = TreeNode(postorder[-1])\n",
    "        mid = inorder.index(root.val)\n",
    "        root.left = self.buildTree(inorder[:mid], postorder[:mid])\n",
    "        root.right = self.buildTree(inorder[mid + 1:], postorder[mid:len(postorder) - 1])\n",
    "        return root"
   ]
  }
 ],
 "metadata": {
  "language_info": {
   "name": "python"
  },
  "orig_nbformat": 4
 },
 "nbformat": 4,
 "nbformat_minor": 2
}
