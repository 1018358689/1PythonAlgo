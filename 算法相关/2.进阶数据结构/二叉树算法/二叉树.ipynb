{
 "cells": [
  {
   "cell_type": "markdown",
   "metadata": {},
   "source": [
    "前序位置是刚刚进入节点的时刻，后序位置是即将离开节点的时刻。\n",
    "\n",
    "但这里面大有玄妙，意味着前序位置的代码只能从函数参数中获取父节点传递来的数据，而后序位置的代码不仅可以获取参数数据，还可以获取到子树通过函数返回值传递回来的数据。\n",
    "\n",
    "举具体的例子，现在给你一棵二叉树，我问你两个简单的问题：\n",
    "\n",
    "1、如果把根节点看做第 1 层，如何打印出每一个节点所在的层数？\n",
    "\n",
    "2、如何打印出每个节点的左右子树各有多少节点？"
   ]
  },
  {
   "cell_type": "code",
   "execution_count": 9,
   "metadata": {},
   "outputs": [],
   "source": [
    "class Node(object):\n",
    "    \"\"\"二叉树节点\"\"\"\n",
    "    def __init__(self, elem=-1, lchild=None, rchild=None):\n",
    "        self.elem = elem\n",
    "        self.lchild = lchild\n",
    "        self.rchild = rchild\n",
    "\n",
    "\n",
    "class Tree(object):\n",
    "    \"\"\"二叉树\"\"\"\n",
    "    def __init__(self, root=None):\n",
    "        self.root = root\n",
    "\n",
    "    def add(self, elem):\n",
    "        \"\"\"为树添加节点\"\"\"\n",
    "        node = Node(elem)\n",
    "        # 如果树是空的，则对根节点赋值\n",
    "        if self.root == None:\n",
    "            self.root = node\n",
    "        else:\n",
    "            queue = list()\n",
    "            queue.append(self.root)\n",
    "            while queue:\n",
    "                # 弹出队列的第一个元素\n",
    "                cur = queue.pop(0)\n",
    "                if cur.lchild == None:\n",
    "                    cur.lchild = node\n",
    "                    return\n",
    "                elif cur.rchild == None:\n",
    "                    cur.rchild = node\n",
    "                    return\n",
    "                else:\n",
    "                    # 如果左右子树都不为空，往判断列表加入子树，循环进行子树的判断\n",
    "                    queue.append(cur.lchild)\n",
    "                    queue.append(cur.rchild)\n",
    "\n",
    "    def preorder(self, root):\n",
    "        \"\"\"递归实现先序遍历\"\"\"\n",
    "        if root == None:\n",
    "            return\n",
    "        print(root.elem)\n",
    "        self.preorder(root.lchild)\n",
    "        self.preorder(root.rchild)\n",
    "\n",
    "    def inorder(self, root):\n",
    "        \"\"\"递归实现中序遍历\"\"\"\n",
    "        if root == None:\n",
    "            return\n",
    "        self.inorder(root.lchild)\n",
    "        print(root.elem)\n",
    "        self.inorder(root.rchild)\n",
    "\n",
    "    def postorder(self, root):\n",
    "        \"\"\"递归实现后续遍历\"\"\"\n",
    "        if root == None:\n",
    "            return\n",
    "        self.postorder(root.lchild)\n",
    "        self.postorder(root.rchild)\n",
    "        print(root.elem)\n",
    "\n",
    "    def breadth_travel(self, root):\n",
    "        \"\"\"利用队列实现树的层次遍历\"\"\"\n",
    "        if root == None:\n",
    "            return\n",
    "        queue = list()\n",
    "        queue.append(root)\n",
    "        while queue:\n",
    "            node = queue.pop(0)\n",
    "            print(node.elem)\n",
    "            if node.lchild != None:\n",
    "                queue.append(node.lchild)\n",
    "            if node.rchild != None:\n",
    "                queue.append(node.rchild)\n"
   ]
  },
  {
   "cell_type": "code",
   "execution_count": 24,
   "metadata": {},
   "outputs": [
    {
     "name": "stdout",
     "output_type": "stream",
     "text": [
      "A\n",
      "B\n",
      "D\n",
      "C\n",
      "E\n",
      "G\n",
      "F\n",
      "H\n",
      "I\n"
     ]
    }
   ],
   "source": [
    "class TreeNode(object):\n",
    "    def __init__(self, data=None, left=None, right=None):\n",
    "        self.data = data\n",
    "        self.left = left\n",
    "        self.right = right\n",
    "\n",
    "    # 这一步是在每次调用某个结点时，自动调用.data的方法\n",
    "    def __str__(self):\n",
    "        return str(self.data)\n",
    "\n",
    "\n",
    "A, B, C, D, E, F, G, H, I = [TreeNode(x) for x in 'ABCDEFGHI']\n",
    "A.left, A.right = B, C\n",
    "B.right = D\n",
    "C.left, C.right = E, F\n",
    "E.left = G\n",
    "F.left, F.right = H, I\n",
    "# print(C.right)\n",
    "\n",
    "def preorder(root):\n",
    "    \"\"\"递归实现先序遍历\"\"\"\n",
    "    if root == None:\n",
    "        return\n",
    "    print(root.data)\n",
    "    preorder(root.left)\n",
    "    preorder(root.right)\n",
    "preorder(A)"
   ]
  },
  {
   "cell_type": "code",
   "execution_count": 25,
   "metadata": {},
   "outputs": [
    {
     "name": "stdout",
     "output_type": "stream",
     "text": [
      "A 1\n",
      "B 2\n",
      "C 2\n",
      "D 3\n",
      "E 3\n"
     ]
    }
   ],
   "source": [
    "class TreeNode(object):\n",
    "    def __init__(self, data=None, left=None, right=None):\n",
    "        self.data = data\n",
    "        self.left = left\n",
    "        self.right = right\n",
    "\n",
    "    # 这一步是在每次调用某个结点时，自动调用.data的方法\n",
    "    def __str__(self):\n",
    "        return str(self.data)\n",
    "\n",
    "\n",
    "A, B, C, D, E, F, G, H, I = [TreeNode(x) for x in 'ABCDEFGHI']\n",
    "A.left, A.right = B, C\n",
    "C.left, C.right = D, E\n",
    "'''\n",
    "    A\n",
    "   / \\\n",
    "  B  C\n",
    "    / \\\n",
    "   D   E\n",
    "'''\n",
    "\n",
    "\n",
    "def preorder(root, level):\n",
    "    # 递归实现前续遍历 1、如果把根节点看做第 1 层，如何打印出每一个节点所在的层数？\n",
    "    if root == None:\n",
    "        return\n",
    "    print(root, level)\n",
    "    preorder(root.left, level + 1)\n",
    "    preorder(root.right, level + 1)\n",
    "\n",
    "\n",
    "preorder(A,1)"
   ]
  },
  {
   "cell_type": "code",
   "execution_count": 22,
   "metadata": {},
   "outputs": [
    {
     "name": "stdout",
     "output_type": "stream",
     "text": [
      "B 0 0\n",
      "D 0 0\n",
      "E 0 0\n",
      "C 1 1\n",
      "A 1 3\n"
     ]
    },
    {
     "data": {
      "text/plain": [
       "5"
      ]
     },
     "execution_count": 22,
     "metadata": {},
     "output_type": "execute_result"
    }
   ],
   "source": [
    "class TreeNode(object):\n",
    "    def __init__(self, data=None, left=None, right=None):\n",
    "        self.data = data\n",
    "        self.left = left\n",
    "        self.right = right\n",
    "\n",
    "    # 这一步是在每次调用某个结点时，自动调用.data的方法\n",
    "    def __str__(self):\n",
    "        return str(self.data)\n",
    "\n",
    "\n",
    "A, B, C, D, E, F, G, H, I = [TreeNode(x) for x in 'ABCDEFGHI']\n",
    "A.left, A.right = B, C\n",
    "C.left, C.right = D, E\n",
    "'''\n",
    "    A\n",
    "   / \\\n",
    "  B  C\n",
    "    / \\\n",
    "   D   E\n",
    "'''\n",
    "\n",
    "\n",
    "def postorder(root):\n",
    "    # 递归实现后续遍历 2、如何打印出每个节点的左右子树各有多少节点？\n",
    "    if root == None:\n",
    "        return 0\n",
    "    lcount = postorder(root.left)\n",
    "    rcount = postorder(root.right)\n",
    "    print(root, lcount, rcount)\n",
    "    return lcount + rcount + 1\n",
    "\n",
    "\n",
    "postorder(A)"
   ]
  },
  {
   "cell_type": "code",
   "execution_count": null,
   "metadata": {},
   "outputs": [],
   "source": []
  }
 ],
 "metadata": {
  "interpreter": {
   "hash": "004de6046f1b3d314f33fdb43a2dc798b2646e5600efd8df5066c8b63a00ff6d"
  },
  "kernelspec": {
   "display_name": "Python 3.8.10 64-bit",
   "language": "python",
   "name": "python3"
  },
  "language_info": {
   "codemirror_mode": {
    "name": "ipython",
    "version": 3
   },
   "file_extension": ".py",
   "mimetype": "text/x-python",
   "name": "python",
   "nbconvert_exporter": "python",
   "pygments_lexer": "ipython3",
   "version": "3.8.10"
  },
  "orig_nbformat": 4
 },
 "nbformat": 4,
 "nbformat_minor": 2
}
