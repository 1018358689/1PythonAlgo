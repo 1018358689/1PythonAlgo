{
 "cells": [
  {
   "cell_type": "markdown",
   "metadata": {},
   "source": [
    "给定一个二叉树，判断它是否是高度平衡的二叉树。\n",
    "\n",
    "本题中，一棵高度平衡二叉树定义为：\n",
    "\n",
    "一个二叉树每个节点 的左右两个子树的高度差的绝对值不超过 1 。\n",
    "\n",
    "\n",
    "示例 1：\n",
    "输入：root = [3,9,20,null,null,15,7]\n",
    "输出：true\n",
    "\n",
    "示例 2：\n",
    "输入：root = [1,2,2,3,3,null,null,4,4]\n",
    "输出：false\n",
    "\n",
    "示例 3：\n",
    "输入：root = []\n",
    "输出：true\n",
    "\n",
    "来源：力扣（LeetCode）\n",
    "链接：https://leetcode-cn.com/problems/balanced-binary-tree\n",
    "著作权归领扣网络所有。商业转载请联系官方授权，非商业转载请注明出处。"
   ]
  },
  {
   "cell_type": "code",
   "execution_count": 1,
   "metadata": {},
   "outputs": [],
   "source": [
    "class TreeNode:\n",
    "    def __init__(self, val=0, left=None, right=None):\n",
    "        self.val = val\n",
    "        self.left = left\n",
    "        self.right = right\n",
    "\n",
    "\n",
    "class Solution:\n",
    "    def isBalanced(self, root: TreeNode) -> bool:\n",
    "        signal = True\n",
    "\n",
    "        def dfs(node: TreeNode):\n",
    "            nonlocal signal\n",
    "            if not node:\n",
    "                return 0\n",
    "            hi_l = dfs(node.left)\n",
    "            hi_r = dfs(node.right)\n",
    "            if abs(hi_l - hi_r) > 1:\n",
    "                signal = False\n",
    "            return 1 + max(hi_l, hi_r)\n",
    "\n",
    "        dfs(root)\n",
    "        return signal"
   ]
  }
 ],
 "metadata": {
  "interpreter": {
   "hash": "004de6046f1b3d314f33fdb43a2dc798b2646e5600efd8df5066c8b63a00ff6d"
  },
  "kernelspec": {
   "display_name": "Python 3.8.10 64-bit",
   "language": "python",
   "name": "python3"
  },
  "language_info": {
   "codemirror_mode": {
    "name": "ipython",
    "version": 3
   },
   "file_extension": ".py",
   "mimetype": "text/x-python",
   "name": "python",
   "nbconvert_exporter": "python",
   "pygments_lexer": "ipython3",
   "version": "3.8.10"
  },
  "orig_nbformat": 4
 },
 "nbformat": 4,
 "nbformat_minor": 2
}
