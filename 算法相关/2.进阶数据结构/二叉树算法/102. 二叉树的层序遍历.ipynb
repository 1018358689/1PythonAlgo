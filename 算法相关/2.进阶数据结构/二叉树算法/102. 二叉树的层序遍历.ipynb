{
 "cells": [
  {
   "cell_type": "markdown",
   "metadata": {},
   "source": [
    "给你一个二叉树，请你返回其按 层序遍历 得到的节点值。（即逐层地，从左到右访问所有节点）。\n",
    "\n",
    "示例：  \n",
    "二叉树：[3,9,20,null,null,15,7],\n",
    "\n",
    "    3\n",
    "   / \\\n",
    "  9  20\n",
    "    /  \\\n",
    "   15   7\n",
    "返回其层序遍历结果：\n",
    "\n",
    "[\n",
    "  [3],\n",
    "  [9,20],\n",
    "  [15,7]\n",
    "]"
   ]
  },
  {
   "cell_type": "code",
   "execution_count": 3,
   "metadata": {},
   "outputs": [
    {
     "data": {
      "text/plain": [
       "'\\n    A\\n   /   B  C\\n    /    D   E\\n'"
      ]
     },
     "execution_count": 3,
     "metadata": {},
     "output_type": "execute_result"
    }
   ],
   "source": [
    "class TreeNode(object):\n",
    "    def __init__(self, val=None, left=None, right=None):\n",
    "        self.val = val\n",
    "        self.left = left\n",
    "        self.right = right\n",
    "\n",
    "    # 这一步是在每次调用某个结点时，自动调用.data的方法\n",
    "    def __str__(self):\n",
    "        return str(self.val)\n",
    "\n",
    "\n",
    "A, B, C, D, E, F, G, H, I = [TreeNode(x) for x in 'ABCDEFGHI']\n",
    "A.left, A.right = B, C\n",
    "C.left, C.right = D, E\n",
    "'''\n",
    "    A\n",
    "   / \\\n",
    "  B  C\n",
    "    / \\\n",
    "   D   E\n",
    "'''"
   ]
  },
  {
   "cell_type": "code",
   "execution_count": 4,
   "metadata": {},
   "outputs": [
    {
     "data": {
      "text/plain": [
       "[['A'], ['B', 'C'], ['D', 'E']]"
      ]
     },
     "execution_count": 4,
     "metadata": {},
     "output_type": "execute_result"
    }
   ],
   "source": [
    "def f(root: TreeNode):\n",
    "    if not root: return []\n",
    "    res = []\n",
    "    deque = [root]\n",
    "    while deque:\n",
    "        size = len(deque)\n",
    "        r = []\n",
    "        for _ in range(size):\n",
    "            node = deque.pop(0)\n",
    "            r.append(node.val)\n",
    "            if node.left: deque.append(node.left)\n",
    "            if node.right: deque.append(node.right)\n",
    "        res.append(r)\n",
    "    return res\n",
    "\n",
    "\n",
    "f(A)\n"
   ]
  },
  {
   "cell_type": "code",
   "execution_count": null,
   "metadata": {},
   "outputs": [],
   "source": []
  }
 ],
 "metadata": {
  "interpreter": {
   "hash": "aee8b7b246df8f9039afb4144a1f6fd8d2ca17a180786b69acc140d282b71a49"
  },
  "kernelspec": {
   "display_name": "Python 3.8.10 64-bit",
   "language": "python",
   "name": "python3"
  },
  "language_info": {
   "codemirror_mode": {
    "name": "ipython",
    "version": 3
   },
   "file_extension": ".py",
   "mimetype": "text/x-python",
   "name": "python",
   "nbconvert_exporter": "python",
   "pygments_lexer": "ipython3",
   "version": "3.8.10"
  },
  "orig_nbformat": 4
 },
 "nbformat": 4,
 "nbformat_minor": 2
}
