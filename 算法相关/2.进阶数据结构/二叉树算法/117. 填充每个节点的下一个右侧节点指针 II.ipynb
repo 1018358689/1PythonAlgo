{
 "cells": [
  {
   "cell_type": "markdown",
   "metadata": {},
   "source": [
    "给定一个二叉树\n",
    "\n",
    "struct Node {\n",
    "  int val;\n",
    "  Node *left;\n",
    "  Node *right;\n",
    "  Node *next;\n",
    "}\n",
    "填充它的每个 next 指针，让这个指针指向其下一个右侧节点。如果找不到下一个右侧节点，则将 next 指针设置为 NULL。\n",
    "\n",
    "初始状态下，所有 next 指针都被设置为 NULL。\n",
    "\n",
    "\n",
    "进阶：\n",
    "\n",
    "你只能使用常量级额外空间。\n",
    "使用递归解题也符合要求，本题中递归程序占用的栈空间不算做额外的空间复杂度。\n",
    "\n",
    "示例：\n",
    "\n",
    "输入：root = [1,2,3,4,5,null,7]\n",
    "输出：[1,#,2,3,#,4,5,7,#]\n",
    "解释：给定二叉树如图 A 所示，你的函数应该填充它的每个 next 指针，以指向其下一个右侧节点，如图 B 所示。序列化输出按层序遍历顺序（由 next 指针连接），'#' 表示每层的末尾。"
   ]
  },
  {
   "cell_type": "code",
   "execution_count": null,
   "metadata": {},
   "outputs": [],
   "source": [
    "class Node:\n",
    "    def __init__(self, val: int = 0, left: 'Node' = None, right: 'Node' = None, next: 'Node' = None):\n",
    "        self.val = val\n",
    "        self.left = left\n",
    "        self.right = right\n",
    "        self.next = next\n",
    "\n",
    "\n",
    "class Solution:\n",
    "    def connect(self, root: 'Node') -> 'Node':\n",
    "        if not root: return root\n",
    "        deque = [root]\n",
    "        while deque:\n",
    "            sz = len(deque)\n",
    "            for _ in range(sz):\n",
    "                node = deque.pop(0)\n",
    "                if node.left: deque.append(node.left)\n",
    "                if node.right: deque.append(node.right)\n",
    "            for i in range(len(deque) - 1):\n",
    "                deque[i].next = deque[i + 1]\n",
    "        return root\n"
   ]
  }
 ],
 "metadata": {
  "interpreter": {
   "hash": "004de6046f1b3d314f33fdb43a2dc798b2646e5600efd8df5066c8b63a00ff6d"
  },
  "kernelspec": {
   "display_name": "Python 3.8.10 64-bit",
   "language": "python",
   "name": "python3"
  },
  "language_info": {
   "codemirror_mode": {
    "name": "ipython",
    "version": 3
   },
   "file_extension": ".py",
   "mimetype": "text/x-python",
   "name": "python",
   "nbconvert_exporter": "python",
   "pygments_lexer": "ipython3",
   "version": "3.8.10"
  },
  "orig_nbformat": 4
 },
 "nbformat": 4,
 "nbformat_minor": 2
}
