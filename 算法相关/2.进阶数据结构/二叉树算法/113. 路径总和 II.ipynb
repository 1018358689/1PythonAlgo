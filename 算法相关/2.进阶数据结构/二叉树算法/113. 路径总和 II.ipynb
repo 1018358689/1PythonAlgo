{
 "cells": [
  {
   "cell_type": "markdown",
   "metadata": {},
   "source": [
    "给你二叉树的根节点 root 和一个整数目标和 targetSum ，找出所有 从根节点到叶子节点 路径总和等于给定目标和的路径。\n",
    "\n",
    "叶子节点 是指没有子节点的节点。\n",
    "\n",
    "\n",
    "示例 1：\n",
    "输入：root = [5,4,8,11,null,13,4,7,2,null,null,5,1], targetSum = 22\n",
    "输出：[[5,4,11,2],[5,8,4,5]]\n",
    "\n",
    "示例 2：\n",
    "输入：root = [1,2,3], targetSum = 5\n",
    "输出：[]\n",
    "\n",
    "示例 3：\n",
    "输入：root = [1,2], targetSum = 0\n",
    "输出：[]"
   ]
  },
  {
   "cell_type": "code",
   "execution_count": 2,
   "metadata": {},
   "outputs": [],
   "source": [
    "# 前序递归\n",
    "from typing import Optional,List\n",
    "\n",
    "\n",
    "class TreeNode:\n",
    "    def __init__(self, val=0, left=None, right=None):\n",
    "        self.val = val\n",
    "        self.left = left\n",
    "        self.right = right\n",
    "\n",
    "\n",
    "class Solution:\n",
    "    def pathSum(self, root: Optional[TreeNode], targetSum: int) -> List[List[int]]:\n",
    "        if not root: return []\n",
    "        res = []\n",
    "        r = [root.val]\n",
    "\n",
    "        def dfs(node: TreeNode, r: list):\n",
    "            if node.left is None and node.right is None:\n",
    "                if sum(r) == targetSum:\n",
    "                    res.append(r[:])\n",
    "                return\n",
    "            if node.left:\n",
    "                dfs(node.left, r + [node.left.val])\n",
    "            if node.right:\n",
    "                dfs(node.right, r + [node.right.val])\n",
    "\n",
    "        dfs(root, r)\n",
    "        return res"
   ]
  },
  {
   "cell_type": "code",
   "execution_count": null,
   "metadata": {},
   "outputs": [],
   "source": [
    "# 回溯\n",
    "from typing import Optional, List\n",
    "\n",
    "\n",
    "class TreeNode:\n",
    "    def __init__(self, val=0, left=None, right=None):\n",
    "        self.val = val\n",
    "        self.left = left\n",
    "        self.right = right\n",
    "\n",
    "\n",
    "class Solution:\n",
    "    def pathSum(self, root: Optional[TreeNode], targetSum: int) -> List[List[int]]:\n",
    "        if not root: return []\n",
    "        res = []\n",
    "        path = [root.val]\n",
    "\n",
    "        def dfs(node: TreeNode, path: list):\n",
    "            if node.left is None and node.right is None:\n",
    "                if sum(path) == targetSum:\n",
    "                    res.append(path[:])\n",
    "                return\n",
    "            for n in [node.left, node.right]:\n",
    "                if n:\n",
    "                    path.append(n.val)\n",
    "                    dfs(n, path)\n",
    "                    path.pop()\n",
    "\n",
    "        dfs(root, path)\n",
    "        return res\n"
   ]
  }
 ],
 "metadata": {
  "interpreter": {
   "hash": "004de6046f1b3d314f33fdb43a2dc798b2646e5600efd8df5066c8b63a00ff6d"
  },
  "kernelspec": {
   "display_name": "Python 3.8.10 64-bit",
   "language": "python",
   "name": "python3"
  },
  "language_info": {
   "codemirror_mode": {
    "name": "ipython",
    "version": 3
   },
   "file_extension": ".py",
   "mimetype": "text/x-python",
   "name": "python",
   "nbconvert_exporter": "python",
   "pygments_lexer": "ipython3",
   "version": "3.8.10"
  },
  "orig_nbformat": 4
 },
 "nbformat": 4,
 "nbformat_minor": 2
}
