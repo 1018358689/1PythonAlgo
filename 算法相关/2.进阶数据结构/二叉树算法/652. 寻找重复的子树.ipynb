{
 "cells": [
  {
   "cell_type": "markdown",
   "metadata": {},
   "source": [
    "给定一棵二叉树，返回所有重复的子树。对于同一类的重复子树，你只需要返回其中任意一棵的根结点即可。\n",
    "\n",
    "两棵树重复是指它们具有相同的结构以及相同的结点值。\n",
    "\n",
    "示例 1：\n",
    "\n",
    "        1\n",
    "       / \\\n",
    "      2   3\n",
    "     /   / \\\n",
    "    4   2   4\n",
    "       /\n",
    "      4\n",
    "下面是两个重复的子树：\n",
    "\n",
    "      2\n",
    "     /\n",
    "    4\n",
    "和\n",
    "\n",
    "    4\n",
    "因此，你需要以列表的形式返回上述重复子树的根结点。"
   ]
  },
  {
   "cell_type": "code",
   "execution_count": null,
   "metadata": {},
   "outputs": [],
   "source": [
    "from collections import defaultdict\n",
    "\n",
    "\n",
    "class TreeNode:\n",
    "    def __init__(self, val=0, left=None, right=None):\n",
    "        self.val = val\n",
    "        self.left = left\n",
    "        self.right = right\n",
    "\n",
    "\n",
    "class Solution:\n",
    "    def findDuplicateSubtrees(self, root: Optional[TreeNode]) -> List[Optional[TreeNode]]:\n",
    "        mem = defaultdict(int)\n",
    "        res = []\n",
    "\n",
    "        def dfs(node: TreeNode):  # 输出该节点的序列化形式\n",
    "            if not node:\n",
    "                return '#'\n",
    "            left = dfs(node.left)\n",
    "            right = dfs(node.right)\n",
    "            sub_tree = str(left) + ',' + str(right) + ',' + str(node.val)\n",
    "            if mem[sub_tree] == 0:\n",
    "                mem[sub_tree] += 1\n",
    "            elif mem[sub_tree] == 1:\n",
    "                mem[sub_tree] += 1\n",
    "                res.append(node)\n",
    "            return sub_tree\n",
    "\n",
    "        dfs(root)\n",
    "        return res\n"
   ]
  },
  {
   "cell_type": "code",
   "execution_count": null,
   "metadata": {},
   "outputs": [],
   "source": [
    "from collections import defaultdict\n",
    "\n",
    "\n",
    "class TreeNode:\n",
    "    def __init__(self, val=0, left=None, right=None):\n",
    "        self.val = val\n",
    "        self.left = left\n",
    "        self.right = right\n",
    "\n",
    "\n",
    "class Solution:\n",
    "    def findDuplicateSubtrees(self, root: Optional[TreeNode]) -> List[Optional[TreeNode]]:\n",
    "        mem = defaultdict(int)\n",
    "        res = []\n",
    "\n",
    "        def dfs(node: TreeNode):  # 输出该节点的序列化形式\n",
    "            if not node:\n",
    "                return '#'\n",
    "            left = dfs(node.left)\n",
    "            right = dfs(node.right)\n",
    "            sub_tree = str(left) + ',' + str(right) + ',' + str(node.val)\n",
    "            mem[sub_tree] += 1\n",
    "            if mem[sub_tree]==2: # 只在重复时候记录一次\n",
    "                res.append(node)\n",
    "            return sub_tree\n",
    "\n",
    "        dfs(root)\n",
    "        return res\n"
   ]
  }
 ],
 "metadata": {
  "interpreter": {
   "hash": "004de6046f1b3d314f33fdb43a2dc798b2646e5600efd8df5066c8b63a00ff6d"
  },
  "kernelspec": {
   "display_name": "Python 3.8.10 64-bit",
   "language": "python",
   "name": "python3"
  },
  "language_info": {
   "codemirror_mode": {
    "name": "ipython",
    "version": 3
   },
   "file_extension": ".py",
   "mimetype": "text/x-python",
   "name": "python",
   "nbconvert_exporter": "python",
   "pygments_lexer": "ipython3",
   "version": "3.8.10"
  },
  "orig_nbformat": 4
 },
 "nbformat": 4,
 "nbformat_minor": 2
}
