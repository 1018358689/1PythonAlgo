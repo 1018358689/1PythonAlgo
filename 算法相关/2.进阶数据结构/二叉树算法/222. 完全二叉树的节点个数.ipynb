{
 "cells": [
  {
   "cell_type": "markdown",
   "metadata": {},
   "source": [
    "给你一棵 完全二叉树 的根节点 root ，求出该树的节点个数。\n",
    "完全二叉树 的定义如下：在完全二叉树中，除了最底层节点可能没填满外，其余每层节点数都达到最大值，并且最下面一层的节点都集中在该层最左边的若干位置。若最底层为第 h 层，则该层包含 1~ 2^h 个节点。\n",
    "\n",
    "示例 1：\n",
    "输入：root = [1,2,3,4,5,6]\n",
    "输出：6\n",
    "\n",
    "示例 2：\n",
    "输入：root = []\n",
    "输出：0\n",
    "\n",
    "示例 3：\n",
    "输入：root = [1]\n",
    "输出：1"
   ]
  },
  {
   "cell_type": "code",
   "execution_count": 1,
   "metadata": {},
   "outputs": [],
   "source": [
    "class TreeNode:\n",
    "    def __init__(self, val=0, left=None, right=None):\n",
    "        self.val = val\n",
    "        self.left = left\n",
    "        self.right = right\n",
    "\n",
    "\n",
    "class Solution:\n",
    "    def countNodes(self, root: TreeNode) -> int:\n",
    "        if not root: return 0\n",
    "\n",
    "        def dfs(node: TreeNode):\n",
    "            if not node:\n",
    "                return 0\n",
    "            cnt_left = dfs(node.left)\n",
    "            cnt_right = dfs(node.right)\n",
    "            return 1 + cnt_left + cnt_right\n",
    "\n",
    "        return dfs(root)"
   ]
  },
  {
   "cell_type": "code",
   "execution_count": null,
   "metadata": {},
   "outputs": [],
   "source": [
    "class TreeNode:\n",
    "    def __init__(self, val=0, left=None, right=None):\n",
    "        self.val = val\n",
    "        self.left = left\n",
    "        self.right = right\n",
    "\n",
    "# https://mp.weixin.qq.com/s?__biz=MzAxODQxMDM0Mw==&mid=2247485057&idx=1&sn=45a3b89a4efef236cb662d5505d7ce36&scene=21#wechat_redirect\n",
    "class Solution:\n",
    "    def countNodes(self, root: TreeNode) -> int:\n",
    "        if not root: return 0\n",
    "\n",
    "        def dfs(node: TreeNode):\n",
    "            hi_left = hi_right = 0\n",
    "            tmp_l = tmp_r = node\n",
    "            while tmp_l:\n",
    "                tmp_l = tmp_l.left\n",
    "                hi_left += 1\n",
    "            while tmp_r:\n",
    "                tmp_r = tmp_r.right\n",
    "                hi_right += 1\n",
    "            if hi_left == hi_right:  # 如果左右子树的高度相同，则是一棵满二叉树\n",
    "                return 2**hi_left - 1\n",
    "            # 如果左右高度不同，则按照普通二叉树的逻辑计算\n",
    "            cnt_left = dfs(node.left)\n",
    "            cnt_right = dfs(node.right)\n",
    "            return 1 + cnt_left + cnt_right\n",
    "\n",
    "        return dfs(root)"
   ]
  }
 ],
 "metadata": {
  "interpreter": {
   "hash": "004de6046f1b3d314f33fdb43a2dc798b2646e5600efd8df5066c8b63a00ff6d"
  },
  "kernelspec": {
   "display_name": "Python 3.8.10 64-bit",
   "language": "python",
   "name": "python3"
  },
  "language_info": {
   "codemirror_mode": {
    "name": "ipython",
    "version": 3
   },
   "file_extension": ".py",
   "mimetype": "text/x-python",
   "name": "python",
   "nbconvert_exporter": "python",
   "pygments_lexer": "ipython3",
   "version": "3.8.10"
  },
  "orig_nbformat": 4
 },
 "nbformat": 4,
 "nbformat_minor": 2
}
