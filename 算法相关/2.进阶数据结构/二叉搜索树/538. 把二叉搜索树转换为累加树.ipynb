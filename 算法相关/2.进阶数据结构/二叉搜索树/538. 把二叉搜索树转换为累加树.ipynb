{
 "cells": [
  {
   "cell_type": "markdown",
   "metadata": {},
   "source": [
    "给出二叉 搜索 树的根节点，该树的节点值各不相同，请你将其转换为累加树（Greater Sum Tree），使每个节点 node 的新值等于原树中大于或等于 node.val 的值之和。\n",
    "\n",
    "提醒一下，二叉搜索树满足下列约束条件：\n",
    "\n",
    "节点的左子树仅包含键 小于 节点键的节点。\n",
    "节点的右子树仅包含键 大于 节点键的节点。\n",
    "左右子树也必须是二叉搜索树。\n",
    "注意：本题和 1038: https://leetcode-cn.com/problems/binary-search-tree-to-greater-sum-tree/ 相同\n",
    "\n",
    " \n",
    "\n",
    "示例 1：\n",
    "输入：[4,1,6,0,2,5,7,null,null,null,3,null,null,null,8]\n",
    "输出：[30,36,21,36,35,26,15,null,null,null,33,null,null,null,8]\n",
    "\n",
    "示例 2：\n",
    "输入：root = [0,null,1]\n",
    "输出：[1,null,1]\n",
    "\n",
    "示例 3：\n",
    "输入：root = [1,0,2]\n",
    "输出：[3,3,2]\n",
    "\n",
    "示例 4：\n",
    "输入：root = [3,2,4,1]\n",
    "输出：[7,9,4,10]\n",
    " \n",
    "\n",
    "提示：\n",
    "\n",
    "树中的节点数介于 0 和 104 之间。\n",
    "每个节点的值介于 -104 和 104 之间。\n",
    "树中的所有值 互不相同 。\n",
    "给定的树为二叉搜索树。\n",
    "\n",
    "来源：力扣（LeetCode）\n",
    "链接：https://leetcode-cn.com/problems/convert-bst-to-greater-tree\n",
    "著作权归领扣网络所有。商业转载请联系官方授权，非商业转载请注明出处。"
   ]
  },
  {
   "cell_type": "code",
   "execution_count": null,
   "metadata": {},
   "outputs": [],
   "source": [
    "# Definition for a binary tree node.\n",
    "from typing import Optional\n",
    "\n",
    "\n",
    "class TreeNode:\n",
    "    def __init__(self, val=0, left=None, right=None):\n",
    "        self.val = val\n",
    "        self.left = left\n",
    "        self.right = right\n",
    "\n",
    "\n",
    "class Solution:\n",
    "    def convertBST(self, root: Optional[TreeNode]) -> Optional[TreeNode]:\n",
    "        Sum = 0\n",
    "\n",
    "        def traverse(node: TreeNode):\n",
    "            nonlocal Sum\n",
    "            if node is None:\n",
    "                return\n",
    "            traverse(node.right)\n",
    "            Sum += node.val\n",
    "            node.val = Sum\n",
    "            traverse(node.left)\n",
    "\n",
    "        traverse(root)\n",
    "        return root"
   ]
  },
  {
   "cell_type": "code",
   "execution_count": null,
   "metadata": {},
   "outputs": [],
   "source": []
  }
 ],
 "metadata": {
  "language_info": {
   "name": "python"
  },
  "orig_nbformat": 4
 },
 "nbformat": 4,
 "nbformat_minor": 2
}
