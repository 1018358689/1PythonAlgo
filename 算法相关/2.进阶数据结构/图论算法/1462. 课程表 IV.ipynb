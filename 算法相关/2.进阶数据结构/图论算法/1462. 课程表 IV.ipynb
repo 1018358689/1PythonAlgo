{
 "cells": [
  {
   "cell_type": "code",
   "execution_count": 3,
   "metadata": {},
   "outputs": [
    {
     "name": "stdout",
     "output_type": "stream",
     "text": [
      "defaultdict(<class 'set'>, {1: {0}, 0: set(), 2: {0, 1}, 3: {0, 1, 2}, 4: {0, 1, 2, 3}})\n"
     ]
    },
    {
     "data": {
      "text/plain": [
       "[True, False, True, False]"
      ]
     },
     "execution_count": 3,
     "metadata": {},
     "output_type": "execute_result"
    }
   ],
   "source": [
    "# 拓扑排序\n",
    "import collections\n",
    "\n",
    "\n",
    "def f(n: int, prerequisites: list, queries: list):\n",
    "    dep = collections.defaultdict(set) # 依赖表\n",
    "    neis = [[] for _ in range(n)] # 邻接表\n",
    "    indegree = [0] * n # 入度表\n",
    "    for cur, next in prerequisites:\n",
    "        neis[cur].append(next)\n",
    "        indegree[next] += 1\n",
    "    q = collections.deque([i for i in range(n) if indegree[i] == 0])\n",
    "    while q:\n",
    "        sz = len(q)\n",
    "        for _ in range(sz):\n",
    "            cur = q.popleft()\n",
    "            for nei in neis[cur]:\n",
    "                indegree[nei] -= 1\n",
    "                # 把nei依赖加入dep[nei] 包括cur+dep[cur]\n",
    "                dep[nei].add(cur)\n",
    "                dep[nei] |= dep[cur] # 并集\n",
    "                if indegree[nei] == 0:\n",
    "                    q.append(nei)\n",
    "    print(dep)\n",
    "    res = []\n",
    "    for p, s in queries:\n",
    "        res.append(p in dep[s])\n",
    "    return res\n",
    "\n",
    "\n",
    "f(5, [[0, 1], [1, 2], [2, 3], [3, 4]], [[0, 4], [4, 0], [1, 3], [3, 0]])\n"
   ]
  },
  {
   "cell_type": "code",
   "execution_count": null,
   "metadata": {},
   "outputs": [],
   "source": []
  }
 ],
 "metadata": {
  "interpreter": {
   "hash": "aee8b7b246df8f9039afb4144a1f6fd8d2ca17a180786b69acc140d282b71a49"
  },
  "kernelspec": {
   "display_name": "Python 3.10.1 64-bit",
   "language": "python",
   "name": "python3"
  },
  "language_info": {
   "codemirror_mode": {
    "name": "ipython",
    "version": 3
   },
   "file_extension": ".py",
   "mimetype": "text/x-python",
   "name": "python",
   "nbconvert_exporter": "python",
   "pygments_lexer": "ipython3",
   "version": "3.10.1"
  },
  "orig_nbformat": 4
 },
 "nbformat": 4,
 "nbformat_minor": 2
}
