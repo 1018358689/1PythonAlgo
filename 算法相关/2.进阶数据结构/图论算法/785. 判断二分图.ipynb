{
 "cells": [
  {
   "cell_type": "code",
   "execution_count": 5,
   "metadata": {},
   "outputs": [
    {
     "data": {
      "text/plain": [
       "(False, True)"
      ]
     },
     "execution_count": 5,
     "metadata": {},
     "output_type": "execute_result"
    }
   ],
   "source": [
    "def f(graph: list):\n",
    "    visited = [0] * len(graph)  # 0未访问过 1访问过\n",
    "    colors = [0] * len(graph)  # 0未染色 1 2 颜色\n",
    "\n",
    "    def dfs(node: int):\n",
    "        visited[node] = 1\n",
    "        for nei in graph[node]:\n",
    "            if visited[nei] == 0:\n",
    "                colors[nei] = 1 if colors[node] == 2 else 2\n",
    "                if dfs(nei):\n",
    "                    return True  # 确定发现不是二分图 直接退出\n",
    "            else:  # 重复访问:走到环连接处 判断是不是相邻颜色一样 一样就直接触发True退出 不一样则回溯\n",
    "                if colors[node] == colors[nei]:\n",
    "                    return True\n",
    "        return False  # 走到底没有环或有环没有触发True 则没有发现不是二分图\n",
    "\n",
    "    for i in range(len(graph)):\n",
    "        if visited[i] == 0:  # 访问过不用访问 以及对单独成图的进行访问\n",
    "            colors[i] = 1\n",
    "            if dfs(i):\n",
    "                return False\n",
    "    return True\n",
    "\n",
    "\n",
    "f([[1, 2, 3], [0, 2], [0, 1, 3], [0, 2]]), f([[1, 3], [0, 2], [1, 3], [0, 2]])\n"
   ]
  },
  {
   "cell_type": "code",
   "execution_count": 1,
   "metadata": {},
   "outputs": [
    {
     "data": {
      "text/plain": [
       "True"
      ]
     },
     "execution_count": 1,
     "metadata": {},
     "output_type": "execute_result"
    }
   ],
   "source": [
    "import collections\n",
    "\n",
    "\n",
    "def f(graph: list):\n",
    "    visited = [0] * len(graph)  # 0未访问过 1访问过\n",
    "    colors = [0] * len(graph)  # 0未染色 1 2 颜色\n",
    "\n",
    "    def bfs(node: int):\n",
    "        q = collections.deque([node])\n",
    "        while q:\n",
    "            sz = len(q)\n",
    "            for _ in range(sz):\n",
    "                cur = q.popleft()\n",
    "                visited[cur] = 1\n",
    "                for nei in graph[cur]:\n",
    "                    if visited[nei] == 0:  # 未访问过\n",
    "                        colors[nei] = 1 if colors[cur] == 2 else 2\n",
    "                        q.append(nei)\n",
    "                    else:  # 访问过:成环\n",
    "                        if colors[nei] == colors[cur]:\n",
    "                            return True\n",
    "        return False\n",
    "\n",
    "    for i in range(len(graph)):\n",
    "        if visited[i] == 0:  # 访问过不用访问 以及对单独成图的进行访问\n",
    "            colors[i] = 1\n",
    "            if bfs(i):\n",
    "                return False\n",
    "    return True\n",
    "\n",
    "\n",
    "# f([[1, 2, 3], [0, 2], [0, 1, 3], [0, 2]])\n",
    "f([[1, 3], [0, 2], [1, 3], [0, 2]])\n"
   ]
  },
  {
   "cell_type": "code",
   "execution_count": null,
   "metadata": {},
   "outputs": [],
   "source": []
  }
 ],
 "metadata": {
  "interpreter": {
   "hash": "aee8b7b246df8f9039afb4144a1f6fd8d2ca17a180786b69acc140d282b71a49"
  },
  "kernelspec": {
   "display_name": "Python 3.10.1 64-bit",
   "language": "python",
   "name": "python3"
  },
  "language_info": {
   "codemirror_mode": {
    "name": "ipython",
    "version": 3
   },
   "file_extension": ".py",
   "mimetype": "text/x-python",
   "name": "python",
   "nbconvert_exporter": "python",
   "pygments_lexer": "ipython3",
   "version": "3.10.1"
  },
  "orig_nbformat": 4
 },
 "nbformat": 4,
 "nbformat_minor": 2
}
