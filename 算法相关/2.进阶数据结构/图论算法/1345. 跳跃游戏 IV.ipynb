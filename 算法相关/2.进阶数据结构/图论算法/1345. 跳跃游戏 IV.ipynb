{
 "cells": [
  {
   "cell_type": "code",
   "execution_count": 7,
   "metadata": {},
   "outputs": [
    {
     "data": {
      "text/plain": [
       "3"
      ]
     },
     "execution_count": 7,
     "metadata": {},
     "output_type": "execute_result"
    }
   ],
   "source": [
    "import collections\n",
    "# 会超时 邻接点过大 虽然nei not in visIndex可以过滤\n",
    "# 但最好直接缩减邻接点\n",
    "\n",
    "def f(arr: list):\n",
    "    sz = len(arr)\n",
    "    if sz == 1:\n",
    "        return 0\n",
    "    numIndex = collections.defaultdict(set)\n",
    "    for i, n in enumerate(arr):\n",
    "        numIndex[n].add(i)\n",
    "    q = collections.deque([(0, 0)])  # step index\n",
    "    visIndex = {0}\n",
    "    while q:\n",
    "        step, cur = q.popleft()\n",
    "        curNum = arr[cur]\n",
    "        for nei in numIndex[curNum] | {cur - 1, cur + 1}:\n",
    "            if 0 <= nei < sz:\n",
    "                if nei not in visIndex:\n",
    "                    visIndex.add(nei)\n",
    "                    if nei == sz - 1:\n",
    "                        return step + 1\n",
    "                    q.append((step + 1, nei))\n",
    "\n",
    "f([100, -23, -23, 404, 100, 23, 23, 23, 3, 404])"
   ]
  },
  {
   "cell_type": "code",
   "execution_count": 2,
   "metadata": {},
   "outputs": [
    {
     "data": {
      "text/plain": [
       "3"
      ]
     },
     "execution_count": 2,
     "metadata": {},
     "output_type": "execute_result"
    }
   ],
   "source": [
    "import collections\n",
    "# 相同数字的位置外扩后及时从邻接点删除\n",
    "\n",
    "def f(arr: list):\n",
    "    sz = len(arr)\n",
    "    if sz == 1:\n",
    "        return 0\n",
    "    numIndex = collections.defaultdict(set)\n",
    "    for i, n in enumerate(arr):\n",
    "        numIndex[n].add(i)\n",
    "    q = collections.deque([(0, 0)])  # step index\n",
    "    visIndex = {0}\n",
    "    while q:\n",
    "        step, cur = q.popleft()\n",
    "        curNum = arr[cur]\n",
    "        for nei in numIndex[curNum] | {cur - 1, cur + 1}:\n",
    "            if 0 <= nei < sz:\n",
    "                if nei not in visIndex:\n",
    "                    visIndex.add(nei)\n",
    "                    if nei == sz - 1:\n",
    "                        return step + 1\n",
    "                    q.append((step + 1, nei))\n",
    "        numIndex.pop(curNum)\n",
    "\n",
    "f([100, -23, -23, 404, 100, 23, 23, 23, 3, 404])"
   ]
  },
  {
   "cell_type": "code",
   "execution_count": 8,
   "metadata": {},
   "outputs": [],
   "source": [
    "d={1:2,3:4}\n",
    "d.pop(4,None)"
   ]
  },
  {
   "cell_type": "code",
   "execution_count": 11,
   "metadata": {},
   "outputs": [
    {
     "data": {
      "text/plain": [
       "3"
      ]
     },
     "execution_count": 11,
     "metadata": {},
     "output_type": "execute_result"
    }
   ],
   "source": [
    "import collections\n",
    "\n",
    "\n",
    "def f(arr: list):\n",
    "    sz = len(arr)\n",
    "    if sz == 1:\n",
    "        return 0\n",
    "    numIndex = collections.defaultdict(set)\n",
    "    for i, n in enumerate(arr):\n",
    "        numIndex[n].add(i)\n",
    "    q = collections.deque([(0, 0)])  # step index\n",
    "    visIndex = {0}\n",
    "    visNum = set()\n",
    "    while q:\n",
    "        step, cur = q.popleft()\n",
    "        curNum = arr[cur]\n",
    "        for nei in {cur - 1, cur + 1}:\n",
    "            if 0 <= nei < sz:\n",
    "                if nei not in visIndex:\n",
    "                    visIndex.add(nei)\n",
    "                    if nei == sz - 1:\n",
    "                        return step + 1\n",
    "                    q.append((step + 1, nei))\n",
    "        if curNum not in visNum:  # 遇到相同的值没必要再进入相同值位置\n",
    "            for nei in numIndex[curNum]:\n",
    "                if nei == sz - 1:\n",
    "                    return step + 1\n",
    "                q.append((step + 1, nei))\n",
    "            visNum.add(curNum)\n",
    "\n",
    "\n",
    "f([100, -23, -23, 404, 100, 23, 23, 23, 3, 404])"
   ]
  },
  {
   "cell_type": "code",
   "execution_count": 12,
   "metadata": {},
   "outputs": [
    {
     "data": {
      "text/plain": [
       "3"
      ]
     },
     "execution_count": 12,
     "metadata": {},
     "output_type": "execute_result"
    }
   ],
   "source": [
    "import heapq\n",
    "import collections\n",
    "# dijkstra不解决相同数字走完一轮再次进入反复判断问题 也是超时\n",
    "\n",
    "def f(arr: list):\n",
    "    sz = len(arr)\n",
    "    if sz == 1:\n",
    "        return 0\n",
    "    numIndex = collections.defaultdict(set)\n",
    "    for i, n in enumerate(arr):\n",
    "        numIndex[n].add(i)\n",
    "    pq = [(0, 0)]  # step index\n",
    "    costs = {0: 0}\n",
    "    best = set()\n",
    "    while pq:\n",
    "        step, cur = heapq.heappop(pq)\n",
    "        if cur == sz - 1:\n",
    "            return step\n",
    "        if cur in best:\n",
    "            continue\n",
    "        best.add(cur)\n",
    "        curNum = arr[cur]\n",
    "        for nei in numIndex[curNum] | {cur - 1, cur + 1}:\n",
    "            if 0 <= nei < sz and step + 1 < costs.get(nei, float('inf')):\n",
    "                costs[nei] = step + 1\n",
    "                heapq.heappush(pq, (step + 1, nei))\n",
    "\n",
    "\n",
    "f([100, -23, -23, 404, 100, 23, 23, 23, 3, 404])"
   ]
  },
  {
   "cell_type": "code",
   "execution_count": null,
   "metadata": {},
   "outputs": [],
   "source": []
  }
 ],
 "metadata": {
  "interpreter": {
   "hash": "aee8b7b246df8f9039afb4144a1f6fd8d2ca17a180786b69acc140d282b71a49"
  },
  "kernelspec": {
   "display_name": "Python 3.10.1 64-bit",
   "language": "python",
   "name": "python3"
  },
  "language_info": {
   "codemirror_mode": {
    "name": "ipython",
    "version": 3
   },
   "file_extension": ".py",
   "mimetype": "text/x-python",
   "name": "python",
   "nbconvert_exporter": "python",
   "pygments_lexer": "ipython3",
   "version": "3.10.1"
  },
  "orig_nbformat": 4
 },
 "nbformat": 4,
 "nbformat_minor": 2
}
