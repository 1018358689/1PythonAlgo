{
 "cells": [
  {
   "cell_type": "code",
   "execution_count": 1,
   "metadata": {},
   "outputs": [
    {
     "data": {
      "text/plain": [
       "2"
      ]
     },
     "execution_count": 1,
     "metadata": {},
     "output_type": "execute_result"
    }
   ],
   "source": [
    "def f(isConnected: list):\n",
    "    n = len(isConnected)\n",
    "    root = list(range(n))\n",
    "    rank = [1] * n\n",
    "    count = n\n",
    "\n",
    "    def find(x: int):\n",
    "        if root[x] == x:\n",
    "            return x\n",
    "        else:\n",
    "            root[x] = find(root[x])\n",
    "            return root[x]\n",
    "\n",
    "    def union(x: int, y: int):\n",
    "        nonlocal count\n",
    "        rootx = find(x)\n",
    "        rooty = find(y)\n",
    "        if rootx != rooty:\n",
    "            if rank[rootx] < rank[rooty]:\n",
    "                root[rootx] = rooty\n",
    "            elif rank[rootx] > rank[rooty]:\n",
    "                root[rooty] = rootx\n",
    "            else:\n",
    "                root[rootx] = rooty\n",
    "                rank[rooty] += 1\n",
    "            count -= 1\n",
    "\n",
    "    for i in range(n):\n",
    "        for j in range(n):\n",
    "            if isConnected[i][j] == 1:\n",
    "                union(i, j)\n",
    "    return count\n",
    "\n",
    "\n",
    "f([[1, 1, 0], [1, 1, 0], [0, 0, 1]])\n"
   ]
  },
  {
   "cell_type": "code",
   "execution_count": 7,
   "metadata": {},
   "outputs": [
    {
     "name": "stdout",
     "output_type": "stream",
     "text": [
      "[[1, 1, 0, 0], [1, 1, 1, 0], [0, 1, 1, 1], [0, 0, 1, 1]]\n",
      "[1, 2, 3, 3]\n",
      "3\n",
      "[3, 3, 3, 3]\n"
     ]
    }
   ],
   "source": [
    "from pprint import pprint\n",
    "\n",
    "\n",
    "def f(isConnected: list):\n",
    "    pprint(isConnected)\n",
    "    n = len(isConnected)\n",
    "    root = list(range(n))\n",
    "    rank = [1] * n\n",
    "    count = n\n",
    "\n",
    "    def find(x: int):\n",
    "        if root[x] == x:\n",
    "            return x\n",
    "        else:\n",
    "            root[x] = find(root[x])\n",
    "            return root[x]\n",
    "\n",
    "    def union(x: int, y: int):\n",
    "        nonlocal count\n",
    "        rootx = find(x)\n",
    "        rooty = find(y)\n",
    "        if rootx != rooty:\n",
    "            root[rootx] = rooty\n",
    "            count -= 1\n",
    "\n",
    "    for i in range(n):\n",
    "        for j in range(n):\n",
    "            if isConnected[i][j] == 1:\n",
    "                union(i, j)\n",
    "    print(root)\n",
    "    print(find(0))\n",
    "    pprint(root)\n",
    "\n",
    "\n",
    "f([[1, 1, 0, 0], [1, 1, 1, 0], [0, 1, 1, 1], [0, 0, 1, 1]])\n"
   ]
  },
  {
   "cell_type": "code",
   "execution_count": 8,
   "metadata": {},
   "outputs": [
    {
     "name": "stdout",
     "output_type": "stream",
     "text": [
      "[[1, 1, 0, 0], [1, 1, 1, 0], [0, 1, 1, 1], [0, 0, 1, 1]]\n",
      "[1, 1, 1, 1]\n",
      "1\n",
      "[1, 1, 1, 1]\n"
     ]
    }
   ],
   "source": [
    "from pprint import pprint\n",
    "\n",
    "\n",
    "def f(isConnected: list):\n",
    "    pprint(isConnected)\n",
    "    n = len(isConnected)\n",
    "    root = list(range(n))\n",
    "    rank = [1] * n\n",
    "    count = n\n",
    "\n",
    "    def find(x: int):\n",
    "        if root[x] == x:\n",
    "            return x\n",
    "        else:\n",
    "            return find(root[x])\n",
    "\n",
    "    def union(x: int, y: int):\n",
    "        nonlocal count\n",
    "        rootx = find(x)\n",
    "        rooty = find(y)\n",
    "        if rootx != rooty:\n",
    "            if rank[rootx] < rank[rooty]:\n",
    "                root[rootx] = rooty\n",
    "            elif rank[rootx] > rank[rooty]:\n",
    "                root[rooty] = rootx\n",
    "            else:\n",
    "                root[rootx] = rooty\n",
    "                rank[rooty] += 1\n",
    "            count -= 1\n",
    "\n",
    "    for i in range(n):\n",
    "        for j in range(n):\n",
    "            if isConnected[i][j] == 1:\n",
    "                union(i, j)\n",
    "    print(root)\n",
    "    print(find(0))\n",
    "    pprint(root)\n",
    "\n",
    "\n",
    "f([[1, 1, 0, 0], [1, 1, 1, 0], [0, 1, 1, 1], [0, 0, 1, 1]])\n"
   ]
  },
  {
   "cell_type": "code",
   "execution_count": 1,
   "metadata": {},
   "outputs": [
    {
     "data": {
      "text/plain": [
       "1"
      ]
     },
     "execution_count": 1,
     "metadata": {},
     "output_type": "execute_result"
    }
   ],
   "source": [
    "from pprint import pprint\n",
    "\n",
    "\n",
    "def f(isConnected: list):\n",
    "    n = len(isConnected)\n",
    "    vis = set()  # 记录访问\n",
    "\n",
    "    def dfs(node):\n",
    "        if node in vis:\n",
    "            return\n",
    "        vis.add(node)\n",
    "        for i in range(n):\n",
    "            if i != node and isConnected[node][i] == 1:  # 邻接点\n",
    "                dfs(i)\n",
    "\n",
    "    count = 0\n",
    "    for i in range(n):\n",
    "        if i not in vis: # 未访问过 则dfs把所有相邻深度访问\n",
    "            count += 1\n",
    "            dfs(i)\n",
    "    return count\n",
    "\n",
    "\n",
    "f([[1, 1, 0, 0], [1, 1, 1, 0], [0, 1, 1, 1], [0, 0, 1, 1]])\n"
   ]
  },
  {
   "cell_type": "code",
   "execution_count": null,
   "metadata": {},
   "outputs": [],
   "source": []
  }
 ],
 "metadata": {
  "interpreter": {
   "hash": "aee8b7b246df8f9039afb4144a1f6fd8d2ca17a180786b69acc140d282b71a49"
  },
  "kernelspec": {
   "display_name": "Python 3.10.1 64-bit",
   "language": "python",
   "name": "python3"
  },
  "language_info": {
   "codemirror_mode": {
    "name": "ipython",
    "version": 3
   },
   "file_extension": ".py",
   "mimetype": "text/x-python",
   "name": "python",
   "nbconvert_exporter": "python",
   "pygments_lexer": "ipython3",
   "version": "3.8.10"
  },
  "orig_nbformat": 4
 },
 "nbformat": 4,
 "nbformat_minor": 2
}
