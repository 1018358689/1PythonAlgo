{
 "cells": [
  {
   "cell_type": "code",
   "execution_count": 3,
   "metadata": {},
   "outputs": [
    {
     "data": {
      "text/plain": [
       "(True, False)"
      ]
     },
     "execution_count": 3,
     "metadata": {},
     "output_type": "execute_result"
    }
   ],
   "source": [
    "def f(n: int, edges: list):\n",
    "    count = n\n",
    "    root = list(range(count))\n",
    "    rank = [1] * count\n",
    "\n",
    "    def find(x: int):\n",
    "        if root[x] == x:\n",
    "            return x\n",
    "        else:\n",
    "            root[x] = find(root[x])\n",
    "            return root[x]\n",
    "\n",
    "    def union(x: int, y: int):\n",
    "        nonlocal count\n",
    "        rx = find(x)\n",
    "        ry = find(y)\n",
    "        if rx != ry:\n",
    "            if rank[rx] < rank[ry]:\n",
    "                root[rx] = ry\n",
    "            elif rank[rx] > rank[ry]:\n",
    "                root[ry] = rx\n",
    "            else:\n",
    "                root[rx] = ry\n",
    "                rank[ry] += 1\n",
    "            count -= 1\n",
    "\n",
    "    for x, y in edges:\n",
    "        if find(x) == find(y):\n",
    "            return False\n",
    "        union(x, y)\n",
    "    return count == 1\n",
    "\n",
    "\n",
    "f(5, [[0, 1], [0, 2], [0, 3], [1, 4]]), f(5, [[0, 1], [1, 2], [2, 3], [1, 3], [1, 4]])\n"
   ]
  },
  {
   "cell_type": "code",
   "execution_count": null,
   "metadata": {},
   "outputs": [],
   "source": []
  }
 ],
 "metadata": {
  "interpreter": {
   "hash": "aee8b7b246df8f9039afb4144a1f6fd8d2ca17a180786b69acc140d282b71a49"
  },
  "kernelspec": {
   "display_name": "Python 3.10.1 64-bit",
   "language": "python",
   "name": "python3"
  },
  "language_info": {
   "codemirror_mode": {
    "name": "ipython",
    "version": 3
   },
   "file_extension": ".py",
   "mimetype": "text/x-python",
   "name": "python",
   "nbconvert_exporter": "python",
   "pygments_lexer": "ipython3",
   "version": "3.10.1"
  },
  "orig_nbformat": 4
 },
 "nbformat": 4,
 "nbformat_minor": 2
}
