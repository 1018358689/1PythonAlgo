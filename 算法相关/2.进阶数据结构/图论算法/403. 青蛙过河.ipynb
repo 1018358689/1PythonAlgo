{
 "cells": [
  {
   "cell_type": "code",
   "execution_count": 1,
   "metadata": {},
   "outputs": [
    {
     "data": {
      "text/plain": [
       "True"
      ]
     },
     "execution_count": 1,
     "metadata": {},
     "output_type": "execute_result"
    }
   ],
   "source": [
    "import collections\n",
    "\n",
    "\n",
    "def f(stones: list):\n",
    "    q = collections.deque([(0, 0)])  # 跳过来的步数 和当前位置 0+1=1>0保证第一步只能跳到单元格2\n",
    "    vis = {(0, 0)}\n",
    "    target = stones[-1]\n",
    "    stones = set(stones)\n",
    "    while q:\n",
    "        preStep, cur = q.popleft()\n",
    "        for step in (preStep - 1, preStep, preStep + 1):\n",
    "            if step > 0:\n",
    "                nei = cur + step\n",
    "                if nei == target:\n",
    "                    return True\n",
    "                if nei in stones and (step, nei) not in vis:\n",
    "                    vis.add((step, nei))\n",
    "                    q.append((step, nei))\n",
    "    return False\n",
    "\n",
    "\n",
    "f([0, 1, 3, 5, 6, 8, 12, 17])\n"
   ]
  },
  {
   "cell_type": "code",
   "execution_count": 20,
   "metadata": {},
   "outputs": [
    {
     "data": {
      "text/plain": [
       "True"
      ]
     },
     "execution_count": 20,
     "metadata": {},
     "output_type": "execute_result"
    }
   ],
   "source": [
    "import collections\n",
    "\n",
    "\n",
    "def f(stones: list):\n",
    "    if stones[:2] != [0, 1]:\n",
    "        return False\n",
    "    if len(stones) == 2:\n",
    "        return True\n",
    "    q = collections.deque([(1, 1)])  # step,cur\n",
    "    target = stones[-1]\n",
    "    stones = set(stones)\n",
    "    state = set() # 状态由 位置&跳过来的步数 该状态可以转移到下一个位置和跳过去步数\n",
    "    while q:\n",
    "        step, cur = q.popleft()\n",
    "        for neiStep in (step + 1, step, step - 1):\n",
    "            if neiStep > 0:\n",
    "                nei = cur + neiStep\n",
    "                if (nei, neiStep) not in state and nei in stones:\n",
    "                    if nei == target:\n",
    "                        return True\n",
    "                    state.add((nei, neiStep))\n",
    "                    q.append((neiStep, nei))\n",
    "    return False\n",
    "\n",
    "\n",
    "f([0, 1, 3, 5, 6, 8, 12, 17])\n",
    "# f([0, 1, 2, 3, 4, 8, 9, 11])\n"
   ]
  },
  {
   "cell_type": "code",
   "execution_count": 16,
   "metadata": {},
   "outputs": [
    {
     "data": {
      "text/plain": [
       "False"
      ]
     },
     "execution_count": 16,
     "metadata": {},
     "output_type": "execute_result"
    }
   ],
   "source": [
    "from functools import lru_cache\n",
    "\n",
    "\n",
    "def f(stones: list):\n",
    "    if stones[:2] != [0, 1]:\n",
    "        return False\n",
    "    if len(stones) == 2:\n",
    "        return True\n",
    "    target = stones[-1]\n",
    "    stones = set(stones)\n",
    "\n",
    "    @lru_cache(None)\n",
    "    def dfs(step, cur):\n",
    "        if cur == target:\n",
    "            return True\n",
    "        for neiStep in (step + 1, step, step - 1):\n",
    "            if neiStep > 0:\n",
    "                nei = cur + neiStep\n",
    "                if nei in stones:\n",
    "                    if dfs(neiStep, nei):\n",
    "                        return True\n",
    "        return False\n",
    "\n",
    "    return dfs(1, 1)\n",
    "\n",
    "\n",
    "f([0, 1, 3, 5, 6, 8, 12, 17])\n",
    "f([0, 1, 2, 3, 4, 8, 9, 11])"
   ]
  },
  {
   "cell_type": "code",
   "execution_count": 45,
   "metadata": {},
   "outputs": [
    {
     "data": {
      "text/plain": [
       "True"
      ]
     },
     "execution_count": 45,
     "metadata": {},
     "output_type": "execute_result"
    }
   ],
   "source": [
    "import collections\n",
    "\n",
    "\n",
    "def f(stones: list):\n",
    "    if stones[:2] != [0, 1]:\n",
    "        return False\n",
    "    if len(stones) == 2:\n",
    "        return True\n",
    "    # dp[i] 到达位置i的跳跃长度集合\n",
    "    dp = collections.defaultdict(set)\n",
    "    targte = stones[-1]\n",
    "    ss = set(stones)\n",
    "    dp[1] = {1}\n",
    "    for stone in stones:\n",
    "        for step in dp[stone]:\n",
    "            for neiStep in (step + 1, step, step - 1):\n",
    "                if neiStep > 0:\n",
    "                    nei = stone + neiStep\n",
    "                    if nei in ss:\n",
    "                        dp[nei].add(neiStep)\n",
    "    return len(dp[targte]) > 0\n",
    "\n",
    "\n",
    "f([0, 1, 3, 5, 6, 8, 12, 17])\n",
    "# f([0, 1, 2, 3, 4, 8, 9, 11])"
   ]
  },
  {
   "cell_type": "code",
   "execution_count": null,
   "metadata": {},
   "outputs": [],
   "source": []
  }
 ],
 "metadata": {
  "interpreter": {
   "hash": "aee8b7b246df8f9039afb4144a1f6fd8d2ca17a180786b69acc140d282b71a49"
  },
  "kernelspec": {
   "display_name": "Python 3.10.1 64-bit",
   "language": "python",
   "name": "python3"
  },
  "language_info": {
   "codemirror_mode": {
    "name": "ipython",
    "version": 3
   },
   "file_extension": ".py",
   "mimetype": "text/x-python",
   "name": "python",
   "nbconvert_exporter": "python",
   "pygments_lexer": "ipython3",
   "version": "3.10.1"
  },
  "orig_nbformat": 4
 },
 "nbformat": 4,
 "nbformat_minor": 2
}
