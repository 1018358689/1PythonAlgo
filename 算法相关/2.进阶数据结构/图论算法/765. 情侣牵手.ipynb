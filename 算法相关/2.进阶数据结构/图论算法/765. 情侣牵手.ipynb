{
 "cells": [
  {
   "cell_type": "code",
   "execution_count": 1,
   "metadata": {},
   "outputs": [
    {
     "data": {
      "text/plain": [
       "1"
      ]
     },
     "execution_count": 1,
     "metadata": {},
     "output_type": "execute_result"
    }
   ],
   "source": [
    "def f(row: list):\n",
    "    n = len(row) // 2 # 情侣对数\n",
    "    root = list(range(2 * n))\n",
    "    count = 2 * n # 连通分量\n",
    "\n",
    "    def find(x):\n",
    "        if root[x] == x:\n",
    "            return root[x]\n",
    "        root[x] = find(root[x])\n",
    "        return root[x]\n",
    "\n",
    "    def union(x, y):\n",
    "        nonlocal count\n",
    "        rx, ry = find(x), find(y)\n",
    "        if rx != ry:\n",
    "            root[rx] = ry\n",
    "            count -= 1\n",
    "\n",
    "    for i in range(0, 2 * n, 2):\n",
    "        union(row[i], row[i + 1]) # 隔壁人连通\n",
    "        union(i, i + 1) # 情侣互相连通\n",
    "    return n - count # 情侣对数减去最终环数量\n",
    "\n",
    "\n",
    "f([0, 2, 1, 3])\n"
   ]
  },
  {
   "cell_type": "code",
   "execution_count": null,
   "metadata": {},
   "outputs": [],
   "source": []
  }
 ],
 "metadata": {
  "interpreter": {
   "hash": "004de6046f1b3d314f33fdb43a2dc798b2646e5600efd8df5066c8b63a00ff6d"
  },
  "kernelspec": {
   "display_name": "Python 3.8.10 64-bit",
   "language": "python",
   "name": "python3"
  },
  "language_info": {
   "codemirror_mode": {
    "name": "ipython",
    "version": 3
   },
   "file_extension": ".py",
   "mimetype": "text/x-python",
   "name": "python",
   "nbconvert_exporter": "python",
   "pygments_lexer": "ipython3",
   "version": "3.8.10"
  },
  "orig_nbformat": 4
 },
 "nbformat": 4,
 "nbformat_minor": 2
}
