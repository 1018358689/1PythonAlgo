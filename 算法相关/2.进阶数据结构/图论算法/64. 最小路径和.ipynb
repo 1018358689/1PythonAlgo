{
 "cells": [
  {
   "cell_type": "code",
   "execution_count": 7,
   "metadata": {},
   "outputs": [
    {
     "data": {
      "text/plain": [
       "7"
      ]
     },
     "execution_count": 7,
     "metadata": {},
     "output_type": "execute_result"
    }
   ],
   "source": [
    "def f(grid: list):\n",
    "    # dp[i][j] 到grid[i][j]的路径和最小值 i:[0,rows-1] j:[0,cols-1]\n",
    "    # dp[i][j] = min(dp[i-1][j],dp[i][j-1])+grid[i][j]\n",
    "    rows, cols = len(grid), len(grid[0])\n",
    "    dp = [[0] * cols for _ in range(rows)]\n",
    "    for r in range(rows):\n",
    "        for c in range(cols):\n",
    "            if r == 0 and c == 0:\n",
    "                dp[0][0] = grid[0][0]\n",
    "                continue\n",
    "            dp[r][c] = float('inf')\n",
    "            for nr, nc in ((r - 1, c), (r, c - 1)):\n",
    "                if 0 <= nr < rows and 0 <= nc < cols:\n",
    "                    dp[r][c] = min(dp[r][c], dp[nr][nc] + grid[r][c])\n",
    "    return dp[-1][-1]\n",
    "\n",
    "\n",
    "f([[1, 3, 1], [1, 5, 1], [4, 2, 1]])\n"
   ]
  },
  {
   "cell_type": "code",
   "execution_count": 10,
   "metadata": {},
   "outputs": [
    {
     "data": {
      "text/plain": [
       "1"
      ]
     },
     "execution_count": 10,
     "metadata": {},
     "output_type": "execute_result"
    }
   ],
   "source": [
    "# dijkstra\n",
    "import heapq\n",
    "\n",
    "\n",
    "def f(grid: list):\n",
    "    rows, cols = len(grid), len(grid[0])\n",
    "    target = (rows - 1, cols - 1)\n",
    "    pq = [(grid[0][0], 0, 0)]\n",
    "    costs = {(0, 0): grid[0][0]}\n",
    "    while pq:\n",
    "        curCost, r, c = heapq.heappop(pq)\n",
    "        if (r, c) == target:\n",
    "            return curCost\n",
    "        for nr, nc in ((r, c + 1), (r + 1, c)):\n",
    "            if 0<=nr<rows and 0<=nc<cols:\n",
    "                neiCost = curCost + grid[nr][nc]\n",
    "                if (nr, nc) not in costs or neiCost < costs[(nr, nc)]:\n",
    "                    costs[(nr, nc)] = neiCost\n",
    "                    heapq.heappush(pq, (neiCost, nr, nc))\n",
    "\n",
    "\n",
    "f([[1, 3, 1], [1, 5, 1], [4, 2, 1]])\n",
    "f([[1]])\n"
   ]
  },
  {
   "cell_type": "code",
   "execution_count": 13,
   "metadata": {},
   "outputs": [
    {
     "data": {
      "text/plain": [
       "7"
      ]
     },
     "execution_count": 13,
     "metadata": {},
     "output_type": "execute_result"
    }
   ],
   "source": [
    "# A*\n",
    "import heapq\n",
    "\n",
    "\n",
    "def f(grid: list):\n",
    "    rows, cols = len(grid), len(grid[0])\n",
    "    target = (rows - 1, cols - 1)\n",
    "\n",
    "    def distance(r, c):\n",
    "        return rows - 1 - r + cols - 1 - c\n",
    "\n",
    "    pq = [(grid[0][0], 0, 0)]\n",
    "    costs = {(0, 0): grid[0][0]}\n",
    "    while pq:\n",
    "        _, r, c = heapq.heappop(pq)\n",
    "        curCost = costs[(r, c)]\n",
    "        if (r, c) == target:\n",
    "            return curCost\n",
    "        for nr, nc in ((r, c + 1), (r + 1, c)):\n",
    "            if 0 <= nr < rows and 0 <= nc < cols:\n",
    "                neiCost = curCost + grid[nr][nc]\n",
    "                if (nr, nc) not in costs or neiCost < costs[(nr, nc)]:\n",
    "                    costs[(nr, nc)] = neiCost\n",
    "                    heapq.heappush(pq, (neiCost + distance(nr, nc), nr, nc))\n",
    "\n",
    "\n",
    "f([[1, 3, 1], [1, 5, 1], [4, 2, 1]])\n",
    "# f([[1]])\n"
   ]
  },
  {
   "cell_type": "code",
   "execution_count": null,
   "metadata": {},
   "outputs": [],
   "source": []
  }
 ],
 "metadata": {
  "interpreter": {
   "hash": "a5f34674cfcc9b13426a2d112c686bc132e4ef443f1487e707e7c3787d6bcf89"
  },
  "kernelspec": {
   "display_name": "Python 3.10.3 64-bit (windows store)",
   "language": "python",
   "name": "python3"
  },
  "language_info": {
   "codemirror_mode": {
    "name": "ipython",
    "version": 3
   },
   "file_extension": ".py",
   "mimetype": "text/x-python",
   "name": "python",
   "nbconvert_exporter": "python",
   "pygments_lexer": "ipython3",
   "version": "3.10.3"
  },
  "orig_nbformat": 4
 },
 "nbformat": 4,
 "nbformat_minor": 2
}
