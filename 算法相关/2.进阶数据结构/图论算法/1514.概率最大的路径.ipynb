{
 "cells": [
  {
   "cell_type": "code",
   "execution_count": 3,
   "metadata": {},
   "outputs": [
    {
     "name": "stdout",
     "output_type": "stream",
     "text": [
      "defaultdict(<class 'list'>, {0: [(1, 0.5), (2, 0.2)], 1: [(0, 0.5), (2, 0.5)], 2: [(1, 0.5), (0, 0.2)]})\n"
     ]
    }
   ],
   "source": [
    "import collections\n",
    "\n",
    "n = 3\n",
    "edges = [[0, 1], [1, 2], [0, 2]]\n",
    "succProb = [0.5, 0.5, 0.2]\n",
    "start = 0\n",
    "end = 2\n",
    "nei_costs = collections.defaultdict(list)\n",
    "for (x, y), c in zip(edges, succProb):\n",
    "    nei_costs[x].append((y, c))\n",
    "    nei_costs[y].append((x, c))\n",
    "print(nei_costs)"
   ]
  },
  {
   "cell_type": "code",
   "execution_count": 7,
   "metadata": {},
   "outputs": [
    {
     "data": {
      "text/plain": [
       "0.25"
      ]
     },
     "execution_count": 7,
     "metadata": {},
     "output_type": "execute_result"
    }
   ],
   "source": [
    "# 迪迦算法\n",
    "import collections\n",
    "import heapq\n",
    "\n",
    "\n",
    "def f(n: int, edges: int, succProb: list, start: int, end: int):\n",
    "    nei_costs = collections.defaultdict(list)\n",
    "    for (x, y), c in zip(edges, succProb):\n",
    "        nei_costs[x].append((y, c))\n",
    "        nei_costs[y].append((x, c))\n",
    "    costs = [float('-inf')] * n\n",
    "    costs[start] = 0\n",
    "    seen = set()\n",
    "    pq = []\n",
    "    heapq.heappush(pq, (-1, start))\n",
    "    while pq:\n",
    "        cost, node = heapq.heappop(pq)\n",
    "        cost = -cost\n",
    "        if node == end:\n",
    "            return cost\n",
    "        seen.add(node)\n",
    "        for n, c in nei_costs[node]:\n",
    "            if n in seen:\n",
    "                continue\n",
    "            cur_cost = cost * c\n",
    "            if cur_cost > costs[n]:\n",
    "                costs[n] = cur_cost\n",
    "                heapq.heappush(pq, (-cur_cost, n))\n",
    "    return 0\n",
    "\n",
    "\n",
    "# f(3, [[0, 1], [1, 2], [0, 2]], [0.5, 0.5, 0.2], 0, 2)"
   ]
  },
  {
   "cell_type": "code",
   "execution_count": 9,
   "metadata": {},
   "outputs": [
    {
     "data": {
      "text/plain": [
       "0.25"
      ]
     },
     "execution_count": 9,
     "metadata": {},
     "output_type": "execute_result"
    }
   ],
   "source": [
    "# 迪迦算法\n",
    "import collections\n",
    "import heapq\n",
    "\n",
    "\n",
    "def f(n: int, edges: int, succProb: list, start: int, end: int):\n",
    "    nei_costs = [[] for _ in range(n)]\n",
    "    for (x, y), c in zip(edges, succProb):\n",
    "        nei_costs[x].append((y, c))\n",
    "        nei_costs[y].append((x, c))\n",
    "    costs = [float('-inf')] * n\n",
    "    costs[start] = 0\n",
    "    seen = set()\n",
    "    pq = []\n",
    "    heapq.heappush(pq, (-1, start))\n",
    "    while pq:\n",
    "        cost, node = heapq.heappop(pq)\n",
    "        cost = -cost\n",
    "        if node == end:\n",
    "            return cost\n",
    "        seen.add(node)\n",
    "        for n, c in nei_costs[node]:\n",
    "            if n in seen:\n",
    "                continue\n",
    "            cur_cost = cost * c\n",
    "            if cur_cost > costs[n]:\n",
    "                costs[n] = cur_cost\n",
    "                heapq.heappush(pq, (-cur_cost, n))\n",
    "    return 0\n",
    "\n",
    "\n",
    "f(3, [[0, 1], [1, 2], [0, 2]], [0.5, 0.5, 0.2], 0, 2)"
   ]
  },
  {
   "cell_type": "code",
   "execution_count": null,
   "metadata": {},
   "outputs": [],
   "source": []
  }
 ],
 "metadata": {
  "interpreter": {
   "hash": "aee8b7b246df8f9039afb4144a1f6fd8d2ca17a180786b69acc140d282b71a49"
  },
  "kernelspec": {
   "display_name": "Python 3.10.1 64-bit",
   "language": "python",
   "name": "python3"
  },
  "language_info": {
   "codemirror_mode": {
    "name": "ipython",
    "version": 3
   },
   "file_extension": ".py",
   "mimetype": "text/x-python",
   "name": "python",
   "nbconvert_exporter": "python",
   "pygments_lexer": "ipython3",
   "version": "3.10.1"
  },
  "orig_nbformat": 4
 },
 "nbformat": 4,
 "nbformat_minor": 2
}
