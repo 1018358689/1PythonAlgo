{
 "cells": [
  {
   "cell_type": "code",
   "execution_count": null,
   "metadata": {},
   "outputs": [],
   "source": [
    "# https://www.bilibili.com/video/BV1LE411R7CS?spm_id_from=333.337.search-card.all.click"
   ]
  },
  {
   "cell_type": "code",
   "execution_count": 5,
   "metadata": {},
   "outputs": [
    {
     "name": "stdout",
     "output_type": "stream",
     "text": [
      "[[0, 5, 2, inf, inf, inf, inf],\n",
      " [5, 0, inf, 1, 6, inf, inf],\n",
      " [2, inf, 0, 6, inf, 8, inf],\n",
      " [inf, 1, 6, 0, 1, 2, inf],\n",
      " [inf, 6, inf, 1, 0, inf, 7],\n",
      " [inf, inf, 8, 2, inf, 0, 3],\n",
      " [inf, inf, inf, inf, 7, 3, 0]]\n",
      "[[0, 5, 2, 6, 7, 8, 11],\n",
      " [5, 0, 7, 1, 2, 3, 6],\n",
      " [2, 7, 0, 6, 7, 8, 11],\n",
      " [6, 1, 6, 0, 1, 2, 5],\n",
      " [7, 2, 7, 1, 0, 3, 6],\n",
      " [8, 3, 8, 2, 3, 0, 3],\n",
      " [11, 6, 11, 5, 6, 3, 0]]\n",
      "[[-1, -1, -1, 1, 3, 3, 5],\n",
      " [-1, -1, 0, -1, 3, 3, 5],\n",
      " [-1, 0, -1, -1, 3, -1, 5],\n",
      " [1, -1, -1, -1, -1, -1, 5],\n",
      " [3, 3, 3, -1, -1, 3, 5],\n",
      " [3, 3, -1, -1, 3, -1, -1],\n",
      " [5, 5, 5, 5, 5, -1, -1]]\n",
      "[(4, 3), (3, 5)]\n"
     ]
    }
   ],
   "source": [
    "from pprint import pprint\n",
    "\n",
    "\n",
    "def floyd(grid: list):\n",
    "    sz = len(grid)\n",
    "    tmp = [[0] * sz for _ in range(sz)]\n",
    "    path = [[0] * sz for _ in range(sz)]\n",
    "    for r in range(sz):\n",
    "        for c in range(sz):\n",
    "            tmp[r][c] = grid[r][c]\n",
    "            path[r][c] = -1\n",
    "    for v in range(sz): # 中间节点\n",
    "        for i in range(sz):\n",
    "            for j in range(sz):\n",
    "                if i == j or i == v or j == v or tmp[i][v] == float('inf') or tmp[v][j] == float('inf'):\n",
    "                    continue\n",
    "                # tmp[i][j] = min(tmp[i][j],tmp[i][v]+tmp[v][j])\n",
    "                if tmp[i][v] + tmp[v][j] < tmp[i][j]:\n",
    "                    tmp[i][j] = tmp[i][v] + tmp[v][j]\n",
    "                    path[i][j] = v\n",
    "    pprint(grid)\n",
    "    pprint(tmp)\n",
    "    pprint(path)\n",
    "    ijpath = []\n",
    "    def showPath(i,j,path):\n",
    "        if path[i][j]==-1:\n",
    "            ijpath.append((i,j))\n",
    "            return\n",
    "        m = path[i][j]\n",
    "        showPath(i,m,path)\n",
    "        showPath(m,j,path)\n",
    "    showPath(4,5,path)\n",
    "    pprint(ijpath)\n",
    "\n",
    "floyd([[0, 5, 2, float('inf'), float('inf'), float('inf'), float('inf')], \n",
    "       [5, 0, float('inf'), 1, 6, float('inf'), float('inf')], \n",
    "       [2, float('inf'), 0, 6, float('inf'), 8, float('inf')], \n",
    "       [float('inf'), 1, 6, 0, 1, 2,float('inf')],\n",
    "       [float('inf'), 6, float('inf'), 1, 0, float('inf'), 7], \n",
    "       [float('inf'), float('inf'), 8, 2, float('inf'), 0, 3], \n",
    "       [float('inf'), float('inf'), float('inf'), float('inf'), 7, 3, 0]])\n"
   ]
  },
  {
   "cell_type": "code",
   "execution_count": null,
   "metadata": {},
   "outputs": [],
   "source": []
  }
 ],
 "metadata": {
  "interpreter": {
   "hash": "97367d2de1780ea7c502b529f25888c1b53c0430a7611816b6c7cf19d8435228"
  },
  "kernelspec": {
   "display_name": "Python 3.10.4 64-bit (windows store)",
   "language": "python",
   "name": "python3"
  },
  "language_info": {
   "codemirror_mode": {
    "name": "ipython",
    "version": 3
   },
   "file_extension": ".py",
   "mimetype": "text/x-python",
   "name": "python",
   "nbconvert_exporter": "python",
   "pygments_lexer": "ipython3",
   "version": "3.10.4"
  },
  "orig_nbformat": 4
 },
 "nbformat": 4,
 "nbformat_minor": 2
}
