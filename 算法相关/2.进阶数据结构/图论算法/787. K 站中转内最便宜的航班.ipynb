{
 "cells": [
  {
   "cell_type": "code",
   "execution_count": 13,
   "metadata": {},
   "outputs": [
    {
     "data": {
      "text/plain": [
       "7"
      ]
     },
     "execution_count": 13,
     "metadata": {},
     "output_type": "execute_result"
    }
   ],
   "source": [
    "import heapq\n",
    "\n",
    "\n",
    "def f(n: int, flights: list, src: int, dst: int, k: int):\n",
    "    neis = [[] for _ in range(n)]\n",
    "    for cur, nei, cost in flights:\n",
    "        neis[cur].append((nei, cost))\n",
    "    costs = {0: (float('inf'), float('inf'))}  # cost step\n",
    "    pq = []\n",
    "    heapq.heappush(pq, (0, src, 0))  # cost(priority) node step\n",
    "    while pq:\n",
    "        curCost, cur, step = heapq.heappop(pq)\n",
    "        if cur == dst and step <= k + 1:\n",
    "            return curCost\n",
    "        for nei, cost in neis[cur]:\n",
    "            neiCost = curCost + cost\n",
    "            neiStep = step + 1\n",
    "            if nei not in costs or neiCost < costs[nei][0] or neiStep < costs[nei][1]:  # 贪心将step更少的也入堆\n",
    "                costs[nei] = (neiCost, neiStep)\n",
    "                heapq.heappush(pq, (neiCost, nei, neiStep))  # 但优先级仍以cost为基准 因为求最少消费\n",
    "    return -1\n",
    "\n",
    "\n",
    "f(3, [[0, 1, 100], [1, 2, 100], [0, 2, 500]], 0, 2, 1)\n",
    "f(3, [[0, 1, 100], [1, 2, 100], [0, 2, 500]], 0, 2, 0)\n",
    "f(5, [[0, 1, 5], [1, 2, 5], [0, 3, 2], [3, 1, 2], [1, 4, 1], [4, 2, 1]], 0, 2, 2)\n"
   ]
  },
  {
   "cell_type": "code",
   "execution_count": 1,
   "metadata": {},
   "outputs": [
    {
     "data": {
      "text/plain": [
       "7"
      ]
     },
     "execution_count": 1,
     "metadata": {},
     "output_type": "execute_result"
    }
   ],
   "source": [
    "import heapq\n",
    "\n",
    "\n",
    "def f(n: int, flights: list, src: int, dst: int, k: int):\n",
    "    neis = [[] for _ in range(n)]\n",
    "    for cur, nei, cost in flights:\n",
    "        neis[cur].append((nei, cost))\n",
    "    pq = [(0, 0, src)]\n",
    "    costs = {(src, 0): 0}  # 一个点的状态： 该点位置及所用的步数\n",
    "    best = set()\n",
    "    while pq:\n",
    "        c, step, cur = heapq.heappop(pq)\n",
    "        if cur == dst and step - 1 <= k:\n",
    "            return c\n",
    "        if step - 1 == k:  # 中转站达到k但没到终点没必要外扩\n",
    "            continue\n",
    "        best.add((cur, step))\n",
    "        for nei, nc in neis[cur]:\n",
    "            neiCost = c + nc\n",
    "            neiStep = step + 1\n",
    "            if (nei, neiStep) not in costs or neiCost < costs[(nei, neiStep)]:\n",
    "                costs[(nei, neiStep)] = neiCost\n",
    "                heapq.heappush(pq, (neiCost, neiStep, nei))\n",
    "    return -1\n",
    "\n",
    "\n",
    "f(3, [[0, 1, 100], [1, 2, 100], [0, 2, 500]], 0, 2, 1)\n",
    "f(3, [[0, 1, 100], [1, 2, 100], [0, 2, 500]], 0, 2, 0)\n",
    "f(5, [[0, 1, 5], [1, 2, 5], [0, 3, 2], [3, 1, 2], [1, 4, 1], [4, 2, 1]], 0, 2, 2)\n"
   ]
  },
  {
   "cell_type": "code",
   "execution_count": null,
   "metadata": {},
   "outputs": [],
   "source": []
  }
 ],
 "metadata": {
  "interpreter": {
   "hash": "97367d2de1780ea7c502b529f25888c1b53c0430a7611816b6c7cf19d8435228"
  },
  "kernelspec": {
   "display_name": "Python 3.10.4 64-bit (windows store)",
   "language": "python",
   "name": "python3"
  },
  "language_info": {
   "codemirror_mode": {
    "name": "ipython",
    "version": 3
   },
   "file_extension": ".py",
   "mimetype": "text/x-python",
   "name": "python",
   "nbconvert_exporter": "python",
   "pygments_lexer": "ipython3",
   "version": "3.10.4"
  },
  "orig_nbformat": 4
 },
 "nbformat": 4,
 "nbformat_minor": 2
}
