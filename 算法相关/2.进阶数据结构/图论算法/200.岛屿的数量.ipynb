{
 "cells": [
  {
   "cell_type": "markdown",
   "metadata": {},
   "source": [
    "# 也可dfs bfs"
   ]
  },
  {
   "cell_type": "code",
   "execution_count": 17,
   "metadata": {},
   "outputs": [
    {
     "data": {
      "text/plain": [
       "3"
      ]
     },
     "execution_count": 17,
     "metadata": {},
     "output_type": "execute_result"
    }
   ],
   "source": [
    "def f(grid: list):\n",
    "    rows = len(grid)\n",
    "    cols = len(grid[0])\n",
    "    count = rows * cols\n",
    "    root = [-1] * count\n",
    "    for i in range(count):\n",
    "        root[i] = i\n",
    "    rank = [1] * count\n",
    "\n",
    "    def find(x: int):\n",
    "        if root[x] == x:\n",
    "            return root[x]\n",
    "        else:\n",
    "            root[x] = find(root[x])\n",
    "            return root[x]\n",
    "\n",
    "    def union(x: int, y: int):\n",
    "        nonlocal count\n",
    "        rootx = find(x)\n",
    "        rooty = find(y)\n",
    "        if rank[rootx] < rank[rooty]:\n",
    "            root[rootx] = rooty\n",
    "        elif rank[rootx] > rank[rooty]:\n",
    "            root[rooty] = rootx\n",
    "        else:\n",
    "            root[rootx] = rooty\n",
    "            rank[rooty] += 1\n",
    "        count -= 1\n",
    "\n",
    "    def connected(x: int, y: int):\n",
    "        return find(x) == find(y)\n",
    "\n",
    "    def count_cum():\n",
    "        return count\n",
    "\n",
    "    for r in range(rows):\n",
    "        for c in range(cols):\n",
    "            if grid[r][c] == '1':\n",
    "                for nr, nc in ((r - 1, c), (r + 1, c), (r, c - 1), (r, c + 1)):\n",
    "                    if 0 <= nr < rows and 0 <= nc < cols and grid[nr][nc] == '1':\n",
    "                        union(nr * cols + nc, r * cols + c)\n",
    "\n",
    "    parent = set()\n",
    "    for r in range(rows):\n",
    "        for c in range(cols):\n",
    "            if grid[r][c] == '1':\n",
    "                p = find(r * cols + c)\n",
    "                parent.add(p)\n",
    "    return len(parent)\n",
    "\n",
    "grid = [\n",
    "  [\"1\",\"1\",\"0\",\"0\",\"0\"],\n",
    "  [\"1\",\"1\",\"0\",\"0\",\"0\"],\n",
    "  [\"0\",\"0\",\"1\",\"0\",\"0\"],\n",
    "  [\"0\",\"0\",\"0\",\"1\",\"1\"]\n",
    "]\n",
    "f(grid)"
   ]
  },
  {
   "cell_type": "code",
   "execution_count": 12,
   "metadata": {},
   "outputs": [
    {
     "data": {
      "text/plain": [
       "3"
      ]
     },
     "execution_count": 12,
     "metadata": {},
     "output_type": "execute_result"
    }
   ],
   "source": [
    "def f(grid: list):\n",
    "    cnt = 0\n",
    "    rows = len(grid)\n",
    "    cols = len(grid[0])\n",
    "    for r in range(rows):\n",
    "        for c in range(cols):\n",
    "            if grid[r][c] == '1':\n",
    "                cnt += 1\n",
    "    count = rows * cols\n",
    "    root = [-1] * count\n",
    "    for i in range(count):\n",
    "        root[i] = i\n",
    "    rank = [1] * count\n",
    "\n",
    "    def find(x: int):\n",
    "        if root[x] == x:\n",
    "            return root[x]\n",
    "        else:\n",
    "            root[x] = find(root[x])\n",
    "            return root[x]\n",
    "\n",
    "    def union(x: int, y: int):\n",
    "        nonlocal cnt\n",
    "        rootx = find(x)\n",
    "        rooty = find(y)\n",
    "        if rootx != rooty:\n",
    "            if rank[rootx] < rank[rooty]:\n",
    "                root[rootx] = rooty\n",
    "            elif rank[rootx] > rank[rooty]:\n",
    "                root[rooty] = rootx\n",
    "            else:\n",
    "                root[rootx] = rooty\n",
    "                rank[rooty] += 1\n",
    "            cnt -= 1\n",
    "\n",
    "    for r in range(rows):\n",
    "        for c in range(cols):\n",
    "            if grid[r][c] == '1':\n",
    "                for nr, nc in ((r - 1, c), (r + 1, c), (r, c - 1), (r, c + 1)):\n",
    "                    if 0 <= nr < rows and 0 <= nc < cols and grid[nr][nc] == '1':\n",
    "                        union(nr * cols + nc, r * cols + c)\n",
    "\n",
    "    return cnt\n",
    "\n",
    "\n",
    "grid = [[\"1\", \"1\", \"0\", \"0\", \"0\"], [\"1\", \"1\", \"0\", \"0\", \"0\"], [\"0\", \"0\", \"1\", \"0\", \"0\"],\n",
    "        [\"0\", \"0\", \"0\", \"1\", \"1\"]]\n",
    "f(grid)"
   ]
  }
 ],
 "metadata": {
  "interpreter": {
   "hash": "aee8b7b246df8f9039afb4144a1f6fd8d2ca17a180786b69acc140d282b71a49"
  },
  "kernelspec": {
   "display_name": "Python 3.10.1 64-bit",
   "language": "python",
   "name": "python3"
  },
  "language_info": {
   "codemirror_mode": {
    "name": "ipython",
    "version": 3
   },
   "file_extension": ".py",
   "mimetype": "text/x-python",
   "name": "python",
   "nbconvert_exporter": "python",
   "pygments_lexer": "ipython3",
   "version": "3.10.1"
  },
  "orig_nbformat": 4
 },
 "nbformat": 4,
 "nbformat_minor": 2
}
