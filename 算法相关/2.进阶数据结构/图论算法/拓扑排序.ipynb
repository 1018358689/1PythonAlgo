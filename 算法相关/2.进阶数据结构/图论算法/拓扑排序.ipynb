{
 "cells": [
  {
   "cell_type": "code",
   "execution_count": null,
   "metadata": {},
   "outputs": [],
   "source": [
    "import collections\n",
    "\n",
    "\n",
    "def f(numCourses: int, prerequisites: list):\n",
    "    neis = [[] for _ in range(numCourses)]  # 索引邻接表\n",
    "    indegree = [0] * numCourses  # 索引入度表\n",
    "    for cur, need in prerequisites:\n",
    "        indegree[cur] += 1\n",
    "        neis[need].append(cur)\n",
    "    q = collections.deque([])\n",
    "    for i in range(numCourses):  # 先把所有入度为0的入队\n",
    "        if indegree[i] == 0:\n",
    "            q.append(i)\n",
    "    # print(x, neis)\n",
    "    res = []\n",
    "    while q:\n",
    "        sz = len(q)\n",
    "        for _ in range(sz):\n",
    "            cur = q.popleft()\n",
    "            res.append(cur)\n",
    "            for nei in neis[cur]:\n",
    "                indegree[nei] -= 1\n",
    "                if indegree[nei] == 0:\n",
    "                    q.append(nei)\n",
    "    return res if len(res) == numCourses else []"
   ]
  }
 ],
 "metadata": {
  "language_info": {
   "name": "python"
  },
  "orig_nbformat": 4
 },
 "nbformat": 4,
 "nbformat_minor": 2
}
