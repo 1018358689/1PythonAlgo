{
 "cells": [
  {
   "cell_type": "code",
   "execution_count": null,
   "metadata": {},
   "outputs": [],
   "source": [
    "def f(n: int, connections: list):\n",
    "    if len(connections) < n - 1:  # 线不够\n",
    "        return -1\n",
    "    root = list(range(n))\n",
    "    rank = [1] * n\n",
    "    count = n\n",
    "\n",
    "    def find(x):\n",
    "        if root[x] == x:\n",
    "            return root[x]\n",
    "        root[x] = find(root[x])\n",
    "        return root[x]\n",
    "\n",
    "    def union(x, y):\n",
    "        nonlocal count\n",
    "        rx, ry = find(x), find(y)\n",
    "        if rx != ry:\n",
    "            if rank[rx] < rank[ry]:\n",
    "                root[rx] = ry\n",
    "            elif rank[ry] < rank[rx]:\n",
    "                root[ry] = rx\n",
    "            else:\n",
    "                root[rx] = ry\n",
    "                rank[ry] += 1\n",
    "            count -= 1\n",
    "\n",
    "    for x, y in connections:\n",
    "        union(x, y)\n",
    "    return count - 1  # 需要连线为 连通分量-1\n"
   ]
  }
 ],
 "metadata": {
  "language_info": {
   "name": "python"
  },
  "orig_nbformat": 4
 },
 "nbformat": 4,
 "nbformat_minor": 2
}
