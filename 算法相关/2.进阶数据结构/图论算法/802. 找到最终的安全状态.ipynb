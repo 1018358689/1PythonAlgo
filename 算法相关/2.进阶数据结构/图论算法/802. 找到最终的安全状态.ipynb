{
 "cells": [
  {
   "cell_type": "code",
   "execution_count": 15,
   "metadata": {},
   "outputs": [
    {
     "name": "stdout",
     "output_type": "stream",
     "text": [
      "[5, 8, 9]\n"
     ]
    },
    {
     "data": {
      "text/plain": [
       "[5, 8, 9]"
      ]
     },
     "execution_count": 15,
     "metadata": {},
     "output_type": "execute_result"
    }
   ],
   "source": [
    "# 超时\n",
    "def f(graph: list):\n",
    "    n = len(graph)\n",
    "    circle = []\n",
    "    safe = []\n",
    "\n",
    "    def dfs(cur, on_path):\n",
    "        nonlocal circle, safe\n",
    "        if cur in on_path[:-1]:\n",
    "            circle += on_path[:-1]\n",
    "            return True\n",
    "        if cur in circle:\n",
    "            circle += on_path[:-1]\n",
    "            return True\n",
    "        for nei in graph[cur]:\n",
    "            safe.append(nei)\n",
    "            if dfs(nei, on_path + [nei]):\n",
    "                safe.remove(nei)\n",
    "                return True\n",
    "        return False\n",
    "\n",
    "    for i in range(n):\n",
    "        if i not in circle and i not in safe:\n",
    "            safe.append(i)\n",
    "            if dfs(i, [i]):\n",
    "                safe.remove(i)\n",
    "    # print(safe)\n",
    "    return sorted(list(set(safe)))\n",
    "\n",
    "\n",
    "# f([[1, 2], [2, 3], [5], [0], [5], [], []])\n",
    "# f([[1,2,3,4],[1,2],[3,4],[0,4],[]])\n",
    "f([[1, 3, 4, 5, 7, 9], [1, 3, 8, 9], [3, 4, 5, 8], [1, 8], [5, 7, 8], [8, 9], [7, 8, 9], [3], [], []])\n"
   ]
  },
  {
   "cell_type": "code",
   "execution_count": 26,
   "metadata": {},
   "outputs": [
    {
     "data": {
      "text/plain": [
       "[5, 8, 9]"
      ]
     },
     "execution_count": 26,
     "metadata": {},
     "output_type": "execute_result"
    }
   ],
   "source": [
    "def f(graph: list):\n",
    "    n = len(graph)\n",
    "    vis = set()\n",
    "    safe = []\n",
    "\n",
    "    def dfs(cur):\n",
    "        if cur in vis:\n",
    "            return True\n",
    "        vis.add(cur)\n",
    "        for nei in graph[cur]:\n",
    "            if dfs(nei):\n",
    "                return True\n",
    "        # cur的邻接点没有触发环，所以cur是安全节点 所以去掉cur节点\n",
    "        graph[cur] = []\n",
    "        vis.remove(cur)\n",
    "        return False\n",
    "\n",
    "    for i in range(n):\n",
    "        if not dfs(i):\n",
    "            safe.append(i)\n",
    "    return safe\n",
    "\n",
    "\n",
    "# f([[1, 2], [2, 3], [5], [0], [5], [], []])\n",
    "# f([[1, 2, 3, 4], [1, 2], [3, 4], [0, 4], []])\n",
    "f([[1, 3, 4, 5, 7, 9], [1, 3, 8, 9], [3, 4, 5, 8], [1, 8], [5, 7, 8], [8, 9], [7, 8, 9], [3], [], []])\n"
   ]
  },
  {
   "cell_type": "code",
   "execution_count": 1,
   "metadata": {},
   "outputs": [
    {
     "data": {
      "text/plain": [
       "[2, 4, 5, 6]"
      ]
     },
     "execution_count": 1,
     "metadata": {},
     "output_type": "execute_result"
    }
   ],
   "source": [
    "# 涂色法\n",
    "def f(graph: list):\n",
    "    n = len(graph)\n",
    "    colors = [0] * n  # 0:未访问 1:可能成环 2:安全节点\n",
    "\n",
    "    def dfs(node):\n",
    "        if colors[node] == 0:\n",
    "            colors[node] = 1\n",
    "        elif colors[node] == 1:\n",
    "            return True  # 成环退出\n",
    "        elif colors[node] == 2:\n",
    "            return False  # 安全节点\n",
    "        for nei in graph[node]:\n",
    "            if dfs(nei):\n",
    "                return True\n",
    "        colors[node] = 2  # 未触发 成环 回溯把1都标记为2安全节点\n",
    "\n",
    "    res = []\n",
    "    for i in range(n):\n",
    "        if not dfs(i):\n",
    "            res.append(i)\n",
    "    return res\n",
    "\n",
    "\n",
    "f([[1, 2], [2, 3], [5], [0], [5], [], []])\n",
    "# f([[1, 2, 3, 4], [1, 2], [3, 4], [0, 4], []])\n",
    "# f([[1, 3, 4, 5, 7, 9], [1, 3, 8, 9], [3, 4, 5, 8], [1, 8], [5, 7, 8], [8, 9], [7, 8, 9], [3], [], []])\n"
   ]
  },
  {
   "cell_type": "code",
   "execution_count": 2,
   "metadata": {},
   "outputs": [
    {
     "data": {
      "text/plain": [
       "[2, 4, 5, 6]"
      ]
     },
     "execution_count": 2,
     "metadata": {},
     "output_type": "execute_result"
    }
   ],
   "source": [
    "# 成功\n",
    "def f(graph: list):\n",
    "    n = len(graph)\n",
    "    circle = set()  # 标记成环节点\n",
    "    safe = set()  # 标记安全节点\n",
    "\n",
    "    def dfs(cur):\n",
    "        if cur in circle:  # 成环退出\n",
    "            return True\n",
    "        if cur in safe:  # 不成环 且 之前访问过是安全节点  则回溯\n",
    "            return False\n",
    "        circle.add(cur)\n",
    "        for nei in graph[cur]:\n",
    "            if dfs(nei):\n",
    "                return True\n",
    "        # 未触发成环 回溯把circle中cur去掉,safe添加cur\n",
    "        circle.remove(cur)\n",
    "        safe.add(cur)\n",
    "        return False\n",
    "\n",
    "    res = []\n",
    "    for node in range(n):\n",
    "        if not dfs(node):\n",
    "            res.append(node)\n",
    "    return res\n",
    "\n",
    "\n",
    "f([[1, 2], [2, 3], [5], [0], [5], [], []])\n",
    "# f([[1, 2, 3, 4], [1, 2], [3, 4], [0, 4], []])\n",
    "# f([[1, 3, 4, 5, 7, 9], [1, 3, 8, 9], [3, 4, 5, 8], [1, 8], [5, 7, 8], [8, 9], [7, 8, 9], [3], [], []])\n"
   ]
  },
  {
   "cell_type": "code",
   "execution_count": null,
   "metadata": {},
   "outputs": [],
   "source": []
  }
 ],
 "metadata": {
  "interpreter": {
   "hash": "aee8b7b246df8f9039afb4144a1f6fd8d2ca17a180786b69acc140d282b71a49"
  },
  "kernelspec": {
   "display_name": "Python 3.10.1 64-bit",
   "language": "python",
   "name": "python3"
  },
  "language_info": {
   "codemirror_mode": {
    "name": "ipython",
    "version": 3
   },
   "file_extension": ".py",
   "mimetype": "text/x-python",
   "name": "python",
   "nbconvert_exporter": "python",
   "pygments_lexer": "ipython3",
   "version": "3.8.10"
  },
  "orig_nbformat": 4
 },
 "nbformat": 4,
 "nbformat_minor": 2
}
