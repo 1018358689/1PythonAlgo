{
 "cells": [
  {
   "cell_type": "code",
   "execution_count": 1,
   "metadata": {},
   "outputs": [
    {
     "data": {
      "text/plain": [
       "2"
      ]
     },
     "execution_count": 1,
     "metadata": {},
     "output_type": "execute_result"
    }
   ],
   "source": [
    "# 狄杰斯特拉 加权有向图 没有负权重边\n",
    "import heapq\n",
    "\n",
    "def f(times: list, n: int, k: int):\n",
    "    nei_costs = [[] for _ in range(n + 1)]\n",
    "    # 邻接表 附加权重\n",
    "    for cur, nei, cost in times:\n",
    "        nei_costs[cur].append((nei, cost))\n",
    "    pq = []\n",
    "    heapq.heappush(pq, (0, k))  # 优先队列 (离start权重,节点)\n",
    "    seen = set()  # 已标记节点\n",
    "    parent = [-1] * (n + 1)  # 父节点\n",
    "    parent[k] = None\n",
    "    costs = [float('inf')] * (n + 1)  # 初始离start权重\n",
    "    costs[k] = 0\n",
    "    while pq:\n",
    "        # 弹出最小权重 并标记为最优\n",
    "        cost, node = heapq.heappop(pq)\n",
    "        seen.add(node)\n",
    "        # 寻找最优点邻接点 判断新权重和原来的比较 是否更新\n",
    "        for n, c in nei_costs[node]:\n",
    "            if n in seen:\n",
    "                continue\n",
    "            cur_cost = cost + c\n",
    "            if cur_cost < costs[n]:\n",
    "                costs[n] = cur_cost\n",
    "                parent[n] = node\n",
    "                heapq.heappush(pq, (cur_cost, n))\n",
    "    res = float('-inf')\n",
    "    for n in costs[1:]:\n",
    "        if n == float('inf'):\n",
    "            return -1\n",
    "        res = max(res, n)\n",
    "    return res\n",
    "\n",
    "\n",
    "f([[2, 1, 1], [2, 3, 1], [3, 4, 1]], 4, 2)\n"
   ]
  },
  {
   "cell_type": "code",
   "execution_count": 4,
   "metadata": {},
   "outputs": [
    {
     "data": {
      "text/plain": [
       "2"
      ]
     },
     "execution_count": 4,
     "metadata": {},
     "output_type": "execute_result"
    }
   ],
   "source": [
    "# bfs\n",
    "import collections\n",
    "\n",
    "\n",
    "def f(times: list, n: int, k: int):\n",
    "    nei_costs = [[] for _ in range(n + 1)]\n",
    "    # 邻接表 附加权重\n",
    "    for cur, nei, cost in times:\n",
    "        nei_costs[cur].append((nei, cost))\n",
    "    q = collections.deque([(k, 0)])\n",
    "    costs = [float('inf')] * (n + 1)  # 初始离start权重\n",
    "    costs[k] = 0\n",
    "    while q:\n",
    "        node, cost = q.popleft()\n",
    "        # 寻找最优点邻接点 判断新权重和原来的比较 是否更新\n",
    "        for n, c in nei_costs[node]:\n",
    "            cur_cost = cost + c\n",
    "            if cur_cost < costs[n]:\n",
    "                costs[n] = cur_cost\n",
    "                q.append((n, cur_cost))\n",
    "    res = float('-inf')\n",
    "    for n in costs[1:]:\n",
    "        if n == float('inf'):\n",
    "            return -1\n",
    "        res = max(res, n)\n",
    "    return res\n",
    "\n",
    "\n",
    "f([[2, 1, 1], [2, 3, 1], [3, 4, 1]], 4, 2)\n"
   ]
  },
  {
   "cell_type": "code",
   "execution_count": 5,
   "metadata": {},
   "outputs": [
    {
     "data": {
      "text/plain": [
       "2"
      ]
     },
     "execution_count": 5,
     "metadata": {},
     "output_type": "execute_result"
    }
   ],
   "source": [
    "# dfs\n",
    "import collections\n",
    "\n",
    "\n",
    "def f(times: list, n: int, k: int):\n",
    "    nei_costs = [[] for _ in range(n + 1)]\n",
    "    # 邻接表 附加权重\n",
    "    for cur, nei, cost in times:\n",
    "        nei_costs[cur].append((nei, cost))\n",
    "    costs = [float('inf')] * (n + 1)  # 初始离start权重\n",
    "    costs[k] = 0\n",
    "\n",
    "    def dfs(node: int, cost: int):\n",
    "        for n, c in nei_costs[node]:\n",
    "            cur_cost = cost + c\n",
    "            # 寻找最优点邻接点 判断新权重和原来的比较 是否更新\n",
    "            if cur_cost < costs[n]:\n",
    "                costs[n] = cur_cost\n",
    "                dfs(n, cur_cost)\n",
    "\n",
    "    dfs(k, 0)\n",
    "    res = float('-inf')\n",
    "    for n in costs[1:]:\n",
    "        if n == float('inf'):\n",
    "            return -1\n",
    "        res = max(res, n)\n",
    "    return res\n",
    "\n",
    "\n",
    "f([[2, 1, 1], [2, 3, 1], [3, 4, 1]], 4, 2)\n"
   ]
  },
  {
   "cell_type": "code",
   "execution_count": 10,
   "metadata": {},
   "outputs": [
    {
     "name": "stdout",
     "output_type": "stream",
     "text": [
      "{1: 0, 2: 1, 3: 3}\n"
     ]
    },
    {
     "data": {
      "text/plain": [
       "3"
      ]
     },
     "execution_count": 10,
     "metadata": {},
     "output_type": "execute_result"
    }
   ],
   "source": [
    "import heapq\n",
    "\n",
    "\n",
    "def f(times: list, n: int, k: int):\n",
    "    neis = [[] for _ in range(n + 1)]\n",
    "    for cur, nei, cost in times:\n",
    "        neis[cur].append((nei, cost))\n",
    "    pq = []\n",
    "    heapq.heappush(pq, (0, k))  # cost(priority) node\n",
    "    costs = {k: 0}\n",
    "    while pq:\n",
    "        curCost, cur = heapq.heappop(pq)\n",
    "        for nei, cost in neis[cur]:\n",
    "            neiCost = curCost + cost\n",
    "            if nei not in costs or neiCost < costs[nei]:\n",
    "                costs[nei] = neiCost\n",
    "                heapq.heappush(pq, (neiCost, nei))\n",
    "    print(costs)\n",
    "    ans = 0\n",
    "    for node in range(1, n + 1):\n",
    "        if node not in costs:\n",
    "            return -1\n",
    "        ans = max(ans, costs[node])\n",
    "    return ans\n",
    "\n",
    "\n",
    "# f([[2, 1, 1], [2, 3, 1], [3, 4, 1]], 4, 2)\n",
    "f([[1, 2, 1], [2, 3, 2], [1, 3, 4]], 3, 1)\n"
   ]
  },
  {
   "cell_type": "code",
   "execution_count": 13,
   "metadata": {},
   "outputs": [
    {
     "data": {
      "text/plain": [
       "3"
      ]
     },
     "execution_count": 13,
     "metadata": {},
     "output_type": "execute_result"
    }
   ],
   "source": [
    "import heapq\n",
    "\n",
    "\n",
    "def f(times: list, n: int, k: int):\n",
    "    neis = [[] for _ in range(n + 1)]\n",
    "    for cur, nei, cost in times:\n",
    "        neis[cur].append((nei, cost))\n",
    "    pq = []\n",
    "    heapq.heappush(pq, (0, k))  # cost(priority) node\n",
    "    costs = {k: 0}\n",
    "    best = set()\n",
    "    ans = 0\n",
    "    cnt = 0\n",
    "    while pq:\n",
    "        curCost, cur = heapq.heappop(pq)\n",
    "        if cur not in best:  # 保证最优点只访问一次\n",
    "            best.add(cur)\n",
    "            ans = max(ans, curCost)  # ans = curCost即可 根据贪心 到最后肯定是最大cost\n",
    "            cnt += 1\n",
    "            for nei, cost in neis[cur]:\n",
    "                neiCost = curCost + cost\n",
    "                if nei not in costs or neiCost < costs[nei]:\n",
    "                    costs[nei] = neiCost\n",
    "                    heapq.heappush(pq, (neiCost, nei))\n",
    "    return ans if cnt == n else -1\n",
    "\n",
    "\n",
    "f([[2, 1, 1], [2, 3, 1], [3, 4, 1]], 4, 2)\n",
    "f([[1, 2, 1], [2, 3, 2], [1, 3, 4]], 3, 1)\n"
   ]
  },
  {
   "cell_type": "code",
   "execution_count": 18,
   "metadata": {},
   "outputs": [
    {
     "data": {
      "text/plain": [
       "inf"
      ]
     },
     "execution_count": 18,
     "metadata": {},
     "output_type": "execute_result"
    }
   ],
   "source": [
    "import collections\n",
    "d= collections.defaultdict(lambda:float('inf'))\n",
    "d[0]"
   ]
  },
  {
   "cell_type": "code",
   "execution_count": 19,
   "metadata": {},
   "outputs": [
    {
     "data": {
      "text/plain": [
       "3"
      ]
     },
     "execution_count": 19,
     "metadata": {},
     "output_type": "execute_result"
    }
   ],
   "source": [
    "import heapq\n",
    "\n",
    "\n",
    "def f(times: list, n: int, k: int):\n",
    "    neis = [[] for _ in range(n + 1)]\n",
    "    for cur, nei, cost in times:\n",
    "        neis[cur].append((nei, cost))\n",
    "    pq = []\n",
    "    heapq.heappush(pq, (0, k))  # cost(priority) node\n",
    "    costs = {k: 0}\n",
    "    best = set()\n",
    "    ans = 0\n",
    "    cnt = 0\n",
    "    while pq:\n",
    "        curCost, cur = heapq.heappop(pq)\n",
    "        if cur not in best: # 保证最优点只访问一次\n",
    "            best.add(cur)\n",
    "            ans = curCost\n",
    "            cnt += 1\n",
    "            for nei, cost in neis[cur]:\n",
    "                neiCost = curCost + cost\n",
    "                if nei not in costs or neiCost < costs[nei]:\n",
    "                    costs[nei] = neiCost\n",
    "                    heapq.heappush(pq, (neiCost, nei))\n",
    "    return ans if cnt == n else -1\n",
    "\n",
    "\n",
    "f([[2, 1, 1], [2, 3, 1], [3, 4, 1]], 4, 2)\n",
    "f([[1, 2, 1], [2, 3, 2], [1, 3, 4]], 3, 1)\n"
   ]
  },
  {
   "cell_type": "code",
   "execution_count": null,
   "metadata": {},
   "outputs": [],
   "source": []
  }
 ],
 "metadata": {
  "interpreter": {
   "hash": "aee8b7b246df8f9039afb4144a1f6fd8d2ca17a180786b69acc140d282b71a49"
  },
  "kernelspec": {
   "display_name": "Python 3.10.1 64-bit",
   "language": "python",
   "name": "python3"
  },
  "language_info": {
   "codemirror_mode": {
    "name": "ipython",
    "version": 3
   },
   "file_extension": ".py",
   "mimetype": "text/x-python",
   "name": "python",
   "nbconvert_exporter": "python",
   "pygments_lexer": "ipython3",
   "version": "3.10.3"
  },
  "orig_nbformat": 4
 },
 "nbformat": 4,
 "nbformat_minor": 2
}
