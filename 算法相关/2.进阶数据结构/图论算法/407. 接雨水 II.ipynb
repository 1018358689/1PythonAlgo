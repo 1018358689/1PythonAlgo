{
 "cells": [
  {
   "cell_type": "code",
   "execution_count": 9,
   "metadata": {},
   "outputs": [
    {
     "name": "stdout",
     "output_type": "stream",
     "text": [
      "1 1 1\n",
      "1 2 2\n",
      "1 3 3\n",
      "2 1 4\n",
      "2 2 6\n",
      "2 3 7\n",
      "3 1 8\n",
      "3 2 9\n",
      "3 3 10\n"
     ]
    },
    {
     "data": {
      "text/plain": [
       "10"
      ]
     },
     "execution_count": 9,
     "metadata": {},
     "output_type": "execute_result"
    }
   ],
   "source": [
    "import heapq\n",
    "\n",
    "\n",
    "def f(heightMap: list):\n",
    "    rows, cols = len(heightMap), len(heightMap[0])\n",
    "    pq = []\n",
    "    vis = set()  # 外圈木桶\n",
    "    for r in range(rows):\n",
    "        heapq.heappush(pq, (heightMap[r][0], r, 0))\n",
    "        heapq.heappush(pq, (heightMap[r][cols - 1], r, cols - 1))\n",
    "        vis.add((r, 0))\n",
    "        vis.add((r, cols - 1))\n",
    "    for c in range(cols):\n",
    "        heapq.heappush(pq, (heightMap[0][c], 0, c))\n",
    "        heapq.heappush(pq, (heightMap[rows - 1][c], rows - 1, c))\n",
    "        vis.add((0, c))\n",
    "        vis.add((rows - 1, c))\n",
    "    ans = 0\n",
    "    while pq:\n",
    "        minHeight, r, c = heapq.heappop(pq)  # 木桶原理的最短木板 及 位置\n",
    "        # 内扩看能不能从最短处流出水\n",
    "        for nr, nc in ((r - 1, c), (r + 1, c), (r, c - 1), (r, c + 1)):\n",
    "            if 0 <= nr < rows and 0 <= nc < cols and (nr, nc) not in vis:\n",
    "                ans += max(0, minHeight - heightMap[nr][nc])  # 最短周边比最短还短就接水\n",
    "                heapq.heappush(pq, (max(minHeight, heightMap[nr][nc]), nr, nc))  # 接好水变成木桶一部分\n",
    "                vis.add((nr, nc))  # 变成外圈木桶\n",
    "                print(nr,nc, ans)\n",
    "    return ans\n",
    "\n",
    "\n",
    "# f([[1, 4, 3, 1, 3, 2], [3, 2, 1, 3, 2, 4], [2, 3, 3, 2, 3, 1]])\n",
    "f([[3, 3, 3, 3, 3], [3, 2, 2, 2, 3], [3, 2, 1, 2, 3], [3, 2, 2, 2, 3], [3, 3, 3, 3, 3]])\n"
   ]
  },
  {
   "cell_type": "code",
   "execution_count": 8,
   "metadata": {},
   "outputs": [],
   "source": [
    "def f(heightMap: list):\n",
    "    rows, cols = len(heightMap), len(heightMap[0])\n",
    "    pq = []\n",
    "    for r in range(1, rows - 1):\n",
    "        pq.append((heightMap[r][0], r, 0))\n",
    "        pq.append((heightMap[r][cols - 1], r, cols - 1))\n",
    "    for c in range(1, cols - 1):\n",
    "        pq.append((heightMap[0][c], 0, c))\n",
    "        pq.append((heightMap[rows - 1][c], rows - 1, c))\n",
    "    heapq.heapify(pq)\n",
    "    vis = set()\n",
    "    ans = 0\n",
    "    while pq:\n",
    "        minHeight, r, c = heapq.heappop(pq)\n",
    "        for nr, nc in ((r - 1, c), (r + 1, c), (r, c - 1), (r, c + 1)):\n",
    "            if 1 <= nr <= rows - 2 and 1 <= nc <= cols - 2 and (nr, nc) not in vis:\n",
    "                neiHeight = heightMap[nr][nc]\n",
    "                vis.add((nr, nc))\n",
    "                ans += max(0, minHeight - neiHeight)\n",
    "                heapq.heappush(pq, (max(minHeight, neiHeight), nr, nc))\n",
    "    return ans\n"
   ]
  },
  {
   "cell_type": "code",
   "execution_count": 18,
   "metadata": {},
   "outputs": [
    {
     "data": {
      "text/plain": [
       "10"
      ]
     },
     "execution_count": 18,
     "metadata": {},
     "output_type": "execute_result"
    }
   ],
   "source": [
    "import heapq\n",
    "\n",
    "\n",
    "def f(heightMap: list):\n",
    "    rows, cols = len(heightMap), len(heightMap[0])\n",
    "    pq = []\n",
    "    vis = set()\n",
    "    ans = 0\n",
    "    for r in range(rows):\n",
    "        for c in {0, cols - 1}:\n",
    "            heapq.heappush(pq, (heightMap[r][c], r, c))\n",
    "            vis.add((r, c))\n",
    "    for c in range(cols):\n",
    "        for r in {0, rows - 1}:\n",
    "            heapq.heappush(pq, (heightMap[r][c], r, c))\n",
    "            vis.add((r, c))\n",
    "    while pq:\n",
    "        minHeight, r, c = heapq.heappop(pq)\n",
    "        for nr, nc in ((r - 1, c), (r + 1, c), (r, c - 1), (r, c + 1)):\n",
    "            if 0 <= nr < rows and 0 <= nc < cols and (nr, nc) not in vis:\n",
    "                ans += max(0, minHeight - heightMap[nr][nc])\n",
    "                heapq.heappush(pq, (max(minHeight, heightMap[nr][nc]), nr, nc))\n",
    "                vis.add((nr, nc))\n",
    "    return ans\n",
    "\n",
    "\n",
    "f([[3, 3, 3, 3, 3], [3, 2, 2, 2, 3], [3, 2, 1, 2, 3], [3, 2, 2, 2, 3], [3, 3, 3, 3, 3]])\n",
    "# f([[1, 4, 3, 1, 3, 2], [3, 2, 1, 3, 2, 4], [2, 3, 3, 2, 3, 1]])\n"
   ]
  },
  {
   "cell_type": "code",
   "execution_count": null,
   "metadata": {},
   "outputs": [],
   "source": []
  }
 ],
 "metadata": {
  "interpreter": {
   "hash": "a5f34674cfcc9b13426a2d112c686bc132e4ef443f1487e707e7c3787d6bcf89"
  },
  "kernelspec": {
   "display_name": "Python 3.10.3 64-bit (windows store)",
   "language": "python",
   "name": "python3"
  },
  "language_info": {
   "codemirror_mode": {
    "name": "ipython",
    "version": 3
   },
   "file_extension": ".py",
   "mimetype": "text/x-python",
   "name": "python",
   "nbconvert_exporter": "python",
   "pygments_lexer": "ipython3",
   "version": "3.10.1"
  },
  "orig_nbformat": 4
 },
 "nbformat": 4,
 "nbformat_minor": 2
}
