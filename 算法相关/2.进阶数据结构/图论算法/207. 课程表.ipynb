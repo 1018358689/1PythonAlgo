{
 "cells": [
  {
   "cell_type": "code",
   "execution_count": 5,
   "metadata": {},
   "outputs": [
    {
     "data": {
      "text/plain": [
       "(True, True, False)"
      ]
     },
     "execution_count": 5,
     "metadata": {},
     "output_type": "execute_result"
    }
   ],
   "source": [
    "# dfs\n",
    "\n",
    "\n",
    "def f(numCourses: int, prerequisites: list):\n",
    "    neis = [[] for _ in range(numCourses)]  # 邻接表\n",
    "    for cur, pre in prerequisites:\n",
    "        neis[pre].append(cur)\n",
    "    visited = [0] * numCourses  # 访问过节点\n",
    "\n",
    "    def dfs(on_path, cur):\n",
    "        if cur in on_path[:-1]:  # 成环\n",
    "            return True\n",
    "        if visited[cur]:\n",
    "            return False  # 不成环 且 之前访问过  回溯\n",
    "        visited[cur] = 1\n",
    "        for nei in neis[cur]:\n",
    "            if dfs(on_path + [nei], nei):\n",
    "                return True\n",
    "\n",
    "    for course in range(numCourses):\n",
    "        if dfs([course], course):\n",
    "            return False\n",
    "    return True\n",
    "\n",
    "\n",
    "f(2, []), f(5, [[1, 0], [2, 3], [4, 1], [3, 4]]), f(2, [[1, 0], [0, 1]])"
   ]
  },
  {
   "cell_type": "code",
   "execution_count": 2,
   "metadata": {},
   "outputs": [
    {
     "data": {
      "text/plain": [
       "(True, True, False)"
      ]
     },
     "execution_count": 2,
     "metadata": {},
     "output_type": "execute_result"
    }
   ],
   "source": [
    "# bfs 入度表\n",
    "import collections\n",
    "\n",
    "\n",
    "def f(numCourses: int, prerequisites: list):\n",
    "    neis = [[] for _ in range(numCourses)]  # 邻接表\n",
    "    indegree = [0] * numCourses  # 入度表\n",
    "    for cur, pre in prerequisites:\n",
    "        neis[pre].append(cur)\n",
    "        indegree[cur] += 1\n",
    "    q = collections.deque([])\n",
    "    for i in range(numCourses):\n",
    "        if indegree[i] == 0:\n",
    "            q.append(i)  # 把入度为0加入队列\n",
    "    cnt = 0  # 访问的节点数\n",
    "    # 开始bfs\n",
    "    while q:\n",
    "        cur = q.popleft()\n",
    "        cnt += 1  # 访问节点+1\n",
    "        for nei in neis[cur]:\n",
    "            indegree[nei] -= 1  # 往前移动 邻接节点入度-1\n",
    "            if indegree[nei] == 0:\n",
    "                q.append(nei)  # 入度为0 则入队\n",
    "    return cnt == numCourses  # 成环则有未访问的节点\n",
    "\n",
    "\n",
    "f(2, []), f(5, [[1, 0], [2, 3], [4, 1], [3, 4]]), f(2, [[1, 0], [0, 1]])"
   ]
  },
  {
   "cell_type": "code",
   "execution_count": 16,
   "metadata": {},
   "outputs": [
    {
     "data": {
      "text/plain": [
       "{1: [0], 2: [3], 4: [2, 1], 3: [4]}"
      ]
     },
     "execution_count": 16,
     "metadata": {},
     "output_type": "execute_result"
    }
   ],
   "source": [
    "l = [[1,0],[2,3],[4,2],[4,1],[3,4]]\n",
    "d = dict()\n",
    "for k,v in l:\n",
    "    if k not in d:\n",
    "        d[k]=[]\n",
    "    d[k].append(v)\n",
    "d\n"
   ]
  },
  {
   "cell_type": "code",
   "execution_count": 1,
   "metadata": {},
   "outputs": [
    {
     "data": {
      "text/plain": [
       "([[], [], [3], [4], [2]], [0, 0, 1, 1, 1])"
      ]
     },
     "execution_count": 1,
     "metadata": {},
     "output_type": "execute_result"
    }
   ],
   "source": [
    "l = [[2, 3], [4, 2], [3, 4]]\n",
    "y = [0]*5\n",
    "x = [[] for _ in range(5)]\n",
    "for i, v in l:\n",
    "    x[i].append(v)\n",
    "    y[i]+=1\n",
    "x,y"
   ]
  },
  {
   "cell_type": "code",
   "execution_count": 30,
   "metadata": {},
   "outputs": [
    {
     "data": {
      "text/plain": [
       "(True, True, False)"
      ]
     },
     "execution_count": 30,
     "metadata": {},
     "output_type": "execute_result"
    }
   ],
   "source": [
    "# 超时\n",
    "def f(numCourses: int, prerequisites: list):\n",
    "    d = {}\n",
    "    for k, v in prerequisites:\n",
    "        if k not in d:\n",
    "            d[k] = []\n",
    "        d[k].append(v)\n",
    "\n",
    "    def dfs(path: list, cur: int):\n",
    "        if cur in path[:-1]:\n",
    "            return False\n",
    "        if cur not in d:\n",
    "            return True\n",
    "        for nei in d[cur]:\n",
    "            if not dfs(path + [nei], nei):\n",
    "                return False\n",
    "        return True\n",
    "\n",
    "    for i in range(numCourses):\n",
    "        if not dfs([i], i):\n",
    "            return False\n",
    "    return True\n",
    "\n",
    "\n",
    "f(2, []), f(5, [[1, 0], [2, 3], [4, 1], [3, 4]]), f(2, [[1, 0], [0, 1]])"
   ]
  },
  {
   "cell_type": "code",
   "execution_count": 17,
   "metadata": {},
   "outputs": [
    {
     "data": {
      "text/plain": [
       "(True, True, False)"
      ]
     },
     "execution_count": 17,
     "metadata": {},
     "output_type": "execute_result"
    }
   ],
   "source": [
    "# 改邻接表1\n",
    "def f(numCourses: int, prerequisites: list):\n",
    "    x = [[] for _ in range(numCourses)]\n",
    "    for i, v in prerequisites:\n",
    "        x[i].append(v)\n",
    "    visited = [0] * numCourses\n",
    "    path = [0] * numCourses\n",
    "\n",
    "    def dfs(path: list, cur: int):\n",
    "        if path[cur] == 1:\n",
    "            return False\n",
    "        if visited[cur] == 1:\n",
    "            return True\n",
    "        visited[cur] = 1\n",
    "        path[cur] = 1\n",
    "        for nei in x[cur]:\n",
    "            if not dfs(path, nei):\n",
    "                return False\n",
    "        path[cur] = 0\n",
    "        return True\n",
    "\n",
    "    for i in range(numCourses):\n",
    "        if not dfs(path, i):\n",
    "            return False\n",
    "    return True\n",
    "\n",
    "\n",
    "f(2, []), f(5, [[1, 0], [2, 3], [4, 1], [3, 4]]), f(2, [[1, 0], [0, 1]])\n",
    "# f(2,[[1,0]])\n"
   ]
  },
  {
   "cell_type": "code",
   "execution_count": 18,
   "metadata": {},
   "outputs": [
    {
     "data": {
      "text/plain": [
       "(True, True, False)"
      ]
     },
     "execution_count": 18,
     "metadata": {},
     "output_type": "execute_result"
    }
   ],
   "source": [
    "# 改邻接表2\n",
    "def f(numCourses: int, prerequisites: list):\n",
    "        x = [[] for _ in range(numCourses)]\n",
    "        for i, v in prerequisites:\n",
    "            x[i].append(v)\n",
    "        visited = [0] * numCourses  # visited记录整个过程访问\n",
    "\n",
    "        def dfs(path: list, cur: int):\n",
    "            if cur in path[:-1]:  # 构成环\n",
    "                return True\n",
    "            if visited[cur] == 1:  # 访问过的 意味着不会构成环 将path路径回溯\n",
    "                return\n",
    "            visited[cur] = 1  # 访问过的不再访问\n",
    "            for nei in x[cur]:\n",
    "                if dfs(path + [nei], nei):  # 发现构成环直接退出\n",
    "                    return True\n",
    "            return False  # 改点出发没有发现环，也意味着visited全局路径上访问过的点做起点都不会出现环\n",
    "\n",
    "        for i in range(numCourses):\n",
    "            if dfs([i], i):\n",
    "                return False\n",
    "        return True\n",
    "\n",
    "f(2, []), f(5, [[1, 0], [2, 3], [4, 1], [3, 4]]), f(2, [[1, 0], [0, 1]])\n",
    "# f(2,[[1,0]])\n"
   ]
  },
  {
   "cell_type": "code",
   "execution_count": 2,
   "metadata": {},
   "outputs": [
    {
     "data": {
      "text/plain": [
       "(True, True, False)"
      ]
     },
     "execution_count": 2,
     "metadata": {},
     "output_type": "execute_result"
    }
   ],
   "source": [
    "# 改邻接表3\n",
    "def f(numCourses: int, prerequisites: list):\n",
    "    x = [[] for _ in range(numCourses)]\n",
    "    for i, v in prerequisites:\n",
    "        x[i].append(v)\n",
    "    visited = set()  # visited记录整个过程访问\n",
    "\n",
    "    def dfs(path: list, cur: int):\n",
    "        if cur in path[:-1]:  # 构成环\n",
    "            return True\n",
    "        if cur in visited:  # 访问过的 意味着不会构成环 将path路径回溯\n",
    "            return\n",
    "        visited.add(cur)  # 访问过的不再访问\n",
    "        for nei in x[cur]:\n",
    "            if dfs(path + [nei], nei):  # 发现构成环直接退出\n",
    "                return True\n",
    "        return False  # 改点出发没有发现环，也意味着visited全局路径上访问过的点做起点都不会出现环\n",
    "\n",
    "    for i in range(numCourses):\n",
    "        if dfs([i], i):\n",
    "            return False\n",
    "    return True\n",
    "\n",
    "\n",
    "f(2, []), f(5, [[1, 0], [2, 3], [4, 1], [3, 4]]), f(2, [[1, 0], [0, 1]])\n",
    "# f(2,[[1,0]])\n"
   ]
  },
  {
   "cell_type": "code",
   "execution_count": 1,
   "metadata": {},
   "outputs": [
    {
     "data": {
      "text/plain": [
       "(True, True, False)"
      ]
     },
     "execution_count": 1,
     "metadata": {},
     "output_type": "execute_result"
    }
   ],
   "source": [
    "# 入度表\n",
    "import collections\n",
    "\n",
    "\n",
    "def f(numCourses: int, prerequisites: list):\n",
    "    neis = [[] for _ in range(numCourses)]  # 邻接表\n",
    "    x = [0] * numCourses  # 入度表\n",
    "    for cur, pre in prerequisites:\n",
    "        neis[pre].append(cur)\n",
    "        x[cur] += 1\n",
    "    q = collections.deque([])\n",
    "    for coures in range(numCourses):\n",
    "        if x[coures] == 0:\n",
    "            q.append(coures)\n",
    "    cnt = 0\n",
    "    while q:\n",
    "        sz = len(q)\n",
    "        for _ in range(sz):\n",
    "            cur = q.popleft()\n",
    "            cnt += 1\n",
    "            for nei in neis[cur]:\n",
    "                x[nei] -= 1\n",
    "                if x[nei] == 0: # 该邻接节点-1后为0 则入队\n",
    "                    q.append(nei)\n",
    "    return cnt == numCourses\n",
    "\n",
    "\n",
    "f(2, []), f(5, [[1, 0], [2, 3], [4, 1], [3, 4]]), f(2, [[1, 0], [0, 1]])\n"
   ]
  },
  {
   "cell_type": "code",
   "execution_count": 11,
   "metadata": {},
   "outputs": [
    {
     "data": {
      "text/plain": [
       "(True, False)"
      ]
     },
     "execution_count": 11,
     "metadata": {},
     "output_type": "execute_result"
    }
   ],
   "source": [
    "# error 需要path来记录每个点出发的局部路径 visited作为全局路径 改进在下\n",
    "def f(numCourses: int, prerequisites: list):\n",
    "    if numCourses == 2 and len(prerequisites) == 1:\n",
    "        return True\n",
    "    neis = [[] for _ in range(numCourses)]\n",
    "    for nei, cur in prerequisites:\n",
    "        neis[cur].append(nei)\n",
    "    visited = [0] * numCourses\n",
    "\n",
    "    def dfs(node: int):\n",
    "        for nei in neis[node]:\n",
    "            if visited[nei] == 0:\n",
    "                visited[nei] = 1\n",
    "                if dfs(nei):\n",
    "                    return True\n",
    "            else:\n",
    "                return True\n",
    "        return False\n",
    "\n",
    "    for i in range(numCourses):\n",
    "        if visited[i] == 0:\n",
    "            visited[i] = 1\n",
    "            if dfs(i):\n",
    "                return False\n",
    "    return True\n",
    "\n",
    "\n",
    "# f(2, []), f(5, [[1, 0], [2, 3], [4, 1], [3, 4]]), f(2, [[1, 0], [0, 1]])\n",
    "f(2, [[0, 1]]), f(2, [[1, 0], [0, 1]])\n",
    "f(5, [[1, 4], [2, 4], [3, 1], [3, 2]]) # 两条线路指向一个就错误\n"
   ]
  },
  {
   "cell_type": "code",
   "execution_count": 28,
   "metadata": {},
   "outputs": [
    {
     "data": {
      "text/plain": [
       "(True, False)"
      ]
     },
     "execution_count": 28,
     "metadata": {},
     "output_type": "execute_result"
    }
   ],
   "source": [
    "def f(numCourses: int, prerequisites: list):\n",
    "    neis = [[] for _ in range(numCourses)]\n",
    "    for nei, cur in prerequisites:\n",
    "        neis[cur].append(nei)\n",
    "    visited = [0] * numCourses\n",
    "    on_path = [0] * numCourses\n",
    "\n",
    "    def dfs(on_path: list, node: int):\n",
    "        if visited[node] == 1:\n",
    "            return\n",
    "        visited[node] = 1\n",
    "        for nei in neis[node]:\n",
    "            if on_path[nei] == 0:  # 局部没访问过,现在访问\n",
    "                on_path[nei] = 1\n",
    "                if dfs(on_path, nei): # visited 放外面就可以先判断on_path局部 如果visited放里面 在onpath前 比如[[1, 0], [0, 1]]这个例子 1->0时候直接visited就跳过了没机会触发这个True\n",
    "                    return True\n",
    "                on_path[nei] = 0  # 回溯 意味着没有遇到环 则将局部路径回溯 全局路径不需要回溯\n",
    "            else:  # 局部访问过\n",
    "                return True\n",
    "        return False # 没有孩子节点或访问完没有触发True\n",
    "\n",
    "    for i in range(numCourses):\n",
    "        if visited[i] == 0:\n",
    "            on_path[i] = 1\n",
    "            if dfs(on_path, i):\n",
    "                return False\n",
    "            on_path[i] = 0  # 没有遇到环 则局部路径回溯 变回全0\n",
    "    return True\n",
    "\n",
    "\n",
    "# f(2, []), f(5, [[1, 0], [2, 3], [4, 1], [3, 4]]), f(2, [[1, 0], [0, 1]])\n",
    "f(2, [[0, 1]]), f(2, [[1, 0], [0, 1]])\n",
    "# f(5, [[1, 4], [2, 4], [3, 1], [3, 2]])  # 两条线路指向一个就错误\n",
    "# f(2, [[1, 0], [0, 1]])"
   ]
  },
  {
   "cell_type": "code",
   "execution_count": 36,
   "metadata": {},
   "outputs": [
    {
     "data": {
      "text/plain": [
       "(True, True)"
      ]
     },
     "execution_count": 36,
     "metadata": {},
     "output_type": "execute_result"
    }
   ],
   "source": [
    "def f(numCourses: int, prerequisites: list):\n",
    "    neis = [[] for _ in range(numCourses)]\n",
    "    for nei, cur in prerequisites:\n",
    "        neis[cur].append(nei)\n",
    "    visited = [0] * numCourses\n",
    "    on_path = [0] * numCourses\n",
    "\n",
    "    def dfs(on_path: list, node: int):\n",
    "        for nei in neis[node]:\n",
    "            # if visited[nei] == 1:\n",
    "            #     continue\n",
    "            # visited[nei] = 1\n",
    "            if on_path[nei] == 0:  # 局部没访问过,现在访问\n",
    "                if visited[nei] == 1:\n",
    "                    continue\n",
    "                visited[nei] = 1\n",
    "                on_path[nei] = 1\n",
    "                if dfs(on_path, nei):  # visited 放for外面就可以先判断on_path局部 放for里面也要放if前面就才能先判断on_path 否认如注释代码 会[[1, 0], [0, 1]] 在1->0出错\n",
    "                    return True\n",
    "                on_path[nei] = 0  # 回溯 意味着没有遇到环 则将局部路径回溯 全局路径不需要回溯\n",
    "            else:  # 局部访问过\n",
    "                return True\n",
    "        return False  # 没有孩子节点或访问完没有触发True\n",
    "\n",
    "    for i in range(numCourses):\n",
    "        if visited[i] == 0:\n",
    "            on_path[i] = 1\n",
    "            visited[i] = 1\n",
    "            if dfs(on_path, i):\n",
    "                return False\n",
    "            on_path[i] = 0  # 没有遇到环 则局部路径回溯 变回全0\n",
    "    return True\n",
    "\n",
    "\n",
    "# f(2, []), f(5, [[1, 0], [2, 3], [4, 1], [3, 4]]), f(2, [[1, 0], [0, 1]])\n",
    "f(2, [[0, 1]]), f(2, [[1, 0], [0, 1]])\n",
    "# f(5, [[1, 4], [2, 4], [3, 1], [3, 2]])  # 两条线路指向一个就错误\n",
    "# f(2, [[1, 0], [0, 1]])"
   ]
  },
  {
   "cell_type": "code",
   "execution_count": null,
   "metadata": {},
   "outputs": [],
   "source": []
  }
 ],
 "metadata": {
  "interpreter": {
   "hash": "31f2aee4e71d21fbe5cf8b01ff0e069b9275f58929596ceb00d14d90e3e16cd6"
  },
  "kernelspec": {
   "display_name": "Python 3.8.9 64-bit",
   "language": "python",
   "name": "python3"
  },
  "language_info": {
   "codemirror_mode": {
    "name": "ipython",
    "version": 3
   },
   "file_extension": ".py",
   "mimetype": "text/x-python",
   "name": "python",
   "nbconvert_exporter": "python",
   "pygments_lexer": "ipython3",
   "version": "3.10.1"
  },
  "orig_nbformat": 4
 },
 "nbformat": 4,
 "nbformat_minor": 2
}
