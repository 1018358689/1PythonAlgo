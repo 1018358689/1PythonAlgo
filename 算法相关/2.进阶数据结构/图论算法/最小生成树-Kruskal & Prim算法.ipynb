{
 "cells": [
  {
   "cell_type": "markdown",
   "metadata": {},
   "source": [
    "图论的最小生成树问题，就是让你从图中找若干边形成一个边的集合 mst，这些边有以下特性：\n",
    "\n",
    "1、这些边组成的是一棵树（树和图的区别在于不能包含环）。\n",
    "2、这些边形成的树要包含所有节点。\n",
    "3、这些边的权重之和要尽可能小。\n",
    "\n",
    "\n",
    "首先，Kruskal 算法用到了贪心思想，来满足权重之和尽可能小的问题：\n",
    "\n",
    "！先对所有边按照权重从小到大排序，从权重最小的边开始，选择合适的边加入 mst 集合，这样挑出来的边组成的树就是权重和最小的。\n",
    "其次，Kruskal 算法用到了 Union-Find 并查集算法，来保证挑选出来的这些边组成的一定是一棵「树」，而不会包含环或者形成一片「森林」：\n",
    "\n",
    "如果一条边的两个节点已经是连通的，则这条边会使树中出现环；如果最后的连通分量总数大于 1，则说明形成的是「森林」而不是一棵「树」。\n",
    "\n",
    "\n",
    "首先，Prim 算法也使用贪心思想来让生成树的权重尽可能小，也就是「切分定理」。\n",
    "\n",
    "其次，Prim 算法使用 BFS 算法思想 和 visited 布尔数组避免成环，来保证选出来的边最终形成的一定是一棵树。\n",
    "\n",
    "Prim 算法不需要事先对所有边排序，而是利用优先级队列动态实现排序的效果，所以我觉得 Prim 算法类似于 Kruskal 的动态过程。\n",
    "\n",
    "下面以一道题为例\n",
    "1584. 连接所有点的最小费用\n",
    "https://leetcode-cn.com/problems/min-cost-to-connect-all-points/"
   ]
  },
  {
   "cell_type": "code",
   "execution_count": 2,
   "metadata": {},
   "outputs": [
    {
     "data": {
      "text/plain": [
       "20"
      ]
     },
     "execution_count": 2,
     "metadata": {},
     "output_type": "execute_result"
    }
   ],
   "source": [
    "# Kruskal算法\n",
    "# https://labuladong.gitee.io/algo/2/20/42/\n",
    "def f(points: list):\n",
    "    sz = len(points)\n",
    "\n",
    "    # union-find 模板\n",
    "    count = sz\n",
    "    roots = list(range(count))\n",
    "    rank = [1] * count\n",
    "\n",
    "    def find(x):\n",
    "        if roots[x] == x:\n",
    "            return x\n",
    "        else:\n",
    "            roots[x] = find(roots[x])\n",
    "            return roots[x]\n",
    "\n",
    "    def union(x, y):\n",
    "        nonlocal count\n",
    "        rx, ry = find(x), find(y)\n",
    "        if rx != ry:\n",
    "            if rank[rx] < rank[ry]:\n",
    "                roots[ry] = rx\n",
    "            elif rank[ry] < rank[rx]:\n",
    "                roots[rx] = ry\n",
    "            else:\n",
    "                roots[rx] = ry\n",
    "                rank[ry] += 1\n",
    "            count -= 1\n",
    "\n",
    "    # 1.建立节点的cost排序\n",
    "    costs = []\n",
    "    for i in range(sz - 1):\n",
    "        for j in range(i + 1, sz):\n",
    "            cost = abs(points[i][0] - points[j][0]) + abs(points[i][1] - points[j][1])\n",
    "            costs.append((cost, i, j))\n",
    "    costs.sort()\n",
    "    # 2.创建最小生成树\n",
    "    mst = 0\n",
    "    for cost, i, j in costs:\n",
    "        if find(i) == find(j):  # 2.1成环跳过\n",
    "            continue\n",
    "        union(i, j)  # 2.2不成环连接作为最小生成树\n",
    "        mst += cost\n",
    "    # 3.检查联通分量 看是否存在孤岛\n",
    "    return mst if count == 1 else -1\n",
    "\n",
    "\n",
    "f([[0, 0], [2, 2], [3, 10], [5, 2], [7, 0]])\n"
   ]
  },
  {
   "cell_type": "code",
   "execution_count": 5,
   "metadata": {},
   "outputs": [
    {
     "data": {
      "text/plain": [
       "20"
      ]
     },
     "execution_count": 5,
     "metadata": {},
     "output_type": "execute_result"
    }
   ],
   "source": [
    "# Prim算法\n",
    "# https://labuladong.gitee.io/algo/2/20/43/\n",
    "import heapq\n",
    "\n",
    "\n",
    "def f(points: list):\n",
    "    sz = len(points)\n",
    "    # 1.建立邻接表\n",
    "    neis = [[] for _ in range(sz)]\n",
    "    for cur in range(sz):\n",
    "        for nei in range(sz):\n",
    "            if cur != nei:\n",
    "                cost = abs(points[cur][0] - points[nei][0]) + abs(points[cur][1] - points[nei][1])\n",
    "                neis[cur].append((nei, cost))\n",
    "    # 2.准备工作 优先队列 最小生成树集合 切分函数\n",
    "    pq = []\n",
    "    inMst = {0}\n",
    "    mst = 0\n",
    "\n",
    "    def cut(node): # 切分函数 把该点邻接边切掉==邻接点入队 已经在最小生成树集合的跳过\n",
    "        for nei, cost in neis[node]:\n",
    "            if nei not in inMst:\n",
    "                heapq.heappush(pq, (cost, nei))\n",
    "    # 3.任意找一个节点先切\n",
    "    cut(0)\n",
    "    # 4.开始循环切分\n",
    "    while pq:\n",
    "        # 4.1先找成本最低的点作为最小生成树一部分 如果已经在最小生成树就跳过 防止成环\n",
    "        curCost, cur = heapq.heappop(pq)\n",
    "        if cur in inMst:\n",
    "            continue\n",
    "        inMst.add(cur)\n",
    "        mst += curCost\n",
    "        # 4.2对新加入的最小生成树的点进行切分\n",
    "        cut(cur)\n",
    "    # 5.检查是否有孤岛\n",
    "    return mst if len(inMst) == sz else -1\n",
    "\n",
    "\n",
    "f([[0, 0], [2, 2], [3, 10], [5, 2], [7, 0]])\n"
   ]
  },
  {
   "cell_type": "code",
   "execution_count": null,
   "metadata": {},
   "outputs": [],
   "source": []
  }
 ],
 "metadata": {
  "interpreter": {
   "hash": "a5f34674cfcc9b13426a2d112c686bc132e4ef443f1487e707e7c3787d6bcf89"
  },
  "kernelspec": {
   "display_name": "Python 3.10.3 64-bit (windows store)",
   "language": "python",
   "name": "python3"
  },
  "language_info": {
   "codemirror_mode": {
    "name": "ipython",
    "version": 3
   },
   "file_extension": ".py",
   "mimetype": "text/x-python",
   "name": "python",
   "nbconvert_exporter": "python",
   "pygments_lexer": "ipython3",
   "version": "3.10.4"
  },
  "orig_nbformat": 4
 },
 "nbformat": 4,
 "nbformat_minor": 2
}
