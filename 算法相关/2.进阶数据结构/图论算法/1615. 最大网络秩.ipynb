{
 "cells": [
  {
   "cell_type": "code",
   "execution_count": 14,
   "metadata": {},
   "outputs": [
    {
     "data": {
      "text/plain": [
       "5"
      ]
     },
     "execution_count": 14,
     "metadata": {},
     "output_type": "execute_result"
    }
   ],
   "source": [
    "import heapq\n",
    "\n",
    "\n",
    "def f(n: int, roads: list):\n",
    "    neis = [[] for _ in range(n)]  # 邻接表\n",
    "    outdegree = [0] * n  # 出度表\n",
    "    for i, j in roads:\n",
    "        neis[i].append(j)\n",
    "        neis[j].append(i)\n",
    "        outdegree[i] += 1\n",
    "        outdegree[j] += 1\n",
    "    max1, max2 = heapq.nlargest(2, outdegree)  # 出度前二值\n",
    "    x, y = [], []  # 出度前二 的所有点\n",
    "    for i in range(n):\n",
    "        if outdegree[i] == max1:\n",
    "            x.append(i)\n",
    "        if outdegree[i] == max2:\n",
    "            y.append(i)\n",
    "    for n1 in x:\n",
    "        for n2 in y:\n",
    "            if n1 != n2 and n1 not in neis[n2]:  # 存在两个点没交集\n",
    "                return max1 + max2\n",
    "    return max1 + max2 - 1  # 遍历完 存在交集\n",
    "\n",
    "\n",
    "# f(4, [[0, 1], [0, 3], [1, 2], [1, 3]])\n",
    "# f(5, [[0, 1], [0, 3], [1, 2], [1, 3], [2, 3], [2, 4]])\n",
    "f(8, [[0, 1], [1, 2], [2, 3], [2, 4], [5, 6], [5, 7]])\n"
   ]
  },
  {
   "cell_type": "code",
   "execution_count": 13,
   "metadata": {},
   "outputs": [
    {
     "data": {
      "text/plain": [
       "[3, 3]"
      ]
     },
     "execution_count": 13,
     "metadata": {},
     "output_type": "execute_result"
    }
   ],
   "source": [
    "heapq.nlargest(2, [3,3,2,1])"
   ]
  },
  {
   "cell_type": "code",
   "execution_count": null,
   "metadata": {},
   "outputs": [],
   "source": []
  }
 ],
 "metadata": {
  "interpreter": {
   "hash": "aee8b7b246df8f9039afb4144a1f6fd8d2ca17a180786b69acc140d282b71a49"
  },
  "kernelspec": {
   "display_name": "Python 3.10.1 64-bit",
   "language": "python",
   "name": "python3"
  },
  "language_info": {
   "codemirror_mode": {
    "name": "ipython",
    "version": 3
   },
   "file_extension": ".py",
   "mimetype": "text/x-python",
   "name": "python",
   "nbconvert_exporter": "python",
   "pygments_lexer": "ipython3",
   "version": "3.10.1"
  },
  "orig_nbformat": 4
 },
 "nbformat": 4,
 "nbformat_minor": 2
}
