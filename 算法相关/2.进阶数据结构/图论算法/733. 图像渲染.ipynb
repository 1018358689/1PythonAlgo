{
 "cells": [
  {
   "cell_type": "code",
   "execution_count": 4,
   "metadata": {},
   "outputs": [
    {
     "data": {
      "text/plain": [
       "[[0, 0, 0], [0, 1, 1]]"
      ]
     },
     "execution_count": 4,
     "metadata": {},
     "output_type": "execute_result"
    }
   ],
   "source": [
    "import collections\n",
    "\n",
    "\n",
    "def f(image: list, sr: int, sc: int, newColor: int):\n",
    "    color = image[sr][sc]\n",
    "    if color == newColor:\n",
    "        return image\n",
    "    rows, cols = len(image), len(image[0])\n",
    "    q = collections.deque([(sr, sc)])\n",
    "    while q:\n",
    "        sz = len(q)\n",
    "        for _ in range(sz):\n",
    "            r, c = q.popleft()\n",
    "            if 0 <= r < rows and 0 <= c < cols and image[r][c] == color:\n",
    "                image[r][c] = newColor\n",
    "                for nr, nc in ((r - 1, c), (r + 1, c), (r, c - 1), (r, c + 1)):\n",
    "                    q.append((nr, nc))\n",
    "    return image\n",
    "\n",
    "\n",
    "f([[1, 1, 1], [1, 1, 0], [1, 0, 1]], 1, 1, 2)\n",
    "f([[0, 0, 0], [0, 1, 1]], 1, 1, 1)\n"
   ]
  },
  {
   "cell_type": "code",
   "execution_count": 5,
   "metadata": {},
   "outputs": [
    {
     "data": {
      "text/plain": [
       "[[2, 2, 2], [2, 2, 0], [2, 0, 1]]"
      ]
     },
     "execution_count": 5,
     "metadata": {},
     "output_type": "execute_result"
    }
   ],
   "source": [
    "def f(image: list, sr: int, sc: int, newColor: int):\n",
    "    color = image[sr][sc]\n",
    "    if color == newColor:\n",
    "        return image\n",
    "    rows, cols = len(image), len(image[0])\n",
    "\n",
    "    def dfs(r, c):\n",
    "        if r < 0 or r > rows - 1 or c < 0 or c > cols - 1 or image[r][c] != color:\n",
    "            return\n",
    "        image[r][c] = newColor\n",
    "        for nr, nc in ((r - 1, c), (r + 1, c), (r, c - 1), (r, c + 1)):\n",
    "            dfs(nr, nc)\n",
    "\n",
    "    dfs(sr, sc)\n",
    "    return image\n",
    "\n",
    "\n",
    "f([[1, 1, 1], [1, 1, 0], [1, 0, 1]], 1, 1, 2)\n"
   ]
  },
  {
   "cell_type": "code",
   "execution_count": 9,
   "metadata": {},
   "outputs": [
    {
     "data": {
      "text/plain": [
       "[[2, 2, 2], [2, 2, 0], [2, 0, 1]]"
      ]
     },
     "execution_count": 9,
     "metadata": {},
     "output_type": "execute_result"
    }
   ],
   "source": [
    "import collections\n",
    "\n",
    "\n",
    "def f(image: list, sr: int, sc: int, newColor: int):\n",
    "    color = image[sr][sc]\n",
    "    if color == newColor:\n",
    "        return image\n",
    "    rows, cols = len(image), len(image[0])\n",
    "    count = rows * cols\n",
    "    root = list(range(count))\n",
    "    rank = [1] * count\n",
    "\n",
    "    def find(x):\n",
    "        if root[x] == x:\n",
    "            return root[x]\n",
    "        else:\n",
    "            root[x] = find(root[x])\n",
    "            return root[x]\n",
    "\n",
    "    def union(x, y):\n",
    "        rootx = find(x)\n",
    "        rooty = find(y)\n",
    "        if rootx != rooty:\n",
    "            if rank[rootx] < rank[rooty]:\n",
    "                root[rootx] = rooty\n",
    "            elif rank[rootx] > rank[rooty]:\n",
    "                root[rooty] = rootx\n",
    "            else:\n",
    "                root[rootx] = rooty\n",
    "                rank[rooty] += 1\n",
    "\n",
    "    for r in range(rows):\n",
    "        for c in range(cols):\n",
    "            if image[r][c] == color:\n",
    "                for nr, nc in ((r - 1, c), (r + 1, c), (r, c - 1), (r, c + 1)):\n",
    "                    if 0 <= nr < rows and 0 <= nc < cols and image[nr][nc] == color:\n",
    "                        union(nr * cols + nc, r * cols + c)\n",
    "    start = sr * cols + sc\n",
    "    for r in range(rows):\n",
    "        for c in range(cols):\n",
    "            if find(r * cols + c) == root[start]:\n",
    "                image[r][c] = newColor\n",
    "    return image\n",
    "\n",
    "\n",
    "f([[1, 1, 1], [1, 1, 0], [1, 0, 1]], 1, 1, 2)\n"
   ]
  },
  {
   "cell_type": "code",
   "execution_count": null,
   "metadata": {},
   "outputs": [],
   "source": []
  }
 ],
 "metadata": {
  "interpreter": {
   "hash": "aee8b7b246df8f9039afb4144a1f6fd8d2ca17a180786b69acc140d282b71a49"
  },
  "kernelspec": {
   "display_name": "Python 3.10.1 64-bit",
   "language": "python",
   "name": "python3"
  },
  "language_info": {
   "codemirror_mode": {
    "name": "ipython",
    "version": 3
   },
   "file_extension": ".py",
   "mimetype": "text/x-python",
   "name": "python",
   "nbconvert_exporter": "python",
   "pygments_lexer": "ipython3",
   "version": "3.10.1"
  },
  "orig_nbformat": 4
 },
 "nbformat": 4,
 "nbformat_minor": 2
}
