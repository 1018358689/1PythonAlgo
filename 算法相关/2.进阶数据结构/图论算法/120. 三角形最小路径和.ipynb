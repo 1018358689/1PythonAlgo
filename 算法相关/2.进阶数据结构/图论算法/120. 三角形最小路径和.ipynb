{
 "cells": [
  {
   "cell_type": "code",
   "execution_count": 9,
   "metadata": {},
   "outputs": [
    {
     "data": {
      "text/plain": [
       "-10"
      ]
     },
     "execution_count": 9,
     "metadata": {},
     "output_type": "execute_result"
    }
   ],
   "source": [
    "def f(triangle: list):\n",
    "    # dp[i][j] 到达triangle[i][j]的最小路径和 -> min(triangle[-1])\n",
    "    dp = {(0, 0): triangle[0][0]}\n",
    "    for r in range(1, len(triangle)):\n",
    "        for c in range(r + 1):\n",
    "            dp[(r, c)] = min(dp.get((r - 1, c - 1), float('inf')), dp.get((r - 1, c), float('inf'))) + triangle[r][c]\n",
    "    return min(dp[(len(triangle) - 1, c)] for c in range(len(triangle)))\n",
    "\n",
    "\n",
    "f([[2], [3, 4], [6, 5, 7], [4, 1, 8, 3]])\n",
    "f([[-10]])"
   ]
  },
  {
   "cell_type": "code",
   "execution_count": 14,
   "metadata": {},
   "outputs": [
    {
     "data": {
      "text/plain": [
       "-63"
      ]
     },
     "execution_count": 14,
     "metadata": {},
     "output_type": "execute_result"
    }
   ],
   "source": [
    "# dijkstra\n",
    "import heapq\n",
    "\n",
    "\n",
    "def f(triangle: list):\n",
    "    pq = [(triangle[0][0], 0, 0)]\n",
    "    costs = {(0, 0): triangle[0][0]}\n",
    "    while pq:\n",
    "        curCost, r, c = heapq.heappop(pq)\n",
    "        for nr, nc in ((r + 1, c), (r + 1, c + 1)):\n",
    "            if nr < len(triangle):\n",
    "                neiCost = curCost + triangle[nr][nc]\n",
    "                if (nr, nc) not in costs or neiCost < costs[(nr, nc)]:\n",
    "                    costs[(nr, nc)] = neiCost\n",
    "                    heapq.heappush(pq, (neiCost, nr, nc))\n",
    "    return min(costs[(len(triangle) - 1, c)] for c in range(len(triangle)))\n",
    "\n",
    "\n",
    "f([[2], [3, 4], [6, 5, 7], [4, 1, 8, 3]])\n",
    "f([[-10]])\n",
    "f([[-7], [-2, 1], [-5, -5, 9], [-4, -5, 4, 4], [-6, -6, 2, -1, -5], [3, 7, 8, -3, 7, -9], [-9, -1, -9, 6, 9, 0, 7], [-7, 0, -6, -8, 7, 1, -4, 9], [-3, 2, -6, -9, -7, -6, -9, 4, 0], [-8, -6, -3, -9, -2, -6, 7, -5, 0, 7],\n",
    "   [-9, -1, -2, 4, -2, 4, 4, -1, 2, -5, 5], [1, 1, -6, 1, -2, -4, 4, -2, 6, -6, 0, 6], [-3, -3, -6, -2, -6, -2, 7, -9, -5, -7, -5, 5, 1]])\n"
   ]
  },
  {
   "cell_type": "code",
   "execution_count": null,
   "metadata": {},
   "outputs": [],
   "source": []
  }
 ],
 "metadata": {
  "interpreter": {
   "hash": "a5f34674cfcc9b13426a2d112c686bc132e4ef443f1487e707e7c3787d6bcf89"
  },
  "kernelspec": {
   "display_name": "Python 3.10.3 64-bit (windows store)",
   "language": "python",
   "name": "python3"
  },
  "language_info": {
   "codemirror_mode": {
    "name": "ipython",
    "version": 3
   },
   "file_extension": ".py",
   "mimetype": "text/x-python",
   "name": "python",
   "nbconvert_exporter": "python",
   "pygments_lexer": "ipython3",
   "version": "3.10.3"
  },
  "orig_nbformat": 4
 },
 "nbformat": 4,
 "nbformat_minor": 2
}
