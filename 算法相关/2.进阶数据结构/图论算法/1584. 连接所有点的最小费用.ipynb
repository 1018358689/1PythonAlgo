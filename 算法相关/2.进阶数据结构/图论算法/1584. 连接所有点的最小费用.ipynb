{
 "cells": [
  {
   "cell_type": "code",
   "execution_count": 1,
   "metadata": {},
   "outputs": [
    {
     "data": {
      "text/plain": [
       "20"
      ]
     },
     "execution_count": 1,
     "metadata": {},
     "output_type": "execute_result"
    }
   ],
   "source": [
    "# Kruskal算法\n",
    "def f(points: list):\n",
    "    count = len(points)\n",
    "    costs = []  # 点1索引 点2索引 两点权重\n",
    "    for i in range(count - 1):\n",
    "        for j in range(i + 1, count):\n",
    "            xi, yi, xj, yj = points[i][0], points[i][1], points[j][0], points[j][1]\n",
    "            costs.append((i, j, abs(xi - xj) + abs(yi - yj)))\n",
    "    costs.sort(key=lambda x: x[-1])\n",
    "    root = list(range(count))\n",
    "    rank = [1] * count\n",
    "\n",
    "    def find(x: int):\n",
    "        if root[x] == x:\n",
    "            return x\n",
    "        else:\n",
    "            root[x] = find(root[x])\n",
    "            return root[x]\n",
    "\n",
    "    def union(x: int, y: int):\n",
    "        nonlocal count\n",
    "        rootx, rooty = find(x), find(y)\n",
    "        if rootx != rooty:\n",
    "            if rank[rootx] < rank[rooty]:\n",
    "                root[rootx] = rooty\n",
    "            elif rank[rootx] > rank[rooty]:\n",
    "                root[rooty] = rootx\n",
    "            else:\n",
    "                root[rootx] = rooty\n",
    "                rank[rooty] += 1\n",
    "            count -= 1\n",
    "\n",
    "    mst = 0\n",
    "    for i, j, cost in costs:\n",
    "        if find(i) == find(j):\n",
    "            continue\n",
    "        union(i, j)\n",
    "        mst += cost\n",
    "    return mst\n",
    "\n",
    "\n",
    "f([[0, 0], [2, 2], [3, 10], [5, 2], [7, 0]])\n"
   ]
  },
  {
   "cell_type": "code",
   "execution_count": 4,
   "metadata": {},
   "outputs": [
    {
     "data": {
      "text/plain": [
       "20"
      ]
     },
     "execution_count": 4,
     "metadata": {},
     "output_type": "execute_result"
    }
   ],
   "source": [
    "# prim算法\n",
    "import heapq\n",
    "\n",
    "points = [[0, 0], [2, 2], [3, 10], [5, 2], [7, 0]]\n",
    "\n",
    "\n",
    "def f(points: list):\n",
    "    count = len(points)\n",
    "    neis = [[] for _ in range(count)]\n",
    "    for i in range(count):\n",
    "        for j in range(count):\n",
    "            if i != j:\n",
    "                xi, yi = points[i]\n",
    "                xj, yj = points[j]\n",
    "                neis[i].append((abs(xi - xj) + abs(yi - yj), j))\n",
    "    in_mst = set()\n",
    "    in_mst.add(0)\n",
    "    mst = 0\n",
    "    pq = []\n",
    "\n",
    "    def cut(node: int):\n",
    "        for c, n in neis[node]:\n",
    "            if n not in in_mst:\n",
    "                heapq.heappush(pq, (c, n))\n",
    "\n",
    "    cut(0)\n",
    "    while pq:\n",
    "        cost, nei = heapq.heappop(pq)\n",
    "        if nei in in_mst:\n",
    "            continue\n",
    "        in_mst.add(nei)\n",
    "        mst += cost\n",
    "        cut(nei)\n",
    "    return mst\n",
    "\n",
    "\n",
    "f([[0, 0], [2, 2], [3, 10], [5, 2], [7, 0]])\n"
   ]
  }
 ],
 "metadata": {
  "interpreter": {
   "hash": "aee8b7b246df8f9039afb4144a1f6fd8d2ca17a180786b69acc140d282b71a49"
  },
  "kernelspec": {
   "display_name": "Python 3.10.1 64-bit",
   "language": "python",
   "name": "python3"
  },
  "language_info": {
   "codemirror_mode": {
    "name": "ipython",
    "version": 3
   },
   "file_extension": ".py",
   "mimetype": "text/x-python",
   "name": "python",
   "nbconvert_exporter": "python",
   "pygments_lexer": "ipython3",
   "version": "3.10.3"
  },
  "orig_nbformat": 4
 },
 "nbformat": 4,
 "nbformat_minor": 2
}
