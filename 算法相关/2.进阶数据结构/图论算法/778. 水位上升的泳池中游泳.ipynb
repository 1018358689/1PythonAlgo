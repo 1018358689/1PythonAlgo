{
 "cells": [
  {
   "cell_type": "code",
   "execution_count": 1,
   "metadata": {},
   "outputs": [
    {
     "data": {
      "text/plain": [
       "16"
      ]
     },
     "execution_count": 1,
     "metadata": {},
     "output_type": "execute_result"
    }
   ],
   "source": [
    "# dijkstra\n",
    "import heapq\n",
    "\n",
    "\n",
    "def f(grid: list):\n",
    "    rows, cols = len(grid), len(grid[0])\n",
    "    target = (rows - 1, cols - 1)\n",
    "    pq = [(grid[0][0], 0, 0)]\n",
    "    heapq.heapify(pq)\n",
    "    costs = {(0, 0): grid[0][0]}\n",
    "    while pq:\n",
    "        curCost, r, c = heapq.heappop(pq)\n",
    "        if (r, c) == target:\n",
    "            return curCost\n",
    "        for nr, nc in ((r - 1, c), (r + 1, c), (r, c - 1), (r, c + 1)):\n",
    "            if 0 <= nr < rows and 0 <= nc < cols:\n",
    "                neiCost = max(curCost, grid[nr][nc])\n",
    "                if (nr, nc) not in costs or neiCost < costs[(nr, nc)]:\n",
    "                    costs[(nr, nc)] = neiCost\n",
    "                    heapq.heappush(pq, (neiCost, nr, nc))\n",
    "\n",
    "\n",
    "f([[0, 1, 2, 3, 4], [24, 23, 22, 21, 5], [12, 13, 14, 15, 16], [11, 17, 18, 19, 20], [10, 9, 8, 7, 6]])\n"
   ]
  },
  {
   "cell_type": "code",
   "execution_count": 7,
   "metadata": {},
   "outputs": [
    {
     "data": {
      "text/plain": [
       "0"
      ]
     },
     "execution_count": 7,
     "metadata": {},
     "output_type": "execute_result"
    }
   ],
   "source": [
    "# kruskal\n",
    "def f(grid: list):\n",
    "    if len(grid) == 1:\n",
    "        return 0\n",
    "    rows, cols = len(grid), len(grid[0])\n",
    "    costs = []\n",
    "    for r in range(rows):\n",
    "        for c in range(cols):\n",
    "            for nr, nc in ((r, c + 1), (r + 1, c)):\n",
    "                if 0 <= nr < rows and 0 <= nc < cols:\n",
    "                    cost = max(grid[r][c], grid[nr][nc])\n",
    "                    costs.append((cost, r * cols + c, nr * cols + nc))\n",
    "    costs.sort()\n",
    "\n",
    "    count = rows * cols\n",
    "    roots = list(range(count))\n",
    "    rank = [1] * count\n",
    "\n",
    "    def find(x):\n",
    "        if roots[x] == x:\n",
    "            return roots[x]\n",
    "        roots[x] = find(roots[x])\n",
    "        return roots[x]\n",
    "\n",
    "    def union(x, y):\n",
    "        rx, ry = find(x), find(y)\n",
    "        if rx != ry:\n",
    "            if rank[rx] < rank[ry]:\n",
    "                roots[rx] = ry\n",
    "            elif rank[ry] < rank[rx]:\n",
    "                roots[ry] = rx\n",
    "            else:\n",
    "                roots[ry] = rx\n",
    "                rank[rx] += 1\n",
    "\n",
    "    def connected(x, y):\n",
    "        return find(x) == find(y)\n",
    "\n",
    "    for cost, x, y in costs:\n",
    "        union(x, y)\n",
    "        if connected(0, count - 1):\n",
    "            return cost\n",
    "\n",
    "\n",
    "f([[0, 1, 2, 3, 4], [24, 23, 22, 21, 5], [12, 13, 14, 15, 16], [11, 17, 18, 19, 20], [10, 9, 8, 7, 6]])\n",
    "f([[1]])"
   ]
  },
  {
   "cell_type": "code",
   "execution_count": 3,
   "metadata": {},
   "outputs": [],
   "source": [
    "class UnionFind:\n",
    "\n",
    "    def __init__(self, nodeNum: int):\n",
    "        self.count = nodeNum\n",
    "        self.roots = list(range(nodeNum))\n",
    "        self.rank = [1] * nodeNum\n",
    "\n",
    "    def find(self, x: int):\n",
    "        if self.roots[x] != x:\n",
    "            self.roots[x] = self.find(self.roots[x])\n",
    "        return self.roots[x]\n",
    "\n",
    "    def union(self, x: int, y: int):\n",
    "        rx, ry = self.find(x), self.find(y)\n",
    "        if rx != ry:\n",
    "            if self.rank[rx] < self.rank[ry]:\n",
    "                self.roots[rx] = ry\n",
    "            elif self.rank[ry] < self.rank[rx]:\n",
    "                self.roots[ry] = rx\n",
    "            else:\n",
    "                self.roots[rx] = ry\n",
    "                self.rank[ry] += 1\n",
    "            self.count -= 1\n",
    "\n",
    "    def isConnected(self, x: int, y: int):\n",
    "        return self.find(x) == self.find(y)\n",
    "\n",
    "    def countNum(self):\n",
    "        return self.count"
   ]
  },
  {
   "cell_type": "code",
   "execution_count": 4,
   "metadata": {},
   "outputs": [
    {
     "data": {
      "text/plain": [
       "16"
      ]
     },
     "execution_count": 4,
     "metadata": {},
     "output_type": "execute_result"
    }
   ],
   "source": [
    "def f(grid: list):\n",
    "    if len(grid) == 1:\n",
    "        return 0\n",
    "    rows, cols = len(grid), len(grid[0])\n",
    "    costs = []\n",
    "    for r in range(rows):\n",
    "        for c in range(cols):\n",
    "            for nr, nc in ((r, c + 1), (r + 1, c)):\n",
    "                if 0 <= nr < rows and 0 <= nc < cols:\n",
    "                    cost = max(grid[r][c], grid[nr][nc])\n",
    "                    costs.append((cost, r * cols + c, nr * cols + nc))\n",
    "    costs.sort()\n",
    "    uf = UnionFind(rows * cols)\n",
    "    for c, x, y in costs:\n",
    "        uf.union(x, y)\n",
    "        if uf.isConnected(0, rows * cols - 1):\n",
    "            return c\n",
    "\n",
    "\n",
    "f([[0, 1, 2, 3, 4], [24, 23, 22, 21, 5], [12, 13, 14, 15, 16], [11, 17, 18, 19, 20], [10, 9, 8, 7, 6]])\n"
   ]
  },
  {
   "cell_type": "code",
   "execution_count": null,
   "metadata": {},
   "outputs": [],
   "source": []
  }
 ],
 "metadata": {
  "interpreter": {
   "hash": "a5f34674cfcc9b13426a2d112c686bc132e4ef443f1487e707e7c3787d6bcf89"
  },
  "kernelspec": {
   "display_name": "Python 3.10.3 64-bit (windows store)",
   "language": "python",
   "name": "python3"
  },
  "language_info": {
   "codemirror_mode": {
    "name": "ipython",
    "version": 3
   },
   "file_extension": ".py",
   "mimetype": "text/x-python",
   "name": "python",
   "nbconvert_exporter": "python",
   "pygments_lexer": "ipython3",
   "version": "3.10.1"
  },
  "orig_nbformat": 4
 },
 "nbformat": 4,
 "nbformat_minor": 2
}
