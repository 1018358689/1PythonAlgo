{
 "cells": [
  {
   "cell_type": "code",
   "execution_count": null,
   "metadata": {},
   "outputs": [],
   "source": [
    "# 无向图用并查集  有向图用拓扑排序\n"
   ]
  },
  {
   "cell_type": "code",
   "execution_count": null,
   "metadata": {},
   "outputs": [],
   "source": [
    "# dfs\n",
    "def f(numCourses: int, prerequisites: list):\n",
    "    neis = [[] for _ in range(numCourses)]  # 邻接表\n",
    "    for cur, pre in prerequisites:\n",
    "        neis[pre].append(cur)\n",
    "    visited = [0] * numCourses  # 访问过节点\n",
    "\n",
    "    def dfs(on_path, cur):\n",
    "        if cur in on_path[:-1]:  # 成环\n",
    "            return True\n",
    "        if visited[cur]:\n",
    "            return False  # 不成环 且 之前访问过  回溯\n",
    "        visited[cur] = 1\n",
    "        for nei in neis[cur]:\n",
    "            if dfs(on_path + [nei], nei):\n",
    "                return True\n",
    "\n",
    "    for course in range(numCourses):\n",
    "        if dfs([course], course):\n",
    "            return False\n",
    "    return True"
   ]
  },
  {
   "cell_type": "markdown",
   "metadata": {},
   "source": [
    "1、构建邻接表，和之前一样，边的方向表示「被依赖」关系。\n",
    "\n",
    "2、构建一个 indegree 数组记录每个节点的入度，即 indegree[i] 记录节点 i 的入度。\n",
    "\n",
    "3、对 BFS 队列进行初始化，将入度为 0 的节点首先装入队列。\n",
    "\n",
    "4、开始执行 BFS 循环，不断弹出队列中的节点，减少相邻节点的入度，并将入度变为 0 的节点加入队列。\n",
    "\n",
    "5、如果最终所有节点都被遍历过（count 等于节点数），则说明不存在环，反之则说明存在环。"
   ]
  },
  {
   "cell_type": "code",
   "execution_count": 1,
   "metadata": {},
   "outputs": [],
   "source": [
    "# bfs 入度表 入度为0则是安全结点 不在环内\n",
    "import collections\n",
    "\n",
    "\n",
    "def f(numCourses: int, prerequisites: list):\n",
    "    neis = [[] for _ in range(numCourses)]  # 邻接表\n",
    "    indegree = [0] * numCourses  # 入度表\n",
    "    for cur, pre in prerequisites:\n",
    "        neis[pre].append(cur)\n",
    "        indegree[cur] += 1\n",
    "    q = collections.deque([])\n",
    "    for i in range(numCourses):\n",
    "        if indegree[i] == 0:\n",
    "            q.append(i)  # 把入度为0加入队列\n",
    "    cnt = 0  # 访问的节点数\n",
    "    # 开始bfs\n",
    "    while q:\n",
    "        cur = q.popleft()\n",
    "        cnt += 1  # 访问节点+1\n",
    "        for nei in neis[cur]:\n",
    "            indegree[nei] -= 1  # 往前移动 邻接节点入度-1\n",
    "            if indegree[nei] == 0:\n",
    "                q.append(nei)  # 入度为0 则入队\n",
    "    return cnt == numCourses  # 所有都被访问则不成环 成环则有未访问的节点"
   ]
  },
  {
   "cell_type": "code",
   "execution_count": null,
   "metadata": {},
   "outputs": [],
   "source": [
    "# 261.以图判树   无向图\n",
    "from typing import List\n",
    "\n",
    "\n",
    "class Solution:\n",
    "\n",
    "    def validTree(self, n: int, edges: List[List[int]]) -> bool:\n",
    "        fa = list(range(n))\n",
    "        count = n\n",
    "\n",
    "        def find(x):\n",
    "            if fa[x] != x:\n",
    "                fa[x] = find(fa[x])\n",
    "            return fa[x]\n",
    "\n",
    "        def union(x, y):\n",
    "            fx, fy = find(x), find(y)\n",
    "            if fx == fy: return\n",
    "            fa[fx] = fy\n",
    "            nonlocal count\n",
    "            count -= 1\n",
    "\n",
    "        def is_connected(x, y):\n",
    "            return find(x) == find(y)\n",
    "\n",
    "        for x, y in edges:\n",
    "            if not is_connected(x, y):\n",
    "                union(x, y)\n",
    "            else:\n",
    "                return False\n",
    "        return count == 1\n"
   ]
  }
 ],
 "metadata": {
  "kernelspec": {
   "display_name": "Python 3",
   "language": "python",
   "name": "python3"
  },
  "language_info": {
   "codemirror_mode": {
    "name": "ipython",
    "version": 3
   },
   "file_extension": ".py",
   "mimetype": "text/x-python",
   "name": "python",
   "nbconvert_exporter": "python",
   "pygments_lexer": "ipython3",
   "version": "3.11.1 (tags/v3.11.1:a7a450f, Dec  6 2022, 19:58:39) [MSC v.1934 64 bit (AMD64)]"
  },
  "orig_nbformat": 4,
  "vscode": {
   "interpreter": {
    "hash": "ff4b1fca65a764b45acb559e482afe389d289dd599b9f8c5fd12ff5c2ea46a65"
   }
  }
 },
 "nbformat": 4,
 "nbformat_minor": 2
}
