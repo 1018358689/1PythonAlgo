{
 "cells": [
  {
   "cell_type": "code",
   "execution_count": null,
   "metadata": {},
   "outputs": [],
   "source": [
    "# dfs\n",
    "def f(numCourses: int, prerequisites: list):\n",
    "    neis = [[] for _ in range(numCourses)]  # 邻接表\n",
    "    for cur, pre in prerequisites:\n",
    "        neis[pre].append(cur)\n",
    "    visited = [0] * numCourses  # 访问过节点\n",
    "\n",
    "    def dfs(on_path, cur):\n",
    "        if cur in on_path[:-1]:  # 成环\n",
    "            return True\n",
    "        if visited[cur]:\n",
    "            return False  # 不成环 且 之前访问过  回溯\n",
    "        visited[cur] = 1\n",
    "        for nei in neis[cur]:\n",
    "            if dfs(on_path + [nei], nei):\n",
    "                return True\n",
    "\n",
    "    for course in range(numCourses):\n",
    "        if dfs([course], course):\n",
    "            return False\n",
    "    return True"
   ]
  },
  {
   "cell_type": "markdown",
   "metadata": {},
   "source": [
    "1、构建邻接表，和之前一样，边的方向表示「被依赖」关系。\n",
    "\n",
    "2、构建一个 indegree 数组记录每个节点的入度，即 indegree[i] 记录节点 i 的入度。\n",
    "\n",
    "3、对 BFS 队列进行初始化，将入度为 0 的节点首先装入队列。\n",
    "\n",
    "4、开始执行 BFS 循环，不断弹出队列中的节点，减少相邻节点的入度，并将入度变为 0 的节点加入队列。\n",
    "\n",
    "5、如果最终所有节点都被遍历过（count 等于节点数），则说明不存在环，反之则说明存在环。"
   ]
  },
  {
   "cell_type": "code",
   "execution_count": null,
   "metadata": {},
   "outputs": [],
   "source": [
    "# bfs 入度表 入度为0则是安全结点 不在环内\n",
    "import collections\n",
    "\n",
    "\n",
    "def f(numCourses: int, prerequisites: list):\n",
    "    neis = [[] for _ in range(numCourses)]  # 邻接表\n",
    "    indegree = [0] * numCourses  # 入度表\n",
    "    for cur, pre in prerequisites:\n",
    "        neis[pre].append(cur)\n",
    "        indegree[cur] += 1\n",
    "    q = collections.deque([])\n",
    "    for i in range(numCourses):\n",
    "        if indegree[i] == 0:\n",
    "            q.append(i)  # 把入度为0加入队列\n",
    "    cnt = 0  # 访问的节点数\n",
    "    # 开始bfs\n",
    "    while q:\n",
    "        cur = q.popleft()\n",
    "        cnt += 1  # 访问节点+1\n",
    "        for nei in neis[cur]:\n",
    "            indegree[nei] -= 1  # 往前移动 邻接节点入度-1\n",
    "            if indegree[nei] == 0:\n",
    "                q.append(nei)  # 入度为0 则入队\n",
    "    return cnt == numCourses  # 所有都被访问则不成环 成环则有未访问的节点"
   ]
  }
 ],
 "metadata": {
  "kernelspec": {
   "display_name": "Python 3.8.10 64-bit",
   "language": "python",
   "name": "python3"
  },
  "language_info": {
   "name": "python",
   "version": "3.8.10"
  },
  "orig_nbformat": 4,
  "vscode": {
   "interpreter": {
    "hash": "570feb405e2e27c949193ac68f46852414290d515b0ba6e5d90d076ed2284471"
   }
  }
 },
 "nbformat": 4,
 "nbformat_minor": 2
}
