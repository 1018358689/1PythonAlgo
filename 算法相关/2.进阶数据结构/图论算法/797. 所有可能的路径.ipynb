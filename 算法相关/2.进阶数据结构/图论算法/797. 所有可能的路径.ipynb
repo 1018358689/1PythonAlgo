{
 "cells": [
  {
   "cell_type": "code",
   "execution_count": 2,
   "metadata": {},
   "outputs": [
    {
     "data": {
      "text/plain": [
       "([[0, 1, 3], [0, 2, 3]],\n",
       " [[0, 4], [0, 3, 4], [0, 1, 4], [0, 1, 3, 4], [0, 1, 2, 3, 4]])"
      ]
     },
     "execution_count": 2,
     "metadata": {},
     "output_type": "execute_result"
    }
   ],
   "source": [
    "import collections\n",
    "\n",
    "\n",
    "def f(graph: list):\n",
    "    target = len(graph) - 1\n",
    "    res = []\n",
    "    q = collections.deque([[0]])\n",
    "    while q:\n",
    "        sz = len(q)\n",
    "        for _ in range(sz):\n",
    "            path = q.popleft()\n",
    "            if path[-1] == target:\n",
    "                res.append(path[:])\n",
    "            for nei in graph[path[-1]]:\n",
    "                q.append(path + [nei])\n",
    "    return res\n",
    "\n",
    "\n",
    "f([[1, 2], [3], [3], []]), f([[4, 3, 1], [3, 2, 4], [3], [4], []])\n"
   ]
  },
  {
   "cell_type": "code",
   "execution_count": 7,
   "metadata": {},
   "outputs": [
    {
     "data": {
      "text/plain": [
       "([[0, 1, 3], [0, 2, 3]],\n",
       " [[0, 4], [0, 3, 4], [0, 1, 3, 4], [0, 1, 2, 3, 4], [0, 1, 4]])"
      ]
     },
     "execution_count": 7,
     "metadata": {},
     "output_type": "execute_result"
    }
   ],
   "source": [
    "import collections\n",
    "\n",
    "\n",
    "def f(graph: list):\n",
    "    target = len(graph) - 1\n",
    "    res = []\n",
    "\n",
    "    def dfs(path: list):\n",
    "        if path[-1] == target:\n",
    "            res.append(path[:])\n",
    "            return\n",
    "        for nei in graph[path[-1]]:\n",
    "            dfs(path + [nei])\n",
    "\n",
    "    path = [0]\n",
    "    dfs(path)\n",
    "    return res\n",
    "\n",
    "\n",
    "f([[1, 2], [3], [3], []]), f([[4, 3, 1], [3, 2, 4], [3], [4], []])\n"
   ]
  },
  {
   "cell_type": "code",
   "execution_count": null,
   "metadata": {},
   "outputs": [],
   "source": []
  }
 ],
 "metadata": {
  "interpreter": {
   "hash": "aee8b7b246df8f9039afb4144a1f6fd8d2ca17a180786b69acc140d282b71a49"
  },
  "kernelspec": {
   "display_name": "Python 3.10.1 64-bit",
   "language": "python",
   "name": "python3"
  },
  "language_info": {
   "codemirror_mode": {
    "name": "ipython",
    "version": 3
   },
   "file_extension": ".py",
   "mimetype": "text/x-python",
   "name": "python",
   "nbconvert_exporter": "python",
   "pygments_lexer": "ipython3",
   "version": "3.10.1"
  },
  "orig_nbformat": 4
 },
 "nbformat": 4,
 "nbformat_minor": 2
}
