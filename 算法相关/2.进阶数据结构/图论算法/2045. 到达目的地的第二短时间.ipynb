{
 "cells": [
  {
   "cell_type": "code",
   "execution_count": 1,
   "metadata": {},
   "outputs": [
    {
     "data": {
      "text/plain": [
       "5"
      ]
     },
     "execution_count": 1,
     "metadata": {},
     "output_type": "execute_result"
    }
   ],
   "source": [
    "import collections\n",
    "import math\n",
    "\n",
    "\n",
    "def f(n: int, edges: list, time: int, change: int):\n",
    "    neis = [[] for _ in range(n + 1)]\n",
    "    for x, y in edges:\n",
    "        neis[x].append(y)\n",
    "        neis[y].append(x)\n",
    "    q = collections.deque([(1, 0)])\n",
    "    path_length = [-1] * (n + 1)  # 第二小边记录\n",
    "    two_visited = set()  # 第二小边跳过\n",
    "    while q:\n",
    "        sz = len(q)\n",
    "        for _ in range(sz):\n",
    "            cur, dis = q.popleft()\n",
    "            for nei in neis[cur]:\n",
    "                if nei in two_visited:  # 第三小 跳过\n",
    "                    continue\n",
    "                if path_length[nei] == -1:  # 第一次访问\n",
    "                    path_length[nei] = dis + 1\n",
    "                elif dis + 1 > path_length[nei]:  # 边数严格大于上一次 并非第二次 加入visited 并判断是否到达目标点\n",
    "                    two_visited.add(nei)\n",
    "                    if nei == n:\n",
    "                        dis = dis + 1 # 边数\n",
    "                        res = 0\n",
    "                        for i in range(dis):\n",
    "                            res += time\n",
    "                            if (res // change) % 2 == 1 and i != dis - 1:\n",
    "                                res += change - res % change\n",
    "                        return res\n",
    "                q.append((nei, dis + 1))\n",
    "\n",
    "\n",
    "f(5, [[1, 2], [1, 3], [1, 4], [3, 4], [4, 5]], 3, 5)\n",
    "f(2, [[1, 2]], 1, 2)\n"
   ]
  },
  {
   "cell_type": "code",
   "execution_count": 30,
   "metadata": {},
   "outputs": [
    {
     "ename": "SyntaxError",
     "evalue": "invalid syntax (Temp/ipykernel_14080/2951430476.py, line 1)",
     "output_type": "error",
     "traceback": [
      "\u001b[1;36m  File \u001b[1;32m\"C:\\Users\\Administrator\\AppData\\Local\\Temp/ipykernel_14080/2951430476.py\"\u001b[1;36m, line \u001b[1;32m1\u001b[0m\n\u001b[1;33m    change//time+1  2*change-(change//time+1)*time\u001b[0m\n\u001b[1;37m                    ^\u001b[0m\n\u001b[1;31mSyntaxError\u001b[0m\u001b[1;31m:\u001b[0m invalid syntax\n"
     ]
    }
   ],
   "source": [
    "change//time+1  2*change-(change//time+1)*time"
   ]
  },
  {
   "cell_type": "code",
   "execution_count": 10,
   "metadata": {},
   "outputs": [
    {
     "data": {
      "text/plain": [
       "13"
      ]
     },
     "execution_count": 10,
     "metadata": {},
     "output_type": "execute_result"
    }
   ],
   "source": [
    "from collections import deque\n",
    "\n",
    "\n",
    "def f(n: int, edges: list, time: int, change: int):\n",
    "    neis = [[] for _ in range(n + 1)]\n",
    "    for x, y in edges:\n",
    "        neis[x].append(y)\n",
    "        neis[y].append(x)\n",
    "    costs = {1: 0} # 记录第一次访问经过的路径\n",
    "    vis = set() # 第二长路径访问\n",
    "    q = deque([(1, 0)])\n",
    "    while q:\n",
    "        for _ in range(len(q)):\n",
    "            cur, step = q.popleft()\n",
    "            # BFS外扩\n",
    "            for nei in neis[cur]:\n",
    "                if nei not in vis:\n",
    "                    neiStep = step + 1\n",
    "                    q.append((nei, neiStep))\n",
    "                    # 第一次访问仅记录经过路径长度\n",
    "                    if nei not in costs:  # 第一次访问 记录路径\n",
    "                        costs[nei] = neiStep\n",
    "                    # 第二次访问且路径严格大于第一次访问 则加入vis且不再访问 且查看是否到目的地\n",
    "                    elif neiStep > costs[nei]:  # 非第一次访问 且路径严格大于第一次访问路径\n",
    "                        vis.add(nei)\n",
    "                        if nei == n:\n",
    "                            res = 0\n",
    "                            for i in range(neiStep):\n",
    "                                res += time\n",
    "                                if (res // change) % 2 == 1 and i != neiStep - 1:\n",
    "                                    res += change - res % change\n",
    "                            return res\n",
    "\n",
    "\n",
    "f(5, [[1, 2], [1, 3], [1, 4], [3, 4], [4, 5]], 3, 5)\n",
    "# f(2, [[1, 2]], 1, 2)"
   ]
  },
  {
   "cell_type": "code",
   "execution_count": 14,
   "metadata": {},
   "outputs": [
    {
     "data": {
      "text/plain": [
       "13"
      ]
     },
     "execution_count": 14,
     "metadata": {},
     "output_type": "execute_result"
    }
   ],
   "source": [
    "from collections import deque\n",
    "\n",
    "\n",
    "def f(n: int, edges: list, time: int, change: int):\n",
    "\n",
    "    def tranTime(step):\n",
    "        res = 0\n",
    "        for i in range(step):\n",
    "            res += time\n",
    "            if (res // change) % 2 == 1 and i != step - 1:\n",
    "                res += change - res % change\n",
    "        return res\n",
    "\n",
    "    neis = [[] for _ in range(n + 1)]\n",
    "    for x, y in edges:\n",
    "        neis[x].append(y)\n",
    "        neis[y].append(x)\n",
    "    dis = [[float('inf')] * 2 for _ in range(n + 1)]  # 第一二短路径长度\n",
    "    dis[1][0] = 0\n",
    "    vis = set()  # 当dis中第二短路径更新就记录 以防重复遍历\n",
    "    q = deque([(1, 0)])\n",
    "    while q:\n",
    "        for _ in range(len(q)):\n",
    "            cur, step = q.popleft()\n",
    "            for nei in neis[cur]:\n",
    "                if nei not in vis:\n",
    "                    if (neiStep := step + 1) < dis[nei][0]: # 第一短路径（第一次遍历）\n",
    "                        dis[nei][0] = neiStep\n",
    "                    elif neiStep > dis[nei][0]: # 第二短路径（不一定第二次遍历）\n",
    "                        dis[nei][1] = neiStep # 可以记录所有节点第二短路径\n",
    "                        vis.add(nei)\n",
    "                        if nei == n:\n",
    "                            return tranTime(neiStep)\n",
    "                    q.append((nei, neiStep))\n",
    "\n",
    "\n",
    "f(5, [[1, 2], [1, 3], [1, 4], [3, 4], [4, 5]], 3, 5)\n"
   ]
  },
  {
   "cell_type": "code",
   "execution_count": null,
   "metadata": {},
   "outputs": [],
   "source": []
  }
 ],
 "metadata": {
  "interpreter": {
   "hash": "004de6046f1b3d314f33fdb43a2dc798b2646e5600efd8df5066c8b63a00ff6d"
  },
  "kernelspec": {
   "display_name": "Python 3.8.10 64-bit",
   "language": "python",
   "name": "python3"
  },
  "language_info": {
   "codemirror_mode": {
    "name": "ipython",
    "version": 3
   },
   "file_extension": ".py",
   "mimetype": "text/x-python",
   "name": "python",
   "nbconvert_exporter": "python",
   "pygments_lexer": "ipython3",
   "version": "3.10.3"
  },
  "orig_nbformat": 4
 },
 "nbformat": 4,
 "nbformat_minor": 2
}
