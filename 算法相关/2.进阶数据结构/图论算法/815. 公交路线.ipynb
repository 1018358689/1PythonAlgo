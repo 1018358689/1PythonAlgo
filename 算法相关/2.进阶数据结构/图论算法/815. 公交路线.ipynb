{
 "cells": [
  {
   "cell_type": "code",
   "execution_count": 6,
   "metadata": {},
   "outputs": [
    {
     "data": {
      "text/plain": [
       "2"
      ]
     },
     "execution_count": 6,
     "metadata": {},
     "output_type": "execute_result"
    }
   ],
   "source": [
    "# 朴素BFS超时\n",
    "import collections\n",
    "\n",
    "\n",
    "def f(routes: list, source: int, target: int):\n",
    "    if source == target:\n",
    "        return 0\n",
    "    neis = collections.defaultdict(set) # 每个站的领接站点\n",
    "    for route in routes:\n",
    "        for r in route:\n",
    "            neis[r] |= set(route) - {r}\n",
    "    q = collections.deque([(0, source)])  # step,cur\n",
    "    vis = {source}\n",
    "    while q:\n",
    "        for _ in range(len(q)):\n",
    "            step, cur = q.popleft()\n",
    "            for nei in neis[cur]:\n",
    "                if nei not in vis:\n",
    "                    if nei == target:\n",
    "                        return step + 1\n",
    "                    vis.add(nei)\n",
    "                    q.append((step + 1, nei))\n",
    "    return -1\n",
    "\n",
    "\n",
    "f([[1, 2, 7], [3, 6, 7]], 1, 6)\n",
    "# f([[7, 12], [4, 5, 15], [6], [15, 19], [9, 12, 13]], 15, 12)\n"
   ]
  },
  {
   "cell_type": "code",
   "execution_count": 11,
   "metadata": {},
   "outputs": [
    {
     "data": {
      "text/plain": [
       "-1"
      ]
     },
     "execution_count": 11,
     "metadata": {},
     "output_type": "execute_result"
    }
   ],
   "source": [
    "import collections\n",
    "\n",
    "\n",
    "def f(routes: list, source: int, target: int):\n",
    "    # routes 车辆可达到的站点\n",
    "    # stationBuses 每个站点的可坐车辆\n",
    "    # 记录坐过的车和到过的站 不走回头路\n",
    "    # 模拟 在某个站 选没坐过的车 开到没去过的站 循环往复\n",
    "    #     !(记录站)!(记录车)    (还没到)\n",
    "    if source == target:\n",
    "        return 0\n",
    "    stationBuses = collections.defaultdict(set)  # 每个站可以坐的公交车\n",
    "    for bus, stations in enumerate(routes):\n",
    "        for s in stations:\n",
    "            stationBuses[s].add(bus)\n",
    "    visBus = set()\n",
    "    visStation = set()\n",
    "    q = collections.deque([(0, source)])  # step station\n",
    "    while q:\n",
    "        step, curStation = q.popleft()\n",
    "        if curStation == target: # 到目标站就退出\n",
    "            return step\n",
    "        visStation.add(curStation) # 在这个站就记录\n",
    "        for neiBus in stationBuses[curStation]:\n",
    "            if neiBus in visBus:\n",
    "                continue\n",
    "            visBus.add(neiBus) # 上这个车就记录\n",
    "            for neiStation in routes[neiBus]:\n",
    "                if neiStation in visStation:\n",
    "                    continue\n",
    "                q.append((step + 1, neiStation))\n",
    "    return -1\n",
    "\n",
    "\n",
    "# f([[1, 2, 7], [3, 6, 7]], 1, 6)\n",
    "f([[7, 12], [4, 5, 15], [6], [15, 19], [9, 12, 13]], 15, 12)\n"
   ]
  },
  {
   "cell_type": "code",
   "execution_count": null,
   "metadata": {},
   "outputs": [],
   "source": []
  }
 ],
 "metadata": {
  "interpreter": {
   "hash": "aee8b7b246df8f9039afb4144a1f6fd8d2ca17a180786b69acc140d282b71a49"
  },
  "kernelspec": {
   "display_name": "Python 3.10.1 64-bit",
   "language": "python",
   "name": "python3"
  },
  "language_info": {
   "codemirror_mode": {
    "name": "ipython",
    "version": 3
   },
   "file_extension": ".py",
   "mimetype": "text/x-python",
   "name": "python",
   "nbconvert_exporter": "python",
   "pygments_lexer": "ipython3",
   "version": "3.10.1"
  },
  "orig_nbformat": 4
 },
 "nbformat": 4,
 "nbformat_minor": 2
}
