{
 "cells": [
  {
   "cell_type": "code",
   "execution_count": 21,
   "metadata": {},
   "outputs": [
    {
     "data": {
      "text/plain": [
       "2"
      ]
     },
     "execution_count": 21,
     "metadata": {},
     "output_type": "execute_result"
    }
   ],
   "source": [
    "l = [0,0,2,3]\n",
    "l.index(2)"
   ]
  },
  {
   "cell_type": "code",
   "execution_count": 32,
   "metadata": {},
   "outputs": [
    {
     "data": {
      "text/plain": [
       "[]"
      ]
     },
     "execution_count": 32,
     "metadata": {},
     "output_type": "execute_result"
    }
   ],
   "source": [
    "import collections\n",
    "\n",
    "\n",
    "def f(numCourses: int, prerequisites: list):\n",
    "    neis = [[] for _ in range(numCourses)]  # 索引邻接表\n",
    "    x = [0] * numCourses  # 索引入度表\n",
    "    for cur, need in prerequisites:\n",
    "        x[cur] += 1\n",
    "        neis[need].append(cur)\n",
    "    q = collections.deque([])\n",
    "    for i in range(numCourses):  # 先把所有入度为0的入队\n",
    "        if x[i] == 0:\n",
    "            q.append(i)\n",
    "    # print(x, neis)\n",
    "    res = []\n",
    "    while q:\n",
    "        sz = len(q)\n",
    "        for _ in range(sz):\n",
    "            cur = q.popleft()\n",
    "            res.append(cur)\n",
    "            for nei in neis[cur]:\n",
    "                x[nei] -= 1\n",
    "                if x[nei] == 0:\n",
    "                    q.append(nei)\n",
    "    return res if len(res) == numCourses else []\n",
    "\n",
    "f(4, [[1, 0], [2, 0], [3, 1], [3, 2]]), f(1, [])\n",
    "f(4, [[1, 0], [0, 2], [2, 1], [0, 3]])\n",
    "f(3,[[1,2],[1,0],[0,1]])"
   ]
  },
  {
   "cell_type": "code",
   "execution_count": 33,
   "metadata": {},
   "outputs": [
    {
     "data": {
      "text/plain": [
       "[]"
      ]
     },
     "execution_count": 33,
     "metadata": {},
     "output_type": "execute_result"
    }
   ],
   "source": [
    "import collections\n",
    "\n",
    "\n",
    "def f(numCourses: int, prerequisites: list):\n",
    "    neis = collections.defaultdict(list)  # 邻接表\n",
    "    indegree = collections.defaultdict(int)  # 入度表\n",
    "    for cur, need in prerequisites:\n",
    "        indegree[cur] += 1\n",
    "        neis[need].append(cur)\n",
    "    q = collections.deque([i for i in range(numCourses) if indegree[i] == 0])  # 先把所有入度为0的入队\n",
    "    # print(x, neis)\n",
    "    res = []\n",
    "    while q:\n",
    "        sz = len(q)\n",
    "        for _ in range(sz):\n",
    "            cur = q.popleft()\n",
    "            res.append(cur)\n",
    "            for nei in neis[cur]:\n",
    "                indegree[nei] -= 1\n",
    "                if indegree[nei] == 0:\n",
    "                    q.append(nei)\n",
    "    return res if len(res) == numCourses else []\n",
    "\n",
    "\n",
    "f(4, [[1, 0], [2, 0], [3, 1], [3, 2]]), f(1, [])\n",
    "f(4, [[1, 0], [0, 2], [2, 1], [0, 3]])\n",
    "f(3, [[1, 2], [1, 0], [0, 1]])\n"
   ]
  },
  {
   "cell_type": "code",
   "execution_count": null,
   "metadata": {},
   "outputs": [],
   "source": []
  }
 ],
 "metadata": {
  "interpreter": {
   "hash": "aee8b7b246df8f9039afb4144a1f6fd8d2ca17a180786b69acc140d282b71a49"
  },
  "kernelspec": {
   "display_name": "Python 3.10.1 64-bit",
   "language": "python",
   "name": "python3"
  },
  "language_info": {
   "codemirror_mode": {
    "name": "ipython",
    "version": 3
   },
   "file_extension": ".py",
   "mimetype": "text/x-python",
   "name": "python",
   "nbconvert_exporter": "python",
   "pygments_lexer": "ipython3",
   "version": "3.10.1"
  },
  "orig_nbformat": 4
 },
 "nbformat": 4,
 "nbformat_minor": 2
}
