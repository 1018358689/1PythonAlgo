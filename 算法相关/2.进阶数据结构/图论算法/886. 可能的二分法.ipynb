{
 "cells": [
  {
   "cell_type": "code",
   "execution_count": 2,
   "metadata": {},
   "outputs": [
    {
     "data": {
      "text/plain": [
       "[[], [], [], []]"
      ]
     },
     "execution_count": 2,
     "metadata": {},
     "output_type": "execute_result"
    }
   ],
   "source": [
    "[[] for _ in range(4)]"
   ]
  },
  {
   "cell_type": "code",
   "execution_count": 15,
   "metadata": {},
   "outputs": [
    {
     "data": {
      "text/plain": [
       "(True, False)"
      ]
     },
     "execution_count": 15,
     "metadata": {},
     "output_type": "execute_result"
    }
   ],
   "source": [
    "def f(N: int, dislikes: list):\n",
    "    neis = [[] for _ in range(N + 1)]\n",
    "    for cur, nei in dislikes:\n",
    "        neis[cur].append(nei)\n",
    "        neis[nei].append(cur)\n",
    "    colors = [0] * (N + 1)  # 0表示没涂过 -1 1颜色\n",
    "\n",
    "    def dfs(node: int):\n",
    "        for nei in neis[node]:\n",
    "            if colors[nei] == 0:  # 没涂过\n",
    "                colors[nei] = -colors[node]\n",
    "                if dfs(nei):\n",
    "                    return True\n",
    "            else:  # nei已经有颜色了 成环\n",
    "                if colors[nei] == colors[node]:  # 和前面颜色一样 直接退出\n",
    "                    return True\n",
    "                else:  # 和前面颜色不一样 但成环 则回溯继续\n",
    "                    continue\n",
    "        return False  # 全部邻接点没有触发True\n",
    "\n",
    "    for i in range(1, N + 1):\n",
    "        if colors[i] == 0:\n",
    "            colors[i] = 1\n",
    "            if dfs(i):\n",
    "                return False\n",
    "    return True\n",
    "\n",
    "\n",
    "f(4, [[1, 2], [1, 3], [2, 4]]), f(5, [[1, 2], [2, 3], [3, 4], [4, 5], [1, 5]])\n"
   ]
  },
  {
   "cell_type": "code",
   "execution_count": 17,
   "metadata": {},
   "outputs": [
    {
     "data": {
      "text/plain": [
       "(True, False)"
      ]
     },
     "execution_count": 17,
     "metadata": {},
     "output_type": "execute_result"
    }
   ],
   "source": [
    "def f(N: int, dislikes: list):\n",
    "    neis = [[] for _ in range(N + 1)]\n",
    "    for cur, nei in dislikes:\n",
    "        neis[cur].append(nei)\n",
    "        neis[nei].append(cur)\n",
    "    colors = [0] * (N + 1)  # 0表示没涂过 1 2颜色\n",
    "    visited = [0] * (N + 1)\n",
    "\n",
    "    def dfs(node: int):\n",
    "        visited[node] = 1\n",
    "        for nei in neis[node]:\n",
    "            if visited[nei] == 0:\n",
    "                colors[nei] = 1 if colors[node] == 2 else 2\n",
    "                if dfs(nei):\n",
    "                    return True  # 确定发现不是二分图 直接退出\n",
    "            else:  # 重复访问:走到环连接处 判断是不是相邻颜色一样 一样就直接触发True退出 不一样则回溯\n",
    "                if colors[node] == colors[nei]:\n",
    "                    return True\n",
    "        return False  # 走到底没有环或有环没有触发True 则没有发现不是二分图\n",
    "\n",
    "    for i in range(1, N + 1):\n",
    "        if visited[i] == 0:  # 访问过不用访问 以及对单独成图的进行访问\n",
    "            colors[i] = 1\n",
    "            if dfs(i):\n",
    "                return False\n",
    "    return True\n",
    "\n",
    "\n",
    "f(4, [[1, 2], [1, 3], [2, 4]]), f(5, [[1, 2], [2, 3], [3, 4], [4, 5], [1, 5]])\n"
   ]
  },
  {
   "cell_type": "code",
   "execution_count": 3,
   "metadata": {},
   "outputs": [
    {
     "data": {
      "text/plain": [
       "True"
      ]
     },
     "execution_count": 3,
     "metadata": {},
     "output_type": "execute_result"
    }
   ],
   "source": [
    "import collections\n",
    "\n",
    "\n",
    "def f(N: int, dislikes: list):\n",
    "    neis = [[] for _ in range(N + 1)]\n",
    "    for cur, nei in dislikes:\n",
    "        neis[cur].append(nei)\n",
    "        neis[nei].append(cur)\n",
    "    colors = [0] * (N + 1)  # 0表示没涂过 -1 1颜色\n",
    "\n",
    "    def bfs(node: int):\n",
    "        q = collections.deque([node])\n",
    "        while q:\n",
    "            sz = len(q)\n",
    "            for _ in range(sz):\n",
    "                cur = q.popleft()\n",
    "                for nei in neis[cur]:\n",
    "                    if colors[nei] == 0:  # 邻接点未访问过\n",
    "                        colors[nei] = -colors[cur]  # 给他一个相反色\n",
    "                        q.append(nei)  # 加入队列\n",
    "                    else:  # 访问过 意味成环\n",
    "                        if colors[nei] == colors[cur]:  # 颜色和cur一样 直接退出\n",
    "                            return True\n",
    "                        else:  # 成环但颜色不一样 则跳过他\n",
    "                            continue\n",
    "        return False  # 整个过程没有触发True\n",
    "\n",
    "    for i in range(1, N + 1):\n",
    "        if colors[i] == 0:\n",
    "            colors[i] = 1\n",
    "            if bfs(i):  # 返回True 则碰到环颜色一样\n",
    "                return False\n",
    "    return True\n",
    "\n",
    "\n",
    "f(4, [[1, 2], [1, 3], [2, 4]])\n",
    "# f(5, [[1, 2], [2, 3], [3, 4], [4, 5], [1, 5]])\n"
   ]
  },
  {
   "cell_type": "code",
   "execution_count": 2,
   "metadata": {},
   "outputs": [
    {
     "data": {
      "text/plain": [
       "'12'"
      ]
     },
     "execution_count": 2,
     "metadata": {},
     "output_type": "execute_result"
    }
   ],
   "source": [
    "l=[1,2]\n",
    "''.join(map(str,l))"
   ]
  },
  {
   "cell_type": "code",
   "execution_count": null,
   "metadata": {},
   "outputs": [],
   "source": []
  }
 ],
 "metadata": {
  "interpreter": {
   "hash": "aee8b7b246df8f9039afb4144a1f6fd8d2ca17a180786b69acc140d282b71a49"
  },
  "kernelspec": {
   "display_name": "Python 3.10.1 64-bit",
   "language": "python",
   "name": "python3"
  },
  "language_info": {
   "codemirror_mode": {
    "name": "ipython",
    "version": 3
   },
   "file_extension": ".py",
   "mimetype": "text/x-python",
   "name": "python",
   "nbconvert_exporter": "python",
   "pygments_lexer": "ipython3",
   "version": "3.10.1"
  },
  "orig_nbformat": 4
 },
 "nbformat": 4,
 "nbformat_minor": 2
}
