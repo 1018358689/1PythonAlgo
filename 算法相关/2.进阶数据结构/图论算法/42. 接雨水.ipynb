{
 "cells": [
  {
   "cell_type": "code",
   "execution_count": 3,
   "metadata": {},
   "outputs": [
    {
     "data": {
      "text/plain": [
       "6"
      ]
     },
     "execution_count": 3,
     "metadata": {},
     "output_type": "execute_result"
    }
   ],
   "source": [
    "# 单调栈\n",
    "def f(height: list):\n",
    "    stack = []  # 递减栈\n",
    "    ans = 0\n",
    "    for i, n in enumerate(height):\n",
    "        while stack and height[stack[-1]] < n:\n",
    "            top = stack.pop()\n",
    "            if stack:\n",
    "                ans += (min(height[stack[-1]], n) - height[top]) * (i - stack[-1] - 1)\n",
    "        stack.append(i)\n",
    "    return ans\n",
    "\n",
    "\n",
    "f([0, 1, 0, 2, 1, 0, 1, 3, 2, 1, 2, 1])\n"
   ]
  },
  {
   "cell_type": "code",
   "execution_count": 14,
   "metadata": {},
   "outputs": [
    {
     "name": "stdout",
     "output_type": "stream",
     "text": [
      "3 2\n",
      "3 1\n",
      "4 0\n"
     ]
    },
    {
     "data": {
      "text/plain": [
       "1"
      ]
     },
     "execution_count": 14,
     "metadata": {},
     "output_type": "execute_result"
    }
   ],
   "source": [
    "# 木桶原理\n",
    "import heapq\n",
    "\n",
    "\n",
    "def f(height: list):\n",
    "    sz = len(height)\n",
    "    pq = [(height[0], 0), (height[sz - 1], sz - 1)]\n",
    "    heapq.heapify(pq)\n",
    "    vis = {0, sz - 1}\n",
    "    ans = 0\n",
    "    while pq:\n",
    "        minHeight, cur = heapq.heappop(pq)\n",
    "        print(minHeight, cur)\n",
    "        for nei in (cur - 1, cur + 1):\n",
    "            if 0 <= nei < sz and nei not in vis:\n",
    "                neiHeight = height[nei]\n",
    "                vis.add(nei)\n",
    "                ans += max(0, minHeight - neiHeight)\n",
    "                heapq.heappush(pq, (max(neiHeight, minHeight), nei))\n",
    "    return ans\n",
    "\n",
    "\n",
    "# f([0, 1, 0, 2, 1, 0, 1, 3, 2, 1, 2, 1])\n",
    "f([4, 2, 3])\n"
   ]
  },
  {
   "cell_type": "code",
   "execution_count": 7,
   "metadata": {},
   "outputs": [
    {
     "data": {
      "text/plain": [
       "6"
      ]
     },
     "execution_count": 7,
     "metadata": {},
     "output_type": "execute_result"
    }
   ],
   "source": [
    "# 双指针\n",
    "def f(height: list):\n",
    "    sz = len(height)\n",
    "    l, r = 0, sz - 1\n",
    "    ans = 0\n",
    "    while l < r:\n",
    "        if height[l] < height[r]:\n",
    "            ans += max(0, height[l] - height[l + 1])\n",
    "            height[l + 1] = max(height[l + 1], height[l])\n",
    "            l += 1\n",
    "        else:\n",
    "            ans += max(0, height[r] - height[r - 1])\n",
    "            height[r - 1] = max(height[r - 1], height[r])\n",
    "            r -= 1\n",
    "    return ans\n",
    "\n",
    "\n",
    "f([0, 1, 0, 2, 1, 0, 1, 3, 2, 1, 2, 1])\n"
   ]
  },
  {
   "cell_type": "code",
   "execution_count": 11,
   "metadata": {},
   "outputs": [
    {
     "data": {
      "text/plain": [
       "9"
      ]
     },
     "execution_count": 11,
     "metadata": {},
     "output_type": "execute_result"
    }
   ],
   "source": [
    "# 动态规划\n",
    "# 储存每个点左边和右边最大值\n",
    "# 俩最大值的较小值即为木桶原理的短板\n",
    "def f(height: list):\n",
    "    sz = len(height)\n",
    "    leftMax = [0] * sz\n",
    "    rightMax = [0] * sz\n",
    "    for i in range(1, sz):\n",
    "        leftMax[i] = max(leftMax[i - 1], height[i - 1])\n",
    "    for i in range(sz - 2, -1, -1):\n",
    "        rightMax[i] = max(rightMax[i + 1], height[i + 1])\n",
    "    ans = 0\n",
    "    for i, n in enumerate(height):\n",
    "        ans += max(0, min(leftMax[i], rightMax[i]) - n)\n",
    "    return ans\n",
    "\n",
    "\n",
    "f([0, 1, 0, 2, 1, 0, 1, 3, 2, 1, 2, 1])\n",
    "f([4, 2, 0, 3, 2, 5])\n"
   ]
  },
  {
   "cell_type": "code",
   "execution_count": null,
   "metadata": {},
   "outputs": [],
   "source": []
  }
 ],
 "metadata": {
  "interpreter": {
   "hash": "aee8b7b246df8f9039afb4144a1f6fd8d2ca17a180786b69acc140d282b71a49"
  },
  "kernelspec": {
   "display_name": "Python 3.10.1 64-bit",
   "language": "python",
   "name": "python3"
  },
  "language_info": {
   "codemirror_mode": {
    "name": "ipython",
    "version": 3
   },
   "file_extension": ".py",
   "mimetype": "text/x-python",
   "name": "python",
   "nbconvert_exporter": "python",
   "pygments_lexer": "ipython3",
   "version": "3.10.1"
  },
  "orig_nbformat": 4
 },
 "nbformat": 4,
 "nbformat_minor": 2
}
