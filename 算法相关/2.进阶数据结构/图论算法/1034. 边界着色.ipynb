{
 "cells": [
  {
   "cell_type": "code",
   "execution_count": 4,
   "metadata": {},
   "outputs": [
    {
     "data": {
      "text/plain": [
       "([[1, 1], [3]], [[1, 2], [3]])"
      ]
     },
     "execution_count": 4,
     "metadata": {},
     "output_type": "execute_result"
    }
   ],
   "source": [
    "import copy\n",
    "a=[[1,2],[3]]\n",
    "b=copy.deepcopy(a)\n",
    "a[0][1]=1\n",
    "a,b"
   ]
  },
  {
   "cell_type": "code",
   "execution_count": 23,
   "metadata": {},
   "outputs": [
    {
     "data": {
      "text/plain": [
       "[[1, 1, 1, 1, 1, 2], [1, 2, 1, 1, 1, 2], [1, 1, 1, 1, 1, 2]]"
      ]
     },
     "execution_count": 23,
     "metadata": {},
     "output_type": "execute_result"
    }
   ],
   "source": [
    "import copy, collections\n",
    "\n",
    "\n",
    "def f(grid: list, row: int, col: int, color: int):\n",
    "    rows, cols = len(grid), len(grid[0])\n",
    "    q = collections.deque([(row, col)])\n",
    "    need_color = grid[row][col]\n",
    "    visited = set() # 记录走过点 避免回头路\n",
    "    res = set() # 需要染色的边界点\n",
    "    # 启动bfs\n",
    "    while q:\n",
    "        sz = len(q)\n",
    "        for _ in range(sz):\n",
    "            r, c = q.popleft()\n",
    "            if 0 <= r < rows and 0 <= c < cols and (r, c) not in visited and grid[r][c] == need_color:\n",
    "                # 判断是否为边界点，是则保存\n",
    "                if r == 0 or r == rows - 1 or c == 0 or c == cols - 1 or not (\n",
    "                        grid[r - 1][c] == need_color and grid[r + 1][c] == need_color\n",
    "                        and grid[r][c - 1] == need_color and grid[r][c + 1] == need_color):\n",
    "                    res.add((r, c))\n",
    "                visited.add((r, c))\n",
    "                for nr, nc in ((r - 1, c), (r + 1, c), (r, c + 1), (r, c - 1)):\n",
    "                    q.append((nr, nc))\n",
    "    # print(res)\n",
    "    # 对边界点染色\n",
    "    for r, c in res:\n",
    "        grid[r][c] = color\n",
    "    return grid\n",
    "\n",
    "\n",
    "# f([[1, 1], [1, 2]], 0, 0, 3)\n",
    "# f([[1, 1, 1], [1, 1, 1], [1, 1, 1]], 1, 1, 2)\n",
    "f([[1, 2, 1, 2, 1, 2], [2, 2, 2, 2, 1, 2], [1, 2, 2, 2, 1, 2]], 1, 3, 1)\n"
   ]
  },
  {
   "cell_type": "code",
   "execution_count": 25,
   "metadata": {},
   "outputs": [
    {
     "data": {
      "text/plain": [
       "[[1, 1, 1, 1, 1, 2], [1, 2, 1, 1, 1, 2], [1, 1, 1, 1, 1, 2]]"
      ]
     },
     "execution_count": 25,
     "metadata": {},
     "output_type": "execute_result"
    }
   ],
   "source": [
    "import copy, collections\n",
    "\n",
    "\n",
    "def f(grid: list, row: int, col: int, color: int):\n",
    "    rows, cols = len(grid), len(grid[0])\n",
    "    need_color = grid[row][col]\n",
    "    visited = set()  # 记录走过点 避免回头路\n",
    "    res = set()  # 需要染色的边界点\n",
    "\n",
    "    def dfs(grid, r, c):\n",
    "        # 出界或不是目标色 回溯\n",
    "        if r < 0 or r > rows - 1 or c < 0 or c > cols - 1 or grid[r][c] != need_color:\n",
    "            return\n",
    "        # 访问过 回溯\n",
    "        if (r, c) in visited:\n",
    "            return\n",
    "        # 判断是否边界点 是则记录\n",
    "        if r == 0 or r == rows - 1 or c == 0 or c == cols - 1 or not (\n",
    "                grid[r - 1][c] == need_color and grid[r + 1][c] == need_color and grid[r][c - 1] == need_color\n",
    "                and grid[r][c + 1] == need_color):\n",
    "            res.add((r, c))\n",
    "        visited.add((r, c))  # 记录该点 表示走过\n",
    "        # 四向前进递归\n",
    "        for nr, nc in ((r - 1, c), (r + 1, c), (r, c - 1), (r, c + 1)):\n",
    "            dfs(grid, nr, nc)\n",
    "\n",
    "    dfs(grid, row, col)\n",
    "    # 对边界点染色\n",
    "    for r, c in res:\n",
    "        grid[r][c] = color\n",
    "    return grid\n",
    "\n",
    "\n",
    "f([[1, 2, 1, 2, 1, 2], [2, 2, 2, 2, 1, 2], [1, 2, 2, 2, 1, 2]], 1, 3, 1)\n"
   ]
  },
  {
   "cell_type": "markdown",
   "metadata": {},
   "source": [
    "翻译一下题目： 连通分量指的是上下左右四个方向中某个方向挨着，并且颜色相同的格子的集合（就是挨着的格子）\n",
    "边界着色：row、col这个坐标指向的连通分量中挨着其他颜色的格子或者挨着矩阵边界的格子称为边界，将这些边界着色。"
   ]
  },
  {
   "cell_type": "code",
   "execution_count": 1,
   "metadata": {},
   "outputs": [],
   "source": [
    "def f(grid: list, row: int, col: int, color: int):\n",
    "    rows, cols = len(grid), len(grid[0])\n",
    "    need = grid[row][col]\n",
    "    q = collections.deque([(row, col)])\n",
    "    ans = set()\n",
    "    vis = set(q)\n",
    "    while q:\n",
    "        r, c = q.popleft()\n",
    "        # 判断是否为边界点，是则保存\n",
    "        if r == 0 or r == rows - 1 or c == 0 or c == cols - 1 or not (grid[r - 1][c] == need and grid[r + 1][c] == need and grid[r][c - 1] == need and grid[r][c + 1] == need):\n",
    "            ans.add((r, c))\n",
    "        for nr, nc in ((r - 1, c), (r + 1, c), (r, c - 1), (r, c + 1)):\n",
    "            if 0 <= nr < rows and 0 <= nc < cols and (nr, nc) not in vis and grid[nr][nc] == need:\n",
    "                vis.add((nr, nc))\n",
    "                q.append((nr, nc))\n",
    "    for r, c in ans:\n",
    "        grid[r][c] = color\n",
    "    return grid"
   ]
  },
  {
   "cell_type": "code",
   "execution_count": null,
   "metadata": {},
   "outputs": [],
   "source": []
  }
 ],
 "metadata": {
  "interpreter": {
   "hash": "004de6046f1b3d314f33fdb43a2dc798b2646e5600efd8df5066c8b63a00ff6d"
  },
  "kernelspec": {
   "display_name": "Python 3.8.10 64-bit",
   "language": "python",
   "name": "python3"
  },
  "language_info": {
   "codemirror_mode": {
    "name": "ipython",
    "version": 3
   },
   "file_extension": ".py",
   "mimetype": "text/x-python",
   "name": "python",
   "nbconvert_exporter": "python",
   "pygments_lexer": "ipython3",
   "version": "3.10.4"
  },
  "orig_nbformat": 4
 },
 "nbformat": 4,
 "nbformat_minor": 2
}
