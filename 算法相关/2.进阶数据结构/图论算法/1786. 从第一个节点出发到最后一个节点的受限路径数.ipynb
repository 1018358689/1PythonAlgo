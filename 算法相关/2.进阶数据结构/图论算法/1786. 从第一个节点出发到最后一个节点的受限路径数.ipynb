{
 "cells": [
  {
   "cell_type": "code",
   "execution_count": 3,
   "metadata": {},
   "outputs": [
    {
     "data": {
      "text/plain": [
       "3"
      ]
     },
     "execution_count": 3,
     "metadata": {},
     "output_type": "execute_result"
    }
   ],
   "source": [
    "import heapq\n",
    "import functools\n",
    "\n",
    "\n",
    "def f(n: int, edges: list):\n",
    "    mod = 10**9 + 7\n",
    "    neis = [[] for _ in range(n + 1)]\n",
    "    for x, y, c in edges:\n",
    "        neis[x].append((y, c))\n",
    "        neis[y].append((x, c))\n",
    "    pq = []\n",
    "    heapq.heappush(pq, (0, n))  # cost(priority) location\n",
    "    costs = {n: 0}\n",
    "    while pq:\n",
    "        curCost, cur = heapq.heappop(pq)\n",
    "        for nei, cost in neis[cur]:\n",
    "            neiCost = curCost + cost\n",
    "            if nei not in costs or neiCost < costs[nei]:\n",
    "                costs[nei] = neiCost\n",
    "                heapq.heappush(pq, (neiCost, nei))\n",
    "\n",
    "    @functools.lru_cache(None)\n",
    "    def dfs(root):  # 从节点root到节点n的受限路径数\n",
    "        # base case\n",
    "        if root == n:\n",
    "            return 1\n",
    "\n",
    "        total = 0\n",
    "        for v, _ in neis[root]:  # 对邻接点受限路径的继承\n",
    "            if costs[root] > costs[v]:\n",
    "                total += dfs(v)\n",
    "                total %= mod\n",
    "\n",
    "        return total\n",
    "\n",
    "    return dfs(1)\n",
    "\n",
    "\n",
    "f(5, [[1, 2, 3], [1, 3, 3], [2, 3, 1], [1, 4, 2], [5, 2, 2], [3, 5, 1], [5, 4, 10]])\n"
   ]
  },
  {
   "cell_type": "code",
   "execution_count": null,
   "metadata": {},
   "outputs": [],
   "source": [
    "import heapq\n",
    "import functools\n",
    "\n",
    "\n",
    "def f(n: int, edges: list):\n",
    "    mod = 10**9 + 7\n",
    "    neis = [[] for _ in range(n + 1)]\n",
    "    for x, y, c in edges:\n",
    "        neis[x].append((y, c))\n",
    "        neis[y].append((x, c))\n",
    "    pq = []\n",
    "    heapq.heappush(pq, (0, n))  # cost(priority) location\n",
    "    costs = {n: 0}\n",
    "    while pq:\n",
    "        curCost, cur = heapq.heappop(pq)\n",
    "        for nei, cost in neis[cur]:\n",
    "            neiCost = curCost + cost\n",
    "            if nei not in costs or neiCost < costs[nei]:\n",
    "                costs[nei] = neiCost\n",
    "                heapq.heappush(pq, (neiCost, nei))\n",
    "\n",
    "    @functools.lru_cache(None)\n",
    "    def dfs(root):  # 从节点root到节点n的受限路径数\n",
    "        # base case\n",
    "        if root == n:\n",
    "            return 1\n",
    "\n",
    "        total = 0\n",
    "        for v, _ in neis[root]:  # 对邻接点受限路径的继承\n",
    "            if costs[root] > costs[v]:\n",
    "                total += dfs(v)\n",
    "                total %= mod\n",
    "\n",
    "        return total\n",
    "\n",
    "    return dfs(1)\n",
    "\n",
    "\n",
    "f(5, [[1, 2, 3], [1, 3, 3], [2, 3, 1], [1, 4, 2], [5, 2, 2], [3, 5, 1], [5, 4, 10]])\n"
   ]
  },
  {
   "cell_type": "code",
   "execution_count": 6,
   "metadata": {},
   "outputs": [
    {
     "data": {
      "text/plain": [
       "3"
      ]
     },
     "execution_count": 6,
     "metadata": {},
     "output_type": "execute_result"
    }
   ],
   "source": [
    "import heapq\n",
    "import functools\n",
    "import collections\n",
    "\n",
    "\n",
    "def f(n: int, edges: list):\n",
    "    mod = 10**9 + 7\n",
    "    neis = collections.defaultdict(list)  # 改dict没有提速\n",
    "    for x, y, c in edges:\n",
    "        neis[x].append((y, c))\n",
    "        neis[y].append((x, c))\n",
    "    pq = []\n",
    "    heapq.heappush(pq, (0, n))  # cost(priority) location\n",
    "    costs = {n: 0}\n",
    "    while pq:\n",
    "        curCost, cur = heapq.heappop(pq)\n",
    "        for nei, cost in neis[cur]:\n",
    "            neiCost = curCost + cost\n",
    "            if nei not in costs or neiCost < costs[nei]:\n",
    "                costs[nei] = neiCost\n",
    "                heapq.heappush(pq, (neiCost, nei))\n",
    "\n",
    "    mem = {n: 1}\n",
    "\n",
    "    def dfs(root):\n",
    "        if root in mem:\n",
    "            return mem[root]\n",
    "\n",
    "        mem[root] = 0\n",
    "        for v, _ in neis[root]:\n",
    "            if costs[root] > costs[v]:\n",
    "                mem[root] += dfs(v)\n",
    "                mem[root] %= mod\n",
    "\n",
    "        return mem[root]\n",
    "\n",
    "    return dfs(1)\n",
    "\n",
    "\n",
    "f(5, [[1, 2, 3], [1, 3, 3], [2, 3, 1], [1, 4, 2], [5, 2, 2], [3, 5, 1], [5, 4, 10]])\n"
   ]
  },
  {
   "cell_type": "code",
   "execution_count": null,
   "metadata": {},
   "outputs": [],
   "source": [
    "import heapq\n",
    "import functools\n",
    "import collections\n",
    "\n",
    "def f(n: int, edges: list):\n",
    "    mod = 10**9 + 7\n",
    "    neis = collections.defaultdict(list) # 改dict没有提速\n",
    "    for x, y, c in edges:\n",
    "        neis[x].append((y, c))\n",
    "        neis[y].append((x, c))\n",
    "    pq = []\n",
    "    heapq.heappush(pq, (0, n))  # cost(priority) location\n",
    "    costs = {n: 0}\n",
    "    while pq:\n",
    "        curCost, cur = heapq.heappop(pq)\n",
    "        for nei, cost in neis[cur]:\n",
    "            neiCost = curCost + cost\n",
    "            if nei not in costs or neiCost < costs[nei]:\n",
    "                costs[nei] = neiCost\n",
    "                heapq.heappush(pq, (neiCost, nei))\n",
    "\n",
    "    @functools.lru_cache(None)\n",
    "    def dfs(root):\n",
    "        # base case\n",
    "        if root == n:\n",
    "            return 1\n",
    "\n",
    "        total = 0\n",
    "        for v, _ in neis[root]:\n",
    "            if costs[root] > costs[v]:\n",
    "                total += dfs(v)\n",
    "                total %= mod\n",
    "\n",
    "        return total\n",
    "\n",
    "    return dfs(1)\n",
    "\n",
    "\n",
    "f(5, [[1, 2, 3], [1, 3, 3], [2, 3, 1], [1, 4, 2], [5, 2, 2], [3, 5, 1], [5, 4, 10]])\n"
   ]
  },
  {
   "cell_type": "code",
   "execution_count": 5,
   "metadata": {},
   "outputs": [
    {
     "data": {
      "text/plain": [
       "3"
      ]
     },
     "execution_count": 5,
     "metadata": {},
     "output_type": "execute_result"
    }
   ],
   "source": [
    "import heapq\n",
    "import functools\n",
    "\n",
    "\n",
    "def f(n: int, edges: list):\n",
    "    mod = 10**9 + 7\n",
    "    neis = [[] for _ in range(n + 1)]\n",
    "    for x, y, c in edges:\n",
    "        neis[x].append((y, c))\n",
    "        neis[y].append((x, c))\n",
    "    pq = []\n",
    "    heapq.heappush(pq, (0, n))  # cost(priority) location\n",
    "    costs = {n: 0}\n",
    "    best = set()  # 也没有提速\n",
    "    while pq:\n",
    "        curCost, cur = heapq.heappop(pq)\n",
    "        best.add(cur)\n",
    "        for nei, cost in neis[cur]:\n",
    "            if nei not in best:\n",
    "                neiCost = curCost + cost\n",
    "                if nei not in costs or neiCost < costs[nei]:\n",
    "                    costs[nei] = neiCost\n",
    "                    heapq.heappush(pq, (neiCost, nei))\n",
    "\n",
    "    # dp[i] 节点i到节点n的受限路径数\n",
    "    dp = [0] * (n + 1)\n",
    "    dp[n] = 1\n",
    "    arr = sorted(range(1,n+1), key=lambda x: costs[x])\n",
    "    for node in arr:\n",
    "        for nei, _ in neis[node]:\n",
    "            if costs[nei] < costs[node]:\n",
    "                dp[node] += dp[nei]\n",
    "                dp[node] %= mod\n",
    "        if node == 1:\n",
    "            break\n",
    "    return dp[1] % mod\n",
    "\n",
    "\n",
    "f(5, [[1, 2, 3], [1, 3, 3], [2, 3, 1], [1, 4, 2], [5, 2, 2], [3, 5, 1], [5, 4, 10]])\n"
   ]
  },
  {
   "cell_type": "code",
   "execution_count": null,
   "metadata": {},
   "outputs": [],
   "source": []
  }
 ],
 "metadata": {
  "interpreter": {
   "hash": "aee8b7b246df8f9039afb4144a1f6fd8d2ca17a180786b69acc140d282b71a49"
  },
  "kernelspec": {
   "display_name": "Python 3.10.1 64-bit",
   "language": "python",
   "name": "python3"
  },
  "language_info": {
   "codemirror_mode": {
    "name": "ipython",
    "version": 3
   },
   "file_extension": ".py",
   "mimetype": "text/x-python",
   "name": "python",
   "nbconvert_exporter": "python",
   "pygments_lexer": "ipython3",
   "version": "3.10.1"
  },
  "orig_nbformat": 4
 },
 "nbformat": 4,
 "nbformat_minor": 2
}
