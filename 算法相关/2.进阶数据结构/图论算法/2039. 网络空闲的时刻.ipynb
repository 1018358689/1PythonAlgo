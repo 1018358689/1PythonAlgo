{
 "cells": [
  {
   "cell_type": "code",
   "execution_count": 3,
   "metadata": {},
   "outputs": [
    {
     "data": {
      "text/plain": [
       "8"
      ]
     },
     "execution_count": 3,
     "metadata": {},
     "output_type": "execute_result"
    }
   ],
   "source": [
    "import collections\n",
    "\n",
    "\n",
    "def f(edges: list, patience: list):\n",
    "    sz = len(patience)\n",
    "    neis = [[] for _ in range(sz)]\n",
    "    for x, y in edges:\n",
    "        neis[x].append(y)\n",
    "        neis[y].append(x)\n",
    "    q = collections.deque([(0, 0)])\n",
    "    costs = {0: 0}\n",
    "    while q:\n",
    "        cur, step = q.popleft()\n",
    "        for nei in neis[cur]:\n",
    "            if nei not in costs:\n",
    "                costs[nei] = step + 1\n",
    "                q.append((nei, step + 1))\n",
    "\n",
    "    def getTime(n: int):\n",
    "        dTime = patience[n]\n",
    "        if dTime == 0:\n",
    "            return 0\n",
    "        longTime = 2 * costs[n]\n",
    "        totalTime = longTime - (longTime % dTime) + longTime\n",
    "        if longTime % dTime == 0:\n",
    "            totalTime -= dTime\n",
    "        return totalTime\n",
    "\n",
    "    return max(getTime(n) for n in range(sz)) + 1\n",
    "\n",
    "\n",
    "f([[0, 1], [1, 2]], [0, 2, 1])\n"
   ]
  },
  {
   "cell_type": "code",
   "execution_count": 8,
   "metadata": {},
   "outputs": [
    {
     "data": {
      "text/plain": [
       "3"
      ]
     },
     "execution_count": 8,
     "metadata": {},
     "output_type": "execute_result"
    }
   ],
   "source": [
    "import heapq\n",
    "\n",
    "\n",
    "def f(edges: list, patience: list):\n",
    "    sz = len(patience)\n",
    "    neis = [[] for _ in range(sz)]\n",
    "    for x, y in edges:\n",
    "        neis[x].append(y)\n",
    "        neis[y].append(x)\n",
    "    pq = []\n",
    "    heapq.heappush(pq, (0, 0))  # step,node\n",
    "    costs = {0: 0}\n",
    "    while pq:\n",
    "        step, cur = heapq.heappop(pq)\n",
    "        for nei in neis[cur]:\n",
    "            if nei not in costs:\n",
    "                costs[nei] = step + 1\n",
    "                heapq.heappush(pq, (step + 1, nei))\n",
    "    ans = 0\n",
    "    for node in range(1, sz):\n",
    "        dTime = patience[node]\n",
    "        thePath = costs[node] * 2\n",
    "        if (x := thePath % dTime) == 0:\n",
    "            curAns = (thePath - dTime + thePath) + 1\n",
    "        else:\n",
    "            curAns = (thePath - x + thePath) + 1\n",
    "        ans = max(ans, curAns)\n",
    "    return ans\n",
    "\n",
    "\n",
    "f([[0, 1], [1, 2]], [0, 2, 1])\n",
    "f([[0, 1], [0, 2], [1, 2]], [0, 10, 10])\n"
   ]
  },
  {
   "cell_type": "code",
   "execution_count": null,
   "metadata": {},
   "outputs": [],
   "source": []
  }
 ],
 "metadata": {
  "interpreter": {
   "hash": "aee8b7b246df8f9039afb4144a1f6fd8d2ca17a180786b69acc140d282b71a49"
  },
  "kernelspec": {
   "display_name": "Python 3.10.1 64-bit",
   "language": "python",
   "name": "python3"
  },
  "language_info": {
   "codemirror_mode": {
    "name": "ipython",
    "version": 3
   },
   "file_extension": ".py",
   "mimetype": "text/x-python",
   "name": "python",
   "nbconvert_exporter": "python",
   "pygments_lexer": "ipython3",
   "version": "3.10.1"
  },
  "orig_nbformat": 4
 },
 "nbformat": 4,
 "nbformat_minor": 2
}
