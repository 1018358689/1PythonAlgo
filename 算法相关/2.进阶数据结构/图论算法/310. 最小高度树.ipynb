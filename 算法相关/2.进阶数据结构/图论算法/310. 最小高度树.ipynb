{
 "cells": [
  {
   "cell_type": "code",
   "execution_count": 16,
   "metadata": {},
   "outputs": [
    {
     "name": "stdout",
     "output_type": "stream",
     "text": [
      "defaultdict(<class 'list'>, {1: [0, 2, 3], 0: [1], 2: [1], 3: [1]})\n",
      "deque([0, 2, 3])\n"
     ]
    },
    {
     "data": {
      "text/plain": [
       "[1]"
      ]
     },
     "execution_count": 16,
     "metadata": {},
     "output_type": "execute_result"
    }
   ],
   "source": [
    "# 剥洋葱\n",
    "import collections\n",
    "\n",
    "\n",
    "def f(n: int, edges: list):\n",
    "    if n == 1:\n",
    "        return [0]\n",
    "    if n == 2:\n",
    "        return [0, 1]\n",
    "    adj = collections.defaultdict(list)\n",
    "    q = collections.deque([])\n",
    "    for i, j in edges:\n",
    "        adj[i].append(j)\n",
    "        adj[j].append(i)\n",
    "    for cur, nei in adj.items():\n",
    "        if len(nei) == 1:\n",
    "            q.append(cur)\n",
    "    while q:\n",
    "        sz = len(q)\n",
    "        for _ in range(sz):\n",
    "            cur = q.popleft()\n",
    "            nei = adj[cur][0]\n",
    "            adj.pop(cur)\n",
    "            adj[nei].remove(cur)\n",
    "            if len(adj[nei]) == 1:\n",
    "                q.append(nei)\n",
    "\n",
    "        n -= sz\n",
    "        if n <= 2:\n",
    "            return list(q)\n",
    "\n",
    "\n",
    "f(4, [[1, 0], [1, 2], [1, 3]])\n"
   ]
  },
  {
   "cell_type": "code",
   "execution_count": 3,
   "metadata": {},
   "outputs": [
    {
     "data": {
      "text/plain": [
       "[3, 4]"
      ]
     },
     "execution_count": 3,
     "metadata": {},
     "output_type": "execute_result"
    }
   ],
   "source": [
    "# 剥洋葱\n",
    "import collections\n",
    "\n",
    "\n",
    "def f(n: int, edges: list):\n",
    "    if n == 1:\n",
    "        return [0]\n",
    "    if n == 2:\n",
    "        return [0, 1]\n",
    "    adj = collections.defaultdict(list)\n",
    "    q = collections.deque([])\n",
    "    outdegree = [0] * n\n",
    "    for i, j in edges:\n",
    "        adj[i].append(j)\n",
    "        adj[j].append(i)\n",
    "    for cur, nei in adj.items():\n",
    "        outdegree[cur] = len(nei)\n",
    "        if len(nei) == 1:\n",
    "            q.append(cur)\n",
    "    vis = set(q)\n",
    "    while q:\n",
    "        sz = len(q)\n",
    "        for _ in range(sz):\n",
    "            cur = q.popleft()\n",
    "            for nei in adj[cur]:\n",
    "                if nei not in vis: # 不走回头路\n",
    "                    outdegree[nei] -= 1 # 内扩出度-1\n",
    "                    if outdegree[nei] == 1: # 如果出度==1 则进入该节点 加入vis\n",
    "                        vis.add(nei)\n",
    "                        q.append(nei)\n",
    "        n -= sz\n",
    "        if n <= 2:\n",
    "            return list(q)\n",
    "\n",
    "\n",
    "f(4, [[1, 0], [1, 2], [1, 3]])\n",
    "f(6, [[3, 0], [3, 1], [3, 2], [3, 4], [5, 4]])\n"
   ]
  },
  {
   "cell_type": "code",
   "execution_count": null,
   "metadata": {},
   "outputs": [],
   "source": []
  }
 ],
 "metadata": {
  "interpreter": {
   "hash": "a5f34674cfcc9b13426a2d112c686bc132e4ef443f1487e707e7c3787d6bcf89"
  },
  "kernelspec": {
   "display_name": "Python 3.10.4 64-bit (windows store)",
   "language": "python",
   "name": "python3"
  },
  "language_info": {
   "codemirror_mode": {
    "name": "ipython",
    "version": 3
   },
   "file_extension": ".py",
   "mimetype": "text/x-python",
   "name": "python",
   "nbconvert_exporter": "python",
   "pygments_lexer": "ipython3",
   "version": "3.10.2"
  },
  "orig_nbformat": 4
 },
 "nbformat": 4,
 "nbformat_minor": 2
}
