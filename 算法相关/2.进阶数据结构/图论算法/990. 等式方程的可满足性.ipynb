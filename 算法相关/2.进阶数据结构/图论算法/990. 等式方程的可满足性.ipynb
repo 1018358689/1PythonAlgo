{
 "cells": [
  {
   "cell_type": "code",
   "execution_count": 3,
   "metadata": {},
   "outputs": [
    {
     "data": {
      "text/plain": [
       "(97, 122)"
      ]
     },
     "execution_count": 3,
     "metadata": {},
     "output_type": "execute_result"
    }
   ],
   "source": [
    "ord('a'),ord('z')"
   ]
  },
  {
   "cell_type": "code",
   "execution_count": 6,
   "metadata": {},
   "outputs": [
    {
     "data": {
      "text/plain": [
       "(False, True)"
      ]
     },
     "execution_count": 6,
     "metadata": {},
     "output_type": "execute_result"
    }
   ],
   "source": [
    "def f(equations: list):\n",
    "    root = list(range(26))\n",
    "    rank = [1] * 26\n",
    "\n",
    "    def find(x: int):\n",
    "        if root[x] == x:\n",
    "            return x\n",
    "        else:\n",
    "            root[x] = find(root[x])\n",
    "            return root[x]\n",
    "\n",
    "    def union(x: int, y: int):\n",
    "        rx, ry = find(x), find(y)\n",
    "        if rx != ry:\n",
    "            if rank[rx] < rank[ry]:\n",
    "                root[rx] = ry\n",
    "            elif rank[rx] > rank[ry]:\n",
    "                root[ry] = rx\n",
    "            else:\n",
    "                root[rx] = ry\n",
    "                rank[ry] += 1\n",
    "\n",
    "    # 将所有相等字母联通\n",
    "    for content in equations:\n",
    "        if content[1] == '=':\n",
    "            x, y = ord(content[0]) - 97, ord(content[-1]) - 97\n",
    "            union(x, y)\n",
    "    # 检察不等关系是否成立 如果同根则提前退出False\n",
    "    for content in equations:\n",
    "        if content[1] == '!':\n",
    "            x, y = ord(content[0]) - 97, ord(content[-1]) - 97\n",
    "            if find(x) == find(y):\n",
    "                return False\n",
    "    return True\n",
    "\n",
    "\n",
    "f([\"a==b\", \"b!=a\"]), f([\"c==c\", \"b==d\", \"x!=z\"])\n"
   ]
  },
  {
   "cell_type": "code",
   "execution_count": null,
   "metadata": {},
   "outputs": [],
   "source": []
  }
 ],
 "metadata": {
  "interpreter": {
   "hash": "aee8b7b246df8f9039afb4144a1f6fd8d2ca17a180786b69acc140d282b71a49"
  },
  "kernelspec": {
   "display_name": "Python 3.10.1 64-bit",
   "language": "python",
   "name": "python3"
  },
  "language_info": {
   "codemirror_mode": {
    "name": "ipython",
    "version": 3
   },
   "file_extension": ".py",
   "mimetype": "text/x-python",
   "name": "python",
   "nbconvert_exporter": "python",
   "pygments_lexer": "ipython3",
   "version": "3.10.1"
  },
  "orig_nbformat": 4
 },
 "nbformat": 4,
 "nbformat_minor": 2
}
