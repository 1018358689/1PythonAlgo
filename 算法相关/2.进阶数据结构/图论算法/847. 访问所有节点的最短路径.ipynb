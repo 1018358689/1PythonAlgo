{
 "cells": [
  {
   "cell_type": "code",
   "execution_count": 12,
   "metadata": {},
   "outputs": [
    {
     "data": {
      "text/plain": [
       "4"
      ]
     },
     "execution_count": 12,
     "metadata": {},
     "output_type": "execute_result"
    }
   ],
   "source": [
    "import heapq\n",
    "\n",
    "\n",
    "def f(graph: list):\n",
    "    sz = len(graph)\n",
    "    pq = []\n",
    "    target = (1 << sz) - 1\n",
    "    costs = {}\n",
    "\n",
    "    def distance(x):\n",
    "        return sz - bin(x).count('1')\n",
    "\n",
    "    for cur in range(sz):\n",
    "        pq.append((0 + distance(1 << cur), 0, cur, 1 << cur))  # priority step location state\n",
    "        costs[(cur, 1 << cur)] = 0\n",
    "    while pq:\n",
    "        _, step, cur, state = heapq.heappop(pq)\n",
    "        if state == target:\n",
    "            return step\n",
    "        for nei in graph[cur]:\n",
    "            neiState = state | (1 << nei)\n",
    "            if (nei, neiState) not in costs:\n",
    "                costs[(nei, neiState)] = step + 1\n",
    "                priority = step + 1 + distance(neiState)\n",
    "                heapq.heappush(pq, (priority, step + 1, nei, neiState))\n",
    "\n",
    "\n",
    "f([[1, 2, 3], [0], [0], [0]])\n"
   ]
  },
  {
   "cell_type": "code",
   "execution_count": 15,
   "metadata": {},
   "outputs": [
    {
     "data": {
      "text/plain": [
       "4"
      ]
     },
     "execution_count": 15,
     "metadata": {},
     "output_type": "execute_result"
    }
   ],
   "source": [
    "import heapq\n",
    "\n",
    "\n",
    "def f(graph: list):\n",
    "    sz = len(graph)\n",
    "    pq = []\n",
    "    target = (1 << sz) - 1\n",
    "    costs = {}\n",
    "\n",
    "    def distance(x):\n",
    "        return sz - bin(x).count('1')\n",
    "\n",
    "    for cur in range(sz):\n",
    "        pq.append((0 + distance(1 << cur), cur, 1 << cur))  # priority step location state\n",
    "        costs[(cur, 1 << cur)] = 0\n",
    "    while pq:\n",
    "        _, cur, state = heapq.heappop(pq)\n",
    "        curCost = costs[(cur, state)]\n",
    "        if state == target:\n",
    "            return curCost\n",
    "        for nei in graph[cur]:\n",
    "            neiState = state | (1 << nei)\n",
    "            if (nei, neiState) not in costs:\n",
    "                costs[(nei, neiState)] = curCost + 1\n",
    "                priority = curCost + 1 + distance(neiState)\n",
    "                heapq.heappush(pq, (priority, nei, neiState))\n",
    "\n",
    "\n",
    "f([[1, 2, 3], [0], [0], [0]])\n"
   ]
  },
  {
   "cell_type": "code",
   "execution_count": null,
   "metadata": {},
   "outputs": [],
   "source": []
  }
 ],
 "metadata": {
  "interpreter": {
   "hash": "aee8b7b246df8f9039afb4144a1f6fd8d2ca17a180786b69acc140d282b71a49"
  },
  "kernelspec": {
   "display_name": "Python 3.10.1 64-bit",
   "language": "python",
   "name": "python3"
  },
  "language_info": {
   "codemirror_mode": {
    "name": "ipython",
    "version": 3
   },
   "file_extension": ".py",
   "mimetype": "text/x-python",
   "name": "python",
   "nbconvert_exporter": "python",
   "pygments_lexer": "ipython3",
   "version": "3.10.1"
  },
  "orig_nbformat": 4
 },
 "nbformat": 4,
 "nbformat_minor": 2
}
