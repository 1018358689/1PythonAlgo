{
 "cells": [
  {
   "cell_type": "code",
   "execution_count": 12,
   "metadata": {},
   "outputs": [
    {
     "name": "stdout",
     "output_type": "stream",
     "text": [
      "[[1, 2, 1, 1, 1],\n",
      " [1, 2, 1, 2, 1],\n",
      " [1, 2, 1, 2, 1],\n",
      " [1, 2, 1, 2, 1],\n",
      " [1, 1, 1, 2, 1]]\n"
     ]
    },
    {
     "data": {
      "text/plain": [
       "0"
      ]
     },
     "execution_count": 12,
     "metadata": {},
     "output_type": "execute_result"
    }
   ],
   "source": [
    "import heapq\n",
    "from pprint import pprint\n",
    "# Dijkstra计算有向加权图最短路径\n",
    "# 1: 三个表 邻接权重表 各点权重表 标记最优表 父节点表(回溯路径用)\n",
    "# 2: 利用堆实现优先队列 弹出最小权重点 标记为最优 后续无需再判断它 \n",
    "# 3: 查找该最优点的邻接点 (已标记最优点跳过) 计算当前权重 判断是否更新\n",
    "\n",
    "def f(heights: list):\n",
    "    pprint(heights)\n",
    "    rows = len(heights)\n",
    "    cols = len(heights[0])\n",
    "    costs = [[float('inf')] * cols for _ in range(rows)]\n",
    "    costs[0][0] = 0\n",
    "    seen = set()\n",
    "    pq = []\n",
    "    heapq.heappush(pq, (0, 0, 0))  # cost,r,c\n",
    "    target = (rows - 1, cols - 1)\n",
    "    while pq:\n",
    "        #1 弹出最小权重点 标记为最优 后续无需再判断它 \n",
    "        cost, r, c = heapq.heappop(pq)\n",
    "        if (r, c) == target:\n",
    "            return cost\n",
    "        seen.add((r, c))\n",
    "        #2 查找邻接点 已标记最优点跳过 计算当前权重 判断是否更新\n",
    "        for nr, nc in ((r - 1, c), (r + 1, c), (r, c - 1), (r, c + 1)):\n",
    "            if 0 <= nr < rows and 0 <= nc < cols and (nr, nc) not in seen:\n",
    "                cur_cost = max(cost, abs(heights[r][c] - heights[nr][nc]))\n",
    "                if cur_cost < costs[nr][nc]:\n",
    "                    costs[nr][nc] = cur_cost\n",
    "                    heapq.heappush(pq, (cur_cost, nr, nc))\n",
    "\n",
    "\n",
    "# f([[1, 2, 2], [3, 8, 2], [5, 3, 5]])\n",
    "# f([[1, 2, 3], [3, 8, 4], [5, 3, 5]])\n",
    "f([[1, 2, 1, 1, 1], [1, 2, 1, 2, 1], [1, 2, 1, 2, 1], [1, 2, 1, 2, 1], [1, 1, 1, 2, 1]])\n"
   ]
  },
  {
   "cell_type": "code",
   "execution_count": 1,
   "metadata": {},
   "outputs": [
    {
     "name": "stdout",
     "output_type": "stream",
     "text": [
      "[[1, 2, 1, 1, 1],\n",
      " [1, 2, 1, 2, 1],\n",
      " [1, 2, 1, 2, 1],\n",
      " [1, 2, 1, 2, 1],\n",
      " [1, 1, 1, 2, 1]]\n"
     ]
    },
    {
     "data": {
      "text/plain": [
       "0"
      ]
     },
     "execution_count": 1,
     "metadata": {},
     "output_type": "execute_result"
    }
   ],
   "source": [
    "from sortedcontainers import SortedList\n",
    "from pprint import pprint\n",
    "# Dijkstra计算有向加权图最短路径\n",
    "# 1: 三个表 邻接权重表 各点权重表 标记最优表 父节点表(回溯路径用)\n",
    "# 2: 利用堆实现优先队列 弹出最小权重点 标记为最优 后续无需再判断它 \n",
    "# 3: 查找该最优点的邻接点 (已标记最优点跳过) 计算当前权重 判断是否更新\n",
    "\n",
    "def f(heights: list):\n",
    "    pprint(heights)\n",
    "    rows = len(heights)\n",
    "    cols = len(heights[0])\n",
    "    costs = [[float('inf')] * cols for _ in range(rows)]\n",
    "    costs[0][0] = 0\n",
    "    seen = set()\n",
    "    pq = SortedList()\n",
    "    pq.add((0, 0, 0))  # cost,r,c\n",
    "    target = (rows - 1, cols - 1)\n",
    "    while pq:\n",
    "        #1 弹出最小权重点 标记为最优 后续无需再判断它 \n",
    "        cost, r, c = pq.pop(0)\n",
    "        if (r, c) == target:\n",
    "            return cost\n",
    "        seen.add((r, c))\n",
    "        #2 查找邻接点 已标记最优点跳过 计算当前权重 判断是否更新\n",
    "        for nr, nc in ((r - 1, c), (r + 1, c), (r, c - 1), (r, c + 1)):\n",
    "            if 0 <= nr < rows and 0 <= nc < cols and (nr, nc) not in seen:\n",
    "                cur_cost = max(cost, abs(heights[r][c] - heights[nr][nc]))\n",
    "                if cur_cost < costs[nr][nc]:\n",
    "                    costs[nr][nc] = cur_cost\n",
    "                    pq.add((cur_cost, nr, nc))\n",
    "\n",
    "\n",
    "# f([[1, 2, 2], [3, 8, 2], [5, 3, 5]])\n",
    "# f([[1, 2, 3], [3, 8, 4], [5, 3, 5]])\n",
    "f([[1, 2, 1, 1, 1], [1, 2, 1, 2, 1], [1, 2, 1, 2, 1], [1, 2, 1, 2, 1], [1, 1, 1, 2, 1]])\n"
   ]
  },
  {
   "cell_type": "code",
   "execution_count": 4,
   "metadata": {},
   "outputs": [
    {
     "data": {
      "text/plain": [
       "0"
      ]
     },
     "execution_count": 4,
     "metadata": {},
     "output_type": "execute_result"
    }
   ],
   "source": [
    "import heapq\n",
    "\n",
    "\n",
    "def f(heights: list):\n",
    "    rows, cols = len(heights), len(heights[0])\n",
    "    frontier = []  # 前沿点\n",
    "    heapq.heappush(frontier, (0, 0, 0))  # 模拟优先队列 cost,r,c\n",
    "    father = dict() # 父节点 回溯路线用 本题没用\n",
    "    costs = dict() # 起始点到当前节点的费用\n",
    "    father[(0, 0)] = None # 初始化\n",
    "    costs[(0, 0)] = 0 # 起始点没费用\n",
    "    while frontier:\n",
    "        cur_cost, r, c = heapq.heappop(frontier) # 弹出的肯定最优点 所以判断放这里\n",
    "        if (r, c) == (rows - 1, cols - 1): # 到目标点提前退出\n",
    "            return cur_cost\n",
    "        # 扩展\n",
    "        for nr, nc in ((r - 1, c), (r + 1, c), (r, c - 1), (r, c + 1)):\n",
    "            if 0 <= nr < rows and 0 <= nc < cols:\n",
    "                nei_cost = max(cur_cost, abs(heights[nr][nc] - heights[r][c])) # 更新当前节点费用\n",
    "                if (nr, nc) not in costs or nei_cost < costs[(nr, nc)]: # 当邻接点未访问过 或 新费用比原来更小 则更新\n",
    "                    costs[(nr, nc)] = nei_cost\n",
    "                    heapq.heappush(frontier, (nei_cost, nr, nc))\n",
    "                    father[(nr, nc)] = (r, c)\n",
    "\n",
    "\n",
    "f([[1, 2, 2], [3, 8, 2], [5, 3, 5]])\n",
    "f([[1, 2, 1, 1, 1], [1, 2, 1, 2, 1], [1, 2, 1, 2, 1], [1, 2, 1, 2, 1], [1, 1, 1, 2, 1]])\n"
   ]
  },
  {
   "cell_type": "code",
   "execution_count": 22,
   "metadata": {},
   "outputs": [
    {
     "name": "stdout",
     "output_type": "stream",
     "text": [
      "{(0, 0): None, (1, 0): (0, 0), (0, 1): (0, 0), (1, 1): (1, 0), (0, 2): (0, 1), (1, 2): (0, 2), (2, 2): (2, 1), (2, 0): (1, 0), (2, 1): (2, 0)}\n"
     ]
    },
    {
     "data": {
      "text/plain": [
       "2"
      ]
     },
     "execution_count": 22,
     "metadata": {},
     "output_type": "execute_result"
    }
   ],
   "source": [
    "import heapq\n",
    "\n",
    "\n",
    "def f(heights: list):\n",
    "    rows, cols = len(heights), len(heights[0])\n",
    "    frontier = []  # 前沿外扩点\n",
    "    heapq.heappush(frontier, (0, 0, 0))  # 模拟优先队列 cost,r,c\n",
    "    best = set()  # 贪心思想得出的最优点\n",
    "    costs = dict()  # 起始点到当前节点的费用\n",
    "    father = dict()  # 父节点 回溯路线用 本题没用\n",
    "    costs[(0, 0)] = 0  # 初始化起始点到起始点费用0\n",
    "    father[(0, 0)] = None  # 初始化起始点的父节点为空\n",
    "    while frontier:\n",
    "        cur_cost, r, c = heapq.heappop(frontier)  # 弹出外围费用最小点\n",
    "        if (r, c) == (rows - 1, cols - 1):  # 提前退出\n",
    "            print(father)\n",
    "            return cur_cost\n",
    "        best.add((r, c))  # 根据贪心思想 弹出的费用最小点就是最优点了 因为其他点费用比他大 经过其他点再到该点费用会更大\n",
    "        for nr, nc in ((r - 1, c), (r + 1, c), (r, c - 1), (r, c + 1)):\n",
    "            if 0 <= nr < rows and 0 <= nc < cols and (\n",
    "                    nr, nc) not in best:  # 防止出界 和 最优点重复判断 其实不用判断最优点也行 因为经过其他点再来到最优点费用肯定更高 如上一个解法\n",
    "                nei_cost = max(cur_cost, abs(heights[nr][nc] - heights[r][c]))  # 更新当前节点费用\n",
    "                if (nr, nc) not in costs or nei_cost < costs[(nr, nc)]:  # 未访问过或新费用更低\n",
    "                    costs[(nr, nc)] = nei_cost\n",
    "                    heapq.heappush(frontier, (nei_cost, nr, nc))\n",
    "                    father[(nr, nc)] = (r, c)  # 记录父节点\n",
    "\n",
    "\n",
    "f([[1, 2, 2], [3, 8, 2], [5, 3, 5]])\n",
    "# f([[1, 2, 1, 1, 1], [1, 2, 1, 2, 1], [1, 2, 1, 2, 1], [1, 2, 1, 2, 1], [1, 1, 1, 2, 1]])\n"
   ]
  },
  {
   "cell_type": "code",
   "execution_count": 1,
   "metadata": {},
   "outputs": [
    {
     "name": "stdout",
     "output_type": "stream",
     "text": [
      "{(0, 0): 0, (1, 0): 2, (0, 1): 1, (1, 1): 6, (0, 2): 1, (1, 2): 1, (2, 2): 3}\n",
      "{(0, 0): None, (1, 0): (0, 0), (0, 1): (0, 0), (1, 1): (0, 1), (0, 2): (0, 1), (1, 2): (0, 2), (2, 2): (1, 2)}\n"
     ]
    },
    {
     "data": {
      "text/plain": [
       "3"
      ]
     },
     "execution_count": 1,
     "metadata": {},
     "output_type": "execute_result"
    }
   ],
   "source": [
    "# A*错误 不能使用A*\n",
    "import heapq\n",
    "\n",
    "\n",
    "def f(heights: list):\n",
    "    rows, cols = len(heights), len(heights[0])\n",
    "    frontier = []  # 前沿外扩点\n",
    "    heapq.heappush(frontier, (0, 0, 0))  # 模拟优先队列 A*,r,c\n",
    "    best = set()  # 贪心思想得出的最优点\n",
    "    costs = dict()  # 起始点到当前节点的费用\n",
    "    father = dict()  # 父节点 回溯路线用 本题没用\n",
    "    costs[(0, 0)] = 0  # 初始化起始点到起始点费用0\n",
    "    father[(0, 0)] = None  # 初始化起始点的父节点为空\n",
    "    while frontier:\n",
    "        cur_A, r, c = heapq.heappop(frontier)  # 弹出外围费用最小点\n",
    "        cur_cost = costs[(r, c)]\n",
    "        if (r, c) == (rows - 1, cols - 1):  # 提前退出\n",
    "            print(costs)\n",
    "            print(father)\n",
    "            return cur_cost\n",
    "        best.add((r, c))\n",
    "        for nr, nc in ((r - 1, c), (r + 1, c), (r, c - 1), (r, c + 1)):\n",
    "            if 0 <= nr < rows and 0 <= nc < cols and (nr, nc) and (\n",
    "                    nr, nc) not in best:  # 防止出界 和 最优点重复判断 其实不用判断最优点也行 因为经过其他点再来到最优点费用肯定更高 如上一个解法\n",
    "                nei_cost = max(cur_cost, abs(heights[nr][nc] - heights[r][c]))  # 更新当前节点费用\n",
    "                if (nr, nc) not in costs or nei_cost < costs[(nr, nc)]:  # 未访问过或新费用更低\n",
    "                    costs[(nr, nc)] = nei_cost\n",
    "                    nei_A = nei_cost + abs(nr - (rows - 1)) + abs(nc - (cols - 1))\n",
    "                    heapq.heappush(frontier, (nei_A, nr, nc))\n",
    "                    father[(nr, nc)] = (r, c)  # 记录父节点\n",
    "\n",
    "\n",
    "f([[1, 2, 2], [3, 8, 2], [5, 3, 5]])\n",
    "# f([[1, 2, 1, 1, 1], [1, 2, 1, 2, 1], [1, 2, 1, 2, 1], [1, 2, 1, 2, 1], [1, 1, 1, 2, 1]])\n"
   ]
  },
  {
   "cell_type": "code",
   "execution_count": 2,
   "metadata": {},
   "outputs": [
    {
     "data": {
      "text/plain": [
       "2"
      ]
     },
     "execution_count": 2,
     "metadata": {},
     "output_type": "execute_result"
    }
   ],
   "source": [
    "import heapq\n",
    "\n",
    "\n",
    "def f(heights: list):\n",
    "    rows, cols = len(heights), len(heights[0])\n",
    "    pq = []\n",
    "    heapq.heappush(pq, (0, 0, 0))  # cost,r,c\n",
    "    costs = {(0, 0): 0}\n",
    "    while pq:\n",
    "        _, r, c = heapq.heappop(pq)\n",
    "        curCost = costs[(r, c)]\n",
    "        if (r, c) == (rows - 1, cols - 1):\n",
    "            return curCost\n",
    "        for nr, nc in ((r - 1, c), (r + 1, c), (r, c - 1), (r, c + 1)):\n",
    "            if 0 <= nr < rows and 0 <= nc < cols:\n",
    "                neiCost = max(curCost, abs(heights[nr][nc] - heights[r][c]))\n",
    "                if (nr, nc) not in costs or neiCost < costs[(nr, nc)]:\n",
    "                    costs[(nr, nc)] = neiCost\n",
    "                    heapq.heappush(pq, (neiCost, nr, nc))\n",
    "\n",
    "\n",
    "f([[1, 2, 2], [3, 8, 2], [5, 3, 5]])\n"
   ]
  },
  {
   "cell_type": "code",
   "execution_count": 1,
   "metadata": {},
   "outputs": [
    {
     "data": {
      "text/plain": [
       "2"
      ]
     },
     "execution_count": 1,
     "metadata": {},
     "output_type": "execute_result"
    }
   ],
   "source": [
    "# kruskal\n",
    "# 不是最小生成树 因此成环也无所谓 无需成环判断\n",
    "def f(heights: list):\n",
    "    rows, cols = len(heights), len(heights[0])\n",
    "    costs = []  # (rows*(cols-1)+cols*(rows-1))\n",
    "    for r in range(rows):\n",
    "        for c in range(cols):\n",
    "            for nr, nc in ((r, c + 1), (r + 1, c)):\n",
    "                if 0 <= nr < rows and 0 <= nc < cols:\n",
    "                    cost = abs(heights[r][c] - heights[nr][nc])\n",
    "                    costs.append((cost, r * cols + c, nr * cols + nc))\n",
    "    costs.sort()\n",
    "    count = rows * cols\n",
    "    roots = list(range(count))\n",
    "    rank = [1] * count\n",
    "\n",
    "    def find(x):\n",
    "        if roots[x] == x:\n",
    "            return x\n",
    "        roots[x] = find(roots[x])\n",
    "        return roots[x]\n",
    "\n",
    "    def union(x, y):\n",
    "        rx, ry = find(x), find(y)\n",
    "        if rx != ry:\n",
    "            if rank[rx] < rank[ry]:\n",
    "                roots[rx] = ry\n",
    "            elif rank[ry] < rank[rx]:\n",
    "                roots[ry] = rx\n",
    "            else:\n",
    "                roots[rx] = ry\n",
    "                rank[ry] += 1\n",
    "\n",
    "    for cost, x, y in costs:\n",
    "        union(x, y)\n",
    "        if find(0) == find(count - 1):\n",
    "            return cost\n",
    "    return 0\n",
    "\n",
    "\n",
    "f([[1, 2, 2], [3, 8, 2], [5, 3, 5]])\n"
   ]
  },
  {
   "cell_type": "code",
   "execution_count": null,
   "metadata": {},
   "outputs": [],
   "source": []
  }
 ],
 "metadata": {
  "interpreter": {
   "hash": "aee8b7b246df8f9039afb4144a1f6fd8d2ca17a180786b69acc140d282b71a49"
  },
  "kernelspec": {
   "display_name": "Python 3.10.1 64-bit",
   "language": "python",
   "name": "python3"
  },
  "language_info": {
   "codemirror_mode": {
    "name": "ipython",
    "version": 3
   },
   "file_extension": ".py",
   "mimetype": "text/x-python",
   "name": "python",
   "nbconvert_exporter": "python",
   "pygments_lexer": "ipython3",
   "version": "3.10.2"
  },
  "orig_nbformat": 4
 },
 "nbformat": 4,
 "nbformat_minor": 2
}
