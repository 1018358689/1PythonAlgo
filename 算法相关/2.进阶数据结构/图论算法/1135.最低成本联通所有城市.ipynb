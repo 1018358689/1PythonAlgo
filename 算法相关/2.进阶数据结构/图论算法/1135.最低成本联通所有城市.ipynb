{
 "cells": [
  {
   "cell_type": "markdown",
   "metadata": {},
   "source": [
    "https://mp.weixin.qq.com/s?__biz=MzAxODQxMDM0Mw==&mid=2247492575&idx=1&sn=bf63eb391351a0dfed0d03e1ac5992e7&scene=21#wechat_redirect\n",
    "\n",
    "Kruskal算法\n",
    "所谓最小生成树，就是图中若干边的集合（我们后文称这个集合为mst，最小生成树的英文缩写），你要保证这些边：\n",
    "\n",
    "1、包含图中的所有节点。\n",
    "\n",
    "2、形成的结构是树结构（即不存在环）。\n",
    "\n",
    "3、权重和最小。\n",
    "\n",
    "有之前题目的铺垫，前两条其实可以很容易地利用 Union-Find 算法做到，关键在于第 3 点，如何保证得到的这棵生成树是权重和最小的。\n",
    "\n",
    "这里就用到了贪心思路：\n",
    "\n",
    "将所有边按照权重从小到大排序，从权重最小的边开始遍历，如果这条边和mst中的其它边不会形成环，则这条边是最小生成树的一部分，将它加入mst集合；否则，这条边不是最小生成树的一部分，不要把它加入mst集合。"
   ]
  },
  {
   "cell_type": "code",
   "execution_count": 2,
   "metadata": {},
   "outputs": [
    {
     "data": {
      "text/plain": [
       "6"
      ]
     },
     "execution_count": 2,
     "metadata": {},
     "output_type": "execute_result"
    }
   ],
   "source": [
    "def f(N: int, connections: list):\n",
    "    root = list(range(N + 1))\n",
    "    rank = [1] * (N + 1)\n",
    "    count = N + 1\n",
    "\n",
    "    def find(x: int):\n",
    "        if root[x] == x:\n",
    "            return x\n",
    "        else:\n",
    "            root[x] = find(root[x])\n",
    "            return root[x]\n",
    "\n",
    "    def union(x: int, y: int):\n",
    "        nonlocal count\n",
    "        rootx = find(x)\n",
    "        rooty = find(y)\n",
    "        if rootx != rooty:\n",
    "            if rank[rootx] < rank[rooty]:\n",
    "                root[rootx] = rooty\n",
    "            elif rank[rootx] > rank[rooty]:\n",
    "                root[rooty] = rootx\n",
    "            else:\n",
    "                root[rootx] = rooty\n",
    "                rank[rooty] += 1\n",
    "            count -= 1\n",
    "\n",
    "    connections.sort(key=lambda x: x[-1])  # 贪心算法 先cost从小到大排序\n",
    "    mst = 0\n",
    "    for i, j, cost in connections:\n",
    "        if find(i) == find(j):  # 成环跳过\n",
    "            continue\n",
    "        union(i, j)  # 不成环就连接\n",
    "        mst += cost\n",
    "    if count == 2:  # count为1表示所有节点联通形成一棵树 但是节点0没被使用 所以为2\n",
    "        return mst\n",
    "    else:\n",
    "        return -1\n",
    "\n",
    "\n",
    "f(3, [[1, 2, 5], [1, 3, 6], [2, 3, 1]])\n"
   ]
  },
  {
   "cell_type": "code",
   "execution_count": 1,
   "metadata": {},
   "outputs": [
    {
     "name": "stdout",
     "output_type": "stream",
     "text": [
      "[[], [(5, 2), (6, 3)], [(5, 1), (1, 3)], [(6, 1), (1, 2)]]\n"
     ]
    },
    {
     "data": {
      "text/plain": [
       "6"
      ]
     },
     "execution_count": 1,
     "metadata": {},
     "output_type": "execute_result"
    }
   ],
   "source": [
    "# prim算法 最小生成树\n",
    "# https://labuladong.gitee.io/algo/2/19/41/\n",
    "import heapq\n",
    "\n",
    "N, connections = 3, [[1, 2, 5], [1, 3, 6], [2, 3, 1]]\n",
    "N, conections = 4, [[1, 2, 3], [3, 4, 4]]\n",
    "\n",
    "\n",
    "def f(N: int, connections: list):\n",
    "    neis = [[] for _ in range(N + 1)]\n",
    "    for x, y, c in connections:  # 无向图转双向图\n",
    "        neis[x].append((c, y))\n",
    "        neis[y].append((c, x))\n",
    "    print(neis)\n",
    "    mst = 0\n",
    "    in_mst = set()\n",
    "    in_mst.add(1)\n",
    "    pq = []\n",
    "    for c, n in neis[1]:\n",
    "        heapq.heappush(pq, (c, n))\n",
    "    while pq:\n",
    "        #1 弹出1节点邻边成本最小的边端点 加入最小生成树\n",
    "        cost, nei = heapq.heappop(pq)\n",
    "        if nei in in_mst:\n",
    "            continue\n",
    "        in_mst.add(nei)\n",
    "        mst += cost\n",
    "        #2 成本最小点的邻接点,进行切分\n",
    "        for c, n in neis[nei]:\n",
    "            if n not in in_mst:\n",
    "                heapq.heappush(pq, (c, n))\n",
    "    return mst if len(in_mst) == N else -1\n",
    "\n",
    "\n",
    "f(3, [[1, 2, 5], [1, 3, 6], [2, 3, 1]])\n"
   ]
  },
  {
   "cell_type": "code",
   "execution_count": 32,
   "metadata": {},
   "outputs": [
    {
     "data": {
      "text/plain": [
       "6"
      ]
     },
     "execution_count": 32,
     "metadata": {},
     "output_type": "execute_result"
    }
   ],
   "source": [
    "# prim算法 最小生成树\n",
    "# https://labuladong.gitee.io/algo/2/19/41/\n",
    "import heapq\n",
    "\n",
    "N, connections = 3, [[1, 2, 5], [1, 3, 6], [2, 3, 1]]\n",
    "N, conections = 4, [[1, 2, 3], [3, 4, 4]]\n",
    "\n",
    "\n",
    "def f(N: int, connections: list):\n",
    "    neis = [[] for _ in range(N + 1)]\n",
    "    for x, y, c in connections:  # 无向图转双向图\n",
    "        neis[x].append((c, y))\n",
    "        neis[y].append((c, x))\n",
    "    # print(neis)\n",
    "    mst = 0\n",
    "    in_mst = set()\n",
    "    in_mst.add(1)\n",
    "    pq = []\n",
    "\n",
    "    def cut(x: int):\n",
    "        for c, n in neis[x]:\n",
    "            if n not in in_mst: # 已经在最小生成树 防止成环\n",
    "                heapq.heappush(pq, (c, n))\n",
    "\n",
    "    cut(1)\n",
    "    while pq:\n",
    "        #1 弹出1节点邻边成本最小的边端点 加入最小生成树\n",
    "        cost, nei = heapq.heappop(pq)\n",
    "        if nei in in_mst: # 已经在最小生成树 防止成环\n",
    "            continue\n",
    "        in_mst.add(nei)\n",
    "        mst += cost\n",
    "        #2 成本最小点的邻接点,进行切分\n",
    "        cut(nei)\n",
    "    return mst if len(in_mst) == N else -1\n",
    "\n",
    "\n",
    "f(3, [[1, 2, 5], [1, 3, 6], [2, 3, 1]])"
   ]
  },
  {
   "cell_type": "code",
   "execution_count": null,
   "metadata": {},
   "outputs": [],
   "source": []
  }
 ],
 "metadata": {
  "interpreter": {
   "hash": "aee8b7b246df8f9039afb4144a1f6fd8d2ca17a180786b69acc140d282b71a49"
  },
  "kernelspec": {
   "display_name": "Python 3.10.1 64-bit",
   "language": "python",
   "name": "python3"
  },
  "language_info": {
   "codemirror_mode": {
    "name": "ipython",
    "version": 3
   },
   "file_extension": ".py",
   "mimetype": "text/x-python",
   "name": "python",
   "nbconvert_exporter": "python",
   "pygments_lexer": "ipython3",
   "version": "3.10.3"
  },
  "orig_nbformat": 4
 },
 "nbformat": 4,
 "nbformat_minor": 2
}
