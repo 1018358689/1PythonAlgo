{
 "cells": [
  {
   "cell_type": "code",
   "execution_count": 2,
   "metadata": {},
   "outputs": [
    {
     "data": {
      "text/plain": [
       "[3, 4, 4, 4, 4, 4, 5, 6, 7, 8]"
      ]
     },
     "execution_count": 2,
     "metadata": {},
     "output_type": "execute_result"
    }
   ],
   "source": [
    "# 冒泡排序 O(n^2)\n",
    "def bubbleSortV1(nums: list):\n",
    "    for i in range(len(nums) - 1):\n",
    "        for j in range(len(nums) - 1, i, -1):\n",
    "            if nums[j] < nums[j - 1]:\n",
    "                nums[j], nums[j - 1] = nums[j - 1], nums[j]\n",
    "    return nums\n",
    "\n",
    "\n",
    "bubbleSortV1([4, 3, 4, 4, 4, 5, 4, 8, 7, 6])"
   ]
  },
  {
   "cell_type": "code",
   "execution_count": 5,
   "metadata": {},
   "outputs": [
    {
     "data": {
      "text/plain": [
       "[3, 4, 4, 4, 4, 4, 5, 6, 7, 8]"
      ]
     },
     "execution_count": 5,
     "metadata": {},
     "output_type": "execute_result"
    }
   ],
   "source": [
    "def bubbleSortV2(nums:list):\n",
    "    for i in range(len(nums)-1):\n",
    "        isSort = True\n",
    "        for j in range(len(nums)-1,i,-1):\n",
    "            if nums[j] < nums[j - 1]:\n",
    "                nums[j], nums[j - 1] = nums[j - 1], nums[j]\n",
    "                isSort = False\n",
    "        if isSort:\n",
    "            break\n",
    "    return nums\n",
    "bubbleSortV2([4, 3, 4, 4, 4, 5, 4, 8, 7, 6])"
   ]
  },
  {
   "cell_type": "code",
   "execution_count": 6,
   "metadata": {},
   "outputs": [
    {
     "data": {
      "text/plain": [
       "[3, 4, 4, 4, 4, 4, 5, 6, 7, 8]"
      ]
     },
     "execution_count": 6,
     "metadata": {},
     "output_type": "execute_result"
    }
   ],
   "source": [
    "def bubbleSortV3(nums: list):\n",
    "    lastSwapIndex = 0  # 最后交换的位置 即该索引前都已排好 现在要确定该索引\n",
    "    while True:\n",
    "        isSort = True\n",
    "        end = lastSwapIndex\n",
    "        for j in range(len(nums) - 1, end, -1):\n",
    "            if nums[j] < nums[j - 1]:\n",
    "                nums[j], nums[j - 1] = nums[j - 1], nums[j]\n",
    "                isSort = False\n",
    "                lastSwapIndex = j\n",
    "        if isSort:\n",
    "            break\n",
    "    return nums\n",
    "\n",
    "\n",
    "bubbleSortV3([4, 3, 4, 4, 4, 5, 4, 8, 7, 6])"
   ]
  },
  {
   "cell_type": "code",
   "execution_count": null,
   "metadata": {},
   "outputs": [],
   "source": []
  }
 ],
 "metadata": {
  "interpreter": {
   "hash": "97367d2de1780ea7c502b529f25888c1b53c0430a7611816b6c7cf19d8435228"
  },
  "kernelspec": {
   "display_name": "Python 3.10.4 64-bit (windows store)",
   "language": "python",
   "name": "python3"
  },
  "language_info": {
   "codemirror_mode": {
    "name": "ipython",
    "version": 3
   },
   "file_extension": ".py",
   "mimetype": "text/x-python",
   "name": "python",
   "nbconvert_exporter": "python",
   "pygments_lexer": "ipython3",
   "version": "3.10.4"
  },
  "orig_nbformat": 4
 },
 "nbformat": 4,
 "nbformat_minor": 2
}
