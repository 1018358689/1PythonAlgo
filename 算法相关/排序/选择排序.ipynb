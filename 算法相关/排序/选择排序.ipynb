{
 "cells": [
  {
   "cell_type": "code",
   "execution_count": 6,
   "metadata": {},
   "outputs": [
    {
     "name": "stdout",
     "output_type": "stream",
     "text": [
      "[1, 8, 7, 6, 5, 4, 3, 2, 9]\n",
      "[1, 2, 7, 6, 5, 4, 3, 8, 9]\n",
      "[1, 2, 3, 6, 5, 4, 7, 8, 9]\n",
      "[1, 2, 3, 4, 5, 6, 7, 8, 9]\n",
      "[1, 2, 3, 4, 5, 6, 7, 8, 9]\n",
      "[1, 2, 3, 4, 5, 6, 7, 8, 9]\n",
      "[1, 2, 3, 4, 5, 6, 7, 8, 9]\n",
      "[1, 2, 3, 4, 5, 6, 7, 8, 9]\n"
     ]
    }
   ],
   "source": [
    "def f(arr: list) -> None:\n",
    "    def Min(arr: list) -> int:  # 线性查找最小值的索引\n",
    "        M = 0\n",
    "        for i in range(1, len(arr)):\n",
    "            if arr[i] < arr[M]:\n",
    "                M = i\n",
    "        return M\n",
    "\n",
    "    for i in range(len(arr) - 1):  # i:要确定的index [0,last-1]\n",
    "        M = i + Min(arr[i:len(arr)])  # 线性查找最小值的索引\n",
    "        arr[i], arr[M] = arr[M], arr[i]  # 与i进行互换\n",
    "        print(arr)\n",
    "\n",
    "\n",
    "f([9, 8, 7, 6, 5, 4, 3, 2, 1])\n"
   ]
  },
  {
   "cell_type": "code",
   "execution_count": 3,
   "metadata": {},
   "outputs": [
    {
     "data": {
      "text/plain": [
       "2"
      ]
     },
     "execution_count": 3,
     "metadata": {},
     "output_type": "execute_result"
    }
   ],
   "source": [
    "def Min(arr:list)->int:\n",
    "    M = 0\n",
    "    for i in range(1,len(arr)):\n",
    "        if arr[i]<arr[M]:\n",
    "            M = i\n",
    "    return M\n",
    "Min([1,2,0,3])"
   ]
  },
  {
   "cell_type": "code",
   "execution_count": null,
   "metadata": {},
   "outputs": [],
   "source": []
  }
 ],
 "metadata": {
  "interpreter": {
   "hash": "aee8b7b246df8f9039afb4144a1f6fd8d2ca17a180786b69acc140d282b71a49"
  },
  "kernelspec": {
   "display_name": "Python 3.8.10 64-bit",
   "language": "python",
   "name": "python3"
  },
  "language_info": {
   "codemirror_mode": {
    "name": "ipython",
    "version": 3
   },
   "file_extension": ".py",
   "mimetype": "text/x-python",
   "name": "python",
   "nbconvert_exporter": "python",
   "pygments_lexer": "ipython3",
   "version": "3.8.10"
  },
  "orig_nbformat": 4
 },
 "nbformat": 4,
 "nbformat_minor": 2
}
