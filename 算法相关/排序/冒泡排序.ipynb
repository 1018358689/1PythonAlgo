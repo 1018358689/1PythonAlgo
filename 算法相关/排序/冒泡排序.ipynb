{
 "cells": [
  {
   "cell_type": "code",
   "execution_count": 24,
   "metadata": {},
   "outputs": [
    {
     "name": "stdout",
     "output_type": "stream",
     "text": [
      "...\n",
      "[3, 4, 4, 4, 4, 4, 5, 6, 8, 7]\n",
      "[3, 4, 4, 4, 4, 4, 5, 6, 7, 8]\n",
      "[3, 4, 4, 4, 4, 4, 5, 6, 7, 8]\n",
      "[3, 4, 4, 4, 4, 4, 5, 6, 7, 8]\n",
      "[3, 4, 4, 4, 4, 4, 5, 6, 7, 8]\n",
      "[3, 4, 4, 4, 4, 4, 5, 6, 7, 8]\n",
      "[3, 4, 4, 4, 4, 4, 5, 6, 7, 8]\n",
      "[3, 4, 4, 4, 4, 4, 5, 6, 7, 8]\n",
      "[3, 4, 4, 4, 4, 4, 5, 6, 7, 8]\n"
     ]
    }
   ],
   "source": [
    "def f(arr: list) -> None:\n",
    "    for i in range(len(arr) - 1):  # i:要确定的index [0,last-1]\n",
    "        for j in range(len(arr) - 1, i, -1):  # j:要交换的index [last,i+1]\n",
    "            if arr[j] < arr[j - 1]:  # 后一位更小就交换到前面\n",
    "                arr[j], arr[j - 1] = arr[j - 1], arr[j]\n",
    "        print(arr)\n",
    "\n",
    "\n",
    "# f([9, 8, 7, 6, 5, 4, 3, 2, 1])\n",
    "print('...')\n",
    "f([4, 3, 4, 4, 4, 5, 4, 8, 7, 6])\n"
   ]
  },
  {
   "cell_type": "code",
   "execution_count": 31,
   "metadata": {},
   "outputs": [
    {
     "name": "stdout",
     "output_type": "stream",
     "text": [
      "[3, 4, 4, 6, 4, 4, 5, 6, 8, 7]\n",
      "[3, 4, 4, 4, 6, 4, 5, 6, 7, 8]\n",
      "[3, 4, 4, 4, 4, 6, 5, 6, 7, 8]\n",
      "[3, 4, 4, 4, 4, 5, 6, 6, 7, 8]\n"
     ]
    }
   ],
   "source": [
    "def f(arr: list) -> None:\n",
    "    for i in range(len(arr) - 1):  # i:要确定的index [0,last-1]\n",
    "        noSort = True # 没有发生交换 即后面已经有序\n",
    "        for j in range(len(arr) - 1, i, -1):  # j:要交换的index [last,i+1]\n",
    "            if arr[j] < arr[j - 1]:  # 后一位更小就交换到前面\n",
    "                arr[j], arr[j - 1] = arr[j - 1], arr[j]\n",
    "                noSort = False\n",
    "        if noSort: # 后续已经有序就跳出\n",
    "            break\n",
    "        print(arr)\n",
    "\n",
    "\n",
    "f([4, 3, 6, 4, 4, 5, 4, 8, 7, 6])\n"
   ]
  },
  {
   "cell_type": "code",
   "execution_count": 34,
   "metadata": {},
   "outputs": [
    {
     "name": "stdout",
     "output_type": "stream",
     "text": [
      "[3, 4, 4, 6, 4, 4, 5, 6, 8, 7]\n",
      "[3, 4, 4, 4, 6, 4, 5, 6, 7, 8]\n",
      "[3, 4, 4, 4, 4, 6, 5, 6, 7, 8]\n",
      "[3, 4, 4, 4, 4, 5, 6, 6, 7, 8]\n"
     ]
    }
   ],
   "source": [
    "def f(arr: list) -> None:\n",
    "    lastSwapIndex = 0 # 最后交换的位置 即该索引前都已排好 现在要确定该索引\n",
    "    for i in range(len(arr) - 1):  # i:要确定的index [0,last-1]\n",
    "        noSort = True  # 没有发生交换 即后面已经有序\n",
    "        end = lastSwapIndex\n",
    "        # print(end)\n",
    "        for j in range(len(arr) - 1, end, -1):  # j:要交换的index [last,i+1]\n",
    "            if arr[j] < arr[j - 1]:  # 后一位更小就交换到前面\n",
    "                arr[j], arr[j - 1] = arr[j - 1], arr[j]\n",
    "                noSort = False\n",
    "                lastSwapIndex = j\n",
    "        # print(len(arr)-1-end) # 减少每轮比较次数\n",
    "        if noSort:  # 后续已经有序就跳出\n",
    "            break\n",
    "        print(arr)\n",
    "\n",
    "\n",
    "f([4, 3, 6, 4, 4, 5, 4, 8, 7, 6])\n"
   ]
  },
  {
   "cell_type": "code",
   "execution_count": 1,
   "metadata": {},
   "outputs": [
    {
     "name": "stdout",
     "output_type": "stream",
     "text": [
      "[8, 7, 6, 5, 4, 3, 2, 1, 9]\n",
      "[7, 6, 5, 4, 3, 2, 1, 8, 9]\n",
      "[6, 5, 4, 3, 2, 1, 7, 8, 9]\n",
      "[5, 4, 3, 2, 1, 6, 7, 8, 9]\n",
      "[4, 3, 2, 1, 5, 6, 7, 8, 9]\n",
      "[3, 2, 1, 4, 5, 6, 7, 8, 9]\n",
      "[2, 1, 3, 4, 5, 6, 7, 8, 9]\n",
      "[1, 2, 3, 4, 5, 6, 7, 8, 9]\n"
     ]
    }
   ],
   "source": [
    "def f(arr: list) -> None:\n",
    "    for i in range(len(arr) - 1):\n",
    "        for j in range(len(arr) - 1 - i):\n",
    "            if arr[j] > arr[j + 1]:\n",
    "                arr[j], arr[j + 1] = arr[j + 1], arr[j]\n",
    "        print(arr)\n",
    "\n",
    "\n",
    "f([9, 8, 7, 6, 5, 4, 3, 2, 1])"
   ]
  },
  {
   "cell_type": "code",
   "execution_count": null,
   "metadata": {},
   "outputs": [],
   "source": []
  }
 ],
 "metadata": {
  "interpreter": {
   "hash": "aee8b7b246df8f9039afb4144a1f6fd8d2ca17a180786b69acc140d282b71a49"
  },
  "kernelspec": {
   "display_name": "Python 3.8.10 64-bit",
   "language": "python",
   "name": "python3"
  },
  "language_info": {
   "codemirror_mode": {
    "name": "ipython",
    "version": 3
   },
   "file_extension": ".py",
   "mimetype": "text/x-python",
   "name": "python",
   "nbconvert_exporter": "python",
   "pygments_lexer": "ipython3",
   "version": "3.8.10"
  },
  "orig_nbformat": 4
 },
 "nbformat": 4,
 "nbformat_minor": 2
}
