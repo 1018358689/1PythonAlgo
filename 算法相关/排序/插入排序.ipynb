{
 "cells": [
  {
   "cell_type": "code",
   "execution_count": 3,
   "metadata": {},
   "outputs": [
    {
     "name": "stdout",
     "output_type": "stream",
     "text": [
      "[8, 9, 7, 6, 5, 4, 3, 2, 1]\n",
      "[7, 8, 9, 6, 5, 4, 3, 2, 1]\n",
      "[6, 7, 8, 9, 5, 4, 3, 2, 1]\n",
      "[5, 6, 7, 8, 9, 4, 3, 2, 1]\n",
      "[4, 5, 6, 7, 8, 9, 3, 2, 1]\n",
      "[3, 4, 5, 6, 7, 8, 9, 2, 1]\n",
      "[2, 3, 4, 5, 6, 7, 8, 9, 1]\n",
      "[1, 2, 3, 4, 5, 6, 7, 8, 9]\n"
     ]
    }
   ],
   "source": [
    "def insertSort(nums: list) -> None:\n",
    "    for i in range(1, len(nums)): # 要插入范围\n",
    "        insertValue = nums[i]  # 要插入的扑克牌\n",
    "        j = i - 1  # 要插入的范围 [0,j]\n",
    "        while j >= 0 and insertValue < nums[j]:\n",
    "            nums[j + 1] = nums[j]  # 如果插入值比当前值小,当前扑克往右边挪一下\n",
    "            j -= 1\n",
    "        nums[j + 1] = insertValue  # 如果插入值比当前值大,扑克插入当前扑克右边\n",
    "        print(nums)\n",
    "\n",
    "insertSort([9, 8, 7, 6, 5, 4, 3, 2, 1])"
   ]
  },
  {
   "cell_type": "code",
   "execution_count": null,
   "metadata": {},
   "outputs": [],
   "source": []
  }
 ],
 "metadata": {
  "interpreter": {
   "hash": "97367d2de1780ea7c502b529f25888c1b53c0430a7611816b6c7cf19d8435228"
  },
  "kernelspec": {
   "display_name": "Python 3.10.4 64-bit (windows store)",
   "language": "python",
   "name": "python3"
  },
  "language_info": {
   "codemirror_mode": {
    "name": "ipython",
    "version": 3
   },
   "file_extension": ".py",
   "mimetype": "text/x-python",
   "name": "python",
   "nbconvert_exporter": "python",
   "pygments_lexer": "ipython3",
   "version": "3.10.4"
  },
  "orig_nbformat": 4
 },
 "nbformat": 4,
 "nbformat_minor": 2
}
