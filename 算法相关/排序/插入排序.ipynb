{
 "cells": [
  {
   "cell_type": "code",
   "execution_count": null,
   "metadata": {},
   "outputs": [],
   "source": [
    "def f(arr: list) -> None:\n",
    "    for i in range(1, len(arr)):\n",
    "        key = arr[i] # 要插入的值\n",
    "        j = i - 1 # 插入值前需要插入的范围[0,j]\n",
    "        while j >= 0 and key < arr[j]:\n",
    "            arr[j + 1] = arr[j]\n",
    "            j -= 1\n",
    "        arr[j + 1] = key\n"
   ]
  }
 ],
 "metadata": {
  "language_info": {
   "name": "python"
  },
  "orig_nbformat": 4
 },
 "nbformat": 4,
 "nbformat_minor": 2
}
