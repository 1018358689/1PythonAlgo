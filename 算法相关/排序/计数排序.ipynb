{
 "cells": [
  {
   "cell_type": "code",
   "execution_count": 2,
   "metadata": {},
   "outputs": [
    {
     "data": {
      "text/plain": [
       "[0, 3, 4, 4, 5, 5, 7, 8]"
      ]
     },
     "execution_count": 2,
     "metadata": {},
     "output_type": "execute_result"
    }
   ],
   "source": [
    "# [7,8,5,0,4,3,5,4]\n",
    "# 从0开始\n",
    "def f(arr: list):\n",
    "    maxNum, minNum = max(arr), min(arr)\n",
    "    arrSort = [0] * (maxNum + 1)\n",
    "    for num in arr:\n",
    "        arrSort[num] += 1\n",
    "    ans = []\n",
    "    for num, cnt in enumerate(arrSort):\n",
    "        ans += [num] * cnt\n",
    "    return ans\n",
    "\n",
    "\n",
    "f([7, 8, 5, 0, 4, 3, 5, 4])\n"
   ]
  },
  {
   "cell_type": "code",
   "execution_count": 1,
   "metadata": {},
   "outputs": [
    {
     "data": {
      "text/plain": [
       "[86, 91, 92, 92, 93, 100]"
      ]
     },
     "execution_count": 1,
     "metadata": {},
     "output_type": "execute_result"
    }
   ],
   "source": [
    "def f(arr: list):\n",
    "    maxNum, minNum = max(arr), min(arr)\n",
    "    d = maxNum - minNum\n",
    "    arrSort = [0] * (d + 1)\n",
    "    for num in arr:\n",
    "        arrSort[num - minNum] += 1\n",
    "    ans = []\n",
    "    for num, cnt in enumerate(arrSort):\n",
    "        num += minNum\n",
    "        ans += [num] * cnt\n",
    "    return ans\n",
    "\n",
    "\n",
    "f([91, 100, 92, 93, 86, 92])\n"
   ]
  },
  {
   "cell_type": "code",
   "execution_count": null,
   "metadata": {},
   "outputs": [],
   "source": []
  }
 ],
 "metadata": {
  "interpreter": {
   "hash": "1baa965d5efe3ac65b79dfc60c0d706280b1da80fedb7760faf2759126c4f253"
  },
  "kernelspec": {
   "display_name": "Python 3.8.10 64-bit",
   "language": "python",
   "name": "python3"
  },
  "language_info": {
   "codemirror_mode": {
    "name": "ipython",
    "version": 3
   },
   "file_extension": ".py",
   "mimetype": "text/x-python",
   "name": "python",
   "nbconvert_exporter": "python",
   "pygments_lexer": "ipython3",
   "version": "3.8.10"
  },
  "orig_nbformat": 4
 },
 "nbformat": 4,
 "nbformat_minor": 2
}
