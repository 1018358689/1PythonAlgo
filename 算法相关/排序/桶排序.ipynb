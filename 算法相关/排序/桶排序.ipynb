{
 "cells": [
  {
   "cell_type": "code",
   "execution_count": 21,
   "metadata": {},
   "outputs": [
    {
     "data": {
      "text/plain": [
       "[2.5, 2.8, 2.8, 3.0, 3.1, 3.5]"
      ]
     },
     "execution_count": 21,
     "metadata": {},
     "output_type": "execute_result"
    }
   ],
   "source": [
    "# [2.8, 3.0, 3.5, 2.8, 3.1, 2.5]\n",
    "# [2.5,2.7) [2.7,2.9) [2.9.3.1) [3.1,3.3) [3.3,3.5) [3.5,3.5]\n",
    "#  0         1         2         3         4         5\n",
    "def BucketSort(arr: list):\n",
    "    sz = len(arr)\n",
    "    buckets = [[] for _ in range(sz)]\n",
    "    maxNum, minNum = max(arr), min(arr)\n",
    "    d = maxNum - minNum\n",
    "    for num in arr:\n",
    "        bucketIndex = int((num - minNum) / (d / (sz - 1)))\n",
    "        buckets[bucketIndex].append(num)\n",
    "    ans = []\n",
    "    for bucket in buckets:\n",
    "        bucket.sort()\n",
    "        ans += bucket\n",
    "    return ans\n",
    "\n",
    "\n",
    "BucketSort([2.8, 3.0, 3.5, 2.8, 3.1, 2.5])"
   ]
  },
  {
   "cell_type": "code",
   "execution_count": 24,
   "metadata": {},
   "outputs": [
    {
     "data": {
      "text/plain": [
       "float"
      ]
     },
     "execution_count": 24,
     "metadata": {},
     "output_type": "execute_result"
    }
   ],
   "source": [
    "type(10.0//2)"
   ]
  },
  {
   "cell_type": "code",
   "execution_count": 1,
   "metadata": {},
   "outputs": [
    {
     "data": {
      "text/plain": [
       "[2.5, 2.8, 2.8, 3.0, 3.1, 3.5]"
      ]
     },
     "execution_count": 1,
     "metadata": {},
     "output_type": "execute_result"
    }
   ],
   "source": [
    "from random import randint\n",
    "\n",
    "\n",
    "# 用快速排序作为桶排序内部排序\n",
    "def BucketSort(nums: list):\n",
    "    sz = len(nums)\n",
    "    buckets = [[] for _ in range(sz)]\n",
    "    maxNum, minNum = max(nums), min(nums)\n",
    "    d = maxNum - minNum\n",
    "    for n in nums:\n",
    "        bi = int((n - minNum) / (d / (sz - 1)))\n",
    "        buckets[bi].append(n)\n",
    "    res = []\n",
    "    for bu in buckets:\n",
    "        # bu.sort()\n",
    "        quickSort(bu, 0, len(bu) - 1)\n",
    "        res += bu\n",
    "    return res\n",
    "\n",
    "\n",
    "def quickSort(nums: list, si: int, ei: int):  # 前后包括\n",
    "\n",
    "    def getPivot(si: int, ei: int):\n",
    "        pivot = randint(si, ei)\n",
    "        nums[si], nums[pivot] = nums[pivot], nums[si]\n",
    "        mark = si\n",
    "        for i in range(si + 1, ei + 1):\n",
    "            if nums[i] < nums[si]:\n",
    "                mark += 1\n",
    "                nums[i], nums[mark] = nums[mark], nums[i]\n",
    "        nums[si], nums[mark] = nums[mark], nums[si]\n",
    "        return mark\n",
    "\n",
    "    def dc(si: int, ei: int):\n",
    "        if si >= ei:\n",
    "            return\n",
    "        pivot = getPivot(si, ei)\n",
    "        dc(si, pivot - 1)\n",
    "        dc(pivot + 1, ei)\n",
    "\n",
    "    dc(si, ei)\n",
    "\n",
    "\n",
    "BucketSort([2.8, 3.0, 3.5, 2.8, 3.1, 2.5])"
   ]
  },
  {
   "cell_type": "code",
   "execution_count": null,
   "metadata": {},
   "outputs": [],
   "source": []
  }
 ],
 "metadata": {
  "interpreter": {
   "hash": "97367d2de1780ea7c502b529f25888c1b53c0430a7611816b6c7cf19d8435228"
  },
  "kernelspec": {
   "display_name": "Python 3.10.4 64-bit (windows store)",
   "language": "python",
   "name": "python3"
  },
  "language_info": {
   "codemirror_mode": {
    "name": "ipython",
    "version": 3
   },
   "file_extension": ".py",
   "mimetype": "text/x-python",
   "name": "python",
   "nbconvert_exporter": "python",
   "pygments_lexer": "ipython3",
   "version": "3.10.4"
  },
  "orig_nbformat": 4
 },
 "nbformat": 4,
 "nbformat_minor": 2
}
