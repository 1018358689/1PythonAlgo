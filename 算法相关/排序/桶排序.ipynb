{
 "cells": [
  {
   "cell_type": "code",
   "execution_count": 21,
   "metadata": {},
   "outputs": [
    {
     "data": {
      "text/plain": [
       "[2.5, 2.8, 2.8, 3.0, 3.1, 3.5]"
      ]
     },
     "execution_count": 21,
     "metadata": {},
     "output_type": "execute_result"
    }
   ],
   "source": [
    "# [2.8, 3.0, 3.5, 2.8, 3.1, 2.5]\n",
    "# [2.5,2.7) [2.7,2.9) [2.9.3.1) [3.1,3.3) [3.3,3.5) [3.5,3.5]\n",
    "#  0         1         2         3         4         5\n",
    "def f(arr: list):\n",
    "    sz = len(arr)\n",
    "    buckets = [[] for _ in range(sz)]\n",
    "    maxNum, minNum = max(arr), min(arr)\n",
    "    d = maxNum - minNum\n",
    "    for num in arr:\n",
    "        bucketIndex = int((num - minNum) / (d / (sz - 1)))\n",
    "        buckets[bucketIndex].append(num)\n",
    "    ans = []\n",
    "    for bucket in buckets:\n",
    "        bucket.sort()\n",
    "        ans += bucket\n",
    "    return ans\n",
    "\n",
    "\n",
    "f([2.8, 3.0, 3.5, 2.8, 3.1, 2.5])"
   ]
  },
  {
   "cell_type": "code",
   "execution_count": 24,
   "metadata": {},
   "outputs": [
    {
     "data": {
      "text/plain": [
       "float"
      ]
     },
     "execution_count": 24,
     "metadata": {},
     "output_type": "execute_result"
    }
   ],
   "source": [
    "type(10.0//2)"
   ]
  },
  {
   "cell_type": "code",
   "execution_count": null,
   "metadata": {},
   "outputs": [],
   "source": []
  }
 ],
 "metadata": {
  "interpreter": {
   "hash": "1baa965d5efe3ac65b79dfc60c0d706280b1da80fedb7760faf2759126c4f253"
  },
  "kernelspec": {
   "display_name": "Python 3.8.10 64-bit",
   "language": "python",
   "name": "python3"
  },
  "language_info": {
   "codemirror_mode": {
    "name": "ipython",
    "version": 3
   },
   "file_extension": ".py",
   "mimetype": "text/x-python",
   "name": "python",
   "nbconvert_exporter": "python",
   "pygments_lexer": "ipython3",
   "version": "3.8.10"
  },
  "orig_nbformat": 4
 },
 "nbformat": 4,
 "nbformat_minor": 2
}
