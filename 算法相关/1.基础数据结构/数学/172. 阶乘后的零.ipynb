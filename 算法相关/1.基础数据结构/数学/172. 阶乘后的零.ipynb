{
 "cells": [
  {
   "cell_type": "markdown",
   "metadata": {},
   "source": [
    "给定一个整数 n ，返回 n! 结果中尾随零的数量。\n",
    "\n",
    "提示 n! = n * (n - 1) * (n - 2) * ... * 3 * 2 * 1\n",
    "\n",
    "示例 1：\n",
    "输入：n = 3\n",
    "输出：0\n",
    "解释：3! = 6 ，不含尾随 0\n",
    "\n",
    "示例 2：\n",
    "输入：n = 5\n",
    "输出：1\n",
    "解释：5! = 120 ，有一个尾随 0\n",
    "\n",
    "示例 3：\n",
    "输入：n = 0\n",
    "输出：0"
   ]
  },
  {
   "cell_type": "code",
   "execution_count": 5,
   "metadata": {},
   "outputs": [
    {
     "data": {
      "text/plain": [
       "(1, 0, 2499999997)"
      ]
     },
     "execution_count": 5,
     "metadata": {},
     "output_type": "execute_result"
    }
   ],
   "source": [
    "# n! 最多可以分解出多少个因子 2 和 5？由于2的个数多于5\n",
    "# -> n! 最多可以分解出多少个因子 5？\n",
    "# n 以内 5的倍数 有n//5个. 因为1,2,3...n//5这些数字*5 <=n 这些数字共n//5个\n",
    "# n以内5的倍数的数字可以提供1个5; 25的倍数可以提供2个5; 125的倍数可以提供3个5...\n",
    "# 25的倍数也一定是5的倍数  前面计算过一次 后面就不必加2 加1即可 ; 125同理\n",
    "def f(n: int):\n",
    "    res = 0\n",
    "    div = 5\n",
    "    while div <= n:\n",
    "        res += n // div\n",
    "        div *= 5\n",
    "    return res\n",
    "\n",
    "\n",
    "f(5), f(3),f(10**10)\n"
   ]
  },
  {
   "cell_type": "code",
   "execution_count": null,
   "metadata": {},
   "outputs": [],
   "source": []
  }
 ],
 "metadata": {
  "interpreter": {
   "hash": "aee8b7b246df8f9039afb4144a1f6fd8d2ca17a180786b69acc140d282b71a49"
  },
  "kernelspec": {
   "display_name": "Python 3.10.1 64-bit",
   "language": "python",
   "name": "python3"
  },
  "language_info": {
   "codemirror_mode": {
    "name": "ipython",
    "version": 3
   },
   "file_extension": ".py",
   "mimetype": "text/x-python",
   "name": "python",
   "nbconvert_exporter": "python",
   "pygments_lexer": "ipython3",
   "version": "3.10.1"
  },
  "orig_nbformat": 4
 },
 "nbformat": 4,
 "nbformat_minor": 2
}
