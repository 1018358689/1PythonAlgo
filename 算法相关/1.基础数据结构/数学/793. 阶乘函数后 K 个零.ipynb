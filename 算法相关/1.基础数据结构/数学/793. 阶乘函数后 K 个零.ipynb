{
 "cells": [
  {
   "cell_type": "markdown",
   "metadata": {},
   "source": [
    "f(x) 是 x! 末尾是 0 的数量。回想一下 x! = 1 * 2 * 3 * ... * x，且 0! = 1 。\n",
    "\n",
    "例如， f(3) = 0 ，因为 3! = 6 的末尾没有 0 ；而 f(11) = 2 ，因为 11!= 39916800 末端有 2 个 0 。\n",
    "给定 k，找出返回能满足 f(x) = k 的非负整数 x 的数量。\n",
    "\n",
    "示例 1：\n",
    "输入：k = 0\n",
    "输出：5\n",
    "解释：0!, 1!, 2!, 3!, 和 4! 均符合 k = 0 的条件。\n",
    "\n",
    "示例 2：\n",
    "输入：k = 5\n",
    "输出：0\n",
    "解释：没有匹配到这样的 x!，符合 k = 5 的条件。\n",
    "\n",
    "示例 3:\n",
    "输入: k = 3\n",
    "输出: 5"
   ]
  },
  {
   "cell_type": "code",
   "execution_count": null,
   "metadata": {},
   "outputs": [],
   "source": [
    "# 给你一个非负整数 K，问你有多少个 n，使得 n! 结果末尾有 K 个 0。"
   ]
  },
  {
   "cell_type": "code",
   "execution_count": 13,
   "metadata": {},
   "outputs": [
    {
     "data": {
      "text/plain": [
       "(5, 0, 5, 5)"
      ]
     },
     "execution_count": 13,
     "metadata": {},
     "output_type": "execute_result"
    }
   ],
   "source": [
    "def f(k: int):\n",
    "\n",
    "    def trailingZeroes(n: int):  # n!有多少个零\n",
    "        res = 0\n",
    "        div = 5\n",
    "        while div <= n:\n",
    "            res += n // div\n",
    "            div *= 5\n",
    "        return res\n",
    "\n",
    "    res = 0\n",
    "    num = -1\n",
    "    while True:\n",
    "        num += 1\n",
    "        zerNum = trailingZeroes(num)\n",
    "        if zerNum < k:\n",
    "            continue\n",
    "        elif zerNum == k:\n",
    "            res += 1\n",
    "        else:\n",
    "            break\n",
    "    return res\n",
    "\n",
    "\n",
    "f(0), f(5), f(3),f(1000)\n"
   ]
  },
  {
   "cell_type": "code",
   "execution_count": 11,
   "metadata": {},
   "outputs": [
    {
     "data": {
      "text/plain": [
       "3"
      ]
     },
     "execution_count": 11,
     "metadata": {},
     "output_type": "execute_result"
    }
   ],
   "source": [
    "import bisect\n",
    "bisect.bisect_right(range(8),2)"
   ]
  },
  {
   "cell_type": "code",
   "execution_count": 17,
   "metadata": {},
   "outputs": [
    {
     "data": {
      "text/plain": [
       "(5, 0, 5)"
      ]
     },
     "execution_count": 17,
     "metadata": {},
     "output_type": "execute_result"
    }
   ],
   "source": [
    "import bisect\n",
    "\n",
    "# 找最小的数字满足阶乘有k个0 找最大的数字满足阶乘有k个0\n",
    "# 结果就是相减+1\n",
    "# 由于n!的零的个数和n一样是单调递增的所以可以用二分法\n",
    "# 二分法下边界是0 上边界不能inf 需要找一个大数 计算10**10的阶乘零的个数>10**9\n",
    "def f(k: int):\n",
    "\n",
    "    def trailingZeroes(n: int):  # n!有多少个零\n",
    "        res = 0\n",
    "        div = 5\n",
    "        while div <= n:\n",
    "            res += n // div\n",
    "            div *= 5\n",
    "        return res\n",
    "    \n",
    "    l, r = 0, 10**10\n",
    "    while l <= r:\n",
    "        middleNum = (l + r) // 2\n",
    "        zeroNum = trailingZeroes(middleNum)\n",
    "        if zeroNum <= k:\n",
    "            l = middleNum + 1\n",
    "        else:\n",
    "            r = middleNum - 1\n",
    "    right = r\n",
    "    l, r = 0, 10**10\n",
    "    while l <= r:\n",
    "        middleNum = (l + r) // 2\n",
    "        zeroNum = trailingZeroes(middleNum)\n",
    "        if zeroNum < k:\n",
    "            l = middleNum + 1\n",
    "        else:\n",
    "            r = middleNum - 1\n",
    "    return right - l + 1\n",
    "\n",
    "\n",
    "f(0), f(5), f(3)\n"
   ]
  },
  {
   "cell_type": "code",
   "execution_count": null,
   "metadata": {},
   "outputs": [],
   "source": []
  }
 ],
 "metadata": {
  "interpreter": {
   "hash": "aee8b7b246df8f9039afb4144a1f6fd8d2ca17a180786b69acc140d282b71a49"
  },
  "kernelspec": {
   "display_name": "Python 3.10.1 64-bit",
   "language": "python",
   "name": "python3"
  },
  "language_info": {
   "codemirror_mode": {
    "name": "ipython",
    "version": 3
   },
   "file_extension": ".py",
   "mimetype": "text/x-python",
   "name": "python",
   "nbconvert_exporter": "python",
   "pygments_lexer": "ipython3",
   "version": "3.10.1"
  },
  "orig_nbformat": 4
 },
 "nbformat": 4,
 "nbformat_minor": 2
}
