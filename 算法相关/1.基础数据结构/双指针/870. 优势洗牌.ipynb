{
 "cells": [
  {
   "cell_type": "markdown",
   "metadata": {},
   "source": [
    "给定两个大小相等的数组 A 和 B，A相对于B的优势可以用满足 A[i] > B[i] 的索引i 的数目来描述。\n",
    "\n",
    "请你返回 A 的任意排列，使其相对于B 的优势最大化。\n",
    "\n",
    "示例 1：\n",
    "输入：A = [2,7,11,15], B = [1,10,4,11]\n",
    "输出：[2,11,7,15]\n",
    "\n",
    "基本思路\n",
    "这题就像田忌赛马的情景，nums1就是田忌的马，nums2就是齐王的马，数组中的元素就是马的战斗力，你就是谋士孙膑，请你帮田忌安排赛马顺序，使胜场最多。\n",
    "\n",
    "最优策略是将齐王和田忌的马按照战斗力排序，然后按照战斗力排名一一对比：\n",
    "\n",
    "如果田忌的马能赢，那就比赛，如果赢不了，那就换个垫底的来送人头，保存实力。"
   ]
  },
  {
   "cell_type": "code",
   "execution_count": 2,
   "metadata": {},
   "outputs": [
    {
     "data": {
      "text/plain": [
       "[2, 15, 7, 11]"
      ]
     },
     "execution_count": 2,
     "metadata": {},
     "output_type": "execute_result"
    }
   ],
   "source": [
    "# 力扣超时\n",
    "def f(A: list, B: list) -> list:\n",
    "    res = []\n",
    "    for b in B:\n",
    "        r = float('inf')\n",
    "        for i, a in enumerate(A):\n",
    "            if a > b and (a - b) < r:\n",
    "                r = a - b\n",
    "                index = i\n",
    "        if r != float('inf'):\n",
    "            res.append(A.pop(index))\n",
    "        else:\n",
    "            tmp = A.pop(A.index(min(A)))\n",
    "            res.append(tmp)\n",
    "    return res\n",
    "\n",
    "\n",
    "f([2, 7, 11, 15], [1, 11, 4, 13])\n"
   ]
  },
  {
   "cell_type": "code",
   "execution_count": 10,
   "metadata": {},
   "outputs": [
    {
     "data": {
      "text/plain": [
       "deque([1, 2, 3])"
      ]
     },
     "execution_count": 10,
     "metadata": {},
     "output_type": "execute_result"
    }
   ],
   "source": [
    "from collections import deque\n",
    "a = [1,2,3]\n",
    "a = deque(a)\n"
   ]
  },
  {
   "cell_type": "code",
   "execution_count": 11,
   "metadata": {},
   "outputs": [
    {
     "data": {
      "text/plain": [
       "[2, 11, 7, 15]"
      ]
     },
     "execution_count": 11,
     "metadata": {},
     "output_type": "execute_result"
    }
   ],
   "source": [
    "from bisect import bisect_right\n",
    "\n",
    "\n",
    "def f(A: list, B: list) -> list:\n",
    "    res = []\n",
    "    A.sort()\n",
    "    for b in B:\n",
    "        index_right = bisect_right(A, b) # 大于b的第一个元素索引\n",
    "        if index_right > len(A) - 1:\n",
    "            res.append(A.pop(0))\n",
    "        else:\n",
    "            res.append(A.pop(index_right))\n",
    "    return res\n",
    "\n",
    "\n",
    "f([2, 7, 11, 15], [1, 10, 4, 11])\n"
   ]
  },
  {
   "cell_type": "code",
   "execution_count": null,
   "metadata": {},
   "outputs": [],
   "source": []
  }
 ],
 "metadata": {
  "interpreter": {
   "hash": "aee8b7b246df8f9039afb4144a1f6fd8d2ca17a180786b69acc140d282b71a49"
  },
  "kernelspec": {
   "display_name": "Python 3.8.10 64-bit",
   "language": "python",
   "name": "python3"
  },
  "language_info": {
   "codemirror_mode": {
    "name": "ipython",
    "version": 3
   },
   "file_extension": ".py",
   "mimetype": "text/x-python",
   "name": "python",
   "nbconvert_exporter": "python",
   "pygments_lexer": "ipython3",
   "version": "3.8.10"
  },
  "orig_nbformat": 4
 },
 "nbformat": 4,
 "nbformat_minor": 2
}
