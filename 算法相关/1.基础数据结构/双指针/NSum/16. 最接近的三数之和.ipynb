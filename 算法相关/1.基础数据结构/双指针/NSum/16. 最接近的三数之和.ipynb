{
 "cells": [
  {
   "cell_type": "code",
   "execution_count": 10,
   "metadata": {},
   "outputs": [
    {
     "data": {
      "text/plain": [
       "(2, 0)"
      ]
     },
     "execution_count": 10,
     "metadata": {},
     "output_type": "execute_result"
    }
   ],
   "source": [
    "def f(nums: list, target: int):\n",
    "    nums.sort()\n",
    "\n",
    "    def search(n, t):\n",
    "        l, r = 0, len(n) - 1\n",
    "        while l <= r:\n",
    "            m = (l + r) >> 1\n",
    "            if n[m] >= t:\n",
    "                r = m - 1\n",
    "            else:\n",
    "                l = m + 1\n",
    "        help = lambda x: n[x] if 0 <= x < len(n) else float('inf')\n",
    "        n1, n2 = help(l), help(r)\n",
    "        return min(n1, n2, key=lambda x: abs(x - t))\n",
    "\n",
    "    theClose = float('inf')\n",
    "    ans = -1\n",
    "    for i in range(len(nums) - 2):\n",
    "        if i > 0 and nums[i] == nums[i - 1]:\n",
    "            continue\n",
    "        for j in range(i + 1, len(nums) - 1):\n",
    "            need = target - nums[i] - nums[j]\n",
    "            c = search(nums[j + 1:], need)\n",
    "            close = abs(nums[i] + nums[j] + c - target)\n",
    "            if close == 0:\n",
    "                return nums[i] + nums[j] + c\n",
    "            if close < theClose:\n",
    "                theClose = close\n",
    "                ans = nums[i] + nums[j] + c\n",
    "    return ans\n",
    "\n",
    "\n",
    "f([-1, 2, 1, -4], 1), f([0, 0, 0], 1)\n"
   ]
  },
  {
   "cell_type": "code",
   "execution_count": 15,
   "metadata": {},
   "outputs": [
    {
     "data": {
      "text/plain": [
       "(2, 0)"
      ]
     },
     "execution_count": 15,
     "metadata": {},
     "output_type": "execute_result"
    }
   ],
   "source": [
    "def f(nums: list, target: int):\n",
    "    nums.sort()\n",
    "    ans = float('inf')\n",
    "    for i in range(len(nums) - 2):\n",
    "        if i > 0 and nums[i] == nums[i - 1]:\n",
    "            continue\n",
    "        l, r = i + 1, len(nums) - 1\n",
    "        while l < r:\n",
    "            if abs((s := nums[i] + nums[l] + nums[r]) - target) < abs(ans - target):\n",
    "                ans = s\n",
    "            if s == target:\n",
    "                return s\n",
    "            elif s > target:\n",
    "                r -= 1\n",
    "            else:\n",
    "                l += 1\n",
    "    return ans\n",
    "\n",
    "\n",
    "f([-1, 2, 1, -4], 1), f([0, 0, 0], 1)\n"
   ]
  },
  {
   "cell_type": "code",
   "execution_count": null,
   "metadata": {},
   "outputs": [],
   "source": []
  }
 ],
 "metadata": {
  "interpreter": {
   "hash": "aee8b7b246df8f9039afb4144a1f6fd8d2ca17a180786b69acc140d282b71a49"
  },
  "kernelspec": {
   "display_name": "Python 3.10.1 64-bit",
   "language": "python",
   "name": "python3"
  },
  "language_info": {
   "codemirror_mode": {
    "name": "ipython",
    "version": 3
   },
   "file_extension": ".py",
   "mimetype": "text/x-python",
   "name": "python",
   "nbconvert_exporter": "python",
   "pygments_lexer": "ipython3",
   "version": "3.10.1"
  },
  "orig_nbformat": 4
 },
 "nbformat": 4,
 "nbformat_minor": 2
}
