{
 "cells": [
  {
   "cell_type": "code",
   "execution_count": 6,
   "metadata": {},
   "outputs": [
    {
     "data": {
      "text/plain": [
       "([[-1, -1, 2], [-1, 0, 1]], [], [])"
      ]
     },
     "execution_count": 6,
     "metadata": {},
     "output_type": "execute_result"
    }
   ],
   "source": [
    "# 回溯 力扣超时\n",
    "from typing import List\n",
    "\n",
    "\n",
    "def threeSum(nums: List[int]) -> List[List[int]]:\n",
    "    nums.sort()\n",
    "    path = []\n",
    "    res = []\n",
    "    si = 0\n",
    "\n",
    "    def dfs(si):\n",
    "        if len(path) == 3 and sum(path) == 0:\n",
    "            res.append(path[:])\n",
    "            return\n",
    "        if len(path) == 3 or sum(path) > 0:\n",
    "            return\n",
    "        for i in range(si, len(nums)):\n",
    "            if i > si and nums[i] == nums[i - 1]:\n",
    "                continue\n",
    "            path.append(nums[i])\n",
    "            dfs(i + 1)\n",
    "            path.pop()\n",
    "\n",
    "    dfs(si)\n",
    "    return res\n",
    "\n",
    "\n",
    "threeSum([-1, 0, 1, 2, -1, -4]),threeSum([]),threeSum([0])\n"
   ]
  },
  {
   "cell_type": "code",
   "execution_count": 2,
   "metadata": {},
   "outputs": [
    {
     "data": {
      "text/plain": [
       "([[-1, -1, 2], [-1, 0, 1]], [], [])"
      ]
     },
     "execution_count": 2,
     "metadata": {},
     "output_type": "execute_result"
    }
   ],
   "source": [
    "from typing import List\n",
    "\n",
    "\n",
    "def threeSum(nums: List[int]) -> List[List[int]]:\n",
    "    res = []\n",
    "    nums.sort()\n",
    "    i = 0\n",
    "    while i <= len(nums) - 3:\n",
    "        if nums[i] > 0:\n",
    "            break\n",
    "        if i > 0 and nums[i] == nums[i - 1]:\n",
    "            i += 1\n",
    "            continue\n",
    "        L = i + 1\n",
    "        R = len(nums) - 1  # [L,R]\n",
    "        while L < R:\n",
    "            s = nums[i] + nums[L] + nums[R]\n",
    "            if s > 0:\n",
    "                while L < R and nums[R] == nums[R - 1]:\n",
    "                    R -= 1\n",
    "                R -= 1\n",
    "            elif s < 0:\n",
    "                while L < R and nums[L] == nums[L + 1]:\n",
    "                    L += 1\n",
    "                L += 1\n",
    "            elif s == 0:\n",
    "                res.append([nums[i], nums[L], nums[R]])\n",
    "                while L < R and nums[L] == nums[L + 1]:\n",
    "                    L += 1\n",
    "                while L < R and nums[R] == nums[R - 1]:\n",
    "                    R -= 1\n",
    "                L += 1\n",
    "                R -= 1\n",
    "        i += 1\n",
    "    return res\n",
    "\n",
    "\n",
    "threeSum([-1, 0, 1, 2, -1, -4]), threeSum([]), threeSum([0])\n"
   ]
  },
  {
   "cell_type": "code",
   "execution_count": 2,
   "metadata": {},
   "outputs": [
    {
     "data": {
      "text/plain": [
       "([[-1, -1, 2], [-1, 0, 1]], [], [])"
      ]
     },
     "execution_count": 2,
     "metadata": {},
     "output_type": "execute_result"
    }
   ],
   "source": [
    "from typing import List\n",
    "\n",
    "\n",
    "def threeSum(nums: List[int]) -> List[List[int]]:\n",
    "    res = []\n",
    "    nums.sort()\n",
    "    i = 0\n",
    "    for i in range(len(nums)-2):\n",
    "        if nums[i] > 0:\n",
    "            break\n",
    "        if i > 0 and nums[i] == nums[i - 1]:\n",
    "            continue\n",
    "        L = i + 1\n",
    "        R = len(nums) - 1  # [L,R]\n",
    "        while L < R:\n",
    "            s = nums[i] + nums[L] + nums[R]\n",
    "            if s > 0:\n",
    "                while L < R and nums[R] == nums[R - 1]:\n",
    "                    R -= 1\n",
    "                R -= 1\n",
    "            elif s < 0:\n",
    "                while L < R and nums[L] == nums[L + 1]:\n",
    "                    L += 1\n",
    "                L += 1\n",
    "            elif s == 0:\n",
    "                res.append([nums[i], nums[L], nums[R]])\n",
    "                while L < R and nums[L] == nums[L + 1]:\n",
    "                    L += 1\n",
    "                while L < R and nums[R] == nums[R - 1]:\n",
    "                    R -= 1\n",
    "                L += 1\n",
    "                R -= 1\n",
    "    return res\n",
    "\n",
    "\n",
    "threeSum([-1, 0, 1, 2, -1, -4]), threeSum([]), threeSum([0])\n"
   ]
  },
  {
   "cell_type": "code",
   "execution_count": 9,
   "metadata": {},
   "outputs": [
    {
     "data": {
      "text/plain": [
       "[[0, 0, 0]]"
      ]
     },
     "execution_count": 9,
     "metadata": {},
     "output_type": "execute_result"
    }
   ],
   "source": [
    "from typing import List\n",
    "import bisect\n",
    "\n",
    "\n",
    "def threeSum(nums: List[int]) -> List[List[int]]:\n",
    "    res = []\n",
    "    nums.sort()  # 先排序 为双指针提供基础\n",
    "    for i in range(len(nums) - 2):\n",
    "        if nums[i] > 0:  # 第一个数字大于0 则不可能构成和为0 直接退出\n",
    "            break\n",
    "        if i > 0 and nums[i] == nums[i - 1]:  # 第一个数字重复遍历跳过\n",
    "            continue\n",
    "        l, r = i + 1, len(nums) - 1  # 双指针 后两个数为nums[l] nums[r]\n",
    "        while l < r:\n",
    "            s = nums[i] + nums[l] + nums[r]\n",
    "            if s > 0:  # 和过大 左移右指针 以减小和\n",
    "                r -= 1\n",
    "            elif s < 0:  # 和过小 右移左指针 以增大和\n",
    "                l += 1\n",
    "            elif s == 0:  # 找到目标和\n",
    "                res.append([nums[i], nums[l], nums[r]])  # 找到一个不能跳出 如 [-6,1,5] [-6,2,4]\n",
    "                while l < r and nums[l] == nums[l + 1]:  # 同样需要去掉重复项\n",
    "                    l += 1\n",
    "                while l < r and nums[r] == nums[r - 1]:\n",
    "                    r -= 1\n",
    "                l += 1\n",
    "                r -= 1\n",
    "    return res\n",
    "\n",
    "\n",
    "# threeSum([-1, 0, 1, 2, -1, -4])\n",
    "# threeSum([]), threeSum([0])\n",
    "threeSum([0, 0, 0])\n"
   ]
  },
  {
   "cell_type": "code",
   "execution_count": 22,
   "metadata": {},
   "outputs": [
    {
     "name": "stdout",
     "output_type": "stream",
     "text": [
      "[0, 0, 0]\n",
      "0 1 2\n"
     ]
    },
    {
     "data": {
      "text/plain": [
       "[[0, 0, 0]]"
      ]
     },
     "execution_count": 22,
     "metadata": {},
     "output_type": "execute_result"
    }
   ],
   "source": [
    "def threeSum(nums: List[int]) -> List[List[int]]:\n",
    "    res = []\n",
    "    nums.sort()\n",
    "    # print(nums)\n",
    "    for i in range(len(nums) - 2):\n",
    "        if nums[i] > 0:\n",
    "            break\n",
    "        if i > 0 and nums[i] == nums[i - 1]:\n",
    "            continue\n",
    "        l, r = i + 1, len(nums) - 1\n",
    "        while l < r:\n",
    "            s = nums[i] + nums[l] + nums[r]\n",
    "            if s > 0:\n",
    "                r -= 1\n",
    "            elif s < 0:\n",
    "                l += 1\n",
    "            elif s == 0:\n",
    "                res.append([nums[i], nums[l], nums[r]])\n",
    "                # print(i,l,r)\n",
    "                index_l = bisect.bisect_right(nums, nums[l]) - 1\n",
    "                if 0 <= index_l and nums[index_l] == nums[l]:\n",
    "                    l = index_l\n",
    "                index_r = bisect.bisect_left(nums, nums[r])\n",
    "                if index_r <= len(nums) - 1 and nums[index_r] == nums[r]:\n",
    "                    r = index_r\n",
    "                l += 1\n",
    "                r -= 1\n",
    "    return res\n",
    "\n",
    "\n",
    "# threeSum([-1, 0, 1, 2, -1, -4])\n",
    "# threeSum([]), threeSum([0])\n",
    "threeSum([0, 0, 0])\n",
    "# threeSum([0, 2, 2, 3, 0, 1, 2, 3, -1, -4, 2])\n"
   ]
  },
  {
   "cell_type": "code",
   "execution_count": 2,
   "metadata": {},
   "outputs": [
    {
     "data": {
      "text/plain": [
       "'[1, 2, 3]'"
      ]
     },
     "execution_count": 2,
     "metadata": {},
     "output_type": "execute_result"
    }
   ],
   "source": [
    "l = [1,2,3]\n",
    "# ''.join(l)\n",
    "str(l)"
   ]
  },
  {
   "cell_type": "code",
   "execution_count": null,
   "metadata": {},
   "outputs": [],
   "source": [
    "from itertools import combinations"
   ]
  }
 ],
 "metadata": {
  "interpreter": {
   "hash": "004de6046f1b3d314f33fdb43a2dc798b2646e5600efd8df5066c8b63a00ff6d"
  },
  "kernelspec": {
   "display_name": "Python 3.8.10 64-bit",
   "language": "python",
   "name": "python3"
  },
  "language_info": {
   "codemirror_mode": {
    "name": "ipython",
    "version": 3
   },
   "file_extension": ".py",
   "mimetype": "text/x-python",
   "name": "python",
   "nbconvert_exporter": "python",
   "pygments_lexer": "ipython3",
   "version": "3.8.10"
  },
  "orig_nbformat": 4
 },
 "nbformat": 4,
 "nbformat_minor": 2
}
