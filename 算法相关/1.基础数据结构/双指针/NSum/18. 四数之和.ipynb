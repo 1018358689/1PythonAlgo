{
 "cells": [
  {
   "cell_type": "code",
   "execution_count": 7,
   "metadata": {},
   "outputs": [
    {
     "data": {
      "text/plain": [
       "[[2, 2, 2, 2]]"
      ]
     },
     "execution_count": 7,
     "metadata": {},
     "output_type": "execute_result"
    }
   ],
   "source": [
    "# 回溯 力扣超时\n",
    "\n",
    "from typing import List\n",
    "\n",
    "\n",
    "def fourSum(nums: List[int], target: int) -> List[List[int]]:\n",
    "    nums.sort()\n",
    "    path = []\n",
    "    res = []\n",
    "    si = 0\n",
    "\n",
    "    def dfs(si):\n",
    "        if len(path) == 4 and sum(path) == target:\n",
    "            res.append(path[:])\n",
    "            return\n",
    "        if len(path) == 4:\n",
    "            return\n",
    "        # if sum(path) > target and path != []:\n",
    "        #     return\n",
    "        for i in range(si, len(nums)):\n",
    "            if i > si and nums[i] == nums[i - 1]:\n",
    "                continue\n",
    "            path.append(nums[i])\n",
    "            dfs(i + 1)\n",
    "            path.pop()\n",
    "\n",
    "    dfs(si)\n",
    "    return res\n",
    "\n",
    "\n",
    "# fourSum([1, 0, -1, 0, -2, 2], 0), fourSum([2, 2, 2, 2, 2], 8)\n",
    "# fourSum([-1, 0, 1, 2, -1, -4], -1)\n",
    "# fourSum([1,-2,-5,-4,-3,3,3,5],-11)\n",
    "fourSum([2, 2, 2, 2, 2], 8)\n",
    "\n"
   ]
  },
  {
   "cell_type": "code",
   "execution_count": 10,
   "metadata": {},
   "outputs": [
    {
     "name": "stdout",
     "output_type": "stream",
     "text": [
      "-7\n",
      "-9\n",
      "-9\n",
      "-11\n",
      "-5\n",
      "-7\n",
      "-7\n",
      "-9\n",
      "-1\n",
      "-3\n",
      "-3\n",
      "4\n",
      "2\n",
      "6\n",
      "-4\n",
      "-6\n",
      "-6\n",
      "-8\n",
      "0\n",
      "-2\n",
      "-2\n",
      "5\n",
      "3\n",
      "7\n",
      "1\n",
      "-1\n",
      "-1\n",
      "6\n",
      "4\n",
      "8\n",
      "7\n",
      "5\n",
      "9\n",
      "12\n"
     ]
    },
    {
     "data": {
      "text/plain": [
       "[[-5, -4, -3, 1]]"
      ]
     },
     "execution_count": 10,
     "metadata": {},
     "output_type": "execute_result"
    }
   ],
   "source": [
    "def fourSum(nums: list, target: int):\n",
    "    res = []\n",
    "    nums.sort()\n",
    "    for i in range(len(nums) - 3):\n",
    "        if i > 0 and nums[i] == nums[i - 1]: # 当值是target非0时候  不能用nums[i]>target:break 提前退出 因为当a=-5 target=-10仍有可能减到-10\n",
    "            continue\n",
    "        a = nums[i]\n",
    "        for j in range(i + 1, len(nums) - 2):\n",
    "            if j > i + 1 and nums[j] == nums[j - 1]:\n",
    "                continue\n",
    "            b = nums[j]\n",
    "            l, r = j + 1, len(nums) - 1\n",
    "            while l < r:\n",
    "                c, d = nums[l], nums[r]\n",
    "                s = a + b + c + d\n",
    "                if s > target:\n",
    "                    r -= 1\n",
    "                elif s < target:\n",
    "                    l += 1\n",
    "                else:\n",
    "                    res.append([a, b, c, d])\n",
    "                    while l < r and nums[l + 1] == nums[l]:\n",
    "                        l += 1\n",
    "                    while l < r and nums[r - 1] == nums[r]:\n",
    "                        r -= 1\n",
    "                    l += 1\n",
    "                    r -= 1\n",
    "    return res\n",
    "\n",
    "\n",
    "# fourSum([2, 2, 2, 2, 2], 8)\n",
    "fourSum([1, -2, -5, -4, -3, 3, 3, 5], -11)\n"
   ]
  },
  {
   "cell_type": "code",
   "execution_count": null,
   "metadata": {},
   "outputs": [],
   "source": []
  }
 ],
 "metadata": {
  "interpreter": {
   "hash": "004de6046f1b3d314f33fdb43a2dc798b2646e5600efd8df5066c8b63a00ff6d"
  },
  "kernelspec": {
   "display_name": "Python 3.8.10 64-bit",
   "language": "python",
   "name": "python3"
  },
  "language_info": {
   "codemirror_mode": {
    "name": "ipython",
    "version": 3
   },
   "file_extension": ".py",
   "mimetype": "text/x-python",
   "name": "python",
   "nbconvert_exporter": "python",
   "pygments_lexer": "ipython3",
   "version": "3.10.1"
  },
  "orig_nbformat": 4
 },
 "nbformat": 4,
 "nbformat_minor": 2
}
