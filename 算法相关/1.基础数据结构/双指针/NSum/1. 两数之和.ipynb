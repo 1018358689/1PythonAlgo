{
 "cells": [
  {
   "cell_type": "code",
   "execution_count": 8,
   "metadata": {},
   "outputs": [
    {
     "data": {
      "text/plain": [
       "True"
      ]
     },
     "execution_count": 8,
     "metadata": {},
     "output_type": "execute_result"
    }
   ],
   "source": [
    "list(range(8, 8))\n",
    "d = {'a': 1, 'a': 2}\n",
    "d = {3: 'a', 3: 'b'}\n",
    "d.get(4) is None"
   ]
  },
  {
   "cell_type": "code",
   "execution_count": 10,
   "metadata": {},
   "outputs": [
    {
     "data": {
      "text/plain": [
       "([0, 1], [0, 1])"
      ]
     },
     "execution_count": 10,
     "metadata": {},
     "output_type": "execute_result"
    }
   ],
   "source": [
    "from typing import List\n",
    "\n",
    "\n",
    "def twoSum(nums: List[int], target: int) -> List[int]:\n",
    "    for i in range(len(nums) - 1):\n",
    "        for j in range(i + 1, len(nums)):\n",
    "            if nums[i] + nums[j] == target:\n",
    "                return [i, j]\n",
    "\n",
    "\n",
    "twoSum([2, 7, 11, 15], 9), twoSum([3, 3], 6)\n"
   ]
  },
  {
   "cell_type": "code",
   "execution_count": 5,
   "metadata": {},
   "outputs": [
    {
     "data": {
      "text/plain": [
       "([0, 1], [0, 1])"
      ]
     },
     "execution_count": 5,
     "metadata": {},
     "output_type": "execute_result"
    }
   ],
   "source": [
    "def twoSum(nums: List[int], target: int) -> List[int]:\n",
    "    ha = {}\n",
    "    for i, n in enumerate(nums):  # 获得value-index字典 相同值的索引为大的那个索引\n",
    "        ha[n] = i\n",
    "    for i, n in enumerate(nums):\n",
    "        j = ha.get(target - n)\n",
    "        if j != None and j != i:  # j存在 且i和j不一样（说明j和i不重叠)\n",
    "            return [i, j]\n",
    "\n",
    "\n",
    "twoSum([2, 7, 11, 15], 9), twoSum([3, 3], 6)\n"
   ]
  },
  {
   "cell_type": "code",
   "execution_count": 1,
   "metadata": {},
   "outputs": [
    {
     "data": {
      "text/plain": [
       "([0, 1], [0, 1])"
      ]
     },
     "execution_count": 1,
     "metadata": {},
     "output_type": "execute_result"
    }
   ],
   "source": [
    "from typing import List\n",
    "\n",
    "# O(n^2)\n",
    "def twoSum(nums: List[int], target: int) -> List[int]:\n",
    "    for i in range(len(nums) - 1):\n",
    "        base = nums[i]\n",
    "        for j in range(i + 1, len(nums)):\n",
    "            if base + nums[j] == target:\n",
    "                return [i, j]\n",
    "\n",
    "\n",
    "twoSum([2, 7, 11, 15], 9), twoSum([3, 3], 6)\n"
   ]
  },
  {
   "cell_type": "code",
   "execution_count": 2,
   "metadata": {},
   "outputs": [
    {
     "data": {
      "text/plain": [
       "([0, 1], [0, 1])"
      ]
     },
     "execution_count": 2,
     "metadata": {},
     "output_type": "execute_result"
    }
   ],
   "source": [
    "from typing import List\n",
    "\n",
    "# O(n^2)\n",
    "def twoSum(nums: List[int], target: int) -> List[int]:\n",
    "    for i in range(len(nums) - 1):\n",
    "        base = nums[i]\n",
    "        other = target - base\n",
    "        if other in nums[i + 1:]: # in列表查找 的时间复杂度为O(n)\n",
    "            # 这里注意other查找索引设置i+1，避免出现target = 6，[3,3]返回[0,0]的错误\n",
    "            return [i, nums.index(other, i + 1)]\n",
    "\n",
    "\n",
    "twoSum([2, 7, 11, 15], 9), twoSum([3, 3], 6)"
   ]
  },
  {
   "cell_type": "code",
   "execution_count": 5,
   "metadata": {},
   "outputs": [
    {
     "data": {
      "text/plain": [
       "([0, 1], [0, 1])"
      ]
     },
     "execution_count": 5,
     "metadata": {},
     "output_type": "execute_result"
    }
   ],
   "source": [
    "from typing import List\n",
    "\n",
    "# O(n)\n",
    "def twoSum(nums: List[int], target: int) -> List[int]:\n",
    "    ha = {}  # nums值:键 字典\n",
    "    for i, n in enumerate(nums):\n",
    "        need = target - n  # 需要找的数\n",
    "        if need in ha:  # 如果需要找的数 存在前面值的字典中 则直接返回 # in字典时间复杂度 O(1)\n",
    "            return [ha[need], i]\n",
    "        ha[n] = i  # 建字典\n",
    "\n",
    "\n",
    "twoSum([2, 7, 11, 15], 9), twoSum([3, 3], 6)"
   ]
  },
  {
   "cell_type": "code",
   "execution_count": null,
   "metadata": {},
   "outputs": [],
   "source": []
  }
 ],
 "metadata": {
  "kernelspec": {
   "display_name": "Python 3.10.6 64-bit",
   "language": "python",
   "name": "python3"
  },
  "language_info": {
   "codemirror_mode": {
    "name": "ipython",
    "version": 3
   },
   "file_extension": ".py",
   "mimetype": "text/x-python",
   "name": "python",
   "nbconvert_exporter": "python",
   "pygments_lexer": "ipython3",
   "version": "3.10.6"
  },
  "orig_nbformat": 4,
  "vscode": {
   "interpreter": {
    "hash": "dfbf064e0f2c8839bc658dd75dfc0b8f09a0440078cae3024109b27659b69d06"
   }
  }
 },
 "nbformat": 4,
 "nbformat_minor": 2
}
