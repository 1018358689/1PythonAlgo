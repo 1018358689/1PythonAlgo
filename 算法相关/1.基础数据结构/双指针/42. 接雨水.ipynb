{
 "cells": [
  {
   "cell_type": "markdown",
   "metadata": {},
   "source": [
    "给定 n 个非负整数表示每个宽度为 1 的柱子的高度图，计算按此排列的柱子，下雨之后能接多少雨水。\n",
    "\n",
    "示例 1：\n",
    "输入：height = [0,1,0,2,1,0,1,3,2,1,2,1]\n",
    "输出：6\n",
    "解释：上面是由数组 [0,1,0,2,1,0,1,3,2,1,2,1] 表示的高度图，在这种情况下，可以接 6 个单位的雨水（蓝色部分表示雨水）。 \n",
    "\n",
    "示例 2：\n",
    "输入：height = [4,2,0,3,2,5]\n",
    "输出：9\n",
    "\n",
    "来源：力扣（LeetCode）\n",
    "链接：https://leetcode-cn.com/problems/trapping-rain-water\n",
    "著作权归领扣网络所有。商业转载请联系官方授权，非商业转载请注明出处。"
   ]
  },
  {
   "cell_type": "markdown",
   "metadata": {},
   "source": [
    "对于任意一个位置 i，能够装的水为：\n",
    "water[i] = min(\n",
    "           # 左边最高的柱子\n",
    "           max(height[0..i]),\n",
    "           # 右边最高的柱子\n",
    "           max(height[i..end])\n",
    "        ) - height[i]\n"
   ]
  },
  {
   "cell_type": "code",
   "execution_count": 6,
   "metadata": {},
   "outputs": [
    {
     "data": {
      "text/plain": [
       "(6, 9)"
      ]
     },
     "execution_count": 6,
     "metadata": {},
     "output_type": "execute_result"
    }
   ],
   "source": [
    "def f(height: list) -> int:\n",
    "    def water(i: int) -> int:\n",
    "        max_left = max(height[:i]) if i > 0 else 0\n",
    "        max_right = max(height[i:]) if i < len(height) - 1 else 0\n",
    "        r = min(max_left, max_right) - height[i]\n",
    "        return r if r > 0 else 0\n",
    "\n",
    "    return sum(water(i) for i in range(len(height)))\n",
    "\n",
    "\n",
    "f([0, 1, 0, 2, 1, 0, 1, 3, 2, 1, 2, 1]), f([4, 2, 0, 3, 2, 5])\n"
   ]
  },
  {
   "cell_type": "code",
   "execution_count": 9,
   "metadata": {},
   "outputs": [
    {
     "data": {
      "text/plain": [
       "(6, 9)"
      ]
     },
     "execution_count": 9,
     "metadata": {},
     "output_type": "execute_result"
    }
   ],
   "source": [
    "# 双指针\n",
    "def f(height: list) -> int:\n",
    "    l, r = 0, len(height) - 1\n",
    "    height_lr = 0\n",
    "    height_rl = 0\n",
    "    ans = 0\n",
    "    while l < r:\n",
    "        height_lr = max(height_lr, height[l])\n",
    "        height_rl = max(height_rl, height[r])\n",
    "        if height_lr < height_rl:\n",
    "            ans += height_lr - height[l]\n",
    "            l += 1\n",
    "        else:\n",
    "            ans += height_rl - height[r]\n",
    "            r -= 1\n",
    "    return ans\n",
    "\n",
    "\n",
    "f([0, 1, 0, 2, 1, 0, 1, 3, 2, 1, 2, 1]), f([4, 2, 0, 3, 2, 5])\n"
   ]
  },
  {
   "cell_type": "code",
   "execution_count": 7,
   "metadata": {},
   "outputs": [
    {
     "data": {
      "text/plain": [
       "(6, 9)"
      ]
     },
     "execution_count": 7,
     "metadata": {},
     "output_type": "execute_result"
    }
   ],
   "source": [
    "# https://leetcode-cn.com/problems/trapping-rain-water/solution/wei-en-tu-jie-fa-zui-jian-dan-yi-dong-10xing-jie-j/\n",
    "def f(height: list) -> int:\n",
    "    s_lr = 0 # 往右投影\n",
    "    s_rl = 0\n",
    "    max_height_lr = 0\n",
    "    max_height_rl = 0\n",
    "    for i in range(len(height)):\n",
    "        max_height_lr = max(max_height_lr, height[i])\n",
    "        s_lr += max_height_lr\n",
    "    for i in range(len(height) - 1, -1, -1):\n",
    "        max_height_rl = max(max_height_rl, height[i])\n",
    "        s_rl += max_height_rl\n",
    "    # s_lr + s_rl - 积水 - 柱子 = 矩形\n",
    "    # 积水 = s_lr + s_rl - 柱子 - 矩形\n",
    "    return s_lr + s_rl - sum(height) - max_height_lr * len(height)\n",
    "\n",
    "\n",
    "f([0, 1, 0, 2, 1, 0, 1, 3, 2, 1, 2, 1]), f([4, 2, 0, 3, 2, 5])\n"
   ]
  },
  {
   "cell_type": "code",
   "execution_count": null,
   "metadata": {},
   "outputs": [],
   "source": []
  }
 ],
 "metadata": {
  "interpreter": {
   "hash": "aee8b7b246df8f9039afb4144a1f6fd8d2ca17a180786b69acc140d282b71a49"
  },
  "kernelspec": {
   "display_name": "Python 3.8.10 64-bit",
   "language": "python",
   "name": "python3"
  },
  "language_info": {
   "codemirror_mode": {
    "name": "ipython",
    "version": 3
   },
   "file_extension": ".py",
   "mimetype": "text/x-python",
   "name": "python",
   "nbconvert_exporter": "python",
   "pygments_lexer": "ipython3",
   "version": "3.8.10"
  },
  "orig_nbformat": 4
 },
 "nbformat": 4,
 "nbformat_minor": 2
}
