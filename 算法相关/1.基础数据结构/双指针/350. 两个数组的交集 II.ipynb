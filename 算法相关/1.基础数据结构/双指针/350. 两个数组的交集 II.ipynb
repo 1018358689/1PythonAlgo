{
 "cells": [
  {
   "cell_type": "code",
   "execution_count": 2,
   "metadata": {},
   "outputs": [
    {
     "data": {
      "text/plain": [
       "[2, 2]"
      ]
     },
     "execution_count": 2,
     "metadata": {},
     "output_type": "execute_result"
    }
   ],
   "source": [
    "from collections import Counter\n",
    "\n",
    "\n",
    "def f(nums1: list, nums2: list):\n",
    "    return list((Counter(nums1) & Counter(nums2)).elements())\n",
    "\n",
    "\n",
    "f([1, 2, 2, 1], [2, 2])\n"
   ]
  },
  {
   "cell_type": "code",
   "execution_count": 4,
   "metadata": {},
   "outputs": [
    {
     "data": {
      "text/plain": [
       "[2, 2]"
      ]
     },
     "execution_count": 4,
     "metadata": {},
     "output_type": "execute_result"
    }
   ],
   "source": [
    "def f(nums1: list, nums2: list):\n",
    "    nums1.sort()\n",
    "    nums2.sort()\n",
    "    l = r = 0\n",
    "    ans = []\n",
    "    while l < len(nums1) and r < len(nums2):\n",
    "        if (n1 := nums1[l]) < (n2 := nums2[r]):\n",
    "            l += 1\n",
    "        elif n1 > n2:\n",
    "            r += 1\n",
    "        else:\n",
    "            ans += [n1]\n",
    "            l += 1\n",
    "            r += 1\n",
    "    return ans\n",
    "\n",
    "\n",
    "f([1, 2, 2, 1], [2, 2])\n"
   ]
  },
  {
   "cell_type": "code",
   "execution_count": 5,
   "metadata": {},
   "outputs": [
    {
     "data": {
      "text/plain": [
       "[2, 2]"
      ]
     },
     "execution_count": 5,
     "metadata": {},
     "output_type": "execute_result"
    }
   ],
   "source": [
    "def f(nums1: list, nums2: list):\n",
    "    nums2.sort()\n",
    "    ans = []\n",
    "    for n in nums1:\n",
    "        if not nums2:\n",
    "            break\n",
    "        l, r = 0, len(nums2) - 1\n",
    "        while l <= r:\n",
    "            m = (l + r) >> 1\n",
    "            if nums2[m] >= n:\n",
    "                r = m - 1\n",
    "            else:\n",
    "                l = m + 1\n",
    "        if l < len(nums2) and nums2[l] == n:\n",
    "            ans.append(n)\n",
    "            nums2.pop(l)\n",
    "    return ans\n",
    "\n",
    "\n",
    "f([1, 2, 2, 1], [2, 2])\n"
   ]
  },
  {
   "cell_type": "code",
   "execution_count": 6,
   "metadata": {},
   "outputs": [
    {
     "data": {
      "text/plain": [
       "[2, 2]"
      ]
     },
     "execution_count": 6,
     "metadata": {},
     "output_type": "execute_result"
    }
   ],
   "source": [
    "def f(nums1: list, nums2: list):\n",
    "    if len(nums1) > len(nums2):\n",
    "        nums1, nums2 = nums2, nums1\n",
    "    nums2.sort() # nums2较长\n",
    "    ans = []\n",
    "    for n in nums1:\n",
    "        l, r = 0, len(nums2) - 1\n",
    "        while l <= r:\n",
    "            m = (l + r) >> 1\n",
    "            if nums2[m] >= n:\n",
    "                r = m - 1\n",
    "            else:\n",
    "                l = m + 1\n",
    "        if l < len(nums2) and nums2[l] == n:\n",
    "            ans.append(n)\n",
    "            nums2.pop(l)\n",
    "    return ans\n",
    "\n",
    "\n",
    "f([1, 2, 2, 1], [2, 2])\n"
   ]
  },
  {
   "cell_type": "code",
   "execution_count": null,
   "metadata": {},
   "outputs": [],
   "source": []
  }
 ],
 "metadata": {
  "interpreter": {
   "hash": "aee8b7b246df8f9039afb4144a1f6fd8d2ca17a180786b69acc140d282b71a49"
  },
  "kernelspec": {
   "display_name": "Python 3.10.1 64-bit",
   "language": "python",
   "name": "python3"
  },
  "language_info": {
   "codemirror_mode": {
    "name": "ipython",
    "version": 3
   },
   "file_extension": ".py",
   "mimetype": "text/x-python",
   "name": "python",
   "nbconvert_exporter": "python",
   "pygments_lexer": "ipython3",
   "version": "3.10.1"
  },
  "orig_nbformat": 4
 },
 "nbformat": 4,
 "nbformat_minor": 2
}
