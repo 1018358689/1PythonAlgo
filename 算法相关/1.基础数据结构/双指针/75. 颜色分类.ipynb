{
 "cells": [
  {
   "cell_type": "code",
   "execution_count": 9,
   "metadata": {},
   "outputs": [
    {
     "name": "stdout",
     "output_type": "stream",
     "text": [
      "[0, 0, 1, 1, 2, 2]\n"
     ]
    }
   ],
   "source": [
    "def f(nums: list):\n",
    "    # 循环不变量\n",
    "    # ALL IN [0,p0) = 0\n",
    "    # ALL IN [p0,i) = 1\n",
    "    # ALL IN (p2,len-1] =2\n",
    "    # 初始化保证区间为空\n",
    "    p0 = 0\n",
    "    i = 0\n",
    "    p2 = len(nums) - 1\n",
    "    while i <= p2:\n",
    "        if nums[i] == 0:\n",
    "            nums[i], nums[p0] = nums[p0], nums[i]\n",
    "            p0 += 1\n",
    "            i += 1\n",
    "        elif nums[i] == 2:\n",
    "            nums[p2], nums[i] = nums[i], nums[p2]\n",
    "            p2 -= 1\n",
    "        else:\n",
    "            i += 1\n",
    "    print(nums)\n",
    "\n",
    "\n",
    "f([2, 0, 2, 1, 1, 0])\n"
   ]
  },
  {
   "cell_type": "code",
   "execution_count": 10,
   "metadata": {},
   "outputs": [
    {
     "name": "stdout",
     "output_type": "stream",
     "text": [
      "[0, 0, 1, 1, 2, 2]\n"
     ]
    }
   ],
   "source": [
    "def f(nums: list):\n",
    "    # 循环不变量\n",
    "    # ALL IN [0,p0] = 0\n",
    "    # ALL IN (p0,i) = 1\n",
    "    # ALL IN [p2,len-1] =2\n",
    "    # 初始化保证区间为空\n",
    "    p0 = -1\n",
    "    i = 0\n",
    "    p2 = len(nums)\n",
    "    while i < p2:\n",
    "        if nums[i] == 0:\n",
    "            p0 += 1\n",
    "            nums[i], nums[p0] = nums[p0], nums[i]\n",
    "            i += 1\n",
    "        elif nums[i] == 2:\n",
    "            p2 -= 1\n",
    "            nums[p2], nums[i] = nums[i], nums[p2]\n",
    "        else:\n",
    "            i += 1\n",
    "    print(nums)\n",
    "\n",
    "\n",
    "f([2, 0, 2, 1, 1, 0])\n"
   ]
  },
  {
   "cell_type": "code",
   "execution_count": 5,
   "metadata": {},
   "outputs": [
    {
     "name": "stdout",
     "output_type": "stream",
     "text": [
      "0 0 5 [0, 0, 2, 1, 1, 2]\n",
      "1 1 5 [0, 0, 2, 1, 1, 2]\n",
      "2 2 5 [0, 0, 2, 1, 1, 2]\n",
      "2 2 4 [0, 0, 1, 1, 2, 2]\n",
      "2 3 4 [0, 0, 1, 1, 2, 2]\n",
      "2 4 4 [0, 0, 1, 1, 2, 2]\n",
      "[0, 0, 1, 1, 2, 2]\n"
     ]
    }
   ],
   "source": [
    "def f(nums: list):\n",
    "    # 循环不变量\n",
    "    # ALL IN [0,p1) = 0\n",
    "    # ALL IN [p1,p2) = 1\n",
    "    # ALL IN [p3,len) =2\n",
    "    # 初始化保证区间为空\n",
    "    p1, p2, p3 = 0, 0, len(nums)\n",
    "    while p2 < p3: # 相当于p2==p3退出循环\n",
    "        if nums[p2] == 0:\n",
    "            nums[p2], nums[p1] = nums[p1], nums[p2]\n",
    "            p1 += 1\n",
    "            p2 += 1\n",
    "        elif nums[p2] == 1:\n",
    "            p2 += 1\n",
    "        else:\n",
    "            p3 -= 1\n",
    "            nums[p3], nums[p2] = nums[p2], nums[p3]\n",
    "        print(p1,p2,p3,nums)\n",
    "    print(nums)\n",
    "\n",
    "\n",
    "# f([2, 0, 1])\n",
    "f([2, 0, 2, 1, 1, 0])\n"
   ]
  },
  {
   "cell_type": "code",
   "execution_count": 6,
   "metadata": {},
   "outputs": [],
   "source": [
    "from typing import List\n",
    "\n",
    "\n",
    "class Solution:\n",
    "\n",
    "    def sortColors(self, nums: List[int]) -> None:\n",
    "        \"\"\"\n",
    "        Do not return anything, modify nums in-place instead.\n",
    "        \"\"\"\n",
    "        mark = 0\n",
    "        for i in range(1, len(nums)):\n",
    "            if nums[i] == 0:\n",
    "                mark += 1\n",
    "                nums[i], nums[mark] = nums[mark], nums[i]\n",
    "        nums[mark], nums[0] = nums[0], nums[mark]\n",
    "        if nums[mark] == 0:\n",
    "            mark += 1\n",
    "        if mark > len(nums) - 1:  # 全是0 直接退出\n",
    "            return\n",
    "        # 以上保证mark左边全是0\n",
    "        si = mark\n",
    "        for i in range(si + 1, len(nums)):\n",
    "            if nums[i] == 1:\n",
    "                mark += 1\n",
    "                nums[i], nums[mark] = nums[mark], nums[i]\n",
    "        nums[mark], nums[si] = nums[si], nums[mark]\n",
    "\n",
    "\n",
    "s = Solution()\n",
    "s.sortColors([2, 0, 2, 1, 1, 0])\n"
   ]
  },
  {
   "cell_type": "code",
   "execution_count": null,
   "metadata": {},
   "outputs": [],
   "source": []
  }
 ],
 "metadata": {
  "kernelspec": {
   "display_name": "Python 3.10.6 64-bit",
   "language": "python",
   "name": "python3"
  },
  "language_info": {
   "codemirror_mode": {
    "name": "ipython",
    "version": 3
   },
   "file_extension": ".py",
   "mimetype": "text/x-python",
   "name": "python",
   "nbconvert_exporter": "python",
   "pygments_lexer": "ipython3",
   "version": "3.10.6"
  },
  "orig_nbformat": 4,
  "vscode": {
   "interpreter": {
    "hash": "dfbf064e0f2c8839bc658dd75dfc0b8f09a0440078cae3024109b27659b69d06"
   }
  }
 },
 "nbformat": 4,
 "nbformat_minor": 2
}
