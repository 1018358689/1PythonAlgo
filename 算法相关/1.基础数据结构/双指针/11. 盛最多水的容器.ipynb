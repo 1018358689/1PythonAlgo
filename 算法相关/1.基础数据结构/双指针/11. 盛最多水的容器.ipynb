{
 "cells": [
  {
   "cell_type": "markdown",
   "metadata": {},
   "source": [
    "给你 n 个非负整数 a1，a2，...，an，每个数代表坐标中的一个点 (i, ai) 。在坐标内画 n 条垂直线，垂直线 i 的两个端点分别为 (i, ai) 和 (i, 0) 。找出其中的两条线，使得它们与 x 轴共同构成的容器可以容纳最多的水。\n",
    "\n",
    "说明：你不能倾斜容器。\n",
    "\n",
    "\n",
    "示例 1：\n",
    "\n",
    "输入：[1,8,6,2,5,4,8,3,7]\n",
    "输出：49 \n",
    "解释：图中垂直线代表输入数组 [1,8,6,2,5,4,8,3,7]。在此情况下，容器能够容纳水（表示为蓝色部分）的最大值为49。\n",
    "\n",
    "示例 2：\n",
    "输入：height = [1,1]\n",
    "输出：1\n",
    "\n",
    "示例 3：\n",
    "输入：height = [4,3,2,1,4]\n",
    "输出：16\n",
    "\n",
    "示例 4：\n",
    "输入：height = [1,2,1]\n",
    "输出：2\n",
    "\n",
    "来源：力扣（LeetCode）\n",
    "链接：https://leetcode-cn.com/problems/container-with-most-water\n",
    "著作权归领扣网络所有。商业转载请联系官方授权，非商业转载请注明出处。"
   ]
  },
  {
   "cell_type": "code",
   "execution_count": 2,
   "metadata": {},
   "outputs": [
    {
     "data": {
      "text/plain": [
       "(49, 1, 16, 2)"
      ]
     },
     "execution_count": 2,
     "metadata": {},
     "output_type": "execute_result"
    }
   ],
   "source": [
    "def f(height: list) -> int:\n",
    "    res = []\n",
    "    for l in range(len(height) - 1):\n",
    "        for r in range(l + 1, len(height)):\n",
    "            area = (r - l) * min(height[l], height[r])\n",
    "            res.append(area)\n",
    "    return max(res)\n",
    "\n",
    "\n",
    "f([1, 8, 6, 2, 5, 4, 8, 3, 7]), f([1, 1]), f([4, 3, 2, 1, 4]), f([1, 2, 1])\n"
   ]
  },
  {
   "cell_type": "code",
   "execution_count": 3,
   "metadata": {},
   "outputs": [],
   "source": [
    "# 在每个状态下，无论长板或短板向中间收窄一格，都会导致水槽 底边宽度 -1−1​ 变短：\n",
    "\n",
    "# 若向内 移动短板 ，水槽的短板 min(h[i], h[j])min(h[i],h[j]) 可能变大，因此下个水槽的面积 可能增大 。\n",
    "# 若向内 移动长板 ，水槽的短板 min(h[i], h[j])min(h[i],h[j])​ 不变或变小，因此下个水槽的面积 一定变小 。"
   ]
  },
  {
   "cell_type": "code",
   "execution_count": 4,
   "metadata": {},
   "outputs": [
    {
     "data": {
      "text/plain": [
       "(49, 1, 16, 2)"
      ]
     },
     "execution_count": 4,
     "metadata": {},
     "output_type": "execute_result"
    }
   ],
   "source": [
    "def f(height: list) -> int:\n",
    "    l, r = 0, len(height) - 1\n",
    "    res = []\n",
    "    while l < r:\n",
    "        area = (r - l) * min(height[l], height[r])\n",
    "        res.append(area)\n",
    "        if height[l] < height[r]:\n",
    "            l += 1\n",
    "        else:\n",
    "            r -= 1\n",
    "    return max(res)\n",
    "\n",
    "\n",
    "f([1, 8, 6, 2, 5, 4, 8, 3, 7]), f([1, 1]), f([4, 3, 2, 1, 4]), f([1, 2, 1])\n"
   ]
  },
  {
   "cell_type": "code",
   "execution_count": 5,
   "metadata": {},
   "outputs": [
    {
     "data": {
      "text/plain": [
       "(49, 1, 16, 2)"
      ]
     },
     "execution_count": 5,
     "metadata": {},
     "output_type": "execute_result"
    }
   ],
   "source": [
    "def f(height: list) -> int:\n",
    "    l, r = 0, len(height) - 1\n",
    "    ans = 0\n",
    "    while l < r:\n",
    "        area = (r - l) * min(height[l], height[r])\n",
    "        ans = max(ans,area)\n",
    "        if height[l] < height[r]:\n",
    "            l += 1\n",
    "        else:\n",
    "            r -= 1\n",
    "    return ans\n",
    "\n",
    "\n",
    "f([1, 8, 6, 2, 5, 4, 8, 3, 7]), f([1, 1]), f([4, 3, 2, 1, 4]), f([1, 2, 1])\n"
   ]
  },
  {
   "cell_type": "code",
   "execution_count": 6,
   "metadata": {},
   "outputs": [
    {
     "data": {
      "text/plain": [
       "(49, 1, 16, 2)"
      ]
     },
     "execution_count": 6,
     "metadata": {},
     "output_type": "execute_result"
    }
   ],
   "source": [
    "def f(height: list) -> int:\n",
    "    l, r = 0, len(height) - 1\n",
    "    ans = 0\n",
    "    while l < r:\n",
    "        if height[l] < height[r]:\n",
    "            area = (r - l) * height[l]\n",
    "            l += 1\n",
    "        else:\n",
    "            area = (r - l) * height[r]\n",
    "            r -= 1\n",
    "        ans = max(ans,area)\n",
    "    return ans\n",
    "\n",
    "\n",
    "f([1, 8, 6, 2, 5, 4, 8, 3, 7]), f([1, 1]), f([4, 3, 2, 1, 4]), f([1, 2, 1])\n"
   ]
  },
  {
   "cell_type": "code",
   "execution_count": null,
   "metadata": {},
   "outputs": [],
   "source": []
  }
 ],
 "metadata": {
  "interpreter": {
   "hash": "aee8b7b246df8f9039afb4144a1f6fd8d2ca17a180786b69acc140d282b71a49"
  },
  "kernelspec": {
   "display_name": "Python 3.8.10 64-bit",
   "language": "python",
   "name": "python3"
  },
  "language_info": {
   "codemirror_mode": {
    "name": "ipython",
    "version": 3
   },
   "file_extension": ".py",
   "mimetype": "text/x-python",
   "name": "python",
   "nbconvert_exporter": "python",
   "pygments_lexer": "ipython3",
   "version": "3.8.10"
  },
  "orig_nbformat": 4
 },
 "nbformat": 4,
 "nbformat_minor": 2
}
