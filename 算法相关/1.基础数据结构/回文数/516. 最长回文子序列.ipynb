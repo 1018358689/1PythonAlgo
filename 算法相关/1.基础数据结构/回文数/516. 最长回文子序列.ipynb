{
 "cells": [
  {
   "cell_type": "code",
   "execution_count": 9,
   "metadata": {},
   "outputs": [
    {
     "name": "stdout",
     "output_type": "stream",
     "text": [
      "[[1, 2, 3, 3, 4], [0, 1, 2, 2, 3], [0, 0, 1, 1, 3], [0, 0, 0, 1, 1], [0, 0, 0, 0, 1]]\n"
     ]
    },
    {
     "data": {
      "text/plain": [
       "4"
      ]
     },
     "execution_count": 9,
     "metadata": {},
     "output_type": "execute_result"
    }
   ],
   "source": [
    "def f(s: str):\n",
    "    # dp[i][j] 在s的[i,j]内最长回文子序列长度 i:[0,len-1]\n",
    "    # if s[i]==s[j]:dp[i][j]=dp[i+1][j-1]+2 # 从左下转移\n",
    "    # id s[i]!=s[j]:dp[i][j]=max(dp[i+1][j-1],dp[i+1][j],dp[i][j-1]) # 其实dp[i+1][j-1]没必要 肯定要短\n",
    "    # basecase if i==j:dp[i][j]=1 if i>j:dp[i][j]=0\n",
    "    dp = [[0] * len(s) for _ in range(len(s))]\n",
    "    for i in range(len(s)):\n",
    "        dp[i][i] = 1\n",
    "    for i in range(len(s) - 2, -1, -1):\n",
    "        for j in range(i + 1, len(s)):\n",
    "            if s[i] == s[j]:\n",
    "                dp[i][j] = dp[i + 1][j - 1] + 2\n",
    "            else:\n",
    "                dp[i][j] = max(dp[i + 1][j - 1], dp[i + 1][j], dp[i][j - 1])\n",
    "    return dp[0][len(s) - 1]\n",
    "\n",
    "\n",
    "f('bbbab')"
   ]
  },
  {
   "cell_type": "code",
   "execution_count": null,
   "metadata": {},
   "outputs": [],
   "source": []
  }
 ],
 "metadata": {
  "interpreter": {
   "hash": "aee8b7b246df8f9039afb4144a1f6fd8d2ca17a180786b69acc140d282b71a49"
  },
  "kernelspec": {
   "display_name": "Python 3.10.1 64-bit",
   "language": "python",
   "name": "python3"
  },
  "language_info": {
   "codemirror_mode": {
    "name": "ipython",
    "version": 3
   },
   "file_extension": ".py",
   "mimetype": "text/x-python",
   "name": "python",
   "nbconvert_exporter": "python",
   "pygments_lexer": "ipython3",
   "version": "3.10.1"
  },
  "orig_nbformat": 4
 },
 "nbformat": 4,
 "nbformat_minor": 2
}
