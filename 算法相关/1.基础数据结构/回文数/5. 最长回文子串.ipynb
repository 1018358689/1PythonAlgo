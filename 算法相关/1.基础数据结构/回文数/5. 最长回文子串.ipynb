{
 "cells": [
  {
   "cell_type": "code",
   "execution_count": 1,
   "metadata": {},
   "outputs": [
    {
     "data": {
      "text/plain": [
       "'bab'"
      ]
     },
     "execution_count": 1,
     "metadata": {},
     "output_type": "execute_result"
    }
   ],
   "source": [
    "def f(s: str):\n",
    "\n",
    "    def expand(s, l, r):\n",
    "        while 0 <= l <= r < len(s) and s[l] == s[r]:\n",
    "            l -= 1\n",
    "            r += 1\n",
    "        return l + 1, r - 1\n",
    "\n",
    "    ans = []\n",
    "    for i in range(len(s)):\n",
    "        left1, right1 = expand(s, i, i)\n",
    "        left2, right2 = expand(s, i, i + 1)\n",
    "        if right1 - left1 >= 0:\n",
    "            ans.append(s[left1:right1 + 1])\n",
    "        if right2 - left2 >= 0:\n",
    "            ans.append(s[left2:right2 + 1])\n",
    "    return max(ans, key=len)\n",
    "\n",
    "\n",
    "f(\"babad\")"
   ]
  },
  {
   "cell_type": "code",
   "execution_count": 3,
   "metadata": {},
   "outputs": [
    {
     "data": {
      "text/plain": [
       "'bab'"
      ]
     },
     "execution_count": 3,
     "metadata": {},
     "output_type": "execute_result"
    }
   ],
   "source": [
    "def f(s: str):\n",
    "\n",
    "    def expand(s, l, r):\n",
    "        while 0 <= l <= r < len(s) and s[l] == s[r]:\n",
    "            l -= 1\n",
    "            r += 1\n",
    "        return l + 1, r - 1\n",
    "\n",
    "    start, end = 0, 0\n",
    "    for i in range(len(s)):\n",
    "        left1, right1 = expand(s, i, i)\n",
    "        left2, right2 = expand(s, i, i + 1)\n",
    "        if right1 - left1 > end - start:\n",
    "            end, start = right1, left1\n",
    "        if right2 - left2 > end - start:\n",
    "            end, start = right2, left2\n",
    "    return s[start:end + 1]\n",
    "\n",
    "\n",
    "f(\"babad\")"
   ]
  },
  {
   "cell_type": "markdown",
   "metadata": {},
   "source": [
    "当s[i]与s[j]不相等，那没啥好说的了，dp[i][j]一定是false。\n",
    "\n",
    "当s[i]与s[j]相等时，这就复杂一些了，有如下三种情况\n",
    "\n",
    "情况一：下标i 与 j相同，同一个字符例如a，当然是回文子串\n",
    "情况二：下标i 与 j相差为1，例如aa，也是文子串\n",
    "情况三：下标：i 与 j相差大于1的时候，例如cabac，此时s[i]与s[j]已经相同了，我们看i到j区间是不是回文子串就看aba是不是回文就可以了，那么aba的区间就是 i+1 与 j-1区间，这个区间是不是回文就看dp[i + 1][j - 1]是否为true。"
   ]
  },
  {
   "cell_type": "code",
   "execution_count": 29,
   "metadata": {},
   "outputs": [
    {
     "data": {
      "text/plain": [
       "'aba'"
      ]
     },
     "execution_count": 29,
     "metadata": {},
     "output_type": "execute_result"
    }
   ],
   "source": [
    "def f(s: str):\n",
    "    # dp[i][j] s的[i:j]是否是回文子串 i:[0:len(s)-1] j:[i:len(s)-1]\n",
    "    # dp[i][j] = (j-i>1 and dp[i + 1][j - 1] and s[i] == s[j]) or (j-i==1 and s[i] == s[j]) or i == j 从左下角转移\n",
    "    # basecase dp[0][0]=True dp[-1][-1] = True if i>j dp[i][j]=False\n",
    "    dp = [[False] * len(s) for _ in range(len(s))]\n",
    "    dp[0][0] = True\n",
    "    dp[-1][-1] = True\n",
    "    start, end = 0, 0\n",
    "    for i in range(len(s) - 2, -1, -1):\n",
    "        for j in range(i, len(s)):\n",
    "            dp[i][j] = (j - i > 1 and dp[i + 1][j - 1] and s[i] == s[j]) or (j - i == 1 and s[i] == s[j]) or i == j\n",
    "            if dp[i][j] and j - i > end - start:\n",
    "                end, start = j, i\n",
    "    return s[start:end + 1]\n",
    "\n",
    "\n",
    "f(\"babad\")\n",
    "# f(\"cbbd\")\n",
    "# f(\"d\")"
   ]
  },
  {
   "cell_type": "code",
   "execution_count": null,
   "metadata": {},
   "outputs": [],
   "source": [
    "from collections import defaultdict\n",
    "\n",
    "\n",
    "class Solution:\n",
    "    def longestPalindrome(self, s: str) -> str:\n",
    "        # dp[i][j] s的[i...j]是否是回文子串 i:[0:len(s)-1] j:[i:len(s)-1]\n",
    "        # dp[i][j] = (j-i>1 and dp[i + 1][j - 1] and s[i] == s[j]) or (j-i==1 and s[i] == s[j]) or i == j 从左下角转移\n",
    "        # basecase dp[0][0]=True dp[-1][-1] = True if i>j dp[i][j]=False\n",
    "        lgh = len(s)\n",
    "        dp = [[False] * lgh for _ in range(lgh)]\n",
    "        # dp = defaultdict(lambda: defaultdict(lambda: False)) # 会超时\n",
    "        start, end = 0, 0\n",
    "        for i in range(lgh - 1, -1, -1):\n",
    "            for j in range(i, lgh):\n",
    "                dp[i][j] = (i == j) or (j - i + 1 == 2 and s[i] == s[j]) or (j - i + 1 > 2 and s[i] == s[j] and dp[i + 1][j - 1])\n",
    "                if dp[i][j] and j - i > end - start:\n",
    "                    end, start = j, i\n",
    "        return s[start:end + 1]"
   ]
  }
 ],
 "metadata": {
  "kernelspec": {
   "display_name": "Python 3.8.10 64-bit",
   "language": "python",
   "name": "python3"
  },
  "language_info": {
   "codemirror_mode": {
    "name": "ipython",
    "version": 3
   },
   "file_extension": ".py",
   "mimetype": "text/x-python",
   "name": "python",
   "nbconvert_exporter": "python",
   "pygments_lexer": "ipython3",
   "version": "3.8.10"
  },
  "orig_nbformat": 4,
  "vscode": {
   "interpreter": {
    "hash": "570feb405e2e27c949193ac68f46852414290d515b0ba6e5d90d076ed2284471"
   }
  }
 },
 "nbformat": 4,
 "nbformat_minor": 2
}
