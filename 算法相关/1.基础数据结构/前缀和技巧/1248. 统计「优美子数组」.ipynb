{
 "cells": [
  {
   "cell_type": "code",
   "execution_count": 5,
   "metadata": {},
   "outputs": [
    {
     "data": {
      "text/plain": [
       "16"
      ]
     },
     "execution_count": 5,
     "metadata": {},
     "output_type": "execute_result"
    }
   ],
   "source": [
    "def f(nums: list, k: int):\n",
    "    mem = {0: 1}\n",
    "    preOddCnt = 0\n",
    "    res = 0\n",
    "    for i in range(len(nums)):\n",
    "        if nums[i] % 2 == 1:\n",
    "            preOddCnt += 1\n",
    "        res += mem.get(preOddCnt - k, 0)\n",
    "        mem[preOddCnt] = mem.get(preOddCnt, 0) + 1\n",
    "    return res\n",
    "\n",
    "\n",
    "f([1, 1, 2, 1, 1], 3)\n",
    "f([2, 4, 6], 1)\n",
    "f([2, 2, 2, 1, 2, 2, 1, 2, 2, 2], 2)\n"
   ]
  },
  {
   "cell_type": "code",
   "execution_count": null,
   "metadata": {},
   "outputs": [],
   "source": []
  }
 ],
 "metadata": {
  "interpreter": {
   "hash": "a5f34674cfcc9b13426a2d112c686bc132e4ef443f1487e707e7c3787d6bcf89"
  },
  "kernelspec": {
   "display_name": "Python 3.10.2 64-bit (windows store)",
   "language": "python",
   "name": "python3"
  },
  "language_info": {
   "codemirror_mode": {
    "name": "ipython",
    "version": 3
   },
   "file_extension": ".py",
   "mimetype": "text/x-python",
   "name": "python",
   "nbconvert_exporter": "python",
   "pygments_lexer": "ipython3",
   "version": "3.10.2"
  },
  "orig_nbformat": 4
 },
 "nbformat": 4,
 "nbformat_minor": 2
}
