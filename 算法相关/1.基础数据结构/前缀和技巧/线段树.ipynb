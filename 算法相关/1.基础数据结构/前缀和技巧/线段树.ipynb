{
 "cells": [
  {
   "cell_type": "code",
   "execution_count": null,
   "metadata": {},
   "outputs": [],
   "source": [
    "# 线段树\n",
    "from typing import List\n",
    "\n",
    "\n",
    "class NumArray:\n",
    "\n",
    "    def __init__(self, nums: List[int]):\n",
    "        self.sz = len(nums)\n",
    "        self.SegmentTree = [0] * self.sz + nums\n",
    "        for i in range(self.sz - 1, 0, -1):\n",
    "            self.SegmentTree[i] = self.SegmentTree[2 * i] + self.SegmentTree[2 * i + 1]\n",
    "\n",
    "    def update(self, index: int, val: int) -> None:\n",
    "        i = index + self.sz\n",
    "        d = val - self.SegmentTree[i]\n",
    "        while i != 0:\n",
    "            self.SegmentTree[i] += d\n",
    "            i //= 2\n",
    "\n",
    "    def sumRange(self, left: int, right: int) -> int:\n",
    "        l, r = left + self.sz, right + self.sz\n",
    "        total = 0\n",
    "        while l <= r:\n",
    "            if l % 2 == 1: # 左区间奇数说明是右孩子 结果包含左区间但不包含其父节点\n",
    "                total += self.SegmentTree[l] # 那么结果里先将该孩子加入 然后i+1转向下一个区间\n",
    "                l += 1 # 左区间变成i+1 必然是偶数 说明结果包含其父节点\n",
    "            if r % 2 == 0: # 右区间偶数说明是左孩子 结果包含右区间但不包含其父节点\n",
    "                total += self.SegmentTree[r]\n",
    "                r -= 1\n",
    "            l //= 2\n",
    "            r //= 2\n",
    "        return total\n",
    "\n",
    "\n",
    "# Your NumArray object will be instantiated and called as such:\n",
    "# obj = NumArray(nums)\n",
    "# obj.update(index,val)\n",
    "# param_2 = obj.sumRange(left,right)"
   ]
  }
 ],
 "metadata": {
  "language_info": {
   "name": "python"
  },
  "orig_nbformat": 4
 },
 "nbformat": 4,
 "nbformat_minor": 2
}
