{
 "cells": [
  {
   "cell_type": "code",
   "execution_count": 2,
   "metadata": {},
   "outputs": [
    {
     "data": {
      "text/plain": [
       "[0, 1, 3, 6]"
      ]
     },
     "execution_count": 2,
     "metadata": {},
     "output_type": "execute_result"
    }
   ],
   "source": [
    "from itertools import accumulate\n",
    "\n",
    "\n",
    "list(accumulate([1,2,3],initial=0))"
   ]
  },
  {
   "cell_type": "code",
   "execution_count": null,
   "metadata": {},
   "outputs": [],
   "source": [
    "from typing import List\n",
    "\n",
    "\n",
    "class Solution:\n",
    "\n",
    "    def largest1BorderedSquare(self, grid: List[List[int]]) -> int:\n",
    "        rows, cols = len(grid), len(grid[0])\n",
    "        rp = [list(accumulate(row, initial=0)) for row in grid]\n",
    "        cp = [list(accumulate(col, initial=0)) for col in zip(*grid)]\n",
    "        for d in range(min(rows, cols), 0, -1):\n",
    "            for r in range(rows - d + 1):\n",
    "                for c in range(cols - d + 1):\n",
    "                    # 左上角坐标 (r,c) 边长 d\n",
    "                    if rp[r][c + d] - rp[r][c] == d and rp[r + d - 1][c + d] - rp[r + d - 1][c] == d and cp[c][r + d] - cp[c][r] == d and cp[c + d - 1][r + d] - cp[c + d - 1][r] == d:\n",
    "                        return d * d\n",
    "        return 0"
   ]
  }
 ],
 "metadata": {
  "kernelspec": {
   "display_name": "Python 3",
   "language": "python",
   "name": "python3"
  },
  "language_info": {
   "codemirror_mode": {
    "name": "ipython",
    "version": 3
   },
   "file_extension": ".py",
   "mimetype": "text/x-python",
   "name": "python",
   "nbconvert_exporter": "python",
   "pygments_lexer": "ipython3",
   "version": "3.10.6"
  },
  "orig_nbformat": 4,
  "vscode": {
   "interpreter": {
    "hash": "dfbf064e0f2c8839bc658dd75dfc0b8f09a0440078cae3024109b27659b69d06"
   }
  }
 },
 "nbformat": 4,
 "nbformat_minor": 2
}
