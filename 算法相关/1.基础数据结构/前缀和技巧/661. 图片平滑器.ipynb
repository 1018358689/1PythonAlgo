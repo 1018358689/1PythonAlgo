{
 "cells": [
  {
   "cell_type": "code",
   "execution_count": 3,
   "metadata": {},
   "outputs": [
    {
     "data": {
      "text/plain": [
       "[[137, 141, 137], [141, 138, 141], [137, 141, 137]]"
      ]
     },
     "execution_count": 3,
     "metadata": {},
     "output_type": "execute_result"
    }
   ],
   "source": [
    "def f(img: list):\n",
    "    rows, cols = len(img), len(img[0])\n",
    "    ans = [[0] * cols for _ in range(rows)]\n",
    "    for r in range(rows):\n",
    "        for c in range(cols):\n",
    "            cnt = 0\n",
    "            res = 0\n",
    "            for nr, nc in ((r - 1, c - 1), (r - 1, c), (r - 1, c + 1), (r, c - 1), (r, c), (r, c + 1), (r + 1, c - 1), (r + 1, c), (r + 1, c + 1)):\n",
    "                if 0 <= nr < rows and 0 <= nc < cols:\n",
    "                    cnt += 1\n",
    "                    res += img[nr][nc]\n",
    "            ans[r][c] = res // cnt\n",
    "    return ans\n",
    "\n",
    "\n",
    "f([[1, 1, 1], [1, 0, 1], [1, 1, 1]])\n",
    "f([[100, 200, 100], [200, 50, 200], [100, 200, 100]])\n"
   ]
  },
  {
   "cell_type": "code",
   "execution_count": 7,
   "metadata": {},
   "outputs": [
    {
     "data": {
      "text/plain": [
       "[[137, 141, 137], [141, 138, 141], [137, 141, 137]]"
      ]
     },
     "execution_count": 7,
     "metadata": {},
     "output_type": "execute_result"
    }
   ],
   "source": [
    "def f(img: list):\n",
    "    rows, cols = len(img), len(img[0])\n",
    "    preSum = [[0] * (cols + 1) for _ in range(rows + 1)]\n",
    "    for r in range(rows):\n",
    "        for c in range(cols):\n",
    "            preSum[r + 1][c + 1] = preSum[r][c + 1] + preSum[r + 1][c] - preSum[r][c] + img[r][c]\n",
    "    ans = [[0] * cols for _ in range(rows)]\n",
    "    for r in range(rows):\n",
    "        for c in range(cols):\n",
    "            r1, c1 = max(0, r - 1), max(0, c - 1)\n",
    "            r2, c2 = min(rows - 1, r + 1), min(cols - 1, c + 1)\n",
    "            cnt = (r2 - r1 + 1) * (c2 - c1 + 1)\n",
    "            localSum = preSum[r2 + 1][c2 + 1] - preSum[r1][c2 + 1] - preSum[r2 + 1][c1] + preSum[r1][c1]\n",
    "            ans[r][c] = localSum // cnt\n",
    "    return ans\n",
    "\n",
    "\n",
    "f([[1, 1, 1], [1, 0, 1], [1, 1, 1]])\n",
    "f([[100, 200, 100], [200, 50, 200], [100, 200, 100]])\n"
   ]
  },
  {
   "cell_type": "code",
   "execution_count": null,
   "metadata": {},
   "outputs": [],
   "source": []
  }
 ],
 "metadata": {
  "interpreter": {
   "hash": "a5f34674cfcc9b13426a2d112c686bc132e4ef443f1487e707e7c3787d6bcf89"
  },
  "kernelspec": {
   "display_name": "Python 3.10.3 64-bit (windows store)",
   "language": "python",
   "name": "python3"
  },
  "language_info": {
   "codemirror_mode": {
    "name": "ipython",
    "version": 3
   },
   "file_extension": ".py",
   "mimetype": "text/x-python",
   "name": "python",
   "nbconvert_exporter": "python",
   "pygments_lexer": "ipython3",
   "version": "3.10.3"
  },
  "orig_nbformat": 4
 },
 "nbformat": 4,
 "nbformat_minor": 2
}
