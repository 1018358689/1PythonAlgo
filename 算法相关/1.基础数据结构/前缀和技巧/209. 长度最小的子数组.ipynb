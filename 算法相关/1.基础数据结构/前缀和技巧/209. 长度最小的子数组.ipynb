{
 "cells": [
  {
   "cell_type": "code",
   "execution_count": 9,
   "metadata": {},
   "outputs": [
    {
     "data": {
      "text/plain": [
       "2"
      ]
     },
     "execution_count": 9,
     "metadata": {},
     "output_type": "execute_result"
    }
   ],
   "source": [
    "def f(target: int, nums: list):\n",
    "    preSum = [0]\n",
    "    ans = float('inf')\n",
    "    for i in range(len(nums)):\n",
    "        curSum = preSum[-1] + nums[i]\n",
    "        need = curSum - target\n",
    "        # 二分搜索找<=need的索引\n",
    "        l, r = 0, len(preSum) - 1\n",
    "        while l <= r:\n",
    "            m = (l + r) // 2\n",
    "            if preSum[m] > need:\n",
    "                r = m - 1\n",
    "            else:\n",
    "                l = m + 1\n",
    "        if r >= 0:  # and preSum[r] <= need\n",
    "            ans = min(ans, i + 1 - r)\n",
    "        preSum.append(curSum)\n",
    "    return ans if ans != float('inf') else 0\n",
    "\n",
    "\n",
    "f(7, [2, 3, 1, 2, 4, 3])\n",
    "# f(11, [1, 1, 1, 1, 1, 1, 1, 1])\n"
   ]
  },
  {
   "cell_type": "code",
   "execution_count": 2,
   "metadata": {},
   "outputs": [
    {
     "data": {
      "text/plain": [
       "6"
      ]
     },
     "execution_count": 2,
     "metadata": {},
     "output_type": "execute_result"
    }
   ],
   "source": [
    "d = {1: 1, 2: -2, 3: 4, 4: 3, 5: 5, 6: 6, 7: 1, 8: 5}\n",
    "max(d.values())"
   ]
  },
  {
   "cell_type": "code",
   "execution_count": null,
   "metadata": {},
   "outputs": [],
   "source": []
  }
 ],
 "metadata": {
  "interpreter": {
   "hash": "aee8b7b246df8f9039afb4144a1f6fd8d2ca17a180786b69acc140d282b71a49"
  },
  "kernelspec": {
   "display_name": "Python 3.10.1 64-bit",
   "language": "python",
   "name": "python3"
  },
  "language_info": {
   "codemirror_mode": {
    "name": "ipython",
    "version": 3
   },
   "file_extension": ".py",
   "mimetype": "text/x-python",
   "name": "python",
   "nbconvert_exporter": "python",
   "pygments_lexer": "ipython3",
   "version": "3.10.1"
  },
  "orig_nbformat": 4
 },
 "nbformat": 4,
 "nbformat_minor": 2
}
