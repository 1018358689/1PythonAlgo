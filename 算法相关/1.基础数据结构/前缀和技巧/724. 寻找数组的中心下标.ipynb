{
 "cells": [
  {
   "cell_type": "code",
   "execution_count": 1,
   "metadata": {},
   "outputs": [],
   "source": [
    "def pivotIndex(nums):\n",
    "    preSum = [0] * (len(nums) + 1)\n",
    "    for i in range(len(nums)):\n",
    "        preSum[i + 1] = preSum[i] + nums[i]\n",
    "    for i in range(len(nums)):\n",
    "        if preSum[i] == preSum[len(nums)] - preSum[i + 1]:\n",
    "            return i\n",
    "    return -1"
   ]
  },
  {
   "cell_type": "code",
   "execution_count": 2,
   "metadata": {},
   "outputs": [
    {
     "data": {
      "text/plain": [
       "([1, 3, 6, 10], [1, 3, 6, 10])"
      ]
     },
     "execution_count": 2,
     "metadata": {},
     "output_type": "execute_result"
    }
   ],
   "source": [
    "def runningSum1(nums):\n",
    "    preSum = [0] * len(nums)\n",
    "    for i in range(len(nums)):\n",
    "        curSum = 0\n",
    "        for j in range(i + 1):\n",
    "            curSum += nums[j]\n",
    "        preSum[i] = curSum\n",
    "    return preSum\n",
    "\n",
    "\n",
    "def runningSum2(nums):\n",
    "    preSum = [0] * len(nums)\n",
    "    for i in range(len(nums)):\n",
    "        preSum[i] = sum(nums[:i + 1])\n",
    "    return preSum\n",
    "\n",
    "runningSum1([1,2,3,4]),runningSum2([1,2,3,4,])"
   ]
  },
  {
   "cell_type": "code",
   "execution_count": 3,
   "metadata": {},
   "outputs": [
    {
     "data": {
      "text/plain": [
       "[1, 3, 6, 10]"
      ]
     },
     "execution_count": 3,
     "metadata": {},
     "output_type": "execute_result"
    }
   ],
   "source": [
    "def runningSum(nums):\n",
    "    preSum = [0] * len(nums)\n",
    "    for i in range(len(nums)):\n",
    "        if i == 0:\n",
    "            preSum[i] = nums[i]\n",
    "        else:\n",
    "            preSum[i] = preSum[i - 1] + nums[i]\n",
    "    return preSum\n",
    "\n",
    "\n",
    "runningSum([1, 2, 3, 4])\n"
   ]
  },
  {
   "cell_type": "code",
   "execution_count": null,
   "metadata": {},
   "outputs": [],
   "source": [
    "def runningSum(nums):\n",
    "    preSum = [0] * (len(nums) + 1)\n",
    "    for i in range(len(nums)):\n",
    "        preSum[i + 1] = preSum[i] + nums[i]\n",
    "    return preSum\n"
   ]
  }
 ],
 "metadata": {
  "interpreter": {
   "hash": "aee8b7b246df8f9039afb4144a1f6fd8d2ca17a180786b69acc140d282b71a49"
  },
  "kernelspec": {
   "display_name": "Python 3.10.1 64-bit",
   "language": "python",
   "name": "python3"
  },
  "language_info": {
   "codemirror_mode": {
    "name": "ipython",
    "version": 3
   },
   "file_extension": ".py",
   "mimetype": "text/x-python",
   "name": "python",
   "nbconvert_exporter": "python",
   "pygments_lexer": "ipython3",
   "version": "3.10.1"
  },
  "orig_nbformat": 4
 },
 "nbformat": 4,
 "nbformat_minor": 2
}
