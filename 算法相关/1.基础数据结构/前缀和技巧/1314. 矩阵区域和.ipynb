{
 "cells": [
  {
   "cell_type": "code",
   "execution_count": 8,
   "metadata": {},
   "outputs": [
    {
     "name": "stdout",
     "output_type": "stream",
     "text": [
      "[[0, 0, 0, 0], [0, 1, 3, 6], [0, 5, 12, 21], [0, 12, 27, 45]]\n"
     ]
    },
    {
     "data": {
      "text/plain": [
       "[[12, 21, 16], [27, 45, 33], [24, 39, 28]]"
      ]
     },
     "execution_count": 8,
     "metadata": {},
     "output_type": "execute_result"
    }
   ],
   "source": [
    "def f(mat: list, k: int):\n",
    "    rows, cols = len(mat), len(mat[0])\n",
    "    preSum = [[0] * (cols + 1) for _ in range(rows + 1)]\n",
    "    for r in range(rows):\n",
    "        for c in range(cols):\n",
    "            preSum[r + 1][c + 1] = preSum[r + 1][c] + preSum[r][c + 1] - preSum[r][c] + mat[r][c]\n",
    "    ans = [[0] * cols for _ in range(rows)]\n",
    "    for i in range(rows):\n",
    "        for j in range(cols):\n",
    "            rStart, rEnd = max(0, i - k), min(rows - 1, i + k)\n",
    "            cStart, cEnd = max(0, j - k), min(cols - 1, j + k)\n",
    "            ans[i][j] = preSum[rEnd + 1][cEnd + 1] - preSum[rStart][cEnd + 1] - preSum[rEnd + 1][cStart] + preSum[rStart][cStart]\n",
    "    return ans\n",
    "\n",
    "\n",
    "f([[1, 2, 3], [4, 5, 6], [7, 8, 9]], 1)\n"
   ]
  },
  {
   "cell_type": "code",
   "execution_count": 7,
   "metadata": {},
   "outputs": [
    {
     "name": "stdout",
     "output_type": "stream",
     "text": [
      "[[0, 0, 0, 0], [0, 1, 3, 6], [0, 5, 12, 21], [0, 12, 27, 45]]\n"
     ]
    },
    {
     "data": {
      "text/plain": [
       "[[12, 21, 16], [27, 45, 33], [24, 39, 28]]"
      ]
     },
     "execution_count": 7,
     "metadata": {},
     "output_type": "execute_result"
    }
   ],
   "source": [
    "def f(mat: list, k: int):\n",
    "    m, n = len(mat), len(mat[0])\n",
    "    presum = [[0] * (n + 1) for _ in range(m + 1)]\n",
    "    for i in range(1, m + 1):\n",
    "        for j in range(1, n + 1):\n",
    "            presum[i][j] = presum[i - 1][j] + presum[i][j - 1] - presum[i - 1][j - 1] + mat[i - 1][j - 1]\n",
    "    res = [[0] * n for _ in range(m)]\n",
    "    print(presum)\n",
    "    for i in range(m):\n",
    "        for j in range(n):\n",
    "            res[i][j] = presum[(ri := min(m, i + k + 1))][(rj := min(n, j + k + 1))] - presum[ri][(lj := max(0, j - k))] - presum[(li := max(0, i - k))][rj] + presum[li][lj]\n",
    "    return res\n",
    "f([[1, 2, 3], [4, 5, 6], [7, 8, 9]], 1)\n"
   ]
  },
  {
   "cell_type": "code",
   "execution_count": null,
   "metadata": {},
   "outputs": [],
   "source": []
  }
 ],
 "metadata": {
  "interpreter": {
   "hash": "a5f34674cfcc9b13426a2d112c686bc132e4ef443f1487e707e7c3787d6bcf89"
  },
  "kernelspec": {
   "display_name": "Python 3.10.3 64-bit (windows store)",
   "language": "python",
   "name": "python3"
  },
  "language_info": {
   "codemirror_mode": {
    "name": "ipython",
    "version": 3
   },
   "file_extension": ".py",
   "mimetype": "text/x-python",
   "name": "python",
   "nbconvert_exporter": "python",
   "pygments_lexer": "ipython3",
   "version": "3.10.3"
  },
  "orig_nbformat": 4
 },
 "nbformat": 4,
 "nbformat_minor": 2
}
