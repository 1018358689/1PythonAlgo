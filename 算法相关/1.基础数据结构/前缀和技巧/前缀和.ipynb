{
 "cells": [
  {
   "cell_type": "code",
   "execution_count": null,
   "metadata": {},
   "outputs": [],
   "source": [
    "# 前缀和主要适用的场景是原始数组不会被修改的情况下，频繁查询某个区间的累加和。\n",
    "# i索引前缀和就是  0到i-1的和"
   ]
  },
  {
   "cell_type": "code",
   "execution_count": 6,
   "metadata": {},
   "outputs": [
    {
     "name": "stdout",
     "output_type": "stream",
     "text": [
      "[0, 1, 3, 6, 10] 5\n"
     ]
    }
   ],
   "source": [
    "def f(nums: list) -> int:\n",
    "    res = [-1] * (len(nums) + 1)\n",
    "    res[0] = 0\n",
    "    for i in range(len(nums)):\n",
    "        res[i + 1] = res[i] + nums[i]\n",
    "    return res\n",
    "\n",
    "\n",
    "res = f([1, 2, 3, 4])\n",
    "sum_1_3 = res[3] - res[1]\n",
    "print(res, sum_1_3)\n"
   ]
  },
  {
   "cell_type": "code",
   "execution_count": 9,
   "metadata": {},
   "outputs": [
    {
     "data": {
      "text/plain": [
       "(2, 3, [-1, -1])"
      ]
     },
     "execution_count": 9,
     "metadata": {},
     "output_type": "execute_result"
    }
   ],
   "source": [
    "matrix = [[1, 2, 3], [4, 5, 6]]\n",
    "len(matrix),len(matrix[0]),[-1]*2"
   ]
  },
  {
   "cell_type": "code",
   "execution_count": 1,
   "metadata": {},
   "outputs": [
    {
     "data": {
      "text/plain": [
       "[[0, 0, 0, 0, 0, 0],\n",
       " [0, 3, 3, 4, 8, 10],\n",
       " [0, 8, 14, 18, 24, 27],\n",
       " [0, 9, 17, 21, 28, 36],\n",
       " [0, 13, 22, 26, 34, 49],\n",
       " [0, 14, 23, 30, 38, 58]]"
      ]
     },
     "execution_count": 1,
     "metadata": {},
     "output_type": "execute_result"
    }
   ],
   "source": [
    "def f(matrix: list) -> int:\n",
    "    row = len(matrix)\n",
    "    col = len(matrix[0])\n",
    "    res = [[0] * (col + 1) for _ in range(row + 1)]\n",
    "    # for c in range(col):\n",
    "    #     res[0][c + 1] = res[0][c] + matrix[0][c]\n",
    "    # for r in range(row):\n",
    "    #     res[r + 1][0] = res[r][0] + matrix[r][0]\n",
    "    for r in range(row):\n",
    "        for c in range(col):\n",
    "            res[r + 1][c + 1] = res[r][c + 1] + res[r + 1][c] - res[r][c] + matrix[r][c]\n",
    "    return res\n",
    "\n",
    "\n",
    "f([[3, 0, 1, 4, 2], [5, 6, 3, 2, 1], [1, 2, 0, 1, 5], [4, 1, 0, 1, 7], [1, 0, 3, 0, 5]])\n"
   ]
  },
  {
   "cell_type": "code",
   "execution_count": null,
   "metadata": {},
   "outputs": [],
   "source": []
  }
 ],
 "metadata": {
  "interpreter": {
   "hash": "aee8b7b246df8f9039afb4144a1f6fd8d2ca17a180786b69acc140d282b71a49"
  },
  "kernelspec": {
   "display_name": "Python 3.8.10 64-bit",
   "language": "python",
   "name": "python3"
  },
  "language_info": {
   "codemirror_mode": {
    "name": "ipython",
    "version": 3
   },
   "file_extension": ".py",
   "mimetype": "text/x-python",
   "name": "python",
   "nbconvert_exporter": "python",
   "pygments_lexer": "ipython3",
   "version": "3.10.1"
  },
  "orig_nbformat": 4
 },
 "nbformat": 4,
 "nbformat_minor": 2
}
