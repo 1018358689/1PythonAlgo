{
 "cells": [
  {
   "cell_type": "code",
   "execution_count": 3,
   "metadata": {},
   "outputs": [
    {
     "data": {
      "text/plain": [
       "[4, 3, 2, 6, 4, 3, 2, 6]"
      ]
     },
     "execution_count": 3,
     "metadata": {},
     "output_type": "execute_result"
    }
   ],
   "source": [
    "nums = [4,3,2,6]\n",
    "nums*=2\n",
    "nums"
   ]
  },
  {
   "cell_type": "code",
   "execution_count": 13,
   "metadata": {},
   "outputs": [
    {
     "data": {
      "text/plain": [
       "26"
      ]
     },
     "execution_count": 13,
     "metadata": {},
     "output_type": "execute_result"
    }
   ],
   "source": [
    "# 0   1   2   3   4   5   6   7   索引\n",
    "# 4   3   2   6   4   3   2   6   值\n",
    "#        02  16  24  33           前一个pre\n",
    "#            06  14  23  32       当前cur\n",
    "#           [相减得区间和]\n",
    "# cur = 3*2 + pre - sum(i3,i4,i5)\n",
    "def f(nums: list):\n",
    "    sz = len(nums) # 原始长度\n",
    "    nums *= 2 # 扩大两倍以便循环读取\n",
    "    preSum = [0] * (len(nums) + 1) # 前缀和\n",
    "    for i in range(len(nums)):\n",
    "        preSum[i + 1] = preSum[i] + nums[i]\n",
    "    cur = 0\n",
    "    for i in range(sz): # 初始和\n",
    "        cur += i * nums[i]\n",
    "    ans = cur\n",
    "    # 下一个和 = 前一个和+最后一个数对应值+中间几个和(利用前缀和计算)\n",
    "    for i in range(1, sz):\n",
    "        cur += (sz - 1) * nums[i + sz - 1] - (preSum[i + sz - 1] - preSum[i])\n",
    "        ans = max(ans, cur)\n",
    "    return ans\n",
    "\n",
    "\n",
    "f([4, 3, 2, 6])\n"
   ]
  },
  {
   "cell_type": "markdown",
   "metadata": {},
   "source": [
    "F(0)=0×nums[0]+1×nums[1]+…+(n-2)xnums[n-2]+(n−1)×nums[n−1]\n",
    "F(1)=1×nums[0]+2×nums[1]+…+(n-1)xnums[n-2]+0×nums[n−1]\n",
    "=F(0)+numSum−n×nums[n−1]\n",
    "F(k) = F(k-1)+sum-n x nums[n-k]"
   ]
  },
  {
   "cell_type": "code",
   "execution_count": 15,
   "metadata": {},
   "outputs": [],
   "source": [
    "def f(nums: list):\n",
    "    sz = len(nums)\n",
    "    Sum = sum(nums)\n",
    "    cur = 0\n",
    "    for i, n in enumerate(nums):\n",
    "        cur += i * n\n",
    "    ans = cur\n",
    "    for i in range(1, sz):\n",
    "        cur += Sum - sz * nums[sz - i]\n",
    "        ans = max(ans, cur)\n",
    "    return ans"
   ]
  },
  {
   "cell_type": "code",
   "execution_count": null,
   "metadata": {},
   "outputs": [],
   "source": []
  }
 ],
 "metadata": {
  "interpreter": {
   "hash": "aee8b7b246df8f9039afb4144a1f6fd8d2ca17a180786b69acc140d282b71a49"
  },
  "kernelspec": {
   "display_name": "Python 3.10.1 64-bit",
   "language": "python",
   "name": "python3"
  },
  "language_info": {
   "codemirror_mode": {
    "name": "ipython",
    "version": 3
   },
   "file_extension": ".py",
   "mimetype": "text/x-python",
   "name": "python",
   "nbconvert_exporter": "python",
   "pygments_lexer": "ipython3",
   "version": "3.10.1"
  },
  "orig_nbformat": 4
 },
 "nbformat": 4,
 "nbformat_minor": 2
}
