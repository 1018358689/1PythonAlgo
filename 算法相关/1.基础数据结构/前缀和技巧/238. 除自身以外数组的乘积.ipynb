{
 "cells": [
  {
   "cell_type": "code",
   "execution_count": 6,
   "metadata": {},
   "outputs": [
    {
     "name": "stdout",
     "output_type": "stream",
     "text": [
      "{0: 1, 1: 1, 2: 2, 3: 6, 4: 24} {3: 1, 2: 4, 1: 12, 0: 24, -1: 24}\n"
     ]
    },
    {
     "data": {
      "text/plain": [
       "[24, 12, 8, 6]"
      ]
     },
     "execution_count": 6,
     "metadata": {},
     "output_type": "execute_result"
    }
   ],
   "source": [
    "def f(nums: list):\n",
    "    preMul = {0: 1}\n",
    "    for i in range(len(nums)):\n",
    "        preMul[i + 1] = preMul[i] * nums[i]\n",
    "    sufMul = {len(nums) - 1: 1}\n",
    "    for i in range(len(nums) - 1, -1, -1):\n",
    "        sufMul[i - 1] = sufMul[i] * nums[i]\n",
    "    print(preMul, sufMul)\n",
    "    res = [1] * len(nums)\n",
    "    for i in range(len(nums)):\n",
    "        res[i] = preMul[i] * sufMul[i]\n",
    "    return res\n",
    "\n",
    "\n",
    "f([1, 2, 3, 4])\n"
   ]
  },
  {
   "cell_type": "code",
   "execution_count": 1,
   "metadata": {},
   "outputs": [
    {
     "name": "stdout",
     "output_type": "stream",
     "text": [
      "[1, 1, 2, 6, 24] [24, 12, 4, 1, 24]\n"
     ]
    },
    {
     "data": {
      "text/plain": [
       "[24, 12, 8, 6]"
      ]
     },
     "execution_count": 1,
     "metadata": {},
     "output_type": "execute_result"
    }
   ],
   "source": [
    "def f(nums: list):\n",
    "    preMul = [1] * (len(nums) + 1)\n",
    "    for i in range(len(nums)):\n",
    "        preMul[i + 1] = preMul[i] * nums[i]\n",
    "    sufMul = [1] * (len(nums) + 1)\n",
    "    for i in range(len(nums) - 1, -1, -1):\n",
    "        sufMul[i - 1] = sufMul[i] * nums[i]\n",
    "    res = [1] * len(nums)\n",
    "    print(preMul,sufMul)\n",
    "    for i in range(len(nums)):\n",
    "        res[i] = preMul[i] * sufMul[i]\n",
    "    return res\n",
    "\n",
    "\n",
    "f([1, 2, 3, 4])\n"
   ]
  },
  {
   "cell_type": "code",
   "execution_count": null,
   "metadata": {},
   "outputs": [],
   "source": []
  }
 ],
 "metadata": {
  "interpreter": {
   "hash": "aee8b7b246df8f9039afb4144a1f6fd8d2ca17a180786b69acc140d282b71a49"
  },
  "kernelspec": {
   "display_name": "Python 3.10.1 64-bit",
   "language": "python",
   "name": "python3"
  },
  "language_info": {
   "codemirror_mode": {
    "name": "ipython",
    "version": 3
   },
   "file_extension": ".py",
   "mimetype": "text/x-python",
   "name": "python",
   "nbconvert_exporter": "python",
   "pygments_lexer": "ipython3",
   "version": "3.10.2"
  },
  "orig_nbformat": 4
 },
 "nbformat": 4,
 "nbformat_minor": 2
}
