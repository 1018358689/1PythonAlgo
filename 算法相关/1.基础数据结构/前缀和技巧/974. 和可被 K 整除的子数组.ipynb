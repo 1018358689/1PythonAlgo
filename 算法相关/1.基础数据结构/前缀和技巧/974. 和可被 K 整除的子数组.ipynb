{
 "cells": [
  {
   "cell_type": "code",
   "execution_count": 10,
   "metadata": {},
   "outputs": [
    {
     "data": {
      "text/plain": [
       "7"
      ]
     },
     "execution_count": 10,
     "metadata": {},
     "output_type": "execute_result"
    }
   ],
   "source": [
    "# a被b整除 就是a%b==0\n",
    "# （curSum-need)%k == 0 -> curSum%k == need%k 所以键存sum%k\n",
    "def f(nums: list, k: int):\n",
    "    preSumMod = {0: 1}\n",
    "    res = 0\n",
    "    curSum = 0\n",
    "    for i in range(len(nums)):\n",
    "        curSum += nums[i]\n",
    "        res += preSumMod.get(curSum%k, 0)\n",
    "        preSumMod[curSum%k] = preSumMod.get(curSum%k, 0) + 1\n",
    "    return res\n",
    "\n",
    "\n",
    "f([4, 5, 0, -2, -3, 1], 5)\n"
   ]
  },
  {
   "cell_type": "code",
   "execution_count": 11,
   "metadata": {},
   "outputs": [
    {
     "data": {
      "text/plain": [
       "7"
      ]
     },
     "execution_count": 11,
     "metadata": {},
     "output_type": "execute_result"
    }
   ],
   "source": [
    "from collections import defaultdict\n",
    "\n",
    "\n",
    "def f(nums: list, k: int):\n",
    "    preSumMod = defaultdict(int)\n",
    "    preSumMod[0] = 1\n",
    "    res = 0\n",
    "    curSum = 0\n",
    "    for i in range(len(nums)):\n",
    "        curSum += nums[i]\n",
    "        res += preSumMod[curSum % k]\n",
    "        preSumMod[curSum % k] += 1\n",
    "    return res\n",
    "\n",
    "f([4, 5, 0, -2, -3, 1], 5)\n"
   ]
  },
  {
   "cell_type": "code",
   "execution_count": null,
   "metadata": {},
   "outputs": [],
   "source": []
  }
 ],
 "metadata": {
  "interpreter": {
   "hash": "aee8b7b246df8f9039afb4144a1f6fd8d2ca17a180786b69acc140d282b71a49"
  },
  "kernelspec": {
   "display_name": "Python 3.10.1 64-bit",
   "language": "python",
   "name": "python3"
  },
  "language_info": {
   "codemirror_mode": {
    "name": "ipython",
    "version": 3
   },
   "file_extension": ".py",
   "mimetype": "text/x-python",
   "name": "python",
   "nbconvert_exporter": "python",
   "pygments_lexer": "ipython3",
   "version": "3.10.1"
  },
  "orig_nbformat": 4
 },
 "nbformat": 4,
 "nbformat_minor": 2
}
