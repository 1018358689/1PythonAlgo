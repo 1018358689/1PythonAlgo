{
 "cells": [
  {
   "cell_type": "markdown",
   "metadata": {},
   "source": [
    "给定一个整数数组  nums，求出数组从索引 i 到 j（i ≤ j）范围内元素的总和，包含 i、j 两点。\n",
    "\n",
    "实现 NumArray 类：\n",
    "\n",
    "NumArray(int[] nums) 使用数组 nums 初始化对象\n",
    "int sumRange(int i, int j) 返回数组 nums 从索引 i 到 j（i ≤ j）范围内元素的总和，包含 i、j 两点（也就是 sum(nums[i], nums[i + 1], ... , nums[j])）\n",
    " \n",
    "\n",
    "示例：\n",
    "\n",
    "输入：\n",
    "[\"NumArray\", \"sumRange\", \"sumRange\", \"sumRange\"]\n",
    "[[[-2, 0, 3, -5, 2, -1]], [0, 2], [2, 5], [0, 5]]\n",
    "输出：\n",
    "[null, 1, -1, -3]\n",
    "\n",
    "解释：\n",
    "NumArray numArray = new NumArray([-2, 0, 3, -5, 2, -1]);\n",
    "numArray.sumRange(0, 2); // return 1 ((-2) + 0 + 3)\n",
    "numArray.sumRange(2, 5); // return -1 (3 + (-5) + 2 + (-1)) \n",
    "numArray.sumRange(0, 5); // return -3 ((-2) + 0 + 3 + (-5) + 2 + (-1))\n",
    "\n",
    "来源：力扣（LeetCode）\n",
    "链接：https://leetcode-cn.com/problems/range-sum-query-immutable\n",
    "著作权归领扣网络所有。商业转载请联系官方授权，非商业转载请注明出处。"
   ]
  },
  {
   "cell_type": "code",
   "execution_count": 1,
   "metadata": {},
   "outputs": [],
   "source": [
    "from typing import List\n",
    "\n",
    "\n",
    "class NumArray:\n",
    "    def __init__(self, nums: List[int]):\n",
    "        self.nums = nums\n",
    "        self.ps = self.pre_sum()\n",
    "\n",
    "    def pre_sum(self):\n",
    "        res = [-1] * (len(self.nums) + 1)\n",
    "        res[0] = 0\n",
    "        for i in range(len(self.nums)):\n",
    "            res[i + 1] = res[i] + self.nums[i]\n",
    "        return res\n",
    "\n",
    "    def sumRange(self, left: int, right: int) -> int:\n",
    "        r = self.ps[right + 1] - self.ps[left]\n",
    "        return r\n"
   ]
  },
  {
   "cell_type": "code",
   "execution_count": null,
   "metadata": {},
   "outputs": [],
   "source": [
    "from typing import List\n",
    "\n",
    "\n",
    "class NumArray:\n",
    "    def __init__(self, nums: List[int]):\n",
    "        self.nums = nums\n",
    "        self.ps = [-1] * (len(nums) + 1)\n",
    "        self.ps[0] = 0\n",
    "        for i in range(len(nums)):\n",
    "            self.ps[i + 1] = self.ps[i] + nums[i]\n",
    "\n",
    "    def sumRange(self, left: int, right: int) -> int:\n",
    "        r = self.ps[right + 1] - self.ps[left]\n",
    "        return r\n"
   ]
  }
 ],
 "metadata": {
  "kernelspec": {
   "display_name": "Python 3",
   "language": "python",
   "name": "python3"
  },
  "language_info": {
   "codemirror_mode": {
    "name": "ipython",
    "version": 3
   },
   "file_extension": ".py",
   "mimetype": "text/x-python",
   "name": "python",
   "nbconvert_exporter": "python",
   "pygments_lexer": "ipython3",
   "version": "3.10.6"
  },
  "orig_nbformat": 4,
  "vscode": {
   "interpreter": {
    "hash": "dfbf064e0f2c8839bc658dd75dfc0b8f09a0440078cae3024109b27659b69d06"
   }
  }
 },
 "nbformat": 4,
 "nbformat_minor": 2
}
