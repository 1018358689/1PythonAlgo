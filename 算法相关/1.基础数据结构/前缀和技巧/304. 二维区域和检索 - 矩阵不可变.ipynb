{
 "cells": [
  {
   "cell_type": "markdown",
   "metadata": {},
   "source": [
    "给定一个二维矩阵 matrix，以下类型的多个请求：\n",
    "\n",
    "计算其子矩形范围内元素的总和，该子矩阵的 左上角 为 (row1, col1) ，右下角 为 (row2, col2) 。\n",
    "实现 NumMatrix 类：\n",
    "\n",
    "NumMatrix(int[][] matrix) 给定整数矩阵 matrix 进行初始化\n",
    "int sumRegion(int row1, int col1, int row2, int col2) 返回 左上角 (row1, col1) 、右下角 (row2, col2) 所描述的子矩阵的元素 总和 。\n",
    " \n",
    "\n",
    "示例 1：\n",
    "输入: \n",
    "[\"NumMatrix\",\"sumRegion\",\"sumRegion\",\"sumRegion\"]\n",
    "[[[[3,0,1,4,2],[5,6,3,2,1],[1,2,0,1,5],[4,1,0,1,7],[1,0,3,0,5]]],[2,1,4,3],[1,1,2,2],[1,2,2,4]]\n",
    "输出: \n",
    "[null, 8, 11, 12]\n",
    "\n",
    "解释:\n",
    "NumMatrix numMatrix = new NumMatrix([[3,0,1,4,2],[5,6,3,2,1],[1,2,0,1,5],[4,1,0,1,7],[1,0,3,0,5]]);\n",
    "numMatrix.sumRegion(2, 1, 4, 3); // return 8 (红色矩形框的元素总和)\n",
    "numMatrix.sumRegion(1, 1, 2, 2); // return 11 (绿色矩形框的元素总和)\n",
    "numMatrix.sumRegion(1, 2, 2, 4); // return 12 (蓝色矩形框的元素总和)\n",
    "\n",
    "来源：力扣（LeetCode）\n",
    "链接：https://leetcode-cn.com/problems/range-sum-query-2d-immutable\n",
    "著作权归领扣网络所有。商业转载请联系官方授权，非商业转载请注明出处。"
   ]
  },
  {
   "cell_type": "code",
   "execution_count": 1,
   "metadata": {},
   "outputs": [],
   "source": [
    "from typing import List\n",
    "\n",
    "\n",
    "class NumMatrix:\n",
    "    def __init__(self, matrix: List[List[int]]):\n",
    "        self.matrix = matrix\n",
    "        self.ps = self.pre_sum()\n",
    "\n",
    "    def pre_sum(self):\n",
    "        row = len(self.matrix)\n",
    "        col = len(self.matrix[0])\n",
    "        res = [[0] * (col + 1) for _ in range(row + 1)]\n",
    "        for r in range(row):\n",
    "            for c in range(col):\n",
    "                res[r + 1][c + 1] = res[r][c + 1] + res[r + 1][c] - res[r][c] + self.matrix[r][c]\n",
    "        return res\n",
    "\n",
    "    def sumRegion(self, row1: int, col1: int, row2: int, col2: int) -> int:\n",
    "        s1 = self.ps[row2 + 1][col2 + 1]\n",
    "        s0 = self.ps[row1][col1]\n",
    "        s3 = self.ps[row1][col2 + 1]\n",
    "        s4 = self.ps[row2 + 1][col1]\n",
    "        # s1 = s3 + s4 - s0 + r\n",
    "        return s1 - s3 - s4 + s0\n"
   ]
  },
  {
   "cell_type": "code",
   "execution_count": null,
   "metadata": {},
   "outputs": [],
   "source": [
    "from typing import List\n",
    "\n",
    "\n",
    "class NumMatrix:\n",
    "\n",
    "    def __init__(self, matrix: List[List[int]]):\n",
    "        self.matrix = matrix\n",
    "        rows, cols = len(matrix), len(matrix[0])\n",
    "        preSum = [[0] * (cols + 1) for _ in range(rows + 1)]\n",
    "        for r in range(rows):\n",
    "            for c in range(cols):\n",
    "                preSum[r + 1][c + 1] = preSum[r + 1][c] + preSum[r][c + 1] - preSum[r][c] + matrix[r][c]\n",
    "        self.preSum = preSum\n",
    "\n",
    "    def sumRegion(self, row1: int, col1: int, row2: int, col2: int) -> int:\n",
    "        s1 = self.preSum[row2 + 1][col2 + 1]\n",
    "        s0 = self.preSum[row1][col1]\n",
    "        s3 = self.preSum[row1][col2 + 1]\n",
    "        s4 = self.preSum[row2 + 1][col1]\n",
    "        # s1 = s3 + s4 - s0 + r\n",
    "        return s1 - s3 - s4 + s0\n"
   ]
  }
 ],
 "metadata": {
  "interpreter": {
   "hash": "a5f34674cfcc9b13426a2d112c686bc132e4ef443f1487e707e7c3787d6bcf89"
  },
  "kernelspec": {
   "display_name": "Python 3.10.3 64-bit (windows store)",
   "language": "python",
   "name": "python3"
  },
  "language_info": {
   "codemirror_mode": {
    "name": "ipython",
    "version": 3
   },
   "file_extension": ".py",
   "mimetype": "text/x-python",
   "name": "python",
   "nbconvert_exporter": "python",
   "pygments_lexer": "ipython3",
   "version": "3.10.3"
  },
  "orig_nbformat": 4
 },
 "nbformat": 4,
 "nbformat_minor": 2
}
