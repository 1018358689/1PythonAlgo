{
 "cells": [
  {
   "cell_type": "code",
   "execution_count": 11,
   "metadata": {},
   "outputs": [
    {
     "name": "stdout",
     "output_type": "stream",
     "text": [
      "[0, 2]\n"
     ]
    },
    {
     "data": {
      "text/plain": [
       "2"
      ]
     },
     "execution_count": 11,
     "metadata": {},
     "output_type": "execute_result"
    }
   ],
   "source": [
    "def f(matrix):\n",
    "\n",
    "    def getMax(heights):\n",
    "        sz = len(heights)\n",
    "        leftMin = [-1] * sz\n",
    "        rightMin = [sz] * sz\n",
    "        stack = []\n",
    "        for i in range(sz):\n",
    "            while stack and heights[stack[-1]] >= heights[i]:\n",
    "                stack.pop()\n",
    "            if stack:\n",
    "                leftMin[i] = stack[-1]\n",
    "            stack.append(i)\n",
    "        stack = []\n",
    "        for i in range(sz - 1, -1, -1):\n",
    "            while stack and heights[stack[-1]] >= heights[i]:\n",
    "                stack.pop()\n",
    "            if stack:\n",
    "                rightMin[i] = stack[-1]\n",
    "            stack.append(i)\n",
    "        areaMax = 0\n",
    "        for i in range(sz):\n",
    "            areaMax = max(areaMax, (rightMin[i] - leftMin[i] - 1) * heights[i])\n",
    "        return areaMax\n",
    "\n",
    "    rows, cols = len(matrix), len(matrix[0])\n",
    "    heights = list(map(int, matrix[0]))\n",
    "    ans = getMax(heights)\n",
    "    for r in range(1, rows):\n",
    "        for c in range(cols):\n",
    "            if matrix[r][c] == '1':\n",
    "                if matrix[r - 1][c] == '1':\n",
    "                    heights[c] += 1\n",
    "                else:\n",
    "                    heights[c] = 1\n",
    "            else:\n",
    "                heights[c] = 0\n",
    "        print(heights)\n",
    "        ans = max(ans, getMax(heights))\n",
    "    return ans\n",
    "\n",
    "\n",
    "# f([[\"1\", \"0\", \"1\", \"0\", \"0\"], [\"1\", \"0\", \"1\", \"1\", \"1\"], [\"1\", \"1\", \"1\", \"1\", \"1\"], [\"1\", \"0\", \"0\", \"1\", \"0\"]])\n",
    "# f([])\n",
    "f([[\"0\", \"1\"], [\"0\", \"1\"]])\n"
   ]
  },
  {
   "cell_type": "code",
   "execution_count": null,
   "metadata": {},
   "outputs": [],
   "source": []
  }
 ],
 "metadata": {
  "interpreter": {
   "hash": "aee8b7b246df8f9039afb4144a1f6fd8d2ca17a180786b69acc140d282b71a49"
  },
  "kernelspec": {
   "display_name": "Python 3.10.1 64-bit",
   "language": "python",
   "name": "python3"
  },
  "language_info": {
   "codemirror_mode": {
    "name": "ipython",
    "version": 3
   },
   "file_extension": ".py",
   "mimetype": "text/x-python",
   "name": "python",
   "nbconvert_exporter": "python",
   "pygments_lexer": "ipython3",
   "version": "3.10.1"
  },
  "orig_nbformat": 4
 },
 "nbformat": 4,
 "nbformat_minor": 2
}
