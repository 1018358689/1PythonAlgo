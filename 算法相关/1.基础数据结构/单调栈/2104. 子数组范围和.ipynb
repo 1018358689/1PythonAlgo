{
 "cells": [
  {
   "cell_type": "code",
   "execution_count": 14,
   "metadata": {},
   "outputs": [
    {
     "data": {
      "text/plain": [
       "59"
      ]
     },
     "execution_count": 14,
     "metadata": {},
     "output_type": "execute_result"
    }
   ],
   "source": [
    "def f(nums):\n",
    "    leftMax, leftMin = [-1] * len(nums), [-1] * len(nums)\n",
    "    rightMax, rightMin = [len(nums)] * len(nums), [len(nums)] * len(nums)\n",
    "    downStack = []\n",
    "    upStack = []\n",
    "    for i, num in enumerate(nums):\n",
    "        while downStack and nums[downStack[-1]] < num: # 取< 右边严格极大值 左边非严格极大值 取<=也可以 反正两边肯定一边会严格一边会非严格\n",
    "            rightMax[downStack.pop()] = i\n",
    "        if downStack:\n",
    "            leftMax[i] = downStack[-1]\n",
    "        downStack.append(i)\n",
    "        print()\n",
    "        while upStack and nums[upStack[-1]] > num: # 取> 右边严格极小值 左边非严格极小值 取>=也可以 反正两边肯定一边会严格一边会非严格\n",
    "            rightMin[upStack.pop()] = i\n",
    "        if upStack:\n",
    "            leftMin[i] = upStack[-1]\n",
    "        upStack.append(i)\n",
    "    ans = 0\n",
    "    for i, num in enumerate(nums):\n",
    "        ans += (i - leftMax[i]) * (rightMax[i] - i) * num\n",
    "        ans -= (i - leftMin[i]) * (rightMin[i] - i) * num\n",
    "    return ans\n",
    "\n",
    "\n",
    "# f([2, 1, 2, 2, 4, 2, 3])\n",
    "f([1, 2, 3])\n",
    "f([1, 3, 3])\n",
    "f([4, -2, -3, 4, 1])\n"
   ]
  },
  {
   "cell_type": "markdown",
   "metadata": {},
   "source": [
    "[71,55,82,55]\n",
    "对于第一个55,其索引为i 找他作为最小值的区间 需要求左边第一个较小值leftMin和右边第一个较小值rightMin,由于不存在 则取leftMin和rightMin为边界-1和len\n",
    "也就是说包含第一个55且55为最小值的左边区域有i-leftMin个分别[55],[71,55] 包含第一个55且55为最小值的右边区域有rightMin-i个分别[55],[55,82],[55,82,55]\n",
    "那么总共以第一个55位最小值的区间根据笛卡尔积运算为(i-leftMin)*(rightMin)即2*3=6个分别[55^],[71,55^],[55^,82],[55^,82,55],[71,55^,82],[71,55^,82,55] (第一个55用^标记)\n",
    "由于存在两个相同的55,对于第二个55,其索引j 找他作为最小值的区间 如果和上述同样操作找左右较小值,那么得到总共以第一个55位最小值的区间有4*1=4个\n",
    "分别为[55],[82,55],[55^,82,55],[71,55^,82,55] 可以发现[55^,82,55],[71,55^,82,55]被重复查找一下以第一个55作为最小值,一下以第二个55作为最小值\n",
    "\n",
    "解决方法:左右找较小值时候,其中一边非严格小于,取小于等于  即可以分别找到第一个55左边小于55的值的索引和右边不大于55的值的索引,这样得到leftMin=-1而rightMin=3即第二个55索引不是len,那么总共以第一个55位最小值的区间根据笛卡尔积运算为(i-leftMin)*(rightMin)即(1-(-1))*(3-1)=4个分别[55^],[71,55^],[55^,82],[71,55^,82] (第一个55用^标记),同理找第二个55,那么得到总共以第一个55位最小值的区间有4*1=4个分别为[55],[82,55],[55^,82,55],[71,55^,82,55],其实和前面一样,但是第一个55作为最小区间已经剔除了刚刚重复的[55^,82,55],[71,55^,82,55]。\n",
    "同样左边非严格小于 右边严格小于 最终结果一样,剔除重复操作会在第二个55发生\n",
    "同理找55最为最大值的区间也需要一边严格大于,一边非严格大于,才能剔除重复项。"
   ]
  },
  {
   "cell_type": "code",
   "execution_count": 10,
   "metadata": {},
   "outputs": [
    {
     "data": {
      "text/plain": [
       "59"
      ]
     },
     "execution_count": 10,
     "metadata": {},
     "output_type": "execute_result"
    }
   ],
   "source": [
    "def f(nums):\n",
    "    leftMax, leftMin = [-1] * len(nums), [-1] * len(nums)  # 左边以-1作为边界 寸左边极值的索引\n",
    "    rightMax, rightMin = [len(nums)] * len(nums), [len(nums)] * len(nums)  # 右边以len作为边界\n",
    "\n",
    "    # 左边极小值 递增栈\n",
    "    stack = []\n",
    "    for i, n in enumerate(nums):\n",
    "        while stack and n <= nums[stack[-1]]:  # 把栈顶小于等于n的弹出才能得到严格小于n的值 因为左边极小值是在弹完后再操作\n",
    "            stack.pop()\n",
    "        if stack:\n",
    "            leftMin[i] = stack[-1]  # 结束while栈顶小于n\n",
    "        stack.append(i)\n",
    "\n",
    "    # 右边极小值 递增栈 由于左边极小值已经严格小于了 所以右边需要非严格小于\n",
    "    stack = []\n",
    "    for i, n in enumerate(nums):\n",
    "        while stack and n <= nums[stack[-1]]:  # 把栈顶小于等于的一边弹出一边将当前i作为弹出值的右边较小值 由于用<=弹出所以是非严格极小值\n",
    "            rightMin[stack.pop()] = i\n",
    "        stack.append(i)\n",
    "\n",
    "    # 左边极大值 递减栈 我们这次选左边非严格极大值试试\n",
    "    stack = []\n",
    "    for i, n in enumerate(nums):\n",
    "        while stack and n > nums[stack[-1]]:  # 把栈顶大于n的弹出才能得到非严格小于n的值 因为左边极大值是在弹完后再操作 这样才能把等于n的保留\n",
    "            stack.pop()\n",
    "        if stack:\n",
    "            leftMax[i] = stack[-1]  # 结束while栈顶大于等于n\n",
    "        stack.append(i)\n",
    "    # 右边极大值 递减栈\n",
    "    stack = []\n",
    "    for i, n in enumerate(nums):\n",
    "        while stack and n > nums[stack[-1]]:  # 栈里都是严格小于n\n",
    "            rightMax[stack.pop()] = i\n",
    "        stack.append(i)\n",
    "\n",
    "    # 最后计算 所有值作为区间最大值的和 减去 所有值作为区间最小值的和\n",
    "    ans = 0\n",
    "    for i, n in enumerate(nums):\n",
    "        ans += (i - leftMax[i]) * (rightMax[i] - i) * n\n",
    "        ans -= (i - leftMin[i]) * (rightMin[i] - i) * n\n",
    "    return ans\n",
    "\n",
    "\n",
    "f([4, -2, -3, 4, 1])"
   ]
  },
  {
   "cell_type": "code",
   "execution_count": null,
   "metadata": {},
   "outputs": [],
   "source": []
  }
 ],
 "metadata": {
  "interpreter": {
   "hash": "004de6046f1b3d314f33fdb43a2dc798b2646e5600efd8df5066c8b63a00ff6d"
  },
  "kernelspec": {
   "display_name": "Python 3.8.10 64-bit",
   "language": "python",
   "name": "python3"
  },
  "language_info": {
   "codemirror_mode": {
    "name": "ipython",
    "version": 3
   },
   "file_extension": ".py",
   "mimetype": "text/x-python",
   "name": "python",
   "nbconvert_exporter": "python",
   "pygments_lexer": "ipython3",
   "version": "3.10.1"
  },
  "orig_nbformat": 4
 },
 "nbformat": 4,
 "nbformat_minor": 2
}
