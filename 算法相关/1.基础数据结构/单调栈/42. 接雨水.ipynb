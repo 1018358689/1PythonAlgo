{
 "cells": [
  {
   "cell_type": "code",
   "execution_count": 3,
   "metadata": {},
   "outputs": [
    {
     "data": {
      "text/plain": [
       "6"
      ]
     },
     "execution_count": 3,
     "metadata": {},
     "output_type": "execute_result"
    }
   ],
   "source": [
    "# 利用一个非严格递减栈，遍历入栈，当发现当前点高于栈顶说明发现凹地的凹点，栈顶即为凹地，栈顶左边即为左墙，当前点作为右墙。\n",
    "# 如果左墙不存在，就无法接水就退出。\n",
    "# 如果左墙存在，那么先根据两堵墙确定凹地宽度，再根据木桶原理，确定凹地相对高度，就可以宽*高计算接水量。\n",
    "# 依次添加接水量。\n",
    "def f(height):\n",
    "    rain = 0\n",
    "    stack = []  # 递减栈\n",
    "    for i in range(len(height)):\n",
    "        while stack and height[stack[-1]] < height[i]:  # 遇到反弹点\n",
    "            top = stack.pop()  # 记录当前栈顶并弹出 作为凹地的凹点\n",
    "            if stack:  # 不存在上上一个元素 没法形成凹地接水 直接退出\n",
    "                distance = i - stack[-1] - 1  # 当前点与上上一个点的距离 即凹地宽度\n",
    "                dheight = min(height[i], height[stack[-1]]) - height[top]  # 木桶原理 当前点与上上一个点的较矮的点与凹地最高点相对高度\n",
    "                rain += distance * dheight  # 加水\n",
    "        stack.append(i)\n",
    "    return rain\n",
    "\n",
    "\n",
    "f([0, 1, 0, 2, 1, 0, 1, 3, 2, 1, 2, 1])\n"
   ]
  },
  {
   "cell_type": "code",
   "execution_count": null,
   "metadata": {},
   "outputs": [],
   "source": []
  }
 ],
 "metadata": {
  "interpreter": {
   "hash": "004de6046f1b3d314f33fdb43a2dc798b2646e5600efd8df5066c8b63a00ff6d"
  },
  "kernelspec": {
   "display_name": "Python 3.8.10 64-bit",
   "language": "python",
   "name": "python3"
  },
  "language_info": {
   "codemirror_mode": {
    "name": "ipython",
    "version": 3
   },
   "file_extension": ".py",
   "mimetype": "text/x-python",
   "name": "python",
   "nbconvert_exporter": "python",
   "pygments_lexer": "ipython3",
   "version": "3.8.10"
  },
  "orig_nbformat": 4
 },
 "nbformat": 4,
 "nbformat_minor": 2
}
