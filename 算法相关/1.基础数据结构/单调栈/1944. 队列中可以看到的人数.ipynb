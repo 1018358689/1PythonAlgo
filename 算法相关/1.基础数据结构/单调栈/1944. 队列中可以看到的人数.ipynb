{
 "cells": [
  {
   "cell_type": "code",
   "execution_count": null,
   "metadata": {},
   "outputs": [],
   "source": [
    "def f(heights):\n",
    "    res = [0] * len(heights)\n",
    "    stack = []  # 递减栈 过程中pop时候就是中间矮人 超找右边较高人 找到后加上较高人\n",
    "    for i in range(len(heights) - 1, -1, -1):\n",
    "        while stack and heights[stack[-1]] <= heights[i]:\n",
    "            stack.pop()\n",
    "            res[i] += 1\n",
    "        res[i] += 1 if stack else 0\n",
    "        stack.append(i)\n",
    "    return res\n"
   ]
  },
  {
   "cell_type": "code",
   "execution_count": 14,
   "metadata": {},
   "outputs": [
    {
     "data": {
      "text/plain": [
       "(None, [2, 3, 4, 4, 5])"
      ]
     },
     "execution_count": 14,
     "metadata": {},
     "output_type": "execute_result"
    }
   ],
   "source": [
    "l = [1,2,3,4,5]\n",
    "def g(s,e,add):\n",
    "    for i in range(s,e):\n",
    "        l[i]+=add\n",
    "g(0,3,1),l"
   ]
  },
  {
   "cell_type": "code",
   "execution_count": null,
   "metadata": {},
   "outputs": [],
   "source": []
  }
 ],
 "metadata": {
  "interpreter": {
   "hash": "aee8b7b246df8f9039afb4144a1f6fd8d2ca17a180786b69acc140d282b71a49"
  },
  "kernelspec": {
   "display_name": "Python 3.10.1 64-bit",
   "language": "python",
   "name": "python3"
  },
  "language_info": {
   "codemirror_mode": {
    "name": "ipython",
    "version": 3
   },
   "file_extension": ".py",
   "mimetype": "text/x-python",
   "name": "python",
   "nbconvert_exporter": "python",
   "pygments_lexer": "ipython3",
   "version": "3.10.1"
  },
  "orig_nbformat": 4
 },
 "nbformat": 4,
 "nbformat_minor": 2
}
