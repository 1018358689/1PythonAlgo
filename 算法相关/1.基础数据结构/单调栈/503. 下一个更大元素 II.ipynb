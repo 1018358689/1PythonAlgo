{
 "cells": [
  {
   "cell_type": "code",
   "execution_count": 5,
   "metadata": {},
   "outputs": [
    {
     "data": {
      "text/plain": [
       "[2, -1, 2]"
      ]
     },
     "execution_count": 5,
     "metadata": {},
     "output_type": "execute_result"
    }
   ],
   "source": [
    "def f(nums):\n",
    "    stack = []  # 单调递减栈\n",
    "    res = []\n",
    "    for n in nums[::-1] + nums[::-1]:\n",
    "        while stack and stack[-1] <= n:\n",
    "            stack.pop()\n",
    "        res.append(stack[-1] if stack else -1)\n",
    "        stack.append(n)\n",
    "    return res[::-1][:len(res) // 2]\n",
    "\n",
    "\n",
    "f([1, 2, 3, 4, 3])\n",
    "f([1, 2, 1])\n"
   ]
  },
  {
   "cell_type": "code",
   "execution_count": 6,
   "metadata": {},
   "outputs": [
    {
     "data": {
      "text/plain": [
       "[2, -1, 2]"
      ]
     },
     "execution_count": 6,
     "metadata": {},
     "output_type": "execute_result"
    }
   ],
   "source": [
    "def f(nums):\n",
    "    stack = []  # 单调递减栈\n",
    "    res = [0] * len(nums)\n",
    "    for i in range(2 * len(nums) - 1, -1, -1):\n",
    "        cur = nums[i % len(nums)]\n",
    "        while stack and stack[-1] <= cur:\n",
    "            stack.pop()\n",
    "        res[i % len(nums)] = stack[-1] if stack else -1\n",
    "        stack.append(cur)\n",
    "    return res\n",
    "\n",
    "\n",
    "f([1, 2, 3, 4, 3])\n",
    "f([1, 2, 1])\n"
   ]
  },
  {
   "cell_type": "code",
   "execution_count": null,
   "metadata": {},
   "outputs": [],
   "source": []
  }
 ],
 "metadata": {
  "interpreter": {
   "hash": "004de6046f1b3d314f33fdb43a2dc798b2646e5600efd8df5066c8b63a00ff6d"
  },
  "kernelspec": {
   "display_name": "Python 3.8.10 64-bit",
   "language": "python",
   "name": "python3"
  },
  "language_info": {
   "codemirror_mode": {
    "name": "ipython",
    "version": 3
   },
   "file_extension": ".py",
   "mimetype": "text/x-python",
   "name": "python",
   "nbconvert_exporter": "python",
   "pygments_lexer": "ipython3",
   "version": "3.8.10"
  },
  "orig_nbformat": 4
 },
 "nbformat": 4,
 "nbformat_minor": 2
}
