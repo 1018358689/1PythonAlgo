{
 "cells": [
  {
   "cell_type": "code",
   "execution_count": null,
   "metadata": {},
   "outputs": [],
   "source": [
    "# 单调栈  栈是先进后出 主要解决 next greater num\n",
    "# 下一个较大较小值 倒着入栈 正着出栈\n",
    "# 上一个较大较小值 正着入栈 倒着出栈\n",
    "# 上一个下一个较大值 维护递减序列 原因是栈的特性先进后出\n",
    "# 上一个下一个较小值 维护递增序列"
   ]
  },
  {
   "cell_type": "code",
   "execution_count": 4,
   "metadata": {},
   "outputs": [
    {
     "data": {
      "text/plain": [
       "[4, 2, 4, -1, -1]"
      ]
     },
     "execution_count": 4,
     "metadata": {},
     "output_type": "execute_result"
    }
   ],
   "source": [
    "# 每个元素下一个较大值\n",
    "nums = [2, 1, 2, 4, 3]\n",
    "res = [0] * len(nums)\n",
    "stack = []  # 单调递减栈 保证入栈元素小于栈顶元素\n",
    "for i in range(len(nums) - 1, -1, -1):  # 倒着入栈 正着出栈 才能找下一个较大较小值\n",
    "    cur = nums[i]\n",
    "    while stack and stack[-1] <= nums[i]:  # 维护单调递减栈\n",
    "        stack.pop()\n",
    "    res[i] = stack[-1] if stack else -1\n",
    "    stack.append(nums[i])\n",
    "res"
   ]
  },
  {
   "cell_type": "code",
   "execution_count": 45,
   "metadata": {},
   "outputs": [
    {
     "data": {
      "text/plain": [
       "[1, -1, -1, -1, 3, -1]"
      ]
     },
     "execution_count": 45,
     "metadata": {},
     "output_type": "execute_result"
    }
   ],
   "source": [
    "# 每个元素下一个较小值\n",
    "nums = [2, 1, 1, 2, 4, 3]\n",
    "res = [0] * len(nums)\n",
    "stack = []  # 单调递增栈 保证入栈元素大于栈顶元素\n",
    "for i in range(len(nums) - 1, -1, -1):  # 倒着入栈 正着出栈 才能找下一个较大较小值\n",
    "    cur = nums[i]\n",
    "    while stack and stack[-1] >= nums[i]:  # 维护单调递增栈\n",
    "        stack.pop()\n",
    "    res[i] = stack[-1] if stack else -1\n",
    "    stack.append(nums[i])\n",
    "res"
   ]
  },
  {
   "cell_type": "code",
   "execution_count": 3,
   "metadata": {},
   "outputs": [
    {
     "data": {
      "text/plain": [
       "[-1, 2, -1, -1, 4]"
      ]
     },
     "execution_count": 3,
     "metadata": {},
     "output_type": "execute_result"
    }
   ],
   "source": [
    "# 每个元素上一个较大值\n",
    "nums = [2, 1, 2, 4, 3]\n",
    "res = [0] * len(nums)\n",
    "stack = []  # 单调递减栈 保证入栈元素小于栈顶元素\n",
    "for i in range(len(nums)):  # 正着入栈 倒着出栈 才能找上一个较大较小值\n",
    "    cur = nums[i]\n",
    "    while stack and stack[-1] <= nums[i]:  # 维护单调递减栈\n",
    "        stack.pop()\n",
    "    res[i] = stack[-1] if stack else -1\n",
    "    stack.append(nums[i])\n",
    "res"
   ]
  },
  {
   "cell_type": "code",
   "execution_count": 5,
   "metadata": {},
   "outputs": [
    {
     "data": {
      "text/plain": [
       "[-1, -1, 1, 2, 2]"
      ]
     },
     "execution_count": 5,
     "metadata": {},
     "output_type": "execute_result"
    }
   ],
   "source": [
    "# 每个元素上一个较小值\n",
    "nums = [2, 1, 2, 4, 3]\n",
    "res = [0] * len(nums)\n",
    "stack = []  # 单调递增栈 保证入栈元素大于栈顶元素\n",
    "for i in range(len(nums)):  # 正着入栈 倒着出栈 才能找上一个较大较小值\n",
    "    cur = nums[i]\n",
    "    while stack and stack[-1] >= nums[i]:  # 维护单调递增栈\n",
    "        stack.pop()\n",
    "    res[i] = stack[-1] if stack else -1\n",
    "    stack.append(nums[i])\n",
    "res"
   ]
  },
  {
   "cell_type": "code",
   "execution_count": null,
   "metadata": {},
   "outputs": [],
   "source": []
  },
  {
   "cell_type": "code",
   "execution_count": 7,
   "metadata": {},
   "outputs": [
    {
     "data": {
      "text/plain": [
       "([4, 2, 4, 4, -1, 3, -1], [4, 2, 4, 4, -1, 3, -1])"
      ]
     },
     "execution_count": 7,
     "metadata": {},
     "output_type": "execute_result"
    }
   ],
   "source": [
    "\n",
    "nums = [2, 1, 2, 2, 4, 2, 3]\n",
    "\n",
    "# 每个元素下一个较大值\n",
    "def f1(nums):\n",
    "    rightMax = [-1] * len(nums)  # 存索引\n",
    "    stack = []  # 递减栈\n",
    "    for i in range(len(nums) - 1, -1, -1):\n",
    "        cur = nums[i]\n",
    "        while stack and nums[stack[-1]] <= cur:  # 弹走后剩下 栈顶严格大于cur 即找到下一个较大值\n",
    "            stack.pop()\n",
    "        rightMax[i] = nums[stack[-1]] if stack else -1\n",
    "        stack.append(i)\n",
    "    return rightMax\n",
    "\n",
    "\n",
    "def f2(nums):\n",
    "    rightMax = [-1] * len(nums)  # 存索引\n",
    "    stack = []  # 递减栈\n",
    "    for i in range(len(nums)):\n",
    "        cur = nums[i]\n",
    "        while stack and nums[stack[-1]] < cur:  # 弹走的元素都严格小于cur 即cur可以作为栈顶的下一个较大值\n",
    "            rightMax[stack.pop()] = cur\n",
    "        stack.append(i)\n",
    "    return rightMax\n",
    "\n",
    "\n",
    "f1(nums), f2(nums)\n"
   ]
  },
  {
   "cell_type": "code",
   "execution_count": 6,
   "metadata": {},
   "outputs": [
    {
     "data": {
      "text/plain": [
       "([-1, 2, -1, -1, -1, 4, 4], [-1, 2, -1, -1, -1, 4, 4])"
      ]
     },
     "execution_count": 6,
     "metadata": {},
     "output_type": "execute_result"
    }
   ],
   "source": [
    "\n",
    "nums = [2, 1, 2, 2, 4, 2, 3]\n",
    "\n",
    "# 每个元素上一个较大值\n",
    "def f1(nums):\n",
    "    leftMax = [-1] * len(nums)  # 存索引\n",
    "    stack = []  # 递减栈\n",
    "    for i in range(len(nums)):\n",
    "        cur = nums[i]\n",
    "        while stack and nums[stack[-1]] <= cur:  # 弹走后剩下 栈顶严格大于cur 即找到上一个较大值\n",
    "            stack.pop()\n",
    "        leftMax[i] = nums[stack[-1]] if stack else -1\n",
    "        stack.append(i)\n",
    "    return leftMax\n",
    "\n",
    "\n",
    "def f2(nums):\n",
    "    leftMax = [-1] * len(nums)  # 存索引\n",
    "    stack = []  # 递减栈\n",
    "    for i in range(len(nums) - 1, -1, -1):\n",
    "        cur = nums[i]\n",
    "        while stack and nums[stack[-1]] < cur:  # 弹走的元素都严格小于cur 即cur可以作为栈顶的上一个较大值\n",
    "            leftMax[stack.pop()] = cur\n",
    "        stack.append(i)\n",
    "    return leftMax\n",
    "\n",
    "\n",
    "f1(nums), f2(nums)\n"
   ]
  },
  {
   "cell_type": "code",
   "execution_count": 5,
   "metadata": {},
   "outputs": [
    {
     "data": {
      "text/plain": [
       "([1, -1, -1, -1, 2, -1, -1], [1, -1, -1, -1, 2, -1, -1])"
      ]
     },
     "execution_count": 5,
     "metadata": {},
     "output_type": "execute_result"
    }
   ],
   "source": [
    "\n",
    "nums = [2, 1, 2, 2, 4, 2, 3]\n",
    "\n",
    "# 每个元素下一个较小值\n",
    "def f1(nums):\n",
    "    rightMin = [-1] * len(nums)\n",
    "    stack = []  # 递增栈\n",
    "    for i in range(len(nums) - 1, -1, -1):\n",
    "        cur = nums[i]\n",
    "        while stack and nums[stack[-1]] >= cur:  # 弹走后剩下 栈顶严格小于cur 即找到下一个较小值\n",
    "            stack.pop()\n",
    "        rightMin[i] = nums[stack[-1]] if stack else -1\n",
    "        stack.append(i)\n",
    "    return rightMin\n",
    "\n",
    "\n",
    "def f2(nums):\n",
    "    rightMin = [-1] * len(nums)\n",
    "    stack = []  # 递增栈\n",
    "    for i in range(len(nums)):\n",
    "        cur = nums[i]\n",
    "        while stack and nums[stack[-1]] > cur:  # 弹走的元素都严格大于cur 即cur可以作为栈顶的下一个较小值\n",
    "            rightMin[stack.pop()] = cur\n",
    "        # rightMin[i]=999 设置不存在下一个较小值时候的值\n",
    "        stack.append(i)\n",
    "    return rightMin\n",
    "\n",
    "\n",
    "f1(nums), f2(nums)\n"
   ]
  },
  {
   "cell_type": "code",
   "execution_count": 2,
   "metadata": {},
   "outputs": [
    {
     "data": {
      "text/plain": [
       "([-1, -1, 1, 1, 2, 1, 2], [-1, -1, 1, 1, 2, 1, 2])"
      ]
     },
     "execution_count": 2,
     "metadata": {},
     "output_type": "execute_result"
    }
   ],
   "source": [
    "\n",
    "nums = [2, 1, 2, 2, 4, 2, 3]\n",
    "\n",
    "# 每个元素上一个较小值\n",
    "def f1(nums):\n",
    "    leftMin = [-1] * len(nums)\n",
    "    stack = []  # 递增栈\n",
    "    for i in range(len(nums)):\n",
    "        cur = nums[i]\n",
    "        while stack and nums[stack[-1]] >= cur:  # 弹走后剩下 栈顶严格小于cur 即找到上一个较小值\n",
    "            stack.pop()\n",
    "        leftMin[i] = nums[stack[-1]] if stack else -1\n",
    "        stack.append(i)\n",
    "    return leftMin\n",
    "\n",
    "\n",
    "def f2(nums):\n",
    "    leftMin = [-1] * len(nums)\n",
    "    stack = []  # 递增栈\n",
    "    for i in range(len(nums) - 1, -1, -1):\n",
    "        cur = nums[i]\n",
    "        while stack and nums[stack[-1]] > cur:  # 弹走的元素都严格大于cur 即cur可以作为栈顶的上一个较小值\n",
    "            leftMin[stack.pop()] = cur\n",
    "        stack.append(i)\n",
    "    return leftMin\n",
    "\n",
    "\n",
    "f1(nums), f2(nums)\n"
   ]
  },
  {
   "cell_type": "code",
   "execution_count": null,
   "metadata": {},
   "outputs": [],
   "source": []
  }
 ],
 "metadata": {
  "interpreter": {
   "hash": "004de6046f1b3d314f33fdb43a2dc798b2646e5600efd8df5066c8b63a00ff6d"
  },
  "kernelspec": {
   "display_name": "Python 3.8.10 64-bit",
   "language": "python",
   "name": "python3"
  },
  "language_info": {
   "codemirror_mode": {
    "name": "ipython",
    "version": 3
   },
   "file_extension": ".py",
   "mimetype": "text/x-python",
   "name": "python",
   "nbconvert_exporter": "python",
   "pygments_lexer": "ipython3",
   "version": "3.10.1"
  },
  "orig_nbformat": 4
 },
 "nbformat": 4,
 "nbformat_minor": 2
}
