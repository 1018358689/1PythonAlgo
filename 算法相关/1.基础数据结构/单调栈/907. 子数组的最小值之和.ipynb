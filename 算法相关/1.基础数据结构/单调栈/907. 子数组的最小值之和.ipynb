{
 "cells": [
  {
   "cell_type": "code",
   "execution_count": 5,
   "metadata": {},
   "outputs": [
    {
     "data": {
      "text/plain": [
       "444"
      ]
     },
     "execution_count": 5,
     "metadata": {},
     "output_type": "execute_result"
    }
   ],
   "source": [
    "def f(arr: list):\n",
    "    tmp = 10**9 + 7\n",
    "    leftMin, rightMin = [-1] * len(arr), [len(arr)] * len(arr)\n",
    "    stack = []\n",
    "    for i, n in enumerate(arr):\n",
    "        while stack and n <= arr[stack[-1]]:\n",
    "            rightMin[stack.pop()] = i\n",
    "        if stack:\n",
    "            leftMin[i] = stack[-1]\n",
    "        stack.append(i)\n",
    "    ans = 0\n",
    "    for i, n in enumerate(arr):\n",
    "        ans += (i - leftMin[i]) * (rightMin[i] - i) * n\n",
    "        ans %= tmp\n",
    "    return ans\n",
    "\n",
    "\n",
    "f([3, 1, 2, 4])\n",
    "f([11, 81, 94, 43, 3])\n"
   ]
  },
  {
   "cell_type": "code",
   "execution_count": null,
   "metadata": {},
   "outputs": [],
   "source": []
  }
 ],
 "metadata": {
  "interpreter": {
   "hash": "aee8b7b246df8f9039afb4144a1f6fd8d2ca17a180786b69acc140d282b71a49"
  },
  "kernelspec": {
   "display_name": "Python 3.10.1 64-bit",
   "language": "python",
   "name": "python3"
  },
  "language_info": {
   "codemirror_mode": {
    "name": "ipython",
    "version": 3
   },
   "file_extension": ".py",
   "mimetype": "text/x-python",
   "name": "python",
   "nbconvert_exporter": "python",
   "pygments_lexer": "ipython3",
   "version": "3.10.1"
  },
  "orig_nbformat": 4
 },
 "nbformat": 4,
 "nbformat_minor": 2
}
