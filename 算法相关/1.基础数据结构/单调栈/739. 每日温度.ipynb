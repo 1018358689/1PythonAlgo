{
 "cells": [
  {
   "cell_type": "code",
   "execution_count": 4,
   "metadata": {},
   "outputs": [
    {
     "data": {
      "text/plain": [
       "[1, 1, 4, 2, 1, 1, 0, 0]"
      ]
     },
     "execution_count": 4,
     "metadata": {},
     "output_type": "execute_result"
    }
   ],
   "source": [
    "def f(temperatures):\n",
    "    res = [0] * len(temperatures)\n",
    "    stack = []  # 维护递减栈\n",
    "    for i in range(len(temperatures) - 1, -1, -1):\n",
    "        cur = temperatures[i]\n",
    "        while stack and stack[-1][1] <= cur:\n",
    "            stack.pop()\n",
    "        res[i] = stack[-1][0] - i if stack else 0\n",
    "        stack.append((i, cur))\n",
    "    return res\n",
    "\n",
    "\n",
    "f([73, 74, 75, 71, 69, 72, 76, 73])\n"
   ]
  },
  {
   "cell_type": "code",
   "execution_count": 5,
   "metadata": {},
   "outputs": [
    {
     "data": {
      "text/plain": [
       "[1, 1, 4, 2, 1, 1, 0, 0]"
      ]
     },
     "execution_count": 5,
     "metadata": {},
     "output_type": "execute_result"
    }
   ],
   "source": [
    "def f(temperatures):\n",
    "    res = [0] * len(temperatures)\n",
    "    stack = []  # 维护递减栈\n",
    "    for i in range(len(temperatures) - 1, -1, -1):\n",
    "        cur = temperatures[i]\n",
    "        while stack and temperatures[stack[-1]] <= cur:\n",
    "            stack.pop()\n",
    "        res[i] = stack[-1] - i if stack else 0\n",
    "        stack.append(i) # 存索引\n",
    "    return res\n",
    "\n",
    "\n",
    "f([73, 74, 75, 71, 69, 72, 76, 73])\n"
   ]
  },
  {
   "cell_type": "code",
   "execution_count": null,
   "metadata": {},
   "outputs": [],
   "source": []
  }
 ],
 "metadata": {
  "interpreter": {
   "hash": "004de6046f1b3d314f33fdb43a2dc798b2646e5600efd8df5066c8b63a00ff6d"
  },
  "kernelspec": {
   "display_name": "Python 3.8.10 64-bit",
   "language": "python",
   "name": "python3"
  },
  "language_info": {
   "codemirror_mode": {
    "name": "ipython",
    "version": 3
   },
   "file_extension": ".py",
   "mimetype": "text/x-python",
   "name": "python",
   "nbconvert_exporter": "python",
   "pygments_lexer": "ipython3",
   "version": "3.8.10"
  },
  "orig_nbformat": 4
 },
 "nbformat": 4,
 "nbformat_minor": 2
}
