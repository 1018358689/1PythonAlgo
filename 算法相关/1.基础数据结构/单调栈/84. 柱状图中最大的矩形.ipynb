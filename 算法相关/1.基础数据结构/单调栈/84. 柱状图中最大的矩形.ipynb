{
 "cells": [
  {
   "cell_type": "code",
   "execution_count": 13,
   "metadata": {},
   "outputs": [
    {
     "name": "stdout",
     "output_type": "stream",
     "text": [
      "[-1, -1, 1, 2, 1, 4] [1, 6, 4, 4, 6, 6]\n"
     ]
    },
    {
     "data": {
      "text/plain": [
       "10"
      ]
     },
     "execution_count": 13,
     "metadata": {},
     "output_type": "execute_result"
    }
   ],
   "source": [
    "# 当前柱子所能形成最大面积 以当前柱子作为最小值的区间范围\n",
    "# 左右两边第一个较小值\n",
    "def f(heights):\n",
    "    leftMin = [-1] * len(heights)  # 存当前索引左边较小值索引\n",
    "    rightMin = [len(heights)] * len(heights)\n",
    "    stack = []  # 单调递增栈\n",
    "    for i, n in enumerate(heights):\n",
    "        while stack and heights[stack[-1]] >= n:\n",
    "            stack.pop()\n",
    "        if stack:\n",
    "            leftMin[i] = stack[-1]\n",
    "        stack.append(i)\n",
    "    stack = []  # 单调递增栈\n",
    "    for i in range(len(heights) - 1, -1, -1):\n",
    "        while stack and heights[stack[-1]] >= heights[i]:\n",
    "            stack.pop()\n",
    "        if stack:\n",
    "            rightMin[i] = stack[-1]\n",
    "        stack.append(i)\n",
    "    print(leftMin, rightMin)\n",
    "    ans = 0\n",
    "    for i, n in enumerate(heights):\n",
    "        ans = max(ans, (rightMin[i] - leftMin[i] - 1) * n)\n",
    "    return ans\n",
    "\n",
    "\n",
    "f([2, 1, 5, 6, 2, 3])\n",
    "# f([1, 1])\n"
   ]
  },
  {
   "cell_type": "code",
   "execution_count": 14,
   "metadata": {},
   "outputs": [
    {
     "name": "stdout",
     "output_type": "stream",
     "text": [
      "[-1, -1, 1, 2, 1, 4] [1, 6, 4, 4, 6, 6]\n"
     ]
    },
    {
     "data": {
      "text/plain": [
       "10"
      ]
     },
     "execution_count": 14,
     "metadata": {},
     "output_type": "execute_result"
    }
   ],
   "source": [
    "# 当前柱子所能形成最大面积 以当前柱子作为最小值的区间范围\n",
    "# 左右两边第一个较小值\n",
    "def f(heights):\n",
    "    leftMin = [-1] * len(heights)  # 存当前索引左边较小值索引\n",
    "    rightMin = [len(heights)] * len(heights)\n",
    "    leftStack = []  # 单调递增栈\n",
    "    rightStack = []\n",
    "    for i, n in enumerate(heights):\n",
    "        while leftStack and heights[leftStack[-1]] >= n:\n",
    "            leftStack.pop()\n",
    "        if leftStack:\n",
    "            leftMin[i] = leftStack[-1]\n",
    "        leftStack.append(i)\n",
    "\n",
    "        while rightStack and heights[rightStack[-1]] > n:\n",
    "            rightMin[rightStack.pop()] = i\n",
    "        rightStack.append(i)\n",
    "    # print(leftMin, rightMin)\n",
    "    ans = 0\n",
    "    for i, n in enumerate(heights):\n",
    "        ans = max(ans, (rightMin[i] - leftMin[i] - 1) * n)\n",
    "    return ans\n",
    "\n",
    "\n",
    "f([2, 1, 5, 6, 2, 3])\n",
    "# f([1, 1])\n"
   ]
  },
  {
   "cell_type": "code",
   "execution_count": 6,
   "metadata": {},
   "outputs": [
    {
     "data": {
      "text/plain": [
       "2"
      ]
     },
     "execution_count": 6,
     "metadata": {},
     "output_type": "execute_result"
    }
   ],
   "source": [
    "def f(heights):\n",
    "    stack = []\n",
    "    heights = [0] + heights + [0]  # 头加[0]避免次顶不存在 尾加[0]避免连增不算面积\n",
    "    res = 0\n",
    "    for i in range(len(heights)):\n",
    "        while stack and heights[stack[-1]] > heights[i]:\n",
    "            top = stack.pop()\n",
    "            distance = i - stack[-1] - 1\n",
    "            res = max(res, distance * heights[top])\n",
    "        stack.append(i)\n",
    "    return res\n",
    "\n",
    "\n",
    "f([2, 1, 5, 6, 2, 3])\n",
    "f([2])"
   ]
  },
  {
   "cell_type": "code",
   "execution_count": null,
   "metadata": {},
   "outputs": [],
   "source": []
  }
 ],
 "metadata": {
  "interpreter": {
   "hash": "aee8b7b246df8f9039afb4144a1f6fd8d2ca17a180786b69acc140d282b71a49"
  },
  "kernelspec": {
   "display_name": "Python 3.10.1 64-bit",
   "language": "python",
   "name": "python3"
  },
  "language_info": {
   "codemirror_mode": {
    "name": "ipython",
    "version": 3
   },
   "file_extension": ".py",
   "mimetype": "text/x-python",
   "name": "python",
   "nbconvert_exporter": "python",
   "pygments_lexer": "ipython3",
   "version": "3.8.10"
  },
  "orig_nbformat": 4
 },
 "nbformat": 4,
 "nbformat_minor": 2
}
