{
 "cells": [
  {
   "cell_type": "code",
   "execution_count": 4,
   "metadata": {},
   "outputs": [
    {
     "data": {
      "text/plain": [
       "('9534330', '0')"
      ]
     },
     "execution_count": 4,
     "metadata": {},
     "output_type": "execute_result"
    }
   ],
   "source": [
    "from functools import cmp_to_key\n",
    "\n",
    "\n",
    "def f(nums: list):\n",
    "    nums = list(map(str, nums))\n",
    "    nums.sort(key=cmp_to_key(lambda x, y: 1 if y + x > x + y else -1))\n",
    "    if nums[0] == '0':\n",
    "        return '0'\n",
    "    return ''.join(nums)\n",
    "\n",
    "\n",
    "f([3, 30, 34, 5, 9]), f([0, 0, 0])\n"
   ]
  },
  {
   "cell_type": "markdown",
   "metadata": {},
   "source": [
    "https://blog.csdn.net/qq_48081868/article/details/115680333\n",
    "\n",
    "利用Python3自定义cmp_to_key函数，传入两个参数(x,y)对应于(self,other),这里的self表示当前的数，而other是前面已经出现比较过的对象。比如arr=[3,32]，此时self为32，other为3，即x=32,y=3,这里与惯性思维是相反的.\n",
    "示例：x=32,y=3,或者说y为数组前面的数，x为数组后面的数。要使得构造的数更大，需要满足条件：前面的数+后面的数>后面的数+前面的数，即y+x>x+y返回1成立，即332>323成立，此时3出现在32前面\n",
    "\n",
    "作者：yim-6\n",
    "链接：https://leetcode.cn/problems/largest-number/solution/python3-san-chong-fang-fa-qiu-zui-da-shu-cpi4/\n",
    "来源：力扣（LeetCode）\n",
    "著作权归作者所有。商业转载请联系作者获得授权，非商业转载请注明出处。"
   ]
  },
  {
   "cell_type": "code",
   "execution_count": 5,
   "metadata": {},
   "outputs": [
    {
     "data": {
      "text/plain": [
       "('9534330', '0')"
      ]
     },
     "execution_count": 5,
     "metadata": {},
     "output_type": "execute_result"
    }
   ],
   "source": [
    "def f(nums: list):\n",
    "    nums = list(map(str, nums))\n",
    "    for i in range(len(nums) - 1):\n",
    "        for j in range(i + 1, len(nums)):\n",
    "            if nums[j] + nums[i] > nums[i] + nums[j]:\n",
    "                nums[i], nums[j] = nums[j], nums[i]\n",
    "    if nums[0] == '0':\n",
    "        return '0'\n",
    "    return ''.join(nums)\n",
    "\n",
    "\n",
    "f([3, 30, 34, 5, 9]), f([0, 0, 0])\n"
   ]
  },
  {
   "cell_type": "code",
   "execution_count": null,
   "metadata": {},
   "outputs": [],
   "source": []
  }
 ],
 "metadata": {
  "interpreter": {
   "hash": "97367d2de1780ea7c502b529f25888c1b53c0430a7611816b6c7cf19d8435228"
  },
  "kernelspec": {
   "display_name": "Python 3.10.4 64-bit (windows store)",
   "language": "python",
   "name": "python3"
  },
  "language_info": {
   "codemirror_mode": {
    "name": "ipython",
    "version": 3
   },
   "file_extension": ".py",
   "mimetype": "text/x-python",
   "name": "python",
   "nbconvert_exporter": "python",
   "pygments_lexer": "ipython3",
   "version": "3.10.4"
  },
  "orig_nbformat": 4
 },
 "nbformat": 4,
 "nbformat_minor": 2
}
