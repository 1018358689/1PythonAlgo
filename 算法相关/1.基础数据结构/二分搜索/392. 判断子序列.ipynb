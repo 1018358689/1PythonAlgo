{
 "cells": [
  {
   "cell_type": "markdown",
   "metadata": {},
   "source": [
    "给定字符串s和t，判断s是否为t的子序列。\n",
    "\n",
    "进阶：如果有大量输入的S，称作S1, S2, ... , Sk其中 k > 10 亿，你需要依次检查它们是否为T的子序列。在这种情况下，你会怎样改变代码？\n",
    "\n",
    "示例 1：\n",
    "\n",
    "输入：s = \"abc\", t = \"ahbgdc\"\n",
    "输出：true\n"
   ]
  },
  {
   "cell_type": "code",
   "execution_count": 14,
   "metadata": {},
   "outputs": [
    {
     "data": {
      "text/plain": [
       "True"
      ]
     },
     "execution_count": 14,
     "metadata": {},
     "output_type": "execute_result"
    }
   ],
   "source": [
    "def f(s: str, t: str) -> bool:\n",
    "    slow = fast = 0  # 碰到快慢值一样 则满指针走一步\n",
    "    while slow <= len(s) - 1 and fast <= len(t) - 1:\n",
    "        if t[fast] == s[slow]:\n",
    "            slow += 1\n",
    "        fast += 1\n",
    "    return slow == len(s) - 1 + 1\n",
    "\n",
    "\n",
    "f('abc', 'ahbgdc')\n"
   ]
  },
  {
   "cell_type": "code",
   "execution_count": 13,
   "metadata": {},
   "outputs": [
    {
     "data": {
      "text/plain": [
       "(True, False)"
      ]
     },
     "execution_count": 13,
     "metadata": {},
     "output_type": "execute_result"
    }
   ],
   "source": [
    "from collections import defaultdict\n",
    "\n",
    "\n",
    "def f(s: str, t: str) -> bool:\n",
    "    ha = defaultdict(list)\n",
    "    for i, n in enumerate(t):\n",
    "        ha[n].append(i)\n",
    "\n",
    "    def search(nums: list, target: int) -> int:\n",
    "        l, r = 0, len(nums) - 1  # [l,r]\n",
    "        while l <= r:\n",
    "            m = l + (r - l) // 2\n",
    "            if target > nums[m]:\n",
    "                l = m + 1\n",
    "            elif target < nums[m]:\n",
    "                r = m - 1\n",
    "            elif target == nums[m]:\n",
    "                r = m - 1\n",
    "        if r == len(nums) - 1:\n",
    "            return -1\n",
    "        else:\n",
    "            return l\n",
    "\n",
    "    target = 0\n",
    "    for i in s:\n",
    "        if i not in ha:\n",
    "            return False\n",
    "        else:\n",
    "            nums = ha[i]\n",
    "        target = search(nums, target)\n",
    "        if target == -1:\n",
    "            return False\n",
    "        target = nums[target] + 1\n",
    "    return True\n",
    "\n",
    "\n",
    "f('abc', 'cahbgdc'), f('axc', 'ahbgdc')\n",
    "# f('acb', 'ahbgdc')\n"
   ]
  },
  {
   "cell_type": "code",
   "execution_count": 8,
   "metadata": {},
   "outputs": [
    {
     "data": {
      "text/plain": [
       "-1"
      ]
     },
     "execution_count": 8,
     "metadata": {},
     "output_type": "execute_result"
    }
   ],
   "source": []
  },
  {
   "cell_type": "code",
   "execution_count": null,
   "metadata": {},
   "outputs": [],
   "source": []
  }
 ],
 "metadata": {
  "interpreter": {
   "hash": "aee8b7b246df8f9039afb4144a1f6fd8d2ca17a180786b69acc140d282b71a49"
  },
  "kernelspec": {
   "display_name": "Python 3.8.10 64-bit",
   "language": "python",
   "name": "python3"
  },
  "language_info": {
   "codemirror_mode": {
    "name": "ipython",
    "version": 3
   },
   "file_extension": ".py",
   "mimetype": "text/x-python",
   "name": "python",
   "nbconvert_exporter": "python",
   "pygments_lexer": "ipython3",
   "version": "3.8.10"
  },
  "orig_nbformat": 4
 },
 "nbformat": 4,
 "nbformat_minor": 2
}
