{
 "cells": [
  {
   "cell_type": "code",
   "execution_count": 17,
   "metadata": {},
   "outputs": [
    {
     "data": {
      "text/plain": [
       "1"
      ]
     },
     "execution_count": 17,
     "metadata": {},
     "output_type": "execute_result"
    }
   ],
   "source": [
    "import bisect\n",
    "\n",
    "\n",
    "def f(k: int):\n",
    "    fib = [1, 1]\n",
    "    a = b = 1\n",
    "    while b < k:\n",
    "        a, b = b, a + b\n",
    "        fib.append(b)\n",
    "    cnt = 0\n",
    "\n",
    "    while k != 0:\n",
    "        need = bisect.bisect_right(fib, k) - 1\n",
    "        k -= fib[need]\n",
    "        cnt += 1\n",
    "    return cnt\n",
    "\n",
    "\n",
    "# f(7), f(10), f(19)\n",
    "f(1)"
   ]
  },
  {
   "cell_type": "code",
   "execution_count": null,
   "metadata": {},
   "outputs": [],
   "source": [
    "def f(k: int):\n",
    "    fib = [1, 1]\n",
    "    a = b = 1\n",
    "    while b < k:\n",
    "        a, b = b, a + b\n",
    "        fib.append(b)\n",
    "    cnt = 0\n",
    "\n",
    "    def search(nums: list, target: int):  # 找>target的下标前一位\n",
    "        l, r = 0, len(nums) - 1\n",
    "        while l <= r:\n",
    "            m = (l + r) // 2\n",
    "            middle = nums[m]\n",
    "            if middle > target:\n",
    "                r = m - 1\n",
    "            else:\n",
    "                l = m + 1\n",
    "        return l - 1\n",
    "\n",
    "    while k != 0:\n",
    "        need = search(fib, k)  # 贪心查找 直到k为0\n",
    "        k -= fib[need]\n",
    "        cnt += 1\n",
    "    return cnt\n",
    "\n",
    "\n",
    "# f(7), f(10), f(19)\n",
    "f(1)"
   ]
  }
 ],
 "metadata": {
  "interpreter": {
   "hash": "aee8b7b246df8f9039afb4144a1f6fd8d2ca17a180786b69acc140d282b71a49"
  },
  "kernelspec": {
   "display_name": "Python 3.8.10 64-bit",
   "language": "python",
   "name": "python3"
  },
  "language_info": {
   "codemirror_mode": {
    "name": "ipython",
    "version": 3
   },
   "file_extension": ".py",
   "mimetype": "text/x-python",
   "name": "python",
   "nbconvert_exporter": "python",
   "pygments_lexer": "ipython3",
   "version": "3.8.10"
  },
  "orig_nbformat": 4
 },
 "nbformat": 4,
 "nbformat_minor": 2
}
