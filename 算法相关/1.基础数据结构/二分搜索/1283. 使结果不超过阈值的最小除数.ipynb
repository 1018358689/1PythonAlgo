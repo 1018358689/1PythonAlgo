{
 "cells": [
  {
   "cell_type": "code",
   "execution_count": 3,
   "metadata": {},
   "outputs": [
    {
     "data": {
      "text/plain": [
       "(5, 3)"
      ]
     },
     "execution_count": 3,
     "metadata": {},
     "output_type": "execute_result"
    }
   ],
   "source": [
    "def f(nums: list, threshold: int):\n",
    "\n",
    "    def quo2ans(x):  # 除数-求和结果 递减函数\n",
    "        ans = 0\n",
    "        for n in nums:\n",
    "            quo, rem = divmod(n, x)\n",
    "            if rem:\n",
    "                quo += 1\n",
    "            ans += quo\n",
    "        return ans\n",
    "\n",
    "    nums.sort()\n",
    "    l, r = 1, nums[-1]\n",
    "    while l <= r:\n",
    "        m = (l + r) >> 1\n",
    "        if quo2ans(m) <= threshold:\n",
    "            r = m - 1\n",
    "        else:\n",
    "            l = m + 1\n",
    "    return l\n",
    "\n",
    "\n",
    "f([1, 2, 5, 9], 6), f([2, 3, 5, 7, 11], 11)\n"
   ]
  },
  {
   "cell_type": "code",
   "execution_count": null,
   "metadata": {},
   "outputs": [],
   "source": []
  }
 ],
 "metadata": {
  "interpreter": {
   "hash": "aee8b7b246df8f9039afb4144a1f6fd8d2ca17a180786b69acc140d282b71a49"
  },
  "kernelspec": {
   "display_name": "Python 3.10.1 64-bit",
   "language": "python",
   "name": "python3"
  },
  "language_info": {
   "codemirror_mode": {
    "name": "ipython",
    "version": 3
   },
   "file_extension": ".py",
   "mimetype": "text/x-python",
   "name": "python",
   "nbconvert_exporter": "python",
   "pygments_lexer": "ipython3",
   "version": "3.10.1"
  },
  "orig_nbformat": 4
 },
 "nbformat": 4,
 "nbformat_minor": 2
}
