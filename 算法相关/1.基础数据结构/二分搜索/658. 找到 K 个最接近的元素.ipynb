{
 "cells": [
  {
   "cell_type": "code",
   "execution_count": 2,
   "metadata": {},
   "outputs": [
    {
     "data": {
      "text/plain": [
       "[1, 2, 3, 4]"
      ]
     },
     "execution_count": 2,
     "metadata": {},
     "output_type": "execute_result"
    }
   ],
   "source": [
    "def f(arr: list, k: int, x: int):\n",
    "    arr.sort(key=lambda i: (abs(x - i), i))\n",
    "    return sorted(arr[:k])\n",
    "\n",
    "\n",
    "f([1, 2, 3, 4, 5], 4, 3)\n"
   ]
  },
  {
   "cell_type": "code",
   "execution_count": 22,
   "metadata": {},
   "outputs": [
    {
     "data": {
      "text/plain": [
       "[1]"
      ]
     },
     "execution_count": 22,
     "metadata": {},
     "output_type": "execute_result"
    }
   ],
   "source": [
    "def f(arr: list, k: int, x: int):\n",
    "    l, r = 0, len(arr) - k - 1\n",
    "    while l <= r:\n",
    "        m = (l + r) >> 1\n",
    "        if x - arr[m] > arr[m + k] - x:\n",
    "            l = m + 1\n",
    "        else:\n",
    "            r = m - 1\n",
    "\n",
    "    return arr[l:l + k]\n",
    "\n",
    "\n",
    "# f([1, 2, 3, 4, 5], 4, 6)\n",
    "f([1, 1, 1, 10, 10, 10], 1, 9)\n",
    "f([1], 1, 1)\n"
   ]
  },
  {
   "cell_type": "code",
   "execution_count": null,
   "metadata": {},
   "outputs": [],
   "source": []
  }
 ],
 "metadata": {
  "interpreter": {
   "hash": "aee8b7b246df8f9039afb4144a1f6fd8d2ca17a180786b69acc140d282b71a49"
  },
  "kernelspec": {
   "display_name": "Python 3.10.2 64-bit",
   "language": "python",
   "name": "python3"
  },
  "language_info": {
   "codemirror_mode": {
    "name": "ipython",
    "version": 3
   },
   "file_extension": ".py",
   "mimetype": "text/x-python",
   "name": "python",
   "nbconvert_exporter": "python",
   "pygments_lexer": "ipython3",
   "version": "3.10.2"
  },
  "orig_nbformat": 4
 },
 "nbformat": 4,
 "nbformat_minor": 2
}
