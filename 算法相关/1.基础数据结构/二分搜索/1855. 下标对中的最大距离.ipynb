{
 "cells": [
  {
   "cell_type": "code",
   "execution_count": 3,
   "metadata": {},
   "outputs": [
    {
     "name": "stdout",
     "output_type": "stream",
     "text": [
      "0 0\n",
      "4 2\n",
      "4 3\n",
      "4 4\n"
     ]
    },
    {
     "data": {
      "text/plain": [
       "2"
      ]
     },
     "execution_count": 3,
     "metadata": {},
     "output_type": "execute_result"
    }
   ],
   "source": [
    "def f(nums1: list, nums2: list):\n",
    "    ans = 0\n",
    "    for i, n1 in enumerate(nums1):\n",
    "        l, r = i, len(nums2) - 1\n",
    "        while l <= r:\n",
    "            m = (l + r) >> 1\n",
    "            if nums2[m] < n1:\n",
    "                r = m - 1\n",
    "            else:\n",
    "                l = m + 1\n",
    "        if r >= i:\n",
    "            ans = max(ans, r - i)\n",
    "    return ans\n",
    "\n",
    "\n",
    "f([55, 30, 5, 4, 2], [100, 20, 10, 10, 5])\n"
   ]
  },
  {
   "cell_type": "code",
   "execution_count": 12,
   "metadata": {},
   "outputs": [
    {
     "data": {
      "text/plain": [
       "2"
      ]
     },
     "execution_count": 12,
     "metadata": {},
     "output_type": "execute_result"
    }
   ],
   "source": [
    "def f(nums1: list, nums2: list):\n",
    "    ans = 0\n",
    "    for i, n1 in enumerate(nums1):\n",
    "        l, r = i + ans, len(nums2) - 1\n",
    "        if l > r:\n",
    "            break\n",
    "        while l <= r:\n",
    "            m = (l + r) >> 1\n",
    "            if nums2[m] < n1:\n",
    "                r = m - 1\n",
    "            else:\n",
    "                l = m + 1\n",
    "        if r >= i + ans:\n",
    "            ans = r - i\n",
    "    return ans\n",
    "\n",
    "\n",
    "f([55, 30, 5, 4, 2], [100, 20, 10, 10, 5])\n",
    "# f([2, 2, 2], [10, 10, 1])\n"
   ]
  },
  {
   "cell_type": "code",
   "execution_count": 15,
   "metadata": {},
   "outputs": [
    {
     "data": {
      "text/plain": [
       "2"
      ]
     },
     "execution_count": 15,
     "metadata": {},
     "output_type": "execute_result"
    }
   ],
   "source": [
    "def f(nums1: list, nums2: list):\n",
    "    l = r = 0\n",
    "    ans = 0\n",
    "    while l < len(nums1) and r < len(nums2):\n",
    "        if nums1[l] <= nums2[r]:\n",
    "            ans = max(ans, r - l)\n",
    "            # r += 1\n",
    "        else:\n",
    "            l += 1\n",
    "        r += 1  # 因为l<=r\n",
    "    return ans\n",
    "\n",
    "\n",
    "f([55, 30, 5, 4, 2], [100, 20, 10, 10, 5])\n"
   ]
  },
  {
   "cell_type": "code",
   "execution_count": null,
   "metadata": {},
   "outputs": [],
   "source": []
  }
 ],
 "metadata": {
  "interpreter": {
   "hash": "aee8b7b246df8f9039afb4144a1f6fd8d2ca17a180786b69acc140d282b71a49"
  },
  "kernelspec": {
   "display_name": "Python 3.10.1 64-bit",
   "language": "python",
   "name": "python3"
  },
  "language_info": {
   "codemirror_mode": {
    "name": "ipython",
    "version": 3
   },
   "file_extension": ".py",
   "mimetype": "text/x-python",
   "name": "python",
   "nbconvert_exporter": "python",
   "pygments_lexer": "ipython3",
   "version": "3.10.1"
  },
  "orig_nbformat": 4
 },
 "nbformat": 4,
 "nbformat_minor": 2
}
