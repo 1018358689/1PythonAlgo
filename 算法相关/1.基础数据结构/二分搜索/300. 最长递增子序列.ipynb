{
 "cells": [
  {
   "cell_type": "code",
   "execution_count": 1,
   "metadata": {},
   "outputs": [],
   "source": [
    "def f(nums: list):\n",
    "    # dp[i] 以nums[i]结尾的最长递增子序列长度\n",
    "    dp = [1] * len(nums)\n",
    "    for i in range(1, len(nums)):\n",
    "        for j in range(i):\n",
    "            if nums[i] > nums[j]:\n",
    "                dp[i] = max(dp[i], dp[j] + 1)\n",
    "    return max(dp)"
   ]
  },
  {
   "cell_type": "markdown",
   "metadata": {},
   "source": [
    "数组 d[i]表示长度为 i+1 的最长上升子序列的末尾元素的最小值，\n",
    "即在数组 1,2,3,4,5,6中长度为3的上升子序列可以为 1,2,3也可以为 2,3,4等等但是d[3]=3，即子序列末尾元素最小为3。\n",
    "且数组d具有单调性"
   ]
  },
  {
   "cell_type": "markdown",
   "metadata": {},
   "source": [
    "考虑一个简单的贪心，如果我们要使上升子序列尽可能的长，则我们需要让序列上升得尽可能慢，因此我们希望每次在上升子序列最后加上的那个数尽可能的小。"
   ]
  },
  {
   "cell_type": "code",
   "execution_count": null,
   "metadata": {},
   "outputs": [],
   "source": [
    "from typing import List\n",
    "\n",
    "\n",
    "class Solution:\n",
    "    def lengthOfLIS(self, nums: List[int]) -> int:\n",
    "        d = []  # 维护单调递增\n",
    "        ans = 0\n",
    "        for n in nums:\n",
    "            l, r = 0, len(d) - 1\n",
    "            while l <= r:  # 二分找d中第一个>=n的数字的下标\n",
    "                m = (l + r) >> 1\n",
    "                if d[m] >= n:\n",
    "                    r = m - 1\n",
    "                else:\n",
    "                    l = m + 1\n",
    "            if l == len(d):  # d全部数字都<n\n",
    "                d.append(n)\n",
    "                ans += 1\n",
    "            else:\n",
    "                d[l] = n\n",
    "        return ans"
   ]
  }
 ],
 "metadata": {
  "interpreter": {
   "hash": "aee8b7b246df8f9039afb4144a1f6fd8d2ca17a180786b69acc140d282b71a49"
  },
  "kernelspec": {
   "display_name": "Python 3.10.1 64-bit",
   "language": "python",
   "name": "python3"
  },
  "language_info": {
   "codemirror_mode": {
    "name": "ipython",
    "version": 3
   },
   "file_extension": ".py",
   "mimetype": "text/x-python",
   "name": "python",
   "nbconvert_exporter": "python",
   "pygments_lexer": "ipython3",
   "version": "3.10.1"
  },
  "orig_nbformat": 4
 },
 "nbformat": 4,
 "nbformat_minor": 2
}
