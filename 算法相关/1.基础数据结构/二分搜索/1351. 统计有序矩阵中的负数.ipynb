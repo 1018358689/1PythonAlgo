{
 "cells": [
  {
   "cell_type": "code",
   "execution_count": 2,
   "metadata": {},
   "outputs": [
    {
     "data": {
      "text/plain": [
       "0"
      ]
     },
     "execution_count": 2,
     "metadata": {},
     "output_type": "execute_result"
    }
   ],
   "source": [
    "def f(grid: list):\n",
    "    rows = len(grid)\n",
    "\n",
    "    def search(nums: list):\n",
    "        l, r = 0, len(nums) - 1\n",
    "        while l <= r:\n",
    "            m = (l + r) >> 1\n",
    "            if nums[m] < 0:\n",
    "                r = m - 1\n",
    "            else:\n",
    "                l = m + 1\n",
    "        return len(nums) - l\n",
    "\n",
    "    return sum(search(grid[r]) for r in range(rows))\n",
    "\n",
    "\n",
    "f([[4, 3, 2, -1], [3, 2, 1, -1], [1, 1, -1, -2], [-1, -1, -2, -3]])\n",
    "f([[3, 2], [1, 0]])\n"
   ]
  },
  {
   "cell_type": "code",
   "execution_count": 2,
   "metadata": {},
   "outputs": [
    {
     "data": {
      "text/plain": [
       "8"
      ]
     },
     "execution_count": 2,
     "metadata": {},
     "output_type": "execute_result"
    }
   ],
   "source": [
    "def f(grid: list):\n",
    "    rows, cols = len(grid), len(grid[0])\n",
    "    pointDown = 0\n",
    "    pointLeft = cols - 1\n",
    "    ans = 0\n",
    "    while pointDown < rows and pointLeft >= 0:\n",
    "        if grid[pointDown][pointLeft] < 0:\n",
    "            ans += rows - pointDown\n",
    "            pointLeft -= 1\n",
    "        else:\n",
    "            pointDown += 1\n",
    "    return ans\n",
    "\n",
    "\n",
    "f([[4, 3, 2, -1], [3, 2, 1, -1], [1, 1, -1, -2], [-1, -1, -2, -3]])\n",
    "# f([[3, 2], [1, 0]])"
   ]
  },
  {
   "cell_type": "code",
   "execution_count": null,
   "metadata": {},
   "outputs": [],
   "source": []
  }
 ],
 "metadata": {
  "interpreter": {
   "hash": "a5f34674cfcc9b13426a2d112c686bc132e4ef443f1487e707e7c3787d6bcf89"
  },
  "kernelspec": {
   "display_name": "Python 3.10.4 64-bit (windows store)",
   "language": "python",
   "name": "python3"
  },
  "language_info": {
   "codemirror_mode": {
    "name": "ipython",
    "version": 3
   },
   "file_extension": ".py",
   "mimetype": "text/x-python",
   "name": "python",
   "nbconvert_exporter": "python",
   "pygments_lexer": "ipython3",
   "version": "3.10.4"
  },
  "orig_nbformat": 4
 },
 "nbformat": 4,
 "nbformat_minor": 2
}
