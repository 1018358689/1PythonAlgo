{
 "cells": [
  {
   "cell_type": "code",
   "execution_count": 2,
   "metadata": {},
   "outputs": [
    {
     "data": {
      "text/plain": [
       "4"
      ]
     },
     "execution_count": 2,
     "metadata": {},
     "output_type": "execute_result"
    }
   ],
   "source": [
    "nums = [4,5,6,7,0,1,2] \n",
    "target = 0\n",
    "nums.index(0)"
   ]
  },
  {
   "cell_type": "code",
   "execution_count": 4,
   "metadata": {},
   "outputs": [
    {
     "data": {
      "text/plain": [
       "(4, -1)"
      ]
     },
     "execution_count": 4,
     "metadata": {},
     "output_type": "execute_result"
    }
   ],
   "source": [
    "def f(nums: list, target: int):\n",
    "    try:\n",
    "        return nums.index(target)\n",
    "    except:\n",
    "        return -1\n",
    "\n",
    "\n",
    "f([4, 5, 6, 7, 0, 1, 2], 0), f([4, 5, 6, 7, 0, 1, 2], 3)\n"
   ]
  },
  {
   "cell_type": "code",
   "execution_count": 3,
   "metadata": {},
   "outputs": [
    {
     "data": {
      "text/plain": [
       "4"
      ]
     },
     "execution_count": 3,
     "metadata": {},
     "output_type": "execute_result"
    }
   ],
   "source": [
    "def f(nums: list, target: int):\n",
    "    l, r = 0, len(nums) - 1\n",
    "    while l <= r:\n",
    "        m = (l + r) // 2\n",
    "        middle = nums[m]\n",
    "        if middle == target:\n",
    "            return m\n",
    "        if middle >= nums[0]:  # middle 左半有序\n",
    "            if nums[l] <= target < middle:  # 目标值在左半有序\n",
    "                r = m - 1  # 右缩\n",
    "            else:\n",
    "                l = m + 1  # 目标在右半 左缩\n",
    "        else:  # middle 右半右序\n",
    "            if middle < target <= nums[r]:  # 目标值在右半有序\n",
    "                l = m + 1  # 左缩\n",
    "            else:\n",
    "                r = m - 1  # 目标左半 右缩\n",
    "    return -1\n",
    "\n",
    "\n",
    "f([4, 5, 6, 7, 0, 1, 2], 0)\n"
   ]
  },
  {
   "cell_type": "code",
   "execution_count": 15,
   "metadata": {},
   "outputs": [
    {
     "data": {
      "text/plain": [
       "((4, 3), (5, 4))"
      ]
     },
     "execution_count": 15,
     "metadata": {},
     "output_type": "execute_result"
    }
   ],
   "source": [
    "# 「二分」的本质是两段性，并非单调性。只要一段满足某个性质，另外一段不满足某个性质，就可以用「二分」。\n",
    "\n",
    "# 经过旋转的数组，显然前半段满足 >= nums[0]，而后半段不满足 >= nums[0]。我们可以以此作为依据，通过「二分」找到旋转点。\n",
    "nums = [4, 5, 6, 7, 0, 1, 2]\n",
    "target = 1\n",
    "\n",
    "# 查找分隔点 非单调 演示nums[0]分隔点\n",
    "def f(nums: list, target: int):\n",
    "    l, r = 0, len(nums) - 1\n",
    "    while l <= r:\n",
    "        m = (l + r) // 2\n",
    "        middle = nums[m]\n",
    "        if middle >=nums[0]:\n",
    "            l = m + 1\n",
    "        else:\n",
    "            r = m - 1\n",
    "    return l, r\n",
    "\n",
    "f([4, 5, 6, 7, 0, 1, 2], 1), f([1, 2, 3, 4, 5], 4)\n",
    "# f([4,10,100,2,1],3)"
   ]
  },
  {
   "cell_type": "code",
   "execution_count": 14,
   "metadata": {},
   "outputs": [
    {
     "data": {
      "text/plain": [
       "(3, 2)"
      ]
     },
     "execution_count": 14,
     "metadata": {},
     "output_type": "execute_result"
    }
   ],
   "source": [
    "# 「二分」的本质是两段性，并非单调性。只要一段满足某个性质，另外一段不满足某个性质，就可以用「二分」。\n",
    "\n",
    "nums = [4, 5, 6, 7, 0, 1, 2]\n",
    "target = 1\n",
    "\n",
    "# 查找分隔点 非单调 演示target\n",
    "def f(nums: list, target: int):\n",
    "    l, r = 0, len(nums) - 1\n",
    "    while l <= r:\n",
    "        m = (l + r) // 2\n",
    "        middle = nums[m]\n",
    "        if middle >=target:\n",
    "            l = m + 1\n",
    "        else:\n",
    "            r = m - 1\n",
    "    return l, r\n",
    "\n",
    "f([10,10,100,4,3,6],8)"
   ]
  },
  {
   "cell_type": "code",
   "execution_count": 17,
   "metadata": {},
   "outputs": [
    {
     "data": {
      "text/plain": [
       "(4, -1)"
      ]
     },
     "execution_count": 17,
     "metadata": {},
     "output_type": "execute_result"
    }
   ],
   "source": [
    "# 理解二分本质\n",
    "# 「二分」的本质是两段性，并非单调性。只要一段满足某个性质，另外一段不满足某个性质，就可以用「二分」。\n",
    "\n",
    "\n",
    "def f(nums: list, target: int):\n",
    "    l, r = 0, len(nums) - 1\n",
    "    # 先找分隔点\n",
    "    while l <= r:\n",
    "        m = (l + r) // 2\n",
    "        middle = nums[m]\n",
    "        if middle >= nums[0]:\n",
    "            l = m + 1\n",
    "        else:\n",
    "            r = m - 1\n",
    "    # 以上得出r,l为分隔两点\n",
    "    if target >= nums[0]:  # 在左部分 [0,r]\n",
    "        l = 0\n",
    "    else:  # 在右部分 [l,len(nums)-1]\n",
    "        r = len(nums) - 1\n",
    "    # 有序部分二分\n",
    "    while l <= r:\n",
    "        m = (l + r) // 2\n",
    "        middle = nums[m]\n",
    "        if middle >= target:\n",
    "            r = m - 1\n",
    "        else:\n",
    "            l = m + 1\n",
    "    if l > len(nums) - 1 or nums[l] != target:\n",
    "        return -1\n",
    "    else:\n",
    "        return l\n",
    "\n",
    "\n",
    "f([4, 5, 6, 7, 0, 1, 2], 0), f([4, 5, 6, 7, 0, 1, 2], 3)\n"
   ]
  },
  {
   "cell_type": "code",
   "execution_count": null,
   "metadata": {},
   "outputs": [],
   "source": []
  }
 ],
 "metadata": {
  "interpreter": {
   "hash": "aee8b7b246df8f9039afb4144a1f6fd8d2ca17a180786b69acc140d282b71a49"
  },
  "kernelspec": {
   "display_name": "Python 3.8.10 64-bit",
   "language": "python",
   "name": "python3"
  },
  "language_info": {
   "codemirror_mode": {
    "name": "ipython",
    "version": 3
   },
   "file_extension": ".py",
   "mimetype": "text/x-python",
   "name": "python",
   "nbconvert_exporter": "python",
   "pygments_lexer": "ipython3",
   "version": "3.8.10"
  },
  "orig_nbformat": 4
 },
 "nbformat": 4,
 "nbformat_minor": 2
}
