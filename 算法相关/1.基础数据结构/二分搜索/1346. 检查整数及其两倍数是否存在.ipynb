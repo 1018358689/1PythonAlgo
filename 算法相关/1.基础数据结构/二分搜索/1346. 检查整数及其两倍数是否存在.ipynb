{
 "cells": [
  {
   "cell_type": "code",
   "execution_count": null,
   "metadata": {},
   "outputs": [],
   "source": [
    "def f(arr: list):\n",
    "    arr.sort()\n",
    "    for i, n in enumerate(arr):\n",
    "        l, r = 0, len(arr) - 1\n",
    "        target = 2 * n\n",
    "        while l <= r:\n",
    "            m = (l + r) >> 1\n",
    "            if arr[m] >= target:\n",
    "                r = m - 1\n",
    "            else:\n",
    "                l = m + 1\n",
    "        if l < len(arr) and l != i and arr[l] == target:\n",
    "            return True\n",
    "    return False"
   ]
  }
 ],
 "metadata": {
  "language_info": {
   "name": "python"
  },
  "orig_nbformat": 4
 },
 "nbformat": 4,
 "nbformat_minor": 2
}
