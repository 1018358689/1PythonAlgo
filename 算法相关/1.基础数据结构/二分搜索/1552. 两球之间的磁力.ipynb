{
 "cells": [
  {
   "cell_type": "code",
   "execution_count": null,
   "metadata": {},
   "outputs": [],
   "source": [
    "def f(position: list, m: int):\n",
    "    position.sort()\n",
    "\n",
    "    def force2cnt(force: int):  # 力-个数 递减 力越小可以放个数越多\n",
    "        cnt = 1\n",
    "        pre = position[0]\n",
    "        for pos in position[1:]:\n",
    "            if pos - pre >= force:\n",
    "                cnt += 1\n",
    "                pre = pos\n",
    "        return cnt\n",
    "\n",
    "    l, r = 1, position[-1] - position[0]  # 力的范围\n",
    "    while l <= r:\n",
    "        mid = (l + r) >> 1\n",
    "        if force2cnt(mid) >= m: # 可以画出函数图\n",
    "            l = mid + 1\n",
    "        else:\n",
    "            r = mid - 1\n",
    "    return r\n"
   ]
  }
 ],
 "metadata": {
  "language_info": {
   "name": "python"
  },
  "orig_nbformat": 4
 },
 "nbformat": 4,
 "nbformat_minor": 2
}
