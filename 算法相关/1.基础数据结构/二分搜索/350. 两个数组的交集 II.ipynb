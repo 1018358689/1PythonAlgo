{
 "cells": [
  {
   "cell_type": "code",
   "execution_count": null,
   "metadata": {},
   "outputs": [],
   "source": [
    "def f(nums1: list, nums2: list):\n",
    "    return list((Counter(nums1) & Counter(nums2)).elements())\n"
   ]
  },
  {
   "cell_type": "code",
   "execution_count": 5,
   "metadata": {},
   "outputs": [
    {
     "data": {
      "text/plain": [
       "<itertools.chain at 0x1b032791d20>"
      ]
     },
     "execution_count": 5,
     "metadata": {},
     "output_type": "execute_result"
    }
   ],
   "source": [
    "from collections import Counter\n",
    "(Counter([1,2,2,1]) & Counter([2,2,1])).elements()"
   ]
  },
  {
   "cell_type": "code",
   "execution_count": 7,
   "metadata": {},
   "outputs": [
    {
     "data": {
      "text/plain": [
       "[2, 2]"
      ]
     },
     "execution_count": 7,
     "metadata": {},
     "output_type": "execute_result"
    }
   ],
   "source": [
    "def f(nums1: list, nums2: list):\n",
    "    nums2.sort()\n",
    "    res = []\n",
    "    for n in nums1:\n",
    "        l, r = 0, len(nums2) - 1\n",
    "        while l <= r:\n",
    "            m = (l + r) >> 1\n",
    "            if nums2[m] >= n:\n",
    "                r = m - 1\n",
    "            else:\n",
    "                l = m + 1\n",
    "        if l < len(nums2) and nums2[l] == n:\n",
    "            res.append(n)\n",
    "            nums2.remove(n)\n",
    "            if not nums2:\n",
    "                break\n",
    "    return res\n",
    "\n",
    "\n",
    "f([1, 2, 2, 1], [2, 2])\n"
   ]
  },
  {
   "cell_type": "code",
   "execution_count": 6,
   "metadata": {},
   "outputs": [
    {
     "data": {
      "text/plain": [
       "(None, [1, 2])"
      ]
     },
     "execution_count": 6,
     "metadata": {},
     "output_type": "execute_result"
    }
   ],
   "source": [
    "l = [1, 1, 2]\n",
    "l.remove(1), l\n"
   ]
  },
  {
   "cell_type": "code",
   "execution_count": 8,
   "metadata": {},
   "outputs": [
    {
     "data": {
      "text/plain": [
       "[2, 2]"
      ]
     },
     "execution_count": 8,
     "metadata": {},
     "output_type": "execute_result"
    }
   ],
   "source": [
    "def f(nums1: list, nums2: list):\n",
    "    cnt = {}\n",
    "    res = []\n",
    "    for n in nums1:\n",
    "        cnt[n] = cnt.get(n, 0) + 1\n",
    "    for n in nums2:\n",
    "        if n in cnt:\n",
    "            res.append(n)\n",
    "            cnt[n] -= 1\n",
    "            if cnt[n] == 0:\n",
    "                cnt.pop(n)\n",
    "    return res\n",
    "\n",
    "\n",
    "f([1, 2, 2, 1], [2, 2])\n"
   ]
  },
  {
   "cell_type": "code",
   "execution_count": 9,
   "metadata": {},
   "outputs": [
    {
     "data": {
      "text/plain": [
       "[2, 2]"
      ]
     },
     "execution_count": 9,
     "metadata": {},
     "output_type": "execute_result"
    }
   ],
   "source": [
    "def f(nums1: list, nums2: list):\n",
    "    nums1.sort()\n",
    "    nums2.sort()\n",
    "    l = r = 0\n",
    "    res = []\n",
    "    while l < len(nums1) and r < len(nums2):\n",
    "        if (n1 := nums1[l]) == (n2 := nums2[r]):\n",
    "            res.append(n1)\n",
    "            l += 1\n",
    "            r += 1\n",
    "        elif n1 < n2:\n",
    "            l += 1\n",
    "        else:\n",
    "            r += 1\n",
    "    return res\n",
    "\n",
    "\n",
    "f([1, 2, 2, 1], [2, 2])\n"
   ]
  },
  {
   "cell_type": "code",
   "execution_count": null,
   "metadata": {},
   "outputs": [],
   "source": []
  }
 ],
 "metadata": {
  "interpreter": {
   "hash": "a5f34674cfcc9b13426a2d112c686bc132e4ef443f1487e707e7c3787d6bcf89"
  },
  "kernelspec": {
   "display_name": "Python 3.10.4 64-bit (windows store)",
   "language": "python",
   "name": "python3"
  },
  "language_info": {
   "codemirror_mode": {
    "name": "ipython",
    "version": 3
   },
   "file_extension": ".py",
   "mimetype": "text/x-python",
   "name": "python",
   "nbconvert_exporter": "python",
   "pygments_lexer": "ipython3",
   "version": "3.10.4"
  },
  "orig_nbformat": 4
 },
 "nbformat": 4,
 "nbformat_minor": 2
}
