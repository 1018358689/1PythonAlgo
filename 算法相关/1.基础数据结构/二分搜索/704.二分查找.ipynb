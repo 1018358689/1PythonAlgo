{
 "cells": [
  {
   "cell_type": "markdown",
   "metadata": {},
   "source": [
    "给定有 n 个元素的升序整型数组 nums和一个目标值 target，写一个函数搜索 nums 中的target，如果目标值存在返回下标，否则返回-1。\n",
    "\n",
    "示例 1:\n",
    "\n",
    "输入：nums = [-1,0,3,5,9,12], target = 9\n",
    "输出：4\n",
    "解释：9 出现在 nums 中并且下标为 4\n",
    "示例 2:\n",
    "\n",
    "输入：nums = [-1,0,3,5,9,12], target = 2\n",
    "输出：-1\n",
    "解释：2 不存在 nums 中因此返回 -1"
   ]
  },
  {
   "cell_type": "code",
   "execution_count": 4,
   "metadata": {},
   "outputs": [
    {
     "data": {
      "text/plain": [
       "(4, -1)"
      ]
     },
     "execution_count": 4,
     "metadata": {},
     "output_type": "execute_result"
    }
   ],
   "source": [
    "def f(nums: list, targrt: int) -> int:\n",
    "    l = 0\n",
    "    r = len(nums) - 1  # [l,r]\n",
    "    while l <= r:\n",
    "        m = (l + r) // 2\n",
    "        if targrt > nums[m]:\n",
    "            l = m + 1\n",
    "        elif targrt < nums[m]:\n",
    "            r = m - 1\n",
    "        elif targrt == nums[m]:\n",
    "            return m\n",
    "    return -1\n",
    "\n",
    "\n",
    "f([-1, 0, 3, 5, 9, 12], 9), f([-1, 0, 3, 5, 9, 12], 2)\n"
   ]
  },
  {
   "cell_type": "code",
   "execution_count": null,
   "metadata": {},
   "outputs": [],
   "source": []
  }
 ],
 "metadata": {
  "interpreter": {
   "hash": "aee8b7b246df8f9039afb4144a1f6fd8d2ca17a180786b69acc140d282b71a49"
  },
  "kernelspec": {
   "display_name": "Python 3.8.10 64-bit",
   "language": "python",
   "name": "python3"
  },
  "language_info": {
   "codemirror_mode": {
    "name": "ipython",
    "version": 3
   },
   "file_extension": ".py",
   "mimetype": "text/x-python",
   "name": "python",
   "nbconvert_exporter": "python",
   "pygments_lexer": "ipython3",
   "version": "3.8.10"
  },
  "orig_nbformat": 4
 },
 "nbformat": 4,
 "nbformat_minor": 2
}
