{
 "cells": [
  {
   "cell_type": "code",
   "execution_count": 1,
   "metadata": {},
   "outputs": [
    {
     "data": {
      "text/plain": [
       "[1, 2]"
      ]
     },
     "execution_count": 1,
     "metadata": {},
     "output_type": "execute_result"
    }
   ],
   "source": [
    "def f(numbers: list, target: int):\n",
    "    l, r = 0, len(numbers) - 1\n",
    "    while l < r:\n",
    "        if (s := numbers[l] + numbers[r]) < target:\n",
    "            l += 1\n",
    "        elif s > target:\n",
    "            r -= 1\n",
    "        else:\n",
    "            return [l + 1, r + 1]\n",
    "\n",
    "\n",
    "f([2, 7, 11, 15], 9)\n"
   ]
  },
  {
   "cell_type": "code",
   "execution_count": 2,
   "metadata": {},
   "outputs": [
    {
     "data": {
      "text/plain": [
       "[1, 2]"
      ]
     },
     "execution_count": 2,
     "metadata": {},
     "output_type": "execute_result"
    }
   ],
   "source": [
    "def f(numbers: list, target: int):\n",
    "    for i in range(len(numbers) - 1):\n",
    "        need = target - numbers[i]\n",
    "        l, r = i + 1, len(numbers) - 1\n",
    "        while l <= r:\n",
    "            m = (l + r) // 2\n",
    "            if numbers[m] >= need:\n",
    "                r = m - 1\n",
    "            else:\n",
    "                l = m + 1\n",
    "        if l < len(numbers) and numbers[l] == need:\n",
    "            return [i + 1, l + 1]\n",
    "\n",
    "\n",
    "f([2, 7, 11, 15], 9)\n"
   ]
  },
  {
   "cell_type": "code",
   "execution_count": null,
   "metadata": {},
   "outputs": [],
   "source": []
  }
 ],
 "metadata": {
  "interpreter": {
   "hash": "a5f34674cfcc9b13426a2d112c686bc132e4ef443f1487e707e7c3787d6bcf89"
  },
  "kernelspec": {
   "display_name": "Python 3.10.4 64-bit (windows store)",
   "language": "python",
   "name": "python3"
  },
  "language_info": {
   "codemirror_mode": {
    "name": "ipython",
    "version": 3
   },
   "file_extension": ".py",
   "mimetype": "text/x-python",
   "name": "python",
   "nbconvert_exporter": "python",
   "pygments_lexer": "ipython3",
   "version": "3.10.4"
  },
  "orig_nbformat": 4
 },
 "nbformat": 4,
 "nbformat_minor": 2
}
