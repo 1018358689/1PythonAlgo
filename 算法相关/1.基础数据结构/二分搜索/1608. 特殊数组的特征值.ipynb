{
 "cells": [
  {
   "cell_type": "code",
   "execution_count": 6,
   "metadata": {},
   "outputs": [
    {
     "data": {
      "text/plain": [
       "(2, -1)"
      ]
     },
     "execution_count": 6,
     "metadata": {},
     "output_type": "execute_result"
    }
   ],
   "source": [
    "# func(nums,x)返回nums中大于等于x的个数\n",
    "# 判断 x=func(nums,x) -> x-func(nums,x)=0 递增-递减=递增\n",
    "def f(nums: list):\n",
    "    nums.sort()\n",
    "\n",
    "    def func(nums, x):\n",
    "        l, r = 0, len(nums) - 1\n",
    "        while l <= r:\n",
    "            m = (l + r) // 2\n",
    "            if nums[m] >= x:\n",
    "                r = m - 1\n",
    "            else:\n",
    "                l = m + 1\n",
    "        return len(nums) - l\n",
    "\n",
    "    l, r = 0, len(nums) - 1\n",
    "    while l <= r:\n",
    "        m = (l + r) // 2\n",
    "        val = m - func(nums, m)\n",
    "        if val >= 0:\n",
    "            r = m - 1\n",
    "        else:\n",
    "            l = m + 1\n",
    "    if l == func(nums, l):\n",
    "        return l\n",
    "    return -1\n",
    "\n",
    "\n",
    "f([3, 5]), f([0, 0])\n"
   ]
  },
  {
   "cell_type": "code",
   "execution_count": null,
   "metadata": {},
   "outputs": [],
   "source": []
  }
 ],
 "metadata": {
  "interpreter": {
   "hash": "a5f34674cfcc9b13426a2d112c686bc132e4ef443f1487e707e7c3787d6bcf89"
  },
  "kernelspec": {
   "display_name": "Python 3.10.4 64-bit (windows store)",
   "language": "python",
   "name": "python3"
  },
  "language_info": {
   "codemirror_mode": {
    "name": "ipython",
    "version": 3
   },
   "file_extension": ".py",
   "mimetype": "text/x-python",
   "name": "python",
   "nbconvert_exporter": "python",
   "pygments_lexer": "ipython3",
   "version": "3.10.4"
  },
  "orig_nbformat": 4
 },
 "nbformat": 4,
 "nbformat_minor": 2
}
