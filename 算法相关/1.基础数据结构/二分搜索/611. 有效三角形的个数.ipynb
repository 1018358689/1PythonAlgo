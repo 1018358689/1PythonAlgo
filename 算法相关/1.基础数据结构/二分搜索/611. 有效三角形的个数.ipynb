{
 "cells": [
  {
   "cell_type": "code",
   "execution_count": 12,
   "metadata": {},
   "outputs": [
    {
     "data": {
      "text/plain": [
       "(3, 4)"
      ]
     },
     "execution_count": 12,
     "metadata": {},
     "output_type": "execute_result"
    }
   ],
   "source": [
    "# 7120ms\n",
    "# 固定俩最小边 找第三最大边\n",
    "\n",
    "def f(nums: list):\n",
    "    ans = 0\n",
    "    nums.sort()\n",
    "    for i in range(len(nums) - 2):\n",
    "        a = nums[i]\n",
    "        if a == 0:\n",
    "            continue\n",
    "        for j in range(i + 1, len(nums) - 1):\n",
    "            b = nums[j]\n",
    "            need = a + b  # 查找<need\n",
    "            l, r = j + 1, len(nums) - 1\n",
    "            while l <= r:\n",
    "                m = (l + r) >> 1\n",
    "                if nums[m] < need:\n",
    "                    l = m + 1\n",
    "                else:\n",
    "                    r = m - 1\n",
    "            if j + 1 <= r < len(nums):  # r >= j + 1:\n",
    "                ans += r - j\n",
    "    return ans\n",
    "\n",
    "\n",
    "f([2, 2, 3, 4]), f([4, 2, 3, 4])\n"
   ]
  },
  {
   "cell_type": "code",
   "execution_count": 13,
   "metadata": {},
   "outputs": [
    {
     "data": {
      "text/plain": [
       "(3, 4)"
      ]
     },
     "execution_count": 13,
     "metadata": {},
     "output_type": "execute_result"
    }
   ],
   "source": [
    "def f(nums: list):\n",
    "    ans = 0\n",
    "    nums.sort()\n",
    "    for i in range(len(nums) - 1, 1, -1):\n",
    "        c = nums[i]\n",
    "        # 从[0,i-1]找两个和>c的个数 两数之和问题\n",
    "        l, r = 0, i - 1\n",
    "        while l < r:\n",
    "            if nums[l] + nums[r] > c:  # 说明r为b [l,r-1]为a都符合\n",
    "                ans += r - l\n",
    "                r -= 1\n",
    "            else:  # 增大a边\n",
    "                l += 1\n",
    "    return ans\n",
    "\n",
    "\n",
    "f([2, 2, 3, 4]), f([4, 2, 3, 4])\n"
   ]
  },
  {
   "cell_type": "code",
   "execution_count": null,
   "metadata": {},
   "outputs": [],
   "source": []
  }
 ],
 "metadata": {
  "interpreter": {
   "hash": "aee8b7b246df8f9039afb4144a1f6fd8d2ca17a180786b69acc140d282b71a49"
  },
  "kernelspec": {
   "display_name": "Python 3.10.1 64-bit",
   "language": "python",
   "name": "python3"
  },
  "language_info": {
   "codemirror_mode": {
    "name": "ipython",
    "version": 3
   },
   "file_extension": ".py",
   "mimetype": "text/x-python",
   "name": "python",
   "nbconvert_exporter": "python",
   "pygments_lexer": "ipython3",
   "version": "3.10.1"
  },
  "orig_nbformat": 4
 },
 "nbformat": 4,
 "nbformat_minor": 2
}
