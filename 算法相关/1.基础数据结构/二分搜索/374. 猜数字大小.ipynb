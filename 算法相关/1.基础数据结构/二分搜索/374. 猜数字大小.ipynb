{
 "cells": [
  {
   "cell_type": "code",
   "execution_count": null,
   "metadata": {},
   "outputs": [],
   "source": [
    "# The guess API is already defined for you.\n",
    "# @param num, your guess\n",
    "# @return -1 if my number is lower, 1 if my number is higher, otherwise return 0\n",
    "# def guess(num: int) -> int:\n",
    "\n",
    "\n",
    "class Solution:\n",
    "\n",
    "    def guessNumber(self, n: int) -> int:\n",
    "        l, r = 1, n\n",
    "        while l <= r:\n",
    "            m = (l + r) // 2\n",
    "            guessNum = guess(m)\n",
    "            if guessNum == -1:\n",
    "                r = m - 1\n",
    "            elif guessNum == 1:\n",
    "                l = m + 1\n",
    "            else:\n",
    "                return m"
   ]
  }
 ],
 "metadata": {
  "language_info": {
   "name": "python"
  },
  "orig_nbformat": 4
 },
 "nbformat": 4,
 "nbformat_minor": 2
}
