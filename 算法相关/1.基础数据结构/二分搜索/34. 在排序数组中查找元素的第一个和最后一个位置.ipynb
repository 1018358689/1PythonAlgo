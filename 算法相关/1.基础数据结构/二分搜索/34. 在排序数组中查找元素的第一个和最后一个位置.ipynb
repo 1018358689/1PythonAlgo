{
 "cells": [
  {
   "cell_type": "markdown",
   "metadata": {},
   "source": [
    "给定一个按照升序排列的整数数组nums，和一个目标值target，找出给定目标值在数组中的开始位置和结束位置。如果数组中不存在目标值target，返回 [-1, -1]。\n",
    "\n",
    "示例 1：\n",
    "\n",
    "输入：nums = [5,7,7,8,8,10], target = 8\n",
    "输出：[3,4]\n",
    "示例 2：\n",
    "\n",
    "输入：nums = [5,7,7,8,8,10], target = 6\n",
    "输出：[-1,-1]"
   ]
  },
  {
   "cell_type": "code",
   "execution_count": 11,
   "metadata": {},
   "outputs": [
    {
     "name": "stdout",
     "output_type": "stream",
     "text": [
      "3\n",
      "1\n",
      "0\n"
     ]
    },
    {
     "data": {
      "text/plain": [
       "([3, 4], [-1, -1], [-1, -1])"
      ]
     },
     "execution_count": 11,
     "metadata": {},
     "output_type": "execute_result"
    }
   ],
   "source": [
    "def f(nums: list, target: int) -> list:\n",
    "    l, r = 0, len(nums) - 1\n",
    "    while l <= r:\n",
    "        m = (l + r) // 2\n",
    "        if target > nums[m]:\n",
    "            l = m + 1\n",
    "        elif target < nums[m]:\n",
    "            r = m - 1\n",
    "        elif target == nums[m]:\n",
    "            r = m - 1\n",
    "    # 最后形态rl 输出l就要考虑l有没有出右界 输出r就要考虑r有没有出左界 不然判断nums[l] != target会下标出界\n",
    "    if r == len(nums) - 1 or nums[l] != target:\n",
    "        return [-1, -1]\n",
    "    else:\n",
    "        tmp_l = l\n",
    "\n",
    "    l, r = 0, len(nums) - 1\n",
    "    while l <= r:\n",
    "        m = (l + r) // 2\n",
    "        if target > nums[m]:\n",
    "            l = m + 1\n",
    "        elif target < nums[m]:\n",
    "            r = m - 1\n",
    "        elif target == nums[m]:\n",
    "            l = m + 1\n",
    "\n",
    "    return [tmp_l, r]\n",
    "\n",
    "\n",
    "f([5, 7, 7, 8, 8, 10], 8), f([5, 7, 7, 8, 8, 10], 6), f([2, 2, 3], 1)\n"
   ]
  },
  {
   "cell_type": "code",
   "execution_count": 1,
   "metadata": {},
   "outputs": [
    {
     "data": {
      "text/plain": [
       "([3, 4], [-1, -1], [-1, -1])"
      ]
     },
     "execution_count": 1,
     "metadata": {},
     "output_type": "execute_result"
    }
   ],
   "source": [
    "def f(nums: list, target: int) -> list:\n",
    "    l, r = 0, len(nums) - 1\n",
    "    # 找左边界 输出l 判断l是否超出右索引和 nums[l]==target\n",
    "    while l <= r:\n",
    "        m = (l + r) // 2\n",
    "        if target < nums[m]:\n",
    "            r = m - 1\n",
    "        elif target > nums[m]:\n",
    "            l = m + 1\n",
    "        elif target == nums[m]:\n",
    "            r = m - 1\n",
    "    if l > len(nums) - 1 or nums[l] != target:\n",
    "        return [-1, -1]\n",
    "    left = l\n",
    "    l, r = 0, len(nums) - 1\n",
    "    # 找右边界\n",
    "    while l <= r:\n",
    "        m = (l + r) // 2\n",
    "        if target < nums[m]:\n",
    "            r = m - 1\n",
    "        elif target > nums[m]:\n",
    "            l = m + 1\n",
    "        elif target == nums[m]:\n",
    "            l = m + 1\n",
    "    return [left, r]\n",
    "\n",
    "f([5, 7, 7, 8, 8, 10], 8), f([5, 7, 7, 8, 8, 10], 6), f([2, 2, 3], 1)\n"
   ]
  },
  {
   "cell_type": "code",
   "execution_count": 3,
   "metadata": {},
   "outputs": [
    {
     "data": {
      "text/plain": [
       "([3, 4], [-1, -1], [-1, -1])"
      ]
     },
     "execution_count": 3,
     "metadata": {},
     "output_type": "execute_result"
    }
   ],
   "source": [
    "import bisect\n",
    "\n",
    "\n",
    "def f(nums: list, target: int) -> list:\n",
    "    l = bisect.bisect_left(nums, target)\n",
    "    if l > len(nums) - 1 or nums[l] != target:\n",
    "        return [-1, -1]\n",
    "    r = bisect.bisect(nums, target) - 1\n",
    "    return [l, r]\n",
    "\n",
    "\n",
    "f([5, 7, 7, 8, 8, 10], 8), f([5, 7, 7, 8, 8, 10], 6), f([2, 2, 3], 1)\n"
   ]
  },
  {
   "cell_type": "code",
   "execution_count": null,
   "metadata": {},
   "outputs": [],
   "source": [
    "#  [5,7,7,8,8,10]\n",
    "def f(nums: list, target: int) -> list:\n",
    "    l, r = 0, len(nums) - 1\n",
    "    while l <= r:\n",
    "        m = (l + r) // 2\n",
    "        if nums[m] >= target:\n",
    "            r = m - 1\n",
    "        else:\n",
    "            l = m + 1\n",
    "    if l > len(nums) - 1 or nums[l] != target:\n",
    "        return [-1, -1]\n",
    "    left = l\n",
    "    l, r = 0, len(nums) - 1\n",
    "    while l <= r:\n",
    "        m = (l + r) // 2\n",
    "        if nums[m] > target:\n",
    "            r = m - 1\n",
    "        else:\n",
    "            l = m + 1\n",
    "    return [left, r]\n"
   ]
  }
 ],
 "metadata": {
  "interpreter": {
   "hash": "aee8b7b246df8f9039afb4144a1f6fd8d2ca17a180786b69acc140d282b71a49"
  },
  "kernelspec": {
   "display_name": "Python 3.8.10 64-bit",
   "language": "python",
   "name": "python3"
  },
  "language_info": {
   "codemirror_mode": {
    "name": "ipython",
    "version": 3
   },
   "file_extension": ".py",
   "mimetype": "text/x-python",
   "name": "python",
   "nbconvert_exporter": "python",
   "pygments_lexer": "ipython3",
   "version": "3.8.10"
  },
  "orig_nbformat": 4
 },
 "nbformat": 4,
 "nbformat_minor": 2
}
