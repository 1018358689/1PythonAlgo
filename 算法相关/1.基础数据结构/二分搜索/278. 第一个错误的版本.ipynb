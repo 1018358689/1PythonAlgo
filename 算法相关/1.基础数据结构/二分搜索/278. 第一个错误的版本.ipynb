{
 "cells": [
  {
   "cell_type": "code",
   "execution_count": null,
   "metadata": {},
   "outputs": [],
   "source": [
    "# The isBadVersion API is already defined for you.\n",
    "# @param version, an integer\n",
    "# @return an integer\n",
    "# def isBadVersion(version):\n",
    "\n",
    "# t,t,t,f,f,f,f,f\n",
    "class Solution:\n",
    "    def firstBadVersion(self, n):\n",
    "        \"\"\"\n",
    "        :type n: int\n",
    "        :rtype: int\n",
    "        \"\"\"\n",
    "        l,r = 1,n\n",
    "        while l<=r:\n",
    "            m = (l+r)//2\n",
    "            if isBadVersion(m):\n",
    "                r = m-1\n",
    "            else:\n",
    "                l = m+1\n",
    "        return l"
   ]
  }
 ],
 "metadata": {
  "language_info": {
   "name": "python"
  },
  "orig_nbformat": 4
 },
 "nbformat": 4,
 "nbformat_minor": 2
}
