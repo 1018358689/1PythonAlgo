{
 "cells": [
  {
   "cell_type": "code",
   "execution_count": 17,
   "metadata": {},
   "outputs": [
    {
     "data": {
      "text/plain": [
       "((2, 3), (0, 1))"
      ]
     },
     "execution_count": 17,
     "metadata": {},
     "output_type": "execute_result"
    }
   ],
   "source": [
    "# 「二分」的本质是两段性，并非单调性。只要一段满足某个性质，另外一段不满足某个性质，就可以用「二分」。\n",
    "\n",
    "# 查找分隔点 非单调 演示target\n",
    "def f(nums: list):\n",
    "    l, r = 0, len(nums) - 1\n",
    "    while nums[r]==nums[0]: # 为保证两段性 即一段>=nums[0] 另一段不符合 将右端点左移\n",
    "        r-=1\n",
    "    while l <= r:\n",
    "        m = (l + r) // 2\n",
    "        middle = nums[m]\n",
    "        if middle >=nums[0]:\n",
    "            l = m + 1\n",
    "        else:\n",
    "            r = m - 1\n",
    "    return r,l\n",
    "\n",
    "f([10,10,100,4,3,6,10]),f([1,0,1,1,1])"
   ]
  },
  {
   "cell_type": "code",
   "execution_count": 28,
   "metadata": {},
   "outputs": [
    {
     "name": "stdout",
     "output_type": "stream",
     "text": [
      "0 0\n",
      "1 0\n"
     ]
    },
    {
     "data": {
      "text/plain": [
       "False"
      ]
     },
     "execution_count": 28,
     "metadata": {},
     "output_type": "execute_result"
    }
   ],
   "source": [
    "def f(nums: list, target: int):\n",
    "    l, r = 0, len(nums) - 1\n",
    "    while l < r and nums[r] == nums[0]:  # 为保证两段性 即一段>=nums[0] 另一段不符合 将右端点左移\n",
    "        r -= 1\n",
    "    print(l, r)\n",
    "    right = r\n",
    "    while l <= r:\n",
    "        m = (l + r) // 2\n",
    "        middle = nums[m]\n",
    "        if middle >= nums[0]:\n",
    "            l = m + 1\n",
    "        else:\n",
    "            r = m - 1\n",
    "    if target >= nums[0]:\n",
    "        l = 0\n",
    "    else:\n",
    "        r = right\n",
    "\n",
    "    print(l, r)\n",
    "    while l <= r:\n",
    "        m = (l + r) // 2\n",
    "        middle = nums[m]\n",
    "        if middle >= target:\n",
    "            r = m - 1\n",
    "        else:\n",
    "            l = m + 1\n",
    "    if l > len(nums) - 1 or nums[l] != target:\n",
    "        return False\n",
    "    return True\n",
    "\n",
    "\n",
    "# f([2, 5, 6, 0, 0, 1, 2], 0)\n",
    "# f([1, 0, 1, 1, 1], 0)\n",
    "f([1], 0)\n"
   ]
  },
  {
   "cell_type": "code",
   "execution_count": null,
   "metadata": {},
   "outputs": [],
   "source": []
  }
 ],
 "metadata": {
  "interpreter": {
   "hash": "aee8b7b246df8f9039afb4144a1f6fd8d2ca17a180786b69acc140d282b71a49"
  },
  "kernelspec": {
   "display_name": "Python 3.8.10 64-bit",
   "language": "python",
   "name": "python3"
  },
  "language_info": {
   "codemirror_mode": {
    "name": "ipython",
    "version": 3
   },
   "file_extension": ".py",
   "mimetype": "text/x-python",
   "name": "python",
   "nbconvert_exporter": "python",
   "pygments_lexer": "ipython3",
   "version": "3.8.10"
  },
  "orig_nbformat": 4
 },
 "nbformat": 4,
 "nbformat_minor": 2
}
