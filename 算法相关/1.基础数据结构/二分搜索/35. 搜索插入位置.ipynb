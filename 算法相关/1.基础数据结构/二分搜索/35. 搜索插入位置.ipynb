{
 "cells": [
  {
   "cell_type": "markdown",
   "metadata": {},
   "source": [
    "给定一个排序数组和一个目标值，在数组中找到目标值，并返回其索引。如果目标值不存在于数组中，返回它将会被按顺序插入的位置。\n",
    "\n",
    "请必须使用时间复杂度为O(log n)的算法。\n",
    "\n",
    "示例 1:\n",
    "\n",
    "输入：nums = [1,3,5,6], target = 5\n",
    "输出：2\n",
    "示例 2:\n",
    "\n",
    "输入：nums = [1,3,5,6], target = 2\n",
    "输出：1"
   ]
  },
  {
   "cell_type": "code",
   "execution_count": 3,
   "metadata": {},
   "outputs": [
    {
     "data": {
      "text/plain": [
       "(1, 2, 4)"
      ]
     },
     "execution_count": 3,
     "metadata": {},
     "output_type": "execute_result"
    }
   ],
   "source": [
    "# 即大于等于target的最小元素索引 出右界也没事 即二分查找左缩\n",
    "\n",
    "# 当目标元素target不存在数组nums中时，搜索左侧边界的二分搜索的返回值可以做以下几种解读：\n",
    "# 1、返回的这个值是nums中大于等于target的最小元素索引。\n",
    "# 2、返回的这个值是target应该插入在nums中的索引位置。\n",
    "# 3、返回的这个值是nums中小于target的元素个数。\n",
    "\n",
    "\n",
    "def f(nums: list, target: int) -> int:\n",
    "    l, r = 0, len(nums) - 1\n",
    "    while l <= r:\n",
    "        m = l + (r - l) // 2\n",
    "        if target > nums[m]:\n",
    "            l = m + 1\n",
    "        elif target < nums[m]:\n",
    "            r = m - 1\n",
    "        elif target == nums[m]:\n",
    "            r = m - 1\n",
    "    return l\n",
    "\n",
    "\n",
    "f([1, 3, 5, 6], 2), f([1, 3, 5, 6], 5), f([1, 3, 5, 6], 7)\n"
   ]
  },
  {
   "cell_type": "code",
   "execution_count": null,
   "metadata": {},
   "outputs": [],
   "source": [
    "# 小于等于target的最大元素索引 即二分查找右缩"
   ]
  },
  {
   "cell_type": "code",
   "execution_count": 1,
   "metadata": {},
   "outputs": [
    {
     "data": {
      "text/plain": [
       "(1, 2, 4)"
      ]
     },
     "execution_count": 1,
     "metadata": {},
     "output_type": "execute_result"
    }
   ],
   "source": [
    "# nums = [1,3,5,6], target = 4 ->2  二段性>=4作为分界限\n",
    "def f(nums: list, target: int) -> int:\n",
    "    l, r = 0, len(nums) - 1\n",
    "    while l <= r:\n",
    "        m = (l + r) // 2\n",
    "        if nums[m] >= target:\n",
    "            r = m - 1\n",
    "        else:\n",
    "            l = m + 1\n",
    "    return l\n",
    "\n",
    "\n",
    "f([1, 3, 5, 6], 2), f([1, 3, 5, 6], 5), f([1, 3, 5, 6], 7)\n"
   ]
  },
  {
   "cell_type": "code",
   "execution_count": null,
   "metadata": {},
   "outputs": [],
   "source": []
  }
 ],
 "metadata": {
  "interpreter": {
   "hash": "aee8b7b246df8f9039afb4144a1f6fd8d2ca17a180786b69acc140d282b71a49"
  },
  "kernelspec": {
   "display_name": "Python 3.8.10 64-bit",
   "language": "python",
   "name": "python3"
  },
  "language_info": {
   "codemirror_mode": {
    "name": "ipython",
    "version": 3
   },
   "file_extension": ".py",
   "mimetype": "text/x-python",
   "name": "python",
   "nbconvert_exporter": "python",
   "pygments_lexer": "ipython3",
   "version": "3.10.1"
  },
  "orig_nbformat": 4
 },
 "nbformat": 4,
 "nbformat_minor": 2
}
