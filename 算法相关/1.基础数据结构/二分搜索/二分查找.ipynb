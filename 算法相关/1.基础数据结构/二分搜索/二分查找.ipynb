{
 "cells": [
  {
   "cell_type": "code",
   "execution_count": null,
   "metadata": {},
   "outputs": [],
   "source": [
    "# 「二分」的本质是两段性，并非单调性。只要一段满足某个性质，另外一段不满足某个性质，就可以用「二分」。\n",
    "\n",
    "# 我们进一步发现「二段性」还能继续细分，不仅仅只有满足 0101 特性（满足/不满足）的「二段性」可以使用二分，满足 1?1? 特性（一定满足/不一定满足）也可以二分。\n",
    "# 162题\n",
    "\n",
    "# 查找分隔点 非单调 演示target\n",
    "def f(nums: list, target: int):\n",
    "    l, r = 0, len(nums) - 1\n",
    "    while l <= r:\n",
    "        m = (l + r) // 2\n",
    "        middle = nums[m]\n",
    "        if middle >=target:\n",
    "            l = m + 1\n",
    "        else:\n",
    "            r = m - 1\n",
    "    return l, r\n",
    "\n",
    "f([10,10,100,4,3,6],8)"
   ]
  },
  {
   "cell_type": "code",
   "execution_count": 2,
   "metadata": {},
   "outputs": [
    {
     "data": {
      "text/plain": [
       "(3, -1)"
      ]
     },
     "execution_count": 2,
     "metadata": {},
     "output_type": "execute_result"
    }
   ],
   "source": [
    "# 二分搜索连续不重复数组某个值 没有则返回-1\n",
    "def f(nums: list, target: int):\n",
    "    L = 0\n",
    "    R = len(nums) - 1  # [L,R]\n",
    "    while L <= R:\n",
    "        M = (L + R) // 2\n",
    "        if target > nums[M]: L = M + 1\n",
    "        elif target < nums[M]: R = M - 1\n",
    "        elif target == nums[M]: return M\n",
    "    return -1\n",
    "\n",
    "\n",
    "f([1, 2, 3, 5, 6], 5), f([1, 2, 3, 5, 6], 4)\n"
   ]
  },
  {
   "cell_type": "code",
   "execution_count": 4,
   "metadata": {},
   "outputs": [
    {
     "data": {
      "text/plain": [
       "(5, 0, 1, 1)"
      ]
     },
     "execution_count": 4,
     "metadata": {},
     "output_type": "execute_result"
    }
   ],
   "source": [
    "# 二分搜索 连续数组大于等于target的最小元素的索引 寻找左侧边界\n",
    "def f(nums: list, target: int):\n",
    "    L = 0\n",
    "    R = len(nums) - 1  # [L,R]\n",
    "    while L <= R:\n",
    "        M = (L + R) // 2\n",
    "        if target > nums[M]: L = M + 1\n",
    "        elif target < nums[M]: R = M - 1\n",
    "        elif target == nums[M]: R = M - 1\n",
    "    return L\n",
    "\n",
    "\n",
    "f([1, 2, 3, 5, 6], 7), f([1, 2, 3, 5, 6], 0), f([1, 2, 2, 2, 5, 6], 2), f([0, 2, 2, 2, 5, 6], 1)\n"
   ]
  },
  {
   "cell_type": "code",
   "execution_count": 5,
   "metadata": {},
   "outputs": [
    {
     "data": {
      "text/plain": [
       "(5, 0, 1, 4)"
      ]
     },
     "execution_count": 5,
     "metadata": {},
     "output_type": "execute_result"
    }
   ],
   "source": [
    "from bisect import bisect_left\n",
    "\n",
    "f = bisect_left\n",
    "f([1, 2, 3, 5, 6], 7), f([1, 2, 3, 5, 6], 0), f([1, 2, 2, 2, 5, 6], 2), f([0, 2, 2, 2, 5, 6], 3)\n"
   ]
  },
  {
   "cell_type": "code",
   "execution_count": 4,
   "metadata": {},
   "outputs": [
    {
     "data": {
      "text/plain": [
       "(4, -1, 3, 3)"
      ]
     },
     "execution_count": 4,
     "metadata": {},
     "output_type": "execute_result"
    }
   ],
   "source": [
    "# 二分搜索 连续数组小于等于target的最大元素的索引 寻找右侧边界\n",
    "def f(nums: list, target: int):\n",
    "    L = 0\n",
    "    R = len(nums) - 1  # [L,R]\n",
    "    while L <= R:\n",
    "        M = (L + R) // 2\n",
    "        if target > nums[M]: L = M + 1\n",
    "        elif target < nums[M]: R = M - 1\n",
    "        elif target == nums[M]: L = M + 1  # 意味着M=L-1\n",
    "    return R\n",
    "\n",
    "\n",
    "f([1, 2, 3, 5, 6], 7), f([1, 2, 3, 5, 6], 0), f([1, 2, 2, 2, 5, 6], 2), f([0, 2, 2, 2, 5, 6], 3)\n"
   ]
  },
  {
   "cell_type": "code",
   "execution_count": 32,
   "metadata": {},
   "outputs": [
    {
     "data": {
      "text/plain": [
       "(5, 0, 1, 1)"
      ]
     },
     "execution_count": 32,
     "metadata": {},
     "output_type": "execute_result"
    }
   ],
   "source": [
    "from bisect import bisect_left # 左边界 连续数组大于等于target的最小元素的索引 寻找左侧边界\n",
    "\n",
    "f = bisect_left\n",
    "f([1, 2, 3, 5, 6], 7), f([1, 2, 3, 5, 6], 0), f([1, 2, 2, 2, 5, 6], 2), f([0, 2, 2, 2, 5, 6], 1)\n",
    "# f([1, 3, 5, 7, 9], 3), f([1, 2, 3, 4], 3)\n"
   ]
  },
  {
   "cell_type": "code",
   "execution_count": 36,
   "metadata": {},
   "outputs": [
    {
     "data": {
      "text/plain": [
       "(5, 0, 4, 4)"
      ]
     },
     "execution_count": 36,
     "metadata": {},
     "output_type": "execute_result"
    }
   ],
   "source": [
    "from bisect import bisect_right # 右边界+1 连续数组大于target的最小元素的索引\n",
    "\n",
    "f = bisect_right\n",
    "f([1, 2, 3, 5, 6], 7), f([1, 2, 3, 5, 6], 0), f([1, 2, 2, 2, 5, 6], 2), f([0, 2, 2, 2, 5, 6], 3)\n",
    "# f([1, 3, 5, 7, 9], 3), f([1, 2, 3, 4], 3)\n"
   ]
  },
  {
   "cell_type": "code",
   "execution_count": 35,
   "metadata": {},
   "outputs": [
    {
     "data": {
      "text/plain": [
       "(5, 0, 4, 1)"
      ]
     },
     "execution_count": 35,
     "metadata": {},
     "output_type": "execute_result"
    }
   ],
   "source": [
    "from bisect import bisect\n",
    "\n",
    "f = bisect\n",
    "f([1, 2, 3, 5, 6], 7), f([1, 2, 3, 5, 6], 0), f([1, 2, 2, 2, 5, 6], 2), f([0, 2, 2, 2, 5, 6], 1)\n",
    "# f([1, 3, 5, 7, 9], 3), f([1, 2, 3, 4], 3)\n"
   ]
  },
  {
   "cell_type": "code",
   "execution_count": null,
   "metadata": {},
   "outputs": [],
   "source": [
    "# **NOTE：**left和不带left的用法的区别是：\n",
    "# 当插入的元素和序列中的某一个元素相同时，该插入到该元素的前面（左边，left），还是后面（右边）；\n",
    "# 如果是查找，则返回该元素的位置还是该元素之后的位置。"
   ]
  },
  {
   "cell_type": "code",
   "execution_count": null,
   "metadata": {},
   "outputs": [],
   "source": [
    "# 查找：\n",
    "# bisect(array, item)\n",
    "# bisect_left(array, item)\n",
    "# bisect_right(array, item)\n",
    "# 插入：\n",
    "# insort(array,item)\n",
    "# insort_left(array,item)\n",
    "# insort_right(array,item)"
   ]
  },
  {
   "cell_type": "code",
   "execution_count": 21,
   "metadata": {},
   "outputs": [
    {
     "data": {
      "text/plain": [
       "(2, 3, 3)"
      ]
     },
     "execution_count": 21,
     "metadata": {},
     "output_type": "execute_result"
    }
   ],
   "source": [
    "import bisect\n",
    "\n",
    "bisect.bisect_left([1, 2, 3, 4, 5], 3), bisect.bisect([1, 2, 3, 4, 5], 3), bisect.bisect_right([1, 2, 3, 4, 5], 3)\n"
   ]
  },
  {
   "cell_type": "code",
   "execution_count": 30,
   "metadata": {},
   "outputs": [
    {
     "data": {
      "text/plain": [
       "(1, 3, 3)"
      ]
     },
     "execution_count": 30,
     "metadata": {},
     "output_type": "execute_result"
    }
   ],
   "source": [
    "import bisect\n",
    "\n",
    "bisect.bisect_left([1, 2, 2, 3, 4], 2), bisect.bisect([1, 2, 2, 3, 4], 2), bisect.bisect_right([1, 2, 2, 3, 4], 2)\n"
   ]
  },
  {
   "cell_type": "code",
   "execution_count": 28,
   "metadata": {},
   "outputs": [
    {
     "name": "stdout",
     "output_type": "stream",
     "text": [
      "[1, 3, 5, 6, 7, 9]\n",
      "[1, 3, 5, 6, 7, 9]\n"
     ]
    }
   ],
   "source": [
    "import bisect\n",
    "\n",
    "a = [1, 3, 5, 7, 9]\n",
    "bisect.insort_left(a, 6)\n",
    "print(a)\n",
    "\n",
    "b = [1, 3, 5, 7, 9]\n",
    "bisect.insort(b, 6)\n",
    "print(b)\n"
   ]
  },
  {
   "cell_type": "code",
   "execution_count": null,
   "metadata": {},
   "outputs": [],
   "source": []
  }
 ],
 "metadata": {
  "interpreter": {
   "hash": "aee8b7b246df8f9039afb4144a1f6fd8d2ca17a180786b69acc140d282b71a49"
  },
  "kernelspec": {
   "display_name": "Python 3.8.10 64-bit",
   "language": "python",
   "name": "python3"
  },
  "language_info": {
   "codemirror_mode": {
    "name": "ipython",
    "version": 3
   },
   "file_extension": ".py",
   "mimetype": "text/x-python",
   "name": "python",
   "nbconvert_exporter": "python",
   "pygments_lexer": "ipython3",
   "version": "3.8.10"
  },
  "orig_nbformat": 4
 },
 "nbformat": 4,
 "nbformat_minor": 2
}
