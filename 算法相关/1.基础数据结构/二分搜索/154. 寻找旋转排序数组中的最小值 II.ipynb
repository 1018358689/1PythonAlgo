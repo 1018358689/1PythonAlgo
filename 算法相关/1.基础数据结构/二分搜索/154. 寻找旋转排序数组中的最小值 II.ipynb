{
 "cells": [
  {
   "cell_type": "code",
   "execution_count": null,
   "metadata": {},
   "outputs": [],
   "source": [
    "def f(nums: list):\n",
    "    l, r = 0, len(nums) - 1\n",
    "    while l < r and nums[r] == nums[0]:\n",
    "        r -= 1\n",
    "    right = r\n",
    "    while l <= r:\n",
    "        m = (l + r) >> 1\n",
    "        middle = nums[m]\n",
    "        if middle >= nums[0]:\n",
    "            l = m + 1\n",
    "        else:\n",
    "            r = m - 1\n",
    "    if l > right:\n",
    "        return nums[0]\n",
    "    else:\n",
    "        return nums[l]"
   ]
  }
 ],
 "metadata": {
  "language_info": {
   "name": "python"
  },
  "orig_nbformat": 4
 },
 "nbformat": 4,
 "nbformat_minor": 2
}
