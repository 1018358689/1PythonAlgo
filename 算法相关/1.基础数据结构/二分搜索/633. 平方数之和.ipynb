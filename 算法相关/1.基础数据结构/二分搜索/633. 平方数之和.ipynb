{
 "cells": [
  {
   "cell_type": "code",
   "execution_count": 1,
   "metadata": {},
   "outputs": [
    {
     "data": {
      "text/plain": [
       "2.23606797749979"
      ]
     },
     "execution_count": 1,
     "metadata": {},
     "output_type": "execute_result"
    }
   ],
   "source": [
    "5**.5"
   ]
  },
  {
   "cell_type": "code",
   "execution_count": 6,
   "metadata": {},
   "outputs": [
    {
     "data": {
      "text/plain": [
       "True"
      ]
     },
     "execution_count": 6,
     "metadata": {},
     "output_type": "execute_result"
    }
   ],
   "source": [
    "def f(c: int):\n",
    "    l, r = 0, int(c**.5)\n",
    "    while l <= r:\n",
    "        m = l**2 + r**2\n",
    "        if m > c:\n",
    "            r -= 1\n",
    "        elif m < c:\n",
    "            l += 1\n",
    "        else:\n",
    "            return True\n",
    "    return False\n",
    "\n",
    "\n",
    "f(5)\n",
    "# f(3)\n"
   ]
  },
  {
   "cell_type": "code",
   "execution_count": 5,
   "metadata": {},
   "outputs": [
    {
     "data": {
      "text/plain": [
       "(True, False)"
      ]
     },
     "execution_count": 5,
     "metadata": {},
     "output_type": "execute_result"
    }
   ],
   "source": [
    "def f(c: int):\n",
    "    for a in range(int(c**.5) + 1):  # [0,int(c**.5)]\n",
    "        target = c - a**2\n",
    "        if target < 0:\n",
    "            break\n",
    "        l, r = a, int(c**.5)\n",
    "        while l <= r:\n",
    "            m = (l + r) >> 1\n",
    "            if m**2 >= target:\n",
    "                r = m - 1\n",
    "            else:\n",
    "                l = m + 1\n",
    "        if l <= int(c**.5) and l**2 == target:\n",
    "            return True\n",
    "    return False\n",
    "\n",
    "\n",
    "f(5), f(3)\n"
   ]
  },
  {
   "cell_type": "code",
   "execution_count": 7,
   "metadata": {},
   "outputs": [
    {
     "data": {
      "text/plain": [
       "(True, False)"
      ]
     },
     "execution_count": 7,
     "metadata": {},
     "output_type": "execute_result"
    }
   ],
   "source": [
    "def f(c: int):\n",
    "    for a in range(int(c**.5) + 1):  # [0,int(c**.5)]\n",
    "        b = (c - a**2)**.5\n",
    "        if b == int(b):\n",
    "            return True\n",
    "    return False\n",
    "\n",
    "\n",
    "f(5), f(3)\n"
   ]
  },
  {
   "cell_type": "code",
   "execution_count": null,
   "metadata": {},
   "outputs": [],
   "source": []
  }
 ],
 "metadata": {
  "interpreter": {
   "hash": "a5f34674cfcc9b13426a2d112c686bc132e4ef443f1487e707e7c3787d6bcf89"
  },
  "kernelspec": {
   "display_name": "Python 3.10.4 64-bit (windows store)",
   "language": "python",
   "name": "python3"
  },
  "language_info": {
   "codemirror_mode": {
    "name": "ipython",
    "version": 3
   },
   "file_extension": ".py",
   "mimetype": "text/x-python",
   "name": "python",
   "nbconvert_exporter": "python",
   "pygments_lexer": "ipython3",
   "version": "3.10.4"
  },
  "orig_nbformat": 4
 },
 "nbformat": 4,
 "nbformat_minor": 2
}
