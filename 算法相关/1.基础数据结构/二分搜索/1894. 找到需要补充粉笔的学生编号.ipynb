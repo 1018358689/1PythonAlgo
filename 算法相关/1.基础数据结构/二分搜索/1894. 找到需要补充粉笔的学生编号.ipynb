{
 "cells": [
  {
   "cell_type": "code",
   "execution_count": 1,
   "metadata": {},
   "outputs": [
    {
     "data": {
      "text/plain": [
       "1"
      ]
     },
     "execution_count": 1,
     "metadata": {},
     "output_type": "execute_result"
    }
   ],
   "source": [
    "def f(chalk: list, k: int):\n",
    "    k %= sum(chalk)\n",
    "    preSum = 0\n",
    "    for i, n in enumerate(chalk):\n",
    "        preSum += n\n",
    "        if preSum > k:\n",
    "            return i\n",
    "\n",
    "\n",
    "f([3, 4, 1, 2], 25)\n"
   ]
  },
  {
   "cell_type": "code",
   "execution_count": 9,
   "metadata": {},
   "outputs": [
    {
     "data": {
      "text/plain": [
       "(1, 0)"
      ]
     },
     "execution_count": 9,
     "metadata": {},
     "output_type": "execute_result"
    }
   ],
   "source": [
    "def f(chalk: list, k: int):\n",
    "    k %= sum(chalk)\n",
    "    preSum = [0] * (len(chalk) + 1)\n",
    "    for i in range(len(chalk)):\n",
    "        preSum[i + 1] = preSum[i] + chalk[i]\n",
    "    l, r = 0, len(preSum) - 1\n",
    "    while l <= r:\n",
    "        m = (l + r) >> 1\n",
    "        if preSum[m] > k:\n",
    "            r = m - 1\n",
    "        else:\n",
    "            l = m + 1\n",
    "    return l - 1\n",
    "\n",
    "\n",
    "f([3, 4, 1, 2], 25), f([5, 1, 5], 22)\n"
   ]
  },
  {
   "cell_type": "code",
   "execution_count": null,
   "metadata": {},
   "outputs": [],
   "source": []
  }
 ],
 "metadata": {
  "interpreter": {
   "hash": "aee8b7b246df8f9039afb4144a1f6fd8d2ca17a180786b69acc140d282b71a49"
  },
  "kernelspec": {
   "display_name": "Python 3.10.2 64-bit",
   "language": "python",
   "name": "python3"
  },
  "language_info": {
   "codemirror_mode": {
    "name": "ipython",
    "version": 3
   },
   "file_extension": ".py",
   "mimetype": "text/x-python",
   "name": "python",
   "nbconvert_exporter": "python",
   "pygments_lexer": "ipython3",
   "version": "3.10.2"
  },
  "orig_nbformat": 4
 },
 "nbformat": 4,
 "nbformat_minor": 2
}
