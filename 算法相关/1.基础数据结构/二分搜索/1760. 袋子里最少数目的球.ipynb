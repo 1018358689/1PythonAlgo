{
 "cells": [
  {
   "cell_type": "code",
   "execution_count": null,
   "metadata": {},
   "outputs": [],
   "source": [
    "def f(nums: list, maxOperations: int):\n",
    "    # 1.首先明确 花销-操作次数 是递减函数 脑子里有向右下的函数图像\n",
    "    def check2cnt(cost: int):  # 花销->操作次数 单调递减函数\n",
    "        ans = 0\n",
    "        for n in nums:\n",
    "            if not n % cost:\n",
    "                ans += n // cost - 1\n",
    "            else:\n",
    "                ans += n // cost\n",
    "        return ans\n",
    "\n",
    "    # 2.花销的范围 [1,max(nums)]\n",
    "    # 3.明确要想花销越小 操作次数要越大 但是操作次数最大为maxOperations\n",
    "    # 4.所以要找maxOperations操作次数 花销交界处 注意花销为整数 可以线性查找 但是没有二分快\n",
    "    l, r = 1, max(nums)\n",
    "    while l <= r:  # 花销\n",
    "        m = (l + r) >> 1\n",
    "        if check2cnt(m) <= maxOperations:  # 在右半部分\n",
    "            r = m - 1\n",
    "        else:  # 在左半部分\n",
    "            l = m + 1\n",
    "    return l\n"
   ]
  }
 ],
 "metadata": {
  "language_info": {
   "name": "python"
  },
  "orig_nbformat": 4
 },
 "nbformat": 4,
 "nbformat_minor": 2
}
