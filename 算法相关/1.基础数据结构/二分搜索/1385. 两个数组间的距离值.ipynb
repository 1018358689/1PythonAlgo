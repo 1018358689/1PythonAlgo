{
 "cells": [
  {
   "cell_type": "code",
   "execution_count": 1,
   "metadata": {},
   "outputs": [
    {
     "data": {
      "text/plain": [
       "2"
      ]
     },
     "execution_count": 1,
     "metadata": {},
     "output_type": "execute_result"
    }
   ],
   "source": [
    "def f(arr1: list, arr2: list, d: int):\n",
    "\n",
    "    def rightClose(arr: list, num: int):  # 寻找arr中第一个>=num的数\n",
    "        l, r = 0, len(arr) - 1\n",
    "        while l <= r:\n",
    "            m = (l + r) // 2\n",
    "            if arr[m] >= num:\n",
    "                r = m - 1\n",
    "            else:\n",
    "                l = m + 1\n",
    "        return arr[l] if l < len(arr) else None\n",
    "\n",
    "    def leftClose(arr: list, num: int):  # 寻找arr中第一个<=num的数\n",
    "        l, r = 0, len(arr) - 1\n",
    "        while l <= r:\n",
    "            m = (l + r) // 2\n",
    "            if arr[m] <= num:\n",
    "                l = m + 1\n",
    "            else:\n",
    "                r = m - 1\n",
    "        return arr[r] if r >= 0 else None\n",
    "\n",
    "    ans = 0\n",
    "    arr2.sort()\n",
    "    for n in arr1:\n",
    "        left, right = leftClose(arr2, n), rightClose(arr2, n)\n",
    "        distance = min((abs(right - n) if right is not None else float('inf')), (abs(n - left) if left is not None else float('inf')))\n",
    "        if distance > d:\n",
    "            ans += 1\n",
    "    return ans\n",
    "\n",
    "\n",
    "f([4, 5, 8], [10, 9, 1, 8], 2)\n"
   ]
  },
  {
   "cell_type": "code",
   "execution_count": null,
   "metadata": {},
   "outputs": [],
   "source": []
  }
 ],
 "metadata": {
  "interpreter": {
   "hash": "aee8b7b246df8f9039afb4144a1f6fd8d2ca17a180786b69acc140d282b71a49"
  },
  "kernelspec": {
   "display_name": "Python 3.10.1 64-bit",
   "language": "python",
   "name": "python3"
  },
  "language_info": {
   "codemirror_mode": {
    "name": "ipython",
    "version": 3
   },
   "file_extension": ".py",
   "mimetype": "text/x-python",
   "name": "python",
   "nbconvert_exporter": "python",
   "pygments_lexer": "ipython3",
   "version": "3.10.1"
  },
  "orig_nbformat": 4
 },
 "nbformat": 4,
 "nbformat_minor": 2
}
