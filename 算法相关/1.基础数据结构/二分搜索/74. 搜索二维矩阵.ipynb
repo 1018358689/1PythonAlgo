{
 "cells": [
  {
   "cell_type": "code",
   "execution_count": 5,
   "metadata": {},
   "outputs": [
    {
     "name": "stdout",
     "output_type": "stream",
     "text": [
      "[[1, 3, 5, 7], [10, 11, 16, 20], 23, 30, 34, 60]\n",
      "[[1, 3, 5, 7], 10, 11, 16, 20, 23, 30, 34, 60]\n",
      "[1, 3, 5, 7, 10, 11, 16, 20, 23, 30, 34, 60]\n"
     ]
    },
    {
     "data": {
      "text/plain": [
       "[1, 3, 5, 7, 10, 11, 16, 20, 23, 30, 34, 60]"
      ]
     },
     "execution_count": 5,
     "metadata": {},
     "output_type": "execute_result"
    }
   ],
   "source": [
    "matrix = [[1, 3, 5, 7], [10, 11, 16, 20], [23, 30, 34, 60]]\n",
    "for i in range(len(matrix) - 1, -1, -1):\n",
    "    matrix[i:i + 1] = matrix[i]\n",
    "matrix"
   ]
  },
  {
   "cell_type": "code",
   "execution_count": 6,
   "metadata": {},
   "outputs": [],
   "source": [
    "def f(matrix: list, target: int):\n",
    "    for i in range(len(matrix) - 1, -1, -1):\n",
    "        matrix[i:i + 1] = matrix[i]\n",
    "    l, r = 0, len(matrix) - 1\n",
    "    while l <= r:\n",
    "        m = (l + r) // 2\n",
    "        middle = matrix[m]\n",
    "        if middle >= target:\n",
    "            r = m - 1\n",
    "        else:\n",
    "            l = m + 1\n",
    "    if l > len(matrix) - 1 or matrix[l] != target:\n",
    "        return False\n",
    "    return True"
   ]
  },
  {
   "cell_type": "code",
   "execution_count": null,
   "metadata": {},
   "outputs": [],
   "source": [
    "def f(matrix: list, target: int):\n",
    "    rows, cols = len(matrix), len(matrix[0])\n",
    "    l, r = 0, rows * cols - 1\n",
    "    while l <= r:\n",
    "        m = (l + r) // 2\n",
    "        x, y = divmod(m, cols)\n",
    "        middle = matrix[x][y]\n",
    "        if middle > target:\n",
    "            r = m - 1\n",
    "        elif middle < target:\n",
    "            l = m + 1\n",
    "        else:\n",
    "            return True\n",
    "    return False"
   ]
  }
 ],
 "metadata": {
  "interpreter": {
   "hash": "aee8b7b246df8f9039afb4144a1f6fd8d2ca17a180786b69acc140d282b71a49"
  },
  "kernelspec": {
   "display_name": "Python 3.8.10 64-bit",
   "language": "python",
   "name": "python3"
  },
  "language_info": {
   "codemirror_mode": {
    "name": "ipython",
    "version": 3
   },
   "file_extension": ".py",
   "mimetype": "text/x-python",
   "name": "python",
   "nbconvert_exporter": "python",
   "pygments_lexer": "ipython3",
   "version": "3.8.10"
  },
  "orig_nbformat": 4
 },
 "nbformat": 4,
 "nbformat_minor": 2
}
