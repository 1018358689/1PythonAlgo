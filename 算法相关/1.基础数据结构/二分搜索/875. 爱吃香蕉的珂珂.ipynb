{
 "cells": [
  {
   "cell_type": "markdown",
   "metadata": {},
   "source": [
    "珂珂喜欢吃香蕉。这里有 N 堆香蕉，第 i 堆中有 piles[i] 根香蕉。警卫已经离开了，将在 H 小时后回来。\n",
    "\n",
    "珂珂可以决定她吃香蕉的速度 K （单位：根/小时）。每个小时，她将会选择一堆香蕉，从中吃掉 K 根。如果这堆香蕉少于 K 根，她将吃掉这堆的所有香蕉，然后这一小时内不会再吃更多的香蕉。  \n",
    "\n",
    "珂珂喜欢慢慢吃，但仍然想在警卫回来前吃掉所有的香蕉。\n",
    "\n",
    "返回她可以在 H 小时内吃掉所有香蕉的最小速度 K（K 为整数）。\n",
    "\n",
    " \n",
    "\n",
    "示例 1：\n",
    "输入: piles = [3,6,7,11], H = 8\n",
    "输出: 4\n",
    "\n",
    "示例 2：\n",
    "输入: piles = [30,11,23,4,20], H = 5\n",
    "输出: 30\n",
    "\n",
    "示例 3：\n",
    "输入: piles = [30,11,23,4,20], H = 6\n",
    "输出: 23"
   ]
  },
  {
   "cell_type": "code",
   "execution_count": null,
   "metadata": {},
   "outputs": [],
   "source": [
    "import math\n",
    "for p in range(1, 100):\n",
    "    for x in range(1, 100):\n",
    "        print(math.ceil(p / x) == (p + x - 1) // x)\n",
    "\n",
    "# math.ceil(p/x)\n",
    "# p // x + min(1, p % x)\n",
    "# p // x + (0 + p % x > 0)\n",
    "# (p + x - 1) // x"
   ]
  },
  {
   "cell_type": "markdown",
   "metadata": {},
   "source": [
    "![avatar](data:image/jpeg;base64,UklGRnIyAABXRUJQVlA4IGYyAAAQLgGdASo4BGACPm02mEmkIqKkILCooIANiWlulnvn/0J2kXNnMacX1fyPN/4af//9zZov17f/nBpsLR1A/lG9uA2vd4Px9dYgXVP909mvoo22/Ouf4X/Aapf6IH7Vdch+0eU9fD//V/wPYf0O7j307+K/K3QS/kn3F/J/3H9vPkX3D/vH3j+oL+Tf0f/Sf2f9uuKIAD+nf2v/h+iH3a9Mvsp/zPcA/mv9W/53rp4e/4f1A/6p/n/V//yP/Z/pvzM96n1h/6/cR/XrreehyEMW1whSxJY9V39AFJClJzmPYlMjFPcexKWqPYlEOSY9GpOnG3/WTlt1Beo/8/Zrqk6ctursh9kP1lhov9bVGJpeOlwepyzzCL628rUPR+dGHbrXPjdIJQg0g4yB7uRa2OcN+Wt9M1jGDQqGKuuXOWp7Eyl4gJ2Hw3pR4CkkZpqi89TbSQ6dAlq9XrLFYuEiGHjL87Cb3m4MRG2Cdy1MD8g5c+AsApC1G/u7b0SiDC1WDIGrb1ACZ/xAS++jdmcyLGcs8we/uv8oHXgMTlt173I0GYVIaeZFLig1WSATC3TVYPvan3jsmYsqUrK77tzgwrxjOSgmvLADZ7pdNIAx/10lRc2KxpIu9qRTC/NqBKkJHp3LiGitAxhBzX7eJJslreNJN+agBOqa8l5wXl2Q+v9PSb6+Jzq3gTXmfGvD3j5SAFmaqFaszSvzacrARAOQJ9HOFuEVMuWtSFEKikoA+kJUoJNPAZy2qIJr93O+Yp0fUDQXJoF5nd9AQ/2UNZet4B9KERSFEJNTtyLzYZ00zpwbpfg4dEgPExKlzrvSfY+Mx7VxaFuIvpF9Z5FoBFvbqDOdjH0xRuw5AnxukAK9aJ9I5Oscj4GMAxgFd5F9vdRJNxEBRdcUsKzmCM8s4HkQCimamAdslMKrga5e7M5kUrP94FxRxDcMPIReepr1Jvfsd6ugk8EEQrdWieKKzzCKXxcKl/fXXUITIT/qrRJmgjn/vfZ6qPT31hRfW3U/HOHoPf1VlizdSEh5lZdCxPXkUb42XQBrk7/ygUcc41zbursAdDffnmShFKP20CGctqjEND7G7/1yuiotejN33FWyE8QTNy72X2enoNgVolfuLdLpp2+7mlp87KJxokfEhkrRwMuQRHxTQoZopnhh7rY+tTltOsjv1rRI5rr203ks7+IJvs8JyRU0uml0RM0uiCEvZyrYcsZUxwboP5W7FgpgE8pxq/gSb2JF7lEWcyNhfGmELNvkdrd72G1mTCZi4UF9kP1lizaQD2RBWCd8DH/WpJNWSh5s2j1Uc7e5J8zmTx2JDNbCmBobnxgqA7qUMNEZzHvaPPtc0qG9m6kJWHUKJ4mDe8o97Extrto4b1lRuY5bs4zntM6J8ZPN4/jGHpfp13oNpk9vwXHJOhaVS6VArxFhIA6hdIi14DE16hoHu8xt1ezZvZfOvLxlkD2sH4rY2nRBwiJ4ftsyNMPSBN01byOgYfcH2XDuhyHKQjkKj2SPLlU/b41sBFat5BVn3FZuARTUbKqJOT09YRVcwHowDwbVTAt/3QdfZvT5Q3HcUPKrOJO8uGaYP5sYoXHBupCRAUFA5Yy7knssvgygfT3ELAQ3alzTWxGk8GbV0NlH9dRCupFAYFuMdKDzIW+6z6qS+f9GIFwCj82GPh8a8OS+kVEVcInlKl9RK6NU6HsqJaU0Ffz5WXo/lbWJPjgPr5B2g4j2cW7XbnF/N4JSYNhMbaQXJr996Aek3sqhjlF2skNxOUpoMPOBeHtxOF7fXUEAYHJKcYXL81PYmKWLNo+KzyOZ+DmwOGDRkixY2j3UpaZ1NIJ8qCS5TLaz6xFXSVGXjG1RBXrqccGqb/FoSZWEmX8CdwavBnGp+gsQGLmbl7NT0MVMautd6Ub5RmipaMg/bPcttzmmM8jmSq06ojkxrd5yb7ngqnpCqZf91awYLdJXfrit4dw1pl9Z5FhCF7c2uUeApG97D24mKMrv6PVGPbQIJ9jFlpG456JuaO420JRHH9OSdKAy6HB6bnL211F1PMisvUONvBcrzd5zuWQAz3TYANa++p9vubyZ426hAqnquVT5WIZ7xU2LfkZY7ozSOaBBPjdIJQTXH2R/08FMN7yBEe5Q3hq2VWksgO2ilklHghtggzCLCgQwzALNgmQ82Rw+pbmIUxNPqGiZDfsAyQSl0PeOWdo+SzLV++7meZP3WoxnK0jSDdBKjy0+0hnP+Rwe541u9395F08HC7M3IYydfaDAK6KzOlRErfR5FoZC8xnyMNfxqsq4ll8ReeaAsCUuuVryvkZAT33he64pU2A0X4Q3+VEkM5IphUM2DmmNzL/tT85G31WJYN1C44N1C44LmiFhPZUix7rBactur1is5v9Gql6jRlBK05J/dpUH6D27caOfMApjEU6IrQMqIlQVMQ9muNuo+2zcHjdnxcmSfGQsVY/YuIqIl/TP3D7AURM1+ZfW3U8NKwcd9a5nsLOP5yZBuONRsLKBu+5OTA0sof3yvYEKiivzjYoh5ELSXuxtUP2EWMlpArDJ34KGfEx+NZOb05diDdIrxy0+AASPqj0ZnyD9rLjrYcoREUTbcsdkOPMxJafDwBj6TH617eXmtRCq2+D+RmW8f6yi5BM8aWv1EQSKU9eC9rX2b06+2eFlDry3WXAD9YevpOBB37gNLUsXRYcUOa/2l2OqIZBveQIkG6kKSUvzm16o29wggmh+UwRMa3f5Gm3dxrz7HW+oOWD9EeUjCRxazCGHpf1o5yupCi1bMTFFbW+KE22jgu1uoEaAS0J4aTyOrRnHYX9lMcG6hT3oBWHjG9hZvBIzDsXATLAFCqEpulLX50TVa12rQEgleZ1kzxMT7EMm0VKCoJCRkzBbC7a0yS+tiLjrfaCMdFopf3Kk8Bd/xom8CeSki/P0tfbiMqHnmdqO1XBlmrBoXqh6DYCigxUMcfXv4QAYkc4s8TuIOXuK+TpcYS2Bia6VK6pTxiYbBrWpy26vZuhB2NpEdpOkKQu/6f2TEWSUUhMcbAP5QQ7x/c6LUA8DYh/4cftpjZN7hPKo4ICxNylX0502GeAVDx2KgNR3fSGdilwNwCYfqPZiBbS5n1qoPF1SFrvxQ7CRBh2xpqau6d5r0n5g2rCD+1rPa0/GVBO3hkNMXFCaFwYleypoyw5ZChhvg+hjdo2Jk589TkipjhKGAACmW830QJdQr2pjbN5kNvM4HUAAAP7YbiOoDfYDsfKd1ajinbqliMe9f1KvbBmbzsiB6s7qg6snnc4f3YCg058zUafjc5MNtmeXC2ItXJsRD7P/Erktm3TwpUhrKHa4Fv/cAaDj0Hr/K7vlJAPj1wVuMMMzoqgVYsRW+UVtpW0D8ZXvkSaRYzZr/BryMk8ESMZsbsApZCHZn/7Tb85CQtLWYP5c0CzGIhfNwFE0yBG44ZCYtky85E4NhkU95PQ0795lKvW5BW06brMszhcpegFvvHGjcPe7xMdyqiafnj1n8poMgnqo/LZzHE0sZDrR/0R6tuOj6VHUtyi77oyxHPAbJjUg6iy4nSw4hXeX9eEnVU1m/ITcCTbztJlhl0vwhsEjtUcSP1JLJ83I/F+FF44ygij9qdiApx63aeUt4mq8R4lEsSFRRwCooH6kBSC3NWLIfs+1FFv3SjSEcaOg6oWt4I7SQ+aELv0B+dP4y27+d4X9BPd3GHEDbzNvU/c/fqrx+u22AF+sH6GOYKlq/HGNotkr31CksJr+pkrMr5S9R7+UTKaAeF/J0jTwIS124nlkHGybVkOfQzZQBBbiuF/PjU1QYwtFR9w0+ewUqiyfmAbDxiarA3Foo2u+hAZywGsJQBkyh7uwcrMXXpESn8ep8mamxpRCohsZf4EUZp1raWsA7sOAN5UuDoCs6xxLNrlgSRznDGu05uPCTTrmK6ERBEK5w6I8HvB4STXt3K3xlUWRuZP6Y22P2IYxXdNOP3WTSXI9C0S/6XcSxVeXDT3tisYdD4f1tfUgZ9J9wxe7bXReeMncaH/Gf5bV8Vsi+LpWT3kp4OTwrgP+TGLTY5EpA1Q3O5Awub7tPmrJdBav+E7nqaqh6ct7cCEsEcgLUedrJb9W0ph10AXtGmmczz9O6c3Gq6jXofIn4hc+ilq9//0KzK1Dwt3Zw8fpLOGq7rW16LsPbSKK9wDeb3+lKjYEmoIm6noIiCabE8uUUuGStWb9ys6NSmMdWNVd2ddKrm2uyk/FzBiXltrfRr4R8Nv92oXjK5ACMesYrOxNvU2pDv8u4L3q6bqa/IV4UlokmDkzrnI1lvwiEVWH+VLXMqyK8ZNKOeo8RH7AR1Cpx4TicSx3mcJot7gp7qvjnwosWWYy6JGqhwqLHAP9F3jRv2e6YecZalv1vy77qr3geKcRzHGU79naYtZO8D4nu0CHgtiBwIr96fxFS721F7p1ihd1LuX4vJbGTv4tGo1wfo7PSiOuuT16SCvQV/ke3gGcEpvXQo+aINaDk4L8SiefFCnaLbtLjor2a6ir+4eEWK6hzfNIRWc/zLW9naiHbe9JEukgl9AIlRdtaWMz6IqB0X2fGm2yS8r1mdiU418pg60eIU7KYHQg2pPHqg7UqP+rklPnOvqxEJggFIv85FIh3CctZ0LPNY4hu1r2JuwQcIumeaJmfnylxg3jRkkBZJ/q1pwvGvtN6BofV+CzlMikCH5NoVTnoKRLfLDxNnWNBTvOl/pR8dN9TGuTRT43KABSg6J+t4Q33WErMLlUP9pnNyiq5utiH4T/DX9nRmnwjcpqWCP8c2nG26Q3NBZnfP4JKrJwHpPpFAr+KCo3r/auo04BMsQrR1SHR6t5seHdlNHOgnq3tLhxiiTuDUEksuUFq1VnbvXLgTyrBjoQ3tUSy9k0QmiBZ4tvseARN+Xcpwq4yrrkum4Geipna1M5DXwSdudql7Bn/7CqxER/dkAlEFI2f3TsxuMzbwmJtfPYQURCyFH0U3OGypp4SO9cy0yZgKlDdZSXVDZjv8lZdnQlAuegV10RSYlAFbtG+NURLpvnFQbOnNLfFzMNEMlFeZoOZ0H57hru0y7eIdFqNwLDkmpy7WLL3uPUrRc7b1HwFaKgDv/A1ebr9q4zvnNw0Hu+nJhcfQMDFXfzpPDwwMXYF/FObflFTMAkGnrKQAtThEqFQjQuKvkVtDe5InkHJdPywsyvCvqhMbgcQs3aEI70Vsty3ijvKQe3de4186BSDnpgEELBu3SM/jFmXYus8f12VP+fiEZ+zXT5789tmfX8YEuelAeJTdrWVgfd0Wo4o6E+KX5s5VG4XKr3n68K8adtc2XWYD8uQ1e+FKqQm8nwsA8cdRUflzagVP5c11mjn9ehE26A14XLtedC5tdaGAv07CHtcm8eW6LdVahqgEZfRj8JQtTOOuE5diZzZJC8gqH18SMEQhRbocM8WcxVXbY9nGIi7qkg9MlIDhIjttMsqilngJwoglmKiOpYVoiUsF3lHPzQWEAJXYAzqiXEi+X21na7lC4vqy8XXkf//pcu/UwHXeIGrJbeWzjUb67qhVqu9o4MKIQVwtxbwmL3wEDHkVHbojijcsJSKWny6ZP2XrqHosCZgDfJl40a1/Dl44peMseVhLwQ0dNei+V+aOBhiPx+m6GpXWt4/4lPoe8SVecvYye49gl3OESNXIPbriG9fOM3c/9uac9V6i0ce5zyclFpHvpz0n0BRPwLcsm7/k1b59uE2IsZg+o/92DhNHOL+B+762dDYEyD9hJbF36ZRuo/5x9ox7SNx30WkCfG5mGYaZH/+ACKslBQjimf11eA9JfQXN5Y6Z4K2kqlauWaEzD56yRvfUirzzetjHZJp0Y82+O3A53Byt5VayVcRPgsEbqnA58tWhDNZ6mSFC4Q2SyNqlyasIZgnaKPAB08vM8euJwoW8f22De4XWJgkciAVxdfIdY3JdkEx6qWRymf6zkWmeNGSM2kzCqbFSOr8OuPPtnWjJKpJtOGDJRFgFzXwi+JikFWPy3x0PfEXCA13kufahc8eVn71AdmUb3bv6xRwyBsXc9aDhBC6VzSdA4ceWmhIe8BHzB8iavZLso2+tHHZrLI69MFQC2mCYUFkRXzbHSA/PMTLfoQhVuw47I1EDr0VNJD9iziLt9D4CBlUtxBimJj1kzIDPF4qiW7GRdFS5TRRDlJjyQBYWdMybkuT2FQPkVOvPEH9qGTC7GfdVfVIE0a1mF6sP3Sn3mOwU+60gEN2FMMGL3aQ7JxppXwyCwov8sVLhRb8ffs14YOs7s2mINhFYsP+a+GWKKjU2/+7RQlX7dMubXVkswydEpYat3LZD9X60alZzjgLqHmqYiS2eNE+8Ce4LnDm+1PLyf4WpztLmtd5MqKuGxy+q2Ajh8S0ApWPa3VbED/qsPV7tEWGz8IxUjr95tYcM2nG09mqMbiDOHzNOpm/8kpptJ+LDd0DwAL6BpGx8TGQCuqTG9ot2lokbHK8yslIslEWH05Rp9jz2A5LGHnbZvcxa6+0Vkp1SToSO3Vu8TzGcDy/8abHH2k9T9qE7lznHGZraKkMclPFdSAPWf9Vdgu7cMuo2l65LwfQR7aFY8BqQ6Xw+QM3HoAImxPxd6S6rNf4ViQpAEGdnS+2KeZ8gTZw43SiT2fgNZpoT1VZmR06iTIoU5PGm3NViSfUy0shGWF3yyBKU48Oe8dznNWKfOvDGeA74jtNxUP6mfcBpL3gy+AdWSgVFKAa4lGVCcTfjfz8/lH1ctrH+DwcbaqPKg4BL6Ni3B3baml0A27Yb7/lUEUhCSqel7+1HqQ2ojNMMq3tjPBl8Utd5CmYZbY6f7zLcLHUGWo8rkHiE8JcKn+b9hn7Gn0XjRBefIi9Y5lBzBsuOqho47k22qcvpnDRDMDQABISCBTJgpWIbZzc1T304Nm1o0SoStTPKsxr2Xwc2QcLXwhOHRXpvI9Kk4oXgMAG4mBY9nXK2n0403D7cVTZCKFN3+z46H1rdVin5H7ekq8zVH3n6ctTSq6kqy3YLArmO4pxPNt0eyO9uZ5Z3vgR0EZOp5bqe2/7/vlikZ5Wpka4s8bJ06He+/HabpvklJh+t5S1G/QUQTAB3kS870G6T/Ny131oWY4t/yPiDh0tUja+VGro2gLLTAGuDam09I+sjVHIt41hR6+Vkha0DGwdROMa6Fq2gqCkQoTvvye1BlmzF5k0E5N6irOVwheOqUWD0GMRKCrp2B79+Wvp+0HVctHESQA7KFa4ygV3dBLDo+dlB+ACZbwBl15T3t0QoSHW0uaHj+G+G9X/KIpiuEY36AOrEH/leSVTosw6q9IhePP6wg237iznk0/3iV7nQs/hTWq28ZnWDGVmEapG0jJBTqZHFnMc1UV9BgIS13qyNdHs6K04setHTp7Nq+HWJod18SGx53eZ9RtT8YWRNpOSbI5cd2gnysA+IR1Z2JE7ViL0sJ/OyzKu/gG4rC+bQIHBH98RdXNlF7BYFXJiJiGnU9xzNHMO/sEh1k895/p98PKtT2c0bRzEst3TXUmKB00htxN5uOBGehGoolSgu8eOyne7wWwK0T8RIMhRwpEyWnCEKfCSfnNqf6Oz1LTkEVzHh99fZalWDsiDHbmWHbtsllweJmgQn5Loc6ZvFxC2HB63QszZ6IJzbXbUACbzj8D/6hyBTzzf4yKiA2wPsWFfMLiTX8WKgQsNwc+5i+5m2YYwnog+eF+Czd2OUQJ+9lE6nXRVEXi8vTmma0jJnY9l+hY3oxMcb9jp6L9oyi0UriJLU0XZKGT9D3ycToO5DoC7UQ7O1nJH1HCRigHG3S8EqkFe4v6jOBkA3B0GTBSLXnU7O8UCLXElnhaHTtzft8ELkR9gj/u70UwxnGtYPPOxV1CHDShaDB4EdoM5moWz5yFVhzI+zc1z7E53DIWKx6ibJOS6uEMjDm8DhyxMCQu9QcHJzd0N3JBrtTLH35fuJ/4T79VAkyn4Zaf1o2RUlzP+OI2NL0BLuekanQV1hdUNL0hyJTIrGo2H0YwDWfsN2nfpd9HqG8n7eOwEh7m5eXrYoAzF34xePTqhQFTF3Puorbf/4Ze6Px6BTgq0zM7YAzlSyyOHDX7T6/giUcmMcRorPzjwW5TXE39WojJ5gVa8/0Q5oZduVUNJBIS0oKhqNd7tr68Sz841YQxFz3vWVLwZGSpIzQScOFVeBeMSub1ijaWWnCjVsckRS/AQVtTWFlDiCahDH+iyrAUb+h2hQw1/jj8VpRx0mLLzTUCsrVOm8dFGcrEkDHqSsBwsMmDhzhMMXDxazjoVfPQBY05Cs6YWpB2R8CSUjWSOkWFcVM6R5wzmDQ8UkBsrpF+1cCXjacNMnQHWzdDSQAn9LPRBaeNlcKmMvphtWmPMeXGK24Zw3Pxkn4ag0tDndlAOK3oX5tqxCB3jiO95UVLzRWB+2GlmyYeN8Omq0TPRhazp1ZuAjydovoKDwqa+H3MQ8fGN7wxmqePzA3BzOfpmcuq8SX66Gd0XDf0OLv3qr2OH/xaqUJbXsvTpR3TXMBJGtX9rTWv2OCkorSgh8ua53etuV5Uuf4PZ/1eV/qDNYgbzz7/YkeG7h/7jlP4v6Xo1i9gC4+VXgF4Aq3qVai4BnCK95mjzV2L3T5I/hiFAeYBFzAy8I3SrWyTXRQi4z2Ugn+TPiYzklgpdoAPPR+bI1nXp1yZoZS301fiLsvV8+VLf8fxeFHNRmSkDNe0SKEaU37bCY09ts7rQ08bqb+3gy2o6bRNQq9M55QGM1ev8OluQvUpc5qSLlcjLkKhbGeKqQB7P2HCPPHpYxG72QG1aIfZS8TwrArDXSYbgizITqFm1xizOFmAOJqc2DHLGqTAiL86cZCvZ8g0nM19MWtF6BfpzXj3m9olwuNOmd/a3M6tpXCJxtKrFv5mbt2CFP9vrDDlTYmuDk43mMkCZFhoxQU16MsKNIqdvGF93qP5hmAvR5PXhxy+Bw0AGDRUWxhFQfr31fR5Tj1SKIR+0S2HP1+tDf8r46/zH6tpDQulJdLaTIHP5e7/L5970JENgomp3qcfp7MGBHXi4f503OqHx+Wj+XaWOiQDD/PcZuYYeAIpyVX6Rh0IpuTMHKNVqJ+2u6ieO7bfgMRD67Kdm/lHMb66OkiAeRqKIz0N7/pKh9R5tVfQHa9Twz3a9yNm5OPvcjw90jQ9G5L9QJDE9eTFZ4wY1RMWrhm9jFzFbKI7mAMiwrqAmJeNXSyM2h55tKC9SZkOw+LGEd0yxCCj7Bnt1PYHHnGFL0s1mk4z9MDQ78xmdpYk+VM5UWMtSKA2ms5NRAduYUVEvdaTI2FI93h0LaWnzRrdCfrNuxy+QlMxKs7CnWQXrTqb+KfUNZ0E4bondnyykPZT7OElbNHGtkh3zNPXUcsi8QsMDLF6PBRUVkhykZGLq+/qFidJGLRTh4XPGiuWq06iK0ECAX0EscQhAGlIAxBRAqEUUeDz/GSvN5QJ0aVimI+q5R8YKbwNM7/845rNsZwZLlKu59pZBtUduWy1sMVJCMFSAXygPHTYIrl0hAqYxu1s0UGinhcNY5mIPu+P0VyAWaqFYceNBZ39Ny17AU7mFyrRdbJfTnmzQqePrj8+GesPUkiEov0lp4+gmOT6KxSTnKRhT+rZ4nBUa+RHCaeZGP4Lg2RbzF0taOaysq7sRTIlNsO3A+PkuhVQvpwnqsSxEIw1CtZ/cGjp3lS3LIEoIwElpg4pPWBcupfucA3ofuVC03n7xQMJpSi9V3CiiwtKTiiLkB20uKRFapHkrQOXHaCnJtEjM4ks8wey5UetAOCY5YKQ83IMIKQ2HgcwtupqpcNrCjsit6nS/Q/ru+u2RSJkvBFupIQswDwjD37sUWmDvJl8iXUevq9N0dO8DpYCWUU5EgDafImYmLyHhqs41lmBfgKztNCv99AzMIBP7tr5daTHfk5Ec1ISr40EBBjoYc26U7GSv/MThpdifYx0raIdrvP2D9GPRcOaWx0NSZj+7Ju0rnnyZezS5rz8Tjd2sY58eE2+lCBABGbEbY2J89UTO1bjAewTJL5+k1Ridg1ni4stWZu4t1acLHGnTE5vrazBrKc+hFEYHfzO7x40UKf4yfi3KUdL/4SpOEuUfuWkbJ+toqQdPtmmTqtHwCxkto5MGHZxKbIJqS/+2Sx+teyTty5q/ZiqMa+x6CS+knEezid9CC+S1soa0XR6DDiQQbvplzSqgCrw1TCGmWR+AyrN32rdm7LYK8XGK2136b0sLeEWlIMsr8qyBuo2J6xwJe3fSicRLFyLxDPc4nx2GBz7DXXDPiLmTVX4MTXIZYTwDlXEIXKYvup40Sth4xO4pLyYc1PlY3vRIpNG9ueyABPaU4yoyVu0oBJi/HCnpvHJiN78fIOPMlVwGBifB/zpZ9O+OZUe+PILIKbafNVyfJIL8zUUpJn9jOx4oCtn/tljhQH6XKFo0cmkzq8BUUYJtGNEEE5vsYKeqZN2+0HDzmVSljRvvOvWNW5Q12LHzR9qlh/cMMHLHjeSFA4kxjEqGbxHFLSeWG1ARX/qqtsp1tjbEtlGmkTGauedlia3HDGP+vBZxaiFpdS4SBAP0R/ksg6/aPeNUUsNNoKgXjVAJmYSV3l4SGXlquBk0vX7OlVeMNbxFB6SlQ+qA5KQw3Ovq16xSMPvqetWtVvtc5LUXsSasp9sWnqp2nQjAoJcV8kE0yXXa6XKZzXgH9+mFORLKWvfO1nrnuh4NibxWBp6U4fr+CFxvaF2vNijbAYe28mwAyCEuJgS0IThZDcDqnzDEdiA+8nfLtUZ98Z2BfXahGYs9dGFIpGPclnqE9t/5P3NClEM6khboqK9oqY7JwDDdSB+sFNcG5OazYa2F9uQJL81PC8673f/XuyUNy+ZaY4of/lmTtgauS2SI7SWFgHMmAtjINu5VAX1sA28iZngGd+jJGdB6YNJPQPRFKgCsylth1+EDn54fOHr65GiNBwfH6KA7aGrk8+xrJSKC5Dcw5UVv4+8PByGpodnx1yGLZxeM/3my+j/xMx5/oQF6icob5ddSmC7JQXm9QbD28kIkar/QBaXYPuBeA1W9QssvHeiVrMWF9FcsEk2znqsaZfm6vsHGUx9bV6BcD0XqOAxbv5q83HDWHOODkd+dNhkktP2Uc1+tiB1yTZ/Z3rXXK3zWIafHUeT4Pz/K9gAZmnug4SH9bb+BgbOSFYmvJcEtcysxvPEvUOasLgAf/iJLJhFdIGYD63irf9WG4ugcKQV1f3lA/fA44/IkA1MfTTDPcVzsFnVJD26vT53UQeZRo/uWGCqQABWqeCvYvS+PBB1txQrXqlaFGJ646GOafjHj1P00ilxsgFCDsj7vaiMrJ8BERWr6ORcAA+esQmq1cwByUdieTB8oVKNEEK/HMgW8qjr9CJQoOwenfvZUnkp3gY/BPskxqCKxhnKToQI/6yPqEFSoEbZqr2GdhIHs4yQquK6QddiNIyylx5nJOXsYLMYwOQsQJV0W8cmBxWHJ1j9xVJq88VGFzUi7w0+GtCgVAsSftpIJ00TWG73DUgAjNBlPBlTOJMMMfL8+dWhEZwgJUNOStYinhB1bx97P/NLJ7I39LF7s+AI7e2fdpZa088l8FmCS9PKdS5hG2DUTDGqF2TXpgA+Xr3Spa1p+RN6mQosN0qW8kVdlGoNEDjiBv+DYGbqE5WyVhlMIxtWZ4Iq5bfKqWimFzCsnIq3Wxiigqw00eM+mjqPLYCrVnrLGQcUqjUt2d6ON1BnAJwyYIupsAP+n7UFahORSyemoTO6hk5d7JUY35Xdl4eDSfZ79U/gfJpT1dPxkVWqr4SSFGh57y3cEIjq0INo5PQAbdO78KjtuMPbGvfaZEqnbXRdhNajaYVuDBATI0m//kz53X7Hjzerrec2+78VWZGAJL2kBA22T+5j34O/CdhKJYmXE3k7686hoiUES7PmBBsqdGIAot+KrPzLrbgU6bT2XOPPlxaTDvaOxRv8oP/unN+EFyeJqIUvkFEnBbZ2aFYnZ1km5Wl1K8Tpxlnc6Bj3kgOYLHphbXHBuwvtwrXS6PAAiEIwuOkUyjXOtXTFApD1uJojw1RMObSdMNnsPobqBVYOflMRD/XpXvYjAuYEFcVJJzpKuD/IInNECZN4EIcdrIvYb/AG3JTjXIl6JGwDRh9WqMpawzI/ZbQyg6vBaAzRFDEiwx04powLDTfvh20iXy2f0uoMiAI2yKecMxyhSx3aJjBb2nkyhRC6r+1/qBLtjyTiUnkWE3D0W/I2FKvLJw0EEISb3Ugp4X0Ricjz1U1C5xGINN+qGlumlu68SJTxjiBr7IObHx1JibkNt4c6gYbt2NeInBNA+x73+0sfjp2wmmQqcqcSKMxgkokc0aKbX593qJjn1yB2yCfca+H5809QsrdvWjUzZUDQLPCVY7m0yVYde/DEg8fv5KTnvmgjwPYJ1hsomXs+3j+cc0v0t+46EzucNiz3qYgofeRDjoggTDM4I1/c+Fo2jk04CSS1fSvuM0CZ+fImr0P2zJI2S+v56srqTIkaHEAXig8drp6AbmUbVayWqtlPJUHaaXb+RhnuRf0v/fvrO3biqRFaTwSUXo2nXGZks+xywfkKZQdff90bOdTK8LQIvd2FX3qmjX22UUaaUVwW3I2w086byMbfmZ79ABx5uLqLra8xqO2jgdEu8c6f7V7KjzE2YKkz/fNAo9ZdebJ5s4OIeTUx1byuz2GvXIvbuIYyT+XwRKhix/gjK9LDkDJE1WTeldJvsPvWY0ko2xKNFWHZcOpU35E5MPC8n0BV2hV/9P5dyHSTwKX+DuEBJWXk/WZFDunUsty8wpZg633PtS0P70kyw7G5DtYNWo0/2CDxx7MJ4XrP+f2EHIjpiX0S1ev85dvb87CEpX4wgDZuhln6AwH96KaqI4FmzJlw5JPYCMUUyb2Bk44rfyFJm0BWk/84fTlJ8jgn8AKGRoX9uZpEwdthtH46w4t2fS6glWSmR19ayFDkaJRvD3oduPzbt77ENpgfg2Z2oQKYlrCNFm3lpfx52nT3X/arLweSbu+MCGDYIg8A/864Kiw0IX3gBQU7cUV+czFWWcB8cJvl4kTsayL4Btvyfpeq16yEFBMdfS5t7pCo9sdcaJShilGiSlgguWIr2edV77xEaP+weu17sfrkfi2yDeC9oT98DDOfvE1rXH1sL0VE0UzSki4C5xaEqCZR2dkF/1+Dhc/Aw/JWqoSie7frTNcpDZB7lLxrr1MqtJojOwJnTmVlv8SYrD+wAWgVxeLBlxUVhYdbFrwj09XDJzBhSoOLi3Y8nlnuwt+XvvCN2GLk4bPYhS8A0jhXdMPt8hdI/l8ad0iwt7rl+vjlhrTwyYMQ0TNGQUYFzdlEp/pXYBs4Bcy1oUdtKGasAMB5TozQ5B9LOGktDT0N6RMeEd2EXDPLnC3i4AddSA9kfhICtsIXqAhw7En7lfzsJMmHYoUiagJ3MieL6UuwLrLG3CA3HSm1ys1GPlHtJl5GyiyZUxdso0sBU4nD0NZPHaUdHawj732KfOsy7LMpE9QKiif21VnG7I3ls70BNgd7dqrSmjC3Ox1088jc8cjzFeZl2bClbFXWYEgfWdqc6wiLzX2aj+g6HQGMVpIKPoLtK/rJQosXjkaA/4Oepv/0ehn6EpmVkbr8fEuH50NAdgLyULmHJwO7Cd6eyInDqDd3FEXNGpSOycH+lELuwprgDWaCQ8FJWrMn+XL/FN4hcohTA8ZwDb5NpmuPozUzm7YiqbIXzozqh2nkYaE6uMmG5/PyIPXySJBEvX+kNGMfbKs/fT0AixYzHbFVTVouEFcEaOd0WfaDGCAAQ1qBpNuhHWHRTuKpCPzJ29dDxsfnkW1tOZHXtkrhpTu+2lQSkUE48oQDTk9Mq4x+Cczz+Pu/63dmHMowdccCR07jMApvsefreMsi7zL2U6UWX2gSPLOASVdKkOGtv/I8mfdq0EWkzo9GsQi1s8m+OsCjLDT6oEFqlRKx/p4INWEy1+WJFnDgomtXCVgWOTGlCjAPFNDkYp4bMblpm4RnPAM7Iar46kpoiIVv0AUklYBHWcjwNl9QLFHsM7m1CKiFyq28RGs2oYpYFzn8wdiiLuHnOz/PMcfG17bwADhfFmQUHMk+AhwWgN3Wzms9gtt3MpJcTZFZy2Xi2eKfSs9PAFz0rhpTVwt0meN2k0UEG9BMdmoo2pMKPnZjiRjODlCtMg6InjxZnSSCAonJY+Wed44zy16uMQhkdS7ApBDD0GLeEzDfP4P+9UNnkHt8w9a7ksNbAbwyFtW1Ktfb3gvCofYm3DMKSBM9fAVeEmnqHkw2nbljujmObGaS/l8klNvY8VQeprMkGzqKdhcrFJ6qklj+z6uI3QLJjBujEYbAA90vfaUApmRA3y6Uxx05lTDv6SqgXoP0nd7Rp2328sUBqR2kFINhMtkMR8VyWpqz57W1TS6LbbeZmmApcUfxwv8LaZ/V3vkTzn4ZYBjOlK5hByDGCgVijR5dlSqMMK3Mla50tuxKq8AVtB3tb9z9ICCcdlySGARPuJNvajKPfzSWlzRBXK/7Dr9YOSs+Z756V14mtGJmjyKqlDW6rtnu5uzkL72gD12b096Bucr0OYOp7wCAXJ7z65o9xfVqsFzg5mvUPQYWIFVYx3Wv+oXpRfbjUjjqS99PyXjX88oSdLGQCQBteqUMXANvkQluq24hs0NZHmxVtGKshJ+44j0pioRAxR68GLLU9sjRo9yjuxyJs04L47kGTtyLwfQzh0U696qYhY9ar0vIPq+W/eSsBMj6DR6yyzqCckZoEmlkug4CI89LayUqEiZHus64PuaEwo/DaN+F/KKC+V8eLvoYfH7BCpWCGGI39sqHXjPmbVUR+FmYf3fw6upf/uI89jfRm0fP7kP4yKSJpy4XFqVKAdv7EaJrvJy6MPg06BzYqQ2yx4AFV9TJ0HPfe5k/XRdtRa81g9qAJBjhLEb3GWbVWsKju/xHFc0X1IayxwZBAjfdO7eiqTajBIp/I9WwPpuYMVjF9deUjQdBHb7K3T30spe2z0VhHGvjluBlSI7reugAOdE5Ev2+QTYXwW6FBN4VGjJzkP1/uETO6VzmBL+CTsWkgU2nDN+LJaKG3W1N3d3e0tkcZQwh06AHrCoq/YgFIexPHtvCOqB+N6QunoK2/seyZKUOiZamc8HM+qHt4FXPDUruKcYhMgY9ll5WSgrgKOIQMIdK4JJT3+YkBf8T2PFZlaEc/PNfWzQCJudN+3OFXP6P02TnAFOWp/mSeu+xFhkKzu7Hd7VirhWI7nNvWFoBGlSEV6Ke6GTCEKnYguUvvCckU8xgF1TIWumWuaZyIDFAxf5cnntgNs0SgLX71Efn4DvTg4J/TX2lMA88BREDc3ruTD5rTWM/kP3CsMjg7ArF/z8B3G1d4UuEo5T/BtLA5iM1gALEzQiVPwO0vG2bX6Bod/pTY/f8thk1obijFU+Md5VGFb/rpyX/X6NMtR/e1kprboptSBQObOnVAEvj5O2aBwlJst3N2pkFxY9ugZ61CF9LP9e1mKfO+PGTsNndre/+TPX2ak+Dl2rPqdwIaVBkwQi2Ici1ocox1dimooIaxspPtHgQ4ZXpGWoo1krejMq6r5VfTJmPqHUwq6EnWSrXtOHVOnD9tivqxtIWfFcRYyn9huwIqcMoW3lJ7tT9R9Lb+eYARldxDCt3G7F25UiIJWW6FOIcKtZ+/f5C/9jR17zLPv/hIj2lHRgWOF7Gz/qYr/EToyvLgF7MIScVxon7TsSprHCTxewy73BofUgOO+yK1ifQmVAzbp3LHOo1d46agdJViBwbT1bjzc+/c15/QVQk+T+t/IFiLpeSpJVumkP/23H+OZJJW7bA9RWc9o1aN/o0oMnQGeuQB7K5EgjhbvnfXrbOuAyiC9qrOOOjpAc1pzVX83E1xUvfLkexn/rIZfG6UtPnC5VTkdWZ6GXQmyK1E6l10WqPSJ1hdd7SG9PUUtRkW6jdezHcemMMF2DcSJYgbWz8CNvAuzCUvwh8F+BBdRwTc1rYY9n9k1AUQi7zugLx3TXKVxeG8Y9A+SmWi/qcj18D/a5RXdz6t1MDxzYv86sgWmU6n0LsxnbojWoOcLK6POqOZ035yJtae/bB5E83X+ptL80WhX3gpZuskLolT575vr8Rz6D7t+HNG9dV6bM1b7cZOG0dEHVBTKgLRcdzvsS08EtTO9JzYnjSK178ViQhWL72mfnzuK0hCezH40hUDjRiLWf7+F/9YtR2QX7S3O7GcpkTU3GeHBHgadna2OClu0aYgxb/5WaQA+0dcdLS1yz03g6duC8VP9u23Mp9/cKXP91vu4I6/vjFteA8jNPZnxTVbvT/RsaCS9fmjLU6q7tngFxqQnMuq9uHoO/V/Qth1J6kEGH5EmIwaoPJv1/J2abSLRmjEXRdrtrYr9WFyHbFXhT3WFCW0XO49TJo2XgKfzVUIAVAdW1JnZT1tZF7/8Z7SfBCGcZhn98a7aph2iGJz+PbejxRqKLkMKHm/qyFI/LO/1NimTNXWV5FDun65nVZN4NiOZx20rkGhSGzRVEGU/jdeV5AlrYpPuUnYwpP11m3hfYKz9GQlM5QZQWHMDg9o9eRSrBjlB5WHOCf2DXQmd4mihOoEPZH5L9rTs92gBrB7xKeTsZ90+60wV/bD50j7tQC3L0/TjcGnbvrP/Nkq/gR7Y4ZZCLczZ51I8zDJ9OP7neGVbUNalPzzYFxp59OAgUiQ1645FO4BAx4PtG/CHw19NowNuQq+tzVv29CJH5O+bldKaPblc4Ybzzjx9fG+Uiy97JAINL1ij3Xu6RnSU4PnWVeN3pUxKxnFtpW8/HOvm52DbUMvg4fPuWLZ+mxRFApdRDh0FxswB0Zky+VPtbAYjyZx0D1PK+Tm+QaThflNf6Cn+k7qzOF1oZ8vLDdHkO+AnYkEwSzKqa5u2qEc0DBRB117pS5q+Mb/rA/h4VBA82ERBH6qVVnClTjrVGXo/cfAW6/UJosgCa9N35Td1xI0ekTqNpc/sBKDAdWI5tkUIHUXZ9wvm5CecZaBWzLDjt4LKJlyvNrgBROpKzX4cfX72IEGehHNCBK/7bmUsHKWWs/JHaieGbpz4g/ECo25vafnSkw/7wYpH/4b4r5BJspKbQI516gaxGBEmxIQplNp1fDDOiP5KIHQB7bHpmRet8AAA==)"
   ]
  },
  {
   "cell_type": "code",
   "execution_count": 6,
   "metadata": {},
   "outputs": [
    {
     "data": {
      "text/plain": [
       "(4, 30, 23)"
      ]
     },
     "execution_count": 6,
     "metadata": {},
     "output_type": "execute_result"
    }
   ],
   "source": [
    "def g(piles: list, H: int) -> int:\n",
    "    # x:变量速度  f(x):吃piles所需时间 单调递减函数\n",
    "    def f(x: int) -> int:\n",
    "        h = 0\n",
    "        for p in piles:\n",
    "            if x >= p:\n",
    "                h += 1\n",
    "            elif x < p:\n",
    "                h += p // x + min(1, p % x)\n",
    "        return h\n",
    "\n",
    "    l, r = 1, max(piles)  # [1,max(piles)]\n",
    "    while l <= r:\n",
    "        m = l + (r - l) // 2\n",
    "        if H > f(m):\n",
    "            r = m - 1\n",
    "        elif H < f(m):\n",
    "            l = m + 1\n",
    "        elif H == f(m):\n",
    "            r = m - 1\n",
    "    return l\n",
    "\n",
    "\n",
    "g([3, 6, 7, 11], 8), g([30, 11, 23, 4, 20], 5), g([30, 11, 23, 4, 20], 6)\n"
   ]
  },
  {
   "cell_type": "code",
   "execution_count": 13,
   "metadata": {},
   "outputs": [
    {
     "data": {
      "text/plain": [
       "inf"
      ]
     },
     "execution_count": 13,
     "metadata": {},
     "output_type": "execute_result"
    }
   ],
   "source": [
    "float('inf')/2"
   ]
  },
  {
   "cell_type": "code",
   "execution_count": null,
   "metadata": {},
   "outputs": [],
   "source": []
  }
 ],
 "metadata": {
  "interpreter": {
   "hash": "004de6046f1b3d314f33fdb43a2dc798b2646e5600efd8df5066c8b63a00ff6d"
  },
  "kernelspec": {
   "display_name": "Python 3.8.10 64-bit",
   "language": "python",
   "name": "python3"
  },
  "language_info": {
   "codemirror_mode": {
    "name": "ipython",
    "version": 3
   },
   "file_extension": ".py",
   "mimetype": "text/x-python",
   "name": "python",
   "nbconvert_exporter": "python",
   "pygments_lexer": "ipython3",
   "version": "3.8.10"
  },
  "orig_nbformat": 4
 },
 "nbformat": 4,
 "nbformat_minor": 2
}
