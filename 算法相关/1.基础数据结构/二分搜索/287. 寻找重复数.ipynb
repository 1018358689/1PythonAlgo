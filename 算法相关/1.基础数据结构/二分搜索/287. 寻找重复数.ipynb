{
 "cells": [
  {
   "cell_type": "code",
   "execution_count": 1,
   "metadata": {},
   "outputs": [
    {
     "data": {
      "text/plain": [
       "2"
      ]
     },
     "execution_count": 1,
     "metadata": {},
     "output_type": "execute_result"
    }
   ],
   "source": [
    "def f(nums: list):\n",
    "    ha = set()\n",
    "    for n in nums:\n",
    "        if n in ha:\n",
    "            return n\n",
    "        ha.add(n)\n",
    "\n",
    "\n",
    "f([1, 3, 4, 2, 2])\n"
   ]
  },
  {
   "cell_type": "code",
   "execution_count": 2,
   "metadata": {},
   "outputs": [
    {
     "data": {
      "text/plain": [
       "2"
      ]
     },
     "execution_count": 2,
     "metadata": {},
     "output_type": "execute_result"
    }
   ],
   "source": [
    "def f(nums: list):\n",
    "    while nums[nums[0]] != nums[0]:\n",
    "        nums[nums[0]], nums[0] = nums[0], nums[nums[0]]\n",
    "    return nums[0]\n",
    "\n",
    "\n",
    "f([1, 3, 4, 2, 2])\n"
   ]
  },
  {
   "cell_type": "markdown",
   "metadata": {},
   "source": [
    "**二分法实际上是一种逆序思维。**\n",
    "正向思维下，我们要用某种方法去处理这个数组（例如另一种快慢指针解法），然后计算出一个返回值。而二分法则相反，我们先要挑选一个假定的返回值，通过一个子函数去判断真正返回值的位置，然后逐渐缩小这个区间。\n",
    "例如这题中，我们对于某个特定的数字i，可以通过下面的函数判断真正返回值的位置，进而夹逼出真正的返回值。"
   ]
  },
  {
   "cell_type": "code",
   "execution_count": null,
   "metadata": {},
   "outputs": [],
   "source": [
    "def f(nums: list):\n",
    "    # [1,3,4,2,3]\n",
    "    # 1:1 2:2 3:4 4:5\n",
    "    def num2cnt(num):  # 数字-小于等于num个数 单调增函数 需要和num比较\n",
    "        cnt = 0\n",
    "        for n in nums:\n",
    "            if n <= num:\n",
    "                cnt += 1\n",
    "        return cnt\n",
    "\n",
    "    l, r = 1, len(nums) - 1  # 可能范围\n",
    "    while l <= r:\n",
    "        m = (l + r) >> 1\n",
    "        if num2cnt(m) <= m:\n",
    "            l = m + 1\n",
    "        else:\n",
    "            r = m - 1\n",
    "    return l\n"
   ]
  }
 ],
 "metadata": {
  "interpreter": {
   "hash": "aee8b7b246df8f9039afb4144a1f6fd8d2ca17a180786b69acc140d282b71a49"
  },
  "kernelspec": {
   "display_name": "Python 3.10.1 64-bit",
   "language": "python",
   "name": "python3"
  },
  "language_info": {
   "codemirror_mode": {
    "name": "ipython",
    "version": 3
   },
   "file_extension": ".py",
   "mimetype": "text/x-python",
   "name": "python",
   "nbconvert_exporter": "python",
   "pygments_lexer": "ipython3",
   "version": "3.10.1"
  },
  "orig_nbformat": 4
 },
 "nbformat": 4,
 "nbformat_minor": 2
}
