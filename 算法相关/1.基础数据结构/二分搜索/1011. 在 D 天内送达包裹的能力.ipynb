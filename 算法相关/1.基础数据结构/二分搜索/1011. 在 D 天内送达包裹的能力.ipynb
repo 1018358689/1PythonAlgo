{
 "cells": [
  {
   "cell_type": "markdown",
   "metadata": {},
   "source": [
    "传送带上的包裹必须在 days 天内从一个港口运送到另一个港口。\n",
    "\n",
    "传送带上的第 i 个包裹的重量为 weights[i]。每一天，我们都会按给出重量（weights）的顺序往传送带上装载包裹。我们装载的重量不会超过船的最大运载重量。\n",
    "\n",
    "返回能在 days 天内将传送带上的所有包裹送达的船的最低运载能力。\n",
    "\n",
    "示例 1：\n",
    "输入：weights = [1,2,3,4,5,6,7,8,9,10], days = 5\n",
    "输出：15\n",
    "解释：\n",
    "船舶最低载重 15 就能够在 5 天内送达所有包裹，如下所示：\n",
    "第 1 天：1, 2, 3, 4, 5\n",
    "第 2 天：6, 7\n",
    "第 3 天：8\n",
    "第 4 天：9\n",
    "第 5 天：10\n",
    "\n",
    "请注意，货物必须按照给定的顺序装运，因此使用载重能力为 14 的船舶并将包装分成 (2, 3, 4, 5), (1, 6, 7), (8), (9), (10) 是不允许的。 \n",
    "\n",
    "示例 2：\n",
    "输入：weights = [3,2,2,4,1,4], days = 3\n",
    "输出：6\n",
    "解释：\n",
    "船舶最低载重 6 就能够在 3 天内送达所有包裹，如下所示：\n",
    "第 1 天：3, 2\n",
    "第 2 天：2, 4\n",
    "第 3 天：1, 4\n",
    "\n",
    "示例 3：\n",
    "输入：weights = [1,2,3,1,1], D = 4\n",
    "输出：3\n",
    "解释：\n",
    "第 1 天：1\n",
    "第 2 天：2\n",
    "第 3 天：3\n",
    "第 4 天：1, 1"
   ]
  },
  {
   "cell_type": "code",
   "execution_count": 19,
   "metadata": {},
   "outputs": [
    {
     "data": {
      "text/plain": [
       "(6, 3, 15)"
      ]
     },
     "execution_count": 19,
     "metadata": {},
     "output_type": "execute_result"
    }
   ],
   "source": [
    "'''示例 1：\n",
    "输入：weights = [1,2,3,4,5,6,7,8,9,10], days = 5\n",
    "输出：15\n",
    "解释：\n",
    "船舶最低载重 15 就能够在 5 天内送达所有包裹，如下所示：\n",
    "第 1 天：1, 2, 3, 4, 5\n",
    "第 2 天：6, 7\n",
    "第 3 天：8\n",
    "第 4 天：9\n",
    "第 5 天：10'''\n",
    "\n",
    "\n",
    "# x:运载量 f(x):需要几天\n",
    "def g(weights: list, D: int) -> int:\n",
    "    def f(x):\n",
    "        w = weights[:]\n",
    "        w.append(float('inf'))\n",
    "        cnt = 0\n",
    "        slow = fast = 0\n",
    "        while fast <= len(w) - 1:\n",
    "            if sum(w[slow:fast + 1]) > x:\n",
    "                slow = fast\n",
    "                cnt += 1\n",
    "            fast += 1\n",
    "        return cnt\n",
    "\n",
    "    l, r = max(weights), sum(weights)\n",
    "    while l <= r:\n",
    "        m = l + (r - l) // 2\n",
    "        if D > f(m):\n",
    "            r = m - 1\n",
    "        elif D < f(m):\n",
    "            l = m + 1\n",
    "        elif D == f(m):\n",
    "            r = m - 1\n",
    "    return l\n",
    "\n",
    "\n",
    "g([3, 2, 2, 4, 1, 4], 3), g([1, 2, 3, 1, 1], 4), g([1, 2, 3, 4, 5, 6, 7, 8, 9, 10], 5)\n"
   ]
  },
  {
   "cell_type": "code",
   "execution_count": 21,
   "metadata": {},
   "outputs": [
    {
     "data": {
      "text/plain": [
       "(6, 3, 15)"
      ]
     },
     "execution_count": 21,
     "metadata": {},
     "output_type": "execute_result"
    }
   ],
   "source": [
    "'''示例 1：\n",
    "输入：weights = [1,2,3,4,5,6,7,8,9,10], days = 5\n",
    "输出：15\n",
    "解释：\n",
    "船舶最低载重 15 就能够在 5 天内送达所有包裹，如下所示：\n",
    "第 1 天：1, 2, 3, 4, 5\n",
    "第 2 天：6, 7\n",
    "第 3 天：8\n",
    "第 4 天：9\n",
    "第 5 天：10'''\n",
    "\n",
    "\n",
    "# x:运载量 f(x):需要几天\n",
    "def g(weights: list, D: int) -> int:\n",
    "    def f(x):\n",
    "        w = weights[:]\n",
    "        w.append(float('inf'))\n",
    "        cnt = 0\n",
    "        s = 0\n",
    "        fast = 0\n",
    "        while fast <= len(w) - 1:\n",
    "            s += w[fast]\n",
    "            if s > x:\n",
    "                s = w[fast]\n",
    "                cnt += 1\n",
    "            fast += 1\n",
    "        return cnt\n",
    "\n",
    "    l, r = max(weights), sum(weights)\n",
    "    while l <= r:\n",
    "        m = l + (r - l) // 2\n",
    "        if D > f(m):\n",
    "            r = m - 1\n",
    "        elif D < f(m):\n",
    "            l = m + 1\n",
    "        elif D == f(m):\n",
    "            r = m - 1\n",
    "    return l\n",
    "\n",
    "\n",
    "g([3, 2, 2, 4, 1, 4], 3), g([1, 2, 3, 1, 1], 4), g([1, 2, 3, 4, 5, 6, 7, 8, 9, 10], 5)\n"
   ]
  },
  {
   "cell_type": "code",
   "execution_count": null,
   "metadata": {},
   "outputs": [],
   "source": []
  }
 ],
 "metadata": {
  "interpreter": {
   "hash": "004de6046f1b3d314f33fdb43a2dc798b2646e5600efd8df5066c8b63a00ff6d"
  },
  "kernelspec": {
   "display_name": "Python 3.8.10 64-bit",
   "language": "python",
   "name": "python3"
  },
  "language_info": {
   "codemirror_mode": {
    "name": "ipython",
    "version": 3
   },
   "file_extension": ".py",
   "mimetype": "text/x-python",
   "name": "python",
   "nbconvert_exporter": "python",
   "pygments_lexer": "ipython3",
   "version": "3.8.10"
  },
  "orig_nbformat": 4
 },
 "nbformat": 4,
 "nbformat_minor": 2
}
