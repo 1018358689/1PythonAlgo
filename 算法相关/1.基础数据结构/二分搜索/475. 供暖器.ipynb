{
 "cells": [
  {
   "cell_type": "code",
   "execution_count": 4,
   "metadata": {},
   "outputs": [
    {
     "data": {
      "text/plain": [
       "(1, 1, 3)"
      ]
     },
     "execution_count": 4,
     "metadata": {},
     "output_type": "execute_result"
    }
   ],
   "source": [
    "# 10**9还是会超时 因为radius2cnt缘故 需要优化\n",
    "def f(houses: list, heaters: list):\n",
    "    sz = len(houses)\n",
    "    sh = set(houses)\n",
    "\n",
    "    def radius2cnt(ra):  # 半径-覆盖个数 递增函数\n",
    "        scope = set()\n",
    "        for h in heaters:\n",
    "            scope |= set(range(h - ra, h + ra + 1))\n",
    "        return len(sh & scope)\n",
    "\n",
    "    l, r = 0, max(houses) - min(houses)\n",
    "    while l <= r:\n",
    "        m = (l + r) >> 1\n",
    "        if radius2cnt(m) >= sz:\n",
    "            r = m - 1\n",
    "        else:\n",
    "            l = m + 1\n",
    "    return l\n",
    "\n",
    "\n",
    "f([1, 2, 3], [2]), f([1, 3, 2, 4], [1, 4]), f([5, 1], [2]),\n",
    "# f([1,10**9],[1])"
   ]
  },
  {
   "cell_type": "code",
   "execution_count": 26,
   "metadata": {},
   "outputs": [
    {
     "data": {
      "text/plain": [
       "9"
      ]
     },
     "execution_count": 26,
     "metadata": {},
     "output_type": "execute_result"
    }
   ],
   "source": [
    "from bisect import bisect_left, bisect_right\n",
    "\n",
    "\n",
    "def f(houses: list, heaters: list):\n",
    "    houses.sort()\n",
    "    heaters.sort()\n",
    "\n",
    "    def radius2bool(ra):\n",
    "        maxRight = -1  # 最右边能达到房子的索引 初始0索引前面\n",
    "        for h in heaters:\n",
    "            left = bisect_left(houses, h - ra)  # >=h-ra\n",
    "            if left - maxRight > 1:  # 新最左边能和原来最右边距离大于1则覆盖不完\n",
    "                return False\n",
    "            right = bisect_right(houses, h + ra) - 1  # >h+ra再-1即<=h+ra\n",
    "            if right >= len(houses) - 1:\n",
    "                return True\n",
    "            maxRight = right\n",
    "        return False\n",
    "\n",
    "    l, r = 0, max(houses[-1], heaters[-1])  # 10**9-1\n",
    "    while l <= r:\n",
    "        m = (l + r) >> 1\n",
    "        if radius2bool(m):\n",
    "            r = m - 1\n",
    "        else:\n",
    "            l = m + 1\n",
    "    return l\n",
    "\n",
    "\n",
    "# f([1, 2, 3], [2]), f([1, 3, 2, 4], [1, 4]), f([5, 1], [2]),\n",
    "f([1, 10**9], [1])\n",
    "f([1,5],[10])"
   ]
  },
  {
   "cell_type": "code",
   "execution_count": 9,
   "metadata": {},
   "outputs": [
    {
     "data": {
      "text/plain": [
       "2"
      ]
     },
     "execution_count": 9,
     "metadata": {},
     "output_type": "execute_result"
    }
   ],
   "source": [
    "from bisect import bisect_left,bisect_right\n",
    "\n",
    "bisect_right([1,2,3],2)"
   ]
  },
  {
   "cell_type": "code",
   "execution_count": 29,
   "metadata": {},
   "outputs": [
    {
     "data": {
      "text/plain": [
       "(1, 1, 3)"
      ]
     },
     "execution_count": 29,
     "metadata": {},
     "output_type": "execute_result"
    }
   ],
   "source": [
    "from bisect import bisect_left, bisect_right\n",
    "\n",
    "\n",
    "def f(houses: list, heaters: list):\n",
    "    houses.sort()\n",
    "    heaters.sort()\n",
    "\n",
    "    def searchLeft(nums, target):  # >=target\n",
    "        l, r = 0, len(nums) - 1\n",
    "        while l <= r:\n",
    "            m = (l + r) >> 1\n",
    "            if nums[m] >= target:\n",
    "                r = m - 1\n",
    "            else:\n",
    "                l = m + 1\n",
    "        return l\n",
    "\n",
    "    def searchRight(nums, target):  # <=target\n",
    "        l, r = 0, len(nums) - 1\n",
    "        while l <= r:\n",
    "            m = (l + r) >> 1\n",
    "            if nums[m] <= target:\n",
    "                l = m + 1\n",
    "            else:\n",
    "                r = m - 1\n",
    "        return r\n",
    "\n",
    "    def radius2bool(ra): # 半径-能否实现\n",
    "        maxRight = -1  # 最右边能达到房子的索引 初始0索引前面\n",
    "        for h in heaters:\n",
    "            left = searchLeft(houses, h - ra)  # >=h-ra\n",
    "            if left - maxRight > 1:  # 新最左边能和原来最右边距离大于1则覆盖不完\n",
    "                return False\n",
    "            right = searchRight(houses, h + ra)  # <=h+ra\n",
    "            if right >= len(houses) - 1:\n",
    "                return True\n",
    "            maxRight = right\n",
    "        return False\n",
    "\n",
    "    l, r = 0, max(houses[-1], heaters[-1])  # 10**9-1\n",
    "    while l <= r:\n",
    "        m = (l + r) >> 1\n",
    "        if radius2bool(m):\n",
    "            r = m - 1\n",
    "        else:\n",
    "            l = m + 1\n",
    "    return l\n",
    "\n",
    "\n",
    "f([1, 2, 3], [2]), f([1, 3, 2, 4], [1, 4]), f([5, 1], [2]),\n",
    "# f([1, 10**9], [1])\n",
    "# f([1, 5], [10])\n"
   ]
  },
  {
   "cell_type": "code",
   "execution_count": null,
   "metadata": {},
   "outputs": [],
   "source": []
  }
 ],
 "metadata": {
  "interpreter": {
   "hash": "aee8b7b246df8f9039afb4144a1f6fd8d2ca17a180786b69acc140d282b71a49"
  },
  "kernelspec": {
   "display_name": "Python 3.10.1 64-bit",
   "language": "python",
   "name": "python3"
  },
  "language_info": {
   "codemirror_mode": {
    "name": "ipython",
    "version": 3
   },
   "file_extension": ".py",
   "mimetype": "text/x-python",
   "name": "python",
   "nbconvert_exporter": "python",
   "pygments_lexer": "ipython3",
   "version": "3.10.1"
  },
  "orig_nbformat": 4
 },
 "nbformat": 4,
 "nbformat_minor": 2
}
