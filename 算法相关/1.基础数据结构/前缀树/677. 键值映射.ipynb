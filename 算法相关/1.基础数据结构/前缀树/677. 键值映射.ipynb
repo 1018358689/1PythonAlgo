{
 "cells": [
  {
   "cell_type": "code",
   "execution_count": 3,
   "metadata": {},
   "outputs": [
    {
     "name": "stdout",
     "output_type": "stream",
     "text": [
      "3\n",
      "5\n"
     ]
    },
    {
     "data": {
      "text/plain": [
       "1"
      ]
     },
     "execution_count": 3,
     "metadata": {},
     "output_type": "execute_result"
    }
   ],
   "source": [
    "class TrieNode:\n",
    "\n",
    "    def __init__(self):\n",
    "        self.isWord = False\n",
    "        self.perRank = 0 # 存储路径每个字母所属作为前缀的和\n",
    "        self.rank = 0 # 存储key的值\n",
    "        self.children = {}\n",
    "\n",
    "\n",
    "class MapSum:\n",
    "\n",
    "    def __init__(self):\n",
    "        self.root = TrieNode()\n",
    "\n",
    "    def search(self, word): # 返回word是否添加过 和 之前的val值\n",
    "        cur = self.root\n",
    "        for w in word:\n",
    "            if w not in cur.children:\n",
    "                return False, 0\n",
    "            cur = cur.children[w]\n",
    "        return cur.isWord, cur.rank\n",
    "\n",
    "    def insert(self, key: str, val: int) -> None:\n",
    "        tmpVal = val\n",
    "        if (x := self.search(key))[0]: # 如果添加过 则路径上前缀和要变化\n",
    "            val = tmpVal - x[1]\n",
    "        cur = self.root\n",
    "        for w in key:\n",
    "            if w not in cur.children:\n",
    "                cur.children[w] = TrieNode()\n",
    "            cur = cur.children[w]\n",
    "            cur.perRank += val\n",
    "        cur.isWord = True\n",
    "        cur.rank = tmpVal # 记录插入key的val 和 标记isWord\n",
    "\n",
    "    def sum(self, prefix: str) -> int:\n",
    "        cur = self.root\n",
    "        for w in prefix:\n",
    "            if w not in cur.children:\n",
    "                return 0\n",
    "            cur = cur.children[w]\n",
    "        return cur.perRank\n",
    "\n",
    "\n",
    "# Your MapSum object will be instantiated and called as such:\n",
    "obj = MapSum()\n",
    "obj.insert('apple', 3)\n",
    "print(obj.sum('ap'))\n",
    "obj.insert('app', 2)\n",
    "print(obj.sum('ap'))\n",
    "obj.insert('apple', 5)\n",
    "obj.insert('apple', 1)\n",
    "obj.sum('apple')"
   ]
  },
  {
   "cell_type": "code",
   "execution_count": null,
   "metadata": {},
   "outputs": [],
   "source": []
  }
 ],
 "metadata": {
  "interpreter": {
   "hash": "aee8b7b246df8f9039afb4144a1f6fd8d2ca17a180786b69acc140d282b71a49"
  },
  "kernelspec": {
   "display_name": "Python 3.10.1 64-bit",
   "language": "python",
   "name": "python3"
  },
  "language_info": {
   "codemirror_mode": {
    "name": "ipython",
    "version": 3
   },
   "file_extension": ".py",
   "mimetype": "text/x-python",
   "name": "python",
   "nbconvert_exporter": "python",
   "pygments_lexer": "ipython3",
   "version": "3.10.1"
  },
  "orig_nbformat": 4
 },
 "nbformat": 4,
 "nbformat_minor": 2
}
