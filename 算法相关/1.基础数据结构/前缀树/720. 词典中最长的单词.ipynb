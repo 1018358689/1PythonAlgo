{
 "cells": [
  {
   "cell_type": "code",
   "execution_count": 8,
   "metadata": {},
   "outputs": [
    {
     "data": {
      "text/plain": [
       "'world'"
      ]
     },
     "execution_count": 8,
     "metadata": {},
     "output_type": "execute_result"
    }
   ],
   "source": [
    "class TrieNode:\n",
    "\n",
    "    def __init__(self):\n",
    "        self.children = {}\n",
    "        self.isWord = False\n",
    "        # self.value = ''\n",
    "\n",
    "\n",
    "def f(words: list):\n",
    "    root = TrieNode()\n",
    "    for word in words:\n",
    "        cur = root\n",
    "        for w in word:\n",
    "            if w not in cur.children:\n",
    "                cur.children[w] = TrieNode()\n",
    "            cur = cur.children[w]\n",
    "        cur.isWord = True\n",
    "        # cur.value = word\n",
    "    words.sort(key=lambda x: (-len(x), x))\n",
    "    for word in words:\n",
    "        cur = root\n",
    "        for w in word:\n",
    "            if w not in cur.children or not cur.children[w].isWord:\n",
    "                break\n",
    "            cur = cur.children[w]\n",
    "        else:\n",
    "            if cur.isWord:\n",
    "                return word\n",
    "    return ''\n",
    "\n",
    "\n",
    "f([\"w\", \"wo\", \"wor\", \"worl\", \"world\"])\n",
    "# f([\"a\", \"banana\", \"app\", \"appl\", \"ap\", \"apply\", \"apple\"])\n"
   ]
  },
  {
   "cell_type": "code",
   "execution_count": null,
   "metadata": {},
   "outputs": [],
   "source": []
  }
 ],
 "metadata": {
  "interpreter": {
   "hash": "a5f34674cfcc9b13426a2d112c686bc132e4ef443f1487e707e7c3787d6bcf89"
  },
  "kernelspec": {
   "display_name": "Python 3.10.3 64-bit (windows store)",
   "language": "python",
   "name": "python3"
  },
  "language_info": {
   "codemirror_mode": {
    "name": "ipython",
    "version": 3
   },
   "file_extension": ".py",
   "mimetype": "text/x-python",
   "name": "python",
   "nbconvert_exporter": "python",
   "pygments_lexer": "ipython3",
   "version": "3.10.3"
  },
  "orig_nbformat": 4
 },
 "nbformat": 4,
 "nbformat_minor": 2
}
