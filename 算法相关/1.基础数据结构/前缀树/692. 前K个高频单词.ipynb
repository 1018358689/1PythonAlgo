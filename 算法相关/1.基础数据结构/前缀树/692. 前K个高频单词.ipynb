{
 "cells": [
  {
   "cell_type": "code",
   "execution_count": 13,
   "metadata": {},
   "outputs": [
    {
     "data": {
      "text/plain": [
       "['the', 'is', 'sunny', 'day']"
      ]
     },
     "execution_count": 13,
     "metadata": {},
     "output_type": "execute_result"
    }
   ],
   "source": [
    "import heapq\n",
    "import collections\n",
    "\n",
    "\n",
    "def f(words: list, k: int):\n",
    "    words.sort()\n",
    "    cnt = collections.Counter(words)\n",
    "    return heapq.nlargest(k, cnt, key=lambda x: cnt[x])\n",
    "\n",
    "\n",
    "# f([\"love\", \"i\", \"leetcode\", \"i\", \"love\", \"coding\"], 2)\n",
    "f([\"the\", \"day\", \"is\", \"sunny\", \"the\", \"the\", \"the\", \"sunny\", \"is\", \"is\"], 4)\n"
   ]
  },
  {
   "cell_type": "code",
   "execution_count": 14,
   "metadata": {},
   "outputs": [
    {
     "data": {
      "text/plain": [
       "['the', 'is', 'sunny', 'day']"
      ]
     },
     "execution_count": 14,
     "metadata": {},
     "output_type": "execute_result"
    }
   ],
   "source": [
    "import heapq\n",
    "import collections\n",
    "\n",
    "\n",
    "def f(words: list, k: int):\n",
    "    cnt = collections.Counter(words)\n",
    "    return heapq.nsmallest(k, cnt, key=lambda x: (-cnt[x], x))\n",
    "\n",
    "\n",
    "# f([\"love\", \"i\", \"leetcode\", \"i\", \"love\", \"coding\"], 2)\n",
    "f([\"the\", \"day\", \"is\", \"sunny\", \"the\", \"the\", \"the\", \"sunny\", \"is\", \"is\"], 4)\n"
   ]
  },
  {
   "cell_type": "code",
   "execution_count": null,
   "metadata": {},
   "outputs": [],
   "source": []
  }
 ],
 "metadata": {
  "interpreter": {
   "hash": "a5f34674cfcc9b13426a2d112c686bc132e4ef443f1487e707e7c3787d6bcf89"
  },
  "kernelspec": {
   "display_name": "Python 3.10.3 64-bit (windows store)",
   "language": "python",
   "name": "python3"
  },
  "language_info": {
   "codemirror_mode": {
    "name": "ipython",
    "version": 3
   },
   "file_extension": ".py",
   "mimetype": "text/x-python",
   "name": "python",
   "nbconvert_exporter": "python",
   "pygments_lexer": "ipython3",
   "version": "3.10.3"
  },
  "orig_nbformat": 4
 },
 "nbformat": 4,
 "nbformat_minor": 2
}
