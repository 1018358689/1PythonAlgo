{
 "cells": [
  {
   "cell_type": "code",
   "execution_count": 65,
   "metadata": {},
   "outputs": [
    {
     "name": "stdout",
     "output_type": "stream",
     "text": [
      "True\n"
     ]
    }
   ],
   "source": [
    "# 13768 ms\n",
    "import collections\n",
    "\n",
    "\n",
    "class TrieNode:\n",
    "\n",
    "    def __init__(self):\n",
    "        self.isWord = False\n",
    "        self.children = {}\n",
    "\n",
    "\n",
    "class WordDictionary:\n",
    "\n",
    "    def __init__(self):\n",
    "        self.root = TrieNode()\n",
    "\n",
    "    def addWord(self, word: str) -> None:\n",
    "        cur = self.root\n",
    "        for w in word:\n",
    "            if w not in cur.children:\n",
    "                cur.children[w] = TrieNode()\n",
    "            cur = cur.children[w]\n",
    "        cur.isWord = True\n",
    "\n",
    "    def search(self, word: str) -> bool:\n",
    "        cur = self.root\n",
    "        q = collections.deque([(cur, -1)])  # 当前指针和需要匹配位置\n",
    "        while q:\n",
    "            cur, pos = q.popleft()\n",
    "            for neiWord in cur.children:\n",
    "                nei = cur.children[neiWord] # 指针往下游走\n",
    "                neiPos = pos + 1 # 下一个匹配位置\n",
    "                if neiPos < len(word):\n",
    "                    target = word[neiPos]\n",
    "                    if target == '.' or neiWord == target: # 只要字典树下一个位置和word目标相同或 word目标为'.'才入队\n",
    "                        q.append((nei, neiPos))\n",
    "                        if neiPos == len(word) - 1 and nei.isWord: # 到最后一个位置 且标记isword 成功找到\n",
    "                            return True\n",
    "        return False\n",
    "\n",
    "\n",
    "# Your WordDictionary object will be instantiated and called as such:\n",
    "obj = WordDictionary()\n",
    "obj.addWord('bad')\n",
    "obj.addWord('dad')\n",
    "obj.addWord('mad')\n",
    "# print(obj.search('pad'))\n",
    "print(obj.search('...'))\n"
   ]
  },
  {
   "cell_type": "code",
   "execution_count": 66,
   "metadata": {},
   "outputs": [
    {
     "name": "stdout",
     "output_type": "stream",
     "text": [
      "False\n"
     ]
    }
   ],
   "source": [
    "# 11380 ms\n",
    "import collections\n",
    "\n",
    "\n",
    "class TrieNode:\n",
    "\n",
    "    def __init__(self):\n",
    "        self.isWord = False\n",
    "        self.children = {}\n",
    "\n",
    "\n",
    "class WordDictionary:\n",
    "\n",
    "    def __init__(self):\n",
    "        self.root = TrieNode()\n",
    "\n",
    "    def addWord(self, word: str) -> None:\n",
    "        cur = self.root\n",
    "        for w in word:\n",
    "            if w not in cur.children:\n",
    "                cur.children[w] = TrieNode()\n",
    "            cur = cur.children[w]\n",
    "        cur.isWord = True\n",
    "\n",
    "    def search(self, word: str) -> bool:\n",
    "        cur = self.root\n",
    "        q = collections.deque([(cur, 0)])  # 当前字母和需要位置\n",
    "        while q:\n",
    "            cur, pos = q.popleft()\n",
    "            if pos == len(word):  # 全匹配完毕\n",
    "                if cur.isWord:\n",
    "                    return True\n",
    "            if pos < len(word):\n",
    "                if (w := word[pos]) == '.':\n",
    "                    for neiWord in cur.children:\n",
    "                        q.append((cur.children[neiWord], pos + 1))\n",
    "                elif w in cur.children:\n",
    "                    q.append((cur.children[w], pos + 1))\n",
    "        return False\n",
    "\n",
    "\n",
    "# Your WordDictionary object will be instantiated and called as such:\n",
    "obj = WordDictionary()\n",
    "obj.addWord('bad')\n",
    "obj.addWord('dad')\n",
    "obj.addWord('ass')\n",
    "# print(obj.search('pad'))\n",
    "print(obj.search('a...'))\n"
   ]
  },
  {
   "cell_type": "code",
   "execution_count": 75,
   "metadata": {},
   "outputs": [
    {
     "name": "stdout",
     "output_type": "stream",
     "text": [
      "True\n"
     ]
    }
   ],
   "source": [
    "# 7604 ms\n",
    "# 回溯\n",
    "class TrieNode:\n",
    "\n",
    "    def __init__(self):\n",
    "        self.isWord = False\n",
    "        self.children = {}\n",
    "\n",
    "\n",
    "class WordDictionary:\n",
    "\n",
    "    def __init__(self):\n",
    "        self.root = TrieNode()\n",
    "\n",
    "    def addWord(self, word: str) -> None:\n",
    "        cur = self.root\n",
    "        for w in word:\n",
    "            if w not in cur.children:\n",
    "                cur.children[w] = TrieNode()\n",
    "            cur = cur.children[w]\n",
    "        cur.isWord = True\n",
    "\n",
    "    def search(self, word: str) -> bool:\n",
    "\n",
    "        def dfs(p, i):  # 前置指针位置 and 当前要匹配的字母\n",
    "            if i == len(word): # 匹配完毕\n",
    "                if p.isWord: # 查看指针是否isWord\n",
    "                    return True\n",
    "                return False\n",
    "            if word[i] == '.':\n",
    "                for c in p.children:\n",
    "                    if dfs(p.children[c], i + 1):\n",
    "                        return True\n",
    "            else:\n",
    "                if word[i] in p.children:\n",
    "                    if dfs(p.children[word[i]], i + 1):\n",
    "                        return True\n",
    "            return False\n",
    "\n",
    "        return dfs(self.root, 0)\n",
    "\n",
    "\n",
    "# Your WordDictionary object will be instantiated and called as such:\n",
    "obj = WordDictionary()\n",
    "obj.addWord('bad')\n",
    "obj.addWord('dad')\n",
    "obj.addWord('ass')\n",
    "# print(obj.search('pad'))\n",
    "print(obj.search('a.'))\n"
   ]
  },
  {
   "cell_type": "code",
   "execution_count": null,
   "metadata": {},
   "outputs": [],
   "source": []
  }
 ],
 "metadata": {
  "interpreter": {
   "hash": "aee8b7b246df8f9039afb4144a1f6fd8d2ca17a180786b69acc140d282b71a49"
  },
  "kernelspec": {
   "display_name": "Python 3.10.1 64-bit",
   "language": "python",
   "name": "python3"
  },
  "language_info": {
   "codemirror_mode": {
    "name": "ipython",
    "version": 3
   },
   "file_extension": ".py",
   "mimetype": "text/x-python",
   "name": "python",
   "nbconvert_exporter": "python",
   "pygments_lexer": "ipython3",
   "version": "3.10.1"
  },
  "orig_nbformat": 4
 },
 "nbformat": 4,
 "nbformat_minor": 2
}
