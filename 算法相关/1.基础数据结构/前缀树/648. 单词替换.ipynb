{
 "cells": [
  {
   "cell_type": "code",
   "execution_count": 12,
   "metadata": {},
   "outputs": [
    {
     "data": {
      "text/plain": [
       "'b'"
      ]
     },
     "execution_count": 12,
     "metadata": {},
     "output_type": "execute_result"
    }
   ],
   "source": [
    "class TrieNode:\n",
    "\n",
    "    def __init__(self):\n",
    "        self.isWord = False\n",
    "        self.children = {}\n",
    "        self.val = ''\n",
    "\n",
    "\n",
    "def f(dictionary: list, sentence: str) -> str:\n",
    "    root = TrieNode()\n",
    "    for word in dictionary:\n",
    "        cur = root\n",
    "        for w in word:\n",
    "            if w not in cur.children:\n",
    "                cur.children[w] = TrieNode()\n",
    "            cur = cur.children[w]\n",
    "        cur.isWord = True\n",
    "        cur.val = word\n",
    "    match = sentence.split()\n",
    "    ans = ''\n",
    "    for word in match:\n",
    "        cur = root\n",
    "        for w in word:\n",
    "            if w not in cur.children:  # 该字母在树该路径不存在\n",
    "                ans += word + ' '\n",
    "                break\n",
    "            cur = cur.children[w]\n",
    "            if cur.isWord:  # 是前缀\n",
    "                ans += cur.val + ' '\n",
    "                break\n",
    "        else:  # 遍历完没有触发有效前缀\n",
    "            ans += word + ' '\n",
    "    return ans[:-1]\n",
    "\n",
    "\n",
    "# f([\"cat\", \"bat\", \"rat\"], \"the cattle was rattled by the battery\")\n",
    "f([\"a\", \"b\", \"c\"], \"b aadsfasf b absbs bbab cadsfafs\")\n",
    "f([\"a\", \"bcd\", \"c\"], \"b\")\n"
   ]
  },
  {
   "cell_type": "code",
   "execution_count": 17,
   "metadata": {},
   "outputs": [
    {
     "data": {
      "text/plain": [
       "'b a b a b c'"
      ]
     },
     "execution_count": 17,
     "metadata": {},
     "output_type": "execute_result"
    }
   ],
   "source": [
    "class TrieNode:\n",
    "\n",
    "    def __init__(self):\n",
    "        self.isWord = False\n",
    "        self.children = {}\n",
    "        self.val = ''\n",
    "\n",
    "\n",
    "class Trie:\n",
    "\n",
    "    def __init__(self):\n",
    "        self.root = TrieNode()\n",
    "\n",
    "    def insert(self, word):\n",
    "        cur = self.root\n",
    "        for w in word:\n",
    "            if w not in cur.children:\n",
    "                cur.children[w] = TrieNode()\n",
    "            cur = cur.children[w]\n",
    "        cur.isWord = True\n",
    "        cur.val = word\n",
    "\n",
    "    def preSerach(self, word):\n",
    "        cur = self.root\n",
    "        for w in word:\n",
    "            if w not in cur.children:\n",
    "                return word\n",
    "            cur = cur.children[w]\n",
    "            if cur.isWord:\n",
    "                return cur.val\n",
    "        return word\n",
    "\n",
    "\n",
    "def f(dictionary: list, sentence: str) -> str:\n",
    "    trie = Trie()\n",
    "    for word in dictionary:\n",
    "        trie.insert(word)\n",
    "    ans = ''\n",
    "    for word in sentence.split():\n",
    "        ans += trie.preSerach(word) + ' '\n",
    "    return ans[:-1]\n",
    "\n",
    "\n",
    "f([\"cat\", \"bat\", \"rat\"], \"the cattle was rattled by the battery\")\n",
    "f([\"a\", \"b\", \"c\"], \"b aadsfasf b absbs bbab cadsfafs\")\n",
    "# f([\"a\", \"bcd\", \"c\"], \"b\")"
   ]
  },
  {
   "cell_type": "code",
   "execution_count": null,
   "metadata": {},
   "outputs": [],
   "source": []
  }
 ],
 "metadata": {
  "interpreter": {
   "hash": "aee8b7b246df8f9039afb4144a1f6fd8d2ca17a180786b69acc140d282b71a49"
  },
  "kernelspec": {
   "display_name": "Python 3.10.1 64-bit",
   "language": "python",
   "name": "python3"
  },
  "language_info": {
   "codemirror_mode": {
    "name": "ipython",
    "version": 3
   },
   "file_extension": ".py",
   "mimetype": "text/x-python",
   "name": "python",
   "nbconvert_exporter": "python",
   "pygments_lexer": "ipython3",
   "version": "3.10.1"
  },
  "orig_nbformat": 4
 },
 "nbformat": 4,
 "nbformat_minor": 2
}
