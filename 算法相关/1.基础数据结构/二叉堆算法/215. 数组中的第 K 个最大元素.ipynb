{
 "cells": [
  {
   "cell_type": "markdown",
   "metadata": {},
   "source": [
    "给定整数数组nums和整数k，请返回数组中第k个最大的元素。\n",
    "\n",
    "请注意，你需要找的是数组排序后的第k个最大的元素，而不是第k个不同的元素。\n",
    "\n",
    "示例 1:\n",
    "\n",
    "输入：[3,2,1,5,6,4] 和 k = 2\n",
    "输出：5\n",
    "示例 2:\n",
    "\n",
    "输入：[3,2,3,1,2,4,5,5,6] 和 k = 4\n",
    "输出：4"
   ]
  },
  {
   "cell_type": "code",
   "execution_count": 11,
   "metadata": {},
   "outputs": [
    {
     "data": {
      "text/plain": [
       "5"
      ]
     },
     "execution_count": 11,
     "metadata": {},
     "output_type": "execute_result"
    }
   ],
   "source": [
    "from heapq import heapify, heappop\n",
    "\n",
    "\n",
    "def f(nums: list, k: int):\n",
    "    heap = list(map(lambda x: -x, nums))\n",
    "    heapify(heap)\n",
    "    res = 0\n",
    "    for _ in range(k):\n",
    "        res = heappop(heap)\n",
    "    return -res\n",
    "\n",
    "\n",
    "f([3, 2, 1, 5, 6, 4], 2)\n"
   ]
  },
  {
   "cell_type": "code",
   "execution_count": 12,
   "metadata": {},
   "outputs": [
    {
     "data": {
      "text/plain": [
       "5"
      ]
     },
     "execution_count": 12,
     "metadata": {},
     "output_type": "execute_result"
    }
   ],
   "source": [
    "def f(nums: list, k: int):\n",
    "    nums.sort()\n",
    "    return nums[-k]\n",
    "\n",
    "\n",
    "f([3, 2, 1, 5, 6, 4], 2)\n"
   ]
  },
  {
   "cell_type": "code",
   "execution_count": null,
   "metadata": {},
   "outputs": [],
   "source": []
  }
 ],
 "metadata": {
  "interpreter": {
   "hash": "004de6046f1b3d314f33fdb43a2dc798b2646e5600efd8df5066c8b63a00ff6d"
  },
  "kernelspec": {
   "display_name": "Python 3.8.10 64-bit",
   "language": "python",
   "name": "python3"
  },
  "language_info": {
   "codemirror_mode": {
    "name": "ipython",
    "version": 3
   },
   "file_extension": ".py",
   "mimetype": "text/x-python",
   "name": "python",
   "nbconvert_exporter": "python",
   "pygments_lexer": "ipython3",
   "version": "3.8.10"
  },
  "orig_nbformat": 4
 },
 "nbformat": 4,
 "nbformat_minor": 2
}
