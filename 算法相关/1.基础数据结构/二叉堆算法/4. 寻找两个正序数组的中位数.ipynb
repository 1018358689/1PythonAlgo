{
 "cells": [
  {
   "cell_type": "code",
   "execution_count": 3,
   "metadata": {},
   "outputs": [
    {
     "data": {
      "text/plain": [
       "(2, 2.5)"
      ]
     },
     "execution_count": 3,
     "metadata": {},
     "output_type": "execute_result"
    }
   ],
   "source": [
    "import heapq\n",
    "\n",
    "\n",
    "def f(nums1: list, nums2: list):\n",
    "    minHeap = []\n",
    "    maxHeap = []\n",
    "    for n in nums1 + nums2:\n",
    "        heapq.heappush(minHeap, n)\n",
    "        heapq.heappush(maxHeap, -heapq.heappop(minHeap))\n",
    "        if len(minHeap) < len(maxHeap):\n",
    "            heapq.heappush(minHeap, -heapq.heappop(maxHeap))\n",
    "    if len(minHeap) == len(maxHeap):\n",
    "        return (-maxHeap[0] + minHeap[0]) / 2\n",
    "    return minHeap[0]\n",
    "\n",
    "\n",
    "f([1, 3], [2]), f([1, 2], [3, 4])\n"
   ]
  },
  {
   "cell_type": "code",
   "execution_count": 4,
   "metadata": {},
   "outputs": [
    {
     "data": {
      "text/plain": [
       "(2, 2.5)"
      ]
     },
     "execution_count": 4,
     "metadata": {},
     "output_type": "execute_result"
    }
   ],
   "source": [
    "def f(nums1: list, nums2: list):\n",
    "    num = sorted(nums1 + nums2)\n",
    "    if (sz := len(num)) % 2:\n",
    "        return num[sz // 2]\n",
    "    return (num[sz // 2] + num[sz // 2 - 1]) / 2\n",
    "\n",
    "\n",
    "f([1, 3], [2]), f([1, 2], [3, 4])\n"
   ]
  },
  {
   "cell_type": "code",
   "execution_count": null,
   "metadata": {},
   "outputs": [],
   "source": []
  }
 ],
 "metadata": {
  "interpreter": {
   "hash": "aee8b7b246df8f9039afb4144a1f6fd8d2ca17a180786b69acc140d282b71a49"
  },
  "kernelspec": {
   "display_name": "Python 3.10.1 64-bit",
   "language": "python",
   "name": "python3"
  },
  "language_info": {
   "codemirror_mode": {
    "name": "ipython",
    "version": 3
   },
   "file_extension": ".py",
   "mimetype": "text/x-python",
   "name": "python",
   "nbconvert_exporter": "python",
   "pygments_lexer": "ipython3",
   "version": "3.10.1"
  },
  "orig_nbformat": 4
 },
 "nbformat": 4,
 "nbformat_minor": 2
}
