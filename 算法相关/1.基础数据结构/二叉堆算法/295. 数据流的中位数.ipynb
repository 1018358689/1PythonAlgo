{
 "cells": [
  {
   "cell_type": "markdown",
   "metadata": {},
   "source": [
    "中位数是有序列表中间的数。如果列表长度是偶数，中位数则是中间两个数的平均值。\n",
    "\n",
    "设计一个支持以下两种操作的数据结构：\n",
    "\n",
    "1、void addNum(int num)从数据流中添加一个整数到数据结构中。\n",
    "\n",
    "2、double findMedian()返回目前所有元素的中位数。\n",
    "\n",
    "示例：\n",
    "\n",
    "addNum(1)\n",
    "addNum(2)\n",
    "findMedian() -> 1.5\n",
    "addNum(3) \n",
    "findMedian() -> 2"
   ]
  },
  {
   "cell_type": "code",
   "execution_count": 3,
   "metadata": {},
   "outputs": [
    {
     "data": {
      "text/plain": [
       "2"
      ]
     },
     "execution_count": 3,
     "metadata": {},
     "output_type": "execute_result"
    }
   ],
   "source": [
    "# 力扣超时\n",
    "from heapq import heapify, heappop, heappush\n",
    "\n",
    "\n",
    "class MedianFinder:\n",
    "    def __init__(self):\n",
    "        self.nums = []\n",
    "\n",
    "    def addNum(self, num: int) -> None:\n",
    "        self.nums.append(num)\n",
    "\n",
    "    def findMedian(self) -> float:\n",
    "        tmp = self.nums[:]\n",
    "        heapify(tmp)\n",
    "        size = len(self.nums)\n",
    "        if size % 2 == 1:\n",
    "            res = 0\n",
    "            fg = (size + 1) // 2\n",
    "            for _ in range(fg):\n",
    "                res = heappop(tmp)\n",
    "            return res\n",
    "        else:\n",
    "            res1 = 0\n",
    "            fg = size // 2\n",
    "            for _ in range(fg):\n",
    "                res1 = heappop(tmp)\n",
    "            res2 = heappop(tmp)\n",
    "            return (res1 + res2) / 2\n",
    "\n",
    "\n",
    "m = MedianFinder()\n",
    "m.addNum(1)\n",
    "m.addNum(2)\n",
    "m.findMedian()\n",
    "m.addNum(3)\n",
    "m.findMedian()"
   ]
  },
  {
   "cell_type": "code",
   "execution_count": 6,
   "metadata": {},
   "outputs": [
    {
     "data": {
      "text/plain": [
       "(1, [2, 3, 4])"
      ]
     },
     "execution_count": 6,
     "metadata": {},
     "output_type": "execute_result"
    }
   ],
   "source": [
    "import heapq\n",
    "l = [1,3,2,4]\n",
    "heapq.heapify(l)\n",
    "heapq.heappop(l),l"
   ]
  },
  {
   "cell_type": "code",
   "execution_count": 1,
   "metadata": {},
   "outputs": [
    {
     "data": {
      "text/plain": [
       "2"
      ]
     },
     "execution_count": 1,
     "metadata": {},
     "output_type": "execute_result"
    }
   ],
   "source": [
    "from heapq import heapify, heappop, heappush\n",
    "\n",
    "\n",
    "class MedianFinder:\n",
    "    def __init__(self):\n",
    "        self.max_h = []\n",
    "        self.min_h = []\n",
    "        heapify(self.max_h)\n",
    "        heapify(self.min_h)\n",
    "\n",
    "    def addNum(self, num: int) -> None:\n",
    "        heappush(self.min_h, num) # 先放入小顶堆 再放入大顶堆 保证 小顶堆元素都比大顶堆大\n",
    "        heappush(self.max_h, -heappop(self.min_h))\n",
    "        if len(self.min_h) < len(self.max_h):  # 保证小顶堆最多比大顶堆多一个元素或相等\n",
    "            heappush(self.min_h, -heappop(self.max_h))\n",
    "\n",
    "    def findMedian(self) -> float:\n",
    "        if len(self.min_h) == len(self.max_h):\n",
    "            return (-self.max_h[0] + self.min_h[0]) / 2\n",
    "        else:\n",
    "            return self.min_h[0]\n",
    "\n",
    "\n",
    "m = MedianFinder()\n",
    "m.addNum(1)\n",
    "m.addNum(2)\n",
    "m.findMedian()\n",
    "m.addNum(3)\n",
    "m.findMedian()"
   ]
  },
  {
   "cell_type": "code",
   "execution_count": null,
   "metadata": {},
   "outputs": [],
   "source": []
  }
 ],
 "metadata": {
  "interpreter": {
   "hash": "004de6046f1b3d314f33fdb43a2dc798b2646e5600efd8df5066c8b63a00ff6d"
  },
  "kernelspec": {
   "display_name": "Python 3.8.10 64-bit",
   "language": "python",
   "name": "python3"
  },
  "language_info": {
   "codemirror_mode": {
    "name": "ipython",
    "version": 3
   },
   "file_extension": ".py",
   "mimetype": "text/x-python",
   "name": "python",
   "nbconvert_exporter": "python",
   "pygments_lexer": "ipython3",
   "version": "3.10.2"
  },
  "orig_nbformat": 4
 },
 "nbformat": 4,
 "nbformat_minor": 2
}
