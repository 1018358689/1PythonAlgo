{
 "cells": [
  {
   "cell_type": "code",
   "execution_count": 1,
   "metadata": {},
   "outputs": [],
   "source": [
    "# 差分数组的主要适用场景是频繁对原始数组的某个区间的元素进行增减。"
   ]
  },
  {
   "cell_type": "code",
   "execution_count": 7,
   "metadata": {},
   "outputs": [
    {
     "name": "stdout",
     "output_type": "stream",
     "text": [
      "[1, 2, -1, 2]\n"
     ]
    }
   ],
   "source": [
    "def f(nums: list) -> list:\n",
    "    diff = [-1] * len(nums)\n",
    "    diff[0] = nums[0]\n",
    "    for i in range(1, len(nums)):\n",
    "        diff[i] = nums[i] - nums[i - 1]\n",
    "    return diff\n",
    "\n",
    "\n",
    "diff = f([1, 3, 2, 4])\n",
    "print(diff)\n"
   ]
  },
  {
   "cell_type": "code",
   "execution_count": 13,
   "metadata": {},
   "outputs": [
    {
     "data": {
      "text/plain": [
       "([1, 3, 2, 4, 7], [1, 5, 4, 6, 9], [1, 5, 4, 4, 7])"
      ]
     },
     "execution_count": 13,
     "metadata": {},
     "output_type": "execute_result"
    }
   ],
   "source": [
    "# 反推\n",
    "def f(diff: list) -> list:\n",
    "    nums = [-1] * len(diff)\n",
    "    nums[0] = diff[0]\n",
    "    for i in range(1, len(nums)):\n",
    "        nums[i] = diff[i] + nums[i - 1]\n",
    "    return nums\n",
    "\n",
    "\n",
    "f([1, 2, -1, 2, 3]), f([1, 4, -1, 2, 3]), f([1, 4, -1, 0, 3])\n"
   ]
  },
  {
   "cell_type": "code",
   "execution_count": 7,
   "metadata": {},
   "outputs": [
    {
     "name": "stdout",
     "output_type": "stream",
     "text": [
      "[1, 5, 4, 4]\n"
     ]
    }
   ],
   "source": [
    "# 差分数组工具类\n",
    "class Difference:\n",
    "    # 输入一个初始数组，变成差分数组，区间操作将在这个数组上进行\n",
    "    def __init__(self, nums) -> None:\n",
    "        diff = [-1] * len(nums)\n",
    "        diff[0] = nums[0]\n",
    "        for i in range(1, len(nums)):\n",
    "            diff[i] = nums[i] - nums[i - 1]\n",
    "        self.diff = diff\n",
    "\n",
    "    # 给闭区间 [i,j) 增加 val（可以是负数）\n",
    "    def increment(self, i: int, j: int, val: int) -> None:\n",
    "        self.diff[i] += val\n",
    "        if j < len(self.diff):\n",
    "            self.diff[j] -= val\n",
    "\n",
    "    # 反推 返回结果数组\n",
    "    def result(self):\n",
    "        res = [-1] * len(self.diff)\n",
    "        res[0] = self.diff[0]\n",
    "        for i in range(1, len(self.diff)):\n",
    "            res[i] = res[i - 1] + self.diff[i]\n",
    "        return res\n",
    "\n",
    "diff = Difference([1,3,2,4])\n",
    "diff.increment(1,3,2)\n",
    "print(diff.result())"
   ]
  },
  {
   "cell_type": "code",
   "execution_count": null,
   "metadata": {},
   "outputs": [],
   "source": []
  }
 ],
 "metadata": {
  "interpreter": {
   "hash": "004de6046f1b3d314f33fdb43a2dc798b2646e5600efd8df5066c8b63a00ff6d"
  },
  "kernelspec": {
   "display_name": "Python 3.8.10 64-bit",
   "language": "python",
   "name": "python3"
  },
  "language_info": {
   "codemirror_mode": {
    "name": "ipython",
    "version": 3
   },
   "file_extension": ".py",
   "mimetype": "text/x-python",
   "name": "python",
   "nbconvert_exporter": "python",
   "pygments_lexer": "ipython3",
   "version": "3.10.1"
  },
  "orig_nbformat": 4
 },
 "nbformat": 4,
 "nbformat_minor": 2
}
