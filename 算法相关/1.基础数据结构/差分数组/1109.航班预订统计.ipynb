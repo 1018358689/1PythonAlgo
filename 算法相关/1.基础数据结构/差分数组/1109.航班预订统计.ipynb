{
 "cells": [
  {
   "cell_type": "markdown",
   "metadata": {},
   "source": [
    "这里有 n 个航班，它们分别从 1 到 n 进行编号。\n",
    "\n",
    "有一份航班预订表 bookings ，表中第 i 条预订记录 bookings[i] = [firsti, lasti, seatsi] 意味着在从 firsti 到 lasti （包含 firsti 和 lasti ）的 每个航班 上预订了 seatsi 个座位。\n",
    "\n",
    "请你返回一个长度为 n 的数组 answer，里面的元素是每个航班预定的座位总数。\n",
    "\n",
    " \n",
    "示例 1：\n",
    "输入：bookings = [[1,2,10],[2,3,20],[2,5,25]], n = 5\n",
    "输出：[10,55,45,25,25]\n",
    "解释：\n",
    "航班编号        1   2   3   4   5\n",
    "预订记录 1 ：   10  10\n",
    "预订记录 2 ：       20  20\n",
    "预订记录 3 ：       25  25  25  25\n",
    "总座位数：      10  55  45  25  25\n",
    "因此，answer = [10,55,45,25,25]\n",
    "\n",
    "示例 2：\n",
    "输入：bookings = [[1,2,10],[2,2,15]], n = 2\n",
    "输出：[10,25]\n",
    "解释：\n",
    "航班编号        1   2\n",
    "预订记录 1 ：   10  10\n",
    "预订记录 2 ：       15\n",
    "总座位数：      10  25\n",
    "因此，answer = [10,25]"
   ]
  },
  {
   "cell_type": "code",
   "execution_count": 9,
   "metadata": {},
   "outputs": [
    {
     "data": {
      "text/plain": [
       "([10, 55, 45, 25, 25], [10, 25])"
      ]
     },
     "execution_count": 9,
     "metadata": {},
     "output_type": "execute_result"
    }
   ],
   "source": [
    "# 力扣超时\n",
    "def f(bookings: list, n: int):\n",
    "    nums = [0] * n\n",
    "    for update in bookings:\n",
    "        s, e, val = update\n",
    "        nums[s - 1:e] = [n + val for n in nums[s - 1:e]]\n",
    "    return nums\n",
    "\n",
    "\n",
    "f([[1, 2, 10], [2, 3, 20], [2, 5, 25]], 5), f([[1, 2, 10], [2, 2, 15]], 2)\n",
    "# f([[1, 2, 10], [2, 3, 20], [2, 5, 25]], 5)\n"
   ]
  },
  {
   "cell_type": "code",
   "execution_count": 10,
   "metadata": {},
   "outputs": [
    {
     "data": {
      "text/plain": [
       "[10, 55, 45, 25, 25]"
      ]
     },
     "execution_count": 10,
     "metadata": {},
     "output_type": "execute_result"
    }
   ],
   "source": [
    "class Difference:\n",
    "    def __init__(self, nums) -> None:\n",
    "        diff = [-1] * len(nums)\n",
    "        diff[0] = nums[0]\n",
    "        for i in range(1, len(nums)):\n",
    "            diff[i] = nums[i] - nums[i - 1]\n",
    "        self.diff = diff\n",
    "\n",
    "    def increment(self, i, j, val):\n",
    "        self.diff[i] += val\n",
    "        if j + 1 < len(self.diff):\n",
    "            self.diff[j + 1] -= val\n",
    "\n",
    "    def result(self):\n",
    "        res = [-1] * len(self.diff)\n",
    "        res[0] = self.diff[0]\n",
    "        for i in range(1, len(self.diff)):\n",
    "            res[i] = res[i - 1] + self.diff[i]\n",
    "        return res\n",
    "\n",
    "\n",
    "def f(bookings: list, n: int):\n",
    "    nums = [0] * n\n",
    "    D = Difference(nums)\n",
    "    for update in bookings:\n",
    "        s, e, val = update\n",
    "        D.increment(s - 1, e - 1, val)\n",
    "    return D.result()\n",
    "\n",
    "\n",
    "# f([[1, 2, 10], [2, 3, 20], [2, 5, 25]], 5), f([[1, 2, 10], [2, 2, 15]], 2)\n",
    "f([[1, 2, 10], [2, 3, 20], [2, 5, 25]], 5)\n"
   ]
  },
  {
   "cell_type": "code",
   "execution_count": null,
   "metadata": {},
   "outputs": [],
   "source": []
  }
 ],
 "metadata": {
  "interpreter": {
   "hash": "004de6046f1b3d314f33fdb43a2dc798b2646e5600efd8df5066c8b63a00ff6d"
  },
  "kernelspec": {
   "display_name": "Python 3.8.10 64-bit",
   "language": "python",
   "name": "python3"
  },
  "language_info": {
   "codemirror_mode": {
    "name": "ipython",
    "version": 3
   },
   "file_extension": ".py",
   "mimetype": "text/x-python",
   "name": "python",
   "nbconvert_exporter": "python",
   "pygments_lexer": "ipython3",
   "version": "3.8.10"
  },
  "orig_nbformat": 4
 },
 "nbformat": 4,
 "nbformat_minor": 2
}
