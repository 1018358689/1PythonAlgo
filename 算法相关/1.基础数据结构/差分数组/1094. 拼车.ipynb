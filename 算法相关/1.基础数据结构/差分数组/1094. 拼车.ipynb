{
 "cells": [
  {
   "cell_type": "markdown",
   "metadata": {},
   "source": [
    "假设你是一位顺风车司机，车上最初有 capacity 个空座位可以用来载客。由于道路的限制，车 只能 向一个方向行驶（也就是说，不允许掉头或改变方向，你可以将其想象为一个向量）。\n",
    "\n",
    "这儿有一份乘客行程计划表 trips[][]，其中 trips[i] = [num_passengers, start_location, end_location] 包含了第 i 组乘客的行程信息：\n",
    "\n",
    "必须接送的乘客数量；\n",
    "乘客的上车地点；\n",
    "以及乘客的下车地点。\n",
    "这些给出的地点位置是从你的 初始 出发位置向前行驶到这些地点所需的距离（它们一定在你的行驶方向上）。\n",
    "\n",
    "请你根据给出的行程计划表和车子的座位数，来判断你的车是否可以顺利完成接送所有乘客的任务（当且仅当你可以在所有给定的行程中接送所有乘客时，返回 true，否则请返回 false）。\n",
    "\n",
    "\n",
    "示例 1：\n",
    "输入：trips = [[2,1,5],[3,3,7]], capacity = 4\n",
    "输出：false\n",
    "\n",
    "示例 2：\n",
    "输入：trips = [[2,1,5],[3,3,7]], capacity = 5\n",
    "输出：true\n",
    "\n",
    "示例 3：\n",
    "输入：trips = [[2,1,5],[3,5,7]], capacity = 3\n",
    "输出：true\n",
    "\n",
    "示例 4：\n",
    "输入：trips = [[3,2,7],[3,7,9],[8,3,9]], capacity = 11\n",
    "输出：true\n",
    "\n",
    "提示：\n",
    "\n",
    "你可以假设乘客会自觉遵守 “先下后上” 的良好素质"
   ]
  },
  {
   "cell_type": "code",
   "execution_count": 6,
   "metadata": {},
   "outputs": [
    {
     "data": {
      "text/plain": [
       "False"
      ]
     },
     "execution_count": 6,
     "metadata": {},
     "output_type": "execute_result"
    }
   ],
   "source": [
    "def f(trips: list, capacity: int) -> bool:\n",
    "    length = max(i[2] for i in trips)+1\n",
    "    diff = [0] * length\n",
    "    for val, s, e in trips:\n",
    "        diff[s] += val\n",
    "        if e < length:\n",
    "            diff[e] -= val\n",
    "\n",
    "    res = [-1] * length\n",
    "    res[0] = diff[0]\n",
    "    if res[0] > capacity:\n",
    "        return False\n",
    "    for i in range(1, length):\n",
    "        res[i] = res[i - 1] + diff[i]\n",
    "        if res[i] > capacity:\n",
    "            return False\n",
    "    return True\n",
    "\n",
    "\n",
    "# f([[2, 1, 5], [3, 3, 7]], 4), f([[2, 1, 5], [3, 3, 7]], 5)\n",
    "# f([[2, 1, 5], [3, 5, 7]], 3)\n",
    "f([[9, 0, 1], [3, 3, 7]], 4)\n"
   ]
  },
  {
   "cell_type": "code",
   "execution_count": null,
   "metadata": {},
   "outputs": [],
   "source": []
  }
 ],
 "metadata": {
  "interpreter": {
   "hash": "004de6046f1b3d314f33fdb43a2dc798b2646e5600efd8df5066c8b63a00ff6d"
  },
  "kernelspec": {
   "display_name": "Python 3.8.10 64-bit",
   "language": "python",
   "name": "python3"
  },
  "language_info": {
   "codemirror_mode": {
    "name": "ipython",
    "version": 3
   },
   "file_extension": ".py",
   "mimetype": "text/x-python",
   "name": "python",
   "nbconvert_exporter": "python",
   "pygments_lexer": "ipython3",
   "version": "3.8.10"
  },
  "orig_nbformat": 4
 },
 "nbformat": 4,
 "nbformat_minor": 2
}
