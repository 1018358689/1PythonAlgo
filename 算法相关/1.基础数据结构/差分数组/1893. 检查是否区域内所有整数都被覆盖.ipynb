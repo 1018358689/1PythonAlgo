{
 "cells": [
  {
   "cell_type": "code",
   "execution_count": 1,
   "metadata": {},
   "outputs": [],
   "source": [
    "def f(ranges: list, left: int, right: int) -> bool:\n",
    "    roots = list(range(51))\n",
    "    rank = [1] * 51\n",
    "\n",
    "    def find(x):\n",
    "        if roots[x] != x:\n",
    "            roots[x] = find(roots[x])\n",
    "        return roots[x]\n",
    "\n",
    "    def union(x, y):\n",
    "        rx, ry = find(x), find(y)\n",
    "        if rx != ry:\n",
    "            if rank[rx] < rank[ry]:\n",
    "                roots[rx] = ry\n",
    "            elif rank[ry] < rank[rx]:\n",
    "                roots[ry] = rx\n",
    "            else:\n",
    "                roots[rx] = ry\n",
    "                rank[ry] += 1\n",
    "\n",
    "    for l, r in ranges:\n",
    "        for i in range(l, r + 1):\n",
    "            union(i, 0)\n",
    "\n",
    "    for i in range(left, right + 1):\n",
    "        if find(0) != find(i):\n",
    "            return False\n",
    "    return True"
   ]
  },
  {
   "cell_type": "code",
   "execution_count": 2,
   "metadata": {},
   "outputs": [],
   "source": [
    "def f(ranges: list, left: int, right: int) -> bool:\n",
    "    roots = list(range(52))\n",
    "\n",
    "    def find(x):\n",
    "        return x if roots[x] == x else find(roots[x])\n",
    "\n",
    "    def union(x, y):\n",
    "        roots[find(x)] = find(y)\n",
    "\n",
    "    for l, r in ranges:\n",
    "        for i in range(l, r + 1):\n",
    "            union(i, r + 1)  # 指向下一个\n",
    "    return find(left) > right  # 如果在区间内 会被向后查找到最后一个\n"
   ]
  },
  {
   "cell_type": "code",
   "execution_count": null,
   "metadata": {},
   "outputs": [],
   "source": [
    "def f(ranges: list, left: int, right: int) -> bool:\n",
    "    # 把所有区间内值都加一 重复遍历重复加一\n",
    "    # 还原1到right的值 如果值为0 且left<=i 则说明[left,right]内有不是区间的\n",
    "    diff = [0] * 51\n",
    "    for l, r in ranges:\n",
    "        diff[l] += 1\n",
    "        if r + 1 < 51:\n",
    "            diff[r + 1] -= 1\n",
    "    cur = 0\n",
    "    for i in range(1, right + 1):\n",
    "        cur += diff[i]\n",
    "        if cur == 0 and left <= i:\n",
    "            return False\n",
    "    return True"
   ]
  }
 ],
 "metadata": {
  "interpreter": {
   "hash": "aee8b7b246df8f9039afb4144a1f6fd8d2ca17a180786b69acc140d282b71a49"
  },
  "kernelspec": {
   "display_name": "Python 3.10.1 64-bit",
   "language": "python",
   "name": "python3"
  },
  "language_info": {
   "codemirror_mode": {
    "name": "ipython",
    "version": 3
   },
   "file_extension": ".py",
   "mimetype": "text/x-python",
   "name": "python",
   "nbconvert_exporter": "python",
   "pygments_lexer": "ipython3",
   "version": "3.10.1"
  },
  "orig_nbformat": 4
 },
 "nbformat": 4,
 "nbformat_minor": 2
}
