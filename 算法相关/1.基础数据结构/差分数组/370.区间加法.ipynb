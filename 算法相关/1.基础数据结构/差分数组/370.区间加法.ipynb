{
 "cells": [
  {
   "cell_type": "markdown",
   "metadata": {},
   "source": [
    "假设你有一个长度为 n 的数组，初始情况下所有的数字均为 0，你将会被给出 k 个更新的操作。\n",
    "\n",
    "其中，每个操作会被表示为一个三元组：[startIndex, endIndex, inc]，你需要将子数组 A[startIndex ... endIndex]（包括startIndex和endIndex）增加 inc。\n",
    "\n",
    "请你返回 k 次操作后的数组。\n",
    "\n",
    "示例 1：\n",
    "输入: length = 5, updates = [[1,3,2],[2,4,3],[0,2,-2]]\n",
    "输出: [-2,0,3,5,3]\n",
    "\n",
    "解释：\n",
    "初始状态:\n",
    "[0,0,0,0,0]\n",
    "\n",
    "进行了操作 [1,3,2] 后的状态:\n",
    "[0,2,2,2,0]\n",
    "\n",
    "进行了操作 [2,4,3] 后的状态:\n",
    "[0,2,5,5,3]\n",
    "\n",
    "进行了操作 [0,2,-2] 后的状态:\n",
    "[-2,0,3,5,3]"
   ]
  },
  {
   "cell_type": "code",
   "execution_count": 1,
   "metadata": {},
   "outputs": [
    {
     "data": {
      "text/plain": [
       "[-2, 0, 3, 5, 3]"
      ]
     },
     "execution_count": 1,
     "metadata": {},
     "output_type": "execute_result"
    }
   ],
   "source": [
    "def f(length: int, updates: list) -> list:\n",
    "    r = [0] * length\n",
    "    for i in updates:\n",
    "        s, e, val = i\n",
    "        r[s:e + 1] = [j + val for j in r[s:e + 1]]\n",
    "    return r\n",
    "\n",
    "\n",
    "f(5, [[1, 3, 2], [2, 4, 3], [0, 2, -2]])\n"
   ]
  },
  {
   "cell_type": "code",
   "execution_count": 4,
   "metadata": {},
   "outputs": [
    {
     "data": {
      "text/plain": [
       "[-2, 0, 3, 5, 3]"
      ]
     },
     "execution_count": 4,
     "metadata": {},
     "output_type": "execute_result"
    }
   ],
   "source": [
    "def f(length: int, updates: list) -> list:\n",
    "    r = [0] * length\n",
    "    for i in updates:\n",
    "        s, e, val = i\n",
    "        r[s:e + 1] = map(lambda x: x + val, r[s:e + 1])\n",
    "    return r\n",
    "\n",
    "\n",
    "f(5, [[1, 3, 2], [2, 4, 3], [0, 2, -2]])\n"
   ]
  },
  {
   "cell_type": "code",
   "execution_count": 24,
   "metadata": {},
   "outputs": [
    {
     "data": {
      "text/plain": [
       "[1, 2, 4]"
      ]
     },
     "execution_count": 24,
     "metadata": {},
     "output_type": "execute_result"
    }
   ],
   "source": [
    "l = [1,2,3,4]\n",
    "l[1:3]=[2]\n",
    "l"
   ]
  },
  {
   "cell_type": "code",
   "execution_count": 29,
   "metadata": {},
   "outputs": [
    {
     "data": {
      "text/plain": [
       "[-2, 0, 3, 5, 3]"
      ]
     },
     "execution_count": 29,
     "metadata": {},
     "output_type": "execute_result"
    }
   ],
   "source": [
    "# 差分数组工具类\n",
    "class Difference:\n",
    "    # 输入一个初始数组，变成差分数组，区间操作将在这个数组上进行\n",
    "    def __init__(self, nums) -> None:\n",
    "        diff = [-1] * len(nums)\n",
    "        diff[0] = nums[0]\n",
    "        for i in range(1, len(nums)):\n",
    "            diff[i] = nums[i] - nums[i - 1]\n",
    "        self.diff = diff\n",
    "\n",
    "    # 给闭区间 [i,j] 增加 val（可以是负数）\n",
    "    def increment(self, i: int, j: int, val: int) -> None:\n",
    "        self.diff[i] += val\n",
    "        if j + 1 < len(self.diff):\n",
    "            self.diff[j + 1] -= val\n",
    "\n",
    "    # 返回结果数组\n",
    "    def result(self):\n",
    "        res = [-1] * len(self.diff)\n",
    "        res[0] = self.diff[0]\n",
    "        for i in range(1, len(self.diff)):\n",
    "            res[i] = res[i - 1] + self.diff[i]\n",
    "        return res\n",
    "\n",
    "\n",
    "\n",
    "def f(length: int, updates: list) -> list:\n",
    "    nums = [0] * length\n",
    "    D = Difference(nums)\n",
    "    for i in updates:\n",
    "        s, e, val = i\n",
    "        D.increment(s, e, val)\n",
    "    return D.result()\n",
    "\n",
    "\n",
    "f(5, [[1, 3, 2], [2, 4, 3], [0, 2, -2]])\n"
   ]
  },
  {
   "cell_type": "code",
   "execution_count": 7,
   "metadata": {},
   "outputs": [
    {
     "data": {
      "text/plain": [
       "[-2, 0, 3, 5, 3]"
      ]
     },
     "execution_count": 7,
     "metadata": {},
     "output_type": "execute_result"
    }
   ],
   "source": [
    "def f(length: int, updates: list) -> list:\n",
    "    diff = [0] * length\n",
    "    for s, e, val in updates:\n",
    "        diff[s] += val\n",
    "        if e + 1 < length:\n",
    "            diff[e + 1] -= val\n",
    "    nums = [0] * length\n",
    "    nums[0] = diff[0]\n",
    "    for i in range(1, length):\n",
    "        nums[i] = nums[i - 1] + diff[i]\n",
    "    return nums\n",
    "\n",
    "\n",
    "f(5, [[1, 3, 2], [2, 4, 3], [0, 2, -2]])\n"
   ]
  },
  {
   "cell_type": "code",
   "execution_count": 35,
   "metadata": {},
   "outputs": [
    {
     "data": {
      "text/plain": [
       "True"
      ]
     },
     "execution_count": 35,
     "metadata": {},
     "output_type": "execute_result"
    }
   ],
   "source": [
    "d = {1:'a',(1,2):'b'}\n",
    "(1,2) in d"
   ]
  },
  {
   "cell_type": "code",
   "execution_count": null,
   "metadata": {},
   "outputs": [],
   "source": []
  }
 ],
 "metadata": {
  "interpreter": {
   "hash": "004de6046f1b3d314f33fdb43a2dc798b2646e5600efd8df5066c8b63a00ff6d"
  },
  "kernelspec": {
   "display_name": "Python 3.8.10 64-bit",
   "language": "python",
   "name": "python3"
  },
  "language_info": {
   "codemirror_mode": {
    "name": "ipython",
    "version": 3
   },
   "file_extension": ".py",
   "mimetype": "text/x-python",
   "name": "python",
   "nbconvert_exporter": "python",
   "pygments_lexer": "ipython3",
   "version": "3.8.10"
  },
  "orig_nbformat": 4
 },
 "nbformat": 4,
 "nbformat_minor": 2
}
