{
 "cells": [
  {
   "cell_type": "markdown",
   "metadata": {},
   "source": [
    "给你一个整数数组 nums，有一个大小为k的滑动窗口从数组的最左侧移动到数组的最右侧。你只可以看到在滑动窗口内的 k个数字。滑动窗口每次只向右移动一位。\n",
    "\n",
    "返回滑动窗口中的最大值。\n",
    "\n",
    "\n",
    "\n",
    "示例 1：\n",
    "\n",
    "输入：nums = [1,3,-1,-3,5,3,6,7], k = 3\n",
    "输出：[3,3,5,5,6,7]\n",
    "解释：\n",
    "滑动窗口的位置                最大值\n",
    "---------------               -----\n",
    "[1  3  -1] -3  5  3  6  7       3\n",
    " 1 [3  -1  -3] 5  3  6  7       3\n",
    " 1  3 [-1  -3  5] 3  6  7       5\n",
    " 1  3  -1 [-3  5  3] 6  7       5\n",
    " 1  3  -1  -3 [5  3  6] 7       6\n",
    " 1  3  -1  -3  5 [3  6  7]      7\n",
    "示例 2：\n",
    "\n",
    "输入：nums = [1], k = 1\n",
    "输出：[1]\n",
    "示例 3：\n",
    "\n",
    "输入：nums = [1,-1], k = 1\n",
    "输出：[1,-1]\n",
    "示例 4：\n",
    "\n",
    "输入：nums = [9,11], k = 2\n",
    "输出：[11]\n",
    "示例 5：\n",
    "\n",
    "输入：nums = [4,-2], k = 2\n",
    "输出：[4]"
   ]
  },
  {
   "cell_type": "code",
   "execution_count": 22,
   "metadata": {},
   "outputs": [
    {
     "data": {
      "text/plain": [
       "([3, 3, 5, 5, 6, 7], [1], [1, -1], [11], [4])"
      ]
     },
     "execution_count": 22,
     "metadata": {},
     "output_type": "execute_result"
    }
   ],
   "source": [
    "from collections import deque\n",
    "def f(nums: list, k: int) -> list:\n",
    "    class MyQueue:  # 单调队列（从大到小\n",
    "        def __init__(self):\n",
    "            self.queue = deque()  # 使用list来实现单调队列\n",
    "\n",
    "        # 每次弹出的时候，比较当前要弹出的数值是否等于队列出口元素的数值，如果相等则弹出。\n",
    "        # 同时pop之前判断队列当前是否为空。\n",
    "        def pop(self, value):\n",
    "            if self.queue and value == self.queue[0]:\n",
    "                self.queue.popleft()  #list.pop()时间复杂度为O(n),这里可以使用collections.deque()\n",
    "\n",
    "        # 如果push的数值大于入口元素的数值，那么就将队列后端的数值弹出，直到push的数值小于等于队列入口元素的数值为止。\n",
    "        # 这样就保持了队列里的数值是单调从大到小的了。\n",
    "        def push(self, value):\n",
    "            while self.queue and value > self.queue[-1]:\n",
    "                self.queue.pop()\n",
    "            self.queue.append(value)\n",
    "\n",
    "        # 查询当前队列里的最大值 直接返回队列前端也就是front就可以了。\n",
    "        def front(self):\n",
    "            return self.queue[0]\n",
    "\n",
    "    que = MyQueue()\n",
    "    result = []\n",
    "    for i in range(k):  # 先将前k的元素放进队列\n",
    "        que.push(nums[i])\n",
    "    result.append(que.front())  # result 记录前k的元素的最大值\n",
    "    for i in range(k, len(nums)):\n",
    "        que.pop(nums[i - k])  # 滑动窗口移除最前面元素\n",
    "        que.push(nums[i])  # 滑动窗口前加入最后面的元素\n",
    "        result.append(que.front())  # 记录对应的最大值\n",
    "    return result\n",
    "\n",
    "f([1, 3, -1, -3, 5, 3, 6, 7], 3), f([1], 1), f([1, -1], 1), f([9, 11], 2), f([4, -2], 2)\n"
   ]
  },
  {
   "cell_type": "code",
   "execution_count": 24,
   "metadata": {},
   "outputs": [
    {
     "data": {
      "text/plain": [
       "([3, 3, 5, 5, 6, 7], [1], [1, 1], [11], [4])"
      ]
     },
     "execution_count": 24,
     "metadata": {},
     "output_type": "execute_result"
    }
   ],
   "source": [
    "# f([1, -1], 1) 失败\n",
    "def f(nums: list, k: int) -> list:\n",
    "    res = []\n",
    "    l = r = 0  # [l,r]\n",
    "    max_num = float('-inf')\n",
    "    while r <= len(nums) - 1:\n",
    "        max_num = max(max_num, nums[r])\n",
    "        while r + 1 - l > k:\n",
    "            l += 1\n",
    "        if r + 1 - l == k:\n",
    "            res.append(max_num)\n",
    "        r += 1\n",
    "    return res\n",
    "\n",
    "\n",
    "f([1, 3, -1, -3, 5, 3, 6, 7], 3), f([1], 1), f([1, -1], 1), f([9, 11], 2), f([4, -2], 2)\n"
   ]
  },
  {
   "cell_type": "code",
   "execution_count": 19,
   "metadata": {},
   "outputs": [
    {
     "data": {
      "text/plain": [
       "([3, 3, 5, 5, 6, 7], [1], [1, -1], [11], [4])"
      ]
     },
     "execution_count": 19,
     "metadata": {},
     "output_type": "execute_result"
    }
   ],
   "source": [
    "def f(nums: list, k: int) -> list:\n",
    "    res = []\n",
    "    l = r = 0  # [l,r]\n",
    "    while r <= len(nums) - 1:\n",
    "        while r + 1 - l > k:\n",
    "            l += 1\n",
    "        if r + 1 - l == k:\n",
    "            res.append(max(nums[l:r + 1]))\n",
    "        r += 1\n",
    "    return res\n",
    "\n",
    "\n",
    "f([1, 3, -1, -3, 5, 3, 6, 7], 3), f([1], 1), f([1, -1], 1), f([9, 11], 2), f([4, -2], 2)\n"
   ]
  },
  {
   "cell_type": "code",
   "execution_count": 25,
   "metadata": {},
   "outputs": [
    {
     "data": {
      "text/plain": [
       "([3, 3, 5, 5, 6, 7], [1], [1, -1], [11], [4])"
      ]
     },
     "execution_count": 25,
     "metadata": {},
     "output_type": "execute_result"
    }
   ],
   "source": [
    "from collections import deque\n",
    "\n",
    "\n",
    "def f(nums: list, k: int) -> list:\n",
    "    res = []\n",
    "    l = r = 0\n",
    "    window = deque()\n",
    "    while r <= len(nums) - 1:\n",
    "        window.append(nums[r])\n",
    "        while len(window) > k:\n",
    "            window.popleft()\n",
    "        if len(window) == k:\n",
    "            res.append(max(window))\n",
    "        r += 1\n",
    "    return res\n",
    "\n",
    "\n",
    "f([1, 3, -1, -3, 5, 3, 6, 7], 3), f([1], 1), f([1, -1], 1), f([9, 11], 2), f([4, -2], 2)\n"
   ]
  },
  {
   "cell_type": "code",
   "execution_count": null,
   "metadata": {},
   "outputs": [],
   "source": []
  }
 ],
 "metadata": {
  "interpreter": {
   "hash": "004de6046f1b3d314f33fdb43a2dc798b2646e5600efd8df5066c8b63a00ff6d"
  },
  "kernelspec": {
   "display_name": "Python 3.8.10 64-bit",
   "language": "python",
   "name": "python3"
  },
  "language_info": {
   "codemirror_mode": {
    "name": "ipython",
    "version": 3
   },
   "file_extension": ".py",
   "mimetype": "text/x-python",
   "name": "python",
   "nbconvert_exporter": "python",
   "pygments_lexer": "ipython3",
   "version": "3.8.10"
  },
  "orig_nbformat": 4
 },
 "nbformat": 4,
 "nbformat_minor": 2
}
