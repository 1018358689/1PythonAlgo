{
 "cells": [
  {
   "cell_type": "code",
   "execution_count": 2,
   "metadata": {},
   "outputs": [
    {
     "data": {
      "text/plain": [
       "([0, 6], [0, 1, 2])"
      ]
     },
     "execution_count": 2,
     "metadata": {},
     "output_type": "execute_result"
    }
   ],
   "source": [
    "from typing import List\n",
    "from collections import defaultdict\n",
    "\n",
    "\n",
    "def findAnagrams(s: str, p: str) -> List[int]:\n",
    "    if len(s) < len(p): return []\n",
    "    window, need = defaultdict(int), defaultdict(int)\n",
    "    window_length = len(p)\n",
    "    for i in p:\n",
    "        need[i] += 1\n",
    "    for i in range(len(p) - 1):\n",
    "        window[s[i]] += 1\n",
    "    l = 0\n",
    "    r = l + window_length - 1\n",
    "    res = []\n",
    "    while r <= len(s) - 1:\n",
    "        window[s[r]] += 1\n",
    "        if window == need:\n",
    "            res.append(l)\n",
    "        window[s[l]] -= 1\n",
    "        if window[s[l]] == 0:\n",
    "            del window[s[l]]\n",
    "        l += 1\n",
    "        r += 1\n",
    "    return res\n",
    "\n",
    "\n",
    "findAnagrams('cbaebabacd', 'abc'), findAnagrams('abab', 'ab')\n"
   ]
  },
  {
   "cell_type": "code",
   "execution_count": null,
   "metadata": {},
   "outputs": [],
   "source": []
  }
 ],
 "metadata": {
  "interpreter": {
   "hash": "004de6046f1b3d314f33fdb43a2dc798b2646e5600efd8df5066c8b63a00ff6d"
  },
  "kernelspec": {
   "display_name": "Python 3.8.10 64-bit",
   "language": "python",
   "name": "python3"
  },
  "language_info": {
   "codemirror_mode": {
    "name": "ipython",
    "version": 3
   },
   "file_extension": ".py",
   "mimetype": "text/x-python",
   "name": "python",
   "nbconvert_exporter": "python",
   "pygments_lexer": "ipython3",
   "version": "3.8.10"
  },
  "orig_nbformat": 4
 },
 "nbformat": 4,
 "nbformat_minor": 2
}
