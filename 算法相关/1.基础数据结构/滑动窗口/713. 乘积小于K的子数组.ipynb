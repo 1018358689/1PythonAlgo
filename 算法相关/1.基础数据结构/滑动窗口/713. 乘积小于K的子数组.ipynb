{
 "cells": [
  {
   "cell_type": "code",
   "execution_count": 3,
   "metadata": {},
   "outputs": [
    {
     "data": {
      "text/plain": [
       "(8, 0)"
      ]
     },
     "execution_count": 3,
     "metadata": {},
     "output_type": "execute_result"
    }
   ],
   "source": [
    "def f(nums: list, k: int):\n",
    "    if k <= 1: return 0\n",
    "    count = 0\n",
    "    window = 1\n",
    "    l = r = 0\n",
    "    while r < len(nums):\n",
    "        window *= nums[r]\n",
    "        while window >= k and l <= r:\n",
    "            window //= nums[l]\n",
    "            l += 1\n",
    "            # 每次增加个数 等于区间长度\n",
    "            # 例如：2 3 4 -> 2 3 4 5 就相当于增加了 2 3 4 5，3 4 5，4 5 ，5增加了4个新子元素！\n",
    "        count += r - l + 1\n",
    "        r += 1\n",
    "    return count\n",
    "\n",
    "\n",
    "f([10, 5, 2, 6], 100), f([1, 2, 3], 0)\n"
   ]
  }
 ],
 "metadata": {
  "interpreter": {
   "hash": "aee8b7b246df8f9039afb4144a1f6fd8d2ca17a180786b69acc140d282b71a49"
  },
  "kernelspec": {
   "display_name": "Python 3.10.1 64-bit",
   "language": "python",
   "name": "python3"
  },
  "language_info": {
   "codemirror_mode": {
    "name": "ipython",
    "version": 3
   },
   "file_extension": ".py",
   "mimetype": "text/x-python",
   "name": "python",
   "nbconvert_exporter": "python",
   "pygments_lexer": "ipython3",
   "version": "3.10.1"
  },
  "orig_nbformat": 4
 },
 "nbformat": 4,
 "nbformat_minor": 2
}
