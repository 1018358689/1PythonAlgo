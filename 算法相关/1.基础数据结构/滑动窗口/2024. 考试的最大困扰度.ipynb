{
 "cells": [
  {
   "cell_type": "code",
   "execution_count": 17,
   "metadata": {},
   "outputs": [
    {
     "data": {
      "text/plain": [
       "4"
      ]
     },
     "execution_count": 17,
     "metadata": {},
     "output_type": "execute_result"
    }
   ],
   "source": [
    "def f(answerKey: str, k: int):\n",
    "    l, r = 0, 0\n",
    "    ans = 0\n",
    "    cnt = {'T': 0, 'F': 0}\n",
    "    while r < len(answerKey):\n",
    "        cnt[answerKey[r]] += 1\n",
    "        while cnt['T'] > k and cnt['F'] > k:\n",
    "            cnt[answerKey[l]] -= 1\n",
    "            l += 1\n",
    "        ans = max(ans, r - l + 1)\n",
    "        r += 1\n",
    "    return ans\n",
    "\n",
    "\n",
    "f('TTFF', 2)\n"
   ]
  },
  {
   "cell_type": "code",
   "execution_count": null,
   "metadata": {},
   "outputs": [],
   "source": []
  }
 ],
 "metadata": {
  "interpreter": {
   "hash": "a5f34674cfcc9b13426a2d112c686bc132e4ef443f1487e707e7c3787d6bcf89"
  },
  "kernelspec": {
   "display_name": "Python 3.10.4 64-bit (windows store)",
   "language": "python",
   "name": "python3"
  },
  "language_info": {
   "codemirror_mode": {
    "name": "ipython",
    "version": 3
   },
   "file_extension": ".py",
   "mimetype": "text/x-python",
   "name": "python",
   "nbconvert_exporter": "python",
   "pygments_lexer": "ipython3",
   "version": "3.10.4"
  },
  "orig_nbformat": 4
 },
 "nbformat": 4,
 "nbformat_minor": 2
}
