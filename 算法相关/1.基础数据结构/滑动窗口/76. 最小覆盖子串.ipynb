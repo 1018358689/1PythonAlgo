{
 "cells": [
  {
   "cell_type": "markdown",
   "metadata": {},
   "source": [
    "给你一个字符串 s 、一个字符串 t 。返回 s 中涵盖 t 所有字符的最小子串。如果 s 中不存在涵盖 t 所有字符的子串，则返回空字符串 \"\" 。\n",
    "\n",
    "\n",
    "注意：\n",
    "\n",
    "对于 t 中重复字符，我们寻找的子字符串中该字符数量必须不少于 t 中该字符数量。\n",
    "如果 s 中存在这样的子串，我们保证它是唯一的答案。\n",
    "\n",
    "示例 1：\n",
    "输入：s = \"ADOBECODEBANC\", t = \"ABC\"\n",
    "输出：\"BANC\"\n",
    "\n",
    "示例 2：\n",
    "输入：s = \"a\", t = \"a\"\n",
    "输出：\"a\"\n",
    "\n",
    "示例 3:\n",
    "输入: s = \"a\", t = \"aa\"\n",
    "输出: \"\"\n",
    "解释: t 中两个字符 'a' 均应包含在 s 的子串中，\n",
    "因此没有符合条件的子字符串，返回空字符串。\n"
   ]
  },
  {
   "cell_type": "code",
   "execution_count": 10,
   "metadata": {},
   "outputs": [
    {
     "data": {
      "text/plain": [
       "Counter({'C': 2})"
      ]
     },
     "execution_count": 10,
     "metadata": {},
     "output_type": "execute_result"
    }
   ],
   "source": [
    "from collections import Counter\n",
    "s = '123'\n",
    "s[2:3]\n",
    "Counter('ABCCCC') - Counter('ADOBECODEBANC')"
   ]
  },
  {
   "cell_type": "code",
   "execution_count": 17,
   "metadata": {},
   "outputs": [
    {
     "data": {
      "text/plain": [
       "('BANC', 'a', '')"
      ]
     },
     "execution_count": 17,
     "metadata": {},
     "output_type": "execute_result"
    }
   ],
   "source": [
    "from collections import Counter\n",
    "def minWindow(s: str, t: str) -> str:\n",
    "    r = []\n",
    "    for i in range(len(s)):\n",
    "        for j in range(i+1,len(s)+1):\n",
    "            if not Counter(t)-Counter(s[i:j]):\n",
    "                r.append(s[i:j])\n",
    "    return min(r,key=len) if r else ''\n",
    "\n",
    "minWindow('ADOBECODEBANC','ABC'),minWindow('a','a'),minWindow('a','aa')"
   ]
  },
  {
   "cell_type": "code",
   "execution_count": 25,
   "metadata": {},
   "outputs": [
    {
     "data": {
      "text/plain": [
       "('BANC', 'a', '')"
      ]
     },
     "execution_count": 25,
     "metadata": {},
     "output_type": "execute_result"
    }
   ],
   "source": [
    "from collections import Counter\n",
    "\n",
    "\n",
    "def minWindow(s: str, t: str) -> str:\n",
    "    ht = Counter(t)\n",
    "    l = r = 0\n",
    "    res = s + '_'\n",
    "    while r <= len(s) - 1:\n",
    "        while not ht - Counter(s[l:r + 1]):  # 符合条件\n",
    "            if len(res) > r + 1 - l:\n",
    "                res = s[l:r + 1]\n",
    "            l += 1\n",
    "        r += 1\n",
    "    return res if res != s + '_' else ''\n",
    "\n",
    "\n",
    "minWindow('ADOBECODEBANC', 'ABC'), minWindow('a', 'a'), minWindow('a', 'aa')\n",
    "# minWindow('ADOBECODEBANC', 'ABC')"
   ]
  },
  {
   "cell_type": "code",
   "execution_count": 8,
   "metadata": {},
   "outputs": [
    {
     "data": {
      "text/plain": [
       "'cwae'"
      ]
     },
     "execution_count": 8,
     "metadata": {},
     "output_type": "execute_result"
    }
   ],
   "source": [
    "from collections import defaultdict\n",
    "\n",
    "\n",
    "def minWindow(s: str, t: str) -> str:\n",
    "    def subset(d1: dict, d2: dict) -> bool:  # 判断d1是否为d2子集\n",
    "        for i in d1:\n",
    "            if d1[i] > d2.get(i, 0):\n",
    "                return False\n",
    "        return True\n",
    "\n",
    "    hs, ht = defaultdict(int), defaultdict(int)\n",
    "    for i in t:\n",
    "        ht[i] += 1\n",
    "    l = r = 0\n",
    "    res = s + '_'\n",
    "    while r <= len(s) - 1:\n",
    "        hs[s[r]] += 1\n",
    "        while subset(ht, hs):  # 符合条件\n",
    "            if len(res) > r + 1 - l:  # 最优解寻找 更新res\n",
    "                res = s[l:r + 1]\n",
    "            hs[s[l]] -= 1  # 滑动窗口往左 更新hs\n",
    "            l += 1\n",
    "        r += 1\n",
    "    return res if res != s + '_' else ''\n",
    "\n",
    "\n",
    "minWindow('ADOBECODEBANC', 'ABC'), minWindow('a', 'a'), minWindow('a', 'aa')\n",
    "# minWindow('ADOBECODEBANC', 'ABC')\n",
    "minWindow(\"cabwefgewcwaefgcf\", \"cae\")\n"
   ]
  },
  {
   "cell_type": "code",
   "execution_count": 7,
   "metadata": {},
   "outputs": [
    {
     "data": {
      "text/plain": [
       "'cwae'"
      ]
     },
     "execution_count": 7,
     "metadata": {},
     "output_type": "execute_result"
    }
   ],
   "source": [
    "from collections import defaultdict\n",
    "\n",
    "\n",
    "def minWindow(s: str, t: str) -> str:\n",
    "    window, ht = defaultdict(int), defaultdict(int)\n",
    "    for i in t:\n",
    "        ht[i] += 1\n",
    "    l = r = 0\n",
    "    valid = 0\n",
    "    res = s + '_'\n",
    "    while r <= len(s) - 1:\n",
    "        # 窗口更新\n",
    "        c = s[r]  # 即将移入窗口的值\n",
    "        if ht.get(c, 0) != 0:\n",
    "            window[c] += 1\n",
    "            if window[c] == ht[c]:\n",
    "                valid += 1\n",
    "        # 判断左窗口是否要收缩\n",
    "        while valid == len(ht):\n",
    "            if len(res) > r + 1 - l:  # 最优解寻找 更新res\n",
    "                res = s[l:r + 1]\n",
    "\n",
    "            # 窗口更新\n",
    "            d = s[l]  # 即将移出窗口的值\n",
    "            if ht.get(d, 0) != 0:\n",
    "                if window[d] == ht[d]:\n",
    "                    valid -= 1\n",
    "                window[d] -= 1\n",
    "            l += 1  # 左移窗口\n",
    "        r += 1  # 右移窗口\n",
    "    return res if res != s + '_' else ''\n",
    "\n",
    "\n",
    "minWindow('ADOBECODEBANC', 'ABC'), minWindow('a', 'a'), minWindow('a', 'aa')\n",
    "# minWindow('bba', 'ab')\n",
    "minWindow(\"cabwefgewcwaefgcf\", \"cae\")\n"
   ]
  },
  {
   "cell_type": "code",
   "execution_count": 42,
   "metadata": {},
   "outputs": [
    {
     "data": {
      "text/plain": [
       "False"
      ]
     },
     "execution_count": 42,
     "metadata": {},
     "output_type": "execute_result"
    }
   ],
   "source": [
    "s, t = 'OBEC', 'ABC'\n",
    "\n",
    "\n",
    "def subset(d1: dict, d2: dict):\n",
    "    for i in d1:\n",
    "        if d1[i] <= d2.get(i, 0):\n",
    "            continue\n",
    "        else:\n",
    "            return False\n",
    "    return True\n",
    "\n",
    "\n",
    "hs, ht = defaultdict(int), defaultdict(int)\n",
    "for i in t:\n",
    "    ht[i] += 1\n",
    "for i in s:\n",
    "    hs[i] += 1\n",
    "\n",
    "subset(ht, hs)\n"
   ]
  },
  {
   "cell_type": "code",
   "execution_count": 33,
   "metadata": {},
   "outputs": [
    {
     "data": {
      "text/plain": [
       "{('x', 1), ('y', 2), ('z', 3)}"
      ]
     },
     "execution_count": 33,
     "metadata": {},
     "output_type": "execute_result"
    }
   ],
   "source": [
    "a = {'x': 1, 'y': 2, 'z': 3}\n",
    "\n",
    "b = {'w': 10, 'x': 11, 'y': 1}\n",
    "a.items() - b.items()\n"
   ]
  },
  {
   "cell_type": "code",
   "execution_count": 1,
   "metadata": {},
   "outputs": [
    {
     "data": {
      "text/plain": [
       "Counter({'z': 3})"
      ]
     },
     "execution_count": 1,
     "metadata": {},
     "output_type": "execute_result"
    }
   ],
   "source": [
    "from collections import Counter\n",
    "a = Counter({'x': 1, 'y': 2, 'z': 3})\n",
    "\n",
    "b = Counter({'w': 10, 'x': 11, 'y': 2})\n",
    "a - b"
   ]
  },
  {
   "cell_type": "code",
   "execution_count": 10,
   "metadata": {},
   "outputs": [
    {
     "data": {
      "text/plain": [
       "'cwae'"
      ]
     },
     "execution_count": 10,
     "metadata": {},
     "output_type": "execute_result"
    }
   ],
   "source": [
    "def minWindow(s: str, t: str) -> str:\n",
    "    cnt = {}\n",
    "    for n in t:\n",
    "        cnt[n] = cnt.get(n, 0) + 1\n",
    "    l, r = 0, 0\n",
    "    res = ''\n",
    "    minSz = float('inf')\n",
    "    window = {}\n",
    "\n",
    "    def subset(d1: dict, d2: dict) -> bool:  # 判断d1是否为d2子集\n",
    "        for i in d1:\n",
    "            if d1[i] > d2.get(i, 0):\n",
    "                return False\n",
    "        return True\n",
    "\n",
    "    while r < len(s):\n",
    "        window[s[r]] = window.get(s[r], 0) + 1\n",
    "        while subset(cnt, window):\n",
    "            if r - l + 1 < minSz:\n",
    "                minSz = r - l + 1\n",
    "                res = s[l:r + 1]\n",
    "            window[s[l]] -= 1\n",
    "            l += 1\n",
    "        r += 1\n",
    "    return res\n",
    "\n",
    "\n",
    "# minWindow('ADOBECODEBANC', 'ABC')\n",
    "# minWindow('a', 'a'), minWindow('a', 'aa')\n",
    "minWindow(\"cabwefgewcwaefgcf\", \"cae\")\n"
   ]
  },
  {
   "cell_type": "code",
   "execution_count": null,
   "metadata": {},
   "outputs": [],
   "source": []
  }
 ],
 "metadata": {
  "interpreter": {
   "hash": "004de6046f1b3d314f33fdb43a2dc798b2646e5600efd8df5066c8b63a00ff6d"
  },
  "kernelspec": {
   "display_name": "Python 3.8.10 64-bit",
   "language": "python",
   "name": "python3"
  },
  "language_info": {
   "codemirror_mode": {
    "name": "ipython",
    "version": 3
   },
   "file_extension": ".py",
   "mimetype": "text/x-python",
   "name": "python",
   "nbconvert_exporter": "python",
   "pygments_lexer": "ipython3",
   "version": "3.10.4"
  },
  "orig_nbformat": 4
 },
 "nbformat": 4,
 "nbformat_minor": 2
}
