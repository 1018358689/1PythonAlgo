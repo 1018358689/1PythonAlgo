{
 "cells": [
  {
   "cell_type": "code",
   "execution_count": null,
   "metadata": {},
   "outputs": [],
   "source": [
    "def findSubArray(nums):\n",
    "    N = len(nums) # 数组/字符串长度\n",
    "    left, right = 0, 0 # 双指针，表示当前遍历的区间[left, right]，闭区间\n",
    "    sums = 0 # 用于统计 子数组/子区间 是否有效，根据题目可能会改成求和/计数\n",
    "    res = 0 # 保存最大的满足题目要求的 子数组/子串 长度\n",
    "    while right < N: # 当右边的指针没有搜索到 数组/字符串 的结尾\n",
    "        sums += nums[right] # 增加当前右边指针的数字/字符的求和/计数\n",
    "        while 区间[left, right]不符合题意:# 此时需要一直移动左指针，直至找到一个符合题意的区间\n",
    "            sums -= nums[left] # 移动左指针前需要从counter中减少left位置字符的求和/计数\n",
    "            left += 1 # 真正的移动左指针，注意不能跟上面一行代码写反\n",
    "        # 到 while 结束时，我们找到了一个符合题意要求的 子数组/子串\n",
    "        res = max(res, right - left + 1) # 需要更新结果\n",
    "        right += 1 # 移动右指针，去探索新的区间\n",
    "    return res"
   ]
  },
  {
   "cell_type": "markdown",
   "metadata": {},
   "source": [
    "https://leetcode-cn.com/problems/max-consecutive-ones-iii/solution/fen-xiang-hua-dong-chuang-kou-mo-ban-mia-f76z/\n",
    "\n",
    "《挑战程序设计竞赛》这本书中把滑动窗口叫做「虫取法」，我觉得非常生动形象。因为滑动窗口的两个指针移动的过程和虫子爬动的过程非常像：前脚不动，把后脚移动过来；后脚不动，把前脚向前移动。\n",
    "\n",
    "\n",
    "滑动窗口中用到了左右两个指针，它们移动的思路是：以右指针作为驱动，拖着左指针向前走。右指针每次只移动一步，而左指针在内部 while 循环中每次可能移动多步。右指针是主动前移，探索未知的新区域；左指针是被迫移动，负责寻找满足题意的区间。\n",
    "\n",
    "模板的整体思想是：\n",
    "\n",
    "定义两个指针 left 和 right 分别指向区间的开头和结尾，注意是闭区间；定义 sums 用来统计该区间内的各个字符出现次数；\n",
    "第一重 while 循环是为了判断 right 指针的位置是否超出了数组边界；当 right 每次到了新位置，需要增加 right 指针的求和/计数；\n",
    "第二重 while 循环是让 left 指针向右移动到 [left, right] 区间符合题意的位置；当 left 每次移动到了新位置，需要减少 left 指针的求和/计数；\n",
    "在第二重 while 循环之后，成功找到了一个符合题意的 [left, right] 区间，题目要求最大的区间长度，因此更新 res 为 max(res, 当前区间的长度) 。\n",
    "right 指针每次向右移动一步，开始探索新的区间。\n",
    "模板中的 sums 需要根据题目意思具体去修改，本题是求和题目因此把sums 定义成整数用于求和；如果是计数题目，就需要改成字典用于计数。当左右指针发生变化的时候，都需要更新 sums 。\n",
    "\n",
    "另外一个需要根据题目去修改的是内层 while 循环的判断条件，即： 区间 [left, right][left,right] 不符合题意 。对于本题而言，就是该区间内的 0 的个数 超过了 2 。"
   ]
  }
 ],
 "metadata": {
  "language_info": {
   "name": "python"
  },
  "orig_nbformat": 4
 },
 "nbformat": 4,
 "nbformat_minor": 2
}
