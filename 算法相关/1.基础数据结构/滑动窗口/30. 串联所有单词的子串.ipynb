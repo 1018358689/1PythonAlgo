{
 "cells": [
  {
   "cell_type": "code",
   "execution_count": 15,
   "metadata": {},
   "outputs": [
    {
     "data": {
      "text/plain": [
       "[0, 9]"
      ]
     },
     "execution_count": 15,
     "metadata": {},
     "output_type": "execute_result"
    }
   ],
   "source": [
    "from collections import Counter\n",
    "\n",
    "\n",
    "def f(s: str, words: list):\n",
    "    s += '_'\n",
    "    target = Counter(words)\n",
    "    szWord = len(words[0])\n",
    "    sz = len(words) * szWord\n",
    "    l, r = 0, sz  # [l,r)\n",
    "    ans = []\n",
    "    while r < len(s):\n",
    "        word = s[l:r]\n",
    "        cur = [word[i:i + szWord] for i in range(0, len(word), szWord)]\n",
    "        # print(word,cur)\n",
    "        if Counter(cur) == target:\n",
    "            ans.append(l)\n",
    "        l += 1\n",
    "        r += 1\n",
    "    return ans\n",
    "\n",
    "\n",
    "f('barfoothefoobarman', ['foo', 'bar'])\n"
   ]
  },
  {
   "cell_type": "code",
   "execution_count": null,
   "metadata": {},
   "outputs": [],
   "source": []
  }
 ],
 "metadata": {
  "interpreter": {
   "hash": "a5f34674cfcc9b13426a2d112c686bc132e4ef443f1487e707e7c3787d6bcf89"
  },
  "kernelspec": {
   "display_name": "Python 3.10.4 64-bit (windows store)",
   "language": "python",
   "name": "python3"
  },
  "language_info": {
   "codemirror_mode": {
    "name": "ipython",
    "version": 3
   },
   "file_extension": ".py",
   "mimetype": "text/x-python",
   "name": "python",
   "nbconvert_exporter": "python",
   "pygments_lexer": "ipython3",
   "version": "3.10.4"
  },
  "orig_nbformat": 4
 },
 "nbformat": 4,
 "nbformat_minor": 2
}
