{
 "cells": [
  {
   "cell_type": "code",
   "execution_count": 10,
   "metadata": {},
   "outputs": [
    {
     "data": {
      "text/plain": [
       "[2]"
      ]
     },
     "execution_count": 10,
     "metadata": {},
     "output_type": "execute_result"
    }
   ],
   "source": [
    "a = [1,2,3]\n",
    "a[1:2]"
   ]
  },
  {
   "cell_type": "code",
   "execution_count": null,
   "metadata": {},
   "outputs": [],
   "source": [
    "def lengthOfLongestSubstring(s):\n",
    "    res = 0\n",
    "    l = r = 0\n",
    "    while r <= len(s) - 1:\n",
    "        while s[r] in s[l:r]:\n",
    "            l += 1\n",
    "        res = max(res, r + 1 - l)\n",
    "        r += 1\n",
    "    return res\n",
    "\n",
    "\n",
    "lengthOfLongestSubstring('abcabcbb'), lengthOfLongestSubstring('bbbbb'), lengthOfLongestSubstring('pwwkew')\n",
    "# lengthOfLongestSubstring('')"
   ]
  },
  {
   "cell_type": "code",
   "execution_count": null,
   "metadata": {},
   "outputs": [],
   "source": [
    "from collections import deque\n",
    "s = deque('abc')\n",
    "s[1:2]"
   ]
  },
  {
   "cell_type": "code",
   "execution_count": 33,
   "metadata": {},
   "outputs": [
    {
     "data": {
      "text/plain": [
       "0"
      ]
     },
     "execution_count": 33,
     "metadata": {},
     "output_type": "execute_result"
    }
   ],
   "source": [
    "from collections import deque\n",
    "\n",
    "\n",
    "def lengthOfLongestSubstring(s):\n",
    "    res = 0\n",
    "    window = deque()\n",
    "    l = r = 0\n",
    "    while r <= len(s) - 1:\n",
    "        window.append(s[r])\n",
    "        while s[r] in s[l:r]:\n",
    "            window.popleft()\n",
    "            l += 1\n",
    "        res = max(res, len(window))\n",
    "        r += 1\n",
    "    return res\n",
    "\n",
    "\n",
    "lengthOfLongestSubstring('abcabcbb'), lengthOfLongestSubstring('bbbbb'), lengthOfLongestSubstring('pwwkew')\n",
    "lengthOfLongestSubstring('')"
   ]
  },
  {
   "cell_type": "code",
   "execution_count": 34,
   "metadata": {},
   "outputs": [
    {
     "data": {
      "text/plain": [
       "(3, 1, 3)"
      ]
     },
     "execution_count": 34,
     "metadata": {},
     "output_type": "execute_result"
    }
   ],
   "source": [
    "def lengthOfLongestSubstring(s):\n",
    "    \"\"\"\n",
    "    :type s: str\n",
    "    :rtype: int\n",
    "    \"\"\"\n",
    "    if not s: return 0\n",
    "    L = R = 0\n",
    "    maxlength = 1\n",
    "    for R in range(1,len(s)):\n",
    "        # print(L,R)\n",
    "        if s[R] in s[L:R]:\n",
    "            maxlength = max((maxlength, R - L))\n",
    "            while s[L] != s[R]:\n",
    "                L += 1\n",
    "                # print(L,R)\n",
    "            L += 1\n",
    "            # print(L,R)\n",
    "    maxlength = max((maxlength, R - L + 1))\n",
    "    return maxlength\n",
    "lengthOfLongestSubstring('abcabcbb'), lengthOfLongestSubstring('bbbbb'), lengthOfLongestSubstring('pwwkew')\n"
   ]
  },
  {
   "cell_type": "code",
   "execution_count": null,
   "metadata": {},
   "outputs": [],
   "source": []
  }
 ],
 "metadata": {
  "interpreter": {
   "hash": "004de6046f1b3d314f33fdb43a2dc798b2646e5600efd8df5066c8b63a00ff6d"
  },
  "kernelspec": {
   "display_name": "Python 3.8.10 64-bit",
   "language": "python",
   "name": "python3"
  },
  "language_info": {
   "codemirror_mode": {
    "name": "ipython",
    "version": 3
   },
   "file_extension": ".py",
   "mimetype": "text/x-python",
   "name": "python",
   "nbconvert_exporter": "python",
   "pygments_lexer": "ipython3",
   "version": "3.10.4"
  },
  "orig_nbformat": 4
 },
 "nbformat": 4,
 "nbformat_minor": 2
}
