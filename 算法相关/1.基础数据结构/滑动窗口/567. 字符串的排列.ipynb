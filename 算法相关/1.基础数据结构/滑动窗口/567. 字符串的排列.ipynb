{
 "cells": [
  {
   "cell_type": "code",
   "execution_count": 46,
   "metadata": {},
   "outputs": [
    {
     "data": {
      "text/plain": [
       "(True, False, False, True)"
      ]
     },
     "execution_count": 46,
     "metadata": {},
     "output_type": "execute_result"
    }
   ],
   "source": [
    "def checkInclusion(s1: str, s2: str) -> bool:\n",
    "    if len(s1)>len(s2):return False\n",
    "    from collections import defaultdict\n",
    "    need, window = defaultdict(int), defaultdict(int)\n",
    "    for s in s1:\n",
    "        need[s] += 1\n",
    "    for i in range(len(s1) - 1):\n",
    "        window[s2[i]] += 1\n",
    "    window_length = len(s1)\n",
    "    L = 0\n",
    "    R = L + window_length - 1  # [L,R]\n",
    "    while R <= len(s2) - 1:\n",
    "        # 窗口更新\n",
    "        c = s2[R]\n",
    "        window[c] += 1\n",
    "        # 窗口判断\n",
    "        if window == need:\n",
    "            return True\n",
    "        # 窗口更新\n",
    "        d = s2[L]\n",
    "        window[d] -= 1\n",
    "        if window[d]==0:\n",
    "            del window[d]\n",
    "        # 移动窗口\n",
    "        L += 1\n",
    "        R = L + window_length - 1\n",
    "    return False\n",
    "\n",
    "\n",
    "checkInclusion('ab', 'eidbaooo'), checkInclusion('abc', 'eidboaoo'), checkInclusion('ab', 'eidboaoo'),checkInclusion('adc','dcda')\n",
    "# checkInclusion('horse','ros')"
   ]
  },
  {
   "cell_type": "code",
   "execution_count": 25,
   "metadata": {},
   "outputs": [
    {
     "data": {
      "text/plain": [
       "(True, False, False, True)"
      ]
     },
     "execution_count": 25,
     "metadata": {},
     "output_type": "execute_result"
    }
   ],
   "source": [
    "def checkInclusion(s1: str, s2: str) -> bool:\n",
    "    from collections import Counter\n",
    "\n",
    "    window_length = len(s1)\n",
    "    counter1 = Counter(s1)\n",
    "    L = 0\n",
    "    R = L + window_length - 1  # [L,R]\n",
    "    while R <= len(s2) - 1:\n",
    "        counter2 = Counter(s2[L:R + 1])\n",
    "        if counter1 == counter2:\n",
    "            return True\n",
    "        L += 1\n",
    "        R = L + window_length - 1\n",
    "    return False\n",
    "\n",
    "\n",
    "checkInclusion('ab', 'eidbaooo'), checkInclusion('abc', 'eidboaoo'), checkInclusion('ab', 'eidboaoo'),checkInclusion('adc','dcda')\n"
   ]
  },
  {
   "cell_type": "code",
   "execution_count": null,
   "metadata": {},
   "outputs": [],
   "source": []
  }
 ],
 "metadata": {
  "interpreter": {
   "hash": "004de6046f1b3d314f33fdb43a2dc798b2646e5600efd8df5066c8b63a00ff6d"
  },
  "kernelspec": {
   "display_name": "Python 3.8.10 64-bit",
   "language": "python",
   "name": "python3"
  },
  "language_info": {
   "codemirror_mode": {
    "name": "ipython",
    "version": 3
   },
   "file_extension": ".py",
   "mimetype": "text/x-python",
   "name": "python",
   "nbconvert_exporter": "python",
   "pygments_lexer": "ipython3",
   "version": "3.8.10"
  },
  "orig_nbformat": 4
 },
 "nbformat": 4,
 "nbformat_minor": 2
}
