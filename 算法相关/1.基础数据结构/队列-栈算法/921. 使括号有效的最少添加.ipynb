{
 "cells": [
  {
   "cell_type": "markdown",
   "metadata": {},
   "source": [
    "输入一个括号字符串，返回使其成为合法括号串所需添加的最少括号数。\n",
    "\n",
    "示例 1：\n",
    "\n",
    "输入：\"())\"\n",
    "输出：1\n",
    "解释：添加 1 个左括号成为 (())\n",
    "示例 2：\n",
    "输入：\"(((\"\n",
    "输出：3\n",
    "解释：添加 3 个左括号成为 ()()()"
   ]
  },
  {
   "cell_type": "code",
   "execution_count": 1,
   "metadata": {},
   "outputs": [
    {
     "data": {
      "text/plain": [
       "(1, 3)"
      ]
     },
     "execution_count": 1,
     "metadata": {},
     "output_type": "execute_result"
    }
   ],
   "source": [
    "def f(s: str):\n",
    "    res = rneed = 0\n",
    "    for i in s:\n",
    "        if i == '(':\n",
    "            rneed += 1\n",
    "        else:\n",
    "            rneed -= 1\n",
    "            if rneed == -1:\n",
    "                res += 1\n",
    "                rneed = 0\n",
    "    return res + rneed\n",
    "\n",
    "\n",
    "f('())'), f('(((')\n"
   ]
  },
  {
   "cell_type": "code",
   "execution_count": null,
   "metadata": {},
   "outputs": [],
   "source": []
  }
 ],
 "metadata": {
  "interpreter": {
   "hash": "004de6046f1b3d314f33fdb43a2dc798b2646e5600efd8df5066c8b63a00ff6d"
  },
  "kernelspec": {
   "display_name": "Python 3.8.10 64-bit",
   "language": "python",
   "name": "python3"
  },
  "language_info": {
   "codemirror_mode": {
    "name": "ipython",
    "version": 3
   },
   "file_extension": ".py",
   "mimetype": "text/x-python",
   "name": "python",
   "nbconvert_exporter": "python",
   "pygments_lexer": "ipython3",
   "version": "3.8.10"
  },
  "orig_nbformat": 4
 },
 "nbformat": 4,
 "nbformat_minor": 2
}
