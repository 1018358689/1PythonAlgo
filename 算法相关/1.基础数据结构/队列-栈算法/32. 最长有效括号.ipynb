{
 "cells": [
  {
   "cell_type": "markdown",
   "metadata": {},
   "source": [
    "给你一个只包含'(' 和')' 的字符串，找出最长有效（格式正确且连续）括号子串的长度。\n",
    "\n",
    "示例 1：\n",
    "\n",
    "输入：s = \"(()(()()(\"\n",
    "输出：4\n",
    "解释：最长有效括号子串是 \"()()\""
   ]
  },
  {
   "cell_type": "markdown",
   "metadata": {},
   "source": [
    "用栈模拟一遍，将所有无法匹配的括号的位置全部置1\n",
    "例如: \"()(()\"的mark为[0, 0, 1, 0, 0]\n",
    "再例如: \")()((())\"的mark为[1, 0, 0, 1, 0, 0, 0, 0]\n",
    "经过这样的处理后, 此题就变成了寻找最长的连续的0的长度"
   ]
  },
  {
   "cell_type": "code",
   "execution_count": 35,
   "metadata": {},
   "outputs": [
    {
     "data": {
      "text/plain": [
       "(2, 4, 0)"
      ]
     },
     "execution_count": 35,
     "metadata": {},
     "output_type": "execute_result"
    }
   ],
   "source": [
    "from itertools import groupby\n",
    "\n",
    "\n",
    "def f(s: str):\n",
    "    mark = [0] * len(s)\n",
    "    stack = []\n",
    "    for i, n in enumerate(s):\n",
    "        if n == '(': # 左括号入栈\n",
    "            stack.append(i)\n",
    "        else: # 如果右括号\n",
    "            if stack: # 栈不为空 则弹出\n",
    "                stack.pop()\n",
    "            else: # 栈为空 则标记i为1\n",
    "                mark[i] = 1\n",
    "    for i in stack: # 剩下未匹配的i都为1\n",
    "        mark[i] = 1\n",
    "\n",
    "    length = 0\n",
    "    for i, g in groupby(mark):\n",
    "        if i == 0:\n",
    "            length = max(length, len(list(g)))\n",
    "    return length\n",
    "\n",
    "\n",
    "f('(()'),f(')()())'),f('')\n"
   ]
  },
  {
   "cell_type": "code",
   "execution_count": 44,
   "metadata": {},
   "outputs": [
    {
     "data": {
      "text/plain": [
       "(2, 4, 0)"
      ]
     },
     "execution_count": 44,
     "metadata": {},
     "output_type": "execute_result"
    }
   ],
   "source": [
    "from itertools import groupby\n",
    "\n",
    "\n",
    "def f(s: str):\n",
    "    mark = [0] * len(s)\n",
    "    stack = []\n",
    "    for i, n in enumerate(s):\n",
    "        if n == '(':  # 左括号入栈\n",
    "            stack.append(i)\n",
    "        else:  # 如果右括号\n",
    "            if stack:  # 栈不为空 则弹出\n",
    "                stack.pop()\n",
    "            else:  # 栈为空 则标记i为1\n",
    "                mark[i] = 1\n",
    "    for i in stack:  # 剩下未匹配的i都为1\n",
    "        mark[i] = 1\n",
    "\n",
    "    length = 0\n",
    "    cnt = 0\n",
    "    for m in mark:\n",
    "        if m == 0:\n",
    "            cnt += 1\n",
    "            length = max(length, cnt)\n",
    "        elif m == 1:\n",
    "            cnt = 0\n",
    "\n",
    "    return length\n",
    "\n",
    "\n",
    "f('(()'), f(')()())'), f('')\n"
   ]
  },
  {
   "cell_type": "code",
   "execution_count": 4,
   "metadata": {},
   "outputs": [
    {
     "data": {
      "text/plain": [
       "6"
      ]
     },
     "execution_count": 4,
     "metadata": {},
     "output_type": "execute_result"
    }
   ],
   "source": [
    "# 假如括号包含()[]{}\n",
    "# ')([]{){[]()})' -> {[]()}\n",
    "def f(s: str):\n",
    "    ha = {'(': ')', '[': ']', '{': '}'}\n",
    "    mark = [0] * len(s)\n",
    "    stack = []\n",
    "    for i, n in enumerate(s):\n",
    "        if n in ha:\n",
    "            stack.append((i, n))\n",
    "        else:\n",
    "            if stack and ha[stack[-1][1]] == n:\n",
    "                stack.pop()\n",
    "            else:\n",
    "                mark[i] = 1\n",
    "    for i, n in stack:\n",
    "        mark[i] = 1\n",
    "    cnt = 0\n",
    "    res = 0\n",
    "    for m in mark:\n",
    "        if m == 0:\n",
    "            cnt += 1\n",
    "            res = max(res, cnt)\n",
    "        else:\n",
    "            cnt = 0\n",
    "    return res\n",
    "\n",
    "\n",
    "f(')([]{){[]()})')"
   ]
  },
  {
   "cell_type": "code",
   "execution_count": 2,
   "metadata": {},
   "outputs": [],
   "source": [
    "l= [(1,'a'),(2,'b')]\n",
    "for i,n in l:\n",
    "    print(n)"
   ]
  },
  {
   "cell_type": "code",
   "execution_count": null,
   "metadata": {},
   "outputs": [],
   "source": []
  }
 ],
 "metadata": {
  "interpreter": {
   "hash": "004de6046f1b3d314f33fdb43a2dc798b2646e5600efd8df5066c8b63a00ff6d"
  },
  "kernelspec": {
   "display_name": "Python 3.8.10 64-bit",
   "language": "python",
   "name": "python3"
  },
  "language_info": {
   "codemirror_mode": {
    "name": "ipython",
    "version": 3
   },
   "file_extension": ".py",
   "mimetype": "text/x-python",
   "name": "python",
   "nbconvert_exporter": "python",
   "pygments_lexer": "ipython3",
   "version": "3.8.10"
  },
  "orig_nbformat": 4
 },
 "nbformat": 4,
 "nbformat_minor": 2
}
