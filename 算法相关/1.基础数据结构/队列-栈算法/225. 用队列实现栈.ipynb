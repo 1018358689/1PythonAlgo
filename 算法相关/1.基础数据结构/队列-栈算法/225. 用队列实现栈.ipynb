{
 "cells": [
  {
   "cell_type": "markdown",
   "metadata": {},
   "source": [
    "请你仅使用两个队列实现一个后入先出（LIFO）的栈，并支持普通栈的全部四种操作（push、top、pop和empty）。\n",
    "\n",
    "实现MyStack类：\n",
    "\n",
    "1、void push(int x)将元素 x 压入栈顶。\n",
    "\n",
    "2、int pop()移除并返回栈顶元素。\n",
    "\n",
    "3、int top()返回栈顶元素。\n",
    "\n",
    "4、boolean empty()如果栈是空的，返回true；否则，返回false。"
   ]
  },
  {
   "cell_type": "code",
   "execution_count": null,
   "metadata": {},
   "outputs": [],
   "source": [
    "from collections import deque\n",
    "\n",
    "\n",
    "class MyStack:\n",
    "    def __init__(self):\n",
    "        self.queue = deque()\n",
    "\n",
    "    def push(self, x: int) -> None:\n",
    "        self.queue.append(x)\n",
    "\n",
    "    def pop(self) -> int:\n",
    "        queue_helper = deque()\n",
    "        while len(self.queue) != 1:\n",
    "            queue_helper.append(self.queue.popleft())\n",
    "        res = self.queue.popleft()\n",
    "        while queue_helper:\n",
    "            self.queue.append(queue_helper.popleft())\n",
    "        return res\n",
    "\n",
    "    def top(self) -> int:\n",
    "        return self.queue[-1]\n",
    "\n",
    "    def empty(self) -> bool:\n",
    "        return len(self.queue) == 0\n",
    "\n",
    "\n",
    "# Your MyStack object will be instantiated and called as such:\n",
    "# obj = MyStack()\n",
    "# obj.push(x)\n",
    "# param_2 = obj.pop()\n",
    "# param_3 = obj.top()\n",
    "# param_4 = obj.empty()"
   ]
  }
 ],
 "metadata": {
  "language_info": {
   "name": "python"
  },
  "orig_nbformat": 4
 },
 "nbformat": 4,
 "nbformat_minor": 2
}
