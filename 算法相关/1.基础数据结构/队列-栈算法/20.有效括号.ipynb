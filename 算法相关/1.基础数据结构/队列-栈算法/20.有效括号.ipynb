{
 "cells": [
  {
   "cell_type": "markdown",
   "metadata": {},
   "source": [
    "给定一个只包括'('，')'，'{'，'}'，'['，']' 的字符串s，判断字符串是否有效。\n",
    "\n",
    "有效字符串需满足：\n",
    "\n",
    "1、 左括号必须用相同类型的右括号闭合。\n",
    "\n",
    "2、 左括号必须以正确的顺序闭合。\n",
    "\n",
    "示例 1：\n",
    "\n",
    "输入：s = \"([)]\"\n",
    "输出：false\n",
    "示例 2：\n",
    "\n",
    "输入：s = \"()[]{}\"\n",
    "输出：true"
   ]
  },
  {
   "cell_type": "code",
   "execution_count": 3,
   "metadata": {},
   "outputs": [
    {
     "data": {
      "text/plain": [
       "(True, True, False)"
      ]
     },
     "execution_count": 3,
     "metadata": {},
     "output_type": "execute_result"
    }
   ],
   "source": [
    "def f(s: str):\n",
    "    ha = {'(': ')', '[': ']', '{': '}'}\n",
    "    stack = []\n",
    "    for i in s:\n",
    "        if i in ha:\n",
    "            stack.append(i)\n",
    "        else:\n",
    "            if stack and ha[stack[-1]] == i:\n",
    "                stack.pop()\n",
    "            else:\n",
    "                return False\n",
    "    return not stack\n",
    "\n",
    "\n",
    "f('()'), f('()[]{}'), f('(]')\n"
   ]
  },
  {
   "cell_type": "code",
   "execution_count": null,
   "metadata": {},
   "outputs": [],
   "source": []
  }
 ],
 "metadata": {
  "interpreter": {
   "hash": "004de6046f1b3d314f33fdb43a2dc798b2646e5600efd8df5066c8b63a00ff6d"
  },
  "kernelspec": {
   "display_name": "Python 3.8.10 64-bit",
   "language": "python",
   "name": "python3"
  },
  "language_info": {
   "codemirror_mode": {
    "name": "ipython",
    "version": 3
   },
   "file_extension": ".py",
   "mimetype": "text/x-python",
   "name": "python",
   "nbconvert_exporter": "python",
   "pygments_lexer": "ipython3",
   "version": "3.8.10"
  },
  "orig_nbformat": 4
 },
 "nbformat": 4,
 "nbformat_minor": 2
}
