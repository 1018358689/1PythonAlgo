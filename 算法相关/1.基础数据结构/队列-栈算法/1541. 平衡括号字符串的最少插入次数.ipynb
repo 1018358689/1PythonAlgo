{
 "cells": [
  {
   "cell_type": "markdown",
   "metadata": {},
   "source": [
    "给你一个括号字符串 s，它只包含字符 '('和 ')'。一个括号字符串被称为平衡的当它满足：\n",
    "\n",
    "1、任何左括号 '(' 必须对应两个连续的右括号 '))'。\n",
    "\n",
    "2、左括号 '(' 必须在对应的连续两个右括号 '))' 之前。\n",
    "\n",
    "比方说 \"())\"，\"())(())))\"和 \"(())())))\" 都是平衡的，\")()\"，\"()))\"和 \"(()))\" 都是不平衡的。\n",
    "\n",
    "你可以在任意位置插入字符'('和')'，请你返回让s 平衡的最少插入次数。\n",
    "\n",
    "示例 1：\n",
    "\n",
    "输入：s = \"(()))\"\n",
    "输出：1\n",
    "解释：第二个左括号有与之匹配的两个右括号，但是第一个左括号只有一个右括号。我们需要在字符串结尾额外增加一个 ')' 使字符串变成平衡字符串 \"(())))\"。"
   ]
  },
  {
   "cell_type": "code",
   "execution_count": 19,
   "metadata": {},
   "outputs": [
    {
     "data": {
      "text/plain": [
       "3"
      ]
     },
     "execution_count": 19,
     "metadata": {},
     "output_type": "execute_result"
    }
   ],
   "source": [
    "def f(s: str):\n",
    "    res = rneed = 0\n",
    "    for i in s:\n",
    "        if i == '(':\n",
    "            rneed += 2  # 碰到左括号 增加两个右括号需求\n",
    "            if rneed % 2 == 1:  # 右括号需求奇数\n",
    "                res += 1  # 插入一个右括号\n",
    "                rneed -= 1  # 减少一个右括号需求\n",
    "        else:\n",
    "            rneed -= 1  # 碰到右括号 减去一个右括号需求\n",
    "            if rneed == -1:  # 碰到多余右括号\n",
    "                res += 1  # 插入一个左括号\n",
    "                rneed = 1  # 增加一个右括号需求\n",
    "    return res + rneed\n",
    "\n",
    "\n",
    "# f('(()))'), f(')'), f('())')\n",
    "# f('))())(')\n",
    "f(\"()())))()\")"
   ]
  },
  {
   "cell_type": "code",
   "execution_count": null,
   "metadata": {},
   "outputs": [],
   "source": []
  }
 ],
 "metadata": {
  "interpreter": {
   "hash": "004de6046f1b3d314f33fdb43a2dc798b2646e5600efd8df5066c8b63a00ff6d"
  },
  "kernelspec": {
   "display_name": "Python 3.8.10 64-bit",
   "language": "python",
   "name": "python3"
  },
  "language_info": {
   "codemirror_mode": {
    "name": "ipython",
    "version": 3
   },
   "file_extension": ".py",
   "mimetype": "text/x-python",
   "name": "python",
   "nbconvert_exporter": "python",
   "pygments_lexer": "ipython3",
   "version": "3.8.10"
  },
  "orig_nbformat": 4
 },
 "nbformat": 4,
 "nbformat_minor": 2
}
