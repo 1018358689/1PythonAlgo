{
 "cells": [
  {
   "cell_type": "markdown",
   "metadata": {},
   "source": [
    "给定两个由一些 闭区间 组成的列表，firstList 和 secondList ，其中 firstList[i] = [starti, endi] 而 secondList[j] = [startj, endj] 。每个区间列表都是成对 不相交 的，并且 已经排序 。\n",
    "返回这 两个区间列表的交集 。\n",
    "形式上，闭区间 [a, b]（其中 a <= b）表示实数 x 的集合，而 a <= x <= b 。\n",
    "两个闭区间的 交集 是一组实数，要么为空集，要么为闭区间。例如，[1, 3] 和 [2, 4] 的交集为 [2, 3] 。\n",
    "\n",
    "\n",
    "示例 1：\n",
    "输入：firstList = [[0,2],[5,10],[13,23],[24,25]], secondList = [[1,5],[8,12],[15,24],[25,26]]\n",
    "输出：[[1,2],[5,5],[8,10],[15,23],[24,24],[25,25]]\n",
    "\n",
    "示例 2：\n",
    "输入：firstList = [[1,3],[5,9]], secondList = []\n",
    "输出：[]\n",
    "\n",
    "示例 3：\n",
    "输入：firstList = [], secondList = [[4,8],[10,12]]\n",
    "输出：[]\n",
    "\n",
    "示例 4：\n",
    "输入：firstList = [[1,7]], secondList = [[3,10]]\n",
    "输出：[[3,7]]\n",
    " \n",
    "提示：\n",
    "\n",
    "0 <= firstList.length, secondList.length <= 1000\n",
    "firstList.length + secondList.length >= 1\n",
    "0 <= starti < endi <= 109\n",
    "endi < starti+1\n",
    "0 <= startj < endj <= 109 \n",
    "endj < startj+1"
   ]
  },
  {
   "cell_type": "code",
   "execution_count": 4,
   "metadata": {},
   "outputs": [
    {
     "data": {
      "text/plain": [
       "[[1, 2], [5, 5], [8, 10], [15, 23], [24, 24], [25, 25]]"
      ]
     },
     "execution_count": 4,
     "metadata": {},
     "output_type": "execute_result"
    }
   ],
   "source": [
    "# https://mp.weixin.qq.com/s?__biz=MzAxODQxMDM0Mw==&mid=2247487316&idx=1&sn=95cfbbd24f1cb5d8c07c71c2ba15246a&scene=21#wechat_redirect\n",
    "def f(firstList: list, secondList: list):\n",
    "    a = b = 0\n",
    "    res = []\n",
    "    while a < len(firstList) and b < len(secondList):\n",
    "        a1, a2 = firstList[a]\n",
    "        b1, b2 = secondList[b]\n",
    "        if not (a1 > b2 or b1 > a2):\n",
    "            res.append([max(a1, b1), min(a2, b2)])\n",
    "        if b2 < a2:\n",
    "            b += 1\n",
    "        else:\n",
    "            a += 1\n",
    "    return res\n",
    "\n",
    "\n",
    "f([[0, 2], [5, 10], [13, 23], [24, 25]], [[1, 5], [8, 12], [15, 24], [25, 26]])\n"
   ]
  },
  {
   "cell_type": "code",
   "execution_count": null,
   "metadata": {},
   "outputs": [],
   "source": []
  }
 ],
 "metadata": {
  "interpreter": {
   "hash": "004de6046f1b3d314f33fdb43a2dc798b2646e5600efd8df5066c8b63a00ff6d"
  },
  "kernelspec": {
   "display_name": "Python 3.8.10 64-bit",
   "language": "python",
   "name": "python3"
  },
  "language_info": {
   "codemirror_mode": {
    "name": "ipython",
    "version": 3
   },
   "file_extension": ".py",
   "mimetype": "text/x-python",
   "name": "python",
   "nbconvert_exporter": "python",
   "pygments_lexer": "ipython3",
   "version": "3.8.10"
  },
  "orig_nbformat": 4
 },
 "nbformat": 4,
 "nbformat_minor": 2
}
