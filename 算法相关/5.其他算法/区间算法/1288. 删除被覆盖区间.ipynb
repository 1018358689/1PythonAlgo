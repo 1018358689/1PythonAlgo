{
 "cells": [
  {
   "cell_type": "markdown",
   "metadata": {},
   "source": [
    "给你一个区间列表，请你删除列表中被其他区间所覆盖的区间。\n",
    "\n",
    "只有当 c <= a 且 b <= d 时，我们才认为区间 [a,b) 被区间 [c,d) 覆盖。\n",
    "\n",
    "在完成所有删除操作后，请你返回列表中剩余区间的数目。\n",
    "\n",
    "示例：\n",
    "输入：intervals = [[1,4],[3,6],[2,8]]\n",
    "输出：2\n",
    "解释：区间 [3,6] 被区间 [2,8] 覆盖，所以它被删除了。\n",
    "\n",
    "提示：​​​​​​\n",
    "\n",
    "1 <= intervals.length <= 1000\n",
    "0 <= intervals[i][0] < intervals[i][1] <= 10^5\n",
    "对于所有的 i != j：intervals[i] != intervals[j]"
   ]
  },
  {
   "cell_type": "code",
   "execution_count": 2,
   "metadata": {},
   "outputs": [
    {
     "data": {
      "text/plain": [
       "1"
      ]
     },
     "execution_count": 2,
     "metadata": {},
     "output_type": "execute_result"
    }
   ],
   "source": [
    "def f(intervals: list):\n",
    "    intervals.sort(key=lambda x: (x[0], -x[1]))\n",
    "    l, r = intervals[0][0], intervals[0][1]\n",
    "    res = 0\n",
    "    for s, e in intervals[1:]:\n",
    "        if l <= s and e <= r:\n",
    "            res += 1\n",
    "        elif l <= s <= r and e >= r:\n",
    "            r = e\n",
    "        elif r <= s:\n",
    "            l = s\n",
    "            r = e\n",
    "    return len(intervals) - res\n",
    "\n",
    "\n",
    "f([[1, 4], [3, 6], [2, 8]])\n"
   ]
  },
  {
   "cell_type": "code",
   "execution_count": 3,
   "metadata": {},
   "outputs": [
    {
     "data": {
      "text/plain": [
       "2"
      ]
     },
     "execution_count": 3,
     "metadata": {},
     "output_type": "execute_result"
    }
   ],
   "source": [
    "def f(intervals: list):\n",
    "    intervals.sort(key=lambda x: (x[0], -x[1]))\n",
    "    l, r = intervals[0][0], intervals[0][1]\n",
    "    res = 0\n",
    "    for s, e in intervals[1:]:\n",
    "        if l <= s and e <= r:\n",
    "            res += 1\n",
    "        elif l <= s and e >= r:\n",
    "            l = s\n",
    "            r = e\n",
    "        elif r <= s:\n",
    "            l = s\n",
    "            r = e\n",
    "    return len(intervals) - res\n",
    "\n",
    "\n",
    "f([[1, 4], [3, 6], [2, 8]])\n"
   ]
  },
  {
   "cell_type": "code",
   "execution_count": 6,
   "metadata": {},
   "outputs": [
    {
     "data": {
      "text/plain": [
       "2"
      ]
     },
     "execution_count": 6,
     "metadata": {},
     "output_type": "execute_result"
    }
   ],
   "source": [
    "def f(intervals: list):\n",
    "    intervals.sort(key=lambda x: (x[0], -x[1]))\n",
    "    l, r = intervals[0][0], intervals[0][1]\n",
    "    res = 0\n",
    "    for s, e in intervals[1:]:\n",
    "        if l <= s and e <= r:\n",
    "            res += 1\n",
    "        elif l <= s and e >= r or r<=s:\n",
    "            l = s\n",
    "            r = e\n",
    "    return len(intervals) - res\n",
    "\n",
    "\n",
    "f([[1, 4], [3, 6], [2, 8]])\n"
   ]
  },
  {
   "cell_type": "code",
   "execution_count": 9,
   "metadata": {},
   "outputs": [
    {
     "data": {
      "text/plain": [
       "2"
      ]
     },
     "execution_count": 9,
     "metadata": {},
     "output_type": "execute_result"
    }
   ],
   "source": [
    "def f(intervals: list):\n",
    "    intervals.sort(key=lambda x: (x[0], -x[1]))\n",
    "    r = intervals[0][1]\n",
    "    res = 0\n",
    "    for _, e in intervals[1:]:\n",
    "        if e <= r:\n",
    "            res += 1\n",
    "        elif r < e:\n",
    "            r = e\n",
    "    return len(intervals) - res\n",
    "\n",
    "\n",
    "f([[1, 4], [3, 6], [2, 8]])\n"
   ]
  },
  {
   "cell_type": "code",
   "execution_count": null,
   "metadata": {},
   "outputs": [],
   "source": []
  }
 ],
 "metadata": {
  "interpreter": {
   "hash": "004de6046f1b3d314f33fdb43a2dc798b2646e5600efd8df5066c8b63a00ff6d"
  },
  "kernelspec": {
   "display_name": "Python 3.8.10 64-bit",
   "language": "python",
   "name": "python3"
  },
  "language_info": {
   "codemirror_mode": {
    "name": "ipython",
    "version": 3
   },
   "file_extension": ".py",
   "mimetype": "text/x-python",
   "name": "python",
   "nbconvert_exporter": "python",
   "pygments_lexer": "ipython3",
   "version": "3.8.10"
  },
  "orig_nbformat": 4
 },
 "nbformat": 4,
 "nbformat_minor": 2
}
