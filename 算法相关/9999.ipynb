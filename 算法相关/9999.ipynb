{
 "cells": [
  {
   "cell_type": "code",
   "execution_count": 3,
   "metadata": {},
   "outputs": [
    {
     "name": "stdout",
     "output_type": "stream",
     "text": [
      "2\n",
      "6\n"
     ]
    }
   ],
   "source": [
    "# 链节点类\n",
    "\n",
    "\n",
    "class ListNode:\n",
    "\n",
    "    def __init__(self, val=0, next=None):\n",
    "\n",
    "        self.val = val\n",
    "\n",
    "        self.next = next\n",
    "\n",
    "\n",
    "# 链表类\n",
    "\n",
    "\n",
    "class LinkedList:\n",
    "\n",
    "    def __init__(self):\n",
    "\n",
    "        self.head = None\n",
    "\n",
    "\n",
    "# 根据 data 初始化一个新链表\n",
    "\n",
    "\n",
    "def create(self, data):\n",
    "\n",
    "    self.head = ListNode(0)\n",
    "\n",
    "    cur = self.head\n",
    "\n",
    "    for i in range(len(data)):\n",
    "\n",
    "        node = ListNode(data[i])\n",
    "\n",
    "        cur.next = node\n",
    "\n",
    "        cur = cur.next\n",
    "\n",
    "\n",
    "# 查询链表中值为val的节点，输出其位置(从1开始)\n",
    "\n",
    "\n",
    "def query(self, val):  #传入参数：链表头,查询的值\n",
    "    cur = self.head\n",
    "    pos = 0\n",
    "    while cur:\n",
    "        if cur.val == val:\n",
    "            print(pos)\n",
    "        cur = cur.next\n",
    "        pos += 1\n",
    "\n",
    "    # 请在此处编写查找节点的代码\n",
    "\n",
    "\n",
    "data = [2, 4, 5, 1, 3, 4]\n",
    "\n",
    "newList = LinkedList()\n",
    "\n",
    "create(newList, data)  # 使用data数组创建一个链表\n",
    "\n",
    "query(newList, 4)  # 在链表中找值为4的节点所在的位置\n"
   ]
  },
  {
   "cell_type": "code",
   "execution_count": 9,
   "metadata": {},
   "outputs": [
    {
     "name": "stdout",
     "output_type": "stream",
     "text": [
      "5\n",
      "4\n",
      "3\n",
      "2\n",
      "1\n",
      "0\n"
     ]
    }
   ],
   "source": [
    "# 链节点类\n",
    "\n",
    "\n",
    "class ListNode:\n",
    "\n",
    "    def __init__(self, val=0, next=None):\n",
    "\n",
    "        self.val = val\n",
    "\n",
    "        self.next = next\n",
    "\n",
    "\n",
    "# 链表类\n",
    "\n",
    "\n",
    "class LinkedList:\n",
    "\n",
    "    def __init__(self):\n",
    "\n",
    "        self.head = None\n",
    "\n",
    "\n",
    "# 根据 data 初始化一个新链表\n",
    "\n",
    "\n",
    "def create(self, data):\n",
    "\n",
    "    self.head = ListNode(0)\n",
    "\n",
    "    cur = self.head\n",
    "\n",
    "    for i in range(len(data)):\n",
    "\n",
    "        node = ListNode(data[i])\n",
    "\n",
    "        cur.next = node\n",
    "\n",
    "        cur = cur.next\n",
    "\n",
    "\n",
    "# 将链表倒置\n",
    "\n",
    "\n",
    "def invert(self):  #传入参数：链表头\n",
    "    cur, pre = self.head, None\n",
    "    while cur:\n",
    "        cur.next, pre, cur = pre, cur, cur.next\n",
    "    return pre\n",
    "    # 请在此处编写链表倒置的代码\n",
    "\n",
    "\n",
    "data = [1, 2, 3, 4, 5]\n",
    "\n",
    "newList = LinkedList()\n",
    "\n",
    "create(newList, data)  # 使用data数组创建一个链表\n",
    "\n",
    "invert(newList)  # 将链表倒置\n"
   ]
  },
  {
   "cell_type": "code",
   "execution_count": 1,
   "metadata": {},
   "outputs": [
    {
     "data": {
      "text/plain": [
       "'1[.]1[.]1[.]1'"
      ]
     },
     "execution_count": 1,
     "metadata": {},
     "output_type": "execute_result"
    }
   ],
   "source": [
    "address = \"1.1.1.1\"\n",
    "address.replace('.','[.]')"
   ]
  },
  {
   "cell_type": "code",
   "execution_count": 4,
   "metadata": {},
   "outputs": [
    {
     "data": {
      "text/plain": [
       "(True, False, False)"
      ]
     },
     "execution_count": 4,
     "metadata": {},
     "output_type": "execute_result"
    }
   ],
   "source": [
    "def check(s: str):\n",
    "    ha = {'(': ')', '[': ']', '{': '}'}\n",
    "    stack = []  # 栈\n",
    "    for n in s:\n",
    "        if n in ha:  # 左括号入栈\n",
    "            stack.append(n)\n",
    "        else:  # 遇到右括号则 检查栈顶是否是匹配的左括号 是则出栈 否则提前退出\n",
    "            if stack and ha[stack[-1]] == n:\n",
    "                stack.pop()\n",
    "            else:\n",
    "                return False\n",
    "    return not stack  # 检查是否全部左括号匹配完\n",
    "\n",
    "\n",
    "check('({})[{}([]())]'), check('{([])]}'), check('((){}[){}]')\n"
   ]
  },
  {
   "cell_type": "code",
   "execution_count": 10,
   "metadata": {},
   "outputs": [
    {
     "ename": "IndexError",
     "evalue": "栈空",
     "output_type": "error",
     "traceback": [
      "\u001b[1;31m---------------------------------------------------------------------------\u001b[0m",
      "\u001b[1;31mIndexError\u001b[0m                                Traceback (most recent call last)",
      "\u001b[1;32md:\\OneDrive\\PythonProject\\1PythonAlgo\\算法相关\\9999.ipynb Cell 5'\u001b[0m in \u001b[0;36m<cell line: 30>\u001b[1;34m()\u001b[0m\n\u001b[0;32m     <a href='vscode-notebook-cell:/d%3A/OneDrive/PythonProject/1PythonAlgo/%E7%AE%97%E6%B3%95%E7%9B%B8%E5%85%B3/9999.ipynb#ch0000004?line=25'>26</a>\u001b[0m         \u001b[39mreturn\u001b[39;00m \u001b[39mself\u001b[39m\u001b[39m.\u001b[39mminStack[\u001b[39m-\u001b[39m\u001b[39m1\u001b[39m]\n\u001b[0;32m     <a href='vscode-notebook-cell:/d%3A/OneDrive/PythonProject/1PythonAlgo/%E7%AE%97%E6%B3%95%E7%9B%B8%E5%85%B3/9999.ipynb#ch0000004?line=28'>29</a>\u001b[0m s \u001b[39m=\u001b[39m MinStack()\n\u001b[1;32m---> <a href='vscode-notebook-cell:/d%3A/OneDrive/PythonProject/1PythonAlgo/%E7%AE%97%E6%B3%95%E7%9B%B8%E5%85%B3/9999.ipynb#ch0000004?line=29'>30</a>\u001b[0m s\u001b[39m.\u001b[39;49mpop()\n",
      "\u001b[1;32md:\\OneDrive\\PythonProject\\1PythonAlgo\\算法相关\\9999.ipynb Cell 5'\u001b[0m in \u001b[0;36mMinStack.pop\u001b[1;34m(self)\u001b[0m\n\u001b[0;32m     <a href='vscode-notebook-cell:/d%3A/OneDrive/PythonProject/1PythonAlgo/%E7%AE%97%E6%B3%95%E7%9B%B8%E5%85%B3/9999.ipynb#ch0000004?line=11'>12</a>\u001b[0m \u001b[39mdef\u001b[39;00m \u001b[39mpop\u001b[39m(\u001b[39mself\u001b[39m):\n\u001b[0;32m     <a href='vscode-notebook-cell:/d%3A/OneDrive/PythonProject/1PythonAlgo/%E7%AE%97%E6%B3%95%E7%9B%B8%E5%85%B3/9999.ipynb#ch0000004?line=12'>13</a>\u001b[0m     \u001b[39mif\u001b[39;00m \u001b[39mnot\u001b[39;00m \u001b[39mself\u001b[39m\u001b[39m.\u001b[39mstack:\n\u001b[1;32m---> <a href='vscode-notebook-cell:/d%3A/OneDrive/PythonProject/1PythonAlgo/%E7%AE%97%E6%B3%95%E7%9B%B8%E5%85%B3/9999.ipynb#ch0000004?line=13'>14</a>\u001b[0m         \u001b[39mraise\u001b[39;00m \u001b[39mIndexError\u001b[39;00m(\u001b[39m'\u001b[39m\u001b[39m栈空\u001b[39m\u001b[39m'\u001b[39m)\n\u001b[0;32m     <a href='vscode-notebook-cell:/d%3A/OneDrive/PythonProject/1PythonAlgo/%E7%AE%97%E6%B3%95%E7%9B%B8%E5%85%B3/9999.ipynb#ch0000004?line=14'>15</a>\u001b[0m     \u001b[39mif\u001b[39;00m \u001b[39mself\u001b[39m\u001b[39m.\u001b[39mstack\u001b[39m.\u001b[39mpop() \u001b[39m==\u001b[39m \u001b[39mself\u001b[39m\u001b[39m.\u001b[39mminStack[\u001b[39m-\u001b[39m\u001b[39m1\u001b[39m]:\n\u001b[0;32m     <a href='vscode-notebook-cell:/d%3A/OneDrive/PythonProject/1PythonAlgo/%E7%AE%97%E6%B3%95%E7%9B%B8%E5%85%B3/9999.ipynb#ch0000004?line=15'>16</a>\u001b[0m         \u001b[39mself\u001b[39m\u001b[39m.\u001b[39mminStack\u001b[39m.\u001b[39mpop()\n",
      "\u001b[1;31mIndexError\u001b[0m: 栈空"
     ]
    }
   ],
   "source": [
    "class MinStack:\n",
    "\n",
    "    def __init__(self):\n",
    "        self.stack = []\n",
    "        self.minStack = [] # 存当前最小值 递减栈 非单调\n",
    "\n",
    "    def push(self, val):\n",
    "        self.stack.append(val)\n",
    "        if not self.minStack or self.minStack[-1] >= val:\n",
    "            self.minStack.append(val)\n",
    "\n",
    "    def pop(self):\n",
    "        if not self.stack:\n",
    "            raise IndexError('栈空')\n",
    "        if self.stack.pop() == self.minStack[-1]:\n",
    "            self.minStack.pop()\n",
    "\n",
    "    def top(self):\n",
    "        if not self.stack:\n",
    "            raise IndexError('栈空')\n",
    "        return self.stack[-1]\n",
    "\n",
    "    def getMin(self):\n",
    "        if not self.stack:\n",
    "            raise IndexError('栈空')\n",
    "        return self.minStack[-1]\n",
    "\n",
    "\n",
    "s = MinStack()\n",
    "s.pop()"
   ]
  },
  {
   "cell_type": "code",
   "execution_count": 2,
   "metadata": {},
   "outputs": [
    {
     "data": {
      "text/plain": [
       "([2, -1, 2], [-1, 4, 4, 5, 5])"
      ]
     },
     "execution_count": 2,
     "metadata": {},
     "output_type": "execute_result"
    }
   ],
   "source": [
    "def theNextLargerElements(arr: list):\n",
    "    lgh = len(arr)\n",
    "    stack = []  # 单调递减栈\n",
    "    ans = [-1] * lgh  # 存结果\n",
    "    for i in range(2 * lgh, -1, -1):  # 倒序遍历循环数组\n",
    "        cur = arr[i % lgh]\n",
    "        while stack and stack[-1] <= cur:  # 维持单调性\n",
    "            stack.pop()\n",
    "        if stack:  # 栈顶即下一个更大元素\n",
    "            ans[i % lgh] = stack[-1]\n",
    "        stack.append(cur)\n",
    "    return ans\n",
    "\n",
    "\n",
    "theNextLargerElements([1, 2, 1]), theNextLargerElements([5, 3, 2, 4, 1])"
   ]
  },
  {
   "cell_type": "code",
   "execution_count": null,
   "metadata": {},
   "outputs": [],
   "source": []
  }
 ],
 "metadata": {
  "interpreter": {
   "hash": "97367d2de1780ea7c502b529f25888c1b53c0430a7611816b6c7cf19d8435228"
  },
  "kernelspec": {
   "display_name": "Python 3.10.4 64-bit (windows store)",
   "language": "python",
   "name": "python3"
  },
  "language_info": {
   "codemirror_mode": {
    "name": "ipython",
    "version": 3
   },
   "file_extension": ".py",
   "mimetype": "text/x-python",
   "name": "python",
   "nbconvert_exporter": "python",
   "pygments_lexer": "ipython3",
   "version": "3.10.5"
  },
  "orig_nbformat": 4
 },
 "nbformat": 4,
 "nbformat_minor": 2
}
