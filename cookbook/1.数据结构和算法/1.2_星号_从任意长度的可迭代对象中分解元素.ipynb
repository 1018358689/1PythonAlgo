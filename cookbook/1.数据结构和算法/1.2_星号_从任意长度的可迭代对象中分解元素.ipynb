{
 "cells": [
  {
   "cell_type": "markdown",
   "metadata": {},
   "source": [
    "# 需要从某个可迭代对象中分解出N个元素，但是可迭代对象长度可能超过N，这会导致“分解的值过多（too many values to pack）”的异常。 "
   ]
  },
  {
   "cell_type": "code",
   "execution_count": 4,
   "metadata": {},
   "outputs": [
    {
     "name": "stdout",
     "output_type": "stream",
     "text": [
      "[2, 3, 4, 5, 6, 7, 8, 9, 10, 11, 12, 13, 14, 15, 16, 17, 18, 19, 20, 21, 22, 23]\n"
     ]
    }
   ],
   "source": [
    "# python的 “*表达式” 可以用来表示动态数量(可以为0)的变量。\n",
    "# 去掉收尾两个值\n",
    "def drop_first_last(grades):\n",
    "    first, *middle,last = grades\n",
    "    return middle\n",
    "\n",
    "grades = range(1,25)\n",
    "print(drop_first_last(grades))"
   ]
  },
  {
   "cell_type": "code",
   "execution_count": 23,
   "metadata": {},
   "outputs": [
    {
     "data": {
      "text/plain": [
       "['010-12345678', '010-87654321']"
      ]
     },
     "execution_count": 23,
     "metadata": {},
     "output_type": "execute_result"
    }
   ],
   "source": [
    "# 用户记录 姓名 邮箱 任意数量手机号\n",
    "# 其他变量先占位， *修饰的变量 再去补位  而且 *修饰的变量 一定是个列表\n",
    "record = ('Jack', 'Jack@example.com', '010-12345678', '010-87654321')\n",
    "name, email, *phone_numers = record\n",
    "phone_numers"
   ]
  },
  {
   "cell_type": "code",
   "execution_count": 8,
   "metadata": {},
   "outputs": [
    {
     "data": {
      "text/plain": [
       "[]"
      ]
     },
     "execution_count": 8,
     "metadata": {},
     "output_type": "execute_result"
    }
   ],
   "source": [
    "record = ('Jack', 'Jack@example.com')  # 哪怕没有电话号码值，phone_numers一直是一个列表\n",
    "name, email, *phone_numers = record\n",
    "phone_numers"
   ]
  },
  {
   "cell_type": "code",
   "execution_count": 28,
   "metadata": {},
   "outputs": [
    {
     "name": "stdout",
     "output_type": "stream",
     "text": [
      "foo 1 2 3\n",
      "bar hello\n",
      "foo 3 4 5\n",
      "foo 7 8 9\n"
     ]
    }
   ],
   "source": [
    "# *式语法 对于未知长度尤其有用\n",
    "record = (['foo', 1, 2, 3], ['bar', 'hello'], ['foo', 3, 4, 5])\n",
    "\n",
    "\n",
    "def do_foo(x, y, z):\n",
    "    print('foo', x, y, z)\n",
    "\n",
    "\n",
    "def do_bar(s):\n",
    "    print('bar', s)\n",
    "\n",
    "\n",
    "for tag, *args in record:\n",
    "    if tag == 'foo':\n",
    "        do_foo(*args) # args代表一个对象(列表) 里面有三个元素 *args代表解开args这个列表 去括号 映射出三个元素 也就是动态数量的变量  \n",
    "    elif tag == 'bar':\n",
    "        do_bar(*args)\n",
    "\n",
    "do_foo(*[7,8,9])\n",
    "# *(7,8,9) == 7,8,9 这是错的"
   ]
  },
  {
   "cell_type": "code",
   "execution_count": 32,
   "metadata": {},
   "outputs": [
    {
     "data": {
      "text/plain": [
       "('Jack', 2012, [12, 31])"
      ]
     },
     "execution_count": 32,
     "metadata": {},
     "output_type": "execute_result"
    }
   ],
   "source": [
    "# 分解操作想丢掉某些值，没有特定语法，可以用一个用不到的变量名，比如_ign（ignored），以此作为要丢弃的值得名称。\n",
    "data = ['Jack', 'Man', 99, 181, (2012, 12, 31)]\n",
    "name, *_, (year, *_ign) = data\n",
    "name, year, _ign"
   ]
  },
  {
   "cell_type": "code",
   "execution_count": 18,
   "metadata": {},
   "outputs": [
    {
     "data": {
      "text/plain": [
       "7"
      ]
     },
     "execution_count": 18,
     "metadata": {},
     "output_type": "execute_result"
    }
   ],
   "source": [
    "a,b,c = *((7,8,9)),\n",
    "a"
   ]
  },
  {
   "cell_type": "code",
   "execution_count": 2,
   "metadata": {},
   "outputs": [
    {
     "ename": "SyntaxError",
     "evalue": "can't use starred expression here (1745600930.py, line 1)",
     "output_type": "error",
     "traceback": [
      "\u001b[0;36m  File \u001b[0;32m\"/var/folders/f9/08y44z4j3bsfzm1cv4wrdf6w0000gn/T/ipykernel_1664/1745600930.py\"\u001b[0;36m, line \u001b[0;32m1\u001b[0m\n\u001b[0;31m    a,b,c = *[7,8,9]\u001b[0m\n\u001b[0m            ^\u001b[0m\n\u001b[0;31mSyntaxError\u001b[0m\u001b[0;31m:\u001b[0m can't use starred expression here\n"
     ]
    }
   ],
   "source": [
    "a,b,c = *[7,8,9],\n",
    "a"
   ]
  },
  {
   "cell_type": "code",
   "execution_count": 22,
   "metadata": {},
   "outputs": [
    {
     "data": {
      "text/plain": [
       "(7, 8, 9)"
      ]
     },
     "execution_count": 22,
     "metadata": {},
     "output_type": "execute_result"
    }
   ],
   "source": [
    "*(7,8,9),"
   ]
  },
  {
   "cell_type": "code",
   "execution_count": null,
   "metadata": {},
   "outputs": [],
   "source": [
    "# https://blog.csdn.net/weixin_43141815/article/details/89841000"
   ]
  }
 ],
 "metadata": {
  "interpreter": {
   "hash": "af407973ba12897262deda9d8992946cc1a9873fff2de40f1acc89cdf9010052"
  },
  "kernelspec": {
   "display_name": "Python 3.8.11 64-bit ('pytorch': conda)",
   "name": "python3"
  },
  "language_info": {
   "codemirror_mode": {
    "name": "ipython",
    "version": 3
   },
   "file_extension": ".py",
   "mimetype": "text/x-python",
   "name": "python",
   "nbconvert_exporter": "python",
   "pygments_lexer": "ipython3",
   "version": "3.8.10"
  },
  "orig_nbformat": 4
 },
 "nbformat": 4,
 "nbformat_minor": 2
}
