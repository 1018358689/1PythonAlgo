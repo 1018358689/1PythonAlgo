{
 "cells": [
  {
   "cell_type": "markdown",
   "source": [
    "# 我们想创建一个字典，当对字典做迭代或序列化操作时，也能控制其中的元素顺序。字典dict本身无序。"
   ],
   "metadata": {}
  },
  {
   "cell_type": "markdown",
   "source": [
    "##  python3.6以后dict()本身已经是有序的了。 OrderedDict基本不用了"
   ],
   "metadata": {}
  },
  {
   "cell_type": "code",
   "execution_count": 1,
   "source": [
    "from collections import OrderedDict # 对OrderedDict迭代时，严格按照元素初识添加的顺序进行。\r\n",
    "d = OrderedDict()\r\n",
    "d['foo'] = 1\r\n",
    "d['bar'] = 2\r\n",
    "d['spam'] = 3\r\n",
    "d['grok'] = 4\r\n",
    "for k in d:\r\n",
    "    print(k)"
   ],
   "outputs": [
    {
     "output_type": "stream",
     "name": "stdout",
     "text": [
      "foo\n",
      "bar\n",
      "spam\n",
      "grok\n"
     ]
    }
   ],
   "metadata": {}
  },
  {
   "cell_type": "markdown",
   "source": [
    "## 有序字典的作用只是记住元素插入顺序并按顺序输出。如果有序字典中的元素一开始就定义好了，后面没有插入元素这一动作，那么遍历有序字典，其输出结果仍然是无序的，因为缺少了有序插入这一条件，所以此时有序字典就失去了作用，所以有序字典一般用于动态添加并需要按添加顺序输出的时候。"
   ],
   "metadata": {}
  },
  {
   "cell_type": "code",
   "execution_count": 4,
   "source": [
    "d2 = OrderedDict(foo=1,bar=2,spam=3,grok=4,a='A',b='B')\r\n",
    "d2"
   ],
   "outputs": [
    {
     "output_type": "execute_result",
     "data": {
      "text/plain": [
       "OrderedDict([('foo', 1),\n",
       "             ('bar', 2),\n",
       "             ('spam', 3),\n",
       "             ('grok', 4),\n",
       "             ('a', 'A'),\n",
       "             ('b', 'B')])"
      ]
     },
     "metadata": {},
     "execution_count": 4
    }
   ],
   "metadata": {}
  },
  {
   "cell_type": "markdown",
   "source": [],
   "metadata": {}
  }
 ],
 "metadata": {
  "orig_nbformat": 4,
  "language_info": {
   "name": "python",
   "version": "3.8.11",
   "mimetype": "text/x-python",
   "codemirror_mode": {
    "name": "ipython",
    "version": 3
   },
   "pygments_lexer": "ipython3",
   "nbconvert_exporter": "python",
   "file_extension": ".py"
  },
  "kernelspec": {
   "name": "python3",
   "display_name": "Python 3.8.11 64-bit"
  },
  "interpreter": {
   "hash": "af407973ba12897262deda9d8992946cc1a9873fff2de40f1acc89cdf9010052"
  }
 },
 "nbformat": 4,
 "nbformat_minor": 2
}