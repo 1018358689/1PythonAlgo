{
 "cells": [
  {
   "cell_type": "markdown",
   "source": [
    "# 我们想要一个能将键(key)映射到多个值得字典(即所谓的一键多值[multidict])。"
   ],
   "metadata": {}
  },
  {
   "cell_type": "code",
   "execution_count": 4,
   "source": [
    "# 字典是一种关联容器，每个键都映射到一个单独的值上。\r\n",
    "# 如果想让键映射到多个值，需要把多个值保存到另外一个容器，如列表或集合中。\r\n",
    "# 如果想保留元素插入顺序就用列表；如果想消除重复元素且不在意顺序，就用集合。去重后升序的想法是错的，因为set无序，不能利用这个顺序。字典也是。\r\n",
    "d = {\r\n",
    "    'a':[1,2,3],\r\n",
    "    'b':[4,5]\r\n",
    "}\r\n",
    "e = {\r\n",
    "    'a':{5,1,2,3,3,2,1,2},\r\n",
    "    'b':{4,5}\r\n",
    "}\r\n",
    "print(d)\r\n",
    "print(e)"
   ],
   "outputs": [
    {
     "output_type": "stream",
     "name": "stdout",
     "text": [
      "{'a': [1, 2, 3], 'b': [4, 5]}\n",
      "{'a': {1, 2, 3, 5}, 'b': {4, 5}}\n"
     ]
    }
   ],
   "metadata": {}
  },
  {
   "cell_type": "code",
   "execution_count": 28,
   "source": [
    "from collections import defaultdict\r\n",
    "dl = defaultdict(list) # 自动创建字典的表项 'c' 以便稍后访问\r\n",
    "print(dl)\r\n",
    "dl['a'].append(1) # 自动初始化第一个值 默认值list() 即[]，只需关注添加元素即可。\r\n",
    "dl['a'].append(2)\r\n",
    "dl['b'].append(8)\r\n",
    "print(dl)\r\n",
    "print(dl['c']) # 任何values都是list实例，不存在的ket，d[key]也有默认值list() 即[]"
   ],
   "outputs": [
    {
     "output_type": "stream",
     "name": "stdout",
     "text": [
      "defaultdict(<class 'list'>, {})\n",
      "defaultdict(<class 'list'>, {'a': [1, 2], 'b': [8]})\n",
      "[]\n"
     ]
    },
    {
     "output_type": "execute_result",
     "data": {
      "text/plain": [
       "dict_keys(['a', 'b', 'c'])"
      ]
     },
     "metadata": {},
     "execution_count": 28
    }
   ],
   "metadata": {}
  },
  {
   "cell_type": "code",
   "execution_count": 19,
   "source": [
    "ds = defaultdict(set)\r\n",
    "print(ds)\r\n",
    "ds['a'].add(3) # 自动初始化第一个值 默认值set() 即{}，只需关注添加元素即可。\r\n",
    "ds['a'].add(2)\r\n",
    "ds['a'].add(3)\r\n",
    "ds['a'].add(1)\r\n",
    "ds['a'].add(1)\r\n",
    "ds['b'].add(8)\r\n",
    "print(ds)\r\n",
    "print(ds['c'])"
   ],
   "outputs": [
    {
     "output_type": "stream",
     "name": "stdout",
     "text": [
      "defaultdict(<class 'set'>, {})\n",
      "defaultdict(<class 'set'>, {'a': {1, 2, 3}, 'b': {8}})\n",
      "set()\n"
     ]
    }
   ],
   "metadata": {}
  },
  {
   "cell_type": "code",
   "execution_count": 29,
   "source": [
    "di = defaultdict(int)\r\n",
    "print(di)\r\n",
    "di['a'] += 3  # 自动初始化第一个值 默认值int() 即0，只需关注添加元素即可。\r\n",
    "print(di)\r\n",
    "print(di['c'])"
   ],
   "outputs": [
    {
     "output_type": "stream",
     "name": "stdout",
     "text": [
      "defaultdict(<class 'int'>, {})\n",
      "defaultdict(<class 'int'>, {'a': 3})\n",
      "0\n"
     ]
    }
   ],
   "metadata": {}
  },
  {
   "cell_type": "code",
   "execution_count": 20,
   "source": [
    "d = {} # 不会自动创建字典的表项 'c' \r\n",
    "d.setdefault('a',[]).append(1) # 自动创建一个初始值的新实例 空列表[]\r\n",
    "d.setdefault('a',[]).append(2)\r\n",
    "d.setdefault('b',[]).append(8)\r\n",
    "print(d)\r\n",
    "print(d['c'])"
   ],
   "outputs": [
    {
     "output_type": "stream",
     "name": "stdout",
     "text": [
      "{'a': [1, 2], 'b': [8]}\n"
     ]
    },
    {
     "output_type": "error",
     "ename": "KeyError",
     "evalue": "'c'",
     "traceback": [
      "\u001b[1;31m---------------------------------------------------------------------------\u001b[0m",
      "\u001b[1;31mKeyError\u001b[0m                                  Traceback (most recent call last)",
      "\u001b[1;32m<ipython-input-20-3ef1a31ea4fd>\u001b[0m in \u001b[0;36m<module>\u001b[1;34m\u001b[0m\n\u001b[0;32m      4\u001b[0m \u001b[0md\u001b[0m\u001b[1;33m.\u001b[0m\u001b[0msetdefault\u001b[0m\u001b[1;33m(\u001b[0m\u001b[1;34m'b'\u001b[0m\u001b[1;33m,\u001b[0m\u001b[1;33m[\u001b[0m\u001b[1;33m]\u001b[0m\u001b[1;33m)\u001b[0m\u001b[1;33m.\u001b[0m\u001b[0mappend\u001b[0m\u001b[1;33m(\u001b[0m\u001b[1;36m8\u001b[0m\u001b[1;33m)\u001b[0m\u001b[1;33m\u001b[0m\u001b[1;33m\u001b[0m\u001b[0m\n\u001b[0;32m      5\u001b[0m \u001b[0mprint\u001b[0m\u001b[1;33m(\u001b[0m\u001b[0md\u001b[0m\u001b[1;33m)\u001b[0m\u001b[1;33m\u001b[0m\u001b[1;33m\u001b[0m\u001b[0m\n\u001b[1;32m----> 6\u001b[1;33m \u001b[0mprint\u001b[0m\u001b[1;33m(\u001b[0m\u001b[0md\u001b[0m\u001b[1;33m[\u001b[0m\u001b[1;34m'c'\u001b[0m\u001b[1;33m]\u001b[0m\u001b[1;33m)\u001b[0m\u001b[1;33m\u001b[0m\u001b[1;33m\u001b[0m\u001b[0m\n\u001b[0m",
      "\u001b[1;31mKeyError\u001b[0m: 'c'"
     ]
    }
   ],
   "metadata": {}
  },
  {
   "cell_type": "code",
   "execution_count": 48,
   "source": [
    "# 第一个值做初始化操作很混乱\r\n",
    "l1 = [1, 2, 1, 3, 3, 4]\r\n",
    "l2 = ['a', 'b', 'c', 'd', 'e', 'f']\r\n",
    "d = {}\r\n",
    "for k, v in zip(l1,l2):\r\n",
    "    if k not in d:\r\n",
    "        d[k] = []\r\n",
    "    d[k].append(v)\r\n",
    "\r\n",
    "print(list(zip(l1,l2)))\r\n",
    "print(d)\r\n"
   ],
   "outputs": [
    {
     "output_type": "stream",
     "name": "stdout",
     "text": [
      "[(1, 'a'), (2, 'b'), (1, 'c'), (3, 'd'), (3, 'e'), (4, 'f')]\n",
      "{1: ['a', 'c'], 2: ['b'], 3: ['d', 'e'], 4: ['f']}\n"
     ]
    }
   ],
   "metadata": {}
  },
  {
   "cell_type": "code",
   "execution_count": 49,
   "source": [
    "# 第一个值做初始化操作 利用defaultdict就很方便\r\n",
    "d = defaultdict(list)\r\n",
    "for k, v in zip(l1, l2):\r\n",
    "    d[k].append(v)\r\n",
    "print(d)"
   ],
   "outputs": [
    {
     "output_type": "stream",
     "name": "stdout",
     "text": [
      "defaultdict(<class 'list'>, {1: ['a', 'c'], 2: ['b'], 3: ['d', 'e'], 4: ['f']})\n"
     ]
    }
   ],
   "metadata": {}
  },
  {
   "cell_type": "code",
   "execution_count": null,
   "source": [],
   "outputs": [],
   "metadata": {}
  }
 ],
 "metadata": {
  "orig_nbformat": 4,
  "language_info": {
   "name": "python",
   "version": "3.8.11",
   "mimetype": "text/x-python",
   "codemirror_mode": {
    "name": "ipython",
    "version": 3
   },
   "pygments_lexer": "ipython3",
   "nbconvert_exporter": "python",
   "file_extension": ".py"
  },
  "kernelspec": {
   "name": "python3",
   "display_name": "Python 3.8.11 64-bit ('pytorch': conda)"
  },
  "interpreter": {
   "hash": "af407973ba12897262deda9d8992946cc1a9873fff2de40f1acc89cdf9010052"
  }
 },
 "nbformat": 4,
 "nbformat_minor": 2
}