{
 "cells": [
  {
   "cell_type": "markdown",
   "source": [
    "## 有两个字典，找出他们中间可能相同的地方（相同的键，相同的值）。"
   ],
   "metadata": {}
  },
  {
   "cell_type": "markdown",
   "source": [
    "### 字典的keys()和items()支持常见的集合操作，比如求并集、交集、差集。\r\n",
    "### values()不能保证所有的值都唯一，所以不能集合操作，可以先转换成集合再操作。"
   ],
   "metadata": {}
  },
  {
   "cell_type": "markdown",
   "source": [
    "\r\n",
    "| 函数      | 替代语法  | 说明    |\r\n",
    "| ----------- |-----------| ------------------------- |\r\n",
    "| a.union(b)   | a\\|b |并集，不改变a和b，将并集返回|\r\n",
    "| a.update(b)  |a\\|=b |并集，改变a，不改变b       |\r\n",
    "| a.intersection(b) |a&b |a和b中交叉的元素    |\r\n",
    "| a.intersection_update(b) |a&=b |a和b中交叉的元素,改变a|\r\n",
    "| a.difference(b)   |a-b |存在于a但不存在于b的元素 |\r\n",
    "|a.difference_update(b)|a-=b |存在于a但不存在于b的元素，改变a|\r\n",
    "|a.symmetric_difference(b)|a^b |只在a或只在b的元素          |\r\n",
    "|a.symmetric_difference_update(b) |a^=b |只在a或只在b的元素，改变a|\r\n"
   ],
   "metadata": {}
  },
  {
   "cell_type": "code",
   "execution_count": 27,
   "source": [
    "a = {'x': 1, 'y': 2, 'z': 3}\r\n",
    "b = {'w': 10, 'x': 11, 'y': 2}"
   ],
   "outputs": [],
   "metadata": {}
  },
  {
   "cell_type": "code",
   "execution_count": 4,
   "source": [
    "# 找相同的键\r\n",
    "a.keys() & b.keys()"
   ],
   "outputs": [
    {
     "output_type": "execute_result",
     "data": {
      "text/plain": [
       "{'x', 'y'}"
      ]
     },
     "metadata": {},
     "execution_count": 4
    }
   ],
   "metadata": {}
  },
  {
   "cell_type": "code",
   "execution_count": 5,
   "source": [
    "# a中存在 b中不存在的键\r\n",
    "a.keys() - b.keys()"
   ],
   "outputs": [
    {
     "output_type": "execute_result",
     "data": {
      "text/plain": [
       "{'z'}"
      ]
     },
     "metadata": {},
     "execution_count": 5
    }
   ],
   "metadata": {}
  },
  {
   "cell_type": "code",
   "execution_count": 6,
   "source": [
    "# 找(k,v)相同的item\r\n",
    "a.items() & b.items()"
   ],
   "outputs": [
    {
     "output_type": "execute_result",
     "data": {
      "text/plain": [
       "{('y', 2)}"
      ]
     },
     "metadata": {},
     "execution_count": 6
    }
   ],
   "metadata": {}
  },
  {
   "cell_type": "code",
   "execution_count": 29,
   "source": [
    "# 创建新的字典 但要过滤掉一些键\r\n",
    "print(a.keys())\r\n",
    "c = {k: a[k] for k in (a.keys() - {'x','w'})}\r\n",
    "c"
   ],
   "outputs": [
    {
     "output_type": "stream",
     "name": "stdout",
     "text": [
      "dict_keys(['x', 'y', 'z'])\n"
     ]
    },
    {
     "output_type": "execute_result",
     "data": {
      "text/plain": [
       "{'z': 3, 'y': 2}"
      ]
     },
     "metadata": {},
     "execution_count": 29
    }
   ],
   "metadata": {}
  },
  {
   "cell_type": "code",
   "execution_count": 30,
   "source": [
    "a = {1, 2, 3}\r\n",
    "b = {1}\r\n",
    "a - b\r\n",
    "# 列表不能减 集合可以减"
   ],
   "outputs": [
    {
     "output_type": "execute_result",
     "data": {
      "text/plain": [
       "{2, 3}"
      ]
     },
     "metadata": {},
     "execution_count": 30
    }
   ],
   "metadata": {}
  },
  {
   "cell_type": "code",
   "execution_count": null,
   "source": [],
   "outputs": [],
   "metadata": {}
  }
 ],
 "metadata": {
  "orig_nbformat": 4,
  "language_info": {
   "name": "python",
   "version": "3.8.11",
   "mimetype": "text/x-python",
   "codemirror_mode": {
    "name": "ipython",
    "version": 3
   },
   "pygments_lexer": "ipython3",
   "nbconvert_exporter": "python",
   "file_extension": ".py"
  },
  "kernelspec": {
   "name": "python3",
   "display_name": "Python 3.8.11 64-bit ('torch': conda)"
  },
  "interpreter": {
   "hash": "b69a98d3df882577ba469635c4ab08c5ae67eaedfd3a57f311f98966a6edb2d0"
  }
 },
 "nbformat": 4,
 "nbformat_minor": 2
}