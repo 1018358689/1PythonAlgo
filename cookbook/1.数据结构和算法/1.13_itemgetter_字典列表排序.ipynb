{
 "cells": [
  {
   "cell_type": "markdown",
   "source": [
    "# 有一个字典，相根据一个或多个字典中的值对字典列表排序。"
   ],
   "metadata": {}
  },
  {
   "cell_type": "code",
   "execution_count": 2,
   "source": [
    "rows = [\r\n",
    "    {'fname': 'Brian', 'lname': 'Jones', 'uid': 1003},\r\n",
    "    {'fname': 'David', 'lname': 'Beazley', 'uid': 1002},\r\n",
    "    {'fname': 'John', 'lname': 'Cleese', 'uid': 1001},\r\n",
    "    {'fname': 'Big', 'lname': 'Jones', 'uid': 1004}\r\n",
    "]"
   ],
   "outputs": [],
   "metadata": {}
  },
  {
   "cell_type": "code",
   "execution_count": 4,
   "source": [
    "from operator import itemgetter\r\n",
    "from pprint import pprint\r\n",
    "\r\n",
    "rows_by_fname = sorted(rows, key=itemgetter('fname'))\r\n",
    "rows_by_uid = sorted(rows, key=itemgetter('uid'))\r\n",
    "pprint(rows_by_fname)\r\n",
    "pprint(rows_by_uid)"
   ],
   "outputs": [
    {
     "output_type": "stream",
     "name": "stdout",
     "text": [
      "[{'fname': 'Big', 'lname': 'Jones', 'uid': 1004},\n",
      " {'fname': 'Brian', 'lname': 'Jones', 'uid': 1003},\n",
      " {'fname': 'David', 'lname': 'Beazley', 'uid': 1002},\n",
      " {'fname': 'John', 'lname': 'Cleese', 'uid': 1001}]\n",
      "[{'fname': 'John', 'lname': 'Cleese', 'uid': 1001},\n",
      " {'fname': 'David', 'lname': 'Beazley', 'uid': 1002},\n",
      " {'fname': 'Brian', 'lname': 'Jones', 'uid': 1003},\n",
      " {'fname': 'Big', 'lname': 'Jones', 'uid': 1004}]\n"
     ]
    }
   ],
   "metadata": {}
  },
  {
   "cell_type": "code",
   "execution_count": 6,
   "source": [
    "rows_by_lfname = sorted(rows, key=itemgetter('lname', 'fname'))\r\n",
    "pprint(rows_by_lfname)"
   ],
   "outputs": [
    {
     "output_type": "stream",
     "name": "stdout",
     "text": [
      "[{'fname': 'David', 'lname': 'Beazley', 'uid': 1002},\n",
      " {'fname': 'John', 'lname': 'Cleese', 'uid': 1001},\n",
      " {'fname': 'Big', 'lname': 'Jones', 'uid': 1004},\n",
      " {'fname': 'Brian', 'lname': 'Jones', 'uid': 1003}]\n"
     ]
    }
   ],
   "metadata": {}
  },
  {
   "cell_type": "code",
   "execution_count": 7,
   "source": [
    "rows_by_uid2 = sorted(rows, key=lambda x: x['uid'])\r\n",
    "rows_by_lfname2 = sorted(rows, key=lambda x: (x['lname'], x['fname']))\r\n",
    "pprint(rows_by_uid2)\r\n",
    "pprint(rows_by_lfname2)"
   ],
   "outputs": [
    {
     "output_type": "stream",
     "name": "stdout",
     "text": [
      "[{'fname': 'John', 'lname': 'Cleese', 'uid': 1001},\n",
      " {'fname': 'David', 'lname': 'Beazley', 'uid': 1002},\n",
      " {'fname': 'Brian', 'lname': 'Jones', 'uid': 1003},\n",
      " {'fname': 'Big', 'lname': 'Jones', 'uid': 1004}]\n",
      "[{'fname': 'David', 'lname': 'Beazley', 'uid': 1002},\n",
      " {'fname': 'John', 'lname': 'Cleese', 'uid': 1001},\n",
      " {'fname': 'Big', 'lname': 'Jones', 'uid': 1004},\n",
      " {'fname': 'Brian', 'lname': 'Jones', 'uid': 1003}]\n"
     ]
    }
   ],
   "metadata": {}
  },
  {
   "cell_type": "code",
   "execution_count": 10,
   "source": [
    "min(rows,key=itemgetter('uid')) # max同理"
   ],
   "outputs": [
    {
     "output_type": "execute_result",
     "data": {
      "text/plain": [
       "{'fname': 'John', 'lname': 'Cleese', 'uid': 1001}"
      ]
     },
     "metadata": {},
     "execution_count": 10
    }
   ],
   "metadata": {}
  },
  {
   "cell_type": "code",
   "execution_count": 9,
   "source": [
    "prices = {\r\n",
    "    'ACME': 45.23,\r\n",
    "    'AAPL': 612.78,\r\n",
    "    'IBM': 205.55,\r\n",
    "    'HPQ': 37.20,\r\n",
    "    'FB': 10.75\r\n",
    "}\r\n",
    "# sorted(prices, key=itemgetter(prices)) # 错误\r\n",
    "sorted(prices,key=lambda x:prices[x])"
   ],
   "outputs": [
    {
     "output_type": "execute_result",
     "data": {
      "text/plain": [
       "['FB', 'HPQ', 'ACME', 'IBM', 'AAPL']"
      ]
     },
     "metadata": {},
     "execution_count": 9
    }
   ],
   "metadata": {}
  },
  {
   "cell_type": "code",
   "execution_count": null,
   "source": [],
   "outputs": [],
   "metadata": {}
  }
 ],
 "metadata": {
  "orig_nbformat": 4,
  "language_info": {
   "name": "python",
   "version": "3.8.11",
   "mimetype": "text/x-python",
   "codemirror_mode": {
    "name": "ipython",
    "version": 3
   },
   "pygments_lexer": "ipython3",
   "nbconvert_exporter": "python",
   "file_extension": ".py"
  },
  "kernelspec": {
   "name": "python3",
   "display_name": "Python 3.8.11 64-bit ('paddlehub': conda)"
  },
  "interpreter": {
   "hash": "1ab393b4e74f10690122bd8cac8adb5fed0a74445021e612c9c654c49950836c"
  }
 },
 "nbformat": 4,
 "nbformat_minor": 2
}