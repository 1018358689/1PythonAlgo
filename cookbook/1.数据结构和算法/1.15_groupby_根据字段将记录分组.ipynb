{
 "cells": [
  {
   "cell_type": "markdown",
   "source": [
    "## 有一系列的字典或对象实例，我们想根据某个特定的字段（比如说日期）来分组迭代数据。"
   ],
   "metadata": {}
  },
  {
   "cell_type": "code",
   "execution_count": 20,
   "source": [
    "rows = [\r\n",
    "    {'adress': '5412 N', 'date': '07/01/2018'},\r\n",
    "    {'adress': '542 N', 'date': '07/01/2018'},\r\n",
    "    {'adress': '1212 N', 'date': '07/12/2018'},\r\n",
    "    {'adress': '3212 N', 'date': '07/10/2018'},\r\n",
    "    {'adress': '12 N', 'date': '07/15/2018'},\r\n",
    "    {'adress': '122 N', 'date': '07/12/2018'},\r\n",
    "]"
   ],
   "outputs": [],
   "metadata": {}
  },
  {
   "cell_type": "code",
   "execution_count": 14,
   "source": [
    "from itertools import groupby\r\n",
    "rows.sort(key=lambda x:x['date'])  # 要先排序\r\n",
    "\r\n",
    "for data,items in groupby(rows,lambda x:x['date']):\r\n",
    "    print(data)\r\n",
    "    for i in items:\r\n",
    "        print(' ',i)"
   ],
   "outputs": [
    {
     "output_type": "stream",
     "name": "stdout",
     "text": [
      "07/01/2018\n",
      "  {'adress': '5412 N', 'date': '07/01/2018'}\n",
      "  {'adress': '542 N', 'date': '07/01/2018'}\n",
      "07/10/2018\n",
      "  {'adress': '3212 N', 'date': '07/10/2018'}\n",
      "07/12/2018\n",
      "  {'adress': '1212 N', 'date': '07/12/2018'}\n",
      "  {'adress': '122 N', 'date': '07/12/2018'}\n",
      "07/15/2018\n",
      "  {'adress': '12 N', 'date': '07/15/2018'}\n"
     ]
    }
   ],
   "metadata": {}
  },
  {
   "cell_type": "markdown",
   "source": [
    "1、函数groupby()通过扫描序列找出相同的值(或是由参数key指定的函数返回的值)的序列项，并将它们分组；\r\n",
    "2、groupby()创建了一个迭代器，而在每次迭代时都会返回一个value和一个子迭代器，这个子迭代器可以产生所有在该分组内具有该值得项；\r\n",
    "3、groupby()只能检查连续的项，不首先排序的话，将无法按所想的方式来对记录分组；\r\n",
    "4、如果只是简单的根据日期将数据分组到一起，可以使用collections.defaultdict()构建一个一键多值字典，并不需要先对记录排序。"
   ],
   "metadata": {}
  },
  {
   "cell_type": "code",
   "execution_count": 21,
   "source": [
    "from collections import defaultdict\r\n",
    "rows_by_date = defaultdict(list)\r\n",
    "for row in rows:\r\n",
    "    rows_by_date[row['date']].append(row)\r\n",
    "rows_by_date"
   ],
   "outputs": [
    {
     "output_type": "execute_result",
     "data": {
      "text/plain": [
       "defaultdict(list,\n",
       "            {'07/01/2018': [{'adress': '5412 N', 'date': '07/01/2018'},\n",
       "              {'adress': '542 N', 'date': '07/01/2018'}],\n",
       "             '07/12/2018': [{'adress': '1212 N', 'date': '07/12/2018'},\n",
       "              {'adress': '122 N', 'date': '07/12/2018'}],\n",
       "             '07/10/2018': [{'adress': '3212 N', 'date': '07/10/2018'}],\n",
       "             '07/15/2018': [{'adress': '12 N', 'date': '07/15/2018'}]})"
      ]
     },
     "metadata": {},
     "execution_count": 21
    }
   ],
   "metadata": {}
  },
  {
   "cell_type": "code",
   "execution_count": 18,
   "source": [
    "for i in rows_by_date['07/01/2018']:\r\n",
    "    print(i)"
   ],
   "outputs": [
    {
     "output_type": "stream",
     "name": "stdout",
     "text": [
      "{'adress': '5412 N', 'date': '07/01/2018'}\n",
      "{'adress': '542 N', 'date': '07/01/2018'}\n"
     ]
    }
   ],
   "metadata": {}
  },
  {
   "cell_type": "code",
   "execution_count": 25,
   "source": [
    "rows_by_date.keys()"
   ],
   "outputs": [
    {
     "output_type": "execute_result",
     "data": {
      "text/plain": [
       "dict_keys(['07/01/2018', '07/12/2018', '07/10/2018', '07/15/2018'])"
      ]
     },
     "metadata": {},
     "execution_count": 25
    }
   ],
   "metadata": {}
  },
  {
   "cell_type": "code",
   "execution_count": 24,
   "source": [
    "for i in zip(rows_by_date.keys(), rows_by_date.values()):\r\n",
    "    print(i)"
   ],
   "outputs": [
    {
     "output_type": "stream",
     "name": "stdout",
     "text": [
      "('07/01/2018', [{'adress': '5412 N', 'date': '07/01/2018'}, {'adress': '542 N', 'date': '07/01/2018'}])\n",
      "('07/12/2018', [{'adress': '1212 N', 'date': '07/12/2018'}, {'adress': '122 N', 'date': '07/12/2018'}])\n",
      "('07/10/2018', [{'adress': '3212 N', 'date': '07/10/2018'}])\n",
      "('07/15/2018', [{'adress': '12 N', 'date': '07/15/2018'}])\n"
     ]
    }
   ],
   "metadata": {}
  },
  {
   "cell_type": "code",
   "execution_count": null,
   "source": [],
   "outputs": [],
   "metadata": {}
  }
 ],
 "metadata": {
  "orig_nbformat": 4,
  "language_info": {
   "name": "python",
   "version": "3.8.11",
   "mimetype": "text/x-python",
   "codemirror_mode": {
    "name": "ipython",
    "version": 3
   },
   "pygments_lexer": "ipython3",
   "nbconvert_exporter": "python",
   "file_extension": ".py"
  },
  "kernelspec": {
   "name": "python3",
   "display_name": "Python 3.8.11 64-bit ('paddlehub': conda)"
  },
  "interpreter": {
   "hash": "1ab393b4e74f10690122bd8cac8adb5fed0a74445021e612c9c654c49950836c"
  }
 },
 "nbformat": 4,
 "nbformat_minor": 2
}