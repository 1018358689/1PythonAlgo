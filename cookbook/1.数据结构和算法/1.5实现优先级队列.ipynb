{
 "cells": [
  {
   "cell_type": "markdown",
   "source": [
    "# 我们想要实现一个队列，他能以给定的优先级对元素排序，且每次pop都返回优先级最高的那个元素。"
   ],
   "metadata": {}
  },
  {
   "cell_type": "code",
   "execution_count": 11,
   "source": [
    "import heapq\r\n",
    "\r\n",
    "\r\n",
    "class PriorityQueue:\r\n",
    "    def __init__(self) -> None:\r\n",
    "        self._queue = []\r\n",
    "        self._index = 0\r\n",
    "\r\n",
    "    def push(self, item, priority):\r\n",
    "        heapq.heappush(self._queue, (-priority, self._index, item))\r\n",
    "        self._index += 1\r\n",
    "\r\n",
    "    def pop(self):\r\n",
    "        return heapq.heappop(self._queue)[-1]\r\n",
    "\r\n",
    "\r\n",
    "class Item:\r\n",
    "    def __init__(self, name) -> None:\r\n",
    "        self.name = name\r\n",
    "\r\n",
    "    def __repr__(self) -> str:\r\n",
    "        return 'Item({!r})'.format(self.name)\r\n",
    "\r\n",
    "\r\n",
    "q = PriorityQueue()\r\n",
    "q.push(Item('foo'), 1)\r\n",
    "q.push(Item('bar'), 5)\r\n",
    "q.push(Item('spam'), 4)\r\n",
    "q.push(Item('grok'), 1)\r\n",
    "print(q._queue)\r\n",
    "print('pop1', q.pop())\r\n",
    "print('after pop1', q._queue)\r\n",
    "print('pop2', q.pop())\r\n",
    "print('pop3', q.pop())  # 相同优先级 比较index index不会相同 所以返回先放入的元素\r\n",
    "print('pop4', q.pop())\r\n"
   ],
   "outputs": [
    {
     "output_type": "stream",
     "name": "stdout",
     "text": [
      "[(-5, 1, Item('bar')), (-1, 0, Item('foo')), (-4, 2, Item('spam')), (-1, 3, Item('grok'))]\n",
      "pop1 Item('bar')\n",
      "after pop1 [(-4, 2, Item('spam')), (-1, 0, Item('foo')), (-1, 3, Item('grok'))]\n",
      "pop2 Item('spam')\n",
      "pop3 Item('foo')\n",
      "pop4 Item('grok')\n"
     ]
    }
   ],
   "metadata": {}
  },
  {
   "cell_type": "code",
   "execution_count": 12,
   "source": [
    "# 证明Item实例不能比较\r\n",
    "a = Item('foo')\r\n",
    "b = Item('bar')\r\n",
    "a < b\r\n"
   ],
   "outputs": [
    {
     "output_type": "error",
     "ename": "TypeError",
     "evalue": "'<' not supported between instances of 'Item' and 'Item'",
     "traceback": [
      "\u001b[1;31m---------------------------------------------------------------------------\u001b[0m",
      "\u001b[1;31mTypeError\u001b[0m                                 Traceback (most recent call last)",
      "\u001b[1;32m<ipython-input-12-a11aabd55076>\u001b[0m in \u001b[0;36m<module>\u001b[1;34m\u001b[0m\n\u001b[0;32m      2\u001b[0m \u001b[0ma\u001b[0m \u001b[1;33m=\u001b[0m \u001b[0mItem\u001b[0m\u001b[1;33m(\u001b[0m\u001b[1;34m'foo'\u001b[0m\u001b[1;33m)\u001b[0m\u001b[1;33m\u001b[0m\u001b[1;33m\u001b[0m\u001b[0m\n\u001b[0;32m      3\u001b[0m \u001b[0mb\u001b[0m\u001b[1;33m=\u001b[0m\u001b[0mItem\u001b[0m\u001b[1;33m(\u001b[0m\u001b[1;34m'bar'\u001b[0m\u001b[1;33m)\u001b[0m\u001b[1;33m\u001b[0m\u001b[1;33m\u001b[0m\u001b[0m\n\u001b[1;32m----> 4\u001b[1;33m \u001b[0ma\u001b[0m\u001b[1;33m<\u001b[0m\u001b[0mb\u001b[0m\u001b[1;33m\u001b[0m\u001b[1;33m\u001b[0m\u001b[0m\n\u001b[0m",
      "\u001b[1;31mTypeError\u001b[0m: '<' not supported between instances of 'Item' and 'Item'"
     ]
    }
   ],
   "metadata": {}
  },
  {
   "cell_type": "code",
   "execution_count": 15,
   "source": [
    "# 元组形式(priority,item) 会从左开始比较  碰到优先级一样 往后比较\r\n",
    "a = (1, Item('foo'))\r\n",
    "b = (2, Item('bar'))\r\n",
    "print(a<b)\r\n",
    "c = (1, Item('grok'))\r\n",
    "a < c"
   ],
   "outputs": [
    {
     "output_type": "stream",
     "name": "stdout",
     "text": [
      "True\n"
     ]
    },
    {
     "output_type": "error",
     "ename": "TypeError",
     "evalue": "'<' not supported between instances of 'Item' and 'Item'",
     "traceback": [
      "\u001b[1;31m---------------------------------------------------------------------------\u001b[0m",
      "\u001b[1;31mTypeError\u001b[0m                                 Traceback (most recent call last)",
      "\u001b[1;32m<ipython-input-15-d1ba87b1e377>\u001b[0m in \u001b[0;36m<module>\u001b[1;34m\u001b[0m\n\u001b[0;32m      4\u001b[0m \u001b[0mprint\u001b[0m\u001b[1;33m(\u001b[0m\u001b[0ma\u001b[0m\u001b[1;33m<\u001b[0m\u001b[0mb\u001b[0m\u001b[1;33m)\u001b[0m\u001b[1;33m\u001b[0m\u001b[1;33m\u001b[0m\u001b[0m\n\u001b[0;32m      5\u001b[0m \u001b[0mc\u001b[0m \u001b[1;33m=\u001b[0m \u001b[1;33m(\u001b[0m\u001b[1;36m1\u001b[0m\u001b[1;33m,\u001b[0m \u001b[0mItem\u001b[0m\u001b[1;33m(\u001b[0m\u001b[1;34m'grok'\u001b[0m\u001b[1;33m)\u001b[0m\u001b[1;33m)\u001b[0m\u001b[1;33m\u001b[0m\u001b[1;33m\u001b[0m\u001b[0m\n\u001b[1;32m----> 6\u001b[1;33m \u001b[0ma\u001b[0m \u001b[1;33m<\u001b[0m \u001b[0mc\u001b[0m\u001b[1;33m\u001b[0m\u001b[1;33m\u001b[0m\u001b[0m\n\u001b[0m",
      "\u001b[1;31mTypeError\u001b[0m: '<' not supported between instances of 'Item' and 'Item'"
     ]
    }
   ],
   "metadata": {}
  },
  {
   "cell_type": "code",
   "execution_count": 16,
   "source": [
    "# 额外引入索引 避免比较到Item值\r\n",
    "a = (1, 0, Item('foo'))\r\n",
    "b = (2, 1, Item('bar'))\r\n",
    "print(a < b)\r\n",
    "c = (1, 2, Item('grok'))\r\n",
    "a < c\r\n"
   ],
   "outputs": [
    {
     "output_type": "stream",
     "name": "stdout",
     "text": [
      "True\n"
     ]
    },
    {
     "output_type": "execute_result",
     "data": {
      "text/plain": [
       "True"
      ]
     },
     "metadata": {},
     "execution_count": 16
    }
   ],
   "metadata": {}
  },
  {
   "cell_type": "code",
   "execution_count": null,
   "source": [],
   "outputs": [],
   "metadata": {}
  }
 ],
 "metadata": {
  "orig_nbformat": 4,
  "language_info": {
   "name": "python",
   "version": "3.8.11",
   "mimetype": "text/x-python",
   "codemirror_mode": {
    "name": "ipython",
    "version": 3
   },
   "pygments_lexer": "ipython3",
   "nbconvert_exporter": "python",
   "file_extension": ".py"
  },
  "kernelspec": {
   "name": "python3",
   "display_name": "Python 3.8.11 64-bit"
  },
  "interpreter": {
   "hash": "af407973ba12897262deda9d8992946cc1a9873fff2de40f1acc89cdf9010052"
  }
 },
 "nbformat": 4,
 "nbformat_minor": 2
}