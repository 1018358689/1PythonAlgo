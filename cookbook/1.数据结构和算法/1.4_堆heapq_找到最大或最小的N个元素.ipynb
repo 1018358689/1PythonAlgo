{
 "cells": [
  {
   "cell_type": "markdown",
   "source": [
    "# 我们想在某个集合中找出最大或最小的N个元素。"
   ],
   "metadata": {}
  },
  {
   "cell_type": "markdown",
   "source": [
    "## heapq模块中有两个函数 nlargest()和nsmallest()"
   ],
   "metadata": {}
  },
  {
   "cell_type": "markdown",
   "source": [
    "## 要找的元素数量N相对较小时，nlargest()和nsmallest()才是最适用的。\r\n",
    "## 如果只是简单的寻找最大最小值(N=1)，那么用max()和min()最佳。\r\n",
    "## N和集合本身差不多大，最快的方法是先对集合排序，然后做切片操作。例如sorted(items)[:N]\r\n",
    "## nlargest()和nsmallest()的实现方法会根据使用他们的方式不同而有所不同，可能会有一些优化措施。\r\n",
    "## 比如，当N和集合本身差不多大，就会采用排序的方法"
   ],
   "metadata": {}
  },
  {
   "cell_type": "code",
   "execution_count": 13,
   "source": [
    "import heapq\r\n",
    "\r\n",
    "nums = [5, 31, 12, 42, 53, 75, 1, 42, 22, 22, 3, 3, 2, 53]\r\n",
    "print(heapq.nlargest(n=3, iterable=nums))\r\n",
    "print(heapq.nsmallest(n=3, iterable=nums))"
   ],
   "outputs": [
    {
     "output_type": "stream",
     "name": "stdout",
     "text": [
      "[75, 53, 53]\n",
      "[1, 2, 3]\n"
     ]
    }
   ],
   "metadata": {}
  },
  {
   "cell_type": "code",
   "execution_count": 7,
   "source": [
    "# 接收参数key，允许工作在更加复杂的数据结构之上。\r\n",
    "portfolio = [\r\n",
    "    {'name':'IBM','shares':100,'price':91.1},\r\n",
    "    {'name':'AAPL','shares':50,'price':543.22},\r\n",
    "    {'name':'FB','shares':200,'price':21.09},\r\n",
    "    {'name':'HPQ','shares':35,'price':31.75},\r\n",
    "    {'name':'YHHO','shares':45,'price':16.35},\r\n",
    "    {'name':'ACME','shares':75,'price':115.65},\r\n",
    "]\r\n",
    "cheap = heapq.nsmallest(3,portfolio,key=lambda x:x['price'])\r\n",
    "expensive = heapq.nlargest(3,portfolio,key=lambda x:x['price'])\r\n",
    "cheap, expensive"
   ],
   "outputs": [
    {
     "output_type": "execute_result",
     "data": {
      "text/plain": [
       "([{'name': 'YHHO', 'shares': 45, 'price': 16.35},\n",
       "  {'name': 'FB', 'shares': 200, 'price': 21.09},\n",
       "  {'name': 'HPQ', 'shares': 35, 'price': 31.75}],\n",
       " [{'name': 'AAPL', 'shares': 50, 'price': 543.22},\n",
       "  {'name': 'ACME', 'shares': 75, 'price': 115.65},\n",
       "  {'name': 'IBM', 'shares': 100, 'price': 91.1}])"
      ]
     },
     "metadata": {},
     "execution_count": 7
    }
   ],
   "metadata": {}
  },
  {
   "cell_type": "code",
   "execution_count": 26,
   "source": [
    "# 寻找最小的N个元素，N很小，可以考虑heapq.heapify()将列表转换为堆\r\n",
    "# 堆最重要特性是heap[0]总是最小的一个值，通过heappop()弹出第一个也就是最小的值\r\n",
    "nums = (5, 31, 12, 42, 53, 75, 1, 42, 22, 22, 3, 3, 2, 53)\r\n",
    "import heapq\r\n",
    "heap = list(nums)\r\n",
    "heapq.heapify(heap)\r\n",
    "heap"
   ],
   "outputs": [
    {
     "output_type": "execute_result",
     "data": {
      "text/plain": [
       "[1, 3, 2, 22, 22, 3, 12, 42, 42, 31, 53, 5, 75, 53]"
      ]
     },
     "metadata": {},
     "execution_count": 26
    }
   ],
   "metadata": {}
  },
  {
   "cell_type": "code",
   "execution_count": 27,
   "source": [
    "heap[0]"
   ],
   "outputs": [
    {
     "output_type": "execute_result",
     "data": {
      "text/plain": [
       "1"
      ]
     },
     "metadata": {},
     "execution_count": 27
    }
   ],
   "metadata": {}
  },
  {
   "cell_type": "code",
   "execution_count": 28,
   "source": [
    "heapq.heappop(heap) # 弹出最小值"
   ],
   "outputs": [
    {
     "output_type": "execute_result",
     "data": {
      "text/plain": [
       "1"
      ]
     },
     "metadata": {},
     "execution_count": 28
    }
   ],
   "metadata": {}
  },
  {
   "cell_type": "code",
   "execution_count": 29,
   "source": [
    "heapq.heappop(heap)"
   ],
   "outputs": [
    {
     "output_type": "execute_result",
     "data": {
      "text/plain": [
       "2"
      ]
     },
     "metadata": {},
     "execution_count": 29
    }
   ],
   "metadata": {}
  },
  {
   "cell_type": "code",
   "execution_count": 30,
   "source": [
    "heap"
   ],
   "outputs": [
    {
     "output_type": "execute_result",
     "data": {
      "text/plain": [
       "[3, 3, 5, 22, 22, 53, 12, 42, 42, 31, 53, 75]"
      ]
     },
     "metadata": {},
     "execution_count": 30
    }
   ],
   "metadata": {}
  },
  {
   "cell_type": "code",
   "execution_count": null,
   "source": [],
   "outputs": [],
   "metadata": {}
  }
 ],
 "metadata": {
  "orig_nbformat": 4,
  "language_info": {
   "name": "python",
   "version": "3.8.11",
   "mimetype": "text/x-python",
   "codemirror_mode": {
    "name": "ipython",
    "version": 3
   },
   "pygments_lexer": "ipython3",
   "nbconvert_exporter": "python",
   "file_extension": ".py"
  },
  "kernelspec": {
   "name": "python3",
   "display_name": "Python 3.8.11 64-bit ('pytorch': conda)"
  },
  "interpreter": {
   "hash": "af407973ba12897262deda9d8992946cc1a9873fff2de40f1acc89cdf9010052"
  }
 },
 "nbformat": 4,
 "nbformat_minor": 2
}