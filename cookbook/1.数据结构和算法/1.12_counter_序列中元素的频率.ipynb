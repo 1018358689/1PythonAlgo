{
 "cells": [
  {
   "cell_type": "markdown",
   "source": [
    "## 我们有一个元素序列，想知道在序列中出现次数最多的元素是什么？"
   ],
   "metadata": {}
  },
  {
   "cell_type": "code",
   "execution_count": 1,
   "source": [
    "words = [\r\n",
    "    'eyes', 'look', 'my', 'around', \"you're\", 'the', 'my', 'around', 'under',\r\n",
    "    'my', 'around', 'under', \"you're\", \"you're\", 'into', 'my', 'around',\r\n",
    "    'under', \"you're\", 'into', 'my', 'around', \"you're\", 'the', 'eyes', 'look',\r\n",
    "    'my', 'around', 'my', 'around', 'under', 'my', 'around', 'under', \"you're\",\r\n",
    "    \"you're\", 'into', 'my', 'around', 'under', \"you're\", 'into', 'my',\r\n",
    "    'around', \"you're\", 'the'\r\n",
    "]\r\n",
    "words.count('eyes')"
   ],
   "outputs": [
    {
     "output_type": "execute_result",
     "data": {
      "text/plain": [
       "2"
      ]
     },
     "metadata": {},
     "execution_count": 1
    }
   ],
   "metadata": {}
  },
  {
   "cell_type": "code",
   "execution_count": 3,
   "source": [
    "from collections import Counter\r\n",
    "word_counts = Counter(words)\r\n",
    "top_three = word_counts.most_common(3)\r\n",
    "top_three"
   ],
   "outputs": [
    {
     "output_type": "execute_result",
     "data": {
      "text/plain": [
       "[('my', 10), ('around', 10), (\"you're\", 9)]"
      ]
     },
     "metadata": {},
     "execution_count": 3
    }
   ],
   "metadata": {}
  },
  {
   "cell_type": "code",
   "execution_count": 4,
   "source": [
    "word_counts.items()"
   ],
   "outputs": [
    {
     "output_type": "execute_result",
     "data": {
      "text/plain": [
       "dict_items([('eyes', 2), ('look', 2), ('my', 10), ('around', 10), (\"you're\", 9), ('the', 3), ('under', 6), ('into', 4)])"
      ]
     },
     "metadata": {},
     "execution_count": 4
    }
   ],
   "metadata": {}
  },
  {
   "cell_type": "code",
   "execution_count": 6,
   "source": [
    "word_counts.update()\r\n",
    "c= Counter('which')\r\n",
    "c.update('with')\r\n",
    "print(c)\r\n",
    "d= Counter('watch')\r\n",
    "c.update(d)\r\n",
    "print(c)"
   ],
   "outputs": [
    {
     "output_type": "stream",
     "name": "stdout",
     "text": [
      "Counter({'h': 3, 'w': 2, 'i': 2, 'c': 1, 't': 1})\n",
      "Counter({'h': 4, 'w': 3, 'i': 2, 'c': 2, 't': 2, 'a': 1})\n"
     ]
    }
   ],
   "metadata": {}
  },
  {
   "cell_type": "code",
   "execution_count": null,
   "source": [],
   "outputs": [],
   "metadata": {}
  }
 ],
 "metadata": {
  "orig_nbformat": 4,
  "language_info": {
   "name": "python",
   "version": "3.8.11",
   "mimetype": "text/x-python",
   "codemirror_mode": {
    "name": "ipython",
    "version": 3
   },
   "pygments_lexer": "ipython3",
   "nbconvert_exporter": "python",
   "file_extension": ".py"
  },
  "kernelspec": {
   "name": "python3",
   "display_name": "Python 3.8.11 64-bit"
  },
  "interpreter": {
   "hash": "af407973ba12897262deda9d8992946cc1a9873fff2de40f1acc89cdf9010052"
  }
 },
 "nbformat": 4,
 "nbformat_minor": 2
}