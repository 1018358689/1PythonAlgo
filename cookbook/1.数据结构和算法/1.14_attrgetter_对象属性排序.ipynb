{
 "cells": [
  {
   "cell_type": "markdown",
   "source": [
    "# 我们想在同一个类的实例之间做排序，但他们并不原生支持比较操作。"
   ],
   "metadata": {}
  },
  {
   "cell_type": "code",
   "execution_count": 13,
   "source": [
    "class User:\r\n",
    "    def __init__(self, user_name, user_id):\r\n",
    "        self.user_name = user_name\r\n",
    "        self.user_id = user_id\r\n",
    "\r\n",
    "    def __repr__(self):\r\n",
    "        return 'User({} {})'.format(self.user_name, self.user_id)\r\n"
   ],
   "outputs": [],
   "metadata": {}
  },
  {
   "cell_type": "code",
   "execution_count": 21,
   "source": [
    "users = [User('a', 12), User('z', 3), User('q', 3)]\r\n",
    "print(sorted(users, key=lambda x: x.user_id))\r\n",
    "print(sorted(users,key=lambda x:(x.user_id,x.user_name)))"
   ],
   "outputs": [
    {
     "output_type": "stream",
     "name": "stdout",
     "text": [
      "[User(z 3), User(q 3), User(a 12)]\n",
      "[User(q 3), User(z 3), User(a 12)]\n"
     ]
    }
   ],
   "metadata": {}
  },
  {
   "cell_type": "code",
   "execution_count": 24,
   "source": [
    "from operator import attrgetter\r\n",
    "print(sorted(users,key=attrgetter('user_id')))\r\n",
    "print(sorted(users,key=attrgetter('user_id','user_name')))"
   ],
   "outputs": [
    {
     "output_type": "stream",
     "name": "stdout",
     "text": [
      "[User(z 3), User(q 3), User(a 12)]\n",
      "[User(q 3), User(z 3), User(a 12)]\n"
     ]
    }
   ],
   "metadata": {}
  },
  {
   "cell_type": "code",
   "execution_count": 23,
   "source": [
    "min(users,key=attrgetter('user_id'))"
   ],
   "outputs": [
    {
     "output_type": "execute_result",
     "data": {
      "text/plain": [
       "User(z 3)"
      ]
     },
     "metadata": {},
     "execution_count": 23
    }
   ],
   "metadata": {}
  }
 ],
 "metadata": {
  "orig_nbformat": 4,
  "language_info": {
   "name": "python",
   "version": "3.8.11",
   "mimetype": "text/x-python",
   "codemirror_mode": {
    "name": "ipython",
    "version": 3
   },
   "pygments_lexer": "ipython3",
   "nbconvert_exporter": "python",
   "file_extension": ".py"
  },
  "kernelspec": {
   "name": "python3",
   "display_name": "Python 3.8.11 64-bit ('paddlehub': conda)"
  },
  "interpreter": {
   "hash": "1ab393b4e74f10690122bd8cac8adb5fed0a74445021e612c9c654c49950836c"
  }
 },
 "nbformat": 4,
 "nbformat_minor": 2
}