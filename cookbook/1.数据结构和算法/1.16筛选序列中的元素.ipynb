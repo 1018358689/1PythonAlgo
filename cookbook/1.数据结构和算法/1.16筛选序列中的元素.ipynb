{
 "cells": [
  {
   "cell_type": "markdown",
   "source": [
    "# 序列中含有一些数据，我们需要提取出其中的值或根据某些标准对序列做删减。"
   ],
   "metadata": {}
  },
  {
   "cell_type": "code",
   "execution_count": 3,
   "source": [
    "lst = [1, 4, -5, 10, -7, 2, 3, -1]"
   ],
   "outputs": [],
   "metadata": {}
  },
  {
   "cell_type": "code",
   "execution_count": 4,
   "source": [
    "# 列表推导式\r\n",
    "[n for n in lst if n > 0]"
   ],
   "outputs": [
    {
     "output_type": "execute_result",
     "data": {
      "text/plain": [
       "[1, 4, 10, 2, 3]"
      ]
     },
     "metadata": {},
     "execution_count": 4
    }
   ],
   "metadata": {}
  },
  {
   "cell_type": "code",
   "execution_count": 7,
   "source": [
    "# 生成器表达式\r\n",
    "g = (n for n in lst if n > 0)\r\n",
    "g"
   ],
   "outputs": [
    {
     "output_type": "execute_result",
     "data": {
      "text/plain": [
       "<generator object <genexpr> at 0x000002C47BF5D5F0>"
      ]
     },
     "metadata": {},
     "execution_count": 7
    }
   ],
   "metadata": {}
  },
  {
   "cell_type": "code",
   "execution_count": 8,
   "source": [
    "for i in g:\r\n",
    "    print(i)"
   ],
   "outputs": [
    {
     "output_type": "stream",
     "name": "stdout",
     "text": [
      "1\n",
      "4\n",
      "10\n",
      "2\n",
      "3\n"
     ]
    }
   ],
   "metadata": {}
  },
  {
   "cell_type": "code",
   "execution_count": 11,
   "source": [
    "lst2 = ['1', '2', '-3', '-', '4', 'N/A', '5']\r\n",
    "\r\n",
    "\r\n",
    "def isint(val):\r\n",
    "    try:\r\n",
    "        x = int(val)\r\n",
    "        return True\r\n",
    "    except ValueError:\r\n",
    "        return False\r\n",
    "\r\n",
    "#filter() 函数用于过滤序列，过滤掉不符合条件的元素，返回由符合条件元素组成的新列表。\r\n",
    "#该接收两个参数，第一个为函数，第二个为序列，序列的每个元素作为参数传递给函数进行判断，然后返回 True 或 False，最后将返回 True 的元素放到新列表中。\r\n",
    "\r\n",
    "f = filter(isint, lst2)\r\n",
    "f"
   ],
   "outputs": [
    {
     "output_type": "execute_result",
     "data": {
      "text/plain": [
       "<filter at 0x2c47b36c490>"
      ]
     },
     "metadata": {},
     "execution_count": 11
    }
   ],
   "metadata": {}
  },
  {
   "cell_type": "code",
   "execution_count": 12,
   "source": [
    "for i in f:\r\n",
    "    print(i)"
   ],
   "outputs": [
    {
     "output_type": "stream",
     "name": "stdout",
     "text": [
      "1\n",
      "2\n",
      "-3\n",
      "4\n",
      "5\n"
     ]
    }
   ],
   "metadata": {}
  },
  {
   "cell_type": "code",
   "execution_count": 15,
   "source": [
    "# 新值替换不满足的值\r\n",
    "# [n for n in lst2 if n>0 else 0]\r\n",
    "[n if n > 0 else 0 for n in lst] # 注意if的位置  当if else同时出现 要放前面  否则if 放后面\r\n"
   ],
   "outputs": [
    {
     "output_type": "execute_result",
     "data": {
      "text/plain": [
       "[1, 4, 0, 10, 0, 2, 3, 0]"
      ]
     },
     "metadata": {},
     "execution_count": 15
    }
   ],
   "metadata": {}
  },
  {
   "cell_type": "code",
   "execution_count": 18,
   "source": [
    "addresses = [\r\n",
    "    '5412 N CLARK',\r\n",
    "    '5148 N CLARK',\r\n",
    "    '5800 E 58TH',\r\n",
    "    '2122 N CLARK'\r\n",
    "    '5645 N RAVENSWOOD',\r\n",
    "    '1060 W ADDISON',\r\n",
    "    '4801 N BROADWAY',\r\n",
    "    '1039 W GRANVILLE',\r\n",
    "]\r\n",
    "counts = [0, 3, 10, 4, 1, 7, 6, 1]\r\n"
   ],
   "outputs": [],
   "metadata": {}
  },
  {
   "cell_type": "code",
   "execution_count": 21,
   "source": [
    "from itertools import compress\r\n",
    "\r\n",
    "more5 = [n > 5 for n in counts]\r\n",
    "print(more5)\r\n",
    "# 这里的关键点在于先创建一个booleam序列，指示出哪些元素符合条件，然后compress()根据这个序列去选择输出对应位置为True的元素。\r\n",
    "# compress()返回的是一个迭代器，如果想得到一个列表，需要用list转换\r\n",
    "list(compress(addresses, more5))\r\n"
   ],
   "outputs": [
    {
     "output_type": "stream",
     "name": "stdout",
     "text": [
      "[False, False, True, False, False, True, True, False]\n"
     ]
    },
    {
     "output_type": "execute_result",
     "data": {
      "text/plain": [
       "['5800 E 58TH', '4801 N BROADWAY', '1039 W GRANVILLE']"
      ]
     },
     "metadata": {},
     "execution_count": 21
    }
   ],
   "metadata": {}
  },
  {
   "cell_type": "code",
   "execution_count": null,
   "source": [],
   "outputs": [],
   "metadata": {}
  }
 ],
 "metadata": {
  "orig_nbformat": 4,
  "language_info": {
   "name": "python",
   "version": "3.8.11",
   "mimetype": "text/x-python",
   "codemirror_mode": {
    "name": "ipython",
    "version": 3
   },
   "pygments_lexer": "ipython3",
   "nbconvert_exporter": "python",
   "file_extension": ".py"
  },
  "kernelspec": {
   "name": "python3",
   "display_name": "Python 3.8.11 64-bit ('paddlehub': conda)"
  },
  "interpreter": {
   "hash": "1ab393b4e74f10690122bd8cac8adb5fed0a74445021e612c9c654c49950836c"
  }
 },
 "nbformat": 4,
 "nbformat_minor": 2
}