{
 "cells": [
  {
   "cell_type": "markdown",
   "source": [
    "## 将日转秒，将小时转分"
   ],
   "metadata": {}
  },
  {
   "cell_type": "code",
   "execution_count": 1,
   "source": [
    "# 用timedelta表示时间长度\r\n",
    "# 构造函数：datetime.timedelta(days=0, seconds=0, microseconds=0, milliseconds=0, minutes=0, hours=0, weeks=0)\r\n",
    "from datetime import timedelta\r\n",
    "\r\n",
    "a = timedelta(days=2, hours=6)\r\n",
    "b = timedelta(hours=4.5)\r\n",
    "print(a, '*' * 10, b)\r\n",
    "c = a + b\r\n",
    "print(c)\r\n",
    "print(c.days, c.seconds, c.total_seconds())"
   ],
   "outputs": [
    {
     "output_type": "stream",
     "name": "stdout",
     "text": [
      "2 days, 6:00:00 ********** 4:30:00\n",
      "2 days, 10:30:00\n",
      "2 37800 210600.0\n"
     ]
    }
   ],
   "metadata": {}
  },
  {
   "cell_type": "code",
   "execution_count": 2,
   "source": [
    "from datetime import datetime\r\n",
    "\r\n",
    "a = datetime(2012, 9, 23)\r\n",
    "print(a + timedelta(days=10))\r\n",
    "\r\n",
    "now = datetime.today()\r\n",
    "print(now + timedelta(minutes=-10))\r\n"
   ],
   "outputs": [
    {
     "output_type": "stream",
     "name": "stdout",
     "text": [
      "2012-10-03 00:00:00\n",
      "2021-09-30 13:56:04.696926\n"
     ]
    }
   ],
   "metadata": {}
  },
  {
   "cell_type": "code",
   "execution_count": 3,
   "source": [
    "# datatime 可以处理闰年\r\n",
    "a = datetime(2012,3,1)\r\n",
    "b = datetime(2012,2,28)\r\n",
    "print(a-b)\r\n",
    "print((a-b).days)"
   ],
   "outputs": [
    {
     "output_type": "stream",
     "name": "stdout",
     "text": [
      "2 days, 0:00:00\n",
      "2\n"
     ]
    }
   ],
   "metadata": {}
  },
  {
   "cell_type": "code",
   "execution_count": 4,
   "source": [
    "a = datetime(2013,3,1)\r\n",
    "b = datetime(2013,2,28)\r\n",
    "print(a-b)\r\n",
    "print((a-b).days)"
   ],
   "outputs": [
    {
     "output_type": "stream",
     "name": "stdout",
     "text": [
      "1 day, 0:00:00\n",
      "1\n"
     ]
    }
   ],
   "metadata": {}
  },
  {
   "cell_type": "code",
   "execution_count": 5,
   "source": [
    "'''\r\n",
    "timedelta()函数仅支持days和weeks参数\r\n",
    "\r\n",
    "而relativedelta()函数可以支持年 、月、日、周、时、分、秒的参数\r\n",
    "后者的功能更加强大，在实际中用到的较多。\r\n",
    "'''\r\n",
    "\r\n",
    "from dateutil.relativedelta import relativedelta\r\n",
    "a = datetime(2012,9,23)\r\n",
    "print(a+relativedelta(months=2))"
   ],
   "outputs": [
    {
     "output_type": "stream",
     "name": "stdout",
     "text": [
      "2012-11-23 00:00:00\n"
     ]
    }
   ],
   "metadata": {}
  },
  {
   "cell_type": "code",
   "execution_count": 6,
   "source": [
    "a = datetime(2012, 9, 23)\r\n",
    "b = datetime(2012, 12, 21)\r\n",
    "d = b - a  # 正常相减就是timedelta 是天为单位\r\n",
    "d"
   ],
   "outputs": [
    {
     "output_type": "execute_result",
     "data": {
      "text/plain": [
       "datetime.timedelta(days=89)"
      ]
     },
     "metadata": {},
     "execution_count": 6
    }
   ],
   "metadata": {}
  },
  {
   "cell_type": "code",
   "execution_count": 7,
   "source": [
    "d = relativedelta(b, a)  # 扩展到月\r\n",
    "d"
   ],
   "outputs": [
    {
     "output_type": "execute_result",
     "data": {
      "text/plain": [
       "relativedelta(months=+2, days=+28)"
      ]
     },
     "metadata": {},
     "execution_count": 7
    }
   ],
   "metadata": {}
  },
  {
   "cell_type": "code",
   "execution_count": 8,
   "source": [
    "d.months, d.days\r\n"
   ],
   "outputs": [
    {
     "output_type": "execute_result",
     "data": {
      "text/plain": [
       "(2, 28)"
      ]
     },
     "metadata": {},
     "execution_count": 8
    }
   ],
   "metadata": {}
  },
  {
   "cell_type": "code",
   "execution_count": null,
   "source": [],
   "outputs": [],
   "metadata": {}
  }
 ],
 "metadata": {
  "orig_nbformat": 4,
  "language_info": {
   "name": "python",
   "version": "3.8.11",
   "mimetype": "text/x-python",
   "codemirror_mode": {
    "name": "ipython",
    "version": 3
   },
   "pygments_lexer": "ipython3",
   "nbconvert_exporter": "python",
   "file_extension": ".py"
  },
  "kernelspec": {
   "name": "python3",
   "display_name": "Python 3.8.11 64-bit ('paddlehub': conda)"
  },
  "interpreter": {
   "hash": "1ab393b4e74f10690122bd8cac8adb5fed0a74445021e612c9c654c49950836c"
  }
 },
 "nbformat": 4,
 "nbformat_minor": 2
}