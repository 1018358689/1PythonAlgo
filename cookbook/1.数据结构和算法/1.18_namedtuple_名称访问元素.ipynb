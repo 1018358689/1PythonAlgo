{
 "cells": [
  {
   "cell_type": "markdown",
   "source": [
    "## 通过索引下标访问列表或元组，但是会难以阅读。通过名称来访问，更加易读。"
   ],
   "metadata": {}
  },
  {
   "cell_type": "code",
   "execution_count": 10,
   "source": [
    "from collections import namedtuple\r\n",
    "\r\n",
    "Subscriber = namedtuple('newtuple', ['addr', 'joined'])\r\n",
    "sub = Subscriber('example@qq.com', '2021-1-1')\r\n",
    "sub, sub.addr, sub.joined\r\n"
   ],
   "outputs": [
    {
     "output_type": "execute_result",
     "data": {
      "text/plain": [
       "(newtuple(addr='example@qq.com', joined='2021-1-1'),\n",
       " 'example@qq.com',\n",
       " '2021-1-1')"
      ]
     },
     "metadata": {},
     "execution_count": 10
    }
   ],
   "metadata": {}
  },
  {
   "cell_type": "code",
   "execution_count": 14,
   "source": [
    "a,b = sub\r\n",
    "sub[0],a,b"
   ],
   "outputs": [
    {
     "output_type": "execute_result",
     "data": {
      "text/plain": [
       "('example@qq.com', 'example@qq.com', '2021-1-1')"
      ]
     },
     "metadata": {},
     "execution_count": 14
    }
   ],
   "metadata": {}
  },
  {
   "cell_type": "code",
   "execution_count": 1,
   "source": [
    "records = [('a', 1, 200), ('b', 2, 190), ('c', 1, 299)]\r\n",
    "\r\n",
    "\r\n",
    "def compute_cost(records):\r\n",
    "    total = 0.0\r\n",
    "    for rec in records:\r\n",
    "        total += rec[1] * rec[2]\r\n",
    "    return total\r\n",
    "\r\n",
    "compute_cost(records)"
   ],
   "outputs": [
    {
     "output_type": "execute_result",
     "data": {
      "text/plain": [
       "879.0"
      ]
     },
     "metadata": {},
     "execution_count": 1
    }
   ],
   "metadata": {}
  },
  {
   "cell_type": "code",
   "execution_count": 6,
   "source": [
    "from collections import namedtuple\r\n",
    "\r\n",
    "records = [('a', 1, 200), ('b', 2, 190), ('c', 1, 299)]\r\n",
    "Stock = namedtuple('Stock', ['name', 'share', 'price'])\r\n",
    "\r\n",
    "\r\n",
    "def compute_cost2(records):\r\n",
    "    total = 0.0\r\n",
    "    for rec in records:\r\n",
    "        s = Stock(*rec)\r\n",
    "        total += s.share * s.price\r\n",
    "    return total\r\n",
    "\r\n",
    "compute_cost2(records)"
   ],
   "outputs": [
    {
     "output_type": "execute_result",
     "data": {
      "text/plain": [
       "879.0"
      ]
     },
     "metadata": {},
     "execution_count": 6
    }
   ],
   "metadata": {}
  },
  {
   "cell_type": "code",
   "execution_count": 12,
   "source": [
    "s = Stock('a', 1, 200)\r\n",
    "s._replace(share=2), s  # 元组不可变，使用replace可以创建新的实例 原来的不变\r\n"
   ],
   "outputs": [
    {
     "output_type": "execute_result",
     "data": {
      "text/plain": [
       "(Stock(name='a', share=2, price=200), Stock(name='a', share=1, price=200))"
      ]
     },
     "metadata": {},
     "execution_count": 12
    }
   ],
   "metadata": {}
  },
  {
   "cell_type": "code",
   "execution_count": null,
   "source": [],
   "outputs": [],
   "metadata": {}
  }
 ],
 "metadata": {
  "orig_nbformat": 4,
  "language_info": {
   "name": "python",
   "version": "3.8.11",
   "mimetype": "text/x-python",
   "codemirror_mode": {
    "name": "ipython",
    "version": 3
   },
   "pygments_lexer": "ipython3",
   "nbconvert_exporter": "python",
   "file_extension": ".py"
  },
  "kernelspec": {
   "name": "python3",
   "display_name": "Python 3.8.11 64-bit ('paddlehub': conda)"
  },
  "interpreter": {
   "hash": "1ab393b4e74f10690122bd8cac8adb5fed0a74445021e612c9c654c49950836c"
  }
 },
 "nbformat": 4,
 "nbformat_minor": 2
}