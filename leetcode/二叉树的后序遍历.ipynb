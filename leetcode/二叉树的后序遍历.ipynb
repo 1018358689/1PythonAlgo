{
 "cells": [
  {
   "cell_type": "code",
   "execution_count": 1,
   "metadata": {},
   "outputs": [],
   "source": [
    "class Solution(object):\n",
    "    def postorderTraversal(self, root):\n",
    "        \"\"\"\n",
    "        :type root: TreeNode\n",
    "        :rtype: List[int]\n",
    "        \"\"\"\n",
    "        r = []\n",
    "\n",
    "        def dfs(root):\n",
    "            if root == None:\n",
    "                return\n",
    "            dfs(root.left)\n",
    "            dfs(root.right)\n",
    "            r.append(root.value)\n",
    "\n",
    "        dfs(root)\n",
    "        return r"
   ]
  },
  {
   "cell_type": "code",
   "execution_count": 2,
   "metadata": {},
   "outputs": [],
   "source": [
    "class Solution(object):\n",
    "    def postorderTraversal(self, root):\n",
    "        \"\"\"\n",
    "        :type root: TreeNode\n",
    "        :rtype: List[int]\n",
    "        \"\"\"\n",
    "        stack = []\n",
    "        res = []\n",
    "        if root: stack.append(root)\n",
    "        while stack:\n",
    "            root = stack.pop()\n",
    "            if root:\n",
    "                res.append(root.val)\n",
    "                if root.left: stack.append(root.left)\n",
    "                if root.right: stack.append(root.right)\n",
    "        return res[::-1]"
   ]
  },
  {
   "cell_type": "code",
   "execution_count": null,
   "metadata": {},
   "outputs": [],
   "source": [
    "class Solution(object):\n",
    "    def postorderTraversal(self, root):\n",
    "        \"\"\"\n",
    "        :type root: TreeNode\n",
    "        :rtype: List[int]\n",
    "        \"\"\"\n",
    "        stack = []\n",
    "        res = []\n",
    "        if root: stack.append(root)\n",
    "        while stack:\n",
    "            root = stack.pop()\n",
    "            if root:\n",
    "                stack.append(root)\n",
    "                stack.append(None)\n",
    "                if root.right: stack.append(root.right)\n",
    "                if root.left: stack.append(root.left)\n",
    "            else:\n",
    "                root = stack.pop()\n",
    "                res.append(root.val)\n",
    "        return res"
   ]
  }
 ],
 "metadata": {
  "interpreter": {
   "hash": "004de6046f1b3d314f33fdb43a2dc798b2646e5600efd8df5066c8b63a00ff6d"
  },
  "kernelspec": {
   "display_name": "Python 3.8.10 64-bit",
   "language": "python",
   "name": "python3"
  },
  "language_info": {
   "codemirror_mode": {
    "name": "ipython",
    "version": 3
   },
   "file_extension": ".py",
   "mimetype": "text/x-python",
   "name": "python",
   "nbconvert_exporter": "python",
   "pygments_lexer": "ipython3",
   "version": "3.8.10"
  },
  "orig_nbformat": 4
 },
 "nbformat": 4,
 "nbformat_minor": 2
}
