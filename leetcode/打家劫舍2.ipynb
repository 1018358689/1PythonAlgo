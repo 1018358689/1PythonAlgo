{
 "cells": [
  {
   "cell_type": "markdown",
   "metadata": {},
   "source": [
    "你是一个专业的小偷，计划偷窃沿街的房屋，每间房内都藏有一定的现金。这个地方所有的房屋都 围成一圈 ，这意味着第一个房屋和最后一个房屋是紧挨着的。同时，相邻的房屋装有相互连通的防盗系统，如果两间相邻的房屋在同一晚上被小偷闯入，系统会自动报警 。\n",
    "\n",
    "给定一个代表每个房屋存放金额的非负整数数组，计算你 在不触动警报装置的情况下 ，今晚能够偷窃到的最高金额。\n",
    "\n",
    " \n",
    "\n",
    "示例 1：\n",
    "输入：nums = [2,3,2]\n",
    "输出：3\n",
    "解释：你不能先偷窃 1 号房屋（金额 = 2），然后偷窃 3 号房屋（金额 = 2）, 因为他们是相邻的。\n",
    "\n",
    "示例 2：\n",
    "输入：nums = [1,2,3,1]\n",
    "输出：4\n",
    "解释：你可以先偷窃 1 号房屋（金额 = 1），然后偷窃 3 号房屋（金额 = 3）。\n",
    "     偷窃到的最高金额 = 1 + 3 = 4 。\n",
    "\n",
    "示例 3：\n",
    "输入：nums = [0]\n",
    "输出：0\n",
    "\n"
   ]
  },
  {
   "cell_type": "markdown",
   "metadata": {},
   "source": [
    "dp[i] i个房子能拿到的最大金额\n",
    "dp[i] = max(dp[i-2]+lst[i-1],dp[i-1])\n",
    "如果不抢第一个房子 那么最后一个房子可抢可不抢 那么房子下标则为[1,size-1] basecase dp[2]=lst[1] dp[3]=max(lst[1],lst[2]) n>=4\n",
    "如果不抢最后一个房子 那么第一个房子可抢可不抢  那么房子下标为[0,size-2] basecase dp[1]=lst[0] dp[2]=max(lst[0],lst[1]) n>=3\n",
    "最后把两种情况取最大值\n",
    "也可以去掉第一个 或 去掉最后一个  size-1"
   ]
  },
  {
   "cell_type": "code",
   "execution_count": 42,
   "metadata": {},
   "outputs": [],
   "source": [
    "def f(lst):\n",
    "    size = len(lst)\n",
    "    if size == 1: return lst[0]\n",
    "    if size == 2: return max(lst[0], lst[1])\n",
    "    if size == 3: return max(lst[0], lst[1], lst[2])\n",
    "    dp1 = [0] + [0] * (size - 1) # 不能dp1=dp2=...不然会跟着变\n",
    "    dp2 = [0] + [0] * (size - 1)\n",
    "    # 如果不抢第一个房子\n",
    "    lst1 = lst[1:]\n",
    "    dp1[1], dp1[2] = lst1[0], max(lst1[0], lst1[1])\n",
    "    for i in range(3, size):\n",
    "        dp1[i] = max(dp1[i - 2] + lst1[i - 1], dp1[i - 1])\n",
    "    # 如果不抢最后一个房子\n",
    "    lst2 = lst[:-1]\n",
    "    dp2[1], dp2[2] = lst2[0], max(lst2[0], lst2[1])\n",
    "    for i in range(3, size):\n",
    "        dp2[i] = max(dp2[i - 2] + lst2[i - 1], dp2[i - 1])\n",
    "    return max(dp1[-1], dp2[-1])\n"
   ]
  },
  {
   "cell_type": "code",
   "execution_count": 43,
   "metadata": {},
   "outputs": [
    {
     "name": "stdout",
     "output_type": "stream",
     "text": [
      "3 3\n",
      "[0, 2, 3, 3]\n",
      "4 2\n",
      "[0, 2, 3, 3] [0, 1, 2, 4]\n"
     ]
    },
    {
     "data": {
      "text/plain": [
       "4"
      ]
     },
     "execution_count": 43,
     "metadata": {},
     "output_type": "execute_result"
    }
   ],
   "source": [
    "f([1,2,3,1])"
   ]
  },
  {
   "cell_type": "code",
   "execution_count": 44,
   "metadata": {},
   "outputs": [
    {
     "data": {
      "text/plain": [
       "3"
      ]
     },
     "execution_count": 44,
     "metadata": {},
     "output_type": "execute_result"
    }
   ],
   "source": [
    "f([2,3,2])"
   ]
  },
  {
   "cell_type": "code",
   "execution_count": 45,
   "metadata": {},
   "outputs": [
    {
     "name": "stdout",
     "output_type": "stream",
     "text": [
      "3 2\n",
      "[0, 2, 2, 3]\n",
      "2 2\n",
      "[0, 2, 2, 3] [0, 1, 2, 2]\n"
     ]
    },
    {
     "data": {
      "text/plain": [
       "3"
      ]
     },
     "execution_count": 45,
     "metadata": {},
     "output_type": "execute_result"
    }
   ],
   "source": [
    "f([1,2,1,1])"
   ]
  },
  {
   "cell_type": "code",
   "execution_count": 30,
   "metadata": {},
   "outputs": [
    {
     "data": {
      "text/plain": [
       "([1, [0]], [1, [0]])"
      ]
     },
     "execution_count": 30,
     "metadata": {},
     "output_type": "execute_result"
    }
   ],
   "source": [
    "a=b=[[0],[0]]\n",
    "b[0]=1\n",
    "a,b"
   ]
  },
  {
   "cell_type": "code",
   "execution_count": 31,
   "metadata": {},
   "outputs": [
    {
     "data": {
      "text/plain": [
       "([[1], [0]], [[1], [0]])"
      ]
     },
     "execution_count": 31,
     "metadata": {},
     "output_type": "execute_result"
    }
   ],
   "source": [
    "a=b=[[0],[0]]\n",
    "b[0][0]=1\n",
    "a,b"
   ]
  },
  {
   "cell_type": "code",
   "execution_count": 33,
   "metadata": {},
   "outputs": [
    {
     "data": {
      "text/plain": [
       "([1, 0, 0], [1, 0, 0])"
      ]
     },
     "execution_count": 33,
     "metadata": {},
     "output_type": "execute_result"
    }
   ],
   "source": [
    "a=b=[0]*3\n",
    "b[0]=1\n",
    "a,b"
   ]
  },
  {
   "cell_type": "code",
   "execution_count": null,
   "metadata": {},
   "outputs": [],
   "source": []
  }
 ],
 "metadata": {
  "interpreter": {
   "hash": "aee8b7b246df8f9039afb4144a1f6fd8d2ca17a180786b69acc140d282b71a49"
  },
  "kernelspec": {
   "display_name": "Python 3.8.10 64-bit",
   "name": "python3"
  },
  "language_info": {
   "codemirror_mode": {
    "name": "ipython",
    "version": 3
   },
   "file_extension": ".py",
   "mimetype": "text/x-python",
   "name": "python",
   "nbconvert_exporter": "python",
   "pygments_lexer": "ipython3",
   "version": "3.8.10"
  },
  "orig_nbformat": 4
 },
 "nbformat": 4,
 "nbformat_minor": 2
}
