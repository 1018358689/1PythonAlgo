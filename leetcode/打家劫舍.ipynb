{
 "cells": [
  {
   "cell_type": "markdown",
   "metadata": {},
   "source": [
    "你是一个专业的小偷，计划偷窃沿街的房屋。每间房内都藏有一定的现金，影响你偷窃的唯一制约因素就是相邻的房屋装有相互连通的防盗系统，如果两间相邻的房屋在同一晚上被小偷闯入，系统会自动报警。\n",
    "\n",
    "给定一个代表每个房屋存放金额的非负整数数组，计算你 不触动警报装置的情况下 ，一夜之内能够偷窃到的最高金额。\n",
    "\n",
    " \n",
    "\n",
    "示例 1：\n",
    "\n",
    "输入：[1,2,3,1]\n",
    "输出：4\n",
    "解释：偷窃 1 号房屋 (金额 = 1) ，然后偷窃 3 号房屋 (金额 = 3)。\n",
    "     偷窃到的最高金额 = 1 + 3 = 4 。\n",
    "示例 2：\n",
    "\n",
    "输入：[2,7,9,3,1]\n",
    "输出：12\n",
    "解释：偷窃 1 号房屋 (金额 = 2), 偷窃 3 号房屋 (金额 = 9)，接着偷窃 5 号房屋 (金额 = 1)。\n",
    "     偷窃到的最高金额 = 2 + 9 + 1 = 12 。\n",
    "\n"
   ]
  },
  {
   "cell_type": "code",
   "execution_count": 4,
   "metadata": {},
   "outputs": [],
   "source": [
    "def rob(lst):\n",
    "    # dp[i]  i个房子能拿到的最大金额\n",
    "    # dp[i] = max(dp[i-1],dp[i-2]+lst[i-1])\n",
    "    # basecase  dp[1] = lst[0]   dp[2] = max(lst[0],lst[1])\n",
    "    size = len(lst)\n",
    "    dp = [0] + [0] * size\n",
    "    dp[1] = lst[0]\n",
    "    if size == 1: return dp[1]\n",
    "    dp[2] = max(lst[0], lst[1])\n",
    "    if size == 2: return dp[2]\n",
    "    for i in range(3, size + 1):\n",
    "        dp[i] = max(dp[i - 1], dp[i - 2] + lst[i - 1])\n",
    "    return dp[size]"
   ]
  },
  {
   "cell_type": "code",
   "execution_count": 5,
   "metadata": {},
   "outputs": [
    {
     "data": {
      "text/plain": [
       "12"
      ]
     },
     "execution_count": 5,
     "metadata": {},
     "output_type": "execute_result"
    }
   ],
   "source": [
    "rob([2,7,9,3,1])"
   ]
  },
  {
   "cell_type": "code",
   "execution_count": 6,
   "metadata": {},
   "outputs": [
    {
     "data": {
      "text/plain": [
       "1"
      ]
     },
     "execution_count": 6,
     "metadata": {},
     "output_type": "execute_result"
    }
   ],
   "source": [
    "rob([1])"
   ]
  },
  {
   "cell_type": "code",
   "execution_count": null,
   "metadata": {},
   "outputs": [],
   "source": []
  }
 ],
 "metadata": {
  "interpreter": {
   "hash": "004de6046f1b3d314f33fdb43a2dc798b2646e5600efd8df5066c8b63a00ff6d"
  },
  "kernelspec": {
   "display_name": "Python 3.8.10 64-bit",
   "language": "python",
   "name": "python3"
  },
  "language_info": {
   "codemirror_mode": {
    "name": "ipython",
    "version": 3
   },
   "file_extension": ".py",
   "mimetype": "text/x-python",
   "name": "python",
   "nbconvert_exporter": "python",
   "pygments_lexer": "ipython3",
   "version": "3.8.10"
  },
  "orig_nbformat": 4
 },
 "nbformat": 4,
 "nbformat_minor": 2
}
