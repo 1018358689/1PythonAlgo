{
 "cells": [
  {
   "cell_type": "code",
   "execution_count": 10,
   "metadata": {},
   "outputs": [],
   "source": [
    "# 定义：dp[i] 为小于等于 i 的点数, 通过特殊操作(删或不删)所能获得到的最大值.\n",
    "# 状态转移：dp[i] = max(dp[i-1],dp[i-2]+numsmap[i]*i)\n",
    "# 边界初始化：basecase dp[0]=0, dp[1]=numsmap[1]*1\n",
    "\n",
    "from collections import Counter\n",
    "\n",
    "\n",
    "def deleteAndEarn(nums):\n",
    "    numsmap = Counter(nums)\n",
    "    maxnum = max(nums)\n",
    "    dp = [0] + [0] * maxnum # 为了取到maxnum 所以长度加1\n",
    "    dp[0] = 0\n",
    "    dp[1] = numsmap[1] * 1\n",
    "    for i in range(2,maxnum+1):\n",
    "        dp[i] = max(dp[i-1],dp[i-2]+numsmap[i]*i)\n",
    "    return dp[maxnum]"
   ]
  },
  {
   "cell_type": "code",
   "execution_count": 11,
   "metadata": {},
   "outputs": [
    {
     "data": {
      "text/plain": [
       "9"
      ]
     },
     "execution_count": 11,
     "metadata": {},
     "output_type": "execute_result"
    }
   ],
   "source": [
    "nums = [2,2,3,3,3,4]\n",
    "deleteAndEarn(nums)"
   ]
  },
  {
   "cell_type": "code",
   "execution_count": 19,
   "metadata": {},
   "outputs": [],
   "source": [
    "# dp[i] 为下标i这个点所能跳到的最远距离\n",
    "# dp[i] = max(nums[i],dp[i-1]-1)\n",
    "# dp[0] = nums[0]\n",
    "# 在每次循环开始，我们判断dp[i-1]是否等于0，若是，则不可能到达下标i处，因此直接返回false。循环结束后 返回true\n",
    "# 因为转移状态数组dp只和前一位有关，因此可以用滚动数组简化空间复杂度\n",
    "\n",
    "def canJump(nums):\n",
    "    size = len(nums)\n",
    "    dp = [0] * size\n",
    "    dp[0] = nums[0]\n",
    "    for i in range(1, size):\n",
    "        print(dp[i - 1])\n",
    "        dp[i] = max(nums[i], dp[i - 1] - 1)\n",
    "        if dp[i - 1] == 0: return False\n",
    "    return True"
   ]
  },
  {
   "cell_type": "code",
   "execution_count": 20,
   "metadata": {},
   "outputs": [
    {
     "name": "stdout",
     "output_type": "stream",
     "text": [
      "3\n",
      "2\n",
      "1\n",
      "0\n"
     ]
    },
    {
     "data": {
      "text/plain": [
       "False"
      ]
     },
     "execution_count": 20,
     "metadata": {},
     "output_type": "execute_result"
    }
   ],
   "source": [
    "canJump([3,2,1,0,4])"
   ]
  },
  {
   "cell_type": "code",
   "execution_count": null,
   "metadata": {},
   "outputs": [],
   "source": [
    "def maxSubArray(nums):\n",
    "    newnums = []\n",
    "    L = 0\n",
    "    nums.append(0)\n",
    "    for R in range(L + 1, len(nums)):\n",
    "        if nums[R] * nums[L] <= 0:\n",
    "            newnums.append(sum(nums[L:R]))\n",
    "            L = R\n",
    "    # maxindex = newnums.index(max(newnums))\n",
    "    # return max(sum(newnums[maxindex:i + 1]) for i in range(maxindex, len(newnums)))\n",
    "    r = []\n",
    "    newnums.append(0)\n",
    "    for i in range(len(newnums)-1):\n",
    "        for j in range(i+1,len(newnums)):\n",
    "                r.append(sum[i:j])\n",
    "maxSubArray([-2, 1, -3, 4, -1, 2, 1, -5, 4]), maxSubArray([1]), maxSubArray([0])\n",
    "maxSubArray([5,4,-1,7,8])"
   ]
  },
  {
   "cell_type": "code",
   "execution_count": 2,
   "metadata": {},
   "outputs": [
    {
     "data": {
      "text/plain": [
       "23"
      ]
     },
     "execution_count": 2,
     "metadata": {},
     "output_type": "execute_result"
    }
   ],
   "source": [
    "def maxSubArray(nums):\n",
    "    r = []\n",
    "    nums.append(0)\n",
    "    for L in range(len(nums) - 1):\n",
    "        for R in range(L + 1, len(nums)):\n",
    "            r.append(sum(nums[L:R]))\n",
    "    return max(r)\n",
    "\n",
    "\n",
    "maxSubArray([-2, 1, -3, 4, -1, 2, 1, -5, 4]), maxSubArray([1]), maxSubArray([0])\n",
    "maxSubArray([5, 4, -1, 7, 8])\n"
   ]
  },
  {
   "cell_type": "code",
   "execution_count": 4,
   "metadata": {},
   "outputs": [
    {
     "data": {
      "text/plain": [
       "23"
      ]
     },
     "execution_count": 4,
     "metadata": {},
     "output_type": "execute_result"
    }
   ],
   "source": [
    "def maxSubArray(nums):\n",
    "    r = 0\n",
    "    nums.append(0)\n",
    "    for L in range(len(nums) - 1):\n",
    "        for R in range(L + 1, len(nums)):\n",
    "            s = sum(nums[L:R])\n",
    "            if s > r: r = s\n",
    "    return r\n",
    "\n",
    "\n",
    "maxSubArray([-2, 1, -3, 4, -1, 2, 1, -5, 4]), maxSubArray([1]), maxSubArray([0])\n",
    "maxSubArray([5, 4, -1, 7, 8])\n"
   ]
  },
  {
   "cell_type": "code",
   "execution_count": 5,
   "metadata": {},
   "outputs": [
    {
     "data": {
      "text/plain": [
       "[]"
      ]
     },
     "execution_count": 5,
     "metadata": {},
     "output_type": "execute_result"
    }
   ],
   "source": [
    "for i in list(range(0)):\n",
    "    print(i)"
   ]
  },
  {
   "cell_type": "code",
   "execution_count": 15,
   "metadata": {},
   "outputs": [
    {
     "data": {
      "text/plain": [
       "'1,235,600.0%'"
      ]
     },
     "execution_count": 15,
     "metadata": {},
     "output_type": "execute_result"
    }
   ],
   "source": [
    "'{:x<9,.1%}'.format(12356)"
   ]
  },
  {
   "cell_type": "code",
   "execution_count": 19,
   "metadata": {},
   "outputs": [
    {
     "data": {
      "text/plain": [
       "3"
      ]
     },
     "execution_count": 19,
     "metadata": {},
     "output_type": "execute_result"
    }
   ],
   "source": [
    "def f(nums, target):\n",
    "    L, R = 0, len(nums) - 1  # [L,R]\n",
    "    while L <= R:\n",
    "        M = (L + R) // 2\n",
    "        if target > nums[M]: L = M + 1\n",
    "        elif target < nums[M]: R = M - 1\n",
    "        else: return M\n",
    "    return -1\n"
   ]
  },
  {
   "cell_type": "code",
   "execution_count": 3,
   "metadata": {},
   "outputs": [
    {
     "data": {
      "text/plain": [
       "([-1, -1], [-1, -1], [3, 4])"
      ]
     },
     "execution_count": 3,
     "metadata": {},
     "output_type": "execute_result"
    }
   ],
   "source": [
    "def f(nums, target):\n",
    "    L, R = 0, len(nums) - 1  # [L,R]\n",
    "    while L <= R:\n",
    "        M = (L + R) // 2\n",
    "        if target > nums[M]: L = M + 1\n",
    "        elif target < nums[M]: R = M - 1\n",
    "        else: R = M - 1\n",
    "    if L == len(nums) or nums[L] != target:\n",
    "        return [-1, -1]\n",
    "    left = L\n",
    "    L, R = 0, len(nums) - 1  # [L,R]\n",
    "    while L <= R:\n",
    "        M = (L + R) // 2\n",
    "        if target > nums[M]: L = M + 1\n",
    "        elif target < nums[M]: R = M - 1\n",
    "        else: L = M + 1\n",
    "    right = R\n",
    "    return [left, right]\n",
    "\n",
    "\n",
    "f([], 0), f([5, 7, 7, 8, 8, 10], 6), f([5, 7, 7, 8, 8, 10], 8)\n"
   ]
  },
  {
   "cell_type": "code",
   "execution_count": 21,
   "metadata": {},
   "outputs": [
    {
     "data": {
      "text/plain": [
       "'1abc2abc3'"
      ]
     },
     "execution_count": 21,
     "metadata": {},
     "output_type": "execute_result"
    }
   ],
   "source": [
    "'abc'.join(['1','2','3'])"
   ]
  },
  {
   "cell_type": "code",
   "execution_count": 22,
   "metadata": {},
   "outputs": [
    {
     "data": {
      "text/plain": [
       "['ArithmeticError',\n",
       " 'AssertionError',\n",
       " 'AttributeError',\n",
       " 'BaseException',\n",
       " 'BlockingIOError',\n",
       " 'BrokenPipeError',\n",
       " 'BufferError',\n",
       " 'BytesWarning',\n",
       " 'ChildProcessError',\n",
       " 'ConnectionAbortedError',\n",
       " 'ConnectionError',\n",
       " 'ConnectionRefusedError',\n",
       " 'ConnectionResetError',\n",
       " 'DeprecationWarning',\n",
       " 'EOFError',\n",
       " 'Ellipsis',\n",
       " 'EnvironmentError',\n",
       " 'Exception',\n",
       " 'False',\n",
       " 'FileExistsError',\n",
       " 'FileNotFoundError',\n",
       " 'FloatingPointError',\n",
       " 'FutureWarning',\n",
       " 'GeneratorExit',\n",
       " 'IOError',\n",
       " 'ImportError',\n",
       " 'ImportWarning',\n",
       " 'IndentationError',\n",
       " 'IndexError',\n",
       " 'InterruptedError',\n",
       " 'IsADirectoryError',\n",
       " 'KeyError',\n",
       " 'KeyboardInterrupt',\n",
       " 'LookupError',\n",
       " 'MemoryError',\n",
       " 'ModuleNotFoundError',\n",
       " 'NameError',\n",
       " 'None',\n",
       " 'NotADirectoryError',\n",
       " 'NotImplemented',\n",
       " 'NotImplementedError',\n",
       " 'OSError',\n",
       " 'OverflowError',\n",
       " 'PendingDeprecationWarning',\n",
       " 'PermissionError',\n",
       " 'ProcessLookupError',\n",
       " 'RecursionError',\n",
       " 'ReferenceError',\n",
       " 'ResourceWarning',\n",
       " 'RuntimeError',\n",
       " 'RuntimeWarning',\n",
       " 'StopAsyncIteration',\n",
       " 'StopIteration',\n",
       " 'SyntaxError',\n",
       " 'SyntaxWarning',\n",
       " 'SystemError',\n",
       " 'SystemExit',\n",
       " 'TabError',\n",
       " 'TimeoutError',\n",
       " 'True',\n",
       " 'TypeError',\n",
       " 'UnboundLocalError',\n",
       " 'UnicodeDecodeError',\n",
       " 'UnicodeEncodeError',\n",
       " 'UnicodeError',\n",
       " 'UnicodeTranslateError',\n",
       " 'UnicodeWarning',\n",
       " 'UserWarning',\n",
       " 'ValueError',\n",
       " 'Warning',\n",
       " 'WindowsError',\n",
       " 'ZeroDivisionError',\n",
       " '__IPYTHON__',\n",
       " '__build_class__',\n",
       " '__debug__',\n",
       " '__doc__',\n",
       " '__import__',\n",
       " '__loader__',\n",
       " '__name__',\n",
       " '__package__',\n",
       " '__spec__',\n",
       " 'abs',\n",
       " 'all',\n",
       " 'any',\n",
       " 'ascii',\n",
       " 'bin',\n",
       " 'bool',\n",
       " 'breakpoint',\n",
       " 'bytearray',\n",
       " 'bytes',\n",
       " 'callable',\n",
       " 'chr',\n",
       " 'classmethod',\n",
       " 'compile',\n",
       " 'complex',\n",
       " 'copyright',\n",
       " 'credits',\n",
       " 'delattr',\n",
       " 'dict',\n",
       " 'dir',\n",
       " 'display',\n",
       " 'divmod',\n",
       " 'enumerate',\n",
       " 'eval',\n",
       " 'exec',\n",
       " 'execfile',\n",
       " 'filter',\n",
       " 'float',\n",
       " 'format',\n",
       " 'frozenset',\n",
       " 'get_ipython',\n",
       " 'getattr',\n",
       " 'globals',\n",
       " 'hasattr',\n",
       " 'hash',\n",
       " 'help',\n",
       " 'hex',\n",
       " 'id',\n",
       " 'input',\n",
       " 'int',\n",
       " 'isinstance',\n",
       " 'issubclass',\n",
       " 'iter',\n",
       " 'len',\n",
       " 'license',\n",
       " 'list',\n",
       " 'locals',\n",
       " 'map',\n",
       " 'max',\n",
       " 'memoryview',\n",
       " 'min',\n",
       " 'next',\n",
       " 'object',\n",
       " 'oct',\n",
       " 'open',\n",
       " 'ord',\n",
       " 'pow',\n",
       " 'print',\n",
       " 'property',\n",
       " 'range',\n",
       " 'repr',\n",
       " 'reversed',\n",
       " 'round',\n",
       " 'runfile',\n",
       " 'set',\n",
       " 'setattr',\n",
       " 'slice',\n",
       " 'sorted',\n",
       " 'staticmethod',\n",
       " 'str',\n",
       " 'sum',\n",
       " 'super',\n",
       " 'tuple',\n",
       " 'type',\n",
       " 'vars',\n",
       " 'zip']"
      ]
     },
     "execution_count": 22,
     "metadata": {},
     "output_type": "execute_result"
    }
   ],
   "source": [
    "dir(__builtins__)"
   ]
  },
  {
   "cell_type": "code",
   "execution_count": 18,
   "metadata": {},
   "outputs": [
    {
     "data": {
      "text/plain": [
       "((5, [0, 1, 2, 3, 4]), (2, [1, 2]))"
      ]
     },
     "execution_count": 18,
     "metadata": {},
     "output_type": "execute_result"
    }
   ],
   "source": [
    "def f(nums):\n",
    "    # 倒着删,避免索引遗漏\n",
    "    cnt = 1\n",
    "    i = len(nums)-2\n",
    "    while i>=0:\n",
    "        if nums[i]==nums[i+1]:\n",
    "            # print(i)\n",
    "            nums.pop(i)\n",
    "        else:\n",
    "            cnt+=1\n",
    "        i-=1\n",
    "    return cnt,nums\n",
    "f([0,0,1,1,1,2,2,3,3,4]),f([1,1,2])"
   ]
  },
  {
   "cell_type": "code",
   "execution_count": 19,
   "metadata": {},
   "outputs": [
    {
     "data": {
      "text/plain": [
       "(4, 3)"
      ]
     },
     "execution_count": 19,
     "metadata": {},
     "output_type": "execute_result"
    }
   ],
   "source": [
    "nums = [1,2,3,1]\n",
    "n1 = len(nums)\n",
    "n2 = len(set(nums))\n",
    "n1,n2"
   ]
  },
  {
   "cell_type": "code",
   "execution_count": 22,
   "metadata": {},
   "outputs": [
    {
     "data": {
      "text/plain": [
       "1"
      ]
     },
     "execution_count": 22,
     "metadata": {},
     "output_type": "execute_result"
    }
   ],
   "source": [
    "nums = [2,2,1]\n",
    "d = {}\n",
    "for n in nums:\n",
    "    # if n not in d:d[n]=1\n",
    "    # else: d[n]+=1\n",
    "    d[n] = d.get(n,0)\n",
    "    d[n]+=1\n",
    "[k for k in d if d[k]==1][0]"
   ]
  },
  {
   "cell_type": "code",
   "execution_count": 24,
   "metadata": {},
   "outputs": [
    {
     "data": {
      "text/plain": [
       "9"
      ]
     },
     "execution_count": 24,
     "metadata": {},
     "output_type": "execute_result"
    }
   ],
   "source": [
    "nums = [2,2,1,1,9]\n",
    "r = nums[0]\n",
    "for i in range(1,len(nums)):\n",
    "    r^=nums[i]\n",
    "r"
   ]
  },
  {
   "cell_type": "code",
   "execution_count": 30,
   "metadata": {},
   "outputs": [
    {
     "data": {
      "text/plain": [
       "[4, 9, 9]"
      ]
     },
     "execution_count": 30,
     "metadata": {},
     "output_type": "execute_result"
    }
   ],
   "source": [
    "nums1 = [4, 9,9,9, 5]\n",
    "nums2 = [9, 4, 9, 8, 4]\n",
    "from collections import Counter\n",
    "c1 = Counter(nums1)\n",
    "c2 = Counter(nums2)\n",
    "c12 = c1&c2\n",
    "r=[]\n",
    "for i in c12:\n",
    "    r+=[i]*c12[i]\n",
    "r"
   ]
  },
  {
   "cell_type": "code",
   "execution_count": 23,
   "metadata": {},
   "outputs": [
    {
     "name": "stdout",
     "output_type": "stream",
     "text": [
      "7\n"
     ]
    },
    {
     "data": {
      "text/plain": [
       "True"
      ]
     },
     "execution_count": 23,
     "metadata": {},
     "output_type": "execute_result"
    }
   ],
   "source": [
    "s1 = \"abc\" \n",
    "s2 = \"eidcbaooo\"\n",
    "def f(s1,s2):\n",
    "    target = set(s1)\n",
    "    i = 0\n",
    "    while i<=len(s2)-len(s1):\n",
    "        if s2[i] in target:\n",
    "            if set(s2[i:i+len(s1)])==target:\n",
    "                print(i)\n",
    "                return True\n",
    "        i+=1\n",
    "    return False   \n",
    "\n",
    "# f('ab','eidbaooo'),f('ab','eidboaoo'), f('adc','dcda'), f('hello','ooolleoooleh')"
   ]
  },
  {
   "cell_type": "code",
   "execution_count": 24,
   "metadata": {},
   "outputs": [
    {
     "data": {
      "text/plain": [
       "(True, False, True, False)"
      ]
     },
     "execution_count": 24,
     "metadata": {},
     "output_type": "execute_result"
    }
   ],
   "source": [
    "from collections import Counter\n",
    "\n",
    "\n",
    "def f(s1, s2):\n",
    "    window_length = len(s1)\n",
    "    counter1 = Counter(s1)\n",
    "    L = 0\n",
    "    R = L + window_length - 1  # [L,R]\n",
    "    while R <= len(s2) - 1:\n",
    "        counter2 = Counter(s2[L:R + 1])\n",
    "        if counter1 == counter2:\n",
    "            return True\n",
    "        L += 1\n",
    "        R = L + window_length - 1\n",
    "    return False\n",
    "\n",
    "\n",
    "f('ab', 'eidbaooo'), f('ab', 'eidboaoo'), f('adc', 'dcda'), f('hello', 'ooolleoooleh')\n"
   ]
  },
  {
   "cell_type": "code",
   "execution_count": 20,
   "metadata": {},
   "outputs": [
    {
     "data": {
      "text/plain": [
       "Counter({'a': 1, 'b': 1})"
      ]
     },
     "execution_count": 20,
     "metadata": {},
     "output_type": "execute_result"
    }
   ],
   "source": [
    "from collections import Counter\n",
    "s='abc'\n",
    "Counter(s[0:1+1])"
   ]
  },
  {
   "cell_type": "code",
   "execution_count": 33,
   "metadata": {},
   "outputs": [
    {
     "name": "stdout",
     "output_type": "stream",
     "text": [
      "None\n"
     ]
    }
   ],
   "source": [
    "d1 = {'a':1,'b':1,'c':2}\n",
    "d2 = {'a':2,'b':1,'c':2}\n",
    "print(d1.get('d'))"
   ]
  },
  {
   "cell_type": "code",
   "execution_count": 1,
   "metadata": {},
   "outputs": [],
   "source": [
    "from collections import Counter\n",
    "def f(s,t):\n",
    "    L=R=valid = 0 # [L,R]\n",
    "    counter1 = Counter(t)\n",
    "    counter2 = {}\n",
    "    lenmax = float('inf')\n",
    "    start = 0\n",
    "    while R<= len(s)-1:\n",
    "        c = s[R]\n",
    "        if counter1.get(c): # c1中存在该值\n",
    "            counter2[c] = counter2.get(c,0)+1 # c2该值+1\n",
    "            if counter2[c]==counter1[c]:\n",
    "                valid+=1\n",
    "        # 判断左窗口是否要收缩\n",
    "        while valid == len(counter1):\n",
    "            if R-L+1<lenmax:\n",
    "                start =L\n",
    "                lenmax = R-L+1\n",
    "            L+=1\n",
    "            # d= \n"
   ]
  },
  {
   "cell_type": "code",
   "execution_count": 18,
   "metadata": {},
   "outputs": [
    {
     "name": "stdout",
     "output_type": "stream",
     "text": [
      "steps\n"
     ]
    }
   ],
   "source": [
    "import re\n",
    "from collections import Counter\n",
    "\n",
    "licensePlate = '1s3 PSt'\n",
    "words = [\"stepple\", \"step\", \"steps\", \"stripe\"]\n",
    "need = Counter(re.findall(r'[a-z]', licensePlate.lower()))\n",
    "words.sort(key=len)\n",
    "for w in words:\n",
    "    if not need-Counter(w):\n",
    "        print(w)\n"
   ]
  },
  {
   "cell_type": "code",
   "execution_count": 19,
   "metadata": {},
   "outputs": [
    {
     "data": {
      "text/plain": [
       "'husband'"
      ]
     },
     "execution_count": 19,
     "metadata": {},
     "output_type": "execute_result"
    }
   ],
   "source": [
    "from typing import List\n",
    "\n",
    "import re\n",
    "from collections import Counter\n",
    "def shortestCompletingWord(licensePlate: str, words: List[str]) -> str:\n",
    "    need = Counter(re.findall(r'[a-z]', licensePlate.lower()))\n",
    "    words.sort(key=len)\n",
    "    for w in words:\n",
    "        if not need - Counter(w):\n",
    "            return w\n",
    "\n",
    "shortestCompletingWord('Ah71752',[\"suggest\",\"letter\",\"of\",\"husband\",\"easy\",\"education\",\"drug\",\"prevent\",\"writer\",\"old\"])"
   ]
  },
  {
   "cell_type": "code",
   "execution_count": null,
   "metadata": {},
   "outputs": [],
   "source": []
  }
 ],
 "metadata": {
  "interpreter": {
   "hash": "004de6046f1b3d314f33fdb43a2dc798b2646e5600efd8df5066c8b63a00ff6d"
  },
  "kernelspec": {
   "display_name": "Python 3.8.10 64-bit",
   "language": "python",
   "name": "python3"
  },
  "language_info": {
   "codemirror_mode": {
    "name": "ipython",
    "version": 3
   },
   "file_extension": ".py",
   "mimetype": "text/x-python",
   "name": "python",
   "nbconvert_exporter": "python",
   "pygments_lexer": "ipython3",
   "version": "3.8.10"
  },
  "orig_nbformat": 4
 },
 "nbformat": 4,
 "nbformat_minor": 2
}
