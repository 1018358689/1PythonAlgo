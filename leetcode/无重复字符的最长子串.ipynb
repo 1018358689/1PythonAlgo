{
 "cells": [
  {
   "cell_type": "code",
   "execution_count": 29,
   "metadata": {},
   "outputs": [
    {
     "data": {
      "text/plain": [
       "(3, 0, 2, 1, 3, 5, 3)"
      ]
     },
     "execution_count": 29,
     "metadata": {},
     "output_type": "execute_result"
    }
   ],
   "source": [
    "def f(s):\n",
    "    \"\"\"\n",
    "    :type s: str\n",
    "    :rtype: int\n",
    "    \"\"\"\n",
    "    if not s: return 0\n",
    "    L = 0\n",
    "    window = []\n",
    "    maxlength = 1\n",
    "    for R in range(len(s)):\n",
    "        # print(L,R)\n",
    "        if s[R] not in window:\n",
    "            window.append(s[R])\n",
    "        else:\n",
    "            window.append(s[R])\n",
    "            while s[L] != s[R]:\n",
    "                L += 1\n",
    "                window.pop(0)\n",
    "                # print(L,R)\n",
    "            window.pop(0)\n",
    "            L += 1\n",
    "            # print(L,R)\n",
    "        maxlength = max((maxlength, R - L + 1))\n",
    "    return maxlength\n",
    "\n",
    "\n",
    "f('abcbcbb'), f(''), f('abb'), f('a'), f('dvdf'), f('tmmzuxt'), f('baabaab!bb')\n"
   ]
  },
  {
   "cell_type": "code",
   "execution_count": 28,
   "metadata": {},
   "outputs": [
    {
     "data": {
      "text/plain": [
       "(3, 0, 2, 1, 3, 5, 3)"
      ]
     },
     "execution_count": 28,
     "metadata": {},
     "output_type": "execute_result"
    }
   ],
   "source": [
    "def f(s):\n",
    "    \"\"\"\n",
    "    :type s: str\n",
    "    :rtype: int\n",
    "    \"\"\"\n",
    "    if not s: return 0\n",
    "    L = 0\n",
    "    maxlength = 1\n",
    "    for R in range(1, len(s)):\n",
    "        if s[R] in s[L:R]:\n",
    "            while s[L] != s[R]:\n",
    "                L += 1\n",
    "            L += 1\n",
    "        maxlength = max((maxlength, R - L + 1))  # 去重后的长度\n",
    "    return maxlength\n",
    "\n",
    "\n",
    "f('abcbcbb'), f(''), f('abb'), f('a'), f('dvdf'), f('tmmzuxt'), f('baabaab!bb')\n",
    "# f('abcbcbb')"
   ]
  },
  {
   "cell_type": "code",
   "execution_count": 18,
   "metadata": {},
   "outputs": [
    {
     "data": {
      "text/plain": [
       "(3, 0, 2, 1, 3, 5, 3)"
      ]
     },
     "execution_count": 18,
     "metadata": {},
     "output_type": "execute_result"
    }
   ],
   "source": [
    "def f(s):\n",
    "    \"\"\"\n",
    "    :type s: str\n",
    "    :rtype: int\n",
    "    \"\"\"\n",
    "    if not s: return 0\n",
    "    L = 0\n",
    "    window = [s[0]]\n",
    "    maxlength = 1\n",
    "    for R in range(1, len(s)):\n",
    "        if s[R] in window: # 当出现重复 去掉最前面 直到去除完重复\n",
    "            while s[L] != s[R]:\n",
    "                L += 1\n",
    "                window.pop(0)\n",
    "            L += 1\n",
    "            window.pop(0)\n",
    "        window.append(s[R])\n",
    "        maxlength = max((maxlength, len(window))) # 去除完毕的 窗口大小\n",
    "    return maxlength\n",
    "\n",
    "\n",
    "f('abcbcbb'), f(''), f('abb'), f('a'), f('dvdf'), f('tmmzuxt'), f('baabaab!bb')\n",
    "# f('abcbcbb')"
   ]
  },
  {
   "cell_type": "code",
   "execution_count": 14,
   "metadata": {},
   "outputs": [
    {
     "ename": "IndexError",
     "evalue": "string index out of range",
     "output_type": "error",
     "traceback": [
      "\u001b[1;31m---------------------------------------------------------------------------\u001b[0m",
      "\u001b[1;31mIndexError\u001b[0m                                Traceback (most recent call last)",
      "\u001b[1;32m~\\AppData\\Local\\Temp/ipykernel_9148/880471181.py\u001b[0m in \u001b[0;36m<module>\u001b[1;34m\u001b[0m\n\u001b[1;32m----> 1\u001b[1;33m \u001b[1;34m'a'\u001b[0m\u001b[1;33m[\u001b[0m\u001b[1;36m1\u001b[0m\u001b[1;33m]\u001b[0m\u001b[1;33m\u001b[0m\u001b[1;33m\u001b[0m\u001b[0m\n\u001b[0m",
      "\u001b[1;31mIndexError\u001b[0m: string index out of range"
     ]
    }
   ],
   "source": [
    "'a'[1]"
   ]
  },
  {
   "cell_type": "code",
   "execution_count": null,
   "metadata": {},
   "outputs": [],
   "source": []
  }
 ],
 "metadata": {
  "interpreter": {
   "hash": "004de6046f1b3d314f33fdb43a2dc798b2646e5600efd8df5066c8b63a00ff6d"
  },
  "kernelspec": {
   "display_name": "Python 3.8.10 64-bit",
   "language": "python",
   "name": "python3"
  },
  "language_info": {
   "codemirror_mode": {
    "name": "ipython",
    "version": 3
   },
   "file_extension": ".py",
   "mimetype": "text/x-python",
   "name": "python",
   "nbconvert_exporter": "python",
   "pygments_lexer": "ipython3",
   "version": "3.8.10"
  },
  "orig_nbformat": 4
 },
 "nbformat": 4,
 "nbformat_minor": 2
}
