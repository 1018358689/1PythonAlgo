{
 "cells": [
  {
   "cell_type": "markdown",
   "metadata": {},
   "source": [
    "给定一个 n 个元素有序的（升序）整型数组 nums 和一个目标值 target  ，写一个函数搜索 nums 中的 target，如果目标值存在返回下标，否则返回 -1。\n",
    "\n",
    "\n",
    "示例 1:\n",
    "\n",
    "输入: nums = [-1,0,3,5,9,12], target = 9\n",
    "输出: 4\n",
    "解释: 9 出现在 nums 中并且下标为 4\n",
    "\n",
    "示例 2:\n",
    "输入: nums = [-1,0,3,5,9,12], target = 2\n",
    "输出: -1\n",
    "解释: 2 不存在 nums 中因此返回 -1"
   ]
  },
  {
   "cell_type": "code",
   "execution_count": 3,
   "metadata": {},
   "outputs": [
    {
     "data": {
      "text/plain": [
       "(4, -1)"
      ]
     },
     "execution_count": 3,
     "metadata": {},
     "output_type": "execute_result"
    }
   ],
   "source": [
    "def f(nums, target):\n",
    "    L, R = 0, len(nums) - 1  # [L,R]\n",
    "    while L <= R:\n",
    "        M = (L + R) // 2\n",
    "        if target > nums[M]: L = M + 1\n",
    "        elif target < nums[M]: R = M - 1\n",
    "        else: return M\n",
    "    return -1\n",
    "\n",
    "\n",
    "f([-1, 0, 3, 5, 9, 12], 9), f([-1, 0, 3, 5, 9, 12], 2)"
   ]
  },
  {
   "cell_type": "code",
   "execution_count": null,
   "metadata": {},
   "outputs": [],
   "source": []
  }
 ],
 "metadata": {
  "interpreter": {
   "hash": "004de6046f1b3d314f33fdb43a2dc798b2646e5600efd8df5066c8b63a00ff6d"
  },
  "kernelspec": {
   "display_name": "Python 3.8.10 64-bit",
   "language": "python",
   "name": "python3"
  },
  "language_info": {
   "codemirror_mode": {
    "name": "ipython",
    "version": 3
   },
   "file_extension": ".py",
   "mimetype": "text/x-python",
   "name": "python",
   "nbconvert_exporter": "python",
   "pygments_lexer": "ipython3",
   "version": "3.8.10"
  },
  "orig_nbformat": 4
 },
 "nbformat": 4,
 "nbformat_minor": 2
}
