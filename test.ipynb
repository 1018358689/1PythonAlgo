{
 "cells": [
  {
   "cell_type": "code",
   "execution_count": 10,
   "metadata": {},
   "outputs": [
    {
     "name": "stdout",
     "output_type": "stream",
     "text": [
      "target:3\n",
      "guess:3\n"
     ]
    }
   ],
   "source": [
    "from random import randint\n",
    "\n",
    "# 预定义函数 返回 -1代表偏低,1 代表偏高,0 代表正确\n",
    "def guess(num, ans):\n",
    "    return 0 if num == ans else (num - ans) / abs(num - ans)\n",
    "\n",
    "\n",
    "def search(n):\n",
    "    ans = randint(1, n) # 随机产生值\n",
    "    print(f'target:{ans}')\n",
    "    # 二分查找\n",
    "    l, r = 1, n\n",
    "    while l <= r:\n",
    "        m = l + r >> 1\n",
    "        if guess(m, ans) >= 0:\n",
    "            r = m - 1\n",
    "        else:\n",
    "            l = m + 1\n",
    "    return f'guess:{l}'\n",
    "\n",
    "\n",
    "print(search(10))"
   ]
  },
  {
   "cell_type": "code",
   "execution_count": 11,
   "metadata": {},
   "outputs": [
    {
     "data": {
      "text/plain": [
       "(3, 10)"
      ]
     },
     "execution_count": 11,
     "metadata": {},
     "output_type": "execute_result"
    }
   ],
   "source": [
    "def f(N: int, arr: list, K: int):\n",
    "    preSum = [0] * (N + 1)\n",
    "    for i in range(N):\n",
    "        preSum[i + 1] = preSum[i] + arr[i]\n",
    "    cnt = 0\n",
    "    for i in range(len(preSum) - 1):\n",
    "        for j in range(i + 1, len(preSum)):\n",
    "            localSum = preSum[j] - preSum[i]\n",
    "            d = j - i\n",
    "            if localSum / d >= K:\n",
    "                cnt += 1\n",
    "    return cnt\n",
    "\n",
    "\n",
    "f(3, [1, 3, 4], 3), f(6, [1, 1, 4, 5, 1, 4], 3)\n"
   ]
  },
  {
   "cell_type": "code",
   "execution_count": 14,
   "metadata": {},
   "outputs": [
    {
     "data": {
      "text/plain": [
       "(1, 2)"
      ]
     },
     "execution_count": 14,
     "metadata": {},
     "output_type": "execute_result"
    }
   ],
   "source": [
    "a,b=map(int,['1','2'])\n",
    "a,b"
   ]
  },
  {
   "cell_type": "code",
   "execution_count": 17,
   "metadata": {},
   "outputs": [
    {
     "name": "stdout",
     "output_type": "stream",
     "text": [
      "10\n"
     ]
    }
   ],
   "source": [
    "N, K = map(int, input().split())\n",
    "arr = list(map(int, input().split()))\n",
    "\n",
    "\n",
    "def f(N: int, arr: list, K: int):\n",
    "    preSum = [0] * (N + 1)\n",
    "    for i in range(N):\n",
    "        preSum[i + 1] = preSum[i] + arr[i]-K\n",
    "    cnt = 0\n",
    "\n",
    "\n",
    "\n",
    "print(f(N, arr, K))\n"
   ]
  },
  {
   "cell_type": "code",
   "execution_count": null,
   "metadata": {},
   "outputs": [],
   "source": []
  }
 ],
 "metadata": {
  "interpreter": {
   "hash": "97367d2de1780ea7c502b529f25888c1b53c0430a7611816b6c7cf19d8435228"
  },
  "kernelspec": {
   "display_name": "Python 3.10.4 64-bit (windows store)",
   "language": "python",
   "name": "python3"
  },
  "language_info": {
   "codemirror_mode": {
    "name": "ipython",
    "version": 3
   },
   "file_extension": ".py",
   "mimetype": "text/x-python",
   "name": "python",
   "nbconvert_exporter": "python",
   "pygments_lexer": "ipython3",
   "version": "3.10.4"
  },
  "orig_nbformat": 4
 },
 "nbformat": 4,
 "nbformat_minor": 2
}
