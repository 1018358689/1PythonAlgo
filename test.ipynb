{
 "cells": [
  {
   "cell_type": "code",
   "execution_count": 2,
   "metadata": {},
   "outputs": [
    {
     "name": "stdout",
     "output_type": "stream",
     "text": [
      "{1, 2, 3, 4, 34, 6, 99, 200, 22, 122}\n"
     ]
    }
   ],
   "source": [
    "a = [1, 3, 122, 6, 2, 4, 3, 1, 2, 22, 34, 22, 99, 200]\n",
    "print(set(a))"
   ]
  },
  {
   "cell_type": "code",
   "execution_count": 3,
   "metadata": {},
   "outputs": [
    {
     "name": "stdout",
     "output_type": "stream",
     "text": [
      "[1, 2, 3, 4, 34, 6, 99, 200, 22, 122]\n"
     ]
    }
   ],
   "source": [
    "print(list(set(a)))\n"
   ]
  },
  {
   "cell_type": "code",
   "execution_count": 7,
   "metadata": {},
   "outputs": [
    {
     "name": "stdout",
     "output_type": "stream",
     "text": [
      "{'b', 'a', 'd', 'c'}\n"
     ]
    }
   ],
   "source": [
    "a = [\"a\", \"b\", \"c\", \"d\", \"a\", \"c\"]\n",
    "print(set(a))"
   ]
  },
  {
   "cell_type": "code",
   "execution_count": 5,
   "metadata": {},
   "outputs": [
    {
     "name": "stdout",
     "output_type": "stream",
     "text": [
      "['b', 'a', 'd', 'c']\n"
     ]
    }
   ],
   "source": [
    "print(list(set(a)))"
   ]
  },
  {
   "cell_type": "code",
   "execution_count": 1,
   "metadata": {},
   "outputs": [
    {
     "data": {
      "text/plain": [
       "'123'"
      ]
     },
     "execution_count": 1,
     "metadata": {},
     "output_type": "execute_result"
    }
   ],
   "source": [
    "'123'"
   ]
  },
  {
   "cell_type": "code",
   "execution_count": 36,
   "metadata": {},
   "outputs": [
    {
     "name": "stdout",
     "output_type": "stream",
     "text": [
      "s\n",
      "not\n",
      "2\n",
      "2\n",
      "2\n"
     ]
    }
   ],
   "source": [
    "def innum():\n",
    "    numx = input('123:')\n",
    "    print(numx)\n",
    "    t = 1\n",
    "    for i in numx:\n",
    "        if ord(i) > 57 or ord(i) < 48:\n",
    "            t = 0\n",
    "            print('not')\n",
    "            return innum()\n",
    "    if t == 1:\n",
    "        print(int(numx))\n",
    "        return int(numx)\n",
    "\n",
    "\n",
    "\n",
    "num1 = innum()\n",
    "print(num1)\n"
   ]
  },
  {
   "cell_type": "code",
   "execution_count": 16,
   "metadata": {},
   "outputs": [
    {
     "name": "stdout",
     "output_type": "stream",
     "text": [
      "4398373568\n"
     ]
    },
    {
     "data": {
      "text/plain": [
       "(4398373568, [1, 2, 3])"
      ]
     },
     "execution_count": 16,
     "metadata": {},
     "output_type": "execute_result"
    }
   ],
   "source": [
    "l = [1,2,3]\n",
    "print(id(l))\n",
    "l[:3].reverse()\n",
    "id(l),l"
   ]
  },
  {
   "cell_type": "markdown",
   "metadata": {},
   "source": [
    "# 1\n",
    "给你一个数组 nums 。数组「动态和」的计算公式为：runningSum[i] = sum(nums[0]…nums[i]) 。\n",
    "请返回 nums 的动态和。\n",
    "\n",
    "示例 1：\n",
    "输入：nums = [1,2,3,4]\n",
    "输出：[1,3,6,10]\n",
    "解释：动态和计算过程为 [1, 1+2, 1+2+3, 1+2+3+4] 。\n",
    "\n",
    "# 2\n",
    "最长公共前缀：编写一个函数来查找字符串数组中的最长公共前缀。\n",
    "如果不存在公共前缀，返回空字符串 \"\"。\n",
    "\n",
    "输入：strs = [\"flower\",\"flow\",\"flight\"]\n",
    "输出：\"fl\"\n",
    "\n",
    "输入：strs = [\"dog\",\"racecar\",\"car\"]\n",
    "输出：\"\"\n",
    "解释：输入不存在公共前缀。\n",
    "\n",
    "# 3\n",
    "编写一个程序，通过填充空格来解决数独问题。\n",
    "\n",
    "数独的解法需 遵循如下规则：\n",
    "\n",
    "数字 1-9 在每一行只能出现一次。\n",
    "数字 1-9 在每一列只能出现一次。\n",
    "数字 1-9 在每一个以粗实线分隔的 3x3 宫内只能出现一次。（请参考示例图）\n",
    "数独部分空格内已填入了数字，空白格用 '.' 表示。\n",
    "\n",
    "输入：board = [\n",
    "[\"5\",\"3\",\".\",\".\",\"7\",\".\",\".\",\".\",\".\"],\n",
    "[\"6\",\".\",\".\",\"1\",\"9\",\"5\",\".\",\".\",\".\"],\n",
    "[\".\",\"9\",\"8\",\".\",\".\",\".\",\".\",\"6\",\".\"],\n",
    "[\"8\",\".\",\".\",\".\",\"6\",\".\",\".\",\".\",\"3\"],\n",
    "[\"4\",\".\",\".\",\"8\",\".\",\"3\",\".\",\".\",\"1\"],\n",
    "[\"7\",\".\",\".\",\".\",\"2\",\".\",\".\",\".\",\"6\"],\n",
    "[\".\",\"6\",\".\",\".\",\".\",\".\",\"2\",\"8\",\".\"],\n",
    "[\".\",\".\",\".\",\"4\",\"1\",\"9\",\".\",\".\",\"5\"],\n",
    "[\".\",\".\",\".\",\".\",\"8\",\".\",\".\",\"7\",\"9\"]]\n",
    "输出：[\n",
    "[\"5\",\"3\",\"4\",\"6\",\"7\",\"8\",\"9\",\"1\",\"2\"],\n",
    "[\"6\",\"7\",\"2\",\"1\",\"9\",\"5\",\"3\",\"4\",\"8\"],\n",
    "[\"1\",\"9\",\"8\",\"3\",\"4\",\"2\",\"5\",\"6\",\"7\"],\n",
    "[\"8\",\"5\",\"9\",\"7\",\"6\",\"1\",\"4\",\"2\",\"3\"],\n",
    "[\"4\",\"2\",\"6\",\"8\",\"5\",\"3\",\"7\",\"9\",\"1\"],\n",
    "[\"7\",\"1\",\"3\",\"9\",\"2\",\"4\",\"8\",\"5\",\"6\"],\n",
    "[\"9\",\"6\",\"1\",\"5\",\"3\",\"7\",\"2\",\"8\",\"4\"],\n",
    "[\"2\",\"8\",\"7\",\"4\",\"1\",\"9\",\"6\",\"3\",\"5\"],\n",
    "[\"3\",\"4\",\"5\",\"2\",\"8\",\"6\",\"1\",\"7\",\"9\"]]\n",
    "解释：输入的数独如上图所示，唯一有效的解决方案如下所示：\n",
    "\n",
    "提示：\n",
    "题目数据 保证 输入数独仅有一个解"
   ]
  },
  {
   "cell_type": "code",
   "execution_count": null,
   "metadata": {},
   "outputs": [],
   "source": []
  },
  {
   "cell_type": "code",
   "execution_count": 11,
   "metadata": {},
   "outputs": [
    {
     "data": {
      "text/plain": [
       "'b'"
      ]
     },
     "execution_count": 11,
     "metadata": {},
     "output_type": "execute_result"
    }
   ],
   "source": [
    "s = 'abcd'\n",
    "t = 'abcdb'\n",
    "d = {} # 存放t中 字母和其数量的映射\n",
    "for n in t:\n",
    "    if n not in d: # 字母里没有该字母键则初始化\n",
    "        d[n] = 0\n",
    "    d[n] += 1 # 遍历到该字母 则该字母数量+1\n",
    "# 此时 d={'a': 1, 'b': 2, 'c': 1, 'd': 1}\n",
    "for n in s:\n",
    "    d[n] -= 1 # 遍历到该字母 则该字母数量+1\n",
    "    if d[n] == 0: # 数量为0 就删除该键值对\n",
    "        d.pop(n)\n",
    "# 此时 d={'b': 1}\n",
    "list(d)[0]"
   ]
  },
  {
   "cell_type": "code",
   "execution_count": 2,
   "metadata": {},
   "outputs": [
    {
     "name": "stdout",
     "output_type": "stream",
     "text": [
      "[2, 4, 6, 8, 10]\n",
      "Pnohty[1, 2, [5]]\n",
      "6\n",
      "28\n",
      "496\n",
      "14\n",
      "[6, 6, -1, 5, -1, -1]\n"
     ]
    }
   ],
   "source": [
    "# 1.以下Python代码执行后输出的内容是______. # 参考答案:[2,4,6,8,10]\n",
    "i = 0\n",
    "l = []\n",
    "while i < 10:\n",
    "    i += 1\n",
    "    if i % 2 == 1:\n",
    "        continue\n",
    "    l.append(i)\n",
    "print(l)\n",
    "# 2.以下Python代码执行后输出的内容是______. # 参考答案:Pnohty\n",
    "S = 'Python'\n",
    "for i in range(len(S)):\n",
    "    print(S[-i], end='')\n",
    "# 3.以下Python代码执行后输出的内容是______. # 参考答案:[1, 2, [5]]\n",
    "m = [1, 2, [3]]\n",
    "n = m[:]\n",
    "n[1] = 4\n",
    "n[2][0] = 5\n",
    "print(m)\n",
    "# 1.一个数如果恰好等于它的因子之和，这个数就称为“完数”。例如6=1＋2＋3。以下程序可以找出1000以内的所有完数，请完善。\n",
    "'''\n",
    "for num in range(1, ___):\n",
    "    factor = [n for n in range(1, ___) if num % n == 0] # 寻找该数所有因子\n",
    "    if ___(factor) == num:\n",
    "        print(num)\n",
    "'''\n",
    "# 参考答案如下\n",
    "for num in range(1, 1001):\n",
    "    factor = [n for n in range(1, num) if num % n == 0]  # 寻找该数所有因子\n",
    "    if sum(factor) == num:\n",
    "        print(num)\n",
    "# 2.以下程序利用双指针可以实现在数组[1, 3, 5, 11, 7]中找到2个数，使得他们的和最接近但不超过15，打印他们的和。\n",
    "'''\n",
    "arr = [1, 3, 5, 11, 7]\n",
    "arr.sort()\n",
    "Sum = -1\n",
    "L, R = 0, ____\n",
    "while L < R:\n",
    "    S = arr[L] + arr[R]\n",
    "    if S > 15:\n",
    "        ____\n",
    "    elif S < 15:\n",
    "        Sum = max(Sum, S)\n",
    "        ____\n",
    "    elif S == 15:\n",
    "        print(S)\n",
    "print(Sum)\n",
    "'''\n",
    "# 参考答案\n",
    "arr = [1, 3, 5, 11, 7]\n",
    "arr.sort()\n",
    "Sum = -1\n",
    "L, R = 0, len(arr) - 1\n",
    "while L < R:\n",
    "    S = arr[L] + arr[R]\n",
    "    if S > 15:\n",
    "        R -= 1\n",
    "    elif S < 15:\n",
    "        Sum = max(Sum, S)\n",
    "        L += 1\n",
    "    elif S == 15:\n",
    "        print(S)\n",
    "print(Sum)\n",
    "# 栈有很多应用,其特点是先进后出(FILO),其中单调栈有个重要作用是寻找上(下)一个更大(小)元素(Next Greater Element)\n",
    "# 以下程序可以实现返回[3,1,6,2,5,4]中每一个元素下一个更大的数,如果不存在下一个更大数就返回-1,因此返回[6,6,-1,5,-1,-1]\n",
    "# 解释3下一个更大数是6,1下一个更大数也是6,6下一个更大数不存在所以是-1,后面元素以此类推\n",
    "'''\n",
    "arr = [3, 1, 6, 2, 5, 4]\n",
    "stack = [] # 模拟栈\n",
    "res = [0] * ____ # 储存结果\n",
    "for i in range(len(arr) - 1, -1, -1): # 栈先进后出的特点决定遍历顺序\n",
    "    while stack and stack[-1] ___ arr[i]: # 保持递减栈\n",
    "        stack.pop()\n",
    "    res[i] = ____ if stack else -1 # 递减栈 栈顶元素就是当前元素下一个更大值\n",
    "    stack.append(arr[i])\n",
    "print(res)\n",
    "'''\n",
    "# 参考答案\n",
    "arr = [3, 1, 6, 2, 5, 4]\n",
    "stack = []  # 模拟栈\n",
    "res = [0] * len(arr)  # 储存结果\n",
    "for i in range(len(arr) - 1, -1, -1):  # 栈先进后出的特点决定遍历顺序\n",
    "    while stack and stack[-1] <= arr[i]:  # 保持递减栈\n",
    "        stack.pop()\n",
    "    res[i] = stack[-1] if stack else -1  # 递减栈 栈顶元素就是当前元素下一个更大值\n",
    "    stack.append(arr[i])\n",
    "print(res)"
   ]
  },
  {
   "cell_type": "code",
   "execution_count": 13,
   "metadata": {},
   "outputs": [
    {
     "name": "stdout",
     "output_type": "stream",
     "text": [
      "[2, 4, 6, 8, 10]\n"
     ]
    }
   ],
   "source": [
    "i = 0\n",
    "l = []\n",
    "while i < 10:\n",
    "    i += 1\n",
    "    if i % 2:\n",
    "        continue\n",
    "    l.append(i)\n",
    "print(l)"
   ]
  },
  {
   "cell_type": "code",
   "execution_count": 4,
   "metadata": {},
   "outputs": [
    {
     "name": "stdout",
     "output_type": "stream",
     "text": [
      "4\n"
     ]
    }
   ],
   "source": [
    "a, b = 'aba', 'baba'\n",
    "if a != b:\n",
    "    print(max(len(a), len(b)))\n",
    "else:\n",
    "    print(-1)"
   ]
  },
  {
   "cell_type": "code",
   "execution_count": null,
   "metadata": {},
   "outputs": [],
   "source": []
  }
 ],
 "metadata": {
  "interpreter": {
   "hash": "97367d2de1780ea7c502b529f25888c1b53c0430a7611816b6c7cf19d8435228"
  },
  "kernelspec": {
   "display_name": "Python 3.10.4 64-bit (windows store)",
   "language": "python",
   "name": "python3"
  },
  "language_info": {
   "codemirror_mode": {
    "name": "ipython",
    "version": 3
   },
   "file_extension": ".py",
   "mimetype": "text/x-python",
   "name": "python",
   "nbconvert_exporter": "python",
   "pygments_lexer": "ipython3",
   "version": "3.10.4"
  },
  "orig_nbformat": 4
 },
 "nbformat": 4,
 "nbformat_minor": 2
}
