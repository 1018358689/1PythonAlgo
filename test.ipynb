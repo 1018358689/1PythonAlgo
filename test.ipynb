{
 "cells": [
  {
   "cell_type": "code",
   "execution_count": 10,
   "metadata": {},
   "outputs": [
    {
     "name": "stdout",
     "output_type": "stream",
     "text": [
      "target:3\n",
      "guess:3\n"
     ]
    }
   ],
   "source": [
    "from random import randint\n",
    "\n",
    "# 预定义函数 返回 -1代表偏低,1 代表偏高,0 代表正确\n",
    "def guess(num, ans):\n",
    "    return 0 if num == ans else (num - ans) / abs(num - ans)\n",
    "\n",
    "\n",
    "def search(n):\n",
    "    ans = randint(1, n) # 随机产生值\n",
    "    print(f'target:{ans}')\n",
    "    # 二分查找\n",
    "    l, r = 1, n\n",
    "    while l <= r:\n",
    "        m = l + r >> 1\n",
    "        if guess(m, ans) >= 0:\n",
    "            r = m - 1\n",
    "        else:\n",
    "            l = m + 1\n",
    "    return f'guess:{l}'\n",
    "\n",
    "\n",
    "print(search(10))"
   ]
  },
  {
   "cell_type": "code",
   "execution_count": null,
   "metadata": {},
   "outputs": [],
   "source": []
  }
 ],
 "metadata": {
  "interpreter": {
   "hash": "97367d2de1780ea7c502b529f25888c1b53c0430a7611816b6c7cf19d8435228"
  },
  "kernelspec": {
   "display_name": "Python 3.10.4 64-bit (windows store)",
   "language": "python",
   "name": "python3"
  },
  "language_info": {
   "codemirror_mode": {
    "name": "ipython",
    "version": 3
   },
   "file_extension": ".py",
   "mimetype": "text/x-python",
   "name": "python",
   "nbconvert_exporter": "python",
   "pygments_lexer": "ipython3",
   "version": "3.10.4"
  },
  "orig_nbformat": 4
 },
 "nbformat": 4,
 "nbformat_minor": 2
}
