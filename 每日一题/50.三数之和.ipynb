{
 "cells": [
  {
   "cell_type": "markdown",
   "metadata": {},
   "source": [
    "1120三数之和\n",
    "给你一个包含 n 个整数的数组 nums，判断 nums 中是否存在三个元素 a，b，c ，使得 a + b + c = 0 ？请你找出所有满足条件且不重复的三元组。\n",
    "注意： 答案中不可以包含重复的三元组。\n",
    "示例：\n",
    "给定数组 nums = [-1, 0, 1, 2, -1, -4]，\n",
    "满足要求的三元组集合为： [ [-1, 0, 1], [-1, -1, 2] ]"
   ]
  },
  {
   "cell_type": "code",
   "execution_count": 22,
   "metadata": {},
   "outputs": [
    {
     "data": {
      "text/plain": [
       "([[-1, -1, 2], [-1, 0, 1]], 43)"
      ]
     },
     "execution_count": 22,
     "metadata": {},
     "output_type": "execute_result"
    }
   ],
   "source": [
    "def f(nums):\n",
    "    r = []\n",
    "    nums.sort()  # 先升序\n",
    "    for i, a in enumerate(nums):\n",
    "        if a > 0: return r  # 当a>0 因为升序了 后面无需判断\n",
    "        if i >= 1 and a == nums[i - 1]: continue  # 当a和前一个相同 则往后移 以避免重复\n",
    "        L = i + 1  # 左指针确定b\n",
    "        R = len(nums) - 1  # 右指针确定c\n",
    "        while L < R:  # LR相遇则退出 a前进\n",
    "            if a + nums[L] + nums[R] == 0:  # 如果sum为0\n",
    "                r.append([a, nums[L], nums[R]])  # 储存a b c\n",
    "                while L < R and nums[L] == nums[L + 1]:  # 当b和后面一个相同 右移到最后一个相同的b\n",
    "                    L += 1\n",
    "                while L < R and nums[R] == nums[R - 1]:  # 当c和前面一个相同 左移到最前一个相同的c\n",
    "                    R -= 1\n",
    "                L += 1  # 下一个b\n",
    "                R -= 1  # 下一个c\n",
    "            elif a + nums[L] + nums[R] < 0:  # 如果sum<0 左指针右移以加sum\n",
    "                L += 1\n",
    "            else:  # 如果sum>0 右指针左移以减sum\n",
    "                R -= 1\n",
    "    return r\n",
    "\n",
    "\n",
    "f([-1, 0, 1, 2, -1, -4]), len(f([34,55,79,28,46,33,2,48,31,-3,84,71,52,-3,93,15,21,-43,57,-6,86,56,94,74,83,-14,28,-66,46,-49,62,-11,43,65,77,12,47,61,26,1,13,29,55,-82,76,26,15,-29,36,-29,10,-70,69,17,49]))"
   ]
  },
  {
   "cell_type": "code",
   "execution_count": 13,
   "metadata": {},
   "outputs": [
    {
     "data": {
      "text/plain": [
       "[-4, -1, -1, 0, 1, 2]"
      ]
     },
     "execution_count": 13,
     "metadata": {},
     "output_type": "execute_result"
    }
   ],
   "source": [
    "nums = [-1, 0, 1, 2, -1, -4]\n",
    "nums.sort()\n",
    "nums"
   ]
  },
  {
   "cell_type": "code",
   "execution_count": 29,
   "metadata": {},
   "outputs": [
    {
     "data": {
      "text/plain": [
       "([[-1, 0, 1], [-1, -1, 2]], 43)"
      ]
     },
     "execution_count": 29,
     "metadata": {},
     "output_type": "execute_result"
    }
   ],
   "source": [
    "from itertools import combinations\n",
    "\n",
    "def f(nums):\n",
    "    c = (sorted([a,b,c]) for a, b, c in combinations(nums, 3) if not sum((a, b, c)))\n",
    "    r = []\n",
    "    for i in c:\n",
    "        if i not in r:r.append(i)\n",
    "    return r\n",
    "\n",
    "\n",
    "f([-1, 0, 1, 2, -1, -4]), len(f([34,55,79,28,46,33,2,48,31,-3,84,71,52,-3,93,15,21,-43,57,-6,86,56,94,74,83,-14,28,-66,46,-49,62,-11,43,65,77,12,47,61,26,1,13,29,55,-82,76,26,15,-29,36,-29,10,-70,69,17,49]))"
   ]
  },
  {
   "cell_type": "code",
   "execution_count": 11,
   "metadata": {},
   "outputs": [
    {
     "data": {
      "text/plain": [
       "([[0, 1, -1], [-1, 2, -1]], 43)"
      ]
     },
     "execution_count": 11,
     "metadata": {},
     "output_type": "execute_result"
    }
   ],
   "source": [
    "from itertools import combinations\n",
    "\n",
    "\n",
    "def f(nums):\n",
    "    r = {tuple(sorted((a, b, c))): [a, b, c] for a, b, c in combinations(nums, 3) if not sum((a, b, c))}\n",
    "    return list(r.values())\n",
    "\n",
    "\n",
    "f([-1, 0, 1, 2, -1, -4]), len(\n",
    "    f([\n",
    "        34, 55, 79, 28, 46, 33, 2, 48, 31, -3, 84, 71, 52, -3, 93, 15, 21, -43, 57, -6, 86, 56, 94, 74, 83,\n",
    "        -14, 28, -66, 46, -49, 62, -11, 43, 65, 77, 12, 47, 61, 26, 1, 13, 29, 55, -82, 76, 26, 15, -29, 36,\n",
    "        -29, 10, -70, 69, 17, 49\n",
    "    ]))\n"
   ]
  },
  {
   "cell_type": "code",
   "execution_count": 3,
   "metadata": {},
   "outputs": [
    {
     "name": "stdout",
     "output_type": "stream",
     "text": [
      "{1, 2, 3, -1}\n"
     ]
    }
   ],
   "source": [
    "from itertools import combinations\n",
    "\n",
    "def f(nums):\n",
    "    r = {tuple({a, b, c}): [a, b, c] for a, b, c in combinations(nums, 3) if not sum((a, b, c))}\n",
    "    return list(r.values())\n",
    "\n",
    "\n",
    "f([-1, 0, 1, 2, -1, -4]), len(f([34,55,79,28,46,33,2,48,31,-3,84,71,52,-3,93,15,21,-43,57,-6,86,56,94,74,83,-14,28,-66,46,-49,62,-11,43,65,77,12,47,61,26,1,13,29,55,-82,76,26,15,-29,36,-29,10,-70,69,17,49]))"
   ]
  },
  {
   "cell_type": "code",
   "execution_count": 10,
   "metadata": {},
   "outputs": [
    {
     "data": {
      "text/plain": [
       "'123'"
      ]
     },
     "execution_count": 10,
     "metadata": {},
     "output_type": "execute_result"
    }
   ],
   "source": [
    "''.join(['1','2','3'])"
   ]
  },
  {
   "cell_type": "code",
   "execution_count": 12,
   "metadata": {},
   "outputs": [
    {
     "data": {
      "text/plain": [
       "({(1, 1, 2), (1, 2, 1)}, {1, 2})"
      ]
     },
     "execution_count": 12,
     "metadata": {},
     "output_type": "execute_result"
    }
   ],
   "source": [
    "a=(1,1,2)\n",
    "b=(1,2,1)\n",
    "set((a,b)),set([1,1,2])"
   ]
  },
  {
   "cell_type": "code",
   "execution_count": 7,
   "metadata": {},
   "outputs": [
    {
     "name": "stdout",
     "output_type": "stream",
     "text": [
      "[[[10, 100], 200], 600] <class 'list'>\n",
      "[10, 100, 200, 600]\n"
     ]
    }
   ],
   "source": [
    "import re\n",
    "\n",
    "aa = [[[10, 100], 200], 600]\n",
    "print(aa,type(aa))\n",
    "# aa=str(aa)\n",
    "# print(aa,type(aa))\n",
    "# # print(filter(str.isdigit, aa))\n",
    "# bb = re.findall(r\"\\d+\",aa)\n",
    "# bb = list(bb)\n",
    "#简洁的方式\n",
    "bb=[int(i) for i in list(re.findall(r\"\\d+\",str(aa)))]\n",
    "print(bb)\n"
   ]
  },
  {
   "cell_type": "code",
   "execution_count": 11,
   "metadata": {},
   "outputs": [
    {
     "data": {
      "text/plain": [
       "{(1, 2): 2}"
      ]
     },
     "execution_count": 11,
     "metadata": {},
     "output_type": "execute_result"
    }
   ],
   "source": [
    "{(1,2):2}"
   ]
  },
  {
   "cell_type": "code",
   "execution_count": null,
   "metadata": {},
   "outputs": [],
   "source": []
  }
 ],
 "metadata": {
  "interpreter": {
   "hash": "aee8b7b246df8f9039afb4144a1f6fd8d2ca17a180786b69acc140d282b71a49"
  },
  "kernelspec": {
   "display_name": "Python 3.8.10 64-bit",
   "language": "python",
   "name": "python3"
  },
  "language_info": {
   "codemirror_mode": {
    "name": "ipython",
    "version": 3
   },
   "file_extension": ".py",
   "mimetype": "text/x-python",
   "name": "python",
   "nbconvert_exporter": "python",
   "pygments_lexer": "ipython3",
   "version": "3.8.10"
  },
  "orig_nbformat": 4
 },
 "nbformat": 4,
 "nbformat_minor": 2
}
