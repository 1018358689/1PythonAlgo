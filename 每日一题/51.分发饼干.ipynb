{
 "cells": [
  {
   "cell_type": "markdown",
   "metadata": {},
   "source": [
    "1121分发饼干\n",
    "假设你是一位很棒的家长，想要给你的孩子们一些小饼干。但是，每个孩子最多只能给一块饼干。\n",
    "对每个孩子 i，都有一个胃口值 g[i]，这是能让孩子们满足胃口的饼干的最小尺寸；并且每块饼干 j，都有一个尺寸 s[j] 。如果 s[j] >= g[i]，我们可以将这个饼干 j 分配给孩子 i ，这个孩子会得到满足。你的目标是尽可能满足越多数量的孩子，并输出这个最大数值。\n",
    "示例 1:\n",
    "输入: g = [1,2,3], s = [1,1]\n",
    "输出: 1 解释:你有三个孩子和两块小饼干，3个孩子的胃口值分别是：1,2,3。虽然你有两块小饼干，由于他们的尺寸都是1，你只能让胃口值是1的孩子满足。所以你应该输出1。\n",
    "示例 2:\n",
    "输入: g = [1,2], s = [1,2,3]\n",
    "输出: 2\n",
    "解释:你有两个孩子和三块小饼干，2个孩子的胃口值分别是1,2。你拥有的饼干数量和尺寸都足以让所有孩子满足。所以你应该输出2."
   ]
  },
  {
   "cell_type": "code",
   "execution_count": 7,
   "metadata": {},
   "outputs": [
    {
     "data": {
      "text/plain": [
       "(2, 1)"
      ]
     },
     "execution_count": 7,
     "metadata": {},
     "output_type": "execute_result"
    }
   ],
   "source": [
    "def f(g, s):\n",
    "    cnt = 0\n",
    "    i = 0\n",
    "    g.sort()\n",
    "    s.sort()\n",
    "    for j in s:\n",
    "        if j >= g[i]:\n",
    "            cnt += 1\n",
    "            i += 1\n",
    "        if i > len(g) - 1: break\n",
    "    return cnt\n",
    "\n",
    "\n",
    "f([1, 2], [1, 2, 3]), f([1, 2, 3], [1, 1])\n"
   ]
  },
  {
   "cell_type": "code",
   "execution_count": 8,
   "metadata": {},
   "outputs": [
    {
     "data": {
      "text/plain": [
       "(2, 1)"
      ]
     },
     "execution_count": 8,
     "metadata": {},
     "output_type": "execute_result"
    }
   ],
   "source": [
    "def f(g, s):\n",
    "    i = 0\n",
    "    g.sort()\n",
    "    s.sort()\n",
    "    for j in s:  # 饼干全遍历完(孩子可能没喂完)\n",
    "        if j >= g[i]: i += 1  #饼干找孩子,够胃口则下一位\n",
    "        if i > len(g) - 1: break  #孩子全喂饱(饼干可能还有)\n",
    "    return i  # 饱了几个孩子\n",
    "\n",
    "f([1, 2], [1, 2, 3]), f([1, 2, 3], [1, 1])"
   ]
  },
  {
   "cell_type": "code",
   "execution_count": 12,
   "metadata": {},
   "outputs": [
    {
     "data": {
      "text/plain": [
       "(2, 1)"
      ]
     },
     "execution_count": 12,
     "metadata": {},
     "output_type": "execute_result"
    }
   ],
   "source": [
    "def f(g, s):\n",
    "    i = 0\n",
    "    g.sort()\n",
    "    s.sort()\n",
    "    for j in s:  # 饼干全遍历完(孩子可能没喂完)\n",
    "        if i < len(g) and j >= g[i]: i += 1  #饼干找孩子(还有饿孩子),够胃口则下一位\n",
    "    return i  # 饱了几个孩子\n",
    "\n",
    "\n",
    "f([1, 2], [1, 2, 3]), f([1, 2, 3], [1, 1])"
   ]
  },
  {
   "cell_type": "code",
   "execution_count": null,
   "metadata": {},
   "outputs": [],
   "source": []
  }
 ],
 "metadata": {
  "interpreter": {
   "hash": "aee8b7b246df8f9039afb4144a1f6fd8d2ca17a180786b69acc140d282b71a49"
  },
  "kernelspec": {
   "display_name": "Python 3.8.10 64-bit",
   "language": "python",
   "name": "python3"
  },
  "language_info": {
   "codemirror_mode": {
    "name": "ipython",
    "version": 3
   },
   "file_extension": ".py",
   "mimetype": "text/x-python",
   "name": "python",
   "nbconvert_exporter": "python",
   "pygments_lexer": "ipython3",
   "version": "3.8.10"
  },
  "orig_nbformat": 4
 },
 "nbformat": 4,
 "nbformat_minor": 2
}
