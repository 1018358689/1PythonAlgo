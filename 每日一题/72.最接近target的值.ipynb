{
 "cells": [
  {
   "cell_type": "markdown",
   "metadata": {},
   "source": [
    "今日题（1212）：最接近target的值\n",
    "描述：给出一个数组，在数组中找到2个数，使得他们的和最接近但不超过目标值，返回他们的和。\n",
    "举例1\n",
    "输入：arr=[1,3,5,11,7],target=15\n",
    "输出：14\n",
    "举例2\n",
    "输入：arr=[1,3,5,11,7],target=16\n",
    "输出：16"
   ]
  },
  {
   "cell_type": "code",
   "execution_count": null,
   "metadata": {},
   "outputs": [],
   "source": [
    "def f(arr: list, target: int) -> int:\n",
    "    path = []\n",
    "    "
   ]
  },
  {
   "cell_type": "code",
   "execution_count": 3,
   "metadata": {},
   "outputs": [
    {
     "data": {
      "text/plain": [
       "(14, -1, 18, 16)"
      ]
     },
     "execution_count": 3,
     "metadata": {},
     "output_type": "execute_result"
    }
   ],
   "source": [
    "def f(arr: list, target: int) -> int:\n",
    "    Sum = -1\n",
    "    for i in range(len(arr) - 2 + 1):\n",
    "        for j in range(i + 1, len(arr)):\n",
    "            S = arr[i] + arr[j]\n",
    "            if S <= target:\n",
    "                Sum = max(Sum, S)\n",
    "    return Sum\n",
    "\n",
    "\n",
    "f([1, 3, 5, 11, 7], 15), f([1, 3, 5, 11, 7], 0), f([1, 3, 5, 11, 7], 100), f([1, 3, 5, 11, 7], 16)\n"
   ]
  },
  {
   "cell_type": "code",
   "execution_count": 6,
   "metadata": {},
   "outputs": [
    {
     "data": {
      "text/plain": [
       "(14, -1, 18, 16)"
      ]
     },
     "execution_count": 6,
     "metadata": {},
     "output_type": "execute_result"
    }
   ],
   "source": [
    "from itertools import combinations\n",
    "\n",
    "\n",
    "def f(arr: list, target: int) -> int:\n",
    "    try:\n",
    "        return max(i for c in combinations(arr, 2) if (i := sum(c)) <= target)\n",
    "    except ValueError:\n",
    "        return -1\n",
    "\n",
    "\n",
    "f([1, 3, 5, 11, 7], 15), f([1, 3, 5, 11, 7], 0), f([1, 3, 5, 11, 7], 100), f([1, 3, 5, 11, 7], 16)\n"
   ]
  },
  {
   "cell_type": "code",
   "execution_count": 4,
   "metadata": {},
   "outputs": [
    {
     "data": {
      "text/plain": [
       "(14, -1, 18, 16)"
      ]
     },
     "execution_count": 4,
     "metadata": {},
     "output_type": "execute_result"
    }
   ],
   "source": [
    "arr = [1, 2, 3, 7, 11]\n",
    "\n",
    "\n",
    "def f(arr: list, target: int) -> int:\n",
    "    arr.sort()\n",
    "    Sum = -1\n",
    "    L = 0\n",
    "    R = len(arr) - 1\n",
    "    while L < R:\n",
    "        S = arr[L] + arr[R]\n",
    "        if S > target:\n",
    "            R -= 1\n",
    "        elif S < target:\n",
    "            Sum = max(Sum, S)\n",
    "            L += 1\n",
    "        elif S == target:\n",
    "            return S\n",
    "    return Sum\n",
    "\n",
    "\n",
    "f([1, 3, 5, 11, 7], 15), f([1, 3, 5, 11, 7], 0), f([1, 3, 5, 11, 7], 100), f([1, 3, 5, 11, 7], 16)\n"
   ]
  },
  {
   "cell_type": "code",
   "execution_count": 7,
   "metadata": {},
   "outputs": [
    {
     "data": {
      "text/plain": [
       "[11, 7, 3, 2, 1]"
      ]
     },
     "execution_count": 7,
     "metadata": {},
     "output_type": "execute_result"
    }
   ],
   "source": []
  },
  {
   "cell_type": "code",
   "execution_count": null,
   "metadata": {},
   "outputs": [],
   "source": []
  }
 ],
 "metadata": {
  "interpreter": {
   "hash": "aee8b7b246df8f9039afb4144a1f6fd8d2ca17a180786b69acc140d282b71a49"
  },
  "kernelspec": {
   "display_name": "Python 3.8.10 64-bit",
   "language": "python",
   "name": "python3"
  },
  "language_info": {
   "codemirror_mode": {
    "name": "ipython",
    "version": 3
   },
   "file_extension": ".py",
   "mimetype": "text/x-python",
   "name": "python",
   "nbconvert_exporter": "python",
   "pygments_lexer": "ipython3",
   "version": "3.8.10"
  },
  "orig_nbformat": 4
 },
 "nbformat": 4,
 "nbformat_minor": 2
}
