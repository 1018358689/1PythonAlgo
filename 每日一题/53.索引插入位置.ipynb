{
 "cells": [
  {
   "cell_type": "markdown",
   "metadata": {},
   "source": [
    "给定一个排序数组和一个目标值，在数组中找到目标值，并返回其索引。如果目标值不存在于数组中，返回它将会被按顺序插入的位置。\n",
    "\n",
    "请必须使用时间复杂度为 O(log n) 的算法和 O(n)。\n",
    "\n",
    "示例 1:\n",
    "输入: nums = [1,3,5,5,5,6], target = 5\n",
    "输出: 2\n",
    "\n",
    "示例 2:\n",
    "输入: nums = [1,3,5,5,5,5,6], target = 2\n",
    "输出: 1\n",
    "\n",
    "示例 3:\n",
    "输入: nums = [1,3,5,6], target = 7\n",
    "输出: 4\n",
    "\n",
    "示例 4:\n",
    "输入: nums = [1,3,5,6], target = 0\n",
    "输出: 0\n",
    "\n",
    "示例 5:\n",
    "输入: nums = [1], target = 0\n",
    "输出: 0\n",
    " \n",
    "示例 6:\n",
    "输入: nums = [1,2,3,4,4,7], target = 6\n",
    "输出: 5"
   ]
  },
  {
   "cell_type": "code",
   "execution_count": 35,
   "metadata": {},
   "outputs": [
    {
     "data": {
      "text/plain": [
       "(2, 1, 4, 0, 0)"
      ]
     },
     "execution_count": 35,
     "metadata": {},
     "output_type": "execute_result"
    }
   ],
   "source": [
    "def f(nums, target):\n",
    "    L, R = 0, len(nums) - 1  # [L,R]\n",
    "    while L <= R:\n",
    "        M = (L + R) // 2\n",
    "        if target < nums[M]: R = M - 1\n",
    "        elif target > nums[M]: L = M + 1\n",
    "        elif target == nums[M]: R = M - 1\n",
    "    return L\n",
    "\n",
    "\n",
    "# f([1, 3, 5, 5, 5, 5, 5, 5, 6], 2)\n",
    "f([1, 3, 5, 5, 5, 5, 5, 5, 5, 6], 5)\n",
    "# f([1, 3, 5, 6], 7)\n",
    "# f([1, 3, 5, 6], 0)\n",
    "# f([1], 0)\n",
    "f([1, 3, 5, 5, 5, 6], 5), f([1, 3, 5, 5, 5, 5, 6], 2), f([1, 3, 5, 6], 7), f([1, 3, 5, 6], 0), f([1], 0)\n"
   ]
  },
  {
   "cell_type": "code",
   "execution_count": null,
   "metadata": {},
   "outputs": [],
   "source": [
    "def f(nums, target):\n",
    "    L, R = 0, len(nums) - 1  # [L,R]\n",
    "    while L <= R:\n",
    "        M = (L + R) // 2\n",
    "        if target < nums[M]:\n",
    "            while L < R and nums[M - 1] == nums[M]:\n",
    "                M -= 1\n",
    "            R = M - 1\n",
    "        elif target > nums[M]:\n",
    "            while L < R and nums[M + 1] == nums[M]:\n",
    "                M += 1\n",
    "            L = M + 1\n",
    "        else:\n",
    "            return M\n",
    "    return R + 1\n",
    "\n",
    "\n",
    "# f([1, 3, 5, 5, 5, 6], 5)\n",
    "# f([1, 3, 5, 5, 5, 5, 6], 2)\n",
    "# f([1, 3, 5, 6], 7)\n",
    "# f([1, 3, 5, 6], 0)\n",
    "# f([1], 0)\n",
    "f([1, 3, 5, 5, 5, 6], 5), f([1, 3, 5, 5, 5, 5, 6], 2), f([1, 3, 5, 6], 7), f([1, 3, 5, 6], 0), f([1], 0)\n"
   ]
  },
  {
   "cell_type": "code",
   "execution_count": 28,
   "metadata": {},
   "outputs": [
    {
     "data": {
      "text/plain": [
       "(2, 1, 4, None, None)"
      ]
     },
     "execution_count": 28,
     "metadata": {},
     "output_type": "execute_result"
    }
   ],
   "source": [
    "def f(nums, target):\n",
    "    if target < nums[0]: return 0\n",
    "    if target > nums[-1]: return len(nums)\n",
    "    for i, n in enumerate(nums):\n",
    "        if target > n and target < nums[i + 1]: return i + 1\n",
    "        elif target == n: return i\n",
    "\n",
    "\n",
    "f([1, 3, 5, 5, 5, 6], 5), f([1, 3, 5, 5, 5, 5, 6], 2), f([1, 3, 5, 6], 7), f([1, 3, 5, 6], 0), f([1], 0)\n"
   ]
  },
  {
   "cell_type": "code",
   "execution_count": 6,
   "metadata": {},
   "outputs": [
    {
     "data": {
      "text/plain": [
       "(2, 1, 4, 0, 0)"
      ]
     },
     "execution_count": 6,
     "metadata": {},
     "output_type": "execute_result"
    }
   ],
   "source": [
    "def f(nums, target):\n",
    "    if target < nums[0]: return 0\n",
    "    if target > nums[-1]: return len(nums)\n",
    "    i = 0\n",
    "    while i < len(nums):\n",
    "        if target > nums[i] and target < nums[i + 1]: return i + 1\n",
    "        elif target == nums[i]: return i\n",
    "        i += 1\n",
    "\n",
    "\n",
    "f([1, 3, 5, 5, 5, 6], 5), f([1, 3, 5, 5, 5, 5, 6], 2), f([1, 3, 5, 6], 7), f([1, 3, 5, 6], 0), f([1], 0)\n"
   ]
  },
  {
   "cell_type": "code",
   "execution_count": 7,
   "metadata": {},
   "outputs": [
    {
     "data": {
      "text/plain": [
       "(2, 1, 4, 0, 0)"
      ]
     },
     "execution_count": 7,
     "metadata": {},
     "output_type": "execute_result"
    }
   ],
   "source": [
    "def f(nums, target):\n",
    "    i = 0\n",
    "    while i < len(nums) and nums[i] < target:\n",
    "        i += 1\n",
    "    return i\n",
    "\n",
    "\n",
    "f([1, 3, 5, 5, 5, 6], 5), f([1, 3, 5, 5, 5, 5, 6], 2), f([1, 3, 5, 6], 7), f([1, 3, 5, 6], 0), f([1], 0)\n"
   ]
  },
  {
   "cell_type": "code",
   "execution_count": 38,
   "metadata": {},
   "outputs": [
    {
     "data": {
      "text/plain": [
       "(2, 1, 4, 0, 0)"
      ]
     },
     "execution_count": 38,
     "metadata": {},
     "output_type": "execute_result"
    }
   ],
   "source": [
    "def f(nums, target):\n",
    "    L, R = 0, len(nums) - 1  # [L,R]\n",
    "    while L <= R:\n",
    "        M = (L + R) // 2\n",
    "        if target <= nums[M]: R = M - 1  # 在左部(右边界更新) 相等(左缩)\n",
    "        else: L = M + 1  # 在右部(左边界更新)\n",
    "    return L  # 返回L或R+1\n",
    "\n",
    "\n",
    "f([1, 3, 5, 5, 5, 5, 5, 5, 5, 6], 5), f([1, 3, 5, 5, 5, 5, 6], 2), f([1, 3, 5, 6], 7), f([1, 3, 5, 6],\n",
    "                                                                                         0), f([1], 0)\n"
   ]
  },
  {
   "cell_type": "code",
   "execution_count": 40,
   "metadata": {},
   "outputs": [
    {
     "data": {
      "text/plain": [
       "(2, 1, 4, 0, 0)"
      ]
     },
     "execution_count": 40,
     "metadata": {},
     "output_type": "execute_result"
    }
   ],
   "source": [
    "from bisect import bisect_left\n",
    "def f(nums, target):\n",
    "    return bisect_left(nums, target)\n",
    "\n",
    "f([1, 3, 5, 5, 5, 5, 5, 5, 5, 6], 5), f([1, 3, 5, 5, 5, 5, 6], 2), f([1, 3, 5, 6], 7), f([1, 3, 5, 6],\n",
    "                                                                                         0), f([1], 0)\n"
   ]
  },
  {
   "cell_type": "code",
   "execution_count": null,
   "metadata": {},
   "outputs": [],
   "source": []
  }
 ],
 "metadata": {
  "interpreter": {
   "hash": "004de6046f1b3d314f33fdb43a2dc798b2646e5600efd8df5066c8b63a00ff6d"
  },
  "kernelspec": {
   "display_name": "Python 3.8.10 64-bit",
   "language": "python",
   "name": "python3"
  },
  "language_info": {
   "codemirror_mode": {
    "name": "ipython",
    "version": 3
   },
   "file_extension": ".py",
   "mimetype": "text/x-python",
   "name": "python",
   "nbconvert_exporter": "python",
   "pygments_lexer": "ipython3",
   "version": "3.8.10"
  },
  "orig_nbformat": 4
 },
 "nbformat": 4,
 "nbformat_minor": 2
}
