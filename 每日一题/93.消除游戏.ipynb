{
 "cells": [
  {
   "cell_type": "markdown",
   "metadata": {},
   "source": [
    "给定一个从1 到 n 排序的整数列表。\n",
    "首先，从左到右，从第一个数字开始，每隔一个数字进行删除，直到列表的末尾。\n",
    "第二步，在剩下的数字中，从右到左，从倒数第一个数字开始，每隔一个数字进行删除，直到列表开头。\n",
    "我们不断重复这两步，从左到右和从右到左交替进行，直到只剩下一个数字。\n",
    "返回长度为 n 的列表中，最后剩下的数字。\n",
    "\n",
    "示例：\n",
    "\n",
    "输入:\n",
    "n = 9\n",
    "输出:\n",
    "6\n",
    "解释:\n",
    "1 2 3 4 5 6 7 8 9 消除 1 3 5 7 9\n",
    "2 4 6 8 消除 8 4\n",
    "2 6 消除 2\n",
    "6\n"
   ]
  },
  {
   "cell_type": "code",
   "execution_count": null,
   "metadata": {},
   "outputs": [],
   "source": [
    "def f(n: int):\n",
    "    length = n  # 长度\n",
    "    epoch = True  # 奇数轮\n",
    "    first_term = 1  # 首项\n",
    "    d = 1  # 公差\n",
    "    while length != 1:\n",
    "        if epoch or length % 2 == 1:  # 偶数轮或奇数长度\n",
    "            first_term += d  # 首项变成原来等差数列第二项\n",
    "        epoch = not epoch  # 轮次切换\n",
    "        d *= 2  # 公差改变\n",
    "        length //= 2  # 长度改变\n",
    "    return first_term\n"
   ]
  },
  {
   "cell_type": "code",
   "execution_count": null,
   "metadata": {},
   "outputs": [],
   "source": [
    "def f(n: int):\n",
    "    length = n\n",
    "    left2right = True\n",
    "    res = 1\n",
    "    step = 1\n",
    "    while length != 1:\n",
    "        if left2right or length % 2 == 1:  # 左往右或长度为奇数\n",
    "            res += step\n",
    "        left2right = not left2right\n",
    "        step <<= 1\n",
    "        length >>= 1\n",
    "    return res\n"
   ]
  },
  {
   "cell_type": "code",
   "execution_count": 15,
   "metadata": {},
   "outputs": [
    {
     "data": {
      "text/plain": [
       "'Saturday'"
      ]
     },
     "execution_count": 15,
     "metadata": {},
     "output_type": "execute_result"
    }
   ],
   "source": [
    "from datetime import date\n",
    "\n",
    "\n",
    "def dayOfTheWeek(day: int, month: int, year: int) -> str:\n",
    "    ha = {6: 'Sunday', 0: 'Monday', 1: 'Tuesday', 2: 'Wednesday', 3: 'Thursday', 4: 'Friday', 5: 'Saturday'}\n",
    "    a = date(year, month, day)\n",
    "    b = date(2022, 1, 3)\n",
    "    d = (a - b).days\n",
    "    return ha[d % 7]\n",
    "\n",
    "\n",
    "dayOfTheWeek(1, 1, 2022)\n"
   ]
  },
  {
   "cell_type": "code",
   "execution_count": null,
   "metadata": {},
   "outputs": [],
   "source": []
  }
 ],
 "metadata": {
  "interpreter": {
   "hash": "1baa965d5efe3ac65b79dfc60c0d706280b1da80fedb7760faf2759126c4f253"
  },
  "kernelspec": {
   "display_name": "Python 3.8.10 64-bit",
   "language": "python",
   "name": "python3"
  },
  "language_info": {
   "codemirror_mode": {
    "name": "ipython",
    "version": 3
   },
   "file_extension": ".py",
   "mimetype": "text/x-python",
   "name": "python",
   "nbconvert_exporter": "python",
   "pygments_lexer": "ipython3",
   "version": "3.8.10"
  },
  "orig_nbformat": 4
 },
 "nbformat": 4,
 "nbformat_minor": 2
}
