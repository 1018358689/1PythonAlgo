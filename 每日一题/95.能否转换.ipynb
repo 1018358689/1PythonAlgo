{
 "cells": [
  {
   "cell_type": "markdown",
   "metadata": {},
   "source": [
    "今日题(0104):能否转换\n",
    "描述:给两个字符串是s和t，判断s能不能通过删除一些字母（包括0个）变成t。\n",
    "\n",
    "举例1:\n",
    "输入:longterm long\n",
    "输出:True\n",
    "\n",
    "举例2：\n",
    "输入:HappyNewYear year\n",
    "输出:True\n",
    "\n",
    "举例3：\n",
    "输入:HappyNew year\n",
    "输出:False"
   ]
  },
  {
   "cell_type": "code",
   "execution_count": 5,
   "metadata": {},
   "outputs": [
    {
     "data": {
      "text/plain": [
       "(True, True, False, True)"
      ]
     },
     "execution_count": 5,
     "metadata": {},
     "output_type": "execute_result"
    }
   ],
   "source": [
    "from collections import Counter\n",
    "\n",
    "\n",
    "def f(s: str, t: str):\n",
    "    return not (Counter(t) - Counter(s))\n",
    "\n",
    "\n",
    "f('longterm', 'long'), f('HappyNewYear', 'year'), f('HappyNew', 'year'),f('ac','ca')\n"
   ]
  },
  {
   "cell_type": "code",
   "execution_count": 13,
   "metadata": {},
   "outputs": [
    {
     "data": {
      "text/plain": [
       "(Counter({'b': 1, 'a': 2, 'c': 1}), Counter({'a': 2, 'c': 1}), False)"
      ]
     },
     "execution_count": 13,
     "metadata": {},
     "output_type": "execute_result"
    }
   ],
   "source": [
    "Counter('baca'),Counter('aac'),str('ac') in str('cba')\n",
    "# Counter('longs')-Counter('longterm')"
   ]
  },
  {
   "cell_type": "code",
   "execution_count": 11,
   "metadata": {},
   "outputs": [
    {
     "data": {
      "text/plain": [
       "(True, True, False, False)"
      ]
     },
     "execution_count": 11,
     "metadata": {},
     "output_type": "execute_result"
    }
   ],
   "source": [
    "def f(s: str, t: str):\n",
    "    cur = 0\n",
    "    sz = len(s)\n",
    "    for n in t:\n",
    "        while cur <= sz - 1:\n",
    "            if n == s[cur]:\n",
    "                break\n",
    "            cur += 1\n",
    "        else:\n",
    "            return False\n",
    "    return True\n",
    "\n",
    "\n",
    "f('longterm', 'long'), f('HappyNewYear', 'year'), f('HappyNew', 'year'), f('ac', 'ca')\n"
   ]
  },
  {
   "cell_type": "code",
   "execution_count": 18,
   "metadata": {},
   "outputs": [
    {
     "data": {
      "text/plain": [
       "(True, True, False, False)"
      ]
     },
     "execution_count": 18,
     "metadata": {},
     "output_type": "execute_result"
    }
   ],
   "source": [
    "def f(s: str, t: str):\n",
    "    sz = len(t)\n",
    "    index_t = 0\n",
    "    for n in s:\n",
    "        if t[index_t] == n:\n",
    "            index_t += 1\n",
    "            if index_t > sz - 1:\n",
    "                return True\n",
    "    return False\n",
    "\n",
    "\n",
    "f('longterm', 'long'), f('HappyNewYear', 'year'), f('HappyNew', 'year'), f('ac', 'ca')\n"
   ]
  },
  {
   "cell_type": "code",
   "execution_count": null,
   "metadata": {},
   "outputs": [],
   "source": []
  }
 ],
 "metadata": {
  "interpreter": {
   "hash": "004de6046f1b3d314f33fdb43a2dc798b2646e5600efd8df5066c8b63a00ff6d"
  },
  "kernelspec": {
   "display_name": "Python 3.8.10 64-bit",
   "language": "python",
   "name": "python3"
  },
  "language_info": {
   "codemirror_mode": {
    "name": "ipython",
    "version": 3
   },
   "file_extension": ".py",
   "mimetype": "text/x-python",
   "name": "python",
   "nbconvert_exporter": "python",
   "pygments_lexer": "ipython3",
   "version": "3.8.10"
  },
  "orig_nbformat": 4
 },
 "nbformat": 4,
 "nbformat_minor": 2
}
