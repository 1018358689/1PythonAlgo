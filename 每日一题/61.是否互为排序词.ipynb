{
 "cells": [
  {
   "cell_type": "markdown",
   "metadata": {},
   "source": [
    "排序词：两个字符串含有相同字符，但字符顺序不一定相同。\n",
    "输入两个词，判断是否为排序词。\n",
    "\n",
    "示例 1:\n",
    "输入: 'nice', 'icne'\n",
    "输出: True\n",
    "\n",
    "示例 2:\n",
    "输入: 'work', 'woo'\n",
    "输出: False\n",
    "\n",
    "示例 3:\n",
    "输入: '',''\n",
    "输出: True\n",
    "\n"
   ]
  },
  {
   "cell_type": "code",
   "execution_count": 4,
   "metadata": {},
   "outputs": [
    {
     "data": {
      "text/plain": [
       "(True, False, True)"
      ]
     },
     "execution_count": 4,
     "metadata": {},
     "output_type": "execute_result"
    }
   ],
   "source": [
    "def f(s1, s2):\n",
    "    d1 = {}\n",
    "    d2 = {}\n",
    "    for s in s1:\n",
    "        d1[s] = d1.get(s, 0) + 1\n",
    "    for s in s2:\n",
    "        d2[s] = d2.get(s, 0) + 1\n",
    "    return d1 == d2\n",
    "\n",
    "\n",
    "f('nice', 'icne'), f('work', 'woo'), f('', '')\n"
   ]
  },
  {
   "cell_type": "code",
   "execution_count": 10,
   "metadata": {},
   "outputs": [
    {
     "data": {
      "text/plain": [
       "(True, False, True, False, False)"
      ]
     },
     "execution_count": 10,
     "metadata": {},
     "output_type": "execute_result"
    }
   ],
   "source": [
    "def f(s1, s2):\n",
    "    d1 = {}\n",
    "    d2 = {}\n",
    "    for s in s1:\n",
    "        if s not in d1:d1[s]=0\n",
    "        d1[s]+=1\n",
    "    for s in s2:\n",
    "        if s not in d2:d2[s]=0\n",
    "        d2[s]+=1\n",
    "    return d1 == d2\n",
    "\n",
    "\n",
    "f('nice', 'icne'), f('work', 'woo'), f('', ''), f('nice', 'nike'),f('wooo','work')\n"
   ]
  },
  {
   "cell_type": "code",
   "execution_count": 6,
   "metadata": {},
   "outputs": [
    {
     "data": {
      "text/plain": [
       "(True, False, True)"
      ]
     },
     "execution_count": 6,
     "metadata": {},
     "output_type": "execute_result"
    }
   ],
   "source": [
    "from collections import defaultdict\n",
    "def f(s1, s2):\n",
    "    d1 = defaultdict(int)\n",
    "    d2 = defaultdict(int)\n",
    "    for s in s1:\n",
    "        d1[s]+=1\n",
    "    for s in s2:\n",
    "        d2[s]+=1\n",
    "    return d1 == d2\n",
    "\n",
    "\n",
    "f('nice', 'icne'), f('work', 'woo'), f('', '')\n"
   ]
  },
  {
   "cell_type": "code",
   "execution_count": 1,
   "metadata": {},
   "outputs": [
    {
     "data": {
      "text/plain": [
       "(True, False, True, False)"
      ]
     },
     "execution_count": 1,
     "metadata": {},
     "output_type": "execute_result"
    }
   ],
   "source": [
    "from collections import Counter\n",
    "\n",
    "\n",
    "def f(s1, s2):\n",
    "    return Counter(s1) == Counter(s2)\n",
    "\n",
    "\n",
    "f('nice', 'icne'), f('work', 'woo'), f('', ''), f('nice', 'nike')\n"
   ]
  },
  {
   "cell_type": "code",
   "execution_count": 4,
   "metadata": {},
   "outputs": [
    {
     "data": {
      "text/plain": [
       "(True, False, True, False, False)"
      ]
     },
     "execution_count": 4,
     "metadata": {},
     "output_type": "execute_result"
    }
   ],
   "source": [
    "def f(s1, s2):\n",
    "    if len(s1) == len(s2):\n",
    "        for i in s1:\n",
    "            if i in s2:\n",
    "                s2 = s2.replace(i,'',1)\n",
    "            else:\n",
    "                return False\n",
    "        return True\n",
    "    else:\n",
    "        return False\n",
    "\n",
    "\n",
    "f('nice', 'icne'), f('work', 'woo'), f('', ''), f('nice', 'nike'),f('wooo','work')\n"
   ]
  },
  {
   "cell_type": "code",
   "execution_count": 3,
   "metadata": {},
   "outputs": [
    {
     "data": {
      "text/plain": [
       "(True, False, True, False)"
      ]
     },
     "execution_count": 3,
     "metadata": {},
     "output_type": "execute_result"
    }
   ],
   "source": [
    "def f(s1, s2):\n",
    "    for i in s1:\n",
    "        if i in s2:\n",
    "            s1 = s1.replace(i, '', 1)\n",
    "            s2 = s2.replace(i, '', 1)\n",
    "    return s1 == '' and s2 == ''\n",
    "\n",
    "f('nice', 'icne'), f('work', 'woo'), f('', ''), f('nice', 'nike')\n"
   ]
  },
  {
   "cell_type": "code",
   "execution_count": 2,
   "metadata": {},
   "outputs": [
    {
     "data": {
      "text/plain": [
       "(True, False, True, False)"
      ]
     },
     "execution_count": 2,
     "metadata": {},
     "output_type": "execute_result"
    }
   ],
   "source": [
    "def f(s1, s2):\n",
    "    return sorted(s1)==sorted(s2)\n",
    "\n",
    "\n",
    "f('nice', 'icne'), f('work', 'woo'), f('', ''), f('nice', 'nike')\n"
   ]
  },
  {
   "cell_type": "code",
   "execution_count": 9,
   "metadata": {},
   "outputs": [
    {
     "data": {
      "text/plain": [
       "(True, False, True, False, False)"
      ]
     },
     "execution_count": 9,
     "metadata": {},
     "output_type": "execute_result"
    }
   ],
   "source": [
    "def f(s1, s2):\n",
    "    if len(s1) != len(s2): return False\n",
    "    for n in s1:\n",
    "        if n not in s2 or s1.count(n) != s2.count(n):\n",
    "            return False\n",
    "    return True\n",
    "\n",
    "\n",
    "f('nice', 'icne'), f('work', 'woo'), f('', ''), f('nice', 'nike'),f('wooo','work')\n"
   ]
  },
  {
   "cell_type": "code",
   "execution_count": null,
   "metadata": {},
   "outputs": [],
   "source": []
  }
 ],
 "metadata": {
  "interpreter": {
   "hash": "aee8b7b246df8f9039afb4144a1f6fd8d2ca17a180786b69acc140d282b71a49"
  },
  "kernelspec": {
   "display_name": "Python 3.8.10 64-bit",
   "language": "python",
   "name": "python3"
  },
  "language_info": {
   "codemirror_mode": {
    "name": "ipython",
    "version": 3
   },
   "file_extension": ".py",
   "mimetype": "text/x-python",
   "name": "python",
   "nbconvert_exporter": "python",
   "pygments_lexer": "ipython3",
   "version": "3.8.10"
  },
  "orig_nbformat": 4
 },
 "nbformat": 4,
 "nbformat_minor": 2
}
