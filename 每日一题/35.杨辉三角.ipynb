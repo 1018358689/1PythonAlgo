{
 "cells": [
  {
   "cell_type": "markdown",
   "metadata": {},
   "source": [
    "今日思考题-杨辉三角：给定一个非负索引 rowIndex，返回「杨辉三角」的第 rowIndex 行。\n",
    "\n",
    "在「杨辉三角」中，每个数是它左上方和右上方的数的和。\n",
    "\n",
    "输入: rowIndex = 3\n",
    "输出: [1,3,3,1]"
   ]
  },
  {
   "cell_type": "code",
   "execution_count": 4,
   "metadata": {},
   "outputs": [
    {
     "data": {
      "text/plain": [
       "[1, 3, 3, 1]"
      ]
     },
     "execution_count": 4,
     "metadata": {},
     "output_type": "execute_result"
    }
   ],
   "source": [
    "def getRow(rowIndex: int):\n",
    "    r = [1]\n",
    "    for row in range(1, rowIndex + 1):\n",
    "        r.insert(0, 0)\n",
    "        for idx in range(row):\n",
    "            r[idx] = r[idx] + r[idx + 1]\n",
    "    return r\n",
    "\n",
    "\n",
    "getRow(3)"
   ]
  },
  {
   "cell_type": "code",
   "execution_count": null,
   "metadata": {},
   "outputs": [],
   "source": []
  }
 ],
 "metadata": {
  "interpreter": {
   "hash": "004de6046f1b3d314f33fdb43a2dc798b2646e5600efd8df5066c8b63a00ff6d"
  },
  "kernelspec": {
   "display_name": "Python 3.8.10 64-bit",
   "name": "python3"
  },
  "language_info": {
   "codemirror_mode": {
    "name": "ipython",
    "version": 3
   },
   "file_extension": ".py",
   "mimetype": "text/x-python",
   "name": "python",
   "nbconvert_exporter": "python",
   "pygments_lexer": "ipython3",
   "version": "3.8.10"
  },
  "orig_nbformat": 4
 },
 "nbformat": 4,
 "nbformat_minor": 2
}
