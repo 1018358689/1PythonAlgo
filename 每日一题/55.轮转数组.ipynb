{
 "cells": [
  {
   "cell_type": "markdown",
   "metadata": {},
   "source": [
    "给你一个数组，将数组中的元素向右轮转 k 个位置，其中 k 是非负数。\n",
    "\n",
    "示例 1:\n",
    "输入: nums = [1,2,3,4,5,6,7], k = 3\n",
    "输出: [5,6,7,1,2,3,4]\n",
    "解释:\n",
    "向右轮转 1 步: [7,1,2,3,4,5,6]\n",
    "向右轮转 2 步: [6,7,1,2,3,4,5]\n",
    "向右轮转 3 步: [5,6,7,1,2,3,4]\n",
    "\n",
    "示例 2:\n",
    "输入：nums = [-1,-100,3,99], k = 2\n",
    "输出：[3,99,-1,-100]\n",
    "解释: \n",
    "向右轮转 1 步: [99,-1,-100,3]\n",
    "向右轮转 2 步: [3,99,-1,-100]\n"
   ]
  },
  {
   "cell_type": "code",
   "execution_count": 3,
   "metadata": {},
   "outputs": [
    {
     "data": {
      "text/plain": [
       "(deque([5, 6, 7, 1, 2, 3, 4]), deque([3, 99, -1, -100]))"
      ]
     },
     "execution_count": 3,
     "metadata": {},
     "output_type": "execute_result"
    }
   ],
   "source": [
    "from collections import deque\n",
    "\n",
    "\n",
    "def f(nums, k):\n",
    "    nums = deque(nums)\n",
    "    nums.rotate(k)\n",
    "    return nums\n",
    "\n",
    "\n",
    "f([1, 2, 3, 4, 5, 6, 7], 3), f([-1, -100, 3, 99], 2)\n"
   ]
  },
  {
   "cell_type": "code",
   "execution_count": 5,
   "metadata": {},
   "outputs": [
    {
     "data": {
      "text/plain": [
       "([5, 6, 7, 1, 2, 3, 4], [3, 99, -1, -100])"
      ]
     },
     "execution_count": 5,
     "metadata": {},
     "output_type": "execute_result"
    }
   ],
   "source": [
    "def f(nums, k):\n",
    "    return nums[-k:] + nums[:-k]\n",
    "\n",
    "\n",
    "f([1, 2, 3, 4, 5, 6, 7], 3), f([-1, -100, 3, 99], 2)\n"
   ]
  },
  {
   "cell_type": "code",
   "execution_count": 20,
   "metadata": {},
   "outputs": [
    {
     "data": {
      "text/plain": [
       "([5, 6, 7, 1, 2, 3, 4], [3, 99, -1, -100], [2, 1], [3, 1, 2])"
      ]
     },
     "execution_count": 20,
     "metadata": {},
     "output_type": "execute_result"
    }
   ],
   "source": [
    "# 原地修改\n",
    "# 直接切片解决，需要注意两点：\n",
    "# 1、k需要预先除列表长度取余，因为移动n次相当于没动\n",
    "# 2、切片的用法：复制列表时，需要用代码中所示的用法（注意左边nums括号中的冒号，创建了一个新的切片）\n",
    "# 将旧列表的值赋给新列表，如果直接 list_1 = list_2，两个变量只是指向同一个列表，并非创建了一个新的。\n",
    "\n",
    "\n",
    "def f(nums, k):\n",
    "    n = len(nums)\n",
    "    k = k % n\n",
    "    nums[:] = nums[-k:] + nums[:-k]\n",
    "    return nums\n",
    "\n",
    "\n",
    "f([1, 2, 3, 4, 5, 6, 7], 3), f([-1, -100, 3, 99], 2), f([1, 2], 3), f([1, 2, 3], 4)\n"
   ]
  },
  {
   "cell_type": "code",
   "execution_count": 13,
   "metadata": {},
   "outputs": [
    {
     "data": {
      "text/plain": [
       "[2, 1]"
      ]
     },
     "execution_count": 13,
     "metadata": {},
     "output_type": "execute_result"
    }
   ],
   "source": [
    "l=[1,2]\n",
    "l.reverse()\n",
    "l"
   ]
  },
  {
   "cell_type": "code",
   "execution_count": null,
   "metadata": {},
   "outputs": [],
   "source": []
  }
 ],
 "metadata": {
  "interpreter": {
   "hash": "aee8b7b246df8f9039afb4144a1f6fd8d2ca17a180786b69acc140d282b71a49"
  },
  "kernelspec": {
   "display_name": "Python 3.8.10 64-bit",
   "language": "python",
   "name": "python3"
  },
  "language_info": {
   "codemirror_mode": {
    "name": "ipython",
    "version": 3
   },
   "file_extension": ".py",
   "mimetype": "text/x-python",
   "name": "python",
   "nbconvert_exporter": "python",
   "pygments_lexer": "ipython3",
   "version": "3.8.10"
  },
  "orig_nbformat": 4
 },
 "nbformat": 4,
 "nbformat_minor": 2
}
