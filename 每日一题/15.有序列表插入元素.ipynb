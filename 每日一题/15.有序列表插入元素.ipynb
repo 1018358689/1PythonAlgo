{
 "cells": [
  {
   "cell_type": "markdown",
   "source": [
    "## 有一个已经排好序的数组。现输入一个数，要求按原来的规律将它插入数组中。"
   ],
   "metadata": {}
  },
  {
   "cell_type": "code",
   "execution_count": 32,
   "source": [
    "def f(list, num):\r\n",
    "    list.append(num + 1)\r\n",
    "    for i in range(len(list)):\r\n",
    "        if num < list[i]:\r\n",
    "            list.insert(i, num)\r\n",
    "            break\r\n",
    "    return list[:-1]\r\n",
    "\r\n",
    "\r\n",
    "print(f([2, 6, 7, 8, 9, 31, 543], 1))\r\n",
    "print(f([2, 6, 7, 8, 9, 31, 543], 10))\r\n",
    "print(f([2, 6, 7, 8, 9, 31, 543], 5555))"
   ],
   "outputs": [
    {
     "output_type": "stream",
     "name": "stdout",
     "text": [
      "[1, 2, 6, 7, 8, 9, 31, 543]\n",
      "[2, 6, 7, 8, 9, 10, 31, 543]\n",
      "[2, 6, 7, 8, 9, 31, 543, 5555]\n"
     ]
    }
   ],
   "metadata": {}
  },
  {
   "cell_type": "code",
   "execution_count": 37,
   "source": [
    "def f(list, num):\r\n",
    "    if list[0] < list[1]:\r\n",
    "        state = True\r\n",
    "        list = list\r\n",
    "    else:\r\n",
    "        state = False\r\n",
    "        list = list[::-1]\r\n",
    "\r\n",
    "    list.append(num + 1)\r\n",
    "    for i in range(len(list)):\r\n",
    "        if num < list[i]:\r\n",
    "            list.insert(i, num)\r\n",
    "            break\r\n",
    "\r\n",
    "    return list[:-1] if state else list[-2::-1]\r\n",
    "\r\n",
    "\r\n",
    "print(f([2, 6, 7, 8, 9, 31, 543], 1))\r\n",
    "print(f([2, 6, 7, 8, 9, 31, 543], 10))\r\n",
    "print(f([2, 6, 7, 8, 9, 31, 543], 5555))\r\n",
    "print(f([543, 31, 9, 8, 7, 6, 2], 5555))\r\n",
    "print(f([543, 31, 9, 8, 7, 6, 2], 10))\r\n",
    "print(f([543, 31, 9, 8, 7, 6, 2], 1))"
   ],
   "outputs": [
    {
     "output_type": "stream",
     "name": "stdout",
     "text": [
      "[1, 2, 6, 7, 8, 9, 31, 543]\n",
      "[2, 6, 7, 8, 9, 10, 31, 543]\n",
      "[2, 6, 7, 8, 9, 31, 543, 5555]\n",
      "[5555, 543, 31, 9, 8, 7, 6, 2]\n",
      "[543, 31, 10, 9, 8, 7, 6, 2]\n",
      "[543, 31, 9, 8, 7, 6, 2, 1]\n"
     ]
    }
   ],
   "metadata": {}
  },
  {
   "cell_type": "code",
   "execution_count": 2,
   "source": [
    "def f(list, num):\r\n",
    "    list0 = list\r\n",
    "    list = list[0] < list[1] and list or list[::-1]\r\n",
    "    list.append(num + 1)\r\n",
    "    for i in range(len(list)):\r\n",
    "        if num < list[i]:\r\n",
    "            list.insert(i, num)\r\n",
    "            break\r\n",
    "    return list[:-1] if list0[0] < list0[1] else list[-2::-1]\r\n",
    "\r\n",
    "\r\n",
    "print(f([20, 30, 40, 50, 60, 70, 80], 10))\r\n",
    "print(f([20, 30, 40, 50, 60, 70, 80], 45))\r\n",
    "print(f([20, 30, 40, 50, 60, 70, 80], 90))\r\n",
    "print(f([80, 70, 60, 50, 40, 30, 20], 90))\r\n",
    "print(f([80, 70, 60, 50, 40, 30, 20], 45))\r\n",
    "print(f([80, 70, 60, 50, 40, 30, 20], 10))\r\n"
   ],
   "outputs": [
    {
     "output_type": "stream",
     "name": "stdout",
     "text": [
      "[10, 20, 30, 40, 50, 60, 70, 80]\n",
      "[20, 30, 40, 45, 50, 60, 70, 80]\n",
      "[20, 30, 40, 50, 60, 70, 80, 90]\n",
      "[90, 80, 70, 60, 50, 40, 30, 20]\n",
      "[80, 70, 60, 50, 45, 40, 30, 20]\n",
      "[80, 70, 60, 50, 40, 30, 20, 10]\n"
     ]
    }
   ],
   "metadata": {}
  },
  {
   "cell_type": "code",
   "execution_count": 17,
   "source": [
    "list(reversed([2, 6, 7, 8, 9, 31, 543]))"
   ],
   "outputs": [
    {
     "output_type": "execute_result",
     "data": {
      "text/plain": [
       "[543, 31, 9, 8, 7, 6, 2]"
      ]
     },
     "metadata": {},
     "execution_count": 17
    }
   ],
   "metadata": {}
  },
  {
   "cell_type": "code",
   "execution_count": 20,
   "source": [
    "l = [2, 6, 7, 8, 9, 31, 543,0]\r\n",
    "l[-2::-1]"
   ],
   "outputs": [
    {
     "output_type": "execute_result",
     "data": {
      "text/plain": [
       "[543, 31, 9, 8, 7, 6, 2]"
      ]
     },
     "metadata": {},
     "execution_count": 20
    }
   ],
   "metadata": {}
  },
  {
   "cell_type": "code",
   "execution_count": 9,
   "source": [
    "# listold = [80, 70, 60, 50, 40, 30, 20]\r\n",
    "listold = [20, 30, 40, 50, 60, 70, 80]\r\n",
    "print(listold)\r\n",
    "x = 45\r\n",
    "listold.append(x)  # [80, 70, 60, 50, 40, 30, 20, 45]\r\n",
    "# [20, 30, 40, 50, 60, 70, 80, 45]\r\n",
    "n = len(listold)\r\n",
    "while True:\r\n",
    "    if listold[0] > listold[n - 2]:  # 降序\r\n",
    "        for i in range(n - 1):  # 到20\r\n",
    "            for j in range(0, n - i - 1):  # n-1 n-n+2-1=1\r\n",
    "                if listold[j] < listold[j + 1]:\r\n",
    "                    listold[j], listold[j + 1] = listold[j + 1], listold[j]\r\n",
    "        print(listold)\r\n",
    "        break\r\n",
    "    else:  # 升序\r\n",
    "        listold.sort()\r\n",
    "        print(listold)\r\n",
    "        break"
   ],
   "outputs": [
    {
     "output_type": "stream",
     "name": "stdout",
     "text": [
      "[20, 30, 40, 50, 60, 70, 80]\n",
      "[20, 30, 40, 45, 50, 60, 70, 80]\n"
     ]
    }
   ],
   "metadata": {}
  },
  {
   "cell_type": "code",
   "execution_count": 11,
   "source": [
    "listold = [20, 30, 40, 50, 60, 70, 80]\r\n",
    "listold.sort()\r\n",
    "listold"
   ],
   "outputs": [
    {
     "output_type": "execute_result",
     "data": {
      "text/plain": [
       "[20, 30, 40, 50, 60, 70, 80]"
      ]
     },
     "metadata": {},
     "execution_count": 11
    }
   ],
   "metadata": {}
  },
  {
   "cell_type": "code",
   "execution_count": 15,
   "source": [
    "listold = [80, 70, 60, 50, 40, 30, 20]\r\n",
    "# listold = [20, 30, 40, 50, 60, 70, 80]\r\n",
    "print(listold)\r\n",
    "x = 90\r\n",
    "listold.append(x)  # [80, 70, 60, 50, 40, 30, 20, 45]\r\n",
    "# [20, 30, 40, 50, 60, 70, 80, 45]\r\n",
    "n = len(listold)\r\n",
    "while True:\r\n",
    "    if listold[0] > listold[n - 2]:  # 降序\r\n",
    "        listold.sort(reverse=True)\r\n",
    "        print(listold)\r\n",
    "        break\r\n",
    "    else:  # 升序\r\n",
    "        listold.sort()\r\n",
    "        print(listold)\r\n",
    "        break"
   ],
   "outputs": [
    {
     "output_type": "stream",
     "name": "stdout",
     "text": [
      "[80, 70, 60, 50, 40, 30, 20]\n",
      "[90, 80, 70, 60, 50, 40, 30, 20]\n"
     ]
    }
   ],
   "metadata": {}
  },
  {
   "cell_type": "code",
   "execution_count": null,
   "source": [],
   "outputs": [],
   "metadata": {}
  }
 ],
 "metadata": {
  "orig_nbformat": 4,
  "language_info": {
   "name": "python",
   "version": "3.8.11",
   "mimetype": "text/x-python",
   "codemirror_mode": {
    "name": "ipython",
    "version": 3
   },
   "pygments_lexer": "ipython3",
   "nbconvert_exporter": "python",
   "file_extension": ".py"
  },
  "kernelspec": {
   "name": "python3",
   "display_name": "Python 3.8.11 64-bit ('paddlehub': conda)"
  },
  "interpreter": {
   "hash": "1ab393b4e74f10690122bd8cac8adb5fed0a74445021e612c9c654c49950836c"
  }
 },
 "nbformat": 4,
 "nbformat_minor": 2
}