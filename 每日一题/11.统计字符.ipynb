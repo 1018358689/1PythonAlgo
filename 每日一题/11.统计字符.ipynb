{
 "cells": [
  {
   "cell_type": "markdown",
   "source": [
    "## 输入一行字符，分别统计出其中中文、英文字母、空格、数字和其它字符的个数。"
   ],
   "metadata": {}
  },
  {
   "cell_type": "code",
   "execution_count": 30,
   "source": [
    "import re\r\n",
    "\r\n",
    "def Count(s):\r\n",
    "    zh = len(re.findall('[\\u4e00-\\u9fa5]', s))\r\n",
    "    en = len(re.findall('[a-zA-Z]', s))\r\n",
    "    sp = len(re.findall(' ', s))\r\n",
    "    num = len(re.findall('\\d', s))\r\n",
    "    el = len(s) - zh - en - sp - num\r\n",
    "    return zh, en, sp, num, el\r\n",
    "\r\n",
    "s = '今天tod  ay 202109 $%^&*((&%#天气@! 15'\r\n",
    "\r\n",
    "print('字符:{}\\n中文:{}个\\n英文字母:{}个\\n空格:{}个\\n数字:{}个\\n其它字符:{}个'.format(s, *Count(s)))\r\n"
   ],
   "outputs": [
    {
     "output_type": "stream",
     "name": "stdout",
     "text": [
      "字符:今天tod  ay 202109 $%^&*((&%#天气@! 15\n",
      "中文:4个\n",
      "英文字母:5个\n",
      "空格:5个\n",
      "数字:8个\n",
      "其它字符:12个\n"
     ]
    }
   ],
   "metadata": {}
  },
  {
   "cell_type": "code",
   "execution_count": 23,
   "source": [
    "s = '今天tod  ay 202109 $%^&*((&%#天气@! 15'\r\n",
    "re.findall(r'[\\u4e00-\\u9fa5]',s)"
   ],
   "outputs": [
    {
     "output_type": "execute_result",
     "data": {
      "text/plain": [
       "['今', '天', '天', '气']"
      ]
     },
     "metadata": {},
     "execution_count": 23
    }
   ],
   "metadata": {}
  },
  {
   "cell_type": "code",
   "execution_count": 24,
   "source": [
    "re.findall(r'[a-zA-Z]',s)"
   ],
   "outputs": [
    {
     "output_type": "execute_result",
     "data": {
      "text/plain": [
       "['t', 'o', 'd', 'a', 'y']"
      ]
     },
     "metadata": {},
     "execution_count": 24
    }
   ],
   "metadata": {}
  },
  {
   "cell_type": "code",
   "execution_count": 25,
   "source": [
    "re.findall(r' ',s)"
   ],
   "outputs": [
    {
     "output_type": "execute_result",
     "data": {
      "text/plain": [
       "[' ', ' ', ' ', ' ', ' ']"
      ]
     },
     "metadata": {},
     "execution_count": 25
    }
   ],
   "metadata": {}
  },
  {
   "cell_type": "code",
   "execution_count": 20,
   "source": [
    "re.findall(r'\\d',s)"
   ],
   "outputs": [
    {
     "output_type": "execute_result",
     "data": {
      "text/plain": [
       "['2', '0', '2', '1', '0', '9', '1', '5']"
      ]
     },
     "metadata": {},
     "execution_count": 20
    }
   ],
   "metadata": {}
  },
  {
   "cell_type": "code",
   "execution_count": null,
   "source": [],
   "outputs": [],
   "metadata": {}
  }
 ],
 "metadata": {
  "orig_nbformat": 4,
  "language_info": {
   "name": "python",
   "version": "3.8.11",
   "mimetype": "text/x-python",
   "codemirror_mode": {
    "name": "ipython",
    "version": 3
   },
   "pygments_lexer": "ipython3",
   "nbconvert_exporter": "python",
   "file_extension": ".py"
  },
  "kernelspec": {
   "name": "python3",
   "display_name": "Python 3.8.11 64-bit"
  },
  "interpreter": {
   "hash": "af407973ba12897262deda9d8992946cc1a9873fff2de40f1acc89cdf9010052"
  }
 },
 "nbformat": 4,
 "nbformat_minor": 2
}