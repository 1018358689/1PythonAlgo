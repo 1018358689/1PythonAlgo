{
 "cells": [
  {
   "cell_type": "markdown",
   "metadata": {},
   "source": [
    "今日题-最长公共前缀：编写一个函数来查找字符串数组中的最长公共前缀。\n",
    "如果不存在公共前缀，返回空字符串 \"\"。\n",
    "\n",
    "输入：strs = [\"flower\",\"flow\",\"flight\"]\n",
    "输出：\"fl\"\n",
    "\n",
    "输入：strs = [\"dog\",\"racecar\",\"car\"]\n",
    "输出：\"\"\n",
    "解释：输入不存在公共前缀。"
   ]
  },
  {
   "cell_type": "code",
   "execution_count": 23,
   "metadata": {},
   "outputs": [
    {
     "data": {
      "text/plain": [
       "'fl'"
      ]
     },
     "execution_count": 23,
     "metadata": {},
     "output_type": "execute_result"
    }
   ],
   "source": [
    "'''\n",
    "纵向方法\n",
    "flower\n",
    "flow\n",
    "flight\n",
    "'''\n",
    "\n",
    "\n",
    "def f(slst):\n",
    "    col = min(map(len, slst))\n",
    "    for c in range(col):\n",
    "        firstchar = slst[0][c]\n",
    "        for r in range(1, len(slst)):\n",
    "            if slst[r][c] != firstchar:\n",
    "                return slst[0][:c]\n",
    "    return slst[0][:col]\n",
    "\n",
    "\n",
    "def g(slst):\n",
    "    r = ''\n",
    "    for col in range(min(map(len, slst))):\n",
    "        cnt = 1\n",
    "        tem = slst[0][col]\n",
    "        for row in range(1, len(slst)):\n",
    "            if slst[row][col] == tem: cnt += 1\n",
    "        if cnt == len(slst):\n",
    "            r += tem\n",
    "        else:\n",
    "            break\n",
    "    return r\n",
    "\n",
    "\n",
    "# f([\"flower\", \"flow\", \"flight\"])\n",
    "f(['fl', 'fls'])\n"
   ]
  },
  {
   "cell_type": "code",
   "execution_count": 29,
   "metadata": {},
   "outputs": [
    {
     "data": {
      "text/plain": [
       "''"
      ]
     },
     "execution_count": 29,
     "metadata": {},
     "output_type": "execute_result"
    }
   ],
   "source": [
    "'''\n",
    "横向方法\n",
    "flower flow flight\n",
    "'''\n",
    "\n",
    "\n",
    "def twopublic(s1, s2):\n",
    "    n = min(len(s1), len(s2))\n",
    "    for i in range(n):\n",
    "        if s2[i] != s1[i]: return s1[:i]\n",
    "    return s1[:n]\n",
    "\n",
    "\n",
    "def f(slst):\n",
    "    tem = slst[0]\n",
    "    for i in range(1, len(slst)):\n",
    "        tem = twopublic(tem, slst[i])\n",
    "        if not tem: return ''\n",
    "    return tem\n",
    "\n",
    "\n",
    "f([\"flower\", \"flow\", \"flight\"])\n",
    "f(['fl', 'fls', 's'])\n"
   ]
  },
  {
   "cell_type": "code",
   "execution_count": 5,
   "metadata": {},
   "outputs": [
    {
     "data": {
      "text/plain": [
       "'fl'"
      ]
     },
     "execution_count": 5,
     "metadata": {},
     "output_type": "execute_result"
    }
   ],
   "source": [
    "def f(slst):\n",
    "    r = ''\n",
    "    for i in zip(*slst):\n",
    "        i_set = set(i)\n",
    "        if len(i_set) == 1:\n",
    "            r+=i[0]\n",
    "        else:\n",
    "            break\n",
    "    return r\n",
    "\n",
    "f([\"flower\",\"flow\",\"flight\"])"
   ]
  },
  {
   "cell_type": "code",
   "execution_count": 33,
   "metadata": {},
   "outputs": [
    {
     "data": {
      "text/plain": [
       "'fl'"
      ]
     },
     "execution_count": 33,
     "metadata": {},
     "output_type": "execute_result"
    }
   ],
   "source": [
    "'''\n",
    "排序的时候，先比较列表中所有元素的第一个字符的ASCll码值，再比较所有元素的第二个字符，一直到最后得出排序的结果。\n",
    "所以在已经排序好的新列表中，各元素中如果从左到右有相同字符的话，一定是排在一起的，排序正是为了达到这个目的。\n",
    "例子1：排序后，如果返回结果是'fl'，即strs[0]和strs[-1]有公共前缀'fl'，则说明中间所有元素前缀肯定都是'fl'（因为经过排序）。\n",
    "例子2：排序后，如果返回结果是''，即strs[0]和strs[-1]没有公共前缀，那么既然有两个元素没有公共前缀，更不需要考虑中间元素了。\n",
    "'''\n",
    "def f(slst):\n",
    "    slst.sort()\n",
    "    start,end = slst[0],slst[-1]\n",
    "    n = min(len(start), len(end))\n",
    "    for i in range(n):\n",
    "        if end[i] != start[i]: return start[:i]\n",
    "    return start[:n]\n",
    "f([\"flower\",\"flow\",\"flight\"])\n",
    "f(['fl', 'fls'])\n"
   ]
  },
  {
   "cell_type": "code",
   "execution_count": 34,
   "metadata": {},
   "outputs": [
    {
     "data": {
      "text/plain": [
       "'fl'"
      ]
     },
     "execution_count": 34,
     "metadata": {},
     "output_type": "execute_result"
    }
   ],
   "source": [
    "'''\n",
    "利用python的max()和min()，在Python里字符串是可以比较的，按照ascII值排，举例abb， aba，abac，最大为abb，最小为aba。\n",
    "所以只需要比较最大最小的公共前缀就是整个数组的公共前缀\n",
    "'''\n",
    "def longestCommonPrefix(strs):\n",
    "    if not strs: return \"\"\n",
    "    s1 = min(strs)\n",
    "    s2 = max(strs)\n",
    "    for i,x in enumerate(s1):\n",
    "        if x != s2[i]:\n",
    "            return s2[:i]\n",
    "    return s1\n",
    "\n",
    "f([\"flower\",\"flow\",\"flight\"])\n",
    "f(['fl', 'fls'])"
   ]
  },
  {
   "cell_type": "code",
   "execution_count": 30,
   "metadata": {},
   "outputs": [
    {
     "data": {
      "text/plain": [
       "['flight', 'flow', 'flower']"
      ]
     },
     "execution_count": 30,
     "metadata": {},
     "output_type": "execute_result"
    }
   ],
   "source": [
    "sorted([\"flower\",\"flow\",\"flight\"])"
   ]
  },
  {
   "cell_type": "code",
   "execution_count": null,
   "metadata": {},
   "outputs": [],
   "source": []
  }
 ],
 "metadata": {
  "interpreter": {
   "hash": "004de6046f1b3d314f33fdb43a2dc798b2646e5600efd8df5066c8b63a00ff6d"
  },
  "kernelspec": {
   "display_name": "Python 3.8.10 64-bit",
   "name": "python3"
  },
  "language_info": {
   "codemirror_mode": {
    "name": "ipython",
    "version": 3
   },
   "file_extension": ".py",
   "mimetype": "text/x-python",
   "name": "python",
   "nbconvert_exporter": "python",
   "pygments_lexer": "ipython3",
   "version": "3.8.10"
  },
  "orig_nbformat": 4
 },
 "nbformat": 4,
 "nbformat_minor": 2
}
