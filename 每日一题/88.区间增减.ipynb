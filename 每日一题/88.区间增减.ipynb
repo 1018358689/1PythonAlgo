{
 "cells": [
  {
   "cell_type": "markdown",
   "metadata": {},
   "source": [
    "假设你有一个数组nums，你将会被给出 k 个更新的操作。\n",
    "\n",
    "其中，每个操作会被表示为一个三元组：[startIndex, endIndex, val]，你需要将子数组 A[startIndex ... endIndex]（包括startIndex但不包括endIndex）增加 val\n",
    "\n",
    "请你返回 k 次操作后的数组。\n",
    "\n",
    "示例：\n",
    "输入: nums = [4,3,6,3,2], updates = [[1,3,2],[2,4,3],[0,4,-2]]\n",
    "输出: [-2,0,3,5,3]\n",
    "\n",
    "解释：\n",
    "初始状态:\n",
    "[4,3,6,3,2]\n",
    "\n",
    "进行了操作 [1,3,2] 后的状态:\n",
    "[4,5,8,3,2]\n",
    "\n",
    "进行了操作 [2,4,3] 后的状态:\n",
    "[4,5,11,6,2]\n",
    "\n",
    "进行了操作 [0,4,-2] 后的状态:\n",
    "[2,3,9,4,2]"
   ]
  },
  {
   "cell_type": "code",
   "execution_count": 1,
   "metadata": {},
   "outputs": [
    {
     "data": {
      "text/plain": [
       "[2, 3, 9, 4, 2]"
      ]
     },
     "execution_count": 1,
     "metadata": {},
     "output_type": "execute_result"
    }
   ],
   "source": [
    "def f(nums: list, updates: list):\n",
    "    for s, e, val in updates:\n",
    "        nums[s:e] = [i + val for i in nums[s:e]]\n",
    "    return nums\n",
    "\n",
    "\n",
    "f([4, 3, 6, 3, 2], [[1, 3, 2], [2, 4, 3], [0, 4, -2]])\n"
   ]
  },
  {
   "cell_type": "code",
   "execution_count": 4,
   "metadata": {},
   "outputs": [
    {
     "data": {
      "text/plain": [
       "[2, 3, 9, 4, 2]"
      ]
     },
     "execution_count": 4,
     "metadata": {},
     "output_type": "execute_result"
    }
   ],
   "source": [
    "def f(nums: list, updates: list):\n",
    "    for s, e, val in updates:\n",
    "        nums[s:e] = map(lambda x: x + val, nums[s:e])\n",
    "    return nums\n",
    "\n",
    "\n",
    "f([4, 3, 6, 3, 2], [[1, 3, 2], [2, 4, 3], [0, 4, -2]])\n"
   ]
  },
  {
   "cell_type": "code",
   "execution_count": 6,
   "metadata": {},
   "outputs": [
    {
     "data": {
      "text/plain": [
       "[2, 3, 9, 4, 2]"
      ]
     },
     "execution_count": 6,
     "metadata": {},
     "output_type": "execute_result"
    }
   ],
   "source": [
    "def f(nums: list, updates: list):\n",
    "    diff = [0] * len(nums)\n",
    "    diff[0] = nums[0]\n",
    "    for i in range(1, len(nums)):\n",
    "        diff[i] = nums[i] - nums[i - 1]\n",
    "    for s, e, val in updates:\n",
    "        diff[s] += val\n",
    "        if e < len(nums):\n",
    "            diff[e] -= val\n",
    "    nums[0] = diff[0]\n",
    "    for i in range(1, len(nums)):\n",
    "        nums[i] = nums[i - 1] + diff[i]\n",
    "    return nums\n",
    "\n",
    "\n",
    "f([4, 3, 6, 3, 2], [[1, 3, 2], [2, 4, 3], [0, 4, -2]])\n"
   ]
  },
  {
   "cell_type": "code",
   "execution_count": null,
   "metadata": {},
   "outputs": [],
   "source": []
  }
 ],
 "metadata": {
  "interpreter": {
   "hash": "004de6046f1b3d314f33fdb43a2dc798b2646e5600efd8df5066c8b63a00ff6d"
  },
  "kernelspec": {
   "display_name": "Python 3.8.10 64-bit",
   "language": "python",
   "name": "python3"
  },
  "language_info": {
   "codemirror_mode": {
    "name": "ipython",
    "version": 3
   },
   "file_extension": ".py",
   "mimetype": "text/x-python",
   "name": "python",
   "nbconvert_exporter": "python",
   "pygments_lexer": "ipython3",
   "version": "3.8.10"
  },
  "orig_nbformat": 4
 },
 "nbformat": 4,
 "nbformat_minor": 2
}
