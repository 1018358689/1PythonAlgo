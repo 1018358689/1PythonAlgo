{
 "cells": [
  {
   "cell_type": "markdown",
   "metadata": {},
   "source": [
    "20211218括号生成\n",
    "数字 n 代表生成括号的对数，请你设计一个函数，用于能够生成所有可能的并且有效的括号组合。\n",
    "示例 1：\n",
    "输入：n = 3\n",
    "输出：[\"((()))\",\"(()())\",\"(())()\",\"()(())\",\"()()()\"]\n",
    "示例 2：\n",
    "输入：n = 1\n",
    "输出：[\"()\"]"
   ]
  },
  {
   "cell_type": "markdown",
   "metadata": {},
   "source": [
    "1、一个「合法」括号组合的左括号数量一定等于右括号数量，这个很好理解。\n",
    "\n",
    "2、对于一个「合法」的括号字符串组合 p，必然对于任何 0 <= i < len(p) 都有：子串 p[0..i] 中左括号的数量都大于或等于右括号的数量。\n",
    "\n",
    "如果不跟你说这个性质，可能不太容易发现，但是稍微想一下，其实很容易理解，因为从左往右算的话，肯定是左括号多嘛，到最后左右括号数量相等，说明这个括号组合是合法的。\n",
    "\n",
    "反之，比如这个括号组合 ))((，前几个子串都是右括号多于左括号，显然不是合法的括号组合。\n",
    "\n",
    "下面就来手把手实践一下回溯算法框架。"
   ]
  },
  {
   "cell_type": "code",
   "execution_count": 3,
   "metadata": {},
   "outputs": [
    {
     "data": {
      "text/plain": [
       "(['((()))', '(()())', '(())()', '()(())', '()()()'], ['()'])"
      ]
     },
     "execution_count": 3,
     "metadata": {},
     "output_type": "execute_result"
    }
   ],
   "source": [
    "def f(n: int) -> list:\n",
    "    path = []\n",
    "    res = []\n",
    "    l_cnt, r_cnt = 0, 0\n",
    "\n",
    "    def dfs(l_cnt, r_cnt):\n",
    "        if l_cnt > n or r_cnt > n or r_cnt > l_cnt:\n",
    "            return\n",
    "        if len(path) == 2 * n:\n",
    "            tmp = ''.join(path)\n",
    "            res.append(tmp)\n",
    "            return\n",
    "        for i in ['(', ')']:\n",
    "            if i == '(':\n",
    "                path.append('(')\n",
    "                dfs(l_cnt + 1, r_cnt)\n",
    "                path.pop()\n",
    "            elif i == ')':\n",
    "                path.append(')')\n",
    "                dfs(l_cnt, r_cnt + 1)\n",
    "                path.pop()\n",
    "\n",
    "    dfs(l_cnt, r_cnt)\n",
    "    return res\n",
    "\n",
    "\n",
    "f(3),f(1)"
   ]
  },
  {
   "cell_type": "code",
   "execution_count": 13,
   "metadata": {},
   "outputs": [
    {
     "data": {
      "text/plain": [
       "{'((()))', '(()())', '(())()', '()(())', '()()()'}"
      ]
     },
     "execution_count": 13,
     "metadata": {},
     "output_type": "execute_result"
    }
   ],
   "source": [
    "def f(n: int) -> list:\n",
    "    def is_valid(s: str) -> bool:\n",
    "        ha = {'(': ')', '?': '?'}\n",
    "        stack = ['?']\n",
    "        for c in s:\n",
    "            if c in ha: stack.append(c)\n",
    "            elif ha[stack.pop()] != c: return False\n",
    "        return len(stack) == 1\n",
    "\n",
    "    path = []\n",
    "    res = set() # 去重\n",
    "    s = '()' * n\n",
    "    used = [0] * 2 * n\n",
    "\n",
    "    def dfs():\n",
    "        if len(path) == 2 * n:\n",
    "            tmp = ''.join(path[:])\n",
    "            if is_valid(tmp):res.add(tmp)\n",
    "            return\n",
    "        for i in range(len(s)):\n",
    "            if used[i]:continue\n",
    "            used[i] = 1\n",
    "            path.append(s[i])\n",
    "            dfs()\n",
    "            used[i] = 0\n",
    "            path.pop()\n",
    "\n",
    "    dfs()\n",
    "    return list(res)\n",
    "\n",
    "\n",
    "f(3)\n"
   ]
  },
  {
   "cell_type": "code",
   "execution_count": null,
   "metadata": {},
   "outputs": [],
   "source": []
  }
 ],
 "metadata": {
  "interpreter": {
   "hash": "aee8b7b246df8f9039afb4144a1f6fd8d2ca17a180786b69acc140d282b71a49"
  },
  "kernelspec": {
   "display_name": "Python 3.8.10 64-bit",
   "language": "python",
   "name": "python3"
  },
  "language_info": {
   "codemirror_mode": {
    "name": "ipython",
    "version": 3
   },
   "file_extension": ".py",
   "mimetype": "text/x-python",
   "name": "python",
   "nbconvert_exporter": "python",
   "pygments_lexer": "ipython3",
   "version": "3.8.10"
  },
  "orig_nbformat": 4
 },
 "nbformat": 4,
 "nbformat_minor": 2
}
