{
 "cells": [
  {
   "cell_type": "markdown",
   "metadata": {},
   "source": [
    "W-今日题目（1224）：有效的括号   同48.\n",
    "给定一个只包括 '('，')'，'{'，'}'，'['，']' 的字符串 s ，判断字符串是否有效。\n",
    "有效字符串需满足：\n",
    "左括号必须用相同类型的右括号闭合。\n",
    "左括号必须以正确的顺序闭合。\n",
    "示例 1：\n",
    "输入：s = \"()\"\n",
    "输出：true\n",
    "示例 2：\n",
    "输入：s = \"()[]{}\"\n",
    "输出：true\n",
    "示例 3：\n",
    "输入：s = \"(]\"\n",
    "输出：false\n",
    "示例 4：\n",
    "输入：s = \"([)]\"\n",
    "输出：false\n",
    "示例 5：\n",
    "输入：s = \"{[]}\"\n",
    "输出：true\n",
    "示例 6：\n",
    "输入：s = \"((\"\n",
    "输出：false\n",
    "示例 7：\n",
    "输入：s = \"]\"\n",
    "输出：false"
   ]
  },
  {
   "cell_type": "code",
   "execution_count": 1,
   "metadata": {},
   "outputs": [
    {
     "data": {
      "text/plain": [
       "(True, False)"
      ]
     },
     "execution_count": 1,
     "metadata": {},
     "output_type": "execute_result"
    }
   ],
   "source": [
    "def f(s: str):\n",
    "    ha = {'(': ')', '[': ']', '{': '}'}\n",
    "    stack = []\n",
    "    for i in s:\n",
    "        if i in ha:\n",
    "            stack.append(i)\n",
    "        else:\n",
    "            if stack and ha[stack[-1]] == i:\n",
    "                stack.pop()\n",
    "            else:\n",
    "                return False\n",
    "    return not stack\n",
    "\n",
    "\n",
    "f('()'), f(')(')\n"
   ]
  },
  {
   "cell_type": "code",
   "execution_count": null,
   "metadata": {},
   "outputs": [],
   "source": []
  }
 ],
 "metadata": {
  "interpreter": {
   "hash": "004de6046f1b3d314f33fdb43a2dc798b2646e5600efd8df5066c8b63a00ff6d"
  },
  "kernelspec": {
   "display_name": "Python 3.8.10 64-bit",
   "language": "python",
   "name": "python3"
  },
  "language_info": {
   "codemirror_mode": {
    "name": "ipython",
    "version": 3
   },
   "file_extension": ".py",
   "mimetype": "text/x-python",
   "name": "python",
   "nbconvert_exporter": "python",
   "pygments_lexer": "ipython3",
   "version": "3.8.10"
  },
  "orig_nbformat": 4
 },
 "nbformat": 4,
 "nbformat_minor": 2
}
