{
 "cells": [
  {
   "cell_type": "markdown",
   "metadata": {},
   "source": [
    "今日题（1108）：报数\n",
    "描述：有n个人围成一圈，顺序排号。从第一个人开始报数（从1到3报数），凡报到3的人退出圈子，问最后留下的是原来的第几号。\n",
    "\n",
    "举例：\n",
    "123456789-(369)-124578-(48)-1257-(52)-17-(7)-1\n",
    "请输入总人数：9\n",
    "输出：1\n",
    "\n",
    "请输入总人数：15\n",
    "输出：5"
   ]
  },
  {
   "cell_type": "code",
   "execution_count": null,
   "metadata": {},
   "outputs": [],
   "source": [
    "# 拼接思想  每次去掉第三个人 然后前两个人排最后去 以此往复\n",
    "# dp[i] = 第i次去掉的号次\n",
    "# dp[i] = dp[i-1]+3"
   ]
  },
  {
   "cell_type": "code",
   "execution_count": 1,
   "metadata": {},
   "outputs": [],
   "source": [
    "lst = list(range(1,9+1))\n",
    "pre = lst[:2]\n",
    "suf = lst[3:]\n",
    "newlst = suf+pre"
   ]
  },
  {
   "cell_type": "code",
   "execution_count": 6,
   "metadata": {},
   "outputs": [
    {
     "data": {
      "text/plain": [
       "(1, 5, 1)"
      ]
     },
     "execution_count": 6,
     "metadata": {},
     "output_type": "execute_result"
    }
   ],
   "source": [
    "def f(n):\n",
    "    lst = list(range(1, n + 1))\n",
    "    while len(lst) >= 3:\n",
    "        pre, lst = lst[:2], lst[3:]\n",
    "        lst.extend(pre)\n",
    "    return lst[1]\n",
    "\n",
    "\n",
    "f(9), f(15), f(4)\n"
   ]
  },
  {
   "cell_type": "code",
   "execution_count": 12,
   "metadata": {},
   "outputs": [
    {
     "data": {
      "text/plain": [
       "(1, 5, 1)"
      ]
     },
     "execution_count": 12,
     "metadata": {},
     "output_type": "execute_result"
    }
   ],
   "source": [
    "# https://blog.csdn.net/littlethunder/article/details/39182631?ops_request_misc=&request_id=&biz_id=102&utm_term=%E7%BA%A6%E7%91%9F%E5%A4%AB%E7%8E%AF%E9%97%AE%E9%A2%98python&utm_medium=distribute.pc_search_result.none-task-blog-2~blog~sobaiduweb~default-2-39182631.pc_v2_rank_blog_default&spm=1018.2226.3001.4450\n",
    "# 约瑟夫环问题\n",
    "def f(n):\n",
    "    out = 0\n",
    "    lst = list(range(1, n + 1))\n",
    "    while len(lst) > 1:\n",
    "        out = (out + (3 - 1)) % len(lst)\n",
    "        del lst[out]\n",
    "    return lst[0]\n",
    "\n",
    "\n",
    "f(9), f(15), f(4)\n"
   ]
  },
  {
   "cell_type": "code",
   "execution_count": 13,
   "metadata": {},
   "outputs": [
    {
     "data": {
      "text/plain": [
       "2"
      ]
     },
     "execution_count": 13,
     "metadata": {},
     "output_type": "execute_result"
    }
   ],
   "source": [
    "# https://blog.csdn.net/weixin_38493610/article/details/105977701?ops_request_misc=&request_id=&biz_id=102&utm_term=%E7%BA%A6%E7%91%9F%E5%A4%AB%E7%8E%AF%E9%97%AE%E9%A2%98python&utm_medium=distribute.pc_search_result.none-task-blog-2~blog~sobaiduweb~default-5-105977701.pc_v2_rank_blog_default&spm=1018.2226.3001.4450\n",
    "# nums为序列元素个数，values为给定数字，m为轮数\n",
    "def f(nums, values):\n",
    "    m=1\n",
    "    while 1:\n",
    "        if m == 1:\n",
    "            return (nums+values-1)%nums\n",
    "        else:\n",
    "            return (f(nums-1, values, m-1)+values)%nums\n",
    "\n",
    "f(9,3)"
   ]
  },
  {
   "cell_type": "code",
   "execution_count": 32,
   "metadata": {},
   "outputs": [
    {
     "data": {
      "text/plain": [
       "(1, 5, 1)"
      ]
     },
     "execution_count": 32,
     "metadata": {},
     "output_type": "execute_result"
    }
   ],
   "source": [
    "# https://blog.csdn.net/byakki/article/details/86607902?ops_request_misc=&request_id=&biz_id=102&utm_term=%E7%BA%A6%E7%91%9F%E5%A4%AB%E7%8E%AF%E9%97%AE%E9%A2%98python&utm_medium=distribute.pc_search_result.none-task-blog-2~blog~sobaiduweb~default-9-86607902.pc_v2_rank_blog_default&spm=1018.2226.3001.4450\n",
    "def f(n):\n",
    "    lst = list(range(1, n + 1))\n",
    "    for _ in range(n - 1):\n",
    "        for _ in range(3 - 1):\n",
    "            lst.append(lst.pop(0))\n",
    "        del lst[0]\n",
    "    return lst[0]\n",
    "\n",
    "\n",
    "f(9), f(15), f(4)\n"
   ]
  }
 ],
 "metadata": {
  "interpreter": {
   "hash": "004de6046f1b3d314f33fdb43a2dc798b2646e5600efd8df5066c8b63a00ff6d"
  },
  "kernelspec": {
   "display_name": "Python 3.8.10 64-bit",
   "language": "python",
   "name": "python3"
  },
  "language_info": {
   "codemirror_mode": {
    "name": "ipython",
    "version": 3
   },
   "file_extension": ".py",
   "mimetype": "text/x-python",
   "name": "python",
   "nbconvert_exporter": "python",
   "pygments_lexer": "ipython3",
   "version": "3.8.10"
  },
  "orig_nbformat": 4
 },
 "nbformat": 4,
 "nbformat_minor": 2
}
