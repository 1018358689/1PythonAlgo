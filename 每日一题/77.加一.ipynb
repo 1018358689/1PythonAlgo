{
 "cells": [
  {
   "cell_type": "markdown",
   "metadata": {},
   "source": [
    "20211217加一\n",
    "给定一个由 整数 组成的 非空 数组所表示的非负整数，在该数的基础上加一。\n",
    "最高位数字存放在数组的首位， 数组中每个元素只存储单个数字。\n",
    "你可以假设除了整数 0 之外，这个整数不会以零开头。\n",
    "示例 1：\n",
    "输入：digits = [1,2,3]\n",
    "输出：[1,2,4]\n",
    "示例 2：\n",
    "输入：digits = [4,3,9,9]\n",
    "输出：[4,4,0,0]\n",
    "示例 3：\n",
    "输入：digits = [9,9]\n",
    "输出：[1,0,0]"
   ]
  },
  {
   "cell_type": "code",
   "execution_count": 5,
   "metadata": {},
   "outputs": [
    {
     "data": {
      "text/plain": [
       "['1', '2', '3']"
      ]
     },
     "execution_count": 5,
     "metadata": {},
     "output_type": "execute_result"
    }
   ],
   "source": [
    "list(str(123))"
   ]
  },
  {
   "cell_type": "code",
   "execution_count": 11,
   "metadata": {},
   "outputs": [
    {
     "data": {
      "text/plain": [
       "[1, 0, 0]"
      ]
     },
     "execution_count": 11,
     "metadata": {},
     "output_type": "execute_result"
    }
   ],
   "source": [
    "def f(digits: list) -> list:\n",
    "    num = int(''.join(map(str, digits))) + 1\n",
    "    return list(map(int, list(str(num))))  # [int(i) for i in list(str(num))]\n",
    "\n",
    "\n",
    "f([9, 9])\n"
   ]
  },
  {
   "cell_type": "code",
   "execution_count": null,
   "metadata": {},
   "outputs": [],
   "source": []
  }
 ],
 "metadata": {
  "interpreter": {
   "hash": "aee8b7b246df8f9039afb4144a1f6fd8d2ca17a180786b69acc140d282b71a49"
  },
  "kernelspec": {
   "display_name": "Python 3.8.10 64-bit",
   "language": "python",
   "name": "python3"
  },
  "language_info": {
   "codemirror_mode": {
    "name": "ipython",
    "version": 3
   },
   "file_extension": ".py",
   "mimetype": "text/x-python",
   "name": "python",
   "nbconvert_exporter": "python",
   "pygments_lexer": "ipython3",
   "version": "3.8.10"
  },
  "orig_nbformat": 4
 },
 "nbformat": 4,
 "nbformat_minor": 2
}
