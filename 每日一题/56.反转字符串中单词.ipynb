{
 "cells": [
  {
   "cell_type": "markdown",
   "metadata": {},
   "source": [
    "给定一个字符串，你需要反转字符串中每个单词的字符顺序，同时仍保留空格和单词的初始顺序。\n",
    "\n",
    " \n",
    "\n",
    "示例：\n",
    "\n",
    "输入：'jin tian ni bian cheng le ma'\n",
    "输出：'nij nait in naib gnehc el am'\n"
   ]
  },
  {
   "cell_type": "code",
   "execution_count": 2,
   "metadata": {},
   "outputs": [
    {
     "data": {
      "text/plain": [
       "'nij nait in naib gnehc el am'"
      ]
     },
     "execution_count": 2,
     "metadata": {},
     "output_type": "execute_result"
    }
   ],
   "source": [
    "# 先转列表并每个单词反转，再转字符串\n",
    "def f(s):\n",
    "    return ' '.join(i[::-1] for i in s.split())\n",
    "\n",
    "\n",
    "f('jin tian ni bian cheng le ma')"
   ]
  },
  {
   "cell_type": "code",
   "execution_count": 5,
   "metadata": {},
   "outputs": [
    {
     "data": {
      "text/plain": [
       "'nij nait in naib gnehc el am'"
      ]
     },
     "execution_count": 5,
     "metadata": {},
     "output_type": "execute_result"
    }
   ],
   "source": [
    "# 先转列表，再整个列表顺序反转(内部字符串未反转)，然后转字符串，最后字符串反转\n",
    "def f(s):\n",
    "    return ' '.join(s.split(' ')[::-1])[::-1]\n",
    "\n",
    "\n",
    "f('jin tian ni bian cheng le ma')"
   ]
  },
  {
   "cell_type": "code",
   "execution_count": 6,
   "metadata": {},
   "outputs": [
    {
     "data": {
      "text/plain": [
       "'nij nait in naib gnehc el am'"
      ]
     },
     "execution_count": 6,
     "metadata": {},
     "output_type": "execute_result"
    }
   ],
   "source": [
    "# 先字符串反转，再转列表，再转列表顺序，最后转回字符串\n",
    "def f(s):\n",
    "    return ' '.join(s[::-1].split(' ')[::-1])\n",
    "\n",
    "\n",
    "f('jin tian ni bian cheng le ma')"
   ]
  },
  {
   "cell_type": "code",
   "execution_count": 11,
   "metadata": {},
   "outputs": [
    {
     "name": "stdout",
     "output_type": "stream",
     "text": [
      "30\n"
     ]
    },
    {
     "data": {
      "text/plain": [
       "' nij nait in naib gnehc el am '"
      ]
     },
     "execution_count": 11,
     "metadata": {},
     "output_type": "execute_result"
    }
   ],
   "source": [
    "def f(s):\n",
    "    s = list(s)\n",
    "    length = len(s)\n",
    "    print(length)\n",
    "    L = R = 0\n",
    "    while R < length:\n",
    "        while R < length and s[R] != ' ':  # 找单词右边界来确定单词左右\n",
    "            R += 1\n",
    "        s[L:R] = s[-length + R - 1:-length + L - 1:-1]  # 反转单词\n",
    "        L = R = R + 1\n",
    "    return ''.join(s)\n",
    "\n",
    "\n",
    "f('jin tian ni bian cheng le ma')"
   ]
  },
  {
   "cell_type": "code",
   "execution_count": 1,
   "metadata": {},
   "outputs": [
    {
     "name": "stdout",
     "output_type": "stream",
     "text": [
      "28\n"
     ]
    },
    {
     "data": {
      "text/plain": [
       "'nij nait in naib gnehc el am'"
      ]
     },
     "execution_count": 1,
     "metadata": {},
     "output_type": "execute_result"
    }
   ],
   "source": [
    "def f(s):\n",
    "    s = list(s)\n",
    "    length = len(s)\n",
    "    L = R = 0\n",
    "    while R < length:\n",
    "        while R < length and s[R] != ' ':  # 找单词右边界来确定单词左右\n",
    "            R += 1\n",
    "        L2, R2 = L, R - 1\n",
    "        while L2 <= R2:  # 反转单词\n",
    "            s[L2], s[R2] = s[R2], s[L2]\n",
    "            L2 += 1\n",
    "            R2 -= 1\n",
    "        L = R = R + 1\n",
    "\n",
    "    return ''.join(s)\n",
    "\n",
    "\n",
    "f('jin tian ni bian cheng le ma')"
   ]
  },
  {
   "cell_type": "code",
   "execution_count": 2,
   "metadata": {},
   "outputs": [],
   "source": [
    "s = 'jin tian ni bian cheng le ma'\n",
    "s=list(s)\n",
    "s[0:3] = s[-len(s)+3-1:-len(s)-1:-1]\n"
   ]
  },
  {
   "cell_type": "code",
   "execution_count": 12,
   "metadata": {},
   "outputs": [
    {
     "data": {
      "text/plain": [
       "['456', 3, 2, 1]"
      ]
     },
     "execution_count": 12,
     "metadata": {},
     "output_type": "execute_result"
    }
   ],
   "source": [
    "a = [1,2,3,'456']\n",
    "a[::-1]"
   ]
  },
  {
   "cell_type": "code",
   "execution_count": 3,
   "metadata": {},
   "outputs": [
    {
     "ename": "TypeError",
     "evalue": "'str' object does not support item assignment",
     "output_type": "error",
     "traceback": [
      "\u001b[1;31m---------------------------------------------------------------------------\u001b[0m",
      "\u001b[1;31mTypeError\u001b[0m                                 Traceback (most recent call last)",
      "\u001b[1;32m~\\AppData\\Local\\Temp/ipykernel_4940/3469957431.py\u001b[0m in \u001b[0;36m<module>\u001b[1;34m\u001b[0m\n\u001b[0;32m      1\u001b[0m \u001b[0ms\u001b[0m \u001b[1;33m=\u001b[0m \u001b[1;34m'jin tian ni bian cheng le ma'\u001b[0m\u001b[1;33m\u001b[0m\u001b[1;33m\u001b[0m\u001b[0m\n\u001b[0;32m      2\u001b[0m \u001b[1;33m\u001b[0m\u001b[0m\n\u001b[1;32m----> 3\u001b[1;33m \u001b[0ms\u001b[0m\u001b[1;33m[\u001b[0m\u001b[1;36m0\u001b[0m\u001b[1;33m]\u001b[0m \u001b[1;33m=\u001b[0m \u001b[0ms\u001b[0m\u001b[1;33m[\u001b[0m\u001b[1;36m2\u001b[0m\u001b[1;33m]\u001b[0m\u001b[1;33m\u001b[0m\u001b[1;33m\u001b[0m\u001b[0m\n\u001b[0m",
      "\u001b[1;31mTypeError\u001b[0m: 'str' object does not support item assignment"
     ]
    }
   ],
   "source": [
    "s = 'jin tian ni bian cheng le ma'\n",
    "\n",
    "s[0] = s[2]"
   ]
  },
  {
   "cell_type": "code",
   "execution_count": null,
   "metadata": {},
   "outputs": [],
   "source": []
  }
 ],
 "metadata": {
  "interpreter": {
   "hash": "004de6046f1b3d314f33fdb43a2dc798b2646e5600efd8df5066c8b63a00ff6d"
  },
  "kernelspec": {
   "display_name": "Python 3.8.10 64-bit",
   "language": "python",
   "name": "python3"
  },
  "language_info": {
   "codemirror_mode": {
    "name": "ipython",
    "version": 3
   },
   "file_extension": ".py",
   "mimetype": "text/x-python",
   "name": "python",
   "nbconvert_exporter": "python",
   "pygments_lexer": "ipython3",
   "version": "3.8.10"
  },
  "orig_nbformat": 4
 },
 "nbformat": 4,
 "nbformat_minor": 2
}
