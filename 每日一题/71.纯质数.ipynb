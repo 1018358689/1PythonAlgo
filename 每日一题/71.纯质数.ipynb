{
 "cells": [
  {
   "cell_type": "markdown",
   "metadata": {},
   "source": [
    "今日题（1211）：纯质数\n",
    "描述：如果一个正整数只有 1和它本身两个约数，则称为质数。前几个质数是：2，3，5，7，11，13，17，19，23，29，31，37，· · · 。\n",
    "如果一个质数的所有十进制数位都是质数，我们称它为纯质数。\n",
    "例如：2，3，5，7，23，37 都是纯质数，而11，13，17，19，29，31不是纯质数。\n",
    "请问，在 1 到 202112中，有多少个纯质数？"
   ]
  },
  {
   "cell_type": "code",
   "execution_count": 6,
   "metadata": {},
   "outputs": [
    {
     "data": {
      "text/plain": [
       "189"
      ]
     },
     "execution_count": 6,
     "metadata": {},
     "output_type": "execute_result"
    }
   ],
   "source": [
    "def f(x: int) -> bool:\n",
    "    d = {2, 3, 5, 7}\n",
    "    if x < 2:\n",
    "        return False\n",
    "    else:\n",
    "        for i in range(2, int(x**.5) + 1):\n",
    "            if not x % i:\n",
    "                return False\n",
    "        for n in str(x):\n",
    "            if int(n) not in d:\n",
    "                return False\n",
    "        return True\n",
    "\n",
    "# default\n",
    "cnt = 0\n",
    "for i in range(1, 202113):\n",
    "    if f(i):\n",
    "        cnt += 1\n",
    "cnt\n"
   ]
  },
  {
   "cell_type": "code",
   "execution_count": 7,
   "metadata": {},
   "outputs": [
    {
     "data": {
      "text/plain": [
       "189"
      ]
     },
     "execution_count": 7,
     "metadata": {},
     "output_type": "execute_result"
    }
   ],
   "source": [
    "def f(x: int) -> bool:\n",
    "    d = {2, 3, 5, 7}\n",
    "    for i in range(2, int(x**.5) + 1):\n",
    "        if not x % i:\n",
    "            return False\n",
    "    for n in str(x):\n",
    "        if int(n) not in d:\n",
    "            return False\n",
    "    return True\n",
    "\n",
    "\n",
    "cnt = 0\n",
    "for i in range(1, 202113):\n",
    "    if f(i):\n",
    "        cnt += 1\n",
    "cnt"
   ]
  },
  {
   "cell_type": "code",
   "execution_count": null,
   "metadata": {},
   "outputs": [],
   "source": [
    "x = 123\n",
    "yy = 4\n"
   ]
  }
 ],
 "metadata": {
  "interpreter": {
   "hash": "aee8b7b246df8f9039afb4144a1f6fd8d2ca17a180786b69acc140d282b71a49"
  },
  "kernelspec": {
   "display_name": "Python 3.8.10 64-bit",
   "language": "python",
   "name": "python3"
  },
  "language_info": {
   "codemirror_mode": {
    "name": "ipython",
    "version": 3
   },
   "file_extension": ".py",
   "mimetype": "text/x-python",
   "name": "python",
   "nbconvert_exporter": "python",
   "pygments_lexer": "ipython3",
   "version": "3.8.10"
  },
  "orig_nbformat": 4
 },
 "nbformat": 4,
 "nbformat_minor": 2
}
