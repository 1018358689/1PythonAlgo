{
 "cells": [
  {
   "cell_type": "markdown",
   "source": [
    "## 求一元二次多项式ax2+bx+c的因式分解形式。其中输入项为a,b,c。"
   ],
   "metadata": {}
  },
  {
   "cell_type": "code",
   "execution_count": 6,
   "source": [
    "f = lambda num: f'+{num}' if num > 0 else f'{num}'\r\n",
    "def factor2(a, b, c):\r\n",
    "    d = b**2 - 4 * a * c\r\n",
    "    if d >= 0 and not float(str(d**.5).split('.')[1]):\r\n",
    "        x1 = f(int((b - d**.5) / (2 * a)))\r\n",
    "        x2 = f(int((b + d**.5) / (2 * a)))\r\n",
    "        return a != 1 and f'{a}(x{x1})(x{x2})' or f'(x{x1})(x{x2})'\r\n",
    "    return '无法分解'\r\n",
    "\r\n",
    "print(factor2(2, -6, 4))\r\n",
    "print(factor2(1, -5, 6))\r\n",
    "print(factor2(1, 3, -4))\r\n",
    "print(factor2(2, 1, 2))"
   ],
   "outputs": [
    {
     "output_type": "stream",
     "name": "stdout",
     "text": [
      "2(x-2)(x-1)\n",
      "(x-3)(x-2)\n",
      "(x-1)(x+4)\n",
      "无法分解\n"
     ]
    }
   ],
   "metadata": {}
  },
  {
   "cell_type": "code",
   "execution_count": 23,
   "source": [
    "from sympy import symbols, factor\r\n",
    "\r\n",
    "def trans(a, b, c):\r\n",
    "    x = symbols('x')\r\n",
    "    return factor(a * x**2 + b * x + c)\r\n",
    "\r\n",
    "trans(2, -6, 4)"
   ],
   "outputs": [
    {
     "output_type": "execute_result",
     "data": {
      "text/latex": [
       "$\\displaystyle 2 \\left(x - 2\\right) \\left(x - 1\\right)$"
      ],
      "text/plain": [
       "2*(x - 2)*(x - 1)"
      ]
     },
     "metadata": {},
     "execution_count": 23
    }
   ],
   "metadata": {}
  },
  {
   "cell_type": "code",
   "execution_count": 40,
   "source": [
    "a=82**0.5\r\n",
    "s=str(a).split('.')\r\n",
    "if float(s[1])==0:\r\n",
    "    print('整数')\r\n",
    "else :print('小数')"
   ],
   "outputs": [
    {
     "output_type": "stream",
     "name": "stdout",
     "text": [
      "9.055385138137417\n",
      "55385138137417.0\n",
      "小数\n"
     ]
    }
   ],
   "metadata": {}
  },
  {
   "cell_type": "code",
   "execution_count": 5,
   "source": [
    "def x(x):\r\n",
    "    if x > 0:\r\n",
    "        return f'+{x}'\r\n",
    "    else:\r\n",
    "        return f'{x}'\r\n",
    "\r\n",
    "\r\n",
    "f = lambda num: f'+{num}' if num > 0 else f'{num}'\r\n",
    "f(2)"
   ],
   "outputs": [
    {
     "output_type": "execute_result",
     "data": {
      "text/plain": [
       "'+2'"
      ]
     },
     "metadata": {},
     "execution_count": 5
    }
   ],
   "metadata": {}
  },
  {
   "cell_type": "code",
   "execution_count": null,
   "source": [],
   "outputs": [],
   "metadata": {}
  }
 ],
 "metadata": {
  "orig_nbformat": 4,
  "language_info": {
   "name": "python",
   "version": "3.8.11",
   "mimetype": "text/x-python",
   "codemirror_mode": {
    "name": "ipython",
    "version": 3
   },
   "pygments_lexer": "ipython3",
   "nbconvert_exporter": "python",
   "file_extension": ".py"
  },
  "kernelspec": {
   "name": "python3",
   "display_name": "Python 3.8.11 64-bit ('pytorch': conda)"
  },
  "interpreter": {
   "hash": "af407973ba12897262deda9d8992946cc1a9873fff2de40f1acc89cdf9010052"
  }
 },
 "nbformat": 4,
 "nbformat_minor": 2
}