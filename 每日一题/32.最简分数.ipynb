{
 "cells": [
  {
   "cell_type": "markdown",
   "metadata": {},
   "source": [
    "考虑在0和1之间的所有分母不大于N的最简单分数，编写一个程序，对于一个给定的整数N（1<=N<=100),按从小到大的顺序打印出这些分数，同时打印出它们的总个数。\n",
    "例：N=5\n",
    "0/1  1/5   1/4  1/3   2/5   1/2     3/5    2/3    3/4    4/5   1/1  \n",
    "total = 11"
   ]
  },
  {
   "cell_type": "code",
   "execution_count": 14,
   "metadata": {},
   "outputs": [
    {
     "data": {
      "text/plain": [
       "(['0', '1/5', '1/4', '1/3', '2/5', '1/2', '3/5', '2/3', '3/4', '4/5', '1'], 11)"
      ]
     },
     "execution_count": 14,
     "metadata": {},
     "output_type": "execute_result"
    }
   ],
   "source": [
    "import math\n",
    "def f(N):\n",
    "    res = []\n",
    "    for i in range(2,N+1):\n",
    "        for j in range(1,i):\n",
    "            if math.gcd(i,j) == 1:\n",
    "                res.append(f'{j}/{i}')\n",
    "    res.extend(['0','1'])\n",
    "    return sorted(res,key=eval),len(res)\n",
    "f(5)"
   ]
  },
  {
   "cell_type": "code",
   "execution_count": 1,
   "metadata": {},
   "outputs": [
    {
     "data": {
      "text/plain": [
       "(['0',\n",
       "  '1/7',\n",
       "  '1/6',\n",
       "  '1/5',\n",
       "  '1/4',\n",
       "  '2/7',\n",
       "  '1/3',\n",
       "  '2/5',\n",
       "  '3/7',\n",
       "  '1/2',\n",
       "  '4/7',\n",
       "  '3/5',\n",
       "  '2/3',\n",
       "  '5/7',\n",
       "  '3/4',\n",
       "  '4/5',\n",
       "  '5/6',\n",
       "  '6/7',\n",
       "  '1'],\n",
       " 19)"
      ]
     },
     "execution_count": 1,
     "metadata": {},
     "output_type": "execute_result"
    }
   ],
   "source": [
    "import math\n",
    "\n",
    "def f(N):\n",
    "    res = [f'{j}/{i}' for i in range(2, N + 1) for j in range(1, i) if math.gcd(i, j) == 1]\n",
    "    res.extend(['0', '1'])\n",
    "    return sorted(res, key=eval), len(res)\n",
    "\n",
    "f(7)"
   ]
  },
  {
   "cell_type": "code",
   "execution_count": 13,
   "metadata": {},
   "outputs": [
    {
     "name": "stdout",
     "output_type": "stream",
     "text": [
      "['0', '1/7', '1/6', '1/5', '1/4', '2/7', '1/3', '2/5', '3/7', '1/2', '4/7', '3/5', '2/3', '5/7', '3/4', '4/5', '5/6', '6/7', '1']\n"
     ]
    }
   ],
   "source": [
    "import math\n",
    "\n",
    "re = ['0', '1']  #结果存放于此\n",
    "\n",
    "N = 7\n",
    "\n",
    "for i in range(2, N + 1):  #分母\n",
    "    for j in range(1, i + 1):  #分子：范围从1到当前分母值\n",
    "        if math.gcd(i, j) == 1:  #仅最简真分数需要排序：分子为1或分母不能整除分子 j==1 or i%j!=0 错\n",
    "            count = 0\n",
    "            for k in re:\n",
    "                if eval(k) > (j / i):  #结果列表：当前元素若大于当前分数，则将它放在当前元素前\n",
    "                    re.insert(count, str(j) + '/' + str(i))\n",
    "                    break\n",
    "                count += 1\n",
    "\n",
    "print(re)"
   ]
  },
  {
   "cell_type": "code",
   "execution_count": null,
   "metadata": {},
   "outputs": [],
   "source": []
  }
 ],
 "metadata": {
  "interpreter": {
   "hash": "004de6046f1b3d314f33fdb43a2dc798b2646e5600efd8df5066c8b63a00ff6d"
  },
  "kernelspec": {
   "display_name": "Python 3.8.10 64-bit",
   "name": "python3"
  },
  "language_info": {
   "codemirror_mode": {
    "name": "ipython",
    "version": 3
   },
   "file_extension": ".py",
   "mimetype": "text/x-python",
   "name": "python",
   "nbconvert_exporter": "python",
   "pygments_lexer": "ipython3",
   "version": "3.8.10"
  },
  "orig_nbformat": 4
 },
 "nbformat": 4,
 "nbformat_minor": 2
}
