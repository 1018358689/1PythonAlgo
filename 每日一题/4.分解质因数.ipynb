{
 "cells": [
  {
   "cell_type": "markdown",
   "metadata": {},
   "source": [
    "## 将任意给定的正整数分解质因数。"
   ]
  },
  {
   "cell_type": "markdown",
   "metadata": {},
   "source": [
    "* 分解质因数 数num 找到2到num的最小质因数a（num%a==0） 下一个数num/a 找到2到num/a的最小质因数b (num/a%b==0）...以此往复 直到余数为1\n",
    "* num='abc'    f'{num}tg' 为 abctg"
   ]
  },
  {
   "cell_type": "code",
   "execution_count": 1,
   "metadata": {},
   "outputs": [
    {
     "data": {
      "text/plain": [
       "'12=2x2x3'"
      ]
     },
     "execution_count": 1,
     "metadata": {},
     "output_type": "execute_result"
    }
   ],
   "source": [
    "# 最佳\n",
    "l = []  \n",
    "\n",
    "def primeFactors(num):\n",
    "    for i in range(2, num+1):\n",
    "        if num % i == 0:\n",
    "            l.append(str(i))\n",
    "            primeFactors(int(num / i))\n",
    "            break   # 当primeFactors实参为1 break跳出循环 return\n",
    "    return f'{num}=' + 'x'.join(l)  # l\n",
    "\n",
    "\n",
    "primeFactors(12)\n"
   ]
  },
  {
   "cell_type": "code",
   "execution_count": 114,
   "metadata": {},
   "outputs": [
    {
     "data": {
      "text/plain": [
       "[2]"
      ]
     },
     "execution_count": 114,
     "metadata": {},
     "output_type": "execute_result"
    }
   ],
   "source": [
    "l = []\n",
    "\n",
    "def primeFactors(num):\n",
    "    for i in range(2, num + 1):\n",
    "        if num % i == 0:           # 找到num最先质因数i\n",
    "            num = int(num / i)     # 更新num上一次分解结果\n",
    "            if num == 1:           # 分解是其本身和1表示是最后一次分解\n",
    "                l.append(i)\n",
    "            else:                  # 分解不是本身\n",
    "                l.append(i)\n",
    "                primeFactors(num)  # 递归\n",
    "            break                  # num==1 游戏结束\n",
    "    return l\n",
    "\n",
    "\n",
    "primeFactors(2)"
   ]
  },
  {
   "cell_type": "code",
   "execution_count": 17,
   "metadata": {},
   "outputs": [
    {
     "data": {
      "text/plain": [
       "True"
      ]
     },
     "execution_count": 17,
     "metadata": {},
     "output_type": "execute_result"
    }
   ],
   "source": [
    "# 判断质数\n",
    "def primeNumber(num):\n",
    "    if num<2:\n",
    "        return False\n",
    "    else:\n",
    "        for i in range(2,int(num**.5)+1):\n",
    "            if num % i ==0:\n",
    "                return False\n",
    "        return True\n",
    "\n",
    "primeNumber(2)"
   ]
  },
  {
   "cell_type": "code",
   "execution_count": 3,
   "metadata": {},
   "outputs": [
    {
     "data": {
      "text/plain": [
       "[1, 2, 4, 8]"
      ]
     },
     "execution_count": 3,
     "metadata": {},
     "output_type": "execute_result"
    }
   ],
   "source": [
    "l = []\n",
    "\n",
    "\n",
    "def primeFactors(num):\n",
    "    for i in range(1, num + 1):\n",
    "        if num % i == 0:        \n",
    "            l.append(i)            # 寻找因数\n",
    "    return l\n",
    "\n",
    "\n",
    "primeFactors(8)"
   ]
  },
  {
   "cell_type": "code",
   "execution_count": 83,
   "metadata": {},
   "outputs": [
    {
     "name": "stdout",
     "output_type": "stream",
     "text": [
      "2 * 2 * 2\n"
     ]
    }
   ],
   "source": [
    "def x(n):\n",
    "    while n > 1:\n",
    "        for i in range(2, n + 1):\n",
    "            if n % i == 0:\n",
    "                n = int(n / i)\n",
    "                if n == 1:\n",
    "                    print(i)\n",
    "                else:\n",
    "                    print(\"{} *\".format(i), end=' ')\n",
    "                break\n",
    "\n",
    "\n",
    "x(8)"
   ]
  },
  {
   "cell_type": "code",
   "execution_count": 1,
   "metadata": {},
   "outputs": [
    {
     "name": "stdout",
     "output_type": "stream",
     "text": [
      "4\n"
     ]
    }
   ],
   "source": [
    "\n",
    "for i in range(3,3):\n",
    "    print(i)\n",
    "print(4)"
   ]
  },
  {
   "cell_type": "code",
   "execution_count": null,
   "metadata": {},
   "outputs": [],
   "source": [
    "def fac(num): # 分解质因数\n",
    "    x = num\n",
    "    p = 2\n",
    "    while p ** 2 <= x:\n",
    "        if x % p == 0:\n",
    "            while x % p == 0:\n",
    "                x //= p\n",
    "            yield p\n",
    "        p += 1\n",
    "    if x > 1: yield x"
   ]
  }
 ],
 "metadata": {
  "kernelspec": {
   "display_name": "Python 3",
   "language": "python",
   "name": "python3"
  },
  "language_info": {
   "codemirror_mode": {
    "name": "ipython",
    "version": 3
   },
   "file_extension": ".py",
   "mimetype": "text/x-python",
   "name": "python",
   "nbconvert_exporter": "python",
   "pygments_lexer": "ipython3",
   "version": "3.11.1 (tags/v3.11.1:a7a450f, Dec  6 2022, 19:58:39) [MSC v.1934 64 bit (AMD64)]"
  },
  "orig_nbformat": 4,
  "vscode": {
   "interpreter": {
    "hash": "ff4b1fca65a764b45acb559e482afe389d289dd599b9f8c5fd12ff5c2ea46a65"
   }
  }
 },
 "nbformat": 4,
 "nbformat_minor": 2
}
