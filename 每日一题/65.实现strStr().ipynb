{
 "cells": [
  {
   "cell_type": "markdown",
   "metadata": {},
   "source": [
    "实现 strStr() 函数。\n",
    "\n",
    "给你两个字符串 haystack 和 needle ，请你在 haystack 字符串中找出 needle 字符串出现的第一个位置（下标从 0 开始）。如果不存在，则返回  -1 。\n",
    " \n",
    "\n",
    "示例 1：\n",
    "输入：haystack = \"hello\", needle = \"ll\"\n",
    "输出：2\n",
    "\n",
    "示例 2：\n",
    "输入：haystack = \"aaaaa\", needle = \"bba\"\n",
    "输出：-1\n",
    "\n",
    "示例 3：\n",
    "输入：haystack = \"\", needle = \"\"\n",
    "输出：0"
   ]
  },
  {
   "cell_type": "code",
   "execution_count": 20,
   "metadata": {},
   "outputs": [
    {
     "data": {
      "text/plain": [
       "(2, -1, 0)"
      ]
     },
     "execution_count": 20,
     "metadata": {},
     "output_type": "execute_result"
    }
   ],
   "source": [
    "import re\n",
    "\n",
    "\n",
    "def strStr(haystack, needle):\n",
    "    search = re.search(f'{needle}', haystack)\n",
    "    return search.span()[0] if search else -1\n",
    "\n",
    "\n",
    "strStr('hello', 'll'), strStr('aaaaa', 'bba'), strStr('', '')\n"
   ]
  },
  {
   "cell_type": "code",
   "execution_count": 24,
   "metadata": {},
   "outputs": [
    {
     "data": {
      "text/plain": [
       "(2, -1, 0)"
      ]
     },
     "execution_count": 24,
     "metadata": {},
     "output_type": "execute_result"
    }
   ],
   "source": [
    "def strStr(haystack, needle):\n",
    "    return haystack.find(needle)\n",
    "\n",
    "\n",
    "strStr('hello', 'll'), strStr('aaaaa', 'bba'), strStr('', '')\n"
   ]
  },
  {
   "cell_type": "code",
   "execution_count": 32,
   "metadata": {},
   "outputs": [
    {
     "data": {
      "text/plain": [
       "(2, -1, 0)"
      ]
     },
     "execution_count": 32,
     "metadata": {},
     "output_type": "execute_result"
    }
   ],
   "source": [
    "def strStr(haystack, needle):\n",
    "    for i in range(len(haystack) - len(needle) + 1):\n",
    "        if haystack[i:i + len(needle)] == needle[:]:\n",
    "            return i\n",
    "    return -1\n",
    "\n",
    "\n",
    "strStr('hello', 'll'), strStr('aaaaa', 'bba'), strStr('', '')\n"
   ]
  },
  {
   "cell_type": "code",
   "execution_count": 33,
   "metadata": {},
   "outputs": [
    {
     "data": {
      "text/plain": [
       "(2, -1, 0)"
      ]
     },
     "execution_count": 33,
     "metadata": {},
     "output_type": "execute_result"
    }
   ],
   "source": [
    "def strStr(haystack, needle):\n",
    "    if not needle: return 0\n",
    "    L, R = 0, len(needle)\n",
    "    while R <= len(haystack) :\n",
    "        if haystack[L:R] == needle[:]:\n",
    "            return L\n",
    "        L += 1\n",
    "        R += 1\n",
    "    return -1\n",
    "\n",
    "\n",
    "strStr('hello', 'll'), strStr('aaaaa', 'bba'), strStr('', '')\n"
   ]
  },
  {
   "cell_type": "code",
   "execution_count": null,
   "metadata": {},
   "outputs": [],
   "source": []
  }
 ],
 "metadata": {
  "interpreter": {
   "hash": "aee8b7b246df8f9039afb4144a1f6fd8d2ca17a180786b69acc140d282b71a49"
  },
  "kernelspec": {
   "display_name": "Python 3.8.10 64-bit",
   "language": "python",
   "name": "python3"
  },
  "language_info": {
   "codemirror_mode": {
    "name": "ipython",
    "version": 3
   },
   "file_extension": ".py",
   "mimetype": "text/x-python",
   "name": "python",
   "nbconvert_exporter": "python",
   "pygments_lexer": "ipython3",
   "version": "3.8.10"
  },
  "orig_nbformat": 4
 },
 "nbformat": 4,
 "nbformat_minor": 2
}
