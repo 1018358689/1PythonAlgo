{
 "cells": [
  {
   "cell_type": "markdown",
   "metadata": {},
   "source": [
    "今日题（1113）：汉明距离\n",
    "描述:给你两个整数 x 和 y，计算并返回它们之间的汉明距离。\n",
    "举例：\n",
    "输入：x=1 y=4\n",
    "输出：2\n",
    " \n",
    "输入：x=93 y=72\n",
    "输出：3\n",
    "\n",
    "知识链接:汉明距离是使用在数据传输差错控制编码里面的。汉明距离指的是这两个数字对应二进制位不同的位置的数目。\n",
    "例如数字1，二进制表达为（0 0 0 1），数字4，二进制表达为（0 1 0 0），那么二进制位不同的位置数目为2个，即数字1和4之间的汉明距离为2。"
   ]
  },
  {
   "cell_type": "code",
   "execution_count": 5,
   "metadata": {},
   "outputs": [
    {
     "data": {
      "text/plain": [
       "(2, 3)"
      ]
     },
     "execution_count": 5,
     "metadata": {},
     "output_type": "execute_result"
    }
   ],
   "source": [
    "def hammingDistance(x, y):\n",
    "    \"\"\"\n",
    "    :type x: int\n",
    "    :type y: int\n",
    "    :rtype: int\n",
    "    \"\"\"\n",
    "    return bin(x ^ y).count('1')\n",
    "\n",
    "hammingDistance(1, 4), hammingDistance(93, 72)\n"
   ]
  },
  {
   "cell_type": "code",
   "execution_count": 22,
   "metadata": {},
   "outputs": [
    {
     "data": {
      "text/plain": [
       "(10, 100, 110, '0b1010', '0b1100100', '0b1101110')"
      ]
     },
     "execution_count": 22,
     "metadata": {},
     "output_type": "execute_result"
    }
   ],
   "source": [
    "a = 10\n",
    "b = 100\n",
    "c = a^b # c = 110\n",
    "a,b,c,bin(a),bin(b),bin(c)"
   ]
  },
  {
   "cell_type": "code",
   "execution_count": 23,
   "metadata": {},
   "outputs": [
    {
     "data": {
      "text/plain": [
       "110"
      ]
     },
     "execution_count": 23,
     "metadata": {},
     "output_type": "execute_result"
    }
   ],
   "source": [
    "0b0001010\n",
    "0b1100100\n",
    "0b1101110"
   ]
  },
  {
   "cell_type": "markdown",
   "metadata": {},
   "source": [
    "给定一个非空整数数组，除了某个元素只出现一次以外，其余每个元素均出现两次。找出那个只出现了一次的元素。\n",
    "\n",
    "说明：\n",
    "你的算法应该具有线性时间复杂度。 你可以不使用额外空间来实现吗？\n",
    "\n",
    "示例 1:\n",
    "输入: [2,2,1]\n",
    "输出: 1\n",
    "\n",
    "示例 2:\n",
    "输入: [4,1,2,1,2]\n",
    "输出: 4"
   ]
  },
  {
   "cell_type": "code",
   "execution_count": 24,
   "metadata": {},
   "outputs": [
    {
     "name": "stdout",
     "output_type": "stream",
     "text": [
      "2\n",
      "2\n",
      "1\n"
     ]
    },
    {
     "data": {
      "text/plain": [
       "1"
      ]
     },
     "execution_count": 24,
     "metadata": {},
     "output_type": "execute_result"
    }
   ],
   "source": [
    "# ^异或 计算不重复的值\n",
    "def singleNumber2(nums):\n",
    "    r = 0\n",
    "    for i in nums:\n",
    "        print(i)\n",
    "        r ^= i\n",
    "    return r\n",
    "\n",
    "\n",
    "singleNumber2([2, 2, 1])  # singleNumber2([4,1,2,1,2])\n"
   ]
  },
  {
   "cell_type": "code",
   "execution_count": 25,
   "metadata": {},
   "outputs": [
    {
     "data": {
      "text/plain": [
       "0"
      ]
     },
     "execution_count": 25,
     "metadata": {},
     "output_type": "execute_result"
    }
   ],
   "source": [
    "1^2^1^2"
   ]
  },
  {
   "cell_type": "code",
   "execution_count": 26,
   "metadata": {},
   "outputs": [
    {
     "name": "stdout",
     "output_type": "stream",
     "text": [
      "2\n"
     ]
    }
   ],
   "source": [
    "print(2 & 2)\n"
   ]
  },
  {
   "cell_type": "code",
   "execution_count": 27,
   "metadata": {},
   "outputs": [
    {
     "data": {
      "text/plain": [
       "0"
      ]
     },
     "execution_count": 27,
     "metadata": {},
     "output_type": "execute_result"
    }
   ],
   "source": [
    "1^1"
   ]
  },
  {
   "cell_type": "code",
   "execution_count": 28,
   "metadata": {},
   "outputs": [
    {
     "data": {
      "text/plain": [
       "0"
      ]
     },
     "execution_count": 28,
     "metadata": {},
     "output_type": "execute_result"
    }
   ],
   "source": [
    "1^2^3^2^3^1"
   ]
  },
  {
   "cell_type": "code",
   "execution_count": null,
   "metadata": {},
   "outputs": [],
   "source": [
    "# 给定一个非空整数有序数组，除了某个元素只出现一次以外，其余每个元素均出现两次。找出那个只出现了一次的元素。\n",
    "# 二分查找实现"
   ]
  },
  {
   "cell_type": "code",
   "execution_count": 30,
   "metadata": {},
   "outputs": [
    {
     "name": "stdout",
     "output_type": "stream",
     "text": [
      "3\n"
     ]
    }
   ],
   "source": [
    "list1 = [3,1, 1, 2, 2, 4, 4, 5, 5, 6, 6]\n",
    "\n",
    "\n",
    "def fun(list1):\n",
    "    list1 = ['a', 'a'] + list1 + ['b', 'b']\n",
    "    list1.append('a')\n",
    "    low = 0\n",
    "    hi = len(list1) - 1\n",
    "    while min != low:\n",
    "        m = int((low + hi) / 2)  #取中间位置\n",
    "        if (m % 2 == 0 and list1[m] == list1[m + 1]) or (m % 2 == 1 and list1[m] == list1[m - 1]):\n",
    "            low = m  #扔掉右边一半元素\n",
    "        else:\n",
    "            hi = m  #扔掉左边一半元素\n",
    "        if list1[m] != list1[m - 1] and list1[m] != list1[m + 1]:\n",
    "            return list1[m]\n",
    "    print(min==low)\n",
    "    return list1[m]\n",
    "\n",
    "\n",
    "print(fun(list1))\n"
   ]
  },
  {
   "cell_type": "code",
   "execution_count": 34,
   "metadata": {},
   "outputs": [
    {
     "data": {
      "text/plain": [
       "2"
      ]
     },
     "execution_count": 34,
     "metadata": {},
     "output_type": "execute_result"
    }
   ],
   "source": [
    "list1 = [1, 1, 2, 2, 3, 4, 4, 5, 5]\n",
    "index = [0, 1, 2, 3, 4, 5, 6, 7, 8]\n",
    "\n",
    "\n",
    "def fun(list1):\n",
    "    if len(list1) == 0:  #判读是否是空列表\n",
    "        return -1\n",
    "    elif len(list1) == 1:  #判读是否只有一个元素\n",
    "        return list1[0]\n",
    "    elif list1[0] != list1[1]:  #判读该数是否出现在最左边\n",
    "        return list1[0]\n",
    "    elif list1[-1] != list1[-2]:  #判读该数是否出现在最右边\n",
    "        return list1[-1]\n",
    "    else:  #正常情况\n",
    "        low = 0\n",
    "        hi = len(list1) - 1\n",
    "        while min != low:\n",
    "            m = int((low + hi) / 2)  #取中间位置\n",
    "            if m % 2 == 0:\n",
    "                if list1[m] == list1[m + 1]:\n",
    "                    low = m  #扔掉一半元素\n",
    "                else:\n",
    "                    hi = m  #扔掉一半元素\n",
    "                if list1[m] != list1[m - 1] and list1[m] != list1[m + 1]:\n",
    "                    return list1[m]\n",
    "            else:\n",
    "                if list1[m] == list1[m - 1]:\n",
    "                    low = m  #扔掉一半元素\n",
    "                else:\n",
    "                    hi = m  #扔掉一半元素\n",
    "                if list1[m] != list1[m - 1] and list1[m] != list1[m + 1]:\n",
    "                    return list1[m]\n",
    "        return list1[m]\n",
    "\n",
    "\n",
    "fun(list1)\n"
   ]
  },
  {
   "cell_type": "code",
   "execution_count": null,
   "metadata": {},
   "outputs": [],
   "source": []
  }
 ],
 "metadata": {
  "interpreter": {
   "hash": "1baa965d5efe3ac65b79dfc60c0d706280b1da80fedb7760faf2759126c4f253"
  },
  "kernelspec": {
   "display_name": "Python 3.8.10 64-bit",
   "name": "python3"
  },
  "language_info": {
   "codemirror_mode": {
    "name": "ipython",
    "version": 3
   },
   "file_extension": ".py",
   "mimetype": "text/x-python",
   "name": "python",
   "nbconvert_exporter": "python",
   "pygments_lexer": "ipython3",
   "version": "3.8.10"
  },
  "orig_nbformat": 4
 },
 "nbformat": 4,
 "nbformat_minor": 2
}
