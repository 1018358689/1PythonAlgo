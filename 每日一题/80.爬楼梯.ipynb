{
 "cells": [
  {
   "cell_type": "markdown",
   "metadata": {},
   "source": [
    "今日题目（1220）：爬楼梯\n",
    "假设你正在爬楼梯。需要 n 阶你才能到达楼顶。\n",
    "每次你可以爬 1 或 2 个台阶。你有多少种不同的方法可以爬到楼顶呢？\n",
    "注意：给定 n 是一个正整数。\n",
    "\n",
    "示例 1：\n",
    "输入： 2\n",
    "输出： 2\n",
    "解释： 有两种方法可以爬到楼顶。\n",
    "1.  1 阶 + 1 阶\n",
    "2.  2 阶\n",
    "\n",
    "示例 2：\n",
    "输入： 3\n",
    "输出： 3\n",
    "解释： 有三种方法可以爬到楼顶。\n",
    "1.  1 阶 + 1 阶 + 1 阶\n",
    "2.  1 阶 + 2 阶\n",
    "3.  2 阶 + 1 阶"
   ]
  },
  {
   "cell_type": "code",
   "execution_count": 16,
   "metadata": {},
   "outputs": [
    {
     "data": {
      "text/plain": [
       "(2, 3, 5)"
      ]
     },
     "execution_count": 16,
     "metadata": {},
     "output_type": "execute_result"
    }
   ],
   "source": [
    "# 回溯\n",
    "def f(n: int) -> int:\n",
    "    cnt = 0\n",
    "    step = 0\n",
    "\n",
    "    def dfs():\n",
    "        nonlocal cnt, step\n",
    "        if step > n:\n",
    "            return\n",
    "        if step == n:\n",
    "            cnt += 1\n",
    "            return\n",
    "        for i in [1, 2]:\n",
    "            step += i\n",
    "            dfs()\n",
    "            step -= i\n",
    "\n",
    "    dfs()\n",
    "    return cnt\n",
    "\n",
    "\n",
    "f(2), f(3), f(4)# , f(38)\n"
   ]
  },
  {
   "cell_type": "code",
   "execution_count": 17,
   "metadata": {},
   "outputs": [
    {
     "data": {
      "text/plain": [
       "(2, 3, 5, 63245986)"
      ]
     },
     "execution_count": 17,
     "metadata": {},
     "output_type": "execute_result"
    }
   ],
   "source": [
    "# dp[i] i阶台阶有dp[i]种方法\n",
    "# dp[i] = dp[i-1]+dp[i-2] i>2\n",
    "# dp[1]=1 dp[2]=2\n",
    "def f(n: int) -> int:\n",
    "    # dp = {}\n",
    "    dp = [-1] * (n + 1)\n",
    "    dp[1], dp[2] = 1, 2\n",
    "    for i in range(3, n + 1):\n",
    "        dp[i] = dp[i - 1] + dp[i - 2]\n",
    "    return dp[n]\n",
    "\n",
    "\n",
    "f(2), f(3), f(4), f(38)\n"
   ]
  },
  {
   "cell_type": "code",
   "execution_count": 10,
   "metadata": {},
   "outputs": [
    {
     "data": {
      "text/plain": [
       "(2, 3, 5, 63245986)"
      ]
     },
     "execution_count": 10,
     "metadata": {},
     "output_type": "execute_result"
    }
   ],
   "source": [
    "def f(n: int) -> int:\n",
    "    sqrt5 = 5**0.5\n",
    "    fibN = ((1 + sqrt5) / 2)**(n + 1) - ((1 - sqrt5) / 2)**(n + 1)\n",
    "    return round(fibN / sqrt5)\n",
    "\n",
    "\n",
    "f(2), f(3), f(4), f(38)\n"
   ]
  },
  {
   "cell_type": "code",
   "execution_count": null,
   "metadata": {},
   "outputs": [],
   "source": [
    "def f(n: int) -> int:\n",
    "    a, b = 1, 1\n",
    "    for _ in range(n):\n",
    "        a, b = b, a + b\n",
    "    return a\n",
    "\n",
    "\n",
    "f(2), f(3), f(4), f(38)\n"
   ]
  },
  {
   "cell_type": "code",
   "execution_count": 20,
   "metadata": {},
   "outputs": [
    {
     "data": {
      "text/plain": [
       "(2, 3, 5)"
      ]
     },
     "execution_count": 20,
     "metadata": {},
     "output_type": "execute_result"
    }
   ],
   "source": [
    "def f(n: int) -> int:\n",
    "    if n == 1: return 1\n",
    "    if n == 2: return 2\n",
    "    return f(n - 1) + f(n - 2)\n",
    "\n",
    "\n",
    "f(2), f(3), f(4)# , f(38)\n"
   ]
  },
  {
   "cell_type": "code",
   "execution_count": 24,
   "metadata": {},
   "outputs": [
    {
     "data": {
      "text/plain": [
       "(2, 3, 5, 63245986)"
      ]
     },
     "execution_count": 24,
     "metadata": {},
     "output_type": "execute_result"
    }
   ],
   "source": [
    "def f(n: int) -> int:\n",
    "    def g(n: int, mem: list) -> int:\n",
    "        if mem[n] == -1:\n",
    "            mem[n] = g(n - 1, mem) + g(n - 2, mem)\n",
    "        return mem[n]\n",
    "\n",
    "    mem = [-1] * (n + 1)\n",
    "    mem[1], mem[2] = 1, 2\n",
    "    return g(n, mem)\n",
    "\n",
    "\n",
    "f(2), f(3), f(4), f(38)\n"
   ]
  },
  {
   "cell_type": "code",
   "execution_count": 2,
   "metadata": {},
   "outputs": [
    {
     "data": {
      "text/plain": [
       "(2, 3, 5, 63245986)"
      ]
     },
     "execution_count": 2,
     "metadata": {},
     "output_type": "execute_result"
    }
   ],
   "source": [
    "def f(n: int) -> int:\n",
    "    def g(n: int, mem: dict) -> int:\n",
    "        if n in mem:\n",
    "            return mem[n]\n",
    "        else:\n",
    "            mem[n] = g(n - 1, mem) + g(n - 2, mem)\n",
    "            return mem[n]\n",
    "\n",
    "    mem = {1: 1, 2: 2}\n",
    "    return g(n, mem)\n",
    "\n",
    "\n",
    "f(2), f(3), f(4), f(38)\n"
   ]
  },
  {
   "cell_type": "code",
   "execution_count": null,
   "metadata": {},
   "outputs": [],
   "source": []
  }
 ],
 "metadata": {
  "interpreter": {
   "hash": "004de6046f1b3d314f33fdb43a2dc798b2646e5600efd8df5066c8b63a00ff6d"
  },
  "kernelspec": {
   "display_name": "Python 3.8.10 64-bit",
   "language": "python",
   "name": "python3"
  },
  "language_info": {
   "codemirror_mode": {
    "name": "ipython",
    "version": 3
   },
   "file_extension": ".py",
   "mimetype": "text/x-python",
   "name": "python",
   "nbconvert_exporter": "python",
   "pygments_lexer": "ipython3",
   "version": "3.8.10"
  },
  "orig_nbformat": 4
 },
 "nbformat": 4,
 "nbformat_minor": 2
}
