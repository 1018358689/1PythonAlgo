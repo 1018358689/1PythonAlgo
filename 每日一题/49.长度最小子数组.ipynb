{
 "cells": [
  {
   "cell_type": "markdown",
   "metadata": {},
   "source": [
    "1119长度最小的子数组\n",
    "给定一个含有 n 个正整数的数组和一个正整数 s ，找出该数组中满足其和 ≥ s 的长度最小的 连续 子数组，并返回其长度。如果不存在符合条件的子数组，返回 0。\n",
    "示例：\n",
    "输入：s = 7, nums = [2,3,1,2,4,3] 输出：2 解释：子数组 [4,3] 是该条件下的长度最小的子数组。"
   ]
  },
  {
   "cell_type": "code",
   "execution_count": 14,
   "metadata": {},
   "outputs": [
    {
     "data": {
      "text/plain": [
       "2"
      ]
     },
     "execution_count": 14,
     "metadata": {},
     "output_type": "execute_result"
    }
   ],
   "source": [
    "def f(nums, s):\n",
    "    length = len(nums)\n",
    "    mem = length + 1\n",
    "    for i in range(length):\n",
    "        for j in range(i, length):\n",
    "            if sum(nums[i:j + 1]) >= s:\n",
    "                mem = min(mem, j - i + 1)\n",
    "                break\n",
    "    return 0 if mem == length + 1 else mem\n",
    "\n",
    "\n",
    "f([2, 3, 1, 2, 4, 3], 7)"
   ]
  },
  {
   "cell_type": "code",
   "execution_count": 15,
   "metadata": {},
   "outputs": [
    {
     "data": {
      "text/plain": [
       "2"
      ]
     },
     "execution_count": 15,
     "metadata": {},
     "output_type": "execute_result"
    }
   ],
   "source": [
    "def f(nums, s):\n",
    "    length = len(nums)\n",
    "    mem = length + 1\n",
    "    Sum = 0\n",
    "    left = 0\n",
    "    for right, n in enumerate(nums):  # 右指针右移\n",
    "        Sum += n\n",
    "        while Sum >= s:  # 和大于s\n",
    "            mem = min(mem, right - left + 1)  # 记录现在长度\n",
    "            Sum -= nums[left]  # 左指针左移后的和\n",
    "            left += 1  # 左指针左移\n",
    "    return 0 if mem == length + 1 else mem\n",
    "\n",
    "\n",
    "f([2, 3, 1, 2, 4, 3], 7)\n"
   ]
  },
  {
   "cell_type": "code",
   "execution_count": 2,
   "metadata": {},
   "outputs": [
    {
     "data": {
      "text/plain": [
       "2"
      ]
     },
     "execution_count": 2,
     "metadata": {},
     "output_type": "execute_result"
    }
   ],
   "source": [
    "def f(nums, s):\n",
    "    \"\"\"\n",
    "        因为题目给出 1 <= nums[i] <= 105， 那么可以使用前缀和 加二分查找做\n",
    "        1. 因为元素都大于0，所以前缀和肯定是递增的\n",
    "        2. 我们以每一个元素为起始位置，二分找第一个大于 target的重点位置， 比较那个最小\n",
    "        二分查找一次是 logn,  一共查找n次\n",
    "        那么时间复杂度为 O(nlogn)\n",
    "    \"\"\"\n",
    "    n = len(nums)\n",
    "    # 1. 计算前缀和, 初始长度为 n + 1, 方便计算. 任意 长度的和，均等于 prefix[i] - prefix[i - 1]\n",
    "    prefix = [0] * (n + 1)\n",
    "    for i in range(0, n):\n",
    "        prefix[i + 1] = prefix[i] + nums[i]\n",
    "\n",
    "    # 2. 定义二分查找方法\n",
    "    def binarySreach(prefix, start, target):\n",
    "        \"\"\"\n",
    "            1. 这里要理清楚， 假如 nums = 1 2 3 4，  prefix是 0 1 3 6 10 长度是 n + 1.\n",
    "            2. 依次遍历 nums， start 假如为1， 对应 nums的元素2， \n",
    "            前缀和prefix里对应的是 3， 下标为 2！ 计算nums里 2 + 3 + 4 的和， \n",
    "            对应到 prefix里是 prefix[n] - prefix[1], 所以搜索起来是从 start + 1开始到最后\n",
    "            3. start对应 nums元素下标，  start + 1 对应的是 prefix中， 此元素的前缀和。\n",
    "        \"\"\"\n",
    "        left = start + 1\n",
    "        right = len(prefix) - 1\n",
    "        while left < right:\n",
    "            middle = (left + right) // 2\n",
    "            if prefix[middle] - prefix[start] >= target:\n",
    "                right = middle\n",
    "            else:\n",
    "                left = middle + 1\n",
    "        # 看最后一个位置 是否符合，有可能小于\n",
    "        return left - start if prefix[left] - prefix[start] >= target else n + 1\n",
    "\n",
    "    # 3. 寻找满足条件长度最小子数组\n",
    "    minLength = n + 1\n",
    "    # 使 nums 前n个元素都作为开始元素， 计算第一个 大于 target的子数组长\n",
    "    for i in range(n):\n",
    "        length = binarySreach(prefix, i, s)\n",
    "        minLength = min(minLength, length)\n",
    "    return minLength if minLength != n + 1 else 0\n",
    "\n",
    "\n",
    "f([2, 3, 1, 2, 4, 3], 7)\n"
   ]
  },
  {
   "cell_type": "code",
   "execution_count": 2,
   "metadata": {},
   "outputs": [
    {
     "data": {
      "text/plain": [
       "0"
      ]
     },
     "execution_count": 2,
     "metadata": {},
     "output_type": "execute_result"
    }
   ],
   "source": [
    "l=[1,2,3]\n",
    "sum(l[0:0])"
   ]
  },
  {
   "cell_type": "code",
   "execution_count": 14,
   "metadata": {},
   "outputs": [
    {
     "data": {
      "text/plain": [
       "'0'"
      ]
     },
     "execution_count": 14,
     "metadata": {},
     "output_type": "execute_result"
    }
   ],
   "source": [
    "mem = 9\n",
    "length = 8\n",
    "True and '0' or mem"
   ]
  },
  {
   "cell_type": "code",
   "execution_count": 12,
   "metadata": {},
   "outputs": [
    {
     "data": {
      "text/plain": [
       "'Fire'"
      ]
     },
     "execution_count": 12,
     "metadata": {},
     "output_type": "execute_result"
    }
   ],
   "source": [
    "True and \"Fire\" or \"Water\""
   ]
  },
  {
   "cell_type": "code",
   "execution_count": null,
   "metadata": {},
   "outputs": [],
   "source": [
    "from bisect import bisect"
   ]
  },
  {
   "cell_type": "code",
   "execution_count": 25,
   "metadata": {},
   "outputs": [
    {
     "data": {
      "text/plain": [
       "(2, 0)"
      ]
     },
     "execution_count": 25,
     "metadata": {},
     "output_type": "execute_result"
    }
   ],
   "source": [
    "def f(nums, s):\n",
    "    r = (j - i + 1 for i in range(len(nums)) for j in range(i, len(nums)) if sum(nums[i:j + 1]) >= s)\n",
    "    return min(r) if sum(nums) >= s else 0\n",
    "\n",
    "f([2, 3, 1, 2, 4, 3], 7), f([1, 1, 1, 1, 1], 6)"
   ]
  },
  {
   "cell_type": "code",
   "execution_count": 2,
   "metadata": {},
   "outputs": [
    {
     "data": {
      "text/plain": [
       "[(1, 2, 3), (1, 2, 4), (1, 3, 4), (2, 3, 4)]"
      ]
     },
     "execution_count": 2,
     "metadata": {},
     "output_type": "execute_result"
    }
   ],
   "source": [
    "from itertools import combinations\n",
    "list(combinations([1,2,3],2))\n",
    "list(combinations([1,2,3,4],3))"
   ]
  },
  {
   "cell_type": "code",
   "execution_count": 10,
   "metadata": {},
   "outputs": [
    {
     "data": {
      "text/plain": [
       "(2, 0)"
      ]
     },
     "execution_count": 10,
     "metadata": {},
     "output_type": "execute_result"
    }
   ],
   "source": [
    "from itertools import combinations\n",
    "\n",
    "\n",
    "def f(nums, s):\n",
    "    if sum(nums) < s: return 0\n",
    "    return min(j - i + 1 for i, j in combinations(range(len(nums)), 2) if sum(nums[i:j + 1]) >= s)\n",
    "\n",
    "\n",
    "f([2, 3, 1, 2, 4, 3], 7), f([1, 1, 1, 1, 1], 6)"
   ]
  },
  {
   "cell_type": "code",
   "execution_count": null,
   "metadata": {},
   "outputs": [],
   "source": []
  }
 ],
 "metadata": {
  "interpreter": {
   "hash": "004de6046f1b3d314f33fdb43a2dc798b2646e5600efd8df5066c8b63a00ff6d"
  },
  "kernelspec": {
   "display_name": "Python 3.8.10 64-bit",
   "language": "python",
   "name": "python3"
  },
  "language_info": {
   "codemirror_mode": {
    "name": "ipython",
    "version": 3
   },
   "file_extension": ".py",
   "mimetype": "text/x-python",
   "name": "python",
   "nbconvert_exporter": "python",
   "pygments_lexer": "ipython3",
   "version": "3.8.10"
  },
  "orig_nbformat": 4
 },
 "nbformat": 4,
 "nbformat_minor": 2
}
