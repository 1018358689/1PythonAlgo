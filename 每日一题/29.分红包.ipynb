{
 "cells": [
  {
   "cell_type": "markdown",
   "metadata": {},
   "source": [
    "模拟微信抢红包\n",
    "编写Python程序，要求用户输入红包的总金额和个数，程序自动分配每个红包的金额。每个红包的金额不少于0.01元。\n",
    "提示：调用random函数。"
   ]
  },
  {
   "cell_type": "code",
   "execution_count": 60,
   "metadata": {},
   "outputs": [
    {
     "name": "stdout",
     "output_type": "stream",
     "text": [
      "{1: 10.09, 2: 8.89, 3: 9.14, 4: 18.3, 5: 4.24, 6: 19.54, 7: 7.08, 8: 7.07, 9: 10.07, 10: 5.58}\n"
     ]
    },
    {
     "data": {
      "text/plain": [
       "100.0"
      ]
     },
     "execution_count": 60,
     "metadata": {},
     "output_type": "execute_result"
    }
   ],
   "source": [
    "import random\n",
    "import time\n",
    "from math import fsum\n",
    "\n",
    "def f(money, num):\n",
    "    money = 100 * money\n",
    "    for i in range(1, num):\n",
    "        time.sleep(0.5)\n",
    "        random.seed(time.time())\n",
    "        get_money = random.randint(1, 2 * (money // (num - i + 1)) - 1)  # money - (num - i) * 1\n",
    "        money -= get_money\n",
    "        yield i, get_money / 100\n",
    "    yield num, money / 100\n",
    "\n",
    "\n",
    "res = dict(f(100, 10))\n",
    "print(res)\n",
    "fsum(res[r] for r in res)"
   ]
  },
  {
   "cell_type": "code",
   "execution_count": null,
   "metadata": {},
   "outputs": [],
   "source": [
    "import random\n",
    "def g(money,num):\n",
    "    "
   ]
  },
  {
   "cell_type": "code",
   "execution_count": 93,
   "metadata": {},
   "outputs": [
    {
     "name": "stdout",
     "output_type": "stream",
     "text": [
      "[0, 21, 61, 64, 79, 87, 88, 90, 97, 99, 100]\n"
     ]
    },
    {
     "data": {
      "text/plain": [
       "([21, 40, 3, 15, 8, 1, 2, 7, 2, 1], 100)"
      ]
     },
     "execution_count": 93,
     "metadata": {},
     "output_type": "execute_result"
    }
   ],
   "source": [
    "import random\n",
    "\n",
    "x = random.sample(range(1, 100), 9)\n",
    "x.extend([0, 100])\n",
    "x.sort()\n",
    "print(x)\n",
    "res = []\n",
    "for i in range(len(x)-1):\n",
    "    res.append(x[i+1]-x[i])\n",
    "\n",
    "res,sum(res)"
   ]
  },
  {
   "cell_type": "markdown",
   "metadata": {},
   "source": [
    "思路就是假如10块钱10个人分   10块钱是1000分   将1000分放在一个线段上进行分割 分割成10段  这需要取9个随机点 用random sample一次性取9个随机点  （而不是9次 每次取一个点） 加上头尾数字 共12个数 逐后相减 就得到10个红包了 "
   ]
  },
  {
   "cell_type": "code",
   "execution_count": 1,
   "metadata": {},
   "outputs": [
    {
     "name": "stdout",
     "output_type": "stream",
     "text": [
      "{1: 1.44, 2: 9.12, 3: 15.83, 4: 1.37, 5: 2.52, 6: 15.9, 7: 13.17, 8: 8.31, 9: 20.16, 10: 12.18}\n"
     ]
    },
    {
     "data": {
      "text/plain": [
       "100.0"
      ]
     },
     "execution_count": 1,
     "metadata": {},
     "output_type": "execute_result"
    }
   ],
   "source": [
    "import random\n",
    "from math import fsum\n",
    "\n",
    "\n",
    "def g(money, num):\n",
    "    money = 100 * money\n",
    "    splite = sorted(random.sample(range(1, money), num - 1) + [0, money])\n",
    "    for i in range(len(splite) - 1):\n",
    "        yield (splite[i + 1] - splite[i]) / 100\n",
    "\n",
    "\n",
    "res = dict(enumerate(g(100, 10), 1))\n",
    "print(res)\n",
    "fsum(res[r] for r in res)"
   ]
  },
  {
   "cell_type": "code",
   "execution_count": 91,
   "metadata": {},
   "outputs": [
    {
     "data": {
      "text/plain": [
       "([16, 7, 16, 2, 28, 3, 4, 3, 17, 1, 3], 100)"
      ]
     },
     "execution_count": 91,
     "metadata": {},
     "output_type": "execute_result"
    }
   ],
   "source": [
    "import random\n",
    "\n",
    "x = sorted(random.sample(range(1, 100), 10) +[0,100])\n",
    "res = []\n",
    "for i in range(len(x)-1):\n",
    "    res.append(x[i+1]-x[i])\n",
    "\n",
    "res,sum(res)"
   ]
  },
  {
   "cell_type": "code",
   "execution_count": null,
   "metadata": {},
   "outputs": [],
   "source": []
  }
 ],
 "metadata": {
  "interpreter": {
   "hash": "004de6046f1b3d314f33fdb43a2dc798b2646e5600efd8df5066c8b63a00ff6d"
  },
  "kernelspec": {
   "display_name": "Python 3.8.10 64-bit",
   "name": "python3"
  },
  "language_info": {
   "codemirror_mode": {
    "name": "ipython",
    "version": 3
   },
   "file_extension": ".py",
   "mimetype": "text/x-python",
   "name": "python",
   "nbconvert_exporter": "python",
   "pygments_lexer": "ipython3",
   "version": "3.8.10"
  },
  "orig_nbformat": 4
 },
 "nbformat": 4,
 "nbformat_minor": 2
}
