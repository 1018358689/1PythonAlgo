{
 "cells": [
  {
   "cell_type": "markdown",
   "metadata": {},
   "source": [
    "## 编写一个函数，能够在屏幕上输出一个菱形图案。将层数与组成图案的图形作为参数。"
   ]
  },
  {
   "cell_type": "code",
   "execution_count": 2,
   "metadata": {},
   "outputs": [
    {
     "name": "stdout",
     "output_type": "stream",
     "text": [
      "   *\n",
      "  ***\n",
      " *****\n",
      "*******\n",
      " *****\n",
      "  ***\n",
      "   *\n"
     ]
    }
   ],
   "source": [
    "def dia(row, content):\n",
    "    num_contents = list(range(1, row + 1, 2)) + list(reversed(range(1, row + 1, 2)))[1:]\n",
    "    num_spaces = map(lambda x: (row - x) // 2, num_contents)\n",
    "    for num_space, num_content in zip(num_spaces, num_contents):\n",
    "        print(' ' * num_space + str(content) * num_content)\n",
    "dia(7,'*') "
   ]
  },
  {
   "cell_type": "code",
   "execution_count": 36,
   "metadata": {},
   "outputs": [
    {
     "name": "stdout",
     "output_type": "stream",
     "text": [
      "    *\n",
      "   ***\n",
      "  *****\n",
      " *******\n",
      "  *****\n",
      "   ***\n",
      "    *\n"
     ]
    }
   ],
   "source": [
    "def dia2(num, content):\n",
    "    for i in range(1, num + 1, 2):\n",
    "        t = (num - i) // 2\n",
    "        print(' ' * t, content * i)\n",
    "    for j in range(num - 2, 1 - 1, -2):\n",
    "        t = (num - j) // 2\n",
    "        print(' ' * t, content * j)\n",
    "\n",
    "dia2(7, '*')"
   ]
  },
  {
   "cell_type": "code",
   "execution_count": 27,
   "metadata": {},
   "outputs": [
    {
     "data": {
      "text/plain": [
       "[1, 3, 5, 7, 5, 3, 1]"
      ]
     },
     "execution_count": 27,
     "metadata": {},
     "output_type": "execute_result"
    }
   ],
   "source": [
    "a = 7\n",
    "r = range(1,a+1,2)\n",
    "x = list(r)+list(reversed(r))[1:]\n",
    "x"
   ]
  },
  {
   "cell_type": "code",
   "execution_count": 28,
   "metadata": {},
   "outputs": [],
   "source": [
    "y = map(lambda x:(a-x)//2, x)\n"
   ]
  },
  {
   "cell_type": "code",
   "execution_count": 34,
   "metadata": {},
   "outputs": [
    {
     "name": "stdout",
     "output_type": "stream",
     "text": [
      "   *\n",
      "  ***\n",
      " *****\n",
      "*******\n",
      " *****\n",
      "  ***\n",
      "   *\n"
     ]
    }
   ],
   "source": [
    "a = 7\n",
    "r = range(1,a+1,2)\n",
    "x = list(r)+list(reversed(r))[1:]\n",
    "y = map(lambda x:(a-x)//2, x)\n",
    "for i,j in zip(x,y):\n",
    "    print(' '*j+'*'*i)"
   ]
  },
  {
   "cell_type": "code",
   "execution_count": null,
   "metadata": {},
   "outputs": [],
   "source": []
  }
 ],
 "metadata": {
  "interpreter": {
   "hash": "af407973ba12897262deda9d8992946cc1a9873fff2de40f1acc89cdf9010052"
  },
  "kernelspec": {
   "display_name": "Python 3.8.11 64-bit",
   "name": "python3"
  },
  "language_info": {
   "codemirror_mode": {
    "name": "ipython",
    "version": 3
   },
   "file_extension": ".py",
   "mimetype": "text/x-python",
   "name": "python",
   "nbconvert_exporter": "python",
   "pygments_lexer": "ipython3",
   "version": "3.8.11"
  },
  "orig_nbformat": 4
 },
 "nbformat": 4,
 "nbformat_minor": 2
}
