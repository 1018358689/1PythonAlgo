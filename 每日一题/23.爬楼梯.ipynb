{
 "cells": [
  {
   "cell_type": "markdown",
   "metadata": {},
   "source": [
    "基础题：假设你正在爬楼梯。需要 n 阶你才能到达楼顶。\n",
    "\n",
    "每次你可以爬 1 或 2 个台阶。你有多少种不同的方法可以爬到楼顶呢？\n",
    "\n",
    "注意：给定 n 是一个正整数。\n",
    "\n",
    "比如输入2 输出2 \n",
    "解释：1阶+1阶；2阶\n",
    "\n",
    "输入3 输出3\n",
    "解释：1+1+1；1+2；2+1"
   ]
  },
  {
   "cell_type": "code",
   "execution_count": 1,
   "metadata": {},
   "outputs": [
    {
     "data": {
      "text/plain": [
       "21"
      ]
     },
     "execution_count": 1,
     "metadata": {},
     "output_type": "execute_result"
    }
   ],
   "source": [
    "'''\n",
    "0,1,2,3,4,5,6\n",
    "1,1,2,3,5,8,13,21,34\n",
    "    f(0),f(1) =1, 1\n",
    "    if n>=2:\n",
    "        f(n) = f(n-1)+f(n-2)\n",
    "0,1,2,3,4,5\n",
    "1,1,1,2,4,\n",
    "'''\n",
    "\n",
    "\n",
    "def f(n):\n",
    "    if n >= 2:\n",
    "        return f(n - 1) + f(n - 2)\n",
    "    else:\n",
    "        return 1\n",
    "\n",
    "\n",
    "f(7)"
   ]
  },
  {
   "cell_type": "code",
   "execution_count": 1,
   "metadata": {},
   "outputs": [
    {
     "data": {
      "text/plain": [
       "13"
      ]
     },
     "execution_count": 1,
     "metadata": {},
     "output_type": "execute_result"
    }
   ],
   "source": [
    "'''\n",
    "0,1,2,3,4,5,6\n",
    "1,1,2,3,5,8,13,21,34\n",
    "'''\n",
    "\n",
    "\n",
    "def f(n):\n",
    "    def g(i, mem):\n",
    "        if i < 2: return 1\n",
    "        if mem[i] == -1:\n",
    "            mem[i] = g(i - 1, mem) + g(i - 2, mem)\n",
    "        return mem[i]\n",
    "\n",
    "    return g(n, [-1] * (n + 1))\n",
    "\n",
    "\n",
    "f(6)"
   ]
  },
  {
   "cell_type": "code",
   "execution_count": 60,
   "metadata": {},
   "outputs": [
    {
     "data": {
      "text/plain": [
       "<generator object f at 0x0000000000842200>"
      ]
     },
     "execution_count": 60,
     "metadata": {},
     "output_type": "execute_result"
    }
   ],
   "source": [
    "def f(n):\n",
    "    mem = [1] * (n + 1)\n",
    "    # mem[0], mem[1] = 1, 1\n",
    "    for i in range(2, n + 1):\n",
    "        mem[i] = mem[i - 1] + mem[i - 2]\n",
    "    yield mem[-1]  # mem[n]\n",
    "\n",
    "\n",
    "f(6)"
   ]
  },
  {
   "cell_type": "markdown",
   "metadata": {},
   "source": [
    "f(1) = 1\n",
    "f(2) = 1\n",
    "f(3) = 2\n",
    "f(4) = 3\n",
    "f(5) = 4\n",
    "f(6) = 6"
   ]
  },
  {
   "cell_type": "code",
   "execution_count": 20,
   "metadata": {},
   "outputs": [
    {
     "data": {
      "text/plain": [
       "233"
      ]
     },
     "execution_count": 20,
     "metadata": {},
     "output_type": "execute_result"
    }
   ],
   "source": [
    "def fib(n: int) -> int:\n",
    "    sqrt5 = 5**0.5\n",
    "    fibN = ((1 + sqrt5) / 2)**n - ((1 - sqrt5) / 2)**n\n",
    "    return round(fibN / sqrt5)\n",
    "\n",
    "fib(13)"
   ]
  },
  {
   "cell_type": "code",
   "execution_count": 21,
   "metadata": {},
   "outputs": [
    {
     "data": {
      "text/plain": [
       "[0, 0, 0, 0]"
      ]
     },
     "execution_count": 21,
     "metadata": {},
     "output_type": "execute_result"
    }
   ],
   "source": [
    "[0]*4"
   ]
  },
  {
   "cell_type": "code",
   "execution_count": 4,
   "metadata": {},
   "outputs": [
    {
     "data": {
      "text/plain": [
       "2"
      ]
     },
     "execution_count": 4,
     "metadata": {},
     "output_type": "execute_result"
    }
   ],
   "source": [
    "from collections import defaultdict\n",
    "def f(n):\n",
    "    mem = defaultdict(int)\n",
    "    mem[0]=mem[1]=1\n",
    "    for i in range(2,n+1):\n",
    "        mem[i] = mem[i-1]+mem[i-2]\n",
    "    return mem[n]\n",
    "\n",
    "\n",
    "f(2)\n",
    " "
   ]
  },
  {
   "cell_type": "code",
   "execution_count": null,
   "metadata": {},
   "outputs": [],
   "source": []
  }
 ],
 "metadata": {
  "interpreter": {
   "hash": "004de6046f1b3d314f33fdb43a2dc798b2646e5600efd8df5066c8b63a00ff6d"
  },
  "kernelspec": {
   "display_name": "Python 3.8.10 64-bit",
   "name": "python3"
  },
  "language_info": {
   "codemirror_mode": {
    "name": "ipython",
    "version": 3
   },
   "file_extension": ".py",
   "mimetype": "text/x-python",
   "name": "python",
   "nbconvert_exporter": "python",
   "pygments_lexer": "ipython3",
   "version": "3.8.10"
  },
  "orig_nbformat": 4
 },
 "nbformat": 4,
 "nbformat_minor": 2
}
