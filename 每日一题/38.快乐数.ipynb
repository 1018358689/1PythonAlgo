{
 "cells": [
  {
   "cell_type": "markdown",
   "metadata": {},
   "source": [
    "今日题-编写一个算法来判断一个数 n 是不是快乐数。\n",
    "\n",
    "「快乐数」定义为：\n",
    "\n",
    "对于一个正整数，每一次将该数替换为它每个位置上的数字的平方和。\n",
    "然后重复这个过程直到这个数变为 1，也可能是 无限循环 但始终变不到 1。\n",
    "如果 可以变为  1，那么这个数就是快乐数。\n",
    "如果 n 是快乐数就返回 true ；不是，则返回 false 。\n",
    "\n",
    "输入：19\n",
    "输出：true\n",
    "解释：\n",
    "1平方 + 9平方 = 82\n",
    "8平方 + 2平方 = 68\n",
    "6平方 + 8平方 = 100\n",
    "1平方 + 0平方 + 0 平方= 1\n",
    "\n",
    "输入：n = 2\n",
    "输出：false"
   ]
  },
  {
   "cell_type": "code",
   "execution_count": 7,
   "metadata": {},
   "outputs": [
    {
     "data": {
      "text/plain": [
       "False"
      ]
     },
     "execution_count": 7,
     "metadata": {},
     "output_type": "execute_result"
    }
   ],
   "source": [
    "from functools import reduce\n",
    "\n",
    "\n",
    "def happlenumber(num):\n",
    "    mem = set()\n",
    "    while num != 1:\n",
    "        mem.add(num)\n",
    "        num = reduce(lambda x, y: int(x)**2 + int(y)**2, str(num))\n",
    "        if num in mem:return False\n",
    "    return True\n",
    "\n",
    "\n",
    "happlenumber(2)"
   ]
  },
  {
   "cell_type": "code",
   "execution_count": 9,
   "metadata": {},
   "outputs": [
    {
     "data": {
      "text/plain": [
       "True"
      ]
     },
     "execution_count": 9,
     "metadata": {},
     "output_type": "execute_result"
    }
   ],
   "source": [
    "from functools import reduce\n",
    "\n",
    "\n",
    "def happlenumber(num):\n",
    "    mem = set()\n",
    "    while num != 1 and num not in mem:\n",
    "        mem.add(num)\n",
    "        num = reduce(lambda x, y: int(x)**2 + int(y)**2, str(num))\n",
    "    return num==1\n",
    "\n",
    "\n",
    "happlenumber(19)"
   ]
  },
  {
   "cell_type": "code",
   "execution_count": 10,
   "metadata": {},
   "outputs": [
    {
     "data": {
      "text/plain": [
       "True"
      ]
     },
     "execution_count": 10,
     "metadata": {},
     "output_type": "execute_result"
    }
   ],
   "source": [
    "def happynumber(num):\n",
    "    mem = set()\n",
    "    while num != 1 and num not in mem:\n",
    "        mem.add(num)\n",
    "        num = sum(int(n)**2 for n in str(num))\n",
    "    return num == 1\n",
    "\n",
    "\n",
    "happynumber(19)"
   ]
  },
  {
   "cell_type": "code",
   "execution_count": 1,
   "metadata": {},
   "outputs": [
    {
     "data": {
      "text/plain": [
       "True"
      ]
     },
     "execution_count": 1,
     "metadata": {},
     "output_type": "execute_result"
    }
   ],
   "source": [
    "def happynumber(num):\n",
    "    mem = set()\n",
    "    while num != 1 and num not in mem:\n",
    "        mem.add(num)\n",
    "        tem = 0\n",
    "        while num:\n",
    "            num, mod = divmod(num, 10)\n",
    "            tem += mod**2\n",
    "        num = tem\n",
    "    return num == 1\n",
    "\n",
    "\n",
    "happynumber(19)"
   ]
  },
  {
   "cell_type": "code",
   "execution_count": null,
   "metadata": {},
   "outputs": [],
   "source": []
  }
 ],
 "metadata": {
  "interpreter": {
   "hash": "aee8b7b246df8f9039afb4144a1f6fd8d2ca17a180786b69acc140d282b71a49"
  },
  "kernelspec": {
   "display_name": "Python 3.8.10 64-bit",
   "language": "python",
   "name": "python3"
  },
  "language_info": {
   "codemirror_mode": {
    "name": "ipython",
    "version": 3
   },
   "file_extension": ".py",
   "mimetype": "text/x-python",
   "name": "python",
   "nbconvert_exporter": "python",
   "pygments_lexer": "ipython3",
   "version": "3.8.10"
  },
  "orig_nbformat": 4
 },
 "nbformat": 4,
 "nbformat_minor": 2
}
