{
 "cells": [
  {
   "cell_type": "markdown",
   "source": [
    "## 计算两个日期间相隔的天数\r\n",
    "##【样例】\r\n",
    "## 2015年8月1日与2021年9月25日间隔的天数"
   ],
   "metadata": {}
  },
  {
   "cell_type": "code",
   "execution_count": 8,
   "source": [
    "import time\r\n",
    "st = '2015-8-1'\r\n",
    "et = '2021-9-25'\r\n",
    "\r\n",
    "st_tran = time.mktime(time.strptime(st,r'%Y-%m-%d'))\r\n",
    "et_tran = time.mktime(time.strptime(et,r'%Y-%m-%d'))\r\n",
    "dt = int((et_tran-st_tran)/86400)\r\n",
    "dt"
   ],
   "outputs": [
    {
     "output_type": "execute_result",
     "data": {
      "text/plain": [
       "-2247"
      ]
     },
     "metadata": {},
     "execution_count": 8
    }
   ],
   "metadata": {}
  },
  {
   "cell_type": "code",
   "execution_count": 12,
   "source": [
    "import time\r\n",
    "def dt(st: str, et: str) -> int:\r\n",
    "    '''\r\n",
    "    Args:\r\n",
    "        st(str):开始日期,格式2021-9-25.\r\n",
    "        et(str):结束日期,格式2021-9-26.\r\n",
    "    '''\r\n",
    "    return int((time.mktime(time.strptime(et, r'%Y-%m-%d')) -\r\n",
    "                time.mktime(time.strptime(st, r'%Y-%m-%d'))) / 86400)\r\n",
    "\r\n",
    "dt('2015-8-1', '2021-9-25')"
   ],
   "outputs": [
    {
     "output_type": "execute_result",
     "data": {
      "text/plain": [
       "2247"
      ]
     },
     "metadata": {},
     "execution_count": 12
    }
   ],
   "metadata": {}
  },
  {
   "cell_type": "code",
   "execution_count": null,
   "source": [],
   "outputs": [],
   "metadata": {}
  }
 ],
 "metadata": {
  "orig_nbformat": 4,
  "language_info": {
   "name": "python",
   "version": "3.8.11",
   "mimetype": "text/x-python",
   "codemirror_mode": {
    "name": "ipython",
    "version": 3
   },
   "pygments_lexer": "ipython3",
   "nbconvert_exporter": "python",
   "file_extension": ".py"
  },
  "kernelspec": {
   "name": "python3",
   "display_name": "Python 3.8.11 64-bit ('paddlehub': conda)"
  },
  "interpreter": {
   "hash": "1ab393b4e74f10690122bd8cac8adb5fed0a74445021e612c9c654c49950836c"
  }
 },
 "nbformat": 4,
 "nbformat_minor": 2
}