{
 "cells": [
  {
   "cell_type": "markdown",
   "source": [
    "## 求任意两个正整数的最大公约数和最小公倍数。"
   ],
   "metadata": {}
  },
  {
   "cell_type": "markdown",
   "source": [
    "* 最大公约数  公约数集合的最大值  \r\n",
    "* 最大公约数  辗转相除法 大数除以小数.....直到余数为0\r\n",
    "* 最小公倍数  两数乘积除以最大公约数\r\n",
    "* max min 针对集合\r\n",
    "* 递归就把函数套进去"
   ],
   "metadata": {}
  },
  {
   "cell_type": "code",
   "execution_count": 33,
   "source": [
    "def common(num1, num2):\r\n",
    "    cd = [i for i in range(1, min(num1,num2)+1) if num1%i==0 and num2%i==0 ]\r\n",
    "    return '{}和{}\\n最大公约数：{}\\n最小公倍数：{}'.format(num1, num2, max(cd), int(num1*num2/max(cd)))\r\n",
    "print(common(16,24))"
   ],
   "outputs": [
    {
     "output_type": "stream",
     "name": "stdout",
     "text": [
      "28和36\n",
      "最大公约数：4\n",
      "最小公倍数：252\n"
     ]
    }
   ],
   "metadata": {}
  },
  {
   "cell_type": "code",
   "execution_count": 32,
   "source": [
    "def gcd(num1, num2):\r\n",
    "    if num1 > num2:\r\n",
    "        if num1 % num2:\r\n",
    "            return gcd(num2, num1 % num2)\r\n",
    "        else:\r\n",
    "            return num2\r\n",
    "    else:\r\n",
    "        return gcd(num2, num1)\r\n",
    "\r\n",
    "def lcm(num1, num2):\r\n",
    "    return int(num1 * num2 / gcd(num1, num2))\r\n",
    "\r\n",
    "print(gcd(28, 36))\r\n",
    "print(lcm(28, 36))\r\n"
   ],
   "outputs": [
    {
     "output_type": "stream",
     "name": "stdout",
     "text": [
      "4\n",
      "252\n"
     ]
    }
   ],
   "metadata": {}
  },
  {
   "cell_type": "code",
   "execution_count": 12,
   "source": [
    "def gcm(num1,num2):\r\n",
    "    l=[]\r\n",
    "    for i in range(1,min(num1,num2)+1):\r\n",
    "        if num1%i==0 and num2%i==0:\r\n",
    "            l.append(i)\r\n",
    "    return max(l)\r\n",
    "def lcm(num1,num2):\r\n",
    "    return int(num1*num2/gcm(num1,num2))\r\n",
    "\r\n",
    "print(gcm(16,24))\r\n",
    "print(lcm(16,24))\r\n"
   ],
   "outputs": [
    {
     "output_type": "stream",
     "name": "stdout",
     "text": [
      "8\n",
      "48\n"
     ]
    }
   ],
   "metadata": {}
  },
  {
   "cell_type": "code",
   "execution_count": 18,
   "source": [
    "def gcd(num1,num2):\r\n",
    "    cd = [i for i in range(1,min(num1,num2)+1) if num1%i==0 and num2%i==0 ]\r\n",
    "    return max(cd)\r\n",
    "def lcm(num1,num2):\r\n",
    "    return int(num1*num2/gcd(num1,num2))\r\n",
    "    \r\n",
    "print(gcd(16,24))\r\n",
    "print(lcm(16,24))"
   ],
   "outputs": [
    {
     "output_type": "stream",
     "name": "stdout",
     "text": [
      "8\n",
      "48\n"
     ]
    }
   ],
   "metadata": {}
  },
  {
   "cell_type": "code",
   "execution_count": 5,
   "source": [
    "a = min(1, 2)\r\n",
    "a"
   ],
   "outputs": [
    {
     "output_type": "execute_result",
     "data": {
      "text/plain": [
       "1"
      ]
     },
     "metadata": {},
     "execution_count": 5
    }
   ],
   "metadata": {}
  },
  {
   "cell_type": "code",
   "execution_count": 6,
   "source": [
    "b=[1,2,3,4,7,3]\r\n",
    "max(b)"
   ],
   "outputs": [
    {
     "output_type": "execute_result",
     "data": {
      "text/plain": [
       "7"
      ]
     },
     "metadata": {},
     "execution_count": 6
    }
   ],
   "metadata": {}
  },
  {
   "cell_type": "code",
   "execution_count": null,
   "source": [],
   "outputs": [],
   "metadata": {}
  }
 ],
 "metadata": {
  "orig_nbformat": 4,
  "language_info": {
   "name": "python",
   "version": "3.8.11",
   "mimetype": "text/x-python",
   "codemirror_mode": {
    "name": "ipython",
    "version": 3
   },
   "pygments_lexer": "ipython3",
   "nbconvert_exporter": "python",
   "file_extension": ".py"
  },
  "kernelspec": {
   "name": "python3",
   "display_name": "Python 3.8.11 64-bit"
  },
  "interpreter": {
   "hash": "af407973ba12897262deda9d8992946cc1a9873fff2de40f1acc89cdf9010052"
  }
 },
 "nbformat": 4,
 "nbformat_minor": 2
}