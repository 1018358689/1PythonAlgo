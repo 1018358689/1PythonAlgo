{
 "cells": [
  {
   "cell_type": "markdown",
   "metadata": {},
   "source": [
    "今日题（1207）：字符串压缩\n",
    "描述：利用字符重复出现的次数，编写一种方法，实现基本的字符串压缩功能。比如，字符串aabcccccaaa会变为a2b1c5a3。若“压缩”后的字符串没有变短，则返回原先的字符串。假设字符串中只包含大小写英文字母（a至z）。\n",
    "举例：\n",
    "输入：\"aabcccccaaa\"\n",
    "输出：\" a2b1c5a3\"\n",
    " \n",
    "输入：\"abc\"\n",
    "输出：\"abc\""
   ]
  },
  {
   "cell_type": "code",
   "execution_count": 34,
   "metadata": {},
   "outputs": [
    {
     "data": {
      "text/plain": [
       "('a2b1c5a3', 'a3b2c2', 'a')"
      ]
     },
     "execution_count": 34,
     "metadata": {},
     "output_type": "execute_result"
    }
   ],
   "source": [
    "def f(s):\n",
    "    L = R = 0\n",
    "    res = ''\n",
    "    while L <= len(s)-1:\n",
    "        while R <= len(s)-1 and s[R] == s[L]:\n",
    "            R += 1\n",
    "        res += s[L] + str(R - L)\n",
    "        L = R\n",
    "    return res if len(res) < len(s) else s\n",
    "\n",
    "\n",
    "f('aabcccccaaa'), f('aaabbcc'), f('a')\n"
   ]
  },
  {
   "cell_type": "code",
   "execution_count": 28,
   "metadata": {},
   "outputs": [
    {
     "data": {
      "text/plain": [
       "('a2b1c5a3', 'aaabbc', 'a')"
      ]
     },
     "execution_count": 28,
     "metadata": {},
     "output_type": "execute_result"
    }
   ],
   "source": [
    "def f(s):\n",
    "    s += '_'\n",
    "    cnt = 1\n",
    "    res = ''\n",
    "    for i in range(1, len(s)):\n",
    "        if s[i] == s[i - 1]: # 如果连续相同则计数加一\n",
    "            cnt += 1\n",
    "        else: # 跳出相同 则计数归位并加入结果\n",
    "            res += s[i - 1] + str(cnt)\n",
    "            cnt = 1\n",
    "    return res if len(res) < len(s) - 1 else s[:-1]\n",
    "\n",
    "\n",
    "f('aabcccccaaa'), f('aaabbc'),f('a')\n"
   ]
  },
  {
   "cell_type": "code",
   "execution_count": 29,
   "metadata": {},
   "outputs": [
    {
     "data": {
      "text/plain": [
       "('a2b1c5a3', 'aaabbc', 'a')"
      ]
     },
     "execution_count": 29,
     "metadata": {},
     "output_type": "execute_result"
    }
   ],
   "source": [
    "from itertools import groupby\n",
    "\n",
    "\n",
    "def f(s):\n",
    "    res = ''.join(k + str(len(list(g))) for k, g in groupby(s))\n",
    "    return res if len(res) < len(s) else s\n",
    "\n",
    "\n",
    "f('aabcccccaaa'), f('aaabbc'),f('a')\n"
   ]
  },
  {
   "cell_type": "code",
   "execution_count": 3,
   "metadata": {},
   "outputs": [
    {
     "name": "stdout",
     "output_type": "stream",
     "text": [
      "a\n",
      "['a', 'a']\n",
      "b\n",
      "['b']\n",
      "c\n",
      "['c', 'c', 'c', 'c', 'c']\n",
      "a\n",
      "['a', 'a', 'a']\n"
     ]
    }
   ],
   "source": [
    "from itertools import groupby\n",
    "for i,j in groupby('aabcccccaaa'):\n",
    "    print(i)\n",
    "    print(list(j))"
   ]
  },
  {
   "cell_type": "code",
   "execution_count": 12,
   "metadata": {},
   "outputs": [
    {
     "ename": "TypeError",
     "evalue": "unsupported operand type(s) for -: 'str' and 'str'",
     "output_type": "error",
     "traceback": [
      "\u001b[1;31m---------------------------------------------------------------------------\u001b[0m",
      "\u001b[1;31mTypeError\u001b[0m                                 Traceback (most recent call last)",
      "\u001b[1;32m~\\AppData\\Local\\Temp/ipykernel_8212/2057467856.py\u001b[0m in \u001b[0;36m<module>\u001b[1;34m\u001b[0m\n\u001b[1;32m----> 1\u001b[1;33m \u001b[1;34m'sa'\u001b[0m\u001b[1;33m-\u001b[0m\u001b[1;34m'a'\u001b[0m\u001b[1;33m\u001b[0m\u001b[1;33m\u001b[0m\u001b[0m\n\u001b[0m",
      "\u001b[1;31mTypeError\u001b[0m: unsupported operand type(s) for -: 'str' and 'str'"
     ]
    }
   ],
   "source": [
    "'sa'-'a'"
   ]
  },
  {
   "cell_type": "code",
   "execution_count": null,
   "metadata": {},
   "outputs": [],
   "source": []
  }
 ],
 "metadata": {
  "interpreter": {
   "hash": "004de6046f1b3d314f33fdb43a2dc798b2646e5600efd8df5066c8b63a00ff6d"
  },
  "kernelspec": {
   "display_name": "Python 3.8.10 64-bit",
   "language": "python",
   "name": "python3"
  },
  "language_info": {
   "codemirror_mode": {
    "name": "ipython",
    "version": 3
   },
   "file_extension": ".py",
   "mimetype": "text/x-python",
   "name": "python",
   "nbconvert_exporter": "python",
   "pygments_lexer": "ipython3",
   "version": "3.8.10"
  },
  "orig_nbformat": 4
 },
 "nbformat": 4,
 "nbformat_minor": 2
}
