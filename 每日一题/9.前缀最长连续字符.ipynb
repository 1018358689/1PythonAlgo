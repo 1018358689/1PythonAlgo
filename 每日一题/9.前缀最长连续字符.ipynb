{
 "cells": [
  {
   "cell_type": "markdown",
   "metadata": {},
   "source": [
    "## 假定某编号规则为：前缀+内容，两者之间使用\"_\"分隔。对于给定的任意编号，求前缀中的最长连续字符。例如：输入abcc_abc，输出为c;输入aabbc_abbc，输出为a,b;输入abc_abc，输出为a,b,c。注：核心算法部分不能使用库函数。"
   ]
  },
  {
   "cell_type": "markdown",
   "metadata": {},
   "source": [
    "使用字典来统计连续字符的频率。遍历从第二个字符开始与前一个是否相同，相同则计数器+1，当前字符与前一个不相同则表示连续中断，添加计数器及前一个字符至字典，计数器归零。遍历完毕得到连续频率和字符组成的字典，取字典最大值的键的值。"
   ]
  },
  {
   "cell_type": "code",
   "execution_count": 3,
   "metadata": {},
   "outputs": [
    {
     "name": "stdout",
     "output_type": "stream",
     "text": [
      "['a', 'b']\n",
      "['a', 'b']\n",
      "['a', 'b']\n"
     ]
    }
   ],
   "source": [
    "def f(s):\n",
    "    s = s.split('_')[0] + '_'\n",
    "    d = {}\n",
    "    count = 1\n",
    "    for i in range(1, len(s)):\n",
    "        if s[i] == s[i - 1]:\n",
    "            count += 1\n",
    "        else:\n",
    "            if count not in d:\n",
    "                d[count] = []\n",
    "            d[count].append(s[i - 1])\n",
    "            count = 1\n",
    "    return d[max(d)]\n",
    "\n",
    "\n",
    "print(f('abcc_abc'))\n",
    "print(f('aabbc_abbc'))\n",
    "print(f('abc_abc'))"
   ]
  },
  {
   "cell_type": "code",
   "execution_count": 45,
   "metadata": {},
   "outputs": [
    {
     "name": "stdout",
     "output_type": "stream",
     "text": [
      "['c']\n",
      "['a', 'b']\n",
      "['a', 'b', 'c']\n"
     ]
    }
   ],
   "source": [
    "from collections import defaultdict\n",
    "def f(s):\n",
    "    s = s.split('_')[0] + '_'\n",
    "    d = defaultdict(list)\n",
    "    count = 1\n",
    "    for i in range(1, len(s)):\n",
    "        if s[i] == s[i - 1]:\n",
    "            count += 1\n",
    "        else:\n",
    "            d[count].append(s[i - 1])\n",
    "            count = 1\n",
    "    return d[max(d)]\n",
    "\n",
    "print(f('abcc_abc'))\n",
    "print(f('aabbc_abbc'))\n",
    "print(f('abc_abc'))"
   ]
  },
  {
   "cell_type": "code",
   "execution_count": 40,
   "metadata": {},
   "outputs": [
    {
     "data": {
      "text/plain": [
       "{1: ['a', 'd'], 2: ['b'], 3: ['c', 'f']}"
      ]
     },
     "execution_count": 40,
     "metadata": {},
     "output_type": "execute_result"
    }
   ],
   "source": [
    "s= 'aaxsdccaacbbbxsaaad_ds'\n",
    "s = 'abbcccdfff_abc'\n",
    "s = s.split('_')[0]+'_'\n",
    "d = {}\n",
    "count = 1\n",
    "for i in range(1,len(s)):\n",
    "    if s[i] == s[i-1]:\n",
    "        count+=1\n",
    "    else:\n",
    "        if count not in d:\n",
    "            d[count] = []\n",
    "        d[count].append(s[i-1])\n",
    "        count = 1\n",
    "\n",
    "d"
   ]
  },
  {
   "cell_type": "code",
   "execution_count": null,
   "metadata": {},
   "outputs": [],
   "source": []
  }
 ],
 "metadata": {
  "interpreter": {
   "hash": "1baa965d5efe3ac65b79dfc60c0d706280b1da80fedb7760faf2759126c4f253"
  },
  "kernelspec": {
   "display_name": "Python 3.8.10 64-bit",
   "name": "python3"
  },
  "language_info": {
   "codemirror_mode": {
    "name": "ipython",
    "version": 3
   },
   "file_extension": ".py",
   "mimetype": "text/x-python",
   "name": "python",
   "nbconvert_exporter": "python",
   "pygments_lexer": "ipython3",
   "version": "3.8.10"
  },
  "orig_nbformat": 4
 },
 "nbformat": 4,
 "nbformat_minor": 2
}
