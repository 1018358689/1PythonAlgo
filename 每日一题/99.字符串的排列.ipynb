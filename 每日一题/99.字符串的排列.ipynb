{
 "cells": [
  {
   "cell_type": "markdown",
   "metadata": {},
   "source": [
    "输入一个字符串，打印出该字符串中字符的所有排列。\n",
    "\n",
    "你可以以任意顺序返回这个字符串数组，但里面不能有重复元素。\n",
    "\n",
    "\n",
    "示例:\n",
    "输入：s = \"abc\"\n",
    "输出：[\"abc\",\"acb\",\"bac\",\"bca\",\"cab\",\"cba\"]\n",
    "\n",
    "示例:\n",
    "输入：s = \"aab\"\n",
    "输出：[\"aba\",\"aab\",\"baa\"]\n",
    "\n",
    "限制：\n",
    "1 <= s 的长度 <= 8\n",
    "\n",
    "来源：力扣（LeetCode）\n",
    "链接：https://leetcode-cn.com/problems/zi-fu-chuan-de-pai-lie-lcof\n",
    "著作权归领扣网络所有。商业转载请联系官方授权，非商业转载请注明出处。"
   ]
  },
  {
   "cell_type": "code",
   "execution_count": 4,
   "metadata": {},
   "outputs": [
    {
     "data": {
      "text/plain": [
       "(['aab', 'aba', 'baa'], ['abc', 'acb', 'bac', 'bca', 'cab', 'cba'])"
      ]
     },
     "execution_count": 4,
     "metadata": {},
     "output_type": "execute_result"
    }
   ],
   "source": [
    "def permutation(s):\n",
    "    \"\"\"\n",
    "    :type s: str\n",
    "    :rtype: List[str]\n",
    "    \"\"\"\n",
    "    res = []\n",
    "    path = []\n",
    "    used = []\n",
    "\n",
    "    def dfs():\n",
    "        if len(path) == len(s):\n",
    "            tmp = ''.join(path)\n",
    "            if tmp not in res:\n",
    "                res.append(tmp)\n",
    "            return\n",
    "        for i in range(len(s)):\n",
    "            if i in used:\n",
    "                continue\n",
    "            used.append(i)\n",
    "            path.append(s[i])\n",
    "            dfs()\n",
    "            used.pop()\n",
    "            path.pop()\n",
    "\n",
    "    dfs()\n",
    "    return res\n",
    "\n",
    "\n",
    "permutation('aab'), permutation('abc')\n"
   ]
  },
  {
   "cell_type": "code",
   "execution_count": 6,
   "metadata": {},
   "outputs": [
    {
     "data": {
      "text/plain": [
       "(['aab', 'aba', 'baa'], ['cab', 'cba', 'acb', 'abc', 'bac', 'bca'])"
      ]
     },
     "execution_count": 6,
     "metadata": {},
     "output_type": "execute_result"
    }
   ],
   "source": [
    "from itertools import permutations\n",
    "\n",
    "\n",
    "def f(s: str):\n",
    "    return [''.join(i) for i in set(permutations(s))]\n",
    "\n",
    "\n",
    "f('aab'), f('abc')\n"
   ]
  },
  {
   "cell_type": "code",
   "execution_count": 3,
   "metadata": {},
   "outputs": [
    {
     "data": {
      "text/plain": [
       "(['aab', 'aba', 'baa'], ['abc', 'acb', 'bac', 'bca', 'cab', 'cba'])"
      ]
     },
     "execution_count": 3,
     "metadata": {},
     "output_type": "execute_result"
    }
   ],
   "source": [
    "def permutation(s):\n",
    "    \"\"\"\n",
    "    :type s: str\n",
    "    :rtype: List[str]\n",
    "    \"\"\"\n",
    "    s = sorted(s)\n",
    "    res = []\n",
    "    path = []\n",
    "    used = [0] * len(s)\n",
    "\n",
    "    def dfs():\n",
    "        if len(path) == len(s):\n",
    "            tmp = ''.join(path)\n",
    "            res.append(tmp)\n",
    "            return\n",
    "        for i in range(len(s)):\n",
    "            # print(used,used[i])\n",
    "            if used[i] == 1:\n",
    "                continue\n",
    "            if i > 0 and s[i] == s[i - 1] and used[i - 1] == 0:\n",
    "                continue\n",
    "            used[i] = 1\n",
    "            path.append(s[i])\n",
    "            dfs()\n",
    "            used[i] = 0\n",
    "            path.pop()\n",
    "\n",
    "    dfs()\n",
    "    return res\n",
    "\n",
    "\n",
    "permutation('aab'), permutation('abc')\n"
   ]
  },
  {
   "cell_type": "code",
   "execution_count": 17,
   "metadata": {},
   "outputs": [
    {
     "data": {
      "text/plain": [
       "(['aba', 'aab', 'baa'], ['acb', 'cab', 'cba', 'bca', 'abc', 'bac'])"
      ]
     },
     "execution_count": 17,
     "metadata": {},
     "output_type": "execute_result"
    }
   ],
   "source": [
    "def permutation(s):\n",
    "    \"\"\"\n",
    "    :type s: str\n",
    "    :rtype: List[str]\n",
    "    \"\"\"\n",
    "    res = set()\n",
    "    path = []\n",
    "    used = []\n",
    "\n",
    "    def dfs():\n",
    "        if len(path) == len(s):\n",
    "            tmp = ''.join(path)\n",
    "            res.add(tmp)\n",
    "            return\n",
    "        for i in range(len(s)):\n",
    "            if i in used:\n",
    "                continue\n",
    "            used.append(i)\n",
    "            path.append(s[i])\n",
    "            dfs()\n",
    "            used.pop()\n",
    "            path.pop()\n",
    "\n",
    "    dfs()\n",
    "    return list(res)\n",
    "\n",
    "\n",
    "permutation('aab'), permutation('abc')\n"
   ]
  },
  {
   "cell_type": "code",
   "execution_count": null,
   "metadata": {},
   "outputs": [],
   "source": []
  }
 ],
 "metadata": {
  "interpreter": {
   "hash": "004de6046f1b3d314f33fdb43a2dc798b2646e5600efd8df5066c8b63a00ff6d"
  },
  "kernelspec": {
   "display_name": "Python 3.8.10 64-bit",
   "language": "python",
   "name": "python3"
  },
  "language_info": {
   "codemirror_mode": {
    "name": "ipython",
    "version": 3
   },
   "file_extension": ".py",
   "mimetype": "text/x-python",
   "name": "python",
   "nbconvert_exporter": "python",
   "pygments_lexer": "ipython3",
   "version": "3.8.10"
  },
  "orig_nbformat": 4
 },
 "nbformat": 4,
 "nbformat_minor": 2
}
