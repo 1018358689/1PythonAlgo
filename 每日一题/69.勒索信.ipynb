{
 "cells": [
  {
   "cell_type": "markdown",
   "metadata": {},
   "source": [
    "今日题（1209）：勒索信\n",
    "描述：给定一个表示勒索信内容的字符串n和另一个表示杂志内容的字符串m，写一个方法判断能否通过剪下杂志中的内容构造出这封勒索信，若可以，返回True，否则返回False。注：杂志字符串中的每一个字符仅能在勒索信中使用一次。\n",
    "\n",
    "举例：\n",
    "输入：n='a',m='b'\n",
    "输出：False\n",
    "\n",
    "输入：n='aa',m='ab'\n",
    "输出：False\n",
    "\n",
    "输入：n='aa',m='aab'\n",
    "输出：True"
   ]
  },
  {
   "cell_type": "code",
   "execution_count": 12,
   "metadata": {},
   "outputs": [
    {
     "data": {
      "text/plain": [
       "(False, False, True)"
      ]
     },
     "execution_count": 12,
     "metadata": {},
     "output_type": "execute_result"
    }
   ],
   "source": [
    "from collections import Counter\n",
    "\n",
    "\n",
    "def f(n, m):\n",
    "    n, m = Counter(n), Counter(m)\n",
    "    return n & m == n\n",
    "\n",
    "\n",
    "f('a', 'b'), f('aa', 'ab'), f('aa', 'aab')\n"
   ]
  },
  {
   "cell_type": "code",
   "execution_count": 14,
   "metadata": {},
   "outputs": [
    {
     "data": {
      "text/plain": [
       "(Counter({'a': 1}), Counter({'a': 1}), Counter())"
      ]
     },
     "execution_count": 14,
     "metadata": {},
     "output_type": "execute_result"
    }
   ],
   "source": [
    "from collections import Counter\n",
    "\n",
    "\n",
    "def f(n, m):\n",
    "    n, m = Counter(n), Counter(m)\n",
    "    return n-m\n",
    "\n",
    "\n",
    "f('a', 'b'), f('aa', 'ab'), f('aa', 'aab')\n"
   ]
  },
  {
   "cell_type": "code",
   "execution_count": 20,
   "metadata": {},
   "outputs": [
    {
     "data": {
      "text/plain": [
       "False"
      ]
     },
     "execution_count": 20,
     "metadata": {},
     "output_type": "execute_result"
    }
   ],
   "source": [
    "# error\n",
    "def f(n, m):\n",
    "    n, m = ''.join(sorted(n)), ''.join(sorted(m))\n",
    "    return n in m\n",
    "\n",
    "\n",
    "# f('a', 'b'), f('aa', 'ab'), f('aa', 'aab')\n",
    "f(\"bg\", \"efjbdfbdgfjhhaiigfhbaejahgfbbgbjagbddfgdiaigdadhcfcj\")\n"
   ]
  },
  {
   "cell_type": "code",
   "execution_count": 18,
   "metadata": {},
   "outputs": [
    {
     "data": {
      "text/plain": [
       "'aab'"
      ]
     },
     "execution_count": 18,
     "metadata": {},
     "output_type": "execute_result"
    }
   ],
   "source": [
    "s = 'aba'\n",
    "''.join(sorted(s))"
   ]
  },
  {
   "cell_type": "code",
   "execution_count": null,
   "metadata": {},
   "outputs": [],
   "source": []
  }
 ],
 "metadata": {
  "interpreter": {
   "hash": "004de6046f1b3d314f33fdb43a2dc798b2646e5600efd8df5066c8b63a00ff6d"
  },
  "kernelspec": {
   "display_name": "Python 3.8.10 64-bit",
   "language": "python",
   "name": "python3"
  },
  "language_info": {
   "codemirror_mode": {
    "name": "ipython",
    "version": 3
   },
   "file_extension": ".py",
   "mimetype": "text/x-python",
   "name": "python",
   "nbconvert_exporter": "python",
   "pygments_lexer": "ipython3",
   "version": "3.8.10"
  },
  "orig_nbformat": 4
 },
 "nbformat": 4,
 "nbformat_minor": 2
}
