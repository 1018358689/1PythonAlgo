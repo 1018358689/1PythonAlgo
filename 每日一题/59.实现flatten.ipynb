{
 "cells": [
  {
   "cell_type": "markdown",
   "metadata": {},
   "source": [
    "Flatten层用来将输入“压平”，即把多维的输入一维化，常用在神经网络从卷积层到全连接层的过渡，且Flatten不影响batch的大小。\n",
    "请实现flatten函数，其功能为输入一个复杂数组，将其压平输出。\n",
    "\n",
    "示例 1:\n",
    "输入: [1,[1,2],[4,[5,6]]]\n",
    "输出: [1,1,2,4,5,6]\n",
    "\n",
    "示例 2:\n",
    "输入: [[4,[4],[7,[],9,[3,8]]]]\n",
    "输出: [4,4,7,9,3,8]\n",
    "\n",
    "示例 3:\n",
    "输入: []\n",
    "输出: []"
   ]
  },
  {
   "cell_type": "markdown",
   "metadata": {},
   "source": [
    "yield from 后面可以跟的可以是“ 生成器 、元组、 列表、range（）函数产生的序列等可迭代对象”\n",
    "\n",
    "简单地说，yield from  generator 。实际上就是返回另外一个生成器。而yield只是返回一个元素。从这个层面来说，有下面的等价关系：yield from iterable本质上等于 for item in iterable: yield item 。"
   ]
  },
  {
   "cell_type": "code",
   "execution_count": 132,
   "metadata": {},
   "outputs": [
    {
     "name": "stdout",
     "output_type": "stream",
     "text": [
      "[1, 1, 2, 4, 5, 6]\n",
      "[4, 4, 7, 9, 3, 8]\n",
      "[]\n",
      "[1, 2]\n"
     ]
    }
   ],
   "source": [
    "def f(lst, out=None):\n",
    "    if out is None:\n",
    "        out = []\n",
    "    for i in lst:\n",
    "        if isinstance(i, list):\n",
    "            f(i, out)\n",
    "        else:\n",
    "            out.append(i)\n",
    "    return out\n",
    "\n",
    "\n",
    "print(f([1, [1, 2], [4, [5, 6]]]))\n",
    "print(f([[4, [4], [7, [], 9, [3, 8]]]]))\n",
    "print(f([]))\n",
    "print(f([[1], 2]))\n"
   ]
  },
  {
   "cell_type": "code",
   "execution_count": 122,
   "metadata": {},
   "outputs": [
    {
     "name": "stdout",
     "output_type": "stream",
     "text": [
      "[1, 1, 2, 4, 5, 6]\n",
      "[4, 4, 7, 9, 3, 8]\n",
      "[]\n",
      "[1, 2]\n"
     ]
    }
   ],
   "source": [
    "def f(lst):\n",
    "    out = []\n",
    "\n",
    "    def g(lst):\n",
    "        for i in lst:\n",
    "            if isinstance(i, list):\n",
    "                g(i)\n",
    "            else:\n",
    "                out.append(i)\n",
    "        return out\n",
    "\n",
    "    return g(lst)\n",
    "\n",
    "\n",
    "print(f([1, [1, 2], [4, [5, 6]]]))\n",
    "print(f([[4, [4], [7, [], 9, [3, 8]]]]))\n",
    "print(f([]))\n",
    "print(f([[1], 2]))\n"
   ]
  },
  {
   "cell_type": "code",
   "execution_count": 1,
   "metadata": {},
   "outputs": [
    {
     "name": "stdout",
     "output_type": "stream",
     "text": [
      "[1, 1, 2, 4, 5, 6]\n",
      "[4, 4, 7, 9, 3, 8]\n",
      "[]\n",
      "[1, 2]\n",
      "[1, 2]\n"
     ]
    }
   ],
   "source": [
    "def f(items):\n",
    "    for x in items:\n",
    "        if isinstance(x, list):\n",
    "            yield from f(x)\n",
    "        else:\n",
    "            yield x\n",
    "\n",
    "\n",
    "print(list(f([1, [1, 2], [4, [5, 6]]])))\n",
    "print(list(f([[4, [4], [7, [], 9, [3, 8]]]])))\n",
    "print(list(f([])))\n",
    "print(list(f([[1], 2])))\n",
    "print(list(f([[1], [2]])))\n"
   ]
  },
  {
   "cell_type": "code",
   "execution_count": 131,
   "metadata": {},
   "outputs": [
    {
     "name": "stdout",
     "output_type": "stream",
     "text": [
      "[1, 1, 2, 4, 5, 6]\n",
      "[4, 4, 7, 9, 3, 8]\n",
      "[]\n",
      "[1, 2]\n",
      "[1, 2]\n"
     ]
    }
   ],
   "source": [
    "def f(items):\n",
    "    for x in items:\n",
    "        if isinstance(x, list) and not isinstance(x, (str, bytes)):\n",
    "            for item in f(x):\n",
    "                yield item\n",
    "        else:\n",
    "            yield x\n",
    "\n",
    "\n",
    "print(list(f([1, [1, 2], [4, [5, 6]]])))\n",
    "print(list(f([[4, [4], [7, [], 9, [3, 8]]]])))\n",
    "print(list(f([])))\n",
    "print(list(f([[1], 2])))\n",
    "print(list(f([[1], [2]])))\n"
   ]
  },
  {
   "cell_type": "code",
   "execution_count": 75,
   "metadata": {},
   "outputs": [
    {
     "name": "stdout",
     "output_type": "stream",
     "text": [
      "[1, 1, 2, 4, 5, 6]\n",
      "[4, 4, 7, 9, 3, 8]\n",
      "[]\n",
      "[1, 2]\n"
     ]
    }
   ],
   "source": [
    "import re\n",
    "\n",
    "\n",
    "def f(lst):\n",
    "    toStr = str(lst)\n",
    "    toList = re.sub('\\[\\],|\\[|\\]', '', toStr).split(',')\n",
    "    return [int(i) for i in toList] if toList != [''] else []\n",
    "\n",
    "\n",
    "print(f([1, [1, 2], [4, [5, 6]]]))\n",
    "print(f([[4, [4], [7, [], 9, [3, 8]]]]))\n",
    "print(f([]))\n",
    "print(f([[1], 2]))"
   ]
  },
  {
   "cell_type": "code",
   "execution_count": 115,
   "metadata": {},
   "outputs": [
    {
     "name": "stdout",
     "output_type": "stream",
     "text": [
      "[1, 1, 2, 4, 5, 6]\n",
      "[4, 4, 7, 9, 3, 8]\n",
      "[]\n",
      "[1, 2]\n"
     ]
    }
   ],
   "source": [
    "import re\n",
    "\n",
    "\n",
    "def f(lst):\n",
    "    toStr =  str(lst)\n",
    "    toList = re.sub(',|\\[|\\]', '', toStr).split()\n",
    "    return [int(i) for i in toList]\n",
    "\n",
    "\n",
    "print(f([1, [1, 2], [4, [5, 6]]]))\n",
    "print(f([[4, [4], [7, [], 9, [3, 8]]]]))\n",
    "print(f([]))\n",
    "print(f([[1], 2]))"
   ]
  },
  {
   "cell_type": "code",
   "execution_count": 72,
   "metadata": {},
   "outputs": [
    {
     "data": {
      "text/plain": [
       "[4, 4, 7, 9, 3, 8]"
      ]
     },
     "execution_count": 72,
     "metadata": {},
     "output_type": "execute_result"
    }
   ],
   "source": [
    "toStr = str([[4, [4], [7, [], 9, [3, 8]]]])\n",
    "toStr = re.sub('\\[\\],|\\[|\\]', '', toStr)\n",
    "# toStr = re.sub(' ,', '', toStr)\n",
    "toList = toStr.split(',')\n",
    "[int(i) for i in toList] if toList!=[''] else []"
   ]
  },
  {
   "cell_type": "code",
   "execution_count": 80,
   "metadata": {},
   "outputs": [
    {
     "name": "stdout",
     "output_type": "stream",
     "text": [
      "***\n",
      "[1] [] 95142912\n",
      "1 [] 95142912\n",
      "2 [1] 95142912\n",
      "[1, 2]\n"
     ]
    }
   ],
   "source": [
    "def f(lst, out=None):\n",
    "    if out is None:\n",
    "        print('***')\n",
    "        out = []\n",
    "    for i in lst:\n",
    "        print(i, out, id(out))\n",
    "        if isinstance(i, list):\n",
    "            f(i, out)\n",
    "        else:\n",
    "            out.append(i)\n",
    "    return out\n",
    "\n",
    "\n",
    "# print(f([1, [1, 2], [4, [5, 6]]]))\n",
    "# print(f([[4, [4], [7, [], 9, [3, 8]]]]))\n",
    "# print(f([]))\n",
    "print(f([[1], 2]))\n"
   ]
  },
  {
   "cell_type": "code",
   "execution_count": 81,
   "metadata": {},
   "outputs": [
    {
     "name": "stdout",
     "output_type": "stream",
     "text": [
      "***\n",
      "[1] [] 95236672\n",
      "***\n",
      "1 [] 95150592\n",
      "@@1\n",
      "[]\n"
     ]
    }
   ],
   "source": [
    "def f(lst, out=None):\n",
    "    if not out:\n",
    "        print('***')\n",
    "        out = []\n",
    "    for i in lst:\n",
    "        print(i, out, id(out))\n",
    "        if isinstance(i, list):\n",
    "            f(i, out)\n",
    "        else:\n",
    "            print('@@{}'.format(i))\n",
    "            out.append(i)\n",
    "        # print(i,out,isinstance(i, list))\n",
    "    return out\n",
    "\n",
    "\n",
    "# print(f([1, [1, 2], [4, [5, 6]]]))\n",
    "# print(f([[4, [4], [7, [], 9, [3, 8]]]]))\n",
    "# print(f([]))\n",
    "print(f([[1]]))\n"
   ]
  },
  {
   "cell_type": "code",
   "execution_count": 12,
   "metadata": {},
   "outputs": [
    {
     "name": "stdout",
     "output_type": "stream",
     "text": [
      "[1, 1, 2, 4, 5, 6]\n",
      "[4, 4, 7, 9, 3, 8]\n",
      "[]\n",
      "[1, 2]\n"
     ]
    }
   ],
   "source": [
    "# from collections import Iterable\n",
    "\n",
    "\n",
    "def flatten(items):\n",
    "    for x in items:\n",
    "        if isinstance(x, list):\n",
    "            yield from flatten(x)\n",
    "        else:\n",
    "            yield x\n",
    "\n",
    "\n",
    "print(f([1, [1, 2], [4, [5, 6]]]))\n",
    "print(f([[4, [4], [7, [], 9, [3, 8]]]]))\n",
    "print(f([]))\n",
    "print(f([[1], 2]))"
   ]
  },
  {
   "cell_type": "code",
   "execution_count": 83,
   "metadata": {},
   "outputs": [
    {
     "name": "stdout",
     "output_type": "stream",
     "text": [
      "[1, 1, 2, 4, 5, 6]\n",
      "[4, 4, 7, 9, 3, 8]\n",
      "[]\n",
      "[1, 2]\n"
     ]
    }
   ],
   "source": [
    "# https://stackoverflow.com/questions/2158395/flatten-an-irregular-list-of-lists?answertab=votes\n",
    "def genflat(l):\n",
    "    l = list(l)\n",
    "    i = 0\n",
    "    while i < len(l):\n",
    "        while isinstance(l[i], list):\n",
    "            if not l[i]:\n",
    "                l.pop(i)\n",
    "                i -= 1\n",
    "                break\n",
    "            else:\n",
    "                l[i:i + 1] = l[i]\n",
    "        yield l[i]\n",
    "        i += 1\n",
    "\n",
    "\n",
    "print(list(f([1, [1, 2], [4, [5, 6]]])))\n",
    "print(list(f([[4, [4], [7, [], 9, [3, 8]]]])))\n",
    "print(list(f([])))\n",
    "print(list(f([[1], 2])))"
   ]
  },
  {
   "cell_type": "code",
   "execution_count": 112,
   "metadata": {},
   "outputs": [
    {
     "name": "stdout",
     "output_type": "stream",
     "text": [
      "[1, 1, 2, 4, 5, 6]\n",
      "[4, 4, 7, 9, 3, 8]\n",
      "[]\n",
      "[1, 2]\n",
      "[1]\n"
     ]
    }
   ],
   "source": [
    "def f(lst):\n",
    "    while lst:\n",
    "        while isinstance(lst[0], list):  # 检查首项是否列表    # while lst and isinstance(lst[0], list)\n",
    "            lst[0:1] = lst[0]  # 是列表 则拆去一层括号 往复拆除\n",
    "        if lst: yield lst.pop(0)  # 直到不是列表 则弹出且生成\n",
    "\n",
    "print(list(f([1, [1, 2], [4, [5, 6]]])))\n",
    "print(list(f([[4, [4], [7, [], 9, [3, 8]]]])))\n",
    "print(list(f([])))\n",
    "print(list(f([[1], 2])))\n",
    "print(list(f([[1]])))"
   ]
  },
  {
   "cell_type": "code",
   "execution_count": 98,
   "metadata": {},
   "outputs": [
    {
     "name": "stdout",
     "output_type": "stream",
     "text": [
      "[1, 1, 2, 4, 5, 6]\n",
      "[4, 4, 7, 9, 3, 8]\n",
      "[]\n",
      "[1, 2]\n"
     ]
    }
   ],
   "source": [
    "def f(lst):\n",
    "    r=[]\n",
    "    while lst:\n",
    "        while lst and isinstance(lst[0], list): # 检查首项是否列表\n",
    "            lst[0:1] = lst[0] # 是列表 则拆去一层括号 往复拆除\n",
    "        if lst: r.append(lst.pop(0)) # 直到不是列表 则弹出且生成\n",
    "    return r\n",
    "\n",
    "print(list(f([1, [1, 2], [4, [5, 6]]])))\n",
    "print(list(f([[4, [4], [7, [], 9, [3, 8]]]])))\n",
    "print(list(f([])))\n",
    "print(list(f([[1], 2])))"
   ]
  },
  {
   "cell_type": "code",
   "execution_count": 29,
   "metadata": {},
   "outputs": [
    {
     "data": {
      "text/plain": [
       "[1, 2, [[3, 4]]]"
      ]
     },
     "execution_count": 29,
     "metadata": {},
     "output_type": "execute_result"
    }
   ],
   "source": [
    "l = [[1,2,[[3,4]]]]\n",
    "\n",
    "from itertools import chain\n",
    "list(chain.from_iterable(l))"
   ]
  },
  {
   "cell_type": "code",
   "execution_count": 106,
   "metadata": {},
   "outputs": [
    {
     "data": {
      "text/plain": [
       "[]"
      ]
     },
     "execution_count": 106,
     "metadata": {},
     "output_type": "execute_result"
    }
   ],
   "source": [
    "list()"
   ]
  },
  {
   "cell_type": "code",
   "execution_count": 93,
   "metadata": {},
   "outputs": [
    {
     "data": {
      "text/plain": [
       "[1, 2]"
      ]
     },
     "execution_count": 93,
     "metadata": {},
     "output_type": "execute_result"
    }
   ],
   "source": [
    "l = [[1],2]\n",
    "l[0:1]=l[0]\n",
    "l"
   ]
  },
  {
   "cell_type": "code",
   "execution_count": 43,
   "metadata": {},
   "outputs": [
    {
     "data": {
      "text/plain": [
       "[1, 1, 2, 4, 5, 6]"
      ]
     },
     "execution_count": 43,
     "metadata": {},
     "output_type": "execute_result"
    }
   ],
   "source": [
    "import re\n",
    "m = [1,[1,2],[4,[5,6]]]\n",
    "st = str(m)\n",
    "st = re.sub('\\[|\\]', '', st)\n",
    "[int(i) for i in st.split(',')]"
   ]
  },
  {
   "cell_type": "code",
   "execution_count": 124,
   "metadata": {},
   "outputs": [
    {
     "data": {
      "text/plain": [
       "[4, 5, 6, 4, 5, 6, 4, 5, 6]"
      ]
     },
     "execution_count": 124,
     "metadata": {},
     "output_type": "execute_result"
    }
   ],
   "source": [
    "def f():\n",
    "    for i in [1,2,3]:\n",
    "        yield from [4,5,6]\n",
    "list(f())"
   ]
  },
  {
   "cell_type": "code",
   "execution_count": 126,
   "metadata": {},
   "outputs": [
    {
     "data": {
      "text/plain": [
       "[1]"
      ]
     },
     "execution_count": 126,
     "metadata": {},
     "output_type": "execute_result"
    }
   ],
   "source": [
    "def g():\n",
    "    yield 1\n",
    "x = g()\n",
    "def f():\n",
    "    for i in [1,2,3]:\n",
    "        yield from x\n",
    "list(f())"
   ]
  },
  {
   "cell_type": "code",
   "execution_count": 1,
   "metadata": {},
   "outputs": [
    {
     "ename": "TypeError",
     "evalue": "can only concatenate str (not \"int\") to str",
     "output_type": "error",
     "traceback": [
      "\u001b[1;31m---------------------------------------------------------------------------\u001b[0m",
      "\u001b[1;31mTypeError\u001b[0m                                 Traceback (most recent call last)",
      "\u001b[1;32m~\\AppData\\Local\\Temp/ipykernel_11372/2375441107.py\u001b[0m in \u001b[0;36m<module>\u001b[1;34m\u001b[0m\n\u001b[0;32m      1\u001b[0m \u001b[0ma\u001b[0m\u001b[1;33m=\u001b[0m\u001b[1;36m1\u001b[0m\u001b[1;33m\u001b[0m\u001b[1;33m\u001b[0m\u001b[0m\n\u001b[1;32m----> 2\u001b[1;33m \u001b[0ma\u001b[0m\u001b[1;33m=\u001b[0m\u001b[1;34m'2'\u001b[0m\u001b[1;33m+\u001b[0m\u001b[1;36m1\u001b[0m\u001b[1;33m\u001b[0m\u001b[1;33m\u001b[0m\u001b[0m\n\u001b[0m\u001b[0;32m      3\u001b[0m \u001b[0ma\u001b[0m\u001b[1;33m\u001b[0m\u001b[1;33m\u001b[0m\u001b[0m\n",
      "\u001b[1;31mTypeError\u001b[0m: can only concatenate str (not \"int\") to str"
     ]
    }
   ],
   "source": [
    "a,b=1,2\n",
    "a+b"
   ]
  },
  {
   "cell_type": "code",
   "execution_count": null,
   "metadata": {},
   "outputs": [],
   "source": []
  }
 ],
 "metadata": {
  "interpreter": {
   "hash": "1ab393b4e74f10690122bd8cac8adb5fed0a74445021e612c9c654c49950836c"
  },
  "kernelspec": {
   "display_name": "Python 3.8.11 64-bit ('paddlehub': conda)",
   "language": "python",
   "name": "python3"
  },
  "language_info": {
   "codemirror_mode": {
    "name": "ipython",
    "version": 3
   },
   "file_extension": ".py",
   "mimetype": "text/x-python",
   "name": "python",
   "nbconvert_exporter": "python",
   "pygments_lexer": "ipython3",
   "version": "3.8.10"
  },
  "orig_nbformat": 4
 },
 "nbformat": 4,
 "nbformat_minor": 2
}
