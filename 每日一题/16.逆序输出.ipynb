{
 "cells": [
  {
   "cell_type": "markdown",
   "source": [
    "## 将一个数组逆序输出。例如：输入[1,4,3,7] 输出：[7,3,4,1]"
   ],
   "metadata": {}
  },
  {
   "cell_type": "code",
   "execution_count": 1,
   "source": [
    "'''\r\n",
    "功能：输入一个字符串，倒叙输出\r\n",
    "'''\r\n",
    "\r\n",
    "import collections\r\n",
    "\r\n",
    "\r\n",
    "def func1(one_str):\r\n",
    "    '''\r\n",
    "    直接使用字符串切片功能逆转字符串\r\n",
    "    '''\r\n",
    "    return one_str[::-1]\r\n",
    "\r\n",
    "\r\n",
    "def func2(one_str):\r\n",
    "    '''\r\n",
    "    将字符串转换为列表使用reverse函数\r\n",
    "    '''\r\n",
    "    one_str_list = list(one_str)\r\n",
    "    one_str_list.reverse()\r\n",
    "    return ''.join(one_str_list)\r\n",
    "\r\n",
    "\r\n",
    "def func3(one_str):\r\n",
    "    '''\r\n",
    "    新建一个列表，从后往前添加元素\r\n",
    "    '''\r\n",
    "    one_list = []\r\n",
    "    for i in range(len(one_str) - 1, -1, -1):\r\n",
    "        one_list.append(one_str[i])\r\n",
    "    return ''.join(one_list)\r\n",
    "\r\n",
    "\r\n",
    "def func4(one_str):\r\n",
    "    '''\r\n",
    "    借助于collections模块现成的方法extendleft\r\n",
    "    '''\r\n",
    "    deque1 = collections.deque(one_str)\r\n",
    "    deque2 = collections.deque()\r\n",
    "    for one_char in deque1:\r\n",
    "        deque2.extendleft(one_char)\r\n",
    "    return ''.join(deque2)\r\n",
    "\r\n",
    "\r\n",
    "def func5(one_str):\r\n",
    "    '''\r\n",
    "    递归实现\r\n",
    "    '''\r\n",
    "    if len(one_str) <= 1:\r\n",
    "        return one_str\r\n",
    "    return one_str[-1] + func5(one_str[:-1])\r\n",
    "\r\n",
    "\r\n",
    "def func6(one_str):\r\n",
    "    '''\r\n",
    "    借助基本的Swap操作，以中间为基准交换对称位置的字符\r\n",
    "    '''\r\n",
    "    one_str_list = list(one_str)\r\n",
    "    if len(one_str_list) == 0 or len(one_str_list) == 1:\r\n",
    "        return one_str_list\r\n",
    "    i = 0\r\n",
    "    length = len(one_str_list)\r\n",
    "    while i < length / 2:\r\n",
    "        one_str_list[i], one_str_list[length - i -\r\n",
    "                                      1] = one_str_list[length - i -\r\n",
    "                                                        1], one_str_list[i]\r\n",
    "        i += 1\r\n",
    "    return ''.join(one_str_list)\r\n",
    "\r\n",
    "\r\n",
    "def main_func(str_list):\r\n",
    "    '''\r\n",
    "    主调用函数\r\n",
    "    '''\r\n",
    "    for one_str in str_list:\r\n",
    "        one_list = []\r\n",
    "        one = []\r\n",
    "        one_list.append(func1(one_str))\r\n",
    "        one_list.append(func2(one_str))\r\n",
    "        one_list.append(func3(one_str))\r\n",
    "        one_list.append(func4(one_str))\r\n",
    "        one_list.append(func5(one_str))\r\n",
    "        one_list.append(func6(one_str))\r\n",
    "        print('字符串{0}逆序为：'.format(one_str))\r\n",
    "        print(one_list)\r\n",
    "\r\n",
    "\r\n",
    "if __name__ == '__main__':\r\n",
    "    str_list = ['123456', 'abcdefg', 'zyxvuw', 'Together_CZ']\r\n",
    "    main_func(str_list)"
   ],
   "outputs": [
    {
     "output_type": "stream",
     "name": "stdout",
     "text": [
      "字符串123456逆序为：\n",
      "['654321', '654321', '654321', '654321', '654321', '654321']\n",
      "字符串abcdefg逆序为：\n",
      "['gfedcba', 'gfedcba', 'gfedcba', 'gfedcba', 'gfedcba', 'gfedcba']\n",
      "字符串zyxvuw逆序为：\n",
      "['wuvxyz', 'wuvxyz', 'wuvxyz', 'wuvxyz', 'wuvxyz', 'wuvxyz']\n",
      "字符串Together_CZ逆序为：\n",
      "['ZC_rehtegoT', 'ZC_rehtegoT', 'ZC_rehtegoT', 'ZC_rehtegoT', 'ZC_rehtegoT', 'ZC_rehtegoT']\n"
     ]
    }
   ],
   "metadata": {}
  },
  {
   "cell_type": "code",
   "execution_count": 3,
   "source": [
    "def f1(l):\r\n",
    "    result = []\r\n",
    "    for i in range(len(l) - 1, -1, -1):\r\n",
    "        result.append(l[i])\r\n",
    "    return result\r\n",
    "f1([2,4,6,8])"
   ],
   "outputs": [
    {
     "output_type": "execute_result",
     "data": {
      "text/plain": [
       "[8, 6, 4, 2]"
      ]
     },
     "metadata": {},
     "execution_count": 3
    }
   ],
   "metadata": {}
  },
  {
   "cell_type": "code",
   "execution_count": 6,
   "source": [
    "from collections import deque\r\n",
    "def f2(l):\r\n",
    "    d1 = deque(l)\r\n",
    "    d2 = deque()\r\n",
    "    for i in d1:\r\n",
    "        d2.appendleft(i)\r\n",
    "    return list(d2)\r\n",
    "f2([2,4,6,8])"
   ],
   "outputs": [
    {
     "output_type": "execute_result",
     "data": {
      "text/plain": [
       "[8, 6, 4, 2]"
      ]
     },
     "metadata": {},
     "execution_count": 6
    }
   ],
   "metadata": {}
  },
  {
   "cell_type": "code",
   "execution_count": 1,
   "source": [
    "def f3(l):\r\n",
    "    if len(l) <= 1:\r\n",
    "        return l\r\n",
    "    return [l[-1]] + f3(l[:-1])\r\n",
    "f3([2,4,6,8])"
   ],
   "outputs": [
    {
     "output_type": "execute_result",
     "data": {
      "text/plain": [
       "[8, 6, 4, 2]"
      ]
     },
     "metadata": {},
     "execution_count": 1
    }
   ],
   "metadata": {}
  },
  {
   "cell_type": "code",
   "execution_count": 2,
   "source": [
    "def f3(l):\r\n",
    "    return len(l) > 1 and [l[-1]] + f3(l[:-1]) or l\r\n",
    "f3([2, 4, 6, 8])\r\n"
   ],
   "outputs": [
    {
     "output_type": "execute_result",
     "data": {
      "text/plain": [
       "[8, 6, 4, 2]"
      ]
     },
     "metadata": {},
     "execution_count": 2
    }
   ],
   "metadata": {}
  },
  {
   "cell_type": "code",
   "execution_count": 3,
   "source": [
    "def f4(l):\r\n",
    "    result = []\r\n",
    "    for i in range(len(l)):\r\n",
    "        x = l.pop()\r\n",
    "        result.append(x)\r\n",
    "    return result\r\n",
    "f4([2, 4, 6, 8])\r\n"
   ],
   "outputs": [
    {
     "output_type": "execute_result",
     "data": {
      "text/plain": [
       "[8, 6, 4, 2]"
      ]
     },
     "metadata": {},
     "execution_count": 3
    }
   ],
   "metadata": {}
  },
  {
   "cell_type": "code",
   "execution_count": 7,
   "source": [
    "def f5(l):\r\n",
    "    cnt = len(l) - 1\r\n",
    "    while cnt > 0 :\r\n",
    "        x = l.pop(0)\r\n",
    "        l.insert(cnt,x)\r\n",
    "        cnt -= 1\r\n",
    "    return l \r\n",
    "f5([2, 4, 6, 8])"
   ],
   "outputs": [
    {
     "output_type": "execute_result",
     "data": {
      "text/plain": [
       "[8, 6, 4, 2]"
      ]
     },
     "metadata": {},
     "execution_count": 7
    }
   ],
   "metadata": {}
  },
  {
   "cell_type": "code",
   "execution_count": 8,
   "source": [
    "a = [1,2,3,4]\r\n",
    "a.pop(0)"
   ],
   "outputs": [
    {
     "output_type": "execute_result",
     "data": {
      "text/plain": [
       "1"
      ]
     },
     "metadata": {},
     "execution_count": 8
    }
   ],
   "metadata": {}
  },
  {
   "cell_type": "code",
   "execution_count": null,
   "source": [],
   "outputs": [],
   "metadata": {}
  }
 ],
 "metadata": {
  "orig_nbformat": 4,
  "language_info": {
   "name": "python",
   "version": "3.8.11",
   "mimetype": "text/x-python",
   "codemirror_mode": {
    "name": "ipython",
    "version": 3
   },
   "pygments_lexer": "ipython3",
   "nbconvert_exporter": "python",
   "file_extension": ".py"
  },
  "kernelspec": {
   "name": "python3",
   "display_name": "Python 3.8.11 64-bit ('pytorch': conda)"
  },
  "interpreter": {
   "hash": "af407973ba12897262deda9d8992946cc1a9873fff2de40f1acc89cdf9010052"
  }
 },
 "nbformat": 4,
 "nbformat_minor": 2
}