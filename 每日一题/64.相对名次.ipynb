{
 "cells": [
  {
   "cell_type": "markdown",
   "metadata": {},
   "source": [
    "给你一个长度为 n 的整数数组 score ，其中 score[i] 是第 i 位运动员在比赛中的得分。所有得分都互不相同 。\n",
    "\n",
    "运动员将根据得分 决定名次 ，其中名次第 1 的运动员得分最高，名次第 2 的运动员得分第 2 高，依此类推。运动员的名次决定了他们的获奖情况：\n",
    "\n",
    "名次第 1 的运动员获金牌 'Gold Medal' 。\n",
    "名次第 2 的运动员获银牌 'Silver Medal' 。\n",
    "名次第 3 的运动员获铜牌 'Bronze Medal' 。\n",
    "从名次第 4 到第 n 的运动员，只能获得他们的名次编号（即，名次第 x 的运动员获得编号 'x'）。\n",
    "使用长度为 n 的数组 answer 返回获奖，其中 answer[i] 是第 i 位运动员的获奖情况。\n",
    "\n",
    " \n",
    "\n",
    "示例 1：\n",
    "输入：score = [5,4,3,2,1]\n",
    "输出：['Gold Medal','Silver Medal','Bronze Medal','4','5']\n",
    "解释：名次为 [1st, 2nd, 3rd, 4th, 5th] 。\n",
    "\n",
    "示例 2：\n",
    "输入：score = [10,3,8,9,4]\n",
    "输出：['Gold Medal','5','Bronze Medal','Silver Medal','4']\n",
    "解释：名次为 [1st, 5th, 3rd, 2nd, 4th] 。"
   ]
  },
  {
   "cell_type": "code",
   "execution_count": 19,
   "metadata": {},
   "outputs": [
    {
     "data": {
      "text/plain": [
       "(['Gold Medal', 'Silver Medal', 'Bronze Medal', '4', '5'],\n",
       " ['Gold Medal', '5', 'Bronze Medal', 'Silver Medal', '4'])"
      ]
     },
     "execution_count": 19,
     "metadata": {},
     "output_type": "execute_result"
    }
   ],
   "source": [
    "def f(score):\n",
    "    helper = {1: 'Gold Medal', 2: 'Silver Medal', 3: 'Bronze Medal'}\n",
    "    rank = sorted(score, reverse=True)  # 成绩从大到小排序\n",
    "    rank_num = {v: k for k, v in enumerate(rank,1)}  # rank-num\n",
    "    res = []  # 存放获奖结果\n",
    "    for s in score:\n",
    "        num = rank_num[s]\n",
    "        if num in helper:\n",
    "            res.append(helper[num])  # 根据score-index找到原始索引并放入res\n",
    "        else:\n",
    "            res.append(str(num))\n",
    "    return res\n",
    "\n",
    "\n",
    "f([5, 4, 3, 2, 1]), f([10, 3, 8, 9, 4])\n"
   ]
  },
  {
   "cell_type": "code",
   "execution_count": 7,
   "metadata": {},
   "outputs": [
    {
     "data": {
      "text/plain": [
       "(['Gold Medal', 'Silver Medal', 'Bronze Medal', '4', '5'],\n",
       " ['Gold Medal', '5', 'Bronze Medal', 'Silver Medal', '4'])"
      ]
     },
     "execution_count": 7,
     "metadata": {},
     "output_type": "execute_result"
    }
   ],
   "source": [
    "def f(score):\n",
    "    helper = {1: 'Gold Medal', 2: 'Silver Medal', 3: 'Bronze Medal'}\n",
    "    score_index = {v: k for k, v in enumerate(score)}  # score-index\n",
    "    rank = sorted(score, reverse=True)  # 成绩从大到小排序\n",
    "    res = [0] * len(score)  # 存放获奖结果\n",
    "    for i, r in enumerate(rank, 1):\n",
    "        if i in helper:\n",
    "            res[score_index[r]] = helper[i]  # 根据score-index找到原始索引并放入res\n",
    "        else:\n",
    "            res[score_index[r]] = str(i)\n",
    "    return res\n",
    "\n",
    "\n",
    "f([5, 4, 3, 2, 1]), f([10, 3, 8, 9, 4])\n"
   ]
  },
  {
   "cell_type": "code",
   "execution_count": 5,
   "metadata": {},
   "outputs": [
    {
     "data": {
      "text/plain": [
       "(['Gold Medal', 'Silver Medal', 'Bronze Medal', '4', '5'],\n",
       " ['Silver Medal', '6', '4', 'Bronze Medal', '5', 'Gold Medal'])"
      ]
     },
     "execution_count": 5,
     "metadata": {},
     "output_type": "execute_result"
    }
   ],
   "source": [
    "def f(score):\n",
    "    helper = {1: 'Gold Medal', 2: 'Silver Medal', 3: 'Bronze Medal'}\n",
    "    rank = [(v, k) for k, v in enumerate(score)]  # score-index\n",
    "    rank.sort(reverse=True)  # 成绩从大到小排序 按rank[1]位置颁奖即可\n",
    "    res = [0] * len(score)  # 存放获奖结果\n",
    "    for i,r in enumerate(rank,1):\n",
    "        r = r[1]\n",
    "        if i in helper:\n",
    "            res[r] = helper[i]  # 根据score-index找到原始索引并放入res\n",
    "        else:\n",
    "            res[r] = str(i)\n",
    "    return res\n",
    "\n",
    "\n",
    "f([5, 4, 3, 2, 1]), f([10, 3, 8, 9, 4])\n"
   ]
  },
  {
   "cell_type": "code",
   "execution_count": 4,
   "metadata": {},
   "outputs": [
    {
     "data": {
      "text/plain": [
       "(['Gold Medal', 'Silver Medal', 'Bronze Medal', '4', '5'],\n",
       " ['Silver Medal', '6', '4', 'Bronze Medal', '5', 'Silver Medal'])"
      ]
     },
     "execution_count": 4,
     "metadata": {},
     "output_type": "execute_result"
    }
   ],
   "source": [
    "def f(score):\n",
    "    helper = {1: 'Gold Medal', 2: 'Silver Medal', 3: 'Bronze Medal'}\n",
    "    rank = sorted(score, reverse=True)  # 成绩从大到小排序\n",
    "    rank_num = {v: k for k, v in enumerate(rank, 1)}  # rank-num \n",
    "    return [helper[rank_num[s]] if rank_num[s] in helper else str(rank_num[s]) for s in score] # 成绩转排名\n",
    "\n",
    "\n",
    "f([5, 4, 3, 2, 1]), f([10, 3, 8, 9, 4])\n"
   ]
  },
  {
   "cell_type": "code",
   "execution_count": 22,
   "metadata": {},
   "outputs": [
    {
     "data": {
      "text/plain": [
       "(['Gold Medal', 'Silver Medal', 'Bronze Medal', '4', '5'],\n",
       " ['Gold Medal', '6', '4', 'Bronze Medal', '5', 'Silver Medal'])"
      ]
     },
     "execution_count": 22,
     "metadata": {},
     "output_type": "execute_result"
    }
   ],
   "source": [
    "import heapq\n",
    "\n",
    "\n",
    "def f(score):\n",
    "    helper = {1: 'Gold Medal', 2: 'Silver Medal', 3: 'Bronze Medal'}\n",
    "    heap = [(-v, k) for k, v in enumerate(score)]\n",
    "    heapq.heapify(heap)\n",
    "    res = [0] * len(score)\n",
    "    rank = 1\n",
    "    while heap:\n",
    "        maxscore, index = heapq.heappop(heap)\n",
    "        if rank in helper:\n",
    "            res[index] = helper[rank]\n",
    "        else:\n",
    "            res[index] = str(rank)\n",
    "        rank += 1\n",
    "    return res\n",
    "\n",
    "\n",
    "f([5, 4, 3, 2, 1]), f([10, 3, 8, 9, 4, 10])\n"
   ]
  },
  {
   "cell_type": "code",
   "execution_count": 20,
   "metadata": {},
   "outputs": [
    {
     "data": {
      "text/plain": [
       "(['Gold Medal', 'Silver Medal', 'Bronze Medal', '4', '5'],\n",
       " ['Bronze Medal', '7', '5', '4', '6', 'Bronze Medal', 'Bronze Medal'])"
      ]
     },
     "execution_count": 20,
     "metadata": {},
     "output_type": "execute_result"
    }
   ],
   "source": [
    "def f(score):\n",
    "    helper = {1: 'Gold Medal', 2: 'Silver Medal', 3: 'Bronze Medal'}\n",
    "    rank = sorted(score, reverse=True)  # 成绩从大到小排序\n",
    "    rank_num = {v: k for k, v in enumerate(rank, 1)}  # rank-num\n",
    "    return [helper.get(rank_num[s], str(rank_num[s])) for s in score]  # 成绩转排名\n",
    "\n",
    "\n",
    "f([5, 4, 3, 2, 1]), f([10, 3, 8, 9, 4, 10, 10])\n"
   ]
  },
  {
   "cell_type": "code",
   "execution_count": 30,
   "metadata": {},
   "outputs": [
    {
     "data": {
      "text/plain": [
       "['Gold Medal', '6', '4', 'Bronze Medal', '5', 'Gold Medal']"
      ]
     },
     "execution_count": 30,
     "metadata": {},
     "output_type": "execute_result"
    }
   ],
   "source": [
    "def f(score):\n",
    "    helper = {1: 'Gold Medal', 2: 'Silver Medal', 3: 'Bronze Medal'}\n",
    "    rank = sorted(score, reverse=True)  # 成绩从大到小排序\n",
    "    rank_num ={}\n",
    "    for k, v in enumerate(rank):  # rank-num\n",
    "        if k>0 and v==rank[k-1]:\n",
    "            rank_num[v]=k\n",
    "        else:\n",
    "            rank_num[v]=k+1\n",
    "    return [helper.get(rank_num[s], str(rank_num[s])) for s in score]  # 成绩转排名\n",
    "\n",
    "\n",
    "f([10, 3, 8, 9, 4, 10])\n"
   ]
  },
  {
   "cell_type": "code",
   "execution_count": null,
   "metadata": {},
   "outputs": [],
   "source": []
  }
 ],
 "metadata": {
  "interpreter": {
   "hash": "004de6046f1b3d314f33fdb43a2dc798b2646e5600efd8df5066c8b63a00ff6d"
  },
  "kernelspec": {
   "display_name": "Python 3.8.10 64-bit",
   "language": "python",
   "name": "python3"
  },
  "language_info": {
   "codemirror_mode": {
    "name": "ipython",
    "version": 3
   },
   "file_extension": ".py",
   "mimetype": "text/x-python",
   "name": "python",
   "nbconvert_exporter": "python",
   "pygments_lexer": "ipython3",
   "version": "3.8.10"
  },
  "orig_nbformat": 4
 },
 "nbformat": 4,
 "nbformat_minor": 2
}
