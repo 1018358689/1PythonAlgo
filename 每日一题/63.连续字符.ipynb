{
 "cells": [
  {
   "cell_type": "markdown",
   "metadata": {},
   "source": [
    "给你一个字符串 s ，返回最长连续相同子字符串的长度。\n",
    "\n",
    "示例 1：\n",
    "输入：s = 'abbcccddddeeeeedcbadd'\n",
    "输出：5\n",
    "解释：子字符串 'eeeee' 长度为 5 ，只包含字符 'e' 。\n",
    "\n",
    "示例 2：\n",
    "输入：s = ''\n",
    "输出：0\n",
    "\n",
    "示例 3：\n",
    "输入：s = 'x'\n",
    "输出：1\n",
    "\n",
    "示例 4：\n",
    "输入：s = 'hooraaaaaaaaaaay'\n",
    "输出：11\n",
    "\n",
    "示例 5：\n",
    "输入：s = 'tourist'\n",
    "输出：1\n"
   ]
  },
  {
   "cell_type": "code",
   "execution_count": 1,
   "metadata": {},
   "outputs": [
    {
     "data": {
      "text/plain": [
       "(5, 0, 1, 11, 1, 3)"
      ]
     },
     "execution_count": 1,
     "metadata": {},
     "output_type": "execute_result"
    }
   ],
   "source": [
    "def f(s):\n",
    "    if not s: return 0\n",
    "    L = 0\n",
    "    R = 1\n",
    "    maxlength = 1\n",
    "    while R <= len(s) - 1:\n",
    "        while R <= len(s) - 1 and s[R] == s[L]:\n",
    "            R += 1\n",
    "        maxlength = max(maxlength, R - L)\n",
    "        L = R\n",
    "    return maxlength\n",
    "\n",
    "f('aabbcccddddeeeeedcbadd'),f(''),f('x'),f('hooraaaaaaaaaaay'),f('tourist'),f('aaa')"
   ]
  },
  {
   "cell_type": "code",
   "execution_count": 4,
   "metadata": {},
   "outputs": [
    {
     "data": {
      "text/plain": [
       "(5, 0, 1, 11, 1, 3)"
      ]
     },
     "execution_count": 4,
     "metadata": {},
     "output_type": "execute_result"
    }
   ],
   "source": [
    "def f(s):\n",
    "    if not s: return 0\n",
    "    cnt = 1\n",
    "    maxlength = 1\n",
    "    for i in range(1, len(s)):\n",
    "        if s[i] == s[i - 1]:\n",
    "            cnt += 1\n",
    "        else:\n",
    "            maxlength = max(maxlength, cnt)\n",
    "            cnt = 1\n",
    "    return max(maxlength, cnt)\n",
    "\n",
    "\n",
    "f('aabbcccddddeeeeedcbadd'), f(''), f('x'), f('hooraaaaaaaaaaay'), f('tourist'),f('aaa')\n"
   ]
  },
  {
   "cell_type": "code",
   "execution_count": 5,
   "metadata": {},
   "outputs": [
    {
     "data": {
      "text/plain": [
       "(5, 0, 1, 11, 1, 3)"
      ]
     },
     "execution_count": 5,
     "metadata": {},
     "output_type": "execute_result"
    }
   ],
   "source": [
    "from itertools import groupby\n",
    "def f(s):\n",
    "    r = 0\n",
    "    for _,c in groupby(s):\n",
    "        r=max(r,len(list(c)))\n",
    "    return r\n",
    "f('abbcccddddeeeeedcbadd'),f(''),f('x'),f('hooraaaaaaaaaaay'),f('tourist'),f('aaa')"
   ]
  },
  {
   "cell_type": "code",
   "execution_count": 6,
   "metadata": {},
   "outputs": [
    {
     "data": {
      "text/plain": [
       "(5, 0, 1, 11, 1, 3)"
      ]
     },
     "execution_count": 6,
     "metadata": {},
     "output_type": "execute_result"
    }
   ],
   "source": [
    "# dp[i] 到i位置字符串的最长连续字符[0,i] maxi=len(s)-1\n",
    "# dp[i]=dp[i-1]+1 if s[i]=s[i-1] i>=1\n",
    "# dp[i]=1 if s[i]!=s[i-1]\n",
    "# BaseCase dp[0]=1\n",
    "\n",
    "\n",
    "def f(s):\n",
    "    if not s: return 0\n",
    "    dp = [1] * len(s)\n",
    "    for i in range(1, len(s)):\n",
    "        if s[i] == s[i - 1]: dp[i] = dp[i - 1] + 1\n",
    "    return max(dp)\n",
    "\n",
    "\n",
    "f('abbcccddddeeeeedcbadd'), f(''), f('x'), f('hooraaaaaaaaaaay'), f('tourist'), f('aaa')\n"
   ]
  },
  {
   "cell_type": "code",
   "execution_count": 14,
   "metadata": {},
   "outputs": [
    {
     "name": "stdout",
     "output_type": "stream",
     "text": [
      "1 [1]\n",
      "2 [2, 2]\n",
      "4 [4]\n",
      "1 [1]\n",
      "2 [2]\n"
     ]
    }
   ],
   "source": [
    "from itertools import groupby\n",
    "s= 'hooraaaaaaaaaaaya'\n",
    "s=[1,2,2,4,1,2]\n",
    "for i,j in groupby(s):\n",
    "    print(i,list(j))"
   ]
  },
  {
   "cell_type": "code",
   "execution_count": 26,
   "metadata": {},
   "outputs": [
    {
     "data": {
      "text/plain": [
       "[0]"
      ]
     },
     "execution_count": 26,
     "metadata": {},
     "output_type": "execute_result"
    }
   ],
   "source": [
    "list(range(0,1))"
   ]
  },
  {
   "cell_type": "code",
   "execution_count": 10,
   "metadata": {},
   "outputs": [
    {
     "data": {
      "text/plain": [
       "(5, 0, 1, 11, 1, 3)"
      ]
     },
     "execution_count": 10,
     "metadata": {},
     "output_type": "execute_result"
    }
   ],
   "source": [
    "from itertools import groupby\n",
    "def f(s):\n",
    "    if not s: return 0\n",
    "    return max(len(list(c)) for _, c in groupby(s))\n",
    "\n",
    "\n",
    "f('abbcccddddeeeeedcbadd'), f(''), f('x'), f('hooraaaaaaaaaaay'), f('tourist'), f('aaa')\n"
   ]
  },
  {
   "cell_type": "code",
   "execution_count": null,
   "metadata": {},
   "outputs": [],
   "source": []
  }
 ],
 "metadata": {
  "interpreter": {
   "hash": "004de6046f1b3d314f33fdb43a2dc798b2646e5600efd8df5066c8b63a00ff6d"
  },
  "kernelspec": {
   "display_name": "Python 3.8.10 64-bit",
   "language": "python",
   "name": "python3"
  },
  "language_info": {
   "codemirror_mode": {
    "name": "ipython",
    "version": 3
   },
   "file_extension": ".py",
   "mimetype": "text/x-python",
   "name": "python",
   "nbconvert_exporter": "python",
   "pygments_lexer": "ipython3",
   "version": "3.8.10"
  },
  "orig_nbformat": 4
 },
 "nbformat": 4,
 "nbformat_minor": 2
}
