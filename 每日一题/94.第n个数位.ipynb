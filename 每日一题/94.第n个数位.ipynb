{
 "cells": [
  {
   "cell_type": "markdown",
   "metadata": {},
   "source": [
    "今日题(0103):第n个数位\n",
    "描述:找出无限正整数数列1,2,3…中的第n个数位。\n",
    "解释:输入11，输出0，表示数字序列1 2 3 4 5 6 7 8 9 10中的第11位是0。\n",
    "\n",
    "举例:\n",
    "输入:11\n",
    "输出:0"
   ]
  },
  {
   "cell_type": "code",
   "execution_count": 8,
   "metadata": {},
   "outputs": [
    {
     "data": {
      "text/plain": [
       "(1, 0, 8, 6, 4)"
      ]
     },
     "execution_count": 8,
     "metadata": {},
     "output_type": "execute_result"
    }
   ],
   "source": [
    "def f(n: int):\n",
    "    size = 1\n",
    "    cnt = 9\n",
    "    start = 1\n",
    "    total = 9\n",
    "    while total <= n:\n",
    "        size += 1\n",
    "        cnt *= 10\n",
    "        start *= 10\n",
    "        total += size * cnt\n",
    "    total -= size*cnt # 上一轮累计总共个数\n",
    "    return int(str(start+(n-total-1)//size)[(n-total-1)%size])\n",
    "\n",
    "\n",
    "f(10),f(11),f(876),f(103),f(1234)"
   ]
  },
  {
   "cell_type": "code",
   "execution_count": 7,
   "metadata": {},
   "outputs": [
    {
     "data": {
      "text/plain": [
       "'0'"
      ]
     },
     "execution_count": 7,
     "metadata": {},
     "output_type": "execute_result"
    }
   ],
   "source": [
    "''.join(map(str,range(1,100)))[10]"
   ]
  },
  {
   "cell_type": "code",
   "execution_count": 7,
   "metadata": {},
   "outputs": [
    {
     "data": {
      "text/plain": [
       "(1, 0, 8, 6, 4)"
      ]
     },
     "execution_count": 7,
     "metadata": {},
     "output_type": "execute_result"
    }
   ],
   "source": [
    "def f(n: int):\n",
    "    size = 1\n",
    "    cnt = 9\n",
    "    start = 1\n",
    "    total = 9\n",
    "    while total <= n:\n",
    "        size += 1\n",
    "        cnt *= 10\n",
    "        start *= 10\n",
    "        total += size * cnt\n",
    "    total -= size*cnt\n",
    "    return int(''.join(map(str, range(start, start + cnt)))[n - total - 1])\n",
    "\n",
    "\n",
    "f(10),f(11),f(876),f(103),f(1234)"
   ]
  },
  {
   "cell_type": "code",
   "execution_count": 1,
   "metadata": {},
   "outputs": [
    {
     "data": {
      "text/plain": [
       "13"
      ]
     },
     "execution_count": 1,
     "metadata": {},
     "output_type": "execute_result"
    }
   ],
   "source": [
    "1011121314\n",
    "100101102\n",
    "15-2"
   ]
  },
  {
   "cell_type": "code",
   "execution_count": null,
   "metadata": {},
   "outputs": [],
   "source": []
  }
 ],
 "metadata": {
  "interpreter": {
   "hash": "aee8b7b246df8f9039afb4144a1f6fd8d2ca17a180786b69acc140d282b71a49"
  },
  "kernelspec": {
   "display_name": "Python 3.8.10 64-bit",
   "language": "python",
   "name": "python3"
  },
  "language_info": {
   "codemirror_mode": {
    "name": "ipython",
    "version": 3
   },
   "file_extension": ".py",
   "mimetype": "text/x-python",
   "name": "python",
   "nbconvert_exporter": "python",
   "pygments_lexer": "ipython3",
   "version": "3.8.10"
  },
  "orig_nbformat": 4
 },
 "nbformat": 4,
 "nbformat_minor": 2
}
