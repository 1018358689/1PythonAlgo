{
 "cells": [
  {
   "cell_type": "markdown",
   "metadata": {},
   "source": [
    "给你一个整数数组 nums 和一个整数 k ，请你统计并返回该数组中和为 k 的连续子数组的个数。\n",
    "\n",
    "示例 1：\n",
    "输入：nums = [1,1,1], k = 2\n",
    "输出：2\n",
    "索引 0,1  和 1,2\n",
    "\n",
    "示例 2：\n",
    "输入：nums = [1,2,3], k = 3\n",
    "输出：2\n",
    "索引 0,1 和 2"
   ]
  },
  {
   "cell_type": "code",
   "execution_count": 3,
   "metadata": {},
   "outputs": [
    {
     "data": {
      "text/plain": [
       "(2, 2, 0)"
      ]
     },
     "execution_count": 3,
     "metadata": {},
     "output_type": "execute_result"
    }
   ],
   "source": [
    "def f(nums: list, k: int) -> int:\n",
    "    cnt = 0\n",
    "    pre_sum = [0] * (len(nums) + 1)\n",
    "    for i in range(len(nums)):\n",
    "        pre_sum[i + 1] = pre_sum[i] + nums[i]\n",
    "    for i in range(len(pre_sum) - 1, 0, -1):\n",
    "        for j in range(i - 1, -1, -1):\n",
    "            if pre_sum[i] - pre_sum[j] == k:\n",
    "                cnt += 1\n",
    "    return cnt\n",
    "\n",
    "\n",
    "f([1, 1, 1], 2), f([1, 2, 3], 3), f([1], 2)\n"
   ]
  },
  {
   "cell_type": "code",
   "execution_count": 4,
   "metadata": {},
   "outputs": [
    {
     "data": {
      "text/plain": [
       "(2, 2, 0)"
      ]
     },
     "execution_count": 4,
     "metadata": {},
     "output_type": "execute_result"
    }
   ],
   "source": [
    "import collections\n",
    "def subarraySum(nums: list, k: int) -> int:\n",
    "    # num_times 存储某“前缀和”出现的次数，这里用collections.defaultdict来定义它\n",
    "    # 如果某前缀不在此字典中，那么它对应的次数为0\n",
    "    num_times = collections.defaultdict(int)\n",
    "    num_times[0] = 1  # 先给定一个初始值，代表前缀和为0的出现了一次\n",
    "    cur_sum = 0  # 记录到当前位置的前缀和\n",
    "    res = 0\n",
    "    for i in range(len(nums)):\n",
    "        cur_sum += nums[i]  # 计算当前前缀和\n",
    "        if cur_sum - k in num_times:  # 如果前缀和减去目标值k所得到的值在字典中出现，即当前位置前缀和减去之前某一位的前缀和等于目标值\n",
    "            res += num_times[cur_sum - k]\n",
    "        # 下面一句实际上对应两种情况，一种是某cur_sum之前出现过（直接在原来出现的次数上+1即可），\n",
    "        # 另一种是某cur_sum没出现过（理论上应该设为1，但是因为此处用defaultdict存储，如果cur_sum这个key不存在将返回默认的int，也就是0）\n",
    "        # 返回0加上1和直接将其置为1是一样的效果。所以这里统一用一句话包含上述两种情况\n",
    "        num_times[cur_sum] += 1\n",
    "    return res\n",
    "\n",
    "f([1, 1, 1], 2), f([1, 2, 3], 3),f([1],2)\n"
   ]
  },
  {
   "cell_type": "code",
   "execution_count": 12,
   "metadata": {},
   "outputs": [
    {
     "data": {
      "text/plain": [
       "(2, 2, 0)"
      ]
     },
     "execution_count": 12,
     "metadata": {},
     "output_type": "execute_result"
    }
   ],
   "source": [
    "def f(nums: list, k: int) -> int:\n",
    "    prefix = {0: 1}  # 存储前缀和 初始0为1\n",
    "    cur_sum = 0\n",
    "    cnt = 0\n",
    "    for n in nums:\n",
    "        cur_sum += n\n",
    "        need_sum = cur_sum - k  # 需要寻找的前缀和\n",
    "        cnt += prefix.get(need_sum, 0)  # 加上其次数\n",
    "        prefix[cur_sum] = prefix.get(cur_sum, 0) + 1  # 前缀和计数\n",
    "\n",
    "    return cnt\n",
    "\n",
    "\n",
    "f([1, 1, 1], 2), f([1, 2, 3], 3), f([1], 0)\n"
   ]
  },
  {
   "cell_type": "code",
   "execution_count": 2,
   "metadata": {},
   "outputs": [
    {
     "data": {
      "text/plain": [
       "(2, 2, 0)"
      ]
     },
     "execution_count": 2,
     "metadata": {},
     "output_type": "execute_result"
    }
   ],
   "source": [
    "import collections\n",
    "\n",
    "\n",
    "def f(nums: list, k: int) -> int:\n",
    "    prefix = collections.defaultdict(int)\n",
    "    prefix[0] = 1  # 先给定一个初始值，代表前缀和为0的出现了一次\n",
    "    cur_sum = 0  # 记录到当前位置的前缀和\n",
    "    res = 0\n",
    "    for i in range(len(nums)):\n",
    "        cur_sum += nums[i]  # 计算当前前缀和\n",
    "        res += prefix[cur_sum - k]\n",
    "        prefix[cur_sum] += 1\n",
    "    return res\n",
    "\n",
    "\n",
    "f([1, 1, 1], 2), f([1, 2, 3], 3), f([1], 2)\n"
   ]
  },
  {
   "cell_type": "code",
   "execution_count": null,
   "metadata": {},
   "outputs": [],
   "source": []
  }
 ],
 "metadata": {
  "interpreter": {
   "hash": "004de6046f1b3d314f33fdb43a2dc798b2646e5600efd8df5066c8b63a00ff6d"
  },
  "kernelspec": {
   "display_name": "Python 3.8.10 64-bit",
   "language": "python",
   "name": "python3"
  },
  "language_info": {
   "codemirror_mode": {
    "name": "ipython",
    "version": 3
   },
   "file_extension": ".py",
   "mimetype": "text/x-python",
   "name": "python",
   "nbconvert_exporter": "python",
   "pygments_lexer": "ipython3",
   "version": "3.8.10"
  },
  "orig_nbformat": 4
 },
 "nbformat": 4,
 "nbformat_minor": 2
}
