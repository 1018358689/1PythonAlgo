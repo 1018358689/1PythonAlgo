{
 "cells": [
  {
   "cell_type": "markdown",
   "metadata": {},
   "source": [
    "对于一个 正整数，如果它和除了它自身以外的所有 正因子 之和相等，我们称它为 「完美数」。\n",
    "给定一个 整数 n， 如果是完美数，返回 true，否则返回 false\n",
    "\n",
    "示例 1：\n",
    "输入：num = 28\n",
    "输出：true\n",
    "解释：28 = 1 + 2 + 4 + 7 + 14\n",
    "1, 2, 4, 7, 和 14 是 28 的所有正因子。\n",
    "\n",
    "示例 2：\n",
    "输入：num = 6\n",
    "输出：true\n",
    "\n",
    "示例 3：\n",
    "输入：num = 496\n",
    "输出：true\n",
    "\n",
    "示例 4：\n",
    "输入：num = 8128\n",
    "输出：true\n",
    "\n",
    "示例 5：\n",
    "输入：num = 2\n",
    "输出：false"
   ]
  },
  {
   "cell_type": "code",
   "execution_count": 5,
   "metadata": {},
   "outputs": [
    {
     "data": {
      "text/plain": [
       "False"
      ]
     },
     "execution_count": 5,
     "metadata": {},
     "output_type": "execute_result"
    }
   ],
   "source": [
    "def f(num):\n",
    "    if num == 1:\n",
    "        return False\n",
    "    Sum = 1\n",
    "    for i in range(2, int(num**.5) + 1):\n",
    "        if num % i == 0:\n",
    "            Sum += i\n",
    "            Sum += num / i\n",
    "    if int(num**.5)**2 == num:\n",
    "        Sum -= num**.5\n",
    "    return Sum == num\n",
    "\n",
    "\n",
    "# f(496), f(6), f(28), f(8128), f(33550336)\n",
    "f(36)"
   ]
  },
  {
   "cell_type": "code",
   "execution_count": 10,
   "metadata": {},
   "outputs": [
    {
     "data": {
      "text/plain": [
       "484"
      ]
     },
     "execution_count": 10,
     "metadata": {},
     "output_type": "execute_result"
    }
   ],
   "source": [
    "int(496**.5)**2"
   ]
  },
  {
   "cell_type": "code",
   "execution_count": 14,
   "metadata": {},
   "outputs": [
    {
     "data": {
      "text/plain": [
       "(True, True)"
      ]
     },
     "execution_count": 14,
     "metadata": {},
     "output_type": "execute_result"
    }
   ],
   "source": [
    "def f(num):\n",
    "    return num in [6, 28, 496, 8128, 33550336]\n",
    "\n",
    "f(496),f(6)\n"
   ]
  },
  {
   "cell_type": "code",
   "execution_count": 22,
   "metadata": {},
   "outputs": [
    {
     "data": {
      "text/plain": [
       "(True, True)"
      ]
     },
     "execution_count": 22,
     "metadata": {},
     "output_type": "execute_result"
    }
   ],
   "source": [
    "def f(num):\n",
    "    if num == 1:\n",
    "        return False\n",
    "    l = set()\n",
    "    l.add(1)\n",
    "    for i in range(2, int(num**.5) + 1):\n",
    "        if num % i == 0:\n",
    "            l.add(i)\n",
    "            l.add(num / i)\n",
    "\n",
    "    return sum(l) == num\n",
    "\n",
    "\n",
    "f(496), f(6)\n"
   ]
  },
  {
   "cell_type": "code",
   "execution_count": null,
   "metadata": {},
   "outputs": [],
   "source": []
  }
 ],
 "metadata": {
  "interpreter": {
   "hash": "004de6046f1b3d314f33fdb43a2dc798b2646e5600efd8df5066c8b63a00ff6d"
  },
  "kernelspec": {
   "display_name": "Python 3.8.10 64-bit",
   "language": "python",
   "name": "python3"
  },
  "language_info": {
   "codemirror_mode": {
    "name": "ipython",
    "version": 3
   },
   "file_extension": ".py",
   "mimetype": "text/x-python",
   "name": "python",
   "nbconvert_exporter": "python",
   "pygments_lexer": "ipython3",
   "version": "3.8.10"
  },
  "orig_nbformat": 4
 },
 "nbformat": 4,
 "nbformat_minor": 2
}
