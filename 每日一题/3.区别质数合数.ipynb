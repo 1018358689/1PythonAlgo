{
 "cells": [
  {
   "cell_type": "markdown",
   "source": [
    "## 对于任意给定的正整数序列，区分出其中的质数与合数。"
   ],
   "metadata": {}
  },
  {
   "cell_type": "markdown",
   "source": [
    "* 质数：在大于1的自然数中,除了1和它本身以外不再有其他因数。\r\n",
    "* 合数：在大于1的自然数中,除了1和它本身以外还能被其他数（0除外）整除的数。\r\n",
    "* 判断质数合数，只要判断 2到这个数的算术平方根内的数 有没有质因数 可以整除 余数为0，没有即质，有即合。\r\n",
    "* for...else... 是针对for里有break，当for触发break则不执行else内容。"
   ],
   "metadata": {}
  },
  {
   "cell_type": "code",
   "execution_count": 56,
   "source": [
    "def find(list):\r\n",
    "    l = []\r\n",
    "    for i in list:\r\n",
    "        if i < 2:\r\n",
    "            l.append(str(i))\r\n",
    "        else:\r\n",
    "            for j in range(2, int(i**.5) + 1):\r\n",
    "                if i % j == 0:\r\n",
    "                    l.append('合')\r\n",
    "                    break\r\n",
    "            else:\r\n",
    "                l.append('质')\r\n",
    "    return l\r\n",
    "\r\n",
    "find([1, 2, 83, 4, 5, 97, 10, 20, 56, 80, 90])"
   ],
   "outputs": [
    {
     "output_type": "execute_result",
     "data": {
      "text/plain": [
       "['1', '质', '质', '合', '质', '质', '合', '合', '合', '合', '合']"
      ]
     },
     "metadata": {},
     "execution_count": 56
    }
   ],
   "metadata": {}
  },
  {
   "cell_type": "code",
   "execution_count": 44,
   "source": [
    "import random\r\n",
    "l = range(1,101)\r\n",
    "find(l)"
   ],
   "outputs": [
    {
     "output_type": "execute_result",
     "data": {
      "text/plain": [
       "[1,\n",
       " '质',\n",
       " '质',\n",
       " '合',\n",
       " '合',\n",
       " '合',\n",
       " '合',\n",
       " '合',\n",
       " '合',\n",
       " '合',\n",
       " '合',\n",
       " '合',\n",
       " '合',\n",
       " '合',\n",
       " '合',\n",
       " '合',\n",
       " '合',\n",
       " '合',\n",
       " '合',\n",
       " '合',\n",
       " '合',\n",
       " '合',\n",
       " '合',\n",
       " '合',\n",
       " '合',\n",
       " '合',\n",
       " '合',\n",
       " '合',\n",
       " '合',\n",
       " '合',\n",
       " '合',\n",
       " '合',\n",
       " '合',\n",
       " '合',\n",
       " '合',\n",
       " '合',\n",
       " '合',\n",
       " '合',\n",
       " '合',\n",
       " '合',\n",
       " '合',\n",
       " '合',\n",
       " '合',\n",
       " '合',\n",
       " '合',\n",
       " '合',\n",
       " '合',\n",
       " '合',\n",
       " '合',\n",
       " '合',\n",
       " '合',\n",
       " '合',\n",
       " '合',\n",
       " '合',\n",
       " '合',\n",
       " '合',\n",
       " '合',\n",
       " '合',\n",
       " '合',\n",
       " '合',\n",
       " '合',\n",
       " '合',\n",
       " '合',\n",
       " '合',\n",
       " '合',\n",
       " '合',\n",
       " '合',\n",
       " '合',\n",
       " '合',\n",
       " '合',\n",
       " '合',\n",
       " '合',\n",
       " '合',\n",
       " '合',\n",
       " '合',\n",
       " '合',\n",
       " '合',\n",
       " '合',\n",
       " '合',\n",
       " '合',\n",
       " '合',\n",
       " '合',\n",
       " '合',\n",
       " '合',\n",
       " '合',\n",
       " '合',\n",
       " '合',\n",
       " '合',\n",
       " '合',\n",
       " '合',\n",
       " '合',\n",
       " '合',\n",
       " '合',\n",
       " '合',\n",
       " '合',\n",
       " '合',\n",
       " '合',\n",
       " '合',\n",
       " '合',\n",
       " '合']"
      ]
     },
     "metadata": {},
     "execution_count": 44
    }
   ],
   "metadata": {}
  },
  {
   "cell_type": "code",
   "execution_count": 2,
   "source": [
    "l =[]\r\n",
    "#l+2"
   ],
   "outputs": [],
   "metadata": {}
  },
  {
   "cell_type": "code",
   "execution_count": 1,
   "source": [
    "def countPrimes3(n):\r\n",
    "    if n <= 2:\r\n",
    "        return 0\r\n",
    "    else:\r\n",
    "        res = []\r\n",
    "        for i in range(2, n):\r\n",
    "            flag = 0\r\n",
    "            for j in res:\r\n",
    "                if i % j == 0:\r\n",
    "                    flag = 1\r\n",
    "\r\n",
    "            if flag == 0:\r\n",
    "                res.append(i)\r\n",
    "        return len(res)\r\n",
    "countPrimes3(100)"
   ],
   "outputs": [
    {
     "output_type": "execute_result",
     "data": {
      "text/plain": [
       "25"
      ]
     },
     "metadata": {},
     "execution_count": 1
    }
   ],
   "metadata": {}
  },
  {
   "cell_type": "code",
   "execution_count": null,
   "source": [],
   "outputs": [],
   "metadata": {}
  }
 ],
 "metadata": {
  "interpreter": {
   "hash": "af407973ba12897262deda9d8992946cc1a9873fff2de40f1acc89cdf9010052"
  },
  "kernelspec": {
   "name": "python3",
   "display_name": "Python 3.8.11 64-bit ('pytorch': conda)"
  },
  "language_info": {
   "codemirror_mode": {
    "name": "ipython",
    "version": 3
   },
   "file_extension": ".py",
   "mimetype": "text/x-python",
   "name": "python",
   "nbconvert_exporter": "python",
   "pygments_lexer": "ipython3",
   "version": "3.8.11"
  },
  "toc": {
   "base_numbering": 1,
   "nav_menu": {},
   "number_sections": true,
   "sideBar": true,
   "skip_h1_title": false,
   "title_cell": "Table of Contents",
   "title_sidebar": "Contents",
   "toc_cell": false,
   "toc_position": {},
   "toc_section_display": true,
   "toc_window_display": false
  },
  "varInspector": {
   "cols": {
    "lenName": 16,
    "lenType": 16,
    "lenVar": 40
   },
   "kernels_config": {
    "python": {
     "delete_cmd_postfix": "",
     "delete_cmd_prefix": "del ",
     "library": "var_list.py",
     "varRefreshCmd": "print(var_dic_list())"
    },
    "r": {
     "delete_cmd_postfix": ") ",
     "delete_cmd_prefix": "rm(",
     "library": "var_list.r",
     "varRefreshCmd": "cat(var_dic_list()) "
    }
   },
   "types_to_exclude": [
    "module",
    "function",
    "builtin_function_or_method",
    "instance",
    "_Feature"
   ],
   "window_display": true
  }
 },
 "nbformat": 4,
 "nbformat_minor": 2
}