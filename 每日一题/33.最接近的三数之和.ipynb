{
 "cells": [
  {
   "cell_type": "markdown",
   "metadata": {},
   "source": [
    "给定一个包括 n 个整数的数组 nums 和 一个目标值 target。找出 nums 中的三个整数，使得它们的和与 target 最接近。返回这三个数及他们的和。假定每组输入只存在唯一答案。\n",
    "\n",
    "例如，给定数组 nums = [-1，2，1，-4], 和 target = 1\n",
    "\n",
    "与 target 最接近的三个数及他们的和为-1 + 2 + 1 = 2\n"
   ]
  },
  {
   "cell_type": "code",
   "execution_count": 34,
   "metadata": {},
   "outputs": [
    {
     "name": "stdout",
     "output_type": "stream",
     "text": [
      "[(-1, 1, 2), 2]\n",
      "[(-7, 4, 7), 4]\n"
     ]
    }
   ],
   "source": [
    "def f(nums, target):\n",
    "    res = []  # 存结果\n",
    "    best = 10**7\n",
    "    nums.sort()  # 先升序 方便后续判断左右移动\n",
    "    for i in range(len(nums) - 2):\n",
    "        L, R = i + 1, len(nums) - 1  # 三个数初始化索引 i  L  R\n",
    "        while L < R:\n",
    "            cur = nums[i] + nums[L] + nums[R]  # 计算和\n",
    "            if abs(cur - target) < abs(best - target):\n",
    "                best = cur  # 更新best最接近target值\n",
    "                res = [(nums[i], nums[L], nums[R]), best]  # 存储结果\n",
    "            if cur == target:  # 刚好abs为0 直接返回\n",
    "                return [(nums[i], nums[L], nums[R]), cur]\n",
    "            elif cur < target:  # 因为已经是升序，所以和小于target那么 L右移 这样才能增大cur\n",
    "                L += 1\n",
    "            else:  # 和大于target那么 R左移\n",
    "                R -= 1\n",
    "    return res\n",
    "\n",
    "print(f([-1, 2, 1, -4], 1))\n",
    "print(f([-2, -7, 7, 4], 5))\n"
   ]
  },
  {
   "cell_type": "code",
   "execution_count": 35,
   "metadata": {},
   "outputs": [
    {
     "name": "stdout",
     "output_type": "stream",
     "text": [
      "((-1, 2, 1), 2)\n",
      "((-7, 7, 4), 4)\n"
     ]
    }
   ],
   "source": [
    "from itertools import combinations\n",
    "\n",
    "\n",
    "def f(nums, target):\n",
    "    nums_sum = ((c, sum(c)) for c in combinations(nums, 3))\n",
    "    return min(nums_sum, key=lambda x: abs(x[1] - target))\n",
    "\n",
    "\n",
    "print(f([-1, 2, 1, -4], 1))\n",
    "print(f([-2, -7, 7, 4], 5))"
   ]
  },
  {
   "cell_type": "code",
   "execution_count": 8,
   "metadata": {},
   "outputs": [
    {
     "data": {
      "text/plain": [
       "2"
      ]
     },
     "execution_count": 8,
     "metadata": {},
     "output_type": "execute_result"
    }
   ],
   "source": [
    "abs(1-3)"
   ]
  },
  {
   "cell_type": "code",
   "execution_count": null,
   "metadata": {},
   "outputs": [],
   "source": [
    "def f(nums, target):\n",
    "    nums = nums.sort()\n",
    "    "
   ]
  }
 ],
 "metadata": {
  "interpreter": {
   "hash": "004de6046f1b3d314f33fdb43a2dc798b2646e5600efd8df5066c8b63a00ff6d"
  },
  "kernelspec": {
   "display_name": "Python 3.8.10 64-bit",
   "name": "python3"
  },
  "language_info": {
   "codemirror_mode": {
    "name": "ipython",
    "version": 3
   },
   "file_extension": ".py",
   "mimetype": "text/x-python",
   "name": "python",
   "nbconvert_exporter": "python",
   "pygments_lexer": "ipython3",
   "version": "3.8.10"
  },
  "orig_nbformat": 4
 },
 "nbformat": 4,
 "nbformat_minor": 2
}
