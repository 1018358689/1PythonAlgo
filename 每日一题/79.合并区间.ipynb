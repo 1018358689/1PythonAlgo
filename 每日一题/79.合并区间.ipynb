{
 "cells": [
  {
   "cell_type": "markdown",
   "metadata": {},
   "source": [
    "20211219合并区间\n",
    "以数组 intervals 表示若干个区间的集合，其中单个区间为 intervals[i] = [starti, endi] 。请你合并所有重叠的区间，并返回一个不重叠的区间数组，该数组需恰好覆盖输入中的所有区间。\n",
    "示例 1：\n",
    "输入：intervals = [[1,3],[2,6],[8,10],[15,18]]\n",
    "输出：[[1,6],[8,10],[15,18]]\n",
    "解释：区间 [1,3] 和 [2,6] 重叠, 将它们合并为 [1,6].\n",
    "示例 2：\n",
    "输入：intervals = [[1,4],[4,5]]\n",
    "输出：[[1,5]]\n",
    "解释：区间 [1,4] 和 [4,5] 可被视为重叠区间。"
   ]
  },
  {
   "cell_type": "code",
   "execution_count": 12,
   "metadata": {},
   "outputs": [
    {
     "data": {
      "text/plain": [
       "([[1, 6], [8, 10], [15, 18]], [[1, 5]])"
      ]
     },
     "execution_count": 12,
     "metadata": {},
     "output_type": "execute_result"
    }
   ],
   "source": [
    "def f(intervals: list) -> list:\n",
    "    intervals.sort()\n",
    "    res = [intervals[0]]\n",
    "    for i in range(1, len(intervals)):\n",
    "        cur = intervals[i]\n",
    "        last = res[-1]\n",
    "        if cur[0] <= last[1]:  # 查看res[-1][1]是否需要改变，不改变则追加cur\n",
    "            last[1] = max(cur[1], last[1])\n",
    "        else:\n",
    "            res.append(cur)\n",
    "    return res\n",
    "\n",
    "\n",
    "f([[1, 3], [2, 6], [8, 10], [15, 18]]), f([[1, 4], [4, 5]])\n",
    "# f([[1, 3], [1, 2], [3, 6]])\n"
   ]
  },
  {
   "cell_type": "code",
   "execution_count": null,
   "metadata": {},
   "outputs": [],
   "source": []
  }
 ],
 "metadata": {
  "interpreter": {
   "hash": "aee8b7b246df8f9039afb4144a1f6fd8d2ca17a180786b69acc140d282b71a49"
  },
  "kernelspec": {
   "display_name": "Python 3.8.10 64-bit",
   "language": "python",
   "name": "python3"
  },
  "language_info": {
   "codemirror_mode": {
    "name": "ipython",
    "version": 3
   },
   "file_extension": ".py",
   "mimetype": "text/x-python",
   "name": "python",
   "nbconvert_exporter": "python",
   "pygments_lexer": "ipython3",
   "version": "3.8.10"
  },
  "orig_nbformat": 4
 },
 "nbformat": 4,
 "nbformat_minor": 2
}
