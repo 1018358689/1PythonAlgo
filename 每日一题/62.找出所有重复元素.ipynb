{
 "cells": [
  {
   "cell_type": "markdown",
   "metadata": {},
   "source": [
    "找出所有重复元素\n",
    "输入一个列表,找出其中所有的重复元素的集合.\n",
    "\n",
    "示例 1:\n",
    "输入: [1,6,4,5,2,2,3,4,5,5]\n",
    "输出: {2,4,5}\n",
    "\n",
    "示例 2:\n",
    "输入: [1,2,3]\n",
    "输出: None\n",
    "\n",
    "示例 3:\n",
    "输入: []\n",
    "输出: None\n"
   ]
  },
  {
   "cell_type": "code",
   "execution_count": 6,
   "metadata": {},
   "outputs": [
    {
     "data": {
      "text/plain": [
       "({2, 4, 5}, None, None)"
      ]
     },
     "execution_count": 6,
     "metadata": {},
     "output_type": "execute_result"
    }
   ],
   "source": [
    "def f(lst):\n",
    "    d = {}\n",
    "    for i in lst:\n",
    "        if i not in d: d[i] = 0\n",
    "        d[i] += 1\n",
    "    r = {k for k in d if d[k] > 1}\n",
    "    return r if r else None\n",
    "\n",
    "\n",
    "f([1, 6, 4, 5, 2, 2, 3, 4, 5, 5]),f([1,2,3]),f([])\n"
   ]
  },
  {
   "cell_type": "code",
   "execution_count": 8,
   "metadata": {},
   "outputs": [
    {
     "data": {
      "text/plain": [
       "({2, 4, 5}, None, None)"
      ]
     },
     "execution_count": 8,
     "metadata": {},
     "output_type": "execute_result"
    }
   ],
   "source": [
    "from collections import Counter\n",
    "\n",
    "\n",
    "def f(lst):\n",
    "    d = Counter(lst)\n",
    "    r = {k for k in d if d[k] > 1}\n",
    "    return r if r else None\n",
    "\n",
    "\n",
    "f([1, 6, 4, 5, 2, 2, 3, 4, 5, 5]), f([1, 2, 3]), f([])\n"
   ]
  },
  {
   "cell_type": "code",
   "execution_count": 13,
   "metadata": {},
   "outputs": [
    {
     "data": {
      "text/plain": [
       "({2, 4, 5}, None, None)"
      ]
     },
     "execution_count": 13,
     "metadata": {},
     "output_type": "execute_result"
    }
   ],
   "source": [
    "def f(lst):\n",
    "    r = set()\n",
    "    for i in lst:\n",
    "        if lst.count(i)>1:r.add(i)\n",
    "    return r if r else None\n",
    "\n",
    "\n",
    "f([1, 6, 4, 5, 2, 2, 3, 4, 5, 5]),f([1,2,3]),f([])\n"
   ]
  },
  {
   "cell_type": "code",
   "execution_count": 11,
   "metadata": {},
   "outputs": [
    {
     "data": {
      "text/plain": [
       "{5}"
      ]
     },
     "execution_count": 11,
     "metadata": {},
     "output_type": "execute_result"
    }
   ],
   "source": [
    "d = set()\n",
    "d.add(5)\n",
    "d"
   ]
  },
  {
   "cell_type": "code",
   "execution_count": 2,
   "metadata": {},
   "outputs": [
    {
     "data": {
      "text/plain": [
       "(7, 0, 0)"
      ]
     },
     "execution_count": 2,
     "metadata": {},
     "output_type": "execute_result"
    }
   ],
   "source": [
    "def f(lst):\n",
    "    r = 0\n",
    "    for i in lst:\n",
    "        r^=i\n",
    "    return r\n",
    "\n",
    "\n",
    "f([1,2,2,3,3,1,4,3]),f([1,2,3]),f([])\n"
   ]
  },
  {
   "cell_type": "code",
   "execution_count": 4,
   "metadata": {},
   "outputs": [
    {
     "data": {
      "text/plain": [
       "6"
      ]
     },
     "execution_count": 4,
     "metadata": {},
     "output_type": "execute_result"
    }
   ],
   "source": [
    "0^2^4"
   ]
  },
  {
   "cell_type": "code",
   "execution_count": null,
   "metadata": {},
   "outputs": [],
   "source": []
  }
 ],
 "metadata": {
  "interpreter": {
   "hash": "aee8b7b246df8f9039afb4144a1f6fd8d2ca17a180786b69acc140d282b71a49"
  },
  "kernelspec": {
   "display_name": "Python 3.8.10 64-bit",
   "language": "python",
   "name": "python3"
  },
  "language_info": {
   "codemirror_mode": {
    "name": "ipython",
    "version": 3
   },
   "file_extension": ".py",
   "mimetype": "text/x-python",
   "name": "python",
   "nbconvert_exporter": "python",
   "pygments_lexer": "ipython3",
   "version": "3.8.10"
  },
  "orig_nbformat": 4
 },
 "nbformat": 4,
 "nbformat_minor": 2
}
