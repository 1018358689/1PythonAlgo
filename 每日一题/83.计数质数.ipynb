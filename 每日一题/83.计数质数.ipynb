{
 "cells": [
  {
   "cell_type": "markdown",
   "metadata": {},
   "source": [
    "今日题目（1223）：计数质数\n",
    "质数:只能被1和自身整除\n",
    "统计所有小于非负整数 n 的质数的数量。\n",
    "示例 1：\n",
    "输入：n = 10\n",
    "输出：4\n",
    "解释：小于 10 的质数一共有 4 个, 它们是 2, 3, 5, 7 。\n",
    "示例 2：\n",
    "输入：n = 0\n",
    "输出：0\n",
    "示例 3：\n",
    "输入：n = 1\n",
    "输出：0"
   ]
  },
  {
   "cell_type": "code",
   "execution_count": 15,
   "metadata": {},
   "outputs": [
    {
     "data": {
      "text/plain": [
       "5"
      ]
     },
     "execution_count": 15,
     "metadata": {},
     "output_type": "execute_result"
    }
   ],
   "source": [
    "def f(n: int):\n",
    "    cnt = 0\n",
    "    for i in range(2, n):\n",
    "        for j in range(2, int(i**.5) + 1):\n",
    "            if i % j == 0:\n",
    "                break\n",
    "        else:\n",
    "            cnt += 1\n",
    "    return cnt\n",
    "\n",
    "\n",
    "f(12)\n"
   ]
  },
  {
   "cell_type": "markdown",
   "metadata": {},
   "source": [
    "一个非常牛逼的算法,叫做厄拉多塞筛法. 比如说求20以内质数的个数,首先0,1不是质数.2是第一个质数,然后把20以内所有2的倍数划去.2后面紧跟的数即为下一个质数3,然后把3所有的倍数划去.3后面紧跟的数即为下一个质数5,再把5所有的倍数划去.以此类推."
   ]
  },
  {
   "cell_type": "code",
   "execution_count": 4,
   "metadata": {},
   "outputs": [
    {
     "data": {
      "text/plain": [
       "5"
      ]
     },
     "execution_count": 4,
     "metadata": {},
     "output_type": "execute_result"
    }
   ],
   "source": [
    "def f(n: int):\n",
    "    if n < 3:\n",
    "        return 0\n",
    "    else:\n",
    "        # 首先生成了一个全部为1的列表\n",
    "        output = [1] * n\n",
    "        # 因为0和1不是质数,所以列表的前两个位置赋值为0\n",
    "        output[0], output[1] = 0, 0\n",
    "        # 此时从index = 2开始遍历,output[2]==1,即表明第一个质数为2,然后将2的倍数对应的索引\n",
    "        # 全部赋值为0. 此时output[3] == 1,即表明下一个质数为3,同样划去3的倍数.以此类推.\n",
    "        for i in range(2, int(n**0.5) + 1):\n",
    "            if output[i] == 1:\n",
    "                output[i * i:n:i] = [0] * len(output[i * i:n:i])\n",
    "    # 最后output中的数字1表明该位置上的索引数为质数,然后求和即可.\n",
    "    return sum(output)\n",
    "\n",
    "\n",
    "f(12)"
   ]
  },
  {
   "cell_type": "markdown",
   "metadata": {},
   "source": [
    "\n",
    "在上面遍历索引的时候用到了一个非常好的技巧. 即i是从(2,int(n**0.5)+1)而非(2,n).这个技巧是可以验证的,比如说求9以内的质数个数,那么只要划掉sqrt(9)以内的质数倍数,剩下的即全为质数. 所以在划去倍数的时候也是从i*i开始划掉,而不是i+i."
   ]
  },
  {
   "cell_type": "code",
   "execution_count": 7,
   "metadata": {},
   "outputs": [
    {
     "data": {
      "text/plain": [
       "9592"
      ]
     },
     "execution_count": 7,
     "metadata": {},
     "output_type": "execute_result"
    }
   ],
   "source": [
    "def f(n: int) -> int:\n",
    "    if n < 3: return 0\n",
    "    # 定义数组标记是否是质数\n",
    "    mark = [1] * n\n",
    "    mark[0] = mark[1] = 0\n",
    "    for i in range(2, int(n**.5) + 1):\n",
    "        # 将质数的倍数标记为合数\n",
    "        if mark[i]:\n",
    "            # 从 i*i 开始标记\n",
    "            for j in range(i * i, n, i):\n",
    "                mark[j] = 0\n",
    "\n",
    "    return sum(mark)\n",
    "\n",
    "\n",
    "f(100000)"
   ]
  },
  {
   "cell_type": "code",
   "execution_count": 14,
   "metadata": {},
   "outputs": [
    {
     "data": {
      "text/plain": [
       "348513"
      ]
     },
     "execution_count": 14,
     "metadata": {},
     "output_type": "execute_result"
    }
   ],
   "source": [
    "def f(n: int) -> int:\n",
    "    if n < 3: return 0\n",
    "    # 定义数组标记是否是质数\n",
    "    mark = [1] * n\n",
    "    mark[0] = mark[1] = 0\n",
    "    for i in range(2, n):\n",
    "        # 将质数的倍数标记为合数\n",
    "        if mark[i]:\n",
    "            # 从 i+i 开始标记\n",
    "            for j in range(2 * i, n, i):\n",
    "                mark[j] = 0\n",
    "\n",
    "    return sum(mark)\n",
    "\n",
    "\n",
    "f(5000000)"
   ]
  },
  {
   "cell_type": "code",
   "execution_count": 16,
   "metadata": {},
   "outputs": [
    {
     "data": {
      "text/plain": [
       "5"
      ]
     },
     "execution_count": 16,
     "metadata": {},
     "output_type": "execute_result"
    }
   ],
   "source": [
    "def f(n: int) -> int:\n",
    "    if n < 3: return 0\n",
    "    # 定义数组标记是否是质数\n",
    "    mark = [1] * n\n",
    "    mark[0] = mark[1] = 0\n",
    "    for i in range(2, int(n**.5) + 1):\n",
    "        # 将质数的倍数标记为合数\n",
    "        if mark[i]:\n",
    "            # 从 i*i 开始标记\n",
    "            for j in range(i * i, n, i):\n",
    "                mark[j] = 0\n",
    "\n",
    "    return sum(mark)\n",
    "\n",
    "\n",
    "f(12)"
   ]
  },
  {
   "cell_type": "code",
   "execution_count": null,
   "metadata": {},
   "outputs": [],
   "source": []
  }
 ],
 "metadata": {
  "interpreter": {
   "hash": "aee8b7b246df8f9039afb4144a1f6fd8d2ca17a180786b69acc140d282b71a49"
  },
  "kernelspec": {
   "display_name": "Python 3.8.10 64-bit",
   "language": "python",
   "name": "python3"
  },
  "language_info": {
   "codemirror_mode": {
    "name": "ipython",
    "version": 3
   },
   "file_extension": ".py",
   "mimetype": "text/x-python",
   "name": "python",
   "nbconvert_exporter": "python",
   "pygments_lexer": "ipython3",
   "version": "3.8.10"
  },
  "orig_nbformat": 4
 },
 "nbformat": 4,
 "nbformat_minor": 2
}
