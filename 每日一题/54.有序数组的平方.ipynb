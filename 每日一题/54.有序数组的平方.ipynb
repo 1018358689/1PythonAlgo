{
 "cells": [
  {
   "cell_type": "markdown",
   "metadata": {},
   "source": [
    "给你一个按 非递减顺序 排序的整数数组 nums，返回 每个数字的平方 组成的新数组，要求也按 非递减顺序 排序。\n",
    "\n",
    "\n",
    "示例 1：\n",
    "输入：nums = [-4,-1,0,3,10]\n",
    "输出：[0,1,9,16,100]\n",
    "解释：平方后，数组变为 [16,1,0,9,100]\n",
    "排序后，数组变为 [0,1,9,16,100]\n",
    "\n",
    "示例 2：\n",
    "输入：nums = [-7,-3,2,3,11]\n",
    "输出：[4,9,9,49,121]"
   ]
  },
  {
   "cell_type": "code",
   "execution_count": 8,
   "metadata": {},
   "outputs": [
    {
     "data": {
      "text/plain": [
       "([0, 1, 9, 16, 100], [4, 9, 9, 49, 121], [4, 9, 9, 49, 121])"
      ]
     },
     "execution_count": 8,
     "metadata": {},
     "output_type": "execute_result"
    }
   ],
   "source": [
    "def f(nums):\n",
    "    return sorted(i**2 for i in nums)\n",
    "\n",
    "\n",
    "f([-4, -1, 0, 3, 10]), f([-7, -3, 2, 3, 11]), f([-7, -3, 2, 3, 11])\n"
   ]
  },
  {
   "cell_type": "code",
   "execution_count": 19,
   "metadata": {},
   "outputs": [
    {
     "data": {
      "text/plain": [
       "([0, 1, 9, 16, 100], [4, 9, 9, 49, 121], [4, 9, 9, 49, 121], [1])"
      ]
     },
     "execution_count": 19,
     "metadata": {},
     "output_type": "execute_result"
    }
   ],
   "source": [
    "# 双指针\n",
    "# 因为nums已经升序,但可能有负数,所以平方后的最大值,要不最左,要不最右,将最大值放r最后一个\n",
    "def f(nums):\n",
    "    length = len(nums)\n",
    "    r = [0] * length\n",
    "    L, R, p = 0, length - 1, length - 1\n",
    "    while L <= R:\n",
    "        if nums[L]**2 < nums[R]**2:\n",
    "            r[p] = nums[R]**2\n",
    "            R -= 1\n",
    "        else:\n",
    "            r[p] = nums[L]**2\n",
    "            L += 1\n",
    "        p -= 1\n",
    "    return r\n",
    "\n",
    "\n",
    "f([-4, -1, 0, 3, 10]), f([-7, -3, 2, 3, 11]), f([-7, -3, 2, 3, 11]),f([-1])\n"
   ]
  },
  {
   "cell_type": "code",
   "execution_count": 28,
   "metadata": {},
   "outputs": [
    {
     "data": {
      "text/plain": [
       "([0, 1, 9, 16, 100],\n",
       " [4, 9, 9, 49, 121],\n",
       " [4, 9, 9, 49, 121],\n",
       " [1],\n",
       " [1, 4, 9, 25])"
      ]
     },
     "execution_count": 28,
     "metadata": {},
     "output_type": "execute_result"
    }
   ],
   "source": [
    "# 计数排序\n",
    "def f(nums):\n",
    "    if len(nums) == 1: return [nums[0]**2]\n",
    "    maxn = max((nums[0]**2, nums[-1]**2))\n",
    "    for i, n in enumerate(nums):\n",
    "        if n >= 0:\n",
    "            if i == 0:\n",
    "                minn = n**2\n",
    "            else:\n",
    "                minn = min((n**2, nums[i - 1]**2))\n",
    "            break\n",
    "    else:\n",
    "        minn = nums[-1]**2\n",
    "    length = maxn - minn + 1\n",
    "    r, count = [], [0] * length\n",
    "    for i in nums:\n",
    "        count[i**2 - minn] += 1\n",
    "    for i in range(length):\n",
    "        r += [i + minn] * count[i]\n",
    "    return r\n",
    "\n",
    "\n",
    "f([-4, -1, 0, 3, 10]), f([-7, -3, 2, 3, 11]), f([-7, -3, 2, 3, 11]), f([-1]), f([-5, -3, -2, -1])\n",
    "# f([-10000,-9999,-7,-5,0,0,10000])"
   ]
  },
  {
   "cell_type": "code",
   "execution_count": null,
   "metadata": {},
   "outputs": [],
   "source": []
  }
 ],
 "metadata": {
  "interpreter": {
   "hash": "aee8b7b246df8f9039afb4144a1f6fd8d2ca17a180786b69acc140d282b71a49"
  },
  "kernelspec": {
   "display_name": "Python 3.8.10 64-bit",
   "language": "python",
   "name": "python3"
  },
  "language_info": {
   "codemirror_mode": {
    "name": "ipython",
    "version": 3
   },
   "file_extension": ".py",
   "mimetype": "text/x-python",
   "name": "python",
   "nbconvert_exporter": "python",
   "pygments_lexer": "ipython3",
   "version": "3.8.10"
  },
  "orig_nbformat": 4
 },
 "nbformat": 4,
 "nbformat_minor": 2
}
