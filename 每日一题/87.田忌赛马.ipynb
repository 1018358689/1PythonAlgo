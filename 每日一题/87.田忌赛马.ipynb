{
 "cells": [
  {
   "cell_type": "markdown",
   "metadata": {},
   "source": [
    "田忌赛马，数组horses1是田忌的马，数组horses2是齐王的马，数组中的元素就是马的战斗力，假如你是谋士孙膑，请你帮田忌安排赛马顺序，使胜场最多。\n",
    "假设马匹数量一致,且孙膑只需给出一种安排顺序即可。\n",
    "\n",
    "例如:\n",
    "输入 horses1 = [2, 7, 11, 15], horses2 = [1, 10, 4, 11]\n",
    "输出 [2, 11, 7, 15]\n",
    "解释 2>1; 11>10; 7>4; 15>11 这样安排顺序 田忌的四匹马可以全胜"
   ]
  },
  {
   "cell_type": "code",
   "execution_count": null,
   "metadata": {},
   "outputs": [],
   "source": [
    "# 最优策略是将齐王和田忌的马按照战斗力排序，然后按照战斗力排名一一对比：\n",
    "# 如果田忌的马能赢，那就比赛，如果赢不了，那就换个垫底的来送人头，保存实力。"
   ]
  },
  {
   "cell_type": "code",
   "execution_count": null,
   "metadata": {},
   "outputs": [],
   "source": [
    "import random\n",
    "\n",
    "\n",
    "def g(n: int):\n",
    "    horse1 = [random.randint(1, 100) for _ in range(n)]\n",
    "    horse2 = [random.randint(1, 100) for _ in range(n)]\n",
    "    return horse1, horse2\n",
    "\n",
    "g(100000)"
   ]
  },
  {
   "cell_type": "code",
   "execution_count": 1,
   "metadata": {},
   "outputs": [
    {
     "data": {
      "text/plain": [
       "[2, 11, 7, 15]"
      ]
     },
     "execution_count": 1,
     "metadata": {},
     "output_type": "execute_result"
    }
   ],
   "source": [
    "from bisect import bisect\n",
    "\n",
    "\n",
    "def f(horses1: list, horses2: list):\n",
    "    horses1.sort()\n",
    "    r = []\n",
    "    for h2 in horses2:\n",
    "        index = bisect(horses1, h2)\n",
    "        if index < len(horses1):\n",
    "            r.append(horses1.pop(index))\n",
    "        else:\n",
    "            r.append(horses1.pop(0))\n",
    "    return r\n",
    "\n",
    "# f(*g(100000))\n",
    "f([2, 7, 11, 15], [1, 10, 16, 11])\n"
   ]
  },
  {
   "cell_type": "code",
   "execution_count": 5,
   "metadata": {},
   "outputs": [
    {
     "data": {
      "text/plain": [
       "[2, 11, 7, 15]"
      ]
     },
     "execution_count": 5,
     "metadata": {},
     "output_type": "execute_result"
    }
   ],
   "source": [
    "from bisect import bisect\n",
    "\n",
    "\n",
    "def f(horses1: list, horses2: list):\n",
    "    horses1.sort()\n",
    "    return [\n",
    "        horses1.pop(index) if (index := bisect(horses1, h2)) < len(horses1) else horses1.pop(0)\n",
    "        for h2 in horses2\n",
    "    ]\n",
    "\n",
    "\n",
    "f([2, 7, 11, 15], [1, 10, 16, 11])\n",
    "# f(*g(100000))\n"
   ]
  },
  {
   "cell_type": "code",
   "execution_count": 8,
   "metadata": {},
   "outputs": [
    {
     "data": {
      "text/plain": [
       "[2, 11, 7, 15]"
      ]
     },
     "execution_count": 8,
     "metadata": {},
     "output_type": "execute_result"
    }
   ],
   "source": [
    "from bisect import bisect\n",
    "\n",
    "\n",
    "def f(horses1: list, horses2: list):\n",
    "    horses1.sort()\n",
    "    res = []\n",
    "    for h2 in horses2:\n",
    "        l, r = 0, len(horses1) - 1\n",
    "        while l <= r:\n",
    "            m = (l + r) // 2\n",
    "            if h2 >= horses1[m]:\n",
    "                l = m + 1\n",
    "            else:\n",
    "                r = m - 1\n",
    "        index = r + 1\n",
    "        if index < len(horses1):\n",
    "            res.append(horses1.pop(index))\n",
    "        else:\n",
    "            res.append(horses1.pop(0))\n",
    "    return res\n",
    "\n",
    "\n",
    "f([2, 7, 11, 15], [1, 10, 16, 11])\n",
    "# f(*g(100000))\n"
   ]
  },
  {
   "cell_type": "code",
   "execution_count": 7,
   "metadata": {},
   "outputs": [
    {
     "data": {
      "text/plain": [
       "[2, 11, 7, 15]"
      ]
     },
     "execution_count": 7,
     "metadata": {},
     "output_type": "execute_result"
    }
   ],
   "source": [
    "# 力扣超时\n",
    "def f(A: list, B: list) -> list:\n",
    "    res = []\n",
    "    for b in B:\n",
    "        r = float('inf')\n",
    "        for i, a in enumerate(A):\n",
    "            if a > b and (a - b) < r:\n",
    "                r = a - b\n",
    "                index = i\n",
    "        if r != float('inf'):\n",
    "            res.append(A.pop(index))\n",
    "        else:\n",
    "            res.append(A.pop(A.index(min(A))))\n",
    "    return res\n",
    "\n",
    "\n",
    "f([2, 7, 11, 15], [1, 10, 16, 11])\n",
    "# f(*g(10000))\n"
   ]
  },
  {
   "cell_type": "code",
   "execution_count": null,
   "metadata": {},
   "outputs": [],
   "source": []
  }
 ],
 "metadata": {
  "interpreter": {
   "hash": "004de6046f1b3d314f33fdb43a2dc798b2646e5600efd8df5066c8b63a00ff6d"
  },
  "kernelspec": {
   "display_name": "Python 3.8.10 64-bit",
   "language": "python",
   "name": "python3"
  },
  "language_info": {
   "codemirror_mode": {
    "name": "ipython",
    "version": 3
   },
   "file_extension": ".py",
   "mimetype": "text/x-python",
   "name": "python",
   "nbconvert_exporter": "python",
   "pygments_lexer": "ipython3",
   "version": "3.8.10"
  },
  "orig_nbformat": 4
 },
 "nbformat": 4,
 "nbformat_minor": 2
}
