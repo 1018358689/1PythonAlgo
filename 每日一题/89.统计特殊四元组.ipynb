{
 "cells": [
  {
   "cell_type": "markdown",
   "metadata": {},
   "source": [
    "给你一个 下标从 0 开始 的整数数组 nums ，返回满足下述条件的 不同 四元组 (a, b, c, d) 的 数目 ：\n",
    "\n",
    "nums[a] + nums[b] + nums[c] == nums[d] ，且\n",
    "a < b < c < d\n",
    " \n",
    "\n",
    "示例 1：\n",
    "输入：nums = [1,2,3,6]\n",
    "输出：1\n",
    "解释：满足要求的唯一一个四元组是 (0, 1, 2, 3) 因为 1 + 2 + 3 == 6 。\n",
    "\n",
    "示例 2：\n",
    "输入：nums = [3,3,6,4,5]\n",
    "输出：0\n",
    "解释：[3,3,6,4,5] 中不存在满足要求的四元组。\n",
    "\n",
    "示例 3：\n",
    "输入：nums = [1,1,1,3,5]\n",
    "输出：4\n",
    "解释：满足要求的 4 个四元组如下：\n",
    "- (0, 1, 2, 3): 1 + 1 + 1 == 3\n",
    "- (0, 1, 3, 4): 1 + 1 + 3 == 5\n",
    "- (0, 2, 3, 4): 1 + 1 + 3 == 5\n",
    "- (1, 2, 3, 4): 1 + 1 + 3 == 5\n",
    "\n"
   ]
  },
  {
   "cell_type": "code",
   "execution_count": 3,
   "metadata": {},
   "outputs": [
    {
     "data": {
      "text/plain": [
       "[('A', 'B', 'B', 'D'),\n",
       " ('A', 'B', 'B', 'E'),\n",
       " ('A', 'B', 'D', 'E'),\n",
       " ('A', 'B', 'D', 'E'),\n",
       " ('B', 'B', 'D', 'E')]"
      ]
     },
     "execution_count": 3,
     "metadata": {},
     "output_type": "execute_result"
    }
   ],
   "source": [
    "from itertools import combinations\n",
    "C = [i for i in combinations('ABBDE', r=4)]\n",
    "C"
   ]
  },
  {
   "cell_type": "code",
   "execution_count": 4,
   "metadata": {},
   "outputs": [
    {
     "data": {
      "text/plain": [
       "(1, 0, 4)"
      ]
     },
     "execution_count": 4,
     "metadata": {},
     "output_type": "execute_result"
    }
   ],
   "source": [
    "def f(nums: list):\n",
    "    cnt = 0\n",
    "    for a, b, c, d in combinations(nums, 4):\n",
    "        if a + b + c == d:\n",
    "            cnt += 1\n",
    "    return cnt\n",
    "\n",
    "\n",
    "f([1, 2, 3, 6]), f([3, 3, 6, 4, 5]), f([1, 1, 1, 3, 5])\n"
   ]
  },
  {
   "cell_type": "code",
   "execution_count": 33,
   "metadata": {},
   "outputs": [
    {
     "data": {
      "text/plain": [
       "(1, 0, 4)"
      ]
     },
     "execution_count": 33,
     "metadata": {},
     "output_type": "execute_result"
    }
   ],
   "source": [
    "def f(nums: list):\n",
    "    return len([111 for a, b, c, d in combinations(nums, 4) if a + b + c == d])\n",
    "\n",
    "\n",
    "f([1, 2, 3, 6]), f([3, 3, 6, 4, 5]), f([1, 1, 1, 3, 5])\n"
   ]
  },
  {
   "cell_type": "code",
   "execution_count": 31,
   "metadata": {},
   "outputs": [
    {
     "data": {
      "text/plain": [
       "(1, 0, 4)"
      ]
     },
     "execution_count": 31,
     "metadata": {},
     "output_type": "execute_result"
    }
   ],
   "source": [
    "def f(nums: list):\n",
    "    return sum(a + b + c == d for a, b, c, d in combinations(nums, 4))\n",
    "\n",
    "\n",
    "f([1, 2, 3, 6]), f([3, 3, 6, 4, 5]), f([1, 1, 1, 3, 5])\n"
   ]
  },
  {
   "cell_type": "code",
   "execution_count": 12,
   "metadata": {},
   "outputs": [
    {
     "data": {
      "text/plain": [
       "(1, 0, 4)"
      ]
     },
     "execution_count": 12,
     "metadata": {},
     "output_type": "execute_result"
    }
   ],
   "source": [
    "def f(nums: list):\n",
    "    return sum([1 for a, b, c, d in combinations(nums, 4) if a + b + c == d])\n",
    "\n",
    "\n",
    "f([1, 2, 3, 6]), f([3, 3, 6, 4, 5]), f([1, 1, 1, 3, 5])\n"
   ]
  },
  {
   "cell_type": "code",
   "execution_count": 7,
   "metadata": {},
   "outputs": [
    {
     "data": {
      "text/plain": [
       "[(1, 2), (3, 4)]"
      ]
     },
     "execution_count": 7,
     "metadata": {},
     "output_type": "execute_result"
    }
   ],
   "source": [
    "[(a,b) for a,b in [(1,2),(3,4)]]"
   ]
  },
  {
   "cell_type": "code",
   "execution_count": 30,
   "metadata": {},
   "outputs": [
    {
     "data": {
      "text/plain": [
       "(1, 0, 4)"
      ]
     },
     "execution_count": 30,
     "metadata": {},
     "output_type": "execute_result"
    }
   ],
   "source": [
    "def f(nums: list):\n",
    "    path = []\n",
    "    cnt = 0\n",
    "\n",
    "    def dfs(si):\n",
    "        nonlocal cnt\n",
    "        if len(path) == 4 and sum(path[:3]) == path[-1]:\n",
    "            cnt += 1\n",
    "            return\n",
    "        if len(path) == 4:\n",
    "            return\n",
    "        for i in range(si, len(nums)):\n",
    "            path.append(nums[i])\n",
    "            dfs(i + 1)\n",
    "            path.pop()\n",
    "\n",
    "    dfs(0)\n",
    "    return cnt\n",
    "\n",
    "\n",
    "f([1, 2, 3, 6]), f([3, 3, 6, 4, 5]), f([1, 1, 1, 3, 5])\n",
    "# f([1, 2, 3, 6])"
   ]
  },
  {
   "cell_type": "code",
   "execution_count": 51,
   "metadata": {},
   "outputs": [
    {
     "data": {
      "text/plain": [
       "3"
      ]
     },
     "execution_count": 51,
     "metadata": {},
     "output_type": "execute_result"
    }
   ],
   "source": [
    "24>>3"
   ]
  },
  {
   "cell_type": "code",
   "execution_count": null,
   "metadata": {},
   "outputs": [],
   "source": []
  }
 ],
 "metadata": {
  "interpreter": {
   "hash": "004de6046f1b3d314f33fdb43a2dc798b2646e5600efd8df5066c8b63a00ff6d"
  },
  "kernelspec": {
   "display_name": "Python 3.8.10 64-bit",
   "language": "python",
   "name": "python3"
  },
  "language_info": {
   "codemirror_mode": {
    "name": "ipython",
    "version": 3
   },
   "file_extension": ".py",
   "mimetype": "text/x-python",
   "name": "python",
   "nbconvert_exporter": "python",
   "pygments_lexer": "ipython3",
   "version": "3.8.10"
  },
  "orig_nbformat": 4
 },
 "nbformat": 4,
 "nbformat_minor": 2
}
