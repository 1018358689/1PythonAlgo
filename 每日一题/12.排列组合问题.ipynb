{
 "cells": [
  {
   "cell_type": "code",
   "execution_count": null,
   "metadata": {},
   "outputs": [],
   "source": [
    "## 有四个连续数字：1、2、3、4，能组成多少个互不相同且无重复数字的三位数？各是多少？提示：for循环 range() \n",
    "## 变形1：无规则的(4,7,9,2)呢？ 无规则且有重复(4,7,2,2)呢？\n",
    "## 变形2：盒子里有分别标着ABCD的4个球，一次从中摸2个球，摸出几种可能，分别是什么？  \n",
    "## 变形3：有重复球 AABCD五个球呢？\n",
    "\n",
    "### [i for i in range()]  ==  list(range()) "
   ]
  },
  {
   "cell_type": "code",
   "execution_count": 1,
   "metadata": {},
   "outputs": [
    {
     "name": "stdout",
     "output_type": "stream",
     "text": [
      "[123, 124, 132, 134, 142, 143, 213, 214, 231, 234, 241, 243, 312, 314, 321, 324, 341, 342, 412, 413, 421, 423, 431, 432] 24\n"
     ]
    }
   ],
   "source": [
    "# 遍历全部可能，把有重复的剃掉。\n",
    "# 1234\n",
    "res = []\n",
    "for i in range(1, 5):\n",
    "    for j in range(1, 5):\n",
    "        for k in range(1, 5):\n",
    "            if i != j and i != k and j != k:\n",
    "                res.append(i * 100 + j * 10 + k)\n",
    "print(res, len(res))\n"
   ]
  },
  {
   "cell_type": "code",
   "execution_count": 17,
   "metadata": {},
   "outputs": [
    {
     "name": "stdout",
     "output_type": "stream",
     "text": [
      "[479, 472, 497, 492, 427, 429, 749, 742, 794, 792, 724, 729, 947, 942, 974, 972, 924, 927, 247, 249, 274, 279, 294, 297] 24\n"
     ]
    }
   ],
   "source": [
    "# 遍历全部可能，把有重复的剃掉。\n",
    "# 4792\n",
    "res = []\n",
    "for i in [4, 7, 9, 2]:\n",
    "    for j in [4, 7, 9, 2]:\n",
    "        for k in [4, 7, 9, 2]:\n",
    "            if i != j and i != k and j != k:\n",
    "                res.append(i * 100 + j * 10 + k)\n",
    "print(res, len(res))"
   ]
  },
  {
   "cell_type": "code",
   "execution_count": 1,
   "metadata": {},
   "outputs": [
    {
     "name": "stdout",
     "output_type": "stream",
     "text": [
      "[472, 472, 427, 427, 742, 742, 724, 724, 247, 274, 247, 274] 12\n"
     ]
    }
   ],
   "source": [
    "# 遍历全部可能，把有重复的剃掉。\n",
    "# 4722\n",
    "res = []\n",
    "for i in [4, 7, 2, 2]:\n",
    "    for j in [4, 7, 2, 2]:\n",
    "        for k in [4, 7, 2, 2]:\n",
    "            if i != j and i != k and j != k:\n",
    "                res.append(i * 100 + j * 10 + k)\n",
    "print(res, len(res))"
   ]
  },
  {
   "cell_type": "code",
   "execution_count": 2,
   "metadata": {},
   "outputs": [
    {
     "name": "stdout",
     "output_type": "stream",
     "text": [
      "[123, 124, 132, 134, 142, 143, 213, 214, 231, 234, 241, 243, 312, 314, 321, 324, 341, 342, 412, 413, 421, 423, 431, 432] 24\n"
     ]
    }
   ],
   "source": [
    "from itertools import permutations\n",
    "\n",
    "res = [i for i in permutations('1234', r=3)]\n",
    "ress = [int(''.join(i)) for i in res]\n",
    "print(ress, len(ress))\n"
   ]
  },
  {
   "cell_type": "code",
   "execution_count": 4,
   "metadata": {},
   "outputs": [
    {
     "name": "stdout",
     "output_type": "stream",
     "text": [
      "([724, 272, 247, 427, 274, 224, 742, 722, 227, 242, 472, 422], 12)\n"
     ]
    }
   ],
   "source": [
    "def f(num_list):\n",
    "    res = set([i for i in permutations(num_list, r=3)])\n",
    "    ress = [i[0] * 100 + i[1] * 10 + i[2] for i in res]\n",
    "    return ress, len(res)\n",
    "\n",
    "\n",
    "print(f([4, 7, 2, 2]))\n"
   ]
  },
  {
   "cell_type": "code",
   "execution_count": 26,
   "metadata": {},
   "outputs": [
    {
     "name": "stdout",
     "output_type": "stream",
     "text": [
      "([724, 272, 247, 427, 274, 224, 742, 722, 227, 242, 472, 422], 12)\n"
     ]
    }
   ],
   "source": [
    "from itertools import permutations\n",
    "\n",
    "\n",
    "def P(num_list):\n",
    "    res = set(permutations(num_list, r=3))\n",
    "    ress = [i[0] * 100 + i[1] * 10 + i[2] for i in res]\n",
    "    return ress, len(res)\n",
    "\n",
    "\n",
    "print(P([4, 7, 2, 2]))"
   ]
  },
  {
   "cell_type": "code",
   "execution_count": 28,
   "metadata": {},
   "outputs": [
    {
     "name": "stdout",
     "output_type": "stream",
     "text": [
      "{('B', 'C'), ('A', 'B'), ('B', 'D'), ('A', 'C'), ('A', 'D'), ('C', 'D'), ('A', 'A')} 7\n"
     ]
    }
   ],
   "source": [
    "from itertools import combinations\n",
    "\n",
    "C = set(combinations('AABCD', r=2))\n",
    "print(C, len(C))\n"
   ]
  },
  {
   "cell_type": "markdown",
   "metadata": {},
   "source": [
    "* 排列问题 有序问题 A(n,r) = n*(n-1)*(n-2)*...*(n-r+1) 共r个相乘\n",
    "* 组合问题 无序问题 C(n,r) = A(n,r)/r!  =  (n*(n-1)*(n-2)*...*(n-r+1))/(r*(r-1)*...*1)  r个相乘 除以 r的阶乘"
   ]
  },
  {
   "cell_type": "code",
   "execution_count": 1,
   "metadata": {},
   "outputs": [
    {
     "name": "stdout",
     "output_type": "stream",
     "text": [
      "[('A', 'A'), ('A', 'B'), ('A', 'C'), ('B', 'A'), ('B', 'B'), ('B', 'C'), ('C', 'A'), ('C', 'B'), ('C', 'C')]\n",
      "[('A', 'A'), ('A', 'B'), ('A', 'C'), ('B', 'A'), ('B', 'B'), ('B', 'C'), ('C', 'A'), ('C', 'B'), ('C', 'C')]\n",
      "[('A', 'B'), ('A', 'C'), ('B', 'A'), ('B', 'C'), ('C', 'A'), ('C', 'B')]\n",
      "[('A', 'B'), ('A', 'C'), ('B', 'C')]\n",
      "[('A', 'A'), ('A', 'B'), ('A', 'C'), ('B', 'B'), ('B', 'C'), ('C', 'C')]\n",
      "[('A', 'A'), ('A', 'C'), ('A', 'D'), ('B', 'A'), ('B', 'C'), ('B', 'D'), ('C', 'A'), ('C', 'C'), ('C', 'D')]\n"
     ]
    }
   ],
   "source": [
    "from itertools import permutations\n",
    "from itertools import product\n",
    "from itertools import combinations\n",
    "from itertools import combinations_with_replacement\n",
    "\n",
    "D = [i for i in product('ABC', repeat=2)] # 笛卡尔积 C(3,1)*C(3,1)=9 两次从'ABC'里取一个，可以重复 如AA 可以回头 如AB 和 BA\n",
    "D2 = list(product('ABC', repeat=2)) # 笛卡尔积 C(3,1)*C(3,1)=9\n",
    "A = [i for i in permutations('ABC', r=2)] # 排列 A(3,2)=6\n",
    "C = [i for i in combinations('ABC', r=2)] # 组合 C(3,2)=3\n",
    "CR = [i for i in combinations_with_replacement('ABC', r=2)] # 组合(可重复) C(3,1)*C(3,1)-3=6 两次从'ABC'里取一个，可以重复 如AA 但不回头\n",
    "\n",
    "print(D)\n",
    "print(D2) # 和D等价\n",
    "print(A)\n",
    "print(C)\n",
    "print(CR)\n",
    "print(list(product('ABC','ACD')))"
   ]
  },
  {
   "cell_type": "code",
   "execution_count": null,
   "metadata": {},
   "outputs": [
    {
     "data": {
      "text/plain": [
       "[('A', 'D'),\n",
       " ('A', 'E'),\n",
       " ('A', 'F'),\n",
       " ('B', 'D'),\n",
       " ('B', 'E'),\n",
       " ('B', 'F'),\n",
       " ('C', 'D'),\n",
       " ('C', 'E'),\n",
       " ('C', 'F')]"
      ]
     },
     "metadata": {},
     "output_type": "display_data"
    }
   ],
   "source": [
    "from itertools import product\n",
    "a,b = 'ABC','DEF'\n",
    "[i for i in product(a,b)] # 和下面两个for 等价 # 只有product可以两个参数为可迭代对象 repeat默认1"
   ]
  },
  {
   "cell_type": "code",
   "execution_count": null,
   "metadata": {},
   "outputs": [
    {
     "data": {
      "text/plain": [
       "[('A', 'D'),\n",
       " ('A', 'E'),\n",
       " ('A', 'F'),\n",
       " ('B', 'D'),\n",
       " ('B', 'E'),\n",
       " ('B', 'F'),\n",
       " ('C', 'D'),\n",
       " ('C', 'E'),\n",
       " ('C', 'F')]"
      ]
     },
     "metadata": {},
     "output_type": "display_data"
    }
   ],
   "source": [
    "a, b = 'ABC', 'DEF'\n",
    "[(i, j) for i in a for j in b]\n"
   ]
  },
  {
   "cell_type": "code",
   "execution_count": null,
   "metadata": {},
   "outputs": [
    {
     "ename": "TypeError",
     "evalue": "'str' object cannot be interpreted as an integer",
     "output_type": "error",
     "traceback": [
      "\u001b[1;31m---------------------------------------------------------------------------\u001b[0m\n",
      "\u001b[1;31mTypeError\u001b[0m                                 Traceback (most recent call last)\n",
      "\u001b[1;32mC:\\Users\\ADMINI~1\\AppData\\Local\\Temp/ipykernel_27388/2825542449.py\u001b[0m in \u001b[0;36m<module>\u001b[1;34m\u001b[0m\n",
      "\u001b[0;32m      1\u001b[0m \u001b[1;32mfrom\u001b[0m \u001b[0mitertools\u001b[0m \u001b[1;32mimport\u001b[0m \u001b[0mcombinations_with_replacement\u001b[0m\u001b[1;33m\u001b[0m\u001b[1;33m\u001b[0m\u001b[0m\n",
      "\u001b[0;32m      2\u001b[0m \u001b[1;33m\u001b[0m\u001b[0m\n",
      "\u001b[1;32m----> 3\u001b[1;33m \u001b[0mCR\u001b[0m \u001b[1;33m=\u001b[0m \u001b[1;33m[\u001b[0m\u001b[0mi\u001b[0m \u001b[1;32mfor\u001b[0m \u001b[0mi\u001b[0m \u001b[1;32min\u001b[0m \u001b[0mcombinations_with_replacement\u001b[0m\u001b[1;33m(\u001b[0m\u001b[1;34m'ABC'\u001b[0m\u001b[1;33m,\u001b[0m \u001b[1;34m'DEF'\u001b[0m\u001b[1;33m)\u001b[0m\u001b[1;33m]\u001b[0m\u001b[1;33m\u001b[0m\u001b[1;33m\u001b[0m\u001b[0m\n",
      "\u001b[0m\n",
      "\u001b[1;31mTypeError\u001b[0m: 'str' object cannot be interpreted as an integer"
     ]
    }
   ],
   "source": [
    "from itertools import combinations_with_replacement\n",
    "\n",
    "CR = [i for i in combinations_with_replacement('ABC', 'DEF')]\n"
   ]
  },
  {
   "cell_type": "markdown",
   "metadata": {},
   "source": [
    "给定一个列表(无重复数字)和目标target，找出列表中a,b,c满足 a+b+c=target的所有组合"
   ]
  },
  {
   "cell_type": "code",
   "execution_count": 11,
   "metadata": {},
   "outputs": [
    {
     "name": "stdout",
     "output_type": "stream",
     "text": [
      "[(2, 3, 7), (2, 4, 6), (3, 4, 5)]\n",
      "[(-3, 1, 2), (-1, -2, 3)]\n"
     ]
    }
   ],
   "source": [
    "from itertools import combinations\n",
    "\n",
    "\n",
    "def f(lst, target):\n",
    "    return [c for c in combinations(lst, 3) if sum(c) == target]\n",
    "\n",
    "\n",
    "print(f([2, 3, 4, 5, 6, 7], 12))\n",
    "print(f([-3, -1, -2, 1, 2, 3], 0))\n"
   ]
  },
  {
   "cell_type": "code",
   "execution_count": 2,
   "metadata": {},
   "outputs": [
    {
     "data": {
      "text/plain": [
       "[(2, 3, 7), (2, 4, 6), (3, 4, 5)]"
      ]
     },
     "execution_count": 2,
     "metadata": {},
     "output_type": "execute_result"
    }
   ],
   "source": [
    "from itertools import combinations\n",
    "\n",
    "\n",
    "def f(lst, target):\n",
    "    for c in combinations(lst, 3):\n",
    "        if sum(c) == target:\n",
    "            yield c\n",
    "\n",
    "\n",
    "list(f([2, 3, 4, 5, 6, 7], 12))\n"
   ]
  },
  {
   "cell_type": "code",
   "execution_count": 1,
   "metadata": {},
   "outputs": [
    {
     "name": "stdout",
     "output_type": "stream",
     "text": [
      "[(2, 3, 7), (2, 4, 6), (3, 4, 5)]\n"
     ]
    }
   ],
   "source": [
    "from itertools import combinations\n",
    "\n",
    "res = []\n",
    "lst = [2, 3, 4, 5, 6, 7]\n",
    "target = 12\n",
    "c = combinations(lst, 3)\n",
    "for i in c:\n",
    "    if sum(i) == target:\n",
    "        res.append(i)\n",
    "print(res)\n"
   ]
  },
  {
   "cell_type": "code",
   "execution_count": 13,
   "metadata": {},
   "outputs": [
    {
     "data": {
      "text/plain": [
       "[3, 1, 3, 3, 3, 3, 3, 3, 3, 3]"
      ]
     },
     "execution_count": 13,
     "metadata": {},
     "output_type": "execute_result"
    }
   ],
   "source": [
    "[i if i == 1 else 3 for i in range(10)]\n"
   ]
  },
  {
   "cell_type": "code",
   "execution_count": 14,
   "metadata": {},
   "outputs": [
    {
     "data": {
      "text/plain": [
       "[1]"
      ]
     },
     "execution_count": 14,
     "metadata": {},
     "output_type": "execute_result"
    }
   ],
   "source": [
    "[i for i in range(10) if i == 1]\n"
   ]
  },
  {
   "cell_type": "code",
   "execution_count": null,
   "metadata": {},
   "outputs": [],
   "source": []
  }
 ],
 "metadata": {
  "interpreter": {
   "hash": "004de6046f1b3d314f33fdb43a2dc798b2646e5600efd8df5066c8b63a00ff6d"
  },
  "kernelspec": {
   "display_name": "Python 3.8.10 64-bit",
   "name": "python3"
  },
  "language_info": {
   "codemirror_mode": {
    "name": "ipython",
    "version": 3
   },
   "file_extension": ".py",
   "mimetype": "text/x-python",
   "name": "python",
   "nbconvert_exporter": "python",
   "pygments_lexer": "ipython3",
   "version": "3.8.10"
  },
  "orig_nbformat": 4
 },
 "nbformat": 4,
 "nbformat_minor": 2
}
