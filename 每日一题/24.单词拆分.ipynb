{
 "cells": [
  {
   "cell_type": "markdown",
   "metadata": {},
   "source": [
    "思考题：给定一个非空字符串 s 和一个包含非空单词的列表 wordDict，判定 s 是否可以拆分为一个或多个在字典中出现的单词。\n",
    "\n",
    "说明：\n",
    "拆分时可以重复使用字典中的单词。\n",
    "你可以假设字典中没有重复的单词。\n",
    "\n",
    "输入: s = 'applepenapple', wordDict = ['apple', 'pen']\n",
    "输出: true\n",
    "解释: 返回 true 因为 'applepenapple' 可以被拆分成 'apple pen apple'。\n",
    "     注意你可以重复使用字典中的单词。\n",
    "\n",
    "输入: s = 'catsandog', wordDict = ['cats', 'dog', 'sand', 'and', 'cat']\n",
    "输出: false"
   ]
  },
  {
   "cell_type": "code",
   "execution_count": 9,
   "metadata": {},
   "outputs": [
    {
     "data": {
      "text/plain": [
       "True"
      ]
     },
     "execution_count": 9,
     "metadata": {},
     "output_type": "execute_result"
    }
   ],
   "source": [
    "def wordBreak(s, wordDict):\n",
    "    n = len(s)\n",
    "    dp = [True] + [False] * n\n",
    "    for i in range(n):\n",
    "        for j in range(i + 1, n + 1):\n",
    "            if dp[i] == True and (s[i:j] in wordDict):\n",
    "                dp[j] = True\n",
    "    return dp[n]\n",
    "\n",
    "s = 'applepenapple'\n",
    "wordDict = ['apple', 'pen']\n",
    "wordBreak(s, wordDict)"
   ]
  },
  {
   "cell_type": "code",
   "execution_count": 1,
   "metadata": {},
   "outputs": [
    {
     "data": {
      "text/plain": [
       "True"
      ]
     },
     "execution_count": 1,
     "metadata": {},
     "output_type": "execute_result"
    }
   ],
   "source": [
    "def wordBreak(s, wordDict):\n",
    "    # 初始化dp数组\n",
    "    # dp[i]表示 s[0:i+1]的字符串可被划分\n",
    "    dp = [False] * (len(s) + 1)\n",
    "    dp[0] = True\n",
    "\n",
    "    # 状态转移方程：\n",
    "    # dp [i + len(word)] = dp[i] and (word in wordDict)\n",
    "    # 这里是自底向上dp\n",
    "    for i in range(len(s)):\n",
    "        # 如果当前可划分 向上遍历计算更新其他位置\n",
    "        if dp[i]:\n",
    "            for word in wordDict:\n",
    "                if i + len(word) <= len(dp) - 1 and s[i:i + len(word)] == word:\n",
    "                    dp[i + len(word)] = True\n",
    "    return dp[-1]\n",
    "\n",
    "s = 'applepenapple'\n",
    "wordDict = ['apple', 'pen']\n",
    "wordBreak(s, wordDict)"
   ]
  },
  {
   "cell_type": "code",
   "execution_count": null,
   "metadata": {},
   "outputs": [],
   "source": []
  }
 ],
 "metadata": {
  "interpreter": {
   "hash": "c4ad5ea48e514d01460cc445844b834a989a2c2841070b3c01ff1cc90b35d215"
  },
  "kernelspec": {
   "display_name": "Python 3.8.11 64-bit ('paddlegan': conda)",
   "name": "python3"
  },
  "language_info": {
   "codemirror_mode": {
    "name": "ipython",
    "version": 3
   },
   "file_extension": ".py",
   "mimetype": "text/x-python",
   "name": "python",
   "nbconvert_exporter": "python",
   "pygments_lexer": "ipython3",
   "version": "3.8.11"
  },
  "orig_nbformat": 4
 },
 "nbformat": 4,
 "nbformat_minor": 2
}
