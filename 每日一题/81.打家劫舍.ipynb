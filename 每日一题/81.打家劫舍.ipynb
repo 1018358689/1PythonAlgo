{
 "cells": [
  {
   "cell_type": "markdown",
   "metadata": {},
   "source": [
    "今日题目（1221）：打家劫舍\n",
    "有一个专业的小偷，计划偷窃沿街的房屋。每间房内都藏有一定的现金，影响其偷窃的唯一制约因素就是相邻的房屋装有相互连通的防盗系统，如果两间相邻的房屋在同一晚上被小偷闯入，系统会自动报警。\n",
    "给定一个代表每个房屋存放金额的非负整数数组，计算不触动警报装置的情况下 ，一夜之内能够偷窃到的最高金额。\n",
    "示例 1：\n",
    "输入：[1,2,3,1]\n",
    "输出：4\n",
    "示例 2：\n",
    "输入：[2,7,9,3,1]\n",
    "输出：12"
   ]
  },
  {
   "cell_type": "code",
   "execution_count": 14,
   "metadata": {},
   "outputs": [
    {
     "data": {
      "text/plain": [
       "(4, 12, 1, 3)"
      ]
     },
     "execution_count": 14,
     "metadata": {},
     "output_type": "execute_result"
    }
   ],
   "source": [
    "# 动态规划\n",
    "# dp[i] 至房间i 最多能偷dp[i]金额\n",
    "# dp[i] = max(dp[i-1],dp[i-2]+moneys[i])  i>=2\n",
    "# BaseCase dp[0]=moneys[0]  dp[1]=max(money[0],money[1])\n",
    "def f(moneys: list):\n",
    "    if len(moneys) == 1: return moneys[0]\n",
    "    if len(moneys) == 2: return max(moneys[0], moneys[1])\n",
    "    dp = [-1] * len(moneys)\n",
    "    dp[0] = moneys[0]\n",
    "    dp[1] = max(moneys[0], moneys[1])\n",
    "    for i in range(2, len(dp)):\n",
    "        dp[i] = max(dp[i - 1], dp[i - 2] + moneys[i])\n",
    "    return dp[-1]\n",
    "\n",
    "\n",
    "f([1, 2, 3, 1]), f([2, 7, 9, 3, 1]), f([1]), f([3, 1])\n"
   ]
  },
  {
   "cell_type": "code",
   "execution_count": 16,
   "metadata": {},
   "outputs": [
    {
     "data": {
      "text/plain": [
       "(4, 12, 1, 3)"
      ]
     },
     "execution_count": 16,
     "metadata": {},
     "output_type": "execute_result"
    }
   ],
   "source": [
    "# 动态规划 优化 之和前两项有关\n",
    "# 之和前两项有关 第三项和前两项有关\n",
    "def f(moneys: list):\n",
    "    if len(moneys) == 1: return moneys[0]\n",
    "    if len(moneys) == 2: return max(moneys[0], moneys[1])\n",
    "    prev = moneys[0]\n",
    "    cur = max(moneys[0], moneys[1])\n",
    "    for i in range(2, len(moneys)):\n",
    "        prev, cur = cur, max(prev + moneys[i], cur)\n",
    "    return cur\n",
    "\n",
    "\n",
    "f([1, 2, 3, 1]), f([2, 7, 9, 3, 1]), f([1]), f([3, 1])\n"
   ]
  },
  {
   "cell_type": "code",
   "execution_count": 11,
   "metadata": {},
   "outputs": [
    {
     "data": {
      "text/plain": [
       "(4, 12, 1, 3)"
      ]
     },
     "execution_count": 11,
     "metadata": {},
     "output_type": "execute_result"
    }
   ],
   "source": [
    "# 回溯 力扣超时\n",
    "def f(moneys: list):\n",
    "    money = 0\n",
    "    res = 0\n",
    "\n",
    "    def dfs(si):\n",
    "        nonlocal res, money\n",
    "        if si > len(moneys) - 1:\n",
    "            res = max(res, money)\n",
    "            return\n",
    "        for i in range(si, len(moneys)):\n",
    "            money += moneys[i]\n",
    "            dfs(i + 2)\n",
    "            money -= moneys[i]\n",
    "\n",
    "    dfs(0)\n",
    "    return res\n",
    "\n",
    "\n",
    "f([1, 2, 3, 1]), f([2, 7, 9, 3, 1]), f([1]), f([3, 1])\n"
   ]
  },
  {
   "cell_type": "code",
   "execution_count": null,
   "metadata": {},
   "outputs": [],
   "source": []
  }
 ],
 "metadata": {
  "interpreter": {
   "hash": "004de6046f1b3d314f33fdb43a2dc798b2646e5600efd8df5066c8b63a00ff6d"
  },
  "kernelspec": {
   "display_name": "Python 3.8.10 64-bit",
   "language": "python",
   "name": "python3"
  },
  "language_info": {
   "codemirror_mode": {
    "name": "ipython",
    "version": 3
   },
   "file_extension": ".py",
   "mimetype": "text/x-python",
   "name": "python",
   "nbconvert_exporter": "python",
   "pygments_lexer": "ipython3",
   "version": "3.8.10"
  },
  "orig_nbformat": 4
 },
 "nbformat": 4,
 "nbformat_minor": 2
}
