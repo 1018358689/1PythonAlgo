{
 "cells": [
  {
   "cell_type": "markdown",
   "metadata": {},
   "source": [
    "11.18有效的括号\n",
    "给定一个只包括 '('，')'，'{'，'}'，'['，']' 的字符串，判断字符串是否有效。\n",
    "有效字符串需满足：\n",
    "左括号必须用相同类型的右括号闭合。\n",
    "左括号必须以正确的顺序闭合。\n",
    "注意空字符串可被认为是有效字符串。\n",
    "示例 1:\n",
    "输入: \"()\"\n",
    "输出: true\n",
    "示例 2:\n",
    "输入: \"()[]{}\"\n",
    "输出: true\n",
    "示例 3:\n",
    "输入: \"(]\"\n",
    "输出: false\n",
    "示例 4:\n",
    "输入: \"([)]\"\n",
    "输出: false\n",
    "示例 5:\n",
    "输入: \"{[]}\"\n",
    "输出: true"
   ]
  },
  {
   "cell_type": "code",
   "execution_count": 2,
   "metadata": {},
   "outputs": [
    {
     "data": {
      "text/plain": [
       "(True, True, False, False, True)"
      ]
     },
     "execution_count": 2,
     "metadata": {},
     "output_type": "execute_result"
    }
   ],
   "source": [
    "# https://leetcode-cn.com/problems/valid-parentheses/solution/valid-parentheses-fu-zhu-zhan-fa-by-jin407891080/\n",
    "def f(s: str) -> bool:\n",
    "    ha = {'(': ')', '{': '}', '[': ']', '?': '?'}\n",
    "    stack = ['?']\n",
    "    for c in s:\n",
    "        if c in ha:  # 左括号入栈\n",
    "            stack.append(c)\n",
    "        elif ha[stack.pop()] != c:  # 出现右括号 则判断是否和最近左括号匹配 匹配则弹出 不匹配则false\n",
    "            return False\n",
    "    return len(stack) == 1\n",
    "\n",
    "\n",
    "f(\"()\"), f(\"()[]{}\"), f(\"(]\"), f(\"([)]\"), f(\"{[]}\")\n"
   ]
  },
  {
   "cell_type": "code",
   "execution_count": 6,
   "metadata": {},
   "outputs": [
    {
     "data": {
      "text/plain": [
       "(True, True, False, False, True)"
      ]
     },
     "execution_count": 6,
     "metadata": {},
     "output_type": "execute_result"
    }
   ],
   "source": [
    "def f(st):\n",
    "    dic = {')': '(', '}': '{', ']': '['}\n",
    "    stack = []\n",
    "    for s in st:\n",
    "        if stack and s in dic:\n",
    "            if stack[-1] == dic[s]: stack.pop()\n",
    "            else: return False\n",
    "        else:\n",
    "            stack.append(s)\n",
    "    return not stack\n",
    "\n",
    "\n",
    "f(\"()\"), f(\"()[]{}\"), f(\"(]\"), f(\"([)]\"), f(\"{[]}\")\n"
   ]
  },
  {
   "cell_type": "code",
   "execution_count": 7,
   "metadata": {},
   "outputs": [
    {
     "data": {
      "text/plain": [
       "(True, True, False, False, True)"
      ]
     },
     "execution_count": 7,
     "metadata": {},
     "output_type": "execute_result"
    }
   ],
   "source": [
    "def f(st):\n",
    "    dic = {'(': ')', '{': '}', '[': ']'}\n",
    "    stack = []\n",
    "    for s in st:\n",
    "        if s in dic: stack.append(s)  # 左括号入列\n",
    "        elif stack and dic[stack[-1]] == s: stack.pop()  # 弹出匹配的右括号\n",
    "        else: return False  # 不匹配或空列\n",
    "    return not stack  # 是否全部匹配\n",
    "\n",
    "\n",
    "f(\"()\"), f(\"()[]{}\"), f(\"(]\"), f(\"([)]\"), f(\"{[]}\")\n"
   ]
  },
  {
   "cell_type": "code",
   "execution_count": 1,
   "metadata": {},
   "outputs": [
    {
     "data": {
      "text/plain": [
       "(True, True, False, False, True)"
      ]
     },
     "execution_count": 1,
     "metadata": {},
     "output_type": "execute_result"
    }
   ],
   "source": [
    "# False三种情况：\n",
    "# 1.右括号和左括号不匹配\n",
    "# 2.右括号没有可左括号(栈为空)\n",
    "# 3.遍历完左括号还有多\n",
    "def f(st):\n",
    "    dic = {'(': ')', '{': '}', '[': ']'}\n",
    "    stack = []\n",
    "    for s in st:\n",
    "        if s in dic:\n",
    "            stack.append(s)  # 左括号入列\n",
    "        else:\n",
    "            if stack and dic[stack[-1]] == s:\n",
    "                stack.pop()  # 弹出匹配的右括号\n",
    "            else:  # 左右不匹配 或 碰到空列\n",
    "                return False\n",
    "    return not stack  # 是否全部匹配\n",
    "\n",
    "\n",
    "f(\"()\"), f(\"()[]{}\"), f(\"(]\"), f(\"([)]\"), f(\"{[]}\")\n"
   ]
  },
  {
   "cell_type": "code",
   "execution_count": 13,
   "metadata": {},
   "outputs": [
    {
     "data": {
      "text/plain": [
       "(True, True, False, False, True)"
      ]
     },
     "execution_count": 13,
     "metadata": {},
     "output_type": "execute_result"
    }
   ],
   "source": [
    "def f(st):\n",
    "    while '()' in st or '{}' in st or '[]' in st:\n",
    "        st = st.replace('()', '')\n",
    "        st = st.replace('{}', '')\n",
    "        st = st.replace('[]', '')\n",
    "    return not st\n",
    "\n",
    "\n",
    "f(\"()\"), f(\"()[]{}\"), f(\"(]\"), f(\"([)]\"), f(\"{[]}\")\n"
   ]
  },
  {
   "cell_type": "code",
   "execution_count": 38,
   "metadata": {},
   "outputs": [
    {
     "data": {
      "text/plain": [
       "(True, True, False, False, True)"
      ]
     },
     "execution_count": 38,
     "metadata": {},
     "output_type": "execute_result"
    }
   ],
   "source": [
    "import re\n",
    "\n",
    "def f(st):\n",
    "    while re.findall('\\(\\)|\\{\\}|\\[\\]', st): # 匹配是否存在对括号\n",
    "        st = re.sub('\\(\\)|\\{\\}|\\[\\]', '', st) # 去除所有对括号\n",
    "    return not st\n",
    "\n",
    "\n",
    "f(\"()\"), f(\"()[]{}\"), f(\"(]\"), f(\"([)]\"), f(\"{[]}\")\n"
   ]
  },
  {
   "cell_type": "code",
   "execution_count": 44,
   "metadata": {},
   "outputs": [
    {
     "data": {
      "text/plain": [
       "(True, True, False, False, True)"
      ]
     },
     "execution_count": 44,
     "metadata": {},
     "output_type": "execute_result"
    }
   ],
   "source": [
    "import re\n",
    "\n",
    "\n",
    "def f(st):\n",
    "    st2 = re.sub('\\(\\)|\\{\\}|\\[\\]', '', st)\n",
    "    while st != st2:\n",
    "        st2, st = st, re.sub('\\(\\)|\\{\\}|\\[\\]', '', st)\n",
    "    return not st\n",
    "\n",
    "\n",
    "f(\"()\"), f(\"()[]{}\"), f(\"(]\"), f(\"([)]\"), f(\"{[]}\")\n"
   ]
  },
  {
   "cell_type": "code",
   "execution_count": 25,
   "metadata": {},
   "outputs": [
    {
     "data": {
      "text/plain": [
       "'(a){s}([s]'"
      ]
     },
     "execution_count": 25,
     "metadata": {},
     "output_type": "execute_result"
    }
   ],
   "source": [
    "import re\n",
    "\n",
    "s = '(a){s}([s]'\n",
    "re.findall('\\(\\)|\\{\\}|\\[\\]', s)\n",
    "re.sub('\\(\\)|\\{\\}|\\[\\]', '', s)\n"
   ]
  },
  {
   "cell_type": "code",
   "execution_count": 58,
   "metadata": {},
   "outputs": [
    {
     "data": {
      "text/plain": [
       "(True, True, False, False, True, False, False)"
      ]
     },
     "execution_count": 58,
     "metadata": {},
     "output_type": "execute_result"
    }
   ],
   "source": [
    "def f(n):\n",
    "    left = ['(', '{', '[']\n",
    "    right = [')', '}', ']']\n",
    "    lis = []\n",
    "    for i in n:\n",
    "        if i in left:\n",
    "            lis.append(i)\n",
    "        elif lis and right.index(i) == left.index(lis[-1]):\n",
    "            lis.pop(-1)\n",
    "        else:\n",
    "            return False\n",
    "    return lis == []\n",
    "\n",
    "\n",
    "f(\"()\"), f(\"()[]{}\"), f(\"(]\"), f(\"([)]\"), f(\"{[]}\"), f(')'), f('[)]{}')\n"
   ]
  },
  {
   "cell_type": "code",
   "execution_count": 48,
   "metadata": {},
   "outputs": [
    {
     "ename": "ValueError",
     "evalue": "5 is not in list",
     "output_type": "error",
     "traceback": [
      "\u001b[0;31m---------------------------------------------------------------------------\u001b[0m",
      "\u001b[0;31mValueError\u001b[0m                                Traceback (most recent call last)",
      "\u001b[0;32m/var/folders/f9/08y44z4j3bsfzm1cv4wrdf6w0000gn/T/ipykernel_1268/527967952.py\u001b[0m in \u001b[0;36m<module>\u001b[0;34m\u001b[0m\n\u001b[1;32m      1\u001b[0m \u001b[0ml\u001b[0m \u001b[0;34m=\u001b[0m \u001b[0;34m[\u001b[0m\u001b[0;36m1\u001b[0m\u001b[0;34m,\u001b[0m\u001b[0;36m2\u001b[0m\u001b[0;34m,\u001b[0m\u001b[0;36m3\u001b[0m\u001b[0;34m]\u001b[0m\u001b[0;34m\u001b[0m\u001b[0;34m\u001b[0m\u001b[0m\n\u001b[0;32m----> 2\u001b[0;31m \u001b[0ml\u001b[0m\u001b[0;34m.\u001b[0m\u001b[0mindex\u001b[0m\u001b[0;34m(\u001b[0m\u001b[0;36m5\u001b[0m\u001b[0;34m)\u001b[0m\u001b[0;34m\u001b[0m\u001b[0;34m\u001b[0m\u001b[0m\n\u001b[0m",
      "\u001b[0;31mValueError\u001b[0m: 5 is not in list"
     ]
    }
   ],
   "source": [
    "l = [1,2,3]\n",
    "l.index(5)"
   ]
  },
  {
   "cell_type": "code",
   "execution_count": 56,
   "metadata": {},
   "outputs": [
    {
     "data": {
      "text/plain": [
       "'abc'"
      ]
     },
     "execution_count": 56,
     "metadata": {},
     "output_type": "execute_result"
    }
   ],
   "source": [
    "'abc'.replace('f','1')"
   ]
  },
  {
   "cell_type": "code",
   "execution_count": 2,
   "metadata": {},
   "outputs": [
    {
     "data": {
      "text/plain": [
       "['a', 'b', 'c', 'd']"
      ]
     },
     "execution_count": 2,
     "metadata": {},
     "output_type": "execute_result"
    }
   ],
   "source": [
    "s = 'abdc'\n",
    "sorted(s)"
   ]
  },
  {
   "cell_type": "code",
   "execution_count": null,
   "metadata": {},
   "outputs": [],
   "source": []
  }
 ],
 "metadata": {
  "interpreter": {
   "hash": "aee8b7b246df8f9039afb4144a1f6fd8d2ca17a180786b69acc140d282b71a49"
  },
  "kernelspec": {
   "display_name": "Python 3.8.10 64-bit",
   "language": "python",
   "name": "python3"
  },
  "language_info": {
   "codemirror_mode": {
    "name": "ipython",
    "version": 3
   },
   "file_extension": ".py",
   "mimetype": "text/x-python",
   "name": "python",
   "nbconvert_exporter": "python",
   "pygments_lexer": "ipython3",
   "version": "3.8.10"
  },
  "orig_nbformat": 4
 },
 "nbformat": 4,
 "nbformat_minor": 2
}
