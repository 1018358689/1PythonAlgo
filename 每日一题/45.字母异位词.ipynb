{
 "cells": [
  {
   "cell_type": "markdown",
   "metadata": {},
   "source": [
    "11.15有效的字母异位词\n",
    "给定两个字符串 s 和 t ，编写一个函数来判断 t 是否是 s 的字母异位词。\n",
    "示例 1: 输入: s = \"anagram\", t = \"nagaram\" 输出: true\n",
    "示例 2: 输入: s = \"rat\", t = \"car\" 输出: false\n",
    "说明: 你可以假设字符串只包含小写字母。"
   ]
  },
  {
   "cell_type": "code",
   "execution_count": 17,
   "metadata": {},
   "outputs": [
    {
     "data": {
      "text/plain": [
       "(True, False, False)"
      ]
     },
     "execution_count": 17,
     "metadata": {},
     "output_type": "execute_result"
    }
   ],
   "source": [
    "def f(s, t):\n",
    "    r1, r2 = {}, {}\n",
    "    for i in s:\n",
    "        if i not in r1: r1[i] = 0\n",
    "        r1[i] += 1\n",
    "    for i in t:\n",
    "        if i not in r2: r2[i] = 0\n",
    "        r2[i] += 1\n",
    "    return r1 == r2\n",
    "\n",
    "\n",
    "f('anagram', 'nagaram'), f('rat', 'car'), f('aabbbb', 'aaaabb')\n"
   ]
  },
  {
   "cell_type": "code",
   "execution_count": 18,
   "metadata": {},
   "outputs": [
    {
     "data": {
      "text/plain": [
       "(True, False, False)"
      ]
     },
     "execution_count": 18,
     "metadata": {},
     "output_type": "execute_result"
    }
   ],
   "source": [
    "from collections import defaultdict\n",
    "def f(s, t):\n",
    "    if len(s)!=len(t):return False\n",
    "    r1 = defaultdict(int)\n",
    "    r2 = defaultdict(int)\n",
    "    for i in s:\n",
    "        r1[i]+=1\n",
    "    for i in t:\n",
    "        r2[i] += 1\n",
    "    return r1 == r2\n",
    "\n",
    "\n",
    "f('anagram', 'nagaram'), f('rat', 'car'), f('aabbbb', 'aaaabb')\n"
   ]
  },
  {
   "cell_type": "code",
   "execution_count": 19,
   "metadata": {},
   "outputs": [
    {
     "data": {
      "text/plain": [
       "(True, False, False)"
      ]
     },
     "execution_count": 19,
     "metadata": {},
     "output_type": "execute_result"
    }
   ],
   "source": [
    "def f(s, t):\n",
    "    mem = [0] * 26\n",
    "    for i in s:\n",
    "        mem[ord(i) - ord('a')] += 1\n",
    "    for i in t:\n",
    "        mem[ord(i) - ord('a')] -= 1\n",
    "    # return mem == [0] * 26\n",
    "    return all(not i for i in mem)\n",
    "\n",
    "f('anagram', 'nagaram'), f('rat', 'car'), f('aabbbb', 'aaaabb')\n"
   ]
  },
  {
   "cell_type": "code",
   "execution_count": 20,
   "metadata": {},
   "outputs": [
    {
     "data": {
      "text/plain": [
       "(True, False, False)"
      ]
     },
     "execution_count": 20,
     "metadata": {},
     "output_type": "execute_result"
    }
   ],
   "source": [
    "def f(s, t):\n",
    "    if len(s)!=len(t) or set(s)!=set(t):return False\n",
    "    r = {}\n",
    "    for i in s:\n",
    "        if i not in r: r[i] = 0\n",
    "        r[i] += 1\n",
    "    for i in t:\n",
    "        r[i] -= 1\n",
    "    return all(v==0 for v in r.values())\n",
    "\n",
    "\n",
    "f('anagram', 'nagaram'), f('rat', 'car'), f('aabbbb', 'aaaabb')\n"
   ]
  },
  {
   "cell_type": "code",
   "execution_count": 18,
   "metadata": {},
   "outputs": [
    {
     "data": {
      "text/plain": [
       "True"
      ]
     },
     "execution_count": 18,
     "metadata": {},
     "output_type": "execute_result"
    }
   ],
   "source": [
    "set('abcd')==set('bcda')"
   ]
  },
  {
   "cell_type": "markdown",
   "metadata": {},
   "source": [
    "以下失败 碰到 f('aabbbb', 'aaaabb')"
   ]
  },
  {
   "cell_type": "code",
   "execution_count": 21,
   "metadata": {},
   "outputs": [
    {
     "data": {
      "text/plain": [
       "(True, False, True)"
      ]
     },
     "execution_count": 21,
     "metadata": {},
     "output_type": "execute_result"
    }
   ],
   "source": [
    "def f(s,t):\n",
    "    if len(s)!=len(t) or set(s)!=set(t):return False\n",
    "    r = 0\n",
    "    for i in (ord(i) for i in s+t):\n",
    "        r ^= i\n",
    "    return r==0\n",
    "\n",
    "\n",
    "f('anagram', 'nagaram'), f('rat', 'car'), f('aabbbb', 'aaaabb')\n"
   ]
  },
  {
   "cell_type": "code",
   "execution_count": 7,
   "metadata": {},
   "outputs": [
    {
     "data": {
      "text/plain": [
       "('\\x00', 97)"
      ]
     },
     "execution_count": 7,
     "metadata": {},
     "output_type": "execute_result"
    }
   ],
   "source": [
    "chr(0),ord('a')"
   ]
  },
  {
   "cell_type": "code",
   "execution_count": 1,
   "metadata": {},
   "outputs": [
    {
     "data": {
      "text/plain": [
       "(True, False, True)"
      ]
     },
     "execution_count": 1,
     "metadata": {},
     "output_type": "execute_result"
    }
   ],
   "source": [
    "from functools import reduce\n",
    "\n",
    "\n",
    "def f(s, t):\n",
    "    if len(s) != len(t) or set(s) != set(t): return False\n",
    "    return reduce(lambda x, y: x ^ y, (ord(i) for i in s + t), 0) == 0\n",
    "\n",
    "\n",
    "f('anagram', 'nagaram'), f('rat', 'car'), f('aabbbb', 'aaaabb')\n"
   ]
  },
  {
   "cell_type": "code",
   "execution_count": 1,
   "metadata": {},
   "outputs": [
    {
     "name": "stdout",
     "output_type": "stream",
     "text": [
      "['a', 'a', 'b', 'b', 'b', 'b']\n"
     ]
    },
    {
     "data": {
      "text/plain": [
       "True"
      ]
     },
     "execution_count": 1,
     "metadata": {},
     "output_type": "execute_result"
    }
   ],
   "source": [
    "def f(s,t):\n",
    "    l1 = [x for x in s if x in t]\n",
    "    print(l1)\n",
    "    if len(l1) == len(s) and len(l1)==len(t):\n",
    "        return True\n",
    "    else:\n",
    "        return False\n",
    "# f('anagram', 'nagaram'), f('rat', 'car')\n",
    "f('aabbbb', 'aaaabb')\n"
   ]
  },
  {
   "cell_type": "code",
   "execution_count": null,
   "metadata": {},
   "outputs": [],
   "source": []
  }
 ],
 "metadata": {
  "interpreter": {
   "hash": "004de6046f1b3d314f33fdb43a2dc798b2646e5600efd8df5066c8b63a00ff6d"
  },
  "kernelspec": {
   "display_name": "Python 3.8.10 64-bit",
   "language": "python",
   "name": "python3"
  },
  "language_info": {
   "codemirror_mode": {
    "name": "ipython",
    "version": 3
   },
   "file_extension": ".py",
   "mimetype": "text/x-python",
   "name": "python",
   "nbconvert_exporter": "python",
   "pygments_lexer": "ipython3",
   "version": "3.8.10"
  },
  "orig_nbformat": 4
 },
 "nbformat": 4,
 "nbformat_minor": 2
}
