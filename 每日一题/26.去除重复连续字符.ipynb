{
 "cells": [
  {
   "cell_type": "markdown",
   "source": [
    "设计一个程序，能够去除一个字符串中连续的重复字符。例如，输入abcccd，输出abcd"
   ],
   "metadata": {}
  },
  {
   "cell_type": "code",
   "execution_count": 10,
   "source": [
    "import re\n",
    "s = 'abccdddeeccc'\n",
    "a = re.sub(r'(([a-zA-Z])\\2+)',r'\\2',s)\n",
    "print(a)"
   ],
   "outputs": [
    {
     "output_type": "stream",
     "name": "stdout",
     "text": [
      "abcdec\n"
     ]
    }
   ],
   "metadata": {}
  },
  {
   "cell_type": "code",
   "execution_count": 19,
   "source": [
    "import re\n",
    "\n",
    "def f1(string):\n",
    "    return re.sub(r'(([a-zA-Z])\\2+)', r'\\2', string)\n",
    "\n",
    "f1('waabaaacdffa')"
   ],
   "outputs": [
    {
     "output_type": "execute_result",
     "data": {
      "text/plain": [
       "'wabacdfa'"
      ]
     },
     "metadata": {},
     "execution_count": 19
    }
   ],
   "metadata": {}
  },
  {
   "cell_type": "code",
   "execution_count": 18,
   "source": [
    "def f2(string):\n",
    "    lst = list(string)\n",
    "    for i in range(1,len(string)):\n",
    "        if string[i]==string[i-1]:\n",
    "            lst[i] = '_'\n",
    "    return ''.join(lst).replace('_','')\n",
    "\n",
    "f2('waabaaacdffa')\n"
   ],
   "outputs": [
    {
     "output_type": "execute_result",
     "data": {
      "text/plain": [
       "'wabacdfa'"
      ]
     },
     "metadata": {},
     "execution_count": 18
    }
   ],
   "metadata": {}
  },
  {
   "cell_type": "code",
   "execution_count": 20,
   "source": [
    "def f3(string):\n",
    "    x = [i for i in range(1,len(string)) if string[i]==string[i-1]]\n",
    "    lst = list(string)\n",
    "    for i,s in enumerate(x):\n",
    "        lst.pop(s-i)\n",
    "    return ''.join(lst)\n",
    "\n",
    "f3('waabaaacdffa')\n"
   ],
   "outputs": [
    {
     "output_type": "execute_result",
     "data": {
      "text/plain": [
       "'wabacdfa'"
      ]
     },
     "metadata": {},
     "execution_count": 20
    }
   ],
   "metadata": {}
  },
  {
   "cell_type": "code",
   "execution_count": 9,
   "source": [
    "s = list('abcd')\n",
    "s.pop(1)\n",
    "s"
   ],
   "outputs": [
    {
     "output_type": "execute_result",
     "data": {
      "text/plain": [
       "['a', 'c', 'd']"
      ]
     },
     "metadata": {},
     "execution_count": 9
    }
   ],
   "metadata": {}
  },
  {
   "cell_type": "code",
   "execution_count": 25,
   "source": [
    "st = 'aabaaacdffa'\n",
    "x = (i for i in range(1,len(st)) if st[i]==st[i-1])\n",
    "list(x)"
   ],
   "outputs": [
    {
     "output_type": "execute_result",
     "data": {
      "text/plain": [
       "[1, 4, 5, 9]"
      ]
     },
     "metadata": {},
     "execution_count": 25
    }
   ],
   "metadata": {}
  },
  {
   "cell_type": "code",
   "execution_count": 10,
   "source": [
    "string = 'abc'\n",
    "for i,s in enumerate(string,start=1):\n",
    "    print(i,s)"
   ],
   "outputs": [
    {
     "output_type": "stream",
     "name": "stdout",
     "text": [
      "1 a\n",
      "2 b\n",
      "3 c\n"
     ]
    }
   ],
   "metadata": {}
  },
  {
   "cell_type": "code",
   "execution_count": 16,
   "source": [
    "'abc'.replace('a','1')"
   ],
   "outputs": [
    {
     "output_type": "execute_result",
     "data": {
      "text/plain": [
       "'1bc'"
      ]
     },
     "metadata": {},
     "execution_count": 16
    }
   ],
   "metadata": {}
  },
  {
   "cell_type": "code",
   "execution_count": null,
   "source": [
    "abbccd\n",
    "012345  24"
   ],
   "outputs": [],
   "metadata": {}
  }
 ],
 "metadata": {
  "interpreter": {
   "hash": "46d70253e26f4870ba91dbcad1d6cc0f131010642a8ff4570bf5f331015ff8f1"
  },
  "kernelspec": {
   "name": "python3",
   "display_name": "Python 3.8.11 64-bit ('paddlehub': conda)"
  },
  "language_info": {
   "codemirror_mode": {
    "name": "ipython",
    "version": 3
   },
   "file_extension": ".py",
   "mimetype": "text/x-python",
   "name": "python",
   "nbconvert_exporter": "python",
   "pygments_lexer": "ipython3",
   "version": "3.8.11"
  },
  "orig_nbformat": 4
 },
 "nbformat": 4,
 "nbformat_minor": 2
}