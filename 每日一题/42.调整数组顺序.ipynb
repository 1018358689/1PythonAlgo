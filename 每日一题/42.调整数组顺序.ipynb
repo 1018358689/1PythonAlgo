{
 "cells": [
  {
   "cell_type": "markdown",
   "metadata": {},
   "source": [
    "今日题（1112）：调整数组顺序\n",
    "描述：输入一个长度为 n的整数数组，数组里面不含有相同的元素，实现调整该数组中数字的顺序，使得所有的奇数位于数组的前面部分，所有的偶数位于数组的后面部分，并保证奇数和奇数，偶数和偶数之间的相对位置不变。\n",
    "举例：\n",
    "输入：[1,2,3,4]\n",
    "输出：[1,3,2,4]\n",
    " \n",
    "输入：[2,4,6,5,7]\n",
    "输出：[5,7,2,4,6]"
   ]
  },
  {
   "cell_type": "code",
   "execution_count": 13,
   "metadata": {},
   "outputs": [
    {
     "data": {
      "text/plain": [
       "([1, 3, 2, 4], [5, 7, 2, 4, 6])"
      ]
     },
     "execution_count": 13,
     "metadata": {},
     "output_type": "execute_result"
    }
   ],
   "source": [
    "def f(lst):\n",
    "    cnt = 0\n",
    "    for i, n in enumerate(lst):\n",
    "        if n % 2:\n",
    "            lst.insert(cnt, lst.pop(i))\n",
    "            cnt += 1\n",
    "    return lst\n",
    "\n",
    "f([1, 2, 3, 4]), f([2, 4, 6, 5, 7])\n"
   ]
  },
  {
   "cell_type": "code",
   "execution_count": 3,
   "metadata": {},
   "outputs": [
    {
     "data": {
      "text/plain": [
       "([1, 3, 2, 4], [5, 7, 2, 4, 6])"
      ]
     },
     "execution_count": 3,
     "metadata": {},
     "output_type": "execute_result"
    }
   ],
   "source": [
    "def f(lst):\n",
    "    r = []\n",
    "    for n in lst:\n",
    "        if n % 2: r.append(n)\n",
    "    for n in lst:\n",
    "        if not n % 2: r.append(n)\n",
    "    return r\n",
    "\n",
    "\n",
    "f([1, 2, 3, 4]), f([2, 4, 6, 5, 7])\n"
   ]
  },
  {
   "cell_type": "code",
   "execution_count": 4,
   "metadata": {},
   "outputs": [
    {
     "data": {
      "text/plain": [
       "([1, 3, 2, 4], [5, 7, 2, 4, 6])"
      ]
     },
     "execution_count": 4,
     "metadata": {},
     "output_type": "execute_result"
    }
   ],
   "source": [
    "def f(lst):\n",
    "    r1 = []\n",
    "    r2 = []\n",
    "    for n in lst:\n",
    "        if n % 2: r1.append(n)\n",
    "        else: r2.append(n)\n",
    "    return r1 + r2\n",
    "\n",
    "\n",
    "f([1, 2, 3, 4]), f([2, 4, 6, 5, 7])\n"
   ]
  },
  {
   "cell_type": "code",
   "execution_count": 11,
   "metadata": {},
   "outputs": [
    {
     "name": "stdout",
     "output_type": "stream",
     "text": [
      "1 [1, 2, 3, 4, 5]\n",
      "2 [1, 2, 3, 4, 5, 4, 5]\n",
      "3 [1, 2, 3, 4, 5, 4, 5, 4, 5]\n",
      "4 [1, 2, 3, 4, 5, 4, 5, 4, 5, 4, 5]\n"
     ]
    }
   ],
   "source": [
    "l = [1,2,3]\n",
    "for i in l:\n",
    "    l.append(4)\n",
    "    l.append(5)\n",
    "    if i == 5:break\n",
    "    print(i,l)"
   ]
  },
  {
   "cell_type": "code",
   "execution_count": null,
   "metadata": {},
   "outputs": [],
   "source": [
    "# 遍历时候 遍历内容发生改变 也继续按位置遍历"
   ]
  }
 ],
 "metadata": {
  "interpreter": {
   "hash": "004de6046f1b3d314f33fdb43a2dc798b2646e5600efd8df5066c8b63a00ff6d"
  },
  "kernelspec": {
   "display_name": "Python 3.8.10 64-bit",
   "language": "python",
   "name": "python3"
  },
  "language_info": {
   "codemirror_mode": {
    "name": "ipython",
    "version": 3
   },
   "file_extension": ".py",
   "mimetype": "text/x-python",
   "name": "python",
   "nbconvert_exporter": "python",
   "pygments_lexer": "ipython3",
   "version": "3.8.10"
  },
  "orig_nbformat": 4
 },
 "nbformat": 4,
 "nbformat_minor": 2
}
