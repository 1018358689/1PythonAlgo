{
 "cells": [
  {
   "cell_type": "markdown",
   "metadata": {},
   "source": [
    "20211213单词分析\n",
    "输入一行包含一个单词，单词只由小写英文字母组成。\n",
    "输出两行，第一行包含一个英文字母，表示单词中出现得最多的字母是哪个。如果有多个字母出现的次数相等，输出字典序最小的那个。\n",
    "第二行包含一个整数，表示出现得最多的那个字母在单词中出现的次数。\n",
    "示例1\n",
    "输入lanqiao\n",
    "输出\n",
    "a\n",
    "2\n",
    "示例2：\n",
    "输入longlonglongistoolong\n",
    "输出\n",
    "o\n",
    "6"
   ]
  },
  {
   "cell_type": "code",
   "execution_count": 14,
   "metadata": {},
   "outputs": [
    {
     "data": {
      "text/plain": [
       "(('a', 2), ('o', 6), ('z', 4))"
      ]
     },
     "execution_count": 14,
     "metadata": {},
     "output_type": "execute_result"
    }
   ],
   "source": [
    "from collections import Counter\n",
    "\n",
    "'''\n",
    "hello\n",
    "'''\n",
    "def f(s: str) -> tuple:\n",
    "    C = Counter(s)\n",
    "    return max(((k, C[k]) for k in C), key=lambda x: x[1])\n",
    "\n",
    "\n",
    "f('lanqiao'), f('longlonglongistoolong'),f('zzzzlonglongistolongl')\n"
   ]
  },
  {
   "cell_type": "code",
   "execution_count": 15,
   "metadata": {},
   "outputs": [
    {
     "data": {
      "text/plain": [
       "(('a', 2), ('o', 6), ('z', 4))"
      ]
     },
     "execution_count": 15,
     "metadata": {},
     "output_type": "execute_result"
    }
   ],
   "source": [
    "from collections import Counter\n",
    "\n",
    "\n",
    "def f(s: str) -> tuple:\n",
    "    C = Counter(s)\n",
    "    r = max(C, key=lambda x: C[x])\n",
    "    return r,C[r]\n",
    "\n",
    "\n",
    "f('lanqiao'), f('longlonglongistoolong'),f('zzzzlonglongistolongl')\n"
   ]
  },
  {
   "cell_type": "code",
   "execution_count": 16,
   "metadata": {},
   "outputs": [
    {
     "data": {
      "text/plain": [
       "(('a', 2), ('o', 6), ('l', 4))"
      ]
     },
     "execution_count": 16,
     "metadata": {},
     "output_type": "execute_result"
    }
   ],
   "source": [
    "from collections import Counter\n",
    "\n",
    "\n",
    "def f(s: str) -> tuple:\n",
    "    C = Counter(s)\n",
    "    return max(((k, C[k]) for k in sorted(C)), key=lambda x: x[1])\n",
    "\n",
    "\n",
    "f('lanqiao'), f('longlonglongistoolong'),f('zzzzlonglongistolongl')\n"
   ]
  },
  {
   "cell_type": "code",
   "execution_count": 17,
   "metadata": {},
   "outputs": [
    {
     "data": {
      "text/plain": [
       "['a', 'b']"
      ]
     },
     "execution_count": 17,
     "metadata": {},
     "output_type": "execute_result"
    }
   ],
   "source": [
    "d = {'b':3,'a':6}\n",
    "sorted(d)"
   ]
  },
  {
   "cell_type": "code",
   "execution_count": 18,
   "metadata": {},
   "outputs": [
    {
     "data": {
      "text/plain": [
       "(('a', 2), ('o', 6), ('l', 4))"
      ]
     },
     "execution_count": 18,
     "metadata": {},
     "output_type": "execute_result"
    }
   ],
   "source": [
    "from collections import Counter\n",
    "\n",
    "\n",
    "def f(s: str) -> tuple:\n",
    "    C = Counter(s)\n",
    "    r = max(sorted(C), key=lambda x: C[x])\n",
    "    return r,C[r]\n",
    "\n",
    "\n",
    "f('lanqiao'), f('longlonglongistoolong'),f('zzzzlonglongistolongl')\n"
   ]
  },
  {
   "cell_type": "code",
   "execution_count": null,
   "metadata": {},
   "outputs": [],
   "source": []
  }
 ],
 "metadata": {
  "interpreter": {
   "hash": "004de6046f1b3d314f33fdb43a2dc798b2646e5600efd8df5066c8b63a00ff6d"
  },
  "kernelspec": {
   "display_name": "Python 3.8.10 64-bit",
   "language": "python",
   "name": "python3"
  },
  "language_info": {
   "codemirror_mode": {
    "name": "ipython",
    "version": 3
   },
   "file_extension": ".py",
   "mimetype": "text/x-python",
   "name": "python",
   "nbconvert_exporter": "python",
   "pygments_lexer": "ipython3",
   "version": "3.8.10"
  },
  "orig_nbformat": 4
 },
 "nbformat": 4,
 "nbformat_minor": 2
}
