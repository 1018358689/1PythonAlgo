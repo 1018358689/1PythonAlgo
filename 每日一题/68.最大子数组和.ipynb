{
 "cells": [
  {
   "cell_type": "markdown",
   "metadata": {},
   "source": [
    "今日题（1208）： \n",
    "描述：给你一个整数数组 nums，请你找出一个具有最大和的连续子数组（子数组最少包含一个元素），返回其最大和。子数组是数组中的一个连续部分。\n",
    "举例：\n",
    "\n",
    "输入：nums = [-2,1,-3,4,-1,2,1,-5,4]\n",
    "输出：6\n",
    "\n",
    "输入：nums = [5,4,-1,7,8]\n",
    "输出：23\n",
    "\n",
    "输入：nums = [1]\n",
    "输出：1"
   ]
  },
  {
   "cell_type": "code",
   "execution_count": 4,
   "metadata": {},
   "outputs": [
    {
     "data": {
      "text/plain": [
       "(6, 1, 23)"
      ]
     },
     "execution_count": 4,
     "metadata": {},
     "output_type": "execute_result"
    }
   ],
   "source": [
    "from typing import List\n",
    "\n",
    "\n",
    "def maxSubArray(nums: List[int]) -> int:\n",
    "    L = R = 0\n",
    "    maxsum = float('-inf')\n",
    "    while L <= len(nums) - 1:\n",
    "        while R <= len(nums) - 1:\n",
    "            maxsum = max(maxsum, sum(nums[L:R + 1]))\n",
    "            R += 1\n",
    "        L += 1\n",
    "        R = L\n",
    "    return maxsum\n",
    "\n",
    "\n",
    "maxSubArray([-2, 1, -3, 4, -1, 2, 1, -5, 4]), maxSubArray([1]), maxSubArray([5, 4, -1, 7, 8])\n"
   ]
  },
  {
   "cell_type": "code",
   "execution_count": 8,
   "metadata": {},
   "outputs": [
    {
     "data": {
      "text/plain": [
       "(6, 1, 23)"
      ]
     },
     "execution_count": 8,
     "metadata": {},
     "output_type": "execute_result"
    }
   ],
   "source": [
    "# dp[i] 到nums[i]的 最大子数组和\n",
    "# dp[i]=max(dp[i-1]+nums[i],nums[i]) 1<=i<=len(nums)-1\n",
    "# BaseCase dp[0]=nums[0]\n",
    "\n",
    "\n",
    "def maxSubArray(nums: List[int]) -> int:\n",
    "    dp = [float('-inf')] * len(nums)\n",
    "    dp[0] = nums[0]\n",
    "    for i in range(1, len(nums)):\n",
    "        dp[i] = max(dp[i - 1] + nums[i], nums[i])\n",
    "    return max(dp)\n",
    "\n",
    "\n",
    "maxSubArray([-2, 1, -3, 4, -1, 2, 1, -5, 4]), maxSubArray([1]), maxSubArray([5, 4, -1, 7, 8])\n"
   ]
  },
  {
   "cell_type": "code",
   "execution_count": 14,
   "metadata": {},
   "outputs": [
    {
     "data": {
      "text/plain": [
       "(6, 1, 23)"
      ]
     },
     "execution_count": 14,
     "metadata": {},
     "output_type": "execute_result"
    }
   ],
   "source": [
    "# dp[i] 到nums[i]的 最大子数组和\n",
    "# dp[i]=max(dp[i-1]+nums[i],nums[i]) 1<=i<=len(nums)-1\n",
    "# BaseCase dp[0]=nums[0]\n",
    "\n",
    "\n",
    "def maxSubArray(nums: List[int]) -> int:\n",
    "    dp = {}\n",
    "    dp[0] = nums[0]\n",
    "    for i in range(1, len(nums)):\n",
    "        dp[i] = max(dp[i - 1] + nums[i], nums[i])\n",
    "    return max(dp.values())\n",
    "\n",
    "\n",
    "maxSubArray([-2, 1, -3, 4, -1, 2, 1, -5, 4]), maxSubArray([1]), maxSubArray([5, 4, -1, 7, 8])\n"
   ]
  },
  {
   "cell_type": "code",
   "execution_count": 36,
   "metadata": {},
   "outputs": [
    {
     "data": {
      "text/plain": [
       "(6, 1, 23)"
      ]
     },
     "execution_count": 36,
     "metadata": {},
     "output_type": "execute_result"
    }
   ],
   "source": [
    "def maxSubArray(nums: List[int]) -> int:\n",
    "    maxsum = nums[0]\n",
    "\n",
    "    def dfs(i):\n",
    "        nonlocal maxsum\n",
    "        if i == 0: return nums[0]\n",
    "        subproblem = max(dfs(i - 1) + nums[i], nums[i])\n",
    "        maxsum = max(maxsum, subproblem)\n",
    "        return subproblem\n",
    "\n",
    "    dfs(len(nums) - 1)\n",
    "    return maxsum\n",
    "\n",
    "\n",
    "maxSubArray([-2, 1, -3, 4, -1, 2, 1, -5, 4]), maxSubArray([1]), maxSubArray([5, 4, -1, 7, 8])\n",
    "# maxSubArray([-1, -2])\n"
   ]
  },
  {
   "cell_type": "code",
   "execution_count": 39,
   "metadata": {},
   "outputs": [
    {
     "data": {
      "text/plain": [
       "-1"
      ]
     },
     "execution_count": 39,
     "metadata": {},
     "output_type": "execute_result"
    }
   ],
   "source": [
    "# mem这个备忘录没什么意义 因为不需要剪支\n",
    "def maxSubArray(nums: List[int]) -> int:\n",
    "    maxsum = nums[0]\n",
    "    mem = {}\n",
    "\n",
    "    def dfs(mem, i):\n",
    "        nonlocal maxsum\n",
    "        if i == 0: return nums[0]\n",
    "        if i not in mem:\n",
    "            mem[i] = max(dfs(mem, i - 1) + nums[i], nums[i])\n",
    "            maxsum = max(maxsum, mem[i])\n",
    "        return mem[i]\n",
    "\n",
    "    dfs(mem, len(nums) - 1)\n",
    "    return maxsum\n",
    "\n",
    "\n",
    "maxSubArray([-2, 1, -3, 4, -1, 2, 1, -5, 4]), maxSubArray([1]), maxSubArray([5, 4, -1, 7, 8])\n",
    "# maxSubArray([-1, -2])\n"
   ]
  },
  {
   "cell_type": "code",
   "execution_count": null,
   "metadata": {},
   "outputs": [],
   "source": []
  }
 ],
 "metadata": {
  "interpreter": {
   "hash": "004de6046f1b3d314f33fdb43a2dc798b2646e5600efd8df5066c8b63a00ff6d"
  },
  "kernelspec": {
   "display_name": "Python 3.8.10 64-bit",
   "language": "python",
   "name": "python3"
  },
  "language_info": {
   "codemirror_mode": {
    "name": "ipython",
    "version": 3
   },
   "file_extension": ".py",
   "mimetype": "text/x-python",
   "name": "python",
   "nbconvert_exporter": "python",
   "pygments_lexer": "ipython3",
   "version": "3.8.10"
  },
  "orig_nbformat": 4
 },
 "nbformat": 4,
 "nbformat_minor": 2
}
