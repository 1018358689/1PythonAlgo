{
 "cells": [
  {
   "cell_type": "markdown",
   "metadata": {},
   "source": [
    "Alice 手中有一把牌，她想要重新排列这些牌，分成若干组，使每一组的牌数都是 groupSize ，并且由 groupSize 张连续的牌组成。\n",
    "\n",
    "给你一个整数数组 hand 其中 hand[i] 是写在第 i 张牌，和一个整数 groupSize 。如果她可能重新排列这些牌，返回 true ；否则，返回 false 。\n",
    "\n",
    "\n",
    "示例 1：\n",
    "输入：hand = [1,2,3,6,2,3,4,7,8], groupSize = 3\n",
    "输出：true\n",
    "解释：Alice 手中的牌可以被重新排列为 [1,2,3]，[2,3,4]，[6,7,8]。\n",
    "\n",
    "示例 2：\n",
    "输入：hand = [1,2,3,4,5], groupSize = 4\n",
    "输出：false\n",
    "解释：Alice 手中的牌无法被重新排列成几个大小为 4 的组。\n",
    "\n",
    "来源：力扣（LeetCode）\n",
    "链接：https://leetcode-cn.com/problems/hand-of-straights\n",
    "著作权归领扣网络所有。商业转载请联系官方授权，非商业转载请注明出处。"
   ]
  },
  {
   "cell_type": "code",
   "execution_count": 8,
   "metadata": {},
   "outputs": [
    {
     "data": {
      "text/plain": [
       "(True, False)"
      ]
     },
     "execution_count": 8,
     "metadata": {},
     "output_type": "execute_result"
    }
   ],
   "source": [
    "def f(hand: list, groupSize: int):\n",
    "    if len(hand) % groupSize != 0:\n",
    "        return False\n",
    "    hand.sort()  # 先排序\n",
    "    while hand:\n",
    "        cur = hand[0]  # 拿牌 这张牌肯定最小\n",
    "        hand.remove(cur)\n",
    "        for _ in range(groupSize - 1):  # 还需拿groupSize-1张牌\n",
    "            cur += 1  # 下一张需求牌是cur+1\n",
    "            if cur in hand:  # 存在则 拿牌\n",
    "                hand.remove(cur)\n",
    "            else:  # 不存在 则False\n",
    "                return False\n",
    "    return True\n",
    "\n",
    "\n",
    "f([1, 2, 3, 6, 2, 3, 4, 7, 8], 3), f([1, 2, 3, 4, 5], 4)\n"
   ]
  },
  {
   "cell_type": "code",
   "execution_count": 4,
   "metadata": {},
   "outputs": [
    {
     "name": "stdout",
     "output_type": "stream",
     "text": [
      "[8, 7, 6]\n"
     ]
    },
    {
     "data": {
      "text/plain": [
       "False"
      ]
     },
     "execution_count": 4,
     "metadata": {},
     "output_type": "execute_result"
    }
   ],
   "source": [
    "# f([1, 2, 3, 6, 2, 3, 4, 7, 8], 3)"
   ]
  },
  {
   "cell_type": "code",
   "execution_count": 9,
   "metadata": {},
   "outputs": [
    {
     "data": {
      "text/plain": [
       "(True, False)"
      ]
     },
     "execution_count": 9,
     "metadata": {},
     "output_type": "execute_result"
    }
   ],
   "source": [
    "from collections import Counter\n",
    "\n",
    "\n",
    "def f(hand: list, groupSize: int):\n",
    "    if len(hand) % groupSize != 0:\n",
    "        return False\n",
    "    hand.sort()  # 先给牌排序\n",
    "    cnt = Counter(hand)  # 拿牌 给每种牌计数\n",
    "    for h in hand:\n",
    "        if cnt[h] == 0:\n",
    "            continue  # h这张牌已经不存在了\n",
    "        for need in range(h, h + groupSize):  # h存在则肯定最小 则需求牌为[h,h+groupSize)\n",
    "            if cnt[need] == 0:  # need 不在牌组里 则False\n",
    "                return False\n",
    "            else:  # nedd再牌组里 则抽出这张牌\n",
    "                cnt[need] -= 1\n",
    "    return True\n",
    "\n",
    "\n",
    "f([1, 2, 3, 6, 2, 3, 4, 7, 8], 3), f([1, 2, 3, 4, 5], 4)\n"
   ]
  },
  {
   "cell_type": "code",
   "execution_count": null,
   "metadata": {},
   "outputs": [],
   "source": []
  }
 ],
 "metadata": {
  "interpreter": {
   "hash": "004de6046f1b3d314f33fdb43a2dc798b2646e5600efd8df5066c8b63a00ff6d"
  },
  "kernelspec": {
   "display_name": "Python 3.8.10 64-bit",
   "language": "python",
   "name": "python3"
  },
  "language_info": {
   "codemirror_mode": {
    "name": "ipython",
    "version": 3
   },
   "file_extension": ".py",
   "mimetype": "text/x-python",
   "name": "python",
   "nbconvert_exporter": "python",
   "pygments_lexer": "ipython3",
   "version": "3.8.10"
  },
  "orig_nbformat": 4
 },
 "nbformat": 4,
 "nbformat_minor": 2
}
