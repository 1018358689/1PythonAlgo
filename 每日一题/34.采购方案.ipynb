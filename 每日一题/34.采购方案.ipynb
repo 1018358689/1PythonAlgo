{
 "cells": [
  {
   "cell_type": "markdown",
   "metadata": {},
   "source": [
    "N 个零件的报价存于数组 nums。预算为 target，假定仅购买两个零件，要求购买零件的花费不超过预算，请问有多少种采购方案。\n",
    "\n",
    "输入：nums = [2,5,3,5], target = 6\n",
    "输出：(2,3),5\n",
    "解释：预算内仅能购买 nums[0] 与 nums[2]。\n",
    "\n",
    "输入：nums = [2,2,1,9], target = 10\n",
    "输出：(2,2),4   (2,1),3   (2,1),3   (1,9),10\n",
    "解释：符合预算的采购方案如下：\n",
    "nums[0] + nums[1] = 4\n",
    "nums[0] + nums[2] = 3\n",
    "nums[1] + nums[2] = 3\n",
    "nums[2] + nums[3] = 10"
   ]
  },
  {
   "cell_type": "code",
   "execution_count": 3,
   "metadata": {},
   "outputs": [
    {
     "data": {
      "text/plain": [
       "[((1, 1), 2)]"
      ]
     },
     "execution_count": 3,
     "metadata": {},
     "output_type": "execute_result"
    }
   ],
   "source": [
    "from itertools import combinations\n",
    "def f(nums,target):\n",
    "    return [(c,sum(c)) for c in combinations(nums, 2) if sum(c) <= target]\n",
    "f([1,1,3,8],3)"
   ]
  },
  {
   "cell_type": "code",
   "execution_count": 2,
   "metadata": {},
   "outputs": [
    {
     "data": {
      "text/plain": [
       "[((1, 1), 2)]"
      ]
     },
     "execution_count": 2,
     "metadata": {},
     "output_type": "execute_result"
    }
   ],
   "source": [
    "def f(nums, target):\n",
    "    nums = sorted(nums) \n",
    "    n = len(nums)\n",
    "    res = []\n",
    "    for L in range(n - 1):\n",
    "        for R in range(L + 1, n):\n",
    "            s = nums[L] + nums[R]\n",
    "            if s > target:\n",
    "                signal = R == L + 1\n",
    "                break\n",
    "            res.append(((nums[L], nums[R]), s))\n",
    "        if signal: break\n",
    "    return res\n",
    "\n",
    "f([1, 1, 3, 8], 3)"
   ]
  },
  {
   "cell_type": "code",
   "execution_count": 34,
   "metadata": {},
   "outputs": [
    {
     "name": "stdout",
     "output_type": "stream",
     "text": [
      "0 1\n",
      "0 2\n",
      "0 3\n",
      "1 2\n",
      "1 3\n",
      "2 3\n"
     ]
    },
    {
     "data": {
      "text/plain": [
       "[((1, 1), 2)]"
      ]
     },
     "execution_count": 34,
     "metadata": {},
     "output_type": "execute_result"
    }
   ],
   "source": [
    "def f(nums, target):\n",
    "    res = []\n",
    "    t1 = ()\n",
    "    t2 = ()\n",
    "    for i in range(len(nums)-1):\n",
    "        for j in range(i + 1, len(nums)):\n",
    "            print(i,j)\n",
    "            t1 = (nums[i],nums[j])\n",
    "            t2 = (t1,sum(t1))\n",
    "            if sum(t1) <= target:\n",
    "                res.append(t2)\n",
    "    return res\n",
    "\n",
    "f([1, 1, 3, 8], 3)\n"
   ]
  },
  {
   "cell_type": "code",
   "execution_count": 27,
   "metadata": {},
   "outputs": [
    {
     "data": {
      "text/plain": [
       "False"
      ]
     },
     "execution_count": 27,
     "metadata": {},
     "output_type": "execute_result"
    }
   ],
   "source": [
    "signal = 2==1+2\n",
    "signal"
   ]
  },
  {
   "cell_type": "code",
   "execution_count": null,
   "metadata": {},
   "outputs": [],
   "source": []
  }
 ],
 "metadata": {
  "interpreter": {
   "hash": "004de6046f1b3d314f33fdb43a2dc798b2646e5600efd8df5066c8b63a00ff6d"
  },
  "kernelspec": {
   "display_name": "Python 3.8.10 64-bit",
   "name": "python3"
  },
  "language_info": {
   "codemirror_mode": {
    "name": "ipython",
    "version": 3
   },
   "file_extension": ".py",
   "mimetype": "text/x-python",
   "name": "python",
   "nbconvert_exporter": "python",
   "pygments_lexer": "ipython3",
   "version": "3.8.10"
  },
  "orig_nbformat": 4
 },
 "nbformat": 4,
 "nbformat_minor": 2
}
