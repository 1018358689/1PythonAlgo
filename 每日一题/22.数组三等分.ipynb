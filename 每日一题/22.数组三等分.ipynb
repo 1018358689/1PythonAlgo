{
 "cells": [
  {
   "cell_type": "markdown",
   "metadata": {},
   "source": [
    "【今日题目】数组分成和相等的三个部分：给你一个整数数组 arr，只有可以将其划分为三个和相等的 非空 部分时才返回 true，否则返回 false。\n",
    "输入：arr = [0,2,1,-6,6,-7,9,1,2,0,1]\n",
    "输出：true\n",
    "解释：0 + 2 + 1 = -6 + 6 - 7 + 9 + 1 = 2 + 0 + 1\n",
    "输入：arr = [0,2,1,-6,6,7,9,-1,2,0,1]\n",
    "输出：false"
   ]
  },
  {
   "cell_type": "code",
   "execution_count": 41,
   "metadata": {},
   "outputs": [
    {
     "name": "stdout",
     "output_type": "stream",
     "text": [
      "True\n",
      "False\n",
      "True\n"
     ]
    }
   ],
   "source": [
    "def f(lst):\n",
    "    quo, rem = divmod(sum(lst), 3)\n",
    "    if rem: return False\n",
    "    s, c = 0, 0\n",
    "    for num in lst:\n",
    "        s += num\n",
    "        if s == quo:\n",
    "            s, c = 0, c + 1\n",
    "    return c >= 3 \n",
    "\n",
    "\n",
    "print(f([0, 2, 1, -6, 6, -7, 9, 1, 2, 0, 1]))\n",
    "print(f([0, 2, 1, -6, 6, 7, 9, -1, 2, 0, 1]))\n",
    "print(f([1, -1, 1, -1, 1, -1, 1, -1]))\n"
   ]
  },
  {
   "cell_type": "code",
   "execution_count": 2,
   "metadata": {},
   "outputs": [
    {
     "name": "stdout",
     "output_type": "stream",
     "text": [
      "True\n",
      "True\n",
      "True\n"
     ]
    }
   ],
   "source": [
    "# 前缀和 不能用\n",
    "def f(arr: list):\n",
    "    quo, rem = divmod(sum(arr), 3)\n",
    "    if rem: return False\n",
    "    preSum = set()\n",
    "    preSum.add(0)\n",
    "    curSum = 0\n",
    "    for i in arr:\n",
    "        curSum += i\n",
    "        if curSum - quo in preSum:\n",
    "            return True\n",
    "        preSum.add(curSum)\n",
    "    return False\n",
    "\n",
    "\n",
    "print(f([0, 2, 1, -6, 6, -7, 9, 1, 2, 0, 1]))\n",
    "print(f([0, 2, 1, -6, 6, 7, 9, -1, 2, 0, 1]))\n",
    "print(f([1, -1, 1, -1, 1, -1, 1, -1]))\n"
   ]
  },
  {
   "cell_type": "code",
   "execution_count": 5,
   "metadata": {},
   "outputs": [
    {
     "name": "stdout",
     "output_type": "stream",
     "text": [
      "3 1\n",
      "3 2\n",
      "3 3\n",
      "3\n"
     ]
    },
    {
     "data": {
      "text/plain": [
       "(3, 0)"
      ]
     },
     "execution_count": 5,
     "metadata": {},
     "output_type": "execute_result"
    }
   ],
   "source": [
    "lst = [0,2,1,-6,6,-7,9,1,2,0,1]\n",
    "avg = sum(lst)/3\n",
    "s = 0\n",
    "count = 0\n",
    "for num in lst:\n",
    "    s +=num\n",
    "    if s == avg:\n",
    "        count+=1\n",
    "        print(s,count)\n",
    "        s=0\n",
    "        \n",
    "print(count)\n",
    "divmod(sum(lst),3)"
   ]
  },
  {
   "cell_type": "code",
   "execution_count": 11,
   "metadata": {},
   "outputs": [
    {
     "name": "stdout",
     "output_type": "stream",
     "text": [
      "True\n",
      "False\n",
      "True\n"
     ]
    }
   ],
   "source": [
    "def f(lst):\n",
    "    quo, rem = divmod(sum(lst), 3)\n",
    "    if rem:\n",
    "        return False\n",
    "    s = 0\n",
    "    c = 0\n",
    "    for num in lst:\n",
    "        s += num\n",
    "        if s == quo:\n",
    "            c += 1\n",
    "            s = 0\n",
    "    if c == 3:\n",
    "        return True\n",
    "    else:\n",
    "        return False\n",
    "\n",
    "\n",
    "print(f([0, 2, 1, -6, 6, -7, 9, 1, 2, 0, 1]))\n",
    "print(f([0, 2, 1, -6, 6, 7, 9, -1, 2, 0, 1]))\n",
    "print(f([3, 3, 6, 5, -2, 2, 5, 1, -9, 4]))\n"
   ]
  },
  {
   "cell_type": "code",
   "execution_count": 8,
   "metadata": {},
   "outputs": [
    {
     "name": "stdout",
     "output_type": "stream",
     "text": [
      "1\n"
     ]
    }
   ],
   "source": [
    "if 2:\n",
    "    print(1)"
   ]
  },
  {
   "cell_type": "code",
   "execution_count": 22,
   "metadata": {},
   "outputs": [
    {
     "name": "stdout",
     "output_type": "stream",
     "text": [
      "2\n"
     ]
    }
   ],
   "source": [
    "if 0: print(123) \n",
    "else:print(2)"
   ]
  },
  {
   "cell_type": "code",
   "execution_count": 31,
   "metadata": {},
   "outputs": [
    {
     "name": "stdout",
     "output_type": "stream",
     "text": [
      "(True, '0+2+1=-6+6-7+9+1=2+0+1')\n",
      "False\n",
      "(True, '0+8+1=9=1+2+3+1+1+2-1')\n",
      "False\n"
     ]
    }
   ],
   "source": [
    "def f(lst):\n",
    "    quo, rem = divmod(sum(lst), 3)\n",
    "    if rem: return False\n",
    "    s, c, l = 0, 0, []\n",
    "    for i, num in enumerate(lst):\n",
    "        s += num\n",
    "        if s == quo:\n",
    "            s, c = 0, c + 1\n",
    "            l.append(i + 1)\n",
    "    if c == 3:\n",
    "        return True, '{}={}={}'.format(\n",
    "            ''.join('+' + str(item) if str(item)[0] != '-' else str(item)\n",
    "                    for item in lst[0:l[0]]).strip('+'),\n",
    "            ''.join('+' + str(item) if str(item)[0] != '-' else str(item)\n",
    "                    for item in lst[l[0]:l[1]]).strip('+'),\n",
    "            ''.join('+' + str(item) if str(item)[0] != '-' else str(item)\n",
    "                    for item in lst[l[1]:l[2]]).strip('+'))\n",
    "    else:\n",
    "        return False\n",
    "\n",
    "\n",
    "print(f([0, 2, 1, -6, 6, -7, 9, 1, 2, 0, 1]))\n",
    "print(f([0, 2, 1, -6, 6, 7, 9, -1, 2, 0, 1]))\n",
    "print(f([0, 8, 1, 9, 1, 2, 3, 1, 1, 2, -1]))\n",
    "print(f([1, -1, 1, -1, 1, -1, 1, -1]))"
   ]
  },
  {
   "cell_type": "code",
   "execution_count": 11,
   "metadata": {},
   "outputs": [
    {
     "data": {
      "text/plain": [
       "'1+2+3'"
      ]
     },
     "execution_count": 11,
     "metadata": {},
     "output_type": "execute_result"
    }
   ],
   "source": [
    "'+'.join(['1','2','3'])"
   ]
  },
  {
   "cell_type": "code",
   "execution_count": 37,
   "metadata": {},
   "outputs": [
    {
     "data": {
      "text/plain": [
       "8.0"
      ]
     },
     "execution_count": 37,
     "metadata": {},
     "output_type": "execute_result"
    }
   ],
   "source": [
    "4*3*2/3   4,8"
   ]
  },
  {
   "cell_type": "code",
   "execution_count": 43,
   "metadata": {},
   "outputs": [
    {
     "data": {
      "text/plain": [
       "[1, 7, 4, 4, 2, 6, 1, 1, 6, 5, 2, 1, 3, 4, 1, 1, 2, 1, 4, 8, 0]"
      ]
     },
     "execution_count": 43,
     "metadata": {},
     "output_type": "execute_result"
    }
   ],
   "source": [
    "[1,7, 4,4, 2,6, 1,1,6, 5,2,1, 3,4,1, 1,2,1,4, 8,0]"
   ]
  },
  {
   "cell_type": "code",
   "execution_count": 45,
   "metadata": {},
   "outputs": [
    {
     "name": "stdout",
     "output_type": "stream",
     "text": [
      "[1, 1, 2, 3, 5, 8, 13, 21, 34, 55, 89, 144, 233, 377, 610, 987, 1597, 2584, 4181, 6765]\n"
     ]
    }
   ],
   "source": [
    "List_Fibonacci = [1, 1]\n",
    "for i in range(2, 20):\n",
    "    List_Fibonacci.append(List_Fibonacci[i - 2] + List_Fibonacci[i - 1])\n",
    "print(List_Fibonacci)"
   ]
  },
  {
   "cell_type": "code",
   "execution_count": null,
   "metadata": {},
   "outputs": [],
   "source": []
  }
 ],
 "metadata": {
  "interpreter": {
   "hash": "1ab393b4e74f10690122bd8cac8adb5fed0a74445021e612c9c654c49950836c"
  },
  "kernelspec": {
   "display_name": "Python 3.8.11 64-bit ('paddlehub': conda)",
   "name": "python3"
  },
  "language_info": {
   "codemirror_mode": {
    "name": "ipython",
    "version": 3
   },
   "file_extension": ".py",
   "mimetype": "text/x-python",
   "name": "python",
   "nbconvert_exporter": "python",
   "pygments_lexer": "ipython3",
   "version": "3.10.2"
  },
  "orig_nbformat": 4
 },
 "nbformat": 4,
 "nbformat_minor": 2
}
