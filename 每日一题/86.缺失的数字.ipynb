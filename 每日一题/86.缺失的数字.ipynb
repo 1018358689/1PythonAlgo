{
 "cells": [
  {
   "cell_type": "markdown",
   "metadata": {},
   "source": [
    "今日题目（1126）：缺失的数字\n",
    "给定一个包含 [0, n] 中 n 个数的数组 nums ，找出 [0, n] 这个范围内没有出现在数组中的那个数。\n",
    "示例 1：\n",
    "输入：nums = [3,0,1]\n",
    "输出：2\n",
    "解释：n = 3，因为有 3 个数字，所以所有的数字都在范围 [0,3] 内。2 是丢失的数字，因为它没有出现在 nums 中。\n",
    "示例 2：\n",
    "输入：nums = [0,1]\n",
    "输出：2\n",
    "解释：n = 2，因为有 2 个数字，所以所有的数字都在范围 [0,2] 内。2 是丢失的数字，因为它没有出现在 nums 中。\n",
    "示例 3：\n",
    "输入：nums = [9,6,4,2,3,5,7,0,1]\n",
    "输出：8\n",
    "解释：n = 9，因为有 9 个数字，所以所有的数字都在范围 [0,9] 内。8 是丢失的数字，因为它没有出现在 nums 中。\n",
    "示例 4：\n",
    "输入：nums = [0]\n",
    "输出：1\n",
    "解释：n = 1，因为有 1 个数字，所以所有的数字都在范围 [0,1] 内。1 是丢失的数字，因为它没有出现在 nums 中。"
   ]
  },
  {
   "cell_type": "code",
   "execution_count": 7,
   "metadata": {},
   "outputs": [
    {
     "data": {
      "text/plain": [
       "(2, 2, 8, 1)"
      ]
     },
     "execution_count": 7,
     "metadata": {},
     "output_type": "execute_result"
    }
   ],
   "source": [
    "def f(nums: list):\n",
    "    r = 0\n",
    "    for n in nums + list(range(len(nums) + 1)):\n",
    "        r ^= n\n",
    "    return r\n",
    "\n",
    "\n",
    "f([3, 0, 1]), f([0, 1]), f([9, 6, 4, 2, 3, 5, 7, 0, 1]), f([0])\n"
   ]
  },
  {
   "cell_type": "code",
   "execution_count": 8,
   "metadata": {},
   "outputs": [
    {
     "data": {
      "text/plain": [
       "(2, 2, 8, 1)"
      ]
     },
     "execution_count": 8,
     "metadata": {},
     "output_type": "execute_result"
    }
   ],
   "source": [
    "def f(nums: list):\n",
    "    length = len(nums)\n",
    "    res = 0\n",
    "    for i,n in enumerate(nums):\n",
    "        res^=i^n\n",
    "    return res^length\n",
    "\n",
    "f([3, 0, 1]), f([0, 1]), f([9, 6, 4, 2, 3, 5, 7, 0, 1]), f([0])\n"
   ]
  },
  {
   "cell_type": "code",
   "execution_count": 9,
   "metadata": {},
   "outputs": [
    {
     "data": {
      "text/plain": [
       "(2, 2, 8, 1)"
      ]
     },
     "execution_count": 9,
     "metadata": {},
     "output_type": "execute_result"
    }
   ],
   "source": [
    "def f(nums: list):\n",
    "    res = len(nums)\n",
    "    for i, n in enumerate(nums):\n",
    "        res ^= i ^ n\n",
    "    return res\n",
    "\n",
    "\n",
    "f([3, 0, 1]), f([0, 1]), f([9, 6, 4, 2, 3, 5, 7, 0, 1]), f([0])\n"
   ]
  },
  {
   "cell_type": "code",
   "execution_count": null,
   "metadata": {},
   "outputs": [],
   "source": []
  }
 ],
 "metadata": {
  "interpreter": {
   "hash": "aee8b7b246df8f9039afb4144a1f6fd8d2ca17a180786b69acc140d282b71a49"
  },
  "kernelspec": {
   "display_name": "Python 3.8.10 64-bit",
   "language": "python",
   "name": "python3"
  },
  "language_info": {
   "codemirror_mode": {
    "name": "ipython",
    "version": 3
   },
   "file_extension": ".py",
   "mimetype": "text/x-python",
   "name": "python",
   "nbconvert_exporter": "python",
   "pygments_lexer": "ipython3",
   "version": "3.8.10"
  },
  "orig_nbformat": 4
 },
 "nbformat": 4,
 "nbformat_minor": 2
}
