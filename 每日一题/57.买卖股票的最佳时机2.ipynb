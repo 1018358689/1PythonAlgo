{
 "cells": [
  {
   "cell_type": "markdown",
   "metadata": {},
   "source": [
    "给定一个数组 prices ，其中 prices[i] 是一支给定股票第 i 天的价格。\n",
    "设计一个算法来计算你所能获取的最大利润。你可以尽可能地完成更多的交易（多次买卖一支股票）。\n",
    "注意：你不能同时参与多笔交易（你必须在再次购买前出售掉之前的股票）。\n",
    "\n",
    "示例 1:\n",
    "输入: prices = [7,1,5,3,6,4]\n",
    "输出: 7\n",
    "解释: 在第 2 天（股票价格 = 1）的时候买入，在第 3 天（股票价格 = 5）的时候卖出, 这笔交易所能获得利润 = 5-1 = 4 。\n",
    " 随后，在第 4 天（股票价格 = 3）的时候买入，在第 5 天（股票价格 = 6）的时候卖出, 这笔交易所能获得利润 = 6-3 = 3 。\n",
    "\n",
    "示例 2:\n",
    "输入: prices = [1,2,3,4,5]\n",
    "输出: 4\n",
    "解释: 在第 1 天（股票价格 = 1）的时候买入，在第 5 天 （股票价格 = 5）的时候卖出, 这笔交易所能获得利润 = 5-1 = 4 。\n",
    "注意你不能在第 1 天和第 2 天接连购买股票，之后再将它们卖出。因为这样属于同时参与了多笔交易，你必须在再次购买前出售掉之前的股票。\n",
    "\n",
    "示例 3:\n",
    "输入: prices = [7,6,4,3,1]\n",
    "输出: 0\n",
    "解释: 在这种情况下, 没有交易完成, 所以最大利润为 0。"
   ]
  },
  {
   "cell_type": "code",
   "execution_count": 7,
   "metadata": {},
   "outputs": [
    {
     "data": {
      "text/plain": [
       "(7, 4, 0)"
      ]
     },
     "execution_count": 7,
     "metadata": {},
     "output_type": "execute_result"
    }
   ],
   "source": [
    "def f(prices):\n",
    "    prices += [-float('inf')]\n",
    "    length = len(prices)\n",
    "    profit = 0\n",
    "    L, R = 0, 1\n",
    "    while R < length:\n",
    "        if prices[R] < prices[R - 1]:  # 当右指针值开始变小,左指针移到右指针\n",
    "            profit += prices[R - 1] - prices[L]  # 计算前面递增或不变的利润\n",
    "            L = R\n",
    "        R += 1\n",
    "    return profit\n",
    "\n",
    "\n",
    "f([7, 1, 5, 3, 6, 4]), f([1, 2, 3, 4, 5]), f([7, 6, 4, 3, 1])\n"
   ]
  },
  {
   "cell_type": "code",
   "execution_count": 9,
   "metadata": {},
   "outputs": [
    {
     "data": {
      "text/plain": [
       "(7, 4, 0)"
      ]
     },
     "execution_count": 9,
     "metadata": {},
     "output_type": "execute_result"
    }
   ],
   "source": [
    "def f(prices):\n",
    "    prices += [-float('inf')]\n",
    "    length = len(prices)\n",
    "    profit = 0\n",
    "    L, R = 0, 1\n",
    "    while R < length:\n",
    "        while prices[R] > prices[R - 1]:  # 当右指针递增,右指针不断右移\n",
    "            R += 1\n",
    "        profit += prices[R - 1] - prices[L]  # 移动完毕,计算利润\n",
    "        L, R = R, R + 1  # 左指针移到右指针,右指针继续寻找\n",
    "    return profit\n",
    "\n",
    "\n",
    "f([7, 4, 1, 5, 3, 6, 4]), f([1, 2, 3, 4, 5]), f([7, 6, 4, 3, 1])\n"
   ]
  },
  {
   "cell_type": "code",
   "execution_count": 10,
   "metadata": {},
   "outputs": [
    {
     "data": {
      "text/plain": [
       "(7, 4, 0)"
      ]
     },
     "execution_count": 10,
     "metadata": {},
     "output_type": "execute_result"
    }
   ],
   "source": [
    "def f(prices):\n",
    "    prices += [-float('inf')]\n",
    "    length = len(prices)\n",
    "    profit = 0\n",
    "    L = 0\n",
    "    for R in range(1, length):\n",
    "        if prices[R] < prices[R - 1]:  # 右指针开始减小则计算前面所赚的利润\n",
    "            profit += prices[R - 1] - prices[L]\n",
    "            L = R  # 并将左指针移到右指针\n",
    "    return profit\n",
    "\n",
    "\n",
    "f([7, 4, 1, 5, 3, 6, 4]), f([1, 2, 3, 4, 5]), f([7, 6, 4, 3, 1])\n"
   ]
  },
  {
   "cell_type": "code",
   "execution_count": 15,
   "metadata": {},
   "outputs": [
    {
     "data": {
      "text/plain": [
       "(7, 4, 0)"
      ]
     },
     "execution_count": 15,
     "metadata": {},
     "output_type": "execute_result"
    }
   ],
   "source": [
    "'''\n",
    "遍历整个股票交易日价格列表 price，策略是所有上涨交易日都买卖（赚到所有利润），所有下降交易日都不买卖（永不亏钱）。\n",
    "设 tmp 为第 i-1 日买入与第 i 日卖出赚取的利润，即 tmp = prices[i] - prices[i - 1] ；\n",
    "当该天利润为正 tmp > 0，则将利润加入总利润 profit；当利润为 00 或为负，则直接跳过；\n",
    "遍历完成后，返回总利润 profit。\n",
    "'''\n",
    "\n",
    "\n",
    "def f(prices):\n",
    "    profit = 0\n",
    "    for i in range(1, len(prices)):  # 每天和前一天比,有的赚就卖\n",
    "        if prices[i] - prices[i - 1] > 0: profit += prices[i] - prices[i - 1]\n",
    "    return profit\n",
    "\n",
    "\n",
    "f([7, 4, 1, 5, 3, 6, 4]), f([1, 2, 3, 4, 5]), f([7, 6, 4, 3, 1])\n"
   ]
  },
  {
   "cell_type": "code",
   "execution_count": 1,
   "metadata": {},
   "outputs": [
    {
     "data": {
      "text/plain": [
       "(7, 4, 0)"
      ]
     },
     "execution_count": 1,
     "metadata": {},
     "output_type": "execute_result"
    }
   ],
   "source": [
    "def f(prices):\n",
    "    return sum(prices[i] - prices[i - 1] for i in range(1, len(prices)) if prices[i] - prices[i - 1] > 0)\n",
    "\n",
    "\n",
    "f([7, 4, 1, 5, 3, 6, 4]), f([1, 2, 3, 4, 5]), f([7, 6, 4, 3, 1])\n"
   ]
  },
  {
   "cell_type": "code",
   "execution_count": null,
   "metadata": {},
   "outputs": [],
   "source": [
    "l = [7, 4, 1, 5, 3, 6, 4]"
   ]
  }
 ],
 "metadata": {
  "interpreter": {
   "hash": "aee8b7b246df8f9039afb4144a1f6fd8d2ca17a180786b69acc140d282b71a49"
  },
  "kernelspec": {
   "display_name": "Python 3.8.10 64-bit",
   "language": "python",
   "name": "python3"
  },
  "language_info": {
   "codemirror_mode": {
    "name": "ipython",
    "version": 3
   },
   "file_extension": ".py",
   "mimetype": "text/x-python",
   "name": "python",
   "nbconvert_exporter": "python",
   "pygments_lexer": "ipython3",
   "version": "3.8.10"
  },
  "orig_nbformat": 4
 },
 "nbformat": 4,
 "nbformat_minor": 2
}
