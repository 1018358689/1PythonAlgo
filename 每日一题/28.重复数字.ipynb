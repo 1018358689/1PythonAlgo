{
 "cells": [
  {
   "cell_type": "markdown",
   "metadata": {},
   "source": [
    "题目：统计1000个随机数中重复的数字。要求：（1）随机生产1000个整数；（2）整数范围为[60,100]；（3）升序输出所有不同的数字及其对应重复的次数。"
   ]
  },
  {
   "cell_type": "code",
   "execution_count": 42,
   "metadata": {},
   "outputs": [
    {
     "data": {
      "text/plain": [
       "[(60, 21),\n",
       " (61, 25),\n",
       " (62, 23),\n",
       " (63, 20),\n",
       " (64, 24),\n",
       " (65, 23),\n",
       " (66, 25),\n",
       " (67, 18),\n",
       " (68, 24),\n",
       " (69, 25),\n",
       " (70, 23),\n",
       " (71, 11),\n",
       " (72, 26),\n",
       " (73, 24),\n",
       " (74, 27),\n",
       " (75, 32),\n",
       " (76, 34),\n",
       " (77, 27),\n",
       " (78, 26),\n",
       " (79, 35),\n",
       " (80, 22),\n",
       " (81, 28),\n",
       " (82, 35),\n",
       " (83, 28),\n",
       " (84, 27),\n",
       " (85, 17),\n",
       " (86, 24),\n",
       " (87, 21),\n",
       " (88, 30),\n",
       " (89, 26),\n",
       " (90, 20),\n",
       " (91, 27),\n",
       " (92, 19),\n",
       " (93, 19),\n",
       " (94, 14),\n",
       " (95, 22),\n",
       " (96, 30),\n",
       " (97, 23),\n",
       " (98, 25),\n",
       " (99, 26),\n",
       " (100, 24)]"
      ]
     },
     "execution_count": 42,
     "metadata": {},
     "output_type": "execute_result"
    }
   ],
   "source": [
    "import random\n",
    "from collections import Counter\n",
    "\n",
    "c = Counter(random.randint(60, 100) for i in range(1000))\n",
    "sorted(c.items(), key=lambda x: x[0])\n"
   ]
  },
  {
   "cell_type": "code",
   "execution_count": 43,
   "metadata": {},
   "outputs": [
    {
     "data": {
      "text/plain": [
       "[(60, 23),\n",
       " (61, 28),\n",
       " (62, 36),\n",
       " (63, 26),\n",
       " (64, 21),\n",
       " (65, 27),\n",
       " (66, 26),\n",
       " (67, 24),\n",
       " (68, 23),\n",
       " (69, 22),\n",
       " (70, 25),\n",
       " (71, 19),\n",
       " (72, 35),\n",
       " (73, 27),\n",
       " (74, 24),\n",
       " (75, 19),\n",
       " (76, 18),\n",
       " (77, 19),\n",
       " (78, 23),\n",
       " (79, 26),\n",
       " (80, 21),\n",
       " (81, 20),\n",
       " (82, 30),\n",
       " (83, 22),\n",
       " (84, 15),\n",
       " (85, 33),\n",
       " (86, 17),\n",
       " (87, 23),\n",
       " (88, 25),\n",
       " (89, 19),\n",
       " (90, 16),\n",
       " (91, 20),\n",
       " (92, 31),\n",
       " (93, 27),\n",
       " (94, 32),\n",
       " (95, 31),\n",
       " (96, 25),\n",
       " (97, 20),\n",
       " (98, 25),\n",
       " (99, 25),\n",
       " (100, 32)]"
      ]
     },
     "execution_count": 43,
     "metadata": {},
     "output_type": "execute_result"
    }
   ],
   "source": [
    "import random\n",
    "\n",
    "res = {}\n",
    "r = (random.randint(60, 100) for i in range(1000))\n",
    "for num in r:\n",
    "    if num not in res:\n",
    "        res[num] = 0\n",
    "    res[num] += 1\n",
    "sorted(res.items(), key=lambda x: x[0])\n"
   ]
  },
  {
   "cell_type": "code",
   "execution_count": 27,
   "metadata": {},
   "outputs": [
    {
     "name": "stdout",
     "output_type": "stream",
     "text": [
      "Counter({2: 3, 4: 2, 1: 2, 5: 2, 3: 1})\n"
     ]
    },
    {
     "data": {
      "text/plain": [
       "{1: 2, 2: 3, 3: 1, 4: 2, 5: 2}"
      ]
     },
     "execution_count": 27,
     "metadata": {},
     "output_type": "execute_result"
    }
   ],
   "source": [
    "c = Counter([4,4,1,1,2,2,2,3,5,5])\n",
    "print(c)\n",
    "dict(sorted(c.items(),key=lambda x:x))"
   ]
  },
  {
   "cell_type": "code",
   "execution_count": 18,
   "metadata": {},
   "outputs": [
    {
     "data": {
      "text/plain": [
       "Counter({'a': 2, 'b': 1})"
      ]
     },
     "execution_count": 18,
     "metadata": {},
     "output_type": "execute_result"
    }
   ],
   "source": [
    "c = Counter(['a','a','b'])\n",
    "c"
   ]
  },
  {
   "cell_type": "code",
   "execution_count": 30,
   "metadata": {},
   "outputs": [
    {
     "data": {
      "text/plain": [
       "dict_items([(1, 2), (3, 4)])"
      ]
     },
     "execution_count": 30,
     "metadata": {},
     "output_type": "execute_result"
    }
   ],
   "source": [
    "{1:2,3:4}.items()"
   ]
  },
  {
   "cell_type": "code",
   "execution_count": null,
   "metadata": {},
   "outputs": [],
   "source": []
  }
 ],
 "metadata": {
  "interpreter": {
   "hash": "1ab393b4e74f10690122bd8cac8adb5fed0a74445021e612c9c654c49950836c"
  },
  "kernelspec": {
   "display_name": "Python 3.8.11 64-bit ('paddlehub': conda)",
   "name": "python3"
  },
  "language_info": {
   "codemirror_mode": {
    "name": "ipython",
    "version": 3
   },
   "file_extension": ".py",
   "mimetype": "text/x-python",
   "name": "python",
   "nbconvert_exporter": "python",
   "pygments_lexer": "ipython3",
   "version": "3.8.11"
  },
  "orig_nbformat": 4
 },
 "nbformat": 4,
 "nbformat_minor": 2
}
