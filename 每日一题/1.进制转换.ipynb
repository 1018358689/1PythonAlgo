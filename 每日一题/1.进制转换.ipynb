{
 "cells": [
  {
   "cell_type": "markdown",
   "metadata": {},
   "source": [
    "## 设计程序，将输入的十进制非负整数转换成指定进制的数（二进制、八进制、十六进制）。"
   ]
  },
  {
   "cell_type": "markdown",
   "metadata": {},
   "source": [
    "* 创建索引表hexdex  [ F(i) for i in list ] 创建列表\n",
    "* / 除  % 取余 // 整出 math.floor(3.4)=3向下取整\n",
    "* divmod(被除数，除数) 输出商和余数 \n",
    "* ord('A') 返回对应的 ASCII 数值  chr(11) 返回对应字符\n",
    "* '-'.join(list) 将序列中的元素以指定的字符'-'连接生成一个新的字符串。\n",
    "* list[start_index:end_index:step] 列表切片 字符串也是特殊列表 step=-1 倒序输出\n",
    "* reversed(list) 倒序输出函数"
   ]
  },
  {
   "cell_type": "code",
   "execution_count": 3,
   "metadata": {},
   "outputs": [
    {
     "name": "stdout",
     "output_type": "stream",
     "text": [
      "----2----\n",
      "error!\n",
      "1111101000\n",
      "1750\n",
      "3E8\n",
      "RS\n",
      "0\n"
     ]
    }
   ],
   "source": [
    "# 最佳\n",
    "def toAny2(num, toWhat=2): \n",
    "    hexdex = [str(hex) for hex in range(10)] +[chr(hex) for hex in range(ord('A'),ord('A')+26)]\n",
    "    l = ''\n",
    "    while num >= 0:\n",
    "        num, remainder = divmod(num, toWhat)\n",
    "        l += hexdex[remainder]\n",
    "        if num == 0:\n",
    "            return ''.join(l[::-1])  # ''.join(reversed(l)) 倒序\n",
    "    return 'error!'\n",
    "\n",
    "print('----2----')\n",
    "print(toAny2(-5,2))\n",
    "print(toAny2(1000,2))\n",
    "print(toAny2(1000,8))\n",
    "print(toAny2(1000,16))\n",
    "print(toAny2(1000,36))\n",
    "print(toAny2(0,2))"
   ]
  },
  {
   "cell_type": "code",
   "execution_count": 7,
   "metadata": {},
   "outputs": [
    {
     "name": "stdout",
     "output_type": "stream",
     "text": [
      "----1----\n",
      "error!\n",
      "1111101000\n",
      "1750\n",
      "82A\n",
      "\n"
     ]
    }
   ],
   "source": [
    "def toAny(num, toWhat=2):\n",
    "    hexdex = [str(hex) for hex in range(10)] +[chr(hex) for hex in range(ord('A'),ord('A')+6)]\n",
    "    l = []\n",
    "    while num > 0:\n",
    "        num, remainder = divmod(num, toWhat)\n",
    "        l.append(hexdex[remainder])\n",
    "    return 'error!' if num else ''.join(l[::-1]) \n",
    "\n",
    "print('----1----')\n",
    "print(toAny(-5,2))\n",
    "print(toAny(1000,2))\n",
    "print(toAny(1000,8))\n",
    "print(toAny(1000,11))\n",
    "print(toAny(0,2))"
   ]
  },
  {
   "cell_type": "code",
   "execution_count": 5,
   "metadata": {},
   "outputs": [
    {
     "name": "stdout",
     "output_type": "stream",
     "text": [
      "----3----\n",
      "\n",
      "1111101000\n",
      "1750\n",
      "82A\n",
      "\n"
     ]
    }
   ],
   "source": [
    "def toAny3(d, toWhat=2):\n",
    "    hexdex = [str(hex) for hex in range(10)] +[chr(hex) for hex in range(ord('A'),ord('A')+6)]\n",
    "    res = ''\n",
    "    while d>0:\n",
    "        res += hexdex[d%toWhat]\n",
    "        d = d//toWhat\n",
    "    else:\n",
    "        res+='0'\n",
    "    res = ''.join(reversed(res))[1:]\n",
    "    return res\n",
    "\n",
    "print('----3----')\n",
    "print(toAny3(-5,2))\n",
    "print(toAny3(1000,2))\n",
    "print(toAny3(1000,8))\n",
    "print(toAny3(1000,11))\n",
    "print(toAny3(0,2))"
   ]
  },
  {
   "cell_type": "code",
   "execution_count": 9,
   "metadata": {},
   "outputs": [
    {
     "data": {
      "text/plain": [
       "3"
      ]
     },
     "execution_count": 9,
     "metadata": {},
     "output_type": "execute_result"
    }
   ],
   "source": [
    "import math\n",
    "math.floor(3.4)"
   ]
  },
  {
   "cell_type": "code",
   "execution_count": 2,
   "metadata": {},
   "outputs": [
    {
     "name": "stdout",
     "output_type": "stream",
     "text": [
      "----4----\n",
      "error!\n",
      "1111101000\n",
      "1750\n",
      "3E8\n",
      "RS\n",
      "0\n"
     ]
    }
   ],
   "source": [
    "# 可读性\n",
    "def toAny4(num, toWhat=2): \n",
    "    hexdex = [str(hex) for hex in range(10)] +[chr(hex) for hex in range(ord('A'),ord('A')+26)]\n",
    "    l = ''\n",
    "    if num == 0:\n",
    "        return '0'\n",
    "    elif num < 0:\n",
    "        return 'error!'\n",
    "    else:\n",
    "        while num > 0:\n",
    "            num, remainder = divmod(num, toWhat)\n",
    "            l += hexdex[remainder]\n",
    "        return ''.join(l[::-1])  # ''.join(reversed(l)) 倒序\n",
    "    \n",
    "\n",
    "print('----4----')\n",
    "print(toAny4(-5,2))\n",
    "print(toAny4(1000,2))\n",
    "print(toAny4(1000,8))\n",
    "print(toAny4(1000,16))\n",
    "print(toAny4(1000,36))\n",
    "print(toAny4(0,2))"
   ]
  },
  {
   "cell_type": "code",
   "execution_count": 8,
   "metadata": {},
   "outputs": [
    {
     "data": {
      "text/plain": [
       "('1100100', '144', '64')"
      ]
     },
     "execution_count": 8,
     "metadata": {},
     "output_type": "execute_result"
    }
   ],
   "source": [
    "'{:b}'.format(100), '{:o}'.format(100), '{:x}'.format(100)\n"
   ]
  },
  {
   "cell_type": "code",
   "execution_count": 2,
   "metadata": {},
   "outputs": [
    {
     "data": {
      "text/plain": [
       "-10"
      ]
     },
     "execution_count": 2,
     "metadata": {},
     "output_type": "execute_result"
    }
   ],
   "source": [
    "int('-10')"
   ]
  },
  {
   "cell_type": "code",
   "execution_count": null,
   "metadata": {},
   "outputs": [],
   "source": []
  }
 ],
 "metadata": {
  "interpreter": {
   "hash": "af407973ba12897262deda9d8992946cc1a9873fff2de40f1acc89cdf9010052"
  },
  "kernelspec": {
   "display_name": "Python 3.8.11 64-bit ('pytorch': conda)",
   "name": "python3"
  },
  "language_info": {
   "codemirror_mode": {
    "name": "ipython",
    "version": 3
   },
   "file_extension": ".py",
   "mimetype": "text/x-python",
   "name": "python",
   "nbconvert_exporter": "python",
   "pygments_lexer": "ipython3",
   "version": "3.8.10"
  },
  "toc": {
   "base_numbering": 1,
   "nav_menu": {},
   "number_sections": true,
   "sideBar": true,
   "skip_h1_title": false,
   "title_cell": "Table of Contents",
   "title_sidebar": "Contents",
   "toc_cell": false,
   "toc_position": {},
   "toc_section_display": true,
   "toc_window_display": false
  },
  "varInspector": {
   "cols": {
    "lenName": 16,
    "lenType": 16,
    "lenVar": 40
   },
   "kernels_config": {
    "python": {
     "delete_cmd_postfix": "",
     "delete_cmd_prefix": "del ",
     "library": "var_list.py",
     "varRefreshCmd": "print(var_dic_list())"
    },
    "r": {
     "delete_cmd_postfix": ") ",
     "delete_cmd_prefix": "rm(",
     "library": "var_list.r",
     "varRefreshCmd": "cat(var_dic_list()) "
    }
   },
   "types_to_exclude": [
    "module",
    "function",
    "builtin_function_or_method",
    "instance",
    "_Feature"
   ],
   "window_display": true
  }
 },
 "nbformat": 4,
 "nbformat_minor": 2
}
