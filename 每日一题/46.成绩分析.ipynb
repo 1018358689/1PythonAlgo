{
 "cells": [
  {
   "cell_type": "markdown",
   "metadata": {},
   "source": [
    "11.16成绩分析\n",
    "小蓝给学生们组织了一场考试，卷面总分为 100 分，每个学生的得分都是一个 0 到 100 的整数。\n",
    "请计算这次考试的最高分、最低分和平均分。\n",
    "输入描述\n",
    "输入的第一行包含一个整数 n，表示考试人数。\n",
    "接下来 n 行，每行包含一个 0 至 100 的整数，表示一个学生的得分。\n",
    "输出描述\n",
    "输出三行。\n",
    "第一行包含一个整数，表示最高分。\n",
    "第二行包含一个整数，表示最低分。\n",
    "第三行包含一个实数，四舍五入保留正好两位小数，表示平均分。\n",
    "输入输出样例\n",
    "示例\n",
    "输入\n",
    "7\n",
    "80\n",
    "92\n",
    "56\n",
    "74\n",
    "88\n",
    "99\n",
    "10\n",
    "输出\n",
    "99\n",
    "10\n",
    "71.29"
   ]
  },
  {
   "cell_type": "code",
   "execution_count": null,
   "metadata": {},
   "outputs": [],
   "source": []
  }
 ],
 "metadata": {
  "interpreter": {
   "hash": "004de6046f1b3d314f33fdb43a2dc798b2646e5600efd8df5066c8b63a00ff6d"
  },
  "kernelspec": {
   "display_name": "Python 3.8.10 64-bit",
   "language": "python",
   "name": "python3"
  },
  "language_info": {
   "name": "python",
   "version": "3.8.10"
  },
  "orig_nbformat": 4
 },
 "nbformat": 4,
 "nbformat_minor": 2
}
