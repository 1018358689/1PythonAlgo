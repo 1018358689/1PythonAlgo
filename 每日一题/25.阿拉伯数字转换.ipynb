{
 "cells": [
  {
   "cell_type": "markdown",
   "metadata": {},
   "source": [
    "设计一个程序，能够将阿拉伯数字转成中文大写读数。例如，输入1234，输出 一千贰百叁拾肆。"
   ]
  },
  {
   "cell_type": "code",
   "execution_count": 10,
   "metadata": {},
   "outputs": [
    {
     "name": "stdout",
     "output_type": "stream",
     "text": [
      "贰亿零壹\n",
      "壹拾贰万叁仟肆佰伍拾\n",
      "壹仟零贰拾万零叁佰零肆\n"
     ]
    }
   ],
   "source": [
    "import re\n",
    "def f(num):\n",
    "    num_dict = {'0': '零','1': '壹','2': '贰','3': '叁','4': '肆','5': '伍','6': '陆','7': '柒','8': '捌','9': '玖'}\n",
    "    index_dict = {1: '', 2: '拾', 3: '佰', 4: '仟', 5: '万', 6: '拾', 7: '佰', 8: '仟', 9: '亿'}\n",
    "    nums = str(num)\n",
    "    res = ''\n",
    "    for i, item in enumerate(nums):\n",
    "        res = ''.join((res, num_dict[item], index_dict[range(len(nums), 0, -1)[i]]))  # 原+数+位\n",
    "    res = re.sub(r'零[拾佰仟零]*', '零', res)\n",
    "    res = re.sub(r'零万', '万', res)\n",
    "    res = re.sub(r'亿万', '亿零', res)\n",
    "    res = re.sub(r'零零', '零', res)\n",
    "    res = re.sub(r'零$', '', res)\n",
    "    return res\n",
    "\n",
    "print(f(200000001))\n",
    "print(f(123450))\n",
    "print(f(10200304))"
   ]
  },
  {
   "cell_type": "code",
   "execution_count": 12,
   "metadata": {},
   "outputs": [
    {
     "name": "stdout",
     "output_type": "stream",
     "text": [
      "壹拾\n",
      "壹拾零万\n",
      "壹拾零万壹仟\n",
      "壹拾零万壹仟零佰\n",
      "壹拾零万壹仟零佰零拾\n",
      "壹拾零万壹仟零佰零拾壹\n"
     ]
    },
    {
     "data": {
      "text/plain": [
       "'壹拾万壹仟零壹'"
      ]
     },
     "execution_count": 12,
     "metadata": {},
     "output_type": "execute_result"
    }
   ],
   "source": [
    "import re\n",
    "\n",
    "\n",
    "def f(num):\n",
    "    num_dict = {\n",
    "        '0': '零',\n",
    "        '1': '壹',\n",
    "        '2': '贰',\n",
    "        '3': '叁',\n",
    "        '4': '肆',\n",
    "        '5': '伍',\n",
    "        '6': '陆',\n",
    "        '7': '柒',\n",
    "        '8': '捌',\n",
    "        '9': '玖'\n",
    "    }\n",
    "    index_dict = {1: '', 2: '拾', 3: '佰', 4: '仟', 5: '万', 6: '拾', 7: '佰', 8: '仟', 9: '亿'}\n",
    "    nums = str(num)\n",
    "    nums_index = range(len(nums), 0, -1)\n",
    "    res = ''\n",
    "    for index, item in enumerate(nums):\n",
    "        res = ''.join((res, num_dict[item], index_dict[nums_index[index]]))  # 原+数+位\n",
    "        print(res)\n",
    "    res = re.sub('零[拾佰仟零]*', '零', res)\n",
    "    res = re.sub('零万', '万', res)\n",
    "    res = re.sub('亿万', '亿零', res)\n",
    "    res = re.sub('零零', '零', res)\n",
    "    res = re.sub('零$', '', res)\n",
    "    return res\n",
    "\n",
    "\n",
    "f(101001)"
   ]
  },
  {
   "cell_type": "code",
   "execution_count": 8,
   "metadata": {},
   "outputs": [
    {
     "name": "stdout",
     "output_type": "stream",
     "text": [
      "壹万玖仟零壹拾\n"
     ]
    }
   ],
   "source": [
    "iptNum = input('请输入数字(1~99999)：')\n",
    "\n",
    "\n",
    "def ds(num):\n",
    "    numDic = {'1': '壹', '2': '贰', '3': '叁', '4': '肆', '5': '伍', '6': '陆', '7': '柒', '8': '捌', '9': '玖'}\n",
    "    pos = {4: '仟', 3: '佰', 2: '拾', 1: ''}\n",
    "\n",
    "    res = ''\n",
    "    p = len(num)\n",
    "    s = 1  #用以标识连续的0\n",
    "\n",
    "    for i in range(len(num)):\n",
    "        if num[i] != '0':\n",
    "            s = 1\n",
    "            res = res + numDic.get(num[i]) + pos.get(p)\n",
    "        else:\n",
    "            if s == 1:\n",
    "                res = res + '零'\n",
    "                s = 0\n",
    "        p -= 1\n",
    "\n",
    "    if res[-1] == '零':\n",
    "        res = res[:-1]\n",
    "\n",
    "    return res\n",
    "\n",
    "\n",
    "if len(iptNum) > 4:\n",
    "    num1 = iptNum[-4:]\n",
    "    num2 = iptNum[:-4]\n",
    "    print(ds(num2) + '万' + ds(num1))\n",
    "else:\n",
    "    print(ds(iptNum))"
   ]
  },
  {
   "cell_type": "code",
   "execution_count": 2,
   "metadata": {},
   "outputs": [
    {
     "ename": "TypeError",
     "evalue": "'int' object is not iterable",
     "output_type": "error",
     "traceback": [
      "\u001b[1;31m---------------------------------------------------------------------------\u001b[0m",
      "\u001b[1;31mTypeError\u001b[0m                                 Traceback (most recent call last)",
      "\u001b[1;32m~\\AppData\\Local\\Temp/ipykernel_11032/1089101220.py\u001b[0m in \u001b[0;36m<module>\u001b[1;34m\u001b[0m\n\u001b[1;32m----> 1\u001b[1;33m \u001b[0mlist\u001b[0m\u001b[1;33m(\u001b[0m\u001b[1;36m1001\u001b[0m\u001b[1;33m)\u001b[0m\u001b[1;33m\u001b[0m\u001b[1;33m\u001b[0m\u001b[0m\n\u001b[0m",
      "\u001b[1;31mTypeError\u001b[0m: 'int' object is not iterable"
     ]
    }
   ],
   "source": [
    "list(1001)"
   ]
  },
  {
   "cell_type": "code",
   "execution_count": null,
   "metadata": {},
   "outputs": [],
   "source": []
  }
 ],
 "metadata": {
  "interpreter": {
   "hash": "1ab393b4e74f10690122bd8cac8adb5fed0a74445021e612c9c654c49950836c"
  },
  "kernelspec": {
   "display_name": "Python 3.8.11 64-bit ('paddlehub': conda)",
   "name": "python3"
  },
  "language_info": {
   "codemirror_mode": {
    "name": "ipython",
    "version": 3
   },
   "file_extension": ".py",
   "mimetype": "text/x-python",
   "name": "python",
   "nbconvert_exporter": "python",
   "pygments_lexer": "ipython3",
   "version": "3.8.11"
  },
  "orig_nbformat": 4
 },
 "nbformat": 4,
 "nbformat_minor": 2
}
