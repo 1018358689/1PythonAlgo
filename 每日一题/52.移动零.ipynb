{
 "cells": [
  {
   "cell_type": "markdown",
   "metadata": {},
   "source": [
    "给定一个数组 nums，编写一个函数将所有 0 移动到数组的末尾，同时保持非零元素的相对顺序。\n",
    "\n",
    "示例:\n",
    "\n",
    "输入: [0,1,0,3,12]\n",
    "输出: [1,3,12,0,0]\n",
    "说明:\n",
    "\n",
    "必须在原数组上操作，不能拷贝额外的数组。\n",
    "尽量减少操作次数。"
   ]
  },
  {
   "cell_type": "code",
   "execution_count": 21,
   "metadata": {},
   "outputs": [
    {
     "name": "stdout",
     "output_type": "stream",
     "text": [
      "0\n",
      "[0, 1, 0]\n",
      "1\n",
      "[0, 1, 0]\n",
      "0\n",
      "[1, 0, 0]\n"
     ]
    },
    {
     "data": {
      "text/plain": [
       "[1, 0, 0]"
      ]
     },
     "execution_count": 21,
     "metadata": {},
     "output_type": "execute_result"
    }
   ],
   "source": [
    "def f(nums):\n",
    "    for n in nums:\n",
    "        if not n:\n",
    "            nums.remove(n)\n",
    "            nums.append(n)\n",
    "    return nums\n",
    "# f([0, 1, 3, 0, 12])\n",
    "f([0, 0, 1])"
   ]
  },
  {
   "cell_type": "code",
   "execution_count": 26,
   "metadata": {},
   "outputs": [
    {
     "data": {
      "text/plain": [
       "[1, 3, 12, 0, 0]"
      ]
     },
     "execution_count": 26,
     "metadata": {},
     "output_type": "execute_result"
    }
   ],
   "source": [
    "def f(nums):\n",
    "    j = 0\n",
    "    for n in nums:\n",
    "        if n:\n",
    "            nums[j] = n\n",
    "            j+=1\n",
    "    nums[j:]=[0]*(len(nums)-j) #后面的全赋值0\n",
    "    return nums\n",
    "\n",
    "\n",
    "f([0, 1, 3, 0, 12])\n",
    "# f([0, 0, 1])"
   ]
  },
  {
   "cell_type": "code",
   "execution_count": 18,
   "metadata": {},
   "outputs": [
    {
     "name": "stdout",
     "output_type": "stream",
     "text": [
      "0 0 [0, 1, 3, 0, 12]\n",
      "0 1 [0, 1, 3, 0, 12]\n",
      "1 2 [1, 0, 3, 0, 12]\n",
      "2 3 [1, 3, 0, 0, 12]\n",
      "2 4 [1, 3, 0, 0, 12]\n",
      "0 0 [0, 0, 1]\n",
      "0 1 [0, 0, 1]\n",
      "0 2 [0, 0, 1]\n"
     ]
    },
    {
     "data": {
      "text/plain": [
       "[1, 0, 0]"
      ]
     },
     "execution_count": 18,
     "metadata": {},
     "output_type": "execute_result"
    }
   ],
   "source": [
    "def f(nums):\n",
    "    L = 0\n",
    "    for R in range(len(nums)):\n",
    "        # print(L,R,nums)\n",
    "        if nums[R]: \n",
    "            nums[L],nums[R] = nums[R],nums[L]\n",
    "            L+=1\n",
    "    return nums\n",
    "f([0, 1, 3, 0, 12])\n",
    "f([0, 0, 1])"
   ]
  },
  {
   "cell_type": "code",
   "execution_count": 17,
   "metadata": {},
   "outputs": [
    {
     "name": "stdout",
     "output_type": "stream",
     "text": [
      "0 0\n",
      "[0, 1, 0]\n",
      "1 1\n",
      "[0, 1, 0]\n",
      "2 0\n",
      "[0, 1, 0]\n"
     ]
    },
    {
     "data": {
      "text/plain": [
       "[0, 1, 0]"
      ]
     },
     "execution_count": 17,
     "metadata": {},
     "output_type": "execute_result"
    }
   ],
   "source": [
    "# error\n",
    "def f(nums):\n",
    "    for i, n in enumerate(nums):\n",
    "        print(i, n)\n",
    "        if n == 0: nums.append(nums.pop(i))\n",
    "        print(nums)\n",
    "    return nums\n",
    "\n",
    "\n",
    "# f([0, 1, 0, 3, 12])\n",
    "# f([0, 1, 3, 0, 12])\n",
    "f([0, 0, 1])\n"
   ]
  },
  {
   "cell_type": "code",
   "execution_count": 3,
   "metadata": {},
   "outputs": [
    {
     "data": {
      "text/plain": [
       "([1, 0, 0], [4, 3, 12, 0, 0])"
      ]
     },
     "execution_count": 3,
     "metadata": {},
     "output_type": "execute_result"
    }
   ],
   "source": [
    "def f(nums):\n",
    "    nums.sort(key=bool, reverse=True)\n",
    "    return nums\n",
    "f([0, 0, 1]),f([0, 4, 0, 3, 12])\n"
   ]
  },
  {
   "cell_type": "code",
   "execution_count": null,
   "metadata": {},
   "outputs": [],
   "source": []
  }
 ],
 "metadata": {
  "interpreter": {
   "hash": "004de6046f1b3d314f33fdb43a2dc798b2646e5600efd8df5066c8b63a00ff6d"
  },
  "kernelspec": {
   "display_name": "Python 3.8.10 64-bit",
   "language": "python",
   "name": "python3"
  },
  "language_info": {
   "codemirror_mode": {
    "name": "ipython",
    "version": 3
   },
   "file_extension": ".py",
   "mimetype": "text/x-python",
   "name": "python",
   "nbconvert_exporter": "python",
   "pygments_lexer": "ipython3",
   "version": "3.8.10"
  },
  "orig_nbformat": 4
 },
 "nbformat": 4,
 "nbformat_minor": 2
}
