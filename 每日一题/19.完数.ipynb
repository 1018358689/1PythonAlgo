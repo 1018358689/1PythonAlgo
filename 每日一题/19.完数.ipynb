{
 "cells": [
  {
   "cell_type": "markdown",
   "metadata": {},
   "source": [
    "## 一个数如果恰好等于它的因子之和，这个数就称为“完数”。例如6=1＋2＋3。编程找出1000以内的所有完数及其对应的所有因子。"
   ]
  },
  {
   "cell_type": "code",
   "execution_count": 32,
   "metadata": {},
   "outputs": [
    {
     "data": {
      "text/plain": [
       "[(6, [1, 2, 3]),\n",
       " (28, [1, 2, 4, 7, 14]),\n",
       " (496, [1, 2, 4, 8, 16, 31, 62, 124, 248])]"
      ]
     },
     "execution_count": 32,
     "metadata": {},
     "output_type": "execute_result"
    }
   ],
   "source": [
    "def f(iterator):\n",
    "    for num in iterator:\n",
    "        factor = [n for n in range(1, num) if num % n == 0]\n",
    "        if sum(factor) == num:\n",
    "            yield num, factor\n",
    "\n",
    "list(f(range(2, 1001)))"
   ]
  },
  {
   "cell_type": "code",
   "execution_count": 3,
   "metadata": {},
   "outputs": [
    {
     "data": {
      "text/plain": [
       "[(6, [1, 2, 3]),\n",
       " (28, [1, 2, 4, 7, 14]),\n",
       " (496, [1, 2, 4, 8, 16, 31, 62, 124, 248])]"
      ]
     },
     "execution_count": 3,
     "metadata": {},
     "output_type": "execute_result"
    }
   ],
   "source": [
    "from functools import reduce\n",
    "\n",
    "def primeFactors(num):  # 寻找因数\n",
    "    for n in range(1, num):\n",
    "        if num % n == 0:\n",
    "            yield n\n",
    "\n",
    "def f(iterator):\n",
    "    for i in iterator:\n",
    "        r = list(primeFactors(i))\n",
    "        y = reduce(lambda x, y: x + y, r)\n",
    "        if y == i:\n",
    "            yield i, r\n",
    "\n",
    "\n",
    "list(f(range(2, 1001)))\n"
   ]
  },
  {
   "cell_type": "code",
   "execution_count": 5,
   "metadata": {},
   "outputs": [
    {
     "data": {
      "text/plain": [
       "6"
      ]
     },
     "execution_count": 5,
     "metadata": {},
     "output_type": "execute_result"
    }
   ],
   "source": [
    "from functools import reduce\n",
    "\n",
    "reduce(lambda x, y: x * y, [1,2,3])"
   ]
  },
  {
   "cell_type": "code",
   "execution_count": 27,
   "metadata": {},
   "outputs": [
    {
     "data": {
      "text/plain": [
       "[(6, [1, 2, 3]),\n",
       " (28, [1, 2, 4, 7, 14]),\n",
       " (496, [1, 2, 4, 8, 16, 31, 62, 124, 248])]"
      ]
     },
     "execution_count": 27,
     "metadata": {},
     "output_type": "execute_result"
    }
   ],
   "source": [
    "from functools import reduce\n",
    "\n",
    "def f(iterator):\n",
    "    for num in iterator:\n",
    "        factor = [n for n in range(1, num) if num % n == 0]\n",
    "        y = reduce(lambda x, y: x + y, factor)\n",
    "        if y == num:\n",
    "            yield num, factor\n",
    "\n",
    "list(f(range(2, 1001)))"
   ]
  },
  {
   "cell_type": "code",
   "execution_count": 28,
   "metadata": {},
   "outputs": [],
   "source": [
    "# 根据因数概念 写个求因数的方法\n",
    "def primeFactors(num):  # 寻找因数\n",
    "    for n in range(1, num): # 除本身外所以用num 正常应该是num+1\n",
    "        if num % n == 0:\n",
    "            yield n"
   ]
  },
  {
   "cell_type": "code",
   "execution_count": 30,
   "metadata": {},
   "outputs": [
    {
     "data": {
      "text/plain": [
       "[1, 2, 3]"
      ]
     },
     "execution_count": 30,
     "metadata": {},
     "output_type": "execute_result"
    }
   ],
   "source": [
    "l=[1,2,3]\n",
    "sum(l)\n",
    "l"
   ]
  },
  {
   "cell_type": "code",
   "execution_count": null,
   "metadata": {},
   "outputs": [],
   "source": []
  }
 ],
 "metadata": {
  "interpreter": {
   "hash": "004de6046f1b3d314f33fdb43a2dc798b2646e5600efd8df5066c8b63a00ff6d"
  },
  "kernelspec": {
   "display_name": "Python 3.8.10 64-bit",
   "name": "python3"
  },
  "language_info": {
   "codemirror_mode": {
    "name": "ipython",
    "version": 3
   },
   "file_extension": ".py",
   "mimetype": "text/x-python",
   "name": "python",
   "nbconvert_exporter": "python",
   "pygments_lexer": "ipython3",
   "version": "3.8.10"
  },
  "orig_nbformat": 4
 },
 "nbformat": 4,
 "nbformat_minor": 2
}
