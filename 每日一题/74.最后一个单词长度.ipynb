{
 "cells": [
  {
   "cell_type": "markdown",
   "metadata": {},
   "source": [
    "20211214最后一个单词的长度\n",
    "给你一个字符串s，由若干单词组成，单词前后用一些空格字符隔开。返回字符串中最后一个单词的长度。\n",
    "单词 是指仅由字母组成、不包含任何空格字符的最大子字符串。\n",
    "示例 1：\n",
    "输入：s = \"Hello World\"\n",
    "输出：5\n",
    "示例 2：\n",
    "输入：s = \"   fly me   to   the moon  \"\n",
    "输出：4\n",
    "示例 3：\n",
    "输入：s = \"luffy is still joyboy\"\n",
    "输出：6\n",
    "提示：\n",
    "s仅有英文字母和空格' '组成\n",
    "s中至少存在一个单词"
   ]
  },
  {
   "cell_type": "code",
   "execution_count": 7,
   "metadata": {},
   "outputs": [
    {
     "data": {
      "text/plain": [
       "5"
      ]
     },
     "execution_count": 7,
     "metadata": {},
     "output_type": "execute_result"
    }
   ],
   "source": [
    "s = '   fly me   to   the moon  '\n",
    "len(s.split()[-1])"
   ]
  },
  {
   "cell_type": "markdown",
   "metadata": {},
   "source": [
    "同39题"
   ]
  }
 ],
 "metadata": {
  "interpreter": {
   "hash": "004de6046f1b3d314f33fdb43a2dc798b2646e5600efd8df5066c8b63a00ff6d"
  },
  "kernelspec": {
   "display_name": "Python 3.8.10 64-bit",
   "language": "python",
   "name": "python3"
  },
  "language_info": {
   "codemirror_mode": {
    "name": "ipython",
    "version": 3
   },
   "file_extension": ".py",
   "mimetype": "text/x-python",
   "name": "python",
   "nbconvert_exporter": "python",
   "pygments_lexer": "ipython3",
   "version": "3.8.10"
  },
  "orig_nbformat": 4
 },
 "nbformat": 4,
 "nbformat_minor": 2
}
