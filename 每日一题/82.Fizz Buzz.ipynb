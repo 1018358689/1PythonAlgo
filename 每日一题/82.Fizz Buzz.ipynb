{
 "cells": [
  {
   "cell_type": "markdown",
   "metadata": {},
   "source": [
    "今日题目（1222）：按要求返回结果\n",
    "给你一个整数 n ，找出从 1 到 n 各个整数的 Fizz Buzz 表示，并用字符串数组 answer（下标从 1 开始）返回结果，其中：\n",
    "answer[i] == \"FizzBuzz\" 如果 i 同时是 3 和 5 的倍数。\n",
    "answer[i] == \"Fizz\" 如果 i 是 3 的倍数。\n",
    "answer[i] == \"Buzz\" 如果 i 是 5 的倍数。\n",
    "answer[i] == i （以字符串形式）如果上述条件全不满足。\n",
    "示例 1：\n",
    "输入：n = 3\n",
    "输出：[\"1\",\"2\",\"Fizz\"]\n",
    "示例 2：\n",
    "输入：n = 5\n",
    "输出：[\"1\",\"2\",\"Fizz\",\"4\",\"Buzz\"]\n",
    "示例 3：\n",
    "输入：n = 15\n",
    "输出：[\"1\",\"2\",\"Fizz\",\"4\",\"Buzz\",\"Fizz\",\"7\",\"8\",\"Fizz\",\"Buzz\",\"11\",\"Fizz\",\"13\",\"14\",\"FizzBuzz\"]"
   ]
  },
  {
   "cell_type": "code",
   "execution_count": 4,
   "metadata": {},
   "outputs": [
    {
     "data": {
      "text/plain": [
       "(['1', '2', 'Fizz'],\n",
       " ['1', '2', 'Fizz', '4', 'Buzz'],\n",
       " ['1',\n",
       "  '2',\n",
       "  'Fizz',\n",
       "  '4',\n",
       "  'Buzz',\n",
       "  'Fizz',\n",
       "  '7',\n",
       "  '8',\n",
       "  'Fizz',\n",
       "  'Buzz',\n",
       "  '11',\n",
       "  'Fizz',\n",
       "  '13',\n",
       "  '14',\n",
       "  'FizzBuzz'])"
      ]
     },
     "execution_count": 4,
     "metadata": {},
     "output_type": "execute_result"
    }
   ],
   "source": [
    "def f(n: int):\n",
    "    r = []\n",
    "    for i in range(1, n + 1):\n",
    "        if not i % 15:\n",
    "            r.append('FizzBuzz')\n",
    "        elif not i % 3:\n",
    "            r.append('Fizz')\n",
    "        elif not i % 5:\n",
    "            r.append('Buzz')\n",
    "        else:\n",
    "            r.append(str(i))\n",
    "    return r\n",
    "\n",
    "\n",
    "f(3), f(5), f(15)\n"
   ]
  },
  {
   "cell_type": "code",
   "execution_count": null,
   "metadata": {},
   "outputs": [],
   "source": []
  }
 ],
 "metadata": {
  "interpreter": {
   "hash": "004de6046f1b3d314f33fdb43a2dc798b2646e5600efd8df5066c8b63a00ff6d"
  },
  "kernelspec": {
   "display_name": "Python 3.8.10 64-bit",
   "language": "python",
   "name": "python3"
  },
  "language_info": {
   "codemirror_mode": {
    "name": "ipython",
    "version": 3
   },
   "file_extension": ".py",
   "mimetype": "text/x-python",
   "name": "python",
   "nbconvert_exporter": "python",
   "pygments_lexer": "ipython3",
   "version": "3.8.10"
  },
  "orig_nbformat": 4
 },
 "nbformat": 4,
 "nbformat_minor": 2
}
