{
 "cells": [
  {
   "cell_type": "markdown",
   "metadata": {},
   "source": [
    "今日思考题-给你一个整数数组 nums 和一个整数 k ，请你返回数对 (i, j) 的数目，满足 i < j 且 |nums[i] - nums[j]| == k 。\n",
    "\n",
    "输入：nums = [1,2,2,1], k = 1\n",
    "输出：4\n",
    "解释：差的绝对值为 1 的数对为：\n",
    "- [*1,*2,2,1]\n",
    "- [*1,2,*2,1]\n",
    "- [1,*2,2,*1]\n",
    "- [1,2,*2,*1]"
   ]
  },
  {
   "cell_type": "code",
   "execution_count": 3,
   "metadata": {},
   "outputs": [
    {
     "data": {
      "text/plain": [
       "4"
      ]
     },
     "execution_count": 3,
     "metadata": {},
     "output_type": "execute_result"
    }
   ],
   "source": [
    "def f1(nums, k):\n",
    "    r = 0\n",
    "    for i in range(len(nums) - 1): \n",
    "        for j in range(i + 1, len(nums)):\n",
    "            if abs(nums[i] - nums[j]) == k: r += 1\n",
    "    return r\n",
    "\n",
    "\n",
    "f1([1, 2, 2, 1], 1)\n"
   ]
  },
  {
   "cell_type": "code",
   "execution_count": 2,
   "metadata": {},
   "outputs": [
    {
     "data": {
      "text/plain": [
       "4"
      ]
     },
     "execution_count": 2,
     "metadata": {},
     "output_type": "execute_result"
    }
   ],
   "source": [
    "from collections import Counter\n",
    "\n",
    "\n",
    "def f2(nums, k):\n",
    "    c, r = Counter(nums), 0\n",
    "    for i in c:\n",
    "        if i + k in c: r += c[i] * c[i + 1]\n",
    "    return r\n",
    "\n",
    "\n",
    "f2([1, 2, 2, 1], 1)\n"
   ]
  },
  {
   "cell_type": "code",
   "execution_count": 4,
   "metadata": {},
   "outputs": [
    {
     "data": {
      "text/plain": [
       "4"
      ]
     },
     "execution_count": 4,
     "metadata": {},
     "output_type": "execute_result"
    }
   ],
   "source": [
    "from collections import defaultdict\n",
    "\n",
    "\n",
    "def f3(nums, k):\n",
    "    r, d = 0, defaultdict(int)\n",
    "    for i in nums:\n",
    "        d[i + k] += 1\n",
    "    for i in nums:\n",
    "        r += d[i]\n",
    "    return r\n",
    "\n",
    "\n",
    "f3([1, 2, 2, 1], 1)\n"
   ]
  },
  {
   "cell_type": "code",
   "execution_count": 2,
   "metadata": {},
   "outputs": [
    {
     "data": {
      "text/plain": [
       "4"
      ]
     },
     "execution_count": 2,
     "metadata": {},
     "output_type": "execute_result"
    }
   ],
   "source": [
    "def f3_(nums, k):\n",
    "    r, d = 0, {}\n",
    "    for i in nums:\n",
    "        if i + k not in d: d[i + k] = 0\n",
    "        d[i + k] += 1\n",
    "    for i in nums:\n",
    "        if i in d: r += d[i]\n",
    "    return r\n",
    "\n",
    "\n",
    "f3_([1, 2, 2, 1], 1)"
   ]
  },
  {
   "cell_type": "code",
   "execution_count": 1,
   "metadata": {},
   "outputs": [
    {
     "data": {
      "text/plain": [
       "([(1, 2), (1, 2), (2, 1), (2, 1)], 4)"
      ]
     },
     "execution_count": 1,
     "metadata": {},
     "output_type": "execute_result"
    }
   ],
   "source": [
    "def f(nums, k):\n",
    "    res = []\n",
    "    for i in range(len(nums) - 1):\n",
    "        for j in range(i + 1, len(nums)):\n",
    "            if abs(nums[i] - nums[j]) == k:\n",
    "                res.append((nums[i], nums[j]))\n",
    "    return res, len(res)\n",
    "\n",
    "\n",
    "f([1, 2, 2, 1], 1)\n"
   ]
  },
  {
   "cell_type": "code",
   "execution_count": 1,
   "metadata": {},
   "outputs": [
    {
     "ename": "KeyError",
     "evalue": "2",
     "output_type": "error",
     "traceback": [
      "\u001b[0;31m---------------------------------------------------------------------------\u001b[0m",
      "\u001b[0;31mKeyError\u001b[0m                                  Traceback (most recent call last)",
      "\u001b[0;32m/var/folders/f9/08y44z4j3bsfzm1cv4wrdf6w0000gn/T/ipykernel_771/2874925260.py\u001b[0m in \u001b[0;36m<module>\u001b[0;34m\u001b[0m\n\u001b[1;32m      1\u001b[0m \u001b[0md\u001b[0m \u001b[0;34m=\u001b[0m \u001b[0;34m{\u001b[0m\u001b[0;34m'a'\u001b[0m\u001b[0;34m:\u001b[0m\u001b[0;36m1\u001b[0m\u001b[0;34m,\u001b[0m\u001b[0;34m'b'\u001b[0m\u001b[0;34m:\u001b[0m\u001b[0;36m2\u001b[0m\u001b[0;34m,\u001b[0m\u001b[0;34m'c'\u001b[0m\u001b[0;34m:\u001b[0m\u001b[0;36m3\u001b[0m\u001b[0;34m}\u001b[0m\u001b[0;34m\u001b[0m\u001b[0;34m\u001b[0m\u001b[0m\n\u001b[0;32m----> 2\u001b[0;31m \u001b[0md\u001b[0m\u001b[0;34m[\u001b[0m\u001b[0;36m2\u001b[0m\u001b[0;34m]\u001b[0m\u001b[0;34m\u001b[0m\u001b[0;34m\u001b[0m\u001b[0m\n\u001b[0m",
      "\u001b[0;31mKeyError\u001b[0m: 2"
     ]
    }
   ],
   "source": [
    "d = {'a':1,'b':2,'c':3}\n",
    "d[2]"
   ]
  },
  {
   "cell_type": "code",
   "execution_count": null,
   "metadata": {},
   "outputs": [],
   "source": []
  }
 ],
 "metadata": {
  "interpreter": {
   "hash": "aee8b7b246df8f9039afb4144a1f6fd8d2ca17a180786b69acc140d282b71a49"
  },
  "kernelspec": {
   "display_name": "Python 3.8.10 64-bit",
   "name": "python3"
  },
  "language_info": {
   "codemirror_mode": {
    "name": "ipython",
    "version": 3
   },
   "file_extension": ".py",
   "mimetype": "text/x-python",
   "name": "python",
   "nbconvert_exporter": "python",
   "pygments_lexer": "ipython3",
   "version": "3.8.10"
  },
  "orig_nbformat": 4
 },
 "nbformat": 4,
 "nbformat_minor": 2
}
