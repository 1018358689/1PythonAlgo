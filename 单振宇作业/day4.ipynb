{
 "cells": [
  {
   "cell_type": "markdown",
   "metadata": {},
   "source": [
    "1.输出字符串“hello python”的第3，5，8个字符和下标为4，7，9的字符。\n",
    "\n",
    "2.判断字符串“llo”和“hzq”是否在字符串“hello python”中，在输出“yes”，否则就输出“no”。\n",
    "\n",
    "3.输出五遍字符串“hello python”。（使用两种方法）\n",
    "\n",
    "4.输入一个字符串（至少10个元素），输出第3，5，8个元素以及打印两遍字符串。\n",
    "\n",
    "5.输入两个字符串（分行输入且每个至少10个元素），在第一个字符串的第5，6个元素之间插入第二个字符串。\n",
    "\n",
    "6.输入两个字符串（分行输入），在不用print（str1，str2）的情况下使得两个字符串之间有空格。\n",
    "\n",
    "7.输入一行形如“x–x–x”的字符串其中x代表的是数字(可以用int(a)将字符a转化成数字)，如果第一个数字加上第二个数字的两倍等于第三个数字那么就输出“right”,否则输出“false”，例如：\n",
    "\n",
    "8.分行输入两个字符串，判断“a”是否在第一个字符串中，如果在输出第一个字符串，如果不在输出第二个字符串，例如：\n"
   ]
  },
  {
   "cell_type": "code",
   "execution_count": 6,
   "metadata": {},
   "outputs": [
    {
     "name": "stdout",
     "output_type": "stream",
     "text": [
      "l o t o y h\n",
      "True False\n",
      "hello pythonhello pythonhello pythonhello pythonhello python\n",
      "hello python\n",
      "hello python\n",
      "hello python\n",
      "hello python\n",
      "hello python\n"
     ]
    }
   ],
   "source": [
    "#1\n",
    "s = 'hello python'\n",
    "print(s[2], s[4], s[8], s[4], s[7], s[9])\n",
    "#2\n",
    "print('llo' in s, 'hzq' in s)\n",
    "#3\n",
    "print(s*5)\n",
    "for _ in range(5):\n",
    "    print(s)\n",
    "#4\n",
    "s = input('请输入一个字符串:')\n",
    "print(s[2],s[4],s[7],s*2)\n",
    "#5\n",
    "s1 = list(input('请输入一个字符串:'))\n",
    "s2 = input('请输入一个字符串:')\n",
    "s1.insert(5,s2)\n",
    "print(''.join(s1))\n",
    "#6\n",
    "s1 = input('请输入一个字符串:')\n",
    "s2 = input('请输入一个字符串:')\n",
    "print(f'{s1} {s2}')\n",
    "#7\n",
    "s = input('请输入S-S-S:')\n",
    "a,b,c = map(int,s.split('-'))\n",
    "print(a+b*2 == c)\n",
    "#8\n",
    "s1 = input('请输入一个字符串:')\n",
    "s2 = input('请输入一个字符串:')\n",
    "print(s1 if 'a' in s1 else s2)"
   ]
  },
  {
   "cell_type": "code",
   "execution_count": 1,
   "metadata": {},
   "outputs": [
    {
     "name": "stdout",
     "output_type": "stream",
     "text": [
      "True\n"
     ]
    }
   ],
   "source": [
    "s = input('请输入S-S-S:')\n",
    "a,b,c = map(int,s.split('-'))\n",
    "print(a+b*2 == c)"
   ]
  },
  {
   "cell_type": "code",
   "execution_count": 20,
   "metadata": {},
   "outputs": [
    {
     "data": {
      "text/plain": [
       "('1', '2', '3')"
      ]
     },
     "execution_count": 20,
     "metadata": {},
     "output_type": "execute_result"
    }
   ],
   "source": [
    "l=['1', '2', '3']\n",
    "a,b,c=*l,\n",
    "a,b,c"
   ]
  },
  {
   "cell_type": "code",
   "execution_count": null,
   "metadata": {},
   "outputs": [],
   "source": []
  }
 ],
 "metadata": {
  "interpreter": {
   "hash": "aee8b7b246df8f9039afb4144a1f6fd8d2ca17a180786b69acc140d282b71a49"
  },
  "kernelspec": {
   "display_name": "Python 3.8.10 64-bit",
   "language": "python",
   "name": "python3"
  },
  "language_info": {
   "codemirror_mode": {
    "name": "ipython",
    "version": 3
   },
   "file_extension": ".py",
   "mimetype": "text/x-python",
   "name": "python",
   "nbconvert_exporter": "python",
   "pygments_lexer": "ipython3",
   "version": "3.8.10"
  },
  "orig_nbformat": 4
 },
 "nbformat": 4,
 "nbformat_minor": 2
}
