{
 "cells": [
  {
   "cell_type": "markdown",
   "metadata": {},
   "source": [
    "基础题：\n",
    "1. 输出“hello python”\n",
    "2. 输出自己名字拼音的缩写\n",
    "3. 输出“123+234=”以及算式的答案\n",
    "提高题：\n",
    "1. 输出高度为4，底为7，“*”为边长的空心三角形，如\n",
    "   *     \n",
    "  * *\n",
    " *   *\n",
    "*******\n",
    "2. 输出一棵树，如\n",
    "   *     \n",
    "  ***\n",
    " *****\n",
    "*******\n",
    "  **\n",
    "  **\n",
    "1. 输出用星星组成HZNU的形状，如\n",
    "*     *      *****      *    *      *     *                                              \n",
    "*     *         *       * *  *      *     *                  \n",
    "*******        *        *  * *      *     *    \n",
    "*     *       *         *   **      *     *\n",
    "*     *      *****      *    *       *****"
   ]
  },
  {
   "cell_type": "code",
   "execution_count": 5,
   "metadata": {},
   "outputs": [
    {
     "name": "stdout",
     "output_type": "stream",
     "text": [
      "hello python\n",
      "yan miaolin\n",
      "123+234=357\n",
      "\n",
      "   *     \n",
      "  * *\n",
      " *   *\n",
      "*******\n",
      "\n",
      "   \n",
      "   *     \n",
      "  ***\n",
      " *****\n",
      "*******\n",
      "  **\n",
      "  **\n",
      "\n",
      "\n",
      "*     *      *****      *    *      *     *                                              \n",
      "*     *         *       * *  *      *     *                  \n",
      "*******        *        *  * *      *     *    \n",
      "*     *       *         *   **      *     *\n",
      "*     *      *****      *    *       *****\n",
      "\n"
     ]
    }
   ],
   "source": [
    "#1\n",
    "print('hello python')\n",
    "print('yml')\n",
    "print(f'123+234={123+234}')\n",
    "print('''\n",
    "   *     \n",
    "  * *\n",
    " *   *\n",
    "*******\n",
    "''')\n",
    "print('''   \n",
    "   *     \n",
    "  ***\n",
    " *****\n",
    "*******\n",
    "  **\n",
    "  **\n",
    "''')\n",
    "print('''\n",
    "*     *      *****      *    *      *     *                                              \n",
    "*     *         *       * *  *      *     *                  \n",
    "*******        *        *  * *      *     *    \n",
    "*     *       *         *   **      *     *\n",
    "*     *      *****      *    *       *****\n",
    "''')"
   ]
  },
  {
   "cell_type": "code",
   "execution_count": null,
   "metadata": {},
   "outputs": [],
   "source": []
  }
 ],
 "metadata": {
  "interpreter": {
   "hash": "aee8b7b246df8f9039afb4144a1f6fd8d2ca17a180786b69acc140d282b71a49"
  },
  "kernelspec": {
   "display_name": "Python 3.8.10 64-bit",
   "language": "python",
   "name": "python3"
  },
  "language_info": {
   "codemirror_mode": {
    "name": "ipython",
    "version": 3
   },
   "file_extension": ".py",
   "mimetype": "text/x-python",
   "name": "python",
   "nbconvert_exporter": "python",
   "pygments_lexer": "ipython3",
   "version": "3.8.10"
  },
  "orig_nbformat": 4
 },
 "nbformat": 4,
 "nbformat_minor": 2
}
