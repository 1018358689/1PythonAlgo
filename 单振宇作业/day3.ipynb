{
 "cells": [
  {
   "cell_type": "markdown",
   "metadata": {},
   "source": [
    "1. 输入一个整数，并将其值乘以2再输出，例如\n",
    "\n",
    "2. 输入两个整数（一行输入一个整数），输出他们加减乘除的结果，例如\n",
    "\n",
    "3. 输入两个整数，输出其中较大的那个数，例如\n",
    "\n",
    "4. 如果老师决定我们上完课有一个小活动，让你去买饮料和零食，已知饮料5元/瓶，零食7元/包，需要饮料15瓶，零食10包，输出一共需要多少钱？\n",
    "\n",
    "5. 如果老师决定我们上完课有一个小活动，让你去买饮料和零食，已知饮料5元/瓶，零食7元/包，输入你想买的数量后，输出一共需要多少钱。例如\n",
    "\n",
    "6. 如果老师决定我们上完课有一个小活动，并给你300元让你去买饮料和零食，已知饮料5元/瓶，零食7元/包，分行输入你想买的数量后，输出你还剩多少钱（如果是负数，则输出“no money”），例如\n",
    "\n",
    "7. 小徐老师去旅游的途中在休息时发现亭子上面有对联，有些对联正着读反着读都是一样的，我们称这样的对联为回文联。现在小徐老师对数字下了一个定义：如果一个数字正着反着都是一样的，那么称其为回文数字。输入一个三位数，判断他是不是回文数字，如果是输出“yes”，不是则输出“no”，例如\n",
    "\n",
    "8. 奇迹暖暖的衣服等级有A,B两个等级。A等为1分，B等2分。输入2个字母（一行一个），输出这2个字母分值的总和。例如\n",
    "\n",
    "9. 老师们有一个群叫做我爱睡觉觉，里面有一个闹钟每天早上都会叫醒老师，老师醒来以后就会在群里发一句“早上好”以此来排队形，但是有一个破坏分子小周老师每有两个老师发“早上好”就会发一句“想睡觉”破坏队形，请问当天群里第n（需要输入的数字）条消息会是小周老师发的吗？如果是那么就代表小周老师破坏了队形。（能破坏就输出“Oh no！”，不能就输出“We win！”）。\n"
   ]
  },
  {
   "cell_type": "code",
   "execution_count": 2,
   "metadata": {},
   "outputs": [
    {
     "name": "stdout",
     "output_type": "stream",
     "text": [
      "4\n",
      "7 -1 12 0.75\n"
     ]
    }
   ],
   "source": [
    "#1\n",
    "print(eval(input('请输入一个整数:'))*2)\n",
    "#2\n",
    "a = eval(input('请输入第一个整数:'))\n",
    "b=eval(input('请输入第二个整数:'))\n",
    "print(a+b,a-b,a*b,a/b)\n",
    "#3\n",
    "a = eval(input('请输入第一个整数:'))\n",
    "b=eval(input('请输入第二个整数:'))\n",
    "print(max(a,b))"
   ]
  },
  {
   "cell_type": "code",
   "execution_count": 4,
   "metadata": {},
   "outputs": [
    {
     "name": "stdout",
     "output_type": "stream",
     "text": [
      "5\n"
     ]
    }
   ],
   "source": [
    "#4\n",
    "print(5 * 15 + 7 * 10)\n",
    "#5\n",
    "a = eval(input('请输入需要多少饮料:'))\n",
    "b = eval(input('请输入需要多少零食:'))\n",
    "print(5 * a + 7 * b)\n",
    "#6\n",
    "a = eval(input('请输入需要多少饮料:'))\n",
    "b = eval(input('请输入需要多少零食:'))\n",
    "r = 300 - 5 * a + 7 * b\n",
    "print(r if r >= 0 else 'no money')\n",
    "#7\n",
    "a = input('请输入一个整数:')\n",
    "print(a == a[::-1])\n",
    "#8\n",
    "a =1 if  input('请输入第一个字母:')=='A' else 2\n",
    "b=1 if input('请输入第二个字母:')=='A' else 2\n",
    "print(a+b)\n",
    "#9\n",
    "print(eval(input('请输入一个整数:'))%3==0)"
   ]
  },
  {
   "cell_type": "code",
   "execution_count": null,
   "metadata": {},
   "outputs": [],
   "source": []
  }
 ],
 "metadata": {
  "interpreter": {
   "hash": "aee8b7b246df8f9039afb4144a1f6fd8d2ca17a180786b69acc140d282b71a49"
  },
  "kernelspec": {
   "display_name": "Python 3.8.10 64-bit",
   "language": "python",
   "name": "python3"
  },
  "language_info": {
   "codemirror_mode": {
    "name": "ipython",
    "version": 3
   },
   "file_extension": ".py",
   "mimetype": "text/x-python",
   "name": "python",
   "nbconvert_exporter": "python",
   "pygments_lexer": "ipython3",
   "version": "3.8.10"
  },
  "orig_nbformat": 4
 },
 "nbformat": 4,
 "nbformat_minor": 2
}
