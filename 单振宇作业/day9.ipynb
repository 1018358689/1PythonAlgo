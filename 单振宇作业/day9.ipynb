{
 "cells": [
  {
   "cell_type": "markdown",
   "metadata": {},
   "source": [
    "1、输入一个字符串（含有五个字符），将字符串中的字符按顺序一个一个输出，每行输出一个字符。\n",
    "\n",
    "2、输入一个字符串（含有五个字符），将字符串中的字符按逆序输出（比如输入一个字符串“abcde”，它的逆序就是“edcba”），每行输出一个字符。\n",
    "\n",
    "3、输入一个整数i，输出1 ~ i（包括i）之间的所有整数的总和。\n",
    "\n",
    "4、输入一个整数i，输出1 ~ i（不包括i）之间所有的奇数。\n",
    "\n",
    "5、输入两个整数a，b，输出a ~ b之间所有的整数（包括a，b）。\n",
    "\n",
    "6、输入两个整数a，b，输出a ~ b之间所有整数的总和（包括a，b）。\n",
    "\n",
    "7、输入一个字符串（含有10个字符），将字符串中下标为奇数的字符按顺序输出，一行输出一个字符。\n",
    "\n",
    "8、输入一个整数i，输出1 - i（包括i）之间所有奇数的总和。\n"
   ]
  },
  {
   "cell_type": "code",
   "execution_count": null,
   "metadata": {},
   "outputs": [],
   "source": [
    "#1\n",
    "def f1(s):\n",
    "    for i in s:\n",
    "        print(i)\n",
    "\n",
    "\n",
    "#2\n",
    "def f2(s):\n",
    "    for i in s[::-1]:\n",
    "        print(i)\n",
    "\n",
    "\n",
    "#3\n",
    "def f3(num):\n",
    "    print(sum(range(1, num + 1)))\n",
    "\n",
    "\n",
    "#4\n",
    "def f4(num):\n",
    "    print([i for i in range(1, num + 1) if i % 2])\n",
    "\n",
    "\n",
    "#5\n",
    "def f5(n1, n2):\n",
    "    print(list(range(n1, n2 + 1)))\n",
    "\n",
    "\n",
    "#6\n",
    "def f6(n1, n2):\n",
    "    print(sum(range(n1, n2 + 1)))\n",
    "\n",
    "\n",
    "#7\n",
    "def f7(s):\n",
    "    for i, j in enumerate(s):\n",
    "        if i % 2: print(j)\n",
    "\n",
    "\n",
    "#8\n",
    "def f8(num):\n",
    "    print(sum(i for i in range(1, num + 1) if i % 2))\n"
   ]
  }
 ],
 "metadata": {
  "interpreter": {
   "hash": "aee8b7b246df8f9039afb4144a1f6fd8d2ca17a180786b69acc140d282b71a49"
  },
  "kernelspec": {
   "display_name": "Python 3.8.10 64-bit",
   "language": "python",
   "name": "python3"
  },
  "language_info": {
   "codemirror_mode": {
    "name": "ipython",
    "version": 3
   },
   "file_extension": ".py",
   "mimetype": "text/x-python",
   "name": "python",
   "nbconvert_exporter": "python",
   "pygments_lexer": "ipython3",
   "version": "3.8.10"
  },
  "orig_nbformat": 4
 },
 "nbformat": 4,
 "nbformat_minor": 2
}
