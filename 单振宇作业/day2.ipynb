{
 "cells": [
  {
   "cell_type": "markdown",
   "metadata": {},
   "source": [
    "基础题：\n",
    "1. 给定两个变量a、b，值分别为123和12，判断a+b和a、a/b和a-b的大小关系。\n",
    "2. 给定两个变量a、b，值分别为123和129，输出他们加减乘除的结果。\n",
    "3. 求1234*763-（123+123）*285/3721的运算结果。\n",
    "提高题：\n",
    "4. 已知摄氏温度转换为华氏温度的公式为F=C*9/5+32,C为摄氏温度，F为华氏温度，编程实现将摄氏温度26度转化为华氏温度值输出。\n",
    "5. 三天三辆拖拉机耕地90公顷，照这样计算，5台拖拉机6天耕地多少公顷？\n",
    "6. 自己想一个四位数字，求他的各位数字之和以及各位数字之积，例如，输入1234输出10 24    (这个程序需要用到整除操作“//”：例如，100//7=14)\n",
    "样例代码：\n",
    "\n",
    "\n",
    "\n",
    "\n",
    "\n",
    "请大家在__上填入合适的算术运算符使他可以正确运行。\n"
   ]
  },
  {
   "cell_type": "code",
   "execution_count": 12,
   "metadata": {},
   "outputs": [
    {
     "name": "stdout",
     "output_type": "stream",
     "text": [
      "True\n",
      "True\n",
      "252 -6 15867 0.9534883720930233\n",
      "941523.158290782\n",
      "78.8\n",
      "300.0\n",
      "23\n",
      "576\n"
     ]
    },
    {
     "data": {
      "text/plain": [
       "(23, 576)"
      ]
     },
     "execution_count": 12,
     "metadata": {},
     "output_type": "execute_result"
    }
   ],
   "source": [
    "#1\n",
    "a, b = 123, 12\n",
    "print(a + b > a)\n",
    "print(a / b < a - b)\n",
    "#2\n",
    "a, b = 123, 129\n",
    "print(a + b, a - b, a * b, a / b)\n",
    "#3\n",
    "print(1234 * 763 - (123 + 123) * 285 / 3721)\n",
    "#4\n",
    "trans = lambda C: C * 9 / 5 + 32\n",
    "print(trans(26))\n",
    "#5\n",
    "print(90 / 3 / 3 * 6 * 5)\n",
    "#6\n",
    "from functools import reduce\n",
    "def f(num):\n",
    "    tolst = [int(n) for n in str(num)]\n",
    "    s = sum(tolst)\n",
    "    m = reduce(lambda x, y: x * y, tolst)\n",
    "    return s, m\n",
    "\n",
    "\n",
    "a = 4829\n",
    "b = a % 10\n",
    "c = a // 10 % 10\n",
    "d = a // 100 % 10\n",
    "e = a // 1000\n",
    "print(b + c + d + e)\n",
    "print(b * c * d * e)\n",
    "print(f(4829))"
   ]
  },
  {
   "cell_type": "code",
   "execution_count": 9,
   "metadata": {},
   "outputs": [
    {
     "data": {
      "text/plain": [
       "2"
      ]
     },
     "execution_count": 9,
     "metadata": {},
     "output_type": "execute_result"
    }
   ],
   "source": [
    "121//10%10"
   ]
  },
  {
   "cell_type": "code",
   "execution_count": null,
   "metadata": {},
   "outputs": [],
   "source": []
  }
 ],
 "metadata": {
  "interpreter": {
   "hash": "aee8b7b246df8f9039afb4144a1f6fd8d2ca17a180786b69acc140d282b71a49"
  },
  "kernelspec": {
   "display_name": "Python 3.8.10 64-bit",
   "language": "python",
   "name": "python3"
  },
  "language_info": {
   "codemirror_mode": {
    "name": "ipython",
    "version": 3
   },
   "file_extension": ".py",
   "mimetype": "text/x-python",
   "name": "python",
   "nbconvert_exporter": "python",
   "pygments_lexer": "ipython3",
   "version": "3.8.10"
  },
  "orig_nbformat": 4
 },
 "nbformat": 4,
 "nbformat_minor": 2
}
