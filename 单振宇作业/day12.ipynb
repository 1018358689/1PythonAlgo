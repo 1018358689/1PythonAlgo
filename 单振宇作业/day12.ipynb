{
 "cells": [
  {
   "cell_type": "markdown",
   "metadata": {},
   "source": [
    "1、一张纸的厚度大约是0.08mm，输出需要对折多少次之后能达到或者超过珠穆朗玛峰的高度（8848.13米）。\n",
    "2、 输出1-100之间能3整除的数的和。\n",
    "3、计算1-100之间不能被7整除的数的和\n",
    "4、输出一个边长为5的实心矩形。\n",
    "5、输出一个边长为5的空心矩形。\n",
    "6、斐波那契数列问题。已知有一行数字的前三个数字是1，1，2，接下来的数字中每个数字都是前两个数字的和，输入一个数字代表第几个数字，输出这个数字。\n",
    "7、输入两个整数，分别代表一个矩形的长和宽，输出这个矩形（实心）。\n",
    "8、输入两个整数，分别代表一个矩形的长和宽，输出这个矩形（空心）。"
   ]
  },
  {
   "cell_type": "code",
   "execution_count": 12,
   "metadata": {},
   "outputs": [
    {
     "name": "stdout",
     "output_type": "stream",
     "text": [
      "27\n",
      "1683\n",
      "4315\n",
      "*****\n",
      "*****\n",
      "*****\n",
      "*****\n",
      "*****\n",
      "*****\n",
      "*   *\n",
      "*   *\n",
      "*   *\n",
      "*****\n"
     ]
    },
    {
     "data": {
      "text/plain": [
       "2"
      ]
     },
     "execution_count": 12,
     "metadata": {},
     "output_type": "execute_result"
    }
   ],
   "source": [
    "#1\n",
    "i = 0.08\n",
    "cnt = 0\n",
    "while i <= 8848.13 * 1000:\n",
    "    i *= 2\n",
    "    cnt += 1\n",
    "print(cnt)\n",
    "#2\n",
    "print(sum(i for i in range(1, 101) if not i % 3))\n",
    "#3\n",
    "print(sum(i for i in range(1, 101) if i % 7))\n",
    "#4\n",
    "for i in range(5):\n",
    "    print('*' * 5)\n",
    "#5\n",
    "for i in range(5):\n",
    "    if i == 0 or i == 4: print('*' * 5)\n",
    "    else: print('*' + ' ' * 3 + '*')\n",
    "\n",
    "\n",
    "#6\n",
    "# dp[i]=dp[i-1]+dp[i-2] dp>=3\n",
    "# dp[1]=1 ,dp[2]=1\n",
    "# 1,1,2,3,5\n",
    "def fib(num):\n",
    "    if num < 3: return 1\n",
    "    dp = [0] + [0] * num\n",
    "    dp[1] = dp[2] = 1\n",
    "    for i in range(3, num + 1):\n",
    "        dp[i] = dp[i - 1] + dp[i - 2]\n",
    "    return dp[num]\n",
    "\n",
    "\n",
    "#7\n",
    "def f(n1, n2):\n",
    "    for _ in range(n2):\n",
    "        print('*' * n1)\n",
    "\n",
    "\n",
    "#8\n",
    "def g(n1, n2):\n",
    "    for i in range(n2):\n",
    "        if i == 0 or i == n2 - 1: print('*' * n1)\n",
    "        else: print('*' + ' ' * (n1 - 2) + '*')\n"
   ]
  },
  {
   "cell_type": "code",
   "execution_count": null,
   "metadata": {},
   "outputs": [],
   "source": []
  }
 ],
 "metadata": {
  "interpreter": {
   "hash": "aee8b7b246df8f9039afb4144a1f6fd8d2ca17a180786b69acc140d282b71a49"
  },
  "kernelspec": {
   "display_name": "Python 3.8.10 64-bit",
   "language": "python",
   "name": "python3"
  },
  "language_info": {
   "codemirror_mode": {
    "name": "ipython",
    "version": 3
   },
   "file_extension": ".py",
   "mimetype": "text/x-python",
   "name": "python",
   "nbconvert_exporter": "python",
   "pygments_lexer": "ipython3",
   "version": "3.8.10"
  },
  "orig_nbformat": 4
 },
 "nbformat": 4,
 "nbformat_minor": 2
}
