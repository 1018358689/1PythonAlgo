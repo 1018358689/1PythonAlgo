{
 "cells": [
  {
   "cell_type": "markdown",
   "metadata": {},
   "source": [
    "1、输入两个字符串，再输入一个整数i，比较第一个字符串的第i个字符，和第二个字符串下标为i的字符的大小，哪个字符大就输出哪个字符。\n",
    "输入         输入\n",
    "qweert       abcdefg\n",
    "asdzxc       abcdefg\n",
    "4            5\n",
    "输出         输出\n",
    "z            f\n",
    "\n",
    "2、输入一个三位数，求这个整数每位数的和（使用字符串操作）\n",
    "输入          输入\n",
    "123           234\n",
    "输出          输出\n",
    "6             9\n",
    "\n",
    "3、输入一个字符串，将这个字符串的前三个字符和后三个字符连接起来输出（提示:加法操作）。\n",
    "输入          输入\n",
    "abcdefg       qweasdzxc\n",
    "输出          输出\n",
    "abcefg        qwezxc\n",
    "\n",
    "    \n",
    "4、输入一整数，判断这个整数中是否含有数字4，如果有输出“我想吃糖”，没有输出“没糖吃”。\n",
    "输入             输入\n",
    "1645237          12379\n",
    "输出             输出\n",
    "我想吃糖         没糖吃\n",
    "   \n",
    "5、假如学生学号是一个五位数，当这个五位数满足式子：（第一个数字*2+第二个数字*第三个数字）//第四个数字%7等于第五个数）的时候，就输出”good number！”，否则输出”It is too bad！”\n",
    "输入              输入\n",
    "12345\t         75829\n",
    "输出              输出\n",
    "It is too bad！   It is too bad！   \n",
    "\n",
    "6、输入一个字符串代表一个文件名（带后缀名），输出这个文件的文件类型。（只有三种后缀名，对应三种文件类型。）（.doc->Word，xls->Excel， ppt->PowerPoint）（利用负数索引）\n",
    "输入         输入      输入\n",
    "a.doc        b.xls       c.ppt\n",
    "输出         输出      输出\n",
    "Word        Excel\t   Powerpoint\n",
    "\n",
    "7、夏天到了，出门吃饭变成了一件十分痛苦的事情。每到周末，小周老师就会宅在寝室点外卖。但是，每次他都要选择半天，太浪费时间。于是他就列了一个表格，每次都按顺序点。快到月底了，小周老师想请你帮他计算一下他点外卖的花费。（利用负数索引和int（a））\n",
    "    输入有三行，每一行包括（外卖名加一个空格加外卖价格），其中外卖价格是个两位数，输出这三个外卖的总价。\n",
    "输入\n",
    "外卖一 12\n",
    "外卖二 12\n",
    "外卖三 12\n",
    "输出\n",
    "36\n",
    "\n"
   ]
  },
  {
   "cell_type": "code",
   "execution_count": 7,
   "metadata": {},
   "outputs": [
    {
     "name": "stdout",
     "output_type": "stream",
     "text": [
      "17\n"
     ]
    }
   ],
   "source": [
    "#1\n",
    "def f1(s1, s2, i):\n",
    "    print(max(s1[i - 1], s2[i - 1]))\n",
    "\n",
    "\n",
    "#2\n",
    "def f2(num):\n",
    "    print(sum(map(int, str(num))))\n",
    "\n",
    "\n",
    "#3\n",
    "def f3(s):\n",
    "    print(s[:3] + s[-3:])\n",
    "\n",
    "\n",
    "#4\n",
    "def f4(num):\n",
    "    print('4' in str(num) and '我想吃糖' or '没糖吃')\n",
    "\n",
    "\n",
    "#5\n",
    "# （第一个数字*2+第二个数字*第三个数字）//第四个数字%7等于第五个数）\n",
    "def f5(num):\n",
    "    numlst = map(int, str(num))\n",
    "    print('good number!' if (numlst[0] * 2 + numlst[1] * numlst[2]) // numlst[3] %\n",
    "          7 == numlst[4] else 'It is too bad!')\n",
    "\n",
    "\n",
    "#6\n",
    "def f6(f):\n",
    "    su = f.split('.')[-1]\n",
    "    if su == 'doc': print('Word')\n",
    "    elif su == 'xls': print('Excel')\n",
    "    else: print('Powerpoint')\n",
    "#7\n",
    "def f7(s1,s2,s3):\n",
    "    print(sum(int(i.split()[-1]) for i in (s1,s2,s3)))"
   ]
  },
  {
   "cell_type": "code",
   "execution_count": 5,
   "metadata": {},
   "outputs": [
    {
     "data": {
      "text/plain": [
       "['ss', '7']"
      ]
     },
     "execution_count": 5,
     "metadata": {},
     "output_type": "execute_result"
    }
   ],
   "source": [
    "'ss 7'.split()"
   ]
  },
  {
   "cell_type": "code",
   "execution_count": null,
   "metadata": {},
   "outputs": [],
   "source": []
  }
 ],
 "metadata": {
  "interpreter": {
   "hash": "aee8b7b246df8f9039afb4144a1f6fd8d2ca17a180786b69acc140d282b71a49"
  },
  "kernelspec": {
   "display_name": "Python 3.8.10 64-bit",
   "language": "python",
   "name": "python3"
  },
  "language_info": {
   "codemirror_mode": {
    "name": "ipython",
    "version": 3
   },
   "file_extension": ".py",
   "mimetype": "text/x-python",
   "name": "python",
   "nbconvert_exporter": "python",
   "pygments_lexer": "ipython3",
   "version": "3.8.10"
  },
  "orig_nbformat": 4
 },
 "nbformat": 4,
 "nbformat_minor": 2
}
